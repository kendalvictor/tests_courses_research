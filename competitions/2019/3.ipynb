{
 "cells": [
  {
   "cell_type": "code",
   "execution_count": 2,
   "metadata": {},
   "outputs": [
    {
     "name": "stdout",
     "output_type": "stream",
     "text": [
      "Requirement already satisfied: lightgbm in /home/villacorta/anaconda3/lib/python3.6/site-packages (2.2.0)\n",
      "Requirement already satisfied: scipy in /home/villacorta/anaconda3/lib/python3.6/site-packages (from lightgbm) (1.1.0)\n",
      "Requirement already satisfied: scikit-learn in /home/villacorta/anaconda3/lib/python3.6/site-packages (from lightgbm) (0.19.1)\n",
      "Requirement already satisfied: numpy in /home/villacorta/anaconda3/lib/python3.6/site-packages (from lightgbm) (1.15.4)\n"
     ]
    }
   ],
   "source": [
    "1!pip install lightgbm\n",
    "\n",
    "# EXTRA MILLE"
   ]
  },
  {
   "cell_type": "code",
   "execution_count": 17,
   "metadata": {},
   "outputs": [
    {
     "name": "stdout",
     "output_type": "stream",
     "text": [
      "Collecting catboost\n",
      "\u001b[?25l  Downloading https://files.pythonhosted.org/packages/2f/c4/f130237b24efd1941cb685da12496675a90045129b66774751f1bf629dfd/catboost-0.14.2-cp36-none-manylinux1_x86_64.whl (60.6MB)\n",
      "\u001b[K    100% |████████████████████████████████| 60.6MB 342kB/s \n",
      "\u001b[?25hRequirement already satisfied: numpy>=1.11.1 in /home/villacorta/anaconda3/lib/python3.6/site-packages (from catboost) (1.15.4)\n",
      "Requirement already satisfied: graphviz in /home/villacorta/anaconda3/lib/python3.6/site-packages (from catboost) (0.8.1)\n",
      "Requirement already satisfied: pandas>=0.19.1 in /home/villacorta/anaconda3/lib/python3.6/site-packages (from catboost) (0.23.4)\n",
      "Requirement already satisfied: enum34 in /home/villacorta/anaconda3/lib/python3.6/site-packages (from catboost) (1.1.6)\n",
      "Requirement already satisfied: six in /home/villacorta/anaconda3/lib/python3.6/site-packages (from catboost) (1.12.0)\n",
      "Requirement already satisfied: python-dateutil>=2.5.0 in /home/villacorta/anaconda3/lib/python3.6/site-packages (from pandas>=0.19.1->catboost) (2.7.5)\n",
      "Requirement already satisfied: pytz>=2011k in /home/villacorta/anaconda3/lib/python3.6/site-packages (from pandas>=0.19.1->catboost) (2018.9)\n",
      "Installing collected packages: catboost\n",
      "Successfully installed catboost-0.14.2\n"
     ]
    }
   ],
   "source": [
    "!pip install catboost"
   ]
  },
  {
   "cell_type": "code",
   "execution_count": 20,
   "metadata": {},
   "outputs": [],
   "source": [
    "\n",
    "import pandas as pd\n",
    "from sklearn import preprocessing\n",
    "import numpy as np\n",
    "import gc\n",
    "import lightgbm as lgb\n",
    "\n",
    "from scipy import sparse\n",
    "from scipy.sparse.linalg import svds\n",
    "\n",
    "from sklearn.metrics import roc_auc_score\n",
    "\n",
    "from scipy.sparse import csr_matrix\n",
    "\n",
    "from sklearn.model_selection import KFold\n",
    "from sklearn.model_selection import StratifiedKFold\n",
    "from sklearn.metrics import roc_auc_score\n",
    "from sklearn.metrics import log_loss\n",
    "from sklearn.metrics import precision_score\n",
    "from sklearn.metrics import recall_score\n",
    "\n",
    "from catboost import CatBoostClassifier\n"
   ]
  },
  {
   "cell_type": "code",
   "execution_count": 21,
   "metadata": {},
   "outputs": [],
   "source": [
    "train=pd.read_csv(\"data_train.csv\",sep=\",\",encoding=\"ISO-8859-1\")\n",
    "test=pd.read_csv(\"data_test.csv\",sep=\",\",encoding=\"ISO-8859-1\")"
   ]
  },
  {
   "cell_type": "code",
   "execution_count": 22,
   "metadata": {},
   "outputs": [
    {
     "data": {
      "text/plain": [
       "SIN BECA                                154995\n",
       "CONVENIO POLICIA NACIONAL                37308\n",
       "DSCTO. PADRES CON VARIOS HIJOS           16246\n",
       "BECA RENDIMIENTO Y STCION. ECONOMICA     12194\n",
       "CONVENIO EJERCITO PERUANO                 9228\n",
       "CONVENIO FUERZA AEREA DEL PERU            7529\n",
       "DSCTO. HIJOS DE GRADUADOS DE URP          7239\n",
       "CONVENIO MARINA DE GUERRA DEL PERU        5475\n",
       "HIJO DE TRABAJADOR ADMINISTRATIVO         2487\n",
       "DEPORTITAS CALIFICADOS                    1039\n",
       "HIJO DE DOCENTE TIEMPO PARCIAL             955\n",
       "BECA ORFANDAD                              876\n",
       "HIJO DE DOCENTE TIEMPO COMPLETO            384\n",
       "BECA PRIMEROS PUESTOS REGULAR              129\n",
       "TRABAJADOR ADMINISTRATIVO                  110\n",
       "BECA_HIJO TRAB_JUBILADO                      7\n",
       "CONVENIO HOSP.DA.CARRION                     7\n",
       "Name: TIPO_BECA, dtype: int64"
      ]
     },
     "execution_count": 22,
     "metadata": {},
     "output_type": "execute_result"
    }
   ],
   "source": [
    "train[\"TIPO_BECA\"].value_counts()"
   ]
  },
  {
   "cell_type": "code",
   "execution_count": 23,
   "metadata": {},
   "outputs": [
    {
     "data": {
      "text/plain": [
       "256215"
      ]
     },
     "execution_count": 23,
     "metadata": {},
     "output_type": "execute_result"
    }
   ],
   "source": [
    "len(train)"
   ]
  },
  {
   "cell_type": "code",
   "execution_count": 24,
   "metadata": {},
   "outputs": [
    {
     "data": {
      "text/plain": [
       "256215"
      ]
     },
     "execution_count": 24,
     "metadata": {},
     "output_type": "execute_result"
    }
   ],
   "source": [
    "len(train[\"COD_ALUMNO\"].unique())"
   ]
  },
  {
   "cell_type": "code",
   "execution_count": 25,
   "metadata": {},
   "outputs": [
    {
     "data": {
      "text/html": [
       "<div>\n",
       "<style scoped>\n",
       "    .dataframe tbody tr th:only-of-type {\n",
       "        vertical-align: middle;\n",
       "    }\n",
       "\n",
       "    .dataframe tbody tr th {\n",
       "        vertical-align: top;\n",
       "    }\n",
       "\n",
       "    .dataframe thead th {\n",
       "        text-align: right;\n",
       "    }\n",
       "</style>\n",
       "<table border=\"1\" class=\"dataframe\">\n",
       "  <thead>\n",
       "    <tr style=\"text-align: right;\">\n",
       "      <th></th>\n",
       "      <th>COD_ALUMNO</th>\n",
       "      <th>SEMESTRE</th>\n",
       "      <th>TIPO_SEMESTRE</th>\n",
       "      <th>CARRERA</th>\n",
       "      <th>SITUACION_MATRICULA</th>\n",
       "      <th>CURSOSAPROBADOS</th>\n",
       "      <th>CURSOSDESAPROBADOS</th>\n",
       "      <th>CURSOSNSP</th>\n",
       "      <th>CREDAPROBADOS</th>\n",
       "      <th>CREDDESAPROBADOS</th>\n",
       "      <th>...</th>\n",
       "      <th>PROV_TRASLADO_EXTERNO</th>\n",
       "      <th>PERIODOS_DESERTO_ULT_SEM_URP</th>\n",
       "      <th>CARRERA_ACTUAL</th>\n",
       "      <th>PERIODOS_URP_CARRERA_ACTUAL_REGULAR</th>\n",
       "      <th>PERIODOS_URP_CARRERA_ACTUAL</th>\n",
       "      <th>PROVIENE_TRASLADO_INTERNO_CARRERA_ACTUAL</th>\n",
       "      <th>PRIMER_PERIODO_URP_CARRERA_ACTUAL</th>\n",
       "      <th>ULTIMO_PERIODO_URP_CARRERA_ACTUAL</th>\n",
       "      <th>SITUACION_EGRESO</th>\n",
       "      <th>TIPO_BECA</th>\n",
       "    </tr>\n",
       "  </thead>\n",
       "  <tbody>\n",
       "    <tr>\n",
       "      <th>0</th>\n",
       "      <td>URP000021</td>\n",
       "      <td>20181</td>\n",
       "      <td>REGULAR CICLO I</td>\n",
       "      <td>Turismo;Hoteleria y Gastronomia</td>\n",
       "      <td>0</td>\n",
       "      <td>0</td>\n",
       "      <td>0</td>\n",
       "      <td>0</td>\n",
       "      <td>0.0</td>\n",
       "      <td>0.0</td>\n",
       "      <td>...</td>\n",
       "      <td>0</td>\n",
       "      <td>21</td>\n",
       "      <td>Turismo;Hoteleria y Gastronomia</td>\n",
       "      <td>1</td>\n",
       "      <td>0</td>\n",
       "      <td>0</td>\n",
       "      <td>20081.0</td>\n",
       "      <td>20081.0</td>\n",
       "      <td>NO EGRESO</td>\n",
       "      <td>SIN BECA</td>\n",
       "    </tr>\n",
       "    <tr>\n",
       "      <th>1</th>\n",
       "      <td>URP000022</td>\n",
       "      <td>20182</td>\n",
       "      <td>REGULAR CICLO II</td>\n",
       "      <td>Turismo;Hoteleria y Gastronomia</td>\n",
       "      <td>0</td>\n",
       "      <td>0</td>\n",
       "      <td>0</td>\n",
       "      <td>0</td>\n",
       "      <td>0.0</td>\n",
       "      <td>0.0</td>\n",
       "      <td>...</td>\n",
       "      <td>0</td>\n",
       "      <td>21</td>\n",
       "      <td>Turismo;Hoteleria y Gastronomia</td>\n",
       "      <td>1</td>\n",
       "      <td>0</td>\n",
       "      <td>0</td>\n",
       "      <td>20081.0</td>\n",
       "      <td>20081.0</td>\n",
       "      <td>NO EGRESO</td>\n",
       "      <td>SIN BECA</td>\n",
       "    </tr>\n",
       "    <tr>\n",
       "      <th>2</th>\n",
       "      <td>URP000058</td>\n",
       "      <td>20181</td>\n",
       "      <td>REGULAR CICLO I</td>\n",
       "      <td>Contabilidad y Finanzas</td>\n",
       "      <td>0</td>\n",
       "      <td>0</td>\n",
       "      <td>0</td>\n",
       "      <td>0</td>\n",
       "      <td>0.0</td>\n",
       "      <td>0.0</td>\n",
       "      <td>...</td>\n",
       "      <td>0</td>\n",
       "      <td>13</td>\n",
       "      <td>Contabilidad y Finanzas</td>\n",
       "      <td>6</td>\n",
       "      <td>4</td>\n",
       "      <td>0</td>\n",
       "      <td>20081.0</td>\n",
       "      <td>20121.0</td>\n",
       "      <td>NO EGRESO</td>\n",
       "      <td>SIN BECA</td>\n",
       "    </tr>\n",
       "    <tr>\n",
       "      <th>3</th>\n",
       "      <td>URP000059</td>\n",
       "      <td>20182</td>\n",
       "      <td>REGULAR CICLO II</td>\n",
       "      <td>Contabilidad y Finanzas</td>\n",
       "      <td>0</td>\n",
       "      <td>0</td>\n",
       "      <td>0</td>\n",
       "      <td>0</td>\n",
       "      <td>0.0</td>\n",
       "      <td>0.0</td>\n",
       "      <td>...</td>\n",
       "      <td>0</td>\n",
       "      <td>13</td>\n",
       "      <td>Contabilidad y Finanzas</td>\n",
       "      <td>6</td>\n",
       "      <td>4</td>\n",
       "      <td>0</td>\n",
       "      <td>20081.0</td>\n",
       "      <td>20121.0</td>\n",
       "      <td>NO EGRESO</td>\n",
       "      <td>SIN BECA</td>\n",
       "    </tr>\n",
       "  </tbody>\n",
       "</table>\n",
       "<p>4 rows × 116 columns</p>\n",
       "</div>"
      ],
      "text/plain": [
       "  COD_ALUMNO  SEMESTRE     TIPO_SEMESTRE                          CARRERA  \\\n",
       "0  URP000021     20181   REGULAR CICLO I  Turismo;Hoteleria y Gastronomia   \n",
       "1  URP000022     20182  REGULAR CICLO II  Turismo;Hoteleria y Gastronomia   \n",
       "2  URP000058     20181   REGULAR CICLO I          Contabilidad y Finanzas   \n",
       "3  URP000059     20182  REGULAR CICLO II          Contabilidad y Finanzas   \n",
       "\n",
       "   SITUACION_MATRICULA  CURSOSAPROBADOS  CURSOSDESAPROBADOS  CURSOSNSP  \\\n",
       "0                    0                0                   0          0   \n",
       "1                    0                0                   0          0   \n",
       "2                    0                0                   0          0   \n",
       "3                    0                0                   0          0   \n",
       "\n",
       "   CREDAPROBADOS  CREDDESAPROBADOS    ...      PROV_TRASLADO_EXTERNO  \\\n",
       "0            0.0               0.0    ...                          0   \n",
       "1            0.0               0.0    ...                          0   \n",
       "2            0.0               0.0    ...                          0   \n",
       "3            0.0               0.0    ...                          0   \n",
       "\n",
       "   PERIODOS_DESERTO_ULT_SEM_URP                   CARRERA_ACTUAL  \\\n",
       "0                            21  Turismo;Hoteleria y Gastronomia   \n",
       "1                            21  Turismo;Hoteleria y Gastronomia   \n",
       "2                            13          Contabilidad y Finanzas   \n",
       "3                            13          Contabilidad y Finanzas   \n",
       "\n",
       "   PERIODOS_URP_CARRERA_ACTUAL_REGULAR  PERIODOS_URP_CARRERA_ACTUAL  \\\n",
       "0                                    1                            0   \n",
       "1                                    1                            0   \n",
       "2                                    6                            4   \n",
       "3                                    6                            4   \n",
       "\n",
       "   PROVIENE_TRASLADO_INTERNO_CARRERA_ACTUAL  \\\n",
       "0                                         0   \n",
       "1                                         0   \n",
       "2                                         0   \n",
       "3                                         0   \n",
       "\n",
       "   PRIMER_PERIODO_URP_CARRERA_ACTUAL  ULTIMO_PERIODO_URP_CARRERA_ACTUAL  \\\n",
       "0                            20081.0                            20081.0   \n",
       "1                            20081.0                            20081.0   \n",
       "2                            20081.0                            20121.0   \n",
       "3                            20081.0                            20121.0   \n",
       "\n",
       "   SITUACION_EGRESO  TIPO_BECA  \n",
       "0         NO EGRESO   SIN BECA  \n",
       "1         NO EGRESO   SIN BECA  \n",
       "2         NO EGRESO   SIN BECA  \n",
       "3         NO EGRESO   SIN BECA  \n",
       "\n",
       "[4 rows x 116 columns]"
      ]
     },
     "execution_count": 25,
     "metadata": {},
     "output_type": "execute_result"
    }
   ],
   "source": [
    "test.head(4)"
   ]
  },
  {
   "cell_type": "code",
   "execution_count": 26,
   "metadata": {},
   "outputs": [
    {
     "data": {
      "text/plain": [
       "126"
      ]
     },
     "execution_count": 26,
     "metadata": {},
     "output_type": "execute_result"
    }
   ],
   "source": [
    "len(train.columns)"
   ]
  },
  {
   "cell_type": "code",
   "execution_count": 27,
   "metadata": {},
   "outputs": [
    {
     "data": {
      "text/plain": [
       "116"
      ]
     },
     "execution_count": 27,
     "metadata": {},
     "output_type": "execute_result"
    }
   ],
   "source": [
    "len(test.columns)"
   ]
  },
  {
   "cell_type": "code",
   "execution_count": 28,
   "metadata": {},
   "outputs": [
    {
     "data": {
      "text/plain": [
       "False    256215\n",
       "Name: COD_ALUMNO, dtype: int64"
      ]
     },
     "execution_count": 28,
     "metadata": {},
     "output_type": "execute_result"
    }
   ],
   "source": [
    "train[\"COD_ALUMNO\"].isin(test[\"COD_ALUMNO\"]).value_counts()"
   ]
  },
  {
   "cell_type": "code",
   "execution_count": 29,
   "metadata": {},
   "outputs": [
    {
     "data": {
      "text/plain": [
       "20182    50554\n",
       "20190    16592\n",
       "20172    12878\n",
       "20162    12664\n",
       "20181    12432\n",
       "20152    11148\n",
       "20142    10885\n",
       "20141     9993\n",
       "20161     9303\n",
       "20171     9236\n",
       "20131     8944\n",
       "20151     8741\n",
       "20132     8170\n",
       "20121     7358\n",
       "20111     7052\n",
       "20122     6931\n",
       "20102     6640\n",
       "20112     6601\n",
       "20101     6493\n",
       "20091     5300\n",
       "20092     4384\n",
       "20082     3921\n",
       "20081     2304\n",
       "20160     1288\n",
       "20180     1275\n",
       "20150     1211\n",
       "20081     1140\n",
       "20140     1075\n",
       "20170     1051\n",
       "20120     1016\n",
       "         ...  \n",
       "20141      455\n",
       "20152      415\n",
       "20091      371\n",
       "20142      350\n",
       "20102      312\n",
       "20090      291\n",
       "20092      264\n",
       "20151      231\n",
       "20172      229\n",
       "20112      228\n",
       "20182      227\n",
       "20101      222\n",
       "20161      215\n",
       "20111      187\n",
       "20162      164\n",
       "20181      148\n",
       "20121      114\n",
       "20171      109\n",
       "20190       96\n",
       "20130       81\n",
       "20180       80\n",
       "20090       60\n",
       "20150       42\n",
       "20100       40\n",
       "20140       36\n",
       "20170       36\n",
       "20110       30\n",
       "20160       30\n",
       "20120       20\n",
       "NINGU        2\n",
       "Name: SEM_NOTAS_HIST_ULTIMO_CARRERA, Length: 67, dtype: int64"
      ]
     },
     "execution_count": 29,
     "metadata": {},
     "output_type": "execute_result"
    }
   ],
   "source": [
    "train[\"SEM_NOTAS_HIST_ULTIMO_CARRERA\"].value_counts()"
   ]
  },
  {
   "cell_type": "code",
   "execution_count": 30,
   "metadata": {},
   "outputs": [
    {
     "data": {
      "text/plain": [
       "20172    21075\n",
       "20171    20586\n",
       "20162    19814\n",
       "20161    19422\n",
       "20152    18577\n",
       "20151    18065\n",
       "20142    17214\n",
       "20141    16704\n",
       "20132    15368\n",
       "20131    14735\n",
       "20122    13222\n",
       "20121    12450\n",
       "20112    10758\n",
       "20111     9814\n",
       "20102     7860\n",
       "20101     6874\n",
       "20092     5106\n",
       "20091     4242\n",
       "20082     2655\n",
       "20081     1674\n",
       "Name: SEMESTRE, dtype: int64"
      ]
     },
     "execution_count": 30,
     "metadata": {},
     "output_type": "execute_result"
    }
   ],
   "source": [
    "train[\"SEMESTRE\"].value_counts()"
   ]
  },
  {
   "cell_type": "code",
   "execution_count": 31,
   "metadata": {},
   "outputs": [],
   "source": [
    "train[\"SEMESTRE_FASE\"]=(train[\"SEMESTRE\"])%10\n",
    "\n",
    "test[\"SEMESTRE_FASE\"]=(test[\"SEMESTRE\"])%10"
   ]
  },
  {
   "cell_type": "code",
   "execution_count": 32,
   "metadata": {},
   "outputs": [],
   "source": [
    "\n",
    "\n",
    "train.loc[train[\"SEM_NOTAS_HIST_INICIA_CARRERA\"]==\"NINGU\",\"SEM_NOTAS_HIST_INICIA_CARRERA\"]=np.nan\n",
    "\n",
    "train.loc[train[\"SEM_NOTAS_HIST_ULTIMO_CARRERA\"]==\"NINGU\",\"SEM_NOTAS_HIST_ULTIMO_CARRERA\"]=np.nan\n",
    "\n",
    "for x in train,test:\n",
    "\n",
    "    x.loc[x[\"SEM_NOTAS_HIST_INICIA_CARRERA\"].notnull(),\"SEM_NOTAS_HIST_INICIA_CARRERA_int\"]=    x.loc[x[\"SEM_NOTAS_HIST_INICIA_CARRERA\"].notnull(),\"SEM_NOTAS_HIST_INICIA_CARRERA\"].astype(int)\n",
    "    \n",
    "    x.loc[x[\"SEM_NOTAS_HIST_ULTIMO_CARRERA\"].notnull(),\"SEM_NOTAS_HIST_ULTIMO_CARRERA_int\"]=    x.loc[x[\"SEM_NOTAS_HIST_ULTIMO_CARRERA\"].notnull(),\"SEM_NOTAS_HIST_ULTIMO_CARRERA\"].astype(int)\n",
    "    \n",
    "    "
   ]
  },
  {
   "cell_type": "code",
   "execution_count": 33,
   "metadata": {},
   "outputs": [],
   "source": [
    "for x in train,test:\n",
    "\n",
    "    x[\"dur\"]=(x[\"SEM_NOTAS_HIST_ULTIMO_CARRERA_int\"]//10-x[\"SEM_NOTAS_HIST_INICIA_CARRERA_int\"]//10)*12+(x[\"SEM_NOTAS_HIST_ULTIMO_CARRERA_int\"]%10-x[\"SEM_NOTAS_HIST_INICIA_CARRERA_int\"]%10)"
   ]
  },
  {
   "cell_type": "code",
   "execution_count": 34,
   "metadata": {},
   "outputs": [],
   "source": [
    "for x in [\"SEM_NOTAS_HIST_ULTIMO_CARRERA_int\",\"SEM_NOTAS_HIST_INICIA_CARRERA_int\"]:\n",
    "    \n",
    "    train[x+\"_fase\"]=train[x]%10\n",
    "    test[x+\"_fase\"]=test[x]%10"
   ]
  },
  {
   "cell_type": "code",
   "execution_count": 35,
   "metadata": {},
   "outputs": [],
   "source": [
    "for x in train,test:\n",
    "\n",
    "    x[\"dur\"]=x.loc[x[\"dur\"].notnull(),\"dur\"].astype(int)"
   ]
  },
  {
   "cell_type": "code",
   "execution_count": 36,
   "metadata": {},
   "outputs": [],
   "source": [
    "s=[x for x in train.columns if \"BOLETA\" in x]"
   ]
  },
  {
   "cell_type": "code",
   "execution_count": 37,
   "metadata": {},
   "outputs": [
    {
     "data": {
      "text/plain": [
       "SITUACION_DEUDA_BOLETA_1     0\n",
       "SITUACION_DEUDA_BOLETA_2     0\n",
       "SITUACION_DEUDA_BOLETA_3     0\n",
       "SITUACION_DEUDA_BOLETA_4     0\n",
       "SITUACION_DEUDA_BOLETA_5     0\n",
       "SITUACION_DEUDA_BOLETA_6     0\n",
       "SITUACION_DEUDA_BOLETA_7     0\n",
       "SITUACION_DEUDA_BOLETA_8     0\n",
       "SITUACION_DEUDA_BOLETA_9     0\n",
       "SITUACION_DEUDA_BOLETA_10    0\n",
       "dtype: int64"
      ]
     },
     "execution_count": 37,
     "metadata": {},
     "output_type": "execute_result"
    }
   ],
   "source": [
    "train[s].isnull().sum()"
   ]
  },
  {
   "cell_type": "code",
   "execution_count": 38,
   "metadata": {},
   "outputs": [
    {
     "data": {
      "text/plain": [
       "count    256213.000000\n",
       "mean          8.260248\n",
       "std           5.070450\n",
       "min           0.000000\n",
       "25%           3.000000\n",
       "50%           9.000000\n",
       "75%          12.000000\n",
       "max          22.000000\n",
       "Name: PERIODOS_URP_REGULAR, dtype: float64"
      ]
     },
     "execution_count": 38,
     "metadata": {},
     "output_type": "execute_result"
    }
   ],
   "source": [
    "train[\"PERIODOS_URP_REGULAR\"].describe()"
   ]
  },
  {
   "cell_type": "code",
   "execution_count": 39,
   "metadata": {},
   "outputs": [
    {
     "data": {
      "text/plain": [
       "count    44072.000000\n",
       "mean         6.024460\n",
       "std          4.486279\n",
       "min          0.000000\n",
       "25%          2.000000\n",
       "50%          5.000000\n",
       "75%          9.000000\n",
       "max         22.000000\n",
       "Name: PERIODOS_URP_REGULAR, dtype: float64"
      ]
     },
     "execution_count": 39,
     "metadata": {},
     "output_type": "execute_result"
    }
   ],
   "source": [
    "test[\"PERIODOS_URP_REGULAR\"].describe()"
   ]
  },
  {
   "cell_type": "code",
   "execution_count": 40,
   "metadata": {},
   "outputs": [],
   "source": [
    "tr=[x for x in s if \"BOLETA_1\" not in x]\n",
    "\n",
    "train[\"target\"]=((train[s].sum(axis=1))>0)*1"
   ]
  },
  {
   "cell_type": "code",
   "execution_count": 41,
   "metadata": {},
   "outputs": [
    {
     "data": {
      "text/plain": [
       "0    0.636657\n",
       "1    0.363343\n",
       "Name: target, dtype: float64"
      ]
     },
     "execution_count": 41,
     "metadata": {},
     "output_type": "execute_result"
    }
   ],
   "source": [
    "train[\"target\"].value_counts()/len(train)"
   ]
  },
  {
   "cell_type": "code",
   "execution_count": 42,
   "metadata": {},
   "outputs": [],
   "source": [
    "s=[x for x in train.columns if \"BOLETA\" in x]\n",
    "\n",
    "\n",
    "categorical=train.select_dtypes(include=[object]).columns\n",
    "\n",
    "categorical=[x for x in categorical if x not in s and \"COD_ALUMNO\" not in x ]"
   ]
  },
  {
   "cell_type": "code",
   "execution_count": 43,
   "metadata": {},
   "outputs": [
    {
     "data": {
      "text/plain": [
       "['TIPO_SEMESTRE',\n",
       " 'CARRERA',\n",
       " 'PORC_ASISTENCIA',\n",
       " 'VIVIENDA_DONDE_VIVE',\n",
       " 'TIPO_VIVIENDA_DONDE_VIVE',\n",
       " 'VIVE_CON',\n",
       " 'SEXO',\n",
       " 'CDEPA_DESCRIPCION',\n",
       " 'CPROV_DESCRIPCION',\n",
       " 'CDIST_DESCRIPCION',\n",
       " 'ESTADO_CIVIL',\n",
       " 'TIPO_COLEGIO',\n",
       " 'SEM_NOTAS_HIST_INICIA_CARRERA',\n",
       " 'SEM_NOTAS_HIST_ULTIMO_CARRERA',\n",
       " 'CARRERA_ACTUAL',\n",
       " 'SITUACION_EGRESO',\n",
       " 'TIPO_BECA']"
      ]
     },
     "execution_count": 43,
     "metadata": {},
     "output_type": "execute_result"
    }
   ],
   "source": [
    "categorical"
   ]
  },
  {
   "cell_type": "code",
   "execution_count": 44,
   "metadata": {},
   "outputs": [],
   "source": [
    "for x in train,test:\n",
    "\n",
    "    x.loc[x[\"PORC_ASISTENCIA\"]==\"SIN ASISTENCIA TOMADA\",\"PORC_ASISTENCIA\"]=np.nan\n",
    "\n",
    "    x.loc[x[\"PORC_ASISTENCIA\"]!=\"SIN ASISTENCIA TOMADA\",\"PORC_ASISTENCIA\"]=x.loc[x[\"PORC_ASISTENCIA\"]!=\"SIN ASISTENCIA TOMADA\",\"PORC_ASISTENCIA\"].astype(float)\n",
    "\n"
   ]
  },
  {
   "cell_type": "code",
   "execution_count": 45,
   "metadata": {},
   "outputs": [
    {
     "data": {
      "text/plain": [
       "count    22575.000000\n",
       "mean        74.681980\n",
       "std         18.988409\n",
       "min          0.000000\n",
       "25%         66.094326\n",
       "50%         78.873239\n",
       "75%         88.311688\n",
       "max        100.000000\n",
       "Name: PORC_ASISTENCIA, dtype: float64"
      ]
     },
     "execution_count": 45,
     "metadata": {},
     "output_type": "execute_result"
    }
   ],
   "source": [
    "test[\"PORC_ASISTENCIA\"].describe()"
   ]
  },
  {
   "cell_type": "code",
   "execution_count": 48,
   "metadata": {},
   "outputs": [],
   "source": [
    "#for x in [\n",
    "#\"CARRERA\",\n",
    "#\"VIVIENDA_DONDE_VIVE\",\n",
    "#\"TIPO_VIVIENDA_DONDE_VIVE\",\n",
    "#\"VIVE_CON\",\n",
    "#\"CDEPA_DESCRIPCION\",\n",
    "#\"CPROV_DESCRIPCION\",\n",
    "#\"CDIST_DESCRIPCION\",\n",
    "#\"TIPO_COLEGIO\",\n",
    "#\"SEM_NOTAS_HIST_INICIA_CARRERA\",\n",
    "#\"SEM_NOTAS_HIST_ULTIMO_CARRERA\",\n",
    "#\"CARRERA_ACTUAL\",\n",
    "#\"SITUACION_EGRESO\",\n",
    "#\"TIPO_BECA\"]:\n",
    "\n",
    "\n",
    "\n",
    "#train, test=tam(train,test,[\"SEMESTRE\"])\n",
    "    \n"
   ]
  },
  {
   "cell_type": "code",
   "execution_count": 49,
   "metadata": {},
   "outputs": [],
   "source": [
    "no_usar=s+[\"target\"]+[\"COD_ALUMNO\"]\n",
    "\n",
    "\n",
    "\n",
    "features=[x for x in train.columns if x not in no_usar]\n",
    "\n",
    "cat_ind=[features.index(x) for x in categorical]"
   ]
  },
  {
   "cell_type": "code",
   "execution_count": 50,
   "metadata": {},
   "outputs": [
    {
     "name": "stdout",
     "output_type": "stream",
     "text": [
      "TIPO_SEMESTRE\n",
      "CARRERA\n",
      "PORC_ASISTENCIA\n",
      "VIVIENDA_DONDE_VIVE\n",
      "TIPO_VIVIENDA_DONDE_VIVE\n",
      "VIVE_CON\n",
      "SEXO\n",
      "CDEPA_DESCRIPCION\n",
      "CPROV_DESCRIPCION\n",
      "CDIST_DESCRIPCION\n",
      "ESTADO_CIVIL\n",
      "TIPO_COLEGIO\n",
      "SEM_NOTAS_HIST_INICIA_CARRERA\n",
      "SEM_NOTAS_HIST_ULTIMO_CARRERA\n",
      "CARRERA_ACTUAL\n",
      "SITUACION_EGRESO\n",
      "TIPO_BECA\n"
     ]
    }
   ],
   "source": [
    "for l in categorical:\n",
    "    \n",
    "    print(l)\n",
    "    \n",
    "    \n",
    "    me = preprocessing.LabelEncoder()\n",
    "    \n",
    "    train.loc[train[l].notnull(),l]=train.loc[train[l].notnull(),l].astype(str)\n",
    "    \n",
    "    test.loc[test[l].notnull(),l]=test.loc[test[l].notnull(),l].astype(str)\n",
    "    \n",
    "    train.loc[train[l].isnull(),l]=\"na\"\n",
    "    test.loc[test[l].isnull(),l]=\"na\"\n",
    "\n",
    "    \n",
    "    me.fit(list(train[l].dropna())+list(test[l].dropna()))\n",
    "    \n",
    "    \n",
    "\n",
    "    train.loc[~train[l].isnull(),l]=me.transform(train.loc[~train[l].isnull(),l])\n",
    "\n",
    "    test.loc[~test[l].isnull(),l]=me.transform(test.loc[~test[l].isnull(),l])\n",
    "    \n"
   ]
  },
  {
   "cell_type": "code",
   "execution_count": null,
   "metadata": {},
   "outputs": [
    {
     "name": "stdout",
     "output_type": "stream",
     "text": [
      "0:\ttest: 0.8099841\tbest: 0.8099841 (0)\ttotal: 615ms\tremaining: 5h 7m 25s\n",
      "25:\ttest: 0.8542614\tbest: 0.8542614 (25)\ttotal: 14.4s\tremaining: 4h 36m 57s\n",
      "50:\ttest: 0.8609902\tbest: 0.8609902 (50)\ttotal: 27.9s\tremaining: 4h 33m 33s\n",
      "75:\ttest: 0.8722742\tbest: 0.8723138 (74)\ttotal: 41.4s\tremaining: 4h 31m 41s\n",
      "100:\ttest: 0.8782456\tbest: 0.8782456 (100)\ttotal: 56.8s\tremaining: 4h 40m 27s\n",
      "125:\ttest: 0.8806402\tbest: 0.8806402 (125)\ttotal: 1m 9s\tremaining: 4h 36m 31s\n",
      "150:\ttest: 0.8824308\tbest: 0.8824308 (150)\ttotal: 1m 23s\tremaining: 4h 35m 59s\n",
      "175:\ttest: 0.8885347\tbest: 0.8885347 (175)\ttotal: 1m 40s\tremaining: 4h 42m 26s\n",
      "200:\ttest: 0.8894423\tbest: 0.8894463 (199)\ttotal: 1m 53s\tremaining: 4h 39m 53s\n",
      "225:\ttest: 0.8915666\tbest: 0.8915729 (224)\ttotal: 2m 6s\tremaining: 4h 38m 26s\n",
      "250:\ttest: 0.8950144\tbest: 0.8950144 (250)\ttotal: 2m 19s\tremaining: 4h 35m 32s\n",
      "275:\ttest: 0.8955252\tbest: 0.8955252 (275)\ttotal: 2m 32s\tremaining: 4h 32m 54s\n",
      "300:\ttest: 0.8964558\tbest: 0.8964558 (300)\ttotal: 2m 47s\tremaining: 4h 35m 24s\n",
      "325:\ttest: 0.8969985\tbest: 0.8969985 (325)\ttotal: 3m 5s\tremaining: 4h 41m 40s\n",
      "350:\ttest: 0.8996630\tbest: 0.8996630 (350)\ttotal: 3m 22s\tremaining: 4h 45m 15s\n",
      "375:\ttest: 0.9004556\tbest: 0.9004556 (375)\ttotal: 3m 39s\tremaining: 4h 48m 2s\n",
      "400:\ttest: 0.9011964\tbest: 0.9011964 (400)\ttotal: 3m 56s\tremaining: 4h 50m 32s\n",
      "425:\ttest: 0.9014752\tbest: 0.9014752 (425)\ttotal: 4m 13s\tremaining: 4h 53m 37s\n",
      "450:\ttest: 0.9018779\tbest: 0.9018779 (450)\ttotal: 4m 30s\tremaining: 4h 55m 39s\n",
      "475:\ttest: 0.9021090\tbest: 0.9021099 (473)\ttotal: 4m 48s\tremaining: 4h 57m 57s\n",
      "500:\ttest: 0.9037727\tbest: 0.9037727 (500)\ttotal: 5m 5s\tremaining: 5h 9s\n",
      "525:\ttest: 0.9043357\tbest: 0.9043357 (525)\ttotal: 5m 23s\tremaining: 5h 2m 33s\n",
      "550:\ttest: 0.9062980\tbest: 0.9062980 (550)\ttotal: 5m 41s\tremaining: 5h 4m 13s\n",
      "575:\ttest: 0.9081178\tbest: 0.9081178 (575)\ttotal: 5m 59s\tremaining: 5h 6m 5s\n",
      "600:\ttest: 0.9092055\tbest: 0.9092055 (600)\ttotal: 6m 16s\tremaining: 5h 7m 15s\n",
      "625:\ttest: 0.9097422\tbest: 0.9097422 (625)\ttotal: 6m 34s\tremaining: 5h 8m 11s\n",
      "650:\ttest: 0.9100129\tbest: 0.9100129 (650)\ttotal: 6m 51s\tremaining: 5h 8m 56s\n",
      "675:\ttest: 0.9102680\tbest: 0.9102680 (675)\ttotal: 7m 8s\tremaining: 5h 9m 39s\n",
      "700:\ttest: 0.9104128\tbest: 0.9104128 (700)\ttotal: 7m 25s\tremaining: 5h 10m 24s\n",
      "725:\ttest: 0.9106168\tbest: 0.9106168 (725)\ttotal: 7m 42s\tremaining: 5h 11m 1s\n",
      "750:\ttest: 0.9111079\tbest: 0.9111079 (750)\ttotal: 7m 59s\tremaining: 5h 11m 27s\n",
      "775:\ttest: 0.9112842\tbest: 0.9112842 (775)\ttotal: 8m 16s\tremaining: 5h 11m 47s\n",
      "800:\ttest: 0.9113887\tbest: 0.9113887 (800)\ttotal: 8m 29s\tremaining: 5h 9m 50s\n",
      "825:\ttest: 0.9118049\tbest: 0.9118074 (823)\ttotal: 8m 42s\tremaining: 5h 7m 39s\n",
      "850:\ttest: 0.9121310\tbest: 0.9121310 (850)\ttotal: 8m 55s\tremaining: 5h 5m 43s\n",
      "875:\ttest: 0.9124759\tbest: 0.9124759 (875)\ttotal: 9m 8s\tremaining: 5h 3m 50s\n",
      "900:\ttest: 0.9131118\tbest: 0.9131118 (900)\ttotal: 9m 21s\tremaining: 5h 2m 9s\n",
      "925:\ttest: 0.9135191\tbest: 0.9135191 (925)\ttotal: 9m 33s\tremaining: 5h 21s\n",
      "950:\ttest: 0.9136317\tbest: 0.9136317 (950)\ttotal: 9m 46s\tremaining: 4h 58m 33s\n",
      "975:\ttest: 0.9137344\tbest: 0.9137385 (973)\ttotal: 9m 59s\tremaining: 4h 56m 54s\n",
      "1000:\ttest: 0.9140277\tbest: 0.9140277 (1000)\ttotal: 10m 11s\tremaining: 4h 55m 27s\n",
      "1025:\ttest: 0.9142877\tbest: 0.9142877 (1025)\ttotal: 10m 24s\tremaining: 4h 53m 53s\n",
      "1050:\ttest: 0.9145283\tbest: 0.9145283 (1050)\ttotal: 10m 36s\tremaining: 4h 52m 24s\n",
      "1075:\ttest: 0.9146675\tbest: 0.9146675 (1075)\ttotal: 10m 49s\tremaining: 4h 51m 1s\n",
      "1100:\ttest: 0.9148934\tbest: 0.9148934 (1100)\ttotal: 11m 2s\tremaining: 4h 49m 56s\n",
      "1125:\ttest: 0.9150136\tbest: 0.9150136 (1125)\ttotal: 11m 15s\tremaining: 4h 48m 34s\n",
      "1150:\ttest: 0.9150593\tbest: 0.9150593 (1150)\ttotal: 11m 27s\tremaining: 4h 47m 15s\n",
      "1175:\ttest: 0.9151323\tbest: 0.9151417 (1173)\ttotal: 11m 40s\tremaining: 4h 46m\n",
      "1200:\ttest: 0.9154181\tbest: 0.9154181 (1200)\ttotal: 11m 53s\tremaining: 4h 45m 16s\n",
      "1225:\ttest: 0.9155811\tbest: 0.9155812 (1224)\ttotal: 12m 6s\tremaining: 4h 44m 10s\n",
      "1250:\ttest: 0.9156091\tbest: 0.9156178 (1246)\ttotal: 12m 19s\tremaining: 4h 43m 3s\n",
      "1275:\ttest: 0.9156502\tbest: 0.9156502 (1275)\ttotal: 12m 31s\tremaining: 4h 41m 56s\n",
      "1300:\ttest: 0.9157096\tbest: 0.9157096 (1300)\ttotal: 12m 44s\tremaining: 4h 41m 4s\n",
      "1325:\ttest: 0.9157905\tbest: 0.9157905 (1325)\ttotal: 12m 57s\tremaining: 4h 40m 13s\n",
      "1350:\ttest: 0.9158339\tbest: 0.9158490 (1345)\ttotal: 13m 10s\tremaining: 4h 39m 14s\n",
      "1375:\ttest: 0.9160848\tbest: 0.9160883 (1369)\ttotal: 13m 22s\tremaining: 4h 38m 15s\n",
      "1400:\ttest: 0.9161592\tbest: 0.9161639 (1398)\ttotal: 13m 35s\tremaining: 4h 37m 25s\n",
      "1425:\ttest: 0.9161792\tbest: 0.9161847 (1424)\ttotal: 13m 47s\tremaining: 4h 36m 28s\n",
      "1450:\ttest: 0.9162563\tbest: 0.9162572 (1448)\ttotal: 14m\tremaining: 4h 35m 37s\n",
      "1475:\ttest: 0.9163228\tbest: 0.9163299 (1474)\ttotal: 14m 13s\tremaining: 4h 34m 47s\n",
      "1500:\ttest: 0.9163936\tbest: 0.9164035 (1493)\ttotal: 14m 25s\tremaining: 4h 33m 57s\n",
      "1525:\ttest: 0.9164196\tbest: 0.9164206 (1524)\ttotal: 14m 38s\tremaining: 4h 33m 7s\n",
      "1550:\ttest: 0.9164554\tbest: 0.9164601 (1546)\ttotal: 14m 50s\tremaining: 4h 32m 18s\n",
      "1575:\ttest: 0.9165040\tbest: 0.9165040 (1575)\ttotal: 15m 3s\tremaining: 4h 31m 40s\n",
      "1600:\ttest: 0.9165182\tbest: 0.9165182 (1600)\ttotal: 15m 16s\tremaining: 4h 31m\n",
      "1625:\ttest: 0.9165358\tbest: 0.9165424 (1622)\ttotal: 15m 29s\tremaining: 4h 30m 16s\n",
      "1650:\ttest: 0.9165486\tbest: 0.9165502 (1648)\ttotal: 15m 41s\tremaining: 4h 29m 34s\n",
      "1675:\ttest: 0.9165537\tbest: 0.9165788 (1663)\ttotal: 15m 54s\tremaining: 4h 28m 48s\n",
      "1700:\ttest: 0.9165859\tbest: 0.9165895 (1699)\ttotal: 16m 7s\tremaining: 4h 28m 8s\n",
      "1725:\ttest: 0.9165856\tbest: 0.9165903 (1705)\ttotal: 16m 19s\tremaining: 4h 27m 28s\n",
      "1750:\ttest: 0.9167861\tbest: 0.9167903 (1733)\ttotal: 16m 32s\tremaining: 4h 26m 49s\n",
      "1775:\ttest: 0.9168581\tbest: 0.9168626 (1764)\ttotal: 16m 45s\tremaining: 4h 26m 13s\n",
      "1800:\ttest: 0.9169156\tbest: 0.9169183 (1799)\ttotal: 16m 58s\tremaining: 4h 25m 40s\n",
      "1825:\ttest: 0.9169683\tbest: 0.9169695 (1821)\ttotal: 17m 10s\tremaining: 4h 25m 5s\n",
      "1850:\ttest: 0.9170343\tbest: 0.9170416 (1846)\ttotal: 17m 23s\tremaining: 4h 24m 35s\n",
      "1875:\ttest: 0.9170315\tbest: 0.9170416 (1846)\ttotal: 17m 36s\tremaining: 4h 24m 3s\n",
      "Stopped by overfitting detector  (50 iterations wait)\n",
      "\n",
      "bestTest = 0.9170416328\n",
      "bestIteration = 1846\n",
      "\n",
      "Shrink model to first 1847 iterations.\n",
      "Fold_1\n",
      "0.9170416327901361\n",
      "\n",
      "0:\ttest: 0.8106924\tbest: 0.8106924 (0)\ttotal: 511ms\tremaining: 4h 15m 23s\n",
      "25:\ttest: 0.8514308\tbest: 0.8514308 (25)\ttotal: 13.6s\tremaining: 4h 21m 43s\n",
      "50:\ttest: 0.8680207\tbest: 0.8684491 (45)\ttotal: 26.3s\tremaining: 4h 16m 58s\n",
      "75:\ttest: 0.8741864\tbest: 0.8741905 (74)\ttotal: 38.9s\tremaining: 4h 15m 20s\n",
      "100:\ttest: 0.8854927\tbest: 0.8855324 (97)\ttotal: 51.6s\tremaining: 4h 14m 47s\n",
      "125:\ttest: 0.8894705\tbest: 0.8894705 (125)\ttotal: 1m 4s\tremaining: 4h 15m 19s\n",
      "150:\ttest: 0.8932221\tbest: 0.8932221 (150)\ttotal: 1m 17s\tremaining: 4h 14m 43s\n",
      "175:\ttest: 0.8943013\tbest: 0.8943013 (175)\ttotal: 1m 29s\tremaining: 4h 14m 8s\n",
      "200:\ttest: 0.8990164\tbest: 0.8990164 (200)\ttotal: 1m 42s\tremaining: 4h 13m 30s\n",
      "225:\ttest: 0.8993663\tbest: 0.8993663 (225)\ttotal: 1m 55s\tremaining: 4h 12m 42s\n",
      "250:\ttest: 0.9000615\tbest: 0.9000615 (250)\ttotal: 2m 7s\tremaining: 4h 11m 53s\n",
      "275:\ttest: 0.9021860\tbest: 0.9021993 (273)\ttotal: 2m 22s\tremaining: 4h 16m 2s\n",
      "300:\ttest: 0.9027442\tbest: 0.9027442 (300)\ttotal: 2m 35s\tremaining: 4h 15m 24s\n",
      "325:\ttest: 0.9032994\tbest: 0.9032994 (325)\ttotal: 2m 47s\tremaining: 4h 14m 49s\n",
      "350:\ttest: 0.9035578\tbest: 0.9035578 (350)\ttotal: 3m 1s\tremaining: 4h 15m 13s\n",
      "375:\ttest: 0.9049461\tbest: 0.9049461 (375)\ttotal: 3m 13s\tremaining: 4h 14m 37s\n",
      "400:\ttest: 0.9051901\tbest: 0.9051901 (400)\ttotal: 3m 26s\tremaining: 4h 13m 50s\n",
      "425:\ttest: 0.9053247\tbest: 0.9053247 (425)\ttotal: 3m 38s\tremaining: 4h 13m 10s\n",
      "450:\ttest: 0.9058140\tbest: 0.9058140 (450)\ttotal: 3m 51s\tremaining: 4h 12m 43s\n",
      "475:\ttest: 0.9062319\tbest: 0.9062319 (475)\ttotal: 4m 4s\tremaining: 4h 12m 30s\n",
      "500:\ttest: 0.9071883\tbest: 0.9071979 (499)\ttotal: 4m 17s\tremaining: 4h 12m 32s\n",
      "525:\ttest: 0.9074665\tbest: 0.9074665 (525)\ttotal: 4m 30s\tremaining: 4h 12m 16s\n",
      "550:\ttest: 0.9089640\tbest: 0.9089640 (550)\ttotal: 4m 43s\tremaining: 4h 12m 15s\n",
      "575:\ttest: 0.9096617\tbest: 0.9096617 (575)\ttotal: 4m 56s\tremaining: 4h 12m 7s\n",
      "600:\ttest: 0.9104280\tbest: 0.9104286 (599)\ttotal: 5m 9s\tremaining: 4h 11m 59s\n",
      "625:\ttest: 0.9106037\tbest: 0.9106037 (625)\ttotal: 5m 22s\tremaining: 4h 11m 49s\n",
      "650:\ttest: 0.9107064\tbest: 0.9107064 (650)\ttotal: 5m 34s\tremaining: 4h 11m 29s\n",
      "675:\ttest: 0.9116663\tbest: 0.9116663 (675)\ttotal: 5m 47s\tremaining: 4h 11m 26s\n",
      "700:\ttest: 0.9123371\tbest: 0.9123371 (700)\ttotal: 6m\tremaining: 4h 11m 24s\n",
      "725:\ttest: 0.9124792\tbest: 0.9124792 (725)\ttotal: 6m 13s\tremaining: 4h 11m 6s\n",
      "750:\ttest: 0.9126134\tbest: 0.9126134 (750)\ttotal: 6m 26s\tremaining: 4h 10m 52s\n",
      "775:\ttest: 0.9129883\tbest: 0.9129919 (774)\ttotal: 6m 39s\tremaining: 4h 10m 45s\n",
      "800:\ttest: 0.9133700\tbest: 0.9133700 (800)\ttotal: 6m 52s\tremaining: 4h 10m 31s\n",
      "825:\ttest: 0.9134736\tbest: 0.9134736 (825)\ttotal: 7m 5s\tremaining: 4h 10m 13s\n",
      "850:\ttest: 0.9136691\tbest: 0.9136722 (848)\ttotal: 7m 18s\tremaining: 4h 10m 13s\n",
      "875:\ttest: 0.9139051\tbest: 0.9139066 (874)\ttotal: 7m 31s\tremaining: 4h 10m 4s\n",
      "900:\ttest: 0.9140010\tbest: 0.9140010 (900)\ttotal: 7m 44s\tremaining: 4h 9m 50s\n",
      "925:\ttest: 0.9142630\tbest: 0.9142630 (925)\ttotal: 7m 57s\tremaining: 4h 9m 55s\n",
      "950:\ttest: 0.9143589\tbest: 0.9143589 (950)\ttotal: 8m 10s\tremaining: 4h 9m 42s\n",
      "975:\ttest: 0.9144464\tbest: 0.9144464 (975)\ttotal: 8m 23s\tremaining: 4h 9m 24s\n",
      "1000:\ttest: 0.9146434\tbest: 0.9146434 (1000)\ttotal: 8m 36s\tremaining: 4h 9m 12s\n",
      "1025:\ttest: 0.9147165\tbest: 0.9147165 (1025)\ttotal: 8m 48s\tremaining: 4h 8m 56s\n",
      "1050:\ttest: 0.9149381\tbest: 0.9149445 (1048)\ttotal: 9m 1s\tremaining: 4h 8m 44s\n",
      "1075:\ttest: 0.9149939\tbest: 0.9149973 (1072)\ttotal: 9m 15s\tremaining: 4h 8m 42s\n",
      "1100:\ttest: 0.9150218\tbest: 0.9150276 (1098)\ttotal: 9m 28s\tremaining: 4h 8m 31s\n",
      "1125:\ttest: 0.9152632\tbest: 0.9152632 (1125)\ttotal: 9m 41s\tremaining: 4h 8m 23s\n",
      "1150:\ttest: 0.9153473\tbest: 0.9153473 (1150)\ttotal: 9m 54s\tremaining: 4h 8m 11s\n",
      "1175:\ttest: 0.9156192\tbest: 0.9156214 (1172)\ttotal: 10m 6s\tremaining: 4h 7m 54s\n",
      "1200:\ttest: 0.9158267\tbest: 0.9158267 (1200)\ttotal: 10m 19s\tremaining: 4h 7m 36s\n",
      "1225:\ttest: 0.9159166\tbest: 0.9159166 (1225)\ttotal: 10m 32s\tremaining: 4h 7m 24s\n",
      "1250:\ttest: 0.9159698\tbest: 0.9159706 (1246)\ttotal: 10m 45s\tremaining: 4h 7m 17s\n",
      "1275:\ttest: 0.9160470\tbest: 0.9160544 (1271)\ttotal: 10m 58s\tremaining: 4h 7m 4s\n",
      "1300:\ttest: 0.9160828\tbest: 0.9160912 (1297)\ttotal: 11m 11s\tremaining: 4h 6m 46s\n",
      "1325:\ttest: 0.9161295\tbest: 0.9161295 (1325)\ttotal: 11m 23s\tremaining: 4h 6m 30s\n",
      "1350:\ttest: 0.9161609\tbest: 0.9161641 (1348)\ttotal: 11m 36s\tremaining: 4h 6m 14s\n",
      "1375:\ttest: 0.9163004\tbest: 0.9163004 (1375)\ttotal: 11m 49s\tremaining: 4h 6m 5s\n",
      "1400:\ttest: 0.9163454\tbest: 0.9163459 (1397)\ttotal: 12m 2s\tremaining: 4h 5m 53s\n",
      "1425:\ttest: 0.9163967\tbest: 0.9163986 (1424)\ttotal: 12m 15s\tremaining: 4h 5m 37s\n",
      "1450:\ttest: 0.9164538\tbest: 0.9164538 (1450)\ttotal: 12m 28s\tremaining: 4h 5m 25s\n",
      "1475:\ttest: 0.9164996\tbest: 0.9165009 (1474)\ttotal: 12m 41s\tremaining: 4h 5m 21s\n",
      "1500:\ttest: 0.9165530\tbest: 0.9165530 (1500)\ttotal: 12m 54s\tremaining: 4h 4m 59s\n",
      "1525:\ttest: 0.9165773\tbest: 0.9165786 (1517)\ttotal: 13m 6s\tremaining: 4h 4m 44s\n",
      "1550:\ttest: 0.9166069\tbest: 0.9166231 (1545)\ttotal: 13m 19s\tremaining: 4h 4m 21s\n",
      "1575:\ttest: 0.9166419\tbest: 0.9166444 (1570)\ttotal: 13m 32s\tremaining: 4h 4m 5s\n",
      "1600:\ttest: 0.9168019\tbest: 0.9168025 (1599)\ttotal: 13m 44s\tremaining: 4h 3m 43s\n",
      "1625:\ttest: 0.9168511\tbest: 0.9168511 (1625)\ttotal: 13m 56s\tremaining: 4h 3m 22s\n",
      "1650:\ttest: 0.9168987\tbest: 0.9168998 (1649)\ttotal: 14m 9s\tremaining: 4h 3m 7s\n",
      "1675:\ttest: 0.9169636\tbest: 0.9169636 (1675)\ttotal: 14m 21s\tremaining: 4h 2m 42s\n",
      "1700:\ttest: 0.9170190\tbest: 0.9170190 (1700)\ttotal: 14m 34s\tremaining: 4h 2m 23s\n",
      "1725:\ttest: 0.9170725\tbest: 0.9170797 (1721)\ttotal: 14m 46s\tremaining: 4h 2m 4s\n",
      "1750:\ttest: 0.9171194\tbest: 0.9171296 (1746)\ttotal: 15m\tremaining: 4h 2m 5s\n",
      "1775:\ttest: 0.9172536\tbest: 0.9172564 (1773)\ttotal: 15m 14s\tremaining: 4h 2m 5s\n",
      "1800:\ttest: 0.9172963\tbest: 0.9172980 (1793)\ttotal: 15m 26s\tremaining: 4h 1m 47s\n",
      "1825:\ttest: 0.9173543\tbest: 0.9173543 (1825)\ttotal: 15m 39s\tremaining: 4h 1m 32s\n",
      "1850:\ttest: 0.9173749\tbest: 0.9173787 (1848)\ttotal: 15m 52s\tremaining: 4h 1m 18s\n",
      "1875:\ttest: 0.9174565\tbest: 0.9174600 (1867)\ttotal: 16m 4s\tremaining: 4h 1m 2s\n",
      "1900:\ttest: 0.9174959\tbest: 0.9175051 (1897)\ttotal: 16m 17s\tremaining: 4h 48s\n",
      "1925:\ttest: 0.9175743\tbest: 0.9175743 (1925)\ttotal: 16m 30s\tremaining: 4h 36s\n",
      "1950:\ttest: 0.9176051\tbest: 0.9176051 (1950)\ttotal: 16m 43s\tremaining: 4h 22s\n",
      "1975:\ttest: 0.9177098\tbest: 0.9177103 (1973)\ttotal: 16m 56s\tremaining: 4h 12s\n",
      "2000:\ttest: 0.9177204\tbest: 0.9177271 (1999)\ttotal: 17m 8s\tremaining: 3h 59m 56s\n",
      "2025:\ttest: 0.9177598\tbest: 0.9177599 (2024)\ttotal: 17m 21s\tremaining: 3h 59m 42s\n",
      "2050:\ttest: 0.9178221\tbest: 0.9178232 (2049)\ttotal: 17m 34s\tremaining: 3h 59m 32s\n",
      "2075:\ttest: 0.9178873\tbest: 0.9178873 (2075)\ttotal: 17m 47s\tremaining: 3h 59m 17s\n",
      "2100:\ttest: 0.9179973\tbest: 0.9179974 (2098)\ttotal: 18m\tremaining: 3h 59m 7s\n",
      "2125:\ttest: 0.9180287\tbest: 0.9180307 (2119)\ttotal: 18m 13s\tremaining: 3h 58m 53s\n",
      "2150:\ttest: 0.9180475\tbest: 0.9180488 (2146)\ttotal: 18m 26s\tremaining: 3h 58m 39s\n",
      "2175:\ttest: 0.9180759\tbest: 0.9180940 (2166)\ttotal: 18m 38s\tremaining: 3h 58m 25s\n",
      "2200:\ttest: 0.9180937\tbest: 0.9181022 (2194)\ttotal: 18m 51s\tremaining: 3h 58m 13s\n"
     ]
    }
   ],
   "source": [
    "kf_previo=StratifiedKFold(n_splits=5,random_state=256,shuffle=True)\n",
    "\n",
    "i=1\n",
    "\n",
    "r=[]\n",
    "\n",
    "importancias=[]\n",
    "\n",
    "for train_index,test_index in kf_previo.split(train,train[\"target\"]):\n",
    "\n",
    "    model=CatBoostClassifier(iterations=30000, depth=4, learning_rate=0.1,l2_leaf_reg=8, rsm=0.95,bootstrap_type=\"Bernoulli\",subsample=0.9,eval_metric='AUC',use_best_model=True,early_stopping_rounds=50,verbose=25,cat_features=cat_ind)\n",
    "\n",
    "    model.fit(train.loc[train_index,features], train.loc[train_index,\"target\"], eval_set=(train.loc[test_index,features] ,train.loc[test_index,\"target\"]),plot=False)\n",
    "    \n",
    "    \n",
    "    print (\"Fold_\"+str(i))\n",
    "    a= (roc_auc_score(train.loc[test_index,\"target\"],model.predict_proba(train.loc[test_index,features].values)[:,1]))\n",
    "    \n",
    "    train.loc[test_index,\"probabilidad\"]=model.predict_proba(train.loc[test_index,features].values)[:,1]\n",
    "    \n",
    "    test[\"TARGET_FOLD\"+str(i)]=model.predict_proba(test[features].values)[:,1]\n",
    "\n",
    "    \n",
    "    r.append(a)\n",
    "    print (a)\n",
    "    print (\"\")\n",
    "    \n",
    "    i=i+1\n",
    "\n",
    "print (\"mean: \"+str(np.mean(np.array(r))))\n",
    "print (\"std: \"+str(np.std(np.array(r))))"
   ]
  },
  {
   "cell_type": "code",
   "execution_count": null,
   "metadata": {},
   "outputs": [],
   "source": [
    "train[s].sum(axis=1).describe()"
   ]
  },
  {
   "cell_type": "code",
   "execution_count": null,
   "metadata": {},
   "outputs": [],
   "source": [
    "train[\"PROMEDIOSINNSP\"].describe()"
   ]
  },
  {
   "cell_type": "code",
   "execution_count": null,
   "metadata": {},
   "outputs": [],
   "source": [
    "test[\"PROMEDIOSINNSP\"].describe()"
   ]
  },
  {
   "cell_type": "code",
   "execution_count": null,
   "metadata": {},
   "outputs": [],
   "source": [
    "train[\"EDAD_PROM_DOCENTE\"].describe()"
   ]
  },
  {
   "cell_type": "code",
   "execution_count": null,
   "metadata": {},
   "outputs": [],
   "source": [
    "test[\"EDAD_PROM_DOCENTE\"].describe()"
   ]
  },
  {
   "cell_type": "code",
   "execution_count": null,
   "metadata": {},
   "outputs": [],
   "source": [
    "train[\"SITUACION_MATRICULA\"].value_counts()"
   ]
  },
  {
   "cell_type": "code",
   "execution_count": null,
   "metadata": {},
   "outputs": [],
   "source": [
    "test[\"SITUACION_MATRICULA\"].value_counts()"
   ]
  },
  {
   "cell_type": "code",
   "execution_count": null,
   "metadata": {},
   "outputs": [],
   "source": [
    "len(test[\"CDIST_DESCRIPCION\"].unique())"
   ]
  },
  {
   "cell_type": "code",
   "execution_count": null,
   "metadata": {},
   "outputs": [],
   "source": [
    "for l in range(5,1000,1):\n",
    "    \n",
    "    l=l/1000\n",
    "    \n",
    "    print(\"quantile \"+str(l))\n",
    "    \n",
    "    \n",
    "    \n",
    "    l=np.quantile(train[\"probabilidad\"],l)\n",
    "    \n",
    "    print(\"probability: \"+str(l))\n",
    "    a=precision_score(train[\"target\"],(train[\"probabilidad\"]>l)*1)\n",
    "    b=recall_score(train[\"target\"],(train[\"probabilidad\"]>l)*1)\n",
    "\n",
    "    \n",
    "    print(a)\n",
    "    print(b)\n",
    "    print(2*a*b/(a+b))\n",
    "\n",
    "    \n",
    "    \n",
    "    print(\"\")"
   ]
  },
  {
   "cell_type": "code",
   "execution_count": null,
   "metadata": {},
   "outputs": [],
   "source": [
    "r=[x for x in test.columns if \"FOLD\" in x]\n",
    "\n",
    "test[\"probability\"]=test[r].mean(axis=1)"
   ]
  },
  {
   "cell_type": "code",
   "execution_count": null,
   "metadata": {},
   "outputs": [],
   "source": [
    "test[\"Morosidad\"]=(test[\"probability\"]>0.6118935765956717)*1"
   ]
  },
  {
   "cell_type": "code",
   "execution_count": null,
   "metadata": {},
   "outputs": [],
   "source": [
    "test[[\"COD_ALUMNO\",\"Morosidad\"]].to_csv(\"submission_16.csv\",index=False)"
   ]
  },
  {
   "cell_type": "code",
   "execution_count": null,
   "metadata": {},
   "outputs": [],
   "source": []
  },
  {
   "cell_type": "code",
   "execution_count": null,
   "metadata": {},
   "outputs": [],
   "source": []
  },
  {
   "cell_type": "code",
   "execution_count": null,
   "metadata": {},
   "outputs": [],
   "source": []
  },
  {
   "cell_type": "code",
   "execution_count": null,
   "metadata": {},
   "outputs": [],
   "source": []
  },
  {
   "cell_type": "code",
   "execution_count": null,
   "metadata": {},
   "outputs": [],
   "source": []
  },
  {
   "cell_type": "code",
   "execution_count": null,
   "metadata": {},
   "outputs": [],
   "source": []
  },
  {
   "cell_type": "code",
   "execution_count": null,
   "metadata": {},
   "outputs": [],
   "source": []
  },
  {
   "cell_type": "code",
   "execution_count": null,
   "metadata": {},
   "outputs": [],
   "source": []
  }
 ],
 "metadata": {
  "kernelspec": {
   "display_name": "Python 3",
   "language": "python",
   "name": "python3"
  },
  "language_info": {
   "codemirror_mode": {
    "name": "ipython",
    "version": 3
   },
   "file_extension": ".py",
   "mimetype": "text/x-python",
   "name": "python",
   "nbconvert_exporter": "python",
   "pygments_lexer": "ipython3",
   "version": "3.6.5"
  }
 },
 "nbformat": 4,
 "nbformat_minor": 2
}
