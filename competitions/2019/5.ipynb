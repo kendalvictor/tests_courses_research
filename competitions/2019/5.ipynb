{
 "cells": [
  {
   "cell_type": "markdown",
   "metadata": {
    "colab_type": "text",
    "id": "yzsXHqd0AwGQ"
   },
   "source": [
    "# [01] Data Extraction"
   ]
  },
  {
   "cell_type": "code",
   "execution_count": 1,
   "metadata": {
    "colab": {},
    "colab_type": "code",
    "id": "1S5dQxEs82BA"
   },
   "outputs": [],
   "source": [
    "#from google.colab import files\n",
    "\n",
    "# LOS AMIGOS DE JACOBI"
   ]
  },
  {
   "cell_type": "code",
   "execution_count": 2,
   "metadata": {
    "colab": {
     "base_uri": "https://localhost:8080/",
     "height": 115
    },
    "colab_type": "code",
    "id": "CHBcmO_SBHEb",
    "outputId": "60ca841a-cfcf-4c73-a92c-6f0a332b665d"
   },
   "outputs": [],
   "source": [
    "#!ls -l"
   ]
  },
  {
   "cell_type": "code",
   "execution_count": 3,
   "metadata": {
    "colab": {
     "base_uri": "https://localhost:8080/",
     "height": 86,
     "resources": {
      "http://localhost:8080/nbextensions/google.colab/files.js": {
       "data": "Ly8gQ29weXJpZ2h0IDIwMTcgR29vZ2xlIExMQwovLwovLyBMaWNlbnNlZCB1bmRlciB0aGUgQXBhY2hlIExpY2Vuc2UsIFZlcnNpb24gMi4wICh0aGUgIkxpY2Vuc2UiKTsKLy8geW91IG1heSBub3QgdXNlIHRoaXMgZmlsZSBleGNlcHQgaW4gY29tcGxpYW5jZSB3aXRoIHRoZSBMaWNlbnNlLgovLyBZb3UgbWF5IG9idGFpbiBhIGNvcHkgb2YgdGhlIExpY2Vuc2UgYXQKLy8KLy8gICAgICBodHRwOi8vd3d3LmFwYWNoZS5vcmcvbGljZW5zZXMvTElDRU5TRS0yLjAKLy8KLy8gVW5sZXNzIHJlcXVpcmVkIGJ5IGFwcGxpY2FibGUgbGF3IG9yIGFncmVlZCB0byBpbiB3cml0aW5nLCBzb2Z0d2FyZQovLyBkaXN0cmlidXRlZCB1bmRlciB0aGUgTGljZW5zZSBpcyBkaXN0cmlidXRlZCBvbiBhbiAiQVMgSVMiIEJBU0lTLAovLyBXSVRIT1VUIFdBUlJBTlRJRVMgT1IgQ09ORElUSU9OUyBPRiBBTlkgS0lORCwgZWl0aGVyIGV4cHJlc3Mgb3IgaW1wbGllZC4KLy8gU2VlIHRoZSBMaWNlbnNlIGZvciB0aGUgc3BlY2lmaWMgbGFuZ3VhZ2UgZ292ZXJuaW5nIHBlcm1pc3Npb25zIGFuZAovLyBsaW1pdGF0aW9ucyB1bmRlciB0aGUgTGljZW5zZS4KCi8qKgogKiBAZmlsZW92ZXJ2aWV3IEhlbHBlcnMgZm9yIGdvb2dsZS5jb2xhYiBQeXRob24gbW9kdWxlLgogKi8KKGZ1bmN0aW9uKHNjb3BlKSB7CmZ1bmN0aW9uIHNwYW4odGV4dCwgc3R5bGVBdHRyaWJ1dGVzID0ge30pIHsKICBjb25zdCBlbGVtZW50ID0gZG9jdW1lbnQuY3JlYXRlRWxlbWVudCgnc3BhbicpOwogIGVsZW1lbnQudGV4dENvbnRlbnQgPSB0ZXh0OwogIGZvciAoY29uc3Qga2V5IG9mIE9iamVjdC5rZXlzKHN0eWxlQXR0cmlidXRlcykpIHsKICAgIGVsZW1lbnQuc3R5bGVba2V5XSA9IHN0eWxlQXR0cmlidXRlc1trZXldOwogIH0KICByZXR1cm4gZWxlbWVudDsKfQoKLy8gTWF4IG51bWJlciBvZiBieXRlcyB3aGljaCB3aWxsIGJlIHVwbG9hZGVkIGF0IGEgdGltZS4KY29uc3QgTUFYX1BBWUxPQURfU0laRSA9IDEwMCAqIDEwMjQ7Ci8vIE1heCBhbW91bnQgb2YgdGltZSB0byBibG9jayB3YWl0aW5nIGZvciB0aGUgdXNlci4KY29uc3QgRklMRV9DSEFOR0VfVElNRU9VVF9NUyA9IDMwICogMTAwMDsKCmZ1bmN0aW9uIF91cGxvYWRGaWxlcyhpbnB1dElkLCBvdXRwdXRJZCkgewogIGNvbnN0IHN0ZXBzID0gdXBsb2FkRmlsZXNTdGVwKGlucHV0SWQsIG91dHB1dElkKTsKICBjb25zdCBvdXRwdXRFbGVtZW50ID0gZG9jdW1lbnQuZ2V0RWxlbWVudEJ5SWQob3V0cHV0SWQpOwogIC8vIENhY2hlIHN0ZXBzIG9uIHRoZSBvdXRwdXRFbGVtZW50IHRvIG1ha2UgaXQgYXZhaWxhYmxlIGZvciB0aGUgbmV4dCBjYWxsCiAgLy8gdG8gdXBsb2FkRmlsZXNDb250aW51ZSBmcm9tIFB5dGhvbi4KICBvdXRwdXRFbGVtZW50LnN0ZXBzID0gc3RlcHM7CgogIHJldHVybiBfdXBsb2FkRmlsZXNDb250aW51ZShvdXRwdXRJZCk7Cn0KCi8vIFRoaXMgaXMgcm91Z2hseSBhbiBhc3luYyBnZW5lcmF0b3IgKG5vdCBzdXBwb3J0ZWQgaW4gdGhlIGJyb3dzZXIgeWV0KSwKLy8gd2hlcmUgdGhlcmUgYXJlIG11bHRpcGxlIGFzeW5jaHJvbm91cyBzdGVwcyBhbmQgdGhlIFB5dGhvbiBzaWRlIGlzIGdvaW5nCi8vIHRvIHBvbGwgZm9yIGNvbXBsZXRpb24gb2YgZWFjaCBzdGVwLgovLyBUaGlzIHVzZXMgYSBQcm9taXNlIHRvIGJsb2NrIHRoZSBweXRob24gc2lkZSBvbiBjb21wbGV0aW9uIG9mIGVhY2ggc3RlcCwKLy8gdGhlbiBwYXNzZXMgdGhlIHJlc3VsdCBvZiB0aGUgcHJldmlvdXMgc3RlcCBhcyB0aGUgaW5wdXQgdG8gdGhlIG5leHQgc3RlcC4KZnVuY3Rpb24gX3VwbG9hZEZpbGVzQ29udGludWUob3V0cHV0SWQpIHsKICBjb25zdCBvdXRwdXRFbGVtZW50ID0gZG9jdW1lbnQuZ2V0RWxlbWVudEJ5SWQob3V0cHV0SWQpOwogIGNvbnN0IHN0ZXBzID0gb3V0cHV0RWxlbWVudC5zdGVwczsKCiAgY29uc3QgbmV4dCA9IHN0ZXBzLm5leHQob3V0cHV0RWxlbWVudC5sYXN0UHJvbWlzZVZhbHVlKTsKICByZXR1cm4gUHJvbWlzZS5yZXNvbHZlKG5leHQudmFsdWUucHJvbWlzZSkudGhlbigodmFsdWUpID0+IHsKICAgIC8vIENhY2hlIHRoZSBsYXN0IHByb21pc2UgdmFsdWUgdG8gbWFrZSBpdCBhdmFpbGFibGUgdG8gdGhlIG5leHQKICAgIC8vIHN0ZXAgb2YgdGhlIGdlbmVyYXRvci4KICAgIG91dHB1dEVsZW1lbnQubGFzdFByb21pc2VWYWx1ZSA9IHZhbHVlOwogICAgcmV0dXJuIG5leHQudmFsdWUucmVzcG9uc2U7CiAgfSk7Cn0KCi8qKgogKiBHZW5lcmF0b3IgZnVuY3Rpb24gd2hpY2ggaXMgY2FsbGVkIGJldHdlZW4gZWFjaCBhc3luYyBzdGVwIG9mIHRoZSB1cGxvYWQKICogcHJvY2Vzcy4KICogQHBhcmFtIHtzdHJpbmd9IGlucHV0SWQgRWxlbWVudCBJRCBvZiB0aGUgaW5wdXQgZmlsZSBwaWNrZXIgZWxlbWVudC4KICogQHBhcmFtIHtzdHJpbmd9IG91dHB1dElkIEVsZW1lbnQgSUQgb2YgdGhlIG91dHB1dCBkaXNwbGF5LgogKiBAcmV0dXJuIHshSXRlcmFibGU8IU9iamVjdD59IEl0ZXJhYmxlIG9mIG5leHQgc3RlcHMuCiAqLwpmdW5jdGlvbiogdXBsb2FkRmlsZXNTdGVwKGlucHV0SWQsIG91dHB1dElkKSB7CiAgY29uc3QgaW5wdXRFbGVtZW50ID0gZG9jdW1lbnQuZ2V0RWxlbWVudEJ5SWQoaW5wdXRJZCk7CiAgaW5wdXRFbGVtZW50LmRpc2FibGVkID0gZmFsc2U7CgogIGNvbnN0IG91dHB1dEVsZW1lbnQgPSBkb2N1bWVudC5nZXRFbGVtZW50QnlJZChvdXRwdXRJZCk7CiAgb3V0cHV0RWxlbWVudC5pbm5lckhUTUwgPSAnJzsKCiAgY29uc3QgcGlja2VkUHJvbWlzZSA9IG5ldyBQcm9taXNlKChyZXNvbHZlKSA9PiB7CiAgICBpbnB1dEVsZW1lbnQuYWRkRXZlbnRMaXN0ZW5lcignY2hhbmdlJywgKGUpID0+IHsKICAgICAgcmVzb2x2ZShlLnRhcmdldC5maWxlcyk7CiAgICB9KTsKICB9KTsKCiAgY29uc3QgY2FuY2VsID0gZG9jdW1lbnQuY3JlYXRlRWxlbWVudCgnYnV0dG9uJyk7CiAgaW5wdXRFbGVtZW50LnBhcmVudEVsZW1lbnQuYXBwZW5kQ2hpbGQoY2FuY2VsKTsKICBjYW5jZWwudGV4dENvbnRlbnQgPSAnQ2FuY2VsIHVwbG9hZCc7CiAgY29uc3QgY2FuY2VsUHJvbWlzZSA9IG5ldyBQcm9taXNlKChyZXNvbHZlKSA9PiB7CiAgICBjYW5jZWwub25jbGljayA9ICgpID0+IHsKICAgICAgcmVzb2x2ZShudWxsKTsKICAgIH07CiAgfSk7CgogIC8vIENhbmNlbCB1cGxvYWQgaWYgdXNlciBoYXNuJ3QgcGlja2VkIGFueXRoaW5nIGluIHRpbWVvdXQuCiAgY29uc3QgdGltZW91dFByb21pc2UgPSBuZXcgUHJvbWlzZSgocmVzb2x2ZSkgPT4gewogICAgc2V0VGltZW91dCgoKSA9PiB7CiAgICAgIHJlc29sdmUobnVsbCk7CiAgICB9LCBGSUxFX0NIQU5HRV9USU1FT1VUX01TKTsKICB9KTsKCiAgLy8gV2FpdCBmb3IgdGhlIHVzZXIgdG8gcGljayB0aGUgZmlsZXMuCiAgY29uc3QgZmlsZXMgPSB5aWVsZCB7CiAgICBwcm9taXNlOiBQcm9taXNlLnJhY2UoW3BpY2tlZFByb21pc2UsIHRpbWVvdXRQcm9taXNlLCBjYW5jZWxQcm9taXNlXSksCiAgICByZXNwb25zZTogewogICAgICBhY3Rpb246ICdzdGFydGluZycsCiAgICB9CiAgfTsKCiAgaWYgKCFmaWxlcykgewogICAgcmV0dXJuIHsKICAgICAgcmVzcG9uc2U6IHsKICAgICAgICBhY3Rpb246ICdjb21wbGV0ZScsCiAgICAgIH0KICAgIH07CiAgfQoKICBjYW5jZWwucmVtb3ZlKCk7CgogIC8vIERpc2FibGUgdGhlIGlucHV0IGVsZW1lbnQgc2luY2UgZnVydGhlciBwaWNrcyBhcmUgbm90IGFsbG93ZWQuCiAgaW5wdXRFbGVtZW50LmRpc2FibGVkID0gdHJ1ZTsKCiAgZm9yIChjb25zdCBmaWxlIG9mIGZpbGVzKSB7CiAgICBjb25zdCBsaSA9IGRvY3VtZW50LmNyZWF0ZUVsZW1lbnQoJ2xpJyk7CiAgICBsaS5hcHBlbmQoc3BhbihmaWxlLm5hbWUsIHtmb250V2VpZ2h0OiAnYm9sZCd9KSk7CiAgICBsaS5hcHBlbmQoc3BhbigKICAgICAgICBgKCR7ZmlsZS50eXBlIHx8ICduL2EnfSkgLSAke2ZpbGUuc2l6ZX0gYnl0ZXMsIGAgKwogICAgICAgIGBsYXN0IG1vZGlmaWVkOiAkewogICAgICAgICAgICBmaWxlLmxhc3RNb2RpZmllZERhdGUgPyBmaWxlLmxhc3RNb2RpZmllZERhdGUudG9Mb2NhbGVEYXRlU3RyaW5nKCkgOgogICAgICAgICAgICAgICAgICAgICAgICAgICAgICAgICAgICAnbi9hJ30gLSBgKSk7CiAgICBjb25zdCBwZXJjZW50ID0gc3BhbignMCUgZG9uZScpOwogICAgbGkuYXBwZW5kQ2hpbGQocGVyY2VudCk7CgogICAgb3V0cHV0RWxlbWVudC5hcHBlbmRDaGlsZChsaSk7CgogICAgY29uc3QgZmlsZURhdGFQcm9taXNlID0gbmV3IFByb21pc2UoKHJlc29sdmUpID0+IHsKICAgICAgY29uc3QgcmVhZGVyID0gbmV3IEZpbGVSZWFkZXIoKTsKICAgICAgcmVhZGVyLm9ubG9hZCA9IChlKSA9PiB7CiAgICAgICAgcmVzb2x2ZShlLnRhcmdldC5yZXN1bHQpOwogICAgICB9OwogICAgICByZWFkZXIucmVhZEFzQXJyYXlCdWZmZXIoZmlsZSk7CiAgICB9KTsKICAgIC8vIFdhaXQgZm9yIHRoZSBkYXRhIHRvIGJlIHJlYWR5LgogICAgbGV0IGZpbGVEYXRhID0geWllbGQgewogICAgICBwcm9taXNlOiBmaWxlRGF0YVByb21pc2UsCiAgICAgIHJlc3BvbnNlOiB7CiAgICAgICAgYWN0aW9uOiAnY29udGludWUnLAogICAgICB9CiAgICB9OwoKICAgIC8vIFVzZSBhIGNodW5rZWQgc2VuZGluZyB0byBhdm9pZCBtZXNzYWdlIHNpemUgbGltaXRzLiBTZWUgYi82MjExNTY2MC4KICAgIGxldCBwb3NpdGlvbiA9IDA7CiAgICB3aGlsZSAocG9zaXRpb24gPCBmaWxlRGF0YS5ieXRlTGVuZ3RoKSB7CiAgICAgIGNvbnN0IGxlbmd0aCA9IE1hdGgubWluKGZpbGVEYXRhLmJ5dGVMZW5ndGggLSBwb3NpdGlvbiwgTUFYX1BBWUxPQURfU0laRSk7CiAgICAgIGNvbnN0IGNodW5rID0gbmV3IFVpbnQ4QXJyYXkoZmlsZURhdGEsIHBvc2l0aW9uLCBsZW5ndGgpOwogICAgICBwb3NpdGlvbiArPSBsZW5ndGg7CgogICAgICBjb25zdCBiYXNlNjQgPSBidG9hKFN0cmluZy5mcm9tQ2hhckNvZGUuYXBwbHkobnVsbCwgY2h1bmspKTsKICAgICAgeWllbGQgewogICAgICAgIHJlc3BvbnNlOiB7CiAgICAgICAgICBhY3Rpb246ICdhcHBlbmQnLAogICAgICAgICAgZmlsZTogZmlsZS5uYW1lLAogICAgICAgICAgZGF0YTogYmFzZTY0LAogICAgICAgIH0sCiAgICAgIH07CiAgICAgIHBlcmNlbnQudGV4dENvbnRlbnQgPQogICAgICAgICAgYCR7TWF0aC5yb3VuZCgocG9zaXRpb24gLyBmaWxlRGF0YS5ieXRlTGVuZ3RoKSAqIDEwMCl9JSBkb25lYDsKICAgIH0KICB9CgogIC8vIEFsbCBkb25lLgogIHlpZWxkIHsKICAgIHJlc3BvbnNlOiB7CiAgICAgIGFjdGlvbjogJ2NvbXBsZXRlJywKICAgIH0KICB9Owp9CgpzY29wZS5nb29nbGUgPSBzY29wZS5nb29nbGUgfHwge307CnNjb3BlLmdvb2dsZS5jb2xhYiA9IHNjb3BlLmdvb2dsZS5jb2xhYiB8fCB7fTsKc2NvcGUuZ29vZ2xlLmNvbGFiLl9maWxlcyA9IHsKICBfdXBsb2FkRmlsZXMsCiAgX3VwbG9hZEZpbGVzQ29udGludWUsCn07Cn0pKHNlbGYpOwo=",
       "headers": [
        [
         "content-type",
         "application/javascript"
        ]
       ],
       "ok": true,
       "status": 200,
       "status_text": ""
      }
     }
    },
    "colab_type": "code",
    "id": "9LXC4r99-hyU",
    "outputId": "84e72fb5-d9fb-41c9-c5dd-a5ce86c235a0"
   },
   "outputs": [],
   "source": [
    "# files.upload()"
   ]
  },
  {
   "cell_type": "code",
   "execution_count": 4,
   "metadata": {
    "colab": {},
    "colab_type": "code",
    "id": "x8EUyoWz-j3a"
   },
   "outputs": [],
   "source": [
    "# \"!pip install -q kaggle"
   ]
  },
  {
   "cell_type": "code",
   "execution_count": 5,
   "metadata": {
    "colab": {},
    "colab_type": "code",
    "id": "rvhQuNjv_WdC"
   },
   "outputs": [
    {
     "data": {
      "text/plain": [
       "'\\n\\n!chmod 600 kaggle.json\\n!mkdir -p ~/.kaggle\\n!cp kaggle.json ~/.kaggle/\\n'"
      ]
     },
     "execution_count": 5,
     "metadata": {},
     "output_type": "execute_result"
    }
   ],
   "source": [
    "\"\"\"\n",
    "\n",
    "!chmod 600 kaggle.json\n",
    "!mkdir -p ~/.kaggle\n",
    "!cp kaggle.json ~/.kaggle/\n",
    "\"\"\""
   ]
  },
  {
   "cell_type": "code",
   "execution_count": 6,
   "metadata": {
    "colab": {
     "base_uri": "https://localhost:8080/",
     "height": 66
    },
    "colab_type": "code",
    "id": "OUDGHvGl_cx-",
    "outputId": "decff8fe-0502-4060-9944-5e3a333cd760"
   },
   "outputs": [],
   "source": [
    "# !kaggle competitions download -c datathonURP2019"
   ]
  },
  {
   "cell_type": "code",
   "execution_count": 7,
   "metadata": {
    "colab": {
     "base_uri": "https://localhost:8080/",
     "height": 131
    },
    "colab_type": "code",
    "id": "PrzJMnLaSSMH",
    "outputId": "b70a421d-190b-4c36-b0be-77d59f767348"
   },
   "outputs": [],
   "source": [
    "# !ls -l"
   ]
  },
  {
   "cell_type": "markdown",
   "metadata": {
    "colab_type": "text",
    "id": "NIet0_2RA3B1"
   },
   "source": [
    "# [02] Exploratory Data Analysis"
   ]
  },
  {
   "cell_type": "code",
   "execution_count": 8,
   "metadata": {
    "colab": {
     "base_uri": "https://localhost:8080/",
     "height": 683
    },
    "colab_type": "code",
    "id": "jMpCJzajA21Q",
    "outputId": "c3a134e9-dbc4-4f0d-ba93-a62282ec7d90"
   },
   "outputs": [],
   "source": [
    "# !ls -l"
   ]
  },
  {
   "cell_type": "code",
   "execution_count": 9,
   "metadata": {
    "colab": {},
    "colab_type": "code",
    "id": "KKNfFEw0A2xB"
   },
   "outputs": [],
   "source": [
    "# from google.colab import drive"
   ]
  },
  {
   "cell_type": "code",
   "execution_count": 10,
   "metadata": {
    "colab": {
     "base_uri": "https://localhost:8080/",
     "height": 33
    },
    "colab_type": "code",
    "id": "KMEXulAz_fvg",
    "outputId": "e681a70f-6125-46a7-f15e-e45861f54df3"
   },
   "outputs": [],
   "source": [
    "# drive.mount('/gdrive')"
   ]
  },
  {
   "cell_type": "code",
   "execution_count": 11,
   "metadata": {
    "colab": {
     "base_uri": "https://localhost:8080/",
     "height": 261
    },
    "colab_type": "code",
    "id": "GBCARvaEiXv0",
    "outputId": "19278a4a-a1f8-4325-cb74-099cfd37da6d"
   },
   "outputs": [],
   "source": [
    "# !ls -l /gdrive/'My Drive'/Competiciones/'[02] Dn - URP'/'[01] Contest'/'[03] Submit'"
   ]
  },
  {
   "cell_type": "code",
   "execution_count": 12,
   "metadata": {
    "colab": {},
    "colab_type": "code",
    "id": "Jt3ntPXSkSAP"
   },
   "outputs": [],
   "source": [
    "import pandas as pd"
   ]
  },
  {
   "cell_type": "code",
   "execution_count": 13,
   "metadata": {
    "colab": {},
    "colab_type": "code",
    "id": "YFhDDf7yj_FN"
   },
   "outputs": [],
   "source": [
    "# path = \"/gdrive/My Drive/Competiciones/[02] Dn - URP/[01] Contest/[00] Data\""
   ]
  },
  {
   "cell_type": "code",
   "execution_count": 14,
   "metadata": {
    "colab": {
     "base_uri": "https://localhost:8080/",
     "height": 82
    },
    "colab_type": "code",
    "id": "oeRXQTejig3i",
    "outputId": "596a2d5b-20b2-4fbe-a863-39b6c7900f74"
   },
   "outputs": [
    {
     "name": "stderr",
     "output_type": "stream",
     "text": [
      "/home/villacorta/anaconda3/lib/python3.6/site-packages/IPython/core/interactiveshell.py:3020: DtypeWarning: Columns (76,77,78,93,94) have mixed types. Specify dtype option on import or set low_memory=False.\n",
      "  interactivity=interactivity, compiler=compiler, result=result)\n",
      "/home/villacorta/anaconda3/lib/python3.6/site-packages/IPython/core/interactiveshell.py:3020: DtypeWarning: Columns (76,77) have mixed types. Specify dtype option on import or set low_memory=False.\n",
      "  interactivity=interactivity, compiler=compiler, result=result)\n"
     ]
    }
   ],
   "source": [
    "df_train = pd.read_csv(\"data_train.csv\", encoding=\"latin-1\")\n",
    "df_test = pd.read_csv(\"data_test.csv\", encoding=\"latin-1\")"
   ]
  },
  {
   "cell_type": "code",
   "execution_count": 15,
   "metadata": {},
   "outputs": [
    {
     "name": "stdout",
     "output_type": "stream",
     "text": [
      "Index(['COD_ALUMNO', 'SEMESTRE', 'TIPO_SEMESTRE', 'CARRERA',\n",
      "       'SITUACION_MATRICULA', 'CURSOSAPROBADOS', 'CURSOSDESAPROBADOS',\n",
      "       'CURSOSNSP', 'CREDAPROBADOS', 'CREDDESAPROBADOS',\n",
      "       ...\n",
      "       'SITUACION_DEUDA_BOLETA_1', 'SITUACION_DEUDA_BOLETA_2',\n",
      "       'SITUACION_DEUDA_BOLETA_3', 'SITUACION_DEUDA_BOLETA_4',\n",
      "       'SITUACION_DEUDA_BOLETA_5', 'SITUACION_DEUDA_BOLETA_6',\n",
      "       'SITUACION_DEUDA_BOLETA_7', 'SITUACION_DEUDA_BOLETA_8',\n",
      "       'SITUACION_DEUDA_BOLETA_9', 'SITUACION_DEUDA_BOLETA_10'],\n",
      "      dtype='object', length=126)\n"
     ]
    }
   ],
   "source": [
    "print(df_train.columns)"
   ]
  },
  {
   "cell_type": "code",
   "execution_count": 16,
   "metadata": {},
   "outputs": [
    {
     "name": "stdout",
     "output_type": "stream",
     "text": [
      "Index(['COD_ALUMNO', 'SEMESTRE', 'TIPO_SEMESTRE', 'CARRERA',\n",
      "       'SITUACION_MATRICULA', 'CURSOSAPROBADOS', 'CURSOSDESAPROBADOS',\n",
      "       'CURSOSNSP', 'CREDAPROBADOS', 'CREDDESAPROBADOS',\n",
      "       ...\n",
      "       'PROV_TRASLADO_EXTERNO', 'PERIODOS_DESERTO_ULT_SEM_URP',\n",
      "       'CARRERA_ACTUAL', 'PERIODOS_URP_CARRERA_ACTUAL_REGULAR',\n",
      "       'PERIODOS_URP_CARRERA_ACTUAL',\n",
      "       'PROVIENE_TRASLADO_INTERNO_CARRERA_ACTUAL',\n",
      "       'PRIMER_PERIODO_URP_CARRERA_ACTUAL',\n",
      "       'ULTIMO_PERIODO_URP_CARRERA_ACTUAL', 'SITUACION_EGRESO', 'TIPO_BECA'],\n",
      "      dtype='object', length=116)\n"
     ]
    }
   ],
   "source": [
    "print(df_test.columns)"
   ]
  },
  {
   "cell_type": "code",
   "execution_count": 17,
   "metadata": {
    "colab": {
     "base_uri": "https://localhost:8080/",
     "height": 33
    },
    "colab_type": "code",
    "id": "tGt5RswJvMhf",
    "outputId": "3e767bb5-d836-4a74-fe22-4996ff3c7bc1"
   },
   "outputs": [
    {
     "data": {
      "text/plain": [
       "((256215, 126), (44072, 116))"
      ]
     },
     "execution_count": 17,
     "metadata": {},
     "output_type": "execute_result"
    }
   ],
   "source": [
    "df_train.shape, df_test.shape"
   ]
  },
  {
   "cell_type": "markdown",
   "metadata": {
    "colab_type": "text",
    "id": "MgUiDth1zWwF"
   },
   "source": [
    "#### Target"
   ]
  },
  {
   "cell_type": "code",
   "execution_count": 18,
   "metadata": {
    "colab": {},
    "colab_type": "code",
    "id": "LnmspxJlkVpg"
   },
   "outputs": [],
   "source": [
    "list_sit = [c for c in df_train.columns if ('SITUACION_DEUDA_BOLETA_' in c) and c != \"SITUACION_DEUDA_BOLETA_1\"]"
   ]
  },
  {
   "cell_type": "code",
   "execution_count": 19,
   "metadata": {
    "colab": {},
    "colab_type": "code",
    "id": "qZvInyWakZ2w"
   },
   "outputs": [],
   "source": [
    "df_train[\"target\"] = df_train[list_sit].sum(axis=1).apply(lambda f: 1 if f > 0 else 0)"
   ]
  },
  {
   "cell_type": "markdown",
   "metadata": {
    "colab_type": "text",
    "id": "uipD8JW-zZVg"
   },
   "source": [
    "### Variables Numéricas"
   ]
  },
  {
   "cell_type": "code",
   "execution_count": 20,
   "metadata": {
    "colab": {},
    "colab_type": "code",
    "id": "8VzgOyVcnBPq"
   },
   "outputs": [],
   "source": [
    "numeric_features = df_train.select_dtypes(include=[float]).columns.tolist()"
   ]
  },
  {
   "cell_type": "code",
   "execution_count": 21,
   "metadata": {
    "colab": {},
    "colab_type": "code",
    "id": "rKqqV-3dZs7S"
   },
   "outputs": [],
   "source": [
    "#df_train.loc[df_train[\"PORC_ASISTENCIA\"] == \"SIN ASISTENCIA TOMADA\", \"PORC_ASISTENCIA\"] = None\n",
    "#df_test.loc[df_test[\"PORC_ASISTENCIA\"] == \"SIN ASISTENCIA TOMADA\", \"PORC_ASISTENCIA\"] = None\n",
    "#df_train[\"PORC_ASISTENCIA\"] = df_train[\"PORC_ASISTENCIA\"].astype(float)\n",
    "#df_test[\"PORC_ASISTENCIA\"] = df_test[\"PORC_ASISTENCIA\"].astype(float)"
   ]
  },
  {
   "cell_type": "code",
   "execution_count": 22,
   "metadata": {
    "colab": {
     "base_uri": "https://localhost:8080/",
     "height": 1082
    },
    "colab_type": "code",
    "id": "5V0SlalCm31H",
    "outputId": "6cca6845-3032-48d9-96b8-4a46a1c1af4e"
   },
   "outputs": [
    {
     "data": {
      "text/html": [
       "<div>\n",
       "<style scoped>\n",
       "    .dataframe tbody tr th:only-of-type {\n",
       "        vertical-align: middle;\n",
       "    }\n",
       "\n",
       "    .dataframe tbody tr th {\n",
       "        vertical-align: top;\n",
       "    }\n",
       "\n",
       "    .dataframe thead th {\n",
       "        text-align: right;\n",
       "    }\n",
       "</style>\n",
       "<table border=\"1\" class=\"dataframe\">\n",
       "  <thead>\n",
       "    <tr style=\"text-align: right;\">\n",
       "      <th></th>\n",
       "      <th>0</th>\n",
       "      <th>1</th>\n",
       "      <th>2</th>\n",
       "      <th>3</th>\n",
       "      <th>4</th>\n",
       "    </tr>\n",
       "  </thead>\n",
       "  <tbody>\n",
       "    <tr>\n",
       "      <th>CREDAPROBADOS</th>\n",
       "      <td>6.0000</td>\n",
       "      <td>0.000</td>\n",
       "      <td>0.000</td>\n",
       "      <td>0.000</td>\n",
       "      <td>0.000</td>\n",
       "    </tr>\n",
       "    <tr>\n",
       "      <th>CREDDESAPROBADOS</th>\n",
       "      <td>11.0000</td>\n",
       "      <td>0.000</td>\n",
       "      <td>0.000</td>\n",
       "      <td>0.000</td>\n",
       "      <td>0.000</td>\n",
       "    </tr>\n",
       "    <tr>\n",
       "      <th>CREDNSP</th>\n",
       "      <td>0.0000</td>\n",
       "      <td>0.000</td>\n",
       "      <td>0.000</td>\n",
       "      <td>0.000</td>\n",
       "      <td>0.000</td>\n",
       "    </tr>\n",
       "    <tr>\n",
       "      <th>PROMEDIOSINNSP</th>\n",
       "      <td>8.3529</td>\n",
       "      <td>0.000</td>\n",
       "      <td>0.000</td>\n",
       "      <td>0.000</td>\n",
       "      <td>0.000</td>\n",
       "    </tr>\n",
       "    <tr>\n",
       "      <th>CRED_OBLIG_MAT</th>\n",
       "      <td>17.0000</td>\n",
       "      <td>0.000</td>\n",
       "      <td>0.000</td>\n",
       "      <td>0.000</td>\n",
       "      <td>0.000</td>\n",
       "    </tr>\n",
       "    <tr>\n",
       "      <th>CRED_MAT_CICLO_01</th>\n",
       "      <td>17.0000</td>\n",
       "      <td>0.000</td>\n",
       "      <td>0.000</td>\n",
       "      <td>0.000</td>\n",
       "      <td>0.000</td>\n",
       "    </tr>\n",
       "    <tr>\n",
       "      <th>CRED_MAT_CICLO_02</th>\n",
       "      <td>0.0000</td>\n",
       "      <td>0.000</td>\n",
       "      <td>0.000</td>\n",
       "      <td>0.000</td>\n",
       "      <td>0.000</td>\n",
       "    </tr>\n",
       "    <tr>\n",
       "      <th>CRED_MAT_CICLO_03</th>\n",
       "      <td>0.0000</td>\n",
       "      <td>0.000</td>\n",
       "      <td>0.000</td>\n",
       "      <td>0.000</td>\n",
       "      <td>0.000</td>\n",
       "    </tr>\n",
       "    <tr>\n",
       "      <th>CRED_MAT_CICLO_04</th>\n",
       "      <td>0.0000</td>\n",
       "      <td>0.000</td>\n",
       "      <td>0.000</td>\n",
       "      <td>0.000</td>\n",
       "      <td>0.000</td>\n",
       "    </tr>\n",
       "    <tr>\n",
       "      <th>CRED_MAT_CICLO_05</th>\n",
       "      <td>0.0000</td>\n",
       "      <td>0.000</td>\n",
       "      <td>0.000</td>\n",
       "      <td>0.000</td>\n",
       "      <td>0.000</td>\n",
       "    </tr>\n",
       "    <tr>\n",
       "      <th>CRED_MAT_DES_CICLO_01</th>\n",
       "      <td>11.0000</td>\n",
       "      <td>0.000</td>\n",
       "      <td>0.000</td>\n",
       "      <td>0.000</td>\n",
       "      <td>0.000</td>\n",
       "    </tr>\n",
       "    <tr>\n",
       "      <th>CRED_MAT_DES_CICLO_02</th>\n",
       "      <td>0.0000</td>\n",
       "      <td>0.000</td>\n",
       "      <td>0.000</td>\n",
       "      <td>0.000</td>\n",
       "      <td>0.000</td>\n",
       "    </tr>\n",
       "    <tr>\n",
       "      <th>CRED_MAT_DES_CICLO_03</th>\n",
       "      <td>0.0000</td>\n",
       "      <td>0.000</td>\n",
       "      <td>0.000</td>\n",
       "      <td>0.000</td>\n",
       "      <td>0.000</td>\n",
       "    </tr>\n",
       "    <tr>\n",
       "      <th>CRED_MAT_DES_CICLO_04</th>\n",
       "      <td>0.0000</td>\n",
       "      <td>0.000</td>\n",
       "      <td>0.000</td>\n",
       "      <td>0.000</td>\n",
       "      <td>0.000</td>\n",
       "    </tr>\n",
       "    <tr>\n",
       "      <th>CRED_MAT_DES_CICLO_05</th>\n",
       "      <td>0.0000</td>\n",
       "      <td>0.000</td>\n",
       "      <td>0.000</td>\n",
       "      <td>0.000</td>\n",
       "      <td>0.000</td>\n",
       "    </tr>\n",
       "    <tr>\n",
       "      <th>EDAD_PROM_DOCENTE</th>\n",
       "      <td>56.0000</td>\n",
       "      <td>0.000</td>\n",
       "      <td>0.000</td>\n",
       "      <td>0.000</td>\n",
       "      <td>0.000</td>\n",
       "    </tr>\n",
       "    <tr>\n",
       "      <th>NRO_HERMANOS</th>\n",
       "      <td>NaN</td>\n",
       "      <td>NaN</td>\n",
       "      <td>NaN</td>\n",
       "      <td>NaN</td>\n",
       "      <td>NaN</td>\n",
       "    </tr>\n",
       "    <tr>\n",
       "      <th>TRABAJA</th>\n",
       "      <td>NaN</td>\n",
       "      <td>NaN</td>\n",
       "      <td>NaN</td>\n",
       "      <td>NaN</td>\n",
       "      <td>NaN</td>\n",
       "    </tr>\n",
       "    <tr>\n",
       "      <th>INGRESO_PROPIO</th>\n",
       "      <td>NaN</td>\n",
       "      <td>NaN</td>\n",
       "      <td>NaN</td>\n",
       "      <td>NaN</td>\n",
       "      <td>NaN</td>\n",
       "    </tr>\n",
       "    <tr>\n",
       "      <th>INGRESO_NETO_FAMILIARES</th>\n",
       "      <td>NaN</td>\n",
       "      <td>NaN</td>\n",
       "      <td>NaN</td>\n",
       "      <td>NaN</td>\n",
       "      <td>NaN</td>\n",
       "    </tr>\n",
       "    <tr>\n",
       "      <th>AUTOS</th>\n",
       "      <td>NaN</td>\n",
       "      <td>NaN</td>\n",
       "      <td>NaN</td>\n",
       "      <td>NaN</td>\n",
       "      <td>NaN</td>\n",
       "    </tr>\n",
       "    <tr>\n",
       "      <th>HIJOS</th>\n",
       "      <td>NaN</td>\n",
       "      <td>NaN</td>\n",
       "      <td>NaN</td>\n",
       "      <td>NaN</td>\n",
       "      <td>NaN</td>\n",
       "    </tr>\n",
       "    <tr>\n",
       "      <th>PROM_COLEGIO</th>\n",
       "      <td>12.8800</td>\n",
       "      <td>12.880</td>\n",
       "      <td>12.880</td>\n",
       "      <td>12.880</td>\n",
       "      <td>12.880</td>\n",
       "    </tr>\n",
       "    <tr>\n",
       "      <th>PUNTAJE_INGRESO</th>\n",
       "      <td>11.3890</td>\n",
       "      <td>11.389</td>\n",
       "      <td>11.389</td>\n",
       "      <td>11.389</td>\n",
       "      <td>11.389</td>\n",
       "    </tr>\n",
       "    <tr>\n",
       "      <th>CREDITOSCONVALIDADOS</th>\n",
       "      <td>0.0000</td>\n",
       "      <td>0.000</td>\n",
       "      <td>0.000</td>\n",
       "      <td>0.000</td>\n",
       "      <td>0.000</td>\n",
       "    </tr>\n",
       "    <tr>\n",
       "      <th>CREDITOSCURSADOS</th>\n",
       "      <td>17.0000</td>\n",
       "      <td>17.000</td>\n",
       "      <td>17.000</td>\n",
       "      <td>17.000</td>\n",
       "      <td>17.000</td>\n",
       "    </tr>\n",
       "    <tr>\n",
       "      <th>CREDITOSAPROBADOS</th>\n",
       "      <td>6.0000</td>\n",
       "      <td>6.000</td>\n",
       "      <td>6.000</td>\n",
       "      <td>6.000</td>\n",
       "      <td>6.000</td>\n",
       "    </tr>\n",
       "    <tr>\n",
       "      <th>CREDITOSDESAPROBADOS</th>\n",
       "      <td>11.0000</td>\n",
       "      <td>11.000</td>\n",
       "      <td>11.000</td>\n",
       "      <td>11.000</td>\n",
       "      <td>11.000</td>\n",
       "    </tr>\n",
       "    <tr>\n",
       "      <th>PROM_HIST</th>\n",
       "      <td>8.3530</td>\n",
       "      <td>8.353</td>\n",
       "      <td>8.353</td>\n",
       "      <td>8.353</td>\n",
       "      <td>8.353</td>\n",
       "    </tr>\n",
       "    <tr>\n",
       "      <th>PERIODOS_URP</th>\n",
       "      <td>1.0000</td>\n",
       "      <td>1.000</td>\n",
       "      <td>1.000</td>\n",
       "      <td>1.000</td>\n",
       "      <td>1.000</td>\n",
       "    </tr>\n",
       "    <tr>\n",
       "      <th>PERIODOS_URP_REGULAR</th>\n",
       "      <td>1.0000</td>\n",
       "      <td>1.000</td>\n",
       "      <td>1.000</td>\n",
       "      <td>1.000</td>\n",
       "      <td>1.000</td>\n",
       "    </tr>\n",
       "    <tr>\n",
       "      <th>PERIODOS_URP_CARRERA_ACTUAL_REGULAR</th>\n",
       "      <td>1.0000</td>\n",
       "      <td>1.000</td>\n",
       "      <td>1.000</td>\n",
       "      <td>1.000</td>\n",
       "      <td>1.000</td>\n",
       "    </tr>\n",
       "    <tr>\n",
       "      <th>PERIODOS_URP_CARRERA_ACTUAL</th>\n",
       "      <td>0.0000</td>\n",
       "      <td>0.000</td>\n",
       "      <td>0.000</td>\n",
       "      <td>0.000</td>\n",
       "      <td>0.000</td>\n",
       "    </tr>\n",
       "    <tr>\n",
       "      <th>PROVIENE_TRASLADO_INTERNO_CARRERA_ACTUAL</th>\n",
       "      <td>0.0000</td>\n",
       "      <td>0.000</td>\n",
       "      <td>0.000</td>\n",
       "      <td>0.000</td>\n",
       "      <td>0.000</td>\n",
       "    </tr>\n",
       "    <tr>\n",
       "      <th>PRIMER_PERIODO_URP_CARRERA_ACTUAL</th>\n",
       "      <td>20081.0000</td>\n",
       "      <td>20081.000</td>\n",
       "      <td>20081.000</td>\n",
       "      <td>20081.000</td>\n",
       "      <td>20081.000</td>\n",
       "    </tr>\n",
       "    <tr>\n",
       "      <th>ULTIMO_PERIODO_URP_CARRERA_ACTUAL</th>\n",
       "      <td>20081.0000</td>\n",
       "      <td>20081.000</td>\n",
       "      <td>20081.000</td>\n",
       "      <td>20081.000</td>\n",
       "      <td>20081.000</td>\n",
       "    </tr>\n",
       "  </tbody>\n",
       "</table>\n",
       "</div>"
      ],
      "text/plain": [
       "                                                   0          1          2  \\\n",
       "CREDAPROBADOS                                 6.0000      0.000      0.000   \n",
       "CREDDESAPROBADOS                             11.0000      0.000      0.000   \n",
       "CREDNSP                                       0.0000      0.000      0.000   \n",
       "PROMEDIOSINNSP                                8.3529      0.000      0.000   \n",
       "CRED_OBLIG_MAT                               17.0000      0.000      0.000   \n",
       "CRED_MAT_CICLO_01                            17.0000      0.000      0.000   \n",
       "CRED_MAT_CICLO_02                             0.0000      0.000      0.000   \n",
       "CRED_MAT_CICLO_03                             0.0000      0.000      0.000   \n",
       "CRED_MAT_CICLO_04                             0.0000      0.000      0.000   \n",
       "CRED_MAT_CICLO_05                             0.0000      0.000      0.000   \n",
       "CRED_MAT_DES_CICLO_01                        11.0000      0.000      0.000   \n",
       "CRED_MAT_DES_CICLO_02                         0.0000      0.000      0.000   \n",
       "CRED_MAT_DES_CICLO_03                         0.0000      0.000      0.000   \n",
       "CRED_MAT_DES_CICLO_04                         0.0000      0.000      0.000   \n",
       "CRED_MAT_DES_CICLO_05                         0.0000      0.000      0.000   \n",
       "EDAD_PROM_DOCENTE                            56.0000      0.000      0.000   \n",
       "NRO_HERMANOS                                     NaN        NaN        NaN   \n",
       "TRABAJA                                          NaN        NaN        NaN   \n",
       "INGRESO_PROPIO                                   NaN        NaN        NaN   \n",
       "INGRESO_NETO_FAMILIARES                          NaN        NaN        NaN   \n",
       "AUTOS                                            NaN        NaN        NaN   \n",
       "HIJOS                                            NaN        NaN        NaN   \n",
       "PROM_COLEGIO                                 12.8800     12.880     12.880   \n",
       "PUNTAJE_INGRESO                              11.3890     11.389     11.389   \n",
       "CREDITOSCONVALIDADOS                          0.0000      0.000      0.000   \n",
       "CREDITOSCURSADOS                             17.0000     17.000     17.000   \n",
       "CREDITOSAPROBADOS                             6.0000      6.000      6.000   \n",
       "CREDITOSDESAPROBADOS                         11.0000     11.000     11.000   \n",
       "PROM_HIST                                     8.3530      8.353      8.353   \n",
       "PERIODOS_URP                                  1.0000      1.000      1.000   \n",
       "PERIODOS_URP_REGULAR                          1.0000      1.000      1.000   \n",
       "PERIODOS_URP_CARRERA_ACTUAL_REGULAR           1.0000      1.000      1.000   \n",
       "PERIODOS_URP_CARRERA_ACTUAL                   0.0000      0.000      0.000   \n",
       "PROVIENE_TRASLADO_INTERNO_CARRERA_ACTUAL      0.0000      0.000      0.000   \n",
       "PRIMER_PERIODO_URP_CARRERA_ACTUAL         20081.0000  20081.000  20081.000   \n",
       "ULTIMO_PERIODO_URP_CARRERA_ACTUAL         20081.0000  20081.000  20081.000   \n",
       "\n",
       "                                                  3          4  \n",
       "CREDAPROBADOS                                 0.000      0.000  \n",
       "CREDDESAPROBADOS                              0.000      0.000  \n",
       "CREDNSP                                       0.000      0.000  \n",
       "PROMEDIOSINNSP                                0.000      0.000  \n",
       "CRED_OBLIG_MAT                                0.000      0.000  \n",
       "CRED_MAT_CICLO_01                             0.000      0.000  \n",
       "CRED_MAT_CICLO_02                             0.000      0.000  \n",
       "CRED_MAT_CICLO_03                             0.000      0.000  \n",
       "CRED_MAT_CICLO_04                             0.000      0.000  \n",
       "CRED_MAT_CICLO_05                             0.000      0.000  \n",
       "CRED_MAT_DES_CICLO_01                         0.000      0.000  \n",
       "CRED_MAT_DES_CICLO_02                         0.000      0.000  \n",
       "CRED_MAT_DES_CICLO_03                         0.000      0.000  \n",
       "CRED_MAT_DES_CICLO_04                         0.000      0.000  \n",
       "CRED_MAT_DES_CICLO_05                         0.000      0.000  \n",
       "EDAD_PROM_DOCENTE                             0.000      0.000  \n",
       "NRO_HERMANOS                                    NaN        NaN  \n",
       "TRABAJA                                         NaN        NaN  \n",
       "INGRESO_PROPIO                                  NaN        NaN  \n",
       "INGRESO_NETO_FAMILIARES                         NaN        NaN  \n",
       "AUTOS                                           NaN        NaN  \n",
       "HIJOS                                           NaN        NaN  \n",
       "PROM_COLEGIO                                 12.880     12.880  \n",
       "PUNTAJE_INGRESO                              11.389     11.389  \n",
       "CREDITOSCONVALIDADOS                          0.000      0.000  \n",
       "CREDITOSCURSADOS                             17.000     17.000  \n",
       "CREDITOSAPROBADOS                             6.000      6.000  \n",
       "CREDITOSDESAPROBADOS                         11.000     11.000  \n",
       "PROM_HIST                                     8.353      8.353  \n",
       "PERIODOS_URP                                  1.000      1.000  \n",
       "PERIODOS_URP_REGULAR                          1.000      1.000  \n",
       "PERIODOS_URP_CARRERA_ACTUAL_REGULAR           1.000      1.000  \n",
       "PERIODOS_URP_CARRERA_ACTUAL                   0.000      0.000  \n",
       "PROVIENE_TRASLADO_INTERNO_CARRERA_ACTUAL      0.000      0.000  \n",
       "PRIMER_PERIODO_URP_CARRERA_ACTUAL         20081.000  20081.000  \n",
       "ULTIMO_PERIODO_URP_CARRERA_ACTUAL         20081.000  20081.000  "
      ]
     },
     "execution_count": 22,
     "metadata": {},
     "output_type": "execute_result"
    }
   ],
   "source": [
    "df_train[numeric_features].head().T"
   ]
  },
  {
   "cell_type": "markdown",
   "metadata": {
    "colab_type": "text",
    "id": "zGmfF19xzdFm"
   },
   "source": [
    "### Variables categóricas"
   ]
  },
  {
   "cell_type": "code",
   "execution_count": 23,
   "metadata": {
    "colab": {},
    "colab_type": "code",
    "id": "5y1L_lquzfS3"
   },
   "outputs": [],
   "source": [
    "object_features = [c for c in df_train.select_dtypes(include=[object]).columns.tolist() if c not in [\"COD_ALUMNO\"]]"
   ]
  },
  {
   "cell_type": "code",
   "execution_count": 24,
   "metadata": {
    "colab": {
     "base_uri": "https://localhost:8080/",
     "height": 53
    },
    "colab_type": "code",
    "id": "HCgQRlrFN5Dd",
    "outputId": "e7a56d9e-7895-4d87-d961-04bf609c6a79"
   },
   "outputs": [
    {
     "name": "stdout",
     "output_type": "stream",
     "text": [
      "['TIPO_SEMESTRE', 'CARRERA', 'PORC_ASISTENCIA', 'VIVIENDA_DONDE_VIVE', 'TIPO_VIVIENDA_DONDE_VIVE', 'VIVE_CON', 'SEXO', 'CDEPA_DESCRIPCION', 'CPROV_DESCRIPCION', 'CDIST_DESCRIPCION', 'ESTADO_CIVIL', 'TIPO_COLEGIO', 'SEM_NOTAS_HIST_INICIA_CARRERA', 'SEM_NOTAS_HIST_ULTIMO_CARRERA', 'CARRERA_ACTUAL', 'SITUACION_EGRESO', 'TIPO_BECA']\n"
     ]
    }
   ],
   "source": [
    "print(object_features)"
   ]
  },
  {
   "cell_type": "code",
   "execution_count": 25,
   "metadata": {
    "colab": {},
    "colab_type": "code",
    "id": "jBT0WVGWzllz"
   },
   "outputs": [],
   "source": [
    "from sklearn.preprocessing import LabelEncoder\n",
    "import numpy as np\n",
    "import pickle"
   ]
  },
  {
   "cell_type": "code",
   "execution_count": 26,
   "metadata": {},
   "outputs": [
    {
     "data": {
      "text/plain": [
       "Index(['COD_ALUMNO', 'SEMESTRE', 'TIPO_SEMESTRE', 'CARRERA',\n",
       "       'SITUACION_MATRICULA', 'CURSOSAPROBADOS', 'CURSOSDESAPROBADOS',\n",
       "       'CURSOSNSP', 'CREDAPROBADOS', 'CREDDESAPROBADOS',\n",
       "       ...\n",
       "       'SITUACION_DEUDA_BOLETA_2', 'SITUACION_DEUDA_BOLETA_3',\n",
       "       'SITUACION_DEUDA_BOLETA_4', 'SITUACION_DEUDA_BOLETA_5',\n",
       "       'SITUACION_DEUDA_BOLETA_6', 'SITUACION_DEUDA_BOLETA_7',\n",
       "       'SITUACION_DEUDA_BOLETA_8', 'SITUACION_DEUDA_BOLETA_9',\n",
       "       'SITUACION_DEUDA_BOLETA_10', 'target'],\n",
       "      dtype='object', length=127)"
      ]
     },
     "execution_count": 26,
     "metadata": {},
     "output_type": "execute_result"
    }
   ],
   "source": [
    "df_train.columns"
   ]
  },
  {
   "cell_type": "code",
   "execution_count": 27,
   "metadata": {},
   "outputs": [
    {
     "data": {
      "text/plain": [
       "Index(['COD_ALUMNO', 'SEMESTRE', 'TIPO_SEMESTRE', 'CARRERA',\n",
       "       'SITUACION_MATRICULA', 'CURSOSAPROBADOS', 'CURSOSDESAPROBADOS',\n",
       "       'CURSOSNSP', 'CREDAPROBADOS', 'CREDDESAPROBADOS',\n",
       "       ...\n",
       "       'PROV_TRASLADO_EXTERNO', 'PERIODOS_DESERTO_ULT_SEM_URP',\n",
       "       'CARRERA_ACTUAL', 'PERIODOS_URP_CARRERA_ACTUAL_REGULAR',\n",
       "       'PERIODOS_URP_CARRERA_ACTUAL',\n",
       "       'PROVIENE_TRASLADO_INTERNO_CARRERA_ACTUAL',\n",
       "       'PRIMER_PERIODO_URP_CARRERA_ACTUAL',\n",
       "       'ULTIMO_PERIODO_URP_CARRERA_ACTUAL', 'SITUACION_EGRESO', 'TIPO_BECA'],\n",
       "      dtype='object', length=116)"
      ]
     },
     "execution_count": 27,
     "metadata": {},
     "output_type": "execute_result"
    }
   ],
   "source": [
    "df_test.columns"
   ]
  },
  {
   "cell_type": "code",
   "execution_count": 28,
   "metadata": {
    "colab": {
     "base_uri": "https://localhost:8080/",
     "height": 293
    },
    "colab_type": "code",
    "id": "kjpy6o9gzljD",
    "outputId": "3333572b-d6a9-4976-f8b2-2f0cf189e12e"
   },
   "outputs": [
    {
     "name": "stdout",
     "output_type": "stream",
     "text": [
      "----------- 1. Exportar .pkl de variable TIPO_SEMESTRE\n",
      "----------- 2. Exportar .pkl de variable CARRERA\n",
      "----------- 3. Exportar .pkl de variable PORC_ASISTENCIA\n",
      "----------- 4. Exportar .pkl de variable VIVIENDA_DONDE_VIVE\n",
      "----------- 5. Exportar .pkl de variable TIPO_VIVIENDA_DONDE_VIVE\n",
      "----------- 6. Exportar .pkl de variable VIVE_CON\n",
      "----------- 7. Exportar .pkl de variable SEXO\n",
      "----------- 8. Exportar .pkl de variable CDEPA_DESCRIPCION\n",
      "----------- 9. Exportar .pkl de variable CPROV_DESCRIPCION\n",
      "----------- 10. Exportar .pkl de variable CDIST_DESCRIPCION\n",
      "----------- 11. Exportar .pkl de variable ESTADO_CIVIL\n",
      "----------- 12. Exportar .pkl de variable TIPO_COLEGIO\n",
      "----------- 13. Exportar .pkl de variable SEM_NOTAS_HIST_INICIA_CARRERA\n",
      "----------- 14. Exportar .pkl de variable SEM_NOTAS_HIST_ULTIMO_CARRERA\n",
      "----------- 15. Exportar .pkl de variable CARRERA_ACTUAL\n",
      "----------- 16. Exportar .pkl de variable SITUACION_EGRESO\n",
      "----------- 17. Exportar .pkl de variable TIPO_BECA\n"
     ]
    }
   ],
   "source": [
    "count = 1\n",
    "for c in object_features:#['calificacion', 'estado_civil', 'segmento', 'tipo_cliente', 'genero', 'departamento_principal']:\n",
    "    print (\"----------- {}. Exportar .pkl de variable {}\".format(count, c))\n",
    "    lb = LabelEncoder()\n",
    "    full_var_data = df_train[c].astype('str')\n",
    "    lb.fit(np.array(full_var_data))\n",
    "    pickle.dump(lb, open(c+'.pkl','wb'))\n",
    "    dict_map_tmp = dict(zip(lb.classes_, lb.transform(lb.classes_)))\n",
    "    df_train[c+\"_le\"] = df_train[c].map(dict_map_tmp)#lb.transform(full_var_data)\n",
    "    df_test[c+\"_le\"] = df_test[c].map(dict_map_tmp)#lb.transform(test[c])\n",
    "    count+=1"
   ]
  },
  {
   "cell_type": "markdown",
   "metadata": {
    "colab_type": "text",
    "id": "LlwGsA47o-lQ"
   },
   "source": [
    "# Feature Engineering"
   ]
  },
  {
   "cell_type": "code",
   "execution_count": 29,
   "metadata": {
    "colab": {},
    "colab_type": "code",
    "id": "4sLF5VlnQPYp"
   },
   "outputs": [],
   "source": [
    "def diff_period(fin, ini):\n",
    "  if fin >0:\n",
    "    anho_fin = int(fin/10)\n",
    "    anho_ini = int(ini/10)\n",
    "\n",
    "    cycle_fin = fin % 10\n",
    "    cycle_ini = ini % 10\n",
    "\n",
    "    diff = (anho_fin-anho_ini)*3 + (cycle_fin-cycle_ini)\n",
    "  else:\n",
    "    diff = None\n",
    "  return diff"
   ]
  },
  {
   "cell_type": "code",
   "execution_count": 30,
   "metadata": {
    "colab": {},
    "colab_type": "code",
    "id": "EzrX4zuFoOqk"
   },
   "outputs": [],
   "source": [
    "df_train[\"DIFF_ULTIMO_PRIMERO\"] = df_train.apply(lambda row: diff_period(row[\"ULTIMO_PERIODO_URP_CARRERA_ACTUAL\"], row[\"PRIMER_PERIODO_URP_CARRERA_ACTUAL\"]), axis=1)\n",
    "df_train[\"DIFF_CANTIDAD_SEMESTRE\"] = df_train.apply(lambda row: diff_period(row[\"ULTIMO_PERIODO_URP_CARRERA_ACTUAL\"], row[\"SEM_ING\"]), axis=1)"
   ]
  },
  {
   "cell_type": "code",
   "execution_count": 31,
   "metadata": {
    "colab": {},
    "colab_type": "code",
    "id": "7M0gTroccIJR"
   },
   "outputs": [],
   "source": [
    "df_test[\"DIFF_ULTIMO_PRIMERO\"] = df_test.apply(lambda row: diff_period(row[\"ULTIMO_PERIODO_URP_CARRERA_ACTUAL\"], row[\"PRIMER_PERIODO_URP_CARRERA_ACTUAL\"]), axis=1)\n",
    "df_test[\"DIFF_CANTIDAD_SEMESTRE\"] = df_test.apply(lambda row: diff_period(row[\"ULTIMO_PERIODO_URP_CARRERA_ACTUAL\"], row[\"SEM_ING\"]), axis=1)"
   ]
  },
  {
   "cell_type": "code",
   "execution_count": 32,
   "metadata": {
    "colab": {},
    "colab_type": "code",
    "id": "M-v94kj6e97k"
   },
   "outputs": [],
   "source": [
    "df_train[\"MISMA_CARRERA\"] = df_train.apply(lambda row: 1 if row[\"CARRERA_ACTUAL\"] == row[\"CARRERA\"] else 0, axis=1)\n",
    "df_test[\"MISMA_CARRERA\"] = df_test.apply(lambda row: 1 if row[\"CARRERA_ACTUAL\"] == row[\"CARRERA\"] else 0, axis=1)"
   ]
  },
  {
   "cell_type": "code",
   "execution_count": 33,
   "metadata": {
    "colab": {
     "base_uri": "https://localhost:8080/",
     "height": 66
    },
    "colab_type": "code",
    "id": "CbwbMm7UfMIj",
    "outputId": "23470bd0-7442-422c-a5c8-2341e86ddcd1"
   },
   "outputs": [],
   "source": [
    "# df_train[\"MISMA_CARRERA\"].value_counts(normalize=True)"
   ]
  },
  {
   "cell_type": "code",
   "execution_count": 34,
   "metadata": {
    "colab": {},
    "colab_type": "code",
    "id": "2bJaJy6HQ_qu"
   },
   "outputs": [],
   "source": [
    "new_features = [\"DIFF_ULTIMO_PRIMERO\", \"DIFF_CANTIDAD_SEMESTRE\", \"MISMA_CARRERA\"]"
   ]
  },
  {
   "cell_type": "markdown",
   "metadata": {
    "colab_type": "text",
    "id": "Vo0RqBlOzfpA"
   },
   "source": [
    "### Predictores"
   ]
  },
  {
   "cell_type": "code",
   "execution_count": 35,
   "metadata": {
    "colab": {},
    "colab_type": "code",
    "id": "gs-cmA03oOs8"
   },
   "outputs": [],
   "source": [
    "predictores = numeric_features + [col + '_le' for col in object_features]"
   ]
  },
  {
   "cell_type": "code",
   "execution_count": 36,
   "metadata": {},
   "outputs": [
    {
     "name": "stdout",
     "output_type": "stream",
     "text": [
      "['CREDAPROBADOS', 'CREDDESAPROBADOS', 'CREDNSP', 'PROMEDIOSINNSP', 'CRED_OBLIG_MAT', 'CRED_MAT_CICLO_01', 'CRED_MAT_CICLO_02', 'CRED_MAT_CICLO_03', 'CRED_MAT_CICLO_04', 'CRED_MAT_CICLO_05', 'CRED_MAT_DES_CICLO_01', 'CRED_MAT_DES_CICLO_02', 'CRED_MAT_DES_CICLO_03', 'CRED_MAT_DES_CICLO_04', 'CRED_MAT_DES_CICLO_05', 'EDAD_PROM_DOCENTE', 'NRO_HERMANOS', 'TRABAJA', 'INGRESO_PROPIO', 'INGRESO_NETO_FAMILIARES', 'AUTOS', 'HIJOS', 'PROM_COLEGIO', 'PUNTAJE_INGRESO', 'CREDITOSCONVALIDADOS', 'CREDITOSCURSADOS', 'CREDITOSAPROBADOS', 'CREDITOSDESAPROBADOS', 'PROM_HIST', 'PERIODOS_URP', 'PERIODOS_URP_REGULAR', 'PERIODOS_URP_CARRERA_ACTUAL_REGULAR', 'PERIODOS_URP_CARRERA_ACTUAL', 'PROVIENE_TRASLADO_INTERNO_CARRERA_ACTUAL', 'PRIMER_PERIODO_URP_CARRERA_ACTUAL', 'ULTIMO_PERIODO_URP_CARRERA_ACTUAL', 'TIPO_SEMESTRE_le', 'CARRERA_le', 'PORC_ASISTENCIA_le', 'VIVIENDA_DONDE_VIVE_le', 'TIPO_VIVIENDA_DONDE_VIVE_le', 'VIVE_CON_le', 'SEXO_le', 'CDEPA_DESCRIPCION_le', 'CPROV_DESCRIPCION_le', 'CDIST_DESCRIPCION_le', 'ESTADO_CIVIL_le', 'TIPO_COLEGIO_le', 'SEM_NOTAS_HIST_INICIA_CARRERA_le', 'SEM_NOTAS_HIST_ULTIMO_CARRERA_le', 'CARRERA_ACTUAL_le', 'SITUACION_EGRESO_le', 'TIPO_BECA_le']\n"
     ]
    }
   ],
   "source": [
    "print(predictores)"
   ]
  },
  {
   "cell_type": "markdown",
   "metadata": {
    "colab_type": "text",
    "id": "q3W1tLIEoVyE"
   },
   "source": [
    "# Modelamiento"
   ]
  },
  {
   "cell_type": "code",
   "execution_count": 37,
   "metadata": {
    "colab": {},
    "colab_type": "code",
    "id": "fiYG8itaoOoH"
   },
   "outputs": [],
   "source": [
    "X_train_cv = df_train[predictores].copy()\n",
    "y_train_cv = df_train[\"target\"].copy()"
   ]
  },
  {
   "cell_type": "code",
   "execution_count": 38,
   "metadata": {
    "colab": {},
    "colab_type": "code",
    "id": "wKJFFuQdm33t"
   },
   "outputs": [],
   "source": [
    "import lightgbm as lgb\n",
    "import numpy as np\n",
    "from sklearn.base import clone\n",
    "from sklearn.metrics import roc_auc_score\n",
    "from sklearn.model_selection import StratifiedKFold"
   ]
  },
  {
   "cell_type": "code",
   "execution_count": 39,
   "metadata": {
    "colab": {},
    "colab_type": "code",
    "id": "KjopgVdhm36h"
   },
   "outputs": [],
   "source": [
    "seed_val=0\n",
    "rounds=1000\n",
    "deep=8\n",
    "eta=0.05\n",
    "\n",
    "params = {}\n",
    "params[\"objective\"] = \"binary\"\n",
    "params['metric'] = 'auc'\n",
    "#params['num_class'] = 3\n",
    "params[\"max_depth\"] = deep\n",
    "params[\"min_data_in_leaf\"] = 20\n",
    "params[\"learning_rate\"] = eta\n",
    "params[\"bagging_fraction\"] = 0.7\n",
    "params[\"feature_fraction\"] = 0.7\n",
    "params[\"bagging_freq\"] = 5\n",
    "params[\"bagging_seed\"] = seed_val\n",
    "params[\"verbosity\"] = 0\n",
    "num_rounds = rounds\n",
    "evals_result = {}\n",
    "\n",
    "plst = list(params.items())"
   ]
  },
  {
   "cell_type": "code",
   "execution_count": 40,
   "metadata": {
    "colab": {},
    "colab_type": "code",
    "id": "tBVi0d5Ym39Z"
   },
   "outputs": [],
   "source": [
    "k = 5 # n folds\n",
    "metric = 'roc_auc'\n",
    "\n",
    "skf = StratifiedKFold(n_splits=5, shuffle=True, random_state=0)"
   ]
  },
  {
   "cell_type": "code",
   "execution_count": 41,
   "metadata": {
    "colab": {},
    "colab_type": "code",
    "id": "sHZVjTNRkbsH"
   },
   "outputs": [],
   "source": [
    "# Para el Stacking\n",
    "df_probs_train = df_train[[\"COD_ALUMNO\"]]\n",
    "df_probs_test = df_test[[\"COD_ALUMNO\"]]"
   ]
  },
  {
   "cell_type": "code",
   "execution_count": 42,
   "metadata": {
    "colab": {
     "base_uri": "https://localhost:8080/",
     "height": 5623
    },
    "colab_type": "code",
    "id": "FLiEFirmm0e8",
    "outputId": "0f7c8f9c-85e0-4064-a61b-5523d2156747"
   },
   "outputs": [
    {
     "name": "stdout",
     "output_type": "stream",
     "text": [
      "Iteracion 0\n",
      "Training until validation scores don't improve for 100 rounds.\n",
      "[20]\ttraining's auc: 0.844982\tvalid_1's auc: 0.843327\n",
      "[40]\ttraining's auc: 0.850856\tvalid_1's auc: 0.847955\n",
      "[60]\ttraining's auc: 0.85628\tvalid_1's auc: 0.852206\n",
      "[80]\ttraining's auc: 0.860368\tvalid_1's auc: 0.855621\n",
      "[100]\ttraining's auc: 0.864112\tvalid_1's auc: 0.858417\n",
      "[120]\ttraining's auc: 0.867146\tvalid_1's auc: 0.860339\n",
      "[140]\ttraining's auc: 0.870344\tvalid_1's auc: 0.86271\n",
      "[160]\ttraining's auc: 0.873127\tvalid_1's auc: 0.864564\n",
      "[180]\ttraining's auc: 0.876117\tvalid_1's auc: 0.866886\n",
      "[200]\ttraining's auc: 0.878534\tvalid_1's auc: 0.868366\n",
      "[220]\ttraining's auc: 0.880924\tvalid_1's auc: 0.870101\n",
      "[240]\ttraining's auc: 0.883074\tvalid_1's auc: 0.87172\n",
      "[260]\ttraining's auc: 0.885379\tvalid_1's auc: 0.873201\n",
      "[280]\ttraining's auc: 0.887255\tvalid_1's auc: 0.874377\n",
      "[300]\ttraining's auc: 0.889152\tvalid_1's auc: 0.875527\n",
      "[320]\ttraining's auc: 0.890688\tvalid_1's auc: 0.8764\n",
      "[340]\ttraining's auc: 0.892283\tvalid_1's auc: 0.877206\n",
      "[360]\ttraining's auc: 0.894042\tvalid_1's auc: 0.878363\n",
      "[380]\ttraining's auc: 0.895756\tvalid_1's auc: 0.879491\n",
      "[400]\ttraining's auc: 0.897077\tvalid_1's auc: 0.88029\n",
      "[420]\ttraining's auc: 0.898444\tvalid_1's auc: 0.881085\n",
      "[440]\ttraining's auc: 0.899965\tvalid_1's auc: 0.882106\n",
      "[460]\ttraining's auc: 0.901538\tvalid_1's auc: 0.883164\n",
      "[480]\ttraining's auc: 0.903074\tvalid_1's auc: 0.884106\n",
      "[500]\ttraining's auc: 0.904493\tvalid_1's auc: 0.884945\n",
      "[520]\ttraining's auc: 0.905685\tvalid_1's auc: 0.885611\n",
      "[540]\ttraining's auc: 0.906777\tvalid_1's auc: 0.886047\n",
      "[560]\ttraining's auc: 0.908142\tvalid_1's auc: 0.886954\n",
      "[580]\ttraining's auc: 0.909276\tvalid_1's auc: 0.887559\n",
      "[600]\ttraining's auc: 0.910185\tvalid_1's auc: 0.887832\n",
      "[620]\ttraining's auc: 0.911276\tvalid_1's auc: 0.888325\n",
      "[640]\ttraining's auc: 0.91262\tvalid_1's auc: 0.889206\n",
      "[660]\ttraining's auc: 0.913473\tvalid_1's auc: 0.889571\n",
      "[680]\ttraining's auc: 0.914443\tvalid_1's auc: 0.890125\n",
      "[700]\ttraining's auc: 0.915548\tvalid_1's auc: 0.890892\n",
      "[720]\ttraining's auc: 0.916499\tvalid_1's auc: 0.891334\n",
      "[740]\ttraining's auc: 0.917415\tvalid_1's auc: 0.891714\n",
      "[760]\ttraining's auc: 0.918201\tvalid_1's auc: 0.892011\n",
      "[780]\ttraining's auc: 0.919028\tvalid_1's auc: 0.892148\n",
      "[800]\ttraining's auc: 0.91973\tvalid_1's auc: 0.892448\n",
      "[820]\ttraining's auc: 0.920597\tvalid_1's auc: 0.892907\n",
      "[840]\ttraining's auc: 0.921336\tvalid_1's auc: 0.893176\n",
      "[860]\ttraining's auc: 0.922257\tvalid_1's auc: 0.893713\n",
      "[880]\ttraining's auc: 0.923234\tvalid_1's auc: 0.894323\n",
      "[900]\ttraining's auc: 0.924064\tvalid_1's auc: 0.894722\n",
      "[920]\ttraining's auc: 0.924875\tvalid_1's auc: 0.895176\n",
      "[940]\ttraining's auc: 0.925746\tvalid_1's auc: 0.895711\n",
      "[960]\ttraining's auc: 0.926446\tvalid_1's auc: 0.895902\n",
      "[980]\ttraining's auc: 0.927335\tvalid_1's auc: 0.896433\n",
      "[1000]\ttraining's auc: 0.928215\tvalid_1's auc: 0.897057\n",
      "Did not meet early stopping. Best iteration is:\n",
      "[1000]\ttraining's auc: 0.928215\tvalid_1's auc: 0.897057\n"
     ]
    },
    {
     "name": "stderr",
     "output_type": "stream",
     "text": [
      "/home/villacorta/anaconda3/lib/python3.6/site-packages/pandas/core/indexing.py:362: SettingWithCopyWarning: \n",
      "A value is trying to be set on a copy of a slice from a DataFrame.\n",
      "Try using .loc[row_indexer,col_indexer] = value instead\n",
      "\n",
      "See the caveats in the documentation: http://pandas.pydata.org/pandas-docs/stable/indexing.html#indexing-view-versus-copy\n",
      "  self.obj[key] = _infer_fill_value(value)\n",
      "/home/villacorta/anaconda3/lib/python3.6/site-packages/pandas/core/indexing.py:543: SettingWithCopyWarning: \n",
      "A value is trying to be set on a copy of a slice from a DataFrame.\n",
      "Try using .loc[row_indexer,col_indexer] = value instead\n",
      "\n",
      "See the caveats in the documentation: http://pandas.pydata.org/pandas-docs/stable/indexing.html#indexing-view-versus-copy\n",
      "  self.obj[item] = s\n",
      "/home/villacorta/anaconda3/lib/python3.6/site-packages/ipykernel_launcher.py:20: SettingWithCopyWarning: \n",
      "A value is trying to be set on a copy of a slice from a DataFrame.\n",
      "Try using .loc[row_indexer,col_indexer] = value instead\n",
      "\n",
      "See the caveats in the documentation: http://pandas.pydata.org/pandas-docs/stable/indexing.html#indexing-view-versus-copy\n"
     ]
    },
    {
     "name": "stdout",
     "output_type": "stream",
     "text": [
      "Iteracion 0: auc train 0.928215 - auc test 0.897057 \n",
      "Mean Probs:  0.3634 0.3623 0.304 0.3015\n",
      "Mean Target:  0.3633 0.3633\n",
      "Iteracion 1\n",
      "Training until validation scores don't improve for 100 rounds.\n",
      "[20]\ttraining's auc: 0.84442\tvalid_1's auc: 0.840159\n",
      "[40]\ttraining's auc: 0.850382\tvalid_1's auc: 0.845855\n",
      "[60]\ttraining's auc: 0.856084\tvalid_1's auc: 0.850386\n",
      "[80]\ttraining's auc: 0.860288\tvalid_1's auc: 0.853703\n",
      "[100]\ttraining's auc: 0.864213\tvalid_1's auc: 0.856791\n",
      "[120]\ttraining's auc: 0.867425\tvalid_1's auc: 0.859107\n",
      "[140]\ttraining's auc: 0.870493\tvalid_1's auc: 0.861319\n",
      "[160]\ttraining's auc: 0.87329\tvalid_1's auc: 0.863349\n",
      "[180]\ttraining's auc: 0.876075\tvalid_1's auc: 0.865403\n",
      "[200]\ttraining's auc: 0.87869\tvalid_1's auc: 0.86744\n",
      "[220]\ttraining's auc: 0.881256\tvalid_1's auc: 0.869285\n",
      "[240]\ttraining's auc: 0.883209\tvalid_1's auc: 0.870428\n",
      "[260]\ttraining's auc: 0.885451\tvalid_1's auc: 0.871987\n",
      "[280]\ttraining's auc: 0.887323\tvalid_1's auc: 0.873131\n",
      "[300]\ttraining's auc: 0.889197\tvalid_1's auc: 0.874141\n",
      "[320]\ttraining's auc: 0.89102\tvalid_1's auc: 0.875323\n",
      "[340]\ttraining's auc: 0.892775\tvalid_1's auc: 0.876343\n",
      "[360]\ttraining's auc: 0.894406\tvalid_1's auc: 0.877276\n",
      "[380]\ttraining's auc: 0.895924\tvalid_1's auc: 0.878192\n",
      "[400]\ttraining's auc: 0.897386\tvalid_1's auc: 0.878902\n",
      "[420]\ttraining's auc: 0.898879\tvalid_1's auc: 0.879755\n",
      "[440]\ttraining's auc: 0.900177\tvalid_1's auc: 0.880467\n",
      "[460]\ttraining's auc: 0.901909\tvalid_1's auc: 0.881702\n",
      "[480]\ttraining's auc: 0.903216\tvalid_1's auc: 0.88245\n",
      "[500]\ttraining's auc: 0.904541\tvalid_1's auc: 0.883262\n",
      "[520]\ttraining's auc: 0.905776\tvalid_1's auc: 0.883895\n",
      "[540]\ttraining's auc: 0.906861\tvalid_1's auc: 0.88457\n",
      "[560]\ttraining's auc: 0.907866\tvalid_1's auc: 0.884941\n",
      "[580]\ttraining's auc: 0.908947\tvalid_1's auc: 0.885386\n",
      "[600]\ttraining's auc: 0.90999\tvalid_1's auc: 0.885862\n",
      "[620]\ttraining's auc: 0.911247\tvalid_1's auc: 0.88662\n",
      "[640]\ttraining's auc: 0.912304\tvalid_1's auc: 0.887131\n",
      "[660]\ttraining's auc: 0.913426\tvalid_1's auc: 0.887733\n",
      "[680]\ttraining's auc: 0.914292\tvalid_1's auc: 0.888103\n",
      "[700]\ttraining's auc: 0.91535\tvalid_1's auc: 0.888604\n",
      "[720]\ttraining's auc: 0.916377\tvalid_1's auc: 0.889167\n",
      "[740]\ttraining's auc: 0.917226\tvalid_1's auc: 0.889562\n",
      "[760]\ttraining's auc: 0.91833\tvalid_1's auc: 0.890205\n",
      "[780]\ttraining's auc: 0.919258\tvalid_1's auc: 0.890689\n",
      "[800]\ttraining's auc: 0.920022\tvalid_1's auc: 0.890953\n",
      "[820]\ttraining's auc: 0.921211\tvalid_1's auc: 0.891857\n",
      "[840]\ttraining's auc: 0.922129\tvalid_1's auc: 0.892411\n",
      "[860]\ttraining's auc: 0.922965\tvalid_1's auc: 0.892867\n",
      "[880]\ttraining's auc: 0.923986\tvalid_1's auc: 0.893281\n",
      "[900]\ttraining's auc: 0.924823\tvalid_1's auc: 0.893685\n",
      "[920]\ttraining's auc: 0.925565\tvalid_1's auc: 0.894075\n",
      "[940]\ttraining's auc: 0.926249\tvalid_1's auc: 0.894369\n",
      "[960]\ttraining's auc: 0.927112\tvalid_1's auc: 0.894789\n",
      "[980]\ttraining's auc: 0.927682\tvalid_1's auc: 0.894939\n",
      "[1000]\ttraining's auc: 0.92817\tvalid_1's auc: 0.894991\n",
      "Did not meet early stopping. Best iteration is:\n",
      "[1000]\ttraining's auc: 0.92817\tvalid_1's auc: 0.894991\n",
      "Iteracion 1: auc train 0.92817 - auc test 0.894991 \n",
      "Mean Probs:  0.3628 0.3631 0.3036 0.3013\n",
      "Mean Target:  0.3633 0.3633\n",
      "Iteracion 2\n",
      "Training until validation scores don't improve for 100 rounds.\n",
      "[20]\ttraining's auc: 0.844321\tvalid_1's auc: 0.83983\n",
      "[40]\ttraining's auc: 0.850677\tvalid_1's auc: 0.845679\n",
      "[60]\ttraining's auc: 0.856476\tvalid_1's auc: 0.850878\n",
      "[80]\ttraining's auc: 0.860691\tvalid_1's auc: 0.854462\n",
      "[100]\ttraining's auc: 0.864259\tvalid_1's auc: 0.857384\n",
      "[120]\ttraining's auc: 0.867455\tvalid_1's auc: 0.860081\n",
      "[140]\ttraining's auc: 0.870746\tvalid_1's auc: 0.862696\n",
      "[160]\ttraining's auc: 0.87326\tvalid_1's auc: 0.864726\n",
      "[180]\ttraining's auc: 0.876214\tvalid_1's auc: 0.867168\n",
      "[200]\ttraining's auc: 0.878836\tvalid_1's auc: 0.869206\n",
      "[220]\ttraining's auc: 0.880963\tvalid_1's auc: 0.870729\n",
      "[240]\ttraining's auc: 0.883197\tvalid_1's auc: 0.872382\n",
      "[260]\ttraining's auc: 0.885782\tvalid_1's auc: 0.874394\n",
      "[280]\ttraining's auc: 0.887278\tvalid_1's auc: 0.875277\n",
      "[300]\ttraining's auc: 0.889101\tvalid_1's auc: 0.876498\n",
      "[320]\ttraining's auc: 0.890915\tvalid_1's auc: 0.877744\n",
      "[340]\ttraining's auc: 0.892619\tvalid_1's auc: 0.878933\n",
      "[360]\ttraining's auc: 0.894349\tvalid_1's auc: 0.880088\n",
      "[380]\ttraining's auc: 0.896016\tvalid_1's auc: 0.881229\n",
      "[400]\ttraining's auc: 0.897402\tvalid_1's auc: 0.882033\n",
      "[420]\ttraining's auc: 0.899008\tvalid_1's auc: 0.883255\n",
      "[440]\ttraining's auc: 0.90056\tvalid_1's auc: 0.884447\n",
      "[460]\ttraining's auc: 0.901714\tvalid_1's auc: 0.885083\n",
      "[480]\ttraining's auc: 0.902849\tvalid_1's auc: 0.885682\n",
      "[500]\ttraining's auc: 0.904034\tvalid_1's auc: 0.88631\n",
      "[520]\ttraining's auc: 0.905293\tvalid_1's auc: 0.887193\n",
      "[540]\ttraining's auc: 0.906247\tvalid_1's auc: 0.887548\n",
      "[560]\ttraining's auc: 0.907557\tvalid_1's auc: 0.888303\n",
      "[580]\ttraining's auc: 0.908718\tvalid_1's auc: 0.888865\n",
      "[600]\ttraining's auc: 0.910024\tvalid_1's auc: 0.889649\n",
      "[620]\ttraining's auc: 0.911009\tvalid_1's auc: 0.890139\n",
      "[640]\ttraining's auc: 0.912195\tvalid_1's auc: 0.890736\n",
      "[660]\ttraining's auc: 0.913016\tvalid_1's auc: 0.891115\n",
      "[680]\ttraining's auc: 0.914036\tvalid_1's auc: 0.891624\n",
      "[700]\ttraining's auc: 0.91484\tvalid_1's auc: 0.892002\n",
      "[720]\ttraining's auc: 0.915793\tvalid_1's auc: 0.892561\n",
      "[740]\ttraining's auc: 0.91673\tvalid_1's auc: 0.893181\n",
      "[760]\ttraining's auc: 0.917656\tvalid_1's auc: 0.893602\n",
      "[780]\ttraining's auc: 0.918618\tvalid_1's auc: 0.894066\n",
      "[800]\ttraining's auc: 0.91969\tvalid_1's auc: 0.894726\n",
      "[820]\ttraining's auc: 0.920534\tvalid_1's auc: 0.89525\n",
      "[840]\ttraining's auc: 0.921288\tvalid_1's auc: 0.895484\n",
      "[860]\ttraining's auc: 0.922364\tvalid_1's auc: 0.896177\n",
      "[880]\ttraining's auc: 0.923251\tvalid_1's auc: 0.896586\n",
      "[900]\ttraining's auc: 0.923927\tvalid_1's auc: 0.896884\n",
      "[920]\ttraining's auc: 0.924822\tvalid_1's auc: 0.897444\n",
      "[940]\ttraining's auc: 0.925775\tvalid_1's auc: 0.898103\n",
      "[960]\ttraining's auc: 0.926524\tvalid_1's auc: 0.898503\n",
      "[980]\ttraining's auc: 0.927373\tvalid_1's auc: 0.898986\n",
      "[1000]\ttraining's auc: 0.928012\tvalid_1's auc: 0.899209\n",
      "Did not meet early stopping. Best iteration is:\n",
      "[1000]\ttraining's auc: 0.928012\tvalid_1's auc: 0.899209\n",
      "Iteracion 2: auc train 0.928012 - auc test 0.899209 \n",
      "Mean Probs:  0.3632 0.3655 0.3039 0.302\n",
      "Mean Target:  0.3633 0.3633\n",
      "Iteracion 3\n",
      "Training until validation scores don't improve for 100 rounds.\n",
      "[20]\ttraining's auc: 0.843781\tvalid_1's auc: 0.84127\n",
      "[40]\ttraining's auc: 0.850247\tvalid_1's auc: 0.847153\n",
      "[60]\ttraining's auc: 0.855743\tvalid_1's auc: 0.851973\n",
      "[80]\ttraining's auc: 0.860013\tvalid_1's auc: 0.85561\n",
      "[100]\ttraining's auc: 0.863838\tvalid_1's auc: 0.858854\n",
      "[120]\ttraining's auc: 0.866955\tvalid_1's auc: 0.861183\n",
      "[140]\ttraining's auc: 0.870044\tvalid_1's auc: 0.863448\n",
      "[160]\ttraining's auc: 0.873238\tvalid_1's auc: 0.866068\n",
      "[180]\ttraining's auc: 0.876184\tvalid_1's auc: 0.868253\n",
      "[200]\ttraining's auc: 0.878493\tvalid_1's auc: 0.869705\n",
      "[220]\ttraining's auc: 0.880912\tvalid_1's auc: 0.871286\n",
      "[240]\ttraining's auc: 0.883282\tvalid_1's auc: 0.873003\n",
      "[260]\ttraining's auc: 0.885638\tvalid_1's auc: 0.874827\n",
      "[280]\ttraining's auc: 0.887856\tvalid_1's auc: 0.876327\n",
      "[300]\ttraining's auc: 0.889557\tvalid_1's auc: 0.877441\n",
      "[320]\ttraining's auc: 0.89148\tvalid_1's auc: 0.878711\n",
      "[340]\ttraining's auc: 0.89304\tvalid_1's auc: 0.879699\n",
      "[360]\ttraining's auc: 0.894853\tvalid_1's auc: 0.880904\n",
      "[380]\ttraining's auc: 0.896427\tvalid_1's auc: 0.882001\n",
      "[400]\ttraining's auc: 0.898128\tvalid_1's auc: 0.882962\n",
      "[420]\ttraining's auc: 0.899299\tvalid_1's auc: 0.883516\n",
      "[440]\ttraining's auc: 0.900543\tvalid_1's auc: 0.884144\n",
      "[460]\ttraining's auc: 0.901722\tvalid_1's auc: 0.884812\n",
      "[480]\ttraining's auc: 0.903155\tvalid_1's auc: 0.88577\n",
      "[500]\ttraining's auc: 0.904489\tvalid_1's auc: 0.886652\n",
      "[520]\ttraining's auc: 0.905754\tvalid_1's auc: 0.887294\n",
      "[540]\ttraining's auc: 0.906898\tvalid_1's auc: 0.887991\n",
      "[560]\ttraining's auc: 0.908181\tvalid_1's auc: 0.888824\n",
      "[580]\ttraining's auc: 0.90952\tvalid_1's auc: 0.889627\n",
      "[600]\ttraining's auc: 0.91066\tvalid_1's auc: 0.890207\n",
      "[620]\ttraining's auc: 0.91203\tvalid_1's auc: 0.891286\n",
      "[640]\ttraining's auc: 0.912906\tvalid_1's auc: 0.891627\n",
      "[660]\ttraining's auc: 0.914024\tvalid_1's auc: 0.892288\n",
      "[680]\ttraining's auc: 0.915182\tvalid_1's auc: 0.893055\n",
      "[700]\ttraining's auc: 0.916186\tvalid_1's auc: 0.893557\n",
      "[720]\ttraining's auc: 0.91707\tvalid_1's auc: 0.894001\n",
      "[740]\ttraining's auc: 0.917871\tvalid_1's auc: 0.894277\n",
      "[760]\ttraining's auc: 0.918733\tvalid_1's auc: 0.894624\n",
      "[780]\ttraining's auc: 0.919626\tvalid_1's auc: 0.895049\n",
      "[800]\ttraining's auc: 0.920382\tvalid_1's auc: 0.895477\n",
      "[820]\ttraining's auc: 0.921435\tvalid_1's auc: 0.895976\n",
      "[840]\ttraining's auc: 0.92222\tvalid_1's auc: 0.896415\n",
      "[860]\ttraining's auc: 0.923259\tvalid_1's auc: 0.897028\n",
      "[880]\ttraining's auc: 0.924099\tvalid_1's auc: 0.897246\n",
      "[900]\ttraining's auc: 0.924698\tvalid_1's auc: 0.897466\n",
      "[920]\ttraining's auc: 0.925704\tvalid_1's auc: 0.898158\n",
      "[940]\ttraining's auc: 0.926355\tvalid_1's auc: 0.898405\n",
      "[960]\ttraining's auc: 0.927161\tvalid_1's auc: 0.898833\n",
      "[980]\ttraining's auc: 0.92791\tvalid_1's auc: 0.899223\n",
      "[1000]\ttraining's auc: 0.928604\tvalid_1's auc: 0.899549\n",
      "Did not meet early stopping. Best iteration is:\n",
      "[1000]\ttraining's auc: 0.928604\tvalid_1's auc: 0.899549\n",
      "Iteracion 3: auc train 0.928604 - auc test 0.899549 \n",
      "Mean Probs:  0.3635 0.3633 0.3038 0.3023\n",
      "Mean Target:  0.3633 0.3633\n",
      "Iteracion 4\n",
      "Training until validation scores don't improve for 100 rounds.\n",
      "[20]\ttraining's auc: 0.844504\tvalid_1's auc: 0.841822\n",
      "[40]\ttraining's auc: 0.850838\tvalid_1's auc: 0.846915\n",
      "[60]\ttraining's auc: 0.856325\tvalid_1's auc: 0.851757\n",
      "[80]\ttraining's auc: 0.860375\tvalid_1's auc: 0.854846\n",
      "[100]\ttraining's auc: 0.864263\tvalid_1's auc: 0.857697\n",
      "[120]\ttraining's auc: 0.867335\tvalid_1's auc: 0.859844\n",
      "[140]\ttraining's auc: 0.870971\tvalid_1's auc: 0.862586\n",
      "[160]\ttraining's auc: 0.873859\tvalid_1's auc: 0.864809\n",
      "[180]\ttraining's auc: 0.876272\tvalid_1's auc: 0.866332\n",
      "[200]\ttraining's auc: 0.878833\tvalid_1's auc: 0.867996\n",
      "[220]\ttraining's auc: 0.881184\tvalid_1's auc: 0.869647\n",
      "[240]\ttraining's auc: 0.883408\tvalid_1's auc: 0.871077\n",
      "[260]\ttraining's auc: 0.885666\tvalid_1's auc: 0.872649\n",
      "[280]\ttraining's auc: 0.887715\tvalid_1's auc: 0.874086\n",
      "[300]\ttraining's auc: 0.889581\tvalid_1's auc: 0.875275\n",
      "[320]\ttraining's auc: 0.891626\tvalid_1's auc: 0.87662\n",
      "[340]\ttraining's auc: 0.893281\tvalid_1's auc: 0.877662\n",
      "[360]\ttraining's auc: 0.894562\tvalid_1's auc: 0.878249\n",
      "[380]\ttraining's auc: 0.896341\tvalid_1's auc: 0.87948\n",
      "[400]\ttraining's auc: 0.897835\tvalid_1's auc: 0.880316\n",
      "[420]\ttraining's auc: 0.899352\tvalid_1's auc: 0.881264\n",
      "[440]\ttraining's auc: 0.9008\tvalid_1's auc: 0.882158\n",
      "[460]\ttraining's auc: 0.90214\tvalid_1's auc: 0.883043\n",
      "[480]\ttraining's auc: 0.903541\tvalid_1's auc: 0.883879\n",
      "[500]\ttraining's auc: 0.904836\tvalid_1's auc: 0.884548\n",
      "[520]\ttraining's auc: 0.906107\tvalid_1's auc: 0.885347\n",
      "[540]\ttraining's auc: 0.907272\tvalid_1's auc: 0.885879\n",
      "[560]\ttraining's auc: 0.908566\tvalid_1's auc: 0.886712\n",
      "[580]\ttraining's auc: 0.909538\tvalid_1's auc: 0.887223\n",
      "[600]\ttraining's auc: 0.910594\tvalid_1's auc: 0.887705\n",
      "[620]\ttraining's auc: 0.911672\tvalid_1's auc: 0.88845\n",
      "[640]\ttraining's auc: 0.912876\tvalid_1's auc: 0.889047\n",
      "[660]\ttraining's auc: 0.913863\tvalid_1's auc: 0.889698\n",
      "[680]\ttraining's auc: 0.914811\tvalid_1's auc: 0.89017\n",
      "[700]\ttraining's auc: 0.915907\tvalid_1's auc: 0.890813\n",
      "[720]\ttraining's auc: 0.91673\tvalid_1's auc: 0.891226\n",
      "[740]\ttraining's auc: 0.917623\tvalid_1's auc: 0.891706\n",
      "[760]\ttraining's auc: 0.918478\tvalid_1's auc: 0.892136\n",
      "[780]\ttraining's auc: 0.9194\tvalid_1's auc: 0.892572\n",
      "[800]\ttraining's auc: 0.920406\tvalid_1's auc: 0.893123\n",
      "[820]\ttraining's auc: 0.921289\tvalid_1's auc: 0.893625\n",
      "[840]\ttraining's auc: 0.922226\tvalid_1's auc: 0.894098\n",
      "[860]\ttraining's auc: 0.923049\tvalid_1's auc: 0.894501\n",
      "[880]\ttraining's auc: 0.923712\tvalid_1's auc: 0.894853\n",
      "[900]\ttraining's auc: 0.924479\tvalid_1's auc: 0.895171\n",
      "[920]\ttraining's auc: 0.925358\tvalid_1's auc: 0.895667\n",
      "[940]\ttraining's auc: 0.926082\tvalid_1's auc: 0.896023\n",
      "[960]\ttraining's auc: 0.92685\tvalid_1's auc: 0.896427\n",
      "[980]\ttraining's auc: 0.927747\tvalid_1's auc: 0.896832\n",
      "[1000]\ttraining's auc: 0.92822\tvalid_1's auc: 0.896929\n",
      "Did not meet early stopping. Best iteration is:\n",
      "[1000]\ttraining's auc: 0.92822\tvalid_1's auc: 0.896929\n",
      "Iteracion 4: auc train 0.92822 - auc test 0.896929 \n",
      "Mean Probs:  0.3634 0.3627 0.3042 0.3029\n",
      "Mean Target:  0.3633 0.3633\n"
     ]
    },
    {
     "name": "stderr",
     "output_type": "stream",
     "text": [
      "/home/villacorta/anaconda3/lib/python3.6/site-packages/ipykernel_launcher.py:26: SettingWithCopyWarning: \n",
      "A value is trying to be set on a copy of a slice from a DataFrame.\n",
      "Try using .loc[row_indexer,col_indexer] = value instead\n",
      "\n",
      "See the caveats in the documentation: http://pandas.pydata.org/pandas-docs/stable/indexing.html#indexing-view-versus-copy\n"
     ]
    }
   ],
   "source": [
    "results_lgbm = []\n",
    "list_models_lgbm = []\n",
    "\n",
    "for i, (traincv, testcv) in enumerate(skf.split(X_train_cv, y_train_cv)):\n",
    "    print(\"Iteracion {}\".format(i))\n",
    "    lgtrain = lgb.Dataset(X_train_cv.values[traincv], label=y_train_cv[traincv])\n",
    "    lgtest = lgb.Dataset(X_train_cv.values[testcv], label=y_train_cv[testcv])\n",
    "    model_lgbm = lgb.train(params, lgtrain, num_rounds, valid_sets=[lgtrain, lgtest], early_stopping_rounds=100, verbose_eval=20, evals_result=evals_result)\n",
    "    \n",
    "    probas_train = model_lgbm.predict(X_train_cv.values[traincv])\n",
    "    probas_test = model_lgbm.predict(X_train_cv.values[testcv])\n",
    "    \n",
    "    metric_train = roc_auc_score(y_train_cv[traincv],probas_train)\n",
    "    metric_test = roc_auc_score(y_train_cv[testcv],probas_test)\n",
    "    \n",
    "    results_lgbm.append({\"auc_train\": metric_train, \"auc_test\": metric_test})\n",
    "    list_models_lgbm.append(model_lgbm)\n",
    "    \n",
    "    df_probs_train.loc[testcv, \"prob_lgbm\"] = probas_test #El fold de Test\n",
    "    df_probs_test[\"prob_lgbm_{}\".format(i)] = model_lgbm.predict(df_test[predictores])\n",
    "    \n",
    "    print(\"Iteracion {0}: auc train {1} - auc test {2} \".format(str(i), str(round(metric_train,6)), str(round(metric_test,6))))\n",
    "    print(\"Mean Probs: \", str(round(np.mean(probas_train),4)), str(round(np.mean(probas_test),4)), str(round(np.std(probas_train),4)), str(round(np.std(probas_test),4)))\n",
    "    print(\"Mean Target: \", str(round(y_train_cv[traincv].mean(),4)), str(round(y_train_cv[testcv].mean(),4)))\n",
    "\n",
    "df_probs_test[\"prob_lgbm\"] = df_probs_test[[c for c in df_probs_test.columns if \"prob_lgbm\" in c]].mean(axis=1)"
   ]
  },
  {
   "cell_type": "code",
   "execution_count": 43,
   "metadata": {
    "colab": {},
    "colab_type": "code",
    "id": "hPLCizUszMJr"
   },
   "outputs": [],
   "source": [
    "# Feature importance del primer arbol para tomarlo como referencia\n",
    "feature_importance = list_models_lgbm[0].feature_importance()\n",
    "sorted_idx = np.argsort(feature_importance)[::-1]\n",
    "lgbm_fi = pd.DataFrame({'variable':np.array(predictores)[sorted_idx], 'importancia':feature_importance[sorted_idx]})"
   ]
  },
  {
   "cell_type": "code",
   "execution_count": 44,
   "metadata": {
    "colab": {
     "base_uri": "https://localhost:8080/",
     "height": 622
    },
    "colab_type": "code",
    "id": "yHTWXywiS6qt",
    "outputId": "3eac2ebc-00ff-4983-949a-1289dbf83b58"
   },
   "outputs": [
    {
     "data": {
      "text/html": [
       "<div>\n",
       "<style scoped>\n",
       "    .dataframe tbody tr th:only-of-type {\n",
       "        vertical-align: middle;\n",
       "    }\n",
       "\n",
       "    .dataframe tbody tr th {\n",
       "        vertical-align: top;\n",
       "    }\n",
       "\n",
       "    .dataframe thead th {\n",
       "        text-align: right;\n",
       "    }\n",
       "</style>\n",
       "<table border=\"1\" class=\"dataframe\">\n",
       "  <thead>\n",
       "    <tr style=\"text-align: right;\">\n",
       "      <th></th>\n",
       "      <th>variable</th>\n",
       "      <th>importancia</th>\n",
       "    </tr>\n",
       "  </thead>\n",
       "  <tbody>\n",
       "    <tr>\n",
       "      <th>0</th>\n",
       "      <td>PUNTAJE_INGRESO</td>\n",
       "      <td>2296</td>\n",
       "    </tr>\n",
       "    <tr>\n",
       "      <th>1</th>\n",
       "      <td>PROM_HIST</td>\n",
       "      <td>2199</td>\n",
       "    </tr>\n",
       "    <tr>\n",
       "      <th>2</th>\n",
       "      <td>CREDITOSCURSADOS</td>\n",
       "      <td>2007</td>\n",
       "    </tr>\n",
       "    <tr>\n",
       "      <th>3</th>\n",
       "      <td>CREDITOSDESAPROBADOS</td>\n",
       "      <td>1800</td>\n",
       "    </tr>\n",
       "    <tr>\n",
       "      <th>4</th>\n",
       "      <td>CDIST_DESCRIPCION_le</td>\n",
       "      <td>1662</td>\n",
       "    </tr>\n",
       "    <tr>\n",
       "      <th>5</th>\n",
       "      <td>CREDITOSAPROBADOS</td>\n",
       "      <td>1435</td>\n",
       "    </tr>\n",
       "    <tr>\n",
       "      <th>6</th>\n",
       "      <td>PROM_COLEGIO</td>\n",
       "      <td>1372</td>\n",
       "    </tr>\n",
       "    <tr>\n",
       "      <th>7</th>\n",
       "      <td>PRIMER_PERIODO_URP_CARRERA_ACTUAL</td>\n",
       "      <td>1139</td>\n",
       "    </tr>\n",
       "    <tr>\n",
       "      <th>8</th>\n",
       "      <td>INGRESO_NETO_FAMILIARES</td>\n",
       "      <td>1104</td>\n",
       "    </tr>\n",
       "    <tr>\n",
       "      <th>9</th>\n",
       "      <td>ULTIMO_PERIODO_URP_CARRERA_ACTUAL</td>\n",
       "      <td>1083</td>\n",
       "    </tr>\n",
       "    <tr>\n",
       "      <th>10</th>\n",
       "      <td>CARRERA_le</td>\n",
       "      <td>928</td>\n",
       "    </tr>\n",
       "    <tr>\n",
       "      <th>11</th>\n",
       "      <td>PERIODOS_URP</td>\n",
       "      <td>925</td>\n",
       "    </tr>\n",
       "    <tr>\n",
       "      <th>12</th>\n",
       "      <td>PORC_ASISTENCIA_le</td>\n",
       "      <td>851</td>\n",
       "    </tr>\n",
       "    <tr>\n",
       "      <th>13</th>\n",
       "      <td>PROMEDIOSINNSP</td>\n",
       "      <td>847</td>\n",
       "    </tr>\n",
       "    <tr>\n",
       "      <th>14</th>\n",
       "      <td>TIPO_BECA_le</td>\n",
       "      <td>840</td>\n",
       "    </tr>\n",
       "    <tr>\n",
       "      <th>15</th>\n",
       "      <td>EDAD_PROM_DOCENTE</td>\n",
       "      <td>750</td>\n",
       "    </tr>\n",
       "    <tr>\n",
       "      <th>16</th>\n",
       "      <td>PERIODOS_URP_CARRERA_ACTUAL</td>\n",
       "      <td>673</td>\n",
       "    </tr>\n",
       "    <tr>\n",
       "      <th>17</th>\n",
       "      <td>CARRERA_ACTUAL_le</td>\n",
       "      <td>617</td>\n",
       "    </tr>\n",
       "    <tr>\n",
       "      <th>18</th>\n",
       "      <td>PERIODOS_URP_REGULAR</td>\n",
       "      <td>583</td>\n",
       "    </tr>\n",
       "    <tr>\n",
       "      <th>19</th>\n",
       "      <td>CRED_OBLIG_MAT</td>\n",
       "      <td>480</td>\n",
       "    </tr>\n",
       "  </tbody>\n",
       "</table>\n",
       "</div>"
      ],
      "text/plain": [
       "                             variable  importancia\n",
       "0                     PUNTAJE_INGRESO         2296\n",
       "1                           PROM_HIST         2199\n",
       "2                    CREDITOSCURSADOS         2007\n",
       "3                CREDITOSDESAPROBADOS         1800\n",
       "4                CDIST_DESCRIPCION_le         1662\n",
       "5                   CREDITOSAPROBADOS         1435\n",
       "6                        PROM_COLEGIO         1372\n",
       "7   PRIMER_PERIODO_URP_CARRERA_ACTUAL         1139\n",
       "8             INGRESO_NETO_FAMILIARES         1104\n",
       "9   ULTIMO_PERIODO_URP_CARRERA_ACTUAL         1083\n",
       "10                         CARRERA_le          928\n",
       "11                       PERIODOS_URP          925\n",
       "12                 PORC_ASISTENCIA_le          851\n",
       "13                     PROMEDIOSINNSP          847\n",
       "14                       TIPO_BECA_le          840\n",
       "15                  EDAD_PROM_DOCENTE          750\n",
       "16        PERIODOS_URP_CARRERA_ACTUAL          673\n",
       "17                  CARRERA_ACTUAL_le          617\n",
       "18               PERIODOS_URP_REGULAR          583\n",
       "19                     CRED_OBLIG_MAT          480"
      ]
     },
     "execution_count": 44,
     "metadata": {},
     "output_type": "execute_result"
    }
   ],
   "source": [
    "lgbm_fi.head(20)"
   ]
  },
  {
   "cell_type": "code",
   "execution_count": 45,
   "metadata": {
    "colab": {
     "base_uri": "https://localhost:8080/",
     "height": 191
    },
    "colab_type": "code",
    "id": "RX5oYvInqwU9",
    "outputId": "6bfe2fca-8ac4-43e3-a3c0-c32294cf0c3c"
   },
   "outputs": [
    {
     "data": {
      "text/html": [
       "<div>\n",
       "<style scoped>\n",
       "    .dataframe tbody tr th:only-of-type {\n",
       "        vertical-align: middle;\n",
       "    }\n",
       "\n",
       "    .dataframe tbody tr th {\n",
       "        vertical-align: top;\n",
       "    }\n",
       "\n",
       "    .dataframe thead th {\n",
       "        text-align: right;\n",
       "    }\n",
       "</style>\n",
       "<table border=\"1\" class=\"dataframe\">\n",
       "  <thead>\n",
       "    <tr style=\"text-align: right;\">\n",
       "      <th></th>\n",
       "      <th>auc_test</th>\n",
       "      <th>auc_train</th>\n",
       "    </tr>\n",
       "  </thead>\n",
       "  <tbody>\n",
       "    <tr>\n",
       "      <th>0</th>\n",
       "      <td>0.897057</td>\n",
       "      <td>0.928215</td>\n",
       "    </tr>\n",
       "    <tr>\n",
       "      <th>1</th>\n",
       "      <td>0.894991</td>\n",
       "      <td>0.928170</td>\n",
       "    </tr>\n",
       "    <tr>\n",
       "      <th>2</th>\n",
       "      <td>0.899209</td>\n",
       "      <td>0.928012</td>\n",
       "    </tr>\n",
       "    <tr>\n",
       "      <th>3</th>\n",
       "      <td>0.899549</td>\n",
       "      <td>0.928604</td>\n",
       "    </tr>\n",
       "    <tr>\n",
       "      <th>4</th>\n",
       "      <td>0.896929</td>\n",
       "      <td>0.928220</td>\n",
       "    </tr>\n",
       "  </tbody>\n",
       "</table>\n",
       "</div>"
      ],
      "text/plain": [
       "   auc_test  auc_train\n",
       "0  0.897057   0.928215\n",
       "1  0.894991   0.928170\n",
       "2  0.899209   0.928012\n",
       "3  0.899549   0.928604\n",
       "4  0.896929   0.928220"
      ]
     },
     "execution_count": 45,
     "metadata": {},
     "output_type": "execute_result"
    }
   ],
   "source": [
    "# resultados\n",
    "pd.DataFrame(results_lgbm)"
   ]
  },
  {
   "cell_type": "code",
   "execution_count": 46,
   "metadata": {
    "colab": {},
    "colab_type": "code",
    "id": "RSUMGvyntI-p"
   },
   "outputs": [],
   "source": [
    "#evaluar f1\n",
    "df_evaluation_f1 = pd.concat([df_probs_train[[\"prob_lgbm\"]], df_train[[\"target\"]]], axis=1)"
   ]
  },
  {
   "cell_type": "code",
   "execution_count": 47,
   "metadata": {
    "colab": {},
    "colab_type": "code",
    "id": "hgbfL_bytoCV"
   },
   "outputs": [],
   "source": [
    "threshold = np.percentile(df_evaluation_f1[\"prob_lgbm\"], 61.5)"
   ]
  },
  {
   "cell_type": "code",
   "execution_count": 48,
   "metadata": {
    "colab": {},
    "colab_type": "code",
    "id": "G8CkjX6ctoAA"
   },
   "outputs": [],
   "source": [
    "df_evaluation_f1[\"prediction\"] = df_evaluation_f1[\"prob_lgbm\"].apply(lambda p: 1 if p > threshold else 0)"
   ]
  },
  {
   "cell_type": "code",
   "execution_count": 49,
   "metadata": {
    "colab": {
     "base_uri": "https://localhost:8080/",
     "height": 66
    },
    "colab_type": "code",
    "id": "oVDlYi5xxUhB",
    "outputId": "f684a4de-f2b5-4419-a165-8b42640d8f3b"
   },
   "outputs": [
    {
     "data": {
      "text/plain": [
       "0    157572\n",
       "1     98643\n",
       "Name: prediction, dtype: int64"
      ]
     },
     "execution_count": 49,
     "metadata": {},
     "output_type": "execute_result"
    }
   ],
   "source": [
    "df_evaluation_f1[\"prediction\"].value_counts()"
   ]
  },
  {
   "cell_type": "code",
   "execution_count": 50,
   "metadata": {
    "colab": {},
    "colab_type": "code",
    "id": "7NL1FNuStn9q"
   },
   "outputs": [],
   "source": [
    "from sklearn.metrics import f1_score\n",
    "from sklearn.metrics import recall_score, precision_score\n",
    "from sklearn.metrics import classification_report"
   ]
  },
  {
   "cell_type": "code",
   "execution_count": 51,
   "metadata": {
    "colab": {
     "base_uri": "https://localhost:8080/",
     "height": 33
    },
    "colab_type": "code",
    "id": "J-HnEAU-tn7h",
    "outputId": "cd2a7a81-e0ec-4a35-e995-9187e62fe1fe"
   },
   "outputs": [
    {
     "data": {
      "text/plain": [
       "0.8090783131354526"
      ]
     },
     "execution_count": 51,
     "metadata": {},
     "output_type": "execute_result"
    }
   ],
   "source": [
    "f1_score(df_evaluation_f1[\"target\"], df_evaluation_f1[\"prediction\"], average=\"micro\")"
   ]
  },
  {
   "cell_type": "code",
   "execution_count": 52,
   "metadata": {
    "colab": {
     "base_uri": "https://localhost:8080/",
     "height": 358
    },
    "colab_type": "code",
    "id": "bUQ-VxMDwdnG",
    "outputId": "61d8cd37-c1db-4c45-d1ac-8c29ffa6a20b"
   },
   "outputs": [
    {
     "name": "stdout",
     "output_type": "stream",
     "text": [
      "30.0 0.6613781394531936\n",
      "33.5 0.6956228167749742\n",
      "37.0 0.7250082938157407\n",
      "40.5 0.7474230626622173\n",
      "44.0 0.7663758952442284\n",
      "47.5 0.7813750170755029\n",
      "51.0 0.7929668442518978\n",
      "54.5 0.8014636145424741\n",
      "58.0 0.806763850672287\n",
      "61.5 0.8090783131354526\n",
      "65.0 0.8088051050875241\n",
      "68.5 0.8053900044884179\n",
      "72.0 0.7988876529477197\n",
      "75.5 0.7896415120113967\n",
      "79.0 0.776988076420194\n",
      "82.5 0.760622914349277\n",
      "86.0 0.7417247233768515\n",
      "89.5 0.7197783111839666\n",
      "93.0 0.6952988700895733\n",
      "96.5 0.6674667759498858\n",
      "100.0 0.6366567140877778\n"
     ]
    }
   ],
   "source": [
    "l_f1_score = []\n",
    "for r in np.linspace(30, 100, 21):\n",
    "  threshold = np.percentile(df_evaluation_f1[\"prob_lgbm\"], r)\n",
    "  df_evaluation_f1[\"prediction\"] = df_evaluation_f1[\"prob_lgbm\"].apply(lambda p: 1 if p > threshold else 0)\n",
    "  f1_tmp = f1_score(df_evaluation_f1[\"target\"], df_evaluation_f1[\"prediction\"], average=\"micro\")\n",
    "  l_f1_score.append(f1_tmp)\n",
    "  print(r, f1_tmp)"
   ]
  },
  {
   "cell_type": "code",
   "execution_count": 53,
   "metadata": {
    "colab": {},
    "colab_type": "code",
    "id": "OUTwmsBFb2Ey"
   },
   "outputs": [],
   "source": [
    "optm_threshold = np.percentile(df_evaluation_f1[\"prob_lgbm\"], np.linspace(30, 100, 21)[np.argmax(l_f1_score)])"
   ]
  },
  {
   "cell_type": "code",
   "execution_count": 54,
   "metadata": {
    "colab": {
     "base_uri": "https://localhost:8080/",
     "height": 98
    },
    "colab_type": "code",
    "id": "anpZnBGyo1k0",
    "outputId": "3ae1cf8b-2eb4-4985-dedf-cb62b4662bef"
   },
   "outputs": [
    {
     "name": "stdout",
     "output_type": "stream",
     "text": [
      "Modelo de iteracion 0\n",
      "Modelo de iteracion 1\n",
      "Modelo de iteracion 2\n",
      "Modelo de iteracion 3\n",
      "Modelo de iteracion 4\n"
     ]
    }
   ],
   "source": [
    "for i, model in enumerate(list_models_lgbm):\n",
    "    print(\"Modelo de iteracion {0}\".format(i))\n",
    "    df_test[\"predict_lgbm_cv_{0}\".format(i)] = model.predict(df_test[predictores])"
   ]
  },
  {
   "cell_type": "code",
   "execution_count": 55,
   "metadata": {
    "colab": {},
    "colab_type": "code",
    "id": "4p5A3Zaeqr_K"
   },
   "outputs": [],
   "source": [
    "df_test[\"Morosidad_probability\"] = df_test[[\"predict_lgbm_cv_{0}\".format(c) for c in range(5)]].mean(axis=1)"
   ]
  },
  {
   "cell_type": "code",
   "execution_count": 56,
   "metadata": {
    "colab": {},
    "colab_type": "code",
    "id": "uVPlqNTmvw8o"
   },
   "outputs": [],
   "source": [
    "df_test[\"Morosidad\"] = df_test[\"Morosidad_probability\"].apply(lambda p: 1 if p > optm_threshold else 0)"
   ]
  },
  {
   "cell_type": "code",
   "execution_count": 57,
   "metadata": {
    "colab": {
     "base_uri": "https://localhost:8080/",
     "height": 286
    },
    "colab_type": "code",
    "id": "XgO1fvl0sIEU",
    "outputId": "264d00fe-56b0-444d-b230-cda5eadca492"
   },
   "outputs": [
    {
     "data": {
      "text/plain": [
       "<matplotlib.axes._subplots.AxesSubplot at 0x7fc27df04208>"
      ]
     },
     "execution_count": 57,
     "metadata": {},
     "output_type": "execute_result"
    }
   ],
   "source": [
    "df_test[\"Morosidad\"].hist()"
   ]
  },
  {
   "cell_type": "code",
   "execution_count": 58,
   "metadata": {
    "colab": {
     "base_uri": "https://localhost:8080/",
     "height": 66
    },
    "colab_type": "code",
    "id": "HnPpDtUw6ty5",
    "outputId": "4c1a8be6-aa50-4572-8d9c-52688de210bc"
   },
   "outputs": [
    {
     "data": {
      "text/plain": [
       "0    29173\n",
       "1    14899\n",
       "Name: Morosidad, dtype: int64"
      ]
     },
     "execution_count": 58,
     "metadata": {},
     "output_type": "execute_result"
    }
   ],
   "source": [
    "df_test[\"Morosidad\"].value_counts()"
   ]
  },
  {
   "cell_type": "code",
   "execution_count": 59,
   "metadata": {
    "colab": {},
    "colab_type": "code",
    "id": "jrp4VB70rR_g"
   },
   "outputs": [],
   "source": [
    "df_test[[\"COD_ALUMNO\", \"Morosidad\"]].to_csv(\"submit_test.csv\", index=False)"
   ]
  },
  {
   "cell_type": "code",
   "execution_count": 60,
   "metadata": {
    "colab": {},
    "colab_type": "code",
    "id": "2OgjwN6LrkwE"
   },
   "outputs": [
    {
     "name": "stdout",
     "output_type": "stream",
     "text": [
      "cp: no se puede crear el fichero regular '/gdrive/My Drive/Competiciones/[02] Dn - URP/[01] Contest/[03] Submit': No existe el archivo o el directorio\n"
     ]
    }
   ],
   "source": [
    "!cp -r submit_test.csv /gdrive/'My Drive'/Competiciones/'[02] Dn - URP'/'[01] Contest'/'[03] Submit'"
   ]
  },
  {
   "cell_type": "code",
   "execution_count": null,
   "metadata": {
    "colab": {},
    "colab_type": "code",
    "id": "aLxZ1lEUcdBG"
   },
   "outputs": [],
   "source": []
  },
  {
   "cell_type": "code",
   "execution_count": null,
   "metadata": {},
   "outputs": [],
   "source": []
  }
 ],
 "metadata": {
  "colab": {
   "name": "[05] Modelo Final.ipynb",
   "provenance": [],
   "version": "0.3.2"
  },
  "kernelspec": {
   "display_name": "Python 3",
   "language": "python",
   "name": "python3"
  },
  "language_info": {
   "codemirror_mode": {
    "name": "ipython",
    "version": 3
   },
   "file_extension": ".py",
   "mimetype": "text/x-python",
   "name": "python",
   "nbconvert_exporter": "python",
   "pygments_lexer": "ipython3",
   "version": "3.6.5"
  }
 },
 "nbformat": 4,
 "nbformat_minor": 2
}
