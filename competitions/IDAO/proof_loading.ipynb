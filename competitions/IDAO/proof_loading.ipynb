{
 "cells": [
  {
   "cell_type": "code",
   "execution_count": 1,
   "metadata": {},
   "outputs": [],
   "source": [
    "%load_ext memory_profiler"
   ]
  },
  {
   "cell_type": "code",
   "execution_count": 10,
   "metadata": {},
   "outputs": [
    {
     "name": "stdout",
     "output_type": "stream",
     "text": [
      "CPU times: user 36 µs, sys: 1 µs, total: 37 µs\n",
      "Wall time: 42.2 µs\n"
     ]
    }
   ],
   "source": [
    "%%memit\n",
    "import sys\n",
    "from itertools import repeat\n",
    "import numpy as np\n",
    "import pandas as pd\n",
    "import xgboost\n",
    "\n",
    "SIMPLE_FEATURE_COLUMNS = ['ncl[0]', 'ncl[1]', 'ncl[2]', 'ncl[3]', 'avg_cs[0]',\n",
    "       'avg_cs[1]', 'avg_cs[2]', 'avg_cs[3]', 'ndof', 'MatchedHit_TYPE[0]',\n",
    "       'MatchedHit_TYPE[1]', 'MatchedHit_TYPE[2]', 'MatchedHit_TYPE[3]',\n",
    "       'MatchedHit_X[0]', 'MatchedHit_X[1]', 'MatchedHit_X[2]',\n",
    "       'MatchedHit_X[3]', 'MatchedHit_Y[0]', 'MatchedHit_Y[1]',\n",
    "       'MatchedHit_Y[2]', 'MatchedHit_Y[3]', 'MatchedHit_Z[0]',\n",
    "       'MatchedHit_Z[1]', 'MatchedHit_Z[2]', 'MatchedHit_Z[3]',\n",
    "       'MatchedHit_DX[0]', 'MatchedHit_DX[1]', 'MatchedHit_DX[2]',\n",
    "       'MatchedHit_DX[3]', 'MatchedHit_DY[0]', 'MatchedHit_DY[1]',\n",
    "       'MatchedHit_DY[2]', 'MatchedHit_DY[3]', 'MatchedHit_DZ[0]',\n",
    "       'MatchedHit_DZ[1]', 'MatchedHit_DZ[2]', 'MatchedHit_DZ[3]',\n",
    "       'MatchedHit_T[0]', 'MatchedHit_T[1]', 'MatchedHit_T[2]',\n",
    "       'MatchedHit_T[3]', 'MatchedHit_DT[0]', 'MatchedHit_DT[1]',\n",
    "       'MatchedHit_DT[2]', 'MatchedHit_DT[3]', 'Lextra_X[0]', 'Lextra_X[1]',\n",
    "       'Lextra_X[2]', 'Lextra_X[3]', 'Lextra_Y[0]', 'Lextra_Y[1]',\n",
    "       'Lextra_Y[2]', 'Lextra_Y[3]', 'NShared', 'Mextra_DX2[0]',\n",
    "       'Mextra_DX2[1]', 'Mextra_DX2[2]', 'Mextra_DX2[3]', 'Mextra_DY2[0]',\n",
    "       'Mextra_DY2[1]', 'Mextra_DY2[2]', 'Mextra_DY2[3]', 'FOI_hits_N', 'PT', 'P']\n",
    "ID_COLUMN = \"id\"\n",
    "\n",
    "\n",
    "def main():\n",
    "    MODEL_NAME = \"up/Track02_model.xgb\"\n",
    "    model = xgboost.Booster()\n",
    "    model.load_model(MODEL_NAME)\n",
    "    \n",
    "    types = dict(zip(SIMPLE_FEATURE_COLUMNS, repeat(np.float32)))\n",
    "    types[ID_COLUMN] = np.uint64\n",
    "    \n",
    "    data = pd.read_csv(\n",
    "        'test_public_v2.csv', \n",
    "        usecols=[ID_COLUMN] + SIMPLE_FEATURE_COLUMNS,\n",
    "        dtype=types,\n",
    "        index_col=ID_COLUMN,\n",
    "        chunksize=2000,\n",
    "        low_memory=False,\n",
    "        memory_map=True,\n",
    "        iterator=True\n",
    "    )\n",
    "    sys.stdout.write(\"id, prediction\\n\")\n",
    "\n",
    "    header = True\n",
    "    for chunk in data:\n",
    "        mode = 'w' if header else 'a'\n",
    "\n",
    "        chunk['chunkpredictions'] = model.predict(\n",
    "            xgboost.DMatrix(chunk.values),\n",
    "            ntree_limit=125\n",
    "        )\n",
    "        \n",
    "        chunk['chunkpredictions'].to_csv(\n",
    "            'result.csv',\n",
    "            mode=mode,\n",
    "            index_label=ID_COLUMN, \n",
    "            header=header\n",
    "        )\n",
    "        if header:\n",
    "            header = False\n",
    "            \n",
    "        del chunk"
   ]
  },
  {
   "cell_type": "code",
   "execution_count": 11,
   "metadata": {},
   "outputs": [
    {
     "name": "stdout",
     "output_type": "stream",
     "text": [
      "id, prediction\n",
      "CPU times: user 1min 26s, sys: 996 ms, total: 1min 27s\n",
      "Wall time: 22.5 s\n"
     ]
    }
   ],
   "source": [
    "%%time\n",
    "main()"
   ]
  },
  {
   "cell_type": "code",
   "execution_count": 12,
   "metadata": {},
   "outputs": [
    {
     "name": "stdout",
     "output_type": "stream",
     "text": [
      "id, prediction\n",
      "CPU times: user 1min 26s, sys: 916 ms, total: 1min 27s\n",
      "Wall time: 22.7 s\n"
     ]
    }
   ],
   "source": [
    "%%time\n",
    "main()"
   ]
  },
  {
   "cell_type": "code",
   "execution_count": null,
   "metadata": {},
   "outputs": [],
   "source": []
  }
 ],
 "metadata": {
  "kernelspec": {
   "display_name": "Python 3",
   "language": "python",
   "name": "python3"
  },
  "language_info": {
   "codemirror_mode": {
    "name": "ipython",
    "version": 3
   },
   "file_extension": ".py",
   "mimetype": "text/x-python",
   "name": "python",
   "nbconvert_exporter": "python",
   "pygments_lexer": "ipython3",
   "version": "3.6.5"
  }
 },
 "nbformat": 4,
 "nbformat_minor": 2
}
