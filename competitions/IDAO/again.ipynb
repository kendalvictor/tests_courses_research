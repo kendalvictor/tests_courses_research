{
 "cells": [
  {
   "cell_type": "code",
   "execution_count": 1,
   "metadata": {},
   "outputs": [],
   "source": [
    "# Nativos\n",
    "import os\n",
    "import sys\n",
    "            \n",
    "#calculo\n",
    "import numpy as np\n",
    "import pandas as pd\n",
    "pd.options.display.float_format = '{:.2f}'.format\n",
    "from IPython.display import display\n",
    "\n",
    "#grafico\n",
    "import matplotlib.pyplot as plt\n",
    "import matplotlib.pylab as pylab\n",
    "import seaborn as sns\n",
    "%matplotlib inline\n",
    "sns.set(style=\"whitegrid\")\n",
    "pylab.rcParams['figure.figsize'] = 8,6\n",
    "\n",
    "#warning ignore future\n",
    "import warnings\n",
    "warnings.simplefilter(action='ignore', category=FutureWarning)\n",
    "\n",
    "# Utilitarios propios\n",
    "BASE_DIR = os.path.dirname(os.path.dirname(os.getcwd()))\n",
    "if BASE_DIR not in sys.path: sys.path.append(BASE_DIR)\n",
    "\n",
    "from utils import *\n",
    "from graphs import *"
   ]
  },
  {
   "cell_type": "code",
   "execution_count": 2,
   "metadata": {},
   "outputs": [
    {
     "data": {
      "text/html": [
       "<div>\n",
       "<style scoped>\n",
       "    .dataframe tbody tr th:only-of-type {\n",
       "        vertical-align: middle;\n",
       "    }\n",
       "\n",
       "    .dataframe tbody tr th {\n",
       "        vertical-align: top;\n",
       "    }\n",
       "\n",
       "    .dataframe thead th {\n",
       "        text-align: right;\n",
       "    }\n",
       "</style>\n",
       "<table border=\"1\" class=\"dataframe\">\n",
       "  <thead>\n",
       "    <tr style=\"text-align: right;\">\n",
       "      <th></th>\n",
       "      <th>ncl[0]</th>\n",
       "      <th>ncl[1]</th>\n",
       "      <th>ncl[2]</th>\n",
       "      <th>ncl[3]</th>\n",
       "      <th>avg_cs[0]</th>\n",
       "      <th>avg_cs[1]</th>\n",
       "      <th>avg_cs[2]</th>\n",
       "      <th>avg_cs[3]</th>\n",
       "      <th>ndof</th>\n",
       "      <th>MatchedHit_TYPE[0]</th>\n",
       "      <th>...</th>\n",
       "      <th>Mextra_DY2[3]</th>\n",
       "      <th>FOI_hits_N</th>\n",
       "      <th>PT</th>\n",
       "      <th>P</th>\n",
       "      <th>label</th>\n",
       "      <th>count_null</th>\n",
       "      <th>MatchedHit_TYPE[0]_ratio</th>\n",
       "      <th>MatchedHit_TYPE[1]_ratio</th>\n",
       "      <th>MatchedHit_TYPE[2]_ratio</th>\n",
       "      <th>MatchedHit_TYPE[3]_ratio</th>\n",
       "    </tr>\n",
       "  </thead>\n",
       "  <tbody>\n",
       "    <tr>\n",
       "      <th>0</th>\n",
       "      <td>47</td>\n",
       "      <td>31</td>\n",
       "      <td>13</td>\n",
       "      <td>15</td>\n",
       "      <td>2.00</td>\n",
       "      <td>1.58</td>\n",
       "      <td>1.15</td>\n",
       "      <td>1.13</td>\n",
       "      <td>8</td>\n",
       "      <td>2</td>\n",
       "      <td>...</td>\n",
       "      <td>4145.18</td>\n",
       "      <td>6</td>\n",
       "      <td>1764.93</td>\n",
       "      <td>12646.82</td>\n",
       "      <td>1</td>\n",
       "      <td>0</td>\n",
       "      <td>0.94</td>\n",
       "      <td>0.94</td>\n",
       "      <td>0.95</td>\n",
       "      <td>0.95</td>\n",
       "    </tr>\n",
       "    <tr>\n",
       "      <th>1</th>\n",
       "      <td>92</td>\n",
       "      <td>19</td>\n",
       "      <td>11</td>\n",
       "      <td>26</td>\n",
       "      <td>2.75</td>\n",
       "      <td>2.79</td>\n",
       "      <td>1.36</td>\n",
       "      <td>1.23</td>\n",
       "      <td>8</td>\n",
       "      <td>2</td>\n",
       "      <td>...</td>\n",
       "      <td>793.57</td>\n",
       "      <td>4</td>\n",
       "      <td>4511.28</td>\n",
       "      <td>28556.63</td>\n",
       "      <td>1</td>\n",
       "      <td>0</td>\n",
       "      <td>0.94</td>\n",
       "      <td>0.94</td>\n",
       "      <td>0.95</td>\n",
       "      <td>0.82</td>\n",
       "    </tr>\n",
       "    <tr>\n",
       "      <th>2</th>\n",
       "      <td>100</td>\n",
       "      <td>21</td>\n",
       "      <td>11</td>\n",
       "      <td>12</td>\n",
       "      <td>2.93</td>\n",
       "      <td>2.43</td>\n",
       "      <td>1.18</td>\n",
       "      <td>1.08</td>\n",
       "      <td>8</td>\n",
       "      <td>2</td>\n",
       "      <td>...</td>\n",
       "      <td>1899.84</td>\n",
       "      <td>9</td>\n",
       "      <td>1062.55</td>\n",
       "      <td>17491.70</td>\n",
       "      <td>1</td>\n",
       "      <td>0</td>\n",
       "      <td>0.94</td>\n",
       "      <td>0.94</td>\n",
       "      <td>0.95</td>\n",
       "      <td>0.95</td>\n",
       "    </tr>\n",
       "    <tr>\n",
       "      <th>3</th>\n",
       "      <td>74</td>\n",
       "      <td>27</td>\n",
       "      <td>13</td>\n",
       "      <td>20</td>\n",
       "      <td>3.07</td>\n",
       "      <td>2.52</td>\n",
       "      <td>1.92</td>\n",
       "      <td>1.30</td>\n",
       "      <td>8</td>\n",
       "      <td>2</td>\n",
       "      <td>...</td>\n",
       "      <td>438.86</td>\n",
       "      <td>5</td>\n",
       "      <td>4991.07</td>\n",
       "      <td>37192.87</td>\n",
       "      <td>1</td>\n",
       "      <td>0</td>\n",
       "      <td>0.94</td>\n",
       "      <td>0.94</td>\n",
       "      <td>0.95</td>\n",
       "      <td>0.95</td>\n",
       "    </tr>\n",
       "    <tr>\n",
       "      <th>4</th>\n",
       "      <td>18</td>\n",
       "      <td>22</td>\n",
       "      <td>8</td>\n",
       "      <td>8</td>\n",
       "      <td>1.83</td>\n",
       "      <td>1.95</td>\n",
       "      <td>1.12</td>\n",
       "      <td>1.75</td>\n",
       "      <td>8</td>\n",
       "      <td>2</td>\n",
       "      <td>...</td>\n",
       "      <td>2402.92</td>\n",
       "      <td>6</td>\n",
       "      <td>1347.70</td>\n",
       "      <td>16688.75</td>\n",
       "      <td>1</td>\n",
       "      <td>0</td>\n",
       "      <td>0.94</td>\n",
       "      <td>0.94</td>\n",
       "      <td>0.95</td>\n",
       "      <td>0.95</td>\n",
       "    </tr>\n",
       "  </tbody>\n",
       "</table>\n",
       "<p>5 rows × 71 columns</p>\n",
       "</div>"
      ],
      "text/plain": [
       "   ncl[0]  ncl[1]  ncl[2]  ncl[3]  avg_cs[0]  avg_cs[1]  avg_cs[2]  avg_cs[3]  \\\n",
       "0      47      31      13      15       2.00       1.58       1.15       1.13   \n",
       "1      92      19      11      26       2.75       2.79       1.36       1.23   \n",
       "2     100      21      11      12       2.93       2.43       1.18       1.08   \n",
       "3      74      27      13      20       3.07       2.52       1.92       1.30   \n",
       "4      18      22       8       8       1.83       1.95       1.12       1.75   \n",
       "\n",
       "   ndof  MatchedHit_TYPE[0]            ...             Mextra_DY2[3]  \\\n",
       "0     8                   2            ...                   4145.18   \n",
       "1     8                   2            ...                    793.57   \n",
       "2     8                   2            ...                   1899.84   \n",
       "3     8                   2            ...                    438.86   \n",
       "4     8                   2            ...                   2402.92   \n",
       "\n",
       "   FOI_hits_N      PT        P  label  count_null  MatchedHit_TYPE[0]_ratio  \\\n",
       "0           6 1764.93 12646.82      1           0                      0.94   \n",
       "1           4 4511.28 28556.63      1           0                      0.94   \n",
       "2           9 1062.55 17491.70      1           0                      0.94   \n",
       "3           5 4991.07 37192.87      1           0                      0.94   \n",
       "4           6 1347.70 16688.75      1           0                      0.94   \n",
       "\n",
       "   MatchedHit_TYPE[1]_ratio  MatchedHit_TYPE[2]_ratio  \\\n",
       "0                      0.94                      0.95   \n",
       "1                      0.94                      0.95   \n",
       "2                      0.94                      0.95   \n",
       "3                      0.94                      0.95   \n",
       "4                      0.94                      0.95   \n",
       "\n",
       "   MatchedHit_TYPE[3]_ratio  \n",
       "0                      0.95  \n",
       "1                      0.82  \n",
       "2                      0.95  \n",
       "3                      0.95  \n",
       "4                      0.95  \n",
       "\n",
       "[5 rows x 71 columns]"
      ]
     },
     "metadata": {},
     "output_type": "display_data"
    },
    {
     "data": {
      "text/html": [
       "<div>\n",
       "<style scoped>\n",
       "    .dataframe tbody tr th:only-of-type {\n",
       "        vertical-align: middle;\n",
       "    }\n",
       "\n",
       "    .dataframe tbody tr th {\n",
       "        vertical-align: top;\n",
       "    }\n",
       "\n",
       "    .dataframe thead th {\n",
       "        text-align: right;\n",
       "    }\n",
       "</style>\n",
       "<table border=\"1\" class=\"dataframe\">\n",
       "  <thead>\n",
       "    <tr style=\"text-align: right;\">\n",
       "      <th></th>\n",
       "      <th>id</th>\n",
       "      <th>ncl[0]</th>\n",
       "      <th>ncl[1]</th>\n",
       "      <th>ncl[2]</th>\n",
       "      <th>ncl[3]</th>\n",
       "      <th>avg_cs[0]</th>\n",
       "      <th>avg_cs[1]</th>\n",
       "      <th>avg_cs[2]</th>\n",
       "      <th>avg_cs[3]</th>\n",
       "      <th>ndof</th>\n",
       "      <th>...</th>\n",
       "      <th>Mextra_DY2[2]</th>\n",
       "      <th>Mextra_DY2[3]</th>\n",
       "      <th>FOI_hits_N</th>\n",
       "      <th>PT</th>\n",
       "      <th>P</th>\n",
       "      <th>count_null</th>\n",
       "      <th>MatchedHit_TYPE[0]_ratio</th>\n",
       "      <th>MatchedHit_TYPE[1]_ratio</th>\n",
       "      <th>MatchedHit_TYPE[2]_ratio</th>\n",
       "      <th>MatchedHit_TYPE[3]_ratio</th>\n",
       "    </tr>\n",
       "  </thead>\n",
       "  <tbody>\n",
       "    <tr>\n",
       "      <th>0</th>\n",
       "      <td>0</td>\n",
       "      <td>55</td>\n",
       "      <td>12</td>\n",
       "      <td>10</td>\n",
       "      <td>15</td>\n",
       "      <td>2.13</td>\n",
       "      <td>1.17</td>\n",
       "      <td>1.50</td>\n",
       "      <td>1.60</td>\n",
       "      <td>8</td>\n",
       "      <td>...</td>\n",
       "      <td>7618.11</td>\n",
       "      <td>14871.40</td>\n",
       "      <td>6</td>\n",
       "      <td>1174.48</td>\n",
       "      <td>6884.50</td>\n",
       "      <td>0</td>\n",
       "      <td>0.94</td>\n",
       "      <td>0.94</td>\n",
       "      <td>0.95</td>\n",
       "      <td>0.95</td>\n",
       "    </tr>\n",
       "    <tr>\n",
       "      <th>1</th>\n",
       "      <td>1</td>\n",
       "      <td>43</td>\n",
       "      <td>18</td>\n",
       "      <td>12</td>\n",
       "      <td>15</td>\n",
       "      <td>2.70</td>\n",
       "      <td>1.11</td>\n",
       "      <td>1.33</td>\n",
       "      <td>1.60</td>\n",
       "      <td>8</td>\n",
       "      <td>...</td>\n",
       "      <td>140.25</td>\n",
       "      <td>265.48</td>\n",
       "      <td>7</td>\n",
       "      <td>4344.64</td>\n",
       "      <td>48769.53</td>\n",
       "      <td>0</td>\n",
       "      <td>0.94</td>\n",
       "      <td>0.94</td>\n",
       "      <td>0.95</td>\n",
       "      <td>0.95</td>\n",
       "    </tr>\n",
       "    <tr>\n",
       "      <th>2</th>\n",
       "      <td>2</td>\n",
       "      <td>90</td>\n",
       "      <td>34</td>\n",
       "      <td>19</td>\n",
       "      <td>29</td>\n",
       "      <td>1.80</td>\n",
       "      <td>2.06</td>\n",
       "      <td>1.21</td>\n",
       "      <td>1.34</td>\n",
       "      <td>8</td>\n",
       "      <td>...</td>\n",
       "      <td>862.30</td>\n",
       "      <td>1669.43</td>\n",
       "      <td>4</td>\n",
       "      <td>4109.81</td>\n",
       "      <td>20296.05</td>\n",
       "      <td>0</td>\n",
       "      <td>0.94</td>\n",
       "      <td>0.94</td>\n",
       "      <td>0.95</td>\n",
       "      <td>0.95</td>\n",
       "    </tr>\n",
       "    <tr>\n",
       "      <th>3</th>\n",
       "      <td>3</td>\n",
       "      <td>141</td>\n",
       "      <td>43</td>\n",
       "      <td>15</td>\n",
       "      <td>16</td>\n",
       "      <td>4.61</td>\n",
       "      <td>2.74</td>\n",
       "      <td>1.47</td>\n",
       "      <td>1.12</td>\n",
       "      <td>8</td>\n",
       "      <td>...</td>\n",
       "      <td>471.16</td>\n",
       "      <td>900.29</td>\n",
       "      <td>9</td>\n",
       "      <td>940.24</td>\n",
       "      <td>26062.05</td>\n",
       "      <td>0</td>\n",
       "      <td>0.94</td>\n",
       "      <td>0.94</td>\n",
       "      <td>0.83</td>\n",
       "      <td>0.95</td>\n",
       "    </tr>\n",
       "    <tr>\n",
       "      <th>4</th>\n",
       "      <td>4</td>\n",
       "      <td>22</td>\n",
       "      <td>18</td>\n",
       "      <td>8</td>\n",
       "      <td>9</td>\n",
       "      <td>1.64</td>\n",
       "      <td>2.44</td>\n",
       "      <td>1.00</td>\n",
       "      <td>1.56</td>\n",
       "      <td>8</td>\n",
       "      <td>...</td>\n",
       "      <td>85.89</td>\n",
       "      <td>162.87</td>\n",
       "      <td>8</td>\n",
       "      <td>1386.38</td>\n",
       "      <td>59872.34</td>\n",
       "      <td>0</td>\n",
       "      <td>0.94</td>\n",
       "      <td>0.94</td>\n",
       "      <td>0.83</td>\n",
       "      <td>0.82</td>\n",
       "    </tr>\n",
       "  </tbody>\n",
       "</table>\n",
       "<p>5 rows × 71 columns</p>\n",
       "</div>"
      ],
      "text/plain": [
       "   id  ncl[0]  ncl[1]  ncl[2]  ncl[3]  avg_cs[0]  avg_cs[1]  avg_cs[2]  \\\n",
       "0   0      55      12      10      15       2.13       1.17       1.50   \n",
       "1   1      43      18      12      15       2.70       1.11       1.33   \n",
       "2   2      90      34      19      29       1.80       2.06       1.21   \n",
       "3   3     141      43      15      16       4.61       2.74       1.47   \n",
       "4   4      22      18       8       9       1.64       2.44       1.00   \n",
       "\n",
       "   avg_cs[3]  ndof            ...             Mextra_DY2[2]  Mextra_DY2[3]  \\\n",
       "0       1.60     8            ...                   7618.11       14871.40   \n",
       "1       1.60     8            ...                    140.25         265.48   \n",
       "2       1.34     8            ...                    862.30        1669.43   \n",
       "3       1.12     8            ...                    471.16         900.29   \n",
       "4       1.56     8            ...                     85.89         162.87   \n",
       "\n",
       "   FOI_hits_N      PT        P  count_null  MatchedHit_TYPE[0]_ratio  \\\n",
       "0           6 1174.48  6884.50           0                      0.94   \n",
       "1           7 4344.64 48769.53           0                      0.94   \n",
       "2           4 4109.81 20296.05           0                      0.94   \n",
       "3           9  940.24 26062.05           0                      0.94   \n",
       "4           8 1386.38 59872.34           0                      0.94   \n",
       "\n",
       "   MatchedHit_TYPE[1]_ratio  MatchedHit_TYPE[2]_ratio  \\\n",
       "0                      0.94                      0.95   \n",
       "1                      0.94                      0.95   \n",
       "2                      0.94                      0.95   \n",
       "3                      0.94                      0.83   \n",
       "4                      0.94                      0.83   \n",
       "\n",
       "   MatchedHit_TYPE[3]_ratio  \n",
       "0                      0.95  \n",
       "1                      0.95  \n",
       "2                      0.95  \n",
       "3                      0.95  \n",
       "4                      0.82  \n",
       "\n",
       "[5 rows x 71 columns]"
      ]
     },
     "metadata": {},
     "output_type": "display_data"
    },
    {
     "name": "stdout",
     "output_type": "stream",
     "text": [
      "CPU times: user 54.6 s, sys: 3 s, total: 57.6 s\n",
      "Wall time: 1min 45s\n"
     ]
    }
   ],
   "source": [
    "%%time\n",
    "train = pd.read_csv('data_work/train_clean.csv') \n",
    "test = pd.read_csv('data_work/test_clean.csv')\n",
    "\n",
    "display(train.head())\n",
    "display(test.head())"
   ]
  },
  {
   "cell_type": "code",
   "execution_count": 3,
   "metadata": {},
   "outputs": [
    {
     "name": "stdout",
     "output_type": "stream",
     "text": [
      "Tamaño de uso actual : PROFUNDO 1474.9336395263672 MB REAL 1474.9336395263672 MB\n",
      "Tamaño de uso final : PROFUNDO 586.8574447631836 MB REAL 586.8574447631836 MB\n"
     ]
    }
   ],
   "source": [
    "train = reduce_size_data(train, description=False)"
   ]
  },
  {
   "cell_type": "code",
   "execution_count": 4,
   "metadata": {},
   "outputs": [
    {
     "name": "stdout",
     "output_type": "stream",
     "text": [
      "Tamaño de uso actual : PROFUNDO 393.3163070678711 MB REAL 393.3163070678711 MB\n",
      "Tamaño de uso final : PROFUNDO 158.57299327850342 MB REAL 158.57299327850342 MB\n"
     ]
    }
   ],
   "source": [
    "test = reduce_size_data(test, description=False)"
   ]
  },
  {
   "cell_type": "code",
   "execution_count": 5,
   "metadata": {},
   "outputs": [
    {
     "data": {
      "text/plain": [
       "Index(['ncl[0]', 'ncl[1]', 'ncl[2]', 'ncl[3]', 'avg_cs[0]', 'avg_cs[1]',\n",
       "       'avg_cs[2]', 'avg_cs[3]', 'ndof', 'MatchedHit_TYPE[0]',\n",
       "       'MatchedHit_TYPE[1]', 'MatchedHit_TYPE[2]', 'MatchedHit_TYPE[3]',\n",
       "       'MatchedHit_X[0]', 'MatchedHit_X[1]', 'MatchedHit_X[2]',\n",
       "       'MatchedHit_X[3]', 'MatchedHit_Y[0]', 'MatchedHit_Y[1]',\n",
       "       'MatchedHit_Y[2]', 'MatchedHit_Y[3]', 'MatchedHit_Z[0]',\n",
       "       'MatchedHit_Z[1]', 'MatchedHit_Z[2]', 'MatchedHit_Z[3]',\n",
       "       'MatchedHit_DX[0]', 'MatchedHit_DX[1]', 'MatchedHit_DX[2]',\n",
       "       'MatchedHit_DX[3]', 'MatchedHit_DY[0]', 'MatchedHit_DY[1]',\n",
       "       'MatchedHit_DY[2]', 'MatchedHit_DY[3]', 'MatchedHit_DZ[0]',\n",
       "       'MatchedHit_DZ[1]', 'MatchedHit_DZ[2]', 'MatchedHit_DZ[3]',\n",
       "       'MatchedHit_T[0]', 'MatchedHit_T[1]', 'MatchedHit_T[2]',\n",
       "       'MatchedHit_T[3]', 'MatchedHit_DT[0]', 'MatchedHit_DT[1]',\n",
       "       'MatchedHit_DT[2]', 'MatchedHit_DT[3]', 'Lextra_X[0]', 'Lextra_X[1]',\n",
       "       'Lextra_X[2]', 'Lextra_X[3]', 'Lextra_Y[0]', 'Lextra_Y[1]',\n",
       "       'Lextra_Y[2]', 'Lextra_Y[3]', 'NShared', 'Mextra_DX2[0]',\n",
       "       'Mextra_DX2[1]', 'Mextra_DX2[2]', 'Mextra_DX2[3]', 'Mextra_DY2[0]',\n",
       "       'Mextra_DY2[1]', 'Mextra_DY2[2]', 'Mextra_DY2[3]', 'FOI_hits_N', 'PT',\n",
       "       'P', 'label', 'count_null', 'MatchedHit_TYPE[0]_ratio',\n",
       "       'MatchedHit_TYPE[1]_ratio', 'MatchedHit_TYPE[2]_ratio',\n",
       "       'MatchedHit_TYPE[3]_ratio'],\n",
       "      dtype='object')"
      ]
     },
     "execution_count": 5,
     "metadata": {},
     "output_type": "execute_result"
    }
   ],
   "source": [
    "train.columns"
   ]
  },
  {
   "cell_type": "code",
   "execution_count": 6,
   "metadata": {},
   "outputs": [
    {
     "data": {
      "text/plain": [
       "Index(['id', 'ncl[0]', 'ncl[1]', 'ncl[2]', 'ncl[3]', 'avg_cs[0]', 'avg_cs[1]',\n",
       "       'avg_cs[2]', 'avg_cs[3]', 'ndof', 'MatchedHit_TYPE[0]',\n",
       "       'MatchedHit_TYPE[1]', 'MatchedHit_TYPE[2]', 'MatchedHit_TYPE[3]',\n",
       "       'MatchedHit_X[0]', 'MatchedHit_X[1]', 'MatchedHit_X[2]',\n",
       "       'MatchedHit_X[3]', 'MatchedHit_Y[0]', 'MatchedHit_Y[1]',\n",
       "       'MatchedHit_Y[2]', 'MatchedHit_Y[3]', 'MatchedHit_Z[0]',\n",
       "       'MatchedHit_Z[1]', 'MatchedHit_Z[2]', 'MatchedHit_Z[3]',\n",
       "       'MatchedHit_DX[0]', 'MatchedHit_DX[1]', 'MatchedHit_DX[2]',\n",
       "       'MatchedHit_DX[3]', 'MatchedHit_DY[0]', 'MatchedHit_DY[1]',\n",
       "       'MatchedHit_DY[2]', 'MatchedHit_DY[3]', 'MatchedHit_DZ[0]',\n",
       "       'MatchedHit_DZ[1]', 'MatchedHit_DZ[2]', 'MatchedHit_DZ[3]',\n",
       "       'MatchedHit_T[0]', 'MatchedHit_T[1]', 'MatchedHit_T[2]',\n",
       "       'MatchedHit_T[3]', 'MatchedHit_DT[0]', 'MatchedHit_DT[1]',\n",
       "       'MatchedHit_DT[2]', 'MatchedHit_DT[3]', 'Lextra_X[0]', 'Lextra_X[1]',\n",
       "       'Lextra_X[2]', 'Lextra_X[3]', 'Lextra_Y[0]', 'Lextra_Y[1]',\n",
       "       'Lextra_Y[2]', 'Lextra_Y[3]', 'NShared', 'Mextra_DX2[0]',\n",
       "       'Mextra_DX2[1]', 'Mextra_DX2[2]', 'Mextra_DX2[3]', 'Mextra_DY2[0]',\n",
       "       'Mextra_DY2[1]', 'Mextra_DY2[2]', 'Mextra_DY2[3]', 'FOI_hits_N', 'PT',\n",
       "       'P', 'count_null', 'MatchedHit_TYPE[0]_ratio',\n",
       "       'MatchedHit_TYPE[1]_ratio', 'MatchedHit_TYPE[2]_ratio',\n",
       "       'MatchedHit_TYPE[3]_ratio'],\n",
       "      dtype='object')"
      ]
     },
     "execution_count": 6,
     "metadata": {},
     "output_type": "execute_result"
    }
   ],
   "source": [
    "test.columns"
   ]
  },
  {
   "cell_type": "markdown",
   "metadata": {},
   "source": [
    "# Nshared"
   ]
  },
  {
   "cell_type": "code",
   "execution_count": 7,
   "metadata": {},
   "outputs": [
    {
     "data": {
      "image/png": "[encoded data removed]",
      "text/plain": [
       "<Figure size 1080x360 with 3 Axes>"
      ]
     },
     "metadata": {
      "needs_background": "light"
     },
     "output_type": "display_data"
    }
   ],
   "source": [
    "def rule_nshared(val):\n",
    "    if val <= 1:\n",
    "        return 1\n",
    "    else:\n",
    "        return 0\n",
    "\n",
    "train['nshared_low'] = train['NShared'].apply(rule_nshared)\n",
    "test['nshared_low'] = test['NShared'].apply(rule_nshared)\n",
    "flash_analysis(train, 'nshared_low', 'label')"
   ]
  },
  {
   "cell_type": "markdown",
   "metadata": {},
   "source": [
    "# P"
   ]
  },
  {
   "cell_type": "code",
   "execution_count": 8,
   "metadata": {},
   "outputs": [],
   "source": [
    "train['P'] = train['P'] / 1000\n",
    "test['P'] = test['P'] / 1000\n",
    "train['PT'] = train['PT'] / 1000\n",
    "test['PT'] = test['PT'] / 1000"
   ]
  },
  {
   "cell_type": "code",
   "execution_count": 9,
   "metadata": {},
   "outputs": [
    {
     "data": {
      "image/png": "[encoded data removed]",
      "text/plain": [
       "<Figure size 1080x360 with 2 Axes>"
      ]
     },
     "metadata": {
      "needs_background": "light"
     },
     "output_type": "display_data"
    }
   ],
   "source": [
    "flash_numeric(train, 'P', 'label')"
   ]
  },
  {
   "cell_type": "markdown",
   "metadata": {},
   "source": [
    "# PT"
   ]
  },
  {
   "cell_type": "code",
   "execution_count": 10,
   "metadata": {},
   "outputs": [
    {
     "data": {
      "image/png": "[encoded data removed]",
      "text/plain": [
       "<Figure size 1080x360 with 2 Axes>"
      ]
     },
     "metadata": {
      "needs_background": "light"
     },
     "output_type": "display_data"
    }
   ],
   "source": [
    "flash_numeric(train, 'PT', 'label')"
   ]
  },
  {
   "cell_type": "code",
   "execution_count": 11,
   "metadata": {},
   "outputs": [
    {
     "data": {
      "image/png": "[encoded data removed]",
      "text/plain": [
       "<Figure size 1080x360 with 2 Axes>"
      ]
     },
     "metadata": {
      "needs_background": "light"
     },
     "output_type": "display_data"
    }
   ],
   "source": [
    "train['PPT'] = train['P'] * train['PT']\n",
    "flash_numeric(train, 'PPT', 'label')"
   ]
  },
  {
   "cell_type": "code",
   "execution_count": 12,
   "metadata": {},
   "outputs": [],
   "source": [
    "test['PPT'] = test['P'] * test['PT']"
   ]
  },
  {
   "cell_type": "markdown",
   "metadata": {},
   "source": [
    "# TYPE"
   ]
  },
  {
   "cell_type": "code",
   "execution_count": 13,
   "metadata": {},
   "outputs": [
    {
     "data": {
      "text/plain": [
       "['MatchedHit_TYPE[0]',\n",
       " 'MatchedHit_TYPE[1]',\n",
       " 'MatchedHit_TYPE[2]',\n",
       " 'MatchedHit_TYPE[3]']"
      ]
     },
     "execution_count": 13,
     "metadata": {},
     "output_type": "execute_result"
    }
   ],
   "source": [
    "cols_type = [col for col in train.columns if col.startswith('MatchedHit_TYPE')][:4]\n",
    "cols_type"
   ]
  },
  {
   "cell_type": "code",
   "execution_count": 14,
   "metadata": {},
   "outputs": [],
   "source": [
    "for col in cols_type:\n",
    "    train[col] = train[col].astype(str)\n",
    "    test[col] = test[col].astype(str)"
   ]
  },
  {
   "cell_type": "code",
   "execution_count": 15,
   "metadata": {},
   "outputs": [],
   "source": [
    "train = pd.get_dummies(train, columns=cols_type)\n",
    "test = pd.get_dummies(test, columns=cols_type)                           "
   ]
  },
  {
   "cell_type": "code",
   "execution_count": 16,
   "metadata": {},
   "outputs": [
    {
     "data": {
      "text/plain": [
       "Index(['ncl[0]', 'ncl[1]', 'ncl[2]', 'ncl[3]', 'avg_cs[0]', 'avg_cs[1]',\n",
       "       'avg_cs[2]', 'avg_cs[3]', 'ndof', 'MatchedHit_X[0]', 'MatchedHit_X[1]',\n",
       "       'MatchedHit_X[2]', 'MatchedHit_X[3]', 'MatchedHit_Y[0]',\n",
       "       'MatchedHit_Y[1]', 'MatchedHit_Y[2]', 'MatchedHit_Y[3]',\n",
       "       'MatchedHit_Z[0]', 'MatchedHit_Z[1]', 'MatchedHit_Z[2]',\n",
       "       'MatchedHit_Z[3]', 'MatchedHit_DX[0]', 'MatchedHit_DX[1]',\n",
       "       'MatchedHit_DX[2]', 'MatchedHit_DX[3]', 'MatchedHit_DY[0]',\n",
       "       'MatchedHit_DY[1]', 'MatchedHit_DY[2]', 'MatchedHit_DY[3]',\n",
       "       'MatchedHit_DZ[0]', 'MatchedHit_DZ[1]', 'MatchedHit_DZ[2]',\n",
       "       'MatchedHit_DZ[3]', 'MatchedHit_T[0]', 'MatchedHit_T[1]',\n",
       "       'MatchedHit_T[2]', 'MatchedHit_T[3]', 'MatchedHit_DT[0]',\n",
       "       'MatchedHit_DT[1]', 'MatchedHit_DT[2]', 'MatchedHit_DT[3]',\n",
       "       'Lextra_X[0]', 'Lextra_X[1]', 'Lextra_X[2]', 'Lextra_X[3]',\n",
       "       'Lextra_Y[0]', 'Lextra_Y[1]', 'Lextra_Y[2]', 'Lextra_Y[3]', 'NShared',\n",
       "       'Mextra_DX2[0]', 'Mextra_DX2[1]', 'Mextra_DX2[2]', 'Mextra_DX2[3]',\n",
       "       'Mextra_DY2[0]', 'Mextra_DY2[1]', 'Mextra_DY2[2]', 'Mextra_DY2[3]',\n",
       "       'FOI_hits_N', 'PT', 'P', 'label', 'count_null',\n",
       "       'MatchedHit_TYPE[0]_ratio', 'MatchedHit_TYPE[1]_ratio',\n",
       "       'MatchedHit_TYPE[2]_ratio', 'MatchedHit_TYPE[3]_ratio', 'nshared_low',\n",
       "       'PPT', 'MatchedHit_TYPE[0]_1', 'MatchedHit_TYPE[0]_2',\n",
       "       'MatchedHit_TYPE[1]_1', 'MatchedHit_TYPE[1]_2', 'MatchedHit_TYPE[2]_0',\n",
       "       'MatchedHit_TYPE[2]_1', 'MatchedHit_TYPE[2]_2', 'MatchedHit_TYPE[3]_0',\n",
       "       'MatchedHit_TYPE[3]_1', 'MatchedHit_TYPE[3]_2'],\n",
       "      dtype='object')"
      ]
     },
     "execution_count": 16,
     "metadata": {},
     "output_type": "execute_result"
    }
   ],
   "source": [
    "train.columns"
   ]
  },
  {
   "cell_type": "code",
   "execution_count": 17,
   "metadata": {},
   "outputs": [
    {
     "data": {
      "text/plain": [
       "['ncl[0]', 'ncl[1]', 'ncl[2]', 'ncl[3]']"
      ]
     },
     "execution_count": 17,
     "metadata": {},
     "output_type": "execute_result"
    }
   ],
   "source": [
    "key = 'ncl'\n",
    "list_ncl = [col for col in train.columns if  col.startswith(key)]\n",
    "list_ncl"
   ]
  },
  {
   "cell_type": "code",
   "execution_count": 18,
   "metadata": {},
   "outputs": [],
   "source": [
    "train['ncl_max'] = train[list_ncl].apply(lambda _ :max(list(_)), axis=1)"
   ]
  },
  {
   "cell_type": "code",
   "execution_count": 19,
   "metadata": {},
   "outputs": [],
   "source": [
    "train['ncl_mean'] = train[list_ncl].apply(lambda _ : _.mean(), axis=1)"
   ]
  },
  {
   "cell_type": "code",
   "execution_count": 22,
   "metadata": {},
   "outputs": [],
   "source": [
    "train['ncl_min'] = train[list_ncl].apply(lambda _ : _.min(), axis=1)"
   ]
  },
  {
   "cell_type": "code",
   "execution_count": 20,
   "metadata": {},
   "outputs": [
    {
     "data": {
      "text/plain": [
       "['ncl[0]', 'ncl[1]', 'ncl[2]', 'ncl[3]', 'ncl_max', 'ncl_min', 'ncl_mean']"
      ]
     },
     "execution_count": 20,
     "metadata": {},
     "output_type": "execute_result"
    }
   ],
   "source": [
    "list_ncl = [col for col in train.columns if  col.startswith(key)]\n",
    "list_ncl"
   ]
  },
  {
   "cell_type": "code",
   "execution_count": 21,
   "metadata": {},
   "outputs": [
    {
     "data": {
      "text/html": [
       "<div>\n",
       "<style scoped>\n",
       "    .dataframe tbody tr th:only-of-type {\n",
       "        vertical-align: middle;\n",
       "    }\n",
       "\n",
       "    .dataframe tbody tr th {\n",
       "        vertical-align: top;\n",
       "    }\n",
       "\n",
       "    .dataframe thead th {\n",
       "        text-align: right;\n",
       "    }\n",
       "</style>\n",
       "<table border=\"1\" class=\"dataframe\">\n",
       "  <thead>\n",
       "    <tr style=\"text-align: right;\">\n",
       "      <th></th>\n",
       "      <th>ncl[0]</th>\n",
       "      <th>ncl[1]</th>\n",
       "      <th>ncl[2]</th>\n",
       "      <th>ncl[3]</th>\n",
       "      <th>ncl_max</th>\n",
       "      <th>ncl_min</th>\n",
       "      <th>ncl_mean</th>\n",
       "    </tr>\n",
       "  </thead>\n",
       "  <tbody>\n",
       "    <tr>\n",
       "      <th>0</th>\n",
       "      <td>47</td>\n",
       "      <td>31</td>\n",
       "      <td>13</td>\n",
       "      <td>15</td>\n",
       "      <td>47</td>\n",
       "      <td>47</td>\n",
       "      <td>26.50</td>\n",
       "    </tr>\n",
       "    <tr>\n",
       "      <th>1</th>\n",
       "      <td>92</td>\n",
       "      <td>19</td>\n",
       "      <td>11</td>\n",
       "      <td>26</td>\n",
       "      <td>92</td>\n",
       "      <td>92</td>\n",
       "      <td>37.00</td>\n",
       "    </tr>\n",
       "    <tr>\n",
       "      <th>2</th>\n",
       "      <td>100</td>\n",
       "      <td>21</td>\n",
       "      <td>11</td>\n",
       "      <td>12</td>\n",
       "      <td>100</td>\n",
       "      <td>100</td>\n",
       "      <td>36.00</td>\n",
       "    </tr>\n",
       "    <tr>\n",
       "      <th>3</th>\n",
       "      <td>74</td>\n",
       "      <td>27</td>\n",
       "      <td>13</td>\n",
       "      <td>20</td>\n",
       "      <td>74</td>\n",
       "      <td>74</td>\n",
       "      <td>33.50</td>\n",
       "    </tr>\n",
       "    <tr>\n",
       "      <th>4</th>\n",
       "      <td>18</td>\n",
       "      <td>22</td>\n",
       "      <td>8</td>\n",
       "      <td>8</td>\n",
       "      <td>22</td>\n",
       "      <td>22</td>\n",
       "      <td>14.00</td>\n",
       "    </tr>\n",
       "  </tbody>\n",
       "</table>\n",
       "</div>"
      ],
      "text/plain": [
       "   ncl[0]  ncl[1]  ncl[2]  ncl[3]  ncl_max  ncl_min  ncl_mean\n",
       "0      47      31      13      15       47       47     26.50\n",
       "1      92      19      11      26       92       92     37.00\n",
       "2     100      21      11      12      100      100     36.00\n",
       "3      74      27      13      20       74       74     33.50\n",
       "4      18      22       8       8       22       22     14.00"
      ]
     },
     "execution_count": 21,
     "metadata": {},
     "output_type": "execute_result"
    }
   ],
   "source": [
    "train[list_ncl].head()"
   ]
  },
  {
   "cell_type": "code",
   "execution_count": null,
   "metadata": {},
   "outputs": [],
   "source": []
  },
  {
   "cell_type": "code",
   "execution_count": null,
   "metadata": {},
   "outputs": [],
   "source": []
  },
  {
   "cell_type": "code",
   "execution_count": null,
   "metadata": {},
   "outputs": [],
   "source": []
  },
  {
   "cell_type": "code",
   "execution_count": null,
   "metadata": {},
   "outputs": [],
   "source": []
  },
  {
   "cell_type": "code",
   "execution_count": null,
   "metadata": {},
   "outputs": [],
   "source": []
  }
 ],
 "metadata": {
  "kernelspec": {
   "display_name": "Python 3",
   "language": "python",
   "name": "python3"
  },
  "language_info": {
   "codemirror_mode": {
    "name": "ipython",
    "version": 3
   },
   "file_extension": ".py",
   "mimetype": "text/x-python",
   "name": "python",
   "nbconvert_exporter": "python",
   "pygments_lexer": "ipython3",
   "version": "3.6.5"
  }
 },
 "nbformat": 4,
 "nbformat_minor": 2
}
