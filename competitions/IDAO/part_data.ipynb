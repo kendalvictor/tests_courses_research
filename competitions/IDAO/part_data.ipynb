{
 "cells": [
  {
   "cell_type": "code",
   "execution_count": 1,
   "metadata": {},
   "outputs": [],
   "source": [
    "# Nativos\n",
    "import os\n",
    "import sys\n",
    "from itertools import repeat\n",
    "\n",
    "#calculo\n",
    "import numpy as np\n",
    "import pandas as pd\n",
    "pd.options.display.float_format = '{:.2f}'.format\n",
    "from IPython.display import display\n",
    "\n",
    "#grafico\n",
    "import matplotlib.pyplot as plt\n",
    "import matplotlib.pylab as pylab\n",
    "import seaborn as sns\n",
    "%matplotlib inline\n",
    "sns.set(style=\"whitegrid\")\n",
    "pylab.rcParams['figure.figsize'] = 8,6\n",
    "\n",
    "#warning ignore future\n",
    "import warnings\n",
    "warnings.simplefilter(action='ignore', category=FutureWarning)\n",
    "\n",
    "BASE_DIR = os.path.dirname(os.path.dirname(os.getcwd()))\n",
    "if BASE_DIR not in sys.path: sys.path.append(BASE_DIR)\n",
    "\n",
    "from utils import *\n",
    "from graphs import *"
   ]
  },
  {
   "cell_type": "code",
   "execution_count": 2,
   "metadata": {},
   "outputs": [
    {
     "name": "stdout",
     "output_type": "stream",
     "text": [
      "CPU times: user 1min 16s, sys: 5.87 s, total: 1min 22s\n",
      "Wall time: 1min 42s\n"
     ]
    }
   ],
   "source": [
    "%%time\n",
    "\n",
    "def get_cols(text):\n",
    "    return text.strip().split(',')\n",
    "    \n",
    "dicc_data = {}\n",
    "\n",
    "with open('train_part_1_v2.csv', 'r') as file_csv:\n",
    "    cols = get_cols(file_csv.readline())\n",
    "    dicc_data = {_: [] for _ in cols}\n",
    "    \n",
    "    for line in file_csv:\n",
    "        try:\n",
    "            values = get_cols(line)\n",
    "            if len(values) == len(cols):\n",
    "                for i in range(len(cols)):\n",
    "                    dicc_data[cols[i]].append(values[i])\n",
    "        except:\n",
    "            continue\n",
    "        del values\n",
    "\n",
    "index = dicc_data.copy()['id']\n",
    "del dicc_data['id']\n",
    "cols = dicc_data.keys()\n",
    "\n",
    "train = pd.DataFrame(\n",
    "    dicc_data,\n",
    "        columns=cols,\n",
    "        index=index,\n",
    ")\n",
    "del dicc_data\n",
    "del index\n",
    "del cols"
   ]
  },
  {
   "cell_type": "code",
   "execution_count": 3,
   "metadata": {},
   "outputs": [
    {
     "data": {
      "text/plain": [
       "(1692137, 79)"
      ]
     },
     "execution_count": 3,
     "metadata": {},
     "output_type": "execute_result"
    }
   ],
   "source": [
    "train.shape"
   ]
  },
  {
   "cell_type": "code",
   "execution_count": 4,
   "metadata": {},
   "outputs": [
    {
     "data": {
      "text/html": [
       "<div>\n",
       "<style scoped>\n",
       "    .dataframe tbody tr th:only-of-type {\n",
       "        vertical-align: middle;\n",
       "    }\n",
       "\n",
       "    .dataframe tbody tr th {\n",
       "        vertical-align: top;\n",
       "    }\n",
       "\n",
       "    .dataframe thead th {\n",
       "        text-align: right;\n",
       "    }\n",
       "</style>\n",
       "<table border=\"1\" class=\"dataframe\">\n",
       "  <thead>\n",
       "    <tr style=\"text-align: right;\">\n",
       "      <th></th>\n",
       "      <th>ncl[0]</th>\n",
       "      <th>ncl[1]</th>\n",
       "      <th>ncl[2]</th>\n",
       "      <th>ncl[3]</th>\n",
       "      <th>avg_cs[0]</th>\n",
       "      <th>avg_cs[1]</th>\n",
       "      <th>avg_cs[2]</th>\n",
       "      <th>avg_cs[3]</th>\n",
       "      <th>ndof</th>\n",
       "      <th>MatchedHit_TYPE[0]</th>\n",
       "      <th>...</th>\n",
       "      <th>FOI_hits_T</th>\n",
       "      <th>FOI_hits_DT</th>\n",
       "      <th>FOI_hits_S</th>\n",
       "      <th>PT</th>\n",
       "      <th>P</th>\n",
       "      <th>sWeight</th>\n",
       "      <th>particle_type</th>\n",
       "      <th>label</th>\n",
       "      <th>kinWeight</th>\n",
       "      <th>weight</th>\n",
       "    </tr>\n",
       "  </thead>\n",
       "  <tbody>\n",
       "    <tr>\n",
       "      <th>0</th>\n",
       "      <td>47</td>\n",
       "      <td>31</td>\n",
       "      <td>13</td>\n",
       "      <td>15</td>\n",
       "      <td>2.0</td>\n",
       "      <td>1.5806452</td>\n",
       "      <td>1.1538461</td>\n",
       "      <td>1.1333333</td>\n",
       "      <td>8</td>\n",
       "      <td>2</td>\n",
       "      <td>...</td>\n",
       "      <td>[ 3 11  2  7  7  5]</td>\n",
       "      <td>[0 8 0 0 0 0]</td>\n",
       "      <td>[0 0 1 2 2 3]</td>\n",
       "      <td>1764.9258987277626</td>\n",
       "      <td>12646.817591457544</td>\n",
       "      <td>1.199231450659103</td>\n",
       "      <td>1</td>\n",
       "      <td>1</td>\n",
       "      <td>1.8564598845880822</td>\n",
       "      <td>2.226325080484997</td>\n",
       "    </tr>\n",
       "    <tr>\n",
       "      <th>1</th>\n",
       "      <td>92</td>\n",
       "      <td>19</td>\n",
       "      <td>11</td>\n",
       "      <td>26</td>\n",
       "      <td>2.75</td>\n",
       "      <td>2.7894738</td>\n",
       "      <td>1.3636364</td>\n",
       "      <td>1.2307693</td>\n",
       "      <td>8</td>\n",
       "      <td>2</td>\n",
       "      <td>...</td>\n",
       "      <td>[ 9 10  8  4]</td>\n",
       "      <td>[ 1 -1  0  4]</td>\n",
       "      <td>[0 1 2 3]</td>\n",
       "      <td>4511.2812663477325</td>\n",
       "      <td>28556.630027118048</td>\n",
       "      <td>1.145787684993018</td>\n",
       "      <td>1</td>\n",
       "      <td>1</td>\n",
       "      <td>1.8564598845880822</td>\n",
       "      <td>2.127108873444584</td>\n",
       "    </tr>\n",
       "    <tr>\n",
       "      <th>3</th>\n",
       "      <td>74</td>\n",
       "      <td>27</td>\n",
       "      <td>13</td>\n",
       "      <td>20</td>\n",
       "      <td>3.0675676</td>\n",
       "      <td>2.5185184</td>\n",
       "      <td>1.9230769</td>\n",
       "      <td>1.3</td>\n",
       "      <td>8</td>\n",
       "      <td>2</td>\n",
       "      <td>...</td>\n",
       "      <td>[6 6 4 8 2]</td>\n",
       "      <td>[ 1 -6  0  0  0]</td>\n",
       "      <td>[0 0 1 2 3]</td>\n",
       "      <td>4991.074824975077</td>\n",
       "      <td>37192.86855890656</td>\n",
       "      <td>0.8648627392787444</td>\n",
       "      <td>1</td>\n",
       "      <td>1</td>\n",
       "      <td>1.8564598845880822</td>\n",
       "      <td>1.6055829811459503</td>\n",
       "    </tr>\n",
       "    <tr>\n",
       "      <th>4</th>\n",
       "      <td>18</td>\n",
       "      <td>22</td>\n",
       "      <td>8</td>\n",
       "      <td>8</td>\n",
       "      <td>1.8333334</td>\n",
       "      <td>1.9545455</td>\n",
       "      <td>1.125</td>\n",
       "      <td>1.75</td>\n",
       "      <td>8</td>\n",
       "      <td>2</td>\n",
       "      <td>...</td>\n",
       "      <td>[ 5 10  6  6  5  5]</td>\n",
       "      <td>[ 0  5 -2  0  0  0]</td>\n",
       "      <td>[0 0 0 1 2 3]</td>\n",
       "      <td>1347.7048883564978</td>\n",
       "      <td>16688.746173505668</td>\n",
       "      <td>1.1074305709753243</td>\n",
       "      <td>1</td>\n",
       "      <td>1</td>\n",
       "      <td>1.8564598845880822</td>\n",
       "      <td>2.0559004299821644</td>\n",
       "    </tr>\n",
       "    <tr>\n",
       "      <th>5</th>\n",
       "      <td>29</td>\n",
       "      <td>18</td>\n",
       "      <td>10</td>\n",
       "      <td>11</td>\n",
       "      <td>1.4137931</td>\n",
       "      <td>2.2222223</td>\n",
       "      <td>1.1</td>\n",
       "      <td>1.1818181</td>\n",
       "      <td>8</td>\n",
       "      <td>2</td>\n",
       "      <td>...</td>\n",
       "      <td>[ 7  2  2 10 10  2  7]</td>\n",
       "      <td>[ 0  0 -7  8  1  0  0]</td>\n",
       "      <td>[0 1 1 1 1 2 3]</td>\n",
       "      <td>2952.7722142420675</td>\n",
       "      <td>28412.589641509272</td>\n",
       "      <td>1.165191784289647</td>\n",
       "      <td>1</td>\n",
       "      <td>1</td>\n",
       "      <td>1.8564598845880822</td>\n",
       "      <td>2.1631318053853397</td>\n",
       "    </tr>\n",
       "  </tbody>\n",
       "</table>\n",
       "<p>5 rows × 79 columns</p>\n",
       "</div>"
      ],
      "text/plain": [
       "  ncl[0] ncl[1] ncl[2] ncl[3]  avg_cs[0]  avg_cs[1]  avg_cs[2]  avg_cs[3]  \\\n",
       "0     47     31     13     15        2.0  1.5806452  1.1538461  1.1333333   \n",
       "1     92     19     11     26       2.75  2.7894738  1.3636364  1.2307693   \n",
       "3     74     27     13     20  3.0675676  2.5185184  1.9230769        1.3   \n",
       "4     18     22      8      8  1.8333334  1.9545455      1.125       1.75   \n",
       "5     29     18     10     11  1.4137931  2.2222223        1.1  1.1818181   \n",
       "\n",
       "  ndof MatchedHit_TYPE[0]         ...                      FOI_hits_T  \\\n",
       "0    8                  2         ...             [ 3 11  2  7  7  5]   \n",
       "1    8                  2         ...                   [ 9 10  8  4]   \n",
       "3    8                  2         ...                     [6 6 4 8 2]   \n",
       "4    8                  2         ...             [ 5 10  6  6  5  5]   \n",
       "5    8                  2         ...          [ 7  2  2 10 10  2  7]   \n",
       "\n",
       "              FOI_hits_DT       FOI_hits_S                  PT  \\\n",
       "0           [0 8 0 0 0 0]    [0 0 1 2 2 3]  1764.9258987277626   \n",
       "1           [ 1 -1  0  4]        [0 1 2 3]  4511.2812663477325   \n",
       "3        [ 1 -6  0  0  0]      [0 0 1 2 3]   4991.074824975077   \n",
       "4     [ 0  5 -2  0  0  0]    [0 0 0 1 2 3]  1347.7048883564978   \n",
       "5  [ 0  0 -7  8  1  0  0]  [0 1 1 1 1 2 3]  2952.7722142420675   \n",
       "\n",
       "                    P             sWeight particle_type label  \\\n",
       "0  12646.817591457544   1.199231450659103             1     1   \n",
       "1  28556.630027118048   1.145787684993018             1     1   \n",
       "3   37192.86855890656  0.8648627392787444             1     1   \n",
       "4  16688.746173505668  1.1074305709753243             1     1   \n",
       "5  28412.589641509272   1.165191784289647             1     1   \n",
       "\n",
       "            kinWeight              weight  \n",
       "0  1.8564598845880822   2.226325080484997  \n",
       "1  1.8564598845880822   2.127108873444584  \n",
       "3  1.8564598845880822  1.6055829811459503  \n",
       "4  1.8564598845880822  2.0559004299821644  \n",
       "5  1.8564598845880822  2.1631318053853397  \n",
       "\n",
       "[5 rows x 79 columns]"
      ]
     },
     "execution_count": 4,
     "metadata": {},
     "output_type": "execute_result"
    }
   ],
   "source": [
    "train.head()"
   ]
  },
  {
   "cell_type": "code",
   "execution_count": 7,
   "metadata": {},
   "outputs": [],
   "source": [
    "train.to_csv('data_work/data_part.csv', index=False)"
   ]
  },
  {
   "cell_type": "markdown",
   "metadata": {},
   "source": [
    "## LOAD ORIGINAL DATA"
   ]
  },
  {
   "cell_type": "code",
   "execution_count": 6,
   "metadata": {},
   "outputs": [
    {
     "name": "stdout",
     "output_type": "stream",
     "text": [
      "CPU times: user 45.7 s, sys: 5.98 s, total: 51.7 s\n",
      "Wall time: 23min 1s\n"
     ]
    }
   ],
   "source": [
    "%%time\n",
    "ID_COLUMN = \"id\"\n",
    "\n",
    "data = pd.read_csv(\n",
    "    'train_part_1_v2.csv',\n",
    "    index_col=ID_COLUMN,\n",
    "    **set_parameter_csv\n",
    ")\n",
    "data.head()"
   ]
  },
  {
   "cell_type": "code",
   "execution_count": 7,
   "metadata": {},
   "outputs": [
    {
     "data": {
      "text/plain": [
       "(2722852, 65)"
      ]
     },
     "execution_count": 7,
     "metadata": {},
     "output_type": "execute_result"
    }
   ],
   "source": [
    "data.shape"
   ]
  },
  {
   "cell_type": "code",
   "execution_count": null,
   "metadata": {},
   "outputs": [],
   "source": []
  },
  {
   "cell_type": "code",
   "execution_count": null,
   "metadata": {},
   "outputs": [],
   "source": []
  }
 ],
 "metadata": {
  "kernelspec": {
   "display_name": "Python 3",
   "language": "python",
   "name": "python3"
  },
  "language_info": {
   "codemirror_mode": {
    "name": "ipython",
    "version": 3
   },
   "file_extension": ".py",
   "mimetype": "text/x-python",
   "name": "python",
   "nbconvert_exporter": "python",
   "pygments_lexer": "ipython3",
   "version": "3.6.5"
  }
 },
 "nbformat": 4,
 "nbformat_minor": 2
}
