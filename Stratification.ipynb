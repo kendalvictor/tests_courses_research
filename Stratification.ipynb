{
 "cells": [
  {
   "cell_type": "code",
   "execution_count": 6,
   "metadata": {},
   "outputs": [
    {
     "name": "stdout",
     "output_type": "stream",
     "text": [
      "[0, 1, 2, 3, 4, 5, 6, 7, 8, 9, 10, 11, 12, 13, 14, 15, 16, 17, 18, 19]\n",
      "[0, 0, 0, 0, 0, 1, 1, 1, 1, 1, 0, 0, 0, 0, 0, 1, 1, 1, 1, 1]\n",
      "//////////////////\n",
      "#\n",
      "TIME SERIES\n",
      "TRAIN: [0 1 2 3 4 5 6 7 8 9] TEST: [10]\n",
      "TRAIN: [ 0  1  2  3  4  5  6  7  8  9 10] TEST: [11]\n",
      "TRAIN: [ 0  1  2  3  4  5  6  7  8  9 10 11] TEST: [12]\n",
      "TRAIN: [ 0  1  2  3  4  5  6  7  8  9 10 11 12] TEST: [13]\n",
      "TRAIN: [ 0  1  2  3  4  5  6  7  8  9 10 11 12 13] TEST: [14]\n",
      "TRAIN: [ 0  1  2  3  4  5  6  7  8  9 10 11 12 13 14] TEST: [15]\n",
      "TRAIN: [ 0  1  2  3  4  5  6  7  8  9 10 11 12 13 14 15] TEST: [16]\n",
      "TRAIN: [ 0  1  2  3  4  5  6  7  8  9 10 11 12 13 14 15 16] TEST: [17]\n",
      "TRAIN: [ 0  1  2  3  4  5  6  7  8  9 10 11 12 13 14 15 16 17] TEST: [18]\n",
      "TRAIN: [ 0  1  2  3  4  5  6  7  8  9 10 11 12 13 14 15 16 17 18] TEST: [19]\n",
      "#\n",
      "KFold suffle ON\n",
      "TRAIN: [ 0  2  3  4  5  7  8  9 10 11 12 14 15 16 17 19] TEST: [ 1  6 13 18]\n",
      "TRAIN: [ 1  2  3  4  6  7  8  9 11 12 13 14 16 17 18 19] TEST: [ 0  5 10 15]\n",
      "TRAIN: [ 0  1  3  4  5  6  8  9 10 11 13 14 15 16 18 19] TEST: [ 2  7 12 17]\n",
      "TRAIN: [ 0  1  2  3  5  6  7  8 10 11 12 13 15 16 17 18] TEST: [ 4  9 14 19]\n",
      "TRAIN: [ 0  1  2  4  5  6  7  9 10 12 13 14 15 17 18 19] TEST: [ 3  8 11 16]\n",
      "#\n",
      "KFold suffle OFF\n",
      "TRAIN: [ 2  3  4  7  8  9 10 11 12 13 14 15 16 17 18 19] TEST: [0 1 5 6]\n",
      "TRAIN: [ 0  1  4  5  6  9 10 11 12 13 14 15 16 17 18 19] TEST: [2 3 7 8]\n",
      "TRAIN: [ 0  1  2  3  5  6  7  8 11 12 13 14 16 17 18 19] TEST: [ 4  9 10 15]\n",
      "TRAIN: [ 0  1  2  3  4  5  6  7  8  9 10 13 14 15 18 19] TEST: [11 12 16 17]\n",
      "TRAIN: [ 0  1  2  3  4  5  6  7  8  9 10 11 12 15 16 17] TEST: [13 14 18 19]\n",
      "Shuffle Split\n",
      "TRAIN: [17  4 14 10  3  6  0 15  9  5 13 12 19 16  2  8 18  1] TEST: [11  7]\n",
      "TRAIN: [16 15 14  4 17  7  6  8  1 12  3 19  0  5  9 10 13 11] TEST: [ 2 18]\n",
      "TRAIN: [ 2  1 12 16 14 15  5 11 18  0 17  9 10  7  4 13 19  6] TEST: [8 3]\n",
      "TRAIN: [ 5 10  3 12  6  7 17 13 18 16  4  8  9 14  2 15  1 11] TEST: [19  0]\n",
      "TRAIN: [ 5 15 14 19  4  6 10 13  2  1  0  8 12  9  3  7 18 17] TEST: [11 16]\n"
     ]
    }
   ],
   "source": [
    "tx = range(20)\n",
    "ty = [0] * 5 + [1] * 5 + [0] * 5 + [1] * 5\n",
    "\n",
    "print(list(tx))\n",
    "print(ty)\n",
    "print(\"/\"*18)\n",
    "\n",
    "from sklearn.model_selection import StratifiedShuffleSplit, StratifiedKFold, TimeSeriesSplit\n",
    "from sklearn import datasets\n",
    "\n",
    "time_split = TimeSeriesSplit(n_splits=10)\n",
    "kfold_on = StratifiedKFold(n_splits=5, shuffle=True, random_state=42)\n",
    "kfold_off = StratifiedKFold(n_splits=5, shuffle=False, random_state=42)\n",
    "shufflesplit = StratifiedShuffleSplit(n_splits=5, random_state=42, test_size=2)\n",
    "\n",
    "print(\"#\")\n",
    "print(\"TIME SERIES\")\n",
    "for train_index, test_index in time_split.split(tx, ty):\n",
    "    print(\"TRAIN:\", train_index, \"TEST:\", test_index)\n",
    "\n",
    "print(\"#\")\n",
    "print(\"KFold suffle ON\")\n",
    "for train_index, test_index in kfold_on.split(tx, ty):\n",
    "    print(\"TRAIN:\", train_index, \"TEST:\", test_index)\n",
    "\n",
    "print(\"#\")\n",
    "print(\"KFold suffle OFF\")\n",
    "for train_index, test_index in kfold_off.split(tx, ty):\n",
    "    print(\"TRAIN:\", train_index, \"TEST:\", test_index)\n",
    "    \n",
    "print(\"Shuffle Split\")\n",
    "for train_index, test_index in shufflesplit.split(tx, ty):\n",
    "    print(\"TRAIN:\", train_index, \"TEST:\", test_index)"
   ]
  },
  {
   "cell_type": "code",
   "execution_count": 3,
   "metadata": {},
   "outputs": [
    {
     "data": {
      "text/plain": [
       "878117816239942145"
      ]
     },
     "execution_count": 3,
     "metadata": {},
     "output_type": "execute_result"
    }
   ],
   "source": [
    "import time\n",
    "hash(time.time())"
   ]
  },
  {
   "cell_type": "code",
   "execution_count": 4,
   "metadata": {},
   "outputs": [
    {
     "data": {
      "text/plain": [
       "214517468900387330"
      ]
     },
     "execution_count": 4,
     "metadata": {},
     "output_type": "execute_result"
    }
   ],
   "source": [
    "hash(time.time())"
   ]
  },
  {
   "cell_type": "code",
   "execution_count": null,
   "metadata": {},
   "outputs": [],
   "source": []
  }
 ],
 "metadata": {
  "kernelspec": {
   "display_name": "Python 3",
   "language": "python",
   "name": "python3"
  },
  "language_info": {
   "codemirror_mode": {
    "name": "ipython",
    "version": 3
   },
   "file_extension": ".py",
   "mimetype": "text/x-python",
   "name": "python",
   "nbconvert_exporter": "python",
   "pygments_lexer": "ipython3",
   "version": "3.6.5"
  }
 },
 "nbformat": 4,
 "nbformat_minor": 2
}
