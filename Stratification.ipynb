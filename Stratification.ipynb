{
 "cells": [
  {
   "cell_type": "code",
   "execution_count": 16,
   "metadata": {},
   "outputs": [],
   "source": [
    "import numpy as np\n",
    "import pandas as pd\n",
    "\n",
    "from sklearn.model_selection import StratifiedShuffleSplit, StratifiedKFold, TimeSeriesSplit, GroupKFold\n",
    "from sklearn import datasets"
   ]
  },
  {
   "cell_type": "markdown",
   "metadata": {},
   "source": [
    "tx = pd.DataFrame(\n",
    "    zip(*[range(20), range(3,23)])\n",
    ")\n",
    "tx.head()"
   ]
  },
  {
   "cell_type": "code",
   "execution_count": 27,
   "metadata": {},
   "outputs": [
    {
     "data": {
      "text/plain": [
       "[0, 1, 0, 1, 0, 1, 0, 1, 0, 1, 0, 1, 0, 1, 0, 1, 0, 1, 0, 1]"
      ]
     },
     "execution_count": 27,
     "metadata": {},
     "output_type": "execute_result"
    }
   ],
   "source": [
    "ty = [0, 1] * 10\n",
    "ty"
   ]
  },
  {
   "cell_type": "code",
   "execution_count": 32,
   "metadata": {},
   "outputs": [
    {
     "data": {
      "text/plain": [
       "array([0, 0, 1, 1, 2, 2, 3, 3, 4, 4, 5, 5, 6, 6, 7, 7, 8, 8, 9, 9])"
      ]
     },
     "execution_count": 32,
     "metadata": {},
     "output_type": "execute_result"
    }
   ],
   "source": [
    "groups = np.hstack([[ii] * 2 for ii in range(10)])\n",
    "groups"
   ]
  },
  {
   "cell_type": "code",
   "execution_count": 33,
   "metadata": {},
   "outputs": [
    {
     "name": "stdout",
     "output_type": "stream",
     "text": [
      "#\n",
      "GROUP\n",
      "TRAIN: [ 0  1  2  3  4  5  6  7 10 11 12 13 14 15 16 17] TEST: [ 8  9 18 19]\n",
      "TRAIN: [ 0  1  2  3  4  5  8  9 10 11 12 13 14 15 18 19] TEST: [ 6  7 16 17]\n",
      "TRAIN: [ 0  1  2  3  6  7  8  9 10 11 12 13 16 17 18 19] TEST: [ 4  5 14 15]\n",
      "TRAIN: [ 0  1  4  5  6  7  8  9 10 11 14 15 16 17 18 19] TEST: [ 2  3 12 13]\n",
      "TRAIN: [ 2  3  4  5  6  7  8  9 12 13 14 15 16 17 18 19] TEST: [ 0  1 10 11]\n",
      "#\n",
      "TIME SERIES\n",
      "TRAIN: [0 1 2 3 4] TEST: [5 6 7]\n",
      "TRAIN: [0 1 2 3 4 5 6 7] TEST: [ 8  9 10]\n",
      "TRAIN: [ 0  1  2  3  4  5  6  7  8  9 10] TEST: [11 12 13]\n",
      "TRAIN: [ 0  1  2  3  4  5  6  7  8  9 10 11 12 13] TEST: [14 15 16]\n",
      "TRAIN: [ 0  1  2  3  4  5  6  7  8  9 10 11 12 13 14 15 16] TEST: [17 18 19]\n",
      "#\n",
      "KFold suffle ON\n",
      "TRAIN: [ 0  4  5  6  7  8  9 10 11 12 13 14 15 17 18 19] TEST: [ 1  2  3 16]\n",
      "TRAIN: [ 1  2  3  4  5  6  7  8  9 12 13 14 15 16 18 19] TEST: [ 0 10 11 17]\n",
      "TRAIN: [ 0  1  2  3  5  6  8 10 11 12 13 15 16 17 18 19] TEST: [ 4  7  9 14]\n",
      "TRAIN: [ 0  1  2  3  4  5  6  7  9 10 11 12 13 14 16 17] TEST: [ 8 15 18 19]\n",
      "TRAIN: [ 0  1  2  3  4  7  8  9 10 11 14 15 16 17 18 19] TEST: [ 5  6 12 13]\n",
      "#\n",
      "KFold suffle OFF\n",
      "TRAIN: [ 4  5  6  7  8  9 10 11 12 13 14 15 16 17 18 19] TEST: [0 1 2 3]\n",
      "TRAIN: [ 0  1  2  3  8  9 10 11 12 13 14 15 16 17 18 19] TEST: [4 5 6 7]\n",
      "TRAIN: [ 0  1  2  3  4  5  6  7 12 13 14 15 16 17 18 19] TEST: [ 8  9 10 11]\n",
      "TRAIN: [ 0  1  2  3  4  5  6  7  8  9 10 11 16 17 18 19] TEST: [12 13 14 15]\n",
      "TRAIN: [ 0  1  2  3  4  5  6  7  8  9 10 11 12 13 14 15] TEST: [16 17 18 19]\n",
      "#\n",
      "Shuffle Split\n",
      "TRAIN: [15  8 18 10  6  3  0 11  9  1 16 14 19 13  4  7 17  2] TEST: [12  5]\n",
      "TRAIN: [13 11 18  8 15  5  3  7  2 14  6 19  0  1  9 10 16 12] TEST: [ 4 17]\n",
      "TRAIN: [ 4  2 14 13 18 11  1 12 17  0 15  9 10  5  8 16 19  3] TEST: [7 6]\n",
      "TRAIN: [ 1 10  6 14  3  5 15 16 17 13  8  7  9 18  4 11  2 12] TEST: [19  0]\n",
      "TRAIN: [ 1 11 18 19  8  3 10 16  4  2  0  7 14  9  6  5 17 15] TEST: [12 13]\n"
     ]
    }
   ],
   "source": [
    "time_split = TimeSeriesSplit(n_splits=5)\n",
    "kfold_on = StratifiedKFold(n_splits=5, shuffle=True, random_state=42)\n",
    "kfold_off = StratifiedKFold(n_splits=5, shuffle=False, random_state=42)\n",
    "shufflesplit = StratifiedShuffleSplit(n_splits=5, random_state=42, test_size=2)\n",
    "group_fold = GroupKFold(n_splits=5)\n",
    "\n",
    "print(\"#\")\n",
    "print(\"GROUP\")\n",
    "for train_index, test_index in group_fold.split(tx, ty, groups):\n",
    "    print(\"TRAIN:\", train_index, \"TEST:\", test_index)\n",
    "\n",
    "print(\"#\")\n",
    "print(\"TIME SERIES\")\n",
    "for train_index, test_index in time_split.split(tx, ty):\n",
    "    print(\"TRAIN:\", train_index, \"TEST:\", test_index)\n",
    "\n",
    "print(\"#\")\n",
    "print(\"KFold suffle ON\")\n",
    "for train_index, test_index in kfold_on.split(tx, ty):\n",
    "    print(\"TRAIN:\", train_index, \"TEST:\", test_index)\n",
    "\n",
    "print(\"#\")\n",
    "print(\"KFold suffle OFF\")\n",
    "for train_index, test_index in kfold_off.split(tx, ty):\n",
    "    print(\"TRAIN:\", train_index, \"TEST:\", test_index)\n",
    "    \n",
    "print(\"#\")\n",
    "print(\"Shuffle Split\")\n",
    "for train_index, test_index in shufflesplit.split(tx, ty):\n",
    "    print(\"TRAIN:\", train_index, \"TEST:\", test_index)"
   ]
  },
  {
   "cell_type": "code",
   "execution_count": 34,
   "metadata": {},
   "outputs": [
    {
     "data": {
      "text/plain": [
       "2290779701483571946"
      ]
     },
     "execution_count": 34,
     "metadata": {},
     "output_type": "execute_result"
    }
   ],
   "source": [
    "import time\n",
    "hash(time.time())"
   ]
  },
  {
   "cell_type": "code",
   "execution_count": 35,
   "metadata": {},
   "outputs": [
    {
     "data": {
      "text/plain": [
       "741165946447235819"
      ]
     },
     "execution_count": 35,
     "metadata": {},
     "output_type": "execute_result"
    }
   ],
   "source": [
    "hash(time.time())"
   ]
  },
  {
   "cell_type": "code",
   "execution_count": null,
   "metadata": {},
   "outputs": [],
   "source": []
  }
 ],
 "metadata": {
  "kernelspec": {
   "display_name": "Python 3",
   "language": "python",
   "name": "python3"
  },
  "language_info": {
   "codemirror_mode": {
    "name": "ipython",
    "version": 3
   },
   "file_extension": ".py",
   "mimetype": "text/x-python",
   "name": "python",
   "nbconvert_exporter": "python",
   "pygments_lexer": "ipython3",
   "version": "3.7.6"
  }
 },
 "nbformat": 4,
 "nbformat_minor": 4
}
