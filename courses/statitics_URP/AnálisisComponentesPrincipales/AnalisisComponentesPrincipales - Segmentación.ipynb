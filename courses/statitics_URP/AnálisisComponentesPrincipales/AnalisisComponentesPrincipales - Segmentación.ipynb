{
 "cells": [
  {
   "cell_type": "markdown",
   "metadata": {},
   "source": [
    "############################################################################################\n",
    "################## -- Estadística para Ciencia de Datos --##################################\n",
    "############################################################################################\n",
    "\n",
    "############################ PCA para Segmentación ########################################\n",
    "\n",
    "Autores : José Cárdenas - André Chávez "
   ]
  },
  {
   "cell_type": "code",
   "execution_count": 1,
   "metadata": {
    "collapsed": true
   },
   "outputs": [],
   "source": [
    "### Librerias necesarias para el procesamiento\n",
    "%matplotlib inline\n",
    "import numpy as np\n",
    "import pandas as pd\n",
    "import matplotlib.pyplot as plt\n",
    "from math import sqrt\n",
    "from scipy.stats.stats import pearsonr  \n",
    "from sklearn.cluster import KMeans\n",
    "from scipy.cluster.vq import kmeans,vq\n",
    "from scipy.spatial.distance import cdist\n"
   ]
  },
  {
   "cell_type": "code",
   "execution_count": null,
   "metadata": {
    "collapsed": true
   },
   "outputs": [],
   "source": [
    "###### Vamos a generar una segmentación de países, en base a indicadores del milenio."
   ]
  },
  {
   "cell_type": "markdown",
   "metadata": {},
   "source": [
    "La data de los diferentes paises del mundo tiene como variables los siguientes indicadores."
   ]
  },
  {
   "cell_type": "code",
   "execution_count": 12,
   "metadata": {},
   "outputs": [
    {
     "data": {
      "text/html": [
       "<div>\n",
       "<style>\n",
       "    .dataframe thead tr:only-child th {\n",
       "        text-align: right;\n",
       "    }\n",
       "\n",
       "    .dataframe thead th {\n",
       "        text-align: left;\n",
       "    }\n",
       "\n",
       "    .dataframe tbody tr th {\n",
       "        vertical-align: top;\n",
       "    }\n",
       "</style>\n",
       "<table border=\"1\" class=\"dataframe\">\n",
       "  <thead>\n",
       "    <tr style=\"text-align: right;\">\n",
       "      <th></th>\n",
       "      <th>country</th>\n",
       "      <th>region</th>\n",
       "      <th>tfr</th>\n",
       "      <th>contraception</th>\n",
       "      <th>educationMale</th>\n",
       "      <th>educationFemale</th>\n",
       "      <th>lifeMale</th>\n",
       "      <th>lifeFemale</th>\n",
       "      <th>infantMortality</th>\n",
       "      <th>GDPperCapita</th>\n",
       "      <th>economicActivityMale</th>\n",
       "      <th>economicActivityFemale</th>\n",
       "      <th>illiteracyMale</th>\n",
       "      <th>illiteracyFemale</th>\n",
       "    </tr>\n",
       "  </thead>\n",
       "  <tbody>\n",
       "    <tr>\n",
       "      <th>0</th>\n",
       "      <td>Afghanistan</td>\n",
       "      <td>Asia</td>\n",
       "      <td>6.9</td>\n",
       "      <td>NaN</td>\n",
       "      <td>NaN</td>\n",
       "      <td>NaN</td>\n",
       "      <td>45.0</td>\n",
       "      <td>46.0</td>\n",
       "      <td>154.0</td>\n",
       "      <td>2848.0</td>\n",
       "      <td>87.5</td>\n",
       "      <td>7.2</td>\n",
       "      <td>52.8</td>\n",
       "      <td>85.0</td>\n",
       "    </tr>\n",
       "    <tr>\n",
       "      <th>1</th>\n",
       "      <td>Albania</td>\n",
       "      <td>Europe</td>\n",
       "      <td>2.6</td>\n",
       "      <td>NaN</td>\n",
       "      <td>NaN</td>\n",
       "      <td>NaN</td>\n",
       "      <td>68.0</td>\n",
       "      <td>74.0</td>\n",
       "      <td>32.0</td>\n",
       "      <td>863.0</td>\n",
       "      <td>NaN</td>\n",
       "      <td>NaN</td>\n",
       "      <td>NaN</td>\n",
       "      <td>NaN</td>\n",
       "    </tr>\n",
       "  </tbody>\n",
       "</table>\n",
       "</div>"
      ],
      "text/plain": [
       "       country  region  tfr  contraception  educationMale  educationFemale  \\\n",
       "0  Afghanistan    Asia  6.9            NaN            NaN              NaN   \n",
       "1      Albania  Europe  2.6            NaN            NaN              NaN   \n",
       "\n",
       "   lifeMale  lifeFemale  infantMortality  GDPperCapita  economicActivityMale  \\\n",
       "0      45.0        46.0            154.0        2848.0                  87.5   \n",
       "1      68.0        74.0             32.0         863.0                   NaN   \n",
       "\n",
       "   economicActivityFemale  illiteracyMale  illiteracyFemale  \n",
       "0                     7.2            52.8              85.0  \n",
       "1                     NaN             NaN               NaN  "
      ]
     },
     "execution_count": 12,
     "metadata": {},
     "output_type": "execute_result"
    }
   ],
   "source": [
    "data = pd.read_csv('C:/Users/Andre Chavez/Desktop/Data/DataPais.csv')\n",
    "data.head(2)"
   ]
  },
  {
   "cell_type": "code",
   "execution_count": 13,
   "metadata": {},
   "outputs": [
    {
     "data": {
      "text/plain": [
       "pandas.core.frame.DataFrame"
      ]
     },
     "execution_count": 13,
     "metadata": {},
     "output_type": "execute_result"
    }
   ],
   "source": [
    "# Visualizamos el tipo de data\n",
    "type(data)"
   ]
  },
  {
   "cell_type": "code",
   "execution_count": 14,
   "metadata": {},
   "outputs": [
    {
     "data": {
      "text/plain": [
       "Index(['country', 'region', 'tfr', 'contraception', 'educationMale',\n",
       "       'educationFemale', 'lifeMale', 'lifeFemale', 'infantMortality',\n",
       "       'GDPperCapita', 'economicActivityMale', 'economicActivityFemale',\n",
       "       'illiteracyMale', 'illiteracyFemale'],\n",
       "      dtype='object')"
      ]
     },
     "execution_count": 14,
     "metadata": {},
     "output_type": "execute_result"
    }
   ],
   "source": [
    "# Podemos también ver las columnas que comprenden nuestro data.frame\n",
    "data.columns"
   ]
  },
  {
   "cell_type": "code",
   "execution_count": 15,
   "metadata": {},
   "outputs": [
    {
     "name": "stdout",
     "output_type": "stream",
     "text": [
      "Estructura de los datos\n"
     ]
    },
    {
     "data": {
      "text/plain": [
       "[('country', str),\n",
       " ('region', str),\n",
       " ('tfr', numpy.float64),\n",
       " ('contraception', numpy.float64),\n",
       " ('educationMale', numpy.float64),\n",
       " ('educationFemale', numpy.float64),\n",
       " ('lifeMale', numpy.float64),\n",
       " ('lifeFemale', numpy.float64),\n",
       " ('infantMortality', numpy.float64),\n",
       " ('GDPperCapita', numpy.float64),\n",
       " ('economicActivityMale', numpy.float64),\n",
       " ('economicActivityFemale', numpy.float64),\n",
       " ('illiteracyMale', numpy.float64),\n",
       " ('illiteracyFemale', numpy.float64)]"
      ]
     },
     "execution_count": 15,
     "metadata": {},
     "output_type": "execute_result"
    }
   ],
   "source": [
    "print('Estructura de los datos')\n",
    "[(col, type(data[col][0])) for col in data.columns] "
   ]
  },
  {
   "cell_type": "code",
   "execution_count": 16,
   "metadata": {
    "scrolled": true
   },
   "outputs": [
    {
     "data": {
      "text/plain": [
       "(207, 14)"
      ]
     },
     "execution_count": 16,
     "metadata": {},
     "output_type": "execute_result"
    }
   ],
   "source": [
    "# Dimensión de la información\n",
    "data.shape"
   ]
  },
  {
   "cell_type": "code",
   "execution_count": 17,
   "metadata": {},
   "outputs": [
    {
     "data": {
      "text/plain": [
       "country                   207\n",
       "region                    207\n",
       "tfr                       197\n",
       "contraception             144\n",
       "educationMale              76\n",
       "educationFemale            76\n",
       "lifeMale                  196\n",
       "lifeFemale                196\n",
       "infantMortality           201\n",
       "GDPperCapita              197\n",
       "economicActivityMale      165\n",
       "economicActivityFemale    165\n",
       "illiteracyMale            160\n",
       "illiteracyFemale          160\n",
       "dtype: int64"
      ]
     },
     "execution_count": 17,
     "metadata": {},
     "output_type": "execute_result"
    }
   ],
   "source": [
    "# Número de registros por variable\n",
    "data.count(0)"
   ]
  },
  {
   "cell_type": "code",
   "execution_count": 18,
   "metadata": {},
   "outputs": [
    {
     "name": "stdout",
     "output_type": "stream",
     "text": [
      "% de poblamiento de las variables\n"
     ]
    },
    {
     "data": {
      "text/plain": [
       "country                   100.000000\n",
       "region                    100.000000\n",
       "tfr                        95.169082\n",
       "contraception              69.565217\n",
       "educationMale              36.714976\n",
       "educationFemale            36.714976\n",
       "lifeMale                   94.685990\n",
       "lifeFemale                 94.685990\n",
       "infantMortality            97.101449\n",
       "GDPperCapita               95.169082\n",
       "economicActivityMale       79.710145\n",
       "economicActivityFemale     79.710145\n",
       "illiteracyMale             77.294686\n",
       "illiteracyFemale           77.294686\n",
       "dtype: float64"
      ]
     },
     "execution_count": 18,
     "metadata": {},
     "output_type": "execute_result"
    }
   ],
   "source": [
    "# Podemos ver el poblamiento de las variables\n",
    "print('% de poblamiento de las variables')\n",
    "data.count(0)/data.shape[0] * 100"
   ]
  },
  {
   "cell_type": "code",
   "execution_count": 19,
   "metadata": {
    "collapsed": true
   },
   "outputs": [],
   "source": [
    "# Por ésta vez nos vamos a quedar solamente con los registros completos.\n",
    "df = data[['tfr','contraception','lifeMale', 'lifeFemale', 'infantMortality', 'GDPperCapita','economicActivityMale','economicActivityFemale','illiteracyMale','illiteracyFemale']]\n",
    "df = df.dropna(how='any')"
   ]
  },
  {
   "cell_type": "code",
   "execution_count": 10,
   "metadata": {},
   "outputs": [
    {
     "data": {
      "text/plain": [
       "(97, 10)"
      ]
     },
     "execution_count": 10,
     "metadata": {},
     "output_type": "execute_result"
    }
   ],
   "source": [
    "# Nos quedamos solamente con las variables con informacion completa.\n",
    "df.shape"
   ]
  },
  {
   "cell_type": "code",
   "execution_count": 20,
   "metadata": {
    "scrolled": true
   },
   "outputs": [
    {
     "data": {
      "text/html": [
       "<div>\n",
       "<style>\n",
       "    .dataframe thead tr:only-child th {\n",
       "        text-align: right;\n",
       "    }\n",
       "\n",
       "    .dataframe thead th {\n",
       "        text-align: left;\n",
       "    }\n",
       "\n",
       "    .dataframe tbody tr th {\n",
       "        vertical-align: top;\n",
       "    }\n",
       "</style>\n",
       "<table border=\"1\" class=\"dataframe\">\n",
       "  <thead>\n",
       "    <tr style=\"text-align: right;\">\n",
       "      <th></th>\n",
       "      <th>tfr</th>\n",
       "      <th>contraception</th>\n",
       "      <th>lifeMale</th>\n",
       "      <th>lifeFemale</th>\n",
       "      <th>infantMortality</th>\n",
       "      <th>GDPperCapita</th>\n",
       "      <th>economicActivityMale</th>\n",
       "      <th>economicActivityFemale</th>\n",
       "      <th>illiteracyMale</th>\n",
       "      <th>illiteracyFemale</th>\n",
       "    </tr>\n",
       "  </thead>\n",
       "  <tbody>\n",
       "    <tr>\n",
       "      <th>2</th>\n",
       "      <td>3.81</td>\n",
       "      <td>52.0</td>\n",
       "      <td>67.5</td>\n",
       "      <td>70.3</td>\n",
       "      <td>44.0</td>\n",
       "      <td>1531.0</td>\n",
       "      <td>76.4</td>\n",
       "      <td>7.8</td>\n",
       "      <td>26.1</td>\n",
       "      <td>51.0</td>\n",
       "    </tr>\n",
       "    <tr>\n",
       "      <th>8</th>\n",
       "      <td>1.70</td>\n",
       "      <td>22.0</td>\n",
       "      <td>67.2</td>\n",
       "      <td>74.0</td>\n",
       "      <td>25.0</td>\n",
       "      <td>354.0</td>\n",
       "      <td>65.0</td>\n",
       "      <td>52.0</td>\n",
       "      <td>0.3</td>\n",
       "      <td>0.5</td>\n",
       "    </tr>\n",
       "    <tr>\n",
       "      <th>12</th>\n",
       "      <td>1.95</td>\n",
       "      <td>62.0</td>\n",
       "      <td>70.5</td>\n",
       "      <td>77.1</td>\n",
       "      <td>14.0</td>\n",
       "      <td>12545.0</td>\n",
       "      <td>81.2</td>\n",
       "      <td>67.0</td>\n",
       "      <td>1.5</td>\n",
       "      <td>2.0</td>\n",
       "    </tr>\n",
       "    <tr>\n",
       "      <th>13</th>\n",
       "      <td>2.97</td>\n",
       "      <td>53.0</td>\n",
       "      <td>71.1</td>\n",
       "      <td>75.3</td>\n",
       "      <td>18.0</td>\n",
       "      <td>9073.0</td>\n",
       "      <td>88.2</td>\n",
       "      <td>29.2</td>\n",
       "      <td>10.9</td>\n",
       "      <td>20.6</td>\n",
       "    </tr>\n",
       "    <tr>\n",
       "      <th>14</th>\n",
       "      <td>3.14</td>\n",
       "      <td>49.0</td>\n",
       "      <td>58.1</td>\n",
       "      <td>58.2</td>\n",
       "      <td>78.0</td>\n",
       "      <td>280.0</td>\n",
       "      <td>88.8</td>\n",
       "      <td>55.9</td>\n",
       "      <td>50.6</td>\n",
       "      <td>73.9</td>\n",
       "    </tr>\n",
       "  </tbody>\n",
       "</table>\n",
       "</div>"
      ],
      "text/plain": [
       "     tfr  contraception  lifeMale  lifeFemale  infantMortality  GDPperCapita  \\\n",
       "2   3.81           52.0      67.5        70.3             44.0        1531.0   \n",
       "8   1.70           22.0      67.2        74.0             25.0         354.0   \n",
       "12  1.95           62.0      70.5        77.1             14.0       12545.0   \n",
       "13  2.97           53.0      71.1        75.3             18.0        9073.0   \n",
       "14  3.14           49.0      58.1        58.2             78.0         280.0   \n",
       "\n",
       "    economicActivityMale  economicActivityFemale  illiteracyMale  \\\n",
       "2                   76.4                     7.8            26.1   \n",
       "8                   65.0                    52.0             0.3   \n",
       "12                  81.2                    67.0             1.5   \n",
       "13                  88.2                    29.2            10.9   \n",
       "14                  88.8                    55.9            50.6   \n",
       "\n",
       "    illiteracyFemale  \n",
       "2               51.0  \n",
       "8                0.5  \n",
       "12               2.0  \n",
       "13              20.6  \n",
       "14              73.9  "
      ]
     },
     "execution_count": 20,
     "metadata": {},
     "output_type": "execute_result"
    }
   ],
   "source": [
    "# Comprobamos la información.\n",
    "df[:5]"
   ]
  },
  {
   "cell_type": "code",
   "execution_count": 22,
   "metadata": {},
   "outputs": [
    {
     "data": {
      "text/html": [
       "<div>\n",
       "<style>\n",
       "    .dataframe thead tr:only-child th {\n",
       "        text-align: right;\n",
       "    }\n",
       "\n",
       "    .dataframe thead th {\n",
       "        text-align: left;\n",
       "    }\n",
       "\n",
       "    .dataframe tbody tr th {\n",
       "        vertical-align: top;\n",
       "    }\n",
       "</style>\n",
       "<table border=\"1\" class=\"dataframe\">\n",
       "  <thead>\n",
       "    <tr style=\"text-align: right;\">\n",
       "      <th></th>\n",
       "      <th>tfr</th>\n",
       "      <th>contraception</th>\n",
       "      <th>lifeMale</th>\n",
       "      <th>lifeFemale</th>\n",
       "      <th>infantMortality</th>\n",
       "      <th>GDPperCapita</th>\n",
       "      <th>economicActivityMale</th>\n",
       "      <th>economicActivityFemale</th>\n",
       "      <th>illiteracyMale</th>\n",
       "      <th>illiteracyFemale</th>\n",
       "    </tr>\n",
       "  </thead>\n",
       "  <tbody>\n",
       "    <tr>\n",
       "      <th>tfr</th>\n",
       "      <td>1.000000</td>\n",
       "      <td>-0.670682</td>\n",
       "      <td>-0.618195</td>\n",
       "      <td>-0.800646</td>\n",
       "      <td>0.798705</td>\n",
       "      <td>-0.512281</td>\n",
       "      <td>0.382837</td>\n",
       "      <td>-0.234847</td>\n",
       "      <td>0.705913</td>\n",
       "      <td>0.703835</td>\n",
       "    </tr>\n",
       "    <tr>\n",
       "      <th>contraception</th>\n",
       "      <td>-0.670682</td>\n",
       "      <td>1.000000</td>\n",
       "      <td>0.656672</td>\n",
       "      <td>0.647482</td>\n",
       "      <td>-0.675453</td>\n",
       "      <td>0.558244</td>\n",
       "      <td>-0.149596</td>\n",
       "      <td>0.029713</td>\n",
       "      <td>-0.441955</td>\n",
       "      <td>-0.444177</td>\n",
       "    </tr>\n",
       "    <tr>\n",
       "      <th>lifeMale</th>\n",
       "      <td>-0.618195</td>\n",
       "      <td>0.656672</td>\n",
       "      <td>1.000000</td>\n",
       "      <td>0.911515</td>\n",
       "      <td>-0.827150</td>\n",
       "      <td>0.679044</td>\n",
       "      <td>-0.132288</td>\n",
       "      <td>-0.197044</td>\n",
       "      <td>-0.416360</td>\n",
       "      <td>-0.451126</td>\n",
       "    </tr>\n",
       "    <tr>\n",
       "      <th>lifeFemale</th>\n",
       "      <td>-0.800646</td>\n",
       "      <td>0.647482</td>\n",
       "      <td>0.911515</td>\n",
       "      <td>1.000000</td>\n",
       "      <td>-0.923260</td>\n",
       "      <td>0.699588</td>\n",
       "      <td>-0.268348</td>\n",
       "      <td>-0.013825</td>\n",
       "      <td>-0.601069</td>\n",
       "      <td>-0.643678</td>\n",
       "    </tr>\n",
       "    <tr>\n",
       "      <th>infantMortality</th>\n",
       "      <td>0.798705</td>\n",
       "      <td>-0.675453</td>\n",
       "      <td>-0.827150</td>\n",
       "      <td>-0.923260</td>\n",
       "      <td>1.000000</td>\n",
       "      <td>-0.692727</td>\n",
       "      <td>0.337702</td>\n",
       "      <td>-0.024087</td>\n",
       "      <td>0.654957</td>\n",
       "      <td>0.682221</td>\n",
       "    </tr>\n",
       "    <tr>\n",
       "      <th>GDPperCapita</th>\n",
       "      <td>-0.512281</td>\n",
       "      <td>0.558244</td>\n",
       "      <td>0.679044</td>\n",
       "      <td>0.699588</td>\n",
       "      <td>-0.692727</td>\n",
       "      <td>1.000000</td>\n",
       "      <td>-0.223649</td>\n",
       "      <td>-0.251548</td>\n",
       "      <td>-0.317938</td>\n",
       "      <td>-0.336557</td>\n",
       "    </tr>\n",
       "    <tr>\n",
       "      <th>economicActivityMale</th>\n",
       "      <td>0.382837</td>\n",
       "      <td>-0.149596</td>\n",
       "      <td>-0.132288</td>\n",
       "      <td>-0.268348</td>\n",
       "      <td>0.337702</td>\n",
       "      <td>-0.223649</td>\n",
       "      <td>1.000000</td>\n",
       "      <td>0.066141</td>\n",
       "      <td>0.466505</td>\n",
       "      <td>0.419720</td>\n",
       "    </tr>\n",
       "    <tr>\n",
       "      <th>economicActivityFemale</th>\n",
       "      <td>-0.234847</td>\n",
       "      <td>0.029713</td>\n",
       "      <td>-0.197044</td>\n",
       "      <td>-0.013825</td>\n",
       "      <td>-0.024087</td>\n",
       "      <td>-0.251548</td>\n",
       "      <td>0.066141</td>\n",
       "      <td>1.000000</td>\n",
       "      <td>-0.315883</td>\n",
       "      <td>-0.327136</td>\n",
       "    </tr>\n",
       "    <tr>\n",
       "      <th>illiteracyMale</th>\n",
       "      <td>0.705913</td>\n",
       "      <td>-0.441955</td>\n",
       "      <td>-0.416360</td>\n",
       "      <td>-0.601069</td>\n",
       "      <td>0.654957</td>\n",
       "      <td>-0.317938</td>\n",
       "      <td>0.466505</td>\n",
       "      <td>-0.315883</td>\n",
       "      <td>1.000000</td>\n",
       "      <td>0.967906</td>\n",
       "    </tr>\n",
       "    <tr>\n",
       "      <th>illiteracyFemale</th>\n",
       "      <td>0.703835</td>\n",
       "      <td>-0.444177</td>\n",
       "      <td>-0.451126</td>\n",
       "      <td>-0.643678</td>\n",
       "      <td>0.682221</td>\n",
       "      <td>-0.336557</td>\n",
       "      <td>0.419720</td>\n",
       "      <td>-0.327136</td>\n",
       "      <td>0.967906</td>\n",
       "      <td>1.000000</td>\n",
       "    </tr>\n",
       "  </tbody>\n",
       "</table>\n",
       "</div>"
      ],
      "text/plain": [
       "                             tfr  contraception  lifeMale  lifeFemale  \\\n",
       "tfr                     1.000000      -0.670682 -0.618195   -0.800646   \n",
       "contraception          -0.670682       1.000000  0.656672    0.647482   \n",
       "lifeMale               -0.618195       0.656672  1.000000    0.911515   \n",
       "lifeFemale             -0.800646       0.647482  0.911515    1.000000   \n",
       "infantMortality         0.798705      -0.675453 -0.827150   -0.923260   \n",
       "GDPperCapita           -0.512281       0.558244  0.679044    0.699588   \n",
       "economicActivityMale    0.382837      -0.149596 -0.132288   -0.268348   \n",
       "economicActivityFemale -0.234847       0.029713 -0.197044   -0.013825   \n",
       "illiteracyMale          0.705913      -0.441955 -0.416360   -0.601069   \n",
       "illiteracyFemale        0.703835      -0.444177 -0.451126   -0.643678   \n",
       "\n",
       "                        infantMortality  GDPperCapita  economicActivityMale  \\\n",
       "tfr                            0.798705     -0.512281              0.382837   \n",
       "contraception                 -0.675453      0.558244             -0.149596   \n",
       "lifeMale                      -0.827150      0.679044             -0.132288   \n",
       "lifeFemale                    -0.923260      0.699588             -0.268348   \n",
       "infantMortality                1.000000     -0.692727              0.337702   \n",
       "GDPperCapita                  -0.692727      1.000000             -0.223649   \n",
       "economicActivityMale           0.337702     -0.223649              1.000000   \n",
       "economicActivityFemale        -0.024087     -0.251548              0.066141   \n",
       "illiteracyMale                 0.654957     -0.317938              0.466505   \n",
       "illiteracyFemale               0.682221     -0.336557              0.419720   \n",
       "\n",
       "                        economicActivityFemale  illiteracyMale  \\\n",
       "tfr                                  -0.234847        0.705913   \n",
       "contraception                         0.029713       -0.441955   \n",
       "lifeMale                             -0.197044       -0.416360   \n",
       "lifeFemale                           -0.013825       -0.601069   \n",
       "infantMortality                      -0.024087        0.654957   \n",
       "GDPperCapita                         -0.251548       -0.317938   \n",
       "economicActivityMale                  0.066141        0.466505   \n",
       "economicActivityFemale                1.000000       -0.315883   \n",
       "illiteracyMale                       -0.315883        1.000000   \n",
       "illiteracyFemale                     -0.327136        0.967906   \n",
       "\n",
       "                        illiteracyFemale  \n",
       "tfr                             0.703835  \n",
       "contraception                  -0.444177  \n",
       "lifeMale                       -0.451126  \n",
       "lifeFemale                     -0.643678  \n",
       "infantMortality                 0.682221  \n",
       "GDPperCapita                   -0.336557  \n",
       "economicActivityMale            0.419720  \n",
       "economicActivityFemale         -0.327136  \n",
       "illiteracyMale                  0.967906  \n",
       "illiteracyFemale                1.000000  "
      ]
     },
     "execution_count": 22,
     "metadata": {},
     "output_type": "execute_result"
    }
   ],
   "source": [
    "# Analizamos la relación existente entre las variables\n",
    "matrix_correlations_paises=df.corr(method='spearman') # ‘pearson’, ‘kendall’, ‘spearman’\n",
    "matrix_correlations_paises"
   ]
  },
  {
   "cell_type": "code",
   "execution_count": 23,
   "metadata": {
    "collapsed": true
   },
   "outputs": [],
   "source": [
    "### Exportamos la información a un csv para poder visualizar las relaciones.\n",
    "#matrix_correlations_paises.to_csv('C:/Users/Andre Chavez/Desktop/DictadodeCursos/EstadisticaparaCienciadeDatos/matrix_correlations_paises.csv')"
   ]
  },
  {
   "cell_type": "markdown",
   "metadata": {},
   "source": [
    "### Reducir el número de dimensiones de los datos con ACP"
   ]
  },
  {
   "cell_type": "code",
   "execution_count": 31,
   "metadata": {
    "collapsed": true
   },
   "outputs": [],
   "source": [
    "# Nos quedamos sólo con los valores del df\n",
    "pc_toarray = df.values"
   ]
  },
  {
   "cell_type": "code",
   "execution_count": 41,
   "metadata": {
    "collapsed": true
   },
   "outputs": [],
   "source": [
    "# Escalamos los valores para poder aplicar el ACP\n",
    "from sklearn.preprocessing import scale\n",
    "from sklearn.cluster import KMeans\n",
    "import matplotlib.pyplot as plt\n",
    "import numpy as np\n",
    "from sklearn.decomposition import PCA\n",
    "\n",
    "pc_toarray = scale(pc_toarray)"
   ]
  },
  {
   "cell_type": "code",
   "execution_count": 42,
   "metadata": {},
   "outputs": [
    {
     "data": {
      "text/plain": [
       "PCA(copy=True, iterated_power='auto', n_components=10, random_state=None,\n",
       "  svd_solver='auto', tol=0.0, whiten=False)"
      ]
     },
     "execution_count": 42,
     "metadata": {},
     "output_type": "execute_result"
    }
   ],
   "source": [
    "# Realizando el análisis de Componentes Principales, funcion PCA\n",
    "hpc = PCA(n_components=10).fit(pc_toarray)\n",
    "hpc"
   ]
  },
  {
   "cell_type": "code",
   "execution_count": 43,
   "metadata": {},
   "outputs": [
    {
     "data": {
      "text/plain": [
       "array([0.58858332, 0.12418127, 0.10245655, 0.07403812, 0.04929412,\n",
       "       0.03151779, 0.014864  , 0.01084343, 0.00283283, 0.00138858])"
      ]
     },
     "execution_count": 43,
     "metadata": {},
     "output_type": "execute_result"
    }
   ],
   "source": [
    "# Porcentaje de la Varianza Explicada por cada componente\n",
    "hpc.explained_variance_ratio_\n"
   ]
  },
  {
   "cell_type": "code",
   "execution_count": 44,
   "metadata": {},
   "outputs": [
    {
     "data": {
      "text/plain": [
       "array([ 58.86,  71.28,  81.53,  88.93,  93.86,  97.01,  98.5 ,  99.58,\n",
       "        99.86, 100.  ])"
      ]
     },
     "execution_count": 44,
     "metadata": {},
     "output_type": "execute_result"
    }
   ],
   "source": [
    "# Porcentaje de la Varianza Explicada Acumulada\n",
    "var1=np.cumsum(np.round(hpc.explained_variance_ratio_, decimals=4)*100)\n",
    "var1"
   ]
  },
  {
   "cell_type": "code",
   "execution_count": 45,
   "metadata": {},
   "outputs": [
    {
     "data": {
      "text/plain": [
       "10"
      ]
     },
     "execution_count": 45,
     "metadata": {},
     "output_type": "execute_result"
    }
   ],
   "source": [
    "# Número de Componentes Principales\n",
    "hpc.n_components_"
   ]
  },
  {
   "cell_type": "code",
   "execution_count": 46,
   "metadata": {},
   "outputs": [
    {
     "data": {
      "text/plain": [
       "[<matplotlib.lines.Line2D at 0x20e92f1eb70>]"
      ]
     },
     "execution_count": 46,
     "metadata": {},
     "output_type": "execute_result"
    },
    {
     "data": {
      "image/png": "[encoded data removed]",
      "text/plain": [
       "<matplotlib.figure.Figure at 0x20e92bf69b0>"
      ]
     },
     "metadata": {},
     "output_type": "display_data"
    }
   ],
   "source": [
    "plt.plot(var1)"
   ]
  },
  {
   "cell_type": "code",
   "execution_count": 48,
   "metadata": {
    "collapsed": true
   },
   "outputs": [],
   "source": [
    "# Analizamos el número de componentes \n",
    "hpc = PCA(n_components=4).fit_transform(pc_toarray)"
   ]
  },
  {
   "cell_type": "markdown",
   "metadata": {},
   "source": [
    "##### Podemos seguir estudiando : KernelPCA, SparsePCA, TruncatedSVD, IncrementalPCA"
   ]
  },
  {
   "cell_type": "code",
   "execution_count": 49,
   "metadata": {
    "collapsed": true
   },
   "outputs": [],
   "source": [
    "### Para determinar el número idóneo de clusters"
   ]
  },
  {
   "cell_type": "markdown",
   "metadata": {},
   "source": [
    "Nos da una idea de la cantidad de clusters necesarios para segmentar nuestros datos."
   ]
  },
  {
   "cell_type": "code",
   "execution_count": 50,
   "metadata": {
    "collapsed": true,
    "scrolled": true
   },
   "outputs": [],
   "source": [
    "# Determinar el valor de k (Número de Clusters)\n",
    "k_range = range(1,20)\n",
    "\n",
    "# Ajustar el algoritmo de K-Means para cada valor de k\n",
    "k_means_var = [KMeans(n_clusters=k).fit(hpc) for k in k_range]\n"
   ]
  },
  {
   "cell_type": "code",
   "execution_count": 51,
   "metadata": {
    "collapsed": true,
    "scrolled": true
   },
   "outputs": [],
   "source": [
    "# Extraer los centroides o centros de cluster para cada modelo\n",
    "centroids = [X.cluster_centers_ for X in k_means_var]"
   ]
  },
  {
   "cell_type": "code",
   "execution_count": 52,
   "metadata": {},
   "outputs": [
    {
     "data": {
      "text/plain": [
       "array([[3.02515128, 3.74791827],\n",
       "       [2.12681408, 5.21790853],\n",
       "       [2.27015489, 6.05596515],\n",
       "       [2.00481163, 4.94365404],\n",
       "       [4.38992377, 1.96232163],\n",
       "       [1.56285758, 5.96603329],\n",
       "       [1.49638672, 5.32336115],\n",
       "       [1.38020127, 4.1838288 ],\n",
       "       [5.76599352, 1.87438851],\n",
       "       [2.40422629, 2.78642188],\n",
       "       [3.68438258, 1.47727388],\n",
       "       [1.37893369, 4.35451379],\n",
       "       [7.68924101, 3.59183261],\n",
       "       [7.42487883, 3.75142248],\n",
       "       [5.43157019, 2.12982669],\n",
       "       [0.89143185, 5.07391314],\n",
       "       [2.25606312, 5.09689001],\n",
       "       [0.79938874, 4.9001453 ],\n",
       "       [0.9698154 , 4.49908722],\n",
       "       [1.62190867, 5.72990232],\n",
       "       [1.54918135, 6.00978551],\n",
       "       [1.22546936, 4.3199308 ],\n",
       "       [0.87617064, 4.15128733],\n",
       "       [2.96551921, 2.78215983],\n",
       "       [1.42282213, 3.52182138],\n",
       "       [1.48839683, 5.70387593],\n",
       "       [6.75523253, 2.2960168 ],\n",
       "       [1.61106875, 4.71165339],\n",
       "       [6.42118393, 2.3051683 ],\n",
       "       [1.28295305, 4.85421083],\n",
       "       [3.51807257, 2.79982113],\n",
       "       [7.04900271, 2.49066293],\n",
       "       [4.85071807, 0.39911884],\n",
       "       [2.34260027, 3.46713183],\n",
       "       [3.97856391, 7.62936647],\n",
       "       [2.30836932, 6.08449741],\n",
       "       [3.16237158, 1.78344805],\n",
       "       [1.70364422, 3.67927526],\n",
       "       [2.88003193, 3.91125572],\n",
       "       [4.61846268, 2.85831478],\n",
       "       [5.76748197, 1.47681939],\n",
       "       [0.79146458, 5.10473046],\n",
       "       [2.5561158 , 4.084521  ],\n",
       "       [1.54035449, 4.86676545],\n",
       "       [1.60470776, 6.03450359],\n",
       "       [2.44014267, 5.29454225],\n",
       "       [1.64482014, 4.22941315],\n",
       "       [1.54508206, 5.29750202],\n",
       "       [1.64225083, 5.56507723],\n",
       "       [7.20192815, 3.37501645],\n",
       "       [0.50567736, 4.4685738 ],\n",
       "       [2.00581089, 3.05978113],\n",
       "       [0.9942475 , 4.97654298],\n",
       "       [1.13433661, 4.58899551],\n",
       "       [1.65132242, 4.53256764],\n",
       "       [2.96562457, 2.68591063],\n",
       "       [2.80433577, 2.43261034],\n",
       "       [3.4559173 , 2.4243212 ],\n",
       "       [5.09320409, 0.79328089],\n",
       "       [2.64543461, 5.58517802],\n",
       "       [2.48877559, 3.08845018],\n",
       "       [5.02511664, 0.77631659],\n",
       "       [4.93107694, 2.38254591],\n",
       "       [1.04973489, 5.09129309],\n",
       "       [1.73349851, 4.12677737],\n",
       "       [3.42312797, 5.69406473],\n",
       "       [1.2444976 , 3.92844038],\n",
       "       [1.99315081, 6.14986919],\n",
       "       [2.55601921, 6.36170831],\n",
       "       [2.97670122, 4.77907727],\n",
       "       [2.35905562, 5.95269865],\n",
       "       [1.34037821, 5.29288959],\n",
       "       [1.93865125, 4.95579417],\n",
       "       [1.25284608, 3.7537763 ],\n",
       "       [5.77977994, 1.63984503],\n",
       "       [4.19451854, 7.47998512],\n",
       "       [1.54084584, 3.17134103],\n",
       "       [3.08420748, 6.97761895],\n",
       "       [1.15699243, 5.27319054],\n",
       "       [4.85798221, 1.34458495],\n",
       "       [3.65805898, 3.05726321],\n",
       "       [2.00318942, 3.72611479],\n",
       "       [1.81251579, 5.259163  ],\n",
       "       [5.41690954, 1.14717025],\n",
       "       [0.81282288, 5.04514681],\n",
       "       [0.84884056, 5.41196023],\n",
       "       [2.00232498, 3.92752973],\n",
       "       [0.96236544, 4.19325779],\n",
       "       [2.23346681, 3.6014163 ],\n",
       "       [1.84931736, 5.06187975],\n",
       "       [4.27581082, 7.60369544],\n",
       "       [1.48421351, 4.44376455],\n",
       "       [3.51971191, 2.9492262 ],\n",
       "       [0.86346544, 4.71069314],\n",
       "       [2.10877981, 4.72586133],\n",
       "       [5.85943625, 2.66890653],\n",
       "       [3.58699206, 1.9621791 ]])"
      ]
     },
     "execution_count": 52,
     "metadata": {},
     "output_type": "execute_result"
    }
   ],
   "source": [
    "# Calcular la distancia euclídea de cada punto a cada uno de los centros de cluster.\n",
    "k_euclid = [cdist(hpc, cent, 'euclidean') for cent in centroids]\n",
    "k_euclid[1]"
   ]
  },
  {
   "cell_type": "code",
   "execution_count": 53,
   "metadata": {},
   "outputs": [
    {
     "data": {
      "text/plain": [
       "array([3.02515128, 2.12681408, 2.27015489, 2.00481163, 1.96232163,\n",
       "       1.56285758, 1.49638672, 1.38020127, 1.87438851, 2.40422629,\n",
       "       1.47727388, 1.37893369, 3.59183261, 3.75142248, 2.12982669,\n",
       "       0.89143185, 2.25606312, 0.79938874, 0.9698154 , 1.62190867,\n",
       "       1.54918135, 1.22546936, 0.87617064, 2.78215983, 1.42282213,\n",
       "       1.48839683, 2.2960168 , 1.61106875, 2.3051683 , 1.28295305,\n",
       "       2.79982113, 2.49066293, 0.39911884, 2.34260027, 3.97856391,\n",
       "       2.30836932, 1.78344805, 1.70364422, 2.88003193, 2.85831478,\n",
       "       1.47681939, 0.79146458, 2.5561158 , 1.54035449, 1.60470776,\n",
       "       2.44014267, 1.64482014, 1.54508206, 1.64225083, 3.37501645,\n",
       "       0.50567736, 2.00581089, 0.9942475 , 1.13433661, 1.65132242,\n",
       "       2.68591063, 2.43261034, 2.4243212 , 0.79328089, 2.64543461,\n",
       "       2.48877559, 0.77631659, 2.38254591, 1.04973489, 1.73349851,\n",
       "       3.42312797, 1.2444976 , 1.99315081, 2.55601921, 2.97670122,\n",
       "       2.35905562, 1.34037821, 1.93865125, 1.25284608, 1.63984503,\n",
       "       4.19451854, 1.54084584, 3.08420748, 1.15699243, 1.34458495,\n",
       "       3.05726321, 2.00318942, 1.81251579, 1.14717025, 0.81282288,\n",
       "       0.84884056, 2.00232498, 0.96236544, 2.23346681, 1.84931736,\n",
       "       4.27581082, 1.48421351, 2.9492262 , 0.86346544, 2.10877981,\n",
       "       2.66890653, 1.9621791 ])"
      ]
     },
     "execution_count": 53,
     "metadata": {},
     "output_type": "execute_result"
    }
   ],
   "source": [
    "dist = [np.min(ke,axis=1) for ke in k_euclid]\n",
    "dist[1]"
   ]
  },
  {
   "cell_type": "code",
   "execution_count": 54,
   "metadata": {
    "scrolled": true
   },
   "outputs": [
    {
     "data": {
      "text/plain": [
       "array([[ 0.32358057,  2.25063269,  0.62161949, -0.79845776],\n",
       "       [-1.55687058, -1.04107824,  1.83553096,  0.11374063],\n",
       "       [-2.51605611, -0.76838707, -1.53678834,  0.93469974],\n",
       "       [-1.30901434,  1.3048037 , -1.47195555, -0.34722548],\n",
       "       [ 2.6921884 , -0.10576982, -1.68464323, -0.3780492 ],\n",
       "       [-2.69026797, -0.67930794, -0.24490005,  0.41662681],\n",
       "       [-1.81745162, -1.44822807,  0.07688711, -0.46309752],\n",
       "       [-0.76908909,  1.00459886, -0.21891918, -0.70637815],\n",
       "       [ 4.22832876, -0.15657465, -1.42472951, -0.05562593],\n",
       "       [ 0.74051818, -1.01540218,  0.60311004,  0.09570697],\n",
       "       [ 2.1174244 , -0.3753875 ,  0.78916673,  0.70741163],\n",
       "       [-0.85419482, -0.50955479, -1.21304202, -0.34655825],\n",
       "       [ 6.02418873, -1.11475333, -1.67119533,  0.74673303],\n",
       "       [ 5.51210145, -2.10640044, -1.74782407,  0.74718066],\n",
       "       [ 3.74573886, -1.68117357, -0.8319057 ,  0.26054203],\n",
       "       [-1.8206533 ,  0.53130251,  0.42326161, -0.23790696],\n",
       "       [-1.17136226, -1.4558503 , -1.62739947, -0.87960578],\n",
       "       [-1.54254253, -0.39276321, -0.43322452, -0.69581773],\n",
       "       [-1.22675632, -0.09648011,  0.80695674,  0.35284108],\n",
       "       [-2.31470716,  0.70643498, -0.31107087, -1.13358911],\n",
       "       [-2.71636304,  0.06753515,  0.39008059, -0.72389006],\n",
       "       [-0.86346142,  0.15968112, -0.72065097, -0.9594736 ],\n",
       "       [-0.79532526, -0.39713555, -0.23378561, -0.65141207],\n",
       "       [ 0.96636872,  1.59542642,  0.70104315, -0.29564596],\n",
       "       [-0.17356899,  0.43477037, -0.35762224, -0.59934749],\n",
       "       [-2.33028408, -1.0554136 ,  0.51890661, -0.21270636],\n",
       "       [ 5.33533745, -0.35101636, -0.55586719,  0.49719861],\n",
       "       [-1.16104707,  1.00554394, -0.41364874, -1.22687286],\n",
       "       [ 4.73625506, -0.22543754,  1.46435565,  1.20204747],\n",
       "       [-1.39309919, -1.17198272,  0.56432437, -0.38047251],\n",
       "       [ 1.40053063,  1.94370677, -0.33249337, -0.86546328],\n",
       "       [ 5.61082762,  0.01902583,  0.41056503,  0.78507604],\n",
       "       [ 3.46741106, -0.07375443, -0.09734286,  0.28905285],\n",
       "       [ 0.28701812,  0.8396058 , -0.89309552, -1.19790257],\n",
       "       [-3.89903728,  1.03321896, -1.64532519,  2.25843549],\n",
       "       [-2.59819923, -0.47536697,  1.77788806,  0.49503315],\n",
       "       [ 1.66944615,  0.75905521, -0.10890841, -0.40678622],\n",
       "       [-0.1202386 , -0.66763775, -0.77566819, -0.77387264],\n",
       "       [ 0.13590044,  2.15652039,  0.15075816, -1.12937446],\n",
       "       [ 2.10408464,  2.34937961,  0.8488721 ,  1.5189643 ],\n",
       "       [ 4.33503165,  0.30198357, -0.81563814, -0.03124321],\n",
       "       [-1.78629663, -0.65988776, -0.24950416, -0.34654528],\n",
       "       [-0.24424703,  1.55444752,  1.47605076, -0.70167566],\n",
       "       [-1.27889152, -1.54930986, -0.17346129, -0.50736529],\n",
       "       [-2.78776922, -0.13259695, -0.54245738,  0.43317856],\n",
       "       [-1.6453407 ,  1.62427143, -1.07783066,  1.27541207],\n",
       "       [-0.6543489 , -1.40802962,  0.58756885, -0.25975661],\n",
       "       [-1.8480056 , -1.05664373,  1.05241142, -0.0582332 ],\n",
       "       [-2.05474695, -1.53892212, -0.06024008, -0.36711408],\n",
       "       [ 5.38552938, -2.27726192,  0.11057252,  1.06921088],\n",
       "       [-1.22655777,  0.38935712, -0.11476395, -0.24249756],\n",
       "       [ 0.34191069,  0.15976279,  0.95355908, -0.38296841],\n",
       "       [-1.62344714,  0.42610057, -0.58216757, -0.72117132],\n",
       "       [-1.16098163,  0.33726516, -0.63886715, -0.9524207 ],\n",
       "       [-0.94190653, -1.54423725,  0.574549  , -0.17499691],\n",
       "       [ 1.03055896,  1.63964788,  0.27621057, -0.27280808],\n",
       "       [ 1.09930743, -0.34122265,  1.18289111,  0.37020501],\n",
       "       [ 1.53070464, -0.72294675,  1.50545486,  0.75934462],\n",
       "       [ 3.65937783,  0.56095308, -0.43527649,  0.23897846],\n",
       "       [-1.87874611,  0.51350478, -1.287524  ,  2.08805012],\n",
       "       [ 0.61411272,  0.91172355, -0.71174857, -1.02851859],\n",
       "       [ 3.57198353,  0.19408097,  0.7626778 ,  0.28802287],\n",
       "       [ 2.88815109,  2.37723078,  0.03517165, -0.57276131],\n",
       "       [-1.71263856,  0.18706793, -0.61841653, -0.86630673],\n",
       "       [-0.53356742,  0.78844216, -0.46089292, -1.28774278],\n",
       "       [-1.49397715,  0.14711665,  3.23957854,  0.85921422],\n",
       "       [-0.49150998, -0.53934227, -0.32739536, -0.79928757],\n",
       "       [-2.87951516,  0.1533551 ,  0.35365063,  1.10947368],\n",
       "       [-2.96219047,  0.97859267,  0.87981758,  1.32373701],\n",
       "       [-0.66633239,  1.82387709, -2.17867236,  0.31897755],\n",
       "       [-2.5259681 ,  0.89172097,  0.72310615,  1.54127495],\n",
       "       [-1.87054155, -1.20071458,  0.46365342, -0.24142838],\n",
       "       [-1.35056571, -1.19698324,  1.47522581,  0.35098826],\n",
       "       [-0.39973836, -0.24211082,  0.59721261, -0.56294413],\n",
       "       [ 4.2183248 ,  1.41579022,  0.00772194, -0.05105383],\n",
       "       [-3.48266579,  0.99299836, -2.04618425,  2.70893387],\n",
       "       [ 0.12251156, -0.3644315 , -0.29972401, -0.11175521],\n",
       "       [-3.55241911,  0.81963387,  0.91300543,  1.63653199],\n",
       "       [-1.91181447,  0.30260495,  0.3042442 , -0.99571423],\n",
       "       [ 3.21432904,  0.97410008,  1.15430905,  0.22476563],\n",
       "       [ 1.2430938 ,  0.41177514,  2.39194026,  0.56380238],\n",
       "       [-0.08456703, -1.40321466,  0.73382318, -0.167868  ],\n",
       "       [-1.59184267, -1.31814398, -1.2333089 , -0.59878357],\n",
       "       [ 3.95772584, -0.46858015,  0.57352509,  0.57492288],\n",
       "       [-1.72500978, -0.30795262,  0.37380986, -0.6645602 ],\n",
       "       [-2.16768469, -0.13943346,  0.13168671, -0.32399316],\n",
       "       [-0.36120918,  1.51980116,  0.4227759 , -0.61829031],\n",
       "       [-0.8965896 ,  0.58171879,  0.35713931, -0.46393359],\n",
       "       [ 0.14387547, -1.64904381,  0.42381315, -0.1841964 ],\n",
       "       [-1.46686584, -1.36143338,  1.27615247,  0.05493825],\n",
       "       [-3.62346334,  0.43623834, -1.6574777 ,  3.10060728],\n",
       "       [-0.89682391, -1.39678125,  0.34524414, -0.39046537],\n",
       "       [ 1.4503941 , -1.07909874, -1.88559845, -0.20091151],\n",
       "       [-1.35821854,  0.22565461, -0.56183279, -0.72425573],\n",
       "       [-0.86092512, -1.88121392, -0.83737201, -0.62618293],\n",
       "       [ 3.78388518,  2.51983918,  0.96103126, -0.43128447],\n",
       "       [ 1.94946296, -1.17750566,  0.74545015,  0.08470523]])"
      ]
     },
     "execution_count": 54,
     "metadata": {},
     "output_type": "execute_result"
    }
   ],
   "source": [
    "hpc"
   ]
  },
  {
   "cell_type": "code",
   "execution_count": 55,
   "metadata": {},
   "outputs": [
    {
     "data": {
      "text/plain": [
       "array([[-1.36658959, -0.0706634 , -0.03425788, -0.10833135],\n",
       "       [ 3.20441697,  0.16569349,  0.08032883,  0.25401833]])"
      ]
     },
     "execution_count": 55,
     "metadata": {},
     "output_type": "execute_result"
    }
   ],
   "source": [
    "centroids[1]"
   ]
  },
  {
   "cell_type": "code",
   "execution_count": 56,
   "metadata": {},
   "outputs": [
    {
     "data": {
      "text/plain": [
       "2.9461493541417854"
      ]
     },
     "execution_count": 56,
     "metadata": {},
     "output_type": "execute_result"
    }
   ],
   "source": [
    "np.sqrt((0.32358057-(-1.29901664))**2+(2.25063269-(-0.0224291))**2+(0.62161949-(-0.01931832))**2+(-0.79845776-(-0.11335694))**2)"
   ]
  },
  {
   "cell_type": "code",
   "execution_count": 57,
   "metadata": {},
   "outputs": [
    {
     "data": {
      "text/plain": [
       "array([[3.02515128, 3.74791827],\n",
       "       [2.12681408, 5.21790853],\n",
       "       [2.27015489, 6.05596515],\n",
       "       [2.00481163, 4.94365404],\n",
       "       [4.38992377, 1.96232163],\n",
       "       [1.56285758, 5.96603329],\n",
       "       [1.49638672, 5.32336115],\n",
       "       [1.38020127, 4.1838288 ],\n",
       "       [5.76599352, 1.87438851],\n",
       "       [2.40422629, 2.78642188],\n",
       "       [3.68438258, 1.47727388],\n",
       "       [1.37893369, 4.35451379],\n",
       "       [7.68924101, 3.59183261],\n",
       "       [7.42487883, 3.75142248],\n",
       "       [5.43157019, 2.12982669],\n",
       "       [0.89143185, 5.07391314],\n",
       "       [2.25606312, 5.09689001],\n",
       "       [0.79938874, 4.9001453 ],\n",
       "       [0.9698154 , 4.49908722],\n",
       "       [1.62190867, 5.72990232],\n",
       "       [1.54918135, 6.00978551],\n",
       "       [1.22546936, 4.3199308 ],\n",
       "       [0.87617064, 4.15128733],\n",
       "       [2.96551921, 2.78215983],\n",
       "       [1.42282213, 3.52182138],\n",
       "       [1.48839683, 5.70387593],\n",
       "       [6.75523253, 2.2960168 ],\n",
       "       [1.61106875, 4.71165339],\n",
       "       [6.42118393, 2.3051683 ],\n",
       "       [1.28295305, 4.85421083],\n",
       "       [3.51807257, 2.79982113],\n",
       "       [7.04900271, 2.49066293],\n",
       "       [4.85071807, 0.39911884],\n",
       "       [2.34260027, 3.46713183],\n",
       "       [3.97856391, 7.62936647],\n",
       "       [2.30836932, 6.08449741],\n",
       "       [3.16237158, 1.78344805],\n",
       "       [1.70364422, 3.67927526],\n",
       "       [2.88003193, 3.91125572],\n",
       "       [4.61846268, 2.85831478],\n",
       "       [5.76748197, 1.47681939],\n",
       "       [0.79146458, 5.10473046],\n",
       "       [2.5561158 , 4.084521  ],\n",
       "       [1.54035449, 4.86676545],\n",
       "       [1.60470776, 6.03450359],\n",
       "       [2.44014267, 5.29454225],\n",
       "       [1.64482014, 4.22941315],\n",
       "       [1.54508206, 5.29750202],\n",
       "       [1.64225083, 5.56507723],\n",
       "       [7.20192815, 3.37501645],\n",
       "       [0.50567736, 4.4685738 ],\n",
       "       [2.00581089, 3.05978113],\n",
       "       [0.9942475 , 4.97654298],\n",
       "       [1.13433661, 4.58899551],\n",
       "       [1.65132242, 4.53256764],\n",
       "       [2.96562457, 2.68591063],\n",
       "       [2.80433577, 2.43261034],\n",
       "       [3.4559173 , 2.4243212 ],\n",
       "       [5.09320409, 0.79328089],\n",
       "       [2.64543461, 5.58517802],\n",
       "       [2.48877559, 3.08845018],\n",
       "       [5.02511664, 0.77631659],\n",
       "       [4.93107694, 2.38254591],\n",
       "       [1.04973489, 5.09129309],\n",
       "       [1.73349851, 4.12677737],\n",
       "       [3.42312797, 5.69406473],\n",
       "       [1.2444976 , 3.92844038],\n",
       "       [1.99315081, 6.14986919],\n",
       "       [2.55601921, 6.36170831],\n",
       "       [2.97670122, 4.77907727],\n",
       "       [2.35905562, 5.95269865],\n",
       "       [1.34037821, 5.29288959],\n",
       "       [1.93865125, 4.95579417],\n",
       "       [1.25284608, 3.7537763 ],\n",
       "       [5.77977994, 1.63984503],\n",
       "       [4.19451854, 7.47998512],\n",
       "       [1.54084584, 3.17134103],\n",
       "       [3.08420748, 6.97761895],\n",
       "       [1.15699243, 5.27319054],\n",
       "       [4.85798221, 1.34458495],\n",
       "       [3.65805898, 3.05726321],\n",
       "       [2.00318942, 3.72611479],\n",
       "       [1.81251579, 5.259163  ],\n",
       "       [5.41690954, 1.14717025],\n",
       "       [0.81282288, 5.04514681],\n",
       "       [0.84884056, 5.41196023],\n",
       "       [2.00232498, 3.92752973],\n",
       "       [0.96236544, 4.19325779],\n",
       "       [2.23346681, 3.6014163 ],\n",
       "       [1.84931736, 5.06187975],\n",
       "       [4.27581082, 7.60369544],\n",
       "       [1.48421351, 4.44376455],\n",
       "       [3.51971191, 2.9492262 ],\n",
       "       [0.86346544, 4.71069314],\n",
       "       [2.10877981, 4.72586133],\n",
       "       [5.85943625, 2.66890653],\n",
       "       [3.58699206, 1.9621791 ]])"
      ]
     },
     "execution_count": 57,
     "metadata": {},
     "output_type": "execute_result"
    }
   ],
   "source": [
    "k_euclid[1]"
   ]
  },
  {
   "cell_type": "markdown",
   "metadata": {},
   "source": [
    "Calculamos la suma de los cuadrados de la distancia"
   ]
  },
  {
   "cell_type": "code",
   "execution_count": 58,
   "metadata": {},
   "outputs": [
    {
     "data": {
      "text/plain": [
       "[2.7018192051191505,\n",
       " 1.9460522874676087,\n",
       " 1.7476042275708583,\n",
       " 1.5770564603604824,\n",
       " 1.4289334949950323,\n",
       " 1.362303691341122,\n",
       " 1.264117166663092,\n",
       " 1.2259331085179737,\n",
       " 1.1465198988091503,\n",
       " 1.1066392539773509,\n",
       " 1.0544024119352597,\n",
       " 1.0332484972011022,\n",
       " 0.9952604198763075,\n",
       " 0.9386496238113015,\n",
       " 0.9207985990117927,\n",
       " 0.9054395693345115,\n",
       " 0.8574646456715036,\n",
       " 0.8368232031230461,\n",
       " 0.8191018492288119]"
      ]
     },
     "execution_count": 58,
     "metadata": {},
     "output_type": "execute_result"
    }
   ],
   "source": [
    "avgWithinSumSquare = [sum(d)/hpc.shape[0] for d in dist]\n",
    "avgWithinSumSquare"
   ]
  },
  {
   "cell_type": "markdown",
   "metadata": {},
   "source": [
    "Gráfica que nos permite determinar el número de clusters apropiados para la segmentación"
   ]
  },
  {
   "cell_type": "code",
   "execution_count": 59,
   "metadata": {},
   "outputs": [
    {
     "data": {
      "image/png": "[encoded data removed]",
      "text/plain": [
       "<matplotlib.figure.Figure at 0x20e92f30b70>"
      ]
     },
     "metadata": {},
     "output_type": "display_data"
    }
   ],
   "source": [
    "# Ploteamos el gráfico del codo de yambú\n",
    "fig = plt.figure()\n",
    "ax = fig.add_subplot(111)\n",
    "ax.plot(avgWithinSumSquare, 'b*-')\n",
    "plt.grid(True)\n",
    "plt.xlabel('No. of clusters')\n",
    "plt.ylabel('Avg sum of squares')\n",
    "tt = plt.title('Elbow Curve')"
   ]
  },
  {
   "cell_type": "markdown",
   "metadata": {},
   "source": [
    "Tomando como referencia el gráfico, buscaremos 6 clusters"
   ]
  },
  {
   "cell_type": "code",
   "execution_count": 60,
   "metadata": {
    "collapsed": true
   },
   "outputs": [],
   "source": [
    "### Clustering de los paises en bases a sus indicadores de desarrollo"
   ]
  },
  {
   "cell_type": "code",
   "execution_count": null,
   "metadata": {
    "collapsed": true
   },
   "outputs": [],
   "source": [
    "## Algoritmo: K-means, K-means ++"
   ]
  },
  {
   "cell_type": "code",
   "execution_count": 61,
   "metadata": {},
   "outputs": [
    {
     "data": {
      "text/plain": [
       "KMeans(algorithm='auto', copy_x=True, init='k-means++', max_iter=300,\n",
       "    n_clusters=6, n_init=10, n_jobs=None, precompute_distances='auto',\n",
       "    random_state=3425, tol=0.0001, verbose=0)"
      ]
     },
     "execution_count": 61,
     "metadata": {},
     "output_type": "execute_result"
    }
   ],
   "source": [
    "km = KMeans(6, init='k-means++', random_state = 3425) \n",
    "km.fit(hpc)"
   ]
  },
  {
   "cell_type": "code",
   "execution_count": 62,
   "metadata": {
    "scrolled": true
   },
   "outputs": [
    {
     "data": {
      "text/html": [
       "<div>\n",
       "<style>\n",
       "    .dataframe thead tr:only-child th {\n",
       "        text-align: right;\n",
       "    }\n",
       "\n",
       "    .dataframe thead th {\n",
       "        text-align: left;\n",
       "    }\n",
       "\n",
       "    .dataframe tbody tr th {\n",
       "        vertical-align: top;\n",
       "    }\n",
       "</style>\n",
       "<table border=\"1\" class=\"dataframe\">\n",
       "  <thead>\n",
       "    <tr style=\"text-align: right;\">\n",
       "      <th></th>\n",
       "      <th>tfr</th>\n",
       "      <th>contraception</th>\n",
       "      <th>lifeMale</th>\n",
       "      <th>lifeFemale</th>\n",
       "      <th>infantMortality</th>\n",
       "      <th>GDPperCapita</th>\n",
       "      <th>economicActivityMale</th>\n",
       "      <th>economicActivityFemale</th>\n",
       "      <th>illiteracyMale</th>\n",
       "      <th>illiteracyFemale</th>\n",
       "      <th>countrySegment</th>\n",
       "    </tr>\n",
       "  </thead>\n",
       "  <tbody>\n",
       "    <tr>\n",
       "      <th>2</th>\n",
       "      <td>3.81</td>\n",
       "      <td>52.0</td>\n",
       "      <td>67.5</td>\n",
       "      <td>70.3</td>\n",
       "      <td>44.0</td>\n",
       "      <td>1531.0</td>\n",
       "      <td>76.4</td>\n",
       "      <td>7.8</td>\n",
       "      <td>26.1</td>\n",
       "      <td>51.0</td>\n",
       "      <td>3</td>\n",
       "    </tr>\n",
       "    <tr>\n",
       "      <th>8</th>\n",
       "      <td>1.70</td>\n",
       "      <td>22.0</td>\n",
       "      <td>67.2</td>\n",
       "      <td>74.0</td>\n",
       "      <td>25.0</td>\n",
       "      <td>354.0</td>\n",
       "      <td>65.0</td>\n",
       "      <td>52.0</td>\n",
       "      <td>0.3</td>\n",
       "      <td>0.5</td>\n",
       "      <td>0</td>\n",
       "    </tr>\n",
       "    <tr>\n",
       "      <th>12</th>\n",
       "      <td>1.95</td>\n",
       "      <td>62.0</td>\n",
       "      <td>70.5</td>\n",
       "      <td>77.1</td>\n",
       "      <td>14.0</td>\n",
       "      <td>12545.0</td>\n",
       "      <td>81.2</td>\n",
       "      <td>67.0</td>\n",
       "      <td>1.5</td>\n",
       "      <td>2.0</td>\n",
       "      <td>5</td>\n",
       "    </tr>\n",
       "    <tr>\n",
       "      <th>13</th>\n",
       "      <td>2.97</td>\n",
       "      <td>53.0</td>\n",
       "      <td>71.1</td>\n",
       "      <td>75.3</td>\n",
       "      <td>18.0</td>\n",
       "      <td>9073.0</td>\n",
       "      <td>88.2</td>\n",
       "      <td>29.2</td>\n",
       "      <td>10.9</td>\n",
       "      <td>20.6</td>\n",
       "      <td>2</td>\n",
       "    </tr>\n",
       "    <tr>\n",
       "      <th>14</th>\n",
       "      <td>3.14</td>\n",
       "      <td>49.0</td>\n",
       "      <td>58.1</td>\n",
       "      <td>58.2</td>\n",
       "      <td>78.0</td>\n",
       "      <td>280.0</td>\n",
       "      <td>88.8</td>\n",
       "      <td>55.9</td>\n",
       "      <td>50.6</td>\n",
       "      <td>73.9</td>\n",
       "      <td>1</td>\n",
       "    </tr>\n",
       "  </tbody>\n",
       "</table>\n",
       "</div>"
      ],
      "text/plain": [
       "     tfr  contraception  lifeMale  lifeFemale  infantMortality  GDPperCapita  \\\n",
       "2   3.81           52.0      67.5        70.3             44.0        1531.0   \n",
       "8   1.70           22.0      67.2        74.0             25.0         354.0   \n",
       "12  1.95           62.0      70.5        77.1             14.0       12545.0   \n",
       "13  2.97           53.0      71.1        75.3             18.0        9073.0   \n",
       "14  3.14           49.0      58.1        58.2             78.0         280.0   \n",
       "\n",
       "    economicActivityMale  economicActivityFemale  illiteracyMale  \\\n",
       "2                   76.4                     7.8            26.1   \n",
       "8                   65.0                    52.0             0.3   \n",
       "12                  81.2                    67.0             1.5   \n",
       "13                  88.2                    29.2            10.9   \n",
       "14                  88.8                    55.9            50.6   \n",
       "\n",
       "    illiteracyFemale  countrySegment  \n",
       "2               51.0               3  \n",
       "8                0.5               0  \n",
       "12               2.0               5  \n",
       "13              20.6               2  \n",
       "14              73.9               1  "
      ]
     },
     "execution_count": 62,
     "metadata": {},
     "output_type": "execute_result"
    }
   ],
   "source": [
    "df['countrySegment'] = km.predict(hpc)\n",
    "df.head()"
   ]
  },
  {
   "cell_type": "code",
   "execution_count": 63,
   "metadata": {},
   "outputs": [
    {
     "data": {
      "text/plain": [
       "countrySegment\n",
       "0    25\n",
       "1    15\n",
       "2    24\n",
       "3    11\n",
       "4    11\n",
       "5    11\n",
       "Name: contraception, dtype: int64"
      ]
     },
     "execution_count": 63,
     "metadata": {},
     "output_type": "execute_result"
    }
   ],
   "source": [
    "df.groupby('countrySegment').contraception.count()"
   ]
  },
  {
   "cell_type": "code",
   "execution_count": 64,
   "metadata": {},
   "outputs": [
    {
     "data": {
      "text/plain": [
       "[KMeans(algorithm='auto', copy_x=True, init='k-means++', max_iter=300,\n",
       "     n_clusters=6, n_init=10, n_jobs=None, precompute_distances='auto',\n",
       "     random_state=1, tol=0.0001, verbose=0),\n",
       " KMeans(algorithm='auto', copy_x=True, init='k-means++', max_iter=300,\n",
       "     n_clusters=6, n_init=10, n_jobs=None, precompute_distances='auto',\n",
       "     random_state=2, tol=0.0001, verbose=0),\n",
       " KMeans(algorithm='auto', copy_x=True, init='k-means++', max_iter=300,\n",
       "     n_clusters=6, n_init=10, n_jobs=None, precompute_distances='auto',\n",
       "     random_state=3, tol=0.0001, verbose=0),\n",
       " KMeans(algorithm='auto', copy_x=True, init='k-means++', max_iter=300,\n",
       "     n_clusters=6, n_init=10, n_jobs=None, precompute_distances='auto',\n",
       "     random_state=4, tol=0.0001, verbose=0),\n",
       " KMeans(algorithm='auto', copy_x=True, init='k-means++', max_iter=300,\n",
       "     n_clusters=6, n_init=10, n_jobs=None, precompute_distances='auto',\n",
       "     random_state=5, tol=0.0001, verbose=0),\n",
       " KMeans(algorithm='auto', copy_x=True, init='k-means++', max_iter=300,\n",
       "     n_clusters=6, n_init=10, n_jobs=None, precompute_distances='auto',\n",
       "     random_state=6, tol=0.0001, verbose=0),\n",
       " KMeans(algorithm='auto', copy_x=True, init='k-means++', max_iter=300,\n",
       "     n_clusters=6, n_init=10, n_jobs=None, precompute_distances='auto',\n",
       "     random_state=7, tol=0.0001, verbose=0),\n",
       " KMeans(algorithm='auto', copy_x=True, init='k-means++', max_iter=300,\n",
       "     n_clusters=6, n_init=10, n_jobs=None, precompute_distances='auto',\n",
       "     random_state=8, tol=0.0001, verbose=0),\n",
       " KMeans(algorithm='auto', copy_x=True, init='k-means++', max_iter=300,\n",
       "     n_clusters=6, n_init=10, n_jobs=None, precompute_distances='auto',\n",
       "     random_state=9, tol=0.0001, verbose=0)]"
      ]
     },
     "execution_count": 64,
     "metadata": {},
     "output_type": "execute_result"
    }
   ],
   "source": [
    "km = [KMeans(6, init='k-means++', random_state = rs) for rs in range(1,10)]\n",
    "km"
   ]
  },
  {
   "cell_type": "code",
   "execution_count": 65,
   "metadata": {},
   "outputs": [
    {
     "data": {
      "text/plain": [
       "KMeans(algorithm='auto', copy_x=True, init='k-means++', max_iter=300,\n",
       "    n_clusters=6, n_init=10, n_jobs=None, precompute_distances='auto',\n",
       "    random_state=9, tol=0.0001, verbose=0)"
      ]
     },
     "execution_count": 65,
     "metadata": {},
     "output_type": "execute_result"
    }
   ],
   "source": [
    "km[8]"
   ]
  },
  {
   "cell_type": "code",
   "execution_count": 66,
   "metadata": {},
   "outputs": [
    {
     "data": {
      "text/plain": [
       "KMeans(algorithm='auto', copy_x=True, init='k-means++', max_iter=300,\n",
       "    n_clusters=6, n_init=10, n_jobs=None, precompute_distances='auto',\n",
       "    random_state=3, tol=0.0001, verbose=0)"
      ]
     },
     "execution_count": 66,
     "metadata": {},
     "output_type": "execute_result"
    }
   ],
   "source": [
    "km[2]"
   ]
  },
  {
   "cell_type": "code",
   "execution_count": 67,
   "metadata": {},
   "outputs": [
    {
     "data": {
      "text/plain": [
       "[KMeans(algorithm='auto', copy_x=True, init='k-means++', max_iter=300,\n",
       "     n_clusters=6, n_init=10, n_jobs=None, precompute_distances='auto',\n",
       "     random_state=1, tol=0.0001, verbose=0),\n",
       " KMeans(algorithm='auto', copy_x=True, init='k-means++', max_iter=300,\n",
       "     n_clusters=6, n_init=10, n_jobs=None, precompute_distances='auto',\n",
       "     random_state=2, tol=0.0001, verbose=0),\n",
       " KMeans(algorithm='auto', copy_x=True, init='k-means++', max_iter=300,\n",
       "     n_clusters=6, n_init=10, n_jobs=None, precompute_distances='auto',\n",
       "     random_state=3, tol=0.0001, verbose=0),\n",
       " KMeans(algorithm='auto', copy_x=True, init='k-means++', max_iter=300,\n",
       "     n_clusters=6, n_init=10, n_jobs=None, precompute_distances='auto',\n",
       "     random_state=4, tol=0.0001, verbose=0),\n",
       " KMeans(algorithm='auto', copy_x=True, init='k-means++', max_iter=300,\n",
       "     n_clusters=6, n_init=10, n_jobs=None, precompute_distances='auto',\n",
       "     random_state=5, tol=0.0001, verbose=0),\n",
       " KMeans(algorithm='auto', copy_x=True, init='k-means++', max_iter=300,\n",
       "     n_clusters=6, n_init=10, n_jobs=None, precompute_distances='auto',\n",
       "     random_state=6, tol=0.0001, verbose=0),\n",
       " KMeans(algorithm='auto', copy_x=True, init='k-means++', max_iter=300,\n",
       "     n_clusters=6, n_init=10, n_jobs=None, precompute_distances='auto',\n",
       "     random_state=7, tol=0.0001, verbose=0),\n",
       " KMeans(algorithm='auto', copy_x=True, init='k-means++', max_iter=300,\n",
       "     n_clusters=6, n_init=10, n_jobs=None, precompute_distances='auto',\n",
       "     random_state=8, tol=0.0001, verbose=0),\n",
       " KMeans(algorithm='auto', copy_x=True, init='k-means++', max_iter=300,\n",
       "     n_clusters=6, n_init=10, n_jobs=None, precompute_distances='auto',\n",
       "     random_state=9, tol=0.0001, verbose=0)]"
      ]
     },
     "execution_count": 67,
     "metadata": {},
     "output_type": "execute_result"
    }
   ],
   "source": [
    "[km[clu].fit(hpc) for clu in range(0,9)]"
   ]
  },
  {
   "cell_type": "markdown",
   "metadata": {},
   "source": [
    "Añadimos la variable cluster por cada cluster calculado"
   ]
  },
  {
   "cell_type": "code",
   "execution_count": 68,
   "metadata": {},
   "outputs": [
    {
     "data": {
      "text/html": [
       "<div>\n",
       "<style>\n",
       "    .dataframe thead tr:only-child th {\n",
       "        text-align: right;\n",
       "    }\n",
       "\n",
       "    .dataframe thead th {\n",
       "        text-align: left;\n",
       "    }\n",
       "\n",
       "    .dataframe tbody tr th {\n",
       "        vertical-align: top;\n",
       "    }\n",
       "</style>\n",
       "<table border=\"1\" class=\"dataframe\">\n",
       "  <thead>\n",
       "    <tr style=\"text-align: right;\">\n",
       "      <th></th>\n",
       "      <th>tfr</th>\n",
       "      <th>contraception</th>\n",
       "      <th>lifeMale</th>\n",
       "      <th>lifeFemale</th>\n",
       "      <th>infantMortality</th>\n",
       "      <th>GDPperCapita</th>\n",
       "      <th>economicActivityMale</th>\n",
       "      <th>economicActivityFemale</th>\n",
       "      <th>illiteracyMale</th>\n",
       "      <th>illiteracyFemale</th>\n",
       "      <th>countrySegment</th>\n",
       "      <th>countrySegment1</th>\n",
       "      <th>countrySegment2</th>\n",
       "      <th>countrySegment3</th>\n",
       "      <th>countrySegment4</th>\n",
       "      <th>countrySegment5</th>\n",
       "      <th>countrySegment6</th>\n",
       "      <th>countrySegment7</th>\n",
       "      <th>countrySegment8</th>\n",
       "      <th>countrySegment9</th>\n",
       "    </tr>\n",
       "  </thead>\n",
       "  <tbody>\n",
       "    <tr>\n",
       "      <th>2</th>\n",
       "      <td>3.81</td>\n",
       "      <td>52.0</td>\n",
       "      <td>67.5</td>\n",
       "      <td>70.3</td>\n",
       "      <td>44.0</td>\n",
       "      <td>1531.0</td>\n",
       "      <td>76.4</td>\n",
       "      <td>7.8</td>\n",
       "      <td>26.1</td>\n",
       "      <td>51.0</td>\n",
       "      <td>3</td>\n",
       "      <td>3</td>\n",
       "      <td>5</td>\n",
       "      <td>2</td>\n",
       "      <td>2</td>\n",
       "      <td>5</td>\n",
       "      <td>3</td>\n",
       "      <td>2</td>\n",
       "      <td>2</td>\n",
       "      <td>1</td>\n",
       "    </tr>\n",
       "    <tr>\n",
       "      <th>8</th>\n",
       "      <td>1.70</td>\n",
       "      <td>22.0</td>\n",
       "      <td>67.2</td>\n",
       "      <td>74.0</td>\n",
       "      <td>25.0</td>\n",
       "      <td>354.0</td>\n",
       "      <td>65.0</td>\n",
       "      <td>52.0</td>\n",
       "      <td>0.3</td>\n",
       "      <td>0.5</td>\n",
       "      <td>0</td>\n",
       "      <td>5</td>\n",
       "      <td>3</td>\n",
       "      <td>4</td>\n",
       "      <td>5</td>\n",
       "      <td>2</td>\n",
       "      <td>0</td>\n",
       "      <td>0</td>\n",
       "      <td>4</td>\n",
       "      <td>5</td>\n",
       "    </tr>\n",
       "    <tr>\n",
       "      <th>12</th>\n",
       "      <td>1.95</td>\n",
       "      <td>62.0</td>\n",
       "      <td>70.5</td>\n",
       "      <td>77.1</td>\n",
       "      <td>14.0</td>\n",
       "      <td>12545.0</td>\n",
       "      <td>81.2</td>\n",
       "      <td>67.0</td>\n",
       "      <td>1.5</td>\n",
       "      <td>2.0</td>\n",
       "      <td>5</td>\n",
       "      <td>2</td>\n",
       "      <td>2</td>\n",
       "      <td>0</td>\n",
       "      <td>4</td>\n",
       "      <td>3</td>\n",
       "      <td>5</td>\n",
       "      <td>3</td>\n",
       "      <td>0</td>\n",
       "      <td>2</td>\n",
       "    </tr>\n",
       "    <tr>\n",
       "      <th>13</th>\n",
       "      <td>2.97</td>\n",
       "      <td>53.0</td>\n",
       "      <td>71.1</td>\n",
       "      <td>75.3</td>\n",
       "      <td>18.0</td>\n",
       "      <td>9073.0</td>\n",
       "      <td>88.2</td>\n",
       "      <td>29.2</td>\n",
       "      <td>10.9</td>\n",
       "      <td>20.6</td>\n",
       "      <td>2</td>\n",
       "      <td>1</td>\n",
       "      <td>0</td>\n",
       "      <td>5</td>\n",
       "      <td>0</td>\n",
       "      <td>0</td>\n",
       "      <td>2</td>\n",
       "      <td>4</td>\n",
       "      <td>3</td>\n",
       "      <td>3</td>\n",
       "    </tr>\n",
       "    <tr>\n",
       "      <th>14</th>\n",
       "      <td>3.14</td>\n",
       "      <td>49.0</td>\n",
       "      <td>58.1</td>\n",
       "      <td>58.2</td>\n",
       "      <td>78.0</td>\n",
       "      <td>280.0</td>\n",
       "      <td>88.8</td>\n",
       "      <td>55.9</td>\n",
       "      <td>50.6</td>\n",
       "      <td>73.9</td>\n",
       "      <td>1</td>\n",
       "      <td>4</td>\n",
       "      <td>1</td>\n",
       "      <td>1</td>\n",
       "      <td>1</td>\n",
       "      <td>1</td>\n",
       "      <td>1</td>\n",
       "      <td>1</td>\n",
       "      <td>1</td>\n",
       "      <td>0</td>\n",
       "    </tr>\n",
       "  </tbody>\n",
       "</table>\n",
       "</div>"
      ],
      "text/plain": [
       "     tfr  contraception  lifeMale  lifeFemale  infantMortality  GDPperCapita  \\\n",
       "2   3.81           52.0      67.5        70.3             44.0        1531.0   \n",
       "8   1.70           22.0      67.2        74.0             25.0         354.0   \n",
       "12  1.95           62.0      70.5        77.1             14.0       12545.0   \n",
       "13  2.97           53.0      71.1        75.3             18.0        9073.0   \n",
       "14  3.14           49.0      58.1        58.2             78.0         280.0   \n",
       "\n",
       "    economicActivityMale  economicActivityFemale  illiteracyMale  \\\n",
       "2                   76.4                     7.8            26.1   \n",
       "8                   65.0                    52.0             0.3   \n",
       "12                  81.2                    67.0             1.5   \n",
       "13                  88.2                    29.2            10.9   \n",
       "14                  88.8                    55.9            50.6   \n",
       "\n",
       "    illiteracyFemale  countrySegment  countrySegment1  countrySegment2  \\\n",
       "2               51.0               3                3                5   \n",
       "8                0.5               0                5                3   \n",
       "12               2.0               5                2                2   \n",
       "13              20.6               2                1                0   \n",
       "14              73.9               1                4                1   \n",
       "\n",
       "    countrySegment3  countrySegment4  countrySegment5  countrySegment6  \\\n",
       "2                 2                2                5                3   \n",
       "8                 4                5                2                0   \n",
       "12                0                4                3                5   \n",
       "13                5                0                0                2   \n",
       "14                1                1                1                1   \n",
       "\n",
       "    countrySegment7  countrySegment8  countrySegment9  \n",
       "2                 2                2                1  \n",
       "8                 0                4                5  \n",
       "12                3                0                2  \n",
       "13                4                3                3  \n",
       "14                1                1                0  "
      ]
     },
     "execution_count": 68,
     "metadata": {},
     "output_type": "execute_result"
    }
   ],
   "source": [
    "df['countrySegment1'] = km[0].predict(hpc)\n",
    "df['countrySegment2'] = km[1].predict(hpc)\n",
    "df['countrySegment3'] = km[2].predict(hpc)\n",
    "df['countrySegment4'] = km[3].predict(hpc)\n",
    "df['countrySegment5'] = km[4].predict(hpc)\n",
    "df['countrySegment6'] = km[5].predict(hpc)\n",
    "df['countrySegment7'] = km[6].predict(hpc)\n",
    "df['countrySegment8'] = km[7].predict(hpc)\n",
    "df['countrySegment9'] = km[8].predict(hpc)\n",
    "df.head()"
   ]
  },
  {
   "cell_type": "code",
   "execution_count": 69,
   "metadata": {
    "scrolled": true
   },
   "outputs": [
    {
     "data": {
      "text/plain": [
       "countrySegment\n",
       "0    25\n",
       "1    15\n",
       "2    24\n",
       "3    11\n",
       "4    11\n",
       "5    11\n",
       "Name: contraception, dtype: int64"
      ]
     },
     "execution_count": 69,
     "metadata": {},
     "output_type": "execute_result"
    }
   ],
   "source": [
    "df.groupby('countrySegment').contraception.count()"
   ]
  },
  {
   "cell_type": "code",
   "execution_count": 70,
   "metadata": {
    "scrolled": true
   },
   "outputs": [
    {
     "data": {
      "text/plain": [
       "countrySegment1\n",
       "0     9\n",
       "1    30\n",
       "2    12\n",
       "3    12\n",
       "4    15\n",
       "5    19\n",
       "Name: contraception, dtype: int64"
      ]
     },
     "execution_count": 70,
     "metadata": {},
     "output_type": "execute_result"
    }
   ],
   "source": [
    "df.groupby('countrySegment1').contraception.count()"
   ]
  },
  {
   "cell_type": "code",
   "execution_count": 71,
   "metadata": {},
   "outputs": [
    {
     "data": {
      "text/plain": [
       "countrySegment2\n",
       "0    27\n",
       "1    15\n",
       "2    11\n",
       "3    23\n",
       "4    10\n",
       "5    11\n",
       "Name: contraception, dtype: int64"
      ]
     },
     "execution_count": 71,
     "metadata": {},
     "output_type": "execute_result"
    }
   ],
   "source": [
    "df.groupby('countrySegment2').contraception.count()"
   ]
  },
  {
   "cell_type": "code",
   "execution_count": 72,
   "metadata": {},
   "outputs": [
    {
     "data": {
      "text/plain": [
       "countrySegment3\n",
       "0    11\n",
       "1    16\n",
       "2    12\n",
       "3     9\n",
       "4    22\n",
       "5    27\n",
       "Name: contraception, dtype: int64"
      ]
     },
     "execution_count": 72,
     "metadata": {},
     "output_type": "execute_result"
    }
   ],
   "source": [
    "df.groupby('countrySegment3').contraception.count()"
   ]
  },
  {
   "cell_type": "code",
   "execution_count": 73,
   "metadata": {
    "scrolled": true
   },
   "outputs": [
    {
     "data": {
      "text/plain": [
       "countrySegment\n",
       "0    25\n",
       "1    15\n",
       "2    24\n",
       "3    11\n",
       "4    11\n",
       "5    11\n",
       "Name: contraception, dtype: int64"
      ]
     },
     "execution_count": 73,
     "metadata": {},
     "output_type": "execute_result"
    }
   ],
   "source": [
    "df.groupby('countrySegment').contraception.count()"
   ]
  },
  {
   "cell_type": "markdown",
   "metadata": {},
   "source": [
    "Etiquetamos los clusters obtenidos"
   ]
  },
  {
   "cell_type": "code",
   "execution_count": 74,
   "metadata": {},
   "outputs": [
    {
     "data": {
      "text/html": [
       "<div>\n",
       "<style>\n",
       "    .dataframe thead tr:only-child th {\n",
       "        text-align: right;\n",
       "    }\n",
       "\n",
       "    .dataframe thead th {\n",
       "        text-align: left;\n",
       "    }\n",
       "\n",
       "    .dataframe tbody tr th {\n",
       "        vertical-align: top;\n",
       "    }\n",
       "</style>\n",
       "<table border=\"1\" class=\"dataframe\">\n",
       "  <thead>\n",
       "    <tr style=\"text-align: right;\">\n",
       "      <th></th>\n",
       "      <th>tfr</th>\n",
       "      <th>contraception</th>\n",
       "      <th>lifeMale</th>\n",
       "      <th>lifeFemale</th>\n",
       "      <th>infantMortality</th>\n",
       "      <th>GDPperCapita</th>\n",
       "      <th>economicActivityMale</th>\n",
       "      <th>economicActivityFemale</th>\n",
       "      <th>illiteracyMale</th>\n",
       "      <th>illiteracyFemale</th>\n",
       "      <th>countrySegment</th>\n",
       "      <th>countrySegment1</th>\n",
       "      <th>countrySegment2</th>\n",
       "      <th>countrySegment3</th>\n",
       "      <th>countrySegment4</th>\n",
       "      <th>countrySegment5</th>\n",
       "      <th>countrySegment6</th>\n",
       "      <th>countrySegment7</th>\n",
       "      <th>countrySegment8</th>\n",
       "      <th>countrySegment9</th>\n",
       "    </tr>\n",
       "  </thead>\n",
       "  <tbody>\n",
       "    <tr>\n",
       "      <th>2</th>\n",
       "      <td>3.81</td>\n",
       "      <td>52.0</td>\n",
       "      <td>67.5</td>\n",
       "      <td>70.3</td>\n",
       "      <td>44.0</td>\n",
       "      <td>1531.0</td>\n",
       "      <td>76.4</td>\n",
       "      <td>7.8</td>\n",
       "      <td>26.100</td>\n",
       "      <td>51.000</td>\n",
       "      <td>Cluster3</td>\n",
       "      <td>3</td>\n",
       "      <td>5</td>\n",
       "      <td>2</td>\n",
       "      <td>2</td>\n",
       "      <td>5</td>\n",
       "      <td>3</td>\n",
       "      <td>2</td>\n",
       "      <td>2</td>\n",
       "      <td>1</td>\n",
       "    </tr>\n",
       "    <tr>\n",
       "      <th>8</th>\n",
       "      <td>1.70</td>\n",
       "      <td>22.0</td>\n",
       "      <td>67.2</td>\n",
       "      <td>74.0</td>\n",
       "      <td>25.0</td>\n",
       "      <td>354.0</td>\n",
       "      <td>65.0</td>\n",
       "      <td>52.0</td>\n",
       "      <td>0.300</td>\n",
       "      <td>0.500</td>\n",
       "      <td>Cluster0</td>\n",
       "      <td>5</td>\n",
       "      <td>3</td>\n",
       "      <td>4</td>\n",
       "      <td>5</td>\n",
       "      <td>2</td>\n",
       "      <td>0</td>\n",
       "      <td>0</td>\n",
       "      <td>4</td>\n",
       "      <td>5</td>\n",
       "    </tr>\n",
       "    <tr>\n",
       "      <th>12</th>\n",
       "      <td>1.95</td>\n",
       "      <td>62.0</td>\n",
       "      <td>70.5</td>\n",
       "      <td>77.1</td>\n",
       "      <td>14.0</td>\n",
       "      <td>12545.0</td>\n",
       "      <td>81.2</td>\n",
       "      <td>67.0</td>\n",
       "      <td>1.500</td>\n",
       "      <td>2.000</td>\n",
       "      <td>Cluster5</td>\n",
       "      <td>2</td>\n",
       "      <td>2</td>\n",
       "      <td>0</td>\n",
       "      <td>4</td>\n",
       "      <td>3</td>\n",
       "      <td>5</td>\n",
       "      <td>3</td>\n",
       "      <td>0</td>\n",
       "      <td>2</td>\n",
       "    </tr>\n",
       "    <tr>\n",
       "      <th>13</th>\n",
       "      <td>2.97</td>\n",
       "      <td>53.0</td>\n",
       "      <td>71.1</td>\n",
       "      <td>75.3</td>\n",
       "      <td>18.0</td>\n",
       "      <td>9073.0</td>\n",
       "      <td>88.2</td>\n",
       "      <td>29.2</td>\n",
       "      <td>10.900</td>\n",
       "      <td>20.600</td>\n",
       "      <td>Cluster2</td>\n",
       "      <td>1</td>\n",
       "      <td>0</td>\n",
       "      <td>5</td>\n",
       "      <td>0</td>\n",
       "      <td>0</td>\n",
       "      <td>2</td>\n",
       "      <td>4</td>\n",
       "      <td>3</td>\n",
       "      <td>3</td>\n",
       "    </tr>\n",
       "    <tr>\n",
       "      <th>14</th>\n",
       "      <td>3.14</td>\n",
       "      <td>49.0</td>\n",
       "      <td>58.1</td>\n",
       "      <td>58.2</td>\n",
       "      <td>78.0</td>\n",
       "      <td>280.0</td>\n",
       "      <td>88.8</td>\n",
       "      <td>55.9</td>\n",
       "      <td>50.600</td>\n",
       "      <td>73.900</td>\n",
       "      <td>Cluster1</td>\n",
       "      <td>4</td>\n",
       "      <td>1</td>\n",
       "      <td>1</td>\n",
       "      <td>1</td>\n",
       "      <td>1</td>\n",
       "      <td>1</td>\n",
       "      <td>1</td>\n",
       "      <td>1</td>\n",
       "      <td>0</td>\n",
       "    </tr>\n",
       "    <tr>\n",
       "      <th>15</th>\n",
       "      <td>1.73</td>\n",
       "      <td>55.0</td>\n",
       "      <td>73.6</td>\n",
       "      <td>78.7</td>\n",
       "      <td>9.0</td>\n",
       "      <td>7173.0</td>\n",
       "      <td>73.4</td>\n",
       "      <td>61.4</td>\n",
       "      <td>2.000</td>\n",
       "      <td>3.200</td>\n",
       "      <td>Cluster0</td>\n",
       "      <td>2</td>\n",
       "      <td>3</td>\n",
       "      <td>4</td>\n",
       "      <td>5</td>\n",
       "      <td>2</td>\n",
       "      <td>0</td>\n",
       "      <td>0</td>\n",
       "      <td>4</td>\n",
       "      <td>5</td>\n",
       "    </tr>\n",
       "    <tr>\n",
       "      <th>16</th>\n",
       "      <td>1.40</td>\n",
       "      <td>50.0</td>\n",
       "      <td>64.4</td>\n",
       "      <td>74.8</td>\n",
       "      <td>15.0</td>\n",
       "      <td>994.0</td>\n",
       "      <td>76.4</td>\n",
       "      <td>61.3</td>\n",
       "      <td>0.300</td>\n",
       "      <td>0.600</td>\n",
       "      <td>Cluster0</td>\n",
       "      <td>5</td>\n",
       "      <td>3</td>\n",
       "      <td>4</td>\n",
       "      <td>5</td>\n",
       "      <td>2</td>\n",
       "      <td>0</td>\n",
       "      <td>0</td>\n",
       "      <td>4</td>\n",
       "      <td>5</td>\n",
       "    </tr>\n",
       "    <tr>\n",
       "      <th>18</th>\n",
       "      <td>3.66</td>\n",
       "      <td>47.0</td>\n",
       "      <td>73.4</td>\n",
       "      <td>76.1</td>\n",
       "      <td>30.0</td>\n",
       "      <td>2569.0</td>\n",
       "      <td>79.0</td>\n",
       "      <td>34.0</td>\n",
       "      <td>21.252</td>\n",
       "      <td>23.472</td>\n",
       "      <td>Cluster2</td>\n",
       "      <td>1</td>\n",
       "      <td>0</td>\n",
       "      <td>5</td>\n",
       "      <td>0</td>\n",
       "      <td>0</td>\n",
       "      <td>2</td>\n",
       "      <td>4</td>\n",
       "      <td>3</td>\n",
       "      <td>3</td>\n",
       "    </tr>\n",
       "    <tr>\n",
       "      <th>19</th>\n",
       "      <td>5.83</td>\n",
       "      <td>16.0</td>\n",
       "      <td>52.4</td>\n",
       "      <td>57.2</td>\n",
       "      <td>84.0</td>\n",
       "      <td>391.0</td>\n",
       "      <td>90.0</td>\n",
       "      <td>57.8</td>\n",
       "      <td>51.300</td>\n",
       "      <td>74.200</td>\n",
       "      <td>Cluster1</td>\n",
       "      <td>4</td>\n",
       "      <td>1</td>\n",
       "      <td>1</td>\n",
       "      <td>1</td>\n",
       "      <td>1</td>\n",
       "      <td>1</td>\n",
       "      <td>1</td>\n",
       "      <td>1</td>\n",
       "      <td>0</td>\n",
       "    </tr>\n",
       "    <tr>\n",
       "      <th>21</th>\n",
       "      <td>4.36</td>\n",
       "      <td>45.0</td>\n",
       "      <td>59.8</td>\n",
       "      <td>63.2</td>\n",
       "      <td>66.0</td>\n",
       "      <td>909.0</td>\n",
       "      <td>74.1</td>\n",
       "      <td>56.3</td>\n",
       "      <td>9.500</td>\n",
       "      <td>24.000</td>\n",
       "      <td>Cluster4</td>\n",
       "      <td>0</td>\n",
       "      <td>4</td>\n",
       "      <td>3</td>\n",
       "      <td>3</td>\n",
       "      <td>4</td>\n",
       "      <td>3</td>\n",
       "      <td>5</td>\n",
       "      <td>5</td>\n",
       "      <td>4</td>\n",
       "    </tr>\n",
       "  </tbody>\n",
       "</table>\n",
       "</div>"
      ],
      "text/plain": [
       "     tfr  contraception  lifeMale  lifeFemale  infantMortality  GDPperCapita  \\\n",
       "2   3.81           52.0      67.5        70.3             44.0        1531.0   \n",
       "8   1.70           22.0      67.2        74.0             25.0         354.0   \n",
       "12  1.95           62.0      70.5        77.1             14.0       12545.0   \n",
       "13  2.97           53.0      71.1        75.3             18.0        9073.0   \n",
       "14  3.14           49.0      58.1        58.2             78.0         280.0   \n",
       "15  1.73           55.0      73.6        78.7              9.0        7173.0   \n",
       "16  1.40           50.0      64.4        74.8             15.0         994.0   \n",
       "18  3.66           47.0      73.4        76.1             30.0        2569.0   \n",
       "19  5.83           16.0      52.4        57.2             84.0         391.0   \n",
       "21  4.36           45.0      59.8        63.2             66.0         909.0   \n",
       "\n",
       "    economicActivityMale  economicActivityFemale  illiteracyMale  \\\n",
       "2                   76.4                     7.8          26.100   \n",
       "8                   65.0                    52.0           0.300   \n",
       "12                  81.2                    67.0           1.500   \n",
       "13                  88.2                    29.2          10.900   \n",
       "14                  88.8                    55.9          50.600   \n",
       "15                  73.4                    61.4           2.000   \n",
       "16                  76.4                    61.3           0.300   \n",
       "18                  79.0                    34.0          21.252   \n",
       "19                  90.0                    57.8          51.300   \n",
       "21                  74.1                    56.3           9.500   \n",
       "\n",
       "    illiteracyFemale countrySegment  countrySegment1  countrySegment2  \\\n",
       "2             51.000       Cluster3                3                5   \n",
       "8              0.500       Cluster0                5                3   \n",
       "12             2.000       Cluster5                2                2   \n",
       "13            20.600       Cluster2                1                0   \n",
       "14            73.900       Cluster1                4                1   \n",
       "15             3.200       Cluster0                2                3   \n",
       "16             0.600       Cluster0                5                3   \n",
       "18            23.472       Cluster2                1                0   \n",
       "19            74.200       Cluster1                4                1   \n",
       "21            24.000       Cluster4                0                4   \n",
       "\n",
       "    countrySegment3  countrySegment4  countrySegment5  countrySegment6  \\\n",
       "2                 2                2                5                3   \n",
       "8                 4                5                2                0   \n",
       "12                0                4                3                5   \n",
       "13                5                0                0                2   \n",
       "14                1                1                1                1   \n",
       "15                4                5                2                0   \n",
       "16                4                5                2                0   \n",
       "18                5                0                0                2   \n",
       "19                1                1                1                1   \n",
       "21                3                3                4                3   \n",
       "\n",
       "    countrySegment7  countrySegment8  countrySegment9  \n",
       "2                 2                2                1  \n",
       "8                 0                4                5  \n",
       "12                3                0                2  \n",
       "13                4                3                3  \n",
       "14                1                1                0  \n",
       "15                0                4                5  \n",
       "16                0                4                5  \n",
       "18                4                3                3  \n",
       "19                1                1                0  \n",
       "21                5                5                4  "
      ]
     },
     "execution_count": 74,
     "metadata": {},
     "output_type": "execute_result"
    }
   ],
   "source": [
    "clust_map = {\n",
    "    0:'Cluster0',\n",
    "    1:'Cluster1',\n",
    "    2:'Cluster2',\n",
    "    3:'Cluster3',\n",
    "    4:'Cluster4',\n",
    "    5:'Cluster5'\n",
    "}\n",
    "\n",
    "df.countrySegment = df.countrySegment.map(clust_map)\n",
    "df[:10]"
   ]
  },
  {
   "cell_type": "markdown",
   "metadata": {},
   "source": [
    "Analizamos el PBI vs mortalidad infantil en cada cluster"
   ]
  },
  {
   "cell_type": "code",
   "execution_count": 75,
   "metadata": {},
   "outputs": [
    {
     "data": {
      "image/png": "[encoded data removed]",
      "text/plain": [
       "<matplotlib.figure.Figure at 0x20e937cc4a8>"
      ]
     },
     "metadata": {},
     "output_type": "display_data"
    }
   ],
   "source": [
    "d_color = {\n",
    "    'Cluster0':'yellow',\n",
    "    'Cluster1':'red',\n",
    "    'Cluster2':'green',\n",
    "    'Cluster3':'hotpink',\n",
    "    'Cluster4':'blue',\n",
    "    'Cluster5':'aqua'\n",
    "}\n",
    "\n",
    "fig, ax = plt.subplots()\n",
    "for clust in clust_map.values():\n",
    "    color = d_color[clust]\n",
    "    df[df.countrySegment == clust].plot(kind='scatter', x='GDPperCapita', y='infantMortality', label=clust, ax=ax, color=color)\n",
    "handles, labels = ax.get_legend_handles_labels()\n",
    "_ = ax.legend(handles, labels, loc=\"upper right\")"
   ]
  },
  {
   "cell_type": "markdown",
   "metadata": {},
   "source": [
    "Cuando el PBI es bajo la mortalidad infantil es alta."
   ]
  },
  {
   "cell_type": "code",
   "execution_count": 76,
   "metadata": {},
   "outputs": [
    {
     "data": {
      "image/png": "[encoded data removed]",
      "text/plain": [
       "<matplotlib.figure.Figure at 0x20e93862630>"
      ]
     },
     "metadata": {},
     "output_type": "display_data"
    }
   ],
   "source": [
    "fig, ax = plt.subplots()\n",
    "for clust in clust_map.values():\n",
    "    color = d_color[clust]\n",
    "    df[df.countrySegment == clust].plot(kind='scatter', x='GDPperCapita', y='lifeMale', label=clust, ax=ax, color=color)\n",
    "handles, labels = ax.get_legend_handles_labels()\n",
    "_ = ax.legend(handles, labels, loc=\"lower right\")"
   ]
  },
  {
   "cell_type": "markdown",
   "metadata": {},
   "source": [
    "Esperanza de vida se incrementa mientras el pais está más desarrollado"
   ]
  },
  {
   "cell_type": "code",
   "execution_count": 77,
   "metadata": {},
   "outputs": [
    {
     "data": {
      "image/png": "[encoded data removed]",
      "text/plain": [
       "<matplotlib.figure.Figure at 0x20e938e57f0>"
      ]
     },
     "metadata": {},
     "output_type": "display_data"
    }
   ],
   "source": [
    "fig, ax = plt.subplots()\n",
    "for clust in clust_map.values():\n",
    "    color = d_color[clust]\n",
    "    df[df.countrySegment == clust].plot(kind='scatter', x='GDPperCapita', y='lifeFemale', label=clust, ax=ax, color=color)\n",
    "handles, labels = ax.get_legend_handles_labels()\n",
    "_ = ax.legend(handles, labels, loc=\"lower right\")"
   ]
  },
  {
   "cell_type": "markdown",
   "metadata": {},
   "source": [
    "Esperanza de vida se incrementa mientras el pais está más desarrollado"
   ]
  },
  {
   "cell_type": "code",
   "execution_count": 78,
   "metadata": {
    "scrolled": true
   },
   "outputs": [
    {
     "data": {
      "text/plain": [
       "array([3, 5, 2, 1, 4, 2, 5, 1, 4, 0, 0, 1, 4, 4, 4, 1, 1, 1, 5, 1, 1, 1,\n",
       "       1, 3, 1, 5, 4, 1, 4, 5, 3, 4, 4, 1, 2, 5, 3, 1, 3, 3, 4, 1, 3, 5,\n",
       "       2, 2, 5, 5, 5, 4, 1, 0, 1, 1, 5, 3, 0, 0, 4, 2, 3, 4, 3, 1, 1, 5,\n",
       "       1, 2, 2, 1, 2, 5, 5, 1, 4, 2, 1, 2, 1, 0, 0, 5, 1, 4, 1, 1, 3, 1,\n",
       "       5, 5, 2, 5, 0, 1, 5, 3, 0])"
      ]
     },
     "execution_count": 78,
     "metadata": {},
     "output_type": "execute_result"
    }
   ],
   "source": [
    "km[0].labels_"
   ]
  },
  {
   "cell_type": "code",
   "execution_count": 79,
   "metadata": {},
   "outputs": [
    {
     "data": {
      "text/plain": [
       "array([-2.51605611, -0.76838707, -1.53678834,  0.93469974])"
      ]
     },
     "execution_count": 79,
     "metadata": {},
     "output_type": "execute_result"
    }
   ],
   "source": [
    "hpc[2]"
   ]
  },
  {
   "cell_type": "code",
   "execution_count": 80,
   "metadata": {},
   "outputs": [
    {
     "data": {
      "text/plain": [
       "0.2899176009586157"
      ]
     },
     "execution_count": 80,
     "metadata": {},
     "output_type": "execute_result"
    }
   ],
   "source": [
    "from sklearn import metrics\n",
    "import numpy as np\n",
    "from sklearn.cluster import KMeans\n",
    "\n",
    "#kmeans_model = KMeans(n_clusters=3, randomkm[0]_state=1).fit(X)\n",
    "labels = km[0].labels_\n",
    "metrics.silhouette_score(hpc, labels, metric='euclidean')"
   ]
  },
  {
   "cell_type": "code",
   "execution_count": 81,
   "metadata": {},
   "outputs": [
    {
     "data": {
      "text/plain": [
       "0.2924113484401996"
      ]
     },
     "execution_count": 81,
     "metadata": {},
     "output_type": "execute_result"
    }
   ],
   "source": [
    "from sklearn import metrics\n",
    "import numpy as np\n",
    "from sklearn.cluster import KMeans\n",
    "\n",
    "#kmeans_model = KMeans(n_clusters=3, randomkm[0]_state=1).fit(X)\n",
    "labels = km[1].labels_\n",
    "metrics.silhouette_score(hpc, labels, metric='euclidean')"
   ]
  },
  {
   "cell_type": "code",
   "execution_count": 82,
   "metadata": {},
   "outputs": [
    {
     "data": {
      "text/plain": [
       "0.2897719646231664"
      ]
     },
     "execution_count": 82,
     "metadata": {},
     "output_type": "execute_result"
    }
   ],
   "source": [
    "from sklearn import metrics\n",
    "import numpy as np\n",
    "from sklearn.cluster import KMeans\n",
    "\n",
    "#kmeans_model = KMeans(n_clusters=3, randomkm[0]_state=1).fit(X)\n",
    "labels = km[2].labels_\n",
    "metrics.silhouette_score(hpc, labels, metric='euclidean')"
   ]
  },
  {
   "cell_type": "code",
   "execution_count": 83,
   "metadata": {},
   "outputs": [
    {
     "data": {
      "text/plain": [
       "0.2920577364986253"
      ]
     },
     "execution_count": 83,
     "metadata": {},
     "output_type": "execute_result"
    }
   ],
   "source": [
    "from sklearn import metrics\n",
    "import numpy as np\n",
    "from sklearn.cluster import KMeans\n",
    "\n",
    "#kmeans_model = KMeans(n_clusters=3, randomkm[0]_state=1).fit(X)\n",
    "labels = km[3].labels_\n",
    "metrics.silhouette_score(hpc, labels, metric='euclidean')"
   ]
  },
  {
   "cell_type": "code",
   "execution_count": 84,
   "metadata": {},
   "outputs": [
    {
     "data": {
      "text/plain": [
       "0.2808399822160403"
      ]
     },
     "execution_count": 84,
     "metadata": {},
     "output_type": "execute_result"
    }
   ],
   "source": [
    "from sklearn import metrics\n",
    "import numpy as np\n",
    "from sklearn.cluster import KMeans\n",
    "\n",
    "#kmeans_model = KMeans(n_clusters=3, randomkm[0]_state=1).fit(X)\n",
    "labels = km[4].labels_\n",
    "metrics.silhouette_score(hpc, labels, metric='euclidean')"
   ]
  },
  {
   "cell_type": "code",
   "execution_count": 85,
   "metadata": {},
   "outputs": [
    {
     "data": {
      "text/html": [
       "<div>\n",
       "<style>\n",
       "    .dataframe thead tr:only-child th {\n",
       "        text-align: right;\n",
       "    }\n",
       "\n",
       "    .dataframe thead th {\n",
       "        text-align: left;\n",
       "    }\n",
       "\n",
       "    .dataframe tbody tr th {\n",
       "        vertical-align: top;\n",
       "    }\n",
       "</style>\n",
       "<table border=\"1\" class=\"dataframe\">\n",
       "  <thead>\n",
       "    <tr style=\"text-align: right;\">\n",
       "      <th></th>\n",
       "      <th>tfr</th>\n",
       "      <th>contraception</th>\n",
       "      <th>lifeMale</th>\n",
       "      <th>lifeFemale</th>\n",
       "      <th>infantMortality</th>\n",
       "      <th>GDPperCapita</th>\n",
       "      <th>economicActivityMale</th>\n",
       "      <th>economicActivityFemale</th>\n",
       "      <th>illiteracyMale</th>\n",
       "      <th>illiteracyFemale</th>\n",
       "      <th>countrySegment</th>\n",
       "      <th>countrySegment1</th>\n",
       "      <th>countrySegment2</th>\n",
       "      <th>countrySegment3</th>\n",
       "      <th>countrySegment4</th>\n",
       "      <th>countrySegment5</th>\n",
       "      <th>countrySegment6</th>\n",
       "      <th>countrySegment7</th>\n",
       "      <th>countrySegment8</th>\n",
       "      <th>countrySegment9</th>\n",
       "    </tr>\n",
       "  </thead>\n",
       "  <tbody>\n",
       "    <tr>\n",
       "      <th>2</th>\n",
       "      <td>3.81</td>\n",
       "      <td>52.0</td>\n",
       "      <td>67.5</td>\n",
       "      <td>70.3</td>\n",
       "      <td>44.0</td>\n",
       "      <td>1531.0</td>\n",
       "      <td>76.4</td>\n",
       "      <td>7.8</td>\n",
       "      <td>26.1</td>\n",
       "      <td>51.0</td>\n",
       "      <td>Cluster3</td>\n",
       "      <td>3</td>\n",
       "      <td>5</td>\n",
       "      <td>2</td>\n",
       "      <td>2</td>\n",
       "      <td>5</td>\n",
       "      <td>3</td>\n",
       "      <td>2</td>\n",
       "      <td>2</td>\n",
       "      <td>1</td>\n",
       "    </tr>\n",
       "    <tr>\n",
       "      <th>8</th>\n",
       "      <td>1.70</td>\n",
       "      <td>22.0</td>\n",
       "      <td>67.2</td>\n",
       "      <td>74.0</td>\n",
       "      <td>25.0</td>\n",
       "      <td>354.0</td>\n",
       "      <td>65.0</td>\n",
       "      <td>52.0</td>\n",
       "      <td>0.3</td>\n",
       "      <td>0.5</td>\n",
       "      <td>Cluster0</td>\n",
       "      <td>5</td>\n",
       "      <td>3</td>\n",
       "      <td>4</td>\n",
       "      <td>5</td>\n",
       "      <td>2</td>\n",
       "      <td>0</td>\n",
       "      <td>0</td>\n",
       "      <td>4</td>\n",
       "      <td>5</td>\n",
       "    </tr>\n",
       "    <tr>\n",
       "      <th>12</th>\n",
       "      <td>1.95</td>\n",
       "      <td>62.0</td>\n",
       "      <td>70.5</td>\n",
       "      <td>77.1</td>\n",
       "      <td>14.0</td>\n",
       "      <td>12545.0</td>\n",
       "      <td>81.2</td>\n",
       "      <td>67.0</td>\n",
       "      <td>1.5</td>\n",
       "      <td>2.0</td>\n",
       "      <td>Cluster5</td>\n",
       "      <td>2</td>\n",
       "      <td>2</td>\n",
       "      <td>0</td>\n",
       "      <td>4</td>\n",
       "      <td>3</td>\n",
       "      <td>5</td>\n",
       "      <td>3</td>\n",
       "      <td>0</td>\n",
       "      <td>2</td>\n",
       "    </tr>\n",
       "    <tr>\n",
       "      <th>13</th>\n",
       "      <td>2.97</td>\n",
       "      <td>53.0</td>\n",
       "      <td>71.1</td>\n",
       "      <td>75.3</td>\n",
       "      <td>18.0</td>\n",
       "      <td>9073.0</td>\n",
       "      <td>88.2</td>\n",
       "      <td>29.2</td>\n",
       "      <td>10.9</td>\n",
       "      <td>20.6</td>\n",
       "      <td>Cluster2</td>\n",
       "      <td>1</td>\n",
       "      <td>0</td>\n",
       "      <td>5</td>\n",
       "      <td>0</td>\n",
       "      <td>0</td>\n",
       "      <td>2</td>\n",
       "      <td>4</td>\n",
       "      <td>3</td>\n",
       "      <td>3</td>\n",
       "    </tr>\n",
       "    <tr>\n",
       "      <th>14</th>\n",
       "      <td>3.14</td>\n",
       "      <td>49.0</td>\n",
       "      <td>58.1</td>\n",
       "      <td>58.2</td>\n",
       "      <td>78.0</td>\n",
       "      <td>280.0</td>\n",
       "      <td>88.8</td>\n",
       "      <td>55.9</td>\n",
       "      <td>50.6</td>\n",
       "      <td>73.9</td>\n",
       "      <td>Cluster1</td>\n",
       "      <td>4</td>\n",
       "      <td>1</td>\n",
       "      <td>1</td>\n",
       "      <td>1</td>\n",
       "      <td>1</td>\n",
       "      <td>1</td>\n",
       "      <td>1</td>\n",
       "      <td>1</td>\n",
       "      <td>0</td>\n",
       "    </tr>\n",
       "  </tbody>\n",
       "</table>\n",
       "</div>"
      ],
      "text/plain": [
       "     tfr  contraception  lifeMale  lifeFemale  infantMortality  GDPperCapita  \\\n",
       "2   3.81           52.0      67.5        70.3             44.0        1531.0   \n",
       "8   1.70           22.0      67.2        74.0             25.0         354.0   \n",
       "12  1.95           62.0      70.5        77.1             14.0       12545.0   \n",
       "13  2.97           53.0      71.1        75.3             18.0        9073.0   \n",
       "14  3.14           49.0      58.1        58.2             78.0         280.0   \n",
       "\n",
       "    economicActivityMale  economicActivityFemale  illiteracyMale  \\\n",
       "2                   76.4                     7.8            26.1   \n",
       "8                   65.0                    52.0             0.3   \n",
       "12                  81.2                    67.0             1.5   \n",
       "13                  88.2                    29.2            10.9   \n",
       "14                  88.8                    55.9            50.6   \n",
       "\n",
       "    illiteracyFemale countrySegment  countrySegment1  countrySegment2  \\\n",
       "2               51.0       Cluster3                3                5   \n",
       "8                0.5       Cluster0                5                3   \n",
       "12               2.0       Cluster5                2                2   \n",
       "13              20.6       Cluster2                1                0   \n",
       "14              73.9       Cluster1                4                1   \n",
       "\n",
       "    countrySegment3  countrySegment4  countrySegment5  countrySegment6  \\\n",
       "2                 2                2                5                3   \n",
       "8                 4                5                2                0   \n",
       "12                0                4                3                5   \n",
       "13                5                0                0                2   \n",
       "14                1                1                1                1   \n",
       "\n",
       "    countrySegment7  countrySegment8  countrySegment9  \n",
       "2                 2                2                1  \n",
       "8                 0                4                5  \n",
       "12                3                0                2  \n",
       "13                4                3                3  \n",
       "14                1                1                0  "
      ]
     },
     "execution_count": 85,
     "metadata": {},
     "output_type": "execute_result"
    }
   ],
   "source": [
    "df.head()"
   ]
  },
  {
   "cell_type": "code",
   "execution_count": 86,
   "metadata": {},
   "outputs": [
    {
     "data": {
      "text/plain": [
       "countrySegment\n",
       "Cluster0    49.480000\n",
       "Cluster1    15.666667\n",
       "Cluster2    57.416667\n",
       "Cluster3    33.454545\n",
       "Cluster4    29.545455\n",
       "Cluster5    62.545455\n",
       "Name: contraception, dtype: float64"
      ]
     },
     "execution_count": 86,
     "metadata": {},
     "output_type": "execute_result"
    }
   ],
   "source": [
    "df.groupby('countrySegment').contraception.mean()"
   ]
  },
  {
   "cell_type": "code",
   "execution_count": 87,
   "metadata": {},
   "outputs": [
    {
     "data": {
      "text/plain": [
       "countrySegment\n",
       "Cluster0    66.404000\n",
       "Cluster1    49.193333\n",
       "Cluster2    68.670833\n",
       "Cluster3    63.163636\n",
       "Cluster4    58.136364\n",
       "Cluster5    72.600000\n",
       "Name: lifeMale, dtype: float64"
      ]
     },
     "execution_count": 87,
     "metadata": {},
     "output_type": "execute_result"
    }
   ],
   "source": [
    "df.groupby('countrySegment').lifeMale.mean()"
   ]
  },
  {
   "cell_type": "code",
   "execution_count": 88,
   "metadata": {},
   "outputs": [
    {
     "data": {
      "text/plain": [
       "countrySegment\n",
       "Cluster0     2096.360000\n",
       "Cluster1      348.466667\n",
       "Cluster2     2942.833333\n",
       "Cluster3     1898.000000\n",
       "Cluster4     1617.545455\n",
       "Cluster5    16419.090909\n",
       "Name: GDPperCapita, dtype: float64"
      ]
     },
     "execution_count": 88,
     "metadata": {},
     "output_type": "execute_result"
    }
   ],
   "source": [
    "df.groupby('countrySegment').GDPperCapita.mean()"
   ]
  },
  {
   "cell_type": "code",
   "execution_count": 89,
   "metadata": {},
   "outputs": [
    {
     "data": {
      "text/plain": [
       "countrySegment\n",
       "Cluster0    72.732000\n",
       "Cluster1    83.193333\n",
       "Cluster2    82.095833\n",
       "Cluster3    77.536364\n",
       "Cluster4    75.645455\n",
       "Cluster5    73.136364\n",
       "Name: economicActivityMale, dtype: float64"
      ]
     },
     "execution_count": 89,
     "metadata": {},
     "output_type": "execute_result"
    }
   ],
   "source": [
    "df.groupby('countrySegment').economicActivityMale.mean()"
   ]
  },
  {
   "cell_type": "code",
   "execution_count": 96,
   "metadata": {
    "collapsed": true
   },
   "outputs": [],
   "source": [
    "### Test de grupos"
   ]
  },
  {
   "cell_type": "code",
   "execution_count": 90,
   "metadata": {},
   "outputs": [
    {
     "data": {
      "text/html": [
       "<div>\n",
       "<style>\n",
       "    .dataframe thead tr:only-child th {\n",
       "        text-align: right;\n",
       "    }\n",
       "\n",
       "    .dataframe thead th {\n",
       "        text-align: left;\n",
       "    }\n",
       "\n",
       "    .dataframe tbody tr th {\n",
       "        vertical-align: top;\n",
       "    }\n",
       "</style>\n",
       "<table border=\"1\" class=\"dataframe\">\n",
       "  <thead>\n",
       "    <tr style=\"text-align: right;\">\n",
       "      <th></th>\n",
       "      <th>countrySegment</th>\n",
       "      <th>economicActivityMale</th>\n",
       "    </tr>\n",
       "  </thead>\n",
       "  <tbody>\n",
       "    <tr>\n",
       "      <th>2</th>\n",
       "      <td>Cluster3</td>\n",
       "      <td>76.4</td>\n",
       "    </tr>\n",
       "    <tr>\n",
       "      <th>8</th>\n",
       "      <td>Cluster0</td>\n",
       "      <td>65.0</td>\n",
       "    </tr>\n",
       "    <tr>\n",
       "      <th>12</th>\n",
       "      <td>Cluster5</td>\n",
       "      <td>81.2</td>\n",
       "    </tr>\n",
       "    <tr>\n",
       "      <th>13</th>\n",
       "      <td>Cluster2</td>\n",
       "      <td>88.2</td>\n",
       "    </tr>\n",
       "    <tr>\n",
       "      <th>14</th>\n",
       "      <td>Cluster1</td>\n",
       "      <td>88.8</td>\n",
       "    </tr>\n",
       "  </tbody>\n",
       "</table>\n",
       "</div>"
      ],
      "text/plain": [
       "   countrySegment  economicActivityMale\n",
       "2        Cluster3                  76.4\n",
       "8        Cluster0                  65.0\n",
       "12       Cluster5                  81.2\n",
       "13       Cluster2                  88.2\n",
       "14       Cluster1                  88.8"
      ]
     },
     "execution_count": 90,
     "metadata": {},
     "output_type": "execute_result"
    }
   ],
   "source": [
    "country_ecoActMale=df[['countrySegment','economicActivityMale']]\n",
    "country_ecoActMale.head()"
   ]
  },
  {
   "cell_type": "code",
   "execution_count": 91,
   "metadata": {
    "collapsed": true
   },
   "outputs": [],
   "source": [
    "cluster0_ecoActMale=country_ecoActMale[country_ecoActMale['countrySegment']=='Cluster0']\n",
    "cluster1_ecoActMale=country_ecoActMale[country_ecoActMale['countrySegment']=='Cluster1']\n",
    "cluster2_ecoActMale=country_ecoActMale[country_ecoActMale['countrySegment']=='Cluster2']\n",
    "cluster3_ecoActMale=country_ecoActMale[country_ecoActMale['countrySegment']=='Cluster3']\n",
    "cluster4_ecoActMale=country_ecoActMale[country_ecoActMale['countrySegment']=='Cluster4']\n",
    "cluster5_ecoActMale=country_ecoActMale[country_ecoActMale['countrySegment']=='Cluster5']"
   ]
  },
  {
   "cell_type": "code",
   "execution_count": 92,
   "metadata": {
    "collapsed": true
   },
   "outputs": [],
   "source": [
    "c0_ecoActMale=cluster0_ecoActMale.iloc[:,1].values\n",
    "c1_ecoActMale=cluster1_ecoActMale.iloc[:,1].values\n",
    "c2_ecoActMale=cluster2_ecoActMale.iloc[:,1].values\n",
    "c3_ecoActMale=cluster3_ecoActMale.iloc[:,1].values\n",
    "c4_ecoActMale=cluster4_ecoActMale.iloc[:,1].values\n",
    "c5_ecoActMale=cluster5_ecoActMale.iloc[:,1].values"
   ]
  },
  {
   "cell_type": "code",
   "execution_count": 93,
   "metadata": {
    "collapsed": true
   },
   "outputs": [],
   "source": [
    "from scipy import stats"
   ]
  },
  {
   "cell_type": "code",
   "execution_count": 94,
   "metadata": {},
   "outputs": [
    {
     "data": {
      "text/plain": [
       "F_onewayResult(statistic=10.947821706162495, pvalue=2.8829735708450468e-08)"
      ]
     },
     "execution_count": 94,
     "metadata": {},
     "output_type": "execute_result"
    }
   ],
   "source": [
    "stats.f_oneway(c0_ecoActMale,c1_ecoActMale,c2_ecoActMale,c3_ecoActMale,c4_ecoActMale,c5_ecoActMale)"
   ]
  },
  {
   "cell_type": "markdown",
   "metadata": {
    "collapsed": true
   },
   "source": [
    "!! FIN"
   ]
  }
 ],
 "metadata": {
  "kernelspec": {
   "display_name": "Python 3",
   "language": "python",
   "name": "python3"
  },
  "language_info": {
   "codemirror_mode": {
    "name": "ipython",
    "version": 3
   },
   "file_extension": ".py",
   "mimetype": "text/x-python",
   "name": "python",
   "nbconvert_exporter": "python",
   "pygments_lexer": "ipython3",
   "version": "3.6.3"
  },
  "toc": {
   "base_numbering": 1,
   "nav_menu": {},
   "number_sections": true,
   "sideBar": true,
   "skip_h1_title": false,
   "title_cell": "Table of Contents",
   "title_sidebar": "Contents",
   "toc_cell": false,
   "toc_position": {},
   "toc_section_display": true,
   "toc_window_display": false
  },
  "varInspector": {
   "cols": {
    "lenName": 16,
    "lenType": 16,
    "lenVar": 40
   },
   "kernels_config": {
    "python": {
     "delete_cmd_postfix": "",
     "delete_cmd_prefix": "del ",
     "library": "var_list.py",
     "varRefreshCmd": "print(var_dic_list())"
    },
    "r": {
     "delete_cmd_postfix": ") ",
     "delete_cmd_prefix": "rm(",
     "library": "var_list.r",
     "varRefreshCmd": "cat(var_dic_list()) "
    }
   },
   "types_to_exclude": [
    "module",
    "function",
    "builtin_function_or_method",
    "instance",
    "_Feature"
   ],
   "window_display": false
  }
 },
 "nbformat": 4,
 "nbformat_minor": 1
}
