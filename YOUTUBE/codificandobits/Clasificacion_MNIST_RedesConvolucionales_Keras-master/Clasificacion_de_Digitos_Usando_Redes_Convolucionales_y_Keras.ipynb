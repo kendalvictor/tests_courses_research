{
 "cells": [
  {
   "cell_type": "markdown",
   "metadata": {},
   "source": [
    "# Clasificación de dígitos usando Redes Convolucionales y Keras\n",
    "\n",
    "## 1 - El set de datos\n",
    "\n",
    "En este tutorial implementaremos una red convolucional capaz de clasificar los dígitos del 0 al 9. Para ello usaremos el set de datos [MNIST](http://yann.lecun.com/exdb/mnist/), que contiene un total de 70.000 imágenes escritas a mano por diferentes personas.\n",
    "\n",
    "![Algunos ejemplos de imágenes provenientes del set MNIST](MNIST_ejemplo.png)\n",
    "\n",
    "Al final de este tutorial tendremos claro:\n",
    "1. Cómo funciona [LeNet-5](http://yann.lecun.com/exdb/lenet/), la red convolucional usada en este tutorial\n",
    "2. Cómo implementar esta red convolucional usando la librería Keras\n",
    "3. Cómo evaluar el desempeño de la red\n",
    "\n",
    "En primer lugar, veamos cómo es LeNet-5."
   ]
  },
  {
   "cell_type": "markdown",
   "metadata": {},
   "source": [
    "## 2 - LeNet-5\n",
    "\n",
    "Esta red es la precursora de todas las redes convolucionales usadas en la actualidad. Fue diseñada por [Yann LeCun] a finales de los años 90, con el fin de clasificar dígitos (del 0 al 9) escritos a mano.\n",
    "\n",
    "Esta red tiene como entradas imágenes de 28x28x1: 28 filas, 28 columnas y 1 sólo plano de color, es decir imágenes en escala de gris.\n",
    "\n",
    "![LeNet-5](LeNet5.png)\n",
    "\n",
    "Como se observa en la figura de arriba, la red cuenta con dos bloques de procesamiento:\n",
    "- Las *capas convolucionales* que se encargan de extraer características de las imágenes\n",
    "- La *red neuronal*, que toma dichas características y permite clasificar la imagen en uno de los posibles 10 dígitos (del 0 al 9)\n",
    "\n",
    "Además, podemos observar las siguientes características:\n",
    "- Después de realizar convoluciones se usa siempre la función de activación *ReLU*\n",
    "- El *max-pooling* se realiza después de las convoluciones\n",
    "- Las *dimensiones espaciales* (número de filas y columnas) de las imágenes se reducen entre una capa y otra, mientras que la profundidad (correspondiente a las características extraídas) aumenta entre una capa y otra\n",
    "\n",
    "Las redes convolucionales usadas en la actualidad implementan una lógica similar a la de LeNet-5."
   ]
  },
  {
   "cell_type": "markdown",
   "metadata": {},
   "source": [
    "## 3 - Implementación en Keras\n",
    "\n",
    "### 3.1 - Librerías requeridas\n",
    "\n",
    "En primer lugar se importa la librería Numpy y se ajusta la semilla del generador aleatorio para garantizar la reproducibilidad del entrenamiento. También importaremos la librería Matplotlib, para poder visualizar las imágenes del set de datos :"
   ]
  },
  {
   "cell_type": "code",
   "execution_count": 1,
   "metadata": {},
   "outputs": [],
   "source": [
    "import os\n",
    "import numpy as np\n",
    "import random as rn\n",
    "\n",
    "SEED = 42\n",
    "os.environ['PYTHONHASHSEED'] = str(SEED)\n",
    "np.random.seed(SEED)\n",
    "rn.seed(SEED)\n",
    "\n",
    "import matplotlib.pyplot as plt\n",
    "%matplotlib notebook"
   ]
  },
  {
   "cell_type": "markdown",
   "metadata": {},
   "source": [
    "A continuación importamos las funciones *Sequential*, *Conv2D*, *MaxPooling2D*, *Flatten*, *Dense* y *SGD* de Keras:"
   ]
  },
  {
   "cell_type": "code",
   "execution_count": 2,
   "metadata": {
    "collapsed": false,
    "jupyter": {
     "outputs_hidden": false
    }
   },
   "outputs": [
    {
     "name": "stderr",
     "output_type": "stream",
     "text": [
      "Using TensorFlow backend.\n"
     ]
    }
   ],
   "source": [
    "from keras.datasets import mnist\n",
    "from keras.utils import np_utils\n",
    "\n",
    "from keras.models import Sequential\n",
    "from keras.layers.convolutional import Conv2D, MaxPooling2D\n",
    "from keras.layers.core import Flatten, Dense\n",
    "from keras.optimizers import SGD"
   ]
  },
  {
   "cell_type": "markdown",
   "metadata": {},
   "source": [
    "### 3.2 - Pre-procesamiento del set de datos\n",
    "\n",
    "La función *mnist* de Keras permite leer el set de datos y crear automáticamente los sets de entrenamiento y validación. El primero de ellos tendrá 60,000 imágenes (cada una de 28x28) con sus correspondientes categorías, mientras que el segundo tendrá 10,000 datos:"
   ]
  },
  {
   "cell_type": "code",
   "execution_count": 3,
   "metadata": {
    "collapsed": false,
    "jupyter": {
     "outputs_hidden": false
    }
   },
   "outputs": [
    {
     "name": "stdout",
     "output_type": "stream",
     "text": [
      "(60000, 28, 28)\n",
      "(60000,)\n",
      "(10000, 28, 28)\n",
      "(10000,)\n"
     ]
    }
   ],
   "source": [
    "(x_train, y_train), (x_test,y_test) = mnist.load_data()\n",
    "print(x_train.shape)\n",
    "print(y_train.shape)\n",
    "print(x_test.shape)\n",
    "print(y_test.shape)"
   ]
  },
  {
   "cell_type": "markdown",
   "metadata": {},
   "source": [
    "Los pixeles en las imágenes (tanto de entrenamiento como de validación) tienen valores entre 0 y 255; sin embargo, para garantizar la convergencia del entrenamiento es necesario normalizar estos valores entre 0 y 1:"
   ]
  },
  {
   "cell_type": "code",
   "execution_count": 4,
   "metadata": {},
   "outputs": [],
   "source": [
    "x_train = x_train/255.0\n",
    "x_test = x_test/255.0"
   ]
  },
  {
   "cell_type": "markdown",
   "metadata": {},
   "source": [
    "También se deben codificar *y_train* y *y_test* en el formato *one-hot*:"
   ]
  },
  {
   "cell_type": "code",
   "execution_count": 5,
   "metadata": {},
   "outputs": [
    {
     "data": {
      "text/plain": [
       "array([5, 0, 4, 1, 9], dtype=uint8)"
      ]
     },
     "execution_count": 5,
     "metadata": {},
     "output_type": "execute_result"
    }
   ],
   "source": [
    "y_train[:5]"
   ]
  },
  {
   "cell_type": "code",
   "execution_count": 6,
   "metadata": {},
   "outputs": [
    {
     "data": {
      "text/plain": [
       "array([[0., 0., 0., 0., 0., 1., 0., 0., 0., 0.],\n",
       "       [1., 0., 0., 0., 0., 0., 0., 0., 0., 0.],\n",
       "       [0., 0., 0., 0., 1., 0., 0., 0., 0., 0.],\n",
       "       [0., 1., 0., 0., 0., 0., 0., 0., 0., 0.],\n",
       "       [0., 0., 0., 0., 0., 0., 0., 0., 0., 1.]], dtype=float32)"
      ]
     },
     "execution_count": 6,
     "metadata": {},
     "output_type": "execute_result"
    }
   ],
   "source": [
    "nclases = 10\n",
    "y_train = np_utils.to_categorical(y_train,nclases)\n",
    "y_test = np_utils.to_categorical(y_test,nclases)\n",
    "\n",
    "y_train[:5]"
   ]
  },
  {
   "cell_type": "markdown",
   "metadata": {},
   "source": [
    "Finalmente, podemos visualizar un ejemplo de imagen dentro del dataset:"
   ]
  },
  {
   "cell_type": "code",
   "execution_count": 7,
   "metadata": {
    "collapsed": false,
    "jupyter": {
     "outputs_hidden": false
    }
   },
   "outputs": [
    {
     "data": {
      "text/plain": [
       "(-0.5, 27.5, 27.5, -0.5)"
      ]
     },
     "execution_count": 7,
     "metadata": {},
     "output_type": "execute_result"
    },
    {
     "data": {
      "image/png": "[encoded data removed]",
      "text/plain": [
       "<Figure size 432x288 with 1 Axes>"
      ]
     },
     "metadata": {
      "needs_background": "light"
     },
     "output_type": "display_data"
    }
   ],
   "source": [
    "nimagen = 100\n",
    "plt.imshow(x_train[nimagen,:].reshape(28,28), cmap='gray_r')\n",
    "plt.title('Imagen ejemplo - Categoría: ' + str(np.argmax(y_train[nimagen])))\n",
    "plt.axis('off')"
   ]
  },
  {
   "cell_type": "markdown",
   "metadata": {},
   "source": [
    "Por defecto, Keras requiere cada dato de entrada en el formato nimagenes x nfilas x ncolumnas x ncanales, donde ncanales = 1 por ser imágenes en escala de gris. Se debe modificar el tamaño de *x_train* y *x_test* para cumplir con este requerimiento:"
   ]
  },
  {
   "cell_type": "code",
   "execution_count": 8,
   "metadata": {},
   "outputs": [
    {
     "name": "stdout",
     "output_type": "stream",
     "text": [
      "(60000, 28, 28, 1)\n",
      "(10000, 28, 28, 1)\n"
     ]
    }
   ],
   "source": [
    "x_train = x_train.reshape(60000,28,28,1)\n",
    "x_test = x_test.reshape(10000,28,28,1)\n",
    "\n",
    "print(x_train.shape)\n",
    "print(x_test.shape)"
   ]
  },
  {
   "cell_type": "markdown",
   "metadata": {},
   "source": [
    "### 3.3 - Creación del modelo\n",
    "\n",
    "En la siguiente tabla se resumen las características de cada capa a implementar:\n",
    "    \n",
    "| **Capa**          | **Características**                            |\n",
    "|-------------------|------------------------------------------------|\n",
    "| CONV 1            | 6 filtros, 5x5, p=0, s=1, activación: ReLU     |\n",
    "| MAX-POOLING 1     | 6 filtros, 2x2, p=0, s=2, activación: Ninguna  |\n",
    "| CONV 2            | 16 filtros, 5x5, p=0, s=1, activación: ReLU    |\n",
    "| MAX-POOLING 2     | 16 filtros, 2x2, p=0, s=2, activación: Ninguna |\n",
    "| FLATTEN           | Simplemente convierte un volumen en un vector  |\n",
    "| FULLY CONNECTED 1 | 120 neuronas, activación: ReLU                 |\n",
    "| FULLY CONNECTED 2 | 84 neuronas, activación: ReLU                  |\n",
    "| SALIDA            | 10 categorías, activación: softmax             |\n",
    "\n"
   ]
  },
  {
   "cell_type": "markdown",
   "metadata": {},
   "source": [
    "Creemos el contenedor del modelo usando *Sequential()*:"
   ]
  },
  {
   "cell_type": "code",
   "execution_count": 9,
   "metadata": {},
   "outputs": [],
   "source": [
    "modelo = Sequential()"
   ]
  },
  {
   "cell_type": "markdown",
   "metadata": {},
   "source": [
    "Y añadimos, de forma secuencial, las diferentes capas de la red convolucional. En particular, usamos *Conv2D* para las capas convolucionales y *MaxPooling2D* para el *max-pooling*, junto con *Flatten* y *Dense* para la etapa de clasificación con redes neuronales y la capa de salida:"
   ]
  },
  {
   "cell_type": "code",
   "execution_count": 10,
   "metadata": {},
   "outputs": [],
   "source": [
    "# CONV1 Y MAX-POOLING1\n",
    "modelo.add(\n",
    "    Conv2D(filters=6, kernel_size=(5,5), activation='relu', input_shape=(28,28,1))\n",
    ")\n",
    "modelo.add(\n",
    "    MaxPooling2D(pool_size=(2,2))\n",
    ")\n",
    "\n",
    "# CONV2 Y MAX-POOLING2\n",
    "modelo.add(\n",
    "    Conv2D(filters=16, kernel_size=(5,5), activation='relu')\n",
    ")\n",
    "modelo.add(\n",
    "    MaxPooling2D(pool_size=(2,2))\n",
    ")\n",
    "\n",
    "# Aplanar, FC1, FC2 y salida\n",
    "modelo.add(\n",
    "    Flatten()\n",
    ")\n",
    "modelo.add(\n",
    "    Dense(120,activation='relu')\n",
    ")\n",
    "modelo.add(\n",
    "    Dense(84,activation='relu')\n",
    ")\n",
    "modelo.add(\n",
    "    Dense(nclases,activation='softmax')\n",
    ")"
   ]
  },
  {
   "cell_type": "code",
   "execution_count": 11,
   "metadata": {},
   "outputs": [
    {
     "name": "stdout",
     "output_type": "stream",
     "text": [
      "Model: \"sequential_1\"\n",
      "_________________________________________________________________\n",
      "Layer (type)                 Output Shape              Param #   \n",
      "=================================================================\n",
      "conv2d_1 (Conv2D)            (None, 24, 24, 6)         156       \n",
      "_________________________________________________________________\n",
      "max_pooling2d_1 (MaxPooling2 (None, 12, 12, 6)         0         \n",
      "_________________________________________________________________\n",
      "conv2d_2 (Conv2D)            (None, 8, 8, 16)          2416      \n",
      "_________________________________________________________________\n",
      "max_pooling2d_2 (MaxPooling2 (None, 4, 4, 16)          0         \n",
      "_________________________________________________________________\n",
      "flatten_1 (Flatten)          (None, 256)               0         \n",
      "_________________________________________________________________\n",
      "dense_1 (Dense)              (None, 120)               30840     \n",
      "_________________________________________________________________\n",
      "dense_2 (Dense)              (None, 84)                10164     \n",
      "_________________________________________________________________\n",
      "dense_3 (Dense)              (None, 10)                850       \n",
      "=================================================================\n",
      "Total params: 44,426\n",
      "Trainable params: 44,426\n",
      "Non-trainable params: 0\n",
      "_________________________________________________________________\n"
     ]
    }
   ],
   "source": [
    "modelo.summary()"
   ]
  },
  {
   "cell_type": "markdown",
   "metadata": {},
   "source": [
    "### 3.4 - Compilación del modelo\n",
    "\n",
    "En esta etapa definimos el optimizador a usar (gradiente descendente, tasa de aprendizaje = 0.1), así como la función de error (entropía cruzada) y la métrica de desempeño (precisión):"
   ]
  },
  {
   "cell_type": "code",
   "execution_count": 12,
   "metadata": {},
   "outputs": [],
   "source": [
    "sgd = SGD(lr=0.1)\n",
    "modelo.compile(loss='categorical_crossentropy', optimizer=sgd, metrics=['accuracy'])"
   ]
  },
  {
   "cell_type": "markdown",
   "metadata": {},
   "source": [
    "### 3.5 - Entrenamiento\n",
    "\n",
    "Realicemos el entrenamiento usando 10 iteraciones, una tasa de aprendizaje de 0.1 y un tamaño de lote (*batch_size*) de 128:"
   ]
  },
  {
   "cell_type": "code",
   "execution_count": 13,
   "metadata": {
    "collapsed": false,
    "jupyter": {
     "outputs_hidden": false
    }
   },
   "outputs": [
    {
     "name": "stdout",
     "output_type": "stream",
     "text": [
      "Train on 60000 samples, validate on 10000 samples\n",
      "Epoch 1/10\n",
      "60000/60000 [==============================] - 16s 269us/step - loss: 0.3641 - accuracy: 0.8858 - val_loss: 0.1117 - val_accuracy: 0.9630\n",
      "Epoch 2/10\n",
      "60000/60000 [==============================] - 16s 261us/step - loss: 0.0913 - accuracy: 0.9717 - val_loss: 0.0630 - val_accuracy: 0.9806\n",
      "Epoch 3/10\n",
      "60000/60000 [==============================] - 16s 259us/step - loss: 0.0665 - accuracy: 0.9786 - val_loss: 0.0534 - val_accuracy: 0.9818\n",
      "Epoch 4/10\n",
      "60000/60000 [==============================] - 16s 270us/step - loss: 0.0507 - accuracy: 0.9841 - val_loss: 0.0596 - val_accuracy: 0.9808\n",
      "Epoch 5/10\n",
      "60000/60000 [==============================] - 16s 263us/step - loss: 0.0422 - accuracy: 0.9866 - val_loss: 0.0394 - val_accuracy: 0.9869\n",
      "Epoch 6/10\n",
      "60000/60000 [==============================] - 16s 261us/step - loss: 0.0370 - accuracy: 0.9880 - val_loss: 0.0409 - val_accuracy: 0.9869\n",
      "Epoch 7/10\n",
      "60000/60000 [==============================] - 16s 262us/step - loss: 0.0320 - accuracy: 0.9895 - val_loss: 0.0393 - val_accuracy: 0.9880\n",
      "Epoch 8/10\n",
      "60000/60000 [==============================] - 16s 262us/step - loss: 0.0284 - accuracy: 0.9908 - val_loss: 0.0349 - val_accuracy: 0.9883\n",
      "Epoch 9/10\n",
      "60000/60000 [==============================] - 16s 263us/step - loss: 0.0242 - accuracy: 0.9922 - val_loss: 0.0398 - val_accuracy: 0.9872\n",
      "Epoch 10/10\n",
      "60000/60000 [==============================] - 16s 266us/step - loss: 0.0224 - accuracy: 0.9927 - val_loss: 0.0331 - val_accuracy: 0.9892\n"
     ]
    },
    {
     "data": {
      "text/plain": [
       "<keras.callbacks.callbacks.History at 0x7f13d287fcd0>"
      ]
     },
     "execution_count": 13,
     "metadata": {},
     "output_type": "execute_result"
    }
   ],
   "source": [
    "nepochs = 10\n",
    "tam_lote = 128\n",
    "modelo.fit(\n",
    "    x_train, y_train,\n",
    "    epochs=nepochs,\n",
    "    batch_size=tam_lote, \n",
    "    verbose=1, \n",
    "    validation_data=(x_test,y_test)\n",
    ")"
   ]
  },
  {
   "cell_type": "markdown",
   "metadata": {},
   "source": [
    "Vemos que en la última iteración, el modelo alcanza una precisión de 99.3% para el set de entrenamiento y del 98.6% para el set de validación. Esta precisión nos indica que, en promedio, de cada 100 datos, aproximadamente 1 es clasificado incorrectamente. !Nada mal!"
   ]
  },
  {
   "cell_type": "markdown",
   "metadata": {},
   "source": [
    "## 4 - Desempeño del modelo\n",
    "\n",
    "La precisión obtenida anteriormente es una medida de desempeño global de la red convolucional, pero no nos permite verificar si algunos dígitos resultan mejor clasificados que otros. Para analizar en detalle este comportamiento, podemos usar la matriz de confusión:"
   ]
  },
  {
   "cell_type": "code",
   "execution_count": 15,
   "metadata": {
    "collapsed": false,
    "jupyter": {
     "outputs_hidden": false
    }
   },
   "outputs": [
    {
     "data": {
      "image/png": "[encoded data removed]",
      "text/plain": [
       "<Figure size 432x288 with 1 Axes>"
      ]
     },
     "metadata": {
      "needs_background": "light"
     },
     "output_type": "display_data"
    }
   ],
   "source": [
    "from matriz_confusion import graficar_matriz_de_confusion\n",
    "\n",
    "y_pred = modelo.predict_classes(x_test)\n",
    "y_ref = np.argmax(y_test,axis=1)\n",
    "etiquetas = ['0','1','2','3','4','5','6','7','8','9']\n",
    "graficar_matriz_de_confusion(y_ref, y_pred, etiquetas)"
   ]
  },
  {
   "cell_type": "code",
   "execution_count": null,
   "metadata": {},
   "outputs": [],
   "source": []
  },
  {
   "cell_type": "code",
   "execution_count": null,
   "metadata": {},
   "outputs": [],
   "source": []
  }
 ],
 "metadata": {
  "kernelspec": {
   "display_name": "Python 3",
   "language": "python",
   "name": "python3"
  },
  "language_info": {
   "codemirror_mode": {
    "name": "ipython",
    "version": 3
   },
   "file_extension": ".py",
   "mimetype": "text/x-python",
   "name": "python",
   "nbconvert_exporter": "python",
   "pygments_lexer": "ipython3",
   "version": "3.7.4"
  }
 },
 "nbformat": 4,
 "nbformat_minor": 4
}
