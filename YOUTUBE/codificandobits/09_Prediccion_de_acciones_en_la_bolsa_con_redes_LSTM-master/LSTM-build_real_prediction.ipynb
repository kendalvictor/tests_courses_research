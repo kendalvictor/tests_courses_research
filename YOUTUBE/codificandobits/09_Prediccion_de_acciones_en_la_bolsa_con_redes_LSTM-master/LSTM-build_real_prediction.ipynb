{
 "cells": [
  {
   "cell_type": "code",
   "execution_count": 1,
   "metadata": {},
   "outputs": [
    {
     "name": "stderr",
     "output_type": "stream",
     "text": [
      "Using TensorFlow backend.\n"
     ]
    }
   ],
   "source": [
    "import os\n",
    "import numpy as np\n",
    "import random as rn\n",
    "\n",
    "import tensorflow as tf\n",
    "from keras import backend as k\n",
    "from datetime import timedelta, date\n",
    "\n",
    "SEED = 29082013\n",
    "tf.random.set_seed(SEED)\n",
    "os.environ['PYTHONHASHSEED'] = str(SEED)\n",
    "np.random.seed(SEED)\n",
    "rn.seed(SEED)\n",
    "\n",
    "import matplotlib.pyplot as plt\n",
    "import pandas as pd\n",
    "\n",
    "from sklearn.preprocessing import MinMaxScaler\n",
    "from keras.models import Sequential\n",
    "from keras.layers import Dense, LSTM"
   ]
  },
  {
   "cell_type": "code",
   "execution_count": 2,
   "metadata": {},
   "outputs": [
    {
     "name": "stdout",
     "output_type": "stream",
     "text": [
      "2015-12-20\n",
      "2015-12-21\n",
      "2015-12-22\n",
      "2015-12-23\n",
      "2015-12-24\n",
      "2015-12-25\n",
      "2015-12-26\n",
      "2015-12-27\n",
      "2015-12-28\n",
      "2015-12-29\n",
      "2015-12-30\n",
      "2015-12-31\n",
      "2016-01-01\n",
      "2016-01-02\n",
      "2016-01-03\n",
      "2016-01-04\n",
      "2016-01-05\n",
      "2016-01-06\n",
      "2016-01-07\n",
      "2016-01-08\n",
      "2016-01-09\n",
      "2016-01-10\n",
      "2016-01-11\n"
     ]
    }
   ],
   "source": [
    "from datetime import timedelta, date\n",
    "\n",
    "def daterange(date1, date2):\n",
    "    for n in range(int ((date2 - date1).days) + 1):\n",
    "        yield date1 + timedelta(n)\n",
    "        \n",
    "start_dt = date(2015, 12, 20)\n",
    "end_dt = date(2016, 1, 11)\n",
    "for dt in daterange(start_dt, end_dt):\n",
    "    print(dt.strftime(\"%Y-%m-%d\"))"
   ]
  },
  {
   "cell_type": "markdown",
   "metadata": {},
   "source": [
    "### Load data"
   ]
  },
  {
   "cell_type": "code",
   "execution_count": 3,
   "metadata": {},
   "outputs": [
    {
     "data": {
      "text/html": [
       "<div>\n",
       "<style scoped>\n",
       "    .dataframe tbody tr th:only-of-type {\n",
       "        vertical-align: middle;\n",
       "    }\n",
       "\n",
       "    .dataframe tbody tr th {\n",
       "        vertical-align: top;\n",
       "    }\n",
       "\n",
       "    .dataframe thead th {\n",
       "        text-align: right;\n",
       "    }\n",
       "</style>\n",
       "<table border=\"1\" class=\"dataframe\">\n",
       "  <thead>\n",
       "    <tr style=\"text-align: right;\">\n",
       "      <th></th>\n",
       "      <th>Date</th>\n",
       "      <th>Open</th>\n",
       "      <th>High</th>\n",
       "      <th>Low</th>\n",
       "      <th>Close</th>\n",
       "      <th>Volume</th>\n",
       "      <th>Name</th>\n",
       "    </tr>\n",
       "  </thead>\n",
       "  <tbody>\n",
       "    <tr>\n",
       "      <td>0</td>\n",
       "      <td>2006-01-03</td>\n",
       "      <td>10.34</td>\n",
       "      <td>10.68</td>\n",
       "      <td>10.32</td>\n",
       "      <td>10.68</td>\n",
       "      <td>201853036</td>\n",
       "      <td>AAPL</td>\n",
       "    </tr>\n",
       "  </tbody>\n",
       "</table>\n",
       "</div>"
      ],
      "text/plain": [
       "        Date   Open   High    Low  Close     Volume  Name\n",
       "0 2006-01-03  10.34  10.68  10.32  10.68  201853036  AAPL"
      ]
     },
     "metadata": {},
     "output_type": "display_data"
    },
    {
     "data": {
      "text/html": [
       "<div>\n",
       "<style scoped>\n",
       "    .dataframe tbody tr th:only-of-type {\n",
       "        vertical-align: middle;\n",
       "    }\n",
       "\n",
       "    .dataframe tbody tr th {\n",
       "        vertical-align: top;\n",
       "    }\n",
       "\n",
       "    .dataframe thead th {\n",
       "        text-align: right;\n",
       "    }\n",
       "</style>\n",
       "<table border=\"1\" class=\"dataframe\">\n",
       "  <thead>\n",
       "    <tr style=\"text-align: right;\">\n",
       "      <th></th>\n",
       "      <th>Date</th>\n",
       "      <th>Open</th>\n",
       "      <th>High</th>\n",
       "      <th>Low</th>\n",
       "      <th>Close</th>\n",
       "      <th>Volume</th>\n",
       "      <th>Name</th>\n",
       "    </tr>\n",
       "  </thead>\n",
       "  <tbody>\n",
       "    <tr>\n",
       "      <td>3018</td>\n",
       "      <td>2017-12-29</td>\n",
       "      <td>170.52</td>\n",
       "      <td>170.59</td>\n",
       "      <td>169.22</td>\n",
       "      <td>169.23</td>\n",
       "      <td>25999922</td>\n",
       "      <td>AAPL</td>\n",
       "    </tr>\n",
       "  </tbody>\n",
       "</table>\n",
       "</div>"
      ],
      "text/plain": [
       "           Date    Open    High     Low   Close    Volume  Name\n",
       "3018 2017-12-29  170.52  170.59  169.22  169.23  25999922  AAPL"
      ]
     },
     "metadata": {},
     "output_type": "display_data"
    }
   ],
   "source": [
    "dataset = pd.read_csv(\n",
    "    'AAPL_2006-01-01_to_2018-01-01.csv', \n",
    "    parse_dates=['Date']\n",
    ").sort_values(\n",
    "    by=['Date'], ascending=True\n",
    ")\n",
    "\n",
    "display(dataset.head(1))\n",
    "display(dataset.tail(1))"
   ]
  },
  {
   "cell_type": "markdown",
   "metadata": {},
   "source": [
    "### DETECCION DE DIAS SIN DATOS"
   ]
  },
  {
   "cell_type": "code",
   "execution_count": 4,
   "metadata": {},
   "outputs": [
    {
     "data": {
      "text/plain": [
       "(4378, (3019, 7), 4379)"
      ]
     },
     "execution_count": 4,
     "metadata": {},
     "output_type": "execute_result"
    }
   ],
   "source": [
    "start_dt = date(2006, 1, 3)\n",
    "end_dt = date(2017, 12, 29)\n",
    "\n",
    "list_complete_date = [\n",
    "    (start_dt + timedelta(n)).strftime(\"%Y-%m-%d\") for n in range(int ((end_dt - start_dt).days) + 1)\n",
    "]\n",
    "\n",
    "(end_dt - start_dt).days, dataset.shape, len(list_complete_date)"
   ]
  },
  {
   "cell_type": "code",
   "execution_count": 5,
   "metadata": {},
   "outputs": [
    {
     "data": {
      "text/html": [
       "<div>\n",
       "<style scoped>\n",
       "    .dataframe tbody tr th:only-of-type {\n",
       "        vertical-align: middle;\n",
       "    }\n",
       "\n",
       "    .dataframe tbody tr th {\n",
       "        vertical-align: top;\n",
       "    }\n",
       "\n",
       "    .dataframe thead th {\n",
       "        text-align: right;\n",
       "    }\n",
       "</style>\n",
       "<table border=\"1\" class=\"dataframe\">\n",
       "  <thead>\n",
       "    <tr style=\"text-align: right;\">\n",
       "      <th></th>\n",
       "      <th>Date</th>\n",
       "      <th>year</th>\n",
       "      <th>month</th>\n",
       "      <th>weekday</th>\n",
       "      <th>week</th>\n",
       "      <th>Open</th>\n",
       "      <th>High</th>\n",
       "      <th>Low</th>\n",
       "      <th>Close</th>\n",
       "      <th>Volume</th>\n",
       "      <th>Name</th>\n",
       "    </tr>\n",
       "  </thead>\n",
       "  <tbody>\n",
       "    <tr>\n",
       "      <td>0</td>\n",
       "      <td>2006-01-03</td>\n",
       "      <td>2006</td>\n",
       "      <td>1</td>\n",
       "      <td>1</td>\n",
       "      <td>1</td>\n",
       "      <td>10.34</td>\n",
       "      <td>10.68</td>\n",
       "      <td>10.32</td>\n",
       "      <td>10.68</td>\n",
       "      <td>201853036.0</td>\n",
       "      <td>AAPL</td>\n",
       "    </tr>\n",
       "    <tr>\n",
       "      <td>1</td>\n",
       "      <td>2006-01-04</td>\n",
       "      <td>2006</td>\n",
       "      <td>1</td>\n",
       "      <td>2</td>\n",
       "      <td>1</td>\n",
       "      <td>10.73</td>\n",
       "      <td>10.85</td>\n",
       "      <td>10.64</td>\n",
       "      <td>10.71</td>\n",
       "      <td>155225609.0</td>\n",
       "      <td>AAPL</td>\n",
       "    </tr>\n",
       "    <tr>\n",
       "      <td>2</td>\n",
       "      <td>2006-01-05</td>\n",
       "      <td>2006</td>\n",
       "      <td>1</td>\n",
       "      <td>3</td>\n",
       "      <td>1</td>\n",
       "      <td>10.69</td>\n",
       "      <td>10.70</td>\n",
       "      <td>10.54</td>\n",
       "      <td>10.63</td>\n",
       "      <td>112396081.0</td>\n",
       "      <td>AAPL</td>\n",
       "    </tr>\n",
       "    <tr>\n",
       "      <td>3</td>\n",
       "      <td>2006-01-06</td>\n",
       "      <td>2006</td>\n",
       "      <td>1</td>\n",
       "      <td>4</td>\n",
       "      <td>1</td>\n",
       "      <td>10.75</td>\n",
       "      <td>10.96</td>\n",
       "      <td>10.65</td>\n",
       "      <td>10.90</td>\n",
       "      <td>176139334.0</td>\n",
       "      <td>AAPL</td>\n",
       "    </tr>\n",
       "    <tr>\n",
       "      <td>4</td>\n",
       "      <td>2006-01-07</td>\n",
       "      <td>2006</td>\n",
       "      <td>1</td>\n",
       "      <td>5</td>\n",
       "      <td>1</td>\n",
       "      <td>NaN</td>\n",
       "      <td>NaN</td>\n",
       "      <td>NaN</td>\n",
       "      <td>NaN</td>\n",
       "      <td>NaN</td>\n",
       "      <td>NaN</td>\n",
       "    </tr>\n",
       "    <tr>\n",
       "      <td>5</td>\n",
       "      <td>2006-01-08</td>\n",
       "      <td>2006</td>\n",
       "      <td>1</td>\n",
       "      <td>6</td>\n",
       "      <td>1</td>\n",
       "      <td>NaN</td>\n",
       "      <td>NaN</td>\n",
       "      <td>NaN</td>\n",
       "      <td>NaN</td>\n",
       "      <td>NaN</td>\n",
       "      <td>NaN</td>\n",
       "    </tr>\n",
       "    <tr>\n",
       "      <td>6</td>\n",
       "      <td>2006-01-09</td>\n",
       "      <td>2006</td>\n",
       "      <td>1</td>\n",
       "      <td>0</td>\n",
       "      <td>2</td>\n",
       "      <td>10.96</td>\n",
       "      <td>11.03</td>\n",
       "      <td>10.82</td>\n",
       "      <td>10.86</td>\n",
       "      <td>168861224.0</td>\n",
       "      <td>AAPL</td>\n",
       "    </tr>\n",
       "  </tbody>\n",
       "</table>\n",
       "</div>"
      ],
      "text/plain": [
       "        Date  year  month  weekday  week   Open   High    Low  Close  \\\n",
       "0 2006-01-03  2006      1        1     1  10.34  10.68  10.32  10.68   \n",
       "1 2006-01-04  2006      1        2     1  10.73  10.85  10.64  10.71   \n",
       "2 2006-01-05  2006      1        3     1  10.69  10.70  10.54  10.63   \n",
       "3 2006-01-06  2006      1        4     1  10.75  10.96  10.65  10.90   \n",
       "4 2006-01-07  2006      1        5     1    NaN    NaN    NaN    NaN   \n",
       "5 2006-01-08  2006      1        6     1    NaN    NaN    NaN    NaN   \n",
       "6 2006-01-09  2006      1        0     2  10.96  11.03  10.82  10.86   \n",
       "\n",
       "        Volume  Name  \n",
       "0  201853036.0  AAPL  \n",
       "1  155225609.0  AAPL  \n",
       "2  112396081.0  AAPL  \n",
       "3  176139334.0  AAPL  \n",
       "4          NaN   NaN  \n",
       "5          NaN   NaN  \n",
       "6  168861224.0  AAPL  "
      ]
     },
     "metadata": {},
     "output_type": "display_data"
    },
    {
     "data": {
      "text/html": [
       "<div>\n",
       "<style scoped>\n",
       "    .dataframe tbody tr th:only-of-type {\n",
       "        vertical-align: middle;\n",
       "    }\n",
       "\n",
       "    .dataframe tbody tr th {\n",
       "        vertical-align: top;\n",
       "    }\n",
       "\n",
       "    .dataframe thead th {\n",
       "        text-align: right;\n",
       "    }\n",
       "</style>\n",
       "<table border=\"1\" class=\"dataframe\">\n",
       "  <thead>\n",
       "    <tr style=\"text-align: right;\">\n",
       "      <th></th>\n",
       "      <th>Date</th>\n",
       "      <th>year</th>\n",
       "      <th>month</th>\n",
       "      <th>weekday</th>\n",
       "      <th>week</th>\n",
       "      <th>Open</th>\n",
       "      <th>High</th>\n",
       "      <th>Low</th>\n",
       "      <th>Close</th>\n",
       "      <th>Volume</th>\n",
       "      <th>Name</th>\n",
       "    </tr>\n",
       "  </thead>\n",
       "  <tbody>\n",
       "    <tr>\n",
       "      <td>4372</td>\n",
       "      <td>2017-12-23</td>\n",
       "      <td>2017</td>\n",
       "      <td>12</td>\n",
       "      <td>5</td>\n",
       "      <td>51</td>\n",
       "      <td>NaN</td>\n",
       "      <td>NaN</td>\n",
       "      <td>NaN</td>\n",
       "      <td>NaN</td>\n",
       "      <td>NaN</td>\n",
       "      <td>NaN</td>\n",
       "    </tr>\n",
       "    <tr>\n",
       "      <td>4373</td>\n",
       "      <td>2017-12-24</td>\n",
       "      <td>2017</td>\n",
       "      <td>12</td>\n",
       "      <td>6</td>\n",
       "      <td>51</td>\n",
       "      <td>NaN</td>\n",
       "      <td>NaN</td>\n",
       "      <td>NaN</td>\n",
       "      <td>NaN</td>\n",
       "      <td>NaN</td>\n",
       "      <td>NaN</td>\n",
       "    </tr>\n",
       "    <tr>\n",
       "      <td>4374</td>\n",
       "      <td>2017-12-25</td>\n",
       "      <td>2017</td>\n",
       "      <td>12</td>\n",
       "      <td>0</td>\n",
       "      <td>52</td>\n",
       "      <td>NaN</td>\n",
       "      <td>NaN</td>\n",
       "      <td>NaN</td>\n",
       "      <td>NaN</td>\n",
       "      <td>NaN</td>\n",
       "      <td>NaN</td>\n",
       "    </tr>\n",
       "    <tr>\n",
       "      <td>4375</td>\n",
       "      <td>2017-12-26</td>\n",
       "      <td>2017</td>\n",
       "      <td>12</td>\n",
       "      <td>1</td>\n",
       "      <td>52</td>\n",
       "      <td>170.80</td>\n",
       "      <td>171.47</td>\n",
       "      <td>169.68</td>\n",
       "      <td>170.57</td>\n",
       "      <td>33185536.0</td>\n",
       "      <td>AAPL</td>\n",
       "    </tr>\n",
       "    <tr>\n",
       "      <td>4376</td>\n",
       "      <td>2017-12-27</td>\n",
       "      <td>2017</td>\n",
       "      <td>12</td>\n",
       "      <td>2</td>\n",
       "      <td>52</td>\n",
       "      <td>170.10</td>\n",
       "      <td>170.78</td>\n",
       "      <td>169.71</td>\n",
       "      <td>170.60</td>\n",
       "      <td>21498213.0</td>\n",
       "      <td>AAPL</td>\n",
       "    </tr>\n",
       "    <tr>\n",
       "      <td>4377</td>\n",
       "      <td>2017-12-28</td>\n",
       "      <td>2017</td>\n",
       "      <td>12</td>\n",
       "      <td>3</td>\n",
       "      <td>52</td>\n",
       "      <td>171.00</td>\n",
       "      <td>171.85</td>\n",
       "      <td>170.48</td>\n",
       "      <td>171.08</td>\n",
       "      <td>16480187.0</td>\n",
       "      <td>AAPL</td>\n",
       "    </tr>\n",
       "    <tr>\n",
       "      <td>4378</td>\n",
       "      <td>2017-12-29</td>\n",
       "      <td>2017</td>\n",
       "      <td>12</td>\n",
       "      <td>4</td>\n",
       "      <td>52</td>\n",
       "      <td>170.52</td>\n",
       "      <td>170.59</td>\n",
       "      <td>169.22</td>\n",
       "      <td>169.23</td>\n",
       "      <td>25999922.0</td>\n",
       "      <td>AAPL</td>\n",
       "    </tr>\n",
       "  </tbody>\n",
       "</table>\n",
       "</div>"
      ],
      "text/plain": [
       "           Date  year  month  weekday  week    Open    High     Low   Close  \\\n",
       "4372 2017-12-23  2017     12        5    51     NaN     NaN     NaN     NaN   \n",
       "4373 2017-12-24  2017     12        6    51     NaN     NaN     NaN     NaN   \n",
       "4374 2017-12-25  2017     12        0    52     NaN     NaN     NaN     NaN   \n",
       "4375 2017-12-26  2017     12        1    52  170.80  171.47  169.68  170.57   \n",
       "4376 2017-12-27  2017     12        2    52  170.10  170.78  169.71  170.60   \n",
       "4377 2017-12-28  2017     12        3    52  171.00  171.85  170.48  171.08   \n",
       "4378 2017-12-29  2017     12        4    52  170.52  170.59  169.22  169.23   \n",
       "\n",
       "          Volume  Name  \n",
       "4372         NaN   NaN  \n",
       "4373         NaN   NaN  \n",
       "4374         NaN   NaN  \n",
       "4375  33185536.0  AAPL  \n",
       "4376  21498213.0  AAPL  \n",
       "4377  16480187.0  AAPL  \n",
       "4378  25999922.0  AAPL  "
      ]
     },
     "metadata": {},
     "output_type": "display_data"
    }
   ],
   "source": [
    "df_date = pd.DataFrame(list_complete_date)\n",
    "df_date.columns = ['Date']\n",
    "df_date['Date'] = pd.to_datetime(df_date['Date'])\n",
    "df_date['year'] = df_date['Date'].dt.year\n",
    "df_date['month'] = df_date['Date'].dt.month\n",
    "df_date['weekday'] = df_date['Date'].dt.weekday\n",
    "df_date['week'] = df_date['Date'].dt.week\n",
    "\n",
    "dataset = df_date.merge(dataset, on='Date', how='left')\n",
    "\n",
    "display(dataset.head(7))\n",
    "display(dataset.tail(7))"
   ]
  },
  {
   "cell_type": "code",
   "execution_count": 6,
   "metadata": {},
   "outputs": [
    {
     "data": {
      "text/html": [
       "<div>\n",
       "<style scoped>\n",
       "    .dataframe tbody tr th:only-of-type {\n",
       "        vertical-align: middle;\n",
       "    }\n",
       "\n",
       "    .dataframe tbody tr th {\n",
       "        vertical-align: top;\n",
       "    }\n",
       "\n",
       "    .dataframe thead th {\n",
       "        text-align: right;\n",
       "    }\n",
       "</style>\n",
       "<table border=\"1\" class=\"dataframe\">\n",
       "  <thead>\n",
       "    <tr style=\"text-align: right;\">\n",
       "      <th></th>\n",
       "      <th>year</th>\n",
       "      <th>month</th>\n",
       "      <th>weekday</th>\n",
       "      <th>week</th>\n",
       "      <th>Open</th>\n",
       "      <th>High</th>\n",
       "      <th>Low</th>\n",
       "      <th>Close</th>\n",
       "      <th>Volume</th>\n",
       "      <th>Name</th>\n",
       "      <th>High_month_median</th>\n",
       "    </tr>\n",
       "    <tr>\n",
       "      <th>Date</th>\n",
       "      <th></th>\n",
       "      <th></th>\n",
       "      <th></th>\n",
       "      <th></th>\n",
       "      <th></th>\n",
       "      <th></th>\n",
       "      <th></th>\n",
       "      <th></th>\n",
       "      <th></th>\n",
       "      <th></th>\n",
       "      <th></th>\n",
       "    </tr>\n",
       "  </thead>\n",
       "  <tbody>\n",
       "    <tr>\n",
       "      <td>2006-01-03</td>\n",
       "      <td>2006</td>\n",
       "      <td>1</td>\n",
       "      <td>1</td>\n",
       "      <td>1</td>\n",
       "      <td>10.34</td>\n",
       "      <td>10.68</td>\n",
       "      <td>10.32</td>\n",
       "      <td>10.68</td>\n",
       "      <td>201853036.0</td>\n",
       "      <td>AAPL</td>\n",
       "      <td>11.21</td>\n",
       "    </tr>\n",
       "    <tr>\n",
       "      <td>2006-01-04</td>\n",
       "      <td>2006</td>\n",
       "      <td>1</td>\n",
       "      <td>2</td>\n",
       "      <td>1</td>\n",
       "      <td>10.73</td>\n",
       "      <td>10.85</td>\n",
       "      <td>10.64</td>\n",
       "      <td>10.71</td>\n",
       "      <td>155225609.0</td>\n",
       "      <td>AAPL</td>\n",
       "      <td>11.21</td>\n",
       "    </tr>\n",
       "    <tr>\n",
       "      <td>2006-01-05</td>\n",
       "      <td>2006</td>\n",
       "      <td>1</td>\n",
       "      <td>3</td>\n",
       "      <td>1</td>\n",
       "      <td>10.69</td>\n",
       "      <td>10.70</td>\n",
       "      <td>10.54</td>\n",
       "      <td>10.63</td>\n",
       "      <td>112396081.0</td>\n",
       "      <td>AAPL</td>\n",
       "      <td>11.21</td>\n",
       "    </tr>\n",
       "    <tr>\n",
       "      <td>2006-01-06</td>\n",
       "      <td>2006</td>\n",
       "      <td>1</td>\n",
       "      <td>4</td>\n",
       "      <td>1</td>\n",
       "      <td>10.75</td>\n",
       "      <td>10.96</td>\n",
       "      <td>10.65</td>\n",
       "      <td>10.90</td>\n",
       "      <td>176139334.0</td>\n",
       "      <td>AAPL</td>\n",
       "      <td>11.21</td>\n",
       "    </tr>\n",
       "    <tr>\n",
       "      <td>2006-01-07</td>\n",
       "      <td>2006</td>\n",
       "      <td>1</td>\n",
       "      <td>5</td>\n",
       "      <td>1</td>\n",
       "      <td>NaN</td>\n",
       "      <td>11.21</td>\n",
       "      <td>NaN</td>\n",
       "      <td>NaN</td>\n",
       "      <td>NaN</td>\n",
       "      <td>NaN</td>\n",
       "      <td>11.21</td>\n",
       "    </tr>\n",
       "    <tr>\n",
       "      <td>2006-01-08</td>\n",
       "      <td>2006</td>\n",
       "      <td>1</td>\n",
       "      <td>6</td>\n",
       "      <td>1</td>\n",
       "      <td>NaN</td>\n",
       "      <td>11.21</td>\n",
       "      <td>NaN</td>\n",
       "      <td>NaN</td>\n",
       "      <td>NaN</td>\n",
       "      <td>NaN</td>\n",
       "      <td>11.21</td>\n",
       "    </tr>\n",
       "    <tr>\n",
       "      <td>2006-01-09</td>\n",
       "      <td>2006</td>\n",
       "      <td>1</td>\n",
       "      <td>0</td>\n",
       "      <td>2</td>\n",
       "      <td>10.96</td>\n",
       "      <td>11.03</td>\n",
       "      <td>10.82</td>\n",
       "      <td>10.86</td>\n",
       "      <td>168861224.0</td>\n",
       "      <td>AAPL</td>\n",
       "      <td>11.21</td>\n",
       "    </tr>\n",
       "    <tr>\n",
       "      <td>2006-01-10</td>\n",
       "      <td>2006</td>\n",
       "      <td>1</td>\n",
       "      <td>1</td>\n",
       "      <td>2</td>\n",
       "      <td>10.89</td>\n",
       "      <td>11.70</td>\n",
       "      <td>10.83</td>\n",
       "      <td>11.55</td>\n",
       "      <td>570088246.0</td>\n",
       "      <td>AAPL</td>\n",
       "      <td>11.21</td>\n",
       "    </tr>\n",
       "    <tr>\n",
       "      <td>2006-01-11</td>\n",
       "      <td>2006</td>\n",
       "      <td>1</td>\n",
       "      <td>2</td>\n",
       "      <td>2</td>\n",
       "      <td>11.98</td>\n",
       "      <td>12.11</td>\n",
       "      <td>11.80</td>\n",
       "      <td>11.99</td>\n",
       "      <td>373548882.0</td>\n",
       "      <td>AAPL</td>\n",
       "      <td>11.21</td>\n",
       "    </tr>\n",
       "    <tr>\n",
       "      <td>2006-01-12</td>\n",
       "      <td>2006</td>\n",
       "      <td>1</td>\n",
       "      <td>3</td>\n",
       "      <td>2</td>\n",
       "      <td>12.14</td>\n",
       "      <td>12.34</td>\n",
       "      <td>11.95</td>\n",
       "      <td>12.04</td>\n",
       "      <td>320201966.0</td>\n",
       "      <td>AAPL</td>\n",
       "      <td>11.21</td>\n",
       "    </tr>\n",
       "    <tr>\n",
       "      <td>2006-01-13</td>\n",
       "      <td>2006</td>\n",
       "      <td>1</td>\n",
       "      <td>4</td>\n",
       "      <td>2</td>\n",
       "      <td>12.14</td>\n",
       "      <td>12.29</td>\n",
       "      <td>12.09</td>\n",
       "      <td>12.23</td>\n",
       "      <td>194153393.0</td>\n",
       "      <td>AAPL</td>\n",
       "      <td>11.21</td>\n",
       "    </tr>\n",
       "    <tr>\n",
       "      <td>2006-01-14</td>\n",
       "      <td>2006</td>\n",
       "      <td>1</td>\n",
       "      <td>5</td>\n",
       "      <td>2</td>\n",
       "      <td>NaN</td>\n",
       "      <td>11.21</td>\n",
       "      <td>NaN</td>\n",
       "      <td>NaN</td>\n",
       "      <td>NaN</td>\n",
       "      <td>NaN</td>\n",
       "      <td>11.21</td>\n",
       "    </tr>\n",
       "    <tr>\n",
       "      <td>2006-01-15</td>\n",
       "      <td>2006</td>\n",
       "      <td>1</td>\n",
       "      <td>6</td>\n",
       "      <td>2</td>\n",
       "      <td>NaN</td>\n",
       "      <td>11.21</td>\n",
       "      <td>NaN</td>\n",
       "      <td>NaN</td>\n",
       "      <td>NaN</td>\n",
       "      <td>NaN</td>\n",
       "      <td>11.21</td>\n",
       "    </tr>\n",
       "    <tr>\n",
       "      <td>2006-01-16</td>\n",
       "      <td>2006</td>\n",
       "      <td>1</td>\n",
       "      <td>0</td>\n",
       "      <td>3</td>\n",
       "      <td>NaN</td>\n",
       "      <td>11.21</td>\n",
       "      <td>NaN</td>\n",
       "      <td>NaN</td>\n",
       "      <td>NaN</td>\n",
       "      <td>NaN</td>\n",
       "      <td>11.21</td>\n",
       "    </tr>\n",
       "    <tr>\n",
       "      <td>2006-01-17</td>\n",
       "      <td>2006</td>\n",
       "      <td>1</td>\n",
       "      <td>1</td>\n",
       "      <td>3</td>\n",
       "      <td>12.24</td>\n",
       "      <td>12.34</td>\n",
       "      <td>11.98</td>\n",
       "      <td>12.10</td>\n",
       "      <td>209215265.0</td>\n",
       "      <td>AAPL</td>\n",
       "      <td>11.21</td>\n",
       "    </tr>\n",
       "    <tr>\n",
       "      <td>2006-01-18</td>\n",
       "      <td>2006</td>\n",
       "      <td>1</td>\n",
       "      <td>2</td>\n",
       "      <td>3</td>\n",
       "      <td>11.87</td>\n",
       "      <td>12.01</td>\n",
       "      <td>11.69</td>\n",
       "      <td>11.78</td>\n",
       "      <td>303279501.0</td>\n",
       "      <td>AAPL</td>\n",
       "      <td>11.21</td>\n",
       "    </tr>\n",
       "    <tr>\n",
       "      <td>2006-01-19</td>\n",
       "      <td>2006</td>\n",
       "      <td>1</td>\n",
       "      <td>3</td>\n",
       "      <td>3</td>\n",
       "      <td>11.61</td>\n",
       "      <td>11.67</td>\n",
       "      <td>11.25</td>\n",
       "      <td>11.29</td>\n",
       "      <td>424100026.0</td>\n",
       "      <td>AAPL</td>\n",
       "      <td>11.21</td>\n",
       "    </tr>\n",
       "    <tr>\n",
       "      <td>2006-01-20</td>\n",
       "      <td>2006</td>\n",
       "      <td>1</td>\n",
       "      <td>4</td>\n",
       "      <td>3</td>\n",
       "      <td>11.33</td>\n",
       "      <td>11.43</td>\n",
       "      <td>10.83</td>\n",
       "      <td>10.87</td>\n",
       "      <td>284634847.0</td>\n",
       "      <td>AAPL</td>\n",
       "      <td>11.21</td>\n",
       "    </tr>\n",
       "    <tr>\n",
       "      <td>2006-01-21</td>\n",
       "      <td>2006</td>\n",
       "      <td>1</td>\n",
       "      <td>5</td>\n",
       "      <td>3</td>\n",
       "      <td>NaN</td>\n",
       "      <td>11.21</td>\n",
       "      <td>NaN</td>\n",
       "      <td>NaN</td>\n",
       "      <td>NaN</td>\n",
       "      <td>NaN</td>\n",
       "      <td>11.21</td>\n",
       "    </tr>\n",
       "    <tr>\n",
       "      <td>2006-01-22</td>\n",
       "      <td>2006</td>\n",
       "      <td>1</td>\n",
       "      <td>6</td>\n",
       "      <td>3</td>\n",
       "      <td>NaN</td>\n",
       "      <td>11.21</td>\n",
       "      <td>NaN</td>\n",
       "      <td>NaN</td>\n",
       "      <td>NaN</td>\n",
       "      <td>NaN</td>\n",
       "      <td>11.21</td>\n",
       "    </tr>\n",
       "    <tr>\n",
       "      <td>2006-01-23</td>\n",
       "      <td>2006</td>\n",
       "      <td>1</td>\n",
       "      <td>0</td>\n",
       "      <td>4</td>\n",
       "      <td>10.87</td>\n",
       "      <td>11.37</td>\n",
       "      <td>10.86</td>\n",
       "      <td>11.10</td>\n",
       "      <td>264942587.0</td>\n",
       "      <td>AAPL</td>\n",
       "      <td>11.21</td>\n",
       "    </tr>\n",
       "    <tr>\n",
       "      <td>2006-01-24</td>\n",
       "      <td>2006</td>\n",
       "      <td>1</td>\n",
       "      <td>1</td>\n",
       "      <td>4</td>\n",
       "      <td>11.25</td>\n",
       "      <td>11.35</td>\n",
       "      <td>10.82</td>\n",
       "      <td>10.86</td>\n",
       "      <td>285661873.0</td>\n",
       "      <td>AAPL</td>\n",
       "      <td>11.21</td>\n",
       "    </tr>\n",
       "    <tr>\n",
       "      <td>2006-01-25</td>\n",
       "      <td>2006</td>\n",
       "      <td>1</td>\n",
       "      <td>2</td>\n",
       "      <td>4</td>\n",
       "      <td>11.06</td>\n",
       "      <td>11.07</td>\n",
       "      <td>10.46</td>\n",
       "      <td>10.60</td>\n",
       "      <td>319019939.0</td>\n",
       "      <td>AAPL</td>\n",
       "      <td>11.21</td>\n",
       "    </tr>\n",
       "    <tr>\n",
       "      <td>2006-01-26</td>\n",
       "      <td>2006</td>\n",
       "      <td>1</td>\n",
       "      <td>3</td>\n",
       "      <td>4</td>\n",
       "      <td>10.65</td>\n",
       "      <td>10.78</td>\n",
       "      <td>10.28</td>\n",
       "      <td>10.33</td>\n",
       "      <td>295599087.0</td>\n",
       "      <td>AAPL</td>\n",
       "      <td>11.21</td>\n",
       "    </tr>\n",
       "    <tr>\n",
       "      <td>2006-01-27</td>\n",
       "      <td>2006</td>\n",
       "      <td>1</td>\n",
       "      <td>4</td>\n",
       "      <td>4</td>\n",
       "      <td>10.42</td>\n",
       "      <td>10.51</td>\n",
       "      <td>10.16</td>\n",
       "      <td>10.29</td>\n",
       "      <td>238597205.0</td>\n",
       "      <td>AAPL</td>\n",
       "      <td>11.21</td>\n",
       "    </tr>\n",
       "  </tbody>\n",
       "</table>\n",
       "</div>"
      ],
      "text/plain": [
       "            year  month  weekday  week   Open   High    Low  Close  \\\n",
       "Date                                                                 \n",
       "2006-01-03  2006      1        1     1  10.34  10.68  10.32  10.68   \n",
       "2006-01-04  2006      1        2     1  10.73  10.85  10.64  10.71   \n",
       "2006-01-05  2006      1        3     1  10.69  10.70  10.54  10.63   \n",
       "2006-01-06  2006      1        4     1  10.75  10.96  10.65  10.90   \n",
       "2006-01-07  2006      1        5     1    NaN  11.21    NaN    NaN   \n",
       "2006-01-08  2006      1        6     1    NaN  11.21    NaN    NaN   \n",
       "2006-01-09  2006      1        0     2  10.96  11.03  10.82  10.86   \n",
       "2006-01-10  2006      1        1     2  10.89  11.70  10.83  11.55   \n",
       "2006-01-11  2006      1        2     2  11.98  12.11  11.80  11.99   \n",
       "2006-01-12  2006      1        3     2  12.14  12.34  11.95  12.04   \n",
       "2006-01-13  2006      1        4     2  12.14  12.29  12.09  12.23   \n",
       "2006-01-14  2006      1        5     2    NaN  11.21    NaN    NaN   \n",
       "2006-01-15  2006      1        6     2    NaN  11.21    NaN    NaN   \n",
       "2006-01-16  2006      1        0     3    NaN  11.21    NaN    NaN   \n",
       "2006-01-17  2006      1        1     3  12.24  12.34  11.98  12.10   \n",
       "2006-01-18  2006      1        2     3  11.87  12.01  11.69  11.78   \n",
       "2006-01-19  2006      1        3     3  11.61  11.67  11.25  11.29   \n",
       "2006-01-20  2006      1        4     3  11.33  11.43  10.83  10.87   \n",
       "2006-01-21  2006      1        5     3    NaN  11.21    NaN    NaN   \n",
       "2006-01-22  2006      1        6     3    NaN  11.21    NaN    NaN   \n",
       "2006-01-23  2006      1        0     4  10.87  11.37  10.86  11.10   \n",
       "2006-01-24  2006      1        1     4  11.25  11.35  10.82  10.86   \n",
       "2006-01-25  2006      1        2     4  11.06  11.07  10.46  10.60   \n",
       "2006-01-26  2006      1        3     4  10.65  10.78  10.28  10.33   \n",
       "2006-01-27  2006      1        4     4  10.42  10.51  10.16  10.29   \n",
       "\n",
       "                 Volume  Name  High_month_median  \n",
       "Date                                              \n",
       "2006-01-03  201853036.0  AAPL              11.21  \n",
       "2006-01-04  155225609.0  AAPL              11.21  \n",
       "2006-01-05  112396081.0  AAPL              11.21  \n",
       "2006-01-06  176139334.0  AAPL              11.21  \n",
       "2006-01-07          NaN   NaN              11.21  \n",
       "2006-01-08          NaN   NaN              11.21  \n",
       "2006-01-09  168861224.0  AAPL              11.21  \n",
       "2006-01-10  570088246.0  AAPL              11.21  \n",
       "2006-01-11  373548882.0  AAPL              11.21  \n",
       "2006-01-12  320201966.0  AAPL              11.21  \n",
       "2006-01-13  194153393.0  AAPL              11.21  \n",
       "2006-01-14          NaN   NaN              11.21  \n",
       "2006-01-15          NaN   NaN              11.21  \n",
       "2006-01-16          NaN   NaN              11.21  \n",
       "2006-01-17  209215265.0  AAPL              11.21  \n",
       "2006-01-18  303279501.0  AAPL              11.21  \n",
       "2006-01-19  424100026.0  AAPL              11.21  \n",
       "2006-01-20  284634847.0  AAPL              11.21  \n",
       "2006-01-21          NaN   NaN              11.21  \n",
       "2006-01-22          NaN   NaN              11.21  \n",
       "2006-01-23  264942587.0  AAPL              11.21  \n",
       "2006-01-24  285661873.0  AAPL              11.21  \n",
       "2006-01-25  319019939.0  AAPL              11.21  \n",
       "2006-01-26  295599087.0  AAPL              11.21  \n",
       "2006-01-27  238597205.0  AAPL              11.21  "
      ]
     },
     "execution_count": 6,
     "metadata": {},
     "output_type": "execute_result"
    }
   ],
   "source": [
    "inputation_key = ['year', 'month']\n",
    "\n",
    "df = dataset.merge(\n",
    "    dataset.groupby(\n",
    "        by=inputation_key\n",
    "    )['High'].median().reset_index().rename(\n",
    "        columns={'High':'High_month_median'}\n",
    "    ),\n",
    "    on=inputation_key,\n",
    "    how='left'\n",
    ")\n",
    "df['High'] = df['High'].combine_first(df['High_month_median'])\n",
    "df = df.set_index('Date')\n",
    "dataset = df.copy()\n",
    "\n",
    "dataset.head(25)"
   ]
  },
  {
   "cell_type": "code",
   "execution_count": 7,
   "metadata": {},
   "outputs": [
    {
     "data": {
      "text/plain": [
       "(Timestamp('2006-01-03 00:00:00'),\n",
       " Timestamp('2017-12-29 00:00:00'),\n",
       " (4379, 11))"
      ]
     },
     "execution_count": 7,
     "metadata": {},
     "output_type": "execute_result"
    }
   ],
   "source": [
    "dataset.index.min(), dataset.index.max(), dataset.shape"
   ]
  },
  {
   "cell_type": "code",
   "execution_count": 8,
   "metadata": {},
   "outputs": [
    {
     "name": "stdout",
     "output_type": "stream",
     "text": [
      "2012-01-01 00:00:00 2017-06-30 00:00:00 (2008, 1)\n",
      "2017-07-01 00:00:00 2017-08-31 00:00:00 (62, 1)\n"
     ]
    }
   ],
   "source": [
    "set_entrenamiento = dataset['2012':'2017-06'].iloc[:, 5:6]\n",
    "set_validacion = dataset['2017-07':'2017-08'].iloc[:, 5:6]\n",
    "\n",
    "print(\n",
    "    set_entrenamiento.index.min(), \n",
    "    set_entrenamiento.index.max(), \n",
    "    set_entrenamiento.shape\n",
    ")\n",
    "print(\n",
    "    set_validacion.index.min(), \n",
    "    set_validacion.index.max(), \n",
    "    set_validacion.shape\n",
    ")"
   ]
  },
  {
   "cell_type": "code",
   "execution_count": 9,
   "metadata": {},
   "outputs": [
    {
     "data": {
      "text/plain": [
       "((62, 1), (2008, 1))"
      ]
     },
     "execution_count": 9,
     "metadata": {},
     "output_type": "execute_result"
    }
   ],
   "source": [
    "set_validacion.shape, set_entrenamiento.shape"
   ]
  },
  {
   "cell_type": "code",
   "execution_count": 10,
   "metadata": {},
   "outputs": [
    {
     "data": {
      "text/html": [
       "<div>\n",
       "<style scoped>\n",
       "    .dataframe tbody tr th:only-of-type {\n",
       "        vertical-align: middle;\n",
       "    }\n",
       "\n",
       "    .dataframe tbody tr th {\n",
       "        vertical-align: top;\n",
       "    }\n",
       "\n",
       "    .dataframe thead th {\n",
       "        text-align: right;\n",
       "    }\n",
       "</style>\n",
       "<table border=\"1\" class=\"dataframe\">\n",
       "  <thead>\n",
       "    <tr style=\"text-align: right;\">\n",
       "      <th></th>\n",
       "      <th>High</th>\n",
       "    </tr>\n",
       "    <tr>\n",
       "      <th>Date</th>\n",
       "      <th></th>\n",
       "    </tr>\n",
       "  </thead>\n",
       "  <tbody>\n",
       "    <tr>\n",
       "      <td>2012-01-01</td>\n",
       "      <td>60.965</td>\n",
       "    </tr>\n",
       "  </tbody>\n",
       "</table>\n",
       "</div>"
      ],
      "text/plain": [
       "              High\n",
       "Date              \n",
       "2012-01-01  60.965"
      ]
     },
     "metadata": {},
     "output_type": "display_data"
    },
    {
     "data": {
      "text/html": [
       "<div>\n",
       "<style scoped>\n",
       "    .dataframe tbody tr th:only-of-type {\n",
       "        vertical-align: middle;\n",
       "    }\n",
       "\n",
       "    .dataframe tbody tr th {\n",
       "        vertical-align: top;\n",
       "    }\n",
       "\n",
       "    .dataframe thead th {\n",
       "        text-align: right;\n",
       "    }\n",
       "</style>\n",
       "<table border=\"1\" class=\"dataframe\">\n",
       "  <thead>\n",
       "    <tr style=\"text-align: right;\">\n",
       "      <th></th>\n",
       "      <th>High</th>\n",
       "    </tr>\n",
       "    <tr>\n",
       "      <th>Date</th>\n",
       "      <th></th>\n",
       "    </tr>\n",
       "  </thead>\n",
       "  <tbody>\n",
       "    <tr>\n",
       "      <td>2017-06-30</td>\n",
       "      <td>144.96</td>\n",
       "    </tr>\n",
       "  </tbody>\n",
       "</table>\n",
       "</div>"
      ],
      "text/plain": [
       "              High\n",
       "Date              \n",
       "2017-06-30  144.96"
      ]
     },
     "metadata": {},
     "output_type": "display_data"
    },
    {
     "data": {
      "text/html": [
       "<div>\n",
       "<style scoped>\n",
       "    .dataframe tbody tr th:only-of-type {\n",
       "        vertical-align: middle;\n",
       "    }\n",
       "\n",
       "    .dataframe tbody tr th {\n",
       "        vertical-align: top;\n",
       "    }\n",
       "\n",
       "    .dataframe thead th {\n",
       "        text-align: right;\n",
       "    }\n",
       "</style>\n",
       "<table border=\"1\" class=\"dataframe\">\n",
       "  <thead>\n",
       "    <tr style=\"text-align: right;\">\n",
       "      <th></th>\n",
       "      <th>High</th>\n",
       "    </tr>\n",
       "    <tr>\n",
       "      <th>Date</th>\n",
       "      <th></th>\n",
       "    </tr>\n",
       "  </thead>\n",
       "  <tbody>\n",
       "    <tr>\n",
       "      <td>2017-07-01</td>\n",
       "      <td>150.18</td>\n",
       "    </tr>\n",
       "  </tbody>\n",
       "</table>\n",
       "</div>"
      ],
      "text/plain": [
       "              High\n",
       "Date              \n",
       "2017-07-01  150.18"
      ]
     },
     "metadata": {},
     "output_type": "display_data"
    },
    {
     "data": {
      "text/html": [
       "<div>\n",
       "<style scoped>\n",
       "    .dataframe tbody tr th:only-of-type {\n",
       "        vertical-align: middle;\n",
       "    }\n",
       "\n",
       "    .dataframe tbody tr th {\n",
       "        vertical-align: top;\n",
       "    }\n",
       "\n",
       "    .dataframe thead th {\n",
       "        text-align: right;\n",
       "    }\n",
       "</style>\n",
       "<table border=\"1\" class=\"dataframe\">\n",
       "  <thead>\n",
       "    <tr style=\"text-align: right;\">\n",
       "      <th></th>\n",
       "      <th>High</th>\n",
       "    </tr>\n",
       "    <tr>\n",
       "      <th>Date</th>\n",
       "      <th></th>\n",
       "    </tr>\n",
       "  </thead>\n",
       "  <tbody>\n",
       "    <tr>\n",
       "      <td>2017-08-31</td>\n",
       "      <td>164.52</td>\n",
       "    </tr>\n",
       "  </tbody>\n",
       "</table>\n",
       "</div>"
      ],
      "text/plain": [
       "              High\n",
       "Date              \n",
       "2017-08-31  164.52"
      ]
     },
     "metadata": {},
     "output_type": "display_data"
    }
   ],
   "source": [
    "display(set_entrenamiento.head(1))\n",
    "display(set_entrenamiento.tail(1))\n",
    "display(set_validacion.head(1))\n",
    "display(set_validacion.tail(1))"
   ]
  },
  {
   "cell_type": "code",
   "execution_count": 11,
   "metadata": {},
   "outputs": [
    {
     "data": {
      "image/png": "[encoded data removed]",
      "text/plain": [
       "<Figure size 1080x360 with 1 Axes>"
      ]
     },
     "metadata": {
      "needs_background": "light"
     },
     "output_type": "display_data"
    }
   ],
   "source": [
    "set_entrenamiento['High'].plot(legend=True, figsize=(15, 5))\n",
    "set_validacion['High'].plot(legend=True)\n",
    "\n",
    "plt.legend(['Entrenamiento (2006-2016)', 'Validación (2017)'])\n",
    "plt.show()"
   ]
  },
  {
   "cell_type": "code",
   "execution_count": 12,
   "metadata": {},
   "outputs": [
    {
     "data": {
      "text/plain": [
       "(7, 1)"
      ]
     },
     "execution_count": 12,
     "metadata": {},
     "output_type": "execute_result"
    }
   ],
   "source": [
    "time_step = 7\n",
    "set_entrenamiento[-1*time_step:].shape"
   ]
  },
  {
   "cell_type": "code",
   "execution_count": 13,
   "metadata": {},
   "outputs": [
    {
     "data": {
      "text/plain": [
       "Date\n",
       "2017-06-24    147.015\n",
       "2017-06-25    147.015\n",
       "Name: High, dtype: float64"
      ]
     },
     "metadata": {},
     "output_type": "display_data"
    },
    {
     "data": {
      "text/plain": [
       "Date\n",
       "2017-06-29    145.13\n",
       "2017-06-30    144.96\n",
       "Name: High, dtype: float64"
      ]
     },
     "metadata": {},
     "output_type": "display_data"
    }
   ],
   "source": [
    "real_test = set_entrenamiento[-1*time_step:]\n",
    "\n",
    "display(real_test['High'].head(2))\n",
    "display(real_test['High'].tail(2))"
   ]
  },
  {
   "cell_type": "markdown",
   "metadata": {},
   "source": [
    "## Modeling"
   ]
  },
  {
   "cell_type": "code",
   "execution_count": 14,
   "metadata": {},
   "outputs": [
    {
     "data": {
      "text/plain": [
       "(2008, 1)"
      ]
     },
     "execution_count": 14,
     "metadata": {},
     "output_type": "execute_result"
    }
   ],
   "source": [
    "# Normalización del set de entrenamiento\n",
    "\n",
    "sc = MinMaxScaler(\n",
    "    feature_range=(0, 1)\n",
    ")\n",
    "set_entrenamiento_escalado = sc.fit_transform(set_entrenamiento)\n",
    "#set_entrenamiento_escalado = set_entrenamiento.copy().values\n",
    "set_entrenamiento_escalado.shape"
   ]
  },
  {
   "cell_type": "code",
   "execution_count": 15,
   "metadata": {},
   "outputs": [],
   "source": [
    "pd.set_option('display.max_rows', 500)\n",
    "pd.set_option('display.max_columns', 500)"
   ]
  },
  {
   "cell_type": "code",
   "execution_count": 16,
   "metadata": {},
   "outputs": [],
   "source": [
    "X_train = []\n",
    "Y_train = []\n",
    "m = len(set_entrenamiento_escalado)\n",
    "\n",
    "for i in range(time_step, m):\n",
    "    X_train.append(\n",
    "        set_entrenamiento_escalado[i - time_step: i, 0]\n",
    "    )\n",
    "    Y_train.append(\n",
    "        set_entrenamiento_escalado[i, 0]\n",
    "    )\n",
    "    \n",
    "X_train, Y_train = np.array(X_train), np.array(Y_train)"
   ]
  },
  {
   "cell_type": "code",
   "execution_count": 17,
   "metadata": {},
   "outputs": [
    {
     "data": {
      "text/plain": [
       "((2001, 7), (2001,))"
      ]
     },
     "execution_count": 17,
     "metadata": {},
     "output_type": "execute_result"
    }
   ],
   "source": [
    "X_train.shape, Y_train.shape"
   ]
  },
  {
   "cell_type": "code",
   "execution_count": 18,
   "metadata": {},
   "outputs": [
    {
     "data": {
      "text/plain": [
       "array([0.03892125, 0.03892125, 0.01848132, 0.02159502, 0.02711933,\n",
       "       0.03314584, 0.03892125])"
      ]
     },
     "metadata": {},
     "output_type": "display_data"
    }
   ],
   "source": [
    "display(X_train[0])"
   ]
  },
  {
   "cell_type": "code",
   "execution_count": 19,
   "metadata": {},
   "outputs": [
    {
     "data": {
      "text/plain": [
       "array([[0.03892125],\n",
       "       [0.03892125],\n",
       "       [0.01848132],\n",
       "       [0.02159502],\n",
       "       [0.02711933],\n",
       "       [0.03314584],\n",
       "       [0.03892125]])"
      ]
     },
     "metadata": {},
     "output_type": "display_data"
    }
   ],
   "source": [
    "X_train = np.reshape(\n",
    "    X_train, \n",
    "    (X_train.shape[0], X_train.shape[1], 1)\n",
    ")\n",
    "\n",
    "display(X_train[0])"
   ]
  },
  {
   "cell_type": "code",
   "execution_count": 20,
   "metadata": {},
   "outputs": [],
   "source": [
    "# Red LSTM\n",
    "#\n",
    "dim_entrada = (X_train.shape[1], 1)\n",
    "dim_salida = 1\n",
    "na = 500"
   ]
  },
  {
   "cell_type": "code",
   "execution_count": 21,
   "metadata": {},
   "outputs": [
    {
     "name": "stdout",
     "output_type": "stream",
     "text": [
      "Epoch 1/25\n",
      "2001/2001 [==============================] - 5s 2ms/step - loss: 0.0185\n",
      "Epoch 2/25\n",
      "2001/2001 [==============================] - 5s 2ms/step - loss: 5.3146e-04\n",
      "Epoch 3/25\n",
      "2001/2001 [==============================] - 5s 2ms/step - loss: 5.1480e-04\n",
      "Epoch 4/25\n",
      "2001/2001 [==============================] - 5s 2ms/step - loss: 5.1832e-04\n",
      "Epoch 5/25\n",
      "2001/2001 [==============================] - 4s 2ms/step - loss: 5.5115e-04\n",
      "Epoch 6/25\n",
      "2001/2001 [==============================] - 4s 2ms/step - loss: 4.9038e-04\n",
      "Epoch 7/25\n",
      "2001/2001 [==============================] - 5s 2ms/step - loss: 5.0705e-04\n",
      "Epoch 8/25\n",
      "2001/2001 [==============================] - 5s 2ms/step - loss: 5.5526e-04\n",
      "Epoch 9/25\n",
      "2001/2001 [==============================] - 5s 2ms/step - loss: 5.6351e-04\n",
      "Epoch 10/25\n",
      "2001/2001 [==============================] - 5s 2ms/step - loss: 5.2590e-04\n",
      "Epoch 11/25\n",
      "2001/2001 [==============================] - 5s 2ms/step - loss: 5.6717e-04\n",
      "Epoch 12/25\n",
      "2001/2001 [==============================] - 5s 2ms/step - loss: 5.9609e-04\n",
      "Epoch 13/25\n",
      "2001/2001 [==============================] - 5s 2ms/step - loss: 4.9031e-04\n",
      "Epoch 14/25\n",
      "2001/2001 [==============================] - 5s 2ms/step - loss: 5.1298e-04\n",
      "Epoch 15/25\n",
      "2001/2001 [==============================] - 5s 2ms/step - loss: 4.9971e-04\n",
      "Epoch 16/25\n",
      "2001/2001 [==============================] - 5s 2ms/step - loss: 4.7246e-04\n",
      "Epoch 17/25\n",
      "2001/2001 [==============================] - 5s 2ms/step - loss: 5.1478e-04\n",
      "Epoch 18/25\n",
      "2001/2001 [==============================] - 5s 2ms/step - loss: 5.3996e-04\n",
      "Epoch 19/25\n",
      "2001/2001 [==============================] - 5s 3ms/step - loss: 4.4924e-04\n",
      "Epoch 20/25\n",
      "2001/2001 [==============================] - 5s 2ms/step - loss: 4.5209e-04\n",
      "Epoch 21/25\n",
      "2001/2001 [==============================] - 5s 2ms/step - loss: 4.8630e-04\n",
      "Epoch 22/25\n",
      "2001/2001 [==============================] - 5s 2ms/step - loss: 4.7016e-04\n",
      "Epoch 23/25\n",
      "2001/2001 [==============================] - 5s 2ms/step - loss: 5.6101e-04\n",
      "Epoch 24/25\n",
      "2001/2001 [==============================] - 5s 2ms/step - loss: 4.4749e-04\n",
      "Epoch 25/25\n",
      "2001/2001 [==============================] - 5s 2ms/step - loss: 4.8336e-04\n"
     ]
    },
    {
     "data": {
      "text/plain": [
       "<keras.callbacks.callbacks.History at 0x7fac79d52ed0>"
      ]
     },
     "execution_count": 21,
     "metadata": {},
     "output_type": "execute_result"
    }
   ],
   "source": [
    "modelo = Sequential()\n",
    "modelo.add(\n",
    "    LSTM(units=na,  activation='relu', input_shape=dim_entrada)\n",
    ")\n",
    "modelo.add(\n",
    "    Dense(units=dim_salida)\n",
    ")\n",
    "modelo.compile(\n",
    "    optimizer='adam', \n",
    "    loss='mse'\n",
    ")\n",
    "modelo.fit(\n",
    "    X_train, \n",
    "    Y_train, \n",
    "    epochs=25, \n",
    "    batch_size=32\n",
    ")"
   ]
  },
  {
   "cell_type": "code",
   "execution_count": 22,
   "metadata": {},
   "outputs": [
    {
     "data": {
      "text/plain": [
       "((62, 1), (7, 1))"
      ]
     },
     "execution_count": 22,
     "metadata": {},
     "output_type": "execute_result"
    }
   ],
   "source": [
    "set_validacion.shape, real_test.shape"
   ]
  },
  {
   "cell_type": "code",
   "execution_count": 23,
   "metadata": {},
   "outputs": [
    {
     "data": {
      "text/plain": [
       "(7, 1)"
      ]
     },
     "execution_count": 23,
     "metadata": {},
     "output_type": "execute_result"
    }
   ],
   "source": [
    "#\n",
    "# Validación (predicción del valor de las acciones)\n",
    "#\n",
    "x_test = real_test.values\n",
    "x_test = sc.transform(x_test)\n",
    "x_test.shape"
   ]
  },
  {
   "cell_type": "code",
   "execution_count": 24,
   "metadata": {},
   "outputs": [
    {
     "data": {
      "text/plain": [
       "((7, 1), (7, 1))"
      ]
     },
     "execution_count": 24,
     "metadata": {},
     "output_type": "execute_result"
    }
   ],
   "source": [
    "x_test.shape, x_test[-1*time_step:].shape"
   ]
  },
  {
   "cell_type": "code",
   "execution_count": 26,
   "metadata": {},
   "outputs": [
    {
     "data": {
      "text/plain": [
       "(7, 1)"
      ]
     },
     "execution_count": 26,
     "metadata": {},
     "output_type": "execute_result"
    }
   ],
   "source": [
    "x_test.shape"
   ]
  },
  {
   "cell_type": "code",
   "execution_count": 27,
   "metadata": {},
   "outputs": [],
   "source": [
    "nn = set_validacion.shape[0]\n",
    "index_validacion = set_validacion.index.copy()\n",
    "_x_test = x_test.copy()\n",
    "list_forecast = []\n",
    "\n",
    "for i in range(nn):\n",
    "    test_predict = np.array(\n",
    "        [_x_test[-1*time_step:]]\n",
    "    )\n",
    "    \n",
    "    test_predict = np.reshape(\n",
    "        test_predict, (test_predict.shape[0], test_predict.shape[1], 1)\n",
    "    )\n",
    "\n",
    "    prediccion = modelo.predict(test_predict)\n",
    "\n",
    "    _x_test = np.append(_x_test, prediccion, axis=0)\n",
    "\n",
    "    list_forecast.append(sc.inverse_transform(prediccion)[0][0])\n",
    "    #list_forecast.append(prediccion[0][0])"
   ]
  },
  {
   "cell_type": "code",
   "execution_count": 28,
   "metadata": {},
   "outputs": [
    {
     "data": {
      "text/plain": [
       "((7, 1), (69, 1), 62)"
      ]
     },
     "execution_count": 28,
     "metadata": {},
     "output_type": "execute_result"
    }
   ],
   "source": [
    "x_test.shape, _x_test.shape, len(list_forecast)"
   ]
  },
  {
   "cell_type": "code",
   "execution_count": 29,
   "metadata": {},
   "outputs": [
    {
     "data": {
      "text/plain": [
       "Date\n",
       "2017-07-01    147.468384\n",
       "2017-07-02    147.859207\n",
       "2017-07-03    148.134964\n",
       "2017-07-04    148.165939\n",
       "2017-07-05    148.429901\n",
       "2017-07-06    148.727249\n",
       "2017-07-07    149.203171\n",
       "2017-07-08    149.813156\n",
       "2017-07-09    150.202026\n",
       "2017-07-10    150.566437\n",
       "2017-07-11    150.926193\n",
       "2017-07-12    151.324951\n",
       "2017-07-13    151.744019\n",
       "2017-07-14    152.184464\n",
       "2017-07-15    152.626358\n",
       "2017-07-16    153.047134\n",
       "2017-07-17    153.469162\n",
       "2017-07-18    153.897354\n",
       "2017-07-19    154.334839\n",
       "2017-07-20    154.778870\n",
       "2017-07-21    155.227707\n",
       "2017-07-22    155.678558\n",
       "2017-07-23    156.130997\n",
       "2017-07-24    156.587875\n",
       "2017-07-25    157.049957\n",
       "2017-07-26    157.517380\n",
       "2017-07-27    157.989716\n",
       "2017-07-28    158.466690\n",
       "2017-07-29    158.948212\n",
       "2017-07-30    159.434570\n",
       "2017-07-31    159.925964\n",
       "2017-08-01    160.422714\n",
       "2017-08-02    160.925110\n",
       "2017-08-03    161.433212\n",
       "2017-08-04    161.947021\n",
       "2017-08-05    162.466400\n",
       "2017-08-06    162.991592\n",
       "2017-08-07    163.522949\n",
       "2017-08-08    164.060669\n",
       "2017-08-09    164.604904\n",
       "2017-08-10    165.155914\n",
       "2017-08-11    165.713791\n",
       "2017-08-12    166.278732\n",
       "2017-08-13    166.850998\n",
       "2017-08-14    167.430862\n",
       "2017-08-15    168.018570\n",
       "2017-08-16    168.614258\n",
       "2017-08-17    169.218185\n",
       "2017-08-18    169.830231\n",
       "2017-08-19    170.450775\n",
       "2017-08-20    171.080231\n",
       "2017-08-21    171.718857\n",
       "2017-08-22    172.366531\n",
       "2017-08-23    173.023468\n",
       "2017-08-24    173.690262\n",
       "2017-08-25    174.367157\n",
       "2017-08-26    175.054504\n",
       "2017-08-27    175.752640\n",
       "2017-08-28    176.461884\n",
       "2017-08-29    177.182587\n",
       "2017-08-30    177.915070\n",
       "2017-08-31    178.659821\n",
       "dtype: float64"
      ]
     },
     "execution_count": 29,
     "metadata": {},
     "output_type": "execute_result"
    }
   ],
   "source": [
    "serie_result = pd.Series(list_forecast, index=index_validacion)\n",
    "serie_result.head(200)"
   ]
  },
  {
   "cell_type": "code",
   "execution_count": 30,
   "metadata": {},
   "outputs": [
    {
     "data": {
      "text/plain": [
       "Date\n",
       "2017-07-01    150.18\n",
       "2017-07-02    150.18\n",
       "2017-07-03    145.30\n",
       "2017-07-04    150.18\n",
       "2017-07-05    144.79\n",
       "2017-07-06    143.50\n",
       "2017-07-07    144.75\n",
       "2017-07-08    150.18\n",
       "2017-07-09    150.18\n",
       "2017-07-10    145.95\n",
       "2017-07-11    145.85\n",
       "2017-07-12    146.18\n",
       "2017-07-13    148.49\n",
       "2017-07-14    149.33\n",
       "2017-07-15    150.18\n",
       "2017-07-16    150.18\n",
       "2017-07-17    150.90\n",
       "2017-07-18    150.13\n",
       "2017-07-19    151.42\n",
       "2017-07-20    151.74\n",
       "2017-07-21    150.44\n",
       "2017-07-22    150.18\n",
       "2017-07-23    150.18\n",
       "2017-07-24    152.44\n",
       "2017-07-25    153.84\n",
       "Name: High, dtype: float64"
      ]
     },
     "execution_count": 30,
     "metadata": {},
     "output_type": "execute_result"
    }
   ],
   "source": [
    "set_validacion['High'].head(25)"
   ]
  },
  {
   "cell_type": "code",
   "execution_count": 31,
   "metadata": {},
   "outputs": [
    {
     "data": {
      "image/png": "[encoded data removed]",
      "text/plain": [
       "<Figure size 1800x576 with 1 Axes>"
      ]
     },
     "metadata": {
      "needs_background": "light"
     },
     "output_type": "display_data"
    }
   ],
   "source": [
    "# Graficar resultados\n",
    "fig, axes = plt.subplots(nrows=1, ncols=1, figsize=(25, 8))\n",
    "\n",
    "axes.plot(set_entrenamiento['High'], color='green', label='Valor real pasado')\n",
    "plt.plot(set_validacion['High'], color='red', label='Valor real de la métrica')\n",
    "plt.plot(serie_result, color='blue', label='Predicción de la métrica')\n",
    "\n",
    "\n",
    "#axes.axvline(set_entrenamiento.index[1698], color=\"blue\", linestyle=\"--\", lw=2)\n",
    "#axes.axvline(set_entrenamiento.index[2300], color=\"blue\", linestyle=\"--\", lw=2)\n",
    "\n",
    "#axes.axvline(set_validacion_init.index[160], color=\"blue\", linestyle=\"--\", lw=2)\n",
    "#axes.axvline(set_validacion_init.index[230], color=\"blue\", linestyle=\"--\", lw=2)\n",
    "#axes.axvline(set_validacion_init.index[240], color=\"blue\", linestyle=\"--\", lw=2)\n",
    "\n",
    "#plt.ylim(1.1 * np.min(prediccion)/2, 1.1 * np.max(prediccion))\n",
    "\n",
    "plt.xlabel('Tiempo')\n",
    "plt.ylabel('Métrica')\n",
    "plt.legend()\n",
    "plt.show()"
   ]
  },
  {
   "cell_type": "code",
   "execution_count": null,
   "metadata": {},
   "outputs": [],
   "source": []
  }
 ],
 "metadata": {
  "kernelspec": {
   "display_name": "Python 3",
   "language": "python",
   "name": "python3"
  },
  "language_info": {
   "codemirror_mode": {
    "name": "ipython",
    "version": 3
   },
   "file_extension": ".py",
   "mimetype": "text/x-python",
   "name": "python",
   "nbconvert_exporter": "python",
   "pygments_lexer": "ipython3",
   "version": "3.7.4"
  }
 },
 "nbformat": 4,
 "nbformat_minor": 4
}
