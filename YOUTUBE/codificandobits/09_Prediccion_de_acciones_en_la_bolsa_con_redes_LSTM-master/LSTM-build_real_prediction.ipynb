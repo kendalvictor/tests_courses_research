{
 "cells": [
  {
   "cell_type": "code",
   "execution_count": 1,
   "metadata": {},
   "outputs": [
    {
     "name": "stderr",
     "output_type": "stream",
     "text": [
      "Using TensorFlow backend.\n"
     ]
    }
   ],
   "source": [
    "import os\n",
    "import numpy as np\n",
    "import random as rn\n",
    "\n",
    "import tensorflow as tf\n",
    "from keras import backend as k\n",
    "\n",
    "SEED = 29082013\n",
    "tf.random.set_seed(SEED)\n",
    "os.environ['PYTHONHASHSEED'] = str(SEED)\n",
    "np.random.seed(SEED)\n",
    "rn.seed(SEED)\n",
    "\n",
    "import matplotlib.pyplot as plt\n",
    "import pandas as pd\n",
    "\n",
    "from sklearn.preprocessing import MinMaxScaler\n",
    "from keras.models import Sequential\n",
    "from keras.layers import Dense, LSTM"
   ]
  },
  {
   "cell_type": "markdown",
   "metadata": {},
   "source": [
    "### Load data"
   ]
  },
  {
   "cell_type": "code",
   "execution_count": null,
   "metadata": {},
   "outputs": [],
   "source": [
    "\n",
    "dataset = pd.read_csv(\n",
    "    'AAPL_2006-01-01_to_2018-01-01.csv', \n",
    "    parse_dates=['Date']\n",
    ").set_index('Date')\n",
    " \n",
    "dataset.head()"
   ]
  },
  {
   "cell_type": "code",
   "execution_count": null,
   "metadata": {},
   "outputs": [],
   "source": [
    "dataset.dtypes"
   ]
  },
  {
   "cell_type": "code",
   "execution_count": null,
   "metadata": {},
   "outputs": [],
   "source": [
    "dataset.index"
   ]
  },
  {
   "cell_type": "code",
   "execution_count": null,
   "metadata": {},
   "outputs": [],
   "source": [
    "dataset.index.min(), dataset.index.max(), dataset.shape"
   ]
  },
  {
   "cell_type": "code",
   "execution_count": null,
   "metadata": {},
   "outputs": [],
   "source": [
    "set_entrenamiento = dataset['2010':'2016'].iloc[:, 1:2]\n",
    "set_validacion = dataset['2017'].iloc[:, 1:2]\n",
    "\n",
    "print(set_entrenamiento.index.min(), set_entrenamiento.index.max(), set_entrenamiento.shape)\n",
    "print(set_validacion.index.min(), set_validacion.index.max(), set_validacion.shape)"
   ]
  },
  {
   "cell_type": "code",
   "execution_count": null,
   "metadata": {},
   "outputs": [],
   "source": [
    "set_validacion.shape, set_entrenamiento.shape"
   ]
  },
  {
   "cell_type": "code",
   "execution_count": null,
   "metadata": {},
   "outputs": [],
   "source": [
    "display(set_entrenamiento.head(2))\n",
    "display(set_entrenamiento.tail(2))\n",
    "display(set_validacion.head(2))\n",
    "display(set_validacion.tail(2))"
   ]
  },
  {
   "cell_type": "code",
   "execution_count": null,
   "metadata": {},
   "outputs": [],
   "source": [
    "set_entrenamiento['High'].plot(legend=True)\n",
    "set_validacion['High'].plot(legend=True)\n",
    "plt.legend(['Entrenamiento (2006-2016)', 'Validación (2017)'])\n",
    "plt.show()"
   ]
  },
  {
   "cell_type": "code",
   "execution_count": null,
   "metadata": {},
   "outputs": [],
   "source": [
    "time_step = 60\n",
    "set_entrenamiento[-1*time_step:].shape"
   ]
  },
  {
   "cell_type": "code",
   "execution_count": null,
   "metadata": {},
   "outputs": [],
   "source": [
    "real_test = set_entrenamiento[-1*time_step:]\n",
    "\n",
    "display(real_test.head(2))\n",
    "display(real_test.tail(2))"
   ]
  },
  {
   "cell_type": "markdown",
   "metadata": {},
   "source": [
    "## Modeling"
   ]
  },
  {
   "cell_type": "code",
   "execution_count": null,
   "metadata": {},
   "outputs": [],
   "source": [
    "# Normalización del set de entrenamiento\n",
    "\n",
    "sc = MinMaxScaler(\n",
    "    feature_range=(0, 1)\n",
    ")\n",
    "#set_entrenamiento_escalado = sc.fit_transform(set_entrenamiento)\n",
    "set_entrenamiento_escalado = set_entrenamiento.copy().values\n",
    "set_entrenamiento_escalado.shape"
   ]
  },
  {
   "cell_type": "code",
   "execution_count": null,
   "metadata": {},
   "outputs": [],
   "source": [
    "pd.set_option('display.max_rows', 500)\n",
    "pd.set_option('display.max_columns', 500)"
   ]
  },
  {
   "cell_type": "code",
   "execution_count": null,
   "metadata": {},
   "outputs": [],
   "source": [
    "X_train = []\n",
    "Y_train = []\n",
    "m = len(set_entrenamiento_escalado)\n",
    "\n",
    "for i in range(time_step, m):\n",
    "    X_train.append(\n",
    "        set_entrenamiento_escalado[i - time_step: i, 0]\n",
    "    )\n",
    "    Y_train.append(\n",
    "        set_entrenamiento_escalado[i, 0]\n",
    "    )\n",
    "    \n",
    "X_train, Y_train = np.array(X_train), np.array(Y_train)"
   ]
  },
  {
   "cell_type": "code",
   "execution_count": null,
   "metadata": {},
   "outputs": [],
   "source": [
    "X_train.shape, Y_train.shape"
   ]
  },
  {
   "cell_type": "code",
   "execution_count": null,
   "metadata": {},
   "outputs": [],
   "source": [
    "display(X_train[0])"
   ]
  },
  {
   "cell_type": "code",
   "execution_count": null,
   "metadata": {},
   "outputs": [],
   "source": [
    "X_train = np.reshape(\n",
    "    X_train, \n",
    "    (X_train.shape[0], X_train.shape[1], 1)\n",
    ")\n",
    "\n",
    "display(X_train[0])"
   ]
  },
  {
   "cell_type": "code",
   "execution_count": null,
   "metadata": {},
   "outputs": [],
   "source": [
    "# Red LSTM\n",
    "#\n",
    "dim_entrada = (X_train.shape[1], 1)\n",
    "dim_salida = 1\n",
    "na = 50"
   ]
  },
  {
   "cell_type": "code",
   "execution_count": null,
   "metadata": {},
   "outputs": [],
   "source": [
    "modelo = Sequential()\n",
    "modelo.add(\n",
    "    LSTM(units=na, input_shape=dim_entrada)\n",
    ")\n",
    "modelo.add(\n",
    "    Dense(units=dim_salida)\n",
    ")\n",
    "modelo.compile(\n",
    "    optimizer='rmsprop', \n",
    "    loss='mse'\n",
    ")\n",
    "modelo.fit(\n",
    "    X_train, \n",
    "    Y_train, \n",
    "    epochs=10, \n",
    "    batch_size=32\n",
    ")"
   ]
  },
  {
   "cell_type": "code",
   "execution_count": null,
   "metadata": {},
   "outputs": [],
   "source": [
    "set_validacion.shape, real_test.shape"
   ]
  },
  {
   "cell_type": "code",
   "execution_count": null,
   "metadata": {},
   "outputs": [],
   "source": [
    "#\n",
    "# Validación (predicción del valor de las acciones)\n",
    "#\n",
    "x_test = real_test.values\n",
    "#x_test = sc.transform(x_test)\n",
    "x_test.shape"
   ]
  },
  {
   "cell_type": "code",
   "execution_count": null,
   "metadata": {},
   "outputs": [],
   "source": [
    "x_test.shape, x_test[-1*time_step:].shape"
   ]
  },
  {
   "cell_type": "code",
   "execution_count": null,
   "metadata": {},
   "outputs": [],
   "source": [
    "x_test.shape"
   ]
  },
  {
   "cell_type": "code",
   "execution_count": null,
   "metadata": {},
   "outputs": [],
   "source": [
    "nn = set_validacion.shape[0]\n",
    "index_validacion = set_validacion.index.copy()\n",
    "_x_test = x_test.copy()\n",
    "list_forecast = []\n",
    "\n",
    "for i in range(nn):\n",
    "    test_predict = np.array(\n",
    "        [_x_test[-1*time_step:]]\n",
    "    )\n",
    "    \n",
    "    test_predict = np.reshape(\n",
    "        test_predict, (test_predict.shape[0], test_predict.shape[1], 1)\n",
    "    )\n",
    "\n",
    "    prediccion = modelo.predict(test_predict)\n",
    "\n",
    "    _x_test = np.append(_x_test, prediccion, axis=0)\n",
    "\n",
    "    #list_forecast.append(sc.inverse_transform(prediccion)[0][0])\n",
    "    list_forecast.append(prediccion[0][0])"
   ]
  },
  {
   "cell_type": "code",
   "execution_count": null,
   "metadata": {},
   "outputs": [],
   "source": [
    "x_test.shape, _x_test.shape, len(list_forecast)"
   ]
  },
  {
   "cell_type": "code",
   "execution_count": null,
   "metadata": {},
   "outputs": [],
   "source": [
    "serie_result = pd.Series(list_forecast, index=index_validacion)\n",
    "serie_result.head(10)"
   ]
  },
  {
   "cell_type": "code",
   "execution_count": null,
   "metadata": {},
   "outputs": [],
   "source": [
    "set_validacion['High'].head(10)"
   ]
  },
  {
   "cell_type": "code",
   "execution_count": null,
   "metadata": {},
   "outputs": [],
   "source": [
    "# Graficar resultados\n",
    "fig, axes = plt.subplots(nrows=1, ncols=1, figsize=(25, 8))\n",
    "\n",
    "axes.plot(set_entrenamiento['High'], color='green', label='Valor real pasado')\n",
    "plt.plot(set_validacion['High'], color='red', label='Valor real de la métrica')\n",
    "plt.plot(serie_result, color='blue', label='Predicción de la métrica')\n",
    "\n",
    "\n",
    "#axes.axvline(set_entrenamiento.index[1698], color=\"blue\", linestyle=\"--\", lw=2)\n",
    "#axes.axvline(set_entrenamiento.index[2300], color=\"blue\", linestyle=\"--\", lw=2)\n",
    "\n",
    "#axes.axvline(set_validacion_init.index[160], color=\"blue\", linestyle=\"--\", lw=2)\n",
    "#axes.axvline(set_validacion_init.index[230], color=\"blue\", linestyle=\"--\", lw=2)\n",
    "#axes.axvline(set_validacion_init.index[240], color=\"blue\", linestyle=\"--\", lw=2)\n",
    "\n",
    "#plt.ylim(1.1 * np.min(prediccion)/2, 1.1 * np.max(prediccion))\n",
    "\n",
    "plt.xlabel('Tiempo')\n",
    "plt.ylabel('Métrica')\n",
    "plt.legend()\n",
    "plt.show()"
   ]
  },
  {
   "cell_type": "code",
   "execution_count": null,
   "metadata": {},
   "outputs": [],
   "source": []
  }
 ],
 "metadata": {
  "kernelspec": {
   "display_name": "Python 3",
   "language": "python",
   "name": "python3"
  },
  "language_info": {
   "codemirror_mode": {
    "name": "ipython",
    "version": 3
   },
   "file_extension": ".py",
   "mimetype": "text/x-python",
   "name": "python",
   "nbconvert_exporter": "python",
   "pygments_lexer": "ipython3",
   "version": "3.7.4"
  }
 },
 "nbformat": 4,
 "nbformat_minor": 4
}
