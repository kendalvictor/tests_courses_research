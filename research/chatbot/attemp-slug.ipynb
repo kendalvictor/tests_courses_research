{
 "cells": [
  {
   "cell_type": "code",
   "execution_count": 1,
   "metadata": {},
   "outputs": [],
   "source": [
    "texto = \"\"\"\n",
    "El ex viceministro de Justicia Erasmo Reyna, quien fue abogado del ex presidente Alan García hasta el día de su muerte, protagonizó ayer un incidente, cuando se acercó a conversar con el ex representante de Odebrecht en el Perú Jorge Barata una vez que concluyó el interrogatorio sobre los aportes a la campaña del Partido Aprista en el 2006.\n",
    "\n",
    "Así lo confirmó el fiscal superior Rafael Vela, quien indicó que la Procuraduría General de Brasil fue la que determinó que Reyna no podía participar en la diligencias de este martes.\n",
    "\n",
    "►Barata dice que Nava y Atala fueron \"los Maiman\" del ex presidente Alan García\n",
    "\n",
    "►Luis Nava, personaje clave para Alan García y su gobierno\n",
    "\n",
    "“Es correcto que existió un incidente que ha sido detallado dentro del acta del día de hoy, reconozco que el incidente se dio […] El señor Reyna es abogado del fallecido ex presidente García, la extinción de la acción penal determinar que el señor García ya no puede ser objeto de sanción penal, el señor Reyna no puede participar”, manifestó en declaraciones a la prensa.\n",
    "\n",
    "Vela precisó que este incidente fue incorporado en el acta del interrogatorio.\n",
    "\n",
    "Reyna reconoció que conversó con Barata, a fin de pedirle que “hable con la verdad”.\n",
    "\n",
    "Según un audio de la conversación, que fue difundió Canal N, Erasmo Reyna le cuenta lo apenado que se siente por la muerte del ex presidente Alan García.\n",
    "\n",
    "Fuentes de la Unidad de Investigación de El Comercio indicaron que la grabación no es oficial, debido a que esta es registrada por la Procuraduría General de Brasil.\n",
    "\n",
    "A continuación la transcripción de la conversación entre Erasmo Reyna y Jorge Barata:\n",
    "\n",
    "Erasmo Reyna: Señor Barata, el señor García le tenía mucho respeto a usted. \n",
    "Jorge Barata: Perdón. \n",
    "Erasmo Reyna: El doctor García le tenía mucho respeto. \n",
    "Jorge Barata: Y yo a él, y yo a él. Respeto y admiración. \n",
    "Erasmo Reyna: Es una pena lo que ha pasado con él, usted sabe que él nunca le pidió algún favor. \n",
    "Jorge Barata: Yo sé.\n",
    "\n",
    "Erasmo Reyna: Nunca le pidió ningún favor. Él es una víctima de todo esto. \n",
    "Jorge Barata: Yo sé. \n",
    "Erasmo Reyna: Soy su amigo de él, soy su abogado. Un pena señor. Espero que hable usted con la verdad. \n",
    "Jorge Barata: Y ese es mi compromiso. Mi compromiso con la verdad. Y él sabe de eso. Él nunca me pidió nada. Y eso es lo que voy a decir. \n",
    "Erasmo Reyna: Listo señor y [le] agradezco. Gracias. Estoy aguantando mi dolor en el proceso. Se mató. [He] llegado a su casa y me he encontrado con un charco de sangre. Lo he visto en los últimos minutos de su vida. Era como un hermano mayor para mí.\n",
    "\n",
    "Jorge Barata: Yo lo entiendo porque sabiendo lo que hizo llegó a este punto. \n",
    "Erasmo Reyna: No quería que lo vieran como [lo] querían ver señor, esposado. \n",
    "Jorge Barata: El más que nadie sabía de eso…\n",
    "Erasmo Reyna: Él nunca le pidió ningún favor. \n",
    "Jorge Barata: Nunca me pidió, nunca me pidió, nunca lo pidió.\n",
    "\"\"\""
   ]
  },
  {
   "cell_type": "code",
   "execution_count": 5,
   "metadata": {},
   "outputs": [
    {
     "data": {
      "text/plain": [
       "'l-ex-viceministro-de-usticia-rasmo-eyna-quien-fue-abogado-del-ex-presidente-lan-arcia-hasta-el-dia-de-su-muerte-protagonizo-ayer-un-incidente-cuando-se-acerco-a-conversar-con-el-ex-representante-de-debrecht-en-el-eru-orge-arata-una-vez-que-concluyo-el-interrogatorio-sobre-los-aportes-a-la-campana-del-artido-prista-en-el-si-lo-confirmo-el-fiscal-superior-afael-ela-quien-indico-que-la-rocuraduria-eneral-de-rasil-fue-la-que-determino-que-eyna-no-podia-participar-en-la-diligencias-de-este-martesarata-dice-que-ava-y-tala-fueron-los-aiman-del-ex-presidente-lan-arciauis-ava-personaje-clave-para-lan-arcia-y-su-gobiernos-correcto-que-existio-un-incidente-que-ha-sido-detallado-dentro-del-acta-del-dia-de-hoy-reconozco-que-el-incidente-se-dio--l-senor-eyna-es-abogado-del-fallecido-ex-presidente-arcia-la-extincion-de-la-accion-penal-determinar-que-el-senor-arcia-ya-no-puede-ser-objeto-de-sancion-penal-el-senor-eyna-no-puede-participar-manifesto-en-declaraciones-a-la-prensaela-preciso-que-este-incidente-fue-incorporado-en-el-acta-del-interrogatorioeyna-reconocio-que-converso-con-arata-a-fin-de-pedirle-que-hable-con-la-verdadegun-un-audio-de-la-conversacion-que-fue-difundio-anal--rasmo-eyna-le-cuenta-lo-apenado-que-se-siente-por-la-muerte-del-ex-presidente-lan-arciauentes-de-la-nidad-de-nvestigacion-de-l-omercio-indicaron-que-la-grabacion-no-es-oficial-debido-a-que-esta-es-registrada-por-la-rocuraduria-eneral-de-rasil-continuacion-la-transcripcion-de-la-conversacion-entre-rasmo-eyna-y-orge-aratarasmo-eyna-enor-arata-el-senor-arcia-le-tenia-mucho-respeto-a-usted-orge-arata-erdon-rasmo-eyna-l-doctor-arcia-le-tenia-mucho-respeto-orge-arata--yo-a-el-y-yo-a-el-espeto-y-admiracion-rasmo-eyna-s-una-pena-lo-que-ha-pasado-con-el-usted-sabe-que-el-nunca-le-pidio-algun-favor-orge-arata-o-serasmo-eyna-unca-le-pidio-ningun-favor-l-es-una-victima-de-todo-esto-orge-arata-o-se-rasmo-eyna-oy-su-amigo-de-el-soy-su-abogado-n-pena-senor-spero-que-hable-usted-con-la-verdad-orge-arata--ese-es-mi-compromiso-i-compromiso-con-la-verdad--el-sabe-de-eso-l-nunca-me-pidio-nada--eso-es-lo-que-voy-a-decir-rasmo-eyna-isto-senor-y-le-agradezco-racias-stoy-aguantando-mi-dolor-en-el-proceso-e-mato-e-llegado-a-su-casa-y-me-he-encontrado-con-un-charco-de-sangre-o-he-visto-en-los-ultimos-minutos-de-su-vida-ra-como-un-hermano-mayor-para-miorge-arata-o-lo-entiendo-porque-sabiendo-lo-que-hizo-llego-a-este-punto-rasmo-eyna-o-queria-que-lo-vieran-como-lo-querian-ver-senor-esposado-orge-arata-l-mas-que-nadie-sabia-de-esorasmo-eyna-l-nunca-le-pidio-ningun-favor-orge-arata-unca-me-pidio-nunca-me-pidio-nunca-lo-pidio'"
      ]
     },
     "execution_count": 5,
     "metadata": {},
     "output_type": "execute_result"
    }
   ],
   "source": [
    "import re\n",
    "from unicodedata import normalize, category\n",
    "\n",
    "def clean_text(text_nasty):\n",
    "    return ''.join(\n",
    "        (_ for _ in normalize('NFD', text_nasty) if category(_) in ['Ll', 'Zs'])\n",
    "    )\n",
    "\n",
    "def custom_slug(text_convert):\n",
    "    return re.sub(r'\\s', '-', clean_text(text_convert))\n",
    "\n",
    "custom_slug(texto)"
   ]
  },
  {
   "cell_type": "code",
   "execution_count": null,
   "metadata": {},
   "outputs": [],
   "source": []
  }
 ],
 "metadata": {
  "kernelspec": {
   "display_name": "Python 3",
   "language": "python",
   "name": "python3"
  },
  "language_info": {
   "codemirror_mode": {
    "name": "ipython",
    "version": 3
   },
   "file_extension": ".py",
   "mimetype": "text/x-python",
   "name": "python",
   "nbconvert_exporter": "python",
   "pygments_lexer": "ipython3",
   "version": "3.6.8"
  }
 },
 "nbformat": 4,
 "nbformat_minor": 2
}
