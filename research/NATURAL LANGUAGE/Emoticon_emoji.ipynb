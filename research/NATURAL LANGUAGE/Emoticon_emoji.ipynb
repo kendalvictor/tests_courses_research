{
 "cells": [
  {
   "cell_type": "code",
   "execution_count": 1,
   "id": "incorrect-commerce",
   "metadata": {},
   "outputs": [],
   "source": [
    "import emot"
   ]
  },
  {
   "cell_type": "code",
   "execution_count": 2,
   "id": "absolute-whale",
   "metadata": {},
   "outputs": [
    {
     "data": {
      "text/plain": [
       "':-) Woohooo😍✌️'"
      ]
     },
     "execution_count": 2,
     "metadata": {},
     "output_type": "execute_result"
    }
   ],
   "source": [
    "text = ':-) Woohooo😍✌️'\n",
    "text"
   ]
  },
  {
   "cell_type": "code",
   "execution_count": 3,
   "id": "representative-comment",
   "metadata": {},
   "outputs": [],
   "source": [
    "from vaderSentiment.vaderSentiment import SentimentIntensityAnalyzer\n",
    "analyser = SentimentIntensityAnalyzer()"
   ]
  },
  {
   "cell_type": "code",
   "execution_count": 4,
   "id": "twelve-olympus",
   "metadata": {},
   "outputs": [
    {
     "data": {
      "text/plain": [
       "{'neg': 0.0, 'neu': 0.531, 'pos': 0.469, 'compound': 0.6486}"
      ]
     },
     "execution_count": 4,
     "metadata": {},
     "output_type": "execute_result"
    }
   ],
   "source": [
    "analyser.polarity_scores(text)  "
   ]
  },
  {
   "cell_type": "markdown",
   "id": "stuffed-screw",
   "metadata": {},
   "source": [
    "## SEPARANDO"
   ]
  },
  {
   "cell_type": "code",
   "execution_count": 5,
   "id": "conditional-wisdom",
   "metadata": {},
   "outputs": [
    {
     "name": "stdout",
     "output_type": "stream",
     "text": [
      "['EMOTICONS', 'EMO_UNICODE', 'UNICODE_EMO', '__author__', '__builtins__', '__cached__', '__doc__', '__email__', '__file__', '__license__', '__loader__', '__name__', '__package__', '__path__', '__source__', '__spec__', '__version__', 'core', 'emo_unicode', 'emoji', 'emoticons']\n"
     ]
    }
   ],
   "source": [
    "print(dir(emot))"
   ]
  },
  {
   "cell_type": "code",
   "execution_count": 6,
   "id": "cardiovascular-exhaust",
   "metadata": {},
   "outputs": [
    {
     "name": "stdout",
     "output_type": "stream",
     "text": [
      ":-) Woohooo😍✌️\n"
     ]
    }
   ],
   "source": [
    "for emoti in emot.emo_unicode.EMOTICONS:\n",
    "    if emoti in text:\n",
    "        text = text.replace(emoti, ' ' + emoti)\n",
    "        print(emoti)\n",
    "    \n",
    "print(text)"
   ]
  },
  {
   "cell_type": "code",
   "execution_count": 7,
   "id": "entitled-artist",
   "metadata": {},
   "outputs": [
    {
     "name": "stdout",
     "output_type": "stream",
     "text": [
      "😍\n",
      "✌\n",
      ":-) Woohooo 😍 ✌️\n"
     ]
    }
   ],
   "source": [
    "for emoti in emot.emo_unicode.UNICODE_EMO:\n",
    "    if emoti in text:\n",
    "        text = text.replace(emoti, ' ' + emoti)\n",
    "        print(emoti)\n",
    "        \n",
    "print(text)"
   ]
  },
  {
   "cell_type": "code",
   "execution_count": 8,
   "id": "worse-python",
   "metadata": {},
   "outputs": [
    {
     "name": "stdout",
     "output_type": "stream",
     "text": [
      ":-)\n",
      " :-) Woohooo 😍 ✌️\n"
     ]
    }
   ],
   "source": [
    "for emoti in emot.emo_unicode.EMOTICONS_EMO:\n",
    "    if emoti in text:\n",
    "        text = text.replace(emoti, ' ' + emoti)\n",
    "        print(emoti)\n",
    "        \n",
    "print(text)"
   ]
  },
  {
   "cell_type": "code",
   "execution_count": 9,
   "id": "charged-galaxy",
   "metadata": {},
   "outputs": [
    {
     "data": {
      "text/plain": [
       "{'neg': 0.0, 'neu': 0.531, 'pos': 0.469, 'compound': 0.6486}"
      ]
     },
     "execution_count": 9,
     "metadata": {},
     "output_type": "execute_result"
    }
   ],
   "source": [
    "analyser.polarity_scores(text)"
   ]
  },
  {
   "cell_type": "code",
   "execution_count": null,
   "id": "forbidden-staff",
   "metadata": {},
   "outputs": [],
   "source": []
  },
  {
   "cell_type": "markdown",
   "id": "hearing-snapshot",
   "metadata": {},
   "source": [
    "### REEMPLAZO POR SIGNIIFCADOS"
   ]
  },
  {
   "cell_type": "code",
   "execution_count": 10,
   "id": "inside-realtor",
   "metadata": {},
   "outputs": [],
   "source": [
    "def clean_mean(val):\n",
    "    return val.replace('_', ' ').replace('-', ' ').replace(':', ' ')"
   ]
  },
  {
   "cell_type": "code",
   "execution_count": 11,
   "id": "preliminary-commonwealth",
   "metadata": {},
   "outputs": [
    {
     "name": "stdout",
     "output_type": "stream",
     "text": [
      " :-) Woohooo 😍 ✌️\n"
     ]
    }
   ],
   "source": [
    "for emoti in emot.emo_unicode.EMOTICONS:\n",
    "    if emoti in text:\n",
    "        text = text.replace(emoti, clean_mean(emot.emo_unicode.EMOTICONS.get(emoti, '')))\n",
    "        print(emoti)\n",
    "    \n",
    "print(text)"
   ]
  },
  {
   "cell_type": "code",
   "execution_count": 12,
   "id": "filled-instrument",
   "metadata": {},
   "outputs": [
    {
     "name": "stdout",
     "output_type": "stream",
     "text": [
      "😍\n",
      "✌\n",
      " :-) Woohooo  smiling face with heart eyes   victory hand ️\n"
     ]
    }
   ],
   "source": [
    "for emoti in emot.emo_unicode.UNICODE_EMO:\n",
    "    if emoti in text:\n",
    "        text = text.replace(emoti, clean_mean(emot.emo_unicode.UNICODE_EMO.get(emoti, '')))\n",
    "        print(emoti)\n",
    "        \n",
    "print(text)"
   ]
  },
  {
   "cell_type": "code",
   "execution_count": 13,
   "id": "understood-phrase",
   "metadata": {},
   "outputs": [
    {
     "name": "stdout",
     "output_type": "stream",
     "text": [
      ":-)\n",
      " Happy face smiley Woohooo  smiling face with heart eyes   victory hand ️\n"
     ]
    }
   ],
   "source": [
    "for emoti in emot.emo_unicode.EMOTICONS_EMO:\n",
    "    if emoti in text:\n",
    "        text = text.replace(emoti, clean_mean(emot.emo_unicode.EMOTICONS_EMO.get(emoti, '')))\n",
    "        print(emoti)\n",
    "        \n",
    "print(text)"
   ]
  },
  {
   "cell_type": "code",
   "execution_count": 14,
   "id": "infinite-jamaica",
   "metadata": {},
   "outputs": [
    {
     "data": {
      "text/plain": [
       "{'neg': 0.0, 'neu': 0.294, 'pos': 0.706, 'compound': 0.9501}"
      ]
     },
     "execution_count": 14,
     "metadata": {},
     "output_type": "execute_result"
    }
   ],
   "source": [
    "analyser.polarity_scores(text)"
   ]
  },
  {
   "cell_type": "code",
   "execution_count": null,
   "id": "driving-consolidation",
   "metadata": {},
   "outputs": [],
   "source": []
  },
  {
   "cell_type": "markdown",
   "id": "compressed-exposure",
   "metadata": {},
   "source": [
    "## EXAMPLE"
   ]
  },
  {
   "cell_type": "code",
   "execution_count": 17,
   "id": "superb-insurance",
   "metadata": {},
   "outputs": [
    {
     "name": "stdout",
     "output_type": "stream",
     "text": [
      "😍\n",
      "✌\n",
      ":-)\n",
      " Happy face smiley Woohooo  smiling face with heart eyes   victory hand ️\n"
     ]
    }
   ],
   "source": [
    "text = ':-) Woohooo😍✌️'\n",
    "\n",
    "def clean_mean(val):\n",
    "    return val.replace('_', ' ').replace('-', ' ').replace(':', ' ')\n",
    "\n",
    "for emoti in emot.emo_unicode.EMOTICONS:\n",
    "    if emoti in text:\n",
    "        text = text.replace(emoti, ' ' + clean_mean(emot.emo_unicode.EMOTICONS.get(emoti, '')))\n",
    "        print(emoti)\n",
    "        \n",
    "for emoti in emot.emo_unicode.UNICODE_EMO:\n",
    "    if emoti in text:\n",
    "        text = text.replace(emoti, ' ' + clean_mean(emot.emo_unicode.UNICODE_EMO.get(emoti, '')))\n",
    "        print(emoti)\n",
    "        \n",
    "for emoti in emot.emo_unicode.EMOTICONS_EMO:\n",
    "    if emoti in text:\n",
    "        text = text.replace(emoti, ' ' + clean_mean(emot.emo_unicode.EMOTICONS_EMO.get(emoti, '')))\n",
    "        print(emoti)\n",
    "        \n",
    "print(text)    "
   ]
  },
  {
   "cell_type": "code",
   "execution_count": 18,
   "id": "demanding-expense",
   "metadata": {},
   "outputs": [
    {
     "data": {
      "text/plain": [
       "{'neg': 0.0, 'neu': 0.294, 'pos': 0.706, 'compound': 0.9501}"
      ]
     },
     "execution_count": 18,
     "metadata": {},
     "output_type": "execute_result"
    }
   ],
   "source": [
    "analyser.polarity_scores(text)"
   ]
  },
  {
   "cell_type": "code",
   "execution_count": null,
   "id": "outer-landing",
   "metadata": {},
   "outputs": [],
   "source": []
  },
  {
   "cell_type": "markdown",
   "id": "excellent-westminster",
   "metadata": {},
   "source": [
    "### !"
   ]
  },
  {
   "cell_type": "code",
   "execution_count": 34,
   "id": "compatible-element",
   "metadata": {},
   "outputs": [
    {
     "data": {
      "text/plain": [
       "{'neg': 0.608, 'neu': 0.392, 'pos': 0.0, 'compound': -0.4767}"
      ]
     },
     "execution_count": 34,
     "metadata": {},
     "output_type": "execute_result"
    }
   ],
   "source": [
    "text_1 = 'I am sad'\n",
    "analyser.polarity_scores(text_1)"
   ]
  },
  {
   "cell_type": "code",
   "execution_count": 35,
   "id": "hybrid-stamp",
   "metadata": {},
   "outputs": [
    {
     "data": {
      "text/plain": [
       "{'neg': 0.657, 'neu': 0.343, 'pos': 0.0, 'compound': -0.5904}"
      ]
     },
     "execution_count": 35,
     "metadata": {},
     "output_type": "execute_result"
    }
   ],
   "source": [
    "text_1 = 'I am SAD'\n",
    "analyser.polarity_scores(text_1)"
   ]
  },
  {
   "cell_type": "code",
   "execution_count": 23,
   "id": "incorporated-enforcement",
   "metadata": {},
   "outputs": [
    {
     "data": {
      "text/plain": [
       "{'neg': 0.629, 'neu': 0.371, 'pos': 0.0, 'compound': -0.5255}"
      ]
     },
     "execution_count": 23,
     "metadata": {},
     "output_type": "execute_result"
    }
   ],
   "source": [
    "text_1 = 'I am sad!'\n",
    "analyser.polarity_scores(text_1)"
   ]
  },
  {
   "cell_type": "code",
   "execution_count": 36,
   "id": "incorrect-doubt",
   "metadata": {},
   "outputs": [
    {
     "data": {
      "text/plain": [
       "{'neg': 0.673, 'neu': 0.327, 'pos': 0.0, 'compound': -0.628}"
      ]
     },
     "execution_count": 36,
     "metadata": {},
     "output_type": "execute_result"
    }
   ],
   "source": [
    "text_1 = 'I am SAD!'\n",
    "analyser.polarity_scores(text_1)"
   ]
  },
  {
   "cell_type": "code",
   "execution_count": 37,
   "id": "static-candle",
   "metadata": {},
   "outputs": [
    {
     "data": {
      "text/plain": [
       "{'neg': 0.648, 'neu': 0.352, 'pos': 0.0, 'compound': -0.5696}"
      ]
     },
     "execution_count": 37,
     "metadata": {},
     "output_type": "execute_result"
    }
   ],
   "source": [
    "text_1 = 'I am sad!!'\n",
    "analyser.polarity_scores(text_1)"
   ]
  },
  {
   "cell_type": "code",
   "execution_count": 38,
   "id": "professional-conspiracy",
   "metadata": {},
   "outputs": [
    {
     "data": {
      "text/plain": [
       "{'neg': 0.688, 'neu': 0.312, 'pos': 0.0, 'compound': -0.6616}"
      ]
     },
     "execution_count": 38,
     "metadata": {},
     "output_type": "execute_result"
    }
   ],
   "source": [
    "text_1 = 'I am SAD!!'\n",
    "analyser.polarity_scores(text_1)"
   ]
  },
  {
   "cell_type": "code",
   "execution_count": 39,
   "id": "built-tuning",
   "metadata": {},
   "outputs": [
    {
     "data": {
      "text/plain": [
       "{'neg': 0.714, 'neu': 0.286, 'pos': 0.0, 'compound': -0.7185}"
      ]
     },
     "execution_count": 39,
     "metadata": {},
     "output_type": "execute_result"
    }
   ],
   "source": [
    "text_1 = 'I am SAD!!!!!!!!!!!'\n",
    "analyser.polarity_scores(text_1)"
   ]
  },
  {
   "cell_type": "code",
   "execution_count": 32,
   "id": "current-inspiration",
   "metadata": {},
   "outputs": [
    {
     "name": "stdout",
     "output_type": "stream",
     "text": [
      "{'neg': 0.629, 'neu': 0.371, 'pos': 0.0, 'compound': -0.5255}\n",
      "{'neg': 0.673, 'neu': 0.327, 'pos': 0.0, 'compound': -0.628}\n"
     ]
    }
   ],
   "source": [
    "text_1 = 'I am sad!'\n",
    "print(analyser.polarity_scores(text_1))\n",
    "\n",
    "for word in text_1.split():\n",
    "    if '!' in word:\n",
    "        text_1 = text_1.replace(word, word.upper())\n",
    "        \n",
    "print(analyser.polarity_scores(text_1))"
   ]
  },
  {
   "cell_type": "code",
   "execution_count": null,
   "id": "third-timothy",
   "metadata": {},
   "outputs": [],
   "source": []
  },
  {
   "cell_type": "code",
   "execution_count": null,
   "id": "fixed-relaxation",
   "metadata": {},
   "outputs": [],
   "source": []
  },
  {
   "cell_type": "markdown",
   "id": "looking-dublin",
   "metadata": {},
   "source": [
    "### NLTK"
   ]
  },
  {
   "cell_type": "code",
   "execution_count": 40,
   "id": "confidential-coupon",
   "metadata": {},
   "outputs": [
    {
     "name": "stdout",
     "output_type": "stream",
     "text": [
      "['i', 'me', 'my', 'myself', 'we', 'our', 'ours', 'ourselves', 'you', \"you're\", \"you've\", \"you'll\", \"you'd\", 'your', 'yours', 'yourself', 'yourselves', 'he', 'him', 'his', 'himself', 'she', \"she's\", 'her', 'hers', 'herself', 'it', \"it's\", 'its', 'itself', 'they', 'them', 'their', 'theirs', 'themselves', 'what', 'which', 'who', 'whom', 'this', 'that', \"that'll\", 'these', 'those', 'am', 'is', 'are', 'was', 'were', 'be', 'been', 'being', 'have', 'has', 'had', 'having', 'do', 'does', 'did', 'doing', 'a', 'an', 'the', 'and', 'but', 'if', 'or', 'because', 'as', 'until', 'while', 'of', 'at', 'by', 'for', 'with', 'about', 'against', 'between', 'into', 'through', 'during', 'before', 'after', 'above', 'below', 'to', 'from', 'up', 'down', 'in', 'out', 'on', 'off', 'over', 'under', 'again', 'further', 'then', 'once', 'here', 'there', 'when', 'where', 'why', 'how', 'all', 'any', 'both', 'each', 'few', 'more', 'most', 'other', 'some', 'such', 'no', 'nor', 'not', 'only', 'own', 'same', 'so', 'than', 'too', 'very', 's', 't', 'can', 'will', 'just', 'don', \"don't\", 'should', \"should've\", 'now', 'd', 'll', 'm', 'o', 're', 've', 'y', 'ain', 'aren', \"aren't\", 'couldn', \"couldn't\", 'didn', \"didn't\", 'doesn', \"doesn't\", 'hadn', \"hadn't\", 'hasn', \"hasn't\", 'haven', \"haven't\", 'isn', \"isn't\", 'ma', 'mightn', \"mightn't\", 'mustn', \"mustn't\", 'needn', \"needn't\", 'shan', \"shan't\", 'shouldn', \"shouldn't\", 'wasn', \"wasn't\", 'weren', \"weren't\", 'won', \"won't\", 'wouldn', \"wouldn't\"]\n"
     ]
    }
   ],
   "source": [
    "import nltk\n",
    "from nltk.corpus import stopwords\n",
    "print(stopwords.words('english'))"
   ]
  },
  {
   "cell_type": "code",
   "execution_count": 41,
   "id": "narrative-matthew",
   "metadata": {},
   "outputs": [
    {
     "data": {
      "text/plain": [
       "' Happy face smiley Woohooo  smiling face with heart eyes   victory hand ️'"
      ]
     },
     "execution_count": 41,
     "metadata": {},
     "output_type": "execute_result"
    }
   ],
   "source": [
    "text"
   ]
  },
  {
   "cell_type": "code",
   "execution_count": 43,
   "id": "broad-string",
   "metadata": {},
   "outputs": [
    {
     "data": {
      "text/plain": [
       "'Happy face smiley Woohooo smiling face heart eyes victory hand ️'"
      ]
     },
     "execution_count": 43,
     "metadata": {},
     "output_type": "execute_result"
    }
   ],
   "source": [
    "' '.join([word for word in text.split() if word not in stopwords.words('english')]).strip()"
   ]
  },
  {
   "cell_type": "code",
   "execution_count": 44,
   "id": "random-breed",
   "metadata": {},
   "outputs": [
    {
     "data": {
      "text/plain": [
       "'Happy face smiley Woohooo smiling face heart eyes victory hand ️'"
      ]
     },
     "execution_count": 44,
     "metadata": {},
     "output_type": "execute_result"
    }
   ],
   "source": [
    "text = ' '.join([word for word in text.split() if word not in stopwords.words('english')]).strip()\n",
    "text"
   ]
  },
  {
   "cell_type": "code",
   "execution_count": 48,
   "id": "arctic-doctrine",
   "metadata": {},
   "outputs": [
    {
     "name": "stdout",
     "output_type": "stream",
     "text": [
      "{'neg': 0.0, 'neu': 0.263, 'pos': 0.737, 'compound': 0.9501}\n"
     ]
    }
   ],
   "source": [
    "print(analyser.polarity_scores(text))"
   ]
  },
  {
   "cell_type": "code",
   "execution_count": null,
   "id": "organized-injection",
   "metadata": {},
   "outputs": [],
   "source": []
  }
 ],
 "metadata": {
  "kernelspec": {
   "display_name": "Python 3",
   "language": "python",
   "name": "python3"
  },
  "language_info": {
   "codemirror_mode": {
    "name": "ipython",
    "version": 3
   },
   "file_extension": ".py",
   "mimetype": "text/x-python",
   "name": "python",
   "nbconvert_exporter": "python",
   "pygments_lexer": "ipython3",
   "version": "3.8.5"
  }
 },
 "nbformat": 4,
 "nbformat_minor": 5
}
