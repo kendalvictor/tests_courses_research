{
 "cells": [
  {
   "cell_type": "code",
   "execution_count": 1,
   "id": "pending-indian",
   "metadata": {},
   "outputs": [],
   "source": [
    "import emot"
   ]
  },
  {
   "cell_type": "code",
   "execution_count": 2,
   "id": "adjusted-feelings",
   "metadata": {},
   "outputs": [
    {
     "data": {
      "text/plain": [
       "':-) Woohooo😍✌️'"
      ]
     },
     "execution_count": 2,
     "metadata": {},
     "output_type": "execute_result"
    }
   ],
   "source": [
    "text = ':-) Woohooo😍✌️'\n",
    "text"
   ]
  },
  {
   "cell_type": "code",
   "execution_count": 3,
   "id": "large-truth",
   "metadata": {},
   "outputs": [],
   "source": [
    "from vaderSentiment.vaderSentiment import SentimentIntensityAnalyzer\n",
    "analyser = SentimentIntensityAnalyzer()"
   ]
  },
  {
   "cell_type": "code",
   "execution_count": 4,
   "id": "radical-tenant",
   "metadata": {},
   "outputs": [
    {
     "data": {
      "text/plain": [
       "{'neg': 0.0, 'neu': 0.531, 'pos': 0.469, 'compound': 0.6486}"
      ]
     },
     "execution_count": 4,
     "metadata": {},
     "output_type": "execute_result"
    }
   ],
   "source": [
    "analyser.polarity_scores(text)  "
   ]
  },
  {
   "cell_type": "markdown",
   "id": "balanced-beatles",
   "metadata": {},
   "source": [
    "## SEPARANDO"
   ]
  },
  {
   "cell_type": "code",
   "execution_count": 5,
   "id": "invisible-bundle",
   "metadata": {},
   "outputs": [
    {
     "name": "stdout",
     "output_type": "stream",
     "text": [
      "['EMOTICONS', 'EMO_UNICODE', 'UNICODE_EMO', '__author__', '__builtins__', '__cached__', '__doc__', '__email__', '__file__', '__license__', '__loader__', '__name__', '__package__', '__path__', '__source__', '__spec__', '__version__', 'core', 'emo_unicode', 'emoji', 'emoticons']\n"
     ]
    }
   ],
   "source": [
    "print(dir(emot))"
   ]
  },
  {
   "cell_type": "code",
   "execution_count": 6,
   "id": "hollow-title",
   "metadata": {},
   "outputs": [
    {
     "name": "stdout",
     "output_type": "stream",
     "text": [
      ":-) Woohooo😍✌️\n"
     ]
    }
   ],
   "source": [
    "for emoti in emot.emo_unicode.EMOTICONS:\n",
    "    if emoti in text:\n",
    "        text = text.replace(emoti, ' ' + emoti)\n",
    "        print(emoti)\n",
    "    \n",
    "print(text)"
   ]
  },
  {
   "cell_type": "code",
   "execution_count": 7,
   "id": "intended-adelaide",
   "metadata": {},
   "outputs": [
    {
     "name": "stdout",
     "output_type": "stream",
     "text": [
      "😍\n",
      "✌\n",
      ":-) Woohooo 😍 ✌️\n"
     ]
    }
   ],
   "source": [
    "for emoti in emot.emo_unicode.UNICODE_EMO:\n",
    "    if emoti in text:\n",
    "        text = text.replace(emoti, ' ' + emoti)\n",
    "        print(emoti)\n",
    "        \n",
    "print(text)"
   ]
  },
  {
   "cell_type": "code",
   "execution_count": 8,
   "id": "muslim-chorus",
   "metadata": {},
   "outputs": [
    {
     "name": "stdout",
     "output_type": "stream",
     "text": [
      ":-)\n",
      " :-) Woohooo 😍 ✌️\n"
     ]
    }
   ],
   "source": [
    "for emoti in emot.emo_unicode.EMOTICONS_EMO:\n",
    "    if emoti in text:\n",
    "        text = text.replace(emoti, ' ' + emoti)\n",
    "        print(emoti)\n",
    "        \n",
    "print(text)"
   ]
  },
  {
   "cell_type": "code",
   "execution_count": 9,
   "id": "lucky-instrument",
   "metadata": {},
   "outputs": [
    {
     "data": {
      "text/plain": [
       "{'neg': 0.0, 'neu': 0.531, 'pos': 0.469, 'compound': 0.6486}"
      ]
     },
     "execution_count": 9,
     "metadata": {},
     "output_type": "execute_result"
    }
   ],
   "source": [
    "analyser.polarity_scores(text)"
   ]
  },
  {
   "cell_type": "code",
   "execution_count": null,
   "id": "widespread-facing",
   "metadata": {},
   "outputs": [],
   "source": []
  },
  {
   "cell_type": "markdown",
   "id": "alert-domestic",
   "metadata": {},
   "source": [
    "### REEMPLAZO POR SIGNIIFCADOS"
   ]
  },
  {
   "cell_type": "code",
   "execution_count": 10,
   "id": "narrow-biotechnology",
   "metadata": {},
   "outputs": [],
   "source": [
    "def clean_mean(val):\n",
    "    return val.replace('_', ' ').replace('-', ' ').replace(':', ' ')"
   ]
  },
  {
   "cell_type": "code",
   "execution_count": 11,
   "id": "changed-regression",
   "metadata": {},
   "outputs": [
    {
     "name": "stdout",
     "output_type": "stream",
     "text": [
      " :-) Woohooo 😍 ✌️\n"
     ]
    }
   ],
   "source": [
    "for emoti in emot.emo_unicode.EMOTICONS:\n",
    "    if emoti in text:\n",
    "        text = text.replace(emoti, clean_mean(emot.emo_unicode.EMOTICONS.get(emoti, '')))\n",
    "        print(emoti)\n",
    "    \n",
    "print(text)"
   ]
  },
  {
   "cell_type": "code",
   "execution_count": 12,
   "id": "potential-keyboard",
   "metadata": {},
   "outputs": [
    {
     "name": "stdout",
     "output_type": "stream",
     "text": [
      "😍\n",
      "✌\n",
      " :-) Woohooo  smiling face with heart eyes   victory hand ️\n"
     ]
    }
   ],
   "source": [
    "for emoti in emot.emo_unicode.UNICODE_EMO:\n",
    "    if emoti in text:\n",
    "        text = text.replace(emoti, clean_mean(emot.emo_unicode.UNICODE_EMO.get(emoti, '')))\n",
    "        print(emoti)\n",
    "        \n",
    "print(text)"
   ]
  },
  {
   "cell_type": "code",
   "execution_count": 13,
   "id": "built-vampire",
   "metadata": {},
   "outputs": [
    {
     "name": "stdout",
     "output_type": "stream",
     "text": [
      ":-)\n",
      " Happy face smiley Woohooo  smiling face with heart eyes   victory hand ️\n"
     ]
    }
   ],
   "source": [
    "for emoti in emot.emo_unicode.EMOTICONS_EMO:\n",
    "    if emoti in text:\n",
    "        text = text.replace(emoti, clean_mean(emot.emo_unicode.EMOTICONS_EMO.get(emoti, '')))\n",
    "        print(emoti)\n",
    "        \n",
    "print(text)"
   ]
  },
  {
   "cell_type": "code",
   "execution_count": 14,
   "id": "terminal-annotation",
   "metadata": {},
   "outputs": [
    {
     "data": {
      "text/plain": [
       "{'neg': 0.0, 'neu': 0.294, 'pos': 0.706, 'compound': 0.9501}"
      ]
     },
     "execution_count": 14,
     "metadata": {},
     "output_type": "execute_result"
    }
   ],
   "source": [
    "analyser.polarity_scores(text)"
   ]
  },
  {
   "cell_type": "code",
   "execution_count": null,
   "id": "fixed-acting",
   "metadata": {},
   "outputs": [],
   "source": []
  },
  {
   "cell_type": "markdown",
   "id": "natural-raise",
   "metadata": {},
   "source": [
    "## EXAMPLE"
   ]
  },
  {
   "cell_type": "code",
   "execution_count": 17,
   "id": "helpful-washer",
   "metadata": {},
   "outputs": [
    {
     "name": "stdout",
     "output_type": "stream",
     "text": [
      "😍\n",
      "✌\n",
      ":-)\n",
      " Happy face smiley Woohooo  smiling face with heart eyes   victory hand ️\n"
     ]
    }
   ],
   "source": [
    "text = ':-) Woohooo😍✌️'\n",
    "\n",
    "def clean_mean(val):\n",
    "    return val.replace('_', ' ').replace('-', ' ').replace(':', ' ')\n",
    "\n",
    "for emoti in emot.emo_unicode.EMOTICONS:\n",
    "    if emoti in text:\n",
    "        text = text.replace(emoti, ' ' + clean_mean(emot.emo_unicode.EMOTICONS.get(emoti, '')))\n",
    "        print(emoti)\n",
    "        \n",
    "for emoti in emot.emo_unicode.UNICODE_EMO:\n",
    "    if emoti in text:\n",
    "        text = text.replace(emoti, ' ' + clean_mean(emot.emo_unicode.UNICODE_EMO.get(emoti, '')))\n",
    "        print(emoti)\n",
    "        \n",
    "for emoti in emot.emo_unicode.EMOTICONS_EMO:\n",
    "    if emoti in text:\n",
    "        text = text.replace(emoti, ' ' + clean_mean(emot.emo_unicode.EMOTICONS_EMO.get(emoti, '')))\n",
    "        print(emoti)\n",
    "        \n",
    "print(text)    "
   ]
  },
  {
   "cell_type": "code",
   "execution_count": 18,
   "id": "cellular-entrepreneur",
   "metadata": {},
   "outputs": [
    {
     "data": {
      "text/plain": [
       "{'neg': 0.0, 'neu': 0.294, 'pos': 0.706, 'compound': 0.9501}"
      ]
     },
     "execution_count": 18,
     "metadata": {},
     "output_type": "execute_result"
    }
   ],
   "source": [
    "analyser.polarity_scores(text)"
   ]
  },
  {
   "cell_type": "code",
   "execution_count": null,
   "id": "loose-browser",
   "metadata": {},
   "outputs": [],
   "source": []
  },
  {
   "cell_type": "markdown",
   "id": "amateur-technique",
   "metadata": {},
   "source": [
    "### !"
   ]
  },
  {
   "cell_type": "code",
   "execution_count": 21,
   "id": "hydraulic-register",
   "metadata": {},
   "outputs": [
    {
     "data": {
      "text/plain": [
       "{'neg': 0.608, 'neu': 0.392, 'pos': 0.0, 'compound': -0.4767}"
      ]
     },
     "execution_count": 21,
     "metadata": {},
     "output_type": "execute_result"
    }
   ],
   "source": [
    "text_1 = 'I am sad'\n",
    "analyser.polarity_scores(text_1)"
   ]
  },
  {
   "cell_type": "code",
   "execution_count": 23,
   "id": "failing-stanley",
   "metadata": {},
   "outputs": [
    {
     "data": {
      "text/plain": [
       "{'neg': 0.629, 'neu': 0.371, 'pos': 0.0, 'compound': -0.5255}"
      ]
     },
     "execution_count": 23,
     "metadata": {},
     "output_type": "execute_result"
    }
   ],
   "source": [
    "text_1 = 'I am sad!'\n",
    "analyser.polarity_scores(text_1)"
   ]
  },
  {
   "cell_type": "code",
   "execution_count": 24,
   "id": "assisted-japanese",
   "metadata": {},
   "outputs": [
    {
     "data": {
      "text/plain": [
       "{'neg': 0.648, 'neu': 0.352, 'pos': 0.0, 'compound': -0.5696}"
      ]
     },
     "execution_count": 24,
     "metadata": {},
     "output_type": "execute_result"
    }
   ],
   "source": [
    "text_1 = 'I am sad!!'\n",
    "analyser.polarity_scores(text_1)"
   ]
  },
  {
   "cell_type": "code",
   "execution_count": 27,
   "id": "proud-indication",
   "metadata": {},
   "outputs": [
    {
     "data": {
      "text/plain": [
       "{'neg': 0.673, 'neu': 0.327, 'pos': 0.0, 'compound': -0.628}"
      ]
     },
     "execution_count": 27,
     "metadata": {},
     "output_type": "execute_result"
    }
   ],
   "source": [
    "text_1 = 'I am SAD!'\n",
    "analyser.polarity_scores(text_1)"
   ]
  },
  {
   "cell_type": "code",
   "execution_count": 28,
   "id": "conceptual-strip",
   "metadata": {},
   "outputs": [
    {
     "data": {
      "text/plain": [
       "{'neg': 0.688, 'neu': 0.312, 'pos': 0.0, 'compound': -0.6616}"
      ]
     },
     "execution_count": 28,
     "metadata": {},
     "output_type": "execute_result"
    }
   ],
   "source": [
    "text_1 = 'I am SAD!!'\n",
    "analyser.polarity_scores(text_1)"
   ]
  },
  {
   "cell_type": "code",
   "execution_count": 29,
   "id": "funny-easter",
   "metadata": {},
   "outputs": [
    {
     "data": {
      "text/plain": [
       "{'neg': 0.714, 'neu': 0.286, 'pos': 0.0, 'compound': -0.7185}"
      ]
     },
     "execution_count": 29,
     "metadata": {},
     "output_type": "execute_result"
    }
   ],
   "source": [
    "text_1 = 'I am SAD!!!!!!!!!!!'\n",
    "analyser.polarity_scores(text_1)"
   ]
  },
  {
   "cell_type": "code",
   "execution_count": 30,
   "id": "banner-aaron",
   "metadata": {},
   "outputs": [
    {
     "data": {
      "text/plain": [
       "'I am SAD!'"
      ]
     },
     "execution_count": 30,
     "metadata": {},
     "output_type": "execute_result"
    }
   ],
   "source": [
    "text_1 = 'I am sad!'\n",
    "analyser.polarity_scores(text_1)\n",
    "\n",
    "for word in text_1.split():\n",
    "    if '!' in word:\n",
    "        text_1 = text_1.replace(word, word.upper())\n",
    "        \n",
    "text_1"
   ]
  },
  {
   "cell_type": "code",
   "execution_count": null,
   "id": "fiscal-balloon",
   "metadata": {},
   "outputs": [],
   "source": []
  }
 ],
 "metadata": {
  "kernelspec": {
   "display_name": "Python 3",
   "language": "python",
   "name": "python3"
  },
  "language_info": {
   "codemirror_mode": {
    "name": "ipython",
    "version": 3
   },
   "file_extension": ".py",
   "mimetype": "text/x-python",
   "name": "python",
   "nbconvert_exporter": "python",
   "pygments_lexer": "ipython3",
   "version": "3.8.5"
  }
 },
 "nbformat": 4,
 "nbformat_minor": 5
}
