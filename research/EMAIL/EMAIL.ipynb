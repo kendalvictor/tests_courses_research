{
 "cells": [
  {
   "cell_type": "code",
   "execution_count": 100,
   "id": "designed-brook",
   "metadata": {},
   "outputs": [],
   "source": [
    "import re\n",
    "import smtplib\n",
    "import logging\n",
    "import socket\n",
    "\n",
    "\n",
    "import dns\n",
    "import socket\n",
    "import smtplib\n",
    "from dns import resolver"
   ]
  },
  {
   "cell_type": "code",
   "execution_count": 94,
   "id": "frequent-essex",
   "metadata": {},
   "outputs": [],
   "source": [
    "WSP = r'[\\s]'                                        # see 2.2.2. Structured Header Field Bodies\n",
    "CRLF = r'(?:\\r\\n)'                                   # see 2.2.3. Long Header Fields\n",
    "NO_WS_CTL = r'\\x01-\\x08\\x0b\\x0c\\x0f-\\x1f\\x7f'        # see 3.2.1. Primitive Tokens\n",
    "QUOTED_PAIR = r'(?:\\\\.)'                             # see 3.2.2. Quoted characters\n",
    "FWS = r'(?:(?:' + WSP + r'*' + CRLF + r')?' + \\\n",
    "      WSP + r'+)'                                    # see 3.2.3. Folding white space and comments\n",
    "CTEXT = r'[' + NO_WS_CTL + \\\n",
    "        r'\\x21-\\x27\\x2a-\\x5b\\x5d-\\x7e]'              # see 3.2.3\n",
    "CCONTENT = r'(?:' + CTEXT + r'|' + \\\n",
    "           QUOTED_PAIR + r')'                        # see 3.2.3 (NB: The RFC includes COMMENT here\n",
    "# as well, but that would be circular.)\n",
    "COMMENT = r'\\((?:' + FWS + r'?' + CCONTENT + \\\n",
    "          r')*' + FWS + r'?\\)'                       # see 3.2.3\n",
    "CFWS = r'(?:' + FWS + r'?' + COMMENT + ')*(?:' + \\\n",
    "       FWS + '?' + COMMENT + '|' + FWS + ')'         # see 3.2.3\n",
    "ATEXT = r'[\\w!#$%&\\'\\*\\+\\-/=\\?\\^`\\{\\|\\}~]'           # see 3.2.4. Atom\n",
    "ATOM = CFWS + r'?' + ATEXT + r'+' + CFWS + r'?'      # see 3.2.4\n",
    "DOT_ATOM_TEXT = ATEXT + r'+(?:\\.' + ATEXT + r'+)*'   # see 3.2.4\n",
    "DOT_ATOM = CFWS + r'?' + DOT_ATOM_TEXT + CFWS + r'?' # see 3.2.4\n",
    "QTEXT = r'[' + NO_WS_CTL + \\\n",
    "        r'\\x21\\x23-\\x5b\\x5d-\\x7e]'                   # see 3.2.5. Quoted strings\n",
    "QCONTENT = r'(?:' + QTEXT + r'|' + \\\n",
    "           QUOTED_PAIR + r')'                        # see 3.2.5\n",
    "QUOTED_STRING = CFWS + r'?' + r'\"(?:' + FWS + \\\n",
    "                r'?' + QCONTENT + r')*' + FWS + \\\n",
    "                r'?' + r'\"' + CFWS + r'?'\n",
    "LOCAL_PART = r'(?:' + DOT_ATOM + r'|' + \\\n",
    "             QUOTED_STRING + r')'                    # see 3.4.1. Addr-spec specification\n",
    "DTEXT = r'[' + NO_WS_CTL + r'\\x21-\\x5a\\x5e-\\x7e]'    # see 3.4.1\n",
    "DCONTENT = r'(?:' + DTEXT + r'|' + \\\n",
    "           QUOTED_PAIR + r')'                        # see 3.4.1\n",
    "DOMAIN_LITERAL = CFWS + r'?' + r'\\[' + \\\n",
    "                 r'(?:' + FWS + r'?' + DCONTENT + \\\n",
    "                 r')*' + FWS + r'?\\]' + CFWS + r'?'  # see 3.4.1\n",
    "DOMAIN = r'(?:' + DOT_ATOM + r'|' + \\\n",
    "         DOMAIN_LITERAL + r')'                       # see 3.4.1\n",
    "ADDR_SPEC = LOCAL_PART + r'@' + DOMAIN               # see 3.4.1\n",
    "\n",
    "# A valid address will match exactly the 3.4.1 addr-spec.\n",
    "VALID_ADDRESS_REGEXP = '^' + ADDR_SPEC + '$'"
   ]
  },
  {
   "cell_type": "markdown",
   "id": "random-evanescence",
   "metadata": {},
   "source": [
    "## VALIDACION DE SINTAXIS"
   ]
  },
  {
   "cell_type": "code",
   "execution_count": 95,
   "id": "adjacent-instrumentation",
   "metadata": {},
   "outputs": [],
   "source": [
    "def validate_syntax(email):\n",
    "    try:\n",
    "        assert re.match(VALID_ADDRESS_REGEXP, email) is not None\n",
    "    except AssertionError:\n",
    "        return False\n",
    "    \n",
    "    return True"
   ]
  },
  {
   "cell_type": "code",
   "execution_count": 96,
   "id": "protective-midwest",
   "metadata": {},
   "outputs": [
    {
     "data": {
      "text/plain": [
       "True"
      ]
     },
     "execution_count": 96,
     "metadata": {},
     "output_type": "execute_result"
    }
   ],
   "source": [
    "validate_syntax('dcsdcds@c.com')"
   ]
  },
  {
   "cell_type": "code",
   "execution_count": null,
   "id": "classified-judges",
   "metadata": {},
   "outputs": [],
   "source": []
  },
  {
   "cell_type": "markdown",
   "id": "dominican-mouth",
   "metadata": {},
   "source": [
    "### VALIDACION DE HOST"
   ]
  },
  {
   "cell_type": "code",
   "execution_count": 150,
   "id": "charged-teddy",
   "metadata": {},
   "outputs": [],
   "source": []
  },
  {
   "cell_type": "code",
   "execution_count": 158,
   "id": "continent-virginia",
   "metadata": {},
   "outputs": [
    {
     "name": "stdout",
     "output_type": "stream",
     "text": [
      "intentos:  8\n",
      "alt4.gmail-smtp-in.l.google.com.\n"
     ]
    }
   ],
   "source": [
    "host_mx_dict = {}\n",
    "def validate_hostname(hostname):\n",
    "    try:\n",
    "        if hostname in host_mx_dict:\n",
    "            return host_mx_dict[hostname]\n",
    "        \n",
    "        intent = 1\n",
    "        first = str(resolver.resolve(hostname, \"MX\")[0].exchange)\n",
    "        \n",
    "        while first == 'errdomain.' and intent < 100:\n",
    "            first = str(resolver.resolve(hostname, \"MX\")[0].exchange)\n",
    "            intent += 1\n",
    "        \n",
    "        print(\"intentos: \", intent)\n",
    "        host_mx_dict[hostname] = first\n",
    "        return first\n",
    "    except Exception as e:\n",
    "        print(str(e))\n",
    "        return False\n",
    "    \n",
    "mx_record = validate_hostname('gmail.com')\n",
    "print(mx_record)"
   ]
  },
  {
   "cell_type": "code",
   "execution_count": 159,
   "id": "german-guide",
   "metadata": {},
   "outputs": [
    {
     "name": "stdout",
     "output_type": "stream",
     "text": [
      "The DNS query name does not exist: gmaicdscl.com.\n"
     ]
    },
    {
     "data": {
      "text/plain": [
       "False"
      ]
     },
     "execution_count": 159,
     "metadata": {},
     "output_type": "execute_result"
    }
   ],
   "source": [
    "validate_hostname('gmaicdscl.com')"
   ]
  },
  {
   "cell_type": "code",
   "execution_count": 160,
   "id": "ambient-wound",
   "metadata": {},
   "outputs": [
    {
     "data": {
      "text/plain": [
       "{'google.com': 'alt1.aspmx.l.google.com.',\n",
       " 'gmail.com': 'alt4.gmail-smtp-in.l.google.com.'}"
      ]
     },
     "execution_count": 160,
     "metadata": {},
     "output_type": "execute_result"
    }
   ],
   "source": [
    "host_mx_dict"
   ]
  },
  {
   "cell_type": "markdown",
   "id": "lucky-position",
   "metadata": {},
   "source": [
    "### VALIDACION DE EMAILS"
   ]
  },
  {
   "cell_type": "code",
   "execution_count": 173,
   "id": "interpreted-civilian",
   "metadata": {},
   "outputs": [
    {
     "name": "stdout",
     "output_type": "stream",
     "text": [
      "True\n"
     ]
    }
   ],
   "source": [
    "host = socket.gethostname()\n",
    "server = smtplib.SMTP()\n",
    "server.set_debuglevel(0)\n",
    "\n",
    "server.connect(mx_record)\n",
    "server.helo(host)\n",
    "server.mail('me@gmail.com')\n",
    "code, message = server.rcpt('v.villacorta.unmsm@gmail.com')\n",
    "server.quit()\n",
    "\n",
    "# Assume 250 as Success\n",
    "if code == 250:\n",
    "\tprint(True)\n",
    "else:\n",
    "\tprint(False)"
   ]
  },
  {
   "cell_type": "code",
   "execution_count": 162,
   "id": "communist-union",
   "metadata": {},
   "outputs": [
    {
     "name": "stdout",
     "output_type": "stream",
     "text": [
      "Help on method rcpt in module smtplib:\n",
      "\n",
      "rcpt(recip, options=()) method of smtplib.SMTP instance\n",
      "    SMTP 'rcpt' command -- indicates 1 recipient for this mail.\n",
      "\n"
     ]
    }
   ],
   "source": [
    "help(server.rcpt)"
   ]
  },
  {
   "cell_type": "code",
   "execution_count": null,
   "id": "bacterial-inquiry",
   "metadata": {},
   "outputs": [],
   "source": []
  },
  {
   "cell_type": "code",
   "execution_count": null,
   "id": "dried-pipeline",
   "metadata": {},
   "outputs": [],
   "source": []
  }
 ],
 "metadata": {
  "kernelspec": {
   "display_name": "Python 3",
   "language": "python",
   "name": "python3"
  },
  "language_info": {
   "codemirror_mode": {
    "name": "ipython",
    "version": 3
   },
   "file_extension": ".py",
   "mimetype": "text/x-python",
   "name": "python",
   "nbconvert_exporter": "python",
   "pygments_lexer": "ipython3",
   "version": "3.8.5"
  }
 },
 "nbformat": 4,
 "nbformat_minor": 5
}
