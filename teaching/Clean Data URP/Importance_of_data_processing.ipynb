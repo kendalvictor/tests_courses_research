{
  "nbformat": 4,
  "nbformat_minor": 0,
  "metadata": {
    "kernelspec": {
      "display_name": "Python 3",
      "language": "python",
      "name": "python3"
    },
    "language_info": {
      "codemirror_mode": {
        "name": "ipython",
        "version": 3
      },
      "file_extension": ".py",
      "mimetype": "text/x-python",
      "name": "python",
      "nbconvert_exporter": "python",
      "pygments_lexer": "ipython3",
      "version": "3.7.6"
    },
    "colab": {
      "name": "Importance of data processing.ipynb",
      "provenance": []
    }
  },
  "cells": [
    {
      "cell_type": "markdown",
      "metadata": {
        "id": "fQ5yj8fhKJ46",
        "colab_type": "text"
      },
      "source": [
        "<center>\n",
        "\n",
        "<p style=\"font-size:200px\">\n",
        "IMPORTANCIA DEL TRATAMIENTO DE DATOS EN EL DESARROLLO DE SOLUCIONES ANALÍTICAS\n",
        "</p>\n",
        "</center>"
      ]
    },
    {
      "cell_type": "markdown",
      "metadata": {
        "id": "K-F8M8AiJmzm",
        "colab_type": "text"
      },
      "source": [
        "<center>\n",
        "<img src='https://www.itp.gob.pe/wp-content/uploads/2018/02/universidad-ricardo-palma.png' height='200'>\n",
        "</center>"
      ]
    },
    {
      "cell_type": "markdown",
      "metadata": {
        "id": "6uzrJfWvJmzo",
        "colab_type": "text"
      },
      "source": [
        "<center> ¿Quien soy?         : https://www.linkedin.com/in/victor-villacorta-plasencia-9595a2125/ </center>"
      ]
    },
    {
      "cell_type": "markdown",
      "metadata": {
        "id": "KxqhZC5_Jmzq",
        "colab_type": "text"
      },
      "source": [
        "<center>\n",
        "<img src='https://lh5.googleusercontent.com/x0QL2nLgYoOBSnI6N7GYZmc5FgFUt_mYpAVkqH_RvMGuAsqFPXT_qJz3KJJZNaGmw0uQ1_jZXF1uIdeOUeft=w1295-h637' width='500'>\n",
        "</center>"
      ]
    },
    {
      "cell_type": "markdown",
      "metadata": {
        "id": "-i1PrYVVJmzy",
        "colab_type": "text"
      },
      "source": [
        "# LIMPIEZA DE DATOS"
      ]
    },
    {
      "cell_type": "code",
      "metadata": {
        "id": "mgVuFMqVJmzz",
        "colab_type": "code",
        "colab": {
          "base_uri": "https://localhost:8080/",
          "height": 34
        },
        "outputId": "4c009958-90f0-473f-ca85-0f7c8501f581"
      },
      "source": [
        "# nativos\n",
        "import os\n",
        "import gc\n",
        "\n",
        "# manejo de datos\n",
        "import pandas as pd\n",
        "import numpy as np\n",
        "\n",
        "gc.collect()"
      ],
      "execution_count": null,
      "outputs": [
        {
          "output_type": "execute_result",
          "data": {
            "text/plain": [
              "222"
            ]
          },
          "metadata": {
            "tags": []
          },
          "execution_count": 51
        }
      ]
    },
    {
      "cell_type": "markdown",
      "metadata": {
        "id": "PdNbBAXwJmz5",
        "colab_type": "text"
      },
      "source": [
        "### 1ERO NOCIONES DE PYTHON CLARAS"
      ]
    },
    {
      "cell_type": "code",
      "metadata": {
        "id": "uM2hui05Jmz6",
        "colab_type": "code",
        "colab": {
          "base_uri": "https://localhost:8080/",
          "height": 35
        },
        "outputId": "7a78a31b-3f09-4fd6-f657-da3bb087620e"
      },
      "source": [
        "def calculadora(*args, **kwargs):\n",
        "    operacion = kwargs.get('operacion', 'suma')\n",
        "    saludocc = kwargs.get('saludo', 'valor por defcto si es que no hay')\n",
        "    \n",
        "    if len(args) < 2:\n",
        "        return 'Debe ingresar dos valores como minimo'\n",
        "\n",
        "    val1 = args[0]\n",
        "    val2 = args[1]\n",
        "    \n",
        "    if operacion == 'suma':\n",
        "        return sum(args)\n",
        "    elif operacion == 'resta':\n",
        "        return val1 - val2\n",
        "    elif operacion == 'division':\n",
        "        return val1 / val2\n",
        "    elif operacion == 'multiplicacion':\n",
        "        return val1 * val2\n",
        "    else:\n",
        "        return 'Operador no identificado'\n",
        "\n",
        "calculadora(5, operacion='division')"
      ],
      "execution_count": null,
      "outputs": [
        {
          "output_type": "execute_result",
          "data": {
            "application/vnd.google.colaboratory.intrinsic": {
              "type": "string"
            },
            "text/plain": [
              "'Debe ingresar dos valores como minimo'"
            ]
          },
          "metadata": {
            "tags": []
          },
          "execution_count": 52
        }
      ]
    },
    {
      "cell_type": "code",
      "metadata": {
        "id": "5EJ2RXaxJmz_",
        "colab_type": "code",
        "colab": {
          "base_uri": "https://localhost:8080/",
          "height": 34
        },
        "outputId": "49eb922c-07cb-41a8-b577-1c21835fda1f"
      },
      "source": [
        "calculadora(14, 3, operacion='suma', saludo='hola')"
      ],
      "execution_count": null,
      "outputs": [
        {
          "output_type": "execute_result",
          "data": {
            "text/plain": [
              "17"
            ]
          },
          "metadata": {
            "tags": []
          },
          "execution_count": 53
        }
      ]
    },
    {
      "cell_type": "code",
      "metadata": {
        "id": "bFH2v3CoJm0F",
        "colab_type": "code",
        "colab": {
          "base_uri": "https://localhost:8080/",
          "height": 35
        },
        "outputId": "2668bdea-fcce-4976-f15b-d5ec7c051387"
      },
      "source": [
        "calculadora(14, 3, operacion='loqueesea')"
      ],
      "execution_count": null,
      "outputs": [
        {
          "output_type": "execute_result",
          "data": {
            "application/vnd.google.colaboratory.intrinsic": {
              "type": "string"
            },
            "text/plain": [
              "'Operador no identificado'"
            ]
          },
          "metadata": {
            "tags": []
          },
          "execution_count": 54
        }
      ]
    },
    {
      "cell_type": "code",
      "metadata": {
        "id": "Hn_nmzBPJm0K",
        "colab_type": "code",
        "colab": {
          "base_uri": "https://localhost:8080/",
          "height": 34
        },
        "outputId": "9dcad331-79a6-4497-8a2c-aae9a28578c4"
      },
      "source": [
        "# DICCIONARIO COMO CONDICIONAL\n",
        "\n",
        "def suma(x, y):\n",
        "    return x + y\n",
        "\n",
        "dicc_calc = {\n",
        "    'suma': suma,\n",
        "    'resta': lambda x, y: x -y,\n",
        "    'division': lambda x, y: x / y,\n",
        "    'multiplicacion': lambda x, y: x * y\n",
        "}\n",
        "\n",
        "def calc(val1, val2, operacion='suma'):\n",
        "    \"\"\"\n",
        "    Descripcion de mi funcion\n",
        "    frgtrgtr\n",
        "    \"\"\"\n",
        "    return dicc_calc.get(\n",
        "        operacion, lambda x,y: 'Operador no reconocido'\n",
        "    )(val1, val2)\n",
        "\n",
        "calc(6, 7)"
      ],
      "execution_count": null,
      "outputs": [
        {
          "output_type": "execute_result",
          "data": {
            "text/plain": [
              "13"
            ]
          },
          "metadata": {
            "tags": []
          },
          "execution_count": 55
        }
      ]
    },
    {
      "cell_type": "code",
      "metadata": {
        "id": "lNfAgK1CJm0P",
        "colab_type": "code",
        "colab": {
          "base_uri": "https://localhost:8080/",
          "height": 35
        },
        "outputId": "4e2a27ed-238e-4a70-b189-6ef7981b2990"
      },
      "source": [
        "calc(6, 7, 'sumaaaaaaaaaaaaaaaa')"
      ],
      "execution_count": null,
      "outputs": [
        {
          "output_type": "execute_result",
          "data": {
            "application/vnd.google.colaboratory.intrinsic": {
              "type": "string"
            },
            "text/plain": [
              "'Operador no reconocido'"
            ]
          },
          "metadata": {
            "tags": []
          },
          "execution_count": 56
        }
      ]
    },
    {
      "cell_type": "code",
      "metadata": {
        "id": "9Segb78xJm0U",
        "colab_type": "code",
        "colab": {
          "base_uri": "https://localhost:8080/",
          "height": 123
        },
        "outputId": "d041c75a-0bbc-49e1-ffce-1e6e9b8b8468"
      },
      "source": [
        "help(calc)"
      ],
      "execution_count": null,
      "outputs": [
        {
          "output_type": "stream",
          "text": [
            "Help on function calc in module __main__:\n",
            "\n",
            "calc(val1, val2, operacion='suma')\n",
            "    Descripcion de mi funcion\n",
            "    frgtrgtr\n",
            "\n"
          ],
          "name": "stdout"
        }
      ]
    },
    {
      "cell_type": "code",
      "metadata": {
        "id": "THgNqp-jJm0Y",
        "colab_type": "code",
        "colab": {
          "base_uri": "https://localhost:8080/",
          "height": 1000
        },
        "outputId": "7463b842-fe28-4c45-9f93-41795a5f483e"
      },
      "source": [
        "my_list = [1, 2, 3]\n",
        "help(my_list)"
      ],
      "execution_count": null,
      "outputs": [
        {
          "output_type": "stream",
          "text": [
            "Help on list object:\n",
            "\n",
            "class list(object)\n",
            " |  list() -> new empty list\n",
            " |  list(iterable) -> new list initialized from iterable's items\n",
            " |  \n",
            " |  Methods defined here:\n",
            " |  \n",
            " |  __add__(self, value, /)\n",
            " |      Return self+value.\n",
            " |  \n",
            " |  __contains__(self, key, /)\n",
            " |      Return key in self.\n",
            " |  \n",
            " |  __delitem__(self, key, /)\n",
            " |      Delete self[key].\n",
            " |  \n",
            " |  __eq__(self, value, /)\n",
            " |      Return self==value.\n",
            " |  \n",
            " |  __ge__(self, value, /)\n",
            " |      Return self>=value.\n",
            " |  \n",
            " |  __getattribute__(self, name, /)\n",
            " |      Return getattr(self, name).\n",
            " |  \n",
            " |  __getitem__(...)\n",
            " |      x.__getitem__(y) <==> x[y]\n",
            " |  \n",
            " |  __gt__(self, value, /)\n",
            " |      Return self>value.\n",
            " |  \n",
            " |  __iadd__(self, value, /)\n",
            " |      Implement self+=value.\n",
            " |  \n",
            " |  __imul__(self, value, /)\n",
            " |      Implement self*=value.\n",
            " |  \n",
            " |  __init__(self, /, *args, **kwargs)\n",
            " |      Initialize self.  See help(type(self)) for accurate signature.\n",
            " |  \n",
            " |  __iter__(self, /)\n",
            " |      Implement iter(self).\n",
            " |  \n",
            " |  __le__(self, value, /)\n",
            " |      Return self<=value.\n",
            " |  \n",
            " |  __len__(self, /)\n",
            " |      Return len(self).\n",
            " |  \n",
            " |  __lt__(self, value, /)\n",
            " |      Return self<value.\n",
            " |  \n",
            " |  __mul__(self, value, /)\n",
            " |      Return self*value.\n",
            " |  \n",
            " |  __ne__(self, value, /)\n",
            " |      Return self!=value.\n",
            " |  \n",
            " |  __new__(*args, **kwargs) from builtins.type\n",
            " |      Create and return a new object.  See help(type) for accurate signature.\n",
            " |  \n",
            " |  __repr__(self, /)\n",
            " |      Return repr(self).\n",
            " |  \n",
            " |  __reversed__(...)\n",
            " |      L.__reversed__() -- return a reverse iterator over the list\n",
            " |  \n",
            " |  __rmul__(self, value, /)\n",
            " |      Return value*self.\n",
            " |  \n",
            " |  __setitem__(self, key, value, /)\n",
            " |      Set self[key] to value.\n",
            " |  \n",
            " |  __sizeof__(...)\n",
            " |      L.__sizeof__() -- size of L in memory, in bytes\n",
            " |  \n",
            " |  append(...)\n",
            " |      L.append(object) -> None -- append object to end\n",
            " |  \n",
            " |  clear(...)\n",
            " |      L.clear() -> None -- remove all items from L\n",
            " |  \n",
            " |  copy(...)\n",
            " |      L.copy() -> list -- a shallow copy of L\n",
            " |  \n",
            " |  count(...)\n",
            " |      L.count(value) -> integer -- return number of occurrences of value\n",
            " |  \n",
            " |  extend(...)\n",
            " |      L.extend(iterable) -> None -- extend list by appending elements from the iterable\n",
            " |  \n",
            " |  index(...)\n",
            " |      L.index(value, [start, [stop]]) -> integer -- return first index of value.\n",
            " |      Raises ValueError if the value is not present.\n",
            " |  \n",
            " |  insert(...)\n",
            " |      L.insert(index, object) -- insert object before index\n",
            " |  \n",
            " |  pop(...)\n",
            " |      L.pop([index]) -> item -- remove and return item at index (default last).\n",
            " |      Raises IndexError if list is empty or index is out of range.\n",
            " |  \n",
            " |  remove(...)\n",
            " |      L.remove(value) -> None -- remove first occurrence of value.\n",
            " |      Raises ValueError if the value is not present.\n",
            " |  \n",
            " |  reverse(...)\n",
            " |      L.reverse() -- reverse *IN PLACE*\n",
            " |  \n",
            " |  sort(...)\n",
            " |      L.sort(key=None, reverse=False) -> None -- stable sort *IN PLACE*\n",
            " |  \n",
            " |  ----------------------------------------------------------------------\n",
            " |  Data and other attributes defined here:\n",
            " |  \n",
            " |  __hash__ = None\n",
            "\n"
          ],
          "name": "stdout"
        }
      ]
    },
    {
      "cell_type": "markdown",
      "metadata": {
        "id": "GW-dUWU7Jm0d",
        "colab_type": "text"
      },
      "source": [
        "# 2DO LECTURA DE CVS"
      ]
    },
    {
      "cell_type": "code",
      "metadata": {
        "id": "7Sx2SdbHJm0e",
        "colab_type": "code",
        "colab": {
          "base_uri": "https://localhost:8080/",
          "height": 850
        },
        "outputId": "16ebe047-3312-44c5-cc97-04425b79d919"
      },
      "source": [
        "url_data = \"https://raw.githubusercontent.com/kendalvictor/clean_data_saturday_ai/master/data/MXvideos.csv\"\n",
        "\n",
        "data_mx = pd.read_csv(url_data)"
      ],
      "execution_count": null,
      "outputs": [
        {
          "output_type": "error",
          "ename": "UnicodeDecodeError",
          "evalue": "ignored",
          "traceback": [
            "\u001b[0;31m---------------------------------------------------------------------------\u001b[0m",
            "\u001b[0;31mUnicodeDecodeError\u001b[0m                        Traceback (most recent call last)",
            "\u001b[0;32mpandas/_libs/parsers.pyx\u001b[0m in \u001b[0;36mpandas._libs.parsers.TextReader._convert_tokens\u001b[0;34m()\u001b[0m\n",
            "\u001b[0;32mpandas/_libs/parsers.pyx\u001b[0m in \u001b[0;36mpandas._libs.parsers.TextReader._convert_with_dtype\u001b[0;34m()\u001b[0m\n",
            "\u001b[0;32mpandas/_libs/parsers.pyx\u001b[0m in \u001b[0;36mpandas._libs.parsers.TextReader._string_convert\u001b[0;34m()\u001b[0m\n",
            "\u001b[0;32mpandas/_libs/parsers.pyx\u001b[0m in \u001b[0;36mpandas._libs.parsers._string_box_utf8\u001b[0;34m()\u001b[0m\n",
            "\u001b[0;31mUnicodeDecodeError\u001b[0m: 'utf-8' codec can't decode byte 0xc3 in position 254: unexpected end of data",
            "\nDuring handling of the above exception, another exception occurred:\n",
            "\u001b[0;31mUnicodeDecodeError\u001b[0m                        Traceback (most recent call last)",
            "\u001b[0;32m<ipython-input-59-c96ed7cfd787>\u001b[0m in \u001b[0;36m<module>\u001b[0;34m()\u001b[0m\n\u001b[1;32m      1\u001b[0m \u001b[0murl_data\u001b[0m \u001b[0;34m=\u001b[0m \u001b[0;34m\"https://raw.githubusercontent.com/kendalvictor/clean_data_saturday_ai/master/data/MXvideos.csv\"\u001b[0m\u001b[0;34m\u001b[0m\u001b[0;34m\u001b[0m\u001b[0m\n\u001b[0;32m----> 2\u001b[0;31m \u001b[0mdata_mx\u001b[0m \u001b[0;34m=\u001b[0m \u001b[0mpd\u001b[0m\u001b[0;34m.\u001b[0m\u001b[0mread_csv\u001b[0m\u001b[0;34m(\u001b[0m\u001b[0murl_data\u001b[0m\u001b[0;34m)\u001b[0m\u001b[0;34m\u001b[0m\u001b[0;34m\u001b[0m\u001b[0m\n\u001b[0m",
            "\u001b[0;32m/usr/local/lib/python3.6/dist-packages/pandas/io/parsers.py\u001b[0m in \u001b[0;36mparser_f\u001b[0;34m(filepath_or_buffer, sep, delimiter, header, names, index_col, usecols, squeeze, prefix, mangle_dupe_cols, dtype, engine, converters, true_values, false_values, skipinitialspace, skiprows, skipfooter, nrows, na_values, keep_default_na, na_filter, verbose, skip_blank_lines, parse_dates, infer_datetime_format, keep_date_col, date_parser, dayfirst, cache_dates, iterator, chunksize, compression, thousands, decimal, lineterminator, quotechar, quoting, doublequote, escapechar, comment, encoding, dialect, error_bad_lines, warn_bad_lines, delim_whitespace, low_memory, memory_map, float_precision)\u001b[0m\n\u001b[1;32m    674\u001b[0m         )\n\u001b[1;32m    675\u001b[0m \u001b[0;34m\u001b[0m\u001b[0m\n\u001b[0;32m--> 676\u001b[0;31m         \u001b[0;32mreturn\u001b[0m \u001b[0m_read\u001b[0m\u001b[0;34m(\u001b[0m\u001b[0mfilepath_or_buffer\u001b[0m\u001b[0;34m,\u001b[0m \u001b[0mkwds\u001b[0m\u001b[0;34m)\u001b[0m\u001b[0;34m\u001b[0m\u001b[0;34m\u001b[0m\u001b[0m\n\u001b[0m\u001b[1;32m    677\u001b[0m \u001b[0;34m\u001b[0m\u001b[0m\n\u001b[1;32m    678\u001b[0m     \u001b[0mparser_f\u001b[0m\u001b[0;34m.\u001b[0m\u001b[0m__name__\u001b[0m \u001b[0;34m=\u001b[0m \u001b[0mname\u001b[0m\u001b[0;34m\u001b[0m\u001b[0;34m\u001b[0m\u001b[0m\n",
            "\u001b[0;32m/usr/local/lib/python3.6/dist-packages/pandas/io/parsers.py\u001b[0m in \u001b[0;36m_read\u001b[0;34m(filepath_or_buffer, kwds)\u001b[0m\n\u001b[1;32m    452\u001b[0m \u001b[0;34m\u001b[0m\u001b[0m\n\u001b[1;32m    453\u001b[0m     \u001b[0;32mtry\u001b[0m\u001b[0;34m:\u001b[0m\u001b[0;34m\u001b[0m\u001b[0;34m\u001b[0m\u001b[0m\n\u001b[0;32m--> 454\u001b[0;31m         \u001b[0mdata\u001b[0m \u001b[0;34m=\u001b[0m \u001b[0mparser\u001b[0m\u001b[0;34m.\u001b[0m\u001b[0mread\u001b[0m\u001b[0;34m(\u001b[0m\u001b[0mnrows\u001b[0m\u001b[0;34m)\u001b[0m\u001b[0;34m\u001b[0m\u001b[0;34m\u001b[0m\u001b[0m\n\u001b[0m\u001b[1;32m    455\u001b[0m     \u001b[0;32mfinally\u001b[0m\u001b[0;34m:\u001b[0m\u001b[0;34m\u001b[0m\u001b[0;34m\u001b[0m\u001b[0m\n\u001b[1;32m    456\u001b[0m         \u001b[0mparser\u001b[0m\u001b[0;34m.\u001b[0m\u001b[0mclose\u001b[0m\u001b[0;34m(\u001b[0m\u001b[0;34m)\u001b[0m\u001b[0;34m\u001b[0m\u001b[0;34m\u001b[0m\u001b[0m\n",
            "\u001b[0;32m/usr/local/lib/python3.6/dist-packages/pandas/io/parsers.py\u001b[0m in \u001b[0;36mread\u001b[0;34m(self, nrows)\u001b[0m\n\u001b[1;32m   1131\u001b[0m     \u001b[0;32mdef\u001b[0m \u001b[0mread\u001b[0m\u001b[0;34m(\u001b[0m\u001b[0mself\u001b[0m\u001b[0;34m,\u001b[0m \u001b[0mnrows\u001b[0m\u001b[0;34m=\u001b[0m\u001b[0;32mNone\u001b[0m\u001b[0;34m)\u001b[0m\u001b[0;34m:\u001b[0m\u001b[0;34m\u001b[0m\u001b[0;34m\u001b[0m\u001b[0m\n\u001b[1;32m   1132\u001b[0m         \u001b[0mnrows\u001b[0m \u001b[0;34m=\u001b[0m \u001b[0m_validate_integer\u001b[0m\u001b[0;34m(\u001b[0m\u001b[0;34m\"nrows\"\u001b[0m\u001b[0;34m,\u001b[0m \u001b[0mnrows\u001b[0m\u001b[0;34m)\u001b[0m\u001b[0;34m\u001b[0m\u001b[0;34m\u001b[0m\u001b[0m\n\u001b[0;32m-> 1133\u001b[0;31m         \u001b[0mret\u001b[0m \u001b[0;34m=\u001b[0m \u001b[0mself\u001b[0m\u001b[0;34m.\u001b[0m\u001b[0m_engine\u001b[0m\u001b[0;34m.\u001b[0m\u001b[0mread\u001b[0m\u001b[0;34m(\u001b[0m\u001b[0mnrows\u001b[0m\u001b[0;34m)\u001b[0m\u001b[0;34m\u001b[0m\u001b[0;34m\u001b[0m\u001b[0m\n\u001b[0m\u001b[1;32m   1134\u001b[0m \u001b[0;34m\u001b[0m\u001b[0m\n\u001b[1;32m   1135\u001b[0m         \u001b[0;31m# May alter columns / col_dict\u001b[0m\u001b[0;34m\u001b[0m\u001b[0;34m\u001b[0m\u001b[0;34m\u001b[0m\u001b[0m\n",
            "\u001b[0;32m/usr/local/lib/python3.6/dist-packages/pandas/io/parsers.py\u001b[0m in \u001b[0;36mread\u001b[0;34m(self, nrows)\u001b[0m\n\u001b[1;32m   2035\u001b[0m     \u001b[0;32mdef\u001b[0m \u001b[0mread\u001b[0m\u001b[0;34m(\u001b[0m\u001b[0mself\u001b[0m\u001b[0;34m,\u001b[0m \u001b[0mnrows\u001b[0m\u001b[0;34m=\u001b[0m\u001b[0;32mNone\u001b[0m\u001b[0;34m)\u001b[0m\u001b[0;34m:\u001b[0m\u001b[0;34m\u001b[0m\u001b[0;34m\u001b[0m\u001b[0m\n\u001b[1;32m   2036\u001b[0m         \u001b[0;32mtry\u001b[0m\u001b[0;34m:\u001b[0m\u001b[0;34m\u001b[0m\u001b[0;34m\u001b[0m\u001b[0m\n\u001b[0;32m-> 2037\u001b[0;31m             \u001b[0mdata\u001b[0m \u001b[0;34m=\u001b[0m \u001b[0mself\u001b[0m\u001b[0;34m.\u001b[0m\u001b[0m_reader\u001b[0m\u001b[0;34m.\u001b[0m\u001b[0mread\u001b[0m\u001b[0;34m(\u001b[0m\u001b[0mnrows\u001b[0m\u001b[0;34m)\u001b[0m\u001b[0;34m\u001b[0m\u001b[0;34m\u001b[0m\u001b[0m\n\u001b[0m\u001b[1;32m   2038\u001b[0m         \u001b[0;32mexcept\u001b[0m \u001b[0mStopIteration\u001b[0m\u001b[0;34m:\u001b[0m\u001b[0;34m\u001b[0m\u001b[0;34m\u001b[0m\u001b[0m\n\u001b[1;32m   2039\u001b[0m             \u001b[0;32mif\u001b[0m \u001b[0mself\u001b[0m\u001b[0;34m.\u001b[0m\u001b[0m_first_chunk\u001b[0m\u001b[0;34m:\u001b[0m\u001b[0;34m\u001b[0m\u001b[0;34m\u001b[0m\u001b[0m\n",
            "\u001b[0;32mpandas/_libs/parsers.pyx\u001b[0m in \u001b[0;36mpandas._libs.parsers.TextReader.read\u001b[0;34m()\u001b[0m\n",
            "\u001b[0;32mpandas/_libs/parsers.pyx\u001b[0m in \u001b[0;36mpandas._libs.parsers.TextReader._read_low_memory\u001b[0;34m()\u001b[0m\n",
            "\u001b[0;32mpandas/_libs/parsers.pyx\u001b[0m in \u001b[0;36mpandas._libs.parsers.TextReader._read_rows\u001b[0;34m()\u001b[0m\n",
            "\u001b[0;32mpandas/_libs/parsers.pyx\u001b[0m in \u001b[0;36mpandas._libs.parsers.TextReader._convert_column_data\u001b[0;34m()\u001b[0m\n",
            "\u001b[0;32mpandas/_libs/parsers.pyx\u001b[0m in \u001b[0;36mpandas._libs.parsers.TextReader._convert_tokens\u001b[0;34m()\u001b[0m\n",
            "\u001b[0;32mpandas/_libs/parsers.pyx\u001b[0m in \u001b[0;36mpandas._libs.parsers.TextReader._convert_with_dtype\u001b[0;34m()\u001b[0m\n",
            "\u001b[0;32mpandas/_libs/parsers.pyx\u001b[0m in \u001b[0;36mpandas._libs.parsers.TextReader._string_convert\u001b[0;34m()\u001b[0m\n",
            "\u001b[0;32mpandas/_libs/parsers.pyx\u001b[0m in \u001b[0;36mpandas._libs.parsers._string_box_utf8\u001b[0;34m()\u001b[0m\n",
            "\u001b[0;31mUnicodeDecodeError\u001b[0m: 'utf-8' codec can't decode byte 0xc3 in position 254: unexpected end of data"
          ]
        }
      ]
    },
    {
      "cell_type": "markdown",
      "metadata": {
        "id": "zamUzT_bJm0j",
        "colab_type": "text"
      },
      "source": [
        "### ¿Porque fallo?"
      ]
    },
    {
      "cell_type": "markdown",
      "metadata": {
        "id": "hD0z8Q6WJm0l",
        "colab_type": "text"
      },
      "source": [
        "#### revisar link https://es.wikipedia.org/wiki/Codificaci%C3%B3n_de_caracteres"
      ]
    },
    {
      "cell_type": "code",
      "metadata": {
        "id": "4H6RmtRSJm0m",
        "colab_type": "code",
        "colab": {
          "base_uri": "https://localhost:8080/",
          "height": 501
        },
        "outputId": "2d8c52ee-9e50-43fb-e817-9ae393cf5f33"
      },
      "source": [
        "data_mx = pd.read_csv(url_data, encoding='ISO-8859-1')\n",
        "\n",
        "data_mx.head()"
      ],
      "execution_count": null,
      "outputs": [
        {
          "output_type": "execute_result",
          "data": {
            "text/html": [
              "<div>\n",
              "<style scoped>\n",
              "    .dataframe tbody tr th:only-of-type {\n",
              "        vertical-align: middle;\n",
              "    }\n",
              "\n",
              "    .dataframe tbody tr th {\n",
              "        vertical-align: top;\n",
              "    }\n",
              "\n",
              "    .dataframe thead th {\n",
              "        text-align: right;\n",
              "    }\n",
              "</style>\n",
              "<table border=\"1\" class=\"dataframe\">\n",
              "  <thead>\n",
              "    <tr style=\"text-align: right;\">\n",
              "      <th></th>\n",
              "      <th>video_id</th>\n",
              "      <th>trending_date</th>\n",
              "      <th>title</th>\n",
              "      <th>channel_title</th>\n",
              "      <th>category_id</th>\n",
              "      <th>publish_time</th>\n",
              "      <th>tags</th>\n",
              "      <th>views</th>\n",
              "      <th>likes</th>\n",
              "      <th>dislikes</th>\n",
              "      <th>comment_count</th>\n",
              "      <th>thumbnail_link</th>\n",
              "      <th>comments_disabled</th>\n",
              "      <th>ratings_disabled</th>\n",
              "      <th>video_error_or_removed</th>\n",
              "      <th>description</th>\n",
              "    </tr>\n",
              "  </thead>\n",
              "  <tbody>\n",
              "    <tr>\n",
              "      <th>0</th>\n",
              "      <td>SbOwzAl9ZfQ</td>\n",
              "      <td>17.14.11</td>\n",
              "      <td>CapÃ­tulo 12 | MasterChef 2017</td>\n",
              "      <td>MasterChef 2017</td>\n",
              "      <td>24</td>\n",
              "      <td>2017-11-13T06:06:22.000Z</td>\n",
              "      <td>MasterChef Junior 2017|\"TV Azteca\"|\"recetas\"|\"...</td>\n",
              "      <td>310130</td>\n",
              "      <td>4182</td>\n",
              "      <td>361</td>\n",
              "      <td>1836</td>\n",
              "      <td>https://i.ytimg.com/vi/SbOwzAl9ZfQ/default.jpg</td>\n",
              "      <td>False</td>\n",
              "      <td>False</td>\n",
              "      <td>False</td>\n",
              "      <td>Disfruta la presencia del Chef Torreblanca en ...</td>\n",
              "    </tr>\n",
              "    <tr>\n",
              "      <th>1</th>\n",
              "      <td>klOV6Xh-DnI</td>\n",
              "      <td>17.14.11</td>\n",
              "      <td>ALEXA EX-INTEGRANTE DEL GRUPO TIMBIRICHE RENUN...</td>\n",
              "      <td>Micky Contreras Martinez</td>\n",
              "      <td>22</td>\n",
              "      <td>2017-11-13T05:11:58.000Z</td>\n",
              "      <td>La Voz Mexico 7</td>\n",
              "      <td>104972</td>\n",
              "      <td>271</td>\n",
              "      <td>174</td>\n",
              "      <td>369</td>\n",
              "      <td>https://i.ytimg.com/vi/klOV6Xh-DnI/default.jpg</td>\n",
              "      <td>False</td>\n",
              "      <td>False</td>\n",
              "      <td>False</td>\n",
              "      <td>ALEXA EX-INTEGRANTE DEL GRUPO TIMBIRICHE RENUN...</td>\n",
              "    </tr>\n",
              "    <tr>\n",
              "      <th>2</th>\n",
              "      <td>6L2ZF7Qzsbk</td>\n",
              "      <td>17.14.11</td>\n",
              "      <td>LOUIS CKAGÃ - EL PULSO DE LA REPÃBLICA</td>\n",
              "      <td>El Pulso De La RepÃºblica</td>\n",
              "      <td>25</td>\n",
              "      <td>2017-11-13T17:00:02.000Z</td>\n",
              "      <td>Chumel Torres|\"El Pulso de la Republica\"|\"noti...</td>\n",
              "      <td>136064</td>\n",
              "      <td>10105</td>\n",
              "      <td>266</td>\n",
              "      <td>607</td>\n",
              "      <td>https://i.ytimg.com/vi/6L2ZF7Qzsbk/default.jpg</td>\n",
              "      <td>False</td>\n",
              "      <td>False</td>\n",
              "      <td>False</td>\n",
              "      <td>La canciÃ³n del principio se llama âEste esp...</td>\n",
              "    </tr>\n",
              "    <tr>\n",
              "      <th>3</th>\n",
              "      <td>hcY52MFWMDM</td>\n",
              "      <td>17.14.11</td>\n",
              "      <td>Sismo de 6.7 sacude Costa Rica 12 Noviembre 2017</td>\n",
              "      <td>Casanare</td>\n",
              "      <td>25</td>\n",
              "      <td>2017-11-13T03:47:10.000Z</td>\n",
              "      <td>temblor|\"costa rica\"|\"sismo en costa rica\"</td>\n",
              "      <td>96153</td>\n",
              "      <td>378</td>\n",
              "      <td>171</td>\n",
              "      <td>208</td>\n",
              "      <td>https://i.ytimg.com/vi/hcY52MFWMDM/default.jpg</td>\n",
              "      <td>False</td>\n",
              "      <td>False</td>\n",
              "      <td>False</td>\n",
              "      <td>El video es de un Walmart en el pais centroame...</td>\n",
              "    </tr>\n",
              "    <tr>\n",
              "      <th>4</th>\n",
              "      <td>_OXDcGPVAa4</td>\n",
              "      <td>17.14.11</td>\n",
              "      <td>DOG HACKS | MUSAS LESSLIE LOS POLINESIOS</td>\n",
              "      <td>Musas</td>\n",
              "      <td>26</td>\n",
              "      <td>2017-11-13T19:17:48.000Z</td>\n",
              "      <td>MUSAS|\"lesslie\"|\"karen\"|\"hacks\"|\"perros\"|\"dogs...</td>\n",
              "      <td>499965</td>\n",
              "      <td>57781</td>\n",
              "      <td>681</td>\n",
              "      <td>7428</td>\n",
              "      <td>https://i.ytimg.com/vi/_OXDcGPVAa4/default.jpg</td>\n",
              "      <td>False</td>\n",
              "      <td>False</td>\n",
              "      <td>False</td>\n",
              "      <td>MI HERMANO NARRA MI RUTINA DE MAQUILLAJE\\nhttp...</td>\n",
              "    </tr>\n",
              "  </tbody>\n",
              "</table>\n",
              "</div>"
            ],
            "text/plain": [
              "      video_id  ...                                        description\n",
              "0  SbOwzAl9ZfQ  ...  Disfruta la presencia del Chef Torreblanca en ...\n",
              "1  klOV6Xh-DnI  ...  ALEXA EX-INTEGRANTE DEL GRUPO TIMBIRICHE RENUN...\n",
              "2  6L2ZF7Qzsbk  ...  La canciÃ³n del principio se llama âEste esp...\n",
              "3  hcY52MFWMDM  ...  El video es de un Walmart en el pais centroame...\n",
              "4  _OXDcGPVAa4  ...  MI HERMANO NARRA MI RUTINA DE MAQUILLAJE\\nhttp...\n",
              "\n",
              "[5 rows x 16 columns]"
            ]
          },
          "metadata": {
            "tags": []
          },
          "execution_count": 13
        }
      ]
    },
    {
      "cell_type": "markdown",
      "metadata": {
        "id": "OFeCcbI6Jm0r",
        "colab_type": "text"
      },
      "source": [
        "# Ensuciando data"
      ]
    },
    {
      "cell_type": "code",
      "metadata": {
        "id": "CCM-TxfsJm0r",
        "colab_type": "code",
        "colab": {}
      },
      "source": [
        "# MASTER CHEF\n",
        "indices_master_chef = data_mx.loc[\n",
        "    data_mx['channel_title'] == 'MasterChef 2017', 'channel_title'\n",
        "].index[:-10]\n",
        "\n",
        "data_mx.loc[indices_master_chef, 'channel_title'] = 'Masterchef 2017'\n",
        "\n",
        "data_mx['id_grupo'] = 1"
      ],
      "execution_count": null,
      "outputs": []
    },
    {
      "cell_type": "markdown",
      "metadata": {
        "id": "DOM5KCdpJm0x",
        "colab_type": "text"
      },
      "source": [
        "### SIZE"
      ]
    },
    {
      "cell_type": "code",
      "metadata": {
        "id": "OzZZPZPaJm0y",
        "colab_type": "code",
        "colab": {
          "base_uri": "https://localhost:8080/",
          "height": 34
        },
        "outputId": "33b5dd35-7981-4c3e-e9cc-c7db6108847f"
      },
      "source": [
        "data_mx.shape"
      ],
      "execution_count": null,
      "outputs": [
        {
          "output_type": "execute_result",
          "data": {
            "text/plain": [
              "(40451, 17)"
            ]
          },
          "metadata": {
            "tags": []
          },
          "execution_count": 15
        }
      ]
    },
    {
      "cell_type": "code",
      "metadata": {
        "id": "FTE1TI1TJm01",
        "colab_type": "code",
        "colab": {
          "base_uri": "https://localhost:8080/",
          "height": 336
        },
        "outputId": "ec4bf15b-c93f-471b-d0f2-dd7160bb5a10"
      },
      "source": [
        "data_mx.dtypes"
      ],
      "execution_count": null,
      "outputs": [
        {
          "output_type": "execute_result",
          "data": {
            "text/plain": [
              "video_id                  object\n",
              "trending_date             object\n",
              "title                     object\n",
              "channel_title             object\n",
              "category_id                int64\n",
              "publish_time              object\n",
              "tags                      object\n",
              "views                      int64\n",
              "likes                      int64\n",
              "dislikes                   int64\n",
              "comment_count              int64\n",
              "thumbnail_link            object\n",
              "comments_disabled           bool\n",
              "ratings_disabled            bool\n",
              "video_error_or_removed      bool\n",
              "description               object\n",
              "id_grupo                   int64\n",
              "dtype: object"
            ]
          },
          "metadata": {
            "tags": []
          },
          "execution_count": 16
        }
      ]
    },
    {
      "cell_type": "code",
      "metadata": {
        "id": "jwZha9E5Jm05",
        "colab_type": "code",
        "colab": {
          "base_uri": "https://localhost:8080/",
          "height": 336
        },
        "outputId": "18a2f760-b327-4616-efde-8fd48f416f46"
      },
      "source": [
        "data_mx.isnull().any()"
      ],
      "execution_count": null,
      "outputs": [
        {
          "output_type": "execute_result",
          "data": {
            "text/plain": [
              "video_id                  False\n",
              "trending_date             False\n",
              "title                     False\n",
              "channel_title             False\n",
              "category_id               False\n",
              "publish_time              False\n",
              "tags                      False\n",
              "views                     False\n",
              "likes                     False\n",
              "dislikes                  False\n",
              "comment_count             False\n",
              "thumbnail_link            False\n",
              "comments_disabled         False\n",
              "ratings_disabled          False\n",
              "video_error_or_removed    False\n",
              "description                True\n",
              "id_grupo                  False\n",
              "dtype: bool"
            ]
          },
          "metadata": {
            "tags": []
          },
          "execution_count": 17
        }
      ]
    },
    {
      "cell_type": "code",
      "metadata": {
        "id": "mMbXeg1zJm09",
        "colab_type": "code",
        "colab": {
          "base_uri": "https://localhost:8080/",
          "height": 336
        },
        "outputId": "a276f705-a595-4536-aded-2d9c0c306abc"
      },
      "source": [
        "data_mx.isnull().sum(axis=0)"
      ],
      "execution_count": null,
      "outputs": [
        {
          "output_type": "execute_result",
          "data": {
            "text/plain": [
              "video_id                     0\n",
              "trending_date                0\n",
              "title                        0\n",
              "channel_title                0\n",
              "category_id                  0\n",
              "publish_time                 0\n",
              "tags                         0\n",
              "views                        0\n",
              "likes                        0\n",
              "dislikes                     0\n",
              "comment_count                0\n",
              "thumbnail_link               0\n",
              "comments_disabled            0\n",
              "ratings_disabled             0\n",
              "video_error_or_removed       0\n",
              "description               4224\n",
              "id_grupo                     0\n",
              "dtype: int64"
            ]
          },
          "metadata": {
            "tags": []
          },
          "execution_count": 18
        }
      ]
    },
    {
      "cell_type": "markdown",
      "metadata": {
        "id": "V67W-mMoJm1C",
        "colab_type": "text"
      },
      "source": [
        "### Y so lo juntamos ???"
      ]
    },
    {
      "cell_type": "markdown",
      "metadata": {
        "id": "b8vGW3_mJm1C",
        "colab_type": "text"
      },
      "source": [
        "### ver link https://github.com/kendalvictor/guia_data_ML/blob/master/ANALISIS%20DE%20NULOS%20%20read_csv%2C%20isnull%2C%20any%2C%20sum%2C%20concat.ipynb"
      ]
    },
    {
      "cell_type": "markdown",
      "metadata": {
        "id": "rNm0s-1LJm1D",
        "colab_type": "text"
      },
      "source": [
        "### COMO SE VEN LOS NULOS ?"
      ]
    },
    {
      "cell_type": "code",
      "metadata": {
        "id": "ruqTKibaJm1F",
        "colab_type": "code",
        "colab": {
          "base_uri": "https://localhost:8080/",
          "height": 730
        },
        "outputId": "0d74ad51-5a33-4fe6-8669-961d1ddb8aee"
      },
      "source": [
        "import missingno as msno\n",
        "\n",
        "#grafico\n",
        "import matplotlib.pyplot as plt\n",
        "import seaborn as sns\n",
        "from IPython.display import display\n",
        "%matplotlib inline\n",
        "sns.set(style=\"whitegrid\")\n",
        "\n",
        "msno.matrix(data_mx)"
      ],
      "execution_count": null,
      "outputs": [
        {
          "output_type": "stream",
          "text": [
            "/usr/local/lib/python3.6/dist-packages/statsmodels/tools/_testing.py:19: FutureWarning: pandas.util.testing is deprecated. Use the functions in the public API at pandas.testing instead.\n",
            "  import pandas.util.testing as tm\n"
          ],
          "name": "stderr"
        },
        {
          "output_type": "execute_result",
          "data": {
            "text/plain": [
              "<matplotlib.axes._subplots.AxesSubplot at 0x7f71695756d8>"
            ]
          },
          "metadata": {
            "tags": []
          },
          "execution_count": 19
        },
        {
          "output_type": "display_data",
          "data": {
            "image/png": "[encoded data removed]",
            "text/plain": [
              "<Figure size 1800x720 with 2 Axes>"
            ]
          },
          "metadata": {
            "tags": []
          }
        }
      ]
    },
    {
      "cell_type": "markdown",
      "metadata": {
        "id": "GW9MDPqQJm1J",
        "colab_type": "text"
      },
      "source": [
        "### ejemplo https://www.kaggle.com/kvdatadragon/eda-and-new-variables-by-churn"
      ]
    },
    {
      "cell_type": "code",
      "metadata": {
        "id": "1Br_-BfCJm1K",
        "colab_type": "code",
        "colab": {}
      },
      "source": [
        ""
      ],
      "execution_count": null,
      "outputs": []
    },
    {
      "cell_type": "markdown",
      "metadata": {
        "id": "ydikOydjJm1N",
        "colab_type": "text"
      },
      "source": [
        "### VERIFICAR COLUMNAS CONSTANTES"
      ]
    },
    {
      "cell_type": "markdown",
      "metadata": {
        "id": "nmtoirWvJm1O",
        "colab_type": "text"
      },
      "source": [
        "### Es necesario tengamos nocion de los valores unicos por columna"
      ]
    },
    {
      "cell_type": "code",
      "metadata": {
        "id": "QRsXIdu1Jm1P",
        "colab_type": "code",
        "colab": {
          "base_uri": "https://localhost:8080/",
          "height": 336
        },
        "outputId": "f34bdea1-2006-4fa6-c4e1-e52239bb00c5"
      },
      "source": [
        "for col in data_mx.columns:\n",
        "    print(col, data_mx[col].unique().shape[0])\n",
        "\n",
        "data_mx.shape"
      ],
      "execution_count": null,
      "outputs": [
        {
          "output_type": "stream",
          "text": [
            "video_id 33513\n",
            "trending_date 205\n",
            "title 33785\n",
            "channel_title 6978\n",
            "category_id 16\n",
            "publish_time 33243\n",
            "tags 23635\n",
            "views 35915\n",
            "likes 14564\n",
            "dislikes 3693\n",
            "comment_count 6310\n",
            "thumbnail_link 33945\n",
            "comments_disabled 2\n",
            "ratings_disabled 2\n",
            "video_error_or_removed 2\n",
            "description 26738\n",
            "id_grupo 1\n"
          ],
          "name": "stdout"
        },
        {
          "output_type": "execute_result",
          "data": {
            "text/plain": [
              "(40451, 17)"
            ]
          },
          "metadata": {
            "tags": []
          },
          "execution_count": 20
        }
      ]
    },
    {
      "cell_type": "code",
      "metadata": {
        "id": "6xs6vR-WJm1T",
        "colab_type": "code",
        "colab": {}
      },
      "source": [
        "del data_mx['id_grupo']"
      ],
      "execution_count": null,
      "outputs": []
    },
    {
      "cell_type": "code",
      "metadata": {
        "id": "mgvwwVxdJm1W",
        "colab_type": "code",
        "colab": {
          "base_uri": "https://localhost:8080/",
          "height": 105
        },
        "outputId": "1a05c48b-64b3-42b5-9f8a-5d1c91b15480"
      },
      "source": [
        "data_mx.columns"
      ],
      "execution_count": null,
      "outputs": [
        {
          "output_type": "execute_result",
          "data": {
            "text/plain": [
              "Index(['video_id', 'trending_date', 'title', 'channel_title', 'category_id',\n",
              "       'publish_time', 'tags', 'views', 'likes', 'dislikes', 'comment_count',\n",
              "       'thumbnail_link', 'comments_disabled', 'ratings_disabled',\n",
              "       'video_error_or_removed', 'description'],\n",
              "      dtype='object')"
            ]
          },
          "metadata": {
            "tags": []
          },
          "execution_count": 22
        }
      ]
    },
    {
      "cell_type": "markdown",
      "metadata": {
        "id": "X8w8m5b5Jm1b",
        "colab_type": "text"
      },
      "source": [
        "### MasterChef ?? "
      ]
    },
    {
      "cell_type": "code",
      "metadata": {
        "id": "o0NjcI9GJm1c",
        "colab_type": "code",
        "colab": {}
      },
      "source": [
        "# list(data_mx['channel_title'].unique())"
      ],
      "execution_count": null,
      "outputs": []
    },
    {
      "cell_type": "code",
      "metadata": {
        "id": "pcbHw5VDJm1h",
        "colab_type": "code",
        "colab": {
          "base_uri": "https://localhost:8080/",
          "height": 72
        },
        "outputId": "6963c9d6-2f13-428c-d35d-68972a9bb7e4"
      },
      "source": [
        "list_values_master_chef = [x for x in data_mx['channel_title'].unique() if 'Master' in x]\n",
        "print(list_values_master_chef)\n",
        "\n",
        "len(list_values_master_chef)"
      ],
      "execution_count": null,
      "outputs": [
        {
          "output_type": "stream",
          "text": [
            "['Masterchef 2017', 'ArteMaster', 'FutMaster', 'MasterFut MX', 'MasterChef 2017', 'MasterVirales10', 'Rap Master Pro', 'MasterBing22', 'Los Master Plus', 'Master', 'Shazzan Master of the trucks', 'MasteredTraxVEVO', 'Iron Masters']\n"
          ],
          "name": "stdout"
        },
        {
          "output_type": "execute_result",
          "data": {
            "text/plain": [
              "13"
            ]
          },
          "metadata": {
            "tags": []
          },
          "execution_count": 24
        }
      ]
    },
    {
      "cell_type": "code",
      "metadata": {
        "id": "qdUW2R0vJm1m",
        "colab_type": "code",
        "colab": {
          "base_uri": "https://localhost:8080/",
          "height": 34
        },
        "outputId": "abff9eb9-ad26-44cb-ab8e-71d1b3ca5bf6"
      },
      "source": [
        "[x for x in data_mx['channel_title'].unique() if 'MaStEr' in x]"
      ],
      "execution_count": null,
      "outputs": [
        {
          "output_type": "execute_result",
          "data": {
            "text/plain": [
              "['JoSe MaStErGG']"
            ]
          },
          "metadata": {
            "tags": []
          },
          "execution_count": 25
        }
      ]
    },
    {
      "cell_type": "code",
      "metadata": {
        "id": "2qbzOfPBJm1q",
        "colab_type": "code",
        "colab": {
          "base_uri": "https://localhost:8080/",
          "height": 34
        },
        "outputId": "a496e841-972e-407b-a608-5dcfb2ce0fc3"
      },
      "source": [
        "[x for x in data_mx['channel_title'].unique() if 'master' in x]"
      ],
      "execution_count": null,
      "outputs": [
        {
          "output_type": "execute_result",
          "data": {
            "text/plain": [
              "['ElvisaYomastercard']"
            ]
          },
          "metadata": {
            "tags": []
          },
          "execution_count": 26
        }
      ]
    },
    {
      "cell_type": "markdown",
      "metadata": {
        "id": "rexEh4WsJm1t",
        "colab_type": "text"
      },
      "source": [
        "### 3 OPCIONES"
      ]
    },
    {
      "cell_type": "markdown",
      "metadata": {
        "id": "2L4VBvjjJm1u",
        "colab_type": "text"
      },
      "source": [
        "#### >>>>>>>>>>>>> 1- SLUGYFI https://github.com/un33k/python-slugify"
      ]
    },
    {
      "cell_type": "code",
      "metadata": {
        "id": "FUT73A7UJm1u",
        "colab_type": "code",
        "colab": {}
      },
      "source": [
        "from slugify import slugify"
      ],
      "execution_count": null,
      "outputs": []
    },
    {
      "cell_type": "code",
      "metadata": {
        "id": "yqjE8AQHJm1y",
        "colab_type": "code",
        "colab": {
          "base_uri": "https://localhost:8080/",
          "height": 35
        },
        "outputId": "11c64107-17c6-47c3-b110-dd1cf5969b26"
      },
      "source": [
        "text_prueba = 'frggtgá9riori AAAAoeio-_@'\n",
        "slugify(text_prueba)"
      ],
      "execution_count": null,
      "outputs": [
        {
          "output_type": "execute_result",
          "data": {
            "application/vnd.google.colaboratory.intrinsic": {
              "type": "string"
            },
            "text/plain": [
              "'frggtga9riori-aaaaoeio'"
            ]
          },
          "metadata": {
            "tags": []
          },
          "execution_count": 61
        }
      ]
    },
    {
      "cell_type": "code",
      "metadata": {
        "id": "eZQBLxamJm13",
        "colab_type": "code",
        "colab": {
          "base_uri": "https://localhost:8080/",
          "height": 72
        },
        "outputId": "994ba794-c2d4-4515-ef2a-517e03d8eeab"
      },
      "source": [
        "data_mx['channel_title_1'] = data_mx['channel_title'].apply(lambda x: slugify(x))\n",
        "\n",
        "\n",
        "list_values_master_chef = [_ for _ in data_mx['channel_title_1'].unique() if 'master' in _]\n",
        "print(list_values_master_chef)\n",
        "len(list_values_master_chef)"
      ],
      "execution_count": null,
      "outputs": [
        {
          "output_type": "stream",
          "text": [
            "['masterchef-2017', 'artemaster', 'futmaster', 'master-seita-n', 'elvisayomastercard', 'masterfut-mx', 'mastervirales10', 'rap-master-pro', 'masterbing22', 'los-master-plus', 'master', 'jose-mastergg', 'shazzan-master-of-the-trucks', 'masteredtraxvevo', 'iron-masters']\n"
          ],
          "name": "stdout"
        },
        {
          "output_type": "execute_result",
          "data": {
            "text/plain": [
              "15"
            ]
          },
          "metadata": {
            "tags": []
          },
          "execution_count": 62
        }
      ]
    },
    {
      "cell_type": "code",
      "metadata": {
        "id": "VYnhblZXJm16",
        "colab_type": "code",
        "colab": {
          "base_uri": "https://localhost:8080/",
          "height": 461
        },
        "outputId": "65aee64d-40d5-4985-d249-ecf0cfab93e0"
      },
      "source": [
        "for col in data_mx.columns:\n",
        "    print(col, data_mx[col].unique().shape[0])"
      ],
      "execution_count": null,
      "outputs": [
        {
          "output_type": "stream",
          "text": [
            "video_id 33513\n",
            "trending_date 205\n",
            "title 33785\n",
            "channel_title 6978\n",
            "category_id 16\n",
            "publish_time 33243\n",
            "tags 23635\n",
            "views 35915\n",
            "likes 14564\n",
            "dislikes 3693\n",
            "comment_count 6310\n",
            "thumbnail_link 33945\n",
            "comments_disabled 2\n",
            "ratings_disabled 2\n",
            "video_error_or_removed 2\n",
            "description 26738\n",
            "channel_title_1 6919\n",
            "channel_title_2 6912\n",
            "channel_title_3 6917\n",
            "diff_date 3156\n",
            "weekday_publish 7\n",
            "month_publish 12\n",
            "comments_disabled_int 2\n",
            "ratings_disabled_int 2\n",
            "video_error_or_removed_int 2\n"
          ],
          "name": "stdout"
        }
      ]
    },
    {
      "cell_type": "markdown",
      "metadata": {
        "id": "0Jz5TjzsJm1-",
        "colab_type": "text"
      },
      "source": [
        "#### >>>>>>>>>>>>> 2- UNICODE DATA https://docs.python.org/3/library/unicodedata.html"
      ]
    },
    {
      "cell_type": "code",
      "metadata": {
        "id": "7aDRzWeVJm1-",
        "colab_type": "code",
        "colab": {}
      },
      "source": [
        ""
      ],
      "execution_count": null,
      "outputs": []
    },
    {
      "cell_type": "code",
      "metadata": {
        "id": "vWqlmCe7Jm2C",
        "colab_type": "code",
        "colab": {
          "base_uri": "https://localhost:8080/",
          "height": 72
        },
        "outputId": "1e2d333d-229c-4ba5-8ee5-b116b41bf267"
      },
      "source": [
        "from unicodedata import normalize, category\n",
        "\n",
        "def clean_text(val):\n",
        "    return ''.join(\n",
        "        [_ for _ in normalize('NFD', val.lower()) if category(_) in ['Ll', 'Nd', 'Zs']]\n",
        "    )\n",
        "\n",
        "data_mx['channel_title_2'] = data_mx['channel_title'].apply(clean_text)\n",
        "\n",
        "list_values_master_chef = [_ for _ in data_mx['channel_title_2'].unique() if 'master' in _]\n",
        "print(list_values_master_chef)\n",
        "len(list_values_master_chef)"
      ],
      "execution_count": null,
      "outputs": [
        {
          "output_type": "stream",
          "text": [
            "['masterchef 2017', 'artemaster', 'futmaster', 'master  seitan', 'elvisayomastercard', 'masterfut mx', 'mastervirales10', 'rap master pro', 'masterbing22', 'los master plus', 'master', 'jose mastergg', 'shazzan master of the trucks', 'masteredtraxvevo', 'iron masters']\n"
          ],
          "name": "stdout"
        },
        {
          "output_type": "execute_result",
          "data": {
            "text/plain": [
              "15"
            ]
          },
          "metadata": {
            "tags": []
          },
          "execution_count": 31
        }
      ]
    },
    {
      "cell_type": "code",
      "metadata": {
        "id": "AQkw8xHqJm2F",
        "colab_type": "code",
        "colab": {
          "base_uri": "https://localhost:8080/",
          "height": 35
        },
        "outputId": "0ce25729-241c-45a7-9abb-2248f96faaa6"
      },
      "source": [
        "clean_text(text_prueba)"
      ],
      "execution_count": null,
      "outputs": [
        {
          "output_type": "execute_result",
          "data": {
            "application/vnd.google.colaboratory.intrinsic": {
              "type": "string"
            },
            "text/plain": [
              "'frggtga9riori aaaaoeio'"
            ]
          },
          "metadata": {
            "tags": []
          },
          "execution_count": 32
        }
      ]
    },
    {
      "cell_type": "markdown",
      "metadata": {
        "id": "P_VWs6ByJm2I",
        "colab_type": "text"
      },
      "source": [
        "#### >>>>>>>>>>>>> 3- ORD https://www.programiz.com/python-programming/methods/built-in/ord"
      ]
    },
    {
      "cell_type": "code",
      "metadata": {
        "id": "YN3eRTInJm2J",
        "colab_type": "code",
        "colab": {
          "base_uri": "https://localhost:8080/",
          "height": 72
        },
        "outputId": "75cd17ba-b9c2-4cb2-a03c-07bcdaa046e7"
      },
      "source": [
        "def clean_for_ord(val):\n",
        "    return ''.join(\n",
        "        [_ for _ in val.lower() if ord(_) < 128]\n",
        "    )\n",
        "\n",
        "data_mx['channel_title_3'] = data_mx['channel_title'].apply(clean_for_ord)\n",
        "\n",
        "list_values_master_chef = [_ for _ in data_mx['channel_title_3'].unique() if 'master' in _]\n",
        "print(list_values_master_chef)\n",
        "len(list_values_master_chef)"
      ],
      "execution_count": null,
      "outputs": [
        {
          "output_type": "stream",
          "text": [
            "['masterchef 2017', 'artemaster', 'futmaster', 'elvisayomastercard', 'masterfut mx', 'mastervirales10', 'rap master pro', 'masterbing22', 'los master plus', 'master', 'jose mastergg', 'shazzan master of the trucks', 'masteredtraxvevo', 'iron masters']\n"
          ],
          "name": "stdout"
        },
        {
          "output_type": "execute_result",
          "data": {
            "text/plain": [
              "14"
            ]
          },
          "metadata": {
            "tags": []
          },
          "execution_count": 33
        }
      ]
    },
    {
      "cell_type": "markdown",
      "metadata": {
        "id": "0xRgP1kSJm2O",
        "colab_type": "text"
      },
      "source": [
        "### COMPARE"
      ]
    },
    {
      "cell_type": "markdown",
      "metadata": {
        "id": "mubie5NPJm2P",
        "colab_type": "text"
      },
      "source": [
        "### LA IDEA FINAL ES QUE CUANDO LOS VALORES VENGAN DE OTRA BASE DE DATOS O FUENTE CON ESTA TRANSFORMACION SE IGUALEN"
      ]
    },
    {
      "cell_type": "code",
      "metadata": {
        "id": "a9bTA4GsJm2P",
        "colab_type": "code",
        "colab": {
          "base_uri": "https://localhost:8080/",
          "height": 647
        },
        "outputId": "0f4429cd-5636-427d-f69f-80011e8d512b"
      },
      "source": [
        "data_mx[['channel_title','channel_title_1', 'channel_title_2', 'channel_title_3']].head(20)"
      ],
      "execution_count": null,
      "outputs": [
        {
          "output_type": "execute_result",
          "data": {
            "text/html": [
              "<div>\n",
              "<style scoped>\n",
              "    .dataframe tbody tr th:only-of-type {\n",
              "        vertical-align: middle;\n",
              "    }\n",
              "\n",
              "    .dataframe tbody tr th {\n",
              "        vertical-align: top;\n",
              "    }\n",
              "\n",
              "    .dataframe thead th {\n",
              "        text-align: right;\n",
              "    }\n",
              "</style>\n",
              "<table border=\"1\" class=\"dataframe\">\n",
              "  <thead>\n",
              "    <tr style=\"text-align: right;\">\n",
              "      <th></th>\n",
              "      <th>channel_title</th>\n",
              "      <th>channel_title_1</th>\n",
              "      <th>channel_title_2</th>\n",
              "      <th>channel_title_3</th>\n",
              "    </tr>\n",
              "  </thead>\n",
              "  <tbody>\n",
              "    <tr>\n",
              "      <th>0</th>\n",
              "      <td>Masterchef 2017</td>\n",
              "      <td>masterchef-2017</td>\n",
              "      <td>masterchef 2017</td>\n",
              "      <td>masterchef 2017</td>\n",
              "    </tr>\n",
              "    <tr>\n",
              "      <th>1</th>\n",
              "      <td>Micky Contreras Martinez</td>\n",
              "      <td>micky-contreras-martinez</td>\n",
              "      <td>micky contreras martinez</td>\n",
              "      <td>micky contreras martinez</td>\n",
              "    </tr>\n",
              "    <tr>\n",
              "      <th>2</th>\n",
              "      <td>El Pulso De La RepÃºblica</td>\n",
              "      <td>el-pulso-de-la-repaoblica</td>\n",
              "      <td>el pulso de la repablica</td>\n",
              "      <td>el pulso de la repblica</td>\n",
              "    </tr>\n",
              "    <tr>\n",
              "      <th>3</th>\n",
              "      <td>Casanare</td>\n",
              "      <td>casanare</td>\n",
              "      <td>casanare</td>\n",
              "      <td>casanare</td>\n",
              "    </tr>\n",
              "    <tr>\n",
              "      <th>4</th>\n",
              "      <td>Musas</td>\n",
              "      <td>musas</td>\n",
              "      <td>musas</td>\n",
              "      <td>musas</td>\n",
              "    </tr>\n",
              "    <tr>\n",
              "      <th>5</th>\n",
              "      <td>MÃSICA &amp; ENTRETENIMIENTO</td>\n",
              "      <td>masica-entretenimiento</td>\n",
              "      <td>masica  entretenimiento</td>\n",
              "      <td>msica &amp; entretenimiento</td>\n",
              "    </tr>\n",
              "    <tr>\n",
              "      <th>6</th>\n",
              "      <td>La Resolana</td>\n",
              "      <td>la-resolana</td>\n",
              "      <td>la resolana</td>\n",
              "      <td>la resolana</td>\n",
              "    </tr>\n",
              "    <tr>\n",
              "      <th>7</th>\n",
              "      <td>concienciaradio</td>\n",
              "      <td>concienciaradio</td>\n",
              "      <td>concienciaradio</td>\n",
              "      <td>concienciaradio</td>\n",
              "    </tr>\n",
              "    <tr>\n",
              "      <th>8</th>\n",
              "      <td>Los mejores Top 10</td>\n",
              "      <td>los-mejores-top-10</td>\n",
              "      <td>los mejores top 10</td>\n",
              "      <td>los mejores top 10</td>\n",
              "    </tr>\n",
              "    <tr>\n",
              "      <th>9</th>\n",
              "      <td>DrossRotzank</td>\n",
              "      <td>drossrotzank</td>\n",
              "      <td>drossrotzank</td>\n",
              "      <td>drossrotzank</td>\n",
              "    </tr>\n",
              "    <tr>\n",
              "      <th>10</th>\n",
              "      <td>Franco Escamilla</td>\n",
              "      <td>franco-escamilla</td>\n",
              "      <td>franco escamilla</td>\n",
              "      <td>franco escamilla</td>\n",
              "    </tr>\n",
              "    <tr>\n",
              "      <th>11</th>\n",
              "      <td>maurg1</td>\n",
              "      <td>maurg1</td>\n",
              "      <td>maurg1</td>\n",
              "      <td>maurg1</td>\n",
              "    </tr>\n",
              "    <tr>\n",
              "      <th>12</th>\n",
              "      <td>Memo Aponte</td>\n",
              "      <td>memo-aponte</td>\n",
              "      <td>memo aponte</td>\n",
              "      <td>memo aponte</td>\n",
              "    </tr>\n",
              "    <tr>\n",
              "      <th>13</th>\n",
              "      <td>Harrison</td>\n",
              "      <td>harrison</td>\n",
              "      <td>harrison</td>\n",
              "      <td>harrison</td>\n",
              "    </tr>\n",
              "    <tr>\n",
              "      <th>14</th>\n",
              "      <td>Harrison</td>\n",
              "      <td>harrison</td>\n",
              "      <td>harrison</td>\n",
              "      <td>harrison</td>\n",
              "    </tr>\n",
              "    <tr>\n",
              "      <th>15</th>\n",
              "      <td>EnigmAnÃ³nimo Mundo de Hoy</td>\n",
              "      <td>enigmana3nimo-mundo-de-hoy</td>\n",
              "      <td>enigmananimo mundo de hoy</td>\n",
              "      <td>enigmannimo mundo de hoy</td>\n",
              "    </tr>\n",
              "    <tr>\n",
              "      <th>16</th>\n",
              "      <td>El Privilegio de Mandar</td>\n",
              "      <td>el-privilegio-de-mandar</td>\n",
              "      <td>el privilegio de mandar</td>\n",
              "      <td>el privilegio de mandar</td>\n",
              "    </tr>\n",
              "    <tr>\n",
              "      <th>17</th>\n",
              "      <td>Chacaleo. Com</td>\n",
              "      <td>chacaleo-com</td>\n",
              "      <td>chacaleo com</td>\n",
              "      <td>chacaleo. com</td>\n",
              "    </tr>\n",
              "    <tr>\n",
              "      <th>18</th>\n",
              "      <td>Central de notÃ­cias e esportes CNE</td>\n",
              "      <td>central-de-notacias-e-esportes-cne</td>\n",
              "      <td>central de notacias e esportes cne</td>\n",
              "      <td>central de notcias e esportes cne</td>\n",
              "    </tr>\n",
              "    <tr>\n",
              "      <th>19</th>\n",
              "      <td>MaireWink</td>\n",
              "      <td>mairewink</td>\n",
              "      <td>mairewink</td>\n",
              "      <td>mairewink</td>\n",
              "    </tr>\n",
              "  </tbody>\n",
              "</table>\n",
              "</div>"
            ],
            "text/plain": [
              "                          channel_title  ...                    channel_title_3\n",
              "0                       Masterchef 2017  ...                    masterchef 2017\n",
              "1              Micky Contreras Martinez  ...           micky contreras martinez\n",
              "2             El Pulso De La RepÃºblica  ...            el pulso de la repblica\n",
              "3                              Casanare  ...                           casanare\n",
              "4                                 Musas  ...                              musas\n",
              "5             MÃSICA & ENTRETENIMIENTO  ...            msica & entretenimiento\n",
              "6                           La Resolana  ...                        la resolana\n",
              "7                       concienciaradio  ...                    concienciaradio\n",
              "8                    Los mejores Top 10  ...                 los mejores top 10\n",
              "9                          DrossRotzank  ...                       drossrotzank\n",
              "10                     Franco Escamilla  ...                   franco escamilla\n",
              "11                               maurg1  ...                             maurg1\n",
              "12                          Memo Aponte  ...                        memo aponte\n",
              "13                             Harrison  ...                           harrison\n",
              "14                             Harrison  ...                           harrison\n",
              "15           EnigmAnÃ³nimo Mundo de Hoy  ...           enigmannimo mundo de hoy\n",
              "16              El Privilegio de Mandar  ...            el privilegio de mandar\n",
              "17                        Chacaleo. Com  ...                      chacaleo. com\n",
              "18  Central de notÃ­cias e esportes CNE  ...  central de notcias e esportes cne\n",
              "19                            MaireWink  ...                          mairewink\n",
              "\n",
              "[20 rows x 4 columns]"
            ]
          },
          "metadata": {
            "tags": []
          },
          "execution_count": 34
        }
      ]
    },
    {
      "cell_type": "code",
      "metadata": {
        "id": "kWJ3u-DRJm2U",
        "colab_type": "code",
        "colab": {
          "base_uri": "https://localhost:8080/",
          "height": 87
        },
        "outputId": "4a103768-22c0-479b-bfa4-066b1d65060a"
      },
      "source": [
        "for col in ['channel_title','channel_title_1', 'channel_title_2', 'channel_title_3']:\n",
        "    print(col, data_mx[col].unique().shape)"
      ],
      "execution_count": null,
      "outputs": [
        {
          "output_type": "stream",
          "text": [
            "channel_title (6978,)\n",
            "channel_title_1 (6919,)\n",
            "channel_title_2 (6912,)\n",
            "channel_title_3 (6917,)\n"
          ],
          "name": "stdout"
        }
      ]
    },
    {
      "cell_type": "code",
      "metadata": {
        "id": "jRVGmgwEJm2X",
        "colab_type": "code",
        "colab": {}
      },
      "source": [
        ""
      ],
      "execution_count": null,
      "outputs": []
    },
    {
      "cell_type": "markdown",
      "metadata": {
        "id": "fcpHIM8QJm2c",
        "colab_type": "text"
      },
      "source": [
        "# DATES"
      ]
    },
    {
      "cell_type": "markdown",
      "metadata": {
        "id": "_dNAohLsJm2d",
        "colab_type": "text"
      },
      "source": [
        "### Tenemos dos columnas fechs y estan siendo tomadas como cadenas de texto"
      ]
    },
    {
      "cell_type": "code",
      "metadata": {
        "id": "It9vS47pJm2e",
        "colab_type": "code",
        "colab": {
          "base_uri": "https://localhost:8080/",
          "height": 372
        },
        "outputId": "fd2e36f8-7bd1-4040-e764-bf90bc45ef36"
      },
      "source": [
        "data_mx.dtypes"
      ],
      "execution_count": null,
      "outputs": [
        {
          "output_type": "execute_result",
          "data": {
            "text/plain": [
              "video_id                  object\n",
              "trending_date             object\n",
              "title                     object\n",
              "channel_title             object\n",
              "category_id                int64\n",
              "publish_time              object\n",
              "tags                      object\n",
              "views                      int64\n",
              "likes                      int64\n",
              "dislikes                   int64\n",
              "comment_count              int64\n",
              "thumbnail_link            object\n",
              "comments_disabled           bool\n",
              "ratings_disabled            bool\n",
              "video_error_or_removed      bool\n",
              "description               object\n",
              "channel_title_1           object\n",
              "channel_title_2           object\n",
              "channel_title_3           object\n",
              "dtype: object"
            ]
          },
          "metadata": {
            "tags": []
          },
          "execution_count": 36
        }
      ]
    },
    {
      "cell_type": "code",
      "metadata": {
        "id": "K3FDpoLEJm2j",
        "colab_type": "code",
        "colab": {
          "base_uri": "https://localhost:8080/",
          "height": 212
        },
        "outputId": "cfcf7a84-c20c-4b23-8a70-d100e277904e"
      },
      "source": [
        "data_mx['publish_time'].head(10)"
      ],
      "execution_count": null,
      "outputs": [
        {
          "output_type": "execute_result",
          "data": {
            "text/plain": [
              "0    2017-11-13T06:06:22.000Z\n",
              "1    2017-11-13T05:11:58.000Z\n",
              "2    2017-11-13T17:00:02.000Z\n",
              "3    2017-11-13T03:47:10.000Z\n",
              "4    2017-11-13T19:17:48.000Z\n",
              "5    2017-11-12T20:17:38.000Z\n",
              "6    2017-11-13T07:00:03.000Z\n",
              "7    2017-11-13T06:18:23.000Z\n",
              "8    2017-11-12T19:54:12.000Z\n",
              "9    2017-11-12T21:14:44.000Z\n",
              "Name: publish_time, dtype: object"
            ]
          },
          "metadata": {
            "tags": []
          },
          "execution_count": 37
        }
      ]
    },
    {
      "cell_type": "code",
      "metadata": {
        "id": "phEzvjxEJm2o",
        "colab_type": "code",
        "colab": {
          "base_uri": "https://localhost:8080/",
          "height": 212
        },
        "outputId": "c6ae2539-009b-4166-be83-b910b2c62dec"
      },
      "source": [
        "data_mx['trending_date'].head(10)"
      ],
      "execution_count": null,
      "outputs": [
        {
          "output_type": "execute_result",
          "data": {
            "text/plain": [
              "0    17.14.11\n",
              "1    17.14.11\n",
              "2    17.14.11\n",
              "3    17.14.11\n",
              "4    17.14.11\n",
              "5    17.14.11\n",
              "6    17.14.11\n",
              "7    17.14.11\n",
              "8    17.14.11\n",
              "9    17.14.11\n",
              "Name: trending_date, dtype: object"
            ]
          },
          "metadata": {
            "tags": []
          },
          "execution_count": 38
        }
      ]
    },
    {
      "cell_type": "markdown",
      "metadata": {
        "id": "MVGNOyEEJm2v",
        "colab_type": "text"
      },
      "source": [
        "### FORMAT https://docs.python.org/3/library/datetime.html#strftime-and-strptime-behavior\n",
        "\n",
        "TO_DATETIME https://pandas.pydata.org/pandas-docs/stable/reference/api/pandas.to_datetime.html"
      ]
    },
    {
      "cell_type": "code",
      "metadata": {
        "id": "BgrhTR2gJm2w",
        "colab_type": "code",
        "colab": {
          "base_uri": "https://localhost:8080/",
          "height": 478
        },
        "outputId": "95a68e3c-a01c-4c30-8502-2e3759e79099"
      },
      "source": [
        "data_mx['trending_date'] = pd.to_datetime(\n",
        "    data_mx['trending_date'], errors='coerce', format='%y.%d.%m'\n",
        ")\n",
        "\n",
        "data_mx['publish_time'] = pd.to_datetime(\n",
        "    data_mx['publish_time'], errors='coerce', format='%Y-%m-%dT%H:%M:%S.%fZ'\n",
        ")\n",
        "data_mx.dtypes"
      ],
      "execution_count": null,
      "outputs": [
        {
          "output_type": "execute_result",
          "data": {
            "text/plain": [
              "video_id                              object\n",
              "trending_date                 datetime64[ns]\n",
              "title                                 object\n",
              "channel_title                         object\n",
              "category_id                             int8\n",
              "publish_time                  datetime64[ns]\n",
              "tags                                  object\n",
              "views                                  int32\n",
              "likes                                  int32\n",
              "dislikes                               int32\n",
              "comment_count                          int32\n",
              "thumbnail_link                        object\n",
              "comments_disabled                       bool\n",
              "ratings_disabled                        bool\n",
              "video_error_or_removed                  bool\n",
              "description                           object\n",
              "channel_title_1                       object\n",
              "channel_title_2                       object\n",
              "channel_title_3                       object\n",
              "diff_date                            float32\n",
              "weekday_publish                         int8\n",
              "month_publish                           int8\n",
              "comments_disabled_int                   int8\n",
              "ratings_disabled_int                    int8\n",
              "video_error_or_removed_int              int8\n",
              "dtype: object"
            ]
          },
          "metadata": {
            "tags": []
          },
          "execution_count": 64
        }
      ]
    },
    {
      "cell_type": "code",
      "metadata": {
        "id": "Qw5i_RysJm23",
        "colab_type": "code",
        "colab": {
          "base_uri": "https://localhost:8080/",
          "height": 70
        },
        "outputId": "4bc27159-daf7-4000-8524-39f924d087e8"
      },
      "source": [
        "data_mx[['publish_time', 'trending_date']].isnull().any()"
      ],
      "execution_count": null,
      "outputs": [
        {
          "output_type": "execute_result",
          "data": {
            "text/plain": [
              "publish_time     False\n",
              "trending_date    False\n",
              "dtype: bool"
            ]
          },
          "metadata": {
            "tags": []
          },
          "execution_count": 40
        }
      ]
    },
    {
      "cell_type": "markdown",
      "metadata": {
        "id": "65vgASfSJm28",
        "colab_type": "text"
      },
      "source": [
        "### AHORA YA ES POSIBLE HALLAR LA DIFRENCI ENTRE LA FECHA DE PUBLICACION Y LA FECHA DE TENDENCIA"
      ]
    },
    {
      "cell_type": "code",
      "metadata": {
        "id": "Y6RUV9S9Jm28",
        "colab_type": "code",
        "colab": {}
      },
      "source": [
        "def apply_diff_mont(serie_diff):\n",
        "    return (serie_diff / np.timedelta64(1,'D')).round(3)\n",
        "    \n",
        "\n",
        "data_mx['diff_date'] = apply_diff_mont(\n",
        "    data_mx['trending_date'] - data_mx['publish_time']\n",
        ")"
      ],
      "execution_count": null,
      "outputs": []
    },
    {
      "cell_type": "code",
      "metadata": {
        "id": "J_D3nOFMJm3A",
        "colab_type": "code",
        "colab": {
          "base_uri": "https://localhost:8080/",
          "height": 318
        },
        "outputId": "b672ff8a-75b8-4a86-c249-5648fadd391c"
      },
      "source": [
        "data_mx['diff_date'].head(15)"
      ],
      "execution_count": null,
      "outputs": [
        {
          "output_type": "execute_result",
          "data": {
            "text/plain": [
              "publish_time\n",
              "2017-11-13 06:06:22    0.746\n",
              "2017-11-13 05:11:58    0.783\n",
              "2017-11-13 17:00:02    0.292\n",
              "2017-11-13 03:47:10    0.842\n",
              "2017-11-13 19:17:48    0.196\n",
              "2017-11-12 20:17:38    1.154\n",
              "2017-11-13 07:00:03    0.708\n",
              "2017-11-13 06:18:23    0.737\n",
              "2017-11-12 19:54:12    1.171\n",
              "2017-11-12 21:14:44    1.115\n",
              "2017-11-12 19:30:02    1.187\n",
              "2017-11-13 01:16:16    0.947\n",
              "2017-11-13 01:50:12    0.923\n",
              "2017-11-13 04:44:51    0.802\n",
              "2017-11-13 04:44:51    0.802\n",
              "Name: diff_date, dtype: float64"
            ]
          },
          "metadata": {
            "tags": []
          },
          "execution_count": 66
        }
      ]
    },
    {
      "cell_type": "markdown",
      "metadata": {
        "id": "Ucbb9PO7Jm3D",
        "colab_type": "text"
      },
      "source": [
        "## Y PODEMOS HALLAR MAS VARIANTES "
      ]
    },
    {
      "cell_type": "code",
      "metadata": {
        "id": "FX2Afg_CJm3E",
        "colab_type": "code",
        "colab": {
          "base_uri": "https://localhost:8080/",
          "height": 497
        },
        "outputId": "f81c5aa6-2df1-4df3-ca56-385290387a55"
      },
      "source": [
        "data_mx['weekday_publish'] = data_mx['publish_time'].dt.weekday\n",
        "data_mx['month_publish'] = data_mx['publish_time'].dt.month\n",
        "\n",
        "data_mx[['month_publish', 'weekday_publish']].head(15)"
      ],
      "execution_count": null,
      "outputs": [
        {
          "output_type": "execute_result",
          "data": {
            "text/html": [
              "<div>\n",
              "<style scoped>\n",
              "    .dataframe tbody tr th:only-of-type {\n",
              "        vertical-align: middle;\n",
              "    }\n",
              "\n",
              "    .dataframe tbody tr th {\n",
              "        vertical-align: top;\n",
              "    }\n",
              "\n",
              "    .dataframe thead th {\n",
              "        text-align: right;\n",
              "    }\n",
              "</style>\n",
              "<table border=\"1\" class=\"dataframe\">\n",
              "  <thead>\n",
              "    <tr style=\"text-align: right;\">\n",
              "      <th></th>\n",
              "      <th>month_publish</th>\n",
              "      <th>weekday_publish</th>\n",
              "    </tr>\n",
              "  </thead>\n",
              "  <tbody>\n",
              "    <tr>\n",
              "      <th>0</th>\n",
              "      <td>11</td>\n",
              "      <td>0</td>\n",
              "    </tr>\n",
              "    <tr>\n",
              "      <th>1</th>\n",
              "      <td>11</td>\n",
              "      <td>0</td>\n",
              "    </tr>\n",
              "    <tr>\n",
              "      <th>2</th>\n",
              "      <td>11</td>\n",
              "      <td>0</td>\n",
              "    </tr>\n",
              "    <tr>\n",
              "      <th>3</th>\n",
              "      <td>11</td>\n",
              "      <td>0</td>\n",
              "    </tr>\n",
              "    <tr>\n",
              "      <th>4</th>\n",
              "      <td>11</td>\n",
              "      <td>0</td>\n",
              "    </tr>\n",
              "    <tr>\n",
              "      <th>5</th>\n",
              "      <td>11</td>\n",
              "      <td>6</td>\n",
              "    </tr>\n",
              "    <tr>\n",
              "      <th>6</th>\n",
              "      <td>11</td>\n",
              "      <td>0</td>\n",
              "    </tr>\n",
              "    <tr>\n",
              "      <th>7</th>\n",
              "      <td>11</td>\n",
              "      <td>0</td>\n",
              "    </tr>\n",
              "    <tr>\n",
              "      <th>8</th>\n",
              "      <td>11</td>\n",
              "      <td>6</td>\n",
              "    </tr>\n",
              "    <tr>\n",
              "      <th>9</th>\n",
              "      <td>11</td>\n",
              "      <td>6</td>\n",
              "    </tr>\n",
              "    <tr>\n",
              "      <th>10</th>\n",
              "      <td>11</td>\n",
              "      <td>6</td>\n",
              "    </tr>\n",
              "    <tr>\n",
              "      <th>11</th>\n",
              "      <td>11</td>\n",
              "      <td>0</td>\n",
              "    </tr>\n",
              "    <tr>\n",
              "      <th>12</th>\n",
              "      <td>11</td>\n",
              "      <td>0</td>\n",
              "    </tr>\n",
              "    <tr>\n",
              "      <th>13</th>\n",
              "      <td>11</td>\n",
              "      <td>0</td>\n",
              "    </tr>\n",
              "    <tr>\n",
              "      <th>14</th>\n",
              "      <td>11</td>\n",
              "      <td>0</td>\n",
              "    </tr>\n",
              "  </tbody>\n",
              "</table>\n",
              "</div>"
            ],
            "text/plain": [
              "    month_publish  weekday_publish\n",
              "0              11                0\n",
              "1              11                0\n",
              "2              11                0\n",
              "3              11                0\n",
              "4              11                0\n",
              "5              11                6\n",
              "6              11                0\n",
              "7              11                0\n",
              "8              11                6\n",
              "9              11                6\n",
              "10             11                6\n",
              "11             11                0\n",
              "12             11                0\n",
              "13             11                0\n",
              "14             11                0"
            ]
          },
          "metadata": {
            "tags": []
          },
          "execution_count": 43
        }
      ]
    },
    {
      "cell_type": "code",
      "metadata": {
        "id": "xvSPiXKMJm3H",
        "colab_type": "code",
        "colab": {
          "base_uri": "https://localhost:8080/",
          "height": 304
        },
        "outputId": "4db4bc72-2c35-44e1-ea6c-de4f7e67c8da"
      },
      "source": [
        "### INCLUSO APLICAR SERIES DE TIEMPO\n",
        "#grafico\n",
        "import matplotlib.pyplot as plt\n",
        "%matplotlib inline\n",
        "\n",
        "data_mx.index = data_mx.publish_time\n",
        "\n",
        "data_mx.views.sort_index().plot()"
      ],
      "execution_count": null,
      "outputs": [
        {
          "output_type": "execute_result",
          "data": {
            "text/plain": [
              "<matplotlib.axes._subplots.AxesSubplot at 0x7f7164008fd0>"
            ]
          },
          "metadata": {
            "tags": []
          },
          "execution_count": 44
        },
        {
          "output_type": "display_data",
          "data": {
            "image/png": "[encoded data removed]",
            "text/plain": [
              "<Figure size 432x288 with 1 Axes>"
            ]
          },
          "metadata": {
            "tags": [],
            "needs_background": "light"
          }
        }
      ]
    },
    {
      "cell_type": "code",
      "metadata": {
        "id": "bE8HQvonJm3K",
        "colab_type": "code",
        "colab": {
          "base_uri": "https://localhost:8080/",
          "height": 313
        },
        "outputId": "731c83e1-6871-4700-aa9a-96854160636b"
      },
      "source": [
        "data_mx[data_mx['publish_time'].dt.year >= 2018].views.sort_index().plot()"
      ],
      "execution_count": null,
      "outputs": [
        {
          "output_type": "execute_result",
          "data": {
            "text/plain": [
              "<matplotlib.axes._subplots.AxesSubplot at 0x7f7163e2a748>"
            ]
          },
          "metadata": {
            "tags": []
          },
          "execution_count": 45
        },
        {
          "output_type": "display_data",
          "data": {
            "image/png": "[encoded data removed]",
            "text/plain": [
              "<Figure size 432x288 with 1 Axes>"
            ]
          },
          "metadata": {
            "tags": [],
            "needs_background": "light"
          }
        }
      ]
    },
    {
      "cell_type": "markdown",
      "metadata": {
        "id": "Dx80XsF5Jm3Q",
        "colab_type": "text"
      },
      "source": [
        "# PASAR LOS BOOLEANOS A ENTEROS"
      ]
    },
    {
      "cell_type": "code",
      "metadata": {
        "id": "Se4MIufSJm3R",
        "colab_type": "code",
        "colab": {
          "base_uri": "https://localhost:8080/",
          "height": 425
        },
        "outputId": "b6f2adf8-b9f3-4354-97c3-6b9d91839b7c"
      },
      "source": [
        "data_mx.dtypes"
      ],
      "execution_count": null,
      "outputs": [
        {
          "output_type": "execute_result",
          "data": {
            "text/plain": [
              "video_id                          object\n",
              "trending_date             datetime64[ns]\n",
              "title                             object\n",
              "channel_title                     object\n",
              "category_id                        int64\n",
              "publish_time              datetime64[ns]\n",
              "tags                              object\n",
              "views                              int64\n",
              "likes                              int64\n",
              "dislikes                           int64\n",
              "comment_count                      int64\n",
              "thumbnail_link                    object\n",
              "comments_disabled                   bool\n",
              "ratings_disabled                    bool\n",
              "video_error_or_removed              bool\n",
              "description                       object\n",
              "channel_title_1                   object\n",
              "channel_title_2                   object\n",
              "channel_title_3                   object\n",
              "diff_date                        float64\n",
              "weekday_publish                    int64\n",
              "month_publish                      int64\n",
              "dtype: object"
            ]
          },
          "metadata": {
            "tags": []
          },
          "execution_count": 46
        }
      ]
    },
    {
      "cell_type": "code",
      "metadata": {
        "id": "S7sW3Vj9Jm3W",
        "colab_type": "code",
        "colab": {
          "base_uri": "https://localhost:8080/",
          "height": 677
        },
        "outputId": "f8e08da3-227d-4794-daf4-be97e9c915c9"
      },
      "source": [
        "for col in ['comments_disabled', 'ratings_disabled', 'video_error_or_removed']:\n",
        "    data_mx[col + '_int'] = data_mx[col].astype(int)\n",
        "    \n",
        "\n",
        "data_mx[\n",
        "    ['comments_disabled', 'comments_disabled_int','ratings_disabled', 'ratings_disabled_int', 'video_error_or_removed', 'video_error_or_removed_int']\n",
        "].head(20)"
      ],
      "execution_count": null,
      "outputs": [
        {
          "output_type": "execute_result",
          "data": {
            "text/html": [
              "<div>\n",
              "<style scoped>\n",
              "    .dataframe tbody tr th:only-of-type {\n",
              "        vertical-align: middle;\n",
              "    }\n",
              "\n",
              "    .dataframe tbody tr th {\n",
              "        vertical-align: top;\n",
              "    }\n",
              "\n",
              "    .dataframe thead th {\n",
              "        text-align: right;\n",
              "    }\n",
              "</style>\n",
              "<table border=\"1\" class=\"dataframe\">\n",
              "  <thead>\n",
              "    <tr style=\"text-align: right;\">\n",
              "      <th></th>\n",
              "      <th>comments_disabled</th>\n",
              "      <th>comments_disabled_int</th>\n",
              "      <th>ratings_disabled</th>\n",
              "      <th>ratings_disabled_int</th>\n",
              "      <th>video_error_or_removed</th>\n",
              "      <th>video_error_or_removed_int</th>\n",
              "    </tr>\n",
              "    <tr>\n",
              "      <th>publish_time</th>\n",
              "      <th></th>\n",
              "      <th></th>\n",
              "      <th></th>\n",
              "      <th></th>\n",
              "      <th></th>\n",
              "      <th></th>\n",
              "    </tr>\n",
              "  </thead>\n",
              "  <tbody>\n",
              "    <tr>\n",
              "      <th>2017-11-13 06:06:22</th>\n",
              "      <td>False</td>\n",
              "      <td>0</td>\n",
              "      <td>False</td>\n",
              "      <td>0</td>\n",
              "      <td>False</td>\n",
              "      <td>0</td>\n",
              "    </tr>\n",
              "    <tr>\n",
              "      <th>2017-11-13 05:11:58</th>\n",
              "      <td>False</td>\n",
              "      <td>0</td>\n",
              "      <td>False</td>\n",
              "      <td>0</td>\n",
              "      <td>False</td>\n",
              "      <td>0</td>\n",
              "    </tr>\n",
              "    <tr>\n",
              "      <th>2017-11-13 17:00:02</th>\n",
              "      <td>False</td>\n",
              "      <td>0</td>\n",
              "      <td>False</td>\n",
              "      <td>0</td>\n",
              "      <td>False</td>\n",
              "      <td>0</td>\n",
              "    </tr>\n",
              "    <tr>\n",
              "      <th>2017-11-13 03:47:10</th>\n",
              "      <td>False</td>\n",
              "      <td>0</td>\n",
              "      <td>False</td>\n",
              "      <td>0</td>\n",
              "      <td>False</td>\n",
              "      <td>0</td>\n",
              "    </tr>\n",
              "    <tr>\n",
              "      <th>2017-11-13 19:17:48</th>\n",
              "      <td>False</td>\n",
              "      <td>0</td>\n",
              "      <td>False</td>\n",
              "      <td>0</td>\n",
              "      <td>False</td>\n",
              "      <td>0</td>\n",
              "    </tr>\n",
              "    <tr>\n",
              "      <th>2017-11-12 20:17:38</th>\n",
              "      <td>False</td>\n",
              "      <td>0</td>\n",
              "      <td>False</td>\n",
              "      <td>0</td>\n",
              "      <td>False</td>\n",
              "      <td>0</td>\n",
              "    </tr>\n",
              "    <tr>\n",
              "      <th>2017-11-13 07:00:03</th>\n",
              "      <td>False</td>\n",
              "      <td>0</td>\n",
              "      <td>False</td>\n",
              "      <td>0</td>\n",
              "      <td>False</td>\n",
              "      <td>0</td>\n",
              "    </tr>\n",
              "    <tr>\n",
              "      <th>2017-11-13 06:18:23</th>\n",
              "      <td>True</td>\n",
              "      <td>1</td>\n",
              "      <td>False</td>\n",
              "      <td>0</td>\n",
              "      <td>False</td>\n",
              "      <td>0</td>\n",
              "    </tr>\n",
              "    <tr>\n",
              "      <th>2017-11-12 19:54:12</th>\n",
              "      <td>False</td>\n",
              "      <td>0</td>\n",
              "      <td>False</td>\n",
              "      <td>0</td>\n",
              "      <td>False</td>\n",
              "      <td>0</td>\n",
              "    </tr>\n",
              "    <tr>\n",
              "      <th>2017-11-12 21:14:44</th>\n",
              "      <td>False</td>\n",
              "      <td>0</td>\n",
              "      <td>False</td>\n",
              "      <td>0</td>\n",
              "      <td>False</td>\n",
              "      <td>0</td>\n",
              "    </tr>\n",
              "    <tr>\n",
              "      <th>2017-11-12 19:30:02</th>\n",
              "      <td>False</td>\n",
              "      <td>0</td>\n",
              "      <td>False</td>\n",
              "      <td>0</td>\n",
              "      <td>False</td>\n",
              "      <td>0</td>\n",
              "    </tr>\n",
              "    <tr>\n",
              "      <th>2017-11-13 01:16:16</th>\n",
              "      <td>False</td>\n",
              "      <td>0</td>\n",
              "      <td>False</td>\n",
              "      <td>0</td>\n",
              "      <td>False</td>\n",
              "      <td>0</td>\n",
              "    </tr>\n",
              "    <tr>\n",
              "      <th>2017-11-13 01:50:12</th>\n",
              "      <td>False</td>\n",
              "      <td>0</td>\n",
              "      <td>False</td>\n",
              "      <td>0</td>\n",
              "      <td>False</td>\n",
              "      <td>0</td>\n",
              "    </tr>\n",
              "    <tr>\n",
              "      <th>2017-11-13 04:44:51</th>\n",
              "      <td>False</td>\n",
              "      <td>0</td>\n",
              "      <td>False</td>\n",
              "      <td>0</td>\n",
              "      <td>False</td>\n",
              "      <td>0</td>\n",
              "    </tr>\n",
              "    <tr>\n",
              "      <th>2017-11-13 04:44:51</th>\n",
              "      <td>False</td>\n",
              "      <td>0</td>\n",
              "      <td>False</td>\n",
              "      <td>0</td>\n",
              "      <td>True</td>\n",
              "      <td>1</td>\n",
              "    </tr>\n",
              "    <tr>\n",
              "      <th>2017-11-13 04:21:34</th>\n",
              "      <td>False</td>\n",
              "      <td>0</td>\n",
              "      <td>False</td>\n",
              "      <td>0</td>\n",
              "      <td>False</td>\n",
              "      <td>0</td>\n",
              "    </tr>\n",
              "    <tr>\n",
              "      <th>2017-11-12 23:20:42</th>\n",
              "      <td>False</td>\n",
              "      <td>0</td>\n",
              "      <td>False</td>\n",
              "      <td>0</td>\n",
              "      <td>False</td>\n",
              "      <td>0</td>\n",
              "    </tr>\n",
              "    <tr>\n",
              "      <th>2017-11-13 14:00:01</th>\n",
              "      <td>False</td>\n",
              "      <td>0</td>\n",
              "      <td>False</td>\n",
              "      <td>0</td>\n",
              "      <td>False</td>\n",
              "      <td>0</td>\n",
              "    </tr>\n",
              "    <tr>\n",
              "      <th>2017-11-13 20:40:53</th>\n",
              "      <td>False</td>\n",
              "      <td>0</td>\n",
              "      <td>False</td>\n",
              "      <td>0</td>\n",
              "      <td>False</td>\n",
              "      <td>0</td>\n",
              "    </tr>\n",
              "    <tr>\n",
              "      <th>2017-11-13 18:00:01</th>\n",
              "      <td>False</td>\n",
              "      <td>0</td>\n",
              "      <td>False</td>\n",
              "      <td>0</td>\n",
              "      <td>False</td>\n",
              "      <td>0</td>\n",
              "    </tr>\n",
              "  </tbody>\n",
              "</table>\n",
              "</div>"
            ],
            "text/plain": [
              "                     comments_disabled  ...  video_error_or_removed_int\n",
              "publish_time                            ...                            \n",
              "2017-11-13 06:06:22              False  ...                           0\n",
              "2017-11-13 05:11:58              False  ...                           0\n",
              "2017-11-13 17:00:02              False  ...                           0\n",
              "2017-11-13 03:47:10              False  ...                           0\n",
              "2017-11-13 19:17:48              False  ...                           0\n",
              "2017-11-12 20:17:38              False  ...                           0\n",
              "2017-11-13 07:00:03              False  ...                           0\n",
              "2017-11-13 06:18:23               True  ...                           0\n",
              "2017-11-12 19:54:12              False  ...                           0\n",
              "2017-11-12 21:14:44              False  ...                           0\n",
              "2017-11-12 19:30:02              False  ...                           0\n",
              "2017-11-13 01:16:16              False  ...                           0\n",
              "2017-11-13 01:50:12              False  ...                           0\n",
              "2017-11-13 04:44:51              False  ...                           0\n",
              "2017-11-13 04:44:51              False  ...                           1\n",
              "2017-11-13 04:21:34              False  ...                           0\n",
              "2017-11-12 23:20:42              False  ...                           0\n",
              "2017-11-13 14:00:01              False  ...                           0\n",
              "2017-11-13 20:40:53              False  ...                           0\n",
              "2017-11-13 18:00:01              False  ...                           0\n",
              "\n",
              "[20 rows x 6 columns]"
            ]
          },
          "metadata": {
            "tags": []
          },
          "execution_count": 47
        }
      ]
    },
    {
      "cell_type": "code",
      "metadata": {
        "id": "j588O3pQJm3Z",
        "colab_type": "code",
        "colab": {}
      },
      "source": [
        "def get_memory_usage(data, deep=True):\n",
        "    return '{} MB'.format(data.memory_usage(deep=deep).sum() / 1024 ** 2)"
      ],
      "execution_count": null,
      "outputs": []
    },
    {
      "cell_type": "code",
      "metadata": {
        "id": "nL5nBQicJm3e",
        "colab_type": "code",
        "colab": {}
      },
      "source": [
        "def reduce_size_data(df, category=False, default=''):\n",
        "    print(\"INITIAL SIZE : DEEP\", get_memory_usage(df), \"REAL\", get_memory_usage(df, deep=False))\n",
        "    # print(\"-> Int 64 Detected\")\n",
        "    \n",
        "    for col in df.select_dtypes(include=['int']).columns:\n",
        "        # print(\" \"*4, col)\n",
        "        df[col] = pd.to_numeric(arg=df[col], downcast=default or'integer')\n",
        "    \n",
        "    \n",
        "    # print(\"-> Float 64 Detected\")\n",
        "    for col in df.select_dtypes(include=['float']).columns:\n",
        "        # print(\" \"*4, col)\n",
        "        df[col] = pd.to_numeric(arg=df[col], downcast=default or'float')\n",
        "    \n",
        "    if category:\n",
        "        for col in df.select_dtypes(include=['object']).columns:\n",
        "            if len(df[col].unique()) / len(df[col]) < 0.5:\n",
        "                df[col] = df[col].astype('category')\n",
        "                \n",
        "    print(\"FINAL SIZE : DEPP\", get_memory_usage(df), \"REAL\", get_memory_usage(df, deep=False))               \n",
        "    return df"
      ],
      "execution_count": null,
      "outputs": []
    },
    {
      "cell_type": "code",
      "metadata": {
        "id": "5_UDAHAwJm3j",
        "colab_type": "code",
        "colab": {
          "base_uri": "https://localhost:8080/",
          "height": 52
        },
        "outputId": "5b68caab-b221-4bf6-b5c2-c7461ca953e3"
      },
      "source": [
        "data_mx = reduce_size_data(data_mx)"
      ],
      "execution_count": null,
      "outputs": [
        {
          "output_type": "stream",
          "text": [
            "INITIAL SIZE : DEEP 73.02114295959473 MB REAL 7.213913917541504 MB\n",
            "FINAL SIZE : DEPP 70.62936401367188 MB REAL 4.822134971618652 MB\n"
          ],
          "name": "stdout"
        }
      ]
    },
    {
      "cell_type": "markdown",
      "metadata": {
        "id": "Q1Wkl7SOJm3q",
        "colab_type": "text"
      },
      "source": [
        "# ejemplo https://github.com/kendalvictor/guia_data_ML/blob/master/REDUCIR%20USO%20DE%20MEMORIA%20DEL%20DATAFRAME.ipynb"
      ]
    },
    {
      "cell_type": "code",
      "metadata": {
        "id": "q-OVkZuVJm3q",
        "colab_type": "code",
        "colab": {}
      },
      "source": [
        ""
      ],
      "execution_count": null,
      "outputs": []
    },
    {
      "cell_type": "code",
      "metadata": {
        "id": "g8NCZ3bGJm3u",
        "colab_type": "code",
        "colab": {}
      },
      "source": [
        ""
      ],
      "execution_count": null,
      "outputs": []
    }
  ]
}