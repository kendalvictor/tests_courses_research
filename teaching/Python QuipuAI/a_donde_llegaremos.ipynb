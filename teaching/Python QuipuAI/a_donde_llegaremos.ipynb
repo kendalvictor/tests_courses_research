{
 "cells": [
  {
   "cell_type": "markdown",
   "metadata": {},
   "source": [
    "# <center>CALCULADORA</center>"
   ]
  },
  {
   "cell_type": "code",
   "execution_count": 1,
   "metadata": {},
   "outputs": [
    {
     "data": {
      "text/plain": [
       "'Debe ingresar dos valores como minimo'"
      ]
     },
     "execution_count": 1,
     "metadata": {},
     "output_type": "execute_result"
    }
   ],
   "source": [
    "def calculadora(*args, **kwargs):\n",
    "    operacion = kwargs.get('operacion', 'suma')\n",
    "    \n",
    "    if len(args) < 2:\n",
    "        return 'Debe ingresar dos valores como minimo'\n",
    "\n",
    "    val1 = args[0]\n",
    "    val2 = args[1]\n",
    "    \n",
    "    if operacion == 'suma':\n",
    "        return sum(args)\n",
    "    elif operacion == 'resta':\n",
    "        return val1 - val2\n",
    "    elif operacion == 'division':\n",
    "        return val1 / val2\n",
    "    elif operacion == 'multiplicacion':\n",
    "        return val1 * val2\n",
    "    else:\n",
    "        return 'Operador no identificado'\n",
    "\n",
    "calculadora(5, operacion='division')"
   ]
  },
  {
   "cell_type": "code",
   "execution_count": 2,
   "metadata": {},
   "outputs": [
    {
     "data": {
      "text/plain": [
       "17"
      ]
     },
     "execution_count": 2,
     "metadata": {},
     "output_type": "execute_result"
    }
   ],
   "source": [
    "calculadora(14, 3, operacion='suma')"
   ]
  },
  {
   "cell_type": "code",
   "execution_count": 3,
   "metadata": {},
   "outputs": [
    {
     "data": {
      "text/plain": [
       "'Operador no identificado'"
      ]
     },
     "execution_count": 3,
     "metadata": {},
     "output_type": "execute_result"
    }
   ],
   "source": [
    "calculadora(14, 3, operacion='loqueesea')"
   ]
  },
  {
   "cell_type": "code",
   "execution_count": 6,
   "metadata": {},
   "outputs": [
    {
     "data": {
      "text/plain": [
       "13"
      ]
     },
     "execution_count": 6,
     "metadata": {},
     "output_type": "execute_result"
    }
   ],
   "source": [
    "# DICCIONARIO COMO CONDICIONAL\n",
    "\n",
    "def suma(x, y):\n",
    "    return x + y\n",
    "\n",
    "dicc_calc = {\n",
    "    'suma': suma,\n",
    "    'resta': lambda x, y: x -y,\n",
    "    'division': lambda x, y: x / y,\n",
    "    'multiplicacion': lambda x, y: x * y\n",
    "}\n",
    "\n",
    "\n",
    "def calc(val1, val2, operacion='suma'):\n",
    "    \"\"\"\n",
    "    Descripcion de mi funcion, que bonito esta quedando\n",
    "    =)\n",
    "    \"\"\"\n",
    "    return dicc_calc.get(\n",
    "        operacion, lambda x,y: 'Operador no reconocido'\n",
    "    )(val1, val2)\n",
    "\n",
    "calc(6, 7)"
   ]
  },
  {
   "cell_type": "code",
   "execution_count": 7,
   "metadata": {},
   "outputs": [
    {
     "data": {
      "text/plain": [
       "'Operador no reconocido'"
      ]
     },
     "execution_count": 7,
     "metadata": {},
     "output_type": "execute_result"
    }
   ],
   "source": [
    "calc(6, 7, 'sumaaaaaaaaaaaaaaaa')"
   ]
  },
  {
   "cell_type": "code",
   "execution_count": 8,
   "metadata": {},
   "outputs": [
    {
     "name": "stdout",
     "output_type": "stream",
     "text": [
      "Help on function calc in module __main__:\n",
      "\n",
      "calc(val1, val2, operacion='suma')\n",
      "    Descripcion de mi funcion, que bonito esta quedando\n",
      "    =)\n",
      "\n"
     ]
    }
   ],
   "source": [
    "help(calc)"
   ]
  },
  {
   "cell_type": "code",
   "execution_count": null,
   "metadata": {},
   "outputs": [],
   "source": []
  }
 ],
 "metadata": {
  "kernelspec": {
   "display_name": "Python 3",
   "language": "python",
   "name": "python3"
  },
  "language_info": {
   "codemirror_mode": {
    "name": "ipython",
    "version": 3
   },
   "file_extension": ".py",
   "mimetype": "text/x-python",
   "name": "python",
   "nbconvert_exporter": "python",
   "pygments_lexer": "ipython3",
   "version": "3.6.5"
  }
 },
 "nbformat": 4,
 "nbformat_minor": 2
}
