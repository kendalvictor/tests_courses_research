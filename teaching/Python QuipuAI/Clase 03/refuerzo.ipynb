{
 "cells": [
  {
   "cell_type": "markdown",
   "metadata": {},
   "source": [
    "## Crear un funcion donde muestre si un numero es mayor a otro"
   ]
  },
  {
   "cell_type": "code",
   "execution_count": 1,
   "metadata": {},
   "outputs": [
    {
     "data": {
      "text/plain": [
       "'el segundo es mayor'"
      ]
     },
     "execution_count": 1,
     "metadata": {},
     "output_type": "execute_result"
    }
   ],
   "source": [
    "def compare_number(a, b):\n",
    "    if a > b:\n",
    "        return 'el primer numero es mayor'\n",
    "    elif a == b:\n",
    "        return 'ambos son iguales'\n",
    "    elif a < b:\n",
    "        return 'el segundo es mayor'\n",
    "    else:\n",
    "        return 'caso imposible'\n",
    "\n",
    "compare_number(2, 3)"
   ]
  },
  {
   "cell_type": "code",
   "execution_count": 2,
   "metadata": {},
   "outputs": [
    {
     "data": {
      "text/plain": [
       "'el primer numero es mayor'"
      ]
     },
     "execution_count": 2,
     "metadata": {},
     "output_type": "execute_result"
    }
   ],
   "source": [
    "compare_number(7, 3)"
   ]
  },
  {
   "cell_type": "code",
   "execution_count": 3,
   "metadata": {},
   "outputs": [
    {
     "data": {
      "text/plain": [
       "'ambos son iguales'"
      ]
     },
     "execution_count": 3,
     "metadata": {},
     "output_type": "execute_result"
    }
   ],
   "source": [
    "compare_number(8, 8)"
   ]
  },
  {
   "cell_type": "code",
   "execution_count": 6,
   "metadata": {},
   "outputs": [
    {
     "name": "stdout",
     "output_type": "stream",
     "text": [
      "Error en ingreso\n"
     ]
    }
   ],
   "source": [
    "def compare_number(a, b):\n",
    "    try:\n",
    "        if a > b:\n",
    "            return a\n",
    "        elif a == b:\n",
    "            return a\n",
    "        elif a < b:\n",
    "            return b\n",
    "        else:\n",
    "            return None\n",
    "    except Exception as e:\n",
    "        print(\"Error en ingreso\")\n",
    "\n",
    "compare_number(2, '3')"
   ]
  },
  {
   "cell_type": "code",
   "execution_count": 7,
   "metadata": {},
   "outputs": [
    {
     "data": {
      "text/plain": [
       "9"
      ]
     },
     "execution_count": 7,
     "metadata": {},
     "output_type": "execute_result"
    }
   ],
   "source": [
    "compare_number(2, 9)"
   ]
  },
  {
   "cell_type": "code",
   "execution_count": null,
   "metadata": {},
   "outputs": [],
   "source": []
  },
  {
   "cell_type": "markdown",
   "metadata": {},
   "source": [
    "## UNA FUNCION QUE RECIBA UNA LISTA Y ME DEVUELVA \n",
    "## SUS VALORES PARES (SÒLO TIPO DE DATO NUMÈRICO)\n",
    "## LOS VALORES RESULTANTES DIVIDOS ENTRE DOS Y UNICOS"
   ]
  },
  {
   "cell_type": "code",
   "execution_count": 52,
   "metadata": {},
   "outputs": [],
   "source": [
    "def par_detect(my_lista):\n",
    "    new_lista = set()\n",
    "    \n",
    "    for element in my_lista:\n",
    "        if isinstance(element, int) and element % 2 == 0:\n",
    "            new_lista.add(element // 2)\n",
    "            \n",
    "    return list(new_lista)"
   ]
  },
  {
   "cell_type": "code",
   "execution_count": 53,
   "metadata": {},
   "outputs": [
    {
     "data": {
      "text/plain": [
       "[2, 3, 4, 5, 6]"
      ]
     },
     "execution_count": 53,
     "metadata": {},
     "output_type": "execute_result"
    }
   ],
   "source": [
    "par_detect([4, 5, 7, '8', 9, 11, 6, 10, 11, 12, 12, 4, 8])"
   ]
  },
  {
   "cell_type": "code",
   "execution_count": 55,
   "metadata": {},
   "outputs": [],
   "source": [
    "is_par_lambda = lambda x: isinstance(x, int) and x % 2 == 0\n",
    "\n",
    "def detect_par(my_lista):\n",
    "    return list({\n",
    "        x // 2 for x in my_lista  if is_par_lambda(x)\n",
    "        })"
   ]
  },
  {
   "cell_type": "code",
   "execution_count": 56,
   "metadata": {},
   "outputs": [
    {
     "data": {
      "text/plain": [
       "[2, 4]"
      ]
     },
     "execution_count": 56,
     "metadata": {},
     "output_type": "execute_result"
    }
   ],
   "source": [
    "detect_par([4, 5, 7, 8, 9, 11])"
   ]
  },
  {
   "cell_type": "code",
   "execution_count": 58,
   "metadata": {},
   "outputs": [
    {
     "data": {
      "text/plain": [
       "[2, 3, 4, 5, 6]"
      ]
     },
     "execution_count": 58,
     "metadata": {},
     "output_type": "execute_result"
    }
   ],
   "source": [
    "detect_par([4, 5, 7, '8', 9, 11, 6, 10, 11, 12, 12, 4, 8])"
   ]
  },
  {
   "cell_type": "code",
   "execution_count": 67,
   "metadata": {},
   "outputs": [],
   "source": [
    "def detect_par_fix(*args):\n",
    "    print(type(args), args)\n",
    "    return list({\n",
    "        x // 2 for x in args  if is_par_lambda(x)\n",
    "        })"
   ]
  },
  {
   "cell_type": "code",
   "execution_count": 69,
   "metadata": {},
   "outputs": [
    {
     "name": "stdout",
     "output_type": "stream",
     "text": [
      "<class 'tuple'> ([4, 5, 7, '8', 9, 11, 6, 10, 11, 12, 12, 4, 8], [4, 5, '7', '2', 4, 8])\n"
     ]
    },
    {
     "data": {
      "text/plain": [
       "[]"
      ]
     },
     "execution_count": 69,
     "metadata": {},
     "output_type": "execute_result"
    }
   ],
   "source": [
    "detect_par_fix([4, 5, 7, '8', 9, 11, 6, 10, 11, 12, 12, 4, 8], [4, 5, '7', '2', 4, 8])"
   ]
  },
  {
   "cell_type": "code",
   "execution_count": null,
   "metadata": {},
   "outputs": [],
   "source": []
  },
  {
   "cell_type": "code",
   "execution_count": null,
   "metadata": {},
   "outputs": [],
   "source": []
  },
  {
   "cell_type": "code",
   "execution_count": null,
   "metadata": {},
   "outputs": [],
   "source": []
  },
  {
   "cell_type": "code",
   "execution_count": null,
   "metadata": {},
   "outputs": [],
   "source": []
  },
  {
   "cell_type": "code",
   "execution_count": null,
   "metadata": {},
   "outputs": [],
   "source": []
  },
  {
   "cell_type": "code",
   "execution_count": null,
   "metadata": {},
   "outputs": [],
   "source": []
  },
  {
   "cell_type": "code",
   "execution_count": null,
   "metadata": {},
   "outputs": [],
   "source": []
  },
  {
   "cell_type": "code",
   "execution_count": null,
   "metadata": {},
   "outputs": [],
   "source": []
  }
 ],
 "metadata": {
  "kernelspec": {
   "display_name": "Python 3",
   "language": "python",
   "name": "python3"
  },
  "language_info": {
   "codemirror_mode": {
    "name": "ipython",
    "version": 3
   },
   "file_extension": ".py",
   "mimetype": "text/x-python",
   "name": "python",
   "nbconvert_exporter": "python",
   "pygments_lexer": "ipython3",
   "version": "3.7.4"
  }
 },
 "nbformat": 4,
 "nbformat_minor": 4
}
