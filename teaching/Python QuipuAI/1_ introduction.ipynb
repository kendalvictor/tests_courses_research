{
 "cells": [
  {
   "cell_type": "markdown",
   "metadata": {},
   "source": [
    "<center>\n",
    "<img src='http://docs.python.org.ar/tutorial/img/python-3-logo.png'>\n",
    "    </center>"
   ]
  },
  {
   "cell_type": "markdown",
   "metadata": {},
   "source": [
    "Python es un lenguaje de programación interpretado cuya filosofía hace hincapié en una sintaxis que favorezca un código legible. Se trata de un lenguaje de programación multiparadigma, ya que soporta orientación a objetos, programación imperativa y, en menor medida, programación funcional. \n",
    "\n",
    "##### Fuente https://es.wikipedia.org/wiki/Python"
   ]
  },
  {
   "cell_type": "markdown",
   "metadata": {},
   "source": [
    "### CARACTERISTICAS:"
   ]
  },
  {
   "cell_type": "markdown",
   "metadata": {},
   "source": [
    "* INTERPRETADO\n",
    "* TIPADO DINAMICO    (mi_variable = 'Buenas Tardes')\n",
    "* MULTIPLATAFORMA\n",
    "* PROPOSITO GENREAL\n",
    "* EMBEDING\n",
    "* ORIENTADO A OBJETOS\n",
    "* COMUNIDAD\n",
    "* FILOSOFIA"
   ]
  },
  {
   "cell_type": "code",
   "execution_count": 7,
   "metadata": {},
   "outputs": [],
   "source": [
    "import this"
   ]
  },
  {
   "cell_type": "markdown",
   "metadata": {},
   "source": [
    "##### . Hermoso es mejor que feo.\n",
    "##### . Explícito es mejor que implícito.\n",
    "##### . Simple es mejor que complejo.\n",
    "##### . Complejo es mejor que complicado.\n",
    "##### . Plano es mejor que anidado.\n",
    "##### . Escaso es mejor que denso.\n",
    "##### . La legibilidad cuenta.\n",
    "##### . Los casos especiales no son lo suficientemente especiales como para romper las reglas.\n",
    "##### . Aunque la practicidad supera la pureza.\n",
    "##### . Los errores nunca deben pasar en silencio.\n",
    "##### . A menos que sea silenciado explícitamente.\n",
    "##### . Ante la ambigüedad, rechaza la tentación de adivinar.\n",
    "##### . Debe haber una, y preferiblemente solo una, forma obvia de hacerlo.\n",
    "##### . Aunque esa manera puede no ser obvia al principio a menos que seas holandés.\n",
    "##### . Ahora es mejor que nunca.\n",
    "##### . Aunque nunca es mejor que * ahora * ahora.\n",
    "##### . Si la implementación es difícil de explicar, es una mala idea.\n",
    "##### . Si la implementación es fácil de explicar, puede ser una buena idea.\n",
    "##### . Los espacios de nombres son una gran idea, ¡hagamos más de eso!"
   ]
  },
  {
   "cell_type": "markdown",
   "metadata": {},
   "source": [
    "### PEP 8  https://www.python.org/dev/peps/pep-0008/"
   ]
  },
  {
   "cell_type": "markdown",
   "metadata": {},
   "source": [
    "## 1- TIPOS DE DATOS"
   ]
  },
  {
   "cell_type": "markdown",
   "metadata": {},
   "source": [
    "Primero comenzamos con el tipo mas usado: "
   ]
  },
  {
   "cell_type": "markdown",
   "metadata": {},
   "source": [
    "# 1.1 STRING"
   ]
  },
  {
   "cell_type": "code",
   "execution_count": 8,
   "metadata": {},
   "outputs": [],
   "source": [
    "my_first_var = 'yo quiero a mi mamita'\n",
    "my_second_var = \"yo quiero a mi mamita\""
   ]
  },
  {
   "cell_type": "code",
   "execution_count": 9,
   "metadata": {},
   "outputs": [
    {
     "data": {
      "text/plain": [
       "True"
      ]
     },
     "execution_count": 9,
     "metadata": {},
     "output_type": "execute_result"
    }
   ],
   "source": [
    "my_second_var == my_first_var"
   ]
  },
  {
   "cell_type": "markdown",
   "metadata": {},
   "source": [
    "#### ¿ PORQUÉ ?"
   ]
  },
  {
   "cell_type": "code",
   "execution_count": 10,
   "metadata": {},
   "outputs": [
    {
     "name": "stdout",
     "output_type": "stream",
     "text": [
      "Mi libro favorito \"El principito\"\n",
      "La mejor serie 'STRANGER THINGS'\n"
     ]
    }
   ],
   "source": [
    "# Para poder usar estos signos con facilidad en cualquier \n",
    "msge = 'Mi libro favorito \"El principito\"'\n",
    "other_msge = \"La mejor serie 'STRANGER THINGS'\"\n",
    "\n",
    "print(msge)\n",
    "print(other_msge)"
   ]
  },
  {
   "cell_type": "code",
   "execution_count": 11,
   "metadata": {},
   "outputs": [],
   "source": [
    "letter_simulate = \"\"\"\n",
    "    {0} eres una persona especial para mí.\n",
    "    Fué ya hace {1} años, un {2} el dìa en el que todo cambió.\n",
    "    =)\n",
    "    \n",
    "    Atte, {0}\n",
    "\"\"\""
   ]
  },
  {
   "cell_type": "code",
   "execution_count": 12,
   "metadata": {},
   "outputs": [
    {
     "name": "stdout",
     "output_type": "stream",
     "text": [
      "\n",
      "    Marle eres una persona especial para mí.\n",
      "    Fué ya hace 6 años, un 3 de Julio el dìa en el que todo cambió.\n",
      "    =)\n",
      "    \n",
      "    Atte, Marle\n",
      "\n"
     ]
    }
   ],
   "source": [
    "print(\n",
    "    letter_simulate.format('Marle', 6, '3 de Julio')\n",
    ")"
   ]
  },
  {
   "cell_type": "code",
   "execution_count": 13,
   "metadata": {},
   "outputs": [
    {
     "name": "stdout",
     "output_type": "stream",
     "text": [
      "\n",
      "    André eres una persona especial para mí.\n",
      "    Fué ya hace 6 años, un 6 de Febrero el dìa en el que todo cambió.\n",
      "    =)\n",
      "    \n",
      "    Atte, André\n",
      "\n"
     ]
    }
   ],
   "source": [
    "print(\n",
    "    letter_simulate.format('André', 6, '6 de Febrero')\n",
    ")"
   ]
  },
  {
   "cell_type": "markdown",
   "metadata": {},
   "source": [
    "### MULTIPLICACION DE UN NUMERO ENTERO CON UN STRING"
   ]
  },
  {
   "cell_type": "code",
   "execution_count": 14,
   "metadata": {},
   "outputs": [
    {
     "name": "stdout",
     "output_type": "stream",
     "text": [
      "====\n",
      "****\n",
      "****\n",
      "****\n"
     ]
    }
   ],
   "source": [
    "print(\"=\"*4)\n",
    "print(\"*\"*4)\n",
    "print(\"*\"*4)\n",
    "print(\"*\"*4)"
   ]
  },
  {
   "cell_type": "code",
   "execution_count": 15,
   "metadata": {},
   "outputs": [
    {
     "name": "stdout",
     "output_type": "stream",
     "text": [
      "*\n",
      "**\n",
      "***\n",
      "****\n"
     ]
    }
   ],
   "source": [
    "print(\"*\"*1)\n",
    "print(\"*\"*2)\n",
    "print(\"*\"*3)\n",
    "print(\"*\"*4)"
   ]
  },
  {
   "cell_type": "markdown",
   "metadata": {},
   "source": [
    "## ATRIBUTOS"
   ]
  },
  {
   "cell_type": "code",
   "execution_count": 16,
   "metadata": {},
   "outputs": [
    {
     "data": {
      "text/plain": [
       "\"Lo mejor serie 'STRANGER THINGS'\""
      ]
     },
     "execution_count": 16,
     "metadata": {},
     "output_type": "execute_result"
    }
   ],
   "source": [
    "other_msge.replace('a', 'o')"
   ]
  },
  {
   "cell_type": "code",
   "execution_count": 17,
   "metadata": {},
   "outputs": [
    {
     "data": {
      "text/plain": [
       "\"LA MEJOR SERIE 'STRANGER THINGS'\""
      ]
     },
     "execution_count": 17,
     "metadata": {},
     "output_type": "execute_result"
    }
   ],
   "source": [
    "other_msge.upper()"
   ]
  },
  {
   "cell_type": "code",
   "execution_count": 18,
   "metadata": {},
   "outputs": [
    {
     "data": {
      "text/plain": [
       "\"la mejor serie 'stranger things'\""
      ]
     },
     "execution_count": 18,
     "metadata": {},
     "output_type": "execute_result"
    }
   ],
   "source": [
    "other_msge.lower()"
   ]
  },
  {
   "cell_type": "markdown",
   "metadata": {},
   "source": [
    "# SLICING"
   ]
  },
  {
   "cell_type": "code",
   "execution_count": 19,
   "metadata": {},
   "outputs": [
    {
     "data": {
      "text/plain": [
       "'L'"
      ]
     },
     "execution_count": 19,
     "metadata": {},
     "output_type": "execute_result"
    }
   ],
   "source": [
    "other_msge[0]"
   ]
  },
  {
   "cell_type": "code",
   "execution_count": 20,
   "metadata": {},
   "outputs": [
    {
     "data": {
      "text/plain": [
       "\"'\""
      ]
     },
     "execution_count": 20,
     "metadata": {},
     "output_type": "execute_result"
    }
   ],
   "source": [
    "other_msge[-1]"
   ]
  },
  {
   "cell_type": "code",
   "execution_count": 21,
   "metadata": {},
   "outputs": [
    {
     "data": {
      "text/plain": [
       "'a me'"
      ]
     },
     "execution_count": 21,
     "metadata": {},
     "output_type": "execute_result"
    }
   ],
   "source": [
    "other_msge[1:5]"
   ]
  },
  {
   "cell_type": "code",
   "execution_count": 22,
   "metadata": {},
   "outputs": [
    {
     "data": {
      "text/plain": [
       "'HING'"
      ]
     },
     "execution_count": 22,
     "metadata": {},
     "output_type": "execute_result"
    }
   ],
   "source": [
    "other_msge[-6:-2]"
   ]
  },
  {
   "cell_type": "code",
   "execution_count": 23,
   "metadata": {},
   "outputs": [
    {
     "data": {
      "text/plain": [
       "\"GS'\""
      ]
     },
     "execution_count": 23,
     "metadata": {},
     "output_type": "execute_result"
    }
   ],
   "source": [
    "other_msge[-3:]"
   ]
  },
  {
   "cell_type": "code",
   "execution_count": 24,
   "metadata": {},
   "outputs": [
    {
     "data": {
      "text/plain": [
       "'GS'"
      ]
     },
     "execution_count": 24,
     "metadata": {},
     "output_type": "execute_result"
    }
   ],
   "source": [
    "other_msge[-3:-1]"
   ]
  },
  {
   "cell_type": "code",
   "execution_count": 25,
   "metadata": {},
   "outputs": [
    {
     "data": {
      "text/plain": [
       "'PUEDO CONCATENAR USANDO SIGNO DE SUMA 5'"
      ]
     },
     "execution_count": 25,
     "metadata": {},
     "output_type": "execute_result"
    }
   ],
   "source": [
    "# concatenacion\n",
    "'PUEDO CONCATENAR ' + 'USANDO SIGNO DE SUMA ' + str(5)"
   ]
  },
  {
   "cell_type": "markdown",
   "metadata": {},
   "source": [
    "# NUMEROS"
   ]
  },
  {
   "cell_type": "code",
   "execution_count": 26,
   "metadata": {},
   "outputs": [
    {
     "name": "stdout",
     "output_type": "stream",
     "text": [
      "9\n",
      "9\n",
      "9\n",
      "9.11111111111111\n",
      "9\n",
      "9\n",
      "9.0\n",
      "1\n"
     ]
    }
   ],
   "source": [
    "# NUMBER\n",
    "import math\n",
    "from math import sqrt\n",
    "\n",
    "# SUMA \n",
    "print(4 + 5)\n",
    "\n",
    "# RESTA\n",
    "print(12 - 3)\n",
    "\n",
    "#MULTIPLICAION\n",
    "print( 3 * 3)\n",
    "\n",
    "# DIVISION\n",
    "print(82 / 9)\n",
    "\n",
    "# DIVISION ENTERA\n",
    "print(81 // 9)\n",
    "\n",
    "# potencia\n",
    "print( 3 **2)\n",
    "\n",
    "# RAIZ\n",
    "print(math.sqrt(81))\n",
    "\n",
    "# RESIDUO\n",
    "print(7 % 2)"
   ]
  },
  {
   "cell_type": "markdown",
   "metadata": {},
   "source": [
    "# LISTAS Y TUPLAS"
   ]
  },
  {
   "cell_type": "code",
   "execution_count": 53,
   "metadata": {},
   "outputs": [
    {
     "data": {
      "text/plain": [
       "[1, 3, 45, 67, 'n', 'vrughugth', 'hola']"
      ]
     },
     "execution_count": 53,
     "metadata": {},
     "output_type": "execute_result"
    }
   ],
   "source": [
    "mylista = [1, 3, 45, 67, 'n', 'vrughugth']    # MUTABLE\n",
    " \n",
    "mytupla = (6, 7, 8, 9, 'gtgrtgrt', 'hola')    # INMUTABLE\n",
    "\n",
    "mylista.append('hola')\n",
    "mylista"
   ]
  },
  {
   "cell_type": "code",
   "execution_count": 54,
   "metadata": {},
   "outputs": [
    {
     "data": {
      "text/plain": [
       "(1, 6, 'hola', 'hola')"
      ]
     },
     "execution_count": 54,
     "metadata": {},
     "output_type": "execute_result"
    }
   ],
   "source": [
    "mylista[0], mytupla[0], mylista[-1], mytupla[-1]"
   ]
  },
  {
   "cell_type": "code",
   "execution_count": 55,
   "metadata": {},
   "outputs": [
    {
     "data": {
      "text/plain": [
       "([1, 3, 45, 67, 'n', 'vrughugth', 'hola'],\n",
       " [45, 67, 'n', 'vrughugth'],\n",
       " (6, 7, 8),\n",
       " (9, 'gtgrtgrt', 'hola'))"
      ]
     },
     "execution_count": 55,
     "metadata": {},
     "output_type": "execute_result"
    }
   ],
   "source": [
    "mylista[:100], mylista[2:-1], mytupla[:3], mytupla[-3:]"
   ]
  },
  {
   "cell_type": "code",
   "execution_count": 56,
   "metadata": {},
   "outputs": [
    {
     "name": "stdout",
     "output_type": "stream",
     "text": [
      "[1, 3, 45, 67, 'n', 'vrughugth', 0]\n",
      "[1, 3, 45, 67, 'n', 'vrughugth', 0]\n"
     ]
    }
   ],
   "source": [
    "mylista3 = [1, 3, 45, 67, 'n', 'vrughugth']\n",
    "other = mylista3\n",
    "other.append(0)\n",
    "\n",
    "print(other)\n",
    "print(mylista3)"
   ]
  },
  {
   "cell_type": "code",
   "execution_count": 57,
   "metadata": {},
   "outputs": [
    {
     "name": "stdout",
     "output_type": "stream",
     "text": [
      "[1, 3, 45, 67, 'n', 'vrughugth']\n",
      "[1, 3, 45, 67, 'n', 'vrughugth', 0]\n"
     ]
    }
   ],
   "source": [
    "mylista2 = [1, 3, 45, 67, 'n', 'vrughugth']\n",
    "copia = mylista2.copy()\n",
    "copia.append(0)\n",
    "\n",
    "print(mylista2)\n",
    "print(copia)"
   ]
  },
  {
   "cell_type": "code",
   "execution_count": 58,
   "metadata": {},
   "outputs": [
    {
     "name": "stdout",
     "output_type": "stream",
     "text": [
      "(6, 7, 8, 9, 'gtgrtgrt', 'hola')\n"
     ]
    }
   ],
   "source": [
    "copia_tupla = mytupla\n",
    "print(copia_tupla)"
   ]
  },
  {
   "cell_type": "code",
   "execution_count": 60,
   "metadata": {},
   "outputs": [
    {
     "name": "stdout",
     "output_type": "stream",
     "text": [
      "(6, 7, 8, 9, 'gtgrtgrt', 'hola')\n",
      "////////////////////\n",
      "[1, 3, 45, 67, 'n', 'vrughugth', 'hola', 3, 5, 87, 6666]\n",
      "(6, 7, 8, 9, 'gtgrtgrt', 'hola', 333, 777)\n"
     ]
    }
   ],
   "source": [
    "copia_tupla = mytupla[:]\n",
    "print(copia_tupla)\n",
    "\n",
    "# CONCATENAR\n",
    "# el signo '+' toma dos elemntos y forma uno nuevo juntando los dos\n",
    "\n",
    "print('/'*20)\n",
    "print(mylista + [3,5,87,6666])\n",
    "print(mytupla + (333, 777))"
   ]
  },
  {
   "cell_type": "code",
   "execution_count": 61,
   "metadata": {},
   "outputs": [
    {
     "name": "stdout",
     "output_type": "stream",
     "text": [
      "[1, 3, 45, 67, 'n', 'vrughugth', 'hola', 1, 3, 'hola']\n"
     ]
    }
   ],
   "source": [
    "# EXTEND recibe una lista y cada elemento lo va agregando a la lista base\n",
    "mylista.extend([1, 3 , 'hola'])\n",
    "print(mylista)"
   ]
  },
  {
   "cell_type": "code",
   "execution_count": 62,
   "metadata": {},
   "outputs": [
    {
     "data": {
      "text/plain": [
       "[1, 3, 45, 67, 'n', 'vrughugth', 'hola', 1, 3, 'hola', [1, 3, 'hola']]"
      ]
     },
     "execution_count": 62,
     "metadata": {},
     "output_type": "execute_result"
    }
   ],
   "source": [
    "# APPEND agrega un elemento a lista base, y ese elemento puede ser cualquier objeto\n",
    "mylista.append([1, 3 , 'hola'])\n",
    "mylista"
   ]
  },
  {
   "cell_type": "code",
   "execution_count": 63,
   "metadata": {},
   "outputs": [
    {
     "data": {
      "text/plain": [
       "[1, 3, 45, 67, 'n', 'vrughugth', 'hola', 1, 3, 'hola']"
      ]
     },
     "execution_count": 63,
     "metadata": {},
     "output_type": "execute_result"
    }
   ],
   "source": [
    "# Quito el ultimo elemento a la lista\n",
    "mylista = mylista[:-1]\n",
    "mylista"
   ]
  },
  {
   "cell_type": "markdown",
   "metadata": {},
   "source": [
    "## CONJUNTOS"
   ]
  },
  {
   "cell_type": "code",
   "execution_count": 64,
   "metadata": {},
   "outputs": [
    {
     "name": "stdout",
     "output_type": "stream",
     "text": [
      "{1, 67, 3, 'vrughugth', 45, 'hola', 'n'}\n",
      "{1, 4, 5, 56, 'hola'}\n"
     ]
    }
   ],
   "source": [
    "# Un conjunto no soporta todos los elementos, solo numeros y texto\n",
    "\n",
    "myset = set(mylista)\n",
    "print(myset)\n",
    "\n",
    "sethola = {'hola', 56, 4 ,5, 1, 1, 56, 4, 5}\n",
    "print(sethola)"
   ]
  },
  {
   "cell_type": "code",
   "execution_count": 65,
   "metadata": {},
   "outputs": [
    {
     "name": "stdout",
     "output_type": "stream",
     "text": [
      ">>>>> interseccion\n",
      "{1, 'hola'} {1, 'hola'}\n"
     ]
    }
   ],
   "source": [
    "print('>'*5, 'interseccion')\n",
    "print(myset.intersection(sethola), myset & sethola)"
   ]
  },
  {
   "cell_type": "code",
   "execution_count": 66,
   "metadata": {},
   "outputs": [
    {
     "name": "stdout",
     "output_type": "stream",
     "text": [
      ">>>>> union\n",
      "{1, 67, 3, 4, 5, 'vrughugth', 45, 56, 'hola', 'n'} {1, 67, 3, 4, 5, 'vrughugth', 45, 56, 'hola', 'n'}\n"
     ]
    }
   ],
   "source": [
    "print('>'*5, 'union')\n",
    "print(myset.union(sethola), myset | sethola )"
   ]
  },
  {
   "cell_type": "code",
   "execution_count": 67,
   "metadata": {},
   "outputs": [
    {
     "name": "stdout",
     "output_type": "stream",
     "text": [
      ">>>>> diferencia de un lado\n",
      "{3, 67, 'vrughugth', 45, 'n'} {3, 67, 'vrughugth', 45, 'n'}\n"
     ]
    }
   ],
   "source": [
    "print('>'*5, 'diferencia de un lado')\n",
    "print(myset.difference(sethola), myset - sethola)"
   ]
  },
  {
   "cell_type": "code",
   "execution_count": 68,
   "metadata": {},
   "outputs": [
    {
     "name": "stdout",
     "output_type": "stream",
     "text": [
      ">>>>> diferencia del otro\n",
      "{56, 4, 5} {56, 4, 5}\n"
     ]
    }
   ],
   "source": [
    "print('>'*5,  'diferencia del otro')\n",
    "print(sethola.difference(myset), sethola - myset)"
   ]
  },
  {
   "cell_type": "markdown",
   "metadata": {},
   "source": [
    "#### AGREGAR SOLO UN ELEMENTO A UN CONUNTO"
   ]
  },
  {
   "cell_type": "code",
   "execution_count": 69,
   "metadata": {},
   "outputs": [
    {
     "name": "stdout",
     "output_type": "stream",
     "text": [
      "////////////////////\n"
     ]
    },
    {
     "data": {
      "text/plain": [
       "{1, 2, 3, 45, 67, 'hola', 'n', 'vrughugth'}"
      ]
     },
     "execution_count": 69,
     "metadata": {},
     "output_type": "execute_result"
    }
   ],
   "source": [
    "print(\"/\"*20)\n",
    "myset.add(2)\n",
    "\n",
    "myset"
   ]
  },
  {
   "cell_type": "markdown",
   "metadata": {},
   "source": [
    "#### AGREGAR MULTIPLES ELEMENTOS A UN CONJUNTO"
   ]
  },
  {
   "cell_type": "code",
   "execution_count": 71,
   "metadata": {},
   "outputs": [
    {
     "data": {
      "text/plain": [
       "{1, 2, 3, 4, 45, 67, 9, 'hola', 'n', 'soynuevo', 'vrughugth'}"
      ]
     },
     "execution_count": 71,
     "metadata": {},
     "output_type": "execute_result"
    }
   ],
   "source": [
    "myset.update([1,2,67, 'soynuevo'], (1, 3, 9, 4), {67, 9, 1, 'hola'})\n",
    "myset"
   ]
  },
  {
   "cell_type": "markdown",
   "metadata": {},
   "source": [
    "## DICCIONARIOS"
   ]
  },
  {
   "cell_type": "markdown",
   "metadata": {},
   "source": [
    "#### la idea           {llave: valor}"
   ]
  },
  {
   "cell_type": "code",
   "execution_count": 72,
   "metadata": {},
   "outputs": [
    {
     "data": {
      "text/plain": [
       "1"
      ]
     },
     "execution_count": 72,
     "metadata": {},
     "output_type": "execute_result"
    }
   ],
   "source": [
    "# En una lista la forma de llamar a cada elemento es por el orden\n",
    "mylista[0]"
   ]
  },
  {
   "cell_type": "code",
   "execution_count": 73,
   "metadata": {},
   "outputs": [
    {
     "name": "stdout",
     "output_type": "stream",
     "text": [
      "1\n"
     ]
    },
    {
     "data": {
      "text/plain": [
       "[1, 2, 3, 4, 5, 6, 6]"
      ]
     },
     "execution_count": 73,
     "metadata": {},
     "output_type": "execute_result"
    }
   ],
   "source": [
    "# El diccionario te da la opcion de llamar a cualquier elemento por un tag que tu desees\n",
    "\n",
    "dicc = {'primer_numero': 1, 'loquesea': [1,2,3,4,5,6,6]}\n",
    "\n",
    "print(dicc['primer_numero'])\n",
    "dicc['loquesea']"
   ]
  },
  {
   "cell_type": "code",
   "execution_count": 82,
   "metadata": {},
   "outputs": [
    {
     "data": {
      "text/plain": [
       "{'damas': ['Naty', 'Raquel'],\n",
       " 'edad_promedio': 23,\n",
       " 'subcaja': {'class': 1, 'teacher': 'Victor'},\n",
       " 'hora': '7pm'}"
      ]
     },
     "execution_count": 82,
     "metadata": {},
     "output_type": "execute_result"
    }
   ],
   "source": [
    "# ORDENANDO EL DICCIONARIO\n",
    "mydict = {\n",
    "    'damas': ['Naty', 'Raquel'],\n",
    "    'edad_promedio': 23,\n",
    "    'subcaja': {\n",
    "        'class': 1,\n",
    "        'teacher': 'Victor'\n",
    "    }\n",
    "}"
   ]
  },
  {
   "cell_type": "markdown",
   "metadata": {},
   "source": [
    "#### AGREGANDO UN ELEMENTO"
   ]
  },
  {
   "cell_type": "code",
   "execution_count": 83,
   "metadata": {},
   "outputs": [
    {
     "data": {
      "text/plain": [
       "{'damas': ['Naty', 'Raquel'],\n",
       " 'edad_promedio': 23,\n",
       " 'subcaja': {'class': 1, 'teacher': 'Victor'},\n",
       " 'hora': '7pm'}"
      ]
     },
     "execution_count": 83,
     "metadata": {},
     "output_type": "execute_result"
    }
   ],
   "source": [
    "mydict['hora'] = '7pm'\n",
    "mydict"
   ]
  },
  {
   "cell_type": "markdown",
   "metadata": {},
   "source": [
    "#### ACTUALIZANDO UN VALOR"
   ]
  },
  {
   "cell_type": "code",
   "execution_count": 84,
   "metadata": {},
   "outputs": [
    {
     "data": {
      "text/plain": [
       "{'damas': ['Naty', 'Raquel'],\n",
       " 'edad_promedio': 23,\n",
       " 'subcaja': {'class': 1, 'teacher': 'Victor'},\n",
       " 'hora': '8pm'}"
      ]
     },
     "execution_count": 84,
     "metadata": {},
     "output_type": "execute_result"
    }
   ],
   "source": [
    "mydict['hora'] = '8pm'\n",
    "mydict"
   ]
  },
  {
   "cell_type": "code",
   "execution_count": 85,
   "metadata": {},
   "outputs": [
    {
     "data": {
      "text/plain": [
       "False"
      ]
     },
     "execution_count": 85,
     "metadata": {},
     "output_type": "execute_result"
    }
   ],
   "source": [
    "'hrjtgtrgjktr' in mydict"
   ]
  },
  {
   "cell_type": "code",
   "execution_count": 86,
   "metadata": {},
   "outputs": [
    {
     "ename": "KeyError",
     "evalue": "'hrjtgtrgjktr'",
     "output_type": "error",
     "traceback": [
      "\u001b[0;31m---------------------------------------------------------------------------\u001b[0m",
      "\u001b[0;31mKeyError\u001b[0m                                  Traceback (most recent call last)",
      "\u001b[0;32m<ipython-input-86-d72a9abe1426>\u001b[0m in \u001b[0;36m<module>\u001b[0;34m\u001b[0m\n\u001b[0;32m----> 1\u001b[0;31m \u001b[0mmydict\u001b[0m\u001b[0;34m[\u001b[0m\u001b[0;34m'hrjtgtrgjktr'\u001b[0m\u001b[0;34m]\u001b[0m\u001b[0;34m\u001b[0m\u001b[0m\n\u001b[0m",
      "\u001b[0;31mKeyError\u001b[0m: 'hrjtgtrgjktr'"
     ]
    }
   ],
   "source": [
    "mydict['hrjtgtrgjktr']"
   ]
  },
  {
   "cell_type": "markdown",
   "metadata": {},
   "source": [
    "## IN"
   ]
  },
  {
   "cell_type": "code",
   "execution_count": 87,
   "metadata": {},
   "outputs": [
    {
     "name": "stdout",
     "output_type": "stream",
     "text": [
      "True\n",
      "True\n",
      "True\n"
     ]
    }
   ],
   "source": [
    "print('a' in 'abc')\n",
    "print(1 in mylista)\n",
    "print('hora' in mydict)"
   ]
  },
  {
   "cell_type": "markdown",
   "metadata": {},
   "source": [
    "#### CONTROLANDO LA BUSQUEDA VALORES"
   ]
  },
  {
   "cell_type": "code",
   "execution_count": 88,
   "metadata": {},
   "outputs": [
    {
     "data": {
      "text/plain": [
       "'8pm'"
      ]
     },
     "execution_count": 88,
     "metadata": {},
     "output_type": "execute_result"
    }
   ],
   "source": [
    "mydict.get('hora', '-')"
   ]
  },
  {
   "cell_type": "markdown",
   "metadata": {},
   "source": [
    "#### RECORRIENDO EL DICCIONARIO"
   ]
  },
  {
   "cell_type": "code",
   "execution_count": 81,
   "metadata": {},
   "outputs": [
    {
     "name": "stdout",
     "output_type": "stream",
     "text": [
      "['Naty', 'Raquel']\n",
      "Naty\n",
      "True\n",
      "{'class': 1, 'teacher': 'Victor', 'cualquiera': 'cualquiera'}\n"
     ]
    }
   ],
   "source": [
    "print(mydict['damas'])\n",
    "print(mydict['damas'][0])\n",
    "print('Naty' in mydict['damas'])\n",
    "\n",
    "\n",
    "mydict['subcaja']['cualquiera'] = 'cualquiera'\n",
    "print(mydict['subcaja'])\n"
   ]
  },
  {
   "cell_type": "code",
   "execution_count": null,
   "metadata": {},
   "outputs": [],
   "source": []
  },
  {
   "cell_type": "code",
   "execution_count": null,
   "metadata": {},
   "outputs": [],
   "source": []
  }
 ],
 "metadata": {
  "kernelspec": {
   "display_name": "Python 3",
   "language": "python",
   "name": "python3"
  },
  "language_info": {
   "codemirror_mode": {
    "name": "ipython",
    "version": 3
   },
   "file_extension": ".py",
   "mimetype": "text/x-python",
   "name": "python",
   "nbconvert_exporter": "python",
   "pygments_lexer": "ipython3",
   "version": "3.6.5"
  }
 },
 "nbformat": 4,
 "nbformat_minor": 2
}
