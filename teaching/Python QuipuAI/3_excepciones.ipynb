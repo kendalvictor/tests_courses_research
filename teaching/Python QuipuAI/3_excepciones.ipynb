{
 "cells": [
  {
   "cell_type": "markdown",
   "metadata": {},
   "source": [
    "# <center> EXCEPCIONES </center>"
   ]
  },
  {
   "cell_type": "markdown",
   "metadata": {},
   "source": [
    "<center>\n",
    "    <img src='https://www.cein.eu/wp-content/uploads/2018/07/question-e1531124770844.jpg' width=200>\n",
    "</center>"
   ]
  },
  {
   "cell_type": "code",
   "execution_count": 2,
   "metadata": {},
   "outputs": [
    {
     "ename": "ValueError",
     "evalue": "invalid literal for int() with base 10: 'frefefre'",
     "output_type": "error",
     "traceback": [
      "\u001b[0;31m---------------------------------------------------------------------------\u001b[0m",
      "\u001b[0;31mValueError\u001b[0m                                Traceback (most recent call last)",
      "\u001b[0;32m<ipython-input-2-79064f007e70>\u001b[0m in \u001b[0;36m<module>\u001b[0;34m\u001b[0m\n\u001b[0;32m----> 1\u001b[0;31m \u001b[0mint\u001b[0m\u001b[0;34m(\u001b[0m\u001b[0;34m'frefefre'\u001b[0m\u001b[0;34m)\u001b[0m\u001b[0;34m\u001b[0m\u001b[0;34m\u001b[0m\u001b[0m\n\u001b[0m",
      "\u001b[0;31mValueError\u001b[0m: invalid literal for int() with base 10: 'frefefre'"
     ]
    }
   ],
   "source": [
    "int('frefefre')"
   ]
  },
  {
   "cell_type": "code",
   "execution_count": 3,
   "metadata": {},
   "outputs": [
    {
     "name": "stdout",
     "output_type": "stream",
     "text": [
      "invalid literal for int() with base 10: 'vfdvfd'\n"
     ]
    }
   ],
   "source": [
    "try:\n",
    "    int('vfdvfd')\n",
    "except Exception as e:\n",
    "    # otra logica\n",
    "    print(str(e))"
   ]
  },
  {
   "cell_type": "code",
   "execution_count": 4,
   "metadata": {},
   "outputs": [
    {
     "name": "stdout",
     "output_type": "stream",
     "text": [
      "invalid literal for int() with base 10: 'vfdvfd'\n"
     ]
    }
   ],
   "source": [
    "try:\n",
    "    int('vfdvfd')\n",
    "except ValueError as ve:\n",
    "    print(str(ve))\n",
    "except Exception as ex:\n",
    "    print(\"Error desconocido\", str(ex))"
   ]
  },
  {
   "cell_type": "code",
   "execution_count": 5,
   "metadata": {},
   "outputs": [],
   "source": [
    "my_variables = '1'"
   ]
  },
  {
   "cell_type": "code",
   "execution_count": 6,
   "metadata": {},
   "outputs": [
    {
     "ename": "NameError",
     "evalue": "name 'variable_no_declarada' is not defined",
     "output_type": "error",
     "traceback": [
      "\u001b[0;31m---------------------------------------------------------------------------\u001b[0m",
      "\u001b[0;31mNameError\u001b[0m                                 Traceback (most recent call last)",
      "\u001b[0;32m<ipython-input-6-b693b7d054d9>\u001b[0m in \u001b[0;36m<module>\u001b[0;34m\u001b[0m\n\u001b[0;32m----> 1\u001b[0;31m \u001b[0mint\u001b[0m\u001b[0;34m(\u001b[0m\u001b[0mvariable_no_declarada\u001b[0m\u001b[0;34m)\u001b[0m\u001b[0;34m\u001b[0m\u001b[0;34m\u001b[0m\u001b[0m\n\u001b[0m",
      "\u001b[0;31mNameError\u001b[0m: name 'variable_no_declarada' is not defined"
     ]
    }
   ],
   "source": [
    "int(variable_no_declarada)"
   ]
  },
  {
   "cell_type": "code",
   "execution_count": 15,
   "metadata": {},
   "outputs": [
    {
     "name": "stdout",
     "output_type": "stream",
     "text": [
      "Error desconocido\n"
     ]
    }
   ],
   "source": [
    "try:\n",
    "    int(variable_no_declarada)\n",
    "except ValueError as ve:\n",
    "    print(str(ve))\n",
    "except Exception as ex:\n",
    "    print(\"Error desconocido\")"
   ]
  },
  {
   "cell_type": "code",
   "execution_count": 7,
   "metadata": {},
   "outputs": [
    {
     "name": "stdout",
     "output_type": "stream",
     "text": [
      "Error de nombre de variable:  name 'variable_no_declarada' is not defined\n"
     ]
    }
   ],
   "source": [
    "try:\n",
    "    int(variable_no_declarada)\n",
    "except ValueError as ve:\n",
    "    print(\"Error de valor: \", str(ve))\n",
    "except NameError as ne:\n",
    "    print(\"Error de nombre de variable: \", str(ne))\n",
    "except Exception as ex:\n",
    "    print(\"Error desconocido\")"
   ]
  },
  {
   "cell_type": "code",
   "execution_count": 8,
   "metadata": {},
   "outputs": [
    {
     "name": "stdout",
     "output_type": "stream",
     "text": [
      "NO HUBO ERROR\n"
     ]
    }
   ],
   "source": [
    "try:\n",
    "    int('6')\n",
    "except ValueError as ve:\n",
    "    print(\"Error de valor: \", str(ve))\n",
    "except NameError as ne:\n",
    "    print(\"Error de nombre de variable: \", str(ne))\n",
    "except Exception as ex:\n",
    "    print(\"Error desconocido\")\n",
    "else:\n",
    "    print(\"NO HUBO ERROR\")"
   ]
  },
  {
   "cell_type": "code",
   "execution_count": null,
   "metadata": {},
   "outputs": [],
   "source": []
  }
 ],
 "metadata": {
  "kernelspec": {
   "display_name": "Python 3",
   "language": "python",
   "name": "python3"
  },
  "language_info": {
   "codemirror_mode": {
    "name": "ipython",
    "version": 3
   },
   "file_extension": ".py",
   "mimetype": "text/x-python",
   "name": "python",
   "nbconvert_exporter": "python",
   "pygments_lexer": "ipython3",
   "version": "3.7.4"
  }
 },
 "nbformat": 4,
 "nbformat_minor": 4
}
