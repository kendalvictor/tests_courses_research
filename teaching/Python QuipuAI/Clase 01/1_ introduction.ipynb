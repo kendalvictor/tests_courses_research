{
 "cells": [
  {
   "cell_type": "markdown",
   "metadata": {},
   "source": [
    "<center>\n",
    "<img src='http://docs.python.org.ar/tutorial/img/python-3-logo.png'>\n",
    "    </center>"
   ]
  },
  {
   "cell_type": "markdown",
   "metadata": {},
   "source": [
    "Python es un lenguaje de programación interpretado cuya filosofía hace hincapié en una sintaxis que favorezca un código legible. Se trata de un lenguaje de programación multiparadigma, ya que soporta orientación a objetos, programación imperativa y, en menor medida, programación funcional. \n",
    "\n",
    "##### Fuente https://es.wikipedia.org/wiki/Python"
   ]
  },
  {
   "cell_type": "markdown",
   "metadata": {},
   "source": [
    "### CARACTERISTICAS:"
   ]
  },
  {
   "cell_type": "markdown",
   "metadata": {},
   "source": [
    "* INTERPRETADO\n",
    "* TIPADO DINAMICO    (mi_variable = 'Buenas Tardes')\n",
    "* MULTIPLATAFORMA\n",
    "* PROPOSITO GENREAL\n",
    "* EMBEDING\n",
    "* ORIENTADO A OBJETOS\n",
    "* COMUNIDAD\n",
    "* FILOSOFIA"
   ]
  },
  {
   "cell_type": "code",
   "execution_count": 7,
   "metadata": {},
   "outputs": [],
   "source": [
    "import this"
   ]
  },
  {
   "cell_type": "markdown",
   "metadata": {},
   "source": [
    "##### . Hermoso es mejor que feo.\n",
    "##### . Explícito es mejor que implícito.\n",
    "##### . Simple es mejor que complejo.\n",
    "##### . Complejo es mejor que complicado.\n",
    "##### . Plano es mejor que anidado.\n",
    "##### . Escaso es mejor que denso.\n",
    "##### . La legibilidad cuenta.\n",
    "##### . Los casos especiales no son lo suficientemente especiales como para romper las reglas.\n",
    "##### . Aunque la practicidad supera la pureza.\n",
    "##### . Los errores nunca deben pasar en silencio.\n",
    "##### . A menos que sea silenciado explícitamente.\n",
    "##### . Ante la ambigüedad, rechaza la tentación de adivinar.\n",
    "##### . Debe haber una, y preferiblemente solo una, forma obvia de hacerlo.\n",
    "##### . Aunque esa manera puede no ser obvia al principio a menos que seas holandés.\n",
    "##### . Ahora es mejor que nunca.\n",
    "##### . Aunque nunca es mejor que * ahora * ahora.\n",
    "##### . Si la implementación es difícil de explicar, es una mala idea.\n",
    "##### . Si la implementación es fácil de explicar, puede ser una buena idea.\n",
    "##### . Los espacios de nombres son una gran idea, ¡hagamos más de eso!"
   ]
  },
  {
   "cell_type": "markdown",
   "metadata": {},
   "source": [
    "### PEP 8  https://www.python.org/dev/peps/pep-0008/"
   ]
  },
  {
   "cell_type": "markdown",
   "metadata": {},
   "source": [
    "## 1- TIPOS DE DATOS"
   ]
  },
  {
   "cell_type": "markdown",
   "metadata": {},
   "source": [
    "Primero comenzamos con el tipo mas usado: "
   ]
  },
  {
   "cell_type": "markdown",
   "metadata": {},
   "source": [
    "# 1.1 STRING"
   ]
  },
  {
   "cell_type": "code",
   "execution_count": 8,
   "metadata": {},
   "outputs": [],
   "source": [
    "my_first_var = 'yo quiero a mi mamita'\n",
    "my_second_var = \"yo quiero a mi mamita\""
   ]
  },
  {
   "cell_type": "code",
   "execution_count": 9,
   "metadata": {},
   "outputs": [
    {
     "data": {
      "text/plain": [
       "True"
      ]
     },
     "execution_count": 9,
     "metadata": {},
     "output_type": "execute_result"
    }
   ],
   "source": [
    "my_second_var == my_first_var"
   ]
  },
  {
   "cell_type": "markdown",
   "metadata": {},
   "source": [
    "#### ¿ PORQUÉ ?"
   ]
  },
  {
   "cell_type": "code",
   "execution_count": 10,
   "metadata": {},
   "outputs": [
    {
     "name": "stdout",
     "output_type": "stream",
     "text": [
      "Mi libro favorito \"El principito\"\n",
      "La mejor serie 'STRANGER THINGS'\n"
     ]
    }
   ],
   "source": [
    "# Para poder usar estos signos con facilidad en cualquier \n",
    "msge = 'Mi libro favorito \"El principito\"'\n",
    "other_msge = \"La mejor serie 'STRANGER THINGS'\"\n",
    "\n",
    "print(msge)\n",
    "print(other_msge)"
   ]
  },
  {
   "cell_type": "code",
   "execution_count": 7,
   "metadata": {},
   "outputs": [],
   "source": [
    "letter_simulate = \"\"\"\n",
    "    {0} eres una persona especial para mí.\n",
    "    Fué ya hace {1} años, un {1} el ìa en el que todo cambió.\n",
    "    =)\n",
    "    \n",
    "    Atte, {2}\n",
    "\"\"\""
   ]
  },
  {
   "cell_type": "code",
   "execution_count": 8,
   "metadata": {},
   "outputs": [
    {
     "name": "stdout",
     "output_type": "stream",
     "text": [
      "\n",
      "    Marle eres una persona especial para mí.\n",
      "    Fué ya hace 6 años, un 6 el ìa en el que todo cambió.\n",
      "    =)\n",
      "    \n",
      "    Atte, Raul\n",
      "\n"
     ]
    }
   ],
   "source": [
    "print(\n",
    "    letter_simulate.format('Marle', 6, 'Raul')\n",
    ")"
   ]
  },
  {
   "cell_type": "code",
   "execution_count": 13,
   "metadata": {},
   "outputs": [
    {
     "name": "stdout",
     "output_type": "stream",
     "text": [
      "\n",
      "    André eres una persona especial para mí.\n",
      "    Fué ya hace 6 años, un 6 de Febrero el dìa en el que todo cambió.\n",
      "    =)\n",
      "    \n",
      "    Atte, André\n",
      "\n"
     ]
    }
   ],
   "source": [
    "print(\n",
    "    letter_simulate.format('André', 6, '6 de Febrero')\n",
    ")"
   ]
  },
  {
   "cell_type": "markdown",
   "metadata": {},
   "source": [
    "### MULTIPLICACION DE UN NUMERO ENTERO CON UN STRING"
   ]
  },
  {
   "cell_type": "code",
   "execution_count": 14,
   "metadata": {},
   "outputs": [
    {
     "name": "stdout",
     "output_type": "stream",
     "text": [
      "====\n",
      "****\n",
      "****\n",
      "****\n"
     ]
    }
   ],
   "source": [
    "print(\"=\"*4)\n",
    "print(\"*\"*4)\n",
    "print(\"*\"*4)\n",
    "print(\"*\"*4)"
   ]
  },
  {
   "cell_type": "code",
   "execution_count": 15,
   "metadata": {},
   "outputs": [
    {
     "name": "stdout",
     "output_type": "stream",
     "text": [
      "*\n",
      "**\n",
      "***\n",
      "****\n"
     ]
    }
   ],
   "source": [
    "print(\"*\"*1)\n",
    "print(\"*\"*2)\n",
    "print(\"*\"*3)\n",
    "print(\"*\"*4)"
   ]
  },
  {
   "cell_type": "markdown",
   "metadata": {},
   "source": [
    "## ATRIBUTOS"
   ]
  },
  {
   "cell_type": "code",
   "execution_count": 11,
   "metadata": {},
   "outputs": [
    {
     "data": {
      "text/plain": [
       "\"La mejor serie 'STRANGER THINGS'\""
      ]
     },
     "execution_count": 11,
     "metadata": {},
     "output_type": "execute_result"
    }
   ],
   "source": [
    "other_msge"
   ]
  },
  {
   "cell_type": "code",
   "execution_count": 12,
   "metadata": {},
   "outputs": [
    {
     "data": {
      "text/plain": [
       "\"Lo mejor serie 'STRANGER THINGS'\""
      ]
     },
     "execution_count": 12,
     "metadata": {},
     "output_type": "execute_result"
    }
   ],
   "source": [
    "other_msge.replace('a', 'o')"
   ]
  },
  {
   "cell_type": "code",
   "execution_count": 13,
   "metadata": {},
   "outputs": [
    {
     "data": {
      "text/plain": [
       "\"LA MEJOR SERIE 'STRANGER THINGS'\""
      ]
     },
     "execution_count": 13,
     "metadata": {},
     "output_type": "execute_result"
    }
   ],
   "source": [
    "other_msge.upper()"
   ]
  },
  {
   "cell_type": "code",
   "execution_count": 14,
   "metadata": {},
   "outputs": [
    {
     "data": {
      "text/plain": [
       "\"la mejor serie 'stranger things'\""
      ]
     },
     "execution_count": 14,
     "metadata": {},
     "output_type": "execute_result"
    }
   ],
   "source": [
    "other_msge.lower()"
   ]
  },
  {
   "cell_type": "markdown",
   "metadata": {},
   "source": [
    "# SLICING"
   ]
  },
  {
   "cell_type": "code",
   "execution_count": 16,
   "metadata": {},
   "outputs": [],
   "source": [
    "other_msge = \"La mejor serie 'STRANGER THINGS'\""
   ]
  },
  {
   "cell_type": "code",
   "execution_count": 19,
   "metadata": {},
   "outputs": [
    {
     "data": {
      "text/plain": [
       "'L'"
      ]
     },
     "execution_count": 19,
     "metadata": {},
     "output_type": "execute_result"
    }
   ],
   "source": [
    "other_msge[0]"
   ]
  },
  {
   "cell_type": "code",
   "execution_count": 20,
   "metadata": {},
   "outputs": [
    {
     "data": {
      "text/plain": [
       "\"'\""
      ]
     },
     "execution_count": 20,
     "metadata": {},
     "output_type": "execute_result"
    }
   ],
   "source": [
    "other_msge[-1]"
   ]
  },
  {
   "cell_type": "code",
   "execution_count": 17,
   "metadata": {},
   "outputs": [
    {
     "data": {
      "text/plain": [
       "'a me'"
      ]
     },
     "execution_count": 17,
     "metadata": {},
     "output_type": "execute_result"
    }
   ],
   "source": [
    "other_msge[1:5]"
   ]
  },
  {
   "cell_type": "code",
   "execution_count": 18,
   "metadata": {},
   "outputs": [
    {
     "data": {
      "text/plain": [
       "\"a mejor serie 'STRANGER THINGS'\""
      ]
     },
     "execution_count": 18,
     "metadata": {},
     "output_type": "execute_result"
    }
   ],
   "source": [
    "other_msge[1:50000000]"
   ]
  },
  {
   "cell_type": "code",
   "execution_count": 22,
   "metadata": {},
   "outputs": [
    {
     "data": {
      "text/plain": [
       "'HING'"
      ]
     },
     "execution_count": 22,
     "metadata": {},
     "output_type": "execute_result"
    }
   ],
   "source": [
    "other_msge[-6:-2]"
   ]
  },
  {
   "cell_type": "code",
   "execution_count": 23,
   "metadata": {},
   "outputs": [
    {
     "data": {
      "text/plain": [
       "\"GS'\""
      ]
     },
     "execution_count": 23,
     "metadata": {},
     "output_type": "execute_result"
    }
   ],
   "source": [
    "other_msge[-3:]"
   ]
  },
  {
   "cell_type": "code",
   "execution_count": 24,
   "metadata": {},
   "outputs": [
    {
     "data": {
      "text/plain": [
       "'GS'"
      ]
     },
     "execution_count": 24,
     "metadata": {},
     "output_type": "execute_result"
    }
   ],
   "source": [
    "other_msge[-3:-1]"
   ]
  },
  {
   "cell_type": "code",
   "execution_count": 19,
   "metadata": {},
   "outputs": [
    {
     "data": {
      "text/plain": [
       "'La me'"
      ]
     },
     "execution_count": 19,
     "metadata": {},
     "output_type": "execute_result"
    }
   ],
   "source": [
    "other_msge[:5]"
   ]
  },
  {
   "cell_type": "code",
   "execution_count": 25,
   "metadata": {},
   "outputs": [
    {
     "data": {
      "text/plain": [
       "'PUEDO CONCATENAR USANDO SIGNO DE SUMA 5'"
      ]
     },
     "execution_count": 25,
     "metadata": {},
     "output_type": "execute_result"
    }
   ],
   "source": [
    "# concatenacion\n",
    "'PUEDO CONCATENAR ' + 'USANDO SIGNO DE SUMA ' + str(5)"
   ]
  },
  {
   "cell_type": "code",
   "execution_count": 20,
   "metadata": {},
   "outputs": [],
   "source": [
    "saludo = 'Hola, '\n",
    "tema = 'como estas ?'\n",
    "despedida = 'que bueno ya me voy'"
   ]
  },
  {
   "cell_type": "markdown",
   "metadata": {},
   "source": [
    "saludo + tema + despedida"
   ]
  },
  {
   "cell_type": "markdown",
   "metadata": {},
   "source": [
    "# NUMEROS\n",
    "#### rirjgtijtr"
   ]
  },
  {
   "cell_type": "code",
   "execution_count": 22,
   "metadata": {},
   "outputs": [
    {
     "name": "stdout",
     "output_type": "stream",
     "text": [
      "9\n",
      "9\n",
      "9\n",
      "9.11111111111111\n",
      "9\n",
      "9\n",
      "9.0\n",
      "1\n"
     ]
    }
   ],
   "source": [
    "# NUMBER\n",
    "import math\n",
    "from math import sqrt\n",
    "\n",
    "# SUMA \n",
    "print(4 + 5)\n",
    "\n",
    "# RESTA\n",
    "print(12 - 3)\n",
    "\n",
    "#MULTIPLICAION\n",
    "print( 3 * 3)\n",
    "\n",
    "# DIVISION\n",
    "print(82 / 9)\n",
    "\n",
    "# DIVISION ENTERA\n",
    "print(81 // 9)\n",
    "\n",
    "# potencia\n",
    "print( 3 **2)\n",
    "\n",
    "# RAIZ\n",
    "print(math.sqrt(81))\n",
    "\n",
    "# RESIDUO\n",
    "print(7 % 2)"
   ]
  },
  {
   "cell_type": "code",
   "execution_count": 23,
   "metadata": {},
   "outputs": [
    {
     "name": "stdout",
     "output_type": "stream",
     "text": [
      "9.11111111111111\n"
     ]
    }
   ],
   "source": [
    "print(82 / 9)"
   ]
  },
  {
   "cell_type": "code",
   "execution_count": null,
   "metadata": {},
   "outputs": [],
   "source": []
  },
  {
   "cell_type": "markdown",
   "metadata": {},
   "source": [
    "# LISTAS Y TUPLAS"
   ]
  },
  {
   "cell_type": "code",
   "execution_count": 25,
   "metadata": {},
   "outputs": [
    {
     "data": {
      "text/plain": [
       "[1, 3, 45, 67, 'n', 'vrughugth', 'hola']"
      ]
     },
     "execution_count": 25,
     "metadata": {},
     "output_type": "execute_result"
    }
   ],
   "source": [
    "mylista = [1, 3, 45, 67, 'n', 'vrughugth']    # MUTABLE\n",
    " \n",
    "mytupla = (6, 7, 8, 9, 'gtgrtgrt', 'hola')    # INMUTABLE\n",
    "\n",
    "mylista.append('hola')\n",
    "mylista"
   ]
  },
  {
   "cell_type": "code",
   "execution_count": 26,
   "metadata": {},
   "outputs": [
    {
     "data": {
      "text/plain": [
       "(1, 6, 'hola', 'hola')"
      ]
     },
     "execution_count": 26,
     "metadata": {},
     "output_type": "execute_result"
    }
   ],
   "source": [
    "mylista[0], mytupla[0], mylista[-1], mytupla[-1]"
   ]
  },
  {
   "cell_type": "code",
   "execution_count": 27,
   "metadata": {},
   "outputs": [
    {
     "data": {
      "text/plain": [
       "([1, 3, 45, 67, 'n', 'vrughugth', 'hola'],\n",
       " [45, 67, 'n', 'vrughugth'],\n",
       " (6, 7, 8),\n",
       " (9, 'gtgrtgrt', 'hola'))"
      ]
     },
     "execution_count": 27,
     "metadata": {},
     "output_type": "execute_result"
    }
   ],
   "source": [
    "mylista[:100000000], mylista[2:-1], mytupla[:3], mytupla[-3:]"
   ]
  },
  {
   "cell_type": "markdown",
   "metadata": {},
   "source": [
    "## EJEMPLODE DE DATOS MUTSBLES"
   ]
  },
  {
   "cell_type": "code",
   "execution_count": 56,
   "metadata": {},
   "outputs": [
    {
     "name": "stdout",
     "output_type": "stream",
     "text": [
      "[1, 3, 45, 67, 'n', 'vrughugth', 0]\n",
      "[1, 3, 45, 67, 'n', 'vrughugth', 0]\n"
     ]
    }
   ],
   "source": [
    "mylista3 = [1, 3, 45, 67, 'n', 'vrughugth']\n",
    "other = mylista3\n",
    "\n",
    "other.append(0)\n",
    "\n",
    "print(other)\n",
    "print(mylista3)"
   ]
  },
  {
   "cell_type": "code",
   "execution_count": 10,
   "metadata": {},
   "outputs": [
    {
     "name": "stdout",
     "output_type": "stream",
     "text": [
      "[1, 3, 45, 67, 'n', 'vrughugth']\n",
      "[1, 3, 45, 67, 'n', 'vrughugth', 0]\n"
     ]
    }
   ],
   "source": [
    "mylista2 = [1, 3, 45, 67, 'n', 'vrughugth']\n",
    "copia = mylista2.copy()\n",
    "copia.append(0)\n",
    "\n",
    "print(mylista2)\n",
    "print(copia)"
   ]
  },
  {
   "cell_type": "code",
   "execution_count": 58,
   "metadata": {},
   "outputs": [
    {
     "name": "stdout",
     "output_type": "stream",
     "text": [
      "(6, 7, 8, 9, 'gtgrtgrt', 'hola')\n"
     ]
    }
   ],
   "source": [
    "copia_tupla = mytupla\n",
    "print(copia_tupla)"
   ]
  },
  {
   "cell_type": "code",
   "execution_count": 60,
   "metadata": {},
   "outputs": [
    {
     "name": "stdout",
     "output_type": "stream",
     "text": [
      "(6, 7, 8, 9, 'gtgrtgrt', 'hola')\n",
      "////////////////////\n",
      "[1, 3, 45, 67, 'n', 'vrughugth', 'hola', 3, 5, 87, 6666]\n",
      "(6, 7, 8, 9, 'gtgrtgrt', 'hola', 333, 777)\n"
     ]
    }
   ],
   "source": [
    "copia_tupla = mytupla[:]\n",
    "print(copia_tupla)\n",
    "\n",
    "# CONCATENAR\n",
    "# el signo '+' toma dos elemntos y forma uno nuevo juntando los dos\n",
    "\n",
    "print('/'*20)\n",
    "print(mylista + [3,5,87,6666])\n",
    "print(mytupla + (333, 777))"
   ]
  },
  {
   "cell_type": "code",
   "execution_count": 28,
   "metadata": {},
   "outputs": [
    {
     "data": {
      "text/plain": [
       "[1, 3, 45, 67, 'n', 'vrughugth', 'hola']"
      ]
     },
     "execution_count": 28,
     "metadata": {},
     "output_type": "execute_result"
    }
   ],
   "source": [
    "mylista"
   ]
  },
  {
   "cell_type": "code",
   "execution_count": 29,
   "metadata": {},
   "outputs": [
    {
     "name": "stdout",
     "output_type": "stream",
     "text": [
      "[1, 3, 45, 67, 'n', 'vrughugth', 'hola', 1, 3, 'hola']\n"
     ]
    }
   ],
   "source": [
    "# EXTEND recibe una lista y cada elemento lo va agregando a la lista base\n",
    "mylista.extend([1, 3 , 'hola'])\n",
    "print(mylista)"
   ]
  },
  {
   "cell_type": "code",
   "execution_count": 30,
   "metadata": {},
   "outputs": [
    {
     "data": {
      "text/plain": [
       "[1, 3, 45, 67, 'n', 'vrughugth', 'hola', 1, 3, 'hola', [1, 3, 'hola']]"
      ]
     },
     "execution_count": 30,
     "metadata": {},
     "output_type": "execute_result"
    }
   ],
   "source": [
    "# APPEND agrega un elemento a lista base, y ese elemento puede ser cualquier objeto\n",
    "mylista.append([1, 3 , 'hola'])\n",
    "mylista"
   ]
  },
  {
   "cell_type": "code",
   "execution_count": 32,
   "metadata": {},
   "outputs": [
    {
     "data": {
      "text/plain": [
       "[1, 3, 45, 67, 'n', 'vrughugth', 'hola', 1, 3, 'hola']"
      ]
     },
     "execution_count": 32,
     "metadata": {},
     "output_type": "execute_result"
    }
   ],
   "source": [
    "# Quito el ultimo elemento a la lista\n",
    "mylista = mylista[:-1]\n",
    "mylista"
   ]
  },
  {
   "cell_type": "markdown",
   "metadata": {},
   "source": [
    "## CONJUNTOS"
   ]
  },
  {
   "cell_type": "code",
   "execution_count": 33,
   "metadata": {},
   "outputs": [
    {
     "data": {
      "text/plain": [
       "[1, 3, 45, 67, 'n', 'vrughugth', 'hola', 1, 3, 'hola']"
      ]
     },
     "execution_count": 33,
     "metadata": {},
     "output_type": "execute_result"
    }
   ],
   "source": [
    "mylista"
   ]
  },
  {
   "cell_type": "code",
   "execution_count": 34,
   "metadata": {},
   "outputs": [
    {
     "name": "stdout",
     "output_type": "stream",
     "text": [
      "{1, 67, 3, 'vrughugth', 45, 'n', 'hola'}\n",
      "{1, 4, 5, 'hola', 56}\n"
     ]
    }
   ],
   "source": [
    "# Un conjunto no soporta todos los elementos, solo numeros y texto\n",
    "\n",
    "myset = set(mylista)\n",
    "print(myset)\n",
    "\n",
    "sethola = {'hola', 56, 4 ,5, 1, 1, 56, 4, 5}\n",
    "print(sethola)"
   ]
  },
  {
   "cell_type": "code",
   "execution_count": 35,
   "metadata": {},
   "outputs": [
    {
     "name": "stdout",
     "output_type": "stream",
     "text": [
      ">>>>> interseccion\n",
      "{1, 'hola'}\n",
      "{1, 'hola'}\n"
     ]
    }
   ],
   "source": [
    "print('>'*5, 'interseccion')\n",
    "print(myset.intersection(sethola))\n",
    "print(myset & sethola)"
   ]
  },
  {
   "cell_type": "code",
   "execution_count": 36,
   "metadata": {},
   "outputs": [
    {
     "name": "stdout",
     "output_type": "stream",
     "text": [
      ">>>>> union\n",
      "{1, 67, 3, 'vrughugth', 4, 5, 'n', 45, 'hola', 56}\n",
      "{1, 67, 3, 'vrughugth', 4, 5, 'n', 45, 'hola', 56}\n"
     ]
    }
   ],
   "source": [
    "print('>'*5, 'union')\n",
    "print(myset.union(sethola))\n",
    "print( myset | sethola)"
   ]
  },
  {
   "cell_type": "code",
   "execution_count": 37,
   "metadata": {},
   "outputs": [
    {
     "name": "stdout",
     "output_type": "stream",
     "text": [
      ">>>>> diferencia de un lado\n",
      "{3, 67, 'vrughugth', 45, 'n'} {3, 67, 'vrughugth', 45, 'n'}\n"
     ]
    }
   ],
   "source": [
    "print('>'*5, 'diferencia de un lado')\n",
    "print(myset.difference(sethola), myset - sethola)"
   ]
  },
  {
   "cell_type": "code",
   "execution_count": 38,
   "metadata": {},
   "outputs": [
    {
     "name": "stdout",
     "output_type": "stream",
     "text": [
      ">>>>> diferencia del otro\n",
      "{56, 4, 5} {56, 4, 5}\n"
     ]
    }
   ],
   "source": [
    "print('>'*5,  'diferencia del otro')\n",
    "print(sethola.difference(myset), sethola - myset)"
   ]
  },
  {
   "cell_type": "markdown",
   "metadata": {},
   "source": [
    "#### AGREGAR SOLO UN ELEMENTO A UN CONUNTO"
   ]
  },
  {
   "cell_type": "code",
   "execution_count": 39,
   "metadata": {},
   "outputs": [
    {
     "name": "stdout",
     "output_type": "stream",
     "text": [
      "////////////////////\n"
     ]
    },
    {
     "data": {
      "text/plain": [
       "{1, 2, 3, 45, 67, 'hola', 'n', 'vrughugth'}"
      ]
     },
     "execution_count": 39,
     "metadata": {},
     "output_type": "execute_result"
    }
   ],
   "source": [
    "print(\"/\"*20)\n",
    "myset.add(2)\n",
    "\n",
    "myset"
   ]
  },
  {
   "cell_type": "markdown",
   "metadata": {},
   "source": [
    "#### AGREGAR MULTIPLES ELEMENTOS A UN CONJUNTO"
   ]
  },
  {
   "cell_type": "code",
   "execution_count": 40,
   "metadata": {},
   "outputs": [
    {
     "data": {
      "text/plain": [
       "{1, 2, 3, 4, 45, 67, 9, 'hola', 'n', 'soynuevo', 'vrughugth'}"
      ]
     },
     "execution_count": 40,
     "metadata": {},
     "output_type": "execute_result"
    }
   ],
   "source": [
    "myset.update([1,2,67, 'soynuevo'], (1, 3, 9, 4), {67, 9, 1, 'hola'})\n",
    "myset"
   ]
  },
  {
   "cell_type": "markdown",
   "metadata": {},
   "source": [
    "## DICCIONARIOS"
   ]
  },
  {
   "cell_type": "markdown",
   "metadata": {},
   "source": [
    "#### la idea           {llave: valor}"
   ]
  },
  {
   "cell_type": "code",
   "execution_count": 72,
   "metadata": {},
   "outputs": [
    {
     "data": {
      "text/plain": [
       "1"
      ]
     },
     "execution_count": 72,
     "metadata": {},
     "output_type": "execute_result"
    }
   ],
   "source": [
    "# En una lista la forma de llamar a cada elemento es por el orden\n",
    "mylista[0]"
   ]
  },
  {
   "cell_type": "code",
   "execution_count": 41,
   "metadata": {},
   "outputs": [
    {
     "name": "stdout",
     "output_type": "stream",
     "text": [
      "1\n"
     ]
    },
    {
     "data": {
      "text/plain": [
       "[1, 2, 3, 4, 5, 6, 6]"
      ]
     },
     "execution_count": 41,
     "metadata": {},
     "output_type": "execute_result"
    }
   ],
   "source": [
    "# El diccionario te da la opcion de llamar a cualquier elemento por un tag que tu desees\n",
    "\n",
    "dicc = {\n",
    "    'primer_numero': 1, \n",
    "    6: [1,2,3,4,5,6,6]\n",
    "}\n",
    "\n",
    "print(dicc['primer_numero'])\n",
    "dicc[6]"
   ]
  },
  {
   "cell_type": "code",
   "execution_count": 42,
   "metadata": {},
   "outputs": [],
   "source": [
    "# ORDENANDO EL DICCIONARIO\n",
    "mydict = {\n",
    "    'damas': ['Naty', 'Raquel'],\n",
    "    'edad_promedio': 23,\n",
    "    'subcaja': {\n",
    "        'class': {\n",
    "            'numero': 6\n",
    "        },\n",
    "        'teacher': 'Victor'\n",
    "    }\n",
    "}"
   ]
  },
  {
   "cell_type": "code",
   "execution_count": 53,
   "metadata": {},
   "outputs": [
    {
     "data": {
      "text/plain": [
       "'no hay'"
      ]
     },
     "execution_count": 53,
     "metadata": {},
     "output_type": "execute_result"
    }
   ],
   "source": [
    "mydict.get('subcajas', {}).get('class', 'no hay')"
   ]
  },
  {
   "cell_type": "code",
   "execution_count": null,
   "metadata": {},
   "outputs": [],
   "source": [
    "mydict['subcaja']['class']"
   ]
  },
  {
   "cell_type": "code",
   "execution_count": 45,
   "metadata": {},
   "outputs": [
    {
     "data": {
      "text/plain": [
       "'Raquel'"
      ]
     },
     "execution_count": 45,
     "metadata": {},
     "output_type": "execute_result"
    }
   ],
   "source": [
    "mydict['damas'][-1]"
   ]
  },
  {
   "cell_type": "code",
   "execution_count": 49,
   "metadata": {},
   "outputs": [
    {
     "data": {
      "text/plain": [
       "['Naty', 'Raquel']"
      ]
     },
     "execution_count": 49,
     "metadata": {},
     "output_type": "execute_result"
    }
   ],
   "source": [
    "val = mydict.get('damas', 0)\n",
    "val"
   ]
  },
  {
   "cell_type": "markdown",
   "metadata": {},
   "source": [
    "#### AGREGANDO UN ELEMENTO"
   ]
  },
  {
   "cell_type": "code",
   "execution_count": 58,
   "metadata": {},
   "outputs": [
    {
     "data": {
      "text/plain": [
       "{'damas': ['Naty', 'Raquel'],\n",
       " 'edad_promedio': 23,\n",
       " 'subcaja': {'class': {'numero': 6}, 'teacher': 'Victor'},\n",
       " 'hora': ['5pm']}"
      ]
     },
     "execution_count": 58,
     "metadata": {},
     "output_type": "execute_result"
    }
   ],
   "source": [
    "mydict['hora'] = ['5pm']\n",
    "mydict"
   ]
  },
  {
   "cell_type": "markdown",
   "metadata": {},
   "source": [
    "#### ACTUALIZANDO UN VALOR"
   ]
  },
  {
   "cell_type": "code",
   "execution_count": 59,
   "metadata": {},
   "outputs": [
    {
     "data": {
      "text/plain": [
       "{'damas': ['Naty', 'Raquel'],\n",
       " 'edad_promedio': 23,\n",
       " 'subcaja': {'class': {'numero': 6}, 'teacher': 'Victor'},\n",
       " 'hora': ['5pm', '8pm']}"
      ]
     },
     "execution_count": 59,
     "metadata": {},
     "output_type": "execute_result"
    }
   ],
   "source": [
    "mydict['hora'].append('8pm') \n",
    "mydict"
   ]
  },
  {
   "cell_type": "code",
   "execution_count": 6,
   "metadata": {},
   "outputs": [
    {
     "data": {
      "text/plain": [
       "False"
      ]
     },
     "execution_count": 6,
     "metadata": {},
     "output_type": "execute_result"
    }
   ],
   "source": [
    "'grtgtrgrtgrt' in mydict"
   ]
  },
  {
   "cell_type": "code",
   "execution_count": 7,
   "metadata": {},
   "outputs": [
    {
     "ename": "KeyError",
     "evalue": "'grtgtrgrtgrt'",
     "output_type": "error",
     "traceback": [
      "\u001b[0;31m--------------------------------------------------------------------\u001b[0m",
      "\u001b[0;31mKeyError\u001b[0m                           Traceback (most recent call last)",
      "\u001b[0;32m<ipython-input-7-bc97a739cfa4>\u001b[0m in \u001b[0;36m<module>\u001b[0;34m\u001b[0m\n\u001b[0;32m----> 1\u001b[0;31m \u001b[0mmydict\u001b[0m\u001b[0;34m[\u001b[0m\u001b[0;34m'grtgtrgrtgrt'\u001b[0m\u001b[0;34m]\u001b[0m\u001b[0;34m\u001b[0m\u001b[0m\n\u001b[0m",
      "\u001b[0;31mKeyError\u001b[0m: 'grtgtrgrtgrt'"
     ]
    }
   ],
   "source": [
    "mydict['grtgtrgrtgrt']"
   ]
  },
  {
   "cell_type": "code",
   "execution_count": 61,
   "metadata": {},
   "outputs": [
    {
     "data": {
      "text/plain": [
       "True"
      ]
     },
     "execution_count": 61,
     "metadata": {},
     "output_type": "execute_result"
    }
   ],
   "source": [
    "'damas' in mydict"
   ]
  },
  {
   "cell_type": "markdown",
   "metadata": {},
   "source": [
    "## IN"
   ]
  },
  {
   "cell_type": "code",
   "execution_count": 63,
   "metadata": {},
   "outputs": [
    {
     "data": {
      "text/plain": [
       "True"
      ]
     },
     "execution_count": 63,
     "metadata": {},
     "output_type": "execute_result"
    }
   ],
   "source": [
    "mylist = [1,2,3]\n",
    "1 in mylist"
   ]
  },
  {
   "cell_type": "code",
   "execution_count": 64,
   "metadata": {},
   "outputs": [
    {
     "data": {
      "text/plain": [
       "True"
      ]
     },
     "execution_count": 64,
     "metadata": {},
     "output_type": "execute_result"
    }
   ],
   "source": [
    "'a' in 'frferferferabc'"
   ]
  },
  {
   "cell_type": "code",
   "execution_count": 12,
   "metadata": {},
   "outputs": [
    {
     "name": "stdout",
     "output_type": "stream",
     "text": [
      "True\n"
     ]
    }
   ],
   "source": [
    "print('hora' in mydict)"
   ]
  },
  {
   "cell_type": "markdown",
   "metadata": {},
   "source": [
    "#### CONTROLANDO LA BUSQUEDA VALORES"
   ]
  },
  {
   "cell_type": "code",
   "execution_count": 14,
   "metadata": {},
   "outputs": [
    {
     "data": {
      "text/plain": [
       "'-'"
      ]
     },
     "execution_count": 14,
     "metadata": {},
     "output_type": "execute_result"
    }
   ],
   "source": [
    "mydict.get('gtgtrhythythty', 'not in vocabulary')"
   ]
  },
  {
   "cell_type": "markdown",
   "metadata": {},
   "source": [
    "#### RECORRIENDO EL DICCIONARIO"
   ]
  },
  {
   "cell_type": "code",
   "execution_count": 16,
   "metadata": {},
   "outputs": [],
   "source": [
    "mydict = {\n",
    "    'damas': ['Naty', 'Raquel'],\n",
    "    'edad_promedio': 23,\n",
    "    'subcaja': {\n",
    "        'class': {\n",
    "            'numero': 6\n",
    "        },\n",
    "        'teacher': 'Victor'\n",
    "    }\n",
    "}"
   ]
  },
  {
   "cell_type": "code",
   "execution_count": null,
   "metadata": {},
   "outputs": [],
   "source": [
    "str, int, float, list, tuple, dict"
   ]
  },
  {
   "cell_type": "code",
   "execution_count": 65,
   "metadata": {},
   "outputs": [
    {
     "data": {
      "text/plain": [
       "str"
      ]
     },
     "execution_count": 65,
     "metadata": {},
     "output_type": "execute_result"
    }
   ],
   "source": [
    "type(\n",
    "    mydict['damas'][-1]\n",
    ")"
   ]
  },
  {
   "cell_type": "code",
   "execution_count": 67,
   "metadata": {},
   "outputs": [
    {
     "data": {
      "text/plain": [
       "False"
      ]
     },
     "execution_count": 67,
     "metadata": {},
     "output_type": "execute_result"
    }
   ],
   "source": [
    "isinstance(\n",
    "    mydict['damas'], str\n",
    ")\n"
   ]
  },
  {
   "cell_type": "code",
   "execution_count": 20,
   "metadata": {},
   "outputs": [
    {
     "data": {
      "text/plain": [
       "53"
      ]
     },
     "execution_count": 20,
     "metadata": {},
     "output_type": "execute_result"
    }
   ],
   "source": [
    "mydict['edad_promedio'] + 30"
   ]
  },
  {
   "cell_type": "code",
   "execution_count": 69,
   "metadata": {},
   "outputs": [
    {
     "data": {
      "text/plain": [
       "str"
      ]
     },
     "execution_count": 69,
     "metadata": {},
     "output_type": "execute_result"
    }
   ],
   "source": [
    "type(\n",
    "    mydict['subcaja'].get('classs', '')\n",
    ")"
   ]
  },
  {
   "cell_type": "code",
   "execution_count": 72,
   "metadata": {},
   "outputs": [
    {
     "data": {
      "text/plain": [
       "{'damas': ['Naty', 'Raquel'],\n",
       " 'edad_promedio': 23,\n",
       " 'subcaja': {'class': {'numero': 6}, 'teacher': 'Victor'},\n",
       " 'hora': ['5pm', '8pm']}"
      ]
     },
     "execution_count": 72,
     "metadata": {},
     "output_type": "execute_result"
    }
   ],
   "source": [
    "mydict"
   ]
  },
  {
   "cell_type": "code",
   "execution_count": 73,
   "metadata": {},
   "outputs": [
    {
     "data": {
      "text/plain": [
       "{'edad_promedio': 23,\n",
       " 'subcaja': {'class': {'numero': 6}, 'teacher': 'Victor'},\n",
       " 'hora': ['5pm', '8pm']}"
      ]
     },
     "execution_count": 73,
     "metadata": {},
     "output_type": "execute_result"
    }
   ],
   "source": [
    "del mydict['damas']\n",
    "\n",
    "mydict"
   ]
  },
  {
   "cell_type": "code",
   "execution_count": 70,
   "metadata": {},
   "outputs": [],
   "source": [
    "my_tupla = (3, 4, 5)\n",
    "my_tupla = my_tupla + (333, 777)"
   ]
  },
  {
   "cell_type": "code",
   "execution_count": 71,
   "metadata": {},
   "outputs": [
    {
     "data": {
      "text/plain": [
       "(3, 4, 5, 333, 777)"
      ]
     },
     "execution_count": 71,
     "metadata": {},
     "output_type": "execute_result"
    }
   ],
   "source": [
    "my_tupla"
   ]
  },
  {
   "cell_type": "code",
   "execution_count": null,
   "metadata": {},
   "outputs": [],
   "source": []
  }
 ],
 "metadata": {
  "kernelspec": {
   "display_name": "Python 3",
   "language": "python",
   "name": "python3"
  },
  "language_info": {
   "codemirror_mode": {
    "name": "ipython",
    "version": 3
   },
   "file_extension": ".py",
   "mimetype": "text/x-python",
   "name": "python",
   "nbconvert_exporter": "python",
   "pygments_lexer": "ipython3",
   "version": "3.7.4"
  }
 },
 "nbformat": 4,
 "nbformat_minor": 4
}
