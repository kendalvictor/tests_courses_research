{
 "cells": [
  {
   "cell_type": "markdown",
   "metadata": {
    "colab_type": "text",
    "id": "GCgaXIwbUqdv"
   },
   "source": [
    "# 1. Listas"
   ]
  },
  {
   "cell_type": "code",
   "execution_count": 5,
   "metadata": {
    "colab": {},
    "colab_type": "code",
    "id": "qPDxdtFfUqdx",
    "outputId": "2efd83ad-ffe5-4974-cb6c-9553940054f4"
   },
   "outputs": [
    {
     "data": {
      "text/plain": [
       "[]"
      ]
     },
     "execution_count": 5,
     "metadata": {},
     "output_type": "execute_result"
    }
   ],
   "source": [
    "x = list()\n",
    "x"
   ]
  },
  {
   "cell_type": "code",
   "execution_count": 6,
   "metadata": {},
   "outputs": [
    {
     "data": {
      "text/plain": [
       "[]"
      ]
     },
     "execution_count": 6,
     "metadata": {},
     "output_type": "execute_result"
    }
   ],
   "source": [
    "y = []\n",
    "y"
   ]
  },
  {
   "cell_type": "code",
   "execution_count": 7,
   "metadata": {
    "colab": {},
    "colab_type": "code",
    "id": "huiXXc2DUqd1",
    "outputId": "194ed301-0ad6-4a33-a6d9-01a657c33cb3"
   },
   "outputs": [
    {
     "data": {
      "text/plain": [
       "[1, '2', 'keven', 5.6, 8.5, 'aaa']"
      ]
     },
     "execution_count": 7,
     "metadata": {},
     "output_type": "execute_result"
    }
   ],
   "source": [
    "x = [1,'2','keven',5.6,8.5,\"aaa\"]\n",
    "x"
   ]
  },
  {
   "cell_type": "code",
   "execution_count": 8,
   "metadata": {
    "colab": {},
    "colab_type": "code",
    "id": "mAY2ngl-Uqd4"
   },
   "outputs": [],
   "source": [
    "x.append(\"fullstack\")\n"
   ]
  },
  {
   "cell_type": "code",
   "execution_count": 9,
   "metadata": {
    "colab": {},
    "colab_type": "code",
    "id": "7o82O5PgUqd7",
    "outputId": "8e4f04f1-77cb-4657-a6a0-468289e5bfd6"
   },
   "outputs": [
    {
     "data": {
      "text/plain": [
       "[1, '2', 'keven', 5.6, 8.5, 'aaa', 'fullstack']"
      ]
     },
     "execution_count": 9,
     "metadata": {},
     "output_type": "execute_result"
    }
   ],
   "source": [
    "x"
   ]
  },
  {
   "cell_type": "code",
   "execution_count": null,
   "metadata": {
    "colab": {},
    "colab_type": "code",
    "id": "TxEf0DbZUqd-"
   },
   "outputs": [],
   "source": [
    "# Accediendo a los valores de una lista:"
   ]
  },
  {
   "cell_type": "code",
   "execution_count": 10,
   "metadata": {
    "colab": {},
    "colab_type": "code",
    "id": "mpl8dGzUUqeA",
    "outputId": "0c30297d-ff29-4735-bd5c-a26b2ed34428"
   },
   "outputs": [
    {
     "data": {
      "text/plain": [
       "8.5"
      ]
     },
     "execution_count": 10,
     "metadata": {},
     "output_type": "execute_result"
    }
   ],
   "source": [
    "x[-3]"
   ]
  },
  {
   "cell_type": "code",
   "execution_count": null,
   "metadata": {
    "colab": {},
    "colab_type": "code",
    "id": "HF7suq4uUqeD",
    "outputId": "bb0a6d41-ad78-4603-d3a4-0a20331d8417"
   },
   "outputs": [],
   "source": [
    "x"
   ]
  },
  {
   "cell_type": "markdown",
   "metadata": {
    "colab_type": "text",
    "id": "ngdgJUqlUqeF"
   },
   "source": [
    "x[index_ini:index_fin] "
   ]
  },
  {
   "cell_type": "code",
   "execution_count": 11,
   "metadata": {
    "colab": {},
    "colab_type": "code",
    "id": "JKK-DFRyUqeG",
    "outputId": "b675b61e-c7bc-40d6-c5f9-679097c961d1"
   },
   "outputs": [
    {
     "data": {
      "text/plain": [
       "[5.6, 8.5, 'aaa']"
      ]
     },
     "execution_count": 11,
     "metadata": {},
     "output_type": "execute_result"
    }
   ],
   "source": [
    "x[-4:-1]"
   ]
  },
  {
   "cell_type": "code",
   "execution_count": 12,
   "metadata": {
    "colab": {},
    "colab_type": "code",
    "id": "Ws6ubQVVUqeJ",
    "outputId": "60d9934c-f5bd-439f-8cee-282695fd0d46"
   },
   "outputs": [
    {
     "data": {
      "text/plain": [
       "['2', 'keven', 5.6, 8.5]"
      ]
     },
     "execution_count": 12,
     "metadata": {},
     "output_type": "execute_result"
    }
   ],
   "source": [
    "x[1:-2]"
   ]
  },
  {
   "cell_type": "code",
   "execution_count": 13,
   "metadata": {
    "colab": {},
    "colab_type": "code",
    "id": "yWcSsvFyUqeM",
    "outputId": "78964d7f-24e2-49f3-af84-5915ad4c786b"
   },
   "outputs": [
    {
     "data": {
      "text/plain": [
       "[1, '2', 'keven', 5.6, 8.5]"
      ]
     },
     "execution_count": 13,
     "metadata": {},
     "output_type": "execute_result"
    }
   ],
   "source": [
    "x[:5]"
   ]
  },
  {
   "cell_type": "code",
   "execution_count": 14,
   "metadata": {
    "colab": {},
    "colab_type": "code",
    "id": "UT_HzTe5UqeO",
    "outputId": "041b92ea-739e-489b-af42-0c40021649a6"
   },
   "outputs": [
    {
     "data": {
      "text/plain": [
       "[1, '2', 'keven', 5.6, 8.5, 'aaa', 'fullstack']"
      ]
     },
     "execution_count": 14,
     "metadata": {},
     "output_type": "execute_result"
    }
   ],
   "source": [
    "x[:]"
   ]
  },
  {
   "cell_type": "markdown",
   "metadata": {
    "colab_type": "text",
    "id": "dAJK7I0JUqeQ"
   },
   "source": [
    "Agregar elementos a una lista:"
   ]
  },
  {
   "cell_type": "code",
   "execution_count": 15,
   "metadata": {
    "colab": {},
    "colab_type": "code",
    "id": "yBEpKkg5UqeT",
    "outputId": "609dab2c-f93e-4f7e-d739-f850d3a9c62a"
   },
   "outputs": [
    {
     "data": {
      "text/plain": [
       "[1, '2', 'keven', 5.6, 8.5, 'aaa', 'fullstack', -99]"
      ]
     },
     "execution_count": 15,
     "metadata": {},
     "output_type": "execute_result"
    }
   ],
   "source": [
    "x.append(-99)\n",
    "x"
   ]
  },
  {
   "cell_type": "code",
   "execution_count": 16,
   "metadata": {
    "colab": {},
    "colab_type": "code",
    "id": "7IVnv-d1UqeV",
    "outputId": "7413decd-fffa-4cee-8c82-a2b75c44553a"
   },
   "outputs": [
    {
     "data": {
      "text/plain": [
       "[1, '2', 'keven', 5.6, 8.5, 'aaa', 'fullstack', -99, [9, 99, 999]]"
      ]
     },
     "execution_count": 16,
     "metadata": {},
     "output_type": "execute_result"
    }
   ],
   "source": [
    "x.append([9,99,999])\n",
    "x"
   ]
  },
  {
   "cell_type": "code",
   "execution_count": 17,
   "metadata": {
    "colab": {},
    "colab_type": "code",
    "id": "v6HwIi5WUqeY",
    "outputId": "5ed34a81-0e92-4ed3-b87b-905ce78b6598"
   },
   "outputs": [
    {
     "data": {
      "text/plain": [
       "[1, '2', 'keven', 5.6, 8.5, 'aaa', 'fullstack', -99, [9, 99, 999], 9, 99, 999]"
      ]
     },
     "execution_count": 17,
     "metadata": {},
     "output_type": "execute_result"
    }
   ],
   "source": [
    "x.extend([9,99,999])\n",
    "x"
   ]
  },
  {
   "cell_type": "markdown",
   "metadata": {
    "colab_type": "text",
    "id": "6sR-Ti9kUqeb"
   },
   "source": [
    "Eliminar elementos:"
   ]
  },
  {
   "cell_type": "code",
   "execution_count": 18,
   "metadata": {
    "colab": {},
    "colab_type": "code",
    "id": "NnNBzeyGUqec"
   },
   "outputs": [],
   "source": [
    "# index\n",
    "del x[8]"
   ]
  },
  {
   "cell_type": "code",
   "execution_count": 19,
   "metadata": {
    "colab": {},
    "colab_type": "code",
    "id": "xDUD684dUqef",
    "outputId": "ef27706b-d7a3-437a-dea2-3322be8ca9e5"
   },
   "outputs": [
    {
     "data": {
      "text/plain": [
       "[1, '2', 'keven', 5.6, 8.5, 'aaa', 'fullstack', -99, 9, 99, 999]"
      ]
     },
     "execution_count": 19,
     "metadata": {},
     "output_type": "execute_result"
    }
   ],
   "source": [
    "x"
   ]
  },
  {
   "cell_type": "code",
   "execution_count": 20,
   "metadata": {
    "colab": {},
    "colab_type": "code",
    "id": "_TtVq3LvUqei",
    "outputId": "3b0d9bc8-1ad6-43fd-c6ff-0e8fccb46dab"
   },
   "outputs": [
    {
     "data": {
      "text/plain": [
       "[1, '2', 'keven', 8.5, 'aaa', 'fullstack', -99, 9, 99, 999]"
      ]
     },
     "execution_count": 20,
     "metadata": {},
     "output_type": "execute_result"
    }
   ],
   "source": [
    "# mediante valor:\n",
    "x.remove(5.6)\n",
    "x\n"
   ]
  },
  {
   "cell_type": "code",
   "execution_count": 21,
   "metadata": {
    "colab": {},
    "colab_type": "code",
    "id": "p7ZhMI8NUqel",
    "outputId": "59531a65-06b1-4017-de52-72c3b6b35b7e"
   },
   "outputs": [
    {
     "ename": "ValueError",
     "evalue": "list.remove(x): x not in list",
     "output_type": "error",
     "traceback": [
      "\u001b[0;31m---------------------------------------------------------------------------\u001b[0m",
      "\u001b[0;31mValueError\u001b[0m                                Traceback (most recent call last)",
      "\u001b[0;32m<ipython-input-21-d8490aaaab71>\u001b[0m in \u001b[0;36m<module>\u001b[0;34m\u001b[0m\n\u001b[0;32m----> 1\u001b[0;31m \u001b[0mx\u001b[0m\u001b[0;34m.\u001b[0m\u001b[0mremove\u001b[0m\u001b[0;34m(\u001b[0m\u001b[0;36m5.6\u001b[0m\u001b[0;34m)\u001b[0m\u001b[0;34m\u001b[0m\u001b[0;34m\u001b[0m\u001b[0m\n\u001b[0m\u001b[1;32m      2\u001b[0m \u001b[0mx\u001b[0m\u001b[0;34m\u001b[0m\u001b[0;34m\u001b[0m\u001b[0m\n",
      "\u001b[0;31mValueError\u001b[0m: list.remove(x): x not in list"
     ]
    }
   ],
   "source": [
    "x.remove(5.6)\n",
    "x"
   ]
  },
  {
   "cell_type": "markdown",
   "metadata": {},
   "source": [
    "## Exceptions"
   ]
  },
  {
   "cell_type": "code",
   "execution_count": 25,
   "metadata": {
    "colab": {},
    "colab_type": "code",
    "id": "ZQA1KAKOUqep"
   },
   "outputs": [
    {
     "name": "stdout",
     "output_type": "stream",
     "text": [
      "list.remove(x): x not in list\n"
     ]
    }
   ],
   "source": [
    "try:\n",
    "    x.remove(5.6)\n",
    "except ValueError as ve:\n",
    "    print(str(ve))\n",
    "except:\n",
    "    print(\"fallo\")"
   ]
  },
  {
   "cell_type": "code",
   "execution_count": 26,
   "metadata": {},
   "outputs": [
    {
     "data": {
      "text/plain": [
       "[1, '2', 'keven', 8.5, 'aaa', 'fullstack', -99, 9, 99, 999]"
      ]
     },
     "execution_count": 26,
     "metadata": {},
     "output_type": "execute_result"
    }
   ],
   "source": [
    "x"
   ]
  },
  {
   "cell_type": "code",
   "execution_count": 27,
   "metadata": {
    "colab": {},
    "colab_type": "code",
    "id": "wnU3pxXhUqev",
    "outputId": "6578e944-0b2f-45e9-d723-8c795682c8de"
   },
   "outputs": [
    {
     "name": "stdout",
     "output_type": "stream",
     "text": [
      "[1, '2', 'keven', 8.5, 'aaa', 'fullstack', -99, 9, 99]\n",
      "999\n"
     ]
    }
   ],
   "source": [
    "# eliminar desde el final\n",
    "a = x.pop()\n",
    "print(x)\n",
    "print(a)"
   ]
  },
  {
   "cell_type": "code",
   "execution_count": null,
   "metadata": {
    "colab": {},
    "colab_type": "code",
    "id": "U7zg7ETLUqe2",
    "outputId": "4576aee7-e080-45f9-e25b-dd280c1ea4a8"
   },
   "outputs": [],
   "source": []
  },
  {
   "cell_type": "code",
   "execution_count": null,
   "metadata": {
    "colab": {},
    "colab_type": "code",
    "id": "JI-LeGemUqe6",
    "outputId": "1b2ec976-4e31-43d7-fe45-e72538ceaf1e"
   },
   "outputs": [],
   "source": [
    "help(x)"
   ]
  },
  {
   "cell_type": "code",
   "execution_count": null,
   "metadata": {
    "colab": {},
    "colab_type": "code",
    "id": "Yq3zx9X2Uqe-"
   },
   "outputs": [],
   "source": []
  },
  {
   "cell_type": "code",
   "execution_count": null,
   "metadata": {
    "colab": {},
    "colab_type": "code",
    "id": "4UskEZC0UqfB",
    "outputId": "a0ca26ad-bd81-4c4b-b344-29b4a0a99264"
   },
   "outputs": [],
   "source": [
    "x"
   ]
  },
  {
   "cell_type": "code",
   "execution_count": null,
   "metadata": {
    "colab": {},
    "colab_type": "code",
    "id": "ofntU16FUqfE",
    "outputId": "43e5c737-4795-4e5b-a3d1-bf970df61d96"
   },
   "outputs": [],
   "source": [
    "y = x.copy()\n",
    "y"
   ]
  },
  {
   "cell_type": "code",
   "execution_count": null,
   "metadata": {
    "colab": {},
    "colab_type": "code",
    "id": "wnLjWJO8UqfG",
    "outputId": "3e14f73d-2ccc-4875-81c6-d00d859a8967"
   },
   "outputs": [],
   "source": [
    "del y[0]\n",
    "y"
   ]
  },
  {
   "cell_type": "code",
   "execution_count": null,
   "metadata": {
    "colab": {},
    "colab_type": "code",
    "id": "V3boxFEVUqfI",
    "outputId": "8a4b3582-cedf-4bc1-df01-0548cd5f0062"
   },
   "outputs": [],
   "source": [
    "x"
   ]
  },
  {
   "cell_type": "code",
   "execution_count": null,
   "metadata": {
    "colab": {},
    "colab_type": "code",
    "id": "bm2ArK7uUqfJ"
   },
   "outputs": [],
   "source": []
  },
  {
   "cell_type": "markdown",
   "metadata": {
    "colab_type": "text",
    "id": "tEF3cPE5UqfL"
   },
   "source": [
    "# 6. Tuplas"
   ]
  },
  {
   "cell_type": "code",
   "execution_count": null,
   "metadata": {
    "colab": {},
    "colab_type": "code",
    "id": "oj_EmyDRUqfM",
    "outputId": "26145be2-d9df-48c0-e654-ba0b5256d934"
   },
   "outputs": [],
   "source": [
    "x = tuple()\n",
    "x"
   ]
  },
  {
   "cell_type": "code",
   "execution_count": null,
   "metadata": {
    "colab": {},
    "colab_type": "code",
    "id": "g_gtPHfsUqfO",
    "outputId": "3d3c953e-8e71-4a9d-9787-23ba85e03cb9"
   },
   "outputs": [],
   "source": [
    "type(x)"
   ]
  },
  {
   "cell_type": "code",
   "execution_count": null,
   "metadata": {
    "colab": {},
    "colab_type": "code",
    "id": "2hDxIau_UqfQ",
    "outputId": "30d6f13a-c85b-4413-a6f3-d1cdf3e1bc69"
   },
   "outputs": [],
   "source": [
    "x = tuple([1,2.2,\"tres\", 4.0])\n",
    "x"
   ]
  },
  {
   "cell_type": "code",
   "execution_count": null,
   "metadata": {
    "colab": {},
    "colab_type": "code",
    "id": "13xnba6NUqfS",
    "outputId": "b473c30e-35c1-4916-ff58-2ba755f7295b"
   },
   "outputs": [],
   "source": [
    "x[-1]"
   ]
  },
  {
   "cell_type": "code",
   "execution_count": null,
   "metadata": {
    "colab": {},
    "colab_type": "code",
    "id": "gPfntKYdUqfW",
    "outputId": "f29c0dfa-65ac-46de-a74b-3cffd25a8989"
   },
   "outputs": [],
   "source": [
    "x[2] = \"15\""
   ]
  },
  {
   "cell_type": "code",
   "execution_count": null,
   "metadata": {
    "colab": {},
    "colab_type": "code",
    "id": "1eaAXJdRUqfY",
    "outputId": "a1133503-3302-4b7a-f781-44c6b9a4a1cd"
   },
   "outputs": [],
   "source": [
    "x"
   ]
  },
  {
   "cell_type": "code",
   "execution_count": null,
   "metadata": {
    "colab": {},
    "colab_type": "code",
    "id": "maFWk91eUqfa",
    "outputId": "e30656ae-bf78-4776-9333-c23707dd2060"
   },
   "outputs": [],
   "source": [
    "# Si se pueden concatenar\n",
    "x = x + x\n",
    "x"
   ]
  },
  {
   "cell_type": "markdown",
   "metadata": {
    "colab_type": "text",
    "id": "Uwg_l7ItUqfc"
   },
   "source": [
    "# 3. Rangos"
   ]
  },
  {
   "cell_type": "code",
   "execution_count": null,
   "metadata": {
    "colab": {},
    "colab_type": "code",
    "id": "mt5VvaUHUqfd",
    "outputId": "86d99b8b-7c57-4cd2-c596-8f608fa08640"
   },
   "outputs": [],
   "source": [
    "start = 1\n",
    "stop = 10\n",
    "step = 2\n",
    "range(start,stop,step)"
   ]
  },
  {
   "cell_type": "code",
   "execution_count": null,
   "metadata": {
    "colab": {},
    "colab_type": "code",
    "id": "hdK6Bh5TUqfg",
    "outputId": "8b135a73-f688-4392-ebac-2e909fe1c107"
   },
   "outputs": [],
   "source": [
    "for i in range(0,stop,3):\n",
    "    print(i)"
   ]
  },
  {
   "cell_type": "markdown",
   "metadata": {
    "colab_type": "text",
    "id": "eJ3rb1IhUqfi"
   },
   "source": [
    "# 4. Diccionarios"
   ]
  },
  {
   "cell_type": "code",
   "execution_count": null,
   "metadata": {
    "colab": {},
    "colab_type": "code",
    "id": "5dnaaNehUqfj",
    "outputId": "8b616023-5a16-47a9-89f8-4d4425b5ff62"
   },
   "outputs": [],
   "source": [
    "x = dict()\n",
    "x"
   ]
  },
  {
   "cell_type": "code",
   "execution_count": null,
   "metadata": {
    "colab": {},
    "colab_type": "code",
    "id": "MUZHSXE_Uqfm"
   },
   "outputs": [],
   "source": [
    "x = { 'nombre' : \"keven\",\n",
    "      'sexo' : 1,\n",
    "      'ingresos' : 1000\n",
    "}"
   ]
  },
  {
   "cell_type": "code",
   "execution_count": null,
   "metadata": {
    "colab": {},
    "colab_type": "code",
    "id": "hmmtzzfJUqfo",
    "outputId": "0dab716d-2478-4d34-a8f3-25aca7fc8737"
   },
   "outputs": [],
   "source": [
    "x"
   ]
  },
  {
   "cell_type": "code",
   "execution_count": null,
   "metadata": {
    "colab": {},
    "colab_type": "code",
    "id": "dDVYGypyUqfq",
    "outputId": "3e204cd3-8d4c-466f-b4e0-77d909309f47"
   },
   "outputs": [],
   "source": [
    "x[\"sexo\"]"
   ]
  },
  {
   "cell_type": "code",
   "execution_count": null,
   "metadata": {
    "colab": {},
    "colab_type": "code",
    "id": "8WjBwP6_Uqfr"
   },
   "outputs": [],
   "source": [
    "dicc = {'A': 1,\n",
    "      'B': 1,\n",
    "      'C': 2 }"
   ]
  },
  {
   "cell_type": "code",
   "execution_count": null,
   "metadata": {
    "colab": {},
    "colab_type": "code",
    "id": "GlLf9ZzMUqfu"
   },
   "outputs": [],
   "source": [
    "import pandas as pd"
   ]
  },
  {
   "cell_type": "code",
   "execution_count": null,
   "metadata": {
    "colab": {},
    "colab_type": "code",
    "id": "JszwfowkUqfz",
    "outputId": "d187620b-f7c7-42c3-e205-57f15bd0df30"
   },
   "outputs": [],
   "source": [
    "x = pd.DataFrame(['A','B','A','C','C'], columns = ['clase'])\n",
    "x"
   ]
  },
  {
   "cell_type": "code",
   "execution_count": null,
   "metadata": {
    "colab": {},
    "colab_type": "code",
    "id": "de1p16pCUqf1",
    "outputId": "9c8384b2-4ddb-4fc1-a170-28612a7a77de"
   },
   "outputs": [],
   "source": [
    "x['clase'].map(dicc)"
   ]
  },
  {
   "cell_type": "code",
   "execution_count": null,
   "metadata": {
    "colab": {},
    "colab_type": "code",
    "id": "53Z3wgpFUqf4",
    "outputId": "0aa7ba2e-3361-4b77-e024-b8dc88a700d3"
   },
   "outputs": [],
   "source": [
    "# Ejemplos adicionales\n",
    "dicc_temp = {'M':1 , 'F':0}\n",
    "dicc_temp"
   ]
  },
  {
   "cell_type": "code",
   "execution_count": null,
   "metadata": {
    "colab": {},
    "colab_type": "code",
    "id": "GT75aFIKUqgA"
   },
   "outputs": [],
   "source": []
  },
  {
   "cell_type": "code",
   "execution_count": null,
   "metadata": {
    "colab": {},
    "colab_type": "code",
    "id": "5Uc4bSVOUqgB"
   },
   "outputs": [],
   "source": [
    "# continuando ..\n",
    "x = { 'nombre' : \"keven\",\n",
    "      'sexo' : 1,\n",
    "      'ingresos' : 1000\n",
    "}"
   ]
  },
  {
   "cell_type": "code",
   "execution_count": null,
   "metadata": {
    "colab": {},
    "colab_type": "code",
    "id": "UqEuG1gUUqgD",
    "outputId": "884b38fd-0728-4639-da5f-26896fae0ad5"
   },
   "outputs": [],
   "source": [
    "# Leer los valores\n",
    "x.values()"
   ]
  },
  {
   "cell_type": "code",
   "execution_count": null,
   "metadata": {
    "colab": {},
    "colab_type": "code",
    "id": "u42xtr86UqgF",
    "outputId": "3bd2e40e-541e-44d0-846b-0490e3c5014c"
   },
   "outputs": [],
   "source": [
    "# leer las llaves\n",
    "x.keys()"
   ]
  },
  {
   "cell_type": "code",
   "execution_count": null,
   "metadata": {
    "colab": {},
    "colab_type": "code",
    "id": "F1h2vNONUqgH",
    "outputId": "439db525-ca7a-482c-cd9a-e20ed8461c32"
   },
   "outputs": [],
   "source": [
    "x['nombre'] = \"ronald\"\n",
    "x"
   ]
  },
  {
   "cell_type": "code",
   "execution_count": null,
   "metadata": {
    "colab": {},
    "colab_type": "code",
    "id": "qHy88tfmUqgI"
   },
   "outputs": [],
   "source": []
  },
  {
   "cell_type": "code",
   "execution_count": null,
   "metadata": {
    "colab": {},
    "colab_type": "code",
    "id": "zKWdmpAaUqgL"
   },
   "outputs": [],
   "source": []
  },
  {
   "cell_type": "code",
   "execution_count": null,
   "metadata": {
    "colab": {},
    "colab_type": "code",
    "id": "L7A24stAUqgN"
   },
   "outputs": [],
   "source": []
  },
  {
   "cell_type": "code",
   "execution_count": null,
   "metadata": {
    "colab": {},
    "colab_type": "code",
    "id": "PEKZxJiqUqgP"
   },
   "outputs": [],
   "source": []
  },
  {
   "cell_type": "code",
   "execution_count": null,
   "metadata": {
    "colab": {},
    "colab_type": "code",
    "id": "RwzfNZAfUqgS"
   },
   "outputs": [],
   "source": []
  },
  {
   "cell_type": "code",
   "execution_count": null,
   "metadata": {
    "colab": {},
    "colab_type": "code",
    "id": "Fy4J_e95UqgU"
   },
   "outputs": [],
   "source": []
  },
  {
   "cell_type": "code",
   "execution_count": null,
   "metadata": {
    "colab": {},
    "colab_type": "code",
    "id": "f0Se1zjrUqgW"
   },
   "outputs": [],
   "source": []
  },
  {
   "cell_type": "code",
   "execution_count": null,
   "metadata": {
    "colab": {},
    "colab_type": "code",
    "id": "bQ1SBlr8UqgX"
   },
   "outputs": [],
   "source": []
  }
 ],
 "metadata": {
  "colab": {
   "name": "2_Tipos y Estructuras de Datos.ipynb",
   "provenance": [],
   "version": "0.3.2"
  },
  "kernelspec": {
   "display_name": "Python 3",
   "language": "python",
   "name": "python3"
  },
  "language_info": {
   "codemirror_mode": {
    "name": "ipython",
    "version": 3
   },
   "file_extension": ".py",
   "mimetype": "text/x-python",
   "name": "python",
   "nbconvert_exporter": "python",
   "pygments_lexer": "ipython3",
   "version": "3.7.4"
  }
 },
 "nbformat": 4,
 "nbformat_minor": 4
}
