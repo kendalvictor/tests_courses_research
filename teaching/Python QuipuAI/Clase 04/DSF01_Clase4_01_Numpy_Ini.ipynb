{
 "cells": [
  {
   "cell_type": "markdown",
   "metadata": {
    "colab_type": "text",
    "id": "gR69pFCPFf6P"
   },
   "source": [
    "\n",
    "\n",
    "---\n",
    "\n",
    "# Numpy\n",
    "\n",
    "\n",
    "Forma corta de *Numerical Python*, `numpy` es una librería que proporciona herramientas para trabajar con alto rendimiento sobre arreglos multidimensionales, la razón por la que es tan importante para Data Science con Python es que casi todas las bibliotecas en este campo confían en NumPy como uno de sus principales bloques de construcción.\n",
    "\n",
    "Numpy también es increíblemente rápido, ya que tiene enlaces a bibliotecas C.\n",
    "\n",
    "\n",
    "\n",
    "## Características\n",
    "Dentro de las principales características de `numpy` se encuentran:\n",
    "- Ofrece un poderoso objeto para manipular arreglos multidimensionales: `ndarray`.\n",
    "- Posee herramientas para realizar operaciones matemáticas y lógicas sobre arreglos, operaciones relacionadas con algebra lineal, transformadas de Fourier, entre otras.\n",
    "\n",
    "Para importar los módulos de la librería `numpy`, por convención se utiliza:"
   ]
  },
  {
   "cell_type": "code",
   "execution_count": null,
   "metadata": {
    "colab": {},
    "colab_type": "code",
    "id": "k6w2RoCVFf6R"
   },
   "outputs": [],
   "source": [
    "import numpy as np   # 'np' alias de numpy"
   ]
  },
  {
   "cell_type": "markdown",
   "metadata": {
    "colab_type": "text",
    "id": "b_LBOhM5Ff6W"
   },
   "source": [
    "\n",
    "\n",
    "---\n",
    "## Arrays\n",
    "\n",
    "\n",
    "Las funcionalidades de `numpy` se basan en en el objeto `ndarray`.\n",
    "\n",
    "Un `ndarray`, también conocido por el alias de `array`, es un arreglo N-dimensional con elementos del mismo tipo e indexado por una tupla de enteros positivos.\n",
    "\n",
    "\n",
    "```python\n",
    "a = numpy.array(data, dtype = None, ndmin = 0, ...)\n",
    "```\n",
    "- data: datos de mismo tipo en forma de matriz o una secuencia anidada.\n",
    "- dtype (opcional): tipos de datos deseados en el arreglo. \n",
    "- ndmin: especifica el número mínimo de dimensiones del arreglo resultante."
   ]
  },
  {
   "cell_type": "markdown",
   "metadata": {
    "colab_type": "text",
    "id": "w6VC15loFf6Y"
   },
   "source": [
    "\n",
    "\n",
    "## Creación de Arrays\n",
    "\n",
    "La forma mas facil de crear un arreglo es utilizando el objeto `ndarray`."
   ]
  },
  {
   "cell_type": "code",
   "execution_count": null,
   "metadata": {
    "colab": {},
    "colab_type": "code",
    "id": "MTZOQsePm7XA"
   },
   "outputs": [],
   "source": [
    "array_1d = np.array([1,2,3,4,5])\n",
    "array_1d"
   ]
  },
  {
   "cell_type": "code",
   "execution_count": null,
   "metadata": {
    "colab": {},
    "colab_type": "code",
    "id": "EKqjVY5PFf6Z"
   },
   "outputs": [],
   "source": [
    "array_2d = np.array([[0,1,2,3],[4,6,8,10],[1,3,5,7]])  \n",
    "array_2d"
   ]
  },
  {
   "cell_type": "code",
   "execution_count": null,
   "metadata": {
    "colab": {},
    "colab_type": "code",
    "id": "IS2nqPnhm7XG"
   },
   "outputs": [],
   "source": [
    "array_3d = np.array([[[1,2,3],[11,22,33],[111,222,333]],[[4,5,6],[44,55,66],[444,555,666]]])  \n",
    "array_3d"
   ]
  },
  {
   "cell_type": "markdown",
   "metadata": {
    "colab_type": "text",
    "id": "G-PCjuuNm7XJ"
   },
   "source": [
    "**Desde una lista de Python**\n",
    "\n",
    "Podemos crear una matriz mediante la conversión directa de una lista o lista de listas:"
   ]
  },
  {
   "cell_type": "code",
   "execution_count": null,
   "metadata": {
    "colab": {},
    "colab_type": "code",
    "id": "oWsqfwYUm7XK"
   },
   "outputs": [],
   "source": [
    "my_list = [1,2,3]\n",
    "my_list"
   ]
  },
  {
   "cell_type": "code",
   "execution_count": null,
   "metadata": {
    "colab": {},
    "colab_type": "code",
    "id": "nC2ndY6qm7XO"
   },
   "outputs": [],
   "source": [
    "my_array = np.array(my_list)\n",
    "my_array"
   ]
  },
  {
   "cell_type": "code",
   "execution_count": null,
   "metadata": {
    "colab": {},
    "colab_type": "code",
    "id": "lQl9M1Mfm7XR"
   },
   "outputs": [],
   "source": [
    "my_matrix = [[1,2,3],[4,5,6],[7,8,9]]\n",
    "my_matrix"
   ]
  },
  {
   "cell_type": "code",
   "execution_count": null,
   "metadata": {
    "colab": {},
    "colab_type": "code",
    "id": "_VU82J0Om7XV"
   },
   "outputs": [],
   "source": [
    "np_matrix = np.array(my_matrix)\n",
    "np_matrix"
   ]
  },
  {
   "cell_type": "markdown",
   "metadata": {
    "colab_type": "text",
    "id": "9wVcZm_vm7XY"
   },
   "source": [
    "**Diferencias:**"
   ]
  },
  {
   "cell_type": "code",
   "execution_count": null,
   "metadata": {
    "colab": {},
    "colab_type": "code",
    "id": "Xt7hMtjtm7XZ"
   },
   "outputs": [],
   "source": [
    "my_list+my_list"
   ]
  },
  {
   "cell_type": "code",
   "execution_count": null,
   "metadata": {
    "colab": {},
    "colab_type": "code",
    "id": "hXbWj1v_m7Xd"
   },
   "outputs": [],
   "source": [
    "my_array+my_array"
   ]
  },
  {
   "cell_type": "code",
   "execution_count": null,
   "metadata": {
    "colab": {},
    "colab_type": "code",
    "id": "i2jsMfdym7Xg"
   },
   "outputs": [],
   "source": [
    "help(my_list)"
   ]
  },
  {
   "cell_type": "code",
   "execution_count": null,
   "metadata": {
    "colab": {},
    "colab_type": "code",
    "id": "C9zZw8Q3m7Xk"
   },
   "outputs": [],
   "source": [
    "help(my_array)"
   ]
  },
  {
   "cell_type": "code",
   "execution_count": null,
   "metadata": {
    "colab": {},
    "colab_type": "code",
    "id": "LT-GIIxmm7Xn"
   },
   "outputs": [],
   "source": []
  },
  {
   "cell_type": "markdown",
   "metadata": {
    "colab_type": "text",
    "id": "oESXGRgWm7Xp"
   },
   "source": [
    "## Examinando sus atributos"
   ]
  },
  {
   "cell_type": "markdown",
   "metadata": {
    "colab_type": "text",
    "id": "JeM7YpEcFf6e"
   },
   "source": [
    "\n",
    "\n",
    "Dentro de los principales atributos del objeto `ndarray`, se encuentran:\n",
    "- `ndarray.shape`: tupla con las dimensiones del arreglo. \n",
    "- `ndarray.ndim`: numero de dimensiones del arreglo.\n",
    "- `ndarray.size`: número de elementos del arreglo.\n",
    "- `ndarray.dtype`: tipo de dato de los elementos del arreglo. "
   ]
  },
  {
   "cell_type": "code",
   "execution_count": null,
   "metadata": {
    "colab": {},
    "colab_type": "code",
    "id": "vg7KtjIMm7Xr"
   },
   "outputs": [],
   "source": [
    "a = np.matrix(my_matrix)"
   ]
  },
  {
   "cell_type": "code",
   "execution_count": null,
   "metadata": {
    "colab": {},
    "colab_type": "code",
    "id": "ZjMhz28EFf9Q"
   },
   "outputs": [],
   "source": [
    "a.shape"
   ]
  },
  {
   "cell_type": "code",
   "execution_count": null,
   "metadata": {
    "colab": {},
    "colab_type": "code",
    "id": "ufWRRpIIFf9U"
   },
   "outputs": [],
   "source": [
    "a.ndim"
   ]
  },
  {
   "cell_type": "code",
   "execution_count": null,
   "metadata": {
    "colab": {},
    "colab_type": "code",
    "id": "6F3Aa3HkFf9Y"
   },
   "outputs": [],
   "source": [
    "a.size"
   ]
  },
  {
   "cell_type": "code",
   "execution_count": null,
   "metadata": {
    "colab": {},
    "colab_type": "code",
    "id": "34DK5cvaFf9c"
   },
   "outputs": [],
   "source": [
    "a.dtype"
   ]
  },
  {
   "cell_type": "markdown",
   "metadata": {
    "colab_type": "text",
    "id": "TFaCW7I5m7YD"
   },
   "source": [
    "**Creacion de Arrays pre-definidos**"
   ]
  },
  {
   "cell_type": "markdown",
   "metadata": {
    "colab_type": "text",
    "id": "cP2IHDHiFf9f"
   },
   "source": [
    "\n",
    "\n",
    "Numpy cuenta con funciones especiales para crear arreglos con valores definidos por defecto, por ejemplo:\n",
    "- **zeros**: crea arreglo solamente con 0's.\n",
    "- **ones**: crea arreglo solamente con 1's.\n",
    "- **eye**: crea una matriz identidad de tamaño n.\n",
    "- **empty**: crea un arreglo sin inicializar de forma y dtype especificados.\n",
    "- **full**: crea un arreglo con un valor constante especificado."
   ]
  },
  {
   "cell_type": "code",
   "execution_count": null,
   "metadata": {
    "colab": {},
    "colab_type": "code",
    "id": "9zIimDieFf9g"
   },
   "outputs": [],
   "source": [
    "# Matrix de 0's\n",
    "np.zeros((3,3))"
   ]
  },
  {
   "cell_type": "code",
   "execution_count": null,
   "metadata": {
    "colab": {},
    "colab_type": "code",
    "id": "GDDXHTgIFf9l"
   },
   "outputs": [],
   "source": [
    "# Matrix de 1's\n",
    "np.ones((5,2))"
   ]
  },
  {
   "cell_type": "code",
   "execution_count": null,
   "metadata": {
    "colab": {},
    "colab_type": "code",
    "id": "XfkAHCPRFf9p"
   },
   "outputs": [],
   "source": [
    "# Matrix identidad\n",
    "np.eye(4)"
   ]
  },
  {
   "cell_type": "code",
   "execution_count": null,
   "metadata": {
    "colab": {},
    "colab_type": "code",
    "id": "Dbner40IFf9t"
   },
   "outputs": [],
   "source": [
    "np.empty((2,3), dtype=int)"
   ]
  },
  {
   "cell_type": "markdown",
   "metadata": {
    "colab_type": "text",
    "id": "o2krOanMm7Yg"
   },
   "source": [
    "**arange**\n",
    "\n",
    "Devuelve valores espaciados uniformemente dentro de un intervalo dado."
   ]
  },
  {
   "cell_type": "code",
   "execution_count": null,
   "metadata": {
    "colab": {},
    "colab_type": "code",
    "id": "QAtDXE0Mm7Yi"
   },
   "outputs": [],
   "source": [
    "np.arange(0,10,1)"
   ]
  },
  {
   "cell_type": "code",
   "execution_count": null,
   "metadata": {
    "colab": {},
    "colab_type": "code",
    "id": "uSkkpmoum7Yn"
   },
   "outputs": [],
   "source": [
    "np.arange(0,10,2)"
   ]
  },
  {
   "cell_type": "code",
   "execution_count": null,
   "metadata": {
    "colab": {},
    "colab_type": "code",
    "id": "s8u3aSp0m7Yt"
   },
   "outputs": [],
   "source": []
  },
  {
   "cell_type": "markdown",
   "metadata": {
    "colab_type": "text",
    "id": "kq9iWxW2Ff9w"
   },
   "source": [
    "\n",
    "\n",
    "## Aritmética con Arrays\n",
    "\n",
    "El objeto `ndarray` es importante porque permite realizar cualquier operación entre arreglos sin escribir ningún bucle *for*.\n",
    "\n",
    "Cualquier operación aritmética con arreglos del mismo tamaño aplica una operación elemento a elemento:"
   ]
  },
  {
   "cell_type": "code",
   "execution_count": null,
   "metadata": {
    "colab": {},
    "colab_type": "code",
    "id": "C82nmwu_m7Y0"
   },
   "outputs": [],
   "source": [
    "a = np.array([[1,2,3],\n",
    "              [4,5,6]])  \n",
    "\n",
    "b = np.array([[2,4,6],\n",
    "              [1,3,5]])  \n",
    "\n",
    "c = np.array([[1,2],\n",
    "              [3,4],\n",
    "              [5,6]])"
   ]
  },
  {
   "cell_type": "code",
   "execution_count": null,
   "metadata": {
    "colab": {},
    "colab_type": "code",
    "id": "4RbBfJ8RFf9x"
   },
   "outputs": [],
   "source": [
    "a + a"
   ]
  },
  {
   "cell_type": "code",
   "execution_count": null,
   "metadata": {
    "colab": {},
    "colab_type": "code",
    "id": "Kq_7pwWvFf90"
   },
   "outputs": [],
   "source": [
    "a - b"
   ]
  },
  {
   "cell_type": "markdown",
   "metadata": {
    "colab_type": "text",
    "id": "VtMboX8uFf92"
   },
   "source": [
    "\n",
    "\n",
    "Las operaciones aritméticas con escalares se aplica a cada elemento del arreglo."
   ]
  },
  {
   "cell_type": "code",
   "execution_count": null,
   "metadata": {
    "colab": {},
    "colab_type": "code",
    "id": "GnSuScwJFf93"
   },
   "outputs": [],
   "source": [
    "2*a"
   ]
  },
  {
   "cell_type": "code",
   "execution_count": null,
   "metadata": {
    "colab": {},
    "colab_type": "code",
    "id": "TTz4bldNFf95"
   },
   "outputs": [],
   "source": [
    "1+a"
   ]
  },
  {
   "cell_type": "code",
   "execution_count": null,
   "metadata": {
    "colab": {},
    "colab_type": "code",
    "id": "sakDNv5mm7ZT"
   },
   "outputs": [],
   "source": [
    "a * b"
   ]
  },
  {
   "cell_type": "code",
   "execution_count": null,
   "metadata": {
    "colab": {},
    "colab_type": "code",
    "id": "Vzm2Cx0qm7Zv"
   },
   "outputs": [],
   "source": [
    "# Producto Matricial\n",
    "np.dot(a,b)"
   ]
  },
  {
   "cell_type": "code",
   "execution_count": null,
   "metadata": {
    "colab": {},
    "colab_type": "code",
    "id": "rscHGI6Om7Zx"
   },
   "outputs": [],
   "source": [
    "# Producto Matricial\n",
    "np.dot(a,c)"
   ]
  },
  {
   "cell_type": "code",
   "execution_count": null,
   "metadata": {
    "colab": {},
    "colab_type": "code",
    "id": "iWCSQ72Tm7Z1"
   },
   "outputs": [],
   "source": []
  },
  {
   "cell_type": "markdown",
   "metadata": {
    "colab_type": "text",
    "id": "k4If2MDcFf99"
   },
   "source": [
    "\n",
    "\n",
    "##  Indexing y slicing en Arrays\n",
    "\n",
    "Tecnicas muy similares de *indexing* y *slicing* para acceder a las *listas de Python* son también utilizadas en los *Arrays de Numpy*. Sin embargo, una de las principales diferencias es que los subconjuntos son vistas, es decir, cualquier cambio modifica directamente al array original.\n"
   ]
  },
  {
   "cell_type": "code",
   "execution_count": null,
   "metadata": {
    "colab": {},
    "colab_type": "code",
    "id": "sZCxTam1Ff99"
   },
   "outputs": [],
   "source": [
    "a = np.arange(1,21,2)\n",
    "a"
   ]
  },
  {
   "cell_type": "code",
   "execution_count": null,
   "metadata": {
    "colab": {},
    "colab_type": "code",
    "id": "yVKeFpebm7Z-"
   },
   "outputs": [],
   "source": [
    "a[2:5]"
   ]
  },
  {
   "cell_type": "code",
   "execution_count": null,
   "metadata": {
    "colab": {},
    "colab_type": "code",
    "id": "sZg_pi2Zm7aB"
   },
   "outputs": [],
   "source": [
    "a[:5]"
   ]
  },
  {
   "cell_type": "code",
   "execution_count": null,
   "metadata": {
    "colab": {},
    "colab_type": "code",
    "id": "_yCo-SEWm7aD"
   },
   "outputs": [],
   "source": [
    "a[5:]"
   ]
  },
  {
   "cell_type": "code",
   "execution_count": null,
   "metadata": {
    "colab": {},
    "colab_type": "code",
    "id": "bK67OnZDm7aG"
   },
   "outputs": [],
   "source": [
    "a[[4,6,8]]"
   ]
  },
  {
   "cell_type": "code",
   "execution_count": null,
   "metadata": {
    "colab": {},
    "colab_type": "code",
    "id": "c6ABIM_YFf-B"
   },
   "outputs": [],
   "source": [
    "# Modificar un array\n",
    "a[3:6] = 10\n",
    "a"
   ]
  },
  {
   "cell_type": "code",
   "execution_count": null,
   "metadata": {
    "colab": {},
    "colab_type": "code",
    "id": "MGg578SPFf-F"
   },
   "outputs": [],
   "source": [
    "# El seleccionar una parte del array original, estás apuntando hacia ese subarrays del array original\n",
    "b = a[3:6]\n",
    "print(\"Al inicio:\",b)\n",
    "\n",
    "b[:] = 5\n",
    "print(\"Al final:\",b)"
   ]
  },
  {
   "cell_type": "code",
   "execution_count": null,
   "metadata": {
    "colab": {},
    "colab_type": "code",
    "id": "4ZsbzCLpm7aS"
   },
   "outputs": [],
   "source": [
    "# Ahora, revisemos los valores de \"a\"\n",
    "a"
   ]
  },
  {
   "cell_type": "markdown",
   "metadata": {
    "colab_type": "text",
    "id": "xK3J9HLwFf-J"
   },
   "source": [
    "\n",
    "\n",
    "Si se quiere copiar una parte de un arreglo en lugar de una vista, es necesario copiar explícitamente el arreglo."
   ]
  },
  {
   "cell_type": "code",
   "execution_count": null,
   "metadata": {
    "colab": {},
    "colab_type": "code",
    "id": "NY2ovGMVFf-K"
   },
   "outputs": [],
   "source": [
    "b = a[3:6].copy()"
   ]
  },
  {
   "cell_type": "code",
   "execution_count": null,
   "metadata": {
    "colab": {},
    "colab_type": "code",
    "id": "FHK2dwYYFf-M"
   },
   "outputs": [],
   "source": [
    "b[:2] = 1\n",
    "b"
   ]
  },
  {
   "cell_type": "code",
   "execution_count": null,
   "metadata": {
    "colab": {},
    "colab_type": "code",
    "id": "rRZFpQhFFf-O"
   },
   "outputs": [],
   "source": [
    "a"
   ]
  },
  {
   "cell_type": "markdown",
   "metadata": {
    "colab_type": "text",
    "id": "ZJsKCm1lFf-T"
   },
   "source": [
    "\n",
    "\n",
    "El principo es el mismo para arreglos multidimensionales."
   ]
  },
  {
   "cell_type": "code",
   "execution_count": null,
   "metadata": {
    "colab": {},
    "colab_type": "code",
    "id": "4vicQLXnm7al"
   },
   "outputs": [],
   "source": [
    "a = np.array([[ 0,  1,  2,  3],\n",
    "              [ 4,  6,  8, 10],\n",
    "              [ 1,  3,  5,  7]])\n",
    "a"
   ]
  },
  {
   "cell_type": "code",
   "execution_count": null,
   "metadata": {
    "colab": {},
    "colab_type": "code",
    "id": "zR3IYcg-Ff-Z"
   },
   "outputs": [],
   "source": [
    "a[0:2,:3]"
   ]
  },
  {
   "cell_type": "code",
   "execution_count": null,
   "metadata": {
    "colab": {},
    "colab_type": "code",
    "id": "xlDgQ5Y0m7ar"
   },
   "outputs": [],
   "source": [
    "# Modificar una matrix\n",
    "a[0:2,:3] = -1\n",
    "a"
   ]
  },
  {
   "cell_type": "code",
   "execution_count": null,
   "metadata": {
    "colab": {},
    "colab_type": "code",
    "id": "uepR3veKFf-c"
   },
   "outputs": [],
   "source": []
  },
  {
   "cell_type": "markdown",
   "metadata": {
    "colab_type": "text",
    "id": "1tGv8DeOFf-f"
   },
   "source": [
    "\n",
    "\n",
    "## Funciones universales\n",
    "\n",
    "Las funciones universales son funciones que ejecutan operaciones element-wise sobre los datos en los arreglos.\n",
    "\n",
    "Generalmente, este tipo de funciones se aplican a cada elemento de un arreglo, por ejemplo:"
   ]
  },
  {
   "cell_type": "code",
   "execution_count": null,
   "metadata": {
    "colab": {},
    "colab_type": "code",
    "id": "1Txd8dVzm7av"
   },
   "outputs": [],
   "source": [
    "a = [4,9,16,25]"
   ]
  },
  {
   "cell_type": "code",
   "execution_count": null,
   "metadata": {
    "colab": {},
    "colab_type": "code",
    "id": "48l5X8MbFf-j"
   },
   "outputs": [],
   "source": [
    "b = np.sqrt(a)\n",
    "b"
   ]
  },
  {
   "cell_type": "code",
   "execution_count": null,
   "metadata": {
    "colab": {},
    "colab_type": "code",
    "id": "imFkOHisFf-m"
   },
   "outputs": [],
   "source": [
    "np.exp(a)"
   ]
  },
  {
   "cell_type": "code",
   "execution_count": null,
   "metadata": {
    "colab": {},
    "colab_type": "code",
    "id": "U_zaHZ4Gm7a2"
   },
   "outputs": [],
   "source": [
    "np.log(a)"
   ]
  },
  {
   "cell_type": "markdown",
   "metadata": {
    "colab_type": "text",
    "id": "xzjwY53KFf-q"
   },
   "source": [
    "\n",
    "\n",
    "Por otro lado, hay funciones universales que realizan operaciones con 2 arrays y regresan un array como salida."
   ]
  },
  {
   "cell_type": "code",
   "execution_count": null,
   "metadata": {
    "colab": {},
    "colab_type": "code",
    "id": "ul3TDIjIFf-r"
   },
   "outputs": [],
   "source": [
    "np.add(a,a)"
   ]
  },
  {
   "cell_type": "code",
   "execution_count": null,
   "metadata": {
    "colab": {},
    "colab_type": "code",
    "id": "_ORqA-m_Ff-u"
   },
   "outputs": [],
   "source": [
    "np.multiply(a,a)"
   ]
  },
  {
   "cell_type": "code",
   "execution_count": null,
   "metadata": {
    "colab": {},
    "colab_type": "code",
    "id": "f0ko6xONFf-y"
   },
   "outputs": [],
   "source": [
    "np.power(a,3)"
   ]
  },
  {
   "cell_type": "markdown",
   "metadata": {
    "colab_type": "text",
    "id": "lm64Y4-KFf-2"
   },
   "source": [
    "\n",
    "\n",
    "## Filtros en Arrays\n",
    "\n",
    "Suponga que desea tomar el valor de una matriz `X` cuando el valor correspondiente en una condición es True, y de lo contrario tome el valor de la matriz `Y`. Dentro de *Numpy* hay una función llamada **np.where** que resuelve la situación anterior.\n",
    "\n",
    "```python\n",
    "result = np.where(cond, xarr, yarr)\n",
    "```"
   ]
  },
  {
   "cell_type": "code",
   "execution_count": null,
   "metadata": {
    "colab": {},
    "colab_type": "code",
    "id": "Q-bqVIMFFf-3"
   },
   "outputs": [],
   "source": [
    "xarr = np.array([1.1, 1.2, 1.3, 1.4, 1.5])\n",
    "yarr = np.array([20.1, 20.2, 20.3, 20.4, 20.5])\n",
    "cond = np.array([True, False, True, True, False])"
   ]
  },
  {
   "cell_type": "code",
   "execution_count": null,
   "metadata": {
    "colab": {},
    "colab_type": "code",
    "id": "IXsSg3hdm7bE"
   },
   "outputs": [],
   "source": [
    "print('xarr:', xarr)\n",
    "print('yarr:', yarr)\n",
    "print('cond:', cond)"
   ]
  },
  {
   "cell_type": "code",
   "execution_count": null,
   "metadata": {
    "colab": {},
    "colab_type": "code",
    "id": "RXN41Q-3m7bH"
   },
   "outputs": [],
   "source": [
    "np.where(cond,xarr,yarr)"
   ]
  },
  {
   "cell_type": "code",
   "execution_count": null,
   "metadata": {
    "colab": {},
    "colab_type": "code",
    "id": "xH_TIQarFf-8"
   },
   "outputs": [],
   "source": [
    "np.where(xarr>1.3, 1, 0)"
   ]
  },
  {
   "cell_type": "code",
   "execution_count": null,
   "metadata": {
    "colab": {},
    "colab_type": "code",
    "id": "tWd1VnLkm7bL"
   },
   "outputs": [],
   "source": [
    "np.where(xarr>1.3, 'mayor', 'menor')"
   ]
  },
  {
   "cell_type": "markdown",
   "metadata": {
    "colab_type": "text",
    "id": "vM_AqapRFf--"
   },
   "source": [
    "\n",
    "\n",
    "## Métodos matemáticos y estadísticos\n",
    "\n",
    "Un conjunto de funciones matemáticas que computan estadísticas sobre una matriz completa o sobre los datos a lo largo de un eje son accesibles como métodos de la clase `ndarray`. Las funciones como suma, media y desviación estándar se pueden usar llamando al método de instancia de matriz o usando la función * numpy * de nivel superior."
   ]
  },
  {
   "cell_type": "code",
   "execution_count": null,
   "metadata": {
    "colab": {},
    "colab_type": "code",
    "id": "MRV16QMnFf_A"
   },
   "outputs": [],
   "source": [
    "a = np.arange(12).reshape(4,3)\n",
    "a"
   ]
  },
  {
   "cell_type": "code",
   "execution_count": null,
   "metadata": {
    "colab": {},
    "colab_type": "code",
    "id": "9s-23HkwFf_B"
   },
   "outputs": [],
   "source": [
    "a.mean()"
   ]
  },
  {
   "cell_type": "code",
   "execution_count": null,
   "metadata": {
    "colab": {},
    "colab_type": "code",
    "id": "ITDuALIjFf_C"
   },
   "outputs": [],
   "source": [
    "np.mean(a)"
   ]
  },
  {
   "cell_type": "markdown",
   "metadata": {
    "colab_type": "text",
    "id": "2ATvfgijFf_H"
   },
   "source": [
    "\n",
    "\n",
    "La operación anterior se ha realizado en toda la matriz, pero es posible especificar el eje, como se muestra a continuación:"
   ]
  },
  {
   "cell_type": "code",
   "execution_count": null,
   "metadata": {
    "colab": {},
    "colab_type": "code",
    "id": "BfvOYERdm7bV"
   },
   "outputs": [],
   "source": [
    "a.shape"
   ]
  },
  {
   "cell_type": "code",
   "execution_count": null,
   "metadata": {
    "colab": {},
    "colab_type": "code",
    "id": "yirL40aSFf_K"
   },
   "outputs": [],
   "source": [
    "# axis=0 : indica operar sobre el primer eje\n",
    "a.sum(axis=0)"
   ]
  },
  {
   "cell_type": "code",
   "execution_count": null,
   "metadata": {
    "colab": {},
    "colab_type": "code",
    "id": "gC-oYzQ3Ff_I"
   },
   "outputs": [],
   "source": [
    "# axis=1 : indica operar sobre el segundo eje\n",
    "a.sum(axis=1)"
   ]
  },
  {
   "cell_type": "code",
   "execution_count": null,
   "metadata": {
    "colab": {},
    "colab_type": "code",
    "id": "k1V6H5rzm7ba"
   },
   "outputs": [],
   "source": [
    "a.min(axis=0)"
   ]
  },
  {
   "cell_type": "code",
   "execution_count": null,
   "metadata": {
    "colab": {},
    "colab_type": "code",
    "id": "r8rqSY69Ff_M"
   },
   "outputs": [],
   "source": [
    "a.max(axis=1)"
   ]
  },
  {
   "cell_type": "code",
   "execution_count": null,
   "metadata": {
    "colab": {},
    "colab_type": "code",
    "id": "cLcilF8Em7bd"
   },
   "outputs": [],
   "source": [
    "a.mean() # promedio"
   ]
  },
  {
   "cell_type": "code",
   "execution_count": null,
   "metadata": {
    "colab": {},
    "colab_type": "code",
    "id": "_Hembc0rm7bf"
   },
   "outputs": [],
   "source": [
    "np.median(a) # mediana"
   ]
  },
  {
   "cell_type": "code",
   "execution_count": null,
   "metadata": {
    "colab": {},
    "colab_type": "code",
    "id": "f9ixH0KoFf_O"
   },
   "outputs": [],
   "source": [
    "a.std(0) # Desviacion Estandar"
   ]
  },
  {
   "cell_type": "code",
   "execution_count": null,
   "metadata": {
    "colab": {},
    "colab_type": "code",
    "id": "ge31-yKjm7bi"
   },
   "outputs": [],
   "source": [
    "# Percentiles"
   ]
  },
  {
   "cell_type": "code",
   "execution_count": null,
   "metadata": {
    "colab": {},
    "colab_type": "code",
    "id": "I0EFX1RSm7bj"
   },
   "outputs": [],
   "source": [
    "my_array = np.arange(0,100,4)\n",
    "my_array"
   ]
  },
  {
   "cell_type": "code",
   "execution_count": null,
   "metadata": {
    "colab": {},
    "colab_type": "code",
    "id": "wwjoTo4-m7bk"
   },
   "outputs": [],
   "source": [
    "np.percentile(a=my_array, q=[25,50,75],)"
   ]
  },
  {
   "cell_type": "code",
   "execution_count": null,
   "metadata": {
    "colab": {},
    "colab_type": "code",
    "id": "Cm8ZX4iVm7bm"
   },
   "outputs": [],
   "source": []
  }
 ],
 "metadata": {
  "colab": {
   "collapsed_sections": [
    "oESXGRgWm7Xp",
    "kq9iWxW2Ff9w",
    "k4If2MDcFf99",
    "1tGv8DeOFf-f"
   ],
   "name": "DSF01_Clase4_01_Numpy_Ini.ipynb",
   "provenance": [],
   "toc_visible": true,
   "version": "0.3.2"
  },
  "kernelspec": {
   "display_name": "Python 3",
   "language": "python",
   "name": "python3"
  },
  "language_info": {
   "codemirror_mode": {
    "name": "ipython",
    "version": 3
   },
   "file_extension": ".py",
   "mimetype": "text/x-python",
   "name": "python",
   "nbconvert_exporter": "python",
   "pygments_lexer": "ipython3",
   "version": "3.7.4"
  }
 },
 "nbformat": 4,
 "nbformat_minor": 4
}
