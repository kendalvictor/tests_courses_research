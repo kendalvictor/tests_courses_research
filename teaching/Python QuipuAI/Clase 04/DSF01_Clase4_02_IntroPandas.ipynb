{
 "cells": [
  {
   "cell_type": "markdown",
   "metadata": {
    "colab_type": "text",
    "id": "YgcvUr9i_E-F"
   },
   "source": [
    "\n",
    "\n",
    "# Pandas\n",
    "\n",
    "1. `DataFrames` y  `Series`\n",
    "2. Operaciones básicas\n",
    "\n",
    "`pandas` es una librería que proporciona herramientas analíticas y estructuras de datos con alto rendimiento y facilidad de uso. En particular, la clase `DataFrame` es útil para representación y manipulación de datos heterogéneos tabulados (hojas de cálculo, tabla SQL, etc.)   \n",
    "\n",
    "## Características\n",
    "- Ofrece estructuras de datos flexibles y expresivas diseñadas para trabajar con datos tabulados y etiquetados, esta son: `Series` y  `DataFrame`.\n",
    "- Posee herramientas robustas de lectura/escritura de datos desde ficheros con formatos conocidos como: CSV, XLS. SQL, HDF5, entre otros.\n",
    "- Permite filtrar, agregar, o eliminar datos.\n",
    "- Combina las características de las matrices de alto rendimiento de `numpy` con capacidades de manipulación de datos tabulares.\n",
    "\n",
    "Para importar los módulos de la librería `pandas`, por convención se utiliza:"
   ]
  },
  {
   "cell_type": "code",
   "execution_count": null,
   "metadata": {
    "colab": {},
    "colab_type": "code",
    "id": "TXOn-4Q0_E-F"
   },
   "outputs": [],
   "source": [
    "import pandas as pd # 'pd' como alias\n",
    "import numpy as np"
   ]
  },
  {
   "cell_type": "markdown",
   "metadata": {
    "colab_type": "text",
    "id": "KFLYUXZX_E-H"
   },
   "source": [
    "\n",
    "\n",
    "## DataFrames y Series\n",
    "\n",
    "Las funcionalidades de `pandas` se basan en dos estructuras de datos fundamentales: *Series* y *DataFrames*.\n",
    "\n",
    "Una `Series` es un objeto que contiene un `array` unidimensional de datos y un `array` de etiquetas, conocido como *índice*. Si no se especifica un índice o etiqueta, este se genera internamente como una secuencia ordenada de números enteros.\n",
    "\n",
    "```python\n",
    "s = pd.Series(data, index=index)\n",
    "```\n",
    "\n",
    "Un `DataFrame` es una estructura de datos que almacena datos de forma tabular, es decir, ordenada en filas y columnas etiquetadas. Cada fila (`row`) contiene una observación y cada columna (`column`) una variable. Un `DataFrame` acepta datos heterogéneos, es decir, variables pueden ser de distinto tipo (numérico, string, boolean, etc.). Además de contener datos, un `DataFrame` contiene el nombre de las variables y sus tipos, y métodos que permiten acceder y modificar los datos.\n",
    "\n",
    "```python\n",
    "s = pd.DataFrame(data, ...)\n",
    "```\n",
    "\n",
    "Las `Series` y `DataFrame` permiten representar datos 1D y 2D. Para representar datos con más dimensiones `pandas` posee otras estructuras de datos más complejas (en fase experimental), llamadas `Panel`, `Panel4D`, `PanelND`. Estas estructuras están fuera del alcance de este curso."
   ]
  },
  {
   "cell_type": "markdown",
   "metadata": {
    "colab_type": "text",
    "id": "8EVvtS4s_E-I"
   },
   "source": [
    "\n",
    "\n",
    "---\n",
    "# Series en Pandas\n",
    "\n",
    "## Creación de Series\n"
   ]
  },
  {
   "cell_type": "markdown",
   "metadata": {
    "colab_type": "text",
    "id": "85mS5ki6_E-I"
   },
   "source": [
    "\n",
    "\n",
    "Crear una Series con índices automáticos a partir de una lista"
   ]
  },
  {
   "cell_type": "code",
   "execution_count": 4,
   "metadata": {
    "colab": {
     "base_uri": "https://localhost:8080/",
     "height": 100
    },
    "colab_type": "code",
    "executionInfo": {
     "elapsed": 662,
     "status": "ok",
     "timestamp": 1566774200628,
     "user": {
      "displayName": "Quipu AI",
      "photoUrl": "https://lh3.googleusercontent.com/a-/AAuE7mAqpYVhA94BaV-w3FInoujWFEsMitSVZR7MmvRW=s64",
      "userId": "00799183920318522678"
     },
     "user_tz": 300
    },
    "id": "fd48t5GF_E-J",
    "outputId": "319801b4-326d-4f66-a6a6-182556cac228"
   },
   "outputs": [
    {
     "data": {
      "text/plain": [
       "0    1979\n",
       "1    1980\n",
       "2    1981\n",
       "3    1982\n",
       "dtype: int64"
      ]
     },
     "execution_count": 4,
     "metadata": {
      "tags": []
     },
     "output_type": "execute_result"
    }
   ],
   "source": [
    "serie = pd.Series([1979, 1980, 1981, 1982])\n",
    "serie"
   ]
  },
  {
   "cell_type": "markdown",
   "metadata": {
    "colab_type": "text",
    "id": "bjWxBJ5F_E-K"
   },
   "source": [
    "\n",
    "\n",
    "Las `Series` poseen dos atributos: `values`  e `index`. El primero es un `numpy array` que almacena los datos, y el segundo es un objeto que contiene los índices."
   ]
  },
  {
   "cell_type": "code",
   "execution_count": 5,
   "metadata": {
    "colab": {
     "base_uri": "https://localhost:8080/",
     "height": 33
    },
    "colab_type": "code",
    "executionInfo": {
     "elapsed": 963,
     "status": "ok",
     "timestamp": 1566774214577,
     "user": {
      "displayName": "Quipu AI",
      "photoUrl": "https://lh3.googleusercontent.com/a-/AAuE7mAqpYVhA94BaV-w3FInoujWFEsMitSVZR7MmvRW=s64",
      "userId": "00799183920318522678"
     },
     "user_tz": 300
    },
    "id": "5bn5HYun_E-L",
    "outputId": "b4490ad2-a9f8-4873-eebb-11e935cd52ad"
   },
   "outputs": [
    {
     "data": {
      "text/plain": [
       "array([1979, 1980, 1981, 1982])"
      ]
     },
     "execution_count": 5,
     "metadata": {
      "tags": []
     },
     "output_type": "execute_result"
    }
   ],
   "source": [
    "serie.values"
   ]
  },
  {
   "cell_type": "code",
   "execution_count": 6,
   "metadata": {
    "colab": {
     "base_uri": "https://localhost:8080/",
     "height": 33
    },
    "colab_type": "code",
    "executionInfo": {
     "elapsed": 652,
     "status": "ok",
     "timestamp": 1566774219652,
     "user": {
      "displayName": "Quipu AI",
      "photoUrl": "https://lh3.googleusercontent.com/a-/AAuE7mAqpYVhA94BaV-w3FInoujWFEsMitSVZR7MmvRW=s64",
      "userId": "00799183920318522678"
     },
     "user_tz": 300
    },
    "id": "CaBleUBU_E-M",
    "outputId": "6047c298-a32a-4f44-a14f-1c0573f84ca1"
   },
   "outputs": [
    {
     "data": {
      "text/plain": [
       "RangeIndex(start=0, stop=4, step=1)"
      ]
     },
     "execution_count": 6,
     "metadata": {
      "tags": []
     },
     "output_type": "execute_result"
    }
   ],
   "source": [
    "serie.index"
   ]
  },
  {
   "cell_type": "markdown",
   "metadata": {
    "colab_type": "text",
    "id": "lTiuGiQ-_E-O"
   },
   "source": [
    "\n",
    "\n",
    "Al crear una `Series` se puede definir explícitamente un `array` índice y pasarlo como argumento."
   ]
  },
  {
   "cell_type": "markdown",
   "metadata": {
    "colab_type": "text",
    "id": "xvKAUjKG_E-O"
   },
   "source": [
    "\n",
    "\n",
    "Crear Series con índices definidos"
   ]
  },
  {
   "cell_type": "code",
   "execution_count": 7,
   "metadata": {
    "colab": {
     "base_uri": "https://localhost:8080/",
     "height": 117
    },
    "colab_type": "code",
    "executionInfo": {
     "elapsed": 417,
     "status": "ok",
     "timestamp": 1566774258203,
     "user": {
      "displayName": "Quipu AI",
      "photoUrl": "https://lh3.googleusercontent.com/a-/AAuE7mAqpYVhA94BaV-w3FInoujWFEsMitSVZR7MmvRW=s64",
      "userId": "00799183920318522678"
     },
     "user_tz": 300
    },
    "id": "oFajvo0H_E-P",
    "outputId": "2e0018c1-fce7-489c-c63e-dc779bde0763"
   },
   "outputs": [
    {
     "data": {
      "text/plain": [
       "carolina    1979\n",
       "martha      1980\n",
       "nicky       1981\n",
       "theresa     1982\n",
       "nicky       1983\n",
       "dtype: int64"
      ]
     },
     "execution_count": 7,
     "metadata": {
      "tags": []
     },
     "output_type": "execute_result"
    }
   ],
   "source": [
    "serie = pd.Series(data=[1979, 1980, 1981, 1982, 1983],\n",
    "                  index=['carolina', 'martha', 'nicky', 'theresa', 'nicky'])\n",
    "serie"
   ]
  },
  {
   "cell_type": "code",
   "execution_count": 9,
   "metadata": {
    "colab": {
     "base_uri": "https://localhost:8080/",
     "height": 33
    },
    "colab_type": "code",
    "executionInfo": {
     "elapsed": 419,
     "status": "ok",
     "timestamp": 1566774290623,
     "user": {
      "displayName": "Quipu AI",
      "photoUrl": "https://lh3.googleusercontent.com/a-/AAuE7mAqpYVhA94BaV-w3FInoujWFEsMitSVZR7MmvRW=s64",
      "userId": "00799183920318522678"
     },
     "user_tz": 300
    },
    "id": "57jI95HOBh2v",
    "outputId": "ac79368a-503b-4996-b428-a4bb5e2cf06c"
   },
   "outputs": [
    {
     "data": {
      "text/plain": [
       "1982"
      ]
     },
     "execution_count": 9,
     "metadata": {
      "tags": []
     },
     "output_type": "execute_result"
    }
   ],
   "source": [
    "serie['theresa']"
   ]
  },
  {
   "cell_type": "markdown",
   "metadata": {
    "colab_type": "text",
    "id": "wdGqwAJo_E-R"
   },
   "source": [
    "\n",
    "\n",
    "También se pueden crear `Series` a partir de diccionarios, `numpy arrays`, desde ficheros, etc."
   ]
  },
  {
   "cell_type": "markdown",
   "metadata": {
    "colab_type": "text",
    "id": "yCKu3BRA_E-S"
   },
   "source": [
    "\n",
    "\n",
    "Serie a partir de un numpy array"
   ]
  },
  {
   "cell_type": "code",
   "execution_count": 10,
   "metadata": {
    "colab": {
     "base_uri": "https://localhost:8080/",
     "height": 201
    },
    "colab_type": "code",
    "executionInfo": {
     "elapsed": 404,
     "status": "ok",
     "timestamp": 1566774311728,
     "user": {
      "displayName": "Quipu AI",
      "photoUrl": "https://lh3.googleusercontent.com/a-/AAuE7mAqpYVhA94BaV-w3FInoujWFEsMitSVZR7MmvRW=s64",
      "userId": "00799183920318522678"
     },
     "user_tz": 300
    },
    "id": "paAy9_fT_E-T",
    "outputId": "4bd150e6-884f-448b-8d87-90403a1e7a67"
   },
   "outputs": [
    {
     "data": {
      "text/plain": [
       "0     0\n",
       "1     2\n",
       "2     4\n",
       "3     6\n",
       "4     8\n",
       "5    10\n",
       "6    12\n",
       "7    14\n",
       "8    16\n",
       "9    18\n",
       "dtype: int64"
      ]
     },
     "execution_count": 10,
     "metadata": {
      "tags": []
     },
     "output_type": "execute_result"
    }
   ],
   "source": [
    "serie = pd.Series(np.arange(0,20,2))\n",
    "serie"
   ]
  },
  {
   "cell_type": "markdown",
   "metadata": {
    "colab_type": "text",
    "id": "qFYVpq1q_E-W"
   },
   "source": [
    "\n",
    "\n",
    "Serie a partir de un diccionario"
   ]
  },
  {
   "cell_type": "code",
   "execution_count": 11,
   "metadata": {
    "colab": {
     "base_uri": "https://localhost:8080/",
     "height": 33
    },
    "colab_type": "code",
    "executionInfo": {
     "elapsed": 459,
     "status": "ok",
     "timestamp": 1566774318809,
     "user": {
      "displayName": "Quipu AI",
      "photoUrl": "https://lh3.googleusercontent.com/a-/AAuE7mAqpYVhA94BaV-w3FInoujWFEsMitSVZR7MmvRW=s64",
      "userId": "00799183920318522678"
     },
     "user_tz": 300
    },
    "id": "JJ3um4FS_E-Y",
    "outputId": "26a923bf-ca4c-470a-d931-b3f38df7c5ed"
   },
   "outputs": [
    {
     "name": "stdout",
     "output_type": "stream",
     "text": [
      "{'Luis': 24, 'Juan': 23, 'Maria': 25, 'Carlos': 30}\n"
     ]
    }
   ],
   "source": [
    "dicc = {'Luis':24,'Juan':23, 'Maria':25, 'Carlos':30}\n",
    "print(dicc)"
   ]
  },
  {
   "cell_type": "code",
   "execution_count": 12,
   "metadata": {
    "colab": {
     "base_uri": "https://localhost:8080/",
     "height": 33
    },
    "colab_type": "code",
    "executionInfo": {
     "elapsed": 419,
     "status": "ok",
     "timestamp": 1566774329815,
     "user": {
      "displayName": "Quipu AI",
      "photoUrl": "https://lh3.googleusercontent.com/a-/AAuE7mAqpYVhA94BaV-w3FInoujWFEsMitSVZR7MmvRW=s64",
      "userId": "00799183920318522678"
     },
     "user_tz": 300
    },
    "id": "diG5eKZ_Bt3f",
    "outputId": "ce22c11f-3a86-4006-8b89-7fe5c27111ff"
   },
   "outputs": [
    {
     "data": {
      "text/plain": [
       "23"
      ]
     },
     "execution_count": 12,
     "metadata": {
      "tags": []
     },
     "output_type": "execute_result"
    }
   ],
   "source": [
    "dicc['Juan']"
   ]
  },
  {
   "cell_type": "code",
   "execution_count": 13,
   "metadata": {
    "colab": {
     "base_uri": "https://localhost:8080/",
     "height": 100
    },
    "colab_type": "code",
    "executionInfo": {
     "elapsed": 548,
     "status": "ok",
     "timestamp": 1566774341953,
     "user": {
      "displayName": "Quipu AI",
      "photoUrl": "https://lh3.googleusercontent.com/a-/AAuE7mAqpYVhA94BaV-w3FInoujWFEsMitSVZR7MmvRW=s64",
      "userId": "00799183920318522678"
     },
     "user_tz": 300
    },
    "id": "mq1CkcJ5_E-a",
    "outputId": "032efcf6-c445-4cec-e941-941f87123db4"
   },
   "outputs": [
    {
     "data": {
      "text/plain": [
       "Luis      24\n",
       "Juan      23\n",
       "Maria     25\n",
       "Carlos    30\n",
       "dtype: int64"
      ]
     },
     "execution_count": 13,
     "metadata": {
      "tags": []
     },
     "output_type": "execute_result"
    }
   ],
   "source": [
    "serie_dicc = pd.Series(dicc)\n",
    "serie_dicc"
   ]
  },
  {
   "cell_type": "markdown",
   "metadata": {
    "colab_type": "text",
    "id": "Vl0iI22e_E-d"
   },
   "source": [
    "\n",
    "\n",
    "---\n",
    "## Acceso a datos en Series\n"
   ]
  },
  {
   "cell_type": "markdown",
   "metadata": {
    "colab_type": "text",
    "id": "bfRwG-V0_E-g"
   },
   "source": [
    "\n",
    "\n",
    "El acceso a los datos se puede realizar mediante el índice categórico o el numérico que genera internamente Pandas"
   ]
  },
  {
   "cell_type": "markdown",
   "metadata": {
    "colab_type": "text",
    "id": "Te4SARJI_E-g"
   },
   "source": [
    "\n",
    "\n",
    "Creamos de nuevo la serie inicial"
   ]
  },
  {
   "cell_type": "code",
   "execution_count": 14,
   "metadata": {
    "colab": {
     "base_uri": "https://localhost:8080/",
     "height": 117
    },
    "colab_type": "code",
    "executionInfo": {
     "elapsed": 393,
     "status": "ok",
     "timestamp": 1566774361806,
     "user": {
      "displayName": "Quipu AI",
      "photoUrl": "https://lh3.googleusercontent.com/a-/AAuE7mAqpYVhA94BaV-w3FInoujWFEsMitSVZR7MmvRW=s64",
      "userId": "00799183920318522678"
     },
     "user_tz": 300
    },
    "id": "gNCzm1iN_E-h",
    "outputId": "cc2157ea-4209-4a26-c9e1-02bfb9276e6f"
   },
   "outputs": [
    {
     "data": {
      "text/plain": [
       "carolina    1979\n",
       "martha      1980\n",
       "nicky       1981\n",
       "theresa     1982\n",
       "nicky       1983\n",
       "dtype: int64"
      ]
     },
     "execution_count": 14,
     "metadata": {
      "tags": []
     },
     "output_type": "execute_result"
    }
   ],
   "source": [
    "serie = pd.Series(data=[1979, 1980, 1981, 1982, 1983],\n",
    "                  index=['carolina', 'martha', 'nicky', 'theresa', 'nicky'])\n",
    "serie"
   ]
  },
  {
   "cell_type": "markdown",
   "metadata": {
    "colab_type": "text",
    "id": "9ZjCB5aG_E-i"
   },
   "source": [
    "\n",
    "\n",
    "Indexación mediante etiqueta"
   ]
  },
  {
   "cell_type": "code",
   "execution_count": 17,
   "metadata": {
    "colab": {
     "base_uri": "https://localhost:8080/",
     "height": 33
    },
    "colab_type": "code",
    "executionInfo": {
     "elapsed": 476,
     "status": "ok",
     "timestamp": 1566774538650,
     "user": {
      "displayName": "Quipu AI",
      "photoUrl": "https://lh3.googleusercontent.com/a-/AAuE7mAqpYVhA94BaV-w3FInoujWFEsMitSVZR7MmvRW=s64",
      "userId": "00799183920318522678"
     },
     "user_tz": 300
    },
    "id": "4OAJ9dPL_E-j",
    "outputId": "b079afca-110a-490a-9b81-f9fccc45c7cc"
   },
   "outputs": [
    {
     "name": "stdout",
     "output_type": "stream",
     "text": [
      "1980\n"
     ]
    }
   ],
   "source": [
    "print(serie['martha'])"
   ]
  },
  {
   "cell_type": "markdown",
   "metadata": {
    "colab_type": "text",
    "id": "J82CMVAp_E-k"
   },
   "source": [
    "\n",
    "\n",
    "Indexación mediante índice numérico interno"
   ]
  },
  {
   "cell_type": "code",
   "execution_count": 16,
   "metadata": {
    "colab": {
     "base_uri": "https://localhost:8080/",
     "height": 33
    },
    "colab_type": "code",
    "executionInfo": {
     "elapsed": 498,
     "status": "ok",
     "timestamp": 1566774391925,
     "user": {
      "displayName": "Quipu AI",
      "photoUrl": "https://lh3.googleusercontent.com/a-/AAuE7mAqpYVhA94BaV-w3FInoujWFEsMitSVZR7MmvRW=s64",
      "userId": "00799183920318522678"
     },
     "user_tz": 300
    },
    "id": "YY7XUdQI_E-l",
    "outputId": "93603863-16a7-4936-8e95-a4be4586ef7e"
   },
   "outputs": [
    {
     "name": "stdout",
     "output_type": "stream",
     "text": [
      "1980\n"
     ]
    }
   ],
   "source": [
    "print(serie[1])"
   ]
  },
  {
   "cell_type": "markdown",
   "metadata": {
    "colab_type": "text",
    "id": "mKCisPEB_E-n"
   },
   "source": [
    "\n",
    "\n",
    "El índice puede contener valores duplicados"
   ]
  },
  {
   "cell_type": "code",
   "execution_count": 18,
   "metadata": {
    "colab": {
     "base_uri": "https://localhost:8080/",
     "height": 67
    },
    "colab_type": "code",
    "executionInfo": {
     "elapsed": 426,
     "status": "ok",
     "timestamp": 1566774581988,
     "user": {
      "displayName": "Quipu AI",
      "photoUrl": "https://lh3.googleusercontent.com/a-/AAuE7mAqpYVhA94BaV-w3FInoujWFEsMitSVZR7MmvRW=s64",
      "userId": "00799183920318522678"
     },
     "user_tz": 300
    },
    "id": "oYsWsHmz_E-o",
    "outputId": "f10dd689-d9a8-41cb-c0fb-16d928935cc5"
   },
   "outputs": [
    {
     "name": "stdout",
     "output_type": "stream",
     "text": [
      "nicky    1981\n",
      "nicky    1983\n",
      "dtype: int64\n"
     ]
    }
   ],
   "source": [
    "print(serie['nicky'])"
   ]
  },
  {
   "cell_type": "markdown",
   "metadata": {
    "colab_type": "text",
    "id": "iaNiqr6J_E-s"
   },
   "source": [
    "\n",
    "\n",
    "Podemos seleccionar varios valores indicando un intervalo de índices"
   ]
  },
  {
   "cell_type": "markdown",
   "metadata": {
    "colab_type": "text",
    "id": "FXrifxcc_E-t"
   },
   "source": [
    "\n",
    "\n",
    "Recuperamos desde el valor de la posición 1 (el primer elemento tiene un index = 0) hasta el final del índice."
   ]
  },
  {
   "cell_type": "code",
   "execution_count": 19,
   "metadata": {
    "colab": {
     "base_uri": "https://localhost:8080/",
     "height": 100
    },
    "colab_type": "code",
    "executionInfo": {
     "elapsed": 435,
     "status": "ok",
     "timestamp": 1566774596310,
     "user": {
      "displayName": "Quipu AI",
      "photoUrl": "https://lh3.googleusercontent.com/a-/AAuE7mAqpYVhA94BaV-w3FInoujWFEsMitSVZR7MmvRW=s64",
      "userId": "00799183920318522678"
     },
     "user_tz": 300
    },
    "id": "5K2XejzK_E-u",
    "outputId": "b4765564-0583-427e-884d-3ae160cae175"
   },
   "outputs": [
    {
     "data": {
      "text/plain": [
       "martha     1980\n",
       "nicky      1981\n",
       "theresa    1982\n",
       "nicky      1983\n",
       "dtype: int64"
      ]
     },
     "execution_count": 19,
     "metadata": {
      "tags": []
     },
     "output_type": "execute_result"
    }
   ],
   "source": [
    "serie[1:]"
   ]
  },
  {
   "cell_type": "markdown",
   "metadata": {
    "colab_type": "text",
    "id": "OC6KSWXM_E-w"
   },
   "source": [
    "\n",
    "\n",
    "Recuperamos los elementos desde la posición 1 a la 2"
   ]
  },
  {
   "cell_type": "code",
   "execution_count": 20,
   "metadata": {
    "colab": {
     "base_uri": "https://localhost:8080/",
     "height": 117
    },
    "colab_type": "code",
    "executionInfo": {
     "elapsed": 498,
     "status": "ok",
     "timestamp": 1566774602965,
     "user": {
      "displayName": "Quipu AI",
      "photoUrl": "https://lh3.googleusercontent.com/a-/AAuE7mAqpYVhA94BaV-w3FInoujWFEsMitSVZR7MmvRW=s64",
      "userId": "00799183920318522678"
     },
     "user_tz": 300
    },
    "id": "MDppE8moCyJH",
    "outputId": "a5776fc3-220e-411b-d69c-834d218a4b25"
   },
   "outputs": [
    {
     "data": {
      "text/plain": [
       "carolina    1979\n",
       "martha      1980\n",
       "nicky       1981\n",
       "theresa     1982\n",
       "nicky       1983\n",
       "dtype: int64"
      ]
     },
     "execution_count": 20,
     "metadata": {
      "tags": []
     },
     "output_type": "execute_result"
    }
   ],
   "source": [
    "serie"
   ]
  },
  {
   "cell_type": "code",
   "execution_count": 21,
   "metadata": {
    "colab": {
     "base_uri": "https://localhost:8080/",
     "height": 67
    },
    "colab_type": "code",
    "executionInfo": {
     "elapsed": 455,
     "status": "ok",
     "timestamp": 1566774615455,
     "user": {
      "displayName": "Quipu AI",
      "photoUrl": "https://lh3.googleusercontent.com/a-/AAuE7mAqpYVhA94BaV-w3FInoujWFEsMitSVZR7MmvRW=s64",
      "userId": "00799183920318522678"
     },
     "user_tz": 300
    },
    "id": "9SWti3fL_E-x",
    "outputId": "7eb9dac9-3fad-448a-dc24-8841f76111b6"
   },
   "outputs": [
    {
     "data": {
      "text/plain": [
       "martha    1980\n",
       "nicky     1981\n",
       "dtype: int64"
      ]
     },
     "execution_count": 21,
     "metadata": {
      "tags": []
     },
     "output_type": "execute_result"
    }
   ],
   "source": [
    "serie[1:3]"
   ]
  },
  {
   "cell_type": "markdown",
   "metadata": {
    "colab_type": "text",
    "id": "aJgd1Ko8_E-z"
   },
   "source": [
    "\n",
    "\n",
    "Podemos usar también índices negativos"
   ]
  },
  {
   "cell_type": "code",
   "execution_count": 22,
   "metadata": {
    "colab": {
     "base_uri": "https://localhost:8080/",
     "height": 67
    },
    "colab_type": "code",
    "executionInfo": {
     "elapsed": 679,
     "status": "ok",
     "timestamp": 1566774634410,
     "user": {
      "displayName": "Quipu AI",
      "photoUrl": "https://lh3.googleusercontent.com/a-/AAuE7mAqpYVhA94BaV-w3FInoujWFEsMitSVZR7MmvRW=s64",
      "userId": "00799183920318522678"
     },
     "user_tz": 300
    },
    "id": "hs-YDHtw_E-z",
    "outputId": "6f4fde25-4c29-4d23-fc49-065d64ce0b21"
   },
   "outputs": [
    {
     "data": {
      "text/plain": [
       "martha    1980\n",
       "nicky     1981\n",
       "dtype: int64"
      ]
     },
     "execution_count": 22,
     "metadata": {
      "tags": []
     },
     "output_type": "execute_result"
    }
   ],
   "source": [
    "serie[-4:-2]"
   ]
  },
  {
   "cell_type": "markdown",
   "metadata": {
    "colab_type": "text",
    "id": "3KfYg3Ya_E-1"
   },
   "source": [
    "\n",
    "\n",
    "---\n",
    "## Métodos en Series"
   ]
  },
  {
   "cell_type": "markdown",
   "metadata": {
    "colab_type": "text",
    "id": "5nJ81MXJ_E-2"
   },
   "source": [
    "\n",
    "\n",
    "Para **añadir** nuevos elementos a una Series usamos el método `append`:"
   ]
  },
  {
   "cell_type": "code",
   "execution_count": 24,
   "metadata": {
    "colab": {
     "base_uri": "https://localhost:8080/",
     "height": 385
    },
    "colab_type": "code",
    "executionInfo": {
     "elapsed": 422,
     "status": "ok",
     "timestamp": 1566774710527,
     "user": {
      "displayName": "Quipu AI",
      "photoUrl": "https://lh3.googleusercontent.com/a-/AAuE7mAqpYVhA94BaV-w3FInoujWFEsMitSVZR7MmvRW=s64",
      "userId": "00799183920318522678"
     },
     "user_tz": 300
    },
    "id": "hzNu6_-Y_E-2",
    "outputId": "0aaa751b-4b3b-454b-b616-dd9c51b0dc9e"
   },
   "outputs": [
    {
     "data": {
      "text/plain": [
       "0      0\n",
       "1      1\n",
       "2      2\n",
       "3      3\n",
       "4      4\n",
       "5      5\n",
       "6      6\n",
       "7      7\n",
       "8      8\n",
       "9      9\n",
       "0     10\n",
       "1     11\n",
       "2     12\n",
       "3     13\n",
       "4     14\n",
       "5     15\n",
       "6     16\n",
       "7     17\n",
       "8     18\n",
       "9     19\n",
       "10    20\n",
       "dtype: int64"
      ]
     },
     "execution_count": 24,
     "metadata": {
      "tags": []
     },
     "output_type": "execute_result"
    }
   ],
   "source": [
    "s1 = pd.Series(np.arange(10))\n",
    "s2 = pd.Series(np.arange(10, 21))\n",
    "\n",
    "s3 = s1.append(s2)\n",
    "s3"
   ]
  },
  {
   "cell_type": "markdown",
   "metadata": {
    "colab_type": "text",
    "id": "ccvW-EXE_E-4"
   },
   "source": [
    "\n",
    "\n",
    "Se mantienen los índices de cada serie"
   ]
  },
  {
   "cell_type": "code",
   "execution_count": null,
   "metadata": {
    "colab": {
     "base_uri": "https://localhost:8080/",
     "height": 34
    },
    "colab_type": "code",
    "executionInfo": {
     "elapsed": 388,
     "status": "ok",
     "timestamp": 1560200297707,
     "user": {
      "displayName": "ROBERTO GARRIDO CASTILLO",
      "photoUrl": "",
      "userId": "04470298733388827087"
     },
     "user_tz": 300
    },
    "id": "klzmCEU__E-4",
    "outputId": "7182a7c5-e753-4183-c73f-cc6eab3b8139"
   },
   "outputs": [
    {
     "data": {
      "text/plain": [
       "1     1\n",
       "1    11\n",
       "dtype: int32"
      ]
     },
     "execution_count": 17,
     "metadata": {
      "tags": []
     },
     "output_type": "execute_result"
    }
   ],
   "source": [
    "s3[1]"
   ]
  },
  {
   "cell_type": "markdown",
   "metadata": {
    "colab_type": "text",
    "id": "6myc-NMt_E-5"
   },
   "source": [
    "\n",
    "\n",
    "También podemos concatenar series generando un índice nuevo:"
   ]
  },
  {
   "cell_type": "code",
   "execution_count": 25,
   "metadata": {
    "colab": {
     "base_uri": "https://localhost:8080/",
     "height": 385
    },
    "colab_type": "code",
    "executionInfo": {
     "elapsed": 513,
     "status": "ok",
     "timestamp": 1566774895834,
     "user": {
      "displayName": "Quipu AI",
      "photoUrl": "https://lh3.googleusercontent.com/a-/AAuE7mAqpYVhA94BaV-w3FInoujWFEsMitSVZR7MmvRW=s64",
      "userId": "00799183920318522678"
     },
     "user_tz": 300
    },
    "id": "pjUIBbeL_E-6",
    "outputId": "6a62efc5-5548-46d9-85f3-650205689b4f"
   },
   "outputs": [
    {
     "data": {
      "text/plain": [
       "0      0\n",
       "1      1\n",
       "2      2\n",
       "3      3\n",
       "4      4\n",
       "5      5\n",
       "6      6\n",
       "7      7\n",
       "8      8\n",
       "9      9\n",
       "10    10\n",
       "11    11\n",
       "12    12\n",
       "13    13\n",
       "14    14\n",
       "15    15\n",
       "16    16\n",
       "17    17\n",
       "18    18\n",
       "19    19\n",
       "20    20\n",
       "dtype: int64"
      ]
     },
     "execution_count": 25,
     "metadata": {
      "tags": []
     },
     "output_type": "execute_result"
    }
   ],
   "source": [
    "s3 = s1.append(s2, ignore_index=True)\n",
    "s3"
   ]
  },
  {
   "cell_type": "code",
   "execution_count": 26,
   "metadata": {
    "colab": {
     "base_uri": "https://localhost:8080/",
     "height": 33
    },
    "colab_type": "code",
    "executionInfo": {
     "elapsed": 426,
     "status": "ok",
     "timestamp": 1566774902626,
     "user": {
      "displayName": "Quipu AI",
      "photoUrl": "https://lh3.googleusercontent.com/a-/AAuE7mAqpYVhA94BaV-w3FInoujWFEsMitSVZR7MmvRW=s64",
      "userId": "00799183920318522678"
     },
     "user_tz": 300
    },
    "id": "m_-nPdiQ_E-8",
    "outputId": "6aacac72-5df5-43fd-b662-813140a8fe44"
   },
   "outputs": [
    {
     "data": {
      "text/plain": [
       "1"
      ]
     },
     "execution_count": 26,
     "metadata": {
      "tags": []
     },
     "output_type": "execute_result"
    }
   ],
   "source": [
    "s3[1]"
   ]
  },
  {
   "cell_type": "markdown",
   "metadata": {
    "colab_type": "text",
    "id": "mAl2ZC0O_E_F"
   },
   "source": [
    "\n",
    "\n",
    "El méotdo pop devuelve y elimina de la serie original el valor del índice pasado"
   ]
  },
  {
   "cell_type": "code",
   "execution_count": 29,
   "metadata": {
    "colab": {
     "base_uri": "https://localhost:8080/",
     "height": 201
    },
    "colab_type": "code",
    "executionInfo": {
     "elapsed": 408,
     "status": "ok",
     "timestamp": 1566774986445,
     "user": {
      "displayName": "Quipu AI",
      "photoUrl": "https://lh3.googleusercontent.com/a-/AAuE7mAqpYVhA94BaV-w3FInoujWFEsMitSVZR7MmvRW=s64",
      "userId": "00799183920318522678"
     },
     "user_tz": 300
    },
    "id": "Xl8nbYnAEF_-",
    "outputId": "cf41b714-4178-4741-a24b-23c0c891572c"
   },
   "outputs": [
    {
     "data": {
      "text/plain": [
       "0    0\n",
       "1    1\n",
       "2    2\n",
       "3    3\n",
       "4    4\n",
       "5    5\n",
       "6    6\n",
       "7    7\n",
       "8    8\n",
       "9    9\n",
       "dtype: int64"
      ]
     },
     "execution_count": 29,
     "metadata": {
      "tags": []
     },
     "output_type": "execute_result"
    }
   ],
   "source": [
    "s1"
   ]
  },
  {
   "cell_type": "code",
   "execution_count": 31,
   "metadata": {
    "colab": {
     "base_uri": "https://localhost:8080/",
     "height": 184
    },
    "colab_type": "code",
    "executionInfo": {
     "elapsed": 444,
     "status": "ok",
     "timestamp": 1566775005644,
     "user": {
      "displayName": "Quipu AI",
      "photoUrl": "https://lh3.googleusercontent.com/a-/AAuE7mAqpYVhA94BaV-w3FInoujWFEsMitSVZR7MmvRW=s64",
      "userId": "00799183920318522678"
     },
     "user_tz": 300
    },
    "id": "NAYtlrnp_E_G",
    "outputId": "42dc7567-11e5-4abe-e818-9d3d27a2bd61"
   },
   "outputs": [
    {
     "name": "stdout",
     "output_type": "stream",
     "text": [
      "0    0\n",
      "1    1\n",
      "2    2\n",
      "4    4\n",
      "5    5\n",
      "6    6\n",
      "7    7\n",
      "8    8\n",
      "9    9\n",
      "dtype: int64\n"
     ]
    }
   ],
   "source": [
    "s4 = s1.copy()\n",
    "\n",
    "s4.pop(3)\n",
    "print(s4)"
   ]
  },
  {
   "cell_type": "code",
   "execution_count": null,
   "metadata": {
    "colab": {},
    "colab_type": "code",
    "id": "OnF8BXxGEaeC"
   },
   "outputs": [],
   "source": []
  },
  {
   "cell_type": "code",
   "execution_count": 33,
   "metadata": {
    "colab": {
     "base_uri": "https://localhost:8080/",
     "height": 167
    },
    "colab_type": "code",
    "executionInfo": {
     "elapsed": 402,
     "status": "ok",
     "timestamp": 1566775034704,
     "user": {
      "displayName": "Quipu AI",
      "photoUrl": "https://lh3.googleusercontent.com/a-/AAuE7mAqpYVhA94BaV-w3FInoujWFEsMitSVZR7MmvRW=s64",
      "userId": "00799183920318522678"
     },
     "user_tz": 300
    },
    "id": "I8RG_yms_gA-",
    "outputId": "16b556da-a304-4fa5-9b19-3a04986ada1f"
   },
   "outputs": [
    {
     "data": {
      "text/plain": [
       "0     49\n",
       "1     62\n",
       "2     82\n",
       "3    100\n",
       "4     52\n",
       "5     64\n",
       "6     84\n",
       "7    130\n",
       "dtype: int64"
      ]
     },
     "execution_count": 33,
     "metadata": {
      "tags": []
     },
     "output_type": "execute_result"
    }
   ],
   "source": [
    "serie_pokemon = pd.Series([49,62,82,100,52,64,84,130])\n",
    "serie_pokemon"
   ]
  },
  {
   "cell_type": "markdown",
   "metadata": {
    "colab_type": "text",
    "id": "2bNa4ZHq_E_N"
   },
   "source": [
    "\n",
    "\n",
    "Ordena los valores, por defecto de menos a más."
   ]
  },
  {
   "cell_type": "code",
   "execution_count": 34,
   "metadata": {
    "colab": {
     "base_uri": "https://localhost:8080/",
     "height": 167
    },
    "colab_type": "code",
    "executionInfo": {
     "elapsed": 475,
     "status": "ok",
     "timestamp": 1566775044554,
     "user": {
      "displayName": "Quipu AI",
      "photoUrl": "https://lh3.googleusercontent.com/a-/AAuE7mAqpYVhA94BaV-w3FInoujWFEsMitSVZR7MmvRW=s64",
      "userId": "00799183920318522678"
     },
     "user_tz": 300
    },
    "id": "Vqai4DBG_E_N",
    "outputId": "54db5017-c900-4ecc-a978-26186cf0f062"
   },
   "outputs": [
    {
     "data": {
      "text/plain": [
       "0     49\n",
       "4     52\n",
       "1     62\n",
       "5     64\n",
       "2     82\n",
       "6     84\n",
       "3    100\n",
       "7    130\n",
       "dtype: int64"
      ]
     },
     "execution_count": 34,
     "metadata": {
      "tags": []
     },
     "output_type": "execute_result"
    }
   ],
   "source": [
    "serie_pokemon.sort_values()"
   ]
  },
  {
   "cell_type": "markdown",
   "metadata": {
    "colab_type": "text",
    "id": "hQ2rDR2F_E_Q"
   },
   "source": [
    "\n",
    "\n",
    "Ordenamos de forma descendente"
   ]
  },
  {
   "cell_type": "code",
   "execution_count": 35,
   "metadata": {
    "colab": {
     "base_uri": "https://localhost:8080/",
     "height": 167
    },
    "colab_type": "code",
    "executionInfo": {
     "elapsed": 425,
     "status": "ok",
     "timestamp": 1566775051026,
     "user": {
      "displayName": "Quipu AI",
      "photoUrl": "https://lh3.googleusercontent.com/a-/AAuE7mAqpYVhA94BaV-w3FInoujWFEsMitSVZR7MmvRW=s64",
      "userId": "00799183920318522678"
     },
     "user_tz": 300
    },
    "id": "2H3foggR_E_Q",
    "outputId": "33536d58-62f8-4300-a267-f5e9d50ff667"
   },
   "outputs": [
    {
     "data": {
      "text/plain": [
       "7    130\n",
       "3    100\n",
       "6     84\n",
       "2     82\n",
       "5     64\n",
       "1     62\n",
       "4     52\n",
       "0     49\n",
       "dtype: int64"
      ]
     },
     "execution_count": 35,
     "metadata": {
      "tags": []
     },
     "output_type": "execute_result"
    }
   ],
   "source": [
    "serie_pokemon.sort_values(ascending=False)"
   ]
  },
  {
   "cell_type": "markdown",
   "metadata": {
    "colab_type": "text",
    "id": "77GzQE5A_E_U"
   },
   "source": [
    "\n",
    "\n",
    "Para que los cambios modifique realmente la serie hay que indicarlo mediante el parámetro inplace"
   ]
  },
  {
   "cell_type": "code",
   "execution_count": null,
   "metadata": {
    "colab": {},
    "colab_type": "code",
    "id": "j2vmKOO6_E_V",
    "outputId": "30a76abb-d9e8-4de0-8e00-410286fd3e84"
   },
   "outputs": [
    {
     "data": {
      "text/plain": [
       "0     49\n",
       "4     52\n",
       "1     62\n",
       "5     64\n",
       "2     82\n",
       "6     84\n",
       "3    100\n",
       "7    130\n",
       "dtype: int64"
      ]
     },
     "execution_count": 24,
     "metadata": {
      "tags": []
     },
     "output_type": "execute_result"
    }
   ],
   "source": [
    "serie_pokemon.sort_values(inplace=True)\n",
    "serie_pokemon"
   ]
  },
  {
   "cell_type": "markdown",
   "metadata": {
    "colab_type": "text",
    "id": "5KBzJgo7_E_Y"
   },
   "source": [
    "\n",
    "\n",
    "Si queremos ordernar mediante el índice recurrimos a sort_index()"
   ]
  },
  {
   "cell_type": "code",
   "execution_count": 38,
   "metadata": {
    "colab": {
     "base_uri": "https://localhost:8080/",
     "height": 167
    },
    "colab_type": "code",
    "executionInfo": {
     "elapsed": 464,
     "status": "ok",
     "timestamp": 1566775258635,
     "user": {
      "displayName": "Quipu AI",
      "photoUrl": "https://lh3.googleusercontent.com/a-/AAuE7mAqpYVhA94BaV-w3FInoujWFEsMitSVZR7MmvRW=s64",
      "userId": "00799183920318522678"
     },
     "user_tz": 300
    },
    "id": "UtTp1uOY_E_Z",
    "outputId": "059f2f85-c887-43d1-a462-64586273c67d"
   },
   "outputs": [
    {
     "data": {
      "text/plain": [
       "0     49\n",
       "1     62\n",
       "2     82\n",
       "3    100\n",
       "4     52\n",
       "5     64\n",
       "6     84\n",
       "7    130\n",
       "dtype: int64"
      ]
     },
     "execution_count": 38,
     "metadata": {
      "tags": []
     },
     "output_type": "execute_result"
    }
   ],
   "source": [
    "serie_pokemon.sort_index()"
   ]
  },
  {
   "cell_type": "markdown",
   "metadata": {
    "colab_type": "text",
    "id": "Fjw3v6p9_E_b"
   },
   "source": [
    "\n",
    "\n",
    "El método apply permite aplicar una función a todos los elementos de la serie."
   ]
  },
  {
   "cell_type": "code",
   "execution_count": 44,
   "metadata": {
    "colab": {
     "base_uri": "https://localhost:8080/",
     "height": 167
    },
    "colab_type": "code",
    "executionInfo": {
     "elapsed": 397,
     "status": "ok",
     "timestamp": 1566775408700,
     "user": {
      "displayName": "Quipu AI",
      "photoUrl": "https://lh3.googleusercontent.com/a-/AAuE7mAqpYVhA94BaV-w3FInoujWFEsMitSVZR7MmvRW=s64",
      "userId": "00799183920318522678"
     },
     "user_tz": 300
    },
    "id": "FodDFtHU_E_c",
    "outputId": "2e4fc40b-fd2e-46a9-eef0-4d15e65ffa73"
   },
   "outputs": [
    {
     "data": {
      "text/plain": [
       "0     58.8\n",
       "1     74.4\n",
       "2     98.4\n",
       "3    120.0\n",
       "4     62.4\n",
       "5     76.8\n",
       "6    100.8\n",
       "7    156.0\n",
       "dtype: float64"
      ]
     },
     "execution_count": 44,
     "metadata": {
      "tags": []
     },
     "output_type": "execute_result"
    }
   ],
   "source": [
    "serie_pokemon.apply(lambda x: x*1.20)"
   ]
  },
  {
   "cell_type": "markdown",
   "metadata": {
    "colab_type": "text",
    "id": "cg9swk22_E_h"
   },
   "source": [
    "\n",
    "\n",
    "---\n",
    "# Dataframes en Pandas\n",
    "\n",
    "## Creación de Dataframes\n",
    "\n",
    "A diferencia de `Series`, los `DataFrame` están diseñados para almacenar datos heterogéneos multivariables. Por ejemplo:"
   ]
  },
  {
   "cell_type": "code",
   "execution_count": 45,
   "metadata": {
    "colab": {
     "base_uri": "https://localhost:8080/",
     "height": 137
    },
    "colab_type": "code",
    "executionInfo": {
     "elapsed": 492,
     "status": "ok",
     "timestamp": 1566775602194,
     "user": {
      "displayName": "Quipu AI",
      "photoUrl": "https://lh3.googleusercontent.com/a-/AAuE7mAqpYVhA94BaV-w3FInoujWFEsMitSVZR7MmvRW=s64",
      "userId": "00799183920318522678"
     },
     "user_tz": 300
    },
    "id": "13Z0geYb_gBQ",
    "outputId": "15d138c5-ab7d-445f-e0e5-1b85a079f4d8"
   },
   "outputs": [
    {
     "data": {
      "text/html": [
       "<div>\n",
       "<style scoped>\n",
       "    .dataframe tbody tr th:only-of-type {\n",
       "        vertical-align: middle;\n",
       "    }\n",
       "\n",
       "    .dataframe tbody tr th {\n",
       "        vertical-align: top;\n",
       "    }\n",
       "\n",
       "    .dataframe thead th {\n",
       "        text-align: right;\n",
       "    }\n",
       "</style>\n",
       "<table border=\"1\" class=\"dataframe\">\n",
       "  <thead>\n",
       "    <tr style=\"text-align: right;\">\n",
       "      <th></th>\n",
       "      <th>0</th>\n",
       "      <th>1</th>\n",
       "      <th>2</th>\n",
       "      <th>3</th>\n",
       "      <th>4</th>\n",
       "    </tr>\n",
       "  </thead>\n",
       "  <tbody>\n",
       "    <tr>\n",
       "      <th>0</th>\n",
       "      <td>Ohio</td>\n",
       "      <td>Ohio</td>\n",
       "      <td>Ohio</td>\n",
       "      <td>Nevada</td>\n",
       "      <td>Nevada</td>\n",
       "    </tr>\n",
       "    <tr>\n",
       "      <th>1</th>\n",
       "      <td>2000</td>\n",
       "      <td>2001</td>\n",
       "      <td>2002</td>\n",
       "      <td>2001</td>\n",
       "      <td>2002</td>\n",
       "    </tr>\n",
       "    <tr>\n",
       "      <th>2</th>\n",
       "      <td>1.5</td>\n",
       "      <td>1.7</td>\n",
       "      <td>3.6</td>\n",
       "      <td>2.4</td>\n",
       "      <td>2.9</td>\n",
       "    </tr>\n",
       "  </tbody>\n",
       "</table>\n",
       "</div>"
      ],
      "text/plain": [
       "      0     1     2       3       4\n",
       "0  Ohio  Ohio  Ohio  Nevada  Nevada\n",
       "1  2000  2001  2002    2001    2002\n",
       "2   1.5   1.7   3.6     2.4     2.9"
      ]
     },
     "execution_count": 45,
     "metadata": {
      "tags": []
     },
     "output_type": "execute_result"
    }
   ],
   "source": [
    "data = pd.DataFrame([['Ohio', 'Ohio', 'Ohio', 'Nevada', 'Nevada'],\n",
    "                     [2000, 2001, 2002, 2001, 2002],\n",
    "                     [1.5, 1.7, 3.6, 2.4, 2.9]])\n",
    "data"
   ]
  },
  {
   "cell_type": "code",
   "execution_count": 46,
   "metadata": {
    "colab": {
     "base_uri": "https://localhost:8080/",
     "height": 196
    },
    "colab_type": "code",
    "executionInfo": {
     "elapsed": 470,
     "status": "ok",
     "timestamp": 1566775629093,
     "user": {
      "displayName": "Quipu AI",
      "photoUrl": "https://lh3.googleusercontent.com/a-/AAuE7mAqpYVhA94BaV-w3FInoujWFEsMitSVZR7MmvRW=s64",
      "userId": "00799183920318522678"
     },
     "user_tz": 300
    },
    "id": "kseAWGpo_gBT",
    "outputId": "39e71475-7830-406d-c6a1-b75abddb7adf"
   },
   "outputs": [
    {
     "data": {
      "text/html": [
       "<div>\n",
       "<style scoped>\n",
       "    .dataframe tbody tr th:only-of-type {\n",
       "        vertical-align: middle;\n",
       "    }\n",
       "\n",
       "    .dataframe tbody tr th {\n",
       "        vertical-align: top;\n",
       "    }\n",
       "\n",
       "    .dataframe thead th {\n",
       "        text-align: right;\n",
       "    }\n",
       "</style>\n",
       "<table border=\"1\" class=\"dataframe\">\n",
       "  <thead>\n",
       "    <tr style=\"text-align: right;\">\n",
       "      <th></th>\n",
       "      <th>state</th>\n",
       "      <th>year</th>\n",
       "      <th>pop</th>\n",
       "    </tr>\n",
       "  </thead>\n",
       "  <tbody>\n",
       "    <tr>\n",
       "      <th>0</th>\n",
       "      <td>Ohio</td>\n",
       "      <td>2000</td>\n",
       "      <td>1.5</td>\n",
       "    </tr>\n",
       "    <tr>\n",
       "      <th>1</th>\n",
       "      <td>Ohio</td>\n",
       "      <td>2001</td>\n",
       "      <td>1.7</td>\n",
       "    </tr>\n",
       "    <tr>\n",
       "      <th>2</th>\n",
       "      <td>Ohio</td>\n",
       "      <td>2002</td>\n",
       "      <td>3.6</td>\n",
       "    </tr>\n",
       "    <tr>\n",
       "      <th>3</th>\n",
       "      <td>Nevada</td>\n",
       "      <td>2001</td>\n",
       "      <td>2.4</td>\n",
       "    </tr>\n",
       "    <tr>\n",
       "      <th>4</th>\n",
       "      <td>Nevada</td>\n",
       "      <td>2002</td>\n",
       "      <td>2.9</td>\n",
       "    </tr>\n",
       "  </tbody>\n",
       "</table>\n",
       "</div>"
      ],
      "text/plain": [
       "    state  year  pop\n",
       "0    Ohio  2000  1.5\n",
       "1    Ohio  2001  1.7\n",
       "2    Ohio  2002  3.6\n",
       "3  Nevada  2001  2.4\n",
       "4  Nevada  2002  2.9"
      ]
     },
     "execution_count": 46,
     "metadata": {
      "tags": []
     },
     "output_type": "execute_result"
    }
   ],
   "source": [
    "data = pd.DataFrame(data=[['Ohio',2000,1.5],\n",
    "                          ['Ohio',2001,1.7],\n",
    "                          ['Ohio',2002,3.6],\n",
    "                          ['Nevada',2001,2.4],\n",
    "                          ['Nevada',2002,2.9]], columns=['state','year','pop'])\n",
    "data"
   ]
  },
  {
   "cell_type": "markdown",
   "metadata": {
    "colab_type": "text",
    "id": "JzKtzCsD_E_h"
   },
   "source": [
    "**A partir de un diccionario:**"
   ]
  },
  {
   "cell_type": "code",
   "execution_count": null,
   "metadata": {
    "colab": {
     "base_uri": "https://localhost:8080/",
     "height": 204
    },
    "colab_type": "code",
    "executionInfo": {
     "elapsed": 395,
     "status": "ok",
     "timestamp": 1560204782285,
     "user": {
      "displayName": "ROBERTO GARRIDO CASTILLO",
      "photoUrl": "",
      "userId": "04470298733388827087"
     },
     "user_tz": 300
    },
    "id": "mCDsL9Gh_E_h",
    "outputId": "6d1dc10f-8897-4a2c-e507-f53fc21bdf45"
   },
   "outputs": [
    {
     "data": {
      "text/html": [
       "<div>\n",
       "<style scoped>\n",
       "    .dataframe tbody tr th:only-of-type {\n",
       "        vertical-align: middle;\n",
       "    }\n",
       "\n",
       "    .dataframe tbody tr th {\n",
       "        vertical-align: top;\n",
       "    }\n",
       "\n",
       "    .dataframe thead th {\n",
       "        text-align: right;\n",
       "    }\n",
       "</style>\n",
       "<table border=\"1\" class=\"dataframe\">\n",
       "  <thead>\n",
       "    <tr style=\"text-align: right;\">\n",
       "      <th></th>\n",
       "      <th>state</th>\n",
       "      <th>year</th>\n",
       "      <th>pop</th>\n",
       "    </tr>\n",
       "  </thead>\n",
       "  <tbody>\n",
       "    <tr>\n",
       "      <th>0</th>\n",
       "      <td>Ohio</td>\n",
       "      <td>2000</td>\n",
       "      <td>1.5</td>\n",
       "    </tr>\n",
       "    <tr>\n",
       "      <th>1</th>\n",
       "      <td>Ohio</td>\n",
       "      <td>2001</td>\n",
       "      <td>1.7</td>\n",
       "    </tr>\n",
       "    <tr>\n",
       "      <th>2</th>\n",
       "      <td>Ohio</td>\n",
       "      <td>2002</td>\n",
       "      <td>3.6</td>\n",
       "    </tr>\n",
       "    <tr>\n",
       "      <th>3</th>\n",
       "      <td>Nevada</td>\n",
       "      <td>2001</td>\n",
       "      <td>2.4</td>\n",
       "    </tr>\n",
       "    <tr>\n",
       "      <th>4</th>\n",
       "      <td>Nevada</td>\n",
       "      <td>2002</td>\n",
       "      <td>2.9</td>\n",
       "    </tr>\n",
       "  </tbody>\n",
       "</table>\n",
       "</div>"
      ],
      "text/plain": [
       "    state  year  pop\n",
       "0    Ohio  2000  1.5\n",
       "1    Ohio  2001  1.7\n",
       "2    Ohio  2002  3.6\n",
       "3  Nevada  2001  2.4\n",
       "4  Nevada  2002  2.9"
      ]
     },
     "execution_count": 37,
     "metadata": {
      "tags": []
     },
     "output_type": "execute_result"
    }
   ],
   "source": [
    "data = {'state': ['Ohio', 'Ohio', 'Ohio', 'Nevada', 'Nevada'],\n",
    "        'year': [2000, 2001, 2002, 2001, 2002],\n",
    "        'pop': [1.5, 1.7, 3.6, 2.4, 2.9]}\n",
    "df = pd.DataFrame(data)\n",
    "df"
   ]
  },
  {
   "cell_type": "code",
   "execution_count": 51,
   "metadata": {
    "colab": {
     "base_uri": "https://localhost:8080/",
     "height": 198
    },
    "colab_type": "code",
    "executionInfo": {
     "elapsed": 420,
     "status": "ok",
     "timestamp": 1566775829732,
     "user": {
      "displayName": "Quipu AI",
      "photoUrl": "https://lh3.googleusercontent.com/a-/AAuE7mAqpYVhA94BaV-w3FInoujWFEsMitSVZR7MmvRW=s64",
      "userId": "00799183920318522678"
     },
     "user_tz": 300
    },
    "id": "ZEWpBqYUG8xT",
    "outputId": "7ff04f38-aabc-489f-f0fb-73b53760394f"
   },
   "outputs": [
    {
     "data": {
      "text/html": [
       "<div>\n",
       "<style scoped>\n",
       "    .dataframe tbody tr th:only-of-type {\n",
       "        vertical-align: middle;\n",
       "    }\n",
       "\n",
       "    .dataframe tbody tr th {\n",
       "        vertical-align: top;\n",
       "    }\n",
       "\n",
       "    .dataframe thead th {\n",
       "        text-align: right;\n",
       "    }\n",
       "</style>\n",
       "<table border=\"1\" class=\"dataframe\">\n",
       "  <thead>\n",
       "    <tr style=\"text-align: right;\">\n",
       "      <th></th>\n",
       "      <th>state</th>\n",
       "      <th>year</th>\n",
       "      <th>pop</th>\n",
       "    </tr>\n",
       "  </thead>\n",
       "  <tbody>\n",
       "    <tr>\n",
       "      <th>Keven</th>\n",
       "      <td>Ohio</td>\n",
       "      <td>2000</td>\n",
       "      <td>1.5</td>\n",
       "    </tr>\n",
       "    <tr>\n",
       "      <th>Angel</th>\n",
       "      <td>Ohio</td>\n",
       "      <td>2001</td>\n",
       "      <td>1.7</td>\n",
       "    </tr>\n",
       "    <tr>\n",
       "      <th>Nicol</th>\n",
       "      <td>Ohio</td>\n",
       "      <td>2002</td>\n",
       "      <td>3.6</td>\n",
       "    </tr>\n",
       "    <tr>\n",
       "      <th>Gaby</th>\n",
       "      <td>Nevada</td>\n",
       "      <td>2001</td>\n",
       "      <td>2.4</td>\n",
       "    </tr>\n",
       "    <tr>\n",
       "      <th>ABC</th>\n",
       "      <td>Nevada</td>\n",
       "      <td>2002</td>\n",
       "      <td>2.9</td>\n",
       "    </tr>\n",
       "  </tbody>\n",
       "</table>\n",
       "</div>"
      ],
      "text/plain": [
       "        state  year  pop\n",
       "Keven    Ohio  2000  1.5\n",
       "Angel    Ohio  2001  1.7\n",
       "Nicol    Ohio  2002  3.6\n",
       "Gaby   Nevada  2001  2.4\n",
       "ABC    Nevada  2002  2.9"
      ]
     },
     "execution_count": 51,
     "metadata": {
      "tags": []
     },
     "output_type": "execute_result"
    }
   ],
   "source": [
    "data = {'state': ['Ohio', 'Ohio', 'Ohio', 'Nevada', 'Nevada'],\n",
    "        'year': [2000, 2001, 2002, 2001, 2002],\n",
    "        'pop': [1.5, 1.7, 3.6, 2.4, 2.9]}\n",
    "\n",
    "df = pd.DataFrame(data , index=['Keven','Angel','Nicol', 'Gaby', 'ABC'])\n",
    "df"
   ]
  },
  {
   "cell_type": "markdown",
   "metadata": {
    "colab_type": "text",
    "id": "CdSNSoF3_gBf"
   },
   "source": [
    "## Lectura de datos"
   ]
  },
  {
   "cell_type": "code",
   "execution_count": null,
   "metadata": {
    "colab": {},
    "colab_type": "code",
    "id": "ieHStf6U_gBf"
   },
   "outputs": [],
   "source": [
    "#path = \"C:/Users/HP/Documents/Python_Scripts/QuipuAI/DSF01_Ago19_Py/Clase 4/datasets/\"\n",
    "\n",
    "path = ''"
   ]
  },
  {
   "cell_type": "code",
   "execution_count": 67,
   "metadata": {
    "colab": {
     "base_uri": "https://localhost:8080/",
     "height": 198
    },
    "colab_type": "code",
    "executionInfo": {
     "elapsed": 423,
     "status": "ok",
     "timestamp": 1566776701410,
     "user": {
      "displayName": "Quipu AI",
      "photoUrl": "https://lh3.googleusercontent.com/a-/AAuE7mAqpYVhA94BaV-w3FInoujWFEsMitSVZR7MmvRW=s64",
      "userId": "00799183920318522678"
     },
     "user_tz": 300
    },
    "id": "N3nSwNgj_gBh",
    "outputId": "78625336-72d7-4fcf-a0c6-ef50c2295d87"
   },
   "outputs": [
    {
     "data": {
      "text/html": [
       "<div>\n",
       "<style scoped>\n",
       "    .dataframe tbody tr th:only-of-type {\n",
       "        vertical-align: middle;\n",
       "    }\n",
       "\n",
       "    .dataframe tbody tr th {\n",
       "        vertical-align: top;\n",
       "    }\n",
       "\n",
       "    .dataframe thead th {\n",
       "        text-align: right;\n",
       "    }\n",
       "</style>\n",
       "<table border=\"1\" class=\"dataframe\">\n",
       "  <thead>\n",
       "    <tr style=\"text-align: right;\">\n",
       "      <th></th>\n",
       "      <th>Player</th>\n",
       "      <th>height</th>\n",
       "      <th>weight</th>\n",
       "      <th>collage</th>\n",
       "      <th>born</th>\n",
       "      <th>birth_city</th>\n",
       "      <th>birth_state</th>\n",
       "    </tr>\n",
       "  </thead>\n",
       "  <tbody>\n",
       "    <tr>\n",
       "      <th>0</th>\n",
       "      <td>Curly Armstrong</td>\n",
       "      <td>180.0</td>\n",
       "      <td>77.0</td>\n",
       "      <td>Indiana University</td>\n",
       "      <td>1918.0</td>\n",
       "      <td>NaN</td>\n",
       "      <td>NaN</td>\n",
       "    </tr>\n",
       "    <tr>\n",
       "      <th>1</th>\n",
       "      <td>Cliff Barker</td>\n",
       "      <td>188.0</td>\n",
       "      <td>83.0</td>\n",
       "      <td>University of Kentucky</td>\n",
       "      <td>1921.0</td>\n",
       "      <td>Yorktown</td>\n",
       "      <td>Indiana</td>\n",
       "    </tr>\n",
       "    <tr>\n",
       "      <th>2</th>\n",
       "      <td>Leo Barnhorst</td>\n",
       "      <td>193.0</td>\n",
       "      <td>86.0</td>\n",
       "      <td>University of Notre Dame</td>\n",
       "      <td>1924.0</td>\n",
       "      <td>NaN</td>\n",
       "      <td>NaN</td>\n",
       "    </tr>\n",
       "    <tr>\n",
       "      <th>3</th>\n",
       "      <td>Ed Bartels</td>\n",
       "      <td>196.0</td>\n",
       "      <td>88.0</td>\n",
       "      <td>North Carolina State University</td>\n",
       "      <td>1925.0</td>\n",
       "      <td>NaN</td>\n",
       "      <td>NaN</td>\n",
       "    </tr>\n",
       "    <tr>\n",
       "      <th>4</th>\n",
       "      <td>Ralph Beard</td>\n",
       "      <td>178.0</td>\n",
       "      <td>79.0</td>\n",
       "      <td>University of Kentucky</td>\n",
       "      <td>1927.0</td>\n",
       "      <td>Hardinsburg</td>\n",
       "      <td>Kentucky</td>\n",
       "    </tr>\n",
       "  </tbody>\n",
       "</table>\n",
       "</div>"
      ],
      "text/plain": [
       "            Player  height  weight  ...    born   birth_city birth_state\n",
       "0  Curly Armstrong   180.0    77.0  ...  1918.0          NaN         NaN\n",
       "1     Cliff Barker   188.0    83.0  ...  1921.0     Yorktown     Indiana\n",
       "2    Leo Barnhorst   193.0    86.0  ...  1924.0          NaN         NaN\n",
       "3       Ed Bartels   196.0    88.0  ...  1925.0          NaN         NaN\n",
       "4      Ralph Beard   178.0    79.0  ...  1927.0  Hardinsburg    Kentucky\n",
       "\n",
       "[5 rows x 7 columns]"
      ]
     },
     "execution_count": 67,
     "metadata": {
      "tags": []
     },
     "output_type": "execute_result"
    }
   ],
   "source": [
    "data_csv = pd.read_csv(path+'nba.csv', sep=',')\n",
    "data_csv.head()"
   ]
  },
  {
   "cell_type": "code",
   "execution_count": 63,
   "metadata": {
    "colab": {
     "base_uri": "https://localhost:8080/",
     "height": 198
    },
    "colab_type": "code",
    "executionInfo": {
     "elapsed": 443,
     "status": "ok",
     "timestamp": 1566776265449,
     "user": {
      "displayName": "Quipu AI",
      "photoUrl": "https://lh3.googleusercontent.com/a-/AAuE7mAqpYVhA94BaV-w3FInoujWFEsMitSVZR7MmvRW=s64",
      "userId": "00799183920318522678"
     },
     "user_tz": 300
    },
    "id": "dOLP8EVg_gBk",
    "outputId": "283e2376-933a-4f6d-e8c3-6e31f9da7de2"
   },
   "outputs": [
    {
     "data": {
      "text/html": [
       "<div>\n",
       "<style scoped>\n",
       "    .dataframe tbody tr th:only-of-type {\n",
       "        vertical-align: middle;\n",
       "    }\n",
       "\n",
       "    .dataframe tbody tr th {\n",
       "        vertical-align: top;\n",
       "    }\n",
       "\n",
       "    .dataframe thead th {\n",
       "        text-align: right;\n",
       "    }\n",
       "</style>\n",
       "<table border=\"1\" class=\"dataframe\">\n",
       "  <thead>\n",
       "    <tr style=\"text-align: right;\">\n",
       "      <th></th>\n",
       "      <th>Player</th>\n",
       "      <th>height</th>\n",
       "      <th>weight</th>\n",
       "      <th>collage</th>\n",
       "      <th>born</th>\n",
       "      <th>birth_city</th>\n",
       "      <th>birth_state</th>\n",
       "    </tr>\n",
       "  </thead>\n",
       "  <tbody>\n",
       "    <tr>\n",
       "      <th>0</th>\n",
       "      <td>Curly Armstrong</td>\n",
       "      <td>180.0</td>\n",
       "      <td>77.0</td>\n",
       "      <td>Indiana University</td>\n",
       "      <td>1918.0</td>\n",
       "      <td>NaN</td>\n",
       "      <td>NaN</td>\n",
       "    </tr>\n",
       "    <tr>\n",
       "      <th>1</th>\n",
       "      <td>Cliff Barker</td>\n",
       "      <td>188.0</td>\n",
       "      <td>83.0</td>\n",
       "      <td>University of Kentucky</td>\n",
       "      <td>1921.0</td>\n",
       "      <td>Yorktown</td>\n",
       "      <td>Indiana</td>\n",
       "    </tr>\n",
       "    <tr>\n",
       "      <th>2</th>\n",
       "      <td>Leo Barnhorst</td>\n",
       "      <td>193.0</td>\n",
       "      <td>86.0</td>\n",
       "      <td>University of Notre Dame</td>\n",
       "      <td>1924.0</td>\n",
       "      <td>NaN</td>\n",
       "      <td>NaN</td>\n",
       "    </tr>\n",
       "    <tr>\n",
       "      <th>3</th>\n",
       "      <td>Ed Bartels</td>\n",
       "      <td>196.0</td>\n",
       "      <td>88.0</td>\n",
       "      <td>North Carolina State University</td>\n",
       "      <td>1925.0</td>\n",
       "      <td>NaN</td>\n",
       "      <td>NaN</td>\n",
       "    </tr>\n",
       "    <tr>\n",
       "      <th>4</th>\n",
       "      <td>Ralph Beard</td>\n",
       "      <td>178.0</td>\n",
       "      <td>79.0</td>\n",
       "      <td>University of Kentucky</td>\n",
       "      <td>1927.0</td>\n",
       "      <td>Hardinsburg</td>\n",
       "      <td>Kentucky</td>\n",
       "    </tr>\n",
       "  </tbody>\n",
       "</table>\n",
       "</div>"
      ],
      "text/plain": [
       "            Player  height  weight  ...    born   birth_city birth_state\n",
       "0  Curly Armstrong   180.0    77.0  ...  1918.0          NaN         NaN\n",
       "1     Cliff Barker   188.0    83.0  ...  1921.0     Yorktown     Indiana\n",
       "2    Leo Barnhorst   193.0    86.0  ...  1924.0          NaN         NaN\n",
       "3       Ed Bartels   196.0    88.0  ...  1925.0          NaN         NaN\n",
       "4      Ralph Beard   178.0    79.0  ...  1927.0  Hardinsburg    Kentucky\n",
       "\n",
       "[5 rows x 7 columns]"
      ]
     },
     "execution_count": 63,
     "metadata": {
      "tags": []
     },
     "output_type": "execute_result"
    }
   ],
   "source": [
    "data_txt = pd.read_csv(path+'nba.txt')\n",
    "data_txt.head()"
   ]
  },
  {
   "cell_type": "code",
   "execution_count": 68,
   "metadata": {
    "colab": {
     "base_uri": "https://localhost:8080/",
     "height": 198
    },
    "colab_type": "code",
    "executionInfo": {
     "elapsed": 634,
     "status": "ok",
     "timestamp": 1566776720908,
     "user": {
      "displayName": "Quipu AI",
      "photoUrl": "https://lh3.googleusercontent.com/a-/AAuE7mAqpYVhA94BaV-w3FInoujWFEsMitSVZR7MmvRW=s64",
      "userId": "00799183920318522678"
     },
     "user_tz": 300
    },
    "id": "RG_b-WUj_gBn",
    "outputId": "5aeff3fa-768c-4cd8-d7a7-7675c120f611"
   },
   "outputs": [
    {
     "data": {
      "text/html": [
       "<div>\n",
       "<style scoped>\n",
       "    .dataframe tbody tr th:only-of-type {\n",
       "        vertical-align: middle;\n",
       "    }\n",
       "\n",
       "    .dataframe tbody tr th {\n",
       "        vertical-align: top;\n",
       "    }\n",
       "\n",
       "    .dataframe thead th {\n",
       "        text-align: right;\n",
       "    }\n",
       "</style>\n",
       "<table border=\"1\" class=\"dataframe\">\n",
       "  <thead>\n",
       "    <tr style=\"text-align: right;\">\n",
       "      <th></th>\n",
       "      <th>Player</th>\n",
       "      <th>height</th>\n",
       "      <th>weight</th>\n",
       "      <th>collage</th>\n",
       "      <th>born</th>\n",
       "      <th>birth_city</th>\n",
       "      <th>birth_state</th>\n",
       "    </tr>\n",
       "  </thead>\n",
       "  <tbody>\n",
       "    <tr>\n",
       "      <th>0</th>\n",
       "      <td>Curly Armstrong</td>\n",
       "      <td>180.0</td>\n",
       "      <td>77.0</td>\n",
       "      <td>Indiana University</td>\n",
       "      <td>1918.0</td>\n",
       "      <td>NaN</td>\n",
       "      <td>NaN</td>\n",
       "    </tr>\n",
       "    <tr>\n",
       "      <th>1</th>\n",
       "      <td>Cliff Barker</td>\n",
       "      <td>188.0</td>\n",
       "      <td>83.0</td>\n",
       "      <td>University of Kentucky</td>\n",
       "      <td>1921.0</td>\n",
       "      <td>Yorktown</td>\n",
       "      <td>Indiana</td>\n",
       "    </tr>\n",
       "    <tr>\n",
       "      <th>2</th>\n",
       "      <td>Leo Barnhorst</td>\n",
       "      <td>193.0</td>\n",
       "      <td>86.0</td>\n",
       "      <td>University of Notre Dame</td>\n",
       "      <td>1924.0</td>\n",
       "      <td>NaN</td>\n",
       "      <td>NaN</td>\n",
       "    </tr>\n",
       "    <tr>\n",
       "      <th>3</th>\n",
       "      <td>Ed Bartels</td>\n",
       "      <td>196.0</td>\n",
       "      <td>88.0</td>\n",
       "      <td>North Carolina State University</td>\n",
       "      <td>1925.0</td>\n",
       "      <td>NaN</td>\n",
       "      <td>NaN</td>\n",
       "    </tr>\n",
       "    <tr>\n",
       "      <th>4</th>\n",
       "      <td>Ralph Beard</td>\n",
       "      <td>178.0</td>\n",
       "      <td>79.0</td>\n",
       "      <td>University of Kentucky</td>\n",
       "      <td>1927.0</td>\n",
       "      <td>Hardinsburg</td>\n",
       "      <td>Kentucky</td>\n",
       "    </tr>\n",
       "  </tbody>\n",
       "</table>\n",
       "</div>"
      ],
      "text/plain": [
       "            Player  height  weight  ...    born   birth_city birth_state\n",
       "0  Curly Armstrong   180.0    77.0  ...  1918.0          NaN         NaN\n",
       "1     Cliff Barker   188.0    83.0  ...  1921.0     Yorktown     Indiana\n",
       "2    Leo Barnhorst   193.0    86.0  ...  1924.0          NaN         NaN\n",
       "3       Ed Bartels   196.0    88.0  ...  1925.0          NaN         NaN\n",
       "4      Ralph Beard   178.0    79.0  ...  1927.0  Hardinsburg    Kentucky\n",
       "\n",
       "[5 rows x 7 columns]"
      ]
     },
     "execution_count": 68,
     "metadata": {
      "tags": []
     },
     "output_type": "execute_result"
    }
   ],
   "source": [
    "data_excel = pd.read_excel(path+'nba.xlsx', sheet_name='nba')\n",
    "data_excel.head()"
   ]
  },
  {
   "cell_type": "markdown",
   "metadata": {
    "colab_type": "text",
    "id": "o2TVy99w_E_z"
   },
   "source": [
    "\n",
    "\n",
    "Se pueden consultar el nombre de las variables usando el atributo `columns`"
   ]
  },
  {
   "cell_type": "code",
   "execution_count": null,
   "metadata": {
    "colab": {},
    "colab_type": "code",
    "id": "NCHYZ55DK7It"
   },
   "outputs": [],
   "source": [
    "data = data_csv.copy()"
   ]
  },
  {
   "cell_type": "code",
   "execution_count": 71,
   "metadata": {
    "colab": {
     "base_uri": "https://localhost:8080/",
     "height": 69
    },
    "colab_type": "code",
    "executionInfo": {
     "elapsed": 542,
     "status": "ok",
     "timestamp": 1566776749204,
     "user": {
      "displayName": "Quipu AI",
      "photoUrl": "https://lh3.googleusercontent.com/a-/AAuE7mAqpYVhA94BaV-w3FInoujWFEsMitSVZR7MmvRW=s64",
      "userId": "00799183920318522678"
     },
     "user_tz": 300
    },
    "id": "x-1L8Ikn_E_0",
    "outputId": "eda5e272-b0e0-4533-ca80-248c36964b6e"
   },
   "outputs": [
    {
     "data": {
      "text/plain": [
       "Index(['Player', 'height', 'weight', 'collage', 'born', 'birth_city',\n",
       "       'birth_state'],\n",
       "      dtype='object')"
      ]
     },
     "execution_count": 71,
     "metadata": {
      "tags": []
     },
     "output_type": "execute_result"
    }
   ],
   "source": [
    "data.columns"
   ]
  },
  {
   "cell_type": "markdown",
   "metadata": {
    "colab_type": "text",
    "id": "5Xz24mTm_E_1"
   },
   "source": [
    "\n",
    "\n",
    "\n",
    "Adicionalemnte `Pandas` permite crear Dataframes a partir de otras fuentes, como son jsons, urls..."
   ]
  },
  {
   "cell_type": "code",
   "execution_count": 72,
   "metadata": {
    "colab": {
     "base_uri": "https://localhost:8080/",
     "height": 34
    },
    "colab_type": "code",
    "executionInfo": {
     "elapsed": 552,
     "status": "ok",
     "timestamp": 1566776764864,
     "user": {
      "displayName": "Quipu AI",
      "photoUrl": "https://lh3.googleusercontent.com/a-/AAuE7mAqpYVhA94BaV-w3FInoujWFEsMitSVZR7MmvRW=s64",
      "userId": "00799183920318522678"
     },
     "user_tz": 300
    },
    "id": "WZiB8k-f_gBu",
    "outputId": "5e044f0d-0431-42dd-8f9d-78b1fbb2d320"
   },
   "outputs": [
    {
     "data": {
      "text/plain": [
       "RangeIndex(start=0, stop=3922, step=1)"
      ]
     },
     "execution_count": 72,
     "metadata": {
      "tags": []
     },
     "output_type": "execute_result"
    }
   ],
   "source": [
    "data.index # indice de las filas o registros"
   ]
  },
  {
   "cell_type": "markdown",
   "metadata": {
    "colab_type": "text",
    "id": "hUSf5dm1_E_2"
   },
   "source": [
    "\n",
    "\n",
    "---\n",
    "## Selección de datos en Dataframes\n"
   ]
  },
  {
   "cell_type": "markdown",
   "metadata": {
    "colab_type": "text",
    "id": "njRdkDlU_E_2"
   },
   "source": [
    "\n",
    "\n",
    "Se pueden extraer columnas de un `DataFrame` con la etiqueta de la columna (sólo si es un identificador Python válido)  usando notación tipo diccionario o como atributo del objeto. En ambos casos se obtiene un objeto tipo `Series`."
   ]
  },
  {
   "cell_type": "code",
   "execution_count": 76,
   "metadata": {
    "colab": {
     "base_uri": "https://localhost:8080/",
     "height": 198
    },
    "colab_type": "code",
    "executionInfo": {
     "elapsed": 415,
     "status": "ok",
     "timestamp": 1566776955542,
     "user": {
      "displayName": "Quipu AI",
      "photoUrl": "https://lh3.googleusercontent.com/a-/AAuE7mAqpYVhA94BaV-w3FInoujWFEsMitSVZR7MmvRW=s64",
      "userId": "00799183920318522678"
     },
     "user_tz": 300
    },
    "id": "qnKZaFE4_gBx",
    "outputId": "6d6aeb94-1197-4f7f-f863-fd923b5a623d"
   },
   "outputs": [
    {
     "data": {
      "text/html": [
       "<div>\n",
       "<style scoped>\n",
       "    .dataframe tbody tr th:only-of-type {\n",
       "        vertical-align: middle;\n",
       "    }\n",
       "\n",
       "    .dataframe tbody tr th {\n",
       "        vertical-align: top;\n",
       "    }\n",
       "\n",
       "    .dataframe thead th {\n",
       "        text-align: right;\n",
       "    }\n",
       "</style>\n",
       "<table border=\"1\" class=\"dataframe\">\n",
       "  <thead>\n",
       "    <tr style=\"text-align: right;\">\n",
       "      <th></th>\n",
       "      <th>Player</th>\n",
       "      <th>height</th>\n",
       "      <th>weight</th>\n",
       "      <th>collage</th>\n",
       "      <th>born</th>\n",
       "      <th>birth_city</th>\n",
       "      <th>birth_state</th>\n",
       "    </tr>\n",
       "  </thead>\n",
       "  <tbody>\n",
       "    <tr>\n",
       "      <th>0</th>\n",
       "      <td>Curly Armstrong</td>\n",
       "      <td>180.0</td>\n",
       "      <td>77.0</td>\n",
       "      <td>Indiana University</td>\n",
       "      <td>1918.0</td>\n",
       "      <td>NaN</td>\n",
       "      <td>NaN</td>\n",
       "    </tr>\n",
       "    <tr>\n",
       "      <th>1</th>\n",
       "      <td>Cliff Barker</td>\n",
       "      <td>188.0</td>\n",
       "      <td>83.0</td>\n",
       "      <td>University of Kentucky</td>\n",
       "      <td>1921.0</td>\n",
       "      <td>Yorktown</td>\n",
       "      <td>Indiana</td>\n",
       "    </tr>\n",
       "    <tr>\n",
       "      <th>2</th>\n",
       "      <td>Leo Barnhorst</td>\n",
       "      <td>193.0</td>\n",
       "      <td>86.0</td>\n",
       "      <td>University of Notre Dame</td>\n",
       "      <td>1924.0</td>\n",
       "      <td>NaN</td>\n",
       "      <td>NaN</td>\n",
       "    </tr>\n",
       "    <tr>\n",
       "      <th>3</th>\n",
       "      <td>Ed Bartels</td>\n",
       "      <td>196.0</td>\n",
       "      <td>88.0</td>\n",
       "      <td>North Carolina State University</td>\n",
       "      <td>1925.0</td>\n",
       "      <td>NaN</td>\n",
       "      <td>NaN</td>\n",
       "    </tr>\n",
       "    <tr>\n",
       "      <th>4</th>\n",
       "      <td>Ralph Beard</td>\n",
       "      <td>178.0</td>\n",
       "      <td>79.0</td>\n",
       "      <td>University of Kentucky</td>\n",
       "      <td>1927.0</td>\n",
       "      <td>Hardinsburg</td>\n",
       "      <td>Kentucky</td>\n",
       "    </tr>\n",
       "  </tbody>\n",
       "</table>\n",
       "</div>"
      ],
      "text/plain": [
       "            Player  height  weight  ...    born   birth_city birth_state\n",
       "0  Curly Armstrong   180.0    77.0  ...  1918.0          NaN         NaN\n",
       "1     Cliff Barker   188.0    83.0  ...  1921.0     Yorktown     Indiana\n",
       "2    Leo Barnhorst   193.0    86.0  ...  1924.0          NaN         NaN\n",
       "3       Ed Bartels   196.0    88.0  ...  1925.0          NaN         NaN\n",
       "4      Ralph Beard   178.0    79.0  ...  1927.0  Hardinsburg    Kentucky\n",
       "\n",
       "[5 rows x 7 columns]"
      ]
     },
     "execution_count": 76,
     "metadata": {
      "tags": []
     },
     "output_type": "execute_result"
    }
   ],
   "source": [
    "nba = pd.read_csv('nba.csv')\n",
    "nba.head()"
   ]
  },
  {
   "cell_type": "code",
   "execution_count": 77,
   "metadata": {
    "colab": {
     "base_uri": "https://localhost:8080/",
     "height": 1000
    },
    "colab_type": "code",
    "executionInfo": {
     "elapsed": 454,
     "status": "ok",
     "timestamp": 1566776962530,
     "user": {
      "displayName": "Quipu AI",
      "photoUrl": "https://lh3.googleusercontent.com/a-/AAuE7mAqpYVhA94BaV-w3FInoujWFEsMitSVZR7MmvRW=s64",
      "userId": "00799183920318522678"
     },
     "user_tz": 300
    },
    "id": "L92JDqnw_E_3",
    "outputId": "16c18f4e-3d42-41cd-f6bf-285847efc45d"
   },
   "outputs": [
    {
     "data": {
      "text/plain": [
       "0             Curly Armstrong\n",
       "1                Cliff Barker\n",
       "2               Leo Barnhorst\n",
       "3                  Ed Bartels\n",
       "4                 Ralph Beard\n",
       "5                  Gene Berce\n",
       "6               Charlie Black\n",
       "7                 Nelson Bobb\n",
       "8             Jake Bornheimer\n",
       "9                Vince Boryla\n",
       "10                  Don Boven\n",
       "11              Harry Boykoff\n",
       "12                Joe Bradley\n",
       "13                Bob Brannum\n",
       "14                 Carl Braun\n",
       "15              Frankie Brian\n",
       "16           Price Brookfield\n",
       "17                  Bob Brown\n",
       "18                 Jim Browne\n",
       "19                 Walt Budko\n",
       "20             Jack Burmaster\n",
       "21               Tommy Byrnes\n",
       "22               Bill Calhoun\n",
       "23                Don Carlson\n",
       "24              Bob Carpenter\n",
       "25                Jake Carter\n",
       "26                  Al Cervi*\n",
       "27                John Chaney\n",
       "28              Leroy Chollet\n",
       "29                 Bill Closs\n",
       "                ...          \n",
       "3892           Chinanu Onuaku\n",
       "3893     Georgios Papagiannis\n",
       "3894              Gary Payton\n",
       "3895         Marshall Plumlee\n",
       "3896             Jakob Poeltl\n",
       "3897           Alex Poythress\n",
       "3898           Tim Quarterman\n",
       "3899           Chasson Randle\n",
       "3900       Malachi Richardson\n",
       "3901         Domantas Sabonis\n",
       "3902              Dario Saric\n",
       "3903         Tomas Satoransky\n",
       "3904             Wayne Selden\n",
       "3905            Pascal Siakam\n",
       "3906            Diamond Stone\n",
       "3907              Edy Tavares\n",
       "3908            Isaiah Taylor\n",
       "3909               Mike Tobey\n",
       "3910               Tyler Ulis\n",
       "3911            Jarrod Uthoff\n",
       "3912         Denzel Valentine\n",
       "3913            Fred VanVleet\n",
       "3914    Taurean Waller-Prince\n",
       "3915              Okaro White\n",
       "3916         Isaiah Whitehead\n",
       "3917            Troy Williams\n",
       "3918             Kyle Wiltjer\n",
       "3919        Stephen Zimmerman\n",
       "3920              Paul Zipser\n",
       "3921              Ivica Zubac\n",
       "Name: Player, Length: 3922, dtype: object"
      ]
     },
     "execution_count": 77,
     "metadata": {
      "tags": []
     },
     "output_type": "execute_result"
    }
   ],
   "source": [
    "nba['Player']  # dict type"
   ]
  },
  {
   "cell_type": "code",
   "execution_count": 78,
   "metadata": {
    "colab": {
     "base_uri": "https://localhost:8080/",
     "height": 1000
    },
    "colab_type": "code",
    "executionInfo": {
     "elapsed": 468,
     "status": "ok",
     "timestamp": 1566776995085,
     "user": {
      "displayName": "Quipu AI",
      "photoUrl": "https://lh3.googleusercontent.com/a-/AAuE7mAqpYVhA94BaV-w3FInoujWFEsMitSVZR7MmvRW=s64",
      "userId": "00799183920318522678"
     },
     "user_tz": 300
    },
    "id": "D3k33m9t_E_4",
    "outputId": "36060cd9-d3f4-4c40-9d2b-4c176ba18730"
   },
   "outputs": [
    {
     "data": {
      "text/plain": [
       "0             Curly Armstrong\n",
       "1                Cliff Barker\n",
       "2               Leo Barnhorst\n",
       "3                  Ed Bartels\n",
       "4                 Ralph Beard\n",
       "5                  Gene Berce\n",
       "6               Charlie Black\n",
       "7                 Nelson Bobb\n",
       "8             Jake Bornheimer\n",
       "9                Vince Boryla\n",
       "10                  Don Boven\n",
       "11              Harry Boykoff\n",
       "12                Joe Bradley\n",
       "13                Bob Brannum\n",
       "14                 Carl Braun\n",
       "15              Frankie Brian\n",
       "16           Price Brookfield\n",
       "17                  Bob Brown\n",
       "18                 Jim Browne\n",
       "19                 Walt Budko\n",
       "20             Jack Burmaster\n",
       "21               Tommy Byrnes\n",
       "22               Bill Calhoun\n",
       "23                Don Carlson\n",
       "24              Bob Carpenter\n",
       "25                Jake Carter\n",
       "26                  Al Cervi*\n",
       "27                John Chaney\n",
       "28              Leroy Chollet\n",
       "29                 Bill Closs\n",
       "                ...          \n",
       "3892           Chinanu Onuaku\n",
       "3893     Georgios Papagiannis\n",
       "3894              Gary Payton\n",
       "3895         Marshall Plumlee\n",
       "3896             Jakob Poeltl\n",
       "3897           Alex Poythress\n",
       "3898           Tim Quarterman\n",
       "3899           Chasson Randle\n",
       "3900       Malachi Richardson\n",
       "3901         Domantas Sabonis\n",
       "3902              Dario Saric\n",
       "3903         Tomas Satoransky\n",
       "3904             Wayne Selden\n",
       "3905            Pascal Siakam\n",
       "3906            Diamond Stone\n",
       "3907              Edy Tavares\n",
       "3908            Isaiah Taylor\n",
       "3909               Mike Tobey\n",
       "3910               Tyler Ulis\n",
       "3911            Jarrod Uthoff\n",
       "3912         Denzel Valentine\n",
       "3913            Fred VanVleet\n",
       "3914    Taurean Waller-Prince\n",
       "3915              Okaro White\n",
       "3916         Isaiah Whitehead\n",
       "3917            Troy Williams\n",
       "3918             Kyle Wiltjer\n",
       "3919        Stephen Zimmerman\n",
       "3920              Paul Zipser\n",
       "3921              Ivica Zubac\n",
       "Name: Player, Length: 3922, dtype: object"
      ]
     },
     "execution_count": 78,
     "metadata": {
      "tags": []
     },
     "output_type": "execute_result"
    }
   ],
   "source": [
    "nba.Player  # attribute type"
   ]
  },
  {
   "cell_type": "markdown",
   "metadata": {
    "colab_type": "text",
    "id": "x2dKLtFT_E_5"
   },
   "source": [
    "**Y si quiero obtener en vez de una serie, un sub-dataframe??**\n",
    "\n",
    "Mediante la notación de dobles [] obtenemos un Dataframe en lugar de una Serie"
   ]
  },
  {
   "cell_type": "code",
   "execution_count": 79,
   "metadata": {
    "colab": {
     "base_uri": "https://localhost:8080/",
     "height": 1000
    },
    "colab_type": "code",
    "executionInfo": {
     "elapsed": 435,
     "status": "ok",
     "timestamp": 1566777085543,
     "user": {
      "displayName": "Quipu AI",
      "photoUrl": "https://lh3.googleusercontent.com/a-/AAuE7mAqpYVhA94BaV-w3FInoujWFEsMitSVZR7MmvRW=s64",
      "userId": "00799183920318522678"
     },
     "user_tz": 300
    },
    "id": "s2yCb6bG_E_6",
    "outputId": "275b2ce3-e929-4e61-bf4b-c7e90eef6df6"
   },
   "outputs": [
    {
     "data": {
      "text/html": [
       "<div>\n",
       "<style scoped>\n",
       "    .dataframe tbody tr th:only-of-type {\n",
       "        vertical-align: middle;\n",
       "    }\n",
       "\n",
       "    .dataframe tbody tr th {\n",
       "        vertical-align: top;\n",
       "    }\n",
       "\n",
       "    .dataframe thead th {\n",
       "        text-align: right;\n",
       "    }\n",
       "</style>\n",
       "<table border=\"1\" class=\"dataframe\">\n",
       "  <thead>\n",
       "    <tr style=\"text-align: right;\">\n",
       "      <th></th>\n",
       "      <th>Player</th>\n",
       "    </tr>\n",
       "  </thead>\n",
       "  <tbody>\n",
       "    <tr>\n",
       "      <th>0</th>\n",
       "      <td>Curly Armstrong</td>\n",
       "    </tr>\n",
       "    <tr>\n",
       "      <th>1</th>\n",
       "      <td>Cliff Barker</td>\n",
       "    </tr>\n",
       "    <tr>\n",
       "      <th>2</th>\n",
       "      <td>Leo Barnhorst</td>\n",
       "    </tr>\n",
       "    <tr>\n",
       "      <th>3</th>\n",
       "      <td>Ed Bartels</td>\n",
       "    </tr>\n",
       "    <tr>\n",
       "      <th>4</th>\n",
       "      <td>Ralph Beard</td>\n",
       "    </tr>\n",
       "    <tr>\n",
       "      <th>5</th>\n",
       "      <td>Gene Berce</td>\n",
       "    </tr>\n",
       "    <tr>\n",
       "      <th>6</th>\n",
       "      <td>Charlie Black</td>\n",
       "    </tr>\n",
       "    <tr>\n",
       "      <th>7</th>\n",
       "      <td>Nelson Bobb</td>\n",
       "    </tr>\n",
       "    <tr>\n",
       "      <th>8</th>\n",
       "      <td>Jake Bornheimer</td>\n",
       "    </tr>\n",
       "    <tr>\n",
       "      <th>9</th>\n",
       "      <td>Vince Boryla</td>\n",
       "    </tr>\n",
       "    <tr>\n",
       "      <th>10</th>\n",
       "      <td>Don Boven</td>\n",
       "    </tr>\n",
       "    <tr>\n",
       "      <th>11</th>\n",
       "      <td>Harry Boykoff</td>\n",
       "    </tr>\n",
       "    <tr>\n",
       "      <th>12</th>\n",
       "      <td>Joe Bradley</td>\n",
       "    </tr>\n",
       "    <tr>\n",
       "      <th>13</th>\n",
       "      <td>Bob Brannum</td>\n",
       "    </tr>\n",
       "    <tr>\n",
       "      <th>14</th>\n",
       "      <td>Carl Braun</td>\n",
       "    </tr>\n",
       "    <tr>\n",
       "      <th>15</th>\n",
       "      <td>Frankie Brian</td>\n",
       "    </tr>\n",
       "    <tr>\n",
       "      <th>16</th>\n",
       "      <td>Price Brookfield</td>\n",
       "    </tr>\n",
       "    <tr>\n",
       "      <th>17</th>\n",
       "      <td>Bob Brown</td>\n",
       "    </tr>\n",
       "    <tr>\n",
       "      <th>18</th>\n",
       "      <td>Jim Browne</td>\n",
       "    </tr>\n",
       "    <tr>\n",
       "      <th>19</th>\n",
       "      <td>Walt Budko</td>\n",
       "    </tr>\n",
       "    <tr>\n",
       "      <th>20</th>\n",
       "      <td>Jack Burmaster</td>\n",
       "    </tr>\n",
       "    <tr>\n",
       "      <th>21</th>\n",
       "      <td>Tommy Byrnes</td>\n",
       "    </tr>\n",
       "    <tr>\n",
       "      <th>22</th>\n",
       "      <td>Bill Calhoun</td>\n",
       "    </tr>\n",
       "    <tr>\n",
       "      <th>23</th>\n",
       "      <td>Don Carlson</td>\n",
       "    </tr>\n",
       "    <tr>\n",
       "      <th>24</th>\n",
       "      <td>Bob Carpenter</td>\n",
       "    </tr>\n",
       "    <tr>\n",
       "      <th>25</th>\n",
       "      <td>Jake Carter</td>\n",
       "    </tr>\n",
       "    <tr>\n",
       "      <th>26</th>\n",
       "      <td>Al Cervi*</td>\n",
       "    </tr>\n",
       "    <tr>\n",
       "      <th>27</th>\n",
       "      <td>John Chaney</td>\n",
       "    </tr>\n",
       "    <tr>\n",
       "      <th>28</th>\n",
       "      <td>Leroy Chollet</td>\n",
       "    </tr>\n",
       "    <tr>\n",
       "      <th>29</th>\n",
       "      <td>Bill Closs</td>\n",
       "    </tr>\n",
       "    <tr>\n",
       "      <th>...</th>\n",
       "      <td>...</td>\n",
       "    </tr>\n",
       "    <tr>\n",
       "      <th>3892</th>\n",
       "      <td>Chinanu Onuaku</td>\n",
       "    </tr>\n",
       "    <tr>\n",
       "      <th>3893</th>\n",
       "      <td>Georgios Papagiannis</td>\n",
       "    </tr>\n",
       "    <tr>\n",
       "      <th>3894</th>\n",
       "      <td>Gary Payton</td>\n",
       "    </tr>\n",
       "    <tr>\n",
       "      <th>3895</th>\n",
       "      <td>Marshall Plumlee</td>\n",
       "    </tr>\n",
       "    <tr>\n",
       "      <th>3896</th>\n",
       "      <td>Jakob Poeltl</td>\n",
       "    </tr>\n",
       "    <tr>\n",
       "      <th>3897</th>\n",
       "      <td>Alex Poythress</td>\n",
       "    </tr>\n",
       "    <tr>\n",
       "      <th>3898</th>\n",
       "      <td>Tim Quarterman</td>\n",
       "    </tr>\n",
       "    <tr>\n",
       "      <th>3899</th>\n",
       "      <td>Chasson Randle</td>\n",
       "    </tr>\n",
       "    <tr>\n",
       "      <th>3900</th>\n",
       "      <td>Malachi Richardson</td>\n",
       "    </tr>\n",
       "    <tr>\n",
       "      <th>3901</th>\n",
       "      <td>Domantas Sabonis</td>\n",
       "    </tr>\n",
       "    <tr>\n",
       "      <th>3902</th>\n",
       "      <td>Dario Saric</td>\n",
       "    </tr>\n",
       "    <tr>\n",
       "      <th>3903</th>\n",
       "      <td>Tomas Satoransky</td>\n",
       "    </tr>\n",
       "    <tr>\n",
       "      <th>3904</th>\n",
       "      <td>Wayne Selden</td>\n",
       "    </tr>\n",
       "    <tr>\n",
       "      <th>3905</th>\n",
       "      <td>Pascal Siakam</td>\n",
       "    </tr>\n",
       "    <tr>\n",
       "      <th>3906</th>\n",
       "      <td>Diamond Stone</td>\n",
       "    </tr>\n",
       "    <tr>\n",
       "      <th>3907</th>\n",
       "      <td>Edy Tavares</td>\n",
       "    </tr>\n",
       "    <tr>\n",
       "      <th>3908</th>\n",
       "      <td>Isaiah Taylor</td>\n",
       "    </tr>\n",
       "    <tr>\n",
       "      <th>3909</th>\n",
       "      <td>Mike Tobey</td>\n",
       "    </tr>\n",
       "    <tr>\n",
       "      <th>3910</th>\n",
       "      <td>Tyler Ulis</td>\n",
       "    </tr>\n",
       "    <tr>\n",
       "      <th>3911</th>\n",
       "      <td>Jarrod Uthoff</td>\n",
       "    </tr>\n",
       "    <tr>\n",
       "      <th>3912</th>\n",
       "      <td>Denzel Valentine</td>\n",
       "    </tr>\n",
       "    <tr>\n",
       "      <th>3913</th>\n",
       "      <td>Fred VanVleet</td>\n",
       "    </tr>\n",
       "    <tr>\n",
       "      <th>3914</th>\n",
       "      <td>Taurean Waller-Prince</td>\n",
       "    </tr>\n",
       "    <tr>\n",
       "      <th>3915</th>\n",
       "      <td>Okaro White</td>\n",
       "    </tr>\n",
       "    <tr>\n",
       "      <th>3916</th>\n",
       "      <td>Isaiah Whitehead</td>\n",
       "    </tr>\n",
       "    <tr>\n",
       "      <th>3917</th>\n",
       "      <td>Troy Williams</td>\n",
       "    </tr>\n",
       "    <tr>\n",
       "      <th>3918</th>\n",
       "      <td>Kyle Wiltjer</td>\n",
       "    </tr>\n",
       "    <tr>\n",
       "      <th>3919</th>\n",
       "      <td>Stephen Zimmerman</td>\n",
       "    </tr>\n",
       "    <tr>\n",
       "      <th>3920</th>\n",
       "      <td>Paul Zipser</td>\n",
       "    </tr>\n",
       "    <tr>\n",
       "      <th>3921</th>\n",
       "      <td>Ivica Zubac</td>\n",
       "    </tr>\n",
       "  </tbody>\n",
       "</table>\n",
       "<p>3922 rows × 1 columns</p>\n",
       "</div>"
      ],
      "text/plain": [
       "                     Player\n",
       "0           Curly Armstrong\n",
       "1              Cliff Barker\n",
       "2             Leo Barnhorst\n",
       "3                Ed Bartels\n",
       "4               Ralph Beard\n",
       "5                Gene Berce\n",
       "6             Charlie Black\n",
       "7               Nelson Bobb\n",
       "8           Jake Bornheimer\n",
       "9              Vince Boryla\n",
       "10                Don Boven\n",
       "11            Harry Boykoff\n",
       "12              Joe Bradley\n",
       "13              Bob Brannum\n",
       "14               Carl Braun\n",
       "15            Frankie Brian\n",
       "16         Price Brookfield\n",
       "17                Bob Brown\n",
       "18               Jim Browne\n",
       "19               Walt Budko\n",
       "20           Jack Burmaster\n",
       "21             Tommy Byrnes\n",
       "22             Bill Calhoun\n",
       "23              Don Carlson\n",
       "24            Bob Carpenter\n",
       "25              Jake Carter\n",
       "26                Al Cervi*\n",
       "27              John Chaney\n",
       "28            Leroy Chollet\n",
       "29               Bill Closs\n",
       "...                     ...\n",
       "3892         Chinanu Onuaku\n",
       "3893   Georgios Papagiannis\n",
       "3894            Gary Payton\n",
       "3895       Marshall Plumlee\n",
       "3896           Jakob Poeltl\n",
       "3897         Alex Poythress\n",
       "3898         Tim Quarterman\n",
       "3899         Chasson Randle\n",
       "3900     Malachi Richardson\n",
       "3901       Domantas Sabonis\n",
       "3902            Dario Saric\n",
       "3903       Tomas Satoransky\n",
       "3904           Wayne Selden\n",
       "3905          Pascal Siakam\n",
       "3906          Diamond Stone\n",
       "3907            Edy Tavares\n",
       "3908          Isaiah Taylor\n",
       "3909             Mike Tobey\n",
       "3910             Tyler Ulis\n",
       "3911          Jarrod Uthoff\n",
       "3912       Denzel Valentine\n",
       "3913          Fred VanVleet\n",
       "3914  Taurean Waller-Prince\n",
       "3915            Okaro White\n",
       "3916       Isaiah Whitehead\n",
       "3917          Troy Williams\n",
       "3918           Kyle Wiltjer\n",
       "3919      Stephen Zimmerman\n",
       "3920            Paul Zipser\n",
       "3921            Ivica Zubac\n",
       "\n",
       "[3922 rows x 1 columns]"
      ]
     },
     "execution_count": 79,
     "metadata": {
      "tags": []
     },
     "output_type": "execute_result"
    }
   ],
   "source": [
    "nba[['Player']]"
   ]
  },
  {
   "cell_type": "code",
   "execution_count": 80,
   "metadata": {
    "colab": {
     "base_uri": "https://localhost:8080/",
     "height": 69
    },
    "colab_type": "code",
    "executionInfo": {
     "elapsed": 449,
     "status": "ok",
     "timestamp": 1566777103240,
     "user": {
      "displayName": "Quipu AI",
      "photoUrl": "https://lh3.googleusercontent.com/a-/AAuE7mAqpYVhA94BaV-w3FInoujWFEsMitSVZR7MmvRW=s64",
      "userId": "00799183920318522678"
     },
     "user_tz": 300
    },
    "id": "mavuyoee_E_9",
    "outputId": "66b8f56d-bbfd-4bcd-c402-825472cc304f"
   },
   "outputs": [
    {
     "data": {
      "text/plain": [
       "(pandas.core.series.Series,\n",
       " pandas.core.series.Series,\n",
       " pandas.core.frame.DataFrame)"
      ]
     },
     "execution_count": 80,
     "metadata": {
      "tags": []
     },
     "output_type": "execute_result"
    }
   ],
   "source": [
    "type(nba.Player), type(nba['Player']), type(nba[['Player']])"
   ]
  },
  {
   "cell_type": "markdown",
   "metadata": {
    "colab_type": "text",
    "id": "MszsbBul_E_-"
   },
   "source": [
    "**Y si quiero obtener varias columnas??**\n",
    "\n",
    "Podemos recuperar varias columnas a la vez"
   ]
  },
  {
   "cell_type": "code",
   "execution_count": 81,
   "metadata": {
    "colab": {
     "base_uri": "https://localhost:8080/",
     "height": 1000
    },
    "colab_type": "code",
    "executionInfo": {
     "elapsed": 467,
     "status": "ok",
     "timestamp": 1566777114122,
     "user": {
      "displayName": "Quipu AI",
      "photoUrl": "https://lh3.googleusercontent.com/a-/AAuE7mAqpYVhA94BaV-w3FInoujWFEsMitSVZR7MmvRW=s64",
      "userId": "00799183920318522678"
     },
     "user_tz": 300
    },
    "id": "fMqHdRRc_E__",
    "outputId": "4c2093e7-72bd-4990-c1e7-ee3421a68eb8",
    "scrolled": true
   },
   "outputs": [
    {
     "data": {
      "text/html": [
       "<div>\n",
       "<style scoped>\n",
       "    .dataframe tbody tr th:only-of-type {\n",
       "        vertical-align: middle;\n",
       "    }\n",
       "\n",
       "    .dataframe tbody tr th {\n",
       "        vertical-align: top;\n",
       "    }\n",
       "\n",
       "    .dataframe thead th {\n",
       "        text-align: right;\n",
       "    }\n",
       "</style>\n",
       "<table border=\"1\" class=\"dataframe\">\n",
       "  <thead>\n",
       "    <tr style=\"text-align: right;\">\n",
       "      <th></th>\n",
       "      <th>Player</th>\n",
       "      <th>height</th>\n",
       "    </tr>\n",
       "  </thead>\n",
       "  <tbody>\n",
       "    <tr>\n",
       "      <th>0</th>\n",
       "      <td>Curly Armstrong</td>\n",
       "      <td>180.0</td>\n",
       "    </tr>\n",
       "    <tr>\n",
       "      <th>1</th>\n",
       "      <td>Cliff Barker</td>\n",
       "      <td>188.0</td>\n",
       "    </tr>\n",
       "    <tr>\n",
       "      <th>2</th>\n",
       "      <td>Leo Barnhorst</td>\n",
       "      <td>193.0</td>\n",
       "    </tr>\n",
       "    <tr>\n",
       "      <th>3</th>\n",
       "      <td>Ed Bartels</td>\n",
       "      <td>196.0</td>\n",
       "    </tr>\n",
       "    <tr>\n",
       "      <th>4</th>\n",
       "      <td>Ralph Beard</td>\n",
       "      <td>178.0</td>\n",
       "    </tr>\n",
       "    <tr>\n",
       "      <th>5</th>\n",
       "      <td>Gene Berce</td>\n",
       "      <td>180.0</td>\n",
       "    </tr>\n",
       "    <tr>\n",
       "      <th>6</th>\n",
       "      <td>Charlie Black</td>\n",
       "      <td>196.0</td>\n",
       "    </tr>\n",
       "    <tr>\n",
       "      <th>7</th>\n",
       "      <td>Nelson Bobb</td>\n",
       "      <td>183.0</td>\n",
       "    </tr>\n",
       "    <tr>\n",
       "      <th>8</th>\n",
       "      <td>Jake Bornheimer</td>\n",
       "      <td>196.0</td>\n",
       "    </tr>\n",
       "    <tr>\n",
       "      <th>9</th>\n",
       "      <td>Vince Boryla</td>\n",
       "      <td>196.0</td>\n",
       "    </tr>\n",
       "    <tr>\n",
       "      <th>10</th>\n",
       "      <td>Don Boven</td>\n",
       "      <td>193.0</td>\n",
       "    </tr>\n",
       "    <tr>\n",
       "      <th>11</th>\n",
       "      <td>Harry Boykoff</td>\n",
       "      <td>208.0</td>\n",
       "    </tr>\n",
       "    <tr>\n",
       "      <th>12</th>\n",
       "      <td>Joe Bradley</td>\n",
       "      <td>190.0</td>\n",
       "    </tr>\n",
       "    <tr>\n",
       "      <th>13</th>\n",
       "      <td>Bob Brannum</td>\n",
       "      <td>196.0</td>\n",
       "    </tr>\n",
       "    <tr>\n",
       "      <th>14</th>\n",
       "      <td>Carl Braun</td>\n",
       "      <td>196.0</td>\n",
       "    </tr>\n",
       "    <tr>\n",
       "      <th>15</th>\n",
       "      <td>Frankie Brian</td>\n",
       "      <td>185.0</td>\n",
       "    </tr>\n",
       "    <tr>\n",
       "      <th>16</th>\n",
       "      <td>Price Brookfield</td>\n",
       "      <td>193.0</td>\n",
       "    </tr>\n",
       "    <tr>\n",
       "      <th>17</th>\n",
       "      <td>Bob Brown</td>\n",
       "      <td>193.0</td>\n",
       "    </tr>\n",
       "    <tr>\n",
       "      <th>18</th>\n",
       "      <td>Jim Browne</td>\n",
       "      <td>208.0</td>\n",
       "    </tr>\n",
       "    <tr>\n",
       "      <th>19</th>\n",
       "      <td>Walt Budko</td>\n",
       "      <td>196.0</td>\n",
       "    </tr>\n",
       "    <tr>\n",
       "      <th>20</th>\n",
       "      <td>Jack Burmaster</td>\n",
       "      <td>190.0</td>\n",
       "    </tr>\n",
       "    <tr>\n",
       "      <th>21</th>\n",
       "      <td>Tommy Byrnes</td>\n",
       "      <td>190.0</td>\n",
       "    </tr>\n",
       "    <tr>\n",
       "      <th>22</th>\n",
       "      <td>Bill Calhoun</td>\n",
       "      <td>190.0</td>\n",
       "    </tr>\n",
       "    <tr>\n",
       "      <th>23</th>\n",
       "      <td>Don Carlson</td>\n",
       "      <td>183.0</td>\n",
       "    </tr>\n",
       "    <tr>\n",
       "      <th>24</th>\n",
       "      <td>Bob Carpenter</td>\n",
       "      <td>196.0</td>\n",
       "    </tr>\n",
       "    <tr>\n",
       "      <th>25</th>\n",
       "      <td>Jake Carter</td>\n",
       "      <td>193.0</td>\n",
       "    </tr>\n",
       "    <tr>\n",
       "      <th>26</th>\n",
       "      <td>Al Cervi*</td>\n",
       "      <td>180.0</td>\n",
       "    </tr>\n",
       "    <tr>\n",
       "      <th>27</th>\n",
       "      <td>John Chaney</td>\n",
       "      <td>190.0</td>\n",
       "    </tr>\n",
       "    <tr>\n",
       "      <th>28</th>\n",
       "      <td>Leroy Chollet</td>\n",
       "      <td>188.0</td>\n",
       "    </tr>\n",
       "    <tr>\n",
       "      <th>29</th>\n",
       "      <td>Bill Closs</td>\n",
       "      <td>196.0</td>\n",
       "    </tr>\n",
       "    <tr>\n",
       "      <th>...</th>\n",
       "      <td>...</td>\n",
       "      <td>...</td>\n",
       "    </tr>\n",
       "    <tr>\n",
       "      <th>3892</th>\n",
       "      <td>Chinanu Onuaku</td>\n",
       "      <td>208.0</td>\n",
       "    </tr>\n",
       "    <tr>\n",
       "      <th>3893</th>\n",
       "      <td>Georgios Papagiannis</td>\n",
       "      <td>216.0</td>\n",
       "    </tr>\n",
       "    <tr>\n",
       "      <th>3894</th>\n",
       "      <td>Gary Payton</td>\n",
       "      <td>193.0</td>\n",
       "    </tr>\n",
       "    <tr>\n",
       "      <th>3895</th>\n",
       "      <td>Marshall Plumlee</td>\n",
       "      <td>211.0</td>\n",
       "    </tr>\n",
       "    <tr>\n",
       "      <th>3896</th>\n",
       "      <td>Jakob Poeltl</td>\n",
       "      <td>213.0</td>\n",
       "    </tr>\n",
       "    <tr>\n",
       "      <th>3897</th>\n",
       "      <td>Alex Poythress</td>\n",
       "      <td>201.0</td>\n",
       "    </tr>\n",
       "    <tr>\n",
       "      <th>3898</th>\n",
       "      <td>Tim Quarterman</td>\n",
       "      <td>198.0</td>\n",
       "    </tr>\n",
       "    <tr>\n",
       "      <th>3899</th>\n",
       "      <td>Chasson Randle</td>\n",
       "      <td>188.0</td>\n",
       "    </tr>\n",
       "    <tr>\n",
       "      <th>3900</th>\n",
       "      <td>Malachi Richardson</td>\n",
       "      <td>198.0</td>\n",
       "    </tr>\n",
       "    <tr>\n",
       "      <th>3901</th>\n",
       "      <td>Domantas Sabonis</td>\n",
       "      <td>211.0</td>\n",
       "    </tr>\n",
       "    <tr>\n",
       "      <th>3902</th>\n",
       "      <td>Dario Saric</td>\n",
       "      <td>208.0</td>\n",
       "    </tr>\n",
       "    <tr>\n",
       "      <th>3903</th>\n",
       "      <td>Tomas Satoransky</td>\n",
       "      <td>201.0</td>\n",
       "    </tr>\n",
       "    <tr>\n",
       "      <th>3904</th>\n",
       "      <td>Wayne Selden</td>\n",
       "      <td>196.0</td>\n",
       "    </tr>\n",
       "    <tr>\n",
       "      <th>3905</th>\n",
       "      <td>Pascal Siakam</td>\n",
       "      <td>206.0</td>\n",
       "    </tr>\n",
       "    <tr>\n",
       "      <th>3906</th>\n",
       "      <td>Diamond Stone</td>\n",
       "      <td>211.0</td>\n",
       "    </tr>\n",
       "    <tr>\n",
       "      <th>3907</th>\n",
       "      <td>Edy Tavares</td>\n",
       "      <td>211.0</td>\n",
       "    </tr>\n",
       "    <tr>\n",
       "      <th>3908</th>\n",
       "      <td>Isaiah Taylor</td>\n",
       "      <td>190.0</td>\n",
       "    </tr>\n",
       "    <tr>\n",
       "      <th>3909</th>\n",
       "      <td>Mike Tobey</td>\n",
       "      <td>213.0</td>\n",
       "    </tr>\n",
       "    <tr>\n",
       "      <th>3910</th>\n",
       "      <td>Tyler Ulis</td>\n",
       "      <td>178.0</td>\n",
       "    </tr>\n",
       "    <tr>\n",
       "      <th>3911</th>\n",
       "      <td>Jarrod Uthoff</td>\n",
       "      <td>206.0</td>\n",
       "    </tr>\n",
       "    <tr>\n",
       "      <th>3912</th>\n",
       "      <td>Denzel Valentine</td>\n",
       "      <td>198.0</td>\n",
       "    </tr>\n",
       "    <tr>\n",
       "      <th>3913</th>\n",
       "      <td>Fred VanVleet</td>\n",
       "      <td>183.0</td>\n",
       "    </tr>\n",
       "    <tr>\n",
       "      <th>3914</th>\n",
       "      <td>Taurean Waller-Prince</td>\n",
       "      <td>183.0</td>\n",
       "    </tr>\n",
       "    <tr>\n",
       "      <th>3915</th>\n",
       "      <td>Okaro White</td>\n",
       "      <td>203.0</td>\n",
       "    </tr>\n",
       "    <tr>\n",
       "      <th>3916</th>\n",
       "      <td>Isaiah Whitehead</td>\n",
       "      <td>193.0</td>\n",
       "    </tr>\n",
       "    <tr>\n",
       "      <th>3917</th>\n",
       "      <td>Troy Williams</td>\n",
       "      <td>198.0</td>\n",
       "    </tr>\n",
       "    <tr>\n",
       "      <th>3918</th>\n",
       "      <td>Kyle Wiltjer</td>\n",
       "      <td>208.0</td>\n",
       "    </tr>\n",
       "    <tr>\n",
       "      <th>3919</th>\n",
       "      <td>Stephen Zimmerman</td>\n",
       "      <td>213.0</td>\n",
       "    </tr>\n",
       "    <tr>\n",
       "      <th>3920</th>\n",
       "      <td>Paul Zipser</td>\n",
       "      <td>203.0</td>\n",
       "    </tr>\n",
       "    <tr>\n",
       "      <th>3921</th>\n",
       "      <td>Ivica Zubac</td>\n",
       "      <td>216.0</td>\n",
       "    </tr>\n",
       "  </tbody>\n",
       "</table>\n",
       "<p>3922 rows × 2 columns</p>\n",
       "</div>"
      ],
      "text/plain": [
       "                     Player  height\n",
       "0           Curly Armstrong   180.0\n",
       "1              Cliff Barker   188.0\n",
       "2             Leo Barnhorst   193.0\n",
       "3                Ed Bartels   196.0\n",
       "4               Ralph Beard   178.0\n",
       "5                Gene Berce   180.0\n",
       "6             Charlie Black   196.0\n",
       "7               Nelson Bobb   183.0\n",
       "8           Jake Bornheimer   196.0\n",
       "9              Vince Boryla   196.0\n",
       "10                Don Boven   193.0\n",
       "11            Harry Boykoff   208.0\n",
       "12              Joe Bradley   190.0\n",
       "13              Bob Brannum   196.0\n",
       "14               Carl Braun   196.0\n",
       "15            Frankie Brian   185.0\n",
       "16         Price Brookfield   193.0\n",
       "17                Bob Brown   193.0\n",
       "18               Jim Browne   208.0\n",
       "19               Walt Budko   196.0\n",
       "20           Jack Burmaster   190.0\n",
       "21             Tommy Byrnes   190.0\n",
       "22             Bill Calhoun   190.0\n",
       "23              Don Carlson   183.0\n",
       "24            Bob Carpenter   196.0\n",
       "25              Jake Carter   193.0\n",
       "26                Al Cervi*   180.0\n",
       "27              John Chaney   190.0\n",
       "28            Leroy Chollet   188.0\n",
       "29               Bill Closs   196.0\n",
       "...                     ...     ...\n",
       "3892         Chinanu Onuaku   208.0\n",
       "3893   Georgios Papagiannis   216.0\n",
       "3894            Gary Payton   193.0\n",
       "3895       Marshall Plumlee   211.0\n",
       "3896           Jakob Poeltl   213.0\n",
       "3897         Alex Poythress   201.0\n",
       "3898         Tim Quarterman   198.0\n",
       "3899         Chasson Randle   188.0\n",
       "3900     Malachi Richardson   198.0\n",
       "3901       Domantas Sabonis   211.0\n",
       "3902            Dario Saric   208.0\n",
       "3903       Tomas Satoransky   201.0\n",
       "3904           Wayne Selden   196.0\n",
       "3905          Pascal Siakam   206.0\n",
       "3906          Diamond Stone   211.0\n",
       "3907            Edy Tavares   211.0\n",
       "3908          Isaiah Taylor   190.0\n",
       "3909             Mike Tobey   213.0\n",
       "3910             Tyler Ulis   178.0\n",
       "3911          Jarrod Uthoff   206.0\n",
       "3912       Denzel Valentine   198.0\n",
       "3913          Fred VanVleet   183.0\n",
       "3914  Taurean Waller-Prince   183.0\n",
       "3915            Okaro White   203.0\n",
       "3916       Isaiah Whitehead   193.0\n",
       "3917          Troy Williams   198.0\n",
       "3918           Kyle Wiltjer   208.0\n",
       "3919      Stephen Zimmerman   213.0\n",
       "3920            Paul Zipser   203.0\n",
       "3921            Ivica Zubac   216.0\n",
       "\n",
       "[3922 rows x 2 columns]"
      ]
     },
     "execution_count": 81,
     "metadata": {
      "tags": []
     },
     "output_type": "execute_result"
    }
   ],
   "source": [
    "nba[['Player','height']]"
   ]
  },
  {
   "cell_type": "code",
   "execution_count": null,
   "metadata": {
    "colab": {},
    "colab_type": "code",
    "id": "3wtWPV21_gB_"
   },
   "outputs": [],
   "source": []
  },
  {
   "cell_type": "markdown",
   "metadata": {
    "colab_type": "text",
    "id": "wFd-sTIt_gCA"
   },
   "source": [
    "### df.loc: Selección por Etiqueta (Label)"
   ]
  },
  {
   "cell_type": "markdown",
   "metadata": {
    "colab_type": "text",
    "id": "1fCtglnX_FAC"
   },
   "source": [
    "\n",
    "\n",
    "Permite acceder al contenido de un registro mediante la etiqueta del índice"
   ]
  },
  {
   "cell_type": "code",
   "execution_count": 88,
   "metadata": {
    "colab": {
     "base_uri": "https://localhost:8080/",
     "height": 379
    },
    "colab_type": "code",
    "executionInfo": {
     "elapsed": 471,
     "status": "ok",
     "timestamp": 1566777309642,
     "user": {
      "displayName": "Quipu AI",
      "photoUrl": "https://lh3.googleusercontent.com/a-/AAuE7mAqpYVhA94BaV-w3FInoujWFEsMitSVZR7MmvRW=s64",
      "userId": "00799183920318522678"
     },
     "user_tz": 300
    },
    "id": "f7MYB8Tg_FAD",
    "outputId": "5ecd9c52-52b4-4a30-ad9b-55511190731e"
   },
   "outputs": [
    {
     "data": {
      "text/html": [
       "<div>\n",
       "<style scoped>\n",
       "    .dataframe tbody tr th:only-of-type {\n",
       "        vertical-align: middle;\n",
       "    }\n",
       "\n",
       "    .dataframe tbody tr th {\n",
       "        vertical-align: top;\n",
       "    }\n",
       "\n",
       "    .dataframe thead th {\n",
       "        text-align: right;\n",
       "    }\n",
       "</style>\n",
       "<table border=\"1\" class=\"dataframe\">\n",
       "  <thead>\n",
       "    <tr style=\"text-align: right;\">\n",
       "      <th></th>\n",
       "      <th>height</th>\n",
       "    </tr>\n",
       "  </thead>\n",
       "  <tbody>\n",
       "    <tr>\n",
       "      <th>0</th>\n",
       "      <td>180.0</td>\n",
       "    </tr>\n",
       "    <tr>\n",
       "      <th>1</th>\n",
       "      <td>188.0</td>\n",
       "    </tr>\n",
       "    <tr>\n",
       "      <th>2</th>\n",
       "      <td>193.0</td>\n",
       "    </tr>\n",
       "    <tr>\n",
       "      <th>3</th>\n",
       "      <td>196.0</td>\n",
       "    </tr>\n",
       "    <tr>\n",
       "      <th>4</th>\n",
       "      <td>178.0</td>\n",
       "    </tr>\n",
       "    <tr>\n",
       "      <th>5</th>\n",
       "      <td>180.0</td>\n",
       "    </tr>\n",
       "    <tr>\n",
       "      <th>6</th>\n",
       "      <td>196.0</td>\n",
       "    </tr>\n",
       "    <tr>\n",
       "      <th>7</th>\n",
       "      <td>183.0</td>\n",
       "    </tr>\n",
       "    <tr>\n",
       "      <th>8</th>\n",
       "      <td>196.0</td>\n",
       "    </tr>\n",
       "    <tr>\n",
       "      <th>9</th>\n",
       "      <td>196.0</td>\n",
       "    </tr>\n",
       "    <tr>\n",
       "      <th>10</th>\n",
       "      <td>193.0</td>\n",
       "    </tr>\n",
       "  </tbody>\n",
       "</table>\n",
       "</div>"
      ],
      "text/plain": [
       "    height\n",
       "0    180.0\n",
       "1    188.0\n",
       "2    193.0\n",
       "3    196.0\n",
       "4    178.0\n",
       "5    180.0\n",
       "6    196.0\n",
       "7    183.0\n",
       "8    196.0\n",
       "9    196.0\n",
       "10   193.0"
      ]
     },
     "execution_count": 88,
     "metadata": {
      "tags": []
     },
     "output_type": "execute_result"
    }
   ],
   "source": [
    "nba.loc[0:10,['height']]"
   ]
  },
  {
   "cell_type": "code",
   "execution_count": 85,
   "metadata": {
    "colab": {
     "base_uri": "https://localhost:8080/",
     "height": 379
    },
    "colab_type": "code",
    "executionInfo": {
     "elapsed": 530,
     "status": "ok",
     "timestamp": 1566777230286,
     "user": {
      "displayName": "Quipu AI",
      "photoUrl": "https://lh3.googleusercontent.com/a-/AAuE7mAqpYVhA94BaV-w3FInoujWFEsMitSVZR7MmvRW=s64",
      "userId": "00799183920318522678"
     },
     "user_tz": 300
    },
    "id": "jaTkBbsb_gCD",
    "outputId": "97005a80-14ef-45ae-9129-dd9c107ce71f"
   },
   "outputs": [
    {
     "data": {
      "text/html": [
       "<div>\n",
       "<style scoped>\n",
       "    .dataframe tbody tr th:only-of-type {\n",
       "        vertical-align: middle;\n",
       "    }\n",
       "\n",
       "    .dataframe tbody tr th {\n",
       "        vertical-align: top;\n",
       "    }\n",
       "\n",
       "    .dataframe thead th {\n",
       "        text-align: right;\n",
       "    }\n",
       "</style>\n",
       "<table border=\"1\" class=\"dataframe\">\n",
       "  <thead>\n",
       "    <tr style=\"text-align: right;\">\n",
       "      <th></th>\n",
       "      <th>Player</th>\n",
       "      <th>height</th>\n",
       "    </tr>\n",
       "  </thead>\n",
       "  <tbody>\n",
       "    <tr>\n",
       "      <th>0</th>\n",
       "      <td>Curly Armstrong</td>\n",
       "      <td>180.0</td>\n",
       "    </tr>\n",
       "    <tr>\n",
       "      <th>1</th>\n",
       "      <td>Cliff Barker</td>\n",
       "      <td>188.0</td>\n",
       "    </tr>\n",
       "    <tr>\n",
       "      <th>2</th>\n",
       "      <td>Leo Barnhorst</td>\n",
       "      <td>193.0</td>\n",
       "    </tr>\n",
       "    <tr>\n",
       "      <th>3</th>\n",
       "      <td>Ed Bartels</td>\n",
       "      <td>196.0</td>\n",
       "    </tr>\n",
       "    <tr>\n",
       "      <th>4</th>\n",
       "      <td>Ralph Beard</td>\n",
       "      <td>178.0</td>\n",
       "    </tr>\n",
       "    <tr>\n",
       "      <th>5</th>\n",
       "      <td>Gene Berce</td>\n",
       "      <td>180.0</td>\n",
       "    </tr>\n",
       "    <tr>\n",
       "      <th>6</th>\n",
       "      <td>Charlie Black</td>\n",
       "      <td>196.0</td>\n",
       "    </tr>\n",
       "    <tr>\n",
       "      <th>7</th>\n",
       "      <td>Nelson Bobb</td>\n",
       "      <td>183.0</td>\n",
       "    </tr>\n",
       "    <tr>\n",
       "      <th>8</th>\n",
       "      <td>Jake Bornheimer</td>\n",
       "      <td>196.0</td>\n",
       "    </tr>\n",
       "    <tr>\n",
       "      <th>9</th>\n",
       "      <td>Vince Boryla</td>\n",
       "      <td>196.0</td>\n",
       "    </tr>\n",
       "    <tr>\n",
       "      <th>10</th>\n",
       "      <td>Don Boven</td>\n",
       "      <td>193.0</td>\n",
       "    </tr>\n",
       "  </tbody>\n",
       "</table>\n",
       "</div>"
      ],
      "text/plain": [
       "             Player  height\n",
       "0   Curly Armstrong   180.0\n",
       "1      Cliff Barker   188.0\n",
       "2     Leo Barnhorst   193.0\n",
       "3        Ed Bartels   196.0\n",
       "4       Ralph Beard   178.0\n",
       "5        Gene Berce   180.0\n",
       "6     Charlie Black   196.0\n",
       "7       Nelson Bobb   183.0\n",
       "8   Jake Bornheimer   196.0\n",
       "9      Vince Boryla   196.0\n",
       "10        Don Boven   193.0"
      ]
     },
     "execution_count": 85,
     "metadata": {
      "tags": []
     },
     "output_type": "execute_result"
    }
   ],
   "source": [
    "nba.loc[0:10,['Player','height']]"
   ]
  },
  {
   "cell_type": "code",
   "execution_count": null,
   "metadata": {
    "colab": {},
    "colab_type": "code",
    "id": "ffzL7f7e_gCE"
   },
   "outputs": [],
   "source": []
  },
  {
   "cell_type": "markdown",
   "metadata": {
    "colab_type": "text",
    "id": "j6tcr3Lv_gCH"
   },
   "source": [
    "### df.iloc: Selección por Posición"
   ]
  },
  {
   "cell_type": "markdown",
   "metadata": {
    "colab_type": "text",
    "id": "MXWCJsnB_FAF"
   },
   "source": [
    "\n",
    "\n",
    "Permite acceder al contenido de un registro mediante la posición del índice"
   ]
  },
  {
   "cell_type": "code",
   "execution_count": 87,
   "metadata": {
    "colab": {
     "base_uri": "https://localhost:8080/",
     "height": 349
    },
    "colab_type": "code",
    "executionInfo": {
     "elapsed": 463,
     "status": "ok",
     "timestamp": 1566777289594,
     "user": {
      "displayName": "Quipu AI",
      "photoUrl": "https://lh3.googleusercontent.com/a-/AAuE7mAqpYVhA94BaV-w3FInoujWFEsMitSVZR7MmvRW=s64",
      "userId": "00799183920318522678"
     },
     "user_tz": 300
    },
    "id": "LtaPVYts_FAG",
    "outputId": "2b3b668a-c4d1-4663-fcfb-c01bcf82ba9c"
   },
   "outputs": [
    {
     "data": {
      "text/html": [
       "<div>\n",
       "<style scoped>\n",
       "    .dataframe tbody tr th:only-of-type {\n",
       "        vertical-align: middle;\n",
       "    }\n",
       "\n",
       "    .dataframe tbody tr th {\n",
       "        vertical-align: top;\n",
       "    }\n",
       "\n",
       "    .dataframe thead th {\n",
       "        text-align: right;\n",
       "    }\n",
       "</style>\n",
       "<table border=\"1\" class=\"dataframe\">\n",
       "  <thead>\n",
       "    <tr style=\"text-align: right;\">\n",
       "      <th></th>\n",
       "      <th>Player</th>\n",
       "      <th>height</th>\n",
       "      <th>weight</th>\n",
       "      <th>collage</th>\n",
       "      <th>born</th>\n",
       "      <th>birth_city</th>\n",
       "      <th>birth_state</th>\n",
       "    </tr>\n",
       "  </thead>\n",
       "  <tbody>\n",
       "    <tr>\n",
       "      <th>0</th>\n",
       "      <td>Curly Armstrong</td>\n",
       "      <td>180.0</td>\n",
       "      <td>77.0</td>\n",
       "      <td>Indiana University</td>\n",
       "      <td>1918.0</td>\n",
       "      <td>NaN</td>\n",
       "      <td>NaN</td>\n",
       "    </tr>\n",
       "    <tr>\n",
       "      <th>1</th>\n",
       "      <td>Cliff Barker</td>\n",
       "      <td>188.0</td>\n",
       "      <td>83.0</td>\n",
       "      <td>University of Kentucky</td>\n",
       "      <td>1921.0</td>\n",
       "      <td>Yorktown</td>\n",
       "      <td>Indiana</td>\n",
       "    </tr>\n",
       "    <tr>\n",
       "      <th>2</th>\n",
       "      <td>Leo Barnhorst</td>\n",
       "      <td>193.0</td>\n",
       "      <td>86.0</td>\n",
       "      <td>University of Notre Dame</td>\n",
       "      <td>1924.0</td>\n",
       "      <td>NaN</td>\n",
       "      <td>NaN</td>\n",
       "    </tr>\n",
       "    <tr>\n",
       "      <th>3</th>\n",
       "      <td>Ed Bartels</td>\n",
       "      <td>196.0</td>\n",
       "      <td>88.0</td>\n",
       "      <td>North Carolina State University</td>\n",
       "      <td>1925.0</td>\n",
       "      <td>NaN</td>\n",
       "      <td>NaN</td>\n",
       "    </tr>\n",
       "    <tr>\n",
       "      <th>4</th>\n",
       "      <td>Ralph Beard</td>\n",
       "      <td>178.0</td>\n",
       "      <td>79.0</td>\n",
       "      <td>University of Kentucky</td>\n",
       "      <td>1927.0</td>\n",
       "      <td>Hardinsburg</td>\n",
       "      <td>Kentucky</td>\n",
       "    </tr>\n",
       "    <tr>\n",
       "      <th>5</th>\n",
       "      <td>Gene Berce</td>\n",
       "      <td>180.0</td>\n",
       "      <td>79.0</td>\n",
       "      <td>Marquette University</td>\n",
       "      <td>1926.0</td>\n",
       "      <td>NaN</td>\n",
       "      <td>NaN</td>\n",
       "    </tr>\n",
       "    <tr>\n",
       "      <th>6</th>\n",
       "      <td>Charlie Black</td>\n",
       "      <td>196.0</td>\n",
       "      <td>90.0</td>\n",
       "      <td>University of Kansas</td>\n",
       "      <td>1921.0</td>\n",
       "      <td>Arco</td>\n",
       "      <td>Idaho</td>\n",
       "    </tr>\n",
       "    <tr>\n",
       "      <th>7</th>\n",
       "      <td>Nelson Bobb</td>\n",
       "      <td>183.0</td>\n",
       "      <td>77.0</td>\n",
       "      <td>Temple University</td>\n",
       "      <td>1924.0</td>\n",
       "      <td>Philadelphia</td>\n",
       "      <td>Pennsylvania</td>\n",
       "    </tr>\n",
       "    <tr>\n",
       "      <th>8</th>\n",
       "      <td>Jake Bornheimer</td>\n",
       "      <td>196.0</td>\n",
       "      <td>90.0</td>\n",
       "      <td>Muhlenberg College</td>\n",
       "      <td>1927.0</td>\n",
       "      <td>New Brunswick</td>\n",
       "      <td>New Jersey</td>\n",
       "    </tr>\n",
       "    <tr>\n",
       "      <th>9</th>\n",
       "      <td>Vince Boryla</td>\n",
       "      <td>196.0</td>\n",
       "      <td>95.0</td>\n",
       "      <td>University of Denver</td>\n",
       "      <td>1927.0</td>\n",
       "      <td>East Chicago</td>\n",
       "      <td>Indiana</td>\n",
       "    </tr>\n",
       "  </tbody>\n",
       "</table>\n",
       "</div>"
      ],
      "text/plain": [
       "            Player  height  weight  ...    born     birth_city   birth_state\n",
       "0  Curly Armstrong   180.0    77.0  ...  1918.0            NaN           NaN\n",
       "1     Cliff Barker   188.0    83.0  ...  1921.0       Yorktown       Indiana\n",
       "2    Leo Barnhorst   193.0    86.0  ...  1924.0            NaN           NaN\n",
       "3       Ed Bartels   196.0    88.0  ...  1925.0            NaN           NaN\n",
       "4      Ralph Beard   178.0    79.0  ...  1927.0    Hardinsburg      Kentucky\n",
       "5       Gene Berce   180.0    79.0  ...  1926.0            NaN           NaN\n",
       "6    Charlie Black   196.0    90.0  ...  1921.0           Arco         Idaho\n",
       "7      Nelson Bobb   183.0    77.0  ...  1924.0   Philadelphia  Pennsylvania\n",
       "8  Jake Bornheimer   196.0    90.0  ...  1927.0  New Brunswick    New Jersey\n",
       "9     Vince Boryla   196.0    95.0  ...  1927.0   East Chicago       Indiana\n",
       "\n",
       "[10 rows x 7 columns]"
      ]
     },
     "execution_count": 87,
     "metadata": {
      "tags": []
     },
     "output_type": "execute_result"
    }
   ],
   "source": [
    "nba.iloc[0:10]"
   ]
  },
  {
   "cell_type": "code",
   "execution_count": 89,
   "metadata": {
    "colab": {
     "base_uri": "https://localhost:8080/",
     "height": 452
    },
    "colab_type": "code",
    "executionInfo": {
     "elapsed": 429,
     "status": "error",
     "timestamp": 1566777334783,
     "user": {
      "displayName": "Quipu AI",
      "photoUrl": "https://lh3.googleusercontent.com/a-/AAuE7mAqpYVhA94BaV-w3FInoujWFEsMitSVZR7MmvRW=s64",
      "userId": "00799183920318522678"
     },
     "user_tz": 300
    },
    "id": "_vLmMzd8_gCK",
    "outputId": "ff3d83cb-eacd-4748-acc3-78624fdb3f02",
    "scrolled": true
   },
   "outputs": [
    {
     "ename": "ValueError",
     "evalue": "ignored",
     "output_type": "error",
     "traceback": [
      "\u001b[0;31m---------------------------------------------------------------------------\u001b[0m",
      "\u001b[0;31mValueError\u001b[0m                                Traceback (most recent call last)",
      "\u001b[0;32m/usr/local/lib/python3.6/dist-packages/pandas/core/indexing.py\u001b[0m in \u001b[0;36m_has_valid_tuple\u001b[0;34m(self, key)\u001b[0m\n\u001b[1;32m    222\u001b[0m             \u001b[0;32mtry\u001b[0m\u001b[0;34m:\u001b[0m\u001b[0;34m\u001b[0m\u001b[0;34m\u001b[0m\u001b[0m\n\u001b[0;32m--> 223\u001b[0;31m                 \u001b[0mself\u001b[0m\u001b[0;34m.\u001b[0m\u001b[0m_validate_key\u001b[0m\u001b[0;34m(\u001b[0m\u001b[0mk\u001b[0m\u001b[0;34m,\u001b[0m \u001b[0mi\u001b[0m\u001b[0;34m)\u001b[0m\u001b[0;34m\u001b[0m\u001b[0;34m\u001b[0m\u001b[0m\n\u001b[0m\u001b[1;32m    224\u001b[0m             \u001b[0;32mexcept\u001b[0m \u001b[0mValueError\u001b[0m\u001b[0;34m:\u001b[0m\u001b[0;34m\u001b[0m\u001b[0;34m\u001b[0m\u001b[0m\n",
      "\u001b[0;32m/usr/local/lib/python3.6/dist-packages/pandas/core/indexing.py\u001b[0m in \u001b[0;36m_validate_key\u001b[0;34m(self, key, axis)\u001b[0m\n\u001b[1;32m   2083\u001b[0m             raise ValueError(\"Can only index by location with \"\n\u001b[0;32m-> 2084\u001b[0;31m                              \"a [{types}]\".format(types=self._valid_types))\n\u001b[0m\u001b[1;32m   2085\u001b[0m \u001b[0;34m\u001b[0m\u001b[0m\n",
      "\u001b[0;31mValueError\u001b[0m: Can only index by location with a [integer, integer slice (START point is INCLUDED, END point is EXCLUDED), listlike of integers, boolean array]",
      "\nDuring handling of the above exception, another exception occurred:\n",
      "\u001b[0;31mValueError\u001b[0m                                Traceback (most recent call last)",
      "\u001b[0;32m<ipython-input-89-b135740b5446>\u001b[0m in \u001b[0;36m<module>\u001b[0;34m()\u001b[0m\n\u001b[0;32m----> 1\u001b[0;31m \u001b[0mnba\u001b[0m\u001b[0;34m.\u001b[0m\u001b[0miloc\u001b[0m\u001b[0;34m[\u001b[0m\u001b[0;36m0\u001b[0m\u001b[0;34m:\u001b[0m\u001b[0;36m10\u001b[0m\u001b[0;34m,\u001b[0m\u001b[0;34m'born'\u001b[0m\u001b[0;34m]\u001b[0m\u001b[0;34m\u001b[0m\u001b[0;34m\u001b[0m\u001b[0m\n\u001b[0m",
      "\u001b[0;32m/usr/local/lib/python3.6/dist-packages/pandas/core/indexing.py\u001b[0m in \u001b[0;36m__getitem__\u001b[0;34m(self, key)\u001b[0m\n\u001b[1;32m   1492\u001b[0m             \u001b[0;32mexcept\u001b[0m \u001b[0;34m(\u001b[0m\u001b[0mKeyError\u001b[0m\u001b[0;34m,\u001b[0m \u001b[0mIndexError\u001b[0m\u001b[0;34m,\u001b[0m \u001b[0mAttributeError\u001b[0m\u001b[0;34m)\u001b[0m\u001b[0;34m:\u001b[0m\u001b[0;34m\u001b[0m\u001b[0;34m\u001b[0m\u001b[0m\n\u001b[1;32m   1493\u001b[0m                 \u001b[0;32mpass\u001b[0m\u001b[0;34m\u001b[0m\u001b[0;34m\u001b[0m\u001b[0m\n\u001b[0;32m-> 1494\u001b[0;31m             \u001b[0;32mreturn\u001b[0m \u001b[0mself\u001b[0m\u001b[0;34m.\u001b[0m\u001b[0m_getitem_tuple\u001b[0m\u001b[0;34m(\u001b[0m\u001b[0mkey\u001b[0m\u001b[0;34m)\u001b[0m\u001b[0;34m\u001b[0m\u001b[0;34m\u001b[0m\u001b[0m\n\u001b[0m\u001b[1;32m   1495\u001b[0m         \u001b[0;32melse\u001b[0m\u001b[0;34m:\u001b[0m\u001b[0;34m\u001b[0m\u001b[0;34m\u001b[0m\u001b[0m\n\u001b[1;32m   1496\u001b[0m             \u001b[0;31m# we by definition only have the 0th axis\u001b[0m\u001b[0;34m\u001b[0m\u001b[0;34m\u001b[0m\u001b[0;34m\u001b[0m\u001b[0m\n",
      "\u001b[0;32m/usr/local/lib/python3.6/dist-packages/pandas/core/indexing.py\u001b[0m in \u001b[0;36m_getitem_tuple\u001b[0;34m(self, tup)\u001b[0m\n\u001b[1;32m   2141\u001b[0m     \u001b[0;32mdef\u001b[0m \u001b[0m_getitem_tuple\u001b[0m\u001b[0;34m(\u001b[0m\u001b[0mself\u001b[0m\u001b[0;34m,\u001b[0m \u001b[0mtup\u001b[0m\u001b[0;34m)\u001b[0m\u001b[0;34m:\u001b[0m\u001b[0;34m\u001b[0m\u001b[0;34m\u001b[0m\u001b[0m\n\u001b[1;32m   2142\u001b[0m \u001b[0;34m\u001b[0m\u001b[0m\n\u001b[0;32m-> 2143\u001b[0;31m         \u001b[0mself\u001b[0m\u001b[0;34m.\u001b[0m\u001b[0m_has_valid_tuple\u001b[0m\u001b[0;34m(\u001b[0m\u001b[0mtup\u001b[0m\u001b[0;34m)\u001b[0m\u001b[0;34m\u001b[0m\u001b[0;34m\u001b[0m\u001b[0m\n\u001b[0m\u001b[1;32m   2144\u001b[0m         \u001b[0;32mtry\u001b[0m\u001b[0;34m:\u001b[0m\u001b[0;34m\u001b[0m\u001b[0;34m\u001b[0m\u001b[0m\n\u001b[1;32m   2145\u001b[0m             \u001b[0;32mreturn\u001b[0m \u001b[0mself\u001b[0m\u001b[0;34m.\u001b[0m\u001b[0m_getitem_lowerdim\u001b[0m\u001b[0;34m(\u001b[0m\u001b[0mtup\u001b[0m\u001b[0;34m)\u001b[0m\u001b[0;34m\u001b[0m\u001b[0;34m\u001b[0m\u001b[0m\n",
      "\u001b[0;32m/usr/local/lib/python3.6/dist-packages/pandas/core/indexing.py\u001b[0m in \u001b[0;36m_has_valid_tuple\u001b[0;34m(self, key)\u001b[0m\n\u001b[1;32m    225\u001b[0m                 raise ValueError(\"Location based indexing can only have \"\n\u001b[1;32m    226\u001b[0m                                  \u001b[0;34m\"[{types}] types\"\u001b[0m\u001b[0;34m\u001b[0m\u001b[0;34m\u001b[0m\u001b[0m\n\u001b[0;32m--> 227\u001b[0;31m                                  .format(types=self._valid_types))\n\u001b[0m\u001b[1;32m    228\u001b[0m \u001b[0;34m\u001b[0m\u001b[0m\n\u001b[1;32m    229\u001b[0m     \u001b[0;32mdef\u001b[0m \u001b[0m_is_nested_tuple_indexer\u001b[0m\u001b[0;34m(\u001b[0m\u001b[0mself\u001b[0m\u001b[0;34m,\u001b[0m \u001b[0mtup\u001b[0m\u001b[0;34m)\u001b[0m\u001b[0;34m:\u001b[0m\u001b[0;34m\u001b[0m\u001b[0;34m\u001b[0m\u001b[0m\n",
      "\u001b[0;31mValueError\u001b[0m: Location based indexing can only have [integer, integer slice (START point is INCLUDED, END point is EXCLUDED), listlike of integers, boolean array] types"
     ]
    }
   ],
   "source": [
    "nba.iloc[0:10,'born']"
   ]
  },
  {
   "cell_type": "code",
   "execution_count": 91,
   "metadata": {
    "colab": {
     "base_uri": "https://localhost:8080/",
     "height": 349
    },
    "colab_type": "code",
    "executionInfo": {
     "elapsed": 438,
     "status": "ok",
     "timestamp": 1566777349252,
     "user": {
      "displayName": "Quipu AI",
      "photoUrl": "https://lh3.googleusercontent.com/a-/AAuE7mAqpYVhA94BaV-w3FInoujWFEsMitSVZR7MmvRW=s64",
      "userId": "00799183920318522678"
     },
     "user_tz": 300
    },
    "id": "UyRRd-Wm_gCM",
    "outputId": "626696e3-fcba-45e4-ec15-2b0dd2c9f68e"
   },
   "outputs": [
    {
     "data": {
      "text/html": [
       "<div>\n",
       "<style scoped>\n",
       "    .dataframe tbody tr th:only-of-type {\n",
       "        vertical-align: middle;\n",
       "    }\n",
       "\n",
       "    .dataframe tbody tr th {\n",
       "        vertical-align: top;\n",
       "    }\n",
       "\n",
       "    .dataframe thead th {\n",
       "        text-align: right;\n",
       "    }\n",
       "</style>\n",
       "<table border=\"1\" class=\"dataframe\">\n",
       "  <thead>\n",
       "    <tr style=\"text-align: right;\">\n",
       "      <th></th>\n",
       "      <th>born</th>\n",
       "      <th>birth_city</th>\n",
       "      <th>birth_state</th>\n",
       "    </tr>\n",
       "  </thead>\n",
       "  <tbody>\n",
       "    <tr>\n",
       "      <th>0</th>\n",
       "      <td>1918.0</td>\n",
       "      <td>NaN</td>\n",
       "      <td>NaN</td>\n",
       "    </tr>\n",
       "    <tr>\n",
       "      <th>1</th>\n",
       "      <td>1921.0</td>\n",
       "      <td>Yorktown</td>\n",
       "      <td>Indiana</td>\n",
       "    </tr>\n",
       "    <tr>\n",
       "      <th>2</th>\n",
       "      <td>1924.0</td>\n",
       "      <td>NaN</td>\n",
       "      <td>NaN</td>\n",
       "    </tr>\n",
       "    <tr>\n",
       "      <th>3</th>\n",
       "      <td>1925.0</td>\n",
       "      <td>NaN</td>\n",
       "      <td>NaN</td>\n",
       "    </tr>\n",
       "    <tr>\n",
       "      <th>4</th>\n",
       "      <td>1927.0</td>\n",
       "      <td>Hardinsburg</td>\n",
       "      <td>Kentucky</td>\n",
       "    </tr>\n",
       "    <tr>\n",
       "      <th>5</th>\n",
       "      <td>1926.0</td>\n",
       "      <td>NaN</td>\n",
       "      <td>NaN</td>\n",
       "    </tr>\n",
       "    <tr>\n",
       "      <th>6</th>\n",
       "      <td>1921.0</td>\n",
       "      <td>Arco</td>\n",
       "      <td>Idaho</td>\n",
       "    </tr>\n",
       "    <tr>\n",
       "      <th>7</th>\n",
       "      <td>1924.0</td>\n",
       "      <td>Philadelphia</td>\n",
       "      <td>Pennsylvania</td>\n",
       "    </tr>\n",
       "    <tr>\n",
       "      <th>8</th>\n",
       "      <td>1927.0</td>\n",
       "      <td>New Brunswick</td>\n",
       "      <td>New Jersey</td>\n",
       "    </tr>\n",
       "    <tr>\n",
       "      <th>9</th>\n",
       "      <td>1927.0</td>\n",
       "      <td>East Chicago</td>\n",
       "      <td>Indiana</td>\n",
       "    </tr>\n",
       "  </tbody>\n",
       "</table>\n",
       "</div>"
      ],
      "text/plain": [
       "     born     birth_city   birth_state\n",
       "0  1918.0            NaN           NaN\n",
       "1  1921.0       Yorktown       Indiana\n",
       "2  1924.0            NaN           NaN\n",
       "3  1925.0            NaN           NaN\n",
       "4  1927.0    Hardinsburg      Kentucky\n",
       "5  1926.0            NaN           NaN\n",
       "6  1921.0           Arco         Idaho\n",
       "7  1924.0   Philadelphia  Pennsylvania\n",
       "8  1927.0  New Brunswick    New Jersey\n",
       "9  1927.0   East Chicago       Indiana"
      ]
     },
     "execution_count": 91,
     "metadata": {
      "tags": []
     },
     "output_type": "execute_result"
    }
   ],
   "source": [
    "nba.iloc[0:10,4:7]"
   ]
  },
  {
   "cell_type": "code",
   "execution_count": 92,
   "metadata": {
    "colab": {
     "base_uri": "https://localhost:8080/",
     "height": 1000
    },
    "colab_type": "code",
    "executionInfo": {
     "elapsed": 677,
     "status": "ok",
     "timestamp": 1566777413368,
     "user": {
      "displayName": "Quipu AI",
      "photoUrl": "https://lh3.googleusercontent.com/a-/AAuE7mAqpYVhA94BaV-w3FInoujWFEsMitSVZR7MmvRW=s64",
      "userId": "00799183920318522678"
     },
     "user_tz": 300
    },
    "id": "FZyr7rsU_gCO",
    "outputId": "a660d119-20cc-4fe7-c69e-46a09a0854bf"
   },
   "outputs": [
    {
     "data": {
      "text/html": [
       "<div>\n",
       "<style scoped>\n",
       "    .dataframe tbody tr th:only-of-type {\n",
       "        vertical-align: middle;\n",
       "    }\n",
       "\n",
       "    .dataframe tbody tr th {\n",
       "        vertical-align: top;\n",
       "    }\n",
       "\n",
       "    .dataframe thead th {\n",
       "        text-align: right;\n",
       "    }\n",
       "</style>\n",
       "<table border=\"1\" class=\"dataframe\">\n",
       "  <thead>\n",
       "    <tr style=\"text-align: right;\">\n",
       "      <th></th>\n",
       "      <th>Player</th>\n",
       "      <th>height</th>\n",
       "      <th>weight</th>\n",
       "      <th>collage</th>\n",
       "      <th>born</th>\n",
       "      <th>birth_city</th>\n",
       "      <th>birth_state</th>\n",
       "    </tr>\n",
       "  </thead>\n",
       "  <tbody>\n",
       "    <tr>\n",
       "      <th>0</th>\n",
       "      <td>Curly Armstrong</td>\n",
       "      <td>180.0</td>\n",
       "      <td>77.0</td>\n",
       "      <td>Indiana University</td>\n",
       "      <td>1918.0</td>\n",
       "      <td>NaN</td>\n",
       "      <td>NaN</td>\n",
       "    </tr>\n",
       "    <tr>\n",
       "      <th>1</th>\n",
       "      <td>Cliff Barker</td>\n",
       "      <td>188.0</td>\n",
       "      <td>83.0</td>\n",
       "      <td>University of Kentucky</td>\n",
       "      <td>1921.0</td>\n",
       "      <td>Yorktown</td>\n",
       "      <td>Indiana</td>\n",
       "    </tr>\n",
       "    <tr>\n",
       "      <th>2</th>\n",
       "      <td>Leo Barnhorst</td>\n",
       "      <td>193.0</td>\n",
       "      <td>86.0</td>\n",
       "      <td>University of Notre Dame</td>\n",
       "      <td>1924.0</td>\n",
       "      <td>NaN</td>\n",
       "      <td>NaN</td>\n",
       "    </tr>\n",
       "    <tr>\n",
       "      <th>3</th>\n",
       "      <td>Ed Bartels</td>\n",
       "      <td>196.0</td>\n",
       "      <td>88.0</td>\n",
       "      <td>North Carolina State University</td>\n",
       "      <td>1925.0</td>\n",
       "      <td>NaN</td>\n",
       "      <td>NaN</td>\n",
       "    </tr>\n",
       "    <tr>\n",
       "      <th>4</th>\n",
       "      <td>Ralph Beard</td>\n",
       "      <td>178.0</td>\n",
       "      <td>79.0</td>\n",
       "      <td>University of Kentucky</td>\n",
       "      <td>1927.0</td>\n",
       "      <td>Hardinsburg</td>\n",
       "      <td>Kentucky</td>\n",
       "    </tr>\n",
       "    <tr>\n",
       "      <th>5</th>\n",
       "      <td>Gene Berce</td>\n",
       "      <td>180.0</td>\n",
       "      <td>79.0</td>\n",
       "      <td>Marquette University</td>\n",
       "      <td>1926.0</td>\n",
       "      <td>NaN</td>\n",
       "      <td>NaN</td>\n",
       "    </tr>\n",
       "    <tr>\n",
       "      <th>6</th>\n",
       "      <td>Charlie Black</td>\n",
       "      <td>196.0</td>\n",
       "      <td>90.0</td>\n",
       "      <td>University of Kansas</td>\n",
       "      <td>1921.0</td>\n",
       "      <td>Arco</td>\n",
       "      <td>Idaho</td>\n",
       "    </tr>\n",
       "    <tr>\n",
       "      <th>7</th>\n",
       "      <td>Nelson Bobb</td>\n",
       "      <td>183.0</td>\n",
       "      <td>77.0</td>\n",
       "      <td>Temple University</td>\n",
       "      <td>1924.0</td>\n",
       "      <td>Philadelphia</td>\n",
       "      <td>Pennsylvania</td>\n",
       "    </tr>\n",
       "    <tr>\n",
       "      <th>8</th>\n",
       "      <td>Jake Bornheimer</td>\n",
       "      <td>196.0</td>\n",
       "      <td>90.0</td>\n",
       "      <td>Muhlenberg College</td>\n",
       "      <td>1927.0</td>\n",
       "      <td>New Brunswick</td>\n",
       "      <td>New Jersey</td>\n",
       "    </tr>\n",
       "    <tr>\n",
       "      <th>9</th>\n",
       "      <td>Vince Boryla</td>\n",
       "      <td>196.0</td>\n",
       "      <td>95.0</td>\n",
       "      <td>University of Denver</td>\n",
       "      <td>1927.0</td>\n",
       "      <td>East Chicago</td>\n",
       "      <td>Indiana</td>\n",
       "    </tr>\n",
       "    <tr>\n",
       "      <th>10</th>\n",
       "      <td>Don Boven</td>\n",
       "      <td>193.0</td>\n",
       "      <td>95.0</td>\n",
       "      <td>Western Michigan University</td>\n",
       "      <td>1925.0</td>\n",
       "      <td>Kalamazoo</td>\n",
       "      <td>Michigan</td>\n",
       "    </tr>\n",
       "    <tr>\n",
       "      <th>11</th>\n",
       "      <td>Harry Boykoff</td>\n",
       "      <td>208.0</td>\n",
       "      <td>102.0</td>\n",
       "      <td>St. John's University</td>\n",
       "      <td>1922.0</td>\n",
       "      <td>Brooklyn</td>\n",
       "      <td>New York</td>\n",
       "    </tr>\n",
       "    <tr>\n",
       "      <th>12</th>\n",
       "      <td>Joe Bradley</td>\n",
       "      <td>190.0</td>\n",
       "      <td>79.0</td>\n",
       "      <td>Oklahoma State University</td>\n",
       "      <td>1928.0</td>\n",
       "      <td>Washington</td>\n",
       "      <td>Oklahoma</td>\n",
       "    </tr>\n",
       "    <tr>\n",
       "      <th>13</th>\n",
       "      <td>Bob Brannum</td>\n",
       "      <td>196.0</td>\n",
       "      <td>97.0</td>\n",
       "      <td>Michigan State University</td>\n",
       "      <td>1925.0</td>\n",
       "      <td>NaN</td>\n",
       "      <td>NaN</td>\n",
       "    </tr>\n",
       "    <tr>\n",
       "      <th>14</th>\n",
       "      <td>Carl Braun</td>\n",
       "      <td>196.0</td>\n",
       "      <td>81.0</td>\n",
       "      <td>Colgate University</td>\n",
       "      <td>1927.0</td>\n",
       "      <td>Brooklyn</td>\n",
       "      <td>New York</td>\n",
       "    </tr>\n",
       "    <tr>\n",
       "      <th>15</th>\n",
       "      <td>Frankie Brian</td>\n",
       "      <td>185.0</td>\n",
       "      <td>81.0</td>\n",
       "      <td>Louisiana State University</td>\n",
       "      <td>1923.0</td>\n",
       "      <td>Zachary</td>\n",
       "      <td>Louisiana</td>\n",
       "    </tr>\n",
       "    <tr>\n",
       "      <th>16</th>\n",
       "      <td>Price Brookfield</td>\n",
       "      <td>193.0</td>\n",
       "      <td>83.0</td>\n",
       "      <td>West Texas A&amp;M University</td>\n",
       "      <td>1920.0</td>\n",
       "      <td>Floydada</td>\n",
       "      <td>Texas</td>\n",
       "    </tr>\n",
       "    <tr>\n",
       "      <th>17</th>\n",
       "      <td>Bob Brown</td>\n",
       "      <td>193.0</td>\n",
       "      <td>92.0</td>\n",
       "      <td>Miami University</td>\n",
       "      <td>1923.0</td>\n",
       "      <td>Versailles</td>\n",
       "      <td>Ohio</td>\n",
       "    </tr>\n",
       "    <tr>\n",
       "      <th>18</th>\n",
       "      <td>Jim Browne</td>\n",
       "      <td>208.0</td>\n",
       "      <td>106.0</td>\n",
       "      <td>NaN</td>\n",
       "      <td>1930.0</td>\n",
       "      <td>Midlothian</td>\n",
       "      <td>Illinois</td>\n",
       "    </tr>\n",
       "    <tr>\n",
       "      <th>19</th>\n",
       "      <td>Walt Budko</td>\n",
       "      <td>196.0</td>\n",
       "      <td>99.0</td>\n",
       "      <td>Columbia University</td>\n",
       "      <td>1925.0</td>\n",
       "      <td>Kearney</td>\n",
       "      <td>New Jersey</td>\n",
       "    </tr>\n",
       "    <tr>\n",
       "      <th>20</th>\n",
       "      <td>Jack Burmaster</td>\n",
       "      <td>190.0</td>\n",
       "      <td>86.0</td>\n",
       "      <td>University of Illinois at Urbana-Champaign</td>\n",
       "      <td>1926.0</td>\n",
       "      <td>NaN</td>\n",
       "      <td>NaN</td>\n",
       "    </tr>\n",
       "    <tr>\n",
       "      <th>21</th>\n",
       "      <td>Tommy Byrnes</td>\n",
       "      <td>190.0</td>\n",
       "      <td>79.0</td>\n",
       "      <td>Seton Hall University</td>\n",
       "      <td>1923.0</td>\n",
       "      <td>Teaneck</td>\n",
       "      <td>New Jersey</td>\n",
       "    </tr>\n",
       "    <tr>\n",
       "      <th>22</th>\n",
       "      <td>Bill Calhoun</td>\n",
       "      <td>190.0</td>\n",
       "      <td>81.0</td>\n",
       "      <td>City College of San Francisco</td>\n",
       "      <td>1927.0</td>\n",
       "      <td>San Francisco</td>\n",
       "      <td>California</td>\n",
       "    </tr>\n",
       "    <tr>\n",
       "      <th>23</th>\n",
       "      <td>Don Carlson</td>\n",
       "      <td>183.0</td>\n",
       "      <td>77.0</td>\n",
       "      <td>University of Minnesota</td>\n",
       "      <td>1919.0</td>\n",
       "      <td>Minneapolis</td>\n",
       "      <td>Minnesota</td>\n",
       "    </tr>\n",
       "    <tr>\n",
       "      <th>24</th>\n",
       "      <td>Bob Carpenter</td>\n",
       "      <td>196.0</td>\n",
       "      <td>90.0</td>\n",
       "      <td>East Texas State University</td>\n",
       "      <td>1917.0</td>\n",
       "      <td>NaN</td>\n",
       "      <td>NaN</td>\n",
       "    </tr>\n",
       "    <tr>\n",
       "      <th>25</th>\n",
       "      <td>Jake Carter</td>\n",
       "      <td>193.0</td>\n",
       "      <td>88.0</td>\n",
       "      <td>East Texas State University</td>\n",
       "      <td>1924.0</td>\n",
       "      <td>NaN</td>\n",
       "      <td>NaN</td>\n",
       "    </tr>\n",
       "    <tr>\n",
       "      <th>26</th>\n",
       "      <td>Al Cervi*</td>\n",
       "      <td>180.0</td>\n",
       "      <td>77.0</td>\n",
       "      <td>NaN</td>\n",
       "      <td>1917.0</td>\n",
       "      <td>Buffalo</td>\n",
       "      <td>New York</td>\n",
       "    </tr>\n",
       "    <tr>\n",
       "      <th>27</th>\n",
       "      <td>John Chaney</td>\n",
       "      <td>190.0</td>\n",
       "      <td>83.0</td>\n",
       "      <td>Louisiana State University</td>\n",
       "      <td>1920.0</td>\n",
       "      <td>NaN</td>\n",
       "      <td>NaN</td>\n",
       "    </tr>\n",
       "    <tr>\n",
       "      <th>28</th>\n",
       "      <td>Leroy Chollet</td>\n",
       "      <td>188.0</td>\n",
       "      <td>86.0</td>\n",
       "      <td>Canisius College</td>\n",
       "      <td>1925.0</td>\n",
       "      <td>New Orleans</td>\n",
       "      <td>Louisiana</td>\n",
       "    </tr>\n",
       "    <tr>\n",
       "      <th>29</th>\n",
       "      <td>Bill Closs</td>\n",
       "      <td>196.0</td>\n",
       "      <td>88.0</td>\n",
       "      <td>Rice University</td>\n",
       "      <td>1922.0</td>\n",
       "      <td>Edge</td>\n",
       "      <td>Texas</td>\n",
       "    </tr>\n",
       "    <tr>\n",
       "      <th>...</th>\n",
       "      <td>...</td>\n",
       "      <td>...</td>\n",
       "      <td>...</td>\n",
       "      <td>...</td>\n",
       "      <td>...</td>\n",
       "      <td>...</td>\n",
       "      <td>...</td>\n",
       "    </tr>\n",
       "    <tr>\n",
       "      <th>3892</th>\n",
       "      <td>Chinanu Onuaku</td>\n",
       "      <td>208.0</td>\n",
       "      <td>111.0</td>\n",
       "      <td>University of Louisville</td>\n",
       "      <td>1996.0</td>\n",
       "      <td>Baltimore</td>\n",
       "      <td>Maryland</td>\n",
       "    </tr>\n",
       "    <tr>\n",
       "      <th>3893</th>\n",
       "      <td>Georgios Papagiannis</td>\n",
       "      <td>216.0</td>\n",
       "      <td>108.0</td>\n",
       "      <td>NaN</td>\n",
       "      <td>1997.0</td>\n",
       "      <td>Amarousio</td>\n",
       "      <td>Greece</td>\n",
       "    </tr>\n",
       "    <tr>\n",
       "      <th>3894</th>\n",
       "      <td>Gary Payton</td>\n",
       "      <td>193.0</td>\n",
       "      <td>81.0</td>\n",
       "      <td>Oregon State University</td>\n",
       "      <td>1968.0</td>\n",
       "      <td>Oakland</td>\n",
       "      <td>California</td>\n",
       "    </tr>\n",
       "    <tr>\n",
       "      <th>3895</th>\n",
       "      <td>Marshall Plumlee</td>\n",
       "      <td>211.0</td>\n",
       "      <td>111.0</td>\n",
       "      <td>Duke University</td>\n",
       "      <td>1990.0</td>\n",
       "      <td>Fort Wayne</td>\n",
       "      <td>Indiana</td>\n",
       "    </tr>\n",
       "    <tr>\n",
       "      <th>3896</th>\n",
       "      <td>Jakob Poeltl</td>\n",
       "      <td>213.0</td>\n",
       "      <td>112.0</td>\n",
       "      <td>University of Utah</td>\n",
       "      <td>1995.0</td>\n",
       "      <td>Vienna</td>\n",
       "      <td>Austria</td>\n",
       "    </tr>\n",
       "    <tr>\n",
       "      <th>3897</th>\n",
       "      <td>Alex Poythress</td>\n",
       "      <td>201.0</td>\n",
       "      <td>107.0</td>\n",
       "      <td>University of Kentucky</td>\n",
       "      <td>1993.0</td>\n",
       "      <td>Savannah</td>\n",
       "      <td>Georgia</td>\n",
       "    </tr>\n",
       "    <tr>\n",
       "      <th>3898</th>\n",
       "      <td>Tim Quarterman</td>\n",
       "      <td>198.0</td>\n",
       "      <td>88.0</td>\n",
       "      <td>Louisiana State University</td>\n",
       "      <td>1994.0</td>\n",
       "      <td>Savannah</td>\n",
       "      <td>Georgia</td>\n",
       "    </tr>\n",
       "    <tr>\n",
       "      <th>3899</th>\n",
       "      <td>Chasson Randle</td>\n",
       "      <td>188.0</td>\n",
       "      <td>83.0</td>\n",
       "      <td>Stanford University</td>\n",
       "      <td>1993.0</td>\n",
       "      <td>Rock Island</td>\n",
       "      <td>Illinois</td>\n",
       "    </tr>\n",
       "    <tr>\n",
       "      <th>3900</th>\n",
       "      <td>Malachi Richardson</td>\n",
       "      <td>198.0</td>\n",
       "      <td>92.0</td>\n",
       "      <td>Syracuse University</td>\n",
       "      <td>1996.0</td>\n",
       "      <td>Trenton</td>\n",
       "      <td>New Jersey</td>\n",
       "    </tr>\n",
       "    <tr>\n",
       "      <th>3901</th>\n",
       "      <td>Domantas Sabonis</td>\n",
       "      <td>211.0</td>\n",
       "      <td>108.0</td>\n",
       "      <td>Gonzaga University</td>\n",
       "      <td>1996.0</td>\n",
       "      <td>Portland</td>\n",
       "      <td>Oregon</td>\n",
       "    </tr>\n",
       "    <tr>\n",
       "      <th>3902</th>\n",
       "      <td>Dario Saric</td>\n",
       "      <td>208.0</td>\n",
       "      <td>101.0</td>\n",
       "      <td>NaN</td>\n",
       "      <td>1994.0</td>\n",
       "      <td>Sibenik</td>\n",
       "      <td>Croatia</td>\n",
       "    </tr>\n",
       "    <tr>\n",
       "      <th>3903</th>\n",
       "      <td>Tomas Satoransky</td>\n",
       "      <td>201.0</td>\n",
       "      <td>95.0</td>\n",
       "      <td>NaN</td>\n",
       "      <td>1991.0</td>\n",
       "      <td>Prague</td>\n",
       "      <td>Czech Republic</td>\n",
       "    </tr>\n",
       "    <tr>\n",
       "      <th>3904</th>\n",
       "      <td>Wayne Selden</td>\n",
       "      <td>196.0</td>\n",
       "      <td>104.0</td>\n",
       "      <td>University of Kansas</td>\n",
       "      <td>1994.0</td>\n",
       "      <td>Roxbury</td>\n",
       "      <td>Massachusetts</td>\n",
       "    </tr>\n",
       "    <tr>\n",
       "      <th>3905</th>\n",
       "      <td>Pascal Siakam</td>\n",
       "      <td>206.0</td>\n",
       "      <td>104.0</td>\n",
       "      <td>New Mexico State University</td>\n",
       "      <td>1994.0</td>\n",
       "      <td>Douala</td>\n",
       "      <td>Cameroon</td>\n",
       "    </tr>\n",
       "    <tr>\n",
       "      <th>3906</th>\n",
       "      <td>Diamond Stone</td>\n",
       "      <td>211.0</td>\n",
       "      <td>115.0</td>\n",
       "      <td>University of Maryland</td>\n",
       "      <td>1997.0</td>\n",
       "      <td>Milwaukee</td>\n",
       "      <td>Wisconsin</td>\n",
       "    </tr>\n",
       "    <tr>\n",
       "      <th>3907</th>\n",
       "      <td>Edy Tavares</td>\n",
       "      <td>211.0</td>\n",
       "      <td>115.0</td>\n",
       "      <td>NaN</td>\n",
       "      <td>1997.0</td>\n",
       "      <td>NaN</td>\n",
       "      <td>NaN</td>\n",
       "    </tr>\n",
       "    <tr>\n",
       "      <th>3908</th>\n",
       "      <td>Isaiah Taylor</td>\n",
       "      <td>190.0</td>\n",
       "      <td>77.0</td>\n",
       "      <td>University of Texas at Austin</td>\n",
       "      <td>1994.0</td>\n",
       "      <td>Hayward</td>\n",
       "      <td>California</td>\n",
       "    </tr>\n",
       "    <tr>\n",
       "      <th>3909</th>\n",
       "      <td>Mike Tobey</td>\n",
       "      <td>213.0</td>\n",
       "      <td>117.0</td>\n",
       "      <td>University of Virginia</td>\n",
       "      <td>1994.0</td>\n",
       "      <td>Monroe</td>\n",
       "      <td>New York</td>\n",
       "    </tr>\n",
       "    <tr>\n",
       "      <th>3910</th>\n",
       "      <td>Tyler Ulis</td>\n",
       "      <td>178.0</td>\n",
       "      <td>68.0</td>\n",
       "      <td>University of Kentucky</td>\n",
       "      <td>1996.0</td>\n",
       "      <td>Detroit</td>\n",
       "      <td>Michigan</td>\n",
       "    </tr>\n",
       "    <tr>\n",
       "      <th>3911</th>\n",
       "      <td>Jarrod Uthoff</td>\n",
       "      <td>206.0</td>\n",
       "      <td>100.0</td>\n",
       "      <td>University of Iowa</td>\n",
       "      <td>1993.0</td>\n",
       "      <td>Cedar Rapids</td>\n",
       "      <td>Iowa</td>\n",
       "    </tr>\n",
       "    <tr>\n",
       "      <th>3912</th>\n",
       "      <td>Denzel Valentine</td>\n",
       "      <td>198.0</td>\n",
       "      <td>96.0</td>\n",
       "      <td>Michigan State University</td>\n",
       "      <td>1993.0</td>\n",
       "      <td>Lansing</td>\n",
       "      <td>Michigan</td>\n",
       "    </tr>\n",
       "    <tr>\n",
       "      <th>3913</th>\n",
       "      <td>Fred VanVleet</td>\n",
       "      <td>183.0</td>\n",
       "      <td>88.0</td>\n",
       "      <td>Wichita State University</td>\n",
       "      <td>1994.0</td>\n",
       "      <td>Rockford</td>\n",
       "      <td>Illinois</td>\n",
       "    </tr>\n",
       "    <tr>\n",
       "      <th>3914</th>\n",
       "      <td>Taurean Waller-Prince</td>\n",
       "      <td>183.0</td>\n",
       "      <td>88.0</td>\n",
       "      <td>NaN</td>\n",
       "      <td>1994.0</td>\n",
       "      <td>NaN</td>\n",
       "      <td>NaN</td>\n",
       "    </tr>\n",
       "    <tr>\n",
       "      <th>3915</th>\n",
       "      <td>Okaro White</td>\n",
       "      <td>203.0</td>\n",
       "      <td>92.0</td>\n",
       "      <td>Florida State University</td>\n",
       "      <td>1992.0</td>\n",
       "      <td>Clearwater</td>\n",
       "      <td>Florida</td>\n",
       "    </tr>\n",
       "    <tr>\n",
       "      <th>3916</th>\n",
       "      <td>Isaiah Whitehead</td>\n",
       "      <td>193.0</td>\n",
       "      <td>96.0</td>\n",
       "      <td>Seton Hall University</td>\n",
       "      <td>1995.0</td>\n",
       "      <td>Brooklyn</td>\n",
       "      <td>New York</td>\n",
       "    </tr>\n",
       "    <tr>\n",
       "      <th>3917</th>\n",
       "      <td>Troy Williams</td>\n",
       "      <td>198.0</td>\n",
       "      <td>97.0</td>\n",
       "      <td>South Carolina State University</td>\n",
       "      <td>1969.0</td>\n",
       "      <td>Columbia</td>\n",
       "      <td>South Carolina</td>\n",
       "    </tr>\n",
       "    <tr>\n",
       "      <th>3918</th>\n",
       "      <td>Kyle Wiltjer</td>\n",
       "      <td>208.0</td>\n",
       "      <td>108.0</td>\n",
       "      <td>Gonzaga University</td>\n",
       "      <td>1992.0</td>\n",
       "      <td>Portland</td>\n",
       "      <td>Oregon</td>\n",
       "    </tr>\n",
       "    <tr>\n",
       "      <th>3919</th>\n",
       "      <td>Stephen Zimmerman</td>\n",
       "      <td>213.0</td>\n",
       "      <td>108.0</td>\n",
       "      <td>University of Nevada, Las Vegas</td>\n",
       "      <td>1996.0</td>\n",
       "      <td>Hendersonville</td>\n",
       "      <td>Tennessee</td>\n",
       "    </tr>\n",
       "    <tr>\n",
       "      <th>3920</th>\n",
       "      <td>Paul Zipser</td>\n",
       "      <td>203.0</td>\n",
       "      <td>97.0</td>\n",
       "      <td>NaN</td>\n",
       "      <td>1994.0</td>\n",
       "      <td>Heidelberg</td>\n",
       "      <td>Germany</td>\n",
       "    </tr>\n",
       "    <tr>\n",
       "      <th>3921</th>\n",
       "      <td>Ivica Zubac</td>\n",
       "      <td>216.0</td>\n",
       "      <td>120.0</td>\n",
       "      <td>NaN</td>\n",
       "      <td>1997.0</td>\n",
       "      <td>Mostar</td>\n",
       "      <td>Bosnia and Herzegovina</td>\n",
       "    </tr>\n",
       "  </tbody>\n",
       "</table>\n",
       "<p>3922 rows × 7 columns</p>\n",
       "</div>"
      ],
      "text/plain": [
       "                     Player  height  ...      birth_city             birth_state\n",
       "0           Curly Armstrong   180.0  ...             NaN                     NaN\n",
       "1              Cliff Barker   188.0  ...        Yorktown                 Indiana\n",
       "2             Leo Barnhorst   193.0  ...             NaN                     NaN\n",
       "3                Ed Bartels   196.0  ...             NaN                     NaN\n",
       "4               Ralph Beard   178.0  ...     Hardinsburg                Kentucky\n",
       "5                Gene Berce   180.0  ...             NaN                     NaN\n",
       "6             Charlie Black   196.0  ...            Arco                   Idaho\n",
       "7               Nelson Bobb   183.0  ...    Philadelphia            Pennsylvania\n",
       "8           Jake Bornheimer   196.0  ...   New Brunswick              New Jersey\n",
       "9              Vince Boryla   196.0  ...    East Chicago                 Indiana\n",
       "10                Don Boven   193.0  ...       Kalamazoo                Michigan\n",
       "11            Harry Boykoff   208.0  ...        Brooklyn                New York\n",
       "12              Joe Bradley   190.0  ...      Washington                Oklahoma\n",
       "13              Bob Brannum   196.0  ...             NaN                     NaN\n",
       "14               Carl Braun   196.0  ...        Brooklyn                New York\n",
       "15            Frankie Brian   185.0  ...         Zachary               Louisiana\n",
       "16         Price Brookfield   193.0  ...        Floydada                   Texas\n",
       "17                Bob Brown   193.0  ...      Versailles                    Ohio\n",
       "18               Jim Browne   208.0  ...      Midlothian                Illinois\n",
       "19               Walt Budko   196.0  ...         Kearney              New Jersey\n",
       "20           Jack Burmaster   190.0  ...             NaN                     NaN\n",
       "21             Tommy Byrnes   190.0  ...         Teaneck              New Jersey\n",
       "22             Bill Calhoun   190.0  ...   San Francisco              California\n",
       "23              Don Carlson   183.0  ...     Minneapolis               Minnesota\n",
       "24            Bob Carpenter   196.0  ...             NaN                     NaN\n",
       "25              Jake Carter   193.0  ...             NaN                     NaN\n",
       "26                Al Cervi*   180.0  ...         Buffalo                New York\n",
       "27              John Chaney   190.0  ...             NaN                     NaN\n",
       "28            Leroy Chollet   188.0  ...     New Orleans               Louisiana\n",
       "29               Bill Closs   196.0  ...            Edge                   Texas\n",
       "...                     ...     ...  ...             ...                     ...\n",
       "3892         Chinanu Onuaku   208.0  ...       Baltimore                Maryland\n",
       "3893   Georgios Papagiannis   216.0  ...       Amarousio                  Greece\n",
       "3894            Gary Payton   193.0  ...         Oakland              California\n",
       "3895       Marshall Plumlee   211.0  ...      Fort Wayne                 Indiana\n",
       "3896           Jakob Poeltl   213.0  ...          Vienna                 Austria\n",
       "3897         Alex Poythress   201.0  ...        Savannah                 Georgia\n",
       "3898         Tim Quarterman   198.0  ...        Savannah                 Georgia\n",
       "3899         Chasson Randle   188.0  ...     Rock Island                Illinois\n",
       "3900     Malachi Richardson   198.0  ...         Trenton              New Jersey\n",
       "3901       Domantas Sabonis   211.0  ...        Portland                  Oregon\n",
       "3902            Dario Saric   208.0  ...         Sibenik                 Croatia\n",
       "3903       Tomas Satoransky   201.0  ...          Prague          Czech Republic\n",
       "3904           Wayne Selden   196.0  ...         Roxbury           Massachusetts\n",
       "3905          Pascal Siakam   206.0  ...          Douala                Cameroon\n",
       "3906          Diamond Stone   211.0  ...       Milwaukee               Wisconsin\n",
       "3907            Edy Tavares   211.0  ...             NaN                     NaN\n",
       "3908          Isaiah Taylor   190.0  ...         Hayward              California\n",
       "3909             Mike Tobey   213.0  ...          Monroe                New York\n",
       "3910             Tyler Ulis   178.0  ...         Detroit                Michigan\n",
       "3911          Jarrod Uthoff   206.0  ...    Cedar Rapids                    Iowa\n",
       "3912       Denzel Valentine   198.0  ...         Lansing                Michigan\n",
       "3913          Fred VanVleet   183.0  ...        Rockford                Illinois\n",
       "3914  Taurean Waller-Prince   183.0  ...             NaN                     NaN\n",
       "3915            Okaro White   203.0  ...      Clearwater                 Florida\n",
       "3916       Isaiah Whitehead   193.0  ...        Brooklyn                New York\n",
       "3917          Troy Williams   198.0  ...        Columbia          South Carolina\n",
       "3918           Kyle Wiltjer   208.0  ...        Portland                  Oregon\n",
       "3919      Stephen Zimmerman   213.0  ...  Hendersonville               Tennessee\n",
       "3920            Paul Zipser   203.0  ...      Heidelberg                 Germany\n",
       "3921            Ivica Zubac   216.0  ...          Mostar  Bosnia and Herzegovina\n",
       "\n",
       "[3922 rows x 7 columns]"
      ]
     },
     "execution_count": 92,
     "metadata": {
      "tags": []
     },
     "output_type": "execute_result"
    }
   ],
   "source": [
    "nba"
   ]
  },
  {
   "cell_type": "markdown",
   "metadata": {
    "colab_type": "text",
    "id": "uWyfG8UB_FAH"
   },
   "source": [
    "\n",
    "\n",
    "Podemos acceder a un valor concreto usando el acceso a datos visto anteriormente en Series"
   ]
  },
  {
   "cell_type": "code",
   "execution_count": 94,
   "metadata": {
    "colab": {
     "base_uri": "https://localhost:8080/",
     "height": 34
    },
    "colab_type": "code",
    "executionInfo": {
     "elapsed": 434,
     "status": "ok",
     "timestamp": 1566777455715,
     "user": {
      "displayName": "Quipu AI",
      "photoUrl": "https://lh3.googleusercontent.com/a-/AAuE7mAqpYVhA94BaV-w3FInoujWFEsMitSVZR7MmvRW=s64",
      "userId": "00799183920318522678"
     },
     "user_tz": 300
    },
    "id": "ba3KY8E9_FAI",
    "outputId": "859eaaa9-4471-4dce-fa58-617dc483712a"
   },
   "outputs": [
    {
     "data": {
      "text/plain": [
       "83.0"
      ]
     },
     "execution_count": 94,
     "metadata": {
      "tags": []
     },
     "output_type": "execute_result"
    }
   ],
   "source": [
    "nba.iloc[1]['weight']"
   ]
  },
  {
   "cell_type": "markdown",
   "metadata": {
    "colab_type": "text",
    "id": "SB3W9xdn_FAJ"
   },
   "source": [
    "\n",
    "\n",
    "---\n",
    "## Métodos en Dataframes\n",
    "\n",
    "\n",
    "Vemos algunos métodos útiles de la clase Dataframe"
   ]
  },
  {
   "cell_type": "code",
   "execution_count": 96,
   "metadata": {
    "colab": {
     "base_uri": "https://localhost:8080/",
     "height": 34
    },
    "colab_type": "code",
    "executionInfo": {
     "elapsed": 472,
     "status": "ok",
     "timestamp": 1566777523906,
     "user": {
      "displayName": "Quipu AI",
      "photoUrl": "https://lh3.googleusercontent.com/a-/AAuE7mAqpYVhA94BaV-w3FInoujWFEsMitSVZR7MmvRW=s64",
      "userId": "00799183920318522678"
     },
     "user_tz": 300
    },
    "id": "urTD1fWA_FAK",
    "outputId": "cef7efef-3c59-4414-aaee-a7e4588c81ec"
   },
   "outputs": [
    {
     "data": {
      "text/plain": [
       "pandas.core.frame.DataFrame"
      ]
     },
     "execution_count": 96,
     "metadata": {
      "tags": []
     },
     "output_type": "execute_result"
    }
   ],
   "source": [
    "import pandas as pd\n",
    "data = pd.read_csv('nba.csv')\n",
    "type(data)"
   ]
  },
  {
   "cell_type": "markdown",
   "metadata": {
    "colab_type": "text",
    "id": "dsKFx_ms_FAL"
   },
   "source": [
    "\n",
    "\n",
    "Nos indica el número de columnas y filas del dataframe"
   ]
  },
  {
   "cell_type": "code",
   "execution_count": 97,
   "metadata": {
    "colab": {
     "base_uri": "https://localhost:8080/",
     "height": 34
    },
    "colab_type": "code",
    "executionInfo": {
     "elapsed": 471,
     "status": "ok",
     "timestamp": 1566777532179,
     "user": {
      "displayName": "Quipu AI",
      "photoUrl": "https://lh3.googleusercontent.com/a-/AAuE7mAqpYVhA94BaV-w3FInoujWFEsMitSVZR7MmvRW=s64",
      "userId": "00799183920318522678"
     },
     "user_tz": 300
    },
    "id": "h-e2OfUL_FAM",
    "outputId": "7cfdc1d6-5aba-4005-c396-70d18cc63475"
   },
   "outputs": [
    {
     "data": {
      "text/plain": [
       "(3922, 7)"
      ]
     },
     "execution_count": 97,
     "metadata": {
      "tags": []
     },
     "output_type": "execute_result"
    }
   ],
   "source": [
    "data.shape"
   ]
  },
  {
   "cell_type": "code",
   "execution_count": 98,
   "metadata": {
    "colab": {
     "base_uri": "https://localhost:8080/",
     "height": 173
    },
    "colab_type": "code",
    "executionInfo": {
     "elapsed": 418,
     "status": "ok",
     "timestamp": 1566777549003,
     "user": {
      "displayName": "Quipu AI",
      "photoUrl": "https://lh3.googleusercontent.com/a-/AAuE7mAqpYVhA94BaV-w3FInoujWFEsMitSVZR7MmvRW=s64",
      "userId": "00799183920318522678"
     },
     "user_tz": 300
    },
    "id": "Y41lp5WY_FAP",
    "outputId": "62f148a7-07e0-4517-cd5d-2df166b12f99"
   },
   "outputs": [
    {
     "data": {
      "text/plain": [
       "array([['Curly Armstrong', 180.0, 77.0, ..., 1918.0, nan, nan],\n",
       "       ['Cliff Barker', 188.0, 83.0, ..., 1921.0, 'Yorktown', 'Indiana'],\n",
       "       ['Leo Barnhorst', 193.0, 86.0, ..., 1924.0, nan, nan],\n",
       "       ...,\n",
       "       ['Stephen Zimmerman', 213.0, 108.0, ..., 1996.0, 'Hendersonville',\n",
       "        'Tennessee'],\n",
       "       ['Paul Zipser', 203.0, 97.0, ..., 1994.0, 'Heidelberg', 'Germany'],\n",
       "       ['Ivica Zubac', 216.0, 120.0, ..., 1997.0, 'Mostar',\n",
       "        'Bosnia and Herzegovina']], dtype=object)"
      ]
     },
     "execution_count": 98,
     "metadata": {
      "tags": []
     },
     "output_type": "execute_result"
    }
   ],
   "source": [
    "data.values"
   ]
  },
  {
   "cell_type": "code",
   "execution_count": 99,
   "metadata": {
    "colab": {
     "base_uri": "https://localhost:8080/",
     "height": 34
    },
    "colab_type": "code",
    "executionInfo": {
     "elapsed": 441,
     "status": "ok",
     "timestamp": 1566777557230,
     "user": {
      "displayName": "Quipu AI",
      "photoUrl": "https://lh3.googleusercontent.com/a-/AAuE7mAqpYVhA94BaV-w3FInoujWFEsMitSVZR7MmvRW=s64",
      "userId": "00799183920318522678"
     },
     "user_tz": 300
    },
    "id": "oVUlqe0COC0F",
    "outputId": "71435aad-b4e5-4f05-9e6b-51d2c1c5e79f"
   },
   "outputs": [
    {
     "data": {
      "text/plain": [
       "numpy.ndarray"
      ]
     },
     "execution_count": 99,
     "metadata": {
      "tags": []
     },
     "output_type": "execute_result"
    }
   ],
   "source": [
    "type(data.values)"
   ]
  },
  {
   "cell_type": "markdown",
   "metadata": {
    "colab_type": "text",
    "id": "ZJdx1qE3_FAQ"
   },
   "source": [
    "\n",
    "\n",
    "Devuelve los n primeros registros (5 por defecto)"
   ]
  },
  {
   "cell_type": "code",
   "execution_count": 103,
   "metadata": {
    "colab": {
     "base_uri": "https://localhost:8080/",
     "height": 168
    },
    "colab_type": "code",
    "executionInfo": {
     "elapsed": 485,
     "status": "ok",
     "timestamp": 1566777599649,
     "user": {
      "displayName": "Quipu AI",
      "photoUrl": "https://lh3.googleusercontent.com/a-/AAuE7mAqpYVhA94BaV-w3FInoujWFEsMitSVZR7MmvRW=s64",
      "userId": "00799183920318522678"
     },
     "user_tz": 300
    },
    "id": "5hmqrO1S_FAS",
    "outputId": "b4cbdb20-0faf-43d2-bc39-908600731aa2"
   },
   "outputs": [
    {
     "data": {
      "text/html": [
       "<div>\n",
       "<style scoped>\n",
       "    .dataframe tbody tr th:only-of-type {\n",
       "        vertical-align: middle;\n",
       "    }\n",
       "\n",
       "    .dataframe tbody tr th {\n",
       "        vertical-align: top;\n",
       "    }\n",
       "\n",
       "    .dataframe thead th {\n",
       "        text-align: right;\n",
       "    }\n",
       "</style>\n",
       "<table border=\"1\" class=\"dataframe\">\n",
       "  <thead>\n",
       "    <tr style=\"text-align: right;\">\n",
       "      <th></th>\n",
       "      <th>Player</th>\n",
       "      <th>height</th>\n",
       "      <th>weight</th>\n",
       "      <th>collage</th>\n",
       "      <th>born</th>\n",
       "      <th>birth_city</th>\n",
       "      <th>birth_state</th>\n",
       "    </tr>\n",
       "  </thead>\n",
       "  <tbody>\n",
       "    <tr>\n",
       "      <th>0</th>\n",
       "      <td>Curly Armstrong</td>\n",
       "      <td>180.0</td>\n",
       "      <td>77.0</td>\n",
       "      <td>Indiana University</td>\n",
       "      <td>1918.0</td>\n",
       "      <td>NaN</td>\n",
       "      <td>NaN</td>\n",
       "    </tr>\n",
       "    <tr>\n",
       "      <th>1</th>\n",
       "      <td>Cliff Barker</td>\n",
       "      <td>188.0</td>\n",
       "      <td>83.0</td>\n",
       "      <td>University of Kentucky</td>\n",
       "      <td>1921.0</td>\n",
       "      <td>Yorktown</td>\n",
       "      <td>Indiana</td>\n",
       "    </tr>\n",
       "    <tr>\n",
       "      <th>2</th>\n",
       "      <td>Leo Barnhorst</td>\n",
       "      <td>193.0</td>\n",
       "      <td>86.0</td>\n",
       "      <td>University of Notre Dame</td>\n",
       "      <td>1924.0</td>\n",
       "      <td>NaN</td>\n",
       "      <td>NaN</td>\n",
       "    </tr>\n",
       "    <tr>\n",
       "      <th>3</th>\n",
       "      <td>Ed Bartels</td>\n",
       "      <td>196.0</td>\n",
       "      <td>88.0</td>\n",
       "      <td>North Carolina State University</td>\n",
       "      <td>1925.0</td>\n",
       "      <td>NaN</td>\n",
       "      <td>NaN</td>\n",
       "    </tr>\n",
       "  </tbody>\n",
       "</table>\n",
       "</div>"
      ],
      "text/plain": [
       "            Player  height  weight  ...    born  birth_city birth_state\n",
       "0  Curly Armstrong   180.0    77.0  ...  1918.0         NaN         NaN\n",
       "1     Cliff Barker   188.0    83.0  ...  1921.0    Yorktown     Indiana\n",
       "2    Leo Barnhorst   193.0    86.0  ...  1924.0         NaN         NaN\n",
       "3       Ed Bartels   196.0    88.0  ...  1925.0         NaN         NaN\n",
       "\n",
       "[4 rows x 7 columns]"
      ]
     },
     "execution_count": 103,
     "metadata": {
      "tags": []
     },
     "output_type": "execute_result"
    }
   ],
   "source": [
    "data.head(4)"
   ]
  },
  {
   "cell_type": "markdown",
   "metadata": {
    "colab_type": "text",
    "id": "O7TiGH64_FAT"
   },
   "source": [
    "\n",
    "\n",
    "Devuelve los n primeros registros (5 por defecto)"
   ]
  },
  {
   "cell_type": "code",
   "execution_count": 102,
   "metadata": {
    "colab": {
     "base_uri": "https://localhost:8080/",
     "height": 349
    },
    "colab_type": "code",
    "executionInfo": {
     "elapsed": 445,
     "status": "ok",
     "timestamp": 1566777593078,
     "user": {
      "displayName": "Quipu AI",
      "photoUrl": "https://lh3.googleusercontent.com/a-/AAuE7mAqpYVhA94BaV-w3FInoujWFEsMitSVZR7MmvRW=s64",
      "userId": "00799183920318522678"
     },
     "user_tz": 300
    },
    "id": "D-TVtZ1-_FAT",
    "outputId": "c922a70e-dae9-4dec-97ea-ed7d0af4f4d4"
   },
   "outputs": [
    {
     "data": {
      "text/html": [
       "<div>\n",
       "<style scoped>\n",
       "    .dataframe tbody tr th:only-of-type {\n",
       "        vertical-align: middle;\n",
       "    }\n",
       "\n",
       "    .dataframe tbody tr th {\n",
       "        vertical-align: top;\n",
       "    }\n",
       "\n",
       "    .dataframe thead th {\n",
       "        text-align: right;\n",
       "    }\n",
       "</style>\n",
       "<table border=\"1\" class=\"dataframe\">\n",
       "  <thead>\n",
       "    <tr style=\"text-align: right;\">\n",
       "      <th></th>\n",
       "      <th>Player</th>\n",
       "      <th>height</th>\n",
       "      <th>weight</th>\n",
       "      <th>collage</th>\n",
       "      <th>born</th>\n",
       "      <th>birth_city</th>\n",
       "      <th>birth_state</th>\n",
       "    </tr>\n",
       "  </thead>\n",
       "  <tbody>\n",
       "    <tr>\n",
       "      <th>3912</th>\n",
       "      <td>Denzel Valentine</td>\n",
       "      <td>198.0</td>\n",
       "      <td>96.0</td>\n",
       "      <td>Michigan State University</td>\n",
       "      <td>1993.0</td>\n",
       "      <td>Lansing</td>\n",
       "      <td>Michigan</td>\n",
       "    </tr>\n",
       "    <tr>\n",
       "      <th>3913</th>\n",
       "      <td>Fred VanVleet</td>\n",
       "      <td>183.0</td>\n",
       "      <td>88.0</td>\n",
       "      <td>Wichita State University</td>\n",
       "      <td>1994.0</td>\n",
       "      <td>Rockford</td>\n",
       "      <td>Illinois</td>\n",
       "    </tr>\n",
       "    <tr>\n",
       "      <th>3914</th>\n",
       "      <td>Taurean Waller-Prince</td>\n",
       "      <td>183.0</td>\n",
       "      <td>88.0</td>\n",
       "      <td>NaN</td>\n",
       "      <td>1994.0</td>\n",
       "      <td>NaN</td>\n",
       "      <td>NaN</td>\n",
       "    </tr>\n",
       "    <tr>\n",
       "      <th>3915</th>\n",
       "      <td>Okaro White</td>\n",
       "      <td>203.0</td>\n",
       "      <td>92.0</td>\n",
       "      <td>Florida State University</td>\n",
       "      <td>1992.0</td>\n",
       "      <td>Clearwater</td>\n",
       "      <td>Florida</td>\n",
       "    </tr>\n",
       "    <tr>\n",
       "      <th>3916</th>\n",
       "      <td>Isaiah Whitehead</td>\n",
       "      <td>193.0</td>\n",
       "      <td>96.0</td>\n",
       "      <td>Seton Hall University</td>\n",
       "      <td>1995.0</td>\n",
       "      <td>Brooklyn</td>\n",
       "      <td>New York</td>\n",
       "    </tr>\n",
       "    <tr>\n",
       "      <th>3917</th>\n",
       "      <td>Troy Williams</td>\n",
       "      <td>198.0</td>\n",
       "      <td>97.0</td>\n",
       "      <td>South Carolina State University</td>\n",
       "      <td>1969.0</td>\n",
       "      <td>Columbia</td>\n",
       "      <td>South Carolina</td>\n",
       "    </tr>\n",
       "    <tr>\n",
       "      <th>3918</th>\n",
       "      <td>Kyle Wiltjer</td>\n",
       "      <td>208.0</td>\n",
       "      <td>108.0</td>\n",
       "      <td>Gonzaga University</td>\n",
       "      <td>1992.0</td>\n",
       "      <td>Portland</td>\n",
       "      <td>Oregon</td>\n",
       "    </tr>\n",
       "    <tr>\n",
       "      <th>3919</th>\n",
       "      <td>Stephen Zimmerman</td>\n",
       "      <td>213.0</td>\n",
       "      <td>108.0</td>\n",
       "      <td>University of Nevada, Las Vegas</td>\n",
       "      <td>1996.0</td>\n",
       "      <td>Hendersonville</td>\n",
       "      <td>Tennessee</td>\n",
       "    </tr>\n",
       "    <tr>\n",
       "      <th>3920</th>\n",
       "      <td>Paul Zipser</td>\n",
       "      <td>203.0</td>\n",
       "      <td>97.0</td>\n",
       "      <td>NaN</td>\n",
       "      <td>1994.0</td>\n",
       "      <td>Heidelberg</td>\n",
       "      <td>Germany</td>\n",
       "    </tr>\n",
       "    <tr>\n",
       "      <th>3921</th>\n",
       "      <td>Ivica Zubac</td>\n",
       "      <td>216.0</td>\n",
       "      <td>120.0</td>\n",
       "      <td>NaN</td>\n",
       "      <td>1997.0</td>\n",
       "      <td>Mostar</td>\n",
       "      <td>Bosnia and Herzegovina</td>\n",
       "    </tr>\n",
       "  </tbody>\n",
       "</table>\n",
       "</div>"
      ],
      "text/plain": [
       "                     Player  height  ...      birth_city             birth_state\n",
       "3912       Denzel Valentine   198.0  ...         Lansing                Michigan\n",
       "3913          Fred VanVleet   183.0  ...        Rockford                Illinois\n",
       "3914  Taurean Waller-Prince   183.0  ...             NaN                     NaN\n",
       "3915            Okaro White   203.0  ...      Clearwater                 Florida\n",
       "3916       Isaiah Whitehead   193.0  ...        Brooklyn                New York\n",
       "3917          Troy Williams   198.0  ...        Columbia          South Carolina\n",
       "3918           Kyle Wiltjer   208.0  ...        Portland                  Oregon\n",
       "3919      Stephen Zimmerman   213.0  ...  Hendersonville               Tennessee\n",
       "3920            Paul Zipser   203.0  ...      Heidelberg                 Germany\n",
       "3921            Ivica Zubac   216.0  ...          Mostar  Bosnia and Herzegovina\n",
       "\n",
       "[10 rows x 7 columns]"
      ]
     },
     "execution_count": 102,
     "metadata": {
      "tags": []
     },
     "output_type": "execute_result"
    }
   ],
   "source": [
    "data.tail(10)"
   ]
  },
  {
   "cell_type": "markdown",
   "metadata": {
    "colab_type": "text",
    "id": "m-2DF1y0_FAV"
   },
   "source": [
    "Devuelve el tipo de datos de cada variable"
   ]
  },
  {
   "cell_type": "code",
   "execution_count": 104,
   "metadata": {
    "colab": {
     "base_uri": "https://localhost:8080/",
     "height": 155
    },
    "colab_type": "code",
    "executionInfo": {
     "elapsed": 453,
     "status": "ok",
     "timestamp": 1566777608345,
     "user": {
      "displayName": "Quipu AI",
      "photoUrl": "https://lh3.googleusercontent.com/a-/AAuE7mAqpYVhA94BaV-w3FInoujWFEsMitSVZR7MmvRW=s64",
      "userId": "00799183920318522678"
     },
     "user_tz": 300
    },
    "id": "hs27KJnv_gCh",
    "outputId": "7eee5a5a-6fdf-44c5-c353-b3897deb67ab"
   },
   "outputs": [
    {
     "data": {
      "text/plain": [
       "Player          object\n",
       "height         float64\n",
       "weight         float64\n",
       "collage         object\n",
       "born           float64\n",
       "birth_city      object\n",
       "birth_state     object\n",
       "dtype: object"
      ]
     },
     "execution_count": 104,
     "metadata": {
      "tags": []
     },
     "output_type": "execute_result"
    }
   ],
   "source": [
    "data.dtypes"
   ]
  },
  {
   "cell_type": "markdown",
   "metadata": {
    "colab_type": "text",
    "id": "FUOtn5rm_gCj"
   },
   "source": [
    "\n",
    "\n",
    "Devuelve un resumen estadístico de las variables"
   ]
  },
  {
   "cell_type": "code",
   "execution_count": 105,
   "metadata": {
    "colab": {
     "base_uri": "https://localhost:8080/",
     "height": 198
    },
    "colab_type": "code",
    "executionInfo": {
     "elapsed": 445,
     "status": "ok",
     "timestamp": 1566777642465,
     "user": {
      "displayName": "Quipu AI",
      "photoUrl": "https://lh3.googleusercontent.com/a-/AAuE7mAqpYVhA94BaV-w3FInoujWFEsMitSVZR7MmvRW=s64",
      "userId": "00799183920318522678"
     },
     "user_tz": 300
    },
    "id": "GJRuia5fOVuc",
    "outputId": "d4341438-6965-43d0-c8b3-85978ef50206"
   },
   "outputs": [
    {
     "data": {
      "text/html": [
       "<div>\n",
       "<style scoped>\n",
       "    .dataframe tbody tr th:only-of-type {\n",
       "        vertical-align: middle;\n",
       "    }\n",
       "\n",
       "    .dataframe tbody tr th {\n",
       "        vertical-align: top;\n",
       "    }\n",
       "\n",
       "    .dataframe thead th {\n",
       "        text-align: right;\n",
       "    }\n",
       "</style>\n",
       "<table border=\"1\" class=\"dataframe\">\n",
       "  <thead>\n",
       "    <tr style=\"text-align: right;\">\n",
       "      <th></th>\n",
       "      <th>Player</th>\n",
       "      <th>height</th>\n",
       "      <th>weight</th>\n",
       "      <th>collage</th>\n",
       "      <th>born</th>\n",
       "      <th>birth_city</th>\n",
       "      <th>birth_state</th>\n",
       "    </tr>\n",
       "  </thead>\n",
       "  <tbody>\n",
       "    <tr>\n",
       "      <th>0</th>\n",
       "      <td>Curly Armstrong</td>\n",
       "      <td>180.0</td>\n",
       "      <td>77.0</td>\n",
       "      <td>Indiana University</td>\n",
       "      <td>1918.0</td>\n",
       "      <td>NaN</td>\n",
       "      <td>NaN</td>\n",
       "    </tr>\n",
       "    <tr>\n",
       "      <th>1</th>\n",
       "      <td>Cliff Barker</td>\n",
       "      <td>188.0</td>\n",
       "      <td>83.0</td>\n",
       "      <td>University of Kentucky</td>\n",
       "      <td>1921.0</td>\n",
       "      <td>Yorktown</td>\n",
       "      <td>Indiana</td>\n",
       "    </tr>\n",
       "    <tr>\n",
       "      <th>2</th>\n",
       "      <td>Leo Barnhorst</td>\n",
       "      <td>193.0</td>\n",
       "      <td>86.0</td>\n",
       "      <td>University of Notre Dame</td>\n",
       "      <td>1924.0</td>\n",
       "      <td>NaN</td>\n",
       "      <td>NaN</td>\n",
       "    </tr>\n",
       "    <tr>\n",
       "      <th>3</th>\n",
       "      <td>Ed Bartels</td>\n",
       "      <td>196.0</td>\n",
       "      <td>88.0</td>\n",
       "      <td>North Carolina State University</td>\n",
       "      <td>1925.0</td>\n",
       "      <td>NaN</td>\n",
       "      <td>NaN</td>\n",
       "    </tr>\n",
       "    <tr>\n",
       "      <th>4</th>\n",
       "      <td>Ralph Beard</td>\n",
       "      <td>178.0</td>\n",
       "      <td>79.0</td>\n",
       "      <td>University of Kentucky</td>\n",
       "      <td>1927.0</td>\n",
       "      <td>Hardinsburg</td>\n",
       "      <td>Kentucky</td>\n",
       "    </tr>\n",
       "  </tbody>\n",
       "</table>\n",
       "</div>"
      ],
      "text/plain": [
       "            Player  height  weight  ...    born   birth_city birth_state\n",
       "0  Curly Armstrong   180.0    77.0  ...  1918.0          NaN         NaN\n",
       "1     Cliff Barker   188.0    83.0  ...  1921.0     Yorktown     Indiana\n",
       "2    Leo Barnhorst   193.0    86.0  ...  1924.0          NaN         NaN\n",
       "3       Ed Bartels   196.0    88.0  ...  1925.0          NaN         NaN\n",
       "4      Ralph Beard   178.0    79.0  ...  1927.0  Hardinsburg    Kentucky\n",
       "\n",
       "[5 rows x 7 columns]"
      ]
     },
     "execution_count": 105,
     "metadata": {
      "tags": []
     },
     "output_type": "execute_result"
    }
   ],
   "source": [
    "data.head()"
   ]
  },
  {
   "cell_type": "code",
   "execution_count": 106,
   "metadata": {
    "colab": {
     "base_uri": "https://localhost:8080/",
     "height": 379
    },
    "colab_type": "code",
    "executionInfo": {
     "elapsed": 436,
     "status": "ok",
     "timestamp": 1566777682273,
     "user": {
      "displayName": "Quipu AI",
      "photoUrl": "https://lh3.googleusercontent.com/a-/AAuE7mAqpYVhA94BaV-w3FInoujWFEsMitSVZR7MmvRW=s64",
      "userId": "00799183920318522678"
     },
     "user_tz": 300
    },
    "id": "ItU8LQKX_FAW",
    "outputId": "6dff565d-03e8-44ab-a377-9f0d698f9e67"
   },
   "outputs": [
    {
     "data": {
      "text/html": [
       "<div>\n",
       "<style scoped>\n",
       "    .dataframe tbody tr th:only-of-type {\n",
       "        vertical-align: middle;\n",
       "    }\n",
       "\n",
       "    .dataframe tbody tr th {\n",
       "        vertical-align: top;\n",
       "    }\n",
       "\n",
       "    .dataframe thead th {\n",
       "        text-align: right;\n",
       "    }\n",
       "</style>\n",
       "<table border=\"1\" class=\"dataframe\">\n",
       "  <thead>\n",
       "    <tr style=\"text-align: right;\">\n",
       "      <th></th>\n",
       "      <th>Player</th>\n",
       "      <th>height</th>\n",
       "      <th>weight</th>\n",
       "      <th>collage</th>\n",
       "      <th>born</th>\n",
       "      <th>birth_city</th>\n",
       "      <th>birth_state</th>\n",
       "    </tr>\n",
       "  </thead>\n",
       "  <tbody>\n",
       "    <tr>\n",
       "      <th>count</th>\n",
       "      <td>3921</td>\n",
       "      <td>3921.000000</td>\n",
       "      <td>3921.000000</td>\n",
       "      <td>3573</td>\n",
       "      <td>3921.00000</td>\n",
       "      <td>3452</td>\n",
       "      <td>3439</td>\n",
       "    </tr>\n",
       "    <tr>\n",
       "      <th>unique</th>\n",
       "      <td>3921</td>\n",
       "      <td>NaN</td>\n",
       "      <td>NaN</td>\n",
       "      <td>422</td>\n",
       "      <td>NaN</td>\n",
       "      <td>1264</td>\n",
       "      <td>128</td>\n",
       "    </tr>\n",
       "    <tr>\n",
       "      <th>top</th>\n",
       "      <td>Ed Stokes</td>\n",
       "      <td>NaN</td>\n",
       "      <td>NaN</td>\n",
       "      <td>University of Kentucky</td>\n",
       "      <td>NaN</td>\n",
       "      <td>Chicago</td>\n",
       "      <td>California</td>\n",
       "    </tr>\n",
       "    <tr>\n",
       "      <th>freq</th>\n",
       "      <td>1</td>\n",
       "      <td>NaN</td>\n",
       "      <td>NaN</td>\n",
       "      <td>89</td>\n",
       "      <td>NaN</td>\n",
       "      <td>114</td>\n",
       "      <td>344</td>\n",
       "    </tr>\n",
       "    <tr>\n",
       "      <th>mean</th>\n",
       "      <td>NaN</td>\n",
       "      <td>198.704922</td>\n",
       "      <td>94.783219</td>\n",
       "      <td>NaN</td>\n",
       "      <td>1962.37975</td>\n",
       "      <td>NaN</td>\n",
       "      <td>NaN</td>\n",
       "    </tr>\n",
       "    <tr>\n",
       "      <th>std</th>\n",
       "      <td>NaN</td>\n",
       "      <td>9.269761</td>\n",
       "      <td>12.039515</td>\n",
       "      <td>NaN</td>\n",
       "      <td>20.33491</td>\n",
       "      <td>NaN</td>\n",
       "      <td>NaN</td>\n",
       "    </tr>\n",
       "    <tr>\n",
       "      <th>min</th>\n",
       "      <td>NaN</td>\n",
       "      <td>160.000000</td>\n",
       "      <td>60.000000</td>\n",
       "      <td>NaN</td>\n",
       "      <td>1913.00000</td>\n",
       "      <td>NaN</td>\n",
       "      <td>NaN</td>\n",
       "    </tr>\n",
       "    <tr>\n",
       "      <th>25%</th>\n",
       "      <td>NaN</td>\n",
       "      <td>190.000000</td>\n",
       "      <td>86.000000</td>\n",
       "      <td>NaN</td>\n",
       "      <td>1948.00000</td>\n",
       "      <td>NaN</td>\n",
       "      <td>NaN</td>\n",
       "    </tr>\n",
       "    <tr>\n",
       "      <th>50%</th>\n",
       "      <td>NaN</td>\n",
       "      <td>198.000000</td>\n",
       "      <td>95.000000</td>\n",
       "      <td>NaN</td>\n",
       "      <td>1964.00000</td>\n",
       "      <td>NaN</td>\n",
       "      <td>NaN</td>\n",
       "    </tr>\n",
       "    <tr>\n",
       "      <th>75%</th>\n",
       "      <td>NaN</td>\n",
       "      <td>206.000000</td>\n",
       "      <td>102.000000</td>\n",
       "      <td>NaN</td>\n",
       "      <td>1979.00000</td>\n",
       "      <td>NaN</td>\n",
       "      <td>NaN</td>\n",
       "    </tr>\n",
       "    <tr>\n",
       "      <th>max</th>\n",
       "      <td>NaN</td>\n",
       "      <td>231.000000</td>\n",
       "      <td>163.000000</td>\n",
       "      <td>NaN</td>\n",
       "      <td>1997.00000</td>\n",
       "      <td>NaN</td>\n",
       "      <td>NaN</td>\n",
       "    </tr>\n",
       "  </tbody>\n",
       "</table>\n",
       "</div>"
      ],
      "text/plain": [
       "           Player       height       weight  ...        born  birth_city birth_state\n",
       "count        3921  3921.000000  3921.000000  ...  3921.00000        3452        3439\n",
       "unique       3921          NaN          NaN  ...         NaN        1264         128\n",
       "top     Ed Stokes          NaN          NaN  ...         NaN     Chicago  California\n",
       "freq            1          NaN          NaN  ...         NaN         114         344\n",
       "mean          NaN   198.704922    94.783219  ...  1962.37975         NaN         NaN\n",
       "std           NaN     9.269761    12.039515  ...    20.33491         NaN         NaN\n",
       "min           NaN   160.000000    60.000000  ...  1913.00000         NaN         NaN\n",
       "25%           NaN   190.000000    86.000000  ...  1948.00000         NaN         NaN\n",
       "50%           NaN   198.000000    95.000000  ...  1964.00000         NaN         NaN\n",
       "75%           NaN   206.000000   102.000000  ...  1979.00000         NaN         NaN\n",
       "max           NaN   231.000000   163.000000  ...  1997.00000         NaN         NaN\n",
       "\n",
       "[11 rows x 7 columns]"
      ]
     },
     "execution_count": 106,
     "metadata": {
      "tags": []
     },
     "output_type": "execute_result"
    }
   ],
   "source": [
    "data.describe(include='all')"
   ]
  },
  {
   "cell_type": "markdown",
   "metadata": {
    "colab_type": "text",
    "id": "7rcuktrd_FAY"
   },
   "source": [
    "\n",
    "\n",
    "Devuelve un resumen de la estructura"
   ]
  },
  {
   "cell_type": "code",
   "execution_count": null,
   "metadata": {
    "colab": {},
    "colab_type": "code",
    "id": "4hH_xdmw_FAZ",
    "outputId": "948ea22c-a9e4-4f6e-e211-ebae04b0041e"
   },
   "outputs": [
    {
     "name": "stdout",
     "output_type": "stream",
     "text": [
      "<class 'pandas.core.frame.DataFrame'>\n",
      "RangeIndex: 3922 entries, 0 to 3921\n",
      "Data columns (total 7 columns):\n",
      "Player         3921 non-null object\n",
      "height         3921 non-null float64\n",
      "weight         3921 non-null float64\n",
      "collage        3573 non-null object\n",
      "born           3921 non-null float64\n",
      "birth_city     3452 non-null object\n",
      "birth_state    3439 non-null object\n",
      "dtypes: float64(3), object(4)\n",
      "memory usage: 214.6+ KB\n"
     ]
    }
   ],
   "source": [
    "data.info()"
   ]
  },
  {
   "cell_type": "markdown",
   "metadata": {
    "colab_type": "text",
    "id": "oH1BTbFz_FAb"
   },
   "source": [
    "\n",
    "\n",
    "Devuelve una lista con las etiquetas de las columnas y de las filas"
   ]
  },
  {
   "cell_type": "code",
   "execution_count": 107,
   "metadata": {
    "colab": {
     "base_uri": "https://localhost:8080/",
     "height": 86
    },
    "colab_type": "code",
    "executionInfo": {
     "elapsed": 428,
     "status": "ok",
     "timestamp": 1566778047933,
     "user": {
      "displayName": "Quipu AI",
      "photoUrl": "https://lh3.googleusercontent.com/a-/AAuE7mAqpYVhA94BaV-w3FInoujWFEsMitSVZR7MmvRW=s64",
      "userId": "00799183920318522678"
     },
     "user_tz": 300
    },
    "id": "kdxMQED1_FAb",
    "outputId": "0097b212-a11f-440d-be53-4a33af026d54"
   },
   "outputs": [
    {
     "data": {
      "text/plain": [
       "[RangeIndex(start=0, stop=3922, step=1),\n",
       " Index(['Player', 'height', 'weight', 'collage', 'born', 'birth_city',\n",
       "        'birth_state'],\n",
       "       dtype='object')]"
      ]
     },
     "execution_count": 107,
     "metadata": {
      "tags": []
     },
     "output_type": "execute_result"
    }
   ],
   "source": [
    "data.axes"
   ]
  },
  {
   "cell_type": "markdown",
   "metadata": {
    "colab_type": "text",
    "id": "0EgRB8Wd_FAe"
   },
   "source": [
    "\n",
    "\n",
    "Devuelve el número de elementos únicos por campo"
   ]
  },
  {
   "cell_type": "code",
   "execution_count": 108,
   "metadata": {
    "colab": {
     "base_uri": "https://localhost:8080/",
     "height": 155
    },
    "colab_type": "code",
    "executionInfo": {
     "elapsed": 504,
     "status": "ok",
     "timestamp": 1566778055234,
     "user": {
      "displayName": "Quipu AI",
      "photoUrl": "https://lh3.googleusercontent.com/a-/AAuE7mAqpYVhA94BaV-w3FInoujWFEsMitSVZR7MmvRW=s64",
      "userId": "00799183920318522678"
     },
     "user_tz": 300
    },
    "id": "32eMpTNL_FAf",
    "outputId": "382c9f02-4b53-4a1c-bc47-e65520984f25"
   },
   "outputs": [
    {
     "data": {
      "text/plain": [
       "Player         3921\n",
       "height           28\n",
       "weight           76\n",
       "collage         422\n",
       "born             84\n",
       "birth_city     1264\n",
       "birth_state     128\n",
       "dtype: int64"
      ]
     },
     "execution_count": 108,
     "metadata": {
      "tags": []
     },
     "output_type": "execute_result"
    }
   ],
   "source": [
    "data.nunique()"
   ]
  },
  {
   "cell_type": "code",
   "execution_count": null,
   "metadata": {
    "colab": {},
    "colab_type": "code",
    "id": "6oYK115A_gCt",
    "outputId": "5e2aff89-0689-46ed-bf59-3c718e812245"
   },
   "outputs": [
    {
     "data": {
      "text/plain": [
       "California                          344\n",
       "New York                            290\n",
       "Illinois                            209\n",
       "Pennsylvania                        163\n",
       "Ohio                                137\n",
       "Michigan                            131\n",
       "Texas                               129\n",
       "Georgia                             118\n",
       "Louisiana                           101\n",
       "Florida                              96\n",
       "North Carolina                       96\n",
       "New Jersey                           95\n",
       "Indiana                              94\n",
       "Kentucky                             82\n",
       "Mississippi                          77\n",
       "Alabama                              75\n",
       "Tennessee                            72\n",
       "Maryland                             61\n",
       "Virginia                             61\n",
       "District of Columbia                 57\n",
       "Washington                           48\n",
       "Arkansas                             47\n",
       "Missouri                             45\n",
       "Minnesota                            45\n",
       "Wisconsin                            44\n",
       "South Carolina                       36\n",
       "Massachusetts                        36\n",
       "Connecticut                          32\n",
       "Oklahoma                             30\n",
       "Kansas                               28\n",
       "                                   ... \n",
       "South Africa                          1\n",
       "United Republic of Tanzania           1\n",
       "Republic of the Congo                 1\n",
       "Trinidad and Tobago                   1\n",
       "Austria                               1\n",
       "Islamic Republic of Iran              1\n",
       "Estonia                               1\n",
       "Taiwan                                1\n",
       "Norway                                1\n",
       "Cape Verde                            1\n",
       "New Hampshire                         1\n",
       "FYR Macedonia                         1\n",
       "Bulgaria                              1\n",
       "Ireland                               1\n",
       "Gabon                                 1\n",
       "Alaska                                1\n",
       "Slovakia                              1\n",
       "Tunisia                               1\n",
       "Japan                                 1\n",
       "Iceland                               1\n",
       "Denmark                               1\n",
       "Dominica                              1\n",
       "Luxembourg                            1\n",
       "Maine                                 1\n",
       "Republic of Korea                     1\n",
       "Martinique                            1\n",
       "Finland                               1\n",
       "Morocco                               1\n",
       "Uruguay                               1\n",
       "Saint Vincent and the Grenadines      1\n",
       "Name: birth_state, Length: 128, dtype: int64"
      ]
     },
     "execution_count": 139,
     "metadata": {
      "tags": []
     },
     "output_type": "execute_result"
    }
   ],
   "source": [
    "data['birth_state'].value_counts() # aplica sobre series"
   ]
  },
  {
   "cell_type": "markdown",
   "metadata": {
    "colab_type": "text",
    "id": "iDe1BtdnRWLP"
   },
   "source": [
    "Para complementar: https://github.com/KevenRFC/Term_Deposit_Propensity/blob/master/Evaluation_StaticalForDS_vF01.ipynb"
   ]
  },
  {
   "cell_type": "markdown",
   "metadata": {
    "colab_type": "text",
    "id": "m6hSU9G2_FAg"
   },
   "source": [
    "\n",
    "\n",
    "# Ejercicios\n",
    "\n",
    "Considere el siguiente diccionario `data` y lista de `index`"
   ]
  },
  {
   "cell_type": "code",
   "execution_count": null,
   "metadata": {
    "colab": {},
    "colab_type": "code",
    "id": "Xajzv6Od_FAh"
   },
   "outputs": [],
   "source": [
    "data = {'animal': ['cat', 'cat', 'snake', 'dog', 'dog', 'cat', 'snake', 'cat', 'dog', 'dog'],\n",
    "        'age': [2.5, 3, 0.5, np.nan, 5, 2, 4.5, np.nan, 7, 3],\n",
    "        'visits': [1, 3, 2, 3, 2, 3, 1, 1, 2, 1],\n",
    "        'priority': ['yes', 'yes', 'no', 'yes', 'no', 'no', 'no', 'yes', 'no', 'no']}\n",
    "\n",
    "labels = ['a', 'b', 'c', 'd', 'e', 'f', 'g', 'h', 'i', 'j']"
   ]
  },
  {
   "cell_type": "markdown",
   "metadata": {
    "colab_type": "text",
    "id": "C6rUtL8b_FAj"
   },
   "source": [
    "\n",
    "\n",
    "- a. Crea un DataFrame a partir del diccionario y los índices.\n",
    "- b. Selecciona las columnas `animal`y `age`.\n",
    "- c. Indique cuantos tipos distintos de animales hay.\n",
    "- d. Indique cuantos animales hay de cada tipo.\n",
    "- e. Muestre un resumen estadístico de todas las variables."
   ]
  },
  {
   "cell_type": "markdown",
   "metadata": {
    "colab_type": "text",
    "id": "E7b3KIYB_FAj"
   },
   "source": [
    "\n",
    "\n",
    "##### Solución Ejercicio 1"
   ]
  },
  {
   "cell_type": "markdown",
   "metadata": {
    "colab_type": "text",
    "id": "KQhe9Qla_FAj"
   },
   "source": [
    "\n",
    "\n",
    "Crea un DataFrame a partir del diccionario y los índices."
   ]
  },
  {
   "cell_type": "code",
   "execution_count": null,
   "metadata": {
    "colab": {},
    "colab_type": "code",
    "id": "n1iYq9On_FAk"
   },
   "outputs": [],
   "source": [
    "# Respuesta aqui"
   ]
  },
  {
   "cell_type": "markdown",
   "metadata": {
    "colab_type": "text",
    "id": "a5OhVLT8_FAl"
   },
   "source": [
    "\n",
    "\n",
    "Selecciona las columnas `animal`y `age`.\n"
   ]
  },
  {
   "cell_type": "code",
   "execution_count": null,
   "metadata": {
    "colab": {},
    "colab_type": "code",
    "id": "5peplPHZ_FAl"
   },
   "outputs": [],
   "source": [
    "# Respuesta aqui"
   ]
  },
  {
   "cell_type": "markdown",
   "metadata": {
    "colab_type": "text",
    "id": "moXN5JHF_FAn"
   },
   "source": [
    "\n",
    "\n",
    "Indique el número de animales distintos.\n"
   ]
  },
  {
   "cell_type": "code",
   "execution_count": null,
   "metadata": {
    "colab": {},
    "colab_type": "code",
    "id": "iE4bRzr6_FAn"
   },
   "outputs": [],
   "source": [
    "# Respuesta aqui"
   ]
  },
  {
   "cell_type": "markdown",
   "metadata": {
    "colab_type": "text",
    "id": "_uSSx3qm_FAo"
   },
   "source": [
    "\n",
    "\n",
    "Indique cuantos animales hay de cada tipo.\n"
   ]
  },
  {
   "cell_type": "code",
   "execution_count": null,
   "metadata": {
    "colab": {},
    "colab_type": "code",
    "id": "v3T9OZ2q_FAq"
   },
   "outputs": [],
   "source": [
    "# Respuesta aqui"
   ]
  },
  {
   "cell_type": "markdown",
   "metadata": {
    "colab_type": "text",
    "id": "8GIUSobL_FAr"
   },
   "source": [
    "\n",
    "\n",
    "Muestre un resumen estadístico de todas las variables.\n"
   ]
  },
  {
   "cell_type": "code",
   "execution_count": null,
   "metadata": {
    "colab": {},
    "colab_type": "code",
    "id": "BrqbIu2e_FAr"
   },
   "outputs": [],
   "source": [
    "# Respuesta aqui"
   ]
  },
  {
   "cell_type": "code",
   "execution_count": null,
   "metadata": {
    "colab": {},
    "colab_type": "code",
    "id": "ClC0bQjq_gC4"
   },
   "outputs": [],
   "source": []
  },
  {
   "cell_type": "code",
   "execution_count": null,
   "metadata": {
    "colab": {},
    "colab_type": "code",
    "id": "k28qVWe0_gC6"
   },
   "outputs": [],
   "source": []
  },
  {
   "cell_type": "code",
   "execution_count": null,
   "metadata": {
    "colab": {},
    "colab_type": "code",
    "id": "fIqHcnRX_gC7"
   },
   "outputs": [],
   "source": []
  },
  {
   "cell_type": "code",
   "execution_count": null,
   "metadata": {
    "colab": {},
    "colab_type": "code",
    "id": "g_BvFCPg_gC8"
   },
   "outputs": [],
   "source": []
  }
 ],
 "metadata": {
  "colab": {
   "collapsed_sections": [],
   "name": "DSF01_Clase4_02_IntroPandas.ipynb",
   "provenance": [],
   "toc_visible": true,
   "version": "0.3.2"
  },
  "kernelspec": {
   "display_name": "Python 3",
   "language": "python",
   "name": "python3"
  },
  "language_info": {
   "codemirror_mode": {
    "name": "ipython",
    "version": 3
   },
   "file_extension": ".py",
   "mimetype": "text/x-python",
   "name": "python",
   "nbconvert_exporter": "python",
   "pygments_lexer": "ipython3",
   "version": "3.7.4"
  }
 },
 "nbformat": 4,
 "nbformat_minor": 4
}
