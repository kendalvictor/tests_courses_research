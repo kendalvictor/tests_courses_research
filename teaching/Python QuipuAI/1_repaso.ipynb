{
 "cells": [
  {
   "cell_type": "markdown",
   "metadata": {},
   "source": [
    "# <center>REPASO </center>"
   ]
  },
  {
   "cell_type": "markdown",
   "metadata": {},
   "source": [
    "<center>\n",
    "    <img src='https://miro.medium.com/max/1200/1*ITn0WmZXWWWybtrFDzzm5g.jpeg' width=400>\n",
    "</center>"
   ]
  },
  {
   "cell_type": "markdown",
   "metadata": {},
   "source": [
    "* <center>Absolutamente todo es un objeto en Python.</center>"
   ]
  },
  {
   "cell_type": "markdown",
   "metadata": {},
   "source": [
    "## <center> STRING </center>"
   ]
  },
  {
   "cell_type": "markdown",
   "metadata": {},
   "source": [
    "<center>\n",
    "    <img src='https://2.bp.blogspot.com/-sLHL8zUQ8DM/XSGGcncqaoI/AAAAAAAABf0/_jnv_ggUOY0cZZXMagTiwdRVdNWiL-OQQCPcBGAYYCw/s1600/Python%2BString%2Bindex.png' width=400>\n",
    "</center>"
   ]
  },
  {
   "cell_type": "markdown",
   "metadata": {},
   "source": [
    "* <center>Se pueden delimitar con comillas simples o dobles.</center>\n",
    "* <center>La forma de acceder a los elementos(Slicing) es comun a otros tipos de datos.</center>\n",
    "* <center>A nivel de memoria en un tipo de dato inmutable.</center>"
   ]
  },
  {
   "cell_type": "markdown",
   "metadata": {},
   "source": [
    "## <center> LISTAS </center>"
   ]
  },
  {
   "cell_type": "markdown",
   "metadata": {},
   "source": [
    "<center>\n",
    "    <img src='https://s3-us-west-2.amazonaws.com/devcodepro/media/tutorials/listas-python-t1.jpg' width=400>\n",
    "</center>"
   ]
  },
  {
   "cell_type": "markdown",
   "metadata": {},
   "source": [
    "\n",
    "* <center>Las listas soportan todo tipo de objeto, osea aguantan todo.</center>\n",
    "* <center>Elementos separados por comas y delimitados por corchetes.</center>\n",
    "* <center>A nivel de memoria es un tipo de dato mutable.</center>\n"
   ]
  },
  {
   "cell_type": "markdown",
   "metadata": {},
   "source": [
    "## <center> TUPLAS </center>"
   ]
  },
  {
   "cell_type": "markdown",
   "metadata": {},
   "source": [
    "<center>\n",
    "    <img src='https://www.programaenpython.com/wp-content/uploads/2019/04/tupla_embalaje.png' width=400>\n",
    "</center>"
   ]
  },
  {
   "cell_type": "markdown",
   "metadata": {},
   "source": [
    "\n",
    "* <center>A nivel de memoria es un tipo de dato inmutable.</center>\n",
    "* <center>Permite slicing entre sus elementos</center>\n",
    "* <center>La forma en que se guarda en memoria es de forma iterativa.</center>\n",
    "* <center>Separado por comas y delimitado por paréntesis.</center>\n"
   ]
  },
  {
   "cell_type": "markdown",
   "metadata": {},
   "source": [
    "## <center> CONJUNTOS </center>"
   ]
  },
  {
   "cell_type": "markdown",
   "metadata": {},
   "source": [
    "<center>\n",
    "    <img src='https://conjuntosblogblog.files.wordpress.com/2016/07/operaciones-entre-conjuntos-3-728.jpg?w=440&h=330' width=400>\n",
    "</center>"
   ]
  },
  {
   "cell_type": "markdown",
   "metadata": {},
   "source": [
    "* <center>Por defecto mantiene la unicidad de sus elementos.</center>\n",
    "* <center>Solo soporta datos strin, numéricos y booleanos.</center>\n",
    "* <center>Automáticamente nos permite hacer todas las operaciones entre conjuntos que vimos en la primaria</center>\n",
    "* <center>Separado por comas y delimitado por llaves.</center>\n"
   ]
  },
  {
   "cell_type": "markdown",
   "metadata": {},
   "source": [
    "## <center> DICCIONARIOS </center>"
   ]
  },
  {
   "cell_type": "markdown",
   "metadata": {},
   "source": [
    "<center>\n",
    "    <img src='https://1.bp.blogspot.com/-p1pqpAt1898/WEiJ5MGpnNI/AAAAAAAAGdg/bT2cw7B_hj00q0cs9C7PQZ2opT4NYJgKACLcB/s1600/dictionary%2Bimage.png' width=400>\n",
    "</center>\n"
   ]
  },
  {
   "cell_type": "code",
   "execution_count": null,
   "metadata": {},
   "outputs": [],
   "source": [
    "\n",
    "* <center>Diseñado para ser accedido de forma óptima (Mapping).</center>\n",
    "* <center>No guarda un orden estricto entre sus elementos</center>\n",
    "* <center>Soporta todo obje.</center>\n"
   ]
  }
 ],
 "metadata": {
  "kernelspec": {
   "display_name": "Python 3",
   "language": "python",
   "name": "python3"
  },
  "language_info": {
   "codemirror_mode": {
    "name": "ipython",
    "version": 3
   },
   "file_extension": ".py",
   "mimetype": "text/x-python",
   "name": "python",
   "nbconvert_exporter": "python",
   "pygments_lexer": "ipython3",
   "version": "3.6.5"
  }
 },
 "nbformat": 4,
 "nbformat_minor": 2
}
