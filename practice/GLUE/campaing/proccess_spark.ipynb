{
 "cells": [
  {
   "cell_type": "code",
   "execution_count": 1,
   "metadata": {},
   "outputs": [
    {
     "name": "stdout",
     "output_type": "stream",
     "text": [
      "CPU times: user 469 ms, sys: 256 ms, total: 725 ms\n",
      "Wall time: 14.9 s\n"
     ]
    }
   ],
   "source": [
    "%%time\n",
    "import findspark \n",
    "findspark.init()\n",
    "\n",
    "from pyspark.sql import SparkSession\n",
    "from pyspark import SparkConf, SparkContext\n",
    "spark = SparkSession.builder.appName('i_s3_postgres').getOrCreate()\n",
    "\n",
    "\"\"\"\n",
    "bucket_name = \"aatempjson2\"\n",
    "marca = 'elcomercio'\n",
    "date_format = '20190301'\n",
    "campaings = ['mundialista', 'semanasanta']\n",
    "\n",
    "for campain in campaings:\n",
    "    path_json_spark = 's3n://{}/{}/{}/{}/*.json'.format(bucket_name, marca, date_format, campain)\n",
    "    print(path_json_spark)\n",
    "    df_csv = spark.read.json(path_json_spark)\n",
    "    df_csv.show()\n",
    "    break\n",
    "\"\"\""
   ]
  },
  {
   "cell_type": "code",
   "execution_count": 2,
   "metadata": {},
   "outputs": [
    {
     "name": "stdout",
     "output_type": "stream",
     "text": [
      "CPU times: user 10.8 s, sys: 182 ms, total: 10.9 s\n",
      "Wall time: 1min 4s\n"
     ]
    }
   ],
   "source": [
    "%%time\n",
    "import json\n",
    "import ast\n",
    "from pyspark.sql import Row\n",
    "# from pyspark.sql.types import StructType, StructField\n",
    "# from pyspark.sql.types import DoubleType, IntegerType, StringType\n",
    "\n",
    "bucket_name = \"aatempjson2\"\n",
    "hour = 19\n",
    "path_json_spark = 's3n://{}/{}/{}/{}/{}/*'.format(\n",
    "    bucket_name, '2019', '04', '08', hour\n",
    ")\n",
    "text_parse = spark.read.text(\n",
    "    path_json_spark\n",
    ").collect()[0].\\\n",
    "    asDict()['value'].\\\n",
    "    replace('}{', '} {').\\\n",
    "    split(' ')\n",
    "\n",
    "df_csv = spark.createDataFrame(\n",
    "    [Row(**ast.literal_eval(_)) for _ in text_parse]\n",
    ")\n",
    "del text_parse"
   ]
  },
  {
   "cell_type": "code",
   "execution_count": 3,
   "metadata": {},
   "outputs": [
    {
     "name": "stdout",
     "output_type": "stream",
     "text": [
      "CPU times: user 0 ns, sys: 3.34 ms, total: 3.34 ms\n",
      "Wall time: 1.51 s\n"
     ]
    },
    {
     "data": {
      "text/plain": [
       "139680"
      ]
     },
     "execution_count": 3,
     "metadata": {},
     "output_type": "execute_result"
    }
   ],
   "source": [
    "%%time\n",
    "df_csv.count()"
   ]
  },
  {
   "cell_type": "code",
   "execution_count": 4,
   "metadata": {},
   "outputs": [
    {
     "name": "stdout",
     "output_type": "stream",
     "text": [
      "+-------+--------+-----+-------+--------------------+\n",
      "|campain|    date|event|project|                 url|\n",
      "+-------+--------+-----+-------+--------------------+\n",
      "|  xxxxx|20190405|  ctr|ojo_dev|http://gitlab.ec....|\n",
      "|  xxxxx|20190405|  ctr|ojo_dev|http://gitlab.ec....|\n",
      "|  xxxxx|20190405|  ctr|ojo_dev|http://gitlab.ec....|\n",
      "|  xxxxx|20190405|  ctr|ojo_dev|http://gitlab.ec....|\n",
      "|  xxxxx|20190405|  ctr|ojo_dev|http://gitlab.ec....|\n",
      "|  xxxxx|20190405|  ctr|ojo_dev|http://gitlab.ec....|\n",
      "|  xxxxx|20190405|  ctr|ojo_dev|http://gitlab.ec....|\n",
      "|  xxxxx|20190405|  ctr|ojo_dev|http://gitlab.ec....|\n",
      "|  xxxxx|20190405|  ctr|ojo_dev|http://gitlab.ec....|\n",
      "|  xxxxx|20190405|  ctr|ojo_dev|http://gitlab.ec....|\n",
      "|  xxxxx|20190405|  ctr|ojo_dev|http://gitlab.ec....|\n",
      "|  xxxxx|20190405|  ctr|ojo_dev|http://gitlab.ec....|\n",
      "|  xxxxx|20190405|  ctr|ojo_dev|http://gitlab.ec....|\n",
      "|  xxxxx|20190405|  ctr|ojo_dev|http://gitlab.ec....|\n",
      "|  xxxxx|20190405|  ctr|ojo_dev|http://gitlab.ec....|\n",
      "|  xxxxx|20190405|  ctr|ojo_dev|http://gitlab.ec....|\n",
      "|  xxxxx|20190405|  ctr|ojo_dev|http://gitlab.ec....|\n",
      "|  xxxxx|20190405|  ctr|ojo_dev|http://gitlab.ec....|\n",
      "|  xxxxx|20190405|  ctr|ojo_dev|http://gitlab.ec....|\n",
      "|  xxxxx|20190405|  ctr|ojo_dev|http://gitlab.ec....|\n",
      "+-------+--------+-----+-------+--------------------+\n",
      "only showing top 20 rows\n",
      "\n"
     ]
    }
   ],
   "source": [
    "df_csv.show()"
   ]
  },
  {
   "cell_type": "code",
   "execution_count": 5,
   "metadata": {},
   "outputs": [
    {
     "name": "stdout",
     "output_type": "stream",
     "text": [
      "+-------+-------+--------+-----+------------+\n",
      "|project|campain|    date|event|count(event)|\n",
      "+-------+-------+--------+-----+------------+\n",
      "|ojo_dev|  xxxxx|20190405|  ctr|      139680|\n",
      "+-------+-------+--------+-----+------------+\n",
      "\n",
      "CPU times: user 19 ms, sys: 3.64 ms, total: 22.6 ms\n",
      "Wall time: 1.96 s\n"
     ]
    }
   ],
   "source": [
    "%%time\n",
    "df_csv.groupby(['project', 'campain', 'date', 'event']).agg({'event': 'count'}).show()"
   ]
  },
  {
   "cell_type": "code",
   "execution_count": 28,
   "metadata": {},
   "outputs": [
    {
     "name": "stdout",
     "output_type": "stream",
     "text": [
      "['__class__', '__delattr__', '__dict__', '__dir__', '__doc__', '__eq__', '__format__', '__ge__', '__getattribute__', '__gt__', '__hash__', '__init__', '__init_subclass__', '__le__', '__lt__', '__module__', '__ne__', '__new__', '__reduce__', '__reduce_ex__', '__repr__', '__setattr__', '__sizeof__', '__str__', '__subclasshook__', '__weakref__', '_df', '_jgd', 'agg', 'apply', 'avg', 'count', 'max', 'mean', 'min', 'pivot', 'sql_ctx', 'sum']\n"
     ]
    }
   ],
   "source": [
    "print(dir(grr))"
   ]
  },
  {
   "cell_type": "code",
   "execution_count": 20,
   "metadata": {},
   "outputs": [
    {
     "name": "stdout",
     "output_type": "stream",
     "text": [
      "CPU times: user 24.2 ms, sys: 4.1 ms, total: 28.3 ms\n",
      "Wall time: 2.14 s\n"
     ]
    }
   ],
   "source": [
    "%%time\n",
    "events = [_.event for _ in df_csv.select('event').distinct().collect()]"
   ]
  },
  {
   "cell_type": "code",
   "execution_count": 21,
   "metadata": {},
   "outputs": [
    {
     "data": {
      "text/plain": [
       "['ctr']"
      ]
     },
     "execution_count": 21,
     "metadata": {},
     "output_type": "execute_result"
    }
   ],
   "source": [
    "events"
   ]
  },
  {
   "cell_type": "code",
   "execution_count": 23,
   "metadata": {},
   "outputs": [
    {
     "name": "stdout",
     "output_type": "stream",
     "text": [
      "received 500\n",
      "ctr 500\n",
      "CPU times: user 43.4 ms, sys: 11.2 ms, total: 54.7 ms\n",
      "Wall time: 4min 27s\n"
     ]
    }
   ],
   "source": [
    "%%time\n",
    "from pyspark.sql.functions import col, asc\n",
    "\n",
    "dicc_save = {}\n",
    "for event in events:\n",
    "    counter = df_csv.where(col(\"event\") == event).count()\n",
    "    #counter = df_csv.sql(s\"SELECT col1 from table where col2>500 limit $q25)\n",
    "    dicc_save[event] = counter\n",
    "    print(event, counter)"
   ]
  },
  {
   "cell_type": "code",
   "execution_count": 37,
   "metadata": {},
   "outputs": [
    {
     "name": "stdout",
     "output_type": "stream",
     "text": [
      "+---+--------+\n",
      "|ctr|received|\n",
      "+---+--------+\n",
      "|500|     500|\n",
      "+---+--------+\n",
      "\n"
     ]
    }
   ],
   "source": [
    "from pyspark.sql import Row\n",
    "from collections import OrderedDict\n",
    "\n",
    "def convert_to_row(d):\n",
    "    return Row(\n",
    "        **OrderedDict(sorted(d.items()))\n",
    "    )\n",
    "\n",
    "data = sc.parallelize(\n",
    "    [dicc_save]\n",
    ").map(convert_to_row).toDF()\n",
    "data.show()"
   ]
  },
  {
   "cell_type": "code",
   "execution_count": 36,
   "metadata": {},
   "outputs": [
    {
     "data": {
      "text/plain": [
       "'2019-04-05-14-29-51.csv'"
      ]
     },
     "execution_count": 36,
     "metadata": {},
     "output_type": "execute_result"
    }
   ],
   "source": [
    "\n",
    "bucket_output = 'aaoutputattempjson2'\n",
    "hoy = str(datetime.now()).replace(' ', '-').replace(':', '-').split('.')[0]\n",
    "path = '{}.csv'.format(hoy)\n",
    "path"
   ]
  },
  {
   "cell_type": "code",
   "execution_count": 40,
   "metadata": {},
   "outputs": [],
   "source": [
    "data.write.mode('append').csv('s3n://{}/{}'.format(bucket_output, hoy))"
   ]
  },
  {
   "cell_type": "code",
   "execution_count": null,
   "metadata": {},
   "outputs": [],
   "source": []
  },
  {
   "cell_type": "code",
   "execution_count": null,
   "metadata": {},
   "outputs": [],
   "source": []
  },
  {
   "cell_type": "code",
   "execution_count": null,
   "metadata": {},
   "outputs": [],
   "source": []
  },
  {
   "cell_type": "code",
   "execution_count": 3,
   "metadata": {},
   "outputs": [
    {
     "name": "stdout",
     "output_type": "stream",
     "text": [
      "+---+---+\n",
      "|_c0|_c1|\n",
      "+---+---+\n",
      "|500|500|\n",
      "|500|500|\n",
      "+---+---+\n",
      "\n"
     ]
    }
   ],
   "source": [
    "ddff_validate = spark.read.csv('s3n://notification.output.test/**/*.csv')\n",
    "\n",
    "ddff_validate.show()"
   ]
  },
  {
   "cell_type": "code",
   "execution_count": null,
   "metadata": {},
   "outputs": [],
   "source": []
  }
 ],
 "metadata": {
  "kernelspec": {
   "display_name": "Python 3",
   "language": "python",
   "name": "python3"
  },
  "language_info": {
   "codemirror_mode": {
    "name": "ipython",
    "version": 3
   },
   "file_extension": ".py",
   "mimetype": "text/x-python",
   "name": "python",
   "nbconvert_exporter": "python",
   "pygments_lexer": "ipython3",
   "version": "3.6.8"
  }
 },
 "nbformat": 4,
 "nbformat_minor": 2
}
