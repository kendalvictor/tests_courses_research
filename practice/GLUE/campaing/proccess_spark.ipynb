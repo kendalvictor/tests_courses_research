{
 "cells": [
  {
   "cell_type": "code",
   "execution_count": 2,
   "metadata": {},
   "outputs": [
    {
     "name": "stdout",
     "output_type": "stream",
     "text": [
      "CPU times: user 316 ms, sys: 229 ms, total: 545 ms\n",
      "Wall time: 13.8 s\n"
     ]
    }
   ],
   "source": [
    "%%time\n",
    "import findspark \n",
    "findspark.init()\n",
    "from pyspark.sql import SparkSession\n",
    "from pyspark import SparkConf, SparkContext\n",
    "\n",
    "spark = SparkSession.builder.appName('i_s3_postgres').getOrCreate()"
   ]
  },
  {
   "cell_type": "code",
   "execution_count": 2,
   "metadata": {},
   "outputs": [
    {
     "name": "stdout",
     "output_type": "stream",
     "text": [
      "s3n://aatempjson2/elcomercio/20190301/mundialista/*.json\n",
      "+-----------+--------+--------+-------------------+\n",
      "|    campain|    date|   event|                url|\n",
      "+-----------+--------+--------+-------------------+\n",
      "|mundialista|20190301|received|http://quipuai.com/|\n",
      "|mundialista|20190301|received|http://quipuai.com/|\n",
      "|mundialista|20190301|received|http://quipuai.com/|\n",
      "|mundialista|20190301|received|http://quipuai.com/|\n",
      "|mundialista|20190301|received|http://quipuai.com/|\n",
      "|mundialista|20190301|received|http://quipuai.com/|\n",
      "|mundialista|20190301|received|http://quipuai.com/|\n",
      "|mundialista|20190301|received|http://quipuai.com/|\n",
      "|mundialista|20190301|received|http://quipuai.com/|\n",
      "|mundialista|20190301|received|http://quipuai.com/|\n",
      "|mundialista|20190301|received|http://quipuai.com/|\n",
      "|mundialista|20190301|received|http://quipuai.com/|\n",
      "|mundialista|20190301|received|http://quipuai.com/|\n",
      "|mundialista|20190301|received|http://quipuai.com/|\n",
      "|mundialista|20190301|received|http://quipuai.com/|\n",
      "|mundialista|20190301|received|http://quipuai.com/|\n",
      "|mundialista|20190301|received|http://quipuai.com/|\n",
      "|mundialista|20190301|received|http://quipuai.com/|\n",
      "|mundialista|20190301|received|http://quipuai.com/|\n",
      "|mundialista|20190301|received|http://quipuai.com/|\n",
      "+-----------+--------+--------+-------------------+\n",
      "only showing top 20 rows\n",
      "\n",
      "CPU times: user 60.3 ms, sys: 13.9 ms, total: 74.2 ms\n",
      "Wall time: 4min 52s\n"
     ]
    }
   ],
   "source": [
    "%%time\n",
    "# from pyspark.sql.types import StructType, StructField\n",
    "# from pyspark.sql.types import DoubleType, IntegerType, StringType\n",
    "\n",
    "bucket_name = \"aatempjson2\"\n",
    "marca = 'elcomercio'\n",
    "date_format = '20190301'\n",
    "campaings = ['mundialista', 'semanasanta']\n",
    "\n",
    "for campain in campaings:\n",
    "    path_json_spark = 's3n://{}/{}/{}/{}/*.json'.format(bucket_name, marca, date_format, campain)\n",
    "    print(path_json_spark)\n",
    "    df_csv = spark.read.json(path_json_spark)\n",
    "    df_csv.show()\n",
    "    break"
   ]
  },
  {
   "cell_type": "code",
   "execution_count": 3,
   "metadata": {},
   "outputs": [
    {
     "name": "stdout",
     "output_type": "stream",
     "text": [
      "CPU times: user 32.9 ms, sys: 5.07 ms, total: 38 ms\n",
      "Wall time: 2min 28s\n"
     ]
    },
    {
     "data": {
      "text/plain": [
       "1000"
      ]
     },
     "execution_count": 3,
     "metadata": {},
     "output_type": "execute_result"
    }
   ],
   "source": [
    "%%time\n",
    "df_csv.count()"
   ]
  },
  {
   "cell_type": "code",
   "execution_count": 4,
   "metadata": {},
   "outputs": [
    {
     "name": "stdout",
     "output_type": "stream",
     "text": [
      "CPU times: user 31.9 ms, sys: 10.7 ms, total: 42.6 ms\n",
      "Wall time: 2min 20s\n"
     ]
    }
   ],
   "source": [
    "%%time\n",
    "events = [_.event for _ in df_csv.select('event').distinct().collect()]"
   ]
  },
  {
   "cell_type": "code",
   "execution_count": 23,
   "metadata": {},
   "outputs": [
    {
     "name": "stdout",
     "output_type": "stream",
     "text": [
      "received 500\n",
      "ctr 500\n",
      "CPU times: user 43.4 ms, sys: 11.2 ms, total: 54.7 ms\n",
      "Wall time: 4min 27s\n"
     ]
    }
   ],
   "source": [
    "%%time\n",
    "from pyspark.sql.functions import col, asc\n",
    "\n",
    "dicc_save = {}\n",
    "for event in events:\n",
    "    counter = df_csv.where(col(\"event\") == event).count()\n",
    "    #counter = df_csv.sql(s\"SELECT col1 from table where col2>500 limit $q25)\n",
    "    dicc_save[event] = counter\n",
    "    print(event, counter)"
   ]
  },
  {
   "cell_type": "code",
   "execution_count": 37,
   "metadata": {},
   "outputs": [
    {
     "name": "stdout",
     "output_type": "stream",
     "text": [
      "+---+--------+\n",
      "|ctr|received|\n",
      "+---+--------+\n",
      "|500|     500|\n",
      "+---+--------+\n",
      "\n"
     ]
    }
   ],
   "source": [
    "from pyspark.sql import Row\n",
    "from collections import OrderedDict\n",
    "\n",
    "def convert_to_row(d):\n",
    "    return Row(\n",
    "        **OrderedDict(sorted(d.items()))\n",
    "    )\n",
    "\n",
    "data = sc.parallelize(\n",
    "    [dicc_save]\n",
    ").map(convert_to_row).toDF()\n",
    "data.show()"
   ]
  },
  {
   "cell_type": "code",
   "execution_count": 36,
   "metadata": {},
   "outputs": [
    {
     "data": {
      "text/plain": [
       "'2019-04-05-14-29-51.csv'"
      ]
     },
     "execution_count": 36,
     "metadata": {},
     "output_type": "execute_result"
    }
   ],
   "source": [
    "\n",
    "bucket_output = 'aaoutputattempjson2'\n",
    "hoy = str(datetime.now()).replace(' ', '-').replace(':', '-').split('.')[0]\n",
    "path = '{}.csv'.format(hoy)\n",
    "path"
   ]
  },
  {
   "cell_type": "code",
   "execution_count": 40,
   "metadata": {},
   "outputs": [],
   "source": [
    "data.write.mode('append').csv('s3n://{}/{}'.format(bucket_output, hoy))"
   ]
  },
  {
   "cell_type": "code",
   "execution_count": null,
   "metadata": {},
   "outputs": [],
   "source": []
  },
  {
   "cell_type": "code",
   "execution_count": null,
   "metadata": {},
   "outputs": [],
   "source": []
  },
  {
   "cell_type": "code",
   "execution_count": null,
   "metadata": {},
   "outputs": [],
   "source": []
  },
  {
   "cell_type": "code",
   "execution_count": null,
   "metadata": {},
   "outputs": [],
   "source": [
    "ddff_validate = spark.read.csv('s3n://notification.output.test/**/*.csv')\n",
    "\n",
    "ddff_validate.show()"
   ]
  },
  {
   "cell_type": "code",
   "execution_count": null,
   "metadata": {},
   "outputs": [],
   "source": []
  }
 ],
 "metadata": {
  "kernelspec": {
   "display_name": "Python 3",
   "language": "python",
   "name": "python3"
  },
  "language_info": {
   "codemirror_mode": {
    "name": "ipython",
    "version": 3
   },
   "file_extension": ".py",
   "mimetype": "text/x-python",
   "name": "python",
   "nbconvert_exporter": "python",
   "pygments_lexer": "ipython3",
   "version": "3.6.8"
  }
 },
 "nbformat": 4,
 "nbformat_minor": 2
}
