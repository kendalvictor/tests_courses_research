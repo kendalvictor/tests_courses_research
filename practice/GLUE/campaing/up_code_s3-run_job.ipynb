{
 "cells": [
  {
   "cell_type": "code",
   "execution_count": 1,
   "metadata": {},
   "outputs": [
    {
     "name": "stdout",
     "output_type": "stream",
     "text": [
      "CPU times: user 269 ms, sys: 16 ms, total: 285 ms\n",
      "Wall time: 1.44 s\n"
     ]
    }
   ],
   "source": [
    "%%time\n",
    "import boto3\n",
    "# SUBO MI CODIGO PYTHON EN UNA RUTA ESPECIFICA\n",
    "\n",
    "BUCKET_NAME = 'attemp-glue'\n",
    "AWS_DEFAULT_ACL = 'public-read'\n",
    "REGION = 'us-west-1'\n",
    "path_in_pc = '/home/rmg/STORAGE/tests_courses_research/practice/GLUE/campaing/code_up_campaing.py'\n",
    "path_s3 = 'code_up_campaing.py'\n",
    "\n",
    "client = boto3.client('s3')\n",
    "s3 = boto3.resource('s3')\n",
    "bucket = s3.Bucket(BUCKET_NAME)\n",
    "\n",
    "if not bucket.creation_date:\n",
    "    s3.create_bucket(\n",
    "        ACL=AWS_DEFAULT_ACL,\n",
    "        Bucket=BUCKET_NAME,\n",
    "        CreateBucketConfiguration={'LocationConstraint': REGION}\n",
    "    )\n",
    "    \n",
    "client.upload_file(\n",
    "    path_in_pc,\n",
    "    BUCKET_NAME,\n",
    "    path_s3,\n",
    "    ExtraArgs={\n",
    "        'ContentType': 'text/x-python',\n",
    "        'ACL': AWS_DEFAULT_ACL\n",
    "    }\n",
    ")"
   ]
  },
  {
   "cell_type": "code",
   "execution_count": 2,
   "metadata": {},
   "outputs": [
    {
     "name": "stdout",
     "output_type": "stream",
     "text": [
      "CPU times: user 77.9 ms, sys: 8.15 ms, total: 86 ms\n",
      "Wall time: 994 ms\n"
     ]
    }
   ],
   "source": [
    "%%time\n",
    "# PARA EJECUTAR UNA SOLA VEZ\n",
    "# Creando el job GLUE\n",
    "job_name = 'copy-json-glue'\n",
    "\n",
    "client_glue = boto3.client('glue')\n",
    "response_glue = client_glue.create_job(\n",
    "    Name=job_name,\n",
    "    Description='Prueba de copias csv en flujo GLUE',\n",
    "    Role='AdminGlue',\n",
    "    ExecutionProperty={\n",
    "        'MaxConcurrentRuns': 3\n",
    "    },\n",
    "    Command={\n",
    "        'Name': 'glueetl',\n",
    "        'ScriptLocation': 's3://{}/{}'.format(BUCKET_NAME, path_s3)\n",
    "    }\n",
    ")\n",
    "response_glue"
   ]
  },
  {
   "cell_type": "code",
   "execution_count": 3,
   "metadata": {},
   "outputs": [
    {
     "data": {
      "text/plain": [
       "{'JobRunId': 'jr_b34b2f6f0a3db01005a8fe727566521cd104f68ab3615763472a6847741c7ed5',\n",
       " 'ResponseMetadata': {'RequestId': '3abb955b-57e5-11e9-b6c6-37da6c5ab0ad',\n",
       "  'HTTPStatusCode': 200,\n",
       "  'HTTPHeaders': {'date': 'Fri, 05 Apr 2019 20:56:05 GMT',\n",
       "   'content-type': 'application/x-amz-json-1.1',\n",
       "   'content-length': '82',\n",
       "   'connection': 'keep-alive',\n",
       "   'x-amzn-requestid': '3abb955b-57e5-11e9-b6c6-37da6c5ab0ad'},\n",
       "  'RetryAttempts': 0}}"
      ]
     },
     "execution_count": 3,
     "metadata": {},
     "output_type": "execute_result"
    }
   ],
   "source": [
    "# RUN JOB GLUE\n",
    "response_run = client_glue.start_job_run(\n",
    "    JobName=job_name\n",
    ")\n",
    "response_run"
   ]
  },
  {
   "cell_type": "code",
   "execution_count": 4,
   "metadata": {},
   "outputs": [
    {
     "data": {
      "text/plain": [
       "'jr_b34b2f6f0a3db01005a8fe727566521cd104f68ab3615763472a6847741c7ed5'"
      ]
     },
     "execution_count": 4,
     "metadata": {},
     "output_type": "execute_result"
    }
   ],
   "source": [
    "job_run_id = response_run.get('JobRunId', '')\n",
    "job_run_id"
   ]
  },
  {
   "cell_type": "code",
   "execution_count": 5,
   "metadata": {},
   "outputs": [
    {
     "name": "stdout",
     "output_type": "stream",
     "text": [
      "RUNNING RUNNING RUNNING RUNNING RUNNING RUNNING RUNNING RUNNING RUNNING RUNNING RUNNING RUNNING RUNNING RUNNING SUCCEEDED \n",
      "  {'JobRun': {'Id': 'jr_b34b2f6f0a3db01005a8fe727566521cd104f68ab3615763472a6847741c7ed5', 'Attempt': 0, 'JobName': 'copy-json-glue', 'StartedOn': datetime.datetime(2019, 4, 5, 15, 56, 5, 804000, tzinfo=tzlocal()), 'LastModifiedOn': datetime.datetime(2019, 4, 5, 15, 58, 23, 632000, tzinfo=tzlocal()), 'CompletedOn': datetime.datetime(2019, 4, 5, 15, 58, 23, 632000, tzinfo=tzlocal()), 'JobRunState': 'SUCCEEDED', 'PredecessorRuns': [], 'AllocatedCapacity': 10, 'ExecutionTime': 115, 'Timeout': 2880, 'LogGroupName': '/aws-glue/jobs'}, 'ResponseMetadata': {'RequestId': '9035e90b-57e5-11e9-a8a0-f711dd56b6ea', 'HTTPStatusCode': 200, 'HTTPHeaders': {'date': 'Fri, 05 Apr 2019 20:58:29 GMT', 'content-type': 'application/x-amz-json-1.1', 'content-length': '376', 'connection': 'keep-alive', 'x-amzn-requestid': '9035e90b-57e5-11e9-a8a0-f711dd56b6ea'}, 'RetryAttempts': 0}}\n"
     ]
    }
   ],
   "source": [
    "import time\n",
    "status = 'RUNNING'\n",
    "\n",
    "while status == 'RUNNING':\n",
    "    response_status = client_glue.get_job_run(\n",
    "        JobName=job_name,\n",
    "        RunId = job_run_id\n",
    "    )\n",
    "    status = response_status.get('JobRun', {}).get('JobRunState', {})\n",
    "    print(status, end=' ')\n",
    "    if status != 'RUNNING':\n",
    "        print(\"\\n \", response_status)\n",
    "        break\n",
    "        \n",
    "    time.sleep(10)"
   ]
  },
  {
   "cell_type": "code",
   "execution_count": null,
   "metadata": {},
   "outputs": [],
   "source": []
  },
  {
   "cell_type": "code",
   "execution_count": null,
   "metadata": {},
   "outputs": [],
   "source": []
  }
 ],
 "metadata": {
  "kernelspec": {
   "display_name": "Python 3",
   "language": "python",
   "name": "python3"
  },
  "language_info": {
   "codemirror_mode": {
    "name": "ipython",
    "version": 3
   },
   "file_extension": ".py",
   "mimetype": "text/x-python",
   "name": "python",
   "nbconvert_exporter": "python",
   "pygments_lexer": "ipython3",
   "version": "3.6.8"
  }
 },
 "nbformat": 4,
 "nbformat_minor": 2
}
