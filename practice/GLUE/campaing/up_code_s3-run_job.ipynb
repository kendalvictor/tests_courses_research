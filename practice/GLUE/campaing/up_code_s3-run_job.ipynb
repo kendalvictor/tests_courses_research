{
 "cells": [
  {
   "cell_type": "code",
   "execution_count": 1,
   "metadata": {},
   "outputs": [
    {
     "name": "stdout",
     "output_type": "stream",
     "text": [
      "CPU times: user 269 ms, sys: 16 ms, total: 285 ms\n",
      "Wall time: 1.44 s\n"
     ]
    }
   ],
   "source": [
    "%%time\n",
    "import boto3\n",
    "# SUBO MI CODIGO PYTHON EN UNA RUTA ESPECIFICA\n",
    "\n",
    "BUCKET_NAME = 'notification.output.test'\n",
    "AWS_DEFAULT_ACL = 'public-read'\n",
    "REGION = 'us-west-1'\n",
    "path_in_pc = '/home/rmg/STORAGE/tests_courses_research/practice/GLUE/campaing/code_up_campaing.py'\n",
    "path_s3 = 'proccess.py'\n",
    "\n",
    "client = boto3.client('s3')\n",
    "s3 = boto3.resource('s3')\n",
    "bucket = s3.Bucket(BUCKET_NAME)\n",
    "\n",
    "if not bucket.creation_date:\n",
    "    s3.create_bucket(\n",
    "        ACL=AWS_DEFAULT_ACL,\n",
    "        Bucket=BUCKET_NAME,\n",
    "        CreateBucketConfiguration={'LocationConstraint': REGION}\n",
    "    )\n",
    "    \n",
    "client.upload_file(\n",
    "    path_in_pc,\n",
    "    BUCKET_NAME,\n",
    "    path_s3,\n",
    "    ExtraArgs={\n",
    "        'ContentType': 'text/x-python',\n",
    "        'ACL': AWS_DEFAULT_ACL\n",
    "    }\n",
    ")"
   ]
  },
  {
   "cell_type": "code",
   "execution_count": 10,
   "metadata": {},
   "outputs": [
    {
     "name": "stdout",
     "output_type": "stream",
     "text": [
      "CPU times: user 54.3 ms, sys: 3.73 ms, total: 58 ms\n",
      "Wall time: 708 ms\n"
     ]
    }
   ],
   "source": [
    "%%time\n",
    "import boto3\n",
    "# PARA EJECUTAR UNA SOLA VEZ\n",
    "# Creando el job GLUE\n",
    "job_name = 'copy-json-glue'\n",
    "BUCKET_NAME = 'notification.job1'\n",
    "AWS_DEFAULT_ACL = 'public-read'\n",
    "REGION = 'us-west-1'\n",
    "path_in_pc = '/home/rmg/STORAGE/tests_courses_research/practice/GLUE/campaing/code_up_campaing.py'\n",
    "path_s3 = 'proccess.py'\n",
    "\n",
    "client_glue = boto3.client('glue')\n",
    "response_glue = client_glue.create_job(\n",
    "    Name=job_name,\n",
    "    Description='Prueba de copias csv en flujo GLUE',\n",
    "    Role='Glue_role',\n",
    "    ExecutionProperty={\n",
    "        'MaxConcurrentRuns': 3\n",
    "    },\n",
    "    Command={\n",
    "        'Name': 'glueetl',\n",
    "        'ScriptLocation': 's3://{}/{}'.format(BUCKET_NAME, path_s3)\n",
    "    }\n",
    ")\n",
    "response_glue"
   ]
  },
  {
   "cell_type": "code",
   "execution_count": 11,
   "metadata": {},
   "outputs": [
    {
     "data": {
      "text/plain": [
       "{'JobRunId': 'jr_3f165120b1e25d08ed50841ad740a534ae3059e99766930623ec549684f42b72',\n",
       " 'ResponseMetadata': {'RequestId': '1d51e782-57fd-11e9-9204-47b18bf43c9b',\n",
       "  'HTTPStatusCode': 200,\n",
       "  'HTTPHeaders': {'date': 'Fri, 05 Apr 2019 23:47:04 GMT',\n",
       "   'content-type': 'application/x-amz-json-1.1',\n",
       "   'content-length': '82',\n",
       "   'connection': 'keep-alive',\n",
       "   'x-amzn-requestid': '1d51e782-57fd-11e9-9204-47b18bf43c9b'},\n",
       "  'RetryAttempts': 0}}"
      ]
     },
     "execution_count": 11,
     "metadata": {},
     "output_type": "execute_result"
    }
   ],
   "source": [
    "# RUN JOB GLUE\n",
    "response_run = client_glue.start_job_run(\n",
    "    JobName=job_name\n",
    ")\n",
    "response_run"
   ]
  },
  {
   "cell_type": "code",
   "execution_count": 12,
   "metadata": {},
   "outputs": [
    {
     "data": {
      "text/plain": [
       "'jr_3f165120b1e25d08ed50841ad740a534ae3059e99766930623ec549684f42b72'"
      ]
     },
     "execution_count": 12,
     "metadata": {},
     "output_type": "execute_result"
    }
   ],
   "source": [
    "job_run_id = response_run.get('JobRunId', '')\n",
    "job_run_id"
   ]
  },
  {
   "cell_type": "code",
   "execution_count": 13,
   "metadata": {},
   "outputs": [
    {
     "name": "stdout",
     "output_type": "stream",
     "text": [
      "RUNNING RUNNING RUNNING RUNNING RUNNING RUNNING RUNNING RUNNING RUNNING RUNNING RUNNING RUNNING RUNNING RUNNING RUNNING RUNNING RUNNING RUNNING RUNNING RUNNING RUNNING RUNNING RUNNING RUNNING RUNNING RUNNING RUNNING RUNNING RUNNING SUCCEEDED \n",
      "  {'JobRun': {'Id': 'jr_3f165120b1e25d08ed50841ad740a534ae3059e99766930623ec549684f42b72', 'Attempt': 0, 'JobName': 'copy-json-glue', 'StartedOn': datetime.datetime(2019, 4, 5, 18, 47, 4, 232000, tzinfo=tzlocal()), 'LastModifiedOn': datetime.datetime(2019, 4, 5, 18, 51, 56, 436000, tzinfo=tzlocal()), 'CompletedOn': datetime.datetime(2019, 4, 5, 18, 51, 56, 436000, tzinfo=tzlocal()), 'JobRunState': 'SUCCEEDED', 'PredecessorRuns': [], 'AllocatedCapacity': 10, 'ExecutionTime': 118, 'Timeout': 2880, 'LogGroupName': '/aws-glue/jobs'}, 'ResponseMetadata': {'RequestId': 'cef73291-57fd-11e9-964b-05ff9084c187', 'HTTPStatusCode': 200, 'HTTPHeaders': {'date': 'Fri, 05 Apr 2019 23:52:02 GMT', 'content-type': 'application/x-amz-json-1.1', 'content-length': '376', 'connection': 'keep-alive', 'x-amzn-requestid': 'cef73291-57fd-11e9-964b-05ff9084c187'}, 'RetryAttempts': 0}}\n"
     ]
    }
   ],
   "source": [
    "import time\n",
    "status = 'RUNNING'\n",
    "\n",
    "while status == 'RUNNING':\n",
    "    response_status = client_glue.get_job_run(\n",
    "        JobName=job_name,\n",
    "        RunId = job_run_id\n",
    "    )\n",
    "    status = response_status.get('JobRun', {}).get('JobRunState', {})\n",
    "    print(status, end=' ')\n",
    "    if status != 'RUNNING':\n",
    "        print(\"\\n \", response_status)\n",
    "        break\n",
    "        \n",
    "    time.sleep(10)"
   ]
  },
  {
   "cell_type": "code",
   "execution_count": 8,
   "metadata": {},
   "outputs": [
    {
     "name": "stdout",
     "output_type": "stream",
     "text": [
      "2019-04-05 18:35:54       1637 proccess.py\n"
     ]
    }
   ],
   "source": [
    "!aws s3 ls s3://notification.job1"
   ]
  },
  {
   "cell_type": "code",
   "execution_count": null,
   "metadata": {},
   "outputs": [],
   "source": []
  },
  {
   "cell_type": "code",
   "execution_count": null,
   "metadata": {},
   "outputs": [],
   "source": []
  }
 ],
 "metadata": {
  "kernelspec": {
   "display_name": "Python 3",
   "language": "python",
   "name": "python3"
  },
  "language_info": {
   "codemirror_mode": {
    "name": "ipython",
    "version": 3
   },
   "file_extension": ".py",
   "mimetype": "text/x-python",
   "name": "python",
   "nbconvert_exporter": "python",
   "pygments_lexer": "ipython3",
   "version": "3.6.8"
  }
 },
 "nbformat": 4,
 "nbformat_minor": 2
}
