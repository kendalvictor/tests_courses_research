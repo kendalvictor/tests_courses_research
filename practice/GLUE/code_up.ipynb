{
 "cells": [
  {
   "cell_type": "code",
   "execution_count": null,
   "metadata": {},
   "outputs": [],
   "source": []
  },
  {
   "cell_type": "code",
   "execution_count": 13,
   "metadata": {},
   "outputs": [
    {
     "name": "stdout",
     "output_type": "stream",
     "text": [
      "gestion.pe/2018/12/2018-12-18.csv\n",
      "gestion.pe/2018/12/2018-12-19.csv\n",
      "gestion.pe/2018/12/2018-12-20.csv\n",
      "gestion.pe/2018/12/2018-12-21.csv\n",
      "gestion.pe/2018/12/2018-12-22.csv\n",
      "gestion.pe/2018/12/2018-12-23.csv\n",
      "gestion.pe/2018/12/2018-12-24.csv\n",
      "gestion.pe/2018/12/2018-12-25.csv\n",
      "gestion.pe/2018/12/2018-12-26.csv\n",
      "gestion.pe/2018/12/2018-12-27.csv\n",
      "gestion.pe/2018/12/2018-12-28.csv\n",
      "gestion.pe/2018/12/2018-12-29.csv\n",
      "gestion.pe/2018/12/2018-12-30.csv\n",
      "gestion.pe/2018/12/2018-12-31.csv\n",
      "CPU times: user 4.08 s, sys: 354 ms, total: 4.43 s\n",
      "Wall time: 52.7 s\n"
     ]
    }
   ],
   "source": [
    "%%time\n",
    "import platform\n",
    "import boto3\n",
    "import pandas as pd\n",
    "\n",
    "version = int(platform.python_version_tuple()[0])\n",
    "if version < 3:\n",
    "    from StringIO import StringIO\n",
    "else:\n",
    "    from io import StringIO\n",
    "\n",
    "BUCKET_NAME_GLUE = 'attemp-glue'\n",
    "BUCKET_NAME_CSVS = 'charbeat-trafic'\n",
    "path_work = 'gestion.pe/2018/12/'\n",
    "\n",
    "s3 = boto3.resource('s3')\n",
    "bucket_csv = s3.Bucket(BUCKET_NAME_CSVS)\n",
    "\n",
    "list_df = []\n",
    "col_analysis = 'page_avg_time'\n",
    "df_up = pd.DataFrame(columns=['dia', col_analysis])\n",
    "\n",
    "for obj in bucket_csv.objects.filter(Prefix=path_work):\n",
    "    key = obj.key\n",
    "    print(key)\n",
    "    url_up = 'https://s3.amazonaws.com/{}/{}'.format(BUCKET_NAME_CSVS, key)\n",
    "    df_s3 = pd.read_csv(url_up, parse_dates=['dia'])[['dia', col_analysis]]\n",
    "    df_s3['mes'] = df_s3['dia'].dt.month \n",
    "    \n",
    "    csv_buffer = StringIO()\n",
    "    df_s3.to_csv(csv_buffer, index=False)\n",
    "    s3.Object(BUCKET_NAME_GLUE, key).put(Body=csv_buffer.getvalue(), ACL='public-read')\n",
    "    # print(help(s3.Object(BUCKET_NAME_GLUE, key)))\n",
    "    \"\"\"\n",
    "    copy_source = {\n",
    "        'Bucket': BUCKET_NAME_CSVS,\n",
    "        'Key': key\n",
    "    }\n",
    "    s3.meta.client.copy(copy_source, BUCKET_NAME_GLUE, key)\n",
    "    \"\"\""
   ]
  },
  {
   "cell_type": "code",
   "execution_count": null,
   "metadata": {},
   "outputs": [],
   "source": []
  }
 ],
 "metadata": {
  "kernelspec": {
   "display_name": "Python 3",
   "language": "python",
   "name": "python3"
  },
  "language_info": {
   "codemirror_mode": {
    "name": "ipython",
    "version": 3
   },
   "file_extension": ".py",
   "mimetype": "text/x-python",
   "name": "python",
   "nbconvert_exporter": "python",
   "pygments_lexer": "ipython3",
   "version": "3.6.8"
  }
 },
 "nbformat": 4,
 "nbformat_minor": 2
}
