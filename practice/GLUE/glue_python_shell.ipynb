{
 "cells": [
  {
   "cell_type": "code",
   "execution_count": 46,
   "metadata": {},
   "outputs": [],
   "source": [
    "import boto3"
   ]
  },
  {
   "cell_type": "code",
   "execution_count": 47,
   "metadata": {},
   "outputs": [],
   "source": [
    "# SUBO MI CODIGO PYTHON EN UNA RUTA ESPECIFICA\n",
    "\n",
    "BUCKET_NAME = 'attemp-glue'\n",
    "AWS_DEFAULT_ACL = 'public-read'\n",
    "REGION = 'us-west-1'\n",
    "path_in_pc = '/home/rmg/STORAGE/tests_courses/practice/PYSPARK/GLUE/code_up.py'\n",
    "path_s3 = 'code_up.py'\n",
    "\n",
    "client = boto3.client('s3')\n",
    "s3 = boto3.resource('s3')\n",
    "bucket = s3.Bucket(BUCKET_NAME)\n",
    "\n",
    "if not bucket.creation_date:\n",
    "    s3.create_bucket(\n",
    "        ACL=AWS_DEFAULT_ACL,\n",
    "        Bucket=BUCKET_NAME,\n",
    "        CreateBucketConfiguration={'LocationConstraint': REGION}\n",
    "    )\n",
    "    \n",
    "client.upload_file(\n",
    "    path_in_pc,\n",
    "    BUCKET_NAME,\n",
    "    path_s3,\n",
    "    ExtraArgs={\n",
    "        'ContentType': 'text/x-python',\n",
    "        'ACL': AWS_DEFAULT_ACL\n",
    "    }\n",
    ")"
   ]
  },
  {
   "cell_type": "code",
   "execution_count": 29,
   "metadata": {},
   "outputs": [
    {
     "data": {
      "text/plain": [
       "{'Name': 'copy-csv-glue',\n",
       " 'ResponseMetadata': {'RequestId': '76657c7d-4f49-11e9-9c9a-a7307ce5a5cd',\n",
       "  'HTTPStatusCode': 200,\n",
       "  'HTTPHeaders': {'date': 'Mon, 25 Mar 2019 22:00:54 GMT',\n",
       "   'content-type': 'application/x-amz-json-1.1',\n",
       "   'content-length': '24',\n",
       "   'connection': 'keep-alive',\n",
       "   'x-amzn-requestid': '76657c7d-4f49-11e9-9c9a-a7307ce5a5cd'},\n",
       "  'RetryAttempts': 0}}"
      ]
     },
     "execution_count": 29,
     "metadata": {},
     "output_type": "execute_result"
    }
   ],
   "source": [
    "# PARA EJECUTAR UNA SOLA VEZ\n",
    "# Creando el job GLUE   \n",
    "client_glue = boto3.client('glue')\n",
    "response_glue = client_glue.create_job(\n",
    "    Name='copy-csv-glue',\n",
    "    Description='Prueba de copias csv en flujo GLUE',\n",
    "    Role='AdminGlue',\n",
    "    ExecutionProperty={\n",
    "        'MaxConcurrentRuns': 3\n",
    "    },\n",
    "    Command={\n",
    "        'Name': 'pythonshell',\n",
    "        'ScriptLocation': 's3://attemp-glue/code_up.py'\n",
    "    }\n",
    ")\n",
    "response_glue"
   ]
  },
  {
   "cell_type": "code",
   "execution_count": 48,
   "metadata": {},
   "outputs": [
    {
     "data": {
      "text/plain": [
       "{'JobRunId': 'jr_119116d17f7b4155b5b3017eb4bb0647173121000aaeba4ca6fba1e7cd90df4b',\n",
       " 'ResponseMetadata': {'RequestId': '4327c914-5005-11e9-8c5e-7db0e252cd10',\n",
       "  'HTTPStatusCode': 200,\n",
       "  'HTTPHeaders': {'date': 'Tue, 26 Mar 2019 20:25:14 GMT',\n",
       "   'content-type': 'application/x-amz-json-1.1',\n",
       "   'content-length': '82',\n",
       "   'connection': 'keep-alive',\n",
       "   'x-amzn-requestid': '4327c914-5005-11e9-8c5e-7db0e252cd10'},\n",
       "  'RetryAttempts': 0}}"
      ]
     },
     "execution_count": 48,
     "metadata": {},
     "output_type": "execute_result"
    }
   ],
   "source": [
    "# RUN JOB GLUE\n",
    "response_run = client_glue.start_job_run(\n",
    "    JobName='copy-csv-glue'\n",
    ")\n",
    "response_run"
   ]
  },
  {
   "cell_type": "code",
   "execution_count": 49,
   "metadata": {},
   "outputs": [
    {
     "data": {
      "text/plain": [
       "'jr_119116d17f7b4155b5b3017eb4bb0647173121000aaeba4ca6fba1e7cd90df4b'"
      ]
     },
     "execution_count": 49,
     "metadata": {},
     "output_type": "execute_result"
    }
   ],
   "source": [
    "job_run_id = response_run.get('JobRunId', '')\n",
    "job_run_id"
   ]
  },
  {
   "cell_type": "code",
   "execution_count": 53,
   "metadata": {},
   "outputs": [
    {
     "data": {
      "text/plain": [
       "{'JobRun': {'Id': 'jr_119116d17f7b4155b5b3017eb4bb0647173121000aaeba4ca6fba1e7cd90df4b',\n",
       "  'Attempt': 0,\n",
       "  'JobName': 'copy-csv-glue',\n",
       "  'StartedOn': datetime.datetime(2019, 3, 26, 15, 25, 14, 481000, tzinfo=tzlocal()),\n",
       "  'LastModifiedOn': datetime.datetime(2019, 3, 26, 15, 25, 38, 603000, tzinfo=tzlocal()),\n",
       "  'CompletedOn': datetime.datetime(2019, 3, 26, 15, 25, 38, 603000, tzinfo=tzlocal()),\n",
       "  'JobRunState': 'SUCCEEDED',\n",
       "  'PredecessorRuns': [],\n",
       "  'AllocatedCapacity': 1,\n",
       "  'ExecutionTime': 12,\n",
       "  'Timeout': 2880,\n",
       "  'LogGroupName': '/aws-glue/python-jobs'},\n",
       " 'ResponseMetadata': {'RequestId': '52ab7f1c-5005-11e9-bccb-f117eb004523',\n",
       "  'HTTPStatusCode': 200,\n",
       "  'HTTPHeaders': {'date': 'Tue, 26 Mar 2019 20:25:40 GMT',\n",
       "   'content-type': 'application/x-amz-json-1.1',\n",
       "   'content-length': '382',\n",
       "   'connection': 'keep-alive',\n",
       "   'x-amzn-requestid': '52ab7f1c-5005-11e9-bccb-f117eb004523'},\n",
       "  'RetryAttempts': 0}}"
      ]
     },
     "execution_count": 53,
     "metadata": {},
     "output_type": "execute_result"
    }
   ],
   "source": [
    "response_status = client_glue.get_job_run(\n",
    "    JobName='copy-csv-glue',\n",
    "    RunId = job_run_id\n",
    ")\n",
    "response_status"
   ]
  },
  {
   "cell_type": "code",
   "execution_count": null,
   "metadata": {},
   "outputs": [],
   "source": []
  }
 ],
 "metadata": {
  "kernelspec": {
   "display_name": "Python 3",
   "language": "python",
   "name": "python3"
  },
  "language_info": {
   "codemirror_mode": {
    "name": "ipython",
    "version": 3
   },
   "file_extension": ".py",
   "mimetype": "text/x-python",
   "name": "python",
   "nbconvert_exporter": "python",
   "pygments_lexer": "ipython3",
   "version": "3.6.8"
  }
 },
 "nbformat": 4,
 "nbformat_minor": 2
}
