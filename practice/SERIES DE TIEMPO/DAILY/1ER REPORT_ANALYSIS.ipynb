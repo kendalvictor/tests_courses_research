{
 "cells": [
  {
   "cell_type": "markdown",
   "metadata": {},
   "source": [
    "# **1ER REPORTE DE ANALISIS**"
   ]
  },
  {
   "cell_type": "markdown",
   "metadata": {},
   "source": [
    "### **TRATAMIENTO DE AUSENCIAS / ORDEN CRONOLOGICO**"
   ]
  },
  {
   "cell_type": "markdown",
   "metadata": {},
   "source": [
    "* Se tomo el reemplazo de los 4 anteriores valores no nulos del mismo dia de la semana"
   ]
  },
  {
   "cell_type": "markdown",
   "metadata": {},
   "source": [
    "<img src='img/casos_ausencias_1.png' height=\"75\" width=\"350\"></img>\n",
    "<img src='img/casos_ausencias_2.png' height=\"75\" width=\"350\"></img>"
   ]
  },
  {
   "cell_type": "markdown",
   "metadata": {},
   "source": [
    "#### Incidencias"
   ]
  },
  {
   "cell_type": "markdown",
   "metadata": {},
   "source": [
    "<img src='img/caso_no_predecible.png' height=\"300\" width=\"450\"></img>"
   ]
  },
  {
   "cell_type": "markdown",
   "metadata": {},
   "source": [
    "Este hallazgo se dio tras la busqueda por codigo del caso que siempre incurre al error para el modelo SARIMAX, observando que no es un caso predecible.<br>\n",
    "**Por lo tanto se procedio a realizar un filtro para estos casos**"
   ]
  },
  {
   "cell_type": "code",
   "execution_count": null,
   "metadata": {},
   "outputs": [],
   "source": []
  }
 ],
 "metadata": {
  "kernelspec": {
   "display_name": "Python 3",
   "language": "python",
   "name": "python3"
  },
  "language_info": {
   "codemirror_mode": {
    "name": "ipython",
    "version": 3
   },
   "file_extension": ".py",
   "mimetype": "text/x-python",
   "name": "python",
   "nbconvert_exporter": "python",
   "pygments_lexer": "ipython3",
   "version": "3.6.5"
  }
 },
 "nbformat": 4,
 "nbformat_minor": 2
}
