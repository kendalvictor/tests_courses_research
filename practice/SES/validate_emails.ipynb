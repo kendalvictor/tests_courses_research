{
 "cells": [
  {
   "cell_type": "code",
   "execution_count": 8,
   "metadata": {},
   "outputs": [],
   "source": [
    "import boto3\n",
    "from botocore.exceptions import ClientError"
   ]
  },
  {
   "cell_type": "code",
   "execution_count": 3,
   "metadata": {},
   "outputs": [],
   "source": [
    "client = boto3.client('ses', region_name='us-east-1')"
   ]
  },
  {
   "cell_type": "code",
   "execution_count": 9,
   "metadata": {},
   "outputs": [],
   "source": [
    "checks = [\n",
    "  {\n",
    "    \"email\":\"v.villacorta.unmsm@gmail.com\"\n",
    "  },\n",
    "  {\n",
    "    \"email\":\"no_existeeeeeeeeeeeeeeeee@rmgperustaff.com\"\n",
    "  },\n",
    "  {\n",
    "    \"email\":\"vvillacorta@rmgperustaff.com \"\n",
    "  }\n",
    "]\n"
   ]
  },
  {
   "cell_type": "code",
   "execution_count": 11,
   "metadata": {},
   "outputs": [
    {
     "name": "stdout",
     "output_type": "stream",
     "text": [
      "Verification email sent to v.villacorta.unmsm@gmail.com. Request ID: 10a8fc09-686b-11e9-8aac-b1e1c9ef8a42\n",
      "{'ResponseMetadata': {'RequestId': '10a8fc09-686b-11e9-8aac-b1e1c9ef8a42', 'HTTPStatusCode': 200, 'HTTPHeaders': {'x-amzn-requestid': '10a8fc09-686b-11e9-8aac-b1e1c9ef8a42', 'content-type': 'text/xml', 'content-length': '248', 'date': 'Fri, 26 Apr 2019 21:34:25 GMT'}, 'RetryAttempts': 0}}\n",
      "//////////////////////////////////////////////////\n",
      "Verification email sent to no_existeeeeeeeeeeeeeeeee@rmgperustaff.com. Request ID: 10c70b6b-686b-11e9-8aac-b1e1c9ef8a42\n",
      "{'ResponseMetadata': {'RequestId': '10c70b6b-686b-11e9-8aac-b1e1c9ef8a42', 'HTTPStatusCode': 200, 'HTTPHeaders': {'x-amzn-requestid': '10c70b6b-686b-11e9-8aac-b1e1c9ef8a42', 'content-type': 'text/xml', 'content-length': '248', 'date': 'Fri, 26 Apr 2019 21:34:26 GMT'}, 'RetryAttempts': 0}}\n",
      "//////////////////////////////////////////////////\n",
      "Verification email sent to vvillacorta@rmgperustaff.com . Request ID: 10e67a5c-686b-11e9-8aac-b1e1c9ef8a42\n",
      "{'ResponseMetadata': {'RequestId': '10e67a5c-686b-11e9-8aac-b1e1c9ef8a42', 'HTTPStatusCode': 200, 'HTTPHeaders': {'x-amzn-requestid': '10e67a5c-686b-11e9-8aac-b1e1c9ef8a42', 'content-type': 'text/xml', 'content-length': '248', 'date': 'Fri, 26 Apr 2019 21:34:26 GMT'}, 'RetryAttempts': 0}}\n",
      "//////////////////////////////////////////////////\n"
     ]
    }
   ],
   "source": [
    "for i in checks:\n",
    "    try:\n",
    "        response = client.verify_email_identity(\n",
    "            EmailAddress=i['email']\n",
    "    )\n",
    "    except ClientError as e:\n",
    "        print(\"ERROR: \", e.response['Error']['Message'])\n",
    "    else:\n",
    "        print('Verification email sent to ' + i['email'] + '. Request ID: ' + \n",
    "              response['ResponseMetadata']['RequestId'])\n",
    "        print(response)\n",
    "        print(\"/\"*50)"
   ]
  },
  {
   "cell_type": "code",
   "execution_count": null,
   "metadata": {},
   "outputs": [],
   "source": []
  }
 ],
 "metadata": {
  "kernelspec": {
   "display_name": "Python 3",
   "language": "python",
   "name": "python3"
  },
  "language_info": {
   "codemirror_mode": {
    "name": "ipython",
    "version": 3
   },
   "file_extension": ".py",
   "mimetype": "text/x-python",
   "name": "python",
   "nbconvert_exporter": "python",
   "pygments_lexer": "ipython3",
   "version": "3.6.8"
  }
 },
 "nbformat": 4,
 "nbformat_minor": 2
}
