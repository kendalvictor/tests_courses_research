{
 "cells": [
  {
   "cell_type": "code",
   "execution_count": 1,
   "metadata": {},
   "outputs": [
    {
     "name": "stdout",
     "output_type": "stream",
     "text": [
      "gestion.pe/2018/12/2018-12-18.csv\n",
      "gestion.pe/2018/12/2018-12-19.csv\n",
      "gestion.pe/2018/12/2018-12-20.csv\n",
      "gestion.pe/2018/12/2018-12-21.csv\n",
      "gestion.pe/2018/12/2018-12-22.csv\n",
      "gestion.pe/2018/12/2018-12-23.csv\n",
      "gestion.pe/2018/12/2018-12-24.csv\n",
      "gestion.pe/2018/12/2018-12-25.csv\n",
      "gestion.pe/2018/12/2018-12-26.csv\n",
      "gestion.pe/2018/12/2018-12-27.csv\n",
      "gestion.pe/2018/12/2018-12-28.csv\n",
      "gestion.pe/2018/12/2018-12-29.csv\n",
      "gestion.pe/2018/12/2018-12-30.csv\n",
      "gestion.pe/2018/12/2018-12-31.csv\n",
      "CPU times: user 4.4 s, sys: 669 ms, total: 5.07 s\n",
      "Wall time: 1min 12s\n"
     ]
    }
   ],
   "source": [
    "%%time\n",
    "import platform\n",
    "import boto3\n",
    "import pandas as pd\n",
    "\n",
    "version = int(platform.python_version_tuple()[0])\n",
    "if version < 3:\n",
    "    from StringIO import StringIO\n",
    "else:\n",
    "    from io import StringIO\n",
    "\n",
    "BUCKET_NAME_GLUE = 'attemp-glue'\n",
    "BUCKET_NAME_CSVS = 'charbeat-trafic'\n",
    "path_work = 'gestion.pe/2018/12/'\n",
    "\n",
    "s3 = boto3.resource('s3')\n",
    "bucket_csv = s3.Bucket(BUCKET_NAME_CSVS)\n",
    "\n",
    "list_df = []\n",
    "col_analysis = 'page_avg_time'\n",
    "df_up = pd.DataFrame(columns=['dia', col_analysis])\n",
    "\n",
    "for obj in bucket_csv.objects.filter(Prefix=path_work):\n",
    "    key = obj.key\n",
    "    print(key)\n",
    "    url_up = 'https://s3.amazonaws.com/{}/{}'.format(BUCKET_NAME_CSVS, key)\n",
    "    df_s3 = pd.read_csv(url_up, parse_dates=['dia'])[['dia', col_analysis]]\n",
    "    df_s3['mes'] = df_s3['dia'].dt.month \n",
    "    \n",
    "    csv_buffer = StringIO()\n",
    "    df_s3.to_csv(csv_buffer, index=False)\n",
    "    s3.Object(BUCKET_NAME_GLUE, key).put(Body=csv_buffer.getvalue(), ACL='public-read')\n",
    "    # print(help(s3.Object(BUCKET_NAME_GLUE, key)))\n",
    "    \"\"\"\n",
    "    copy_source = {\n",
    "        'Bucket': BUCKET_NAME_CSVS,\n",
    "        'Key': key\n",
    "    }\n",
    "    s3.meta.client.copy(copy_source, BUCKET_NAME_GLUE, key)\n",
    "    \"\"\""
   ]
  },
  {
   "cell_type": "code",
   "execution_count": 2,
   "metadata": {},
   "outputs": [
    {
     "name": "stdout",
     "output_type": "stream",
     "text": [
      "a b\n"
     ]
    }
   ],
   "source": [
    "baz = {'a': 1, 'b': 2}\n",
    "foo, bar = baz\n",
    "print(foo, bar)"
   ]
  },
  {
   "cell_type": "code",
   "execution_count": 3,
   "metadata": {},
   "outputs": [
    {
     "name": "stdout",
     "output_type": "stream",
     "text": [
      "1 2\n"
     ]
    }
   ],
   "source": [
    "baz = [1, 2]\n",
    "foo, bar = baz\n",
    "print(foo, bar)"
   ]
  },
  {
   "cell_type": "code",
   "execution_count": 4,
   "metadata": {},
   "outputs": [
    {
     "name": "stdout",
     "output_type": "stream",
     "text": [
      "3 4\n"
     ]
    }
   ],
   "source": [
    "baz = 3, 4\n",
    "foo, bar = baz\n",
    "print(foo, bar)"
   ]
  },
  {
   "cell_type": "code",
   "execution_count": 1,
   "metadata": {},
   "outputs": [
    {
     "name": "stdout",
     "output_type": "stream",
     "text": [
      "CPU times: user 1.85 s, sys: 475 ms, total: 2.32 s\n",
      "Wall time: 8.73 s\n"
     ]
    }
   ],
   "source": [
    "%%time\n",
    "## VERSION WITH DASK\n",
    "import dask.dataframe as dd\n",
    "import pandas as pd\n",
    "\n",
    "bucket_name = \"aatempjson2\"\n",
    "hour = 19\n",
    "path_json_spark = 's3://{}/{}/{}/{}/{}/*'.format(\n",
    "    bucket_name, '2019', '04', '08', hour\n",
    ")\n",
    "df = dd.read_csv(\n",
    "    path_json_spark, sep='@@@', engine='python', header=None, squeeze=False\n",
    ").compute()"
   ]
  },
  {
   "cell_type": "code",
   "execution_count": 3,
   "metadata": {},
   "outputs": [
    {
     "data": {
      "text/html": [
       "<div>\n",
       "<style scoped>\n",
       "    .dataframe tbody tr th:only-of-type {\n",
       "        vertical-align: middle;\n",
       "    }\n",
       "\n",
       "    .dataframe tbody tr th {\n",
       "        vertical-align: top;\n",
       "    }\n",
       "\n",
       "    .dataframe thead th {\n",
       "        text-align: right;\n",
       "    }\n",
       "</style>\n",
       "<table border=\"1\" class=\"dataframe\">\n",
       "  <thead>\n",
       "    <tr style=\"text-align: right;\">\n",
       "      <th></th>\n",
       "      <th>0</th>\n",
       "    </tr>\n",
       "  </thead>\n",
       "  <tbody>\n",
       "    <tr>\n",
       "      <th>0</th>\n",
       "      <td>{\"project\":\"ojo_dev\",\"event\":\"ctr\",\"date\":\"201...</td>\n",
       "    </tr>\n",
       "  </tbody>\n",
       "</table>\n",
       "</div>"
      ],
      "text/plain": [
       "                                                   0\n",
       "0  {\"project\":\"ojo_dev\",\"event\":\"ctr\",\"date\":\"201..."
      ]
     },
     "execution_count": 3,
     "metadata": {},
     "output_type": "execute_result"
    }
   ],
   "source": [
    "df.head()"
   ]
  },
  {
   "cell_type": "code",
   "execution_count": 4,
   "metadata": {},
   "outputs": [
    {
     "data": {
      "text/plain": [
       "'0.0008935928344726562 MB'"
      ]
     },
     "execution_count": 4,
     "metadata": {},
     "output_type": "execute_result"
    }
   ],
   "source": [
    "def get_memory_usage(data, deep=True):\n",
    "    return '{} MB'.format(data.memory_usage(deep=deep).sum() / 1024 ** 2)\n",
    "\n",
    "get_memory_usage(df)"
   ]
  },
  {
   "cell_type": "code",
   "execution_count": null,
   "metadata": {},
   "outputs": [],
   "source": []
  },
  {
   "cell_type": "code",
   "execution_count": 5,
   "metadata": {},
   "outputs": [
    {
     "data": {
      "text/plain": [
       "(1, 1)"
      ]
     },
     "execution_count": 5,
     "metadata": {},
     "output_type": "execute_result"
    }
   ],
   "source": [
    "df.shape"
   ]
  },
  {
   "cell_type": "code",
   "execution_count": null,
   "metadata": {},
   "outputs": [],
   "source": []
  },
  {
   "cell_type": "code",
   "execution_count": 6,
   "metadata": {},
   "outputs": [
    {
     "data": {
      "text/html": [
       "<div>\n",
       "<style scoped>\n",
       "    .dataframe tbody tr th:only-of-type {\n",
       "        vertical-align: middle;\n",
       "    }\n",
       "\n",
       "    .dataframe tbody tr th {\n",
       "        vertical-align: top;\n",
       "    }\n",
       "\n",
       "    .dataframe thead th {\n",
       "        text-align: right;\n",
       "    }\n",
       "</style>\n",
       "<table border=\"1\" class=\"dataframe\">\n",
       "  <thead>\n",
       "    <tr style=\"text-align: right;\">\n",
       "      <th></th>\n",
       "      <th>0</th>\n",
       "    </tr>\n",
       "  </thead>\n",
       "  <tbody>\n",
       "    <tr>\n",
       "      <th>0</th>\n",
       "      <td>{\"project\":\"ojo_dev\",\"event\":\"ctr\",\"date\":\"201...</td>\n",
       "    </tr>\n",
       "  </tbody>\n",
       "</table>\n",
       "</div>"
      ],
      "text/plain": [
       "                                                   0\n",
       "0  {\"project\":\"ojo_dev\",\"event\":\"ctr\",\"date\":\"201..."
      ]
     },
     "execution_count": 6,
     "metadata": {},
     "output_type": "execute_result"
    }
   ],
   "source": [
    "unique_col = df.columns[0]\n",
    "df.head()"
   ]
  },
  {
   "cell_type": "code",
   "execution_count": 7,
   "metadata": {},
   "outputs": [
    {
     "data": {
      "text/html": [
       "<div>\n",
       "<style scoped>\n",
       "    .dataframe tbody tr th:only-of-type {\n",
       "        vertical-align: middle;\n",
       "    }\n",
       "\n",
       "    .dataframe tbody tr th {\n",
       "        vertical-align: top;\n",
       "    }\n",
       "\n",
       "    .dataframe thead th {\n",
       "        text-align: right;\n",
       "    }\n",
       "</style>\n",
       "<table border=\"1\" class=\"dataframe\">\n",
       "  <thead>\n",
       "    <tr style=\"text-align: right;\">\n",
       "      <th></th>\n",
       "      <th>0</th>\n",
       "    </tr>\n",
       "  </thead>\n",
       "  <tbody>\n",
       "    <tr>\n",
       "      <th>0</th>\n",
       "      <td>{\"project\":\"ojo_dev\",\"event\":\"ctr\",\"date\":\"201...</td>\n",
       "    </tr>\n",
       "    <tr>\n",
       "      <th>1</th>\n",
       "      <td>{\"project\":\"ojo_dev\",\"event\":\"ctr\",\"date\":\"201...</td>\n",
       "    </tr>\n",
       "    <tr>\n",
       "      <th>2</th>\n",
       "      <td>{\"project\":\"ojo_dev\",\"event\":\"ctr\",\"date\":\"201...</td>\n",
       "    </tr>\n",
       "    <tr>\n",
       "      <th>3</th>\n",
       "      <td>{\"project\":\"ojo_dev\",\"event\":\"ctr\",\"date\":\"201...</td>\n",
       "    </tr>\n",
       "    <tr>\n",
       "      <th>4</th>\n",
       "      <td>{\"project\":\"ojo_dev\",\"event\":\"ctr\",\"date\":\"201...</td>\n",
       "    </tr>\n",
       "  </tbody>\n",
       "</table>\n",
       "</div>"
      ],
      "text/plain": [
       "                                                   0\n",
       "0  {\"project\":\"ojo_dev\",\"event\":\"ctr\",\"date\":\"201...\n",
       "1  {\"project\":\"ojo_dev\",\"event\":\"ctr\",\"date\":\"201...\n",
       "2  {\"project\":\"ojo_dev\",\"event\":\"ctr\",\"date\":\"201...\n",
       "3  {\"project\":\"ojo_dev\",\"event\":\"ctr\",\"date\":\"201...\n",
       "4  {\"project\":\"ojo_dev\",\"event\":\"ctr\",\"date\":\"201..."
      ]
     },
     "execution_count": 7,
     "metadata": {},
     "output_type": "execute_result"
    }
   ],
   "source": [
    "df = pd.DataFrame(data=''.join(list(df[unique_col])).replace('}{', '} {').split(' '))\n",
    "df.head()"
   ]
  },
  {
   "cell_type": "code",
   "execution_count": 8,
   "metadata": {},
   "outputs": [],
   "source": [
    "import json\n",
    "unique_col = df.columns[0]\n",
    "df[unique_col] = df[unique_col].apply(json.loads)"
   ]
  },
  {
   "cell_type": "code",
   "execution_count": 9,
   "metadata": {},
   "outputs": [
    {
     "data": {
      "text/html": [
       "<div>\n",
       "<style scoped>\n",
       "    .dataframe tbody tr th:only-of-type {\n",
       "        vertical-align: middle;\n",
       "    }\n",
       "\n",
       "    .dataframe tbody tr th {\n",
       "        vertical-align: top;\n",
       "    }\n",
       "\n",
       "    .dataframe thead th {\n",
       "        text-align: right;\n",
       "    }\n",
       "</style>\n",
       "<table border=\"1\" class=\"dataframe\">\n",
       "  <thead>\n",
       "    <tr style=\"text-align: right;\">\n",
       "      <th></th>\n",
       "      <th>0</th>\n",
       "    </tr>\n",
       "  </thead>\n",
       "  <tbody>\n",
       "    <tr>\n",
       "      <th>0</th>\n",
       "      <td>{'project': 'ojo_dev', 'event': 'ctr', 'date':...</td>\n",
       "    </tr>\n",
       "    <tr>\n",
       "      <th>1</th>\n",
       "      <td>{'project': 'ojo_dev', 'event': 'ctr', 'date':...</td>\n",
       "    </tr>\n",
       "    <tr>\n",
       "      <th>2</th>\n",
       "      <td>{'project': 'ojo_dev', 'event': 'ctr', 'date':...</td>\n",
       "    </tr>\n",
       "    <tr>\n",
       "      <th>3</th>\n",
       "      <td>{'project': 'ojo_dev', 'event': 'ctr', 'date':...</td>\n",
       "    </tr>\n",
       "    <tr>\n",
       "      <th>4</th>\n",
       "      <td>{'project': 'ojo_dev', 'event': 'ctr', 'date':...</td>\n",
       "    </tr>\n",
       "  </tbody>\n",
       "</table>\n",
       "</div>"
      ],
      "text/plain": [
       "                                                   0\n",
       "0  {'project': 'ojo_dev', 'event': 'ctr', 'date':...\n",
       "1  {'project': 'ojo_dev', 'event': 'ctr', 'date':...\n",
       "2  {'project': 'ojo_dev', 'event': 'ctr', 'date':...\n",
       "3  {'project': 'ojo_dev', 'event': 'ctr', 'date':...\n",
       "4  {'project': 'ojo_dev', 'event': 'ctr', 'date':..."
      ]
     },
     "execution_count": 9,
     "metadata": {},
     "output_type": "execute_result"
    }
   ],
   "source": [
    "df.head()"
   ]
  },
  {
   "cell_type": "code",
   "execution_count": 10,
   "metadata": {},
   "outputs": [
    {
     "data": {
      "text/plain": [
       "'0.0022125244140625 MB'"
      ]
     },
     "execution_count": 10,
     "metadata": {},
     "output_type": "execute_result"
    }
   ],
   "source": [
    "get_memory_usage(df)"
   ]
  },
  {
   "cell_type": "code",
   "execution_count": 11,
   "metadata": {},
   "outputs": [],
   "source": [
    "for col in df[unique_col][0].keys():\n",
    "    df[col] = df[unique_col].apply(lambda _: _.get(col, ''))\n",
    "\n",
    "del df[unique_col]"
   ]
  },
  {
   "cell_type": "code",
   "execution_count": 12,
   "metadata": {},
   "outputs": [
    {
     "data": {
      "text/plain": [
       "('0.00301361083984375 MB', (10, 5))"
      ]
     },
     "execution_count": 12,
     "metadata": {},
     "output_type": "execute_result"
    }
   ],
   "source": [
    "get_memory_usage(df), df.shape"
   ]
  },
  {
   "cell_type": "code",
   "execution_count": 13,
   "metadata": {},
   "outputs": [
    {
     "data": {
      "text/html": [
       "<div>\n",
       "<style scoped>\n",
       "    .dataframe tbody tr th:only-of-type {\n",
       "        vertical-align: middle;\n",
       "    }\n",
       "\n",
       "    .dataframe tbody tr th {\n",
       "        vertical-align: top;\n",
       "    }\n",
       "\n",
       "    .dataframe thead th {\n",
       "        text-align: right;\n",
       "    }\n",
       "</style>\n",
       "<table border=\"1\" class=\"dataframe\">\n",
       "  <thead>\n",
       "    <tr style=\"text-align: right;\">\n",
       "      <th></th>\n",
       "      <th>project</th>\n",
       "      <th>campain</th>\n",
       "      <th>url</th>\n",
       "      <th>event</th>\n",
       "      <th>year</th>\n",
       "      <th>month</th>\n",
       "      <th>day</th>\n",
       "      <th>hour</th>\n",
       "    </tr>\n",
       "  </thead>\n",
       "  <tbody>\n",
       "    <tr>\n",
       "      <th>0</th>\n",
       "      <td>ojo_dev</td>\n",
       "      <td>xxxxx</td>\n",
       "      <td></td>\n",
       "      <td>ctr</td>\n",
       "      <td>2019</td>\n",
       "      <td>4</td>\n",
       "      <td>5</td>\n",
       "      <td>19</td>\n",
       "    </tr>\n",
       "    <tr>\n",
       "      <th>1</th>\n",
       "      <td>ojo_dev</td>\n",
       "      <td>xxxxx</td>\n",
       "      <td></td>\n",
       "      <td>ctr</td>\n",
       "      <td>2019</td>\n",
       "      <td>4</td>\n",
       "      <td>5</td>\n",
       "      <td>19</td>\n",
       "    </tr>\n",
       "    <tr>\n",
       "      <th>2</th>\n",
       "      <td>ojo_dev</td>\n",
       "      <td>xxxxx</td>\n",
       "      <td></td>\n",
       "      <td>ctr</td>\n",
       "      <td>2019</td>\n",
       "      <td>4</td>\n",
       "      <td>5</td>\n",
       "      <td>19</td>\n",
       "    </tr>\n",
       "    <tr>\n",
       "      <th>3</th>\n",
       "      <td>ojo_dev</td>\n",
       "      <td>xxxxx</td>\n",
       "      <td></td>\n",
       "      <td>ctr</td>\n",
       "      <td>2019</td>\n",
       "      <td>4</td>\n",
       "      <td>5</td>\n",
       "      <td>19</td>\n",
       "    </tr>\n",
       "    <tr>\n",
       "      <th>4</th>\n",
       "      <td>ojo_dev</td>\n",
       "      <td>xxxxx</td>\n",
       "      <td></td>\n",
       "      <td>ctr</td>\n",
       "      <td>2019</td>\n",
       "      <td>4</td>\n",
       "      <td>5</td>\n",
       "      <td>19</td>\n",
       "    </tr>\n",
       "  </tbody>\n",
       "</table>\n",
       "</div>"
      ],
      "text/plain": [
       "   project campain url event  year  month  day  hour\n",
       "0  ojo_dev   xxxxx       ctr  2019      4    5    19\n",
       "1  ojo_dev   xxxxx       ctr  2019      4    5    19\n",
       "2  ojo_dev   xxxxx       ctr  2019      4    5    19\n",
       "3  ojo_dev   xxxxx       ctr  2019      4    5    19\n",
       "4  ojo_dev   xxxxx       ctr  2019      4    5    19"
      ]
     },
     "execution_count": 13,
     "metadata": {},
     "output_type": "execute_result"
    }
   ],
   "source": [
    "df['hour'] = hour\n",
    "df['date'] = pd.to_datetime(df['date'], format=\"%Y%m%d\")\n",
    "df['year'] = df['date'].dt.year\n",
    "df['month'] = df['date'].dt.month\n",
    "df['day'] = df['date'].dt.day\n",
    "df = df[['project', 'campain', 'url', 'event', 'year', 'month', 'day', 'hour']]\n",
    "df.head()"
   ]
  },
  {
   "cell_type": "code",
   "execution_count": 14,
   "metadata": {},
   "outputs": [
    {
     "data": {
      "text/plain": [
       "('0.0026988983154296875 MB', (10, 8))"
      ]
     },
     "execution_count": 14,
     "metadata": {},
     "output_type": "execute_result"
    }
   ],
   "source": [
    "get_memory_usage(df), df.shape"
   ]
  },
  {
   "cell_type": "code",
   "execution_count": 15,
   "metadata": {},
   "outputs": [
    {
     "data": {
      "text/plain": [
       "[('ojo_dev', 'xxxxx', '', 'ctr', 2019, 4, 5, 19),\n",
       " ('ojo_dev', 'xxxxx', '', 'ctr', 2019, 4, 5, 19),\n",
       " ('ojo_dev', 'xxxxx', '', 'ctr', 2019, 4, 5, 19),\n",
       " ('ojo_dev', 'xxxxx', '', 'ctr', 2019, 4, 5, 19),\n",
       " ('ojo_dev', 'xxxxx', '', 'ctr', 2019, 4, 5, 19),\n",
       " ('ojo_dev', 'xxxxx', '', 'ctr', 2019, 4, 5, 19),\n",
       " ('ojo_dev', 'xxxxx', '', 'ctr', 2019, 4, 5, 19),\n",
       " ('ojo_dev', 'xxxxx', '', 'ctr', 2019, 4, 5, 19),\n",
       " ('ojo_dev', 'xxxxx', '', 'ctr', 2019, 4, 5, 19),\n",
       " ('ojo_dev', 'xxxxx', '', 'ctr', 2019, 4, 5, 19)]"
      ]
     },
     "execution_count": 15,
     "metadata": {},
     "output_type": "execute_result"
    }
   ],
   "source": [
    "df = [tuple(_) for _ in df.values]\n",
    "df"
   ]
  },
  {
   "cell_type": "code",
   "execution_count": 16,
   "metadata": {},
   "outputs": [
    {
     "data": {
      "text/plain": [
       "21"
      ]
     },
     "execution_count": 16,
     "metadata": {},
     "output_type": "execute_result"
    }
   ],
   "source": [
    "from datetime import datetime\n",
    "datetime.utcnow().hour"
   ]
  },
  {
   "cell_type": "code",
   "execution_count": null,
   "metadata": {},
   "outputs": [],
   "source": []
  },
  {
   "cell_type": "code",
   "execution_count": null,
   "metadata": {},
   "outputs": [],
   "source": []
  }
 ],
 "metadata": {
  "kernelspec": {
   "display_name": "Python 3",
   "language": "python",
   "name": "python3"
  },
  "language_info": {
   "codemirror_mode": {
    "name": "ipython",
    "version": 3
   },
   "file_extension": ".py",
   "mimetype": "text/x-python",
   "name": "python",
   "nbconvert_exporter": "python",
   "pygments_lexer": "ipython3",
   "version": "3.6.8"
  }
 },
 "nbformat": 4,
 "nbformat_minor": 2
}
