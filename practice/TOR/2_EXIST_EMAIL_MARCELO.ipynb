{
 "cells": [
  {
   "cell_type": "code",
   "execution_count": 1,
   "id": "accessory-insertion",
   "metadata": {},
   "outputs": [
    {
     "name": "stderr",
     "output_type": "stream",
     "text": [
      "<ipython-input-1-d7aa4e034076>:36: FutureWarning: Passing a negative integer is deprecated in version 1.0 and will not be supported in future version. Instead, use None to not limit the column width.\n",
      "  pd.set_option('display.max_colwidth', -1)\n"
     ]
    }
   ],
   "source": [
    "#nativos\n",
    "import re\n",
    "import re as regex\n",
    "import os\n",
    "import gc\n",
    "import json\n",
    "import time\n",
    "import socks\n",
    "import socket\n",
    "import requests\n",
    "import subprocess\n",
    "import unicodedata\n",
    "import random as rn\n",
    "from datetime import datetime, timedelta\n",
    "from dateutil.relativedelta import relativedelta\n",
    "\n",
    "#terceros\n",
    "import pandas as pd\n",
    "import numpy as np\n",
    "import pymssql\n",
    "#import missingno as msnolistadconoce\n",
    "from collections import Counter\n",
    "from slugify import slugify\n",
    "\n",
    "#grafico\n",
    "import matplotlib.pyplot as plt\n",
    "import seaborn as sns\n",
    "from IPython.display import display\n",
    "%matplotlib inline\n",
    "sns.set(style=\"whitegrid\")\n",
    "\n",
    "\n",
    "pd.set_option('display.max_rows', 500)\n",
    "pd.set_option('display.max_columns', 500)\n",
    "pd.set_option('display.width', 1000)\n",
    "pd.set_option('display.max_colwidth', -1)\n",
    "\n",
    "from utils_cn import *"
   ]
  },
  {
   "cell_type": "code",
   "execution_count": 2,
   "id": "ambient-winner",
   "metadata": {},
   "outputs": [
    {
     "name": "stdout",
     "output_type": "stream",
     "text": [
      "OPEN\n"
     ]
    }
   ],
   "source": [
    "print(\"OPEN\")\n",
    "sproc = subprocess.Popen(\"C:\\\\Users\\\\Villacorta\\\\Desktop\\\\Tor Browser\\\\Browser\\\\firefox.exe\")\n",
    "time.sleep(3)"
   ]
  },
  {
   "cell_type": "code",
   "execution_count": 3,
   "id": "secondary-radar",
   "metadata": {},
   "outputs": [
    {
     "data": {
      "text/plain": [
       "29981"
      ]
     },
     "execution_count": 3,
     "metadata": {},
     "output_type": "execute_result"
    }
   ],
   "source": [
    "with open('validacion_emails.json', 'r') as name_file:\n",
    "    emails_ = json.load(name_file)\n",
    "len(emails_)"
   ]
  },
  {
   "cell_type": "code",
   "execution_count": 4,
   "id": "russian-giant",
   "metadata": {},
   "outputs": [
    {
     "data": {
      "text/plain": [
       "29981"
      ]
     },
     "execution_count": 4,
     "metadata": {},
     "output_type": "execute_result"
    }
   ],
   "source": [
    "emails_ = {k:v for k, v in emails_.items() if 'Message' not in v}\n",
    "len(emails_)"
   ]
  },
  {
   "cell_type": "code",
   "execution_count": null,
   "id": "dirty-riverside",
   "metadata": {},
   "outputs": [],
   "source": []
  },
  {
   "cell_type": "code",
   "execution_count": 5,
   "id": "informative-guyana",
   "metadata": {},
   "outputs": [],
   "source": [
    "agents_tor = [\n",
    "    'Mozilla/5.0 (Windows NT 10.0; rv:78.0) Gecko/20100101 Firefox/78.0',\n",
    "    \"Mozilla/5.0 (Windows NT 10.0; Win64; x64) AppleWebKit/537.36 (KHTML, like Gecko) Chrome/88.0.4324.182 Safari/537.36\",\n",
    "    \"Mozilla/5.0 (Windows NT 10.0; Win64; x64) AppleWebKit/537.36 (KHTML, like Gecko) Chrome/84.0.4147.105 Safari/537.36\"\n",
    "    \"Mozilla/5.0 (Windows NT 10.0; Win64; x64; rv:85.0) Gecko/20100101 Firefox/85.0\",\n",
    "    \"Mozilla/5.0 (Windows NT 10.0; Win64; x64) AppleWebKit/537.36 (KHTML, like Gecko) Chrome/88.0.4324.182 Safari/537.36 Edg/88.0.705.74\",\n",
    "    \"Mozilla/5.0 CK={} (Windows NT 6.1; WOW64; Trident/7.0; rv:11.0) like Gecko\",\n",
    "    \"Mozilla/5.0 (Windows NT 10.0; Win64; x64) AppleWebKit/537.36 (KHTML, like Gecko) Chrome/74.0.3729.169 Safari/537.36\",\n",
    "    \"Mozilla/5.0 (Windows NT 10.0; WOW64) AppleWebKit/537.36 (KHTML, like Gecko) Chrome/72.0.3626.121 Safari/537.36\",\n",
    "    \"Mozilla/5.0 (Windows NT 10.0; WOW64; Trident/7.0; rv:11.0) like Gecko\"\n",
    "]\n",
    "\n",
    "#     'content-type': \"application/x-www-form-urlencoded\",\n",
    "headers_tor = {\n",
    "    'User-Agent': rn.choice(agents_tor),\n",
    "}\n",
    "\n",
    "letras = \"abcdefghijklmnopqrstuvwyz\"\n",
    "\n",
    "def validacion_completa(email):\n",
    "    try:\n",
    "        valid_save = emails_.get(email, {})\n",
    "        if len(valid_save) > 1 and 'Message' not in valid_save:\n",
    "            return valid_save\n",
    "\n",
    "        time.sleep(rn.choice([1, 2]))\n",
    "        user_aletorio = ''.join([rn.choice(letras) for _ in range(8)])\n",
    "        pass_aleatorio = ''.join([rn.choice(letras) for _ in range(8)])\n",
    "\n",
    "        socks.set_default_proxy(socks.SOCKS5, \"127.0.0.1\", 9150, True, user_aletorio, pass_aleatorio)\n",
    "        socket.socket = socks.socksocket\n",
    "        \n",
    "        ss = requests.Session()\n",
    "        try:\n",
    "            ipp = regex.sub(r'\\s', '', ss.get('http://icanhazip.com/', verify=False).text)\n",
    "        except Excetion as e:\n",
    "            print(\"Error: \", str(e), end=' ')\n",
    "            ipp = regex.sub(r'\\s', '', ss.get('http://ifconfig.me/ip', verify=False).text)\n",
    "                \n",
    "        headers_tor.update(\n",
    "            {\n",
    "                'User-Agent': rn.choice(agents_tor),\n",
    "                'X-Forwarded-For': ipp\n",
    "            }\n",
    "        )\n",
    "\n",
    "        url_ = 'https://api.trumail.io/v2/lookups/json?email={}'.format(email)\n",
    "        response = ss.get(\n",
    "            url_, headers=headers_tor, verify=True\n",
    "        )\n",
    "\n",
    "        if response.status_code != 200:\n",
    "            print(\"///\", response.status_code, end=' ')\n",
    "            time.sleep(15)\n",
    "            return {}\n",
    "        \n",
    "        # caprtua de rspuesta válida\n",
    "        dicc_response = response.json()\n",
    "\n",
    "        if 'Message' in dicc_response:\n",
    "            message = dicc_response.get('Message', '-')\n",
    "\n",
    "            if 'limit' in message.lower() or 'maximum' in message.lower():\n",
    "                message = '### ' + message\n",
    "                time.sleep(15)\n",
    "                return {}\n",
    "\n",
    "            print(message, end=' ')\n",
    "        \n",
    "        #emails_[email] = dicc_response\n",
    "        #with open('validacion_emails.json', 'w') as outfile_names:\n",
    "        #    json.dump(emails_, outfile_names)\n",
    "        \n",
    "        return dicc_response\n",
    "    except Exception as e:\n",
    "        error = '()()() ' + str(e)\n",
    "        print(\"Error: \", error, end=' ')\n",
    "        time.sleep(15)\n",
    "            \n",
    "        return {}"
   ]
  },
  {
   "cell_type": "code",
   "execution_count": 6,
   "id": "surprised-premiere",
   "metadata": {},
   "outputs": [
    {
     "data": {
      "text/plain": [
       "{'address': 'vvillacortaunmsm@gmail.com',\n",
       " 'username': 'vvillacortaunmsm',\n",
       " 'domain': 'gmail.com',\n",
       " 'md5Hash': '00331d4647a7811aa4534c1600a911fc',\n",
       " 'suggestion': '',\n",
       " 'validFormat': True,\n",
       " 'deliverable': True,\n",
       " 'fullInbox': False,\n",
       " 'hostExists': True,\n",
       " 'catchAll': False,\n",
       " 'gravatar': False,\n",
       " 'role': False,\n",
       " 'disposable': False,\n",
       " 'free': True}"
      ]
     },
     "execution_count": 6,
     "metadata": {},
     "output_type": "execute_result"
    }
   ],
   "source": [
    "validacion_completa(\"v.villacorta.unmsm@gmail.com\")"
   ]
  },
  {
   "cell_type": "code",
   "execution_count": 7,
   "id": "crude-optimization",
   "metadata": {},
   "outputs": [
    {
     "data": {
      "text/plain": [
       "{'address': 'vvillacorta@intercorp.com.pe',\n",
       " 'username': 'vvillacorta',\n",
       " 'domain': 'intercorp.com.pe',\n",
       " 'md5Hash': 'd42a2da36552b4e60b9eefbfe3595827',\n",
       " 'suggestion': '',\n",
       " 'validFormat': True,\n",
       " 'deliverable': True,\n",
       " 'fullInbox': False,\n",
       " 'hostExists': True,\n",
       " 'catchAll': False,\n",
       " 'gravatar': False,\n",
       " 'role': False,\n",
       " 'disposable': False,\n",
       " 'free': False}"
      ]
     },
     "execution_count": 7,
     "metadata": {},
     "output_type": "execute_result"
    }
   ],
   "source": [
    "validacion_completa(\"vvillacorta@intercorp.com.pe\")"
   ]
  },
  {
   "cell_type": "code",
   "execution_count": 8,
   "id": "demanding-nation",
   "metadata": {},
   "outputs": [
    {
     "data": {
      "text/plain": [
       "{'address': 'leonelatp@gmail.com',\n",
       " 'username': 'leonelatp',\n",
       " 'domain': 'gmail.com',\n",
       " 'md5Hash': '51cc720afdcc7260877c04982331eb9d',\n",
       " 'suggestion': '',\n",
       " 'validFormat': True,\n",
       " 'deliverable': True,\n",
       " 'fullInbox': False,\n",
       " 'hostExists': True,\n",
       " 'catchAll': False,\n",
       " 'gravatar': False,\n",
       " 'role': False,\n",
       " 'disposable': False,\n",
       " 'free': True}"
      ]
     },
     "execution_count": 8,
     "metadata": {},
     "output_type": "execute_result"
    }
   ],
   "source": [
    "validacion_completa(\"leonela.tp@gmail.com\")"
   ]
  },
  {
   "cell_type": "code",
   "execution_count": 9,
   "id": "satisfactory-classification",
   "metadata": {},
   "outputs": [
    {
     "data": {
      "text/plain": [
       "{'address': 'leonelatpppppppp@gmail.com',\n",
       " 'username': 'leonelatpppppppp',\n",
       " 'domain': 'gmail.com',\n",
       " 'md5Hash': 'f9042044eb255725a658dcc299719062',\n",
       " 'suggestion': '',\n",
       " 'validFormat': True,\n",
       " 'deliverable': False,\n",
       " 'fullInbox': False,\n",
       " 'hostExists': True,\n",
       " 'catchAll': False,\n",
       " 'gravatar': False,\n",
       " 'role': False,\n",
       " 'disposable': False,\n",
       " 'free': True}"
      ]
     },
     "execution_count": 9,
     "metadata": {},
     "output_type": "execute_result"
    }
   ],
   "source": [
    "validacion_completa(\"leonela.tpppppppp@gmail.com\")"
   ]
  },
  {
   "cell_type": "code",
   "execution_count": 10,
   "id": "purple-daughter",
   "metadata": {},
   "outputs": [
    {
     "name": "stdout",
     "output_type": "stream",
     "text": [
      "(603235, 34)\n"
     ]
    },
    {
     "data": {
      "text/html": [
       "<div>\n",
       "<style scoped>\n",
       "    .dataframe tbody tr th:only-of-type {\n",
       "        vertical-align: middle;\n",
       "    }\n",
       "\n",
       "    .dataframe tbody tr th {\n",
       "        vertical-align: top;\n",
       "    }\n",
       "\n",
       "    .dataframe thead th {\n",
       "        text-align: right;\n",
       "    }\n",
       "</style>\n",
       "<table border=\"1\" class=\"dataframe\">\n",
       "  <thead>\n",
       "    <tr style=\"text-align: right;\">\n",
       "      <th></th>\n",
       "      <th>FUENTE</th>\n",
       "      <th>FECHA_FUENTE</th>\n",
       "      <th>CODUNICOCLI</th>\n",
       "      <th>TIP_DOC</th>\n",
       "      <th>COD_DOC</th>\n",
       "      <th>NUM_DOC</th>\n",
       "      <th>NUM_RUC</th>\n",
       "      <th>TIP_DOC_CONTACTO</th>\n",
       "      <th>COD_DOC_CONTACTO</th>\n",
       "      <th>NUM_DOC_CONTACTO</th>\n",
       "      <th>NUM_RUC_CONTACTO</th>\n",
       "      <th>NOMBRE_COMPLETO</th>\n",
       "      <th>EMAIL_ORIGEN</th>\n",
       "      <th>CORRECION_FORMATO</th>\n",
       "      <th>EMAIL</th>\n",
       "      <th>SYNTAX_VALID</th>\n",
       "      <th>FEEDBACK</th>\n",
       "      <th>FECHA_FEEDBACK</th>\n",
       "      <th>PRIORIDAD_TOTAL</th>\n",
       "      <th>PRIORIDAD_CONTACTO</th>\n",
       "      <th>FECHA_CARGA</th>\n",
       "      <th>VALID_FORMAT</th>\n",
       "      <th>EXISTS_EMAIL</th>\n",
       "      <th>FULL_INBOX</th>\n",
       "      <th>HOST_EXISTS</th>\n",
       "      <th>CATCH_ALL</th>\n",
       "      <th>GRAVATAR</th>\n",
       "      <th>ROLE</th>\n",
       "      <th>DISPOSABLE</th>\n",
       "      <th>FREE</th>\n",
       "      <th>NUM_DOC_RECORTADO</th>\n",
       "      <th>DOCUMENTO</th>\n",
       "      <th>DESEMAIL</th>\n",
       "      <th>review</th>\n",
       "    </tr>\n",
       "  </thead>\n",
       "  <tbody>\n",
       "    <tr>\n",
       "      <th>35295</th>\n",
       "      <td>36</td>\n",
       "      <td>2002-08-23</td>\n",
       "      <td>0002718096</td>\n",
       "      <td>2</td>\n",
       "      <td>20256136865</td>\n",
       "      <td>.</td>\n",
       "      <td>20256136865</td>\n",
       "      <td>9</td>\n",
       "      <td>.</td>\n",
       "      <td>.</td>\n",
       "      <td>.</td>\n",
       "      <td>PELTROCHE MARGARITA</td>\n",
       "      <td>carmen.sarmiento@perumagic.pe</td>\n",
       "      <td>0</td>\n",
       "      <td>carmen.sarmiento@perumagic.pe</td>\n",
       "      <td>1</td>\n",
       "      <td>NaN</td>\n",
       "      <td>NaN</td>\n",
       "      <td>38</td>\n",
       "      <td>2</td>\n",
       "      <td>2021-03-17 11:36:59</td>\n",
       "      <td>1</td>\n",
       "      <td>1</td>\n",
       "      <td>0</td>\n",
       "      <td>1</td>\n",
       "      <td>0</td>\n",
       "      <td>0</td>\n",
       "      <td>0</td>\n",
       "      <td>0</td>\n",
       "      <td>0</td>\n",
       "      <td>2025613686</td>\n",
       "      <td>20256136865</td>\n",
       "      <td>CARMEN.SARMIENTO@PERUMAGIC.PE</td>\n",
       "      <td>0</td>\n",
       "    </tr>\n",
       "    <tr>\n",
       "      <th>26665</th>\n",
       "      <td>36</td>\n",
       "      <td>2010-10-15</td>\n",
       "      <td>0012701952</td>\n",
       "      <td>2</td>\n",
       "      <td>20538004830</td>\n",
       "      <td>.</td>\n",
       "      <td>20538004830</td>\n",
       "      <td>9</td>\n",
       "      <td>.</td>\n",
       "      <td>.</td>\n",
       "      <td>.</td>\n",
       "      <td>NaN</td>\n",
       "      <td>contabilidad@seres.es</td>\n",
       "      <td>0</td>\n",
       "      <td>contabilidad@seres.es</td>\n",
       "      <td>1</td>\n",
       "      <td>NaN</td>\n",
       "      <td>NaN</td>\n",
       "      <td>35</td>\n",
       "      <td>1</td>\n",
       "      <td>2021-03-17 11:36:59</td>\n",
       "      <td>1</td>\n",
       "      <td>1</td>\n",
       "      <td>0</td>\n",
       "      <td>1</td>\n",
       "      <td>0</td>\n",
       "      <td>0</td>\n",
       "      <td>0</td>\n",
       "      <td>0</td>\n",
       "      <td>0</td>\n",
       "      <td>2053800483</td>\n",
       "      <td>20538004830</td>\n",
       "      <td>CONTABILIDAD@SERES.ES</td>\n",
       "      <td>0</td>\n",
       "    </tr>\n",
       "    <tr>\n",
       "      <th>35135</th>\n",
       "      <td>44</td>\n",
       "      <td>2011-07-19</td>\n",
       "      <td>0010992140</td>\n",
       "      <td>2</td>\n",
       "      <td>20174851728</td>\n",
       "      <td>.</td>\n",
       "      <td>20174851728</td>\n",
       "      <td>9</td>\n",
       "      <td>.</td>\n",
       "      <td>.</td>\n",
       "      <td>.</td>\n",
       "      <td>NaN</td>\n",
       "      <td>jorgeg@multivalores.com.pe</td>\n",
       "      <td>0</td>\n",
       "      <td>jorgeg@multivalores.com.pe</td>\n",
       "      <td>1</td>\n",
       "      <td>NaN</td>\n",
       "      <td>NaN</td>\n",
       "      <td>12</td>\n",
       "      <td>1</td>\n",
       "      <td>2021-03-17 11:36:59</td>\n",
       "      <td>1</td>\n",
       "      <td>1</td>\n",
       "      <td>0</td>\n",
       "      <td>1</td>\n",
       "      <td>0</td>\n",
       "      <td>0</td>\n",
       "      <td>0</td>\n",
       "      <td>0</td>\n",
       "      <td>0</td>\n",
       "      <td>2017485172</td>\n",
       "      <td>20174851728</td>\n",
       "      <td>JORGEG@MULTIVALORES.COM.PE</td>\n",
       "      <td>0</td>\n",
       "    </tr>\n",
       "    <tr>\n",
       "      <th>92263</th>\n",
       "      <td>44</td>\n",
       "      <td>2011-07-20</td>\n",
       "      <td>0010052102</td>\n",
       "      <td>2</td>\n",
       "      <td>20507965581</td>\n",
       "      <td>.</td>\n",
       "      <td>20507965581</td>\n",
       "      <td>9</td>\n",
       "      <td>.</td>\n",
       "      <td>.</td>\n",
       "      <td>.</td>\n",
       "      <td>URSUA GARCIA VANESA</td>\n",
       "      <td>comercial@cottonmix.com</td>\n",
       "      <td>0</td>\n",
       "      <td>comercial@cottonmix.com</td>\n",
       "      <td>1</td>\n",
       "      <td>NaN</td>\n",
       "      <td>NaN</td>\n",
       "      <td>5</td>\n",
       "      <td>1</td>\n",
       "      <td>2021-03-17 11:36:59</td>\n",
       "      <td>1</td>\n",
       "      <td>0</td>\n",
       "      <td>0</td>\n",
       "      <td>0</td>\n",
       "      <td>0</td>\n",
       "      <td>0</td>\n",
       "      <td>0</td>\n",
       "      <td>0</td>\n",
       "      <td>0</td>\n",
       "      <td>2050796558</td>\n",
       "      <td>20507965581</td>\n",
       "      <td>COMERCIAL@COTTONMIX.COM</td>\n",
       "      <td>0</td>\n",
       "    </tr>\n",
       "    <tr>\n",
       "      <th>92261</th>\n",
       "      <td>44</td>\n",
       "      <td>2011-07-20</td>\n",
       "      <td>0010052102</td>\n",
       "      <td>2</td>\n",
       "      <td>20507965581</td>\n",
       "      <td>.</td>\n",
       "      <td>20507965581</td>\n",
       "      <td>9</td>\n",
       "      <td>.</td>\n",
       "      <td>.</td>\n",
       "      <td>.</td>\n",
       "      <td>NaN</td>\n",
       "      <td>gerencia@cottonmix.com</td>\n",
       "      <td>0</td>\n",
       "      <td>gerencia@cottonmix.com</td>\n",
       "      <td>1</td>\n",
       "      <td>NaN</td>\n",
       "      <td>NaN</td>\n",
       "      <td>6</td>\n",
       "      <td>3</td>\n",
       "      <td>2021-03-17 11:36:59</td>\n",
       "      <td>1</td>\n",
       "      <td>0</td>\n",
       "      <td>0</td>\n",
       "      <td>0</td>\n",
       "      <td>0</td>\n",
       "      <td>0</td>\n",
       "      <td>0</td>\n",
       "      <td>0</td>\n",
       "      <td>0</td>\n",
       "      <td>2050796558</td>\n",
       "      <td>20507965581</td>\n",
       "      <td>GERENCIA@COTTONMIX.COM</td>\n",
       "      <td>0</td>\n",
       "    </tr>\n",
       "  </tbody>\n",
       "</table>\n",
       "</div>"
      ],
      "text/plain": [
       "       FUENTE FECHA_FUENTE CODUNICOCLI  TIP_DOC      COD_DOC NUM_DOC      NUM_RUC TIP_DOC_CONTACTO COD_DOC_CONTACTO NUM_DOC_CONTACTO NUM_RUC_CONTACTO      NOMBRE_COMPLETO                   EMAIL_ORIGEN  CORRECION_FORMATO                          EMAIL  SYNTAX_VALID  FEEDBACK  FECHA_FEEDBACK  PRIORIDAD_TOTAL  PRIORIDAD_CONTACTO          FECHA_CARGA  VALID_FORMAT  EXISTS_EMAIL  FULL_INBOX  HOST_EXISTS  CATCH_ALL  GRAVATAR  ROLE  DISPOSABLE  FREE  NUM_DOC_RECORTADO    DOCUMENTO                       DESEMAIL  review\n",
       "35295  36      2002-08-23   0002718096  2        20256136865  .       20256136865  9                .                .                .                PELTROCHE MARGARITA  carmen.sarmiento@perumagic.pe  0                  carmen.sarmiento@perumagic.pe  1            NaN       NaN              38               2                   2021-03-17 11:36:59  1             1             0           1            0          0         0     0           0     2025613686         20256136865  CARMEN.SARMIENTO@PERUMAGIC.PE  0     \n",
       "26665  36      2010-10-15   0012701952  2        20538004830  .       20538004830  9                .                .                .                NaN                  contabilidad@seres.es          0                  contabilidad@seres.es          1            NaN       NaN              35               1                   2021-03-17 11:36:59  1             1             0           1            0          0         0     0           0     2053800483         20538004830  CONTABILIDAD@SERES.ES          0     \n",
       "35135  44      2011-07-19   0010992140  2        20174851728  .       20174851728  9                .                .                .                NaN                  jorgeg@multivalores.com.pe     0                  jorgeg@multivalores.com.pe     1            NaN       NaN              12               1                   2021-03-17 11:36:59  1             1             0           1            0          0         0     0           0     2017485172         20174851728  JORGEG@MULTIVALORES.COM.PE     0     \n",
       "92263  44      2011-07-20   0010052102  2        20507965581  .       20507965581  9                .                .                .                URSUA GARCIA VANESA  comercial@cottonmix.com        0                  comercial@cottonmix.com        1            NaN       NaN              5                1                   2021-03-17 11:36:59  1             0             0           0            0          0         0     0           0     2050796558         20507965581  COMERCIAL@COTTONMIX.COM        0     \n",
       "92261  44      2011-07-20   0010052102  2        20507965581  .       20507965581  9                .                .                .                NaN                  gerencia@cottonmix.com         0                  gerencia@cottonmix.com         1            NaN       NaN              6                3                   2021-03-17 11:36:59  1             0             0           0            0          0         0     0           0     2050796558         20507965581  GERENCIA@COTTONMIX.COM         0     "
      ]
     },
     "execution_count": 10,
     "metadata": {},
     "output_type": "execute_result"
    }
   ],
   "source": [
    "data = pd.read_csv('MD_CNTC_EMAILS.csv', low_memory=False).drop_duplicates(\n",
    "    subset=['EMAIL']\n",
    ").sort_values(\n",
    "    by=['FECHA_FUENTE'], ascending=True\n",
    ")\n",
    "print(data.shape)\n",
    "data.head()"
   ]
  },
  {
   "cell_type": "code",
   "execution_count": 11,
   "id": "portable-tribute",
   "metadata": {},
   "outputs": [
    {
     "data": {
      "text/plain": [
       "11    348960\n",
       "1     254275\n",
       "Name: LEN_NUM_RUC, dtype: int64"
      ]
     },
     "metadata": {},
     "output_type": "display_data"
    },
    {
     "data": {
      "text/plain": [
       "1     499789\n",
       "11    103446\n",
       "Name: LEN_NUM_RUC_CONTACTO, dtype: int64"
      ]
     },
     "metadata": {},
     "output_type": "display_data"
    }
   ],
   "source": [
    "data['LEN_NUM_RUC'] = data['NUM_RUC'].apply(len) \n",
    "display(data['LEN_NUM_RUC'].value_counts())\n",
    "\n",
    "data['LEN_NUM_RUC_CONTACTO'] = data['NUM_RUC_CONTACTO'].apply(len) \n",
    "display(data['LEN_NUM_RUC_CONTACTO'].value_counts())"
   ]
  },
  {
   "cell_type": "code",
   "execution_count": 12,
   "id": "polar-haiti",
   "metadata": {},
   "outputs": [
    {
     "name": "stdout",
     "output_type": "stream",
     "text": [
      "(603235, 36)\n",
      "(349490, 36)\n"
     ]
    }
   ],
   "source": [
    "print(data.shape)\n",
    "data = data[\n",
    "    (data['LEN_NUM_RUC'] == 11 ) | (data['LEN_NUM_RUC_CONTACTO'] == 11)\n",
    "]\n",
    "print(data.shape)"
   ]
  },
  {
   "cell_type": "code",
   "execution_count": 13,
   "id": "mexican-bidder",
   "metadata": {},
   "outputs": [
    {
     "data": {
      "text/plain": [
       "331637"
      ]
     },
     "execution_count": 13,
     "metadata": {},
     "output_type": "execute_result"
    }
   ],
   "source": [
    "emails = [email for email in list(data['EMAIL']) if email not in emails_]\n",
    "len(emails)"
   ]
  },
  {
   "cell_type": "code",
   "execution_count": 17,
   "id": "vocational-southeast",
   "metadata": {},
   "outputs": [
    {
     "data": {
      "text/plain": [
       "15000"
      ]
     },
     "execution_count": 17,
     "metadata": {},
     "output_type": "execute_result"
    }
   ],
   "source": [
    "emails = emails[-15000:]\n",
    "len(emails)"
   ]
  },
  {
   "cell_type": "markdown",
   "id": "vocal-connection",
   "metadata": {},
   "source": [
    "### Paralelismo"
   ]
  },
  {
   "cell_type": "code",
   "execution_count": 18,
   "id": "exempt-daisy",
   "metadata": {},
   "outputs": [],
   "source": [
    "from multiprocessing.dummy import Pool as ThreadPool\n",
    "import urllib3"
   ]
  },
  {
   "cell_type": "code",
   "execution_count": 19,
   "id": "spread-scholarship",
   "metadata": {},
   "outputs": [
    {
     "data": {
      "text/plain": [
       "29981"
      ]
     },
     "execution_count": 19,
     "metadata": {},
     "output_type": "execute_result"
    }
   ],
   "source": [
    "len(emails_)"
   ]
  },
  {
   "cell_type": "code",
   "execution_count": null,
   "id": "stock-extraction",
   "metadata": {},
   "outputs": [],
   "source": [
    "%%time\n",
    "ventana = 100\n",
    "for posicion in range(ventana, len(emails),ventana):\n",
    "    \n",
    "    ### BLOQUE PARALELO\n",
    "    pool = ThreadPool(4) \n",
    "    for respon in pool.map(validacion_completa, emails[posicion-ventana:posicion]):\n",
    "        if 'address' in respon:\n",
    "            ee = respon['address']\n",
    "            print(ee, end= '')\n",
    "            emails_[respon['address']] = respon\n",
    "\n",
    "    pool.close() \n",
    "    pool.join()\n",
    "    \n",
    "    ### SAVE\n",
    "    with open('validacion_emails.json', 'w') as outfile_names:\n",
    "        json.dump(emails_, outfile_names)   \n",
    "        \n",
    "        \n",
    "    print(\"\")\n",
    "    print(\"/\"*100)"
   ]
  },
  {
   "cell_type": "code",
   "execution_count": null,
   "id": "accompanied-uniform",
   "metadata": {},
   "outputs": [],
   "source": [
    "#len(emails_)"
   ]
  },
  {
   "cell_type": "code",
   "execution_count": null,
   "id": "understood-factory",
   "metadata": {},
   "outputs": [],
   "source": [
    "#    with open('validacion_emails.json', 'w') as outfile_names:\n",
    "#        json.dump(emails_, outfile_names) "
   ]
  },
  {
   "cell_type": "code",
   "execution_count": null,
   "id": "spare-plant",
   "metadata": {},
   "outputs": [],
   "source": [
    "#data['VALIDACION_COMPLETA'] = data['EMAIL'].apply(validacion_completa)"
   ]
  },
  {
   "cell_type": "code",
   "execution_count": null,
   "id": "physical-boost",
   "metadata": {},
   "outputs": [],
   "source": []
  },
  {
   "cell_type": "code",
   "execution_count": null,
   "id": "stock-daily",
   "metadata": {},
   "outputs": [],
   "source": []
  }
 ],
 "metadata": {
  "kernelspec": {
   "display_name": "Python 3 (ipykernel)",
   "language": "python",
   "name": "python3"
  },
  "language_info": {
   "codemirror_mode": {
    "name": "ipython",
    "version": 3
   },
   "file_extension": ".py",
   "mimetype": "text/x-python",
   "name": "python",
   "nbconvert_exporter": "python",
   "pygments_lexer": "ipython3",
   "version": "3.9.7"
  }
 },
 "nbformat": 4,
 "nbformat_minor": 5
}
