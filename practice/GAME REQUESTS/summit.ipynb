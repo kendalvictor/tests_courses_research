{
 "cells": [
  {
   "cell_type": "code",
   "execution_count": null,
   "metadata": {},
   "outputs": [],
   "source": [
    "import requests\n",
    "from stem import Signal\n",
    "from stem.control import Controller\n",
    "\n",
    "url = \"https://survey.dmc.pe/suscripcion/controller/controller_suscripcion_dmc.php\"\n",
    "\n",
    "payload = \"------WebKitFormBoundary7MA4YWxkTrZu0gW\\r\\nContent-Disposition: form-data; name=\\\"medio\\\"\\r\\n\\r\\n1\\r\\n------WebKitFormBoundary7MA4YWxkTrZu0gW\\r\\nContent-Disposition: form-data; name=\\\"cursos[]\\\"\\r\\n\\r\\n362\\r\\n------WebKitFormBoundary7MA4YWxkTrZu0gW\\r\\nContent-Disposition: form-data; name=\\\"check_mail\\\"\\r\\n\\r\\n1\\r\\n------WebKitFormBoundary7MA4YWxkTrZu0gW\\r\\nContent-Disposition: form-data; name=\\\"nombres\\\"\\r\\n\\r\\nVILLACORTA PLASENCIA VICTOR\\r\\n------WebKitFormBoundary7MA4YWxkTrZu0gW\\r\\nContent-Disposition: form-data; name=\\\"num_documento\\\"\\r\\n\\r\\n45139145\\r\\n------WebKitFormBoundary7MA4YWxkTrZu0gW\\r\\nContent-Disposition: form-data; name=\\\"correo\\\"\\r\\n\\r\\nv.villacorta.unmsm@gmail.com\\r\\n------WebKitFormBoundary7MA4YWxkTrZu0gW\\r\\nContent-Disposition: form-data; name=\\\"celular\\\"\\r\\n\\r\\n982530172\\r\\n------WebKitFormBoundary7MA4YWxkTrZu0gW\\r\\nContent-Disposition: form-data; name=\\\"centro_trabajo\\\"\\r\\n\\r\\nUNMSM\\r\\n------WebKitFormBoundary7MA4YWxkTrZu0gW\\r\\nContent-Disposition: form-data; name=\\\"cargo\\\"\\r\\n\\r\\nCOMPUTACION CIENTIFICA\\r\\n------WebKitFormBoundary7MA4YWxkTrZu0gW\\r\\nContent-Disposition: form-data; name=\\\"datos\\\"\\r\\n\\r\\n1\\r\\n------WebKitFormBoundary7MA4YWxkTrZu0gW--\"\n",
    "headers = {\n",
    "    'user-agent': \"Mozilla/5.0 (Linux; Android 6.0; Nexus 5 Build/MRA58N) AppleWebKit/537.36 (KHTML, like Gecko) Chrome/70.0.3538.110 Mobile Safari/537.36\",\n",
    "    'content-type': \"multipart/form-data; boundary=----WebKitFormBoundary7MA4YWxkTrZu0gW\",\n",
    "    'upgrade-insecure-requests': \"1\",\n",
    "    'origin': \"https://survey.dmc.pe\",\n",
    "    'cache-control': \"no-cache\",\n",
    "    }\n",
    "\n",
    "def get_tor_session():\n",
    "    session = requests.session()\n",
    "    session.proxies = {'http':  'socks5://127.0.0.1:9050',\n",
    "                       'https': 'socks5://127.0.0.1:9050'}\n",
    "    return session\n",
    "\n",
    "def renew_connection():\n",
    "    with Controller.from_port(port = 9051) as controller:\n",
    "        controller.authenticate(password='asdfghjkl')\n",
    "        controller.signal(Signal.NEWNYM)\n",
    "\n",
    "while True:\n",
    "    try:\n",
    "        renew_connection()\n",
    "        session = get_tor_session()\n",
    "        response = session.request(\n",
    "            \"POST\", \n",
    "            url, \n",
    "            data=payload, \n",
    "            headers=headers\n",
    "        )\n",
    "        print(response.status_code, end=' ')\n",
    "    except Exception as e:\n",
    "        print(\"Error >> \", str(e))"
   ]
  },
  {
   "cell_type": "code",
   "execution_count": null,
   "metadata": {},
   "outputs": [],
   "source": []
  }
 ],
 "metadata": {
  "kernelspec": {
   "display_name": "Python 3",
   "language": "python",
   "name": "python3"
  },
  "language_info": {
   "codemirror_mode": {
    "name": "ipython",
    "version": 3
   },
   "file_extension": ".py",
   "mimetype": "text/x-python",
   "name": "python",
   "nbconvert_exporter": "python",
   "pygments_lexer": "ipython3",
   "version": "3.6.5"
  }
 },
 "nbformat": 4,
 "nbformat_minor": 2
}
