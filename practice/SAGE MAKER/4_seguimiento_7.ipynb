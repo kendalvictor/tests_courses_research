{
 "cells": [
  {
   "cell_type": "code",
   "execution_count": 1,
   "id": "4d419bee",
   "metadata": {},
   "outputs": [
    {
     "name": "stderr",
     "output_type": "stream",
     "text": [
      "WARNING: pip is being invoked by an old script wrapper. This will fail in a future version of pip.\n",
      "Please see https://github.com/pypa/pip/issues/5599 for advice on fixing the underlying issue.\n",
      "To avoid this problem you can invoke Python with '-m pip' instead of running pip directly.\n"
     ]
    },
    {
     "name": "stdout",
     "output_type": "stream",
     "text": [
      "Collecting lightgbm\n",
      "  Downloading lightgbm-3.2.1-py3-none-manylinux1_x86_64.whl (2.0 MB)\n",
      "Requirement already satisfied: awswrangler in /home/ec2-user/anaconda3/envs/python3/lib/python3.6/site-packages (2.11.0)\n",
      "Requirement already satisfied: sagemaker in /home/ec2-user/anaconda3/envs/python3/lib/python3.6/site-packages (2.59.3)\n",
      "Collecting sagemaker\n",
      "  Downloading sagemaker-2.59.4.tar.gz (442 kB)\n",
      "Requirement already satisfied: scipy in /home/ec2-user/anaconda3/envs/python3/lib/python3.6/site-packages (from lightgbm) (1.5.3)\n",
      "Requirement already satisfied: wheel in /home/ec2-user/anaconda3/envs/python3/lib/python3.6/site-packages (from lightgbm) (0.36.2)\n",
      "Requirement already satisfied: numpy in /home/ec2-user/anaconda3/envs/python3/lib/python3.6/site-packages (from lightgbm) (1.19.5)\n",
      "Requirement already satisfied: scikit-learn!=0.22.0 in /home/ec2-user/anaconda3/envs/python3/lib/python3.6/site-packages (from lightgbm) (0.24.1)\n",
      "Requirement already satisfied: redshift-connector<2.1.0,>=2.0.884 in /home/ec2-user/anaconda3/envs/python3/lib/python3.6/site-packages (from awswrangler) (2.0.888)\n",
      "Requirement already satisfied: botocore<2.0.0,>=1.19.8 in /home/ec2-user/anaconda3/envs/python3/lib/python3.6/site-packages (from awswrangler) (1.21.45)\n",
      "Requirement already satisfied: pandas<1.2.0,>=1.1.0 in /home/ec2-user/anaconda3/envs/python3/lib/python3.6/site-packages (from awswrangler) (1.1.5)\n",
      "Requirement already satisfied: pg8000<1.22.0,>=1.16.0 in /home/ec2-user/anaconda3/envs/python3/lib/python3.6/site-packages (from awswrangler) (1.21.2)\n",
      "Requirement already satisfied: boto3<2.0.0,>=1.16.8 in /home/ec2-user/anaconda3/envs/python3/lib/python3.6/site-packages (from awswrangler) (1.18.45)\n",
      "Requirement already satisfied: xlwt<2.0.0,>=1.3.0 in /home/ec2-user/anaconda3/envs/python3/lib/python3.6/site-packages (from awswrangler) (1.3.0)\n",
      "Requirement already satisfied: pymysql<1.1.0,>=0.9.0 in /home/ec2-user/anaconda3/envs/python3/lib/python3.6/site-packages (from awswrangler) (1.0.2)\n",
      "Requirement already satisfied: xlrd<3.0.0,>=2.0.1 in /home/ec2-user/anaconda3/envs/python3/lib/python3.6/site-packages (from awswrangler) (2.0.1)\n",
      "Requirement already satisfied: pyarrow<5.1.0,>=2.0.0 in /home/ec2-user/anaconda3/envs/python3/lib/python3.6/site-packages (from awswrangler) (5.0.0)\n",
      "Requirement already satisfied: openpyxl<3.1.0,>=3.0.0 in /home/ec2-user/anaconda3/envs/python3/lib/python3.6/site-packages (from awswrangler) (3.0.6)\n",
      "Requirement already satisfied: attrs in /home/ec2-user/anaconda3/envs/python3/lib/python3.6/site-packages (from sagemaker) (20.3.0)\n",
      "Requirement already satisfied: google-pasta in /home/ec2-user/anaconda3/envs/python3/lib/python3.6/site-packages (from sagemaker) (0.2.0)\n",
      "Requirement already satisfied: protobuf>=3.1 in /home/ec2-user/anaconda3/envs/python3/lib/python3.6/site-packages (from sagemaker) (3.15.2)\n",
      "Requirement already satisfied: protobuf3-to-dict>=0.1.5 in /home/ec2-user/anaconda3/envs/python3/lib/python3.6/site-packages (from sagemaker) (0.1.5)\n",
      "Requirement already satisfied: smdebug_rulesconfig==1.0.1 in /home/ec2-user/anaconda3/envs/python3/lib/python3.6/site-packages (from sagemaker) (1.0.1)\n",
      "Requirement already satisfied: importlib-metadata>=1.4.0 in /home/ec2-user/anaconda3/envs/python3/lib/python3.6/site-packages (from sagemaker) (3.7.0)\n",
      "Requirement already satisfied: packaging>=20.0 in /home/ec2-user/anaconda3/envs/python3/lib/python3.6/site-packages (from sagemaker) (20.9)\n",
      "Requirement already satisfied: pathos in /home/ec2-user/anaconda3/envs/python3/lib/python3.6/site-packages (from sagemaker) (0.2.8)\n",
      "Requirement already satisfied: jmespath<1.0.0,>=0.7.1 in /home/ec2-user/anaconda3/envs/python3/lib/python3.6/site-packages (from boto3<2.0.0,>=1.16.8->awswrangler) (0.10.0)\n",
      "Requirement already satisfied: s3transfer<0.6.0,>=0.5.0 in /home/ec2-user/anaconda3/envs/python3/lib/python3.6/site-packages (from boto3<2.0.0,>=1.16.8->awswrangler) (0.5.0)\n",
      "Requirement already satisfied: python-dateutil<3.0.0,>=2.1 in /home/ec2-user/anaconda3/envs/python3/lib/python3.6/site-packages (from botocore<2.0.0,>=1.19.8->awswrangler) (2.8.1)\n",
      "Requirement already satisfied: urllib3<1.27,>=1.25.4 in /home/ec2-user/anaconda3/envs/python3/lib/python3.6/site-packages (from botocore<2.0.0,>=1.19.8->awswrangler) (1.26.6)\n",
      "Requirement already satisfied: zipp>=0.5 in /home/ec2-user/anaconda3/envs/python3/lib/python3.6/site-packages (from importlib-metadata>=1.4.0->sagemaker) (3.4.0)\n",
      "Requirement already satisfied: typing-extensions>=3.6.4 in /home/ec2-user/anaconda3/envs/python3/lib/python3.6/site-packages (from importlib-metadata>=1.4.0->sagemaker) (3.10.0.2)\n",
      "Requirement already satisfied: et-xmlfile in /home/ec2-user/anaconda3/envs/python3/lib/python3.6/site-packages (from openpyxl<3.1.0,>=3.0.0->awswrangler) (1.0.1)\n",
      "Requirement already satisfied: jdcal in /home/ec2-user/anaconda3/envs/python3/lib/python3.6/site-packages (from openpyxl<3.1.0,>=3.0.0->awswrangler) (1.4.1)\n",
      "Requirement already satisfied: pyparsing>=2.0.2 in /home/ec2-user/anaconda3/envs/python3/lib/python3.6/site-packages (from packaging>=20.0->sagemaker) (2.4.7)\n",
      "Requirement already satisfied: pytz>=2017.2 in /home/ec2-user/anaconda3/envs/python3/lib/python3.6/site-packages (from pandas<1.2.0,>=1.1.0->awswrangler) (2021.1)\n",
      "Requirement already satisfied: scramp>=1.4.1 in /home/ec2-user/anaconda3/envs/python3/lib/python3.6/site-packages (from pg8000<1.22.0,>=1.16.0->awswrangler) (1.4.1)\n",
      "Requirement already satisfied: six>=1.9 in /home/ec2-user/anaconda3/envs/python3/lib/python3.6/site-packages (from protobuf>=3.1->sagemaker) (1.15.0)\n",
      "Requirement already satisfied: requests<2.26.1,>=2.23.0 in /home/ec2-user/anaconda3/envs/python3/lib/python3.6/site-packages (from redshift-connector<2.1.0,>=2.0.884->awswrangler) (2.26.0)\n",
      "Requirement already satisfied: beautifulsoup4<5.0.0,>=4.7.0 in /home/ec2-user/anaconda3/envs/python3/lib/python3.6/site-packages (from redshift-connector<2.1.0,>=2.0.884->awswrangler) (4.9.3)\n",
      "Requirement already satisfied: lxml>=4.6.2 in /home/ec2-user/anaconda3/envs/python3/lib/python3.6/site-packages (from redshift-connector<2.1.0,>=2.0.884->awswrangler) (4.6.3)\n",
      "Requirement already satisfied: soupsieve>1.2 in /home/ec2-user/anaconda3/envs/python3/lib/python3.6/site-packages (from beautifulsoup4<5.0.0,>=4.7.0->redshift-connector<2.1.0,>=2.0.884->awswrangler) (2.0.1)\n",
      "Requirement already satisfied: idna<4,>=2.5 in /home/ec2-user/anaconda3/envs/python3/lib/python3.6/site-packages (from requests<2.26.1,>=2.23.0->redshift-connector<2.1.0,>=2.0.884->awswrangler) (3.1)\n",
      "Requirement already satisfied: charset-normalizer~=2.0.0 in /home/ec2-user/anaconda3/envs/python3/lib/python3.6/site-packages (from requests<2.26.1,>=2.23.0->redshift-connector<2.1.0,>=2.0.884->awswrangler) (2.0.6)\n",
      "Requirement already satisfied: certifi>=2017.4.17 in /home/ec2-user/anaconda3/envs/python3/lib/python3.6/site-packages (from requests<2.26.1,>=2.23.0->redshift-connector<2.1.0,>=2.0.884->awswrangler) (2021.5.30)\n",
      "Requirement already satisfied: threadpoolctl>=2.0.0 in /home/ec2-user/anaconda3/envs/python3/lib/python3.6/site-packages (from scikit-learn!=0.22.0->lightgbm) (2.1.0)\n",
      "Requirement already satisfied: joblib>=0.11 in /home/ec2-user/anaconda3/envs/python3/lib/python3.6/site-packages (from scikit-learn!=0.22.0->lightgbm) (1.0.1)\n",
      "Requirement already satisfied: asn1crypto>=1.4.0 in /home/ec2-user/anaconda3/envs/python3/lib/python3.6/site-packages (from scramp>=1.4.1->pg8000<1.22.0,>=1.16.0->awswrangler) (1.4.0)\n",
      "Requirement already satisfied: ppft>=1.6.6.4 in /home/ec2-user/anaconda3/envs/python3/lib/python3.6/site-packages (from pathos->sagemaker) (1.6.6.4)\n",
      "Requirement already satisfied: dill>=0.3.4 in /home/ec2-user/anaconda3/envs/python3/lib/python3.6/site-packages (from pathos->sagemaker) (0.3.4)\n",
      "Requirement already satisfied: multiprocess>=0.70.12 in /home/ec2-user/anaconda3/envs/python3/lib/python3.6/site-packages (from pathos->sagemaker) (0.70.12.2)\n",
      "Requirement already satisfied: pox>=0.3.0 in /home/ec2-user/anaconda3/envs/python3/lib/python3.6/site-packages (from pathos->sagemaker) (0.3.0)\n",
      "Building wheels for collected packages: sagemaker\n",
      "  Building wheel for sagemaker (setup.py): started\n",
      "  Building wheel for sagemaker (setup.py): finished with status 'done'\n",
      "  Created wheel for sagemaker: filename=sagemaker-2.59.4-py2.py3-none-any.whl size=619051 sha256=c32b1ba991e76fe6eb0200d0d3ec881594983c12bbb2d8603bb358f010ff17f1\n",
      "  Stored in directory: /home/ec2-user/.cache/pip/wheels/b7/5c/a5/f504fc8a5622feb7de18eb13eccf261fc66e54f541a2e42e71\n",
      "Successfully built sagemaker\n",
      "Installing collected packages: sagemaker, lightgbm\n",
      "  Attempting uninstall: sagemaker\n",
      "    Found existing installation: sagemaker 2.59.3\n",
      "    Uninstalling sagemaker-2.59.3:\n",
      "      Successfully uninstalled sagemaker-2.59.3\n",
      "Successfully installed lightgbm-3.2.1 sagemaker-2.59.4\n"
     ]
    },
    {
     "data": {
      "text/plain": [
       "0"
      ]
     },
     "execution_count": 1,
     "metadata": {},
     "output_type": "execute_result"
    }
   ],
   "source": [
    "import pip\n",
    "\n",
    "package_names = ['lightgbm', 'awswrangler', 'sagemaker'] \n",
    "pip.main(['install'] + package_names + ['--upgrade'])"
   ]
  },
  {
   "cell_type": "code",
   "execution_count": 2,
   "id": "c55692e8",
   "metadata": {},
   "outputs": [
    {
     "name": "stdout",
     "output_type": "stream",
     "text": [
      "NumExpr defaulting to 4 threads.\n",
      "////////////////////////////////////////////////// \n",
      "\n",
      "path_container_input:  /opt/ml/processing/input\n",
      "path_container_output:  /opt/ml/processing/output\n",
      "path_container_utils:  /opt/ml/processing/input/utils\n",
      "path_container_universo:  /opt/ml/processing/input/HM_UNIVERSO_PROPENSION_DESEMBOLSO_BPE\n",
      "target :::::::::  target_desembolso_f2m_mayor_30_menor_180\n"
     ]
    }
   ],
   "source": [
    "# Nativos\n",
    "from dateutil.relativedelta import relativedelta\n",
    "from time import gmtime, strftime\n",
    "from datetime import datetime\n",
    "import random as rn\n",
    "import joblib\n",
    "import json\n",
    "import sys\n",
    "import os\n",
    "import gc\n",
    "\n",
    "#nube\n",
    "from sagemaker.processing import ProcessingInput, ProcessingOutput\n",
    "from sagemaker.sklearn.processing import SKLearnProcessor\n",
    "from sagemaker import get_execution_role\n",
    "import awswrangler as wr\n",
    "import sagemaker\n",
    "import boto3\n",
    "\n",
    "#calculo\n",
    "import pandas as pd\n",
    "import numpy as np\n",
    "import scipy\n",
    "\n",
    "#grafico\n",
    "from IPython.display import display\n",
    "import matplotlib.pyplot as plt\n",
    "import seaborn as sns\n",
    "%matplotlib inline\n",
    "sns.set(style=\"whitegrid\")\n",
    "\n",
    "#Interacciones con output\n",
    "import warnings\n",
    "warnings.filterwarnings(\"ignore\")\n",
    "# warnings.simplefilter(action='ignore', category=FutureWarning)\n",
    "pd.set_option('display.max_rows', 500)\n",
    "pd.set_option('display.max_columns', 500)\n",
    "pd.set_option('display.width', 1000)\n",
    "\n",
    "from IPython.core.interactiveshell import InteractiveShell\n",
    "InteractiveShell.ast_node_interactivity = \"all\"\n",
    "\n",
    "gc.collect()\n",
    "# MODELS\n",
    "from lightgbm import LGBMClassifier\n",
    "\n",
    "BASE_DIR = os.path.dirname(os.getcwd())\n",
    "if BASE_DIR not in sys.path: sys.path.append(BASE_DIR)\n",
    "#import scorecardpy as sc\n",
    "\n",
    "SEED = 29082013\n",
    "os.environ['PYTHONHASHSEED'] = str(SEED)\n",
    "np.random.seed(SEED)\n",
    "rn.seed(SEED)\n",
    "\n",
    "from setup import *"
   ]
  },
  {
   "cell_type": "code",
   "execution_count": null,
   "id": "80391aa0",
   "metadata": {},
   "outputs": [],
   "source": []
  },
  {
   "cell_type": "markdown",
   "id": "cfe8f8c8",
   "metadata": {},
   "source": [
    "### COnfig"
   ]
  },
  {
   "cell_type": "code",
   "execution_count": 3,
   "id": "2288d2aa",
   "metadata": {},
   "outputs": [
    {
     "name": "stdout",
     "output_type": "stream",
     "text": [
      "bucket:  sagemaker-us-east-1-058528764918\n",
      "region:  us-east-1\n",
      "now:  2021-09-28 02:10:09.574669\n",
      "target:  target_desembolso_f2m_mayor_30_menor_180\n",
      "clasif:  normal\n",
      "sufijo:  target_desembolso_f2m_mayor_30_menor_180_clasif_normal\n"
     ]
    }
   ],
   "source": [
    "print(\"bucket: \", bucket)\n",
    "print(\"region: \", region)\n",
    "print(\"now: \", now)\n",
    "print(\"target: \", target)\n",
    "print(\"clasif: \", clasif)\n",
    "print(\"sufijo: \", sufijo)"
   ]
  },
  {
   "cell_type": "code",
   "execution_count": null,
   "id": "092bbbf9",
   "metadata": {},
   "outputs": [],
   "source": []
  },
  {
   "cell_type": "markdown",
   "id": "dec9d8a6",
   "metadata": {},
   "source": [
    "### Seteado utilitario"
   ]
  },
  {
   "cell_type": "code",
   "execution_count": 4,
   "id": "d99d2426",
   "metadata": {},
   "outputs": [
    {
     "name": "stdout",
     "output_type": "stream",
     "text": [
      "/home/ec2-user/SageMaker/DESEMBOLSO_7/UTILITARIO_CODE/utils.py\n",
      "vpc/propension/code/utils.py\n"
     ]
    }
   ],
   "source": [
    "print(path_instancia_util)\n",
    "print(prefix_utils)"
   ]
  },
  {
   "cell_type": "code",
   "execution_count": 5,
   "id": "75976104",
   "metadata": {},
   "outputs": [],
   "source": [
    "s3.Bucket(bucket).upload_file(path_instancia_util, prefix_utils)"
   ]
  },
  {
   "cell_type": "code",
   "execution_count": null,
   "id": "06c0ff0f",
   "metadata": {},
   "outputs": [],
   "source": []
  },
  {
   "cell_type": "markdown",
   "id": "98458734",
   "metadata": {},
   "source": [
    "### RUtas"
   ]
  },
  {
   "cell_type": "code",
   "execution_count": 6,
   "id": "0ab12a9a",
   "metadata": {},
   "outputs": [
    {
     "name": "stdout",
     "output_type": "stream",
     "text": [
      "uri_output: s3://sagemaker-us-east-1-058528764918/vpc/propension/output3\n",
      "uri_segui: s3://sagemaker-us-east-1-058528764918/vpc/propension/output3/seguimiento.csv\n",
      "uri_valid: s3://sagemaker-us-east-1-058528764918/vpc/propension/output3/validation.csv\n",
      "\n",
      " //////////////////////////////////////////////////\n",
      "uri_segui: s3://sagemaker-us-east-1-058528764918/vpc/propension/seguimiento\n",
      "uri_copy_seg: s3://sagemaker-us-east-1-058528764918/vpc/propension/seguimiento/seguimiento.csv\n",
      "uri_copy_val: s3://sagemaker-us-east-1-058528764918/vpc/propension/seguimiento/validation.csv\n",
      "\n",
      " //////////////////////////////////////////////////\n",
      "uri_raw   : s3://sagemaker-us-east-1-058528764918/vpc/propension/raw\n",
      "uri_contraste   : s3://sagemaker-us-east-1-058528764918/vpc/propension/contraste\n"
     ]
    }
   ],
   "source": [
    "print('uri_output:', uri_output)\n",
    "print('uri_segui:', uri_segui)\n",
    "print('uri_valid:', uri_valid)\n",
    "\n",
    "print(\"\\n\",\"/\"*50)\n",
    "print('uri_segui:', uri_segui_folder)\n",
    "print('uri_copy_seg:', uri_copy_seg)\n",
    "print('uri_copy_val:', uri_copy_val)\n",
    "\n",
    "print(\"\\n\",\"/\"*50)\n",
    "print('uri_raw   :', uri_raw)\n",
    "print('uri_contraste   :', uri_contraste)"
   ]
  },
  {
   "cell_type": "code",
   "execution_count": 7,
   "id": "0fa43946",
   "metadata": {},
   "outputs": [
    {
     "name": "stdout",
     "output_type": "stream",
     "text": [
      "CPU times: user 1.18 s, sys: 49.9 ms, total: 1.23 s\n",
      "Wall time: 27.4 s\n"
     ]
    }
   ],
   "source": [
    "%%time\n",
    "s3.meta.client.copy({\n",
    "    'Bucket': bucket,\n",
    "    'Key': uri_segui.split(bucket)[-1][1:]\n",
    "},\n",
    "    bucket,\n",
    "    uri_copy_seg.split(bucket)[-1][1:]\n",
    ")"
   ]
  },
  {
   "cell_type": "code",
   "execution_count": 8,
   "id": "2b5eacde",
   "metadata": {},
   "outputs": [
    {
     "name": "stdout",
     "output_type": "stream",
     "text": [
      "CPU times: user 1.09 s, sys: 11.5 ms, total: 1.1 s\n",
      "Wall time: 22.7 s\n"
     ]
    }
   ],
   "source": [
    "%%time\n",
    "s3.meta.client.copy({\n",
    "    'Bucket': bucket,\n",
    "    'Key': uri_valid.split(bucket)[-1][1:]\n",
    "},\n",
    "    bucket,\n",
    "    uri_copy_val.split(bucket)[-1][1:]\n",
    ")"
   ]
  },
  {
   "cell_type": "code",
   "execution_count": 9,
   "id": "0c7864b6",
   "metadata": {},
   "outputs": [
    {
     "name": "stdout",
     "output_type": "stream",
     "text": [
      "path_container_input:  /opt/ml/processing/input\n",
      "path_container_output:  /opt/ml/processing/output\n",
      "path_container_utils:  /opt/ml/processing/input/utils\n"
     ]
    }
   ],
   "source": [
    "print('path_container_input: ', path_container_input)\n",
    "print('path_container_output: ', path_container_output)\n",
    "print('path_container_utils: ', path_container_utils)"
   ]
  },
  {
   "cell_type": "code",
   "execution_count": null,
   "id": "d5b591ba",
   "metadata": {},
   "outputs": [],
   "source": []
  },
  {
   "cell_type": "markdown",
   "id": "e4be12d2",
   "metadata": {},
   "source": [
    "### Desacoplado"
   ]
  },
  {
   "cell_type": "code",
   "execution_count": 10,
   "id": "644cbb15",
   "metadata": {},
   "outputs": [
    {
     "name": "stdout",
     "output_type": "stream",
     "text": [
      "Same images used for training and inference. Defaulting to image scope: inference.\n",
      "Defaulting to only available Python version: py3\n"
     ]
    }
   ],
   "source": [
    "processing_tags = [{'Key': 'cost-center', 'Value': 'TF2WorkflowProcessing'}]\n",
    "\n",
    "sklearn_processor_a = SKLearnProcessor(\n",
    "    framework_version='0.23-1',\n",
    "    role=get_execution_role(),\n",
    "    instance_type='ml.m5.4xlarge',\n",
    "    instance_count=1,\n",
    "    tags=processing_tags\n",
    ")"
   ]
  },
  {
   "cell_type": "code",
   "execution_count": 11,
   "id": "5bfb5029",
   "metadata": {},
   "outputs": [
    {
     "name": "stdout",
     "output_type": "stream",
     "text": [
      "\n",
      "Job Name:  propension-seguimiento-2021-09-28-02-11-00\n",
      "Inputs:  [{'InputName': 'input-1', 'AppManaged': False, 'S3Input': {'S3Uri': 's3://sagemaker-us-east-1-058528764918/vpc/propension/seguimiento', 'LocalPath': '/opt/ml/processing/input', 'S3DataType': 'S3Prefix', 'S3InputMode': 'File', 'S3DataDistributionType': 'ShardedByS3Key', 'S3CompressionType': 'None'}}, {'InputName': 'input-2', 'AppManaged': False, 'S3Input': {'S3Uri': 's3://sagemaker-us-east-1-058528764918/vpc/propension/code', 'LocalPath': '/opt/ml/processing/input/utils', 'S3DataType': 'S3Prefix', 'S3InputMode': 'File', 'S3DataDistributionType': 'ShardedByS3Key', 'S3CompressionType': 'None'}}, {'InputName': 'code', 'AppManaged': False, 'S3Input': {'S3Uri': 's3://sagemaker-us-east-1-058528764918/propension-seguimiento-2021-09-28-02-11-00/input/code/preparate_seguimiento.py', 'LocalPath': '/opt/ml/processing/input/code', 'S3DataType': 'S3Prefix', 'S3InputMode': 'File', 'S3DataDistributionType': 'FullyReplicated', 'S3CompressionType': 'None'}}]\n",
      "Outputs:  [{'OutputName': 'result', 'AppManaged': False, 'S3Output': {'S3Uri': 's3://sagemaker-us-east-1-058528764918/vpc/propension/contraste', 'LocalPath': '/opt/ml/processing/output', 'S3UploadMode': 'EndOfJob'}}]\n",
      "Creating processing-job with name propension-seguimiento-2021-09-28-02-11-00\n",
      ".....................................\u001b[34mWARNING: pip is being invoked by an old script wrapper. This will fail in a future version of pip.\u001b[0m\n",
      "\u001b[34mPlease see https://github.com/pypa/pip/issues/5599 for advice on fixing the underlying issue.\u001b[0m\n",
      "\u001b[34mTo avoid this problem you can invoke Python with '-m pip' instead of running pip directly.\u001b[0m\n",
      "\u001b[34mCollecting swifter\n",
      "  Downloading swifter-1.0.9-py3-none-any.whl (14 kB)\u001b[0m\n",
      "\u001b[34mCollecting parso>0.4.0\n",
      "  Downloading parso-0.8.2-py2.py3-none-any.whl (94 kB)\u001b[0m\n",
      "\u001b[34mRequirement already satisfied: tqdm>=4.33.0 in /miniconda3/lib/python3.7/site-packages (from swifter) (4.62.1)\u001b[0m\n",
      "\u001b[34mCollecting bleach>=3.1.1\n",
      "  Downloading bleach-4.1.0-py2.py3-none-any.whl (157 kB)\u001b[0m\n",
      "\u001b[34mRequirement already satisfied: psutil>=5.6.6 in /miniconda3/lib/python3.7/site-packages (from swifter) (5.7.2)\u001b[0m\n",
      "\u001b[34mCollecting ipywidgets>=7.0.0\n",
      "  Downloading ipywidgets-7.6.5-py2.py3-none-any.whl (121 kB)\u001b[0m\n",
      "\u001b[34mRequirement already satisfied: pandas>=1.0.0 in /miniconda3/lib/python3.7/site-packages (from swifter) (1.1.3)\u001b[0m\n",
      "\u001b[34mCollecting dask[dataframe]>=2.10.0\n",
      "  Downloading dask-2021.9.1-py3-none-any.whl (1.0 MB)\u001b[0m\n",
      "\u001b[34mCollecting cloudpickle>=0.2.2\n",
      "  Downloading cloudpickle-2.0.0-py3-none-any.whl (25 kB)\u001b[0m\n",
      "\u001b[34mCollecting webencodings\n",
      "  Downloading webencodings-0.5.1-py2.py3-none-any.whl (11 kB)\u001b[0m\n",
      "\u001b[34mRequirement already satisfied: six>=1.9.0 in /miniconda3/lib/python3.7/site-packages (from bleach>=3.1.1->swifter) (1.15.0)\u001b[0m\n",
      "\u001b[34mCollecting packaging\n",
      "  Downloading packaging-21.0-py3-none-any.whl (40 kB)\u001b[0m\n",
      "\u001b[34mCollecting fsspec>=0.6.0\n",
      "  Downloading fsspec-2021.9.0-py3-none-any.whl (123 kB)\u001b[0m\n",
      "\u001b[34mCollecting partd>=0.3.10\n",
      "  Downloading partd-1.2.0-py3-none-any.whl (19 kB)\u001b[0m\n",
      "\u001b[34mCollecting toolz>=0.8.2\n",
      "  Downloading toolz-0.11.1-py3-none-any.whl (55 kB)\u001b[0m\n",
      "\u001b[34mCollecting pyyaml\n",
      "  Downloading PyYAML-5.4.1-cp37-cp37m-manylinux1_x86_64.whl (636 kB)\u001b[0m\n",
      "\u001b[34mRequirement already satisfied: numpy>=1.18 in /miniconda3/lib/python3.7/site-packages (from dask[dataframe]>=2.10.0->swifter) (1.19.2)\u001b[0m\n",
      "\u001b[34mCollecting nbformat>=4.2.0\n",
      "  Downloading nbformat-5.1.3-py3-none-any.whl (178 kB)\u001b[0m\n",
      "\u001b[34mCollecting ipykernel>=4.5.1\n",
      "  Downloading ipykernel-6.4.1-py3-none-any.whl (124 kB)\u001b[0m\n",
      "\u001b[34mCollecting ipython>=4.0.0\n",
      "  Downloading ipython-7.28.0-py3-none-any.whl (788 kB)\u001b[0m\n",
      "\u001b[34mCollecting ipython-genutils~=0.2.0\n",
      "  Downloading ipython_genutils-0.2.0-py2.py3-none-any.whl (26 kB)\u001b[0m\n",
      "\u001b[34mCollecting widgetsnbextension~=3.5.0\n",
      "  Downloading widgetsnbextension-3.5.1-py2.py3-none-any.whl (2.2 MB)\u001b[0m\n",
      "\u001b[34mCollecting traitlets>=4.3.1\n",
      "  Downloading traitlets-5.1.0-py3-none-any.whl (101 kB)\u001b[0m\n",
      "\u001b[34mCollecting jupyterlab-widgets>=1.0.0\n",
      "  Downloading jupyterlab_widgets-1.0.2-py3-none-any.whl (243 kB)\u001b[0m\n",
      "\u001b[34mCollecting tornado<7.0,>=4.2\n",
      "  Downloading tornado-6.1-cp37-cp37m-manylinux2010_x86_64.whl (428 kB)\u001b[0m\n",
      "\u001b[34mCollecting matplotlib-inline<0.2.0,>=0.1.0\n",
      "  Downloading matplotlib_inline-0.1.3-py3-none-any.whl (8.2 kB)\u001b[0m\n",
      "\u001b[34mRequirement already satisfied: importlib-metadata<5 in /miniconda3/lib/python3.7/site-packages (from ipykernel>=4.5.1->ipywidgets>=7.0.0->swifter) (4.7.1)\u001b[0m\n",
      "\u001b[34mCollecting jupyter-client<8.0\n",
      "  Downloading jupyter_client-7.0.3-py3-none-any.whl (122 kB)\u001b[0m\n",
      "\u001b[34mCollecting argcomplete>=1.12.3\n",
      "  Downloading argcomplete-1.12.3-py2.py3-none-any.whl (38 kB)\u001b[0m\n",
      "\u001b[34mCollecting debugpy<2.0,>=1.0.0\n",
      "  Downloading debugpy-1.4.3-cp37-cp37m-manylinux_2_5_x86_64.manylinux1_x86_64.manylinux_2_12_x86_64.manylinux2010_x86_64.whl (1.9 MB)\u001b[0m\n",
      "\u001b[34mRequirement already satisfied: zipp>=0.5 in /miniconda3/lib/python3.7/site-packages (from importlib-metadata<5->ipykernel>=4.5.1->ipywidgets>=7.0.0->swifter) (3.5.0)\u001b[0m\n",
      "\u001b[34mRequirement already satisfied: typing-extensions>=3.6.4 in /miniconda3/lib/python3.7/site-packages (from importlib-metadata<5->ipykernel>=4.5.1->ipywidgets>=7.0.0->swifter) (3.10.0.0)\u001b[0m\n",
      "\u001b[34mCollecting decorator\n",
      "  Downloading decorator-5.1.0-py3-none-any.whl (9.1 kB)\u001b[0m\n",
      "\u001b[34mCollecting pygments\n",
      "  Downloading Pygments-2.10.0-py3-none-any.whl (1.0 MB)\u001b[0m\n",
      "\u001b[34mRequirement already satisfied: setuptools>=18.5 in /miniconda3/lib/python3.7/site-packages (from ipython>=4.0.0->ipywidgets>=7.0.0->swifter) (52.0.0.post20210125)\u001b[0m\n",
      "\u001b[34mCollecting pexpect>4.3\n",
      "  Downloading pexpect-4.8.0-py2.py3-none-any.whl (59 kB)\u001b[0m\n",
      "\u001b[34mCollecting backcall\n",
      "  Downloading backcall-0.2.0-py2.py3-none-any.whl (11 kB)\u001b[0m\n",
      "\u001b[34mCollecting pickleshare\n",
      "  Downloading pickleshare-0.7.5-py2.py3-none-any.whl (6.9 kB)\u001b[0m\n",
      "\u001b[34mCollecting prompt-toolkit!=3.0.0,!=3.0.1,<3.1.0,>=2.0.0\n",
      "  Downloading prompt_toolkit-3.0.20-py3-none-any.whl (370 kB)\u001b[0m\n",
      "\u001b[34mCollecting jedi>=0.16\n",
      "  Downloading jedi-0.18.0-py2.py3-none-any.whl (1.4 MB)\u001b[0m\n",
      "\u001b[34mCollecting jupyter-core>=4.6.0\n",
      "  Downloading jupyter_core-4.8.1-py3-none-any.whl (86 kB)\u001b[0m\n",
      "\u001b[34mCollecting nest-asyncio>=1.5\n",
      "  Downloading nest_asyncio-1.5.1-py3-none-any.whl (5.0 kB)\u001b[0m\n",
      "\u001b[34mCollecting pyzmq>=13\n",
      "  Downloading pyzmq-22.3.0-cp37-cp37m-manylinux_2_5_x86_64.manylinux1_x86_64.whl (1.1 MB)\u001b[0m\n",
      "\u001b[34mCollecting entrypoints\n",
      "  Downloading entrypoints-0.3-py2.py3-none-any.whl (11 kB)\u001b[0m\n",
      "\u001b[34mRequirement already satisfied: python-dateutil>=2.1 in /miniconda3/lib/python3.7/site-packages (from jupyter-client<8.0->ipykernel>=4.5.1->ipywidgets>=7.0.0->swifter) (2.8.1)\u001b[0m\n",
      "\u001b[34mCollecting jsonschema!=2.5.0,>=2.4\n",
      "  Downloading jsonschema-3.2.0-py2.py3-none-any.whl (56 kB)\u001b[0m\n",
      "\u001b[34mCollecting pyrsistent>=0.14.0\n",
      "  Downloading pyrsistent-0.18.0-cp37-cp37m-manylinux1_x86_64.whl (119 kB)\u001b[0m\n",
      "\u001b[34mCollecting attrs>=17.4.0\n",
      "  Downloading attrs-21.2.0-py2.py3-none-any.whl (53 kB)\u001b[0m\n",
      "\u001b[34mCollecting pyparsing>=2.0.2\n",
      "  Downloading pyparsing-2.4.7-py2.py3-none-any.whl (67 kB)\u001b[0m\n",
      "\u001b[34mRequirement already satisfied: pytz>=2017.2 in /miniconda3/lib/python3.7/site-packages (from pandas>=1.0.0->swifter) (2021.1)\u001b[0m\n",
      "\u001b[34mCollecting locket\n",
      "  Downloading locket-0.2.1-py2.py3-none-any.whl (4.1 kB)\u001b[0m\n",
      "\u001b[34mCollecting ptyprocess>=0.5\n",
      "  Downloading ptyprocess-0.7.0-py2.py3-none-any.whl (13 kB)\u001b[0m\n",
      "\u001b[34mCollecting wcwidth\n",
      "  Downloading wcwidth-0.2.5-py2.py3-none-any.whl (30 kB)\u001b[0m\n",
      "\u001b[34mCollecting notebook>=4.4.1\n",
      "  Downloading notebook-6.4.4-py3-none-any.whl (9.9 MB)\u001b[0m\n",
      "\u001b[34mCollecting Send2Trash>=1.5.0\n",
      "  Downloading Send2Trash-1.8.0-py3-none-any.whl (18 kB)\u001b[0m\n",
      "\u001b[34mCollecting argon2-cffi\n",
      "  Downloading argon2_cffi-21.1.0-cp35-abi3-manylinux_2_5_x86_64.manylinux1_x86_64.whl (96 kB)\u001b[0m\n",
      "\u001b[34mCollecting prometheus-client\n",
      "  Downloading prometheus_client-0.11.0-py2.py3-none-any.whl (56 kB)\u001b[0m\n",
      "\u001b[34mCollecting nbconvert\n",
      "  Downloading nbconvert-6.2.0-py3-none-any.whl (553 kB)\u001b[0m\n",
      "\u001b[34mRequirement already satisfied: jinja2 in /miniconda3/lib/python3.7/site-packages (from notebook>=4.4.1->widgetsnbextension~=3.5.0->ipywidgets>=7.0.0->swifter) (3.0.1)\u001b[0m\n",
      "\u001b[34mCollecting terminado>=0.8.3\n",
      "  Downloading terminado-0.12.1-py3-none-any.whl (15 kB)\u001b[0m\n",
      "\u001b[34mRequirement already satisfied: cffi>=1.0.0 in /miniconda3/lib/python3.7/site-packages (from argon2-cffi->notebook>=4.4.1->widgetsnbextension~=3.5.0->ipywidgets>=7.0.0->swifter) (1.14.6)\u001b[0m\n",
      "\u001b[34mRequirement already satisfied: pycparser in /miniconda3/lib/python3.7/site-packages (from cffi>=1.0.0->argon2-cffi->notebook>=4.4.1->widgetsnbextension~=3.5.0->ipywidgets>=7.0.0->swifter) (2.20)\u001b[0m\n",
      "\u001b[34mRequirement already satisfied: MarkupSafe>=2.0 in /miniconda3/lib/python3.7/site-packages (from jinja2->notebook>=4.4.1->widgetsnbextension~=3.5.0->ipywidgets>=7.0.0->swifter) (2.0.1)\u001b[0m\n",
      "\u001b[34mCollecting nbclient<0.6.0,>=0.5.0\n",
      "  Downloading nbclient-0.5.4-py3-none-any.whl (66 kB)\u001b[0m\n",
      "\u001b[34mCollecting mistune<2,>=0.8.1\n",
      "  Downloading mistune-0.8.4-py2.py3-none-any.whl (16 kB)\u001b[0m\n",
      "\u001b[34mCollecting jupyterlab-pygments\n",
      "  Downloading jupyterlab_pygments-0.1.2-py2.py3-none-any.whl (4.6 kB)\u001b[0m\n",
      "\u001b[34mCollecting testpath\n",
      "  Downloading testpath-0.5.0-py3-none-any.whl (84 kB)\u001b[0m\n",
      "\u001b[34mCollecting defusedxml\n",
      "  Downloading defusedxml-0.7.1-py2.py3-none-any.whl (25 kB)\u001b[0m\n",
      "\u001b[34mCollecting pandocfilters>=1.4.1\n",
      "  Downloading pandocfilters-1.5.0-py2.py3-none-any.whl (8.7 kB)\u001b[0m\n",
      "\u001b[34mInstalling collected packages: traitlets, pyrsistent, attrs, wcwidth, tornado, pyzmq, pyparsing, ptyprocess, parso, nest-asyncio, jupyter-core, jsonschema, ipython-genutils, entrypoints, webencodings, pygments, prompt-toolkit, pickleshare, pexpect, packaging, nbformat, matplotlib-inline, jupyter-client, jedi, decorator, backcall, testpath, pandocfilters, nbclient, mistune, jupyterlab-pygments, ipython, defusedxml, debugpy, bleach, argcomplete, toolz, terminado, Send2Trash, prometheus-client, nbconvert, locket, ipykernel, argon2-cffi, pyyaml, partd, notebook, fsspec, cloudpickle, widgetsnbextension, jupyterlab-widgets, dask, ipywidgets, swifter\u001b[0m\n",
      "\u001b[34mSuccessfully installed Send2Trash-1.8.0 argcomplete-1.12.3 argon2-cffi-21.1.0 attrs-21.2.0 backcall-0.2.0 bleach-4.1.0 cloudpickle-2.0.0 dask-2021.9.1 debugpy-1.4.3 decorator-5.1.0 defusedxml-0.7.1 entrypoints-0.3 fsspec-2021.9.0 ipykernel-6.4.1 ipython-7.28.0 ipython-genutils-0.2.0 ipywidgets-7.6.5 jedi-0.18.0 jsonschema-3.2.0 jupyter-client-7.0.3 jupyter-core-4.8.1 jupyterlab-pygments-0.1.2 jupyterlab-widgets-1.0.2 locket-0.2.1 matplotlib-inline-0.1.3 mistune-0.8.4 nbclient-0.5.4 nbconvert-6.2.0 nbformat-5.1.3 nest-asyncio-1.5.1 notebook-6.4.4 packaging-21.0 pandocfilters-1.5.0 parso-0.8.2 partd-1.2.0 pexpect-4.8.0 pickleshare-0.7.5 prometheus-client-0.11.0 prompt-toolkit-3.0.20 ptyprocess-0.7.0 pygments-2.10.0 pyparsing-2.4.7 pyrsistent-0.18.0 pyyaml-5.4.1 pyzmq-22.3.0 swifter-1.0.9 terminado-0.12.1 testpath-0.5.0 toolz-0.11.1 tornado-6.1 traitlets-5.1.0 wcwidth-0.2.5 webencodings-0.5.1 widgetsnbextension-3.5.1\u001b[0m\n",
      "\u001b[34mWARNING: Running pip as the 'root' user can result in broken permissions and conflicting behaviour with the system package manager. It is recommended to use a virtual environment instead: https://pip.pypa.io/warnings/venv\u001b[0m\n",
      "\u001b[34mload swifter satisfactoriamente\u001b[0m\n",
      "\u001b[34m/opt/ml/processing/input/\u001b[0m\n",
      "\u001b[34mLO AGREGO\u001b[0m\n",
      "\u001b[34m['/opt/ml/processing/input/code', '/miniconda3/lib/python37.zip', '/miniconda3/lib/python3.7', '/miniconda3/lib/python3.7/lib-dynload', '/miniconda3/lib/python3.7/site-packages', '/opt/ml/processing/input/']\u001b[0m\n",
      "\u001b[34m////////////////////////////////////////////////// \n",
      "\u001b[0m\n",
      "\u001b[34mpath_container_input:  /opt/ml/processing/input\u001b[0m\n",
      "\u001b[34mpath_container_output:  /opt/ml/processing/output\u001b[0m\n",
      "\u001b[34mpath_container_utils:  /opt/ml/processing/input/utils\u001b[0m\n",
      "\u001b[34mpath_container_universo:  /opt/ml/processing/input/HM_UNIVERSO_PROPENSION_DESEMBOLSO_BPE\u001b[0m\n",
      "\u001b[34msufijo:  target_desembolso_f2m_mayor_30_menor_180_clasif_normal\u001b[0m\n",
      "\u001b[34mtarget:  target_desembolso_f2m_mayor_30_menor_180\u001b[0m\n",
      "\u001b[34mdicc_seleccionadas:  dict_keys(['target_desembolso_f2m_f3m_mayor_10_menor_180_clasif_normal', 'target_desembolso_f2m_f3m_mayor_10_menor_180_clasif_all', 'target_desembolso_f2m_f3m_mayor_30_menor_180_clasif_normal', 'target_desembolso_f2m_f3m_mayor_30_menor_180_clasif_all', 'target_desembolso_f2m_mayor_10_menor_180_clasif_normal', 'target_desembolso_f2m_mayor_10_menor_180_clasif_all', 'target_desembolso_f2m_mayor_30_menor_180_clasif_normal', 'target_desembolso_f2m_mayor_30_menor_180_clasif_all'])\u001b[0m\n",
      "\u001b[34m['prom_fae_u12m', 'nro_var_10k_30k_negativa_u3', 'saldo_coloc_direct_tc', 'saldo_coloc_indirectas', 'nro_var_10k_30k_negativa_u6', 'monto_pagado_u3_amt', 'nro_entid_financ_prom_ult9m_cnt', 'monto_adquirido_u6_amt', 'saldo_coloc_direct_vig_cmpt', 'porc_coloc_direct_vig_cmpt', 'monto_pagado_ult_rcc_amt', 'sow_ibk', 'saldo_coloc_directas', 'saldo_coloc_direct_vig_no_ibk', 'prom_gar_u12m', 'nroregs_reactiva_bcos', 'cod_sbs_val', 'saldo_coloc_direct_vig_ibk', 'nro_entidades', 'target_desembolso_f2m_mayor_30_menor_180', 'saldo_coloc_direct_vig_bcos', 'prom_reprog_u12m', 'porc_coloc_direct_vig_ibk', 'porc_coloc_direct_vig_cajas', 'sow_otros_bancos', 'saldo_coloc_direct_vig_cajas', 'ult_var_saldo_ajustado_amt', 'porc_coloc_direct_vig_no_ibk', 'sow_cajas', 'deuda_sf_prom_ult9m', 'var_neta_saldo_ajustado_u3_amt', 'porc_coloc_direct_vig_bcos', 'saldo_fae', 'saldo_reactiva', 'nroregs_fae_bcos', 'tendencia_nro_coloc_direct_bancos_v2']\u001b[0m\n",
      "\u001b[34m36\u001b[0m\n",
      "\u001b[34m['cod_sbs_val', 'periodo', 'target_desembolso_f2m_mayor_30_menor_180']\u001b[0m\n",
      "\u001b[34m3\u001b[0m\n",
      "\u001b[34mNro categorias:  0\u001b[0m\n",
      "\u001b[34ma  202103\u001b[0m\n",
      "\u001b[34mb  202104\u001b[0m\n",
      "\u001b[34mc  202105\u001b[0m\n",
      "\u001b[34md  202106\u001b[0m\n",
      "\u001b[34ma  (720698, 346)\u001b[0m\n",
      "\u001b[34mb  (717549, 346)\u001b[0m\n",
      "\u001b[34mc  (715663, 346)\u001b[0m\n",
      "\u001b[34md  (718033, 346)\u001b[0m\n",
      "\u001b[34me  202107\u001b[0m\n",
      "\u001b[34ma  (720698, 346)\u001b[0m\n",
      "\u001b[34mb  (717549, 346)\u001b[0m\n",
      "\u001b[34mc  (715663, 346)\u001b[0m\n",
      "\u001b[34md  (718033, 346)\u001b[0m\n",
      "\u001b[34me  (722413, 346)\u001b[0m\n",
      "\u001b[34mf  202108\u001b[0m\n",
      "\u001b[34ma  (720698, 346)\u001b[0m\n",
      "\u001b[34mb  (717549, 346)\u001b[0m\n",
      "\u001b[34mc  (715663, 346)\u001b[0m\n",
      "\u001b[34md  (718033, 346)\u001b[0m\n",
      "\u001b[34me  (722413, 346)\u001b[0m\n",
      "\u001b[34mf  (725032, 346)\u001b[0m\n",
      "\n",
      "CPU times: user 1.14 s, sys: 66.4 ms, total: 1.2 s\n",
      "Wall time: 11min 20s\n"
     ]
    }
   ],
   "source": [
    "%%time\n",
    "processing_job_name = \"propension-seguimiento-{}\".format(strftime(\"%Y-%m-%d-%H-%M-%S\", gmtime()))\n",
    "\n",
    "sklearn_processor_a.run(\n",
    "    code='preparate_seguimiento.py',  #'/opt/ml/processing/codigo_proceso/' , '/opt/ml/processing/input/code'\n",
    "    job_name=processing_job_name,\n",
    "    inputs=[\n",
    "        ProcessingInput(\n",
    "            source=uri_segui_folder,\n",
    "            destination=path_container_input,\n",
    "            s3_data_distribution_type='ShardedByS3Key'\n",
    "        ),\n",
    "        ProcessingInput(\n",
    "            source=uri_code,\n",
    "            destination=path_container_utils,\n",
    "            s3_data_distribution_type='ShardedByS3Key'\n",
    "        ),\n",
    "    ],\n",
    "    outputs=[\n",
    "        ProcessingOutput(\n",
    "            output_name='result',\n",
    "            destination=uri_contraste,\n",
    "            source=path_container_output\n",
    "        )\n",
    "    ],\n",
    "    arguments=[\"--sufijo\", sufijo]\n",
    ")\n",
    "\n",
    "preprocessing_job_description = sklearn_processor_a.jobs[-1].describe()"
   ]
  },
  {
   "cell_type": "code",
   "execution_count": 12,
   "id": "bbc620f2",
   "metadata": {},
   "outputs": [],
   "source": [
    "a = None"
   ]
  },
  {
   "cell_type": "code",
   "execution_count": 13,
   "id": "3bca6bc3",
   "metadata": {},
   "outputs": [
    {
     "data": {
      "text/plain": [
       "False"
      ]
     },
     "execution_count": 13,
     "metadata": {},
     "output_type": "execute_result"
    }
   ],
   "source": [
    "a is not None"
   ]
  },
  {
   "cell_type": "code",
   "execution_count": null,
   "id": "640b9bcd",
   "metadata": {},
   "outputs": [],
   "source": []
  },
  {
   "cell_type": "code",
   "execution_count": null,
   "id": "349545e0",
   "metadata": {},
   "outputs": [],
   "source": []
  },
  {
   "cell_type": "code",
   "execution_count": null,
   "id": "e6c67f49",
   "metadata": {},
   "outputs": [],
   "source": []
  },
  {
   "cell_type": "code",
   "execution_count": null,
   "id": "161862ce",
   "metadata": {},
   "outputs": [],
   "source": []
  },
  {
   "cell_type": "code",
   "execution_count": null,
   "id": "c61f6050",
   "metadata": {},
   "outputs": [],
   "source": []
  },
  {
   "cell_type": "code",
   "execution_count": null,
   "id": "4231b074",
   "metadata": {},
   "outputs": [],
   "source": []
  },
  {
   "cell_type": "code",
   "execution_count": null,
   "id": "8de44d5f",
   "metadata": {},
   "outputs": [],
   "source": []
  },
  {
   "cell_type": "code",
   "execution_count": null,
   "id": "31fdb9c8",
   "metadata": {},
   "outputs": [],
   "source": []
  },
  {
   "cell_type": "code",
   "execution_count": null,
   "id": "b6724fd0",
   "metadata": {},
   "outputs": [],
   "source": []
  },
  {
   "cell_type": "code",
   "execution_count": null,
   "id": "a9d55896",
   "metadata": {},
   "outputs": [],
   "source": []
  }
 ],
 "metadata": {
  "kernelspec": {
   "display_name": "conda_python3",
   "language": "python",
   "name": "conda_python3"
  },
  "language_info": {
   "codemirror_mode": {
    "name": "ipython",
    "version": 3
   },
   "file_extension": ".py",
   "mimetype": "text/x-python",
   "name": "python",
   "nbconvert_exporter": "python",
   "pygments_lexer": "ipython3",
   "version": "3.6.13"
  }
 },
 "nbformat": 4,
 "nbformat_minor": 5
}
