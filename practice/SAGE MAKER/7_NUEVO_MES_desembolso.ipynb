{
 "cells": [
  {
   "cell_type": "code",
   "execution_count": 1,
   "id": "b300514d",
   "metadata": {},
   "outputs": [
    {
     "name": "stderr",
     "output_type": "stream",
     "text": [
      "WARNING: pip is being invoked by an old script wrapper. This will fail in a future version of pip.\n",
      "Please see https://github.com/pypa/pip/issues/5599 for advice on fixing the underlying issue.\n",
      "To avoid this problem you can invoke Python with '-m pip' instead of running pip directly.\n"
     ]
    },
    {
     "name": "stdout",
     "output_type": "stream",
     "text": [
      "Requirement already satisfied: awswrangler in /home/ec2-user/anaconda3/envs/python3/lib/python3.6/site-packages (2.11.0)\n",
      "Requirement already satisfied: swifter in /home/ec2-user/anaconda3/envs/python3/lib/python3.6/site-packages (1.0.9)\n",
      "Requirement already satisfied: xlwt<2.0.0,>=1.3.0 in /home/ec2-user/anaconda3/envs/python3/lib/python3.6/site-packages (from awswrangler) (1.3.0)\n",
      "Requirement already satisfied: pg8000<1.22.0,>=1.16.0 in /home/ec2-user/anaconda3/envs/python3/lib/python3.6/site-packages (from awswrangler) (1.21.2)\n",
      "Requirement already satisfied: xlrd<3.0.0,>=2.0.1 in /home/ec2-user/anaconda3/envs/python3/lib/python3.6/site-packages (from awswrangler) (2.0.1)\n",
      "Requirement already satisfied: pandas<1.2.0,>=1.1.0 in /home/ec2-user/anaconda3/envs/python3/lib/python3.6/site-packages (from awswrangler) (1.1.5)\n",
      "Requirement already satisfied: openpyxl<3.1.0,>=3.0.0 in /home/ec2-user/anaconda3/envs/python3/lib/python3.6/site-packages (from awswrangler) (3.0.6)\n",
      "Requirement already satisfied: boto3<2.0.0,>=1.16.8 in /home/ec2-user/anaconda3/envs/python3/lib/python3.6/site-packages (from awswrangler) (1.18.45)\n",
      "Requirement already satisfied: pyarrow<5.1.0,>=2.0.0 in /home/ec2-user/anaconda3/envs/python3/lib/python3.6/site-packages (from awswrangler) (5.0.0)\n",
      "Requirement already satisfied: pymysql<1.1.0,>=0.9.0 in /home/ec2-user/anaconda3/envs/python3/lib/python3.6/site-packages (from awswrangler) (1.0.2)\n",
      "Requirement already satisfied: numpy<2.0.0,>=1.18.0 in /home/ec2-user/anaconda3/envs/python3/lib/python3.6/site-packages (from awswrangler) (1.19.5)\n",
      "Requirement already satisfied: redshift-connector<2.1.0,>=2.0.884 in /home/ec2-user/anaconda3/envs/python3/lib/python3.6/site-packages (from awswrangler) (2.0.888)\n",
      "Requirement already satisfied: botocore<2.0.0,>=1.19.8 in /home/ec2-user/anaconda3/envs/python3/lib/python3.6/site-packages (from awswrangler) (1.21.45)\n",
      "Requirement already satisfied: parso>0.4.0 in /home/ec2-user/anaconda3/envs/python3/lib/python3.6/site-packages (from swifter) (0.7.0)\n",
      "Requirement already satisfied: bleach>=3.1.1 in /home/ec2-user/anaconda3/envs/python3/lib/python3.6/site-packages (from swifter) (3.3.0)\n",
      "Requirement already satisfied: dask[dataframe]>=2.10.0 in /home/ec2-user/anaconda3/envs/python3/lib/python3.6/site-packages (from swifter) (2021.2.0)\n",
      "Requirement already satisfied: psutil>=5.6.6 in /home/ec2-user/anaconda3/envs/python3/lib/python3.6/site-packages (from swifter) (5.8.0)\n",
      "Requirement already satisfied: tqdm>=4.33.0 in /home/ec2-user/anaconda3/envs/python3/lib/python3.6/site-packages (from swifter) (4.62.2)\n",
      "Requirement already satisfied: cloudpickle>=0.2.2 in /home/ec2-user/anaconda3/envs/python3/lib/python3.6/site-packages (from swifter) (1.6.0)\n",
      "Requirement already satisfied: ipywidgets>=7.0.0 in /home/ec2-user/anaconda3/envs/python3/lib/python3.6/site-packages (from swifter) (7.6.3)\n",
      "Requirement already satisfied: webencodings in /home/ec2-user/anaconda3/envs/python3/lib/python3.6/site-packages (from bleach>=3.1.1->swifter) (0.5.1)\n",
      "Requirement already satisfied: six>=1.9.0 in /home/ec2-user/anaconda3/envs/python3/lib/python3.6/site-packages (from bleach>=3.1.1->swifter) (1.15.0)\n",
      "Requirement already satisfied: packaging in /home/ec2-user/anaconda3/envs/python3/lib/python3.6/site-packages (from bleach>=3.1.1->swifter) (20.9)\n",
      "Requirement already satisfied: jmespath<1.0.0,>=0.7.1 in /home/ec2-user/anaconda3/envs/python3/lib/python3.6/site-packages (from boto3<2.0.0,>=1.16.8->awswrangler) (0.10.0)\n",
      "Requirement already satisfied: s3transfer<0.6.0,>=0.5.0 in /home/ec2-user/anaconda3/envs/python3/lib/python3.6/site-packages (from boto3<2.0.0,>=1.16.8->awswrangler) (0.5.0)\n",
      "Requirement already satisfied: urllib3<1.27,>=1.25.4 in /home/ec2-user/anaconda3/envs/python3/lib/python3.6/site-packages (from botocore<2.0.0,>=1.19.8->awswrangler) (1.26.6)\n",
      "Requirement already satisfied: python-dateutil<3.0.0,>=2.1 in /home/ec2-user/anaconda3/envs/python3/lib/python3.6/site-packages (from botocore<2.0.0,>=1.19.8->awswrangler) (2.8.1)\n",
      "Requirement already satisfied: pyyaml in /home/ec2-user/anaconda3/envs/python3/lib/python3.6/site-packages (from dask[dataframe]>=2.10.0->swifter) (5.4.1)\n",
      "Requirement already satisfied: partd>=0.3.10 in /home/ec2-user/anaconda3/envs/python3/lib/python3.6/site-packages (from dask[dataframe]>=2.10.0->swifter) (1.1.0)\n",
      "Requirement already satisfied: toolz>=0.8.2 in /home/ec2-user/anaconda3/envs/python3/lib/python3.6/site-packages (from dask[dataframe]>=2.10.0->swifter) (0.11.1)\n",
      "Requirement already satisfied: fsspec>=0.6.0 in /home/ec2-user/anaconda3/envs/python3/lib/python3.6/site-packages (from dask[dataframe]>=2.10.0->swifter) (2021.4.0)\n",
      "Requirement already satisfied: ipython>=4.0.0 in /home/ec2-user/anaconda3/envs/python3/lib/python3.6/site-packages (from ipywidgets>=7.0.0->swifter) (7.16.1)\n",
      "Requirement already satisfied: jupyterlab-widgets>=1.0.0 in /home/ec2-user/anaconda3/envs/python3/lib/python3.6/site-packages (from ipywidgets>=7.0.0->swifter) (1.0.0)\n",
      "Requirement already satisfied: ipykernel>=4.5.1 in /home/ec2-user/anaconda3/envs/python3/lib/python3.6/site-packages (from ipywidgets>=7.0.0->swifter) (5.5.0)\n",
      "Requirement already satisfied: widgetsnbextension~=3.5.0 in /home/ec2-user/anaconda3/envs/python3/lib/python3.6/site-packages (from ipywidgets>=7.0.0->swifter) (3.5.1)\n",
      "Requirement already satisfied: traitlets>=4.3.1 in /home/ec2-user/anaconda3/envs/python3/lib/python3.6/site-packages (from ipywidgets>=7.0.0->swifter) (4.3.3)\n",
      "Requirement already satisfied: nbformat>=4.2.0 in /home/ec2-user/anaconda3/envs/python3/lib/python3.6/site-packages (from ipywidgets>=7.0.0->swifter) (5.1.2)\n",
      "Requirement already satisfied: tornado>=4.2 in /home/ec2-user/anaconda3/envs/python3/lib/python3.6/site-packages (from ipykernel>=4.5.1->ipywidgets>=7.0.0->swifter) (6.1)\n",
      "Requirement already satisfied: jupyter-client in /home/ec2-user/anaconda3/envs/python3/lib/python3.6/site-packages (from ipykernel>=4.5.1->ipywidgets>=7.0.0->swifter) (6.1.11)\n",
      "Requirement already satisfied: prompt-toolkit!=3.0.0,!=3.0.1,<3.1.0,>=2.0.0 in /home/ec2-user/anaconda3/envs/python3/lib/python3.6/site-packages (from ipython>=4.0.0->ipywidgets>=7.0.0->swifter) (3.0.5)\n",
      "Requirement already satisfied: pygments in /home/ec2-user/anaconda3/envs/python3/lib/python3.6/site-packages (from ipython>=4.0.0->ipywidgets>=7.0.0->swifter) (2.8.0)\n",
      "Requirement already satisfied: pexpect in /home/ec2-user/anaconda3/envs/python3/lib/python3.6/site-packages (from ipython>=4.0.0->ipywidgets>=7.0.0->swifter) (4.8.0)\n",
      "Requirement already satisfied: pickleshare in /home/ec2-user/anaconda3/envs/python3/lib/python3.6/site-packages (from ipython>=4.0.0->ipywidgets>=7.0.0->swifter) (0.7.5)\n",
      "Requirement already satisfied: jedi>=0.10 in /home/ec2-user/anaconda3/envs/python3/lib/python3.6/site-packages (from ipython>=4.0.0->ipywidgets>=7.0.0->swifter) (0.17.2)\n",
      "Requirement already satisfied: backcall in /home/ec2-user/anaconda3/envs/python3/lib/python3.6/site-packages (from ipython>=4.0.0->ipywidgets>=7.0.0->swifter) (0.2.0)\n",
      "Requirement already satisfied: decorator in /home/ec2-user/anaconda3/envs/python3/lib/python3.6/site-packages (from ipython>=4.0.0->ipywidgets>=7.0.0->swifter) (4.4.2)\n",
      "Requirement already satisfied: setuptools>=18.5 in /home/ec2-user/anaconda3/envs/python3/lib/python3.6/site-packages (from ipython>=4.0.0->ipywidgets>=7.0.0->swifter) (49.6.0.post20210108)\n",
      "Requirement already satisfied: ipython-genutils in /home/ec2-user/anaconda3/envs/python3/lib/python3.6/site-packages (from nbformat>=4.2.0->ipywidgets>=7.0.0->swifter) (0.2.0)\n",
      "Requirement already satisfied: jsonschema!=2.5.0,>=2.4 in /home/ec2-user/anaconda3/envs/python3/lib/python3.6/site-packages (from nbformat>=4.2.0->ipywidgets>=7.0.0->swifter) (3.2.0)\n",
      "Requirement already satisfied: jupyter-core in /home/ec2-user/anaconda3/envs/python3/lib/python3.6/site-packages (from nbformat>=4.2.0->ipywidgets>=7.0.0->swifter) (4.7.1)\n",
      "Requirement already satisfied: importlib-metadata in /home/ec2-user/anaconda3/envs/python3/lib/python3.6/site-packages (from jsonschema!=2.5.0,>=2.4->nbformat>=4.2.0->ipywidgets>=7.0.0->swifter) (3.7.0)\n",
      "Requirement already satisfied: pyrsistent>=0.14.0 in /home/ec2-user/anaconda3/envs/python3/lib/python3.6/site-packages (from jsonschema!=2.5.0,>=2.4->nbformat>=4.2.0->ipywidgets>=7.0.0->swifter) (0.17.3)\n",
      "Requirement already satisfied: attrs>=17.4.0 in /home/ec2-user/anaconda3/envs/python3/lib/python3.6/site-packages (from jsonschema!=2.5.0,>=2.4->nbformat>=4.2.0->ipywidgets>=7.0.0->swifter) (20.3.0)\n",
      "Requirement already satisfied: jdcal in /home/ec2-user/anaconda3/envs/python3/lib/python3.6/site-packages (from openpyxl<3.1.0,>=3.0.0->awswrangler) (1.4.1)\n",
      "Requirement already satisfied: et-xmlfile in /home/ec2-user/anaconda3/envs/python3/lib/python3.6/site-packages (from openpyxl<3.1.0,>=3.0.0->awswrangler) (1.0.1)\n",
      "Requirement already satisfied: pytz>=2017.2 in /home/ec2-user/anaconda3/envs/python3/lib/python3.6/site-packages (from pandas<1.2.0,>=1.1.0->awswrangler) (2021.1)\n",
      "Requirement already satisfied: locket in /home/ec2-user/anaconda3/envs/python3/lib/python3.6/site-packages (from partd>=0.3.10->dask[dataframe]>=2.10.0->swifter) (0.2.0)\n",
      "Requirement already satisfied: scramp>=1.4.1 in /home/ec2-user/anaconda3/envs/python3/lib/python3.6/site-packages (from pg8000<1.22.0,>=1.16.0->awswrangler) (1.4.1)\n",
      "Requirement already satisfied: wcwidth in /home/ec2-user/anaconda3/envs/python3/lib/python3.6/site-packages (from prompt-toolkit!=3.0.0,!=3.0.1,<3.1.0,>=2.0.0->ipython>=4.0.0->ipywidgets>=7.0.0->swifter) (0.2.5)\n",
      "Requirement already satisfied: beautifulsoup4<5.0.0,>=4.7.0 in /home/ec2-user/anaconda3/envs/python3/lib/python3.6/site-packages (from redshift-connector<2.1.0,>=2.0.884->awswrangler) (4.9.3)\n",
      "Requirement already satisfied: lxml>=4.6.2 in /home/ec2-user/anaconda3/envs/python3/lib/python3.6/site-packages (from redshift-connector<2.1.0,>=2.0.884->awswrangler) (4.6.3)\n",
      "Requirement already satisfied: requests<2.26.1,>=2.23.0 in /home/ec2-user/anaconda3/envs/python3/lib/python3.6/site-packages (from redshift-connector<2.1.0,>=2.0.884->awswrangler) (2.26.0)\n",
      "Requirement already satisfied: soupsieve>1.2 in /home/ec2-user/anaconda3/envs/python3/lib/python3.6/site-packages (from beautifulsoup4<5.0.0,>=4.7.0->redshift-connector<2.1.0,>=2.0.884->awswrangler) (2.0.1)\n",
      "Requirement already satisfied: idna<4,>=2.5 in /home/ec2-user/anaconda3/envs/python3/lib/python3.6/site-packages (from requests<2.26.1,>=2.23.0->redshift-connector<2.1.0,>=2.0.884->awswrangler) (3.1)\n",
      "Requirement already satisfied: certifi>=2017.4.17 in /home/ec2-user/anaconda3/envs/python3/lib/python3.6/site-packages (from requests<2.26.1,>=2.23.0->redshift-connector<2.1.0,>=2.0.884->awswrangler) (2021.5.30)\n",
      "Requirement already satisfied: charset-normalizer~=2.0.0 in /home/ec2-user/anaconda3/envs/python3/lib/python3.6/site-packages (from requests<2.26.1,>=2.23.0->redshift-connector<2.1.0,>=2.0.884->awswrangler) (2.0.6)\n",
      "Requirement already satisfied: asn1crypto>=1.4.0 in /home/ec2-user/anaconda3/envs/python3/lib/python3.6/site-packages (from scramp>=1.4.1->pg8000<1.22.0,>=1.16.0->awswrangler) (1.4.0)\n",
      "Requirement already satisfied: notebook>=4.4.1 in /home/ec2-user/anaconda3/envs/python3/lib/python3.6/site-packages (from widgetsnbextension~=3.5.0->ipywidgets>=7.0.0->swifter) (6.4.4)\n",
      "Requirement already satisfied: pyzmq>=17 in /home/ec2-user/anaconda3/envs/python3/lib/python3.6/site-packages (from notebook>=4.4.1->widgetsnbextension~=3.5.0->ipywidgets>=7.0.0->swifter) (22.0.3)\n",
      "Requirement already satisfied: argon2-cffi in /home/ec2-user/anaconda3/envs/python3/lib/python3.6/site-packages (from notebook>=4.4.1->widgetsnbextension~=3.5.0->ipywidgets>=7.0.0->swifter) (20.1.0)\n",
      "Requirement already satisfied: prometheus-client in /home/ec2-user/anaconda3/envs/python3/lib/python3.6/site-packages (from notebook>=4.4.1->widgetsnbextension~=3.5.0->ipywidgets>=7.0.0->swifter) (0.9.0)\n",
      "Requirement already satisfied: terminado>=0.8.3 in /home/ec2-user/anaconda3/envs/python3/lib/python3.6/site-packages (from notebook>=4.4.1->widgetsnbextension~=3.5.0->ipywidgets>=7.0.0->swifter) (0.9.2)\n",
      "Requirement already satisfied: Send2Trash>=1.5.0 in /home/ec2-user/anaconda3/envs/python3/lib/python3.6/site-packages (from notebook>=4.4.1->widgetsnbextension~=3.5.0->ipywidgets>=7.0.0->swifter) (1.5.0)\n",
      "Requirement already satisfied: jinja2 in /home/ec2-user/anaconda3/envs/python3/lib/python3.6/site-packages (from notebook>=4.4.1->widgetsnbextension~=3.5.0->ipywidgets>=7.0.0->swifter) (2.11.3)\n",
      "Requirement already satisfied: nbconvert in /home/ec2-user/anaconda3/envs/python3/lib/python3.6/site-packages (from notebook>=4.4.1->widgetsnbextension~=3.5.0->ipywidgets>=7.0.0->swifter) (6.0.7)\n",
      "Requirement already satisfied: ptyprocess in /home/ec2-user/anaconda3/envs/python3/lib/python3.6/site-packages (from terminado>=0.8.3->notebook>=4.4.1->widgetsnbextension~=3.5.0->ipywidgets>=7.0.0->swifter) (0.7.0)\n",
      "Requirement already satisfied: cffi>=1.0.0 in /home/ec2-user/anaconda3/envs/python3/lib/python3.6/site-packages (from argon2-cffi->notebook>=4.4.1->widgetsnbextension~=3.5.0->ipywidgets>=7.0.0->swifter) (1.14.5)\n",
      "Requirement already satisfied: pycparser in /home/ec2-user/anaconda3/envs/python3/lib/python3.6/site-packages (from cffi>=1.0.0->argon2-cffi->notebook>=4.4.1->widgetsnbextension~=3.5.0->ipywidgets>=7.0.0->swifter) (2.20)\n",
      "Requirement already satisfied: zipp>=0.5 in /home/ec2-user/anaconda3/envs/python3/lib/python3.6/site-packages (from importlib-metadata->jsonschema!=2.5.0,>=2.4->nbformat>=4.2.0->ipywidgets>=7.0.0->swifter) (3.4.0)\n",
      "Requirement already satisfied: typing-extensions>=3.6.4 in /home/ec2-user/anaconda3/envs/python3/lib/python3.6/site-packages (from importlib-metadata->jsonschema!=2.5.0,>=2.4->nbformat>=4.2.0->ipywidgets>=7.0.0->swifter) (3.10.0.2)\n",
      "Requirement already satisfied: MarkupSafe>=0.23 in /home/ec2-user/anaconda3/envs/python3/lib/python3.6/site-packages (from jinja2->notebook>=4.4.1->widgetsnbextension~=3.5.0->ipywidgets>=7.0.0->swifter) (1.1.1)\n",
      "Requirement already satisfied: testpath in /home/ec2-user/anaconda3/envs/python3/lib/python3.6/site-packages (from nbconvert->notebook>=4.4.1->widgetsnbextension~=3.5.0->ipywidgets>=7.0.0->swifter) (0.4.4)\n",
      "Requirement already satisfied: jupyterlab-pygments in /home/ec2-user/anaconda3/envs/python3/lib/python3.6/site-packages (from nbconvert->notebook>=4.4.1->widgetsnbextension~=3.5.0->ipywidgets>=7.0.0->swifter) (0.1.2)\n",
      "Requirement already satisfied: entrypoints>=0.2.2 in /home/ec2-user/anaconda3/envs/python3/lib/python3.6/site-packages (from nbconvert->notebook>=4.4.1->widgetsnbextension~=3.5.0->ipywidgets>=7.0.0->swifter) (0.3)\n",
      "Requirement already satisfied: nbclient<0.6.0,>=0.5.0 in /home/ec2-user/anaconda3/envs/python3/lib/python3.6/site-packages (from nbconvert->notebook>=4.4.1->widgetsnbextension~=3.5.0->ipywidgets>=7.0.0->swifter) (0.5.2)\n",
      "Requirement already satisfied: pandocfilters>=1.4.1 in /home/ec2-user/anaconda3/envs/python3/lib/python3.6/site-packages (from nbconvert->notebook>=4.4.1->widgetsnbextension~=3.5.0->ipywidgets>=7.0.0->swifter) (1.4.2)\n",
      "Requirement already satisfied: mistune<2,>=0.8.1 in /home/ec2-user/anaconda3/envs/python3/lib/python3.6/site-packages (from nbconvert->notebook>=4.4.1->widgetsnbextension~=3.5.0->ipywidgets>=7.0.0->swifter) (0.8.4)\n",
      "Requirement already satisfied: defusedxml in /home/ec2-user/anaconda3/envs/python3/lib/python3.6/site-packages (from nbconvert->notebook>=4.4.1->widgetsnbextension~=3.5.0->ipywidgets>=7.0.0->swifter) (0.6.0)\n",
      "Requirement already satisfied: nest-asyncio in /home/ec2-user/anaconda3/envs/python3/lib/python3.6/site-packages (from nbclient<0.6.0,>=0.5.0->nbconvert->notebook>=4.4.1->widgetsnbextension~=3.5.0->ipywidgets>=7.0.0->swifter) (1.4.3)\n",
      "Requirement already satisfied: async-generator in /home/ec2-user/anaconda3/envs/python3/lib/python3.6/site-packages (from nbclient<0.6.0,>=0.5.0->nbconvert->notebook>=4.4.1->widgetsnbextension~=3.5.0->ipywidgets>=7.0.0->swifter) (1.10)\n",
      "Requirement already satisfied: pyparsing>=2.0.2 in /home/ec2-user/anaconda3/envs/python3/lib/python3.6/site-packages (from packaging->bleach>=3.1.1->swifter) (2.4.7)\n"
     ]
    },
    {
     "data": {
      "text/plain": [
       "0"
      ]
     },
     "execution_count": 1,
     "metadata": {},
     "output_type": "execute_result"
    }
   ],
   "source": [
    "import pip\n",
    "\n",
    "package_names = ['awswrangler', 'swifter'] \n",
    "pip.main(['install'] + package_names + ['--upgrade'])"
   ]
  },
  {
   "cell_type": "code",
   "execution_count": 2,
   "id": "d4879435",
   "metadata": {},
   "outputs": [
    {
     "name": "stdout",
     "output_type": "stream",
     "text": [
      "////////////////////////////////////////////////// \n",
      "\n",
      "path_container_input:  /opt/ml/processing/input\n",
      "path_container_output:  /opt/ml/processing/output\n",
      "path_container_utils:  /opt/ml/processing/input/utils\n",
      "path_container_universo:  /opt/ml/processing/input/HM_UNIVERSO_PROPENSION_DESEMBOLSO_BPE\n",
      "target :::::::::  target_desembolso_f2m_mayor_30_menor_180\n"
     ]
    }
   ],
   "source": [
    "# Nativos\n",
    "from dateutil.relativedelta import relativedelta\n",
    "from time import gmtime, strftime\n",
    "from datetime import datetime\n",
    "import random as rn\n",
    "import joblib\n",
    "import json\n",
    "import sys\n",
    "import os\n",
    "import gc\n",
    "\n",
    "#nube\n",
    "from sagemaker.processing import ProcessingInput, ProcessingOutput\n",
    "from sagemaker.sklearn.processing import SKLearnProcessor\n",
    "from sagemaker import get_execution_role\n",
    "import awswrangler as wr\n",
    "import sagemaker\n",
    "import boto3\n",
    "\n",
    "#calculo\n",
    "import pandas as pd\n",
    "import numpy as np\n",
    "import scipy\n",
    "\n",
    "#grafico\n",
    "from IPython.display import display\n",
    "import matplotlib.pyplot as plt\n",
    "import seaborn as sns\n",
    "%matplotlib inline\n",
    "sns.set(style=\"whitegrid\")\n",
    "\n",
    "#Interacciones con output\n",
    "import warnings\n",
    "warnings.filterwarnings(\"ignore\")\n",
    "# warnings.simplefilter(action='ignore', category=FutureWarning)\n",
    "pd.set_option('display.max_rows', 500)\n",
    "pd.set_option('display.max_columns', 500)\n",
    "pd.set_option('display.width', 1000)\n",
    "\n",
    "from IPython.core.interactiveshell import InteractiveShell\n",
    "InteractiveShell.ast_node_interactivity = \"all\"\n",
    "\n",
    "gc.collect()\n",
    "# MODELS\n",
    "#from lightgbm import LGBMClassifier\n",
    "\n",
    "BASE_DIR = os.path.dirname(os.getcwd())\n",
    "if BASE_DIR not in sys.path: sys.path.append(BASE_DIR)\n",
    "#import scorecardpy as sc\n",
    "#from utils import *\n",
    "#from graphs import *\n",
    "\n",
    "SEED = 29082013\n",
    "os.environ['PYTHONHASHSEED'] = str(SEED)\n",
    "np.random.seed(SEED)\n",
    "rn.seed(SEED)\n",
    "\n",
    "#from utils import *\n",
    "#from modeler import *\n",
    "#subfolder = \"data\"\n",
    "# os.listdir(subfolder)\n",
    "\n",
    "from setup import *"
   ]
  },
  {
   "cell_type": "code",
   "execution_count": null,
   "id": "c1a6bd29",
   "metadata": {},
   "outputs": [],
   "source": []
  },
  {
   "cell_type": "markdown",
   "id": "074bf1bd",
   "metadata": {},
   "source": [
    "## >> Load last rcc month"
   ]
  },
  {
   "cell_type": "code",
   "execution_count": 3,
   "id": "7c2f8fad",
   "metadata": {},
   "outputs": [
    {
     "name": "stdout",
     "output_type": "stream",
     "text": [
      "\n",
      "    SELECT periodo, cod_sbs_val, target_desembolso_f2m_mayor_30_menor_180, sow_ibk, porc_coloc_direct_vig_cmpt, porc_coloc_direct_vig_cajas, porc_coloc_direct_vig_no_ibk, porc_coloc_direct_vig_bcos, sow_otros_bancos, porc_coloc_direct_vig_ibk, sow_cajas, saldo_coloc_direct_vig_cmpt, ult_var_saldo_ajustado_amt, saldo_coloc_direct_vig_no_ibk, saldo_coloc_direct_vig_cajas, saldo_reactiva, saldo_coloc_indirectas, var_neta_saldo_ajustado_u3_amt, saldo_fae, saldo_coloc_directas, saldo_coloc_direct_vig_bcos, saldo_coloc_direct_vig_ibk, saldo_coloc_direct_tc, deuda_sf_prom_ult9m, prom_reprog_u12m, nro_entid_financ_prom_ult9m_cnt, monto_adquirido_u6_amt, nro_var_10k_30k_negativa_u6, prom_gar_u12m, nroregs_reactiva_bcos, monto_pagado_u3_amt, nro_entidades, monto_pagado_ult_rcc_amt, tendencia_nro_coloc_direct_bancos_v2, prom_fae_u12m, nro_var_10k_30k_negativa_u3, nroregs_fae_bcos\n",
      "    FROM d_mdl_vpc_disc.HM_UNIVERSO_PROPENSION_DESEMBOLSO_BPE\n",
      "    WHERE PERIODO = (SELECT MAX(PERIODO) from d_mdl_vpc_disc.HM_UNIVERSO_PROPENSION_DESEMBOLSO_BPE)\n",
      "\n"
     ]
    }
   ],
   "source": [
    "query = \"\"\"\n",
    "    SELECT {}\n",
    "    FROM d_mdl_vpc_disc.HM_UNIVERSO_PROPENSION_DESEMBOLSO_BPE\n",
    "    WHERE PERIODO = (SELECT MAX(PERIODO) from d_mdl_vpc_disc.HM_UNIVERSO_PROPENSION_DESEMBOLSO_BPE)\n",
    "\"\"\".format(\n",
    "    ', '.join(cols_pre_export)\n",
    ")\n",
    "\n",
    "print(query)"
   ]
  },
  {
   "cell_type": "code",
   "execution_count": 4,
   "id": "14b6b274",
   "metadata": {},
   "outputs": [
    {
     "name": "stdout",
     "output_type": "stream",
     "text": [
      "(725032, 37)\n"
     ]
    },
    {
     "data": {
      "text/html": [
       "<div>\n",
       "<style scoped>\n",
       "    .dataframe tbody tr th:only-of-type {\n",
       "        vertical-align: middle;\n",
       "    }\n",
       "\n",
       "    .dataframe tbody tr th {\n",
       "        vertical-align: top;\n",
       "    }\n",
       "\n",
       "    .dataframe thead th {\n",
       "        text-align: right;\n",
       "    }\n",
       "</style>\n",
       "<table border=\"1\" class=\"dataframe\">\n",
       "  <thead>\n",
       "    <tr style=\"text-align: right;\">\n",
       "      <th></th>\n",
       "      <th>periodo</th>\n",
       "      <th>cod_sbs_val</th>\n",
       "      <th>target_desembolso_f2m_mayor_30_menor_180</th>\n",
       "      <th>sow_ibk</th>\n",
       "      <th>porc_coloc_direct_vig_cmpt</th>\n",
       "      <th>porc_coloc_direct_vig_cajas</th>\n",
       "      <th>porc_coloc_direct_vig_no_ibk</th>\n",
       "      <th>porc_coloc_direct_vig_bcos</th>\n",
       "      <th>sow_otros_bancos</th>\n",
       "      <th>porc_coloc_direct_vig_ibk</th>\n",
       "      <th>sow_cajas</th>\n",
       "      <th>saldo_coloc_direct_vig_cmpt</th>\n",
       "      <th>ult_var_saldo_ajustado_amt</th>\n",
       "      <th>saldo_coloc_direct_vig_no_ibk</th>\n",
       "      <th>saldo_coloc_direct_vig_cajas</th>\n",
       "      <th>saldo_reactiva</th>\n",
       "      <th>saldo_coloc_indirectas</th>\n",
       "      <th>var_neta_saldo_ajustado_u3_amt</th>\n",
       "      <th>saldo_fae</th>\n",
       "      <th>saldo_coloc_directas</th>\n",
       "      <th>saldo_coloc_direct_vig_bcos</th>\n",
       "      <th>saldo_coloc_direct_vig_ibk</th>\n",
       "      <th>saldo_coloc_direct_tc</th>\n",
       "      <th>deuda_sf_prom_ult9m</th>\n",
       "      <th>prom_reprog_u12m</th>\n",
       "      <th>nro_entid_financ_prom_ult9m_cnt</th>\n",
       "      <th>monto_adquirido_u6_amt</th>\n",
       "      <th>nro_var_10k_30k_negativa_u6</th>\n",
       "      <th>prom_gar_u12m</th>\n",
       "      <th>nroregs_reactiva_bcos</th>\n",
       "      <th>monto_pagado_u3_amt</th>\n",
       "      <th>nro_entidades</th>\n",
       "      <th>monto_pagado_ult_rcc_amt</th>\n",
       "      <th>tendencia_nro_coloc_direct_bancos_v2</th>\n",
       "      <th>prom_fae_u12m</th>\n",
       "      <th>nro_var_10k_30k_negativa_u3</th>\n",
       "      <th>nroregs_fae_bcos</th>\n",
       "    </tr>\n",
       "  </thead>\n",
       "  <tbody>\n",
       "    <tr>\n",
       "      <th>0</th>\n",
       "      <td>202108</td>\n",
       "      <td>0135142913</td>\n",
       "      <td>0.000</td>\n",
       "      <td>0.000</td>\n",
       "      <td>0.000</td>\n",
       "      <td>1.000</td>\n",
       "      <td>0.000</td>\n",
       "      <td>0.000</td>\n",
       "      <td>0.000</td>\n",
       "      <td>0.000</td>\n",
       "      <td>1.000</td>\n",
       "      <td>0.000</td>\n",
       "      <td>-1158.300</td>\n",
       "      <td>0.000</td>\n",
       "      <td>1182.750</td>\n",
       "      <td>0.000</td>\n",
       "      <td>0.000</td>\n",
       "      <td>-3407.250</td>\n",
       "      <td>17015.040</td>\n",
       "      <td>1182.750</td>\n",
       "      <td>0.000</td>\n",
       "      <td>0.000</td>\n",
       "      <td>0.000</td>\n",
       "      <td>27026.13</td>\n",
       "      <td>3544.860000</td>\n",
       "      <td>1</td>\n",
       "      <td>0.000</td>\n",
       "      <td>0</td>\n",
       "      <td>30066.666667</td>\n",
       "      <td>0</td>\n",
       "      <td>3407.250</td>\n",
       "      <td>1</td>\n",
       "      <td>1158.300</td>\n",
       "      <td>0.0</td>\n",
       "      <td>19803.734167</td>\n",
       "      <td>0</td>\n",
       "      <td>0</td>\n",
       "    </tr>\n",
       "    <tr>\n",
       "      <th>1</th>\n",
       "      <td>202108</td>\n",
       "      <td>0120836005</td>\n",
       "      <td>0.000</td>\n",
       "      <td>0.000</td>\n",
       "      <td>0.000</td>\n",
       "      <td>1.000</td>\n",
       "      <td>0.000</td>\n",
       "      <td>0.000</td>\n",
       "      <td>0.000</td>\n",
       "      <td>0.000</td>\n",
       "      <td>1.000</td>\n",
       "      <td>0.000</td>\n",
       "      <td>0.000</td>\n",
       "      <td>0.000</td>\n",
       "      <td>90155.960</td>\n",
       "      <td>6121.290</td>\n",
       "      <td>0.000</td>\n",
       "      <td>-1653.990</td>\n",
       "      <td>0.000</td>\n",
       "      <td>90155.960</td>\n",
       "      <td>0.000</td>\n",
       "      <td>0.000</td>\n",
       "      <td>0.000</td>\n",
       "      <td>87424.75</td>\n",
       "      <td>27930.186667</td>\n",
       "      <td>1</td>\n",
       "      <td>32656.960</td>\n",
       "      <td>1</td>\n",
       "      <td>0.000000</td>\n",
       "      <td>0</td>\n",
       "      <td>2043.820</td>\n",
       "      <td>1</td>\n",
       "      <td>0.000</td>\n",
       "      <td>0.0</td>\n",
       "      <td>0.000000</td>\n",
       "      <td>0</td>\n",
       "      <td>0</td>\n",
       "    </tr>\n",
       "    <tr>\n",
       "      <th>2</th>\n",
       "      <td>202108</td>\n",
       "      <td>0117933857</td>\n",
       "      <td>0.000</td>\n",
       "      <td>0.000</td>\n",
       "      <td>0.000</td>\n",
       "      <td>0.000</td>\n",
       "      <td>1.000</td>\n",
       "      <td>1.000</td>\n",
       "      <td>1.000</td>\n",
       "      <td>0.000</td>\n",
       "      <td>0.000</td>\n",
       "      <td>0.000</td>\n",
       "      <td>-438.540</td>\n",
       "      <td>46276.540</td>\n",
       "      <td>0.000</td>\n",
       "      <td>0.000</td>\n",
       "      <td>0.000</td>\n",
       "      <td>-1351.980</td>\n",
       "      <td>0.000</td>\n",
       "      <td>46276.540</td>\n",
       "      <td>46276.540</td>\n",
       "      <td>0.000</td>\n",
       "      <td>0.000</td>\n",
       "      <td>47755.83</td>\n",
       "      <td>47284.645000</td>\n",
       "      <td>1</td>\n",
       "      <td>0.000</td>\n",
       "      <td>0</td>\n",
       "      <td>47285.645000</td>\n",
       "      <td>0</td>\n",
       "      <td>1351.980</td>\n",
       "      <td>1</td>\n",
       "      <td>438.540</td>\n",
       "      <td>1.0</td>\n",
       "      <td>0.000000</td>\n",
       "      <td>0</td>\n",
       "      <td>0</td>\n",
       "    </tr>\n",
       "    <tr>\n",
       "      <th>3</th>\n",
       "      <td>202108</td>\n",
       "      <td>0035357246</td>\n",
       "      <td>0.000</td>\n",
       "      <td>0.000</td>\n",
       "      <td>0.000</td>\n",
       "      <td>0.000</td>\n",
       "      <td>0.000</td>\n",
       "      <td>0.000</td>\n",
       "      <td>0.000</td>\n",
       "      <td>0.000</td>\n",
       "      <td>0.000</td>\n",
       "      <td>0.000</td>\n",
       "      <td>-1135.430</td>\n",
       "      <td>0.000</td>\n",
       "      <td>0.000</td>\n",
       "      <td>0.000</td>\n",
       "      <td>0.000</td>\n",
       "      <td>-3393.680</td>\n",
       "      <td>0.000</td>\n",
       "      <td>78912.240</td>\n",
       "      <td>0.000</td>\n",
       "      <td>0.000</td>\n",
       "      <td>0.000</td>\n",
       "      <td>83307.79</td>\n",
       "      <td>36221.618333</td>\n",
       "      <td>1</td>\n",
       "      <td>0.000</td>\n",
       "      <td>0</td>\n",
       "      <td>0.000000</td>\n",
       "      <td>0</td>\n",
       "      <td>3393.680</td>\n",
       "      <td>1</td>\n",
       "      <td>1135.430</td>\n",
       "      <td>1.0</td>\n",
       "      <td>0.000000</td>\n",
       "      <td>0</td>\n",
       "      <td>0</td>\n",
       "    </tr>\n",
       "    <tr>\n",
       "      <th>4</th>\n",
       "      <td>202108</td>\n",
       "      <td>0199482734</td>\n",
       "      <td>0.000</td>\n",
       "      <td>1.000</td>\n",
       "      <td>0.000</td>\n",
       "      <td>0.000</td>\n",
       "      <td>0.000</td>\n",
       "      <td>1.000</td>\n",
       "      <td>0.000</td>\n",
       "      <td>1.000</td>\n",
       "      <td>0.000</td>\n",
       "      <td>0.000</td>\n",
       "      <td>-201.730</td>\n",
       "      <td>0.000</td>\n",
       "      <td>0.000</td>\n",
       "      <td>0.000</td>\n",
       "      <td>0.000</td>\n",
       "      <td>-606.530</td>\n",
       "      <td>0.000</td>\n",
       "      <td>893.520</td>\n",
       "      <td>893.520</td>\n",
       "      <td>893.520</td>\n",
       "      <td>0.000</td>\n",
       "      <td>557.34</td>\n",
       "      <td>0.000000</td>\n",
       "      <td>0</td>\n",
       "      <td>1500.050</td>\n",
       "      <td>0</td>\n",
       "      <td>0.000000</td>\n",
       "      <td>0</td>\n",
       "      <td>606.530</td>\n",
       "      <td>1</td>\n",
       "      <td>201.730</td>\n",
       "      <td>4.0</td>\n",
       "      <td>0.000000</td>\n",
       "      <td>0</td>\n",
       "      <td>0</td>\n",
       "    </tr>\n",
       "  </tbody>\n",
       "</table>\n",
       "</div>"
      ],
      "text/plain": [
       "  periodo cod_sbs_val target_desembolso_f2m_mayor_30_menor_180 sow_ibk porc_coloc_direct_vig_cmpt porc_coloc_direct_vig_cajas porc_coloc_direct_vig_no_ibk porc_coloc_direct_vig_bcos sow_otros_bancos porc_coloc_direct_vig_ibk sow_cajas saldo_coloc_direct_vig_cmpt ult_var_saldo_ajustado_amt saldo_coloc_direct_vig_no_ibk saldo_coloc_direct_vig_cajas saldo_reactiva saldo_coloc_indirectas var_neta_saldo_ajustado_u3_amt  saldo_fae saldo_coloc_directas saldo_coloc_direct_vig_bcos saldo_coloc_direct_vig_ibk saldo_coloc_direct_tc deuda_sf_prom_ult9m  prom_reprog_u12m  nro_entid_financ_prom_ult9m_cnt monto_adquirido_u6_amt  nro_var_10k_30k_negativa_u6  prom_gar_u12m  nroregs_reactiva_bcos monto_pagado_u3_amt  nro_entidades monto_pagado_ult_rcc_amt  tendencia_nro_coloc_direct_bancos_v2  prom_fae_u12m  nro_var_10k_30k_negativa_u3  nroregs_fae_bcos\n",
       "0  202108  0135142913                                    0.000   0.000                      0.000                       1.000                        0.000                      0.000            0.000                     0.000     1.000                       0.000                  -1158.300                         0.000                     1182.750          0.000                  0.000                      -3407.250  17015.040             1182.750                       0.000                      0.000                 0.000            27026.13       3544.860000                                1                  0.000                            0   30066.666667                      0            3407.250              1                 1158.300                                   0.0   19803.734167                            0                 0\n",
       "1  202108  0120836005                                    0.000   0.000                      0.000                       1.000                        0.000                      0.000            0.000                     0.000     1.000                       0.000                      0.000                         0.000                    90155.960       6121.290                  0.000                      -1653.990      0.000            90155.960                       0.000                      0.000                 0.000            87424.75      27930.186667                                1              32656.960                            1       0.000000                      0            2043.820              1                    0.000                                   0.0       0.000000                            0                 0\n",
       "2  202108  0117933857                                    0.000   0.000                      0.000                       0.000                        1.000                      1.000            1.000                     0.000     0.000                       0.000                   -438.540                     46276.540                        0.000          0.000                  0.000                      -1351.980      0.000            46276.540                   46276.540                      0.000                 0.000            47755.83      47284.645000                                1                  0.000                            0   47285.645000                      0            1351.980              1                  438.540                                   1.0       0.000000                            0                 0\n",
       "3  202108  0035357246                                    0.000   0.000                      0.000                       0.000                        0.000                      0.000            0.000                     0.000     0.000                       0.000                  -1135.430                         0.000                        0.000          0.000                  0.000                      -3393.680      0.000            78912.240                       0.000                      0.000                 0.000            83307.79      36221.618333                                1                  0.000                            0       0.000000                      0            3393.680              1                 1135.430                                   1.0       0.000000                            0                 0\n",
       "4  202108  0199482734                                    0.000   1.000                      0.000                       0.000                        0.000                      1.000            0.000                     1.000     0.000                       0.000                   -201.730                         0.000                        0.000          0.000                  0.000                       -606.530      0.000              893.520                     893.520                    893.520                 0.000              557.34          0.000000                                0               1500.050                            0       0.000000                      0             606.530              1                  201.730                                   4.0       0.000000                            0                 0"
      ]
     },
     "execution_count": 4,
     "metadata": {},
     "output_type": "execute_result"
    }
   ],
   "source": [
    "df = wr.athena.read_sql_query(query, database=\"e_perm_aws\",ctas_approach=False)\n",
    "print(df.shape)\n",
    "\n",
    "df.head()"
   ]
  },
  {
   "cell_type": "code",
   "execution_count": null,
   "id": "1f5fdff7",
   "metadata": {},
   "outputs": [],
   "source": []
  },
  {
   "cell_type": "markdown",
   "id": "8a6b1361",
   "metadata": {},
   "source": [
    "### CORRECION DE TIPADO"
   ]
  },
  {
   "cell_type": "code",
   "execution_count": 5,
   "id": "3d715490",
   "metadata": {},
   "outputs": [
    {
     "name": "stdout",
     "output_type": "stream",
     "text": [
      "NumExpr defaulting to 4 threads.\n"
     ]
    },
    {
     "data": {
      "application/vnd.jupyter.widget-view+json": {
       "model_id": "e6474bda03e649e09f72146dedec8ede",
       "version_major": 2,
       "version_minor": 0
      },
      "text/plain": [
       "Pandas Apply:   0%|          | 0/725032 [00:00<?, ?it/s]"
      ]
     },
     "metadata": {},
     "output_type": "display_data"
    }
   ],
   "source": [
    "import swifter\n",
    "\n",
    "def convert_num(val):\n",
    "    try:\n",
    "        return float(val)\n",
    "    except:\n",
    "        print('|', val, '|')\n",
    "        return 0.0\n",
    "\n",
    "df[target] = df[target].swifter.apply(convert_num)"
   ]
  },
  {
   "cell_type": "code",
   "execution_count": 6,
   "id": "23b16d24",
   "metadata": {},
   "outputs": [],
   "source": [
    "cols_id = ['periodo_val', 'cod_sbs_val']"
   ]
  },
  {
   "cell_type": "code",
   "execution_count": 7,
   "id": "c6e41d03",
   "metadata": {},
   "outputs": [
    {
     "name": "stdout",
     "output_type": "stream",
     "text": [
      "11\n"
     ]
    }
   ],
   "source": [
    "cols_num = [col for col in df.describe().T.index if col not in cols_id]\n",
    "print(len(cols_num))"
   ]
  },
  {
   "cell_type": "code",
   "execution_count": 8,
   "id": "c9fc3c75",
   "metadata": {},
   "outputs": [
    {
     "name": "stdout",
     "output_type": "stream",
     "text": [
      "24\n"
     ]
    }
   ],
   "source": [
    "cols_str = [col for col in list(df.select_dtypes(include=[object, bool]).columns) if col not in cols_id]\n",
    "print(len(cols_str))"
   ]
  },
  {
   "cell_type": "code",
   "execution_count": 9,
   "id": "9292b9ba",
   "metadata": {},
   "outputs": [
    {
     "name": "stdout",
     "output_type": "stream",
     "text": [
      "['sow_ibk', 'porc_coloc_direct_vig_cmpt', 'porc_coloc_direct_vig_cajas', 'porc_coloc_direct_vig_no_ibk', 'porc_coloc_direct_vig_bcos', 'sow_otros_bancos', 'porc_coloc_direct_vig_ibk', 'sow_cajas', 'saldo_coloc_direct_vig_cmpt', 'ult_var_saldo_ajustado_amt', 'saldo_coloc_direct_vig_no_ibk', 'saldo_coloc_direct_vig_cajas', 'saldo_reactiva', 'saldo_coloc_indirectas', 'var_neta_saldo_ajustado_u3_amt', 'saldo_fae', 'saldo_coloc_directas', 'saldo_coloc_direct_vig_bcos', 'saldo_coloc_direct_vig_ibk', 'saldo_coloc_direct_tc', 'deuda_sf_prom_ult9m', 'monto_adquirido_u6_amt', 'monto_pagado_u3_amt', 'monto_pagado_ult_rcc_amt']\n"
     ]
    }
   ],
   "source": [
    "col_convert_num = [\n",
    "    col for col in cols_str if not('_val' in col.lower() or '_cd' in col.lower())\n",
    "]\n",
    "\n",
    "print(col_convert_num)"
   ]
  },
  {
   "cell_type": "code",
   "execution_count": 10,
   "id": "7a6d7f70",
   "metadata": {},
   "outputs": [
    {
     "name": "stdout",
     "output_type": "stream",
     "text": [
      "///////////////////////// sow_ibk\n"
     ]
    },
    {
     "data": {
      "application/vnd.jupyter.widget-view+json": {
       "model_id": "6a41f65b469f490096179dfb6a37eb63",
       "version_major": 2,
       "version_minor": 0
      },
      "text/plain": [
       "Pandas Apply:   0%|          | 0/725032 [00:00<?, ?it/s]"
      ]
     },
     "metadata": {},
     "output_type": "display_data"
    },
    {
     "name": "stdout",
     "output_type": "stream",
     "text": [
      "///////////////////////// porc_coloc_direct_vig_cmpt\n"
     ]
    },
    {
     "data": {
      "application/vnd.jupyter.widget-view+json": {
       "model_id": "d8cac4e257904af4ab2914b4f09862a8",
       "version_major": 2,
       "version_minor": 0
      },
      "text/plain": [
       "Pandas Apply:   0%|          | 0/725032 [00:00<?, ?it/s]"
      ]
     },
     "metadata": {},
     "output_type": "display_data"
    },
    {
     "name": "stdout",
     "output_type": "stream",
     "text": [
      "///////////////////////// porc_coloc_direct_vig_cajas\n"
     ]
    },
    {
     "data": {
      "application/vnd.jupyter.widget-view+json": {
       "model_id": "59a6aca2c2984880ae8be9ef79387e76",
       "version_major": 2,
       "version_minor": 0
      },
      "text/plain": [
       "Pandas Apply:   0%|          | 0/725032 [00:00<?, ?it/s]"
      ]
     },
     "metadata": {},
     "output_type": "display_data"
    },
    {
     "name": "stdout",
     "output_type": "stream",
     "text": [
      "///////////////////////// porc_coloc_direct_vig_no_ibk\n"
     ]
    },
    {
     "data": {
      "application/vnd.jupyter.widget-view+json": {
       "model_id": "617745e1915e4172a395e0eef28f2526",
       "version_major": 2,
       "version_minor": 0
      },
      "text/plain": [
       "Pandas Apply:   0%|          | 0/725032 [00:00<?, ?it/s]"
      ]
     },
     "metadata": {},
     "output_type": "display_data"
    },
    {
     "name": "stdout",
     "output_type": "stream",
     "text": [
      "///////////////////////// porc_coloc_direct_vig_bcos\n"
     ]
    },
    {
     "data": {
      "application/vnd.jupyter.widget-view+json": {
       "model_id": "b8c8272b6eb5423f962c11c7132bb661",
       "version_major": 2,
       "version_minor": 0
      },
      "text/plain": [
       "Pandas Apply:   0%|          | 0/725032 [00:00<?, ?it/s]"
      ]
     },
     "metadata": {},
     "output_type": "display_data"
    },
    {
     "name": "stdout",
     "output_type": "stream",
     "text": [
      "///////////////////////// sow_otros_bancos\n"
     ]
    },
    {
     "data": {
      "application/vnd.jupyter.widget-view+json": {
       "model_id": "51b5d81350d64280aefe6cb765bfb77e",
       "version_major": 2,
       "version_minor": 0
      },
      "text/plain": [
       "Pandas Apply:   0%|          | 0/725032 [00:00<?, ?it/s]"
      ]
     },
     "metadata": {},
     "output_type": "display_data"
    },
    {
     "name": "stdout",
     "output_type": "stream",
     "text": [
      "///////////////////////// porc_coloc_direct_vig_ibk\n"
     ]
    },
    {
     "data": {
      "application/vnd.jupyter.widget-view+json": {
       "model_id": "1bb1fa0081ff4348a07cb14f40f0c8c7",
       "version_major": 2,
       "version_minor": 0
      },
      "text/plain": [
       "Pandas Apply:   0%|          | 0/725032 [00:00<?, ?it/s]"
      ]
     },
     "metadata": {},
     "output_type": "display_data"
    },
    {
     "name": "stdout",
     "output_type": "stream",
     "text": [
      "///////////////////////// sow_cajas\n"
     ]
    },
    {
     "data": {
      "application/vnd.jupyter.widget-view+json": {
       "model_id": "b4c89959b1944811a2fb93f8d8b56f0a",
       "version_major": 2,
       "version_minor": 0
      },
      "text/plain": [
       "Pandas Apply:   0%|          | 0/725032 [00:00<?, ?it/s]"
      ]
     },
     "metadata": {},
     "output_type": "display_data"
    },
    {
     "name": "stdout",
     "output_type": "stream",
     "text": [
      "///////////////////////// saldo_coloc_direct_vig_cmpt\n"
     ]
    },
    {
     "data": {
      "application/vnd.jupyter.widget-view+json": {
       "model_id": "2ebd94e665e54fcea9cb1dcade7d0488",
       "version_major": 2,
       "version_minor": 0
      },
      "text/plain": [
       "Pandas Apply:   0%|          | 0/725032 [00:00<?, ?it/s]"
      ]
     },
     "metadata": {},
     "output_type": "display_data"
    },
    {
     "name": "stdout",
     "output_type": "stream",
     "text": [
      "///////////////////////// ult_var_saldo_ajustado_amt\n"
     ]
    },
    {
     "data": {
      "application/vnd.jupyter.widget-view+json": {
       "model_id": "6e183528230e4ddaaf74561798d7acff",
       "version_major": 2,
       "version_minor": 0
      },
      "text/plain": [
       "Pandas Apply:   0%|          | 0/725032 [00:00<?, ?it/s]"
      ]
     },
     "metadata": {},
     "output_type": "display_data"
    },
    {
     "name": "stdout",
     "output_type": "stream",
     "text": [
      "///////////////////////// saldo_coloc_direct_vig_no_ibk\n"
     ]
    },
    {
     "data": {
      "application/vnd.jupyter.widget-view+json": {
       "model_id": "3add5b0063c34e66b2bd5274262855ef",
       "version_major": 2,
       "version_minor": 0
      },
      "text/plain": [
       "Pandas Apply:   0%|          | 0/725032 [00:00<?, ?it/s]"
      ]
     },
     "metadata": {},
     "output_type": "display_data"
    },
    {
     "name": "stdout",
     "output_type": "stream",
     "text": [
      "///////////////////////// saldo_coloc_direct_vig_cajas\n"
     ]
    },
    {
     "data": {
      "application/vnd.jupyter.widget-view+json": {
       "model_id": "2945bbb7540a42b0979c66f417054693",
       "version_major": 2,
       "version_minor": 0
      },
      "text/plain": [
       "Pandas Apply:   0%|          | 0/725032 [00:00<?, ?it/s]"
      ]
     },
     "metadata": {},
     "output_type": "display_data"
    },
    {
     "name": "stdout",
     "output_type": "stream",
     "text": [
      "///////////////////////// saldo_reactiva\n"
     ]
    },
    {
     "data": {
      "application/vnd.jupyter.widget-view+json": {
       "model_id": "0e9c4bcbe8624a8bb04806b668577378",
       "version_major": 2,
       "version_minor": 0
      },
      "text/plain": [
       "Pandas Apply:   0%|          | 0/725032 [00:00<?, ?it/s]"
      ]
     },
     "metadata": {},
     "output_type": "display_data"
    },
    {
     "name": "stdout",
     "output_type": "stream",
     "text": [
      "///////////////////////// saldo_coloc_indirectas\n"
     ]
    },
    {
     "data": {
      "application/vnd.jupyter.widget-view+json": {
       "model_id": "c0074275552846aa877c21d706897af9",
       "version_major": 2,
       "version_minor": 0
      },
      "text/plain": [
       "Pandas Apply:   0%|          | 0/725032 [00:00<?, ?it/s]"
      ]
     },
     "metadata": {},
     "output_type": "display_data"
    },
    {
     "name": "stdout",
     "output_type": "stream",
     "text": [
      "///////////////////////// var_neta_saldo_ajustado_u3_amt\n"
     ]
    },
    {
     "data": {
      "application/vnd.jupyter.widget-view+json": {
       "model_id": "3e0a73c4bbdd46daa8f8bc8d3c2fa4c2",
       "version_major": 2,
       "version_minor": 0
      },
      "text/plain": [
       "Pandas Apply:   0%|          | 0/725032 [00:00<?, ?it/s]"
      ]
     },
     "metadata": {},
     "output_type": "display_data"
    },
    {
     "name": "stdout",
     "output_type": "stream",
     "text": [
      "///////////////////////// saldo_fae\n"
     ]
    },
    {
     "data": {
      "application/vnd.jupyter.widget-view+json": {
       "model_id": "b428c8d014254d3e82e3fd5d0b8c57b2",
       "version_major": 2,
       "version_minor": 0
      },
      "text/plain": [
       "Pandas Apply:   0%|          | 0/725032 [00:00<?, ?it/s]"
      ]
     },
     "metadata": {},
     "output_type": "display_data"
    },
    {
     "name": "stdout",
     "output_type": "stream",
     "text": [
      "///////////////////////// saldo_coloc_directas\n"
     ]
    },
    {
     "data": {
      "application/vnd.jupyter.widget-view+json": {
       "model_id": "43a691b005f84a6284e1b84747cbf1d0",
       "version_major": 2,
       "version_minor": 0
      },
      "text/plain": [
       "Pandas Apply:   0%|          | 0/725032 [00:00<?, ?it/s]"
      ]
     },
     "metadata": {},
     "output_type": "display_data"
    },
    {
     "name": "stdout",
     "output_type": "stream",
     "text": [
      "///////////////////////// saldo_coloc_direct_vig_bcos\n"
     ]
    },
    {
     "data": {
      "application/vnd.jupyter.widget-view+json": {
       "model_id": "c794170101ef438896a12f51f93895f0",
       "version_major": 2,
       "version_minor": 0
      },
      "text/plain": [
       "Pandas Apply:   0%|          | 0/725032 [00:00<?, ?it/s]"
      ]
     },
     "metadata": {},
     "output_type": "display_data"
    },
    {
     "name": "stdout",
     "output_type": "stream",
     "text": [
      "///////////////////////// saldo_coloc_direct_vig_ibk\n"
     ]
    },
    {
     "data": {
      "application/vnd.jupyter.widget-view+json": {
       "model_id": "70b6d4b2212a4a9bb9b8d0a239d47f16",
       "version_major": 2,
       "version_minor": 0
      },
      "text/plain": [
       "Pandas Apply:   0%|          | 0/725032 [00:00<?, ?it/s]"
      ]
     },
     "metadata": {},
     "output_type": "display_data"
    },
    {
     "name": "stdout",
     "output_type": "stream",
     "text": [
      "///////////////////////// saldo_coloc_direct_tc\n"
     ]
    },
    {
     "data": {
      "application/vnd.jupyter.widget-view+json": {
       "model_id": "77268d85187a4aa58498d75e6c953e96",
       "version_major": 2,
       "version_minor": 0
      },
      "text/plain": [
       "Pandas Apply:   0%|          | 0/725032 [00:00<?, ?it/s]"
      ]
     },
     "metadata": {},
     "output_type": "display_data"
    },
    {
     "name": "stdout",
     "output_type": "stream",
     "text": [
      "///////////////////////// deuda_sf_prom_ult9m\n"
     ]
    },
    {
     "data": {
      "application/vnd.jupyter.widget-view+json": {
       "model_id": "6dd1c5ba05b5407bb93d7be72e477c47",
       "version_major": 2,
       "version_minor": 0
      },
      "text/plain": [
       "Pandas Apply:   0%|          | 0/725032 [00:00<?, ?it/s]"
      ]
     },
     "metadata": {},
     "output_type": "display_data"
    },
    {
     "name": "stdout",
     "output_type": "stream",
     "text": [
      "///////////////////////// monto_adquirido_u6_amt\n"
     ]
    },
    {
     "data": {
      "application/vnd.jupyter.widget-view+json": {
       "model_id": "8c487a21ec37472bbf5f16ce06f05ccc",
       "version_major": 2,
       "version_minor": 0
      },
      "text/plain": [
       "Pandas Apply:   0%|          | 0/725032 [00:00<?, ?it/s]"
      ]
     },
     "metadata": {},
     "output_type": "display_data"
    },
    {
     "name": "stdout",
     "output_type": "stream",
     "text": [
      "///////////////////////// monto_pagado_u3_amt\n"
     ]
    },
    {
     "data": {
      "application/vnd.jupyter.widget-view+json": {
       "model_id": "0271751fce4849b2aedc0fd18e4cc2be",
       "version_major": 2,
       "version_minor": 0
      },
      "text/plain": [
       "Pandas Apply:   0%|          | 0/725032 [00:00<?, ?it/s]"
      ]
     },
     "metadata": {},
     "output_type": "display_data"
    },
    {
     "name": "stdout",
     "output_type": "stream",
     "text": [
      "///////////////////////// monto_pagado_ult_rcc_amt\n"
     ]
    },
    {
     "data": {
      "application/vnd.jupyter.widget-view+json": {
       "model_id": "fc083dda0ba644f59e23b7204f65990c",
       "version_major": 2,
       "version_minor": 0
      },
      "text/plain": [
       "Pandas Apply:   0%|          | 0/725032 [00:00<?, ?it/s]"
      ]
     },
     "metadata": {},
     "output_type": "display_data"
    }
   ],
   "source": [
    "for col in col_convert_num:\n",
    "    print(\"/\"*25, col)\n",
    "    df[col] = df[col].swifter.apply(convert_num)"
   ]
  },
  {
   "cell_type": "code",
   "execution_count": 11,
   "id": "3201ad4c",
   "metadata": {},
   "outputs": [
    {
     "name": "stdout",
     "output_type": "stream",
     "text": [
      "19\n"
     ]
    }
   ],
   "source": [
    "cols_num = [col for col in df[seleccionadas].describe().T.index if col not in cols_id]\n",
    "print(len(cols_num))"
   ]
  },
  {
   "cell_type": "code",
   "execution_count": 12,
   "id": "9626a8fc",
   "metadata": {},
   "outputs": [
    {
     "data": {
      "text/plain": [
       "True"
      ]
     },
     "execution_count": 12,
     "metadata": {},
     "output_type": "execute_result"
    }
   ],
   "source": [
    "len(cols_num) == len(seleccionadas)"
   ]
  },
  {
   "cell_type": "code",
   "execution_count": null,
   "id": "a31e7350",
   "metadata": {},
   "outputs": [],
   "source": []
  },
  {
   "cell_type": "markdown",
   "id": "727574ea",
   "metadata": {},
   "source": [
    "### COLUMNAS DE ANALISIS"
   ]
  },
  {
   "cell_type": "code",
   "execution_count": 13,
   "id": "c37837b3",
   "metadata": {},
   "outputs": [
    {
     "name": "stdout",
     "output_type": "stream",
     "text": [
      "(725032, 37)\n",
      "////////////////////////////////////////////////// porc_coloc_direct_vig_bcos\n",
      "////////////////////////////////////////////////// porc_coloc_direct_vig_cmpt\n",
      "////////////////////////////////////////////////// porc_coloc_direct_vig_no_ibk\n",
      "////////////////////////////////////////////////// porc_coloc_direct_vig_ibk\n",
      "////////////////////////////////////////////////// porc_coloc_direct_vig_cajas\n",
      "////////////////////////////////////////////////// sow_ibk\n",
      "////////////////////////////////////////////////// sow_otros_bancos\n",
      "////////////////////////////////////////////////// sow_cajas\n",
      "////////////////////////////////////////////////// nroregs_reactiva_bcos\n",
      "////////////////////////////////////////////////// nroregs_fae_bcos\n",
      "(725032, 56)\n"
     ]
    }
   ],
   "source": [
    "from UTILITARIO_CODE.utils import generate_groups\n",
    "\n",
    "print(df.shape)\n",
    "df = generate_groups(df)\n",
    "print(df.shape)"
   ]
  },
  {
   "cell_type": "code",
   "execution_count": null,
   "id": "c79e35c4",
   "metadata": {},
   "outputs": [],
   "source": []
  },
  {
   "cell_type": "code",
   "execution_count": null,
   "id": "11e57be7",
   "metadata": {},
   "outputs": [],
   "source": []
  },
  {
   "cell_type": "markdown",
   "id": "7efa9725",
   "metadata": {},
   "source": [
    "### PREDICCION"
   ]
  },
  {
   "cell_type": "code",
   "execution_count": 15,
   "id": "b19f04c6",
   "metadata": {},
   "outputs": [],
   "source": [
    "from sagemaker.estimator import Estimator, Transformer\n",
    "from sagemaker.serializers import CSVSerializer\n",
    "from sklearn.metrics import roc_auc_score\n",
    "\n",
    "def predict_(data, rows=1000):\n",
    "    split_array = np.array_split(data, int(data.shape[0] / float(rows) + 1))\n",
    "    predictions = ''\n",
    "    \n",
    "    for array in split_array:\n",
    "        predictions = ','.join(\n",
    "            [\n",
    "                predictions, \n",
    "                model_predictor.predict(array).decode('utf-8')\n",
    "            ]\n",
    "        )\n",
    "\n",
    "    return np.fromstring(predictions[1:], sep=',')"
   ]
  },
  {
   "cell_type": "code",
   "execution_count": 16,
   "id": "ef051536",
   "metadata": {},
   "outputs": [],
   "source": [
    "grupos_score = ['A', 'B', 'C', 'D', 'E', 'F', 'G', 'H', 'I', 'J'][::-1]\n",
    "cortes_deciles = [0, 0.1, 0.2, 0.3, 0.4, 0.5, 0.6, 0.7, 0.8, 0.9, 1]\n",
    "cortes_deciles_fino = [0, 0.1, 0.2, 0.3, 0.4, 0.6, 0.8, 0.9, 0.95, 0.99, 1]"
   ]
  },
  {
   "cell_type": "code",
   "execution_count": 17,
   "id": "b36de9dd",
   "metadata": {},
   "outputs": [
    {
     "data": {
      "text/plain": [
       "'xgboost-vpc-7-210927-1550-041-301a74a7'"
      ]
     },
     "execution_count": 17,
     "metadata": {},
     "output_type": "execute_result"
    }
   ],
   "source": [
    "model_code = 'xgboost-vpc-7-210927-1550-041-301a74a7'\n",
    "model_code"
   ]
  },
  {
   "cell_type": "code",
   "execution_count": 18,
   "id": "c8449a4c",
   "metadata": {},
   "outputs": [
    {
     "name": "stdout",
     "output_type": "stream",
     "text": [
      "\n",
      "2021-09-27 16:28:31 Starting - Preparing the instances for training\n",
      "2021-09-27 16:28:31 Downloading - Downloading input data\n",
      "2021-09-27 16:28:31 Training - Training image download completed. Training in progress.\n",
      "2021-09-27 16:28:31 Uploading - Uploading generated training model\n",
      "2021-09-27 16:28:31 Completed - Training job completed\n",
      "Creating model with name: xgboost-vpc-7-2021-09-28-05-42-52-020\n",
      "Creating endpoint with name xgboost-vpc-7-2021-09-28-05-42-52-020\n",
      "-----!text/csv xgboost-vpc-7-2021-09-28-05-42-52-020\n"
     ]
    }
   ],
   "source": [
    "model = Estimator.attach(model_code)\n",
    "\n",
    "model_predictor = model.deploy(\n",
    "    initial_instance_count=1, \n",
    "    instance_type='ml.m5.xlarge',\n",
    "    serializer=CSVSerializer()\n",
    ")    \n",
    "print(model_predictor.content_type, model_predictor.endpoint_name)"
   ]
  },
  {
   "cell_type": "code",
   "execution_count": 19,
   "id": "67dff3ce",
   "metadata": {},
   "outputs": [
    {
     "data": {
      "text/plain": [
       "<AxesSubplot:>"
      ]
     },
     "execution_count": 19,
     "metadata": {},
     "output_type": "execute_result"
    },
    {
     "data": {
      "image/png": "[encoded data removed]",
      "text/plain": [
       "<Figure size 432x288 with 1 Axes>"
      ]
     },
     "metadata": {},
     "output_type": "display_data"
    }
   ],
   "source": [
    "prediccion = predict_(df[seleccionadas].values)\n",
    "\n",
    "pd.Series(prediccion).hist()"
   ]
  },
  {
   "cell_type": "code",
   "execution_count": 20,
   "id": "84a34970",
   "metadata": {},
   "outputs": [
    {
     "data": {
      "text/plain": [
       "((10,), 0.9295591711997986)"
      ]
     },
     "execution_count": 20,
     "metadata": {},
     "output_type": "execute_result"
    }
   ],
   "source": [
    "prediccion[prediccion >= 0.5].shape, prediccion.max()"
   ]
  },
  {
   "cell_type": "code",
   "execution_count": 21,
   "id": "0909e622",
   "metadata": {},
   "outputs": [
    {
     "data": {
      "text/html": [
       "<div>\n",
       "<style scoped>\n",
       "    .dataframe tbody tr th:only-of-type {\n",
       "        vertical-align: middle;\n",
       "    }\n",
       "\n",
       "    .dataframe tbody tr th {\n",
       "        vertical-align: top;\n",
       "    }\n",
       "\n",
       "    .dataframe thead tr th {\n",
       "        text-align: left;\n",
       "    }\n",
       "\n",
       "    .dataframe thead tr:last-of-type th {\n",
       "        text-align: right;\n",
       "    }\n",
       "</style>\n",
       "<table border=\"1\" class=\"dataframe\">\n",
       "  <thead>\n",
       "    <tr>\n",
       "      <th></th>\n",
       "      <th colspan=\"2\" halign=\"left\">target_desembolso_f2m_mayor_30_menor_180</th>\n",
       "      <th>score_desembolso</th>\n",
       "    </tr>\n",
       "    <tr>\n",
       "      <th></th>\n",
       "      <th>mean</th>\n",
       "      <th>sum</th>\n",
       "      <th>mean</th>\n",
       "    </tr>\n",
       "    <tr>\n",
       "      <th>GRUPO_PROPENSION</th>\n",
       "      <th></th>\n",
       "      <th></th>\n",
       "      <th></th>\n",
       "    </tr>\n",
       "  </thead>\n",
       "  <tbody>\n",
       "    <tr>\n",
       "      <th>A</th>\n",
       "      <td>0.0</td>\n",
       "      <td>0.0</td>\n",
       "      <td>0.0953</td>\n",
       "    </tr>\n",
       "    <tr>\n",
       "      <th>B</th>\n",
       "      <td>0.0</td>\n",
       "      <td>0.0</td>\n",
       "      <td>0.0492</td>\n",
       "    </tr>\n",
       "    <tr>\n",
       "      <th>C</th>\n",
       "      <td>0.0</td>\n",
       "      <td>0.0</td>\n",
       "      <td>0.0350</td>\n",
       "    </tr>\n",
       "    <tr>\n",
       "      <th>D</th>\n",
       "      <td>0.0</td>\n",
       "      <td>0.0</td>\n",
       "      <td>0.0266</td>\n",
       "    </tr>\n",
       "    <tr>\n",
       "      <th>E</th>\n",
       "      <td>0.0</td>\n",
       "      <td>0.0</td>\n",
       "      <td>0.0208</td>\n",
       "    </tr>\n",
       "    <tr>\n",
       "      <th>F</th>\n",
       "      <td>0.0</td>\n",
       "      <td>0.0</td>\n",
       "      <td>0.0166</td>\n",
       "    </tr>\n",
       "    <tr>\n",
       "      <th>G</th>\n",
       "      <td>0.0</td>\n",
       "      <td>0.0</td>\n",
       "      <td>0.0133</td>\n",
       "    </tr>\n",
       "    <tr>\n",
       "      <th>H</th>\n",
       "      <td>0.0</td>\n",
       "      <td>0.0</td>\n",
       "      <td>0.0104</td>\n",
       "    </tr>\n",
       "    <tr>\n",
       "      <th>I</th>\n",
       "      <td>0.0</td>\n",
       "      <td>0.0</td>\n",
       "      <td>0.0080</td>\n",
       "    </tr>\n",
       "    <tr>\n",
       "      <th>J</th>\n",
       "      <td>0.0</td>\n",
       "      <td>0.0</td>\n",
       "      <td>0.0050</td>\n",
       "    </tr>\n",
       "  </tbody>\n",
       "</table>\n",
       "</div>"
      ],
      "text/plain": [
       "                 target_desembolso_f2m_mayor_30_menor_180      score_desembolso\n",
       "                                                     mean  sum             mean\n",
       "GRUPO_PROPENSION                                                               \n",
       "A                                                     0.0  0.0           0.0953\n",
       "B                                                     0.0  0.0           0.0492\n",
       "C                                                     0.0  0.0           0.0350\n",
       "D                                                     0.0  0.0           0.0266\n",
       "E                                                     0.0  0.0           0.0208\n",
       "F                                                     0.0  0.0           0.0166\n",
       "G                                                     0.0  0.0           0.0133\n",
       "H                                                     0.0  0.0           0.0104\n",
       "I                                                     0.0  0.0           0.0080\n",
       "J                                                     0.0  0.0           0.0050"
      ]
     },
     "execution_count": 21,
     "metadata": {},
     "output_type": "execute_result"
    }
   ],
   "source": [
    "df['score_desembolso'] = prediccion\n",
    "df['GRUPO_PROPENSION'] = list(pd.qcut(df['score_desembolso'], cortes_deciles, labels=grupos_score))\n",
    "\n",
    "group_ = df.groupby(by=['GRUPO_PROPENSION']).agg({\n",
    "    target: ['mean', 'sum'], \n",
    "    'score_desembolso': 'mean'\n",
    "})\n",
    "group_.round(4)"
   ]
  },
  {
   "cell_type": "code",
   "execution_count": 22,
   "id": "3752fc38",
   "metadata": {},
   "outputs": [
    {
     "data": {
      "text/html": [
       "<div>\n",
       "<style scoped>\n",
       "    .dataframe tbody tr th:only-of-type {\n",
       "        vertical-align: middle;\n",
       "    }\n",
       "\n",
       "    .dataframe tbody tr th {\n",
       "        vertical-align: top;\n",
       "    }\n",
       "\n",
       "    .dataframe thead tr th {\n",
       "        text-align: left;\n",
       "    }\n",
       "\n",
       "    .dataframe thead tr:last-of-type th {\n",
       "        text-align: right;\n",
       "    }\n",
       "</style>\n",
       "<table border=\"1\" class=\"dataframe\">\n",
       "  <thead>\n",
       "    <tr>\n",
       "      <th></th>\n",
       "      <th colspan=\"3\" halign=\"left\">target_desembolso_f2m_mayor_30_menor_180</th>\n",
       "      <th>score_desembolso</th>\n",
       "    </tr>\n",
       "    <tr>\n",
       "      <th></th>\n",
       "      <th>count</th>\n",
       "      <th>mean</th>\n",
       "      <th>sum</th>\n",
       "      <th>mean</th>\n",
       "    </tr>\n",
       "    <tr>\n",
       "      <th>GRUPO_PROPENSION_FINO</th>\n",
       "      <th></th>\n",
       "      <th></th>\n",
       "      <th></th>\n",
       "      <th></th>\n",
       "    </tr>\n",
       "  </thead>\n",
       "  <tbody>\n",
       "    <tr>\n",
       "      <th>A</th>\n",
       "      <td>7251</td>\n",
       "      <td>0.0</td>\n",
       "      <td>0.0</td>\n",
       "      <td>0.1881</td>\n",
       "    </tr>\n",
       "    <tr>\n",
       "      <th>B</th>\n",
       "      <td>29001</td>\n",
       "      <td>0.0</td>\n",
       "      <td>0.0</td>\n",
       "      <td>0.1038</td>\n",
       "    </tr>\n",
       "    <tr>\n",
       "      <th>C</th>\n",
       "      <td>36252</td>\n",
       "      <td>0.0</td>\n",
       "      <td>0.0</td>\n",
       "      <td>0.0699</td>\n",
       "    </tr>\n",
       "    <tr>\n",
       "      <th>D</th>\n",
       "      <td>72503</td>\n",
       "      <td>0.0</td>\n",
       "      <td>0.0</td>\n",
       "      <td>0.0492</td>\n",
       "    </tr>\n",
       "    <tr>\n",
       "      <th>E</th>\n",
       "      <td>145006</td>\n",
       "      <td>0.0</td>\n",
       "      <td>0.0</td>\n",
       "      <td>0.0308</td>\n",
       "    </tr>\n",
       "    <tr>\n",
       "      <th>F</th>\n",
       "      <td>145006</td>\n",
       "      <td>0.0</td>\n",
       "      <td>0.0</td>\n",
       "      <td>0.0187</td>\n",
       "    </tr>\n",
       "    <tr>\n",
       "      <th>G</th>\n",
       "      <td>72501</td>\n",
       "      <td>0.0</td>\n",
       "      <td>0.0</td>\n",
       "      <td>0.0133</td>\n",
       "    </tr>\n",
       "    <tr>\n",
       "      <th>H</th>\n",
       "      <td>72504</td>\n",
       "      <td>0.0</td>\n",
       "      <td>0.0</td>\n",
       "      <td>0.0104</td>\n",
       "    </tr>\n",
       "    <tr>\n",
       "      <th>I</th>\n",
       "      <td>72503</td>\n",
       "      <td>0.0</td>\n",
       "      <td>0.0</td>\n",
       "      <td>0.0080</td>\n",
       "    </tr>\n",
       "    <tr>\n",
       "      <th>J</th>\n",
       "      <td>72505</td>\n",
       "      <td>0.0</td>\n",
       "      <td>0.0</td>\n",
       "      <td>0.0050</td>\n",
       "    </tr>\n",
       "  </tbody>\n",
       "</table>\n",
       "</div>"
      ],
      "text/plain": [
       "                      target_desembolso_f2m_mayor_30_menor_180           score_desembolso\n",
       "                                                         count mean  sum             mean\n",
       "GRUPO_PROPENSION_FINO                                                                    \n",
       "A                                                         7251  0.0  0.0           0.1881\n",
       "B                                                        29001  0.0  0.0           0.1038\n",
       "C                                                        36252  0.0  0.0           0.0699\n",
       "D                                                        72503  0.0  0.0           0.0492\n",
       "E                                                       145006  0.0  0.0           0.0308\n",
       "F                                                       145006  0.0  0.0           0.0187\n",
       "G                                                        72501  0.0  0.0           0.0133\n",
       "H                                                        72504  0.0  0.0           0.0104\n",
       "I                                                        72503  0.0  0.0           0.0080\n",
       "J                                                        72505  0.0  0.0           0.0050"
      ]
     },
     "execution_count": 22,
     "metadata": {},
     "output_type": "execute_result"
    }
   ],
   "source": [
    "df['GRUPO_PROPENSION_FINO'] = list(pd.qcut(df['score_desembolso'], cortes_deciles_fino, labels=grupos_score))\n",
    "\n",
    "group = df.groupby(by=['GRUPO_PROPENSION_FINO']).agg({\n",
    "    target: ['count','mean', 'sum'], \n",
    "    'score_desembolso': 'mean'\n",
    "})\n",
    "group.round(4)"
   ]
  },
  {
   "cell_type": "code",
   "execution_count": 23,
   "id": "8418d869",
   "metadata": {},
   "outputs": [
    {
     "data": {
      "text/html": [
       "<div>\n",
       "<style scoped>\n",
       "    .dataframe tbody tr th:only-of-type {\n",
       "        vertical-align: middle;\n",
       "    }\n",
       "\n",
       "    .dataframe tbody tr th {\n",
       "        vertical-align: top;\n",
       "    }\n",
       "\n",
       "    .dataframe thead th {\n",
       "        text-align: right;\n",
       "    }\n",
       "</style>\n",
       "<table border=\"1\" class=\"dataframe\">\n",
       "  <thead>\n",
       "    <tr style=\"text-align: right;\">\n",
       "      <th></th>\n",
       "      <th>periodo</th>\n",
       "      <th>cod_sbs_val</th>\n",
       "      <th>target_desembolso_f2m_mayor_30_menor_180</th>\n",
       "      <th>sow_ibk</th>\n",
       "      <th>porc_coloc_direct_vig_cmpt</th>\n",
       "      <th>porc_coloc_direct_vig_cajas</th>\n",
       "      <th>porc_coloc_direct_vig_no_ibk</th>\n",
       "      <th>porc_coloc_direct_vig_bcos</th>\n",
       "      <th>sow_otros_bancos</th>\n",
       "      <th>porc_coloc_direct_vig_ibk</th>\n",
       "      <th>sow_cajas</th>\n",
       "      <th>saldo_coloc_direct_vig_cmpt</th>\n",
       "      <th>ult_var_saldo_ajustado_amt</th>\n",
       "      <th>saldo_coloc_direct_vig_no_ibk</th>\n",
       "      <th>saldo_coloc_direct_vig_cajas</th>\n",
       "      <th>saldo_reactiva</th>\n",
       "      <th>saldo_coloc_indirectas</th>\n",
       "      <th>var_neta_saldo_ajustado_u3_amt</th>\n",
       "      <th>saldo_fae</th>\n",
       "      <th>saldo_coloc_directas</th>\n",
       "      <th>saldo_coloc_direct_vig_bcos</th>\n",
       "      <th>saldo_coloc_direct_vig_ibk</th>\n",
       "      <th>saldo_coloc_direct_tc</th>\n",
       "      <th>deuda_sf_prom_ult9m</th>\n",
       "      <th>prom_reprog_u12m</th>\n",
       "      <th>nro_entid_financ_prom_ult9m_cnt</th>\n",
       "      <th>monto_adquirido_u6_amt</th>\n",
       "      <th>nro_var_10k_30k_negativa_u6</th>\n",
       "      <th>prom_gar_u12m</th>\n",
       "      <th>nroregs_reactiva_bcos</th>\n",
       "      <th>monto_pagado_u3_amt</th>\n",
       "      <th>nro_entidades</th>\n",
       "      <th>monto_pagado_ult_rcc_amt</th>\n",
       "      <th>tendencia_nro_coloc_direct_bancos_v2</th>\n",
       "      <th>prom_fae_u12m</th>\n",
       "      <th>nro_var_10k_30k_negativa_u3</th>\n",
       "      <th>nroregs_fae_bcos</th>\n",
       "      <th>_range_coloc_directas</th>\n",
       "      <th>_range_coloc_indirectas</th>\n",
       "      <th>_range_coloc_direct_vig_bcos</th>\n",
       "      <th>_range_coloc_direct_vig_cmpt</th>\n",
       "      <th>_range_coloc_direct_vig_no_ibk</th>\n",
       "      <th>_range_coloc_direct_vig_ibk</th>\n",
       "      <th>_range_coloc_direct_vig_cajas</th>\n",
       "      <th>_range_reactiva</th>\n",
       "      <th>_range_fae</th>\n",
       "      <th>_categoryc_coloc_direct_vig_bcos</th>\n",
       "      <th>_categoryc_coloc_direct_vig_competencia</th>\n",
       "      <th>_categoryc_coloc_direct_vig_no_ibk</th>\n",
       "      <th>_categoryc_coloc_direct_vig_ibk</th>\n",
       "      <th>_categoryc_coloc_direct_vig_cajas</th>\n",
       "      <th>_categoryc_sow_ibk</th>\n",
       "      <th>_categoryc_sow_otros_bancos</th>\n",
       "      <th>_categoryc_sow_cajas</th>\n",
       "      <th>_categoryc_nroregs_reactiva_bcos</th>\n",
       "      <th>_categoryc_nroregs_fae_bcos</th>\n",
       "      <th>score_desembolso</th>\n",
       "      <th>GRUPO_PROPENSION</th>\n",
       "      <th>GRUPO_PROPENSION_FINO</th>\n",
       "    </tr>\n",
       "  </thead>\n",
       "  <tbody>\n",
       "    <tr>\n",
       "      <th>0</th>\n",
       "      <td>202108</td>\n",
       "      <td>0135142913</td>\n",
       "      <td>0.0</td>\n",
       "      <td>0.0</td>\n",
       "      <td>0.0</td>\n",
       "      <td>1.0</td>\n",
       "      <td>0.0</td>\n",
       "      <td>0.0</td>\n",
       "      <td>0.0</td>\n",
       "      <td>0.0</td>\n",
       "      <td>1.0</td>\n",
       "      <td>0.0</td>\n",
       "      <td>-1158.30</td>\n",
       "      <td>0.00</td>\n",
       "      <td>1182.75</td>\n",
       "      <td>0.00</td>\n",
       "      <td>0.0</td>\n",
       "      <td>-3407.25</td>\n",
       "      <td>17015.04</td>\n",
       "      <td>1182.75</td>\n",
       "      <td>0.00</td>\n",
       "      <td>0.00</td>\n",
       "      <td>0.0</td>\n",
       "      <td>27026.13</td>\n",
       "      <td>3544.860000</td>\n",
       "      <td>1</td>\n",
       "      <td>0.00</td>\n",
       "      <td>0</td>\n",
       "      <td>30066.666667</td>\n",
       "      <td>0</td>\n",
       "      <td>3407.25</td>\n",
       "      <td>1</td>\n",
       "      <td>1158.30</td>\n",
       "      <td>0.0</td>\n",
       "      <td>19803.734167</td>\n",
       "      <td>0</td>\n",
       "      <td>0</td>\n",
       "      <td>1. &lt;0-10k]</td>\n",
       "      <td>0. &lt;:0]</td>\n",
       "      <td>0. &lt;:0]</td>\n",
       "      <td>0. &lt;:0]</td>\n",
       "      <td>0. &lt;:0]</td>\n",
       "      <td>0. &lt;:0]</td>\n",
       "      <td>1. &lt;0-10k]</td>\n",
       "      <td>0. &lt;:0]</td>\n",
       "      <td>2. &lt;10k:30k]</td>\n",
       "      <td>0. &lt;:0.0]</td>\n",
       "      <td>0. &lt;:0.0]</td>\n",
       "      <td>0. &lt;:0.0]</td>\n",
       "      <td>0. &lt;:0.0]</td>\n",
       "      <td>4. &lt;0.75:0.9]</td>\n",
       "      <td>0. &lt;:0.0]</td>\n",
       "      <td>0. &lt;:0.0]</td>\n",
       "      <td>4. &lt;0.75:0.9]</td>\n",
       "      <td>0</td>\n",
       "      <td>0</td>\n",
       "      <td>0.015564</td>\n",
       "      <td>F</td>\n",
       "      <td>F</td>\n",
       "    </tr>\n",
       "    <tr>\n",
       "      <th>1</th>\n",
       "      <td>202108</td>\n",
       "      <td>0120836005</td>\n",
       "      <td>0.0</td>\n",
       "      <td>0.0</td>\n",
       "      <td>0.0</td>\n",
       "      <td>1.0</td>\n",
       "      <td>0.0</td>\n",
       "      <td>0.0</td>\n",
       "      <td>0.0</td>\n",
       "      <td>0.0</td>\n",
       "      <td>1.0</td>\n",
       "      <td>0.0</td>\n",
       "      <td>0.00</td>\n",
       "      <td>0.00</td>\n",
       "      <td>90155.96</td>\n",
       "      <td>6121.29</td>\n",
       "      <td>0.0</td>\n",
       "      <td>-1653.99</td>\n",
       "      <td>0.00</td>\n",
       "      <td>90155.96</td>\n",
       "      <td>0.00</td>\n",
       "      <td>0.00</td>\n",
       "      <td>0.0</td>\n",
       "      <td>87424.75</td>\n",
       "      <td>27930.186667</td>\n",
       "      <td>1</td>\n",
       "      <td>32656.96</td>\n",
       "      <td>1</td>\n",
       "      <td>0.000000</td>\n",
       "      <td>0</td>\n",
       "      <td>2043.82</td>\n",
       "      <td>1</td>\n",
       "      <td>0.00</td>\n",
       "      <td>0.0</td>\n",
       "      <td>0.000000</td>\n",
       "      <td>0</td>\n",
       "      <td>0</td>\n",
       "      <td>&lt;3. 30k:120k]</td>\n",
       "      <td>0. &lt;:0]</td>\n",
       "      <td>0. &lt;:0]</td>\n",
       "      <td>0. &lt;:0]</td>\n",
       "      <td>0. &lt;:0]</td>\n",
       "      <td>0. &lt;:0]</td>\n",
       "      <td>&lt;3. 30k:120k]</td>\n",
       "      <td>1. &lt;0-10k]</td>\n",
       "      <td>0. &lt;:0]</td>\n",
       "      <td>0. &lt;:0.0]</td>\n",
       "      <td>0. &lt;:0.0]</td>\n",
       "      <td>0. &lt;:0.0]</td>\n",
       "      <td>0. &lt;:0.0]</td>\n",
       "      <td>4. &lt;0.75:0.9]</td>\n",
       "      <td>0. &lt;:0.0]</td>\n",
       "      <td>0. &lt;:0.0]</td>\n",
       "      <td>4. &lt;0.75:0.9]</td>\n",
       "      <td>0</td>\n",
       "      <td>0</td>\n",
       "      <td>0.030384</td>\n",
       "      <td>C</td>\n",
       "      <td>E</td>\n",
       "    </tr>\n",
       "    <tr>\n",
       "      <th>2</th>\n",
       "      <td>202108</td>\n",
       "      <td>0117933857</td>\n",
       "      <td>0.0</td>\n",
       "      <td>0.0</td>\n",
       "      <td>0.0</td>\n",
       "      <td>0.0</td>\n",
       "      <td>1.0</td>\n",
       "      <td>1.0</td>\n",
       "      <td>1.0</td>\n",
       "      <td>0.0</td>\n",
       "      <td>0.0</td>\n",
       "      <td>0.0</td>\n",
       "      <td>-438.54</td>\n",
       "      <td>46276.54</td>\n",
       "      <td>0.00</td>\n",
       "      <td>0.00</td>\n",
       "      <td>0.0</td>\n",
       "      <td>-1351.98</td>\n",
       "      <td>0.00</td>\n",
       "      <td>46276.54</td>\n",
       "      <td>46276.54</td>\n",
       "      <td>0.00</td>\n",
       "      <td>0.0</td>\n",
       "      <td>47755.83</td>\n",
       "      <td>47284.645000</td>\n",
       "      <td>1</td>\n",
       "      <td>0.00</td>\n",
       "      <td>0</td>\n",
       "      <td>47285.645000</td>\n",
       "      <td>0</td>\n",
       "      <td>1351.98</td>\n",
       "      <td>1</td>\n",
       "      <td>438.54</td>\n",
       "      <td>1.0</td>\n",
       "      <td>0.000000</td>\n",
       "      <td>0</td>\n",
       "      <td>0</td>\n",
       "      <td>&lt;3. 30k:120k]</td>\n",
       "      <td>0. &lt;:0]</td>\n",
       "      <td>&lt;3. 30k:120k]</td>\n",
       "      <td>0. &lt;:0]</td>\n",
       "      <td>&lt;3. 30k:120k]</td>\n",
       "      <td>0. &lt;:0]</td>\n",
       "      <td>0. &lt;:0]</td>\n",
       "      <td>0. &lt;:0]</td>\n",
       "      <td>0. &lt;:0]</td>\n",
       "      <td>4. &lt;0.75:0.9]</td>\n",
       "      <td>0. &lt;:0.0]</td>\n",
       "      <td>4. &lt;0.75:0.9]</td>\n",
       "      <td>0. &lt;:0.0]</td>\n",
       "      <td>0. &lt;:0.0]</td>\n",
       "      <td>0. &lt;:0.0]</td>\n",
       "      <td>4. &lt;0.75:0.9]</td>\n",
       "      <td>0. &lt;:0.0]</td>\n",
       "      <td>0</td>\n",
       "      <td>0</td>\n",
       "      <td>0.008850</td>\n",
       "      <td>I</td>\n",
       "      <td>I</td>\n",
       "    </tr>\n",
       "    <tr>\n",
       "      <th>3</th>\n",
       "      <td>202108</td>\n",
       "      <td>0035357246</td>\n",
       "      <td>0.0</td>\n",
       "      <td>0.0</td>\n",
       "      <td>0.0</td>\n",
       "      <td>0.0</td>\n",
       "      <td>0.0</td>\n",
       "      <td>0.0</td>\n",
       "      <td>0.0</td>\n",
       "      <td>0.0</td>\n",
       "      <td>0.0</td>\n",
       "      <td>0.0</td>\n",
       "      <td>-1135.43</td>\n",
       "      <td>0.00</td>\n",
       "      <td>0.00</td>\n",
       "      <td>0.00</td>\n",
       "      <td>0.0</td>\n",
       "      <td>-3393.68</td>\n",
       "      <td>0.00</td>\n",
       "      <td>78912.24</td>\n",
       "      <td>0.00</td>\n",
       "      <td>0.00</td>\n",
       "      <td>0.0</td>\n",
       "      <td>83307.79</td>\n",
       "      <td>36221.618333</td>\n",
       "      <td>1</td>\n",
       "      <td>0.00</td>\n",
       "      <td>0</td>\n",
       "      <td>0.000000</td>\n",
       "      <td>0</td>\n",
       "      <td>3393.68</td>\n",
       "      <td>1</td>\n",
       "      <td>1135.43</td>\n",
       "      <td>1.0</td>\n",
       "      <td>0.000000</td>\n",
       "      <td>0</td>\n",
       "      <td>0</td>\n",
       "      <td>&lt;3. 30k:120k]</td>\n",
       "      <td>0. &lt;:0]</td>\n",
       "      <td>0. &lt;:0]</td>\n",
       "      <td>0. &lt;:0]</td>\n",
       "      <td>0. &lt;:0]</td>\n",
       "      <td>0. &lt;:0]</td>\n",
       "      <td>0. &lt;:0]</td>\n",
       "      <td>0. &lt;:0]</td>\n",
       "      <td>0. &lt;:0]</td>\n",
       "      <td>0. &lt;:0.0]</td>\n",
       "      <td>0. &lt;:0.0]</td>\n",
       "      <td>0. &lt;:0.0]</td>\n",
       "      <td>0. &lt;:0.0]</td>\n",
       "      <td>0. &lt;:0.0]</td>\n",
       "      <td>0. &lt;:0.0]</td>\n",
       "      <td>0. &lt;:0.0]</td>\n",
       "      <td>0. &lt;:0.0]</td>\n",
       "      <td>0</td>\n",
       "      <td>0</td>\n",
       "      <td>0.018765</td>\n",
       "      <td>E</td>\n",
       "      <td>F</td>\n",
       "    </tr>\n",
       "    <tr>\n",
       "      <th>4</th>\n",
       "      <td>202108</td>\n",
       "      <td>0199482734</td>\n",
       "      <td>0.0</td>\n",
       "      <td>1.0</td>\n",
       "      <td>0.0</td>\n",
       "      <td>0.0</td>\n",
       "      <td>0.0</td>\n",
       "      <td>1.0</td>\n",
       "      <td>0.0</td>\n",
       "      <td>1.0</td>\n",
       "      <td>0.0</td>\n",
       "      <td>0.0</td>\n",
       "      <td>-201.73</td>\n",
       "      <td>0.00</td>\n",
       "      <td>0.00</td>\n",
       "      <td>0.00</td>\n",
       "      <td>0.0</td>\n",
       "      <td>-606.53</td>\n",
       "      <td>0.00</td>\n",
       "      <td>893.52</td>\n",
       "      <td>893.52</td>\n",
       "      <td>893.52</td>\n",
       "      <td>0.0</td>\n",
       "      <td>557.34</td>\n",
       "      <td>0.000000</td>\n",
       "      <td>0</td>\n",
       "      <td>1500.05</td>\n",
       "      <td>0</td>\n",
       "      <td>0.000000</td>\n",
       "      <td>0</td>\n",
       "      <td>606.53</td>\n",
       "      <td>1</td>\n",
       "      <td>201.73</td>\n",
       "      <td>4.0</td>\n",
       "      <td>0.000000</td>\n",
       "      <td>0</td>\n",
       "      <td>0</td>\n",
       "      <td>1. &lt;0-10k]</td>\n",
       "      <td>0. &lt;:0]</td>\n",
       "      <td>1. &lt;0-10k]</td>\n",
       "      <td>0. &lt;:0]</td>\n",
       "      <td>0. &lt;:0]</td>\n",
       "      <td>1. &lt;0-10k]</td>\n",
       "      <td>0. &lt;:0]</td>\n",
       "      <td>0. &lt;:0]</td>\n",
       "      <td>0. &lt;:0]</td>\n",
       "      <td>4. &lt;0.75:0.9]</td>\n",
       "      <td>0. &lt;:0.0]</td>\n",
       "      <td>0. &lt;:0.0]</td>\n",
       "      <td>4. &lt;0.75:0.9]</td>\n",
       "      <td>0. &lt;:0.0]</td>\n",
       "      <td>4. &lt;0.75:0.9]</td>\n",
       "      <td>0. &lt;:0.0]</td>\n",
       "      <td>0. &lt;:0.0]</td>\n",
       "      <td>0</td>\n",
       "      <td>0</td>\n",
       "      <td>0.005838</td>\n",
       "      <td>J</td>\n",
       "      <td>J</td>\n",
       "    </tr>\n",
       "  </tbody>\n",
       "</table>\n",
       "</div>"
      ],
      "text/plain": [
       "  periodo cod_sbs_val  target_desembolso_f2m_mayor_30_menor_180  sow_ibk  porc_coloc_direct_vig_cmpt  porc_coloc_direct_vig_cajas  porc_coloc_direct_vig_no_ibk  porc_coloc_direct_vig_bcos  sow_otros_bancos  porc_coloc_direct_vig_ibk  sow_cajas  saldo_coloc_direct_vig_cmpt  ult_var_saldo_ajustado_amt  saldo_coloc_direct_vig_no_ibk  saldo_coloc_direct_vig_cajas  saldo_reactiva  saldo_coloc_indirectas  var_neta_saldo_ajustado_u3_amt  saldo_fae  saldo_coloc_directas  saldo_coloc_direct_vig_bcos  saldo_coloc_direct_vig_ibk  saldo_coloc_direct_tc  deuda_sf_prom_ult9m  prom_reprog_u12m  nro_entid_financ_prom_ult9m_cnt  monto_adquirido_u6_amt  nro_var_10k_30k_negativa_u6  prom_gar_u12m  nroregs_reactiva_bcos  monto_pagado_u3_amt  nro_entidades  monto_pagado_ult_rcc_amt  tendencia_nro_coloc_direct_bancos_v2  prom_fae_u12m  nro_var_10k_30k_negativa_u3  nroregs_fae_bcos _range_coloc_directas _range_coloc_indirectas _range_coloc_direct_vig_bcos _range_coloc_direct_vig_cmpt  \\\n",
       "0  202108  0135142913                                       0.0      0.0                         0.0                          1.0                           0.0                         0.0               0.0                        0.0        1.0                          0.0                    -1158.30                           0.00                       1182.75            0.00                     0.0                        -3407.25   17015.04               1182.75                         0.00                        0.00                    0.0             27026.13       3544.860000                                1                    0.00                            0   30066.666667                      0              3407.25              1                   1158.30                                   0.0   19803.734167                            0                 0            1. <0-10k]                 0. <:0]                      0. <:0]                      0. <:0]   \n",
       "1  202108  0120836005                                       0.0      0.0                         0.0                          1.0                           0.0                         0.0               0.0                        0.0        1.0                          0.0                        0.00                           0.00                      90155.96         6121.29                     0.0                        -1653.99       0.00              90155.96                         0.00                        0.00                    0.0             87424.75      27930.186667                                1                32656.96                            1       0.000000                      0              2043.82              1                      0.00                                   0.0       0.000000                            0                 0         <3. 30k:120k]                 0. <:0]                      0. <:0]                      0. <:0]   \n",
       "2  202108  0117933857                                       0.0      0.0                         0.0                          0.0                           1.0                         1.0               1.0                        0.0        0.0                          0.0                     -438.54                       46276.54                          0.00            0.00                     0.0                        -1351.98       0.00              46276.54                     46276.54                        0.00                    0.0             47755.83      47284.645000                                1                    0.00                            0   47285.645000                      0              1351.98              1                    438.54                                   1.0       0.000000                            0                 0         <3. 30k:120k]                 0. <:0]                <3. 30k:120k]                      0. <:0]   \n",
       "3  202108  0035357246                                       0.0      0.0                         0.0                          0.0                           0.0                         0.0               0.0                        0.0        0.0                          0.0                    -1135.43                           0.00                          0.00            0.00                     0.0                        -3393.68       0.00              78912.24                         0.00                        0.00                    0.0             83307.79      36221.618333                                1                    0.00                            0       0.000000                      0              3393.68              1                   1135.43                                   1.0       0.000000                            0                 0         <3. 30k:120k]                 0. <:0]                      0. <:0]                      0. <:0]   \n",
       "4  202108  0199482734                                       0.0      1.0                         0.0                          0.0                           0.0                         1.0               0.0                        1.0        0.0                          0.0                     -201.73                           0.00                          0.00            0.00                     0.0                         -606.53       0.00                893.52                       893.52                      893.52                    0.0               557.34          0.000000                                0                 1500.05                            0       0.000000                      0               606.53              1                    201.73                                   4.0       0.000000                            0                 0            1. <0-10k]                 0. <:0]                   1. <0-10k]                      0. <:0]   \n",
       "\n",
       "  _range_coloc_direct_vig_no_ibk _range_coloc_direct_vig_ibk _range_coloc_direct_vig_cajas _range_reactiva    _range_fae _categoryc_coloc_direct_vig_bcos _categoryc_coloc_direct_vig_competencia _categoryc_coloc_direct_vig_no_ibk _categoryc_coloc_direct_vig_ibk _categoryc_coloc_direct_vig_cajas _categoryc_sow_ibk _categoryc_sow_otros_bancos _categoryc_sow_cajas _categoryc_nroregs_reactiva_bcos _categoryc_nroregs_fae_bcos  score_desembolso GRUPO_PROPENSION GRUPO_PROPENSION_FINO  \n",
       "0                        0. <:0]                     0. <:0]                    1. <0-10k]         0. <:0]  2. <10k:30k]                        0. <:0.0]                               0. <:0.0]                          0. <:0.0]                       0. <:0.0]                     4. <0.75:0.9]          0. <:0.0]                   0. <:0.0]        4. <0.75:0.9]                                0                           0          0.015564                F                     F  \n",
       "1                        0. <:0]                     0. <:0]                 <3. 30k:120k]      1. <0-10k]       0. <:0]                        0. <:0.0]                               0. <:0.0]                          0. <:0.0]                       0. <:0.0]                     4. <0.75:0.9]          0. <:0.0]                   0. <:0.0]        4. <0.75:0.9]                                0                           0          0.030384                C                     E  \n",
       "2                  <3. 30k:120k]                     0. <:0]                       0. <:0]         0. <:0]       0. <:0]                    4. <0.75:0.9]                               0. <:0.0]                      4. <0.75:0.9]                       0. <:0.0]                         0. <:0.0]          0. <:0.0]               4. <0.75:0.9]            0. <:0.0]                                0                           0          0.008850                I                     I  \n",
       "3                        0. <:0]                     0. <:0]                       0. <:0]         0. <:0]       0. <:0]                        0. <:0.0]                               0. <:0.0]                          0. <:0.0]                       0. <:0.0]                         0. <:0.0]          0. <:0.0]                   0. <:0.0]            0. <:0.0]                                0                           0          0.018765                E                     F  \n",
       "4                        0. <:0]                  1. <0-10k]                       0. <:0]         0. <:0]       0. <:0]                    4. <0.75:0.9]                               0. <:0.0]                          0. <:0.0]                   4. <0.75:0.9]                         0. <:0.0]      4. <0.75:0.9]                   0. <:0.0]            0. <:0.0]                                0                           0          0.005838                J                     J  "
      ]
     },
     "execution_count": 23,
     "metadata": {},
     "output_type": "execute_result"
    }
   ],
   "source": [
    "df.head()"
   ]
  },
  {
   "cell_type": "code",
   "execution_count": null,
   "id": "17565fbc",
   "metadata": {},
   "outputs": [],
   "source": [
    "uri_output"
   ]
  },
  {
   "cell_type": "code",
   "execution_count": null,
   "id": "218fa2dc",
   "metadata": {},
   "outputs": [],
   "source": []
  },
  {
   "cell_type": "code",
   "execution_count": null,
   "id": "c0b5173d",
   "metadata": {},
   "outputs": [],
   "source": []
  },
  {
   "cell_type": "code",
   "execution_count": null,
   "id": "86773c89",
   "metadata": {},
   "outputs": [],
   "source": [
    "df.to_csv(\"{}/MM_UNIVERSO_PROPENSION_DESEMBOLSO_BPE.csv\".format(uri_output), index=False)"
   ]
  },
  {
   "cell_type": "code",
   "execution_count": null,
   "id": "89d83b15",
   "metadata": {},
   "outputs": [],
   "source": []
  }
 ],
 "metadata": {
  "kernelspec": {
   "display_name": "conda_python3",
   "language": "python",
   "name": "conda_python3"
  },
  "language_info": {
   "codemirror_mode": {
    "name": "ipython",
    "version": 3
   },
   "file_extension": ".py",
   "mimetype": "text/x-python",
   "name": "python",
   "nbconvert_exporter": "python",
   "pygments_lexer": "ipython3",
   "version": "3.6.13"
  }
 },
 "nbformat": 4,
 "nbformat_minor": 5
}
