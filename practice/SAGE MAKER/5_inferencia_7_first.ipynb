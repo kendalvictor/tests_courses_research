{
 "cells": [
  {
   "cell_type": "code",
   "execution_count": 1,
   "id": "d753c2be",
   "metadata": {},
   "outputs": [
    {
     "name": "stderr",
     "output_type": "stream",
     "text": [
      "WARNING: pip is being invoked by an old script wrapper. This will fail in a future version of pip.\n",
      "Please see https://github.com/pypa/pip/issues/5599 for advice on fixing the underlying issue.\n",
      "To avoid this problem you can invoke Python with '-m pip' instead of running pip directly.\n"
     ]
    },
    {
     "name": "stdout",
     "output_type": "stream",
     "text": [
      "Requirement already satisfied: awswrangler in /home/ec2-user/anaconda3/envs/python3/lib/python3.6/site-packages (2.10.0)\n",
      "Requirement already satisfied: numpy<2.1.0,>=1.18.0 in /home/ec2-user/anaconda3/envs/python3/lib/python3.6/site-packages (from awswrangler) (1.19.5)\n",
      "Requirement already satisfied: pymysql<1.1.0,>=0.9.0 in /home/ec2-user/anaconda3/envs/python3/lib/python3.6/site-packages (from awswrangler) (1.0.2)\n",
      "Requirement already satisfied: pandas<2.1.0,>=1.1.0 in /home/ec2-user/anaconda3/envs/python3/lib/python3.6/site-packages (from awswrangler) (1.1.5)\n",
      "Requirement already satisfied: openpyxl~=3.0.0 in /home/ec2-user/anaconda3/envs/python3/lib/python3.6/site-packages (from awswrangler) (3.0.6)\n",
      "Requirement already satisfied: redshift-connector~=2.0.882 in /home/ec2-user/anaconda3/envs/python3/lib/python3.6/site-packages (from awswrangler) (2.0.883)\n",
      "Requirement already satisfied: botocore<2.1.0,>=1.19.8 in /home/ec2-user/anaconda3/envs/python3/lib/python3.6/site-packages (from awswrangler) (1.20.99)\n",
      "Requirement already satisfied: boto3<2.1.0,>=1.16.8 in /home/ec2-user/anaconda3/envs/python3/lib/python3.6/site-packages (from awswrangler) (1.17.99)\n",
      "Requirement already satisfied: pyarrow<4.1.0,>=2.0.0 in /home/ec2-user/anaconda3/envs/python3/lib/python3.6/site-packages (from awswrangler) (4.0.1)\n",
      "Requirement already satisfied: pg8000<1.21.0,>=1.16.0 in /home/ec2-user/anaconda3/envs/python3/lib/python3.6/site-packages (from awswrangler) (1.20.0)\n",
      "Requirement already satisfied: jmespath<1.0.0,>=0.7.1 in /home/ec2-user/anaconda3/envs/python3/lib/python3.6/site-packages (from boto3<2.1.0,>=1.16.8->awswrangler) (0.10.0)\n",
      "Requirement already satisfied: s3transfer<0.5.0,>=0.4.0 in /home/ec2-user/anaconda3/envs/python3/lib/python3.6/site-packages (from boto3<2.1.0,>=1.16.8->awswrangler) (0.4.2)\n",
      "Requirement already satisfied: urllib3<1.27,>=1.25.4 in /home/ec2-user/anaconda3/envs/python3/lib/python3.6/site-packages (from botocore<2.1.0,>=1.19.8->awswrangler) (1.26.5)\n",
      "Requirement already satisfied: python-dateutil<3.0.0,>=2.1 in /home/ec2-user/anaconda3/envs/python3/lib/python3.6/site-packages (from botocore<2.1.0,>=1.19.8->awswrangler) (2.8.1)\n",
      "Requirement already satisfied: et-xmlfile in /home/ec2-user/anaconda3/envs/python3/lib/python3.6/site-packages (from openpyxl~=3.0.0->awswrangler) (1.0.1)\n",
      "Requirement already satisfied: jdcal in /home/ec2-user/anaconda3/envs/python3/lib/python3.6/site-packages (from openpyxl~=3.0.0->awswrangler) (1.4.1)\n",
      "Requirement already satisfied: pytz>=2017.2 in /home/ec2-user/anaconda3/envs/python3/lib/python3.6/site-packages (from pandas<2.1.0,>=1.1.0->awswrangler) (2021.1)\n",
      "Requirement already satisfied: scramp>=1.4.0 in /home/ec2-user/anaconda3/envs/python3/lib/python3.6/site-packages (from pg8000<1.21.0,>=1.16.0->awswrangler) (1.4.0)\n",
      "Requirement already satisfied: six>=1.5 in /home/ec2-user/anaconda3/envs/python3/lib/python3.6/site-packages (from python-dateutil<3.0.0,>=2.1->botocore<2.1.0,>=1.19.8->awswrangler) (1.15.0)\n",
      "Requirement already satisfied: lxml>=4.6.2 in /home/ec2-user/anaconda3/envs/python3/lib/python3.6/site-packages (from redshift-connector~=2.0.882->awswrangler) (4.6.3)\n",
      "Requirement already satisfied: requests<2.25.2,>=2.23.0 in /home/ec2-user/anaconda3/envs/python3/lib/python3.6/site-packages (from redshift-connector~=2.0.882->awswrangler) (2.25.1)\n",
      "Requirement already satisfied: beautifulsoup4<5.0.0,>=4.7.0 in /home/ec2-user/anaconda3/envs/python3/lib/python3.6/site-packages (from redshift-connector~=2.0.882->awswrangler) (4.9.3)\n",
      "Requirement already satisfied: soupsieve>1.2 in /home/ec2-user/anaconda3/envs/python3/lib/python3.6/site-packages (from beautifulsoup4<5.0.0,>=4.7.0->redshift-connector~=2.0.882->awswrangler) (2.0.1)\n",
      "Requirement already satisfied: chardet<5,>=3.0.2 in /home/ec2-user/anaconda3/envs/python3/lib/python3.6/site-packages (from requests<2.25.2,>=2.23.0->redshift-connector~=2.0.882->awswrangler) (3.0.4)\n",
      "Requirement already satisfied: idna<3,>=2.5 in /home/ec2-user/anaconda3/envs/python3/lib/python3.6/site-packages (from requests<2.25.2,>=2.23.0->redshift-connector~=2.0.882->awswrangler) (2.10)\n",
      "Requirement already satisfied: certifi>=2017.4.17 in /home/ec2-user/anaconda3/envs/python3/lib/python3.6/site-packages (from requests<2.25.2,>=2.23.0->redshift-connector~=2.0.882->awswrangler) (2021.5.30)\n",
      "Requirement already satisfied: asn1crypto==1.4.0 in /home/ec2-user/anaconda3/envs/python3/lib/python3.6/site-packages (from scramp>=1.4.0->pg8000<1.21.0,>=1.16.0->awswrangler) (1.4.0)\n"
     ]
    },
    {
     "name": "stderr",
     "output_type": "stream",
     "text": [
      "WARNING: You are using pip version 21.1.2; however, version 21.2.2 is available.\n",
      "You should consider upgrading via the '/home/ec2-user/anaconda3/envs/python3/bin/python -m pip install --upgrade pip' command.\n"
     ]
    },
    {
     "data": {
      "text/plain": [
       "0"
      ]
     },
     "execution_count": 1,
     "metadata": {},
     "output_type": "execute_result"
    }
   ],
   "source": [
    "import pip\n",
    "\n",
    "package_names = ['awswrangler'] \n",
    "pip.main(['install'] + package_names + ['--upgrade'])"
   ]
  },
  {
   "cell_type": "code",
   "execution_count": 2,
   "id": "1de0799b",
   "metadata": {},
   "outputs": [],
   "source": [
    "# Nativos\n",
    "from dateutil.relativedelta import relativedelta\n",
    "from time import gmtime, strftime\n",
    "from datetime import datetime\n",
    "import random as rn\n",
    "import joblib\n",
    "import json\n",
    "import sys\n",
    "import os\n",
    "import gc\n",
    "\n",
    "#nube\n",
    "from sagemaker.processing import ProcessingInput, ProcessingOutput\n",
    "from sagemaker.sklearn.processing import SKLearnProcessor\n",
    "from sagemaker import get_execution_role\n",
    "import awswrangler as wr\n",
    "import sagemaker\n",
    "import boto3\n",
    "\n",
    "#calculo\n",
    "import pandas as pd\n",
    "import numpy as np\n",
    "import scipy\n",
    "\n",
    "#grafico\n",
    "from IPython.display import display\n",
    "import matplotlib.pyplot as plt\n",
    "import seaborn as sns\n",
    "%matplotlib inline\n",
    "sns.set(style=\"whitegrid\")\n",
    "\n",
    "#Interacciones con output\n",
    "import warnings\n",
    "warnings.filterwarnings(\"ignore\")\n",
    "# warnings.simplefilter(action='ignore', category=FutureWarning)\n",
    "pd.set_option('display.max_rows', 500)\n",
    "pd.set_option('display.max_columns', 500)\n",
    "pd.set_option('display.width', 1000)\n",
    "\n",
    "from IPython.core.interactiveshell import InteractiveShell\n",
    "InteractiveShell.ast_node_interactivity = \"all\"\n",
    "\n",
    "gc.collect()\n",
    "# MODELS\n",
    "#from lightgbm import LGBMClassifier\n",
    "\n",
    "BASE_DIR = os.path.dirname(os.getcwd())\n",
    "if BASE_DIR not in sys.path: sys.path.append(BASE_DIR)\n",
    "#import scorecardpy as sc\n",
    "#from utils import *\n",
    "#from graphs import *\n",
    "\n",
    "SEED = 29082013\n",
    "os.environ['PYTHONHASHSEED'] = str(SEED)\n",
    "np.random.seed(SEED)\n",
    "rn.seed(SEED)\n",
    "\n",
    "#from utils import *\n",
    "#from modeler import *\n",
    "#subfolder = \"data\"\n",
    "# os.listdir(subfolder)"
   ]
  },
  {
   "cell_type": "code",
   "execution_count": 3,
   "id": "232b368d",
   "metadata": {},
   "outputs": [
    {
     "name": "stdout",
     "output_type": "stream",
     "text": [
      "bucket:  sagemaker-us-east-1-058528764918\n",
      "region:  us-east-1\n",
      "now:  2021-08-02 18:49:01.567657\n"
     ]
    },
    {
     "data": {
      "text/plain": [
       "('sagemaker-us-east-1-058528764918',\n",
       " 'us-east-1',\n",
       " 'target_desembolso_f2m_mayor_30_menor_180',\n",
       " 'normal')"
      ]
     },
     "execution_count": 3,
     "metadata": {},
     "output_type": "execute_result"
    }
   ],
   "source": [
    "# imports\n",
    "from UTILITARIO_CODE.utils import targets\n",
    "from sagemaker.tuner import IntegerParameter, CategoricalParameter, ContinuousParameter, HyperparameterTuner\n",
    "from sagemaker.amazon.amazon_estimator import get_image_uri\n",
    "import awswrangler as wr\n",
    "import pandas as pd\n",
    "import sagemaker\n",
    "import boto3\n",
    "\n",
    "proyecto = 'propension'\n",
    "normal = [1]\n",
    "target = targets[7]\n",
    "clasif = 'normal' if len(normal) == 1 else 'all'\n",
    "\n",
    "sess = sagemaker.session.Session()\n",
    "bucket = sess.default_bucket() \n",
    "now = datetime.now()\n",
    "role = sagemaker.get_execution_role()   ## levantamiento de roles\n",
    "s3 = boto3.resource('s3')\n",
    "region = boto3.Session().region_name\n",
    "smclient = boto3.Session().client('sagemaker')\n",
    "\n",
    "print(\"bucket: \", bucket)\n",
    "print(\"region: \", region)\n",
    "print(\"now: \", now)\n",
    "\n",
    "bucket, region, target, clasif"
   ]
  },
  {
   "cell_type": "code",
   "execution_count": 4,
   "id": "1a92d7df",
   "metadata": {},
   "outputs": [
    {
     "data": {
      "text/plain": [
       "'target_desembolso_f2m_mayor_30_menor_180_clasif_normal'"
      ]
     },
     "execution_count": 4,
     "metadata": {},
     "output_type": "execute_result"
    }
   ],
   "source": [
    "sufijo = '{}_clasif_{}'.format(target.lower(), clasif)\n",
    "sufijo"
   ]
  },
  {
   "cell_type": "code",
   "execution_count": 5,
   "id": "105b9357",
   "metadata": {},
   "outputs": [
    {
     "name": "stdout",
     "output_type": "stream",
     "text": [
      "////////////////////////////////////////////////// \n",
      "\n",
      "path_container_input:  /opt/ml/processing/input\n",
      "path_container_output:  /opt/ml/processing/output\n",
      "path_container_utils:  /opt/ml/processing/input/utils\n",
      "path_container_universo:  /opt/ml/processing/input/HM_UNIVERSO_PROPENSION_DESEMBOLSO_BPE\n",
      "15\n",
      "['entidad_cnt_prom_u9m', 'monto_pagado_u6m', 'monto_adquirido_u6m', 'nro_entidades_termino_prestamo_u9m', 'saldo_col_direct_vig_competencia', 'sum_saldo_ajustado_promedio_u9m', 'nro_entidades_ya_no_tiene_saldo_ajustado_u3m', 'nro_entidades_ya_no_tiene_saldo_ajustado_u9m', 'ultima_variacion_saldo_ajustado', 'tendencia_saldo_col_direct_vencido', 'saldo_reactiva', 'percent_promedio_col_direct_ibk_u3m', 'saldo_col_direct_vig_banco_no_ibk', 'monto_deuda_sf_prom_u9m', 'tendencia_max_dias_atraso_coloc_directas']\n"
     ]
    }
   ],
   "source": [
    "from UTILITARIO_CODE.utils import dicc_seleccionadas, dicc_bests_models\n",
    "\n",
    "seleccionadas = dicc_seleccionadas[sufijo]\n",
    "print(len(seleccionadas))\n",
    "print(seleccionadas)"
   ]
  },
  {
   "cell_type": "code",
   "execution_count": 6,
   "id": "96a92707",
   "metadata": {},
   "outputs": [
    {
     "data": {
      "text/plain": [
       "'xgboost-vpc-7-210727-1702-011-63804022'"
      ]
     },
     "execution_count": 6,
     "metadata": {},
     "output_type": "execute_result"
    }
   ],
   "source": [
    "model_code =  dicc_bests_models[sufijo]\n",
    "model_code"
   ]
  },
  {
   "cell_type": "code",
   "execution_count": 8,
   "id": "acad35f2",
   "metadata": {},
   "outputs": [
    {
     "data": {
      "text/plain": [
       "'xgboost-vpc-7-210731-0433-029-54f28ca2'"
      ]
     },
     "execution_count": 8,
     "metadata": {},
     "output_type": "execute_result"
    }
   ],
   "source": [
    "model_code = 'xgboost-vpc-7-210731-0433-029-54f28ca2'\n",
    "model_code"
   ]
  },
  {
   "cell_type": "markdown",
   "id": "438f759e",
   "metadata": {},
   "source": [
    "### Load data"
   ]
  },
  {
   "cell_type": "code",
   "execution_count": 9,
   "id": "3453e628",
   "metadata": {},
   "outputs": [
    {
     "name": "stdout",
     "output_type": "stream",
     "text": [
      "s3://sagemaker-us-east-1-058528764918/vpc/propension/prediccion\n",
      "s3://sagemaker-us-east-1-058528764918/vpc/propension/seguimiento\n"
     ]
    }
   ],
   "source": [
    "uri_output = 's3://{}/vpc/{}/output'.format(bucket, proyecto)\n",
    "uri_segui = 's3://{}/vpc/{}/seguimiento'.format(bucket, proyecto)\n",
    "uri_predict = uri_output.replace('output', 'prediccion')\n",
    "\n",
    "print(uri_predict)\n",
    "print(uri_segui)"
   ]
  },
  {
   "cell_type": "markdown",
   "id": "cc0c526a",
   "metadata": {},
   "source": [
    "** OJO: modificar esta parte en caso de cambios de periodos**"
   ]
  },
  {
   "cell_type": "code",
   "execution_count": 10,
   "id": "13ae1fa3",
   "metadata": {},
   "outputs": [
    {
     "name": "stdout",
     "output_type": "stream",
     "text": [
      "s3://sagemaker-us-east-1-058528764918/vpc/propension/seguimiento/202103_target_desembolso_f2m_mayor_30_menor_180_clasif_normal.csv\n",
      "s3://sagemaker-us-east-1-058528764918/vpc/propension/seguimiento/202104_target_desembolso_f2m_mayor_30_menor_180_clasif_normal.csv\n",
      "s3://sagemaker-us-east-1-058528764918/vpc/propension/seguimiento/202105_target_desembolso_f2m_mayor_30_menor_180_clasif_normal.csv\n",
      "s3://sagemaker-us-east-1-058528764918/vpc/propension/seguimiento/202106_target_desembolso_f2m_mayor_30_menor_180_clasif_normal.csv\n"
     ]
    }
   ],
   "source": [
    "uri_validation_202103 = uri_segui + '/202103_{}.csv'.format(sufijo)\n",
    "uri_validation_202104 = uri_segui + '/202104_{}.csv'.format(sufijo)\n",
    "uri_validation_202105 = uri_segui + '/202105_{}.csv'.format(sufijo)\n",
    "uri_validation_202106 = uri_segui + '/202106_{}.csv'.format(sufijo)\n",
    "\n",
    "print(uri_validation_202103)\n",
    "print(uri_validation_202104)\n",
    "print(uri_validation_202105)\n",
    "print(uri_validation_202106)"
   ]
  },
  {
   "cell_type": "code",
   "execution_count": 12,
   "id": "bc306674",
   "metadata": {},
   "outputs": [
    {
     "data": {
      "text/html": [
       "<div>\n",
       "<style scoped>\n",
       "    .dataframe tbody tr th:only-of-type {\n",
       "        vertical-align: middle;\n",
       "    }\n",
       "\n",
       "    .dataframe tbody tr th {\n",
       "        vertical-align: top;\n",
       "    }\n",
       "\n",
       "    .dataframe thead th {\n",
       "        text-align: right;\n",
       "    }\n",
       "</style>\n",
       "<table border=\"1\" class=\"dataframe\">\n",
       "  <thead>\n",
       "    <tr style=\"text-align: right;\">\n",
       "      <th></th>\n",
       "      <th>cod_sbs_val</th>\n",
       "      <th>target_desembolso_f2m_mayor_30_menor_180</th>\n",
       "      <th>sum_saldo_ajustado_promedio_u9m</th>\n",
       "      <th>saldo_col_direct_vig_banco_no_ibk</th>\n",
       "      <th>monto_pagado_u6m</th>\n",
       "      <th>monto_deuda_sf_prom_u9m</th>\n",
       "      <th>percent_promedio_col_direct_ibk_u3m</th>\n",
       "      <th>tendencia_saldo_col_direct_vencido</th>\n",
       "      <th>saldo_reactiva</th>\n",
       "      <th>entidad_cnt_prom_u9m</th>\n",
       "      <th>tendencia_max_dias_atraso_coloc_directas</th>\n",
       "      <th>monto_adquirido_u6m</th>\n",
       "      <th>saldo_col_direct_vig_competencia</th>\n",
       "      <th>nro_entidades_ya_no_tiene_saldo_ajustado_u9m</th>\n",
       "      <th>nro_entidades_termino_prestamo_u9m</th>\n",
       "      <th>nro_entidades_ya_no_tiene_saldo_ajustado_u3m</th>\n",
       "      <th>ultima_variacion_saldo_ajustado</th>\n",
       "    </tr>\n",
       "  </thead>\n",
       "  <tbody>\n",
       "    <tr>\n",
       "      <th>0</th>\n",
       "      <td>117557685</td>\n",
       "      <td>0</td>\n",
       "      <td>22010.006</td>\n",
       "      <td>10015.78</td>\n",
       "      <td>4805.02</td>\n",
       "      <td>22010.01</td>\n",
       "      <td>0.0</td>\n",
       "      <td>0.0</td>\n",
       "      <td>0.0</td>\n",
       "      <td>1</td>\n",
       "      <td>0</td>\n",
       "      <td>11114.70</td>\n",
       "      <td>0.0</td>\n",
       "      <td>1</td>\n",
       "      <td>0</td>\n",
       "      <td>1</td>\n",
       "      <td>0.00</td>\n",
       "    </tr>\n",
       "    <tr>\n",
       "      <th>1</th>\n",
       "      <td>23067692</td>\n",
       "      <td>0</td>\n",
       "      <td>60506.910</td>\n",
       "      <td>28716.40</td>\n",
       "      <td>0.00</td>\n",
       "      <td>60506.91</td>\n",
       "      <td>0.0</td>\n",
       "      <td>0.0</td>\n",
       "      <td>0.0</td>\n",
       "      <td>2</td>\n",
       "      <td>1</td>\n",
       "      <td>3035.97</td>\n",
       "      <td>0.0</td>\n",
       "      <td>0</td>\n",
       "      <td>2</td>\n",
       "      <td>2</td>\n",
       "      <td>0.00</td>\n",
       "    </tr>\n",
       "    <tr>\n",
       "      <th>2</th>\n",
       "      <td>51869605</td>\n",
       "      <td>0</td>\n",
       "      <td>25751.338</td>\n",
       "      <td>0.00</td>\n",
       "      <td>3191.45</td>\n",
       "      <td>25751.34</td>\n",
       "      <td>0.0</td>\n",
       "      <td>0.0</td>\n",
       "      <td>0.0</td>\n",
       "      <td>1</td>\n",
       "      <td>0</td>\n",
       "      <td>967.16</td>\n",
       "      <td>0.0</td>\n",
       "      <td>0</td>\n",
       "      <td>0</td>\n",
       "      <td>0</td>\n",
       "      <td>-2239.03</td>\n",
       "    </tr>\n",
       "    <tr>\n",
       "      <th>3</th>\n",
       "      <td>59260286</td>\n",
       "      <td>0</td>\n",
       "      <td>45643.871</td>\n",
       "      <td>29881.35</td>\n",
       "      <td>19567.20</td>\n",
       "      <td>45643.87</td>\n",
       "      <td>0.0</td>\n",
       "      <td>0.0</td>\n",
       "      <td>0.0</td>\n",
       "      <td>1</td>\n",
       "      <td>0</td>\n",
       "      <td>0.00</td>\n",
       "      <td>0.0</td>\n",
       "      <td>0</td>\n",
       "      <td>0</td>\n",
       "      <td>0</td>\n",
       "      <td>-4037.76</td>\n",
       "    </tr>\n",
       "    <tr>\n",
       "      <th>4</th>\n",
       "      <td>201531063</td>\n",
       "      <td>0</td>\n",
       "      <td>24445.522</td>\n",
       "      <td>0.00</td>\n",
       "      <td>23380.26</td>\n",
       "      <td>24445.52</td>\n",
       "      <td>0.0</td>\n",
       "      <td>0.0</td>\n",
       "      <td>0.0</td>\n",
       "      <td>0</td>\n",
       "      <td>0</td>\n",
       "      <td>62052.00</td>\n",
       "      <td>0.0</td>\n",
       "      <td>0</td>\n",
       "      <td>0</td>\n",
       "      <td>0</td>\n",
       "      <td>-3427.28</td>\n",
       "    </tr>\n",
       "  </tbody>\n",
       "</table>\n",
       "</div>"
      ],
      "text/plain": [
       "   cod_sbs_val  target_desembolso_f2m_mayor_30_menor_180  sum_saldo_ajustado_promedio_u9m  saldo_col_direct_vig_banco_no_ibk  monto_pagado_u6m  monto_deuda_sf_prom_u9m  percent_promedio_col_direct_ibk_u3m  tendencia_saldo_col_direct_vencido  saldo_reactiva  entidad_cnt_prom_u9m  tendencia_max_dias_atraso_coloc_directas  monto_adquirido_u6m  saldo_col_direct_vig_competencia  nro_entidades_ya_no_tiene_saldo_ajustado_u9m  nro_entidades_termino_prestamo_u9m  nro_entidades_ya_no_tiene_saldo_ajustado_u3m  ultima_variacion_saldo_ajustado\n",
       "0    117557685                                         0                        22010.006                           10015.78           4805.02                 22010.01                                  0.0                                 0.0             0.0                     1                                         0             11114.70                               0.0                                             1                                   0                                             1                             0.00\n",
       "1     23067692                                         0                        60506.910                           28716.40              0.00                 60506.91                                  0.0                                 0.0             0.0                     2                                         1              3035.97                               0.0                                             0                                   2                                             2                             0.00\n",
       "2     51869605                                         0                        25751.338                               0.00           3191.45                 25751.34                                  0.0                                 0.0             0.0                     1                                         0               967.16                               0.0                                             0                                   0                                             0                         -2239.03\n",
       "3     59260286                                         0                        45643.871                           29881.35          19567.20                 45643.87                                  0.0                                 0.0             0.0                     1                                         0                 0.00                               0.0                                             0                                   0                                             0                         -4037.76\n",
       "4    201531063                                         0                        24445.522                               0.00          23380.26                 24445.52                                  0.0                                 0.0             0.0                     0                                         0             62052.00                               0.0                                             0                                   0                                             0                         -3427.28"
      ]
     },
     "execution_count": 12,
     "metadata": {},
     "output_type": "execute_result"
    }
   ],
   "source": [
    "_2003 = wr.s3.read_csv(\n",
    "    uri_validation_202103, \n",
    "    sep=',',\n",
    ")\n",
    "_2003.head()"
   ]
  },
  {
   "cell_type": "code",
   "execution_count": 13,
   "id": "89cfe74f",
   "metadata": {},
   "outputs": [
    {
     "data": {
      "text/html": [
       "<div>\n",
       "<style scoped>\n",
       "    .dataframe tbody tr th:only-of-type {\n",
       "        vertical-align: middle;\n",
       "    }\n",
       "\n",
       "    .dataframe tbody tr th {\n",
       "        vertical-align: top;\n",
       "    }\n",
       "\n",
       "    .dataframe thead th {\n",
       "        text-align: right;\n",
       "    }\n",
       "</style>\n",
       "<table border=\"1\" class=\"dataframe\">\n",
       "  <thead>\n",
       "    <tr style=\"text-align: right;\">\n",
       "      <th></th>\n",
       "      <th>cod_sbs_val</th>\n",
       "      <th>target_desembolso_f2m_mayor_30_menor_180</th>\n",
       "      <th>sum_saldo_ajustado_promedio_u9m</th>\n",
       "      <th>saldo_col_direct_vig_banco_no_ibk</th>\n",
       "      <th>monto_pagado_u6m</th>\n",
       "      <th>monto_deuda_sf_prom_u9m</th>\n",
       "      <th>percent_promedio_col_direct_ibk_u3m</th>\n",
       "      <th>tendencia_saldo_col_direct_vencido</th>\n",
       "      <th>saldo_reactiva</th>\n",
       "      <th>entidad_cnt_prom_u9m</th>\n",
       "      <th>tendencia_max_dias_atraso_coloc_directas</th>\n",
       "      <th>monto_adquirido_u6m</th>\n",
       "      <th>saldo_col_direct_vig_competencia</th>\n",
       "      <th>nro_entidades_ya_no_tiene_saldo_ajustado_u9m</th>\n",
       "      <th>nro_entidades_termino_prestamo_u9m</th>\n",
       "      <th>nro_entidades_ya_no_tiene_saldo_ajustado_u3m</th>\n",
       "      <th>ultima_variacion_saldo_ajustado</th>\n",
       "    </tr>\n",
       "  </thead>\n",
       "  <tbody>\n",
       "    <tr>\n",
       "      <th>0</th>\n",
       "      <td>79021903</td>\n",
       "      <td>1</td>\n",
       "      <td>66223.351</td>\n",
       "      <td>0.00</td>\n",
       "      <td>22654.74</td>\n",
       "      <td>66223.35</td>\n",
       "      <td>0.0</td>\n",
       "      <td>0.0</td>\n",
       "      <td>0.0</td>\n",
       "      <td>1</td>\n",
       "      <td>0</td>\n",
       "      <td>73316.90</td>\n",
       "      <td>0.00</td>\n",
       "      <td>0</td>\n",
       "      <td>0</td>\n",
       "      <td>0</td>\n",
       "      <td>-24995.99</td>\n",
       "    </tr>\n",
       "    <tr>\n",
       "      <th>1</th>\n",
       "      <td>105774427</td>\n",
       "      <td>0</td>\n",
       "      <td>21088.993</td>\n",
       "      <td>28153.94</td>\n",
       "      <td>8373.37</td>\n",
       "      <td>21088.99</td>\n",
       "      <td>0.0</td>\n",
       "      <td>0.0</td>\n",
       "      <td>0.0</td>\n",
       "      <td>1</td>\n",
       "      <td>0</td>\n",
       "      <td>35586.86</td>\n",
       "      <td>0.00</td>\n",
       "      <td>0</td>\n",
       "      <td>0</td>\n",
       "      <td>0</td>\n",
       "      <td>-629.43</td>\n",
       "    </tr>\n",
       "    <tr>\n",
       "      <th>2</th>\n",
       "      <td>55770859</td>\n",
       "      <td>0</td>\n",
       "      <td>59948.895</td>\n",
       "      <td>44045.86</td>\n",
       "      <td>23739.19</td>\n",
       "      <td>59948.90</td>\n",
       "      <td>0.0</td>\n",
       "      <td>0.0</td>\n",
       "      <td>0.0</td>\n",
       "      <td>3</td>\n",
       "      <td>0</td>\n",
       "      <td>13005.26</td>\n",
       "      <td>21886.34</td>\n",
       "      <td>0</td>\n",
       "      <td>0</td>\n",
       "      <td>0</td>\n",
       "      <td>-1890.03</td>\n",
       "    </tr>\n",
       "    <tr>\n",
       "      <th>3</th>\n",
       "      <td>138117529</td>\n",
       "      <td>0</td>\n",
       "      <td>24007.304</td>\n",
       "      <td>0.00</td>\n",
       "      <td>10593.84</td>\n",
       "      <td>38805.82</td>\n",
       "      <td>0.0</td>\n",
       "      <td>0.0</td>\n",
       "      <td>10000.5</td>\n",
       "      <td>4</td>\n",
       "      <td>0</td>\n",
       "      <td>10000.00</td>\n",
       "      <td>0.00</td>\n",
       "      <td>2</td>\n",
       "      <td>1</td>\n",
       "      <td>3</td>\n",
       "      <td>-1386.78</td>\n",
       "    </tr>\n",
       "    <tr>\n",
       "      <th>4</th>\n",
       "      <td>129819596</td>\n",
       "      <td>0</td>\n",
       "      <td>26973.573</td>\n",
       "      <td>0.00</td>\n",
       "      <td>11613.00</td>\n",
       "      <td>38573.57</td>\n",
       "      <td>0.0</td>\n",
       "      <td>0.0</td>\n",
       "      <td>0.0</td>\n",
       "      <td>1</td>\n",
       "      <td>0</td>\n",
       "      <td>0.00</td>\n",
       "      <td>0.00</td>\n",
       "      <td>0</td>\n",
       "      <td>0</td>\n",
       "      <td>0</td>\n",
       "      <td>-2134.01</td>\n",
       "    </tr>\n",
       "  </tbody>\n",
       "</table>\n",
       "</div>"
      ],
      "text/plain": [
       "   cod_sbs_val  target_desembolso_f2m_mayor_30_menor_180  sum_saldo_ajustado_promedio_u9m  saldo_col_direct_vig_banco_no_ibk  monto_pagado_u6m  monto_deuda_sf_prom_u9m  percent_promedio_col_direct_ibk_u3m  tendencia_saldo_col_direct_vencido  saldo_reactiva  entidad_cnt_prom_u9m  tendencia_max_dias_atraso_coloc_directas  monto_adquirido_u6m  saldo_col_direct_vig_competencia  nro_entidades_ya_no_tiene_saldo_ajustado_u9m  nro_entidades_termino_prestamo_u9m  nro_entidades_ya_no_tiene_saldo_ajustado_u3m  ultima_variacion_saldo_ajustado\n",
       "0     79021903                                         1                        66223.351                               0.00          22654.74                 66223.35                                  0.0                                 0.0             0.0                     1                                         0             73316.90                              0.00                                             0                                   0                                             0                        -24995.99\n",
       "1    105774427                                         0                        21088.993                           28153.94           8373.37                 21088.99                                  0.0                                 0.0             0.0                     1                                         0             35586.86                              0.00                                             0                                   0                                             0                          -629.43\n",
       "2     55770859                                         0                        59948.895                           44045.86          23739.19                 59948.90                                  0.0                                 0.0             0.0                     3                                         0             13005.26                          21886.34                                             0                                   0                                             0                         -1890.03\n",
       "3    138117529                                         0                        24007.304                               0.00          10593.84                 38805.82                                  0.0                                 0.0         10000.5                     4                                         0             10000.00                              0.00                                             2                                   1                                             3                         -1386.78\n",
       "4    129819596                                         0                        26973.573                               0.00          11613.00                 38573.57                                  0.0                                 0.0             0.0                     1                                         0                 0.00                              0.00                                             0                                   0                                             0                         -2134.01"
      ]
     },
     "execution_count": 13,
     "metadata": {},
     "output_type": "execute_result"
    }
   ],
   "source": [
    "_2004 = wr.s3.read_csv(\n",
    "    uri_validation_202104, \n",
    "    sep=',',\n",
    ")\n",
    "\n",
    "_2004.head()"
   ]
  },
  {
   "cell_type": "code",
   "execution_count": 14,
   "id": "4d644485",
   "metadata": {},
   "outputs": [
    {
     "data": {
      "text/html": [
       "<div>\n",
       "<style scoped>\n",
       "    .dataframe tbody tr th:only-of-type {\n",
       "        vertical-align: middle;\n",
       "    }\n",
       "\n",
       "    .dataframe tbody tr th {\n",
       "        vertical-align: top;\n",
       "    }\n",
       "\n",
       "    .dataframe thead th {\n",
       "        text-align: right;\n",
       "    }\n",
       "</style>\n",
       "<table border=\"1\" class=\"dataframe\">\n",
       "  <thead>\n",
       "    <tr style=\"text-align: right;\">\n",
       "      <th></th>\n",
       "      <th>cod_sbs_val</th>\n",
       "      <th>target_desembolso_f2m_mayor_30_menor_180</th>\n",
       "      <th>sum_saldo_ajustado_promedio_u9m</th>\n",
       "      <th>saldo_col_direct_vig_banco_no_ibk</th>\n",
       "      <th>monto_pagado_u6m</th>\n",
       "      <th>monto_deuda_sf_prom_u9m</th>\n",
       "      <th>percent_promedio_col_direct_ibk_u3m</th>\n",
       "      <th>tendencia_saldo_col_direct_vencido</th>\n",
       "      <th>saldo_reactiva</th>\n",
       "      <th>entidad_cnt_prom_u9m</th>\n",
       "      <th>tendencia_max_dias_atraso_coloc_directas</th>\n",
       "      <th>monto_adquirido_u6m</th>\n",
       "      <th>saldo_col_direct_vig_competencia</th>\n",
       "      <th>nro_entidades_ya_no_tiene_saldo_ajustado_u9m</th>\n",
       "      <th>nro_entidades_termino_prestamo_u9m</th>\n",
       "      <th>nro_entidades_ya_no_tiene_saldo_ajustado_u3m</th>\n",
       "      <th>ultima_variacion_saldo_ajustado</th>\n",
       "    </tr>\n",
       "  </thead>\n",
       "  <tbody>\n",
       "    <tr>\n",
       "      <th>0</th>\n",
       "      <td>171185335</td>\n",
       "      <td>0</td>\n",
       "      <td>9948.410</td>\n",
       "      <td>0.00</td>\n",
       "      <td>310.77</td>\n",
       "      <td>9948.41</td>\n",
       "      <td>0.0</td>\n",
       "      <td>0.0</td>\n",
       "      <td>0.0</td>\n",
       "      <td>1</td>\n",
       "      <td>1</td>\n",
       "      <td>0.00</td>\n",
       "      <td>0.0</td>\n",
       "      <td>0</td>\n",
       "      <td>0</td>\n",
       "      <td>0</td>\n",
       "      <td>0.00</td>\n",
       "    </tr>\n",
       "    <tr>\n",
       "      <th>1</th>\n",
       "      <td>100075318</td>\n",
       "      <td>0</td>\n",
       "      <td>71641.933</td>\n",
       "      <td>3193.94</td>\n",
       "      <td>2516.81</td>\n",
       "      <td>71641.93</td>\n",
       "      <td>0.0</td>\n",
       "      <td>0.0</td>\n",
       "      <td>0.0</td>\n",
       "      <td>1</td>\n",
       "      <td>0</td>\n",
       "      <td>3193.94</td>\n",
       "      <td>0.0</td>\n",
       "      <td>0</td>\n",
       "      <td>0</td>\n",
       "      <td>0</td>\n",
       "      <td>21.21</td>\n",
       "    </tr>\n",
       "    <tr>\n",
       "      <th>2</th>\n",
       "      <td>8984158</td>\n",
       "      <td>0</td>\n",
       "      <td>9858.766</td>\n",
       "      <td>0.00</td>\n",
       "      <td>10847.20</td>\n",
       "      <td>9858.77</td>\n",
       "      <td>0.0</td>\n",
       "      <td>0.0</td>\n",
       "      <td>0.0</td>\n",
       "      <td>1</td>\n",
       "      <td>0</td>\n",
       "      <td>0.00</td>\n",
       "      <td>0.0</td>\n",
       "      <td>0</td>\n",
       "      <td>1</td>\n",
       "      <td>1</td>\n",
       "      <td>-429.04</td>\n",
       "    </tr>\n",
       "    <tr>\n",
       "      <th>3</th>\n",
       "      <td>91049155</td>\n",
       "      <td>0</td>\n",
       "      <td>3781.113</td>\n",
       "      <td>0.00</td>\n",
       "      <td>6810.70</td>\n",
       "      <td>33781.11</td>\n",
       "      <td>0.0</td>\n",
       "      <td>0.0</td>\n",
       "      <td>0.0</td>\n",
       "      <td>1</td>\n",
       "      <td>0</td>\n",
       "      <td>0.00</td>\n",
       "      <td>0.0</td>\n",
       "      <td>0</td>\n",
       "      <td>1</td>\n",
       "      <td>1</td>\n",
       "      <td>0.00</td>\n",
       "    </tr>\n",
       "    <tr>\n",
       "      <th>4</th>\n",
       "      <td>129819596</td>\n",
       "      <td>0</td>\n",
       "      <td>24789.296</td>\n",
       "      <td>0.00</td>\n",
       "      <td>10219.91</td>\n",
       "      <td>36389.30</td>\n",
       "      <td>0.0</td>\n",
       "      <td>0.0</td>\n",
       "      <td>0.0</td>\n",
       "      <td>1</td>\n",
       "      <td>0</td>\n",
       "      <td>0.00</td>\n",
       "      <td>0.0</td>\n",
       "      <td>0</td>\n",
       "      <td>0</td>\n",
       "      <td>0</td>\n",
       "      <td>-2187.24</td>\n",
       "    </tr>\n",
       "  </tbody>\n",
       "</table>\n",
       "</div>"
      ],
      "text/plain": [
       "   cod_sbs_val  target_desembolso_f2m_mayor_30_menor_180  sum_saldo_ajustado_promedio_u9m  saldo_col_direct_vig_banco_no_ibk  monto_pagado_u6m  monto_deuda_sf_prom_u9m  percent_promedio_col_direct_ibk_u3m  tendencia_saldo_col_direct_vencido  saldo_reactiva  entidad_cnt_prom_u9m  tendencia_max_dias_atraso_coloc_directas  monto_adquirido_u6m  saldo_col_direct_vig_competencia  nro_entidades_ya_no_tiene_saldo_ajustado_u9m  nro_entidades_termino_prestamo_u9m  nro_entidades_ya_no_tiene_saldo_ajustado_u3m  ultima_variacion_saldo_ajustado\n",
       "0    171185335                                         0                         9948.410                               0.00            310.77                  9948.41                                  0.0                                 0.0             0.0                     1                                         1                 0.00                               0.0                                             0                                   0                                             0                             0.00\n",
       "1    100075318                                         0                        71641.933                            3193.94           2516.81                 71641.93                                  0.0                                 0.0             0.0                     1                                         0              3193.94                               0.0                                             0                                   0                                             0                            21.21\n",
       "2      8984158                                         0                         9858.766                               0.00          10847.20                  9858.77                                  0.0                                 0.0             0.0                     1                                         0                 0.00                               0.0                                             0                                   1                                             1                          -429.04\n",
       "3     91049155                                         0                         3781.113                               0.00           6810.70                 33781.11                                  0.0                                 0.0             0.0                     1                                         0                 0.00                               0.0                                             0                                   1                                             1                             0.00\n",
       "4    129819596                                         0                        24789.296                               0.00          10219.91                 36389.30                                  0.0                                 0.0             0.0                     1                                         0                 0.00                               0.0                                             0                                   0                                             0                         -2187.24"
      ]
     },
     "execution_count": 14,
     "metadata": {},
     "output_type": "execute_result"
    }
   ],
   "source": [
    "_2005 = wr.s3.read_csv(\n",
    "    uri_validation_202105, \n",
    "    sep=',',\n",
    ")\n",
    "\n",
    "_2005.head()"
   ]
  },
  {
   "cell_type": "code",
   "execution_count": 15,
   "id": "322e41fc",
   "metadata": {},
   "outputs": [
    {
     "data": {
      "text/html": [
       "<div>\n",
       "<style scoped>\n",
       "    .dataframe tbody tr th:only-of-type {\n",
       "        vertical-align: middle;\n",
       "    }\n",
       "\n",
       "    .dataframe tbody tr th {\n",
       "        vertical-align: top;\n",
       "    }\n",
       "\n",
       "    .dataframe thead th {\n",
       "        text-align: right;\n",
       "    }\n",
       "</style>\n",
       "<table border=\"1\" class=\"dataframe\">\n",
       "  <thead>\n",
       "    <tr style=\"text-align: right;\">\n",
       "      <th></th>\n",
       "      <th>cod_sbs_val</th>\n",
       "      <th>target_desembolso_f2m_mayor_30_menor_180</th>\n",
       "      <th>sum_saldo_ajustado_promedio_u9m</th>\n",
       "      <th>saldo_col_direct_vig_banco_no_ibk</th>\n",
       "      <th>monto_pagado_u6m</th>\n",
       "      <th>monto_deuda_sf_prom_u9m</th>\n",
       "      <th>percent_promedio_col_direct_ibk_u3m</th>\n",
       "      <th>tendencia_saldo_col_direct_vencido</th>\n",
       "      <th>saldo_reactiva</th>\n",
       "      <th>entidad_cnt_prom_u9m</th>\n",
       "      <th>tendencia_max_dias_atraso_coloc_directas</th>\n",
       "      <th>monto_adquirido_u6m</th>\n",
       "      <th>saldo_col_direct_vig_competencia</th>\n",
       "      <th>nro_entidades_ya_no_tiene_saldo_ajustado_u9m</th>\n",
       "      <th>nro_entidades_termino_prestamo_u9m</th>\n",
       "      <th>nro_entidades_ya_no_tiene_saldo_ajustado_u3m</th>\n",
       "      <th>ultima_variacion_saldo_ajustado</th>\n",
       "    </tr>\n",
       "  </thead>\n",
       "  <tbody>\n",
       "    <tr>\n",
       "      <th>0</th>\n",
       "      <td>69944825</td>\n",
       "      <td>0</td>\n",
       "      <td>30068.778</td>\n",
       "      <td>0.00</td>\n",
       "      <td>0.00</td>\n",
       "      <td>30068.78</td>\n",
       "      <td>0.0</td>\n",
       "      <td>1.078</td>\n",
       "      <td>0.00</td>\n",
       "      <td>1</td>\n",
       "      <td>1</td>\n",
       "      <td>0.00</td>\n",
       "      <td>0.00</td>\n",
       "      <td>0</td>\n",
       "      <td>1</td>\n",
       "      <td>0</td>\n",
       "      <td>-28024.85</td>\n",
       "    </tr>\n",
       "    <tr>\n",
       "      <th>1</th>\n",
       "      <td>188734898</td>\n",
       "      <td>0</td>\n",
       "      <td>4298.699</td>\n",
       "      <td>0.00</td>\n",
       "      <td>12433.63</td>\n",
       "      <td>34351.20</td>\n",
       "      <td>0.0</td>\n",
       "      <td>0.000</td>\n",
       "      <td>30052.50</td>\n",
       "      <td>1</td>\n",
       "      <td>0</td>\n",
       "      <td>5036.00</td>\n",
       "      <td>0.00</td>\n",
       "      <td>0</td>\n",
       "      <td>1</td>\n",
       "      <td>1</td>\n",
       "      <td>5036.00</td>\n",
       "    </tr>\n",
       "    <tr>\n",
       "      <th>2</th>\n",
       "      <td>167216935</td>\n",
       "      <td>0</td>\n",
       "      <td>54952.034</td>\n",
       "      <td>0.00</td>\n",
       "      <td>232.46</td>\n",
       "      <td>54952.03</td>\n",
       "      <td>0.0</td>\n",
       "      <td>1.429</td>\n",
       "      <td>0.00</td>\n",
       "      <td>3</td>\n",
       "      <td>1</td>\n",
       "      <td>2115.35</td>\n",
       "      <td>0.00</td>\n",
       "      <td>0</td>\n",
       "      <td>0</td>\n",
       "      <td>0</td>\n",
       "      <td>0.00</td>\n",
       "    </tr>\n",
       "    <tr>\n",
       "      <th>3</th>\n",
       "      <td>89081106</td>\n",
       "      <td>0</td>\n",
       "      <td>26665.682</td>\n",
       "      <td>20520.76</td>\n",
       "      <td>7390.15</td>\n",
       "      <td>73857.74</td>\n",
       "      <td>0.0</td>\n",
       "      <td>0.000</td>\n",
       "      <td>46244.87</td>\n",
       "      <td>1</td>\n",
       "      <td>0</td>\n",
       "      <td>0.00</td>\n",
       "      <td>20520.76</td>\n",
       "      <td>0</td>\n",
       "      <td>0</td>\n",
       "      <td>0</td>\n",
       "      <td>-1550.29</td>\n",
       "    </tr>\n",
       "    <tr>\n",
       "      <th>4</th>\n",
       "      <td>85993925</td>\n",
       "      <td>0</td>\n",
       "      <td>15708.608</td>\n",
       "      <td>0.00</td>\n",
       "      <td>2673.66</td>\n",
       "      <td>15708.61</td>\n",
       "      <td>0.0</td>\n",
       "      <td>0.000</td>\n",
       "      <td>0.00</td>\n",
       "      <td>0</td>\n",
       "      <td>0</td>\n",
       "      <td>25000.00</td>\n",
       "      <td>0.00</td>\n",
       "      <td>0</td>\n",
       "      <td>0</td>\n",
       "      <td>0</td>\n",
       "      <td>-1107.99</td>\n",
       "    </tr>\n",
       "  </tbody>\n",
       "</table>\n",
       "</div>"
      ],
      "text/plain": [
       "   cod_sbs_val  target_desembolso_f2m_mayor_30_menor_180  sum_saldo_ajustado_promedio_u9m  saldo_col_direct_vig_banco_no_ibk  monto_pagado_u6m  monto_deuda_sf_prom_u9m  percent_promedio_col_direct_ibk_u3m  tendencia_saldo_col_direct_vencido  saldo_reactiva  entidad_cnt_prom_u9m  tendencia_max_dias_atraso_coloc_directas  monto_adquirido_u6m  saldo_col_direct_vig_competencia  nro_entidades_ya_no_tiene_saldo_ajustado_u9m  nro_entidades_termino_prestamo_u9m  nro_entidades_ya_no_tiene_saldo_ajustado_u3m  ultima_variacion_saldo_ajustado\n",
       "0     69944825                                         0                        30068.778                               0.00              0.00                 30068.78                                  0.0                               1.078            0.00                     1                                         1                 0.00                              0.00                                             0                                   1                                             0                        -28024.85\n",
       "1    188734898                                         0                         4298.699                               0.00          12433.63                 34351.20                                  0.0                               0.000        30052.50                     1                                         0              5036.00                              0.00                                             0                                   1                                             1                          5036.00\n",
       "2    167216935                                         0                        54952.034                               0.00            232.46                 54952.03                                  0.0                               1.429            0.00                     3                                         1              2115.35                              0.00                                             0                                   0                                             0                             0.00\n",
       "3     89081106                                         0                        26665.682                           20520.76           7390.15                 73857.74                                  0.0                               0.000        46244.87                     1                                         0                 0.00                          20520.76                                             0                                   0                                             0                         -1550.29\n",
       "4     85993925                                         0                        15708.608                               0.00           2673.66                 15708.61                                  0.0                               0.000            0.00                     0                                         0             25000.00                              0.00                                             0                                   0                                             0                         -1107.99"
      ]
     },
     "execution_count": 15,
     "metadata": {},
     "output_type": "execute_result"
    }
   ],
   "source": [
    "_2006 = wr.s3.read_csv(\n",
    "    uri_validation_202106, \n",
    "    sep=',',\n",
    ")\n",
    "\n",
    "_2006.head()"
   ]
  },
  {
   "cell_type": "code",
   "execution_count": 16,
   "id": "0359fcc9",
   "metadata": {},
   "outputs": [
    {
     "data": {
      "text/plain": [
       "((722801, 17), (739926, 17), (753078, 17), (747768, 17))"
      ]
     },
     "execution_count": 16,
     "metadata": {},
     "output_type": "execute_result"
    }
   ],
   "source": [
    "_2003.shape, _2004.shape, _2005.shape, _2006.shape"
   ]
  },
  {
   "cell_type": "code",
   "execution_count": null,
   "id": "a33e909c",
   "metadata": {},
   "outputs": [],
   "source": []
  },
  {
   "cell_type": "markdown",
   "id": "edcd7766",
   "metadata": {},
   "source": [
    "### Deploy temporal"
   ]
  },
  {
   "cell_type": "code",
   "execution_count": 17,
   "id": "6daa6838",
   "metadata": {},
   "outputs": [],
   "source": [
    "from sagemaker.estimator import Estimator, Transformer"
   ]
  },
  {
   "cell_type": "code",
   "execution_count": 18,
   "id": "28b4cbb9",
   "metadata": {},
   "outputs": [
    {
     "name": "stdout",
     "output_type": "stream",
     "text": [
      "\n",
      "2021-07-31 05:19:10 Starting - Preparing the instances for training\n",
      "2021-07-31 05:19:10 Downloading - Downloading input data\n",
      "2021-07-31 05:19:10 Training - Training image download completed. Training in progress.\n",
      "2021-07-31 05:19:10 Uploading - Uploading generated training model\n",
      "2021-07-31 05:19:10 Completed - Training job completed\n"
     ]
    }
   ],
   "source": [
    "model = Estimator.attach(model_code)"
   ]
  },
  {
   "cell_type": "code",
   "execution_count": null,
   "id": "bc3195a5",
   "metadata": {},
   "outputs": [],
   "source": [
    "#help(model.deploy)"
   ]
  },
  {
   "cell_type": "code",
   "execution_count": 19,
   "id": "309ae6d9",
   "metadata": {},
   "outputs": [
    {
     "name": "stdout",
     "output_type": "stream",
     "text": [
      "Creating model with name: xgboost-vpc-7-2021-08-02-19-04-05-828\n",
      "Creating endpoint with name xgboost-vpc-7-2021-08-02-19-04-05-828\n",
      "---------------!"
     ]
    }
   ],
   "source": [
    "from sagemaker.serializers import CSVSerializer\n",
    "\n",
    "model_predictor = model.deploy(\n",
    "    initial_instance_count=1, \n",
    "    instance_type='ml.m5.xlarge',\n",
    "    serializer=CSVSerializer()\n",
    ")"
   ]
  },
  {
   "cell_type": "code",
   "execution_count": 20,
   "id": "0a055d07",
   "metadata": {},
   "outputs": [
    {
     "data": {
      "text/plain": [
       "('text/csv', 'xgboost-vpc-7-2021-08-02-19-04-05-828')"
      ]
     },
     "execution_count": 20,
     "metadata": {},
     "output_type": "execute_result"
    }
   ],
   "source": [
    "model_predictor.content_type, model_predictor.endpoint_name"
   ]
  },
  {
   "cell_type": "code",
   "execution_count": 21,
   "id": "21d63a66",
   "metadata": {},
   "outputs": [
    {
     "data": {
      "text/plain": [
       "b'0.0009870181092992425,0.0046933977864682674,0.0006467682542279363,0.0005397457862272859,0.0003715981147252023,0.015528907999396324,0.0004413421265780926,0.0003016996488440782,0.017120154574513435,0.00024525579647161067'"
      ]
     },
     "execution_count": 21,
     "metadata": {},
     "output_type": "execute_result"
    }
   ],
   "source": [
    "model_predictor.predict(_2003[seleccionadas].iloc[:10].values)  # --->  error 413 tamanio muy gtrande"
   ]
  },
  {
   "cell_type": "code",
   "execution_count": 22,
   "id": "860fb98a",
   "metadata": {},
   "outputs": [],
   "source": [
    "def predict_(data, rows=1000):\n",
    "    split_array = np.array_split(data, int(data.shape[0] / float(rows) + 1))\n",
    "    predictions = ''\n",
    "    for array in split_array:\n",
    "        predictions = ','.join(\n",
    "            [\n",
    "                predictions, \n",
    "                model_predictor.predict(array).decode('utf-8')\n",
    "            ]\n",
    "        )\n",
    "\n",
    "    return np.fromstring(predictions[1:], sep=',')"
   ]
  },
  {
   "cell_type": "code",
   "execution_count": 29,
   "id": "50b92548",
   "metadata": {},
   "outputs": [],
   "source": [
    "#predicction_validation = predict_(validation[seleccionadas].values)\n",
    "#pd.Series(predicction_validation).hist()"
   ]
  },
  {
   "cell_type": "code",
   "execution_count": 30,
   "id": "b47ef4a2",
   "metadata": {},
   "outputs": [],
   "source": [
    "#predicction_validation[predicction_validation >= 0.5].shape, predicction_validation.max()"
   ]
  },
  {
   "cell_type": "code",
   "execution_count": null,
   "id": "1838ddce",
   "metadata": {},
   "outputs": [],
   "source": []
  },
  {
   "cell_type": "markdown",
   "id": "3becb3b8",
   "metadata": {},
   "source": [
    "## >> 202103"
   ]
  },
  {
   "cell_type": "code",
   "execution_count": 23,
   "id": "0522b27c",
   "metadata": {},
   "outputs": [
    {
     "data": {
      "text/plain": [
       "<AxesSubplot:>"
      ]
     },
     "execution_count": 23,
     "metadata": {},
     "output_type": "execute_result"
    },
    {
     "data": {
      "image/png": "[encoded data removed]",
      "text/plain": [
       "<Figure size 432x288 with 1 Axes>"
      ]
     },
     "metadata": {},
     "output_type": "display_data"
    }
   ],
   "source": [
    "prediccion_202103 = predict_(_2003[seleccionadas].values)\n",
    "pd.Series(prediccion_202103).hist()"
   ]
  },
  {
   "cell_type": "code",
   "execution_count": 36,
   "id": "5c49612f",
   "metadata": {},
   "outputs": [
    {
     "name": "stdout",
     "output_type": "stream",
     "text": [
      "ROC AUC :::::  0.5975960909055619\n",
      "GINI    :::::  0.19519218181112374\n"
     ]
    }
   ],
   "source": [
    "from sklearn.metrics import roc_auc_score\n",
    "\n",
    "roc_auc = roc_auc_score(_2003[target], prediccion_202103)\n",
    "print(\"ROC AUC ::::: \", roc_auc)\n",
    "print(\"GINI    ::::: \", roc_auc*2 - 1)"
   ]
  },
  {
   "cell_type": "code",
   "execution_count": 33,
   "id": "7659fc61",
   "metadata": {},
   "outputs": [
    {
     "data": {
      "text/plain": [
       "((0,), 0.39940962195396423)"
      ]
     },
     "execution_count": 33,
     "metadata": {},
     "output_type": "execute_result"
    }
   ],
   "source": [
    "prediccion_202103[prediccion_202103 >= 0.5].shape, prediccion_202103.max()"
   ]
  },
  {
   "cell_type": "code",
   "execution_count": null,
   "id": "610e4f4f",
   "metadata": {},
   "outputs": [],
   "source": []
  },
  {
   "cell_type": "markdown",
   "id": "feb16189",
   "metadata": {},
   "source": [
    "## >> 202104"
   ]
  },
  {
   "cell_type": "code",
   "execution_count": 34,
   "id": "c2a95646",
   "metadata": {},
   "outputs": [
    {
     "data": {
      "text/plain": [
       "<AxesSubplot:>"
      ]
     },
     "execution_count": 34,
     "metadata": {},
     "output_type": "execute_result"
    },
    {
     "data": {
      "image/png": "[encoded data removed]",
      "text/plain": [
       "<Figure size 432x288 with 1 Axes>"
      ]
     },
     "metadata": {},
     "output_type": "display_data"
    }
   ],
   "source": [
    "prediccion_202104 = predict_(_2004[seleccionadas].values)\n",
    "pd.Series(prediccion_202104).hist()"
   ]
  },
  {
   "cell_type": "code",
   "execution_count": 35,
   "id": "dce408d9",
   "metadata": {},
   "outputs": [
    {
     "data": {
      "text/plain": [
       "((0,), 0.389301061630249)"
      ]
     },
     "execution_count": 35,
     "metadata": {},
     "output_type": "execute_result"
    }
   ],
   "source": [
    "prediccion_202104[prediccion_202104 > 0.5].shape, prediccion_202104.max()"
   ]
  },
  {
   "cell_type": "code",
   "execution_count": 37,
   "id": "d129af12",
   "metadata": {},
   "outputs": [
    {
     "name": "stdout",
     "output_type": "stream",
     "text": [
      "ROC AUC :::::  0.6036633281089517\n",
      "GINI    :::::  0.20732665621790347\n"
     ]
    }
   ],
   "source": [
    "roc_auc = roc_auc_score(_2004[target], prediccion_202104)\n",
    "print(\"ROC AUC ::::: \", roc_auc)\n",
    "print(\"GINI    ::::: \", roc_auc*2 - 1)"
   ]
  },
  {
   "cell_type": "code",
   "execution_count": null,
   "id": "0c53b2ee",
   "metadata": {},
   "outputs": [],
   "source": []
  },
  {
   "cell_type": "markdown",
   "id": "ec116b47",
   "metadata": {},
   "source": [
    "## >> 202105"
   ]
  },
  {
   "cell_type": "code",
   "execution_count": 38,
   "id": "3204d113",
   "metadata": {},
   "outputs": [
    {
     "data": {
      "text/plain": [
       "<AxesSubplot:>"
      ]
     },
     "execution_count": 38,
     "metadata": {},
     "output_type": "execute_result"
    },
    {
     "data": {
      "image/png": "[encoded data removed]",
      "text/plain": [
       "<Figure size 432x288 with 1 Axes>"
      ]
     },
     "metadata": {},
     "output_type": "display_data"
    }
   ],
   "source": [
    "prediccion_202105 = predict_(_2005[seleccionadas].values)\n",
    "pd.Series(prediccion_202105).hist()"
   ]
  },
  {
   "cell_type": "code",
   "execution_count": 39,
   "id": "d17ae9f7",
   "metadata": {},
   "outputs": [
    {
     "data": {
      "text/plain": [
       "((0,), 0.4160793721675873)"
      ]
     },
     "execution_count": 39,
     "metadata": {},
     "output_type": "execute_result"
    }
   ],
   "source": [
    "prediccion_202105[prediccion_202105 > 0.5].shape, prediccion_202105.max()"
   ]
  },
  {
   "cell_type": "code",
   "execution_count": null,
   "id": "92eca995",
   "metadata": {},
   "outputs": [],
   "source": []
  },
  {
   "cell_type": "markdown",
   "id": "63a7bd65",
   "metadata": {},
   "source": [
    "## >> 202106"
   ]
  },
  {
   "cell_type": "code",
   "execution_count": 40,
   "id": "c42a4554",
   "metadata": {},
   "outputs": [
    {
     "data": {
      "text/plain": [
       "<AxesSubplot:>"
      ]
     },
     "execution_count": 40,
     "metadata": {},
     "output_type": "execute_result"
    },
    {
     "data": {
      "image/png": "[encoded data removed]",
      "text/plain": [
       "<Figure size 432x288 with 1 Axes>"
      ]
     },
     "metadata": {},
     "output_type": "display_data"
    }
   ],
   "source": [
    "prediccion_202106 = predict_(_2006[seleccionadas].values)\n",
    "pd.Series(prediccion_202106).hist()"
   ]
  },
  {
   "cell_type": "code",
   "execution_count": 41,
   "id": "fa589ca3",
   "metadata": {},
   "outputs": [
    {
     "data": {
      "text/plain": [
       "((0,), 0.4059714674949646)"
      ]
     },
     "execution_count": 41,
     "metadata": {},
     "output_type": "execute_result"
    }
   ],
   "source": [
    "prediccion_202106[prediccion_202106 > 0.5].shape, prediccion_202106.max()"
   ]
  },
  {
   "cell_type": "code",
   "execution_count": null,
   "id": "5ccd5df8",
   "metadata": {},
   "outputs": [],
   "source": []
  },
  {
   "cell_type": "markdown",
   "id": "2d1c9a34",
   "metadata": {},
   "source": [
    "### SAVE"
   ]
  },
  {
   "cell_type": "code",
   "execution_count": 43,
   "id": "f0cbd6c6",
   "metadata": {},
   "outputs": [],
   "source": [
    "_2003['target'] = prediccion_202103\n",
    "_2003.to_csv(uri_validation_202103.replace('seguimiento', 'prediccion'), index=False)"
   ]
  },
  {
   "cell_type": "code",
   "execution_count": 44,
   "id": "ceaabc76",
   "metadata": {},
   "outputs": [],
   "source": [
    "_2004['target'] = prediccion_202104\n",
    "_2004.to_csv(uri_validation_202104.replace('seguimiento', 'prediccion'), index=False)"
   ]
  },
  {
   "cell_type": "code",
   "execution_count": 45,
   "id": "8bcd82f8",
   "metadata": {},
   "outputs": [],
   "source": [
    "_2005['target'] = prediccion_202105\n",
    "_2005.to_csv(uri_validation_202105.replace('seguimiento', 'prediccion'), index=False)"
   ]
  },
  {
   "cell_type": "code",
   "execution_count": 46,
   "id": "7309ab5f",
   "metadata": {},
   "outputs": [],
   "source": [
    "_2006['target'] = prediccion_202106\n",
    "_2006.to_csv(uri_validation_202106.replace('seguimiento', 'prediccion'), index=False)"
   ]
  },
  {
   "cell_type": "code",
   "execution_count": 47,
   "id": "199f2bd7",
   "metadata": {},
   "outputs": [],
   "source": [
    "del _2003\n",
    "del _2004\n",
    "del _2005\n",
    "del _2006"
   ]
  },
  {
   "cell_type": "code",
   "execution_count": null,
   "id": "294a9295",
   "metadata": {},
   "outputs": [],
   "source": []
  },
  {
   "cell_type": "markdown",
   "id": "921ab9d3",
   "metadata": {},
   "source": [
    "### Eliminación de Deploy (!IMPORTANTE)"
   ]
  },
  {
   "cell_type": "code",
   "execution_count": 48,
   "id": "23a500ae",
   "metadata": {},
   "outputs": [
    {
     "name": "stdout",
     "output_type": "stream",
     "text": [
      "Deleting model with name: xgboost-vpc-7-2021-08-02-19-04-05-828\n"
     ]
    }
   ],
   "source": [
    "try:\n",
    "    model_predictor.delete_model()\n",
    "except Exception as e:\n",
    "    print(str(e))"
   ]
  },
  {
   "cell_type": "code",
   "execution_count": 49,
   "id": "8f77e7ea",
   "metadata": {},
   "outputs": [
    {
     "name": "stdout",
     "output_type": "stream",
     "text": [
      "Deleting endpoint configuration with name: xgboost-vpc-7-2021-08-02-19-04-05-828\n",
      "Deleting endpoint with name: xgboost-vpc-7-2021-08-02-19-04-05-828\n"
     ]
    }
   ],
   "source": [
    "try:\n",
    "    model_predictor.delete_endpoint()\n",
    "except Esception as e:\n",
    "    print(str(e))"
   ]
  },
  {
   "cell_type": "markdown",
   "id": "49b71e78",
   "metadata": {},
   "source": [
    "#### En caso de error o olvido , dirigirese al panel izquierdo de la interfaz de Sage Maker , ingresar a la sección de Inferencia e liminar el modelo y punto de enlace de manera manual en la subsecciones correspondientes.  (Hacer esto en caso no se desea dejar una maquina encendida 24 *7 con el modelo activo)"
   ]
  },
  {
   "cell_type": "code",
   "execution_count": null,
   "id": "0093c90f",
   "metadata": {},
   "outputs": [],
   "source": []
  },
  {
   "cell_type": "code",
   "execution_count": null,
   "id": "85827559",
   "metadata": {},
   "outputs": [],
   "source": []
  },
  {
   "cell_type": "code",
   "execution_count": null,
   "id": "f5b24b7b",
   "metadata": {},
   "outputs": [],
   "source": []
  },
  {
   "cell_type": "code",
   "execution_count": null,
   "id": "3cb8d37b",
   "metadata": {},
   "outputs": [],
   "source": []
  }
 ],
 "metadata": {
  "kernelspec": {
   "display_name": "conda_python3",
   "language": "python",
   "name": "conda_python3"
  },
  "language_info": {
   "codemirror_mode": {
    "name": "ipython",
    "version": 3
   },
   "file_extension": ".py",
   "mimetype": "text/x-python",
   "name": "python",
   "nbconvert_exporter": "python",
   "pygments_lexer": "ipython3",
   "version": "3.6.13"
  }
 },
 "nbformat": 4,
 "nbformat_minor": 5
}
