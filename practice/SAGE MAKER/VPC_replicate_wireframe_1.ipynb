{
 "cells": [
  {
   "cell_type": "code",
   "execution_count": 1,
   "id": "72047e8f",
   "metadata": {},
   "outputs": [
    {
     "name": "stdout",
     "output_type": "stream",
     "text": [
      "Collecting awswrangler\n",
      "  Downloading awswrangler-2.8.0-py3-none-any.whl (179 kB)\n",
      "\u001b[K     |████████████████████████████████| 179 kB 24.3 MB/s eta 0:00:01\n",
      "\u001b[?25hCollecting redshift-connector~=2.0.0\n",
      "  Downloading redshift_connector-2.0.881-py3-none-any.whl (91 kB)\n",
      "\u001b[K     |████████████████████████████████| 91 kB 2.4 MB/s  eta 0:00:01\n",
      "\u001b[?25hRequirement already satisfied: numpy<1.21.0,>=1.18.0 in /home/ec2-user/anaconda3/envs/python3/lib/python3.6/site-packages (from awswrangler) (1.19.5)\n",
      "Requirement already satisfied: botocore<2.0.0,>=1.15.49 in /home/ec2-user/anaconda3/envs/python3/lib/python3.6/site-packages (from awswrangler) (1.20.79)\n",
      "Collecting pymysql<1.1.0,>=0.9.0\n",
      "  Downloading PyMySQL-1.0.2-py3-none-any.whl (43 kB)\n",
      "\u001b[K     |████████████████████████████████| 43 kB 412 kB/s  eta 0:00:01\n",
      "\u001b[?25hRequirement already satisfied: openpyxl~=3.0.0 in /home/ec2-user/anaconda3/envs/python3/lib/python3.6/site-packages (from awswrangler) (3.0.6)\n",
      "Requirement already satisfied: boto3<2.0.0,>=1.12.49 in /home/ec2-user/anaconda3/envs/python3/lib/python3.6/site-packages (from awswrangler) (1.17.79)\n",
      "Requirement already satisfied: pyarrow<4.1.0,>=2.0.0 in /home/ec2-user/anaconda3/envs/python3/lib/python3.6/site-packages (from awswrangler) (4.0.0)\n",
      "Collecting pg8000<1.20.0,>=1.16.0\n",
      "  Downloading pg8000-1.19.5-py3-none-any.whl (34 kB)\n",
      "Requirement already satisfied: pandas<1.3.0,>=1.1.0 in /home/ec2-user/anaconda3/envs/python3/lib/python3.6/site-packages (from awswrangler) (1.1.5)\n",
      "Requirement already satisfied: jmespath<1.0.0,>=0.7.1 in /home/ec2-user/anaconda3/envs/python3/lib/python3.6/site-packages (from boto3<2.0.0,>=1.12.49->awswrangler) (0.10.0)\n",
      "Requirement already satisfied: s3transfer<0.5.0,>=0.4.0 in /home/ec2-user/anaconda3/envs/python3/lib/python3.6/site-packages (from boto3<2.0.0,>=1.12.49->awswrangler) (0.4.2)\n",
      "Requirement already satisfied: urllib3<1.27,>=1.25.4 in /home/ec2-user/anaconda3/envs/python3/lib/python3.6/site-packages (from botocore<2.0.0,>=1.15.49->awswrangler) (1.26.4)\n",
      "Requirement already satisfied: python-dateutil<3.0.0,>=2.1 in /home/ec2-user/anaconda3/envs/python3/lib/python3.6/site-packages (from botocore<2.0.0,>=1.15.49->awswrangler) (2.8.1)\n",
      "Requirement already satisfied: et-xmlfile in /home/ec2-user/anaconda3/envs/python3/lib/python3.6/site-packages (from openpyxl~=3.0.0->awswrangler) (1.0.1)\n",
      "Requirement already satisfied: jdcal in /home/ec2-user/anaconda3/envs/python3/lib/python3.6/site-packages (from openpyxl~=3.0.0->awswrangler) (1.4.1)\n",
      "Requirement already satisfied: pytz>=2017.2 in /home/ec2-user/anaconda3/envs/python3/lib/python3.6/site-packages (from pandas<1.3.0,>=1.1.0->awswrangler) (2021.1)\n",
      "Collecting scramp==1.4.0\n",
      "  Downloading scramp-1.4.0-py3-none-any.whl (8.4 kB)\n",
      "Requirement already satisfied: asn1crypto==1.4.0 in /home/ec2-user/anaconda3/envs/python3/lib/python3.6/site-packages (from scramp==1.4.0->pg8000<1.20.0,>=1.16.0->awswrangler) (1.4.0)\n",
      "Requirement already satisfied: six>=1.5 in /home/ec2-user/anaconda3/envs/python3/lib/python3.6/site-packages (from python-dateutil<3.0.0,>=2.1->botocore<2.0.0,>=1.15.49->awswrangler) (1.15.0)\n",
      "Requirement already satisfied: lxml>=4.6.2 in /home/ec2-user/anaconda3/envs/python3/lib/python3.6/site-packages (from redshift-connector~=2.0.0->awswrangler) (4.6.3)\n",
      "Requirement already satisfied: beautifulsoup4<5.0.0,>=4.7.0 in /home/ec2-user/anaconda3/envs/python3/lib/python3.6/site-packages (from redshift-connector~=2.0.0->awswrangler) (4.9.3)\n",
      "Requirement already satisfied: requests<2.25.2,>=2.23.0 in /home/ec2-user/anaconda3/envs/python3/lib/python3.6/site-packages (from redshift-connector~=2.0.0->awswrangler) (2.25.1)\n",
      "Requirement already satisfied: soupsieve>1.2 in /home/ec2-user/anaconda3/envs/python3/lib/python3.6/site-packages (from beautifulsoup4<5.0.0,>=4.7.0->redshift-connector~=2.0.0->awswrangler) (2.0.1)\n",
      "Requirement already satisfied: certifi>=2017.4.17 in /home/ec2-user/anaconda3/envs/python3/lib/python3.6/site-packages (from requests<2.25.2,>=2.23.0->redshift-connector~=2.0.0->awswrangler) (2020.12.5)\n",
      "Requirement already satisfied: idna<3,>=2.5 in /home/ec2-user/anaconda3/envs/python3/lib/python3.6/site-packages (from requests<2.25.2,>=2.23.0->redshift-connector~=2.0.0->awswrangler) (2.10)\n",
      "Requirement already satisfied: chardet<5,>=3.0.2 in /home/ec2-user/anaconda3/envs/python3/lib/python3.6/site-packages (from requests<2.25.2,>=2.23.0->redshift-connector~=2.0.0->awswrangler) (3.0.4)\n",
      "Installing collected packages: scramp, redshift-connector, pymysql, pg8000, awswrangler\n",
      "Successfully installed awswrangler-2.8.0 pg8000-1.19.5 pymysql-1.0.2 redshift-connector-2.0.881 scramp-1.4.0\n"
     ]
    }
   ],
   "source": [
    "!pip install awswrangler"
   ]
  },
  {
   "cell_type": "code",
   "execution_count": 2,
   "id": "d8806608",
   "metadata": {},
   "outputs": [
    {
     "data": {
      "text/plain": [
       "'sagemaker-us-east-1-058528764918'"
      ]
     },
     "execution_count": 2,
     "metadata": {},
     "output_type": "execute_result"
    }
   ],
   "source": [
    "import pandas as pd\n",
    "import awswrangler as wr\n",
    "import sagemaker\n",
    "bucket = sagemaker.Session().default_bucket()\n",
    "bucket ## bucket asignado al equipo acorde a nuestro SSO "
   ]
  },
  {
   "cell_type": "code",
   "execution_count": 3,
   "id": "0638a818",
   "metadata": {},
   "outputs": [],
   "source": [
    "sess = sagemaker.session.Session(default_bucket= 's3://{}'.format(bucket))  ##seteado de bucket a usar\n",
    "role = sagemaker.get_execution_role()   ## levantamiento de roles"
   ]
  },
  {
   "cell_type": "markdown",
   "id": "5f17c463",
   "metadata": {},
   "source": [
    "### >> LOAD DATA"
   ]
  },
  {
   "cell_type": "code",
   "execution_count": 4,
   "id": "f9785dbf",
   "metadata": {},
   "outputs": [
    {
     "data": {
      "text/html": [
       "<div>\n",
       "<style scoped>\n",
       "    .dataframe tbody tr th:only-of-type {\n",
       "        vertical-align: middle;\n",
       "    }\n",
       "\n",
       "    .dataframe tbody tr th {\n",
       "        vertical-align: top;\n",
       "    }\n",
       "\n",
       "    .dataframe thead th {\n",
       "        text-align: right;\n",
       "    }\n",
       "</style>\n",
       "<table border=\"1\" class=\"dataframe\">\n",
       "  <thead>\n",
       "    <tr style=\"text-align: right;\">\n",
       "      <th></th>\n",
       "      <th>TIP_DOC</th>\n",
       "      <th>NUM_DOC</th>\n",
       "      <th>COD_UNICO</th>\n",
       "      <th>PERIODO</th>\n",
       "      <th>MTO_DEUDA_COL_DIR_IBK</th>\n",
       "      <th>MTO_DEUDA_COL_DIR_SF</th>\n",
       "      <th>TRG_1M</th>\n",
       "      <th>TRG_2M</th>\n",
       "      <th>TRG_3M</th>\n",
       "      <th>TRG_4M</th>\n",
       "      <th>...</th>\n",
       "      <th>FLG_2M_ANTES</th>\n",
       "      <th>FLG_3M_ANTES</th>\n",
       "      <th>FLG_4M_ANTES</th>\n",
       "      <th>AUMENTOS_BPE_1M_ANTES</th>\n",
       "      <th>AUMENTOS_BPE_2M_ANTES</th>\n",
       "      <th>AUMENTOS_BPE_3M_ANTES</th>\n",
       "      <th>AUMENTOS_BPE_4M_ANTES</th>\n",
       "      <th>GENERO_F</th>\n",
       "      <th>GENERO_M</th>\n",
       "      <th>EDAD_RRLL</th>\n",
       "    </tr>\n",
       "  </thead>\n",
       "  <tbody>\n",
       "    <tr>\n",
       "      <th>0</th>\n",
       "      <td>2</td>\n",
       "      <td>20453973787</td>\n",
       "      <td>NaN</td>\n",
       "      <td>202006</td>\n",
       "      <td>0.0</td>\n",
       "      <td>9617.80</td>\n",
       "      <td>0</td>\n",
       "      <td>0</td>\n",
       "      <td>0</td>\n",
       "      <td>0</td>\n",
       "      <td>...</td>\n",
       "      <td>0</td>\n",
       "      <td>0</td>\n",
       "      <td>0</td>\n",
       "      <td>0</td>\n",
       "      <td>0</td>\n",
       "      <td>0</td>\n",
       "      <td>0</td>\n",
       "      <td>0.0</td>\n",
       "      <td>0.0</td>\n",
       "      <td>NaN</td>\n",
       "    </tr>\n",
       "    <tr>\n",
       "      <th>1</th>\n",
       "      <td>2</td>\n",
       "      <td>20453974244</td>\n",
       "      <td>10743339.0</td>\n",
       "      <td>202009</td>\n",
       "      <td>0.0</td>\n",
       "      <td>435514.55</td>\n",
       "      <td>0</td>\n",
       "      <td>0</td>\n",
       "      <td>0</td>\n",
       "      <td>0</td>\n",
       "      <td>...</td>\n",
       "      <td>0</td>\n",
       "      <td>0</td>\n",
       "      <td>0</td>\n",
       "      <td>0</td>\n",
       "      <td>0</td>\n",
       "      <td>0</td>\n",
       "      <td>0</td>\n",
       "      <td>0.0</td>\n",
       "      <td>0.0</td>\n",
       "      <td>NaN</td>\n",
       "    </tr>\n",
       "    <tr>\n",
       "      <th>2</th>\n",
       "      <td>2</td>\n",
       "      <td>20453981534</td>\n",
       "      <td>NaN</td>\n",
       "      <td>202101</td>\n",
       "      <td>0.0</td>\n",
       "      <td>22579.21</td>\n",
       "      <td>0</td>\n",
       "      <td>0</td>\n",
       "      <td>0</td>\n",
       "      <td>0</td>\n",
       "      <td>...</td>\n",
       "      <td>0</td>\n",
       "      <td>0</td>\n",
       "      <td>0</td>\n",
       "      <td>0</td>\n",
       "      <td>0</td>\n",
       "      <td>0</td>\n",
       "      <td>0</td>\n",
       "      <td>0.0</td>\n",
       "      <td>0.0</td>\n",
       "      <td>NaN</td>\n",
       "    </tr>\n",
       "    <tr>\n",
       "      <th>3</th>\n",
       "      <td>2</td>\n",
       "      <td>20453981534</td>\n",
       "      <td>NaN</td>\n",
       "      <td>202102</td>\n",
       "      <td>0.0</td>\n",
       "      <td>19682.35</td>\n",
       "      <td>0</td>\n",
       "      <td>0</td>\n",
       "      <td>0</td>\n",
       "      <td>0</td>\n",
       "      <td>...</td>\n",
       "      <td>0</td>\n",
       "      <td>0</td>\n",
       "      <td>0</td>\n",
       "      <td>0</td>\n",
       "      <td>0</td>\n",
       "      <td>0</td>\n",
       "      <td>0</td>\n",
       "      <td>0.0</td>\n",
       "      <td>0.0</td>\n",
       "      <td>NaN</td>\n",
       "    </tr>\n",
       "    <tr>\n",
       "      <th>4</th>\n",
       "      <td>2</td>\n",
       "      <td>20453984398</td>\n",
       "      <td>NaN</td>\n",
       "      <td>202004</td>\n",
       "      <td>0.0</td>\n",
       "      <td>315041.57</td>\n",
       "      <td>0</td>\n",
       "      <td>0</td>\n",
       "      <td>0</td>\n",
       "      <td>0</td>\n",
       "      <td>...</td>\n",
       "      <td>0</td>\n",
       "      <td>0</td>\n",
       "      <td>0</td>\n",
       "      <td>0</td>\n",
       "      <td>0</td>\n",
       "      <td>0</td>\n",
       "      <td>0</td>\n",
       "      <td>NaN</td>\n",
       "      <td>NaN</td>\n",
       "      <td>NaN</td>\n",
       "    </tr>\n",
       "  </tbody>\n",
       "</table>\n",
       "<p>5 rows × 55 columns</p>\n",
       "</div>"
      ],
      "text/plain": [
       "   TIP_DOC      NUM_DOC   COD_UNICO  PERIODO  MTO_DEUDA_COL_DIR_IBK  \\\n",
       "0        2  20453973787         NaN   202006                    0.0   \n",
       "1        2  20453974244  10743339.0   202009                    0.0   \n",
       "2        2  20453981534         NaN   202101                    0.0   \n",
       "3        2  20453981534         NaN   202102                    0.0   \n",
       "4        2  20453984398         NaN   202004                    0.0   \n",
       "\n",
       "   MTO_DEUDA_COL_DIR_SF  TRG_1M  TRG_2M  TRG_3M  TRG_4M  ...  FLG_2M_ANTES  \\\n",
       "0               9617.80       0       0       0       0  ...             0   \n",
       "1             435514.55       0       0       0       0  ...             0   \n",
       "2              22579.21       0       0       0       0  ...             0   \n",
       "3              19682.35       0       0       0       0  ...             0   \n",
       "4             315041.57       0       0       0       0  ...             0   \n",
       "\n",
       "   FLG_3M_ANTES  FLG_4M_ANTES  AUMENTOS_BPE_1M_ANTES  AUMENTOS_BPE_2M_ANTES  \\\n",
       "0             0             0                      0                      0   \n",
       "1             0             0                      0                      0   \n",
       "2             0             0                      0                      0   \n",
       "3             0             0                      0                      0   \n",
       "4             0             0                      0                      0   \n",
       "\n",
       "   AUMENTOS_BPE_3M_ANTES  AUMENTOS_BPE_4M_ANTES  GENERO_F  GENERO_M  EDAD_RRLL  \n",
       "0                      0                      0       0.0       0.0        NaN  \n",
       "1                      0                      0       0.0       0.0        NaN  \n",
       "2                      0                      0       0.0       0.0        NaN  \n",
       "3                      0                      0       0.0       0.0        NaN  \n",
       "4                      0                      0       NaN       NaN        NaN  \n",
       "\n",
       "[5 rows x 55 columns]"
      ]
     },
     "execution_count": 4,
     "metadata": {},
     "output_type": "execute_result"
    }
   ],
   "source": [
    "df = wr.s3.read_csv('s3://{}/muestra.csv'.format(bucket), sep=';')\n",
    "df.head()"
   ]
  },
  {
   "cell_type": "code",
   "execution_count": 5,
   "id": "8302721b",
   "metadata": {},
   "outputs": [
    {
     "data": {
      "text/plain": [
       "202103    4726\n",
       "202102    4720\n",
       "202101    4661\n",
       "202012    4064\n",
       "202011    4161\n",
       "202010    4083\n",
       "202009    4103\n",
       "202008    3725\n",
       "202007    3379\n",
       "202006    3284\n",
       "202005    3251\n",
       "202004    3026\n",
       "202003    3017\n",
       "202002    3066\n",
       "202001    3028\n",
       "201912    3086\n",
       "201911    3134\n",
       "201910    3032\n",
       "201909    3045\n",
       "201908    3103\n",
       "201907    3075\n",
       "201906    3227\n",
       "201905    3066\n",
       "201904    3071\n",
       "201903    3160\n",
       "201902    3126\n",
       "201901    3158\n",
       "201812    3197\n",
       "201712    3226\n",
       "Name: PERIODO, dtype: int64"
      ]
     },
     "execution_count": 5,
     "metadata": {},
     "output_type": "execute_result"
    }
   ],
   "source": [
    "df['PERIODO'].value_counts().sort_index(ascending=False)"
   ]
  },
  {
   "cell_type": "markdown",
   "id": "b6c7838d",
   "metadata": {},
   "source": [
    "### >> CREACION DE VARIABLES"
   ]
  },
  {
   "cell_type": "code",
   "execution_count": 6,
   "id": "f91dcc25",
   "metadata": {},
   "outputs": [],
   "source": [
    "# Variaciones\n",
    "df['MTO_DEUDA_COL_DIR_VIG_SF_U3M_U12M_MAX'] = df['MTO_DEUDA_COL_DIR_VIG_SF_U3M_MAX']/df['MTO_DEUDA_COL_DIR_VIG_SF_U6M_MAX']\n",
    "df['MTO_DEUDA_COL_DIR_VIG_SF_U6M_U12M_MAX'] = df['MTO_DEUDA_COL_DIR_VIG_SF_U6M_MAX']/df['MTO_DEUDA_COL_DIR_VIG_SF_U12M_MAX']\n",
    "df['MTO_DEUDA_COL_DIR_VIG_SF_U3M_U6M_MAX'] = df['MTO_DEUDA_COL_DIR_VIG_SF_U3M_MAX']/df['MTO_DEUDA_COL_DIR_VIG_SF_U6M_MAX']\n",
    "\n",
    "df['MTO_DEUDA_COL_DIR_VIG_SF_U3M_U12M_AVG'] = df['MTO_DEUDA_COL_DIR_VIG_SF_U3M_AVG']/df['MTO_DEUDA_COL_DIR_VIG_SF_U6M_AVG']\n",
    "df['MTO_DEUDA_COL_DIR_VIG_SF_U6M_U12M_AVG'] = df['MTO_DEUDA_COL_DIR_VIG_SF_U6M_AVG']/df['MTO_DEUDA_COL_DIR_VIG_SF_U12M_AVG']\n",
    "df['MTO_DEUDA_COL_DIR_VIG_SF_U3M_U6M_AVG'] = df['MTO_DEUDA_COL_DIR_VIG_SF_U3M_AVG']/df['MTO_DEUDA_COL_DIR_VIG_SF_U6M_AVG']\n",
    "\n",
    "df['CLAS_SBS_U3_U6_MAX_SF'] = df['CLAS_SBS_U3_MAX_SF']/df['CLAS_SBS_U6_MAX_SF']\n",
    "df['CLAS_SBS_U3_U12_MAX_SF'] = df['CLAS_SBS_U3_MAX_SF']/df['CLAS_SBS_U12_MAX_SF']\n",
    "df['CLAS_SBS_U6_U12_MAX_SF'] = df['CLAS_SBS_U6_MAX_SF']/df['CLAS_SBS_U12_MAX_SF']"
   ]
  },
  {
   "cell_type": "code",
   "execution_count": 7,
   "id": "8c6302aa",
   "metadata": {},
   "outputs": [
    {
     "name": "stdout",
     "output_type": "stream",
     "text": [
      "No objects to concatenate\n"
     ]
    }
   ],
   "source": [
    "try:\n",
    "    df.describe(include=[object]).columns\n",
    "except Exception as e:\n",
    "    print(str(e))"
   ]
  },
  {
   "cell_type": "code",
   "execution_count": null,
   "id": "45717503",
   "metadata": {},
   "outputs": [],
   "source": []
  },
  {
   "cell_type": "markdown",
   "id": "832c6d25",
   "metadata": {},
   "source": [
    "### >> SEPARATE TRAIN / TEST"
   ]
  },
  {
   "cell_type": "code",
   "execution_count": 8,
   "id": "4f87df8b",
   "metadata": {},
   "outputs": [],
   "source": [
    "df['PERIODO'] = df['PERIODO'].astype(str)\n",
    "\n",
    "meses_test = ['202012','202011']\n",
    "meses_entrenamiento = ['202010', '202009', '202008', '202007','202006',\n",
    "                       '202005', '202004', '202003', '202002', '202001',\n",
    "                       '201912', '201911', '201910', '201909', '201908']"
   ]
  },
  {
   "cell_type": "code",
   "execution_count": 9,
   "id": "5ac956f1",
   "metadata": {},
   "outputs": [
    {
     "data": {
      "text/plain": [
       "((8225, 64), (49362, 64))"
      ]
     },
     "execution_count": 9,
     "metadata": {},
     "output_type": "execute_result"
    }
   ],
   "source": [
    "valid = df[df['PERIODO'].isin(meses_test)]\n",
    "train = df[df['PERIODO'].isin(meses_entrenamiento)]\n",
    "\n",
    "del df\n",
    "valid.shape, train.shape"
   ]
  },
  {
   "cell_type": "code",
   "execution_count": 10,
   "id": "832c0270",
   "metadata": {},
   "outputs": [],
   "source": [
    "y_train = train['TRG_3M'].copy()\n",
    "del train['TRG_3M']\n",
    "\n",
    "y_valid = valid['TRG_3M'].copy()\n",
    "del valid['TRG_3M']"
   ]
  },
  {
   "cell_type": "code",
   "execution_count": null,
   "id": "7d7fa16f",
   "metadata": {},
   "outputs": [],
   "source": []
  },
  {
   "cell_type": "markdown",
   "id": "8e953bb1",
   "metadata": {},
   "source": [
    "### >> GUARDADO S3"
   ]
  },
  {
   "cell_type": "code",
   "execution_count": 11,
   "id": "c0939255",
   "metadata": {},
   "outputs": [
    {
     "data": {
      "text/plain": [
       "'s3://sagemaker-us-east-1-058528764918/vpc/victor'"
      ]
     },
     "execution_count": 11,
     "metadata": {},
     "output_type": "execute_result"
    }
   ],
   "source": [
    "prefix = 'vpc'     # subcarpeta de guardado\n",
    "output_path = 's3://{}/{}/victor'.format(bucket, prefix)\n",
    "output_path"
   ]
  },
  {
   "cell_type": "code",
   "execution_count": 12,
   "id": "2e00267b",
   "metadata": {},
   "outputs": [
    {
     "name": "stdout",
     "output_type": "stream",
     "text": [
      "s3://sagemaker-us-east-1-058528764918/vpc/victor/train.csv\n",
      "s3://sagemaker-us-east-1-058528764918/vpc/victor/validation_set.csv\n"
     ]
    }
   ],
   "source": [
    "# definir rutas de datos dentro de bucket\n",
    "train_fname = \"{}/train.csv\".format(output_path)\n",
    "print(train_fname)\n",
    "\n",
    "val_fname = \"{}/validation_set.csv\".format(output_path)\n",
    "print(val_fname)"
   ]
  },
  {
   "cell_type": "code",
   "execution_count": 13,
   "id": "007fd780",
   "metadata": {},
   "outputs": [],
   "source": [
    "train.to_csv(\n",
    "    's3://sagemaker-us-east-1-058528764918/vpc/victor/validation_set_sin_target.csv', \n",
    "    header=False, index=False\n",
    ")"
   ]
  },
  {
   "cell_type": "code",
   "execution_count": null,
   "id": "96beb5aa",
   "metadata": {},
   "outputs": [],
   "source": []
  },
  {
   "cell_type": "code",
   "execution_count": null,
   "id": "b09dacfb",
   "metadata": {},
   "outputs": [],
   "source": []
  },
  {
   "cell_type": "code",
   "execution_count": null,
   "id": "2f9f99b0",
   "metadata": {},
   "outputs": [],
   "source": []
  },
  {
   "cell_type": "code",
   "execution_count": null,
   "id": "f7acacd5",
   "metadata": {},
   "outputs": [],
   "source": [
    "pd.concat(\n",
    "    [y_train, train],axis=1, ignore_index=True   # xgboost por defecto te pdide que el target esté en tu 1era columna\n",
    ").to_csv(\n",
    "    train_fname, \n",
    "    header=False, index=False\n",
    ")\n",
    "\n",
    "pd.concat(\n",
    "    [y_valid, valid], axis=1, ignore_index=True # xgboost por defecto te pdide que el target esté en tu 1era columna\n",
    ").to_csv(\n",
    "    val_fname, \n",
    "    header=False, index=False\n",
    ")"
   ]
  },
  {
   "cell_type": "code",
   "execution_count": null,
   "id": "f51aee24",
   "metadata": {},
   "outputs": [],
   "source": []
  },
  {
   "cell_type": "code",
   "execution_count": null,
   "id": "8c14c225",
   "metadata": {},
   "outputs": [],
   "source": []
  },
  {
   "cell_type": "markdown",
   "id": "60a1ac1b",
   "metadata": {},
   "source": [
    "### >> VALIDAICON DE GUARDADO"
   ]
  },
  {
   "cell_type": "code",
   "execution_count": null,
   "id": "e8339d53",
   "metadata": {},
   "outputs": [],
   "source": [
    "train = wr.s3.read_csv(train_fname, sep=',')\n",
    "train.shape"
   ]
  },
  {
   "cell_type": "code",
   "execution_count": null,
   "id": "ed6b9407",
   "metadata": {},
   "outputs": [],
   "source": [
    "valid = wr.s3.read_csv(val_fname, sep=',')\n",
    "valid.shape"
   ]
  },
  {
   "cell_type": "code",
   "execution_count": null,
   "id": "8db27881",
   "metadata": {},
   "outputs": [],
   "source": []
  }
 ],
 "metadata": {
  "kernelspec": {
   "display_name": "conda_python3",
   "language": "python",
   "name": "conda_python3"
  },
  "language_info": {
   "codemirror_mode": {
    "name": "ipython",
    "version": 3
   },
   "file_extension": ".py",
   "mimetype": "text/x-python",
   "name": "python",
   "nbconvert_exporter": "python",
   "pygments_lexer": "ipython3",
   "version": "3.6.13"
  }
 },
 "nbformat": 4,
 "nbformat_minor": 5
}
