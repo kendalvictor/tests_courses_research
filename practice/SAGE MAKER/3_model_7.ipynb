{
 "cells": [
  {
   "cell_type": "code",
   "execution_count": 1,
   "id": "5ce03568",
   "metadata": {},
   "outputs": [
    {
     "name": "stderr",
     "output_type": "stream",
     "text": [
      "WARNING: pip is being invoked by an old script wrapper. This will fail in a future version of pip.\n",
      "Please see https://github.com/pypa/pip/issues/5599 for advice on fixing the underlying issue.\n",
      "To avoid this problem you can invoke Python with '-m pip' instead of running pip directly.\n"
     ]
    },
    {
     "name": "stdout",
     "output_type": "stream",
     "text": [
      "Requirement already satisfied: lightgbm in /home/ec2-user/anaconda3/envs/python3/lib/python3.6/site-packages (3.2.1)\n",
      "Requirement already satisfied: awswrangler in /home/ec2-user/anaconda3/envs/python3/lib/python3.6/site-packages (2.10.0)\n",
      "Requirement already satisfied: numpy in /home/ec2-user/anaconda3/envs/python3/lib/python3.6/site-packages (from lightgbm) (1.19.5)\n",
      "Requirement already satisfied: scipy in /home/ec2-user/anaconda3/envs/python3/lib/python3.6/site-packages (from lightgbm) (1.5.3)\n",
      "Requirement already satisfied: scikit-learn!=0.22.0 in /home/ec2-user/anaconda3/envs/python3/lib/python3.6/site-packages (from lightgbm) (0.24.1)\n",
      "Requirement already satisfied: wheel in /home/ec2-user/anaconda3/envs/python3/lib/python3.6/site-packages (from lightgbm) (0.36.2)\n",
      "Requirement already satisfied: threadpoolctl>=2.0.0 in /home/ec2-user/anaconda3/envs/python3/lib/python3.6/site-packages (from scikit-learn!=0.22.0->lightgbm) (2.1.0)\n",
      "Requirement already satisfied: joblib>=0.11 in /home/ec2-user/anaconda3/envs/python3/lib/python3.6/site-packages (from scikit-learn!=0.22.0->lightgbm) (1.0.1)\n",
      "Requirement already satisfied: pandas<2.1.0,>=1.1.0 in /home/ec2-user/anaconda3/envs/python3/lib/python3.6/site-packages (from awswrangler) (1.1.5)\n",
      "Requirement already satisfied: openpyxl~=3.0.0 in /home/ec2-user/anaconda3/envs/python3/lib/python3.6/site-packages (from awswrangler) (3.0.6)\n",
      "Requirement already satisfied: redshift-connector~=2.0.882 in /home/ec2-user/anaconda3/envs/python3/lib/python3.6/site-packages (from awswrangler) (2.0.883)\n",
      "Requirement already satisfied: pyarrow<4.1.0,>=2.0.0 in /home/ec2-user/anaconda3/envs/python3/lib/python3.6/site-packages (from awswrangler) (4.0.1)\n",
      "Requirement already satisfied: pg8000<1.21.0,>=1.16.0 in /home/ec2-user/anaconda3/envs/python3/lib/python3.6/site-packages (from awswrangler) (1.20.0)\n",
      "Requirement already satisfied: botocore<2.1.0,>=1.19.8 in /home/ec2-user/anaconda3/envs/python3/lib/python3.6/site-packages (from awswrangler) (1.20.99)\n",
      "Requirement already satisfied: pymysql<1.1.0,>=0.9.0 in /home/ec2-user/anaconda3/envs/python3/lib/python3.6/site-packages (from awswrangler) (1.0.2)\n",
      "Requirement already satisfied: boto3<2.1.0,>=1.16.8 in /home/ec2-user/anaconda3/envs/python3/lib/python3.6/site-packages (from awswrangler) (1.17.99)\n",
      "Requirement already satisfied: s3transfer<0.5.0,>=0.4.0 in /home/ec2-user/anaconda3/envs/python3/lib/python3.6/site-packages (from boto3<2.1.0,>=1.16.8->awswrangler) (0.4.2)\n",
      "Requirement already satisfied: jmespath<1.0.0,>=0.7.1 in /home/ec2-user/anaconda3/envs/python3/lib/python3.6/site-packages (from boto3<2.1.0,>=1.16.8->awswrangler) (0.10.0)\n",
      "Requirement already satisfied: urllib3<1.27,>=1.25.4 in /home/ec2-user/anaconda3/envs/python3/lib/python3.6/site-packages (from botocore<2.1.0,>=1.19.8->awswrangler) (1.26.5)\n",
      "Requirement already satisfied: python-dateutil<3.0.0,>=2.1 in /home/ec2-user/anaconda3/envs/python3/lib/python3.6/site-packages (from botocore<2.1.0,>=1.19.8->awswrangler) (2.8.1)\n",
      "Requirement already satisfied: et-xmlfile in /home/ec2-user/anaconda3/envs/python3/lib/python3.6/site-packages (from openpyxl~=3.0.0->awswrangler) (1.0.1)\n",
      "Requirement already satisfied: jdcal in /home/ec2-user/anaconda3/envs/python3/lib/python3.6/site-packages (from openpyxl~=3.0.0->awswrangler) (1.4.1)\n",
      "Requirement already satisfied: pytz>=2017.2 in /home/ec2-user/anaconda3/envs/python3/lib/python3.6/site-packages (from pandas<2.1.0,>=1.1.0->awswrangler) (2021.1)\n",
      "Requirement already satisfied: scramp>=1.4.0 in /home/ec2-user/anaconda3/envs/python3/lib/python3.6/site-packages (from pg8000<1.21.0,>=1.16.0->awswrangler) (1.4.0)\n",
      "Requirement already satisfied: six>=1.5 in /home/ec2-user/anaconda3/envs/python3/lib/python3.6/site-packages (from python-dateutil<3.0.0,>=2.1->botocore<2.1.0,>=1.19.8->awswrangler) (1.15.0)\n",
      "Requirement already satisfied: lxml>=4.6.2 in /home/ec2-user/anaconda3/envs/python3/lib/python3.6/site-packages (from redshift-connector~=2.0.882->awswrangler) (4.6.3)\n",
      "Requirement already satisfied: beautifulsoup4<5.0.0,>=4.7.0 in /home/ec2-user/anaconda3/envs/python3/lib/python3.6/site-packages (from redshift-connector~=2.0.882->awswrangler) (4.9.3)\n",
      "Requirement already satisfied: requests<2.25.2,>=2.23.0 in /home/ec2-user/anaconda3/envs/python3/lib/python3.6/site-packages (from redshift-connector~=2.0.882->awswrangler) (2.25.1)\n",
      "Requirement already satisfied: soupsieve>1.2 in /home/ec2-user/anaconda3/envs/python3/lib/python3.6/site-packages (from beautifulsoup4<5.0.0,>=4.7.0->redshift-connector~=2.0.882->awswrangler) (2.0.1)\n",
      "Requirement already satisfied: chardet<5,>=3.0.2 in /home/ec2-user/anaconda3/envs/python3/lib/python3.6/site-packages (from requests<2.25.2,>=2.23.0->redshift-connector~=2.0.882->awswrangler) (3.0.4)\n",
      "Requirement already satisfied: idna<3,>=2.5 in /home/ec2-user/anaconda3/envs/python3/lib/python3.6/site-packages (from requests<2.25.2,>=2.23.0->redshift-connector~=2.0.882->awswrangler) (2.10)\n",
      "Requirement already satisfied: certifi>=2017.4.17 in /home/ec2-user/anaconda3/envs/python3/lib/python3.6/site-packages (from requests<2.25.2,>=2.23.0->redshift-connector~=2.0.882->awswrangler) (2021.5.30)\n",
      "Requirement already satisfied: asn1crypto==1.4.0 in /home/ec2-user/anaconda3/envs/python3/lib/python3.6/site-packages (from scramp>=1.4.0->pg8000<1.21.0,>=1.16.0->awswrangler) (1.4.0)\n"
     ]
    },
    {
     "name": "stderr",
     "output_type": "stream",
     "text": [
      "WARNING: You are using pip version 21.1.2; however, version 21.2.1 is available.\n",
      "You should consider upgrading via the '/home/ec2-user/anaconda3/envs/python3/bin/python -m pip install --upgrade pip' command.\n"
     ]
    },
    {
     "data": {
      "text/plain": [
       "0"
      ]
     },
     "execution_count": 1,
     "metadata": {},
     "output_type": "execute_result"
    }
   ],
   "source": [
    "import pip\n",
    "\n",
    "package_names = ['lightgbm', 'awswrangler'] \n",
    "pip.main(['install'] + package_names + ['--upgrade'])"
   ]
  },
  {
   "cell_type": "code",
   "execution_count": 2,
   "id": "9e54dd1b",
   "metadata": {},
   "outputs": [
    {
     "name": "stdout",
     "output_type": "stream",
     "text": [
      "NumExpr defaulting to 4 threads.\n"
     ]
    }
   ],
   "source": [
    "# Nativos\n",
    "from dateutil.relativedelta import relativedelta\n",
    "from time import gmtime, strftime\n",
    "from datetime import datetime\n",
    "import random as rn\n",
    "import joblib\n",
    "import json\n",
    "import sys\n",
    "import os\n",
    "import gc\n",
    "\n",
    "#nube\n",
    "from sagemaker.processing import ProcessingInput, ProcessingOutput\n",
    "from sagemaker.sklearn.processing import SKLearnProcessor\n",
    "from sagemaker import get_execution_role\n",
    "import awswrangler as wr\n",
    "import sagemaker\n",
    "import boto3\n",
    "\n",
    "#calculo\n",
    "import pandas as pd\n",
    "import numpy as np\n",
    "import scipy\n",
    "\n",
    "#grafico\n",
    "from IPython.display import display\n",
    "import matplotlib.pyplot as plt\n",
    "import seaborn as sns\n",
    "%matplotlib inline\n",
    "sns.set(style=\"whitegrid\")\n",
    "\n",
    "#Interacciones con output\n",
    "import warnings\n",
    "warnings.filterwarnings(\"ignore\")\n",
    "# warnings.simplefilter(action='ignore', category=FutureWarning)\n",
    "pd.set_option('display.max_rows', 500)\n",
    "pd.set_option('display.max_columns', 500)\n",
    "pd.set_option('display.width', 1000)\n",
    "\n",
    "from IPython.core.interactiveshell import InteractiveShell\n",
    "InteractiveShell.ast_node_interactivity = \"all\"\n",
    "\n",
    "gc.collect()\n",
    "# MODELS\n",
    "from lightgbm import LGBMClassifier\n",
    "\n",
    "BASE_DIR = os.path.dirname(os.getcwd())\n",
    "if BASE_DIR not in sys.path: sys.path.append(BASE_DIR)\n",
    "#import scorecardpy as sc\n",
    "#from utils import *\n",
    "#from graphs import *\n",
    "\n",
    "SEED = 29082013\n",
    "os.environ['PYTHONHASHSEED'] = str(SEED)\n",
    "np.random.seed(SEED)\n",
    "rn.seed(SEED)\n",
    "\n",
    "#from utils import *\n",
    "#from modeler import *\n",
    "#subfolder = \"data\"\n",
    "# os.listdir(subfolder)"
   ]
  },
  {
   "cell_type": "code",
   "execution_count": 3,
   "id": "31a2fe27",
   "metadata": {},
   "outputs": [
    {
     "name": "stdout",
     "output_type": "stream",
     "text": [
      "bucket:  sagemaker-us-east-1-058528764918\n",
      "region:  us-east-1\n",
      "now:  2021-07-31 03:52:02.151049\n"
     ]
    },
    {
     "data": {
      "text/plain": [
       "('sagemaker-us-east-1-058528764918',\n",
       " 'us-east-1',\n",
       " 'target_desembolso_f2m_mayor_30_menor_180',\n",
       " 'normal')"
      ]
     },
     "execution_count": 3,
     "metadata": {},
     "output_type": "execute_result"
    }
   ],
   "source": [
    "# imports\n",
    "from sagemaker.tuner import IntegerParameter, CategoricalParameter, ContinuousParameter, HyperparameterTuner\n",
    "from sagemaker.amazon.amazon_estimator import get_image_uri\n",
    "import awswrangler as wr\n",
    "import pandas as pd\n",
    "import sagemaker\n",
    "import boto3\n",
    "\n",
    "proyecto = 'propension'\n",
    "normal = [1]\n",
    "target = 'target_desembolso_f2m_mayor_30_menor_180'\n",
    "clasif = 'normal' if len(normal) == 1 else 'all'\n",
    "\n",
    "sess = sagemaker.session.Session()\n",
    "bucket = sess.default_bucket() \n",
    "now = datetime.now()\n",
    "role = sagemaker.get_execution_role()   ## levantamiento de roles\n",
    "s3 = boto3.resource('s3')\n",
    "region = boto3.Session().region_name\n",
    "smclient = boto3.Session().client('sagemaker')\n",
    "\n",
    "print(\"bucket: \", bucket)\n",
    "print(\"region: \", region)\n",
    "print(\"now: \", now)\n",
    "\n",
    "bucket, region, target, clasif"
   ]
  },
  {
   "cell_type": "code",
   "execution_count": 4,
   "id": "b5040145",
   "metadata": {},
   "outputs": [
    {
     "data": {
      "text/plain": [
       "'target_desembolso_f2m_mayor_30_menor_180_clasif_normal'"
      ]
     },
     "execution_count": 4,
     "metadata": {},
     "output_type": "execute_result"
    }
   ],
   "source": [
    "sufijo = '{}_clasif_{}'.format(target.lower(), clasif)\n",
    "sufijo"
   ]
  },
  {
   "cell_type": "code",
   "execution_count": 5,
   "id": "a2582b8d",
   "metadata": {},
   "outputs": [
    {
     "name": "stdout",
     "output_type": "stream",
     "text": [
      "uri_raw:  s3://sagemaker-us-east-1-058528764918/vpc/propension/split\n",
      "uri_train:  s3://sagemaker-us-east-1-058528764918/vpc/propension/split/target_desembolso_f2m_mayor_30_menor_180_clasif_normal/train.csv\n",
      "uri_validation:  s3://sagemaker-us-east-1-058528764918/vpc/propension/split/target_desembolso_f2m_mayor_30_menor_180_clasif_normal/validation.csv\n",
      "uri_models:  s3://sagemaker-us-east-1-058528764918/vpc/propension/models\n"
     ]
    }
   ],
   "source": [
    "uri_raw = 's3://{}/vpc/{}/split'.format(bucket, proyecto)\n",
    "uri_models = 's3://{}/vpc/{}/models'.format(bucket, proyecto)\n",
    "uri_train = '{}/{}/train.csv'.format(uri_raw, sufijo)\n",
    "uri_validation = '{}/{}/validation.csv'.format(uri_raw, sufijo)\n",
    "\n",
    "print(\"uri_raw: \", uri_raw)\n",
    "print(\"uri_train: \", uri_train)\n",
    "print(\"uri_validation: \", uri_validation)\n",
    "print(\"uri_models: \", uri_models)"
   ]
  },
  {
   "cell_type": "code",
   "execution_count": 6,
   "id": "f759bc66",
   "metadata": {},
   "outputs": [
    {
     "name": "stdout",
     "output_type": "stream",
     "text": [
      "(1750824, 16)\n"
     ]
    }
   ],
   "source": [
    "valid = pd.read_csv(uri_validation)\n",
    "print(valid.shape)\n",
    "\n",
    "del valid"
   ]
  },
  {
   "cell_type": "code",
   "execution_count": null,
   "id": "73fdd003",
   "metadata": {},
   "outputs": [],
   "source": []
  },
  {
   "cell_type": "markdown",
   "id": "8fde28df",
   "metadata": {},
   "source": [
    "### MODELADO"
   ]
  },
  {
   "cell_type": "code",
   "execution_count": 7,
   "id": "c8a93a47",
   "metadata": {},
   "outputs": [
    {
     "name": "stderr",
     "output_type": "stream",
     "text": [
      "WARNING: The method get_image_uri has been renamed in sagemaker>=2.\n",
      "See: https://sagemaker.readthedocs.io/en/stable/v2.html for details.\n"
     ]
    },
    {
     "name": "stdout",
     "output_type": "stream",
     "text": [
      "Same images used for training and inference. Defaulting to image scope: inference.\n",
      "Defaulting to only available Python version: py3\n",
      "Defaulting to only supported image scope: cpu.\n"
     ]
    }
   ],
   "source": [
    "container = get_image_uri(region, 'xgboost', '0.90-1')\n",
    "\n",
    "xgb = sagemaker.estimator.Estimator(container,\n",
    "                                    role, \n",
    "                                    instance_count=1, \n",
    "                                    instance_type='ml.m5.4xlarge',\n",
    "                                    output_path=uri_models,\n",
    "                                    sagemaker_session=sess)"
   ]
  },
  {
   "cell_type": "code",
   "execution_count": 28,
   "id": "3689a80a",
   "metadata": {},
   "outputs": [],
   "source": [
    "xgb.set_hyperparameters(eval_metric = 'auc',   #'rmse',\n",
    "                        objective = 'binary:logistic', #'reg:squarederror',          ---ojo se cambian ya que ahora el objetivo es clasiificacion\n",
    "                        seed=SEED,\n",
    "                        early_stopping_rounds = 5,\n",
    "                        num_round = 1000,\n",
    "                        #booster='dart',\n",
    "                        alpha=1\n",
    "                       )\n",
    "\n",
    "hyperparameter_ranges = {\n",
    "    #'scale_pos_weight': ContinuousParameter(0.015, 0.035),\n",
    "    'colsample_bytree': ContinuousParameter(0.1, 0.75),\n",
    "    'colsample_bynode': ContinuousParameter(0.1, 0.75),\n",
    "    'colsample_bylevel': ContinuousParameter(0.1, 0.75),\n",
    "    'max_depth': IntegerParameter(2, 3),\n",
    "    'eta': ContinuousParameter(0.01, 0.15),\n",
    "    #'rate_drop': ContinuousParameter(0.1, 0.5),\n",
    "    #'skip_drop': ContinuousParameter(0.1, 0.5),\n",
    "    #'one_drop': IntegerParameter(0, 1),\n",
    "    #'sample_type': CategoricalParameter(['uniform', 'weighted']),\n",
    "    #'normalize_type': CategoricalParameter(['tree', 'forest']),\n",
    "    #'tree_method': CategoricalParameter(['approx', 'hist']),\n",
    "    'subsample': ContinuousParameter(0.1, 0.9),\n",
    "    'gamma': ContinuousParameter(0, 10),\n",
    "    'max_delta_step': IntegerParameter(0, 5)\n",
    "}"
   ]
  },
  {
   "cell_type": "code",
   "execution_count": null,
   "id": "257c7d2b",
   "metadata": {},
   "outputs": [],
   "source": []
  },
  {
   "cell_type": "code",
   "execution_count": 29,
   "id": "9d479b5c",
   "metadata": {},
   "outputs": [],
   "source": [
    "objective_metric_name = 'validation:auc'"
   ]
  },
  {
   "cell_type": "code",
   "execution_count": 30,
   "id": "ea445d07",
   "metadata": {},
   "outputs": [],
   "source": [
    "tuner = HyperparameterTuner(\n",
    "    xgb,\n",
    "    objective_metric_name,\n",
    "    hyperparameter_ranges,\n",
    "    max_jobs=30,\n",
    "    max_parallel_jobs=10,\n",
    "    objective_type='Maximize',   #Minimize OJO!!! era mínimo ya que mientras menor RMSE mejor modelo de regresion, acá cambia /// mayor AUc mejor modelo \n",
    "    base_tuning_job_name='xgboost-vpc-7'\n",
    ")"
   ]
  },
  {
   "cell_type": "code",
   "execution_count": 31,
   "id": "1f66ae14",
   "metadata": {},
   "outputs": [],
   "source": [
    "s3_input_train = sagemaker.inputs.TrainingInput(\n",
    "    s3_data=uri_train, \n",
    "    content_type='csv'\n",
    ")   # OJO!! revisar cambio por la version\n",
    "\n",
    "s3_input_validation = sagemaker.inputs.TrainingInput(\n",
    "    s3_data=uri_validation, \n",
    "    content_type='csv'\n",
    ") # OJO!! revisar cambio por la version"
   ]
  },
  {
   "cell_type": "code",
   "execution_count": 32,
   "id": "37132ed4",
   "metadata": {},
   "outputs": [
    {
     "name": "stdout",
     "output_type": "stream",
     "text": [
      "Defaulting to the only supported framework/algorithm version: latest.\n",
      "Ignoring unnecessary instance type: None.\n",
      "Creating hyperparameter tuning job with name: xgboost-vpc-7-210731-0433\n",
      "..................................................................................................................................................................................................................................................................................................................................................................................................................................................................................................................................................................................................................................!\n"
     ]
    }
   ],
   "source": [
    "tuner.fit(\n",
    "    {\n",
    "        'train': s3_input_train, \n",
    "        'validation': s3_input_validation\n",
    "    }, \n",
    "    include_cls_metadata=False\n",
    ")"
   ]
  },
  {
   "cell_type": "code",
   "execution_count": 33,
   "id": "a9fff196",
   "metadata": {},
   "outputs": [
    {
     "name": "stdout",
     "output_type": "stream",
     "text": [
      "xgboost-vpc-7-210731-0433\n"
     ]
    }
   ],
   "source": [
    "print(tuner.latest_tuning_job.name)"
   ]
  },
  {
   "cell_type": "code",
   "execution_count": 34,
   "id": "7028be48",
   "metadata": {},
   "outputs": [
    {
     "data": {
      "text/plain": [
       "'xgboost-vpc-7-210731-0433-029-54f28ca2'"
      ]
     },
     "execution_count": 34,
     "metadata": {},
     "output_type": "execute_result"
    }
   ],
   "source": [
    "tuner.best_training_job()"
   ]
  },
  {
   "cell_type": "code",
   "execution_count": 35,
   "id": "6c2a26c4",
   "metadata": {},
   "outputs": [
    {
     "data": {
      "text/plain": [
       "{'HyperParameterTuningJobName': 'xgboost-vpc-7-210731-0433',\n",
       " 'HyperParameterTuningJobArn': 'arn:aws:sagemaker:us-east-1:058528764918:hyper-parameter-tuning-job/xgboost-vpc-7-210731-0433',\n",
       " 'HyperParameterTuningJobConfig': {'Strategy': 'Bayesian',\n",
       "  'HyperParameterTuningJobObjective': {'Type': 'Maximize',\n",
       "   'MetricName': 'validation:auc'},\n",
       "  'ResourceLimits': {'MaxNumberOfTrainingJobs': 30,\n",
       "   'MaxParallelTrainingJobs': 10},\n",
       "  'ParameterRanges': {'IntegerParameterRanges': [{'Name': 'max_depth',\n",
       "     'MinValue': '2',\n",
       "     'MaxValue': '3',\n",
       "     'ScalingType': 'Auto'},\n",
       "    {'Name': 'max_delta_step',\n",
       "     'MinValue': '0',\n",
       "     'MaxValue': '5',\n",
       "     'ScalingType': 'Auto'}],\n",
       "   'ContinuousParameterRanges': [{'Name': 'colsample_bytree',\n",
       "     'MinValue': '0.1',\n",
       "     'MaxValue': '0.75',\n",
       "     'ScalingType': 'Auto'},\n",
       "    {'Name': 'colsample_bynode',\n",
       "     'MinValue': '0.1',\n",
       "     'MaxValue': '0.75',\n",
       "     'ScalingType': 'Auto'},\n",
       "    {'Name': 'colsample_bylevel',\n",
       "     'MinValue': '0.1',\n",
       "     'MaxValue': '0.75',\n",
       "     'ScalingType': 'Auto'},\n",
       "    {'Name': 'eta',\n",
       "     'MinValue': '0.01',\n",
       "     'MaxValue': '0.15',\n",
       "     'ScalingType': 'Auto'},\n",
       "    {'Name': 'subsample',\n",
       "     'MinValue': '0.1',\n",
       "     'MaxValue': '0.9',\n",
       "     'ScalingType': 'Auto'},\n",
       "    {'Name': 'gamma',\n",
       "     'MinValue': '0',\n",
       "     'MaxValue': '10',\n",
       "     'ScalingType': 'Auto'}],\n",
       "   'CategoricalParameterRanges': []},\n",
       "  'TrainingJobEarlyStoppingType': 'Off'},\n",
       " 'TrainingJobDefinition': {'StaticHyperParameters': {'_tuning_objective_metric': 'validation:auc',\n",
       "   'alpha': '1',\n",
       "   'booster': 'dart',\n",
       "   'early_stopping_rounds': '5',\n",
       "   'eval_metric': 'auc',\n",
       "   'num_round': '1000',\n",
       "   'objective': 'binary:logistic',\n",
       "   'seed': '29082013'},\n",
       "  'AlgorithmSpecification': {'TrainingImage': '683313688378.dkr.ecr.us-east-1.amazonaws.com/sagemaker-xgboost:0.90-1-cpu-py3',\n",
       "   'TrainingInputMode': 'File',\n",
       "   'MetricDefinitions': [{'Name': 'train:mae',\n",
       "     'Regex': '.*\\\\[[0-9]+\\\\].*#011train-mae:([-+]?[0-9]*\\\\.?[0-9]+(?:[eE][-+]?[0-9]+)?).*'},\n",
       "    {'Name': 'validation:aucpr',\n",
       "     'Regex': '.*\\\\[[0-9]+\\\\].*#011validation-aucpr:([-+]?[0-9]*\\\\.?[0-9]+(?:[eE][-+]?[0-9]+)?).*'},\n",
       "    {'Name': 'validation:f1_binary',\n",
       "     'Regex': '.*\\\\[[0-9]+\\\\].*#011validation-f1_binary:([-+]?[0-9]*\\\\.?[0-9]+(?:[eE][-+]?[0-9]+)?).*'},\n",
       "    {'Name': 'train:merror',\n",
       "     'Regex': '.*\\\\[[0-9]+\\\\].*#011train-merror:([-+]?[0-9]*\\\\.?[0-9]+(?:[eE][-+]?[0-9]+)?).*'},\n",
       "    {'Name': 'train:gamma-nloglik',\n",
       "     'Regex': '.*\\\\[[0-9]+\\\\].*#011train-gamma-nloglik:([-+]?[0-9]*\\\\.?[0-9]+(?:[eE][-+]?[0-9]+)?).*'},\n",
       "    {'Name': 'validation:mae',\n",
       "     'Regex': '.*\\\\[[0-9]+\\\\].*#011validation-mae:([-+]?[0-9]*\\\\.?[0-9]+(?:[eE][-+]?[0-9]+)?).*'},\n",
       "    {'Name': 'validation:logloss',\n",
       "     'Regex': '.*\\\\[[0-9]+\\\\].*#011validation-logloss:([-+]?[0-9]*\\\\.?[0-9]+(?:[eE][-+]?[0-9]+)?).*'},\n",
       "    {'Name': 'train:mlogloss',\n",
       "     'Regex': '.*\\\\[[0-9]+\\\\].*#011train-mlogloss:([-+]?[0-9]*\\\\.?[0-9]+(?:[eE][-+]?[0-9]+)?).*'},\n",
       "    {'Name': 'train:cox-nloglik',\n",
       "     'Regex': '.*\\\\[[0-9]+\\\\].*#011train-cox-nloglik:([-+]?[0-9]*\\\\.?[0-9]+(?:[eE][-+]?[0-9]+)?).*'},\n",
       "    {'Name': 'validation:f1',\n",
       "     'Regex': '.*\\\\[[0-9]+\\\\].*#011validation-f1:([-+]?[0-9]*\\\\.?[0-9]+(?:[eE][-+]?[0-9]+)?).*'},\n",
       "    {'Name': 'validation:cox-nloglik',\n",
       "     'Regex': '.*\\\\[[0-9]+\\\\].*#011validation-cox-nloglik:([-+]?[0-9]*\\\\.?[0-9]+(?:[eE][-+]?[0-9]+)?).*'},\n",
       "    {'Name': 'train:accuracy',\n",
       "     'Regex': '.*\\\\[[0-9]+\\\\].*#011train-accuracy:([-+]?[0-9]*\\\\.?[0-9]+(?:[eE][-+]?[0-9]+)?).*'},\n",
       "    {'Name': 'train:mse',\n",
       "     'Regex': '.*\\\\[[0-9]+\\\\].*#011train-mse:([-+]?[0-9]*\\\\.?[0-9]+(?:[eE][-+]?[0-9]+)?).*'},\n",
       "    {'Name': 'validation:poisson-nloglik',\n",
       "     'Regex': '.*\\\\[[0-9]+\\\\].*#011validation-poisson-nloglik:([-+]?[0-9]*\\\\.?[0-9]+(?:[eE][-+]?[0-9]+)?).*'},\n",
       "    {'Name': 'train:tweedie-nloglik',\n",
       "     'Regex': '.*\\\\[[0-9]+\\\\].*#011train-tweedie-nloglik:([-+]?[0-9]*\\\\.?[0-9]+(?:[eE][-+]?[0-9]+)?).*'},\n",
       "    {'Name': 'train:error',\n",
       "     'Regex': '.*\\\\[[0-9]+\\\\].*#011train-error:([-+]?[0-9]*\\\\.?[0-9]+(?:[eE][-+]?[0-9]+)?).*'},\n",
       "    {'Name': 'train:ndcg',\n",
       "     'Regex': '.*\\\\[[0-9]+\\\\].*#011train-ndcg:([-+]?[0-9]*\\\\.?[0-9]+(?:[eE][-+]?[0-9]+)?).*'},\n",
       "    {'Name': 'validation:map',\n",
       "     'Regex': '.*\\\\[[0-9]+\\\\].*#011validation-map:([-+]?[0-9]*\\\\.?[0-9]+(?:[eE][-+]?[0-9]+)?).*'},\n",
       "    {'Name': 'train:f1_binary',\n",
       "     'Regex': '.*\\\\[[0-9]+\\\\].*#011train-f1_binary:([-+]?[0-9]*\\\\.?[0-9]+(?:[eE][-+]?[0-9]+)?).*'},\n",
       "    {'Name': 'validation:auc',\n",
       "     'Regex': '.*\\\\[[0-9]+\\\\].*#011validation-auc:([-+]?[0-9]*\\\\.?[0-9]+(?:[eE][-+]?[0-9]+)?).*'},\n",
       "    {'Name': 'validation:gamma-deviance',\n",
       "     'Regex': '.*\\\\[[0-9]+\\\\].*#011validation-gamma-deviance:([-+]?[0-9]*\\\\.?[0-9]+(?:[eE][-+]?[0-9]+)?).*'},\n",
       "    {'Name': 'train:auc',\n",
       "     'Regex': '.*\\\\[[0-9]+\\\\].*#011train-auc:([-+]?[0-9]*\\\\.?[0-9]+(?:[eE][-+]?[0-9]+)?).*'},\n",
       "    {'Name': 'validation:error',\n",
       "     'Regex': '.*\\\\[[0-9]+\\\\].*#011validation-error:([-+]?[0-9]*\\\\.?[0-9]+(?:[eE][-+]?[0-9]+)?).*'},\n",
       "    {'Name': 'validation:merror',\n",
       "     'Regex': '.*\\\\[[0-9]+\\\\].*#011validation-merror:([-+]?[0-9]*\\\\.?[0-9]+(?:[eE][-+]?[0-9]+)?).*'},\n",
       "    {'Name': 'train:poisson-nloglik',\n",
       "     'Regex': '.*\\\\[[0-9]+\\\\].*#011train-poisson-nloglik:([-+]?[0-9]*\\\\.?[0-9]+(?:[eE][-+]?[0-9]+)?).*'},\n",
       "    {'Name': 'train:rmse',\n",
       "     'Regex': '.*\\\\[[0-9]+\\\\].*#011train-rmse:([-+]?[0-9]*\\\\.?[0-9]+(?:[eE][-+]?[0-9]+)?).*'},\n",
       "    {'Name': 'train:logloss',\n",
       "     'Regex': '.*\\\\[[0-9]+\\\\].*#011train-logloss:([-+]?[0-9]*\\\\.?[0-9]+(?:[eE][-+]?[0-9]+)?).*'},\n",
       "    {'Name': 'validation:accuracy',\n",
       "     'Regex': '.*\\\\[[0-9]+\\\\].*#011validation-accuracy:([-+]?[0-9]*\\\\.?[0-9]+(?:[eE][-+]?[0-9]+)?).*'},\n",
       "    {'Name': 'train:aucpr',\n",
       "     'Regex': '.*\\\\[[0-9]+\\\\].*#011train-aucpr:([-+]?[0-9]*\\\\.?[0-9]+(?:[eE][-+]?[0-9]+)?).*'},\n",
       "    {'Name': 'validation:tweedie-nloglik',\n",
       "     'Regex': '.*\\\\[[0-9]+\\\\].*#011validation-tweedie-nloglik:([-+]?[0-9]*\\\\.?[0-9]+(?:[eE][-+]?[0-9]+)?).*'},\n",
       "    {'Name': 'validation:rmse',\n",
       "     'Regex': '.*\\\\[[0-9]+\\\\].*#011validation-rmse:([-+]?[0-9]*\\\\.?[0-9]+(?:[eE][-+]?[0-9]+)?).*'},\n",
       "    {'Name': 'train:gamma-deviance',\n",
       "     'Regex': '.*\\\\[[0-9]+\\\\].*#011train-gamma-deviance:([-+]?[0-9]*\\\\.?[0-9]+(?:[eE][-+]?[0-9]+)?).*'},\n",
       "    {'Name': 'validation:mse',\n",
       "     'Regex': '.*\\\\[[0-9]+\\\\].*#011validation-mse:([-+]?[0-9]*\\\\.?[0-9]+(?:[eE][-+]?[0-9]+)?).*'},\n",
       "    {'Name': 'validation:ndcg',\n",
       "     'Regex': '.*\\\\[[0-9]+\\\\].*#011validation-ndcg:([-+]?[0-9]*\\\\.?[0-9]+(?:[eE][-+]?[0-9]+)?).*'},\n",
       "    {'Name': 'train:f1',\n",
       "     'Regex': '.*\\\\[[0-9]+\\\\].*#011train-f1:([-+]?[0-9]*\\\\.?[0-9]+(?:[eE][-+]?[0-9]+)?).*'},\n",
       "    {'Name': 'validation:mlogloss',\n",
       "     'Regex': '.*\\\\[[0-9]+\\\\].*#011validation-mlogloss:([-+]?[0-9]*\\\\.?[0-9]+(?:[eE][-+]?[0-9]+)?).*'},\n",
       "    {'Name': 'train:map',\n",
       "     'Regex': '.*\\\\[[0-9]+\\\\].*#011train-map:([-+]?[0-9]*\\\\.?[0-9]+(?:[eE][-+]?[0-9]+)?).*'},\n",
       "    {'Name': 'validation:gamma-nloglik',\n",
       "     'Regex': '.*\\\\[[0-9]+\\\\].*#011validation-gamma-nloglik:([-+]?[0-9]*\\\\.?[0-9]+(?:[eE][-+]?[0-9]+)?).*'},\n",
       "    {'Name': 'ObjectiveMetric',\n",
       "     'Regex': '.*\\\\[[0-9]+\\\\].*#011validation-auc:([-+]?[0-9]*\\\\.?[0-9]+(?:[eE][-+]?[0-9]+)?).*'}]},\n",
       "  'RoleArn': 'arn:aws:iam::058528764918:role/sdlf-vpc-sagemaker-inference-execution',\n",
       "  'InputDataConfig': [{'ChannelName': 'train',\n",
       "    'DataSource': {'S3DataSource': {'S3DataType': 'S3Prefix',\n",
       "      'S3Uri': 's3://sagemaker-us-east-1-058528764918/vpc/propension/split/target_desembolso_f2m_mayor_30_menor_180_clasif_normal/train.csv',\n",
       "      'S3DataDistributionType': 'FullyReplicated'}},\n",
       "    'ContentType': 'csv'},\n",
       "   {'ChannelName': 'validation',\n",
       "    'DataSource': {'S3DataSource': {'S3DataType': 'S3Prefix',\n",
       "      'S3Uri': 's3://sagemaker-us-east-1-058528764918/vpc/propension/split/target_desembolso_f2m_mayor_30_menor_180_clasif_normal/validation.csv',\n",
       "      'S3DataDistributionType': 'FullyReplicated'}},\n",
       "    'ContentType': 'csv'}],\n",
       "  'OutputDataConfig': {'S3OutputPath': 's3://sagemaker-us-east-1-058528764918/vpc/propension/models'},\n",
       "  'ResourceConfig': {'InstanceType': 'ml.m5.4xlarge',\n",
       "   'InstanceCount': 1,\n",
       "   'VolumeSizeInGB': 30},\n",
       "  'StoppingCondition': {'MaxRuntimeInSeconds': 86400},\n",
       "  'EnableNetworkIsolation': False,\n",
       "  'EnableInterContainerTrafficEncryption': False,\n",
       "  'EnableManagedSpotTraining': False},\n",
       " 'HyperParameterTuningJobStatus': 'Completed',\n",
       " 'CreationTime': datetime.datetime(2021, 7, 31, 4, 33, 37, 581000, tzinfo=tzlocal()),\n",
       " 'HyperParameterTuningEndTime': datetime.datetime(2021, 7, 31, 5, 25, 1, 352000, tzinfo=tzlocal()),\n",
       " 'LastModifiedTime': datetime.datetime(2021, 7, 31, 5, 25, 1, 352000, tzinfo=tzlocal()),\n",
       " 'TrainingJobStatusCounters': {'Completed': 30,\n",
       "  'InProgress': 0,\n",
       "  'RetryableError': 0,\n",
       "  'NonRetryableError': 0,\n",
       "  'Stopped': 0},\n",
       " 'ObjectiveStatusCounters': {'Succeeded': 30, 'Pending': 0, 'Failed': 0},\n",
       " 'BestTrainingJob': {'TrainingJobName': 'xgboost-vpc-7-210731-0433-029-54f28ca2',\n",
       "  'TrainingJobArn': 'arn:aws:sagemaker:us-east-1:058528764918:training-job/xgboost-vpc-7-210731-0433-029-54f28ca2',\n",
       "  'CreationTime': datetime.datetime(2021, 7, 31, 4, 42, 26, tzinfo=tzlocal()),\n",
       "  'TrainingStartTime': datetime.datetime(2021, 7, 31, 4, 44, 25, tzinfo=tzlocal()),\n",
       "  'TrainingEndTime': datetime.datetime(2021, 7, 31, 5, 19, 10, tzinfo=tzlocal()),\n",
       "  'TrainingJobStatus': 'Completed',\n",
       "  'TunedHyperParameters': {'colsample_bylevel': '0.5728823999930289',\n",
       "   'colsample_bynode': '0.7054679709740178',\n",
       "   'colsample_bytree': '0.75',\n",
       "   'eta': '0.10969795645330495',\n",
       "   'gamma': '2.4076302672343006',\n",
       "   'max_delta_step': '5',\n",
       "   'max_depth': '3',\n",
       "   'subsample': '0.8519091035879065'},\n",
       "  'FinalHyperParameterTuningJobObjectiveMetric': {'MetricName': 'validation:auc',\n",
       "   'Value': 0.8050770163536072},\n",
       "  'ObjectiveStatus': 'Succeeded'},\n",
       " 'ResponseMetadata': {'RequestId': 'b0d56197-5a4e-453c-b7ff-09da17ad62d4',\n",
       "  'HTTPStatusCode': 200,\n",
       "  'HTTPHeaders': {'x-amzn-requestid': 'b0d56197-5a4e-453c-b7ff-09da17ad62d4',\n",
       "   'content-type': 'application/x-amz-json-1.1',\n",
       "   'content-length': '8474',\n",
       "   'date': 'Sat, 31 Jul 2021 05:25:05 GMT'},\n",
       "  'RetryAttempts': 0}}"
      ]
     },
     "execution_count": 35,
     "metadata": {},
     "output_type": "execute_result"
    }
   ],
   "source": [
    "tuner.describe()"
   ]
  },
  {
   "cell_type": "code",
   "execution_count": 36,
   "id": "5a21dd89",
   "metadata": {},
   "outputs": [
    {
     "data": {
      "text/plain": [
       "'xgboost-vpc-7-210731-0433-029-54f28ca2'"
      ]
     },
     "execution_count": 36,
     "metadata": {},
     "output_type": "execute_result"
    }
   ],
   "source": [
    "nombre_exportado = HyperparameterTuner.attach(tuner.latest_tuning_job.name).best_training_job()\n",
    "nombre_exportado"
   ]
  },
  {
   "cell_type": "code",
   "execution_count": 37,
   "id": "c0f8bfdd",
   "metadata": {},
   "outputs": [
    {
     "name": "stdout",
     "output_type": "stream",
     "text": [
      "\n",
      "2021-07-31 05:19:10 Starting - Preparing the instances for training\n",
      "2021-07-31 05:19:10 Downloading - Downloading input data\n",
      "2021-07-31 05:19:10 Training - Training image download completed. Training in progress.\n",
      "2021-07-31 05:19:10 Uploading - Uploading generated training model\n",
      "2021-07-31 05:19:10 Completed - Training job completed\n"
     ]
    }
   ],
   "source": [
    "from sagemaker.estimator import Estimator, Transformer\n",
    "model = Estimator.attach(nombre_exportado)"
   ]
  },
  {
   "cell_type": "code",
   "execution_count": 38,
   "id": "100df049",
   "metadata": {},
   "outputs": [
    {
     "data": {
      "text/plain": [
       "<sagemaker.HyperparameterTuningJobAnalytics for xgboost-vpc-7-210731-0433>"
      ]
     },
     "execution_count": 38,
     "metadata": {},
     "output_type": "execute_result"
    }
   ],
   "source": [
    "tuner_metrics = sagemaker.HyperparameterTuningJobAnalytics(tuner.latest_tuning_job.name)\n",
    "tuner_metrics"
   ]
  },
  {
   "cell_type": "code",
   "execution_count": 39,
   "id": "c6ae9dd2",
   "metadata": {},
   "outputs": [
    {
     "data": {
      "text/html": [
       "<div>\n",
       "<style scoped>\n",
       "    .dataframe tbody tr th:only-of-type {\n",
       "        vertical-align: middle;\n",
       "    }\n",
       "\n",
       "    .dataframe tbody tr th {\n",
       "        vertical-align: top;\n",
       "    }\n",
       "\n",
       "    .dataframe thead th {\n",
       "        text-align: right;\n",
       "    }\n",
       "</style>\n",
       "<table border=\"1\" class=\"dataframe\">\n",
       "  <thead>\n",
       "    <tr style=\"text-align: right;\">\n",
       "      <th></th>\n",
       "      <th>colsample_bylevel</th>\n",
       "      <th>colsample_bynode</th>\n",
       "      <th>colsample_bytree</th>\n",
       "      <th>eta</th>\n",
       "      <th>gamma</th>\n",
       "      <th>max_delta_step</th>\n",
       "      <th>max_depth</th>\n",
       "      <th>subsample</th>\n",
       "      <th>TrainingJobName</th>\n",
       "      <th>TrainingJobStatus</th>\n",
       "      <th>FinalObjectiveValue</th>\n",
       "      <th>TrainingStartTime</th>\n",
       "      <th>TrainingEndTime</th>\n",
       "      <th>TrainingElapsedTimeSeconds</th>\n",
       "    </tr>\n",
       "  </thead>\n",
       "  <tbody>\n",
       "    <tr>\n",
       "      <th>1</th>\n",
       "      <td>0.572882</td>\n",
       "      <td>0.705468</td>\n",
       "      <td>0.750000</td>\n",
       "      <td>0.109698</td>\n",
       "      <td>2.407630</td>\n",
       "      <td>5.0</td>\n",
       "      <td>3.0</td>\n",
       "      <td>0.851909</td>\n",
       "      <td>xgboost-vpc-7-210731-0433-029-54f28ca2</td>\n",
       "      <td>Completed</td>\n",
       "      <td>0.805077</td>\n",
       "      <td>2021-07-31 04:44:25+00:00</td>\n",
       "      <td>2021-07-31 05:19:10+00:00</td>\n",
       "      <td>2085.0</td>\n",
       "    </tr>\n",
       "    <tr>\n",
       "      <th>6</th>\n",
       "      <td>0.716114</td>\n",
       "      <td>0.695385</td>\n",
       "      <td>0.668653</td>\n",
       "      <td>0.011219</td>\n",
       "      <td>6.391199</td>\n",
       "      <td>5.0</td>\n",
       "      <td>3.0</td>\n",
       "      <td>0.203585</td>\n",
       "      <td>xgboost-vpc-7-210731-0433-024-8ceec75b</td>\n",
       "      <td>Completed</td>\n",
       "      <td>0.781476</td>\n",
       "      <td>2021-07-31 04:43:20+00:00</td>\n",
       "      <td>2021-07-31 04:44:58+00:00</td>\n",
       "      <td>98.0</td>\n",
       "    </tr>\n",
       "    <tr>\n",
       "      <th>4</th>\n",
       "      <td>0.716114</td>\n",
       "      <td>0.695385</td>\n",
       "      <td>0.668653</td>\n",
       "      <td>0.011219</td>\n",
       "      <td>6.391199</td>\n",
       "      <td>5.0</td>\n",
       "      <td>3.0</td>\n",
       "      <td>0.219585</td>\n",
       "      <td>xgboost-vpc-7-210731-0433-026-560ecd89</td>\n",
       "      <td>Completed</td>\n",
       "      <td>0.781188</td>\n",
       "      <td>2021-07-31 04:43:47+00:00</td>\n",
       "      <td>2021-07-31 04:44:57+00:00</td>\n",
       "      <td>70.0</td>\n",
       "    </tr>\n",
       "    <tr>\n",
       "      <th>5</th>\n",
       "      <td>0.716114</td>\n",
       "      <td>0.695385</td>\n",
       "      <td>0.668653</td>\n",
       "      <td>0.011219</td>\n",
       "      <td>6.191199</td>\n",
       "      <td>5.0</td>\n",
       "      <td>3.0</td>\n",
       "      <td>0.219585</td>\n",
       "      <td>xgboost-vpc-7-210731-0433-025-ce8da7ea</td>\n",
       "      <td>Completed</td>\n",
       "      <td>0.781188</td>\n",
       "      <td>2021-07-31 04:43:57+00:00</td>\n",
       "      <td>2021-07-31 04:45:06+00:00</td>\n",
       "      <td>69.0</td>\n",
       "    </tr>\n",
       "    <tr>\n",
       "      <th>25</th>\n",
       "      <td>0.589979</td>\n",
       "      <td>0.491422</td>\n",
       "      <td>0.476479</td>\n",
       "      <td>0.073590</td>\n",
       "      <td>5.481395</td>\n",
       "      <td>5.0</td>\n",
       "      <td>3.0</td>\n",
       "      <td>0.825761</td>\n",
       "      <td>xgboost-vpc-7-210731-0433-005-c56021bb</td>\n",
       "      <td>Completed</td>\n",
       "      <td>0.771370</td>\n",
       "      <td>2021-07-31 04:36:18+00:00</td>\n",
       "      <td>2021-07-31 04:37:54+00:00</td>\n",
       "      <td>96.0</td>\n",
       "    </tr>\n",
       "    <tr>\n",
       "      <th>9</th>\n",
       "      <td>0.328788</td>\n",
       "      <td>0.520943</td>\n",
       "      <td>0.677500</td>\n",
       "      <td>0.062446</td>\n",
       "      <td>6.570032</td>\n",
       "      <td>3.0</td>\n",
       "      <td>3.0</td>\n",
       "      <td>0.864946</td>\n",
       "      <td>xgboost-vpc-7-210731-0433-021-8c8cdc08</td>\n",
       "      <td>Completed</td>\n",
       "      <td>0.769523</td>\n",
       "      <td>2021-07-31 04:43:32+00:00</td>\n",
       "      <td>2021-07-31 04:45:22+00:00</td>\n",
       "      <td>110.0</td>\n",
       "    </tr>\n",
       "    <tr>\n",
       "      <th>11</th>\n",
       "      <td>0.328788</td>\n",
       "      <td>0.520943</td>\n",
       "      <td>0.677500</td>\n",
       "      <td>0.062446</td>\n",
       "      <td>6.370032</td>\n",
       "      <td>3.0</td>\n",
       "      <td>3.0</td>\n",
       "      <td>0.864946</td>\n",
       "      <td>xgboost-vpc-7-210731-0433-019-d296a7b0</td>\n",
       "      <td>Completed</td>\n",
       "      <td>0.769520</td>\n",
       "      <td>2021-07-31 04:40:12+00:00</td>\n",
       "      <td>2021-07-31 04:41:36+00:00</td>\n",
       "      <td>84.0</td>\n",
       "    </tr>\n",
       "    <tr>\n",
       "      <th>29</th>\n",
       "      <td>0.243763</td>\n",
       "      <td>0.412206</td>\n",
       "      <td>0.353736</td>\n",
       "      <td>0.120712</td>\n",
       "      <td>3.606873</td>\n",
       "      <td>3.0</td>\n",
       "      <td>3.0</td>\n",
       "      <td>0.621839</td>\n",
       "      <td>xgboost-vpc-7-210731-0433-001-468affa0</td>\n",
       "      <td>Completed</td>\n",
       "      <td>0.760779</td>\n",
       "      <td>2021-07-31 04:35:53+00:00</td>\n",
       "      <td>2021-07-31 04:37:50+00:00</td>\n",
       "      <td>117.0</td>\n",
       "    </tr>\n",
       "    <tr>\n",
       "      <th>8</th>\n",
       "      <td>0.483493</td>\n",
       "      <td>0.662654</td>\n",
       "      <td>0.425987</td>\n",
       "      <td>0.040127</td>\n",
       "      <td>5.605676</td>\n",
       "      <td>5.0</td>\n",
       "      <td>3.0</td>\n",
       "      <td>0.710860</td>\n",
       "      <td>xgboost-vpc-7-210731-0433-022-5e973b46</td>\n",
       "      <td>Completed</td>\n",
       "      <td>0.760436</td>\n",
       "      <td>2021-07-31 04:43:25+00:00</td>\n",
       "      <td>2021-07-31 04:44:48+00:00</td>\n",
       "      <td>83.0</td>\n",
       "    </tr>\n",
       "    <tr>\n",
       "      <th>24</th>\n",
       "      <td>0.100260</td>\n",
       "      <td>0.577896</td>\n",
       "      <td>0.615097</td>\n",
       "      <td>0.085771</td>\n",
       "      <td>4.261412</td>\n",
       "      <td>4.0</td>\n",
       "      <td>3.0</td>\n",
       "      <td>0.830519</td>\n",
       "      <td>xgboost-vpc-7-210731-0433-006-52001c5b</td>\n",
       "      <td>Completed</td>\n",
       "      <td>0.760384</td>\n",
       "      <td>2021-07-31 04:36:36+00:00</td>\n",
       "      <td>2021-07-31 04:37:37+00:00</td>\n",
       "      <td>61.0</td>\n",
       "    </tr>\n",
       "  </tbody>\n",
       "</table>\n",
       "</div>"
      ],
      "text/plain": [
       "    colsample_bylevel  colsample_bynode  colsample_bytree       eta     gamma  max_delta_step  max_depth  subsample                         TrainingJobName TrainingJobStatus  FinalObjectiveValue         TrainingStartTime           TrainingEndTime  TrainingElapsedTimeSeconds\n",
       "1            0.572882          0.705468          0.750000  0.109698  2.407630             5.0        3.0   0.851909  xgboost-vpc-7-210731-0433-029-54f28ca2         Completed             0.805077 2021-07-31 04:44:25+00:00 2021-07-31 05:19:10+00:00                      2085.0\n",
       "6            0.716114          0.695385          0.668653  0.011219  6.391199             5.0        3.0   0.203585  xgboost-vpc-7-210731-0433-024-8ceec75b         Completed             0.781476 2021-07-31 04:43:20+00:00 2021-07-31 04:44:58+00:00                        98.0\n",
       "4            0.716114          0.695385          0.668653  0.011219  6.391199             5.0        3.0   0.219585  xgboost-vpc-7-210731-0433-026-560ecd89         Completed             0.781188 2021-07-31 04:43:47+00:00 2021-07-31 04:44:57+00:00                        70.0\n",
       "5            0.716114          0.695385          0.668653  0.011219  6.191199             5.0        3.0   0.219585  xgboost-vpc-7-210731-0433-025-ce8da7ea         Completed             0.781188 2021-07-31 04:43:57+00:00 2021-07-31 04:45:06+00:00                        69.0\n",
       "25           0.589979          0.491422          0.476479  0.073590  5.481395             5.0        3.0   0.825761  xgboost-vpc-7-210731-0433-005-c56021bb         Completed             0.771370 2021-07-31 04:36:18+00:00 2021-07-31 04:37:54+00:00                        96.0\n",
       "9            0.328788          0.520943          0.677500  0.062446  6.570032             3.0        3.0   0.864946  xgboost-vpc-7-210731-0433-021-8c8cdc08         Completed             0.769523 2021-07-31 04:43:32+00:00 2021-07-31 04:45:22+00:00                       110.0\n",
       "11           0.328788          0.520943          0.677500  0.062446  6.370032             3.0        3.0   0.864946  xgboost-vpc-7-210731-0433-019-d296a7b0         Completed             0.769520 2021-07-31 04:40:12+00:00 2021-07-31 04:41:36+00:00                        84.0\n",
       "29           0.243763          0.412206          0.353736  0.120712  3.606873             3.0        3.0   0.621839  xgboost-vpc-7-210731-0433-001-468affa0         Completed             0.760779 2021-07-31 04:35:53+00:00 2021-07-31 04:37:50+00:00                       117.0\n",
       "8            0.483493          0.662654          0.425987  0.040127  5.605676             5.0        3.0   0.710860  xgboost-vpc-7-210731-0433-022-5e973b46         Completed             0.760436 2021-07-31 04:43:25+00:00 2021-07-31 04:44:48+00:00                        83.0\n",
       "24           0.100260          0.577896          0.615097  0.085771  4.261412             4.0        3.0   0.830519  xgboost-vpc-7-210731-0433-006-52001c5b         Completed             0.760384 2021-07-31 04:36:36+00:00 2021-07-31 04:37:37+00:00                        61.0"
      ]
     },
     "execution_count": 39,
     "metadata": {},
     "output_type": "execute_result"
    }
   ],
   "source": [
    "results = tuner_metrics.dataframe().sort_values(['FinalObjectiveValue'], ascending=False)\n",
    "results.head(10)"
   ]
  },
  {
   "cell_type": "code",
   "execution_count": null,
   "id": "63756517",
   "metadata": {},
   "outputs": [],
   "source": []
  },
  {
   "cell_type": "code",
   "execution_count": null,
   "id": "33fad712",
   "metadata": {},
   "outputs": [],
   "source": []
  }
 ],
 "metadata": {
  "kernelspec": {
   "display_name": "conda_python3",
   "language": "python",
   "name": "conda_python3"
  },
  "language_info": {
   "codemirror_mode": {
    "name": "ipython",
    "version": 3
   },
   "file_extension": ".py",
   "mimetype": "text/x-python",
   "name": "python",
   "nbconvert_exporter": "python",
   "pygments_lexer": "ipython3",
   "version": "3.6.13"
  }
 },
 "nbformat": 4,
 "nbformat_minor": 5
}
