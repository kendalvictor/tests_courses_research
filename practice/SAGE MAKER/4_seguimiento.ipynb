{
 "cells": [
  {
   "cell_type": "code",
   "execution_count": 1,
   "id": "6df735e8",
   "metadata": {},
   "outputs": [
    {
     "name": "stderr",
     "output_type": "stream",
     "text": [
      "WARNING: pip is being invoked by an old script wrapper. This will fail in a future version of pip.\n",
      "Please see https://github.com/pypa/pip/issues/5599 for advice on fixing the underlying issue.\n",
      "To avoid this problem you can invoke Python with '-m pip' instead of running pip directly.\n"
     ]
    },
    {
     "name": "stdout",
     "output_type": "stream",
     "text": [
      "Requirement already satisfied: lightgbm in /home/ec2-user/anaconda3/envs/python3/lib/python3.6/site-packages (3.2.1)\n",
      "Requirement already satisfied: awswrangler in /home/ec2-user/anaconda3/envs/python3/lib/python3.6/site-packages (2.10.0)\n",
      "Requirement already satisfied: sagemaker in /home/ec2-user/anaconda3/envs/python3/lib/python3.6/site-packages (2.50.1)\n",
      "Requirement already satisfied: numpy in /home/ec2-user/anaconda3/envs/python3/lib/python3.6/site-packages (from lightgbm) (1.19.5)\n",
      "Requirement already satisfied: scikit-learn!=0.22.0 in /home/ec2-user/anaconda3/envs/python3/lib/python3.6/site-packages (from lightgbm) (0.24.1)\n",
      "Requirement already satisfied: scipy in /home/ec2-user/anaconda3/envs/python3/lib/python3.6/site-packages (from lightgbm) (1.5.3)\n",
      "Requirement already satisfied: wheel in /home/ec2-user/anaconda3/envs/python3/lib/python3.6/site-packages (from lightgbm) (0.36.2)\n",
      "Requirement already satisfied: joblib>=0.11 in /home/ec2-user/anaconda3/envs/python3/lib/python3.6/site-packages (from scikit-learn!=0.22.0->lightgbm) (1.0.1)\n",
      "Requirement already satisfied: threadpoolctl>=2.0.0 in /home/ec2-user/anaconda3/envs/python3/lib/python3.6/site-packages (from scikit-learn!=0.22.0->lightgbm) (2.1.0)\n",
      "Requirement already satisfied: pymysql<1.1.0,>=0.9.0 in /home/ec2-user/anaconda3/envs/python3/lib/python3.6/site-packages (from awswrangler) (1.0.2)\n",
      "Requirement already satisfied: botocore<2.1.0,>=1.19.8 in /home/ec2-user/anaconda3/envs/python3/lib/python3.6/site-packages (from awswrangler) (1.20.99)\n",
      "Requirement already satisfied: pandas<2.1.0,>=1.1.0 in /home/ec2-user/anaconda3/envs/python3/lib/python3.6/site-packages (from awswrangler) (1.1.5)\n",
      "Requirement already satisfied: pyarrow<4.1.0,>=2.0.0 in /home/ec2-user/anaconda3/envs/python3/lib/python3.6/site-packages (from awswrangler) (4.0.1)\n",
      "Requirement already satisfied: redshift-connector~=2.0.882 in /home/ec2-user/anaconda3/envs/python3/lib/python3.6/site-packages (from awswrangler) (2.0.883)\n",
      "Requirement already satisfied: pg8000<1.21.0,>=1.16.0 in /home/ec2-user/anaconda3/envs/python3/lib/python3.6/site-packages (from awswrangler) (1.20.0)\n",
      "Requirement already satisfied: openpyxl~=3.0.0 in /home/ec2-user/anaconda3/envs/python3/lib/python3.6/site-packages (from awswrangler) (3.0.6)\n",
      "Requirement already satisfied: boto3<2.1.0,>=1.16.8 in /home/ec2-user/anaconda3/envs/python3/lib/python3.6/site-packages (from awswrangler) (1.17.99)\n",
      "Requirement already satisfied: jmespath<1.0.0,>=0.7.1 in /home/ec2-user/anaconda3/envs/python3/lib/python3.6/site-packages (from boto3<2.1.0,>=1.16.8->awswrangler) (0.10.0)\n",
      "Requirement already satisfied: s3transfer<0.5.0,>=0.4.0 in /home/ec2-user/anaconda3/envs/python3/lib/python3.6/site-packages (from boto3<2.1.0,>=1.16.8->awswrangler) (0.4.2)\n",
      "Requirement already satisfied: python-dateutil<3.0.0,>=2.1 in /home/ec2-user/anaconda3/envs/python3/lib/python3.6/site-packages (from botocore<2.1.0,>=1.19.8->awswrangler) (2.8.1)\n",
      "Requirement already satisfied: urllib3<1.27,>=1.25.4 in /home/ec2-user/anaconda3/envs/python3/lib/python3.6/site-packages (from botocore<2.1.0,>=1.19.8->awswrangler) (1.26.5)\n",
      "Requirement already satisfied: jdcal in /home/ec2-user/anaconda3/envs/python3/lib/python3.6/site-packages (from openpyxl~=3.0.0->awswrangler) (1.4.1)\n",
      "Requirement already satisfied: et-xmlfile in /home/ec2-user/anaconda3/envs/python3/lib/python3.6/site-packages (from openpyxl~=3.0.0->awswrangler) (1.0.1)\n",
      "Requirement already satisfied: pytz>=2017.2 in /home/ec2-user/anaconda3/envs/python3/lib/python3.6/site-packages (from pandas<2.1.0,>=1.1.0->awswrangler) (2021.1)\n",
      "Requirement already satisfied: scramp>=1.4.0 in /home/ec2-user/anaconda3/envs/python3/lib/python3.6/site-packages (from pg8000<1.21.0,>=1.16.0->awswrangler) (1.4.0)\n",
      "Requirement already satisfied: six>=1.5 in /home/ec2-user/anaconda3/envs/python3/lib/python3.6/site-packages (from python-dateutil<3.0.0,>=2.1->botocore<2.1.0,>=1.19.8->awswrangler) (1.15.0)\n",
      "Requirement already satisfied: requests<2.25.2,>=2.23.0 in /home/ec2-user/anaconda3/envs/python3/lib/python3.6/site-packages (from redshift-connector~=2.0.882->awswrangler) (2.25.1)\n",
      "Requirement already satisfied: beautifulsoup4<5.0.0,>=4.7.0 in /home/ec2-user/anaconda3/envs/python3/lib/python3.6/site-packages (from redshift-connector~=2.0.882->awswrangler) (4.9.3)\n",
      "Requirement already satisfied: lxml>=4.6.2 in /home/ec2-user/anaconda3/envs/python3/lib/python3.6/site-packages (from redshift-connector~=2.0.882->awswrangler) (4.6.3)\n",
      "Requirement already satisfied: soupsieve>1.2 in /home/ec2-user/anaconda3/envs/python3/lib/python3.6/site-packages (from beautifulsoup4<5.0.0,>=4.7.0->redshift-connector~=2.0.882->awswrangler) (2.0.1)\n",
      "Requirement already satisfied: idna<3,>=2.5 in /home/ec2-user/anaconda3/envs/python3/lib/python3.6/site-packages (from requests<2.25.2,>=2.23.0->redshift-connector~=2.0.882->awswrangler) (2.10)\n",
      "Requirement already satisfied: chardet<5,>=3.0.2 in /home/ec2-user/anaconda3/envs/python3/lib/python3.6/site-packages (from requests<2.25.2,>=2.23.0->redshift-connector~=2.0.882->awswrangler) (3.0.4)\n",
      "Requirement already satisfied: certifi>=2017.4.17 in /home/ec2-user/anaconda3/envs/python3/lib/python3.6/site-packages (from requests<2.25.2,>=2.23.0->redshift-connector~=2.0.882->awswrangler) (2021.5.30)\n",
      "Requirement already satisfied: asn1crypto==1.4.0 in /home/ec2-user/anaconda3/envs/python3/lib/python3.6/site-packages (from scramp>=1.4.0->pg8000<1.21.0,>=1.16.0->awswrangler) (1.4.0)\n",
      "Requirement already satisfied: smdebug-rulesconfig==1.0.1 in /home/ec2-user/anaconda3/envs/python3/lib/python3.6/site-packages (from sagemaker) (1.0.1)\n",
      "Requirement already satisfied: protobuf>=3.1 in /home/ec2-user/anaconda3/envs/python3/lib/python3.6/site-packages (from sagemaker) (3.15.2)\n",
      "Requirement already satisfied: attrs in /home/ec2-user/anaconda3/envs/python3/lib/python3.6/site-packages (from sagemaker) (20.3.0)\n",
      "Requirement already satisfied: google-pasta in /home/ec2-user/anaconda3/envs/python3/lib/python3.6/site-packages (from sagemaker) (0.2.0)\n",
      "Requirement already satisfied: protobuf3-to-dict>=0.1.5 in /home/ec2-user/anaconda3/envs/python3/lib/python3.6/site-packages (from sagemaker) (0.1.5)\n",
      "Requirement already satisfied: packaging>=20.0 in /home/ec2-user/anaconda3/envs/python3/lib/python3.6/site-packages (from sagemaker) (20.9)\n",
      "Requirement already satisfied: pathos in /home/ec2-user/anaconda3/envs/python3/lib/python3.6/site-packages (from sagemaker) (0.2.7)\n",
      "Requirement already satisfied: importlib-metadata>=1.4.0 in /home/ec2-user/anaconda3/envs/python3/lib/python3.6/site-packages (from sagemaker) (3.7.0)\n",
      "Requirement already satisfied: typing-extensions>=3.6.4 in /home/ec2-user/anaconda3/envs/python3/lib/python3.6/site-packages (from importlib-metadata>=1.4.0->sagemaker) (3.7.4.3)\n",
      "Requirement already satisfied: zipp>=0.5 in /home/ec2-user/anaconda3/envs/python3/lib/python3.6/site-packages (from importlib-metadata>=1.4.0->sagemaker) (3.4.0)\n",
      "Requirement already satisfied: pyparsing>=2.0.2 in /home/ec2-user/anaconda3/envs/python3/lib/python3.6/site-packages (from packaging>=20.0->sagemaker) (2.4.7)\n",
      "Requirement already satisfied: dill>=0.3.3 in /home/ec2-user/anaconda3/envs/python3/lib/python3.6/site-packages (from pathos->sagemaker) (0.3.3)\n",
      "Requirement already satisfied: ppft>=1.6.6.3 in /home/ec2-user/anaconda3/envs/python3/lib/python3.6/site-packages (from pathos->sagemaker) (1.6.6.3)\n",
      "Requirement already satisfied: pox>=0.2.9 in /home/ec2-user/anaconda3/envs/python3/lib/python3.6/site-packages (from pathos->sagemaker) (0.2.9)\n",
      "Requirement already satisfied: multiprocess>=0.70.11 in /home/ec2-user/anaconda3/envs/python3/lib/python3.6/site-packages (from pathos->sagemaker) (0.70.11.1)\n"
     ]
    },
    {
     "name": "stderr",
     "output_type": "stream",
     "text": [
      "WARNING: You are using pip version 21.1.2; however, version 21.2.2 is available.\n",
      "You should consider upgrading via the '/home/ec2-user/anaconda3/envs/python3/bin/python -m pip install --upgrade pip' command.\n"
     ]
    },
    {
     "data": {
      "text/plain": [
       "0"
      ]
     },
     "execution_count": 1,
     "metadata": {},
     "output_type": "execute_result"
    }
   ],
   "source": [
    "import pip\n",
    "\n",
    "package_names = ['lightgbm', 'awswrangler', 'sagemaker'] \n",
    "pip.main(['install'] + package_names + ['--upgrade'])"
   ]
  },
  {
   "cell_type": "code",
   "execution_count": 2,
   "id": "e73af649",
   "metadata": {},
   "outputs": [
    {
     "name": "stdout",
     "output_type": "stream",
     "text": [
      "NumExpr defaulting to 4 threads.\n"
     ]
    }
   ],
   "source": [
    "# Nativos\n",
    "from dateutil.relativedelta import relativedelta\n",
    "from time import gmtime, strftime\n",
    "from datetime import datetime\n",
    "import random as rn\n",
    "import joblib\n",
    "import json\n",
    "import sys\n",
    "import os\n",
    "import gc\n",
    "\n",
    "#nube\n",
    "from sagemaker.processing import ProcessingInput, ProcessingOutput\n",
    "from sagemaker.sklearn.processing import SKLearnProcessor\n",
    "from sagemaker import get_execution_role\n",
    "import awswrangler as wr\n",
    "import sagemaker\n",
    "import boto3\n",
    "\n",
    "#calculo\n",
    "import pandas as pd\n",
    "import numpy as np\n",
    "import scipy\n",
    "\n",
    "#grafico\n",
    "from IPython.display import display\n",
    "import matplotlib.pyplot as plt\n",
    "import seaborn as sns\n",
    "%matplotlib inline\n",
    "sns.set(style=\"whitegrid\")\n",
    "\n",
    "#Interacciones con output\n",
    "import warnings\n",
    "warnings.filterwarnings(\"ignore\")\n",
    "# warnings.simplefilter(action='ignore', category=FutureWarning)\n",
    "pd.set_option('display.max_rows', 500)\n",
    "pd.set_option('display.max_columns', 500)\n",
    "pd.set_option('display.width', 1000)\n",
    "\n",
    "from IPython.core.interactiveshell import InteractiveShell\n",
    "InteractiveShell.ast_node_interactivity = \"all\"\n",
    "\n",
    "gc.collect()\n",
    "# MODELS\n",
    "from lightgbm import LGBMClassifier\n",
    "\n",
    "BASE_DIR = os.path.dirname(os.getcwd())\n",
    "if BASE_DIR not in sys.path: sys.path.append(BASE_DIR)\n",
    "#import scorecardpy as sc\n",
    "\n",
    "SEED = 29082013\n",
    "os.environ['PYTHONHASHSEED'] = str(SEED)\n",
    "np.random.seed(SEED)\n",
    "rn.seed(SEED)"
   ]
  },
  {
   "cell_type": "code",
   "execution_count": null,
   "id": "e17308b4",
   "metadata": {},
   "outputs": [],
   "source": []
  },
  {
   "cell_type": "markdown",
   "id": "7c5d2729",
   "metadata": {},
   "source": [
    "### COnfig"
   ]
  },
  {
   "cell_type": "code",
   "execution_count": 3,
   "id": "916b1378",
   "metadata": {},
   "outputs": [
    {
     "name": "stdout",
     "output_type": "stream",
     "text": [
      "bucket:  sagemaker-us-east-1-058528764918\n",
      "region:  us-east-1\n",
      "now:  2021-08-02 18:48:40.970161\n"
     ]
    }
   ],
   "source": [
    "proyecto = 'propension'\n",
    "\n",
    "now = datetime.now()\n",
    "sess = sagemaker.session.Session()\n",
    "s3 = boto3.resource('s3')\n",
    "bucket = sess.default_bucket() \n",
    "region = boto3.Session().region_name\n",
    "\n",
    "print(\"bucket: \", bucket)\n",
    "print(\"region: \", region)\n",
    "print(\"now: \", now)"
   ]
  },
  {
   "cell_type": "code",
   "execution_count": null,
   "id": "2bd0f56c",
   "metadata": {},
   "outputs": [],
   "source": []
  },
  {
   "cell_type": "markdown",
   "id": "c8153fce",
   "metadata": {},
   "source": [
    "### Seteado utilitario"
   ]
  },
  {
   "cell_type": "code",
   "execution_count": 4,
   "id": "6188ea5c",
   "metadata": {},
   "outputs": [
    {
     "data": {
      "text/plain": [
       "'/home/ec2-user/SageMaker'"
      ]
     },
     "execution_count": 4,
     "metadata": {},
     "output_type": "execute_result"
    }
   ],
   "source": [
    "BASE_DIR"
   ]
  },
  {
   "cell_type": "code",
   "execution_count": 5,
   "id": "2beed060",
   "metadata": {},
   "outputs": [
    {
     "data": {
      "text/plain": [
       "'/home/ec2-user/SageMaker/PROPENSION/UTILITARIO_CODE/utils.py'"
      ]
     },
     "execution_count": 5,
     "metadata": {},
     "output_type": "execute_result"
    }
   ],
   "source": [
    "path_instancia_util = os.path.join(BASE_DIR, 'PROPENSION/UTILITARIO_CODE/utils.py')\n",
    "path_instancia_util"
   ]
  },
  {
   "cell_type": "code",
   "execution_count": 6,
   "id": "f0275190",
   "metadata": {},
   "outputs": [
    {
     "data": {
      "text/plain": [
       "'vpc/propension/code/utils.py'"
      ]
     },
     "execution_count": 6,
     "metadata": {},
     "output_type": "execute_result"
    }
   ],
   "source": [
    "uri_code = 's3://{}/vpc/{}/code'.format(bucket, proyecto)\n",
    "prefix_utils = '{}/utils.py'.format(uri_code.split(bucket)[-1][1:])\n",
    "prefix_utils"
   ]
  },
  {
   "cell_type": "code",
   "execution_count": 7,
   "id": "87f652e8",
   "metadata": {},
   "outputs": [],
   "source": [
    "s3.Bucket(bucket).upload_file(path_instancia_util, prefix_utils)"
   ]
  },
  {
   "cell_type": "code",
   "execution_count": null,
   "id": "0e83634a",
   "metadata": {},
   "outputs": [],
   "source": []
  },
  {
   "cell_type": "markdown",
   "id": "f6f52ae6",
   "metadata": {},
   "source": [
    "### RUtas"
   ]
  },
  {
   "cell_type": "code",
   "execution_count": 8,
   "id": "918a43ad",
   "metadata": {},
   "outputs": [
    {
     "name": "stdout",
     "output_type": "stream",
     "text": [
      "uri_output: s3://sagemaker-us-east-1-058528764918/vpc/propension/output\n",
      "uri_seguimiento: s3://sagemaker-us-east-1-058528764918/vpc/propension/output/seguimiento.csv\n",
      "uri_validation: s3://sagemaker-us-east-1-058528764918/vpc/propension/output/validation.csv\n",
      "uri_copy_seg: s3://sagemaker-us-east-1-058528764918/vpc/propension/seguimiento/seguimiento.csv\n",
      "uri_copy_val: s3://sagemaker-us-east-1-058528764918/vpc/propension/seguimiento/validation.csv\n",
      "uri_raw   : s3://sagemaker-us-east-1-058528764918/vpc/propension/raw\n"
     ]
    }
   ],
   "source": [
    "uri_output = 's3://{}/vpc/{}/output'.format(bucket, proyecto)\n",
    "uri_seguimiento = '{}/seguimiento.csv'.format(uri_output)\n",
    "uri_validation = '{}/validation.csv'.format(uri_output)\n",
    "uri_copy_seg = '{}/seguimiento.csv'.format(uri_output.replace('output', 'seguimiento'))\n",
    "uri_copy_val = '{}/validation.csv'.format(uri_output.replace('output', 'seguimiento'))\n",
    "\n",
    "print('uri_output:', uri_output)\n",
    "print('uri_seguimiento:', uri_seguimiento)\n",
    "print('uri_validation:', uri_validation)\n",
    "print('uri_copy_seg:', uri_copy_seg)\n",
    "print('uri_copy_val:', uri_copy_val)\n",
    "\n",
    "uri_raw = 's3://{}/vpc/{}/raw'.format(bucket, proyecto)\n",
    "print('uri_raw   :', uri_raw)"
   ]
  },
  {
   "cell_type": "code",
   "execution_count": 9,
   "id": "9c805681",
   "metadata": {},
   "outputs": [
    {
     "name": "stdout",
     "output_type": "stream",
     "text": [
      "CPU times: user 651 ms, sys: 23.3 ms, total: 674 ms\n",
      "Wall time: 8.74 s\n"
     ]
    }
   ],
   "source": [
    "%%time\n",
    "s3.meta.client.copy({\n",
    "    'Bucket': bucket,\n",
    "    'Key': uri_seguimiento.split(bucket)[-1][1:]\n",
    "},\n",
    "    bucket,\n",
    "    uri_copy_seg.split(bucket)[-1][1:]\n",
    ")"
   ]
  },
  {
   "cell_type": "code",
   "execution_count": 10,
   "id": "fd8a9d3e",
   "metadata": {},
   "outputs": [
    {
     "name": "stdout",
     "output_type": "stream",
     "text": [
      "CPU times: user 512 ms, sys: 11.8 ms, total: 524 ms\n",
      "Wall time: 8.58 s\n"
     ]
    }
   ],
   "source": [
    "%%time\n",
    "s3.meta.client.copy({\n",
    "    'Bucket': bucket,\n",
    "    'Key': uri_validation.split(bucket)[-1][1:]\n",
    "},\n",
    "    bucket,\n",
    "    uri_copy_val.split(bucket)[-1][1:]\n",
    ")"
   ]
  },
  {
   "cell_type": "code",
   "execution_count": 11,
   "id": "e9f61515",
   "metadata": {},
   "outputs": [
    {
     "name": "stdout",
     "output_type": "stream",
     "text": [
      "path_container_input:  /opt/ml/processing/input\n",
      "path_container_output:  /opt/ml/processing/output\n",
      "path_container_utils:  /opt/ml/processing/input/utils\n"
     ]
    }
   ],
   "source": [
    "path_container_input = '/opt/ml/processing/input'\n",
    "path_container_utils= path_container_input + '/utils'\n",
    "path_container_output = path_container_input.replace('input', 'output')\n",
    "\n",
    "print('path_container_input: ', path_container_input)\n",
    "print('path_container_output: ', path_container_output)\n",
    "print('path_container_utils: ', path_container_utils)"
   ]
  },
  {
   "cell_type": "code",
   "execution_count": null,
   "id": "7350dd96",
   "metadata": {},
   "outputs": [],
   "source": []
  },
  {
   "cell_type": "markdown",
   "id": "faf8f553",
   "metadata": {},
   "source": [
    "### Desacoplado"
   ]
  },
  {
   "cell_type": "code",
   "execution_count": 12,
   "id": "9f87e57f",
   "metadata": {},
   "outputs": [
    {
     "name": "stdout",
     "output_type": "stream",
     "text": [
      "Same images used for training and inference. Defaulting to image scope: inference.\n",
      "Defaulting to only available Python version: py3\n"
     ]
    }
   ],
   "source": [
    "processing_tags = [{'Key': 'cost-center', 'Value': 'TF2WorkflowProcessing'}]\n",
    "\n",
    "sklearn_processor_a = SKLearnProcessor(\n",
    "    framework_version='0.23-1',\n",
    "    role=get_execution_role(),\n",
    "    instance_type='ml.m5.4xlarge',\n",
    "    instance_count=1,\n",
    "    tags=processing_tags\n",
    ")"
   ]
  },
  {
   "cell_type": "code",
   "execution_count": 13,
   "id": "e55da2b7",
   "metadata": {},
   "outputs": [
    {
     "name": "stdout",
     "output_type": "stream",
     "text": [
      "\n",
      "Job Name:  propension-workflow-2021-08-02-18-48-58\n",
      "Inputs:  [{'InputName': 'input-1', 'AppManaged': False, 'S3Input': {'S3Uri': 's3://sagemaker-us-east-1-058528764918/vpc/propension/seguimiento', 'LocalPath': '/opt/ml/processing/input', 'S3DataType': 'S3Prefix', 'S3InputMode': 'File', 'S3DataDistributionType': 'ShardedByS3Key', 'S3CompressionType': 'None'}}, {'InputName': 'input-2', 'AppManaged': False, 'S3Input': {'S3Uri': 's3://sagemaker-us-east-1-058528764918/vpc/propension/code', 'LocalPath': '/opt/ml/processing/input/utils', 'S3DataType': 'S3Prefix', 'S3InputMode': 'File', 'S3DataDistributionType': 'ShardedByS3Key', 'S3CompressionType': 'None'}}, {'InputName': 'code', 'AppManaged': False, 'S3Input': {'S3Uri': 's3://sagemaker-us-east-1-058528764918/propension-workflow-2021-08-02-18-48-58/input/code/preparate_seguimiento.py', 'LocalPath': '/opt/ml/processing/input/code', 'S3DataType': 'S3Prefix', 'S3InputMode': 'File', 'S3DataDistributionType': 'FullyReplicated', 'S3CompressionType': 'None'}}]\n",
      "Outputs:  [{'OutputName': 'result', 'AppManaged': False, 'S3Output': {'S3Uri': 's3://sagemaker-us-east-1-058528764918/vpc/propension/seguimiento', 'LocalPath': '/opt/ml/processing/output', 'S3UploadMode': 'EndOfJob'}}]\n",
      "Creating processing-job with name propension-workflow-2021-08-02-18-48-58\n",
      "..............................\u001b[34mWARNING: pip is being invoked by an old script wrapper. This will fail in a future version of pip.\u001b[0m\n",
      "\u001b[34mPlease see https://github.com/pypa/pip/issues/5599 for advice on fixing the underlying issue.\u001b[0m\n",
      "\u001b[34mTo avoid this problem you can invoke Python with '-m pip' instead of running pip directly.\u001b[0m\n",
      "\u001b[34mCollecting swifter\n",
      "  Downloading swifter-1.0.9-py3-none-any.whl (14 kB)\u001b[0m\n",
      "\u001b[34mRequirement already satisfied: pandas>=1.0.0 in /miniconda3/lib/python3.7/site-packages (from swifter) (1.1.3)\u001b[0m\n",
      "\u001b[34mCollecting dask[dataframe]>=2.10.0\n",
      "  Downloading dask-2021.7.2-py3-none-any.whl (987 kB)\u001b[0m\n",
      "\u001b[34mRequirement already satisfied: tqdm>=4.33.0 in /miniconda3/lib/python3.7/site-packages (from swifter) (4.59.0)\u001b[0m\n",
      "\u001b[34mCollecting cloudpickle>=0.2.2\n",
      "  Downloading cloudpickle-1.6.0-py3-none-any.whl (23 kB)\u001b[0m\n",
      "\u001b[34mCollecting parso>0.4.0\n",
      "  Downloading parso-0.8.2-py2.py3-none-any.whl (94 kB)\u001b[0m\n",
      "\u001b[34mCollecting bleach>=3.1.1\n",
      "  Downloading bleach-3.3.1-py2.py3-none-any.whl (146 kB)\u001b[0m\n",
      "\u001b[34mCollecting ipywidgets>=7.0.0\n",
      "  Downloading ipywidgets-7.6.3-py2.py3-none-any.whl (121 kB)\u001b[0m\n",
      "\u001b[34mRequirement already satisfied: psutil>=5.6.6 in /miniconda3/lib/python3.7/site-packages (from swifter) (5.7.2)\u001b[0m\n",
      "\u001b[34mCollecting packaging\n",
      "  Downloading packaging-21.0-py3-none-any.whl (40 kB)\u001b[0m\n",
      "\u001b[34mCollecting webencodings\n",
      "  Downloading webencodings-0.5.1-py2.py3-none-any.whl (11 kB)\u001b[0m\n",
      "\u001b[34mRequirement already satisfied: six>=1.9.0 in /miniconda3/lib/python3.7/site-packages (from bleach>=3.1.1->swifter) (1.15.0)\u001b[0m\n",
      "\u001b[34mCollecting pyyaml\n",
      "  Downloading PyYAML-5.4.1-cp37-cp37m-manylinux1_x86_64.whl (636 kB)\u001b[0m\n",
      "\u001b[34mCollecting fsspec>=0.6.0\n",
      "  Downloading fsspec-2021.7.0-py3-none-any.whl (118 kB)\u001b[0m\n",
      "\u001b[34mCollecting toolz>=0.8.2\n",
      "  Downloading toolz-0.11.1-py3-none-any.whl (55 kB)\u001b[0m\n",
      "\u001b[34mCollecting partd>=0.3.10\n",
      "  Downloading partd-1.2.0-py3-none-any.whl (19 kB)\u001b[0m\n",
      "\u001b[34mRequirement already satisfied: numpy>=1.16 in /miniconda3/lib/python3.7/site-packages (from dask[dataframe]>=2.10.0->swifter) (1.19.2)\u001b[0m\n",
      "\u001b[34mCollecting ipython>=4.0.0\n",
      "  Downloading ipython-7.26.0-py3-none-any.whl (786 kB)\u001b[0m\n",
      "\u001b[34mCollecting ipykernel>=4.5.1\n",
      "  Downloading ipykernel-6.0.3-py3-none-any.whl (122 kB)\u001b[0m\n",
      "\u001b[34mCollecting widgetsnbextension~=3.5.0\n",
      "  Downloading widgetsnbextension-3.5.1-py2.py3-none-any.whl (2.2 MB)\u001b[0m\n",
      "\u001b[34mCollecting nbformat>=4.2.0\n",
      "  Downloading nbformat-5.1.3-py3-none-any.whl (178 kB)\u001b[0m\n",
      "\u001b[34mCollecting jupyterlab-widgets>=1.0.0\n",
      "  Downloading jupyterlab_widgets-1.0.0-py3-none-any.whl (243 kB)\u001b[0m\n",
      "\u001b[34mCollecting traitlets>=4.3.1\n",
      "  Downloading traitlets-5.0.5-py3-none-any.whl (100 kB)\u001b[0m\n",
      "\u001b[34mCollecting importlib-metadata<4\n",
      "  Downloading importlib_metadata-3.10.1-py3-none-any.whl (14 kB)\u001b[0m\n",
      "\u001b[34mCollecting tornado<7.0,>=4.2\n",
      "  Downloading tornado-6.1-cp37-cp37m-manylinux2010_x86_64.whl (428 kB)\u001b[0m\n",
      "\u001b[34mCollecting debugpy<2.0,>=1.0.0\n",
      "  Downloading debugpy-1.4.1-cp37-cp37m-manylinux2014_x86_64.whl (4.6 MB)\u001b[0m\n",
      "\u001b[34mCollecting jupyter-client<7.0\n",
      "  Downloading jupyter_client-6.1.12-py3-none-any.whl (112 kB)\u001b[0m\n",
      "\u001b[34mCollecting matplotlib-inline<0.2.0,>=0.1.0\n",
      "  Downloading matplotlib_inline-0.1.2-py3-none-any.whl (8.2 kB)\u001b[0m\n",
      "\u001b[34mCollecting zipp>=0.5\n",
      "  Downloading zipp-3.5.0-py3-none-any.whl (5.7 kB)\u001b[0m\n",
      "\u001b[34mCollecting typing-extensions>=3.6.4\n",
      "  Downloading typing_extensions-3.10.0.0-py3-none-any.whl (26 kB)\u001b[0m\n",
      "\u001b[34mCollecting backcall\u001b[0m\n",
      "\u001b[34m  Downloading backcall-0.2.0-py2.py3-none-any.whl (11 kB)\u001b[0m\n",
      "\u001b[34mCollecting decorator\n",
      "  Downloading decorator-5.0.9-py3-none-any.whl (8.9 kB)\u001b[0m\n",
      "\u001b[34mCollecting jedi>=0.16\n",
      "  Downloading jedi-0.18.0-py2.py3-none-any.whl (1.4 MB)\u001b[0m\n",
      "\u001b[34mCollecting pexpect>4.3\n",
      "  Downloading pexpect-4.8.0-py2.py3-none-any.whl (59 kB)\u001b[0m\n",
      "\u001b[34mCollecting prompt-toolkit!=3.0.0,!=3.0.1,<3.1.0,>=2.0.0\n",
      "  Downloading prompt_toolkit-3.0.19-py3-none-any.whl (368 kB)\u001b[0m\n",
      "\u001b[34mCollecting pickleshare\n",
      "  Downloading pickleshare-0.7.5-py2.py3-none-any.whl (6.9 kB)\u001b[0m\n",
      "\u001b[34mRequirement already satisfied: setuptools>=18.5 in /miniconda3/lib/python3.7/site-packages (from ipython>=4.0.0->ipywidgets>=7.0.0->swifter) (52.0.0.post20210125)\u001b[0m\n",
      "\u001b[34mCollecting pygments\n",
      "  Downloading Pygments-2.9.0-py3-none-any.whl (1.0 MB)\u001b[0m\n",
      "\u001b[34mRequirement already satisfied: python-dateutil>=2.1 in /miniconda3/lib/python3.7/site-packages (from jupyter-client<7.0->ipykernel>=4.5.1->ipywidgets>=7.0.0->swifter) (2.8.1)\u001b[0m\n",
      "\u001b[34mCollecting jupyter-core>=4.6.0\n",
      "  Downloading jupyter_core-4.7.1-py3-none-any.whl (82 kB)\u001b[0m\n",
      "\u001b[34mCollecting pyzmq>=13\n",
      "  Downloading pyzmq-22.1.0-cp37-cp37m-manylinux1_x86_64.whl (1.1 MB)\u001b[0m\n",
      "\u001b[34mCollecting ipython-genutils\n",
      "  Downloading ipython_genutils-0.2.0-py2.py3-none-any.whl (26 kB)\u001b[0m\n",
      "\u001b[34mCollecting jsonschema!=2.5.0,>=2.4\n",
      "  Downloading jsonschema-3.2.0-py2.py3-none-any.whl (56 kB)\u001b[0m\n",
      "\u001b[34mCollecting pyrsistent>=0.14.0\n",
      "  Downloading pyrsistent-0.18.0-cp37-cp37m-manylinux1_x86_64.whl (119 kB)\u001b[0m\n",
      "\u001b[34mCollecting attrs>=17.4.0\n",
      "  Downloading attrs-21.2.0-py2.py3-none-any.whl (53 kB)\u001b[0m\n",
      "\u001b[34mCollecting pyparsing>=2.0.2\n",
      "  Downloading pyparsing-2.4.7-py2.py3-none-any.whl (67 kB)\u001b[0m\n",
      "\u001b[34mRequirement already satisfied: pytz>=2017.2 in /miniconda3/lib/python3.7/site-packages (from pandas>=1.0.0->swifter) (2021.1)\u001b[0m\n",
      "\u001b[34mCollecting locket\n",
      "  Downloading locket-0.2.1-py2.py3-none-any.whl (4.1 kB)\u001b[0m\n",
      "\u001b[34mCollecting ptyprocess>=0.5\n",
      "  Downloading ptyprocess-0.7.0-py2.py3-none-any.whl (13 kB)\u001b[0m\n",
      "\u001b[34mCollecting wcwidth\n",
      "  Downloading wcwidth-0.2.5-py2.py3-none-any.whl (30 kB)\u001b[0m\n",
      "\u001b[34mCollecting notebook>=4.4.1\n",
      "  Downloading notebook-6.4.0-py3-none-any.whl (9.5 MB)\u001b[0m\n",
      "\u001b[34mCollecting nbconvert\n",
      "  Downloading nbconvert-6.1.0-py3-none-any.whl (551 kB)\u001b[0m\n",
      "\u001b[34mCollecting terminado>=0.8.3\n",
      "  Downloading terminado-0.10.1-py3-none-any.whl (14 kB)\u001b[0m\n",
      "\u001b[34mCollecting prometheus-client\n",
      "  Downloading prometheus_client-0.11.0-py2.py3-none-any.whl (56 kB)\u001b[0m\n",
      "\u001b[34mCollecting argon2-cffi\n",
      "  Downloading argon2_cffi-20.1.0-cp35-abi3-manylinux1_x86_64.whl (97 kB)\u001b[0m\n",
      "\u001b[34mRequirement already satisfied: jinja2 in /miniconda3/lib/python3.7/site-packages (from notebook>=4.4.1->widgetsnbextension~=3.5.0->ipywidgets>=7.0.0->swifter) (2.11.3)\u001b[0m\n",
      "\u001b[34mCollecting Send2Trash>=1.5.0\n",
      "  Downloading Send2Trash-1.7.1-py3-none-any.whl (17 kB)\u001b[0m\n",
      "\u001b[34mRequirement already satisfied: cffi>=1.0.0 in /miniconda3/lib/python3.7/site-packages (from argon2-cffi->notebook>=4.4.1->widgetsnbextension~=3.5.0->ipywidgets>=7.0.0->swifter) (1.14.5)\u001b[0m\n",
      "\u001b[34mRequirement already satisfied: pycparser in /miniconda3/lib/python3.7/site-packages (from cffi>=1.0.0->argon2-cffi->notebook>=4.4.1->widgetsnbextension~=3.5.0->ipywidgets>=7.0.0->swifter) (2.20)\u001b[0m\n",
      "\u001b[34mRequirement already satisfied: MarkupSafe>=0.23 in /miniconda3/lib/python3.7/site-packages (from jinja2->notebook>=4.4.1->widgetsnbextension~=3.5.0->ipywidgets>=7.0.0->swifter) (1.1.1)\u001b[0m\n",
      "\u001b[34mCollecting entrypoints>=0.2.2\n",
      "  Downloading entrypoints-0.3-py2.py3-none-any.whl (11 kB)\u001b[0m\n",
      "\u001b[34mCollecting mistune<2,>=0.8.1\n",
      "  Downloading mistune-0.8.4-py2.py3-none-any.whl (16 kB)\u001b[0m\n",
      "\u001b[34mCollecting nbclient<0.6.0,>=0.5.0\n",
      "  Downloading nbclient-0.5.3-py3-none-any.whl (82 kB)\u001b[0m\n",
      "\u001b[34mCollecting defusedxml\n",
      "  Downloading defusedxml-0.7.1-py2.py3-none-any.whl (25 kB)\u001b[0m\n",
      "\u001b[34mCollecting testpath\n",
      "  Downloading testpath-0.5.0-py3-none-any.whl (84 kB)\u001b[0m\n",
      "\u001b[34mCollecting jupyterlab-pygments\n",
      "  Downloading jupyterlab_pygments-0.1.2-py2.py3-none-any.whl (4.6 kB)\u001b[0m\n",
      "\u001b[34mCollecting pandocfilters>=1.4.1\n",
      "  Downloading pandocfilters-1.4.3.tar.gz (16 kB)\u001b[0m\n",
      "\u001b[34mCollecting async-generator\n",
      "  Downloading async_generator-1.10-py3-none-any.whl (18 kB)\u001b[0m\n",
      "\u001b[34mCollecting nest-asyncio\n",
      "  Downloading nest_asyncio-1.5.1-py3-none-any.whl (5.0 kB)\u001b[0m\n",
      "\u001b[34mBuilding wheels for collected packages: pandocfilters\n",
      "  Building wheel for pandocfilters (setup.py): started\n",
      "  Building wheel for pandocfilters (setup.py): finished with status 'done'\n",
      "  Created wheel for pandocfilters: filename=pandocfilters-1.4.3-py3-none-any.whl size=7992 sha256=93f14c6d263c17f141f7381abe50fd65d8d0ee21b819af8b42008740c3b460ea\n",
      "  Stored in directory: /root/.cache/pip/wheels/42/81/34/545dc2fbf0e9137811e901108d37fc04650e81d48f97078000\u001b[0m\n",
      "\u001b[34mSuccessfully built pandocfilters\u001b[0m\n",
      "\u001b[34mInstalling collected packages: zipp, typing-extensions, ipython-genutils, traitlets, pyrsistent, importlib-metadata, attrs, wcwidth, tornado, pyzmq, pyparsing, ptyprocess, parso, jupyter-core, jsonschema, webencodings, pygments, prompt-toolkit, pickleshare, pexpect, packaging, nest-asyncio, nbformat, matplotlib-inline, jupyter-client, jedi, decorator, backcall, async-generator, testpath, pandocfilters, nbclient, mistune, jupyterlab-pygments, ipython, entrypoints, defusedxml, debugpy, bleach, toolz, terminado, Send2Trash, prometheus-client, nbconvert, locket, ipykernel, argon2-cffi, pyyaml, partd, notebook, fsspec, cloudpickle, widgetsnbextension, jupyterlab-widgets, dask, ipywidgets, swifter\u001b[0m\n",
      "\u001b[34mSuccessfully installed Send2Trash-1.7.1 argon2-cffi-20.1.0 async-generator-1.10 attrs-21.2.0 backcall-0.2.0 bleach-3.3.1 cloudpickle-1.6.0 dask-2021.7.2 debugpy-1.4.1 decorator-5.0.9 defusedxml-0.7.1 entrypoints-0.3 fsspec-2021.7.0 importlib-metadata-3.10.1 ipykernel-6.0.3 ipython-7.26.0 ipython-genutils-0.2.0 ipywidgets-7.6.3 jedi-0.18.0 jsonschema-3.2.0 jupyter-client-6.1.12 jupyter-core-4.7.1 jupyterlab-pygments-0.1.2 jupyterlab-widgets-1.0.0 locket-0.2.1 matplotlib-inline-0.1.2 mistune-0.8.4 nbclient-0.5.3 nbconvert-6.1.0 nbformat-5.1.3 nest-asyncio-1.5.1 notebook-6.4.0 packaging-21.0 pandocfilters-1.4.3 parso-0.8.2 partd-1.2.0 pexpect-4.8.0 pickleshare-0.7.5 prometheus-client-0.11.0 prompt-toolkit-3.0.19 ptyprocess-0.7.0 pygments-2.9.0 pyparsing-2.4.7 pyrsistent-0.18.0 pyyaml-5.4.1 pyzmq-22.1.0 swifter-1.0.9 terminado-0.10.1 testpath-0.5.0 toolz-0.11.1 tornado-6.1 traitlets-5.0.5 typing-extensions-3.10.0.0 wcwidth-0.2.5 webencodings-0.5.1 widgetsnbextension-3.5.1 zipp-3.5.0\u001b[0m\n",
      "\u001b[34mload swifter satisfactoriamente\u001b[0m\n",
      "\u001b[34m/opt/ml/processing/input/\u001b[0m\n",
      "\u001b[34mLO AGREGO\u001b[0m\n",
      "\u001b[34m['/opt/ml/processing/input/code', '/miniconda3/lib/python37.zip', '/miniconda3/lib/python3.7', '/miniconda3/lib/python3.7/lib-dynload', '/miniconda3/lib/python3.7/site-packages', '/opt/ml/processing/input/']\u001b[0m\n",
      "\u001b[34m////////////////////////////////////////////////// \n",
      "\u001b[0m\n",
      "\u001b[34mpath_container_input:  /opt/ml/processing/input\u001b[0m\n",
      "\u001b[34mpath_container_output:  /opt/ml/processing/output\u001b[0m\n",
      "\u001b[34mpath_container_utils:  /opt/ml/processing/input/utils\u001b[0m\n",
      "\u001b[34mpath_container_universo:  /opt/ml/processing/input/HM_UNIVERSO_PROPENSION_DESEMBOLSO_BPE\u001b[0m\n",
      "\u001b[34mdicc_seleccionadas:  dict_keys(['target_desembolso_f2m_f3m_mayor_10_menor_180_clasif_normal', 'target_desembolso_f2m_f3m_mayor_10_menor_180_clasif_all', 'target_desembolso_f2m_f3m_mayor_30_menor_180_clasif_normal', 'target_desembolso_f2m_f3m_mayor_30_menor_180_clasif_all', 'target_desembolso_f2m_mayor_10_menor_180_clasif_normal', 'target_desembolso_f2m_mayor_10_menor_180_clasif_all', 'target_desembolso_f2m_mayor_30_menor_180_clasif_normal', 'target_desembolso_f2m_mayor_30_menor_180_clasif_all'])\u001b[0m\n",
      "\u001b[34m['target_desembolso_f2m_f3m_mayor_10_menor_180', 'target_desembolso_f2m_f3m_mayor_30_menor_180', 'target_desembolso_f2m_mayor_10_menor_180', 'target_desembolso_f2m_mayor_30_menor_180', 'departamento_fin_val_encoder_target_desembolso_f2m_f3m_mayor_10_menor_180', 'departamento_fin_val_encoder_target_desembolso_f2m_f3m_mayor_30_menor_180', 'departamento_fin_val_encoder_target_desembolso_f2m_mayor_10_menor_180', 'departamento_fin_val_encoder_target_desembolso_f2m_mayor_30_menor_180', 'segmento_fin_val_encoder_target_desembolso_f2m_f3m_mayor_10_menor_180', 'segmento_fin_val_encoder_target_desembolso_f2m_f3m_mayor_30_menor_180', 'segmento_fin_val_encoder_target_desembolso_f2m_mayor_10_menor_180', 'segmento_fin_val_encoder_target_desembolso_f2m_mayor_30_menor_180']\u001b[0m\n",
      "\u001b[34m12\u001b[0m\n",
      "\u001b[34m['cod_sbs_val', 'periodo', 'target_desembolso_f2m_f3m_mayor_10_menor_180', 'target_desembolso_f2m_f3m_mayor_30_menor_180', 'target_desembolso_f2m_mayor_10_menor_180', 'target_desembolso_f2m_mayor_30_menor_180', 'departamento_fin_val_encoder_target_desembolso_f2m_f3m_mayor_10_menor_180', 'departamento_fin_val_encoder_target_desembolso_f2m_f3m_mayor_30_menor_180', 'departamento_fin_val_encoder_target_desembolso_f2m_mayor_10_menor_180', 'departamento_fin_val_encoder_target_desembolso_f2m_mayor_30_menor_180', 'segmento_fin_val_encoder_target_desembolso_f2m_f3m_mayor_10_menor_180', 'segmento_fin_val_encoder_target_desembolso_f2m_f3m_mayor_30_menor_180', 'segmento_fin_val_encoder_target_desembolso_f2m_mayor_10_menor_180', 'segmento_fin_val_encoder_target_desembolso_f2m_mayor_30_menor_180']\u001b[0m\n",
      "\u001b[34m14\u001b[0m\n",
      "\u001b[34m0\u001b[0m\n",
      "\u001b[34ma  202103\u001b[0m\n",
      "\u001b[34mb  202104\u001b[0m\n",
      "\u001b[34mc  202105\u001b[0m\n",
      "\u001b[34ma  (722801, 200)\u001b[0m\n",
      "\u001b[34mb  (739926, 200)\u001b[0m\n",
      "\u001b[34mc  (753078, 200)\u001b[0m\n",
      "\u001b[34md  202106\u001b[0m\n",
      "\u001b[34ma  (722801, 200)\u001b[0m\n",
      "\u001b[34mb  (739926, 200)\u001b[0m\n",
      "\u001b[34mc  (753078, 200)\u001b[0m\n",
      "\u001b[34md  (747768, 200)\u001b[0m\n",
      "\u001b[34m========================= target_desembolso_f2m_f3m_mayor_10_menor_180_clasif_normal\u001b[0m\n",
      "\u001b[34mtarget_desembolso_f2m_f3m_mayor_10_menor_180\u001b[0m\n",
      "\u001b[34m['cod_sbs_val', 'target_desembolso_f2m_f3m_mayor_10_menor_180', 'monto_pagado_u6m', 'nro_entidades_ya_no_tiene_saldo_ajustado_u3m', 'ultima_variacion_saldo_ajustado', 'monto_pagado_ult_rcc', 'variacion_neta_saldo_ajustado_u3m', 'monto_adquirido_u6m', 'variacion_neta_saldo_ajustado_u6m', 'entidad_cnt_prom_u9m', 'nro_entidades_termino_prestamo_u9m', 'sum_saldo_ajustado_promedio_u9m', 'tendencia_monto_deuda_agr_ult_mes', 'monto_adquirido_u3m', 'saldo_col_direct_vig_banco_no_ibk', 'saldo_col_direct_vig_competencia', 'nro_bancos_reprogramados_no_ibk', 'cobertura_gar_auto_hipo_pref_over_col_direct_vig']\u001b[0m\n",
      "\u001b[34m========================= target_desembolso_f2m_f3m_mayor_10_menor_180_clasif_all\u001b[0m\n",
      "\u001b[34mtarget_desembolso_f2m_f3m_mayor_10_menor_180\u001b[0m\n",
      "\u001b[34m['cod_sbs_val', 'target_desembolso_f2m_f3m_mayor_10_menor_180', 'monto_pagado_u6m', 'nro_entidades_ya_no_tiene_saldo_ajustado_u3m', 'nro_entidades_ya_no_tiene_saldo_ajustado_u9m', 'ultima_variacion_saldo_ajustado', 'monto_pagado_ult_rcc', 'saldo_col_vig', 'monto_adquirido_u6m', 'variacion_neta_saldo_ajustado_u3m', 'entidad_cnt', 'variacion_neta_saldo_ajustado_u6m', 'tendencia_monto_deuda_agr_ult_mes', 'flg_solo_normal', 'sum_saldo_ajustado_promedio_u9m', 'saldo_col_direct_vig_banco_no_ibk', 'monto_adquirido_u3m', 'nro_entidades_termino_prestamo_u9m', 'saldo_col_direct_vig_competencia', 'flg_tiene_clasif_perdida', 'cobertura_gar_pref_over_col_direct_vig']\u001b[0m\n",
      "\u001b[34m========================= target_desembolso_f2m_f3m_mayor_30_menor_180_clasif_normal\u001b[0m\n",
      "\u001b[34mtarget_desembolso_f2m_f3m_mayor_30_menor_180\u001b[0m\n",
      "\u001b[34m['cod_sbs_val', 'target_desembolso_f2m_f3m_mayor_30_menor_180', 'monto_pagado_u6m', 'nro_entidades_ya_no_tiene_saldo_ajustado_u9m', 'ultima_variacion_saldo_ajustado', 'variacion_neta_saldo_ajustado_u6m', 'variacion_neta_saldo_ajustado_u3m', 'sum_saldo_ajustado_promedio_u9m', 'monto_pagado_ult_rcc', 'saldo_col_direct_vig_competencia', 'monto_adquirido_u6m', 'saldo_col_direct_vig_banco_no_ibk', 'tendencia_monto_deuda_agr_ult_mes', 'nro_entidades_termino_prestamo_u9m', 'nro_bancos_reprogramados_no_ibk', 'entidad_cnt', 'tendencia_monto_deuda_agr_utl_trim', 'monto_adquirido_u3m', 'saldo_col_direct_vig_ibk']\u001b[0m\n",
      "\u001b[34m========================= target_desembolso_f2m_f3m_mayor_30_menor_180_clasif_all\u001b[0m\n",
      "\u001b[34mtarget_desembolso_f2m_f3m_mayor_30_menor_180\u001b[0m\n",
      "\u001b[34m['cod_sbs_val', 'target_desembolso_f2m_f3m_mayor_30_menor_180', 'monto_pagado_u6m', 'nro_entidades_ya_no_tiene_saldo_ajustado_u3m', 'nro_entidades_ya_no_tiene_saldo_ajustado_u9m', 'ultima_variacion_saldo_ajustado', 'monto_pagado_ult_rcc', 'saldo_col_vig', 'monto_adquirido_u6m', 'variacion_neta_saldo_ajustado_u3m', 'entidad_cnt', 'variacion_neta_saldo_ajustado_u6m', 'tendencia_monto_deuda_agr_ult_mes', 'flg_solo_normal', 'sum_saldo_ajustado_promedio_u9m', 'saldo_col_direct_vig_banco_no_ibk', 'monto_adquirido_u3m', 'nro_entidades_termino_prestamo_u9m', 'saldo_col_direct_vig_competencia', 'flg_tiene_clasif_perdida', 'cobertura_gar_pref_over_col_direct_vig']\u001b[0m\n",
      "\u001b[34m========================= target_desembolso_f2m_mayor_10_menor_180_clasif_normal\u001b[0m\n",
      "\u001b[34mtarget_desembolso_f2m_mayor_10_menor_180\u001b[0m\n",
      "\u001b[34m['cod_sbs_val', 'target_desembolso_f2m_mayor_10_menor_180', 'monto_pagado_u6m', 'nro_entidades_ya_no_tiene_saldo_ajustado_u3m', 'monto_pagado_u3m', 'entidad_cnt_prom_u9m', 'nro_entidades_termino_prestamo_u6m', 'nro_entidades_1_meses_o_mas_con_saldo_ajustado', 'monto_adquirido_u6m', 'nro_entidades_termino_prestamo_u9m', 'sum_saldo_ajustado_promedio_u9m', 'monto_adquirido_u3m', 'saldo_col_direct_vig_banco_no_ibk', 'saldo_col_direct_vig_competencia', 'monto_deuda_sf_prom_u9m', 'nro_bancos_reprogramados_no_ibk', 'saldo_col_direct_vig_ibk']\u001b[0m\n",
      "\u001b[34m========================= target_desembolso_f2m_mayor_10_menor_180_clasif_all\u001b[0m\n",
      "\u001b[34mtarget_desembolso_f2m_mayor_10_menor_180\u001b[0m\n",
      "\u001b[34m['cod_sbs_val', 'target_desembolso_f2m_mayor_10_menor_180', 'monto_pagado_u6m', 'nro_entidades_ya_no_tiene_saldo_ajustado_u3m', 'nro_entidades_ya_no_tiene_saldo_ajustado_u9m', 'ultima_variacion_saldo_ajustado', 'monto_pagado_ult_rcc', 'variacion_neta_saldo_ajustado_u3m', 'variacion_neta_saldo_ajustado_u6m', 'saldo_col_vig', 'monto_adquirido_u6m', 'entidad_cnt', 'nro_entidades_termino_prestamo_u9m', 'tendencia_monto_deuda_agr_ult_mes', 'sum_saldo_ajustado_promedio_u9m', 'flg_solo_normal', 'saldo_col_direct_vig_banco_no_ibk', 'monto_adquirido_u3m', 'cobertura_gar_auto_hipo_pref_over_col_direct_vig', 'saldo_col_direct_vig_competencia', 'nro_bancos_reprogramados_no_ibk', 'flg_tiene_clasif_perdida']\u001b[0m\n",
      "\u001b[34m========================= target_desembolso_f2m_mayor_30_menor_180_clasif_normal\u001b[0m\n",
      "\u001b[34mtarget_desembolso_f2m_mayor_30_menor_180\u001b[0m\n",
      "\u001b[34m['cod_sbs_val', 'target_desembolso_f2m_mayor_30_menor_180', 'sum_saldo_ajustado_promedio_u9m', 'saldo_col_direct_vig_banco_no_ibk', 'monto_pagado_u6m', 'monto_deuda_sf_prom_u9m', 'percent_promedio_col_direct_ibk_u3m', 'tendencia_saldo_col_direct_vencido', 'saldo_reactiva', 'entidad_cnt_prom_u9m', 'tendencia_max_dias_atraso_coloc_directas', 'monto_adquirido_u6m', 'saldo_col_direct_vig_competencia', 'nro_entidades_ya_no_tiene_saldo_ajustado_u9m', 'nro_entidades_termino_prestamo_u9m', 'nro_entidades_ya_no_tiene_saldo_ajustado_u3m', 'ultima_variacion_saldo_ajustado']\u001b[0m\n",
      "\u001b[34m========================= target_desembolso_f2m_mayor_30_menor_180_clasif_all\u001b[0m\n",
      "\u001b[34mtarget_desembolso_f2m_mayor_30_menor_180\u001b[0m\n",
      "\u001b[34m['cod_sbs_val', 'target_desembolso_f2m_mayor_30_menor_180', 'monto_pagado_u6m', 'nro_entidades_ya_no_tiene_saldo_ajustado_u9m', 'nro_entidades_ya_no_tiene_saldo_ajustado_u3m', 'ultima_variacion_saldo_ajustado', 'variacion_neta_saldo_ajustado_u3m', 'variacion_neta_saldo_ajustado_u6m', 'monto_pagado_ult_rcc', 'saldo_col_vig', 'monto_deuda_sf_prom_u9m', 'saldo_col_direct_vig_banco_no_ibk', 'saldo_col_direct_vig_competencia', 'monto_adquirido_u6m', 'tendencia_monto_deuda_agr_ult_mes', 'nro_entidades_termino_prestamo_u9m', 'flg_solo_normal', 'nro_bancos_reprogramados_no_ibk', 'tendencia_monto_deuda_agr_utl_trim', 'entidad_cnt', 'monto_adquirido_u3m', 'flg_tiene_clasif_perdida', 'cobertura_gar_pref_over_col_direct_vig']\u001b[0m\n",
      "\n",
      "CPU times: user 1.18 s, sys: 63.4 ms, total: 1.25 s\n",
      "Wall time: 10min 49s\n"
     ]
    }
   ],
   "source": [
    "%%time\n",
    "processing_job_name = \"propension-workflow-{}\".format(strftime(\"%Y-%m-%d-%H-%M-%S\", gmtime()))\n",
    "\n",
    "sklearn_processor_a.run(\n",
    "    code='preparate_seguimiento.py',  #'/opt/ml/processing/codigo_proceso/' , '/opt/ml/processing/input/code'\n",
    "    job_name=processing_job_name,\n",
    "    inputs=[\n",
    "        ProcessingInput(\n",
    "            source=uri_output.replace('output', 'seguimiento'),\n",
    "            destination=path_container_input,\n",
    "            s3_data_distribution_type='ShardedByS3Key'\n",
    "        ),\n",
    "        ProcessingInput(\n",
    "            source=uri_code,\n",
    "            destination=path_container_utils,\n",
    "            s3_data_distribution_type='ShardedByS3Key'\n",
    "        ),\n",
    "    ],\n",
    "    outputs=[\n",
    "        ProcessingOutput(\n",
    "            output_name='result',\n",
    "            destination=uri_output.replace('output', 'seguimiento'),\n",
    "            source=path_container_output\n",
    "        )\n",
    "    ]\n",
    ")\n",
    "\n",
    "preprocessing_job_description = sklearn_processor_a.jobs[-1].describe()"
   ]
  },
  {
   "cell_type": "code",
   "execution_count": 14,
   "id": "5c8458eb",
   "metadata": {},
   "outputs": [],
   "source": [
    "a = None"
   ]
  },
  {
   "cell_type": "code",
   "execution_count": 15,
   "id": "5a77509d",
   "metadata": {},
   "outputs": [
    {
     "data": {
      "text/plain": [
       "False"
      ]
     },
     "execution_count": 15,
     "metadata": {},
     "output_type": "execute_result"
    }
   ],
   "source": [
    "a is not None"
   ]
  },
  {
   "cell_type": "code",
   "execution_count": null,
   "id": "c240f37d",
   "metadata": {},
   "outputs": [],
   "source": []
  },
  {
   "cell_type": "code",
   "execution_count": null,
   "id": "7f9d2f97",
   "metadata": {},
   "outputs": [],
   "source": []
  },
  {
   "cell_type": "code",
   "execution_count": null,
   "id": "87770c88",
   "metadata": {},
   "outputs": [],
   "source": []
  },
  {
   "cell_type": "code",
   "execution_count": null,
   "id": "146e9eed",
   "metadata": {},
   "outputs": [],
   "source": []
  },
  {
   "cell_type": "code",
   "execution_count": null,
   "id": "3fe0b4ff",
   "metadata": {},
   "outputs": [],
   "source": []
  },
  {
   "cell_type": "code",
   "execution_count": null,
   "id": "1731b78d",
   "metadata": {},
   "outputs": [],
   "source": []
  },
  {
   "cell_type": "code",
   "execution_count": null,
   "id": "3557d9e0",
   "metadata": {},
   "outputs": [],
   "source": []
  },
  {
   "cell_type": "code",
   "execution_count": null,
   "id": "029da9e3",
   "metadata": {},
   "outputs": [],
   "source": []
  },
  {
   "cell_type": "code",
   "execution_count": null,
   "id": "74921160",
   "metadata": {},
   "outputs": [],
   "source": []
  },
  {
   "cell_type": "code",
   "execution_count": null,
   "id": "78c55253",
   "metadata": {},
   "outputs": [],
   "source": []
  }
 ],
 "metadata": {
  "kernelspec": {
   "display_name": "conda_python3",
   "language": "python",
   "name": "conda_python3"
  },
  "language_info": {
   "codemirror_mode": {
    "name": "ipython",
    "version": 3
   },
   "file_extension": ".py",
   "mimetype": "text/x-python",
   "name": "python",
   "nbconvert_exporter": "python",
   "pygments_lexer": "ipython3",
   "version": "3.6.13"
  }
 },
 "nbformat": 4,
 "nbformat_minor": 5
}
