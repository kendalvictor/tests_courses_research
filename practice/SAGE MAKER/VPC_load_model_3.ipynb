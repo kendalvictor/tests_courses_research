{
 "cells": [
  {
   "cell_type": "code",
   "execution_count": 1,
   "id": "ef229a7d",
   "metadata": {},
   "outputs": [],
   "source": [
    "from sagemaker.estimator import Estimator, Transformer"
   ]
  },
  {
   "cell_type": "code",
   "execution_count": null,
   "id": "0a136782",
   "metadata": {},
   "outputs": [],
   "source": []
  },
  {
   "cell_type": "code",
   "execution_count": 2,
   "id": "03c5f789",
   "metadata": {},
   "outputs": [],
   "source": [
    "bucket = 'sagemaker-us-east-1-058528764918'"
   ]
  },
  {
   "cell_type": "code",
   "execution_count": 3,
   "id": "2c96d92f",
   "metadata": {},
   "outputs": [
    {
     "name": "stdout",
     "output_type": "stream",
     "text": [
      "s3://sagemaker-us-east-1-058528764918/vpc/victor\n",
      "s3://sagemaker-us-east-1-058528764918/vpc/victor/model/ouput_2\n"
     ]
    }
   ],
   "source": [
    "prefix = 'vpc'     # subcarpeta de guardado\n",
    "model_prefix = 'model'\n",
    "output_path = 's3://{}/{}/victor'.format(bucket, prefix)\n",
    "print(output_path)\n",
    "\n",
    "model_output = \"{}/{}/ouput_2\".format(output_path, model_prefix)\n",
    "print(model_output)"
   ]
  },
  {
   "cell_type": "code",
   "execution_count": 4,
   "id": "76d4c055",
   "metadata": {},
   "outputs": [
    {
     "name": "stdout",
     "output_type": "stream",
     "text": [
      "\n",
      "2021-06-04 17:18:12 Starting - Preparing the instances for training\n",
      "2021-06-04 17:18:12 Downloading - Downloading input data\n",
      "2021-06-04 17:18:12 Training - Training image download completed. Training in progress.\n",
      "2021-06-04 17:18:12 Uploading - Uploading generated training model\n",
      "2021-06-04 17:18:12 Completed - Training job completed\n"
     ]
    },
    {
     "data": {
      "text/plain": [
       "<sagemaker.estimator.Estimator at 0x7f836c3a35f8>"
      ]
     },
     "execution_count": 4,
     "metadata": {},
     "output_type": "execute_result"
    }
   ],
   "source": [
    "model_code = 'xgboost-vpc-210604-1710-016-8f8a7268'\n",
    "\n",
    "model = Estimator.attach(model_code)\n",
    "model"
   ]
  },
  {
   "cell_type": "code",
   "execution_count": null,
   "id": "07780dc2",
   "metadata": {},
   "outputs": [],
   "source": []
  },
  {
   "cell_type": "code",
   "execution_count": 5,
   "id": "2a9f8d17",
   "metadata": {},
   "outputs": [],
   "source": [
    "inference_model = model.transformer(\n",
    "    instance_count=1, \n",
    "    instance_type='ml.m5.xlarge', \n",
    "    output_path=model_output,\n",
    "    strategy='MultiRecord'\n",
    ")"
   ]
  },
  {
   "cell_type": "code",
   "execution_count": 6,
   "id": "f7c0783c",
   "metadata": {},
   "outputs": [],
   "source": [
    "validation_set = 's3://sagemaker-us-east-1-058528764918/vpc/victor/validation_set_sin_target.csv'"
   ]
  },
  {
   "cell_type": "code",
   "execution_count": 7,
   "id": "f7408380",
   "metadata": {},
   "outputs": [
    {
     "name": "stdout",
     "output_type": "stream",
     "text": [
      "...........................\n",
      "\u001b[34m[2021-06-04 19:55:34 +0000] [14] [INFO] Starting gunicorn 19.10.0\u001b[0m\n",
      "\u001b[34m[2021-06-04 19:55:34 +0000] [14] [INFO] Listening at: unix:/tmp/gunicorn.sock (14)\u001b[0m\n",
      "\u001b[34m[2021-06-04 19:55:34 +0000] [14] [INFO] Using worker: gevent\u001b[0m\n",
      "\u001b[34m[2021-06-04 19:55:34 +0000] [21] [INFO] Booting worker with pid: 21\u001b[0m\n",
      "\u001b[34m[2021-06-04 19:55:34 +0000] [22] [INFO] Booting worker with pid: 22\u001b[0m\n",
      "\u001b[34m[2021-06-04 19:55:34 +0000] [23] [INFO] Booting worker with pid: 23\u001b[0m\n",
      "\u001b[34m[2021-06-04 19:55:34 +0000] [27] [INFO] Booting worker with pid: 27\u001b[0m\n",
      "\u001b[34m[2021-06-04:19:55:39:INFO] No GPUs detected (normal if no gpus installed)\u001b[0m\n",
      "\u001b[34m169.254.255.130 - - [04/Jun/2021:19:55:39 +0000] \"GET /ping HTTP/1.1\" 200 0 \"-\" \"Go-http-client/1.1\"\u001b[0m\n",
      "\u001b[34m[2021-06-04:19:55:39:INFO] No GPUs detected (normal if no gpus installed)\u001b[0m\n",
      "\u001b[34m169.254.255.130 - - [04/Jun/2021:19:55:39 +0000] \"GET /execution-parameters HTTP/1.1\" 200 84 \"-\" \"Go-http-client/1.1\"\u001b[0m\n",
      "\u001b[34m[2021-06-04:19:55:40:INFO] No GPUs detected (normal if no gpus installed)\u001b[0m\n",
      "\u001b[34m[2021-06-04:19:55:40:INFO] Determined delimiter of CSV input is ','\u001b[0m\n",
      "\u001b[34m[2021-06-04:19:55:40:INFO] No GPUs detected (normal if no gpus installed)\u001b[0m\n",
      "\u001b[34m[2021-06-04:19:55:40:INFO] Determined delimiter of CSV input is ','\u001b[0m\n",
      "\u001b[34m169.254.255.130 - - [04/Jun/2021:19:55:41 +0000] \"POST /invocations HTTP/1.1\" 200 409060 \"-\" \"Go-http-client/1.1\"\u001b[0m\n",
      "\u001b[34m169.254.255.130 - - [04/Jun/2021:19:55:41 +0000] \"POST /invocations HTTP/1.1\" 200 515033 \"-\" \"Go-http-client/1.1\"\u001b[0m\n",
      "\u001b[32m2021-06-04T19:55:39.321:[sagemaker logs]: MaxConcurrentTransforms=4, MaxPayloadInMB=6, BatchStrategy=MULTI_RECORD\u001b[0m\n"
     ]
    }
   ],
   "source": [
    "inference_model.transform(\n",
    "    validation_set,\n",
    "    split_type='Line',\n",
    "    content_type='text/csv'\n",
    ")"
   ]
  },
  {
   "cell_type": "code",
   "execution_count": 11,
   "id": "0eff58d7",
   "metadata": {},
   "outputs": [
    {
     "data": {
      "text/html": [
       "<div>\n",
       "<style scoped>\n",
       "    .dataframe tbody tr th:only-of-type {\n",
       "        vertical-align: middle;\n",
       "    }\n",
       "\n",
       "    .dataframe tbody tr th {\n",
       "        vertical-align: top;\n",
       "    }\n",
       "\n",
       "    .dataframe thead th {\n",
       "        text-align: right;\n",
       "    }\n",
       "</style>\n",
       "<table border=\"1\" class=\"dataframe\">\n",
       "  <thead>\n",
       "    <tr style=\"text-align: right;\">\n",
       "      <th></th>\n",
       "      <th>result</th>\n",
       "    </tr>\n",
       "  </thead>\n",
       "  <tbody>\n",
       "    <tr>\n",
       "      <th>0</th>\n",
       "      <td>0.438077</td>\n",
       "    </tr>\n",
       "    <tr>\n",
       "      <th>1</th>\n",
       "      <td>0.438077</td>\n",
       "    </tr>\n",
       "    <tr>\n",
       "      <th>2</th>\n",
       "      <td>0.438077</td>\n",
       "    </tr>\n",
       "    <tr>\n",
       "      <th>3</th>\n",
       "      <td>0.438077</td>\n",
       "    </tr>\n",
       "    <tr>\n",
       "      <th>4</th>\n",
       "      <td>0.438077</td>\n",
       "    </tr>\n",
       "  </tbody>\n",
       "</table>\n",
       "</div>"
      ],
      "text/plain": [
       "     result\n",
       "0  0.438077\n",
       "1  0.438077\n",
       "2  0.438077\n",
       "3  0.438077\n",
       "4  0.438077"
      ]
     },
     "execution_count": 11,
     "metadata": {},
     "output_type": "execute_result"
    }
   ],
   "source": [
    "import pandas as pd\n",
    "data = pd.read_csv('s3://sagemaker-us-east-1-058528764918/vpc/victor/model/ouput_2/validation_set_sin_target.csv.out', header=None)\n",
    "data.columns= ['result']\n",
    "data.head()"
   ]
  },
  {
   "cell_type": "code",
   "execution_count": 12,
   "id": "4a31682c",
   "metadata": {},
   "outputs": [
    {
     "data": {
      "text/plain": [
       "<AxesSubplot:>"
      ]
     },
     "execution_count": 12,
     "metadata": {},
     "output_type": "execute_result"
    },
    {
     "data": {
      "image/png": "[encoded data removed]",
      "text/plain": [
       "<Figure size 432x288 with 1 Axes>"
      ]
     },
     "metadata": {
      "needs_background": "light"
     },
     "output_type": "display_data"
    }
   ],
   "source": [
    "data['result'].hist()"
   ]
  },
  {
   "cell_type": "code",
   "execution_count": 10,
   "id": "26b4d519",
   "metadata": {},
   "outputs": [
    {
     "data": {
      "text/plain": [
       "(49362, 1)"
      ]
     },
     "execution_count": 10,
     "metadata": {},
     "output_type": "execute_result"
    }
   ],
   "source": [
    "data.shape  # 49362"
   ]
  },
  {
   "cell_type": "code",
   "execution_count": null,
   "id": "78f9c801",
   "metadata": {},
   "outputs": [],
   "source": [
    "print(help(inference_model.transform))"
   ]
  },
  {
   "cell_type": "code",
   "execution_count": null,
   "id": "bf6ad7e1",
   "metadata": {},
   "outputs": [],
   "source": [
    "print(dir(inference_model))"
   ]
  },
  {
   "cell_type": "code",
   "execution_count": null,
   "id": "3e27c036",
   "metadata": {},
   "outputs": [],
   "source": [
    "inference_model.model_name"
   ]
  },
  {
   "cell_type": "code",
   "execution_count": null,
   "id": "a87c36e8",
   "metadata": {},
   "outputs": [],
   "source": []
  },
  {
   "cell_type": "code",
   "execution_count": null,
   "id": "68e2fee5",
   "metadata": {},
   "outputs": [],
   "source": []
  },
  {
   "cell_type": "code",
   "execution_count": null,
   "id": "5e87da91",
   "metadata": {},
   "outputs": [],
   "source": []
  },
  {
   "cell_type": "code",
   "execution_count": null,
   "id": "a07046ad",
   "metadata": {},
   "outputs": [],
   "source": [
    "help(model.transformer)"
   ]
  },
  {
   "cell_type": "code",
   "execution_count": null,
   "id": "303aa4ad",
   "metadata": {},
   "outputs": [],
   "source": []
  },
  {
   "cell_type": "code",
   "execution_count": null,
   "id": "bbb08050",
   "metadata": {},
   "outputs": [],
   "source": []
  },
  {
   "cell_type": "code",
   "execution_count": null,
   "id": "e4fe804d",
   "metadata": {},
   "outputs": [],
   "source": []
  },
  {
   "cell_type": "code",
   "execution_count": null,
   "id": "420caacc",
   "metadata": {},
   "outputs": [],
   "source": [
    "#print(dir(model))"
   ]
  },
  {
   "cell_type": "code",
   "execution_count": null,
   "id": "48dbd4d9",
   "metadata": {},
   "outputs": [],
   "source": [
    "#683313688378.dkr.ecr.us-east-1.amazonaws.com/sagemaker-xgboost:0.90-1-cpu-py3"
   ]
  }
 ],
 "metadata": {
  "kernelspec": {
   "display_name": "conda_python3",
   "language": "python",
   "name": "conda_python3"
  },
  "language_info": {
   "codemirror_mode": {
    "name": "ipython",
    "version": 3
   },
   "file_extension": ".py",
   "mimetype": "text/x-python",
   "name": "python",
   "nbconvert_exporter": "python",
   "pygments_lexer": "ipython3",
   "version": "3.6.13"
  }
 },
 "nbformat": 4,
 "nbformat_minor": 5
}
