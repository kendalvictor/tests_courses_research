{
 "cells": [
  {
   "cell_type": "code",
   "execution_count": 1,
   "id": "002628d5",
   "metadata": {},
   "outputs": [
    {
     "name": "stderr",
     "output_type": "stream",
     "text": [
      "WARNING: pip is being invoked by an old script wrapper. This will fail in a future version of pip.\n",
      "Please see https://github.com/pypa/pip/issues/5599 for advice on fixing the underlying issue.\n",
      "To avoid this problem you can invoke Python with '-m pip' instead of running pip directly.\n"
     ]
    },
    {
     "name": "stdout",
     "output_type": "stream",
     "text": [
      "Requirement already satisfied: lightgbm in /home/ec2-user/anaconda3/envs/python3/lib/python3.6/site-packages (3.2.1)\n",
      "Requirement already satisfied: awswrangler in /home/ec2-user/anaconda3/envs/python3/lib/python3.6/site-packages (2.11.0)\n",
      "Requirement already satisfied: sagemaker in /home/ec2-user/anaconda3/envs/python3/lib/python3.6/site-packages (2.59.3.post0)\n",
      "Requirement already satisfied: numpy in /home/ec2-user/anaconda3/envs/python3/lib/python3.6/site-packages (from lightgbm) (1.19.5)\n",
      "Requirement already satisfied: scikit-learn!=0.22.0 in /home/ec2-user/anaconda3/envs/python3/lib/python3.6/site-packages (from lightgbm) (0.24.1)\n",
      "Requirement already satisfied: wheel in /home/ec2-user/anaconda3/envs/python3/lib/python3.6/site-packages (from lightgbm) (0.36.2)\n",
      "Requirement already satisfied: scipy in /home/ec2-user/anaconda3/envs/python3/lib/python3.6/site-packages (from lightgbm) (1.5.3)\n",
      "Requirement already satisfied: openpyxl<3.1.0,>=3.0.0 in /home/ec2-user/anaconda3/envs/python3/lib/python3.6/site-packages (from awswrangler) (3.0.6)\n",
      "Requirement already satisfied: pg8000<1.22.0,>=1.16.0 in /home/ec2-user/anaconda3/envs/python3/lib/python3.6/site-packages (from awswrangler) (1.21.2)\n",
      "Requirement already satisfied: redshift-connector<2.1.0,>=2.0.884 in /home/ec2-user/anaconda3/envs/python3/lib/python3.6/site-packages (from awswrangler) (2.0.887)\n",
      "Requirement already satisfied: xlrd<3.0.0,>=2.0.1 in /home/ec2-user/anaconda3/envs/python3/lib/python3.6/site-packages (from awswrangler) (2.0.1)\n",
      "Requirement already satisfied: pymysql<1.1.0,>=0.9.0 in /home/ec2-user/anaconda3/envs/python3/lib/python3.6/site-packages (from awswrangler) (1.0.2)\n",
      "Requirement already satisfied: xlwt<2.0.0,>=1.3.0 in /home/ec2-user/anaconda3/envs/python3/lib/python3.6/site-packages (from awswrangler) (1.3.0)\n",
      "Requirement already satisfied: boto3<2.0.0,>=1.16.8 in /home/ec2-user/anaconda3/envs/python3/lib/python3.6/site-packages (from awswrangler) (1.18.44)\n",
      "Requirement already satisfied: pandas<1.2.0,>=1.1.0 in /home/ec2-user/anaconda3/envs/python3/lib/python3.6/site-packages (from awswrangler) (1.1.5)\n",
      "Requirement already satisfied: pyarrow<5.1.0,>=2.0.0 in /home/ec2-user/anaconda3/envs/python3/lib/python3.6/site-packages (from awswrangler) (5.0.0)\n",
      "Requirement already satisfied: botocore<2.0.0,>=1.19.8 in /home/ec2-user/anaconda3/envs/python3/lib/python3.6/site-packages (from awswrangler) (1.21.44)\n",
      "Requirement already satisfied: protobuf>=3.1 in /home/ec2-user/anaconda3/envs/python3/lib/python3.6/site-packages (from sagemaker) (3.15.2)\n",
      "Requirement already satisfied: google-pasta in /home/ec2-user/anaconda3/envs/python3/lib/python3.6/site-packages (from sagemaker) (0.2.0)\n",
      "Requirement already satisfied: packaging>=20.0 in /home/ec2-user/anaconda3/envs/python3/lib/python3.6/site-packages (from sagemaker) (20.9)\n",
      "Requirement already satisfied: smdebug-rulesconfig==1.0.1 in /home/ec2-user/anaconda3/envs/python3/lib/python3.6/site-packages (from sagemaker) (1.0.1)\n",
      "Requirement already satisfied: importlib-metadata>=1.4.0 in /home/ec2-user/anaconda3/envs/python3/lib/python3.6/site-packages (from sagemaker) (3.7.0)\n",
      "Requirement already satisfied: pathos in /home/ec2-user/anaconda3/envs/python3/lib/python3.6/site-packages (from sagemaker) (0.2.8)\n",
      "Requirement already satisfied: protobuf3-to-dict>=0.1.5 in /home/ec2-user/anaconda3/envs/python3/lib/python3.6/site-packages (from sagemaker) (0.1.5)\n",
      "Requirement already satisfied: attrs in /home/ec2-user/anaconda3/envs/python3/lib/python3.6/site-packages (from sagemaker) (20.3.0)\n",
      "Requirement already satisfied: s3transfer<0.6.0,>=0.5.0 in /home/ec2-user/anaconda3/envs/python3/lib/python3.6/site-packages (from boto3<2.0.0,>=1.16.8->awswrangler) (0.5.0)\n",
      "Requirement already satisfied: jmespath<1.0.0,>=0.7.1 in /home/ec2-user/anaconda3/envs/python3/lib/python3.6/site-packages (from boto3<2.0.0,>=1.16.8->awswrangler) (0.10.0)\n",
      "Requirement already satisfied: python-dateutil<3.0.0,>=2.1 in /home/ec2-user/anaconda3/envs/python3/lib/python3.6/site-packages (from botocore<2.0.0,>=1.19.8->awswrangler) (2.8.1)\n",
      "Requirement already satisfied: urllib3<1.27,>=1.25.4 in /home/ec2-user/anaconda3/envs/python3/lib/python3.6/site-packages (from botocore<2.0.0,>=1.19.8->awswrangler) (1.26.6)\n",
      "Requirement already satisfied: typing-extensions>=3.6.4 in /home/ec2-user/anaconda3/envs/python3/lib/python3.6/site-packages (from importlib-metadata>=1.4.0->sagemaker) (3.10.0.2)\n",
      "Requirement already satisfied: zipp>=0.5 in /home/ec2-user/anaconda3/envs/python3/lib/python3.6/site-packages (from importlib-metadata>=1.4.0->sagemaker) (3.4.0)\n",
      "Requirement already satisfied: et-xmlfile in /home/ec2-user/anaconda3/envs/python3/lib/python3.6/site-packages (from openpyxl<3.1.0,>=3.0.0->awswrangler) (1.0.1)\n",
      "Requirement already satisfied: jdcal in /home/ec2-user/anaconda3/envs/python3/lib/python3.6/site-packages (from openpyxl<3.1.0,>=3.0.0->awswrangler) (1.4.1)\n",
      "Requirement already satisfied: pyparsing>=2.0.2 in /home/ec2-user/anaconda3/envs/python3/lib/python3.6/site-packages (from packaging>=20.0->sagemaker) (2.4.7)\n",
      "Requirement already satisfied: pytz>=2017.2 in /home/ec2-user/anaconda3/envs/python3/lib/python3.6/site-packages (from pandas<1.2.0,>=1.1.0->awswrangler) (2021.1)\n",
      "Requirement already satisfied: scramp>=1.4.1 in /home/ec2-user/anaconda3/envs/python3/lib/python3.6/site-packages (from pg8000<1.22.0,>=1.16.0->awswrangler) (1.4.1)\n",
      "Requirement already satisfied: six>=1.9 in /home/ec2-user/anaconda3/envs/python3/lib/python3.6/site-packages (from protobuf>=3.1->sagemaker) (1.15.0)\n",
      "Requirement already satisfied: lxml>=4.6.2 in /home/ec2-user/anaconda3/envs/python3/lib/python3.6/site-packages (from redshift-connector<2.1.0,>=2.0.884->awswrangler) (4.6.3)\n",
      "Requirement already satisfied: beautifulsoup4<5.0.0,>=4.7.0 in /home/ec2-user/anaconda3/envs/python3/lib/python3.6/site-packages (from redshift-connector<2.1.0,>=2.0.884->awswrangler) (4.9.3)\n",
      "Requirement already satisfied: requests<2.25.2,>=2.23.0 in /home/ec2-user/anaconda3/envs/python3/lib/python3.6/site-packages (from redshift-connector<2.1.0,>=2.0.884->awswrangler) (2.25.1)\n",
      "Requirement already satisfied: soupsieve>1.2 in /home/ec2-user/anaconda3/envs/python3/lib/python3.6/site-packages (from beautifulsoup4<5.0.0,>=4.7.0->redshift-connector<2.1.0,>=2.0.884->awswrangler) (2.0.1)\n",
      "Requirement already satisfied: chardet<5,>=3.0.2 in /home/ec2-user/anaconda3/envs/python3/lib/python3.6/site-packages (from requests<2.25.2,>=2.23.0->redshift-connector<2.1.0,>=2.0.884->awswrangler) (3.0.4)\n",
      "Requirement already satisfied: certifi>=2017.4.17 in /home/ec2-user/anaconda3/envs/python3/lib/python3.6/site-packages (from requests<2.25.2,>=2.23.0->redshift-connector<2.1.0,>=2.0.884->awswrangler) (2021.5.30)\n",
      "Requirement already satisfied: idna<3,>=2.5 in /home/ec2-user/anaconda3/envs/python3/lib/python3.6/site-packages (from requests<2.25.2,>=2.23.0->redshift-connector<2.1.0,>=2.0.884->awswrangler) (2.10)\n",
      "Requirement already satisfied: threadpoolctl>=2.0.0 in /home/ec2-user/anaconda3/envs/python3/lib/python3.6/site-packages (from scikit-learn!=0.22.0->lightgbm) (2.1.0)\n",
      "Requirement already satisfied: joblib>=0.11 in /home/ec2-user/anaconda3/envs/python3/lib/python3.6/site-packages (from scikit-learn!=0.22.0->lightgbm) (1.0.1)\n",
      "Requirement already satisfied: asn1crypto>=1.4.0 in /home/ec2-user/anaconda3/envs/python3/lib/python3.6/site-packages (from scramp>=1.4.1->pg8000<1.22.0,>=1.16.0->awswrangler) (1.4.0)\n",
      "Requirement already satisfied: pox>=0.3.0 in /home/ec2-user/anaconda3/envs/python3/lib/python3.6/site-packages (from pathos->sagemaker) (0.3.0)\n",
      "Requirement already satisfied: dill>=0.3.4 in /home/ec2-user/anaconda3/envs/python3/lib/python3.6/site-packages (from pathos->sagemaker) (0.3.4)\n",
      "Requirement already satisfied: ppft>=1.6.6.4 in /home/ec2-user/anaconda3/envs/python3/lib/python3.6/site-packages (from pathos->sagemaker) (1.6.6.4)\n",
      "Requirement already satisfied: multiprocess>=0.70.12 in /home/ec2-user/anaconda3/envs/python3/lib/python3.6/site-packages (from pathos->sagemaker) (0.70.12.2)\n"
     ]
    },
    {
     "data": {
      "text/plain": [
       "0"
      ]
     },
     "execution_count": 1,
     "metadata": {},
     "output_type": "execute_result"
    }
   ],
   "source": [
    "import pip\n",
    "\n",
    "package_names = ['lightgbm', 'awswrangler', 'sagemaker']\n",
    "pip.main(['install'] + package_names + ['--upgrade'])"
   ]
  },
  {
   "cell_type": "code",
   "execution_count": 2,
   "id": "2fb78b19",
   "metadata": {},
   "outputs": [
    {
     "name": "stdout",
     "output_type": "stream",
     "text": [
      "NumExpr defaulting to 4 threads.\n",
      "////////////////////////////////////////////////// \n",
      "\n",
      "path_container_input:  /opt/ml/processing/input\n",
      "path_container_output:  /opt/ml/processing/output\n",
      "path_container_utils:  /opt/ml/processing/input/utils\n",
      "path_container_universo:  /opt/ml/processing/input/HM_UNIVERSO_PROPENSION_DESEMBOLSO_BPE\n",
      "target :::::::::  target_desembolso_f2m_mayor_30_menor_180\n"
     ]
    }
   ],
   "source": [
    "# Nativos\n",
    "from dateutil.relativedelta import relativedelta\n",
    "from time import gmtime, strftime\n",
    "from datetime import datetime\n",
    "import random as rn\n",
    "import joblib\n",
    "import json\n",
    "import sys\n",
    "import os\n",
    "import gc\n",
    "\n",
    "#nube\n",
    "from sagemaker.processing import ProcessingInput, ProcessingOutput\n",
    "from sagemaker.sklearn.processing import SKLearnProcessor\n",
    "from sagemaker import get_execution_role\n",
    "import awswrangler as wr\n",
    "import sagemaker\n",
    "import boto3\n",
    "\n",
    "#calculo\n",
    "import pandas as pd\n",
    "import numpy as np\n",
    "import scipy\n",
    "\n",
    "#grafico\n",
    "from IPython.display import display\n",
    "import matplotlib.pyplot as plt\n",
    "import seaborn as sns\n",
    "%matplotlib inline\n",
    "sns.set(style=\"whitegrid\")\n",
    "\n",
    "#Interacciones con output\n",
    "import warnings\n",
    "warnings.filterwarnings(\"ignore\")\n",
    "# warnings.simplefilter(action='ignore', category=FutureWarning)\n",
    "pd.set_option('display.max_rows', 500)\n",
    "pd.set_option('display.max_columns', 500)\n",
    "pd.set_option('display.width', 1000)\n",
    "\n",
    "from IPython.core.interactiveshell import InteractiveShell\n",
    "InteractiveShell.ast_node_interactivity = \"all\"\n",
    "\n",
    "gc.collect()\n",
    "# MODELS\n",
    "from lightgbm import LGBMClassifier\n",
    "\n",
    "BASE_DIR = os.path.dirname(os.getcwd())\n",
    "if BASE_DIR not in sys.path: sys.path.append(BASE_DIR)\n",
    "#import scorecardpy as sc\n",
    "\n",
    "SEED = 29082013\n",
    "os.environ['PYTHONHASHSEED'] = str(SEED)\n",
    "np.random.seed(SEED)\n",
    "rn.seed(SEED)\n",
    "\n",
    "from setup import *"
   ]
  },
  {
   "cell_type": "code",
   "execution_count": null,
   "id": "be06e5d0",
   "metadata": {},
   "outputs": [],
   "source": []
  },
  {
   "cell_type": "markdown",
   "id": "bd51fb1d",
   "metadata": {},
   "source": [
    "### COnfig"
   ]
  },
  {
   "cell_type": "code",
   "execution_count": 3,
   "id": "dad94db4",
   "metadata": {},
   "outputs": [
    {
     "name": "stdout",
     "output_type": "stream",
     "text": [
      "bucket:  sagemaker-us-east-1-058528764918\n",
      "region:  us-east-1\n",
      "now:  2021-09-27 14:53:14.069955\n"
     ]
    }
   ],
   "source": [
    "print(\"bucket: \", bucket)\n",
    "print(\"region: \", region)\n",
    "print(\"now: \", now)"
   ]
  },
  {
   "cell_type": "code",
   "execution_count": null,
   "id": "a8084a5b",
   "metadata": {},
   "outputs": [],
   "source": []
  },
  {
   "cell_type": "markdown",
   "id": "5fecdcf4",
   "metadata": {},
   "source": [
    "### Seteado utilitario"
   ]
  },
  {
   "cell_type": "code",
   "execution_count": 4,
   "id": "6bcbd23a",
   "metadata": {},
   "outputs": [
    {
     "name": "stdout",
     "output_type": "stream",
     "text": [
      "/home/ec2-user/SageMaker/DESEMBOLSO_7/UTILITARIO_CODE/utils.py\n",
      "vpc/propension/code/utils.py\n"
     ]
    }
   ],
   "source": [
    "print(path_instancia_util)\n",
    "print(prefix_utils)"
   ]
  },
  {
   "cell_type": "code",
   "execution_count": 5,
   "id": "166f68f1",
   "metadata": {},
   "outputs": [],
   "source": [
    "s3.Bucket(bucket).upload_file(path_instancia_util, prefix_utils)"
   ]
  },
  {
   "cell_type": "code",
   "execution_count": null,
   "id": "63f402d1",
   "metadata": {},
   "outputs": [],
   "source": []
  },
  {
   "cell_type": "markdown",
   "id": "42abd4e9",
   "metadata": {},
   "source": [
    "### RUtas"
   ]
  },
  {
   "cell_type": "code",
   "execution_count": 6,
   "id": "e0f44a43",
   "metadata": {},
   "outputs": [
    {
     "name": "stdout",
     "output_type": "stream",
     "text": [
      "uri_output: s3://sagemaker-us-east-1-058528764918/vpc/propension/output3\n",
      "uri_train:  s3://sagemaker-us-east-1-058528764918/vpc/propension/output3/train_target_desembolso_f2m_mayor_30_menor_180_clasif_normal.csv\n",
      "uri_valid:  s3://sagemaker-us-east-1-058528764918/vpc/propension/output3/validation.csv\n",
      "uri_segui:  s3://sagemaker-us-east-1-058528764918/vpc/propension/output3/seguimiento.csv\n",
      "sufijo:  target_desembolso_f2m_mayor_30_menor_180_clasif_normal\n",
      "\n",
      " ========================= \n",
      "\n",
      "uri_raw: s3://sagemaker-us-east-1-058528764918/vpc/propension/raw\n",
      "uri_copy_train_raw:  s3://sagemaker-us-east-1-058528764918/vpc/propension/raw/target_desembolso_f2m_mayor_30_menor_180_clasif_normal/train.csv\n",
      "uri_copy_valid_raw:  s3://sagemaker-us-east-1-058528764918/vpc/propension/raw/target_desembolso_f2m_mayor_30_menor_180_clasif_normal/validation.csv\n",
      "uri_copy_segui_raw:  s3://sagemaker-us-east-1-058528764918/vpc/propension/raw/target_desembolso_f2m_mayor_30_menor_180_clasif_normal/seguimiento.csv\n"
     ]
    }
   ],
   "source": [
    "print('uri_output:', uri_output)\n",
    "print(\"uri_train: \", uri_train)\n",
    "print(\"uri_valid: \", uri_valid)\n",
    "print(\"uri_segui: \", uri_segui)\n",
    "print(\"sufijo: \", sufijo)\n",
    "\n",
    "print(\"\\n\", \"=\"*25, \"\\n\")\n",
    "uri_raw = 's3://{}/vpc/{}/raw'.format(bucket, proyecto)\n",
    "print('uri_raw:', uri_raw)\n",
    "\n",
    "print(\"uri_copy_train_raw: \", uri_copy_train_raw)\n",
    "print(\"uri_copy_valid_raw: \", uri_copy_valid_raw)\n",
    "print(\"uri_copy_segui_raw: \", uri_copy_segui_raw)"
   ]
  },
  {
   "cell_type": "code",
   "execution_count": 7,
   "id": "d41af13d",
   "metadata": {},
   "outputs": [
    {
     "name": "stdout",
     "output_type": "stream",
     "text": [
      "CPU times: user 1.87 s, sys: 61.2 ms, total: 1.93 s\n",
      "Wall time: 38.2 s\n"
     ]
    }
   ],
   "source": [
    "%%time\n",
    "s3.meta.client.copy({\n",
    "    'Bucket': bucket,\n",
    "    'Key': uri_train.split(bucket)[-1][1:]\n",
    "},\n",
    "    bucket,\n",
    "    uri_copy_train_raw.split(bucket)[-1][1:]\n",
    ")"
   ]
  },
  {
   "cell_type": "code",
   "execution_count": 8,
   "id": "dbc0230d",
   "metadata": {},
   "outputs": [
    {
     "name": "stdout",
     "output_type": "stream",
     "text": [
      "CPU times: user 1.04 s, sys: 21.6 ms, total: 1.06 s\n",
      "Wall time: 22.4 s\n"
     ]
    }
   ],
   "source": [
    "%%time\n",
    "s3.meta.client.copy({\n",
    "    'Bucket': bucket,\n",
    "    'Key': uri_valid.split(bucket)[-1][1:]\n",
    "},\n",
    "    bucket,\n",
    "    uri_copy_valid_raw.split(bucket)[-1][1:]\n",
    ")"
   ]
  },
  {
   "cell_type": "code",
   "execution_count": 9,
   "id": "16debb30",
   "metadata": {},
   "outputs": [
    {
     "name": "stdout",
     "output_type": "stream",
     "text": [
      "CPU times: user 1.11 s, sys: 17.8 ms, total: 1.13 s\n",
      "Wall time: 22.5 s\n"
     ]
    }
   ],
   "source": [
    "%%time\n",
    "s3.meta.client.copy({\n",
    "    'Bucket': bucket,\n",
    "    'Key': uri_segui.split(bucket)[-1][1:]\n",
    "},\n",
    "    bucket,\n",
    "    uri_copy_segui_raw.split(bucket)[-1][1:]\n",
    ")"
   ]
  },
  {
   "cell_type": "code",
   "execution_count": 10,
   "id": "61eeb8de",
   "metadata": {},
   "outputs": [
    {
     "name": "stdout",
     "output_type": "stream",
     "text": [
      "uri_raw_sufijo:  s3://sagemaker-us-east-1-058528764918/vpc/propension/raw/target_desembolso_f2m_mayor_30_menor_180_clasif_normal\n",
      "uri_split_sufijo:  s3://sagemaker-us-east-1-058528764918/vpc/propension/split/target_desembolso_f2m_mayor_30_menor_180_clasif_normal\n",
      "\n",
      " ========================= \n",
      "\n",
      "path_container_input:  /opt/ml/processing/input\n",
      "path_container_output:  /opt/ml/processing/output\n",
      "path_container_utils:  /opt/ml/processing/input/utils\n"
     ]
    }
   ],
   "source": [
    "print(\"uri_raw_sufijo: \", uri_raw_sufijo)\n",
    "print(\"uri_split_sufijo: \", uri_split_sufijo)\n",
    "\n",
    "print(\"\\n\", \"=\"*25, \"\\n\")\n",
    "\n",
    "path_container_input = '/opt/ml/processing/input'\n",
    "path_container_utils= path_container_input + '/utils'\n",
    "path_container_output = path_container_input.replace('input', 'output')\n",
    "print('path_container_input: ', path_container_input)\n",
    "print('path_container_output: ', path_container_output)\n",
    "print('path_container_utils: ', path_container_utils)"
   ]
  },
  {
   "cell_type": "code",
   "execution_count": null,
   "id": "1c425896",
   "metadata": {},
   "outputs": [],
   "source": []
  },
  {
   "cell_type": "markdown",
   "id": "55464d0b",
   "metadata": {},
   "source": [
    "### Desacoplado"
   ]
  },
  {
   "cell_type": "code",
   "execution_count": 11,
   "id": "5845c474",
   "metadata": {},
   "outputs": [
    {
     "name": "stdout",
     "output_type": "stream",
     "text": [
      "Same images used for training and inference. Defaulting to image scope: inference.\n",
      "Defaulting to only available Python version: py3\n"
     ]
    }
   ],
   "source": [
    "processing_tags = [{'Key': 'cost-center', 'Value': 'TF2WorkflowProcessing'}]\n",
    "\n",
    "sklearn_processor_a = SKLearnProcessor(\n",
    "    framework_version='0.23-1',\n",
    "    role=get_execution_role(),\n",
    "    instance_type='ml.m5.4xlarge',\n",
    "    instance_count=1,\n",
    "    tags=processing_tags\n",
    ")"
   ]
  },
  {
   "cell_type": "code",
   "execution_count": 12,
   "id": "4aa09a54",
   "metadata": {},
   "outputs": [
    {
     "name": "stdout",
     "output_type": "stream",
     "text": [
      "\n",
      "Job Name:  desembolso-worflow-2021-09-27-14-54-37\n",
      "Inputs:  [{'InputName': 'input-1', 'AppManaged': False, 'S3Input': {'S3Uri': 's3://sagemaker-us-east-1-058528764918/vpc/propension/raw/target_desembolso_f2m_mayor_30_menor_180_clasif_normal', 'LocalPath': '/opt/ml/processing/input', 'S3DataType': 'S3Prefix', 'S3InputMode': 'File', 'S3DataDistributionType': 'ShardedByS3Key', 'S3CompressionType': 'None'}}, {'InputName': 'input-2', 'AppManaged': False, 'S3Input': {'S3Uri': 's3://sagemaker-us-east-1-058528764918/vpc/propension/code', 'LocalPath': '/opt/ml/processing/input/utils', 'S3DataType': 'S3Prefix', 'S3InputMode': 'File', 'S3DataDistributionType': 'ShardedByS3Key', 'S3CompressionType': 'None'}}, {'InputName': 'code', 'AppManaged': False, 'S3Input': {'S3Uri': 's3://sagemaker-us-east-1-058528764918/desembolso-worflow-2021-09-27-14-54-37/input/code/preparate_train_valid.py', 'LocalPath': '/opt/ml/processing/input/code', 'S3DataType': 'S3Prefix', 'S3InputMode': 'File', 'S3DataDistributionType': 'FullyReplicated', 'S3CompressionType': 'None'}}]\n",
      "Outputs:  [{'OutputName': 'result', 'AppManaged': False, 'S3Output': {'S3Uri': 's3://sagemaker-us-east-1-058528764918/vpc/propension/split/target_desembolso_f2m_mayor_30_menor_180_clasif_normal', 'LocalPath': '/opt/ml/processing/output', 'S3UploadMode': 'EndOfJob'}}]\n",
      "Creating processing-job with name desembolso-worflow-2021-09-27-14-54-37\n",
      "......................................\u001b[34m/opt/ml/processing/input/\u001b[0m\n",
      "\u001b[34mLO AGREGO\u001b[0m\n",
      "\u001b[34m['/opt/ml/processing/input/code', '/miniconda3/lib/python37.zip', '/miniconda3/lib/python3.7', '/miniconda3/lib/python3.7/lib-dynload', '/miniconda3/lib/python3.7/site-packages', '/opt/ml/processing/input/']\u001b[0m\n",
      "\u001b[34m////////////////////////////////////////////////// \n",
      "\u001b[0m\n",
      "\u001b[34mpath_container_input:  /opt/ml/processing/input\u001b[0m\n",
      "\u001b[34mpath_container_output:  /opt/ml/processing/output\u001b[0m\n",
      "\u001b[34mpath_container_utils:  /opt/ml/processing/input/utils\u001b[0m\n",
      "\u001b[34mpath_container_universo:  /opt/ml/processing/input/HM_UNIVERSO_PROPENSION_DESEMBOLSO_BPE\u001b[0m\n",
      "\u001b[34msufijo:  target_desembolso_f2m_mayor_30_menor_180_clasif_normal\u001b[0m\n",
      "\u001b[34mtarget:  target_desembolso_f2m_mayor_30_menor_180\u001b[0m\n",
      "\u001b[34mdicc_seleccionadas:  dict_keys(['target_desembolso_f2m_f3m_mayor_10_menor_180_clasif_normal', 'target_desembolso_f2m_f3m_mayor_10_menor_180_clasif_all', 'target_desembolso_f2m_f3m_mayor_30_menor_180_clasif_normal', 'target_desembolso_f2m_f3m_mayor_30_menor_180_clasif_all', 'target_desembolso_f2m_mayor_10_menor_180_clasif_normal', 'target_desembolso_f2m_mayor_10_menor_180_clasif_all', 'target_desembolso_f2m_mayor_30_menor_180_clasif_normal', 'target_desembolso_f2m_mayor_30_menor_180_clasif_all'])\u001b[0m\n",
      "\u001b[34m19\u001b[0m\n",
      "\u001b[34mseleccionadas ['target_desembolso_f2m_mayor_30_menor_180', 'deuda_sf_prom_ult9m', 'saldo_coloc_direct_tc', 'prom_reprog_u12m', 'ult_var_saldo_ajustado_amt', 'nro_entid_financ_prom_ult9m_cnt', 'monto_adquirido_u6_amt', 'nro_var_10k_30k_negativa_u6', 'var_neta_saldo_ajustado_u3_amt', 'prom_gar_u12m', 'nroregs_reactiva_bcos', 'monto_pagado_u3_amt', 'saldo_coloc_direct_vig_bcos', 'saldo_coloc_direct_vig_cmpt', 'nro_entidades', 'monto_pagado_ult_rcc_amt', 'tendencia_nro_coloc_direct_bancos_v2', 'sow_cajas', 'prom_fae_u12m', 'nro_var_10k_30k_negativa_u3']\u001b[0m\n",
      "\u001b[34mpath_container_input:  /opt/ml/processing/input\u001b[0m\n",
      "\u001b[34mpath_container_output:  /opt/ml/processing/output\u001b[0m\n",
      "\u001b[34m['cod_sbs_val', 'flg_registro_ibk', 'pct_normal', 'pct_cpp', 'pct_deficiente', 'pct_dudoso', 'pct_perdida', 'facturacion_periodo_mnt', 'facturacion_prom_ult3m_mnt', 'facturacion_prom_ult6m_mnt', 'facturacion_prom_ult9m_mnt', 'deuda_agrar_prom_ult3m_mnt', 'deuda_agrar_prom_ult6m_mnt', 'deuda_agrar_prom_ult9m_mnt', 'deuda_sf_prom_ult3m', 'deuda_sf_prom_ult6m', 'deuda_sf_prom_ult9m', 'tend_facturacion_ult_trim_mnt', 'tend_facturacion_ult_mes_mnt', 'tend_deuda_agrar_ult_trim_mnt', 'tend_deuda_agrar_ult_mes_mnt', 'tend_deuda_sf_ult_trim_mnt', 'tend_deuda_sf_ult_mes_mnt', 'nro_entidades_financ_cnt', 'nro_entid_financ_prom_ult3m_cnt', 'nro_entid_financ_prom_ult6m_cnt', 'nro_entid_financ_prom_ult9m_cnt', 'nro_entid_mayor_actual_ult3m_cnt', 'nro_entid_diff_actual_ult2m', 'flg_cambio_banca_ult3m', 'flg_cambio_banca_ult6m', 'flg_cambio_banca_ult9m', 'cambio_banca_ult3m_cnt', 'cambio_banca_ult6m_cnt', 'cambio_banca_ult9m_cnt', 'flg_cambio_region_ult3m', 'flg_cambio_region_ult6m', 'flg_cambio_region_ult9m', 'flg_cambio_segmento_ult3m', 'flg_cambio_segmento_ult6m', 'flg_cambio_segmento_ult9m', 'saldo_reajustado_ult_rcc_amt', 'max_saldo_reajustado_prom_u3_amt', 'max_saldo_reajustado_prom_u6_amt', 'max_saldo_reajustado_prom_u9_amt', 'sum_saldo_reajustado_prom_u3_amt', 'sum_saldo_reajustado_prom_u6_amt', 'sum_saldo_reajustado_prom_u9_amt', 'nro_entidades_9m_mas_con_saldo_ajust', 'nro_entidades_8m_mas_con_saldo_ajust', 'nro_entidades_7m_mas_con_saldo_ajust', 'nro_entidades_6m_mas_con_saldo_ajust', 'nro_entidades_5m_mas_con_saldo_ajust', 'nro_entidades_4m_mas_con_saldo_ajust', 'nro_entidades_3m_mas_con_saldo_ajust', 'nro_entidades_2m_mas_con_saldo_ajust', 'nro_entidades_1m_mas_con_saldo_ajust', 'nro_entidades_no_tiene_saldo_ajust_u9', 'nro_entidades_no_tiene_saldo_ajust_u6', 'nro_entidades_no_tiene_saldo_ajust_u3', 'nro_entidades_termino_prest_u9', 'nro_entidades_termino_prest_u6', 'nro_entidades_termino_prest_u3', 'nro_entid_recien_3m_con_saldoajust_u9', 'nro_entid_recien_2m_con_saldoajust_u9', 'nro_entid_recien_1m_con_saldoajust_u9', 'nro_entid_recien_3m_con_saldoajust_u6', 'nro_entid_recien_2m_con_saldoajust_u6', 'nro_entid_recien_1m_con_saldoajust_u6', 'ult_var_saldo_ajustado_amt', 'var_neta_saldo_ajustado_u3_amt', 'var_neta_saldo_ajustado_u6_amt', 'monto_adquirido_ult_rcc_amt', 'monto_adquirido_u3_amt', 'monto_adquirido_u6_amt', 'monto_pagado_ult_rcc_amt', 'monto_pagado_u3_amt', 'monto_pagado_u6_amt', 'target_desembolso_f2m_mayor_10_menor_180', 'target_desembolso_f2m_mayor_30_menor_180', 'target_monto_variacion_f1m', 'target_monto_variacion_f2m', 'nro_var_10k_30k_positiva_ult_rcc', 'nro_var_10k_30k_positiva_u3', 'nro_var_10k_30k_positiva_u6', 'nro_var_10k_30k_negativa_ult_rcc', 'nro_var_10k_30k_negativa_u3', 'nro_var_10k_30k_negativa_u6', 'nro_var_up180k_positiva_ult_rcc', 'nro_var_up180k_positiva_u3', 'nro_var_up180k_positiva_u6', 'nro_var_up180k_negativa_ult_rcc', 'nro_var_up180k_negativa_u3', 'nro_var_up180k_negativa_u6', 'saldo_coloc_vig_amt', 'saldo_coloc_vig_ibk_amt', 'saldo_coloc_vig_otros_bancos_amt', 'saldo_coloc_vig_cajas_amt', 'sow_ibk', 'sow_otros_bancos', 'sow_cajas', 'nro_tipo_entidad', 'nro_entidades', 'nroregs_garantia_reactiva_bcos', 'nroregs_reactiva_bcos', 'nroregs_inmobiliario_bcos', 'nroregs_garantias_bcos', 'nroregs_reprogramados_bcos', 'nroregs_cred_castigados_bcos', 'nroregs_garantia_fae_bcos', 'nroregs_fae_bcos', 'nroregs_coloc_directas_bcos', 'nroregs_coloc_indirectas_bcos', 'nroregs_garantia_reactiva_cajas', 'nroregs_reactiva_cajas', 'nroregs_inmobiliario_cajas', 'nroregs_garantias_cajas', 'nroregs_reprogramados_cajas', 'nroregs_cred_castigados_cajas', 'nroregs_garantia_fae_cajas', 'nroregs_fae_cajas', 'nroregs_coloc_directas_cajas', 'nroregs_coloc_indirectas_cajas', 'flg_clasif_normal', 'flg_clasif_cpp', 'flg_clasif_deficiente', 'flg_clasif_dudosa', 'flg_clasif_perdida', 'saldo_vig_con_lm', 'saldo_vig_sin_lm', 'saldo_venc_con_lm', 'saldo_venc_sin_lm', 'saldo_garantia_reactiva', 'saldo_reactiva', 'saldo_inmobiliario', 'saldo_garantias', 'saldo_reprogramados', 'saldo_creditos_castigados', 'saldo_garantia_fae', 'saldo_fae', 'saldo_coloc_directas', 'saldo_coloc_indirectas', 'saldo_coloc_direct_vig_bcos', 'saldo_coloc_direct_vig_cmpt', 'saldo_coloc_direct_vig_no_ibk', 'saldo_coloc_direct_vig_ibk', 'saldo_coloc_direct_vig_cajas', 'porc_coloc_direct_vig_bcos', 'porc_coloc_direct_vig_cmpt', 'porc_coloc_direct_vig_no_ibk', 'porc_coloc_direct_vig_ibk', 'porc_coloc_direct_vig_cajas', 'saldo_coloc_indirect_bcos', 'saldo_coloc_indirect_cmpt', 'saldo_coloc_indirect_no_ibk', 'saldo_coloc_indirect_ibk', 'saldo_coloc_indirect_cajas', 'porc_coloc_indirect_bcos', 'porc_coloc_indirect_cmpt', 'porc_coloc_indirect_no_ibk', 'porc_coloc_indirect_ibk', 'porc_coloc_indirect_cajas', 'saldo_coloc_direct_vig', 'saldo_coloc_direct_vig_y_venc', 'saldo_coloc_direct_castigado', 'saldo_coloc_direct_judicial', 'saldo_coloc_direct_reestruct', 'saldo_coloc_direct_sv', 'saldo_coloc_direct_refinanc', 'saldo_coloc_direct_reprog', 'saldo_coloc_direct_venc', 'saldo_garant_autoliquid', 'saldo_garant_hipoteca', 'saldo_garant_fideicomiso', 'saldo_garant_prend_warr_comod', 'saldo_garant_otros', 'saldo_garant_preferidas', 'cobert_garpref_over_coloc_direct_vig', 'cobert_garpref_over_coloc_direct_vig_y_venc', 'cobert_garpref_over_coloc_direct', 'cobert_garhipauto_over_coloc_direct_vig', 'cobert_garhipauto_over_coloc_direct_vig_y_venc', 'cobert_garhipauto_over_coloc_direct', 'saldo_coloc_direct_leasing', 'saldo_coloc_direct_sobregavanc', 'saldo_coloc_direct_dctos', 'saldo_coloc_direct_comex', 'saldo_coloc_direct_tc', 'saldo_coloc_direct_factoring', 'percent_leasing', 'percent_sobregavanc', 'percent_dctos', 'percent_comex', 'percent_tc', 'percent_factoring', 'maxdias_atraso_coloc_direct', 'maxdias_atraso_coloc_direct_vig', 'maxdias_atraso_coloc_direct_vig_y_venc', 'maxdias_atraso_coloc_direct_castig', 'maxdias_atraso_coloc_direct_judic', 'maxdias_atraso_coloc_direct_refinanc', 'maxdias_atraso_coloc_direct_reprog', 'maxdias_atraso_coloc_direct_venc', 'maxdias_atraso_imb', 'maxdias_atraso_react', 'maxdias_atraso_reprog', 'maxdias_atraso_fae', 'maxdias_atraso_leasing', 'maxdias_atraso_sobreg_avance', 'maxdias_atraso_dctos', 'maxdias_atraso_comex', 'maxdias_atraso_tc', 'maxdias_atraso_factoring', 'tendencia_nro_entidades', 'tendencia_nro_coloc_direct_bancos', 'tendencia_nro_coloc_direct_cajas', 'tendencia_saldo_vig_lm', 'tendencia_saldo_coloc_direct_vig_ibk', 'tendencia_saldo_coloc_direct_vig_venc', 'tendencia_saldo_coloc_direct_reprog', 'tendencia_garantias_preferidas', 'tendencia_cobertura_gar_pref_over_coloc_direct_vig_venc', 'tendencia_cobertura_gar_autohipo_over_coloc_direct_vig_venc', 'tendencia_saldo_comex', 'tendencia_factoring', 'tendencia_atraso_coloc_direct', 'tendencia_reactiva', 'tendencia_inmobiliario', 'tendencia_fae', 'tendencia_reprogramados', 'tendencia_garantias', 'tendencia_coloc_indirectas', 'tendencia_coloc_direct_cajas', 'tendencia_nro_entidades_v2', 'tendencia_nro_coloc_direct_bancos_v2', 'tendencia_nro_coloc_direct_cajas_v2', 'tendencia_saldo_vig_lm_v2', 'tendencia_saldo_coloc_direct_vig_ibk_v2', 'tendencia_saldo_coloc_direct_vig_venc_v2', 'tendencia_saldo_coloc_direct_reprog_v2', 'tendencia_garantias_preferidas_v2', 'tendencia_cobertura_gar_pref_over_coloc_direct_vig_venc_v2', 'tendencia_cobertura_gar_autohipo_over_coloc_direct_vig_venc_v2', 'tendencia_saldo_comex_v2', 'tendencia_factoring_v2', 'tendencia_atraso_coloc_direct_v2', 'tendencia_reactiva_v2', 'tendencia_inmobiliario_v2', 'tendencia_fae_v2', 'tendencia_reprogramados_v2', 'tendencia_garantias_v2', 'tendencia_coloc_indirectas_v2', 'tendencia_coloc_direct_cajas_v2', 'tendencia_nro_coloc_direct_bancos_6m_v2', 'tendencia_nro_coloc_direct_cajas_6m_v2', 'tendencia_saldo_vig_lm_6m_v2', 'tendencia_saldo_coloc_direct_vig_ibk_6m_v2', 'tendencia_saldo_coloc_direct_vig_venc_6m_v2', 'tendencia_saldo_coloc_direct_reprog_6m_v2', 'tendencia_garantias_preferidas_6m_v2', 'tendencia_cobertura_gar_pref_over_coloc_direct_vig_venc_6m_v2', 'tendencia_cobertura_gar_autohipo_over_coloc_direct_vig_venc_6m_v2', 'tendencia_saldo_comex_6m_v2', 'tendencia_factoring_6m_v2', 'tendencia_atraso_coloc_direct_6m_v2', 'tendencia_reactiva_6m_v2', 'tendencia_inmobiliario_6m_v2', 'tendencia_fae_6m_v2', 'tendencia_reprogramados_6m_v2', 'tendencia_garantias_6m_v2', 'tendencia_coloc_indirectas_6m_v2', 'tendencia_coloc_direct_cajas_6m_v2', 'prom_coloc_direct_cajas_u3m', 'prom_coloc_indirect_u3m', 'prom_reprog_u3m', 'prom_fae_u3m', 'prom_inmobiliario_u3m', 'prom_reactiva_u3m', 'prom_atraso_coloc_direct_vig_u3m', 'prom_atraso_coloc_direct_u3m', 'prom_comex_u3m', 'prom_coloc_direct_ibk_u3m', 'prom_coloc_direct_venc_u3m', 'prom_saldo_vig_lm_u3m', 'prom_gar_u3m', 'prom_coloc_direct_cajas_u6m', 'prom_coloc_indirect_u6m', 'prom_reprog_u6m', 'prom_fae_u6m', 'prom_inmobiliario_u6m', 'prom_reactiva_u6m', 'prom_atraso_coloc_direct_vig_u6m', 'prom_atraso_coloc_direct_u6m', 'prom_comex_u6m', 'prom_coloc_direct_ibk_u6m', 'prom_coloc_direct_venc_u6m', 'prom_saldo_vig_lm_u6m', 'prom_gar_u6m', 'prom_coloc_direct_cajas_u12m', 'prom_coloc_indirect_u12m', 'prom_reprog_u12m', 'prom_fae_u12m', 'prom_inmobiliario_u12m', 'prom_reactiva_u12m', 'prom_atraso_coloc_direct_vig_u12m', 'prom_atraso_coloc_direct_u12m', 'prom_comex_u12m', 'prom_coloc_direct_ibk_u12m', 'prom_coloc_direct_venc_u12m', 'prom_saldo_vig_lm_u12m', 'prom_gar_u12m', 'meses_con_comex_u6m_cnt', 'meses_con_coloc_direct_venc_u6m_cnt', 'meses_con_coloc_direct_ibk_u6m_cnt', 'meses_con_saldo_vig_lm_u6m_cnt', 'meses_con_atraso_coloc_direct_u6m_cnt', 'meses_con_atraso_coloc_direct_vig_u6m_cnt', 'meses_con_reactiva_u6m_cnt', 'meses_con_saldo_inmobiliario_u6m_cnt', 'meses_con_coloc_direct_cajas_u6m_cnt', 'meses_con_coloc_indirect_u6m_cnt', 'meses_con_gar_u6m_cnt', 'meses_con_reprog_u6m_cnt', 'meses_con_fae_u6m_cnt', 'meses_con_comex_u12m_cnt', 'meses_con_coloc_direct_venc_u12m_cnt', 'meses_con_coloc_direct_ibk_u12m_cnt', 'meses_con_saldo_vig_lm_u12m_cnt', 'meses_con_atraso_coloc_direct_u12m_cnt', 'meses_con_atraso_coloc_direct_vig_u12m_cnt', 'meses_con_reactiva_u12m_cnt', 'meses_con_saldo_inmobiliario_u12m_cnt', 'meses_con_coloc_direct_cajas_u12m_cnt', 'meses_con_coloc_indirect_u12m_cnt', 'meses_con_gar_u12m_cnt', 'meses_con_reprog_u12m_cnt', 'meses_con_fae_u12m_cnt', 'periodo', 'region_fin_val_', 'region_fin_val_CENTRO', 'region_fin_val_LIMA', 'region_fin_val_NORTE', 'region_fin_val_SUR', 'departamento_fin_val_encoder_target_desembolso_f2m_mayor_30_menor_180', 'ciiu_cd_encoder_target_desembolso_f2m_mayor_30_menor_180', 'region_fin_val_cat_encoder_target_desembolso_f2m_mayor_30_menor_180']\u001b[0m\n",
      "\u001b[34mperidodos encontrados:  ['202103', '202104', '202105']\u001b[0m\n",
      "\u001b[34mperidodos validacion:  [202103 202104 202105]\u001b[0m\n",
      "\u001b[34mseleccionadas : ['target_desembolso_f2m_mayor_30_menor_180', 'deuda_sf_prom_ult9m', 'saldo_coloc_direct_tc', 'prom_reprog_u12m', 'ult_var_saldo_ajustado_amt', 'nro_entid_financ_prom_ult9m_cnt', 'monto_adquirido_u6_amt', 'nro_var_10k_30k_negativa_u6', 'var_neta_saldo_ajustado_u3_amt', 'prom_gar_u12m', 'nroregs_reactiva_bcos', 'monto_pagado_u3_amt', 'saldo_coloc_direct_vig_bcos', 'saldo_coloc_direct_vig_cmpt', 'nro_entidades', 'monto_pagado_ult_rcc_amt', 'tendencia_nro_coloc_direct_bancos_v2', 'sow_cajas', 'prom_fae_u12m', 'nro_var_10k_30k_negativa_u3']\u001b[0m\n",
      "\n",
      "CPU times: user 994 ms, sys: 68.8 ms, total: 1.06 s\n",
      "Wall time: 11min 32s\n"
     ]
    }
   ],
   "source": [
    "%%time\n",
    "processing_job_name = \"desembolso-worflow-{}\".format(strftime(\"%Y-%m-%d-%H-%M-%S\", gmtime()))\n",
    "\n",
    "sklearn_processor_a.run(\n",
    "    code='preparate_train_valid.py',  #'/opt/ml/processing/codigo_proceso/' , '/opt/ml/processing/input/code'\n",
    "    job_name=processing_job_name,\n",
    "    inputs=[\n",
    "        ProcessingInput(\n",
    "            source=uri_raw_sufijo,\n",
    "            destination=path_container_input,\n",
    "            s3_data_distribution_type='ShardedByS3Key'\n",
    "        ),\n",
    "        ProcessingInput(\n",
    "            source=uri_code,\n",
    "            destination=path_container_utils,\n",
    "            s3_data_distribution_type='ShardedByS3Key'\n",
    "        ),\n",
    "    ],\n",
    "    outputs=[\n",
    "        ProcessingOutput(\n",
    "            output_name='result',\n",
    "            destination=uri_split_sufijo,\n",
    "            source=path_container_output\n",
    "        )\n",
    "    ],\n",
    "        arguments=[\"--sufijo\", sufijo]\n",
    ")\n",
    "\n",
    "preprocessing_job_description = sklearn_processor_a.jobs[-1].describe()"
   ]
  },
  {
   "cell_type": "code",
   "execution_count": null,
   "id": "d98d0388",
   "metadata": {},
   "outputs": [],
   "source": []
  },
  {
   "cell_type": "code",
   "execution_count": null,
   "id": "95672ab1",
   "metadata": {},
   "outputs": [],
   "source": []
  },
  {
   "cell_type": "code",
   "execution_count": null,
   "id": "75a88dad",
   "metadata": {},
   "outputs": [],
   "source": []
  },
  {
   "cell_type": "code",
   "execution_count": null,
   "id": "5fa04906",
   "metadata": {},
   "outputs": [],
   "source": []
  },
  {
   "cell_type": "code",
   "execution_count": null,
   "id": "b2cb5bd4",
   "metadata": {},
   "outputs": [],
   "source": []
  },
  {
   "cell_type": "code",
   "execution_count": null,
   "id": "71f8d2a5",
   "metadata": {},
   "outputs": [],
   "source": []
  },
  {
   "cell_type": "code",
   "execution_count": null,
   "id": "12b2ff59",
   "metadata": {},
   "outputs": [],
   "source": []
  },
  {
   "cell_type": "code",
   "execution_count": null,
   "id": "f6e67fc1",
   "metadata": {},
   "outputs": [],
   "source": []
  },
  {
   "cell_type": "code",
   "execution_count": null,
   "id": "96d12548",
   "metadata": {},
   "outputs": [],
   "source": []
  }
 ],
 "metadata": {
  "kernelspec": {
   "display_name": "conda_python3",
   "language": "python",
   "name": "conda_python3"
  },
  "language_info": {
   "codemirror_mode": {
    "name": "ipython",
    "version": 3
   },
   "file_extension": ".py",
   "mimetype": "text/x-python",
   "name": "python",
   "nbconvert_exporter": "python",
   "pygments_lexer": "ipython3",
   "version": "3.6.13"
  }
 },
 "nbformat": 4,
 "nbformat_minor": 5
}
