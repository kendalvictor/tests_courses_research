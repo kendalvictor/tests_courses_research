{
 "cells": [
  {
   "cell_type": "code",
   "execution_count": 1,
   "id": "2c1e53f5",
   "metadata": {},
   "outputs": [
    {
     "name": "stderr",
     "output_type": "stream",
     "text": [
      "WARNING: pip is being invoked by an old script wrapper. This will fail in a future version of pip.\n",
      "Please see https://github.com/pypa/pip/issues/5599 for advice on fixing the underlying issue.\n",
      "To avoid this problem you can invoke Python with '-m pip' instead of running pip directly.\n"
     ]
    },
    {
     "name": "stdout",
     "output_type": "stream",
     "text": [
      "Requirement already satisfied: lightgbm in /home/ec2-user/anaconda3/envs/python3/lib/python3.6/site-packages (3.2.1)\n",
      "Requirement already satisfied: awswrangler in /home/ec2-user/anaconda3/envs/python3/lib/python3.6/site-packages (2.10.0)\n",
      "Requirement already satisfied: sagemaker in /home/ec2-user/anaconda3/envs/python3/lib/python3.6/site-packages (2.50.0)\n",
      "Requirement already satisfied: wheel in /home/ec2-user/anaconda3/envs/python3/lib/python3.6/site-packages (from lightgbm) (0.36.2)\n",
      "Requirement already satisfied: scipy in /home/ec2-user/anaconda3/envs/python3/lib/python3.6/site-packages (from lightgbm) (1.5.3)\n",
      "Requirement already satisfied: scikit-learn!=0.22.0 in /home/ec2-user/anaconda3/envs/python3/lib/python3.6/site-packages (from lightgbm) (0.24.1)\n",
      "Requirement already satisfied: numpy in /home/ec2-user/anaconda3/envs/python3/lib/python3.6/site-packages (from lightgbm) (1.19.5)\n",
      "Requirement already satisfied: joblib>=0.11 in /home/ec2-user/anaconda3/envs/python3/lib/python3.6/site-packages (from scikit-learn!=0.22.0->lightgbm) (1.0.1)\n",
      "Requirement already satisfied: threadpoolctl>=2.0.0 in /home/ec2-user/anaconda3/envs/python3/lib/python3.6/site-packages (from scikit-learn!=0.22.0->lightgbm) (2.1.0)\n",
      "Requirement already satisfied: pymysql<1.1.0,>=0.9.0 in /home/ec2-user/anaconda3/envs/python3/lib/python3.6/site-packages (from awswrangler) (1.0.2)\n",
      "Requirement already satisfied: openpyxl~=3.0.0 in /home/ec2-user/anaconda3/envs/python3/lib/python3.6/site-packages (from awswrangler) (3.0.6)\n",
      "Requirement already satisfied: redshift-connector~=2.0.882 in /home/ec2-user/anaconda3/envs/python3/lib/python3.6/site-packages (from awswrangler) (2.0.883)\n",
      "Requirement already satisfied: pyarrow<4.1.0,>=2.0.0 in /home/ec2-user/anaconda3/envs/python3/lib/python3.6/site-packages (from awswrangler) (4.0.1)\n",
      "Requirement already satisfied: boto3<2.1.0,>=1.16.8 in /home/ec2-user/anaconda3/envs/python3/lib/python3.6/site-packages (from awswrangler) (1.17.99)\n",
      "Requirement already satisfied: botocore<2.1.0,>=1.19.8 in /home/ec2-user/anaconda3/envs/python3/lib/python3.6/site-packages (from awswrangler) (1.20.99)\n",
      "Requirement already satisfied: pandas<2.1.0,>=1.1.0 in /home/ec2-user/anaconda3/envs/python3/lib/python3.6/site-packages (from awswrangler) (1.1.5)\n",
      "Requirement already satisfied: pg8000<1.21.0,>=1.16.0 in /home/ec2-user/anaconda3/envs/python3/lib/python3.6/site-packages (from awswrangler) (1.20.0)\n",
      "Requirement already satisfied: s3transfer<0.5.0,>=0.4.0 in /home/ec2-user/anaconda3/envs/python3/lib/python3.6/site-packages (from boto3<2.1.0,>=1.16.8->awswrangler) (0.4.2)\n",
      "Requirement already satisfied: jmespath<1.0.0,>=0.7.1 in /home/ec2-user/anaconda3/envs/python3/lib/python3.6/site-packages (from boto3<2.1.0,>=1.16.8->awswrangler) (0.10.0)\n",
      "Requirement already satisfied: urllib3<1.27,>=1.25.4 in /home/ec2-user/anaconda3/envs/python3/lib/python3.6/site-packages (from botocore<2.1.0,>=1.19.8->awswrangler) (1.26.5)\n",
      "Requirement already satisfied: python-dateutil<3.0.0,>=2.1 in /home/ec2-user/anaconda3/envs/python3/lib/python3.6/site-packages (from botocore<2.1.0,>=1.19.8->awswrangler) (2.8.1)\n",
      "Requirement already satisfied: jdcal in /home/ec2-user/anaconda3/envs/python3/lib/python3.6/site-packages (from openpyxl~=3.0.0->awswrangler) (1.4.1)\n",
      "Requirement already satisfied: et-xmlfile in /home/ec2-user/anaconda3/envs/python3/lib/python3.6/site-packages (from openpyxl~=3.0.0->awswrangler) (1.0.1)\n",
      "Requirement already satisfied: pytz>=2017.2 in /home/ec2-user/anaconda3/envs/python3/lib/python3.6/site-packages (from pandas<2.1.0,>=1.1.0->awswrangler) (2021.1)\n",
      "Requirement already satisfied: scramp>=1.4.0 in /home/ec2-user/anaconda3/envs/python3/lib/python3.6/site-packages (from pg8000<1.21.0,>=1.16.0->awswrangler) (1.4.0)\n",
      "Requirement already satisfied: six>=1.5 in /home/ec2-user/anaconda3/envs/python3/lib/python3.6/site-packages (from python-dateutil<3.0.0,>=2.1->botocore<2.1.0,>=1.19.8->awswrangler) (1.15.0)\n",
      "Requirement already satisfied: requests<2.25.2,>=2.23.0 in /home/ec2-user/anaconda3/envs/python3/lib/python3.6/site-packages (from redshift-connector~=2.0.882->awswrangler) (2.25.1)\n",
      "Requirement already satisfied: lxml>=4.6.2 in /home/ec2-user/anaconda3/envs/python3/lib/python3.6/site-packages (from redshift-connector~=2.0.882->awswrangler) (4.6.3)\n",
      "Requirement already satisfied: beautifulsoup4<5.0.0,>=4.7.0 in /home/ec2-user/anaconda3/envs/python3/lib/python3.6/site-packages (from redshift-connector~=2.0.882->awswrangler) (4.9.3)\n",
      "Requirement already satisfied: soupsieve>1.2 in /home/ec2-user/anaconda3/envs/python3/lib/python3.6/site-packages (from beautifulsoup4<5.0.0,>=4.7.0->redshift-connector~=2.0.882->awswrangler) (2.0.1)\n",
      "Requirement already satisfied: chardet<5,>=3.0.2 in /home/ec2-user/anaconda3/envs/python3/lib/python3.6/site-packages (from requests<2.25.2,>=2.23.0->redshift-connector~=2.0.882->awswrangler) (3.0.4)\n",
      "Requirement already satisfied: certifi>=2017.4.17 in /home/ec2-user/anaconda3/envs/python3/lib/python3.6/site-packages (from requests<2.25.2,>=2.23.0->redshift-connector~=2.0.882->awswrangler) (2021.5.30)\n",
      "Requirement already satisfied: idna<3,>=2.5 in /home/ec2-user/anaconda3/envs/python3/lib/python3.6/site-packages (from requests<2.25.2,>=2.23.0->redshift-connector~=2.0.882->awswrangler) (2.10)\n",
      "Requirement already satisfied: asn1crypto==1.4.0 in /home/ec2-user/anaconda3/envs/python3/lib/python3.6/site-packages (from scramp>=1.4.0->pg8000<1.21.0,>=1.16.0->awswrangler) (1.4.0)\n",
      "Requirement already satisfied: protobuf3-to-dict>=0.1.5 in /home/ec2-user/anaconda3/envs/python3/lib/python3.6/site-packages (from sagemaker) (0.1.5)\n",
      "Requirement already satisfied: protobuf>=3.1 in /home/ec2-user/anaconda3/envs/python3/lib/python3.6/site-packages (from sagemaker) (3.15.2)\n",
      "Requirement already satisfied: attrs in /home/ec2-user/anaconda3/envs/python3/lib/python3.6/site-packages (from sagemaker) (20.3.0)\n",
      "Requirement already satisfied: google-pasta in /home/ec2-user/anaconda3/envs/python3/lib/python3.6/site-packages (from sagemaker) (0.2.0)\n",
      "Requirement already satisfied: importlib-metadata>=1.4.0 in /home/ec2-user/anaconda3/envs/python3/lib/python3.6/site-packages (from sagemaker) (3.7.0)\n",
      "Requirement already satisfied: smdebug-rulesconfig==1.0.1 in /home/ec2-user/anaconda3/envs/python3/lib/python3.6/site-packages (from sagemaker) (1.0.1)\n",
      "Requirement already satisfied: packaging>=20.0 in /home/ec2-user/anaconda3/envs/python3/lib/python3.6/site-packages (from sagemaker) (20.9)\n",
      "Requirement already satisfied: pathos in /home/ec2-user/anaconda3/envs/python3/lib/python3.6/site-packages (from sagemaker) (0.2.7)\n",
      "Requirement already satisfied: typing-extensions>=3.6.4 in /home/ec2-user/anaconda3/envs/python3/lib/python3.6/site-packages (from importlib-metadata>=1.4.0->sagemaker) (3.7.4.3)\n",
      "Requirement already satisfied: zipp>=0.5 in /home/ec2-user/anaconda3/envs/python3/lib/python3.6/site-packages (from importlib-metadata>=1.4.0->sagemaker) (3.4.0)\n",
      "Requirement already satisfied: pyparsing>=2.0.2 in /home/ec2-user/anaconda3/envs/python3/lib/python3.6/site-packages (from packaging>=20.0->sagemaker) (2.4.7)\n",
      "Requirement already satisfied: pox>=0.2.9 in /home/ec2-user/anaconda3/envs/python3/lib/python3.6/site-packages (from pathos->sagemaker) (0.2.9)\n",
      "Requirement already satisfied: ppft>=1.6.6.3 in /home/ec2-user/anaconda3/envs/python3/lib/python3.6/site-packages (from pathos->sagemaker) (1.6.6.3)\n",
      "Requirement already satisfied: dill>=0.3.3 in /home/ec2-user/anaconda3/envs/python3/lib/python3.6/site-packages (from pathos->sagemaker) (0.3.3)\n",
      "Requirement already satisfied: multiprocess>=0.70.11 in /home/ec2-user/anaconda3/envs/python3/lib/python3.6/site-packages (from pathos->sagemaker) (0.70.11.1)\n"
     ]
    },
    {
     "name": "stderr",
     "output_type": "stream",
     "text": [
      "WARNING: You are using pip version 21.1.2; however, version 21.2.1 is available.\n",
      "You should consider upgrading via the '/home/ec2-user/anaconda3/envs/python3/bin/python -m pip install --upgrade pip' command.\n"
     ]
    },
    {
     "data": {
      "text/plain": [
       "0"
      ]
     },
     "execution_count": 1,
     "metadata": {},
     "output_type": "execute_result"
    }
   ],
   "source": [
    "import pip\n",
    "\n",
    "package_names = ['lightgbm', 'awswrangler', 'sagemaker'] \n",
    "pip.main(['install'] + package_names + ['--upgrade'])"
   ]
  },
  {
   "cell_type": "code",
   "execution_count": 2,
   "id": "e5fc2a2c",
   "metadata": {},
   "outputs": [
    {
     "name": "stdout",
     "output_type": "stream",
     "text": [
      "NumExpr defaulting to 4 threads.\n"
     ]
    }
   ],
   "source": [
    "# Nativos\n",
    "from dateutil.relativedelta import relativedelta\n",
    "from time import gmtime, strftime\n",
    "from datetime import datetime\n",
    "import random as rn\n",
    "import joblib\n",
    "import json\n",
    "import sys\n",
    "import os\n",
    "import gc\n",
    "\n",
    "#nube\n",
    "from sagemaker.processing import ProcessingInput, ProcessingOutput\n",
    "from sagemaker.sklearn.processing import SKLearnProcessor\n",
    "from sagemaker import get_execution_role\n",
    "import awswrangler as wr\n",
    "import sagemaker\n",
    "import boto3\n",
    "\n",
    "#calculo\n",
    "import pandas as pd\n",
    "import numpy as np\n",
    "import scipy\n",
    "\n",
    "#grafico\n",
    "from IPython.display import display\n",
    "import matplotlib.pyplot as plt\n",
    "import seaborn as sns\n",
    "%matplotlib inline\n",
    "sns.set(style=\"whitegrid\")\n",
    "\n",
    "#Interacciones con output\n",
    "import warnings\n",
    "warnings.filterwarnings(\"ignore\")\n",
    "# warnings.simplefilter(action='ignore', category=FutureWarning)\n",
    "pd.set_option('display.max_rows', 500)\n",
    "pd.set_option('display.max_columns', 500)\n",
    "pd.set_option('display.width', 1000)\n",
    "\n",
    "from IPython.core.interactiveshell import InteractiveShell\n",
    "InteractiveShell.ast_node_interactivity = \"all\"\n",
    "\n",
    "gc.collect()\n",
    "# MODELS\n",
    "from lightgbm import LGBMClassifier\n",
    "\n",
    "BASE_DIR = os.path.dirname(os.getcwd())\n",
    "if BASE_DIR not in sys.path: sys.path.append(BASE_DIR)\n",
    "#import scorecardpy as sc\n",
    "\n",
    "SEED = 29082013\n",
    "os.environ['PYTHONHASHSEED'] = str(SEED)\n",
    "np.random.seed(SEED)\n",
    "rn.seed(SEED)"
   ]
  },
  {
   "cell_type": "code",
   "execution_count": null,
   "id": "2c3c2c9e",
   "metadata": {},
   "outputs": [],
   "source": []
  },
  {
   "cell_type": "markdown",
   "id": "53f8e9dd",
   "metadata": {},
   "source": [
    "### COnfig"
   ]
  },
  {
   "cell_type": "code",
   "execution_count": 3,
   "id": "894fa294",
   "metadata": {},
   "outputs": [
    {
     "name": "stdout",
     "output_type": "stream",
     "text": [
      "////////////////////////////////////////////////// \n",
      "\n",
      "path_container_input:  /opt/ml/processing/input\n",
      "path_container_output:  /opt/ml/processing/output\n",
      "path_container_utils:  /opt/ml/processing/input/utils\n",
      "path_container_universo:  /opt/ml/processing/input/HM_UNIVERSO_PROPENSION_DESEMBOLSO_BPE\n",
      "bucket:  sagemaker-us-east-1-058528764918\n",
      "region:  us-east-1\n",
      "now:  2021-07-31 03:16:12.465215\n"
     ]
    }
   ],
   "source": [
    "from UTILITARIO_CODE.utils import targets\n",
    "\n",
    "proyecto = 'propension'\n",
    "normal = [1]\n",
    "target = targets[7]\n",
    "clasif = 'normal' if len(normal) == 1 else 'all'\n",
    "\n",
    "now = datetime.now()\n",
    "sess = sagemaker.session.Session()\n",
    "s3 = boto3.resource('s3')\n",
    "bucket = sess.default_bucket() \n",
    "region = boto3.Session().region_name\n",
    "\n",
    "print(\"bucket: \", bucket)\n",
    "print(\"region: \", region)\n",
    "print(\"now: \", now)"
   ]
  },
  {
   "cell_type": "code",
   "execution_count": null,
   "id": "11442cf5",
   "metadata": {},
   "outputs": [],
   "source": []
  },
  {
   "cell_type": "markdown",
   "id": "f6d12a9f",
   "metadata": {},
   "source": [
    "### Seteado utilitario"
   ]
  },
  {
   "cell_type": "code",
   "execution_count": 4,
   "id": "e88d4076",
   "metadata": {},
   "outputs": [
    {
     "data": {
      "text/plain": [
       "'/home/ec2-user/SageMaker'"
      ]
     },
     "execution_count": 4,
     "metadata": {},
     "output_type": "execute_result"
    }
   ],
   "source": [
    "BASE_DIR"
   ]
  },
  {
   "cell_type": "code",
   "execution_count": 5,
   "id": "0d634e92",
   "metadata": {},
   "outputs": [
    {
     "data": {
      "text/plain": [
       "'/home/ec2-user/SageMaker/PROPENSION/UTILITARIO_CODE/utils.py'"
      ]
     },
     "execution_count": 5,
     "metadata": {},
     "output_type": "execute_result"
    }
   ],
   "source": [
    "path_instancia_util = os.path.join(BASE_DIR, 'PROPENSION/UTILITARIO_CODE/utils.py')\n",
    "path_instancia_util"
   ]
  },
  {
   "cell_type": "code",
   "execution_count": 6,
   "id": "b87f8373",
   "metadata": {},
   "outputs": [
    {
     "data": {
      "text/plain": [
       "'vpc/propension/code/utils.py'"
      ]
     },
     "execution_count": 6,
     "metadata": {},
     "output_type": "execute_result"
    }
   ],
   "source": [
    "uri_code = 's3://{}/vpc/{}/code'.format(bucket, proyecto)\n",
    "prefix_utils = '{}/utils.py'.format(uri_code.split(bucket)[-1][1:])\n",
    "prefix_utils"
   ]
  },
  {
   "cell_type": "code",
   "execution_count": 7,
   "id": "085fd7ae",
   "metadata": {},
   "outputs": [],
   "source": [
    "s3.Bucket(bucket).upload_file(path_instancia_util, prefix_utils)"
   ]
  },
  {
   "cell_type": "code",
   "execution_count": null,
   "id": "fa187641",
   "metadata": {},
   "outputs": [],
   "source": []
  },
  {
   "cell_type": "code",
   "execution_count": null,
   "id": "593f6166",
   "metadata": {},
   "outputs": [],
   "source": []
  },
  {
   "cell_type": "markdown",
   "id": "25f37c1e",
   "metadata": {},
   "source": [
    "### RUtas"
   ]
  },
  {
   "cell_type": "code",
   "execution_count": 8,
   "id": "d91b5671",
   "metadata": {},
   "outputs": [
    {
     "name": "stdout",
     "output_type": "stream",
     "text": [
      "uri_output: s3://sagemaker-us-east-1-058528764918/vpc/propension/output\n",
      "uri_train:  s3://sagemaker-us-east-1-058528764918/vpc/propension/output/train_target_desembolso_f2m_mayor_30_menor_180_clasif_normal.csv\n",
      "uri_valid:  s3://sagemaker-us-east-1-058528764918/vpc/propension/output/validationtarget_desembolso_f2m_mayor_30_menor_180_clasif_normal.csv\n",
      "uri_segui:  s3://sagemaker-us-east-1-058528764918/vpc/propension/output/seguimiento.csv\n",
      "sufijo:  target_desembolso_f2m_mayor_30_menor_180_clasif_normal\n",
      "\n",
      " ========================= \n",
      "\n",
      "uri_raw: s3://sagemaker-us-east-1-058528764918/vpc/propension/raw\n",
      "uri_copy_train:  s3://sagemaker-us-east-1-058528764918/vpc/propension/raw/target_desembolso_f2m_mayor_30_menor_180_clasif_normal/train.csv\n",
      "uri_copy_valid:  s3://sagemaker-us-east-1-058528764918/vpc/propension/raw/target_desembolso_f2m_mayor_30_menor_180_clasif_normal/validation.csv\n",
      "uri_copy_segui:  s3://sagemaker-us-east-1-058528764918/vpc/propension/raw/target_desembolso_f2m_mayor_30_menor_180_clasif_normal/seguimiento.csv\n"
     ]
    }
   ],
   "source": [
    "uri_output = 's3://{}/vpc/{}/output'.format(bucket, proyecto)\n",
    "print('uri_output:', uri_output)\n",
    "\n",
    "uri_train = '{}/train_{}_clasif_{}.csv'.format(uri_output, target.lower(), str(clasif))\n",
    "uri_valid = '{}/validation{}_clasif_{}.csv'.format(uri_output, target.lower(), str(clasif))\n",
    "uri_segui = '{}/seguimiento.csv'.format(uri_output)\n",
    "#train_target_desembolso_f2m_mayor_30_menor_180_clasif_normal.csv\n",
    "sufijo = '{}_clasif_{}'.format(target.lower(), clasif)\n",
    "\n",
    "print(\"uri_train: \", uri_train)\n",
    "print(\"uri_valid: \", uri_valid)\n",
    "print(\"uri_segui: \", uri_segui)\n",
    "print(\"sufijo: \", sufijo)\n",
    "\n",
    "print(\"\\n\", \"=\"*25, \"\\n\")\n",
    "uri_raw = 's3://{}/vpc/{}/raw'.format(bucket, proyecto)\n",
    "print('uri_raw:', uri_raw)\n",
    "\n",
    "uri_copy_train = '{}/{}/train.csv'.format(uri_raw, sufijo)\n",
    "uri_copy_valid = '{}/{}/validation.csv'.format(uri_raw, sufijo)\n",
    "uri_copy_segui = '{}/{}/seguimiento.csv'.format(uri_raw, sufijo)\n",
    "\n",
    "print(\"uri_copy_train: \", uri_copy_train)\n",
    "print(\"uri_copy_valid: \", uri_copy_valid)\n",
    "print(\"uri_copy_segui: \", uri_copy_segui)"
   ]
  },
  {
   "cell_type": "code",
   "execution_count": 9,
   "id": "2bc2e629",
   "metadata": {},
   "outputs": [
    {
     "name": "stdout",
     "output_type": "stream",
     "text": [
      "CPU times: user 1.23 s, sys: 45.5 ms, total: 1.28 s\n",
      "Wall time: 21.8 s\n"
     ]
    }
   ],
   "source": [
    "%%time\n",
    "s3.meta.client.copy({\n",
    "    'Bucket': bucket,\n",
    "    'Key': uri_train.split(bucket)[-1][1:]\n",
    "},\n",
    "    bucket,\n",
    "    uri_copy_train.split(bucket)[-1][1:]\n",
    ")"
   ]
  },
  {
   "cell_type": "code",
   "execution_count": 10,
   "id": "c4a25083",
   "metadata": {},
   "outputs": [
    {
     "name": "stdout",
     "output_type": "stream",
     "text": [
      "CPU times: user 359 ms, sys: 8.12 ms, total: 367 ms\n",
      "Wall time: 7.03 s\n"
     ]
    }
   ],
   "source": [
    "%%time\n",
    "s3.meta.client.copy({\n",
    "    'Bucket': bucket,\n",
    "    'Key': uri_valid.split(bucket)[-1][1:]\n",
    "},\n",
    "    bucket,\n",
    "    uri_copy_valid.split(bucket)[-1][1:]\n",
    ")"
   ]
  },
  {
   "cell_type": "code",
   "execution_count": 11,
   "id": "ba4ccbaa",
   "metadata": {},
   "outputs": [
    {
     "name": "stdout",
     "output_type": "stream",
     "text": [
      "CPU times: user 473 ms, sys: 25.1 ms, total: 498 ms\n",
      "Wall time: 8.67 s\n"
     ]
    }
   ],
   "source": [
    "%%time\n",
    "s3.meta.client.copy({\n",
    "    'Bucket': bucket,\n",
    "    'Key': uri_segui.split(bucket)[-1][1:]\n",
    "},\n",
    "    bucket,\n",
    "    uri_copy_segui.split(bucket)[-1][1:]\n",
    ")"
   ]
  },
  {
   "cell_type": "code",
   "execution_count": 12,
   "id": "bf75ee95",
   "metadata": {},
   "outputs": [
    {
     "name": "stdout",
     "output_type": "stream",
     "text": [
      "uri_input:  s3://sagemaker-us-east-1-058528764918/vpc/propension/raw/target_desembolso_f2m_mayor_30_menor_180_clasif_normal\n",
      "uri_salida:  s3://sagemaker-us-east-1-058528764918/vpc/propension/split/target_desembolso_f2m_mayor_30_menor_180_clasif_normal\n",
      "\n",
      " ========================= \n",
      "\n",
      "path_container_input:  /opt/ml/processing/input\n",
      "path_container_output:  /opt/ml/processing/output\n",
      "path_container_utils:  /opt/ml/processing/input/utils\n"
     ]
    }
   ],
   "source": [
    "uri_input = '{}/{}'.format(uri_raw, sufijo)\n",
    "uri_salida = uri_input.replace('raw', 'split')\n",
    "print(\"uri_input: \", uri_input)\n",
    "print(\"uri_salida: \", uri_salida)\n",
    "\n",
    "print(\"\\n\", \"=\"*25, \"\\n\")\n",
    "\n",
    "path_container_input = '/opt/ml/processing/input'\n",
    "path_container_utils= path_container_input + '/utils'\n",
    "path_container_output = path_container_input.replace('input', 'output')\n",
    "print('path_container_input: ', path_container_input)\n",
    "print('path_container_output: ', path_container_output)\n",
    "print('path_container_utils: ', path_container_utils)"
   ]
  },
  {
   "cell_type": "code",
   "execution_count": null,
   "id": "ea023136",
   "metadata": {},
   "outputs": [],
   "source": []
  },
  {
   "cell_type": "markdown",
   "id": "2ceca7ef",
   "metadata": {},
   "source": [
    "### Desacoplado"
   ]
  },
  {
   "cell_type": "code",
   "execution_count": 13,
   "id": "9f9f37af",
   "metadata": {},
   "outputs": [
    {
     "name": "stdout",
     "output_type": "stream",
     "text": [
      "Same images used for training and inference. Defaulting to image scope: inference.\n",
      "Defaulting to only available Python version: py3\n"
     ]
    }
   ],
   "source": [
    "processing_tags = [{'Key': 'cost-center', 'Value': 'TF2WorkflowProcessing'}]\n",
    "\n",
    "sklearn_processor_a = SKLearnProcessor(\n",
    "    framework_version='0.23-1',\n",
    "    role=get_execution_role(),\n",
    "    instance_type='ml.m5.4xlarge',\n",
    "    instance_count=1,\n",
    "    tags=processing_tags\n",
    ")"
   ]
  },
  {
   "cell_type": "code",
   "execution_count": null,
   "id": "057af4a6",
   "metadata": {},
   "outputs": [],
   "source": []
  },
  {
   "cell_type": "code",
   "execution_count": 14,
   "id": "f2e185f3",
   "metadata": {},
   "outputs": [
    {
     "name": "stdout",
     "output_type": "stream",
     "text": [
      "\n",
      "Job Name:  propension-workflow-2021-07-31-03-16-50\n",
      "Inputs:  [{'InputName': 'input-1', 'AppManaged': False, 'S3Input': {'S3Uri': 's3://sagemaker-us-east-1-058528764918/vpc/propension/raw/target_desembolso_f2m_mayor_30_menor_180_clasif_normal', 'LocalPath': '/opt/ml/processing/input', 'S3DataType': 'S3Prefix', 'S3InputMode': 'File', 'S3DataDistributionType': 'ShardedByS3Key', 'S3CompressionType': 'None'}}, {'InputName': 'input-2', 'AppManaged': False, 'S3Input': {'S3Uri': 's3://sagemaker-us-east-1-058528764918/vpc/propension/code', 'LocalPath': '/opt/ml/processing/input/utils', 'S3DataType': 'S3Prefix', 'S3InputMode': 'File', 'S3DataDistributionType': 'ShardedByS3Key', 'S3CompressionType': 'None'}}, {'InputName': 'code', 'AppManaged': False, 'S3Input': {'S3Uri': 's3://sagemaker-us-east-1-058528764918/propension-workflow-2021-07-31-03-16-50/input/code/preparate_train_valid.py', 'LocalPath': '/opt/ml/processing/input/code', 'S3DataType': 'S3Prefix', 'S3InputMode': 'File', 'S3DataDistributionType': 'FullyReplicated', 'S3CompressionType': 'None'}}]\n",
      "Outputs:  [{'OutputName': 'result', 'AppManaged': False, 'S3Output': {'S3Uri': 's3://sagemaker-us-east-1-058528764918/vpc/propension/split/target_desembolso_f2m_mayor_30_menor_180_clasif_normal', 'LocalPath': '/opt/ml/processing/output', 'S3UploadMode': 'EndOfJob'}}]\n",
      "Creating processing-job with name propension-workflow-2021-07-31-03-16-50\n",
      ".................................\u001b[34m/opt/ml/processing/input/\u001b[0m\n",
      "\u001b[34mLO AGREGO\u001b[0m\n",
      "\u001b[34m['/opt/ml/processing/input/code', '/miniconda3/lib/python37.zip', '/miniconda3/lib/python3.7', '/miniconda3/lib/python3.7/lib-dynload', '/miniconda3/lib/python3.7/site-packages', '/opt/ml/processing/input/']\u001b[0m\n",
      "\u001b[34m////////////////////////////////////////////////// \n",
      "\u001b[0m\n",
      "\u001b[34mpath_container_input:  /opt/ml/processing/input\u001b[0m\n",
      "\u001b[34mpath_container_output:  /opt/ml/processing/output\u001b[0m\n",
      "\u001b[34mpath_container_utils:  /opt/ml/processing/input/utils\u001b[0m\n",
      "\u001b[34mpath_container_universo:  /opt/ml/processing/input/HM_UNIVERSO_PROPENSION_DESEMBOLSO_BPE\u001b[0m\n",
      "\u001b[34msufijo:  target_desembolso_f2m_mayor_30_menor_180_clasif_normal\u001b[0m\n",
      "\u001b[34mtarget:  target_desembolso_f2m_mayor_30_menor_180\u001b[0m\n",
      "\u001b[34mdicc_seleccionadas:  dict_keys(['target_desembolso_f2m_f3m_mayor_10_menor_180_clasif_normal', 'target_desembolso_f2m_f3m_mayor_10_menor_180_clasif_all', 'target_desembolso_f2m_f3m_mayor_30_menor_180_clasif_normal', 'target_desembolso_f2m_f3m_mayor_30_menor_180_clasif_all', 'target_desembolso_f2m_mayor_10_menor_180_clasif_normal', 'target_desembolso_f2m_mayor_10_menor_180_clasif_all', 'target_desembolso_f2m_mayor_30_menor_180_clasif_normal', 'target_desembolso_f2m_mayor_30_menor_180_clasif_all'])\u001b[0m\n",
      "\u001b[34m15\u001b[0m\n",
      "\u001b[34mseleccionadas ['target_desembolso_f2m_mayor_30_menor_180', 'percent_promedio_col_direct_ibk_u3m', 'ultima_variacion_saldo_ajustado', 'saldo_col_direct_vig_banco_no_ibk', 'sum_saldo_ajustado_promedio_u9m', 'monto_pagado_u6m', 'monto_deuda_sf_prom_u9m', 'saldo_col_direct_vig_competencia', 'saldo_reactiva', 'nro_entidades_ya_no_tiene_saldo_ajustado_u9m', 'nro_entidades_ya_no_tiene_saldo_ajustado_u3m', 'nro_entidades_termino_prestamo_u9m', 'entidad_cnt_prom_u9m', 'tendencia_max_dias_atraso_coloc_directas', 'tendencia_saldo_col_direct_vencido', 'monto_adquirido_u6m']\u001b[0m\n",
      "\u001b[34mpath_container_input:  /opt/ml/processing/input\u001b[0m\n",
      "\u001b[34mpath_container_output:  /opt/ml/processing/output\u001b[0m\n",
      "\u001b[34m>> No tiene f3m (1500846, 200) True\u001b[0m\n",
      "\u001b[34magregado:  202105 <class 'str'>\u001b[0m\n",
      "\u001b[34m>> Tiene normal (596412, 200)\u001b[0m\n",
      "\u001b[34mvalidation:  (1750824, 16)\u001b[0m\n",
      "\n",
      "CPU times: user 911 ms, sys: 35.4 ms, total: 946 ms\n",
      "Wall time: 8min 46s\n"
     ]
    }
   ],
   "source": [
    "%%time\n",
    "processing_job_name = \"propension-workflow-{}\".format(strftime(\"%Y-%m-%d-%H-%M-%S\", gmtime()))\n",
    "\n",
    "sklearn_processor_a.run(\n",
    "    code='preparate_train_valid.py',  #'/opt/ml/processing/codigo_proceso/' , '/opt/ml/processing/input/code'\n",
    "    job_name=processing_job_name,\n",
    "    inputs=[\n",
    "        ProcessingInput(\n",
    "            source=uri_input,\n",
    "            destination=path_container_input,\n",
    "            s3_data_distribution_type='ShardedByS3Key'\n",
    "        ),\n",
    "        ProcessingInput(\n",
    "            source=uri_code,\n",
    "            destination=path_container_utils,\n",
    "            s3_data_distribution_type='ShardedByS3Key'\n",
    "        ),\n",
    "    ],\n",
    "    outputs=[\n",
    "        ProcessingOutput(\n",
    "            output_name='result',\n",
    "            destination=uri_salida,\n",
    "            source=path_container_output\n",
    "        )\n",
    "    ],\n",
    "        arguments=[\"--sufijo\", sufijo]\n",
    ")\n",
    "\n",
    "preprocessing_job_description = sklearn_processor_a.jobs[-1].describe()"
   ]
  },
  {
   "cell_type": "code",
   "execution_count": null,
   "id": "8c8eb5b1",
   "metadata": {},
   "outputs": [],
   "source": []
  },
  {
   "cell_type": "code",
   "execution_count": null,
   "id": "7618740d",
   "metadata": {},
   "outputs": [],
   "source": []
  },
  {
   "cell_type": "code",
   "execution_count": null,
   "id": "69d51a06",
   "metadata": {},
   "outputs": [],
   "source": []
  },
  {
   "cell_type": "code",
   "execution_count": null,
   "id": "3dc12186",
   "metadata": {},
   "outputs": [],
   "source": []
  },
  {
   "cell_type": "code",
   "execution_count": null,
   "id": "6add7656",
   "metadata": {},
   "outputs": [],
   "source": []
  },
  {
   "cell_type": "code",
   "execution_count": null,
   "id": "e0ff1bc9",
   "metadata": {},
   "outputs": [],
   "source": []
  },
  {
   "cell_type": "code",
   "execution_count": null,
   "id": "5bba5f03",
   "metadata": {},
   "outputs": [],
   "source": []
  },
  {
   "cell_type": "code",
   "execution_count": null,
   "id": "b37740bb",
   "metadata": {},
   "outputs": [],
   "source": []
  },
  {
   "cell_type": "code",
   "execution_count": null,
   "id": "bf67af75",
   "metadata": {},
   "outputs": [],
   "source": []
  }
 ],
 "metadata": {
  "kernelspec": {
   "display_name": "conda_python3",
   "language": "python",
   "name": "conda_python3"
  },
  "language_info": {
   "codemirror_mode": {
    "name": "ipython",
    "version": 3
   },
   "file_extension": ".py",
   "mimetype": "text/x-python",
   "name": "python",
   "nbconvert_exporter": "python",
   "pygments_lexer": "ipython3",
   "version": "3.6.13"
  }
 },
 "nbformat": 4,
 "nbformat_minor": 5
}
