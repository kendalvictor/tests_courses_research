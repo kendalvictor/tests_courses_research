{
 "cells": [
  {
   "cell_type": "code",
   "execution_count": 1,
   "metadata": {},
   "outputs": [],
   "source": [
    "import pandas as pd\n",
    "from _t import SunatCrawler\n",
    "from selenium.webdriver.common.by import By"
   ]
  },
  {
   "cell_type": "code",
   "execution_count": 2,
   "metadata": {},
   "outputs": [
    {
     "name": "stdout",
     "output_type": "stream",
     "text": [
      "['CLASS_NAME', 'CSS_SELECTOR', 'ID', 'LINK_TEXT', 'NAME', 'PARTIAL_LINK_TEXT', 'TAG_NAME', 'XPATH', '__class__', '__delattr__', '__dict__', '__dir__', '__doc__', '__eq__', '__format__', '__ge__', '__getattribute__', '__gt__', '__hash__', '__init__', '__init_subclass__', '__le__', '__lt__', '__module__', '__ne__', '__new__', '__reduce__', '__reduce_ex__', '__repr__', '__setattr__', '__sizeof__', '__str__', '__subclasshook__', '__weakref__']\n"
     ]
    }
   ],
   "source": [
    "print(dir(By))"
   ]
  },
  {
   "cell_type": "code",
   "execution_count": 3,
   "metadata": {},
   "outputs": [],
   "source": [
    "def get_info_sunat(ruc):\n",
    "    try:\n",
    "        sc = SunatCrawler()\n",
    "        data = sc.run(ruc)\n",
    "    except Exception as e:\n",
    "        print(str(e))\n",
    "        sc.driver.close()\n",
    "        sc = SunatCrawler()\n",
    "        data = sc.run(ruc)\n",
    "    return str(data)"
   ]
  },
  {
   "cell_type": "code",
   "execution_count": 8,
   "metadata": {},
   "outputs": [
    {
     "name": "stdout",
     "output_type": "stream",
     "text": [
      "--DRIVER INICIALIZADO\n",
      "****LOAD PAGE*****\n",
      "****PAGE SESSION*****\n",
      "RECORTE GUARDADO:  VNGP\n",
      "****PAGE CRAWLER SUNAR PERU*****\n",
      "0\n",
      "0\n",
      "1\n",
      "1\n",
      "2\n",
      "2\n",
      "3\n",
      "3\n",
      "4\n",
      "4\n",
      "5\n",
      "5\n",
      "6\n",
      "6\n",
      "7\n",
      "7\n",
      "8\n",
      "8\n",
      "9\n",
      "9\n",
      "10\n",
      "10\n",
      "11\n",
      "11\n",
      "12\n",
      "12\n"
     ]
    },
    {
     "data": {
      "text/plain": [
       "{'ruc': '10451391459 - VILLACORTA PLASENCIA VICTOR MARIANO',\n",
       " 'tipo-contribuyente': 'PERSONA NATURAL SIN NEGOCIO',\n",
       " 'tipo-de-documento': 'DNI 45139145 - VILLACORTA PLASENCIA, VICTOR MARIANO',\n",
       " 'nombre-comercial': '-',\n",
       " 'fecha-de-inscripcion': '06/02/2013',\n",
       " 'estado': 'ACTIVO',\n",
       " 'condicion': 'HABIDO',\n",
       " 'domicilio-fiscal': '-',\n",
       " 'actividad-es-economica-s': 'Principal        - CIIU 93098 - OTRAS ACTIVID.DE TIPO SERVICIO NCP',\n",
       " 'comprobantes-de-pago-c-aut-de-impresion-f-806-u-816': 'RECIBO POR HONORARIOS',\n",
       " 'sistema-de-emision-electronica': 'RECIBOS POR HONORARIOS     AFILIADO DESDE 06/02/2015',\n",
       " 'afiliado-al-ple-desde': '-',\n",
       " 'padrones': 'NINGUNO'}"
      ]
     },
     "execution_count": 8,
     "metadata": {},
     "output_type": "execute_result"
    }
   ],
   "source": [
    "sc = SunatCrawler()\n",
    "sc.run('10451391459')"
   ]
  },
  {
   "cell_type": "code",
   "execution_count": 7,
   "metadata": {},
   "outputs": [
    {
     "name": "stdout",
     "output_type": "stream",
     "text": [
      "--DRIVER INICIALIZADO\n",
      "****LOAD PAGE*****\n",
      "****PAGE SESSION*****\n",
      "RECORTE GUARDADO:  UJDR\n",
      "****PAGE CRAWLER SUNAR PERU*****\n",
      "0\n",
      "0\n",
      "1\n",
      "1\n",
      "2\n",
      "2\n",
      "3\n",
      "3\n",
      "4\n",
      "4\n",
      "5\n",
      "5\n",
      "6\n",
      "6\n",
      "7\n",
      "7\n",
      "8\n",
      "8\n",
      "9\n",
      "9\n",
      "10\n",
      "10\n",
      "11\n",
      "11\n",
      "12\n",
      "EXCEPTION:  Message: no such element: Unable to locate element: {\"method\":\"css selector\",\"selector\":\".bgn\"}\n",
      "  (Session info: chrome=83.0.4103.61)\n",
      "\n",
      "12\n"
     ]
    },
    {
     "data": {
      "text/plain": [
       "{'ruc': '20604504326 - QUIPUAI PERU SOCIEDAD ANONIMA CERRADA - QUIPUAI PERU S.A.C.',\n",
       " 'tipo-contribuyente': 'SOCIEDAD ANONIMA CERRADA',\n",
       " 'nombre-comercial': '-',\n",
       " 'fecha-de-inscripcion': '03/04/2019',\n",
       " 'estado': 'ACTIVO',\n",
       " 'condicion': 'HABIDO',\n",
       " 'domicilio-fiscal': 'AV. VIA EXPRESA NRO. 6141 INT. 703 URB. LOS GLADIOLOS LIMA - LIMA - SANTIAGO DE SURCO',\n",
       " 'actividad-es-economica-s': 'Principal        - CIIU 93098 - OTRAS ACTIVID.DE TIPO SERVICIO NCP \\n                \\n                \\n                 Secundaria 1 - CIIU 74145  - ACTIV.DE ASESORAMIENTO EMPRESARIAL',\n",
       " 'comprobantes-de-pago-c-aut-de-impresion-f-806-u-816': 'NINGUNO',\n",
       " 'sistema-de-emision-electronica': '-',\n",
       " 'afiliado-al-ple-desde': '-',\n",
       " 'padrones': 'NINGUNO'}"
      ]
     },
     "execution_count": 7,
     "metadata": {},
     "output_type": "execute_result"
    }
   ],
   "source": [
    "sc = SunatCrawler()\n",
    "sc.run('20604504326')"
   ]
  },
  {
   "cell_type": "code",
   "execution_count": 4,
   "metadata": {},
   "outputs": [],
   "source": [
    "train = pd.read_excel('train.xlsx')\n",
    "test = pd.read_excel('test.xlsx')"
   ]
  },
  {
   "cell_type": "code",
   "execution_count": 5,
   "metadata": {},
   "outputs": [
    {
     "data": {
      "text/html": [
       "<div>\n",
       "<style scoped>\n",
       "    .dataframe tbody tr th:only-of-type {\n",
       "        vertical-align: middle;\n",
       "    }\n",
       "\n",
       "    .dataframe tbody tr th {\n",
       "        vertical-align: top;\n",
       "    }\n",
       "\n",
       "    .dataframe thead th {\n",
       "        text-align: right;\n",
       "    }\n",
       "</style>\n",
       "<table border=\"1\" class=\"dataframe\">\n",
       "  <thead>\n",
       "    <tr style=\"text-align: right;\">\n",
       "      <th></th>\n",
       "      <th>CREDIT_CODE</th>\n",
       "      <th>NUM_CUOTA</th>\n",
       "      <th>FECHA_DESEMB</th>\n",
       "      <th>DIAS</th>\n",
       "      <th>CLIENTE</th>\n",
       "      <th>RUC</th>\n",
       "      <th>RUC_DNI</th>\n",
       "      <th>TARGET</th>\n",
       "    </tr>\n",
       "  </thead>\n",
       "  <tbody>\n",
       "    <tr>\n",
       "      <th>0</th>\n",
       "      <td>10160233</td>\n",
       "      <td>1</td>\n",
       "      <td>2018-10-26</td>\n",
       "      <td>36</td>\n",
       "      <td>DAVILA DAGA, CARLOS ALBERTO</td>\n",
       "      <td>10800564161</td>\n",
       "      <td>80056416</td>\n",
       "      <td>SI_RECAUDA</td>\n",
       "    </tr>\n",
       "    <tr>\n",
       "      <th>1</th>\n",
       "      <td>10161097</td>\n",
       "      <td>1</td>\n",
       "      <td>2018-11-30</td>\n",
       "      <td>33</td>\n",
       "      <td>CUBAS PAREDES, NEYFY FIORELA</td>\n",
       "      <td>10011486407</td>\n",
       "      <td>1148640</td>\n",
       "      <td>SI_RECAUDA</td>\n",
       "    </tr>\n",
       "    <tr>\n",
       "      <th>2</th>\n",
       "      <td>10163860</td>\n",
       "      <td>1</td>\n",
       "      <td>2019-02-25</td>\n",
       "      <td>35</td>\n",
       "      <td>KOKOROKO SEMINARIO S</td>\n",
       "      <td>20601768241</td>\n",
       "      <td>20601768241</td>\n",
       "      <td>SI_RECAUDA</td>\n",
       "    </tr>\n",
       "    <tr>\n",
       "      <th>3</th>\n",
       "      <td>10164027</td>\n",
       "      <td>1</td>\n",
       "      <td>2019-02-27</td>\n",
       "      <td>33</td>\n",
       "      <td>HUAMANCHUMO CHEMPEN, JOSE ALEXANDER</td>\n",
       "      <td>10477003511</td>\n",
       "      <td>47700351</td>\n",
       "      <td>SI_RECAUDA</td>\n",
       "    </tr>\n",
       "    <tr>\n",
       "      <th>4</th>\n",
       "      <td>10166448</td>\n",
       "      <td>1</td>\n",
       "      <td>2019-05-03</td>\n",
       "      <td>59</td>\n",
       "      <td>DRS. CARRILLO INMUNOALERGIA S.A.C.</td>\n",
       "      <td>20547528060</td>\n",
       "      <td>20547528060</td>\n",
       "      <td>SI_RECAUDA</td>\n",
       "    </tr>\n",
       "  </tbody>\n",
       "</table>\n",
       "</div>"
      ],
      "text/plain": [
       "   CREDIT_CODE  NUM_CUOTA FECHA_DESEMB  DIAS  \\\n",
       "0     10160233          1   2018-10-26    36   \n",
       "1     10161097          1   2018-11-30    33   \n",
       "2     10163860          1   2019-02-25    35   \n",
       "3     10164027          1   2019-02-27    33   \n",
       "4     10166448          1   2019-05-03    59   \n",
       "\n",
       "                               CLIENTE          RUC      RUC_DNI      TARGET  \n",
       "0          DAVILA DAGA, CARLOS ALBERTO  10800564161     80056416  SI_RECAUDA  \n",
       "1         CUBAS PAREDES, NEYFY FIORELA  10011486407      1148640  SI_RECAUDA  \n",
       "2                 KOKOROKO SEMINARIO S  20601768241  20601768241  SI_RECAUDA  \n",
       "3  HUAMANCHUMO CHEMPEN, JOSE ALEXANDER  10477003511     47700351  SI_RECAUDA  \n",
       "4   DRS. CARRILLO INMUNOALERGIA S.A.C.  20547528060  20547528060  SI_RECAUDA  "
      ]
     },
     "execution_count": 5,
     "metadata": {},
     "output_type": "execute_result"
    }
   ],
   "source": [
    "train.head()"
   ]
  },
  {
   "cell_type": "code",
   "execution_count": 6,
   "metadata": {},
   "outputs": [
    {
     "data": {
      "text/html": [
       "<div>\n",
       "<style scoped>\n",
       "    .dataframe tbody tr th:only-of-type {\n",
       "        vertical-align: middle;\n",
       "    }\n",
       "\n",
       "    .dataframe tbody tr th {\n",
       "        vertical-align: top;\n",
       "    }\n",
       "\n",
       "    .dataframe thead th {\n",
       "        text-align: right;\n",
       "    }\n",
       "</style>\n",
       "<table border=\"1\" class=\"dataframe\">\n",
       "  <thead>\n",
       "    <tr style=\"text-align: right;\">\n",
       "      <th></th>\n",
       "      <th>CREDIT_CODE</th>\n",
       "      <th>NUM_CUOTA</th>\n",
       "      <th>FECHA_DESEMB</th>\n",
       "      <th>DIAS</th>\n",
       "      <th>CLIENTE</th>\n",
       "      <th>RUC</th>\n",
       "      <th>RUC_DNI</th>\n",
       "    </tr>\n",
       "  </thead>\n",
       "  <tbody>\n",
       "    <tr>\n",
       "      <th>0</th>\n",
       "      <td>10174508</td>\n",
       "      <td>1</td>\n",
       "      <td>2019-12-18</td>\n",
       "      <td>45</td>\n",
       "      <td>GLOBAL RETEOSHS</td>\n",
       "      <td>20602655866</td>\n",
       "      <td>20602655866</td>\n",
       "    </tr>\n",
       "    <tr>\n",
       "      <th>1</th>\n",
       "      <td>10174660</td>\n",
       "      <td>1</td>\n",
       "      <td>2019-12-23</td>\n",
       "      <td>40</td>\n",
       "      <td>GODOY CORTEZ, LUD  MARIVEL</td>\n",
       "      <td>10224252949</td>\n",
       "      <td>22425294</td>\n",
       "    </tr>\n",
       "    <tr>\n",
       "      <th>2</th>\n",
       "      <td>10174118</td>\n",
       "      <td>1</td>\n",
       "      <td>2019-12-10</td>\n",
       "      <td>53</td>\n",
       "      <td>NARVAEZ ARELLAN, DENISSE  MILUSKA</td>\n",
       "      <td>10430940614</td>\n",
       "      <td>43094061</td>\n",
       "    </tr>\n",
       "    <tr>\n",
       "      <th>3</th>\n",
       "      <td>10174848</td>\n",
       "      <td>1</td>\n",
       "      <td>2019-12-30</td>\n",
       "      <td>33</td>\n",
       "      <td>CHUYE VALLADOLID, DIEGO  ARMANDO</td>\n",
       "      <td>10722580023</td>\n",
       "      <td>72258002</td>\n",
       "    </tr>\n",
       "    <tr>\n",
       "      <th>4</th>\n",
       "      <td>10174378</td>\n",
       "      <td>1</td>\n",
       "      <td>2019-12-16</td>\n",
       "      <td>47</td>\n",
       "      <td>FAJARDO RODRIGUEZ, FELIX  ALBERTO</td>\n",
       "      <td>10256241451</td>\n",
       "      <td>25624145</td>\n",
       "    </tr>\n",
       "  </tbody>\n",
       "</table>\n",
       "</div>"
      ],
      "text/plain": [
       "   CREDIT_CODE  NUM_CUOTA FECHA_DESEMB  DIAS  \\\n",
       "0     10174508          1   2019-12-18    45   \n",
       "1     10174660          1   2019-12-23    40   \n",
       "2     10174118          1   2019-12-10    53   \n",
       "3     10174848          1   2019-12-30    33   \n",
       "4     10174378          1   2019-12-16    47   \n",
       "\n",
       "                             CLIENTE          RUC      RUC_DNI  \n",
       "0                    GLOBAL RETEOSHS  20602655866  20602655866  \n",
       "1         GODOY CORTEZ, LUD  MARIVEL  10224252949     22425294  \n",
       "2  NARVAEZ ARELLAN, DENISSE  MILUSKA  10430940614     43094061  \n",
       "3   CHUYE VALLADOLID, DIEGO  ARMANDO  10722580023     72258002  \n",
       "4  FAJARDO RODRIGUEZ, FELIX  ALBERTO  10256241451     25624145  "
      ]
     },
     "execution_count": 6,
     "metadata": {},
     "output_type": "execute_result"
    }
   ],
   "source": [
    "test.head()"
   ]
  },
  {
   "cell_type": "code",
   "execution_count": 7,
   "metadata": {},
   "outputs": [
    {
     "data": {
      "text/plain": [
       "((1701, 8), (324, 7), (1415,), (324,))"
      ]
     },
     "execution_count": 7,
     "metadata": {},
     "output_type": "execute_result"
    }
   ],
   "source": [
    "train.shape, test.shape, train['RUC'].unique().shape, test['RUC'].unique().shape"
   ]
  },
  {
   "cell_type": "code",
   "execution_count": 8,
   "metadata": {},
   "outputs": [],
   "source": [
    "train_extra_data = {}"
   ]
  },
  {
   "cell_type": "code",
   "execution_count": 9,
   "metadata": {},
   "outputs": [
    {
     "data": {
      "text/plain": [
       "0"
      ]
     },
     "execution_count": 9,
     "metadata": {},
     "output_type": "execute_result"
    }
   ],
   "source": [
    "len(train_extra_data)"
   ]
  },
  {
   "cell_type": "code",
   "execution_count": null,
   "metadata": {},
   "outputs": [
    {
     "name": "stdout",
     "output_type": "stream",
     "text": [
      "-------------------------------------------------- 0 -------------------- 10800564161\n",
      "--DRIVER INICIALIZADO\n",
      "****LOAD PAGE*****\n",
      "****PAGE SESSION*****\n",
      "RECORTE GUARDADO:  GTGI\n",
      "****PAGE CRAWLER SUNAR PERU*****\n",
      "EXCEPTION:  list index out of range\n",
      "EXCEPTION:  'NoneType' object is not iterable\n",
      "EXCEPTION:  Message: no such window: target window already closed\n",
      "from unknown error: web view not found\n",
      "  (Session info: chrome=83.0.4103.61)\n",
      "\n",
      "EXCEPTION:  Message: no such window: target window already closed\n",
      "from unknown error: web view not found\n",
      "  (Session info: chrome=83.0.4103.61)\n",
      "\n",
      "EXCEPTION:  Message: no such window: target window already closed\n",
      "from unknown error: web view not found\n",
      "  (Session info: chrome=83.0.4103.61)\n",
      "\n",
      "EXCEPTION:  Message: no such window: target window already closed\n",
      "from unknown error: web view not found\n",
      "  (Session info: chrome=83.0.4103.61)\n",
      "\n",
      "EXCEPTION:  Message: no such window: target window already closed\n",
      "from unknown error: web view not found\n",
      "  (Session info: chrome=83.0.4103.61)\n",
      "\n",
      "EXCEPTION:  Message: no such window: target window already closed\n",
      "from unknown error: web view not found\n",
      "  (Session info: chrome=83.0.4103.61)\n",
      "\n",
      "EXCEPTION:  Message: no such window: target window already closed\n",
      "from unknown error: web view not found\n",
      "  (Session info: chrome=83.0.4103.61)\n",
      "\n",
      "EXCEPTION:  Message: no such window: target window already closed\n",
      "from unknown error: web view not found\n",
      "  (Session info: chrome=83.0.4103.61)\n",
      "\n",
      "EXCEPTION:  Message: no such window: target window already closed\n",
      "from unknown error: web view not found\n",
      "  (Session info: chrome=83.0.4103.61)\n",
      "\n",
      "EXCEPTION:  Message: no such window: target window already closed\n",
      "from unknown error: web view not found\n",
      "  (Session info: chrome=83.0.4103.61)\n",
      "\n",
      "EXCEPTION:  Message: no such window: target window already closed\n",
      "from unknown error: web view not found\n",
      "  (Session info: chrome=83.0.4103.61)\n",
      "\n",
      "EXCEPTION:  Message: no such window: target window already closed\n",
      "from unknown error: web view not found\n",
      "  (Session info: chrome=83.0.4103.61)\n",
      "\n",
      "EXCEPTION:  Message: no such window: target window already closed\n",
      "from unknown error: web view not found\n",
      "  (Session info: chrome=83.0.4103.61)\n",
      "\n",
      "EXCEPTION:  Message: no such window: target window already closed\n",
      "from unknown error: web view not found\n",
      "  (Session info: chrome=83.0.4103.61)\n",
      "\n",
      "EXCEPTION:  Message: no such window: target window already closed\n",
      "from unknown error: web view not found\n",
      "  (Session info: chrome=83.0.4103.61)\n",
      "\n",
      "EXCEPTION:  Message: no such window: target window already closed\n",
      "from unknown error: web view not found\n",
      "  (Session info: chrome=83.0.4103.61)\n",
      "\n",
      "EXCEPTION:  Message: no such window: target window already closed\n",
      "from unknown error: web view not found\n",
      "  (Session info: chrome=83.0.4103.61)\n",
      "\n",
      "EXCEPTION:  Message: no such window: target window already closed\n",
      "from unknown error: web view not found\n",
      "  (Session info: chrome=83.0.4103.61)\n",
      "\n",
      "EXCEPTION:  Message: no such window: target window already closed\n",
      "from unknown error: web view not found\n",
      "  (Session info: chrome=83.0.4103.61)\n",
      "\n",
      "EXCEPTION:  Message: no such window: target window already closed\n",
      "from unknown error: web view not found\n",
      "  (Session info: chrome=83.0.4103.61)\n",
      "\n",
      "EXCEPTION:  Message: no such window: target window already closed\n",
      "from unknown error: web view not found\n",
      "  (Session info: chrome=83.0.4103.61)\n",
      "\n",
      "EXCEPTION:  Message: no such window: target window already closed\n",
      "from unknown error: web view not found\n",
      "  (Session info: chrome=83.0.4103.61)\n",
      "\n",
      "EXCEPTION:  Message: no such window: target window already closed\n",
      "from unknown error: web view not found\n",
      "  (Session info: chrome=83.0.4103.61)\n",
      "\n",
      "EXCEPTION:  Message: no such window: target window already closed\n",
      "from unknown error: web view not found\n",
      "  (Session info: chrome=83.0.4103.61)\n",
      "\n",
      "EXCEPTION:  Message: no such window: target window already closed\n",
      "from unknown error: web view not found\n",
      "  (Session info: chrome=83.0.4103.61)\n",
      "\n",
      "EXCEPTION:  Message: no such window: target window already closed\n",
      "from unknown error: web view not found\n",
      "  (Session info: chrome=83.0.4103.61)\n",
      "\n",
      "EXCEPTION:  Message: no such window: target window already closed\n",
      "from unknown error: web view not found\n",
      "  (Session info: chrome=83.0.4103.61)\n",
      "\n",
      "EXCEPTION:  Message: no such window: target window already closed\n",
      "from unknown error: web view not found\n",
      "  (Session info: chrome=83.0.4103.61)\n",
      "\n",
      "EXCEPTION:  Message: no such window: target window already closed\n",
      "from unknown error: web view not found\n",
      "  (Session info: chrome=83.0.4103.61)\n",
      "\n",
      "EXCEPTION:  Message: no such window: target window already closed\n",
      "from unknown error: web view not found\n",
      "  (Session info: chrome=83.0.4103.61)\n",
      "\n",
      "EXCEPTION:  Message: no such window: target window already closed\n",
      "from unknown error: web view not found\n",
      "  (Session info: chrome=83.0.4103.61)\n",
      "\n",
      "EXCEPTION:  Message: no such window: target window already closed\n",
      "from unknown error: web view not found\n",
      "  (Session info: chrome=83.0.4103.61)\n",
      "\n",
      "EXCEPTION:  Message: no such window: target window already closed\n",
      "from unknown error: web view not found\n",
      "  (Session info: chrome=83.0.4103.61)\n",
      "\n",
      "EXCEPTION:  Message: no such window: target window already closed\n",
      "from unknown error: web view not found\n",
      "  (Session info: chrome=83.0.4103.61)\n",
      "\n",
      "EXCEPTION:  Message: no such window: target window already closed\n",
      "from unknown error: web view not found\n",
      "  (Session info: chrome=83.0.4103.61)\n",
      "\n",
      "EXCEPTION:  Message: no such window: target window already closed\n",
      "from unknown error: web view not found\n",
      "  (Session info: chrome=83.0.4103.61)\n",
      "\n",
      "Message: chrome not reachable\n",
      "  (Session info: chrome=83.0.4103.61)\n",
      "\n",
      "-------------------------------------------------- 0 -------------------- 10011486407\n",
      "--DRIVER INICIALIZADO\n",
      "****LOAD PAGE*****\n",
      "****PAGE SESSION*****\n",
      "Message: chrome not reachable\n",
      "  (Session info: chrome=83.0.4103.61)\n",
      "\n",
      "-------------------------------------------------- 0 -------------------- 20601768241\n",
      "--DRIVER INICIALIZADO\n",
      "****LOAD PAGE*****\n",
      "****PAGE SESSION*****\n",
      "Message: chrome not reachable\n",
      "  (Session info: chrome=83.0.4103.61)\n",
      "\n",
      "-------------------------------------------------- 0 -------------------- 10477003511\n"
     ]
    }
   ],
   "source": [
    "for ruc in train['RUC']:\n",
    "    try:\n",
    "        print(\"-\"*50, len(train_extra_data), '-'*20, ruc)\n",
    "        if train_extra_data.get(ruc, 0) == 0:\n",
    "            train_extra_data[ruc] = get_info_sunat(ruc)\n",
    "    except:\n",
    "        continue"
   ]
  },
  {
   "cell_type": "code",
   "execution_count": null,
   "metadata": {},
   "outputs": [],
   "source": [
    "for ruc in test['RUC']:\n",
    "    try:\n",
    "        print(\"-\"*50, len(train_extra_data), '-'*20, ruc)\n",
    "        if train_extra_data.get(ruc, 0) == 0:\n",
    "            train_extra_data[ruc] = get_info_sunat(ruc)\n",
    "    except:\n",
    "        continue"
   ]
  },
  {
   "cell_type": "code",
   "execution_count": null,
   "metadata": {},
   "outputs": [],
   "source": [
    "train['extra_list'] = train['RUC'].apply(lambda _: train_extra_data.get(_, []))\n",
    "test['extra_list'] = test['RUC'].apply(lambda _: train_extra_data.get(_, []))"
   ]
  },
  {
   "cell_type": "code",
   "execution_count": null,
   "metadata": {},
   "outputs": [],
   "source": [
    "train.head()"
   ]
  },
  {
   "cell_type": "code",
   "execution_count": null,
   "metadata": {},
   "outputs": [],
   "source": [
    "test.head()"
   ]
  },
  {
   "cell_type": "code",
   "execution_count": null,
   "metadata": {},
   "outputs": [],
   "source": [
    "train.to_csv('train2.csv', index=False)\n",
    "test.to_csv('test2.csv', index=False)"
   ]
  },
  {
   "cell_type": "code",
   "execution_count": null,
   "metadata": {},
   "outputs": [],
   "source": []
  }
 ],
 "metadata": {
  "kernelspec": {
   "display_name": "Python 3",
   "language": "python",
   "name": "python3"
  },
  "language_info": {
   "codemirror_mode": {
    "name": "ipython",
    "version": 3
   },
   "file_extension": ".py",
   "mimetype": "text/x-python",
   "name": "python",
   "nbconvert_exporter": "python",
   "pygments_lexer": "ipython3",
   "version": "3.7.6"
  }
 },
 "nbformat": 4,
 "nbformat_minor": 4
}
