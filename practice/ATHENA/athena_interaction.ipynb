{
 "cells": [
  {
   "cell_type": "code",
   "execution_count": 1,
   "metadata": {},
   "outputs": [
    {
     "data": {
      "text/html": [
       "\n",
       "            <div>\n",
       "                <p><b>SparkSession - hive</b></p>\n",
       "                \n",
       "        <div>\n",
       "            <p><b>SparkContext</b></p>\n",
       "\n",
       "            <p><a href=\"http://172.18.31.34:4040\">Spark UI</a></p>\n",
       "\n",
       "            <dl>\n",
       "              <dt>Version</dt>\n",
       "                <dd><code>v2.3.3</code></dd>\n",
       "              <dt>Master</dt>\n",
       "                <dd><code>local[*]</code></dd>\n",
       "              <dt>AppName</dt>\n",
       "                <dd><code>PySparkShell</code></dd>\n",
       "            </dl>\n",
       "        </div>\n",
       "        \n",
       "            </div>\n",
       "        "
      ],
      "text/plain": [
       "<pyspark.sql.session.SparkSession at 0x7fcbdcf64dd8>"
      ]
     },
     "execution_count": 1,
     "metadata": {},
     "output_type": "execute_result"
    }
   ],
   "source": [
    "import findspark \n",
    "findspark.init()\n",
    "from pyspark.sql import SparkSession\n",
    "from pyspark import SparkConf, SparkContext\n",
    "\n",
    "spark = SparkSession.builder.appName('i_s3_postgres').getOrCreate()\n",
    "spark"
   ]
  },
  {
   "cell_type": "code",
   "execution_count": 2,
   "metadata": {},
   "outputs": [
    {
     "data": {
      "text/html": [
       "\n",
       "        <div>\n",
       "            <p><b>SparkContext</b></p>\n",
       "\n",
       "            <p><a href=\"http://172.18.31.34:4040\">Spark UI</a></p>\n",
       "\n",
       "            <dl>\n",
       "              <dt>Version</dt>\n",
       "                <dd><code>v2.3.3</code></dd>\n",
       "              <dt>Master</dt>\n",
       "                <dd><code>local[*]</code></dd>\n",
       "              <dt>AppName</dt>\n",
       "                <dd><code>PySparkShell</code></dd>\n",
       "            </dl>\n",
       "        </div>\n",
       "        "
      ],
      "text/plain": [
       "<SparkContext master=local[*] appName=PySparkShell>"
      ]
     },
     "execution_count": 2,
     "metadata": {},
     "output_type": "execute_result"
    }
   ],
   "source": [
    "from pyspark import SparkContext\n",
    "sc = SparkContext.getOrCreate()\n",
    "sc"
   ]
  },
  {
   "cell_type": "code",
   "execution_count": 3,
   "metadata": {},
   "outputs": [],
   "source": [
    "import os\n",
    "import configparser\n",
    "\n",
    "#os.environ['PYSPARK_SUBMIT_ARGS'] = '--packages \"org.apache.hadoop:hadoop-aws:2.7.6\" pyspark-shell'\n",
    "\n",
    "config = configparser.ConfigParser()\n",
    "config.read(os.path.expanduser(\"~/.aws/credentials\"))\n",
    "\n",
    "aws_profile = 'default'\n",
    "access_key = config.get(aws_profile, \"aws_access_key_id\").replace(\"'\", \"\")\n",
    "secret_key = config.get(aws_profile, \"aws_secret_access_key\").replace(\"'\", \"\")\n",
    "\n",
    "sc._jsc.hadoopConfiguration().set(\"fs.s3n.awsAccessKeyId\", access_key)\n",
    "sc._jsc.hadoopConfiguration().set(\"fs.s3n.awsSecretAccessKey\", secret_key)\n",
    "sc._jsc.hadoopConfiguration().set(\"fs.s3a.access.key\", access_key)\n",
    "sc._jsc.hadoopConfiguration().set(\"fs.s3a.secret.key\", secret_key)\n"
   ]
  },
  {
   "cell_type": "code",
   "execution_count": 4,
   "metadata": {},
   "outputs": [
    {
     "name": "stdout",
     "output_type": "stream",
     "text": [
      "+----------+-------------+---+\n",
      "|       dia|page_avg_time|mes|\n",
      "+----------+-------------+---+\n",
      "|2018-12-18|           61| 12|\n",
      "|2018-12-18|           44| 12|\n",
      "|2018-12-18|            0| 12|\n",
      "|2018-12-18|           67| 12|\n",
      "|2018-12-18|           15| 12|\n",
      "|2018-12-18|           39| 12|\n",
      "|2018-12-18|            0| 12|\n",
      "|2018-12-18|           24| 12|\n",
      "|2018-12-18|            0| 12|\n",
      "|2018-12-18|           40| 12|\n",
      "|2018-12-18|           15| 12|\n",
      "|2018-12-18|           79| 12|\n",
      "|2018-12-18|          131| 12|\n",
      "|2018-12-18|            0| 12|\n",
      "|2018-12-18|           20| 12|\n",
      "|2018-12-18|           19| 12|\n",
      "|2018-12-18|            5| 12|\n",
      "|2018-12-18|           10| 12|\n",
      "|2018-12-18|           26| 12|\n",
      "|2018-12-18|           29| 12|\n",
      "+----------+-------------+---+\n",
      "only showing top 20 rows\n",
      "\n",
      "CPU times: user 14.3 ms, sys: 2.18 ms, total: 16.5 ms\n",
      "Wall time: 40.4 s\n"
     ]
    }
   ],
   "source": [
    "%%time\n",
    "bucket_name = \"attemp-glue\"\n",
    "key_file = \"gestion.pe/2018/12/*.csv\"\n",
    "path_csv_spark = 's3n://{}/{}'.format(bucket_name, key_file)\n",
    "\n",
    "\n",
    "opts = {'header': True, 'sep': ',', 'inferSchema':False}\n",
    "df_csv = spark.read.csv(\n",
    "    path_csv_spark, **opts\n",
    ")\n",
    "df_csv.show()"
   ]
  },
  {
   "cell_type": "code",
   "execution_count": 5,
   "metadata": {},
   "outputs": [
    {
     "data": {
      "text/plain": [
       "['dia', 'page_avg_time', 'mes']"
      ]
     },
     "execution_count": 5,
     "metadata": {},
     "output_type": "execute_result"
    }
   ],
   "source": [
    "df_csv.columns"
   ]
  },
  {
   "cell_type": "code",
   "execution_count": 6,
   "metadata": {},
   "outputs": [
    {
     "name": "stdout",
     "output_type": "stream",
     "text": [
      "['__class__', '__delattr__', '__dict__', '__dir__', '__doc__', '__eq__', '__format__', '__ge__', '__getattribute__', '__gt__', '__hash__', '__init__', '__init_subclass__', '__le__', '__lt__', '__module__', '__ne__', '__new__', '__reduce__', '__reduce_ex__', '__repr__', '__setattr__', '__sizeof__', '__str__', '__subclasshook__', '__weakref__', '_df', '_jwrite', '_set_opts', '_spark', '_sq', 'bucketBy', 'csv', 'format', 'insertInto', 'jdbc', 'json', 'mode', 'option', 'options', 'orc', 'parquet', 'partitionBy', 'save', 'saveAsTable', 'sortBy', 'text']\n"
     ]
    }
   ],
   "source": [
    "print(dir(df_csv.write.partitionBy()))"
   ]
  },
  {
   "cell_type": "code",
   "execution_count": 16,
   "metadata": {},
   "outputs": [
    {
     "name": "stdout",
     "output_type": "stream",
     "text": [
      "s3a://athena-attemp/\n"
     ]
    }
   ],
   "source": [
    "bucket_output = \"athena-attemp\"\n",
    "path_output_spark = 's3a://{}/'.format(bucket_output)\n",
    "print(path_output_spark)\n",
    "\n",
    "\"\"\"\n",
    "df_csv.\\\n",
    "    write.\\\n",
    "    partitionBy(\"dia\").\\\n",
    "    mode('overwrite').\\\n",
    "    save(path=path_output_spark, format='parquet')\n",
    "\"\"\"\n",
    "\n",
    "df_csv.write.partitionBy(\"dia\").parquet(path_output_spark, mode=\"overwrite\")"
   ]
  },
  {
   "cell_type": "code",
   "execution_count": null,
   "metadata": {},
   "outputs": [],
   "source": []
  }
 ],
 "metadata": {
  "kernelspec": {
   "display_name": "Python 3",
   "language": "python",
   "name": "python3"
  },
  "language_info": {
   "codemirror_mode": {
    "name": "ipython",
    "version": 3
   },
   "file_extension": ".py",
   "mimetype": "text/x-python",
   "name": "python",
   "nbconvert_exporter": "python",
   "pygments_lexer": "ipython3",
   "version": "3.6.8"
  }
 },
 "nbformat": 4,
 "nbformat_minor": 2
}
