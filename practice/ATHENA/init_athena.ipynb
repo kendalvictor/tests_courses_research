{
 "cells": [
  {
   "cell_type": "code",
   "execution_count": 1,
   "metadata": {},
   "outputs": [],
   "source": [
    "import boto3\n",
    "\n",
    "def run_query(query, database, s3_output):\n",
    "    client_athena = boto3.client('athena', region_name = 'us-east-1')\n",
    "    response = client_athena.start_query_execution(\n",
    "        QueryString=query,\n",
    "        QueryExecutionContext={\n",
    "            'Database': database\n",
    "            },\n",
    "        ResultConfiguration={\n",
    "            'OutputLocation': s3_output,\n",
    "            }\n",
    "        )\n",
    "    return response"
   ]
  },
  {
   "cell_type": "code",
   "execution_count": 2,
   "metadata": {},
   "outputs": [
    {
     "data": {
      "text/plain": [
       "'0.24.1'"
      ]
     },
     "execution_count": 2,
     "metadata": {},
     "output_type": "execute_result"
    }
   ],
   "source": [
    "import pandas as pd\n",
    "import pyarrow\n",
    "import pandasglue as pg\n",
    "pd.__version__"
   ]
  },
  {
   "cell_type": "code",
   "execution_count": 4,
   "metadata": {},
   "outputs": [
    {
     "name": "stdout",
     "output_type": "stream",
     "text": [
      "CPU times: user 735 ms, sys: 97.7 ms, total: 833 ms\n",
      "Wall time: 18.2 s\n"
     ]
    }
   ],
   "source": [
    "%%time\n",
    "# FORMAT PARQUET FROM PANDAS\n",
    "client_s3 = boto3.client('s3')\n",
    "s3 = boto3.resource('s3')\n",
    "bucket_name = 'attemp-glue'\n",
    "bucket_csv = s3.Bucket(bucket_name)\n",
    "marca = 'gestion.pe'\n",
    "\n",
    "key_input = '{0}/2018/12'.format(marca)\n",
    "bucket_output = 'athena-attemp'\n",
    "\n",
    "# CREO UN DATAFRAME CON TODOS LOS DIAS DEL MES\n",
    "list_df = []\n",
    "for obj in bucket_csv.objects.filter(Prefix=key_input):\n",
    "    key = obj.key\n",
    "    url_up = 'https://s3-us-west-1.amazonaws.com/{}/{}'.format(bucket_name, key)\n",
    "    list_df.append(\n",
    "        pd.read_csv(url_up)\n",
    "    )\n",
    "\n",
    "all_data_df = pd.concat(list_df)\n",
    "del list_df"
   ]
  },
  {
   "cell_type": "code",
   "execution_count": 5,
   "metadata": {},
   "outputs": [
    {
     "data": {
      "text/html": [
       "<div>\n",
       "<style scoped>\n",
       "    .dataframe tbody tr th:only-of-type {\n",
       "        vertical-align: middle;\n",
       "    }\n",
       "\n",
       "    .dataframe tbody tr th {\n",
       "        vertical-align: top;\n",
       "    }\n",
       "\n",
       "    .dataframe thead th {\n",
       "        text-align: right;\n",
       "    }\n",
       "</style>\n",
       "<table border=\"1\" class=\"dataframe\">\n",
       "  <thead>\n",
       "    <tr style=\"text-align: right;\">\n",
       "      <th></th>\n",
       "      <th>dia</th>\n",
       "      <th>page_avg_time</th>\n",
       "      <th>mes</th>\n",
       "    </tr>\n",
       "  </thead>\n",
       "  <tbody>\n",
       "    <tr>\n",
       "      <th>0</th>\n",
       "      <td>2018-12-18</td>\n",
       "      <td>61</td>\n",
       "      <td>12</td>\n",
       "    </tr>\n",
       "    <tr>\n",
       "      <th>1</th>\n",
       "      <td>2018-12-18</td>\n",
       "      <td>44</td>\n",
       "      <td>12</td>\n",
       "    </tr>\n",
       "    <tr>\n",
       "      <th>2</th>\n",
       "      <td>2018-12-18</td>\n",
       "      <td>0</td>\n",
       "      <td>12</td>\n",
       "    </tr>\n",
       "    <tr>\n",
       "      <th>3</th>\n",
       "      <td>2018-12-18</td>\n",
       "      <td>67</td>\n",
       "      <td>12</td>\n",
       "    </tr>\n",
       "    <tr>\n",
       "      <th>4</th>\n",
       "      <td>2018-12-18</td>\n",
       "      <td>15</td>\n",
       "      <td>12</td>\n",
       "    </tr>\n",
       "  </tbody>\n",
       "</table>\n",
       "</div>"
      ],
      "text/plain": [
       "          dia  page_avg_time  mes\n",
       "0  2018-12-18             61   12\n",
       "1  2018-12-18             44   12\n",
       "2  2018-12-18              0   12\n",
       "3  2018-12-18             67   12\n",
       "4  2018-12-18             15   12"
      ]
     },
     "execution_count": 5,
     "metadata": {},
     "output_type": "execute_result"
    }
   ],
   "source": [
    "all_data_df.head()"
   ]
  },
  {
   "cell_type": "code",
   "execution_count": 6,
   "metadata": {},
   "outputs": [],
   "source": [
    "# PASO EL CONTENIDO DE MI DATAFRAME A FORMATO \n",
    "# PARQUET PARTICIONADO POR LA COLUMNA DIA EN COMPRESION SNAPPY\n",
    "\n",
    "all_data_df.to_parquet(\n",
    "    marca, engine='auto', compression='snappy', index=None, partition_cols=['dia']\n",
    ")"
   ]
  },
  {
   "cell_type": "code",
   "execution_count": 7,
   "metadata": {},
   "outputs": [],
   "source": [
    "# SUBO LOS ARCHIVOS EN FORMATO PARQUET A UN BUCKET\n",
    "import glob\n",
    "path_dir_parquet = '/home/rmg/STORAGE/tests_courses/practice/ATHENA/gestion.pe'\n",
    "\n",
    "for filename in glob.iglob(path_dir_parquet + '/**/*.parquet', recursive=True):\n",
    "    client_s3.upload_file(\n",
    "        filename, bucket_output, filename.split('ATHENA/')[-1].replace('dia=', 'date_part='),\n",
    "        ExtraArgs={'ACL': 'public-read'}\n",
    "    )\n",
    "# OJO: Se cambia la particion dia por el nombre date_part para que sea compatible con HIVE"
   ]
  },
  {
   "cell_type": "code",
   "execution_count": null,
   "metadata": {},
   "outputs": [],
   "source": []
  },
  {
   "cell_type": "code",
   "execution_count": 23,
   "metadata": {},
   "outputs": [
    {
     "name": "stdout",
     "output_type": "stream",
     "text": [
      "s3://athena-attemp/gestion.pe/\n",
      "s3://athena-db-table\n",
      "CPU times: user 57.8 ms, sys: 7.11 ms, total: 64.9 ms\n",
      "Wall time: 877 ms\n"
     ]
    }
   ],
   "source": [
    "%%time\n",
    "import time\n",
    "\n",
    "bucket_db = 'athena-db-table'\n",
    "\n",
    "s3_input = 's3://{0}/{1}/'.format(bucket_output, marca)\n",
    "s3_ouput = 's3://{0}'.format(bucket_db)\n",
    "\n",
    "print(s3_input)\n",
    "print(s3_ouput)\n",
    "database = 'athenatest'\n",
    "table = 'charbeat2'\n",
    "\n",
    "create_database = \"CREATE DATABASE IF NOT EXISTS {0};\".format(database)\n",
    "res_1 = run_query(create_database, database, s3_ouput)\n",
    "res_1"
   ]
  },
  {
   "cell_type": "code",
   "execution_count": 24,
   "metadata": {},
   "outputs": [
    {
     "data": {
      "text/plain": [
       "('athenatest', 'charbeat2', 's3://athena-attemp/gestion.pe/')"
      ]
     },
     "execution_count": 24,
     "metadata": {},
     "output_type": "execute_result"
    }
   ],
   "source": [
    "database, table, s3_input"
   ]
  },
  {
   "cell_type": "code",
   "execution_count": 25,
   "metadata": {},
   "outputs": [
    {
     "name": "stdout",
     "output_type": "stream",
     "text": [
      "\n",
      "CREATE EXTERNAL TABLE IF NOT EXISTS athenatest.charbeat2(  \n",
      "dia STRING,\n",
      "mes INT,\n",
      "page_avg_time INT\n",
      ")\n",
      "PARTITIONED BY (date_part STRING)\n",
      "STORED AS PARQUET\n",
      "LOCATION 's3://athena-attemp/gestion.pe/';\n",
      "\n",
      "{'QueryExecutionId': 'b86f7951-3f73-44d6-9162-9a0d7443a190', 'ResponseMetadata': {'RequestId': '19557d11-addc-467a-8872-07358a142066', 'HTTPStatusCode': 200, 'HTTPHeaders': {'content-type': 'application/x-amz-json-1.1', 'date': 'Wed, 27 Mar 2019 19:41:25 GMT', 'x-amzn-requestid': '19557d11-addc-467a-8872-07358a142066', 'content-length': '59', 'connection': 'keep-alive'}, 'RetryAttempts': 0}}\n"
     ]
    }
   ],
   "source": [
    "create_table = \\\n",
    "\"\"\"\n",
    "CREATE EXTERNAL TABLE IF NOT EXISTS {0}.{1}(  \n",
    "dia STRING,\n",
    "mes INT,\n",
    "page_avg_time INT\n",
    ")\n",
    "PARTITIONED BY (date_part STRING)\n",
    "STORED AS PARQUET\n",
    "LOCATION '{2}';\n",
    "\"\"\".format(database, table, s3_input)\n",
    "print(create_table)\n",
    "\n",
    "res = run_query(create_table, database, s3_ouput)\n",
    "print(res)"
   ]
  },
  {
   "cell_type": "code",
   "execution_count": 26,
   "metadata": {},
   "outputs": [
    {
     "data": {
      "text/plain": [
       "'b86f7951-3f73-44d6-9162-9a0d7443a190'"
      ]
     },
     "execution_count": 26,
     "metadata": {},
     "output_type": "execute_result"
    }
   ],
   "source": [
    "create_execution = res.get('QueryExecutionId', '')\n",
    "create_execution"
   ]
  },
  {
   "cell_type": "code",
   "execution_count": 27,
   "metadata": {},
   "outputs": [
    {
     "data": {
      "text/plain": [
       "{'QueryExecution': {'QueryExecutionId': 'b86f7951-3f73-44d6-9162-9a0d7443a190',\n",
       "  'Query': \"CREATE EXTERNAL TABLE IF NOT EXISTS athenatest.charbeat2(  \\ndia STRING,\\nmes INT,\\npage_avg_time INT\\n)\\nPARTITIONED BY (date_part STRING)\\nSTORED AS PARQUET\\nLOCATION 's3://athena-attemp/gestion.pe/'\",\n",
       "  'StatementType': 'DDL',\n",
       "  'ResultConfiguration': {'OutputLocation': 's3://athena-db-table/b86f7951-3f73-44d6-9162-9a0d7443a190.txt'},\n",
       "  'QueryExecutionContext': {'Database': 'athenatest'},\n",
       "  'Status': {'State': 'SUCCEEDED',\n",
       "   'SubmissionDateTime': datetime.datetime(2019, 3, 27, 14, 41, 25, 814000, tzinfo=tzlocal()),\n",
       "   'CompletionDateTime': datetime.datetime(2019, 3, 27, 14, 41, 26, 232000, tzinfo=tzlocal())},\n",
       "  'Statistics': {'EngineExecutionTimeInMillis': 340, 'DataScannedInBytes': 0}},\n",
       " 'ResponseMetadata': {'RequestId': 'aafefed8-8e37-4c39-aaec-f860f560f848',\n",
       "  'HTTPStatusCode': 200,\n",
       "  'HTTPHeaders': {'content-type': 'application/x-amz-json-1.1',\n",
       "   'date': 'Wed, 27 Mar 2019 19:41:44 GMT',\n",
       "   'x-amzn-requestid': 'aafefed8-8e37-4c39-aaec-f860f560f848',\n",
       "   'content-length': '1456',\n",
       "   'connection': 'keep-alive'},\n",
       "  'RetryAttempts': 0}}"
      ]
     },
     "execution_count": 27,
     "metadata": {},
     "output_type": "execute_result"
    }
   ],
   "source": [
    "client_athena = boto3.client('athena', region_name = 'us-east-1')\n",
    "response = client_athena.get_query_execution(QueryExecutionId=create_execution)\n",
    "response"
   ]
  },
  {
   "cell_type": "code",
   "execution_count": 28,
   "metadata": {},
   "outputs": [
    {
     "data": {
      "text/plain": [
       "{'QueryExecutionId': '78a1aba7-6f94-4424-bb45-31027e5f8999',\n",
       " 'ResponseMetadata': {'RequestId': '89b36f42-832b-4573-a569-53dff507b745',\n",
       "  'HTTPStatusCode': 200,\n",
       "  'HTTPHeaders': {'content-type': 'application/x-amz-json-1.1',\n",
       "   'date': 'Wed, 27 Mar 2019 19:42:08 GMT',\n",
       "   'x-amzn-requestid': '89b36f42-832b-4573-a569-53dff507b745',\n",
       "   'content-length': '59',\n",
       "   'connection': 'keep-alive'},\n",
       "  'RetryAttempts': 0}}"
      ]
     },
     "execution_count": 28,
     "metadata": {},
     "output_type": "execute_result"
    }
   ],
   "source": [
    "msck_table = 'MSCK REPAIR TABLE {0}.{1};'.format(database, table)\n",
    "res_msck = run_query(msck_table, database, s3_ouput)\n",
    "res_msck"
   ]
  },
  {
   "cell_type": "code",
   "execution_count": 29,
   "metadata": {},
   "outputs": [
    {
     "data": {
      "text/plain": [
       "'78a1aba7-6f94-4424-bb45-31027e5f8999'"
      ]
     },
     "execution_count": 29,
     "metadata": {},
     "output_type": "execute_result"
    }
   ],
   "source": [
    "msck_execution = res_msck.get('QueryExecutionId', '')\n",
    "msck_execution"
   ]
  },
  {
   "cell_type": "code",
   "execution_count": 30,
   "metadata": {},
   "outputs": [
    {
     "data": {
      "text/plain": [
       "{'QueryExecution': {'QueryExecutionId': '78a1aba7-6f94-4424-bb45-31027e5f8999',\n",
       "  'Query': 'MSCK REPAIR TABLE athenatest.charbeat2',\n",
       "  'StatementType': 'DDL',\n",
       "  'ResultConfiguration': {'OutputLocation': 's3://athena-db-table/78a1aba7-6f94-4424-bb45-31027e5f8999.txt'},\n",
       "  'QueryExecutionContext': {'Database': 'athenatest'},\n",
       "  'Status': {'State': 'SUCCEEDED',\n",
       "   'SubmissionDateTime': datetime.datetime(2019, 3, 27, 14, 42, 8, 739000, tzinfo=tzlocal()),\n",
       "   'CompletionDateTime': datetime.datetime(2019, 3, 27, 14, 42, 12, 199000, tzinfo=tzlocal())},\n",
       "  'Statistics': {'EngineExecutionTimeInMillis': 3176,\n",
       "   'DataScannedInBytes': 0}},\n",
       " 'ResponseMetadata': {'RequestId': 'ec6a31fd-b0a3-4a46-8725-c715d1b1637e',\n",
       "  'HTTPStatusCode': 200,\n",
       "  'HTTPHeaders': {'content-type': 'application/x-amz-json-1.1',\n",
       "   'date': 'Wed, 27 Mar 2019 19:42:13 GMT',\n",
       "   'x-amzn-requestid': 'ec6a31fd-b0a3-4a46-8725-c715d1b1637e',\n",
       "   'content-length': '1132',\n",
       "   'connection': 'keep-alive'},\n",
       "  'RetryAttempts': 0}}"
      ]
     },
     "execution_count": 30,
     "metadata": {},
     "output_type": "execute_result"
    }
   ],
   "source": [
    "response_msck = client_athena.get_query_execution(QueryExecutionId=msck_execution)\n",
    "response_msck"
   ]
  },
  {
   "cell_type": "code",
   "execution_count": 31,
   "metadata": {},
   "outputs": [
    {
     "data": {
      "text/plain": [
       "{'QueryExecutionId': 'c12e33af-86c7-4cec-b5d9-fc22bcf54f0c',\n",
       " 'ResponseMetadata': {'RequestId': '9318ebbb-b6e1-4ad7-90a0-146d2d58774d',\n",
       "  'HTTPStatusCode': 200,\n",
       "  'HTTPHeaders': {'content-type': 'application/x-amz-json-1.1',\n",
       "   'date': 'Wed, 27 Mar 2019 19:42:21 GMT',\n",
       "   'x-amzn-requestid': '9318ebbb-b6e1-4ad7-90a0-146d2d58774d',\n",
       "   'content-length': '59',\n",
       "   'connection': 'keep-alive'},\n",
       "  'RetryAttempts': 0}}"
      ]
     },
     "execution_count": 31,
     "metadata": {},
     "output_type": "execute_result"
    }
   ],
   "source": [
    "query_all = \"SELECT * FROM {}.{}\".format(database, table)\n",
    "res_query = run_query(query_all, database, s3_ouput)\n",
    "res_query"
   ]
  },
  {
   "cell_type": "code",
   "execution_count": 32,
   "metadata": {},
   "outputs": [
    {
     "data": {
      "text/plain": [
       "'c12e33af-86c7-4cec-b5d9-fc22bcf54f0c'"
      ]
     },
     "execution_count": 32,
     "metadata": {},
     "output_type": "execute_result"
    }
   ],
   "source": [
    "query_execution = res_query.get('QueryExecutionId', '')\n",
    "query_execution"
   ]
  },
  {
   "cell_type": "code",
   "execution_count": 33,
   "metadata": {},
   "outputs": [
    {
     "data": {
      "text/plain": [
       "{'QueryExecution': {'QueryExecutionId': 'c12e33af-86c7-4cec-b5d9-fc22bcf54f0c',\n",
       "  'Query': 'SELECT * FROM athenatest.charbeat2',\n",
       "  'StatementType': 'DML',\n",
       "  'ResultConfiguration': {'OutputLocation': 's3://athena-db-table/c12e33af-86c7-4cec-b5d9-fc22bcf54f0c.csv'},\n",
       "  'QueryExecutionContext': {'Database': 'athenatest'},\n",
       "  'Status': {'State': 'SUCCEEDED',\n",
       "   'SubmissionDateTime': datetime.datetime(2019, 3, 27, 14, 42, 22, 511000, tzinfo=tzlocal()),\n",
       "   'CompletionDateTime': datetime.datetime(2019, 3, 27, 14, 42, 25, 561000, tzinfo=tzlocal())},\n",
       "  'Statistics': {'EngineExecutionTimeInMillis': 2719,\n",
       "   'DataScannedInBytes': 201876}},\n",
       " 'ResponseMetadata': {'RequestId': '4839499d-322d-4b15-b6a9-f4344e8505bc',\n",
       "  'HTTPStatusCode': 200,\n",
       "  'HTTPHeaders': {'content-type': 'application/x-amz-json-1.1',\n",
       "   'date': 'Wed, 27 Mar 2019 19:42:30 GMT',\n",
       "   'x-amzn-requestid': '4839499d-322d-4b15-b6a9-f4344e8505bc',\n",
       "   'content-length': '1150',\n",
       "   'connection': 'keep-alive'},\n",
       "  'RetryAttempts': 0}}"
      ]
     },
     "execution_count": 33,
     "metadata": {},
     "output_type": "execute_result"
    }
   ],
   "source": [
    "response_query = client_athena.get_query_execution(QueryExecutionId=query_execution)\n",
    "response_query"
   ]
  },
  {
   "cell_type": "code",
   "execution_count": 36,
   "metadata": {},
   "outputs": [
    {
     "data": {
      "text/plain": [
       "'s3://athena-db-table/c12e33af-86c7-4cec-b5d9-fc22bcf54f0c.csv'"
      ]
     },
     "execution_count": 36,
     "metadata": {},
     "output_type": "execute_result"
    }
   ],
   "source": [
    "result_url = response_query.get('QueryExecution', {}).get('ResultConfiguration', {}).get('OutputLocation', '')\n",
    "result_url"
   ]
  },
  {
   "cell_type": "code",
   "execution_count": 37,
   "metadata": {},
   "outputs": [
    {
     "data": {
      "text/html": [
       "<div>\n",
       "<style scoped>\n",
       "    .dataframe tbody tr th:only-of-type {\n",
       "        vertical-align: middle;\n",
       "    }\n",
       "\n",
       "    .dataframe tbody tr th {\n",
       "        vertical-align: top;\n",
       "    }\n",
       "\n",
       "    .dataframe thead th {\n",
       "        text-align: right;\n",
       "    }\n",
       "</style>\n",
       "<table border=\"1\" class=\"dataframe\">\n",
       "  <thead>\n",
       "    <tr style=\"text-align: right;\">\n",
       "      <th></th>\n",
       "      <th>dia</th>\n",
       "      <th>mes</th>\n",
       "      <th>page_avg_time</th>\n",
       "      <th>date_part</th>\n",
       "    </tr>\n",
       "  </thead>\n",
       "  <tbody>\n",
       "    <tr>\n",
       "      <th>0</th>\n",
       "      <td>NaN</td>\n",
       "      <td>12</td>\n",
       "      <td>0</td>\n",
       "      <td>2018-12-31</td>\n",
       "    </tr>\n",
       "    <tr>\n",
       "      <th>1</th>\n",
       "      <td>NaN</td>\n",
       "      <td>12</td>\n",
       "      <td>10</td>\n",
       "      <td>2018-12-31</td>\n",
       "    </tr>\n",
       "    <tr>\n",
       "      <th>2</th>\n",
       "      <td>NaN</td>\n",
       "      <td>12</td>\n",
       "      <td>17</td>\n",
       "      <td>2018-12-31</td>\n",
       "    </tr>\n",
       "    <tr>\n",
       "      <th>3</th>\n",
       "      <td>NaN</td>\n",
       "      <td>12</td>\n",
       "      <td>79</td>\n",
       "      <td>2018-12-31</td>\n",
       "    </tr>\n",
       "    <tr>\n",
       "      <th>4</th>\n",
       "      <td>NaN</td>\n",
       "      <td>12</td>\n",
       "      <td>14</td>\n",
       "      <td>2018-12-31</td>\n",
       "    </tr>\n",
       "  </tbody>\n",
       "</table>\n",
       "</div>"
      ],
      "text/plain": [
       "   dia  mes  page_avg_time   date_part\n",
       "0  NaN   12              0  2018-12-31\n",
       "1  NaN   12             10  2018-12-31\n",
       "2  NaN   12             17  2018-12-31\n",
       "3  NaN   12             79  2018-12-31\n",
       "4  NaN   12             14  2018-12-31"
      ]
     },
     "execution_count": 37,
     "metadata": {},
     "output_type": "execute_result"
    }
   ],
   "source": [
    "df_result = pd.read_csv(result_url)\n",
    "df_result.head()"
   ]
  },
  {
   "cell_type": "code",
   "execution_count": 38,
   "metadata": {},
   "outputs": [
    {
     "data": {
      "text/plain": [
       "(178242, 4)"
      ]
     },
     "execution_count": 38,
     "metadata": {},
     "output_type": "execute_result"
    }
   ],
   "source": [
    "df_result.shape"
   ]
  },
  {
   "cell_type": "code",
   "execution_count": null,
   "metadata": {},
   "outputs": [],
   "source": []
  }
 ],
 "metadata": {
  "kernelspec": {
   "display_name": "Python 3",
   "language": "python",
   "name": "python3"
  },
  "language_info": {
   "codemirror_mode": {
    "name": "ipython",
    "version": 3
   },
   "file_extension": ".py",
   "mimetype": "text/x-python",
   "name": "python",
   "nbconvert_exporter": "python",
   "pygments_lexer": "ipython3",
   "version": "3.6.8"
  }
 },
 "nbformat": 4,
 "nbformat_minor": 2
}
