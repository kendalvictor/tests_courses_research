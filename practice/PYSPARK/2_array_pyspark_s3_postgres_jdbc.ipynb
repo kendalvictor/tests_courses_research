{
 "cells": [
  {
   "cell_type": "code",
   "execution_count": 2,
   "metadata": {},
   "outputs": [
    {
     "data": {
      "text/html": [
       "\n",
       "            <div>\n",
       "                <p><b>SparkSession - in-memory</b></p>\n",
       "                \n",
       "        <div>\n",
       "            <p><b>SparkContext</b></p>\n",
       "\n",
       "            <p><a href=\"http://172.18.31.34:4041\">Spark UI</a></p>\n",
       "\n",
       "            <dl>\n",
       "              <dt>Version</dt>\n",
       "                <dd><code>v2.3.3</code></dd>\n",
       "              <dt>Master</dt>\n",
       "                <dd><code>local[2]</code></dd>\n",
       "              <dt>AppName</dt>\n",
       "                <dd><code>i_s3_postgres</code></dd>\n",
       "            </dl>\n",
       "        </div>\n",
       "        \n",
       "            </div>\n",
       "        "
      ],
      "text/plain": [
       "<pyspark.sql.session.SparkSession at 0x7f52d9192b70>"
      ]
     },
     "execution_count": 2,
     "metadata": {},
     "output_type": "execute_result"
    }
   ],
   "source": [
    "import findspark \n",
    "findspark.init()\n",
    "from pyspark.sql import SparkSession\n",
    "from pyspark import SparkConf, SparkContext\n",
    "\n",
    "spark = SparkSession.builder.appName('i_s3_postgres').getOrCreate()\n",
    "spark"
   ]
  },
  {
   "cell_type": "code",
   "execution_count": 3,
   "metadata": {},
   "outputs": [
    {
     "data": {
      "text/html": [
       "\n",
       "        <div>\n",
       "            <p><b>SparkContext</b></p>\n",
       "\n",
       "            <p><a href=\"http://172.18.31.34:4041\">Spark UI</a></p>\n",
       "\n",
       "            <dl>\n",
       "              <dt>Version</dt>\n",
       "                <dd><code>v2.3.3</code></dd>\n",
       "              <dt>Master</dt>\n",
       "                <dd><code>local[2]</code></dd>\n",
       "              <dt>AppName</dt>\n",
       "                <dd><code>i_s3_postgres</code></dd>\n",
       "            </dl>\n",
       "        </div>\n",
       "        "
      ],
      "text/plain": [
       "<SparkContext master=local[2] appName=i_s3_postgres>"
      ]
     },
     "execution_count": 3,
     "metadata": {},
     "output_type": "execute_result"
    }
   ],
   "source": [
    "from pyspark import SparkContext\n",
    "sc = SparkContext.getOrCreate()\n",
    "sc"
   ]
  },
  {
   "cell_type": "code",
   "execution_count": 4,
   "metadata": {},
   "outputs": [
    {
     "name": "stdout",
     "output_type": "stream",
     "text": [
      "+----------+----+-----+---+-------------+---------------+------------------+---------------+----------+----------------+------------------+\n",
      "|article_id|path|order|dia|page_avg_time|page_avg_scroll|page_scroll_starts|page_total_time|page_views|page_views_loyal|page_views_quality|\n",
      "+----------+----+-----+---+-------------+---------------+------------------+---------------+----------+----------------+------------------+\n",
      "+----------+----+-----+---+-------------+---------------+------------------+---------------+----------+----------------+------------------+\n",
      "\n"
     ]
    }
   ],
   "source": [
    "db_name = 'innovation'\n",
    "user = 'innovation'\n",
    "password = 'innovation'\n",
    "table_name = 'quipu_traficmodelk'\n",
    "\n",
    "url = \"jdbc:postgresql://localhost:5432/{}\".format(db_name)\n",
    "credentials = {\n",
    "    'user' : user, 'password' : password\n",
    "}\n",
    "connection_db = {\n",
    "    'url': url, 'table': table_name, 'properties': credentials\n",
    "}\n",
    "df_postgres = spark.read.jdbc(**connection_db)\n",
    "df_postgres = df_postgres.select([c for c in df_postgres.columns if c not in ['id']])\n",
    "df_postgres.show()"
   ]
  },
  {
   "cell_type": "code",
   "execution_count": 6,
   "metadata": {},
   "outputs": [
    {
     "name": "stdout",
     "output_type": "stream",
     "text": [
      "root\n",
      " |-- article_id: integer (nullable = true)\n",
      " |-- path: string (nullable = true)\n",
      " |-- order: integer (nullable = true)\n",
      " |-- dia: array (nullable = true)\n",
      " |    |-- element: timestamp (containsNull = true)\n",
      " |-- page_avg_time: array (nullable = true)\n",
      " |    |-- element: integer (containsNull = true)\n",
      " |-- page_avg_scroll: array (nullable = true)\n",
      " |    |-- element: integer (containsNull = true)\n",
      " |-- page_scroll_starts: array (nullable = true)\n",
      " |    |-- element: integer (containsNull = true)\n",
      " |-- page_total_time: array (nullable = true)\n",
      " |    |-- element: integer (containsNull = true)\n",
      " |-- page_views: array (nullable = true)\n",
      " |    |-- element: integer (containsNull = true)\n",
      " |-- page_views_loyal: array (nullable = true)\n",
      " |    |-- element: integer (containsNull = true)\n",
      " |-- page_views_quality: array (nullable = true)\n",
      " |    |-- element: integer (containsNull = true)\n",
      "\n"
     ]
    }
   ],
   "source": [
    "df_postgres.printSchema()"
   ]
  },
  {
   "cell_type": "code",
   "execution_count": 7,
   "metadata": {},
   "outputs": [],
   "source": [
    "import os\n",
    "import configparser\n",
    "\n",
    "# os.environ['PYSPARK_SUBMIT_ARGS'] = '--packages \"org.apache.hadoop:hadoop-aws:2.7.6\" pyspark-shell'\n",
    "\n",
    "config = configparser.ConfigParser()\n",
    "config.read(os.path.expanduser(\"~/.aws/credentials\"))\n",
    "\n",
    "aws_profile = 'default'\n",
    "access_key = config.get(aws_profile, \"aws_access_key_id\") \n",
    "secret_key = config.get(aws_profile, \"aws_secret_access_key\")"
   ]
  },
  {
   "cell_type": "code",
   "execution_count": 8,
   "metadata": {},
   "outputs": [
    {
     "name": "stdout",
     "output_type": "stream",
     "text": [
      "+--------------------+---------------+-------------+------------------+---------------+------------+----------+----------------+------------------+----------+-------------------+\n",
      "|                path|page_avg_scroll|page_avg_time|page_scroll_starts|page_total_time|page_uniques|page_views|page_views_loyal|page_views_quality|article_id|                dia|\n",
      "+--------------------+---------------+-------------+------------------+---------------+------------+----------+----------------+------------------+----------+-------------------+\n",
      "|archivo.gestion.p...|              0|           53|                 0|             53|           1|         1|               0|                 1|   2197561|2019-02-19 00:00:00|\n",
      "|archivo.gestion.p...|            471|            6|                 0|             20|           3|         3|               0|                 1|     10000|2019-02-19 00:00:00|\n",
      "|archivo.gestion.p...|           1224|           49|                 0|            691|          14|        14|               0|                11|        44|2019-02-19 00:00:00|\n",
      "|archivo.gestion.p...|            480|            0|                 1|              0|           1|         1|               0|                 0|   2167702|2019-02-19 00:00:00|\n",
      "|archivo.gestion.p...|            733|            9|                 1|             49|           1|         5|               0|                 2|   2197102|2019-02-19 00:00:00|\n",
      "|archivo.gestion.p...|            201|            2|                 1|              2|           1|         1|               0|                 0|   2137318|2019-02-19 00:00:00|\n",
      "|archivo.gestion.p...|            254|           43|                 1|             43|           1|         1|               0|                 1|   2191835|2019-02-19 00:00:00|\n",
      "|archivo.gestion.p...|            400|           21|                 1|             21|           1|         1|               0|                 1|   2152547|2019-02-19 00:00:00|\n",
      "|archivo.gestion.p...|            200|           12|                 1|             12|           1|         1|               0|                 0|   2205453|2019-02-19 00:00:00|\n",
      "|archivo.gestion.p...|           2151|            0|                 1|              0|           1|         1|               0|                 0|   2198875|2019-02-19 00:00:00|\n",
      "|archivo.gestion.p...|            295|           28|                 1|             28|           1|         1|               0|                 1|   2200041|2019-02-19 00:00:00|\n",
      "|archivo.gestion.p...|            432|           34|                 1|             69|           2|         2|               0|                 2|   2105361|2019-02-19 00:00:00|\n",
      "|archivo.gestion.p...|              0|            0|                 0|              0|           1|         1|               0|                 0|   2198148|2019-02-19 00:00:00|\n",
      "|archivo.gestion.p...|            518|            7|                 1|             86|           1|        11|               0|                 1|   2159680|2019-02-19 00:00:00|\n",
      "|archivo.gestion.p...|            200|            6|                 1|              6|           1|         1|               0|                 0|   2202103|2019-02-19 00:00:00|\n",
      "|archivo.gestion.p...|            383|           44|                 1|             89|           1|         2|               0|                 1|   2127066|2019-02-19 00:00:00|\n",
      "|archivo.gestion.p...|              0|           72|                 0|             72|           1|         1|               0|                 1|   2169313|2019-02-19 00:00:00|\n",
      "|archivo.gestion.p...|           2357|           15|                 1|             15|           1|         1|               0|                 1|   2197615|2019-02-19 00:00:00|\n",
      "|archivo.gestion.p...|           2710|          106|                 1|            106|           1|         1|               0|                 1|   2136783|2019-02-19 00:00:00|\n",
      "|archivo.gestion.p...|           1186|            0|                 1|              0|           1|         1|               0|                 0|   2203554|2019-02-19 00:00:00|\n",
      "+--------------------+---------------+-------------+------------------+---------------+------------+----------+----------------+------------------+----------+-------------------+\n",
      "only showing top 20 rows\n",
      "\n"
     ]
    }
   ],
   "source": [
    "from pyspark.sql.types import StructType, StructField\n",
    "from pyspark.sql.types import DoubleType, IntegerType, StringType\n",
    "\n",
    "bucket_name = \"charbeat-trafic\"\n",
    "key_file = \"gestion.pe/*.csv\"\n",
    "path_csv_spark = 's3n://{}:{}@{}/{}'.format(access_key, secret_key, bucket_name, key_file)\n",
    "\n",
    "opts = {'header': True, 'sep': ',', 'inferSchema':True}\n",
    "df_csv = spark.read.csv(\n",
    "    path_csv_spark, **opts\n",
    ")\n",
    "df_csv.show()"
   ]
  },
  {
   "cell_type": "code",
   "execution_count": 9,
   "metadata": {},
   "outputs": [
    {
     "data": {
      "text/plain": [
       "193730"
      ]
     },
     "execution_count": 9,
     "metadata": {},
     "output_type": "execute_result"
    }
   ],
   "source": [
    "df_csv.count()"
   ]
  },
  {
   "cell_type": "code",
   "execution_count": 11,
   "metadata": {},
   "outputs": [],
   "source": [
    "df_csv = df_csv.sort('dia')\n",
    "df_csv = df_csv.na.fill(0)"
   ]
  },
  {
   "cell_type": "code",
   "execution_count": 56,
   "metadata": {},
   "outputs": [],
   "source": [
    "def get_article_unique(df_spark, col='article_id'):\n",
    "    return set(\n",
    "        df_spark.groupby(col)._df.toPandas()[col]\n",
    "    )"
   ]
  },
  {
   "cell_type": "code",
   "execution_count": 57,
   "metadata": {},
   "outputs": [
    {
     "name": "stdout",
     "output_type": "stream",
     "text": [
      "df_csv:  53117\n",
      "df_postgres_local:  0\n",
      "CPU times: user 22 s, sys: 0 ns, total: 22 s\n",
      "Wall time: 21.9 s\n"
     ]
    }
   ],
   "source": [
    "%%time\n",
    "articles_in_csv = get_article_unique(df_csv)\n",
    "print('df_csv: ', len(articles_in_csv))\n",
    "\n",
    "articles_in_db = get_article_unique(df_postgres)\n",
    "print('df_postgres_local: ', len(articles_in_db))"
   ]
  },
  {
   "cell_type": "code",
   "execution_count": 72,
   "metadata": {},
   "outputs": [
    {
     "name": "stdout",
     "output_type": "stream",
     "text": [
      "CPU times: user 12.6 s, sys: 3.26 s, total: 15.8 s\n",
      "Wall time: 1min 11s\n"
     ]
    }
   ],
   "source": [
    "%%time\n",
    "import collections\n",
    "from pyspark.sql.functions import  monotonically_increasing_id\n",
    "from pyspark.sql import functions as F\n",
    "\n",
    "def add_article_news(set_id_csv, set_id_db, df_csv, df_db):\n",
    "    row_up = None\n",
    "    new_articles = list(set_id_csv - set_id_db)\n",
    "    \n",
    "    return df_csv.filter(\n",
    "        F.col('article_id').isin(new_articles)\n",
    "    ).groupby(\n",
    "        ['article_id', 'path']\n",
    "    ).agg(\n",
    "        F.count(F.lit(1)).alias(\"order\"),\n",
    "        F.collect_list(df_csv.dia).alias(\"dia\"),\n",
    "        F.collect_list(df_csv.page_avg_scroll).alias(\"page_avg_scroll\"),\n",
    "        F.collect_list(df_csv.page_avg_time).alias(\"page_avg_time\"),\n",
    "        F.collect_list(df_csv.page_scroll_starts).alias(\"page_scroll_starts\"),\n",
    "        F.collect_list(df_csv.page_total_time).alias(\"page_total_time\"),\n",
    "        F.collect_list(df_csv.page_uniques).alias(\"page_uniques\"),\n",
    "        F.collect_list(df_csv.page_views).alias(\"page_views\"),\n",
    "        F.collect_list(df_csv.page_views_loyal).alias(\"page_views_loyal\"),\n",
    "        F.collect_list(df_csv.page_views_quality).alias(\"page_views_quality\")\n",
    "    )\n",
    "\n",
    "row_up = add_article_news(articles_in_csv, articles_in_db, df_csv, df_postgres)"
   ]
  },
  {
   "cell_type": "code",
   "execution_count": null,
   "metadata": {},
   "outputs": [],
   "source": []
  },
  {
   "cell_type": "code",
   "execution_count": null,
   "metadata": {},
   "outputs": [],
   "source": []
  },
  {
   "cell_type": "code",
   "execution_count": null,
   "metadata": {},
   "outputs": [],
   "source": []
  },
  {
   "cell_type": "code",
   "execution_count": 68,
   "metadata": {},
   "outputs": [
    {
     "name": "stdout",
     "output_type": "stream",
     "text": [
      "root\n",
      " |-- article_id: integer (nullable = true)\n",
      " |-- path: string (nullable = true)\n",
      " |-- order: long (nullable = false)\n",
      " |-- collect_list(dia): array (nullable = true)\n",
      " |    |-- element: timestamp (containsNull = true)\n",
      " |-- collect_list(page_avg_scroll): array (nullable = true)\n",
      " |    |-- element: integer (containsNull = true)\n",
      " |-- collect_list(page_avg_time): array (nullable = true)\n",
      " |    |-- element: integer (containsNull = true)\n",
      " |-- collect_list(page_scroll_starts): array (nullable = true)\n",
      " |    |-- element: integer (containsNull = true)\n",
      " |-- collect_list(page_total_time): array (nullable = true)\n",
      " |    |-- element: integer (containsNull = true)\n",
      " |-- collect_list(page_uniques): array (nullable = true)\n",
      " |    |-- element: integer (containsNull = true)\n",
      " |-- collect_list(page_views): array (nullable = true)\n",
      " |    |-- element: integer (containsNull = true)\n",
      " |-- collect_list(page_views_loyal): array (nullable = true)\n",
      " |    |-- element: integer (containsNull = true)\n",
      " |-- collect_list(page_uniques): array (nullable = true)\n",
      " |    |-- element: integer (containsNull = true)\n",
      " |-- collect_list(page_views_quality): array (nullable = true)\n",
      " |    |-- element: integer (containsNull = true)\n",
      " |-- id: long (nullable = false)\n",
      "\n"
     ]
    }
   ],
   "source": [
    "row_up.printSchema()"
   ]
  },
  {
   "cell_type": "code",
   "execution_count": 69,
   "metadata": {},
   "outputs": [
    {
     "name": "stdout",
     "output_type": "stream",
     "text": [
      "root\n",
      " |-- article_id: integer (nullable = true)\n",
      " |-- path: string (nullable = true)\n",
      " |-- order: integer (nullable = true)\n",
      " |-- dia: array (nullable = true)\n",
      " |    |-- element: timestamp (containsNull = true)\n",
      " |-- page_avg_time: array (nullable = true)\n",
      " |    |-- element: integer (containsNull = true)\n",
      " |-- page_avg_scroll: array (nullable = true)\n",
      " |    |-- element: integer (containsNull = true)\n",
      " |-- page_scroll_starts: array (nullable = true)\n",
      " |    |-- element: integer (containsNull = true)\n",
      " |-- page_total_time: array (nullable = true)\n",
      " |    |-- element: integer (containsNull = true)\n",
      " |-- page_views: array (nullable = true)\n",
      " |    |-- element: integer (containsNull = true)\n",
      " |-- page_views_loyal: array (nullable = true)\n",
      " |    |-- element: integer (containsNull = true)\n",
      " |-- page_views_quality: array (nullable = true)\n",
      " |    |-- element: integer (containsNull = true)\n",
      "\n"
     ]
    }
   ],
   "source": [
    "df_postgres.printSchema()"
   ]
  },
  {
   "cell_type": "code",
   "execution_count": 73,
   "metadata": {},
   "outputs": [
    {
     "name": "stdout",
     "output_type": "stream",
     "text": [
      "OVERWRITE\n"
     ]
    }
   ],
   "source": [
    "if len(articles_in_db) == 0:\n",
    "    print(\"OVERWRITE\")\n",
    "    row_up = row_up.withColumn(\"id\", monotonically_increasing_id())\n",
    "    row_up.write.jdbc(mode='overwrite', **connection_db)\n",
    "else:\n",
    "    print(\"APPEND\")\n",
    "    row_up.write.jdbc(mode='append', **connection_db)"
   ]
  },
  {
   "cell_type": "code",
   "execution_count": null,
   "metadata": {},
   "outputs": [],
   "source": []
  },
  {
   "cell_type": "code",
   "execution_count": null,
   "metadata": {},
   "outputs": [],
   "source": []
  },
  {
   "cell_type": "code",
   "execution_count": null,
   "metadata": {},
   "outputs": [],
   "source": []
  },
  {
   "cell_type": "code",
   "execution_count": null,
   "metadata": {},
   "outputs": [],
   "source": []
  },
  {
   "cell_type": "code",
   "execution_count": null,
   "metadata": {},
   "outputs": [],
   "source": []
  },
  {
   "cell_type": "code",
   "execution_count": null,
   "metadata": {},
   "outputs": [],
   "source": []
  },
  {
   "cell_type": "code",
   "execution_count": null,
   "metadata": {},
   "outputs": [],
   "source": []
  },
  {
   "cell_type": "code",
   "execution_count": null,
   "metadata": {},
   "outputs": [],
   "source": []
  },
  {
   "cell_type": "code",
   "execution_count": null,
   "metadata": {},
   "outputs": [],
   "source": []
  },
  {
   "cell_type": "code",
   "execution_count": null,
   "metadata": {},
   "outputs": [],
   "source": []
  },
  {
   "cell_type": "code",
   "execution_count": null,
   "metadata": {},
   "outputs": [],
   "source": []
  },
  {
   "cell_type": "code",
   "execution_count": null,
   "metadata": {},
   "outputs": [],
   "source": []
  },
  {
   "cell_type": "code",
   "execution_count": null,
   "metadata": {},
   "outputs": [],
   "source": []
  },
  {
   "cell_type": "code",
   "execution_count": null,
   "metadata": {},
   "outputs": [],
   "source": []
  },
  {
   "cell_type": "code",
   "execution_count": null,
   "metadata": {},
   "outputs": [],
   "source": []
  },
  {
   "cell_type": "code",
   "execution_count": null,
   "metadata": {},
   "outputs": [],
   "source": []
  },
  {
   "cell_type": "code",
   "execution_count": null,
   "metadata": {},
   "outputs": [],
   "source": []
  },
  {
   "cell_type": "code",
   "execution_count": null,
   "metadata": {},
   "outputs": [],
   "source": []
  },
  {
   "cell_type": "code",
   "execution_count": null,
   "metadata": {},
   "outputs": [],
   "source": []
  },
  {
   "cell_type": "code",
   "execution_count": null,
   "metadata": {},
   "outputs": [],
   "source": []
  },
  {
   "cell_type": "code",
   "execution_count": null,
   "metadata": {},
   "outputs": [],
   "source": []
  },
  {
   "cell_type": "code",
   "execution_count": null,
   "metadata": {},
   "outputs": [],
   "source": []
  },
  {
   "cell_type": "code",
   "execution_count": null,
   "metadata": {},
   "outputs": [],
   "source": []
  },
  {
   "cell_type": "code",
   "execution_count": null,
   "metadata": {},
   "outputs": [],
   "source": []
  },
  {
   "cell_type": "code",
   "execution_count": null,
   "metadata": {},
   "outputs": [],
   "source": []
  },
  {
   "cell_type": "code",
   "execution_count": null,
   "metadata": {},
   "outputs": [],
   "source": []
  },
  {
   "cell_type": "code",
   "execution_count": null,
   "metadata": {},
   "outputs": [],
   "source": []
  },
  {
   "cell_type": "code",
   "execution_count": null,
   "metadata": {},
   "outputs": [],
   "source": []
  },
  {
   "cell_type": "code",
   "execution_count": null,
   "metadata": {},
   "outputs": [],
   "source": []
  },
  {
   "cell_type": "code",
   "execution_count": null,
   "metadata": {},
   "outputs": [],
   "source": []
  },
  {
   "cell_type": "code",
   "execution_count": null,
   "metadata": {},
   "outputs": [],
   "source": []
  },
  {
   "cell_type": "code",
   "execution_count": null,
   "metadata": {},
   "outputs": [],
   "source": []
  },
  {
   "cell_type": "code",
   "execution_count": null,
   "metadata": {},
   "outputs": [],
   "source": []
  },
  {
   "cell_type": "code",
   "execution_count": null,
   "metadata": {},
   "outputs": [],
   "source": []
  },
  {
   "cell_type": "code",
   "execution_count": null,
   "metadata": {},
   "outputs": [],
   "source": []
  },
  {
   "cell_type": "code",
   "execution_count": null,
   "metadata": {},
   "outputs": [],
   "source": []
  },
  {
   "cell_type": "code",
   "execution_count": null,
   "metadata": {},
   "outputs": [],
   "source": []
  },
  {
   "cell_type": "code",
   "execution_count": null,
   "metadata": {},
   "outputs": [],
   "source": []
  },
  {
   "cell_type": "code",
   "execution_count": null,
   "metadata": {},
   "outputs": [],
   "source": []
  },
  {
   "cell_type": "code",
   "execution_count": null,
   "metadata": {},
   "outputs": [],
   "source": []
  },
  {
   "cell_type": "code",
   "execution_count": null,
   "metadata": {},
   "outputs": [],
   "source": []
  },
  {
   "cell_type": "code",
   "execution_count": null,
   "metadata": {},
   "outputs": [],
   "source": []
  },
  {
   "cell_type": "code",
   "execution_count": null,
   "metadata": {},
   "outputs": [],
   "source": []
  },
  {
   "cell_type": "code",
   "execution_count": null,
   "metadata": {},
   "outputs": [],
   "source": []
  },
  {
   "cell_type": "code",
   "execution_count": null,
   "metadata": {},
   "outputs": [],
   "source": []
  },
  {
   "cell_type": "code",
   "execution_count": null,
   "metadata": {},
   "outputs": [],
   "source": []
  },
  {
   "cell_type": "code",
   "execution_count": null,
   "metadata": {},
   "outputs": [],
   "source": []
  },
  {
   "cell_type": "code",
   "execution_count": null,
   "metadata": {},
   "outputs": [],
   "source": []
  },
  {
   "cell_type": "code",
   "execution_count": null,
   "metadata": {},
   "outputs": [],
   "source": []
  },
  {
   "cell_type": "code",
   "execution_count": null,
   "metadata": {},
   "outputs": [],
   "source": []
  },
  {
   "cell_type": "code",
   "execution_count": null,
   "metadata": {},
   "outputs": [],
   "source": []
  },
  {
   "cell_type": "code",
   "execution_count": null,
   "metadata": {},
   "outputs": [],
   "source": []
  },
  {
   "cell_type": "code",
   "execution_count": null,
   "metadata": {},
   "outputs": [],
   "source": []
  },
  {
   "cell_type": "code",
   "execution_count": null,
   "metadata": {},
   "outputs": [],
   "source": []
  },
  {
   "cell_type": "code",
   "execution_count": null,
   "metadata": {},
   "outputs": [],
   "source": []
  },
  {
   "cell_type": "code",
   "execution_count": null,
   "metadata": {},
   "outputs": [],
   "source": []
  },
  {
   "cell_type": "code",
   "execution_count": null,
   "metadata": {},
   "outputs": [],
   "source": []
  },
  {
   "cell_type": "code",
   "execution_count": null,
   "metadata": {},
   "outputs": [],
   "source": []
  },
  {
   "cell_type": "code",
   "execution_count": null,
   "metadata": {},
   "outputs": [],
   "source": []
  },
  {
   "cell_type": "code",
   "execution_count": null,
   "metadata": {},
   "outputs": [],
   "source": []
  },
  {
   "cell_type": "code",
   "execution_count": null,
   "metadata": {},
   "outputs": [],
   "source": []
  },
  {
   "cell_type": "code",
   "execution_count": null,
   "metadata": {},
   "outputs": [],
   "source": []
  },
  {
   "cell_type": "code",
   "execution_count": null,
   "metadata": {},
   "outputs": [],
   "source": []
  },
  {
   "cell_type": "code",
   "execution_count": null,
   "metadata": {},
   "outputs": [],
   "source": []
  },
  {
   "cell_type": "code",
   "execution_count": null,
   "metadata": {},
   "outputs": [],
   "source": []
  },
  {
   "cell_type": "code",
   "execution_count": null,
   "metadata": {},
   "outputs": [],
   "source": []
  },
  {
   "cell_type": "code",
   "execution_count": null,
   "metadata": {},
   "outputs": [],
   "source": []
  },
  {
   "cell_type": "code",
   "execution_count": null,
   "metadata": {},
   "outputs": [],
   "source": []
  },
  {
   "cell_type": "code",
   "execution_count": null,
   "metadata": {},
   "outputs": [],
   "source": []
  },
  {
   "cell_type": "code",
   "execution_count": null,
   "metadata": {},
   "outputs": [],
   "source": []
  },
  {
   "cell_type": "code",
   "execution_count": null,
   "metadata": {},
   "outputs": [],
   "source": []
  },
  {
   "cell_type": "code",
   "execution_count": null,
   "metadata": {},
   "outputs": [],
   "source": []
  },
  {
   "cell_type": "code",
   "execution_count": null,
   "metadata": {},
   "outputs": [],
   "source": []
  },
  {
   "cell_type": "code",
   "execution_count": null,
   "metadata": {},
   "outputs": [],
   "source": []
  },
  {
   "cell_type": "code",
   "execution_count": null,
   "metadata": {},
   "outputs": [],
   "source": []
  },
  {
   "cell_type": "code",
   "execution_count": null,
   "metadata": {},
   "outputs": [],
   "source": []
  },
  {
   "cell_type": "code",
   "execution_count": null,
   "metadata": {},
   "outputs": [],
   "source": []
  },
  {
   "cell_type": "code",
   "execution_count": null,
   "metadata": {},
   "outputs": [],
   "source": []
  },
  {
   "cell_type": "code",
   "execution_count": null,
   "metadata": {},
   "outputs": [],
   "source": []
  },
  {
   "cell_type": "code",
   "execution_count": null,
   "metadata": {},
   "outputs": [],
   "source": []
  },
  {
   "cell_type": "code",
   "execution_count": null,
   "metadata": {},
   "outputs": [],
   "source": []
  },
  {
   "cell_type": "code",
   "execution_count": null,
   "metadata": {},
   "outputs": [],
   "source": []
  },
  {
   "cell_type": "code",
   "execution_count": null,
   "metadata": {},
   "outputs": [],
   "source": []
  },
  {
   "cell_type": "code",
   "execution_count": null,
   "metadata": {},
   "outputs": [],
   "source": []
  },
  {
   "cell_type": "code",
   "execution_count": null,
   "metadata": {},
   "outputs": [],
   "source": []
  },
  {
   "cell_type": "code",
   "execution_count": null,
   "metadata": {},
   "outputs": [],
   "source": []
  },
  {
   "cell_type": "code",
   "execution_count": null,
   "metadata": {},
   "outputs": [],
   "source": []
  },
  {
   "cell_type": "code",
   "execution_count": null,
   "metadata": {},
   "outputs": [],
   "source": []
  },
  {
   "cell_type": "code",
   "execution_count": null,
   "metadata": {},
   "outputs": [],
   "source": []
  },
  {
   "cell_type": "code",
   "execution_count": null,
   "metadata": {},
   "outputs": [],
   "source": []
  }
 ],
 "metadata": {
  "kernelspec": {
   "display_name": "Python 3",
   "language": "python",
   "name": "python3"
  },
  "language_info": {
   "codemirror_mode": {
    "name": "ipython",
    "version": 3
   },
   "file_extension": ".py",
   "mimetype": "text/x-python",
   "name": "python",
   "nbconvert_exporter": "python",
   "pygments_lexer": "ipython3",
   "version": "3.6.8"
  }
 },
 "nbformat": 4,
 "nbformat_minor": 2
}
