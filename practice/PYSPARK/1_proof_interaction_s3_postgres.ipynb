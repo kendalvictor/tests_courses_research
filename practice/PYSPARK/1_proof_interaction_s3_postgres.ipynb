{
 "cells": [
  {
   "cell_type": "code",
   "execution_count": 1,
   "metadata": {},
   "outputs": [],
   "source": [
    "import findspark \n",
    "findspark.init()"
   ]
  },
  {
   "cell_type": "code",
   "execution_count": 2,
   "metadata": {},
   "outputs": [],
   "source": [
    "from pyspark.sql import SparkSession\n",
    "from pyspark import SparkConf, SparkContext\n",
    "\n",
    "spark = SparkSession.builder.appName('i_s3_postgres').getOrCreate()"
   ]
  },
  {
   "cell_type": "code",
   "execution_count": 3,
   "metadata": {},
   "outputs": [],
   "source": [
    "from pyspark import SparkContext\n",
    "sc = SparkContext.getOrCreate()"
   ]
  },
  {
   "cell_type": "markdown",
   "metadata": {},
   "source": [
    "### ONLY PROOF PARSE TEXT"
   ]
  },
  {
   "cell_type": "code",
   "execution_count": 12,
   "metadata": {},
   "outputs": [
    {
     "name": "stdout",
     "output_type": "stream",
     "text": [
      "Help on method text in module pyspark.sql.readwriter:\n",
      "\n",
      "text(paths, wholetext=False) method of pyspark.sql.readwriter.DataFrameReader instance\n",
      "    Loads text files and returns a :class:`DataFrame` whose schema starts with a\n",
      "    string column named \"value\", and followed by partitioned columns if there\n",
      "    are any.\n",
      "    \n",
      "    Each line in the text file is a new row in the resulting DataFrame.\n",
      "    \n",
      "    :param paths: string, or list of strings, for input path(s).\n",
      "    :param wholetext: if true, read each file from input path(s) as a single row.\n",
      "    \n",
      "    >>> df = spark.read.text('python/test_support/sql/text-test.txt')\n",
      "    >>> df.collect()\n",
      "    [Row(value='hello'), Row(value='this')]\n",
      "    >>> df = spark.read.text('python/test_support/sql/text-test.txt', wholetext=True)\n",
      "    >>> df.collect()\n",
      "    [Row(value='hello\\nthis')]\n",
      "    \n",
      "    .. versionadded:: 1.6\n",
      "\n"
     ]
    }
   ],
   "source": [
    "help(spark.read.text)"
   ]
  },
  {
   "cell_type": "code",
   "execution_count": 15,
   "metadata": {},
   "outputs": [
    {
     "data": {
      "text/plain": [
       "pyspark.sql.dataframe.DataFrame"
      ]
     },
     "execution_count": 15,
     "metadata": {},
     "output_type": "execute_result"
    }
   ],
   "source": [
    "df_text = spark.read.text('08push.txt')\n",
    "type(df_text)"
   ]
  },
  {
   "cell_type": "code",
   "execution_count": 16,
   "metadata": {},
   "outputs": [
    {
     "name": "stdout",
     "output_type": "stream",
     "text": [
      "CPU times: user 5.09 s, sys: 55.3 ms, total: 5.15 s\n",
      "Wall time: 5.28 s\n"
     ]
    }
   ],
   "source": [
    "%%time\n",
    "import pandas as pd\n",
    "from pyspark.sql import Row\n",
    "import json\n",
    "import ast\n",
    "\n",
    "text_parse = df_text.collect()[0].\\\n",
    "             asDict()['value'].\\\n",
    "             replace('}{', '} {').\\\n",
    "             split(' ')\n",
    "\n",
    "text_parse = [Row(**ast.literal_eval(_)) for _ in text_parse]\n",
    "df_data = spark.createDataFrame(text_parse)\n",
    "del text_parse"
   ]
  },
  {
   "cell_type": "code",
   "execution_count": 17,
   "metadata": {},
   "outputs": [
    {
     "data": {
      "text/plain": [
       "69840"
      ]
     },
     "execution_count": 17,
     "metadata": {},
     "output_type": "execute_result"
    }
   ],
   "source": [
    "df_data.count()"
   ]
  },
  {
   "cell_type": "code",
   "execution_count": 10,
   "metadata": {},
   "outputs": [
    {
     "name": "stdout",
     "output_type": "stream",
     "text": [
      "+-------+--------+-----+-------+--------------------+\n",
      "|campain|    date|event|project|                 url|\n",
      "+-------+--------+-----+-------+--------------------+\n",
      "|  xxxxx|20190405|  ctr|ojo_dev|http://gitlab.ec....|\n",
      "|  xxxxx|20190405|  ctr|ojo_dev|http://gitlab.ec....|\n",
      "|  xxxxx|20190405|  ctr|ojo_dev|http://gitlab.ec....|\n",
      "|  xxxxx|20190405|  ctr|ojo_dev|http://gitlab.ec....|\n",
      "|  xxxxx|20190405|  ctr|ojo_dev|http://gitlab.ec....|\n",
      "|  xxxxx|20190405|  ctr|ojo_dev|http://gitlab.ec....|\n",
      "|  xxxxx|20190405|  ctr|ojo_dev|http://gitlab.ec....|\n",
      "|  xxxxx|20190405|  ctr|ojo_dev|http://gitlab.ec....|\n",
      "|  xxxxx|20190405|  ctr|ojo_dev|http://gitlab.ec....|\n",
      "|  xxxxx|20190405|  ctr|ojo_dev|http://gitlab.ec....|\n",
      "|  xxxxx|20190405|  ctr|ojo_dev|http://gitlab.ec....|\n",
      "|  xxxxx|20190405|  ctr|ojo_dev|http://gitlab.ec....|\n",
      "|  xxxxx|20190405|  ctr|ojo_dev|http://gitlab.ec....|\n",
      "|  xxxxx|20190405|  ctr|ojo_dev|http://gitlab.ec....|\n",
      "|  xxxxx|20190405|  ctr|ojo_dev|http://gitlab.ec....|\n",
      "|  xxxxx|20190405|  ctr|ojo_dev|http://gitlab.ec....|\n",
      "|  xxxxx|20190405|  ctr|ojo_dev|http://gitlab.ec....|\n",
      "|  xxxxx|20190405|  ctr|ojo_dev|http://gitlab.ec....|\n",
      "|  xxxxx|20190405|  ctr|ojo_dev|http://gitlab.ec....|\n",
      "|  xxxxx|20190405|  ctr|ojo_dev|http://gitlab.ec....|\n",
      "+-------+--------+-----+-------+--------------------+\n",
      "only showing top 20 rows\n",
      "\n"
     ]
    }
   ],
   "source": [
    "df_data.show()"
   ]
  },
  {
   "cell_type": "code",
   "execution_count": 11,
   "metadata": {},
   "outputs": [
    {
     "data": {
      "text/plain": [
       "<bound method DataFrame.printSchema of DataFrame[campain: string, date: string, event: string, project: string, url: string]>"
      ]
     },
     "execution_count": 11,
     "metadata": {},
     "output_type": "execute_result"
    }
   ],
   "source": [
    "df_data.printSchema"
   ]
  },
  {
   "cell_type": "code",
   "execution_count": 32,
   "metadata": {},
   "outputs": [],
   "source": [
    "rdd_x = sc.textFile(\"08push.txt\")\n",
    "# print(dir(rdd_x))"
   ]
  },
  {
   "cell_type": "code",
   "execution_count": 36,
   "metadata": {},
   "outputs": [
    {
     "data": {
      "text/plain": [
       "08push.txt MapPartitionsRDD[39] at textFile at NativeMethodAccessorImpl.java:0"
      ]
     },
     "execution_count": 36,
     "metadata": {},
     "output_type": "execute_result"
    }
   ],
   "source": [
    "rdd_x"
   ]
  },
  {
   "cell_type": "code",
   "execution_count": 39,
   "metadata": {},
   "outputs": [
    {
     "data": {
      "text/plain": [
       "PythonRDD[51] at RDD at PythonRDD.scala:52"
      ]
     },
     "execution_count": 39,
     "metadata": {},
     "output_type": "execute_result"
    }
   ],
   "source": [
    "sc.textFile(\"08push.txt\").map(lambda _: _.split('\\t'))"
   ]
  },
  {
   "cell_type": "code",
   "execution_count": 38,
   "metadata": {},
   "outputs": [
    {
     "data": {
      "text/plain": [
       "Column<b'value'>"
      ]
     },
     "execution_count": 38,
     "metadata": {},
     "output_type": "execute_result"
    }
   ],
   "source": [
    "df_text['value']"
   ]
  },
  {
   "cell_type": "code",
   "execution_count": null,
   "metadata": {},
   "outputs": [],
   "source": []
  },
  {
   "cell_type": "code",
   "execution_count": 52,
   "metadata": {},
   "outputs": [
    {
     "name": "stdout",
     "output_type": "stream",
     "text": [
      "+----------+----+-----+------+------+------+------+------+------+------+---------------+-----------------+---------------+-----------------+---------------+-----------------+---------------+-----------------+---------------+-----------------+---------------+-----------------+---------------+-----------------+--------------------+--------------------+--------------------+--------------------+--------------------+--------------------+--------------------+-----------------+-----------------+-----------------+-----------------+-----------------+-----------------+-----------------+--------------+--------------+--------------+--------------+--------------+--------------+--------------+------------+------------+------------+------------+------------+------------+------------+------------------+------------------+------------------+------------------+------------------+------------------+------------------+--------------------+--------------------+--------------------+--------------------+--------------------+--------------------+--------------------+\n",
      "|article_id|path|order|date_1|date_2|date_3|date_4|date_5|date_6|date_7|page_avg_time_1|page_avg_scroll_1|page_avg_time_2|page_avg_scroll_2|page_avg_time_3|page_avg_scroll_3|page_avg_time_4|page_avg_scroll_4|page_avg_time_5|page_avg_scroll_5|page_avg_time_6|page_avg_scroll_6|page_avg_time_7|page_avg_scroll_7|page_scroll_starts_1|page_scroll_starts_2|page_scroll_starts_3|page_scroll_starts_4|page_scroll_starts_5|page_scroll_starts_6|page_scroll_starts_7|page_total_time_1|page_total_time_2|page_total_time_3|page_total_time_4|page_total_time_5|page_total_time_6|page_total_time_7|page_uniques_1|page_uniques_2|page_uniques_3|page_uniques_4|page_uniques_5|page_uniques_6|page_uniques_7|page_views_1|page_views_2|page_views_3|page_views_4|page_views_5|page_views_6|page_views_7|page_views_loyal_1|page_views_loyal_2|page_views_loyal_3|page_views_loyal_4|page_views_loyal_5|page_views_loyal_6|page_views_loyal_7|page_views_quality_1|page_views_quality_2|page_views_quality_3|page_views_quality_4|page_views_quality_5|page_views_quality_6|page_views_quality_7|\n",
      "+----------+----+-----+------+------+------+------+------+------+------+---------------+-----------------+---------------+-----------------+---------------+-----------------+---------------+-----------------+---------------+-----------------+---------------+-----------------+---------------+-----------------+--------------------+--------------------+--------------------+--------------------+--------------------+--------------------+--------------------+-----------------+-----------------+-----------------+-----------------+-----------------+-----------------+-----------------+--------------+--------------+--------------+--------------+--------------+--------------+--------------+------------+------------+------------+------------+------------+------------+------------+------------------+------------------+------------------+------------------+------------------+------------------+------------------+--------------------+--------------------+--------------------+--------------------+--------------------+--------------------+--------------------+\n",
      "+----------+----+-----+------+------+------+------+------+------+------+---------------+-----------------+---------------+-----------------+---------------+-----------------+---------------+-----------------+---------------+-----------------+---------------+-----------------+---------------+-----------------+--------------------+--------------------+--------------------+--------------------+--------------------+--------------------+--------------------+-----------------+-----------------+-----------------+-----------------+-----------------+-----------------+-----------------+--------------+--------------+--------------+--------------+--------------+--------------+--------------+------------+------------+------------+------------+------------+------------+------------+------------------+------------------+------------------+------------------+------------------+------------------+------------------+--------------------+--------------------+--------------------+--------------------+--------------------+--------------------+--------------------+\n",
      "\n"
     ]
    }
   ],
   "source": [
    "db_name = 'innovation'\n",
    "user = 'innovation'\n",
    "password = 'innovation'\n",
    "table_name = 'quipu_traficmodelz'\n",
    "\n",
    "url = \"jdbc:postgresql://localhost:5432/{}\".format(db_name)\n",
    "credentials = {\n",
    "    'user' : user, 'password' : password\n",
    "}\n",
    "connection_db = {\n",
    "    'url': url, 'table': table_name, 'properties': credentials\n",
    "}\n",
    "df_postgres = spark.read.jdbc(**connection_db)\n",
    "df_postgres = df_postgres.select([c for c in df_postgres.columns if c not in ['id']])\n",
    "df_postgres.show()"
   ]
  },
  {
   "cell_type": "code",
   "execution_count": 8,
   "metadata": {},
   "outputs": [
    {
     "name": "stdout",
     "output_type": "stream",
     "text": [
      "+----------+------------+------------+------------+------------+------------+------------+------------+----------+----------+----------+----------+----------+----------+----------+-----+----+\n",
      "|article_id|avg_scroll_1|avg_scroll_2|avg_scroll_3|avg_scroll_4|avg_scroll_5|avg_scroll_6|avg_scroll_7|avg_time_1|avg_time_2|avg_time_3|avg_time_4|avg_time_5|avg_time_6|avg_time_7|order|path|\n",
      "+----------+------------+------------+------------+------------+------------+------------+------------+----------+----------+----------+----------+----------+----------+----------+-----+----+\n",
      "+----------+------------+------------+------------+------------+------------+------------+------------+----------+----------+----------+----------+----------+----------+----------+-----+----+\n",
      "\n",
      "CPU times: user 2.22 ms, sys: 3.66 ms, total: 5.88 ms\n",
      "Wall time: 1.82 s\n"
     ]
    }
   ],
   "source": [
    "%%time\n",
    "db_name = \"purpledb\"\n",
    "user = \"pushdev\"\n",
    "pass_u = \"eThu7lohref5ne\"\n",
    "table_name_ext = \"quipu_traficmodel\"\n",
    "server = 'dev01serviciosdb.clz6pendayku.us-east-1.rds.amazonaws.com'\n",
    "schema = 'public'\n",
    "url = \"jdbc:postgresql://{}/{}\".format(server, db_name)\n",
    "\n",
    "credentials = {\n",
    "    \"user\": user, \n",
    "    \"password\": pass_u,\n",
    "    \"driver\": \"org.postgresql.Driver\"\n",
    "}\n",
    "connection_ext = {\n",
    "    \"url\": url, \n",
    "    \"table\": table_name_ext, \n",
    "    \"properties\": credentials\n",
    "}\n",
    "df_postgres_ext = spark.read.jdbc(**connection_ext)\n",
    "df_postgres_ext.show()"
   ]
  },
  {
   "cell_type": "code",
   "execution_count": 9,
   "metadata": {},
   "outputs": [
    {
     "data": {
      "text/html": [
       "<div>\n",
       "<style scoped>\n",
       "    .dataframe tbody tr th:only-of-type {\n",
       "        vertical-align: middle;\n",
       "    }\n",
       "\n",
       "    .dataframe tbody tr th {\n",
       "        vertical-align: top;\n",
       "    }\n",
       "\n",
       "    .dataframe thead th {\n",
       "        text-align: right;\n",
       "    }\n",
       "</style>\n",
       "<table border=\"1\" class=\"dataframe\">\n",
       "  <thead>\n",
       "    <tr style=\"text-align: right;\">\n",
       "      <th></th>\n",
       "      <th>path</th>\n",
       "      <th>page_avg_scroll</th>\n",
       "      <th>page_avg_time</th>\n",
       "      <th>page_scroll_starts</th>\n",
       "      <th>page_total_time</th>\n",
       "      <th>page_uniques</th>\n",
       "      <th>page_views</th>\n",
       "      <th>page_views_loyal</th>\n",
       "      <th>page_views_quality</th>\n",
       "      <th>article_id</th>\n",
       "      <th>dia</th>\n",
       "    </tr>\n",
       "  </thead>\n",
       "  <tbody>\n",
       "    <tr>\n",
       "      <th>0</th>\n",
       "      <td>archivo.gestion.pe/amp/panelg/clinicas-mejor-e...</td>\n",
       "      <td>0</td>\n",
       "      <td>53</td>\n",
       "      <td>0</td>\n",
       "      <td>53</td>\n",
       "      <td>1</td>\n",
       "      <td>1</td>\n",
       "      <td>0</td>\n",
       "      <td>1</td>\n",
       "      <td>2197561</td>\n",
       "      <td>2019-02-19</td>\n",
       "    </tr>\n",
       "    <tr>\n",
       "      <th>1</th>\n",
       "      <td>archivo.gestion.pe/cientifico-gana-peru-2000-e...</td>\n",
       "      <td>471</td>\n",
       "      <td>6</td>\n",
       "      <td>0</td>\n",
       "      <td>20</td>\n",
       "      <td>3</td>\n",
       "      <td>3</td>\n",
       "      <td>0</td>\n",
       "      <td>1</td>\n",
       "      <td>10000</td>\n",
       "      <td>2019-02-19</td>\n",
       "    </tr>\n",
       "    <tr>\n",
       "      <th>2</th>\n",
       "      <td>archivo.gestion.pe/clinicas-lanzan-seguro-priv...</td>\n",
       "      <td>1224</td>\n",
       "      <td>49</td>\n",
       "      <td>0</td>\n",
       "      <td>691</td>\n",
       "      <td>14</td>\n",
       "      <td>14</td>\n",
       "      <td>0</td>\n",
       "      <td>11</td>\n",
       "      <td>44</td>\n",
       "      <td>2019-02-19</td>\n",
       "    </tr>\n",
       "    <tr>\n",
       "      <th>3</th>\n",
       "      <td>archivo.gestion.pe/economia/15-mujeres-mas-pod...</td>\n",
       "      <td>480</td>\n",
       "      <td>0</td>\n",
       "      <td>1</td>\n",
       "      <td>0</td>\n",
       "      <td>1</td>\n",
       "      <td>1</td>\n",
       "      <td>0</td>\n",
       "      <td>0</td>\n",
       "      <td>2167702</td>\n",
       "      <td>2019-02-19</td>\n",
       "    </tr>\n",
       "    <tr>\n",
       "      <th>4</th>\n",
       "      <td>archivo.gestion.pe/economia/8-economias-ocde-m...</td>\n",
       "      <td>733</td>\n",
       "      <td>9</td>\n",
       "      <td>1</td>\n",
       "      <td>49</td>\n",
       "      <td>1</td>\n",
       "      <td>5</td>\n",
       "      <td>0</td>\n",
       "      <td>2</td>\n",
       "      <td>2197102</td>\n",
       "      <td>2019-02-19</td>\n",
       "    </tr>\n",
       "  </tbody>\n",
       "</table>\n",
       "</div>"
      ],
      "text/plain": [
       "                                                path  page_avg_scroll  \\\n",
       "0  archivo.gestion.pe/amp/panelg/clinicas-mejor-e...                0   \n",
       "1  archivo.gestion.pe/cientifico-gana-peru-2000-e...              471   \n",
       "2  archivo.gestion.pe/clinicas-lanzan-seguro-priv...             1224   \n",
       "3  archivo.gestion.pe/economia/15-mujeres-mas-pod...              480   \n",
       "4  archivo.gestion.pe/economia/8-economias-ocde-m...              733   \n",
       "\n",
       "   page_avg_time  page_scroll_starts  page_total_time  page_uniques  \\\n",
       "0             53                   0               53             1   \n",
       "1              6                   0               20             3   \n",
       "2             49                   0              691            14   \n",
       "3              0                   1                0             1   \n",
       "4              9                   1               49             1   \n",
       "\n",
       "   page_views  page_views_loyal  page_views_quality  article_id         dia  \n",
       "0           1                 0                   1     2197561  2019-02-19  \n",
       "1           3                 0                   1       10000  2019-02-19  \n",
       "2          14                 0                  11          44  2019-02-19  \n",
       "3           1                 0                   0     2167702  2019-02-19  \n",
       "4           5                 0                   2     2197102  2019-02-19  "
      ]
     },
     "execution_count": 9,
     "metadata": {},
     "output_type": "execute_result"
    }
   ],
   "source": [
    "path_csv = 'https://s3.amazonaws.com/charbeat-trafic/gestion.pe/2019-02-19.csv'\n",
    "import pandas as pd\n",
    "df_pd = pd.read_csv(path_csv)\n",
    "df_pd.head()"
   ]
  },
  {
   "cell_type": "code",
   "execution_count": 2,
   "metadata": {},
   "outputs": [],
   "source": [
    "import os\n",
    "import configparser\n",
    "\n",
    "# os.environ['PYSPARK_SUBMIT_ARGS'] = '--packages \"org.apache.hadoop:hadoop-aws:2.7.6\" pyspark-shell'\n",
    "\n",
    "config = configparser.ConfigParser()\n",
    "config.read(os.path.expanduser(\"~/.aws/credentials\"))\n",
    "\n",
    "aws_profile = 'default'\n",
    "access_key = config.get(aws_profile, \"aws_access_key_id\") \n",
    "secret_key = config.get(aws_profile, \"aws_secret_access_key\")"
   ]
  },
  {
   "cell_type": "code",
   "execution_count": 3,
   "metadata": {
    "scrolled": true
   },
   "outputs": [
    {
     "ename": "NameError",
     "evalue": "name 'spark' is not defined",
     "output_type": "error",
     "traceback": [
      "\u001b[0;31m------------------------------------------------------\u001b[0m",
      "\u001b[0;31mNameError\u001b[0m            Traceback (most recent call last)",
      "\u001b[0;32m<ipython-input-3-c80583bf13ae>\u001b[0m in \u001b[0;36m<module>\u001b[0;34m()\u001b[0m\n\u001b[1;32m      7\u001b[0m \u001b[0;34m\u001b[0m\u001b[0m\n\u001b[1;32m      8\u001b[0m \u001b[0mopts\u001b[0m \u001b[0;34m=\u001b[0m \u001b[0;34m{\u001b[0m\u001b[0;34m'header'\u001b[0m\u001b[0;34m:\u001b[0m \u001b[0;32mTrue\u001b[0m\u001b[0;34m,\u001b[0m \u001b[0;34m'sep'\u001b[0m\u001b[0;34m:\u001b[0m \u001b[0;34m','\u001b[0m\u001b[0;34m,\u001b[0m \u001b[0;34m'inferSchema'\u001b[0m\u001b[0;34m:\u001b[0m\u001b[0;32mTrue\u001b[0m\u001b[0;34m}\u001b[0m\u001b[0;34m\u001b[0m\u001b[0;34m\u001b[0m\u001b[0m\n\u001b[0;32m----> 9\u001b[0;31m df_csv = spark.read.csv(\n\u001b[0m\u001b[1;32m     10\u001b[0m     \u001b[0mpath_csv_spark\u001b[0m\u001b[0;34m,\u001b[0m \u001b[0;34m**\u001b[0m\u001b[0mopts\u001b[0m\u001b[0;34m\u001b[0m\u001b[0;34m\u001b[0m\u001b[0m\n\u001b[1;32m     11\u001b[0m )\n",
      "\u001b[0;31mNameError\u001b[0m: name 'spark' is not defined"
     ]
    }
   ],
   "source": [
    "from pyspark.sql.types import StructType, StructField\n",
    "from pyspark.sql.types import DoubleType, IntegerType, StringType\n",
    "\n",
    "bucket_name = \"charbeat-trafic\"\n",
    "key_file = \"gestion.pe/*.csv\"\n",
    "path_csv_spark = 's3n://{}:{}@{}/{}'.format(access_key, secret_key, bucket_name, key_file)\n",
    "\n",
    "opts = {'header': True, 'sep': ',', 'inferSchema':True}\n",
    "df_csv = spark.read.csv(\n",
    "    path_csv_spark, **opts\n",
    ")\n",
    "df_csv.show()"
   ]
  },
  {
   "cell_type": "code",
   "execution_count": 14,
   "metadata": {},
   "outputs": [
    {
     "name": "stdout",
     "output_type": "stream",
     "text": [
      "root\n",
      " |-- path: string (nullable = true)\n",
      " |-- page_avg_scroll: integer (nullable = true)\n",
      " |-- page_avg_time: integer (nullable = true)\n",
      " |-- page_scroll_starts: integer (nullable = true)\n",
      " |-- page_total_time: integer (nullable = true)\n",
      " |-- page_uniques: integer (nullable = true)\n",
      " |-- page_views: integer (nullable = true)\n",
      " |-- page_views_loyal: integer (nullable = true)\n",
      " |-- page_views_quality: integer (nullable = true)\n",
      " |-- article_id: integer (nullable = true)\n",
      " |-- dia: timestamp (nullable = true)\n",
      "\n",
      "CPU times: user 1.24 ms, sys: 0 ns, total: 1.24 ms\n",
      "Wall time: 2.48 ms\n"
     ]
    }
   ],
   "source": [
    "%%time\n",
    "df_csv.printSchema()"
   ]
  },
  {
   "cell_type": "code",
   "execution_count": 16,
   "metadata": {},
   "outputs": [
    {
     "name": "stdout",
     "output_type": "stream",
     "text": [
      "CPU times: user 5.88 ms, sys: 0 ns, total: 5.88 ms\n",
      "Wall time: 19.6 s\n"
     ]
    },
    {
     "data": {
      "text/plain": [
       "193730"
      ]
     },
     "execution_count": 16,
     "metadata": {},
     "output_type": "execute_result"
    }
   ],
   "source": [
    "%%time\n",
    "df_csv.count()"
   ]
  },
  {
   "cell_type": "code",
   "execution_count": 17,
   "metadata": {},
   "outputs": [],
   "source": [
    "df_csv = df_csv.sort('dia')"
   ]
  },
  {
   "cell_type": "code",
   "execution_count": 18,
   "metadata": {},
   "outputs": [],
   "source": [
    "from pyspark.sql.functions import udf\n",
    "\n",
    "# Creamos un columna con el identificador único del articulo\n",
    "# get_id = udf(lambda _: _.split('-')[-1])\n",
    "# df_csv = df_csv.withColumn('article_id', get_id(df_csv.path))\n",
    "\n",
    "# Eliminamos la columa path para liberar memoria\n",
    "# df_csv = df_csv.select([column for column in df_csv.columns if column != 'path'])\n",
    "# df_csv.show()"
   ]
  },
  {
   "cell_type": "markdown",
   "metadata": {},
   "source": [
    "### Analizo presencia de nulos"
   ]
  },
  {
   "cell_type": "code",
   "execution_count": 19,
   "metadata": {},
   "outputs": [
    {
     "data": {
      "text/html": [
       "<div>\n",
       "<style scoped>\n",
       "    .dataframe tbody tr th:only-of-type {\n",
       "        vertical-align: middle;\n",
       "    }\n",
       "\n",
       "    .dataframe tbody tr th {\n",
       "        vertical-align: top;\n",
       "    }\n",
       "\n",
       "    .dataframe thead th {\n",
       "        text-align: right;\n",
       "    }\n",
       "</style>\n",
       "<table border=\"1\" class=\"dataframe\">\n",
       "  <thead>\n",
       "    <tr style=\"text-align: right;\">\n",
       "      <th></th>\n",
       "      <th>0</th>\n",
       "    </tr>\n",
       "  </thead>\n",
       "  <tbody>\n",
       "    <tr>\n",
       "      <th>path</th>\n",
       "      <td>0.0</td>\n",
       "    </tr>\n",
       "    <tr>\n",
       "      <th>page_avg_scroll</th>\n",
       "      <td>0.0</td>\n",
       "    </tr>\n",
       "    <tr>\n",
       "      <th>page_avg_time</th>\n",
       "      <td>0.0</td>\n",
       "    </tr>\n",
       "    <tr>\n",
       "      <th>page_scroll_starts</th>\n",
       "      <td>0.0</td>\n",
       "    </tr>\n",
       "    <tr>\n",
       "      <th>page_total_time</th>\n",
       "      <td>0.0</td>\n",
       "    </tr>\n",
       "    <tr>\n",
       "      <th>page_uniques</th>\n",
       "      <td>0.0</td>\n",
       "    </tr>\n",
       "    <tr>\n",
       "      <th>page_views</th>\n",
       "      <td>0.0</td>\n",
       "    </tr>\n",
       "    <tr>\n",
       "      <th>page_views_loyal</th>\n",
       "      <td>0.0</td>\n",
       "    </tr>\n",
       "    <tr>\n",
       "      <th>page_views_quality</th>\n",
       "      <td>0.0</td>\n",
       "    </tr>\n",
       "    <tr>\n",
       "      <th>article_id</th>\n",
       "      <td>0.0</td>\n",
       "    </tr>\n",
       "    <tr>\n",
       "      <th>dia</th>\n",
       "      <td>0.0</td>\n",
       "    </tr>\n",
       "  </tbody>\n",
       "</table>\n",
       "</div>"
      ],
      "text/plain": [
       "                      0\n",
       "path                0.0\n",
       "page_avg_scroll     0.0\n",
       "page_avg_time       0.0\n",
       "page_scroll_starts  0.0\n",
       "page_total_time     0.0\n",
       "page_uniques        0.0\n",
       "page_views          0.0\n",
       "page_views_loyal    0.0\n",
       "page_views_quality  0.0\n",
       "article_id          0.0\n",
       "dia                 0.0"
      ]
     },
     "execution_count": 19,
     "metadata": {},
     "output_type": "execute_result"
    }
   ],
   "source": [
    "from pyspark.sql import functions as F\n",
    "\n",
    "df_null = df_csv.select(\n",
    "    *(F.sum(F.col(c).isNull().cast(\"Double\")).alias(c) for c in df_csv.columns)\n",
    ").toPandas()\n",
    "\n",
    "df_null.T"
   ]
  },
  {
   "cell_type": "code",
   "execution_count": 20,
   "metadata": {},
   "outputs": [
    {
     "name": "stdout",
     "output_type": "stream",
     "text": [
      "['__class__', '__delattr__', '__dict__', '__dir__', '__doc__', '__eq__', '__format__', '__ge__', '__getattr__', '__getattribute__', '__getitem__', '__gt__', '__hash__', '__init__', '__init_subclass__', '__le__', '__lt__', '__module__', '__ne__', '__new__', '__reduce__', '__reduce_ex__', '__repr__', '__setattr__', '__sizeof__', '__str__', '__subclasshook__', '__weakref__', '_collectAsArrow', '_jcols', '_jdf', '_jmap', '_jseq', '_lazy_rdd', '_sc', '_schema', '_sort_cols', 'agg', 'alias', 'approxQuantile', 'cache', 'checkpoint', 'coalesce', 'colRegex', 'collect', 'columns', 'corr', 'count', 'cov', 'createGlobalTempView', 'createOrReplaceGlobalTempView', 'createOrReplaceTempView', 'createTempView', 'crossJoin', 'crosstab', 'cube', 'describe', 'distinct', 'drop', 'dropDuplicates', 'drop_duplicates', 'dropna', 'dtypes', 'explain', 'fillna', 'filter', 'first', 'foreach', 'foreachPartition', 'freqItems', 'groupBy', 'groupby', 'head', 'hint', 'intersect', 'isLocal', 'isStreaming', 'is_cached', 'join', 'limit', 'localCheckpoint', 'na', 'orderBy', 'persist', 'printSchema', 'randomSplit', 'rdd', 'registerTempTable', 'repartition', 'replace', 'rollup', 'sample', 'sampleBy', 'schema', 'select', 'selectExpr', 'show', 'sort', 'sortWithinPartitions', 'sql_ctx', 'stat', 'storageLevel', 'subtract', 'summary', 'take', 'toDF', 'toJSON', 'toLocalIterator', 'toPandas', 'union', 'unionAll', 'unionByName', 'unpersist', 'where', 'withColumn', 'withColumnRenamed', 'withWatermark', 'write', 'writeStream']\n"
     ]
    }
   ],
   "source": [
    "print(dir(df_csv))"
   ]
  },
  {
   "cell_type": "code",
   "execution_count": 21,
   "metadata": {},
   "outputs": [],
   "source": [
    "df_csv = df_csv.na.fill(0)"
   ]
  },
  {
   "cell_type": "code",
   "execution_count": 22,
   "metadata": {},
   "outputs": [
    {
     "data": {
      "text/html": [
       "<div>\n",
       "<style scoped>\n",
       "    .dataframe tbody tr th:only-of-type {\n",
       "        vertical-align: middle;\n",
       "    }\n",
       "\n",
       "    .dataframe tbody tr th {\n",
       "        vertical-align: top;\n",
       "    }\n",
       "\n",
       "    .dataframe thead th {\n",
       "        text-align: right;\n",
       "    }\n",
       "</style>\n",
       "<table border=\"1\" class=\"dataframe\">\n",
       "  <thead>\n",
       "    <tr style=\"text-align: right;\">\n",
       "      <th></th>\n",
       "      <th>0</th>\n",
       "    </tr>\n",
       "  </thead>\n",
       "  <tbody>\n",
       "    <tr>\n",
       "      <th>path</th>\n",
       "      <td>0.0</td>\n",
       "    </tr>\n",
       "    <tr>\n",
       "      <th>page_avg_scroll</th>\n",
       "      <td>0.0</td>\n",
       "    </tr>\n",
       "    <tr>\n",
       "      <th>page_avg_time</th>\n",
       "      <td>0.0</td>\n",
       "    </tr>\n",
       "    <tr>\n",
       "      <th>page_scroll_starts</th>\n",
       "      <td>0.0</td>\n",
       "    </tr>\n",
       "    <tr>\n",
       "      <th>page_total_time</th>\n",
       "      <td>0.0</td>\n",
       "    </tr>\n",
       "    <tr>\n",
       "      <th>page_uniques</th>\n",
       "      <td>0.0</td>\n",
       "    </tr>\n",
       "    <tr>\n",
       "      <th>page_views</th>\n",
       "      <td>0.0</td>\n",
       "    </tr>\n",
       "    <tr>\n",
       "      <th>page_views_loyal</th>\n",
       "      <td>0.0</td>\n",
       "    </tr>\n",
       "    <tr>\n",
       "      <th>page_views_quality</th>\n",
       "      <td>0.0</td>\n",
       "    </tr>\n",
       "    <tr>\n",
       "      <th>article_id</th>\n",
       "      <td>0.0</td>\n",
       "    </tr>\n",
       "    <tr>\n",
       "      <th>dia</th>\n",
       "      <td>0.0</td>\n",
       "    </tr>\n",
       "  </tbody>\n",
       "</table>\n",
       "</div>"
      ],
      "text/plain": [
       "                      0\n",
       "path                0.0\n",
       "page_avg_scroll     0.0\n",
       "page_avg_time       0.0\n",
       "page_scroll_starts  0.0\n",
       "page_total_time     0.0\n",
       "page_uniques        0.0\n",
       "page_views          0.0\n",
       "page_views_loyal    0.0\n",
       "page_views_quality  0.0\n",
       "article_id          0.0\n",
       "dia                 0.0"
      ]
     },
     "execution_count": 22,
     "metadata": {},
     "output_type": "execute_result"
    }
   ],
   "source": [
    "df_null = df_csv.select(\n",
    "    *(F.sum(\n",
    "        F.col(c).isNull().cast(\"Double\")).alias(c) for c in df_csv.columns\n",
    "     )\n",
    ").toPandas()\n",
    "\n",
    "df_null.T"
   ]
  },
  {
   "cell_type": "code",
   "execution_count": 23,
   "metadata": {},
   "outputs": [
    {
     "name": "stdout",
     "output_type": "stream",
     "text": [
      "+--------------------+---------------+-------------+------------------+---------------+------------+----------+----------------+------------------+----------+-------------------+\n",
      "|                path|page_avg_scroll|page_avg_time|page_scroll_starts|page_total_time|page_uniques|page_views|page_views_loyal|page_views_quality|article_id|                dia|\n",
      "+--------------------+---------------+-------------+------------------+---------------+------------+----------+----------------+------------------+----------+-------------------+\n",
      "|archivo.gestion.p...|            186|            0|                 1|              0|           1|         1|               0|                 0|     15917|2019-02-18 00:00:00|\n",
      "|archivo.gestion.p...|            995|           16|                 1|             65|           1|         4|               0|                 2|   2205433|2019-02-18 00:00:00|\n",
      "|archivo.gestion.p...|              0|            7|                 0|             14|           2|         2|               0|                 0|     65247|2019-02-18 00:00:00|\n",
      "|archivo.gestion.p...|            220|            6|                 0|             34|           4|         5|               0|                 1|   2153323|2019-02-18 00:00:00|\n",
      "|archivo.gestion.p...|            204|            0|                 1|              0|           1|         1|               0|                 0|   2063715|2019-02-18 00:00:00|\n",
      "|archivo.gestion.p...|              0|            0|                 0|              0|           1|         1|               0|                 0|     51047|2019-02-18 00:00:00|\n",
      "|archivo.gestion.p...|            669|           38|                 1|             38|           1|         1|               0|                 1|      2010|2019-02-18 00:00:00|\n",
      "|archivo.gestion.p...|            491|           36|                 1|             73|           1|         2|               0|                 1|   2203652|2019-02-18 00:00:00|\n",
      "|archivo.gestion.p...|            669|           18|                 1|             91|           3|         5|               0|                 3|   2169460|2019-02-18 00:00:00|\n",
      "|archivo.gestion.p...|            600|           15|                 1|             15|           1|         1|               0|                 1|   2086766|2019-02-18 00:00:00|\n",
      "|archivo.gestion.p...|           2101|           15|                 1|             15|           1|         1|               0|                 1|   2194725|2019-02-18 00:00:00|\n",
      "|archivo.gestion.p...|            924|           31|                 1|             31|           1|         1|               0|                 1|   2197910|2019-02-18 00:00:00|\n",
      "|archivo.gestion.p...|            100|            0|                 1|              0|           1|         1|               0|                 0|      4624|2019-02-18 00:00:00|\n",
      "|archivo.gestion.p...|             50|           52|                 0|            104|           2|         2|               0|                 1|     27001|2019-02-18 00:00:00|\n",
      "|archivo.gestion.p...|            539|           43|                 0|            390|           9|         9|               0|                 6|        44|2019-02-18 00:00:00|\n",
      "|archivo.gestion.p...|              0|            0|                 0|              0|           1|         3|               0|                 0|   2194083|2019-02-18 00:00:00|\n",
      "|archivo.gestion.p...|           2348|           54|                 1|            162|           1|         3|               0|                 1|   2203747|2019-02-18 00:00:00|\n",
      "|archivo.gestion.p...|           1141|           72|                 1|             72|           1|         1|               0|                 1|   2196914|2019-02-18 00:00:00|\n",
      "|archivo.gestion.p...|            300|            0|                 1|              0|           1|         1|               0|                 0|   2013213|2019-02-18 00:00:00|\n",
      "|archivo.gestion.p...|            668|           28|                 0|             86|           3|         3|               0|                 2|   2169553|2019-02-18 00:00:00|\n",
      "|archivo.gestion.p...|           1400|           17|                 1|             17|           1|         1|               0|                 1|   2198470|2019-02-18 00:00:00|\n",
      "|archivo.gestion.p...|            760|            5|                 1|              5|           1|         1|               0|                 0|   2176216|2019-02-18 00:00:00|\n",
      "|archivo.gestion.p...|           1988|          148|                 1|            148|           1|         1|               0|                 1|   2204687|2019-02-18 00:00:00|\n",
      "|archivo.gestion.p...|              0|            0|                 0|              0|           1|         1|               0|                 0|   2188442|2019-02-18 00:00:00|\n",
      "|archivo.gestion.p...|            594|           16|                 0|             32|           2|         2|               0|                 1|   2183814|2019-02-18 00:00:00|\n",
      "|archivo.gestion.p...|            959|           45|                 1|            136|           1|         3|               0|                 3|   2202501|2019-02-18 00:00:00|\n",
      "|archivo.gestion.p...|            200|            7|                 1|             14|           1|         2|               0|                 0|      4626|2019-02-18 00:00:00|\n",
      "|archivo.gestion.p...|              0|            0|                 0|              0|           1|         1|               0|                 0|      2050|2019-02-18 00:00:00|\n",
      "|archivo.gestion.p...|           1111|            8|                 1|              8|           1|         1|               0|                 0|        34|2019-02-18 00:00:00|\n",
      "|archivo.gestion.p...|            722|            4|                 0|             25|           6|         6|               0|                 1|        19|2019-02-18 00:00:00|\n",
      "|archivo.gestion.p...|            300|           17|                 0|             35|           2|         2|               0|                 1|      2010|2019-02-18 00:00:00|\n",
      "|archivo.gestion.p...|            917|           19|                 0|            199|           8|        10|               0|                 5|        44|2019-02-18 00:00:00|\n",
      "|archivo.gestion.p...|            496|            4|                 0|             25|           1|         6|               0|                 0|   2137318|2019-02-18 00:00:00|\n",
      "|archivo.gestion.p...|           1480|           32|                 1|             32|           1|         1|               0|                 1|   2204970|2019-02-18 00:00:00|\n",
      "|archivo.gestion.p...|            589|            6|                 1|             88|           1|        13|               0|                 1|   2198148|2019-02-18 00:00:00|\n",
      "|archivo.gestion.p...|            255|            9|                 1|              9|           1|         1|               0|                 0|   2151060|2019-02-18 00:00:00|\n",
      "|archivo.gestion.p...|            441|            0|                 1|              0|           1|         1|               0|                 0|   2161009|2019-02-18 00:00:00|\n",
      "|archivo.gestion.p...|              0|            7|                 0|              7|           1|         1|               0|                 0|   2205342|2019-02-18 00:00:00|\n",
      "|archivo.gestion.p...|            261|           65|                 0|            325|           3|         5|               0|                 4|   2194685|2019-02-18 00:00:00|\n",
      "|archivo.gestion.p...|              0|           33|                 0|             33|           1|         1|               0|                 1|   2075446|2019-02-18 00:00:00|\n",
      "|archivo.gestion.p...|              0|            0|                 0|              0|           1|         1|               0|                 0|   2133087|2019-02-18 00:00:00|\n",
      "|archivo.gestion.p...|              0|           26|                 0|             26|           1|         1|               0|                 1|   2129515|2019-02-18 00:00:00|\n",
      "|archivo.gestion.p...|           2272|            5|                 1|              5|           1|         1|               0|                 0|   2204023|2019-02-18 00:00:00|\n",
      "|archivo.gestion.p...|           1160|           74|                 1|             74|           1|         1|               0|                 1|   2204431|2019-02-18 00:00:00|\n",
      "|archivo.gestion.p...|            449|          108|                 1|            108|           1|         1|               0|                 1|   2099738|2019-02-18 00:00:00|\n",
      "|archivo.gestion.p...|            316|           83|                 1|             83|           1|         1|               0|                 1|   2197795|2019-02-18 00:00:00|\n",
      "|archivo.gestion.p...|            336|           14|                 1|             14|           1|         1|               0|                 0|   2104510|2019-02-18 00:00:00|\n",
      "|archivo.gestion.p...|            207|           60|                 1|             60|           1|         1|               0|                 1|   2052911|2019-02-18 00:00:00|\n",
      "|archivo.gestion.p...|           1200|           46|                 1|             92|           1|         2|               0|                 2|   2153408|2019-02-18 00:00:00|\n",
      "|archivo.gestion.p...|            705|           26|                 0|            211|           6|         8|               0|                 5|   2191644|2019-02-18 00:00:00|\n",
      "|archivo.gestion.p...|           1000|           24|                 1|             24|           1|         1|               0|                 1|   2073906|2019-02-18 00:00:00|\n",
      "|archivo.gestion.p...|           1119|           27|                 1|             27|           1|         1|               0|                 1|   2205377|2019-02-18 00:00:00|\n",
      "|archivo.gestion.p...|            345|            0|                 1|              0|           1|         1|               0|                 0|   2176746|2019-02-18 00:00:00|\n",
      "|archivo.gestion.p...|            601|            4|                 1|             16|           1|         4|               0|                 0|   2182592|2019-02-18 00:00:00|\n",
      "|archivo.gestion.p...|            971|           13|                 0|             39|           3|         3|               0|                 1|   2125733|2019-02-18 00:00:00|\n",
      "|archivo.gestion.p...|            334|            0|                 1|              0|           1|         1|               0|                 0|     44956|2019-02-18 00:00:00|\n",
      "|archivo.gestion.p...|            280|           53|                 1|             53|           1|         1|               0|                 1|      2011|2019-02-18 00:00:00|\n",
      "|archivo.gestion.p...|            566|           16|                 0|             48|           2|         3|               0|                 1|      2050|2019-02-18 00:00:00|\n",
      "|archivo.gestion.p...|            100|          105|                 1|            105|           1|         1|               0|                 1|      2011|2019-02-18 00:00:00|\n",
      "|archivo.gestion.p...|            279|           10|                 0|             30|           3|         3|               0|                 1|        13|2019-02-18 00:00:00|\n",
      "|archivo.gestion.p...|              0|            6|                 0|              6|           1|         1|               0|                 0|        30|2019-02-18 00:00:00|\n",
      "|archivo.gestion.p...|           1200|           32|                 1|             32|           1|         1|               0|                 1|      2010|2019-02-18 00:00:00|\n",
      "|archivo.gestion.p...|            654|           86|                 1|             86|           1|         1|               0|                 1|       100|2019-02-18 00:00:00|\n",
      "|archivo.gestion.p...|             79|           43|                 1|             43|           1|         1|               0|                 1|     10000|2019-02-18 00:00:00|\n",
      "|archivo.gestion.p...|              1|            0|                 1|              0|           1|         1|               0|                 0|   2154447|2019-02-18 00:00:00|\n",
      "|archivo.gestion.p...|            509|           45|                 1|             45|           1|         1|               0|                 1|       101|2019-02-18 00:00:00|\n",
      "|archivo.gestion.p...|            269|           29|                 1|             89|           1|         3|               0|                 3|   2167702|2019-02-18 00:00:00|\n",
      "|archivo.gestion.p...|            364|            0|                 1|              0|           1|         1|               0|                 0|   2150602|2019-02-18 00:00:00|\n",
      "|archivo.gestion.p...|            840|           82|                 1|             82|           1|         1|               0|                 1|   2136823|2019-02-18 00:00:00|\n",
      "|archivo.gestion.p...|            360|           40|                 1|             40|           1|         1|               0|                 1|   2105361|2019-02-18 00:00:00|\n",
      "|archivo.gestion.p...|              0|            0|                 0|              0|           1|         1|               0|                 0|   2196496|2019-02-18 00:00:00|\n",
      "|archivo.gestion.p...|            920|           30|                 1|             60|           2|         2|               0|                 2|   2169313|2019-02-18 00:00:00|\n",
      "|archivo.gestion.p...|            237|           11|                 1|             66|           1|         6|               0|                 1|   2161411|2019-02-18 00:00:00|\n",
      "|archivo.gestion.p...|            312|            2|                 0|              6|           3|         3|               0|                 0|   2205437|2019-02-18 00:00:00|\n",
      "|archivo.gestion.p...|           1880|           33|                 1|             33|           1|         1|               0|                 1|   2126924|2019-02-18 00:00:00|\n",
      "|archivo.gestion.p...|            700|            5|                 1|              5|           1|         1|               0|                 0|   2143515|2019-02-18 00:00:00|\n",
      "|archivo.gestion.p...|           2602|           66|                 1|            133|           2|         2|               0|                 2|   2202986|2019-02-18 00:00:00|\n",
      "|archivo.gestion.p...|            175|            3|                 0|             10|           3|         3|               0|                 0|   2151921|2019-02-18 00:00:00|\n",
      "|archivo.gestion.p...|           1564|           15|                 1|             15|           1|         1|               0|                 1|   2184685|2019-02-18 00:00:00|\n",
      "|archivo.gestion.p...|              0|            0|                 0|              0|           1|         1|               0|                 0|   2200926|2019-02-18 00:00:00|\n",
      "|archivo.gestion.p...|            901|           30|                 1|             92|           1|         3|               0|                 2|   2193975|2019-02-18 00:00:00|\n",
      "|archivo.gestion.p...|            539|          198|                 1|            198|           1|         1|               0|                 1|   2161074|2019-02-18 00:00:00|\n",
      "|archivo.gestion.p...|            753|           15|                 1|             15|           1|         1|               0|                 1|   2145721|2019-02-18 00:00:00|\n",
      "|archivo.gestion.p...|            231|           10|                 1|             10|           1|         1|               0|                 0|   2128041|2019-02-18 00:00:00|\n",
      "|archivo.gestion.p...|            301|           56|                 1|            112|           1|         2|               0|                 2|   2192881|2019-02-18 00:00:00|\n",
      "|archivo.gestion.p...|           1404|            0|                 1|              0|           1|         1|               0|                 0|   2200634|2019-02-18 00:00:00|\n",
      "|archivo.gestion.p...|              0|           27|                 0|             27|           1|         1|               0|                 1|   2205202|2019-02-18 00:00:00|\n",
      "|archivo.gestion.p...|              0|            0|                 0|              0|           1|         1|               0|                 0|   2200268|2019-02-18 00:00:00|\n",
      "|archivo.gestion.p...|              0|            1|                 0|              1|           1|         1|               0|                 0|   2200272|2019-02-18 00:00:00|\n",
      "|archivo.gestion.p...|            140|           94|                 0|            188|           1|         2|               0|                 2|   2205213|2019-02-18 00:00:00|\n",
      "|archivo.gestion.p...|            400|           26|                 1|             26|           1|         1|               0|                 1|   2150884|2019-02-18 00:00:00|\n",
      "|archivo.gestion.p...|              0|            0|                 0|              0|           1|         1|               0|                 0|   2164516|2019-02-18 00:00:00|\n",
      "|archivo.gestion.p...|            639|            0|                 1|              0|           1|         1|               0|                 0|   2139794|2019-02-18 00:00:00|\n",
      "|archivo.gestion.p...|            200|           24|                 1|             24|           1|         1|               0|                 1|   2130660|2019-02-18 00:00:00|\n",
      "|archivo.gestion.p...|              0|            0|                 0|              0|           1|         1|               0|                 0|   2153410|2019-02-18 00:00:00|\n",
      "|archivo.gestion.p...|           1500|            7|                 1|              7|           1|         1|               0|                 0|   2103294|2019-02-18 00:00:00|\n",
      "|archivo.gestion.p...|              0|           73|                 0|             73|           1|         1|               0|                 1|   2131859|2019-02-18 00:00:00|\n",
      "|archivo.gestion.p...|           6343|           26|                 1|             26|           1|         1|               0|                 1|   2184663|2019-02-18 00:00:00|\n",
      "|archivo.gestion.p...|           1100|           74|                 1|             74|           1|         1|               0|                 1|   2174425|2019-02-18 00:00:00|\n",
      "|archivo.gestion.p...|           1100|           24|                 1|             24|           1|         1|               0|                 1|   2180898|2019-02-18 00:00:00|\n",
      "+--------------------+---------------+-------------+------------------+---------------+------------+----------+----------------+------------------+----------+-------------------+\n",
      "only showing top 100 rows\n",
      "\n"
     ]
    }
   ],
   "source": [
    "df_csv.show(100)"
   ]
  },
  {
   "cell_type": "markdown",
   "metadata": {},
   "source": [
    "## **INICIO DE COMPARACION DE DATAFRAMES**"
   ]
  },
  {
   "cell_type": "code",
   "execution_count": 24,
   "metadata": {},
   "outputs": [
    {
     "name": "stdout",
     "output_type": "stream",
     "text": [
      "['__add__', '__and__', '__bool__', '__class__', '__contains__', '__delattr__', '__dict__', '__dir__', '__div__', '__doc__', '__eq__', '__format__', '__ge__', '__getattr__', '__getattribute__', '__getitem__', '__gt__', '__hash__', '__init__', '__init_subclass__', '__invert__', '__iter__', '__le__', '__lt__', '__mod__', '__module__', '__mul__', '__ne__', '__neg__', '__new__', '__nonzero__', '__or__', '__pow__', '__radd__', '__rand__', '__rdiv__', '__reduce__', '__reduce_ex__', '__repr__', '__rmod__', '__rmul__', '__ror__', '__rpow__', '__rsub__', '__rtruediv__', '__setattr__', '__sizeof__', '__str__', '__sub__', '__subclasshook__', '__truediv__', '__weakref__', '_asc_doc', '_bitwiseAND_doc', '_bitwiseOR_doc', '_bitwiseXOR_doc', '_contains_doc', '_desc_doc', '_endswith_doc', '_eqNullSafe_doc', '_isNotNull_doc', '_isNull_doc', '_jc', '_like_doc', '_rlike_doc', '_startswith_doc', 'alias', 'asc', 'astype', 'between', 'bitwiseAND', 'bitwiseOR', 'bitwiseXOR', 'cast', 'contains', 'desc', 'endswith', 'eqNullSafe', 'getField', 'getItem', 'isNotNull', 'isNull', 'isin', 'like', 'name', 'otherwise', 'over', 'rlike', 'startswith', 'substr', 'when']\n"
     ]
    }
   ],
   "source": [
    "print(dir(df_postgres.article_id))"
   ]
  },
  {
   "cell_type": "code",
   "execution_count": 25,
   "metadata": {},
   "outputs": [
    {
     "name": "stdout",
     "output_type": "stream",
     "text": [
      "['__class__', '__delattr__', '__dict__', '__dir__', '__doc__', '__eq__', '__format__', '__ge__', '__getattr__', '__getattribute__', '__getitem__', '__gt__', '__hash__', '__init__', '__init_subclass__', '__le__', '__lt__', '__module__', '__ne__', '__new__', '__reduce__', '__reduce_ex__', '__repr__', '__setattr__', '__sizeof__', '__str__', '__subclasshook__', '__weakref__', '_collectAsArrow', '_jcols', '_jdf', '_jmap', '_jseq', '_lazy_rdd', '_sc', '_schema', '_sort_cols', 'agg', 'alias', 'approxQuantile', 'cache', 'checkpoint', 'coalesce', 'colRegex', 'collect', 'columns', 'corr', 'count', 'cov', 'createGlobalTempView', 'createOrReplaceGlobalTempView', 'createOrReplaceTempView', 'createTempView', 'crossJoin', 'crosstab', 'cube', 'describe', 'distinct', 'drop', 'dropDuplicates', 'drop_duplicates', 'dropna', 'dtypes', 'explain', 'fillna', 'filter', 'first', 'foreach', 'foreachPartition', 'freqItems', 'groupBy', 'groupby', 'head', 'hint', 'intersect', 'isLocal', 'isStreaming', 'is_cached', 'join', 'limit', 'localCheckpoint', 'na', 'orderBy', 'persist', 'printSchema', 'randomSplit', 'rdd', 'registerTempTable', 'repartition', 'replace', 'rollup', 'sample', 'sampleBy', 'schema', 'select', 'selectExpr', 'show', 'sort', 'sortWithinPartitions', 'sql_ctx', 'stat', 'storageLevel', 'subtract', 'summary', 'take', 'toDF', 'toJSON', 'toLocalIterator', 'toPandas', 'union', 'unionAll', 'unionByName', 'unpersist', 'where', 'withColumn', 'withColumnRenamed', 'withWatermark', 'write', 'writeStream']\n"
     ]
    }
   ],
   "source": [
    "print(dir(df_postgres.select(\"article_id\")))"
   ]
  },
  {
   "cell_type": "code",
   "execution_count": 53,
   "metadata": {},
   "outputs": [
    {
     "name": "stdout",
     "output_type": "stream",
     "text": [
      "CPU times: user 0 ns, sys: 3.63 ms, total: 3.63 ms\n",
      "Wall time: 43 ms\n"
     ]
    },
    {
     "data": {
      "text/plain": [
       "[]"
      ]
     },
     "execution_count": 53,
     "metadata": {},
     "output_type": "execute_result"
    }
   ],
   "source": [
    "%%time\n",
    "df_postgres.select(\"article_id\").collect()"
   ]
  },
  {
   "cell_type": "markdown",
   "metadata": {},
   "source": [
    "### TESTEANDO FUNCIONES DE UNICIDAD"
   ]
  },
  {
   "cell_type": "code",
   "execution_count": 27,
   "metadata": {},
   "outputs": [
    {
     "name": "stdout",
     "output_type": "stream",
     "text": [
      "53117\n",
      "CPU times: user 924 ms, sys: 29 ms, total: 953 ms\n",
      "Wall time: 22.1 s\n"
     ]
    }
   ],
   "source": [
    "%%time\n",
    "articles_in_csv_1 = {row['article_id'] for row in df_csv.select(\"article_id\").collect()}\n",
    "print(len(articles_in_csv_1))"
   ]
  },
  {
   "cell_type": "code",
   "execution_count": 28,
   "metadata": {},
   "outputs": [
    {
     "name": "stdout",
     "output_type": "stream",
     "text": [
      "53117\n",
      "CPU times: user 779 ms, sys: 3.63 ms, total: 783 ms\n",
      "Wall time: 28.9 s\n"
     ]
    }
   ],
   "source": [
    "%%time\n",
    "articles_in_csv_1 = set(\n",
    "    df_csv.select(\"article_id\").toPandas()['article_id']\n",
    ")\n",
    "print(len(articles_in_csv_1))"
   ]
  },
  {
   "cell_type": "code",
   "execution_count": 93,
   "metadata": {},
   "outputs": [
    {
     "name": "stdout",
     "output_type": "stream",
     "text": [
      "+----------+--------------------+-----+--------------------+-----------------------------+---------------------------+--------------------------------+-----------------------------+--------------------------+------------------------+------------------------------+--------------------------+--------------------------------+\n",
      "|article_id|                path|order|   collect_list(dia)|collect_list(page_avg_scroll)|collect_list(page_avg_time)|collect_list(page_scroll_starts)|collect_list(page_total_time)|collect_list(page_uniques)|collect_list(page_views)|collect_list(page_views_loyal)|collect_list(page_uniques)|collect_list(page_views_quality)|\n",
      "+----------+--------------------+-----+--------------------+-----------------------------+---------------------------+--------------------------------+-----------------------------+--------------------------+------------------------+------------------------------+--------------------------+--------------------------------+\n",
      "|       274|gestion.pe/tenden...|    1|[2019-02-19 00:00...|                       [3305]|                       [89]|                             [1]|                         [89]|                       [1]|                     [1]|                           [0]|                       [1]|                             [1]|\n",
      "|      2385|gestion.pe/impres...|    1|[2019-02-27 00:00...|                        [444]|                        [5]|                             [0]|                         [50]|                       [1]|                     [9]|                           [0]|                       [1]|                             [1]|\n",
      "|      2638|gestion.pe/impres...|    2|[2019-02-22 00:00...|                     [21, 80]|                     [0, 0]|                          [0, 1]|                       [6, 0]|                    [1, 1]|                 [47, 1]|                        [0, 0]|                    [1, 1]|                          [0, 0]|\n",
      "|      3567|gestion.pe/econom...|    4|[2019-02-21 00:00...|                [0, 18, 0, 0]|             [38, 29, 0, 4]|                    [0, 1, 0, 0]|               [38, 29, 0, 4]|              [1, 1, 1, 1]|            [1, 1, 1, 1]|                  [0, 0, 0, 0]|              [1, 1, 1, 1]|                    [1, 1, 0, 0]|\n",
      "|      4168|gestion.pe/econom...|    1|[2019-02-25 00:00...|                          [2]|                        [1]|                             [0]|                         [47]|                       [1]|                    [38]|                           [0]|                       [1]|                             [1]|\n",
      "|      4267|gestion.pe/econom...|    2|[2019-02-25 00:00...|                  [1954, 961]|                    [0, 51]|                          [1, 0]|                     [0, 103]|                    [1, 2]|                  [2, 2]|                        [0, 0]|                    [1, 2]|                          [0, 2]|\n",
      "|      6188|gestion.pe/econom...|    1|[2019-02-27 00:00...|                          [0]|                       [21]|                             [0]|                         [21]|                       [1]|                     [1]|                           [0]|                       [1]|                             [1]|\n",
      "|      6340|gestion.pe/impres...|    6|[2019-02-20 00:00...|         [0, 1500, 610, 11...|       [5, 21, 5, 9, 46, 3]|              [0, 0, 1, 1, 1, 1]|         [5, 108, 5, 18, 4...|        [1, 3, 1, 1, 1, 1]|      [1, 5, 1, 2, 1, 1]|            [0, 0, 0, 0, 0, 0]|        [1, 3, 1, 1, 1, 1]|              [0, 4, 0, 1, 1, 0]|\n",
      "|      6703|gestion.pe/econom...|    1|[2019-02-21 00:00...|                        [240]|                        [3]|                             [0]|                         [10]|                       [1]|                     [3]|                           [0]|                       [1]|                             [0]|\n",
      "|      8344|gestion.pe/econom...|    2|[2019-02-21 00:00...|                    [0, 1969]|                    [0, 62]|                          [0, 1]|                      [0, 62]|                    [1, 1]|                  [1, 1]|                        [0, 0]|                    [1, 1]|                          [0, 1]|\n",
      "|     12232|gestion.pe/tenden...|   10|[2019-02-20 00:00...|         [1086, 1812, 1941...|       [15, 8, 39, 29, 3...|            [0, 0, 0, 1, 0, 0...|         [79, 40, 118, 89,...|      [4, 4, 3, 2, 3, 4...|    [5, 5, 3, 3, 4, 4...|          [0, 0, 0, 0, 0, 0...|      [4, 4, 3, 2, 3, 4...|            [3, 1, 2, 2, 4, 2...|\n",
      "|     15231|gestion.pe/impres...|    1|[2019-02-25 00:00...|                       [1000]|                       [22]|                             [1]|                         [22]|                       [1]|                     [1]|                           [0]|                       [1]|                             [1]|\n",
      "|     16918|gestion.pe/impres...|    4|[2019-02-20 00:00...|         [1900, 0, 3000, 1...|          [10, 102, 85, 26]|                    [1, 0, 1, 1]|            [10, 102, 85, 26]|              [1, 1, 1, 1]|            [1, 1, 1, 1]|                  [0, 0, 0, 0]|              [1, 1, 1, 1]|                    [0, 1, 1, 1]|\n",
      "|     17101|gestion.pe/econom...|    1|[2019-02-21 00:00...|                          [0]|                       [13]|                             [0]|                         [27]|                       [1]|                     [2]|                           [0]|                       [1]|                             [1]|\n",
      "|     17878|gestion.pe/tecnol...|    7|[2019-02-20 00:00...|         [1586, 2278, 0, 1...|       [5, 34, 0, 0, 13,...|            [1, 0, 0, 1, 1, 1...|         [5, 136, 0, 0, 13...|      [1, 4, 1, 1, 1, 1...|    [1, 4, 1, 1, 1, 1...|          [0, 0, 0, 0, 0, 0...|      [1, 4, 1, 1, 1, 1...|            [0, 2, 0, 0, 0, 1...|\n",
      "|     18173|gestion.pe/econom...|   11|[2019-02-20 00:00...|         [0, 268, 0, 0, 19...|       [31, 12, 26, 85, ...|            [0, 0, 0, 0, 0, 0...|         [31, 37, 26, 85, ...|      [1, 2, 1, 1, 2, 2...|    [1, 3, 1, 1, 2, 2...|          [0, 0, 0, 0, 0, 0...|      [1, 2, 1, 1, 2, 2...|            [1, 2, 1, 1, 2, 0...|\n",
      "|     19264|gestion.pe/tenden...|    1|[2019-02-22 00:00...|                        [600]|                       [30]|                             [1]|                         [61]|                       [2]|                     [2]|                           [0]|                       [2]|                             [1]|\n",
      "|     21574|gestion.pe/impres...|    2|[2019-02-20 00:00...|                  [600, 1155]|                   [49, 22]|                          [0, 1]|                     [99, 22]|                    [2, 1]|                  [2, 1]|                        [0, 0]|                    [2, 1]|                          [1, 1]|\n",
      "|     21631|gestion.pe/econom...|    1|[2019-02-25 00:00...|                          [0]|                       [16]|                             [0]|                         [16]|                       [1]|                     [1]|                           [0]|                       [1]|                             [1]|\n",
      "|     23131|gestion.pe/tu-din...|    2|[2019-02-26 00:00...|                     [0, 583]|                    [54, 0]|                          [0, 1]|                      [54, 0]|                    [1, 1]|                  [1, 1]|                        [0, 0]|                    [1, 1]|                          [1, 0]|\n",
      "+----------+--------------------+-----+--------------------+-----------------------------+---------------------------+--------------------------------+-----------------------------+--------------------------+------------------------+------------------------------+--------------------------+--------------------------------+\n",
      "only showing top 20 rows\n",
      "\n",
      "CPU times: user 9.45 ms, sys: 3.81 ms, total: 13.3 ms\n",
      "Wall time: 37 s\n"
     ]
    }
   ],
   "source": [
    "%%time\n",
    "from pyspark.sql.functions import col, collect_list\n",
    "import pyspark.sql.functions as F\n",
    "\n",
    "dfFinal = df_csv.groupby(['article_id', 'path']).agg(\n",
    "    F.count(F.lit(1)).alias(\"order\"),\n",
    "    collect_list(df_csv.dia),\n",
    "    collect_list(df_csv.page_avg_scroll),\n",
    "    collect_list(df_csv.page_avg_time),\n",
    "    collect_list(df_csv.page_scroll_starts),\n",
    "    collect_list(df_csv.page_total_time),\n",
    "    collect_list(df_csv.page_uniques),\n",
    "    collect_list(df_csv.page_views),\n",
    "    collect_list(df_csv.page_views_loyal),\n",
    "    collect_list(df_csv.page_uniques),\n",
    "    collect_list(df_csv.page_views_quality)\n",
    ")\n",
    "dfFinal.show()\n"
   ]
  },
  {
   "cell_type": "code",
   "execution_count": 92,
   "metadata": {},
   "outputs": [
    {
     "name": "stdout",
     "output_type": "stream",
     "text": [
      "root\n",
      " |-- article_id: integer (nullable = true)\n",
      " |-- order: long (nullable = false)\n",
      " |-- collect_list(dia): array (nullable = true)\n",
      " |    |-- element: timestamp (containsNull = true)\n",
      " |-- collect_list(page_avg_scroll): array (nullable = true)\n",
      " |    |-- element: integer (containsNull = true)\n",
      " |-- collect_list(page_avg_time): array (nullable = true)\n",
      " |    |-- element: integer (containsNull = true)\n",
      " |-- collect_list(page_scroll_starts): array (nullable = true)\n",
      " |    |-- element: integer (containsNull = true)\n",
      " |-- collect_list(page_total_time): array (nullable = true)\n",
      " |    |-- element: integer (containsNull = true)\n",
      " |-- collect_list(page_uniques): array (nullable = true)\n",
      " |    |-- element: integer (containsNull = true)\n",
      " |-- collect_list(page_views): array (nullable = true)\n",
      " |    |-- element: integer (containsNull = true)\n",
      " |-- collect_list(page_views_loyal): array (nullable = true)\n",
      " |    |-- element: integer (containsNull = true)\n",
      " |-- collect_list(page_uniques): array (nullable = true)\n",
      " |    |-- element: integer (containsNull = true)\n",
      " |-- collect_list(page_views_quality): array (nullable = true)\n",
      " |    |-- element: integer (containsNull = true)\n",
      "\n"
     ]
    }
   ],
   "source": [
    "dfFinal.printSchema()"
   ]
  },
  {
   "cell_type": "code",
   "execution_count": 29,
   "metadata": {},
   "outputs": [],
   "source": [
    "def get_article_unique(df_spark, col='article_id'):\n",
    "    return set(\n",
    "        df_spark.select(col).toPandas()[col]\n",
    "    )"
   ]
  },
  {
   "cell_type": "code",
   "execution_count": 54,
   "metadata": {},
   "outputs": [
    {
     "name": "stdout",
     "output_type": "stream",
     "text": [
      "df_csv:  53117\n",
      "df_postgres_local:  0\n",
      "df_postgres_ext:  0\n",
      "CPU times: user 870 ms, sys: 17.8 ms, total: 888 ms\n",
      "Wall time: 35 s\n"
     ]
    }
   ],
   "source": [
    "%%time\n",
    "articles_in_csv = get_article_unique(df_csv)\n",
    "print('df_csv: ', len(articles_in_csv))\n",
    "\n",
    "articles_in_db = get_article_unique(df_postgres)\n",
    "print('df_postgres_local: ', len(articles_in_db))\n",
    "\n",
    "articles_in_ext = get_article_unique(df_postgres_ext)\n",
    "print('df_postgres_ext: ', len(articles_in_ext))"
   ]
  },
  {
   "cell_type": "code",
   "execution_count": 34,
   "metadata": {},
   "outputs": [
    {
     "name": "stdout",
     "output_type": "stream",
     "text": [
      "root\n",
      " |-- article_id: integer (nullable = true)\n",
      " |-- path: string (nullable = true)\n",
      " |-- order: integer (nullable = true)\n",
      " |-- date_1: date (nullable = true)\n",
      " |-- date_2: date (nullable = true)\n",
      " |-- date_3: date (nullable = true)\n",
      " |-- date_4: date (nullable = true)\n",
      " |-- date_5: date (nullable = true)\n",
      " |-- date_6: date (nullable = true)\n",
      " |-- date_7: date (nullable = true)\n",
      " |-- page_avg_time_1: integer (nullable = true)\n",
      " |-- page_avg_scroll_1: integer (nullable = true)\n",
      " |-- page_avg_time_2: integer (nullable = true)\n",
      " |-- page_avg_scroll_2: integer (nullable = true)\n",
      " |-- page_avg_time_3: integer (nullable = true)\n",
      " |-- page_avg_scroll_3: integer (nullable = true)\n",
      " |-- page_avg_time_4: integer (nullable = true)\n",
      " |-- page_avg_scroll_4: integer (nullable = true)\n",
      " |-- page_avg_time_5: integer (nullable = true)\n",
      " |-- page_avg_scroll_5: integer (nullable = true)\n",
      " |-- page_avg_time_6: integer (nullable = true)\n",
      " |-- page_avg_scroll_6: integer (nullable = true)\n",
      " |-- page_avg_time_7: integer (nullable = true)\n",
      " |-- page_avg_scroll_7: integer (nullable = true)\n",
      " |-- page_scroll_starts_1: integer (nullable = true)\n",
      " |-- page_scroll_starts_2: integer (nullable = true)\n",
      " |-- page_scroll_starts_3: integer (nullable = true)\n",
      " |-- page_scroll_starts_4: integer (nullable = true)\n",
      " |-- page_scroll_starts_5: integer (nullable = true)\n",
      " |-- page_scroll_starts_6: integer (nullable = true)\n",
      " |-- page_scroll_starts_7: integer (nullable = true)\n",
      " |-- page_total_time_1: integer (nullable = true)\n",
      " |-- page_total_time_2: integer (nullable = true)\n",
      " |-- page_total_time_3: integer (nullable = true)\n",
      " |-- page_total_time_4: integer (nullable = true)\n",
      " |-- page_total_time_5: integer (nullable = true)\n",
      " |-- page_total_time_6: integer (nullable = true)\n",
      " |-- page_total_time_7: integer (nullable = true)\n",
      " |-- page_uniques_1: integer (nullable = true)\n",
      " |-- page_uniques_2: integer (nullable = true)\n",
      " |-- page_uniques_3: integer (nullable = true)\n",
      " |-- page_uniques_4: integer (nullable = true)\n",
      " |-- page_uniques_5: integer (nullable = true)\n",
      " |-- page_uniques_6: integer (nullable = true)\n",
      " |-- page_uniques_7: integer (nullable = true)\n",
      " |-- page_views_1: integer (nullable = true)\n",
      " |-- page_views_2: integer (nullable = true)\n",
      " |-- page_views_3: integer (nullable = true)\n",
      " |-- page_views_4: integer (nullable = true)\n",
      " |-- page_views_5: integer (nullable = true)\n",
      " |-- page_views_6: integer (nullable = true)\n",
      " |-- page_views_7: integer (nullable = true)\n",
      " |-- page_views_loyal_1: integer (nullable = true)\n",
      " |-- page_views_loyal_2: integer (nullable = true)\n",
      " |-- page_views_loyal_3: integer (nullable = true)\n",
      " |-- page_views_loyal_4: integer (nullable = true)\n",
      " |-- page_views_loyal_5: integer (nullable = true)\n",
      " |-- page_views_loyal_6: integer (nullable = true)\n",
      " |-- page_views_loyal_7: integer (nullable = true)\n",
      " |-- page_views_quality_1: integer (nullable = true)\n",
      " |-- page_views_quality_2: integer (nullable = true)\n",
      " |-- page_views_quality_3: integer (nullable = true)\n",
      " |-- page_views_quality_4: integer (nullable = true)\n",
      " |-- page_views_quality_5: integer (nullable = true)\n",
      " |-- page_views_quality_6: integer (nullable = true)\n",
      " |-- page_views_quality_7: integer (nullable = true)\n",
      "\n"
     ]
    }
   ],
   "source": [
    "df_postgres.printSchema()"
   ]
  },
  {
   "cell_type": "code",
   "execution_count": 35,
   "metadata": {},
   "outputs": [
    {
     "name": "stdout",
     "output_type": "stream",
     "text": [
      "root\n",
      " |-- article_id: long (nullable = true)\n",
      " |-- avg_scroll_1: long (nullable = true)\n",
      " |-- avg_scroll_2: long (nullable = true)\n",
      " |-- avg_scroll_3: long (nullable = true)\n",
      " |-- avg_scroll_4: long (nullable = true)\n",
      " |-- avg_scroll_5: long (nullable = true)\n",
      " |-- avg_scroll_6: double (nullable = true)\n",
      " |-- avg_scroll_7: double (nullable = true)\n",
      " |-- avg_time_1: long (nullable = true)\n",
      " |-- avg_time_2: long (nullable = true)\n",
      " |-- avg_time_3: long (nullable = true)\n",
      " |-- avg_time_4: long (nullable = true)\n",
      " |-- avg_time_5: long (nullable = true)\n",
      " |-- avg_time_6: double (nullable = true)\n",
      " |-- avg_time_7: double (nullable = true)\n",
      " |-- order: long (nullable = true)\n",
      " |-- path: string (nullable = true)\n",
      "\n"
     ]
    }
   ],
   "source": [
    "df_postgres_ext.printSchema()"
   ]
  },
  {
   "cell_type": "code",
   "execution_count": 33,
   "metadata": {},
   "outputs": [
    {
     "data": {
      "text/html": [
       "\n",
       "        <div>\n",
       "            <p><b>SparkContext</b></p>\n",
       "\n",
       "            <p><a href=\"http://172.18.31.34:4040\">Spark UI</a></p>\n",
       "\n",
       "            <dl>\n",
       "              <dt>Version</dt>\n",
       "                <dd><code>v2.3.3</code></dd>\n",
       "              <dt>Master</dt>\n",
       "                <dd><code>local[2]</code></dd>\n",
       "              <dt>AppName</dt>\n",
       "                <dd><code>i_s3_postgres</code></dd>\n",
       "            </dl>\n",
       "        </div>\n",
       "        "
      ],
      "text/plain": [
       "<SparkContext master=local[2] appName=i_s3_postgres>"
      ]
     },
     "execution_count": 33,
     "metadata": {},
     "output_type": "execute_result"
    }
   ],
   "source": [
    "from pyspark import SparkContext\n",
    "sc = SparkContext.getOrCreate()\n",
    "sc"
   ]
  },
  {
   "cell_type": "code",
   "execution_count": 69,
   "metadata": {},
   "outputs": [],
   "source": [
    "max_data = 7\n",
    "\"\"\"\n",
    "data_schema = [\n",
    "    StructField('article_id', IntegerType(), True),\n",
    "    StructField('order', IntegerType(), True), \n",
    "    StructField('path', StringType(), True)\n",
    "]\n",
    "for ii in range(max_data):\n",
    "    data_schema.extend(\n",
    "        [\n",
    "            StructField('avg_scroll_{}'.format(ii + 1), IntegerType(), True),\n",
    "            StructField('avg_time_{}'.format(ii + 1), IntegerType(), True)\n",
    "        ]\n",
    "    )\n",
    "schema_up = StructType(fields=data_schema)\n",
    "\n",
    "for _ in data_schema:\n",
    "    print(_)\n",
    "\"\"\"\n",
    "\n",
    "from pyspark.sql.functions import col\n",
    "import pyspark.sql.functions as psf\n",
    "import json\n",
    "from IPython.display import display\n",
    "import numpy as np\n",
    "\n",
    "def get_data_article(df, article_id, max_data=7):\n",
    "    return df.filter(\n",
    "        df['article_id'] == article_id\n",
    "    ).toPandas()[:max_data].to_dict()\n",
    "\n",
    "def get_data_article_fix(df, article_id, max_data=7):\n",
    "    return df.filter(\n",
    "        df['article_id'] == article_id\n",
    "    )\n",
    "\n",
    "def get_len_data(dicc_data, col='article_id'):\n",
    "    return len(\n",
    "        dicc_data.get(col, {})\n",
    "    )\n",
    "\n",
    "def get_first_value(dicc_data, col='article_id'):\n",
    "    return list(\n",
    "        dicc_data.get(col, {}).values()\n",
    "    )[0]"
   ]
  },
  {
   "cell_type": "markdown",
   "metadata": {},
   "source": [
    "# TESTENADO EL EXTRACTOR DE DATA"
   ]
  },
  {
   "cell_type": "code",
   "execution_count": 75,
   "metadata": {},
   "outputs": [
    {
     "name": "stdout",
     "output_type": "stream",
     "text": [
      "131072\n",
      "##############################\n",
      "{'path': {0: 'gestion.pe/tu-dinero/sunat-son-beneficios-tributarios-afectados-desastres-naturales-131072', 1: 'gestion.pe/tu-dinero/sunat-son-beneficios-tributarios-afectados-desastres-naturales-131072', 2: 'gestion.pe/tu-dinero/sunat-son-beneficios-tributarios-afectados-desastres-naturales-131072', 3: 'gestion.pe/tu-dinero/sunat-son-beneficios-tributarios-afectados-desastres-naturales-131072', 4: 'gestion.pe/tu-dinero/sunat-son-beneficios-tributarios-afectados-desastres-naturales-131072'}, 'page_avg_scroll': {0: 1813, 1: 1928, 2: 0, 3: 0, 4: 0}, 'page_avg_time': {0: 51, 1: 22, 2: 0, 3: 13, 4: 34}, 'page_scroll_starts': {0: 1, 1: 1, 2: 0, 3: 0, 4: 0}, 'page_total_time': {0: 51, 1: 44, 2: 0, 3: 41, 4: 69}, 'page_uniques': {0: 1, 1: 2, 2: 1, 3: 1, 4: 2}, 'page_views': {0: 1, 1: 2, 2: 2, 3: 3, 4: 2}, 'page_views_loyal': {0: 0, 1: 0, 2: 0, 3: 0, 4: 0}, 'page_views_quality': {0: 1, 1: 1, 2: 0, 3: 1, 4: 2}, 'article_id': {0: 131072, 1: 131072, 2: 131072, 3: 131072, 4: 131072}, 'dia': {0: Timestamp('2019-02-19 00:00:00'), 1: Timestamp('2019-02-21 00:00:00'), 2: Timestamp('2019-02-22 00:00:00'), 3: Timestamp('2019-02-25 00:00:00'), 4: Timestamp('2019-02-27 00:00:00')}}\n",
      "131074\n",
      "##############################\n",
      "{'path': {0: 'gestion.pe/economia/empresas/planta-lacteos-gloria-chosica-reinicia-operaciones-131074'}, 'page_avg_scroll': {0: 0}, 'page_avg_time': {0: 0}, 'page_scroll_starts': {0: 0}, 'page_total_time': {0: 0}, 'page_uniques': {0: 1}, 'page_views': {0: 1}, 'page_views_loyal': {0: 0}, 'page_views_quality': {0: 0}, 'article_id': {0: 131074}, 'dia': {0: Timestamp('2019-02-26 00:00:00')}}\n",
      "131076\n",
      "##############################\n",
      "{'path': {0: 'gestion.pe/economia/senamhi-alerta-lluvias-intensas-costa-norte-peru-sabado-25-131076'}, 'page_avg_scroll': {0: 0}, 'page_avg_time': {0: 0}, 'page_scroll_starts': {0: 0}, 'page_total_time': {0: 0}, 'page_uniques': {0: 1}, 'page_views': {0: 1}, 'page_views_loyal': {0: 0}, 'page_views_quality': {0: 0}, 'article_id': {0: 131076}, 'dia': {0: Timestamp('2019-02-23 00:00:00')}}\n",
      "CPU times: user 82.7 ms, sys: 7.8 ms, total: 90.5 ms\n",
      "Wall time: 1min 43s\n"
     ]
    }
   ],
   "source": [
    "%%time\n",
    "# TEST\n",
    "veces = 1\n",
    "for article_id in articles_in_csv - articles_in_db:\n",
    "    print(article_id)\n",
    "    article_data = get_data_article(df_csv, article_id)\n",
    "    print(\"#\"*30)\n",
    "    print(article_data)\n",
    "    if veces > 2:\n",
    "        break\n",
    "    veces += 1"
   ]
  },
  {
   "cell_type": "code",
   "execution_count": 38,
   "metadata": {},
   "outputs": [
    {
     "data": {
      "text/plain": [
       "193730"
      ]
     },
     "execution_count": 38,
     "metadata": {},
     "output_type": "execute_result"
    }
   ],
   "source": [
    "df_csv.count()"
   ]
  },
  {
   "cell_type": "code",
   "execution_count": 39,
   "metadata": {},
   "outputs": [
    {
     "name": "stdout",
     "output_type": "stream",
     "text": [
      "root\n",
      " |-- path: string (nullable = true)\n",
      " |-- page_avg_scroll: integer (nullable = true)\n",
      " |-- page_avg_time: integer (nullable = true)\n",
      " |-- page_scroll_starts: integer (nullable = true)\n",
      " |-- page_total_time: integer (nullable = true)\n",
      " |-- page_uniques: integer (nullable = true)\n",
      " |-- page_views: integer (nullable = true)\n",
      " |-- page_views_loyal: integer (nullable = true)\n",
      " |-- page_views_quality: integer (nullable = true)\n",
      " |-- article_id: integer (nullable = true)\n",
      " |-- dia: timestamp (nullable = true)\n",
      "\n"
     ]
    }
   ],
   "source": [
    "df_csv.printSchema()"
   ]
  },
  {
   "cell_type": "code",
   "execution_count": 80,
   "metadata": {},
   "outputs": [
    {
     "name": "stdout",
     "output_type": "stream",
     "text": [
      "131072\n",
      "##############################\n",
      "<class 'pyspark.sql.dataframe.DataFrame'> DataFrame[path: string, page_avg_scroll: int, page_avg_time: int, page_scroll_starts: int, page_total_time: int, page_uniques: int, page_views: int, page_views_loyal: int, page_views_quality: int, article_id: int, dia: timestamp]\n",
      "+--------------------+---------------+-------------+------------------+---------------+------------+----------+----------------+------------------+----------+-------------------+\n",
      "|                path|page_avg_scroll|page_avg_time|page_scroll_starts|page_total_time|page_uniques|page_views|page_views_loyal|page_views_quality|article_id|                dia|\n",
      "+--------------------+---------------+-------------+------------------+---------------+------------+----------+----------------+------------------+----------+-------------------+\n",
      "|gestion.pe/tu-din...|           1813|           51|                 1|             51|           1|         1|               0|                 1|    131072|2019-02-19 00:00:00|\n",
      "|gestion.pe/tu-din...|           1928|           22|                 1|             44|           2|         2|               0|                 1|    131072|2019-02-21 00:00:00|\n",
      "|gestion.pe/tu-din...|              0|            0|                 0|              0|           1|         2|               0|                 0|    131072|2019-02-22 00:00:00|\n",
      "|gestion.pe/tu-din...|              0|           13|                 0|             41|           1|         3|               0|                 1|    131072|2019-02-25 00:00:00|\n",
      "|gestion.pe/tu-din...|              0|           34|                 0|             69|           2|         2|               0|                 2|    131072|2019-02-27 00:00:00|\n",
      "+--------------------+---------------+-------------+------------------+---------------+------------+----------+----------------+------------------+----------+-------------------+\n",
      "\n",
      "131074\n",
      "##############################\n",
      "<class 'pyspark.sql.dataframe.DataFrame'> DataFrame[path: string, page_avg_scroll: int, page_avg_time: int, page_scroll_starts: int, page_total_time: int, page_uniques: int, page_views: int, page_views_loyal: int, page_views_quality: int, article_id: int, dia: timestamp]\n",
      "+--------------------+---------------+-------------+------------------+---------------+------------+----------+----------------+------------------+----------+-------------------+\n",
      "|                path|page_avg_scroll|page_avg_time|page_scroll_starts|page_total_time|page_uniques|page_views|page_views_loyal|page_views_quality|article_id|                dia|\n",
      "+--------------------+---------------+-------------+------------------+---------------+------------+----------+----------------+------------------+----------+-------------------+\n",
      "|gestion.pe/econom...|              0|            0|                 0|              0|           1|         1|               0|                 0|    131074|2019-02-26 00:00:00|\n",
      "+--------------------+---------------+-------------+------------------+---------------+------------+----------+----------------+------------------+----------+-------------------+\n",
      "\n",
      "131076\n",
      "##############################\n",
      "<class 'pyspark.sql.dataframe.DataFrame'> DataFrame[path: string, page_avg_scroll: int, page_avg_time: int, page_scroll_starts: int, page_total_time: int, page_uniques: int, page_views: int, page_views_loyal: int, page_views_quality: int, article_id: int, dia: timestamp]\n",
      "+--------------------+---------------+-------------+------------------+---------------+------------+----------+----------------+------------------+----------+-------------------+\n",
      "|                path|page_avg_scroll|page_avg_time|page_scroll_starts|page_total_time|page_uniques|page_views|page_views_loyal|page_views_quality|article_id|                dia|\n",
      "+--------------------+---------------+-------------+------------------+---------------+------------+----------+----------------+------------------+----------+-------------------+\n",
      "|gestion.pe/econom...|              0|            0|                 0|              0|           1|         1|               0|                 0|    131076|2019-02-23 00:00:00|\n",
      "+--------------------+---------------+-------------+------------------+---------------+------------+----------+----------------+------------------+----------+-------------------+\n",
      "\n",
      "CPU times: user 22.2 ms, sys: 16.9 ms, total: 39.1 ms\n",
      "Wall time: 59.6 s\n"
     ]
    }
   ],
   "source": [
    "%%time\n",
    "# TEST\n",
    "veces = 1\n",
    "for article_id in articles_in_csv - articles_in_db:\n",
    "    print(article_id)\n",
    "    article_data = get_data_article_fix(df_csv, article_id)\n",
    "    print(\"#\"*30)\n",
    "    print(type(article_data), article_data)\n",
    "    article_data.groupby('article_id')\n",
    "    article_data.show()\n",
    "        \n",
    "    if veces > 2:\n",
    "        break\n",
    "    veces += 1"
   ]
  },
  {
   "cell_type": "code",
   "execution_count": 28,
   "metadata": {},
   "outputs": [
    {
     "name": "stdout",
     "output_type": "stream",
     "text": [
      "131072\n",
      "====================\n",
      "{'path': {0: 'gestion.pe/tu-dinero/sunat-son-beneficios-tributarios-afectados-desastres-naturales-131072', 1: 'gestion.pe/tu-dinero/sunat-son-beneficios-tributarios-afectados-desastres-naturales-131072', 2: 'gestion.pe/tu-dinero/sunat-son-beneficios-tributarios-afectados-desastres-naturales-131072', 3: 'gestion.pe/tu-dinero/sunat-son-beneficios-tributarios-afectados-desastres-naturales-131072', 4: 'gestion.pe/tu-dinero/sunat-son-beneficios-tributarios-afectados-desastres-naturales-131072'}, 'page_avg_scroll': {0: 1813, 1: 1928, 2: 0, 3: 0, 4: 0}, 'page_avg_time': {0: 51, 1: 22, 2: 0, 3: 13, 4: 53}, 'article_id': {0: 131072, 1: 131072, 2: 131072, 3: 131072, 4: 131072}, 'dia': {0: Timestamp('2019-02-19 00:00:00'), 1: Timestamp('2019-02-21 00:00:00'), 2: Timestamp('2019-02-22 00:00:00'), 3: Timestamp('2019-02-25 00:00:00'), 4: Timestamp('2019-02-27 00:00:00')}}\n",
      "////////////////////\n",
      "{'article_id': 131072, 'path': 'gestion.pe/tu-dinero/sunat-son-beneficios-tributarios-afectados-desastres-naturales-131072', 'order': 5, 'avg_scroll_1': 1813, 'avg_time_1': 51, 'avg_scroll_2': 1928, 'avg_time_2': 22, 'avg_scroll_3': 0, 'avg_time_3': 0, 'avg_scroll_4': 0, 'avg_time_4': 13, 'avg_scroll_5': 0, 'avg_time_5': 53, 'avg_scroll_6': nan, 'avg_time_6': nan, 'avg_scroll_7': nan, 'avg_time_7': nan}\n",
      "+----------+------------+------------+------------+------------+------------+------------+------------+----------+----------+----------+----------+----------+----------+----------+-----+--------------------+\n",
      "|article_id|avg_scroll_1|avg_scroll_2|avg_scroll_3|avg_scroll_4|avg_scroll_5|avg_scroll_6|avg_scroll_7|avg_time_1|avg_time_2|avg_time_3|avg_time_4|avg_time_5|avg_time_6|avg_time_7|order|                path|\n",
      "+----------+------------+------------+------------+------------+------------+------------+------------+----------+----------+----------+----------+----------+----------+----------+-----+--------------------+\n",
      "|    131072|        1813|        1928|           0|           0|           0|         NaN|         NaN|        51|        22|         0|        13|        53|       NaN|       NaN|    5|gestion.pe/tu-din...|\n",
      "+----------+------------+------------+------------+------------+------------+------------+------------+----------+----------+----------+----------+----------+----------+----------+-----+--------------------+\n",
      "\n",
      "====================\n",
      "CPU times: user 34.5 ms, sys: 4.94 ms, total: 39.4 ms\n",
      "Wall time: 37.2 s\n"
     ]
    }
   ],
   "source": [
    "%%time\n",
    "\"\"\"\n",
    "def add_article_news(set_id_csv, set_id_db, df_csv, df_db):\n",
    "    # Recorrido sobre lista de id presentes en csv que no se encuentran en la db\n",
    "    for article_id in set_id_csv - set_id_db:\n",
    "        print(article_id)\n",
    "        \n",
    "        article_data = get_data_article(df_csv, article_id)\n",
    "        len_data = get_len_data(article_data)\n",
    "        \n",
    "        dicc_row = {\n",
    "            'article_id': get_first_value(article_data),\n",
    "            'path': get_first_value(article_data, col='path'),\n",
    "            'order': len_data\n",
    "        }\n",
    "        # date_keys = article_data.get('dia', {})\n",
    "        page_avg_scroll = article_data.get('page_avg_scroll', {})\n",
    "        page_avg_time = article_data.get('page_avg_time', {})\n",
    "        \n",
    "        for ii in range(max_data):\n",
    "            dicc_row['avg_scroll_{}'.format(ii + 1)] = page_avg_scroll.get(ii, np.nan)\n",
    "            dicc_row['avg_time_{}'.format(ii + 1)] = page_avg_time.get(ii, np.nan)\n",
    "        \n",
    "        # print(row)\n",
    "        #row = spark.createDataFrame([dicc_row], verifySchema=True)\n",
    "        print(\"/\"*20)\n",
    "        print(dicc_row)\n",
    "        myJson = sc.parallelize([json.dumps(dicc_row)])\n",
    "        row = spark.read.json(myJson)\n",
    "        row.show()\n",
    "        print(\"=\"*20)\n",
    "        # df_postgres = df_postgres.union(row)\n",
    "        break\n",
    "    \n",
    "# df_postgres.show()\n",
    "\"\"\""
   ]
  },
  {
   "cell_type": "code",
   "execution_count": 105,
   "metadata": {},
   "outputs": [
    {
     "data": {
      "text/plain": [
       "pyspark.sql.dataframe.DataFrame"
      ]
     },
     "execution_count": 105,
     "metadata": {},
     "output_type": "execute_result"
    }
   ],
   "source": [
    "type(df_postgres)"
   ]
  },
  {
   "cell_type": "code",
   "execution_count": 68,
   "metadata": {},
   "outputs": [
    {
     "name": "stdout",
     "output_type": "stream",
     "text": [
      "131072\n",
      "OrderedDict([('path', 'gestion.pe/tu-dinero/sunat-son-beneficios-tributarios-afectados-desastres-naturales-131072'), ('article_id', 131072), ('page_avg_scroll_1', 1813), ('page_avg_time_1', 51), ('page_scroll_starts_1', 1), ('page_total_time_1', 51), ('page_uniques_1', 1), ('page_views_1', 1), ('page_views_loyal_1', 0), ('page_views_quality_1', 1), ('date_1', datetime.date(2019, 2, 19)), ('page_avg_scroll_2', 1928), ('page_avg_time_2', 22), ('page_scroll_starts_2', 1), ('page_total_time_2', 44), ('page_uniques_2', 2), ('page_views_2', 2), ('page_views_loyal_2', 0), ('page_views_quality_2', 1), ('date_2', datetime.date(2019, 2, 21)), ('page_avg_scroll_3', 0), ('page_avg_time_3', 0), ('page_scroll_starts_3', 0), ('page_total_time_3', 0), ('page_uniques_3', 1), ('page_views_3', 2), ('page_views_loyal_3', 0), ('page_views_quality_3', 0), ('date_3', datetime.date(2019, 2, 22)), ('page_avg_scroll_4', 0), ('page_avg_time_4', 13), ('page_scroll_starts_4', 0), ('page_total_time_4', 41), ('page_uniques_4', 1), ('page_views_4', 3), ('page_views_loyal_4', 0), ('page_views_quality_4', 1), ('date_4', datetime.date(2019, 2, 25)), ('page_avg_scroll_5', 0), ('page_avg_time_5', 34), ('page_scroll_starts_5', 0), ('page_total_time_5', 69), ('page_uniques_5', 2), ('page_views_5', 2), ('page_views_loyal_5', 0), ('page_views_quality_5', 2), ('date_5', datetime.date(2019, 2, 27))])\n",
      "131074\n",
      "OrderedDict([('path', 'gestion.pe/economia/empresas/planta-lacteos-gloria-chosica-reinicia-operaciones-131074'), ('article_id', 131074), ('page_avg_scroll_1', 0), ('page_avg_time_1', 0), ('page_scroll_starts_1', 0), ('page_total_time_1', 0), ('page_uniques_1', 1), ('page_views_1', 1), ('page_views_loyal_1', 0), ('page_views_quality_1', 0), ('date_1', datetime.date(2019, 2, 26))])\n",
      "131076\n",
      "OrderedDict([('path', 'gestion.pe/economia/senamhi-alerta-lluvias-intensas-costa-norte-peru-sabado-25-131076'), ('article_id', 131076), ('page_avg_scroll_1', 0), ('page_avg_time_1', 0), ('page_scroll_starts_1', 0), ('page_total_time_1', 0), ('page_uniques_1', 1), ('page_views_1', 1), ('page_views_loyal_1', 0), ('page_views_quality_1', 0), ('date_1', datetime.date(2019, 2, 23))])\n",
      "5\n",
      "OrderedDict([('path', 'archivo.gestion.pe/noticias-de-decreto-n-005'), ('article_id', 5), ('page_avg_scroll_1', 0), ('page_avg_time_1', 0), ('page_scroll_starts_1', 0), ('page_total_time_1', 0), ('page_uniques_1', 1), ('page_views_1', 2), ('page_views_loyal_1', 0), ('page_views_quality_1', 0), ('date_1', datetime.date(2019, 2, 19))])\n",
      "131078\n",
      "OrderedDict([('path', 'gestion.pe/economia/empresas/sedapal-insiste-agua-potable-restablecera-progresivamente-dice-hora-131078'), ('article_id', 131078), ('page_avg_scroll_1', 0), ('page_avg_time_1', 8), ('page_scroll_starts_1', 0), ('page_total_time_1', 17), ('page_uniques_1', 2), ('page_views_1', 2), ('page_views_loyal_1', 0), ('page_views_quality_1', 1), ('date_1', datetime.date(2019, 2, 22))])\n",
      "10\n",
      "OrderedDict([('path', 'gestion.pe/economia/empresas/mineria-peru-10'), ('article_id', 10), ('page_avg_scroll_1', 0), ('page_avg_time_1', 0), ('page_scroll_starts_1', 0), ('page_total_time_1', 0), ('page_uniques_1', 1), ('page_views_1', 1), ('page_views_loyal_1', 0), ('page_views_quality_1', 0), ('date_1', datetime.date(2019, 2, 28))])\n",
      "11\n",
      "OrderedDict([('path', 'archivo.gestion.pe/noticias-de-videos-11'), ('article_id', 11), ('page_avg_scroll_1', 0), ('page_avg_time_1', 0), ('page_scroll_starts_1', 0), ('page_total_time_1', 0), ('page_uniques_1', 2), ('page_views_1', 2), ('page_views_loyal_1', 0), ('page_views_quality_1', 0), ('date_1', datetime.date(2019, 2, 23))])\n",
      "13\n",
      "OrderedDict([('path', 'archivo.gestion.pe/noticia/337942/exportaciones-productos-organicos-aumentan-13'), ('article_id', 13), ('page_avg_scroll_1', 279), ('page_avg_time_1', 10), ('page_scroll_starts_1', 0), ('page_total_time_1', 30), ('page_uniques_1', 3), ('page_views_1', 3), ('page_views_loyal_1', 0), ('page_views_quality_1', 1), ('date_1', datetime.date(2019, 2, 18)), ('page_avg_scroll_2', 225), ('page_avg_time_2', 20), ('page_scroll_starts_2', 0), ('page_total_time_2', 80), ('page_uniques_2', 2), ('page_views_2', 4), ('page_views_loyal_2', 0), ('page_views_quality_2', 2), ('date_2', datetime.date(2019, 2, 20)), ('page_avg_scroll_3', 1180), ('page_avg_time_3', 33), ('page_scroll_starts_3', 1), ('page_total_time_3', 100), ('page_uniques_3', 3), ('page_views_3', 3), ('page_views_loyal_3', 0), ('page_views_quality_3', 2), ('date_3', datetime.date(2019, 2, 21)), ('page_avg_scroll_4', 1400), ('page_avg_time_4', 13), ('page_scroll_starts_4', 1), ('page_total_time_4', 13), ('page_uniques_4', 1), ('page_views_4', 1), ('page_views_loyal_4', 0), ('page_views_quality_4', 0), ('date_4', datetime.date(2019, 2, 23)), ('page_avg_scroll_5', 0), ('page_avg_time_5', 3), ('page_scroll_starts_5', 0), ('page_total_time_5', 3), ('page_uniques_5', 1), ('page_views_5', 1), ('page_views_loyal_5', 0), ('page_views_quality_5', 0), ('date_5', datetime.date(2019, 2, 24)), ('page_avg_scroll_6', 640), ('page_avg_time_6', 48), ('page_scroll_starts_6', 1), ('page_total_time_6', 96), ('page_uniques_6', 2), ('page_views_6', 2), ('page_views_loyal_6', 0), ('page_views_quality_6', 2), ('date_6', datetime.date(2019, 2, 25)), ('page_avg_scroll_7', 200), ('page_avg_time_7', 8), ('page_scroll_starts_7', 1), ('page_total_time_7', 8), ('page_uniques_7', 1), ('page_views_7', 1), ('page_views_loyal_7', 0), ('page_views_quality_7', 0), ('date_7', datetime.date(2019, 2, 26)), ('date_8', datetime.date(2019, 2, 27))])\n",
      "15\n",
      "OrderedDict([('path', 'archivo.gestion.pe/noticia/269785/mercado-agua-embotellada-creceria-15'), ('article_id', 15), ('page_avg_scroll_1', 40), ('page_avg_time_1', 25), ('page_scroll_starts_1', 1), ('page_total_time_1', 25), ('page_uniques_1', 1), ('page_views_1', 1), ('page_views_loyal_1', 0), ('page_views_quality_1', 1), ('date_1', datetime.date(2019, 2, 27))])\n",
      "131088\n",
      "OrderedDict([('path', 'gestion.pe/peru/politica/mtc-momento-25-puentes-han-colapsado-causa-huaicos-131088'), ('article_id', 131088), ('page_avg_scroll_1', 15), ('page_avg_time_1', 0), ('page_scroll_starts_1', 1), ('page_total_time_1', 0), ('page_uniques_1', 1), ('page_views_1', 1), ('page_views_loyal_1', 0), ('page_views_quality_1', 0), ('date_1', datetime.date(2019, 2, 28))])\n",
      "INICIARA GUARDADO\n",
      "+----------+----------+----------+----------+----------+----------+-----------------+-----------------+-----------------+-----------------+-----------------+---------------+---------------+---------------+---------------+---------------+--------------------+--------------------+--------------------+--------------------+--------------------+-----------------+-----------------+-----------------+-----------------+-----------------+--------------+--------------+--------------+--------------+--------------+------------+------------+------------+------------+------------+------------------+------------------+------------------+------------------+------------------+--------------------+--------------------+--------------------+--------------------+--------------------+--------------------+----------+----------+----------+-----------------+-----------------+---------------+---------------+--------------------+--------------------+-----------------+-----------------+--------------+--------------+------------+------------+------------------+------------------+--------------------+--------------------+\n",
      "|article_id|    date_1|    date_2|    date_3|    date_4|    date_5|page_avg_scroll_1|page_avg_scroll_2|page_avg_scroll_3|page_avg_scroll_4|page_avg_scroll_5|page_avg_time_1|page_avg_time_2|page_avg_time_3|page_avg_time_4|page_avg_time_5|page_scroll_starts_1|page_scroll_starts_2|page_scroll_starts_3|page_scroll_starts_4|page_scroll_starts_5|page_total_time_1|page_total_time_2|page_total_time_3|page_total_time_4|page_total_time_5|page_uniques_1|page_uniques_2|page_uniques_3|page_uniques_4|page_uniques_5|page_views_1|page_views_2|page_views_3|page_views_4|page_views_5|page_views_loyal_1|page_views_loyal_2|page_views_loyal_3|page_views_loyal_4|page_views_loyal_5|page_views_quality_1|page_views_quality_2|page_views_quality_3|page_views_quality_4|page_views_quality_5|                path|    date_6|    date_7|    date_8|page_avg_scroll_6|page_avg_scroll_7|page_avg_time_6|page_avg_time_7|page_scroll_starts_6|page_scroll_starts_7|page_total_time_6|page_total_time_7|page_uniques_6|page_uniques_7|page_views_6|page_views_7|page_views_loyal_6|page_views_loyal_7|page_views_quality_6|page_views_quality_7|\n",
      "+----------+----------+----------+----------+----------+----------+-----------------+-----------------+-----------------+-----------------+-----------------+---------------+---------------+---------------+---------------+---------------+--------------------+--------------------+--------------------+--------------------+--------------------+-----------------+-----------------+-----------------+-----------------+-----------------+--------------+--------------+--------------+--------------+--------------+------------+------------+------------+------------+------------+------------------+------------------+------------------+------------------+------------------+--------------------+--------------------+--------------------+--------------------+--------------------+--------------------+----------+----------+----------+-----------------+-----------------+---------------+---------------+--------------------+--------------------+-----------------+-----------------+--------------+--------------+------------+------------+------------------+------------------+--------------------+--------------------+\n",
      "|    131072|2019-02-19|2019-02-21|2019-02-22|2019-02-25|2019-02-27|             1813|             1928|                0|                0|                0|             51|             22|              0|             13|             34|                   1|                   1|                   0|                   0|                   0|               51|               44|                0|               41|               69|             1|             2|             1|             1|             2|           1|           2|           2|           3|           2|                 0|                 0|                 0|                 0|                 0|                   1|                   1|                   0|                   1|                   2|gestion.pe/tu-din...|      null|      null|      null|             null|             null|           null|           null|                null|                null|             null|             null|          null|          null|        null|        null|              null|              null|                null|                null|\n",
      "|    131074|2019-02-26|      null|      null|      null|      null|                0|             null|             null|             null|             null|              0|           null|           null|           null|           null|                   0|                null|                null|                null|                null|                0|             null|             null|             null|             null|             1|          null|          null|          null|          null|           1|        null|        null|        null|        null|                 0|              null|              null|              null|              null|                   0|                null|                null|                null|                null|gestion.pe/econom...|      null|      null|      null|             null|             null|           null|           null|                null|                null|             null|             null|          null|          null|        null|        null|              null|              null|                null|                null|\n",
      "|    131076|2019-02-23|      null|      null|      null|      null|                0|             null|             null|             null|             null|              0|           null|           null|           null|           null|                   0|                null|                null|                null|                null|                0|             null|             null|             null|             null|             1|          null|          null|          null|          null|           1|        null|        null|        null|        null|                 0|              null|              null|              null|              null|                   0|                null|                null|                null|                null|gestion.pe/econom...|      null|      null|      null|             null|             null|           null|           null|                null|                null|             null|             null|          null|          null|        null|        null|              null|              null|                null|                null|\n",
      "|         5|2019-02-19|      null|      null|      null|      null|                0|             null|             null|             null|             null|              0|           null|           null|           null|           null|                   0|                null|                null|                null|                null|                0|             null|             null|             null|             null|             1|          null|          null|          null|          null|           2|        null|        null|        null|        null|                 0|              null|              null|              null|              null|                   0|                null|                null|                null|                null|archivo.gestion.p...|      null|      null|      null|             null|             null|           null|           null|                null|                null|             null|             null|          null|          null|        null|        null|              null|              null|                null|                null|\n",
      "|    131078|2019-02-22|      null|      null|      null|      null|                0|             null|             null|             null|             null|              8|           null|           null|           null|           null|                   0|                null|                null|                null|                null|               17|             null|             null|             null|             null|             2|          null|          null|          null|          null|           2|        null|        null|        null|        null|                 0|              null|              null|              null|              null|                   1|                null|                null|                null|                null|gestion.pe/econom...|      null|      null|      null|             null|             null|           null|           null|                null|                null|             null|             null|          null|          null|        null|        null|              null|              null|                null|                null|\n",
      "|        10|2019-02-28|      null|      null|      null|      null|                0|             null|             null|             null|             null|              0|           null|           null|           null|           null|                   0|                null|                null|                null|                null|                0|             null|             null|             null|             null|             1|          null|          null|          null|          null|           1|        null|        null|        null|        null|                 0|              null|              null|              null|              null|                   0|                null|                null|                null|                null|gestion.pe/econom...|      null|      null|      null|             null|             null|           null|           null|                null|                null|             null|             null|          null|          null|        null|        null|              null|              null|                null|                null|\n",
      "|        11|2019-02-23|      null|      null|      null|      null|                0|             null|             null|             null|             null|              0|           null|           null|           null|           null|                   0|                null|                null|                null|                null|                0|             null|             null|             null|             null|             2|          null|          null|          null|          null|           2|        null|        null|        null|        null|                 0|              null|              null|              null|              null|                   0|                null|                null|                null|                null|archivo.gestion.p...|      null|      null|      null|             null|             null|           null|           null|                null|                null|             null|             null|          null|          null|        null|        null|              null|              null|                null|                null|\n",
      "|        13|2019-02-18|2019-02-20|2019-02-21|2019-02-23|2019-02-24|              279|              225|             1180|             1400|                0|             10|             20|             33|             13|              3|                   0|                   0|                   1|                   1|                   0|               30|               80|              100|               13|                3|             3|             2|             3|             1|             1|           3|           4|           3|           1|           1|                 0|                 0|                 0|                 0|                 0|                   1|                   2|                   2|                   0|                   0|archivo.gestion.p...|2019-02-25|2019-02-26|2019-02-27|              640|              200|             48|              8|                   1|                   1|               96|                8|             2|             1|           2|           1|                 0|                 0|                   2|                   0|\n",
      "|        15|2019-02-27|      null|      null|      null|      null|               40|             null|             null|             null|             null|             25|           null|           null|           null|           null|                   1|                null|                null|                null|                null|               25|             null|             null|             null|             null|             1|          null|          null|          null|          null|           1|        null|        null|        null|        null|                 0|              null|              null|              null|              null|                   1|                null|                null|                null|                null|archivo.gestion.p...|      null|      null|      null|             null|             null|           null|           null|                null|                null|             null|             null|          null|          null|        null|        null|              null|              null|                null|                null|\n",
      "|    131088|2019-02-28|      null|      null|      null|      null|               15|             null|             null|             null|             null|              0|           null|           null|           null|           null|                   1|                null|                null|                null|                null|                0|             null|             null|             null|             null|             1|          null|          null|          null|          null|           1|        null|        null|        null|        null|                 0|              null|              null|              null|              null|                   0|                null|                null|                null|                null|gestion.pe/peru/p...|      null|      null|      null|             null|             null|           null|           null|                null|                null|             null|             null|          null|          null|        null|        null|              null|              null|                null|                null|\n",
      "+----------+----------+----------+----------+----------+----------+-----------------+-----------------+-----------------+-----------------+-----------------+---------------+---------------+---------------+---------------+---------------+--------------------+--------------------+--------------------+--------------------+--------------------+-----------------+-----------------+-----------------+-----------------+-----------------+--------------+--------------+--------------+--------------+--------------+------------+------------+------------+------------+------------+------------------+------------------+------------------+------------------+------------------+--------------------+--------------------+--------------------+--------------------+--------------------+--------------------+----------+----------+----------+-----------------+-----------------+---------------+---------------+--------------------+--------------------+-----------------+-----------------+--------------+--------------+------------+------------+------------------+------------------+--------------------+--------------------+\n",
      "\n",
      "CPU times: user 148 ms, sys: 23.2 ms, total: 172 ms\n",
      "Wall time: 7min 52s\n"
     ]
    }
   ],
   "source": [
    "%%time\n",
    "import collections\n",
    "from pyspark.sql.functions import  monotonically_increasing_id\n",
    "\n",
    "_metrics = \"page_avg_scroll,page_avg_time,page_scroll_starts,page_total_time,page_uniques,page_views,page_views_loyal,page_views_quality\"\n",
    "\n",
    "def add_article_news(set_id_csv, set_id_db, df_csv, df_db):\n",
    "    cant_max_up = 10\n",
    "    list_up_db = []\n",
    "    # Recorrido sobre lista de id presentes en csv que no se encuentran en la db\n",
    "    for article_id in set_id_csv - set_id_db:\n",
    "        print(article_id)\n",
    "        \n",
    "        article_data = get_data_article_fix(df_csv, article_id)\n",
    "        order = 1\n",
    "        dicc_row = collections.OrderedDict()\n",
    "        \n",
    "        for row in article_data:\n",
    "            if order == 1:\n",
    "                dicc_row['path'] = row['path']\n",
    "                dicc_row['article_id'] = row['article_id']\n",
    "            \n",
    "            dicc_row.update({\n",
    "              '{}_{}'.format(metric, order): row[metric] for metric in _metrics.split(',') \n",
    "              if '{}_{}'.format(metric, order) in df_db.columns\n",
    "            })\n",
    "            dicc_row['date_{}'.format(order)] = row['dia'].date()\n",
    "            order += 1\n",
    "        \n",
    "        print(dicc_row)\n",
    "        list_up_db.append(dicc_row)\n",
    "        \n",
    "        if len(list_up_db) >= cant_max_up:\n",
    "            print(\"INICIARA GUARDADO\")\n",
    "            # myJson = sc.parallelize([json.dumps(dicc_row)])\n",
    "            # row_up = spark.read.json(myJson)\n",
    "        \n",
    "            row_up = spark.createDataFrame(list_up_db, verifySchema=True)\n",
    "            row_up.show()\n",
    "            break\n",
    "    return row_up\n",
    "        \n",
    "row_up = add_article_news(articles_in_csv, articles_in_db, df_csv, df_postgres)"
   ]
  },
  {
   "cell_type": "code",
   "execution_count": 55,
   "metadata": {},
   "outputs": [
    {
     "name": "stdout",
     "output_type": "stream",
     "text": [
      "root\n",
      " |-- article_id: long (nullable = true)\n",
      " |-- date_1: date (nullable = true)\n",
      " |-- date_2: date (nullable = true)\n",
      " |-- date_3: date (nullable = true)\n",
      " |-- date_4: date (nullable = true)\n",
      " |-- date_5: date (nullable = true)\n",
      " |-- page_avg_scroll_1: long (nullable = true)\n",
      " |-- page_avg_scroll_2: long (nullable = true)\n",
      " |-- page_avg_scroll_3: long (nullable = true)\n",
      " |-- page_avg_scroll_4: long (nullable = true)\n",
      " |-- page_avg_scroll_5: long (nullable = true)\n",
      " |-- page_avg_time_1: long (nullable = true)\n",
      " |-- page_avg_time_2: long (nullable = true)\n",
      " |-- page_avg_time_3: long (nullable = true)\n",
      " |-- page_avg_time_4: long (nullable = true)\n",
      " |-- page_avg_time_5: long (nullable = true)\n",
      " |-- page_scroll_starts_1: long (nullable = true)\n",
      " |-- page_scroll_starts_2: long (nullable = true)\n",
      " |-- page_scroll_starts_3: long (nullable = true)\n",
      " |-- page_scroll_starts_4: long (nullable = true)\n",
      " |-- page_scroll_starts_5: long (nullable = true)\n",
      " |-- page_total_time_1: long (nullable = true)\n",
      " |-- page_total_time_2: long (nullable = true)\n",
      " |-- page_total_time_3: long (nullable = true)\n",
      " |-- page_total_time_4: long (nullable = true)\n",
      " |-- page_total_time_5: long (nullable = true)\n",
      " |-- page_uniques_1: long (nullable = true)\n",
      " |-- page_uniques_2: long (nullable = true)\n",
      " |-- page_uniques_3: long (nullable = true)\n",
      " |-- page_uniques_4: long (nullable = true)\n",
      " |-- page_uniques_5: long (nullable = true)\n",
      " |-- page_views_1: long (nullable = true)\n",
      " |-- page_views_2: long (nullable = true)\n",
      " |-- page_views_3: long (nullable = true)\n",
      " |-- page_views_4: long (nullable = true)\n",
      " |-- page_views_5: long (nullable = true)\n",
      " |-- page_views_loyal_1: long (nullable = true)\n",
      " |-- page_views_loyal_2: long (nullable = true)\n",
      " |-- page_views_loyal_3: long (nullable = true)\n",
      " |-- page_views_loyal_4: long (nullable = true)\n",
      " |-- page_views_loyal_5: long (nullable = true)\n",
      " |-- page_views_quality_1: long (nullable = true)\n",
      " |-- page_views_quality_2: long (nullable = true)\n",
      " |-- page_views_quality_3: long (nullable = true)\n",
      " |-- page_views_quality_4: long (nullable = true)\n",
      " |-- page_views_quality_5: long (nullable = true)\n",
      " |-- path: string (nullable = true)\n",
      "\n"
     ]
    }
   ],
   "source": [
    "row_up.printSchema()"
   ]
  },
  {
   "cell_type": "code",
   "execution_count": 56,
   "metadata": {},
   "outputs": [
    {
     "name": "stdout",
     "output_type": "stream",
     "text": [
      "root\n",
      " |-- article_id: integer (nullable = true)\n",
      " |-- path: string (nullable = true)\n",
      " |-- order: integer (nullable = true)\n",
      " |-- date_1: date (nullable = true)\n",
      " |-- date_2: date (nullable = true)\n",
      " |-- date_3: date (nullable = true)\n",
      " |-- date_4: date (nullable = true)\n",
      " |-- date_5: date (nullable = true)\n",
      " |-- date_6: date (nullable = true)\n",
      " |-- date_7: date (nullable = true)\n",
      " |-- page_avg_time_1: integer (nullable = true)\n",
      " |-- page_avg_scroll_1: integer (nullable = true)\n",
      " |-- page_avg_time_2: integer (nullable = true)\n",
      " |-- page_avg_scroll_2: integer (nullable = true)\n",
      " |-- page_avg_time_3: integer (nullable = true)\n",
      " |-- page_avg_scroll_3: integer (nullable = true)\n",
      " |-- page_avg_time_4: integer (nullable = true)\n",
      " |-- page_avg_scroll_4: integer (nullable = true)\n",
      " |-- page_avg_time_5: integer (nullable = true)\n",
      " |-- page_avg_scroll_5: integer (nullable = true)\n",
      " |-- page_avg_time_6: integer (nullable = true)\n",
      " |-- page_avg_scroll_6: integer (nullable = true)\n",
      " |-- page_avg_time_7: integer (nullable = true)\n",
      " |-- page_avg_scroll_7: integer (nullable = true)\n",
      " |-- page_scroll_starts_1: integer (nullable = true)\n",
      " |-- page_scroll_starts_2: integer (nullable = true)\n",
      " |-- page_scroll_starts_3: integer (nullable = true)\n",
      " |-- page_scroll_starts_4: integer (nullable = true)\n",
      " |-- page_scroll_starts_5: integer (nullable = true)\n",
      " |-- page_scroll_starts_6: integer (nullable = true)\n",
      " |-- page_scroll_starts_7: integer (nullable = true)\n",
      " |-- page_total_time_1: integer (nullable = true)\n",
      " |-- page_total_time_2: integer (nullable = true)\n",
      " |-- page_total_time_3: integer (nullable = true)\n",
      " |-- page_total_time_4: integer (nullable = true)\n",
      " |-- page_total_time_5: integer (nullable = true)\n",
      " |-- page_total_time_6: integer (nullable = true)\n",
      " |-- page_total_time_7: integer (nullable = true)\n",
      " |-- page_uniques_1: integer (nullable = true)\n",
      " |-- page_uniques_2: integer (nullable = true)\n",
      " |-- page_uniques_3: integer (nullable = true)\n",
      " |-- page_uniques_4: integer (nullable = true)\n",
      " |-- page_uniques_5: integer (nullable = true)\n",
      " |-- page_uniques_6: integer (nullable = true)\n",
      " |-- page_uniques_7: integer (nullable = true)\n",
      " |-- page_views_1: integer (nullable = true)\n",
      " |-- page_views_2: integer (nullable = true)\n",
      " |-- page_views_3: integer (nullable = true)\n",
      " |-- page_views_4: integer (nullable = true)\n",
      " |-- page_views_5: integer (nullable = true)\n",
      " |-- page_views_6: integer (nullable = true)\n",
      " |-- page_views_7: integer (nullable = true)\n",
      " |-- page_views_loyal_1: integer (nullable = true)\n",
      " |-- page_views_loyal_2: integer (nullable = true)\n",
      " |-- page_views_loyal_3: integer (nullable = true)\n",
      " |-- page_views_loyal_4: integer (nullable = true)\n",
      " |-- page_views_loyal_5: integer (nullable = true)\n",
      " |-- page_views_loyal_6: integer (nullable = true)\n",
      " |-- page_views_loyal_7: integer (nullable = true)\n",
      " |-- page_views_quality_1: integer (nullable = true)\n",
      " |-- page_views_quality_2: integer (nullable = true)\n",
      " |-- page_views_quality_3: integer (nullable = true)\n",
      " |-- page_views_quality_4: integer (nullable = true)\n",
      " |-- page_views_quality_5: integer (nullable = true)\n",
      " |-- page_views_quality_6: integer (nullable = true)\n",
      " |-- page_views_quality_7: integer (nullable = true)\n",
      "\n"
     ]
    }
   ],
   "source": [
    "df_postgres.printSchema()"
   ]
  },
  {
   "cell_type": "code",
   "execution_count": 57,
   "metadata": {},
   "outputs": [
    {
     "name": "stdout",
     "output_type": "stream",
     "text": [
      "+----------+----------+----------+----------+----------+----------+-----------------+-----------------+-----------------+-----------------+-----------------+---------------+---------------+---------------+---------------+---------------+--------------------+--------------------+--------------------+--------------------+--------------------+-----------------+-----------------+-----------------+-----------------+-----------------+--------------+--------------+--------------+--------------+--------------+------------+------------+------------+------------+------------+------------------+------------------+------------------+------------------+------------------+--------------------+--------------------+--------------------+--------------------+--------------------+--------------------+\n",
      "|article_id|    date_1|    date_2|    date_3|    date_4|    date_5|page_avg_scroll_1|page_avg_scroll_2|page_avg_scroll_3|page_avg_scroll_4|page_avg_scroll_5|page_avg_time_1|page_avg_time_2|page_avg_time_3|page_avg_time_4|page_avg_time_5|page_scroll_starts_1|page_scroll_starts_2|page_scroll_starts_3|page_scroll_starts_4|page_scroll_starts_5|page_total_time_1|page_total_time_2|page_total_time_3|page_total_time_4|page_total_time_5|page_uniques_1|page_uniques_2|page_uniques_3|page_uniques_4|page_uniques_5|page_views_1|page_views_2|page_views_3|page_views_4|page_views_5|page_views_loyal_1|page_views_loyal_2|page_views_loyal_3|page_views_loyal_4|page_views_loyal_5|page_views_quality_1|page_views_quality_2|page_views_quality_3|page_views_quality_4|page_views_quality_5|                path|\n",
      "+----------+----------+----------+----------+----------+----------+-----------------+-----------------+-----------------+-----------------+-----------------+---------------+---------------+---------------+---------------+---------------+--------------------+--------------------+--------------------+--------------------+--------------------+-----------------+-----------------+-----------------+-----------------+-----------------+--------------+--------------+--------------+--------------+--------------+------------+------------+------------+------------+------------+------------------+------------------+------------------+------------------+------------------+--------------------+--------------------+--------------------+--------------------+--------------------+--------------------+\n",
      "|    131072|2019-02-19|2019-02-21|2019-02-22|2019-02-25|2019-02-27|             1813|             1928|                0|                0|                0|             51|             22|              0|             13|             34|                   1|                   1|                   0|                   0|                   0|               51|               44|                0|               41|               69|             1|             2|             1|             1|             2|           1|           2|           2|           3|           2|                 0|                 0|                 0|                 0|                 0|                   1|                   1|                   0|                   1|                   2|gestion.pe/tu-din...|\n",
      "+----------+----------+----------+----------+----------+----------+-----------------+-----------------+-----------------+-----------------+-----------------+---------------+---------------+---------------+---------------+---------------+--------------------+--------------------+--------------------+--------------------+--------------------+-----------------+-----------------+-----------------+-----------------+-----------------+--------------+--------------+--------------+--------------+--------------+------------+------------+------------+------------+------------+------------------+------------------+------------------+------------------+------------------+--------------------+--------------------+--------------------+--------------------+--------------------+--------------------+\n",
      "\n"
     ]
    }
   ],
   "source": [
    "row_up.show(5)"
   ]
  },
  {
   "cell_type": "code",
   "execution_count": null,
   "metadata": {},
   "outputs": [],
   "source": []
  },
  {
   "cell_type": "code",
   "execution_count": null,
   "metadata": {},
   "outputs": [],
   "source": []
  },
  {
   "cell_type": "code",
   "execution_count": null,
   "metadata": {},
   "outputs": [],
   "source": []
  },
  {
   "cell_type": "code",
   "execution_count": null,
   "metadata": {},
   "outputs": [],
   "source": []
  },
  {
   "cell_type": "code",
   "execution_count": null,
   "metadata": {},
   "outputs": [],
   "source": []
  },
  {
   "cell_type": "code",
   "execution_count": 31,
   "metadata": {},
   "outputs": [
    {
     "data": {
      "text/plain": [
       "'\\nschema_json_field = StructType([\\n    StructField(\"order\", IntegerType()), \\n    StructField(\"page_avg_scroll\", IntegerType()),\\n    StructField(\"page_avg_time\", IntegerType())\\n])\\n\\njson_load = psf.udf(json.loads, schema_json_field)\\ndf_up = df_postgres.withColumn(\"trafic_info\", json_load(\"trafic_info\"))\\n'"
      ]
     },
     "execution_count": 31,
     "metadata": {},
     "output_type": "execute_result"
    }
   ],
   "source": [
    "\"\"\"\n",
    "schema_json_field = StructType([\n",
    "    StructField(\"order\", IntegerType()), \n",
    "    StructField(\"page_avg_scroll\", IntegerType()),\n",
    "    StructField(\"page_avg_time\", IntegerType())\n",
    "])\n",
    "\n",
    "json_load = psf.udf(json.loads, schema_json_field)\n",
    "df_up = df_postgres.withColumn(\"trafic_info\", json_load(\"trafic_info\"))\n",
    "\"\"\""
   ]
  },
  {
   "cell_type": "code",
   "execution_count": 61,
   "metadata": {},
   "outputs": [],
   "source": [
    "row_up.write.jdbc(mode='ignore', **connection_db)"
   ]
  },
  {
   "cell_type": "code",
   "execution_count": 60,
   "metadata": {},
   "outputs": [
    {
     "ename": "NameError",
     "evalue": "name 'getNextException' is not defined",
     "output_type": "error",
     "traceback": [
      "\u001b[0;31m---------------------------------------------------------------------------\u001b[0m",
      "\u001b[0;31mNameError\u001b[0m                                 Traceback (most recent call last)",
      "\u001b[0;32m<ipython-input-60-5814e75ed391>\u001b[0m in \u001b[0;36m<module>\u001b[0;34m()\u001b[0m\n\u001b[0;32m----> 1\u001b[0;31m \u001b[0mgetNextException\u001b[0m\u001b[0;34m\u001b[0m\u001b[0;34m\u001b[0m\u001b[0m\n\u001b[0m",
      "\u001b[0;31mNameError\u001b[0m: name 'getNextException' is not defined"
     ]
    }
   ],
   "source": [
    "getNextException"
   ]
  },
  {
   "cell_type": "code",
   "execution_count": null,
   "metadata": {},
   "outputs": [],
   "source": [
    "# df_postgres.write.jdbc(mode='append', **connection_db)"
   ]
  },
  {
   "cell_type": "code",
   "execution_count": 34,
   "metadata": {},
   "outputs": [
    {
     "ename": "AttributeError",
     "evalue": "'NoneType' object has no attribute 'show'",
     "output_type": "error",
     "traceback": [
      "\u001b[0;31m---------------------------------------------------------------------------\u001b[0m",
      "\u001b[0;31mAttributeError\u001b[0m                            Traceback (most recent call last)",
      "\u001b[0;32m<ipython-input-34-77b21d7b8859>\u001b[0m in \u001b[0;36m<module>\u001b[0;34m()\u001b[0m\n\u001b[0;32m----> 1\u001b[0;31m \u001b[0mdf_up\u001b[0m\u001b[0;34m.\u001b[0m\u001b[0mshow\u001b[0m\u001b[0;34m(\u001b[0m\u001b[0;34m)\u001b[0m\u001b[0;34m\u001b[0m\u001b[0;34m\u001b[0m\u001b[0m\n\u001b[0m",
      "\u001b[0;31mAttributeError\u001b[0m: 'NoneType' object has no attribute 'show'"
     ]
    }
   ],
   "source": [
    "df_up.show()"
   ]
  },
  {
   "cell_type": "code",
   "execution_count": null,
   "metadata": {},
   "outputs": [],
   "source": []
  }
 ],
 "metadata": {
  "kernelspec": {
   "display_name": "Python 3",
   "language": "python",
   "name": "python3"
  },
  "language_info": {
   "codemirror_mode": {
    "name": "ipython",
    "version": 3
   },
   "file_extension": ".py",
   "mimetype": "text/x-python",
   "name": "python",
   "nbconvert_exporter": "python",
   "pygments_lexer": "ipython3",
   "version": "3.6.8"
  }
 },
 "nbformat": 4,
 "nbformat_minor": 2
}
