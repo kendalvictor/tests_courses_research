{
 "cells": [
  {
   "cell_type": "code",
   "execution_count": 1,
   "metadata": {},
   "outputs": [],
   "source": [
    "import findspark \n",
    "findspark.init()\n",
    "\n",
    "from pyspark.ml.feature import MinHashLSH, BucketedRandomProjectionLSH\n",
    "from pyspark.ml.linalg import Vectors\n",
    "from pyspark.sql.functions import col\n",
    "\n",
    "from pyspark.ml import Pipeline\n",
    "from IPython.display import display\n",
    "from pyspark.sql import SparkSession\n",
    "from pyspark import SparkConf, SparkContext\n",
    "from pyspark.ml.feature import VectorAssembler, StandardScaler, MinMaxScaler\n",
    "from pyspark.ml.clustering import KMeans, GaussianMixture, BisectingKMeans\n",
    "from pyspark.mllib.evaluation import MulticlassMetrics\n",
    "\n",
    "spark = SparkSession.builder.appName('laptop_everis').getOrCreate()\n",
    "\n",
    "from pyspark import SparkContext\n",
    "sc = SparkContext.getOrCreate()"
   ]
  },
  {
   "cell_type": "markdown",
   "metadata": {},
   "source": [
    "# 1ER METODO USANDO KMEANS"
   ]
  },
  {
   "cell_type": "code",
   "execution_count": 2,
   "metadata": {},
   "outputs": [
    {
     "name": "stdout",
     "output_type": "stream",
     "text": [
      "262144 256\n",
      "236195 256 25949 256\n"
     ]
    }
   ],
   "source": [
    "SEED = 29082013\n",
    "\n",
    "df = spark.read.csv(\"train.csv\", header=True, nullValue=\"?\", inferSchema=True)\n",
    "train, test = df.randomSplit([0.9, 0.1], seed=SEED)\n",
    "#ds.printSchema()\n",
    "\n",
    "# SELECT COLUMNS\n",
    "cols_features = df.columns[1:-1]\n",
    "print(df.count(), len(cols_features))\n",
    "del df\n",
    "print(train.count(), len(train.columns[1:-1]), test.count(), len(test.columns[1:-1]))"
   ]
  },
  {
   "cell_type": "code",
   "execution_count": 3,
   "metadata": {},
   "outputs": [],
   "source": [
    "def vector_scaler_df(cols_features, ds):\n",
    "    \"\"\"\n",
    "        Vectorized and Scaled features \n",
    "    \"\"\"\n",
    "    assembler = VectorAssembler(inputCols=cols_features, outputCol=\"features\")\n",
    "    scaler = MinMaxScaler(inputCol=\"features\", outputCol=\"scaled_features\")\n",
    "    pipeline = Pipeline(stages=[assembler, scaler])\n",
    "    \n",
    "    _proccess = pipeline.fit(ds)\n",
    "    ds = _proccess.transform(ds).drop(*cols_features).drop(\"features\")\n",
    "    display(ds.show(5))\n",
    "    \n",
    "    return ds"
   ]
  },
  {
   "cell_type": "code",
   "execution_count": 4,
   "metadata": {},
   "outputs": [
    {
     "name": "stdout",
     "output_type": "stream",
     "text": [
      "+--------------------+------+--------------------+\n",
      "|                  id|target|     scaled_features|\n",
      "+--------------------+------+--------------------+\n",
      "|00006042e379fc155...|     0|[0.49528391025019...|\n",
      "|00034f0082232ad8f...|     1|[0.58426583877505...|\n",
      "|00036a71992c149e9...|     1|[0.57050461218803...|\n",
      "|0007233584b5a85b4...|     1|[0.19173779654246...|\n",
      "|000863c7e31c5f2c6...|     1|[0.54246210877028...|\n",
      "+--------------------+------+--------------------+\n",
      "only showing top 5 rows\n",
      "\n"
     ]
    },
    {
     "data": {
      "text/plain": [
       "None"
      ]
     },
     "metadata": {},
     "output_type": "display_data"
    },
    {
     "name": "stdout",
     "output_type": "stream",
     "text": [
      "+--------------------+------+--------------------+\n",
      "|                  id|target|     scaled_features|\n",
      "+--------------------+------+--------------------+\n",
      "|0008851be01140e75...|     0|[0.53830965805633...|\n",
      "|00161f97cdda20b20...|     0|[0.50902435894809...|\n",
      "|002973cbedd83d830...|     1|[0.48272745364806...|\n",
      "|002bde7fd91b49aaa...|     0|[0.52097871657607...|\n",
      "|003cb39fb6c0a2556...|     1|[0.53506723477089...|\n",
      "+--------------------+------+--------------------+\n",
      "only showing top 5 rows\n",
      "\n"
     ]
    },
    {
     "data": {
      "text/plain": [
       "None"
      ]
     },
     "metadata": {},
     "output_type": "display_data"
    }
   ],
   "source": [
    "train = vector_scaler_df(cols_features, train)\n",
    "test = vector_scaler_df(cols_features, test)"
   ]
  },
  {
   "cell_type": "code",
   "execution_count": null,
   "metadata": {},
   "outputs": [],
   "source": [
    "# DECLARE PARAMETERS\n",
    "clusters = 3\n",
    "max_iter = 100\n",
    "\n",
    "# TRAIN AND PREDICT\n",
    "kmeans_clf = BisectingKMeans()\\\n",
    "         .setK(clusters)\\\n",
    "         .setMaxIter(max_iter)\\\n",
    "         .setSeed(SEED)\\\n",
    "         .setFeaturesCol(\"scaled_features\")\\\n",
    "         .setPredictionCol(\"cluster\")\\\n",
    "         .setDistanceMeasure(\"euclidean\")\n",
    "\n",
    "model_km = kmeans_clf.fit(train)\n",
    "print(dir(model_km))"
   ]
  },
  {
   "cell_type": "code",
   "execution_count": 80,
   "metadata": {},
   "outputs": [
    {
     "name": "stdout",
     "output_type": "stream",
     "text": [
      "['__class__', '__del__', '__delattr__', '__dict__', '__dir__', '__doc__', '__eq__', '__format__', '__ge__', '__getattribute__', '__gt__', '__hash__', '__init__', '__init_subclass__', '__le__', '__lt__', '__metaclass__', '__module__', '__ne__', '__new__', '__reduce__', '__reduce_ex__', '__repr__', '__setattr__', '__sizeof__', '__str__', '__subclasshook__', '__weakref__', '_call_java', '_clear', '_copyValues', '_copy_params', '_create_from_java_class', '_create_model', '_create_params_from_java', '_defaultParamMap', '_dummy', '_empty_java_param_map', '_fit', '_fit_java', '_from_java', '_input_kwargs', '_java_obj', '_make_java_param_pair', '_new_java_array', '_new_java_obj', '_paramMap', '_params', '_randomUID', '_resetUid', '_resolveParam', '_set', '_setDefault', '_shouldOwn', '_to_java', '_transfer_param_map_from_java', '_transfer_param_map_to_java', '_transfer_params_from_java', '_transfer_params_to_java', 'copy', 'distanceMeasure', 'explainParam', 'explainParams', 'extractParamMap', 'featuresCol', 'fit', 'fitMultiple', 'getDistanceMeasure', 'getFeaturesCol', 'getK', 'getMaxIter', 'getMinDivisibleClusterSize', 'getOrDefault', 'getParam', 'getPredictionCol', 'getSeed', 'hasDefault', 'hasParam', 'isDefined', 'isSet', 'k', 'load', 'maxIter', 'minDivisibleClusterSize', 'params', 'predictionCol', 'read', 'save', 'seed', 'set', 'setDistanceMeasure', 'setFeaturesCol', 'setK', 'setMaxIter', 'setMinDivisibleClusterSize', 'setParams', 'setPredictionCol', 'setSeed', 'uid', 'write']\n"
     ]
    }
   ],
   "source": [
    "print(dir(kmeans_clf))"
   ]
  },
  {
   "cell_type": "code",
   "execution_count": 78,
   "metadata": {},
   "outputs": [
    {
     "name": "stdout",
     "output_type": "stream",
     "text": [
      "+--------------------+------+--------------------+-------------------+-------------------+-------------------+-------+\n",
      "|                  id|target|            features|distance_centroid_0|distance_centroid_1|distance_centroid_2|cluster|\n",
      "+--------------------+------+--------------------+-------------------+-------------------+-------------------+-------+\n",
      "|707b395ecdcbb4dc2...|     0|[-2.070654,1.0181...|           39.86638|          222.42633|          349.65533|      0|\n",
      "|5880c03c6582a7b42...|     0|[-0.491702,0.0826...|           79.16347|          268.75504|          396.28262|      0|\n",
      "|4ccbcb3d13e5072ff...|     1|[-1.680473,0.8605...|          107.12958|           94.70603|          219.66464|      0|\n",
      "|e350f17a357f12a19...|     0|[0.183774,0.91913...|          55.019203|          242.87566|            370.334|      0|\n",
      "|a8f910ea6075b6376...|     0|[-0.203933,-0.177...|          370.62872|          179.29964|          56.061794|      2|\n",
      "|60cf059121122100e...|     1|[-1.114752,-0.718...|           28.37505|          190.73352|          317.77713|      0|\n",
      "|1b4478137cc9b9577...|     1|[0.970029,-0.3228...|          81.764145|          270.96063|          398.41943|      0|\n",
      "|b2c7f197f1621f5a4...|     0|[-1.257939,-1.114...|          33.683174|          181.28224|           308.0723|      0|\n",
      "|5c3cff9e34e209774...|     1|[-0.155789,0.7615...|          174.02182|          29.110931|          149.08902|      1|\n",
      "|f9c5e3b0632b1628a...|     0|[1.381869,0.34557...|           51.01803|          236.37091|          363.64825|      0|\n",
      "|7921f8c46e226bfdd...|     0|[-1.389209,0.3349...|           62.48378|          250.88744|          378.35107|      0|\n",
      "|149f68a2d8c3b272b...|     1|[-1.199521,-0.049...|           71.66872|          260.07135|          387.48575|      0|\n",
      "|847a2ca709de0652f...|     1|[1.035194,0.02463...|           66.72066|          252.73648|          379.91595|      0|\n",
      "|9304bad3e04eed6aa...|     0|[0.016048,0.54518...|          55.065666|          240.49936|          367.73856|      0|\n",
      "|0a910f196a2245bae...|     0|[-0.630827,-0.385...|          74.172844|           262.9791|          390.42496|      0|\n",
      "|bcf0f346a7ebb43d7...|     1|[-4.528525,-0.158...|          232.30899|          47.134586|           93.63293|      1|\n",
      "|bb200709cc4fef0ce...|     0|[-1.565044,-1.454...|           87.94477|         110.223366|          236.71767|      0|\n",
      "|a75be6944536bc7f0...|     0|[0.31905,-0.40840...|          47.880333|           152.4744|          279.52246|      0|\n",
      "|aa3d682a88723fe99...|     0|[-0.061746,-7.109...|           34.74277|          177.19583|          304.00336|      0|\n",
      "|27203b235016f125f...|     1|[0.012506,1.37198...|          94.902725|          283.47226|          410.78757|      0|\n",
      "+--------------------+------+--------------------+-------------------+-------------------+-------------------+-------+\n",
      "only showing top 20 rows\n",
      "\n"
     ]
    }
   ],
   "source": [
    "model_gauss.transform(ds).show()"
   ]
  },
  {
   "cell_type": "code",
   "execution_count": null,
   "metadata": {},
   "outputs": [],
   "source": [
    "help()"
   ]
  },
  {
   "cell_type": "code",
   "execution_count": 49,
   "metadata": {},
   "outputs": [
    {
     "name": "stdout",
     "output_type": "stream",
     "text": [
      "<class 'list'>\n",
      "Cluster Centers: \n",
      "<class 'list'> 256 [0.006021, -0.009121, -0.004668, -0.006624, 0.003569, 0.002426, 0.016601, -0.001, 0.013006, 0.011731]\n",
      "<class 'list'> 256 [0.01769, 0.009033, -0.029007, -0.006799, 0.003283, 0.011599, -0.003436, -0.021562, -0.009004, 0.022601]\n",
      "<class 'list'> 256 [-0.006023, 0.01291, -0.011754, -0.00271, -0.003982, 0.015037, -0.043657, -0.000137, -0.006309, 0.035831]\n"
     ]
    }
   ],
   "source": [
    "# Mostrar los centroides.\n",
    "import numpy as np\n",
    "\n",
    "centers = [list([float(num) for num in _]) for _ in np.round(model_gauss.clusterCenters(), 6)]\n",
    "print(type(centers))\n",
    "\n",
    "print(\"Cluster Centers: \")\n",
    "for center in centers:\n",
    "    print(type(center), len(center), center[:10])"
   ]
  },
  {
   "cell_type": "code",
   "execution_count": 71,
   "metadata": {},
   "outputs": [],
   "source": [
    "from scipy.spatial.distance import jaccard, cosine, euclidean\n",
    "import pyspark.sql.functions as F\n",
    "from pyspark.sql.types import FloatType\n",
    "from scipy.spatial import distance\n",
    "\n",
    "order = 0\n",
    "\n",
    "for center in centers:\n",
    "    distance_udf = F.udf(lambda x: float(euclidean(x, center)), FloatType())\n",
    "    ds = ds.withColumn('distance_centroid_{}'.format(order), distance_udf(F.col('features')))\n",
    "    order += 1"
   ]
  },
  {
   "cell_type": "code",
   "execution_count": 79,
   "metadata": {},
   "outputs": [
    {
     "name": "stdout",
     "output_type": "stream",
     "text": [
      "+--------------------+------+--------------------+-------------------+-------------------+-------------------+\n",
      "|                  id|target|            features|distance_centroid_0|distance_centroid_1|distance_centroid_2|\n",
      "+--------------------+------+--------------------+-------------------+-------------------+-------------------+\n",
      "|707b395ecdcbb4dc2...|     0|[-2.070654,1.0181...|           39.86638|          222.42633|          349.65533|\n",
      "|5880c03c6582a7b42...|     0|[-0.491702,0.0826...|           79.16347|          268.75504|          396.28262|\n",
      "|4ccbcb3d13e5072ff...|     1|[-1.680473,0.8605...|          107.12958|           94.70603|          219.66464|\n",
      "|e350f17a357f12a19...|     0|[0.183774,0.91913...|          55.019203|          242.87566|            370.334|\n",
      "|a8f910ea6075b6376...|     0|[-0.203933,-0.177...|          370.62872|          179.29964|          56.061794|\n",
      "|60cf059121122100e...|     1|[-1.114752,-0.718...|           28.37505|          190.73352|          317.77713|\n",
      "|1b4478137cc9b9577...|     1|[0.970029,-0.3228...|          81.764145|          270.96063|          398.41943|\n",
      "|b2c7f197f1621f5a4...|     0|[-1.257939,-1.114...|          33.683174|          181.28224|           308.0723|\n",
      "|5c3cff9e34e209774...|     1|[-0.155789,0.7615...|          174.02182|          29.110931|          149.08902|\n",
      "|f9c5e3b0632b1628a...|     0|[1.381869,0.34557...|           51.01803|          236.37091|          363.64825|\n",
      "|7921f8c46e226bfdd...|     0|[-1.389209,0.3349...|           62.48378|          250.88744|          378.35107|\n",
      "|149f68a2d8c3b272b...|     1|[-1.199521,-0.049...|           71.66872|          260.07135|          387.48575|\n",
      "|847a2ca709de0652f...|     1|[1.035194,0.02463...|           66.72066|          252.73648|          379.91595|\n",
      "|9304bad3e04eed6aa...|     0|[0.016048,0.54518...|          55.065666|          240.49936|          367.73856|\n",
      "|0a910f196a2245bae...|     0|[-0.630827,-0.385...|          74.172844|           262.9791|          390.42496|\n",
      "+--------------------+------+--------------------+-------------------+-------------------+-------------------+\n",
      "only showing top 15 rows\n",
      "\n"
     ]
    }
   ],
   "source": [
    "ds.show(15)"
   ]
  },
  {
   "cell_type": "code",
   "execution_count": 47,
   "metadata": {},
   "outputs": [],
   "source": [
    "from pyspark.sql.types import IntegerType, FloatType, DoubleType\n",
    "\n",
    "df_centers = sc.parallelize(centers).toDF(cols_features)\n",
    "df_centers = assembler.transform(df_centers).drop(*cols_features)"
   ]
  },
  {
   "cell_type": "code",
   "execution_count": 48,
   "metadata": {},
   "outputs": [
    {
     "name": "stdout",
     "output_type": "stream",
     "text": [
      "['__class__', '__del__', '__delattr__', '__dict__', '__dir__', '__doc__', '__eq__', '__format__', '__ge__', '__getattribute__', '__gt__', '__hash__', '__init__', '__init_subclass__', '__le__', '__lt__', '__metaclass__', '__module__', '__ne__', '__new__', '__reduce__', '__reduce_ex__', '__repr__', '__setattr__', '__sizeof__', '__str__', '__subclasshook__', '__weakref__', '_call_java', '_clear', '_copyValues', '_copy_params', '_create_from_java_class', '_create_params_from_java', '_defaultParamMap', '_dummy', '_empty_java_param_map', '_from_java', '_java_obj', '_make_java_param_pair', '_new_java_array', '_new_java_obj', '_paramMap', '_params', '_randomUID', '_resetUid', '_resolveParam', '_set', '_setDefault', '_shouldOwn', '_to_java', '_transfer_param_map_from_java', '_transfer_param_map_to_java', '_transfer_params_from_java', '_transfer_params_to_java', '_transform', 'approxNearestNeighbors', 'approxSimilarityJoin', 'copy', 'explainParam', 'explainParams', 'extractParamMap', 'getOrDefault', 'getParam', 'hasDefault', 'hasParam', 'inputCol', 'isDefined', 'isSet', 'load', 'numHashTables', 'outputCol', 'params', 'read', 'save', 'set', 'transform', 'uid', 'write']\n"
     ]
    }
   ],
   "source": [
    "mh = MinHashLSH(inputCol=\"features\", outputCol=\"hashes\", seed=SEED)\n",
    "model = mh.fit(df_centers)\n",
    "\n",
    "print(dir(model))"
   ]
  },
  {
   "cell_type": "code",
   "execution_count": null,
   "metadata": {},
   "outputs": [],
   "source": []
  },
  {
   "cell_type": "code",
   "execution_count": null,
   "metadata": {},
   "outputs": [],
   "source": []
  },
  {
   "cell_type": "code",
   "execution_count": null,
   "metadata": {},
   "outputs": [],
   "source": []
  },
  {
   "cell_type": "code",
   "execution_count": null,
   "metadata": {},
   "outputs": [],
   "source": []
  },
  {
   "cell_type": "code",
   "execution_count": 5,
   "metadata": {},
   "outputs": [
    {
     "name": "stdout",
     "output_type": "stream",
     "text": [
      "Help on method transform in module pyspark.ml.base:\n",
      "\n",
      "transform(dataset, params=None) method of pyspark.ml.feature.MinHashLSHModel instance\n",
      "    Transforms the input dataset with optional parameters.\n",
      "    \n",
      "    :param dataset: input dataset, which is an instance of :py:class:`pyspark.sql.DataFrame`\n",
      "    :param params: an optional param map that overrides embedded params.\n",
      "    :returns: transformed dataset\n",
      "    \n",
      "    .. versionadded:: 1.3.0\n",
      "\n"
     ]
    }
   ],
   "source": [
    "help(model.transform)"
   ]
  },
  {
   "cell_type": "code",
   "execution_count": 7,
   "metadata": {},
   "outputs": [
    {
     "name": "stdout",
     "output_type": "stream",
     "text": [
      "Help on method approxNearestNeighbors in module pyspark.ml.feature:\n",
      "\n",
      "approxNearestNeighbors(dataset, key, numNearestNeighbors, distCol='distCol') method of pyspark.ml.feature.MinHashLSHModel instance\n",
      "    Given a large dataset and an item, approximately find at most k items which have the\n",
      "    closest distance to the item. If the :py:attr:`outputCol` is missing, the method will\n",
      "    transform the data; if the :py:attr:`outputCol` exists, it will use that. This allows\n",
      "    caching of the transformed data when necessary.\n",
      "    \n",
      "    .. note:: This method is experimental and will likely change behavior in the next release.\n",
      "    \n",
      "    :param dataset: The dataset to search for nearest neighbors of the key.\n",
      "    :param key: Feature vector representing the item to search for.\n",
      "    :param numNearestNeighbors: The maximum number of nearest neighbors.\n",
      "    :param distCol: Output column for storing the distance between each result row and the key.\n",
      "                    Use \"distCol\" as default value if it's not specified.\n",
      "    :return: A dataset containing at most k items closest to the key. A column \"distCol\" is\n",
      "             added to show the distance between each row and the key.\n",
      "\n"
     ]
    }
   ],
   "source": [
    "help(model.approxNearestNeighbors)"
   ]
  },
  {
   "cell_type": "code",
   "execution_count": 6,
   "metadata": {},
   "outputs": [
    {
     "name": "stdout",
     "output_type": "stream",
     "text": [
      "Help on method approxNearestNeighbors in module pyspark.ml.feature:\n",
      "\n",
      "approxNearestNeighbors(dataset, key, numNearestNeighbors, distCol='distCol') method of pyspark.ml.feature.MinHashLSHModel instance\n",
      "    Given a large dataset and an item, approximately find at most k items which have the\n",
      "    closest distance to the item. If the :py:attr:`outputCol` is missing, the method will\n",
      "    transform the data; if the :py:attr:`outputCol` exists, it will use that. This allows\n",
      "    caching of the transformed data when necessary.\n",
      "    \n",
      "    .. note:: This method is experimental and will likely change behavior in the next release.\n",
      "    \n",
      "    :param dataset: The dataset to search for nearest neighbors of the key.\n",
      "    :param key: Feature vector representing the item to search for.\n",
      "    :param numNearestNeighbors: The maximum number of nearest neighbors.\n",
      "    :param distCol: Output column for storing the distance between each result row and the key.\n",
      "                    Use \"distCol\" as default value if it's not specified.\n",
      "    :return: A dataset containing at most k items closest to the key. A column \"distCol\" is\n",
      "             added to show the distance between each row and the key.\n",
      "\n"
     ]
    }
   ],
   "source": []
  },
  {
   "cell_type": "code",
   "execution_count": 8,
   "metadata": {},
   "outputs": [
    {
     "name": "stdout",
     "output_type": "stream",
     "text": [
      "['__class__', '__del__', '__delattr__', '__dict__', '__dir__', '__doc__', '__eq__', '__format__', '__ge__', '__getattribute__', '__gt__', '__hash__', '__init__', '__init_subclass__', '__le__', '__lt__', '__metaclass__', '__module__', '__ne__', '__new__', '__reduce__', '__reduce_ex__', '__repr__', '__setattr__', '__sizeof__', '__str__', '__subclasshook__', '__weakref__', '_call_java', '_clear', '_copyValues', '_copy_params', '_create_from_java_class', '_create_model', '_create_params_from_java', '_defaultParamMap', '_dummy', '_empty_java_param_map', '_fit', '_fit_java', '_from_java', '_input_kwargs', '_java_obj', '_make_java_param_pair', '_new_java_array', '_new_java_obj', '_paramMap', '_params', '_randomUID', '_resetUid', '_resolveParam', '_set', '_setDefault', '_shouldOwn', '_to_java', '_transfer_param_map_from_java', '_transfer_param_map_to_java', '_transfer_params_from_java', '_transfer_params_to_java', 'copy', 'explainParam', 'explainParams', 'extractParamMap', 'fit', 'fitMultiple', 'getInputCol', 'getNumHashTables', 'getOrDefault', 'getOutputCol', 'getParam', 'getSeed', 'hasDefault', 'hasParam', 'inputCol', 'isDefined', 'isSet', 'load', 'numHashTables', 'outputCol', 'params', 'read', 'save', 'seed', 'set', 'setInputCol', 'setNumHashTables', 'setOutputCol', 'setParams', 'setSeed', 'uid', 'write']\n"
     ]
    }
   ],
   "source": [
    "print(dir(mh))"
   ]
  },
  {
   "cell_type": "code",
   "execution_count": 9,
   "metadata": {},
   "outputs": [
    {
     "name": "stdout",
     "output_type": "stream",
     "text": [
      "['__class__', '__del__', '__delattr__', '__dict__', '__dir__', '__doc__', '__eq__', '__format__', '__ge__', '__getattribute__', '__gt__', '__hash__', '__init__', '__init_subclass__', '__le__', '__lt__', '__metaclass__', '__module__', '__ne__', '__new__', '__reduce__', '__reduce_ex__', '__repr__', '__setattr__', '__sizeof__', '__str__', '__subclasshook__', '__weakref__', '_call_java', '_clear', '_copyValues', '_copy_params', '_create_from_java_class', '_create_params_from_java', '_defaultParamMap', '_dummy', '_empty_java_param_map', '_from_java', '_java_obj', '_make_java_param_pair', '_new_java_array', '_new_java_obj', '_paramMap', '_params', '_randomUID', '_resetUid', '_resolveParam', '_set', '_setDefault', '_shouldOwn', '_to_java', '_transfer_param_map_from_java', '_transfer_param_map_to_java', '_transfer_params_from_java', '_transfer_params_to_java', '_transform', 'approxNearestNeighbors', 'approxSimilarityJoin', 'copy', 'explainParam', 'explainParams', 'extractParamMap', 'getOrDefault', 'getParam', 'hasDefault', 'hasParam', 'inputCol', 'isDefined', 'isSet', 'load', 'numHashTables', 'outputCol', 'params', 'read', 'save', 'set', 'transform', 'uid', 'write']\n"
     ]
    }
   ],
   "source": [
    "print(dir(model))"
   ]
  },
  {
   "cell_type": "code",
   "execution_count": 6,
   "metadata": {},
   "outputs": [
    {
     "name": "stdout",
     "output_type": "stream",
     "text": [
      "Help on class MinHashLSH in module pyspark.ml.feature:\n",
      "\n",
      "class MinHashLSH(pyspark.ml.wrapper.JavaEstimator, LSHParams, pyspark.ml.param.shared.HasInputCol, pyspark.ml.param.shared.HasOutputCol, pyspark.ml.param.shared.HasSeed, pyspark.ml.util.JavaMLReadable, pyspark.ml.util.JavaMLWritable)\n",
      " |  .. note:: Experimental\n",
      " |  \n",
      " |  LSH class for Jaccard distance.\n",
      " |  The input can be dense or sparse vectors, but it is more efficient if it is sparse.\n",
      " |  For example, `Vectors.sparse(10, [(2, 1.0), (3, 1.0), (5, 1.0)])` means there are 10 elements\n",
      " |  in the space. This set contains elements 2, 3, and 5. Also, any input vector must have at\n",
      " |  least 1 non-zero index, and all non-zero values are treated as binary \"1\" values.\n",
      " |  \n",
      " |  .. seealso:: `Wikipedia on MinHash <https://en.wikipedia.org/wiki/MinHash>`_\n",
      " |  \n",
      " |  >>> from pyspark.ml.linalg import Vectors\n",
      " |  >>> from pyspark.sql.functions import col\n",
      " |  >>> data = [(0, Vectors.sparse(6, [0, 1, 2], [1.0, 1.0, 1.0]),),\n",
      " |  ...         (1, Vectors.sparse(6, [2, 3, 4], [1.0, 1.0, 1.0]),),\n",
      " |  ...         (2, Vectors.sparse(6, [0, 2, 4], [1.0, 1.0, 1.0]),)]\n",
      " |  >>> df = spark.createDataFrame(data, [\"id\", \"features\"])\n",
      " |  >>> mh = MinHashLSH(inputCol=\"features\", outputCol=\"hashes\", seed=12345)\n",
      " |  >>> model = mh.fit(df)\n",
      " |  >>> model.transform(df).head()\n",
      " |  Row(id=0, features=SparseVector(6, {0: 1.0, 1: 1.0, 2: 1.0}), hashes=[DenseVector([6179668...\n",
      " |  >>> data2 = [(3, Vectors.sparse(6, [1, 3, 5], [1.0, 1.0, 1.0]),),\n",
      " |  ...          (4, Vectors.sparse(6, [2, 3, 5], [1.0, 1.0, 1.0]),),\n",
      " |  ...          (5, Vectors.sparse(6, [1, 2, 4], [1.0, 1.0, 1.0]),)]\n",
      " |  >>> df2 = spark.createDataFrame(data2, [\"id\", \"features\"])\n",
      " |  >>> key = Vectors.sparse(6, [1, 2], [1.0, 1.0])\n",
      " |  >>> model.approxNearestNeighbors(df2, key, 1).collect()\n",
      " |  [Row(id=5, features=SparseVector(6, {1: 1.0, 2: 1.0, 4: 1.0}), hashes=[DenseVector([6179668...\n",
      " |  >>> model.approxSimilarityJoin(df, df2, 0.6, distCol=\"JaccardDistance\").select(\n",
      " |  ...     col(\"datasetA.id\").alias(\"idA\"),\n",
      " |  ...     col(\"datasetB.id\").alias(\"idB\"),\n",
      " |  ...     col(\"JaccardDistance\")).show()\n",
      " |  +---+---+---------------+\n",
      " |  |idA|idB|JaccardDistance|\n",
      " |  +---+---+---------------+\n",
      " |  |  0|  5|            0.5|\n",
      " |  |  1|  4|            0.5|\n",
      " |  +---+---+---------------+\n",
      " |  ...\n",
      " |  >>> mhPath = temp_path + \"/mh\"\n",
      " |  >>> mh.save(mhPath)\n",
      " |  >>> mh2 = MinHashLSH.load(mhPath)\n",
      " |  >>> mh2.getOutputCol() == mh.getOutputCol()\n",
      " |  True\n",
      " |  >>> modelPath = temp_path + \"/mh-model\"\n",
      " |  >>> model.save(modelPath)\n",
      " |  >>> model2 = MinHashLSHModel.load(modelPath)\n",
      " |  >>> model.transform(df).head().hashes == model2.transform(df).head().hashes\n",
      " |  True\n",
      " |  \n",
      " |  .. versionadded:: 2.2.0\n",
      " |  \n",
      " |  Method resolution order:\n",
      " |      MinHashLSH\n",
      " |      pyspark.ml.wrapper.JavaEstimator\n",
      " |      pyspark.ml.wrapper.JavaParams\n",
      " |      pyspark.ml.wrapper.JavaWrapper\n",
      " |      pyspark.ml.base.Estimator\n",
      " |      LSHParams\n",
      " |      pyspark.ml.param.shared.HasInputCol\n",
      " |      pyspark.ml.param.shared.HasOutputCol\n",
      " |      pyspark.ml.param.shared.HasSeed\n",
      " |      pyspark.ml.param.Params\n",
      " |      pyspark.ml.util.Identifiable\n",
      " |      pyspark.ml.util.JavaMLReadable\n",
      " |      pyspark.ml.util.MLReadable\n",
      " |      pyspark.ml.util.JavaMLWritable\n",
      " |      pyspark.ml.util.MLWritable\n",
      " |      builtins.object\n",
      " |  \n",
      " |  Methods defined here:\n",
      " |  \n",
      " |  __init__(self, inputCol=None, outputCol=None, seed=None, numHashTables=1)\n",
      " |      __init__(self, inputCol=None, outputCol=None, seed=None, numHashTables=1)\n",
      " |  \n",
      " |  setParams(self, inputCol=None, outputCol=None, seed=None, numHashTables=1)\n",
      " |      setParams(self, inputCol=None, outputCol=None, seed=None, numHashTables=1)\n",
      " |      Sets params for this MinHashLSH.\n",
      " |      \n",
      " |      .. versionadded:: 2.2.0\n",
      " |  \n",
      " |  ----------------------------------------------------------------------\n",
      " |  Data and other attributes inherited from pyspark.ml.wrapper.JavaEstimator:\n",
      " |  \n",
      " |  __metaclass__ = <class 'abc.ABCMeta'>\n",
      " |      Metaclass for defining Abstract Base Classes (ABCs).\n",
      " |      \n",
      " |      Use this metaclass to create an ABC.  An ABC can be subclassed\n",
      " |      directly, and then acts as a mix-in class.  You can also register\n",
      " |      unrelated concrete classes (even built-in classes) and unrelated\n",
      " |      ABCs as 'virtual subclasses' -- these and their descendants will\n",
      " |      be considered subclasses of the registering ABC by the built-in\n",
      " |      issubclass() function, but the registering ABC won't show up in\n",
      " |      their MRO (Method Resolution Order) nor will method\n",
      " |      implementations defined by the registering ABC be callable (not\n",
      " |      even via super()).\n",
      " |  \n",
      " |  ----------------------------------------------------------------------\n",
      " |  Methods inherited from pyspark.ml.wrapper.JavaParams:\n",
      " |  \n",
      " |  copy(self, extra=None)\n",
      " |      Creates a copy of this instance with the same uid and some\n",
      " |      extra params. This implementation first calls Params.copy and\n",
      " |      then make a copy of the companion Java pipeline component with\n",
      " |      extra params. So both the Python wrapper and the Java pipeline\n",
      " |      component get copied.\n",
      " |      \n",
      " |      :param extra: Extra parameters to copy to the new instance\n",
      " |      :return: Copy of this instance\n",
      " |  \n",
      " |  ----------------------------------------------------------------------\n",
      " |  Methods inherited from pyspark.ml.wrapper.JavaWrapper:\n",
      " |  \n",
      " |  __del__(self)\n",
      " |  \n",
      " |  ----------------------------------------------------------------------\n",
      " |  Data descriptors inherited from pyspark.ml.wrapper.JavaWrapper:\n",
      " |  \n",
      " |  __dict__\n",
      " |      dictionary for instance variables (if defined)\n",
      " |  \n",
      " |  __weakref__\n",
      " |      list of weak references to the object (if defined)\n",
      " |  \n",
      " |  ----------------------------------------------------------------------\n",
      " |  Methods inherited from pyspark.ml.base.Estimator:\n",
      " |  \n",
      " |  fit(self, dataset, params=None)\n",
      " |      Fits a model to the input dataset with optional parameters.\n",
      " |      \n",
      " |      :param dataset: input dataset, which is an instance of :py:class:`pyspark.sql.DataFrame`\n",
      " |      :param params: an optional param map that overrides embedded params. If a list/tuple of\n",
      " |                     param maps is given, this calls fit on each param map and returns a list of\n",
      " |                     models.\n",
      " |      :returns: fitted model(s)\n",
      " |      \n",
      " |      .. versionadded:: 1.3.0\n",
      " |  \n",
      " |  fitMultiple(self, dataset, paramMaps)\n",
      " |      Fits a model to the input dataset for each param map in `paramMaps`.\n",
      " |      \n",
      " |      :param dataset: input dataset, which is an instance of :py:class:`pyspark.sql.DataFrame`.\n",
      " |      :param paramMaps: A Sequence of param maps.\n",
      " |      :return: A thread safe iterable which contains one model for each param map. Each\n",
      " |               call to `next(modelIterator)` will return `(index, model)` where model was fit\n",
      " |               using `paramMaps[index]`. `index` values may not be sequential.\n",
      " |      \n",
      " |      .. note:: DeveloperApi\n",
      " |      .. note:: Experimental\n",
      " |      \n",
      " |      .. versionadded:: 2.3.0\n",
      " |  \n",
      " |  ----------------------------------------------------------------------\n",
      " |  Methods inherited from LSHParams:\n",
      " |  \n",
      " |  getNumHashTables(self)\n",
      " |      Gets the value of numHashTables or its default value.\n",
      " |  \n",
      " |  setNumHashTables(self, value)\n",
      " |      Sets the value of :py:attr:`numHashTables`.\n",
      " |  \n",
      " |  ----------------------------------------------------------------------\n",
      " |  Data and other attributes inherited from LSHParams:\n",
      " |  \n",
      " |  numHashTables = Param(parent='undefined', name='numHashTables', ...dec...\n",
      " |  \n",
      " |  ----------------------------------------------------------------------\n",
      " |  Methods inherited from pyspark.ml.param.shared.HasInputCol:\n",
      " |  \n",
      " |  getInputCol(self)\n",
      " |      Gets the value of inputCol or its default value.\n",
      " |  \n",
      " |  setInputCol(self, value)\n",
      " |      Sets the value of :py:attr:`inputCol`.\n",
      " |  \n",
      " |  ----------------------------------------------------------------------\n",
      " |  Data and other attributes inherited from pyspark.ml.param.shared.HasInputCol:\n",
      " |  \n",
      " |  inputCol = Param(parent='undefined', name='inputCol', doc='input colum...\n",
      " |  \n",
      " |  ----------------------------------------------------------------------\n",
      " |  Methods inherited from pyspark.ml.param.shared.HasOutputCol:\n",
      " |  \n",
      " |  getOutputCol(self)\n",
      " |      Gets the value of outputCol or its default value.\n",
      " |  \n",
      " |  setOutputCol(self, value)\n",
      " |      Sets the value of :py:attr:`outputCol`.\n",
      " |  \n",
      " |  ----------------------------------------------------------------------\n",
      " |  Data and other attributes inherited from pyspark.ml.param.shared.HasOutputCol:\n",
      " |  \n",
      " |  outputCol = Param(parent='undefined', name='outputCol', doc='output co...\n",
      " |  \n",
      " |  ----------------------------------------------------------------------\n",
      " |  Methods inherited from pyspark.ml.param.shared.HasSeed:\n",
      " |  \n",
      " |  getSeed(self)\n",
      " |      Gets the value of seed or its default value.\n",
      " |  \n",
      " |  setSeed(self, value)\n",
      " |      Sets the value of :py:attr:`seed`.\n",
      " |  \n",
      " |  ----------------------------------------------------------------------\n",
      " |  Data and other attributes inherited from pyspark.ml.param.shared.HasSeed:\n",
      " |  \n",
      " |  seed = Param(parent='undefined', name='seed', doc='random seed.')\n",
      " |  \n",
      " |  ----------------------------------------------------------------------\n",
      " |  Methods inherited from pyspark.ml.param.Params:\n",
      " |  \n",
      " |  explainParam(self, param)\n",
      " |      Explains a single param and returns its name, doc, and optional\n",
      " |      default value and user-supplied value in a string.\n",
      " |  \n",
      " |  explainParams(self)\n",
      " |      Returns the documentation of all params with their optionally\n",
      " |      default values and user-supplied values.\n",
      " |  \n",
      " |  extractParamMap(self, extra=None)\n",
      " |      Extracts the embedded default param values and user-supplied\n",
      " |      values, and then merges them with extra values from input into\n",
      " |      a flat param map, where the latter value is used if there exist\n",
      " |      conflicts, i.e., with ordering: default param values <\n",
      " |      user-supplied values < extra.\n",
      " |      \n",
      " |      :param extra: extra param values\n",
      " |      :return: merged param map\n",
      " |  \n",
      " |  getOrDefault(self, param)\n",
      " |      Gets the value of a param in the user-supplied param map or its\n",
      " |      default value. Raises an error if neither is set.\n",
      " |  \n",
      " |  getParam(self, paramName)\n",
      " |      Gets a param by its name.\n",
      " |  \n",
      " |  hasDefault(self, param)\n",
      " |      Checks whether a param has a default value.\n",
      " |  \n",
      " |  hasParam(self, paramName)\n",
      " |      Tests whether this instance contains a param with a given\n",
      " |      (string) name.\n",
      " |  \n",
      " |  isDefined(self, param)\n",
      " |      Checks whether a param is explicitly set by user or has\n",
      " |      a default value.\n",
      " |  \n",
      " |  isSet(self, param)\n",
      " |      Checks whether a param is explicitly set by user.\n",
      " |  \n",
      " |  set(self, param, value)\n",
      " |      Sets a parameter in the embedded param map.\n",
      " |  \n",
      " |  ----------------------------------------------------------------------\n",
      " |  Data descriptors inherited from pyspark.ml.param.Params:\n",
      " |  \n",
      " |  params\n",
      " |      Returns all params ordered by name. The default implementation\n",
      " |      uses :py:func:`dir` to get all attributes of type\n",
      " |      :py:class:`Param`.\n",
      " |  \n",
      " |  ----------------------------------------------------------------------\n",
      " |  Methods inherited from pyspark.ml.util.Identifiable:\n",
      " |  \n",
      " |  __repr__(self)\n",
      " |      Return repr(self).\n",
      " |  \n",
      " |  ----------------------------------------------------------------------\n",
      " |  Class methods inherited from pyspark.ml.util.JavaMLReadable:\n",
      " |  \n",
      " |  read() from builtins.type\n",
      " |      Returns an MLReader instance for this class.\n",
      " |  \n",
      " |  ----------------------------------------------------------------------\n",
      " |  Class methods inherited from pyspark.ml.util.MLReadable:\n",
      " |  \n",
      " |  load(path) from builtins.type\n",
      " |      Reads an ML instance from the input path, a shortcut of `read().load(path)`.\n",
      " |  \n",
      " |  ----------------------------------------------------------------------\n",
      " |  Methods inherited from pyspark.ml.util.JavaMLWritable:\n",
      " |  \n",
      " |  write(self)\n",
      " |      Returns an MLWriter instance for this ML instance.\n",
      " |  \n",
      " |  ----------------------------------------------------------------------\n",
      " |  Methods inherited from pyspark.ml.util.MLWritable:\n",
      " |  \n",
      " |  save(self, path)\n",
      " |      Save this ML instance to the given path, a shortcut of 'write().save(path)'.\n",
      "\n"
     ]
    }
   ],
   "source": [
    "help(MinHashLSH)"
   ]
  },
  {
   "cell_type": "code",
   "execution_count": null,
   "metadata": {},
   "outputs": [],
   "source": []
  },
  {
   "cell_type": "code",
   "execution_count": null,
   "metadata": {},
   "outputs": [],
   "source": []
  }
 ],
 "metadata": {
  "kernelspec": {
   "display_name": "Python 3",
   "language": "python",
   "name": "python3"
  },
  "language_info": {
   "codemirror_mode": {
    "name": "ipython",
    "version": 3
   },
   "file_extension": ".py",
   "mimetype": "text/x-python",
   "name": "python",
   "nbconvert_exporter": "python",
   "pygments_lexer": "ipython3",
   "version": "3.6.8"
  }
 },
 "nbformat": 4,
 "nbformat_minor": 2
}
