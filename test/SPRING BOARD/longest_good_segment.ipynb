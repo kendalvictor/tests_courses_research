{
 "cells": [
  {
   "cell_type": "code",
   "execution_count": 23,
   "metadata": {},
   "outputs": [],
   "source": [
    "def longest_good_segment(_seq):\n",
    "    _list = [int(_) for _ in _seq.split()]\n",
    "    \n",
    "    _seg = list(range(_list[0], _list[1] + 1))\n",
    "    \n",
    "    _bad = sorted([_ for _ in _list[2:] if _ in _seg])\n",
    "    \n",
    "    if not _bad:\n",
    "        print(len(_seg))\n",
    "    else:\n",
    "        _min_bad = _bad[0]\n",
    "        _max_bad = _bad[-1]\n",
    "        \n",
    "        _range = [\n",
    "            len(list(range(_list[0], _min_bad))), len(list(range(_max_bad + 1, _list[1] + 1))),\n",
    "        ]\n",
    "        print(max(_range))\n",
    "    \n",
    "    return"
   ]
  },
  {
   "cell_type": "code",
   "execution_count": 24,
   "metadata": {},
   "outputs": [
    {
     "name": "stdout",
     "output_type": "stream",
     "text": [
      "5\n"
     ]
    },
    {
     "data": {
      "text/plain": [
       "([1, 10, 5, 4, 2, 15], [1, 2, 3, 4, 5, 6, 7, 8, 9, 10], [2, 4, 5])"
      ]
     },
     "execution_count": 24,
     "metadata": {},
     "output_type": "execute_result"
    }
   ],
   "source": [
    "longest_good_segment(\"1 10 5 4 2 15\")"
   ]
  },
  {
   "cell_type": "code",
   "execution_count": null,
   "metadata": {},
   "outputs": [],
   "source": []
  }
 ],
 "metadata": {
  "kernelspec": {
   "display_name": "Python 3",
   "language": "python",
   "name": "python3"
  },
  "language_info": {
   "codemirror_mode": {
    "name": "ipython",
    "version": 3
   },
   "file_extension": ".py",
   "mimetype": "text/x-python",
   "name": "python",
   "nbconvert_exporter": "python",
   "pygments_lexer": "ipython3",
   "version": "3.7.6"
  }
 },
 "nbformat": 4,
 "nbformat_minor": 4
}
