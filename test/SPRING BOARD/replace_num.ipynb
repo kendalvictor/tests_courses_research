{
 "cells": [
  {
   "cell_type": "code",
   "execution_count": 31,
   "metadata": {},
   "outputs": [],
   "source": [
    "def replace_num(_seq):\n",
    "    _list = [int(_) for _ in _seq.split()]\n",
    "    \n",
    "    _index = [_list.index(_) for _ in sorted(_list)[-3:]]\n",
    "    \n",
    "    for i in _index:\n",
    "        _list[i] = _list[i] / 2\n",
    "    \n",
    "    convert = lambda _: int(_) if _ == int(_) else _\n",
    "    _list = [str(convert(_)) for _ in _list]\n",
    "    \n",
    "    return ' '.join(_list)"
   ]
  },
  {
   "cell_type": "code",
   "execution_count": 32,
   "metadata": {},
   "outputs": [
    {
     "data": {
      "text/plain": [
       "'1 3.5 2 5 10 4'"
      ]
     },
     "execution_count": 32,
     "metadata": {},
     "output_type": "execute_result"
    }
   ],
   "source": [
    "replace_num(\"1 7 2 10 20 4\")"
   ]
  },
  {
   "cell_type": "code",
   "execution_count": null,
   "metadata": {},
   "outputs": [],
   "source": []
  }
 ],
 "metadata": {
  "kernelspec": {
   "display_name": "Python 3",
   "language": "python",
   "name": "python3"
  },
  "language_info": {
   "codemirror_mode": {
    "name": "ipython",
    "version": 3
   },
   "file_extension": ".py",
   "mimetype": "text/x-python",
   "name": "python",
   "nbconvert_exporter": "python",
   "pygments_lexer": "ipython3",
   "version": "3.7.6"
  }
 },
 "nbformat": 4,
 "nbformat_minor": 4
}
