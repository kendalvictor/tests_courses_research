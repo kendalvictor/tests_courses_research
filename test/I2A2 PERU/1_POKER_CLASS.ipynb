{
 "cells": [
  {
   "cell_type": "markdown",
   "metadata": {},
   "source": [
    "Un casino famoso de repente enfrenta una gran disminución en sus ingresos. Entonces el casino decide ofrecer\n",
    "Una nueva versión de Poker en línea. ¿Puedes ayudarlos a escribir un algoritmo para clasificar las manos de Poker?\n",
    "\n",
    "Una mano de póker consiste en 5 cartas;\n",
    "\n",
    "Cada tarjeta tiene una cadena con 2 (dos) caracteres."
   ]
  },
  {
   "cell_type": "code",
   "execution_count": 97,
   "metadata": {},
   "outputs": [],
   "source": [
    "class PokerHand():\n",
    "    def __init__(self, cadena):\n",
    "        _values = 0\n",
    "        _suits = 1\n",
    "        self.order_values = _values\n",
    "        self.order_suits = _suits\n",
    "        \n",
    "        self._types = [\n",
    "            self.royal_straight_flush, self.straight_flush,\n",
    "            self.four_of_a_kind, self.full_house,\n",
    "            self.flush, self.straight, self.three_of_a_kind,\n",
    "            self.two_pair, self.one_pair, self.high_card\n",
    "        ]\n",
    "        \n",
    "        self._dict_default = {\n",
    "            _values: ['2', '3', '4', '5', '6', '7', '8', '9', 'T', 'J', 'Q', 'K', 'A'],\n",
    "            _suits : ['S',  'H',  'D',  'C']\n",
    "        }\n",
    "                \n",
    "        self._list_card = list(zip(\n",
    "            *[(_[0], _[1]) for _ in cadena.split()]\n",
    "        ))\n",
    "        \n",
    "        if not( \n",
    "            self.valid_cards(_values) and self.valid_cards(_suits)\n",
    "        ):\n",
    "            raise Exception(\"Valores invalidos detectados\")\n",
    "        \n",
    "        self.values = self.get_ids(_values)\n",
    "        self.suits = self._list_card[_suits]\n",
    "        self._is = self.analysis_hand()\n",
    "\n",
    "    def analysis_hand(self):\n",
    "        for _types in self._types:\n",
    "            hand_is = _types()\n",
    "            if hand_is:\n",
    "                return hand_is\n",
    "                \n",
    "    def compare_with(self, other_class):\n",
    "        order_of_win = [_.__name__ for _ in self._types]\n",
    "        \n",
    "        self_is = self._is\n",
    "        other_is = getattr(other_class, '_is')\n",
    "        \n",
    "        if order_of_win.index(self_is[0]) < order_of_win.index(other_is[0]):\n",
    "            return 'WIN'\n",
    "        elif order_of_win.index(self_is[0]) > order_of_win.index(other_is[0]):\n",
    "            return 'LOSS'\n",
    "        elif self_is[1] > other_is[1]:\n",
    "            return 'WIN'\n",
    "        elif self_is[1] < other_is[1]:\n",
    "            return 'LOSS'\n",
    "        elif max(self.values) > max(getattr(other_class, 'values')):\n",
    "            return 'WIN'\n",
    "        elif max(self.values) < max(getattr(other_class, 'values')):\n",
    "            return 'LOSS'\n",
    "        else:\n",
    "            return 'LOSS'\n",
    "        \n",
    "        \n",
    "    def valid_cards(self, order):\n",
    "        return set(self._list_card[order]).issubset(\n",
    "            set(self._dict_default[order])\n",
    "        )\n",
    "    \n",
    "    def get_ids(self, order):\n",
    "        return sorted([\n",
    "            self._dict_default[order].index(_) for _ in self._list_card[order]\n",
    "        ])\n",
    "    \n",
    "    def parser_values(self):\n",
    "        pass\n",
    "    \n",
    "    def royal_straight_flush(self):\n",
    "        if self.values == [8, 9, 10, 11, 12] and len(set(self.suits)) == 1:\n",
    "            return 'royal_straight_flush', \\\n",
    "                   max(self.values)\n",
    "    \n",
    "    def straight_flush(self):\n",
    "        if (self.values[0] + self.values[-1] == 2 * self.values[2]) \\\n",
    "            and len(set(self.values)) == 5 and len(set(self.suits)) == 1:\n",
    "            return 'straight_flush',\\\n",
    "                   max(self.values)\n",
    "    \n",
    "    def four_of_a_kind(self):\n",
    "        if len(set(self.values)) == 2 and 4 in [self.values.count(_) for _ in self.values]:\n",
    "            return 'four_of_a_kind', \\\n",
    "                   max(set(self.values), key=self.values.count)\n",
    "        \n",
    "    def full_house(self):\n",
    "        if len(set(self.values)) == 2 and 3 in [self.values.count(_) for _ in self.values]:\n",
    "            return 'full_house', \\\n",
    "                   max(set(self.values), key=self.values.count)\n",
    "\n",
    "    def flush(self):\n",
    "        if len(set(self.values)) == 5 and len(set(self.suits)) == 1:\n",
    "            return 'flush', max(self.values)\n",
    "        \n",
    "    def straight(self):\n",
    "        if len(set(self.values)) == 5 and (self.values[0] + self.values[-1] == 2 * self.values[2]):\n",
    "            return 'straight', max(self.values)\n",
    "    \n",
    "    def three_of_a_kind(self):\n",
    "        if len(set(self.values)) == 3 and 3 in [self.values.count(_) for _ in self.values]:\n",
    "            return 'three_of_a_kind', \\\n",
    "                   max(set(self.values), key=self.values.count)\n",
    "            \n",
    "    def two_pair(self):\n",
    "        if len(set(self.values)) == 3 and [self.values.count(_) for _ in self.values].count(2) == 4:\n",
    "            return 'two_pair', \\\n",
    "                   max(set(self.values), key=self.values.count)\n",
    "\n",
    "    def one_pair(self):\n",
    "        if len(set(self.values)) == 4 and [self.values.count(_) for _ in self.values].count(2) == 2:\n",
    "            return 'one_pair', \\\n",
    "                   max(set(self.values), key=self.values.count)\n",
    "        \n",
    "    def high_card(self):\n",
    "        return 'high_card', max(self.values)"
   ]
  },
  {
   "cell_type": "code",
   "execution_count": 98,
   "metadata": {},
   "outputs": [
    {
     "data": {
      "text/plain": [
       "<__main__.PokerHand at 0x7ff8e42114d0>"
      ]
     },
     "execution_count": 98,
     "metadata": {},
     "output_type": "execute_result"
    }
   ],
   "source": [
    "PokerHand(\"KC QC JC TC AC\")\n",
    "PokerHand(\"4C 5C 6C 7C 8C\")\n",
    "PokerHand(\"TS TH 5C TD TC\")\n",
    "PokerHand(\"QS QH QC 6D 6C\")\n",
    "PokerHand(\"9C 4C 6C 7C QC\")\n",
    "PokerHand(\"4C 5C 6H 7C 8D\")\n",
    "PokerHand(\"4C 4C 4H 7C 8D\")\n",
    "PokerHand(\"4C 4H 5H 5C 8D\")\n",
    "PokerHand(\"QC QH 4H 7C 8D\")"
   ]
  },
  {
   "cell_type": "code",
   "execution_count": 99,
   "metadata": {},
   "outputs": [
    {
     "data": {
      "text/plain": [
       "'LOSS'"
      ]
     },
     "execution_count": 99,
     "metadata": {},
     "output_type": "execute_result"
    }
   ],
   "source": [
    "#1\n",
    "\n",
    "poker_hand_1 = PokerHand(\"KS 2H 5C JD TD\")\n",
    "poker_hand_2 = PokerHand(\"9C 9H 5C 5H AC\")\n",
    "result = poker_hand_1.compare_with(poker_hand_2)\n",
    "\n",
    "result"
   ]
  },
  {
   "cell_type": "code",
   "execution_count": 91,
   "metadata": {},
   "outputs": [
    {
     "data": {
      "text/plain": [
       "['__call__',\n",
       " '__class__',\n",
       " '__delattr__',\n",
       " '__dir__',\n",
       " '__doc__',\n",
       " '__eq__',\n",
       " '__format__',\n",
       " '__func__',\n",
       " '__ge__',\n",
       " '__get__',\n",
       " '__getattribute__',\n",
       " '__gt__',\n",
       " '__hash__',\n",
       " '__init__',\n",
       " '__init_subclass__',\n",
       " '__le__',\n",
       " '__lt__',\n",
       " '__ne__',\n",
       " '__new__',\n",
       " '__reduce__',\n",
       " '__reduce_ex__',\n",
       " '__repr__',\n",
       " '__self__',\n",
       " '__setattr__',\n",
       " '__sizeof__',\n",
       " '__str__',\n",
       " '__subclasshook__']"
      ]
     },
     "execution_count": 91,
     "metadata": {},
     "output_type": "execute_result"
    }
   ],
   "source": [
    "dir(PokerHand(\"QC QH 4H 7C 8D\")._types[0])"
   ]
  },
  {
   "cell_type": "code",
   "execution_count": 81,
   "metadata": {},
   "outputs": [
    {
     "data": {
      "text/plain": [
       "royal_straight_flush"
      ]
     },
     "execution_count": 81,
     "metadata": {},
     "output_type": "execute_result"
    }
   ],
   "source": [
    "PokerHand(\"KC QC JC TC AC\")"
   ]
  },
  {
   "cell_type": "code",
   "execution_count": 80,
   "metadata": {},
   "outputs": [
    {
     "data": {
      "text/plain": [
       "three_of_a_kind"
      ]
     },
     "execution_count": 80,
     "metadata": {},
     "output_type": "execute_result"
    }
   ],
   "source": [
    "PokerHand(\"4C 4C 4H 7C 8D\")"
   ]
  },
  {
   "cell_type": "code",
   "execution_count": null,
   "metadata": {},
   "outputs": [],
   "source": []
  }
 ],
 "metadata": {
  "kernelspec": {
   "display_name": "Python 3",
   "language": "python",
   "name": "python3"
  },
  "language_info": {
   "codemirror_mode": {
    "name": "ipython",
    "version": 3
   },
   "file_extension": ".py",
   "mimetype": "text/x-python",
   "name": "python",
   "nbconvert_exporter": "python",
   "pygments_lexer": "ipython3",
   "version": "3.7.6"
  }
 },
 "nbformat": 4,
 "nbformat_minor": 4
}
