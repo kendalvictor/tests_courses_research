{
 "cells": [
  {
   "cell_type": "code",
   "execution_count": 1,
   "id": "available-lecture",
   "metadata": {},
   "outputs": [],
   "source": [
    "import re\n",
    "import random as rn"
   ]
  },
  {
   "cell_type": "code",
   "execution_count": 2,
   "id": "diagnostic-circus",
   "metadata": {},
   "outputs": [],
   "source": [
    "listas_finales = ['tag', 'tga', 'taa']\n",
    "inicio = 'atg'"
   ]
  },
  {
   "cell_type": "code",
   "execution_count": 3,
   "id": "general-japan",
   "metadata": {},
   "outputs": [],
   "source": [
    "def codon_detector(analisis, inicio, final):\n",
    "    \n",
    "    if inicio not in analisis or ('tag' not in analisis and 'tag' not in analisis and 'tag' not in analisis):\n",
    "        return ''.join([\n",
    "            '-' if _ not in ['-', '*'] else _ for _ in analisis\n",
    "        ])\n",
    "    \n",
    "    \n",
    "    split_inicio = analisis.split(inicio)\n",
    "    parte_derecha = inicio.join(split_inicio[1:])\n",
    "    intermedio = '*'*len(inicio) if final in parte_derecha else inicio\n",
    "    analisis = ''.join(['-' if _ not in ['-', '*'] else _ for _ in split_inicio[0]]) + intermedio + parte_derecha\n",
    "    \n",
    "    \n",
    "    split_final = analisis.split(final)\n",
    "    parte_final = final.join(split_final[1:])\n",
    "    logica_final = parte_final if inicio in parte_final else '-'*len(parte_final)\n",
    "    inter_2 = '*'*len(final) if final in parte_derecha else ''\n",
    "    analisis = ''.join(['*' if _ not in ['-', '*'] and final in parte_derecha else _ for _ in split_final[0]]) + inter_2 + logica_final\n",
    "    \n",
    "    return analisis"
   ]
  },
  {
   "cell_type": "code",
   "execution_count": 4,
   "id": "accurate-extent",
   "metadata": {},
   "outputs": [],
   "source": [
    "def generar_adn_aleatorio(n):\n",
    "    letras_adn = ['a', 'c', 'g', 't']\n",
    "    return ''.join([rn.choice(letras_adn) for _ in range(n)])"
   ]
  },
  {
   "cell_type": "code",
   "execution_count": 5,
   "id": "unusual-oliver",
   "metadata": {},
   "outputs": [],
   "source": [
    "def codificacion(adn):\n",
    "    analisis = adn[:]\n",
    "\n",
    "    while True:\n",
    "        if set([_ for _ in analisis]) == {'-', '*'} or set([_ for _ in analisis]) == {'-'}:\n",
    "            break\n",
    "\n",
    "        final = rn.choice(listas_finales)\n",
    "\n",
    "        analisis = codon_detector(analisis, inicio, final)\n",
    "\n",
    "    return analisis"
   ]
  },
  {
   "cell_type": "code",
   "execution_count": 6,
   "id": "medium-newspaper",
   "metadata": {},
   "outputs": [],
   "source": [
    "def busqueda_codones(adn):\n",
    "    intentos = 1\n",
    "    max_intentos = 100\n",
    "    nro_hallazgos = 0\n",
    "    collect_hallazgo = set()\n",
    "    print(\">> 0:\", adn)\n",
    "\n",
    "    while intentos < max_intentos and nro_hallazgos < adn.count(inicio):\n",
    "        hallazgo = codificacion(adn)\n",
    "\n",
    "        if set(hallazgo) != {'-'} and hallazgo not in collect_hallazgo:\n",
    "            collect_hallazgo.add(hallazgo)\n",
    "            print(\">> {}: {}\".format(intentos, hallazgo))\n",
    "            nro_hallazgos += 1\n",
    "\n",
    "        intentos +=1\n",
    "    "
   ]
  },
  {
   "cell_type": "code",
   "execution_count": null,
   "id": "capital-darwin",
   "metadata": {},
   "outputs": [],
   "source": []
  },
  {
   "cell_type": "markdown",
   "id": "satisfactory-bachelor",
   "metadata": {},
   "source": [
    "## 1ERO"
   ]
  },
  {
   "cell_type": "code",
   "execution_count": 7,
   "id": "alien-validity",
   "metadata": {},
   "outputs": [
    {
     "data": {
      "text/plain": [
       "'gtctgatgcttatctggttttccggagcgctactgaacagcgtgatcgcccctgacagaactttatggcagcacgtttctcgattttattcacgggcggttcgactgtgataatacaaattcgcaccgtccaacactacgtcaccatgcg'"
      ]
     },
     "execution_count": 7,
     "metadata": {},
     "output_type": "execute_result"
    }
   ],
   "source": [
    "adn =  generar_adn_aleatorio(150)\n",
    "adn"
   ]
  },
  {
   "cell_type": "code",
   "execution_count": 8,
   "id": "acute-batman",
   "metadata": {},
   "outputs": [
    {
     "name": "stdout",
     "output_type": "stream",
     "text": [
      ">> 0: gtctgatgcttatctggttttccggagcgctactgaacagcgtgatcgcccctgacagaactttatggcagcacgtttctcgattttattcacgggcggttcgactgtgataatacaaattcgcaccgtccaacactacgtcaccatgcg\n"
     ]
    }
   ],
   "source": [
    "busqueda_codones(adn)"
   ]
  },
  {
   "cell_type": "code",
   "execution_count": null,
   "id": "oriental-floating",
   "metadata": {},
   "outputs": [],
   "source": []
  },
  {
   "cell_type": "markdown",
   "id": "fiscal-continent",
   "metadata": {},
   "source": [
    "## 2DO"
   ]
  },
  {
   "cell_type": "code",
   "execution_count": 9,
   "id": "fifteen-christian",
   "metadata": {},
   "outputs": [
    {
     "data": {
      "text/plain": [
       "'gtggaccaccacaagcctcgggagtgctagctcggatcgcacatggcgtagatatgttgttttagttccatggcattcttgtgtcgcatatctgaaactgcccacaatattgcccgatccacattaataccagtacatatgacgatcggg'"
      ]
     },
     "execution_count": 9,
     "metadata": {},
     "output_type": "execute_result"
    }
   ],
   "source": [
    "adn_2 =  generar_adn_aleatorio(150)\n",
    "adn_2"
   ]
  },
  {
   "cell_type": "code",
   "execution_count": 10,
   "id": "crude-ballet",
   "metadata": {},
   "outputs": [
    {
     "name": "stdout",
     "output_type": "stream",
     "text": [
      ">> 0: gtggaccaccacaagcctcgggagtgctagctcggatcgcacatggcgtagatatgttgttttagttccatggcattcttgtgtcgcatatctgaaactgcccacaatattgcccgatccacattaataccagtacatatgacgatcggg\n",
      ">> 1: ------------------------------------------*************************************************************************************-----------------------\n",
      ">> 2: ------------------------------------------*****************************************************-------------------------------------------------------\n",
      ">> 3: ------------------------------------------*********--**************************************************************************-----------------------\n",
      ">> 19: ------------------------------------------*********--************-------------------------------------------------------------------------------------\n"
     ]
    }
   ],
   "source": [
    "busqueda_codones(adn_2)"
   ]
  },
  {
   "cell_type": "code",
   "execution_count": null,
   "id": "exotic-festival",
   "metadata": {},
   "outputs": [],
   "source": []
  },
  {
   "cell_type": "markdown",
   "id": "apparent-third",
   "metadata": {},
   "source": [
    "## 3ERO"
   ]
  },
  {
   "cell_type": "code",
   "execution_count": 11,
   "id": "indie-potato",
   "metadata": {},
   "outputs": [
    {
     "data": {
      "text/plain": [
       "'catccgtgtttcttatttccatctgcagaaagggtggatcggagcgatgagacttcctcagtaagccgcttccttcctcaaactgtttccggcgggatatcgcgggcgagcatagcagaatatggatgcctcctcgtactaaagtccgtt'"
      ]
     },
     "execution_count": 11,
     "metadata": {},
     "output_type": "execute_result"
    }
   ],
   "source": [
    "adn_3 =  generar_adn_aleatorio(150)\n",
    "adn_3"
   ]
  },
  {
   "cell_type": "code",
   "execution_count": 12,
   "id": "fitting-internet",
   "metadata": {},
   "outputs": [
    {
     "name": "stdout",
     "output_type": "stream",
     "text": [
      ">> 0: catccgtgtttcttatttccatctgcagaaagggtggatcggagcgatgagacttcctcagtaagccgcttccttcctcaaactgtttccggcgggatatcgcgggcgagcatagcagaatatggatgcctcctcgtactaaagtccgtt\n",
      ">> 1: ----------------------------------------------******************--------------------------------------------------------------------------------------\n",
      ">> 3: ----------------------------------------------******************---------------------------------------------------------*********************--------\n",
      ">> 4: ----------------------------------------------*********************************************************************-----------------------------------\n"
     ]
    }
   ],
   "source": [
    "busqueda_codones(adn_3)"
   ]
  },
  {
   "cell_type": "code",
   "execution_count": null,
   "id": "primary-debut",
   "metadata": {},
   "outputs": [],
   "source": []
  },
  {
   "cell_type": "markdown",
   "id": "conventional-thanks",
   "metadata": {},
   "source": [
    "## 4TO"
   ]
  },
  {
   "cell_type": "code",
   "execution_count": 15,
   "id": "charitable-missouri",
   "metadata": {},
   "outputs": [
    {
     "data": {
      "text/plain": [
       "'tgacagtcggaatcgcgccttccgtccatatcccttttgcacatagcgaaccgagtttaggcggcctaaagcttttactcgtcggggcgactggcattcatgccgctttgacgttcttttcttgccttagctcagatgttaaggattccg'"
      ]
     },
     "execution_count": 15,
     "metadata": {},
     "output_type": "execute_result"
    }
   ],
   "source": [
    "adn_4 =  generar_adn_aleatorio(150)\n",
    "adn_4"
   ]
  },
  {
   "cell_type": "code",
   "execution_count": 16,
   "id": "maritime-basket",
   "metadata": {},
   "outputs": [
    {
     "name": "stdout",
     "output_type": "stream",
     "text": [
      ">> 0: tgacagtcggaatcgcgccttccgtccatatcccttttgcacatagcgaaccgagtttaggcggcctaaagcttttactcgtcggggcgactggcattcatgccgctttgacgttcttttcttgccttagctcagatgttaaggattccg\n",
      ">> 1: ---------------------------------------------------------------------------------------------------*******************************************--------\n",
      ">> 3: ---------------------------------------------------------------------------------------------------************------------------------*******--------\n"
     ]
    }
   ],
   "source": [
    "busqueda_codones(adn_4)"
   ]
  },
  {
   "cell_type": "code",
   "execution_count": null,
   "id": "green-danish",
   "metadata": {},
   "outputs": [],
   "source": []
  }
 ],
 "metadata": {
  "kernelspec": {
   "display_name": "Python 3",
   "language": "python",
   "name": "python3"
  },
  "language_info": {
   "codemirror_mode": {
    "name": "ipython",
    "version": 3
   },
   "file_extension": ".py",
   "mimetype": "text/x-python",
   "name": "python",
   "nbconvert_exporter": "python",
   "pygments_lexer": "ipython3",
   "version": "3.8.5"
  }
 },
 "nbformat": 4,
 "nbformat_minor": 5
}
