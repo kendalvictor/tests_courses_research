{
 "cells": [
  {
   "cell_type": "markdown",
   "metadata": {},
   "source": [
    "## 1- What's the variance of a uniform distribution defined on [0,6]?"
   ]
  },
  {
   "cell_type": "markdown",
   "metadata": {},
   "source": [
    "¿Cuál es la varianza de una distribución uniforme definida en [0,6]? *"
   ]
  },
  {
   "cell_type": "markdown",
   "metadata": {},
   "source": [
    "### TEORIA"
   ]
  },
  {
   "cell_type": "markdown",
   "metadata": {},
   "source": [
    "<img style='background:white' src='http://www.ub.edu/stat/GrupsInnovacio/Statmedia/demo/Temas/Capitulo4/Images/C4t1g1.gif'></img>"
   ]
  },
  {
   "cell_type": "markdown",
   "metadata": {},
   "source": [
    "<img src='http://www.ub.edu/stat/GrupsInnovacio/Statmedia/demo/Temas/Capitulo4/Images/C4uniforme1.gif'></img>"
   ]
  },
  {
   "cell_type": "markdown",
   "metadata": {},
   "source": [
    "### Su varianza es (b − a)2/12"
   ]
  },
  {
   "cell_type": "markdown",
   "metadata": {},
   "source": [
    "### RESOLUCION"
   ]
  },
  {
   "cell_type": "code",
   "execution_count": 4,
   "metadata": {},
   "outputs": [
    {
     "data": {
      "text/plain": [
       "3.0"
      ]
     },
     "execution_count": 4,
     "metadata": {},
     "output_type": "execute_result"
    }
   ],
   "source": [
    "((6 - 0)**2) / 12"
   ]
  },
  {
   "cell_type": "markdown",
   "metadata": {},
   "source": [
    "## 2- Find the minimal value of f(x)=3x^4-8x^3+6x^2-12 on [-3,3] *"
   ]
  },
  {
   "cell_type": "markdown",
   "metadata": {},
   "source": [
    "### GRAFICAMENTE"
   ]
  },
  {
   "cell_type": "code",
   "execution_count": 10,
   "metadata": {},
   "outputs": [
    {
     "data": {
      "image/png": "[encoded data removed]",
      "text/plain": [
       "<Figure size 432x288 with 1 Axes>"
      ]
     },
     "metadata": {
      "needs_background": "light"
     },
     "output_type": "display_data"
    }
   ],
   "source": [
    "import numpy as np\n",
    "import matplotlib.pyplot as plt\n",
    "%matplotlib inline\n",
    "\n",
    "# evenly sampled time at 200ms intervals\n",
    "x = np.arange(-3, 3, 0.2)\n",
    "\n",
    "def f1(x):\n",
    "    return 3*x**4 -8*x**3 + 6*x**2 - 12\n",
    "\n",
    "    ax1.plot(2000*np.random.rand(10))\n",
    "    ax1.set_title('ylabels not aligned')\n",
    "    ax1.set_ylabel('misaligned 1', bbox=box)\n",
    "    ax1.set_ylim(0, 2000)\n",
    "    \n",
    "fig, axs = plt.subplots(1, 1)\n",
    "axs.plot(x, f1(x), 'bs')\n",
    "axs.set_ylim(-16, 5)\n",
    "plt.show()"
   ]
  },
  {
   "cell_type": "markdown",
   "metadata": {},
   "source": [
    "### FUNCION DE OPTIMIZACION"
   ]
  },
  {
   "cell_type": "code",
   "execution_count": 27,
   "metadata": {},
   "outputs": [],
   "source": [
    "from scipy import optimize"
   ]
  },
  {
   "cell_type": "code",
   "execution_count": 44,
   "metadata": {},
   "outputs": [
    {
     "name": "stdout",
     "output_type": "stream",
     "text": [
      "x:  [2.01223493e-07] \n",
      " y:  [-12.] \n",
      " logrado?:  True \n",
      " mensaje:  b'CONVERGENCE: NORM_OF_PROJECTED_GRADIENT_<=_PGTOL' \n",
      "\n"
     ]
    }
   ],
   "source": [
    "sol = optimize.minimize(f1, [-1], method='L-BFGS-B', bounds=[(-3, 3)])\n",
    "print(\n",
    "    'x: ', sol.x, '\\n',\n",
    "    'y: ', sol.fun, '\\n',\n",
    "    'logrado?: ', sol.success, '\\n',\n",
    "    'mensaje: ', sol.message, '\\n',\n",
    ")"
   ]
  },
  {
   "cell_type": "code",
   "execution_count": 45,
   "metadata": {},
   "outputs": [
    {
     "name": "stdout",
     "output_type": "stream",
     "text": [
      "x:  [4.1854148e-06] \n",
      " y:  -11.999999999894895 \n",
      " logrado?:  True \n",
      " mensaje:  Optimization terminated successfully. \n",
      "\n"
     ]
    }
   ],
   "source": [
    "sol = optimize.minimize(f1, [-1], method='SLSQP', bounds=[(-3, 3)])\n",
    "print(\n",
    "    'x: ', sol.x, '\\n',\n",
    "    'y: ', sol.fun, '\\n',\n",
    "    'logrado?: ', sol.success, '\\n',\n",
    "    'mensaje: ', sol.message, '\\n',\n",
    ")"
   ]
  },
  {
   "cell_type": "code",
   "execution_count": 46,
   "metadata": {},
   "outputs": [
    {
     "name": "stdout",
     "output_type": "stream",
     "text": [
      "x:  [-7.46931675e-07] \n",
      " y:  [-12.] \n",
      " logrado?:  True \n",
      " mensaje:  Converged (|f_n-f_(n-1)| ~= 0) \n",
      "\n"
     ]
    }
   ],
   "source": [
    "sol = optimize.minimize(f1, [-1], method='TNC', bounds=[(-3, 3)])\n",
    "print(\n",
    "    'x: ', sol.x, '\\n',\n",
    "    'y: ', sol.fun, '\\n',\n",
    "    'logrado?: ', sol.success, '\\n',\n",
    "    'mensaje: ', sol.message, '\\n',\n",
    ")"
   ]
  },
  {
   "cell_type": "markdown",
   "metadata": {},
   "source": [
    "### POR LO TANTO SOLUCION : -12"
   ]
  },
  {
   "cell_type": "code",
   "execution_count": null,
   "metadata": {},
   "outputs": [],
   "source": []
  }
 ],
 "metadata": {
  "kernelspec": {
   "display_name": "Python 3",
   "language": "python",
   "name": "python3"
  },
  "language_info": {
   "codemirror_mode": {
    "name": "ipython",
    "version": 3
   },
   "file_extension": ".py",
   "mimetype": "text/x-python",
   "name": "python",
   "nbconvert_exporter": "python",
   "pygments_lexer": "ipython3",
   "version": "3.6.7"
  }
 },
 "nbformat": 4,
 "nbformat_minor": 2
}
