{
 "cells": [
  {
   "cell_type": "code",
   "execution_count": 19,
   "metadata": {},
   "outputs": [],
   "source": [
    "def i_instalacion(d,k,n):\n",
    "    i = 1\n",
    "    pto = d[i-1]\n",
    "    antenas = []\n",
    "    \n",
    "    while i <= n-1:\n",
    "        diff = d[i] - pto\n",
    "        print(pto, d[i], diff, 2*k)\n",
    "        \n",
    "        if 2*k >= diff:\n",
    "            antenas.append(\n",
    "                (pto + d[i]) / 2\n",
    "            )\n",
    "        else:\n",
    "            antenas.extend(\n",
    "                [pto + k, d[i] - k]\n",
    "            )\n",
    "        pto = d[i]\n",
    "        i += 1\n",
    "    \n",
    "    return antenas"
   ]
  },
  {
   "cell_type": "code",
   "execution_count": 20,
   "metadata": {},
   "outputs": [
    {
     "name": "stdout",
     "output_type": "stream",
     "text": [
      "3 5 2 6\n",
      "5 10 5 6\n",
      "10 20 10 6\n",
      "20 25 5 6\n"
     ]
    },
    {
     "data": {
      "text/plain": [
       "[4.0, 7.5, 13, 17, 22.5]"
      ]
     },
     "execution_count": 20,
     "metadata": {},
     "output_type": "execute_result"
    }
   ],
   "source": [
    "d = [3 , 5, 10 , 20, 25]\n",
    "k = 3\n",
    "n = 5\n",
    "i_instalacion(d,k,n)\n"
   ]
  },
  {
   "cell_type": "code",
   "execution_count": null,
   "metadata": {},
   "outputs": [],
   "source": []
  }
 ],
 "metadata": {
  "kernelspec": {
   "display_name": "Python 3",
   "language": "python",
   "name": "python3"
  },
  "language_info": {
   "codemirror_mode": {
    "name": "ipython",
    "version": 3
   },
   "file_extension": ".py",
   "mimetype": "text/x-python",
   "name": "python",
   "nbconvert_exporter": "python",
   "pygments_lexer": "ipython3",
   "version": "3.6.5"
  }
 },
 "nbformat": 4,
 "nbformat_minor": 2
}
