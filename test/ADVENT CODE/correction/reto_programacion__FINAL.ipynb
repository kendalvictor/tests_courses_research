{
 "cells": [
  {
   "cell_type": "markdown",
   "metadata": {},
   "source": [
    "## 1. IMPORTANDO LIBRERIAS"
   ]
  },
  {
   "cell_type": "code",
   "execution_count": 2,
   "metadata": {},
   "outputs": [],
   "source": [
    "#libraries\n",
    "from random import randint\n",
    "import numpy as np\n",
    "import re\n",
    "import copy"
   ]
  },
  {
   "cell_type": "markdown",
   "metadata": {},
   "source": [
    "## 2. EXTRACCIÓN DE LA DATA DEL ARCHIVO TXT"
   ]
  },
  {
   "cell_type": "code",
   "execution_count": 3,
   "metadata": {},
   "outputs": [],
   "source": [
    "#2.1 Extraemos los nombres de las ciudades y \n",
    "#    realizamos el encoding con ayuda de un diccionario\n",
    "encode_routes_dict={}\n",
    "cnt=0\n",
    "with open('rutas.txt', 'r') as fp:\n",
    "    for line in fp:\n",
    "        text_in_line=(re.split(r'\\s',line))\n",
    "        x=text_in_line[0]\n",
    "        y=text_in_line[2]\n",
    "        if x in encode_routes_dict:\n",
    "            continue\n",
    "        else: \n",
    "            encode_routes_dict[x]=cnt\n",
    "            cnt=cnt+1\n",
    "        if y in encode_routes_dict:\n",
    "            continue\n",
    "        else: \n",
    "            encode_routes_dict[y]=cnt\n",
    "            cnt=cnt+1\n",
    "#Creacion del diccionario invertido que se usará luego\n",
    "inv_encode_routes_dict = {v: k for k, v in encode_routes_dict.items()}\n"
   ]
  },
  {
   "cell_type": "code",
   "execution_count": 4,
   "metadata": {},
   "outputs": [
    {
     "name": "stdout",
     "output_type": "stream",
     "text": [
      "Dictionario de ciudades {'AlphaCentauri': 0, 'Snowdin': 1, 'Tambi': 2, 'Faerun': 3, 'Norrath': 4, 'Straylight': 5, 'Tristram': 6, 'Arbre': 7}\n",
      "Diccionario invertido de ciudades {0: 'AlphaCentauri', 1: 'Snowdin', 2: 'Tambi', 3: 'Faerun', 4: 'Norrath', 5: 'Straylight', 6: 'Tristram', 7: 'Arbre'}\n"
     ]
    }
   ],
   "source": [
    "print(\"Dictionario de ciudades\",encode_routes_dict)\n",
    "print(\"Diccionario invertido de ciudades\",inv_encode_routes_dict)"
   ]
  },
  {
   "cell_type": "markdown",
   "metadata": {},
   "source": [
    "## 3. Creacion de la matrix de conexiones"
   ]
  },
  {
   "cell_type": "code",
   "execution_count": 5,
   "metadata": {},
   "outputs": [],
   "source": [
    "#3.1 Funcion para encontrar el encoding respectivo de cada ciudad\n",
    "def encode_city(city):\n",
    "    return encode_routes_dict[city]\n",
    "con=np.zeros((cnt+1,cnt+1))\n",
    "with open('rutas.txt', 'r') as fp:\n",
    "    for line in fp:\n",
    "        text_in_line=(re.split(r'\\s',line))\n",
    "        c1=encode_city(text_in_line[0])\n",
    "        c2=encode_city(text_in_line[2])\n",
    "        c3=int(text_in_line[4])\n",
    "        con[c1,c2]=c3\n",
    "        con[c2,c1]=c3\n",
    "for i in range(0,con.shape[0]):\n",
    "    con[i][i]=-1\n",
    "con_list=list()\n",
    "for i in range(con.shape[0]):\n",
    "    con_list.append(list(con[i,:]))"
   ]
  },
  {
   "cell_type": "code",
   "execution_count": 6,
   "metadata": {},
   "outputs": [
    {
     "data": {
      "text/plain": [
       "[[-1.0, 66.0, 28.0, 60.0, 34.0, 34.0, 3.0, 108.0, 0.0],\n",
       " [66.0, -1.0, 22.0, 12.0, 91.0, 121.0, 111.0, 71.0, 0.0],\n",
       " [28.0, 22.0, -1.0, 39.0, 113.0, 130.0, 35.0, 40.0, 0.0],\n",
       " [60.0, 12.0, 39.0, -1.0, 63.0, 21.0, 57.0, 83.0, 0.0],\n",
       " [34.0, 91.0, 113.0, 63.0, -1.0, 9.0, 50.0, 60.0, 0.0],\n",
       " [34.0, 121.0, 130.0, 21.0, 9.0, -1.0, 27.0, 81.0, 0.0],\n",
       " [3.0, 111.0, 35.0, 57.0, 50.0, 27.0, -1.0, 90.0, 0.0],\n",
       " [108.0, 71.0, 40.0, 83.0, 60.0, 81.0, 90.0, -1.0, 0.0],\n",
       " [0.0, 0.0, 0.0, 0.0, 0.0, 0.0, 0.0, 0.0, -1.0]]"
      ]
     },
     "execution_count": 6,
     "metadata": {},
     "output_type": "execute_result"
    }
   ],
   "source": [
    "con_list"
   ]
  },
  {
   "cell_type": "markdown",
   "metadata": {},
   "source": [
    "## 4. Solución del problema utilizando programacion dinámica"
   ]
  },
  {
   "cell_type": "markdown",
   "metadata": {},
   "source": [
    "#### La estrategia utilizada para este problema es resolver el problema TSP(traveling sales problem)\n",
    "#### pero se le agregar un nodo mas (inservible) el cual poseerá distancias \"0\" con los otros nodos y que \n",
    "#### posteriormente sera removido para encontrar la ruta optima"
   ]
  },
  {
   "cell_type": "code",
   "execution_count": 7,
   "metadata": {},
   "outputs": [],
   "source": [
    "#4.1 Funciones necesarias para la obtencion de la rupta optima\n",
    "\n",
    "#Funcion para encontrar en nodo \"inservible\"\n",
    "def finding_break(lista):\n",
    "    for i in range(len(lista)):\n",
    "        if lista[i]==len(lista)-1:\n",
    "            j=i\n",
    "    return j        \n",
    "#Funcion para la creacion de tuplas solucion\n",
    "def tuples_solution(lista,j):\n",
    "    nn=list()\n",
    "    for i in range(0,len(lista)-1):\n",
    "        if i<j-1:\n",
    "            nn.append([lista[i],lista[i+1]])\n",
    "        if i==j-1:\n",
    "            continue\n",
    "        if i>j:\n",
    "            nn.append([lista[i],lista[i+1]])\n",
    "    return nn\n",
    "\n",
    "#Funcion para encontrar el camino optimo \n",
    "def finding_path(lista,inicio,final):\n",
    "    tt=list()\n",
    "    y=inicio\n",
    "    for j in range(len(lista)):\n",
    "        for i in range(len(lista)):\n",
    "            if (lista[i][0])==y:\n",
    "                tt.append(lista[i][0])\n",
    "                y=lista[i][1]\n",
    "    tt.append(final)\n",
    "    return tt\n",
    "#Funcion para poder visualizar el camino optimo con os nombres de las ciudades\n",
    "def inv_encoding_path(ss):\n",
    "    pp=list()\n",
    "    for i in range(len(ss)):\n",
    "        pp.append(inv_encode_routes_dict[ss[i]-1])\n",
    "    return pp\n",
    "#Funcion para obtener la distancia optima\n",
    "def optimal_path_distance(lista_pares):\n",
    "    suma=0\n",
    "    for i in range(len(lista_pares)):\n",
    "        actual_list=lista_pares[i]\n",
    "        c_x=actual_list[0]-1\n",
    "        c_y=actual_list[1]-1\n",
    "        suma=con_list[c_x][c_y] + suma\n",
    "    return suma\n",
    "    "
   ]
  },
  {
   "cell_type": "code",
   "execution_count": 8,
   "metadata": {},
   "outputs": [],
   "source": [
    "## RESOLUCION DEL PROBLEMA UTILIZANDO PROGRAMACION DINAMICA\n",
    "matrix = con_list    \n",
    "data = list(range(1,len(matrix)+1))\n",
    "n = len(data)\n",
    "all_sets = []\n",
    "g = {}\n",
    "p = []\n",
    "#variable global que almacenara en primera instancia el camino solucion utilizando el nodo \"inservible\"\n",
    "global ps\n",
    "ps=list()\n",
    "def main():\n",
    "    for x in range(1, n):\n",
    "        g[x + 1, ()] = matrix[x][0]\n",
    "    #Seteo manual\n",
    "    obtener_minimo(1,(2,3,4,5,6,7,8,9))\n",
    "    solution = p.pop()\n",
    "    ps.append(1)\n",
    "    ps.append(solution[1][0])\n",
    "    for x in range(n - 2):\n",
    "        for new_solution in p:\n",
    "            if tuple(solution[1]) == new_solution[0]:\n",
    "                solution = new_solution\n",
    "                ps.append(solution[1][0])\n",
    "                break\n",
    "    ps.append(1)\n",
    "    return\n",
    "\n",
    "\n",
    "def obtener_minimo(k, a):\n",
    "    if (k, a) in g:\n",
    "        # Already calculated Set g[%d, (%s)]=%d' % (k, str(a), g[k, a]))\n",
    "        return g[k, a]\n",
    "\n",
    "    values = []\n",
    "    all_min = []\n",
    "    for j in a:\n",
    "        set_a = copy.deepcopy(list(a))\n",
    "        set_a.remove(j)\n",
    "        all_min.append([j, tuple(set_a)])\n",
    "        result = obtener_minimo(j, tuple(set_a))\n",
    "        values.append(matrix[k-1][j-1] + result)\n",
    "\n",
    "    # get minimun value from set as optimal solution for\n",
    "    g[k, a] = min(values)\n",
    "    p.append(((k, a), all_min[values.index(g[k, a])]))\n",
    "\n",
    "    return g[k, a]\n",
    "main() "
   ]
  },
  {
   "cell_type": "code",
   "execution_count": 9,
   "metadata": {},
   "outputs": [],
   "source": [
    "#ULTIMOS PASOS PARA LA VISUALIZACION DEL PROBLEMA"
   ]
  },
  {
   "cell_type": "code",
   "execution_count": 10,
   "metadata": {},
   "outputs": [],
   "source": [
    "ts=tuples_solution(ps,finding_break(ps))\n",
    "inicio=ps[finding_break(ps)+1]\n",
    "final=ps[finding_break(ps)-1]"
   ]
  },
  {
   "cell_type": "code",
   "execution_count": 11,
   "metadata": {},
   "outputs": [],
   "source": [
    "path_not_encoding=finding_path(ts,inicio,final)"
   ]
  },
  {
   "cell_type": "code",
   "execution_count": 12,
   "metadata": {},
   "outputs": [
    {
     "name": "stdout",
     "output_type": "stream",
     "text": [
      "Ruta Optima: \n",
      "Tristram->AlphaCentauri->Norrath->Straylight->Faerun->Snowdin->Tambi->Arbre\n",
      "Valor optimo:  141.0\n"
     ]
    }
   ],
   "source": [
    "print(\"Ruta Optima: \")\n",
    "print(\"->\".join(inv_encoding_path(path_not_encoding)))\n",
    "print(\"Valor optimo: \",optimal_path_distance(ts))"
   ]
  },
  {
   "cell_type": "code",
   "execution_count": null,
   "metadata": {},
   "outputs": [],
   "source": []
  }
 ],
 "metadata": {
  "kernelspec": {
   "display_name": "Python 3",
   "language": "python",
   "name": "python3"
  },
  "language_info": {
   "codemirror_mode": {
    "name": "ipython",
    "version": 3
   },
   "file_extension": ".py",
   "mimetype": "text/x-python",
   "name": "python",
   "nbconvert_exporter": "python",
   "pygments_lexer": "ipython3",
   "version": "3.6.5"
  }
 },
 "nbformat": 4,
 "nbformat_minor": 2
}
