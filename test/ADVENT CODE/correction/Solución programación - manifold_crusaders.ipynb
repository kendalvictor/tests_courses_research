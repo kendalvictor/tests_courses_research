{
 "cells": [
  {
   "cell_type": "markdown",
   "metadata": {},
   "source": [
    "# Pregunta de programación. Previas a la hackatón URP\n",
    "\n",
    "El problema descrito se puede plantear como una modificación de un problema clásico llamado **problema del agente viajero** (*TSP*). Si interpretamos a las ciudades como nodos de un grafo y las conexiones entre estos como los caminos posibles a tomar (con un costo respectivo), entonces el *TSP* busca generar una ruta de mínimo costo (en este caso, distancia) que conecte a todos los nodos del grafo, tal que cada nodo sea visitado una única vez y cuente con una única salida. La versión modificada del *TSP* que resuelve **el problema brindado** consiste en que se debe cortar el arco dirigido dentro de la solución del *TSP* que tenga el mayor costo (pues se parte de una ciudad y se finaliza en otra distinta).\n",
    "\n",
    "Nuestro equipo reliza esto mediante **programación lineal** con la librería **docplex** de Python.\n",
    "\n",
    "Primero se debe instalar **IBM ILOG Optimization Studio** desde [acá](https://www.ibm.com/pe-es/products/ilog-cplex-optimization-studio). Luego de ello, leer la documentación de **docplex** que incluye instrucciones de instalación [acá](https://github.com/IBMDecisionOptimization/docplex-examples)"
   ]
  },
  {
   "cell_type": "code",
   "execution_count": 18,
   "metadata": {},
   "outputs": [
    {
     "name": "stdout",
     "output_type": "stream",
     "text": [
      "Collecting docplex\n",
      "Collecting docloud>=1.0.315 (from docplex)\n",
      "Collecting requests (from docplex)\n",
      "  Using cached https://files.pythonhosted.org/packages/7d/e3/20f3d364d6c8e5d2353c72a67778eb189176f08e873c9900e10c0287b84b/requests-2.21.0-py2.py3-none-any.whl\n",
      "Collecting six (from docplex)\n",
      "  Using cached https://files.pythonhosted.org/packages/73/fb/00a976f728d0d1fecfe898238ce23f502a721c0ac0ecfedb80e0d88c64e9/six-1.12.0-py2.py3-none-any.whl\n",
      "Collecting certifi>=2017.4.17 (from requests->docplex)\n",
      "  Using cached https://files.pythonhosted.org/packages/60/75/f692a584e85b7eaba0e03827b3d51f45f571c2e793dd731e598828d380aa/certifi-2019.3.9-py2.py3-none-any.whl\n",
      "Collecting chardet<3.1.0,>=3.0.2 (from requests->docplex)\n",
      "  Using cached https://files.pythonhosted.org/packages/bc/a9/01ffebfb562e4274b6487b4bb1ddec7ca55ec7510b22e4c51f14098443b8/chardet-3.0.4-py2.py3-none-any.whl\n",
      "Collecting urllib3<1.25,>=1.21.1 (from requests->docplex)\n",
      "  Using cached https://files.pythonhosted.org/packages/df/1c/59cca3abf96f991f2ec3131a4ffe72ae3d9ea1f5894abe8a9c5e3c77cfee/urllib3-1.24.2-py2.py3-none-any.whl\n",
      "Collecting idna<2.9,>=2.5 (from requests->docplex)\n",
      "  Using cached https://files.pythonhosted.org/packages/14/2c/cd551d81dbe15200be1cf41cd03869a46fe7226e7450af7a6545bfc474c9/idna-2.8-py2.py3-none-any.whl\n",
      "\u001b[31mspyder 3.3.2 requires pyqt5<5.10; python_version >= \"3\", which is not installed.\u001b[0m\n",
      "\u001b[31mtensorflow 1.9.0 has requirement setuptools<=39.1.0, but you'll have setuptools 40.6.3 which is incompatible.\u001b[0m\n",
      "\u001b[31mkeras 2.2.0 has requirement keras-applications==1.0.2, but you'll have keras-applications 1.0.6 which is incompatible.\u001b[0m\n",
      "\u001b[31mkeras 2.2.0 has requirement keras-preprocessing==1.0.1, but you'll have keras-preprocessing 1.0.5 which is incompatible.\u001b[0m\n",
      "\u001b[31mkaggle 1.5.0 has requirement urllib3<1.23.0,>=1.15, but you'll have urllib3 1.24.2 which is incompatible.\u001b[0m\n",
      "Installing collected packages: certifi, chardet, urllib3, idna, requests, six, docloud, docplex\n",
      "  Found existing installation: certifi 2018.11.29\n",
      "\u001b[31mCannot uninstall 'certifi'. It is a distutils installed project and thus we cannot accurately determine which files belong to it which would lead to only a partial uninstall.\u001b[0m\n"
     ]
    }
   ],
   "source": [
    "!pip install docplex --force"
   ]
  },
  {
   "cell_type": "code",
   "execution_count": 19,
   "metadata": {},
   "outputs": [
    {
     "ename": "ModuleNotFoundError",
     "evalue": "No module named 'docplex'",
     "output_type": "error",
     "traceback": [
      "\u001b[0;31m---------------------------------------------------------------------------\u001b[0m",
      "\u001b[0;31mModuleNotFoundError\u001b[0m                       Traceback (most recent call last)",
      "\u001b[0;32m<ipython-input-19-a94ff8666841>\u001b[0m in \u001b[0;36m<module>\u001b[0;34m\u001b[0m\n\u001b[1;32m      1\u001b[0m \u001b[0;31m# Todas las liberías necesarias:\u001b[0m\u001b[0;34m\u001b[0m\u001b[0;34m\u001b[0m\u001b[0m\n\u001b[0;32m----> 2\u001b[0;31m \u001b[0;32mfrom\u001b[0m \u001b[0mdocplex\u001b[0m\u001b[0;34m.\u001b[0m\u001b[0mmp\u001b[0m\u001b[0;34m.\u001b[0m\u001b[0mmodel\u001b[0m \u001b[0;32mimport\u001b[0m \u001b[0mModel\u001b[0m \u001b[0;31m# importando la clase 'Model' de Programación Lineal\u001b[0m\u001b[0;34m\u001b[0m\u001b[0m\n\u001b[0m\u001b[1;32m      3\u001b[0m \u001b[0;32mimport\u001b[0m \u001b[0mnumpy\u001b[0m \u001b[0;32mas\u001b[0m \u001b[0mnp\u001b[0m \u001b[0;31m# álgebra lineal\u001b[0m\u001b[0;34m\u001b[0m\u001b[0m\n\u001b[1;32m      4\u001b[0m \u001b[0;32mimport\u001b[0m \u001b[0mpandas\u001b[0m \u001b[0;32mas\u001b[0m \u001b[0mpd\u001b[0m \u001b[0;31m# DataFrames para manipular tablas de datos\u001b[0m\u001b[0;34m\u001b[0m\u001b[0m\n\u001b[1;32m      5\u001b[0m \u001b[0;32mimport\u001b[0m \u001b[0mnetworkx\u001b[0m \u001b[0;32mas\u001b[0m \u001b[0mnx\u001b[0m\u001b[0;34m\u001b[0m\u001b[0m\n",
      "\u001b[0;31mModuleNotFoundError\u001b[0m: No module named 'docplex'"
     ]
    }
   ],
   "source": [
    "# Todas las liberías necesarias:\n",
    "from docplex.mp.model import Model # importando la clase 'Model' de Programación Lineal\n",
    "import numpy as np # álgebra lineal\n",
    "import pandas as pd # DataFrames para manipular tablas de datos\n",
    "import networkx as nx"
   ]
  },
  {
   "cell_type": "code",
   "execution_count": 16,
   "metadata": {},
   "outputs": [
    {
     "name": "stdout",
     "output_type": "stream",
     "text": [
      "[['AlphaCentauri', 'Snowdin', 66.0], ['AlphaCentauri', 'Tambi', 28.0], ['AlphaCentauri', 'Faerun', 60.0], ['AlphaCentauri', 'Norrath', 34.0], ['AlphaCentauri', 'Straylight', 34.0], ['AlphaCentauri', 'Tristram', 3.0], ['AlphaCentauri', 'Arbre', 108.0], ['Snowdin', 'Tambi', 22.0], ['Snowdin', 'Faerun', 12.0], ['Snowdin', 'Norrath', 91.0], ['Snowdin', 'Straylight', 121.0], ['Snowdin', 'Tristram', 111.0], ['Snowdin', 'Arbre', 71.0], ['Tambi', 'Faerun', 39.0], ['Tambi', 'Norrath', 113.0], ['Tambi', 'Straylight', 130.0], ['Tambi', 'Tristram', 35.0], ['Tambi', 'Arbre', 40.0], ['Faerun', 'Norrath', 63.0], ['Faerun', 'Straylight', 21.0], ['Faerun', 'Tristram', 57.0], ['Faerun', 'Arbre', 83.0], ['Norrath', 'Straylight', 9.0], ['Norrath', 'Tristram', 50.0], ['Norrath', 'Arbre', 60.0], ['Straylight', 'Tristram', 27.0], ['Straylight', 'Arbre', 81.0], ['Tristram', 'Arbre', 9.0]]\n"
     ]
    }
   ],
   "source": [
    "# Carga de archivo txt:\n",
    "lista_data = []\n",
    "with open('rutas.txt') as file:\n",
    "    todas_lineas = file.readlines()\n",
    "    for linea in todas_lineas:\n",
    "        lista_temp = []\n",
    "        loc_to = linea.find(\" to \")\n",
    "        loc_igual = linea.find(\" = \")\n",
    "        lista_temp.append(linea[0:loc_to]) # origen\n",
    "        lista_temp.append(linea[loc_to+4:loc_igual]) # destino\n",
    "        lista_temp.append(float(linea[loc_igual+3:][:-1])) # distancia eliminando el '\\n'\n",
    "        lista_data.append(lista_temp)\n",
    "        \n",
    "print(lista_data)"
   ]
  },
  {
   "cell_type": "code",
   "execution_count": 3,
   "metadata": {},
   "outputs": [
    {
     "ename": "NameError",
     "evalue": "name 'pd' is not defined",
     "output_type": "error",
     "traceback": [
      "\u001b[0;31m---------------------------------------------------------------------------\u001b[0m",
      "\u001b[0;31mNameError\u001b[0m                                 Traceback (most recent call last)",
      "\u001b[0;32m<ipython-input-3-85d64ceb2ee7>\u001b[0m in \u001b[0;36m<module>\u001b[0;34m\u001b[0m\n\u001b[1;32m      1\u001b[0m \u001b[0;31m# Dataframe con la información:\u001b[0m\u001b[0;34m\u001b[0m\u001b[0;34m\u001b[0m\u001b[0m\n\u001b[0;32m----> 2\u001b[0;31m \u001b[0mdataframe_arcos\u001b[0m \u001b[0;34m=\u001b[0m \u001b[0mpd\u001b[0m\u001b[0;34m.\u001b[0m\u001b[0mDataFrame\u001b[0m\u001b[0;34m(\u001b[0m\u001b[0mlista_data\u001b[0m\u001b[0;34m)\u001b[0m\u001b[0;34m\u001b[0m\u001b[0m\n\u001b[0m\u001b[1;32m      3\u001b[0m \u001b[0mdataframe_arcos\u001b[0m\u001b[0;34m.\u001b[0m\u001b[0mhead\u001b[0m\u001b[0;34m(\u001b[0m\u001b[0;34m)\u001b[0m\u001b[0;34m\u001b[0m\u001b[0m\n",
      "\u001b[0;31mNameError\u001b[0m: name 'pd' is not defined"
     ]
    }
   ],
   "source": [
    "# Dataframe con la información:\n",
    "dataframe_arcos = pd.DataFrame(lista_data)\n",
    "dataframe_arcos.head()"
   ]
  },
  {
   "cell_type": "code",
   "execution_count": 4,
   "metadata": {},
   "outputs": [
    {
     "ename": "NameError",
     "evalue": "name 'np' is not defined",
     "output_type": "error",
     "traceback": [
      "\u001b[0;31m---------------------------------------------------------------------------\u001b[0m",
      "\u001b[0;31mNameError\u001b[0m                                 Traceback (most recent call last)",
      "\u001b[0;32m<ipython-input-4-c8bb0097ee02>\u001b[0m in \u001b[0;36m<module>\u001b[0;34m\u001b[0m\n\u001b[1;32m      1\u001b[0m \u001b[0;31m# Extraemos las etiquetas de ciudades:\u001b[0m\u001b[0;34m\u001b[0m\u001b[0;34m\u001b[0m\u001b[0m\n\u001b[0;32m----> 2\u001b[0;31m \u001b[0mciudades_unicas\u001b[0m \u001b[0;34m=\u001b[0m \u001b[0mlist\u001b[0m\u001b[0;34m(\u001b[0m\u001b[0mset\u001b[0m\u001b[0;34m(\u001b[0m\u001b[0mnp\u001b[0m\u001b[0;34m.\u001b[0m\u001b[0mhstack\u001b[0m\u001b[0;34m(\u001b[0m\u001b[0;34m(\u001b[0m\u001b[0mdataframe_arcos\u001b[0m\u001b[0;34m[\u001b[0m\u001b[0;36m0\u001b[0m\u001b[0;34m]\u001b[0m\u001b[0;34m,\u001b[0m \u001b[0mdataframe_arcos\u001b[0m\u001b[0;34m[\u001b[0m\u001b[0;36m1\u001b[0m\u001b[0;34m]\u001b[0m\u001b[0;34m)\u001b[0m\u001b[0;34m)\u001b[0m\u001b[0;34m)\u001b[0m\u001b[0;34m)\u001b[0m\u001b[0;34m\u001b[0m\u001b[0m\n\u001b[0m\u001b[1;32m      3\u001b[0m \u001b[0mciudades_unicas\u001b[0m\u001b[0;34m.\u001b[0m\u001b[0msort\u001b[0m\u001b[0;34m(\u001b[0m\u001b[0;34m)\u001b[0m\u001b[0;34m\u001b[0m\u001b[0m\n\u001b[1;32m      4\u001b[0m \u001b[0mciudades_unicas\u001b[0m\u001b[0;34m\u001b[0m\u001b[0m\n",
      "\u001b[0;31mNameError\u001b[0m: name 'np' is not defined"
     ]
    }
   ],
   "source": [
    "# Extraemos las etiquetas de ciudades:\n",
    "ciudades_unicas = list(set(np.hstack((dataframe_arcos[0], dataframe_arcos[1]))))\n",
    "ciudades_unicas.sort()\n",
    "ciudades_unicas"
   ]
  },
  {
   "cell_type": "code",
   "execution_count": 5,
   "metadata": {},
   "outputs": [
    {
     "ename": "NameError",
     "evalue": "name 'pd' is not defined",
     "output_type": "error",
     "traceback": [
      "\u001b[0;31m---------------------------------------------------------------------------\u001b[0m",
      "\u001b[0;31mNameError\u001b[0m                                 Traceback (most recent call last)",
      "\u001b[0;32m<ipython-input-5-2b6998b69d3f>\u001b[0m in \u001b[0;36m<module>\u001b[0;34m\u001b[0m\n\u001b[1;32m      1\u001b[0m \u001b[0;31m# Creamos matriz de distancias:\u001b[0m\u001b[0;34m\u001b[0m\u001b[0;34m\u001b[0m\u001b[0m\n\u001b[0;32m----> 2\u001b[0;31m matriz_dist = pd.DataFrame(data = np.full(shape=(len(ciudades_unicas), len(ciudades_unicas)), fill_value = 999999),\n\u001b[0m\u001b[1;32m      3\u001b[0m                            \u001b[0mindex\u001b[0m \u001b[0;34m=\u001b[0m \u001b[0mciudades_unicas\u001b[0m\u001b[0;34m,\u001b[0m\u001b[0;34m\u001b[0m\u001b[0m\n\u001b[1;32m      4\u001b[0m                            columns = ciudades_unicas)\n\u001b[1;32m      5\u001b[0m \u001b[0;34m\u001b[0m\u001b[0m\n",
      "\u001b[0;31mNameError\u001b[0m: name 'pd' is not defined"
     ]
    }
   ],
   "source": [
    "# Creamos matriz de distancias:\n",
    "matriz_dist = pd.DataFrame(data = np.full(shape=(len(ciudades_unicas), len(ciudades_unicas)), fill_value = 999999),\n",
    "                           index = ciudades_unicas,\n",
    "                           columns = ciudades_unicas)\n",
    "\n",
    "# Rellenamos la matriz con las distancias correctas:\n",
    "for row in dataframe_arcos.iterrows():\n",
    "    orig = row[1][0]\n",
    "    dest = row[1][1]\n",
    "    dist = row[1][2]\n",
    "    matriz_dist.loc[orig, dest] = dist\n",
    "\n",
    "matriz_dist # vemos matriz finalizada!"
   ]
  },
  {
   "cell_type": "markdown",
   "metadata": {},
   "source": [
    "Abajo modelamos las restricciones de la formulación TSP de Tucker-Miller-Zemlin (1960), desde su paper *\"Integer Programming Formulation of Traveling Salesman Problems\"*"
   ]
  },
  {
   "cell_type": "code",
   "execution_count": 6,
   "metadata": {},
   "outputs": [],
   "source": [
    "def ModeloTSP(dataframe_distancias, etiquetas_nodos, str_nombre_modelo):\n",
    "    \"\"\"\n",
    "    Devuelve un objeto 'Model' de CPLEX que resuelve el TSP con la formulación propuesta por Tucker-Miller-Zemlin.\n",
    "    \"\"\"\n",
    "    # Creamos nuestra instancia del modelo:\n",
    "    m = Model(name = str_nombre_modelo)\n",
    "    \n",
    "    cantidad_nodos = len(etiquetas_nodos)\n",
    "    \n",
    "    ## Parámetros del modelo:\n",
    "    # SET's:\n",
    "    indices_nodos = etiquetas_nodos.copy()\n",
    "\n",
    "    # VAR's:\n",
    "    # Lo de abajo se llama comprensión de diccionario! Nótese que eliminamos todos los i==j, ahorrando variables y tiempo\n",
    "    x = {(i,j): m.binary_var(name='x_{0}_{1}'.format(i,j)) for i in indices_nodos for j in indices_nodos if i!=j}\n",
    "    u = {i: m.integer_var(name='u_{0}'.format(i)) for i in indices_nodos}\n",
    "\n",
    "    # Función Objetivo:\n",
    "    m.minimize(\n",
    "        m.sum(\n",
    "            x[i,j] * dataframe_distancias.loc[i,j] for i in indices_nodos for j in indices_nodos if i!=j\n",
    "        )\n",
    "    )\n",
    "    \n",
    "    ## RESTRICCIONES:\n",
    "    # Entrada:\n",
    "    for j in indices_nodos:\n",
    "        m.add_constraint(m.sum(x[i,j] for i in indices_nodos if i!=j) == 1, \n",
    "                         ctname='entrada_{0}'.format(j))\n",
    "\n",
    "    # Salida:\n",
    "    for i in indices_nodos:\n",
    "        m.add_constraint(m.sum(x[i,j] for j in indices_nodos if i!=j) == 1, \n",
    "                         ctname='salida_{0}'.format(i))\n",
    "\n",
    "    # Subtours:\n",
    "    for i in indices_nodos[1:]: # tomamos a partir del segundo indice (empieza en '0')\n",
    "        for j in indices_nodos[1:]: # tomamos a partir del segundo indice (empieza en '0')\n",
    "            if i!=j:\n",
    "                m.add_constraint(u[i] - u[j] + cantidad_nodos * x[i,j] <= cantidad_nodos - 1, \n",
    "                                 ctname='subtour_{0}_{1}'.format(i, j))\n",
    "    \n",
    "    print(m.print_information())\n",
    "    \n",
    "    return m\n",
    "\n",
    "\n",
    "def ObtenerMatrizViajes(dataframe_distancias, etiquetas_nodos, modelo_resuelto):\n",
    "    \"\"\"\n",
    "    Obtenemos la matriz de viajes, el cual es el resultado del modelo TSP Tucker-Miller-Zemlin.\n",
    "    \"\"\"\n",
    "    # Obtenemos las conexiones a modo de lista:\n",
    "    conexiones = list(\n",
    "        map(\n",
    "            lambda x: tuple(x.split('_')),\n",
    "            [\n",
    "                i[2:] for i in list(modelo_resuelto.solution.as_dict().keys()) if i[0] == 'x' # magia!\n",
    "            ]\n",
    "        )\n",
    "    )\n",
    "    \n",
    "    # Construimos la matriz binaria de conexiones:\n",
    "    matriz_conexiones = pd.DataFrame(data=np.zeros_like(dataframe_distancias.copy().values), \n",
    "                                     index=etiquetas_nodos, \n",
    "                                     columns=etiquetas_nodos)\n",
    "    for i,j in conexiones:\n",
    "        matriz_conexiones.loc[i,j] = 1\n",
    "\n",
    "    return matriz_conexiones"
   ]
  },
  {
   "cell_type": "code",
   "execution_count": 7,
   "metadata": {},
   "outputs": [
    {
     "ename": "NameError",
     "evalue": "name 'matriz_dist' is not defined",
     "output_type": "error",
     "traceback": [
      "\u001b[0;31m---------------------------------------------------------------------------\u001b[0m",
      "\u001b[0;31mNameError\u001b[0m                                 Traceback (most recent call last)",
      "\u001b[0;32m<ipython-input-7-f2c88c92dd24>\u001b[0m in \u001b[0;36m<module>\u001b[0;34m\u001b[0m\n\u001b[1;32m      1\u001b[0m \u001b[0;31m# Creando el modelo:\u001b[0m\u001b[0;34m\u001b[0m\u001b[0;34m\u001b[0m\u001b[0m\n\u001b[0;32m----> 2\u001b[0;31m modelo_tsp_hacka = ModeloTSP(dataframe_distancias=matriz_dist, \n\u001b[0m\u001b[1;32m      3\u001b[0m                          \u001b[0metiquetas_nodos\u001b[0m\u001b[0;34m=\u001b[0m\u001b[0mciudades_unicas\u001b[0m\u001b[0;34m,\u001b[0m\u001b[0;34m\u001b[0m\u001b[0m\n\u001b[1;32m      4\u001b[0m                          str_nombre_modelo='TSP_hackaton_URP')\n",
      "\u001b[0;31mNameError\u001b[0m: name 'matriz_dist' is not defined"
     ]
    }
   ],
   "source": [
    "# Creando el modelo:\n",
    "modelo_tsp_hacka = ModeloTSP(dataframe_distancias=matriz_dist, \n",
    "                         etiquetas_nodos=ciudades_unicas, \n",
    "                         str_nombre_modelo='TSP_hackaton_URP')"
   ]
  },
  {
   "cell_type": "code",
   "execution_count": 8,
   "metadata": {},
   "outputs": [
    {
     "ename": "NameError",
     "evalue": "name 'modelo_tsp_hacka' is not defined",
     "output_type": "error",
     "traceback": [
      "\u001b[0;31m---------------------------------------------------------------------------\u001b[0m",
      "\u001b[0;31mNameError\u001b[0m                                 Traceback (most recent call last)",
      "\u001b[0;32m<ipython-input-8-7714f3fbf8a7>\u001b[0m in \u001b[0;36m<module>\u001b[0;34m\u001b[0m\n\u001b[1;32m      1\u001b[0m \u001b[0;31m# Resolviendo el modelo:\u001b[0m\u001b[0;34m\u001b[0m\u001b[0;34m\u001b[0m\u001b[0m\n\u001b[0;32m----> 2\u001b[0;31m \u001b[0mmodelo_tsp_hacka\u001b[0m\u001b[0;34m.\u001b[0m\u001b[0msolve\u001b[0m\u001b[0;34m(\u001b[0m\u001b[0mlog_output\u001b[0m\u001b[0;34m=\u001b[0m\u001b[0;32mTrue\u001b[0m\u001b[0;34m)\u001b[0m\u001b[0;34m\u001b[0m\u001b[0m\n\u001b[0m\u001b[1;32m      3\u001b[0m \u001b[0mprint\u001b[0m\u001b[0;34m(\u001b[0m\u001b[0;34m\"============================ SOLUCIÓN ============================\"\u001b[0m\u001b[0;34m)\u001b[0m\u001b[0;34m\u001b[0m\u001b[0m\n\u001b[1;32m      4\u001b[0m \u001b[0mmodelo_tsp_hacka\u001b[0m\u001b[0;34m.\u001b[0m\u001b[0mprint_solution\u001b[0m\u001b[0;34m(\u001b[0m\u001b[0;34m)\u001b[0m\u001b[0;34m\u001b[0m\u001b[0m\n",
      "\u001b[0;31mNameError\u001b[0m: name 'modelo_tsp_hacka' is not defined"
     ]
    }
   ],
   "source": [
    "# Resolviendo el modelo:\n",
    "modelo_tsp_hacka.solve(log_output=True)\n",
    "print(\"============================ SOLUCIÓN ============================\")\n",
    "modelo_tsp_hacka.print_solution()"
   ]
  },
  {
   "cell_type": "code",
   "execution_count": 9,
   "metadata": {},
   "outputs": [
    {
     "ename": "NameError",
     "evalue": "name 'matriz_dist' is not defined",
     "output_type": "error",
     "traceback": [
      "\u001b[0;31m---------------------------------------------------------------------------\u001b[0m",
      "\u001b[0;31mNameError\u001b[0m                                 Traceback (most recent call last)",
      "\u001b[0;32m<ipython-input-9-0164a06130e1>\u001b[0m in \u001b[0;36m<module>\u001b[0;34m\u001b[0m\n\u001b[1;32m      1\u001b[0m \u001b[0;31m# Obtenemos la matriz de recorridos:\u001b[0m\u001b[0;34m\u001b[0m\u001b[0;34m\u001b[0m\u001b[0m\n\u001b[0;32m----> 2\u001b[0;31m viajes_tsp_hacka = ObtenerMatrizViajes(dataframe_distancias=matriz_dist,\n\u001b[0m\u001b[1;32m      3\u001b[0m                                       \u001b[0metiquetas_nodos\u001b[0m\u001b[0;34m=\u001b[0m\u001b[0mciudades_unicas\u001b[0m\u001b[0;34m,\u001b[0m\u001b[0;34m\u001b[0m\u001b[0m\n\u001b[1;32m      4\u001b[0m                                       modelo_resuelto=modelo_tsp_hacka)\n\u001b[1;32m      5\u001b[0m \u001b[0;34m\u001b[0m\u001b[0m\n",
      "\u001b[0;31mNameError\u001b[0m: name 'matriz_dist' is not defined"
     ]
    }
   ],
   "source": [
    "# Obtenemos la matriz de recorridos:\n",
    "viajes_tsp_hacka = ObtenerMatrizViajes(dataframe_distancias=matriz_dist,\n",
    "                                      etiquetas_nodos=ciudades_unicas, \n",
    "                                      modelo_resuelto=modelo_tsp_hacka)\n",
    "\n",
    "respuesta_parcial = viajes_tsp_hacka * matriz_dist # distancia por conexión\n",
    "respuesta_parcial"
   ]
  },
  {
   "cell_type": "markdown",
   "metadata": {},
   "source": [
    "Para finalizar el ejercicio, basta con remover el arco más largo. En este caso, termina siendo el arco que contiene una conexión que no debería ser posible (999999 de Arbre a AlphaCentauri)"
   ]
  },
  {
   "cell_type": "code",
   "execution_count": 10,
   "metadata": {},
   "outputs": [
    {
     "ename": "NameError",
     "evalue": "name 'respuesta_parcial' is not defined",
     "output_type": "error",
     "traceback": [
      "\u001b[0;31m---------------------------------------------------------------------------\u001b[0m",
      "\u001b[0;31mNameError\u001b[0m                                 Traceback (most recent call last)",
      "\u001b[0;32m<ipython-input-10-09c599b06c88>\u001b[0m in \u001b[0;36m<module>\u001b[0;34m\u001b[0m\n\u001b[0;32m----> 1\u001b[0;31m \u001b[0mmascara\u001b[0m \u001b[0;34m=\u001b[0m \u001b[0mrespuesta_parcial\u001b[0m \u001b[0;34m==\u001b[0m \u001b[0;34m(\u001b[0m\u001b[0mrespuesta_parcial\u001b[0m\u001b[0;34m.\u001b[0m\u001b[0mmax\u001b[0m\u001b[0;34m(\u001b[0m\u001b[0;34m)\u001b[0m\u001b[0;34m.\u001b[0m\u001b[0mmax\u001b[0m\u001b[0;34m(\u001b[0m\u001b[0;34m)\u001b[0m\u001b[0;34m)\u001b[0m\u001b[0;34m\u001b[0m\u001b[0m\n\u001b[0m\u001b[1;32m      2\u001b[0m \u001b[0mrespuesta_final\u001b[0m \u001b[0;34m=\u001b[0m \u001b[0mrespuesta_parcial\u001b[0m\u001b[0;34m\u001b[0m\u001b[0m\n\u001b[1;32m      3\u001b[0m \u001b[0mrespuesta_final\u001b[0m\u001b[0;34m[\u001b[0m\u001b[0mmascara\u001b[0m\u001b[0;34m]\u001b[0m \u001b[0;34m=\u001b[0m \u001b[0;36m0\u001b[0m\u001b[0;34m\u001b[0m\u001b[0m\n\u001b[1;32m      4\u001b[0m \u001b[0;34m\u001b[0m\u001b[0m\n\u001b[1;32m      5\u001b[0m \u001b[0mrespuesta_final\u001b[0m \u001b[0;31m#la respuesta final!\u001b[0m\u001b[0;34m\u001b[0m\u001b[0m\n",
      "\u001b[0;31mNameError\u001b[0m: name 'respuesta_parcial' is not defined"
     ]
    }
   ],
   "source": [
    "mascara = respuesta_parcial == (respuesta_parcial.max().max())\n",
    "respuesta_final = respuesta_parcial\n",
    "respuesta_final[mascara] = 0\n",
    "\n",
    "respuesta_final #la respuesta final!"
   ]
  },
  {
   "cell_type": "code",
   "execution_count": 11,
   "metadata": {},
   "outputs": [
    {
     "ename": "NameError",
     "evalue": "name 'respuesta_final' is not defined",
     "output_type": "error",
     "traceback": [
      "\u001b[0;31m---------------------------------------------------------------------------\u001b[0m",
      "\u001b[0;31mNameError\u001b[0m                                 Traceback (most recent call last)",
      "\u001b[0;32m<ipython-input-11-9076bc2dab9c>\u001b[0m in \u001b[0;36m<module>\u001b[0;34m\u001b[0m\n\u001b[0;32m----> 1\u001b[0;31m \u001b[0mprint\u001b[0m\u001b[0;34m(\u001b[0m\u001b[0;34m'Longitud óptima: '\u001b[0m\u001b[0;34m,\u001b[0m \u001b[0mrespuesta_final\u001b[0m\u001b[0;34m.\u001b[0m\u001b[0msum\u001b[0m\u001b[0;34m(\u001b[0m\u001b[0;34m)\u001b[0m\u001b[0;34m.\u001b[0m\u001b[0msum\u001b[0m\u001b[0;34m(\u001b[0m\u001b[0;34m)\u001b[0m\u001b[0;34m)\u001b[0m\u001b[0;34m\u001b[0m\u001b[0m\n\u001b[0m",
      "\u001b[0;31mNameError\u001b[0m: name 'respuesta_final' is not defined"
     ]
    }
   ],
   "source": [
    "print('Longitud óptima: ', respuesta_final.sum().sum())"
   ]
  },
  {
   "cell_type": "code",
   "execution_count": 12,
   "metadata": {},
   "outputs": [
    {
     "ename": "NameError",
     "evalue": "name 'nx' is not defined",
     "output_type": "error",
     "traceback": [
      "\u001b[0;31m---------------------------------------------------------------------------\u001b[0m",
      "\u001b[0;31mNameError\u001b[0m                                 Traceback (most recent call last)",
      "\u001b[0;32m<ipython-input-12-0f9e40742669>\u001b[0m in \u001b[0;36m<module>\u001b[0;34m\u001b[0m\n\u001b[1;32m      1\u001b[0m \u001b[0;31m# Visualizamos la respuesta final:\u001b[0m\u001b[0;34m\u001b[0m\u001b[0;34m\u001b[0m\u001b[0m\n\u001b[0;32m----> 2\u001b[0;31m \u001b[0mG\u001b[0m \u001b[0;34m=\u001b[0m \u001b[0mnx\u001b[0m\u001b[0;34m.\u001b[0m\u001b[0mfrom_pandas_adjacency\u001b[0m\u001b[0;34m(\u001b[0m\u001b[0mrespuesta_final\u001b[0m\u001b[0;34m,\u001b[0m \u001b[0mcreate_using\u001b[0m\u001b[0;34m=\u001b[0m\u001b[0mnx\u001b[0m\u001b[0;34m.\u001b[0m\u001b[0mMultiDiGraph\u001b[0m\u001b[0;34m(\u001b[0m\u001b[0;34m)\u001b[0m\u001b[0;34m)\u001b[0m \u001b[0;31m# grafo dirigido!\u001b[0m\u001b[0;34m\u001b[0m\u001b[0m\n\u001b[0m",
      "\u001b[0;31mNameError\u001b[0m: name 'nx' is not defined"
     ]
    }
   ],
   "source": [
    "# Visualizamos la respuesta final:\n",
    "G = nx.from_pandas_adjacency(respuesta_final, create_using=nx.MultiDiGraph()) # grafo dirigido!"
   ]
  },
  {
   "cell_type": "code",
   "execution_count": 13,
   "metadata": {},
   "outputs": [
    {
     "ename": "NameError",
     "evalue": "name 'respuesta_final' is not defined",
     "output_type": "error",
     "traceback": [
      "\u001b[0;31m---------------------------------------------------------------------------\u001b[0m",
      "\u001b[0;31mNameError\u001b[0m                                 Traceback (most recent call last)",
      "\u001b[0;32m<ipython-input-13-7b6aef70f4db>\u001b[0m in \u001b[0;36m<module>\u001b[0;34m\u001b[0m\n\u001b[1;32m      1\u001b[0m \u001b[0;31m# Imprimimos el camino final como respuesta:\u001b[0m\u001b[0;34m\u001b[0m\u001b[0;34m\u001b[0m\u001b[0m\n\u001b[0;32m----> 2\u001b[0;31m \u001b[0mnodo_inicio\u001b[0m \u001b[0;34m=\u001b[0m \u001b[0mrespuesta_final\u001b[0m\u001b[0;34m.\u001b[0m\u001b[0msum\u001b[0m\u001b[0;34m(\u001b[0m\u001b[0;34m)\u001b[0m\u001b[0;34m.\u001b[0m\u001b[0midxmin\u001b[0m\u001b[0;34m(\u001b[0m\u001b[0;34m)\u001b[0m\u001b[0;34m\u001b[0m\u001b[0m\n\u001b[0m\u001b[1;32m      3\u001b[0m \u001b[0mnodo_destino\u001b[0m \u001b[0;34m=\u001b[0m \u001b[0mrespuesta_final\u001b[0m\u001b[0;34m.\u001b[0m\u001b[0msum\u001b[0m\u001b[0;34m(\u001b[0m\u001b[0maxis\u001b[0m\u001b[0;34m=\u001b[0m\u001b[0;36m1\u001b[0m\u001b[0;34m)\u001b[0m\u001b[0;34m.\u001b[0m\u001b[0midxmin\u001b[0m\u001b[0;34m(\u001b[0m\u001b[0;34m)\u001b[0m\u001b[0;34m\u001b[0m\u001b[0m\n\u001b[1;32m      4\u001b[0m \u001b[0mprint\u001b[0m\u001b[0;34m(\u001b[0m\u001b[0;34m'Nodo inicio: '\u001b[0m\u001b[0;34m,\u001b[0m \u001b[0mnodo_inicio\u001b[0m\u001b[0;34m,\u001b[0m \u001b[0;34m', nodo destino: '\u001b[0m\u001b[0;34m,\u001b[0m \u001b[0mnodo_destino\u001b[0m\u001b[0;34m)\u001b[0m\u001b[0;34m\u001b[0m\u001b[0m\n\u001b[1;32m      5\u001b[0m \u001b[0mprint\u001b[0m\u001b[0;34m(\u001b[0m\u001b[0;34m'Longitud óptima: '\u001b[0m\u001b[0;34m,\u001b[0m \u001b[0mrespuesta_final\u001b[0m\u001b[0;34m.\u001b[0m\u001b[0msum\u001b[0m\u001b[0;34m(\u001b[0m\u001b[0;34m)\u001b[0m\u001b[0;34m.\u001b[0m\u001b[0msum\u001b[0m\u001b[0;34m(\u001b[0m\u001b[0;34m)\u001b[0m\u001b[0;34m)\u001b[0m\u001b[0;34m\u001b[0m\u001b[0m\n",
      "\u001b[0;31mNameError\u001b[0m: name 'respuesta_final' is not defined"
     ]
    }
   ],
   "source": [
    "# Imprimimos el camino final como respuesta:\n",
    "nodo_inicio = respuesta_final.sum().idxmin()\n",
    "nodo_destino = respuesta_final.sum(axis=1).idxmin()\n",
    "print('Nodo inicio: ', nodo_inicio, ', nodo destino: ', nodo_destino)\n",
    "print('Longitud óptima: ', respuesta_final.sum().sum())\n",
    "print('Camino de mínima longitud: \\n')\n",
    "camino = nx.shortest_path(G,nodo_inicio,nodo_destino)\n",
    "print(' => '.join(camino))"
   ]
  },
  {
   "cell_type": "code",
   "execution_count": 15,
   "metadata": {},
   "outputs": [
    {
     "data": {
      "image/png": "[encoded data removed]",
      "text/plain": [
       "<Figure size 432x288 with 1 Axes>"
      ]
     },
     "metadata": {},
     "output_type": "display_data"
    }
   ],
   "source": [
    "nx.draw(G, with_labels=True)"
   ]
  }
 ],
 "metadata": {
  "kernelspec": {
   "display_name": "Python 3",
   "language": "python",
   "name": "python3"
  },
  "language_info": {
   "codemirror_mode": {
    "name": "ipython",
    "version": 3
   },
   "file_extension": ".py",
   "mimetype": "text/x-python",
   "name": "python",
   "nbconvert_exporter": "python",
   "pygments_lexer": "ipython3",
   "version": "3.6.5"
  }
 },
 "nbformat": 4,
 "nbformat_minor": 2
}
