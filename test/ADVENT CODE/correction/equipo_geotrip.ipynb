{
 "cells": [
  {
   "cell_type": "code",
   "execution_count": 3,
   "metadata": {},
   "outputs": [
    {
     "name": "stdout",
     "output_type": "stream",
     "text": [
      "Requirement already satisfied: pyDrive in /home/villacorta/anaconda3/lib/python3.6/site-packages (1.3.1)\n",
      "Requirement already satisfied: oauth2client>=4.0.0 in /home/villacorta/anaconda3/lib/python3.6/site-packages (from pyDrive) (4.1.2)\n",
      "Requirement already satisfied: google-api-python-client>=1.2 in /home/villacorta/anaconda3/lib/python3.6/site-packages (from pyDrive) (1.6.5)\n",
      "Requirement already satisfied: PyYAML>=3.0 in /home/villacorta/anaconda3/lib/python3.6/site-packages (from pyDrive) (3.13)\n",
      "Requirement already satisfied: six>=1.6.1 in /home/villacorta/anaconda3/lib/python3.6/site-packages (from oauth2client>=4.0.0->pyDrive) (1.12.0)\n",
      "Requirement already satisfied: pyasn1>=0.1.7 in /home/villacorta/anaconda3/lib/python3.6/site-packages (from oauth2client>=4.0.0->pyDrive) (0.4.5)\n",
      "Requirement already satisfied: httplib2>=0.9.1 in /home/villacorta/anaconda3/lib/python3.6/site-packages (from oauth2client>=4.0.0->pyDrive) (0.10.3)\n",
      "Requirement already satisfied: rsa>=3.1.4 in /home/villacorta/anaconda3/lib/python3.6/site-packages (from oauth2client>=4.0.0->pyDrive) (3.4.2)\n",
      "Requirement already satisfied: pyasn1-modules>=0.0.5 in /home/villacorta/anaconda3/lib/python3.6/site-packages (from oauth2client>=4.0.0->pyDrive) (0.2.1)\n",
      "Requirement already satisfied: uritemplate<4dev,>=3.0.0 in /home/villacorta/anaconda3/lib/python3.6/site-packages (from google-api-python-client>=1.2->pyDrive) (3.0.0)\n"
     ]
    }
   ],
   "source": [
    "!pip install pyDrive # Descargar el archive en drive"
   ]
  },
  {
   "cell_type": "code",
   "execution_count": 4,
   "metadata": {},
   "outputs": [
    {
     "name": "stdout",
     "output_type": "stream",
     "text": [
      "Requirement already satisfied: tsp_solver2 in /home/villacorta/anaconda3/lib/python3.6/site-packages (0.3)\n"
     ]
    }
   ],
   "source": [
    "!pip install tsp_solver2 # Greddy Algorithm para resolver el problema del viajero"
   ]
  },
  {
   "cell_type": "code",
   "execution_count": 6,
   "metadata": {},
   "outputs": [
    {
     "name": "stdout",
     "output_type": "stream",
     "text": [
      "Requirement already satisfied: pygraphviz in /home/villacorta/anaconda3/lib/python3.6/site-packages (1.5)\n"
     ]
    }
   ],
   "source": [
    "!pip install pygraphviz # graphviz in python!"
   ]
  },
  {
   "cell_type": "code",
   "execution_count": 7,
   "metadata": {},
   "outputs": [
    {
     "name": "stdout",
     "output_type": "stream",
     "text": [
      "Requirement already satisfied: networkx in /home/villacorta/anaconda3/lib/python3.6/site-packages (2.2)\n",
      "Requirement already satisfied: decorator>=4.3.0 in /home/villacorta/anaconda3/lib/python3.6/site-packages (from networkx) (4.3.0)\n"
     ]
    }
   ],
   "source": [
    "!pip install networkx  # Creacion de redes complejas en python"
   ]
  },
  {
   "cell_type": "code",
   "execution_count": 9,
   "metadata": {},
   "outputs": [],
   "source": [
    "from tsp_solver.greedy import solve_tsp\n",
    "from contextlib import contextmanager\n",
    "import time\n",
    "import pandas as pd\n",
    "import numpy as np\n",
    "import gc\n",
    "import networkx as nx\n",
    "import string\n",
    "\n",
    "# Contola el tiempo de tus procesos.\n",
    "@contextmanager\n",
    "def timer(title):\n",
    "  t0 = time.time()\n",
    "  yield\n",
    "  print(\"%s - done in %0.3f\" % (title, time.time() - t0))"
   ]
  },
  {
   "cell_type": "code",
   "execution_count": 10,
   "metadata": {},
   "outputs": [],
   "source": [
    "def rutastxt_to_df(filename):\n",
    "  ''' Convierta el archivo rutas.txt a una matriz de distancias\n",
    "      Argumentos:\n",
    "        - filename: Nombre completo del archivo de texto\n",
    "  '''\n",
    "  rutas = pd.read_csv(filename,header = None,sep = '=')\n",
    "  cities = {'city_A':[],'city_B':[],'distance':[]}\n",
    "  \n",
    "  # 1. Creamos un diccionario\n",
    "  for y in rutas.index:\n",
    "    ctA, ctB = [x.strip() for x in rutas[0][y].split('to')]  \n",
    "    cities['city_A'].append(ctA)\n",
    "    cities['city_B'].append(ctB)\n",
    "    cities['distance'].append(rutas[1][y])\n",
    "\n",
    "  # 2. Duplicamos el dataframe considerando que la distancia de A -> B es la misma que B <- A.\n",
    "  rutas = pd.DataFrame(cities)\n",
    "  rutas2 = rutas.copy()\n",
    "  rutas2['city_A'] = rutas['city_B']\n",
    "  rutas2['city_B'] = rutas['city_A']\n",
    "  rutas3 = pd.concat([rutas,rutas2])\n",
    "  \n",
    "  # 3. Redimencionamos nuestro data.frame\n",
    "  rutas_final = rutas3.pivot(index = 'city_A',columns = 'city_B',values = 'distance')\n",
    "  rutas_final[np.isnan(rutas_final)] = 0\n",
    "  \n",
    "  # 4. Liberamos memoria.\n",
    "  del cities, rutas,rutas2,rutas3\n",
    "  gc.collect()\n",
    "\n",
    "  return rutas_final"
   ]
  },
  {
   "cell_type": "code",
   "execution_count": 11,
   "metadata": {},
   "outputs": [],
   "source": [
    "def graph_viz(dist_mtx):\n",
    "  dt = [('len', float)]\n",
    "  A = dist_mtx.values/10\n",
    "  A = A.view(dt)\n",
    "\n",
    "  G = nx.from_numpy_matrix(A)\n",
    "  G = nx.relabel_nodes(G, dict(zip(range(len(G.nodes())),string.ascii_uppercase)))    \n",
    "\n",
    "  G = nx.drawing.nx_agraph.to_agraph(G)\n",
    "\n",
    "  G.node_attr.update(color=\"red\", style=\"filled\")\n",
    "  G.edge_attr.update(color=\"blue\", width=\"2.0\")\n",
    "  G.draw('out.png', format='png', prog='neato')"
   ]
  },
  {
   "cell_type": "code",
   "execution_count": 12,
   "metadata": {},
   "outputs": [
    {
     "name": "stdout",
     "output_type": "stream",
     "text": [
      "Creando la matriz de distancias - done in 0.277\n",
      "Crear una vizualizacion del grafo - done in 0.210\n",
      "Resolviendo el problema del viajero (Greedy algorithm) - done in 0.001\n"
     ]
    }
   ],
   "source": [
    "with timer('Creando la matriz de distancias'):\n",
    "  mtx_dist = rutastxt_to_df('rutas.txt')\n",
    "\n",
    "with timer('Crear una vizualizacion del grafo'):\n",
    "  graph_viz(mtx_dist)\n",
    "  \n",
    "with timer('Resolviendo el problema del viajero (Greedy algorithm)'):\n",
    "  path = solve_tsp(mtx_dist.values)"
   ]
  },
  {
   "cell_type": "code",
   "execution_count": 13,
   "metadata": {},
   "outputs": [],
   "source": [
    "from matplotlib.pyplot import imread, imshow\n",
    "#imshow(imread('out.png'))"
   ]
  },
  {
   "cell_type": "code",
   "execution_count": 14,
   "metadata": {},
   "outputs": [
    {
     "data": {
      "text/html": [
       "<div>\n",
       "<style scoped>\n",
       "    .dataframe tbody tr th:only-of-type {\n",
       "        vertical-align: middle;\n",
       "    }\n",
       "\n",
       "    .dataframe tbody tr th {\n",
       "        vertical-align: top;\n",
       "    }\n",
       "\n",
       "    .dataframe thead th {\n",
       "        text-align: right;\n",
       "    }\n",
       "</style>\n",
       "<table border=\"1\" class=\"dataframe\">\n",
       "  <thead>\n",
       "    <tr style=\"text-align: right;\">\n",
       "      <th>city_B</th>\n",
       "      <th>AlphaCentauri</th>\n",
       "      <th>Arbre</th>\n",
       "      <th>Faerun</th>\n",
       "      <th>Norrath</th>\n",
       "      <th>Snowdin</th>\n",
       "      <th>Straylight</th>\n",
       "      <th>Tambi</th>\n",
       "      <th>Tristram</th>\n",
       "    </tr>\n",
       "    <tr>\n",
       "      <th>city_A</th>\n",
       "      <th></th>\n",
       "      <th></th>\n",
       "      <th></th>\n",
       "      <th></th>\n",
       "      <th></th>\n",
       "      <th></th>\n",
       "      <th></th>\n",
       "      <th></th>\n",
       "    </tr>\n",
       "  </thead>\n",
       "  <tbody>\n",
       "    <tr>\n",
       "      <th>AlphaCentauri</th>\n",
       "      <td>0.0</td>\n",
       "      <td>108.0</td>\n",
       "      <td>60.0</td>\n",
       "      <td>34.0</td>\n",
       "      <td>66.0</td>\n",
       "      <td>34.0</td>\n",
       "      <td>28.0</td>\n",
       "      <td>3.0</td>\n",
       "    </tr>\n",
       "    <tr>\n",
       "      <th>Arbre</th>\n",
       "      <td>108.0</td>\n",
       "      <td>0.0</td>\n",
       "      <td>83.0</td>\n",
       "      <td>60.0</td>\n",
       "      <td>71.0</td>\n",
       "      <td>81.0</td>\n",
       "      <td>40.0</td>\n",
       "      <td>90.0</td>\n",
       "    </tr>\n",
       "    <tr>\n",
       "      <th>Faerun</th>\n",
       "      <td>60.0</td>\n",
       "      <td>83.0</td>\n",
       "      <td>0.0</td>\n",
       "      <td>63.0</td>\n",
       "      <td>12.0</td>\n",
       "      <td>21.0</td>\n",
       "      <td>39.0</td>\n",
       "      <td>57.0</td>\n",
       "    </tr>\n",
       "    <tr>\n",
       "      <th>Norrath</th>\n",
       "      <td>34.0</td>\n",
       "      <td>60.0</td>\n",
       "      <td>63.0</td>\n",
       "      <td>0.0</td>\n",
       "      <td>91.0</td>\n",
       "      <td>9.0</td>\n",
       "      <td>113.0</td>\n",
       "      <td>50.0</td>\n",
       "    </tr>\n",
       "    <tr>\n",
       "      <th>Snowdin</th>\n",
       "      <td>66.0</td>\n",
       "      <td>71.0</td>\n",
       "      <td>12.0</td>\n",
       "      <td>91.0</td>\n",
       "      <td>0.0</td>\n",
       "      <td>121.0</td>\n",
       "      <td>22.0</td>\n",
       "      <td>111.0</td>\n",
       "    </tr>\n",
       "    <tr>\n",
       "      <th>Straylight</th>\n",
       "      <td>34.0</td>\n",
       "      <td>81.0</td>\n",
       "      <td>21.0</td>\n",
       "      <td>9.0</td>\n",
       "      <td>121.0</td>\n",
       "      <td>0.0</td>\n",
       "      <td>130.0</td>\n",
       "      <td>27.0</td>\n",
       "    </tr>\n",
       "    <tr>\n",
       "      <th>Tambi</th>\n",
       "      <td>28.0</td>\n",
       "      <td>40.0</td>\n",
       "      <td>39.0</td>\n",
       "      <td>113.0</td>\n",
       "      <td>22.0</td>\n",
       "      <td>130.0</td>\n",
       "      <td>0.0</td>\n",
       "      <td>35.0</td>\n",
       "    </tr>\n",
       "    <tr>\n",
       "      <th>Tristram</th>\n",
       "      <td>3.0</td>\n",
       "      <td>90.0</td>\n",
       "      <td>57.0</td>\n",
       "      <td>50.0</td>\n",
       "      <td>111.0</td>\n",
       "      <td>27.0</td>\n",
       "      <td>35.0</td>\n",
       "      <td>0.0</td>\n",
       "    </tr>\n",
       "  </tbody>\n",
       "</table>\n",
       "</div>"
      ],
      "text/plain": [
       "city_B         AlphaCentauri  Arbre  Faerun  Norrath  Snowdin  Straylight  \\\n",
       "city_A                                                                      \n",
       "AlphaCentauri            0.0  108.0    60.0     34.0     66.0        34.0   \n",
       "Arbre                  108.0    0.0    83.0     60.0     71.0        81.0   \n",
       "Faerun                  60.0   83.0     0.0     63.0     12.0        21.0   \n",
       "Norrath                 34.0   60.0    63.0      0.0     91.0         9.0   \n",
       "Snowdin                 66.0   71.0    12.0     91.0      0.0       121.0   \n",
       "Straylight              34.0   81.0    21.0      9.0    121.0         0.0   \n",
       "Tambi                   28.0   40.0    39.0    113.0     22.0       130.0   \n",
       "Tristram                 3.0   90.0    57.0     50.0    111.0        27.0   \n",
       "\n",
       "city_B         Tambi  Tristram  \n",
       "city_A                          \n",
       "AlphaCentauri   28.0       3.0  \n",
       "Arbre           40.0      90.0  \n",
       "Faerun          39.0      57.0  \n",
       "Norrath        113.0      50.0  \n",
       "Snowdin         22.0     111.0  \n",
       "Straylight     130.0      27.0  \n",
       "Tambi            0.0      35.0  \n",
       "Tristram        35.0       0.0  "
      ]
     },
     "execution_count": 14,
     "metadata": {},
     "output_type": "execute_result"
    }
   ],
   "source": [
    "mtx_dist"
   ]
  },
  {
   "cell_type": "code",
   "execution_count": 15,
   "metadata": {},
   "outputs": [
    {
     "name": "stdout",
     "output_type": "stream",
     "text": [
      "Arbre -> Tambi -> Snowdin -> Faerun -> Straylight -> Norrath -> AlphaCentauri -> Tristram = 141.0\n"
     ]
    }
   ],
   "source": [
    "# suma de caminos\n",
    "min_distance = sum([mtx_dist.iloc[x] for x in list(zip(path,path[1:]))])\n",
    "print(' -> '.join(list(mtx_dist.index[path])) + ' = ' + str(min_distance))"
   ]
  },
  {
   "cell_type": "code",
   "execution_count": null,
   "metadata": {},
   "outputs": [],
   "source": []
  }
 ],
 "metadata": {
  "kernelspec": {
   "display_name": "Python 3",
   "language": "python",
   "name": "python3"
  },
  "language_info": {
   "codemirror_mode": {
    "name": "ipython",
    "version": 3
   },
   "file_extension": ".py",
   "mimetype": "text/x-python",
   "name": "python",
   "nbconvert_exporter": "python",
   "pygments_lexer": "ipython3",
   "version": "3.6.5"
  }
 },
 "nbformat": 4,
 "nbformat_minor": 2
}
