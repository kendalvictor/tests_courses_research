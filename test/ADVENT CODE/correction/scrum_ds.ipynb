{
 "cells": [
  {
   "cell_type": "code",
   "execution_count": 1,
   "metadata": {},
   "outputs": [
    {
     "name": "stdout",
     "output_type": "stream",
     "text": [
      "AlphaCentauri-->Snowdin-->Norrath=157\n",
      "AlphaCentauri-->Tambi-->Norrath=141\n",
      "AlphaCentauri-->Tambi-->Norrath=135\n",
      "AlphaCentauri-->Tambi-->Norrath=141\n",
      "AlphaCentauri-->Tambi-->Norrath=135\n",
      "AlphaCentauri-->Faerun-->Norrath=123\n",
      "AlphaCentauri-->Faerun-->Norrath=75\n",
      "AlphaCentauri-->Faerun-->Norrath=102\n",
      "AlphaCentauri-->Faerun-->Norrath=123\n",
      "AlphaCentauri-->Faerun-->Norrath=75\n",
      "AlphaCentauri-->Faerun-->Norrath=102\n",
      "AlphaCentauri-->Faerun-->Norrath=123\n",
      "AlphaCentauri-->Faerun-->Norrath=75\n",
      "AlphaCentauri-->Faerun-->Norrath=102\n",
      "La Ruta Mas corta es : 75\n"
     ]
    }
   ],
   "source": [
    "#!/usr/bin/env python\n",
    "# coding: utf-8\n",
    "\n",
    "# In[1]:\n",
    "\n",
    "\n",
    "import pandas as pd\n",
    "import numpy as np\n",
    "\n",
    "path = \"rutas.txt\"\n",
    "data = pd.read_csv(path, sep=\" \", header=None)\n",
    "del data[1]\n",
    "del data[3]\n",
    "data=data.rename(columns = {0:'Origin',2:'Destination',4:'Distance'})\n",
    "data\n",
    "\n",
    "\n",
    "# In[2]:\n",
    "\n",
    "\n",
    "dest_dest = []\n",
    "resultList = []\n",
    "low_route = []\n",
    "org_dest = []\n",
    "total = []\n",
    "def print_all_posible_routes(origin, destine, routes):\n",
    "    for index, route in routes.iterrows():\n",
    "            org_dest.append(route.Destination)\n",
    "            total.append([origin, route.Destination, route.Distance])\n",
    "    eval_next_route(org_dest, destine, routes)\n",
    "    show_all_routes(total, dest_dest)\n",
    "    \n",
    "def evalRoutes(low_route):\n",
    "    if (len(low_route) == 0):\n",
    "        return \"\"\n",
    "    else:\n",
    "        return str(min(low_route))\n",
    "    \n",
    "def show_all_routes(total, dest_dest):\n",
    "    for j in dest_dest:\n",
    "        for t in total:\n",
    "            if(t[1] == j[0]):\n",
    "                a = int(t[2])+int(j[2])\n",
    "                low_route.append(a)\n",
    "                print(t[0]+ \"-->\" + t[1]+ \"-->\" + j[1] + \"=\" + str(a))\n",
    "                resultList.append(list(set().union(t,j)))\n",
    "    print(\"No hay ruta corta\") if evalRoutes(low_route) == \"\" else print(\"La Ruta Mas corta es : \"+ evalRoutes(low_route))\n",
    "    \n",
    "    \n",
    "def eval_next_route(org_dest, destine, routes):\n",
    "    for index, route in routes.iterrows():\n",
    "        for next_dest in org_dest:\n",
    "            if (route.Origin == next_dest and route.Destination == destine):\n",
    "                dest_dest.append([next_dest, route.Destination, route.Distance])\n",
    "\n",
    "\n",
    "# In[3]:\n",
    "\n",
    "\n",
    "print_all_posible_routes('AlphaCentauri', 'Norrath', data)\n",
    "\n",
    "\n",
    "# In[ ]:\n",
    "\n",
    "\n",
    "\n"
   ]
  },
  {
   "cell_type": "code",
   "execution_count": null,
   "metadata": {},
   "outputs": [],
   "source": []
  }
 ],
 "metadata": {
  "kernelspec": {
   "display_name": "Python 3",
   "language": "python",
   "name": "python3"
  },
  "language_info": {
   "codemirror_mode": {
    "name": "ipython",
    "version": 3
   },
   "file_extension": ".py",
   "mimetype": "text/x-python",
   "name": "python",
   "nbconvert_exporter": "python",
   "pygments_lexer": "ipython3",
   "version": "3.6.5"
  }
 },
 "nbformat": 4,
 "nbformat_minor": 2
}
