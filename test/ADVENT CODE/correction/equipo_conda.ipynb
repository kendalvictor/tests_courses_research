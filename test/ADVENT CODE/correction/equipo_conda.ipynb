{
 "cells": [
  {
   "cell_type": "markdown",
   "metadata": {},
   "source": [
    "<h1 align=\"center\"> Team Conda</h1> \n",
    "<h3 align=\"center\"> Reto </h3> \n",
    "<h4 align=\"center\">  Cristian Lazo : mecatronico.lazo@gmail.com</h4> \n",
    "<h4 align=\"center\"> Juan Acostupa: juan.acostupa.d@uni.pe   </h4> \n",
    "<h4 align=\"center\"> John Taco: john.taco93@gmail.com   </h4> \n",
    "\n"
   ]
  },
  {
   "cell_type": "markdown",
   "metadata": {},
   "source": [
    "--------------------------------"
   ]
  },
  {
   "cell_type": "markdown",
   "metadata": {},
   "source": [
    "**Resumen  :**  De un conjunto de ubicaciones en un mapa y las distancias respectivas entre ellas, se desea encontrar la distancia mas corta que pueda recorrer todos los puntos.\n"
   ]
  },
  {
   "cell_type": "markdown",
   "metadata": {},
   "source": [
    "--------------------------"
   ]
  },
  {
   "cell_type": "markdown",
   "metadata": {},
   "source": [
    "<a id=\"1\"></a> \n",
    "\n",
    "# INDICE\n",
    "\n",
    "\n",
    "* [INDICE](#1)\n",
    "* [DATASET](#2)\n",
    "* [ALGORITMO](#3)\n",
    "* [IMPORTANDO LIBRERIAS](#4)\n",
    "* [CARGAR DATA](#5)\n",
    "* [GENERACIÓN DEL GRAFO](#6)\n",
    "* [PRUEBO EL ALGORITMO](#7)\n",
    "\n",
    "\n"
   ]
  },
  {
   "cell_type": "markdown",
   "metadata": {},
   "source": [
    "<a id=\"2\"></a> \n",
    "\n",
    "# DATASET"
   ]
  },
  {
   "cell_type": "markdown",
   "metadata": {},
   "source": [
    "Consta de 1 archivo txt de las posibles rutas\n",
    "\n",
    "- AlphaCentauri to Snowdin = 66\n",
    "- AlphaCentauri to Tambi = 28\n",
    "- AlphaCentauri to Faerun = 60\n",
    "- Snowdin to Tambi = 22\n",
    "- Snowdin to Faerun = 12\n",
    "- ..."
   ]
  },
  {
   "cell_type": "markdown",
   "metadata": {},
   "source": [
    "<a id=\"3\"></a> \n",
    "\n",
    "# ALGORITMO"
   ]
  },
  {
   "cell_type": "markdown",
   "metadata": {},
   "source": [
    "Analizando el problema se puede reconocer que es una aplicación de Minimum Spanning Tree y entonces tendríamos varias opciones para hacer el desarrollo:\n",
    "\n",
    "Un Spanning Tree es un subconjunto de un grafo, que tiene todos los vértices cubiertos con el mínimo número posible de aristas.\n",
    "\n",
    "Un Minimum Spanning Tree es un árbol de expansión que tiene un peso mínimo que todos los demás árboles de expansión del mismo gráfico.\n",
    "\n",
    "Los dos algoritmos más populares para el árbol de expansión mínimo son:\n",
    "\n",
    " - Algoritmo de Kruskal : \n",
    " \n",
    "     Se puede mostrar que el algoritmo de Kruskal se ejecuta en tiempo: \\begin{equation}\\ O(E log E)\\end{equation}\n",
    "     o de manera equivalentE en tiempo:\\begin{equation}\\ O(E log V)\\end{equation}\n",
    "     donde E es el número de aristas en el gráfico y V es el número de vértices, todo con Estructuras de datos simples.\n",
    " - Algoritmo de Prim: \n",
    " \n",
    "     La complejidad del tiempo es \\begin{equation}\\ O(VlogV + ElogV) = O (ElogV)\\end{equation}, lo que hace que sea el mismo que el algoritmo de Kruskal. Sin embargo, el algoritmo de Prim puede mejorarse utilizando Fibonacci Heaps a \\begin{equation}\\ O(E + logV)\\end{equation}.\n",
    " \n",
    " Como se puede apreciar, si:  \\begin{equation}\\ E = V^{2}\\end{equation} conviene utilizar Prim. \n",
    " \n",
    " **Conclusión** : De acuerdo con la data que muestra un grafo totalmente conectado se plantea desarrollar el algoritmo de Prim para resolver el problema por ser mas eficiente\n"
   ]
  },
  {
   "cell_type": "code",
   "execution_count": 1,
   "metadata": {},
   "outputs": [
    {
     "ename": "FileNotFoundError",
     "evalue": "[Errno 2] No such file or directory: 'spannig_tree.jpg'",
     "output_type": "error",
     "traceback": [
      "\u001b[0;31m---------------------------------------------------------------------------\u001b[0m",
      "\u001b[0;31mFileNotFoundError\u001b[0m                         Traceback (most recent call last)",
      "\u001b[0;32m<ipython-input-1-a74e337acb13>\u001b[0m in \u001b[0;36m<module>\u001b[0;34m\u001b[0m\n\u001b[1;32m      1\u001b[0m \u001b[0;32mfrom\u001b[0m \u001b[0mPIL\u001b[0m \u001b[0;32mimport\u001b[0m \u001b[0mImage\u001b[0m\u001b[0;34m\u001b[0m\u001b[0m\n\u001b[0;32m----> 2\u001b[0;31m \u001b[0mi\u001b[0m\u001b[0;34m=\u001b[0m\u001b[0mImage\u001b[0m\u001b[0;34m.\u001b[0m\u001b[0mopen\u001b[0m\u001b[0;34m(\u001b[0m\u001b[0;34m'spannig_tree.jpg'\u001b[0m\u001b[0;34m)\u001b[0m\u001b[0;34m\u001b[0m\u001b[0m\n\u001b[0m\u001b[1;32m      3\u001b[0m \u001b[0mi\u001b[0m \u001b[0;34m=\u001b[0m \u001b[0mi\u001b[0m\u001b[0;34m.\u001b[0m\u001b[0mresize\u001b[0m\u001b[0;34m(\u001b[0m\u001b[0;34m(\u001b[0m\u001b[0;36m300\u001b[0m\u001b[0;34m,\u001b[0m\u001b[0;36m400\u001b[0m\u001b[0;34m)\u001b[0m\u001b[0;34m)\u001b[0m\u001b[0;34m\u001b[0m\u001b[0m\n\u001b[1;32m      4\u001b[0m \u001b[0mdisplay\u001b[0m\u001b[0;34m(\u001b[0m\u001b[0mi\u001b[0m\u001b[0;34m)\u001b[0m\u001b[0;34m\u001b[0m\u001b[0m\n",
      "\u001b[0;32m~/anaconda3/lib/python3.6/site-packages/PIL/Image.py\u001b[0m in \u001b[0;36mopen\u001b[0;34m(fp, mode)\u001b[0m\n\u001b[1;32m   2578\u001b[0m \u001b[0;34m\u001b[0m\u001b[0m\n\u001b[1;32m   2579\u001b[0m     \u001b[0;32mif\u001b[0m \u001b[0mfilename\u001b[0m\u001b[0;34m:\u001b[0m\u001b[0;34m\u001b[0m\u001b[0m\n\u001b[0;32m-> 2580\u001b[0;31m         \u001b[0mfp\u001b[0m \u001b[0;34m=\u001b[0m \u001b[0mbuiltins\u001b[0m\u001b[0;34m.\u001b[0m\u001b[0mopen\u001b[0m\u001b[0;34m(\u001b[0m\u001b[0mfilename\u001b[0m\u001b[0;34m,\u001b[0m \u001b[0;34m\"rb\"\u001b[0m\u001b[0;34m)\u001b[0m\u001b[0;34m\u001b[0m\u001b[0m\n\u001b[0m\u001b[1;32m   2581\u001b[0m         \u001b[0mexclusive_fp\u001b[0m \u001b[0;34m=\u001b[0m \u001b[0;32mTrue\u001b[0m\u001b[0;34m\u001b[0m\u001b[0m\n\u001b[1;32m   2582\u001b[0m \u001b[0;34m\u001b[0m\u001b[0m\n",
      "\u001b[0;31mFileNotFoundError\u001b[0m: [Errno 2] No such file or directory: 'spannig_tree.jpg'"
     ]
    }
   ],
   "source": [
    "from PIL import Image\n",
    "i=Image.open('spannig_tree.jpg')\n",
    "i = i.resize((300,400))\n",
    "display(i)"
   ]
  },
  {
   "cell_type": "markdown",
   "metadata": {},
   "source": [
    "En la gráfica se puede apreciar que de un grafo se encuentra el arbol de expansión mínima para tener los nodos conectados y con menor distancia."
   ]
  },
  {
   "cell_type": "markdown",
   "metadata": {},
   "source": [
    "<a id=\"4\"></a> \n",
    "\n",
    "# IMPORTAR LIBRERIAS"
   ]
  },
  {
   "cell_type": "code",
   "execution_count": 2,
   "metadata": {},
   "outputs": [],
   "source": [
    "import numpy as np\n",
    "import operator\n",
    "import pandas as pd\n",
    "import warnings\n",
    "warnings.filterwarnings('ignore')"
   ]
  },
  {
   "cell_type": "markdown",
   "metadata": {},
   "source": [
    "<a id=\"5\"></a> \n",
    "\n",
    "# CARGAR DATA"
   ]
  },
  {
   "cell_type": "code",
   "execution_count": 3,
   "metadata": {
    "scrolled": true
   },
   "outputs": [],
   "source": [
    "path='./'\n",
    "target=pd.read_csv(path+'rutas.txt',sep= ' =',header=None)"
   ]
  },
  {
   "cell_type": "markdown",
   "metadata": {},
   "source": [
    "## Divido los datos en columnas"
   ]
  },
  {
   "cell_type": "code",
   "execution_count": 4,
   "metadata": {},
   "outputs": [
    {
     "name": "stdout",
     "output_type": "stream",
     "text": [
      "AlphaCentauri -> 66 -> Snowdin\n"
     ]
    }
   ],
   "source": [
    "# Columna inicio=partida del camino\n",
    "inicio=target[0].str.split(' to ').str[0]\n",
    "# Columna fin = final del camino\n",
    "fin=target[0].str.split(' to ').str[1]\n",
    "# Columna distancia = distancia entre inicio y fin\n",
    "distancia=target[1]\n",
    "print(inicio[0],'->',distancia[0],'->',fin[0])\n"
   ]
  },
  {
   "cell_type": "markdown",
   "metadata": {},
   "source": [
    "<a id=\"6\"></a> \n",
    "\n",
    "# GENERACIÓN DEL GRAFO"
   ]
  },
  {
   "cell_type": "markdown",
   "metadata": {},
   "source": [
    "## Genero todos los puntos unicos que existen en el grafo"
   ]
  },
  {
   "cell_type": "code",
   "execution_count": 5,
   "metadata": {},
   "outputs": [
    {
     "name": "stdout",
     "output_type": "stream",
     "text": [
      "['AlphaCentauri', 'Snowdin', 'Tambi', 'Faerun', 'Norrath', 'Straylight', 'Tristram', 'Arbre']\n"
     ]
    }
   ],
   "source": [
    "puntos=np.concatenate((inicio, fin), axis=0)\n",
    "lista=[puntos[0]]\n",
    "for i in puntos:\n",
    "    bandera=True\n",
    "    for j in lista:\n",
    "        if(i==j):\n",
    "            bandera=False\n",
    "    if(bandera):\n",
    "        lista.append(i)\n",
    "puntos=lista\n",
    "print(puntos)"
   ]
  },
  {
   "cell_type": "markdown",
   "metadata": {},
   "source": [
    "## Creo un diccionario de nodos"
   ]
  },
  {
   "cell_type": "code",
   "execution_count": 6,
   "metadata": {},
   "outputs": [
    {
     "name": "stdout",
     "output_type": "stream",
     "text": [
      "{'AlphaCentauri': 0, 'Snowdin': 1, 'Tambi': 2, 'Faerun': 3, 'Norrath': 4, 'Straylight': 5, 'Tristram': 6, 'Arbre': 7}\n"
     ]
    }
   ],
   "source": [
    "# Se crea un diccionario id_nodos para manejarlos como indices\n",
    "# Se crea un diccionario nodos_id que sería la inversa\n",
    "# Es una idea de Hash- table para acceder a todos los nodos (padre,hijo) de manera mas óptima\n",
    "id_nodos={}\n",
    "nodos_id={}\n",
    "# Matriz de distancias (padre,hijo)=distancia entre ellas\n",
    "distancias=np.zeros((len(puntos),len(puntos)))\n",
    "# diccionario de nodos padre e hijos\n",
    "nodos={}\n",
    "\n",
    "\n",
    "for i in range(0,len(puntos)):\n",
    "    id_nodos[puntos[i]]=i\n",
    "    nodos_id[i]=puntos[i]\n",
    "    nodos[i]=[]\n",
    "print(id_nodos)"
   ]
  },
  {
   "cell_type": "markdown",
   "metadata": {},
   "source": [
    "## Asigno a cada nodo sus vecinos y sus distancias"
   ]
  },
  {
   "cell_type": "code",
   "execution_count": 7,
   "metadata": {},
   "outputs": [],
   "source": [
    "\n",
    "for i in range(0,len(inicio)):\n",
    "    nodo1=id_nodos[inicio[i]]\n",
    "    nodo2=id_nodos[fin[i]]\n",
    "    if(distancias[nodo1,nodo2]==0):\n",
    "        nodos[nodo1].append(nodo2)\n",
    "        nodos[nodo2].append(nodo1)\n",
    "        distancias[nodo1,nodo2]=distancia[i]\n",
    "        distancias[nodo2,nodo1]=distancia[i]\n"
   ]
  },
  {
   "cell_type": "markdown",
   "metadata": {},
   "source": [
    "## Creación de funciones "
   ]
  },
  {
   "cell_type": "code",
   "execution_count": 8,
   "metadata": {},
   "outputs": [],
   "source": [
    "\n",
    "def print_path(camino,longitud):\n",
    "    print('Siendo el más corto camino')\n",
    "    aux_=''\n",
    "    for i in range(0,len(camino)):\n",
    "        aux_=aux_+camino[i]\n",
    "        if(i!=len(camino)-1):\n",
    "            aux_=aux_+' -> '\n",
    "    print(aux_)\n",
    "    print('distancia=',longitud)\n",
    "    \n",
    "def find_mini(aux_j,dis):\n",
    "    index, value = min(enumerate(dis), key=operator.itemgetter(1))\n",
    "    return index\n",
    "\n",
    "def prim_empty():\n",
    "    longitud=0\n",
    "    start=0\n",
    "    visitados=np.zeros(len(puntos))\n",
    "    visitados[start]=1\n",
    "    L=[start]\n",
    "    while(len(L)!=len(puntos)):\n",
    "        aux_i=[]\n",
    "        aux_j=[]\n",
    "        dis=[]\n",
    "        for padre in L:\n",
    "            for hijo in nodos[padre]:\n",
    "                if(visitados[hijo]==0):\n",
    "                    aux_i.append(padre)\n",
    "                    aux_j.append(hijo)\n",
    "                    aux_=distancias[padre,hijo]\n",
    "                    dis.append(aux_)\n",
    "        index=find_mini(aux_j,dis)\n",
    "        min_hijo=aux_j[index]\n",
    "        longitud=longitud+dis[index]\n",
    "        L.append(min_hijo)\n",
    "        visitados[min_hijo]=1\n",
    "    camino=[]\n",
    "    for i in L:\n",
    "        camino.append(nodos_id[i])\n",
    "    return camino,longitud\n",
    "\n",
    "def prim(puntos,distancias,nodos,nodos_id):\n",
    "    longitud=0\n",
    "\n",
    "    start=0\n",
    "    visitados=np.zeros(len(puntos))\n",
    "    visitados[start]=1\n",
    "    L=[start]\n",
    "    while(len(L)!=len(puntos)):\n",
    "        aux_i=[]\n",
    "        aux_j=[]\n",
    "        dis=[]\n",
    "        for padre in L:\n",
    "            for hijo in nodos[padre]:\n",
    "                if(visitados[hijo]==0):\n",
    "                    aux_i.append(padre)\n",
    "                    aux_j.append(hijo)\n",
    "                    aux_=distancias[padre,hijo]\n",
    "                    dis.append(aux_)\n",
    "        index=find_mini(aux_j,dis)\n",
    "        min_hijo=aux_j[index]\n",
    "        longitud=longitud+dis[index]\n",
    "        L.append(min_hijo)\n",
    "        visitados[min_hijo]=1\n",
    "    camino=[]\n",
    "    for i in L:\n",
    "        camino.append(nodos_id[i])\n",
    "    return camino,longitud\n",
    "\n",
    "def datathon_conda(path_ruta):\n",
    "    target=pd.read_csv(path_ruta,sep= ' =',header=None)\n",
    "    # Columna inicio=partida del camino\n",
    "    inicio=target[0].str.split(' to ').str[0]\n",
    "    # Columna fin = final del camino\n",
    "    fin=target[0].str.split(' to ').str[1]\n",
    "    # Columna distancia = distancia entre inicio y fin\n",
    "    distancia=target[1]\n",
    "    #print(inicio[0],'->',distancia[0],'->',fin[0])\n",
    "\n",
    "    puntos=np.concatenate((inicio, fin), axis=0)\n",
    "    lista=[puntos[0]]\n",
    "    for i in puntos:\n",
    "        bandera=True\n",
    "        for j in lista:\n",
    "            if(i==j):\n",
    "                bandera=False\n",
    "        if(bandera):\n",
    "            lista.append(i)\n",
    "    puntos=lista\n",
    "    #print(puntos)\n",
    "\n",
    "    # Se crea un diccionario id_nodos para manejarlos como indices\n",
    "    # Se crea un diccionario nodos_id que sería la inversa\n",
    "    # Es una idea de Hash- table para acceder a todos los nodos (padre,hijo) de manera mas óptima\n",
    "    id_nodos={}\n",
    "    nodos_id={}\n",
    "    # Matriz de distancias (padre,hijo)=distancia entre ellas\n",
    "    distancias=np.zeros((len(puntos),len(puntos)))\n",
    "    # diccionario de nodos padre e hijos\n",
    "    nodos={}\n",
    "\n",
    "\n",
    "    for i in range(0,len(puntos)):\n",
    "        id_nodos[puntos[i]]=i\n",
    "        nodos_id[i]=puntos[i]\n",
    "        nodos[i]=[]\n",
    "    #print(id_nodos)\n",
    "\n",
    "\n",
    "    for i in range(0,len(inicio)):\n",
    "        nodo1=id_nodos[inicio[i]]\n",
    "        nodo2=id_nodos[fin[i]]\n",
    "        if(distancias[nodo1,nodo2]==0):\n",
    "            nodos[nodo1].append(nodo2)\n",
    "            nodos[nodo2].append(nodo1)\n",
    "            distancias[nodo1,nodo2]=distancia[i]\n",
    "            distancias[nodo2,nodo1]=distancia[i]\n",
    "    path,longitud=prim(puntos,distancias,nodos,nodos_id)\n",
    "    print_path(path,longitud)\n",
    "    #return path\n",
    "\n"
   ]
  },
  {
   "cell_type": "code",
   "execution_count": 9,
   "metadata": {},
   "outputs": [],
   "source": [
    "path,longitud=prim_empty()"
   ]
  },
  {
   "cell_type": "code",
   "execution_count": 10,
   "metadata": {},
   "outputs": [
    {
     "name": "stdout",
     "output_type": "stream",
     "text": [
      "Siendo el más corto camino\n",
      "AlphaCentauri -> Tristram -> Straylight -> Norrath -> Faerun -> Snowdin -> Tambi -> Arbre\n",
      "distancia= 134.0\n"
     ]
    }
   ],
   "source": [
    "print_path(path,longitud)"
   ]
  },
  {
   "cell_type": "markdown",
   "metadata": {},
   "source": [
    "<a id=\"7\"></a> \n",
    "\n",
    "# PRUEBO EL ALGORITMO"
   ]
  },
  {
   "cell_type": "markdown",
   "metadata": {},
   "source": [
    "Las funciones datathon_conda"
   ]
  },
  {
   "cell_type": "code",
   "execution_count": 12,
   "metadata": {
    "scrolled": true
   },
   "outputs": [
    {
     "name": "stdout",
     "output_type": "stream",
     "text": [
      "Siendo el más corto camino\n",
      "London -> Dublin -> Belfast\n",
      "distancia= 605.0\n"
     ]
    }
   ],
   "source": [
    "path_ruta='./rutas1.txt'\n",
    "datathon_conda(path_ruta)"
   ]
  },
  {
   "cell_type": "code",
   "execution_count": 13,
   "metadata": {
    "scrolled": true
   },
   "outputs": [
    {
     "name": "stdout",
     "output_type": "stream",
     "text": [
      "Siendo el más corto camino\n",
      "AlphaCentauri -> Tristram -> Straylight -> Norrath -> Faerun -> Snowdin -> Tambi -> Arbre\n",
      "distancia= 134.0\n"
     ]
    }
   ],
   "source": [
    "path_ruta='./rutas.txt'\n",
    "datathon_conda(path_ruta)"
   ]
  },
  {
   "cell_type": "code",
   "execution_count": 14,
   "metadata": {},
   "outputs": [
    {
     "data": {
      "text/plain": [
       "176"
      ]
     },
     "execution_count": 14,
     "metadata": {},
     "output_type": "execute_result"
    }
   ],
   "source": [
    "3 + 27 + 9 + 63 + 12 + 22 + 40"
   ]
  },
  {
   "cell_type": "code",
   "execution_count": null,
   "metadata": {},
   "outputs": [],
   "source": []
  },
  {
   "cell_type": "code",
   "execution_count": null,
   "metadata": {},
   "outputs": [],
   "source": [
    "## Tristram->AlphaCentauri->Norrath->Straylight->Faerun->SnowdinTambi->Arbre"
   ]
  }
 ],
 "metadata": {
  "kernelspec": {
   "display_name": "Python 3",
   "language": "python",
   "name": "python3"
  },
  "language_info": {
   "codemirror_mode": {
    "name": "ipython",
    "version": 3
   },
   "file_extension": ".py",
   "mimetype": "text/x-python",
   "name": "python",
   "nbconvert_exporter": "python",
   "pygments_lexer": "ipython3",
   "version": "3.6.5"
  }
 },
 "nbformat": 4,
 "nbformat_minor": 2
}
