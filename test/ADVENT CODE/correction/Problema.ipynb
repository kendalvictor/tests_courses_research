{
 "cells": [
  {
   "cell_type": "code",
   "execution_count": 1,
   "metadata": {},
   "outputs": [],
   "source": [
    "import pandas as pd"
   ]
  },
  {
   "cell_type": "code",
   "execution_count": 2,
   "metadata": {},
   "outputs": [],
   "source": [
    "### Extrayendo columnas\n",
    "raw_data=pd.read_csv(\"rutas.txt\",sep=\" \",header=None)\n",
    "data=raw_data.loc[:,(0,2,4)]\n",
    "data.columns=[\"ciudad_1\",\"ciudad_2\",\"distancia\"]"
   ]
  },
  {
   "cell_type": "code",
   "execution_count": 3,
   "metadata": {},
   "outputs": [
    {
     "data": {
      "text/html": [
       "<div>\n",
       "<style scoped>\n",
       "    .dataframe tbody tr th:only-of-type {\n",
       "        vertical-align: middle;\n",
       "    }\n",
       "\n",
       "    .dataframe tbody tr th {\n",
       "        vertical-align: top;\n",
       "    }\n",
       "\n",
       "    .dataframe thead th {\n",
       "        text-align: right;\n",
       "    }\n",
       "</style>\n",
       "<table border=\"1\" class=\"dataframe\">\n",
       "  <thead>\n",
       "    <tr style=\"text-align: right;\">\n",
       "      <th></th>\n",
       "      <th>ciudad_1</th>\n",
       "      <th>ciudad_2</th>\n",
       "      <th>distancia</th>\n",
       "    </tr>\n",
       "  </thead>\n",
       "  <tbody>\n",
       "    <tr>\n",
       "      <th>0</th>\n",
       "      <td>AlphaCentauri</td>\n",
       "      <td>Snowdin</td>\n",
       "      <td>66</td>\n",
       "    </tr>\n",
       "    <tr>\n",
       "      <th>1</th>\n",
       "      <td>AlphaCentauri</td>\n",
       "      <td>Tambi</td>\n",
       "      <td>28</td>\n",
       "    </tr>\n",
       "    <tr>\n",
       "      <th>2</th>\n",
       "      <td>AlphaCentauri</td>\n",
       "      <td>Faerun</td>\n",
       "      <td>60</td>\n",
       "    </tr>\n",
       "    <tr>\n",
       "      <th>3</th>\n",
       "      <td>AlphaCentauri</td>\n",
       "      <td>Norrath</td>\n",
       "      <td>34</td>\n",
       "    </tr>\n",
       "    <tr>\n",
       "      <th>4</th>\n",
       "      <td>AlphaCentauri</td>\n",
       "      <td>Straylight</td>\n",
       "      <td>34</td>\n",
       "    </tr>\n",
       "  </tbody>\n",
       "</table>\n",
       "</div>"
      ],
      "text/plain": [
       "        ciudad_1    ciudad_2  distancia\n",
       "0  AlphaCentauri     Snowdin         66\n",
       "1  AlphaCentauri       Tambi         28\n",
       "2  AlphaCentauri      Faerun         60\n",
       "3  AlphaCentauri     Norrath         34\n",
       "4  AlphaCentauri  Straylight         34"
      ]
     },
     "execution_count": 3,
     "metadata": {},
     "output_type": "execute_result"
    }
   ],
   "source": [
    "data.head()"
   ]
  },
  {
   "cell_type": "code",
   "execution_count": 4,
   "metadata": {},
   "outputs": [
    {
     "data": {
      "text/plain": [
       "{'AlphaCentauri': {'Snowdin': 66,\n",
       "  'Tambi': 28,\n",
       "  'Faerun': 60,\n",
       "  'Norrath': 34,\n",
       "  'Straylight': 34,\n",
       "  'Tristram': 3,\n",
       "  'Arbre': 108},\n",
       " 'Snowdin': {'AlphaCentauri': 66,\n",
       "  'Tambi': 22,\n",
       "  'Faerun': 12,\n",
       "  'Norrath': 91,\n",
       "  'Straylight': 121,\n",
       "  'Tristram': 111,\n",
       "  'Arbre': 71},\n",
       " 'Tambi': {'AlphaCentauri': 28,\n",
       "  'Snowdin': 22,\n",
       "  'Faerun': 39,\n",
       "  'Norrath': 113,\n",
       "  'Straylight': 130,\n",
       "  'Tristram': 35,\n",
       "  'Arbre': 40},\n",
       " 'Faerun': {'AlphaCentauri': 60,\n",
       "  'Snowdin': 12,\n",
       "  'Tambi': 39,\n",
       "  'Norrath': 63,\n",
       "  'Straylight': 21,\n",
       "  'Tristram': 57,\n",
       "  'Arbre': 83},\n",
       " 'Norrath': {'AlphaCentauri': 34,\n",
       "  'Snowdin': 91,\n",
       "  'Tambi': 113,\n",
       "  'Faerun': 63,\n",
       "  'Straylight': 9,\n",
       "  'Tristram': 50,\n",
       "  'Arbre': 60},\n",
       " 'Straylight': {'AlphaCentauri': 34,\n",
       "  'Snowdin': 121,\n",
       "  'Tambi': 130,\n",
       "  'Faerun': 21,\n",
       "  'Norrath': 9,\n",
       "  'Tristram': 27,\n",
       "  'Arbre': 81},\n",
       " 'Tristram': {'AlphaCentauri': 3,\n",
       "  'Snowdin': 111,\n",
       "  'Tambi': 35,\n",
       "  'Faerun': 57,\n",
       "  'Norrath': 50,\n",
       "  'Straylight': 27,\n",
       "  'Arbre': 90},\n",
       " 'Arbre': {'AlphaCentauri': 108,\n",
       "  'Snowdin': 71,\n",
       "  'Tambi': 40,\n",
       "  'Faerun': 83,\n",
       "  'Norrath': 60,\n",
       "  'Straylight': 81,\n",
       "  'Tristram': 90}}"
      ]
     },
     "execution_count": 4,
     "metadata": {},
     "output_type": "execute_result"
    }
   ],
   "source": [
    "### Creando diccionario de distancias\n",
    "dict_1={}\n",
    "# ciudades=data[\"ciudad_1\"].unique()\n",
    "ciudades=['AlphaCentauri', 'Snowdin', 'Tambi', 'Faerun', 'Norrath','Straylight', 'Tristram','Arbre']\n",
    "for ciudad in ciudades:\n",
    "    dict_1[ciudad]={}\n",
    "dict_1\n",
    "for index,row in data.iterrows():\n",
    "    dict_1[row[\"ciudad_1\"]][row[\"ciudad_2\"]]=row[\"distancia\"]\n",
    "    dict_1[row[\"ciudad_2\"]][row[\"ciudad_1\"]]=row[\"distancia\"]\n",
    "dict_1"
   ]
  },
  {
   "cell_type": "code",
   "execution_count": 5,
   "metadata": {},
   "outputs": [
    {
     "name": "stdout",
     "output_type": "stream",
     "text": [
      "{'AlphaCentauri': 0, 'Tristram': 3, 'Tambi': 28, 'Straylight': 30, 'Norrath': 34, 'Snowdin': 50, 'Faerun': 51, 'Arbre': 68}\n",
      "Distancia Total : 264\n",
      "{'Snowdin': 0, 'Faerun': 12, 'Tambi': 22, 'Straylight': 33, 'Norrath': 42, 'AlphaCentauri': 50, 'Tristram': 53, 'Arbre': 62}\n",
      "Distancia Total : 274\n",
      "{'Tambi': 0, 'Snowdin': 22, 'AlphaCentauri': 28, 'Tristram': 31, 'Faerun': 34, 'Arbre': 40, 'Straylight': 55, 'Norrath': 62}\n",
      "Distancia Total : 272\n",
      "{'Faerun': 0, 'Snowdin': 12, 'Straylight': 21, 'Norrath': 30, 'Tambi': 34, 'Tristram': 48, 'AlphaCentauri': 51, 'Arbre': 74}\n",
      "Distancia Total : 270\n",
      "{'Norrath': 0, 'Straylight': 9, 'Faerun': 30, 'AlphaCentauri': 34, 'Tristram': 36, 'Snowdin': 42, 'Arbre': 60, 'Tambi': 62}\n",
      "Distancia Total : 273\n",
      "{'Straylight': 0, 'Norrath': 9, 'Faerun': 21, 'Tristram': 27, 'AlphaCentauri': 30, 'Snowdin': 33, 'Tambi': 55, 'Arbre': 69}\n",
      "Distancia Total : 244\n",
      "{'Tristram': 0, 'AlphaCentauri': 3, 'Straylight': 27, 'Tambi': 31, 'Norrath': 36, 'Faerun': 48, 'Snowdin': 53, 'Arbre': 71}\n",
      "Distancia Total : 269\n",
      "{'Arbre': 0, 'Tambi': 40, 'Norrath': 60, 'Snowdin': 62, 'AlphaCentauri': 68, 'Straylight': 69, 'Tristram': 71, 'Faerun': 74}\n",
      "Distancia Total : 444\n"
     ]
    }
   ],
   "source": [
    "nodes=tuple(ciudades)\n",
    "distances=dict_1\n",
    "\n",
    "### Aplicando Dijkstra \n",
    "for ciudad in ciudades:\n",
    "    unvisited = {node: None for node in nodes} #using None as +inf\n",
    "    visited = {}\n",
    "    current = ciudad\n",
    "    currentDistance = 0\n",
    "    unvisited[current] = currentDistance\n",
    "\n",
    "    while True:\n",
    "        for neighbour, distance in distances[current].items():\n",
    "            if neighbour not in unvisited: continue\n",
    "            newDistance = currentDistance + distance\n",
    "            if unvisited[neighbour] is None or unvisited[neighbour] > newDistance:\n",
    "                unvisited[neighbour] = newDistance\n",
    "        visited[current] = currentDistance\n",
    "        del unvisited[current]\n",
    "        if not unvisited: break\n",
    "        candidates = [node for node in unvisited.items() if node[1]]\n",
    "        current, currentDistance = sorted(candidates, key = lambda x: x[1])[0]\n",
    "\n",
    "    print(visited)\n",
    "    print(\"Distancia Total :\", sum(visited.values()))"
   ]
  },
  {
   "cell_type": "code",
   "execution_count": null,
   "metadata": {},
   "outputs": [],
   "source": []
  },
  {
   "cell_type": "code",
   "execution_count": null,
   "metadata": {},
   "outputs": [],
   "source": []
  }
 ],
 "metadata": {
  "kernelspec": {
   "display_name": "Python 3",
   "language": "python",
   "name": "python3"
  },
  "language_info": {
   "codemirror_mode": {
    "name": "ipython",
    "version": 3
   },
   "file_extension": ".py",
   "mimetype": "text/x-python",
   "name": "python",
   "nbconvert_exporter": "python",
   "pygments_lexer": "ipython3",
   "version": "3.6.5"
  }
 },
 "nbformat": 4,
 "nbformat_minor": 2
}
