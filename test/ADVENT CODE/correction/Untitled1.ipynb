{
 "cells": [
  {
   "cell_type": "code",
   "execution_count": 3,
   "metadata": {},
   "outputs": [
    {
     "name": "stdout",
     "output_type": "stream",
     "text": [
      " Mejor ruta:\n",
      "['Arbre', 'Tambi', 'Snowdin', 'Faerun', 'Straylight', 'Norrath', 'AlphaCentauri', 'Tristram']\n",
      " Distancia minima:\n",
      "141\n"
     ]
    }
   ],
   "source": [
    "#!/usr/bin/env python\n",
    "# coding: utf-8\n",
    "\n",
    "# In[6]:\n",
    "\n",
    "\n",
    "# Librerias\n",
    "from itertools import permutations\n",
    "import re\n",
    "# Leer el archivo txt\n",
    "import pandas as pd\n",
    "\n",
    "\n",
    "# In[7]:\n",
    "\n",
    "\n",
    "# Cargando los datos\n",
    "data = {}  # (Ciudad_desde, ciudad_hasta) -> distancia\n",
    "\n",
    "for line in open (('rutas.txt')): #<-- actualizar la ruta\n",
    "    start, to, end, equals, distance = line.split()\n",
    "    assert to == \"to\"\n",
    "    assert equals == \"=\"\n",
    "    data[(start, end)] = data[(end, start)] = int(distance)\n",
    "\n",
    "cities = list(set([key[0] for key in data]))\n",
    "\n",
    "def permutations(lst):\n",
    "    if not lst:\n",
    "        yield []\n",
    "    for i, first in enumerate(lst):\n",
    "        for rest in permutations(lst[:i]+lst[i+1:]):\n",
    "            yield [first] + rest\n",
    "\n",
    "minima_ruta = float(\"inf\")\n",
    "mejor_camino = None\n",
    "for perm in permutations(cities):\n",
    "    cost = sum([data[couple] for couple in zip(perm[:-1], perm[1:])])\n",
    "    if cost < minima_ruta:\n",
    "        minima_ruta = cost\n",
    "        mejor_camino = perm\n",
    "print(\" Mejor ruta:\")\n",
    "print(mejor_camino)\n",
    "\n",
    "print (\" Distancia minima:\")\n",
    "print (minima_ruta)\n",
    "\n",
    "\n",
    "# In[ ]:\n",
    "\n",
    "\n",
    "\n"
   ]
  },
  {
   "cell_type": "code",
   "execution_count": null,
   "metadata": {},
   "outputs": [],
   "source": []
  }
 ],
 "metadata": {
  "kernelspec": {
   "display_name": "Python 3",
   "language": "python",
   "name": "python3"
  },
  "language_info": {
   "codemirror_mode": {
    "name": "ipython",
    "version": 3
   },
   "file_extension": ".py",
   "mimetype": "text/x-python",
   "name": "python",
   "nbconvert_exporter": "python",
   "pygments_lexer": "ipython3",
   "version": "3.6.5"
  }
 },
 "nbformat": 4,
 "nbformat_minor": 2
}
