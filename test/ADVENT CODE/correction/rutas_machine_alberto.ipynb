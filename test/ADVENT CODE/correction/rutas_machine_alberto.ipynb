{
 "cells": [
  {
   "cell_type": "code",
   "execution_count": 1,
   "metadata": {},
   "outputs": [
    {
     "name": "stdout",
     "output_type": "stream",
     "text": [
      "Distancia más corta:  141\n",
      "Distancia más larga:  736\n"
     ]
    }
   ],
   "source": [
    "import sys\n",
    "from itertools import permutations\n",
    "\n",
    "ubicaciones = set()\n",
    "distancias = dict()\n",
    "for fila in open('rutas.txt'):\n",
    "    (inicio, _, fin, _, distancia) = fila.split()\n",
    "    ubicaciones.add(inicio)\n",
    "    ubicaciones.add(fin)\n",
    "    distancias.setdefault(inicio, dict())[fin] = int(distancia)\n",
    "    distancias.setdefault(fin, dict())[inicio] = int(distancia)\n",
    "\n",
    "dist_corta = sys.maxsize\n",
    "dist_larga = 0\n",
    "for items in permutations(ubicaciones):\n",
    "    dist = sum(map(lambda x, y: distancias[x][y], items[:-1], items[1:]))\n",
    "    dist_corta = min(dist_corta, dist)\n",
    "    dist_larga = max(dist_larga, dist)\n",
    "\n",
    "print(\"Distancia más corta: \", dist_corta)\n",
    "print(\"Distancia más larga: \", dist_larga)"
   ]
  },
  {
   "cell_type": "code",
   "execution_count": null,
   "metadata": {},
   "outputs": [],
   "source": []
  }
 ],
 "metadata": {
  "kernelspec": {
   "display_name": "Python 3",
   "language": "python",
   "name": "python3"
  },
  "language_info": {
   "codemirror_mode": {
    "name": "ipython",
    "version": 3
   },
   "file_extension": ".py",
   "mimetype": "text/x-python",
   "name": "python",
   "nbconvert_exporter": "python",
   "pygments_lexer": "ipython3",
   "version": "3.6.5"
  }
 },
 "nbformat": 4,
 "nbformat_minor": 2
}
