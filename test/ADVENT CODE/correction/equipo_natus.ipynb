{
 "cells": [
  {
   "cell_type": "code",
   "execution_count": 1,
   "metadata": {},
   "outputs": [
    {
     "name": "stdout",
     "output_type": "stream",
     "text": [
      "Tristram -> AlphaCentauri -> Norrath -> Straylight -> Faerun -> Snowdin -> Tambi -> Arbre =  141\n"
     ]
    }
   ],
   "source": [
    "import sys\n",
    "# Complejidad Algoritmica: O(n!)\n",
    "a = list([])\n",
    "aux = list([])\n",
    "b = list([[]])\n",
    "sol = list([])\n",
    "def next_permutation():\n",
    "    dist = 0\n",
    "    for xd in range(1,len(a)):\n",
    "               dist += b[a[xd-1]][a[xd]]\n",
    "    for i in reversed(range(len(a) - 1)):\n",
    "        if a[i] < a[i + 1]:\n",
    "            break  # found\n",
    "    else:  # no break: not found\n",
    "        return 10000000000  # no next permutation\n",
    "    j = next(j for j in reversed(range(i + 1, len(a))) if a[i] < a[j])\n",
    "    a[i], a[j] = a[j],a[i]\n",
    "    a[i + 1:] = reversed(a[i + 1:])\n",
    "    return dist\n",
    "\n",
    "d = {}\n",
    "e = {}\n",
    "b = [[0]*100 for i in range(100)]\n",
    "cnt = 0\n",
    "with open('rutas.txt') as file1:\n",
    "    for line in file1:\n",
    "               lec = line.split()\n",
    "               if d.get(lec[0], \"NA\")==\"NA\":\n",
    "                              d[lec[0]] = cnt\n",
    "                              e[cnt] = lec[0]\n",
    "                              cnt+=1\n",
    "               if d.get(lec[2], \"NA\")==\"NA\":\n",
    "                              d[lec[2]] = cnt\n",
    "                              e[cnt] = lec[2]\n",
    "                              cnt+=1\n",
    "               b[d[lec[0]]][d[lec[2]]]=int(lec[4])\n",
    "               b[d[lec[2]]][d[lec[0]]]=int(lec[4])\n",
    "\n",
    "a = list(range(0,cnt))\n",
    "sol = list(a)\n",
    "mindist = next_permutation()\n",
    "dist = int(mindist)\n",
    "while dist!=10000000000:\n",
    "    aux = list(a)\n",
    "    dist=int(next_permutation())\n",
    "    if dist<mindist: \n",
    "        sol = list(aux)\n",
    "    mindist = int(min(mindist,dist))\n",
    "    \n",
    "bx = 0\n",
    "for c in sol:\n",
    "    if bx: print(\" -> \",end=\"\")\n",
    "    print(e[c],end=\"\")\n",
    "    bx = 1\n",
    "print(\" = \",mindist)\n",
    "\n",
    "file1.close()"
   ]
  },
  {
   "cell_type": "code",
   "execution_count": null,
   "metadata": {},
   "outputs": [],
   "source": []
  }
 ],
 "metadata": {
  "kernelspec": {
   "display_name": "Python 3",
   "language": "python",
   "name": "python3"
  },
  "language_info": {
   "codemirror_mode": {
    "name": "ipython",
    "version": 3
   },
   "file_extension": ".py",
   "mimetype": "text/x-python",
   "name": "python",
   "nbconvert_exporter": "python",
   "pygments_lexer": "ipython3",
   "version": "3.6.5"
  }
 },
 "nbformat": 4,
 "nbformat_minor": 2
}
