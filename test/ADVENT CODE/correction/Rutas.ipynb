{
 "cells": [
  {
   "cell_type": "code",
   "execution_count": 1,
   "metadata": {},
   "outputs": [],
   "source": [
    "import numpy as np\n",
    "import os"
   ]
  },
  {
   "cell_type": "code",
   "execution_count": 5,
   "metadata": {},
   "outputs": [],
   "source": [
    "os.chdir(\"Downloads\")"
   ]
  },
  {
   "cell_type": "code",
   "execution_count": 2,
   "metadata": {
    "scrolled": true
   },
   "outputs": [],
   "source": [
    "F = open('rutas.txt','r').read()"
   ]
  },
  {
   "cell_type": "code",
   "execution_count": 3,
   "metadata": {},
   "outputs": [],
   "source": [
    "def map_d(F) :\n",
    "    a = F.split('\\n')\n",
    "    b = [i.split(\" = \") for i in a]\n",
    "    pares = [i[0] for i in b]\n",
    "    distancia = np.array([int(i[1]) for i in b])\n",
    "    n = len(distancia)\n",
    "    I = [i.split(\" to \") for i in pares]\n",
    "\n",
    "    camino = []\n",
    "    nlugares = len(np.unique(I))\n",
    "    dist = 0\n",
    "    p = distancia.argmin()\n",
    "    camino.append(pares[p])\n",
    "    dist = dist+ distancia[p]\n",
    "    cond = I[p]\n",
    "    distancia = np.delete(distancia,p)\n",
    "    pares.pop(p)\n",
    "\n",
    "    for i in range(nlugares-1) :\n",
    "        pos = np.where([i.find(cond[0])>-1 or i.find(cond[1])>-1 for i in pares])[0]\n",
    "        p = pos[distancia[pos].argmin()]\n",
    "        camino.append(pares[p])\n",
    "        dist = dist + distancia[p]\n",
    "        cond = I[p]\n",
    "        I.pop(p)\n",
    "        pares.pop(p)\n",
    "        distancia = np.delete(distancia,p)\n",
    "\n",
    "    return {'recorrido': dist,'pares utilizados':camino}"
   ]
  },
  {
   "cell_type": "code",
   "execution_count": 4,
   "metadata": {},
   "outputs": [
    {
     "data": {
      "text/plain": [
       "{'recorrido': 169,\n",
       " 'pares utilizados': ['AlphaCentauri to Tristram',\n",
       "  'Straylight to Tristram',\n",
       "  'Norrath to Straylight',\n",
       "  'Snowdin to Faerun',\n",
       "  'Snowdin to Tambi',\n",
       "  'AlphaCentauri to Tambi',\n",
       "  'AlphaCentauri to Norrath',\n",
       "  'AlphaCentauri to Straylight']}"
      ]
     },
     "execution_count": 4,
     "metadata": {},
     "output_type": "execute_result"
    }
   ],
   "source": [
    "map_d(F)"
   ]
  },
  {
   "cell_type": "code",
   "execution_count": null,
   "metadata": {},
   "outputs": [],
   "source": []
  },
  {
   "cell_type": "code",
   "execution_count": null,
   "metadata": {},
   "outputs": [],
   "source": []
  }
 ],
 "metadata": {
  "kernelspec": {
   "display_name": "Python 3",
   "language": "python",
   "name": "python3"
  },
  "language_info": {
   "codemirror_mode": {
    "name": "ipython",
    "version": 3
   },
   "file_extension": ".py",
   "mimetype": "text/x-python",
   "name": "python",
   "nbconvert_exporter": "python",
   "pygments_lexer": "ipython3",
   "version": "3.6.5"
  }
 },
 "nbformat": 4,
 "nbformat_minor": 2
}
