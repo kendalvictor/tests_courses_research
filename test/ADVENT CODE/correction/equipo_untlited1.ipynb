{
 "cells": [
  {
   "cell_type": "code",
   "execution_count": 1,
   "metadata": {},
   "outputs": [],
   "source": [
    "import pandas as pd\n",
    "import numpy as np\n",
    "\n",
    "\n",
    "def calculate_distancia_path(nodo_seleccionado, df_rutas, ruta = [], distancia_acumulada = 0):\n",
    "    ## criterio de parada\n",
    "    if len(ruta)==8:\n",
    "        return distancia_acumulada, ruta\n",
    "    \n",
    "    else:\n",
    "        p_asociados = df_rutas.loc[nodo_seleccionado]\n",
    "        ruta_minima = []\n",
    "        \n",
    "        distancia_acumulada_minima = 10**5\n",
    "        for rows in p_asociados.iterrows():\n",
    "            index = rows[0]\n",
    "            fila = rows[1]\n",
    "            \n",
    "            ## -------------------------\n",
    "            distancia = fila[0]\n",
    "            next_point = fila[2]\n",
    "            \n",
    "            if next_point not in ruta:\n",
    "                ruta_list = ruta + [next_point]\n",
    "                distancia_acumulada_list = distancia_acumulada + distancia\n",
    "                distancia_acumulada_path, ruta_path = calculate_distancia_path(next_point, df_rutas, ruta_list, distancia_acumulada_list)\n",
    "                \n",
    "                ## Selecciona las distncias minimas para caminos más pequeños\n",
    "                if distancia_acumulada_path <= distancia_acumulada_minima:\n",
    "                    distancia_acumulada_minima = distancia_acumulada_path \n",
    "                    ruta_minima = ruta_path\n",
    "        return distancia_acumulada_minima, ruta_minima \n",
    "        \n",
    "\n",
    "def shortest_path(p_iniciales, df_rutas):\n",
    "    distancia_acumulada_minima = 10**10\n",
    "    for partida in p_iniciales:\n",
    "        ruta = [partida]\n",
    "        distancia_acumulada, ruta_solution = calculate_distancia_path(partida, df_rutas, ruta)\n",
    "        \n",
    "        if distancia_acumulada < distancia_acumulada_minima:\n",
    "            distancia_acumulada_minima = distancia_acumulada \n",
    "            ruta_minima = ruta_solution \n",
    "\n",
    "    return  distancia_acumulada_minima, ruta_minima\n"
   ]
  },
  {
   "cell_type": "code",
   "execution_count": 2,
   "metadata": {},
   "outputs": [
    {
     "name": "stdout",
     "output_type": "stream",
     "text": [
      "reading file rutas.txt\n",
      "##########\n",
      "Calculando\n",
      "##########\n",
      "(141, ['Tristram', 'AlphaCentauri', 'Norrath', 'Straylight', 'Faerun', 'Snowdin', 'Tambi', 'Arbre'])\n"
     ]
    }
   ],
   "source": [
    "\n",
    "\n",
    "### Lectura de archivo rutas.txt\n",
    "print(\"reading file rutas.txt\")\n",
    "print(\"#\"*10)\n",
    "df_rutas = pd.read_table(\"rutas.txt\", header=None)\n",
    "df_rutas.columns = [\"rutas_description\"]\n",
    "lista_splits = df_rutas[\"rutas_description\"].apply(lambda x: x.split(\"to\"))\n",
    "df_rutas[\"partida\"] = lista_splits.apply(lambda x: x[0].strip())\n",
    "df_rutas[\"llegada\"] = lista_splits.apply(lambda x: x[1].split(\"=\")[0].strip()) \n",
    "df_rutas[\"distancia\"] =  lista_splits.apply(lambda x: x[1].split(\"=\")[1].strip()) \n",
    "del df_rutas[\"rutas_description\"]\n",
    "\n",
    "p_iniciales = set(list(df_rutas.partida.unique())+list(df_rutas.llegada.unique()))\n",
    "\n",
    "lista_df = []\n",
    "for punto in p_iniciales:\n",
    "    if df_rutas[df_rutas.partida==punto].shape[0]<6:\n",
    "        df_add = df_rutas[df_rutas.llegada==punto].copy()\n",
    "        df_add.columns = [\"llegada\", \"partida\", \"distancia\"]\n",
    "        cols =  [\"partida\",\"llegada\",\"distancia\"]\n",
    "        lista_df.append(df_add[cols])\n",
    "        \n",
    "df_rutas_complete = pd.concat([df_rutas]+lista_df).drop_duplicates().reset_index()\n",
    "df_rutas_2 = df_rutas_complete[[\"distancia\",\"partida\",\"llegada\"]].set_index([\"partida\",\"llegada\"], drop =False)\n",
    "df_rutas_2[\"distancia\"] = df_rutas_2[\"distancia\"].astype(int)\n",
    "p_iniciales = set(list(df_rutas.partida.unique())+list(df_rutas.llegada.unique()))\n",
    "\n",
    "## Calculo de camino más corto\n",
    "print(\"Calculando\")\n",
    "print(\"#\"*10)\n",
    "distancia_acumulada, ruta_minima = shortest_path(p_iniciales, df_rutas_2)\n",
    "print((distancia_acumulada, ruta_minima))"
   ]
  },
  {
   "cell_type": "code",
   "execution_count": null,
   "metadata": {},
   "outputs": [],
   "source": []
  }
 ],
 "metadata": {
  "kernelspec": {
   "display_name": "Python 3",
   "language": "python",
   "name": "python3"
  },
  "language_info": {
   "codemirror_mode": {
    "name": "ipython",
    "version": 3
   },
   "file_extension": ".py",
   "mimetype": "text/x-python",
   "name": "python",
   "nbconvert_exporter": "python",
   "pygments_lexer": "ipython3",
   "version": "3.6.5"
  }
 },
 "nbformat": 4,
 "nbformat_minor": 2
}
