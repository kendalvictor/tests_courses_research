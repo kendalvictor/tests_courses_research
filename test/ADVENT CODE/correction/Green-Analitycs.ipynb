{
 "cells": [
  {
   "cell_type": "markdown",
   "metadata": {
    "colab_type": "text",
    "id": "afGfNaA3DcDO"
   },
   "source": [
    "**Problema**"
   ]
  },
  {
   "cell_type": "markdown",
   "metadata": {
    "colab_type": "text",
    "id": "keWT6jT93Pbh"
   },
   "source": [
    "Se debe entregar encomiendas en varias ubicaciones del mundo, teniendo para ello un mapa con un punto por ubicacion exacta, y las respectivas distancias entre cada punto.\n",
    "Los puntos de inicio y fin deben ser distintos, pero debe visitar cada ubicación exactamente una vez. ¿Cuál es la distancia más corta que puede recorrer para lograr esto? Por ejemplo, dadas las siguientes distancias:\n",
    "\n",
    "London to Dublin = 464\n",
    "London to Belfast = 518\n",
    "Dublin to Belfast = 141\n",
    "\n",
    "Las posibles rutas son:\n",
    "\n",
    "Dublin -> London -> Belfast = 982\n",
    "London -> Dublin -> Belfast = 605\n",
    "London -> Belfast -> Dublin = 659\n",
    "Dublin -> Belfast -> London = 659\n",
    "Belfast -> Dublin -> London = 605\n",
    "Belfast -> London -> Dublin = 982\n",
    "\n",
    "\n",
    "Siendo el mas corto London -> Dublin -> Belfast = 605\n"
   ]
  },
  {
   "cell_type": "markdown",
   "metadata": {
    "colab_type": "text",
    "id": "v7770sRmHjaC"
   },
   "source": [
    "Librerías"
   ]
  },
  {
   "cell_type": "code",
   "execution_count": 1,
   "metadata": {
    "colab": {
     "base_uri": "https://localhost:8080/",
     "height": 74,
     "resources": {
      "http://localhost:8080/nbextensions/google.colab/files.js": {
       "data": "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",
       "headers": [
        [
         "content-type",
         "application/javascript"
        ]
       ],
       "ok": true,
       "status": 200,
       "status_text": ""
      }
     }
    },
    "colab_type": "code",
    "id": "N5m8xDW-IET9",
    "outputId": "a66f28fb-461b-40a5-c03f-477dda244e12"
   },
   "outputs": [
    {
     "ename": "ModuleNotFoundError",
     "evalue": "No module named 'google.colab'",
     "output_type": "error",
     "traceback": [
      "\u001b[0;31m---------------------------------------------------------------------------\u001b[0m",
      "\u001b[0;31mModuleNotFoundError\u001b[0m                       Traceback (most recent call last)",
      "\u001b[0;32m<ipython-input-1-e326c8a1de8c>\u001b[0m in \u001b[0;36m<module>\u001b[0;34m\u001b[0m\n\u001b[1;32m      2\u001b[0m \u001b[0;32mimport\u001b[0m \u001b[0mpandas\u001b[0m \u001b[0;32mas\u001b[0m \u001b[0mpd\u001b[0m \u001b[0;31m### para el manejo de Dataframe\u001b[0m\u001b[0;34m\u001b[0m\u001b[0m\n\u001b[1;32m      3\u001b[0m \u001b[0;32mfrom\u001b[0m \u001b[0mrandom\u001b[0m \u001b[0;32mimport\u001b[0m \u001b[0mshuffle\u001b[0m \u001b[0;31m### para la simulación de montecarlo\u001b[0m\u001b[0;34m\u001b[0m\u001b[0m\n\u001b[0;32m----> 4\u001b[0;31m \u001b[0;32mfrom\u001b[0m \u001b[0mgoogle\u001b[0m\u001b[0;34m.\u001b[0m\u001b[0mcolab\u001b[0m \u001b[0;32mimport\u001b[0m \u001b[0mfiles\u001b[0m\u001b[0;34m\u001b[0m\u001b[0m\n\u001b[0m\u001b[1;32m      5\u001b[0m \u001b[0muploaded\u001b[0m \u001b[0;34m=\u001b[0m \u001b[0mfiles\u001b[0m\u001b[0;34m.\u001b[0m\u001b[0mupload\u001b[0m\u001b[0;34m(\u001b[0m\u001b[0;34m)\u001b[0m\u001b[0;34m\u001b[0m\u001b[0m\n",
      "\u001b[0;31mModuleNotFoundError\u001b[0m: No module named 'google.colab'"
     ]
    }
   ],
   "source": [
    "import numpy as np ### para un mejores manejo de arrays\n",
    "import pandas as pd ### para el manejo de Dataframe\n",
    "from random import shuffle ### para la simulación de montecarlo\n",
    "from google.colab import files\n",
    "uploaded = files.upload()"
   ]
  },
  {
   "cell_type": "markdown",
   "metadata": {
    "colab_type": "text",
    "id": "hsNPKvuxIIqR"
   },
   "source": [
    "Carga del Archivo"
   ]
  },
  {
   "cell_type": "code",
   "execution_count": 2,
   "metadata": {
    "colab": {
     "base_uri": "https://localhost:8080/",
     "height": 493
    },
    "colab_type": "code",
    "id": "0rmLbdekIMC1",
    "outputId": "75637176-68c4-472f-b37d-0cd0d807faaa"
   },
   "outputs": [
    {
     "data": {
      "text/plain": [
       "array([['AlphaCentauri', 'Snowdin', '66'],\n",
       "       ['AlphaCentauri', 'Tambi', '28'],\n",
       "       ['AlphaCentauri', 'Faerun', '60'],\n",
       "       ['AlphaCentauri', 'Norrath', '34'],\n",
       "       ['AlphaCentauri', 'Straylight', '34'],\n",
       "       ['AlphaCentauri', 'Tristram', '3'],\n",
       "       ['AlphaCentauri', 'Arbre', '108'],\n",
       "       ['Snowdin', 'Tambi', '22'],\n",
       "       ['Snowdin', 'Faerun', '12'],\n",
       "       ['Snowdin', 'Norrath', '91'],\n",
       "       ['Snowdin', 'Straylight', '121'],\n",
       "       ['Snowdin', 'Tristram', '111'],\n",
       "       ['Snowdin', 'Arbre', '71'],\n",
       "       ['Tambi', 'Faerun', '39'],\n",
       "       ['Tambi', 'Norrath', '113'],\n",
       "       ['Tambi', 'Straylight', '130'],\n",
       "       ['Tambi', 'Tristram', '35'],\n",
       "       ['Tambi', 'Arbre', '40'],\n",
       "       ['Faerun', 'Norrath', '63'],\n",
       "       ['Faerun', 'Straylight', '21'],\n",
       "       ['Faerun', 'Tristram', '57'],\n",
       "       ['Faerun', 'Arbre', '83'],\n",
       "       ['Norrath', 'Straylight', '9'],\n",
       "       ['Norrath', 'Tristram', '50'],\n",
       "       ['Norrath', 'Arbre', '60'],\n",
       "       ['Straylight', 'Tristram', '27'],\n",
       "       ['Straylight', 'Arbre', '81'],\n",
       "       ['Tristram', 'Arbre', '90']], dtype='<U21')"
      ]
     },
     "execution_count": 2,
     "metadata": {},
     "output_type": "execute_result"
    }
   ],
   "source": [
    "f = open(\"rutas.txt\", \"r\")\n",
    "lines = f.readlines()\n",
    "\n",
    "inicio = []\n",
    "fin = []\n",
    "distancia = []\n",
    "\n",
    "for i in lines:\n",
    "    aux = i.split(\" to \")\n",
    "    aux_2 = aux[1].split(\" = \")\n",
    "    aux_3 = aux_2[1].split(\"\\n\")\n",
    "    inicio.append(aux[0])\n",
    "    fin.append(aux_2[0])\n",
    "    distancia.append(int(aux_3[0]))\n",
    "\n",
    "matriz=np.c_[inicio,fin,distancia]\n",
    "matriz"
   ]
  },
  {
   "cell_type": "markdown",
   "metadata": {
    "colab_type": "text",
    "id": "ehcSKvfXKVgU"
   },
   "source": [
    "Generar el Dataframe del Archivo"
   ]
  },
  {
   "cell_type": "code",
   "execution_count": 3,
   "metadata": {
    "colab": {
     "base_uri": "https://localhost:8080/",
     "height": 204
    },
    "colab_type": "code",
    "id": "2-zT5a_8KUo5",
    "outputId": "53cdc456-5cee-4fd1-f8ba-15cdcd5cb65c"
   },
   "outputs": [
    {
     "data": {
      "text/html": [
       "<div>\n",
       "<style scoped>\n",
       "    .dataframe tbody tr th:only-of-type {\n",
       "        vertical-align: middle;\n",
       "    }\n",
       "\n",
       "    .dataframe tbody tr th {\n",
       "        vertical-align: top;\n",
       "    }\n",
       "\n",
       "    .dataframe thead th {\n",
       "        text-align: right;\n",
       "    }\n",
       "</style>\n",
       "<table border=\"1\" class=\"dataframe\">\n",
       "  <thead>\n",
       "    <tr style=\"text-align: right;\">\n",
       "      <th></th>\n",
       "      <th>inicio</th>\n",
       "      <th>fin</th>\n",
       "      <th>distancia</th>\n",
       "    </tr>\n",
       "  </thead>\n",
       "  <tbody>\n",
       "    <tr>\n",
       "      <th>0</th>\n",
       "      <td>AlphaCentauri</td>\n",
       "      <td>Snowdin</td>\n",
       "      <td>66</td>\n",
       "    </tr>\n",
       "    <tr>\n",
       "      <th>1</th>\n",
       "      <td>AlphaCentauri</td>\n",
       "      <td>Tambi</td>\n",
       "      <td>28</td>\n",
       "    </tr>\n",
       "    <tr>\n",
       "      <th>2</th>\n",
       "      <td>AlphaCentauri</td>\n",
       "      <td>Faerun</td>\n",
       "      <td>60</td>\n",
       "    </tr>\n",
       "    <tr>\n",
       "      <th>3</th>\n",
       "      <td>AlphaCentauri</td>\n",
       "      <td>Norrath</td>\n",
       "      <td>34</td>\n",
       "    </tr>\n",
       "    <tr>\n",
       "      <th>4</th>\n",
       "      <td>AlphaCentauri</td>\n",
       "      <td>Straylight</td>\n",
       "      <td>34</td>\n",
       "    </tr>\n",
       "  </tbody>\n",
       "</table>\n",
       "</div>"
      ],
      "text/plain": [
       "          inicio         fin  distancia\n",
       "0  AlphaCentauri     Snowdin         66\n",
       "1  AlphaCentauri       Tambi         28\n",
       "2  AlphaCentauri      Faerun         60\n",
       "3  AlphaCentauri     Norrath         34\n",
       "4  AlphaCentauri  Straylight         34"
      ]
     },
     "execution_count": 3,
     "metadata": {},
     "output_type": "execute_result"
    }
   ],
   "source": [
    "data = pd.DataFrame(data=matriz,columns=[\"inicio\", \"fin\", \"distancia\"])\n",
    "data[\"distancia\"] = distancia\n",
    "data.head()"
   ]
  },
  {
   "cell_type": "markdown",
   "metadata": {
    "colab_type": "text",
    "id": "4GiVsNeeGhUt"
   },
   "source": [
    "**Método Montecarlo**"
   ]
  },
  {
   "cell_type": "code",
   "execution_count": 4,
   "metadata": {
    "colab": {
     "base_uri": "https://localhost:8080/",
     "height": 51
    },
    "colab_type": "code",
    "id": "LhqmIGF9GgVY",
    "outputId": "ec21cf1a-f252-413d-bf79-f1e0b98889e1"
   },
   "outputs": [
    {
     "name": "stdout",
     "output_type": "stream",
     "text": [
      "Distancia mínima:  141\n",
      "Recorrido:  ['Tristram', 'AlphaCentauri', 'Norrath', 'Straylight', 'Faerun', 'Snowdin', 'Tambi', 'Arbre']\n"
     ]
    }
   ],
   "source": [
    "\n",
    "unicos = set(list(data[\"inicio\"].values) + list(data[\"fin\"].values))\n",
    "\n",
    "dist_total = []\n",
    "ruta_total = []\n",
    "\n",
    "for z in range(0, 4000):\n",
    "    x = [[i] for i in unicos]\n",
    "    shuffle(x)\n",
    "    ruta_total.append(x)\n",
    "\n",
    "    distancia = 0\n",
    "\n",
    "    for i in range(0,len(x)-1):\n",
    "        aux = data.loc[((data['inicio'] == x[i][0]) & (data['fin'] == x[i+1][0])) | ((data['fin'] == x[i][0]) & \n",
    "                                                                         (data['inicio'] == x[i+1][0]))]\n",
    "        distancia = distancia + int(aux.distancia)\n",
    "\n",
    "    dist_total.append(distancia)\n",
    "\n",
    "\n",
    "    \n",
    "    \n",
    "##Resultado\n",
    "dist_min=min([i for i in dist_total ])\n",
    "print(\"Distancia mínima: \", dist_min)\n",
    "\n",
    "ruta = ruta_total[dist_total.index(dist_min)]\n",
    "ruta_list = []\n",
    "[ruta_list.append(i[0]) for i in ruta]\n",
    "print(\"Recorrido: \", ruta_list)"
   ]
  },
  {
   "cell_type": "markdown",
   "metadata": {
    "colab_type": "text",
    "id": "uicjU8f2G8Cp"
   },
   "source": [
    "**Algoritmo de Kruskal**\n",
    "\n",
    "Este algoritmo esta diseñado para encontrar el camino más corto ,  utilizando el concepto de los grafos. Este método penaliza a los pesos más altos dándelos mayor importancia a los valores con menores pesos. Sin embargo esta  tecnica generalmente permite encontrar el mínimo optimo local que se acerca demasiado al mínimo optimo global"
   ]
  },
  {
   "cell_type": "markdown",
   "metadata": {
    "colab_type": "text",
    "id": "32LGf9cHLWBx"
   },
   "source": [
    "Elaborando La matriz de adyacencia para representar un Grafo"
   ]
  },
  {
   "cell_type": "code",
   "execution_count": 5,
   "metadata": {
    "colab": {
     "base_uri": "https://localhost:8080/",
     "height": 297
    },
    "colab_type": "code",
    "id": "N1A0y4PSGv_W",
    "outputId": "e6811edb-3f44-4097-8833-038b51e274f0"
   },
   "outputs": [
    {
     "data": {
      "text/html": [
       "<div>\n",
       "<style scoped>\n",
       "    .dataframe tbody tr th:only-of-type {\n",
       "        vertical-align: middle;\n",
       "    }\n",
       "\n",
       "    .dataframe tbody tr th {\n",
       "        vertical-align: top;\n",
       "    }\n",
       "\n",
       "    .dataframe thead th {\n",
       "        text-align: right;\n",
       "    }\n",
       "</style>\n",
       "<table border=\"1\" class=\"dataframe\">\n",
       "  <thead>\n",
       "    <tr style=\"text-align: right;\">\n",
       "      <th></th>\n",
       "      <th>AlphaCentauri</th>\n",
       "      <th>Arbre</th>\n",
       "      <th>Faerun</th>\n",
       "      <th>Norrath</th>\n",
       "      <th>Snowdin</th>\n",
       "      <th>Straylight</th>\n",
       "      <th>Tambi</th>\n",
       "      <th>Tristram</th>\n",
       "    </tr>\n",
       "  </thead>\n",
       "  <tbody>\n",
       "    <tr>\n",
       "      <th>AlphaCentauri</th>\n",
       "      <td>0</td>\n",
       "      <td>0</td>\n",
       "      <td>0</td>\n",
       "      <td>0</td>\n",
       "      <td>0</td>\n",
       "      <td>0</td>\n",
       "      <td>0</td>\n",
       "      <td>0</td>\n",
       "    </tr>\n",
       "    <tr>\n",
       "      <th>Arbre</th>\n",
       "      <td>0</td>\n",
       "      <td>0</td>\n",
       "      <td>0</td>\n",
       "      <td>0</td>\n",
       "      <td>0</td>\n",
       "      <td>0</td>\n",
       "      <td>0</td>\n",
       "      <td>0</td>\n",
       "    </tr>\n",
       "    <tr>\n",
       "      <th>Faerun</th>\n",
       "      <td>0</td>\n",
       "      <td>0</td>\n",
       "      <td>0</td>\n",
       "      <td>0</td>\n",
       "      <td>0</td>\n",
       "      <td>0</td>\n",
       "      <td>0</td>\n",
       "      <td>0</td>\n",
       "    </tr>\n",
       "    <tr>\n",
       "      <th>Norrath</th>\n",
       "      <td>0</td>\n",
       "      <td>0</td>\n",
       "      <td>0</td>\n",
       "      <td>0</td>\n",
       "      <td>0</td>\n",
       "      <td>0</td>\n",
       "      <td>0</td>\n",
       "      <td>0</td>\n",
       "    </tr>\n",
       "    <tr>\n",
       "      <th>Snowdin</th>\n",
       "      <td>0</td>\n",
       "      <td>0</td>\n",
       "      <td>0</td>\n",
       "      <td>0</td>\n",
       "      <td>0</td>\n",
       "      <td>0</td>\n",
       "      <td>0</td>\n",
       "      <td>0</td>\n",
       "    </tr>\n",
       "    <tr>\n",
       "      <th>Straylight</th>\n",
       "      <td>0</td>\n",
       "      <td>0</td>\n",
       "      <td>0</td>\n",
       "      <td>0</td>\n",
       "      <td>0</td>\n",
       "      <td>0</td>\n",
       "      <td>0</td>\n",
       "      <td>0</td>\n",
       "    </tr>\n",
       "    <tr>\n",
       "      <th>Tambi</th>\n",
       "      <td>0</td>\n",
       "      <td>0</td>\n",
       "      <td>0</td>\n",
       "      <td>0</td>\n",
       "      <td>0</td>\n",
       "      <td>0</td>\n",
       "      <td>0</td>\n",
       "      <td>0</td>\n",
       "    </tr>\n",
       "    <tr>\n",
       "      <th>Tristram</th>\n",
       "      <td>0</td>\n",
       "      <td>0</td>\n",
       "      <td>0</td>\n",
       "      <td>0</td>\n",
       "      <td>0</td>\n",
       "      <td>0</td>\n",
       "      <td>0</td>\n",
       "      <td>0</td>\n",
       "    </tr>\n",
       "  </tbody>\n",
       "</table>\n",
       "</div>"
      ],
      "text/plain": [
       "               AlphaCentauri  Arbre  Faerun  Norrath  Snowdin  Straylight  \\\n",
       "AlphaCentauri              0      0       0        0        0           0   \n",
       "Arbre                      0      0       0        0        0           0   \n",
       "Faerun                     0      0       0        0        0           0   \n",
       "Norrath                    0      0       0        0        0           0   \n",
       "Snowdin                    0      0       0        0        0           0   \n",
       "Straylight                 0      0       0        0        0           0   \n",
       "Tambi                      0      0       0        0        0           0   \n",
       "Tristram                   0      0       0        0        0           0   \n",
       "\n",
       "               Tambi  Tristram  \n",
       "AlphaCentauri      0         0  \n",
       "Arbre              0         0  \n",
       "Faerun             0         0  \n",
       "Norrath            0         0  \n",
       "Snowdin            0         0  \n",
       "Straylight         0         0  \n",
       "Tambi              0         0  \n",
       "Tristram           0         0  "
      ]
     },
     "execution_count": 5,
     "metadata": {},
     "output_type": "execute_result"
    }
   ],
   "source": [
    "Puntos=sorted(list(set(list(pd.unique(data['inicio']))+list(pd.unique(data['fin'])))))\n",
    "n=len(Puntos)\n",
    "Grafo=pd.DataFrame(data=np.zeros((n,n), dtype=int),index=Puntos, columns=Puntos)\n",
    "Grafo"
   ]
  },
  {
   "cell_type": "markdown",
   "metadata": {
    "colab_type": "text",
    "id": "Nwt4ixyiLyug"
   },
   "source": [
    "Agregando el contenido del Grafo"
   ]
  },
  {
   "cell_type": "code",
   "execution_count": 6,
   "metadata": {
    "colab": {
     "base_uri": "https://localhost:8080/",
     "height": 297
    },
    "colab_type": "code",
    "id": "hPvZk1QfHFzt",
    "outputId": "e7474f08-e637-4714-8665-fd5c434af479"
   },
   "outputs": [
    {
     "data": {
      "text/html": [
       "<div>\n",
       "<style scoped>\n",
       "    .dataframe tbody tr th:only-of-type {\n",
       "        vertical-align: middle;\n",
       "    }\n",
       "\n",
       "    .dataframe tbody tr th {\n",
       "        vertical-align: top;\n",
       "    }\n",
       "\n",
       "    .dataframe thead th {\n",
       "        text-align: right;\n",
       "    }\n",
       "</style>\n",
       "<table border=\"1\" class=\"dataframe\">\n",
       "  <thead>\n",
       "    <tr style=\"text-align: right;\">\n",
       "      <th></th>\n",
       "      <th>AlphaCentauri</th>\n",
       "      <th>Arbre</th>\n",
       "      <th>Faerun</th>\n",
       "      <th>Norrath</th>\n",
       "      <th>Snowdin</th>\n",
       "      <th>Straylight</th>\n",
       "      <th>Tambi</th>\n",
       "      <th>Tristram</th>\n",
       "    </tr>\n",
       "  </thead>\n",
       "  <tbody>\n",
       "    <tr>\n",
       "      <th>AlphaCentauri</th>\n",
       "      <td>0</td>\n",
       "      <td>108</td>\n",
       "      <td>60</td>\n",
       "      <td>34</td>\n",
       "      <td>66</td>\n",
       "      <td>34</td>\n",
       "      <td>28</td>\n",
       "      <td>3</td>\n",
       "    </tr>\n",
       "    <tr>\n",
       "      <th>Arbre</th>\n",
       "      <td>108</td>\n",
       "      <td>0</td>\n",
       "      <td>83</td>\n",
       "      <td>60</td>\n",
       "      <td>71</td>\n",
       "      <td>81</td>\n",
       "      <td>40</td>\n",
       "      <td>90</td>\n",
       "    </tr>\n",
       "    <tr>\n",
       "      <th>Faerun</th>\n",
       "      <td>60</td>\n",
       "      <td>83</td>\n",
       "      <td>0</td>\n",
       "      <td>63</td>\n",
       "      <td>12</td>\n",
       "      <td>21</td>\n",
       "      <td>39</td>\n",
       "      <td>57</td>\n",
       "    </tr>\n",
       "    <tr>\n",
       "      <th>Norrath</th>\n",
       "      <td>34</td>\n",
       "      <td>60</td>\n",
       "      <td>63</td>\n",
       "      <td>0</td>\n",
       "      <td>91</td>\n",
       "      <td>9</td>\n",
       "      <td>113</td>\n",
       "      <td>50</td>\n",
       "    </tr>\n",
       "    <tr>\n",
       "      <th>Snowdin</th>\n",
       "      <td>66</td>\n",
       "      <td>71</td>\n",
       "      <td>12</td>\n",
       "      <td>91</td>\n",
       "      <td>0</td>\n",
       "      <td>121</td>\n",
       "      <td>22</td>\n",
       "      <td>111</td>\n",
       "    </tr>\n",
       "    <tr>\n",
       "      <th>Straylight</th>\n",
       "      <td>34</td>\n",
       "      <td>81</td>\n",
       "      <td>21</td>\n",
       "      <td>9</td>\n",
       "      <td>121</td>\n",
       "      <td>0</td>\n",
       "      <td>130</td>\n",
       "      <td>27</td>\n",
       "    </tr>\n",
       "    <tr>\n",
       "      <th>Tambi</th>\n",
       "      <td>28</td>\n",
       "      <td>40</td>\n",
       "      <td>39</td>\n",
       "      <td>113</td>\n",
       "      <td>22</td>\n",
       "      <td>130</td>\n",
       "      <td>0</td>\n",
       "      <td>35</td>\n",
       "    </tr>\n",
       "    <tr>\n",
       "      <th>Tristram</th>\n",
       "      <td>3</td>\n",
       "      <td>90</td>\n",
       "      <td>57</td>\n",
       "      <td>50</td>\n",
       "      <td>111</td>\n",
       "      <td>27</td>\n",
       "      <td>35</td>\n",
       "      <td>0</td>\n",
       "    </tr>\n",
       "  </tbody>\n",
       "</table>\n",
       "</div>"
      ],
      "text/plain": [
       "               AlphaCentauri  Arbre  Faerun  Norrath  Snowdin  Straylight  \\\n",
       "AlphaCentauri              0    108      60       34       66          34   \n",
       "Arbre                    108      0      83       60       71          81   \n",
       "Faerun                    60     83       0       63       12          21   \n",
       "Norrath                   34     60      63        0       91           9   \n",
       "Snowdin                   66     71      12       91        0         121   \n",
       "Straylight                34     81      21        9      121           0   \n",
       "Tambi                     28     40      39      113       22         130   \n",
       "Tristram                   3     90      57       50      111          27   \n",
       "\n",
       "               Tambi  Tristram  \n",
       "AlphaCentauri     28         3  \n",
       "Arbre             40        90  \n",
       "Faerun            39        57  \n",
       "Norrath          113        50  \n",
       "Snowdin           22       111  \n",
       "Straylight       130        27  \n",
       "Tambi              0        35  \n",
       "Tristram          35         0  "
      ]
     },
     "execution_count": 6,
     "metadata": {},
     "output_type": "execute_result"
    }
   ],
   "source": [
    "for i in range(0,len(data)):\n",
    "    Grafo.loc[data.iloc[i,0],data.iloc[i,1]]=data.iloc[i,2]\n",
    "    Grafo.loc[data.iloc[i,1],data.iloc[i,0]]=data.iloc[i,2]\n",
    "Grafo"
   ]
  },
  {
   "cell_type": "markdown",
   "metadata": {
    "colab_type": "text",
    "id": "O8Xa4ZlPODhC"
   },
   "source": [
    "Codificando el metodo de Kruskal"
   ]
  },
  {
   "cell_type": "code",
   "execution_count": 7,
   "metadata": {
    "colab": {},
    "colab_type": "code",
    "id": "TEzqqeM3HF2w"
   },
   "outputs": [],
   "source": [
    "df2=data.sort_values([\"distancia\"], ascending=[True])\n",
    "Ruta=[df2.iloc[0,1], df2.iloc[0,0]]\n",
    "Distancia=[Grafo.loc[df2.iloc[0,1], df2.iloc[0,0]]]\n",
    "for i in range(len(Puntos)-2):\n",
    "    aux=100000\n",
    "    for j in range(len(Puntos)):\n",
    "        if Ruta[-1]!=Puntos[j]:##para no considerar el 0\n",
    "            if Puntos[j] in Ruta:###para verificar que no se encuentre en la lista\n",
    "                continue\n",
    "            else: \n",
    "                if Grafo.loc[Ruta[-1],Puntos[j]]<aux:\n",
    "                    aux=Grafo.loc[Ruta[-1],Puntos[j]]###la distancia min que se va actualizando\n",
    "                    Vamos={aux:Puntos[j]}\n",
    "    Ruta.append(Vamos[aux])\n",
    "    Distancia.append(aux)"
   ]
  },
  {
   "cell_type": "code",
   "execution_count": 8,
   "metadata": {
    "colab": {
     "base_uri": "https://localhost:8080/",
     "height": 51
    },
    "colab_type": "code",
    "id": "_hKEe9x6NXr_",
    "outputId": "4da4f45e-e869-48bd-b5e6-20c0a272240f"
   },
   "outputs": [
    {
     "name": "stdout",
     "output_type": "stream",
     "text": [
      "Distancia mínima:  155\n",
      "Recorrido:  ['Tristram', 'AlphaCentauri', 'Tambi', 'Snowdin', 'Faerun', 'Straylight', 'Norrath', 'Arbre']\n"
     ]
    }
   ],
   "source": [
    "dist_min = sum(Distancia)\n",
    "print(\"Distancia mínima: \", dist_min)\n",
    "ruta_list = []\n",
    "[ruta_list.append(i) for i in Ruta]\n",
    "print(\"Recorrido: \", ruta_list)"
   ]
  },
  {
   "cell_type": "markdown",
   "metadata": {
    "colab_type": "text",
    "id": "I2v_0fsQHHw9"
   },
   "source": [
    "**Ensamble Kruskal y Montecarlo**\n",
    "Para solucionar  los problemas , tales como el Método Montecarlo que necesita muchas iteraciones para poder tener un mejor resultado, ocasionando un costo computacional muy alto respecto a otras tecnicas y el Algoritmo de Kruskal que no evalúa todos los escenarios posibles debido a que generalmente su punto de partida son aquellos valores con menos pesos. Nosotros hemos aprovechado las bondades que tiene cada tecnica para así minimizar sus desventajas, a través de un Modelo de Ensamble \"Kruskal y Montecarlo\" que resuelve de manera optima este problema de buscar el camino más corto en un menor tiempo"
   ]
  },
  {
   "cell_type": "code",
   "execution_count": 9,
   "metadata": {
    "colab": {},
    "colab_type": "code",
    "id": "zKcGMlxyGwCX"
   },
   "outputs": [],
   "source": [
    "x=np.array(range(len(data)))\n",
    "y=np.array(range(2))\n",
    "ruta_total=[]\n",
    "distancia_total=[]\n",
    "for i in range(100):\n",
    "    shuffle(x)\n",
    "    X=[x]\n",
    "    shuffle(y)\n",
    "    Y=[y]\n",
    "    df2=data.sort_values([\"distancia\"], ascending=[True])\n",
    "    Ruta=[df2.iloc[X[0][0],Y[0][0]], df2.iloc[X[0][0],Y[0][1]]]\n",
    "    Distancia=[(Grafo.loc[df2.iloc[X[0][0],Y[0][0]], df2.iloc[X[0][0],Y[0][1]]])]\n",
    "    for i in range(len(Puntos)-2):\n",
    "        aux=100000\n",
    "        for j in range(len(Puntos)):\n",
    "            if Ruta[-1]!=Puntos[j]:##para no considerar el 0\n",
    "                if Puntos[j] in Ruta:###para verificar que no se encuentre en la lista\n",
    "                    continue\n",
    "                else: \n",
    "                    if Grafo.loc[Ruta[-1],Puntos[j]]<aux:\n",
    "                        aux=Grafo.loc[Ruta[-1],Puntos[j]]###la distancia min que se va actualizando\n",
    "                        Vamos={aux:Puntos[j]}                \n",
    "        Ruta.append(Vamos[aux])\n",
    "        Distancia.append(aux)\n",
    "    ruta_total.append(Ruta)\n",
    "    distancia_total.append(Distancia)"
   ]
  },
  {
   "cell_type": "code",
   "execution_count": 10,
   "metadata": {
    "colab": {
     "base_uri": "https://localhost:8080/",
     "height": 68
    },
    "colab_type": "code",
    "id": "9SZYpvtVHfmF",
    "outputId": "612b78c1-8b8d-45ba-8b25-8a4b790654ef"
   },
   "outputs": [
    {
     "name": "stdout",
     "output_type": "stream",
     "text": [
      "Distancia en KM :  [40, 22, 12, 21, 9, 34, 3]\n",
      "Ruta Optima:  ['Arbre', 'Tambi', 'Snowdin', 'Faerun', 'Straylight', 'Norrath', 'AlphaCentauri', 'Tristram']\n",
      "Distancia mínima:  141\n"
     ]
    }
   ],
   "source": [
    "dist_min=min([sum(i) for i in distancia_total ])\n",
    "dist_min\n",
    "cont=0\n",
    "\n",
    "for i in distancia_total:\n",
    "    if sum(i)==dist_min: \n",
    "        index=cont\n",
    "        break\n",
    "    cont+=1\n",
    "    \n",
    "print(\"Distancia en KM : \",distancia_total[index])\n",
    "print(\"Ruta Optima: \", ruta_total[index])\n",
    "print(\"Distancia mínima: \",dist_min)"
   ]
  },
  {
   "cell_type": "code",
   "execution_count": null,
   "metadata": {
    "colab": {},
    "colab_type": "code",
    "id": "9vraNKfbHfuj"
   },
   "outputs": [],
   "source": []
  },
  {
   "cell_type": "markdown",
   "metadata": {
    "colab_type": "text",
    "id": "OcmZRNbRHqce"
   },
   "source": [
    "**Conclusión**"
   ]
  },
  {
   "cell_type": "markdown",
   "metadata": {
    "colab_type": "text",
    "id": "EoHIJyX70lPD"
   },
   "source": [
    "En un primer momento, resolvimos en problema empleado el Método Montecarlo. Este método es muy ventajoso en un primer momento cuando un problema es complejo. Sin embargo, la más grande deficiencia de está técnica es que se requiere de un número muy grande de escenarios para lograr una eficiencia aceptable. Es por ello que fue punto de partida para resolver el problema. \n",
    "\n",
    "Por otra parte, se desarrollo otro metodo de busqueda en grafos como es el Kruskal, este método es muy rápido y llega a una solución aceptable. Sin embargo, este método no evalua más escenarios posibles. \n",
    "\n",
    "Razón por la cual, hemos realizado el método Kruskal y realizado escenarios posibles para mejorar el rendimiento.\n",
    "\n",
    "En la cual se obtuvo como resultado que la distancia mínima es **141** y la ruta óptima \n",
    "\n",
    "Arbre -> Tambi -> Snowdin -> Faerun -> Straylight -> Norrath -> AlphaCentauri -> Tristram\n"
   ]
  }
 ],
 "metadata": {
  "colab": {
   "collapsed_sections": [],
   "name": "ConcursoFinal.ipynb",
   "provenance": [],
   "version": "0.3.2"
  },
  "kernelspec": {
   "display_name": "Python 3",
   "language": "python",
   "name": "python3"
  },
  "language_info": {
   "codemirror_mode": {
    "name": "ipython",
    "version": 3
   },
   "file_extension": ".py",
   "mimetype": "text/x-python",
   "name": "python",
   "nbconvert_exporter": "python",
   "pygments_lexer": "ipython3",
   "version": "3.6.5"
  }
 },
 "nbformat": 4,
 "nbformat_minor": 2
}
