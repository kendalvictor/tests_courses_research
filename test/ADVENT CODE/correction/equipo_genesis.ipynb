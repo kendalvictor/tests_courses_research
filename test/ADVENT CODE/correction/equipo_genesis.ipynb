{
 "cells": [
  {
   "cell_type": "code",
   "execution_count": 1,
   "metadata": {},
   "outputs": [
    {
     "name": "stdout",
     "output_type": "stream",
     "text": [
      "Ruta = ['Straylight', 'Norrath', 'Faerun', 'Tristram', 'AlphaCentauri', 'Snowdin', 'Tambi', 'Arbre'], distancia = 260\n"
     ]
    }
   ],
   "source": [
    "def clear(line):\n",
    "    return line.replace(\" \",\"\")\n",
    "\n",
    "def sep(line):\n",
    "    city1,line = line.split(\"to\")\n",
    "    city2,dist = line.split(\"=\")\n",
    "    dist = int(dist)\n",
    "    city1 = clear(city1)\n",
    "    city2 = clear(city2)\n",
    "    return city1,city2,dist\n",
    "def putCitys(c1,c2,d):\n",
    "    try:\n",
    "        distances[c1][c2]=d\n",
    "    except:\n",
    "        distances[c1]={}\n",
    "        distances[c1][c2]=d\n",
    "\n",
    "nodes=[]\n",
    "distances={}\n",
    "rptaRuta=99999999\n",
    "rptalistaCiudad=[]\n",
    "f = open(\"routes.txt\",\"r\")\n",
    "for line in f:\n",
    "    c1,c2,d = sep(line)\n",
    "    if c1 not in nodes:\n",
    "        nodes.append(c1)\n",
    "    if c2 not in nodes:\n",
    "        nodes.append(c2)\n",
    "    putCitys(c1,c2,d)\n",
    "    putCitys(c2,c1,d)\n",
    "\n",
    "for start in nodes:\n",
    "    current = start\n",
    "    currentDistance = 0\n",
    "    unvisited = {node: None for node in nodes} \n",
    "    visited = {}\n",
    "    unvisited[current] = currentDistance\n",
    "\n",
    "    while True:\n",
    "        for neighbour, distance in distances[current].items():\n",
    "            if neighbour not in unvisited: continue\n",
    "            newDistance = currentDistance + distance\n",
    "            if unvisited[neighbour] is None or unvisited[neighbour] > newDistance:\n",
    "                unvisited[neighbour] = newDistance\n",
    "        visited[current] = currentDistance\n",
    "        del unvisited[current]\n",
    "        if not unvisited: break\n",
    "        candidates = [node for node in unvisited.items() if node[1]]\n",
    "        current, currentDistance = sorted(candidates, key = lambda x: x[1])[0]\n",
    "    startRuta=start\n",
    "    ruta =0\n",
    "    listaCity=[]\n",
    "    for ciudad,_ in visited.items():\n",
    "        listaCity.append(ciudad)\n",
    "        if start != ciudad:\n",
    "            ruta = ruta + distances[startRuta][ciudad]\n",
    "            startRuta = ciudad\n",
    "    #print(\"ruta\",ruta)\n",
    "    if ruta <= rptaRuta:\n",
    "        rptaRuta = ruta\n",
    "        rptalistaCiudad = listaCity\n",
    "\n",
    "print(\"Ruta = {}, distancia = {}\".format(rptalistaCiudad,rptaRuta))"
   ]
  },
  {
   "cell_type": "code",
   "execution_count": null,
   "metadata": {},
   "outputs": [],
   "source": []
  }
 ],
 "metadata": {
  "kernelspec": {
   "display_name": "Python 3",
   "language": "python",
   "name": "python3"
  },
  "language_info": {
   "codemirror_mode": {
    "name": "ipython",
    "version": 3
   },
   "file_extension": ".py",
   "mimetype": "text/x-python",
   "name": "python",
   "nbconvert_exporter": "python",
   "pygments_lexer": "ipython3",
   "version": "3.6.5"
  }
 },
 "nbformat": 4,
 "nbformat_minor": 2
}
