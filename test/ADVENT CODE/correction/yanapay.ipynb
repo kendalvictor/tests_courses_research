{
 "cells": [
  {
   "cell_type": "markdown",
   "metadata": {},
   "source": [
    "## Datathon URP"
   ]
  },
  {
   "cell_type": "code",
   "execution_count": 1,
   "metadata": {},
   "outputs": [],
   "source": [
    "import pandas as pd\n",
    "import re"
   ]
  },
  {
   "cell_type": "code",
   "execution_count": 2,
   "metadata": {},
   "outputs": [],
   "source": [
    "dataset = pd.read_csv(\"rutas.txt\", encoding='UTF-8')"
   ]
  },
  {
   "cell_type": "code",
   "execution_count": 3,
   "metadata": {},
   "outputs": [],
   "source": [
    "first_row = pd.DataFrame([list(dataset.columns)],\n",
    "                         columns=['Routes'])"
   ]
  },
  {
   "cell_type": "code",
   "execution_count": 4,
   "metadata": {},
   "outputs": [],
   "source": [
    "#dataset.columns = ['Routes']\n",
    "dataset.rename(columns= {'AlphaCentauri to Snowdin = 66': 'Routes'}, inplace=True)"
   ]
  },
  {
   "cell_type": "code",
   "execution_count": 5,
   "metadata": {},
   "outputs": [],
   "source": [
    "routes = dataset.append(first_row, ignore_index=True)"
   ]
  },
  {
   "cell_type": "code",
   "execution_count": 6,
   "metadata": {},
   "outputs": [],
   "source": [
    "def return_origin(c):\n",
    "    result = c.split(\"to\")\n",
    "    return result[0].replace(\" \", \"\").replace(\"\\t\", \"\")"
   ]
  },
  {
   "cell_type": "code",
   "execution_count": 7,
   "metadata": {},
   "outputs": [],
   "source": [
    "routes['Origin'] = routes['Routes'].apply(lambda c: return_origin(c))"
   ]
  },
  {
   "cell_type": "code",
   "execution_count": 8,
   "metadata": {},
   "outputs": [],
   "source": [
    "def return_destination(c):\n",
    "    result = c.split(\" \")\n",
    "    return result[2].replace(\" \", \"\").replace(\"\\t\", \"\")"
   ]
  },
  {
   "cell_type": "code",
   "execution_count": 9,
   "metadata": {},
   "outputs": [],
   "source": [
    "routes['Destination'] = routes['Routes'].apply(lambda c: return_destination(c))"
   ]
  },
  {
   "cell_type": "code",
   "execution_count": 10,
   "metadata": {},
   "outputs": [],
   "source": [
    "def return_distance(c):\n",
    "    result = re.findall(r'\\d+', c)\n",
    "    return result[0]"
   ]
  },
  {
   "cell_type": "code",
   "execution_count": 11,
   "metadata": {},
   "outputs": [],
   "source": [
    "routes['Distance'] = routes['Routes'].apply(lambda c: return_distance(c))"
   ]
  },
  {
   "cell_type": "code",
   "execution_count": 12,
   "metadata": {},
   "outputs": [],
   "source": [
    "routes.drop('Routes', axis=1, inplace=True)"
   ]
  },
  {
   "cell_type": "code",
   "execution_count": 13,
   "metadata": {},
   "outputs": [
    {
     "data": {
      "text/html": [
       "<div>\n",
       "<style scoped>\n",
       "    .dataframe tbody tr th:only-of-type {\n",
       "        vertical-align: middle;\n",
       "    }\n",
       "\n",
       "    .dataframe tbody tr th {\n",
       "        vertical-align: top;\n",
       "    }\n",
       "\n",
       "    .dataframe thead th {\n",
       "        text-align: right;\n",
       "    }\n",
       "</style>\n",
       "<table border=\"1\" class=\"dataframe\">\n",
       "  <thead>\n",
       "    <tr style=\"text-align: right;\">\n",
       "      <th></th>\n",
       "      <th>Origin</th>\n",
       "      <th>Destination</th>\n",
       "      <th>Distance</th>\n",
       "    </tr>\n",
       "  </thead>\n",
       "  <tbody>\n",
       "    <tr>\n",
       "      <th>0</th>\n",
       "      <td>AlphaCentauri</td>\n",
       "      <td>Tambi</td>\n",
       "      <td>28</td>\n",
       "    </tr>\n",
       "    <tr>\n",
       "      <th>1</th>\n",
       "      <td>AlphaCentauri</td>\n",
       "      <td>Faerun</td>\n",
       "      <td>60</td>\n",
       "    </tr>\n",
       "    <tr>\n",
       "      <th>2</th>\n",
       "      <td>AlphaCentauri</td>\n",
       "      <td>Norrath</td>\n",
       "      <td>34</td>\n",
       "    </tr>\n",
       "    <tr>\n",
       "      <th>3</th>\n",
       "      <td>AlphaCentauri</td>\n",
       "      <td>Straylight</td>\n",
       "      <td>34</td>\n",
       "    </tr>\n",
       "    <tr>\n",
       "      <th>4</th>\n",
       "      <td>AlphaCentauri</td>\n",
       "      <td>Tristram</td>\n",
       "      <td>3</td>\n",
       "    </tr>\n",
       "    <tr>\n",
       "      <th>5</th>\n",
       "      <td>AlphaCentauri</td>\n",
       "      <td>Arbre</td>\n",
       "      <td>108</td>\n",
       "    </tr>\n",
       "    <tr>\n",
       "      <th>6</th>\n",
       "      <td>Snowdin</td>\n",
       "      <td>Tambi</td>\n",
       "      <td>22</td>\n",
       "    </tr>\n",
       "    <tr>\n",
       "      <th>7</th>\n",
       "      <td>Snowdin</td>\n",
       "      <td>Faerun</td>\n",
       "      <td>12</td>\n",
       "    </tr>\n",
       "    <tr>\n",
       "      <th>8</th>\n",
       "      <td>Snowdin</td>\n",
       "      <td>Norrath</td>\n",
       "      <td>91</td>\n",
       "    </tr>\n",
       "    <tr>\n",
       "      <th>9</th>\n",
       "      <td>Snowdin</td>\n",
       "      <td>Straylight</td>\n",
       "      <td>121</td>\n",
       "    </tr>\n",
       "    <tr>\n",
       "      <th>10</th>\n",
       "      <td>Snowdin</td>\n",
       "      <td>Tristram</td>\n",
       "      <td>111</td>\n",
       "    </tr>\n",
       "    <tr>\n",
       "      <th>11</th>\n",
       "      <td>Snowdin</td>\n",
       "      <td>Arbre</td>\n",
       "      <td>71</td>\n",
       "    </tr>\n",
       "    <tr>\n",
       "      <th>12</th>\n",
       "      <td>Tambi</td>\n",
       "      <td>Faerun</td>\n",
       "      <td>39</td>\n",
       "    </tr>\n",
       "    <tr>\n",
       "      <th>13</th>\n",
       "      <td>Tambi</td>\n",
       "      <td>Norrath</td>\n",
       "      <td>113</td>\n",
       "    </tr>\n",
       "    <tr>\n",
       "      <th>14</th>\n",
       "      <td>Tambi</td>\n",
       "      <td>Straylight</td>\n",
       "      <td>130</td>\n",
       "    </tr>\n",
       "    <tr>\n",
       "      <th>15</th>\n",
       "      <td>Tambi</td>\n",
       "      <td>Tristram</td>\n",
       "      <td>35</td>\n",
       "    </tr>\n",
       "    <tr>\n",
       "      <th>16</th>\n",
       "      <td>Tambi</td>\n",
       "      <td>Arbre</td>\n",
       "      <td>40</td>\n",
       "    </tr>\n",
       "    <tr>\n",
       "      <th>17</th>\n",
       "      <td>Faerun</td>\n",
       "      <td>Norrath</td>\n",
       "      <td>63</td>\n",
       "    </tr>\n",
       "    <tr>\n",
       "      <th>18</th>\n",
       "      <td>Faerun</td>\n",
       "      <td>Straylight</td>\n",
       "      <td>21</td>\n",
       "    </tr>\n",
       "    <tr>\n",
       "      <th>19</th>\n",
       "      <td>Faerun</td>\n",
       "      <td>Tristram</td>\n",
       "      <td>57</td>\n",
       "    </tr>\n",
       "    <tr>\n",
       "      <th>20</th>\n",
       "      <td>Faerun</td>\n",
       "      <td>Arbre</td>\n",
       "      <td>83</td>\n",
       "    </tr>\n",
       "    <tr>\n",
       "      <th>21</th>\n",
       "      <td>Norrath</td>\n",
       "      <td>Straylight</td>\n",
       "      <td>9</td>\n",
       "    </tr>\n",
       "    <tr>\n",
       "      <th>22</th>\n",
       "      <td>Norrath</td>\n",
       "      <td>Tristram</td>\n",
       "      <td>50</td>\n",
       "    </tr>\n",
       "    <tr>\n",
       "      <th>23</th>\n",
       "      <td>Norrath</td>\n",
       "      <td>Arbre</td>\n",
       "      <td>60</td>\n",
       "    </tr>\n",
       "    <tr>\n",
       "      <th>24</th>\n",
       "      <td>Straylight</td>\n",
       "      <td>Tristram</td>\n",
       "      <td>27</td>\n",
       "    </tr>\n",
       "    <tr>\n",
       "      <th>25</th>\n",
       "      <td>Straylight</td>\n",
       "      <td>Arbre</td>\n",
       "      <td>81</td>\n",
       "    </tr>\n",
       "    <tr>\n",
       "      <th>26</th>\n",
       "      <td>Tristram</td>\n",
       "      <td>Arbre</td>\n",
       "      <td>90</td>\n",
       "    </tr>\n",
       "    <tr>\n",
       "      <th>27</th>\n",
       "      <td>AlphaCentauri</td>\n",
       "      <td>Snowdin</td>\n",
       "      <td>66</td>\n",
       "    </tr>\n",
       "  </tbody>\n",
       "</table>\n",
       "</div>"
      ],
      "text/plain": [
       "           Origin Destination Distance\n",
       "0   AlphaCentauri       Tambi       28\n",
       "1   AlphaCentauri      Faerun       60\n",
       "2   AlphaCentauri     Norrath       34\n",
       "3   AlphaCentauri  Straylight       34\n",
       "4   AlphaCentauri    Tristram        3\n",
       "5   AlphaCentauri       Arbre      108\n",
       "6         Snowdin       Tambi       22\n",
       "7         Snowdin      Faerun       12\n",
       "8         Snowdin     Norrath       91\n",
       "9         Snowdin  Straylight      121\n",
       "10        Snowdin    Tristram      111\n",
       "11        Snowdin       Arbre       71\n",
       "12          Tambi      Faerun       39\n",
       "13          Tambi     Norrath      113\n",
       "14          Tambi  Straylight      130\n",
       "15          Tambi    Tristram       35\n",
       "16          Tambi       Arbre       40\n",
       "17         Faerun     Norrath       63\n",
       "18         Faerun  Straylight       21\n",
       "19         Faerun    Tristram       57\n",
       "20         Faerun       Arbre       83\n",
       "21        Norrath  Straylight        9\n",
       "22        Norrath    Tristram       50\n",
       "23        Norrath       Arbre       60\n",
       "24     Straylight    Tristram       27\n",
       "25     Straylight       Arbre       81\n",
       "26       Tristram       Arbre       90\n",
       "27  AlphaCentauri     Snowdin       66"
      ]
     },
     "execution_count": 13,
     "metadata": {},
     "output_type": "execute_result"
    }
   ],
   "source": [
    "routes"
   ]
  },
  {
   "cell_type": "code",
   "execution_count": 14,
   "metadata": {},
   "outputs": [],
   "source": [
    "dest_dest = []\n",
    "resultList = []\n",
    "low_route = []\n",
    "org_dest = []\n",
    "total = []\n",
    "def print_all_posible_routes(origin, destine, routes):\n",
    "    for index, route in routes.iterrows():\n",
    "        if(route.Origin == origin):\n",
    "            org_dest.append(route.Destination)\n",
    "            total.append([origin, route.Destination, route.Distance])\n",
    "    eval_next_route(org_dest, destine, routes)\n",
    "    show_all_routes(total, dest_dest)\n",
    "    \n",
    "def evalRoutes(low_route):\n",
    "    if (len(low_route) == 0):\n",
    "        return \"\"\n",
    "    else:\n",
    "        return str(min(low_route))\n",
    "    \n",
    "def show_all_routes(total, dest_dest):\n",
    "    for j in dest_dest:\n",
    "        for t in total:\n",
    "            if(t[1] == j[0]):\n",
    "                a = int(t[2])+int(j[2])\n",
    "                low_route.append(a)\n",
    "                print(t[0]+ \"-->\" + t[1]+ \"-->\" + j[1] + \"=\" + str(a))\n",
    "                resultList.append(list(set().union(t,j)))\n",
    "    print(\"No hay ruta corta\") if evalRoutes(low_route) == \"\" else print(\"La Ruta Mas corta es : \"+ evalRoutes(low_route))\n",
    "    \n",
    "    \n",
    "def eval_next_route(org_dest, destine, routes):\n",
    "    for index, route in routes.iterrows():\n",
    "        for next_dest in org_dest:\n",
    "            if (route.Origin == next_dest and route.Destination == destine):\n",
    "                dest_dest.append([next_dest, route.Destination, route.Distance])"
   ]
  },
  {
   "cell_type": "code",
   "execution_count": 15,
   "metadata": {},
   "outputs": [
    {
     "name": "stdout",
     "output_type": "stream",
     "text": [
      "AlphaCentauri-->Snowdin-->Faerun=78\n",
      "AlphaCentauri-->Tambi-->Faerun=67\n",
      "La Ruta Mas corta es : 67\n"
     ]
    }
   ],
   "source": [
    "print_all_posible_routes('AlphaCentauri', 'Faerun', routes)"
   ]
  },
  {
   "cell_type": "code",
   "execution_count": 16,
   "metadata": {},
   "outputs": [
    {
     "data": {
      "text/plain": [
       "[['Snowdin', 'Faerun', '12'], ['Tambi', 'Faerun', '39']]"
      ]
     },
     "execution_count": 16,
     "metadata": {},
     "output_type": "execute_result"
    }
   ],
   "source": [
    "dest_dest"
   ]
  },
  {
   "cell_type": "code",
   "execution_count": null,
   "metadata": {},
   "outputs": [],
   "source": []
  }
 ],
 "metadata": {
  "kernelspec": {
   "display_name": "Python 3",
   "language": "python",
   "name": "python3"
  },
  "language_info": {
   "codemirror_mode": {
    "name": "ipython",
    "version": 3
   },
   "file_extension": ".py",
   "mimetype": "text/x-python",
   "name": "python",
   "nbconvert_exporter": "python",
   "pygments_lexer": "ipython3",
   "version": "3.6.5"
  }
 },
 "nbformat": 4,
 "nbformat_minor": 2
}
