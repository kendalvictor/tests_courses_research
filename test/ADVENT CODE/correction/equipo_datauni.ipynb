{
 "cells": [
  {
   "cell_type": "markdown",
   "metadata": {},
   "source": [
    "# Distancia más corta a recorrer"
   ]
  },
  {
   "cell_type": "code",
   "execution_count": 1,
   "metadata": {},
   "outputs": [],
   "source": [
    "import pandas as pd\n",
    "from itertools import permutations\n",
    "import numpy as np\n",
    "import re"
   ]
  },
  {
   "cell_type": "code",
   "execution_count": 2,
   "metadata": {},
   "outputs": [],
   "source": [
    "# leemos el archivo\n",
    "rutas = \"\"\"AlphaCentauri to Snowdin = 66\n",
    "AlphaCentauri to Tambi = 28\n",
    "AlphaCentauri to Faerun = 60\n",
    "AlphaCentauri to Norrath = 34\n",
    "AlphaCentauri to Straylight = 34\n",
    "AlphaCentauri to Tristram = 3\n",
    "AlphaCentauri to Arbre = 108\n",
    "Snowdin to Tambi = 22\n",
    "Snowdin to Faerun = 12\n",
    "Snowdin to Norrath = 91\n",
    "Snowdin to Straylight = 121\n",
    "Snowdin to Tristram = 111\n",
    "Snowdin to Arbre = 71\n",
    "Tambi to Faerun = 39\n",
    "Tambi to Norrath = 113\n",
    "Tambi to Straylight = 130\n",
    "Tambi to Tristram = 35\n",
    "Tambi to Arbre = 40\n",
    "Faerun to Norrath = 63\n",
    "Faerun to Straylight = 21\n",
    "Faerun to Tristram = 57\n",
    "Faerun to Arbre = 83\n",
    "Norrath to Straylight = 9\n",
    "Norrath to Tristram = 50\n",
    "Norrath to Arbre = 60\n",
    "Straylight to Tristram = 27\n",
    "Straylight to Arbre = 81\n",
    "Tristram to Arbre = 90\"\"\""
   ]
  },
  {
   "cell_type": "code",
   "execution_count": 3,
   "metadata": {},
   "outputs": [
    {
     "data": {
      "text/plain": [
       "'AlphaCentauri to Snowdin = 66\\nAlphaCentauri to Tambi = 28\\nAlphaCentauri to Faerun = 60\\nAlphaCentauri to Norrath = 34\\nAlphaCentauri to Straylight = 34\\nAlphaCentauri to Tristram = 3\\nAlphaCentauri to Arbre = 108\\nSnowdin to Tambi = 22\\nSnowdin to Faerun = 12\\nSnowdin to Norrath = 91\\nSnowdin to Straylight = 121\\nSnowdin to Tristram = 111\\nSnowdin to Arbre = 71\\nTambi to Faerun = 39\\nTambi to Norrath = 113\\nTambi to Straylight = 130\\nTambi to Tristram = 35\\nTambi to Arbre = 40\\nFaerun to Norrath = 63\\nFaerun to Straylight = 21\\nFaerun to Tristram = 57\\nFaerun to Arbre = 83\\nNorrath to Straylight = 9\\nNorrath to Tristram = 50\\nNorrath to Arbre = 60\\nStraylight to Tristram = 27\\nStraylight to Arbre = 81\\nTristram to Arbre = 90'"
      ]
     },
     "execution_count": 3,
     "metadata": {},
     "output_type": "execute_result"
    }
   ],
   "source": [
    "rutas"
   ]
  },
  {
   "cell_type": "code",
   "execution_count": 4,
   "metadata": {},
   "outputs": [],
   "source": [
    "ubica = set()\n",
    "distancias = {}"
   ]
  },
  {
   "cell_type": "code",
   "execution_count": 5,
   "metadata": {},
   "outputs": [
    {
     "data": {
      "text/plain": [
       "set()"
      ]
     },
     "execution_count": 5,
     "metadata": {},
     "output_type": "execute_result"
    }
   ],
   "source": [
    "ubica"
   ]
  },
  {
   "cell_type": "code",
   "execution_count": 6,
   "metadata": {},
   "outputs": [],
   "source": [
    "## para la línea en rutas líneas divididas hacemos\n",
    "for line in rutas.splitlines():\n",
    "    match = re.match(r'(\\w+) to (\\w+) = (\\d+)', line)\n",
    "    inicio = match.group(1)\n",
    "    fin = match.group(2)\n",
    "    d = int(match.group(3))\n",
    "    \n",
    "    distancias[(inicio, fin)] = d\n",
    "    distancias[(fin, inicio)] = d\n",
    "    ubica.add(inicio)\n",
    "    ubica.add(fin)"
   ]
  },
  {
   "cell_type": "code",
   "execution_count": 7,
   "metadata": {},
   "outputs": [],
   "source": [
    "def d(ruta):\n",
    "    return sum(distancias[(ruta[r], ruta[r + 1])] for r in range(len(ruta) - 1))"
   ]
  },
  {
   "cell_type": "code",
   "execution_count": 8,
   "metadata": {},
   "outputs": [
    {
     "name": "stdout",
     "output_type": "stream",
     "text": [
      "el mínimo recorrido es: 141\n"
     ]
    }
   ],
   "source": [
    "print ('el mínimo recorrido es:' ,  min(d(permutacion) for permutacion in permutations(ubica)))"
   ]
  },
  {
   "cell_type": "code",
   "execution_count": null,
   "metadata": {},
   "outputs": [],
   "source": []
  }
 ],
 "metadata": {
  "kernelspec": {
   "display_name": "Python 3",
   "language": "python",
   "name": "python3"
  },
  "language_info": {
   "codemirror_mode": {
    "name": "ipython",
    "version": 3
   },
   "file_extension": ".py",
   "mimetype": "text/x-python",
   "name": "python",
   "nbconvert_exporter": "python",
   "pygments_lexer": "ipython3",
   "version": "3.6.5"
  }
 },
 "nbformat": 4,
 "nbformat_minor": 2
}
