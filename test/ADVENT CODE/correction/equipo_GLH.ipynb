{
 "cells": [
  {
   "cell_type": "code",
   "execution_count": 1,
   "metadata": {
    "collapsed": true
   },
   "outputs": [],
   "source": [
    "import pandas as pd\n",
    "import numpy as np"
   ]
  },
  {
   "cell_type": "markdown",
   "metadata": {},
   "source": [
    "## LECTURA DEL ARCHIVO"
   ]
  },
  {
   "cell_type": "markdown",
   "metadata": {},
   "source": [
    "Para leer el archivo se usará la librería pandas y su función read_csv, es necesario una línea de código."
   ]
  },
  {
   "cell_type": "code",
   "execution_count": 2,
   "metadata": {},
   "outputs": [],
   "source": [
    "def leer_archivo(nombre_archivo):\n",
    "    return pd.read_csv(nombre_archivo,sep=' ',\n",
    "                                 names=['ciudad_A','','ciudad_B',' ','distancia'],\n",
    "                                 usecols=['ciudad_A','ciudad_B','distancia'],header=None)"
   ]
  },
  {
   "cell_type": "code",
   "execution_count": 3,
   "metadata": {},
   "outputs": [
    {
     "data": {
      "text/html": [
       "<div>\n",
       "<style scoped>\n",
       "    .dataframe tbody tr th:only-of-type {\n",
       "        vertical-align: middle;\n",
       "    }\n",
       "\n",
       "    .dataframe tbody tr th {\n",
       "        vertical-align: top;\n",
       "    }\n",
       "\n",
       "    .dataframe thead th {\n",
       "        text-align: right;\n",
       "    }\n",
       "</style>\n",
       "<table border=\"1\" class=\"dataframe\">\n",
       "  <thead>\n",
       "    <tr style=\"text-align: right;\">\n",
       "      <th></th>\n",
       "      <th>ciudad_A</th>\n",
       "      <th>ciudad_B</th>\n",
       "      <th>distancia</th>\n",
       "    </tr>\n",
       "  </thead>\n",
       "  <tbody>\n",
       "    <tr>\n",
       "      <th>0</th>\n",
       "      <td>AlphaCentauri</td>\n",
       "      <td>Snowdin</td>\n",
       "      <td>66</td>\n",
       "    </tr>\n",
       "    <tr>\n",
       "      <th>1</th>\n",
       "      <td>AlphaCentauri</td>\n",
       "      <td>Tambi</td>\n",
       "      <td>28</td>\n",
       "    </tr>\n",
       "    <tr>\n",
       "      <th>2</th>\n",
       "      <td>AlphaCentauri</td>\n",
       "      <td>Faerun</td>\n",
       "      <td>60</td>\n",
       "    </tr>\n",
       "    <tr>\n",
       "      <th>3</th>\n",
       "      <td>AlphaCentauri</td>\n",
       "      <td>Norrath</td>\n",
       "      <td>34</td>\n",
       "    </tr>\n",
       "    <tr>\n",
       "      <th>4</th>\n",
       "      <td>AlphaCentauri</td>\n",
       "      <td>Straylight</td>\n",
       "      <td>34</td>\n",
       "    </tr>\n",
       "  </tbody>\n",
       "</table>\n",
       "</div>"
      ],
      "text/plain": [
       "        ciudad_A    ciudad_B  distancia\n",
       "0  AlphaCentauri     Snowdin         66\n",
       "1  AlphaCentauri       Tambi         28\n",
       "2  AlphaCentauri      Faerun         60\n",
       "3  AlphaCentauri     Norrath         34\n",
       "4  AlphaCentauri  Straylight         34"
      ]
     },
     "execution_count": 3,
     "metadata": {},
     "output_type": "execute_result"
    }
   ],
   "source": [
    "ciudades_distancia = leer_archivo('rutas.txt')\n",
    "ciudades_distancia.head()"
   ]
  },
  {
   "cell_type": "markdown",
   "metadata": {},
   "source": [
    "## HALLAR DISTANCIA MÍNIMA"
   ]
  },
  {
   "cell_type": "markdown",
   "metadata": {},
   "source": [
    "Para hallar la distancia mínima para recorrer todas las ciudades se realizará lo siguiente:"
   ]
  },
  {
   "cell_type": "markdown",
   "metadata": {},
   "source": [
    "1. Elegir una ciudad de origen y agregarla en la ruta.\n",
    "2. Buscar la distancia mínima de esa ciudad con otra.\n",
    "3. Sumar la distancia mínima al recorrido total y agregar la otra ciudad a la ruta.\n",
    "4. Eliminar los registros de distancias de la ciudad de origen. (debido a que ya fue considerada)\n",
    "5. Aginar a la otra ciudad como cuidad de origen e iterar desde el paso 2.\n",
    "5. Finalizar cuando se haya considerado todas las ciudades.\n",
    "\n",
    "Como elegir solo una ciudad de origen no asegura la solución óptima, este proceso se iterará considerando a cada ciudad como origen."
   ]
  },
  {
   "cell_type": "markdown",
   "metadata": {},
   "source": [
    "Se selecciona todas las ciudades (valores únicos)"
   ]
  },
  {
   "cell_type": "code",
   "execution_count": 4,
   "metadata": {},
   "outputs": [
    {
     "name": "stdout",
     "output_type": "stream",
     "text": [
      "['Norrath', 'Straylight', 'Snowdin', 'Tambi', 'Arbre', 'Tristram', 'Faerun', 'AlphaCentauri']\n"
     ]
    }
   ],
   "source": [
    "ciudades = list(set(list(ciudades_distancia['ciudad_A'].unique())+list(ciudades_distancia['ciudad_B'].unique())))\n",
    "print(ciudades)"
   ]
  },
  {
   "cell_type": "code",
   "execution_count": 5,
   "metadata": {},
   "outputs": [],
   "source": [
    "def hallar_ruta(df,ciudades):\n",
    "    rutas_resultantes = [] # Se almacenará las rutas por cada iteración de ciudad de origen\n",
    "    distancias_resultantes = [] # Se almacenará las distancias totales por cada iteración de ciudad de origen\n",
    "    \n",
    "    # Bucle por cada ciudad\n",
    "    for i in range(len(ciudades)):\n",
    "        nodo = ciudades[i] # Ciudad de origen\n",
    "        ruta = [nodo] # Se agrega a la ruta\n",
    "        distancia = 0 # Se define la variable para distancia\n",
    "        df_aux = df.copy() # Se realiza una copia de la daya\n",
    "        # El bucle de ejecuta mientras haya registros en df_aux\n",
    "        while df_aux.shape[0]>0:\n",
    "            # Se busca la siguiente ciudad con distancia mínima (solo se toma uno en caso de que exista varias opciones)\n",
    "            Distancia_min = df_aux[df_aux.distancia == min(df_aux.distancia[(df_aux.ciudad_A == nodo) | (df_aux.ciudad_B == nodo)])].head(1)\n",
    "            # Se borra los registros con la ciudad de origen debido a que ya está considerado\n",
    "            df_aux = df_aux.drop(df_aux[(df_aux.ciudad_A == nodo) | (df_aux.ciudad_B == nodo)].index.tolist())\n",
    "            # Se suma la distancia\n",
    "            distancia += int(Distancia_min.distancia)\n",
    "            # Se actualiza la ciudad de origen\n",
    "            nodo = list(Distancia_min.ciudad_A)[0] if (nodo == list(Distancia_min.ciudad_B)[0]) else list(Distancia_min.ciudad_B)[0]\n",
    "            # Se agrega a la ruta\n",
    "            ruta.append(nodo)\n",
    "        # Se agrega la ruta resultante\n",
    "        rutas_resultantes.append(ruta)\n",
    "        # Se agrega la distancia resultante\n",
    "        distancias_resultantes.append(distancia)\n",
    "    \n",
    "    # Se halla la menor de las distancias\n",
    "    Menor_distancia = min(distancias_resultantes)\n",
    "    # Se halla la ruta con la menor de las distancias\n",
    "    Mejor_ruta = [rutas_resultantes[i] for i in range(len(distancias_resultantes)) if Menor_distancia == distancias_resultantes[i] ]\n",
    "    print(\"El mejor camino es \" , Mejor_ruta , \" Con una distancia total de \" , Menor_distancia)"
   ]
  },
  {
   "cell_type": "code",
   "execution_count": 6,
   "metadata": {},
   "outputs": [
    {
     "name": "stdout",
     "output_type": "stream",
     "text": [
      "El mejor camino es  [['Arbre', 'Tambi', 'Snowdin', 'Faerun', 'Straylight', 'Norrath', 'AlphaCentauri', 'Tristram']]  Con una distancia total de  141\n"
     ]
    }
   ],
   "source": [
    "hallar_ruta(ciudades_distancia,ciudades)"
   ]
  },
  {
   "cell_type": "markdown",
   "metadata": {},
   "source": [
    "###### Por lo tanto el resultado nos indica que la ditancia mínima es 141 y la ruta es ['Arbre', 'Tambi', 'Snowdin', 'Faerun', 'Straylight', 'Norrath', 'AlphaCentauri', 'Tristram']"
   ]
  },
  {
   "cell_type": "code",
   "execution_count": null,
   "metadata": {
    "collapsed": true
   },
   "outputs": [],
   "source": []
  }
 ],
 "metadata": {
  "kernelspec": {
   "display_name": "Python 3",
   "language": "python",
   "name": "python3"
  },
  "language_info": {
   "codemirror_mode": {
    "name": "ipython",
    "version": 3
   },
   "file_extension": ".py",
   "mimetype": "text/x-python",
   "name": "python",
   "nbconvert_exporter": "python",
   "pygments_lexer": "ipython3",
   "version": "3.6.5"
  }
 },
 "nbformat": 4,
 "nbformat_minor": 2
}
