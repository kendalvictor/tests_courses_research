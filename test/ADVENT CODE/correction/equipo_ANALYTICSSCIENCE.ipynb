{
 "cells": [
  {
   "cell_type": "code",
   "execution_count": 1,
   "metadata": {},
   "outputs": [],
   "source": [
    "\n",
    "import random, sys, math"
   ]
  },
  {
   "cell_type": "code",
   "execution_count": 2,
   "metadata": {},
   "outputs": [],
   "source": [
    "def eligeNodo(valors, ferom, visitados):\n",
    "    #Se calcula la tabla de pesos de cada ciudad\n",
    "    listaValores  = []\n",
    "    disponibles = []\n",
    "    actual      = visitados[-1]\n",
    "\n",
    "    # Influencia de cada valor (alfa: feromonas; beta: valor)\n",
    "    alfa = 1.0\n",
    "    beta = 0.5\n",
    "\n",
    "    # El parámetro beta (peso de los valores) es 0.5 y alfa=1.0\n",
    "    for i in range(len(valors)):\n",
    "        if i not in visitados:\n",
    "            fer  = math.pow((1.0 + ferom[actual][i]), alfa)\n",
    "            peso = math.pow(1.0/valors[actual][i], beta) * fer\n",
    "            disponibles.append(i)\n",
    "            listaValores.append(peso)\n",
    "\n",
    "    # Se elige aleatoriamente una de los nodos disponibles,\n",
    "    # teniendo en cuenta su peso relativo.\n",
    "    valor     = random.random() * sum(listaValores)\n",
    "    acumulado = 0.0\n",
    "    i         = -1\n",
    "    while valor > acumulado:\n",
    "        i         += 1\n",
    "        acumulado += listaValores[i]\n",
    "\n",
    "    return disponibles[i]"
   ]
  },
  {
   "cell_type": "code",
   "execution_count": 3,
   "metadata": {},
   "outputs": [],
   "source": [
    "def eligeCamino(matriz, feromonas):\n",
    "    # El nodo inicial siempre es el 0\n",
    "    camino     = [0]\n",
    "    longCamino = 0\n",
    "\n",
    "    # Elegir cada paso según los valores y las feromonas\n",
    "    while len(camino) < len(matriz):\n",
    "        nodo      = eligeNodo(matriz, feromonas, camino)\n",
    "        longCamino += matriz[camino[-1]][nodo]\n",
    "        camino.append(nodo)\n",
    "\n",
    "    # Para terminar hay que volver al nodo de origen (0)\n",
    "    longCamino += matriz [camino[-1]][0]\n",
    "    camino.append(0)\n",
    "\n",
    "    return (camino, longCamino)"
   ]
  },
  {
   "cell_type": "code",
   "execution_count": 4,
   "metadata": {},
   "outputs": [],
   "source": [
    "# Actualiza la matriz de feromonas siguiendo el camino recibido\n",
    "def rastroFeromonas(feromonas, camino, dosis):\n",
    "   for i in range (len(camino) - 1):\n",
    "       feromonas[camino[i]][camino[i+1]] += dosis\n"
   ]
  },
  {
   "cell_type": "code",
   "execution_count": 5,
   "metadata": {},
   "outputs": [],
   "source": [
    "# Evapora todas las feromonas multiplicándolas por una constante\n",
    "# = 0.9 ( en otras palabras, el coefienciente de evaporación es 0.1)\n",
    "def evaporaFeromonas(feromonas):     \n",
    "   for lista in feromonas:\n",
    "        for i in range(len(lista)):\n",
    "            lista[i] *= 0.9"
   ]
  },
  {
   "cell_type": "code",
   "execution_count": 6,
   "metadata": {},
   "outputs": [],
   "source": [
    "# Resuelve el problema del viajante de comercio mediante el\n",
    "# alforitmo de la colonia de hormigas. Recibe una matriz de\n",
    "# distancias y devuelve una tupla con el mejor camino que ha \n",
    "# obtenido (lista de índices) y su longitud"
   ]
  },
  {
   "cell_type": "code",
   "execution_count": 7,
   "metadata": {},
   "outputs": [],
   "source": [
    "def hormigas(matriz, iteraciones, distMedia):\n",
    "    n=len(matriz)\n",
    "    feromonas=[[0 for i in range(n)] for j in range(n)]\n",
    "    \n",
    "    mejorCamino = []\n",
    "    longMejorCamino = sys.maxsize\n",
    "    \n",
    "    for iter in range(iteraciones):\n",
    "        (camino, longCamino) = eligeCamino(matriz, feromonas)\n",
    "        \n",
    "        if longCamino <= longMejorCamino:\n",
    "            mejorCamino = camino\n",
    "            longMejorCamino = longCamino\n",
    "            \n",
    "        rastroFeromonas(feromonas, camino, distMedia/longCamino)\n",
    "        evaporaFeromonas (feromonas)\n",
    "    \n",
    "    return(mejorCamino, longMejorCamino)"
   ]
  },
  {
   "cell_type": "code",
   "execution_count": 8,
   "metadata": {},
   "outputs": [],
   "source": [
    "def matrizDistancias(n):\n",
    "    matriz=[[0 for i in range(n)] for j in range(n)]\n",
    "    \n",
    "    for i in range(n):\n",
    "        for j in range(i):\n",
    "            matriz[i][j] = i+1\n",
    "            matriz[j][i] = matriz[i][j]\n",
    "    return matriz"
   ]
  },
  {
   "cell_type": "code",
   "execution_count": 9,
   "metadata": {},
   "outputs": [],
   "source": [
    "numCiudades=8\n",
    "distanciaMaxima=130\n",
    "ciudades = matrizDistancias(numCiudades)"
   ]
  },
  {
   "cell_type": "code",
   "execution_count": 10,
   "metadata": {},
   "outputs": [
    {
     "name": "stdout",
     "output_type": "stream",
     "text": [
      "Camino:  [0, 1, 2, 4, 7, 6, 5, 3, 0]\n",
      "Longitud del camino:  43\n"
     ]
    }
   ],
   "source": [
    "iteraciones=1000\n",
    "distMedia = numCiudades*distanciaMaxima/2\n",
    "(camino, longCamino) = hormigas(ciudades, iteraciones, distMedia)\n",
    "print(\"Camino: \", camino)\n",
    "print(\"Longitud del camino: \", longCamino)"
   ]
  },
  {
   "cell_type": "code",
   "execution_count": null,
   "metadata": {},
   "outputs": [],
   "source": []
  }
 ],
 "metadata": {
  "kernelspec": {
   "display_name": "Python 3",
   "language": "python",
   "name": "python3"
  },
  "language_info": {
   "codemirror_mode": {
    "name": "ipython",
    "version": 3
   },
   "file_extension": ".py",
   "mimetype": "text/x-python",
   "name": "python",
   "nbconvert_exporter": "python",
   "pygments_lexer": "ipython3",
   "version": "3.6.5"
  }
 },
 "nbformat": 4,
 "nbformat_minor": 2
}
