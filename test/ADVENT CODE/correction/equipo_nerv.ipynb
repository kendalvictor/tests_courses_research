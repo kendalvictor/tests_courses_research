{
 "cells": [
  {
   "cell_type": "code",
   "execution_count": 5,
   "metadata": {},
   "outputs": [
    {
     "name": "stdout",
     "output_type": "stream",
     "text": [
      "La ruta mas corta es 141\n"
     ]
    }
   ],
   "source": [
    "class ShortestPath:\n",
    "\tdef __init__(self): \n",
    "\t\tself.places = set()\n",
    "\t\tself.distance_between_places = dict()\n",
    "\n",
    "\tdef read_file_txt(self, fileName):\n",
    "\t\tfile = open(fileName, \"r\")\n",
    "\t\tlines_routes = file.read().splitlines()\n",
    "\t\tfor line in lines_routes:\n",
    "\t\t\tplace1, to, place2, equal, distance = line.rstrip().split()\n",
    "\t\t\tself.places.add(place1)\n",
    "\t\t\tself.places.add(place2)\n",
    "\t\t\tif not place1 in self.distance_between_places:\n",
    "\t\t\t\tself.distance_between_places[place1] = dict()\n",
    "\t\t\tif not place2 in self.distance_between_places:\n",
    "\t\t\t\tself.distance_between_places[place2] = dict()\n",
    "\t\t\tself.distance_between_places[place1][place2] = distance\n",
    "\t\t\tself.distance_between_places[place2][place1] = distance\n",
    "\n",
    "\tdef move(self, distance, visited_places, location):\n",
    "\t\tvisited_places.append(location)\n",
    "\t\tif len(visited_places) == len(self.places):\n",
    "\t\t\treturn distance\n",
    "\n",
    "\t\ttotal_distance = -1\n",
    "\t\tfor destination in self.places:\n",
    "\t\t\tif destination not in visited_places:\n",
    "\t\t\t\tif destination in self.distance_between_places[location]:\n",
    "\t\t\t\t\tacc_distance = self.move(distance + int(self.distance_between_places[location][destination]), list(visited_places), destination)\n",
    "\t\t\t\t\tif total_distance == -1 or acc_distance < total_distance:\n",
    "\t\t\t\t\t\ttotal_distance = acc_distance\n",
    "\t\treturn total_distance\n",
    "\t\n",
    "\tdef calculate_shortest_path(self):\n",
    "\t\tvisited_places = []\n",
    "\t\tshortest_distance = -1\n",
    "\t\tfor town in self.places:\n",
    "\t\t\tdistance = self.move(0, list(visited_places), town)\n",
    "\t\t\tif shortest_distance == -1 or distance < shortest_distance:\n",
    "\t\t\t\tshortest_distance = distance\n",
    "\t\treturn shortest_distance\n",
    "\n",
    "\n",
    "prob = ShortestPath() \n",
    "prob.read_file_txt(\"rutas.txt\")\n",
    "final = prob.calculate_shortest_path()\n",
    "print(\"La ruta mas corta es\", final)\n"
   ]
  },
  {
   "cell_type": "code",
   "execution_count": 61,
   "metadata": {},
   "outputs": [],
   "source": [
    "gg"
   ]
  },
  {
   "cell_type": "code",
   "execution_count": null,
   "metadata": {},
   "outputs": [],
   "source": []
  }
 ],
 "metadata": {
  "kernelspec": {
   "display_name": "Python 3",
   "language": "python",
   "name": "python3"
  },
  "language_info": {
   "codemirror_mode": {
    "name": "ipython",
    "version": 3
   },
   "file_extension": ".py",
   "mimetype": "text/x-python",
   "name": "python",
   "nbconvert_exporter": "python",
   "pygments_lexer": "ipython3",
   "version": "3.6.5"
  }
 },
 "nbformat": 4,
 "nbformat_minor": 2
}
