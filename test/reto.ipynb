{
 "cells": [
  {
   "cell_type": "code",
   "execution_count": 1,
   "id": "b875ee80-84dc-4eea-811a-1cb2f42f4540",
   "metadata": {},
   "outputs": [],
   "source": [
    "\"\"\" desafio 5 \n",
    "#enunciado\n",
    "\n",
    "modificar el programa que genera fractales Sierpinski Carpet, usando numpy y list compresion para reducir el numero de lineas de programación\n",
    "\"\"\"\n",
    "\n",
    "# https://www.geeksforgeeks.org/python-sierpinski-carpet/\n",
    "import numpy as np \n",
    "from PIL import Image \n",
    "import matplotlib.pyplot as plt"
   ]
  },
  {
   "cell_type": "code",
   "execution_count": 2,
   "id": "43325f0a-6ab0-4d93-ae07-8bee121ce4e9",
   "metadata": {},
   "outputs": [
    {
     "data": {
      "text/plain": [
       "<matplotlib.image.AxesImage at 0x1e88f9c30d0>"
      ]
     },
     "execution_count": 2,
     "metadata": {},
     "output_type": "execute_result"
    },
    {
     "data": {
      "image/png": "[encoded data removed]",
      "text/plain": [
       "<Figure size 432x288 with 1 Axes>"
      ]
     },
     "metadata": {
      "needs_background": "light"
     },
     "output_type": "display_data"
    }
   ],
   "source": [
    "# total number of times the process will be repeated \n",
    "total = 5\n",
    "  \n",
    "# size of the image \n",
    "size = 3**total \n",
    "  \n",
    "# creating an image \n",
    "square = np.empty([size, size, 3], dtype = np.uint8) \n",
    "color = np.array([255, 255, 255], dtype = np.uint8) \n",
    "\n",
    "# filling it black \n",
    "square.fill(0) \n",
    "#ii=Image.fromarray(square)\n",
    "#ii.show()  \n",
    "plt.imshow(Image.fromarray(square))"
   ]
  },
  {
   "cell_type": "code",
   "execution_count": 3,
   "id": "b96debe7-2275-4f8f-b4c4-2ba9881505eb",
   "metadata": {},
   "outputs": [
    {
     "data": {
      "text/plain": [
       "(243, 243, 3)"
      ]
     },
     "execution_count": 3,
     "metadata": {},
     "output_type": "execute_result"
    }
   ],
   "source": [
    "square.shape"
   ]
  },
  {
   "cell_type": "code",
   "execution_count": 4,
   "id": "b53e2924-7ea9-408c-97ea-18f8043f3983",
   "metadata": {},
   "outputs": [],
   "source": [
    "#square[0]"
   ]
  },
  {
   "cell_type": "code",
   "execution_count": 5,
   "id": "7df6fdf3-c18e-4528-a8de-179fe56aa70b",
   "metadata": {},
   "outputs": [
    {
     "data": {
      "text/plain": [
       "array([255, 255, 255], dtype=uint8)"
      ]
     },
     "execution_count": 5,
     "metadata": {},
     "output_type": "execute_result"
    }
   ],
   "source": [
    "blanco = np.array([255, 255, 255], dtype = np.uint8) \n",
    "blanco"
   ]
  },
  {
   "cell_type": "code",
   "execution_count": 6,
   "id": "682d924e-d2b2-4b14-845d-e321611542b0",
   "metadata": {},
   "outputs": [
    {
     "data": {
      "text/plain": [
       "array([0, 0, 0], dtype=uint8)"
      ]
     },
     "execution_count": 6,
     "metadata": {},
     "output_type": "execute_result"
    }
   ],
   "source": [
    "negro = np.array([0, 0, 0], dtype = np.uint8) \n",
    "negro"
   ]
  },
  {
   "cell_type": "code",
   "execution_count": 7,
   "id": "0763b4a2-0160-4498-b1cd-6d601381a1de",
   "metadata": {},
   "outputs": [
    {
     "data": {
      "text/plain": [
       "5"
      ]
     },
     "execution_count": 7,
     "metadata": {},
     "output_type": "execute_result"
    }
   ],
   "source": [
    "total"
   ]
  },
  {
   "cell_type": "code",
   "execution_count": 8,
   "id": "5626edae-8940-4233-acba-ff2e5c6bae58",
   "metadata": {},
   "outputs": [
    {
     "data": {
      "text/plain": [
       "array([[0, 0, 0, 0, 0, 0, 0, 0, 0],\n",
       "       [0, 0, 0, 0, 0, 0, 0, 0, 0],\n",
       "       [0, 0, 0, 0, 0, 0, 0, 0, 0],\n",
       "       [0, 0, 0, 1, 1, 1, 0, 0, 0],\n",
       "       [0, 0, 0, 1, 1, 1, 0, 0, 0],\n",
       "       [0, 0, 0, 1, 1, 1, 0, 0, 0],\n",
       "       [0, 0, 0, 0, 0, 0, 0, 0, 0],\n",
       "       [0, 0, 0, 0, 0, 0, 0, 0, 0],\n",
       "       [0, 0, 0, 0, 0, 0, 0, 0, 0]])"
      ]
     },
     "execution_count": 8,
     "metadata": {},
     "output_type": "execute_result"
    }
   ],
   "source": [
    "first = np.array([0,0,0, 1,1,1, 0, 0,0]).reshape(9, 1) * np.array([0,0,0, 1,1,1, 0, 0,0]).reshape(1, 9)\n",
    "first"
   ]
  },
  {
   "cell_type": "code",
   "execution_count": 9,
   "id": "f781a331-d8f9-4afe-ae90-54773efdc5f8",
   "metadata": {},
   "outputs": [
    {
     "data": {
      "text/plain": [
       "array([[1, 1, 0, 0, 1, 1, 0, 0, 1],\n",
       "       [1, 1, 0, 0, 1, 1, 0, 0, 1],\n",
       "       [0, 0, 0, 0, 0, 0, 0, 0, 0],\n",
       "       [0, 0, 0, 0, 0, 0, 0, 0, 0],\n",
       "       [1, 1, 0, 0, 1, 1, 0, 0, 1],\n",
       "       [1, 1, 0, 0, 1, 1, 0, 0, 1],\n",
       "       [0, 0, 0, 0, 0, 0, 0, 0, 0],\n",
       "       [0, 0, 0, 0, 0, 0, 0, 0, 0],\n",
       "       [1, 1, 0, 0, 1, 1, 0, 0, 1]])"
      ]
     },
     "execution_count": 9,
     "metadata": {},
     "output_type": "execute_result"
    }
   ],
   "source": [
    "second = np.array([1,1,0, 0,1,1, 0, 0,1]).reshape(9, 1) * np.array([1,1,0, 0,1,1, 0, 0,1]).reshape(1, 9)\n",
    "second"
   ]
  },
  {
   "cell_type": "code",
   "execution_count": 10,
   "id": "48e30d48-451a-41af-a3fe-43f37d9ebc2f",
   "metadata": {},
   "outputs": [
    {
     "data": {
      "text/plain": [
       "array([[1, 1, 0, 0, 1, 1, 0, 0, 1],\n",
       "       [1, 1, 0, 0, 1, 1, 0, 0, 1],\n",
       "       [0, 0, 0, 0, 0, 0, 0, 0, 0],\n",
       "       [0, 0, 0, 1, 1, 1, 0, 0, 0],\n",
       "       [1, 1, 0, 1, 2, 2, 0, 0, 1],\n",
       "       [1, 1, 0, 1, 2, 2, 0, 0, 1],\n",
       "       [0, 0, 0, 0, 0, 0, 0, 0, 0],\n",
       "       [0, 0, 0, 0, 0, 0, 0, 0, 0],\n",
       "       [1, 1, 0, 0, 1, 1, 0, 0, 1]])"
      ]
     },
     "execution_count": 10,
     "metadata": {},
     "output_type": "execute_result"
    }
   ],
   "source": [
    "first + second"
   ]
  },
  {
   "cell_type": "code",
   "execution_count": null,
   "id": "350ecb0d-a720-42d9-9302-b43db8a9df89",
   "metadata": {},
   "outputs": [],
   "source": []
  },
  {
   "cell_type": "code",
   "execution_count": 11,
   "id": "65da300a-594d-4bf5-9486-cba08e536263",
   "metadata": {},
   "outputs": [],
   "source": [
    "total = 5\n",
    "\n",
    "def marcador(x, i, stepdown):\n",
    "    for _ in range(0, 3**(i)):\n",
    "        if x >= _*stepdown and x < (_ + 1)*stepdown and _ % 3 == 1:\n",
    "            return 1\n",
    "    return 0\n",
    "\n",
    "def get_capa(total, i):\n",
    "    stepdown = 3**(total -i)\n",
    "    elemento = np.array([marcador(x, i, stepdown) for x in range(0, 3**total)])\n",
    "    matriz = elemento.reshape(3**total, 1) * elemento.reshape(1, 3**total)\n",
    "    return matriz"
   ]
  },
  {
   "cell_type": "code",
   "execution_count": 18,
   "id": "e6c0b57a-868e-4b4e-864b-b63a054bfd4a",
   "metadata": {},
   "outputs": [],
   "source": [
    "def pintor(num):\n",
    "    return blanco if num > 0 else negro\n",
    "pintor = np.vectorize(pintor)\n",
    "\n",
    "def get_fractal(total):\n",
    "    return sum([get_capa(total, _) for _ in range(1, total)])"
   ]
  },
  {
   "cell_type": "code",
   "execution_count": 19,
   "id": "12f8fdc0-32d1-40cc-8d2e-e56cc8e71305",
   "metadata": {},
   "outputs": [
    {
     "data": {
      "text/plain": [
       "<matplotlib.image.AxesImage at 0x1e890852100>"
      ]
     },
     "execution_count": 19,
     "metadata": {},
     "output_type": "execute_result"
    },
    {
     "data": {
      "image/png": "[encoded data removed]",
      "text/plain": [
       "<Figure size 432x288 with 1 Axes>"
      ]
     },
     "metadata": {
      "needs_background": "light"
     },
     "output_type": "display_data"
    }
   ],
   "source": [
    "plt.imshow(\n",
    "    Image.fromarray(get_fractal(total))\n",
    ")"
   ]
  },
  {
   "cell_type": "code",
   "execution_count": null,
   "id": "bcad4682-8c39-480a-b54f-5b101835d038",
   "metadata": {},
   "outputs": [],
   "source": []
  }
 ],
 "metadata": {
  "kernelspec": {
   "display_name": "Python 3",
   "language": "python",
   "name": "python3"
  },
  "language_info": {
   "codemirror_mode": {
    "name": "ipython",
    "version": 3
   },
   "file_extension": ".py",
   "mimetype": "text/x-python",
   "name": "python",
   "nbconvert_exporter": "python",
   "pygments_lexer": "ipython3",
   "version": "3.8.5"
  }
 },
 "nbformat": 4,
 "nbformat_minor": 5
}
