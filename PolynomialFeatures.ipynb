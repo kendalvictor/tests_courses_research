{
 "cells": [
  {
   "cell_type": "code",
   "execution_count": 7,
   "metadata": {},
   "outputs": [
    {
     "data": {
      "text/plain": [
       "array([[ 0,  1,  2],\n",
       "       [ 3,  4,  5],\n",
       "       [ 6,  7,  8],\n",
       "       [ 9, 10, 11],\n",
       "       [12, 13, 14],\n",
       "       [15, 16, 17],\n",
       "       [18, 19, 20],\n",
       "       [21, 22, 23]])"
      ]
     },
     "execution_count": 7,
     "metadata": {},
     "output_type": "execute_result"
    }
   ],
   "source": [
    "import numpy as np\n",
    "from sklearn.preprocessing import PolynomialFeatures\n",
    "X = np.arange(24).reshape(8, 3)\n",
    "X"
   ]
  },
  {
   "cell_type": "code",
   "execution_count": 8,
   "metadata": {},
   "outputs": [
    {
     "data": {
      "text/plain": [
       "array([[  1.,   0.,   1.,   2.,   0.,   0.,   0.,   1.,   2.,   4.],\n",
       "       [  1.,   3.,   4.,   5.,   9.,  12.,  15.,  16.,  20.,  25.],\n",
       "       [  1.,   6.,   7.,   8.,  36.,  42.,  48.,  49.,  56.,  64.],\n",
       "       [  1.,   9.,  10.,  11.,  81.,  90.,  99., 100., 110., 121.],\n",
       "       [  1.,  12.,  13.,  14., 144., 156., 168., 169., 182., 196.],\n",
       "       [  1.,  15.,  16.,  17., 225., 240., 255., 256., 272., 289.],\n",
       "       [  1.,  18.,  19.,  20., 324., 342., 360., 361., 380., 400.],\n",
       "       [  1.,  21.,  22.,  23., 441., 462., 483., 484., 506., 529.]])"
      ]
     },
     "execution_count": 8,
     "metadata": {},
     "output_type": "execute_result"
    }
   ],
   "source": [
    "poly = PolynomialFeatures(2)\n",
    "poly.fit_transform(X)"
   ]
  },
  {
   "cell_type": "code",
   "execution_count": 9,
   "metadata": {},
   "outputs": [
    {
     "data": {
      "text/plain": [
       "array([[  1.,   0.,   1.,   2.,   0.,   0.,   2.],\n",
       "       [  1.,   3.,   4.,   5.,  12.,  15.,  20.],\n",
       "       [  1.,   6.,   7.,   8.,  42.,  48.,  56.],\n",
       "       [  1.,   9.,  10.,  11.,  90.,  99., 110.],\n",
       "       [  1.,  12.,  13.,  14., 156., 168., 182.],\n",
       "       [  1.,  15.,  16.,  17., 240., 255., 272.],\n",
       "       [  1.,  18.,  19.,  20., 342., 360., 380.],\n",
       "       [  1.,  21.,  22.,  23., 462., 483., 506.]])"
      ]
     },
     "execution_count": 9,
     "metadata": {},
     "output_type": "execute_result"
    }
   ],
   "source": [
    "poly = PolynomialFeatures(interaction_only=True)\n",
    "poly.fit_transform(X)"
   ]
  },
  {
   "cell_type": "code",
   "execution_count": null,
   "metadata": {},
   "outputs": [],
   "source": []
  }
 ],
 "metadata": {
  "kernelspec": {
   "display_name": "Python 3",
   "language": "python",
   "name": "python3"
  },
  "language_info": {
   "codemirror_mode": {
    "name": "ipython",
    "version": 3
   },
   "file_extension": ".py",
   "mimetype": "text/x-python",
   "name": "python",
   "nbconvert_exporter": "python",
   "pygments_lexer": "ipython3",
   "version": "3.7.4"
  }
 },
 "nbformat": 4,
 "nbformat_minor": 4
}
