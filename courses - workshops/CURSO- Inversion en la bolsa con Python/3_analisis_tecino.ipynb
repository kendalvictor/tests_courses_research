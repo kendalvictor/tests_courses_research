{
  "nbformat": 4,
  "nbformat_minor": 0,
  "metadata": {
    "colab": {
      "name": "1_s2_MC_analisis_tecino vf3 (1).ipynb",
      "provenance": []
    },
    "kernelspec": {
      "name": "python3",
      "display_name": "Python 3"
    }
  },
  "cells": [
    {
      "cell_type": "code",
      "metadata": {
        "id": "u0848XkXqjS8",
        "colab_type": "code",
        "colab": {}
      },
      "source": [
        ""
      ],
      "execution_count": 0,
      "outputs": []
    },
    {
      "cell_type": "markdown",
      "metadata": {
        "id": "WcKKzUpyruSl",
        "colab_type": "text"
      },
      "source": [
        "# 1. Instalación de librerias en python"
      ]
    },
    {
      "cell_type": "code",
      "metadata": {
        "id": "ctz-1djUsA0R",
        "colab_type": "code",
        "colab": {}
      },
      "source": [
        "!pip install pandas\n",
        "!pip install pandas_datareader\n",
        "!pip install datetime\n",
        "!pip install matplotlib"
      ],
      "execution_count": 0,
      "outputs": []
    },
    {
      "cell_type": "markdown",
      "metadata": {
        "id": "eut-RvSzsGLi",
        "colab_type": "text"
      },
      "source": [
        "# 2. Habilitando las librerias"
      ]
    },
    {
      "cell_type": "code",
      "metadata": {
        "id": "xbZb06UVsLwH",
        "colab_type": "code",
        "colab": {}
      },
      "source": [
        "import pandas as pd\n",
        "import pandas_datareader.data as web   # Importacion de las libreias\n",
        "from pandas_datareader import data\n",
        "import datetime\n",
        "import matplotlib.pyplot as plt\n",
        "import numpy as np"
      ],
      "execution_count": 0,
      "outputs": []
    },
    {
      "cell_type": "markdown",
      "metadata": {
        "id": "8nN3C_kVsgga",
        "colab_type": "text"
      },
      "source": [
        "# 3. Lectura de los datos"
      ]
    },
    {
      "cell_type": "code",
      "metadata": {
        "id": "BMKibykVsefX",
        "colab_type": "code",
        "colab": {}
      },
      "source": [
        "# Fecha de información\n",
        "start = datetime.datetime(2017,1,1)\n",
        "end = datetime.date.today()\n",
        "#end = datetime.datetime(2016,12,31)\n",
        "\n",
        "microsoft = web.DataReader(\"MSFT\", \"yahoo\", start, end)\n",
        "google = web.DataReader(\"GOOG\", \"yahoo\", start, end)\n",
        "gsp = web.DataReader(\"^GSPC\", \"yahoo\", start, end)\n",
        "\n",
        "# Lectura del precio de las acciones de Apple desde Yahoo Finance!\n",
        "stocks = pd.DataFrame({\"GOOG\": google[\"Adj Close\"],\n",
        "                      \"MSFT\": microsoft[\"Adj Close\"],\n",
        "                      \"^GSPC\": gsp[\"Adj Close\"]})\n",
        "\n"
      ],
      "execution_count": 0,
      "outputs": []
    },
    {
      "cell_type": "code",
      "metadata": {
        "id": "ujPb0cnkVPJV",
        "colab_type": "code",
        "colab": {}
      },
      "source": [
        ""
      ],
      "execution_count": 0,
      "outputs": []
    },
    {
      "cell_type": "code",
      "metadata": {
        "id": "nV943-8yVMxO",
        "colab_type": "code",
        "colab": {}
      },
      "source": [
        ""
      ],
      "execution_count": 0,
      "outputs": []
    },
    {
      "cell_type": "code",
      "metadata": {
        "id": "SqyrxrnzDwGb",
        "colab_type": "code",
        "colab": {}
      },
      "source": [
        "type(stocks)"
      ],
      "execution_count": 0,
      "outputs": []
    },
    {
      "cell_type": "code",
      "metadata": {
        "id": "JQGBtHwGVR_N",
        "colab_type": "code",
        "colab": {}
      },
      "source": [
        ""
      ],
      "execution_count": 0,
      "outputs": []
    },
    {
      "cell_type": "code",
      "metadata": {
        "id": "gmLWQxYeAXhI",
        "colab_type": "code",
        "colab": {}
      },
      "source": [
        "stocks.head(9)"
      ],
      "execution_count": 0,
      "outputs": []
    },
    {
      "cell_type": "code",
      "metadata": {
        "id": "dFG73DZXVWZM",
        "colab_type": "code",
        "colab": {}
      },
      "source": [
        ""
      ],
      "execution_count": 0,
      "outputs": []
    },
    {
      "cell_type": "code",
      "metadata": {
        "id": "Mv4NpkQkEYCd",
        "colab_type": "code",
        "colab": {}
      },
      "source": [
        "stocks.shape"
      ],
      "execution_count": 0,
      "outputs": []
    },
    {
      "cell_type": "code",
      "metadata": {
        "id": "n3665ts5Fhtd",
        "colab_type": "code",
        "colab": {}
      },
      "source": [
        "stocks.describe()"
      ],
      "execution_count": 0,
      "outputs": []
    },
    {
      "cell_type": "code",
      "metadata": {
        "id": "t7h4FCdTGZUD",
        "colab_type": "code",
        "colab": {}
      },
      "source": [
        "# Graficando el valor de las acciones\n",
        "#-----------------------------------------------\n",
        "stocks.plot(grid = True)"
      ],
      "execution_count": 0,
      "outputs": []
    },
    {
      "cell_type": "code",
      "metadata": {
        "id": "YoLHNwCNVfKL",
        "colab_type": "code",
        "colab": {}
      },
      "source": [
        ""
      ],
      "execution_count": 0,
      "outputs": []
    },
    {
      "cell_type": "code",
      "metadata": {
        "id": "io-xxdO5DjJe",
        "colab_type": "code",
        "colab": {}
      },
      "source": [
        "# Configuracion de revision mensual #3M y #D\n",
        "all_weekdays = pd.date_range(start=start, end=end, freq='M')\n",
        "\n",
        "close = stocks.reindex(all_weekdays)\n",
        "close = close.fillna(method='ffill')"
      ],
      "execution_count": 0,
      "outputs": []
    },
    {
      "cell_type": "code",
      "metadata": {
        "id": "W77DhLEpFFjA",
        "colab_type": "code",
        "colab": {}
      },
      "source": [
        "close.shape"
      ],
      "execution_count": 0,
      "outputs": []
    },
    {
      "cell_type": "code",
      "metadata": {
        "id": "fpSkku0NFoWN",
        "colab_type": "code",
        "colab": {}
      },
      "source": [
        "close.describe()"
      ],
      "execution_count": 0,
      "outputs": []
    },
    {
      "cell_type": "code",
      "metadata": {
        "id": "bDhDCmVqGd6l",
        "colab_type": "code",
        "colab": {}
      },
      "source": [
        "# Graficando el valor de las acciones\n",
        "#-----------------------------------------------\n",
        "close.plot(grid = True)"
      ],
      "execution_count": 0,
      "outputs": []
    },
    {
      "cell_type": "markdown",
      "metadata": {
        "id": "k-i-TAuzI1De",
        "colab_type": "text"
      },
      "source": [
        "# 4. Analisis de Tendencia: \n",
        "# Graficas de medias moviles Rolling"
      ]
    },
    {
      "cell_type": "code",
      "metadata": {
        "id": "z0u91uaGI7_u",
        "colab_type": "code",
        "colab": {}
      },
      "source": [
        "# Selecionamos una columna de precios.\n",
        "msft = stocks.loc[:, 'MSFT']\n",
        "\n",
        "# Medias Moviles de corto plazo (20) y largo plazo (100)\n",
        "short_rolling_msft = msft.rolling(window=20).mean()\n",
        "long_rolling_msft = msft.rolling(window=100).mean()\n",
        "#mid_rolling_msft = msft.rolling(window=50).mean()\n",
        "\n",
        "# Agregando el grafico con las medis moviles\n",
        "fig, ax = plt.subplots(figsize=(16,9))\n",
        "\n",
        "ax.plot(msft.index, msft, label='MSFT')\n",
        "ax.plot(short_rolling_msft.index, short_rolling_msft, label='20 days rolling')\n",
        "ax.plot(long_rolling_msft.index, long_rolling_msft, label='100 days rolling')\n",
        "#ax.plot(mid_rolling_msft.index, mid_rolling_msft, label='50 days rolling')\n",
        "\n",
        "ax.set_xlabel('Date')\n",
        "ax.set_ylabel('Adjusted closing price ($)')\n",
        "ax.legend()"
      ],
      "execution_count": 0,
      "outputs": []
    },
    {
      "cell_type": "markdown",
      "metadata": {
        "id": "A7LBGfSxdymU",
        "colab_type": "text"
      },
      "source": [
        "# 5. Analisis de Volatilidad:\n",
        "# Bandas de Bollinger"
      ]
    },
    {
      "cell_type": "code",
      "metadata": {
        "id": "50K5UIaIeGTM",
        "colab_type": "code",
        "colab": {}
      },
      "source": [
        "# Indicadores de volatilidad\n",
        "\n",
        "msft_mean = msft.rolling(window=20).mean()\n",
        "msft_sd = msft.rolling(window=20).std()\n",
        "msft_up = msft_mean + (msft_sd * 2)\n",
        "msft_low = msft_mean - (msft_sd * 2)\n",
        "    \n",
        "# Graficando las bandas de volatilidad\n",
        "fig, ax = plt.subplots(figsize=(16,9))\n",
        "\n",
        "ax.plot(msft.index, msft, label='MSFT',color='blue', lw=1)\n",
        "ax.plot(msft_up.index, msft_up, label='Lim Sup',color='green', lw=1)\n",
        "ax.plot(msft_low.index, msft_low, label='Lim Inf',color='green', lw=1)\n",
        "\n",
        "#Etiquetas y leyendas\n",
        "\n",
        "ax.set_xlabel('Date')\n",
        "ax.set_ylabel('Adjusted closing price ($)')\n",
        "ax.legend()\n",
        "\n",
        "\n",
        "#https://medium.com/python-data/setting-up-a-bollinger-band-with-python-28941e2fa300\n"
      ],
      "execution_count": 0,
      "outputs": []
    },
    {
      "cell_type": "code",
      "metadata": {
        "id": "XCCuWZN5V0rB",
        "colab_type": "code",
        "colab": {}
      },
      "source": [
        ""
      ],
      "execution_count": 0,
      "outputs": []
    },
    {
      "cell_type": "markdown",
      "metadata": {
        "id": "v6Xqfl-sJCDY",
        "colab_type": "text"
      },
      "source": [
        "# 6. Analisis de Oscilacion o Fuerza del precio\n",
        "# Indicador RSI"
      ]
    },
    {
      "cell_type": "code",
      "metadata": {
        "id": "ZBK5N3ZTMOOS",
        "colab_type": "code",
        "colab": {}
      },
      "source": [
        "# Si el RSI alcanza el nivel de 70 hay que interpretar que la accion está sobrecomprado (cuyo significado es que el especulador debería plantearse vender).\n",
        "# Y análogamente al contrario, sobrevendido en el nivel de 30.\n",
        "# La hipótesis sería que cuando hay una alta proporción de \n",
        "# movimientos diarios en una dirección esto sugiere que se alcanzará el extremo, y los precios tenderán a darse la vuelta.\n",
        "\n",
        "#Teoria de RSI\n",
        "# https://www.21tradingcoach.com/es/formaci%C3%B3n-gratuita/an%C3%A1lisis-t%C3%A9cnico/165-indicador-rsi-relative-strength-index\n",
        "\n",
        "#Libreri Tab Lib\n",
        "# https://towardsdatascience.com/trading-strategy-technical-analysis-with-python-ta-lib-3ce9d6ce5614\n"
      ],
      "execution_count": 0,
      "outputs": []
    },
    {
      "cell_type": "code",
      "metadata": {
        "id": "R6SH5I04BUwm",
        "colab_type": "code",
        "colab": {}
      },
      "source": [
        "\n",
        "def rsiFunc(prices, n=14):\n",
        "    deltas = np.diff(prices)\n",
        "    seed = deltas[:n+1]\n",
        "    up = seed[seed>=0].sum()/n\n",
        "    down = -seed[seed<0].sum()/n\n",
        "    rs = up/down\n",
        "    rsi = np.zeros_like(prices)\n",
        "    rsi[:n] = 100. - 100./(1.+rs)\n",
        "\n",
        "    for i in range(n, len(prices)):\n",
        "        delta = deltas[i-1] # cause the diff is 1 shorter\n",
        "\n",
        "        if delta>0:\n",
        "            upval = delta\n",
        "            downval = 0.\n",
        "        else:\n",
        "            upval = 0.\n",
        "            downval = -delta\n",
        "\n",
        "        up = (up*(n-1) + upval)/n\n",
        "        down = (down*(n-1) + downval)/n\n",
        "\n",
        "        rs = up/down\n",
        "        rsi[i] = 100. - 100./(1.+rs)\n",
        "\n",
        "    return rsi\n",
        "\n"
      ],
      "execution_count": 0,
      "outputs": []
    },
    {
      "cell_type": "code",
      "metadata": {
        "id": "aYll6B1cJiRt",
        "colab_type": "code",
        "colab": {}
      },
      "source": [
        "df=msft\n",
        "msft_rsi=rsiFunc(df)"
      ],
      "execution_count": 0,
      "outputs": []
    },
    {
      "cell_type": "code",
      "metadata": {
        "id": "0HNpMkjHLyHb",
        "colab_type": "code",
        "colab": {}
      },
      "source": [
        "# Graficando el valor de la accion\n",
        "fig, ax = plt.subplots(figsize=(16,9))\n",
        "ax.plot(msft.index, msft, label='MSFT',color='blue', lw=1)\n",
        "\n",
        "\n",
        "# Graficando el  RSI o indicador del volumne de negociacion\n",
        "fig, ax2 = plt.subplots(figsize=(16,9))\n",
        "ax2.plot(msft.index, msft_rsi, label='MSFT',color='blue', lw=1)\n",
        "\n",
        "\n"
      ],
      "execution_count": 0,
      "outputs": []
    },
    {
      "cell_type": "markdown",
      "metadata": {
        "id": "n1erHc4jIuh1",
        "colab_type": "text"
      },
      "source": [
        ""
      ]
    },
    {
      "cell_type": "code",
      "metadata": {
        "id": "9HtfdG-yJnnl",
        "colab_type": "code",
        "colab": {}
      },
      "source": [
        "# Librerias disponibles para Velas Japonesas\n",
        "import plotly.plotly as py\n",
        "import plotly.graph_objs as go"
      ],
      "execution_count": 0,
      "outputs": []
    },
    {
      "cell_type": "code",
      "metadata": {
        "id": "qYdVyxS8Jvp8",
        "colab_type": "code",
        "colab": {}
      },
      "source": [
        "# Extrayendo los 4 datos del precio de laccion de Microsoft\n",
        "\n",
        "start = datetime.datetime(2017,1,1)\n",
        "end = datetime.date.today()\n",
        "#end = datetime.datetime(2016,12,31)\n",
        "\n",
        "df = web.DataReader(\"MSFT\", \"yahoo\", start, end)\n"
      ],
      "execution_count": 0,
      "outputs": []
    },
    {
      "cell_type": "code",
      "metadata": {
        "id": "h98NlhHRMkvS",
        "colab_type": "code",
        "colab": {}
      },
      "source": [
        "df.head(5)"
      ],
      "execution_count": 0,
      "outputs": []
    },
    {
      "cell_type": "code",
      "metadata": {
        "id": "OA48JdRJK_bA",
        "colab_type": "code",
        "colab": {}
      },
      "source": [
        "# Grafica de Vela Japonesa\n",
        "\n",
        "trace = go.Candlestick(x=df.index,\n",
        "                open=df.Open,\n",
        "                high=df.High,\n",
        "                low=df.Low,\n",
        "                close=df.Close)\n",
        "data = [trace]\n",
        "py.iplot(data, filename='simple_candlestick')\n",
        "\n"
      ],
      "execution_count": 0,
      "outputs": []
    }
  ]
}