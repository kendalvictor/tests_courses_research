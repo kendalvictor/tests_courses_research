{
  "nbformat": 4,
  "nbformat_minor": 0,
  "metadata": {
    "colab": {
      "name": "Manipulacion y filtros de datos.ipynb",
      "provenance": []
    },
    "kernelspec": {
      "name": "python3",
      "display_name": "Python 3"
    }
  },
  "cells": [
    {
      "cell_type": "code",
      "metadata": {
        "id": "sai-2yB6tq4Y",
        "colab_type": "code",
        "colab": {}
      },
      "source": [
        ""
      ],
      "execution_count": 0,
      "outputs": []
    },
    {
      "cell_type": "markdown",
      "metadata": {
        "id": "32H1mmoFtyeF",
        "colab_type": "text"
      },
      "source": [
        "##1. Instalación de Librerias"
      ]
    },
    {
      "cell_type": "code",
      "metadata": {
        "id": "rzHOtxlotzkh",
        "colab_type": "code",
        "colab": {}
      },
      "source": [
        "## Instalacion de librerias\n",
        "#----------------------------------\n",
        "!pip install pandas\n",
        "!pip install pandas_datareader\n",
        "!pip install datetime\n",
        "!pip install matplotlib\n",
        "#!pip install  candlestick_ohlc"
      ],
      "execution_count": 0,
      "outputs": []
    },
    {
      "cell_type": "code",
      "metadata": {
        "id": "PPMtorgBt-0K",
        "colab_type": "code",
        "colab": {}
      },
      "source": [
        "## Lectura de librerias\n",
        "#----------------------------------\n",
        "import pandas as pd\n",
        "import pandas_datareader.data as web   # Package and modules for importing data; this code may change depending on pandas version\n",
        "import datetime as dt"
      ],
      "execution_count": 0,
      "outputs": []
    },
    {
      "cell_type": "markdown",
      "metadata": {
        "id": "zh06iDLouD_h",
        "colab_type": "text"
      },
      "source": [
        "##1. Lectura de Datos"
      ]
    },
    {
      "cell_type": "code",
      "metadata": {
        "id": "uOC4gxaouHTD",
        "colab_type": "code",
        "colab": {}
      },
      "source": [
        "## Lectura de librerias\n",
        "#----------------------------------\n",
        "\n",
        "# Fecha de información\n",
        "start = datetime.datetime(2016,1,1)\n",
        "end = datetime.date.today()\n",
        "  \n",
        "# Lectura del precio de las acciones de Apple desde Yahoo Finance!\n",
        "data = web.DataReader(\"AMZN\", \"yahoo\", start, end)\n",
        "\n",
        "# Tipo de objeto conseguido\n",
        "type(data)"
      ],
      "execution_count": 0,
      "outputs": []
    },
    {
      "cell_type": "code",
      "metadata": {
        "id": "0Tjm9ORluTXL",
        "colab_type": "code",
        "colab": {}
      },
      "source": [
        "data.head()"
      ],
      "execution_count": 0,
      "outputs": []
    },
    {
      "cell_type": "code",
      "metadata": {
        "id": "FNYFQaj1uX24",
        "colab_type": "code",
        "colab": {}
      },
      "source": [
        "data['Close'].describe()"
      ],
      "execution_count": 0,
      "outputs": []
    },
    {
      "cell_type": "markdown",
      "metadata": {
        "id": "45zj7eD_0y2v",
        "colab_type": "text"
      },
      "source": [
        "##3. Seleccionar una fecha en particular"
      ]
    },
    {
      "cell_type": "code",
      "metadata": {
        "id": "36N47-nb3fpw",
        "colab_type": "code",
        "colab": {}
      },
      "source": [
        "# Agregando la columna Fecha para filtrar\n",
        "data.reset_index(inplace=True,drop=False)"
      ],
      "execution_count": 0,
      "outputs": []
    },
    {
      "cell_type": "code",
      "metadata": {
        "id": "xBYFHYr43huR",
        "colab_type": "code",
        "colab": {}
      },
      "source": [
        "data.head()"
      ],
      "execution_count": 0,
      "outputs": []
    },
    {
      "cell_type": "code",
      "metadata": {
        "id": "0xfmPTw004OZ",
        "colab_type": "code",
        "colab": {}
      },
      "source": [
        "data[data.Date=='2018-12-31']"
      ],
      "execution_count": 0,
      "outputs": []
    },
    {
      "cell_type": "markdown",
      "metadata": {
        "id": "QyPBpICe4yLV",
        "colab_type": "text"
      },
      "source": [
        "##4. Seleccionar precios durante el 2018"
      ]
    },
    {
      "cell_type": "code",
      "metadata": {
        "id": "PL4XiKMY43O4",
        "colab_type": "code",
        "colab": {}
      },
      "source": [
        "anio_2018=data[(data.Date>='2018-1-1')&(data.Date<='2018-12-31')]"
      ],
      "execution_count": 0,
      "outputs": []
    },
    {
      "cell_type": "code",
      "metadata": {
        "id": "zIWsZMfN5v_z",
        "colab_type": "code",
        "colab": {}
      },
      "source": [
        "anio_2018.head()"
      ],
      "execution_count": 0,
      "outputs": []
    },
    {
      "cell_type": "code",
      "metadata": {
        "id": "8S6Bs1Ll5zhf",
        "colab_type": "code",
        "colab": {}
      },
      "source": [
        "anio_2018['Date'].describe()"
      ],
      "execution_count": 0,
      "outputs": []
    },
    {
      "cell_type": "markdown",
      "metadata": {
        "id": "706lfYgq7XMf",
        "colab_type": "text"
      },
      "source": [
        "##5.  Seleccionar el 1er dia de cada mes de precios"
      ]
    },
    {
      "cell_type": "code",
      "metadata": {
        "id": "KAJt1qGl7cvI",
        "colab_type": "code",
        "colab": {}
      },
      "source": [
        "primeros_dias_mes_2018=anio_2018[data.Date.dt.day==1]"
      ],
      "execution_count": 0,
      "outputs": []
    },
    {
      "cell_type": "code",
      "metadata": {
        "id": "gTfKIwK1996w",
        "colab_type": "code",
        "colab": {}
      },
      "source": [
        "primeros_dias_mes_2018"
      ],
      "execution_count": 0,
      "outputs": []
    },
    {
      "cell_type": "code",
      "metadata": {
        "id": "w-PUxx26946R",
        "colab_type": "code",
        "colab": {}
      },
      "source": [
        "primeros_dias_mes_2018.describe()"
      ],
      "execution_count": 0,
      "outputs": []
    },
    {
      "cell_type": "markdown",
      "metadata": {
        "id": "1VVT5xVR-ikv",
        "colab_type": "text"
      },
      "source": [
        "## 6. Compra de 20 acciones 2018-05-16 al 2019-04-10"
      ]
    },
    {
      "cell_type": "code",
      "metadata": {
        "id": "invrJhT0-s1e",
        "colab_type": "code",
        "colab": {}
      },
      "source": [
        "# Precio inicial\n",
        "data[data.Date=='2018-05-16']"
      ],
      "execution_count": 0,
      "outputs": []
    },
    {
      "cell_type": "code",
      "metadata": {
        "id": "mcOxPsWtC6IH",
        "colab_type": "code",
        "colab": {}
      },
      "source": [
        "# Precio final\n",
        "data[data.Date=='2019-04-10']"
      ],
      "execution_count": 0,
      "outputs": []
    },
    {
      "cell_type": "code",
      "metadata": {
        "id": "5amrnrPbCajA",
        "colab_type": "code",
        "colab": {}
      },
      "source": [
        "# Inversion y Ganancia post retorno\n",
        "\n",
        "# Simulador de rentabilidad en Excel\n"
      ],
      "execution_count": 0,
      "outputs": []
    }
  ]
}