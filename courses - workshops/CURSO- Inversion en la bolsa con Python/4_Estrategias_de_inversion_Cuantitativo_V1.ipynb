{
  "nbformat": 4,
  "nbformat_minor": 0,
  "metadata": {
    "colab": {
      "name": "s3_DC_MC_Estrategias_de_inversion_Cuantitativo V1.ipynb",
      "provenance": []
    },
    "kernelspec": {
      "name": "python3",
      "display_name": "Python 3"
    }
  },
  "cells": [
    {
      "cell_type": "code",
      "metadata": {
        "id": "9f7Khf5zTH0e",
        "colab_type": "code",
        "colab": {}
      },
      "source": [
        ""
      ],
      "execution_count": 0,
      "outputs": []
    },
    {
      "cell_type": "markdown",
      "metadata": {
        "id": "BudlIEawTVdf",
        "colab_type": "text"
      },
      "source": [
        "# 1. Instalación de librerias en python"
      ]
    },
    {
      "cell_type": "code",
      "metadata": {
        "id": "4upe3hSHTV0R",
        "colab_type": "code",
        "colab": {}
      },
      "source": [
        "!pip install pandas\n",
        "!pip install pandas_datareader\n",
        "!pip install datetime\n",
        "!pip install matplotlib\n"
      ],
      "execution_count": 0,
      "outputs": []
    },
    {
      "cell_type": "markdown",
      "metadata": {
        "id": "KzEgjToiTewg",
        "colab_type": "text"
      },
      "source": [
        "# 2. Habilitando las librerias"
      ]
    },
    {
      "cell_type": "code",
      "metadata": {
        "id": "l4QNpIixTanj",
        "colab_type": "code",
        "colab": {}
      },
      "source": [
        "import pandas as pd\n",
        "import pandas_datareader.data as web   # Importacion de las libreias\n",
        "from pandas_datareader import data\n",
        "import datetime\n",
        "import matplotlib.pyplot as plt\n",
        "import seaborn as sns\n",
        "sns.set(style='darkgrid', context='talk', palette='Dark2')\n",
        "\n",
        "import numpy as np"
      ],
      "execution_count": 0,
      "outputs": []
    },
    {
      "cell_type": "markdown",
      "metadata": {
        "id": "5HvmJeWJTjpq",
        "colab_type": "text"
      },
      "source": [
        "# 3. Lectura de los datos"
      ]
    },
    {
      "cell_type": "code",
      "metadata": {
        "id": "d0I8HnakTnc4",
        "colab_type": "code",
        "colab": {}
      },
      "source": [
        "start = datetime.datetime(2017,1,1)\n",
        "end = datetime.date.today()\n",
        "#end = datetime.datetime(2016,12,31)\n",
        "\n",
        "microsoft = web.DataReader(\"MSFT\", \"yahoo\", start, end)\n",
        "google = web.DataReader(\"GOOG\", \"yahoo\", start, end)\n",
        "gsp = web.DataReader(\"^GSPC\", \"yahoo\", start, end)\n",
        "\n",
        "# Lectura del precio de las acciones de Apple desde Yahoo Finance!\n",
        "stocks = pd.DataFrame({\"GOOG\": google[\"Adj Close\"],\n",
        "                      \"MSFT\": microsoft[\"Adj Close\"],\n",
        "                      \"^GSPC\": gsp[\"Adj Close\"]})\n"
      ],
      "execution_count": 0,
      "outputs": []
    },
    {
      "cell_type": "code",
      "metadata": {
        "id": "iBBxTgk1TvgZ",
        "colab_type": "code",
        "colab": {}
      },
      "source": [
        "stocks.head(9)"
      ],
      "execution_count": 0,
      "outputs": []
    },
    {
      "cell_type": "code",
      "metadata": {
        "id": "vf2CZqcZbH7C",
        "colab_type": "code",
        "colab": {}
      },
      "source": [
        "# Analisis del riesgo del portafolio de acciones (Analisis de correlacion)\n",
        "\n",
        "stocks.corr()"
      ],
      "execution_count": 0,
      "outputs": []
    },
    {
      "cell_type": "code",
      "metadata": {
        "id": "Up8X49WRUsJJ",
        "colab_type": "code",
        "colab": {}
      },
      "source": [
        "# Calculando medias moviles (corto plazo)\n",
        "\n",
        "short_rolling = stocks.rolling(window=20).mean()\n",
        "#short_rolling.describe()\n",
        "short_rolling.head()"
      ],
      "execution_count": 0,
      "outputs": []
    },
    {
      "cell_type": "code",
      "metadata": {
        "id": "g12_Bdl9VAtd",
        "colab_type": "code",
        "colab": {}
      },
      "source": [
        "# Calculating the short-window moving average (medias moviles lagor plazo)\n",
        "long_rolling = stocks.rolling(window=100).mean()\n",
        "long_rolling.tail()"
      ],
      "execution_count": 0,
      "outputs": []
    },
    {
      "cell_type": "code",
      "metadata": {
        "id": "F2Rdn6XTWRBG",
        "colab_type": "code",
        "colab": {}
      },
      "source": [
        "# Graficas de las acciones\n",
        "stocks.plot(grid = True)"
      ],
      "execution_count": 0,
      "outputs": []
    },
    {
      "cell_type": "markdown",
      "metadata": {
        "id": "LN50dHHlSs1c",
        "colab_type": "text"
      },
      "source": [
        "# 3. Calculo de Rentabilidad diaria"
      ]
    },
    {
      "cell_type": "code",
      "metadata": {
        "id": "M2GHBX2eVX04",
        "colab_type": "code",
        "colab": {}
      },
      "source": [
        "# Rentabilidades de respecto al dia anterior\n",
        "\n",
        "returns = stocks.pct_change(1)\n",
        "returns.head()"
      ],
      "execution_count": 0,
      "outputs": []
    },
    {
      "cell_type": "code",
      "metadata": {
        "id": "1T8OYPxoWDUu",
        "colab_type": "code",
        "colab": {}
      },
      "source": [
        "# Grafica de las rentabilidades\n",
        "returns.plot(grid = True)\n"
      ],
      "execution_count": 0,
      "outputs": []
    },
    {
      "cell_type": "markdown",
      "metadata": {
        "id": "S0RWL2CbSv7z",
        "colab_type": "text"
      },
      "source": [
        "# 4. Calculo de Rentabilidad trimestral"
      ]
    },
    {
      "cell_type": "code",
      "metadata": {
        "id": "dXgTViVQafK8",
        "colab_type": "code",
        "colab": {}
      },
      "source": [
        "# Revision de renatbilidades trimestral\n",
        "all_weekdays = pd.date_range(start=start, end=end, freq='3M')\n",
        "\n",
        "close = stocks.reindex(all_weekdays)\n",
        "\n",
        "returns_m = close.pct_change(1)\n",
        "returns_m.head()"
      ],
      "execution_count": 0,
      "outputs": []
    },
    {
      "cell_type": "code",
      "metadata": {
        "id": "O-vnzsEPaufJ",
        "colab_type": "code",
        "colab": {}
      },
      "source": [
        "# Grafica de las rentabilidades\n",
        "returns_m.plot(grid = True)"
      ],
      "execution_count": 0,
      "outputs": []
    },
    {
      "cell_type": "markdown",
      "metadata": {
        "id": "bU_Pv4GHS0_4",
        "colab_type": "text"
      },
      "source": [
        "# 5. Calculo de Rentabilidad Logaritmo"
      ]
    },
    {
      "cell_type": "code",
      "metadata": {
        "id": "4CrotMdyWyt0",
        "colab_type": "code",
        "colab": {}
      },
      "source": [
        "# Log returns - First the logarithm of the prices is taken and the the difference of consecutive (log) observations\n",
        "# Rantabilides aplicado logritmo  y diferencias con el precio inmediato anterior\n",
        "log_returns = np.log(stocks).diff()\n",
        "log_returns.head()"
      ],
      "execution_count": 0,
      "outputs": []
    },
    {
      "cell_type": "code",
      "metadata": {
        "id": "303NwdZ6SMgF",
        "colab_type": "code",
        "colab": {}
      },
      "source": [
        "# Grafica de las rentabilidades\n",
        "log_returns.plot(grid = True)"
      ],
      "execution_count": 0,
      "outputs": []
    },
    {
      "cell_type": "markdown",
      "metadata": {
        "id": "cRtxxf2lS6h4",
        "colab_type": "text"
      },
      "source": [
        "# 6. Calculo de Rentabilidad acumulada"
      ]
    },
    {
      "cell_type": "code",
      "metadata": {
        "id": "Sdvxjx0TZJ4a",
        "colab_type": "code",
        "colab": {}
      },
      "source": [
        "fig, (ax1, ax2) = plt.subplots(2, 1, figsize=(16,12))\n",
        "\n",
        "\n",
        "# Graficar la Rentabilidad acumulada logaritmica\n",
        "#-------------------------------------------\n",
        "\n",
        "for c in log_returns:\n",
        "    ax1.plot(log_returns.index, log_returns[c].cumsum(), label=str(c))\n",
        "\n",
        "ax1.set_ylabel('Cumulative log returns')\n",
        "ax1.legend(loc='best')\n",
        "\n",
        "\n",
        "# Graficar la Rentabilidad relativas\n",
        "#-------------------------------------------\n",
        "\n",
        "for c in log_returns:\n",
        "    ax2.plot(log_returns.index, 100*(np.exp(log_returns[c].cumsum()) - 1), label=str(c))\n",
        "\n",
        "ax2.set_ylabel('Total relative returns (%)')\n",
        "ax2.legend(loc='best')\n",
        "\n",
        "plt.show()"
      ],
      "execution_count": 0,
      "outputs": []
    },
    {
      "cell_type": "code",
      "metadata": {
        "id": "U4A-pMzDWvbK",
        "colab_type": "code",
        "colab": {}
      },
      "source": [
        "# Graficas de las acciones\n",
        "stocks.plot(grid = True)"
      ],
      "execution_count": 0,
      "outputs": []
    },
    {
      "cell_type": "code",
      "metadata": {
        "id": "TxCRzznibD85",
        "colab_type": "code",
        "colab": {}
      },
      "source": [
        ""
      ],
      "execution_count": 0,
      "outputs": []
    }
  ]
}