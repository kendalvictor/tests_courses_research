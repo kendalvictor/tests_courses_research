{
  "nbformat": 4,
  "nbformat_minor": 0,
  "metadata": {
    "colab": {
      "name": "1_DS_MC_Lectura_de_Datos_vf.ipynb",
      "provenance": [],
      "collapsed_sections": []
    },
    "kernelspec": {
      "name": "python3",
      "display_name": "Python 3"
    }
  },
  "cells": [
    {
      "cell_type": "markdown",
      "metadata": {
        "id": "8nwBHT5lU7hN",
        "colab_type": "text"
      },
      "source": [
        "##1. Instalación de Librerias"
      ]
    },
    {
      "cell_type": "code",
      "metadata": {
        "id": "QCwnh-6mVD9-",
        "colab_type": "code",
        "colab": {}
      },
      "source": [
        "## Instalacion de librerias\n",
        "#----------------------------------\n",
        "!pip install pandas\n",
        "!pip install pandas_datareader\n",
        "!pip install datetime\n",
        "!pip install matplotlib\n",
        "#!pip install  candlestick_ohlc"
      ],
      "execution_count": 0,
      "outputs": []
    },
    {
      "cell_type": "code",
      "metadata": {
        "id": "4VTtDMaoq7UM",
        "colab_type": "code",
        "colab": {}
      },
      "source": [
        "## Lectura de librerias\n",
        "#----------------------------------\n",
        "import pandas as pd\n",
        "import pandas_datareader.data as web   # Package and modules for importing data; this code may change depending on pandas version\n",
        "import datetime"
      ],
      "execution_count": 0,
      "outputs": []
    },
    {
      "cell_type": "markdown",
      "metadata": {
        "id": "xabdgGmIV-kb",
        "colab_type": "text"
      },
      "source": [
        "##2. Lectura de datos "
      ]
    },
    {
      "cell_type": "code",
      "metadata": {
        "id": "yg35kQ9ssS0i",
        "colab_type": "code",
        "colab": {}
      },
      "source": [
        "## Lectura de librerias\n",
        "#----------------------------------\n",
        "\n",
        "# Fecha de información\n",
        "start = datetime.datetime(2019,1,1)\n",
        "end = datetime.date.today()\n",
        "  \n",
        "# Lectura del precio de las acciones de Apple desde Yahoo Finance!\n",
        "apple = web.DataReader(\"DOCU\", \"yahoo\", start, end)\n",
        "\n",
        "# Tipo de objeto conseguido\n",
        "#type(apple)"
      ],
      "execution_count": 0,
      "outputs": []
    },
    {
      "cell_type": "code",
      "metadata": {
        "id": "IT4Y2Y4esfVT",
        "colab_type": "code",
        "colab": {}
      },
      "source": [
        "# Revision del objeto conseguido\n",
        "apple.head()"
      ],
      "execution_count": 0,
      "outputs": []
    },
    {
      "cell_type": "markdown",
      "metadata": {
        "id": "iybqExedWR67",
        "colab_type": "text"
      },
      "source": [
        "##3. Visualización de los valores del precio en el tiempo"
      ]
    },
    {
      "cell_type": "markdown",
      "metadata": {
        "id": "cRgMpNUBsrpN",
        "colab_type": "text"
      },
      "source": [
        "Visualizacion"
      ]
    },
    {
      "cell_type": "code",
      "metadata": {
        "id": "lwJNvMtqsqDP",
        "colab_type": "code",
        "colab": {}
      },
      "source": [
        "# Graficas de tendencia\n",
        "#-----------------------------------------------\n",
        "\n",
        "# Configuración del grafico\n",
        "#-----------------------------------------------\n",
        "# Importando libreria matplotlib\n",
        "import matplotlib.pyplot as plt   \n",
        "# Grafico Jupyter notebook\n",
        "%matplotlib inline  \n",
        "# Definiendo el tamaño del grafico\n",
        "%pylab inline\n",
        "pylab.rcParams['figure.figsize'] = (15, 9)\n",
        "\n",
        "# Grafico sobre el precio ajustado\n",
        "#-------------------------------------------------\n",
        "apple[\"Adj Close\"].plot(grid = True) "
      ],
      "execution_count": 0,
      "outputs": []
    },
    {
      "cell_type": "code",
      "metadata": {
        "id": "rAkp2vzEa2tv",
        "colab_type": "code",
        "colab": {}
      },
      "source": [
        "# Revision de rango de precios\n",
        "apple[\"Adj Close\"].plot.hist()"
      ],
      "execution_count": 0,
      "outputs": []
    },
    {
      "cell_type": "markdown",
      "metadata": {
        "id": "IE9PHBc4ZWnD",
        "colab_type": "text"
      },
      "source": [
        "#4. Evaluando las tendencias de 3 acciones de tecnologia"
      ]
    },
    {
      "cell_type": "code",
      "metadata": {
        "id": "GIPZCifKtTeZ",
        "colab_type": "code",
        "colab": {}
      },
      "source": [
        "#Lectura de nuevas fuentes de datos\n",
        "#-----------------------------------------------\n",
        "microsoft = web.DataReader(\"MSFT\", \"yahoo\", start, end)\n",
        "google = web.DataReader(\"GOOG\", \"yahoo\", start, end)\n",
        " \n",
        "# Consolidando la información conseguida\n",
        "#-----------------------------------------------\n",
        "stocks = pd.DataFrame({\"AAPL\": apple[\"Adj Close\"],\n",
        "                      \"MSFT\": microsoft[\"Adj Close\"],\n",
        "                      \"GOOG\": google[\"Adj Close\"]})\n",
        " \n",
        "stocks.head()"
      ],
      "execution_count": 0,
      "outputs": []
    },
    {
      "cell_type": "code",
      "metadata": {
        "id": "c51tkToVuPmu",
        "colab_type": "code",
        "colab": {}
      },
      "source": [
        "# Graficando el valor de las acciones\n",
        "#-----------------------------------------------\n",
        "stocks.plot(grid = True)"
      ],
      "execution_count": 0,
      "outputs": []
    },
    {
      "cell_type": "code",
      "metadata": {
        "id": "_HEb4ksK72kb",
        "colab_type": "code",
        "colab": {}
      },
      "source": [
        "# Analisis de correlacion entre acciones\n",
        "\n",
        "stocks.corr()"
      ],
      "execution_count": 0,
      "outputs": []
    },
    {
      "cell_type": "code",
      "metadata": {
        "id": "57O5bJTP8EKL",
        "colab_type": "code",
        "colab": {}
      },
      "source": [
        "# Analisi grafico de correlaciones entre el precio de las acciones\n",
        "\n",
        "import pandas as pd\n",
        "import seaborn as sns\n",
        "import matplotlib.pyplot as plt\n",
        "\n",
        "\n",
        "cm=plt.cm.viridis\n",
        "sns.heatmap(stocks.corr(),cmap=cm,linewidths=0.1,linecolor='white',annot=True)\n",
        "plt.show()"
      ],
      "execution_count": 0,
      "outputs": []
    },
    {
      "cell_type": "markdown",
      "metadata": {
        "id": "VRVr3ZVrsqll",
        "colab_type": "text"
      },
      "source": [
        ""
      ]
    }
  ]
}