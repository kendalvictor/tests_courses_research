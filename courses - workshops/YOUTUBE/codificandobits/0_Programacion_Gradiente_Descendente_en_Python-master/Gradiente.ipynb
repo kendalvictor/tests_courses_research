{
 "cells": [
  {
   "cell_type": "code",
   "execution_count": 2,
   "metadata": {},
   "outputs": [
    {
     "data": {
      "text/plain": [
       "8"
      ]
     },
     "execution_count": 2,
     "metadata": {},
     "output_type": "execute_result"
    }
   ],
   "source": [
    "import matplotlib.pyplot as plt\n",
    "from numpy.random import randint\n",
    "from numpy import linspace\n",
    "\n",
    "# Ejemplo del gradiente descendente aplicado a la función y = x^2 + 1\n",
    "# La ecuación matemática para el gradiente (derivada) es = 2*x\n",
    "\n",
    "x_inicial = randint(10)\n",
    "alpha = 0.1\n",
    "n_iteraciones = 15\n",
    "\n",
    "iteraciones = []\n",
    "y = []\n",
    "\n",
    "x_inicial"
   ]
  },
  {
   "cell_type": "code",
   "execution_count": 3,
   "metadata": {},
   "outputs": [
    {
     "name": "stdout",
     "output_type": "stream",
     "text": [
      "------------------------\n",
      "iteración  1\n",
      "x =  6.4 , y =  41.96000000000001\n",
      "------------------------\n",
      "iteración  2\n",
      "x =  5.12 , y =  27.2144\n",
      "------------------------\n",
      "iteración  3\n",
      "x =  4.096 , y =  17.777216\n",
      "------------------------\n",
      "iteración  4\n",
      "x =  3.2768 , y =  11.73741824\n",
      "------------------------\n",
      "iteración  5\n",
      "x =  2.62144 , y =  7.871947673600001\n",
      "------------------------\n",
      "iteración  6\n",
      "x =  2.0971520000000003 , y =  5.398046511104002\n",
      "------------------------\n",
      "iteración  7\n",
      "x =  1.6777216000000004 , y =  3.8147497671065613\n",
      "------------------------\n",
      "iteración  8\n",
      "x =  1.3421772800000003 , y =  2.8014398509481993\n",
      "------------------------\n",
      "iteración  9\n",
      "x =  1.0737418240000003 , y =  2.1529215046068475\n",
      "------------------------\n",
      "iteración  10\n",
      "x =  0.8589934592000003 , y =  1.7378697629483826\n",
      "------------------------\n",
      "iteración  11\n",
      "x =  0.6871947673600002 , y =  1.4722366482869647\n",
      "------------------------\n",
      "iteración  12\n",
      "x =  0.5497558138880001 , y =  1.3022314549036573\n",
      "------------------------\n",
      "iteración  13\n",
      "x =  0.43980465111040007 , y =  1.1934281311383408\n",
      "------------------------\n",
      "iteración  14\n",
      "x =  0.35184372088832006 , y =  1.1237940039285381\n",
      "------------------------\n",
      "iteración  15\n",
      "x =  0.281474976710656 , y =  1.0792281625142643\n"
     ]
    }
   ],
   "source": [
    "x = x_inicial\n",
    "for i in range(n_iteraciones):\n",
    "    print('------------------------')\n",
    "    print('iteración ', str(i+1))\n",
    "\n",
    "    # Calcular gradiente\n",
    "    gradiente = 2*x\n",
    "\n",
    "    # Actualizar \"x\" usando gradiente descendente\n",
    "    x = x - alpha*gradiente\n",
    "    \n",
    "    # Almacenar iteración y valor correspondiente\n",
    "    y.append(x**2 + 1)\n",
    "    iteraciones.append(i+1)\n",
    "\n",
    "    # Imprimir resultados\n",
    "    print('x = ', str(x), ', y = ', str(x**2+1))\n"
   ]
  },
  {
   "cell_type": "code",
   "execution_count": 4,
   "metadata": {},
   "outputs": [
    {
     "data": {
      "image/png": "[encoded data removed]",
      "text/plain": [
       "<Figure size 432x288 with 2 Axes>"
      ]
     },
     "metadata": {
      "needs_background": "light"
     },
     "output_type": "display_data"
    }
   ],
   "source": [
    "plt.subplot(1,2,1)\n",
    "plt.plot(iteraciones,y)\n",
    "plt.xlabel('Iteración')\n",
    "plt.ylabel('y')\n",
    "\n",
    "X = linspace(-5,5,100)\n",
    "Y = X**2 + 1\n",
    "plt.subplot(1,2,2)\n",
    "plt.plot(X,Y,0.0,1.0,'ro')\n",
    "plt.xlabel('x')\n",
    "plt.ylabel('y')\n",
    "\n",
    "plt.show()"
   ]
  },
  {
   "cell_type": "code",
   "execution_count": null,
   "metadata": {},
   "outputs": [],
   "source": []
  }
 ],
 "metadata": {
  "kernelspec": {
   "display_name": "Python 3",
   "language": "python",
   "name": "python3"
  },
  "language_info": {
   "codemirror_mode": {
    "name": "ipython",
    "version": 3
   },
   "file_extension": ".py",
   "mimetype": "text/x-python",
   "name": "python",
   "nbconvert_exporter": "python",
   "pygments_lexer": "ipython3",
   "version": "3.7.4"
  }
 },
 "nbformat": 4,
 "nbformat_minor": 4
}
