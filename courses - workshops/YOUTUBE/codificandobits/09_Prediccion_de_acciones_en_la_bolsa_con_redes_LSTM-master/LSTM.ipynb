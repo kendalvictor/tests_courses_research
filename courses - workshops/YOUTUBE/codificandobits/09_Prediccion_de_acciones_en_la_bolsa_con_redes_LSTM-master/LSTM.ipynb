{
 "cells": [
  {
   "cell_type": "code",
   "execution_count": 1,
   "metadata": {},
   "outputs": [
    {
     "name": "stderr",
     "output_type": "stream",
     "text": [
      "Using TensorFlow backend.\n"
     ]
    }
   ],
   "source": [
    "import os\n",
    "import numpy as np\n",
    "import random as rn\n",
    "\n",
    "import tensorflow as tf\n",
    "from keras import backend as k\n",
    "\n",
    "SEED = 42\n",
    "tf.random.set_seed(SEED)\n",
    "os.environ['PYTHONHASHSEED'] = str(SEED)\n",
    "np.random.seed(SEED)\n",
    "rn.seed(SEED)\n",
    "\n",
    "import matplotlib.pyplot as plt\n",
    "import pandas as pd\n",
    "\n",
    "from sklearn.preprocessing import MinMaxScaler\n",
    "from keras.models import Sequential\n",
    "from keras.layers import Dense, LSTM"
   ]
  },
  {
   "cell_type": "code",
   "execution_count": 2,
   "metadata": {},
   "outputs": [
    {
     "data": {
      "text/html": [
       "<div>\n",
       "<style scoped>\n",
       "    .dataframe tbody tr th:only-of-type {\n",
       "        vertical-align: middle;\n",
       "    }\n",
       "\n",
       "    .dataframe tbody tr th {\n",
       "        vertical-align: top;\n",
       "    }\n",
       "\n",
       "    .dataframe thead th {\n",
       "        text-align: right;\n",
       "    }\n",
       "</style>\n",
       "<table border=\"1\" class=\"dataframe\">\n",
       "  <thead>\n",
       "    <tr style=\"text-align: right;\">\n",
       "      <th></th>\n",
       "      <th>Open</th>\n",
       "      <th>High</th>\n",
       "      <th>Low</th>\n",
       "      <th>Close</th>\n",
       "      <th>Volume</th>\n",
       "      <th>Name</th>\n",
       "    </tr>\n",
       "    <tr>\n",
       "      <th>Date</th>\n",
       "      <th></th>\n",
       "      <th></th>\n",
       "      <th></th>\n",
       "      <th></th>\n",
       "      <th></th>\n",
       "      <th></th>\n",
       "    </tr>\n",
       "  </thead>\n",
       "  <tbody>\n",
       "    <tr>\n",
       "      <td>2006-01-03</td>\n",
       "      <td>10.34</td>\n",
       "      <td>10.68</td>\n",
       "      <td>10.32</td>\n",
       "      <td>10.68</td>\n",
       "      <td>201853036</td>\n",
       "      <td>AAPL</td>\n",
       "    </tr>\n",
       "    <tr>\n",
       "      <td>2006-01-04</td>\n",
       "      <td>10.73</td>\n",
       "      <td>10.85</td>\n",
       "      <td>10.64</td>\n",
       "      <td>10.71</td>\n",
       "      <td>155225609</td>\n",
       "      <td>AAPL</td>\n",
       "    </tr>\n",
       "    <tr>\n",
       "      <td>2006-01-05</td>\n",
       "      <td>10.69</td>\n",
       "      <td>10.70</td>\n",
       "      <td>10.54</td>\n",
       "      <td>10.63</td>\n",
       "      <td>112396081</td>\n",
       "      <td>AAPL</td>\n",
       "    </tr>\n",
       "    <tr>\n",
       "      <td>2006-01-06</td>\n",
       "      <td>10.75</td>\n",
       "      <td>10.96</td>\n",
       "      <td>10.65</td>\n",
       "      <td>10.90</td>\n",
       "      <td>176139334</td>\n",
       "      <td>AAPL</td>\n",
       "    </tr>\n",
       "    <tr>\n",
       "      <td>2006-01-09</td>\n",
       "      <td>10.96</td>\n",
       "      <td>11.03</td>\n",
       "      <td>10.82</td>\n",
       "      <td>10.86</td>\n",
       "      <td>168861224</td>\n",
       "      <td>AAPL</td>\n",
       "    </tr>\n",
       "  </tbody>\n",
       "</table>\n",
       "</div>"
      ],
      "text/plain": [
       "             Open   High    Low  Close     Volume  Name\n",
       "Date                                                   \n",
       "2006-01-03  10.34  10.68  10.32  10.68  201853036  AAPL\n",
       "2006-01-04  10.73  10.85  10.64  10.71  155225609  AAPL\n",
       "2006-01-05  10.69  10.70  10.54  10.63  112396081  AAPL\n",
       "2006-01-06  10.75  10.96  10.65  10.90  176139334  AAPL\n",
       "2006-01-09  10.96  11.03  10.82  10.86  168861224  AAPL"
      ]
     },
     "execution_count": 2,
     "metadata": {},
     "output_type": "execute_result"
    }
   ],
   "source": [
    "#\n",
    "# Lectura de los datos\n",
    "#\n",
    "dataset = pd.read_csv(\n",
    "    'AAPL_2006-01-01_to_2018-01-01.csv', \n",
    "    parse_dates=['Date']\n",
    ").set_index('Date')\n",
    " \n",
    "dataset.head()"
   ]
  },
  {
   "cell_type": "code",
   "execution_count": 3,
   "metadata": {},
   "outputs": [
    {
     "data": {
      "text/plain": [
       "Open      float64\n",
       "High      float64\n",
       "Low       float64\n",
       "Close     float64\n",
       "Volume      int64\n",
       "Name       object\n",
       "dtype: object"
      ]
     },
     "execution_count": 3,
     "metadata": {},
     "output_type": "execute_result"
    }
   ],
   "source": [
    "dataset.dtypes"
   ]
  },
  {
   "cell_type": "code",
   "execution_count": 4,
   "metadata": {},
   "outputs": [
    {
     "data": {
      "text/plain": [
       "DatetimeIndex(['2006-01-03', '2006-01-04', '2006-01-05', '2006-01-06',\n",
       "               '2006-01-09', '2006-01-10', '2006-01-11', '2006-01-12',\n",
       "               '2006-01-13', '2006-01-17',\n",
       "               ...\n",
       "               '2017-12-15', '2017-12-18', '2017-12-19', '2017-12-20',\n",
       "               '2017-12-21', '2017-12-22', '2017-12-26', '2017-12-27',\n",
       "               '2017-12-28', '2017-12-29'],\n",
       "              dtype='datetime64[ns]', name='Date', length=3019, freq=None)"
      ]
     },
     "execution_count": 4,
     "metadata": {},
     "output_type": "execute_result"
    }
   ],
   "source": [
    "dataset.index"
   ]
  },
  {
   "cell_type": "code",
   "execution_count": 5,
   "metadata": {},
   "outputs": [
    {
     "data": {
      "text/plain": [
       "(Timestamp('2006-01-03 00:00:00'), Timestamp('2017-12-29 00:00:00'), (3019, 6))"
      ]
     },
     "execution_count": 5,
     "metadata": {},
     "output_type": "execute_result"
    }
   ],
   "source": [
    "dataset.index.min(), dataset.index.max(), dataset.shape"
   ]
  },
  {
   "cell_type": "code",
   "execution_count": 6,
   "metadata": {},
   "outputs": [
    {
     "name": "stdout",
     "output_type": "stream",
     "text": [
      "2006-01-03 00:00:00 2016-12-30 00:00:00 (2768, 1)\n",
      "2017-01-03 00:00:00 2017-12-29 00:00:00 (251, 1)\n"
     ]
    }
   ],
   "source": [
    "set_entrenamiento = dataset['2006':'2016'].iloc[:,1:2]\n",
    "set_validacion = dataset['2017'].iloc[:,1:2]\n",
    "\n",
    "print(set_entrenamiento.index.min(), set_entrenamiento.index.max(), set_entrenamiento.shape)\n",
    "print(set_validacion.index.min(), set_validacion.index.max(), set_validacion.shape)"
   ]
  },
  {
   "cell_type": "code",
   "execution_count": 7,
   "metadata": {},
   "outputs": [
    {
     "data": {
      "text/html": [
       "<div>\n",
       "<style scoped>\n",
       "    .dataframe tbody tr th:only-of-type {\n",
       "        vertical-align: middle;\n",
       "    }\n",
       "\n",
       "    .dataframe tbody tr th {\n",
       "        vertical-align: top;\n",
       "    }\n",
       "\n",
       "    .dataframe thead th {\n",
       "        text-align: right;\n",
       "    }\n",
       "</style>\n",
       "<table border=\"1\" class=\"dataframe\">\n",
       "  <thead>\n",
       "    <tr style=\"text-align: right;\">\n",
       "      <th></th>\n",
       "      <th>High</th>\n",
       "    </tr>\n",
       "    <tr>\n",
       "      <th>Date</th>\n",
       "      <th></th>\n",
       "    </tr>\n",
       "  </thead>\n",
       "  <tbody>\n",
       "    <tr>\n",
       "      <td>2006-01-03</td>\n",
       "      <td>10.68</td>\n",
       "    </tr>\n",
       "    <tr>\n",
       "      <td>2006-01-04</td>\n",
       "      <td>10.85</td>\n",
       "    </tr>\n",
       "    <tr>\n",
       "      <td>2006-01-05</td>\n",
       "      <td>10.70</td>\n",
       "    </tr>\n",
       "    <tr>\n",
       "      <td>2006-01-06</td>\n",
       "      <td>10.96</td>\n",
       "    </tr>\n",
       "    <tr>\n",
       "      <td>2006-01-09</td>\n",
       "      <td>11.03</td>\n",
       "    </tr>\n",
       "  </tbody>\n",
       "</table>\n",
       "</div>"
      ],
      "text/plain": [
       "             High\n",
       "Date             \n",
       "2006-01-03  10.68\n",
       "2006-01-04  10.85\n",
       "2006-01-05  10.70\n",
       "2006-01-06  10.96\n",
       "2006-01-09  11.03"
      ]
     },
     "execution_count": 7,
     "metadata": {},
     "output_type": "execute_result"
    }
   ],
   "source": [
    "set_entrenamiento.head()"
   ]
  },
  {
   "cell_type": "code",
   "execution_count": 8,
   "metadata": {},
   "outputs": [
    {
     "data": {
      "image/png": "[encoded data removed]",
      "text/plain": [
       "<Figure size 432x288 with 1 Axes>"
      ]
     },
     "metadata": {
      "needs_background": "light"
     },
     "output_type": "display_data"
    }
   ],
   "source": [
    "set_entrenamiento['High'].plot(legend=True)\n",
    "set_validacion['High'].plot(legend=True)\n",
    "plt.legend(['Entrenamiento (2006-2016)', 'Validación (2017)'])\n",
    "plt.show()"
   ]
  },
  {
   "cell_type": "code",
   "execution_count": 9,
   "metadata": {},
   "outputs": [
    {
     "data": {
      "text/plain": [
       "(60, 1)"
      ]
     },
     "execution_count": 9,
     "metadata": {},
     "output_type": "execute_result"
    }
   ],
   "source": [
    "time_step = 60\n",
    "set_entrenamiento[-1*time_step:].shape"
   ]
  },
  {
   "cell_type": "code",
   "execution_count": 10,
   "metadata": {},
   "outputs": [
    {
     "data": {
      "text/html": [
       "<div>\n",
       "<style scoped>\n",
       "    .dataframe tbody tr th:only-of-type {\n",
       "        vertical-align: middle;\n",
       "    }\n",
       "\n",
       "    .dataframe tbody tr th {\n",
       "        vertical-align: top;\n",
       "    }\n",
       "\n",
       "    .dataframe thead th {\n",
       "        text-align: right;\n",
       "    }\n",
       "</style>\n",
       "<table border=\"1\" class=\"dataframe\">\n",
       "  <thead>\n",
       "    <tr style=\"text-align: right;\">\n",
       "      <th></th>\n",
       "      <th>High</th>\n",
       "    </tr>\n",
       "    <tr>\n",
       "      <th>Date</th>\n",
       "      <th></th>\n",
       "    </tr>\n",
       "  </thead>\n",
       "  <tbody>\n",
       "    <tr>\n",
       "      <td>2016-12-23</td>\n",
       "      <td>116.52</td>\n",
       "    </tr>\n",
       "    <tr>\n",
       "      <td>2016-12-27</td>\n",
       "      <td>117.80</td>\n",
       "    </tr>\n",
       "    <tr>\n",
       "      <td>2016-12-28</td>\n",
       "      <td>118.02</td>\n",
       "    </tr>\n",
       "    <tr>\n",
       "      <td>2016-12-29</td>\n",
       "      <td>117.11</td>\n",
       "    </tr>\n",
       "    <tr>\n",
       "      <td>2016-12-30</td>\n",
       "      <td>117.20</td>\n",
       "    </tr>\n",
       "  </tbody>\n",
       "</table>\n",
       "</div>"
      ],
      "text/plain": [
       "              High\n",
       "Date              \n",
       "2016-12-23  116.52\n",
       "2016-12-27  117.80\n",
       "2016-12-28  118.02\n",
       "2016-12-29  117.11\n",
       "2016-12-30  117.20"
      ]
     },
     "execution_count": 10,
     "metadata": {},
     "output_type": "execute_result"
    }
   ],
   "source": [
    "set_entrenamiento[-1*time_step:].tail()"
   ]
  },
  {
   "cell_type": "code",
   "execution_count": 11,
   "metadata": {},
   "outputs": [
    {
     "data": {
      "text/html": [
       "<div>\n",
       "<style scoped>\n",
       "    .dataframe tbody tr th:only-of-type {\n",
       "        vertical-align: middle;\n",
       "    }\n",
       "\n",
       "    .dataframe tbody tr th {\n",
       "        vertical-align: top;\n",
       "    }\n",
       "\n",
       "    .dataframe thead th {\n",
       "        text-align: right;\n",
       "    }\n",
       "</style>\n",
       "<table border=\"1\" class=\"dataframe\">\n",
       "  <thead>\n",
       "    <tr style=\"text-align: right;\">\n",
       "      <th></th>\n",
       "      <th>High</th>\n",
       "    </tr>\n",
       "    <tr>\n",
       "      <th>Date</th>\n",
       "      <th></th>\n",
       "    </tr>\n",
       "  </thead>\n",
       "  <tbody>\n",
       "    <tr>\n",
       "      <td>2017-01-03</td>\n",
       "      <td>116.33</td>\n",
       "    </tr>\n",
       "    <tr>\n",
       "      <td>2017-01-04</td>\n",
       "      <td>116.51</td>\n",
       "    </tr>\n",
       "    <tr>\n",
       "      <td>2017-01-05</td>\n",
       "      <td>116.86</td>\n",
       "    </tr>\n",
       "    <tr>\n",
       "      <td>2017-01-06</td>\n",
       "      <td>118.16</td>\n",
       "    </tr>\n",
       "    <tr>\n",
       "      <td>2017-01-09</td>\n",
       "      <td>119.43</td>\n",
       "    </tr>\n",
       "  </tbody>\n",
       "</table>\n",
       "</div>"
      ],
      "text/plain": [
       "              High\n",
       "Date              \n",
       "2017-01-03  116.33\n",
       "2017-01-04  116.51\n",
       "2017-01-05  116.86\n",
       "2017-01-06  118.16\n",
       "2017-01-09  119.43"
      ]
     },
     "execution_count": 11,
     "metadata": {},
     "output_type": "execute_result"
    }
   ],
   "source": [
    "set_validacion.head()"
   ]
  },
  {
   "cell_type": "code",
   "execution_count": 12,
   "metadata": {},
   "outputs": [
    {
     "data": {
      "text/plain": [
       "((311, 1), (251, 1))"
      ]
     },
     "execution_count": 12,
     "metadata": {},
     "output_type": "execute_result"
    }
   ],
   "source": [
    "set_validacion_init = set_validacion.copy()\n",
    "index_validacion = set_validacion.index.copy()\n",
    "\n",
    "set_validacion = pd.concat([\n",
    "    set_entrenamiento[-1*time_step:], \n",
    "    set_validacion],\n",
    "    axis=0\n",
    ")\n",
    "set_validacion.shape, set_validacion_init.shape"
   ]
  },
  {
   "cell_type": "code",
   "execution_count": 13,
   "metadata": {},
   "outputs": [],
   "source": [
    "#other_entrenamiento = dataset['2006':'2015'].iloc[:, 1:2]\n",
    "#other_validacion = dataset['2016'].iloc[:, 1:2]\n",
    "\n",
    "#print(other_entrenamiento.index.min(), other_entrenamiento.index.max(), other_entrenamiento.shape)\n",
    "#print(other_validacion.index.min(), other_validacion.index.max(), other_validacion.shape)"
   ]
  },
  {
   "cell_type": "code",
   "execution_count": 14,
   "metadata": {},
   "outputs": [],
   "source": [
    "#other_entrenamiento['High'].plot(legend=True)\n",
    "#other_validacion['High'].plot(legend=True)\n",
    "#plt.legend(['Entrenamiento (2006-2016)', 'Validación (2017)'])\n",
    "#plt.show()"
   ]
  },
  {
   "cell_type": "markdown",
   "metadata": {},
   "source": [
    "## Modeling"
   ]
  },
  {
   "cell_type": "code",
   "execution_count": 15,
   "metadata": {},
   "outputs": [
    {
     "data": {
      "text/plain": [
       "array([[0.0245708 ],\n",
       "       [0.02590959],\n",
       "       [0.0247283 ],\n",
       "       ...,\n",
       "       [0.86990077],\n",
       "       [0.86273429],\n",
       "       [0.86344306]])"
      ]
     },
     "metadata": {},
     "output_type": "display_data"
    },
    {
     "data": {
      "text/plain": [
       "(2768, 1)"
      ]
     },
     "execution_count": 15,
     "metadata": {},
     "output_type": "execute_result"
    }
   ],
   "source": [
    "# Normalización del set de entrenamiento\n",
    "sc = MinMaxScaler(feature_range=(0,1))\n",
    "set_entrenamiento_escalado = sc.fit_transform(set_entrenamiento)\n",
    "\n",
    "display(set_entrenamiento_escalado)\n",
    "\n",
    "set_entrenamiento_escalado.shape"
   ]
  },
  {
   "cell_type": "code",
   "execution_count": 16,
   "metadata": {},
   "outputs": [],
   "source": [
    "pd.set_option('display.max_rows', 500)\n",
    "pd.set_option('display.max_columns', 500)"
   ]
  },
  {
   "cell_type": "code",
   "execution_count": 17,
   "metadata": {},
   "outputs": [],
   "source": [
    "X_train = []\n",
    "Y_train = []\n",
    "m = len(set_entrenamiento_escalado)\n",
    "\n",
    "for i in range(time_step, m):\n",
    "    X_train.append(\n",
    "        set_entrenamiento_escalado[i - time_step: i, 0]\n",
    "    )\n",
    "    Y_train.append(\n",
    "        set_entrenamiento_escalado[i, 0]\n",
    "    )\n",
    "    \n",
    "X_train, Y_train = np.array(X_train), np.array(Y_train)"
   ]
  },
  {
   "cell_type": "code",
   "execution_count": 18,
   "metadata": {},
   "outputs": [
    {
     "data": {
      "text/plain": [
       "((2708, 60), (2708,))"
      ]
     },
     "execution_count": 18,
     "metadata": {},
     "output_type": "execute_result"
    }
   ],
   "source": [
    "X_train.shape, Y_train.shape"
   ]
  },
  {
   "cell_type": "code",
   "execution_count": 19,
   "metadata": {},
   "outputs": [
    {
     "data": {
      "text/plain": [
       "array([0.0245708 , 0.02590959, 0.0247283 , 0.02677587, 0.02732714,\n",
       "       0.03260356, 0.03583241, 0.03764372, 0.03724996, 0.03764372,\n",
       "       0.03504489, 0.0323673 , 0.03047724, 0.03000473, 0.02984722,\n",
       "       0.02764215, 0.02535832, 0.02323201, 0.02661837, 0.02638211,\n",
       "       0.02646086, 0.02527957, 0.02236573, 0.02205072, 0.01866436,\n",
       "       0.01819184, 0.01834935, 0.01661679, 0.01559301, 0.01708931,\n",
       "       0.01882186, 0.02031816, 0.02023941, 0.0200819 , 0.02110569,\n",
       "       0.02260198, 0.02244448, 0.0215782 , 0.02189321, 0.01866436,\n",
       "       0.01921562, 0.01913687, 0.01661679, 0.01575051, 0.01606552,\n",
       "       0.015278  , 0.01299417, 0.01504174, 0.01622303, 0.01701055,\n",
       "       0.01575051, 0.01417546, 0.01409671, 0.01283667, 0.01165538,\n",
       "       0.01008033, 0.00905654, 0.00952906, 0.00811151, 0.0107891 ])"
      ]
     },
     "metadata": {},
     "output_type": "display_data"
    },
    {
     "data": {
      "text/plain": [
       "'----------------------------------------------------------------------------------------------------'"
      ]
     },
     "metadata": {},
     "output_type": "display_data"
    },
    {
     "data": {
      "text/plain": [
       "array([0.02590959, 0.0247283 , 0.02677587, 0.02732714, 0.03260356,\n",
       "       0.03583241, 0.03764372, 0.03724996, 0.03764372, 0.03504489,\n",
       "       0.0323673 , 0.03047724, 0.03000473, 0.02984722, 0.02764215,\n",
       "       0.02535832, 0.02323201, 0.02661837, 0.02638211, 0.02646086,\n",
       "       0.02527957, 0.02236573, 0.02205072, 0.01866436, 0.01819184,\n",
       "       0.01834935, 0.01661679, 0.01559301, 0.01708931, 0.01882186,\n",
       "       0.02031816, 0.02023941, 0.0200819 , 0.02110569, 0.02260198,\n",
       "       0.02244448, 0.0215782 , 0.02189321, 0.01866436, 0.01921562,\n",
       "       0.01913687, 0.01661679, 0.01575051, 0.01606552, 0.015278  ,\n",
       "       0.01299417, 0.01504174, 0.01622303, 0.01701055, 0.01575051,\n",
       "       0.01417546, 0.01409671, 0.01283667, 0.01165538, 0.01008033,\n",
       "       0.00905654, 0.00952906, 0.00811151, 0.0107891 , 0.01165538])"
      ]
     },
     "metadata": {},
     "output_type": "display_data"
    }
   ],
   "source": [
    "display(X_train[0])\n",
    "display(\"-\"*100)\n",
    "display(X_train[1])"
   ]
  },
  {
   "cell_type": "code",
   "execution_count": 20,
   "metadata": {},
   "outputs": [
    {
     "data": {
      "text/plain": [
       "array([[0.0245708 ],\n",
       "       [0.02590959],\n",
       "       [0.0247283 ],\n",
       "       [0.02677587],\n",
       "       [0.02732714],\n",
       "       [0.03260356],\n",
       "       [0.03583241],\n",
       "       [0.03764372],\n",
       "       [0.03724996],\n",
       "       [0.03764372],\n",
       "       [0.03504489],\n",
       "       [0.0323673 ],\n",
       "       [0.03047724],\n",
       "       [0.03000473],\n",
       "       [0.02984722],\n",
       "       [0.02764215],\n",
       "       [0.02535832],\n",
       "       [0.02323201],\n",
       "       [0.02661837],\n",
       "       [0.02638211],\n",
       "       [0.02646086],\n",
       "       [0.02527957],\n",
       "       [0.02236573],\n",
       "       [0.02205072],\n",
       "       [0.01866436],\n",
       "       [0.01819184],\n",
       "       [0.01834935],\n",
       "       [0.01661679],\n",
       "       [0.01559301],\n",
       "       [0.01708931],\n",
       "       [0.01882186],\n",
       "       [0.02031816],\n",
       "       [0.02023941],\n",
       "       [0.0200819 ],\n",
       "       [0.02110569],\n",
       "       [0.02260198],\n",
       "       [0.02244448],\n",
       "       [0.0215782 ],\n",
       "       [0.02189321],\n",
       "       [0.01866436],\n",
       "       [0.01921562],\n",
       "       [0.01913687],\n",
       "       [0.01661679],\n",
       "       [0.01575051],\n",
       "       [0.01606552],\n",
       "       [0.015278  ],\n",
       "       [0.01299417],\n",
       "       [0.01504174],\n",
       "       [0.01622303],\n",
       "       [0.01701055],\n",
       "       [0.01575051],\n",
       "       [0.01417546],\n",
       "       [0.01409671],\n",
       "       [0.01283667],\n",
       "       [0.01165538],\n",
       "       [0.01008033],\n",
       "       [0.00905654],\n",
       "       [0.00952906],\n",
       "       [0.00811151],\n",
       "       [0.0107891 ]])"
      ]
     },
     "metadata": {},
     "output_type": "display_data"
    },
    {
     "data": {
      "text/plain": [
       "'----------------------------------------------------------------------------------------------------'"
      ]
     },
     "metadata": {},
     "output_type": "display_data"
    },
    {
     "data": {
      "text/plain": [
       "array([[0.02590959],\n",
       "       [0.0247283 ],\n",
       "       [0.02677587],\n",
       "       [0.02732714],\n",
       "       [0.03260356],\n",
       "       [0.03583241],\n",
       "       [0.03764372],\n",
       "       [0.03724996],\n",
       "       [0.03764372],\n",
       "       [0.03504489],\n",
       "       [0.0323673 ],\n",
       "       [0.03047724],\n",
       "       [0.03000473],\n",
       "       [0.02984722],\n",
       "       [0.02764215],\n",
       "       [0.02535832],\n",
       "       [0.02323201],\n",
       "       [0.02661837],\n",
       "       [0.02638211],\n",
       "       [0.02646086],\n",
       "       [0.02527957],\n",
       "       [0.02236573],\n",
       "       [0.02205072],\n",
       "       [0.01866436],\n",
       "       [0.01819184],\n",
       "       [0.01834935],\n",
       "       [0.01661679],\n",
       "       [0.01559301],\n",
       "       [0.01708931],\n",
       "       [0.01882186],\n",
       "       [0.02031816],\n",
       "       [0.02023941],\n",
       "       [0.0200819 ],\n",
       "       [0.02110569],\n",
       "       [0.02260198],\n",
       "       [0.02244448],\n",
       "       [0.0215782 ],\n",
       "       [0.02189321],\n",
       "       [0.01866436],\n",
       "       [0.01921562],\n",
       "       [0.01913687],\n",
       "       [0.01661679],\n",
       "       [0.01575051],\n",
       "       [0.01606552],\n",
       "       [0.015278  ],\n",
       "       [0.01299417],\n",
       "       [0.01504174],\n",
       "       [0.01622303],\n",
       "       [0.01701055],\n",
       "       [0.01575051],\n",
       "       [0.01417546],\n",
       "       [0.01409671],\n",
       "       [0.01283667],\n",
       "       [0.01165538],\n",
       "       [0.01008033],\n",
       "       [0.00905654],\n",
       "       [0.00952906],\n",
       "       [0.00811151],\n",
       "       [0.0107891 ],\n",
       "       [0.01165538]])"
      ]
     },
     "metadata": {},
     "output_type": "display_data"
    }
   ],
   "source": [
    "X_train = np.reshape(\n",
    "    X_train, \n",
    "    (X_train.shape[0], X_train.shape[1], 1)\n",
    ")\n",
    "\n",
    "display(X_train[0])\n",
    "display(\"-\"*100)\n",
    "display(X_train[1])"
   ]
  },
  {
   "cell_type": "code",
   "execution_count": 21,
   "metadata": {},
   "outputs": [
    {
     "data": {
      "text/plain": [
       "array([[0.01165538],\n",
       "       [0.01204914],\n",
       "       [0.01260041],\n",
       "       ...,\n",
       "       [0.86990077],\n",
       "       [0.86273429],\n",
       "       [0.86344306]])"
      ]
     },
     "execution_count": 21,
     "metadata": {},
     "output_type": "execute_result"
    }
   ],
   "source": [
    "np.reshape(Y_train, (Y_train.shape[0], 1))"
   ]
  },
  {
   "cell_type": "code",
   "execution_count": 22,
   "metadata": {},
   "outputs": [
    {
     "data": {
      "text/plain": [
       "array([0.01165538, 0.01204914, 0.01260041, ..., 0.86990077, 0.86273429,\n",
       "       0.86344306])"
      ]
     },
     "execution_count": 22,
     "metadata": {},
     "output_type": "execute_result"
    }
   ],
   "source": [
    "Y_train"
   ]
  },
  {
   "cell_type": "code",
   "execution_count": 23,
   "metadata": {},
   "outputs": [],
   "source": [
    "# Red LSTM\n",
    "#\n",
    "dim_entrada = (X_train.shape[1], 1)\n",
    "dim_salida = 1\n",
    "na = 50"
   ]
  },
  {
   "cell_type": "code",
   "execution_count": 24,
   "metadata": {},
   "outputs": [
    {
     "name": "stdout",
     "output_type": "stream",
     "text": [
      "Epoch 1/10\n",
      "2708/2708 [==============================] - 4s 2ms/step - loss: 0.0096\n",
      "Epoch 2/10\n",
      "2708/2708 [==============================] - 3s 1ms/step - loss: 0.0012\n",
      "Epoch 3/10\n",
      "2708/2708 [==============================] - 3s 1ms/step - loss: 7.3717e-04\n",
      "Epoch 4/10\n",
      "2708/2708 [==============================] - 3s 1ms/step - loss: 5.3420e-04\n",
      "Epoch 5/10\n",
      "2708/2708 [==============================] - 3s 969us/step - loss: 4.0960e-04\n",
      "Epoch 6/10\n",
      "2708/2708 [==============================] - 3s 951us/step - loss: 3.6817e-04\n",
      "Epoch 7/10\n",
      "2708/2708 [==============================] - 2s 913us/step - loss: 3.2374e-04\n",
      "Epoch 8/10\n",
      "2708/2708 [==============================] - 2s 921us/step - loss: 3.0008e-04\n",
      "Epoch 9/10\n",
      "2708/2708 [==============================] - 2s 889us/step - loss: 2.5060e-04\n",
      "Epoch 10/10\n",
      "2708/2708 [==============================] - 3s 1ms/step - loss: 2.6070e-04\n"
     ]
    },
    {
     "data": {
      "text/plain": [
       "<keras.callbacks.callbacks.History at 0x7efe0daff6d0>"
      ]
     },
     "execution_count": 24,
     "metadata": {},
     "output_type": "execute_result"
    }
   ],
   "source": [
    "modelo = Sequential()\n",
    "modelo.add(\n",
    "    LSTM(units=na, input_shape=dim_entrada)\n",
    ")\n",
    "modelo.add(\n",
    "    Dense(units=dim_salida)\n",
    ")\n",
    "modelo.compile(\n",
    "    optimizer='rmsprop', \n",
    "    loss='mse'\n",
    ")\n",
    "modelo.fit(\n",
    "    X_train, \n",
    "    Y_train, \n",
    "    epochs=10, \n",
    "    batch_size=32\n",
    ")"
   ]
  },
  {
   "cell_type": "code",
   "execution_count": 25,
   "metadata": {},
   "outputs": [
    {
     "data": {
      "text/plain": [
       "(311, 1)"
      ]
     },
     "execution_count": 25,
     "metadata": {},
     "output_type": "execute_result"
    }
   ],
   "source": [
    "set_validacion.shape"
   ]
  },
  {
   "cell_type": "code",
   "execution_count": 26,
   "metadata": {},
   "outputs": [
    {
     "data": {
      "text/plain": [
       "(311, 1)"
      ]
     },
     "execution_count": 26,
     "metadata": {},
     "output_type": "execute_result"
    }
   ],
   "source": [
    "#\n",
    "# Validación (predicción del valor de las acciones)\n",
    "#\n",
    "x_test = set_validacion.values\n",
    "x_test = sc.transform(x_test)\n",
    "x_test.shape"
   ]
  },
  {
   "cell_type": "code",
   "execution_count": 27,
   "metadata": {},
   "outputs": [
    {
     "data": {
      "text/html": [
       "<div>\n",
       "<style scoped>\n",
       "    .dataframe tbody tr th:only-of-type {\n",
       "        vertical-align: middle;\n",
       "    }\n",
       "\n",
       "    .dataframe tbody tr th {\n",
       "        vertical-align: top;\n",
       "    }\n",
       "\n",
       "    .dataframe thead th {\n",
       "        text-align: right;\n",
       "    }\n",
       "</style>\n",
       "<table border=\"1\" class=\"dataframe\">\n",
       "  <thead>\n",
       "    <tr style=\"text-align: right;\">\n",
       "      <th></th>\n",
       "      <th>High</th>\n",
       "    </tr>\n",
       "    <tr>\n",
       "      <th>Date</th>\n",
       "      <th></th>\n",
       "    </tr>\n",
       "  </thead>\n",
       "  <tbody>\n",
       "    <tr>\n",
       "      <td>2016-10-06</td>\n",
       "      <td>114.34</td>\n",
       "    </tr>\n",
       "    <tr>\n",
       "      <td>2016-10-07</td>\n",
       "      <td>114.56</td>\n",
       "    </tr>\n",
       "  </tbody>\n",
       "</table>\n",
       "</div>"
      ],
      "text/plain": [
       "              High\n",
       "Date              \n",
       "2016-10-06  114.34\n",
       "2016-10-07  114.56"
      ]
     },
     "metadata": {},
     "output_type": "display_data"
    },
    {
     "data": {
      "text/html": [
       "<div>\n",
       "<style scoped>\n",
       "    .dataframe tbody tr th:only-of-type {\n",
       "        vertical-align: middle;\n",
       "    }\n",
       "\n",
       "    .dataframe tbody tr th {\n",
       "        vertical-align: top;\n",
       "    }\n",
       "\n",
       "    .dataframe thead th {\n",
       "        text-align: right;\n",
       "    }\n",
       "</style>\n",
       "<table border=\"1\" class=\"dataframe\">\n",
       "  <thead>\n",
       "    <tr style=\"text-align: right;\">\n",
       "      <th></th>\n",
       "      <th>High</th>\n",
       "    </tr>\n",
       "    <tr>\n",
       "      <th>Date</th>\n",
       "      <th></th>\n",
       "    </tr>\n",
       "  </thead>\n",
       "  <tbody>\n",
       "    <tr>\n",
       "      <td>2017-12-28</td>\n",
       "      <td>171.85</td>\n",
       "    </tr>\n",
       "    <tr>\n",
       "      <td>2017-12-29</td>\n",
       "      <td>170.59</td>\n",
       "    </tr>\n",
       "  </tbody>\n",
       "</table>\n",
       "</div>"
      ],
      "text/plain": [
       "              High\n",
       "Date              \n",
       "2017-12-28  171.85\n",
       "2017-12-29  170.59"
      ]
     },
     "metadata": {},
     "output_type": "display_data"
    }
   ],
   "source": [
    "display(set_validacion.head(2))\n",
    "display(set_validacion.tail(2))"
   ]
  },
  {
   "cell_type": "code",
   "execution_count": 28,
   "metadata": {},
   "outputs": [],
   "source": [
    "X_test = []\n",
    "\n",
    "for i in range(time_step, len(x_test)):\n",
    "    X_test.append( \n",
    "        x_test[i - time_step:i, 0]\n",
    "    )"
   ]
  },
  {
   "cell_type": "code",
   "execution_count": 29,
   "metadata": {},
   "outputs": [
    {
     "data": {
      "text/plain": [
       "array([[0.84091983, 0.84265239, 0.8598992 , ..., 0.86990077, 0.86273429,\n",
       "        0.86344306],\n",
       "       [0.84265239, 0.8598992 , 0.87517719, ..., 0.86273429, 0.86344306,\n",
       "        0.85659159],\n",
       "       [0.8598992 , 0.87517719, 0.86958576, ..., 0.86344306, 0.85659159,\n",
       "        0.85800914],\n",
       "       ...,\n",
       "       [1.15679635, 1.16183651, 1.15214994, ..., 1.32666562, 1.32194046,\n",
       "        1.2908332 ],\n",
       "       [1.16183651, 1.15214994, 1.16459285, ..., 1.32194046, 1.2908332 ,\n",
       "        1.28539928],\n",
       "       [1.15214994, 1.16459285, 1.16498661, ..., 1.2908332 , 1.28539928,\n",
       "        1.2938258 ]])"
      ]
     },
     "execution_count": 29,
     "metadata": {},
     "output_type": "execute_result"
    }
   ],
   "source": [
    "X_test = np.array(X_test)\n",
    "X_test"
   ]
  },
  {
   "cell_type": "code",
   "execution_count": 30,
   "metadata": {},
   "outputs": [
    {
     "data": {
      "text/plain": [
       "array([[[0.84091983],\n",
       "        [0.84265239],\n",
       "        [0.8598992 ],\n",
       "        ...,\n",
       "        [0.86990077],\n",
       "        [0.86273429],\n",
       "        [0.86344306]],\n",
       "\n",
       "       [[0.84265239],\n",
       "        [0.8598992 ],\n",
       "        [0.87517719],\n",
       "        ...,\n",
       "        [0.86273429],\n",
       "        [0.86344306],\n",
       "        [0.85659159]],\n",
       "\n",
       "       [[0.8598992 ],\n",
       "        [0.87517719],\n",
       "        [0.86958576],\n",
       "        ...,\n",
       "        [0.86344306],\n",
       "        [0.85659159],\n",
       "        [0.85800914]],\n",
       "\n",
       "       ...,\n",
       "\n",
       "       [[1.15679635],\n",
       "        [1.16183651],\n",
       "        [1.15214994],\n",
       "        ...,\n",
       "        [1.32666562],\n",
       "        [1.32194046],\n",
       "        [1.2908332 ]],\n",
       "\n",
       "       [[1.16183651],\n",
       "        [1.15214994],\n",
       "        [1.16459285],\n",
       "        ...,\n",
       "        [1.32194046],\n",
       "        [1.2908332 ],\n",
       "        [1.28539928]],\n",
       "\n",
       "       [[1.15214994],\n",
       "        [1.16459285],\n",
       "        [1.16498661],\n",
       "        ...,\n",
       "        [1.2908332 ],\n",
       "        [1.28539928],\n",
       "        [1.2938258 ]]])"
      ]
     },
     "execution_count": 30,
     "metadata": {},
     "output_type": "execute_result"
    }
   ],
   "source": [
    "X_test = np.reshape(X_test, (X_test.shape[0], X_test.shape[1], 1))\n",
    "X_test"
   ]
  },
  {
   "cell_type": "code",
   "execution_count": 31,
   "metadata": {},
   "outputs": [
    {
     "data": {
      "text/plain": [
       "(251, 60, 1)"
      ]
     },
     "execution_count": 31,
     "metadata": {},
     "output_type": "execute_result"
    }
   ],
   "source": [
    "X_test.shape"
   ]
  },
  {
   "cell_type": "code",
   "execution_count": 32,
   "metadata": {},
   "outputs": [],
   "source": [
    "prediccion = modelo.predict(X_test)\n",
    "prediccion = sc.inverse_transform(prediccion)"
   ]
  },
  {
   "cell_type": "code",
   "execution_count": 33,
   "metadata": {},
   "outputs": [
    {
     "data": {
      "text/plain": [
       "(251, 1)"
      ]
     },
     "execution_count": 33,
     "metadata": {},
     "output_type": "execute_result"
    }
   ],
   "source": [
    "set_validacion_init.shape"
   ]
  },
  {
   "cell_type": "code",
   "execution_count": 34,
   "metadata": {},
   "outputs": [
    {
     "data": {
      "text/plain": [
       "((311, 1), (251, 1))"
      ]
     },
     "execution_count": 34,
     "metadata": {},
     "output_type": "execute_result"
    }
   ],
   "source": [
    "set_validacion.values.shape, prediccion.shape"
   ]
  },
  {
   "cell_type": "code",
   "execution_count": 35,
   "metadata": {},
   "outputs": [
    {
     "data": {
      "image/png": "[encoded data removed]",
      "text/plain": [
       "<Figure size 432x288 with 1 Axes>"
      ]
     },
     "metadata": {
      "needs_background": "light"
     },
     "output_type": "display_data"
    }
   ],
   "source": [
    "set_entrenamiento['High'].plot(legend=True)\n",
    "set_validacion['High'].plot(legend=True)\n",
    "plt.legend(['Entrenamiento (2006-2016)', 'Validación (2017)'])\n",
    "plt.show()"
   ]
  },
  {
   "cell_type": "code",
   "execution_count": 36,
   "metadata": {},
   "outputs": [
    {
     "data": {
      "text/plain": [
       "Date\n",
       "2017-01-03    119.015999\n",
       "2017-01-04    118.582077\n",
       "2017-01-05    118.220375\n",
       "2017-01-06    118.132507\n",
       "2017-01-09    118.635109\n",
       "dtype: float32"
      ]
     },
     "metadata": {},
     "output_type": "display_data"
    },
    {
     "data": {
      "text/plain": [
       "Date\n",
       "2017-01-03    116.33\n",
       "2017-01-04    116.51\n",
       "2017-01-05    116.86\n",
       "2017-01-06    118.16\n",
       "2017-01-09    119.43\n",
       "Name: High, dtype: float64"
      ]
     },
     "metadata": {},
     "output_type": "display_data"
    }
   ],
   "source": [
    "prediccion_series = pd.Series(\n",
    "    prediccion[:, 0],\n",
    "    index=index_validacion\n",
    ")\n",
    "display(prediccion_series.head())\n",
    "display(set_validacion_init['High'].head())"
   ]
  },
  {
   "cell_type": "code",
   "execution_count": 37,
   "metadata": {},
   "outputs": [
    {
     "data": {
      "text/plain": [
       "(pandas.core.series.Series, pandas.core.frame.DataFrame)"
      ]
     },
     "execution_count": 37,
     "metadata": {},
     "output_type": "execute_result"
    }
   ],
   "source": [
    "type(prediccion_series),  type(set_validacion_init)"
   ]
  },
  {
   "cell_type": "code",
   "execution_count": 38,
   "metadata": {},
   "outputs": [
    {
     "data": {
      "image/png": "[encoded data removed]",
      "text/plain": [
       "<Figure size 432x288 with 2 Axes>"
      ]
     },
     "metadata": {
      "needs_background": "light"
     },
     "output_type": "display_data"
    }
   ],
   "source": [
    "fig, axs = plt.subplots(2,1)\n",
    "\n",
    "axs[0].plot(np.random.randn(100).cumsum())\n",
    "axs[1].plot(np.random.randn(100).cumsum())\n",
    "\n",
    "aspect = np.diff(axs[1].get_xlim()) / np.diff(axs[1].get_ylim())\n",
    "axs[1].set_aspect(aspect)"
   ]
  },
  {
   "cell_type": "code",
   "execution_count": 39,
   "metadata": {},
   "outputs": [],
   "source": [
    "#help(plt.plot)"
   ]
  },
  {
   "cell_type": "code",
   "execution_count": 40,
   "metadata": {},
   "outputs": [
    {
     "data": {
      "text/plain": [
       "Timestamp('2006-01-18 00:00:00')"
      ]
     },
     "execution_count": 40,
     "metadata": {},
     "output_type": "execute_result"
    }
   ],
   "source": [
    "set_entrenamiento.index[10]"
   ]
  },
  {
   "cell_type": "code",
   "execution_count": 41,
   "metadata": {},
   "outputs": [
    {
     "data": {
      "image/png": "[encoded data removed]",
      "text/plain": [
       "<Figure size 1800x576 with 1 Axes>"
      ]
     },
     "metadata": {
      "needs_background": "light"
     },
     "output_type": "display_data"
    }
   ],
   "source": [
    "# Graficar resultados\n",
    "fig, axes = plt.subplots(nrows=1, ncols=1, figsize=(25, 8))\n",
    "\n",
    "axes.plot(set_entrenamiento['High'], color='green', label='Valor real pasado')\n",
    "plt.plot(set_validacion_init['High'], color='red', label='Valor real de la métrica')\n",
    "plt.plot(prediccion_series, color='blue', label='Predicción de la métrica')\n",
    "\n",
    "\n",
    "axes.axvline(set_entrenamiento.index[1698], color=\"blue\", linestyle=\"--\", lw=2)\n",
    "axes.axvline(set_entrenamiento.index[2300], color=\"blue\", linestyle=\"--\", lw=2)\n",
    "\n",
    "axes.axvline(set_validacion_init.index[160], color=\"blue\", linestyle=\"--\", lw=2)\n",
    "axes.axvline(set_validacion_init.index[230], color=\"blue\", linestyle=\"--\", lw=2)\n",
    "axes.axvline(set_validacion_init.index[240], color=\"blue\", linestyle=\"--\", lw=2)\n",
    "\n",
    "#plt.ylim(1.1 * np.min(prediccion)/2, 1.1 * np.max(prediccion))\n",
    "\n",
    "plt.xlabel('Tiempo')\n",
    "plt.ylabel('Métrica')\n",
    "plt.legend()\n",
    "plt.show()"
   ]
  },
  {
   "cell_type": "code",
   "execution_count": null,
   "metadata": {},
   "outputs": [],
   "source": []
  }
 ],
 "metadata": {
  "kernelspec": {
   "display_name": "Python 3",
   "language": "python",
   "name": "python3"
  },
  "language_info": {
   "codemirror_mode": {
    "name": "ipython",
    "version": 3
   },
   "file_extension": ".py",
   "mimetype": "text/x-python",
   "name": "python",
   "nbconvert_exporter": "python",
   "pygments_lexer": "ipython3",
   "version": "3.7.4"
  }
 },
 "nbformat": 4,
 "nbformat_minor": 4
}
