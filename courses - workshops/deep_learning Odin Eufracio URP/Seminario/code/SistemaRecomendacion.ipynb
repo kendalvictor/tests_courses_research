{
 "cells": [
  {
   "cell_type": "markdown",
   "metadata": {},
   "source": [
    "# Sistema de recomendacion"
   ]
  },
  {
   "cell_type": "code",
   "execution_count": 1,
   "metadata": {},
   "outputs": [],
   "source": [
    "import numpy as np"
   ]
  },
  {
   "cell_type": "markdown",
   "metadata": {},
   "source": [
    "## Algoritmo"
   ]
  },
  {
   "cell_type": "code",
   "execution_count": 2,
   "metadata": {},
   "outputs": [],
   "source": [
    "def SisRec(V_inc, k, max_iter, omega):\n",
    "    (m, n) = V_inc.shape\n",
    "    \n",
    "    Z = np.copy(V_inc)\n",
    "    Z[omega] = 0.0\n",
    "    W = np.random.uniform(0.0, 1.0, size=(m,k))\n",
    "    H = np.random.uniform(0.0, 1.0, size=(n,k))\n",
    "    \n",
    "    \n",
    "    for t in range(max_iter):\n",
    "        H = (Z.T @ W) @ (np.linalg.pinv( W.T @ W))\n",
    "        H = np.clip(H, 0.0, np.inf)\n",
    "        \n",
    "        W = (Z @ H) @ (np.linalg.pinv( H.T @ H))\n",
    "        W = np.clip(W, 0.0, np.inf)\n",
    "        \n",
    "        Z[omega] = (W@H.T)[omega]\n",
    "\n",
    "    return (W, H) "
   ]
  },
  {
   "cell_type": "markdown",
   "metadata": {},
   "source": [
    "## Cargar datos"
   ]
  },
  {
   "cell_type": "code",
   "execution_count": 3,
   "metadata": {},
   "outputs": [],
   "source": [
    "V_original = np.loadtxt('V_complete.txt')"
   ]
  },
  {
   "cell_type": "code",
   "execution_count": 4,
   "metadata": {},
   "outputs": [
    {
     "data": {
      "text/plain": [
       "array([[30., 12., 24.,  8., 12., 14., 12., 12., 22., 24., 14., 10., 14.,\n",
       "        24., 20., 12.],\n",
       "       [30., 21., 15., 11., 21., 26., 12., 21., 10., 15., 17., 16.,  8.,\n",
       "        15., 23., 12.],\n",
       "       [15.,  9.,  9.,  5.,  9., 11.,  6.,  9.,  7.,  9.,  8.,  7.,  5.,\n",
       "         9., 11.,  6.],\n",
       "       [35., 16., 26., 10., 16., 19., 14., 16., 23., 26., 17., 13., 15.,\n",
       "        26., 24., 14.],\n",
       "       [15.,  9.,  9.,  5.,  9., 11.,  6.,  9.,  7.,  9.,  8.,  7.,  5.,\n",
       "         9., 11.,  6.],\n",
       "       [25., 11., 19.,  7., 11., 13., 10., 11., 17., 19., 12.,  9., 11.,\n",
       "        19., 17., 10.],\n",
       "       [45., 24., 30., 14., 24., 29., 18., 24., 25., 30., 23., 19., 17.,\n",
       "        30., 32., 18.],\n",
       "       [30., 15., 21.,  9., 15., 18., 12., 15., 18., 21., 15., 12., 12.,\n",
       "        21., 21., 12.],\n",
       "       [25., 11., 19.,  7., 11., 13., 10., 11., 17., 19., 12.,  9., 11.,\n",
       "        19., 17., 10.],\n",
       "       [20., 13., 11.,  7., 13., 16.,  8., 13.,  8., 11., 11., 10.,  6.,\n",
       "        11., 15.,  8.],\n",
       "       [45., 24., 30., 14., 24., 29., 18., 24., 25., 30., 23., 19., 17.,\n",
       "        30., 32., 18.],\n",
       "       [30., 15., 21.,  9., 15., 18., 12., 15., 18., 21., 15., 12., 12.,\n",
       "        21., 21., 12.],\n",
       "       [25., 17., 13.,  9., 17., 21., 10., 17.,  9., 13., 14., 13.,  7.,\n",
       "        13., 19., 10.],\n",
       "       [40., 20., 28., 12., 20., 24., 16., 20., 24., 28., 20., 16., 16.,\n",
       "        28., 28., 16.],\n",
       "       [30., 18., 18., 10., 18., 22., 12., 18., 14., 18., 16., 14., 10.,\n",
       "        18., 22., 12.],\n",
       "       [25., 11., 19.,  7., 11., 13., 10., 11., 17., 19., 12.,  9., 11.,\n",
       "        19., 17., 10.]])"
      ]
     },
     "execution_count": 4,
     "metadata": {},
     "output_type": "execute_result"
    }
   ],
   "source": [
    "V_original"
   ]
  },
  {
   "cell_type": "code",
   "execution_count": 5,
   "metadata": {},
   "outputs": [],
   "source": [
    "V_incomplete = np.loadtxt('V_incomplete.txt')"
   ]
  },
  {
   "cell_type": "code",
   "execution_count": 6,
   "metadata": {},
   "outputs": [
    {
     "data": {
      "text/plain": [
       "array([[30., nan, 24.,  8., 12., 14., 12., nan, 22., nan, nan, 10., 14.,\n",
       "        24., 20., nan],\n",
       "       [30., 21., nan, 11., 21., nan, 12., 21., nan, 15., 17., nan,  8.,\n",
       "        15., 23., nan],\n",
       "       [nan,  9., nan, nan,  9., nan, nan, nan,  7.,  9.,  8.,  7.,  5.,\n",
       "        nan, 11.,  6.],\n",
       "       [35., nan, nan, 10., nan, nan, nan, nan, 23., nan, 17., 13., 15.,\n",
       "        26., 24., nan],\n",
       "       [nan,  9.,  9.,  5., nan, nan, nan, nan, nan,  9.,  8., nan, nan,\n",
       "         9., 11., nan],\n",
       "       [nan, 11., 19.,  7., nan, 13., 10., 11., 17., 19., 12.,  9., 11.,\n",
       "        19., 17., nan],\n",
       "       [45., 24., 30., nan, nan, 29., 18., nan, 25., 30., nan, 19., 17.,\n",
       "        30., 32., nan],\n",
       "       [nan, nan, 21., nan, 15., 18., 12., 15., 18., 21., 15., 12., 12.,\n",
       "        21., 21., 12.],\n",
       "       [25., 11., nan,  7., 11., 13., 10., 11., 17., 19., 12.,  9., nan,\n",
       "        19., nan, nan],\n",
       "       [nan, 13., 11.,  7., 13., 16.,  8., nan,  8., 11., 11., nan, nan,\n",
       "        11., 15.,  8.],\n",
       "       [45., 24., 30., 14., 24., 29., 18., 24., 25., 30., 23., 19., 17.,\n",
       "        nan, 32., 18.],\n",
       "       [nan, 15., 21.,  9., nan, 18., 12., 15., 18., 21., 15., 12., nan,\n",
       "        21., 21., 12.],\n",
       "       [25., nan, 13.,  9., 17., nan, 10., 17., nan, 13., 14., 13.,  7.,\n",
       "        13., 19., 10.],\n",
       "       [40., 20., 28., 12., 20., nan, 16., 20., nan, nan, nan, 16., 16.,\n",
       "        nan, 28., 16.],\n",
       "       [nan, nan, 18., 10., 18., 22., 12., nan, 14., nan, 16., 14., 10.,\n",
       "        nan, 22., 12.],\n",
       "       [25., 11., 19.,  7., 11., nan, 10., nan, nan, nan, nan,  9., 11.,\n",
       "        19., 17., nan]])"
      ]
     },
     "execution_count": 6,
     "metadata": {},
     "output_type": "execute_result"
    }
   ],
   "source": [
    "V_incomplete"
   ]
  },
  {
   "cell_type": "markdown",
   "metadata": {},
   "source": [
    "## Conjunto de entradas no definidas"
   ]
  },
  {
   "cell_type": "code",
   "execution_count": 7,
   "metadata": {},
   "outputs": [],
   "source": [
    "omega = np.isnan(V_incomplete)"
   ]
  },
  {
   "cell_type": "markdown",
   "metadata": {},
   "source": [
    "## Estimar entradas no definidas"
   ]
  },
  {
   "cell_type": "code",
   "execution_count": 8,
   "metadata": {},
   "outputs": [],
   "source": [
    "(W_hat, H_hat) = SisRec(V_incomplete, 2, 1000, omega )"
   ]
  },
  {
   "cell_type": "markdown",
   "metadata": {},
   "source": [
    "## Verificar resultados"
   ]
  },
  {
   "cell_type": "code",
   "execution_count": 9,
   "metadata": {},
   "outputs": [],
   "source": [
    "V_hat = W_hat@H_hat.T"
   ]
  },
  {
   "cell_type": "code",
   "execution_count": 10,
   "metadata": {},
   "outputs": [
    {
     "data": {
      "text/plain": [
       "array([[30., 12., 24.,  8., 12., 14., 12., 12., 22., 24., 14., 10., 14.,\n",
       "        24., 20., 12.],\n",
       "       [30., 21., 15., 11., 21., 26., 12., 21., 10., 15., 17., 16.,  8.,\n",
       "        15., 23., 12.],\n",
       "       [15.,  9.,  9.,  5.,  9., 11.,  6.,  9.,  7.,  9.,  8.,  7.,  5.,\n",
       "         9., 11.,  6.],\n",
       "       [35., 16., 26., 10., 16., 19., 14., 16., 23., 26., 17., 13., 15.,\n",
       "        26., 24., 14.],\n",
       "       [15.,  9.,  9.,  5.,  9., 11.,  6.,  9.,  7.,  9.,  8.,  7.,  5.,\n",
       "         9., 11.,  6.],\n",
       "       [25., 11., 19.,  7., 11., 13., 10., 11., 17., 19., 12.,  9., 11.,\n",
       "        19., 17., 10.],\n",
       "       [45., 24., 30., 14., 24., 29., 18., 24., 25., 30., 23., 19., 17.,\n",
       "        30., 32., 18.],\n",
       "       [30., 15., 21.,  9., 15., 18., 12., 15., 18., 21., 15., 12., 12.,\n",
       "        21., 21., 12.],\n",
       "       [25., 11., 19.,  7., 11., 13., 10., 11., 17., 19., 12.,  9., 11.,\n",
       "        19., 17., 10.],\n",
       "       [20., 13., 11.,  7., 13., 16.,  8., 13.,  8., 11., 11., 10.,  6.,\n",
       "        11., 15.,  8.],\n",
       "       [45., 24., 30., 14., 24., 29., 18., 24., 25., 30., 23., 19., 17.,\n",
       "        30., 32., 18.],\n",
       "       [30., 15., 21.,  9., 15., 18., 12., 15., 18., 21., 15., 12., 12.,\n",
       "        21., 21., 12.],\n",
       "       [25., 17., 13.,  9., 17., 21., 10., 17.,  9., 13., 14., 13.,  7.,\n",
       "        13., 19., 10.],\n",
       "       [40., 20., 28., 12., 20., 24., 16., 20., 24., 28., 20., 16., 16.,\n",
       "        28., 28., 16.],\n",
       "       [30., 18., 18., 10., 18., 22., 12., 18., 14., 18., 16., 14., 10.,\n",
       "        18., 22., 12.],\n",
       "       [25., 11., 19.,  7., 11., 13., 10., 11., 17., 19., 12.,  9., 11.,\n",
       "        19., 17., 10.]])"
      ]
     },
     "execution_count": 10,
     "metadata": {},
     "output_type": "execute_result"
    }
   ],
   "source": [
    "V_hat"
   ]
  },
  {
   "cell_type": "markdown",
   "metadata": {},
   "source": [
    "## Verificar error de reconstruccion"
   ]
  },
  {
   "cell_type": "code",
   "execution_count": 11,
   "metadata": {},
   "outputs": [
    {
     "data": {
      "text/plain": [
       "2.5068196698368835e-13"
      ]
     },
     "execution_count": 11,
     "metadata": {},
     "output_type": "execute_result"
    }
   ],
   "source": [
    "np.linalg.norm(V_original - V_hat)"
   ]
  },
  {
   "cell_type": "code",
   "execution_count": null,
   "metadata": {},
   "outputs": [],
   "source": []
  }
 ],
 "metadata": {
  "kernelspec": {
   "display_name": "Python 3",
   "language": "python",
   "name": "python3"
  },
  "language_info": {
   "codemirror_mode": {
    "name": "ipython",
    "version": 3
   },
   "file_extension": ".py",
   "mimetype": "text/x-python",
   "name": "python",
   "nbconvert_exporter": "python",
   "pygments_lexer": "ipython3",
   "version": "3.6.8"
  }
 },
 "nbformat": 4,
 "nbformat_minor": 2
}
