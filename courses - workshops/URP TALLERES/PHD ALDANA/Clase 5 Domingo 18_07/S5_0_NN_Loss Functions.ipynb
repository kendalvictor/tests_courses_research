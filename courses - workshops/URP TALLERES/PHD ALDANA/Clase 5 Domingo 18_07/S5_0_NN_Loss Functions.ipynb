{
 "cells": [
  {
   "cell_type": "markdown",
   "metadata": {
    "colab_type": "text",
    "id": "4N0GqFRR9S16"
   },
   "source": [
    "**Mean Squared Error**"
   ]
  },
  {
   "cell_type": "code",
   "execution_count": null,
   "metadata": {
    "colab": {},
    "colab_type": "code",
    "id": "X8e0zJ5Z9NkP"
   },
   "outputs": [],
   "source": [
    "def mean_squared_error(actual, predicted):\n",
    "\tsum_square_error = 0.0\n",
    "\tfor i in range(len(actual)):\n",
    "\t\tsum_square_error += (actual[i] - predicted[i])**2.0\n",
    "\tmean_square_error = 1.0 / len(actual) * sum_square_error\n",
    "\treturn mean_square_error"
   ]
  },
  {
   "cell_type": "markdown",
   "metadata": {
    "colab_type": "text",
    "id": "HfxAN0AB9ygw"
   },
   "source": [
    "**Cross Entropy-Binary Classification**"
   ]
  },
  {
   "cell_type": "code",
   "execution_count": 2,
   "metadata": {
    "colab": {
     "base_uri": "https://localhost:8080/",
     "height": 35
    },
    "colab_type": "code",
    "executionInfo": {
     "elapsed": 486,
     "status": "ok",
     "timestamp": 1593134789379,
     "user": {
      "displayName": "Edwyn Javier Aldana Bobadilla",
      "photoUrl": "",
      "userId": "02163041040238926784"
     },
     "user_tz": 300
    },
    "id": "vpnwktEJ-0Lp",
    "outputId": "6855b4e1-9798-4414-dcfe-7901f855aaeb"
   },
   "outputs": [
    {
     "name": "stdout",
     "output_type": "stream",
     "text": [
      "11.512925464970227\n"
     ]
    }
   ],
   "source": [
    "from math import log\n",
    " \n",
    "# calculate binary cross entropy\n",
    "def binary_cross_entropy(actual, predicted):\n",
    "\tsum_score = 0.0\n",
    "\tfor i in range(len(actual)):\n",
    "\t\tsum_score += actual[i] * log(1e-15 + predicted[i])\n",
    "\tmean_sum_score = 1.0 / len(actual) * sum_score\n",
    "\treturn -mean_sum_score\n",
    "\n",
    "#Example:\n",
    "actual=[0,1,0]\n",
    "predicted=[1,0,0]  #The predicted value is an stochastic vector that can be obtained via softmax function\n",
    "print(binary_cross_entropy(actual, predicted))"
   ]
  },
  {
   "cell_type": "markdown",
   "metadata": {
    "colab_type": "text",
    "id": "UUhfCF5MAyfX"
   },
   "source": [
    "**Cross Entropy- Multiclass Classification**"
   ]
  },
  {
   "cell_type": "code",
   "execution_count": 4,
   "metadata": {
    "colab": {
     "base_uri": "https://localhost:8080/",
     "height": 35
    },
    "colab_type": "code",
    "executionInfo": {
     "elapsed": 478,
     "status": "ok",
     "timestamp": 1593134878858,
     "user": {
      "displayName": "Edwyn Javier Aldana Bobadilla",
      "photoUrl": "",
      "userId": "02163041040238926784"
     },
     "user_tz": 300
    },
    "id": "Pj31Z_scA7M0",
    "outputId": "1201deab-5380-4e84-e397-49b703ab659e"
   },
   "outputs": [
    {
     "name": "stdout",
     "output_type": "stream",
     "text": [
      "-7.401486830834372e-16\n"
     ]
    }
   ],
   "source": [
    "from math import log\n",
    " \n",
    "# calculate categorical cross entropy\n",
    "def categorical_cross_entropy(actual, predicted):\n",
    "\tsum_score = 0.0\n",
    "\tfor i in range(len(actual)):\n",
    "\t\tfor j in range(len(actual[i])):\n",
    "\t\t\tsum_score += actual[i][j] * log(1e-15 + predicted[i][j])\n",
    "\tmean_sum_score = 1.0 / len(actual) * sum_score\n",
    "\treturn -mean_sum_score\n",
    "\n",
    "#Example:\n",
    "actual=[[0,1,0],\n",
    "        [0,1,0],\n",
    "        [0,1,0],\n",
    "        [0,0,0],\n",
    "        [0,0,0],\n",
    "        [0,0,0],\n",
    "        [0,0,1],\n",
    "        [0,0,1],\n",
    "        [0,0,1]]\n",
    "        \n",
    "predicted=[[0,1,0],\n",
    "          [0,1,0],\n",
    "          [0,1,0],\n",
    "          [0,0,0],\n",
    "          [0.4,0.1,0.5],\n",
    "          [0,0,0],\n",
    "          [0,0,1],\n",
    "          [0,0,1],\n",
    "          [0,0,1]]\n",
    "  #The predicted value is an stochastic vector that can be obtained via softmax function\n",
    "print(categorical_cross_entropy(actual, predicted))"
   ]
  }
 ],
 "metadata": {
  "colab": {
   "authorship_tag": "ABX9TyODfGSWmjstnj9ojhOEPBZK",
   "name": "NN_Loss Functions.ipynb",
   "provenance": []
  },
  "kernelspec": {
   "display_name": "Python 3",
   "language": "python",
   "name": "python3"
  },
  "language_info": {
   "codemirror_mode": {
    "name": "ipython",
    "version": 3
   },
   "file_extension": ".py",
   "mimetype": "text/x-python",
   "name": "python",
   "nbconvert_exporter": "python",
   "pygments_lexer": "ipython3",
   "version": "3.8.5"
  }
 },
 "nbformat": 4,
 "nbformat_minor": 4
}
