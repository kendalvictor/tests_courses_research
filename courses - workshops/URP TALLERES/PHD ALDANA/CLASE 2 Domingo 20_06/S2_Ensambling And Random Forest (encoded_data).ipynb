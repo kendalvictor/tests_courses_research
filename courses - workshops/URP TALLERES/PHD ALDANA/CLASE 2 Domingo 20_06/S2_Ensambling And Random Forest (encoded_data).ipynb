{
 "cells": [
  {
   "cell_type": "markdown",
   "metadata": {
    "id": "XIClVFmNT2zM"
   },
   "source": [
    "## Libraries"
   ]
  },
  {
   "cell_type": "code",
   "execution_count": null,
   "metadata": {
    "id": "_tdyW6ymbzms"
   },
   "outputs": [],
   "source": [
    "import pandas as pd  \n",
    "import numpy as np  \n",
    "import matplotlib.pyplot as plt  \n",
    "import seaborn as sns \n",
    "from sklearn.model_selection import train_test_split \n",
    "from sklearn import metrics\n",
    "\n",
    "from sklearn.ensemble import RandomForestClassifier, RandomForestRegressor\n",
    "from sklearn import preprocessing\n",
    "from sklearn.preprocessing import OneHotEncoder\n",
    "from sklearn.impute import SimpleImputer\n",
    "\n",
    "from sklearn.tree import DecisionTreeClassifier\n",
    "from sklearn.neighbors import KNeighborsClassifier\n",
    "from sklearn.naive_bayes import GaussianNB\n",
    "from sklearn.ensemble import StackingClassifier"
   ]
  },
  {
   "cell_type": "markdown",
   "metadata": {
    "id": "k_CH27-JcDKJ"
   },
   "source": [
    "#Load dataset"
   ]
  },
  {
   "cell_type": "code",
   "execution_count": null,
   "metadata": {
    "colab": {
     "base_uri": "https://localhost:8080/",
     "height": 73,
     "resources": {
      "http://localhost:8080/nbextensions/google.colab/files.js": {
       "data": "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",
       "headers": [
        [
         "content-type",
         "application/javascript"
        ]
       ],
       "ok": true,
       "status": 200,
       "status_text": ""
      }
     }
    },
    "executionInfo": {
     "elapsed": 11195,
     "status": "ok",
     "timestamp": 1624209932685,
     "user": {
      "displayName": "Edwyn Javier Aldana Bobadilla",
      "photoUrl": "",
      "userId": "02163041040238926784"
     },
     "user_tz": 300
    },
    "id": "8sr8hCSnct9Z",
    "outputId": "f3cd207a-6e23-494d-f1a0-eb931ac4a415"
   },
   "outputs": [
    {
     "data": {
      "text/html": [
       "\n",
       "     <input type=\"file\" id=\"files-fbf38417-2849-454d-b45c-6b037ca306e5\" name=\"files[]\" multiple disabled\n",
       "        style=\"border:none\" />\n",
       "     <output id=\"result-fbf38417-2849-454d-b45c-6b037ca306e5\">\n",
       "      Upload widget is only available when the cell has been executed in the\n",
       "      current browser session. Please rerun this cell to enable.\n",
       "      </output>\n",
       "      <script src=\"/nbextensions/google.colab/files.js\"></script> "
      ],
      "text/plain": [
       "<IPython.core.display.HTML object>"
      ]
     },
     "metadata": {
      "tags": []
     },
     "output_type": "display_data"
    },
    {
     "name": "stdout",
     "output_type": "stream",
     "text": [
      "Saving titanic.csv to titanic.csv\n"
     ]
    }
   ],
   "source": [
    "from google.colab import files\n",
    "uploaded = files.upload()\n",
    "import io\n",
    "dataset = pd.read_csv(io.BytesIO(uploaded['titanic.csv']), header=0)"
   ]
  },
  {
   "cell_type": "markdown",
   "metadata": {
    "id": "4chTViHE5vRi"
   },
   "source": [
    "# Exploring Dataset"
   ]
  },
  {
   "cell_type": "code",
   "execution_count": null,
   "metadata": {
    "colab": {
     "base_uri": "https://localhost:8080/"
    },
    "executionInfo": {
     "elapsed": 332,
     "status": "ok",
     "timestamp": 1624209939429,
     "user": {
      "displayName": "Edwyn Javier Aldana Bobadilla",
      "photoUrl": "",
      "userId": "02163041040238926784"
     },
     "user_tz": 300
    },
    "id": "w9zbUpSLjrhj",
    "outputId": "6996f2c2-c2fb-40db-a146-6d1c6744930f"
   },
   "outputs": [
    {
     "name": "stdout",
     "output_type": "stream",
     "text": [
      "<class 'pandas.core.frame.DataFrame'>\n",
      "RangeIndex: 891 entries, 0 to 890\n",
      "Data columns (total 12 columns):\n",
      " #   Column       Non-Null Count  Dtype  \n",
      "---  ------       --------------  -----  \n",
      " 0   PassengerId  891 non-null    int64  \n",
      " 1   Survived     891 non-null    int64  \n",
      " 2   Pclass       891 non-null    int64  \n",
      " 3   Name         891 non-null    object \n",
      " 4   Sex          891 non-null    object \n",
      " 5   Age          714 non-null    float64\n",
      " 6   SibSp        891 non-null    int64  \n",
      " 7   Parch        891 non-null    int64  \n",
      " 8   Ticket       891 non-null    object \n",
      " 9   Fare         891 non-null    float64\n",
      " 10  Cabin        204 non-null    object \n",
      " 11  Embarked     889 non-null    object \n",
      "dtypes: float64(2), int64(5), object(5)\n",
      "memory usage: 83.7+ KB\n"
     ]
    }
   ],
   "source": [
    "dataset.info()\n"
   ]
  },
  {
   "cell_type": "markdown",
   "metadata": {
    "id": "GD1CwjAn1SSD"
   },
   "source": [
    "## Variables Description"
   ]
  },
  {
   "cell_type": "markdown",
   "metadata": {
    "id": "ZkgmvJd_0ZOp"
   },
   "source": [
    "| Variable|Description|\n",
    "|:---:|----------:|\n",
    "|survival|\tSurvival\t0 = No, 1 = Yes\n",
    "|pclass\t|Ticket class\t1 = 1st, 2 = 2nd, 3 = 3rd\n",
    "|sex\t|Sex\t\n",
    "|Age\t|Age in years\t\n",
    "|sibsp|\t# of siblings / spouses aboard the Titanic\t\n",
    "|parch|\t# of parents / children aboard the Titanic\t\n",
    "|ticket|\tTicket number\t\n",
    "|fare\t|Passenger fare\t\n",
    "|cabin|\tCabin number\t\n",
    "|embarked|\tPort of Embarkation\tC = Cherbourg, Q = Queenstown, S = Southampton"
   ]
  },
  {
   "cell_type": "markdown",
   "metadata": {
    "id": "YKzTQ4rN1xsm"
   },
   "source": [
    "## Preprocessing Data"
   ]
  },
  {
   "cell_type": "markdown",
   "metadata": {
    "id": "L3pP5VFT6Atn"
   },
   "source": [
    "Determine those columns with missing values"
   ]
  },
  {
   "cell_type": "code",
   "execution_count": null,
   "metadata": {
    "colab": {
     "base_uri": "https://localhost:8080/"
    },
    "executionInfo": {
     "elapsed": 287,
     "status": "ok",
     "timestamp": 1623632323472,
     "user": {
      "displayName": "Edwyn Javier Aldana Bobadilla",
      "photoUrl": "",
      "userId": "02163041040238926784"
     },
     "user_tz": 300
    },
    "id": "H-YubpUp35o_",
    "outputId": "00313fd3-275e-44e3-8870-c980eb000bbe"
   },
   "outputs": [
    {
     "data": {
      "text/plain": [
       "PassengerId      0\n",
       "Survived         0\n",
       "Pclass           0\n",
       "Name             0\n",
       "Sex              0\n",
       "Age            177\n",
       "SibSp            0\n",
       "Parch            0\n",
       "Ticket           0\n",
       "Fare             0\n",
       "Cabin          687\n",
       "Embarked         2\n",
       "dtype: int64"
      ]
     },
     "execution_count": 106,
     "metadata": {
      "tags": []
     },
     "output_type": "execute_result"
    }
   ],
   "source": [
    "dataset.isnull().sum()"
   ]
  },
  {
   "cell_type": "code",
   "execution_count": null,
   "metadata": {
    "colab": {
     "base_uri": "https://localhost:8080/"
    },
    "executionInfo": {
     "elapsed": 316,
     "status": "ok",
     "timestamp": 1624210105754,
     "user": {
      "displayName": "Edwyn Javier Aldana Bobadilla",
      "photoUrl": "",
      "userId": "02163041040238926784"
     },
     "user_tz": 300
    },
    "id": "XYNOb51P4ohG",
    "outputId": "b2b06478-9242-4c55-9de4-6f65ee2285eb"
   },
   "outputs": [
    {
     "data": {
      "text/plain": [
       "PassengerId    0\n",
       "Survived       0\n",
       "Pclass         0\n",
       "Name           0\n",
       "Sex            0\n",
       "Age            0\n",
       "SibSp          0\n",
       "Parch          0\n",
       "Ticket         0\n",
       "Fare           0\n",
       "Cabin          0\n",
       "Embarked       0\n",
       "dtype: int64"
      ]
     },
     "execution_count": 5,
     "metadata": {
      "tags": []
     },
     "output_type": "execute_result"
    }
   ],
   "source": [
    "#Apply an imputation method\n",
    "imp = SimpleImputer(strategy=\"most_frequent\")\n",
    "array_transformation=imp.fit_transform(dataset.loc[:,['Age','Cabin','Embarked']])\n",
    "dataset[\"Age\"]=array_transformation[:,0]\n",
    "dataset[\"Cabin\"]=array_transformation[:,1]\n",
    "dataset[\"Embarked\"]=array_transformation[:,2]\n",
    "#Additionally transform Age column to integer column\n",
    "dataset[\"Age\"]=dataset[\"Age\"].astype(int)\n",
    "dataset.isnull().sum()"
   ]
  },
  {
   "cell_type": "code",
   "execution_count": null,
   "metadata": {
    "colab": {
     "base_uri": "https://localhost:8080/",
     "height": 268
    },
    "executionInfo": {
     "elapsed": 318,
     "status": "ok",
     "timestamp": 1624210145486,
     "user": {
      "displayName": "Edwyn Javier Aldana Bobadilla",
      "photoUrl": "",
      "userId": "02163041040238926784"
     },
     "user_tz": 300
    },
    "id": "mxQScQKD6KnG",
    "outputId": "3de62cf2-fc4c-4929-f89c-af9f48704c75"
   },
   "outputs": [
    {
     "data": {
      "text/html": [
       "<div>\n",
       "<style scoped>\n",
       "    .dataframe tbody tr th:only-of-type {\n",
       "        vertical-align: middle;\n",
       "    }\n",
       "\n",
       "    .dataframe tbody tr th {\n",
       "        vertical-align: top;\n",
       "    }\n",
       "\n",
       "    .dataframe thead th {\n",
       "        text-align: right;\n",
       "    }\n",
       "</style>\n",
       "<table border=\"1\" class=\"dataframe\">\n",
       "  <thead>\n",
       "    <tr style=\"text-align: right;\">\n",
       "      <th></th>\n",
       "      <th>PassengerId</th>\n",
       "      <th>Survived</th>\n",
       "      <th>Pclass</th>\n",
       "      <th>Name</th>\n",
       "      <th>Sex</th>\n",
       "      <th>Age</th>\n",
       "      <th>SibSp</th>\n",
       "      <th>Parch</th>\n",
       "      <th>Ticket</th>\n",
       "      <th>Fare</th>\n",
       "      <th>Cabin</th>\n",
       "      <th>Embarked</th>\n",
       "    </tr>\n",
       "  </thead>\n",
       "  <tbody>\n",
       "    <tr>\n",
       "      <th>0</th>\n",
       "      <td>1</td>\n",
       "      <td>0</td>\n",
       "      <td>3</td>\n",
       "      <td>Braund, Mr. Owen Harris</td>\n",
       "      <td>male</td>\n",
       "      <td>22</td>\n",
       "      <td>1</td>\n",
       "      <td>0</td>\n",
       "      <td>A/5 21171</td>\n",
       "      <td>7.2500</td>\n",
       "      <td>B96 B98</td>\n",
       "      <td>S</td>\n",
       "    </tr>\n",
       "    <tr>\n",
       "      <th>1</th>\n",
       "      <td>2</td>\n",
       "      <td>1</td>\n",
       "      <td>1</td>\n",
       "      <td>Cumings, Mrs. John Bradley (Florence Briggs Th...</td>\n",
       "      <td>female</td>\n",
       "      <td>38</td>\n",
       "      <td>1</td>\n",
       "      <td>0</td>\n",
       "      <td>PC 17599</td>\n",
       "      <td>71.2833</td>\n",
       "      <td>C85</td>\n",
       "      <td>C</td>\n",
       "    </tr>\n",
       "    <tr>\n",
       "      <th>2</th>\n",
       "      <td>3</td>\n",
       "      <td>1</td>\n",
       "      <td>3</td>\n",
       "      <td>Heikkinen, Miss. Laina</td>\n",
       "      <td>female</td>\n",
       "      <td>26</td>\n",
       "      <td>0</td>\n",
       "      <td>0</td>\n",
       "      <td>STON/O2. 3101282</td>\n",
       "      <td>7.9250</td>\n",
       "      <td>B96 B98</td>\n",
       "      <td>S</td>\n",
       "    </tr>\n",
       "    <tr>\n",
       "      <th>3</th>\n",
       "      <td>4</td>\n",
       "      <td>1</td>\n",
       "      <td>1</td>\n",
       "      <td>Futrelle, Mrs. Jacques Heath (Lily May Peel)</td>\n",
       "      <td>female</td>\n",
       "      <td>35</td>\n",
       "      <td>1</td>\n",
       "      <td>0</td>\n",
       "      <td>113803</td>\n",
       "      <td>53.1000</td>\n",
       "      <td>C123</td>\n",
       "      <td>S</td>\n",
       "    </tr>\n",
       "    <tr>\n",
       "      <th>4</th>\n",
       "      <td>5</td>\n",
       "      <td>0</td>\n",
       "      <td>3</td>\n",
       "      <td>Allen, Mr. William Henry</td>\n",
       "      <td>male</td>\n",
       "      <td>35</td>\n",
       "      <td>0</td>\n",
       "      <td>0</td>\n",
       "      <td>373450</td>\n",
       "      <td>8.0500</td>\n",
       "      <td>B96 B98</td>\n",
       "      <td>S</td>\n",
       "    </tr>\n",
       "  </tbody>\n",
       "</table>\n",
       "</div>"
      ],
      "text/plain": [
       "   PassengerId  Survived  Pclass  ...     Fare    Cabin  Embarked\n",
       "0            1         0       3  ...   7.2500  B96 B98         S\n",
       "1            2         1       1  ...  71.2833      C85         C\n",
       "2            3         1       3  ...   7.9250  B96 B98         S\n",
       "3            4         1       1  ...  53.1000     C123         S\n",
       "4            5         0       3  ...   8.0500  B96 B98         S\n",
       "\n",
       "[5 rows x 12 columns]"
      ]
     },
     "execution_count": 6,
     "metadata": {
      "tags": []
     },
     "output_type": "execute_result"
    }
   ],
   "source": [
    "dataset.head()"
   ]
  },
  {
   "cell_type": "markdown",
   "metadata": {
    "id": "f3vEDNrf6clX"
   },
   "source": [
    "Transform label values"
   ]
  },
  {
   "cell_type": "code",
   "execution_count": null,
   "metadata": {
    "id": "Uvox_SZJ12Kk"
   },
   "outputs": [],
   "source": [
    "#Encode label values\n",
    "to_be_encoded=dataset.loc[:,['Sex','Cabin','Embarked']]\n",
    "\n",
    "le_s = preprocessing.LabelEncoder()\n",
    "encoded_sex=le_s.fit_transform(to_be_encoded['Sex'])\n",
    "dataset['Sex']=encoded_sex\n",
    "\n",
    "le_c = preprocessing.LabelEncoder()\n",
    "encoded_cabin=le_c.fit_transform(to_be_encoded['Cabin'])\n",
    "dataset['Cabin']=encoded_cabin\n",
    "\n",
    "le_e = preprocessing.LabelEncoder()\n",
    "encoded_emb=le_c.fit_transform(to_be_encoded['Embarked'])\n",
    "dataset['Embarked']=encoded_emb\n",
    "\n",
    "\n"
   ]
  },
  {
   "cell_type": "code",
   "execution_count": null,
   "metadata": {
    "colab": {
     "base_uri": "https://localhost:8080/"
    },
    "executionInfo": {
     "elapsed": 349,
     "status": "ok",
     "timestamp": 1624211700644,
     "user": {
      "displayName": "Edwyn Javier Aldana Bobadilla",
      "photoUrl": "",
      "userId": "02163041040238926784"
     },
     "user_tz": 300
    },
    "id": "4mFNFlHuRn0T",
    "outputId": "edd02117-687f-498f-b8d7-1151780b0b21"
   },
   "outputs": [
    {
     "data": {
      "text/plain": [
       "(891, 12)"
      ]
     },
     "execution_count": 26,
     "metadata": {
      "tags": []
     },
     "output_type": "execute_result"
    }
   ],
   "source": [
    "dataset[['Sex','Cabin','Embarked']].head()\n",
    "dataset['Sex'].unique()\n",
    "dataset.shape"
   ]
  },
  {
   "cell_type": "code",
   "execution_count": null,
   "metadata": {
    "colab": {
     "base_uri": "https://localhost:8080/"
    },
    "executionInfo": {
     "elapsed": 300,
     "status": "ok",
     "timestamp": 1623632785288,
     "user": {
      "displayName": "Edwyn Javier Aldana Bobadilla",
      "photoUrl": "",
      "userId": "02163041040238926784"
     },
     "user_tz": 300
    },
    "id": "DGxIoEHEUbDe",
    "outputId": "729c601b-1437-4c8d-fb63-118adf59b526"
   },
   "outputs": [
    {
     "data": {
      "text/plain": [
       "PassengerId   -0.005007\n",
       "Survived       1.000000\n",
       "Pclass        -0.338481\n",
       "Age           -0.052883\n",
       "SibSp         -0.035322\n",
       "Parch          0.081629\n",
       "Fare           0.257307\n",
       "Name: Survived, dtype: float64"
      ]
     },
     "execution_count": 108,
     "metadata": {
      "tags": []
     },
     "output_type": "execute_result"
    }
   ],
   "source": [
    "dataset.corr()['Survived']"
   ]
  },
  {
   "cell_type": "markdown",
   "metadata": {
    "id": "jBLr78MIf5Kc"
   },
   "source": [
    "### **Does make sense a correlation between non-numerical values?**\n",
    "\n",
    "Discussion:"
   ]
  },
  {
   "cell_type": "code",
   "execution_count": null,
   "metadata": {
    "colab": {
     "base_uri": "https://localhost:8080/",
     "height": 202
    },
    "executionInfo": {
     "elapsed": 491,
     "status": "ok",
     "timestamp": 1624213215453,
     "user": {
      "displayName": "Edwyn Javier Aldana Bobadilla",
      "photoUrl": "",
      "userId": "02163041040238926784"
     },
     "user_tz": 300
    },
    "id": "o5vO49uVhXus",
    "outputId": "98bb66c0-b0bf-42da-c7c0-becc73e7ac20"
   },
   "outputs": [
    {
     "data": {
      "text/html": [
       "<div>\n",
       "<style scoped>\n",
       "    .dataframe tbody tr th:only-of-type {\n",
       "        vertical-align: middle;\n",
       "    }\n",
       "\n",
       "    .dataframe tbody tr th {\n",
       "        vertical-align: top;\n",
       "    }\n",
       "\n",
       "    .dataframe thead th {\n",
       "        text-align: right;\n",
       "    }\n",
       "</style>\n",
       "<table border=\"1\" class=\"dataframe\">\n",
       "  <thead>\n",
       "    <tr style=\"text-align: right;\">\n",
       "      <th></th>\n",
       "      <th>Survived_0</th>\n",
       "      <th>Survived_1</th>\n",
       "      <th>Pclass_1</th>\n",
       "      <th>Pclass_2</th>\n",
       "      <th>Pclass_3</th>\n",
       "      <th>Sex_0</th>\n",
       "      <th>Sex_1</th>\n",
       "      <th>Embarked_0</th>\n",
       "      <th>Embarked_1</th>\n",
       "      <th>Embarked_2</th>\n",
       "    </tr>\n",
       "  </thead>\n",
       "  <tbody>\n",
       "    <tr>\n",
       "      <th>0</th>\n",
       "      <td>1.0</td>\n",
       "      <td>0.0</td>\n",
       "      <td>0.0</td>\n",
       "      <td>0.0</td>\n",
       "      <td>1.0</td>\n",
       "      <td>0.0</td>\n",
       "      <td>1.0</td>\n",
       "      <td>0.0</td>\n",
       "      <td>0.0</td>\n",
       "      <td>1.0</td>\n",
       "    </tr>\n",
       "    <tr>\n",
       "      <th>1</th>\n",
       "      <td>0.0</td>\n",
       "      <td>1.0</td>\n",
       "      <td>1.0</td>\n",
       "      <td>0.0</td>\n",
       "      <td>0.0</td>\n",
       "      <td>1.0</td>\n",
       "      <td>0.0</td>\n",
       "      <td>1.0</td>\n",
       "      <td>0.0</td>\n",
       "      <td>0.0</td>\n",
       "    </tr>\n",
       "    <tr>\n",
       "      <th>2</th>\n",
       "      <td>0.0</td>\n",
       "      <td>1.0</td>\n",
       "      <td>0.0</td>\n",
       "      <td>0.0</td>\n",
       "      <td>1.0</td>\n",
       "      <td>1.0</td>\n",
       "      <td>0.0</td>\n",
       "      <td>0.0</td>\n",
       "      <td>0.0</td>\n",
       "      <td>1.0</td>\n",
       "    </tr>\n",
       "    <tr>\n",
       "      <th>3</th>\n",
       "      <td>0.0</td>\n",
       "      <td>1.0</td>\n",
       "      <td>1.0</td>\n",
       "      <td>0.0</td>\n",
       "      <td>0.0</td>\n",
       "      <td>1.0</td>\n",
       "      <td>0.0</td>\n",
       "      <td>0.0</td>\n",
       "      <td>0.0</td>\n",
       "      <td>1.0</td>\n",
       "    </tr>\n",
       "    <tr>\n",
       "      <th>4</th>\n",
       "      <td>1.0</td>\n",
       "      <td>0.0</td>\n",
       "      <td>0.0</td>\n",
       "      <td>0.0</td>\n",
       "      <td>1.0</td>\n",
       "      <td>0.0</td>\n",
       "      <td>1.0</td>\n",
       "      <td>0.0</td>\n",
       "      <td>0.0</td>\n",
       "      <td>1.0</td>\n",
       "    </tr>\n",
       "  </tbody>\n",
       "</table>\n",
       "</div>"
      ],
      "text/plain": [
       "   Survived_0  Survived_1  Pclass_1  ...  Embarked_0  Embarked_1  Embarked_2\n",
       "0         1.0         0.0       0.0  ...         0.0         0.0         1.0\n",
       "1         0.0         1.0       1.0  ...         1.0         0.0         0.0\n",
       "2         0.0         1.0       0.0  ...         0.0         0.0         1.0\n",
       "3         0.0         1.0       1.0  ...         0.0         0.0         1.0\n",
       "4         1.0         0.0       0.0  ...         0.0         0.0         1.0\n",
       "\n",
       "[5 rows x 10 columns]"
      ]
     },
     "execution_count": 54,
     "metadata": {
      "tags": []
     },
     "output_type": "execute_result"
    }
   ],
   "source": [
    "features_to_be_encoded=['Survived','Pclass','Sex','Embarked']\n",
    "enc=OneHotEncoder()\n",
    "encoded_data =enc.fit_transform(dataset[features_to_be_encoded])\n",
    "encoded_data=pd.DataFrame.sparse.from_spmatrix(encoded_data)\n",
    "encoded_data.columns=enc.get_feature_names(features_to_be_encoded)\n",
    "encoded_data.head()"
   ]
  },
  {
   "cell_type": "code",
   "execution_count": null,
   "metadata": {
    "colab": {
     "base_uri": "https://localhost:8080/",
     "height": 615
    },
    "executionInfo": {
     "elapsed": 1364,
     "status": "ok",
     "timestamp": 1624213553478,
     "user": {
      "displayName": "Edwyn Javier Aldana Bobadilla",
      "photoUrl": "",
      "userId": "02163041040238926784"
     },
     "user_tz": 300
    },
    "id": "mSTXfzoe7IDO",
    "outputId": "44019e63-b868-45cf-f32e-d4d5705c7406"
   },
   "outputs": [
    {
     "data": {
      "text/plain": [
       "<matplotlib.axes._subplots.AxesSubplot at 0x7f275c1c0490>"
      ]
     },
     "execution_count": 59,
     "metadata": {
      "tags": []
     },
     "output_type": "execute_result"
    },
    {
     "data": {
      "image/png": "[encoded data removed]",
      "text/plain": [
       "<Figure size 792x648 with 2 Axes>"
      ]
     },
     "metadata": {
      "tags": []
     },
     "output_type": "display_data"
    }
   ],
   "source": [
    "numerical_features=['Age','SibSp','Parch','Fare']\n",
    "final_data=pd.concat([dataset[numerical_features],encoded_data], axis=1)\n",
    "\n",
    "correlation_matrix=final_data.corr(method=\"pearson\") #Use only predictor variables\n",
    "sns.set_theme(style=\"white\")\n",
    "# Generate a mask for the upper triangle\n",
    "mask = np.triu(np.ones_like(correlation_matrix, dtype=bool))\n",
    "# Set up the matplotlib figure\n",
    "f, ax = plt.subplots(figsize=(11, 9))\n",
    "# Generate a custom diverging colormap\n",
    "cmap = sns.diverging_palette(230, 20, as_cmap=True)\n",
    "sns.heatmap(correlation_matrix, mask=mask, cmap=cmap, vmax=.3, center=0,\n",
    "            square=True, linewidths=.5, cbar_kws={\"shrink\": .5})\n"
   ]
  },
  {
   "cell_type": "markdown",
   "metadata": {
    "id": "5OPg-3ppkDLN"
   },
   "source": [
    "# Feature Selection"
   ]
  },
  {
   "cell_type": "markdown",
   "metadata": {
    "id": "Np2uJTyuVzsQ"
   },
   "source": [
    "## Sort correlations"
   ]
  },
  {
   "cell_type": "code",
   "execution_count": null,
   "metadata": {
    "colab": {
     "base_uri": "https://localhost:8080/"
    },
    "executionInfo": {
     "elapsed": 322,
     "status": "ok",
     "timestamp": 1624214415931,
     "user": {
      "displayName": "Edwyn Javier Aldana Bobadilla",
      "photoUrl": "",
      "userId": "02163041040238926784"
     },
     "user_tz": 300
    },
    "id": "3vlzN8BfV5U_",
    "outputId": "bb369318-3bd0-4959-ed1b-9914085bdbbb"
   },
   "outputs": [
    {
     "name": "stdout",
     "output_type": "stream",
     "text": [
      "Survived_1    1.000000\n",
      "Sex_0         0.543351\n",
      "Pclass_1      0.285904\n",
      "Fare          0.257307\n",
      "Embarked_0    0.168240\n",
      "Pclass_2      0.093349\n",
      "Parch         0.081629\n",
      "Embarked_1    0.003650\n",
      "Name: Survived_1, dtype: float64\n",
      "Survived_0   -1.000000\n",
      "Sex_1        -0.543351\n",
      "Pclass_3     -0.322308\n",
      "Embarked_2   -0.149683\n",
      "Age          -0.052883\n",
      "SibSp        -0.035322\n",
      "Name: Survived_1, dtype: float64\n"
     ]
    }
   ],
   "source": [
    "my_filter=correlation_matrix['Survived_0']>=0\n",
    "print(correlation_matrix.loc[my_filter, 'Survived_0'].sort_values(ascending=False))\n",
    "my_filter=correlation_matrix['Survived_0']<0\n",
    "print(correlation_matrix.loc[my_filter, 'Survived_0'].sort_values(ascending=True))\n",
    "\n",
    "my_filter=correlation_matrix['Survived_1']>=0\n",
    "print(correlation_matrix.loc[my_filter, 'Survived_1'].sort_values(ascending=False))\n",
    "my_filter=correlation_matrix['Survived_1']<0\n",
    "print(correlation_matrix.loc[my_filter, 'Survived_1'].sort_values(ascending=True))"
   ]
  },
  {
   "cell_type": "markdown",
   "metadata": {
    "id": "64lBfSMmV-OW"
   },
   "source": [
    "## Choose the most correlated variables as predictors"
   ]
  },
  {
   "cell_type": "code",
   "execution_count": null,
   "metadata": {
    "id": "w5uHJBcCBt-G"
   },
   "outputs": [],
   "source": [
    "columns=['Sex_1','Pclass_3', 'Embarked_2','Age','SibSp','Sex_0','Pclass_1','Fare','Embarked_0']\n",
    "X = final_data.loc[:,columns] #predictors\n",
    "y = dataset.loc[:,'Survived'] #outcome\n"
   ]
  },
  {
   "cell_type": "markdown",
   "metadata": {
    "id": "9A1vugIyCI5p"
   },
   "source": [
    "## Define Training and Test Datasets"
   ]
  },
  {
   "cell_type": "code",
   "execution_count": null,
   "metadata": {
    "colab": {
     "base_uri": "https://localhost:8080/"
    },
    "executionInfo": {
     "elapsed": 327,
     "status": "ok",
     "timestamp": 1624214889735,
     "user": {
      "displayName": "Edwyn Javier Aldana Bobadilla",
      "photoUrl": "",
      "userId": "02163041040238926784"
     },
     "user_tz": 300
    },
    "id": "AX4cLrJ7CSvP",
    "outputId": "0443d283-849b-4df5-b60d-451dae475f54"
   },
   "outputs": [
    {
     "name": "stdout",
     "output_type": "stream",
     "text": [
      "Training 668 instances\n",
      "Test 223 instances\n"
     ]
    }
   ],
   "source": [
    "x_train, x_test, y_train, y_test = train_test_split(X, y, random_state=1)\n",
    "print(\"Training %d instances\"%(x_train.shape[0]))\n",
    "print(\"Test %d instances\"%(x_test.shape[0]))"
   ]
  },
  {
   "cell_type": "markdown",
   "metadata": {
    "id": "3--SySWIJxB2"
   },
   "source": [
    "#Random Forest"
   ]
  },
  {
   "cell_type": "code",
   "execution_count": null,
   "metadata": {
    "colab": {
     "base_uri": "https://localhost:8080/"
    },
    "executionInfo": {
     "elapsed": 5,
     "status": "ok",
     "timestamp": 1624214900681,
     "user": {
      "displayName": "Edwyn Javier Aldana Bobadilla",
      "photoUrl": "",
      "userId": "02163041040238926784"
     },
     "user_tz": 300
    },
    "id": "MNtyS34YKR7n",
    "outputId": "2c17ffdf-3f4d-4072-dd89-c647cac74245"
   },
   "outputs": [
    {
     "name": "stdout",
     "output_type": "stream",
     "text": [
      "0.7802690582959642\n"
     ]
    }
   ],
   "source": [
    "rf = RandomForestClassifier(max_depth=2, random_state=0)\n",
    "rf.fit(x_train, y_train)\n",
    "pred=rf.predict(x_test)\n",
    "acc=metrics.accuracy_score(y_test, pred)\n",
    "print(acc)\n"
   ]
  },
  {
   "cell_type": "code",
   "execution_count": null,
   "metadata": {
    "colab": {
     "base_uri": "https://localhost:8080/"
    },
    "executionInfo": {
     "elapsed": 15344,
     "status": "ok",
     "timestamp": 1624215059336,
     "user": {
      "displayName": "Edwyn Javier Aldana Bobadilla",
      "photoUrl": "",
      "userId": "02163041040238926784"
     },
     "user_tz": 300
    },
    "id": "etj46uo7NBVa",
    "outputId": "f9f17a79-31f3-4d1c-8830-9ca8d1263103"
   },
   "outputs": [
    {
     "name": "stdout",
     "output_type": "stream",
     "text": [
      "BEST PARAMS: {'max_depth': 8, 'n_estimators': 50}\n",
      "\n",
      "0.782 (+/-0.076) for {'max_depth': 2, 'n_estimators': 5}\n",
      "0.784 (+/-0.087) for {'max_depth': 2, 'n_estimators': 50}\n",
      "0.78 (+/-0.08) for {'max_depth': 2, 'n_estimators': 250}\n",
      "0.811 (+/-0.11) for {'max_depth': 4, 'n_estimators': 5}\n",
      "0.825 (+/-0.101) for {'max_depth': 4, 'n_estimators': 50}\n",
      "0.828 (+/-0.087) for {'max_depth': 4, 'n_estimators': 250}\n",
      "0.823 (+/-0.027) for {'max_depth': 8, 'n_estimators': 5}\n",
      "0.837 (+/-0.07) for {'max_depth': 8, 'n_estimators': 50}\n",
      "0.837 (+/-0.049) for {'max_depth': 8, 'n_estimators': 250}\n",
      "0.792 (+/-0.057) for {'max_depth': 16, 'n_estimators': 5}\n",
      "0.823 (+/-0.062) for {'max_depth': 16, 'n_estimators': 50}\n",
      "0.828 (+/-0.054) for {'max_depth': 16, 'n_estimators': 250}\n",
      "0.799 (+/-0.044) for {'max_depth': 32, 'n_estimators': 5}\n",
      "0.813 (+/-0.047) for {'max_depth': 32, 'n_estimators': 50}\n",
      "0.819 (+/-0.062) for {'max_depth': 32, 'n_estimators': 250}\n",
      "0.799 (+/-0.065) for {'max_depth': None, 'n_estimators': 5}\n",
      "0.822 (+/-0.06) for {'max_depth': None, 'n_estimators': 50}\n",
      "0.816 (+/-0.053) for {'max_depth': None, 'n_estimators': 250}\n"
     ]
    }
   ],
   "source": [
    "from sklearn.model_selection import GridSearchCV\n",
    "\n",
    "rf = RandomForestClassifier()\n",
    "parameters = {\n",
    "    'n_estimators': [5, 50, 250],\n",
    "    'max_depth': [2, 4, 8, 16, 32, None]\n",
    "}\n",
    "###############################################################################\n",
    "#We user GridSearchCV to find  the best set of parameters  \n",
    "###############################################################################\n",
    "cv = GridSearchCV(rf, parameters, cv=5)\n",
    "cv.fit(x_train, y_train)\n",
    "\n",
    "def print_results(results):\n",
    "    print('BEST PARAMS: {}\\n'.format(results.best_params_))\n",
    "    means = results.cv_results_['mean_test_score']\n",
    "    stds = results.cv_results_['std_test_score']\n",
    "    for mean, std, params in zip(means, stds, results.cv_results_['params']):\n",
    "        print('{} (+/-{}) for {}'.format(round(mean, 3), round(std * 2, 3), params))\n",
    "print_results(cv)"
   ]
  },
  {
   "cell_type": "markdown",
   "metadata": {
    "id": "0KkLN_SZCf0P"
   },
   "source": [
    "#Foundation of Ensambling Methods"
   ]
  },
  {
   "cell_type": "markdown",
   "metadata": {
    "id": "rlhvu4YAFVeW"
   },
   "source": [
    "\n",
    "## Marginal Training\n",
    "\n"
   ]
  },
  {
   "cell_type": "code",
   "execution_count": null,
   "metadata": {
    "colab": {
     "base_uri": "https://localhost:8080/"
    },
    "executionInfo": {
     "elapsed": 298,
     "status": "ok",
     "timestamp": 1623616118050,
     "user": {
      "displayName": "Edwyn Javier Aldana Bobadilla",
      "photoUrl": "",
      "userId": "02163041040238926784"
     },
     "user_tz": 300
    },
    "id": "ftmoNHi5Ciz_",
    "outputId": "7ffd44e2-aa93-4f03-c263-a22cca6f34c0"
   },
   "outputs": [
    {
     "data": {
      "text/plain": [
       "GaussianNB(priors=None, var_smoothing=1e-09)"
      ]
     },
     "execution_count": 58,
     "metadata": {
      "tags": []
     },
     "output_type": "execute_result"
    }
   ],
   "source": [
    "#Create models\n",
    "model1 = DecisionTreeClassifier()\n",
    "model2 = KNeighborsClassifier()\n",
    "model3= GaussianNB()\n",
    "#Training\n",
    "model1.fit(x_train,y_train)\n",
    "model2.fit(x_train,y_train)\n",
    "model3.fit(x_train,y_train)"
   ]
  },
  {
   "cell_type": "markdown",
   "metadata": {
    "id": "cZpBIyvhFwf8"
   },
   "source": [
    "## 0. Marginal predictions  "
   ]
  },
  {
   "cell_type": "code",
   "execution_count": null,
   "metadata": {
    "colab": {
     "base_uri": "https://localhost:8080/"
    },
    "executionInfo": {
     "elapsed": 545,
     "status": "ok",
     "timestamp": 1623616127245,
     "user": {
      "displayName": "Edwyn Javier Aldana Bobadilla",
      "photoUrl": "",
      "userId": "02163041040238926784"
     },
     "user_tz": 300
    },
    "id": "zw4-Rg6YEzUS",
    "outputId": "5740160e-72f5-4206-fd62-99f52313fe67"
   },
   "outputs": [
    {
     "name": "stdout",
     "output_type": "stream",
     "text": [
      "[1, 1, 1]\n",
      "[0, 0, 0]\n",
      "[1, 0, 1]\n",
      "[1, 1, 0]\n",
      "[1, 1, 1]\n",
      "[0, 0, 0]\n",
      "[1, 1, 1]\n",
      "[1, 0, 1]\n",
      "[0, 1, 1]\n",
      "[1, 0, 0]\n",
      "[0, 0, 0]\n",
      "[0, 0, 0]\n",
      "[0, 1, 1]\n",
      "[0, 0, 0]\n",
      "[1, 1, 0]\n",
      "[0, 1, 0]\n",
      "[0, 0, 0]\n",
      "[0, 0, 0]\n",
      "[0, 0, 0]\n",
      "[1, 1, 1]\n",
      "[0, 0, 0]\n",
      "[0, 0, 0]\n",
      "[1, 1, 1]\n",
      "[0, 0, 0]\n",
      "[0, 0, 1]\n",
      "[0, 0, 0]\n",
      "[1, 1, 1]\n",
      "[1, 1, 1]\n",
      "[0, 0, 0]\n",
      "[0, 1, 1]\n",
      "[1, 0, 0]\n",
      "[1, 1, 0]\n",
      "[0, 0, 0]\n",
      "[0, 0, 0]\n",
      "[0, 0, 0]\n",
      "[1, 0, 0]\n",
      "[1, 1, 1]\n",
      "[0, 0, 0]\n",
      "[1, 1, 1]\n",
      "[0, 0, 0]\n",
      "[0, 0, 0]\n",
      "[1, 1, 0]\n",
      "[1, 1, 1]\n",
      "[1, 0, 0]\n",
      "[0, 0, 0]\n",
      "[0, 0, 0]\n",
      "[0, 0, 0]\n",
      "[0, 0, 0]\n",
      "[1, 1, 1]\n",
      "[0, 0, 0]\n",
      "[1, 0, 0]\n",
      "[1, 0, 1]\n",
      "[0, 0, 0]\n",
      "[0, 0, 0]\n",
      "[0, 0, 0]\n",
      "[1, 0, 0]\n",
      "[0, 0, 0]\n",
      "[0, 1, 1]\n",
      "[0, 0, 0]\n",
      "[0, 0, 0]\n",
      "[0, 0, 1]\n",
      "[0, 0, 0]\n",
      "[0, 1, 0]\n",
      "[0, 0, 0]\n",
      "[0, 1, 1]\n",
      "[0, 0, 1]\n",
      "[1, 0, 0]\n",
      "[0, 1, 0]\n",
      "[0, 0, 1]\n",
      "[0, 0, 0]\n",
      "[0, 0, 0]\n",
      "[0, 0, 0]\n",
      "[0, 1, 1]\n",
      "[0, 0, 0]\n",
      "[1, 0, 1]\n",
      "[0, 0, 0]\n",
      "[1, 0, 1]\n",
      "[0, 0, 0]\n",
      "[1, 0, 1]\n",
      "[1, 1, 1]\n",
      "[0, 1, 0]\n",
      "[0, 0, 0]\n",
      "[0, 0, 0]\n",
      "[0, 0, 0]\n",
      "[1, 1, 1]\n",
      "[0, 0, 0]\n",
      "[0, 0, 0]\n",
      "[0, 0, 0]\n",
      "[0, 0, 0]\n",
      "[0, 0, 1]\n",
      "[1, 1, 1]\n",
      "[0, 0, 0]\n",
      "[0, 0, 0]\n",
      "[1, 1, 0]\n",
      "[0, 0, 0]\n",
      "[0, 0, 0]\n",
      "[0, 0, 0]\n",
      "[1, 0, 1]\n",
      "[0, 0, 0]\n",
      "[0, 0, 0]\n",
      "[0, 1, 0]\n",
      "[0, 0, 0]\n",
      "[1, 0, 0]\n",
      "[0, 0, 1]\n",
      "[1, 1, 1]\n",
      "[0, 0, 0]\n",
      "[0, 0, 0]\n",
      "[0, 0, 0]\n",
      "[0, 0, 0]\n",
      "[0, 0, 0]\n",
      "[0, 1, 1]\n",
      "[0, 0, 0]\n",
      "[0, 0, 0]\n",
      "[0, 0, 0]\n",
      "[0, 0, 0]\n",
      "[0, 0, 0]\n",
      "[0, 0, 0]\n",
      "[0, 0, 0]\n",
      "[1, 1, 1]\n",
      "[0, 0, 0]\n",
      "[1, 1, 1]\n",
      "[0, 1, 1]\n",
      "[0, 0, 0]\n",
      "[0, 0, 0]\n",
      "[1, 1, 1]\n",
      "[1, 0, 1]\n",
      "[1, 1, 1]\n",
      "[0, 0, 0]\n",
      "[0, 0, 0]\n",
      "[0, 0, 0]\n",
      "[0, 0, 0]\n",
      "[0, 0, 0]\n",
      "[1, 1, 1]\n",
      "[1, 1, 1]\n",
      "[1, 0, 0]\n",
      "[1, 1, 1]\n",
      "[1, 1, 1]\n",
      "[0, 0, 0]\n",
      "[0, 0, 0]\n",
      "[0, 0, 0]\n",
      "[0, 1, 1]\n",
      "[0, 0, 0]\n",
      "[1, 1, 1]\n",
      "[0, 0, 0]\n",
      "[0, 0, 0]\n",
      "[0, 0, 0]\n",
      "[0, 0, 0]\n",
      "[0, 0, 0]\n",
      "[1, 0, 0]\n",
      "[0, 0, 0]\n",
      "[1, 1, 0]\n",
      "[0, 0, 0]\n",
      "[0, 0, 0]\n",
      "[1, 1, 0]\n",
      "[0, 1, 0]\n",
      "[0, 0, 0]\n",
      "[0, 0, 0]\n",
      "[0, 0, 0]\n",
      "[1, 0, 1]\n",
      "[0, 0, 0]\n",
      "[0, 0, 0]\n",
      "[0, 0, 0]\n",
      "[0, 0, 0]\n",
      "[0, 0, 0]\n",
      "[0, 0, 0]\n",
      "[0, 0, 1]\n",
      "[1, 1, 1]\n",
      "[0, 1, 0]\n",
      "[0, 0, 0]\n",
      "[1, 1, 1]\n",
      "[1, 1, 1]\n",
      "[0, 0, 0]\n",
      "[1, 1, 1]\n",
      "[0, 0, 0]\n",
      "[1, 1, 1]\n",
      "[0, 0, 0]\n",
      "[0, 0, 0]\n",
      "[0, 0, 0]\n",
      "[1, 1, 1]\n",
      "[0, 0, 0]\n",
      "[1, 1, 1]\n",
      "[1, 0, 1]\n",
      "[0, 0, 0]\n",
      "[0, 0, 0]\n",
      "[1, 1, 1]\n",
      "[0, 0, 0]\n",
      "[0, 0, 0]\n",
      "[1, 1, 1]\n",
      "[0, 0, 0]\n",
      "[1, 0, 1]\n",
      "[1, 1, 1]\n",
      "[0, 1, 1]\n",
      "[1, 1, 0]\n",
      "[1, 0, 1]\n",
      "[0, 0, 1]\n",
      "[1, 1, 1]\n",
      "[0, 0, 0]\n",
      "[1, 1, 1]\n",
      "[0, 0, 0]\n",
      "[0, 0, 1]\n",
      "[0, 0, 0]\n",
      "[1, 0, 1]\n",
      "[0, 0, 0]\n",
      "[1, 0, 0]\n",
      "[0, 1, 1]\n",
      "[1, 1, 1]\n",
      "[1, 1, 1]\n",
      "[0, 0, 0]\n",
      "[0, 0, 0]\n",
      "[0, 0, 0]\n",
      "[1, 1, 1]\n",
      "[0, 0, 0]\n",
      "[0, 0, 0]\n",
      "[0, 1, 0]\n",
      "[0, 0, 0]\n",
      "[0, 0, 0]\n",
      "[0, 0, 0]\n",
      "[1, 0, 1]\n",
      "[1, 1, 1]\n",
      "[0, 0, 0]\n",
      "[0, 1, 1]\n",
      "[0, 0, 0]\n",
      "[1, 1, 0]\n",
      "Marginals Accuracies\n"
     ]
    }
   ],
   "source": [
    "\n",
    "pred1=model1.predict(x_test)\n",
    "pred2=model2.predict(x_test)\n",
    "pred3=model3.predict(x_test)\n",
    "\n",
    "for i in range(0,len(x_test)):\n",
    "  print([pred1[i], pred2[i], pred3[i]])\n",
    "print(\"Marginals Accuracies\")\n",
    "\n"
   ]
  },
  {
   "cell_type": "markdown",
   "metadata": {
    "id": "hvR4Nh8Ocre3"
   },
   "source": [
    "### Visualization of predictions"
   ]
  },
  {
   "cell_type": "code",
   "execution_count": null,
   "metadata": {
    "colab": {
     "base_uri": "https://localhost:8080/",
     "height": 323
    },
    "executionInfo": {
     "elapsed": 305,
     "status": "ok",
     "timestamp": 1623616142322,
     "user": {
      "displayName": "Edwyn Javier Aldana Bobadilla",
      "photoUrl": "",
      "userId": "02163041040238926784"
     },
     "user_tz": 300
    },
    "id": "WCP5H3p3cx6d",
    "outputId": "052bd70a-8432-42f0-84bb-87af5820c070"
   },
   "outputs": [
    {
     "name": "stdout",
     "output_type": "stream",
     "text": [
      "DT0.7982062780269058\n",
      "KN0.7488789237668162\n",
      "NB0.7399103139013453\n"
     ]
    },
    {
     "data": {
      "image/png": "[encoded data removed]",
      "text/plain": [
       "<Figure size 432x288 with 1 Axes>"
      ]
     },
     "metadata": {
      "tags": []
     },
     "output_type": "display_data"
    }
   ],
   "source": [
    "#Function to visualize results\n",
    "def plot_prediction(prediction, labels):\n",
    "  levels = np.arange(len(labels))\n",
    "  # Create bars\n",
    "  plt.bar(levels, prediction, color=['firebrick', 'green', 'blue'] )\n",
    "  # Create names on the x-axis\n",
    "  plt.xticks(levels, labels)\n",
    "  # Show graphic\n",
    "  plt.show()\n",
    "#Visualization\n",
    "names_models=['DT','KN','NB']\n",
    "predictions=[pred1, pred2, pred3]\n",
    "accuracies=[]\n",
    "model_index=0\n",
    "for m in names_models:\n",
    "  acc=metrics.accuracy_score(y_test, predictions[model_index])\n",
    "  accuracies.append(acc)\n",
    "  model_index+=1\n",
    "  print(m+str(acc))\n",
    "\n",
    "\n",
    "#Visualize Accuracy\n",
    "plot_prediction(accuracies, names_models)\n",
    "#print(\"New visitor: propensity :\",classifier.predict_proba(browsing_data)[:,1] )"
   ]
  },
  {
   "cell_type": "markdown",
   "metadata": {
    "id": "k91mTK46Gmwl"
   },
   "source": [
    "## 1. Max Voting Technique"
   ]
  },
  {
   "cell_type": "code",
   "execution_count": null,
   "metadata": {
    "colab": {
     "base_uri": "https://localhost:8080/",
     "height": 286
    },
    "executionInfo": {
     "elapsed": 311,
     "status": "ok",
     "timestamp": 1623616166812,
     "user": {
      "displayName": "Edwyn Javier Aldana Bobadilla",
      "photoUrl": "",
      "userId": "02163041040238926784"
     },
     "user_tz": 300
    },
    "id": "Pu-8gxspGrCP",
    "outputId": "f80369dd-55ca-476b-97a9-10fe7c69161f"
   },
   "outputs": [
    {
     "data": {
      "image/png": "[encoded data removed]",
      "text/plain": [
       "<Figure size 432x288 with 1 Axes>"
      ]
     },
     "metadata": {
      "tags": []
     },
     "output_type": "display_data"
    },
    {
     "name": "stdout",
     "output_type": "stream",
     "text": [
      "Global Accuracy:0.7892376681614349\n"
     ]
    }
   ],
   "source": [
    "from sklearn.ensemble import VotingClassifier\n",
    "model = VotingClassifier(estimators=[('dt', model1), ('kn', model2),('nb', model3)], voting='hard')\n",
    "model.fit(x_train,y_train)\n",
    "\n",
    "acc=model.score(x_test,y_test)\n",
    "accuracies.append(acc)\n",
    "names_models.append(\"VC\")\n",
    "plot_prediction(accuracies, names_models)\n",
    "print(\"Global Accuracy:\"+str(acc))"
   ]
  },
  {
   "cell_type": "markdown",
   "metadata": {
    "id": "ZrswFfcWIJr-"
   },
   "source": [
    "## 2. Average Technique\n",
    "In this technique the prediction is averaged. Since usually in classification problems, the prediction is a categorical value, we have to transform such a\n",
    "prediction into a real value as the probability of the classes. "
   ]
  },
  {
   "cell_type": "code",
   "execution_count": null,
   "metadata": {
    "colab": {
     "base_uri": "https://localhost:8080/",
     "height": 286
    },
    "executionInfo": {
     "elapsed": 316,
     "status": "ok",
     "timestamp": 1623616196129,
     "user": {
      "displayName": "Edwyn Javier Aldana Bobadilla",
      "photoUrl": "",
      "userId": "02163041040238926784"
     },
     "user_tz": 300
    },
    "id": "XHAMn09RIQb5",
    "outputId": "d9541efe-1775-4020-985e-2442b3a21ccd"
   },
   "outputs": [
    {
     "data": {
      "image/png": "[encoded data removed]",
      "text/plain": [
       "<Figure size 432x288 with 1 Axes>"
      ]
     },
     "metadata": {
      "tags": []
     },
     "output_type": "display_data"
    },
    {
     "name": "stdout",
     "output_type": "stream",
     "text": [
      "Global Accuracy:0.14349775784753363\n"
     ]
    }
   ],
   "source": [
    "#The meth0d predict_proba is different to predict. \n",
    "#This returns the probability of the clases\n",
    "pred1=model1.predict_proba(x_test) \n",
    "pred2=model2.predict_proba(x_test)\n",
    "pred3=model3.predict_proba(x_test)\n",
    "finalpred=[]\n",
    "for i in range(0, len(pred1)):\n",
    "  averages=(pred1[i,:]+pred2[i,:]+pred3[i,:])/3\n",
    "  finalpred.append(np.argmax(averages)+1)\n",
    "\n",
    "finalpred=np.array(finalpred)\n",
    "\n",
    "acc=metrics.accuracy_score(y_test, finalpred)\n",
    "accuracies.append(acc)\n",
    "names_models.append(\"Avg\")\n",
    "plot_prediction(accuracies, names_models)\n",
    "print(\"Global Accuracy:\"+str(acc))\n"
   ]
  },
  {
   "cell_type": "markdown",
   "metadata": {
    "id": "SMwXDwpYJOxU"
   },
   "source": [
    "## 3. Stacking Techniques"
   ]
  },
  {
   "cell_type": "code",
   "execution_count": null,
   "metadata": {
    "id": "YJ6wDpAFNwLj"
   },
   "outputs": [],
   "source": [
    "from sklearn.model_selection import StratifiedKFold \n",
    "#Encapsulted in a function\n",
    "def Stacking(model,train,y,test,n_fold):\n",
    "#Step 1:Define the K-folds parameters\n",
    "  folds=StratifiedKFold(n_splits=n_fold,random_state=1)\n",
    "#Step 2:Define arrays to storage test predictions and train prediction  \n",
    "  test_pred=np.empty((0,1),float)\n",
    "  train_pred=np.empty((0,1),float)\n",
    "#Step 3 Split the train dataset into k-folds, train with k-1 folds and validate\n",
    "#with the remain fold.  \n",
    "  for train_indices,val_indices in folds.split(train,y.values):\n",
    "    #Determine the training and validation datasets based on the splits\n",
    "    x_train,x_val=train.iloc[train_indices],train.iloc[val_indices]\n",
    "    y_train,y_val=y.iloc[train_indices],y.iloc[val_indices]\n",
    "    #Train the model using training data\n",
    "    model.fit(X=x_train,y=y_train)\n",
    "    #Predict using validation data\n",
    "    train_pred=np.append(train_pred,model.predict(x_val))\n",
    "    #Predict using validation data\n",
    "  test_pred=np.append(test_pred,model.predict(test))\n",
    "    \n",
    "  return test_pred,train_pred\n",
    "  "
   ]
  },
  {
   "cell_type": "markdown",
   "metadata": {
    "id": "xOsXSsjVOGoj"
   },
   "source": [
    "Using stacking approach"
   ]
  },
  {
   "cell_type": "markdown",
   "metadata": {
    "id": "iGpqUAPpRNmC"
   },
   "source": [
    "Level 1, model 1"
   ]
  },
  {
   "cell_type": "code",
   "execution_count": null,
   "metadata": {
    "colab": {
     "base_uri": "https://localhost:8080/"
    },
    "executionInfo": {
     "elapsed": 299,
     "status": "ok",
     "timestamp": 1623616240293,
     "user": {
      "displayName": "Edwyn Javier Aldana Bobadilla",
      "photoUrl": "",
      "userId": "02163041040238926784"
     },
     "user_tz": 300
    },
    "id": "hauCWttpOiud",
    "outputId": "e29d9efc-b423-4432-cdc8-347e52c2a152"
   },
   "outputs": [
    {
     "name": "stdout",
     "output_type": "stream",
     "text": [
      "(668, 1)\n",
      "(223, 1)\n"
     ]
    },
    {
     "name": "stderr",
     "output_type": "stream",
     "text": [
      "/usr/local/lib/python3.7/dist-packages/sklearn/model_selection/_split.py:296: FutureWarning: Setting a random_state has no effect since shuffle is False. This will raise an error in 0.24. You should leave random_state to its default (None), or set shuffle=True.\n",
      "  FutureWarning\n"
     ]
    }
   ],
   "source": [
    "model1 = DecisionTreeClassifier(random_state=1)\n",
    "test_pred1 ,train_pred1=Stacking(model=model1,n_fold=10, train=x_train,test=x_test,y=y_train)\n",
    "train_pred1=pd.DataFrame(train_pred1) #New train dataset\n",
    "test_pred1=pd.DataFrame(test_pred1)   #New test  dataset\n",
    "print(train_pred1.shape)\n",
    "print(test_pred1.shape)"
   ]
  },
  {
   "cell_type": "markdown",
   "metadata": {
    "id": "7x1t9ChkRQXX"
   },
   "source": [
    "Level 1, model 2"
   ]
  },
  {
   "cell_type": "code",
   "execution_count": null,
   "metadata": {
    "colab": {
     "base_uri": "https://localhost:8080/"
    },
    "executionInfo": {
     "elapsed": 294,
     "status": "ok",
     "timestamp": 1623616248454,
     "user": {
      "displayName": "Edwyn Javier Aldana Bobadilla",
      "photoUrl": "",
      "userId": "02163041040238926784"
     },
     "user_tz": 300
    },
    "id": "Pr5Np8eBRSy2",
    "outputId": "84c8d49d-84dc-4b5c-92ce-4b8a50e8236e"
   },
   "outputs": [
    {
     "name": "stdout",
     "output_type": "stream",
     "text": [
      "(668, 1)\n",
      "(223, 1)\n"
     ]
    },
    {
     "name": "stderr",
     "output_type": "stream",
     "text": [
      "/usr/local/lib/python3.7/dist-packages/sklearn/model_selection/_split.py:296: FutureWarning: Setting a random_state has no effect since shuffle is False. This will raise an error in 0.24. You should leave random_state to its default (None), or set shuffle=True.\n",
      "  FutureWarning\n"
     ]
    }
   ],
   "source": [
    "model2 = KNeighborsClassifier()\n",
    "test_pred2 ,train_pred2=Stacking(model=model2,n_fold=10,train=x_train,test=x_test,y=y_train)\n",
    "train_pred2=pd.DataFrame(train_pred2)\n",
    "test_pred2=pd.DataFrame(test_pred2)\n",
    "\n",
    "print(train_pred2.shape)\n",
    "print(test_pred2.shape)"
   ]
  },
  {
   "cell_type": "markdown",
   "metadata": {
    "id": "od1ZG3viRtlZ"
   },
   "source": [
    "Level 2, metamodel"
   ]
  },
  {
   "cell_type": "code",
   "execution_count": null,
   "metadata": {
    "colab": {
     "base_uri": "https://localhost:8080/",
     "height": 286
    },
    "executionInfo": {
     "elapsed": 325,
     "status": "ok",
     "timestamp": 1623616388311,
     "user": {
      "displayName": "Edwyn Javier Aldana Bobadilla",
      "photoUrl": "",
      "userId": "02163041040238926784"
     },
     "user_tz": 300
    },
    "id": "c482PEtZRwt-",
    "outputId": "51c67c6d-3832-4c10-e7e0-89617ffb58b6"
   },
   "outputs": [
    {
     "name": "stdout",
     "output_type": "stream",
     "text": [
      "Global Accurracy:0.8026905829596412\n"
     ]
    },
    {
     "data": {
      "image/png": "[encoded data removed]",
      "text/plain": [
       "<Figure size 432x288 with 1 Axes>"
      ]
     },
     "metadata": {
      "tags": []
     },
     "output_type": "display_data"
    }
   ],
   "source": [
    "from sklearn.linear_model import LogisticRegression\n",
    "df_train = pd.concat([train_pred1, train_pred2], axis=1)\n",
    "df_test = pd.concat([test_pred1, test_pred2], axis=1)\n",
    "model3 = LogisticRegression(random_state=1)\n",
    "model3.fit(df_train,y_train)\n",
    "df_train.shape\n",
    "y_train.shape\n",
    "pd.concat([df_train.reset_index(),pd.DataFrame(y_train)], axis=1)\n",
    "final_predictions=model3.predict(df_test)\n",
    "print(\"Global Accurracy:\"+str(metrics.accuracy_score(y_test, final_predictions)))\n",
    "#Visualization\n",
    "acc=metrics.accuracy_score(y_test, final_predictions)\n",
    "accuracies.append(acc)\n",
    "names_models.append(\"Stk1\")\n",
    "plot_prediction(accuracies, names_models)\n"
   ]
  },
  {
   "cell_type": "markdown",
   "metadata": {
    "id": "58uHFDWe-Wck"
   },
   "source": [
    "## Use sklearn implementation"
   ]
  },
  {
   "cell_type": "code",
   "execution_count": null,
   "metadata": {
    "colab": {
     "base_uri": "https://localhost:8080/",
     "height": 268
    },
    "executionInfo": {
     "elapsed": 359,
     "status": "ok",
     "timestamp": 1623616535733,
     "user": {
      "displayName": "Edwyn Javier Aldana Bobadilla",
      "photoUrl": "",
      "userId": "02163041040238926784"
     },
     "user_tz": 300
    },
    "id": "dLbGxieRASax",
    "outputId": "ae7f2341-0c51-4884-b9f4-962e6ccba262"
   },
   "outputs": [
    {
     "data": {
      "image/png": "[encoded data removed]",
      "text/plain": [
       "<Figure size 432x288 with 1 Axes>"
      ]
     },
     "metadata": {
      "tags": []
     },
     "output_type": "display_data"
    }
   ],
   "source": [
    "estimators=[('DT',model1),('KN', model2)]\n",
    "clf = StackingClassifier(estimators=estimators,cv=10, stack_method='predict',final_estimator=model3)\n",
    "acc=clf.fit(x_train,y_train).score(x_test,y_test)\n",
    "accuracies.append(acc)\n",
    "names_models.append(\"Stk2\")\n",
    "plot_prediction(accuracies, names_models)"
   ]
  },
  {
   "cell_type": "markdown",
   "metadata": {
    "id": "nMCjGWVhWVVg"
   },
   "source": [
    "# Advanced Techniques\n",
    "## Next Sesion (June 20)"
   ]
  },
  {
   "cell_type": "markdown",
   "metadata": {
    "id": "lyZGjnyhWggY"
   },
   "source": [
    "BAGGING"
   ]
  },
  {
   "cell_type": "code",
   "execution_count": null,
   "metadata": {
    "colab": {
     "base_uri": "https://localhost:8080/"
    },
    "executionInfo": {
     "elapsed": 207,
     "status": "ok",
     "timestamp": 1623017513178,
     "user": {
      "displayName": "Edwyn Javier Aldana Bobadilla",
      "photoUrl": "",
      "userId": "02163041040238926784"
     },
     "user_tz": 300
    },
    "id": "7yb1WOw3WYr9",
    "outputId": "ffd03ac9-3b0b-414f-ef98-3d54e675094c"
   },
   "outputs": [
    {
     "data": {
      "text/plain": [
       "0.9333333333333333"
      ]
     },
     "execution_count": 323,
     "metadata": {
      "tags": []
     },
     "output_type": "execute_result"
    }
   ],
   "source": [
    "from sklearn.ensemble import BaggingClassifier\n",
    "from sklearn import tree\n",
    "model = BaggingClassifier(tree.DecisionTreeClassifier(random_state=1))\n",
    "model.fit(x_train, y_train)\n",
    "model.score(x_test,y_test)\n"
   ]
  },
  {
   "cell_type": "markdown",
   "metadata": {
    "id": "wnJr73d9W9c9"
   },
   "source": [
    "BOOSTING"
   ]
  },
  {
   "cell_type": "code",
   "execution_count": null,
   "metadata": {
    "colab": {
     "base_uri": "https://localhost:8080/"
    },
    "executionInfo": {
     "elapsed": 222,
     "status": "ok",
     "timestamp": 1623017530995,
     "user": {
      "displayName": "Edwyn Javier Aldana Bobadilla",
      "photoUrl": "",
      "userId": "02163041040238926784"
     },
     "user_tz": 300
    },
    "id": "vrnqyEjtXBMJ",
    "outputId": "89aaead4-1653-4481-edad-eb654523510b"
   },
   "outputs": [
    {
     "data": {
      "text/plain": [
       "0.5555555555555556"
      ]
     },
     "execution_count": 327,
     "metadata": {
      "tags": []
     },
     "output_type": "execute_result"
    }
   ],
   "source": [
    "from sklearn.ensemble import AdaBoostClassifier\n",
    "model = AdaBoostClassifier(random_state=1)\n",
    "model.fit(x_train, y_train)\n",
    "model.score(x_test,y_test)\n"
   ]
  },
  {
   "cell_type": "code",
   "execution_count": null,
   "metadata": {
    "colab": {
     "base_uri": "https://localhost:8080/"
    },
    "executionInfo": {
     "elapsed": 450,
     "status": "ok",
     "timestamp": 1623017537089,
     "user": {
      "displayName": "Edwyn Javier Aldana Bobadilla",
      "photoUrl": "",
      "userId": "02163041040238926784"
     },
     "user_tz": 300
    },
    "id": "U4r1SzAXXXO6",
    "outputId": "a6b85c14-e318-40d3-88e2-a61ca9b3293f"
   },
   "outputs": [
    {
     "data": {
      "text/plain": [
       "0.9111111111111111"
      ]
     },
     "execution_count": 329,
     "metadata": {
      "tags": []
     },
     "output_type": "execute_result"
    }
   ],
   "source": [
    "from sklearn.ensemble import GradientBoostingClassifier\n",
    "model= GradientBoostingClassifier(learning_rate=0.01,random_state=1)\n",
    "model.fit(x_train, y_train)\n",
    "model.score(x_test,y_test)"
   ]
  },
  {
   "cell_type": "code",
   "execution_count": null,
   "metadata": {
    "colab": {
     "base_uri": "https://localhost:8080/"
    },
    "executionInfo": {
     "elapsed": 1515,
     "status": "ok",
     "timestamp": 1623017551730,
     "user": {
      "displayName": "Edwyn Javier Aldana Bobadilla",
      "photoUrl": "",
      "userId": "02163041040238926784"
     },
     "user_tz": 300
    },
    "id": "ik2zUoBMX0vh",
    "outputId": "df29b787-df58-4b83-ac26-54fdf1359d85"
   },
   "outputs": [
    {
     "data": {
      "text/plain": [
       "0.9662670066889633"
      ]
     },
     "execution_count": 332,
     "metadata": {
      "tags": []
     },
     "output_type": "execute_result"
    }
   ],
   "source": [
    "from sklearn.ensemble import RandomForestRegressor\n",
    "# Instantiate model with 1000 decision trees\n",
    "model = RandomForestRegressor(n_estimators = 1000, random_state = 42)\n",
    "# Train the model on training data\n",
    "model.fit(x_train, y_train);\n",
    "model.score(x_test,y_test)"
   ]
  }
 ],
 "metadata": {
  "colab": {
   "collapsed_sections": [],
   "name": "S2_Ensambling And Random Forest (encoded_data).ipynb",
   "provenance": [
    {
     "file_id": "1e32TtWset5wahByj-77vWHLW5PPnjB1N",
     "timestamp": 1624215081602
    },
    {
     "file_id": "1KAjqtVBr0FiYmMrnhAsD8YFLueQMHZEQ",
     "timestamp": 1623611802892
    }
   ],
   "toc_visible": true
  },
  "kernelspec": {
   "display_name": "Python 3",
   "language": "python",
   "name": "python3"
  },
  "language_info": {
   "codemirror_mode": {
    "name": "ipython",
    "version": 3
   },
   "file_extension": ".py",
   "mimetype": "text/x-python",
   "name": "python",
   "nbconvert_exporter": "python",
   "pygments_lexer": "ipython3",
   "version": "3.8.5"
  }
 },
 "nbformat": 4,
 "nbformat_minor": 4
}
