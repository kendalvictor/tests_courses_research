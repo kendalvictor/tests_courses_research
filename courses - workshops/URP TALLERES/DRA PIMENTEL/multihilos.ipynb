{
 "cells": [
  {
   "cell_type": "code",
   "execution_count": 1,
   "metadata": {},
   "outputs": [],
   "source": [
    "import multiprocessing as mp"
   ]
  },
  {
   "cell_type": "code",
   "execution_count": null,
   "metadata": {},
   "outputs": [],
   "source": [
    "def print_cube(num):\n",
    "    print(\"Cube: {}\".format(num**3))\n",
    "    \n",
    "\n",
    "def print_square(num):\n",
    "    print(\"Square: {}\".format(num**2))"
   ]
  },
  {
   "cell_type": "code",
   "execution_count": null,
   "metadata": {},
   "outputs": [],
   "source": [
    "p1 = mp.Process(\n",
    "    target=print_square,\n",
    "    args=(10,)\n",
    ")\n",
    "\n",
    "p2 = mp.Process(\n",
    "    target=print_cube,\n",
    "    args=(10,)\n",
    ")\n",
    "\n",
    "p1.start()\n",
    "p2.start()\n",
    "\n",
    "p1.join()\n",
    "p2.join()"
   ]
  },
  {
   "cell_type": "code",
   "execution_count": null,
   "metadata": {},
   "outputs": [],
   "source": [
    "import os\n",
    "\n",
    "def worker1():\n",
    "    print(\"Worker 1 - Process running: {}\".format(os.getpid()))\n",
    "\n",
    "def worker2():\n",
    "    print(\"Worker 2 - Process running: {}\".format(os.getpid()))"
   ]
  },
  {
   "cell_type": "code",
   "execution_count": null,
   "metadata": {},
   "outputs": [],
   "source": [
    "worker1"
   ]
  },
  {
   "cell_type": "code",
   "execution_count": null,
   "metadata": {},
   "outputs": [],
   "source": [
    "p1 = mp.Process(target=worker1)\n",
    "p2 = mp.Process(target=worker2)\n",
    "\n",
    "p1.start()\n",
    "p2.start()\n",
    "\n",
    "print(\"Id process p1: {}\".format(p1.pid))\n",
    "print(\"Id process p2: {}\".format(p2.pid))\n",
    "\n",
    "p1.join()\n",
    "p2.join()\n",
    "\n",
    "print(\"Id process p1 is alive  {}\".format(p1.is_alive()))\n",
    "print(\"Id process p2 is aloie {}\".format(p2.is_alive()))"
   ]
  },
  {
   "cell_type": "code",
   "execution_count": null,
   "metadata": {},
   "outputs": [],
   "source": [
    "#result = []\n",
    "\n",
    "def square_lits(result, mylist):\n",
    "    #global result\n",
    "    \n",
    "    for idx, num in enumerate(mylist):\n",
    "        result[idx] = num ** 2\n",
    "    square_sum.value = sum(result)\n",
    "    \n",
    "    print(\"Pesult: {}\".format(result[:]))\n",
    "    print(\"SUm:  {}\".format(square_sum.value))\n",
    "    \n",
    "\n",
    "\n",
    "mylist = [1, 2 , 3, 4]\n",
    "result = mp.Array('i', 4)\n",
    "\n",
    "p1 = mp.Process(\n",
    "    target=square_lits,\n",
    "    args=(result, mylist,)\n",
    ")\n",
    "square_sum = mp.Value('i', 4)\n",
    "p1.start()\n",
    "\n",
    "#p1.join()"
   ]
  },
  {
   "cell_type": "code",
   "execution_count": null,
   "metadata": {},
   "outputs": [],
   "source": []
  },
  {
   "cell_type": "code",
   "execution_count": 7,
   "metadata": {},
   "outputs": [
    {
     "name": "stdout",
     "output_type": "stream",
     "text": [
      "added\n",
      "Name: Sam, Score: 19\n",
      "Name: Olga, Score: 17\n",
      "Name: Keevin, Score: 18\n",
      "Name: Jeff, Score: 8\n"
     ]
    }
   ],
   "source": [
    "def print_records(records):\n",
    "    for record in records:\n",
    "        print(\n",
    "            \"Name: {0}, Score: {1}\".format(record[0], record[1])\n",
    "        )\n",
    "\n",
    "def insert_records(record, records):\n",
    "    records.append(record)\n",
    "    print(\"added\")\n",
    "\n",
    "    \n",
    "with mp.Manager() as manager:\n",
    "    records = manager.list(\n",
    "        [('Sam', 19), ('Olga', 17), ('Keevin', 18)]\n",
    "    )\n",
    "    new_record = ('Jeff', 8)\n",
    "    \n",
    "    p1 = mp.Process(\n",
    "        target=insert_records,\n",
    "        args=(new_record, records)\n",
    "    )\n",
    "\n",
    "    p2 = mp.Process(\n",
    "        target=print_records,\n",
    "        args=(records,)\n",
    "    )\n",
    "    p1.start()\n",
    "    p2.start()\n",
    "\n",
    "    p1.join()\n",
    "    p2.join()"
   ]
  },
  {
   "cell_type": "code",
   "execution_count": null,
   "metadata": {},
   "outputs": [],
   "source": []
  },
  {
   "cell_type": "code",
   "execution_count": 13,
   "metadata": {},
   "outputs": [
    {
     "name": "stdout",
     "output_type": "stream",
     "text": [
      "Email enviado: HOLA\n",
      "Mensaje rcibido: HOLA\n",
      "Email enviado: Hello\n",
      "Mensaje rcibido: Hello\n",
      "Mensaje rcibido: wolrd\n",
      "Email enviado: wolrd\n",
      "Email enviado: END\n",
      "cerrando p1\n",
      "cerrando p2\n"
     ]
    }
   ],
   "source": [
    "def sender(conn, msgs):\n",
    "    for msg in msgs:\n",
    "        conn.send(msg)\n",
    "        print(\n",
    "            \"Email enviado: {}\".format(msg)\n",
    "        )\n",
    "    #conn.closed()\n",
    "\n",
    "def receiver(conn):\n",
    "    while 1:\n",
    "        msg = conn.recv()\n",
    "        if msg == 'END':\n",
    "            break\n",
    "        \n",
    "        print(\"Mensaje rcibido: {}\".format(msg))\n",
    "\n",
    "        \n",
    "with mp.Manager() as manager:\n",
    "    \n",
    "    msgs = [\"HOLA\", \"Hello\", \"wolrd\", 'END']\n",
    "    \n",
    "    parent_conn, child_conn = mp.Pipe()\n",
    "    \n",
    "    p1 = mp.Process(\n",
    "        target=sender,\n",
    "        args=(parent_conn, msgs)\n",
    "    )\n",
    "\n",
    "    p2 = mp.Process(\n",
    "        target=receiver,\n",
    "        args=(child_conn,)\n",
    "    )\n",
    "    p1.start()\n",
    "    p2.start()\n",
    "\n",
    "    p1.join()\n",
    "    p2.join()\n",
    "    \n",
    "    if not p1.is_alive():\n",
    "        print(\"cerrando p1\")\n",
    "        parent_conn.close()\n",
    "        \n",
    "    if not p2.is_alive():\n",
    "        print(\"cerrando p2\")\n",
    "        child_conn.close()"
   ]
  },
  {
   "cell_type": "code",
   "execution_count": null,
   "metadata": {},
   "outputs": [],
   "source": []
  }
 ],
 "metadata": {
  "kernelspec": {
   "display_name": "Python 3",
   "language": "python",
   "name": "python3"
  },
  "language_info": {
   "codemirror_mode": {
    "name": "ipython",
    "version": 3
   },
   "file_extension": ".py",
   "mimetype": "text/x-python",
   "name": "python",
   "nbconvert_exporter": "python",
   "pygments_lexer": "ipython3",
   "version": "3.7.6"
  }
 },
 "nbformat": 4,
 "nbformat_minor": 4
}
