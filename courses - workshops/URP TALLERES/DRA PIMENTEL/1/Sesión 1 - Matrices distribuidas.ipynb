{
 "cells": [
  {
   "cell_type": "markdown",
   "metadata": {},
   "source": [
    "# CURSO MATRICES DISTRIBUIDAS 2021"
   ]
  },
  {
   "cell_type": "markdown",
   "metadata": {},
   "source": [
    "# Sesión 1 - Fecha: 13 de Junio 2021\n",
    "## Inversa de una matriz para resolver sistemas de ecuaciones "
   ]
  },
  {
   "cell_type": "code",
   "execution_count": 4,
   "metadata": {},
   "outputs": [
    {
     "name": "stdout",
     "output_type": "stream",
     "text": [
      "Solución: \n",
      "  [[300.]\n",
      " [200.]]\n"
     ]
    }
   ],
   "source": [
    "import numpy as np\n",
    "from scipy import linalg\n",
    "\n",
    "A = np.matrix([[1,1],[42,30]])\n",
    "b = np.matrix([[500],[18600]])\n",
    "\n",
    "print(\"Solución: \\n \", linalg.inv(A)*b)"
   ]
  },
  {
   "cell_type": "markdown",
   "metadata": {},
   "source": [
    "## Cadenas de Markov"
   ]
  },
  {
   "cell_type": "code",
   "execution_count": 9,
   "metadata": {},
   "outputs": [
    {
     "name": "stdout",
     "output_type": "stream",
     "text": [
      "[[0.5  0.1  0.1  0.05 0.2 ]\n",
      " [0.2  0.3  0.2  0.15 0.1 ]\n",
      " [0.15 0.2  0.3  0.3  0.1 ]\n",
      " [0.1  0.3  0.2  0.4  0.1 ]\n",
      " [0.05 0.1  0.2  0.1  0.5 ]]\n",
      "[[17.89996204]\n",
      " [18.86929887]\n",
      " [21.67034545]\n",
      " [22.77249271]\n",
      " [18.78790093]]\n",
      "[[1073.99772234]\n",
      " [1132.15793223]\n",
      " [1300.22072697]\n",
      " [1366.3495628 ]\n",
      " [1127.27405567]]\n",
      "[[11.]\n",
      " [11.]\n",
      " [13.]\n",
      " [14.]\n",
      " [11.]]\n"
     ]
    }
   ],
   "source": [
    "import numpy as np\n",
    "\n",
    "def multiplicaN(A,B,n):\n",
    "    for i in range(n):\n",
    "        C = A*B\n",
    "        B = C\n",
    "    return C\n",
    "\n",
    "\n",
    "if __name__ == '__main__':\n",
    "    A = np.matrix([[0.5, 0.1, 0.1, 0.05, 0.2],[0.2, 0.3, 0.2, 0.15, 0.1],\n",
    "                [0.15, 0.2, 0.3, 0.3, 0.1],[0.1, 0.3, 0.2, 0.4, 0.1],\n",
    "                [0.05, 0.1, 0.2, 0.1, 0.5]])\n",
    "    b = np.matrix([[10],[30],[40],[10],[10]])\n",
    "    x = multiplicaN(A,b,10)\n",
    "    print(A)\n",
    "    print(x)\n",
    "    print(6000/100*x)\n",
    "    print(np.round(6000/10000*x))"
   ]
  },
  {
   "cell_type": "markdown",
   "metadata": {},
   "source": [
    "## Codificación de mensajes con la Inversa"
   ]
  },
  {
   "cell_type": "code",
   "execution_count": 1,
   "metadata": {},
   "outputs": [
    {
     "name": "stdout",
     "output_type": "stream",
     "text": [
      "[[128 188 179 114 125  51]\n",
      " [ 70 104 103  66  63  27]\n",
      " [ 64  94  98  82  24  28]]\n",
      "[[-1.00000000e+00  2.00000000e+00  1.11022302e-16]\n",
      " [-5.00000000e-01  1.50000000e+00 -5.00000000e-01]\n",
      " [ 3.50000000e+00 -7.50000000e+00  1.50000000e+00]]\n",
      "[[12. 20. 27. 18.  1.  3.]\n",
      " [ 9. 15. 16.  1. 20.  1.]\n",
      " [19. 19.  1. 27.  1. 18.]]\n",
      "['L', 'I', 'S', 'T', 'O', 'S', '*', 'P', 'A', 'R', 'A', '*', 'A', 'T', 'A', 'C', 'A', 'R']\n"
     ]
    }
   ],
   "source": [
    "from scipy import linalg\n",
    "import numpy as np\n",
    "\n",
    "## ------------ Codificar mensaje ------------\n",
    "def codificar(mensaje, m_codificadora):\n",
    "    return(m_codificadora*mensaje)\n",
    "\n",
    "## ------------ Decodificar mensaje ------------\n",
    "def decodificar(mensaje,m_codificadora):\n",
    "    m_inversa = linalg.inv(m_codificadora)\n",
    "    print(m_inversa)\n",
    "    return (m_inversa*mensaje)\n",
    "\n",
    "## ------------ Mensaje a Texto ------------\n",
    "def mensaje_texto (mensaje,n,m):\n",
    "    texto = []\n",
    "    for i in range(m):\n",
    "        for j in range(n):\n",
    "            if (int(round(mensaje[j,i]))+64)>90:\n",
    "                texto.append('*')\n",
    "            else:\n",
    "                texto.append(chr(int(round(mensaje[j,i]))+64))\n",
    "            \n",
    "    print(texto)\n",
    "            \n",
    "matriz_codif = np.matrix([[3,6,2],[2,3,1],[3,1,1]])\n",
    "\n",
    "m = np.matrix([[12, 20, 27, 18, 1, 3],[\n",
    "    9, 15, 16, 1, 20, 1],[19, 19, 1, 27, 1, 18]])\n",
    "\n",
    "m_codificado = codificar(m,matriz_codif)\n",
    "print(m_codificado)\n",
    "m_decodificado = decodificar(m_codificado,matriz_codif)\n",
    "print(m_decodificado)\n",
    "mensaje_texto(m_decodificado,3,6)"
   ]
  },
  {
   "cell_type": "code",
   "execution_count": null,
   "metadata": {},
   "outputs": [],
   "source": []
  }
 ],
 "metadata": {
  "kernelspec": {
   "display_name": "Python 3",
   "language": "python",
   "name": "python3"
  },
  "language_info": {
   "codemirror_mode": {
    "name": "ipython",
    "version": 3
   },
   "file_extension": ".py",
   "mimetype": "text/x-python",
   "name": "python",
   "nbconvert_exporter": "python",
   "pygments_lexer": "ipython3",
   "version": "3.7.6"
  }
 },
 "nbformat": 4,
 "nbformat_minor": 4
}
