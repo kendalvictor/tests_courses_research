{
 "cells": [
  {
   "cell_type": "markdown",
   "metadata": {},
   "source": [
    "# CURSO MATRICES DISTRIBUIDAS"
   ]
  },
  {
   "cell_type": "markdown",
   "metadata": {},
   "source": [
    "## Sesión 2 - Fecha: 20 de junio 2021"
   ]
  },
  {
   "cell_type": "markdown",
   "metadata": {},
   "source": [
    "# Cifrado por transposición"
   ]
  },
  {
   "cell_type": "code",
   "execution_count": 4,
   "metadata": {},
   "outputs": [
    {
     "name": "stdout",
     "output_type": "stream",
     "text": [
      "Mensaje cifrado: \n",
      " sadiubirtsid secirtaM\n"
     ]
    }
   ],
   "source": [
    "mensaje = 'Matrices distribuidas'\n",
    "transpuesto = ''\n",
    "i = len(mensaje) - 1\n",
    "\n",
    "while i >= 0:\n",
    "    transpuesto = transpuesto + mensaje[i]\n",
    "    i = i - 1\n",
    "print (\"Mensaje cifrado: \\n\", transpuesto)    \n"
   ]
  },
  {
   "cell_type": "markdown",
   "metadata": {},
   "source": [
    "# Cifrado Cesar"
   ]
  },
  {
   "cell_type": "code",
   "execution_count": 8,
   "metadata": {},
   "outputs": [
    {
     "name": "stdout",
     "output_type": "stream",
     "text": [
      "Mensaje cifrado: \n",
      " EbubTdjfodjf\n"
     ]
    }
   ],
   "source": [
    "def cifradoCesar(mensaje,recorrido):\n",
    "    resultado = \"\"\n",
    "    for i in range(len(mensaje)):\n",
    "        caracter = mensaje[i]\n",
    "        if (caracter.isupper()):\n",
    "            resultado += chr((ord(caracter)+ recorrido - 65) % 26 + 65)\n",
    "        else:\n",
    "            resultado += chr((ord(caracter)+ recorrido - 97) % 26 + 97)\n",
    "    return resultado\n",
    "\n",
    "\n",
    "m = \"DataSciencie\"\n",
    "r = 1\n",
    "print(\"Mensaje cifrado: \\n\", cifradoCesar(m,r))"
   ]
  },
  {
   "cell_type": "markdown",
   "metadata": {},
   "source": [
    "# Cifrado Vignere"
   ]
  },
  {
   "cell_type": "code",
   "execution_count": 10,
   "metadata": {},
   "outputs": [
    {
     "name": "stdout",
     "output_type": "stream",
     "text": [
      "Encrypted message:\n",
      "BISDMPBHBAH\n",
      "\n"
     ]
    }
   ],
   "source": [
    "LETTERS = 'ABCDEFGHIJKLMNOPQRSTUVWXYZ'\n",
    "def main():\n",
    "   myMessage = \"MATEMATICAS\"\n",
    "   myKey = 'PIZZA'\n",
    "   myMode = 'encrypt'\n",
    "   \n",
    "   if myMode == 'encrypt':\n",
    "       translated = encryptMessage(myKey, myMessage)\n",
    "   elif myMode == 'decrypt':\n",
    "       translated = decryptMessage(myKey, myMessage)\n",
    "   \n",
    "   print('%sed message:' % (myMode.title()))\n",
    "   print(translated)\n",
    "   print()\n",
    "\n",
    "def encryptMessage(key, message):\n",
    "    return translateMessage(key, message, 'encrypt')\n",
    "\n",
    "def decryptMessage(key, message):\n",
    "    return translateMessage(key, message, 'decrypt')\n",
    "\n",
    "def translateMessage(key, message, mode):\n",
    "    translated = [] # stores the encrypted/decrypted message string\n",
    "    keyIndex = 0\n",
    "    key = key.upper()\n",
    "   \n",
    "    for symbol in message:\n",
    "        num = LETTERS.find(symbol.upper())\n",
    "        if num != -1:\n",
    "            if mode == 'encrypt':\n",
    "                num += LETTERS.find(key[keyIndex])     \n",
    "    \t\t\n",
    "            #elif mode == 'decrypt':\n",
    "                #num -= LETTERS.find(key[keyIndex])\n",
    "                num %= len(LETTERS)\n",
    "            if symbol.isupper():\n",
    "                translated.append(LETTERS[num])\n",
    "            elif symbol.islower():\n",
    "                translated.append(LETTERS[num].lower())\n",
    "            keyIndex += 1\n",
    "            \n",
    "            if keyIndex == len(key):\n",
    "                keyIndex = 0\n",
    "        else:\n",
    "             translated.append(symbol)\n",
    "    return ''.join(translated)\n",
    "\n",
    "if __name__ == '__main__':\n",
    "   main()"
   ]
  },
  {
   "cell_type": "markdown",
   "metadata": {},
   "source": [
    "# MATRICES DISPERSAS"
   ]
  },
  {
   "cell_type": "markdown",
   "metadata": {},
   "source": [
    "# Almacenamiento por coordenadas"
   ]
  },
  {
   "cell_type": "code",
   "execution_count": 14,
   "metadata": {},
   "outputs": [
    {
     "name": "stdout",
     "output_type": "stream",
     "text": [
      "[[3 0 4]\n",
      " [0 2 0]\n",
      " [0 0 1]]\n",
      "[5 2 3]\n",
      "[3, 4, 2, 1] [0, 0, 1, 2] [0, 2, 1, 2]\n",
      "[27.  4.  3.]\n"
     ]
    }
   ],
   "source": [
    "import numpy as np\n",
    "\n",
    "def coordenadas(matriz):\n",
    "    # V = valores, I = renglones, J = Columnas\n",
    "    V = []\n",
    "    I = []\n",
    "    J = []\n",
    "    \n",
    "    for i in range(len(matriz)):\n",
    "        for j in range(len(matriz)):\n",
    "            if (matriz[i,j]!=0):\n",
    "                V.append(matriz[i,j])\n",
    "                I.append(i)\n",
    "                J.append(j)\n",
    "    return(V,I,J)\n",
    "\n",
    "def multiplicaMV(V,I,J,b):\n",
    "    r = np.zeros(len(b))\n",
    "    aux = I[0]\n",
    "    suma = 0 \n",
    "    for i in range(len(I)):\n",
    "        if (I[i] == aux):\n",
    "            suma += V[i]*b[J[i]]\n",
    "        else:\n",
    "            r[I[i-1]]=suma\n",
    "            suma =0\n",
    "            suma += V[i]*b[J[i]]\n",
    "        aux = I[i]\n",
    "    r[I[-1]]=suma\n",
    "    return r\n",
    "                   \n",
    "\n",
    "m = np.matrix('3 0 4; 0 2 0; 0 0 1')\n",
    "v,i,j = coordenadas(m)\n",
    "b = np.array([5,2,3])\n",
    "print(m)\n",
    "print(b)\n",
    "print(v,i,j)\n",
    "print(multiplicaMV(v,i,j,b))"
   ]
  },
  {
   "cell_type": "code",
   "execution_count": null,
   "metadata": {},
   "outputs": [],
   "source": []
  }
 ],
 "metadata": {
  "kernelspec": {
   "display_name": "Python 3",
   "language": "python",
   "name": "python3"
  },
  "language_info": {
   "codemirror_mode": {
    "name": "ipython",
    "version": 3
   },
   "file_extension": ".py",
   "mimetype": "text/x-python",
   "name": "python",
   "nbconvert_exporter": "python",
   "pygments_lexer": "ipython3",
   "version": "3.7.6"
  }
 },
 "nbformat": 4,
 "nbformat_minor": 4
}
