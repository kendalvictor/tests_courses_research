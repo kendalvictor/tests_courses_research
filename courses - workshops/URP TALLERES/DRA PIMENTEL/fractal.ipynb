{
 "cells": [
  {
   "cell_type": "code",
   "execution_count": null,
   "metadata": {},
   "outputs": [],
   "source": [
    "import numpy as np\n",
    "from itertools import product\n",
    "from matplotlib import cm\n",
    "import pylab as plt"
   ]
  },
  {
   "cell_type": "code",
   "execution_count": null,
   "metadata": {},
   "outputs": [],
   "source": [
    "#help(plt.imshow)"
   ]
  },
  {
   "cell_type": "code",
   "execution_count": null,
   "metadata": {},
   "outputs": [],
   "source": [
    "def fractal_iteration(z, c, maxiter=256):\n",
    "    for n in range(maxiter):\n",
    "        if abs(z) > 2:\n",
    "            return n\n",
    "        z = z**2 + c\n",
    "        \n",
    "    return n\n",
    "\n",
    "def fractal_set(w, h, c, maxiter=256):\n",
    "    m = np.empty((h,w), dtype=np.uint8)\n",
    "    \n",
    "    for j, i in product(range(h), range(w)):\n",
    "        z = (i - w/2) / (h/2) + (j - h/2) /(h/2)*1j\n",
    "        m[j,i] = fractal_iteration(z, c, maxiter=maxiter)\n",
    "    return m\n",
    "\n",
    "def fractal_plot(w, h, cre, cim, cmap):\n",
    "    m = fractal_set(w, h, cre + cim*1j)\n",
    "    colors = getattr(cm, cmap)\n",
    "    plt.imshow(m, cmap=colors)\n",
    "    plt.gca().axis('off')\n",
    "    plt.show()\n",
    "    plt.figure(figsize=(10, 5))\n",
    "\n",
    "fractal_plot(800, 600, -0.8, 0.156, 'inferno')"
   ]
  },
  {
   "cell_type": "code",
   "execution_count": null,
   "metadata": {},
   "outputs": [],
   "source": [
    "#fractal_plot(800, 600, -0.8, 0.156, 'magma')"
   ]
  },
  {
   "cell_type": "code",
   "execution_count": null,
   "metadata": {},
   "outputs": [],
   "source": [
    "#fractal_plot(800, 600, -0.8, 0.156, 'plasma')"
   ]
  },
  {
   "cell_type": "code",
   "execution_count": null,
   "metadata": {},
   "outputs": [],
   "source": [
    "#fractal_plot(800, 600, -0.8, 0.156, 'viridis')"
   ]
  },
  {
   "cell_type": "code",
   "execution_count": null,
   "metadata": {},
   "outputs": [],
   "source": [
    "#fractal_plot(800, 600, -0.8, 0.156, 'cividis')"
   ]
  },
  {
   "cell_type": "code",
   "execution_count": null,
   "metadata": {},
   "outputs": [],
   "source": []
  }
 ],
 "metadata": {
  "kernelspec": {
   "display_name": "Python 3",
   "language": "python",
   "name": "python3"
  },
  "language_info": {
   "codemirror_mode": {
    "name": "ipython",
    "version": 3
   },
   "file_extension": ".py",
   "mimetype": "text/x-python",
   "name": "python",
   "nbconvert_exporter": "python",
   "pygments_lexer": "ipython3",
   "version": "3.7.6"
  }
 },
 "nbformat": 4,
 "nbformat_minor": 4
}
