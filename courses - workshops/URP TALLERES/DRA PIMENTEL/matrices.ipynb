{
 "cells": [
  {
   "cell_type": "code",
   "execution_count": 1,
   "metadata": {},
   "outputs": [],
   "source": [
    "import numpy as np\n",
    "from scipy import linalg"
   ]
  },
  {
   "cell_type": "code",
   "execution_count": null,
   "metadata": {},
   "outputs": [],
   "source": []
  },
  {
   "cell_type": "markdown",
   "metadata": {},
   "source": [
    "En una feria se cobra 8 dolares a los alumnos y 4 doalres a los niños.\n",
    "Si el sabado hubo 1000 asistentes ganando 6400 y el domingo hubo 800 asisntentes ganando 4800\n",
    "\n",
    "¿Cuantos adultos y niños llegaron durante el fin de semana?"
   ]
  },
  {
   "cell_type": "code",
   "execution_count": 2,
   "metadata": {},
   "outputs": [
    {
     "data": {
      "text/plain": [
       "matrix([[600.],\n",
       "        [400.]])"
      ]
     },
     "execution_count": 2,
     "metadata": {},
     "output_type": "execute_result"
    }
   ],
   "source": [
    "pc = np.matrix([\n",
    "    [8, 4],  \n",
    "    [1, 1]\n",
    "])\n",
    "\n",
    "h = np.matrix([\n",
    "    [6400],\n",
    "    [1000]\n",
    "])\n",
    "linalg.inv(pc)*h"
   ]
  },
  {
   "cell_type": "code",
   "execution_count": 3,
   "metadata": {},
   "outputs": [
    {
     "data": {
      "text/plain": [
       "matrix([[400.],\n",
       "        [400.]])"
      ]
     },
     "execution_count": 3,
     "metadata": {},
     "output_type": "execute_result"
    }
   ],
   "source": [
    "pc = np.matrix([\n",
    "    [8, 4],  \n",
    "    [1, 1]\n",
    "])\n",
    "\n",
    "h = np.matrix([\n",
    "    [4800],\n",
    "    [800]\n",
    "])\n",
    "linalg.inv(pc)*h"
   ]
  },
  {
   "cell_type": "code",
   "execution_count": 4,
   "metadata": {},
   "outputs": [
    {
     "name": "stdout",
     "output_type": "stream",
     "text": [
      "adultos:  1000\n",
      "niños:  800\n"
     ]
    }
   ],
   "source": [
    "print('adultos: ', 600 + 400)\n",
    "print('niños: ', 400 + 400)"
   ]
  },
  {
   "cell_type": "code",
   "execution_count": 5,
   "metadata": {},
   "outputs": [],
   "source": [
    "mensaje = [72, 39, 35, 245, 127, 82, 68, 36, 22, 188, 108, 102, 136, 70, 36]\n",
    "\n",
    "codificadora = np.matrix([\n",
    "    [3, 6, 2],  \n",
    "    [2, 3, 1],\n",
    "    [3, 1, 1]\n",
    "])"
   ]
  },
  {
   "cell_type": "code",
   "execution_count": 7,
   "metadata": {},
   "outputs": [
    {
     "name": "stdout",
     "output_type": "stream",
     "text": [
      "3\n",
      "[[ 72 245  68 188 136]\n",
      " [ 39 127  36 108  70]\n",
      " [ 35  82  22 102  36]]\n",
      "<class 'numpy.matrix'>\n",
      "[[ 6.  9.  4. 28.  4.]\n",
      " [ 5. 27.  9. 17. 19.]\n",
      " [12. 28.  1.  1.  5.]]\n"
     ]
    }
   ],
   "source": [
    "def decodificar(mensaje, matriz):\n",
    "    inversa = linalg.inv(matriz)\n",
    "    \n",
    "    n_filas = inversa.shape[0]\n",
    "    \n",
    "    formateo = np.matrix(\n",
    "        np.array(mensaje).reshape(5, 3)\n",
    "    ).T\n",
    "    \n",
    "    \n",
    "    \n",
    "    print(inversa.shape[0])\n",
    "    print(formateo)\n",
    "    print(type(formateo))\n",
    "    print(inversa*formateo)\n",
    "\n",
    "decodificar(mensaje, codificadora)"
   ]
  },
  {
   "cell_type": "code",
   "execution_count": null,
   "metadata": {},
   "outputs": [],
   "source": []
  }
 ],
 "metadata": {
  "kernelspec": {
   "display_name": "Python 3",
   "language": "python",
   "name": "python3"
  },
  "language_info": {
   "codemirror_mode": {
    "name": "ipython",
    "version": 3
   },
   "file_extension": ".py",
   "mimetype": "text/x-python",
   "name": "python",
   "nbconvert_exporter": "python",
   "pygments_lexer": "ipython3",
   "version": "3.7.6"
  }
 },
 "nbformat": 4,
 "nbformat_minor": 4
}
