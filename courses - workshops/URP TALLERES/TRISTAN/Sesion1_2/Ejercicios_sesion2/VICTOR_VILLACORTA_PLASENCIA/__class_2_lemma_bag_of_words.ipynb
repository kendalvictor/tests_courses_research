{
 "cells": [
  {
   "cell_type": "code",
   "execution_count": 1,
   "id": "bb3b0bd7-0992-4785-b894-e07f084a4cc7",
   "metadata": {},
   "outputs": [],
   "source": [
    "import os\n",
    "import re\n",
    "import time\n",
    "from pathlib import Path\n",
    "import shutil\n",
    "import glob\n",
    "import string\n",
    "import unicodedata\n",
    "from datetime import datetime, timedelta\n",
    "\n",
    "import pandas as pd\n",
    "from selenium import webdriver\n",
    "from selenium.webdriver.chrome.options import Options\n",
    "from selenium.webdriver.support.select import Select\n",
    "from sqlalchemy import create_engine\n",
    "from selenium.webdriver.support.ui import WebDriverWait\n",
    "from selenium.webdriver.support import expected_conditions as EC\n",
    "from selenium.webdriver.common.by import By\n",
    "\n",
    "from unicodedata import normalize, category"
   ]
  },
  {
   "cell_type": "code",
   "execution_count": 2,
   "id": "3d8af48c-8833-4cb0-bfbc-c06509c02d34",
   "metadata": {},
   "outputs": [],
   "source": [
    "import nltk\n",
    "from nltk.corpus import stopwords\n",
    "from nltk.stem.snowball import SnowballStemmer\n",
    "\n",
    "stopset = set(stopwords.words(\"spanish\"))"
   ]
  },
  {
   "cell_type": "code",
   "execution_count": 3,
   "id": "64668385-0bd1-48f0-a2f9-c90b73b41935",
   "metadata": {},
   "outputs": [
    {
     "name": "stdout",
     "output_type": "stream",
     "text": [
      "{'algo', 'sentid', 'tenida', 'fuiste', 'tenías', 'sentidos', 'tuvieseis', 'seríamos', 'están', 'tenidas', 'han', 'hubieran', 'antes', 'tuyo', 'mucho', 'tenéis', 'hubiésemos', 'estad', 'lo', 'me', 'hemos', 'hubiera', 'serían', 'también', 'tenga', 'sentidas', 'estéis', 'los', 'serías', 'cual', 'está', 'estás', 'estuvieses', 'otro', 'fue', 'fueses', 'estuvierais', 'nuestro', 'nos', 'tú', 'fuéramos', 'tendrán', 'suya', 'fuésemos', 'estaríais', 'tendremos', 'esas', 'estoy', 'eras', 'nosotros', 'tuviera', 'estuvieron', 'habríamos', 'hay', 'estén', 'era', 'tuve', 'habrás', 'estamos', 'tienes', 'sentida', 'habiendo', 'vuestros', 'estaría', 'os', 'tuvimos', 'ya', 'habrían', 'estando', 'las', 'tuvierais', 'le', 'pero', 'habíamos', 'esta', 'suyos', 'tuya', 'habida', 'tuvieses', 'estará', 'habíais', 'estabas', 'estaremos', 'sin', 'seremos', 'no', 'se', 'estaréis', 'cuando', 'tenemos', 'has', 'eres', 'tengan', 'más', 'otra', 'nuestras', 'siente', 'hubieron', 'estos', 'sintiendo', 'habrías', 'te', 'estados', 'somos', 'tuvieron', 'vuestras', 'donde', 'tendrían', 'durante', 'habrán', 'míos', 'seríais', 'mis', 'tendrá', 'hubimos', 'ellos', 'vuestra', 'tuvo', 'otros', 'vosotros', 'hayamos', 'tu', 'ha', 'estarás', 'tienen', 'estuvimos', 'fueran', 'hubieseis', 'vuestro', 'ni', 'tened', 'fueron', 'esos', 'mi', 'habidos', 'hube', 'estarían', 'sentido', 'e', 'estaba', 'o', 'fuesen', 'mía', 'estaríamos', 'estaban', 'teniendo', 'el', 'qué', 'suyas', 'hubiesen', 'tuyos', 'tendrás', 'erais', 'habidas', 'en', 'ese', 'nuestros', 'un', 'fueseis', 'tiene', 'hubiéramos', 'estábamos', 'fui', 'tuviese', 'tendríais', 'del', 'desde', 'seas', 'nosotras', 'habríais', 'la', 'tengáis', 'hubieras', 'vosotras', 'hubieses', 'estado', 'teníamos', 'hubisteis', 'esa', 'habían', 'habido', 'habrá', 'yo', 'sean', 'porque', 'tendríamos', 'ellas', 'seréis', 'como', 'serán', 'tuyas', 'eso', 'algunos', 'tendría', 'estar', 'ti', 'tengamos', 'es', 'tanto', 'esto', 'tengo', 'con', 'habías', 'quienes', 'éramos', 'tendréis', 'seáis', 'tuviesen', 'habré', 'estuviera', 'estés', 'a', 'tenía', 'tuvieran', 'todo', 'había', 'estada', 'habéis', 'de', 'este', 'su', 'habría', 'que', 'hayan', 'fuese', 'tuvisteis', 'serás', 'tenido', 'sois', 'soy', 'hasta', 'tuviéramos', 'tuviste', 'fuera', 'estuviésemos', 'hubiste', 'algunas', 'estadas', 'esté', 'seamos', 'habréis', 'estuvisteis', 'hubiese', 'mío', 'mías', 'estuviéramos', 'hubo', 'será', 'estuvieseis', 'ella', 'nuestra', 'estuvo', 'estuviste', 'muchos', 'tenían', 'estarán', 'otras', 'estuviese', 'fueras', 'entre', 'estuviesen', 'unos', 'he', 'estaré', 'y', 'muy', 'sería', 'fuimos', 'tuviésemos', 'tuvieras', 'al', 'estuve', 'hubierais', 'tenidos', 'teníais', 'ante', 'tengas', 'fuisteis', 'estarías', 'una', 'mí', 'estas', 'tendrías', 'uno', 'habremos', 'suyo', 'tus', 'sea', 'les', 'poco', 'sí', 'sobre', 'contra', 'tendré', 'sus', 'estuvieras', 'estáis', 'eran', 'estabais', 'haya', 'hayas', 'para', 'seré', 'fuerais', 'estemos', 'quien', 'todos', 'nada', 'hayáis', 'por', 'estuvieran', 'él', 'son'}\n"
     ]
    }
   ],
   "source": [
    "print(stopset)"
   ]
  },
  {
   "cell_type": "code",
   "execution_count": 4,
   "id": "548343a2-4f45-4d46-897b-28bffd663667",
   "metadata": {},
   "outputs": [
    {
     "data": {
      "text/plain": [
       "'12092021'"
      ]
     },
     "execution_count": 4,
     "metadata": {},
     "output_type": "execute_result"
    }
   ],
   "source": [
    "hoy = datetime.today()\n",
    "hoy_format = hoy.strftime('%d%m%Y') \n",
    "hoy_format"
   ]
  },
  {
   "cell_type": "code",
   "execution_count": 5,
   "id": "c391b396-bb94-4f53-9929-1a281065c0ba",
   "metadata": {},
   "outputs": [
    {
     "name": "stdout",
     "output_type": "stream",
     "text": [
      "['news', '12092021', 'original', 'bono-350-quienes-podran-cobrarlo-desde-el-13-de-septiembre-y-de-que-forma-bono-yanapay-peru-coronavirus-covi.txt']\n"
     ]
    }
   ],
   "source": [
    "for file in glob.iglob('news/{}/**/*.txt'.format(hoy_format), recursive=True):\n",
    "    listado = file.replace('/', '\\\\').split('\\\\')\n",
    "    \n",
    "    if 'descartado' in listado:\n",
    "        continue\n",
    "        \n",
    "    print(listado)\n",
    "    with open(file, encoding='UTF-8') as f:\n",
    "        new = f.read()\n",
    "        \n",
    "    break"
   ]
  },
  {
   "cell_type": "code",
   "execution_count": 6,
   "id": "71aa2b13-2be8-4308-9598-e7d8bc47d808",
   "metadata": {},
   "outputs": [],
   "source": [
    "from unicodedata import normalize, category\n",
    "\n",
    "def clean_text_1(_text):\n",
    "    \"\"\"\n",
    "        Ll : minusculas\n",
    "        Zs : espacios\n",
    "        Lu : mayusculas\n",
    "        Nd : numeros\n",
    "        Mn : tildes\n",
    "        Ps : abre dieresis, .....\n",
    "        Pe : cierra dieresis, .......\n",
    "        Pi : abre parentesis, .....\n",
    "        Po : cierra parentesis, punto, coma, .....        \n",
    "        ...\n",
    "    \"\"\"\n",
    "    selects_characters = ['Ll', 'Zs', 'Lu']\n",
    "    \n",
    "    return ''.join([_.lower() for _ in normalize('NFD', _text.replace(' ', 'ZZZ')) if category(_) in selects_characters])"
   ]
  },
  {
   "cell_type": "code",
   "execution_count": null,
   "id": "4e780950-f54a-4d72-a274-a619825e8b51",
   "metadata": {},
   "outputs": [],
   "source": []
  },
  {
   "cell_type": "markdown",
   "id": "df0e6b95-71f5-4cd0-bc2f-eaea2ff9e6e0",
   "metadata": {},
   "source": [
    "### SIN QUITAR STOPWORDS"
   ]
  },
  {
   "cell_type": "code",
   "execution_count": 7,
   "id": "6aa23d5a-d7db-466a-84dc-c12ff406a018",
   "metadata": {},
   "outputs": [
    {
     "name": "stdout",
     "output_type": "stream",
     "text": [
      "['desde', 'la', 'tercera', 'semana', 'de', 'setiembre', 'se', 'empezara', 'a', 'entregar', 'el', 'bono', 'soles']\n",
      "----------------------------------------------------------------------------------------------------\n",
      "['este', 'subsidio', 'tambien', 'conocido', 'como', 'yanapay', 'peru', 'tiene', 'como', 'objetivo', 'ser', 'una', 'ayuda', 'economica', 'para', 'aliviar', 'a', 'los', 'sectores', 'mas', 'vulnerables', 'ante', 'la', 'pandemia', 'de', 'coronavirus']\n",
      "----------------------------------------------------------------------------------------------------\n",
      "['este', 'bono', 'es', 'una', 'inyeccion', 'economica', 'universal', 'individualizada', 'que', 'a', 'diferencia', 'de', 'otros', 'subsidios', 'que', 'el', 'estado', 'ya', 'ha', 'venido', 'entregando', 'tiene', 'como', 'principal', 'caracteristica', 'que', 'sera', 'pagado', 'de', 'forma', 'personal', 'y', 'no', 'familiar']\n",
      "----------------------------------------------------------------------------------------------------\n",
      "['con', 'este', 'subsidio', 'mas', 'de', 'millones', 'de', 'personas', 'seran', 'beneficiadas', 'en', 'todo', 'el', 'peru']\n",
      "----------------------------------------------------------------------------------------------------\n",
      "['el', 'bono', 'se', 'otorgara', 'a', 'personas', 'mayores', 'de', 'edad', 'cuyos', 'ingresos', 'no', 'superen', 'los', 's', 'mensuales', 'y', 'que', 'formen', 'parte', 'de', 'hogares', 'en', 'condicion', 'de', 'pobreza', 'pobreza', 'extrema', 'y', 'vulnerabilidad', 'de', 'nuestro', 'pais']\n",
      "----------------------------------------------------------------------------------------------------\n",
      "['tambien', 'lo', 'recibiran', 'los', 'beneficiarios', 'de', 'los', 'programas', 'juntos', 'pension', 'y', 'contigo']\n",
      "----------------------------------------------------------------------------------------------------\n",
      "['para', 'ser', 'beneficiario', 'del', 'bono', 'hay', 'que', 'ser', 'mayor', 'de', 'edad', 'y', 'pertenecer', 'a', 'alguno', 'de', 'estos', 'grupos', 'seran', 'cuatro', 'los', 'grupos', 'beneficiarios', 'y', 'cada', 'uno', 'de', 'estos', 'tendra', 'una', 'fecha', 'a', 'partir', 'de', 'la', 'cual', 'podran', 'cobrar', 'el', 'bono']\n",
      "----------------------------------------------------------------------------------------------------\n",
      "['se', 'ha', 'determinado', 'que', 'este', 'sera', 'el', 'cronograma', 'de', 'pagos', 'segun', 'el', 'grupo', 'cabe', 'resaltar', 'que', 'las', 'personas', 'que', 'pertenecen', 'al', 'grupo', 'podran', 'recibir', 'el', 'bono', 'mediante', 'por', 'su', 'parte', 'las', 'personas', 'que', 'son', 'del', 'grupo', 'recibiran', 'el', 'subsidio', 'a', 'traves', 'de', 'la', 'atencion', 'por', 'ventanilla', 'del', 'banco', 'de', 'la', 'nacion']\n",
      "----------------------------------------------------------------------------------------------------\n",
      "['tras', 'conocerse', 'los', 'grupos', 'y', 'fechas', 'en', 'las', 'que', 'el', 'bono', 'sera', 'entregado', 'el', 'gobierno', 'tambien', 'ha', 'dado', 'a', 'conocer', 'las', 'modalidades', 'de', 'pago', 'con', 'la', 'que', 'se', 'pagara']\n",
      "----------------------------------------------------------------------------------------------------\n",
      "['cabe', 'aclarar', 'que', 'esta', 'se', 'ajustara', 'al', 'grupo', 'en', 'el', 'que', 'el', 'ciudadano', 'se', 'encuentre']\n",
      "----------------------------------------------------------------------------------------------------\n",
      "['aun', 'esta', 'pendiente', 'la', 'publicacion', 'del', 'link', 'enlace', 'o', 'portal', 'web', 'para', 'consultar', 'si', 'podra', 'acceder', 'o', 'no', 'a', 'este', 'subsidio']\n",
      "----------------------------------------------------------------------------------------------------\n",
      "['en', 'los', 'proximos', 'dias', 'se', 'dara', 'a', 'conocer', 'la', 'direccion', 'del', 'sitio', 'web', 'en', 'el', 'que', 'los', 'ciudadanos', 'podran', 'hacer', 'la', 'consulta', 'respectiva']\n",
      "----------------------------------------------------------------------------------------------------\n",
      "['este', 'subsidio', 'monetario', 'individual', 'de', 'soles', 'podra', 'ser', 'cobrado', 'hasta', 'el', 'de', 'abril', 'del', 'ano']\n",
      "----------------------------------------------------------------------------------------------------\n",
      "['despues', 'de', 'ese', 'dia', 'el', 'banco', 'de', 'la', 'nacion', 'y', 'las', 'entidades', 'financieras', 'que', 'recibieron', 'los', 'recursos', 'para', 'repartir', 'el', 'apoyo', 'financiero', 'deberan', 'retornar', 'el', 'dinero', 'a', 'las', 'arcas', 'del', 'gobierno']\n",
      "----------------------------------------------------------------------------------------------------\n"
     ]
    }
   ],
   "source": [
    "tokenizacion = [\n",
    "    [clean_text_1(_) for _ in nltk.word_tokenize(sentence) if len(clean_text_1(_)) > 0] for sentence in nltk.sent_tokenize(new)\n",
    "]\n",
    "\n",
    "for oracion in tokenizacion:\n",
    "    print(oracion)\n",
    "    print(\"-\"*100)"
   ]
  },
  {
   "cell_type": "markdown",
   "id": "e9c49696-5e14-4579-ba9a-d6f70a5d41a7",
   "metadata": {},
   "source": [
    "### QUITANDO STOPWORDS"
   ]
  },
  {
   "cell_type": "code",
   "execution_count": 8,
   "id": "818aba68-7a32-4591-8b8d-e41106360da8",
   "metadata": {},
   "outputs": [
    {
     "name": "stdout",
     "output_type": "stream",
     "text": [
      "['algo', 'sentid', 'tenida', 'fuiste', 'tenias', 'sentidos', 'tuvieseis', 'seriamos', 'estan', 'tenidas', 'han', 'hubieran', 'antes', 'tuyo', 'mucho', 'teneis', 'hubiesemos', 'estad', 'lo', 'me', 'hemos', 'hubiera', 'serian', 'tambien', 'tenga', 'sentidas', 'esteis', 'los', 'serias', 'cual', 'esta', 'estas', 'estuvieses', 'otro', 'fue', 'fueses', 'estuvierais', 'nuestro', 'nos', 'tu', 'fueramos', 'tendran', 'suya', 'fuesemos', 'estariais', 'tendremos', 'esas', 'estoy', 'eras', 'nosotros', 'tuviera', 'estuvieron', 'habriamos', 'hay', 'esten', 'era', 'tuve', 'habras', 'estamos', 'tienes', 'sentida', 'habiendo', 'vuestros', 'estaria', 'os', 'tuvimos', 'ya', 'habrian', 'estando', 'las', 'tuvierais', 'le', 'pero', 'habiamos', 'esta', 'suyos', 'tuya', 'habida', 'tuvieses', 'estara', 'habiais', 'estabas', 'estaremos', 'sin', 'seremos', 'no', 'se', 'estareis', 'cuando', 'tenemos', 'has', 'eres', 'tengan', 'mas', 'otra', 'nuestras', 'siente', 'hubieron', 'estos', 'sintiendo', 'habrias', 'te', 'estados', 'somos', 'tuvieron', 'vuestras', 'donde', 'tendrian', 'durante', 'habran', 'mios', 'seriais', 'mis', 'tendra', 'hubimos', 'ellos', 'vuestra', 'tuvo', 'otros', 'vosotros', 'hayamos', 'tu', 'ha', 'estaras', 'tienen', 'estuvimos', 'fueran', 'hubieseis', 'vuestro', 'ni', 'tened', 'fueron', 'esos', 'mi', 'habidos', 'hube', 'estarian', 'sentido', 'e', 'estaba', 'o', 'fuesen', 'mia', 'estariamos', 'estaban', 'teniendo', 'el', 'que', 'suyas', 'hubiesen', 'tuyos', 'tendras', 'erais', 'habidas', 'en', 'ese', 'nuestros', 'un', 'fueseis', 'tiene', 'hubieramos', 'estabamos', 'fui', 'tuviese', 'tendriais', 'del', 'desde', 'seas', 'nosotras', 'habriais', 'la', 'tengais', 'hubieras', 'vosotras', 'hubieses', 'estado', 'teniamos', 'hubisteis', 'esa', 'habian', 'habido', 'habra', 'yo', 'sean', 'porque', 'tendriamos', 'ellas', 'sereis', 'como', 'seran', 'tuyas', 'eso', 'algunos', 'tendria', 'estar', 'ti', 'tengamos', 'es', 'tanto', 'esto', 'tengo', 'con', 'habias', 'quienes', 'eramos', 'tendreis', 'seais', 'tuviesen', 'habre', 'estuviera', 'estes', 'a', 'tenia', 'tuvieran', 'todo', 'habia', 'estada', 'habeis', 'de', 'este', 'su', 'habria', 'que', 'hayan', 'fuese', 'tuvisteis', 'seras', 'tenido', 'sois', 'soy', 'hasta', 'tuvieramos', 'tuviste', 'fuera', 'estuviesemos', 'hubiste', 'algunas', 'estadas', 'este', 'seamos', 'habreis', 'estuvisteis', 'hubiese', 'mio', 'mias', 'estuvieramos', 'hubo', 'sera', 'estuvieseis', 'ella', 'nuestra', 'estuvo', 'estuviste', 'muchos', 'tenian', 'estaran', 'otras', 'estuviese', 'fueras', 'entre', 'estuviesen', 'unos', 'he', 'estare', 'y', 'muy', 'seria', 'fuimos', 'tuviesemos', 'tuvieras', 'al', 'estuve', 'hubierais', 'tenidos', 'teniais', 'ante', 'tengas', 'fuisteis', 'estarias', 'una', 'mi', 'estas', 'tendrias', 'uno', 'habremos', 'suyo', 'tus', 'sea', 'les', 'poco', 'si', 'sobre', 'contra', 'tendre', 'sus', 'estuvieras', 'estais', 'eran', 'estabais', 'haya', 'hayas', 'para', 'sere', 'fuerais', 'estemos', 'quien', 'todos', 'nada', 'hayais', 'por', 'estuvieran', 'el', 'son']\n"
     ]
    }
   ],
   "source": [
    "stopset_cleaned = [clean_text_1(word) for word in stopset]\n",
    "print(stopset_cleaned)"
   ]
  },
  {
   "cell_type": "code",
   "execution_count": 9,
   "id": "48650bc9-726c-41bd-bee7-b293448c2f3b",
   "metadata": {},
   "outputs": [
    {
     "name": "stdout",
     "output_type": "stream",
     "text": [
      "['tercera', 'semana', 'setiembre', 'empezara', 'entregar', 'bono', 'soles']\n",
      "----------------------------------------------------------------------------------------------------\n",
      "['subsidio', 'conocido', 'yanapay', 'peru', 'objetivo', 'ser', 'ayuda', 'economica', 'aliviar', 'sectores', 'vulnerables', 'pandemia', 'coronavirus']\n",
      "----------------------------------------------------------------------------------------------------\n",
      "['bono', 'inyeccion', 'economica', 'universal', 'individualizada', 'diferencia', 'subsidios', 'venido', 'entregando', 'principal', 'caracteristica', 'pagado', 'forma', 'personal', 'familiar']\n",
      "----------------------------------------------------------------------------------------------------\n",
      "['subsidio', 'millones', 'personas', 'beneficiadas', 'peru']\n",
      "----------------------------------------------------------------------------------------------------\n",
      "['bono', 'otorgara', 'personas', 'mayores', 'edad', 'cuyos', 'ingresos', 'superen', 's', 'mensuales', 'formen', 'parte', 'hogares', 'condicion', 'pobreza', 'pobreza', 'extrema', 'vulnerabilidad', 'pais']\n",
      "----------------------------------------------------------------------------------------------------\n",
      "['recibiran', 'beneficiarios', 'programas', 'juntos', 'pension', 'contigo']\n",
      "----------------------------------------------------------------------------------------------------\n",
      "['ser', 'beneficiario', 'bono', 'ser', 'mayor', 'edad', 'pertenecer', 'alguno', 'grupos', 'cuatro', 'grupos', 'beneficiarios', 'cada', 'fecha', 'partir', 'podran', 'cobrar', 'bono']\n",
      "----------------------------------------------------------------------------------------------------\n",
      "['determinado', 'cronograma', 'pagos', 'segun', 'grupo', 'cabe', 'resaltar', 'personas', 'pertenecen', 'grupo', 'podran', 'recibir', 'bono', 'mediante', 'parte', 'personas', 'grupo', 'recibiran', 'subsidio', 'traves', 'atencion', 'ventanilla', 'banco', 'nacion']\n",
      "----------------------------------------------------------------------------------------------------\n",
      "['tras', 'conocerse', 'grupos', 'fechas', 'bono', 'entregado', 'gobierno', 'dado', 'conocer', 'modalidades', 'pago', 'pagara']\n",
      "----------------------------------------------------------------------------------------------------\n",
      "['cabe', 'aclarar', 'ajustara', 'grupo', 'ciudadano', 'encuentre']\n",
      "----------------------------------------------------------------------------------------------------\n",
      "['aun', 'pendiente', 'publicacion', 'link', 'enlace', 'portal', 'web', 'consultar', 'podra', 'acceder', 'subsidio']\n",
      "----------------------------------------------------------------------------------------------------\n",
      "['proximos', 'dias', 'dara', 'conocer', 'direccion', 'sitio', 'web', 'ciudadanos', 'podran', 'hacer', 'consulta', 'respectiva']\n",
      "----------------------------------------------------------------------------------------------------\n",
      "['subsidio', 'monetario', 'individual', 'soles', 'podra', 'ser', 'cobrado', 'abril', 'ano']\n",
      "----------------------------------------------------------------------------------------------------\n",
      "['despues', 'dia', 'banco', 'nacion', 'entidades', 'financieras', 'recibieron', 'recursos', 'repartir', 'apoyo', 'financiero', 'deberan', 'retornar', 'dinero', 'arcas', 'gobierno']\n",
      "----------------------------------------------------------------------------------------------------\n"
     ]
    }
   ],
   "source": [
    "tokenizacion = [\n",
    "    [\n",
    "        clean_text_1(_) for _ in nltk.word_tokenize(sentence) \n",
    "                     if len(clean_text_1(_)) > 0 and clean_text_1(_) not in stopset_cleaned\n",
    "    ] for sentence in nltk.sent_tokenize(new)\n",
    "]\n",
    "\n",
    "for oracion in tokenizacion:\n",
    "    if len(oracion) <= 0:\n",
    "        continue\n",
    "\n",
    "    print(oracion)\n",
    "    print(\"-\"*100)"
   ]
  },
  {
   "cell_type": "code",
   "execution_count": null,
   "id": "2b3678de-b3f8-4a43-817b-def8b86263ba",
   "metadata": {},
   "outputs": [],
   "source": []
  },
  {
   "cell_type": "markdown",
   "id": "a1193442-9a4c-4de7-88bd-0ac23ae00940",
   "metadata": {},
   "source": [
    "### LEMMATIZACION"
   ]
  },
  {
   "cell_type": "code",
   "execution_count": 10,
   "id": "d288e809-c653-4b36-aacb-11e0b9f42143",
   "metadata": {},
   "outputs": [],
   "source": [
    "#!pip install spacy                                  -- descomentar la 1era vez"
   ]
  },
  {
   "cell_type": "code",
   "execution_count": 11,
   "id": "308611e7-867c-45ec-b241-0ec2bf1945ef",
   "metadata": {},
   "outputs": [],
   "source": [
    "#!pip install stanza                                 -- descomentar la 1era vez"
   ]
  },
  {
   "cell_type": "code",
   "execution_count": 12,
   "id": "d9b4ae0d-3c65-458e-b1fe-715c15d13622",
   "metadata": {},
   "outputs": [],
   "source": [
    "#!pip install \"spacy-stanza<0.3.0\" --user            -- descomentar la 1era vez"
   ]
  },
  {
   "cell_type": "code",
   "execution_count": 13,
   "id": "128d54bc-fa50-48b7-a8af-a5d612b4b1fd",
   "metadata": {},
   "outputs": [],
   "source": [
    "import stanza"
   ]
  },
  {
   "cell_type": "code",
   "execution_count": 14,
   "id": "22e2ed8c-6b42-4045-af67-1bfe6a365d9c",
   "metadata": {},
   "outputs": [],
   "source": [
    "#stanza.download('es')                                -- descomentar la 1era vez"
   ]
  },
  {
   "cell_type": "code",
   "execution_count": 15,
   "id": "330615fc-1e9c-4800-a1cf-35a45d1f0838",
   "metadata": {},
   "outputs": [],
   "source": [
    "from spacy_stanza import StanzaLanguage"
   ]
  },
  {
   "cell_type": "code",
   "execution_count": 16,
   "id": "f569839b-1e14-4b84-b27b-dcc9e1e6ee57",
   "metadata": {},
   "outputs": [
    {
     "name": "stderr",
     "output_type": "stream",
     "text": [
      "2021-09-12 10:56:50 INFO: Loading these models for language: es (Spanish):\n",
      "=======================\n",
      "| Processor | Package |\n",
      "-----------------------\n",
      "| tokenize  | ancora  |\n",
      "| mwt       | ancora  |\n",
      "| pos       | ancora  |\n",
      "| lemma     | ancora  |\n",
      "| depparse  | ancora  |\n",
      "| ner       | conll02 |\n",
      "=======================\n",
      "\n",
      "2021-09-12 10:56:50 INFO: Use device: cpu\n",
      "2021-09-12 10:56:50 INFO: Loading: tokenize\n",
      "2021-09-12 10:56:50 INFO: Loading: mwt\n",
      "2021-09-12 10:56:50 INFO: Loading: pos\n",
      "2021-09-12 10:56:51 INFO: Loading: lemma\n",
      "2021-09-12 10:56:51 INFO: Loading: depparse\n",
      "2021-09-12 10:56:51 INFO: Loading: ner\n",
      "2021-09-12 10:56:54 INFO: Done loading processors!\n"
     ]
    }
   ],
   "source": [
    "snlp = stanza.Pipeline(lang=\"es\")\n",
    "nlp = StanzaLanguage(snlp)"
   ]
  },
  {
   "cell_type": "code",
   "execution_count": 17,
   "id": "5b1dc0d4-59c3-4cbc-a4a5-74b81db27145",
   "metadata": {},
   "outputs": [
    {
     "name": "stdout",
     "output_type": "stream",
     "text": [
      "['tercero', 'semana', 'setiembre', 'empezar', 'entregar', 'bono', 'sol']\n",
      "----------------------------------------------------------------------------------------------------\n",
      "['subsidio', 'conocido', 'yanapar', 'peru', 'objetivo', 'ser', 'ayuda', 'economico', 'aliviar', 'sector', 'vulnerable', 'pandemia', 'coronaviru']\n",
      "----------------------------------------------------------------------------------------------------\n",
      "['bono', 'inyeccion', 'economico', 'universal', 'individualizado', 'diferencia', 'subsidio', 'venir', 'entregar', 'principal', 'caracteristica', 'pagado', 'forma', 'personal', 'familiar']\n",
      "----------------------------------------------------------------------------------------------------\n",
      "['subsidio', 'millón', 'persona', 'beneficiado', 'peru']\n",
      "----------------------------------------------------------------------------------------------------\n",
      "['bono', 'otorgar', 'persona', 'mayor', 'edad', 'cuyo', 'ingreso', 'superar', 's', 'mensual', 'formar', 'parte', 'hogar', 'condicion', 'pobreza', 'pobreza', 'extremo', 'vulnerabilidad', 'pais']\n",
      "----------------------------------------------------------------------------------------------------\n",
      "['recibir', 'beneficiario', 'programa', 'junto', 'pension', 'tú']\n",
      "----------------------------------------------------------------------------------------------------\n",
      "['ser', 'beneficiario', 'bono', 'ser', 'mayor', 'edad', 'pertenecer', 'alguno', 'grupo', 'cuatro', 'grupo', 'beneficiario', 'cada', 'fecha', 'partir', 'poder', 'cobrar', 'bono']\n",
      "----------------------------------------------------------------------------------------------------\n",
      "['determinado', 'cronograma', 'pago', 'segun', 'grupo', 'caber', 'resaltar', 'persona', 'pertenecer', 'grupo', 'poder', 'recibir', 'bono', 'mediante', 'parte', 'persona', 'grupo', 'recibir', 'subsidio', 'trave', 'atencion', 'ventanilla', 'banco', 'nacion']\n",
      "----------------------------------------------------------------------------------------------------\n",
      "['tras', 'conocerél', 'grupo', 'fecha', 'bono', 'entregado', 'gobierno', 'dado', 'conocer', 'modalidad', 'pago', 'pagar']\n",
      "----------------------------------------------------------------------------------------------------\n",
      "['caber', 'aclarar', 'ajustar', 'grupo', 'ciudadano', 'encontrar']\n",
      "----------------------------------------------------------------------------------------------------\n",
      "['aun', 'pendiente', 'publicacion', 'link', 'enlace', 'portal', 'web', 'consultar', 'poder', 'acceder', 'subsidio']\n",
      "----------------------------------------------------------------------------------------------------\n",
      "['proximo', 'dia', 'dar', 'conocer', 'direccion', 'sitio', 'web', 'ciudadano', 'poder', 'hacer', 'consulta', 'respectivo']\n",
      "----------------------------------------------------------------------------------------------------\n",
      "['subsidio', 'monetario', 'individual', 'sol', 'poder', 'ser', 'cobrar', 'abril', 'ano']\n",
      "----------------------------------------------------------------------------------------------------\n",
      "['despues', 'dia', 'banco', 'nacion', 'entidad', 'financiero', 'recibir', 'recurso', 'repartir', 'apoyo', 'financiero', 'deber', 'retornar', 'dinero', 'arca', 'gobierno']\n",
      "----------------------------------------------------------------------------------------------------\n"
     ]
    }
   ],
   "source": [
    "tokenizacion = [\n",
    "    [\n",
    "       ''.join([token.lemma_ for token in nlp(clean_text_1(_))]) for _ in nltk.word_tokenize(sentence) \n",
    "                     if len(clean_text_1(_)) > 0 and clean_text_1(_) not in stopset_cleaned\n",
    "    ] for sentence in nltk.sent_tokenize(new)\n",
    "]\n",
    "\n",
    "for oracion in tokenizacion:\n",
    "    if len(oracion) <= 0:\n",
    "        continue\n",
    "\n",
    "    print(oracion)\n",
    "    print(\"-\"*100)"
   ]
  },
  {
   "cell_type": "code",
   "execution_count": null,
   "id": "cb8d3cb6-e52c-404c-84a7-9058658c6212",
   "metadata": {},
   "outputs": [],
   "source": []
  },
  {
   "cell_type": "markdown",
   "id": "4bf43db5-5aa5-485a-9811-5b98962f1d8e",
   "metadata": {},
   "source": [
    "### REGRESANDO A MODO TEXTO"
   ]
  },
  {
   "cell_type": "code",
   "execution_count": 19,
   "id": "49719011-ab92-4cda-835b-0d1daeeffdf6",
   "metadata": {},
   "outputs": [
    {
     "name": "stdout",
     "output_type": "stream",
     "text": [
      "['tercero semana setiembre empezar entregar bono sol', 'subsidio conocido yanapar peru objetivo ser ayuda economico aliviar sector vulnerable pandemia coronaviru', 'bono inyeccion economico universal individualizado diferencia subsidio venir entregar principal caracteristica pagado forma personal familiar', 'subsidio millón persona beneficiado peru', 'bono otorgar persona mayor edad cuyo ingreso superar s mensual formar parte hogar condicion pobreza pobreza extremo vulnerabilidad pais', 'recibir beneficiario programa junto pension tú', 'ser beneficiario bono ser mayor edad pertenecer alguno grupo cuatro grupo beneficiario cada fecha partir poder cobrar bono', 'determinado cronograma pago segun grupo caber resaltar persona pertenecer grupo poder recibir bono mediante parte persona grupo recibir subsidio trave atencion ventanilla banco nacion', 'tras conocerél grupo fecha bono entregado gobierno dado conocer modalidad pago pagar', 'caber aclarar ajustar grupo ciudadano encontrar', 'aun pendiente publicacion link enlace portal web consultar poder acceder subsidio', 'proximo dia dar conocer direccion sitio web ciudadano poder hacer consulta respectivo', 'subsidio monetario individual sol poder ser cobrar abril ano', 'despues dia banco nacion entidad financiero recibir recurso repartir apoyo financiero deber retornar dinero arca gobierno']\n"
     ]
    }
   ],
   "source": [
    "textos = [' '.join(sentence) for sentence in tokenizacion]\n",
    "print(textos)"
   ]
  },
  {
   "cell_type": "code",
   "execution_count": null,
   "id": "6ab30914-5eb9-4120-b20d-aaf2dc020aab",
   "metadata": {},
   "outputs": [],
   "source": []
  },
  {
   "cell_type": "markdown",
   "id": "7379339b-2b95-4493-bd80-70b7fc14eece",
   "metadata": {},
   "source": [
    "### BOLSA DE PALABRAS"
   ]
  },
  {
   "cell_type": "code",
   "execution_count": 21,
   "id": "a439b11a-c524-4b88-b705-60cc6c115a4e",
   "metadata": {},
   "outputs": [],
   "source": [
    "from sklearn.feature_extraction.text import CountVectorizer\n",
    "\n",
    "cv = CountVectorizer()\n",
    "cv_fit = cv.fit_transform(textos)"
   ]
  },
  {
   "cell_type": "code",
   "execution_count": 22,
   "id": "0d02323d-a5c1-4418-9870-6b9de195763b",
   "metadata": {},
   "outputs": [
    {
     "data": {
      "text/plain": [
       "<14x119 sparse matrix of type '<class 'numpy.int64'>'\n",
       "\twith 162 stored elements in Compressed Sparse Row format>"
      ]
     },
     "execution_count": 22,
     "metadata": {},
     "output_type": "execute_result"
    }
   ],
   "source": [
    "cv_fit"
   ]
  },
  {
   "cell_type": "code",
   "execution_count": 24,
   "id": "3cd729b3-963a-4c51-922e-eea24b7f0b53",
   "metadata": {},
   "outputs": [
    {
     "name": "stdout",
     "output_type": "stream",
     "text": [
      "['_add_dense', '_add_sparse', '_arg_min_or_max', '_arg_min_or_max_axis', '_asindices', '_binopt', '_deduped_data', '_divide', '_divide_sparse', '_get_arrayXarray', '_get_arrayXint', '_get_arrayXslice', '_get_columnXarray', '_get_dtype', '_get_intXarray', '_get_intXint', '_get_intXslice', '_get_sliceXarray', '_get_sliceXint', '_get_sliceXslice', '_get_submatrix', '_imag', '_inequality', '_insert_many', '_major_index_fancy', '_major_slice', '_maximum_minimum', '_min_or_max', '_min_or_max_axis', '_minor_index_fancy', '_minor_reduce', '_minor_slice', '_mul_multivector', '_mul_scalar', '_mul_sparse_matrix', '_mul_vector', '_prepare_indices', '_process_toarray_args', '_real', '_rsub_dense', '_scalar_binopt', '_set_arrayXarray', '_set_arrayXarray_sparse', '_set_dtype', '_set_intXint', '_set_many', '_set_self', '_setdiag', '_shape', '_sub_dense', '_sub_sparse', '_swap', '_validate_indices', '_with_data', '_zero_many', 'arcsin', 'arcsinh', 'arctan', 'arctanh', 'argmax', 'argmin', 'asformat', 'asfptype', 'astype', 'ceil', 'check_format', 'conj', 'conjugate', 'copy', 'count_nonzero', 'data', 'deg2rad', 'diagonal', 'dot', 'dtype', 'eliminate_zeros', 'expm1', 'floor', 'format', 'getH', 'get_shape', 'getcol', 'getformat', 'getmaxprint', 'getnnz', 'getrow', 'has_canonical_format', 'has_sorted_indices', 'indices', 'indptr', 'log1p', 'max', 'maximum', 'maxprint', 'mean', 'min', 'minimum', 'multiply', 'ndim', 'nnz', 'nonzero', 'power', 'prune', 'rad2deg', 'reshape', 'resize', 'rint', 'set_shape', 'setdiag', 'shape', 'sign', 'sin', 'sinh', 'sort_indices', 'sorted_indices', 'sqrt', 'sum', 'sum_duplicates', 'tan', 'tanh', 'toarray', 'tobsr', 'tocoo', 'tocsc', 'tocsr', 'todense', 'todia', 'todok', 'tolil', 'transpose', 'trunc']\n"
     ]
    }
   ],
   "source": [
    "print([name for name in dir(cv_fit) if '__' not in name])"
   ]
  },
  {
   "cell_type": "code",
   "execution_count": 27,
   "id": "447a5f30-93fa-4598-bf0a-b19d09946522",
   "metadata": {},
   "outputs": [
    {
     "name": "stdout",
     "output_type": "stream",
     "text": [
      "['abril', 'acceder', 'aclarar', 'ajustar', 'alguno', 'aliviar', 'ano', 'apoyo', 'arca', 'atencion', 'aun', 'ayuda', 'banco', 'beneficiado', 'beneficiario', 'bono', 'caber', 'cada', 'caracteristica', 'ciudadano', 'cobrar', 'condicion', 'conocer', 'conocerél', 'conocido', 'consulta', 'consultar', 'coronaviru', 'cronograma', 'cuatro', 'cuyo', 'dado', 'dar', 'deber', 'despues', 'determinado', 'dia', 'diferencia', 'dinero', 'direccion', 'economico', 'edad', 'empezar', 'encontrar', 'enlace', 'entidad', 'entregado', 'entregar', 'extremo', 'familiar', 'fecha', 'financiero', 'forma', 'formar', 'gobierno', 'grupo', 'hacer', 'hogar', 'individual', 'individualizado', 'ingreso', 'inyeccion', 'junto', 'link', 'mayor', 'mediante', 'mensual', 'millón', 'modalidad', 'monetario', 'nacion', 'objetivo', 'otorgar', 'pagado', 'pagar', 'pago', 'pais', 'pandemia', 'parte', 'partir', 'pendiente', 'pension', 'persona', 'personal', 'pertenecer', 'peru', 'pobreza', 'poder', 'portal', 'principal', 'programa', 'proximo', 'publicacion', 'recibir', 'recurso', 'repartir', 'resaltar', 'respectivo', 'retornar', 'sector', 'segun', 'semana', 'ser', 'setiembre', 'sitio', 'sol', 'subsidio', 'superar', 'tercero', 'tras', 'trave', 'tú', 'universal', 'venir', 'ventanilla', 'vulnerabilidad', 'vulnerable', 'web', 'yanapar']\n"
     ]
    }
   ],
   "source": [
    "print(cv.get_feature_names())"
   ]
  },
  {
   "cell_type": "code",
   "execution_count": 30,
   "id": "8d256642-5b5c-42b3-b45d-2384cb2b18e8",
   "metadata": {},
   "outputs": [
    {
     "name": "stdout",
     "output_type": "stream",
     "text": [
      "{'tercero': 108, 'semana': 101, 'setiembre': 103, 'empezar': 42, 'entregar': 47, 'bono': 15, 'sol': 105, 'subsidio': 106, 'conocido': 24, 'yanapar': 118, 'peru': 85, 'objetivo': 71, 'ser': 102, 'ayuda': 11, 'economico': 40, 'aliviar': 5, 'sector': 99, 'vulnerable': 116, 'pandemia': 77, 'coronaviru': 27, 'inyeccion': 61, 'universal': 112, 'individualizado': 59, 'diferencia': 37, 'venir': 113, 'principal': 89, 'caracteristica': 18, 'pagado': 73, 'forma': 52, 'personal': 83, 'familiar': 49, 'millón': 67, 'persona': 82, 'beneficiado': 13, 'otorgar': 72, 'mayor': 64, 'edad': 41, 'cuyo': 30, 'ingreso': 60, 'superar': 107, 'mensual': 66, 'formar': 53, 'parte': 78, 'hogar': 57, 'condicion': 21, 'pobreza': 86, 'extremo': 48, 'vulnerabilidad': 115, 'pais': 76, 'recibir': 93, 'beneficiario': 14, 'programa': 90, 'junto': 62, 'pension': 81, 'tú': 111, 'pertenecer': 84, 'alguno': 4, 'grupo': 55, 'cuatro': 29, 'cada': 17, 'fecha': 50, 'partir': 79, 'poder': 87, 'cobrar': 20, 'determinado': 35, 'cronograma': 28, 'pago': 75, 'segun': 100, 'caber': 16, 'resaltar': 96, 'mediante': 65, 'trave': 110, 'atencion': 9, 'ventanilla': 114, 'banco': 12, 'nacion': 70, 'tras': 109, 'conocerél': 23, 'entregado': 46, 'gobierno': 54, 'dado': 31, 'conocer': 22, 'modalidad': 68, 'pagar': 74, 'aclarar': 2, 'ajustar': 3, 'ciudadano': 19, 'encontrar': 43, 'aun': 10, 'pendiente': 80, 'publicacion': 92, 'link': 63, 'enlace': 44, 'portal': 88, 'web': 117, 'consultar': 26, 'acceder': 1, 'proximo': 91, 'dia': 36, 'dar': 32, 'direccion': 39, 'sitio': 104, 'hacer': 56, 'consulta': 25, 'respectivo': 97, 'monetario': 69, 'individual': 58, 'abril': 0, 'ano': 6, 'despues': 34, 'entidad': 45, 'financiero': 51, 'recurso': 94, 'repartir': 95, 'apoyo': 7, 'deber': 33, 'retornar': 98, 'dinero': 38, 'arca': 8}\n"
     ]
    }
   ],
   "source": [
    "print(cv.vocabulary_)"
   ]
  },
  {
   "cell_type": "code",
   "execution_count": 33,
   "id": "1df61b07-a79b-4da0-9bb9-3998182509fd",
   "metadata": {},
   "outputs": [
    {
     "data": {
      "text/plain": [
       "119"
      ]
     },
     "execution_count": 33,
     "metadata": {},
     "output_type": "execute_result"
    }
   ],
   "source": [
    "tamanio_vocabulario = len(cv.vocabulary_)\n",
    "tamanio_vocabulario"
   ]
  },
  {
   "cell_type": "code",
   "execution_count": 34,
   "id": "faede01f-e573-4c35-aaf5-531d1e219927",
   "metadata": {},
   "outputs": [
    {
     "data": {
      "text/plain": [
       "14"
      ]
     },
     "execution_count": 34,
     "metadata": {},
     "output_type": "execute_result"
    }
   ],
   "source": [
    "cantidad_textos = len(textos)\n",
    "cantidad_textos"
   ]
  },
  {
   "cell_type": "code",
   "execution_count": 36,
   "id": "202c0b8d-1953-48ec-b64c-50e8a41658ec",
   "metadata": {},
   "outputs": [
    {
     "data": {
      "text/plain": [
       "172"
      ]
     },
     "execution_count": 36,
     "metadata": {},
     "output_type": "execute_result"
    }
   ],
   "source": [
    "espacios_con_ceros = cv_fit.toarray().sum(axis=1).sum()\n",
    "espacios_con_ceros"
   ]
  },
  {
   "cell_type": "markdown",
   "id": "e14d6285-da50-4775-b6fe-5ad9e8b53991",
   "metadata": {},
   "source": [
    "### Porcentaje de ceros"
   ]
  },
  {
   "cell_type": "code",
   "execution_count": 38,
   "id": "ae1fb161-983a-4f43-ba3a-a7668dedd292",
   "metadata": {},
   "outputs": [
    {
     "data": {
      "text/plain": [
       "0.8967587034813925"
      ]
     },
     "execution_count": 38,
     "metadata": {},
     "output_type": "execute_result"
    }
   ],
   "source": [
    "sparsity = 1 - 172/ (119*14)\n",
    "sparsity"
   ]
  },
  {
   "cell_type": "code",
   "execution_count": null,
   "id": "9d98e2db-96f4-41c8-bd65-a0fc559c1807",
   "metadata": {},
   "outputs": [],
   "source": []
  },
  {
   "cell_type": "code",
   "execution_count": null,
   "id": "542f41fd-9873-443c-9fcd-e9e276643a2b",
   "metadata": {},
   "outputs": [],
   "source": []
  }
 ],
 "metadata": {
  "kernelspec": {
   "display_name": "Python 3",
   "language": "python",
   "name": "python3"
  },
  "language_info": {
   "codemirror_mode": {
    "name": "ipython",
    "version": 3
   },
   "file_extension": ".py",
   "mimetype": "text/x-python",
   "name": "python",
   "nbconvert_exporter": "python",
   "pygments_lexer": "ipython3",
   "version": "3.8.5"
  }
 },
 "nbformat": 4,
 "nbformat_minor": 5
}
