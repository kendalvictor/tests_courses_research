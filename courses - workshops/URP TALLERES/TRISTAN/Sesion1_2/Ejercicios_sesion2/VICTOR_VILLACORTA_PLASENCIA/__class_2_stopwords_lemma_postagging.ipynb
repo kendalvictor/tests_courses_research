{
 "cells": [
  {
   "cell_type": "code",
   "execution_count": 1,
   "id": "bb3b0bd7-0992-4785-b894-e07f084a4cc7",
   "metadata": {},
   "outputs": [],
   "source": [
    "import os\n",
    "import re\n",
    "import time\n",
    "from pathlib import Path\n",
    "import shutil\n",
    "import glob\n",
    "import string\n",
    "import unicodedata\n",
    "from datetime import datetime, timedelta\n",
    "\n",
    "import pandas as pd\n",
    "from selenium import webdriver\n",
    "from selenium.webdriver.chrome.options import Options\n",
    "from selenium.webdriver.support.select import Select\n",
    "from sqlalchemy import create_engine\n",
    "from selenium.webdriver.support.ui import WebDriverWait\n",
    "from selenium.webdriver.support import expected_conditions as EC\n",
    "from selenium.webdriver.common.by import By\n",
    "\n",
    "from unicodedata import normalize, category"
   ]
  },
  {
   "cell_type": "code",
   "execution_count": 2,
   "id": "3d8af48c-8833-4cb0-bfbc-c06509c02d34",
   "metadata": {},
   "outputs": [],
   "source": [
    "import nltk\n",
    "from nltk.corpus import stopwords\n",
    "from nltk.stem.snowball import SnowballStemmer\n",
    "\n",
    "stopset = set(stopwords.words(\"spanish\"))"
   ]
  },
  {
   "cell_type": "code",
   "execution_count": 3,
   "id": "64668385-0bd1-48f0-a2f9-c90b73b41935",
   "metadata": {},
   "outputs": [
    {
     "name": "stdout",
     "output_type": "stream",
     "text": [
      "{'habíais', 'estuvo', 'seríais', 'algunos', 'tendrías', 'tendremos', 'suyos', 'fuesen', 'tenían', 'con', 'nosotras', 'estar', 'esa', 'ni', 'somos', 'vosotros', 'estabais', 'seré', 'un', 'sería', 'estos', 'tuvimos', 'del', 'una', 'le', 'yo', 'habrás', 'habría', 'hayáis', 'habré', 'se', 'esto', 'seamos', 'entre', 'eres', 'tened', 'tu', 'tuvieran', 'tuviese', 'estuviesen', 'sentidos', 'nos', 'seas', 'tuviste', 'tengan', 'sentida', 'han', 'hay', 'nada', 'eran', 'fueran', 'teniendo', 'no', 'lo', 'estará', 'os', 'habrán', 'ese', 'vuestro', 'estabas', 'estuvieras', 'qué', 'hubo', 'estarían', 'fue', 'o', 'fueras', 'poco', 'muy', 'fuiste', 'hubieras', 'mí', 'tenida', 'que', 'era', 'quienes', 'tenemos', 'tuvieseis', 'tuvieras', 'más', 'tenido', 'eso', 'tuvisteis', 'hubieran', 'para', 'hayan', 'había', 'fueseis', 'es', 'tengas', 'suya', 'sois', 'vosotras', 'hubierais', 'tendríais', 'estéis', 'tendrían', 'seáis', 'estuvieran', 'tus', 'hayas', 'ante', 'por', 'fueses', 'hubieseis', 'estuviste', 'estuvieses', 'mucho', 'estuviera', 'sin', 'otra', 'habidas', 'son', 'míos', 'teníamos', 'estado', 'tienes', 'ella', 'tuviéramos', 'nosotros', 'estuviéramos', 'tendré', 'tengo', 'estuviese', 'estaban', 'estás', 'habrías', 'estuvierais', 'otro', 'hubisteis', 'fuimos', 'fueron', 'la', 'estados', 'tuya', 'vuestros', 'donde', 'teníais', 'les', 'él', 'estemos', 'me', 'sí', 'estas', 'serás', 'ellos', 'cuando', 'serían', 'de', 'durante', 'hayamos', 'algunas', 'hasta', 'habían', 'vuestra', 'estuvieron', 'estaríamos', 'tendrás', 'tenía', 'mías', 'hubiese', 'sentido', 'seremos', 'tengáis', 'sobre', 'tuyos', 'ha', 'al', 'está', 'has', 'estuve', 'porque', 'nuestros', 'serías', 'ellas', 'estada', 'tenidas', 'tendrá', 'antes', 'estamos', 'será', 'eras', 'habiendo', 'fuese', 'muchos', 'habríais', 'estaba', 'habremos', 'sentidas', 'erais', 'fuisteis', 'esos', 'mía', 'habías', 'tuviesen', 'estuvimos', 'todo', 'tuyas', 'los', 'hubieron', 'seréis', 'habréis', 'estando', 'habida', 'hubieses', 'hemos', 'tienen', 'este', 'habido', 'éramos', 'pero', 'cual', 'su', 'estaréis', 'habéis', 'estés', 'quien', 'otros', 'suyas', 'tuyo', 'otras', 'tanto', 'estuviésemos', 'nuestras', 'estén', 'he', 'todos', 'serán', 'nuestra', 'hubiera', 'unos', 'en', 'sentid', 'estaría', 'fuera', 'y', 'tendrán', 'mi', 'hubiéramos', 'estaré', 'estaremos', 'te', 'tuvierais', 'uno', 'mis', 'también', 'tuvieron', 'estáis', 'estuvisteis', 'tenidos', 'sus', 'haya', 'estarías', 'habidos', 'contra', 'estoy', 'nuestro', 'tuviésemos', 'el', 'sea', 'las', 'tenías', 'mío', 'estábamos', 'vuestras', 'seríamos', 'tenéis', 'desde', 'estad', 'habrá', 'siente', 'estuvieseis', 'tú', 'tendríamos', 'están', 'tengamos', 'esta', 'sean', 'tuvo', 'suyo', 'soy', 'estarás', 'hubimos', 'ya', 'sintiendo', 'algo', 'tuviera', 'ti', 'tendría', 'hubiesen', 'estarán', 'habíamos', 'hubiésemos', 'como', 'habrían', 'estaríais', 'esté', 'fuerais', 'e', 'tuvieses', 'tiene', 'a', 'habríamos', 'tenga', 'fui', 'esas', 'tuve', 'fuésemos', 'hubiste', 'fuéramos', 'hube', 'tendréis', 'estadas'}\n"
     ]
    }
   ],
   "source": [
    "print(stopset)"
   ]
  },
  {
   "cell_type": "code",
   "execution_count": 4,
   "id": "548343a2-4f45-4d46-897b-28bffd663667",
   "metadata": {},
   "outputs": [
    {
     "data": {
      "text/plain": [
       "'12092021'"
      ]
     },
     "execution_count": 4,
     "metadata": {},
     "output_type": "execute_result"
    }
   ],
   "source": [
    "hoy = datetime.today()\n",
    "hoy_format = hoy.strftime('%d%m%Y') \n",
    "hoy_format"
   ]
  },
  {
   "cell_type": "code",
   "execution_count": 5,
   "id": "c391b396-bb94-4f53-9929-1a281065c0ba",
   "metadata": {},
   "outputs": [
    {
     "name": "stdout",
     "output_type": "stream",
     "text": [
      "['news', '12092021', 'original', 'bono-350-quienes-podran-cobrarlo-desde-el-13-de-septiembre-y-de-que-forma-bono-yanapay-peru-coronavirus-covi.txt']\n"
     ]
    }
   ],
   "source": [
    "for file in glob.iglob('news/{}/**/*.txt'.format(hoy_format), recursive=True):\n",
    "    listado = file.replace('/', '\\\\').split('\\\\')\n",
    "    \n",
    "    if 'descartado' in listado:\n",
    "        continue\n",
    "        \n",
    "    print(listado)\n",
    "    with open(file, encoding='UTF-8') as f:\n",
    "        new = f.read()\n",
    "        \n",
    "    break"
   ]
  },
  {
   "cell_type": "code",
   "execution_count": 6,
   "id": "71aa2b13-2be8-4308-9598-e7d8bc47d808",
   "metadata": {},
   "outputs": [],
   "source": [
    "from unicodedata import normalize, category\n",
    "\n",
    "def clean_text_1(_text):\n",
    "    \"\"\"\n",
    "        Ll : minusculas\n",
    "        Zs : espacios\n",
    "        Lu : mayusculas\n",
    "        Nd : numeros\n",
    "        Mn : tildes\n",
    "        Ps : abre dieresis, .....\n",
    "        Pe : cierra dieresis, .......\n",
    "        Pi : abre parentesis, .....\n",
    "        Po : cierra parentesis, punto, coma, .....        \n",
    "        ...\n",
    "    \"\"\"\n",
    "    selects_characters = ['Ll', 'Zs', 'Lu']\n",
    "    \n",
    "    return ''.join([_.lower() for _ in normalize('NFD', _text.replace(' ', 'ZZZ')) if category(_) in selects_characters])"
   ]
  },
  {
   "cell_type": "code",
   "execution_count": null,
   "id": "4e780950-f54a-4d72-a274-a619825e8b51",
   "metadata": {},
   "outputs": [],
   "source": []
  },
  {
   "cell_type": "markdown",
   "id": "df0e6b95-71f5-4cd0-bc2f-eaea2ff9e6e0",
   "metadata": {},
   "source": [
    "### SIN QUITAR STOPWORDS"
   ]
  },
  {
   "cell_type": "code",
   "execution_count": 7,
   "id": "6aa23d5a-d7db-466a-84dc-c12ff406a018",
   "metadata": {},
   "outputs": [
    {
     "name": "stdout",
     "output_type": "stream",
     "text": [
      "['desde', 'la', 'tercera', 'semana', 'de', 'setiembre', 'se', 'empezara', 'a', 'entregar', 'el', 'bono', 'soles']\n",
      "----------------------------------------------------------------------------------------------------\n",
      "['este', 'subsidio', 'tambien', 'conocido', 'como', 'yanapay', 'peru', 'tiene', 'como', 'objetivo', 'ser', 'una', 'ayuda', 'economica', 'para', 'aliviar', 'a', 'los', 'sectores', 'mas', 'vulnerables', 'ante', 'la', 'pandemia', 'de', 'coronavirus']\n",
      "----------------------------------------------------------------------------------------------------\n",
      "['este', 'bono', 'es', 'una', 'inyeccion', 'economica', 'universal', 'individualizada', 'que', 'a', 'diferencia', 'de', 'otros', 'subsidios', 'que', 'el', 'estado', 'ya', 'ha', 'venido', 'entregando', 'tiene', 'como', 'principal', 'caracteristica', 'que', 'sera', 'pagado', 'de', 'forma', 'personal', 'y', 'no', 'familiar']\n",
      "----------------------------------------------------------------------------------------------------\n",
      "['con', 'este', 'subsidio', 'mas', 'de', 'millones', 'de', 'personas', 'seran', 'beneficiadas', 'en', 'todo', 'el', 'peru']\n",
      "----------------------------------------------------------------------------------------------------\n",
      "['el', 'bono', 'se', 'otorgara', 'a', 'personas', 'mayores', 'de', 'edad', 'cuyos', 'ingresos', 'no', 'superen', 'los', 's', 'mensuales', 'y', 'que', 'formen', 'parte', 'de', 'hogares', 'en', 'condicion', 'de', 'pobreza', 'pobreza', 'extrema', 'y', 'vulnerabilidad', 'de', 'nuestro', 'pais']\n",
      "----------------------------------------------------------------------------------------------------\n",
      "['tambien', 'lo', 'recibiran', 'los', 'beneficiarios', 'de', 'los', 'programas', 'juntos', 'pension', 'y', 'contigo']\n",
      "----------------------------------------------------------------------------------------------------\n",
      "['para', 'ser', 'beneficiario', 'del', 'bono', 'hay', 'que', 'ser', 'mayor', 'de', 'edad', 'y', 'pertenecer', 'a', 'alguno', 'de', 'estos', 'grupos', 'seran', 'cuatro', 'los', 'grupos', 'beneficiarios', 'y', 'cada', 'uno', 'de', 'estos', 'tendra', 'una', 'fecha', 'a', 'partir', 'de', 'la', 'cual', 'podran', 'cobrar', 'el', 'bono']\n",
      "----------------------------------------------------------------------------------------------------\n",
      "['se', 'ha', 'determinado', 'que', 'este', 'sera', 'el', 'cronograma', 'de', 'pagos', 'segun', 'el', 'grupo', 'cabe', 'resaltar', 'que', 'las', 'personas', 'que', 'pertenecen', 'al', 'grupo', 'podran', 'recibir', 'el', 'bono', 'mediante', 'por', 'su', 'parte', 'las', 'personas', 'que', 'son', 'del', 'grupo', 'recibiran', 'el', 'subsidio', 'a', 'traves', 'de', 'la', 'atencion', 'por', 'ventanilla', 'del', 'banco', 'de', 'la', 'nacion']\n",
      "----------------------------------------------------------------------------------------------------\n",
      "['tras', 'conocerse', 'los', 'grupos', 'y', 'fechas', 'en', 'las', 'que', 'el', 'bono', 'sera', 'entregado', 'el', 'gobierno', 'tambien', 'ha', 'dado', 'a', 'conocer', 'las', 'modalidades', 'de', 'pago', 'con', 'la', 'que', 'se', 'pagara']\n",
      "----------------------------------------------------------------------------------------------------\n",
      "['cabe', 'aclarar', 'que', 'esta', 'se', 'ajustara', 'al', 'grupo', 'en', 'el', 'que', 'el', 'ciudadano', 'se', 'encuentre']\n",
      "----------------------------------------------------------------------------------------------------\n",
      "['aun', 'esta', 'pendiente', 'la', 'publicacion', 'del', 'link', 'enlace', 'o', 'portal', 'web', 'para', 'consultar', 'si', 'podra', 'acceder', 'o', 'no', 'a', 'este', 'subsidio']\n",
      "----------------------------------------------------------------------------------------------------\n",
      "['en', 'los', 'proximos', 'dias', 'se', 'dara', 'a', 'conocer', 'la', 'direccion', 'del', 'sitio', 'web', 'en', 'el', 'que', 'los', 'ciudadanos', 'podran', 'hacer', 'la', 'consulta', 'respectiva']\n",
      "----------------------------------------------------------------------------------------------------\n",
      "['este', 'subsidio', 'monetario', 'individual', 'de', 'soles', 'podra', 'ser', 'cobrado', 'hasta', 'el', 'de', 'abril', 'del', 'ano']\n",
      "----------------------------------------------------------------------------------------------------\n",
      "['despues', 'de', 'ese', 'dia', 'el', 'banco', 'de', 'la', 'nacion', 'y', 'las', 'entidades', 'financieras', 'que', 'recibieron', 'los', 'recursos', 'para', 'repartir', 'el', 'apoyo', 'financiero', 'deberan', 'retornar', 'el', 'dinero', 'a', 'las', 'arcas', 'del', 'gobierno']\n",
      "----------------------------------------------------------------------------------------------------\n"
     ]
    }
   ],
   "source": [
    "tokenizacion = [\n",
    "    [clean_text_1(_) for _ in nltk.word_tokenize(sentence) if len(clean_text_1(_)) > 0] for sentence in nltk.sent_tokenize(new)\n",
    "]\n",
    "\n",
    "for oracion in tokenizacion:\n",
    "    print(oracion)\n",
    "    print(\"-\"*100)"
   ]
  },
  {
   "cell_type": "markdown",
   "id": "e9c49696-5e14-4579-ba9a-d6f70a5d41a7",
   "metadata": {},
   "source": [
    "### QUITANDO STOPWORDS"
   ]
  },
  {
   "cell_type": "code",
   "execution_count": 8,
   "id": "818aba68-7a32-4591-8b8d-e41106360da8",
   "metadata": {},
   "outputs": [
    {
     "name": "stdout",
     "output_type": "stream",
     "text": [
      "['habiais', 'estuvo', 'seriais', 'algunos', 'tendrias', 'tendremos', 'suyos', 'fuesen', 'tenian', 'con', 'nosotras', 'estar', 'esa', 'ni', 'somos', 'vosotros', 'estabais', 'sere', 'un', 'seria', 'estos', 'tuvimos', 'del', 'una', 'le', 'yo', 'habras', 'habria', 'hayais', 'habre', 'se', 'esto', 'seamos', 'entre', 'eres', 'tened', 'tu', 'tuvieran', 'tuviese', 'estuviesen', 'sentidos', 'nos', 'seas', 'tuviste', 'tengan', 'sentida', 'han', 'hay', 'nada', 'eran', 'fueran', 'teniendo', 'no', 'lo', 'estara', 'os', 'habran', 'ese', 'vuestro', 'estabas', 'estuvieras', 'que', 'hubo', 'estarian', 'fue', 'o', 'fueras', 'poco', 'muy', 'fuiste', 'hubieras', 'mi', 'tenida', 'que', 'era', 'quienes', 'tenemos', 'tuvieseis', 'tuvieras', 'mas', 'tenido', 'eso', 'tuvisteis', 'hubieran', 'para', 'hayan', 'habia', 'fueseis', 'es', 'tengas', 'suya', 'sois', 'vosotras', 'hubierais', 'tendriais', 'esteis', 'tendrian', 'seais', 'estuvieran', 'tus', 'hayas', 'ante', 'por', 'fueses', 'hubieseis', 'estuviste', 'estuvieses', 'mucho', 'estuviera', 'sin', 'otra', 'habidas', 'son', 'mios', 'teniamos', 'estado', 'tienes', 'ella', 'tuvieramos', 'nosotros', 'estuvieramos', 'tendre', 'tengo', 'estuviese', 'estaban', 'estas', 'habrias', 'estuvierais', 'otro', 'hubisteis', 'fuimos', 'fueron', 'la', 'estados', 'tuya', 'vuestros', 'donde', 'teniais', 'les', 'el', 'estemos', 'me', 'si', 'estas', 'seras', 'ellos', 'cuando', 'serian', 'de', 'durante', 'hayamos', 'algunas', 'hasta', 'habian', 'vuestra', 'estuvieron', 'estariamos', 'tendras', 'tenia', 'mias', 'hubiese', 'sentido', 'seremos', 'tengais', 'sobre', 'tuyos', 'ha', 'al', 'esta', 'has', 'estuve', 'porque', 'nuestros', 'serias', 'ellas', 'estada', 'tenidas', 'tendra', 'antes', 'estamos', 'sera', 'eras', 'habiendo', 'fuese', 'muchos', 'habriais', 'estaba', 'habremos', 'sentidas', 'erais', 'fuisteis', 'esos', 'mia', 'habias', 'tuviesen', 'estuvimos', 'todo', 'tuyas', 'los', 'hubieron', 'sereis', 'habreis', 'estando', 'habida', 'hubieses', 'hemos', 'tienen', 'este', 'habido', 'eramos', 'pero', 'cual', 'su', 'estareis', 'habeis', 'estes', 'quien', 'otros', 'suyas', 'tuyo', 'otras', 'tanto', 'estuviesemos', 'nuestras', 'esten', 'he', 'todos', 'seran', 'nuestra', 'hubiera', 'unos', 'en', 'sentid', 'estaria', 'fuera', 'y', 'tendran', 'mi', 'hubieramos', 'estare', 'estaremos', 'te', 'tuvierais', 'uno', 'mis', 'tambien', 'tuvieron', 'estais', 'estuvisteis', 'tenidos', 'sus', 'haya', 'estarias', 'habidos', 'contra', 'estoy', 'nuestro', 'tuviesemos', 'el', 'sea', 'las', 'tenias', 'mio', 'estabamos', 'vuestras', 'seriamos', 'teneis', 'desde', 'estad', 'habra', 'siente', 'estuvieseis', 'tu', 'tendriamos', 'estan', 'tengamos', 'esta', 'sean', 'tuvo', 'suyo', 'soy', 'estaras', 'hubimos', 'ya', 'sintiendo', 'algo', 'tuviera', 'ti', 'tendria', 'hubiesen', 'estaran', 'habiamos', 'hubiesemos', 'como', 'habrian', 'estariais', 'este', 'fuerais', 'e', 'tuvieses', 'tiene', 'a', 'habriamos', 'tenga', 'fui', 'esas', 'tuve', 'fuesemos', 'hubiste', 'fueramos', 'hube', 'tendreis', 'estadas']\n"
     ]
    }
   ],
   "source": [
    "stopset_cleaned = [clean_text_1(word) for word in stopset]\n",
    "print(stopset_cleaned)"
   ]
  },
  {
   "cell_type": "code",
   "execution_count": 9,
   "id": "48650bc9-726c-41bd-bee7-b293448c2f3b",
   "metadata": {},
   "outputs": [
    {
     "name": "stdout",
     "output_type": "stream",
     "text": [
      "['tercera', 'semana', 'setiembre', 'empezara', 'entregar', 'bono', 'soles']\n",
      "----------------------------------------------------------------------------------------------------\n",
      "['subsidio', 'conocido', 'yanapay', 'peru', 'objetivo', 'ser', 'ayuda', 'economica', 'aliviar', 'sectores', 'vulnerables', 'pandemia', 'coronavirus']\n",
      "----------------------------------------------------------------------------------------------------\n",
      "['bono', 'inyeccion', 'economica', 'universal', 'individualizada', 'diferencia', 'subsidios', 'venido', 'entregando', 'principal', 'caracteristica', 'pagado', 'forma', 'personal', 'familiar']\n",
      "----------------------------------------------------------------------------------------------------\n",
      "['subsidio', 'millones', 'personas', 'beneficiadas', 'peru']\n",
      "----------------------------------------------------------------------------------------------------\n",
      "['bono', 'otorgara', 'personas', 'mayores', 'edad', 'cuyos', 'ingresos', 'superen', 's', 'mensuales', 'formen', 'parte', 'hogares', 'condicion', 'pobreza', 'pobreza', 'extrema', 'vulnerabilidad', 'pais']\n",
      "----------------------------------------------------------------------------------------------------\n",
      "['recibiran', 'beneficiarios', 'programas', 'juntos', 'pension', 'contigo']\n",
      "----------------------------------------------------------------------------------------------------\n",
      "['ser', 'beneficiario', 'bono', 'ser', 'mayor', 'edad', 'pertenecer', 'alguno', 'grupos', 'cuatro', 'grupos', 'beneficiarios', 'cada', 'fecha', 'partir', 'podran', 'cobrar', 'bono']\n",
      "----------------------------------------------------------------------------------------------------\n",
      "['determinado', 'cronograma', 'pagos', 'segun', 'grupo', 'cabe', 'resaltar', 'personas', 'pertenecen', 'grupo', 'podran', 'recibir', 'bono', 'mediante', 'parte', 'personas', 'grupo', 'recibiran', 'subsidio', 'traves', 'atencion', 'ventanilla', 'banco', 'nacion']\n",
      "----------------------------------------------------------------------------------------------------\n",
      "['tras', 'conocerse', 'grupos', 'fechas', 'bono', 'entregado', 'gobierno', 'dado', 'conocer', 'modalidades', 'pago', 'pagara']\n",
      "----------------------------------------------------------------------------------------------------\n",
      "['cabe', 'aclarar', 'ajustara', 'grupo', 'ciudadano', 'encuentre']\n",
      "----------------------------------------------------------------------------------------------------\n",
      "['aun', 'pendiente', 'publicacion', 'link', 'enlace', 'portal', 'web', 'consultar', 'podra', 'acceder', 'subsidio']\n",
      "----------------------------------------------------------------------------------------------------\n",
      "['proximos', 'dias', 'dara', 'conocer', 'direccion', 'sitio', 'web', 'ciudadanos', 'podran', 'hacer', 'consulta', 'respectiva']\n",
      "----------------------------------------------------------------------------------------------------\n",
      "['subsidio', 'monetario', 'individual', 'soles', 'podra', 'ser', 'cobrado', 'abril', 'ano']\n",
      "----------------------------------------------------------------------------------------------------\n",
      "['despues', 'dia', 'banco', 'nacion', 'entidades', 'financieras', 'recibieron', 'recursos', 'repartir', 'apoyo', 'financiero', 'deberan', 'retornar', 'dinero', 'arcas', 'gobierno']\n",
      "----------------------------------------------------------------------------------------------------\n"
     ]
    }
   ],
   "source": [
    "tokenizacion = [\n",
    "    [\n",
    "        clean_text_1(_) for _ in nltk.word_tokenize(sentence) \n",
    "                     if len(clean_text_1(_)) > 0 and clean_text_1(_) not in stopset_cleaned\n",
    "    ] for sentence in nltk.sent_tokenize(new)\n",
    "]\n",
    "\n",
    "for oracion in tokenizacion:\n",
    "    if len(oracion) <= 0:\n",
    "        continue\n",
    "\n",
    "    print(oracion)\n",
    "    print(\"-\"*100)"
   ]
  },
  {
   "cell_type": "code",
   "execution_count": null,
   "id": "345220b8-1562-4497-8b54-367a64680a01",
   "metadata": {},
   "outputs": [],
   "source": []
  },
  {
   "cell_type": "markdown",
   "id": "298c1f98-6360-41a0-bb0e-afe78069d5f9",
   "metadata": {},
   "source": [
    "### AGREGANDO STEM"
   ]
  },
  {
   "cell_type": "code",
   "execution_count": 10,
   "id": "af63506c-f6ce-4bbd-a7c7-137d5d077150",
   "metadata": {},
   "outputs": [
    {
     "data": {
      "text/plain": [
       "<nltk.stem.snowball.SnowballStemmer at 0x25ffcb951f0>"
      ]
     },
     "execution_count": 10,
     "metadata": {},
     "output_type": "execute_result"
    }
   ],
   "source": [
    "from nltk.stem import SnowballStemmer\n",
    "stemmer = SnowballStemmer('spanish')\n",
    "stemmer"
   ]
  },
  {
   "cell_type": "code",
   "execution_count": 11,
   "id": "312a9108-7778-44b6-bcff-0cc41270c631",
   "metadata": {},
   "outputs": [
    {
     "name": "stdout",
     "output_type": "stream",
     "text": [
      "['tercer', 'seman', 'setiembr', 'empez', 'entreg', 'bon', 'sol']\n",
      "----------------------------------------------------------------------------------------------------\n",
      "['subsidi', 'conoc', 'yanapay', 'peru', 'objet', 'ser', 'ayud', 'econom', 'alivi', 'sector', 'vulner', 'pandemi', 'coronavirus']\n",
      "----------------------------------------------------------------------------------------------------\n",
      "['bon', 'inyeccion', 'econom', 'universal', 'individualiz', 'diferent', 'subsidi', 'ven', 'entreg', 'principal', 'caracterist', 'pag', 'form', 'personal', 'famili']\n",
      "----------------------------------------------------------------------------------------------------\n",
      "['subsidi', 'millon', 'person', 'benefici', 'peru']\n",
      "----------------------------------------------------------------------------------------------------\n",
      "['bon', 'otorg', 'person', 'mayor', 'edad', 'cuy', 'ingres', 'super', 's', 'mensual', 'form', 'part', 'hogar', 'condicion', 'pobrez', 'pobrez', 'extrem', 'vulner', 'pais']\n",
      "----------------------------------------------------------------------------------------------------\n",
      "['recibir', 'beneficiari', 'program', 'junt', 'pension', 'contig']\n",
      "----------------------------------------------------------------------------------------------------\n",
      "['ser', 'beneficiari', 'bon', 'ser', 'mayor', 'edad', 'pertenec', 'algun', 'grup', 'cuatr', 'grup', 'beneficiari', 'cad', 'fech', 'part', 'podr', 'cobr', 'bon']\n",
      "----------------------------------------------------------------------------------------------------\n",
      "['determin', 'cronogram', 'pag', 'segun', 'grup', 'cab', 'resalt', 'person', 'pertenec', 'grup', 'podr', 'recib', 'bon', 'mediant', 'part', 'person', 'grup', 'recibir', 'subsidi', 'trav', 'atencion', 'ventanill', 'banc', 'nacion']\n",
      "----------------------------------------------------------------------------------------------------\n",
      "['tras', 'conoc', 'grup', 'fech', 'bon', 'entreg', 'gobiern', 'dad', 'conoc', 'modal', 'pag', 'pag']\n",
      "----------------------------------------------------------------------------------------------------\n",
      "['cab', 'aclar', 'ajust', 'grup', 'ciudadan', 'encuentr']\n",
      "----------------------------------------------------------------------------------------------------\n",
      "['aun', 'pendient', 'publicacion', 'link', 'enlac', 'portal', 'web', 'consult', 'podr', 'acced', 'subsidi']\n",
      "----------------------------------------------------------------------------------------------------\n",
      "['prox', 'dias', 'dar', 'conoc', 'direccion', 'siti', 'web', 'ciudadan', 'podr', 'hac', 'consult', 'respect']\n",
      "----------------------------------------------------------------------------------------------------\n",
      "['subsidi', 'monetari', 'individual', 'sol', 'podr', 'ser', 'cobr', 'abril', 'ano']\n",
      "----------------------------------------------------------------------------------------------------\n",
      "['despu', 'dia', 'banc', 'nacion', 'entidad', 'financ', 'recib', 'recurs', 'repart', 'apoy', 'financier', 'deber', 'retorn', 'diner', 'arcas', 'gobiern']\n",
      "----------------------------------------------------------------------------------------------------\n"
     ]
    }
   ],
   "source": [
    "tokenizacion = [\n",
    "    [\n",
    "        stemmer.stem(clean_text_1(_)) for _ in nltk.word_tokenize(sentence) \n",
    "                     if len(clean_text_1(_)) > 0 and clean_text_1(_) not in stopset_cleaned\n",
    "    ] for sentence in nltk.sent_tokenize(new)\n",
    "]\n",
    "\n",
    "for oracion in tokenizacion:\n",
    "    if len(oracion) <= 0:\n",
    "        continue\n",
    "\n",
    "    print(oracion)\n",
    "    print(\"-\"*100)"
   ]
  },
  {
   "cell_type": "code",
   "execution_count": null,
   "id": "088ed7bf-a518-4d09-89a9-9273dc7351ae",
   "metadata": {},
   "outputs": [],
   "source": []
  },
  {
   "cell_type": "code",
   "execution_count": null,
   "id": "3d1f3d76-135f-4f26-8672-c4c220c83eb0",
   "metadata": {},
   "outputs": [],
   "source": []
  },
  {
   "cell_type": "markdown",
   "id": "a1193442-9a4c-4de7-88bd-0ac23ae00940",
   "metadata": {},
   "source": [
    "### LEMMATIZACION"
   ]
  },
  {
   "cell_type": "code",
   "execution_count": 12,
   "id": "d288e809-c653-4b36-aacb-11e0b9f42143",
   "metadata": {},
   "outputs": [],
   "source": [
    "#!pip install spacy                                  -- descomentar la 1era vez"
   ]
  },
  {
   "cell_type": "code",
   "execution_count": 13,
   "id": "308611e7-867c-45ec-b241-0ec2bf1945ef",
   "metadata": {},
   "outputs": [],
   "source": [
    "#!pip install stanza                                 -- descomentar la 1era vez"
   ]
  },
  {
   "cell_type": "code",
   "execution_count": 14,
   "id": "d9b4ae0d-3c65-458e-b1fe-715c15d13622",
   "metadata": {},
   "outputs": [],
   "source": [
    "#!pip install \"spacy-stanza<0.3.0\" --user            -- descomentar la 1era vez"
   ]
  },
  {
   "cell_type": "code",
   "execution_count": 15,
   "id": "128d54bc-fa50-48b7-a8af-a5d612b4b1fd",
   "metadata": {},
   "outputs": [],
   "source": [
    "import stanza"
   ]
  },
  {
   "cell_type": "code",
   "execution_count": 16,
   "id": "22e2ed8c-6b42-4045-af67-1bfe6a365d9c",
   "metadata": {},
   "outputs": [],
   "source": [
    "#stanza.download('es')                                -- descomentar la 1era vez"
   ]
  },
  {
   "cell_type": "code",
   "execution_count": 17,
   "id": "330615fc-1e9c-4800-a1cf-35a45d1f0838",
   "metadata": {},
   "outputs": [],
   "source": [
    "from spacy_stanza import StanzaLanguage"
   ]
  },
  {
   "cell_type": "code",
   "execution_count": 18,
   "id": "f569839b-1e14-4b84-b27b-dcc9e1e6ee57",
   "metadata": {},
   "outputs": [
    {
     "name": "stderr",
     "output_type": "stream",
     "text": [
      "2021-09-12 10:04:46 INFO: Loading these models for language: es (Spanish):\n",
      "=======================\n",
      "| Processor | Package |\n",
      "-----------------------\n",
      "| tokenize  | ancora  |\n",
      "| mwt       | ancora  |\n",
      "| pos       | ancora  |\n",
      "| lemma     | ancora  |\n",
      "| depparse  | ancora  |\n",
      "| ner       | conll02 |\n",
      "=======================\n",
      "\n",
      "2021-09-12 10:04:46 INFO: Use device: cpu\n",
      "2021-09-12 10:04:46 INFO: Loading: tokenize\n",
      "2021-09-12 10:04:46 INFO: Loading: mwt\n",
      "2021-09-12 10:04:46 INFO: Loading: pos\n",
      "2021-09-12 10:04:46 INFO: Loading: lemma\n",
      "2021-09-12 10:04:46 INFO: Loading: depparse\n",
      "2021-09-12 10:04:47 INFO: Loading: ner\n",
      "2021-09-12 10:04:48 INFO: Done loading processors!\n"
     ]
    }
   ],
   "source": [
    "snlp = stanza.Pipeline(lang=\"es\")\n",
    "nlp = StanzaLanguage(snlp)"
   ]
  },
  {
   "cell_type": "code",
   "execution_count": 28,
   "id": "5b1dc0d4-59c3-4cbc-a4a5-74b81db27145",
   "metadata": {},
   "outputs": [
    {
     "name": "stdout",
     "output_type": "stream",
     "text": [
      "['tercero', 'semana', 'setiembre', 'empezar', 'entregar', 'bono', 'sol']\n",
      "----------------------------------------------------------------------------------------------------\n",
      "['subsidio', 'conocido', 'yanapar', 'peru', 'objetivo', 'ser', 'ayuda', 'economico', 'aliviar', 'sector', 'vulnerable', 'pandemia', 'coronaviru']\n",
      "----------------------------------------------------------------------------------------------------\n",
      "['bono', 'inyeccion', 'economico', 'universal', 'individualizado', 'diferencia', 'subsidio', 'venir', 'entregar', 'principal', 'caracteristica', 'pagado', 'forma', 'personal', 'familiar']\n",
      "----------------------------------------------------------------------------------------------------\n",
      "['subsidio', 'millón', 'persona', 'beneficiado', 'peru']\n",
      "----------------------------------------------------------------------------------------------------\n",
      "['bono', 'otorgar', 'persona', 'mayor', 'edad', 'cuyo', 'ingreso', 'superar', 's', 'mensual', 'formar', 'parte', 'hogar', 'condicion', 'pobreza', 'pobreza', 'extremo', 'vulnerabilidad', 'pais']\n",
      "----------------------------------------------------------------------------------------------------\n",
      "['recibir', 'beneficiario', 'programa', 'junto', 'pension', 'tú']\n",
      "----------------------------------------------------------------------------------------------------\n",
      "['ser', 'beneficiario', 'bono', 'ser', 'mayor', 'edad', 'pertenecer', 'alguno', 'grupo', 'cuatro', 'grupo', 'beneficiario', 'cada', 'fecha', 'partir', 'poder', 'cobrar', 'bono']\n",
      "----------------------------------------------------------------------------------------------------\n",
      "['determinado', 'cronograma', 'pago', 'segun', 'grupo', 'caber', 'resaltar', 'persona', 'pertenecer', 'grupo', 'poder', 'recibir', 'bono', 'mediante', 'parte', 'persona', 'grupo', 'recibir', 'subsidio', 'trave', 'atencion', 'ventanilla', 'banco', 'nacion']\n",
      "----------------------------------------------------------------------------------------------------\n",
      "['tras', 'conocerél', 'grupo', 'fecha', 'bono', 'entregado', 'gobierno', 'dado', 'conocer', 'modalidad', 'pago', 'pagar']\n",
      "----------------------------------------------------------------------------------------------------\n",
      "['caber', 'aclarar', 'ajustar', 'grupo', 'ciudadano', 'encontrar']\n",
      "----------------------------------------------------------------------------------------------------\n",
      "['aun', 'pendiente', 'publicacion', 'link', 'enlace', 'portal', 'web', 'consultar', 'poder', 'acceder', 'subsidio']\n",
      "----------------------------------------------------------------------------------------------------\n",
      "['proximo', 'dia', 'dar', 'conocer', 'direccion', 'sitio', 'web', 'ciudadano', 'poder', 'hacer', 'consulta', 'respectivo']\n",
      "----------------------------------------------------------------------------------------------------\n",
      "['subsidio', 'monetario', 'individual', 'sol', 'poder', 'ser', 'cobrar', 'abril', 'ano']\n",
      "----------------------------------------------------------------------------------------------------\n",
      "['despues', 'dia', 'banco', 'nacion', 'entidad', 'financiero', 'recibir', 'recurso', 'repartir', 'apoyo', 'financiero', 'deber', 'retornar', 'dinero', 'arca', 'gobierno']\n",
      "----------------------------------------------------------------------------------------------------\n"
     ]
    }
   ],
   "source": [
    "tokenizacion = [\n",
    "    [\n",
    "       ''.join([token.lemma_ for token in nlp(clean_text_1(_))]) for _ in nltk.word_tokenize(sentence) \n",
    "                     if len(clean_text_1(_)) > 0 and clean_text_1(_) not in stopset_cleaned\n",
    "    ] for sentence in nltk.sent_tokenize(new)\n",
    "]\n",
    "\n",
    "for oracion in tokenizacion:\n",
    "    if len(oracion) <= 0:\n",
    "        continue\n",
    "\n",
    "    print(oracion)\n",
    "    print(\"-\"*100)"
   ]
  },
  {
   "cell_type": "code",
   "execution_count": null,
   "id": "cb8d3cb6-e52c-404c-84a7-9058658c6212",
   "metadata": {},
   "outputs": [],
   "source": []
  },
  {
   "cell_type": "code",
   "execution_count": null,
   "id": "59b47dd4-010b-4d6d-8fa8-a94cd7990eed",
   "metadata": {},
   "outputs": [],
   "source": []
  },
  {
   "cell_type": "markdown",
   "id": "2ae75572-4808-4f7e-b2ce-48b5c4b277fb",
   "metadata": {},
   "source": [
    "### POS TAGGING"
   ]
  },
  {
   "cell_type": "code",
   "execution_count": 30,
   "id": "c17d6476-f71a-45b2-9c20-0901d83ff2d0",
   "metadata": {},
   "outputs": [
    {
     "name": "stdout",
     "output_type": "stream",
     "text": [
      "[('ADJ', 'Gender=Fem|NumType=Ord|Number=Sing'), ('NOUN', 'Gender=Fem|Number=Sing'), ('NOUN', 'AdvType=Tim'), ('VERB', 'Mood=Sub|Number=Sing|Person=3|Tense=Imp|VerbForm=Fin'), ('VERB', 'VerbForm=Inf'), ('NOUN', 'Gender=Masc|Number=Sing'), ('NOUN', 'Gender=Masc|Number=Plur')]\n",
      "----------------------------------------------------------------------------------------------------\n",
      "[('NOUN', 'Gender=Masc|Number=Sing'), ('ADJ', 'Gender=Masc|Number=Sing|VerbForm=Part'), ('VERB', 'Mood=Ind|Number=Sing|Person=3|Tense=Pres|VerbForm=Fin'), ('NOUN', 'Gender=Masc|Number=Sing'), ('NOUN', 'Gender=Masc|Number=Sing'), ('AUX', 'VerbForm=Inf'), ('NOUN', 'Gender=Fem|Number=Sing'), ('ADJ', 'Gender=Fem|Number=Sing'), ('VERB', 'VerbForm=Inf'), ('NOUN', 'Gender=Masc|Number=Plur'), ('ADJ', 'Number=Plur'), ('NOUN', 'Gender=Fem|Number=Sing'), ('NOUN', 'Gender=Masc')]\n",
      "----------------------------------------------------------------------------------------------------\n",
      "[('NOUN', 'Gender=Masc|Number=Sing'), ('NOUN', 'Gender=Fem|Number=Sing'), ('ADJ', 'Gender=Fem|Number=Sing'), ('ADJ', 'Number=Sing'), ('ADJ', 'Gender=Fem|Number=Sing|VerbForm=Part'), ('NOUN', 'Gender=Fem|Number=Sing'), ('NOUN', 'Gender=Masc|Number=Plur'), ('ADJ', 'Gender=Masc|Number=Sing|VerbForm=Part'), ('VERB', 'VerbForm=Ger'), ('ADJ', 'Number=Sing'), ('NOUN', 'Gender=Fem|Number=Sing'), ('ADJ', 'Gender=Masc|Number=Sing|VerbForm=Part'), ('NOUN', 'Gender=Fem|Number=Sing'), ('ADJ', 'Number=Sing'), ('ADJ', 'Number=Sing')]\n",
      "----------------------------------------------------------------------------------------------------\n",
      "[('NOUN', 'Gender=Masc|Number=Sing'), ('NOUN', 'Gender=Masc|Number=Plur'), ('NOUN', 'Gender=Fem|Number=Plur'), ('ADJ', 'Gender=Fem|Number=Plur|VerbForm=Part'), ('NOUN', 'Gender=Masc|Number=Sing')]\n",
      "----------------------------------------------------------------------------------------------------\n",
      "[('NOUN', 'Gender=Masc|Number=Sing'), ('VERB', 'Mood=Sub|Number=Sing|Person=3|Tense=Imp|VerbForm=Fin'), ('NOUN', 'Gender=Fem|Number=Plur'), ('ADJ', 'Degree=Cmp|Number=Plur'), ('NOUN', 'Gender=Fem|Number=Sing'), ('PRON', 'Gender=Masc|Number=Plur|Poss=Yes|PronType=Int,Rel'), ('NOUN', 'Gender=Masc|Number=Plur'), ('VERB', 'Mood=Imp|Number=Plur|Person=3|VerbForm=Fin'), ('NOUN', 'Gender=Fem|Number=Sing'), ('ADJ', 'Number=Plur'), ('VERB', 'Mood=Imp|Number=Plur|Person=3|VerbForm=Fin'), ('NOUN', 'Gender=Fem|Number=Sing'), ('NOUN', 'Gender=Masc|Number=Plur'), ('NOUN', 'Gender=Fem|Number=Sing'), ('NOUN', 'Gender=Fem|Number=Sing'), ('NOUN', 'Gender=Fem|Number=Sing'), ('ADJ', 'Gender=Fem|Number=Sing'), ('NOUN', 'Gender=Fem|Number=Sing'), ('NOUN', 'Gender=Masc|Number=Sing')]\n",
      "----------------------------------------------------------------------------------------------------\n",
      "[('VERB', 'Mood=Sub|Number=Plur|Person=3|Tense=Pres|VerbForm=Fin'), ('NOUN', 'Gender=Masc|Number=Plur'), ('NOUN', 'Gender=Masc|Number=Plur'), ('ADJ', 'Gender=Masc|Number=Plur'), ('NOUN', 'Gender=Fem|Number=Sing'), ('PRON', 'Case=Com|Number=Sing|Person=2|PronType=Prs')]\n",
      "----------------------------------------------------------------------------------------------------\n",
      "[('AUX', 'VerbForm=Inf'), ('NOUN', 'Gender=Masc|Number=Sing'), ('NOUN', 'Gender=Masc|Number=Sing'), ('AUX', 'VerbForm=Inf'), ('ADJ', 'Degree=Cmp|Number=Sing'), ('NOUN', 'Gender=Fem|Number=Sing'), ('VERB', 'VerbForm=Inf'), ('PRON', 'Gender=Masc|Number=Sing|PronType=Ind'), ('NOUN', 'Gender=Masc|Number=Plur'), ('NUM', 'NumType=Card|Number=Plur'), ('NOUN', 'Gender=Masc|Number=Plur'), ('NOUN', 'Gender=Masc|Number=Plur'), ('DET', 'Number=Sing|PronType=Tot'), ('NOUN', 'Gender=Fem|Number=Sing'), ('NOUN', 'Number=Sing'), ('VERB', 'Mood=Ind|Number=Plur|Person=3|Tense=Pres|VerbForm=Fin'), ('VERB', 'VerbForm=Inf'), ('NOUN', 'Gender=Masc|Number=Sing')]\n",
      "----------------------------------------------------------------------------------------------------\n",
      "[('ADJ', 'Gender=Masc|Number=Sing|VerbForm=Part'), ('NOUN', 'Gender=Masc|Number=Sing'), ('NOUN', 'Gender=Masc|Number=Plur'), ('PUNCT', 'PunctType=Peri'), ('NOUN', 'Gender=Masc|Number=Sing'), ('VERB', 'Mood=Ind|Number=Sing|Person=3|Tense=Pres|VerbForm=Fin'), ('VERB', 'VerbForm=Inf'), ('NOUN', 'Gender=Fem|Number=Plur'), ('VERB', 'Mood=Ind|Number=Plur|Person=3|Tense=Pres|VerbForm=Fin'), ('NOUN', 'Gender=Masc|Number=Sing'), ('VERB', 'Mood=Ind|Number=Plur|Person=3|Tense=Pres|VerbForm=Fin'), ('VERB', 'VerbForm=Inf'), ('NOUN', 'Gender=Masc|Number=Sing'), ('ADP', ''), ('NOUN', 'Gender=Fem|Number=Sing'), ('NOUN', 'Gender=Fem|Number=Plur'), ('NOUN', 'Gender=Masc|Number=Sing'), ('VERB', 'Mood=Sub|Number=Plur|Person=3|Tense=Pres|VerbForm=Fin'), ('NOUN', 'Gender=Masc|Number=Sing'), ('NOUN', 'Gender=Fem|Number=Sing'), ('NOUN', 'Gender=Fem|Number=Sing'), ('NOUN', 'Gender=Fem|Number=Sing'), ('NOUN', 'Gender=Masc|Number=Sing'), ('NOUN', 'Gender=Fem|Number=Sing')]\n",
      "----------------------------------------------------------------------------------------------------\n",
      "[('ADP', ''), ('VERB', 'VerbForm=Inf'), ('NOUN', 'Gender=Masc|Number=Plur'), ('NOUN', 'Gender=Fem|Number=Plur'), ('NOUN', 'Gender=Masc|Number=Sing'), ('ADJ', 'Gender=Masc|Number=Sing|VerbForm=Part'), ('NOUN', 'Gender=Masc|Number=Sing'), ('NOUN', ''), ('VERB', 'VerbForm=Inf'), ('NOUN', 'Gender=Fem|Number=Plur'), ('NOUN', 'Gender=Masc|Number=Sing'), ('VERB', 'Mood=Sub|Number=Sing|Person=3|Tense=Imp|VerbForm=Fin')]\n",
      "----------------------------------------------------------------------------------------------------\n",
      "[('VERB', 'Mood=Ind|Number=Sing|Person=3|Tense=Pres|VerbForm=Fin'), ('VERB', 'VerbForm=Inf'), ('VERB', 'Mood=Sub|Number=Sing|Person=3|Tense=Imp|VerbForm=Fin'), ('NOUN', 'Gender=Masc|Number=Sing'), ('NOUN', 'Gender=Masc|Number=Sing'), ('VERB', 'Mood=Sub|Number=Sing|Person=3|Tense=Pres|VerbForm=Fin')]\n",
      "----------------------------------------------------------------------------------------------------\n",
      "[('ADV', ''), ('ADJ', 'Number=Sing'), ('NOUN', 'Gender=Fem|Number=Sing'), ('NOUN', 'Gender=Masc|Number=Sing'), ('NOUN', 'Gender=Masc|Number=Sing'), ('NOUN', 'Gender=Masc|Number=Sing'), ('NOUN', 'Gender=Fem|Number=Sing'), ('VERB', 'VerbForm=Inf'), ('VERB', 'Mood=Ind|Number=Sing|Person=3|Tense=Pres|VerbForm=Fin'), ('VERB', 'VerbForm=Inf'), ('NOUN', 'Gender=Masc|Number=Sing')]\n",
      "----------------------------------------------------------------------------------------------------\n",
      "[('ADJ', 'Gender=Masc|Number=Plur'), ('NOUN', 'Gender=Masc|Number=Plur'), ('VERB', 'Mood=Ind|Number=Sing|Person=3|Tense=Pres|VerbForm=Fin'), ('VERB', 'VerbForm=Inf'), ('NOUN', 'Gender=Fem|Number=Sing'), ('NOUN', 'Gender=Masc|Number=Sing'), ('NOUN', 'Gender=Fem|Number=Sing'), ('NOUN', 'Gender=Masc|Number=Plur'), ('VERB', 'Mood=Ind|Number=Plur|Person=3|Tense=Pres|VerbForm=Fin'), ('VERB', 'VerbForm=Inf'), ('NOUN', 'Gender=Fem|Number=Sing'), ('ADJ', 'Gender=Fem|Number=Sing')]\n",
      "----------------------------------------------------------------------------------------------------\n",
      "[('NOUN', 'Gender=Masc|Number=Sing'), ('ADJ', 'Gender=Masc|Number=Sing'), ('ADJ', 'Number=Sing'), ('NOUN', 'Gender=Masc|Number=Plur'), ('VERB', 'Mood=Ind|Number=Sing|Person=3|Tense=Pres|VerbForm=Fin'), ('AUX', 'VerbForm=Inf'), ('ADJ', 'Gender=Masc|Number=Sing|VerbForm=Part'), ('NOUN', 'AdvType=Tim'), ('NOUN', 'Gender=Masc|Number=Sing')]\n",
      "----------------------------------------------------------------------------------------------------\n",
      "[('PUNCT', 'PunctType=Peri'), ('NOUN', 'Gender=Masc|Number=Sing'), ('NOUN', 'Gender=Masc|Number=Sing'), ('NOUN', 'Gender=Fem|Number=Sing'), ('NOUN', 'Gender=Fem|Number=Plur'), ('ADJ', 'Gender=Fem|Number=Plur'), ('VERB', 'Mood=Ind|Number=Plur|Person=3|Tense=Past|VerbForm=Fin'), ('NOUN', 'Gender=Masc|Number=Plur'), ('VERB', 'VerbForm=Inf'), ('NOUN', 'Gender=Masc|Number=Sing'), ('NOUN', 'Gender=Masc|Number=Sing'), ('AUX', 'Mood=Sub|Number=Plur|Person=3|Tense=Pres|VerbForm=Fin'), ('VERB', 'VerbForm=Inf'), ('NOUN', 'Gender=Masc|Number=Sing'), ('NOUN', 'Gender=Fem|Number=Plur'), ('NOUN', 'Gender=Masc|Number=Sing')]\n",
      "----------------------------------------------------------------------------------------------------\n"
     ]
    }
   ],
   "source": [
    "tokenizacion = [\n",
    "    [\n",
    "       [(token.pos_, token.tag_) for token in nlp(clean_text_1(_))][0] for _ in nltk.word_tokenize(sentence) \n",
    "                     if len(clean_text_1(_)) > 0 and clean_text_1(_) not in stopset_cleaned\n",
    "    ] for sentence in nltk.sent_tokenize(new)\n",
    "]\n",
    "\n",
    "for oracion in tokenizacion:\n",
    "    if len(oracion) <= 0:\n",
    "        continue\n",
    "\n",
    "    print(oracion)\n",
    "    print(\"-\"*100)"
   ]
  },
  {
   "cell_type": "markdown",
   "id": "ea015685-e8a3-4573-b6d8-3c397b67238e",
   "metadata": {},
   "source": [
    "Graficando"
   ]
  },
  {
   "cell_type": "code",
   "execution_count": 33,
   "id": "8dc0cb93-507a-4cae-8c49-30926f9170b0",
   "metadata": {},
   "outputs": [
    {
     "data": {
      "text/plain": [
       "{'ADJ': 27,\n",
       " 'NOUN': 95,\n",
       " 'VERB': 36,\n",
       " 'AUX': 5,\n",
       " 'PRON': 3,\n",
       " 'NUM': 1,\n",
       " 'DET': 1,\n",
       " 'PUNCT': 2,\n",
       " 'ADP': 2,\n",
       " 'ADV': 1}"
      ]
     },
     "execution_count": 33,
     "metadata": {},
     "output_type": "execute_result"
    }
   ],
   "source": [
    "conteo = {}\n",
    "\n",
    "pos = [\n",
    "    [\n",
    "       [token.pos_ for token in nlp(clean_text_1(_))][0] for _ in nltk.word_tokenize(sentence) \n",
    "                     if len(clean_text_1(_)) > 0 and clean_text_1(_) not in stopset_cleaned\n",
    "    ] for sentence in nltk.sent_tokenize(new)\n",
    "]\n",
    "\n",
    "for secuencia in pos:\n",
    "    for pos_ in secuencia:\n",
    "        if pos_ not in conteo:\n",
    "            conteo[pos_] = 1\n",
    "        else:\n",
    "            conteo[pos_] += 1\n",
    "            \n",
    "            \n",
    "conteo"
   ]
  },
  {
   "cell_type": "code",
   "execution_count": 45,
   "id": "9cb5346a-2315-4e04-b301-2c886cdf5558",
   "metadata": {},
   "outputs": [
    {
     "data": {
      "text/plain": [
       "<AxesSubplot:ylabel='pos'>"
      ]
     },
     "execution_count": 45,
     "metadata": {},
     "output_type": "execute_result"
    },
    {
     "data": {
      "image/png": "[encoded data removed]",
      "text/plain": [
       "<Figure size 432x288 with 1 Axes>"
      ]
     },
     "metadata": {
      "needs_background": "light"
     },
     "output_type": "display_data"
    }
   ],
   "source": [
    "df = pd.DataFrame(conteo.items())\n",
    "df.columns = ['pos', 'conteo']\n",
    "df = df.sort_values(by=['conteo'], ascending=True)\n",
    "df = df.set_index('pos')\n",
    "df.plot(kind='barh')"
   ]
  },
  {
   "cell_type": "code",
   "execution_count": null,
   "id": "b851697b-1ae7-4edc-b309-1b5ffda7ffeb",
   "metadata": {},
   "outputs": [],
   "source": []
  }
 ],
 "metadata": {
  "kernelspec": {
   "display_name": "Python 3",
   "language": "python",
   "name": "python3"
  },
  "language_info": {
   "codemirror_mode": {
    "name": "ipython",
    "version": 3
   },
   "file_extension": ".py",
   "mimetype": "text/x-python",
   "name": "python",
   "nbconvert_exporter": "python",
   "pygments_lexer": "ipython3",
   "version": "3.8.5"
  }
 },
 "nbformat": 4,
 "nbformat_minor": 5
}
