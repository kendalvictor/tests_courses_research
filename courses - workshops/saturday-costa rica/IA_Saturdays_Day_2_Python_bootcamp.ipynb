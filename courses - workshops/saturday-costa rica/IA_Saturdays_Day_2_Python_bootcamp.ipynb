{
  "nbformat": 4,
  "nbformat_minor": 0,
  "metadata": {
    "colab": {
      "name": "IA_Saturdays_Day_2_Python_bootcamp.ipynb",
      "provenance": [],
      "collapsed_sections": []
    },
    "kernelspec": {
      "name": "python3",
      "display_name": "Python 3"
    }
  },
  "cells": [
    {
      "cell_type": "markdown",
      "metadata": {
        "id": "3LW1xIqH3Eyk",
        "colab_type": "text"
      },
      "source": [
        "# **Python for data science and data analysis from scratch**\n",
        "\n"
      ]
    },
    {
      "cell_type": "markdown",
      "metadata": {
        "id": "g5BY35yn3FcE",
        "colab_type": "text"
      },
      "source": [
        "\n",
        "# **Visualización de datos**\n",
        "\n",
        "\n",
        "Librerías que utilizaremos hoy:\n",
        "\n",
        "\n",
        "\n",
        "\n",
        "## **Pandas**\n",
        "Ofrece estructuras de datos y operaciones para manipular tablas numéricas y series temporales.\n",
        "\n",
        "---\n",
        "\n",
        "---\n",
        "\n",
        "## **Seaborn**\n",
        "Librería para crear visualizaciones y gráficas estáticas, animadas e interactivas.\n",
        "\n",
        "---\n",
        "\n",
        "---\n"
      ]
    },
    {
      "cell_type": "code",
      "metadata": {
        "id": "Zy60azGgCvfH",
        "colab_type": "code",
        "outputId": "9ceb4563-ef90-4b6b-832a-05cab3ecc45f",
        "colab": {
          "base_uri": "https://localhost:8080/",
          "height": 71
        }
      },
      "source": [
        "import seaborn as sns\n",
        "\n",
        "import pandas as pd"
      ],
      "execution_count": 0,
      "outputs": [
        {
          "output_type": "stream",
          "text": [
            "/usr/local/lib/python3.6/dist-packages/statsmodels/tools/_testing.py:19: FutureWarning: pandas.util.testing is deprecated. Use the functions in the public API at pandas.testing instead.\n",
            "  import pandas.util.testing as tm\n"
          ],
          "name": "stderr"
        }
      ]
    },
    {
      "cell_type": "markdown",
      "metadata": {
        "id": "Co0bbDbH_mZX",
        "colab_type": "text"
      },
      "source": [
        "\n",
        "\n",
        "---\n",
        "\n",
        "---\n",
        "\n",
        "La visualización de datos es una representación gráfica de la información. \n",
        "\n",
        "Mediante el uso de elementos visuales, como gráficos y mapas, la visualización de datos ofrece una manera accesible para detectar y comprender las tendencias, los valores atípicos y los patrones en los datos.\n",
        "\n",
        "\n",
        "![Titanic](https://canalhistoria.es/wp-content/uploads/2016/05/1.Portada.jpg)\n",
        "\n",
        "Para esta sesión usaremos un dataset que contiene información general de los pasajeros del Titanic (género, edad, tipo de boleto, etc), con estos datos podemos empezar a formularnos preguntas que vamos a responder más adelante.\n",
        "\n",
        "---\n",
        "\n",
        "---\n"
      ]
    },
    {
      "cell_type": "markdown",
      "metadata": {
        "id": "40_u4mmu_j1n",
        "colab_type": "text"
      },
      "source": [
        "Primer paso, leer los datos:"
      ]
    },
    {
      "cell_type": "code",
      "metadata": {
        "id": "LEeNfi1nAQIF",
        "colab_type": "code",
        "outputId": "3439a0c7-0bf1-4b86-e249-932670c38a19",
        "colab": {
          "base_uri": "https://localhost:8080/",
          "height": 1000
        }
      },
      "source": [
        "# ventajas de usar librerias\n",
        "import codecs\n",
        "from contextlib import closing\n",
        "import csv\n",
        "import requests\n",
        "\n",
        "url = 'https://titanic-data-set.s3.amazonaws.com/test.csv'\n",
        "\n",
        "stream = requests.get(url, stream=True)\n",
        "with closing(stream) as r:\n",
        "    lines = r.iter_lines()\n",
        "    decoded = codecs.iterdecode(lines, 'utf-8')\n",
        "    reader = csv.reader(decoded)\n",
        "    for row in reader:\n",
        "        print(row)"
      ],
      "execution_count": 0,
      "outputs": [
        {
          "output_type": "stream",
          "text": [
            "['PassengerId', 'Pclass', 'Name', 'Sex', 'Age', 'SibSp', 'Parch', 'Ticket', 'Fare', 'Cabin', 'Embarked']\n",
            "['892', '3', 'Kelly, Mr. James', 'male', '34.5', '0', '0', '330911', '7.8292', '', 'Q']\n",
            "['893', '3', 'Wilkes, Mrs. James (Ellen Needs)', 'female', '47', '1', '0', '363272', '7', '', 'S']\n",
            "['894', '2', 'Myles, Mr. Thomas Francis', 'male', '62', '0', '0', '240276', '9.6875', '', 'Q']\n",
            "['895', '3', 'Wirz, Mr. Albert', 'male', '27', '0', '0', '315154', '8.6625', '', 'S']\n",
            "['896', '3', 'Hirvonen, Mrs. Alexander (Helga E Lindqvist)', 'female', '22', '1', '1', '3101298', '12.2875', '', 'S']\n",
            "['897', '3', 'Svensson, Mr. Johan Cervin', 'male', '14', '0', '0', '7538', '9.225', '', 'S']\n",
            "['898', '3', 'Connolly, Miss. Kate', 'female', '30', '0', '0', '330972', '7.6292', '', 'Q']\n",
            "['899', '2', 'Caldwell, Mr. Albert Francis', 'male', '26', '1', '1', '248738', '29', '', 'S']\n",
            "['900', '3', 'Abrahim, Mrs. Joseph (Sophie Halaut Easu)', 'female', '18', '0', '0', '2657', '7.2292', '', 'C']\n",
            "['901', '3', 'Davies, Mr. John Samuel', 'male', '21', '2', '0', 'A/4 48871', '24.15', '', 'S']\n",
            "['902', '3', 'Ilieff, Mr. Ylio', 'male', '', '0', '0', '349220', '7.8958', '', 'S']\n",
            "['903', '1', 'Jones, Mr. Charles Cresson', 'male', '46', '0', '0', '694', '26', '', 'S']\n",
            "['904', '1', 'Snyder, Mrs. John Pillsbury (Nelle Stevenson)', 'female', '23', '1', '0', '21228', '82.2667', 'B45', 'S']\n",
            "['905', '2', 'Howard, Mr. Benjamin', 'male', '63', '1', '0', '24065', '26', '', 'S']\n",
            "['906', '1', 'Chaffee, Mrs. Herbert Fuller (Carrie Constance Toogood)', 'female', '47', '1', '0', 'W.E.P. 5734', '61.175', 'E31', 'S']\n",
            "['907', '2', 'del Carlo, Mrs. Sebastiano (Argenia Genovesi)', 'female', '24', '1', '0', 'SC/PARIS 2167', '27.7208', '', 'C']\n",
            "['908', '2', 'Keane, Mr. Daniel', 'male', '35', '0', '0', '233734', '12.35', '', 'Q']\n",
            "['909', '3', 'Assaf, Mr. Gerios', 'male', '21', '0', '0', '2692', '7.225', '', 'C']\n",
            "['910', '3', 'Ilmakangas, Miss. Ida Livija', 'female', '27', '1', '0', 'STON/O2. 3101270', '7.925', '', 'S']\n",
            "['911', '3', 'Assaf Khalil, Mrs. Mariana (Miriam\")\"', 'female', '45', '0', '0', '2696', '7.225', '', 'C']\n",
            "['912', '1', 'Rothschild, Mr. Martin', 'male', '55', '1', '0', 'PC 17603', '59.4', '', 'C']\n",
            "['913', '3', 'Olsen, Master. Artur Karl', 'male', '9', '0', '1', 'C 17368', '3.1708', '', 'S']\n",
            "['914', '1', 'Flegenheim, Mrs. Alfred (Antoinette)', 'female', '', '0', '0', 'PC 17598', '31.6833', '', 'S']\n",
            "['915', '1', 'Williams, Mr. Richard Norris II', 'male', '21', '0', '1', 'PC 17597', '61.3792', '', 'C']\n",
            "['916', '1', 'Ryerson, Mrs. Arthur Larned (Emily Maria Borie)', 'female', '48', '1', '3', 'PC 17608', '262.375', 'B57 B59 B63 B66', 'C']\n",
            "['917', '3', 'Robins, Mr. Alexander A', 'male', '50', '1', '0', 'A/5. 3337', '14.5', '', 'S']\n",
            "['918', '1', 'Ostby, Miss. Helene Ragnhild', 'female', '22', '0', '1', '113509', '61.9792', 'B36', 'C']\n",
            "['919', '3', 'Daher, Mr. Shedid', 'male', '22.5', '0', '0', '2698', '7.225', '', 'C']\n",
            "['920', '1', 'Brady, Mr. John Bertram', 'male', '41', '0', '0', '113054', '30.5', 'A21', 'S']\n",
            "['921', '3', 'Samaan, Mr. Elias', 'male', '', '2', '0', '2662', '21.6792', '', 'C']\n",
            "['922', '2', 'Louch, Mr. Charles Alexander', 'male', '50', '1', '0', 'SC/AH 3085', '26', '', 'S']\n",
            "['923', '2', 'Jefferys, Mr. Clifford Thomas', 'male', '24', '2', '0', 'C.A. 31029', '31.5', '', 'S']\n",
            "['924', '3', 'Dean, Mrs. Bertram (Eva Georgetta Light)', 'female', '33', '1', '2', 'C.A. 2315', '20.575', '', 'S']\n",
            "['925', '3', 'Johnston, Mrs. Andrew G (Elizabeth Lily\" Watson)\"', 'female', '', '1', '2', 'W./C. 6607', '23.45', '', 'S']\n",
            "['926', '1', 'Mock, Mr. Philipp Edmund', 'male', '30', '1', '0', '13236', '57.75', 'C78', 'C']\n",
            "['927', '3', 'Katavelas, Mr. Vassilios (Catavelas Vassilios\")\"', 'male', '18.5', '0', '0', '2682', '7.2292', '', 'C']\n",
            "['928', '3', 'Roth, Miss. Sarah A', 'female', '', '0', '0', '342712', '8.05', '', 'S']\n",
            "['929', '3', 'Cacic, Miss. Manda', 'female', '21', '0', '0', '315087', '8.6625', '', 'S']\n",
            "['930', '3', 'Sap, Mr. Julius', 'male', '25', '0', '0', '345768', '9.5', '', 'S']\n",
            "['931', '3', 'Hee, Mr. Ling', 'male', '', '0', '0', '1601', '56.4958', '', 'S']\n",
            "['932', '3', 'Karun, Mr. Franz', 'male', '39', '0', '1', '349256', '13.4167', '', 'C']\n",
            "['933', '1', 'Franklin, Mr. Thomas Parham', 'male', '', '0', '0', '113778', '26.55', 'D34', 'S']\n",
            "['934', '3', 'Goldsmith, Mr. Nathan', 'male', '41', '0', '0', 'SOTON/O.Q. 3101263', '7.85', '', 'S']\n",
            "['935', '2', 'Corbett, Mrs. Walter H (Irene Colvin)', 'female', '30', '0', '0', '237249', '13', '', 'S']\n",
            "['936', '1', 'Kimball, Mrs. Edwin Nelson Jr (Gertrude Parsons)', 'female', '45', '1', '0', '11753', '52.5542', 'D19', 'S']\n",
            "['937', '3', 'Peltomaki, Mr. Nikolai Johannes', 'male', '25', '0', '0', 'STON/O 2. 3101291', '7.925', '', 'S']\n",
            "['938', '1', 'Chevre, Mr. Paul Romaine', 'male', '45', '0', '0', 'PC 17594', '29.7', 'A9', 'C']\n",
            "['939', '3', 'Shaughnessy, Mr. Patrick', 'male', '', '0', '0', '370374', '7.75', '', 'Q']\n",
            "['940', '1', 'Bucknell, Mrs. William Robert (Emma Eliza Ward)', 'female', '60', '0', '0', '11813', '76.2917', 'D15', 'C']\n",
            "['941', '3', 'Coutts, Mrs. William (Winnie Minnie\" Treanor)\"', 'female', '36', '0', '2', 'C.A. 37671', '15.9', '', 'S']\n",
            "['942', '1', 'Smith, Mr. Lucien Philip', 'male', '24', '1', '0', '13695', '60', 'C31', 'S']\n",
            "['943', '2', 'Pulbaum, Mr. Franz', 'male', '27', '0', '0', 'SC/PARIS 2168', '15.0333', '', 'C']\n",
            "['944', '2', 'Hocking, Miss. Ellen Nellie\"\"', 'female', '20', '2', '1', '29105', '23', '', 'S']\n",
            "['945', '1', 'Fortune, Miss. Ethel Flora', 'female', '28', '3', '2', '19950', '263', 'C23 C25 C27', 'S']\n",
            "['946', '2', 'Mangiavacchi, Mr. Serafino Emilio', 'male', '', '0', '0', 'SC/A.3 2861', '15.5792', '', 'C']\n",
            "['947', '3', 'Rice, Master. Albert', 'male', '10', '4', '1', '382652', '29.125', '', 'Q']\n",
            "['948', '3', 'Cor, Mr. Bartol', 'male', '35', '0', '0', '349230', '7.8958', '', 'S']\n",
            "['949', '3', 'Abelseth, Mr. Olaus Jorgensen', 'male', '25', '0', '0', '348122', '7.65', 'F G63', 'S']\n",
            "['950', '3', 'Davison, Mr. Thomas Henry', 'male', '', '1', '0', '386525', '16.1', '', 'S']\n",
            "['951', '1', 'Chaudanson, Miss. Victorine', 'female', '36', '0', '0', 'PC 17608', '262.375', 'B61', 'C']\n",
            "['952', '3', 'Dika, Mr. Mirko', 'male', '17', '0', '0', '349232', '7.8958', '', 'S']\n",
            "['953', '2', 'McCrae, Mr. Arthur Gordon', 'male', '32', '0', '0', '237216', '13.5', '', 'S']\n",
            "['954', '3', 'Bjorklund, Mr. Ernst Herbert', 'male', '18', '0', '0', '347090', '7.75', '', 'S']\n",
            "['955', '3', 'Bradley, Miss. Bridget Delia', 'female', '22', '0', '0', '334914', '7.725', '', 'Q']\n",
            "['956', '1', 'Ryerson, Master. John Borie', 'male', '13', '2', '2', 'PC 17608', '262.375', 'B57 B59 B63 B66', 'C']\n",
            "['957', '2', 'Corey, Mrs. Percy C (Mary Phyllis Elizabeth Miller)', 'female', '', '0', '0', 'F.C.C. 13534', '21', '', 'S']\n",
            "['958', '3', 'Burns, Miss. Mary Delia', 'female', '18', '0', '0', '330963', '7.8792', '', 'Q']\n",
            "['959', '1', 'Moore, Mr. Clarence Bloomfield', 'male', '47', '0', '0', '113796', '42.4', '', 'S']\n",
            "['960', '1', 'Tucker, Mr. Gilbert Milligan Jr', 'male', '31', '0', '0', '2543', '28.5375', 'C53', 'C']\n",
            "['961', '1', 'Fortune, Mrs. Mark (Mary McDougald)', 'female', '60', '1', '4', '19950', '263', 'C23 C25 C27', 'S']\n",
            "['962', '3', 'Mulvihill, Miss. Bertha E', 'female', '24', '0', '0', '382653', '7.75', '', 'Q']\n",
            "['963', '3', 'Minkoff, Mr. Lazar', 'male', '21', '0', '0', '349211', '7.8958', '', 'S']\n",
            "['964', '3', 'Nieminen, Miss. Manta Josefina', 'female', '29', '0', '0', '3101297', '7.925', '', 'S']\n",
            "['965', '1', 'Ovies y Rodriguez, Mr. Servando', 'male', '28.5', '0', '0', 'PC 17562', '27.7208', 'D43', 'C']\n",
            "['966', '1', 'Geiger, Miss. Amalie', 'female', '35', '0', '0', '113503', '211.5', 'C130', 'C']\n",
            "['967', '1', 'Keeping, Mr. Edwin', 'male', '32.5', '0', '0', '113503', '211.5', 'C132', 'C']\n",
            "['968', '3', 'Miles, Mr. Frank', 'male', '', '0', '0', '359306', '8.05', '', 'S']\n",
            "['969', '1', 'Cornell, Mrs. Robert Clifford (Malvina Helen Lamson)', 'female', '55', '2', '0', '11770', '25.7', 'C101', 'S']\n",
            "['970', '2', 'Aldworth, Mr. Charles Augustus', 'male', '30', '0', '0', '248744', '13', '', 'S']\n",
            "['971', '3', 'Doyle, Miss. Elizabeth', 'female', '24', '0', '0', '368702', '7.75', '', 'Q']\n",
            "['972', '3', 'Boulos, Master. Akar', 'male', '6', '1', '1', '2678', '15.2458', '', 'C']\n",
            "['973', '1', 'Straus, Mr. Isidor', 'male', '67', '1', '0', 'PC 17483', '221.7792', 'C55 C57', 'S']\n",
            "['974', '1', 'Case, Mr. Howard Brown', 'male', '49', '0', '0', '19924', '26', '', 'S']\n",
            "['975', '3', 'Demetri, Mr. Marinko', 'male', '', '0', '0', '349238', '7.8958', '', 'S']\n",
            "['976', '2', 'Lamb, Mr. John Joseph', 'male', '', '0', '0', '240261', '10.7083', '', 'Q']\n",
            "['977', '3', 'Khalil, Mr. Betros', 'male', '', '1', '0', '2660', '14.4542', '', 'C']\n",
            "['978', '3', 'Barry, Miss. Julia', 'female', '27', '0', '0', '330844', '7.8792', '', 'Q']\n",
            "['979', '3', 'Badman, Miss. Emily Louisa', 'female', '18', '0', '0', 'A/4 31416', '8.05', '', 'S']\n",
            "['980', '3', \"O'Donoghue, Ms. Bridget\", 'female', '', '0', '0', '364856', '7.75', '', 'Q']\n",
            "['981', '2', 'Wells, Master. Ralph Lester', 'male', '2', '1', '1', '29103', '23', '', 'S']\n",
            "['982', '3', 'Dyker, Mrs. Adolf Fredrik (Anna Elisabeth Judith Andersson)', 'female', '22', '1', '0', '347072', '13.9', '', 'S']\n",
            "['983', '3', 'Pedersen, Mr. Olaf', 'male', '', '0', '0', '345498', '7.775', '', 'S']\n",
            "['984', '1', 'Davidson, Mrs. Thornton (Orian Hays)', 'female', '27', '1', '2', 'F.C. 12750', '52', 'B71', 'S']\n",
            "['985', '3', 'Guest, Mr. Robert', 'male', '', '0', '0', '376563', '8.05', '', 'S']\n",
            "['986', '1', 'Birnbaum, Mr. Jakob', 'male', '25', '0', '0', '13905', '26', '', 'C']\n",
            "['987', '3', 'Tenglin, Mr. Gunnar Isidor', 'male', '25', '0', '0', '350033', '7.7958', '', 'S']\n",
            "['988', '1', 'Cavendish, Mrs. Tyrell William (Julia Florence Siegel)', 'female', '76', '1', '0', '19877', '78.85', 'C46', 'S']\n",
            "['989', '3', 'Makinen, Mr. Kalle Edvard', 'male', '29', '0', '0', 'STON/O 2. 3101268', '7.925', '', 'S']\n",
            "['990', '3', 'Braf, Miss. Elin Ester Maria', 'female', '20', '0', '0', '347471', '7.8542', '', 'S']\n",
            "['991', '3', 'Nancarrow, Mr. William Henry', 'male', '33', '0', '0', 'A./5. 3338', '8.05', '', 'S']\n",
            "['992', '1', 'Stengel, Mrs. Charles Emil Henry (Annie May Morris)', 'female', '43', '1', '0', '11778', '55.4417', 'C116', 'C']\n",
            "['993', '2', 'Weisz, Mr. Leopold', 'male', '27', '1', '0', '228414', '26', '', 'S']\n",
            "['994', '3', 'Foley, Mr. William', 'male', '', '0', '0', '365235', '7.75', '', 'Q']\n",
            "['995', '3', 'Johansson Palmquist, Mr. Oskar Leander', 'male', '26', '0', '0', '347070', '7.775', '', 'S']\n",
            "['996', '3', 'Thomas, Mrs. Alexander (Thamine Thelma\")\"', 'female', '16', '1', '1', '2625', '8.5167', '', 'C']\n",
            "['997', '3', 'Holthen, Mr. Johan Martin', 'male', '28', '0', '0', 'C 4001', '22.525', '', 'S']\n",
            "['998', '3', 'Buckley, Mr. Daniel', 'male', '21', '0', '0', '330920', '7.8208', '', 'Q']\n",
            "['999', '3', 'Ryan, Mr. Edward', 'male', '', '0', '0', '383162', '7.75', '', 'Q']\n",
            "['1000', '3', 'Willer, Mr. Aaron (Abi Weller\")\"', 'male', '', '0', '0', '3410', '8.7125', '', 'S']\n",
            "['1001', '2', 'Swane, Mr. George', 'male', '18.5', '0', '0', '248734', '13', 'F', 'S']\n",
            "['1002', '2', 'Stanton, Mr. Samuel Ward', 'male', '41', '0', '0', '237734', '15.0458', '', 'C']\n",
            "['1003', '3', 'Shine, Miss. Ellen Natalia', 'female', '', '0', '0', '330968', '7.7792', '', 'Q']\n",
            "['1004', '1', 'Evans, Miss. Edith Corse', 'female', '36', '0', '0', 'PC 17531', '31.6792', 'A29', 'C']\n",
            "['1005', '3', 'Buckley, Miss. Katherine', 'female', '18.5', '0', '0', '329944', '7.2833', '', 'Q']\n",
            "['1006', '1', 'Straus, Mrs. Isidor (Rosalie Ida Blun)', 'female', '63', '1', '0', 'PC 17483', '221.7792', 'C55 C57', 'S']\n",
            "['1007', '3', 'Chronopoulos, Mr. Demetrios', 'male', '18', '1', '0', '2680', '14.4542', '', 'C']\n",
            "['1008', '3', 'Thomas, Mr. John', 'male', '', '0', '0', '2681', '6.4375', '', 'C']\n",
            "['1009', '3', 'Sandstrom, Miss. Beatrice Irene', 'female', '1', '1', '1', 'PP 9549', '16.7', 'G6', 'S']\n",
            "['1010', '1', 'Beattie, Mr. Thomson', 'male', '36', '0', '0', '13050', '75.2417', 'C6', 'C']\n",
            "['1011', '2', 'Chapman, Mrs. John Henry (Sara Elizabeth Lawry)', 'female', '29', '1', '0', 'SC/AH 29037', '26', '', 'S']\n",
            "['1012', '2', 'Watt, Miss. Bertha J', 'female', '12', '0', '0', 'C.A. 33595', '15.75', '', 'S']\n",
            "['1013', '3', 'Kiernan, Mr. John', 'male', '', '1', '0', '367227', '7.75', '', 'Q']\n",
            "['1014', '1', 'Schabert, Mrs. Paul (Emma Mock)', 'female', '35', '1', '0', '13236', '57.75', 'C28', 'C']\n",
            "['1015', '3', 'Carver, Mr. Alfred John', 'male', '28', '0', '0', '392095', '7.25', '', 'S']\n",
            "['1016', '3', 'Kennedy, Mr. John', 'male', '', '0', '0', '368783', '7.75', '', 'Q']\n",
            "['1017', '3', 'Cribb, Miss. Laura Alice', 'female', '17', '0', '1', '371362', '16.1', '', 'S']\n",
            "['1018', '3', 'Brobeck, Mr. Karl Rudolf', 'male', '22', '0', '0', '350045', '7.7958', '', 'S']\n",
            "['1019', '3', 'McCoy, Miss. Alicia', 'female', '', '2', '0', '367226', '23.25', '', 'Q']\n",
            "['1020', '2', 'Bowenur, Mr. Solomon', 'male', '42', '0', '0', '211535', '13', '', 'S']\n",
            "['1021', '3', 'Petersen, Mr. Marius', 'male', '24', '0', '0', '342441', '8.05', '', 'S']\n",
            "['1022', '3', 'Spinner, Mr. Henry John', 'male', '32', '0', '0', 'STON/OQ. 369943', '8.05', '', 'S']\n",
            "['1023', '1', 'Gracie, Col. Archibald IV', 'male', '53', '0', '0', '113780', '28.5', 'C51', 'C']\n",
            "['1024', '3', 'Lefebre, Mrs. Frank (Frances)', 'female', '', '0', '4', '4133', '25.4667', '', 'S']\n",
            "['1025', '3', 'Thomas, Mr. Charles P', 'male', '', '1', '0', '2621', '6.4375', '', 'C']\n",
            "['1026', '3', 'Dintcheff, Mr. Valtcho', 'male', '43', '0', '0', '349226', '7.8958', '', 'S']\n",
            "['1027', '3', 'Carlsson, Mr. Carl Robert', 'male', '24', '0', '0', '350409', '7.8542', '', 'S']\n",
            "['1028', '3', 'Zakarian, Mr. Mapriededer', 'male', '26.5', '0', '0', '2656', '7.225', '', 'C']\n",
            "['1029', '2', 'Schmidt, Mr. August', 'male', '26', '0', '0', '248659', '13', '', 'S']\n",
            "['1030', '3', 'Drapkin, Miss. Jennie', 'female', '23', '0', '0', 'SOTON/OQ 392083', '8.05', '', 'S']\n",
            "['1031', '3', 'Goodwin, Mr. Charles Frederick', 'male', '40', '1', '6', 'CA 2144', '46.9', '', 'S']\n",
            "['1032', '3', 'Goodwin, Miss. Jessie Allis', 'female', '10', '5', '2', 'CA 2144', '46.9', '', 'S']\n",
            "['1033', '1', 'Daniels, Miss. Sarah', 'female', '33', '0', '0', '113781', '151.55', '', 'S']\n",
            "['1034', '1', 'Ryerson, Mr. Arthur Larned', 'male', '61', '1', '3', 'PC 17608', '262.375', 'B57 B59 B63 B66', 'C']\n",
            "['1035', '2', 'Beauchamp, Mr. Henry James', 'male', '28', '0', '0', '244358', '26', '', 'S']\n",
            "['1036', '1', 'Lindeberg-Lind, Mr. Erik Gustaf (Mr Edward Lingrey\")\"', 'male', '42', '0', '0', '17475', '26.55', '', 'S']\n",
            "['1037', '3', 'Vander Planke, Mr. Julius', 'male', '31', '3', '0', '345763', '18', '', 'S']\n",
            "['1038', '1', 'Hilliard, Mr. Herbert Henry', 'male', '', '0', '0', '17463', '51.8625', 'E46', 'S']\n",
            "['1039', '3', 'Davies, Mr. Evan', 'male', '22', '0', '0', 'SC/A4 23568', '8.05', '', 'S']\n",
            "['1040', '1', 'Crafton, Mr. John Bertram', 'male', '', '0', '0', '113791', '26.55', '', 'S']\n",
            "['1041', '2', 'Lahtinen, Rev. William', 'male', '30', '1', '1', '250651', '26', '', 'S']\n",
            "['1042', '1', 'Earnshaw, Mrs. Boulton (Olive Potter)', 'female', '23', '0', '1', '11767', '83.1583', 'C54', 'C']\n",
            "['1043', '3', 'Matinoff, Mr. Nicola', 'male', '', '0', '0', '349255', '7.8958', '', 'C']\n",
            "['1044', '3', 'Storey, Mr. Thomas', 'male', '60.5', '0', '0', '3701', '', '', 'S']\n",
            "['1045', '3', 'Klasen, Mrs. (Hulda Kristina Eugenia Lofqvist)', 'female', '36', '0', '2', '350405', '12.1833', '', 'S']\n",
            "['1046', '3', 'Asplund, Master. Filip Oscar', 'male', '13', '4', '2', '347077', '31.3875', '', 'S']\n",
            "['1047', '3', 'Duquemin, Mr. Joseph', 'male', '24', '0', '0', 'S.O./P.P. 752', '7.55', '', 'S']\n",
            "['1048', '1', 'Bird, Miss. Ellen', 'female', '29', '0', '0', 'PC 17483', '221.7792', 'C97', 'S']\n",
            "['1049', '3', 'Lundin, Miss. Olga Elida', 'female', '23', '0', '0', '347469', '7.8542', '', 'S']\n",
            "['1050', '1', 'Borebank, Mr. John James', 'male', '42', '0', '0', '110489', '26.55', 'D22', 'S']\n",
            "['1051', '3', 'Peacock, Mrs. Benjamin (Edith Nile)', 'female', '26', '0', '2', 'SOTON/O.Q. 3101315', '13.775', '', 'S']\n",
            "['1052', '3', 'Smyth, Miss. Julia', 'female', '', '0', '0', '335432', '7.7333', '', 'Q']\n",
            "['1053', '3', 'Touma, Master. Georges Youssef', 'male', '7', '1', '1', '2650', '15.2458', '', 'C']\n",
            "['1054', '2', 'Wright, Miss. Marion', 'female', '26', '0', '0', '220844', '13.5', '', 'S']\n",
            "['1055', '3', 'Pearce, Mr. Ernest', 'male', '', '0', '0', '343271', '7', '', 'S']\n",
            "['1056', '2', 'Peruschitz, Rev. Joseph Maria', 'male', '41', '0', '0', '237393', '13', '', 'S']\n",
            "['1057', '3', 'Kink-Heilmann, Mrs. Anton (Luise Heilmann)', 'female', '26', '1', '1', '315153', '22.025', '', 'S']\n",
            "['1058', '1', 'Brandeis, Mr. Emil', 'male', '48', '0', '0', 'PC 17591', '50.4958', 'B10', 'C']\n",
            "['1059', '3', 'Ford, Mr. Edward Watson', 'male', '18', '2', '2', 'W./C. 6608', '34.375', '', 'S']\n",
            "['1060', '1', 'Cassebeer, Mrs. Henry Arthur Jr (Eleanor Genevieve Fosdick)', 'female', '', '0', '0', '17770', '27.7208', '', 'C']\n",
            "['1061', '3', 'Hellstrom, Miss. Hilda Maria', 'female', '22', '0', '0', '7548', '8.9625', '', 'S']\n",
            "['1062', '3', 'Lithman, Mr. Simon', 'male', '', '0', '0', 'S.O./P.P. 251', '7.55', '', 'S']\n",
            "['1063', '3', 'Zakarian, Mr. Ortin', 'male', '27', '0', '0', '2670', '7.225', '', 'C']\n",
            "['1064', '3', 'Dyker, Mr. Adolf Fredrik', 'male', '23', '1', '0', '347072', '13.9', '', 'S']\n",
            "['1065', '3', 'Torfa, Mr. Assad', 'male', '', '0', '0', '2673', '7.2292', '', 'C']\n",
            "['1066', '3', 'Asplund, Mr. Carl Oscar Vilhelm Gustafsson', 'male', '40', '1', '5', '347077', '31.3875', '', 'S']\n",
            "['1067', '2', 'Brown, Miss. Edith Eileen', 'female', '15', '0', '2', '29750', '39', '', 'S']\n",
            "['1068', '2', 'Sincock, Miss. Maude', 'female', '20', '0', '0', 'C.A. 33112', '36.75', '', 'S']\n",
            "['1069', '1', 'Stengel, Mr. Charles Emil Henry', 'male', '54', '1', '0', '11778', '55.4417', 'C116', 'C']\n",
            "['1070', '2', 'Becker, Mrs. Allen Oliver (Nellie E Baumgardner)', 'female', '36', '0', '3', '230136', '39', 'F4', 'S']\n",
            "['1071', '1', 'Compton, Mrs. Alexander Taylor (Mary Eliza Ingersoll)', 'female', '64', '0', '2', 'PC 17756', '83.1583', 'E45', 'C']\n",
            "['1072', '2', 'McCrie, Mr. James Matthew', 'male', '30', '0', '0', '233478', '13', '', 'S']\n",
            "['1073', '1', 'Compton, Mr. Alexander Taylor Jr', 'male', '37', '1', '1', 'PC 17756', '83.1583', 'E52', 'C']\n",
            "['1074', '1', 'Marvin, Mrs. Daniel Warner (Mary Graham Carmichael Farquarson)', 'female', '18', '1', '0', '113773', '53.1', 'D30', 'S']\n",
            "['1075', '3', 'Lane, Mr. Patrick', 'male', '', '0', '0', '7935', '7.75', '', 'Q']\n",
            "['1076', '1', 'Douglas, Mrs. Frederick Charles (Mary Helene Baxter)', 'female', '27', '1', '1', 'PC 17558', '247.5208', 'B58 B60', 'C']\n",
            "['1077', '2', 'Maybery, Mr. Frank Hubert', 'male', '40', '0', '0', '239059', '16', '', 'S']\n",
            "['1078', '2', 'Phillips, Miss. Alice Frances Louisa', 'female', '21', '0', '1', 'S.O./P.P. 2', '21', '', 'S']\n",
            "['1079', '3', 'Davies, Mr. Joseph', 'male', '17', '2', '0', 'A/4 48873', '8.05', '', 'S']\n",
            "['1080', '3', 'Sage, Miss. Ada', 'female', '', '8', '2', 'CA. 2343', '69.55', '', 'S']\n",
            "['1081', '2', 'Veal, Mr. James', 'male', '40', '0', '0', '28221', '13', '', 'S']\n",
            "['1082', '2', 'Angle, Mr. William A', 'male', '34', '1', '0', '226875', '26', '', 'S']\n",
            "['1083', '1', 'Salomon, Mr. Abraham L', 'male', '', '0', '0', '111163', '26', '', 'S']\n",
            "['1084', '3', 'van Billiard, Master. Walter John', 'male', '11.5', '1', '1', 'A/5. 851', '14.5', '', 'S']\n",
            "['1085', '2', 'Lingane, Mr. John', 'male', '61', '0', '0', '235509', '12.35', '', 'Q']\n",
            "['1086', '2', 'Drew, Master. Marshall Brines', 'male', '8', '0', '2', '28220', '32.5', '', 'S']\n",
            "['1087', '3', 'Karlsson, Mr. Julius Konrad Eugen', 'male', '33', '0', '0', '347465', '7.8542', '', 'S']\n",
            "['1088', '1', 'Spedden, Master. Robert Douglas', 'male', '6', '0', '2', '16966', '134.5', 'E34', 'C']\n",
            "['1089', '3', 'Nilsson, Miss. Berta Olivia', 'female', '18', '0', '0', '347066', '7.775', '', 'S']\n",
            "['1090', '2', 'Baimbrigge, Mr. Charles Robert', 'male', '23', '0', '0', 'C.A. 31030', '10.5', '', 'S']\n",
            "['1091', '3', 'Rasmussen, Mrs. (Lena Jacobsen Solvang)', 'female', '', '0', '0', '65305', '8.1125', '', 'S']\n",
            "['1092', '3', 'Murphy, Miss. Nora', 'female', '', '0', '0', '36568', '15.5', '', 'Q']\n",
            "['1093', '3', 'Danbom, Master. Gilbert Sigvard Emanuel', 'male', '0.33', '0', '2', '347080', '14.4', '', 'S']\n",
            "['1094', '1', 'Astor, Col. John Jacob', 'male', '47', '1', '0', 'PC 17757', '227.525', 'C62 C64', 'C']\n",
            "['1095', '2', 'Quick, Miss. Winifred Vera', 'female', '8', '1', '1', '26360', '26', '', 'S']\n",
            "['1096', '2', 'Andrew, Mr. Frank Thomas', 'male', '25', '0', '0', 'C.A. 34050', '10.5', '', 'S']\n",
            "['1097', '1', 'Omont, Mr. Alfred Fernand', 'male', '', '0', '0', 'F.C. 12998', '25.7417', '', 'C']\n",
            "['1098', '3', 'McGowan, Miss. Katherine', 'female', '35', '0', '0', '9232', '7.75', '', 'Q']\n",
            "['1099', '2', 'Collett, Mr. Sidney C Stuart', 'male', '24', '0', '0', '28034', '10.5', '', 'S']\n",
            "['1100', '1', 'Rosenbaum, Miss. Edith Louise', 'female', '33', '0', '0', 'PC 17613', '27.7208', 'A11', 'C']\n",
            "['1101', '3', 'Delalic, Mr. Redjo', 'male', '25', '0', '0', '349250', '7.8958', '', 'S']\n",
            "['1102', '3', 'Andersen, Mr. Albert Karvin', 'male', '32', '0', '0', 'C 4001', '22.525', '', 'S']\n",
            "['1103', '3', 'Finoli, Mr. Luigi', 'male', '', '0', '0', 'SOTON/O.Q. 3101308', '7.05', '', 'S']\n",
            "['1104', '2', 'Deacon, Mr. Percy William', 'male', '17', '0', '0', 'S.O.C. 14879', '73.5', '', 'S']\n",
            "['1105', '2', 'Howard, Mrs. Benjamin (Ellen Truelove Arman)', 'female', '60', '1', '0', '24065', '26', '', 'S']\n",
            "['1106', '3', 'Andersson, Miss. Ida Augusta Margareta', 'female', '38', '4', '2', '347091', '7.775', '', 'S']\n",
            "['1107', '1', 'Head, Mr. Christopher', 'male', '42', '0', '0', '113038', '42.5', 'B11', 'S']\n",
            "['1108', '3', 'Mahon, Miss. Bridget Delia', 'female', '', '0', '0', '330924', '7.8792', '', 'Q']\n",
            "['1109', '1', 'Wick, Mr. George Dennick', 'male', '57', '1', '1', '36928', '164.8667', '', 'S']\n",
            "['1110', '1', 'Widener, Mrs. George Dunton (Eleanor Elkins)', 'female', '50', '1', '1', '113503', '211.5', 'C80', 'C']\n",
            "['1111', '3', 'Thomson, Mr. Alexander Morrison', 'male', '', '0', '0', '32302', '8.05', '', 'S']\n",
            "['1112', '2', 'Duran y More, Miss. Florentina', 'female', '30', '1', '0', 'SC/PARIS 2148', '13.8583', '', 'C']\n",
            "['1113', '3', 'Reynolds, Mr. Harold J', 'male', '21', '0', '0', '342684', '8.05', '', 'S']\n",
            "['1114', '2', 'Cook, Mrs. (Selena Rogers)', 'female', '22', '0', '0', 'W./C. 14266', '10.5', 'F33', 'S']\n",
            "['1115', '3', 'Karlsson, Mr. Einar Gervasius', 'male', '21', '0', '0', '350053', '7.7958', '', 'S']\n",
            "['1116', '1', 'Candee, Mrs. Edward (Helen Churchill Hungerford)', 'female', '53', '0', '0', 'PC 17606', '27.4458', '', 'C']\n",
            "['1117', '3', 'Moubarek, Mrs. George (Omine Amenia\" Alexander)\"', 'female', '', '0', '2', '2661', '15.2458', '', 'C']\n",
            "['1118', '3', 'Asplund, Mr. Johan Charles', 'male', '23', '0', '0', '350054', '7.7958', '', 'S']\n",
            "['1119', '3', 'McNeill, Miss. Bridget', 'female', '', '0', '0', '370368', '7.75', '', 'Q']\n",
            "['1120', '3', 'Everett, Mr. Thomas James', 'male', '40.5', '0', '0', 'C.A. 6212', '15.1', '', 'S']\n",
            "['1121', '2', 'Hocking, Mr. Samuel James Metcalfe', 'male', '36', '0', '0', '242963', '13', '', 'S']\n",
            "['1122', '2', 'Sweet, Mr. George Frederick', 'male', '14', '0', '0', '220845', '65', '', 'S']\n",
            "['1123', '1', 'Willard, Miss. Constance', 'female', '21', '0', '0', '113795', '26.55', '', 'S']\n",
            "['1124', '3', 'Wiklund, Mr. Karl Johan', 'male', '21', '1', '0', '3101266', '6.4958', '', 'S']\n",
            "['1125', '3', 'Linehan, Mr. Michael', 'male', '', '0', '0', '330971', '7.8792', '', 'Q']\n",
            "['1126', '1', 'Cumings, Mr. John Bradley', 'male', '39', '1', '0', 'PC 17599', '71.2833', 'C85', 'C']\n",
            "['1127', '3', 'Vendel, Mr. Olof Edvin', 'male', '20', '0', '0', '350416', '7.8542', '', 'S']\n",
            "['1128', '1', 'Warren, Mr. Frank Manley', 'male', '64', '1', '0', '110813', '75.25', 'D37', 'C']\n",
            "['1129', '3', 'Baccos, Mr. Raffull', 'male', '20', '0', '0', '2679', '7.225', '', 'C']\n",
            "['1130', '2', 'Hiltunen, Miss. Marta', 'female', '18', '1', '1', '250650', '13', '', 'S']\n",
            "['1131', '1', 'Douglas, Mrs. Walter Donald (Mahala Dutton)', 'female', '48', '1', '0', 'PC 17761', '106.425', 'C86', 'C']\n",
            "['1132', '1', 'Lindstrom, Mrs. Carl Johan (Sigrid Posse)', 'female', '55', '0', '0', '112377', '27.7208', '', 'C']\n",
            "['1133', '2', 'Christy, Mrs. (Alice Frances)', 'female', '45', '0', '2', '237789', '30', '', 'S']\n",
            "['1134', '1', 'Spedden, Mr. Frederic Oakley', 'male', '45', '1', '1', '16966', '134.5', 'E34', 'C']\n",
            "['1135', '3', 'Hyman, Mr. Abraham', 'male', '', '0', '0', '3470', '7.8875', '', 'S']\n",
            "['1136', '3', 'Johnston, Master. William Arthur Willie\"\"', 'male', '', '1', '2', 'W./C. 6607', '23.45', '', 'S']\n",
            "['1137', '1', 'Kenyon, Mr. Frederick R', 'male', '41', '1', '0', '17464', '51.8625', 'D21', 'S']\n",
            "['1138', '2', 'Karnes, Mrs. J Frank (Claire Bennett)', 'female', '22', '0', '0', 'F.C.C. 13534', '21', '', 'S']\n",
            "['1139', '2', 'Drew, Mr. James Vivian', 'male', '42', '1', '1', '28220', '32.5', '', 'S']\n",
            "['1140', '2', 'Hold, Mrs. Stephen (Annie Margaret Hill)', 'female', '29', '1', '0', '26707', '26', '', 'S']\n",
            "['1141', '3', 'Khalil, Mrs. Betros (Zahie Maria\" Elias)\"', 'female', '', '1', '0', '2660', '14.4542', '', 'C']\n",
            "['1142', '2', 'West, Miss. Barbara J', 'female', '0.92', '1', '2', 'C.A. 34651', '27.75', '', 'S']\n",
            "['1143', '3', 'Abrahamsson, Mr. Abraham August Johannes', 'male', '20', '0', '0', 'SOTON/O2 3101284', '7.925', '', 'S']\n",
            "['1144', '1', 'Clark, Mr. Walter Miller', 'male', '27', '1', '0', '13508', '136.7792', 'C89', 'C']\n",
            "['1145', '3', 'Salander, Mr. Karl Johan', 'male', '24', '0', '0', '7266', '9.325', '', 'S']\n",
            "['1146', '3', 'Wenzel, Mr. Linhart', 'male', '32.5', '0', '0', '345775', '9.5', '', 'S']\n",
            "['1147', '3', 'MacKay, Mr. George William', 'male', '', '0', '0', 'C.A. 42795', '7.55', '', 'S']\n",
            "['1148', '3', 'Mahon, Mr. John', 'male', '', '0', '0', 'AQ/4 3130', '7.75', '', 'Q']\n",
            "['1149', '3', 'Niklasson, Mr. Samuel', 'male', '28', '0', '0', '363611', '8.05', '', 'S']\n",
            "['1150', '2', 'Bentham, Miss. Lilian W', 'female', '19', '0', '0', '28404', '13', '', 'S']\n",
            "['1151', '3', 'Midtsjo, Mr. Karl Albert', 'male', '21', '0', '0', '345501', '7.775', '', 'S']\n",
            "['1152', '3', 'de Messemaeker, Mr. Guillaume Joseph', 'male', '36.5', '1', '0', '345572', '17.4', '', 'S']\n",
            "['1153', '3', 'Nilsson, Mr. August Ferdinand', 'male', '21', '0', '0', '350410', '7.8542', '', 'S']\n",
            "['1154', '2', 'Wells, Mrs. Arthur Henry (Addie\" Dart Trevaskis)\"', 'female', '29', '0', '2', '29103', '23', '', 'S']\n",
            "['1155', '3', 'Klasen, Miss. Gertrud Emilia', 'female', '1', '1', '1', '350405', '12.1833', '', 'S']\n",
            "['1156', '2', 'Portaluppi, Mr. Emilio Ilario Giuseppe', 'male', '30', '0', '0', 'C.A. 34644', '12.7375', '', 'C']\n",
            "['1157', '3', 'Lyntakoff, Mr. Stanko', 'male', '', '0', '0', '349235', '7.8958', '', 'S']\n",
            "['1158', '1', 'Chisholm, Mr. Roderick Robert Crispin', 'male', '', '0', '0', '112051', '0', '', 'S']\n",
            "['1159', '3', 'Warren, Mr. Charles William', 'male', '', '0', '0', 'C.A. 49867', '7.55', '', 'S']\n",
            "['1160', '3', 'Howard, Miss. May Elizabeth', 'female', '', '0', '0', 'A. 2. 39186', '8.05', '', 'S']\n",
            "['1161', '3', 'Pokrnic, Mr. Mate', 'male', '17', '0', '0', '315095', '8.6625', '', 'S']\n",
            "['1162', '1', 'McCaffry, Mr. Thomas Francis', 'male', '46', '0', '0', '13050', '75.2417', 'C6', 'C']\n",
            "['1163', '3', 'Fox, Mr. Patrick', 'male', '', '0', '0', '368573', '7.75', '', 'Q']\n",
            "['1164', '1', 'Clark, Mrs. Walter Miller (Virginia McDowell)', 'female', '26', '1', '0', '13508', '136.7792', 'C89', 'C']\n",
            "['1165', '3', 'Lennon, Miss. Mary', 'female', '', '1', '0', '370371', '15.5', '', 'Q']\n",
            "['1166', '3', 'Saade, Mr. Jean Nassr', 'male', '', '0', '0', '2676', '7.225', '', 'C']\n",
            "['1167', '2', 'Bryhl, Miss. Dagmar Jenny Ingeborg ', 'female', '20', '1', '0', '236853', '26', '', 'S']\n",
            "['1168', '2', 'Parker, Mr. Clifford Richard', 'male', '28', '0', '0', 'SC 14888', '10.5', '', 'S']\n",
            "['1169', '2', 'Faunthorpe, Mr. Harry', 'male', '40', '1', '0', '2926', '26', '', 'S']\n",
            "['1170', '2', 'Ware, Mr. John James', 'male', '30', '1', '0', 'CA 31352', '21', '', 'S']\n",
            "['1171', '2', 'Oxenham, Mr. Percy Thomas', 'male', '22', '0', '0', 'W./C. 14260', '10.5', '', 'S']\n",
            "['1172', '3', 'Oreskovic, Miss. Jelka', 'female', '23', '0', '0', '315085', '8.6625', '', 'S']\n",
            "['1173', '3', 'Peacock, Master. Alfred Edward', 'male', '0.75', '1', '1', 'SOTON/O.Q. 3101315', '13.775', '', 'S']\n",
            "['1174', '3', 'Fleming, Miss. Honora', 'female', '', '0', '0', '364859', '7.75', '', 'Q']\n",
            "['1175', '3', 'Touma, Miss. Maria Youssef', 'female', '9', '1', '1', '2650', '15.2458', '', 'C']\n",
            "['1176', '3', 'Rosblom, Miss. Salli Helena', 'female', '2', '1', '1', '370129', '20.2125', '', 'S']\n",
            "['1177', '3', 'Dennis, Mr. William', 'male', '36', '0', '0', 'A/5 21175', '7.25', '', 'S']\n",
            "['1178', '3', 'Franklin, Mr. Charles (Charles Fardon)', 'male', '', '0', '0', 'SOTON/O.Q. 3101314', '7.25', '', 'S']\n",
            "['1179', '1', 'Snyder, Mr. John Pillsbury', 'male', '24', '1', '0', '21228', '82.2667', 'B45', 'S']\n",
            "['1180', '3', 'Mardirosian, Mr. Sarkis', 'male', '', '0', '0', '2655', '7.2292', 'F E46', 'C']\n",
            "['1181', '3', 'Ford, Mr. Arthur', 'male', '', '0', '0', 'A/5 1478', '8.05', '', 'S']\n",
            "['1182', '1', 'Rheims, Mr. George Alexander Lucien', 'male', '', '0', '0', 'PC 17607', '39.6', '', 'S']\n",
            "['1183', '3', 'Daly, Miss. Margaret Marcella Maggie\"\"', 'female', '30', '0', '0', '382650', '6.95', '', 'Q']\n",
            "['1184', '3', 'Nasr, Mr. Mustafa', 'male', '', '0', '0', '2652', '7.2292', '', 'C']\n",
            "['1185', '1', 'Dodge, Dr. Washington', 'male', '53', '1', '1', '33638', '81.8583', 'A34', 'S']\n",
            "['1186', '3', 'Wittevrongel, Mr. Camille', 'male', '36', '0', '0', '345771', '9.5', '', 'S']\n",
            "['1187', '3', 'Angheloff, Mr. Minko', 'male', '26', '0', '0', '349202', '7.8958', '', 'S']\n",
            "['1188', '2', 'Laroche, Miss. Louise', 'female', '1', '1', '2', 'SC/Paris 2123', '41.5792', '', 'C']\n",
            "['1189', '3', 'Samaan, Mr. Hanna', 'male', '', '2', '0', '2662', '21.6792', '', 'C']\n",
            "['1190', '1', 'Loring, Mr. Joseph Holland', 'male', '30', '0', '0', '113801', '45.5', '', 'S']\n",
            "['1191', '3', 'Johansson, Mr. Nils', 'male', '29', '0', '0', '347467', '7.8542', '', 'S']\n",
            "['1192', '3', 'Olsson, Mr. Oscar Wilhelm', 'male', '32', '0', '0', '347079', '7.775', '', 'S']\n",
            "['1193', '2', 'Malachard, Mr. Noel', 'male', '', '0', '0', '237735', '15.0458', 'D', 'C']\n",
            "['1194', '2', 'Phillips, Mr. Escott Robert', 'male', '43', '0', '1', 'S.O./P.P. 2', '21', '', 'S']\n",
            "['1195', '3', 'Pokrnic, Mr. Tome', 'male', '24', '0', '0', '315092', '8.6625', '', 'S']\n",
            "['1196', '3', 'McCarthy, Miss. Catherine Katie\"\"', 'female', '', '0', '0', '383123', '7.75', '', 'Q']\n",
            "['1197', '1', 'Crosby, Mrs. Edward Gifford (Catherine Elizabeth Halstead)', 'female', '64', '1', '1', '112901', '26.55', 'B26', 'S']\n",
            "['1198', '1', 'Allison, Mr. Hudson Joshua Creighton', 'male', '30', '1', '2', '113781', '151.55', 'C22 C26', 'S']\n",
            "['1199', '3', 'Aks, Master. Philip Frank', 'male', '0.83', '0', '1', '392091', '9.35', '', 'S']\n",
            "['1200', '1', 'Hays, Mr. Charles Melville', 'male', '55', '1', '1', '12749', '93.5', 'B69', 'S']\n",
            "['1201', '3', 'Hansen, Mrs. Claus Peter (Jennie L Howard)', 'female', '45', '1', '0', '350026', '14.1083', '', 'S']\n",
            "['1202', '3', 'Cacic, Mr. Jego Grga', 'male', '18', '0', '0', '315091', '8.6625', '', 'S']\n",
            "['1203', '3', 'Vartanian, Mr. David', 'male', '22', '0', '0', '2658', '7.225', '', 'C']\n",
            "['1204', '3', 'Sadowitz, Mr. Harry', 'male', '', '0', '0', 'LP 1588', '7.575', '', 'S']\n",
            "['1205', '3', 'Carr, Miss. Jeannie', 'female', '37', '0', '0', '368364', '7.75', '', 'Q']\n",
            "['1206', '1', 'White, Mrs. John Stuart (Ella Holmes)', 'female', '55', '0', '0', 'PC 17760', '135.6333', 'C32', 'C']\n",
            "['1207', '3', 'Hagardon, Miss. Kate', 'female', '17', '0', '0', 'AQ/3. 30631', '7.7333', '', 'Q']\n",
            "['1208', '1', 'Spencer, Mr. William Augustus', 'male', '57', '1', '0', 'PC 17569', '146.5208', 'B78', 'C']\n",
            "['1209', '2', 'Rogers, Mr. Reginald Harry', 'male', '19', '0', '0', '28004', '10.5', '', 'S']\n",
            "['1210', '3', 'Jonsson, Mr. Nils Hilding', 'male', '27', '0', '0', '350408', '7.8542', '', 'S']\n",
            "['1211', '2', 'Jefferys, Mr. Ernest Wilfred', 'male', '22', '2', '0', 'C.A. 31029', '31.5', '', 'S']\n",
            "['1212', '3', 'Andersson, Mr. Johan Samuel', 'male', '26', '0', '0', '347075', '7.775', '', 'S']\n",
            "['1213', '3', 'Krekorian, Mr. Neshan', 'male', '25', '0', '0', '2654', '7.2292', 'F E57', 'C']\n",
            "['1214', '2', 'Nesson, Mr. Israel', 'male', '26', '0', '0', '244368', '13', 'F2', 'S']\n",
            "['1215', '1', 'Rowe, Mr. Alfred G', 'male', '33', '0', '0', '113790', '26.55', '', 'S']\n",
            "['1216', '1', 'Kreuchen, Miss. Emilie', 'female', '39', '0', '0', '24160', '211.3375', '', 'S']\n",
            "['1217', '3', 'Assam, Mr. Ali', 'male', '23', '0', '0', 'SOTON/O.Q. 3101309', '7.05', '', 'S']\n",
            "['1218', '2', 'Becker, Miss. Ruth Elizabeth', 'female', '12', '2', '1', '230136', '39', 'F4', 'S']\n",
            "['1219', '1', 'Rosenshine, Mr. George (Mr George Thorne\")\"', 'male', '46', '0', '0', 'PC 17585', '79.2', '', 'C']\n",
            "['1220', '2', 'Clarke, Mr. Charles Valentine', 'male', '29', '1', '0', '2003', '26', '', 'S']\n",
            "['1221', '2', 'Enander, Mr. Ingvar', 'male', '21', '0', '0', '236854', '13', '', 'S']\n",
            "['1222', '2', 'Davies, Mrs. John Morgan (Elizabeth Agnes Mary White) ', 'female', '48', '0', '2', 'C.A. 33112', '36.75', '', 'S']\n",
            "['1223', '1', 'Dulles, Mr. William Crothers', 'male', '39', '0', '0', 'PC 17580', '29.7', 'A18', 'C']\n",
            "['1224', '3', 'Thomas, Mr. Tannous', 'male', '', '0', '0', '2684', '7.225', '', 'C']\n",
            "['1225', '3', 'Nakid, Mrs. Said (Waika Mary\" Mowad)\"', 'female', '19', '1', '1', '2653', '15.7417', '', 'C']\n",
            "['1226', '3', 'Cor, Mr. Ivan', 'male', '27', '0', '0', '349229', '7.8958', '', 'S']\n",
            "['1227', '1', 'Maguire, Mr. John Edward', 'male', '30', '0', '0', '110469', '26', 'C106', 'S']\n",
            "['1228', '2', 'de Brito, Mr. Jose Joaquim', 'male', '32', '0', '0', '244360', '13', '', 'S']\n",
            "['1229', '3', 'Elias, Mr. Joseph', 'male', '39', '0', '2', '2675', '7.2292', '', 'C']\n",
            "['1230', '2', 'Denbury, Mr. Herbert', 'male', '25', '0', '0', 'C.A. 31029', '31.5', '', 'S']\n",
            "['1231', '3', 'Betros, Master. Seman', 'male', '', '0', '0', '2622', '7.2292', '', 'C']\n",
            "['1232', '2', 'Fillbrook, Mr. Joseph Charles', 'male', '18', '0', '0', 'C.A. 15185', '10.5', '', 'S']\n",
            "['1233', '3', 'Lundstrom, Mr. Thure Edvin', 'male', '32', '0', '0', '350403', '7.5792', '', 'S']\n",
            "['1234', '3', 'Sage, Mr. John George', 'male', '', '1', '9', 'CA. 2343', '69.55', '', 'S']\n",
            "['1235', '1', 'Cardeza, Mrs. James Warburton Martinez (Charlotte Wardle Drake)', 'female', '58', '0', '1', 'PC 17755', '512.3292', 'B51 B53 B55', 'C']\n",
            "['1236', '3', 'van Billiard, Master. James William', 'male', '', '1', '1', 'A/5. 851', '14.5', '', 'S']\n",
            "['1237', '3', 'Abelseth, Miss. Karen Marie', 'female', '16', '0', '0', '348125', '7.65', '', 'S']\n",
            "['1238', '2', 'Botsford, Mr. William Hull', 'male', '26', '0', '0', '237670', '13', '', 'S']\n",
            "['1239', '3', 'Whabee, Mrs. George Joseph (Shawneene Abi-Saab)', 'female', '38', '0', '0', '2688', '7.2292', '', 'C']\n",
            "['1240', '2', 'Giles, Mr. Ralph', 'male', '24', '0', '0', '248726', '13.5', '', 'S']\n",
            "['1241', '2', 'Walcroft, Miss. Nellie', 'female', '31', '0', '0', 'F.C.C. 13528', '21', '', 'S']\n",
            "['1242', '1', 'Greenfield, Mrs. Leo David (Blanche Strouse)', 'female', '45', '0', '1', 'PC 17759', '63.3583', 'D10 D12', 'C']\n",
            "['1243', '2', 'Stokes, Mr. Philip Joseph', 'male', '25', '0', '0', 'F.C.C. 13540', '10.5', '', 'S']\n",
            "['1244', '2', 'Dibden, Mr. William', 'male', '18', '0', '0', 'S.O.C. 14879', '73.5', '', 'S']\n",
            "['1245', '2', 'Herman, Mr. Samuel', 'male', '49', '1', '2', '220845', '65', '', 'S']\n",
            "['1246', '3', 'Dean, Miss. Elizabeth Gladys Millvina\"\"', 'female', '0.17', '1', '2', 'C.A. 2315', '20.575', '', 'S']\n",
            "['1247', '1', 'Julian, Mr. Henry Forbes', 'male', '50', '0', '0', '113044', '26', 'E60', 'S']\n",
            "['1248', '1', 'Brown, Mrs. John Murray (Caroline Lane Lamson)', 'female', '59', '2', '0', '11769', '51.4792', 'C101', 'S']\n",
            "['1249', '3', 'Lockyer, Mr. Edward', 'male', '', '0', '0', '1222', '7.8792', '', 'S']\n",
            "['1250', '3', \"O'Keefe, Mr. Patrick\", 'male', '', '0', '0', '368402', '7.75', '', 'Q']\n",
            "['1251', '3', 'Lindell, Mrs. Edvard Bengtsson (Elin Gerda Persson)', 'female', '30', '1', '0', '349910', '15.55', '', 'S']\n",
            "['1252', '3', 'Sage, Master. William Henry', 'male', '14.5', '8', '2', 'CA. 2343', '69.55', '', 'S']\n",
            "['1253', '2', 'Mallet, Mrs. Albert (Antoinette Magnin)', 'female', '24', '1', '1', 'S.C./PARIS 2079', '37.0042', '', 'C']\n",
            "['1254', '2', 'Ware, Mrs. John James (Florence Louise Long)', 'female', '31', '0', '0', 'CA 31352', '21', '', 'S']\n",
            "['1255', '3', 'Strilic, Mr. Ivan', 'male', '27', '0', '0', '315083', '8.6625', '', 'S']\n",
            "['1256', '1', 'Harder, Mrs. George Achilles (Dorothy Annan)', 'female', '25', '1', '0', '11765', '55.4417', 'E50', 'C']\n",
            "['1257', '3', 'Sage, Mrs. John (Annie Bullen)', 'female', '', '1', '9', 'CA. 2343', '69.55', '', 'S']\n",
            "['1258', '3', 'Caram, Mr. Joseph', 'male', '', '1', '0', '2689', '14.4583', '', 'C']\n",
            "['1259', '3', 'Riihivouri, Miss. Susanna Juhantytar Sanni\"\"', 'female', '22', '0', '0', '3101295', '39.6875', '', 'S']\n",
            "['1260', '1', 'Gibson, Mrs. Leonard (Pauline C Boeson)', 'female', '45', '0', '1', '112378', '59.4', '', 'C']\n",
            "['1261', '2', 'Pallas y Castello, Mr. Emilio', 'male', '29', '0', '0', 'SC/PARIS 2147', '13.8583', '', 'C']\n",
            "['1262', '2', 'Giles, Mr. Edgar', 'male', '21', '1', '0', '28133', '11.5', '', 'S']\n",
            "['1263', '1', 'Wilson, Miss. Helen Alice', 'female', '31', '0', '0', '16966', '134.5', 'E39 E41', 'C']\n",
            "['1264', '1', 'Ismay, Mr. Joseph Bruce', 'male', '49', '0', '0', '112058', '0', 'B52 B54 B56', 'S']\n",
            "['1265', '2', 'Harbeck, Mr. William H', 'male', '44', '0', '0', '248746', '13', '', 'S']\n",
            "['1266', '1', 'Dodge, Mrs. Washington (Ruth Vidaver)', 'female', '54', '1', '1', '33638', '81.8583', 'A34', 'S']\n",
            "['1267', '1', 'Bowen, Miss. Grace Scott', 'female', '45', '0', '0', 'PC 17608', '262.375', '', 'C']\n",
            "['1268', '3', 'Kink, Miss. Maria', 'female', '22', '2', '0', '315152', '8.6625', '', 'S']\n",
            "['1269', '2', 'Cotterill, Mr. Henry Harry\"\"', 'male', '21', '0', '0', '29107', '11.5', '', 'S']\n",
            "['1270', '1', 'Hipkins, Mr. William Edward', 'male', '55', '0', '0', '680', '50', 'C39', 'S']\n",
            "['1271', '3', 'Asplund, Master. Carl Edgar', 'male', '5', '4', '2', '347077', '31.3875', '', 'S']\n",
            "['1272', '3', \"O'Connor, Mr. Patrick\", 'male', '', '0', '0', '366713', '7.75', '', 'Q']\n",
            "['1273', '3', 'Foley, Mr. Joseph', 'male', '26', '0', '0', '330910', '7.8792', '', 'Q']\n",
            "['1274', '3', 'Risien, Mrs. Samuel (Emma)', 'female', '', '0', '0', '364498', '14.5', '', 'S']\n",
            "['1275', '3', \"McNamee, Mrs. Neal (Eileen O'Leary)\", 'female', '19', '1', '0', '376566', '16.1', '', 'S']\n",
            "['1276', '2', 'Wheeler, Mr. Edwin Frederick\"\"', 'male', '', '0', '0', 'SC/PARIS 2159', '12.875', '', 'S']\n",
            "['1277', '2', 'Herman, Miss. Kate', 'female', '24', '1', '2', '220845', '65', '', 'S']\n",
            "['1278', '3', 'Aronsson, Mr. Ernst Axel Algot', 'male', '24', '0', '0', '349911', '7.775', '', 'S']\n",
            "['1279', '2', 'Ashby, Mr. John', 'male', '57', '0', '0', '244346', '13', '', 'S']\n",
            "['1280', '3', 'Canavan, Mr. Patrick', 'male', '21', '0', '0', '364858', '7.75', '', 'Q']\n",
            "['1281', '3', 'Palsson, Master. Paul Folke', 'male', '6', '3', '1', '349909', '21.075', '', 'S']\n",
            "['1282', '1', 'Payne, Mr. Vivian Ponsonby', 'male', '23', '0', '0', '12749', '93.5', 'B24', 'S']\n",
            "['1283', '1', 'Lines, Mrs. Ernest H (Elizabeth Lindsey James)', 'female', '51', '0', '1', 'PC 17592', '39.4', 'D28', 'S']\n",
            "['1284', '3', 'Abbott, Master. Eugene Joseph', 'male', '13', '0', '2', 'C.A. 2673', '20.25', '', 'S']\n",
            "['1285', '2', 'Gilbert, Mr. William', 'male', '47', '0', '0', 'C.A. 30769', '10.5', '', 'S']\n",
            "['1286', '3', 'Kink-Heilmann, Mr. Anton', 'male', '29', '3', '1', '315153', '22.025', '', 'S']\n",
            "['1287', '1', 'Smith, Mrs. Lucien Philip (Mary Eloise Hughes)', 'female', '18', '1', '0', '13695', '60', 'C31', 'S']\n",
            "['1288', '3', 'Colbert, Mr. Patrick', 'male', '24', '0', '0', '371109', '7.25', '', 'Q']\n",
            "['1289', '1', 'Frolicher-Stehli, Mrs. Maxmillian (Margaretha Emerentia Stehli)', 'female', '48', '1', '1', '13567', '79.2', 'B41', 'C']\n",
            "['1290', '3', 'Larsson-Rondberg, Mr. Edvard A', 'male', '22', '0', '0', '347065', '7.775', '', 'S']\n",
            "['1291', '3', 'Conlon, Mr. Thomas Henry', 'male', '31', '0', '0', '21332', '7.7333', '', 'Q']\n",
            "['1292', '1', 'Bonnell, Miss. Caroline', 'female', '30', '0', '0', '36928', '164.8667', 'C7', 'S']\n",
            "['1293', '2', 'Gale, Mr. Harry', 'male', '38', '1', '0', '28664', '21', '', 'S']\n",
            "['1294', '1', 'Gibson, Miss. Dorothy Winifred', 'female', '22', '0', '1', '112378', '59.4', '', 'C']\n",
            "['1295', '1', 'Carrau, Mr. Jose Pedro', 'male', '17', '0', '0', '113059', '47.1', '', 'S']\n",
            "['1296', '1', 'Frauenthal, Mr. Isaac Gerald', 'male', '43', '1', '0', '17765', '27.7208', 'D40', 'C']\n",
            "['1297', '2', 'Nourney, Mr. Alfred (Baron von Drachstedt\")\"', 'male', '20', '0', '0', 'SC/PARIS 2166', '13.8625', 'D38', 'C']\n",
            "['1298', '2', 'Ware, Mr. William Jeffery', 'male', '23', '1', '0', '28666', '10.5', '', 'S']\n",
            "['1299', '1', 'Widener, Mr. George Dunton', 'male', '50', '1', '1', '113503', '211.5', 'C80', 'C']\n",
            "['1300', '3', 'Riordan, Miss. Johanna Hannah\"\"', 'female', '', '0', '0', '334915', '7.7208', '', 'Q']\n",
            "['1301', '3', 'Peacock, Miss. Treasteall', 'female', '3', '1', '1', 'SOTON/O.Q. 3101315', '13.775', '', 'S']\n",
            "['1302', '3', 'Naughton, Miss. Hannah', 'female', '', '0', '0', '365237', '7.75', '', 'Q']\n",
            "['1303', '1', 'Minahan, Mrs. William Edward (Lillian E Thorpe)', 'female', '37', '1', '0', '19928', '90', 'C78', 'Q']\n",
            "['1304', '3', 'Henriksson, Miss. Jenny Lovisa', 'female', '28', '0', '0', '347086', '7.775', '', 'S']\n",
            "['1305', '3', 'Spector, Mr. Woolf', 'male', '', '0', '0', 'A.5. 3236', '8.05', '', 'S']\n",
            "['1306', '1', 'Oliva y Ocana, Dona. Fermina', 'female', '39', '0', '0', 'PC 17758', '108.9', 'C105', 'C']\n",
            "['1307', '3', 'Saether, Mr. Simon Sivertsen', 'male', '38.5', '0', '0', 'SOTON/O.Q. 3101262', '7.25', '', 'S']\n",
            "['1308', '3', 'Ware, Mr. Frederick', 'male', '', '0', '0', '359309', '8.05', '', 'S']\n",
            "['1309', '3', 'Peter, Master. Michael J', 'male', '', '1', '1', '2668', '22.3583', '', 'C']\n"
          ],
          "name": "stdout"
        }
      ]
    },
    {
      "cell_type": "code",
      "metadata": {
        "id": "irvnbiENCHj8",
        "colab_type": "code",
        "outputId": "619b2f1f-4b9c-4e5f-91dc-9615a32fe034",
        "colab": {
          "base_uri": "https://localhost:8080/",
          "height": 204
        }
      },
      "source": [
        "titanic_training = pd.read_csv(\"https://titanic-data-set.s3.amazonaws.com/train.csv\")\n",
        "\n",
        "titanic_training.head()\n"
      ],
      "execution_count": 0,
      "outputs": [
        {
          "output_type": "execute_result",
          "data": {
            "text/html": [
              "<div>\n",
              "<style scoped>\n",
              "    .dataframe tbody tr th:only-of-type {\n",
              "        vertical-align: middle;\n",
              "    }\n",
              "\n",
              "    .dataframe tbody tr th {\n",
              "        vertical-align: top;\n",
              "    }\n",
              "\n",
              "    .dataframe thead th {\n",
              "        text-align: right;\n",
              "    }\n",
              "</style>\n",
              "<table border=\"1\" class=\"dataframe\">\n",
              "  <thead>\n",
              "    <tr style=\"text-align: right;\">\n",
              "      <th></th>\n",
              "      <th>PassengerId</th>\n",
              "      <th>Survived</th>\n",
              "      <th>Pclass</th>\n",
              "      <th>Name</th>\n",
              "      <th>Sex</th>\n",
              "      <th>Age</th>\n",
              "      <th>SibSp</th>\n",
              "      <th>Parch</th>\n",
              "      <th>Ticket</th>\n",
              "      <th>Fare</th>\n",
              "      <th>Cabin</th>\n",
              "      <th>Embarked</th>\n",
              "    </tr>\n",
              "  </thead>\n",
              "  <tbody>\n",
              "    <tr>\n",
              "      <th>0</th>\n",
              "      <td>1</td>\n",
              "      <td>0</td>\n",
              "      <td>3</td>\n",
              "      <td>Braund, Mr. Owen Harris</td>\n",
              "      <td>male</td>\n",
              "      <td>22.0</td>\n",
              "      <td>1</td>\n",
              "      <td>0</td>\n",
              "      <td>A/5 21171</td>\n",
              "      <td>7.2500</td>\n",
              "      <td>NaN</td>\n",
              "      <td>S</td>\n",
              "    </tr>\n",
              "    <tr>\n",
              "      <th>1</th>\n",
              "      <td>2</td>\n",
              "      <td>1</td>\n",
              "      <td>1</td>\n",
              "      <td>Cumings, Mrs. John Bradley (Florence Briggs Th...</td>\n",
              "      <td>female</td>\n",
              "      <td>38.0</td>\n",
              "      <td>1</td>\n",
              "      <td>0</td>\n",
              "      <td>PC 17599</td>\n",
              "      <td>71.2833</td>\n",
              "      <td>C85</td>\n",
              "      <td>C</td>\n",
              "    </tr>\n",
              "    <tr>\n",
              "      <th>2</th>\n",
              "      <td>3</td>\n",
              "      <td>1</td>\n",
              "      <td>3</td>\n",
              "      <td>Heikkinen, Miss. Laina</td>\n",
              "      <td>female</td>\n",
              "      <td>26.0</td>\n",
              "      <td>0</td>\n",
              "      <td>0</td>\n",
              "      <td>STON/O2. 3101282</td>\n",
              "      <td>7.9250</td>\n",
              "      <td>NaN</td>\n",
              "      <td>S</td>\n",
              "    </tr>\n",
              "    <tr>\n",
              "      <th>3</th>\n",
              "      <td>4</td>\n",
              "      <td>1</td>\n",
              "      <td>1</td>\n",
              "      <td>Futrelle, Mrs. Jacques Heath (Lily May Peel)</td>\n",
              "      <td>female</td>\n",
              "      <td>35.0</td>\n",
              "      <td>1</td>\n",
              "      <td>0</td>\n",
              "      <td>113803</td>\n",
              "      <td>53.1000</td>\n",
              "      <td>C123</td>\n",
              "      <td>S</td>\n",
              "    </tr>\n",
              "    <tr>\n",
              "      <th>4</th>\n",
              "      <td>5</td>\n",
              "      <td>0</td>\n",
              "      <td>3</td>\n",
              "      <td>Allen, Mr. William Henry</td>\n",
              "      <td>male</td>\n",
              "      <td>35.0</td>\n",
              "      <td>0</td>\n",
              "      <td>0</td>\n",
              "      <td>373450</td>\n",
              "      <td>8.0500</td>\n",
              "      <td>NaN</td>\n",
              "      <td>S</td>\n",
              "    </tr>\n",
              "  </tbody>\n",
              "</table>\n",
              "</div>"
            ],
            "text/plain": [
              "   PassengerId  Survived  Pclass  ...     Fare Cabin  Embarked\n",
              "0            1         0       3  ...   7.2500   NaN         S\n",
              "1            2         1       1  ...  71.2833   C85         C\n",
              "2            3         1       3  ...   7.9250   NaN         S\n",
              "3            4         1       1  ...  53.1000  C123         S\n",
              "4            5         0       3  ...   8.0500   NaN         S\n",
              "\n",
              "[5 rows x 12 columns]"
            ]
          },
          "metadata": {
            "tags": []
          },
          "execution_count": 3
        }
      ]
    },
    {
      "cell_type": "code",
      "metadata": {
        "id": "ydi0DaItOh74",
        "colab_type": "code",
        "outputId": "1f7cb173-a3d9-42c7-c2ca-cfc0c74d8d6c",
        "colab": {
          "base_uri": "https://localhost:8080/",
          "height": 359
        }
      },
      "source": [
        "titanic_test = pd.read_csv(\"https://titanic-data-set.s3.amazonaws.com/test.csv\")\n",
        "\n",
        "titanic_data = pd.concat([titanic_training, titanic_test], axis=0, ignore_index=True, sort=True)\n",
        "\n",
        "titanic_data.head(10)"
      ],
      "execution_count": 0,
      "outputs": [
        {
          "output_type": "execute_result",
          "data": {
            "text/html": [
              "<div>\n",
              "<style scoped>\n",
              "    .dataframe tbody tr th:only-of-type {\n",
              "        vertical-align: middle;\n",
              "    }\n",
              "\n",
              "    .dataframe tbody tr th {\n",
              "        vertical-align: top;\n",
              "    }\n",
              "\n",
              "    .dataframe thead th {\n",
              "        text-align: right;\n",
              "    }\n",
              "</style>\n",
              "<table border=\"1\" class=\"dataframe\">\n",
              "  <thead>\n",
              "    <tr style=\"text-align: right;\">\n",
              "      <th></th>\n",
              "      <th>Age</th>\n",
              "      <th>Cabin</th>\n",
              "      <th>Embarked</th>\n",
              "      <th>Fare</th>\n",
              "      <th>Name</th>\n",
              "      <th>Parch</th>\n",
              "      <th>PassengerId</th>\n",
              "      <th>Pclass</th>\n",
              "      <th>Sex</th>\n",
              "      <th>SibSp</th>\n",
              "      <th>Survived</th>\n",
              "      <th>Ticket</th>\n",
              "    </tr>\n",
              "  </thead>\n",
              "  <tbody>\n",
              "    <tr>\n",
              "      <th>0</th>\n",
              "      <td>22.0</td>\n",
              "      <td>NaN</td>\n",
              "      <td>S</td>\n",
              "      <td>7.2500</td>\n",
              "      <td>Braund, Mr. Owen Harris</td>\n",
              "      <td>0</td>\n",
              "      <td>1</td>\n",
              "      <td>3</td>\n",
              "      <td>male</td>\n",
              "      <td>1</td>\n",
              "      <td>0.0</td>\n",
              "      <td>A/5 21171</td>\n",
              "    </tr>\n",
              "    <tr>\n",
              "      <th>1</th>\n",
              "      <td>38.0</td>\n",
              "      <td>C85</td>\n",
              "      <td>C</td>\n",
              "      <td>71.2833</td>\n",
              "      <td>Cumings, Mrs. John Bradley (Florence Briggs Th...</td>\n",
              "      <td>0</td>\n",
              "      <td>2</td>\n",
              "      <td>1</td>\n",
              "      <td>female</td>\n",
              "      <td>1</td>\n",
              "      <td>1.0</td>\n",
              "      <td>PC 17599</td>\n",
              "    </tr>\n",
              "    <tr>\n",
              "      <th>2</th>\n",
              "      <td>26.0</td>\n",
              "      <td>NaN</td>\n",
              "      <td>S</td>\n",
              "      <td>7.9250</td>\n",
              "      <td>Heikkinen, Miss. Laina</td>\n",
              "      <td>0</td>\n",
              "      <td>3</td>\n",
              "      <td>3</td>\n",
              "      <td>female</td>\n",
              "      <td>0</td>\n",
              "      <td>1.0</td>\n",
              "      <td>STON/O2. 3101282</td>\n",
              "    </tr>\n",
              "    <tr>\n",
              "      <th>3</th>\n",
              "      <td>35.0</td>\n",
              "      <td>C123</td>\n",
              "      <td>S</td>\n",
              "      <td>53.1000</td>\n",
              "      <td>Futrelle, Mrs. Jacques Heath (Lily May Peel)</td>\n",
              "      <td>0</td>\n",
              "      <td>4</td>\n",
              "      <td>1</td>\n",
              "      <td>female</td>\n",
              "      <td>1</td>\n",
              "      <td>1.0</td>\n",
              "      <td>113803</td>\n",
              "    </tr>\n",
              "    <tr>\n",
              "      <th>4</th>\n",
              "      <td>35.0</td>\n",
              "      <td>NaN</td>\n",
              "      <td>S</td>\n",
              "      <td>8.0500</td>\n",
              "      <td>Allen, Mr. William Henry</td>\n",
              "      <td>0</td>\n",
              "      <td>5</td>\n",
              "      <td>3</td>\n",
              "      <td>male</td>\n",
              "      <td>0</td>\n",
              "      <td>0.0</td>\n",
              "      <td>373450</td>\n",
              "    </tr>\n",
              "    <tr>\n",
              "      <th>5</th>\n",
              "      <td>NaN</td>\n",
              "      <td>NaN</td>\n",
              "      <td>Q</td>\n",
              "      <td>8.4583</td>\n",
              "      <td>Moran, Mr. James</td>\n",
              "      <td>0</td>\n",
              "      <td>6</td>\n",
              "      <td>3</td>\n",
              "      <td>male</td>\n",
              "      <td>0</td>\n",
              "      <td>0.0</td>\n",
              "      <td>330877</td>\n",
              "    </tr>\n",
              "    <tr>\n",
              "      <th>6</th>\n",
              "      <td>54.0</td>\n",
              "      <td>E46</td>\n",
              "      <td>S</td>\n",
              "      <td>51.8625</td>\n",
              "      <td>McCarthy, Mr. Timothy J</td>\n",
              "      <td>0</td>\n",
              "      <td>7</td>\n",
              "      <td>1</td>\n",
              "      <td>male</td>\n",
              "      <td>0</td>\n",
              "      <td>0.0</td>\n",
              "      <td>17463</td>\n",
              "    </tr>\n",
              "    <tr>\n",
              "      <th>7</th>\n",
              "      <td>2.0</td>\n",
              "      <td>NaN</td>\n",
              "      <td>S</td>\n",
              "      <td>21.0750</td>\n",
              "      <td>Palsson, Master. Gosta Leonard</td>\n",
              "      <td>1</td>\n",
              "      <td>8</td>\n",
              "      <td>3</td>\n",
              "      <td>male</td>\n",
              "      <td>3</td>\n",
              "      <td>0.0</td>\n",
              "      <td>349909</td>\n",
              "    </tr>\n",
              "    <tr>\n",
              "      <th>8</th>\n",
              "      <td>27.0</td>\n",
              "      <td>NaN</td>\n",
              "      <td>S</td>\n",
              "      <td>11.1333</td>\n",
              "      <td>Johnson, Mrs. Oscar W (Elisabeth Vilhelmina Berg)</td>\n",
              "      <td>2</td>\n",
              "      <td>9</td>\n",
              "      <td>3</td>\n",
              "      <td>female</td>\n",
              "      <td>0</td>\n",
              "      <td>1.0</td>\n",
              "      <td>347742</td>\n",
              "    </tr>\n",
              "    <tr>\n",
              "      <th>9</th>\n",
              "      <td>14.0</td>\n",
              "      <td>NaN</td>\n",
              "      <td>C</td>\n",
              "      <td>30.0708</td>\n",
              "      <td>Nasser, Mrs. Nicholas (Adele Achem)</td>\n",
              "      <td>0</td>\n",
              "      <td>10</td>\n",
              "      <td>2</td>\n",
              "      <td>female</td>\n",
              "      <td>1</td>\n",
              "      <td>1.0</td>\n",
              "      <td>237736</td>\n",
              "    </tr>\n",
              "  </tbody>\n",
              "</table>\n",
              "</div>"
            ],
            "text/plain": [
              "    Age Cabin Embarked     Fare  ...     Sex  SibSp  Survived            Ticket\n",
              "0  22.0   NaN        S   7.2500  ...    male      1       0.0         A/5 21171\n",
              "1  38.0   C85        C  71.2833  ...  female      1       1.0          PC 17599\n",
              "2  26.0   NaN        S   7.9250  ...  female      0       1.0  STON/O2. 3101282\n",
              "3  35.0  C123        S  53.1000  ...  female      1       1.0            113803\n",
              "4  35.0   NaN        S   8.0500  ...    male      0       0.0            373450\n",
              "5   NaN   NaN        Q   8.4583  ...    male      0       0.0            330877\n",
              "6  54.0   E46        S  51.8625  ...    male      0       0.0             17463\n",
              "7   2.0   NaN        S  21.0750  ...    male      3       0.0            349909\n",
              "8  27.0   NaN        S  11.1333  ...  female      0       1.0            347742\n",
              "9  14.0   NaN        C  30.0708  ...  female      1       1.0            237736\n",
              "\n",
              "[10 rows x 12 columns]"
            ]
          },
          "metadata": {
            "tags": []
          },
          "execution_count": 78
        }
      ]
    },
    {
      "cell_type": "markdown",
      "metadata": {
        "id": "9HZD7FQhDgw5",
        "colab_type": "text"
      },
      "source": [
        "\n",
        "# **Limpieza de los datos**\n",
        "\n",
        "Qué es la limpieza de datos y porqué debe importarnos?\n",
        "\n",
        "Los datos pueden presentar problemas. Estos problemas pueden ocurrir durante la recolección, el almacenamiento o el envío. \n",
        "\n",
        "Estos problemas pueden efectar nuestro análisis, entonces debemos considerar los detalles que pudieran existir, antes de empezar a generar nuestras conclusiones.\n",
        "\n",
        "En resumen:\n",
        "\n",
        "    Tenemos que tener en cuenta los problemas de nuestros datos.\n",
        "    Y comprender cómo pueden afectar nuestro análisis.\n",
        "\n",
        "**Algunos problemas comunes**\n",
        "\n",
        "Muchas cosas pueden salir mal al recopilar datos y su efecto debe determinarse en cada análisis. \n",
        "\n",
        "No existe una fórmula o herramienta mágica que haga el trabajo por nosotros. \n",
        "Sin embargo, podemos tener algunas ideas de problemas comunes con los datos:\n",
        "\n",
        "    Los registros pueden tener atributos faltantes.\n",
        "    Los registros pueden tener valores y atributos duplicados.\n",
        "    Los registros pueden tener más o menos valores que otros registros.\n",
        "    Los nombres de los atributos pueden ser engañosos.\n",
        "    Los valores de los atributos pueden tener un rango extremadamente amplio.\n",
        "    Los valores de los atributos en realidad pueden ser una combinación de atributos.\n",
        "    Los valores para las fechas pueden tener diferentes formatos.\n",
        "    Los atributos numéricos pueden tener un valor de texto fuera de lugar, o viceversa.\n",
        "\n",
        "\n",
        "\n"
      ]
    },
    {
      "cell_type": "code",
      "metadata": {
        "id": "2jwCptLpdcs_",
        "colab_type": "code",
        "outputId": "59ce31b8-680e-4f1c-b826-651e456a6bc8",
        "colab": {
          "base_uri": "https://localhost:8080/",
          "height": 340
        }
      },
      "source": [
        "titanic_data.info()"
      ],
      "execution_count": 0,
      "outputs": [
        {
          "output_type": "stream",
          "text": [
            "<class 'pandas.core.frame.DataFrame'>\n",
            "RangeIndex: 1309 entries, 0 to 1308\n",
            "Data columns (total 12 columns):\n",
            " #   Column       Non-Null Count  Dtype  \n",
            "---  ------       --------------  -----  \n",
            " 0   Age          1046 non-null   float64\n",
            " 1   Cabin        295 non-null    object \n",
            " 2   Embarked     1307 non-null   object \n",
            " 3   Fare         1308 non-null   float64\n",
            " 4   Name         1309 non-null   object \n",
            " 5   Parch        1309 non-null   int64  \n",
            " 6   PassengerId  1309 non-null   int64  \n",
            " 7   Pclass       1309 non-null   int64  \n",
            " 8   Sex          1309 non-null   object \n",
            " 9   SibSp        1309 non-null   int64  \n",
            " 10  Survived     891 non-null    float64\n",
            " 11  Ticket       1309 non-null   object \n",
            "dtypes: float64(3), int64(4), object(5)\n",
            "memory usage: 122.8+ KB\n"
          ],
          "name": "stdout"
        }
      ]
    },
    {
      "cell_type": "code",
      "metadata": {
        "id": "WBR3Dc_Bdml4",
        "colab_type": "code",
        "outputId": "0d1ba9ca-b9b4-474c-e301-b53895c31d10",
        "colab": {
          "base_uri": "https://localhost:8080/",
          "height": 359
        }
      },
      "source": [
        "titanic_data.tail(10)\n",
        "# valores Na?"
      ],
      "execution_count": 0,
      "outputs": [
        {
          "output_type": "execute_result",
          "data": {
            "text/html": [
              "<div>\n",
              "<style scoped>\n",
              "    .dataframe tbody tr th:only-of-type {\n",
              "        vertical-align: middle;\n",
              "    }\n",
              "\n",
              "    .dataframe tbody tr th {\n",
              "        vertical-align: top;\n",
              "    }\n",
              "\n",
              "    .dataframe thead th {\n",
              "        text-align: right;\n",
              "    }\n",
              "</style>\n",
              "<table border=\"1\" class=\"dataframe\">\n",
              "  <thead>\n",
              "    <tr style=\"text-align: right;\">\n",
              "      <th></th>\n",
              "      <th>Age</th>\n",
              "      <th>Cabin</th>\n",
              "      <th>Embarked</th>\n",
              "      <th>Fare</th>\n",
              "      <th>Name</th>\n",
              "      <th>Parch</th>\n",
              "      <th>PassengerId</th>\n",
              "      <th>Pclass</th>\n",
              "      <th>Sex</th>\n",
              "      <th>SibSp</th>\n",
              "      <th>Survived</th>\n",
              "      <th>Ticket</th>\n",
              "    </tr>\n",
              "  </thead>\n",
              "  <tbody>\n",
              "    <tr>\n",
              "      <th>1299</th>\n",
              "      <td>NaN</td>\n",
              "      <td>NaN</td>\n",
              "      <td>Q</td>\n",
              "      <td>7.7208</td>\n",
              "      <td>Riordan, Miss. Johanna Hannah\"\"</td>\n",
              "      <td>0</td>\n",
              "      <td>1300</td>\n",
              "      <td>3</td>\n",
              "      <td>female</td>\n",
              "      <td>0</td>\n",
              "      <td>NaN</td>\n",
              "      <td>334915</td>\n",
              "    </tr>\n",
              "    <tr>\n",
              "      <th>1300</th>\n",
              "      <td>3.0</td>\n",
              "      <td>NaN</td>\n",
              "      <td>S</td>\n",
              "      <td>13.7750</td>\n",
              "      <td>Peacock, Miss. Treasteall</td>\n",
              "      <td>1</td>\n",
              "      <td>1301</td>\n",
              "      <td>3</td>\n",
              "      <td>female</td>\n",
              "      <td>1</td>\n",
              "      <td>NaN</td>\n",
              "      <td>SOTON/O.Q. 3101315</td>\n",
              "    </tr>\n",
              "    <tr>\n",
              "      <th>1301</th>\n",
              "      <td>NaN</td>\n",
              "      <td>NaN</td>\n",
              "      <td>Q</td>\n",
              "      <td>7.7500</td>\n",
              "      <td>Naughton, Miss. Hannah</td>\n",
              "      <td>0</td>\n",
              "      <td>1302</td>\n",
              "      <td>3</td>\n",
              "      <td>female</td>\n",
              "      <td>0</td>\n",
              "      <td>NaN</td>\n",
              "      <td>365237</td>\n",
              "    </tr>\n",
              "    <tr>\n",
              "      <th>1302</th>\n",
              "      <td>37.0</td>\n",
              "      <td>C78</td>\n",
              "      <td>Q</td>\n",
              "      <td>90.0000</td>\n",
              "      <td>Minahan, Mrs. William Edward (Lillian E Thorpe)</td>\n",
              "      <td>0</td>\n",
              "      <td>1303</td>\n",
              "      <td>1</td>\n",
              "      <td>female</td>\n",
              "      <td>1</td>\n",
              "      <td>NaN</td>\n",
              "      <td>19928</td>\n",
              "    </tr>\n",
              "    <tr>\n",
              "      <th>1303</th>\n",
              "      <td>28.0</td>\n",
              "      <td>NaN</td>\n",
              "      <td>S</td>\n",
              "      <td>7.7750</td>\n",
              "      <td>Henriksson, Miss. Jenny Lovisa</td>\n",
              "      <td>0</td>\n",
              "      <td>1304</td>\n",
              "      <td>3</td>\n",
              "      <td>female</td>\n",
              "      <td>0</td>\n",
              "      <td>NaN</td>\n",
              "      <td>347086</td>\n",
              "    </tr>\n",
              "    <tr>\n",
              "      <th>1304</th>\n",
              "      <td>NaN</td>\n",
              "      <td>NaN</td>\n",
              "      <td>S</td>\n",
              "      <td>8.0500</td>\n",
              "      <td>Spector, Mr. Woolf</td>\n",
              "      <td>0</td>\n",
              "      <td>1305</td>\n",
              "      <td>3</td>\n",
              "      <td>male</td>\n",
              "      <td>0</td>\n",
              "      <td>NaN</td>\n",
              "      <td>A.5. 3236</td>\n",
              "    </tr>\n",
              "    <tr>\n",
              "      <th>1305</th>\n",
              "      <td>39.0</td>\n",
              "      <td>C105</td>\n",
              "      <td>C</td>\n",
              "      <td>108.9000</td>\n",
              "      <td>Oliva y Ocana, Dona. Fermina</td>\n",
              "      <td>0</td>\n",
              "      <td>1306</td>\n",
              "      <td>1</td>\n",
              "      <td>female</td>\n",
              "      <td>0</td>\n",
              "      <td>NaN</td>\n",
              "      <td>PC 17758</td>\n",
              "    </tr>\n",
              "    <tr>\n",
              "      <th>1306</th>\n",
              "      <td>38.5</td>\n",
              "      <td>NaN</td>\n",
              "      <td>S</td>\n",
              "      <td>7.2500</td>\n",
              "      <td>Saether, Mr. Simon Sivertsen</td>\n",
              "      <td>0</td>\n",
              "      <td>1307</td>\n",
              "      <td>3</td>\n",
              "      <td>male</td>\n",
              "      <td>0</td>\n",
              "      <td>NaN</td>\n",
              "      <td>SOTON/O.Q. 3101262</td>\n",
              "    </tr>\n",
              "    <tr>\n",
              "      <th>1307</th>\n",
              "      <td>NaN</td>\n",
              "      <td>NaN</td>\n",
              "      <td>S</td>\n",
              "      <td>8.0500</td>\n",
              "      <td>Ware, Mr. Frederick</td>\n",
              "      <td>0</td>\n",
              "      <td>1308</td>\n",
              "      <td>3</td>\n",
              "      <td>male</td>\n",
              "      <td>0</td>\n",
              "      <td>NaN</td>\n",
              "      <td>359309</td>\n",
              "    </tr>\n",
              "    <tr>\n",
              "      <th>1308</th>\n",
              "      <td>NaN</td>\n",
              "      <td>NaN</td>\n",
              "      <td>C</td>\n",
              "      <td>22.3583</td>\n",
              "      <td>Peter, Master. Michael J</td>\n",
              "      <td>1</td>\n",
              "      <td>1309</td>\n",
              "      <td>3</td>\n",
              "      <td>male</td>\n",
              "      <td>1</td>\n",
              "      <td>NaN</td>\n",
              "      <td>2668</td>\n",
              "    </tr>\n",
              "  </tbody>\n",
              "</table>\n",
              "</div>"
            ],
            "text/plain": [
              "       Age Cabin Embarked  ...  SibSp Survived              Ticket\n",
              "1299   NaN   NaN        Q  ...      0      NaN              334915\n",
              "1300   3.0   NaN        S  ...      1      NaN  SOTON/O.Q. 3101315\n",
              "1301   NaN   NaN        Q  ...      0      NaN              365237\n",
              "1302  37.0   C78        Q  ...      1      NaN               19928\n",
              "1303  28.0   NaN        S  ...      0      NaN              347086\n",
              "1304   NaN   NaN        S  ...      0      NaN           A.5. 3236\n",
              "1305  39.0  C105        C  ...      0      NaN            PC 17758\n",
              "1306  38.5   NaN        S  ...      0      NaN  SOTON/O.Q. 3101262\n",
              "1307   NaN   NaN        S  ...      0      NaN              359309\n",
              "1308   NaN   NaN        C  ...      1      NaN                2668\n",
              "\n",
              "[10 rows x 12 columns]"
            ]
          },
          "metadata": {
            "tags": []
          },
          "execution_count": 7
        }
      ]
    },
    {
      "cell_type": "code",
      "metadata": {
        "id": "lR_mI75ieBJA",
        "colab_type": "code",
        "outputId": "82f0243d-fd36-4b0e-c473-42216d29904d",
        "colab": {
          "base_uri": "https://localhost:8080/",
          "height": 204
        }
      },
      "source": [
        "# NA Not available\n",
        "titanic_data.tail().isna()"
      ],
      "execution_count": 0,
      "outputs": [
        {
          "output_type": "execute_result",
          "data": {
            "text/html": [
              "<div>\n",
              "<style scoped>\n",
              "    .dataframe tbody tr th:only-of-type {\n",
              "        vertical-align: middle;\n",
              "    }\n",
              "\n",
              "    .dataframe tbody tr th {\n",
              "        vertical-align: top;\n",
              "    }\n",
              "\n",
              "    .dataframe thead th {\n",
              "        text-align: right;\n",
              "    }\n",
              "</style>\n",
              "<table border=\"1\" class=\"dataframe\">\n",
              "  <thead>\n",
              "    <tr style=\"text-align: right;\">\n",
              "      <th></th>\n",
              "      <th>Age</th>\n",
              "      <th>Cabin</th>\n",
              "      <th>Embarked</th>\n",
              "      <th>Fare</th>\n",
              "      <th>Name</th>\n",
              "      <th>Parch</th>\n",
              "      <th>PassengerId</th>\n",
              "      <th>Pclass</th>\n",
              "      <th>Sex</th>\n",
              "      <th>SibSp</th>\n",
              "      <th>Survived</th>\n",
              "      <th>Ticket</th>\n",
              "    </tr>\n",
              "  </thead>\n",
              "  <tbody>\n",
              "    <tr>\n",
              "      <th>1304</th>\n",
              "      <td>True</td>\n",
              "      <td>True</td>\n",
              "      <td>False</td>\n",
              "      <td>False</td>\n",
              "      <td>False</td>\n",
              "      <td>False</td>\n",
              "      <td>False</td>\n",
              "      <td>False</td>\n",
              "      <td>False</td>\n",
              "      <td>False</td>\n",
              "      <td>True</td>\n",
              "      <td>False</td>\n",
              "    </tr>\n",
              "    <tr>\n",
              "      <th>1305</th>\n",
              "      <td>False</td>\n",
              "      <td>False</td>\n",
              "      <td>False</td>\n",
              "      <td>False</td>\n",
              "      <td>False</td>\n",
              "      <td>False</td>\n",
              "      <td>False</td>\n",
              "      <td>False</td>\n",
              "      <td>False</td>\n",
              "      <td>False</td>\n",
              "      <td>True</td>\n",
              "      <td>False</td>\n",
              "    </tr>\n",
              "    <tr>\n",
              "      <th>1306</th>\n",
              "      <td>False</td>\n",
              "      <td>True</td>\n",
              "      <td>False</td>\n",
              "      <td>False</td>\n",
              "      <td>False</td>\n",
              "      <td>False</td>\n",
              "      <td>False</td>\n",
              "      <td>False</td>\n",
              "      <td>False</td>\n",
              "      <td>False</td>\n",
              "      <td>True</td>\n",
              "      <td>False</td>\n",
              "    </tr>\n",
              "    <tr>\n",
              "      <th>1307</th>\n",
              "      <td>True</td>\n",
              "      <td>True</td>\n",
              "      <td>False</td>\n",
              "      <td>False</td>\n",
              "      <td>False</td>\n",
              "      <td>False</td>\n",
              "      <td>False</td>\n",
              "      <td>False</td>\n",
              "      <td>False</td>\n",
              "      <td>False</td>\n",
              "      <td>True</td>\n",
              "      <td>False</td>\n",
              "    </tr>\n",
              "    <tr>\n",
              "      <th>1308</th>\n",
              "      <td>True</td>\n",
              "      <td>True</td>\n",
              "      <td>False</td>\n",
              "      <td>False</td>\n",
              "      <td>False</td>\n",
              "      <td>False</td>\n",
              "      <td>False</td>\n",
              "      <td>False</td>\n",
              "      <td>False</td>\n",
              "      <td>False</td>\n",
              "      <td>True</td>\n",
              "      <td>False</td>\n",
              "    </tr>\n",
              "  </tbody>\n",
              "</table>\n",
              "</div>"
            ],
            "text/plain": [
              "        Age  Cabin  Embarked   Fare  ...    Sex  SibSp  Survived  Ticket\n",
              "1304   True   True     False  False  ...  False  False      True   False\n",
              "1305  False  False     False  False  ...  False  False      True   False\n",
              "1306  False   True     False  False  ...  False  False      True   False\n",
              "1307   True   True     False  False  ...  False  False      True   False\n",
              "1308   True   True     False  False  ...  False  False      True   False\n",
              "\n",
              "[5 rows x 12 columns]"
            ]
          },
          "metadata": {
            "tags": []
          },
          "execution_count": 8
        }
      ]
    },
    {
      "cell_type": "markdown",
      "metadata": {
        "id": "np-FHiyfbh3f",
        "colab_type": "text"
      },
      "source": [
        "**Encadenamiento de métodos en python**\n",
        "\n",
        "El encadenamiento de métodos es un estilo de programación que invoca múltiples llamadas secuenciales, cada llamada realiza una acción en el mismo objeto y lo regresa ya modificado. \n",
        "\n",
        "Elimina la necesidad de crear variables en cada paso."
      ]
    },
    {
      "cell_type": "code",
      "metadata": {
        "id": "2uADz11Mf82H",
        "colab_type": "code",
        "outputId": "f94f977b-3603-4ad6-b2c3-2cc0e73958e3",
        "colab": {
          "base_uri": "https://localhost:8080/",
          "height": 34
        }
      },
      "source": [
        "name = '    SAturDays*AI      '\n",
        "\n",
        "# pasos:\n",
        "# 1. quitar mayusculas\n",
        "# 2. reemplazar el * por .\n",
        "# 3. quitar los espacios en blanco al inicio y al final\n",
        "\n",
        "print(\n",
        "    name.lower()\n",
        "        .replace('*','.')\n",
        "        .strip()\n",
        ")"
      ],
      "execution_count": 0,
      "outputs": [
        {
          "output_type": "stream",
          "text": [
            "saturdays.ai\n"
          ],
          "name": "stdout"
        }
      ]
    },
    {
      "cell_type": "code",
      "metadata": {
        "id": "ERcsl3UDhATJ",
        "colab_type": "code",
        "outputId": "8b256879-33ff-4fb2-b8bf-920eec3d1412",
        "colab": {
          "base_uri": "https://localhost:8080/",
          "height": 238
        }
      },
      "source": [
        "titanic_data.isna().sum()"
      ],
      "execution_count": 0,
      "outputs": [
        {
          "output_type": "execute_result",
          "data": {
            "text/plain": [
              "Age             263\n",
              "Cabin          1014\n",
              "Embarked          2\n",
              "Fare              1\n",
              "Name              0\n",
              "Parch             0\n",
              "PassengerId       0\n",
              "Pclass            0\n",
              "Sex               0\n",
              "SibSp             0\n",
              "Survived        418\n",
              "Ticket            0\n",
              "dtype: int64"
            ]
          },
          "metadata": {
            "tags": []
          },
          "execution_count": 10
        }
      ]
    },
    {
      "cell_type": "code",
      "metadata": {
        "id": "Ggpm4W5WhLJ-",
        "colab_type": "code",
        "outputId": "23e8bcfe-e1e3-4314-8cd6-8b5d05d4d82b",
        "colab": {
          "base_uri": "https://localhost:8080/",
          "height": 204
        }
      },
      "source": [
        "# filtrar los datos donde Cabin si tenga valores validos\n",
        "\n",
        "rows_with_cabin = titanic_data['Cabin'].isna() == False\n",
        "\n",
        "titanic_data[rows_with_cabin].head()\n"
      ],
      "execution_count": 0,
      "outputs": [
        {
          "output_type": "execute_result",
          "data": {
            "text/html": [
              "<div>\n",
              "<style scoped>\n",
              "    .dataframe tbody tr th:only-of-type {\n",
              "        vertical-align: middle;\n",
              "    }\n",
              "\n",
              "    .dataframe tbody tr th {\n",
              "        vertical-align: top;\n",
              "    }\n",
              "\n",
              "    .dataframe thead th {\n",
              "        text-align: right;\n",
              "    }\n",
              "</style>\n",
              "<table border=\"1\" class=\"dataframe\">\n",
              "  <thead>\n",
              "    <tr style=\"text-align: right;\">\n",
              "      <th></th>\n",
              "      <th>Age</th>\n",
              "      <th>Cabin</th>\n",
              "      <th>Embarked</th>\n",
              "      <th>Fare</th>\n",
              "      <th>Name</th>\n",
              "      <th>Parch</th>\n",
              "      <th>PassengerId</th>\n",
              "      <th>Pclass</th>\n",
              "      <th>Sex</th>\n",
              "      <th>SibSp</th>\n",
              "      <th>Survived</th>\n",
              "      <th>Ticket</th>\n",
              "    </tr>\n",
              "  </thead>\n",
              "  <tbody>\n",
              "    <tr>\n",
              "      <th>1</th>\n",
              "      <td>38.0</td>\n",
              "      <td>C85</td>\n",
              "      <td>C</td>\n",
              "      <td>71.2833</td>\n",
              "      <td>Cumings, Mrs. John Bradley (Florence Briggs Th...</td>\n",
              "      <td>0</td>\n",
              "      <td>2</td>\n",
              "      <td>1</td>\n",
              "      <td>female</td>\n",
              "      <td>1</td>\n",
              "      <td>1.0</td>\n",
              "      <td>PC 17599</td>\n",
              "    </tr>\n",
              "    <tr>\n",
              "      <th>3</th>\n",
              "      <td>35.0</td>\n",
              "      <td>C123</td>\n",
              "      <td>S</td>\n",
              "      <td>53.1000</td>\n",
              "      <td>Futrelle, Mrs. Jacques Heath (Lily May Peel)</td>\n",
              "      <td>0</td>\n",
              "      <td>4</td>\n",
              "      <td>1</td>\n",
              "      <td>female</td>\n",
              "      <td>1</td>\n",
              "      <td>1.0</td>\n",
              "      <td>113803</td>\n",
              "    </tr>\n",
              "    <tr>\n",
              "      <th>6</th>\n",
              "      <td>54.0</td>\n",
              "      <td>E46</td>\n",
              "      <td>S</td>\n",
              "      <td>51.8625</td>\n",
              "      <td>McCarthy, Mr. Timothy J</td>\n",
              "      <td>0</td>\n",
              "      <td>7</td>\n",
              "      <td>1</td>\n",
              "      <td>male</td>\n",
              "      <td>0</td>\n",
              "      <td>0.0</td>\n",
              "      <td>17463</td>\n",
              "    </tr>\n",
              "    <tr>\n",
              "      <th>10</th>\n",
              "      <td>4.0</td>\n",
              "      <td>G6</td>\n",
              "      <td>S</td>\n",
              "      <td>16.7000</td>\n",
              "      <td>Sandstrom, Miss. Marguerite Rut</td>\n",
              "      <td>1</td>\n",
              "      <td>11</td>\n",
              "      <td>3</td>\n",
              "      <td>female</td>\n",
              "      <td>1</td>\n",
              "      <td>1.0</td>\n",
              "      <td>PP 9549</td>\n",
              "    </tr>\n",
              "    <tr>\n",
              "      <th>11</th>\n",
              "      <td>58.0</td>\n",
              "      <td>C103</td>\n",
              "      <td>S</td>\n",
              "      <td>26.5500</td>\n",
              "      <td>Bonnell, Miss. Elizabeth</td>\n",
              "      <td>0</td>\n",
              "      <td>12</td>\n",
              "      <td>1</td>\n",
              "      <td>female</td>\n",
              "      <td>0</td>\n",
              "      <td>1.0</td>\n",
              "      <td>113783</td>\n",
              "    </tr>\n",
              "  </tbody>\n",
              "</table>\n",
              "</div>"
            ],
            "text/plain": [
              "     Age Cabin Embarked     Fare  ...     Sex  SibSp  Survived    Ticket\n",
              "1   38.0   C85        C  71.2833  ...  female      1       1.0  PC 17599\n",
              "3   35.0  C123        S  53.1000  ...  female      1       1.0    113803\n",
              "6   54.0   E46        S  51.8625  ...    male      0       0.0     17463\n",
              "10   4.0    G6        S  16.7000  ...  female      1       1.0   PP 9549\n",
              "11  58.0  C103        S  26.5500  ...  female      0       1.0    113783\n",
              "\n",
              "[5 rows x 12 columns]"
            ]
          },
          "metadata": {
            "tags": []
          },
          "execution_count": 11
        }
      ]
    },
    {
      "cell_type": "code",
      "metadata": {
        "id": "ncNcE_zShpr7",
        "colab_type": "code",
        "outputId": "b0afca30-1c0a-475f-c617-5d8649a11d9a",
        "colab": {
          "base_uri": "https://localhost:8080/",
          "height": 111
        }
      },
      "source": [
        "titanic_data['Name'].duplicated().sum()"
      ],
      "execution_count": 0,
      "outputs": [
        {
          "output_type": "execute_result",
          "data": {
            "text/html": [
              "<div>\n",
              "<style scoped>\n",
              "    .dataframe tbody tr th:only-of-type {\n",
              "        vertical-align: middle;\n",
              "    }\n",
              "\n",
              "    .dataframe tbody tr th {\n",
              "        vertical-align: top;\n",
              "    }\n",
              "\n",
              "    .dataframe thead th {\n",
              "        text-align: right;\n",
              "    }\n",
              "</style>\n",
              "<table border=\"1\" class=\"dataframe\">\n",
              "  <thead>\n",
              "    <tr style=\"text-align: right;\">\n",
              "      <th></th>\n",
              "      <th>Age</th>\n",
              "      <th>Cabin</th>\n",
              "      <th>Embarked</th>\n",
              "      <th>Fare</th>\n",
              "      <th>Name</th>\n",
              "      <th>Parch</th>\n",
              "      <th>PassengerId</th>\n",
              "      <th>Pclass</th>\n",
              "      <th>Sex</th>\n",
              "      <th>SibSp</th>\n",
              "      <th>Survived</th>\n",
              "      <th>Ticket</th>\n",
              "    </tr>\n",
              "  </thead>\n",
              "  <tbody>\n",
              "    <tr>\n",
              "      <th>1</th>\n",
              "      <td>38.0</td>\n",
              "      <td>C85</td>\n",
              "      <td>C</td>\n",
              "      <td>71.2833</td>\n",
              "      <td>Cumings, Mrs. John Bradley (Florence Briggs Th...</td>\n",
              "      <td>0</td>\n",
              "      <td>2</td>\n",
              "      <td>1</td>\n",
              "      <td>female</td>\n",
              "      <td>1</td>\n",
              "      <td>1.0</td>\n",
              "      <td>PC 17599</td>\n",
              "    </tr>\n",
              "    <tr>\n",
              "      <th>1125</th>\n",
              "      <td>39.0</td>\n",
              "      <td>C85</td>\n",
              "      <td>C</td>\n",
              "      <td>71.2833</td>\n",
              "      <td>Cumings, Mr. John Bradley</td>\n",
              "      <td>0</td>\n",
              "      <td>1126</td>\n",
              "      <td>1</td>\n",
              "      <td>male</td>\n",
              "      <td>1</td>\n",
              "      <td>NaN</td>\n",
              "      <td>PC 17599</td>\n",
              "    </tr>\n",
              "  </tbody>\n",
              "</table>\n",
              "</div>"
            ],
            "text/plain": [
              "       Age Cabin Embarked     Fare  ...     Sex  SibSp  Survived    Ticket\n",
              "1     38.0   C85        C  71.2833  ...  female      1       1.0  PC 17599\n",
              "1125  39.0   C85        C  71.2833  ...    male      1       NaN  PC 17599\n",
              "\n",
              "[2 rows x 12 columns]"
            ]
          },
          "metadata": {
            "tags": []
          },
          "execution_count": 19
        }
      ]
    },
    {
      "cell_type": "code",
      "metadata": {
        "id": "Pa0zxshZQQvn",
        "colab_type": "code",
        "outputId": "25301915-2327-40f4-caba-33915764fc4c",
        "colab": {
          "base_uri": "https://localhost:8080/",
          "height": 419
        }
      },
      "source": [
        "titanic_data[titanic_data['Cabin'].duplicated()]\n"
      ],
      "execution_count": 0,
      "outputs": [
        {
          "output_type": "execute_result",
          "data": {
            "text/html": [
              "<div>\n",
              "<style scoped>\n",
              "    .dataframe tbody tr th:only-of-type {\n",
              "        vertical-align: middle;\n",
              "    }\n",
              "\n",
              "    .dataframe tbody tr th {\n",
              "        vertical-align: top;\n",
              "    }\n",
              "\n",
              "    .dataframe thead th {\n",
              "        text-align: right;\n",
              "    }\n",
              "</style>\n",
              "<table border=\"1\" class=\"dataframe\">\n",
              "  <thead>\n",
              "    <tr style=\"text-align: right;\">\n",
              "      <th></th>\n",
              "      <th>Age</th>\n",
              "      <th>Cabin</th>\n",
              "      <th>Embarked</th>\n",
              "      <th>Fare</th>\n",
              "      <th>Name</th>\n",
              "      <th>Parch</th>\n",
              "      <th>PassengerId</th>\n",
              "      <th>Pclass</th>\n",
              "      <th>Sex</th>\n",
              "      <th>SibSp</th>\n",
              "      <th>Survived</th>\n",
              "      <th>Ticket</th>\n",
              "    </tr>\n",
              "  </thead>\n",
              "  <tbody>\n",
              "    <tr>\n",
              "      <th>2</th>\n",
              "      <td>26.0</td>\n",
              "      <td>NaN</td>\n",
              "      <td>S</td>\n",
              "      <td>7.9250</td>\n",
              "      <td>Heikkinen, Miss. Laina</td>\n",
              "      <td>0</td>\n",
              "      <td>3</td>\n",
              "      <td>3</td>\n",
              "      <td>female</td>\n",
              "      <td>0</td>\n",
              "      <td>1.0</td>\n",
              "      <td>STON/O2. 3101282</td>\n",
              "    </tr>\n",
              "    <tr>\n",
              "      <th>4</th>\n",
              "      <td>35.0</td>\n",
              "      <td>NaN</td>\n",
              "      <td>S</td>\n",
              "      <td>8.0500</td>\n",
              "      <td>Allen, Mr. William Henry</td>\n",
              "      <td>0</td>\n",
              "      <td>5</td>\n",
              "      <td>3</td>\n",
              "      <td>male</td>\n",
              "      <td>0</td>\n",
              "      <td>0.0</td>\n",
              "      <td>373450</td>\n",
              "    </tr>\n",
              "    <tr>\n",
              "      <th>5</th>\n",
              "      <td>NaN</td>\n",
              "      <td>NaN</td>\n",
              "      <td>Q</td>\n",
              "      <td>8.4583</td>\n",
              "      <td>Moran, Mr. James</td>\n",
              "      <td>0</td>\n",
              "      <td>6</td>\n",
              "      <td>3</td>\n",
              "      <td>male</td>\n",
              "      <td>0</td>\n",
              "      <td>0.0</td>\n",
              "      <td>330877</td>\n",
              "    </tr>\n",
              "    <tr>\n",
              "      <th>7</th>\n",
              "      <td>2.0</td>\n",
              "      <td>NaN</td>\n",
              "      <td>S</td>\n",
              "      <td>21.0750</td>\n",
              "      <td>Palsson, Master. Gosta Leonard</td>\n",
              "      <td>1</td>\n",
              "      <td>8</td>\n",
              "      <td>3</td>\n",
              "      <td>male</td>\n",
              "      <td>3</td>\n",
              "      <td>0.0</td>\n",
              "      <td>349909</td>\n",
              "    </tr>\n",
              "    <tr>\n",
              "      <th>8</th>\n",
              "      <td>27.0</td>\n",
              "      <td>NaN</td>\n",
              "      <td>S</td>\n",
              "      <td>11.1333</td>\n",
              "      <td>Johnson, Mrs. Oscar W (Elisabeth Vilhelmina Berg)</td>\n",
              "      <td>2</td>\n",
              "      <td>9</td>\n",
              "      <td>3</td>\n",
              "      <td>female</td>\n",
              "      <td>0</td>\n",
              "      <td>1.0</td>\n",
              "      <td>347742</td>\n",
              "    </tr>\n",
              "    <tr>\n",
              "      <th>...</th>\n",
              "      <td>...</td>\n",
              "      <td>...</td>\n",
              "      <td>...</td>\n",
              "      <td>...</td>\n",
              "      <td>...</td>\n",
              "      <td>...</td>\n",
              "      <td>...</td>\n",
              "      <td>...</td>\n",
              "      <td>...</td>\n",
              "      <td>...</td>\n",
              "      <td>...</td>\n",
              "      <td>...</td>\n",
              "    </tr>\n",
              "    <tr>\n",
              "      <th>1303</th>\n",
              "      <td>28.0</td>\n",
              "      <td>NaN</td>\n",
              "      <td>S</td>\n",
              "      <td>7.7750</td>\n",
              "      <td>Henriksson, Miss. Jenny Lovisa</td>\n",
              "      <td>0</td>\n",
              "      <td>1304</td>\n",
              "      <td>3</td>\n",
              "      <td>female</td>\n",
              "      <td>0</td>\n",
              "      <td>NaN</td>\n",
              "      <td>347086</td>\n",
              "    </tr>\n",
              "    <tr>\n",
              "      <th>1304</th>\n",
              "      <td>NaN</td>\n",
              "      <td>NaN</td>\n",
              "      <td>S</td>\n",
              "      <td>8.0500</td>\n",
              "      <td>Spector, Mr. Woolf</td>\n",
              "      <td>0</td>\n",
              "      <td>1305</td>\n",
              "      <td>3</td>\n",
              "      <td>male</td>\n",
              "      <td>0</td>\n",
              "      <td>NaN</td>\n",
              "      <td>A.5. 3236</td>\n",
              "    </tr>\n",
              "    <tr>\n",
              "      <th>1306</th>\n",
              "      <td>38.5</td>\n",
              "      <td>NaN</td>\n",
              "      <td>S</td>\n",
              "      <td>7.2500</td>\n",
              "      <td>Saether, Mr. Simon Sivertsen</td>\n",
              "      <td>0</td>\n",
              "      <td>1307</td>\n",
              "      <td>3</td>\n",
              "      <td>male</td>\n",
              "      <td>0</td>\n",
              "      <td>NaN</td>\n",
              "      <td>SOTON/O.Q. 3101262</td>\n",
              "    </tr>\n",
              "    <tr>\n",
              "      <th>1307</th>\n",
              "      <td>NaN</td>\n",
              "      <td>NaN</td>\n",
              "      <td>S</td>\n",
              "      <td>8.0500</td>\n",
              "      <td>Ware, Mr. Frederick</td>\n",
              "      <td>0</td>\n",
              "      <td>1308</td>\n",
              "      <td>3</td>\n",
              "      <td>male</td>\n",
              "      <td>0</td>\n",
              "      <td>NaN</td>\n",
              "      <td>359309</td>\n",
              "    </tr>\n",
              "    <tr>\n",
              "      <th>1308</th>\n",
              "      <td>NaN</td>\n",
              "      <td>NaN</td>\n",
              "      <td>C</td>\n",
              "      <td>22.3583</td>\n",
              "      <td>Peter, Master. Michael J</td>\n",
              "      <td>1</td>\n",
              "      <td>1309</td>\n",
              "      <td>3</td>\n",
              "      <td>male</td>\n",
              "      <td>1</td>\n",
              "      <td>NaN</td>\n",
              "      <td>2668</td>\n",
              "    </tr>\n",
              "  </tbody>\n",
              "</table>\n",
              "<p>1122 rows × 12 columns</p>\n",
              "</div>"
            ],
            "text/plain": [
              "       Age Cabin Embarked     Fare  ...     Sex  SibSp  Survived              Ticket\n",
              "2     26.0   NaN        S   7.9250  ...  female      0       1.0    STON/O2. 3101282\n",
              "4     35.0   NaN        S   8.0500  ...    male      0       0.0              373450\n",
              "5      NaN   NaN        Q   8.4583  ...    male      0       0.0              330877\n",
              "7      2.0   NaN        S  21.0750  ...    male      3       0.0              349909\n",
              "8     27.0   NaN        S  11.1333  ...  female      0       1.0              347742\n",
              "...    ...   ...      ...      ...  ...     ...    ...       ...                 ...\n",
              "1303  28.0   NaN        S   7.7750  ...  female      0       NaN              347086\n",
              "1304   NaN   NaN        S   8.0500  ...    male      0       NaN           A.5. 3236\n",
              "1306  38.5   NaN        S   7.2500  ...    male      0       NaN  SOTON/O.Q. 3101262\n",
              "1307   NaN   NaN        S   8.0500  ...    male      0       NaN              359309\n",
              "1308   NaN   NaN        C  22.3583  ...    male      1       NaN                2668\n",
              "\n",
              "[1122 rows x 12 columns]"
            ]
          },
          "metadata": {
            "tags": []
          },
          "execution_count": 17
        }
      ]
    },
    {
      "cell_type": "code",
      "metadata": {
        "id": "tVIuZ1JYQrlR",
        "colab_type": "code",
        "outputId": "cefbac6d-c78e-434b-ecfd-6edcb7b6fc5f",
        "colab": {
          "base_uri": "https://localhost:8080/",
          "height": 419
        }
      },
      "source": [
        "titanic_data[titanic_data['Name'] != 'Kelly, Mr. James']"
      ],
      "execution_count": 0,
      "outputs": [
        {
          "output_type": "execute_result",
          "data": {
            "text/html": [
              "<div>\n",
              "<style scoped>\n",
              "    .dataframe tbody tr th:only-of-type {\n",
              "        vertical-align: middle;\n",
              "    }\n",
              "\n",
              "    .dataframe tbody tr th {\n",
              "        vertical-align: top;\n",
              "    }\n",
              "\n",
              "    .dataframe thead th {\n",
              "        text-align: right;\n",
              "    }\n",
              "</style>\n",
              "<table border=\"1\" class=\"dataframe\">\n",
              "  <thead>\n",
              "    <tr style=\"text-align: right;\">\n",
              "      <th></th>\n",
              "      <th>Age</th>\n",
              "      <th>Cabin</th>\n",
              "      <th>Embarked</th>\n",
              "      <th>Fare</th>\n",
              "      <th>Name</th>\n",
              "      <th>Parch</th>\n",
              "      <th>PassengerId</th>\n",
              "      <th>Pclass</th>\n",
              "      <th>Sex</th>\n",
              "      <th>SibSp</th>\n",
              "      <th>Survived</th>\n",
              "      <th>Ticket</th>\n",
              "    </tr>\n",
              "  </thead>\n",
              "  <tbody>\n",
              "    <tr>\n",
              "      <th>0</th>\n",
              "      <td>22.0</td>\n",
              "      <td>NaN</td>\n",
              "      <td>S</td>\n",
              "      <td>7.2500</td>\n",
              "      <td>Braund, Mr. Owen Harris</td>\n",
              "      <td>0</td>\n",
              "      <td>1</td>\n",
              "      <td>3</td>\n",
              "      <td>male</td>\n",
              "      <td>1</td>\n",
              "      <td>0.0</td>\n",
              "      <td>A/5 21171</td>\n",
              "    </tr>\n",
              "    <tr>\n",
              "      <th>1</th>\n",
              "      <td>38.0</td>\n",
              "      <td>C85</td>\n",
              "      <td>C</td>\n",
              "      <td>71.2833</td>\n",
              "      <td>Cumings, Mrs. John Bradley (Florence Briggs Th...</td>\n",
              "      <td>0</td>\n",
              "      <td>2</td>\n",
              "      <td>1</td>\n",
              "      <td>female</td>\n",
              "      <td>1</td>\n",
              "      <td>1.0</td>\n",
              "      <td>PC 17599</td>\n",
              "    </tr>\n",
              "    <tr>\n",
              "      <th>2</th>\n",
              "      <td>26.0</td>\n",
              "      <td>NaN</td>\n",
              "      <td>S</td>\n",
              "      <td>7.9250</td>\n",
              "      <td>Heikkinen, Miss. Laina</td>\n",
              "      <td>0</td>\n",
              "      <td>3</td>\n",
              "      <td>3</td>\n",
              "      <td>female</td>\n",
              "      <td>0</td>\n",
              "      <td>1.0</td>\n",
              "      <td>STON/O2. 3101282</td>\n",
              "    </tr>\n",
              "    <tr>\n",
              "      <th>3</th>\n",
              "      <td>35.0</td>\n",
              "      <td>C123</td>\n",
              "      <td>S</td>\n",
              "      <td>53.1000</td>\n",
              "      <td>Futrelle, Mrs. Jacques Heath (Lily May Peel)</td>\n",
              "      <td>0</td>\n",
              "      <td>4</td>\n",
              "      <td>1</td>\n",
              "      <td>female</td>\n",
              "      <td>1</td>\n",
              "      <td>1.0</td>\n",
              "      <td>113803</td>\n",
              "    </tr>\n",
              "    <tr>\n",
              "      <th>4</th>\n",
              "      <td>35.0</td>\n",
              "      <td>NaN</td>\n",
              "      <td>S</td>\n",
              "      <td>8.0500</td>\n",
              "      <td>Allen, Mr. William Henry</td>\n",
              "      <td>0</td>\n",
              "      <td>5</td>\n",
              "      <td>3</td>\n",
              "      <td>male</td>\n",
              "      <td>0</td>\n",
              "      <td>0.0</td>\n",
              "      <td>373450</td>\n",
              "    </tr>\n",
              "    <tr>\n",
              "      <th>...</th>\n",
              "      <td>...</td>\n",
              "      <td>...</td>\n",
              "      <td>...</td>\n",
              "      <td>...</td>\n",
              "      <td>...</td>\n",
              "      <td>...</td>\n",
              "      <td>...</td>\n",
              "      <td>...</td>\n",
              "      <td>...</td>\n",
              "      <td>...</td>\n",
              "      <td>...</td>\n",
              "      <td>...</td>\n",
              "    </tr>\n",
              "    <tr>\n",
              "      <th>1304</th>\n",
              "      <td>NaN</td>\n",
              "      <td>NaN</td>\n",
              "      <td>S</td>\n",
              "      <td>8.0500</td>\n",
              "      <td>Spector, Mr. Woolf</td>\n",
              "      <td>0</td>\n",
              "      <td>1305</td>\n",
              "      <td>3</td>\n",
              "      <td>male</td>\n",
              "      <td>0</td>\n",
              "      <td>NaN</td>\n",
              "      <td>A.5. 3236</td>\n",
              "    </tr>\n",
              "    <tr>\n",
              "      <th>1305</th>\n",
              "      <td>39.0</td>\n",
              "      <td>C105</td>\n",
              "      <td>C</td>\n",
              "      <td>108.9000</td>\n",
              "      <td>Oliva y Ocana, Dona. Fermina</td>\n",
              "      <td>0</td>\n",
              "      <td>1306</td>\n",
              "      <td>1</td>\n",
              "      <td>female</td>\n",
              "      <td>0</td>\n",
              "      <td>NaN</td>\n",
              "      <td>PC 17758</td>\n",
              "    </tr>\n",
              "    <tr>\n",
              "      <th>1306</th>\n",
              "      <td>38.5</td>\n",
              "      <td>NaN</td>\n",
              "      <td>S</td>\n",
              "      <td>7.2500</td>\n",
              "      <td>Saether, Mr. Simon Sivertsen</td>\n",
              "      <td>0</td>\n",
              "      <td>1307</td>\n",
              "      <td>3</td>\n",
              "      <td>male</td>\n",
              "      <td>0</td>\n",
              "      <td>NaN</td>\n",
              "      <td>SOTON/O.Q. 3101262</td>\n",
              "    </tr>\n",
              "    <tr>\n",
              "      <th>1307</th>\n",
              "      <td>NaN</td>\n",
              "      <td>NaN</td>\n",
              "      <td>S</td>\n",
              "      <td>8.0500</td>\n",
              "      <td>Ware, Mr. Frederick</td>\n",
              "      <td>0</td>\n",
              "      <td>1308</td>\n",
              "      <td>3</td>\n",
              "      <td>male</td>\n",
              "      <td>0</td>\n",
              "      <td>NaN</td>\n",
              "      <td>359309</td>\n",
              "    </tr>\n",
              "    <tr>\n",
              "      <th>1308</th>\n",
              "      <td>NaN</td>\n",
              "      <td>NaN</td>\n",
              "      <td>C</td>\n",
              "      <td>22.3583</td>\n",
              "      <td>Peter, Master. Michael J</td>\n",
              "      <td>1</td>\n",
              "      <td>1309</td>\n",
              "      <td>3</td>\n",
              "      <td>male</td>\n",
              "      <td>1</td>\n",
              "      <td>NaN</td>\n",
              "      <td>2668</td>\n",
              "    </tr>\n",
              "  </tbody>\n",
              "</table>\n",
              "<p>1307 rows × 12 columns</p>\n",
              "</div>"
            ],
            "text/plain": [
              "       Age Cabin Embarked  ...  SibSp Survived              Ticket\n",
              "0     22.0   NaN        S  ...      1      0.0           A/5 21171\n",
              "1     38.0   C85        C  ...      1      1.0            PC 17599\n",
              "2     26.0   NaN        S  ...      0      1.0    STON/O2. 3101282\n",
              "3     35.0  C123        S  ...      1      1.0              113803\n",
              "4     35.0   NaN        S  ...      0      0.0              373450\n",
              "...    ...   ...      ...  ...    ...      ...                 ...\n",
              "1304   NaN   NaN        S  ...      0      NaN           A.5. 3236\n",
              "1305  39.0  C105        C  ...      0      NaN            PC 17758\n",
              "1306  38.5   NaN        S  ...      0      NaN  SOTON/O.Q. 3101262\n",
              "1307   NaN   NaN        S  ...      0      NaN              359309\n",
              "1308   NaN   NaN        C  ...      1      NaN                2668\n",
              "\n",
              "[1307 rows x 12 columns]"
            ]
          },
          "metadata": {
            "tags": []
          },
          "execution_count": 16
        }
      ]
    },
    {
      "cell_type": "markdown",
      "metadata": {
        "id": "2d4f35Oth-Gd",
        "colab_type": "text"
      },
      "source": [
        "**Ejercicios**\n",
        "\n",
        "1. Mostrar el número de personas con género Femenino"
      ]
    },
    {
      "cell_type": "code",
      "metadata": {
        "id": "GItcS8HSh8wk",
        "colab_type": "code",
        "outputId": "811a3173-4502-45e1-eac6-46c7d9a52bb4",
        "colab": {
          "base_uri": "https://localhost:8080/",
          "height": 34
        }
      },
      "source": [
        "titanic_data[titanic_data['Sex'] == 'female'].count()['Sex']"
      ],
      "execution_count": 0,
      "outputs": [
        {
          "output_type": "execute_result",
          "data": {
            "text/plain": [
              "466"
            ]
          },
          "metadata": {
            "tags": []
          },
          "execution_count": 56
        }
      ]
    },
    {
      "cell_type": "markdown",
      "metadata": {
        "id": "UrYojmP-jR_k",
        "colab_type": "text"
      },
      "source": [
        "2. Mostrar si más de una persona viajaba en la misma cabina"
      ]
    },
    {
      "cell_type": "code",
      "metadata": {
        "id": "KaD-rt5ojXJf",
        "colab_type": "code",
        "outputId": "ae6e374e-9337-44a1-8a96-ad057501c292",
        "colab": {
          "base_uri": "https://localhost:8080/",
          "height": 34
        }
      },
      "source": [
        "titanic_data['Cabin'].dropna().duplicated().sum() "
      ],
      "execution_count": 0,
      "outputs": [
        {
          "output_type": "execute_result",
          "data": {
            "text/plain": [
              "109"
            ]
          },
          "metadata": {
            "tags": []
          },
          "execution_count": 59
        }
      ]
    },
    {
      "cell_type": "markdown",
      "metadata": {
        "id": "Ab4T1CiFj2Ma",
        "colab_type": "text"
      },
      "source": [
        "**Visualizaciones**\n",
        "\n",
        "Para éstas visualizaciones usaremos el método [catplot](https://seaborn.pydata.org/generated/seaborn.catplot.html) de la librería seaborn.\n",
        "\n",
        "Ver la distribución de pasajeros por género:"
      ]
    },
    {
      "cell_type": "code",
      "metadata": {
        "id": "OyPGb5n3k32_",
        "colab_type": "code",
        "outputId": "690a091f-2612-4adf-8984-a36042864add",
        "colab": {
          "base_uri": "https://localhost:8080/",
          "height": 34
        }
      },
      "source": [
        "# validar que no tenemos valores NA en Gender\n",
        "\n",
        "titanic_data['Sex'].unique()"
      ],
      "execution_count": 0,
      "outputs": [
        {
          "output_type": "execute_result",
          "data": {
            "text/plain": [
              "array(['male', 'female'], dtype=object)"
            ]
          },
          "metadata": {
            "tags": []
          },
          "execution_count": 23
        }
      ]
    },
    {
      "cell_type": "code",
      "metadata": {
        "id": "36F6LCe8kvud",
        "colab_type": "code",
        "outputId": "add950d4-12a1-435f-e78a-b262c97294ed",
        "colab": {
          "base_uri": "https://localhost:8080/",
          "height": 386
        }
      },
      "source": [
        "sns.catplot('Sex', data=titanic_data, kind='count')"
      ],
      "execution_count": 0,
      "outputs": [
        {
          "output_type": "execute_result",
          "data": {
            "text/plain": [
              "<seaborn.axisgrid.FacetGrid at 0x7f64a9753048>"
            ]
          },
          "metadata": {
            "tags": []
          },
          "execution_count": 24
        },
        {
          "output_type": "display_data",
          "data": {
            "image/png": "[encoded data removed]",
            "text/plain": [
              "<Figure size 360x360 with 1 Axes>"
            ]
          },
          "metadata": {
            "tags": [],
            "needs_background": "light"
          }
        }
      ]
    },
    {
      "cell_type": "markdown",
      "metadata": {
        "id": "roSHLNqhlzHC",
        "colab_type": "text"
      },
      "source": [
        "Ver la distribución de pasajeros por clase (clase 3 es la clase turista):"
      ]
    },
    {
      "cell_type": "code",
      "metadata": {
        "id": "EL2CPVyHla_Q",
        "colab_type": "code",
        "outputId": "88132091-29df-43a3-8bde-3dfda993932e",
        "colab": {
          "base_uri": "https://localhost:8080/",
          "height": 386
        }
      },
      "source": [
        "sns.catplot('Pclass', data=titanic_data, kind='count')"
      ],
      "execution_count": 0,
      "outputs": [
        {
          "output_type": "execute_result",
          "data": {
            "text/plain": [
              "<seaborn.axisgrid.FacetGrid at 0x7f64a9621f98>"
            ]
          },
          "metadata": {
            "tags": []
          },
          "execution_count": 25
        },
        {
          "output_type": "display_data",
          "data": {
            "image/png": "[encoded data removed]",
            "text/plain": [
              "<Figure size 360x360 with 1 Axes>"
            ]
          },
          "metadata": {
            "tags": [],
            "needs_background": "light"
          }
        }
      ]
    },
    {
      "cell_type": "markdown",
      "metadata": {
        "id": "2eGnvy5TmDh4",
        "colab_type": "text"
      },
      "source": [
        "Ver la distribución de pasajeros por clase y género:"
      ]
    },
    {
      "cell_type": "code",
      "metadata": {
        "id": "9Z26A04mlbgE",
        "colab_type": "code",
        "outputId": "5b5322b3-38de-4a74-cbd7-07563eb2e4da",
        "colab": {
          "base_uri": "https://localhost:8080/",
          "height": 386
        }
      },
      "source": [
        "sns.catplot('Pclass', data=titanic_data, hue='Sex', kind='count')"
      ],
      "execution_count": 0,
      "outputs": [
        {
          "output_type": "execute_result",
          "data": {
            "text/plain": [
              "<seaborn.axisgrid.FacetGrid at 0x7f64a98af438>"
            ]
          },
          "metadata": {
            "tags": []
          },
          "execution_count": 26
        },
        {
          "output_type": "display_data",
          "data": {
            "image/png": "[encoded data removed]",
            "text/plain": [
              "<Figure size 430.5x360 with 1 Axes>"
            ]
          },
          "metadata": {
            "tags": [],
            "needs_background": "light"
          }
        }
      ]
    },
    {
      "cell_type": "markdown",
      "metadata": {
        "id": "13xNoxfPmCls",
        "colab_type": "text"
      },
      "source": [
        "Podemos crear definiciones para asignarlas a nuestros datos, como ejemplo vamos a crear la categoría de niño para los menores de 16 años y vamos a asignar estos resultados a una nueva columna llamada 'person':\n"
      ]
    },
    {
      "cell_type": "code",
      "metadata": {
        "id": "yT0Paxm_nPac",
        "colab_type": "code",
        "outputId": "e766a022-dff4-47ae-8139-dfe8c07bab93",
        "colab": {
          "base_uri": "https://localhost:8080/",
          "height": 359
        }
      },
      "source": [
        "def titanic_children(passenger):\n",
        "    \n",
        "    age, sex = passenger\n",
        "    if age < 16:\n",
        "        return 'child'\n",
        "    else:\n",
        "        return sex\n",
        "\n",
        "titanic_data['person'] = titanic_data[['Age','Sex']].apply(titanic_children, axis=1)\n",
        "titanic_data.head(10)"
      ],
      "execution_count": 0,
      "outputs": [
        {
          "output_type": "execute_result",
          "data": {
            "text/html": [
              "<div>\n",
              "<style scoped>\n",
              "    .dataframe tbody tr th:only-of-type {\n",
              "        vertical-align: middle;\n",
              "    }\n",
              "\n",
              "    .dataframe tbody tr th {\n",
              "        vertical-align: top;\n",
              "    }\n",
              "\n",
              "    .dataframe thead th {\n",
              "        text-align: right;\n",
              "    }\n",
              "</style>\n",
              "<table border=\"1\" class=\"dataframe\">\n",
              "  <thead>\n",
              "    <tr style=\"text-align: right;\">\n",
              "      <th></th>\n",
              "      <th>Age</th>\n",
              "      <th>Cabin</th>\n",
              "      <th>Embarked</th>\n",
              "      <th>Fare</th>\n",
              "      <th>Name</th>\n",
              "      <th>Parch</th>\n",
              "      <th>PassengerId</th>\n",
              "      <th>Pclass</th>\n",
              "      <th>Sex</th>\n",
              "      <th>SibSp</th>\n",
              "      <th>Survived</th>\n",
              "      <th>Ticket</th>\n",
              "      <th>person</th>\n",
              "    </tr>\n",
              "  </thead>\n",
              "  <tbody>\n",
              "    <tr>\n",
              "      <th>0</th>\n",
              "      <td>22.0</td>\n",
              "      <td>NaN</td>\n",
              "      <td>S</td>\n",
              "      <td>7.2500</td>\n",
              "      <td>Braund, Mr. Owen Harris</td>\n",
              "      <td>0</td>\n",
              "      <td>1</td>\n",
              "      <td>3</td>\n",
              "      <td>male</td>\n",
              "      <td>1</td>\n",
              "      <td>0.0</td>\n",
              "      <td>A/5 21171</td>\n",
              "      <td>male</td>\n",
              "    </tr>\n",
              "    <tr>\n",
              "      <th>1</th>\n",
              "      <td>38.0</td>\n",
              "      <td>C85</td>\n",
              "      <td>C</td>\n",
              "      <td>71.2833</td>\n",
              "      <td>Cumings, Mrs. John Bradley (Florence Briggs Th...</td>\n",
              "      <td>0</td>\n",
              "      <td>2</td>\n",
              "      <td>1</td>\n",
              "      <td>female</td>\n",
              "      <td>1</td>\n",
              "      <td>1.0</td>\n",
              "      <td>PC 17599</td>\n",
              "      <td>female</td>\n",
              "    </tr>\n",
              "    <tr>\n",
              "      <th>2</th>\n",
              "      <td>26.0</td>\n",
              "      <td>NaN</td>\n",
              "      <td>S</td>\n",
              "      <td>7.9250</td>\n",
              "      <td>Heikkinen, Miss. Laina</td>\n",
              "      <td>0</td>\n",
              "      <td>3</td>\n",
              "      <td>3</td>\n",
              "      <td>female</td>\n",
              "      <td>0</td>\n",
              "      <td>1.0</td>\n",
              "      <td>STON/O2. 3101282</td>\n",
              "      <td>female</td>\n",
              "    </tr>\n",
              "    <tr>\n",
              "      <th>3</th>\n",
              "      <td>35.0</td>\n",
              "      <td>C123</td>\n",
              "      <td>S</td>\n",
              "      <td>53.1000</td>\n",
              "      <td>Futrelle, Mrs. Jacques Heath (Lily May Peel)</td>\n",
              "      <td>0</td>\n",
              "      <td>4</td>\n",
              "      <td>1</td>\n",
              "      <td>female</td>\n",
              "      <td>1</td>\n",
              "      <td>1.0</td>\n",
              "      <td>113803</td>\n",
              "      <td>female</td>\n",
              "    </tr>\n",
              "    <tr>\n",
              "      <th>4</th>\n",
              "      <td>35.0</td>\n",
              "      <td>NaN</td>\n",
              "      <td>S</td>\n",
              "      <td>8.0500</td>\n",
              "      <td>Allen, Mr. William Henry</td>\n",
              "      <td>0</td>\n",
              "      <td>5</td>\n",
              "      <td>3</td>\n",
              "      <td>male</td>\n",
              "      <td>0</td>\n",
              "      <td>0.0</td>\n",
              "      <td>373450</td>\n",
              "      <td>male</td>\n",
              "    </tr>\n",
              "    <tr>\n",
              "      <th>5</th>\n",
              "      <td>NaN</td>\n",
              "      <td>NaN</td>\n",
              "      <td>Q</td>\n",
              "      <td>8.4583</td>\n",
              "      <td>Moran, Mr. James</td>\n",
              "      <td>0</td>\n",
              "      <td>6</td>\n",
              "      <td>3</td>\n",
              "      <td>male</td>\n",
              "      <td>0</td>\n",
              "      <td>0.0</td>\n",
              "      <td>330877</td>\n",
              "      <td>male</td>\n",
              "    </tr>\n",
              "    <tr>\n",
              "      <th>6</th>\n",
              "      <td>54.0</td>\n",
              "      <td>E46</td>\n",
              "      <td>S</td>\n",
              "      <td>51.8625</td>\n",
              "      <td>McCarthy, Mr. Timothy J</td>\n",
              "      <td>0</td>\n",
              "      <td>7</td>\n",
              "      <td>1</td>\n",
              "      <td>male</td>\n",
              "      <td>0</td>\n",
              "      <td>0.0</td>\n",
              "      <td>17463</td>\n",
              "      <td>male</td>\n",
              "    </tr>\n",
              "    <tr>\n",
              "      <th>7</th>\n",
              "      <td>2.0</td>\n",
              "      <td>NaN</td>\n",
              "      <td>S</td>\n",
              "      <td>21.0750</td>\n",
              "      <td>Palsson, Master. Gosta Leonard</td>\n",
              "      <td>1</td>\n",
              "      <td>8</td>\n",
              "      <td>3</td>\n",
              "      <td>male</td>\n",
              "      <td>3</td>\n",
              "      <td>0.0</td>\n",
              "      <td>349909</td>\n",
              "      <td>child</td>\n",
              "    </tr>\n",
              "    <tr>\n",
              "      <th>8</th>\n",
              "      <td>27.0</td>\n",
              "      <td>NaN</td>\n",
              "      <td>S</td>\n",
              "      <td>11.1333</td>\n",
              "      <td>Johnson, Mrs. Oscar W (Elisabeth Vilhelmina Berg)</td>\n",
              "      <td>2</td>\n",
              "      <td>9</td>\n",
              "      <td>3</td>\n",
              "      <td>female</td>\n",
              "      <td>0</td>\n",
              "      <td>1.0</td>\n",
              "      <td>347742</td>\n",
              "      <td>female</td>\n",
              "    </tr>\n",
              "    <tr>\n",
              "      <th>9</th>\n",
              "      <td>14.0</td>\n",
              "      <td>NaN</td>\n",
              "      <td>C</td>\n",
              "      <td>30.0708</td>\n",
              "      <td>Nasser, Mrs. Nicholas (Adele Achem)</td>\n",
              "      <td>0</td>\n",
              "      <td>10</td>\n",
              "      <td>2</td>\n",
              "      <td>female</td>\n",
              "      <td>1</td>\n",
              "      <td>1.0</td>\n",
              "      <td>237736</td>\n",
              "      <td>child</td>\n",
              "    </tr>\n",
              "  </tbody>\n",
              "</table>\n",
              "</div>"
            ],
            "text/plain": [
              "    Age Cabin Embarked     Fare  ... SibSp  Survived            Ticket  person\n",
              "0  22.0   NaN        S   7.2500  ...     1       0.0         A/5 21171    male\n",
              "1  38.0   C85        C  71.2833  ...     1       1.0          PC 17599  female\n",
              "2  26.0   NaN        S   7.9250  ...     0       1.0  STON/O2. 3101282  female\n",
              "3  35.0  C123        S  53.1000  ...     1       1.0            113803  female\n",
              "4  35.0   NaN        S   8.0500  ...     0       0.0            373450    male\n",
              "5   NaN   NaN        Q   8.4583  ...     0       0.0            330877    male\n",
              "6  54.0   E46        S  51.8625  ...     0       0.0             17463    male\n",
              "7   2.0   NaN        S  21.0750  ...     3       0.0            349909   child\n",
              "8  27.0   NaN        S  11.1333  ...     0       1.0            347742  female\n",
              "9  14.0   NaN        C  30.0708  ...     1       1.0            237736   child\n",
              "\n",
              "[10 rows x 13 columns]"
            ]
          },
          "metadata": {
            "tags": []
          },
          "execution_count": 28
        }
      ]
    },
    {
      "cell_type": "markdown",
      "metadata": {
        "id": "4cwZBtCHnvwt",
        "colab_type": "text"
      },
      "source": [
        "**Ejercicios**\n",
        "1. Mostrar la distribución de pasajeros, mostrando si son hombres, mujeres o niños."
      ]
    },
    {
      "cell_type": "code",
      "metadata": {
        "id": "SS_-h3Amn-Sc",
        "colab_type": "code",
        "outputId": "38a79716-d07a-4997-c285-f78417637633",
        "colab": {
          "base_uri": "https://localhost:8080/",
          "height": 386
        }
      },
      "source": [
        "# usar la columna person\n",
        "sns.catplot('person', data=titanic_data, kind='count')"
      ],
      "execution_count": 0,
      "outputs": [
        {
          "output_type": "execute_result",
          "data": {
            "text/plain": [
              "<seaborn.axisgrid.FacetGrid at 0x7f64a44e56a0>"
            ]
          },
          "metadata": {
            "tags": []
          },
          "execution_count": 60
        },
        {
          "output_type": "display_data",
          "data": {
            "image/png": "[encoded data removed]",
            "text/plain": [
              "<Figure size 360x360 with 1 Axes>"
            ]
          },
          "metadata": {
            "tags": [],
            "needs_background": "light"
          }
        }
      ]
    },
    {
      "cell_type": "markdown",
      "metadata": {
        "id": "GWPsvGZ_oB5n",
        "colab_type": "text"
      },
      "source": [
        "2. Mostrar la distribución de pasajeros, mostrando si son hombres, mujeres o niños para cada clase."
      ]
    },
    {
      "cell_type": "code",
      "metadata": {
        "id": "oib22jqWoBGP",
        "colab_type": "code",
        "outputId": "9b7aefd1-bb7a-4061-a545-c2492321d1e5",
        "colab": {
          "base_uri": "https://localhost:8080/",
          "height": 386
        }
      },
      "source": [
        "sns.catplot('Pclass', data=titanic_data, kind='count', hue='person')"
      ],
      "execution_count": 0,
      "outputs": [
        {
          "output_type": "execute_result",
          "data": {
            "text/plain": [
              "<seaborn.axisgrid.FacetGrid at 0x7f64a44b3780>"
            ]
          },
          "metadata": {
            "tags": []
          },
          "execution_count": 62
        },
        {
          "output_type": "display_data",
          "data": {
            "image/png": "[encoded data removed]",
            "text/plain": [
              "<Figure size 421.625x360 with 1 Axes>"
            ]
          },
          "metadata": {
            "tags": [],
            "needs_background": "light"
          }
        }
      ]
    },
    {
      "cell_type": "markdown",
      "metadata": {
        "id": "O2f0bruW4bYX",
        "colab_type": "text"
      },
      "source": [
        "**Remplazar valores NA**\n",
        "\n",
        "Si decidimos que los valores NA van a ser problematicos en una variable en específico, podemos lidiar con esto de diferentes maneras, por ejemplo podemos eliminar los registros, o llenar los valores faltantes, usando la media o la mediana.\n"
      ]
    },
    {
      "cell_type": "code",
      "metadata": {
        "id": "z04IGEh45NNU",
        "colab_type": "code",
        "outputId": "aeb93d54-9f84-4f8c-cb1a-2d96961342ab",
        "colab": {
          "base_uri": "https://localhost:8080/",
          "height": 34
        }
      },
      "source": [
        "mean_age = titanic_data['Age'].mean()\n",
        "median_age = titanic_data['Age'].median()\n",
        "print(mean_age, median_age)"
      ],
      "execution_count": 0,
      "outputs": [
        {
          "output_type": "stream",
          "text": [
            "29.881137667304014 28.0\n"
          ],
          "name": "stdout"
        }
      ]
    },
    {
      "cell_type": "markdown",
      "metadata": {
        "id": "Q1oMJNjy59SO",
        "colab_type": "text"
      },
      "source": [
        "**Cuál debemos usar para remplazar los valores NA?**\n",
        "\n",
        "Podemos usar una Gráfica de distribución para ayudarnos a visualizar la frecuencia y el rango entero de los valores y poder analizar nuestras opciones.\n",
        "\n",
        "Para esto vamos a hacer la gráfica sin incluir los valores NA de la dimensión de Age.\n"
      ]
    },
    {
      "cell_type": "code",
      "metadata": {
        "id": "ZLg8X_Qh572U",
        "colab_type": "code",
        "outputId": "db084afd-567a-4362-b4ed-6ab0c31de73c",
        "colab": {
          "base_uri": "https://localhost:8080/",
          "height": 296
        }
      },
      "source": [
        "sns.distplot(titanic_data['Age'].dropna())"
      ],
      "execution_count": 0,
      "outputs": [
        {
          "output_type": "execute_result",
          "data": {
            "text/plain": [
              "<matplotlib.axes._subplots.AxesSubplot at 0x7f64a689e1d0>"
            ]
          },
          "metadata": {
            "tags": []
          },
          "execution_count": 30
        },
        {
          "output_type": "display_data",
          "data": {
            "image/png": "[encoded data removed]",
            "text/plain": [
              "<Figure size 432x288 with 1 Axes>"
            ]
          },
          "metadata": {
            "tags": [],
            "needs_background": "light"
          }
        }
      ]
    },
    {
      "cell_type": "code",
      "metadata": {
        "id": "0BPWQEX__Do1",
        "colab_type": "code",
        "outputId": "50b6471d-b774-4bf9-af79-cc0bb3e5dbf4",
        "colab": {
          "base_uri": "https://localhost:8080/",
          "height": 386
        }
      },
      "source": [
        " titanic_data['Age'] = titanic_data['Age'].fillna(mean_age)\n",
        " sns.catplot('Age', data=titanic_data, kind='swarm')"
      ],
      "execution_count": 0,
      "outputs": [
        {
          "output_type": "execute_result",
          "data": {
            "text/plain": [
              "<seaborn.axisgrid.FacetGrid at 0x7f64a6820320>"
            ]
          },
          "metadata": {
            "tags": []
          },
          "execution_count": 31
        },
        {
          "output_type": "display_data",
          "data": {
            "image/png": "[encoded data removed]",
            "text/plain": [
              "<Figure size 360x360 with 1 Axes>"
            ]
          },
          "metadata": {
            "tags": [],
            "needs_background": "light"
          }
        }
      ]
    },
    {
      "cell_type": "markdown",
      "metadata": {
        "id": "n_abj-NXDLnJ",
        "colab_type": "text"
      },
      "source": [
        "**Borrar registros con valores NA**\n",
        "\n",
        "La columna de Survived también tiene valores NA.\n",
        "Podemos usar el método value_counts para contar los valores en cada categoría.\n"
      ]
    },
    {
      "cell_type": "code",
      "metadata": {
        "id": "boQZpehaDmMR",
        "colab_type": "code",
        "outputId": "1f84d21b-99cd-49d0-d17a-4a295a4f25ee",
        "colab": {
          "base_uri": "https://localhost:8080/",
          "height": 85
        }
      },
      "source": [
        "titanic_data['Survived'].value_counts(dropna=False)"
      ],
      "execution_count": 0,
      "outputs": [
        {
          "output_type": "execute_result",
          "data": {
            "text/plain": [
              "0.0    549\n",
              "NaN    418\n",
              "1.0    342\n",
              "Name: Survived, dtype: int64"
            ]
          },
          "metadata": {
            "tags": []
          },
          "execution_count": 32
        }
      ]
    },
    {
      "cell_type": "markdown",
      "metadata": {
        "id": "HN_J6GMaD575",
        "colab_type": "text"
      },
      "source": [
        "Con qué valor deberíamos remplazar los faltantes? Media o Mediana?\n",
        "\n",
        "Hay ocasiones en las que ninguno de estos valores tiene sentido, así que vamos a ignorar los registros que presenten valores NA en la columna de Survived. Para esto usaremos el método **dropna()**.\n",
        "\n",
        "**Importante**, filtrar que solo se eliminarán los registros que presenten valores NA en la columna de Survived.\n"
      ]
    },
    {
      "cell_type": "code",
      "metadata": {
        "id": "vHF3rWiXE1rd",
        "colab_type": "code",
        "outputId": "d126df13-121e-43c8-f77c-7b895ac5214b",
        "colab": {
          "base_uri": "https://localhost:8080/",
          "height": 357
        }
      },
      "source": [
        "# numero de registros antes de eliminar valores NA\n",
        "titanic_data.info()\n"
      ],
      "execution_count": 0,
      "outputs": [
        {
          "output_type": "stream",
          "text": [
            "<class 'pandas.core.frame.DataFrame'>\n",
            "RangeIndex: 1309 entries, 0 to 1308\n",
            "Data columns (total 13 columns):\n",
            " #   Column       Non-Null Count  Dtype  \n",
            "---  ------       --------------  -----  \n",
            " 0   Age          1309 non-null   float64\n",
            " 1   Cabin        295 non-null    object \n",
            " 2   Embarked     1307 non-null   object \n",
            " 3   Fare         1308 non-null   float64\n",
            " 4   Name         1309 non-null   object \n",
            " 5   Parch        1309 non-null   int64  \n",
            " 6   PassengerId  1309 non-null   int64  \n",
            " 7   Pclass       1309 non-null   int64  \n",
            " 8   Sex          1309 non-null   object \n",
            " 9   SibSp        1309 non-null   int64  \n",
            " 10  Survived     891 non-null    float64\n",
            " 11  Ticket       1309 non-null   object \n",
            " 12  person       1309 non-null   object \n",
            "dtypes: float64(3), int64(4), object(6)\n",
            "memory usage: 133.1+ KB\n"
          ],
          "name": "stdout"
        }
      ]
    },
    {
      "cell_type": "code",
      "metadata": {
        "id": "ek4_5sjMFk-i",
        "colab_type": "code",
        "outputId": "7410e68a-2050-4e95-843c-d87582c43990",
        "colab": {
          "base_uri": "https://localhost:8080/",
          "height": 357
        }
      },
      "source": [
        "titanic_clean = titanic_data.dropna(subset=['Survived'])\n",
        "titanic_clean.info()"
      ],
      "execution_count": 0,
      "outputs": [
        {
          "output_type": "stream",
          "text": [
            "<class 'pandas.core.frame.DataFrame'>\n",
            "Int64Index: 891 entries, 0 to 890\n",
            "Data columns (total 13 columns):\n",
            " #   Column       Non-Null Count  Dtype  \n",
            "---  ------       --------------  -----  \n",
            " 0   Age          891 non-null    float64\n",
            " 1   Cabin        204 non-null    object \n",
            " 2   Embarked     889 non-null    object \n",
            " 3   Fare         891 non-null    float64\n",
            " 4   Name         891 non-null    object \n",
            " 5   Parch        891 non-null    int64  \n",
            " 6   PassengerId  891 non-null    int64  \n",
            " 7   Pclass       891 non-null    int64  \n",
            " 8   Sex          891 non-null    object \n",
            " 9   SibSp        891 non-null    int64  \n",
            " 10  Survived     891 non-null    float64\n",
            " 11  Ticket       891 non-null    object \n",
            " 12  person       891 non-null    object \n",
            "dtypes: float64(3), int64(4), object(6)\n",
            "memory usage: 97.5+ KB\n"
          ],
          "name": "stdout"
        }
      ]
    },
    {
      "cell_type": "markdown",
      "metadata": {
        "id": "Gezkf10zFmux",
        "colab_type": "text"
      },
      "source": [
        "También podemos sumar columnas y crear una nueva:\n"
      ]
    },
    {
      "cell_type": "code",
      "metadata": {
        "id": "ycj4hVImFziw",
        "colab_type": "code",
        "outputId": "b9b6f362-3a02-4831-d066-c54bdd21a94c",
        "colab": {
          "base_uri": "https://localhost:8080/",
          "height": 119
        }
      },
      "source": [
        "titanic_clean['Alone'] = titanic_clean.Parch + titanic_clean.SibSp"
      ],
      "execution_count": 0,
      "outputs": [
        {
          "output_type": "stream",
          "text": [
            "/usr/local/lib/python3.6/dist-packages/ipykernel_launcher.py:1: SettingWithCopyWarning: \n",
            "A value is trying to be set on a copy of a slice from a DataFrame.\n",
            "Try using .loc[row_indexer,col_indexer] = value instead\n",
            "\n",
            "See the caveats in the documentation: https://pandas.pydata.org/pandas-docs/stable/user_guide/indexing.html#returning-a-view-versus-a-copy\n",
            "  \"\"\"Entry point for launching an IPython kernel.\n"
          ],
          "name": "stderr"
        }
      ]
    },
    {
      "cell_type": "markdown",
      "metadata": {
        "id": "-A7S6WnJGKLr",
        "colab_type": "text"
      },
      "source": [
        "Con el método **loc** accedemos a una columna específica y podemos agregar condiciones:"
      ]
    },
    {
      "cell_type": "code",
      "metadata": {
        "id": "7GtdcEQBF7N4",
        "colab_type": "code",
        "outputId": "40413b17-b3ea-4962-e125-56c3f8f7dc35",
        "colab": {
          "base_uri": "https://localhost:8080/",
          "height": 272
        }
      },
      "source": [
        "titanic_clean['Alone'].loc[titanic_clean['Alone'] > 0] = 'With Family'\n",
        "\n",
        "titanic_clean['Alone'].loc[titanic_clean['Alone'] == 0] = 'Without Family'"
      ],
      "execution_count": 0,
      "outputs": [
        {
          "output_type": "stream",
          "text": [
            "/usr/local/lib/python3.6/dist-packages/pandas/core/indexing.py:671: SettingWithCopyWarning: \n",
            "A value is trying to be set on a copy of a slice from a DataFrame\n",
            "\n",
            "See the caveats in the documentation: https://pandas.pydata.org/pandas-docs/stable/user_guide/indexing.html#returning-a-view-versus-a-copy\n",
            "  self._setitem_with_indexer(indexer, value)\n",
            "/usr/local/lib/python3.6/dist-packages/ipykernel_launcher.py:1: SettingWithCopyWarning: \n",
            "A value is trying to be set on a copy of a slice from a DataFrame\n",
            "\n",
            "See the caveats in the documentation: https://pandas.pydata.org/pandas-docs/stable/user_guide/indexing.html#returning-a-view-versus-a-copy\n",
            "  \"\"\"Entry point for launching an IPython kernel.\n",
            "/usr/local/lib/python3.6/dist-packages/ipykernel_launcher.py:3: SettingWithCopyWarning: \n",
            "A value is trying to be set on a copy of a slice from a DataFrame\n",
            "\n",
            "See the caveats in the documentation: https://pandas.pydata.org/pandas-docs/stable/user_guide/indexing.html#returning-a-view-versus-a-copy\n",
            "  This is separate from the ipykernel package so we can avoid doing imports until\n"
          ],
          "name": "stderr"
        }
      ]
    },
    {
      "cell_type": "code",
      "metadata": {
        "id": "E-P6TRneGpb9",
        "colab_type": "code",
        "outputId": "e7132883-8a07-4d08-f082-db796cb37d2a",
        "colab": {
          "base_uri": "https://localhost:8080/",
          "height": 440
        }
      },
      "source": [
        "\n",
        "sns.factorplot('Alone',kind='count',data=titanic_clean)"
      ],
      "execution_count": 0,
      "outputs": [
        {
          "output_type": "stream",
          "text": [
            "/usr/local/lib/python3.6/dist-packages/seaborn/categorical.py:3669: UserWarning: The `factorplot` function has been renamed to `catplot`. The original name will be removed in a future release. Please update your code. Note that the default `kind` in `factorplot` (`'point'`) has changed `'strip'` in `catplot`.\n",
            "  warnings.warn(msg)\n"
          ],
          "name": "stderr"
        },
        {
          "output_type": "execute_result",
          "data": {
            "text/plain": [
              "<seaborn.axisgrid.FacetGrid at 0x7f64a9891cc0>"
            ]
          },
          "metadata": {
            "tags": []
          },
          "execution_count": 37
        },
        {
          "output_type": "display_data",
          "data": {
            "image/png": "[encoded data removed]",
            "text/plain": [
              "<Figure size 360x360 with 1 Axes>"
            ]
          },
          "metadata": {
            "tags": [],
            "needs_background": "light"
          }
        }
      ]
    },
    {
      "cell_type": "markdown",
      "metadata": {
        "id": "iJ6GCY_QHUAA",
        "colab_type": "text"
      },
      "source": [
        "**Ejercicios**\n",
        "\n",
        "1. Crear una gráfica con la cantidad de sobrevivientes por género"
      ]
    },
    {
      "cell_type": "code",
      "metadata": {
        "id": "q4hBSbJaHkKS",
        "colab_type": "code",
        "outputId": "5055fd12-eaf0-4653-cc4f-4b9a30fd86bf",
        "colab": {
          "base_uri": "https://localhost:8080/",
          "height": 386
        }
      },
      "source": [
        "sns.catplot('Sex', data=titanic_data, kind='count', hue='Survived')"
      ],
      "execution_count": 0,
      "outputs": [
        {
          "output_type": "execute_result",
          "data": {
            "text/plain": [
              "<seaborn.axisgrid.FacetGrid at 0x7f64a4452908>"
            ]
          },
          "metadata": {
            "tags": []
          },
          "execution_count": 65
        },
        {
          "output_type": "display_data",
          "data": {
            "image/png": "[encoded data removed]",
            "text/plain": [
              "<Figure size 411.875x360 with 1 Axes>"
            ]
          },
          "metadata": {
            "tags": [],
            "needs_background": "light"
          }
        }
      ]
    },
    {
      "cell_type": "markdown",
      "metadata": {
        "id": "BQlHV73NHkmK",
        "colab_type": "text"
      },
      "source": [
        "2. Crear una gráfica con la cantidad de sobrevivientes por clase"
      ]
    },
    {
      "cell_type": "code",
      "metadata": {
        "id": "tIdxMiXnHoDE",
        "colab_type": "code",
        "outputId": "075f7924-b4ef-4c25-e25d-ca62ef12e183",
        "colab": {
          "base_uri": "https://localhost:8080/",
          "height": 386
        }
      },
      "source": [
        "sns.catplot('Pclass', data=titanic_data, kind='count', hue='Survived')"
      ],
      "execution_count": 0,
      "outputs": [
        {
          "output_type": "execute_result",
          "data": {
            "text/plain": [
              "<seaborn.axisgrid.FacetGrid at 0x7f64a43946a0>"
            ]
          },
          "metadata": {
            "tags": []
          },
          "execution_count": 66
        },
        {
          "output_type": "display_data",
          "data": {
            "image/png": "[encoded data removed]",
            "text/plain": [
              "<Figure size 411.875x360 with 1 Axes>"
            ]
          },
          "metadata": {
            "tags": [],
            "needs_background": "light"
          }
        }
      ]
    },
    {
      "cell_type": "markdown",
      "metadata": {
        "id": "Iq0gUqq7Hpah",
        "colab_type": "text"
      },
      "source": [
        "Tenemos diferentes tipos de gráficas, "
      ]
    },
    {
      "cell_type": "code",
      "metadata": {
        "id": "USdnbWtoIbYg",
        "colab_type": "code",
        "outputId": "29846b5c-bffc-45ce-87d4-a9107eb1e077",
        "colab": {
          "base_uri": "https://localhost:8080/",
          "height": 386
        }
      },
      "source": [
        "\n",
        "\n",
        "sns.catplot('Pclass','Survived',data=titanic_clean,hue='person', kind='point')\n",
        "\n"
      ],
      "execution_count": 0,
      "outputs": [
        {
          "output_type": "execute_result",
          "data": {
            "text/plain": [
              "<seaborn.axisgrid.FacetGrid at 0x7f64a675ce48>"
            ]
          },
          "metadata": {
            "tags": []
          },
          "execution_count": 38
        },
        {
          "output_type": "display_data",
          "data": {
            "image/png": "[encoded data removed]",
            "text/plain": [
              "<Figure size 430.5x360 with 1 Axes>"
            ]
          },
          "metadata": {
            "tags": [],
            "needs_background": "light"
          }
        }
      ]
    },
    {
      "cell_type": "code",
      "metadata": {
        "id": "kfqHLFQiK4nM",
        "colab_type": "code",
        "outputId": "61f54b9a-212d-49af-ac8e-05aa46008eb9",
        "colab": {
          "base_uri": "https://localhost:8080/",
          "height": 386
        }
      },
      "source": [
        "\n",
        "sns.catplot('Pclass', 'Survived', data=titanic_clean, hue='Alone', kind='point')\n",
        "\n"
      ],
      "execution_count": 0,
      "outputs": [
        {
          "output_type": "execute_result",
          "data": {
            "text/plain": [
              "<seaborn.axisgrid.FacetGrid at 0x7f64a5360f98>"
            ]
          },
          "metadata": {
            "tags": []
          },
          "execution_count": 39
        },
        {
          "output_type": "display_data",
          "data": {
            "image/png": "[encoded data removed]",
            "text/plain": [
              "<Figure size 470.375x360 with 1 Axes>"
            ]
          },
          "metadata": {
            "tags": [],
            "needs_background": "light"
          }
        }
      ]
    },
    {
      "cell_type": "code",
      "metadata": {
        "id": "obfY4vL0LXOx",
        "colab_type": "code",
        "outputId": "047da61c-5932-42bd-d2e3-c499c6af8916",
        "colab": {
          "base_uri": "https://localhost:8080/",
          "height": 386
        }
      },
      "source": [
        "\n",
        "\n",
        "sns.lmplot('Age','Survived',data=titanic_clean)\n",
        "\n"
      ],
      "execution_count": 0,
      "outputs": [
        {
          "output_type": "execute_result",
          "data": {
            "text/plain": [
              "<seaborn.axisgrid.FacetGrid at 0x7f64a5355278>"
            ]
          },
          "metadata": {
            "tags": []
          },
          "execution_count": 40
        },
        {
          "output_type": "display_data",
          "data": {
            "image/png": "[encoded data removed]",
            "text/plain": [
              "<Figure size 360x360 with 1 Axes>"
            ]
          },
          "metadata": {
            "tags": [],
            "needs_background": "light"
          }
        }
      ]
    },
    {
      "cell_type": "markdown",
      "metadata": {
        "id": "_-aR2DA_L_dP",
        "colab_type": "text"
      },
      "source": [
        "**Ejercicio**\n",
        "\n",
        "Usar las gráficas que hemos construido o crear nuevas gráficas para responder a las siguientes preguntas:\n",
        "\n",
        "\n",
        "1. Cuál es el porcentaje de personas que sobrevivieron y murieron? Qué porcentaje es mayor?\n",
        "\n",
        "2. Qué género tuvo mayor número de sobrevivientes?\n",
        "\n",
        "3. Sobrevivieron más niños o adultos?\n",
        "\n",
        "4. Qué edad parece tener el mayor número de muertes?\n",
        "\n",
        "5. Qué clase tuvo más y menos muertes según la edad?\n",
        "\n"
      ]
    },
    {
      "cell_type": "code",
      "metadata": {
        "id": "ILKpdSq6TAKg",
        "colab_type": "code",
        "outputId": "31e5572e-b1ac-4b66-ff0f-bace65f2fef7",
        "colab": {
          "base_uri": "https://localhost:8080/",
          "height": 296
        }
      },
      "source": [
        "# 1 Cuál es el porcentaje de personas que sobrevivieron y murieron? Qué porcentaje es mayor?\n",
        "\n",
        "sns.barplot(x='Survived', y='Survived', data=titanic_data, estimator=lambda x: len(x) / len(titanic_data) * 100)\n",
        "\n"
      ],
      "execution_count": 0,
      "outputs": [
        {
          "output_type": "execute_result",
          "data": {
            "text/plain": [
              "<matplotlib.axes._subplots.AxesSubplot at 0x7f64a422c0f0>"
            ]
          },
          "metadata": {
            "tags": []
          },
          "execution_count": 72
        },
        {
          "output_type": "display_data",
          "data": {
            "image/png": "[encoded data removed]",
            "text/plain": [
              "<Figure size 432x288 with 1 Axes>"
            ]
          },
          "metadata": {
            "tags": [],
            "needs_background": "light"
          }
        }
      ]
    },
    {
      "cell_type": "code",
      "metadata": {
        "id": "HE1CPzTbU4ir",
        "colab_type": "code",
        "outputId": "24167ae2-5f1c-482e-bafe-02d1545d6134",
        "colab": {
          "base_uri": "https://localhost:8080/",
          "height": 386
        }
      },
      "source": [
        "# 2. Qué género tuvo mayor número de sobrevivientes?\n",
        "sns.catplot('Sex', data=titanic_data, kind='count', hue='Survived')"
      ],
      "execution_count": 0,
      "outputs": [
        {
          "output_type": "execute_result",
          "data": {
            "text/plain": [
              "<seaborn.axisgrid.FacetGrid at 0x7f64a3c039b0>"
            ]
          },
          "metadata": {
            "tags": []
          },
          "execution_count": 87
        },
        {
          "output_type": "display_data",
          "data": {
            "image/png": "[encoded data removed]",
            "text/plain": [
              "<Figure size 411.875x360 with 1 Axes>"
            ]
          },
          "metadata": {
            "tags": [],
            "needs_background": "light"
          }
        }
      ]
    },
    {
      "cell_type": "code",
      "metadata": {
        "id": "qg3c4No6Np7E",
        "colab_type": "code",
        "outputId": "6d50cc2a-ced2-41d9-b0f4-ae128c972ad0",
        "colab": {
          "base_uri": "https://localhost:8080/",
          "height": 386
        }
      },
      "source": [
        "# 3. Sobrevivieron más niños o adultos?\n",
        "def titanic_children(passenger):\n",
        "    \n",
        "    age, sex = passenger\n",
        "    if age < 16:\n",
        "        return 'child'\n",
        "    else:\n",
        "        return 'adult'\n",
        "\n",
        "titanic_data['person'] = titanic_data[['Age','Sex']].apply(titanic_children, axis=1)\n",
        "sns.catplot('person', data=titanic_data, kind='count', hue='Survived')"
      ],
      "execution_count": 0,
      "outputs": [
        {
          "output_type": "execute_result",
          "data": {
            "text/plain": [
              "<seaborn.axisgrid.FacetGrid at 0x7f64a3718cf8>"
            ]
          },
          "metadata": {
            "tags": []
          },
          "execution_count": 94
        },
        {
          "output_type": "display_data",
          "data": {
            "image/png": "[encoded data removed]",
            "text/plain": [
              "<Figure size 411.875x360 with 1 Axes>"
            ]
          },
          "metadata": {
            "tags": [],
            "needs_background": "light"
          }
        }
      ]
    },
    {
      "cell_type": "code",
      "metadata": {
        "id": "FbzRfp2NNzsE",
        "colab_type": "code",
        "outputId": "f7a27591-ec7e-4266-ef8c-c2830e0ad536",
        "colab": {
          "base_uri": "https://localhost:8080/",
          "height": 386
        }
      },
      "source": [
        " \n",
        "# 4. Qué edad parece tener el mayor número de muertes?\n",
        "temporal = titanic_data[titanic_data['Survived'] == 0]\n",
        "\n",
        "sns.catplot('Age', data=temporal, kind='swarm')\n"
      ],
      "execution_count": 0,
      "outputs": [
        {
          "output_type": "execute_result",
          "data": {
            "text/plain": [
              "<seaborn.axisgrid.FacetGrid at 0x7f64a398c0f0>"
            ]
          },
          "metadata": {
            "tags": []
          },
          "execution_count": 114
        },
        {
          "output_type": "display_data",
          "data": {
            "image/png": "[encoded data removed]",
            "text/plain": [
              "<Figure size 360x360 with 1 Axes>"
            ]
          },
          "metadata": {
            "tags": [],
            "needs_background": "light"
          }
        }
      ]
    },
    {
      "cell_type": "code",
      "metadata": {
        "id": "uybWZxg4PAba",
        "colab_type": "code",
        "outputId": "abc7fe28-3c9f-4569-a53f-88b3b2f5819f",
        "colab": {
          "base_uri": "https://localhost:8080/",
          "height": 386
        }
      },
      "source": [
        "# 5. Qué clase tuvo más y menos muertes según la edad?\n",
        "sns.lmplot(x='Survived', y='Age', data=titanic_data, hue='Pclass')"
      ],
      "execution_count": 0,
      "outputs": [
        {
          "output_type": "execute_result",
          "data": {
            "text/plain": [
              "<seaborn.axisgrid.FacetGrid at 0x7f64a5200e10>"
            ]
          },
          "metadata": {
            "tags": []
          },
          "execution_count": 50
        },
        {
          "output_type": "display_data",
          "data": {
            "image/png": "[encoded data removed]",
            "text/plain": [
              "<Figure size 402.375x360 with 1 Axes>"
            ]
          },
          "metadata": {
            "tags": [],
            "needs_background": "light"
          }
        }
      ]
    }
  ]
}