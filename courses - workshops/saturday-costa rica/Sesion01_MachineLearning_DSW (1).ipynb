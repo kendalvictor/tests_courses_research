{
  "nbformat": 4,
  "nbformat_minor": 0,
  "metadata": {
    "kernelspec": {
      "display_name": "Python 3",
      "language": "python",
      "name": "python3"
    },
    "language_info": {
      "codemirror_mode": {
        "name": "ipython",
        "version": 3
      },
      "file_extension": ".py",
      "mimetype": "text/x-python",
      "name": "python",
      "nbconvert_exporter": "python",
      "pygments_lexer": "ipython3",
      "version": "3.6.3"
    },
    "toc": {
      "base_numbering": 1,
      "nav_menu": {},
      "number_sections": true,
      "sideBar": true,
      "skip_h1_title": false,
      "title_cell": "Table of Contents",
      "title_sidebar": "Contents",
      "toc_cell": false,
      "toc_position": {
        "height": "calc(100% - 180px)",
        "left": "10px",
        "top": "150px",
        "width": "165px"
      },
      "toc_section_display": true,
      "toc_window_display": false
    },
    "varInspector": {
      "cols": {
        "lenName": 16,
        "lenType": 16,
        "lenVar": 40
      },
      "kernels_config": {
        "python": {
          "delete_cmd_postfix": "",
          "delete_cmd_prefix": "del ",
          "library": "var_list.py",
          "varRefreshCmd": "print(var_dic_list())"
        },
        "r": {
          "delete_cmd_postfix": ") ",
          "delete_cmd_prefix": "rm(",
          "library": "var_list.r",
          "varRefreshCmd": "cat(var_dic_list()) "
        }
      },
      "types_to_exclude": [
        "module",
        "function",
        "builtin_function_or_method",
        "instance",
        "_Feature"
      ],
      "window_display": false
    },
    "colab": {
      "name": "Sesion01-MachineLearning DSW",
      "provenance": [],
      "collapsed_sections": []
    }
  },
  "cells": [
    {
      "cell_type": "code",
      "metadata": {
        "id": "JQ_NwYf-Nl-U",
        "colab_type": "code",
        "colab": {}
      },
      "source": [
        "############## -- Machine Learning - DSW --##############################\n",
        "# Tema : Desarrollo y Productivo de Algoritmos de Machine Learning\n",
        "# Autor : André Chávez \n",
        "# email: andre.chavez@urp.edu.pe\n",
        "# version: 1.0\n",
        "#########################################################################"
      ],
      "execution_count": 0,
      "outputs": []
    },
    {
      "cell_type": "code",
      "metadata": {
        "id": "K8zvUXNVNl-a",
        "colab_type": "code",
        "colab": {}
      },
      "source": [
        "##################################################\n",
        "## Desarrollo de Modelos de Machine Learning\n",
        "##################################################"
      ],
      "execution_count": 0,
      "outputs": []
    },
    {
      "cell_type": "code",
      "metadata": {
        "id": "H0oJtOj5lmXu",
        "colab_type": "code",
        "colab": {}
      },
      "source": [
        "# Nos conectamos al Drive"
      ],
      "execution_count": 0,
      "outputs": []
    },
    {
      "cell_type": "code",
      "metadata": {
        "id": "_bFUpcHhlmey",
        "colab_type": "code",
        "outputId": "a46cbfa7-d57e-4b30-93cf-9064fbcfce46",
        "colab": {
          "base_uri": "https://localhost:8080/",
          "height": 54
        }
      },
      "source": [
        "from google.colab import drive\n",
        "drive.mount('/content/drive')"
      ],
      "execution_count": 0,
      "outputs": [
        {
          "output_type": "stream",
          "text": [
            "Drive already mounted at /content/drive; to attempt to forcibly remount, call drive.mount(\"/content/drive\", force_remount=True).\n"
          ],
          "name": "stdout"
        }
      ]
    },
    {
      "cell_type": "code",
      "metadata": {
        "id": "WMK6JuifNl-c",
        "colab_type": "code",
        "colab": {}
      },
      "source": [
        "## Leemos las librerias necesarias para poder trabajar"
      ],
      "execution_count": 0,
      "outputs": []
    },
    {
      "cell_type": "code",
      "metadata": {
        "id": "dJyX6aZqNl-e",
        "colab_type": "code",
        "colab": {}
      },
      "source": [
        "#Importar las librerías necesarias en Python.\n",
        "import pandas as pd ## Manejo de dataframes o set de datos\n",
        "import warnings\n",
        "import matplotlib.pyplot as plt2 ## Todo lo referente a gráficas y demás.\n",
        "import matplotlib as plt\n",
        "import numpy as np ## Todo lo referente a trabajar con vectores y matrices\n",
        "from scipy import stats ## Herramientas y algoritmos matemáticos para python\n",
        "import seaborn as sns # Se basa en Matplotlib y la complementa en el tema de graficos y demás.\n",
        "\n",
        "%matplotlib inline\n",
        "warnings.filterwarnings(\"ignore\")"
      ],
      "execution_count": 0,
      "outputs": []
    },
    {
      "cell_type": "code",
      "metadata": {
        "id": "Pc2SfMZ5Nl-h",
        "colab_type": "code",
        "colab": {}
      },
      "source": [
        "## Leemos los datos o el dataset a trabajar"
      ],
      "execution_count": 0,
      "outputs": []
    },
    {
      "cell_type": "code",
      "metadata": {
        "id": "-FOJaJ9hNl-k",
        "colab_type": "code",
        "colab": {}
      },
      "source": [
        "# Leemos la data de desarrollo de modeolos\n",
        "desarrll = pd.read_csv(\"/content/drive/My Drive/CLASS - DATATHONES/MACHINE LEARNING/train.csv\") \n",
        "# Leer el dataset en un dataframe usando pandas"
      ],
      "execution_count": 0,
      "outputs": []
    },
    {
      "cell_type": "code",
      "metadata": {
        "id": "hxo2oOsZNl-o",
        "colab_type": "code",
        "outputId": "87e4cc59-5c5f-4aae-e091-bff64cd6b1b6",
        "colab": {
          "base_uri": "https://localhost:8080/",
          "height": 162
        }
      },
      "source": [
        "desarrll.head(3)"
      ],
      "execution_count": 0,
      "outputs": [
        {
          "output_type": "execute_result",
          "data": {
            "text/html": [
              "<div>\n",
              "<style scoped>\n",
              "    .dataframe tbody tr th:only-of-type {\n",
              "        vertical-align: middle;\n",
              "    }\n",
              "\n",
              "    .dataframe tbody tr th {\n",
              "        vertical-align: top;\n",
              "    }\n",
              "\n",
              "    .dataframe thead th {\n",
              "        text-align: right;\n",
              "    }\n",
              "</style>\n",
              "<table border=\"1\" class=\"dataframe\">\n",
              "  <thead>\n",
              "    <tr style=\"text-align: right;\">\n",
              "      <th></th>\n",
              "      <th>Loan_ID</th>\n",
              "      <th>Gender</th>\n",
              "      <th>Married</th>\n",
              "      <th>Dependents</th>\n",
              "      <th>Education</th>\n",
              "      <th>Self_Employed</th>\n",
              "      <th>ApplicantIncome</th>\n",
              "      <th>CoapplicantIncome</th>\n",
              "      <th>LoanAmount</th>\n",
              "      <th>Loan_Amount_Term</th>\n",
              "      <th>Credit_History</th>\n",
              "      <th>Property_Area</th>\n",
              "      <th>Loan_Status</th>\n",
              "    </tr>\n",
              "  </thead>\n",
              "  <tbody>\n",
              "    <tr>\n",
              "      <th>0</th>\n",
              "      <td>LP001002</td>\n",
              "      <td>Male</td>\n",
              "      <td>No</td>\n",
              "      <td>0</td>\n",
              "      <td>Graduate</td>\n",
              "      <td>No</td>\n",
              "      <td>5849</td>\n",
              "      <td>0.0</td>\n",
              "      <td>NaN</td>\n",
              "      <td>360.0</td>\n",
              "      <td>1.0</td>\n",
              "      <td>Urban</td>\n",
              "      <td>Y</td>\n",
              "    </tr>\n",
              "    <tr>\n",
              "      <th>1</th>\n",
              "      <td>LP001003</td>\n",
              "      <td>Male</td>\n",
              "      <td>Yes</td>\n",
              "      <td>1</td>\n",
              "      <td>Graduate</td>\n",
              "      <td>No</td>\n",
              "      <td>4583</td>\n",
              "      <td>1508.0</td>\n",
              "      <td>128.0</td>\n",
              "      <td>360.0</td>\n",
              "      <td>1.0</td>\n",
              "      <td>Rural</td>\n",
              "      <td>N</td>\n",
              "    </tr>\n",
              "    <tr>\n",
              "      <th>2</th>\n",
              "      <td>LP001005</td>\n",
              "      <td>Male</td>\n",
              "      <td>Yes</td>\n",
              "      <td>0</td>\n",
              "      <td>Graduate</td>\n",
              "      <td>Yes</td>\n",
              "      <td>3000</td>\n",
              "      <td>0.0</td>\n",
              "      <td>66.0</td>\n",
              "      <td>360.0</td>\n",
              "      <td>1.0</td>\n",
              "      <td>Urban</td>\n",
              "      <td>Y</td>\n",
              "    </tr>\n",
              "  </tbody>\n",
              "</table>\n",
              "</div>"
            ],
            "text/plain": [
              "    Loan_ID Gender Married  ... Credit_History Property_Area Loan_Status\n",
              "0  LP001002   Male      No  ...            1.0         Urban           Y\n",
              "1  LP001003   Male     Yes  ...            1.0         Rural           N\n",
              "2  LP001005   Male     Yes  ...            1.0         Urban           Y\n",
              "\n",
              "[3 rows x 13 columns]"
            ]
          },
          "metadata": {
            "tags": []
          },
          "execution_count": 20
        }
      ]
    },
    {
      "cell_type": "code",
      "metadata": {
        "id": "MuCzH3UPNl-s",
        "colab_type": "code",
        "outputId": "dfc503c9-e9b9-4269-8715-7d7c78cefa2d",
        "colab": {
          "base_uri": "https://localhost:8080/",
          "height": 34
        }
      },
      "source": [
        "# Dimension\n",
        "desarrll.shape\n",
        "# Son 614 obs con 13 columnas"
      ],
      "execution_count": 0,
      "outputs": [
        {
          "output_type": "execute_result",
          "data": {
            "text/plain": [
              "(614, 13)"
            ]
          },
          "metadata": {
            "tags": []
          },
          "execution_count": 5
        }
      ]
    },
    {
      "cell_type": "code",
      "metadata": {
        "id": "S0sCcv7qNl-u",
        "colab_type": "code",
        "outputId": "1b8d1c13-9f55-4b5f-d0e1-c38c3e206593",
        "colab": {
          "base_uri": "https://localhost:8080/",
          "height": 357
        }
      },
      "source": [
        "#Leer los primeros registros.\n",
        "# Podemos ver la estructura de los datos, es el str de Python\n",
        "desarrll.info()"
      ],
      "execution_count": 0,
      "outputs": [
        {
          "output_type": "stream",
          "text": [
            "<class 'pandas.core.frame.DataFrame'>\n",
            "RangeIndex: 614 entries, 0 to 613\n",
            "Data columns (total 13 columns):\n",
            " #   Column             Non-Null Count  Dtype  \n",
            "---  ------             --------------  -----  \n",
            " 0   Loan_ID            614 non-null    object \n",
            " 1   Gender             601 non-null    object \n",
            " 2   Married            611 non-null    object \n",
            " 3   Dependents         599 non-null    object \n",
            " 4   Education          614 non-null    object \n",
            " 5   Self_Employed      582 non-null    object \n",
            " 6   ApplicantIncome    614 non-null    int64  \n",
            " 7   CoapplicantIncome  614 non-null    float64\n",
            " 8   LoanAmount         592 non-null    float64\n",
            " 9   Loan_Amount_Term   600 non-null    float64\n",
            " 10  Credit_History     564 non-null    float64\n",
            " 11  Property_Area      614 non-null    object \n",
            " 12  Loan_Status        614 non-null    object \n",
            "dtypes: float64(4), int64(1), object(8)\n",
            "memory usage: 62.5+ KB\n"
          ],
          "name": "stdout"
        }
      ]
    },
    {
      "cell_type": "code",
      "metadata": {
        "id": "MG6o64k8Nl-w",
        "colab_type": "code",
        "colab": {}
      },
      "source": [
        "## Analisis Exploratorio de los datos"
      ],
      "execution_count": 0,
      "outputs": []
    },
    {
      "cell_type": "code",
      "metadata": {
        "id": "k9qxjWopNl-0",
        "colab_type": "code",
        "colab": {}
      },
      "source": [
        "#### Recurso: https://www.analyticsvidhya.com/blog/2014/07/statistics/"
      ],
      "execution_count": 0,
      "outputs": []
    },
    {
      "cell_type": "code",
      "metadata": {
        "id": "825LXlmiNl-2",
        "colab_type": "code",
        "outputId": "3e48c9b6-85c2-4cdd-eaf5-79077be9e7cb",
        "colab": {
          "base_uri": "https://localhost:8080/",
          "height": 297
        }
      },
      "source": [
        "desarrll.describe() #Resumen de la información cuantitativa"
      ],
      "execution_count": 0,
      "outputs": [
        {
          "output_type": "execute_result",
          "data": {
            "text/html": [
              "<div>\n",
              "<style scoped>\n",
              "    .dataframe tbody tr th:only-of-type {\n",
              "        vertical-align: middle;\n",
              "    }\n",
              "\n",
              "    .dataframe tbody tr th {\n",
              "        vertical-align: top;\n",
              "    }\n",
              "\n",
              "    .dataframe thead th {\n",
              "        text-align: right;\n",
              "    }\n",
              "</style>\n",
              "<table border=\"1\" class=\"dataframe\">\n",
              "  <thead>\n",
              "    <tr style=\"text-align: right;\">\n",
              "      <th></th>\n",
              "      <th>ApplicantIncome</th>\n",
              "      <th>CoapplicantIncome</th>\n",
              "      <th>LoanAmount</th>\n",
              "      <th>Loan_Amount_Term</th>\n",
              "      <th>Credit_History</th>\n",
              "    </tr>\n",
              "  </thead>\n",
              "  <tbody>\n",
              "    <tr>\n",
              "      <th>count</th>\n",
              "      <td>614.000000</td>\n",
              "      <td>614.000000</td>\n",
              "      <td>592.000000</td>\n",
              "      <td>600.00000</td>\n",
              "      <td>564.000000</td>\n",
              "    </tr>\n",
              "    <tr>\n",
              "      <th>mean</th>\n",
              "      <td>5403.459283</td>\n",
              "      <td>1621.245798</td>\n",
              "      <td>146.412162</td>\n",
              "      <td>342.00000</td>\n",
              "      <td>0.842199</td>\n",
              "    </tr>\n",
              "    <tr>\n",
              "      <th>std</th>\n",
              "      <td>6109.041673</td>\n",
              "      <td>2926.248369</td>\n",
              "      <td>85.587325</td>\n",
              "      <td>65.12041</td>\n",
              "      <td>0.364878</td>\n",
              "    </tr>\n",
              "    <tr>\n",
              "      <th>min</th>\n",
              "      <td>150.000000</td>\n",
              "      <td>0.000000</td>\n",
              "      <td>9.000000</td>\n",
              "      <td>12.00000</td>\n",
              "      <td>0.000000</td>\n",
              "    </tr>\n",
              "    <tr>\n",
              "      <th>25%</th>\n",
              "      <td>2877.500000</td>\n",
              "      <td>0.000000</td>\n",
              "      <td>100.000000</td>\n",
              "      <td>360.00000</td>\n",
              "      <td>1.000000</td>\n",
              "    </tr>\n",
              "    <tr>\n",
              "      <th>50%</th>\n",
              "      <td>3812.500000</td>\n",
              "      <td>1188.500000</td>\n",
              "      <td>128.000000</td>\n",
              "      <td>360.00000</td>\n",
              "      <td>1.000000</td>\n",
              "    </tr>\n",
              "    <tr>\n",
              "      <th>75%</th>\n",
              "      <td>5795.000000</td>\n",
              "      <td>2297.250000</td>\n",
              "      <td>168.000000</td>\n",
              "      <td>360.00000</td>\n",
              "      <td>1.000000</td>\n",
              "    </tr>\n",
              "    <tr>\n",
              "      <th>max</th>\n",
              "      <td>81000.000000</td>\n",
              "      <td>41667.000000</td>\n",
              "      <td>700.000000</td>\n",
              "      <td>480.00000</td>\n",
              "      <td>1.000000</td>\n",
              "    </tr>\n",
              "  </tbody>\n",
              "</table>\n",
              "</div>"
            ],
            "text/plain": [
              "       ApplicantIncome  CoapplicantIncome  ...  Loan_Amount_Term  Credit_History\n",
              "count       614.000000         614.000000  ...         600.00000      564.000000\n",
              "mean       5403.459283        1621.245798  ...         342.00000        0.842199\n",
              "std        6109.041673        2926.248369  ...          65.12041        0.364878\n",
              "min         150.000000           0.000000  ...          12.00000        0.000000\n",
              "25%        2877.500000           0.000000  ...         360.00000        1.000000\n",
              "50%        3812.500000        1188.500000  ...         360.00000        1.000000\n",
              "75%        5795.000000        2297.250000  ...         360.00000        1.000000\n",
              "max       81000.000000       41667.000000  ...         480.00000        1.000000\n",
              "\n",
              "[8 rows x 5 columns]"
            ]
          },
          "metadata": {
            "tags": []
          },
          "execution_count": 22
        }
      ]
    },
    {
      "cell_type": "markdown",
      "metadata": {
        "id": "_PVOSLfoNl-6",
        "colab_type": "text"
      },
      "source": [
        "La función describe () proporcionaría count - conteo o número de elementos, mean - media, standard deviation (std) - desviación estándar, min - mínimo, cuartiles y max - máximo en su salida. Sólo considera las variables en formato de número."
      ]
    },
    {
      "cell_type": "code",
      "metadata": {
        "id": "gQGTwCZkNl_B",
        "colab_type": "code",
        "colab": {}
      },
      "source": [
        "# Gráficos para variables cuantitativas\n",
        "#Histogramas y Cajas"
      ],
      "execution_count": 0,
      "outputs": []
    },
    {
      "cell_type": "code",
      "metadata": {
        "id": "cUOC0hiONl_Q",
        "colab_type": "code",
        "outputId": "72a390dd-0400-4828-a335-042837b0777a",
        "colab": {
          "base_uri": "https://localhost:8080/",
          "height": 298
        }
      },
      "source": [
        "# Gráfico de Cajas\n",
        "import pandas as pd\n",
        "%matplotlib inline\n",
        "import matplotlib.pyplot as plt\n",
        "plt.title('Gráfico de Cajas de LoanAmount')\n",
        "#train.boxplot(column='LoanAmount',showfliers='T',notch=0, sym='+', vert=1, whis=1.5)\n",
        "desarrll.boxplot(column='LoanAmount')"
      ],
      "execution_count": 0,
      "outputs": [
        {
          "output_type": "execute_result",
          "data": {
            "text/plain": [
              "<matplotlib.axes._subplots.AxesSubplot at 0x7ff9d12b9278>"
            ]
          },
          "metadata": {
            "tags": []
          },
          "execution_count": 23
        },
        {
          "output_type": "display_data",
          "data": {
            "image/png": "[encoded data removed]",
            "text/plain": [
              "<Figure size 432x288 with 1 Axes>"
            ]
          },
          "metadata": {
            "tags": [],
            "needs_background": "light"
          }
        }
      ]
    },
    {
      "cell_type": "code",
      "metadata": {
        "id": "VPHZmRk3Nl_W",
        "colab_type": "code",
        "outputId": "98a360e3-b8b8-47d6-b19e-80a9c8ce840c",
        "colab": {
          "base_uri": "https://localhost:8080/",
          "height": 318
        }
      },
      "source": [
        "desarrll.boxplot('LoanAmount',by='Gender')"
      ],
      "execution_count": 0,
      "outputs": [
        {
          "output_type": "execute_result",
          "data": {
            "text/plain": [
              "<matplotlib.axes._subplots.AxesSubplot at 0x7ff9d1550d30>"
            ]
          },
          "metadata": {
            "tags": []
          },
          "execution_count": 24
        },
        {
          "output_type": "display_data",
          "data": {
            "image/png": "[encoded data removed]",
            "text/plain": [
              "<Figure size 432x288 with 1 Axes>"
            ]
          },
          "metadata": {
            "tags": [],
            "needs_background": "light"
          }
        }
      ]
    },
    {
      "cell_type": "code",
      "metadata": {
        "id": "2zma5AfoNl_j",
        "colab_type": "code",
        "colab": {}
      },
      "source": [
        "########################################\n",
        "# Tratamiento de valores missings\n",
        "########################################"
      ],
      "execution_count": 0,
      "outputs": []
    },
    {
      "cell_type": "code",
      "metadata": {
        "id": "fbh8kr2ENl_l",
        "colab_type": "code",
        "outputId": "c8a769cc-6c89-4d43-c385-c1cfbdd5b184",
        "colab": {
          "base_uri": "https://localhost:8080/",
          "height": 255
        }
      },
      "source": [
        "desarrll.isnull().sum()"
      ],
      "execution_count": 0,
      "outputs": [
        {
          "output_type": "execute_result",
          "data": {
            "text/plain": [
              "Loan_ID               0\n",
              "Gender               13\n",
              "Married               3\n",
              "Dependents           15\n",
              "Education             0\n",
              "Self_Employed        32\n",
              "ApplicantIncome       0\n",
              "CoapplicantIncome     0\n",
              "LoanAmount           22\n",
              "Loan_Amount_Term     14\n",
              "Credit_History       50\n",
              "Property_Area         0\n",
              "Loan_Status           0\n",
              "dtype: int64"
            ]
          },
          "metadata": {
            "tags": []
          },
          "execution_count": 25
        }
      ]
    },
    {
      "cell_type": "code",
      "metadata": {
        "id": "78f1JN0kNl_o",
        "colab_type": "code",
        "colab": {}
      },
      "source": [
        "# No olvidemos separar las variables cualitativas para poder trabajarlas eficientemente\n",
        "columnas_categoricas = [\"Gender\",\"Married\",\"Education\",\"Self_Employed\",\"Property_Area\",\"Dependents\",\"Loan_Status\"]"
      ],
      "execution_count": 0,
      "outputs": []
    },
    {
      "cell_type": "code",
      "metadata": {
        "id": "71eYvpQvNl_r",
        "colab_type": "code",
        "colab": {}
      },
      "source": [
        "# Separamos las columnas numericas\n",
        "columnas_numericas = [\"ApplicantIncome\",\"CoapplicantIncome\",\"LoanAmount\",\"Loan_Amount_Term\"]"
      ],
      "execution_count": 0,
      "outputs": []
    },
    {
      "cell_type": "code",
      "metadata": {
        "id": "dhXdHjJQNl_u",
        "colab_type": "code",
        "outputId": "fe7219df-fad8-4a9d-f553-e3032e6ae28c",
        "colab": {
          "base_uri": "https://localhost:8080/",
          "height": 85
        }
      },
      "source": [
        "# Visualizamos los valores perdidos respecto a las variables cualititativas\n",
        "desarrll.Gender.value_counts(dropna=False)"
      ],
      "execution_count": 0,
      "outputs": [
        {
          "output_type": "execute_result",
          "data": {
            "text/plain": [
              "Male      489\n",
              "Female    112\n",
              "NaN        13\n",
              "Name: Gender, dtype: int64"
            ]
          },
          "metadata": {
            "tags": []
          },
          "execution_count": 27
        }
      ]
    },
    {
      "cell_type": "code",
      "metadata": {
        "id": "1d-CD5i9Nl_4",
        "colab_type": "code",
        "colab": {}
      },
      "source": [
        "# Imputamos los valores cualitativos por Moda\n",
        "desarrll.Gender = desarrll.Gender.fillna(\"Male\")\n",
        "desarrll.Married = desarrll.Married.fillna(\"Yes\")\n",
        "desarrll.Self_Employed = desarrll.Self_Employed.fillna(\"Yes\")\n",
        "desarrll.Credit_History = desarrll.Credit_History.fillna(\"1\")\n",
        "desarrll.Dependents = desarrll.Dependents.fillna(\"0\")"
      ],
      "execution_count": 0,
      "outputs": []
    },
    {
      "cell_type": "code",
      "metadata": {
        "id": "ivlipWe6Nl_-",
        "colab_type": "code",
        "outputId": "8fedf381-56ff-44df-a085-d3150c6afee4",
        "colab": {
          "base_uri": "https://localhost:8080/",
          "height": 136
        }
      },
      "source": [
        "# Preprocesamiento con LabelEncoder\n",
        "from sklearn.preprocessing import LabelEncoder # PasoN°01: Importo la libreria a usar\n",
        "for c in columnas_categoricas:\n",
        "    print(str(c))\n",
        "    le = LabelEncoder()                     #   PasoN°02: Instancio la funcion a desarrollar\n",
        "    le.fit(desarrll[str(c)])                #   PasoN°03: Ajusto la funcion\n",
        "    desarrll[str(c)]=le.transform(desarrll[str(c)]) #   PasoN°04: Ejecuto la funcion"
      ],
      "execution_count": 0,
      "outputs": [
        {
          "output_type": "stream",
          "text": [
            "Gender\n",
            "Married\n",
            "Education\n",
            "Self_Employed\n",
            "Property_Area\n",
            "Dependents\n",
            "Loan_Status\n"
          ],
          "name": "stdout"
        }
      ]
    },
    {
      "cell_type": "code",
      "metadata": {
        "id": "SDZB3R5PNmAM",
        "colab_type": "code",
        "colab": {}
      },
      "source": [
        "# Imputamos los valores cuantitativos por Media o Mediana\n",
        "## Median\n",
        "for c in columnas_numericas:\n",
        "    median = desarrll[c].median()\n",
        "    desarrll[c].fillna(median, inplace=True)"
      ],
      "execution_count": 0,
      "outputs": []
    },
    {
      "cell_type": "code",
      "metadata": {
        "id": "xVJ7145UNmAS",
        "colab_type": "code",
        "outputId": "36f70bfc-d361-4077-d104-5946d6e0baf9",
        "colab": {
          "base_uri": "https://localhost:8080/",
          "height": 255
        }
      },
      "source": [
        "# Revisamos si la recodigicación fue la idónea\n",
        "desarrll.isnull().sum()"
      ],
      "execution_count": 0,
      "outputs": [
        {
          "output_type": "execute_result",
          "data": {
            "text/plain": [
              "Loan_ID              0\n",
              "Gender               0\n",
              "Married              0\n",
              "Dependents           0\n",
              "Education            0\n",
              "Self_Employed        0\n",
              "ApplicantIncome      0\n",
              "CoapplicantIncome    0\n",
              "LoanAmount           0\n",
              "Loan_Amount_Term     0\n",
              "Credit_History       0\n",
              "Property_Area        0\n",
              "Loan_Status          0\n",
              "dtype: int64"
            ]
          },
          "metadata": {
            "tags": []
          },
          "execution_count": 31
        }
      ]
    },
    {
      "cell_type": "code",
      "metadata": {
        "id": "yrMf1eh0NmAU",
        "colab_type": "code",
        "colab": {}
      },
      "source": [
        "########################################\n",
        "## Feature Enginnering ##\n",
        "########################################"
      ],
      "execution_count": 0,
      "outputs": []
    },
    {
      "cell_type": "code",
      "metadata": {
        "id": "eP8RfZhnNmAW",
        "colab_type": "code",
        "colab": {}
      },
      "source": [
        "## Creación de Variables por Decision de Negocio o de acuerdo a metodologías más automatizadas es el\n",
        "# corazon de Machine Learning\n",
        "# También conocido como proceso de Feature Engineering, no olvidar que todo lo que le hacemos al Train o Entrenamiento se lo\n",
        "# debemos hacer a la data de scoreo o data productiva."
      ],
      "execution_count": 0,
      "outputs": []
    },
    {
      "cell_type": "code",
      "metadata": {
        "id": "qmVDOWsrNmAj",
        "colab_type": "code",
        "colab": {}
      },
      "source": [
        "# Ingenieria de datos\n",
        "#Creamos las variables para el entrenamiento o train\n",
        "\n",
        "desarrll['TotalIncome']    = desarrll['ApplicantIncome'] + desarrll['CoapplicantIncome']\n",
        "desarrll['Log_LoanAmount'] = round(np.log(desarrll['LoanAmount']+1),2)"
      ],
      "execution_count": 0,
      "outputs": []
    },
    {
      "cell_type": "code",
      "metadata": {
        "id": "bKJr8UopNmAl",
        "colab_type": "code",
        "colab": {}
      },
      "source": [
        "desarrll['AmountxTerm']    = round(desarrll['LoanAmount']/desarrll['Loan_Amount_Term'],2)\n",
        "desarrll[\"Cuota_Ingreso1\"] = (1000*desarrll[\"LoanAmount\"]/desarrll[\"Loan_Amount_Term\"])/(desarrll[\"ApplicantIncome\"])\n",
        "desarrll[\"Cuota_Ingreso2\"] = (1000*desarrll[\"LoanAmount\"]/desarrll[\"Loan_Amount_Term\"])/(desarrll[\"TotalIncome\"])\n",
        "desarrll[\"Cuota_Ingreso_Hijo\"] = (1000*desarrll[\"LoanAmount\"]/desarrll[\"Loan_Amount_Term\"])/(desarrll[\"TotalIncome\"]/(desarrll[\"Dependents\"]+1))\n"
      ],
      "execution_count": 0,
      "outputs": []
    },
    {
      "cell_type": "code",
      "metadata": {
        "id": "FcpLQdQLNmAn",
        "colab_type": "code",
        "colab": {}
      },
      "source": [
        "# Revisamos las variables creadas, derrepente queremos crear algunas más?\n",
        "#desarrll.shape"
      ],
      "execution_count": 0,
      "outputs": []
    },
    {
      "cell_type": "code",
      "metadata": {
        "id": "C-Kzb8ocNmAv",
        "colab_type": "code",
        "colab": {}
      },
      "source": [
        "########################################\n",
        "# Particion Muestral de los datos\n",
        "########################################"
      ],
      "execution_count": 0,
      "outputs": []
    },
    {
      "cell_type": "code",
      "metadata": {
        "id": "Bc1mkQGLNmAy",
        "colab_type": "code",
        "colab": {}
      },
      "source": [
        "# Le quitamos la variable Loan_ID o identificador único para poder modelar la información \n",
        "desarrll = desarrll.drop('Loan_ID',axis=1)"
      ],
      "execution_count": 0,
      "outputs": []
    },
    {
      "cell_type": "code",
      "metadata": {
        "id": "0LtuyMl8NmA2",
        "colab_type": "code",
        "colab": {}
      },
      "source": [
        "## Si deseamos balancear, podemos hacerlo con toda la informacion?\n",
        "# Creación de la data de train y la data de test\n",
        "from sklearn.model_selection import train_test_split\n",
        "X_train, X_test, y_train, y_test = train_test_split(desarrll.drop('Loan_Status', axis=1), # (X,y,%test,estratificacion)\n",
        "                                                    desarrll['Loan_Status'], \n",
        "                                                    test_size=0.30,\n",
        "                                                    stratify=desarrll['Loan_Status'],\n",
        "                                                    random_state=100)"
      ],
      "execution_count": 0,
      "outputs": []
    },
    {
      "cell_type": "code",
      "metadata": {
        "id": "lDEVNsPXNmA5",
        "colab_type": "code",
        "colab": {}
      },
      "source": [
        "########################################\n",
        "# Selección de Variables\n",
        "########################################"
      ],
      "execution_count": 0,
      "outputs": []
    },
    {
      "cell_type": "code",
      "metadata": {
        "id": "cCQlkBa1NmA7",
        "colab_type": "code",
        "colab": {}
      },
      "source": [
        "import matplotlib.pyplot as plt\n",
        "from sklearn import metrics\n",
        "from sklearn.ensemble import ExtraTreesClassifier"
      ],
      "execution_count": 0,
      "outputs": []
    },
    {
      "cell_type": "code",
      "metadata": {
        "id": "m5bFebpCNmBB",
        "colab_type": "code",
        "colab": {}
      },
      "source": [
        "# Seleccion por Random Forest\n",
        "from sklearn.ensemble import RandomForestClassifier # Paso01: Instancio el algoritmo\n",
        "forest = RandomForestClassifier()                   # Paso02: Configuro el algoritmo\n",
        "forest.fit(X_train, y_train)                        # Paso03: Ajuste el algoritmo\n",
        "importances = forest.feature_importances_           # Variables importantes\n"
      ],
      "execution_count": 0,
      "outputs": []
    },
    {
      "cell_type": "code",
      "metadata": {
        "id": "WMeBUm0NNmBE",
        "colab_type": "code",
        "outputId": "53a39693-6e3b-4e0a-b74b-f326bb066094",
        "colab": {
          "base_uri": "https://localhost:8080/",
          "height": 576
        }
      },
      "source": [
        "# Seleccion por Random Forest\n",
        "TablaImportancia = pd.concat([pd.DataFrame({'Driver':list(X_train.columns)}),\n",
        "                              pd.DataFrame({'Importancia':list(forest.feature_importances_)})], axis = 1)\n",
        "ImportanciaVariables = TablaImportancia[['Driver','Importancia']].sort_values('Importancia', ascending = False).reset_index(drop = True)\n",
        "ImportanciaVariables"
      ],
      "execution_count": 0,
      "outputs": [
        {
          "output_type": "execute_result",
          "data": {
            "text/html": [
              "<div>\n",
              "<style scoped>\n",
              "    .dataframe tbody tr th:only-of-type {\n",
              "        vertical-align: middle;\n",
              "    }\n",
              "\n",
              "    .dataframe tbody tr th {\n",
              "        vertical-align: top;\n",
              "    }\n",
              "\n",
              "    .dataframe thead th {\n",
              "        text-align: right;\n",
              "    }\n",
              "</style>\n",
              "<table border=\"1\" class=\"dataframe\">\n",
              "  <thead>\n",
              "    <tr style=\"text-align: right;\">\n",
              "      <th></th>\n",
              "      <th>Driver</th>\n",
              "      <th>Importancia</th>\n",
              "    </tr>\n",
              "  </thead>\n",
              "  <tbody>\n",
              "    <tr>\n",
              "      <th>0</th>\n",
              "      <td>Credit_History</td>\n",
              "      <td>0.235235</td>\n",
              "    </tr>\n",
              "    <tr>\n",
              "      <th>1</th>\n",
              "      <td>TotalIncome</td>\n",
              "      <td>0.092745</td>\n",
              "    </tr>\n",
              "    <tr>\n",
              "      <th>2</th>\n",
              "      <td>Cuota_Ingreso1</td>\n",
              "      <td>0.089951</td>\n",
              "    </tr>\n",
              "    <tr>\n",
              "      <th>3</th>\n",
              "      <td>Cuota_Ingreso_Hijo</td>\n",
              "      <td>0.087391</td>\n",
              "    </tr>\n",
              "    <tr>\n",
              "      <th>4</th>\n",
              "      <td>Cuota_Ingreso2</td>\n",
              "      <td>0.086659</td>\n",
              "    </tr>\n",
              "    <tr>\n",
              "      <th>5</th>\n",
              "      <td>ApplicantIncome</td>\n",
              "      <td>0.076829</td>\n",
              "    </tr>\n",
              "    <tr>\n",
              "      <th>6</th>\n",
              "      <td>AmountxTerm</td>\n",
              "      <td>0.062597</td>\n",
              "    </tr>\n",
              "    <tr>\n",
              "      <th>7</th>\n",
              "      <td>LoanAmount</td>\n",
              "      <td>0.062081</td>\n",
              "    </tr>\n",
              "    <tr>\n",
              "      <th>8</th>\n",
              "      <td>Log_LoanAmount</td>\n",
              "      <td>0.056343</td>\n",
              "    </tr>\n",
              "    <tr>\n",
              "      <th>9</th>\n",
              "      <td>CoapplicantIncome</td>\n",
              "      <td>0.044075</td>\n",
              "    </tr>\n",
              "    <tr>\n",
              "      <th>10</th>\n",
              "      <td>Property_Area</td>\n",
              "      <td>0.028119</td>\n",
              "    </tr>\n",
              "    <tr>\n",
              "      <th>11</th>\n",
              "      <td>Dependents</td>\n",
              "      <td>0.019887</td>\n",
              "    </tr>\n",
              "    <tr>\n",
              "      <th>12</th>\n",
              "      <td>Education</td>\n",
              "      <td>0.013210</td>\n",
              "    </tr>\n",
              "    <tr>\n",
              "      <th>13</th>\n",
              "      <td>Married</td>\n",
              "      <td>0.012998</td>\n",
              "    </tr>\n",
              "    <tr>\n",
              "      <th>14</th>\n",
              "      <td>Loan_Amount_Term</td>\n",
              "      <td>0.011337</td>\n",
              "    </tr>\n",
              "    <tr>\n",
              "      <th>15</th>\n",
              "      <td>Gender</td>\n",
              "      <td>0.010446</td>\n",
              "    </tr>\n",
              "    <tr>\n",
              "      <th>16</th>\n",
              "      <td>Self_Employed</td>\n",
              "      <td>0.010097</td>\n",
              "    </tr>\n",
              "  </tbody>\n",
              "</table>\n",
              "</div>"
            ],
            "text/plain": [
              "                Driver  Importancia\n",
              "0       Credit_History     0.235235\n",
              "1          TotalIncome     0.092745\n",
              "2       Cuota_Ingreso1     0.089951\n",
              "3   Cuota_Ingreso_Hijo     0.087391\n",
              "4       Cuota_Ingreso2     0.086659\n",
              "5      ApplicantIncome     0.076829\n",
              "6          AmountxTerm     0.062597\n",
              "7           LoanAmount     0.062081\n",
              "8       Log_LoanAmount     0.056343\n",
              "9    CoapplicantIncome     0.044075\n",
              "10       Property_Area     0.028119\n",
              "11          Dependents     0.019887\n",
              "12           Education     0.013210\n",
              "13             Married     0.012998\n",
              "14    Loan_Amount_Term     0.011337\n",
              "15              Gender     0.010446\n",
              "16       Self_Employed     0.010097"
            ]
          },
          "metadata": {
            "tags": []
          },
          "execution_count": 38
        }
      ]
    },
    {
      "cell_type": "code",
      "metadata": {
        "id": "G0eKi9twNUZJ",
        "colab_type": "code",
        "colab": {}
      },
      "source": [
        "# Mejor subset *\n",
        "X_train_subset = X_train[['Credit_History','Cuota_Ingreso_Hijo','TotalIncome']]\n",
        "X_test_subset =  X_test[['Credit_History','Cuota_Ingreso_Hijo','TotalIncome']]"
      ],
      "execution_count": 0,
      "outputs": []
    },
    {
      "cell_type": "code",
      "metadata": {
        "id": "-79T3gbeNmBW",
        "colab_type": "code",
        "colab": {}
      },
      "source": [
        "########################################\n",
        "# Modelamiento de los datos\n",
        "########################################"
      ],
      "execution_count": 0,
      "outputs": []
    },
    {
      "cell_type": "code",
      "metadata": {
        "id": "k0NR1mkWNmBY",
        "colab_type": "code",
        "colab": {}
      },
      "source": [
        "## Modelos Supervisados : Regresión Logística Binaria ##"
      ],
      "execution_count": 0,
      "outputs": []
    },
    {
      "cell_type": "code",
      "metadata": {
        "id": "AeWwXeI8NmBb",
        "colab_type": "code",
        "outputId": "2917b9be-a64b-4388-d446-cdb493305fbd",
        "colab": {
          "base_uri": "https://localhost:8080/",
          "height": 102
        }
      },
      "source": [
        "# Paso N°01: Llamar un algoritmo predictivos\n",
        "from sklearn.linear_model import LogisticRegression\n",
        "\n",
        "RegLog = LogisticRegression() # Paso N°02: Configuro el algoritmo\n",
        "RegLog.fit(X_train, y_train)  # Paso N°03: Entreno o ajusto el algoritmo predictivo a los datos\n"
      ],
      "execution_count": 0,
      "outputs": [
        {
          "output_type": "execute_result",
          "data": {
            "text/plain": [
              "LogisticRegression(C=1.0, class_weight=None, dual=False, fit_intercept=True,\n",
              "                   intercept_scaling=1, l1_ratio=None, max_iter=100,\n",
              "                   multi_class='auto', n_jobs=None, penalty='l2',\n",
              "                   random_state=None, solver='lbfgs', tol=0.0001, verbose=0,\n",
              "                   warm_start=False)"
            ]
          },
          "metadata": {
            "tags": []
          },
          "execution_count": 39
        }
      ]
    },
    {
      "cell_type": "code",
      "metadata": {
        "id": "rUhtG79aNmBe",
        "colab_type": "code",
        "colab": {}
      },
      "source": [
        "# Paso N°04: Predecir con el algoritmo entrenado para validar\n",
        "y_pred_train=RegLog.predict(X_train) # Prediccion sobre el train\n",
        "y_pred_test= RegLog.predict(X_test) # Prediccion sobre el test"
      ],
      "execution_count": 0,
      "outputs": []
    },
    {
      "cell_type": "code",
      "metadata": {
        "id": "L7yeQkL4NmBg",
        "colab_type": "code",
        "outputId": "971a3701-913a-40c1-f936-96a6c5c73078",
        "colab": {
          "base_uri": "https://localhost:8080/",
          "height": 345
        }
      },
      "source": [
        "# Paso N°05: Comparar el valor pronosticado con el valor real\n",
        "\n",
        "from sklearn import metrics as metrics\n",
        "# Matriz de confusion\n",
        "print(\"Matriz confusion: Train\")\n",
        "cm_train = metrics.confusion_matrix(y_train,y_pred_train)\n",
        "print(cm_train)\n",
        "\n",
        "print(\"Matriz confusion: Test\")\n",
        "cm_test = metrics.confusion_matrix(y_test,y_pred_test)\n",
        "print(cm_test)\n",
        "\n",
        "# Accuracy\n",
        "print(\"Accuracy: Train\")\n",
        "accuracy_train=metrics.accuracy_score(y_train,y_pred_train)\n",
        "print(accuracy_train)\n",
        "\n",
        "print(\"Accuracy: Test\")\n",
        "accuracy_test=metrics.accuracy_score(y_test,y_pred_test)\n",
        "print(accuracy_test)\n",
        "\n",
        "# Precision\n",
        "print(\"Precision: Train\")\n",
        "precision_train=metrics.precision_score(y_train,y_pred_train)\n",
        "print(precision_train)\n",
        "\n",
        "print(\"Precision: Test\")\n",
        "precision_test=metrics.precision_score(y_test,y_pred_test)\n",
        "print(precision_test)\n",
        "\n",
        "# Recall\n",
        "print(\"Recall: Train\")\n",
        "recall_train=metrics.recall_score(y_train,y_pred_train)\n",
        "print(recall_train)\n",
        "\n",
        "print(\"Recall: Test\")\n",
        "recall_test=metrics.recall_score(y_test,y_pred_test)\n",
        "print(recall_test)"
      ],
      "execution_count": 0,
      "outputs": [
        {
          "output_type": "stream",
          "text": [
            "Matriz confusion: Train\n",
            "[[ 60  74]\n",
            " [  6 289]]\n",
            "Matriz confusion: Test\n",
            "[[ 24  34]\n",
            " [  1 126]]\n",
            "Accuracy: Train\n",
            "0.8135198135198135\n",
            "Accuracy: Test\n",
            "0.8108108108108109\n",
            "Precision: Train\n",
            "0.7961432506887053\n",
            "Precision: Test\n",
            "0.7875\n",
            "Recall: Train\n",
            "0.9796610169491525\n",
            "Recall: Test\n",
            "0.9921259842519685\n"
          ],
          "name": "stdout"
        }
      ]
    },
    {
      "cell_type": "code",
      "metadata": {
        "id": "odGh1TFzNmBr",
        "colab_type": "code",
        "outputId": "0da60048-7cfd-4772-856a-e263e35367e2",
        "colab": {
          "base_uri": "https://localhost:8080/",
          "height": 72
        }
      },
      "source": [
        "## Modelos Boosting : XGBoost ##\n",
        "! pip install xgboost"
      ],
      "execution_count": 0,
      "outputs": [
        {
          "output_type": "stream",
          "text": [
            "Requirement already satisfied: xgboost in /usr/local/lib/python3.6/dist-packages (0.90)\n",
            "Requirement already satisfied: scipy in /usr/local/lib/python3.6/dist-packages (from xgboost) (1.4.1)\n",
            "Requirement already satisfied: numpy in /usr/local/lib/python3.6/dist-packages (from xgboost) (1.18.4)\n"
          ],
          "name": "stdout"
        }
      ]
    },
    {
      "cell_type": "code",
      "metadata": {
        "id": "KSnbgqHxNmBu",
        "colab_type": "code",
        "colab": {}
      },
      "source": [
        "# Importamos la librería necesaria para el algoritmo\n",
        "import xgboost as xgb"
      ],
      "execution_count": 0,
      "outputs": []
    },
    {
      "cell_type": "code",
      "metadata": {
        "id": "yD_eUUflNmBw",
        "colab_type": "code",
        "colab": {}
      },
      "source": [
        "X_train.Credit_History = X_train.Credit_History.astype('int')\n",
        "X_test.Credit_History = X_test.Credit_History.astype('int')"
      ],
      "execution_count": 0,
      "outputs": []
    },
    {
      "cell_type": "code",
      "metadata": {
        "id": "b3ngqP7TNmBy",
        "colab_type": "code",
        "colab": {}
      },
      "source": [
        "# En Xgboost necesitamos convertir nuestras matrices a matriz XGboost\n",
        "# Uso eficiente de la memoria y entrenamiento rápido\n",
        "dtrain = xgb.DMatrix(data=X_train,label =  y_train)\n",
        "dtest  = xgb.DMatrix(data= X_test,label =  y_test)"
      ],
      "execution_count": 0,
      "outputs": []
    },
    {
      "cell_type": "code",
      "metadata": {
        "id": "3hHrjiP3NmB0",
        "colab_type": "code",
        "outputId": "3fe0dbcf-67bc-4ef0-eed7-dcfcc5291ad2",
        "colab": {
          "base_uri": "https://localhost:8080/",
          "height": 1000
        }
      },
      "source": [
        "# Eligiendo los parámetros para XGBoost\n",
        "xgb_params = {\n",
        "    \"objective\": \"reg:logistic\",\n",
        "    \"eta\": 0.0001,\n",
        "    \"max_depth\": 3,\n",
        "    \"early_stopping_rounds\":  50,\n",
        "    \"gamma\": 0.1,\n",
        "    \"eval_metric\": \"auc\",\n",
        "    \"print_every_n\": 50\n",
        "}\n",
        "\n",
        "num_rounds = 250 # Numero de arboles\n",
        "# Aqui entrenamos el algoritmo\n",
        "watch_list  = [(dtrain,'train'),(dtest,'test')]\n",
        "xgb_fit = xgb.train(xgb_params, dtrain, num_rounds, watch_list) # Aca se guarda el algoritmo"
      ],
      "execution_count": 0,
      "outputs": [
        {
          "output_type": "stream",
          "text": [
            "[0]\ttrain-auc:0.753744\ttest-auc:0.713888\n",
            "[1]\ttrain-auc:0.753959\ttest-auc:0.713888\n",
            "[2]\ttrain-auc:0.75401\ttest-auc:0.713888\n",
            "[3]\ttrain-auc:0.753959\ttest-auc:0.713888\n",
            "[4]\ttrain-auc:0.753959\ttest-auc:0.713888\n",
            "[5]\ttrain-auc:0.753959\ttest-auc:0.713888\n",
            "[6]\ttrain-auc:0.753959\ttest-auc:0.714363\n",
            "[7]\ttrain-auc:0.753959\ttest-auc:0.714363\n",
            "[8]\ttrain-auc:0.753959\ttest-auc:0.714363\n",
            "[9]\ttrain-auc:0.753959\ttest-auc:0.714363\n",
            "[10]\ttrain-auc:0.753959\ttest-auc:0.714363\n",
            "[11]\ttrain-auc:0.753959\ttest-auc:0.714363\n",
            "[12]\ttrain-auc:0.753908\ttest-auc:0.714363\n",
            "[13]\ttrain-auc:0.753959\ttest-auc:0.714363\n",
            "[14]\ttrain-auc:0.753908\ttest-auc:0.714363\n",
            "[15]\ttrain-auc:0.753858\ttest-auc:0.714363\n",
            "[16]\ttrain-auc:0.753908\ttest-auc:0.714363\n",
            "[17]\ttrain-auc:0.753858\ttest-auc:0.714363\n",
            "[18]\ttrain-auc:0.753858\ttest-auc:0.714363\n",
            "[19]\ttrain-auc:0.753858\ttest-auc:0.714363\n",
            "[20]\ttrain-auc:0.753858\ttest-auc:0.714363\n",
            "[21]\ttrain-auc:0.753858\ttest-auc:0.714363\n",
            "[22]\ttrain-auc:0.753858\ttest-auc:0.714363\n",
            "[23]\ttrain-auc:0.753858\ttest-auc:0.714363\n",
            "[24]\ttrain-auc:0.753858\ttest-auc:0.714363\n",
            "[25]\ttrain-auc:0.753858\ttest-auc:0.714363\n",
            "[26]\ttrain-auc:0.753858\ttest-auc:0.714363\n",
            "[27]\ttrain-auc:0.753858\ttest-auc:0.714363\n",
            "[28]\ttrain-auc:0.753858\ttest-auc:0.714363\n",
            "[29]\ttrain-auc:0.753858\ttest-auc:0.714363\n",
            "[30]\ttrain-auc:0.753858\ttest-auc:0.714363\n",
            "[31]\ttrain-auc:0.753858\ttest-auc:0.714363\n",
            "[32]\ttrain-auc:0.753858\ttest-auc:0.714363\n",
            "[33]\ttrain-auc:0.753706\ttest-auc:0.714363\n",
            "[34]\ttrain-auc:0.753706\ttest-auc:0.714363\n",
            "[35]\ttrain-auc:0.753706\ttest-auc:0.714363\n",
            "[36]\ttrain-auc:0.753706\ttest-auc:0.714363\n",
            "[37]\ttrain-auc:0.753706\ttest-auc:0.714363\n",
            "[38]\ttrain-auc:0.753706\ttest-auc:0.714363\n",
            "[39]\ttrain-auc:0.753655\ttest-auc:0.714363\n",
            "[40]\ttrain-auc:0.753706\ttest-auc:0.714363\n",
            "[41]\ttrain-auc:0.753655\ttest-auc:0.714363\n",
            "[42]\ttrain-auc:0.753605\ttest-auc:0.714363\n",
            "[43]\ttrain-auc:0.753655\ttest-auc:0.714363\n",
            "[44]\ttrain-auc:0.753605\ttest-auc:0.714363\n",
            "[45]\ttrain-auc:0.753554\ttest-auc:0.714363\n",
            "[46]\ttrain-auc:0.753605\ttest-auc:0.714363\n",
            "[47]\ttrain-auc:0.753554\ttest-auc:0.714363\n",
            "[48]\ttrain-auc:0.753605\ttest-auc:0.714363\n",
            "[49]\ttrain-auc:0.753554\ttest-auc:0.714363\n",
            "[50]\ttrain-auc:0.753605\ttest-auc:0.714363\n",
            "[51]\ttrain-auc:0.753554\ttest-auc:0.714363\n",
            "[52]\ttrain-auc:0.753504\ttest-auc:0.714363\n",
            "[53]\ttrain-auc:0.753554\ttest-auc:0.714363\n",
            "[54]\ttrain-auc:0.753504\ttest-auc:0.714363\n",
            "[55]\ttrain-auc:0.753554\ttest-auc:0.714363\n",
            "[56]\ttrain-auc:0.753504\ttest-auc:0.714363\n",
            "[57]\ttrain-auc:0.753554\ttest-auc:0.714363\n",
            "[58]\ttrain-auc:0.753504\ttest-auc:0.714363\n",
            "[59]\ttrain-auc:0.753504\ttest-auc:0.714363\n",
            "[60]\ttrain-auc:0.753504\ttest-auc:0.714363\n",
            "[61]\ttrain-auc:0.753504\ttest-auc:0.714363\n",
            "[62]\ttrain-auc:0.753504\ttest-auc:0.714363\n",
            "[63]\ttrain-auc:0.753504\ttest-auc:0.714363\n",
            "[64]\ttrain-auc:0.753504\ttest-auc:0.714363\n",
            "[65]\ttrain-auc:0.753504\ttest-auc:0.714363\n",
            "[66]\ttrain-auc:0.753504\ttest-auc:0.714363\n",
            "[67]\ttrain-auc:0.753504\ttest-auc:0.714363\n",
            "[68]\ttrain-auc:0.753504\ttest-auc:0.714363\n",
            "[69]\ttrain-auc:0.753504\ttest-auc:0.714363\n",
            "[70]\ttrain-auc:0.753504\ttest-auc:0.714363\n",
            "[71]\ttrain-auc:0.753504\ttest-auc:0.714363\n",
            "[72]\ttrain-auc:0.753504\ttest-auc:0.714363\n",
            "[73]\ttrain-auc:0.753504\ttest-auc:0.714363\n",
            "[74]\ttrain-auc:0.753504\ttest-auc:0.714363\n",
            "[75]\ttrain-auc:0.753504\ttest-auc:0.714363\n",
            "[76]\ttrain-auc:0.753504\ttest-auc:0.714363\n",
            "[77]\ttrain-auc:0.753504\ttest-auc:0.714363\n",
            "[78]\ttrain-auc:0.753504\ttest-auc:0.714363\n",
            "[79]\ttrain-auc:0.753504\ttest-auc:0.714363\n",
            "[80]\ttrain-auc:0.753504\ttest-auc:0.714363\n",
            "[81]\ttrain-auc:0.753504\ttest-auc:0.714363\n",
            "[82]\ttrain-auc:0.753504\ttest-auc:0.714363\n",
            "[83]\ttrain-auc:0.753504\ttest-auc:0.714363\n",
            "[84]\ttrain-auc:0.753504\ttest-auc:0.714363\n",
            "[85]\ttrain-auc:0.753504\ttest-auc:0.714363\n",
            "[86]\ttrain-auc:0.753504\ttest-auc:0.714363\n",
            "[87]\ttrain-auc:0.753504\ttest-auc:0.714363\n",
            "[88]\ttrain-auc:0.753504\ttest-auc:0.714363\n",
            "[89]\ttrain-auc:0.753504\ttest-auc:0.714363\n",
            "[90]\ttrain-auc:0.753504\ttest-auc:0.714363\n",
            "[91]\ttrain-auc:0.753504\ttest-auc:0.714363\n",
            "[92]\ttrain-auc:0.753504\ttest-auc:0.714363\n",
            "[93]\ttrain-auc:0.753504\ttest-auc:0.714363\n",
            "[94]\ttrain-auc:0.753504\ttest-auc:0.714363\n",
            "[95]\ttrain-auc:0.753504\ttest-auc:0.714363\n",
            "[96]\ttrain-auc:0.753504\ttest-auc:0.714363\n",
            "[97]\ttrain-auc:0.753504\ttest-auc:0.714363\n",
            "[98]\ttrain-auc:0.753504\ttest-auc:0.714363\n",
            "[99]\ttrain-auc:0.753504\ttest-auc:0.714363\n",
            "[100]\ttrain-auc:0.753504\ttest-auc:0.714363\n",
            "[101]\ttrain-auc:0.753504\ttest-auc:0.714363\n",
            "[102]\ttrain-auc:0.753504\ttest-auc:0.714363\n",
            "[103]\ttrain-auc:0.753504\ttest-auc:0.714363\n",
            "[104]\ttrain-auc:0.753504\ttest-auc:0.714363\n",
            "[105]\ttrain-auc:0.753504\ttest-auc:0.714363\n",
            "[106]\ttrain-auc:0.753504\ttest-auc:0.714363\n",
            "[107]\ttrain-auc:0.753504\ttest-auc:0.714363\n",
            "[108]\ttrain-auc:0.753504\ttest-auc:0.714363\n",
            "[109]\ttrain-auc:0.753504\ttest-auc:0.714363\n",
            "[110]\ttrain-auc:0.753504\ttest-auc:0.714363\n",
            "[111]\ttrain-auc:0.753504\ttest-auc:0.714363\n",
            "[112]\ttrain-auc:0.753504\ttest-auc:0.714363\n",
            "[113]\ttrain-auc:0.753504\ttest-auc:0.714363\n",
            "[114]\ttrain-auc:0.753504\ttest-auc:0.714363\n",
            "[115]\ttrain-auc:0.753504\ttest-auc:0.714363\n",
            "[116]\ttrain-auc:0.753504\ttest-auc:0.714363\n",
            "[117]\ttrain-auc:0.753504\ttest-auc:0.714363\n",
            "[118]\ttrain-auc:0.753504\ttest-auc:0.714363\n",
            "[119]\ttrain-auc:0.753504\ttest-auc:0.714363\n",
            "[120]\ttrain-auc:0.753504\ttest-auc:0.714363\n",
            "[121]\ttrain-auc:0.753504\ttest-auc:0.714363\n",
            "[122]\ttrain-auc:0.753504\ttest-auc:0.714363\n",
            "[123]\ttrain-auc:0.753504\ttest-auc:0.714363\n",
            "[124]\ttrain-auc:0.753504\ttest-auc:0.714363\n",
            "[125]\ttrain-auc:0.753504\ttest-auc:0.714363\n",
            "[126]\ttrain-auc:0.753504\ttest-auc:0.714363\n",
            "[127]\ttrain-auc:0.753504\ttest-auc:0.714363\n",
            "[128]\ttrain-auc:0.753504\ttest-auc:0.714363\n",
            "[129]\ttrain-auc:0.753504\ttest-auc:0.714363\n",
            "[130]\ttrain-auc:0.753504\ttest-auc:0.714363\n",
            "[131]\ttrain-auc:0.753504\ttest-auc:0.714363\n",
            "[132]\ttrain-auc:0.753504\ttest-auc:0.714363\n",
            "[133]\ttrain-auc:0.753504\ttest-auc:0.714363\n",
            "[134]\ttrain-auc:0.753504\ttest-auc:0.714363\n",
            "[135]\ttrain-auc:0.753504\ttest-auc:0.714363\n",
            "[136]\ttrain-auc:0.753504\ttest-auc:0.714363\n",
            "[137]\ttrain-auc:0.753504\ttest-auc:0.714363\n",
            "[138]\ttrain-auc:0.753504\ttest-auc:0.714363\n",
            "[139]\ttrain-auc:0.753504\ttest-auc:0.714363\n",
            "[140]\ttrain-auc:0.753504\ttest-auc:0.714363\n",
            "[141]\ttrain-auc:0.753504\ttest-auc:0.714363\n",
            "[142]\ttrain-auc:0.753504\ttest-auc:0.714363\n",
            "[143]\ttrain-auc:0.753504\ttest-auc:0.714363\n",
            "[144]\ttrain-auc:0.753504\ttest-auc:0.714363\n",
            "[145]\ttrain-auc:0.753504\ttest-auc:0.714363\n",
            "[146]\ttrain-auc:0.753504\ttest-auc:0.714363\n",
            "[147]\ttrain-auc:0.753504\ttest-auc:0.714363\n",
            "[148]\ttrain-auc:0.753504\ttest-auc:0.714363\n",
            "[149]\ttrain-auc:0.753504\ttest-auc:0.714363\n",
            "[150]\ttrain-auc:0.753504\ttest-auc:0.714363\n",
            "[151]\ttrain-auc:0.753504\ttest-auc:0.714363\n",
            "[152]\ttrain-auc:0.753504\ttest-auc:0.714363\n",
            "[153]\ttrain-auc:0.753504\ttest-auc:0.714363\n",
            "[154]\ttrain-auc:0.753504\ttest-auc:0.714363\n",
            "[155]\ttrain-auc:0.753504\ttest-auc:0.714363\n",
            "[156]\ttrain-auc:0.753504\ttest-auc:0.714363\n",
            "[157]\ttrain-auc:0.753504\ttest-auc:0.714363\n",
            "[158]\ttrain-auc:0.753504\ttest-auc:0.714363\n",
            "[159]\ttrain-auc:0.753504\ttest-auc:0.714363\n",
            "[160]\ttrain-auc:0.753504\ttest-auc:0.714363\n",
            "[161]\ttrain-auc:0.753504\ttest-auc:0.714363\n",
            "[162]\ttrain-auc:0.753504\ttest-auc:0.714363\n",
            "[163]\ttrain-auc:0.753504\ttest-auc:0.714363\n",
            "[164]\ttrain-auc:0.753504\ttest-auc:0.714363\n",
            "[165]\ttrain-auc:0.753504\ttest-auc:0.714363\n",
            "[166]\ttrain-auc:0.753504\ttest-auc:0.714363\n",
            "[167]\ttrain-auc:0.753504\ttest-auc:0.714363\n",
            "[168]\ttrain-auc:0.753504\ttest-auc:0.714363\n",
            "[169]\ttrain-auc:0.753504\ttest-auc:0.714363\n",
            "[170]\ttrain-auc:0.753504\ttest-auc:0.714363\n",
            "[171]\ttrain-auc:0.753504\ttest-auc:0.714363\n",
            "[172]\ttrain-auc:0.753504\ttest-auc:0.714363\n",
            "[173]\ttrain-auc:0.753504\ttest-auc:0.714363\n",
            "[174]\ttrain-auc:0.753504\ttest-auc:0.714363\n",
            "[175]\ttrain-auc:0.753504\ttest-auc:0.714363\n",
            "[176]\ttrain-auc:0.753504\ttest-auc:0.714363\n",
            "[177]\ttrain-auc:0.753504\ttest-auc:0.714363\n",
            "[178]\ttrain-auc:0.753504\ttest-auc:0.714363\n",
            "[179]\ttrain-auc:0.753504\ttest-auc:0.714363\n",
            "[180]\ttrain-auc:0.753504\ttest-auc:0.714363\n",
            "[181]\ttrain-auc:0.753504\ttest-auc:0.714363\n",
            "[182]\ttrain-auc:0.753504\ttest-auc:0.714363\n",
            "[183]\ttrain-auc:0.753504\ttest-auc:0.714363\n",
            "[184]\ttrain-auc:0.753504\ttest-auc:0.714363\n",
            "[185]\ttrain-auc:0.753504\ttest-auc:0.714363\n",
            "[186]\ttrain-auc:0.753504\ttest-auc:0.714363\n",
            "[187]\ttrain-auc:0.753504\ttest-auc:0.714363\n",
            "[188]\ttrain-auc:0.753504\ttest-auc:0.714363\n",
            "[189]\ttrain-auc:0.753504\ttest-auc:0.714363\n",
            "[190]\ttrain-auc:0.753504\ttest-auc:0.714363\n",
            "[191]\ttrain-auc:0.753504\ttest-auc:0.714363\n",
            "[192]\ttrain-auc:0.753504\ttest-auc:0.714363\n",
            "[193]\ttrain-auc:0.753504\ttest-auc:0.714363\n",
            "[194]\ttrain-auc:0.753504\ttest-auc:0.714363\n",
            "[195]\ttrain-auc:0.753504\ttest-auc:0.714363\n",
            "[196]\ttrain-auc:0.753504\ttest-auc:0.714363\n",
            "[197]\ttrain-auc:0.753504\ttest-auc:0.714363\n",
            "[198]\ttrain-auc:0.753504\ttest-auc:0.714363\n",
            "[199]\ttrain-auc:0.753504\ttest-auc:0.714363\n",
            "[200]\ttrain-auc:0.753504\ttest-auc:0.714363\n",
            "[201]\ttrain-auc:0.753504\ttest-auc:0.714363\n",
            "[202]\ttrain-auc:0.753504\ttest-auc:0.714363\n",
            "[203]\ttrain-auc:0.753504\ttest-auc:0.714363\n",
            "[204]\ttrain-auc:0.753504\ttest-auc:0.714363\n",
            "[205]\ttrain-auc:0.753504\ttest-auc:0.714363\n",
            "[206]\ttrain-auc:0.753504\ttest-auc:0.714363\n",
            "[207]\ttrain-auc:0.753504\ttest-auc:0.714363\n",
            "[208]\ttrain-auc:0.753504\ttest-auc:0.714363\n",
            "[209]\ttrain-auc:0.753504\ttest-auc:0.714363\n",
            "[210]\ttrain-auc:0.753504\ttest-auc:0.714363\n",
            "[211]\ttrain-auc:0.753504\ttest-auc:0.714363\n",
            "[212]\ttrain-auc:0.753504\ttest-auc:0.714363\n",
            "[213]\ttrain-auc:0.753504\ttest-auc:0.714363\n",
            "[214]\ttrain-auc:0.753504\ttest-auc:0.714363\n",
            "[215]\ttrain-auc:0.753504\ttest-auc:0.714363\n",
            "[216]\ttrain-auc:0.753504\ttest-auc:0.714363\n",
            "[217]\ttrain-auc:0.753504\ttest-auc:0.714363\n",
            "[218]\ttrain-auc:0.753504\ttest-auc:0.714363\n",
            "[219]\ttrain-auc:0.753504\ttest-auc:0.714363\n",
            "[220]\ttrain-auc:0.753504\ttest-auc:0.714363\n",
            "[221]\ttrain-auc:0.753504\ttest-auc:0.714363\n",
            "[222]\ttrain-auc:0.753504\ttest-auc:0.714363\n",
            "[223]\ttrain-auc:0.753504\ttest-auc:0.714363\n",
            "[224]\ttrain-auc:0.753504\ttest-auc:0.714363\n",
            "[225]\ttrain-auc:0.753504\ttest-auc:0.714363\n",
            "[226]\ttrain-auc:0.753504\ttest-auc:0.714363\n",
            "[227]\ttrain-auc:0.753504\ttest-auc:0.714363\n",
            "[228]\ttrain-auc:0.753504\ttest-auc:0.714363\n",
            "[229]\ttrain-auc:0.753504\ttest-auc:0.714363\n",
            "[230]\ttrain-auc:0.753504\ttest-auc:0.714363\n",
            "[231]\ttrain-auc:0.753504\ttest-auc:0.714363\n",
            "[232]\ttrain-auc:0.753504\ttest-auc:0.714363\n",
            "[233]\ttrain-auc:0.753504\ttest-auc:0.714363\n",
            "[234]\ttrain-auc:0.753504\ttest-auc:0.714363\n",
            "[235]\ttrain-auc:0.753504\ttest-auc:0.714363\n",
            "[236]\ttrain-auc:0.753504\ttest-auc:0.714363\n",
            "[237]\ttrain-auc:0.753504\ttest-auc:0.714363\n",
            "[238]\ttrain-auc:0.753504\ttest-auc:0.714363\n",
            "[239]\ttrain-auc:0.753504\ttest-auc:0.714363\n",
            "[240]\ttrain-auc:0.753504\ttest-auc:0.714363\n",
            "[241]\ttrain-auc:0.753504\ttest-auc:0.714363\n",
            "[242]\ttrain-auc:0.753504\ttest-auc:0.714363\n",
            "[243]\ttrain-auc:0.753504\ttest-auc:0.714363\n",
            "[244]\ttrain-auc:0.753504\ttest-auc:0.714363\n",
            "[245]\ttrain-auc:0.753504\ttest-auc:0.714363\n",
            "[246]\ttrain-auc:0.753504\ttest-auc:0.714363\n",
            "[247]\ttrain-auc:0.753504\ttest-auc:0.714363\n",
            "[248]\ttrain-auc:0.753504\ttest-auc:0.714363\n",
            "[249]\ttrain-auc:0.753504\ttest-auc:0.714363\n"
          ],
          "name": "stdout"
        }
      ]
    },
    {
      "cell_type": "code",
      "metadata": {
        "id": "kcfebWZdNmB3",
        "colab_type": "code",
        "outputId": "e06ae6ff-5264-4baa-b399-f265fce47302",
        "colab": {
          "base_uri": "https://localhost:8080/",
          "height": 228
        }
      },
      "source": [
        "# Importancia de Variables\n",
        "frame = { 'Gain':        pd.Series(xgb_fit.get_score(importance_type='gain')),\n",
        "          'Cover':       pd.Series(xgb_fit.get_score(importance_type='cover')),\n",
        "          'Weight':      pd.Series(xgb_fit.get_score(importance_type='weight'))}\n",
        "result = pd.DataFrame(frame) \n",
        "result    "
      ],
      "execution_count": 0,
      "outputs": [
        {
          "output_type": "execute_result",
          "data": {
            "text/html": [
              "<div>\n",
              "<style scoped>\n",
              "    .dataframe tbody tr th:only-of-type {\n",
              "        vertical-align: middle;\n",
              "    }\n",
              "\n",
              "    .dataframe tbody tr th {\n",
              "        vertical-align: top;\n",
              "    }\n",
              "\n",
              "    .dataframe thead th {\n",
              "        text-align: right;\n",
              "    }\n",
              "</style>\n",
              "<table border=\"1\" class=\"dataframe\">\n",
              "  <thead>\n",
              "    <tr style=\"text-align: right;\">\n",
              "      <th></th>\n",
              "      <th>Gain</th>\n",
              "      <th>Cover</th>\n",
              "      <th>Weight</th>\n",
              "    </tr>\n",
              "  </thead>\n",
              "  <tbody>\n",
              "    <tr>\n",
              "      <th>Credit_History</th>\n",
              "      <td>102.903711</td>\n",
              "      <td>107.241055</td>\n",
              "      <td>250</td>\n",
              "    </tr>\n",
              "    <tr>\n",
              "      <th>Cuota_Ingreso_Hijo</th>\n",
              "      <td>3.150034</td>\n",
              "      <td>52.620550</td>\n",
              "      <td>500</td>\n",
              "    </tr>\n",
              "    <tr>\n",
              "      <th>Cuota_Ingreso1</th>\n",
              "      <td>1.104377</td>\n",
              "      <td>9.872724</td>\n",
              "      <td>381</td>\n",
              "    </tr>\n",
              "    <tr>\n",
              "      <th>ApplicantIncome</th>\n",
              "      <td>2.956359</td>\n",
              "      <td>2.500000</td>\n",
              "      <td>4</td>\n",
              "    </tr>\n",
              "    <tr>\n",
              "      <th>TotalIncome</th>\n",
              "      <td>8.713230</td>\n",
              "      <td>90.993054</td>\n",
              "      <td>250</td>\n",
              "    </tr>\n",
              "    <tr>\n",
              "      <th>LoanAmount</th>\n",
              "      <td>1.732495</td>\n",
              "      <td>2.499938</td>\n",
              "      <td>121</td>\n",
              "    </tr>\n",
              "  </tbody>\n",
              "</table>\n",
              "</div>"
            ],
            "text/plain": [
              "                          Gain       Cover  Weight\n",
              "Credit_History      102.903711  107.241055     250\n",
              "Cuota_Ingreso_Hijo    3.150034   52.620550     500\n",
              "Cuota_Ingreso1        1.104377    9.872724     381\n",
              "ApplicantIncome       2.956359    2.500000       4\n",
              "TotalIncome           8.713230   90.993054     250\n",
              "LoanAmount            1.732495    2.499938     121"
            ]
          },
          "metadata": {
            "tags": []
          },
          "execution_count": 37
        }
      ]
    },
    {
      "cell_type": "code",
      "metadata": {
        "id": "wIFvrX0GNmB4",
        "colab_type": "code",
        "outputId": "92c55efe-d906-492e-87fb-51e06801a4b3",
        "colab": {
          "base_uri": "https://localhost:8080/",
          "height": 313
        }
      },
      "source": [
        "# Podemos calcular la importancia de variables por Xgboost\n",
        "xgb.plot_importance(xgb_fit,importance_type='gain')"
      ],
      "execution_count": 0,
      "outputs": [
        {
          "output_type": "execute_result",
          "data": {
            "text/plain": [
              "<matplotlib.axes._subplots.AxesSubplot at 0x7f3dc5820470>"
            ]
          },
          "metadata": {
            "tags": []
          },
          "execution_count": 38
        },
        {
          "output_type": "display_data",
          "data": {
            "image/png": "[encoded data removed]",
            "text/plain": [
              "<Figure size 432x288 with 1 Axes>"
            ]
          },
          "metadata": {
            "tags": [],
            "needs_background": "light"
          }
        }
      ]
    },
    {
      "cell_type": "code",
      "metadata": {
        "id": "9U3Br0eDNmB7",
        "colab_type": "code",
        "outputId": "65eaed75-922f-46df-babe-44f009c20282",
        "colab": {
          "base_uri": "https://localhost:8080/",
          "height": 108
        }
      },
      "source": [
        "## Modelos Boosting : LightGBM ##\n",
        "! pip install lightgbm"
      ],
      "execution_count": 0,
      "outputs": [
        {
          "output_type": "stream",
          "text": [
            "Requirement already satisfied: lightgbm in /usr/local/lib/python3.6/dist-packages (2.2.3)\n",
            "Requirement already satisfied: numpy in /usr/local/lib/python3.6/dist-packages (from lightgbm) (1.18.4)\n",
            "Requirement already satisfied: scikit-learn in /usr/local/lib/python3.6/dist-packages (from lightgbm) (0.22.2.post1)\n",
            "Requirement already satisfied: scipy in /usr/local/lib/python3.6/dist-packages (from lightgbm) (1.4.1)\n",
            "Requirement already satisfied: joblib>=0.11 in /usr/local/lib/python3.6/dist-packages (from scikit-learn->lightgbm) (0.14.1)\n"
          ],
          "name": "stdout"
        }
      ]
    },
    {
      "cell_type": "code",
      "metadata": {
        "id": "Ok2LyNE9NmB9",
        "colab_type": "code",
        "colab": {}
      },
      "source": [
        "import lightgbm as lgb"
      ],
      "execution_count": 0,
      "outputs": []
    },
    {
      "cell_type": "code",
      "metadata": {
        "id": "sxgexrRVNmCB",
        "colab_type": "code",
        "colab": {}
      },
      "source": [
        "dtrain = lgb.Dataset(X_train, label=y_train)\n",
        "dtest =  lgb.Dataset(X_test,  label=y_test, reference=dtrain)"
      ],
      "execution_count": 0,
      "outputs": []
    },
    {
      "cell_type": "code",
      "metadata": {
        "id": "OpDoIelgNmCC",
        "colab_type": "code",
        "colab": {}
      },
      "source": [
        "params = {\n",
        "        'task':'train', \n",
        "        'is_unbalance': False, \n",
        "        'max_dept':1,\n",
        "        'max_bin': 10,  # max cantidad de cortes de una var. numerica\n",
        "        'boosting_type': 'gbdt',\n",
        "        'objective': 'binary',\n",
        "        #'min_child_weight': 150,\n",
        "        'metric': 'auc',\n",
        "        #'min_data_in_leaf': 250,\n",
        "        'num_leaves': 5,\n",
        "        'learning_rate': 0.0001,\n",
        "        'feature_fraction': 0.8,\n",
        "        'bagging_fraction': 0.8,\n",
        "        'bagging_freq': 10,\n",
        "        #'min_data_per_group':150 ,\n",
        "        'verbose': 0,\n",
        "        'seed ':1234\n",
        "}"
      ],
      "execution_count": 0,
      "outputs": []
    },
    {
      "cell_type": "code",
      "metadata": {
        "id": "ahD2Ii2BNmCE",
        "colab_type": "code",
        "outputId": "a4333b75-8ffa-48f5-b3c6-be8cde750ad9",
        "colab": {
          "base_uri": "https://localhost:8080/",
          "height": 1000
        }
      },
      "source": [
        "gbm = lgb.train(params,\n",
        "                dtrain,\n",
        "                num_boost_round=10000,\n",
        "                valid_sets=[dtrain,dtest],\n",
        "                early_stopping_rounds=100)"
      ],
      "execution_count": 0,
      "outputs": [
        {
          "output_type": "stream",
          "text": [
            "[1]\ttraining's auc: 0.770592\tvalid_1's auc: 0.791882\n",
            "Training until validation scores don't improve for 100 rounds.\n",
            "[2]\ttraining's auc: 0.770592\tvalid_1's auc: 0.791882\n",
            "[3]\ttraining's auc: 0.771035\tvalid_1's auc: 0.771857\n",
            "[4]\ttraining's auc: 0.779648\tvalid_1's auc: 0.786587\n",
            "[5]\ttraining's auc: 0.794232\tvalid_1's auc: 0.79962\n",
            "[6]\ttraining's auc: 0.79236\tvalid_1's auc: 0.80152\n",
            "[7]\ttraining's auc: 0.792386\tvalid_1's auc: 0.800977\n",
            "[8]\ttraining's auc: 0.797281\tvalid_1's auc: 0.809259\n",
            "[9]\ttraining's auc: 0.798368\tvalid_1's auc: 0.81306\n",
            "[10]\ttraining's auc: 0.796762\tvalid_1's auc: 0.806815\n",
            "[11]\ttraining's auc: 0.807969\tvalid_1's auc: 0.818898\n",
            "[12]\ttraining's auc: 0.81232\tvalid_1's auc: 0.812517\n",
            "[13]\ttraining's auc: 0.815254\tvalid_1's auc: 0.807087\n",
            "[14]\ttraining's auc: 0.81662\tvalid_1's auc: 0.802878\n",
            "[15]\ttraining's auc: 0.818631\tvalid_1's auc: 0.805661\n",
            "[16]\ttraining's auc: 0.817657\tvalid_1's auc: 0.804507\n",
            "[17]\ttraining's auc: 0.820693\tvalid_1's auc: 0.806747\n",
            "[18]\ttraining's auc: 0.822515\tvalid_1's auc: 0.811499\n",
            "[19]\ttraining's auc: 0.823855\tvalid_1's auc: 0.813807\n",
            "[20]\ttraining's auc: 0.824614\tvalid_1's auc: 0.812042\n",
            "[21]\ttraining's auc: 0.829029\tvalid_1's auc: 0.816318\n",
            "[22]\ttraining's auc: 0.829762\tvalid_1's auc: 0.819169\n",
            "[23]\ttraining's auc: 0.832216\tvalid_1's auc: 0.820934\n",
            "[24]\ttraining's auc: 0.834632\tvalid_1's auc: 0.82297\n",
            "[25]\ttraining's auc: 0.833835\tvalid_1's auc: 0.823038\n",
            "[26]\ttraining's auc: 0.83429\tvalid_1's auc: 0.824532\n",
            "[27]\ttraining's auc: 0.834417\tvalid_1's auc: 0.822903\n",
            "[28]\ttraining's auc: 0.837149\tvalid_1's auc: 0.821613\n",
            "[29]\ttraining's auc: 0.8372\tvalid_1's auc: 0.819169\n",
            "[30]\ttraining's auc: 0.839578\tvalid_1's auc: 0.818015\n",
            "[31]\ttraining's auc: 0.842689\tvalid_1's auc: 0.819373\n",
            "[32]\ttraining's auc: 0.844371\tvalid_1's auc: 0.818966\n",
            "[33]\ttraining's auc: 0.846269\tvalid_1's auc: 0.821273\n",
            "[34]\ttraining's auc: 0.845358\tvalid_1's auc: 0.818966\n",
            "[35]\ttraining's auc: 0.845484\tvalid_1's auc: 0.820866\n",
            "[36]\ttraining's auc: 0.846977\tvalid_1's auc: 0.822224\n",
            "[37]\ttraining's auc: 0.847129\tvalid_1's auc: 0.821138\n",
            "[38]\ttraining's auc: 0.846775\tvalid_1's auc: 0.821545\n",
            "[39]\ttraining's auc: 0.847382\tvalid_1's auc: 0.820866\n",
            "[40]\ttraining's auc: 0.847938\tvalid_1's auc: 0.821138\n",
            "[41]\ttraining's auc: 0.849001\tvalid_1's auc: 0.821681\n",
            "[42]\ttraining's auc: 0.847786\tvalid_1's auc: 0.822631\n",
            "[43]\ttraining's auc: 0.847723\tvalid_1's auc: 0.821816\n",
            "[44]\ttraining's auc: 0.846509\tvalid_1's auc: 0.82331\n",
            "[45]\ttraining's auc: 0.84699\tvalid_1's auc: 0.822767\n",
            "[46]\ttraining's auc: 0.847382\tvalid_1's auc: 0.824396\n",
            "[47]\ttraining's auc: 0.846547\tvalid_1's auc: 0.825618\n",
            "[48]\ttraining's auc: 0.84551\tvalid_1's auc: 0.826704\n",
            "[49]\ttraining's auc: 0.84685\tvalid_1's auc: 0.827111\n",
            "[50]\ttraining's auc: 0.847761\tvalid_1's auc: 0.823581\n",
            "[51]\ttraining's auc: 0.846496\tvalid_1's auc: 0.82426\n",
            "[52]\ttraining's auc: 0.846699\tvalid_1's auc: 0.825889\n",
            "[53]\ttraining's auc: 0.845788\tvalid_1's auc: 0.825889\n",
            "[54]\ttraining's auc: 0.84427\tvalid_1's auc: 0.82426\n",
            "[55]\ttraining's auc: 0.843511\tvalid_1's auc: 0.825075\n",
            "[56]\ttraining's auc: 0.842348\tvalid_1's auc: 0.824939\n",
            "[57]\ttraining's auc: 0.841285\tvalid_1's auc: 0.825075\n",
            "[58]\ttraining's auc: 0.840526\tvalid_1's auc: 0.825346\n",
            "[59]\ttraining's auc: 0.840716\tvalid_1's auc: 0.824667\n",
            "[60]\ttraining's auc: 0.840109\tvalid_1's auc: 0.825889\n",
            "[61]\ttraining's auc: 0.840855\tvalid_1's auc: 0.825482\n",
            "[62]\ttraining's auc: 0.841412\tvalid_1's auc: 0.824667\n",
            "[63]\ttraining's auc: 0.841209\tvalid_1's auc: 0.82426\n",
            "[64]\ttraining's auc: 0.841386\tvalid_1's auc: 0.824124\n",
            "[65]\ttraining's auc: 0.842221\tvalid_1's auc: 0.822903\n",
            "[66]\ttraining's auc: 0.842702\tvalid_1's auc: 0.822631\n",
            "[67]\ttraining's auc: 0.842499\tvalid_1's auc: 0.823038\n",
            "[68]\ttraining's auc: 0.842879\tvalid_1's auc: 0.823174\n",
            "[69]\ttraining's auc: 0.843587\tvalid_1's auc: 0.822088\n",
            "[70]\ttraining's auc: 0.843815\tvalid_1's auc: 0.821952\n",
            "[71]\ttraining's auc: 0.843081\tvalid_1's auc: 0.820595\n",
            "[72]\ttraining's auc: 0.842069\tvalid_1's auc: 0.821409\n",
            "[73]\ttraining's auc: 0.841462\tvalid_1's auc: 0.820595\n",
            "[74]\ttraining's auc: 0.841487\tvalid_1's auc: 0.819509\n",
            "[75]\ttraining's auc: 0.841563\tvalid_1's auc: 0.819644\n",
            "[76]\ttraining's auc: 0.841399\tvalid_1's auc: 0.819373\n",
            "[77]\ttraining's auc: 0.841399\tvalid_1's auc: 0.816522\n",
            "[78]\ttraining's auc: 0.841703\tvalid_1's auc: 0.815164\n",
            "[79]\ttraining's auc: 0.841247\tvalid_1's auc: 0.815436\n",
            "[80]\ttraining's auc: 0.840412\tvalid_1's auc: 0.815436\n",
            "[81]\ttraining's auc: 0.840121\tvalid_1's auc: 0.815029\n",
            "[82]\ttraining's auc: 0.840336\tvalid_1's auc: 0.813603\n",
            "[83]\ttraining's auc: 0.841095\tvalid_1's auc: 0.813875\n",
            "[84]\ttraining's auc: 0.841019\tvalid_1's auc: 0.814825\n",
            "[85]\ttraining's auc: 0.842057\tvalid_1's auc: 0.814553\n",
            "[86]\ttraining's auc: 0.843043\tvalid_1's auc: 0.814146\n",
            "[87]\ttraining's auc: 0.84365\tvalid_1's auc: 0.813739\n",
            "[88]\ttraining's auc: 0.844283\tvalid_1's auc: 0.81401\n",
            "[89]\ttraining's auc: 0.845168\tvalid_1's auc: 0.814689\n",
            "[90]\ttraining's auc: 0.844966\tvalid_1's auc: 0.814553\n",
            "[91]\ttraining's auc: 0.844435\tvalid_1's auc: 0.814146\n",
            "[92]\ttraining's auc: 0.84446\tvalid_1's auc: 0.813603\n",
            "[93]\ttraining's auc: 0.844156\tvalid_1's auc: 0.814282\n",
            "[94]\ttraining's auc: 0.844561\tvalid_1's auc: 0.813739\n",
            "[95]\ttraining's auc: 0.844662\tvalid_1's auc: 0.814282\n",
            "[96]\ttraining's auc: 0.844637\tvalid_1's auc: 0.814553\n",
            "[97]\ttraining's auc: 0.845295\tvalid_1's auc: 0.81306\n",
            "[98]\ttraining's auc: 0.845269\tvalid_1's auc: 0.814146\n",
            "[99]\ttraining's auc: 0.845168\tvalid_1's auc: 0.812788\n",
            "[100]\ttraining's auc: 0.845118\tvalid_1's auc: 0.812788\n",
            "[101]\ttraining's auc: 0.845699\tvalid_1's auc: 0.811974\n",
            "[102]\ttraining's auc: 0.846155\tvalid_1's auc: 0.813332\n",
            "[103]\ttraining's auc: 0.845851\tvalid_1's auc: 0.814553\n",
            "[104]\ttraining's auc: 0.845902\tvalid_1's auc: 0.814553\n",
            "[105]\ttraining's auc: 0.845978\tvalid_1's auc: 0.814825\n",
            "[106]\ttraining's auc: 0.845952\tvalid_1's auc: 0.814689\n",
            "[107]\ttraining's auc: 0.845396\tvalid_1's auc: 0.814961\n",
            "[108]\ttraining's auc: 0.84532\tvalid_1's auc: 0.814689\n",
            "[109]\ttraining's auc: 0.845042\tvalid_1's auc: 0.815096\n",
            "[110]\ttraining's auc: 0.844814\tvalid_1's auc: 0.81659\n",
            "[111]\ttraining's auc: 0.845092\tvalid_1's auc: 0.815639\n",
            "[112]\ttraining's auc: 0.845118\tvalid_1's auc: 0.816047\n",
            "[113]\ttraining's auc: 0.845269\tvalid_1's auc: 0.815504\n",
            "[114]\ttraining's auc: 0.845624\tvalid_1's auc: 0.815096\n",
            "[115]\ttraining's auc: 0.84618\tvalid_1's auc: 0.814418\n",
            "[116]\ttraining's auc: 0.846509\tvalid_1's auc: 0.813467\n",
            "[117]\ttraining's auc: 0.846686\tvalid_1's auc: 0.812788\n",
            "[118]\ttraining's auc: 0.84704\tvalid_1's auc: 0.811838\n",
            "[119]\ttraining's auc: 0.847521\tvalid_1's auc: 0.811702\n",
            "[120]\ttraining's auc: 0.847546\tvalid_1's auc: 0.810345\n",
            "[121]\ttraining's auc: 0.848254\tvalid_1's auc: 0.810209\n",
            "[122]\ttraining's auc: 0.848507\tvalid_1's auc: 0.811431\n",
            "[123]\ttraining's auc: 0.848786\tvalid_1's auc: 0.811567\n",
            "[124]\ttraining's auc: 0.849469\tvalid_1's auc: 0.810345\n",
            "[125]\ttraining's auc: 0.850557\tvalid_1's auc: 0.809802\n",
            "[126]\ttraining's auc: 0.851138\tvalid_1's auc: 0.810345\n",
            "[127]\ttraining's auc: 0.851594\tvalid_1's auc: 0.810209\n",
            "[128]\ttraining's auc: 0.8521\tvalid_1's auc: 0.810481\n",
            "[129]\ttraining's auc: 0.851847\tvalid_1's auc: 0.810616\n",
            "[130]\ttraining's auc: 0.852226\tvalid_1's auc: 0.809666\n",
            "[131]\ttraining's auc: 0.851796\tvalid_1's auc: 0.809395\n",
            "[132]\ttraining's auc: 0.851821\tvalid_1's auc: 0.808716\n",
            "[133]\ttraining's auc: 0.851821\tvalid_1's auc: 0.809123\n",
            "[134]\ttraining's auc: 0.85129\tvalid_1's auc: 0.809938\n",
            "[135]\ttraining's auc: 0.850784\tvalid_1's auc: 0.810209\n",
            "[136]\ttraining's auc: 0.851442\tvalid_1's auc: 0.810616\n",
            "[137]\ttraining's auc: 0.851214\tvalid_1's auc: 0.810752\n",
            "[138]\ttraining's auc: 0.851619\tvalid_1's auc: 0.811838\n",
            "[139]\ttraining's auc: 0.851948\tvalid_1's auc: 0.812381\n",
            "[140]\ttraining's auc: 0.851847\tvalid_1's auc: 0.812653\n",
            "[141]\ttraining's auc: 0.851619\tvalid_1's auc: 0.812788\n",
            "[142]\ttraining's auc: 0.851341\tvalid_1's auc: 0.813196\n",
            "[143]\ttraining's auc: 0.85129\tvalid_1's auc: 0.813467\n",
            "[144]\ttraining's auc: 0.851315\tvalid_1's auc: 0.813467\n",
            "[145]\ttraining's auc: 0.851265\tvalid_1's auc: 0.813739\n",
            "[146]\ttraining's auc: 0.851062\tvalid_1's auc: 0.813875\n",
            "[147]\ttraining's auc: 0.850759\tvalid_1's auc: 0.814146\n",
            "[148]\ttraining's auc: 0.850632\tvalid_1's auc: 0.814282\n",
            "[149]\ttraining's auc: 0.850607\tvalid_1's auc: 0.814825\n",
            "Early stopping, best iteration is:\n",
            "[49]\ttraining's auc: 0.84685\tvalid_1's auc: 0.827111\n"
          ],
          "name": "stdout"
        }
      ]
    },
    {
      "cell_type": "code",
      "metadata": {
        "id": "nSiF5vzONmCH",
        "colab_type": "code",
        "outputId": "3a626c82-2c50-4bfa-c036-a1e106791466",
        "colab": {
          "base_uri": "https://localhost:8080/",
          "height": 345
        }
      },
      "source": [
        "importancia=gbm.feature_importance(importance_type='gain')\n",
        "\n",
        "def impxgb(valores,variables):\n",
        "    dictimp={variables[a]:valores[a] for a in range(0,len(variables)) }\n",
        "    xgimp=sorted(list(dictimp.items()), key=lambda x: x[1],reverse=True)\n",
        "\n",
        "    return xgimp\n",
        "\n",
        "ixg=impxgb(importancia,X_train.columns)\n",
        "pd.Series(ixg)"
      ],
      "execution_count": 0,
      "outputs": [
        {
          "output_type": "execute_result",
          "data": {
            "text/plain": [
              "0        (Credit_History, 3780.3102951049805)\n",
              "1         (Cuota_Ingreso2, 174.6280801296234)\n",
              "2        (Cuota_Ingreso1, 150.55474042892456)\n",
              "3              (Education, 95.64497065544128)\n",
              "4      (CoapplicantIncome, 68.92885994911194)\n",
              "5          (Property_Area, 68.89336967468262)\n",
              "6        (ApplicantIncome, 39.06327033042908)\n",
              "7                (Married, 27.51448965072632)\n",
              "8            (TotalIncome, 26.77689027786255)\n",
              "9                (Gender, 22.121349811553955)\n",
              "10          (AmountxTerm, 21.210700273513794)\n",
              "11    (Cuota_Ingreso_Hijo, 14.19530987739563)\n",
              "12           (Dependents, 10.823490142822266)\n",
              "13           (LoanAmount, 10.397259712219238)\n",
              "14                       (Self_Employed, 0.0)\n",
              "15                    (Loan_Amount_Term, 0.0)\n",
              "16                      (Log_LoanAmount, 0.0)\n",
              "dtype: object"
            ]
          },
          "metadata": {
            "tags": []
          },
          "execution_count": 44
        }
      ]
    },
    {
      "cell_type": "code",
      "metadata": {
        "id": "27DDstheNmCh",
        "colab_type": "code",
        "colab": {}
      },
      "source": [
        "##################################################\n",
        "## Implementación de Modelos de Machine Learning\n",
        "##################################################"
      ],
      "execution_count": 0,
      "outputs": []
    },
    {
      "cell_type": "code",
      "metadata": {
        "id": "f7Cjn0E_NmCi",
        "colab_type": "code",
        "colab": {}
      },
      "source": [
        "# Leemos el dataset de implementacion, podria ser una informacion a enivar a campanas\n",
        "implemt = pd.read_csv(\"/content/drive/My Drive/CLASS - DATATHONES/MACHINE LEARNING/test.csv\") "
      ],
      "execution_count": 0,
      "outputs": []
    },
    {
      "cell_type": "code",
      "metadata": {
        "id": "iFh5FdWqNmCi",
        "colab_type": "code",
        "colab": {}
      },
      "source": [
        "# Todo lo realizado en el dataset de entrenamiento del modelo lo debemos replicar en el dataset de scoring"
      ],
      "execution_count": 0,
      "outputs": []
    },
    {
      "cell_type": "code",
      "metadata": {
        "id": "JXrIHrTaNmCj",
        "colab_type": "code",
        "colab": {}
      },
      "source": [
        "# Imputamos los valores cualitativos por Moda\n",
        "implemt.Gender = implemt.Gender.fillna(\"Male\")\n",
        "implemt.Married = implemt.Married.fillna(\"Yes\")\n",
        "implemt.Self_Employed = implemt.Self_Employed.fillna(\"Yes\")\n",
        "implemt.Credit_History = implemt.Credit_History.fillna(\"1\")\n",
        "implemt.Dependents = implemt.Dependents.fillna(\"0\")"
      ],
      "execution_count": 0,
      "outputs": []
    },
    {
      "cell_type": "code",
      "metadata": {
        "id": "59ghfK2JNmCl",
        "colab_type": "code",
        "colab": {}
      },
      "source": [
        "# Separamos los features categoricos y los numericos\n",
        "columnas_categoricas = [\"Gender\",\"Married\",\"Education\",\"Self_Employed\",\"Property_Area\",\"Dependents\"]\n",
        "columnas_numericas = [\"ApplicantIncome\",\"CoapplicantIncome\",\"LoanAmount\",\"Loan_Amount_Term\"]"
      ],
      "execution_count": 0,
      "outputs": []
    },
    {
      "cell_type": "code",
      "metadata": {
        "id": "HOLfor4ONmCn",
        "colab_type": "code",
        "outputId": "349b6f87-9ae7-459b-d625-10538c7d6641",
        "colab": {
          "base_uri": "https://localhost:8080/",
          "height": 126
        }
      },
      "source": [
        "# Preprocesamiento con LabelEncoder\n",
        "from sklearn.preprocessing import LabelEncoder\n",
        "for c in columnas_categoricas:\n",
        "    print(str(c))\n",
        "    le = LabelEncoder()\n",
        "    le.fit(implemt[str(c)])\n",
        "    implemt[str(c)]=le.transform(implemt[str(c)]) "
      ],
      "execution_count": 0,
      "outputs": [
        {
          "output_type": "stream",
          "text": [
            "Gender\n",
            "Married\n",
            "Education\n",
            "Self_Employed\n",
            "Property_Area\n",
            "Dependents\n"
          ],
          "name": "stdout"
        }
      ]
    },
    {
      "cell_type": "code",
      "metadata": {
        "id": "Fm8qq9TUNmCp",
        "colab_type": "code",
        "colab": {}
      },
      "source": [
        "# Imputamos los valores cuantitativos por Media o Mediana\n",
        "for c in columnas_numericas:\n",
        "    median = implemt[c].median()\n",
        "    implemt[c].fillna(median, inplace=True)"
      ],
      "execution_count": 0,
      "outputs": []
    },
    {
      "cell_type": "code",
      "metadata": {
        "id": "ewc1LgBHNmCq",
        "colab_type": "code",
        "outputId": "985b7d7d-b00e-48d6-a80a-483ca6c11e5d",
        "colab": {
          "base_uri": "https://localhost:8080/",
          "height": 254
        }
      },
      "source": [
        "implemt.isnull().sum()"
      ],
      "execution_count": 0,
      "outputs": [
        {
          "output_type": "execute_result",
          "data": {
            "text/plain": [
              "Loan_ID              0\n",
              "Gender               0\n",
              "Married              0\n",
              "Dependents           0\n",
              "Education            0\n",
              "Self_Employed        0\n",
              "ApplicantIncome      0\n",
              "CoapplicantIncome    0\n",
              "LoanAmount           0\n",
              "Loan_Amount_Term     0\n",
              "Credit_History       0\n",
              "Property_Area        0\n",
              "dtype: int64"
            ]
          },
          "metadata": {
            "tags": []
          },
          "execution_count": 51
        }
      ]
    },
    {
      "cell_type": "code",
      "metadata": {
        "id": "XAGxGZLVNmCs",
        "colab_type": "code",
        "colab": {}
      },
      "source": [
        "#implemt.ApplicantIncome.value_counts()"
      ],
      "execution_count": 0,
      "outputs": []
    },
    {
      "cell_type": "code",
      "metadata": {
        "id": "9KqHEOknNmCt",
        "colab_type": "code",
        "colab": {}
      },
      "source": [
        "# Ingenieria de datos\n",
        "#Creamos las mismas variables que utilizamos en el train\n",
        "implemt['TotalIncome']    = implemt['ApplicantIncome'] + implemt['CoapplicantIncome']\n",
        "implemt['Log_LoanAmount'] = round(np.log(implemt['LoanAmount']+1),2)"
      ],
      "execution_count": 0,
      "outputs": []
    },
    {
      "cell_type": "code",
      "metadata": {
        "id": "nimFSZ03NmCu",
        "colab_type": "code",
        "colab": {}
      },
      "source": [
        "implemt['AmountxTerm']    = round(implemt['LoanAmount']/implemt['Loan_Amount_Term'],2)\n",
        "implemt[\"Cuota_Ingreso1\"] = (1000*implemt[\"LoanAmount\"]/implemt[\"Loan_Amount_Term\"])/(implemt[\"ApplicantIncome\"] +1)\n",
        "implemt[\"Cuota_Ingreso2\"] = (1000*implemt[\"LoanAmount\"]/implemt[\"Loan_Amount_Term\"])/(implemt[\"TotalIncome\"] +1)\n",
        "implemt[\"Cuota_Ingreso_Hijo\"] = (1000*implemt[\"LoanAmount\"]/implemt[\"Loan_Amount_Term\"])/(implemt[\"TotalIncome\"]/(implemt[\"Dependents\"]+1))\n"
      ],
      "execution_count": 0,
      "outputs": []
    },
    {
      "cell_type": "code",
      "metadata": {
        "id": "9CZR45e5NmCv",
        "colab_type": "code",
        "colab": {}
      },
      "source": [
        "## Una vez que tenemos todas las variables podemos scorear o puntuar los registros"
      ],
      "execution_count": 0,
      "outputs": []
    },
    {
      "cell_type": "code",
      "metadata": {
        "id": "dQbIBzIoNmCy",
        "colab_type": "code",
        "outputId": "fdad0646-1583-47d1-d59b-2be9ccc406cb",
        "colab": {
          "base_uri": "https://localhost:8080/",
          "height": 98
        }
      },
      "source": [
        "implemt.head(1)"
      ],
      "execution_count": 0,
      "outputs": [
        {
          "output_type": "execute_result",
          "data": {
            "text/html": [
              "<div>\n",
              "<style scoped>\n",
              "    .dataframe tbody tr th:only-of-type {\n",
              "        vertical-align: middle;\n",
              "    }\n",
              "\n",
              "    .dataframe tbody tr th {\n",
              "        vertical-align: top;\n",
              "    }\n",
              "\n",
              "    .dataframe thead th {\n",
              "        text-align: right;\n",
              "    }\n",
              "</style>\n",
              "<table border=\"1\" class=\"dataframe\">\n",
              "  <thead>\n",
              "    <tr style=\"text-align: right;\">\n",
              "      <th></th>\n",
              "      <th>Loan_ID</th>\n",
              "      <th>Gender</th>\n",
              "      <th>Married</th>\n",
              "      <th>Dependents</th>\n",
              "      <th>Education</th>\n",
              "      <th>Self_Employed</th>\n",
              "      <th>ApplicantIncome</th>\n",
              "      <th>CoapplicantIncome</th>\n",
              "      <th>LoanAmount</th>\n",
              "      <th>Loan_Amount_Term</th>\n",
              "      <th>Credit_History</th>\n",
              "      <th>Property_Area</th>\n",
              "      <th>TotalIncome</th>\n",
              "      <th>Log_LoanAmount</th>\n",
              "      <th>AmountxTerm</th>\n",
              "      <th>Cuota_Ingreso1</th>\n",
              "      <th>Cuota_Ingreso2</th>\n",
              "      <th>Cuota_Ingreso_Hijo</th>\n",
              "    </tr>\n",
              "  </thead>\n",
              "  <tbody>\n",
              "    <tr>\n",
              "      <th>0</th>\n",
              "      <td>LP001015</td>\n",
              "      <td>1</td>\n",
              "      <td>1</td>\n",
              "      <td>0</td>\n",
              "      <td>0</td>\n",
              "      <td>0</td>\n",
              "      <td>5720</td>\n",
              "      <td>0</td>\n",
              "      <td>110.0</td>\n",
              "      <td>360.0</td>\n",
              "      <td>1</td>\n",
              "      <td>2</td>\n",
              "      <td>5720</td>\n",
              "      <td>4.71</td>\n",
              "      <td>0.31</td>\n",
              "      <td>0.053409</td>\n",
              "      <td>0.053409</td>\n",
              "      <td>0.053419</td>\n",
              "    </tr>\n",
              "  </tbody>\n",
              "</table>\n",
              "</div>"
            ],
            "text/plain": [
              "    Loan_ID  Gender  ...  Cuota_Ingreso2  Cuota_Ingreso_Hijo\n",
              "0  LP001015       1  ...        0.053409            0.053419\n",
              "\n",
              "[1 rows x 18 columns]"
            ]
          },
          "metadata": {
            "tags": []
          },
          "execution_count": 54
        }
      ]
    },
    {
      "cell_type": "code",
      "metadata": {
        "id": "b_GvS0BXNmC3",
        "colab_type": "code",
        "colab": {}
      },
      "source": [
        "df_scoring = implemt.drop(\"Loan_ID\",axis=1)"
      ],
      "execution_count": 0,
      "outputs": []
    },
    {
      "cell_type": "code",
      "metadata": {
        "id": "uBMlUnwwNmC-",
        "colab_type": "code",
        "colab": {}
      },
      "source": [
        "df_scoring.Credit_History = df_scoring.Credit_History.astype('int')"
      ],
      "execution_count": 0,
      "outputs": []
    },
    {
      "cell_type": "code",
      "metadata": {
        "id": "oU0VCCMnNmDA",
        "colab_type": "code",
        "outputId": "e6297f08-889d-4053-e6cb-2fa08eeab9d0",
        "colab": {
          "base_uri": "https://localhost:8080/",
          "height": 35
        }
      },
      "source": [
        "df_scoring.shape"
      ],
      "execution_count": 0,
      "outputs": [
        {
          "output_type": "execute_result",
          "data": {
            "text/plain": [
              "(367, 17)"
            ]
          },
          "metadata": {
            "tags": []
          },
          "execution_count": 57
        }
      ]
    },
    {
      "cell_type": "code",
      "metadata": {
        "id": "jGQ-k0EpNmDC",
        "colab_type": "code",
        "colab": {}
      },
      "source": [
        "# Predecimos con la data nueva\n",
        "y_scoring = gbm.predict(df_scoring)"
      ],
      "execution_count": 0,
      "outputs": []
    },
    {
      "cell_type": "code",
      "metadata": {
        "id": "xSQHbW0CNmDE",
        "colab_type": "code",
        "colab": {}
      },
      "source": [
        "# Convertir la probabilidad en clase\n",
        "for i in range(0,367):\n",
        "    if y_scoring[i]>=0.50:\n",
        "        y_scoring[i]=1\n",
        "    else:\n",
        "        y_scoring[i]=0"
      ],
      "execution_count": 0,
      "outputs": []
    },
    {
      "cell_type": "code",
      "metadata": {
        "id": "e7tZkq0kNmDF",
        "colab_type": "code",
        "colab": {}
      },
      "source": [
        "# Predecimos sobre el set de datos de implementacion con el modelo entrenado\n",
        "#y_scoring = RegLog.predict(df_scoring) # Predecimos sobre nuevos clientes o clientes sin la variable dependiente VD\n",
        "# Juntamos el ID con la clase\n",
        "data = np.hstack((implemt['Loan_ID'].values.reshape(-1,1), y_scoring.reshape(-1,1)))\n",
        "# Le asignamos nombres a las columnas\n",
        "df_submmit = pd.DataFrame(data, columns=['Loan_ID','Loan_Status'])\n",
        "# Convertimos al formato solicitado por Analytics Vidhya\n",
        "df_submmit['Loan_Status']=[\"Y\" if i == 1 else \"N\" for i in df_submmit['Loan_Status']]\n",
        "# Exportamos la solucion\n",
        "df_submmit.to_csv('/content/drive/My Drive/CLASS - DATATHONES/MACHINE LEARNING/Sol_Lgbm.csv', index=False)"
      ],
      "execution_count": 0,
      "outputs": []
    },
    {
      "cell_type": "code",
      "metadata": {
        "id": "J6KAvMWYNmDH",
        "colab_type": "code",
        "colab": {}
      },
      "source": [
        "# Listo , objetivo cumplido"
      ],
      "execution_count": 0,
      "outputs": []
    },
    {
      "cell_type": "code",
      "metadata": {
        "id": "ApR7oek-NmDJ",
        "colab_type": "code",
        "colab": {}
      },
      "source": [
        "# Fin !!"
      ],
      "execution_count": 0,
      "outputs": []
    }
  ]
}