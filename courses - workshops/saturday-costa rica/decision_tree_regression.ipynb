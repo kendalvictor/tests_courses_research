{
  "nbformat": 4,
  "nbformat_minor": 0,
  "metadata": {
    "anaconda-cloud": {},
    "kernelspec": {
      "display_name": "Python [default]",
      "language": "python",
      "name": "python3"
    },
    "language_info": {
      "codemirror_mode": {
        "name": "ipython",
        "version": 3
      },
      "file_extension": ".py",
      "mimetype": "text/x-python",
      "name": "python",
      "nbconvert_exporter": "python",
      "pygments_lexer": "ipython3",
      "version": "3.5.2"
    },
    "colab": {
      "name": "decision_tree_regression.ipynb",
      "provenance": [],
      "collapsed_sections": []
    },
    "accelerator": "GPU"
  },
  "cells": [
    {
      "cell_type": "markdown",
      "metadata": {
        "id": "WUF5ClHSeGD9",
        "colab_type": "text"
      },
      "source": [
        "# Bike Sharing Dataset using Decision Tree Regressor\n",
        "\n",
        "+ Based on Bike Sharing dataset from [UCI Machine Learning Repository](https://archive.ics.uci.edu/ml/datasets/Bike+Sharing+Dataset)\n",
        "+ This notebook is based upon the hourly data file, i.e. hour.csv\n",
        "+ This notebook showcases regression using Decision Trees\n",
        "\n",
        "![decision tree](https://saturdays-ai.s3-us-west-2.amazonaws.com/Screen+Shot+2020-05-08+at+1.21.19+PM.png)"
      ]
    },
    {
      "cell_type": "markdown",
      "metadata": {
        "id": "jbwIj1TfeGEA",
        "colab_type": "text"
      },
      "source": [
        "### Problem Statement\n",
        "Given the Bike Sharing dataset with hourly level information of bikes along with weather and other attributes, model a system which can predict the bike count."
      ]
    },
    {
      "cell_type": "markdown",
      "metadata": {
        "id": "a9krLN2feGEC",
        "colab_type": "text"
      },
      "source": [
        "## Import required packages"
      ]
    },
    {
      "cell_type": "code",
      "metadata": {
        "id": "dzPrnfRSeGEE",
        "colab_type": "code",
        "outputId": "9718048e-37ca-430c-ecca-3b34797b20e0",
        "colab": {
          "base_uri": "https://localhost:8080/",
          "height": 71
        }
      },
      "source": [
        "%matplotlib inline\n",
        "\n",
        "# data manuipulation\n",
        "import numpy as np\n",
        "import pandas as pd\n",
        "\n",
        "# modeling utilities\n",
        "import pydotplus \n",
        "from sklearn import tree\n",
        "from sklearn import metrics\n",
        "from sklearn import preprocessing\n",
        "from sklearn.tree import DecisionTreeRegressor\n",
        "from sklearn.model_selection import GridSearchCV\n",
        "from sklearn.model_selection import cross_val_score\n",
        "from sklearn.model_selection import train_test_split\n",
        "\n",
        "\n",
        "# plotting libraries\n",
        "import seaborn as sn\n",
        "import matplotlib.pyplot as plt\n",
        "import seaborn as sn\n",
        "\n",
        "\n",
        "sn.set_style('whitegrid')\n",
        "sn.set_context('talk')\n",
        "params = {'legend.fontsize': 'x-large',\n",
        "          'figure.figsize': (30, 10),\n",
        "          'axes.labelsize': 'x-large',\n",
        "          'axes.titlesize':'x-large',\n",
        "          'xtick.labelsize':'x-large',\n",
        "          'ytick.labelsize':'x-large'}\n",
        "\n",
        "plt.rcParams.update(params)"
      ],
      "execution_count": 0,
      "outputs": [
        {
          "output_type": "stream",
          "text": [
            "/usr/local/lib/python3.6/dist-packages/statsmodels/tools/_testing.py:19: FutureWarning: pandas.util.testing is deprecated. Use the functions in the public API at pandas.testing instead.\n",
            "  import pandas.util.testing as tm\n"
          ],
          "name": "stderr"
        }
      ]
    },
    {
      "cell_type": "markdown",
      "metadata": {
        "id": "YbhFPFKxeGET",
        "colab_type": "text"
      },
      "source": [
        "## Load Dataset"
      ]
    },
    {
      "cell_type": "code",
      "metadata": {
        "id": "4o5t0kTMeGEV",
        "colab_type": "code",
        "outputId": "752be1c8-aea8-4575-e971-42ed0cf9d3d3",
        "colab": {
          "base_uri": "https://localhost:8080/",
          "height": 34
        }
      },
      "source": [
        "hour_df = pd.read_csv('https://saturdays-ai.s3-us-west-2.amazonaws.com/hour.csv')\n",
        "print(\"Shape of dataset::{}\".format(hour_df.shape))"
      ],
      "execution_count": 0,
      "outputs": [
        {
          "output_type": "stream",
          "text": [
            "Shape of dataset::(17379, 17)\n"
          ],
          "name": "stdout"
        }
      ]
    },
    {
      "cell_type": "markdown",
      "metadata": {
        "id": "6IDOXI2teGEd",
        "colab_type": "text"
      },
      "source": [
        "## Preprocessing\n",
        "+ Standarize column names\n",
        "+ Typecast attributes\n",
        "+ Encode Categoricals using One Hot Encoding"
      ]
    },
    {
      "cell_type": "markdown",
      "metadata": {
        "id": "ghgZlkPmeGEe",
        "colab_type": "text"
      },
      "source": [
        "### Standarize Column Names"
      ]
    },
    {
      "cell_type": "code",
      "metadata": {
        "id": "SZekUEqieGEf",
        "colab_type": "code",
        "colab": {}
      },
      "source": [
        "hour_df.rename(columns={'instant':'rec_id',\n",
        "                        'dteday':'datetime',\n",
        "                        'holiday':'is_holiday',\n",
        "                        'workingday':'is_workingday',\n",
        "                        'weathersit':'weather_condition',\n",
        "                        'hum':'humidity',\n",
        "                        'mnth':'month',\n",
        "                        'cnt':'total_count',\n",
        "                        'hr':'hour',\n",
        "                        'yr':'year'},inplace=True)"
      ],
      "execution_count": 0,
      "outputs": []
    },
    {
      "cell_type": "markdown",
      "metadata": {
        "id": "JrdPyA2ieGEl",
        "colab_type": "text"
      },
      "source": [
        "### Typecast Attributes"
      ]
    },
    {
      "cell_type": "code",
      "metadata": {
        "id": "8N4Hk49qeGEm",
        "colab_type": "code",
        "colab": {}
      },
      "source": [
        "# date time conversion\n",
        "hour_df['datetime'] = pd.to_datetime(hour_df.datetime)\n",
        "\n",
        "# categorical variables\n",
        "hour_df['season'] = hour_df.season.astype('category')\n",
        "hour_df['is_holiday'] = hour_df.is_holiday.astype('category')\n",
        "hour_df['weekday'] = hour_df.weekday.astype('category')\n",
        "hour_df['weather_condition'] = hour_df.weather_condition.astype('category')\n",
        "hour_df['is_workingday'] = hour_df.is_workingday.astype('category')\n",
        "hour_df['month'] = hour_df.month.astype('category')\n",
        "hour_df['year'] = hour_df.year.astype('category')\n",
        "hour_df['hour'] = hour_df.hour.astype('category')"
      ],
      "execution_count": 0,
      "outputs": []
    },
    {
      "cell_type": "markdown",
      "metadata": {
        "id": "P0xsEXiseGEs",
        "colab_type": "text"
      },
      "source": [
        "\n",
        "### Encode Categoricals (One Hot Encoding)"
      ]
    },
    {
      "cell_type": "code",
      "metadata": {
        "id": "nE2656jueGEu",
        "colab_type": "code",
        "colab": {}
      },
      "source": [
        "def fit_transform_ohe(df,col_name):\n",
        "    \"\"\"This function performs one hot encoding for the specified\n",
        "        column.\n",
        "\n",
        "    Args:\n",
        "        df(pandas.DataFrame): the data frame containing the mentioned column name\n",
        "        col_name: the column to be one hot encoded\n",
        "\n",
        "    Returns:\n",
        "        tuple: label_encoder, one_hot_encoder, transformed column as pandas Series\n",
        "\n",
        "    \"\"\"\n",
        "    # label encode the column\n",
        "    le = preprocessing.LabelEncoder()\n",
        "    le_labels = le.fit_transform(df[col_name])\n",
        "    df[col_name+'_label'] = le_labels\n",
        "    \n",
        "    # one hot encoding\n",
        "    ohe = preprocessing.OneHotEncoder()\n",
        "    feature_arr = ohe.fit_transform(df[[col_name+'_label']]).toarray()\n",
        "    feature_labels = [col_name+'_'+str(cls_label) for cls_label in le.classes_]\n",
        "    features_df = pd.DataFrame(feature_arr, columns=feature_labels)\n",
        "    \n",
        "    return le,ohe,features_df\n",
        "\n",
        "# given label encoder and one hot encoder objects, \n",
        "# encode attribute to ohe\n",
        "def transform_ohe(df,le,ohe,col_name):\n",
        "    \"\"\"This function performs one hot encoding for the specified\n",
        "        column using the specified encoder objects.\n",
        "\n",
        "    Args:\n",
        "        df(pandas.DataFrame): the data frame containing the mentioned column name\n",
        "        le(Label Encoder): the label encoder object used to fit label encoding\n",
        "        ohe(One Hot Encoder): the onen hot encoder object used to fit one hot encoding\n",
        "        col_name: the column to be one hot encoded\n",
        "\n",
        "    Returns:\n",
        "        tuple: transformed column as pandas Series\n",
        "\n",
        "    \"\"\"\n",
        "    # label encode\n",
        "    col_labels = le.transform(df[col_name])\n",
        "    df[col_name+'_label'] = col_labels\n",
        "    \n",
        "    # ohe \n",
        "    feature_arr = ohe.fit_transform(df[[col_name+'_label']]).toarray()\n",
        "    feature_labels = [col_name+'_'+str(cls_label) for cls_label in le.classes_]\n",
        "    features_df = pd.DataFrame(feature_arr, columns=feature_labels)\n",
        "    \n",
        "    return features_df"
      ],
      "execution_count": 0,
      "outputs": []
    },
    {
      "cell_type": "markdown",
      "metadata": {
        "id": "SYR9AoJCeGE2",
        "colab_type": "text"
      },
      "source": [
        "## Train-Test Split"
      ]
    },
    {
      "cell_type": "code",
      "metadata": {
        "id": "T9oNZRzueGE4",
        "colab_type": "code",
        "outputId": "7fceb8a4-4e1a-4670-e1cf-10626f37dbbb",
        "colab": {
          "base_uri": "https://localhost:8080/",
          "height": 51
        }
      },
      "source": [
        "X, X_test, y, y_test = train_test_split(hour_df.iloc[:,0:-3], hour_df.iloc[:,-1], \n",
        "                                                    test_size=0.33, random_state=42)\n",
        "\n",
        "X.reset_index(inplace=True)\n",
        "y = y.reset_index()\n",
        "\n",
        "X_test.reset_index(inplace=True)\n",
        "y_test = y_test.reset_index()\n",
        "\n",
        "print(\"Training set::{}{}\".format(X.shape,y.shape))\n",
        "print(\"Testing set::{}\".format(X_test.shape))"
      ],
      "execution_count": 0,
      "outputs": [
        {
          "output_type": "stream",
          "text": [
            "Training set::(11643, 15)(11643, 2)\n",
            "Testing set::(5736, 15)\n"
          ],
          "name": "stdout"
        }
      ]
    },
    {
      "cell_type": "code",
      "metadata": {
        "id": "4EpLWsSkeGE9",
        "colab_type": "code",
        "colab": {}
      },
      "source": [
        "cat_attr_list = ['season','is_holiday',\n",
        "                 'weather_condition','is_workingday',\n",
        "                 'hour','weekday','month','year']\n",
        "numeric_feature_cols = ['temp','humidity','windspeed','hour','weekday','month','year']\n",
        "subset_cat_features =  ['season','is_holiday','weather_condition','is_workingday']"
      ],
      "execution_count": 0,
      "outputs": []
    },
    {
      "cell_type": "code",
      "metadata": {
        "id": "dSABshx7eGFE",
        "colab_type": "code",
        "colab": {}
      },
      "source": [
        "encoded_attr_list = []\n",
        "for col in cat_attr_list:\n",
        "    return_obj = fit_transform_ohe(X,col)\n",
        "    encoded_attr_list.append({'label_enc':return_obj[0],\n",
        "                              'ohe_enc':return_obj[1],\n",
        "                              'feature_df':return_obj[2],\n",
        "                              'col_name':col})"
      ],
      "execution_count": 0,
      "outputs": []
    },
    {
      "cell_type": "code",
      "metadata": {
        "id": "H5GZGWHieGFJ",
        "colab_type": "code",
        "outputId": "0cd8157c-c5e6-484c-f653-56da3ed0c44f",
        "colab": {
          "base_uri": "https://localhost:8080/",
          "height": 34
        }
      },
      "source": [
        "feature_df_list = [X[numeric_feature_cols]]\n",
        "feature_df_list.extend([enc['feature_df'] \\\n",
        "                        for enc in encoded_attr_list \\\n",
        "                        if enc['col_name'] in subset_cat_features])\n",
        "\n",
        "train_df_new = pd.concat(feature_df_list, axis=1)\n",
        "print(\"Shape::{}\".format(train_df_new.shape))"
      ],
      "execution_count": 0,
      "outputs": [
        {
          "output_type": "stream",
          "text": [
            "Shape::(11643, 19)\n"
          ],
          "name": "stdout"
        }
      ]
    },
    {
      "cell_type": "markdown",
      "metadata": {
        "id": "s-WnMrtdeGFP",
        "colab_type": "text"
      },
      "source": [
        "## Decision Tree based Regression"
      ]
    },
    {
      "cell_type": "code",
      "metadata": {
        "id": "VmR2CJrneGFR",
        "colab_type": "code",
        "outputId": "9099fb78-8b8f-439e-c390-43acc8f07e1b",
        "colab": {
          "base_uri": "https://localhost:8080/",
          "height": 181
        }
      },
      "source": [
        ""
      ],
      "execution_count": 0,
      "outputs": [
        {
          "output_type": "error",
          "ename": "AttributeError",
          "evalue": "ignored",
          "traceback": [
            "\u001b[0;31m---------------------------------------------------------------------------\u001b[0m",
            "\u001b[0;31mAttributeError\u001b[0m                            Traceback (most recent call last)",
            "\u001b[0;32m<ipython-input-11-d0175ecb635e>\u001b[0m in \u001b[0;36m<module>\u001b[0;34m()\u001b[0m\n\u001b[1;32m      1\u001b[0m \u001b[0mX\u001b[0m \u001b[0;34m=\u001b[0m \u001b[0mtrain_df_new\u001b[0m\u001b[0;34m\u001b[0m\u001b[0;34m\u001b[0m\u001b[0m\n\u001b[0;32m----> 2\u001b[0;31m \u001b[0my\u001b[0m\u001b[0;34m=\u001b[0m \u001b[0my\u001b[0m\u001b[0;34m.\u001b[0m\u001b[0mtotal_count\u001b[0m\u001b[0;34m.\u001b[0m\u001b[0mvalues\u001b[0m\u001b[0;34m.\u001b[0m\u001b[0mreshape\u001b[0m\u001b[0;34m(\u001b[0m\u001b[0;34m-\u001b[0m\u001b[0;36m1\u001b[0m\u001b[0;34m,\u001b[0m\u001b[0;36m1\u001b[0m\u001b[0;34m)\u001b[0m\u001b[0;34m\u001b[0m\u001b[0;34m\u001b[0m\u001b[0m\n\u001b[0m",
            "\u001b[0;31mAttributeError\u001b[0m: 'numpy.ndarray' object has no attribute 'total_count'"
          ]
        }
      ]
    },
    {
      "cell_type": "code",
      "metadata": {
        "id": "hX_epti6eGFb",
        "colab_type": "code",
        "outputId": "fa0dd5b5-dbe2-4792-fe7b-e76a8a823843",
        "colab": {
          "base_uri": "https://localhost:8080/",
          "height": 34
        }
      },
      "source": [
        "X.shape,y.shape"
      ],
      "execution_count": 0,
      "outputs": [
        {
          "output_type": "execute_result",
          "data": {
            "text/plain": [
              "((11643, 23), (11643, 2))"
            ]
          },
          "metadata": {
            "tags": []
          },
          "execution_count": 12
        }
      ]
    },
    {
      "cell_type": "markdown",
      "metadata": {
        "id": "l5bBytFBeGFj",
        "colab_type": "text"
      },
      "source": [
        "## Sample Decision Tree Regressor"
      ]
    },
    {
      "cell_type": "code",
      "metadata": {
        "id": "EX3kReFEeGFm",
        "colab_type": "code",
        "outputId": "7af3effa-d0ee-44b0-92e8-307c93bbef56",
        "colab": {
          "base_uri": "https://localhost:8080/",
          "height": 341
        }
      },
      "source": [
        "dtr = DecisionTreeRegressor(max_depth=4,\n",
        "                            min_samples_split=5,\n",
        "                            max_leaf_nodes=10)\n",
        "dtr.fit(X,y)"
      ],
      "execution_count": 0,
      "outputs": [
        {
          "output_type": "error",
          "ename": "TypeError",
          "evalue": "ignored",
          "traceback": [
            "\u001b[0;31m---------------------------------------------------------------------------\u001b[0m",
            "\u001b[0;31mTypeError\u001b[0m                                 Traceback (most recent call last)",
            "\u001b[0;32m<ipython-input-13-fc1826853681>\u001b[0m in \u001b[0;36m<module>\u001b[0;34m()\u001b[0m\n\u001b[1;32m      2\u001b[0m                             \u001b[0mmin_samples_split\u001b[0m\u001b[0;34m=\u001b[0m\u001b[0;36m5\u001b[0m\u001b[0;34m,\u001b[0m\u001b[0;34m\u001b[0m\u001b[0;34m\u001b[0m\u001b[0m\n\u001b[1;32m      3\u001b[0m                             max_leaf_nodes=10)\n\u001b[0;32m----> 4\u001b[0;31m \u001b[0mdtr\u001b[0m\u001b[0;34m.\u001b[0m\u001b[0mfit\u001b[0m\u001b[0;34m(\u001b[0m\u001b[0mX\u001b[0m\u001b[0;34m,\u001b[0m\u001b[0my\u001b[0m\u001b[0;34m)\u001b[0m\u001b[0;34m\u001b[0m\u001b[0;34m\u001b[0m\u001b[0m\n\u001b[0m",
            "\u001b[0;32m/usr/local/lib/python3.6/dist-packages/sklearn/tree/_classes.py\u001b[0m in \u001b[0;36mfit\u001b[0;34m(self, X, y, sample_weight, check_input, X_idx_sorted)\u001b[0m\n\u001b[1;32m   1223\u001b[0m             \u001b[0msample_weight\u001b[0m\u001b[0;34m=\u001b[0m\u001b[0msample_weight\u001b[0m\u001b[0;34m,\u001b[0m\u001b[0;34m\u001b[0m\u001b[0;34m\u001b[0m\u001b[0m\n\u001b[1;32m   1224\u001b[0m             \u001b[0mcheck_input\u001b[0m\u001b[0;34m=\u001b[0m\u001b[0mcheck_input\u001b[0m\u001b[0;34m,\u001b[0m\u001b[0;34m\u001b[0m\u001b[0;34m\u001b[0m\u001b[0m\n\u001b[0;32m-> 1225\u001b[0;31m             X_idx_sorted=X_idx_sorted)\n\u001b[0m\u001b[1;32m   1226\u001b[0m         \u001b[0;32mreturn\u001b[0m \u001b[0mself\u001b[0m\u001b[0;34m\u001b[0m\u001b[0;34m\u001b[0m\u001b[0m\n\u001b[1;32m   1227\u001b[0m \u001b[0;34m\u001b[0m\u001b[0m\n",
            "\u001b[0;32m/usr/local/lib/python3.6/dist-packages/sklearn/tree/_classes.py\u001b[0m in \u001b[0;36mfit\u001b[0;34m(self, X, y, sample_weight, check_input, X_idx_sorted)\u001b[0m\n\u001b[1;32m    147\u001b[0m \u001b[0;34m\u001b[0m\u001b[0m\n\u001b[1;32m    148\u001b[0m         \u001b[0;32mif\u001b[0m \u001b[0mcheck_input\u001b[0m\u001b[0;34m:\u001b[0m\u001b[0;34m\u001b[0m\u001b[0;34m\u001b[0m\u001b[0m\n\u001b[0;32m--> 149\u001b[0;31m             \u001b[0mX\u001b[0m \u001b[0;34m=\u001b[0m \u001b[0mcheck_array\u001b[0m\u001b[0;34m(\u001b[0m\u001b[0mX\u001b[0m\u001b[0;34m,\u001b[0m \u001b[0mdtype\u001b[0m\u001b[0;34m=\u001b[0m\u001b[0mDTYPE\u001b[0m\u001b[0;34m,\u001b[0m \u001b[0maccept_sparse\u001b[0m\u001b[0;34m=\u001b[0m\u001b[0;34m\"csc\"\u001b[0m\u001b[0;34m)\u001b[0m\u001b[0;34m\u001b[0m\u001b[0;34m\u001b[0m\u001b[0m\n\u001b[0m\u001b[1;32m    150\u001b[0m             \u001b[0my\u001b[0m \u001b[0;34m=\u001b[0m \u001b[0mcheck_array\u001b[0m\u001b[0;34m(\u001b[0m\u001b[0my\u001b[0m\u001b[0;34m,\u001b[0m \u001b[0mensure_2d\u001b[0m\u001b[0;34m=\u001b[0m\u001b[0;32mFalse\u001b[0m\u001b[0;34m,\u001b[0m \u001b[0mdtype\u001b[0m\u001b[0;34m=\u001b[0m\u001b[0;32mNone\u001b[0m\u001b[0;34m)\u001b[0m\u001b[0;34m\u001b[0m\u001b[0;34m\u001b[0m\u001b[0m\n\u001b[1;32m    151\u001b[0m             \u001b[0;32mif\u001b[0m \u001b[0missparse\u001b[0m\u001b[0;34m(\u001b[0m\u001b[0mX\u001b[0m\u001b[0;34m)\u001b[0m\u001b[0;34m:\u001b[0m\u001b[0;34m\u001b[0m\u001b[0;34m\u001b[0m\u001b[0m\n",
            "\u001b[0;32m/usr/local/lib/python3.6/dist-packages/sklearn/utils/validation.py\u001b[0m in \u001b[0;36mcheck_array\u001b[0;34m(array, accept_sparse, accept_large_sparse, dtype, order, copy, force_all_finite, ensure_2d, allow_nd, ensure_min_samples, ensure_min_features, warn_on_dtype, estimator)\u001b[0m\n\u001b[1;32m    529\u001b[0m                     \u001b[0marray\u001b[0m \u001b[0;34m=\u001b[0m \u001b[0marray\u001b[0m\u001b[0;34m.\u001b[0m\u001b[0mastype\u001b[0m\u001b[0;34m(\u001b[0m\u001b[0mdtype\u001b[0m\u001b[0;34m,\u001b[0m \u001b[0mcasting\u001b[0m\u001b[0;34m=\u001b[0m\u001b[0;34m\"unsafe\"\u001b[0m\u001b[0;34m,\u001b[0m \u001b[0mcopy\u001b[0m\u001b[0;34m=\u001b[0m\u001b[0;32mFalse\u001b[0m\u001b[0;34m)\u001b[0m\u001b[0;34m\u001b[0m\u001b[0;34m\u001b[0m\u001b[0m\n\u001b[1;32m    530\u001b[0m                 \u001b[0;32melse\u001b[0m\u001b[0;34m:\u001b[0m\u001b[0;34m\u001b[0m\u001b[0;34m\u001b[0m\u001b[0m\n\u001b[0;32m--> 531\u001b[0;31m                     \u001b[0marray\u001b[0m \u001b[0;34m=\u001b[0m \u001b[0mnp\u001b[0m\u001b[0;34m.\u001b[0m\u001b[0masarray\u001b[0m\u001b[0;34m(\u001b[0m\u001b[0marray\u001b[0m\u001b[0;34m,\u001b[0m \u001b[0morder\u001b[0m\u001b[0;34m=\u001b[0m\u001b[0morder\u001b[0m\u001b[0;34m,\u001b[0m \u001b[0mdtype\u001b[0m\u001b[0;34m=\u001b[0m\u001b[0mdtype\u001b[0m\u001b[0;34m)\u001b[0m\u001b[0;34m\u001b[0m\u001b[0;34m\u001b[0m\u001b[0m\n\u001b[0m\u001b[1;32m    532\u001b[0m             \u001b[0;32mexcept\u001b[0m \u001b[0mComplexWarning\u001b[0m\u001b[0;34m:\u001b[0m\u001b[0;34m\u001b[0m\u001b[0;34m\u001b[0m\u001b[0m\n\u001b[1;32m    533\u001b[0m                 raise ValueError(\"Complex data not supported\\n\"\n",
            "\u001b[0;32m/usr/local/lib/python3.6/dist-packages/numpy/core/_asarray.py\u001b[0m in \u001b[0;36masarray\u001b[0;34m(a, dtype, order)\u001b[0m\n\u001b[1;32m     83\u001b[0m \u001b[0;34m\u001b[0m\u001b[0m\n\u001b[1;32m     84\u001b[0m     \"\"\"\n\u001b[0;32m---> 85\u001b[0;31m     \u001b[0;32mreturn\u001b[0m \u001b[0marray\u001b[0m\u001b[0;34m(\u001b[0m\u001b[0ma\u001b[0m\u001b[0;34m,\u001b[0m \u001b[0mdtype\u001b[0m\u001b[0;34m,\u001b[0m \u001b[0mcopy\u001b[0m\u001b[0;34m=\u001b[0m\u001b[0;32mFalse\u001b[0m\u001b[0;34m,\u001b[0m \u001b[0morder\u001b[0m\u001b[0;34m=\u001b[0m\u001b[0morder\u001b[0m\u001b[0;34m)\u001b[0m\u001b[0;34m\u001b[0m\u001b[0;34m\u001b[0m\u001b[0m\n\u001b[0m\u001b[1;32m     86\u001b[0m \u001b[0;34m\u001b[0m\u001b[0m\n\u001b[1;32m     87\u001b[0m \u001b[0;34m\u001b[0m\u001b[0m\n",
            "\u001b[0;31mTypeError\u001b[0m: float() argument must be a string or a number, not 'Timestamp'"
          ]
        }
      ]
    },
    {
      "cell_type": "code",
      "metadata": {
        "id": "9tFTasMIeGFs",
        "colab_type": "code",
        "outputId": "dc4053c9-1783-45b4-8c0c-a8602234bd8d",
        "colab": {
          "base_uri": "https://localhost:8080/",
          "height": 34
        }
      },
      "source": [
        "dtr.score(X,y)"
      ],
      "execution_count": 0,
      "outputs": [
        {
          "output_type": "execute_result",
          "data": {
            "text/plain": [
              "0.5645919317952333"
            ]
          },
          "metadata": {
            "tags": []
          },
          "execution_count": 14
        }
      ]
    },
    {
      "cell_type": "markdown",
      "metadata": {
        "id": "vzT8MIvmeGF2",
        "colab_type": "text"
      },
      "source": [
        "### Plot the Learnt Model"
      ]
    },
    {
      "cell_type": "code",
      "metadata": {
        "id": "Rj9tEhFieGF4",
        "colab_type": "code",
        "outputId": "01932341-7d8c-46cd-83fc-3cfeee5bdef9",
        "colab": {
          "base_uri": "https://localhost:8080/",
          "height": 34
        }
      },
      "source": [
        "dot_data = tree.export_graphviz(dtr, out_file=None) \n",
        "graph = pydotplus.graph_from_dot_data(dot_data) \n",
        "graph.write_pdf(\"bikeshare.pdf\") "
      ],
      "execution_count": 0,
      "outputs": [
        {
          "output_type": "execute_result",
          "data": {
            "text/plain": [
              "True"
            ]
          },
          "metadata": {
            "tags": []
          },
          "execution_count": 15
        }
      ]
    },
    {
      "cell_type": "markdown",
      "metadata": {
        "id": "_c0WHWfAeGF8",
        "colab_type": "text"
      },
      "source": [
        "### Grid Search With Cross Validation"
      ]
    },
    {
      "cell_type": "code",
      "metadata": {
        "id": "tBT1KOTReGF-",
        "colab_type": "code",
        "colab": {}
      },
      "source": [
        "param_grid = {\"criterion\": [\"mse\", \"mae\"],\n",
        "              \"min_samples_split\": [10, 20, 40],\n",
        "              \"max_depth\": [2, 6, 8],\n",
        "              \"min_samples_leaf\": [20, 40, 100],\n",
        "              \"max_leaf_nodes\": [5, 20, 100, 500, 800],\n",
        "              }"
      ],
      "execution_count": 0,
      "outputs": []
    },
    {
      "cell_type": "code",
      "metadata": {
        "id": "OX6QvVreeGGD",
        "colab_type": "code",
        "colab": {}
      },
      "source": [
        "grid_cv_dtr = GridSearchCV(dtr, param_grid, cv=5)"
      ],
      "execution_count": 0,
      "outputs": []
    },
    {
      "cell_type": "code",
      "metadata": {
        "id": "K_H14g8yeGGI",
        "colab_type": "code",
        "colab": {}
      },
      "source": [
        "grid_cv_dtr.fit(X,y)"
      ],
      "execution_count": 0,
      "outputs": []
    },
    {
      "cell_type": "markdown",
      "metadata": {
        "id": "zKWPN9LUeGGM",
        "colab_type": "text"
      },
      "source": [
        "### Cross Validation: Best Model Details"
      ]
    },
    {
      "cell_type": "code",
      "metadata": {
        "id": "RC1uWeFheGGO",
        "colab_type": "code",
        "outputId": "007c62ef-d2a5-4484-b7cd-63fb30615a85",
        "colab": {
          "base_uri": "https://localhost:8080/",
          "height": 181
        }
      },
      "source": [
        "print(\"R-Squared::{}\".format(grid_cv_dtr.best_score_))\n",
        "print(\"Best Hyperparameters::\\n{}\".format(grid_cv_dtr.best_params_))"
      ],
      "execution_count": 0,
      "outputs": [
        {
          "output_type": "error",
          "ename": "AttributeError",
          "evalue": "ignored",
          "traceback": [
            "\u001b[0;31m---------------------------------------------------------------------------\u001b[0m",
            "\u001b[0;31mAttributeError\u001b[0m                            Traceback (most recent call last)",
            "\u001b[0;32m<ipython-input-19-7b23fc4dfeaf>\u001b[0m in \u001b[0;36m<module>\u001b[0;34m()\u001b[0m\n\u001b[0;32m----> 1\u001b[0;31m \u001b[0mprint\u001b[0m\u001b[0;34m(\u001b[0m\u001b[0;34m\"R-Squared::{}\"\u001b[0m\u001b[0;34m.\u001b[0m\u001b[0mformat\u001b[0m\u001b[0;34m(\u001b[0m\u001b[0mgrid_cv_dtr\u001b[0m\u001b[0;34m.\u001b[0m\u001b[0mbest_score_\u001b[0m\u001b[0;34m)\u001b[0m\u001b[0;34m)\u001b[0m\u001b[0;34m\u001b[0m\u001b[0;34m\u001b[0m\u001b[0m\n\u001b[0m\u001b[1;32m      2\u001b[0m \u001b[0mprint\u001b[0m\u001b[0;34m(\u001b[0m\u001b[0;34m\"Best Hyperparameters::\\n{}\"\u001b[0m\u001b[0;34m.\u001b[0m\u001b[0mformat\u001b[0m\u001b[0;34m(\u001b[0m\u001b[0mgrid_cv_dtr\u001b[0m\u001b[0;34m.\u001b[0m\u001b[0mbest_params_\u001b[0m\u001b[0;34m)\u001b[0m\u001b[0;34m)\u001b[0m\u001b[0;34m\u001b[0m\u001b[0;34m\u001b[0m\u001b[0m\n",
            "\u001b[0;31mAttributeError\u001b[0m: 'GridSearchCV' object has no attribute 'best_score_'"
          ]
        }
      ]
    },
    {
      "cell_type": "code",
      "metadata": {
        "scrolled": false,
        "id": "4F1wcOjmeGGR",
        "colab_type": "code",
        "colab": {}
      },
      "source": [
        "df = pd.DataFrame(data=grid_cv_dtr.cv_results_)\n",
        "df.head()"
      ],
      "execution_count": 0,
      "outputs": []
    },
    {
      "cell_type": "code",
      "metadata": {
        "id": "OwwCPl_MeGGY",
        "colab_type": "code",
        "colab": {}
      },
      "source": [
        "fig,ax = plt.subplots()\n",
        "sn.pointplot(data=df[['mean_test_score',\n",
        "                           'param_max_leaf_nodes',\n",
        "                           'param_max_depth']],\n",
        "             y='mean_test_score',x='param_max_depth',\n",
        "             hue='param_max_leaf_nodes',ax=ax)\n",
        "ax.set(title=\"Effect of Depth and Leaf Nodes on Model Performance\")"
      ],
      "execution_count": 0,
      "outputs": []
    },
    {
      "cell_type": "code",
      "metadata": {
        "id": "etpLmKI-eGGl",
        "colab_type": "code",
        "colab": {}
      },
      "source": [
        "r2_scores = cross_val_score(grid_cv_dtr.best_estimator_, X, y, cv=10)\n",
        "mse_scores = cross_val_score(grid_cv_dtr.best_estimator_, X, y, cv=10,scoring='neg_mean_squared_error')"
      ],
      "execution_count": 0,
      "outputs": []
    },
    {
      "cell_type": "code",
      "metadata": {
        "id": "ra8ac5_AeGGs",
        "colab_type": "code",
        "colab": {}
      },
      "source": [
        "print(\"avg R-squared::{}\".format(np.mean(r2_scores)))\n",
        "print(\"MSE::{}\".format(np.mean(mse_scores)))"
      ],
      "execution_count": 0,
      "outputs": []
    },
    {
      "cell_type": "markdown",
      "metadata": {
        "id": "4jIoSQpYeGGv",
        "colab_type": "text"
      },
      "source": [
        "### Setting the model for Testing"
      ]
    },
    {
      "cell_type": "code",
      "metadata": {
        "id": "SpkH6w1peGGv",
        "colab_type": "code",
        "colab": {}
      },
      "source": [
        "best_dtr_model = grid_cv_dtr.best_estimator_"
      ],
      "execution_count": 0,
      "outputs": []
    },
    {
      "cell_type": "markdown",
      "metadata": {
        "id": "cBqyLBnneGGy",
        "colab_type": "text"
      },
      "source": [
        "## Test Dataset Performance"
      ]
    },
    {
      "cell_type": "code",
      "metadata": {
        "id": "GI-VAc9EeGG0",
        "colab_type": "code",
        "colab": {}
      },
      "source": [
        "test_encoded_attr_list = []\n",
        "for enc in encoded_attr_list:\n",
        "    col_name = enc['col_name']\n",
        "    le = enc['label_enc']\n",
        "    ohe = enc['ohe_enc']\n",
        "    test_encoded_attr_list.append({'feature_df':transform_ohe(X_test,le,ohe,col_name),\n",
        "                                   'col_name':col_name})\n",
        "    \n",
        "    \n",
        "test_feature_df_list = [X_test[numeric_feature_cols]]\n",
        "test_feature_df_list.extend([enc['feature_df'] for enc in test_encoded_attr_list if enc['col_name'] in subset_cat_features])\n",
        "\n",
        "test_df_new = pd.concat(test_feature_df_list, axis=1) \n",
        "print(\"Shape::{}\".format(test_df_new.shape))"
      ],
      "execution_count": 0,
      "outputs": []
    },
    {
      "cell_type": "code",
      "metadata": {
        "id": "5HkZ81BYeGG2",
        "colab_type": "code",
        "colab": {}
      },
      "source": [
        "X_test = test_df_new\n",
        "y_test = y_test.total_count.values.reshape(-1,1)"
      ],
      "execution_count": 0,
      "outputs": []
    },
    {
      "cell_type": "code",
      "metadata": {
        "id": "jRf2Q0xKeGG5",
        "colab_type": "code",
        "colab": {}
      },
      "source": [
        "y_pred = best_dtr_model.predict(X_test)\n",
        "residuals = y_test.flatten() - y_pred"
      ],
      "execution_count": 0,
      "outputs": []
    },
    {
      "cell_type": "code",
      "metadata": {
        "id": "dEWqHAlceGG9",
        "colab_type": "code",
        "colab": {}
      },
      "source": [
        "r2_score = best_dtr_model.score(X_test,y_test)\n",
        "print(\"R-squared::{}\".format(r2_score))\n",
        "print(\"MSE: %.2f\"\n",
        "      % metrics.mean_squared_error(y_test, y_pred))"
      ],
      "execution_count": 0,
      "outputs": []
    }
  ]
}