{
  "nbformat": 4,
  "nbformat_minor": 0,
  "metadata": {
    "colab": {
      "name": "IA_Saturdays_Day_4_Python_bootcamp.ipynb",
      "provenance": [],
      "collapsed_sections": []
    },
    "kernelspec": {
      "name": "python3",
      "display_name": "Python 3"
    }
  },
  "cells": [
    {
      "cell_type": "markdown",
      "metadata": {
        "id": "6Ta_GgcKniyk",
        "colab_type": "text"
      },
      "source": [
        "# **Python for data science and data analysis from scratch**\n"
      ]
    },
    {
      "cell_type": "markdown",
      "metadata": {
        "id": "MvJPHfudP0cq",
        "colab_type": "text"
      },
      "source": [
        "# Uso de **entornos virtuales** con Python\n",
        "\n",
        "Al desarrollar una aplicación en Python usualmente necesitaremos módulos y paquetes que no forman parte de la librería estándar, algunas veces vamos a necesitar una versión específica de las librerías, ya que cuando salen nuevas versiones, los métodos pueden tener un nuevo nombre o tener diferentes argumentos, haciendo obsoleta nuestra aplicación.\n",
        "\n",
        "Esto puede hacer que nuestras aplicaciones tengan requerimientos diferentes, por ejemplo, la aplicación A necesita la versión 1.0 de un módulo y la aplicación B necesitará la versión 2.0, aquí los requerimientos entran en conflicto, ya que si instalamos cualquiera de las versiones, evitará que corramos una de nuestras aplicaciones.\n",
        "\n",
        "La solución para este problema es crear un entorno virtual, que es un directorio autónomo que tiene una instalación de Python (con una versión específica) y paquetes adicionales instalados.\n",
        "\n",
        "Diferentes aplicaciones pueden usar entornos virtuales diferentes. En nuestro ejemplo, la aplicación A puede tener su propio entorno virtual con la versión 1.0 instalada, y la aplicación B otro entorno con la versión 2.0. Si cualquiera de nuestras aplicaciones necesita la versión 3.0 de la librería podemos instalarla en su entorno, sin afectar a otras.\n",
        "\n",
        "Para instalar paquetes en Python usaremos la herramienta **pip**, que viene ya incluída con Anaconda y Python.\n",
        "\n",
        "Podemos correr el siguiente comando para verificar que tenemos la herramienta instalada y nuestra versión de Python.\n",
        "\n",
        "```\n",
        "$ pip --version\n",
        "pip 19.2.3 from /Users/tania.reyes/opt/anaconda3/lib/python3.7/site-packages/pip (python 3.7)\n",
        "```\n",
        "\n",
        "A continuación, vamos a instalar el paquete de [virtualenv](https://packaging.python.org/guides/installing-using-pip-and-virtual-environments/) para Python 2, para Python 3, es recomendable usar venv que ya viene instalado como parte de las librerías estándar.\n",
        "\n",
        "Para instalar **virtualenv** en Mac y Linux:\n",
        "\n",
        "```\n",
        "python -m pip install --user virtualenv\n",
        "```\n",
        "\n",
        "Para instalar **virtualenv** en Windows:\n",
        "\n",
        "```\n",
        "py -m pip install --user virtualenv\n",
        "```"
      ]
    },
    {
      "cell_type": "markdown",
      "metadata": {
        "id": "KILNdKrkBiTu",
        "colab_type": "text"
      },
      "source": [
        "Ya que tenemos instalada nuestra herramienta, podemos bajar un repositorio de código o empezar nuestra propia aplicación, para este ejemplo usaremos el repositorio de [python-physics](https://github.com/szbokhar/python-physics).\n",
        "\n",
        "Una vez descargado, entramos al directorio y ejecutamos el siguiente comando:\n",
        "\n",
        "En Mac y Linux:\n",
        "\n",
        "```\n",
        "python3 -m venv env\n",
        "```\n",
        "En Windows:\n",
        "```\n",
        "py -m venv env\n",
        "```\n",
        "\n"
      ]
    },
    {
      "cell_type": "markdown",
      "metadata": {
        "id": "XtCVyzH0JSPP",
        "colab_type": "text"
      },
      "source": [
        "Antes de empezar a instalar los paquetes debemos activar el entorno virtual:\n",
        "\n",
        "En Mac y Linux:\n",
        "\n",
        "```\n",
        "source env/bin/activate\n",
        "```\n",
        "\n",
        "En Windows:\n",
        "\n",
        "```\n",
        ".\\env\\Scripts\\activate\n",
        "```\n"
      ]
    },
    {
      "cell_type": "markdown",
      "metadata": {
        "id": "tBc2cuypJ9ze",
        "colab_type": "text"
      },
      "source": [
        "Ahora usamos pip para instalar los requerimientos de nuestra aplicación, en nuestro ejemplo, la librería de pygame:\n",
        "\n",
        "\n",
        "\n",
        "```\n",
        "pip install -r pygame\n",
        "```\n",
        "\n",
        "\n"
      ]
    },
    {
      "cell_type": "markdown",
      "metadata": {
        "id": "dQ-bJYaGCa3S",
        "colab_type": "text"
      },
      "source": [
        "## Introducción a Machine Learning"
      ]
    },
    {
      "cell_type": "markdown",
      "metadata": {
        "id": "MmOQYncECfYw",
        "colab_type": "text"
      },
      "source": [
        "Hasta ahora hemos sido capaces de escribir instrucciones para que nuestro código realice diferentes acciones, por ejemplo, modificar cadenas, multiplicar números, leer archivos, etc.\n",
        "\n",
        "Pero, ¿qué instrucciones tendríamos que escribir para que un sistema pudiera escuchar un archivo de audio y transcribirlo?\n",
        "Pensemos por un momento todos los idiomas, palabras, acentos y variaciones que podríamos encontrar en el lenguaje humano. Escribir una serie de instrucciones a mano, que pudiera reconocer porciones de audio y decidir qué palabras representan sería una tarea eterna.\n",
        "\n",
        "Por otro lado el aprendizaje automático o machine learning nos da la tecnología que permite aprender estas reglas complejas aprendiendo de ejemplos etiquetados. Éstas entradas son llamadas datos de entrenamiento o training data y con esto tenemos una forma que es mucho más precisa y flexible que las reglas escritas a mano.\n",
        "\n",
        "Los algoritmos de Machine Learning usan métodos estadísticos y de ciencia computacional. Los primeros, permiten a los algoritmos inferir conclusiones de los datos y estimar qué tan confiables son esas conclusiones. Los métodos de la ciencia computacional le dan a los algoritmos el poder computacional necesario para resolver estos problemas, esto incluye arquitecturas computacionales, estructuras de datos, tecnologías y algoritmos para procesar, capturar, indexar, etc.\n"
      ]
    },
    {
      "cell_type": "markdown",
      "metadata": {
        "id": "TqAJfDoYQFyj",
        "colab_type": "text"
      },
      "source": [
        "### Aprendizaje supervisado y no supervisado\n",
        "\n",
        "\n",
        "La detección de fraude en las compras realizadas con una tarjeta de crédito, la recomendación de películas y el reconocimiento del lenguaje pueden ser categorizados como ejemplos de **lenguaje supervisado**, donde la meta es producir una respuesta asociada a una entrada.\n",
        "\n",
        "La respuesta es una categoría de un número finito de posibilidades, por ejemplo, en la detección de fraude las posibilidades son ‘fraude’ o ‘real’. En la detección del lenguaje será una palabra en un idioma específico. Esto es un problema de **clasificación** con aprendizaje supervisado y la función que aprende es llamada **clasificador**.\n",
        "\n",
        "El lenguaje supervisado necesita tener un dataset de entrenamiento con objetos etiquetados para hacer sus asignaciones de categorías.\n",
        "\n",
        "Éstas etiquetas normalmente son agregadas por personas que analizan los datos y asignan una categoría manualmente.\n",
        "\n",
        "Podemos tener datos sin categorías explícitas o etiquetas, aquí entra la segunda categoría de algoritmos de aprendizaje automático, el **aprendizaje no supervisado**, donde solamente tenemos los datos de entrada y debemos tratar de encontrar estructuras en ellos.\n",
        "\n",
        "Por estructura podemos referirnos a encontrar agrupamientos interesantes en los datos que nos muestren tendencias o comportamientos.\n"
      ]
    },
    {
      "cell_type": "markdown",
      "metadata": {
        "id": "G-QNyXIycNWQ",
        "colab_type": "text"
      },
      "source": [
        "Librerías que utilizaremos:\n",
        "\n",
        "---\n",
        "\n",
        "**Numpy**\n",
        "\n",
        "**Seaborn**\n",
        "\n",
        "**Pandas**\n",
        "\n",
        "---\n",
        "\n",
        "**Sklearn**\n",
        "\n",
        "Es una librería gratuita de machine learning para Python. Contiene algoritmos de clasificación, regresión, agrupamiento, entre muchos otros y está diseñada para trabajar junto con otras librerías numéricas y científicas de Python, como NumPy y SciPy."
      ]
    },
    {
      "cell_type": "code",
      "metadata": {
        "id": "qGlLMOUJl25e",
        "colab_type": "code",
        "outputId": "3883cc0d-d821-42ff-ec2b-de587f9b199d",
        "colab": {
          "base_uri": "https://localhost:8080/",
          "height": 71
        }
      },
      "source": [
        "import numpy as np\n",
        "import seaborn as sns\n",
        "import pandas as pd\n",
        "from sklearn.model_selection import train_test_split\n",
        "\n",
        "\n",
        "fruits = pd.read_table('s3://saturdays-ai/fruit_data_with_colors.txt')"
      ],
      "execution_count": 0,
      "outputs": [
        {
          "output_type": "stream",
          "text": [
            "/usr/local/lib/python3.6/dist-packages/statsmodels/tools/_testing.py:19: FutureWarning: pandas.util.testing is deprecated. Use the functions in the public API at pandas.testing instead.\n",
            "  import pandas.util.testing as tm\n"
          ],
          "name": "stderr"
        }
      ]
    },
    {
      "cell_type": "code",
      "metadata": {
        "id": "qKtbNiTuZX7-",
        "colab_type": "code",
        "outputId": "36433f26-2bc1-4505-84c7-4758a2ac601c",
        "colab": {
          "base_uri": "https://localhost:8080/",
          "height": 204
        }
      },
      "source": [
        "fruits.head()"
      ],
      "execution_count": 0,
      "outputs": [
        {
          "output_type": "execute_result",
          "data": {
            "text/html": [
              "<div>\n",
              "<style scoped>\n",
              "    .dataframe tbody tr th:only-of-type {\n",
              "        vertical-align: middle;\n",
              "    }\n",
              "\n",
              "    .dataframe tbody tr th {\n",
              "        vertical-align: top;\n",
              "    }\n",
              "\n",
              "    .dataframe thead th {\n",
              "        text-align: right;\n",
              "    }\n",
              "</style>\n",
              "<table border=\"1\" class=\"dataframe\">\n",
              "  <thead>\n",
              "    <tr style=\"text-align: right;\">\n",
              "      <th></th>\n",
              "      <th>fruit_label</th>\n",
              "      <th>fruit_name</th>\n",
              "      <th>fruit_subtype</th>\n",
              "      <th>mass</th>\n",
              "      <th>width</th>\n",
              "      <th>height</th>\n",
              "      <th>color_score</th>\n",
              "    </tr>\n",
              "  </thead>\n",
              "  <tbody>\n",
              "    <tr>\n",
              "      <th>0</th>\n",
              "      <td>1</td>\n",
              "      <td>apple</td>\n",
              "      <td>granny_smith</td>\n",
              "      <td>192</td>\n",
              "      <td>8.4</td>\n",
              "      <td>7.3</td>\n",
              "      <td>0.55</td>\n",
              "    </tr>\n",
              "    <tr>\n",
              "      <th>1</th>\n",
              "      <td>1</td>\n",
              "      <td>apple</td>\n",
              "      <td>granny_smith</td>\n",
              "      <td>180</td>\n",
              "      <td>8.0</td>\n",
              "      <td>6.8</td>\n",
              "      <td>0.59</td>\n",
              "    </tr>\n",
              "    <tr>\n",
              "      <th>2</th>\n",
              "      <td>1</td>\n",
              "      <td>apple</td>\n",
              "      <td>granny_smith</td>\n",
              "      <td>176</td>\n",
              "      <td>7.4</td>\n",
              "      <td>7.2</td>\n",
              "      <td>0.60</td>\n",
              "    </tr>\n",
              "    <tr>\n",
              "      <th>3</th>\n",
              "      <td>2</td>\n",
              "      <td>mandarin</td>\n",
              "      <td>mandarin</td>\n",
              "      <td>86</td>\n",
              "      <td>6.2</td>\n",
              "      <td>4.7</td>\n",
              "      <td>0.80</td>\n",
              "    </tr>\n",
              "    <tr>\n",
              "      <th>4</th>\n",
              "      <td>2</td>\n",
              "      <td>mandarin</td>\n",
              "      <td>mandarin</td>\n",
              "      <td>84</td>\n",
              "      <td>6.0</td>\n",
              "      <td>4.6</td>\n",
              "      <td>0.79</td>\n",
              "    </tr>\n",
              "  </tbody>\n",
              "</table>\n",
              "</div>"
            ],
            "text/plain": [
              "   fruit_label fruit_name fruit_subtype  mass  width  height  color_score\n",
              "0            1      apple  granny_smith   192    8.4     7.3         0.55\n",
              "1            1      apple  granny_smith   180    8.0     6.8         0.59\n",
              "2            1      apple  granny_smith   176    7.4     7.2         0.60\n",
              "3            2   mandarin      mandarin    86    6.2     4.7         0.80\n",
              "4            2   mandarin      mandarin    84    6.0     4.6         0.79"
            ]
          },
          "metadata": {
            "tags": []
          },
          "execution_count": 2
        }
      ]
    },
    {
      "cell_type": "code",
      "metadata": {
        "id": "FuyJyViLZbfR",
        "colab_type": "code",
        "outputId": "adbc42b6-22a5-4410-e0b0-7fa4aa5b2a12",
        "colab": {
          "base_uri": "https://localhost:8080/",
          "height": 34
        }
      },
      "source": [
        "lookup_fruit_name = dict(zip(fruits.fruit_label.unique(), fruits.fruit_name.unique()))   \n",
        "lookup_fruit_name\n"
      ],
      "execution_count": 0,
      "outputs": [
        {
          "output_type": "execute_result",
          "data": {
            "text/plain": [
              "{1: 'apple', 2: 'mandarin', 3: 'orange', 4: 'lemon'}"
            ]
          },
          "metadata": {
            "tags": []
          },
          "execution_count": 3
        }
      ]
    },
    {
      "cell_type": "markdown",
      "metadata": {
        "id": "T_RSHtppZ-ul",
        "colab_type": "text"
      },
      "source": [
        "### Examinando los datos"
      ]
    },
    {
      "cell_type": "code",
      "metadata": {
        "id": "8f_vyNyXaDCo",
        "colab_type": "code",
        "outputId": "4469a7ce-ddb5-4cf8-f9db-638bb68a6436",
        "colab": {
          "base_uri": "https://localhost:8080/",
          "height": 764
        }
      },
      "source": [
        "import seaborn as sns\n",
        "sns.set(style=\"ticks\")\n",
        "\n",
        "sns.pairplot(fruits, vars=['height', 'width', 'mass', 'color_score'], hue=\"fruit_name\")\n"
      ],
      "execution_count": 0,
      "outputs": [
        {
          "output_type": "execute_result",
          "data": {
            "text/plain": [
              "<seaborn.axisgrid.PairGrid at 0x7f9c58aa8080>"
            ]
          },
          "metadata": {
            "tags": []
          },
          "execution_count": 4
        },
        {
          "output_type": "display_data",
          "data": {
            "image/png": "[encoded data removed]",
            "text/plain": [
              "<Figure size 812.6x720 with 20 Axes>"
            ]
          },
          "metadata": {
            "tags": []
          }
        }
      ]
    },
    {
      "cell_type": "markdown",
      "metadata": {
        "id": "dqYZyRB4aNlG",
        "colab_type": "text"
      },
      "source": [
        "### Dividir los datos para entrenamiento y prueba\n",
        "\n",
        "\n",
        "Un punto importante antes de crear nuestro clasificador, es definir cómo vamos a validar su exactitud. Para esto, no podemos usar los datos de entrenamiento, ya que nuestro clasificador necesita ser flexible para trabajar con nuevos datos que podamos agregar en el futuro. \n",
        "\n",
        "Una solución es dividir los datos en dos partes, una de entrenamiento y la otra para pruebas.\n",
        "\n",
        "Scikit-learn tiene una función para esto, llamada [train_test_split](https://scikit-learn.org/stable/modules/generated/sklearn.model_selection.train_test_split.html), la cual toma datos de manera aleatoria y los divide en 4 variables.\n",
        "\n"
      ]
    },
    {
      "cell_type": "code",
      "metadata": {
        "id": "9V6eJiWuaYt1",
        "colab_type": "code",
        "colab": {}
      },
      "source": [
        "\n",
        "X = fruits[['mass', 'width', 'height']]\n",
        "y = fruits['fruit_label']\n",
        "\n",
        "# default is 75% / 25% train-test split\n",
        "X_train, X_test, y_train, y_test = train_test_split(X, y, random_state=0)\n"
      ],
      "execution_count": 0,
      "outputs": []
    },
    {
      "cell_type": "code",
      "metadata": {
        "id": "LO4tq5b9dRmN",
        "colab_type": "code",
        "outputId": "8662bdfd-1f9d-4265-9f10-ab68948f7ae8",
        "colab": {
          "base_uri": "https://localhost:8080/",
          "height": 1000
        }
      },
      "source": [
        "print(X_train)\n",
        "print('-' * 20)\n",
        "print(X_test)\n",
        "print('-' * 20)\n",
        "print(y_train)\n",
        "print('-' * 20)\n",
        "y_test"
      ],
      "execution_count": 0,
      "outputs": [
        {
          "output_type": "stream",
          "text": [
            "    mass  width  height\n",
            "42   154    7.2     7.2\n",
            "48   174    7.3    10.1\n",
            "7     76    5.8     4.0\n",
            "14   152    7.6     7.3\n",
            "32   164    7.2     7.0\n",
            "49   132    5.8     8.7\n",
            "29   160    7.0     7.4\n",
            "37   154    7.3     7.3\n",
            "56   116    5.9     8.1\n",
            "18   162    7.5     7.1\n",
            "55   116    6.3     7.7\n",
            "27   204    7.5     9.2\n",
            "15   156    7.7     7.1\n",
            "5     80    5.8     4.3\n",
            "31   210    7.8     8.0\n",
            "16   156    7.6     7.5\n",
            "50   130    6.0     8.2\n",
            "20   160    7.5     7.5\n",
            "51   116    6.0     7.5\n",
            "8    178    7.1     7.8\n",
            "13   164    7.3     7.7\n",
            "25   356    9.2     9.2\n",
            "17   168    7.5     7.6\n",
            "58   118    6.1     8.1\n",
            "57   152    6.5     8.5\n",
            "52   118    5.9     8.0\n",
            "38   158    7.2     7.8\n",
            "1    180    8.0     6.8\n",
            "12   154    7.0     7.1\n",
            "45   186    7.2     9.2\n",
            "24   342    9.0     9.4\n",
            "6     80    5.9     4.3\n",
            "23   170    7.6     7.9\n",
            "36   160    7.1     7.6\n",
            "21   156    7.4     7.4\n",
            "19   162    7.4     7.2\n",
            "9    172    7.4     7.0\n",
            "39   144    6.8     7.4\n",
            "54   116    6.1     8.5\n",
            "3     86    6.2     4.7\n",
            "0    192    8.4     7.3\n",
            "53   120    6.0     8.4\n",
            "47   196    7.3     9.7\n",
            "44   200    7.3    10.5\n",
            "--------------------\n",
            "    mass  width  height\n",
            "26   362    9.6     9.2\n",
            "35   150    7.1     7.9\n",
            "43   194    7.2    10.3\n",
            "28   140    6.7     7.1\n",
            "11   172    7.1     7.6\n",
            "2    176    7.4     7.2\n",
            "34   142    7.6     7.8\n",
            "46   216    7.3    10.2\n",
            "40   154    7.1     7.5\n",
            "22   140    7.3     7.1\n",
            "4     84    6.0     4.6\n",
            "10   166    6.9     7.3\n",
            "30   158    7.1     7.5\n",
            "41   180    7.6     8.2\n",
            "33   190    7.5     8.1\n",
            "--------------------\n",
            "42    3\n",
            "48    4\n",
            "7     2\n",
            "14    1\n",
            "32    3\n",
            "49    4\n",
            "29    3\n",
            "37    3\n",
            "56    4\n",
            "18    1\n",
            "55    4\n",
            "27    3\n",
            "15    1\n",
            "5     2\n",
            "31    3\n",
            "16    1\n",
            "50    4\n",
            "20    1\n",
            "51    4\n",
            "8     1\n",
            "13    1\n",
            "25    3\n",
            "17    1\n",
            "58    4\n",
            "57    4\n",
            "52    4\n",
            "38    3\n",
            "1     1\n",
            "12    1\n",
            "45    4\n",
            "24    3\n",
            "6     2\n",
            "23    1\n",
            "36    3\n",
            "21    1\n",
            "19    1\n",
            "9     1\n",
            "39    3\n",
            "54    4\n",
            "3     2\n",
            "0     1\n",
            "53    4\n",
            "47    4\n",
            "44    4\n",
            "Name: fruit_label, dtype: int64\n",
            "--------------------\n"
          ],
          "name": "stdout"
        },
        {
          "output_type": "execute_result",
          "data": {
            "text/plain": [
              "26    3\n",
              "35    3\n",
              "43    4\n",
              "28    3\n",
              "11    1\n",
              "2     1\n",
              "34    3\n",
              "46    4\n",
              "40    3\n",
              "22    1\n",
              "4     2\n",
              "10    1\n",
              "30    3\n",
              "41    3\n",
              "33    3\n",
              "Name: fruit_label, dtype: int64"
            ]
          },
          "metadata": {
            "tags": []
          },
          "execution_count": 7
        }
      ]
    },
    {
      "cell_type": "markdown",
      "metadata": {
        "id": "g7lIZhdCaUOO",
        "colab_type": "text"
      },
      "source": [
        "### Crear el clasificador\n",
        "\n",
        "Para nuestro primer clasificador usaremos el algoritmo de k-nearest neighbors, el cual puede ser utilizado para clasificación y regresión.\n",
        "\n",
        "k-NN es un ejemplo de los algoritmos basados en memoria, esto significa que memoriza los ejemplos etiquetados y los usan para clasificar nuevos objetos.\n",
        "\n",
        "La k in k-NN se refiera al número de vecinos más cercanos que el clasificador va a recibir para hacer su predicción.\n",
        "\n",
        "![knn](https://saturdays-ai.s3-us-west-2.amazonaws.com/Screen+Shot+2020-05-03+at+1.00.39+PM.png)"
      ]
    },
    {
      "cell_type": "code",
      "metadata": {
        "id": "iyMXSSCyabqb",
        "colab_type": "code",
        "colab": {}
      },
      "source": [
        "from sklearn.neighbors import KNeighborsClassifier\n",
        "\n",
        "knn = KNeighborsClassifier(n_neighbors = 5)"
      ],
      "execution_count": 0,
      "outputs": []
    },
    {
      "cell_type": "markdown",
      "metadata": {
        "id": "iYE5N6XWagKD",
        "colab_type": "text"
      },
      "source": [
        "### Entrenar el clasificador, con los datos para entrenamiento"
      ]
    },
    {
      "cell_type": "code",
      "metadata": {
        "id": "XOPZjbUhaj0L",
        "colab_type": "code",
        "outputId": "f5228606-6271-4b1d-c27d-3f4824bb2453",
        "colab": {
          "base_uri": "https://localhost:8080/",
          "height": 68
        }
      },
      "source": [
        "knn.fit(X_train, y_train)"
      ],
      "execution_count": 0,
      "outputs": [
        {
          "output_type": "execute_result",
          "data": {
            "text/plain": [
              "KNeighborsClassifier(algorithm='auto', leaf_size=30, metric='minkowski',\n",
              "                     metric_params=None, n_jobs=None, n_neighbors=5, p=2,\n",
              "                     weights='uniform')"
            ]
          },
          "metadata": {
            "tags": []
          },
          "execution_count": 9
        }
      ]
    },
    {
      "cell_type": "markdown",
      "metadata": {
        "id": "BrKLiLT1anbr",
        "colab_type": "text"
      },
      "source": [
        "### Estimar la precisión que tendrá el clasificador, con datos futuros"
      ]
    },
    {
      "cell_type": "code",
      "metadata": {
        "id": "cSI-VqUXas_2",
        "colab_type": "code",
        "outputId": "5f95e4be-39b9-4c6c-ad10-2817584b762c",
        "colab": {
          "base_uri": "https://localhost:8080/",
          "height": 34
        }
      },
      "source": [
        "knn.score(X_test, y_test)"
      ],
      "execution_count": 0,
      "outputs": [
        {
          "output_type": "execute_result",
          "data": {
            "text/plain": [
              "0.5333333333333333"
            ]
          },
          "metadata": {
            "tags": []
          },
          "execution_count": 10
        }
      ]
    },
    {
      "cell_type": "markdown",
      "metadata": {
        "id": "b2ZEv5QIaxHO",
        "colab_type": "text"
      },
      "source": [
        "### Usar el clasificador ya entrenado, para clasificar nuevos objetos que no venían en el dataset"
      ]
    },
    {
      "cell_type": "code",
      "metadata": {
        "id": "6lXTC47yazk2",
        "colab_type": "code",
        "outputId": "698a8214-bf78-4590-ad93-f1bf56793096",
        "colab": {
          "base_uri": "https://localhost:8080/",
          "height": 51
        }
      },
      "source": [
        "# primer ejemplo: una fruta pequena, con una masa de 20g, ancho de 4.3 cm y altura de 5.5 cm\n",
        "fruit_prediction = knn.predict([[20, 4.3, 5.5]])\n",
        "print(fruit_prediction)\n",
        "lookup_fruit_name[fruit_prediction[0]]"
      ],
      "execution_count": 0,
      "outputs": [
        {
          "output_type": "stream",
          "text": [
            "[2]\n"
          ],
          "name": "stdout"
        },
        {
          "output_type": "execute_result",
          "data": {
            "text/plain": [
              "'mandarin'"
            ]
          },
          "metadata": {
            "tags": []
          },
          "execution_count": 12
        }
      ]
    },
    {
      "cell_type": "code",
      "metadata": {
        "id": "_c3CfKB9a1MJ",
        "colab_type": "code",
        "outputId": "90685174-7dc5-4349-c390-9e64ab59997a",
        "colab": {
          "base_uri": "https://localhost:8080/",
          "height": 34
        }
      },
      "source": [
        "# segundo ejemplo: una fruta mas grande, con una masa de 100g, ancho de 6.3 cm y alto de 8.5 cm\n",
        "fruit_prediction = knn.predict([[100, 6.3, 8.5]])\n",
        "lookup_fruit_name[fruit_prediction[0]]"
      ],
      "execution_count": 0,
      "outputs": [
        {
          "output_type": "execute_result",
          "data": {
            "text/plain": [
              "'lemon'"
            ]
          },
          "metadata": {
            "tags": []
          },
          "execution_count": 13
        }
      ]
    },
    {
      "cell_type": "markdown",
      "metadata": {
        "id": "eBDPgdeeEIt3",
        "colab_type": "text"
      },
      "source": [
        "**Ejercicio**\n",
        "\n",
        "El algoritmo de [knn](https://scikit-learn.org/stable/modules/neighbors.html) puede ser 'tuneado' cambiando los parámetros de entrada, por ejemplo, el número de k, como ejercicio, podemos leer la documentación y ver si alguna combinación de argumentos nos da mejores resultados.\n"
      ]
    },
    {
      "cell_type": "code",
      "metadata": {
        "id": "d6eFVpLfFrqY",
        "colab_type": "code",
        "outputId": "5bbfa2e5-94c2-481b-a7ce-3a374f20d8dd",
        "colab": {
          "base_uri": "https://localhost:8080/",
          "height": 34
        }
      },
      "source": [
        "knn = KNeighborsClassifier(n_neighbors=4, weights='distance')\n",
        "\n",
        "knn.fit(X_train, y_train)\n",
        "knn.score(X_test, y_test)"
      ],
      "execution_count": 0,
      "outputs": [
        {
          "output_type": "execute_result",
          "data": {
            "text/plain": [
              "0.7333333333333333"
            ]
          },
          "metadata": {
            "tags": []
          },
          "execution_count": 14
        }
      ]
    }
  ]
}