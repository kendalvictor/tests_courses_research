{
  "nbformat": 4,
  "nbformat_minor": 0,
  "metadata": {
    "colab": {
      "name": "IA_Saturdays_Day_9_Python_bootcamp.ipynb",
      "provenance": [],
      "collapsed_sections": []
    },
    "kernelspec": {
      "name": "python3",
      "display_name": "Python 3"
    }
  },
  "cells": [
    {
      "cell_type": "markdown",
      "metadata": {
        "id": "ncKNMp3FJPAj",
        "colab_type": "text"
      },
      "source": [
        "# **Python for data science and data analysis from scratch**"
      ]
    },
    {
      "cell_type": "markdown",
      "metadata": {
        "id": "408p-5cFla4m",
        "colab_type": "text"
      },
      "source": [
        "# Pasos a seguir en el proyecto\n",
        "\n",
        "\n",
        "1. Análisis exploratorio de datos\n",
        "\n",
        "2. Limpieza y formateo de datos\n",
        "\n",
        "3. Ingeniería y selección de características\n",
        "\n",
        "4. Comparar varios modelos de machine learning y medir exactitud\n",
        "\n",
        "5. Realizar el afinamiento de los hiperparámetros en el mejor modelo\n",
        "\n",
        "6. Evaluar el mejor modelo en el conjunto de pruebas\n",
        "\n",
        "7. Interpretar los resultados del modelo"
      ]
    },
    {
      "cell_type": "markdown",
      "metadata": {
        "id": "weOtL5QNHB-U",
        "colab_type": "text"
      },
      "source": [
        "Para nuestro ejercicio:\n",
        "\n",
        "[https://www.kaggle.com/c/dogs-vs-cats](https://www.kaggle.com/c/dogs-vs-cats)"
      ]
    },
    {
      "cell_type": "markdown",
      "metadata": {
        "id": "l5U_zUn9jddn",
        "colab_type": "text"
      },
      "source": [
        "# Sitios web\n",
        "\n",
        "[Kaggle](https://www.kaggle.com/learn/overview)\n",
        "\n",
        "Contiene datasets, competencias y cursos de diferentes temas.\n",
        "\n",
        "[pyimagesearch](https://www.pyimagesearch.com/)\n",
        "\n",
        "Tutoriales y libros sobre procesamiento de imágenes y visión por computadora.\n",
        "\n",
        "\n",
        "[ai.google](https://ai.google/education/)\n",
        "\n",
        "Diferentes cursos con temas muy variados.\n"
      ]
    },
    {
      "cell_type": "markdown",
      "metadata": {
        "id": "wfDDqMaRvks5",
        "colab_type": "text"
      },
      "source": [
        "# Cursos en aprendizaje automático\n",
        "\n",
        "[Machine Learning](https://www.coursera.org/learn/machine-learning)\n",
        "\n",
        "\n",
        "[Serie de videos para deep learning](https://www.youtube.com/playlist?list=PLZHQObOWTQDNU6R1_67000Dx_ZCJB-3pi)\n",
        "\n",
        "[Natural Language Processing](https://www.coursera.org/learn/language-processing)\n",
        "\n",
        "[Deep Learning in Computer Vision](https://www.coursera.org/learn/deep-learning-in-computer-vision)\n",
        "\n",
        "\n"
      ]
    },
    {
      "cell_type": "markdown",
      "metadata": {
        "id": "rRqakSxndMbN",
        "colab_type": "text"
      },
      "source": [
        "# Libros\n",
        "\n",
        "https://www.amazon.in/Machine-Learning-Absolute-Beginners-Introduction/dp/1549617214/\n",
        "\n",
        "https://learning.oreilly.com/library/view/programming-computer-vision/9781449341916/\n",
        "\n",
        "https://learning.oreilly.com/library/view/hands-on-machine-learning/9781492032632/\n",
        "\n",
        "https://learning.oreilly.com/library/view/introduction-to-machine/9781449369880/\n",
        "\n",
        "https://learning.oreilly.com/library/view/practical-machine-learning/9781484232071/\n",
        "\n",
        "https://learning.oreilly.com/library/view/machine-learning-for/9781119245513/\n",
        "\n",
        "https://learning.oreilly.com/library/view/deep-learning-for/9781119543046/\n",
        "\n",
        "https://learning.oreilly.com/library/view/machine-learning-with/9780134845708/"
      ]
    }
  ]
}