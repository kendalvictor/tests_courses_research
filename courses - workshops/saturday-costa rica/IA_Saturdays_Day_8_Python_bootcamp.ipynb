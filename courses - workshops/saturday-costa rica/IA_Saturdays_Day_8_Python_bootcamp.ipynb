{
  "nbformat": 4,
  "nbformat_minor": 0,
  "metadata": {
    "colab": {
      "name": "IA_Saturdays_Day_8_Python_bootcamp.ipynb",
      "provenance": [],
      "collapsed_sections": []
    },
    "kernelspec": {
      "name": "python3",
      "display_name": "Python 3"
    }
  },
  "cells": [
    {
      "cell_type": "markdown",
      "metadata": {
        "id": "ncKNMp3FJPAj",
        "colab_type": "text"
      },
      "source": [
        "# **Python for data science and data analysis from scratch**"
      ]
    },
    {
      "cell_type": "markdown",
      "metadata": {
        "id": "wfDDqMaRvks5",
        "colab_type": "text"
      },
      "source": [
        "Librerías que utilizaremos en esta sesión\n",
        "\n",
        "**numpy**\n",
        "\n",
        "**matplotlib**\n",
        "\n",
        "\n",
        "\n",
        "---\n",
        "\n",
        "\n",
        "\n",
        "**tensorflow**\n",
        "\n",
        "Plataforma de código abierto para machine learning, fue desarrollada por Google.\n",
        "\n",
        "**keras**\n",
        "\n",
        "Librería de código libre para redes neuronales en Python.\n",
        "\n",
        "\n"
      ]
    },
    {
      "cell_type": "markdown",
      "metadata": {
        "id": "FfGUrwQ6JXod",
        "colab_type": "text"
      },
      "source": [
        "Las redes neuronales son un conjunto de algoritmos diseñados especialmente para reconocer patrones.\n",
        "\n",
        "Pueden resolver problemas que son fáciles para un humano, pero complejos para un algoritmo.\n",
        "\n",
        "Las redes neuronales intentan emular la forma en la que creemos funciona el cerebro humano.\n",
        "\n",
        "Éstas redes están constituídas por entidades llamadas **neuronas**. \n",
        "\n",
        "Las neuronas reciben datos de entrada de otras neuronas, los procesan, y producen datos de salida que envian a otras neuronas, con tantos niveles o capas como deseemos, hasta que la información llega a las últimas neuronas de la red, que muestran el resultado que buscamos.\n",
        "\n",
        "Cada conexión entre dos neuronas tiene un peso distinto. Al peso le llamamos w, del inglés weight.\n",
        "\n",
        "![red neuronal](https://mongemalo.com/wp-content/uploads/2018/12/red-neuronal-1024x753.jpg)\n",
        "\n",
        "Los datos que llegan a cada neurona se pasan por una función matemática llamada de activación. Como lo que queremos es que la red sea capaz de resolver problemas cada vez más complejos, las funciones de activación generalmente harán que los modelos sean no lineales. \n",
        "\n",
        "[Visualización interactiva de redes neuronales.](https://playground.tensorflow.org/)\n"
      ]
    },
    {
      "cell_type": "markdown",
      "metadata": {
        "id": "RQ7d-97FugLD",
        "colab_type": "text"
      },
      "source": [
        "El dataset que usaremos es el de Fashion-MNIST, el cual consiste en un conjunto de 60,000 imágenes de prendas para entrenamiento y 10,000 para ejemplos de prueba.\n",
        "\n",
        "Cada ejemplo es una imagen de 28X28 pixeles, en escala de grises, con una de 10 posibles etiquetas asignada.\n",
        "\n",
        "<img src=\"https://tensorflow.org/images/fashion-mnist-sprite.png\"\n",
        "         alt=\"Fashion MNIST sprite\"  width=\"600\">"
      ]
    },
    {
      "cell_type": "markdown",
      "metadata": {
        "id": "RSPV3mhlJ_p8",
        "colab_type": "text"
      },
      "source": [
        "Para nuestra sesión usaremos las redes neuronales para predecir que tipo de prenda estamos viendo en la imagen."
      ]
    },
    {
      "cell_type": "code",
      "metadata": {
        "id": "Lz-0YmnLJJ3r",
        "colab_type": "code",
        "colab": {}
      },
      "source": [
        "import tensorflow as tf\n",
        "from tensorflow import keras\n",
        "import numpy as np\n",
        "import matplotlib.pyplot as plt"
      ],
      "execution_count": 0,
      "outputs": []
    },
    {
      "cell_type": "code",
      "metadata": {
        "id": "vFEn-1mlxmDB",
        "colab_type": "code",
        "outputId": "6d252aaf-a9bd-431c-c16c-bc549f850bc9",
        "colab": {
          "base_uri": "https://localhost:8080/",
          "height": 153
        }
      },
      "source": [
        "fashion_mnist = keras.datasets.fashion_mnist\n",
        "\n",
        "(train_images, train_labels), (test_images, test_labels) = fashion_mnist.load_data()\n",
        "\n"
      ],
      "execution_count": 0,
      "outputs": [
        {
          "output_type": "stream",
          "text": [
            "Downloading data from https://storage.googleapis.com/tensorflow/tf-keras-datasets/train-labels-idx1-ubyte.gz\n",
            "32768/29515 [=================================] - 0s 0us/step\n",
            "Downloading data from https://storage.googleapis.com/tensorflow/tf-keras-datasets/train-images-idx3-ubyte.gz\n",
            "26427392/26421880 [==============================] - 0s 0us/step\n",
            "Downloading data from https://storage.googleapis.com/tensorflow/tf-keras-datasets/t10k-labels-idx1-ubyte.gz\n",
            "8192/5148 [===============================================] - 0s 0us/step\n",
            "Downloading data from https://storage.googleapis.com/tensorflow/tf-keras-datasets/t10k-images-idx3-ubyte.gz\n",
            "4423680/4422102 [==============================] - 0s 0us/step\n"
          ],
          "name": "stdout"
        }
      ]
    },
    {
      "cell_type": "code",
      "metadata": {
        "id": "Z42tUrGowS1r",
        "colab_type": "code",
        "outputId": "f6df6d18-843a-40ba-8dd7-5651e767273c",
        "colab": {
          "base_uri": "https://localhost:8080/",
          "height": 867
        }
      },
      "source": [
        "print(train_images)\n",
        "print(train_labels)"
      ],
      "execution_count": 0,
      "outputs": [
        {
          "output_type": "stream",
          "text": [
            "[[[0 0 0 ... 0 0 0]\n",
            "  [0 0 0 ... 0 0 0]\n",
            "  [0 0 0 ... 0 0 0]\n",
            "  ...\n",
            "  [0 0 0 ... 0 0 0]\n",
            "  [0 0 0 ... 0 0 0]\n",
            "  [0 0 0 ... 0 0 0]]\n",
            "\n",
            " [[0 0 0 ... 0 0 0]\n",
            "  [0 0 0 ... 0 0 0]\n",
            "  [0 0 0 ... 0 0 0]\n",
            "  ...\n",
            "  [0 0 0 ... 0 0 0]\n",
            "  [0 0 0 ... 0 0 0]\n",
            "  [0 0 0 ... 0 0 0]]\n",
            "\n",
            " [[0 0 0 ... 0 0 0]\n",
            "  [0 0 0 ... 0 0 0]\n",
            "  [0 0 0 ... 0 0 0]\n",
            "  ...\n",
            "  [0 0 0 ... 0 0 0]\n",
            "  [0 0 0 ... 0 0 0]\n",
            "  [0 0 0 ... 0 0 0]]\n",
            "\n",
            " ...\n",
            "\n",
            " [[0 0 0 ... 0 0 0]\n",
            "  [0 0 0 ... 0 0 0]\n",
            "  [0 0 0 ... 0 0 0]\n",
            "  ...\n",
            "  [0 0 0 ... 0 0 0]\n",
            "  [0 0 0 ... 0 0 0]\n",
            "  [0 0 0 ... 0 0 0]]\n",
            "\n",
            " [[0 0 0 ... 0 0 0]\n",
            "  [0 0 0 ... 0 0 0]\n",
            "  [0 0 0 ... 0 0 0]\n",
            "  ...\n",
            "  [0 0 0 ... 0 0 0]\n",
            "  [0 0 0 ... 0 0 0]\n",
            "  [0 0 0 ... 0 0 0]]\n",
            "\n",
            " [[0 0 0 ... 0 0 0]\n",
            "  [0 0 0 ... 0 0 0]\n",
            "  [0 0 0 ... 0 0 0]\n",
            "  ...\n",
            "  [0 0 0 ... 0 0 0]\n",
            "  [0 0 0 ... 0 0 0]\n",
            "  [0 0 0 ... 0 0 0]]]\n",
            "[9 0 0 ... 3 0 5]\n"
          ],
          "name": "stdout"
        }
      ]
    },
    {
      "cell_type": "markdown",
      "metadata": {
        "id": "vm3vORjJ5-UX",
        "colab_type": "text"
      },
      "source": [
        "Al cargar el dataset regresa 4 arreglos NumPy.\n",
        "\n",
        "Las etiquetas corresponden a los siguientes clases:\n",
        "\n",
        "<table>\n",
        "  <tbody><tr>\n",
        "    <th>Etiqueta</th>\n",
        "    <th>Clase</th>\n",
        "  </tr>\n",
        "  <tr>\n",
        "    <td>0</td>\n",
        "    <td>T-shirt/top</td>\n",
        "  </tr>\n",
        "  <tr>\n",
        "    <td>1</td>\n",
        "    <td>Trouser</td>\n",
        "  </tr>\n",
        "    <tr>\n",
        "    <td>2</td>\n",
        "    <td>Pullover</td>\n",
        "  </tr>\n",
        "    <tr>\n",
        "    <td>3</td>\n",
        "    <td>Dress</td>\n",
        "  </tr>\n",
        "    <tr>\n",
        "    <td>4</td>\n",
        "    <td>Coat</td>\n",
        "  </tr>\n",
        "    <tr>\n",
        "    <td>5</td>\n",
        "    <td>Sandal</td>\n",
        "  </tr>\n",
        "    <tr>\n",
        "    <td>6</td>\n",
        "    <td>Shirt</td>\n",
        "  </tr>\n",
        "    <tr>\n",
        "    <td>7</td>\n",
        "    <td>Sneaker</td>\n",
        "  </tr>\n",
        "    <tr>\n",
        "    <td>8</td>\n",
        "    <td>Bag</td>\n",
        "  </tr>\n",
        "    <tr>\n",
        "    <td>9</td>\n",
        "    <td>Ankle boot</td>\n",
        "  </tr>\n",
        "</tbody></table>"
      ]
    },
    {
      "cell_type": "code",
      "metadata": {
        "id": "SqKs8T6OxrrQ",
        "colab_type": "code",
        "colab": {}
      },
      "source": [
        "class_names = ['T-shirt/top', 'Trouser', 'Pullover', 'Dress', 'Coat',\n",
        "               'Sandal', 'Shirt', 'Sneaker', 'Bag', 'Ankle boot']\n"
      ],
      "execution_count": 0,
      "outputs": []
    },
    {
      "cell_type": "code",
      "metadata": {
        "id": "AjrmzluZxuTC",
        "colab_type": "code",
        "outputId": "977f4962-20c1-4ebd-83cc-67e262229fde",
        "colab": {
          "base_uri": "https://localhost:8080/",
          "height": 34
        }
      },
      "source": [
        "train_images.shape"
      ],
      "execution_count": 0,
      "outputs": [
        {
          "output_type": "execute_result",
          "data": {
            "text/plain": [
              "(60000, 28, 28)"
            ]
          },
          "metadata": {
            "tags": []
          },
          "execution_count": 4
        }
      ]
    },
    {
      "cell_type": "markdown",
      "metadata": {
        "id": "LLUGdmdv6waD",
        "colab_type": "text"
      },
      "source": [
        "## Pre procesamiento de los datos\n",
        "\n",
        "Los datos deben ser pre procesados antes de entrenar la red. \n",
        "\n",
        "Si inspeccionamos las imágenes veremos que los valores caen en el rango de 0 a 255."
      ]
    },
    {
      "cell_type": "code",
      "metadata": {
        "id": "ygbl2cu7xzgF",
        "colab_type": "code",
        "outputId": "0504e910-322b-4f99-907a-95abce154d2a",
        "colab": {
          "base_uri": "https://localhost:8080/",
          "height": 269
        }
      },
      "source": [
        "plt.figure()\n",
        "plt.imshow(train_images[1000])\n",
        "plt.colorbar()\n",
        "plt.grid(False)\n",
        "plt.show()\n"
      ],
      "execution_count": 0,
      "outputs": [
        {
          "output_type": "display_data",
          "data": {
            "image/png": "[encoded data removed]",
            "text/plain": [
              "<Figure size 432x288 with 2 Axes>"
            ]
          },
          "metadata": {
            "tags": [],
            "needs_background": "light"
          }
        }
      ]
    },
    {
      "cell_type": "markdown",
      "metadata": {
        "id": "X0QldTHO7G9h",
        "colab_type": "text"
      },
      "source": [
        "\n",
        "Necesitamos escalar los valores a un rango entre 0 y 1 antes de alimentar la red neuronal. \n",
        "\n",
        "Es importante pre procesar ambos dataset, el de entrenamiento y pruebas."
      ]
    },
    {
      "cell_type": "code",
      "metadata": {
        "id": "-wOe3kfCx2lY",
        "colab_type": "code",
        "colab": {}
      },
      "source": [
        "train_images = train_images / 255.0\n",
        "\n",
        "test_images = test_images / 255.0\n"
      ],
      "execution_count": 0,
      "outputs": []
    },
    {
      "cell_type": "markdown",
      "metadata": {
        "id": "DyrVL2Fp7rXi",
        "colab_type": "text"
      },
      "source": [
        "Para verificar que los datos están etiquetados correctamente mostramos los primeros 25 ejemplos con sus etiquetas:"
      ]
    },
    {
      "cell_type": "code",
      "metadata": {
        "id": "wTAGcW9ax417",
        "colab_type": "code",
        "outputId": "6268bb9a-b796-43e4-b075-72f711536c44",
        "colab": {
          "base_uri": "https://localhost:8080/",
          "height": 589
        }
      },
      "source": [
        "plt.figure(figsize=(10,10))\n",
        "for i in range(25):\n",
        "    plt.subplot(5,5,i+1)\n",
        "    plt.xticks([])\n",
        "    plt.yticks([])\n",
        "    plt.grid(False)\n",
        "    plt.imshow(train_images[i], cmap=plt.cm.binary)\n",
        "    plt.xlabel(class_names[train_labels[i]])\n",
        "plt.show()\n"
      ],
      "execution_count": 0,
      "outputs": [
        {
          "output_type": "display_data",
          "data": {
            "image/png": "[encoded data removed]",
            "text/plain": [
              "<Figure size 720x720 with 25 Axes>"
            ]
          },
          "metadata": {
            "tags": []
          }
        }
      ]
    },
    {
      "cell_type": "markdown",
      "metadata": {
        "id": "DJQZVx3A8BMm",
        "colab_type": "text"
      },
      "source": [
        "## Construir el modelo\n",
        "\n",
        "Construirlo requiere configurar sus capas y después compilarlo.\n",
        "\n",
        "### Configurar las capas\n",
        "\n",
        "Las capas extraen representaciones de loos datos que las alimentaron.\n",
        "\n",
        "La primer capa de la red, transforma el formato de la imagen de un arreglo de dos dimensiones (28X28) a un arreglo lineal de 784 elementos. Esta capa no aprende, solo da formato a los datos.\n",
        "\n",
        "Después hay dos capas `tf.keras.layers.Dense`. La segunda, regresa un arreglo de longitud 10.\n",
        "\n",
        "\n",
        "\n"
      ]
    },
    {
      "cell_type": "code",
      "metadata": {
        "id": "UP2xFvxtx7HE",
        "colab_type": "code",
        "colab": {}
      },
      "source": [
        "model = keras.Sequential([\n",
        "    keras.layers.Flatten(input_shape=(28, 28)),\n",
        "    keras.layers.Dense(128, activation='relu'),\n",
        "    keras.layers.Dense(10)\n",
        "])\n"
      ],
      "execution_count": 0,
      "outputs": []
    },
    {
      "cell_type": "markdown",
      "metadata": {
        "id": "lXAfwSpTAhQx",
        "colab_type": "text"
      },
      "source": [
        "### Compilar el modelo\n",
        "\n",
        "Hay algunos parámetros que tenemos que especificar antes de compilar el modelo:\n",
        "\n",
        "* La función de pérdida (loss).\n",
        "\n",
        "* Un Optimizador (optimizer).\n",
        "\n",
        "* Un conjunto de métricas para medir el modelo (metrics)."
      ]
    },
    {
      "cell_type": "code",
      "metadata": {
        "id": "Xk8beFXex9QW",
        "colab_type": "code",
        "colab": {}
      },
      "source": [
        "model.compile(optimizer='adam',\n",
        "              loss=tf.keras.losses.SparseCategoricalCrossentropy(from_logits=True),\n",
        "              metrics=['accuracy'])\n"
      ],
      "execution_count": 0,
      "outputs": []
    },
    {
      "cell_type": "markdown",
      "metadata": {
        "id": "c9Jh2DtNAq06",
        "colab_type": "text"
      },
      "source": [
        "## Entrenar el modelo\n",
        "\n",
        "Entrenar al modelo requiere los siguientes pasos:\n",
        "\n",
        "1. Alimentar los datos de entrenamiento al modelo.\n",
        "2. El modelo aprende a asociar imágenes y etiquetas.\n",
        "3. Pedimos al modelo que realice predicciones sobre el dataset de pruebas.\n",
        "4. Verificamos que las predicciones coincidan con las etiquetas en el arreglo de test_labels\n",
        "\n",
        "### Alimentar al modelo\n",
        "\n",
        "Con 10 vueltas o pasos.\n"
      ]
    },
    {
      "cell_type": "code",
      "metadata": {
        "id": "HnYIsk-mx_J-",
        "colab_type": "code",
        "outputId": "a377f29c-2222-4f89-ec14-b8a53a1dfe69",
        "colab": {
          "base_uri": "https://localhost:8080/",
          "height": 374
        }
      },
      "source": [
        "model.fit(train_images, train_labels, epochs=10)\n"
      ],
      "execution_count": 0,
      "outputs": [
        {
          "output_type": "stream",
          "text": [
            "Epoch 1/10\n",
            "1875/1875 [==============================] - 4s 2ms/step - loss: 0.4963 - accuracy: 0.8257\n",
            "Epoch 2/10\n",
            "1875/1875 [==============================] - 4s 2ms/step - loss: 0.3746 - accuracy: 0.8633\n",
            "Epoch 3/10\n",
            "1875/1875 [==============================] - 4s 2ms/step - loss: 0.3346 - accuracy: 0.8777\n",
            "Epoch 4/10\n",
            "1875/1875 [==============================] - 4s 2ms/step - loss: 0.3092 - accuracy: 0.8862\n",
            "Epoch 5/10\n",
            "1875/1875 [==============================] - 4s 2ms/step - loss: 0.2923 - accuracy: 0.8909\n",
            "Epoch 6/10\n",
            "1875/1875 [==============================] - 4s 2ms/step - loss: 0.2749 - accuracy: 0.8978\n",
            "Epoch 7/10\n",
            "1875/1875 [==============================] - 4s 2ms/step - loss: 0.2637 - accuracy: 0.9015\n",
            "Epoch 8/10\n",
            "1875/1875 [==============================] - 4s 2ms/step - loss: 0.2536 - accuracy: 0.9046\n",
            "Epoch 9/10\n",
            "1875/1875 [==============================] - 4s 2ms/step - loss: 0.2446 - accuracy: 0.9079\n",
            "Epoch 10/10\n",
            "1875/1875 [==============================] - 4s 2ms/step - loss: 0.2358 - accuracy: 0.9123\n"
          ],
          "name": "stdout"
        },
        {
          "output_type": "execute_result",
          "data": {
            "text/plain": [
              "<tensorflow.python.keras.callbacks.History at 0x7fc8a3466160>"
            ]
          },
          "metadata": {
            "tags": []
          },
          "execution_count": 16
        }
      ]
    },
    {
      "cell_type": "code",
      "metadata": {
        "id": "mG4ISjjcyBV-",
        "colab_type": "code",
        "outputId": "2cfb940b-6251-425c-ce19-dd65f5acb8cd",
        "colab": {
          "base_uri": "https://localhost:8080/",
          "height": 68
        }
      },
      "source": [
        "test_loss, test_acc = model.evaluate(test_images,  test_labels, verbose=2)\n",
        "\n",
        "print('\\nTest accuracy:', test_acc)\n"
      ],
      "execution_count": 0,
      "outputs": [
        {
          "output_type": "stream",
          "text": [
            "313/313 - 0s - loss: 0.3379 - accuracy: 0.8785\n",
            "\n",
            "Test accuracy: 0.8784999847412109\n"
          ],
          "name": "stdout"
        }
      ]
    },
    {
      "cell_type": "code",
      "metadata": {
        "id": "_Txwhb_RyDqS",
        "colab_type": "code",
        "colab": {}
      },
      "source": [
        "probability_model = tf.keras.Sequential([model, \n",
        "                                         tf.keras.layers.Softmax()])\n"
      ],
      "execution_count": 0,
      "outputs": []
    },
    {
      "cell_type": "markdown",
      "metadata": {
        "id": "yTKL1FZvDrDQ",
        "colab_type": "text"
      },
      "source": [
        "### Hacer predicciones\n"
      ]
    },
    {
      "cell_type": "code",
      "metadata": {
        "id": "P67d9-C8yFhE",
        "colab_type": "code",
        "colab": {}
      },
      "source": [
        "predictions = probability_model.predict(test_images)\n"
      ],
      "execution_count": 0,
      "outputs": []
    },
    {
      "cell_type": "code",
      "metadata": {
        "id": "PdmDWBMYyHQJ",
        "colab_type": "code",
        "outputId": "afc0d2da-8182-4834-f8e4-2d0dd1763eca",
        "colab": {
          "base_uri": "https://localhost:8080/",
          "height": 68
        }
      },
      "source": [
        "predictions[0]\n"
      ],
      "execution_count": 0,
      "outputs": [
        {
          "output_type": "execute_result",
          "data": {
            "text/plain": [
              "array([8.4885933e-08, 2.6535913e-08, 3.6952095e-08, 4.1922098e-07,\n",
              "       1.5677578e-07, 3.9893258e-04, 1.4559554e-07, 5.4592896e-02,\n",
              "       1.4278144e-06, 9.4500583e-01], dtype=float32)"
            ]
          },
          "metadata": {
            "tags": []
          },
          "execution_count": 20
        }
      ]
    },
    {
      "cell_type": "code",
      "metadata": {
        "id": "c_Py2tWSyJKP",
        "colab_type": "code",
        "outputId": "c0ce4dc8-7396-4381-ff03-e1c36a2f3973",
        "colab": {
          "base_uri": "https://localhost:8080/",
          "height": 34
        }
      },
      "source": [
        "np.argmax(predictions[1000])\n"
      ],
      "execution_count": 0,
      "outputs": [
        {
          "output_type": "execute_result",
          "data": {
            "text/plain": [
              "6"
            ]
          },
          "metadata": {
            "tags": []
          },
          "execution_count": 23
        }
      ]
    },
    {
      "cell_type": "code",
      "metadata": {
        "id": "DCm-bEe0yK7K",
        "colab_type": "code",
        "outputId": "a0b9fad7-adae-4985-aa37-ac2b183556fe",
        "colab": {
          "base_uri": "https://localhost:8080/",
          "height": 34
        }
      },
      "source": [
        "test_labels[1000]\n"
      ],
      "execution_count": 0,
      "outputs": [
        {
          "output_type": "execute_result",
          "data": {
            "text/plain": [
              "0"
            ]
          },
          "metadata": {
            "tags": []
          },
          "execution_count": 24
        }
      ]
    },
    {
      "cell_type": "markdown",
      "metadata": {
        "id": "Wm2I7sVBDu-r",
        "colab_type": "text"
      },
      "source": [
        "### Verificar predicciones"
      ]
    },
    {
      "cell_type": "code",
      "metadata": {
        "id": "Rtnbj-H-yN_x",
        "colab_type": "code",
        "colab": {}
      },
      "source": [
        "def plot_image(i, predictions_array, true_label, img):\n",
        "  predictions_array, true_label, img = predictions_array, true_label[i], img[i]\n",
        "  plt.grid(False)\n",
        "  plt.xticks([])\n",
        "  plt.yticks([])\n",
        "\n",
        "  plt.imshow(img, cmap=plt.cm.binary)\n",
        "\n",
        "  predicted_label = np.argmax(predictions_array)\n",
        "  if predicted_label == true_label:\n",
        "    color = 'blue'\n",
        "  else:\n",
        "    color = 'red'\n",
        "\n",
        "  plt.xlabel(\"{} {:2.0f}% ({})\".format(class_names[predicted_label],\n",
        "                                100*np.max(predictions_array),\n",
        "                                class_names[true_label]),\n",
        "                                color=color)\n",
        "\n",
        "def plot_value_array(i, predictions_array, true_label):\n",
        "  predictions_array, true_label = predictions_array, true_label[i]\n",
        "  plt.grid(False)\n",
        "  plt.xticks(range(10))\n",
        "  plt.yticks([])\n",
        "  thisplot = plt.bar(range(10), predictions_array, color=\"#777777\")\n",
        "  plt.ylim([0, 1])\n",
        "  predicted_label = np.argmax(predictions_array)\n",
        "\n",
        "  thisplot[predicted_label].set_color('red')\n",
        "  thisplot[true_label].set_color('blue')\n"
      ],
      "execution_count": 0,
      "outputs": []
    },
    {
      "cell_type": "code",
      "metadata": {
        "id": "J0ANX-oGygmV",
        "colab_type": "code",
        "outputId": "af713590-d9ba-40e3-8af3-4103a633d90a",
        "colab": {
          "base_uri": "https://localhost:8080/",
          "height": 211
        }
      },
      "source": [
        "i = 100\n",
        "plt.figure(figsize=(6,3))\n",
        "plt.subplot(1,2,1)\n",
        "plot_image(i, predictions[i], test_labels, test_images)\n",
        "plt.subplot(1,2,2)\n",
        "plot_value_array(i, predictions[i],  test_labels)\n",
        "plt.show()\n"
      ],
      "execution_count": 0,
      "outputs": [
        {
          "output_type": "display_data",
          "data": {
            "image/png": "[encoded data removed]",
            "text/plain": [
              "<Figure size 432x216 with 2 Axes>"
            ]
          },
          "metadata": {
            "tags": [],
            "needs_background": "light"
          }
        }
      ]
    },
    {
      "cell_type": "code",
      "metadata": {
        "id": "UQ-Sk1B5yjeb",
        "colab_type": "code",
        "outputId": "51bea015-e906-4c98-b07b-eb7de703cc4d",
        "colab": {
          "base_uri": "https://localhost:8080/",
          "height": 729
        }
      },
      "source": [
        "num_rows = 5\n",
        "num_cols = 3\n",
        "num_images = num_rows*num_cols\n",
        "plt.figure(figsize=(2*2*num_cols, 2*num_rows))\n",
        "for i in range(num_images):\n",
        "  plt.subplot(num_rows, 2*num_cols, 2*i+1)\n",
        "  plot_image(i, predictions[i], test_labels, test_images)\n",
        "  plt.subplot(num_rows, 2*num_cols, 2*i+2)\n",
        "  plot_value_array(i, predictions[i], test_labels)\n",
        "plt.tight_layout()\n",
        "plt.show()\n"
      ],
      "execution_count": 0,
      "outputs": [
        {
          "output_type": "display_data",
          "data": {
            "image/png": "[encoded data removed]",
            "text/plain": [
              "<Figure size 864x720 with 30 Axes>"
            ]
          },
          "metadata": {
            "tags": [],
            "needs_background": "light"
          }
        }
      ]
    },
    {
      "cell_type": "markdown",
      "metadata": {
        "id": "ueSxeyvFD1sL",
        "colab_type": "text"
      },
      "source": [
        "**Ejercicio**\n",
        "\n",
        "Utilizar el dataset de MNIST y entrenar una red neuronal para predecir que dígito aparece en una imagen.\n",
        "Cuántos nodos en la primera y última capa vamos a necesitar?\n",
        "\n",
        "Otros dataset que Keras incluye: [jovianlin.io/datasets-within-keras](https://jovianlin.io/datasets-within-keras)."
      ]
    },
    {
      "cell_type": "code",
      "metadata": {
        "id": "vQnepuv6EjLV",
        "colab_type": "code",
        "colab": {}
      },
      "source": [
        "from keras.datasets import mnist\n",
        "(x_train, y_train), (x_test, y_test) = mnist.load_data()\n"
      ],
      "execution_count": 0,
      "outputs": []
    }
  ]
}