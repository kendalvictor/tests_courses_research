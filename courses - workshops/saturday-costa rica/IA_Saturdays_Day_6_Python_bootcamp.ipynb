{
  "nbformat": 4,
  "nbformat_minor": 0,
  "metadata": {
    "colab": {
      "name": "IA_Saturdays_Day_6_Python_bootcamp.ipynb",
      "provenance": [],
      "collapsed_sections": []
    },
    "kernelspec": {
      "name": "python3",
      "display_name": "Python 3"
    }
  },
  "cells": [
    {
      "cell_type": "markdown",
      "metadata": {
        "id": "6VuGdsCimwp8",
        "colab_type": "text"
      },
      "source": [
        "# **Python for data science and data analysis from scratch**"
      ]
    },
    {
      "cell_type": "markdown",
      "metadata": {
        "id": "Yuch4Tnwm2j-",
        "colab_type": "text"
      },
      "source": [
        "# NLP Natural Language Processing\n",
        "\n"
      ]
    },
    {
      "cell_type": "markdown",
      "metadata": {
        "id": "GRRFkuajqMCN",
        "colab_type": "text"
      },
      "source": [
        "Librerías que usaremos en esta sesión:\n",
        "\n",
        "**numpy**\n",
        "\n",
        "**pandas**\n",
        "\n",
        "**matplotlib**\n",
        "\n",
        "**scikit-learn**\n",
        "\n",
        "---\n",
        "\n",
        "\n",
        "**re**\n",
        "\n",
        "Módulo nativo de Python que contiene operaciones de para \n",
        "\n",
        "---\n",
        "\n",
        "\n",
        "**nltk**\n",
        "\n",
        "Es un grupo de librerías para procesamiento de lenguaje natural en idioma inglés"
      ]
    },
    {
      "cell_type": "markdown",
      "metadata": {
        "id": "bdKqElKfTqVw",
        "colab_type": "text"
      },
      "source": [
        "En esta sesión usaremos la librería de **scikit-learn** para hacer análisis de sentimientos usando datos obtenidos de Twitter.\n",
        "El análisis de sentimientos es una de las aplicaciones de procesamiento de lenguaje más populares.\n",
        "En la industria es usado para analizar encuestas, datos de redes sociales, críticas a productos, lugares, etc. La idea es analizar y entender las reacciones de las personas por un objeto en específico y tomar acciones al respecto.\n",
        "La idea clave en este análisis es usar técnicas de análisis, NLP, aprendizaje automático y reglas lingüísticas para extraer información importante del texto.\n",
        "Para asignar una polaridad al texto se usa un 0 cuando el sentimiento es neutral, valores menores a 0 cuando es negativo y mayores a 0 cuando es positivo.\n"
      ]
    },
    {
      "cell_type": "code",
      "metadata": {
        "id": "8mxtd3YawJ4Z",
        "colab_type": "code",
        "outputId": "bfce9252-ac2d-43a5-b36b-86ce6b69c156",
        "colab": {
          "base_uri": "https://localhost:8080/",
          "height": 72
        }
      },
      "source": [
        "import numpy as np \n",
        "import pandas as pd \n",
        "import re\n",
        "import nltk \n",
        "import matplotlib.pyplot as plt\n",
        "import seaborn as sns\n",
        "from sklearn.model_selection import train_test_split\n",
        "from sklearn.feature_extraction.text import TfidfVectorizer\n",
        "from sklearn.ensemble import RandomForestClassifier\n",
        "from sklearn.metrics import classification_report, confusion_matrix, accuracy_score"
      ],
      "execution_count": 0,
      "outputs": [
        {
          "output_type": "stream",
          "text": [
            "/usr/local/lib/python3.6/dist-packages/statsmodels/tools/_testing.py:19: FutureWarning: pandas.util.testing is deprecated. Use the functions in the public API at pandas.testing instead.\n",
            "  import pandas.util.testing as tm\n"
          ],
          "name": "stderr"
        }
      ]
    },
    {
      "cell_type": "markdown",
      "metadata": {
        "id": "oOx3Ofh3Tsnq",
        "colab_type": "text"
      },
      "source": [
        "## Definición del problema\n",
        "\n",
        "Con tweets que hablan de aerolíneas, vamos a predecir si contienen comentarios positivos, negativos o neutrales acerca de la aerolínea.\n"
      ]
    },
    {
      "cell_type": "code",
      "metadata": {
        "id": "LVJQSKBKx_R7",
        "colab_type": "code",
        "colab": {}
      },
      "source": [
        "data_source_url = \"https://saturdays-ai.s3-us-west-2.amazonaws.com/Tweets.csv\"\n",
        "airline_tweets = pd.read_csv(data_source_url)"
      ],
      "execution_count": 0,
      "outputs": []
    },
    {
      "cell_type": "code",
      "metadata": {
        "id": "sQgalb7yyDwS",
        "colab_type": "code",
        "outputId": "9fdbdd3f-73e8-4776-8197-6ca253075daa",
        "colab": {
          "base_uri": "https://localhost:8080/",
          "height": 452
        }
      },
      "source": [
        "airline_tweets.head()"
      ],
      "execution_count": 0,
      "outputs": [
        {
          "output_type": "execute_result",
          "data": {
            "text/html": [
              "<div>\n",
              "<style scoped>\n",
              "    .dataframe tbody tr th:only-of-type {\n",
              "        vertical-align: middle;\n",
              "    }\n",
              "\n",
              "    .dataframe tbody tr th {\n",
              "        vertical-align: top;\n",
              "    }\n",
              "\n",
              "    .dataframe thead th {\n",
              "        text-align: right;\n",
              "    }\n",
              "</style>\n",
              "<table border=\"1\" class=\"dataframe\">\n",
              "  <thead>\n",
              "    <tr style=\"text-align: right;\">\n",
              "      <th></th>\n",
              "      <th>tweet_id</th>\n",
              "      <th>airline_sentiment</th>\n",
              "      <th>airline_sentiment_confidence</th>\n",
              "      <th>negativereason</th>\n",
              "      <th>negativereason_confidence</th>\n",
              "      <th>airline</th>\n",
              "      <th>airline_sentiment_gold</th>\n",
              "      <th>name</th>\n",
              "      <th>negativereason_gold</th>\n",
              "      <th>retweet_count</th>\n",
              "      <th>text</th>\n",
              "      <th>tweet_coord</th>\n",
              "      <th>tweet_created</th>\n",
              "      <th>tweet_location</th>\n",
              "      <th>user_timezone</th>\n",
              "    </tr>\n",
              "  </thead>\n",
              "  <tbody>\n",
              "    <tr>\n",
              "      <th>0</th>\n",
              "      <td>570306133677760513</td>\n",
              "      <td>neutral</td>\n",
              "      <td>1.0000</td>\n",
              "      <td>NaN</td>\n",
              "      <td>NaN</td>\n",
              "      <td>Virgin America</td>\n",
              "      <td>NaN</td>\n",
              "      <td>cairdin</td>\n",
              "      <td>NaN</td>\n",
              "      <td>0</td>\n",
              "      <td>@VirginAmerica What @dhepburn said.</td>\n",
              "      <td>NaN</td>\n",
              "      <td>2015-02-24 11:35:52 -0800</td>\n",
              "      <td>NaN</td>\n",
              "      <td>Eastern Time (US &amp; Canada)</td>\n",
              "    </tr>\n",
              "    <tr>\n",
              "      <th>1</th>\n",
              "      <td>570301130888122368</td>\n",
              "      <td>positive</td>\n",
              "      <td>0.3486</td>\n",
              "      <td>NaN</td>\n",
              "      <td>0.0000</td>\n",
              "      <td>Virgin America</td>\n",
              "      <td>NaN</td>\n",
              "      <td>jnardino</td>\n",
              "      <td>NaN</td>\n",
              "      <td>0</td>\n",
              "      <td>@VirginAmerica plus you've added commercials t...</td>\n",
              "      <td>NaN</td>\n",
              "      <td>2015-02-24 11:15:59 -0800</td>\n",
              "      <td>NaN</td>\n",
              "      <td>Pacific Time (US &amp; Canada)</td>\n",
              "    </tr>\n",
              "    <tr>\n",
              "      <th>2</th>\n",
              "      <td>570301083672813571</td>\n",
              "      <td>neutral</td>\n",
              "      <td>0.6837</td>\n",
              "      <td>NaN</td>\n",
              "      <td>NaN</td>\n",
              "      <td>Virgin America</td>\n",
              "      <td>NaN</td>\n",
              "      <td>yvonnalynn</td>\n",
              "      <td>NaN</td>\n",
              "      <td>0</td>\n",
              "      <td>@VirginAmerica I didn't today... Must mean I n...</td>\n",
              "      <td>NaN</td>\n",
              "      <td>2015-02-24 11:15:48 -0800</td>\n",
              "      <td>Lets Play</td>\n",
              "      <td>Central Time (US &amp; Canada)</td>\n",
              "    </tr>\n",
              "    <tr>\n",
              "      <th>3</th>\n",
              "      <td>570301031407624196</td>\n",
              "      <td>negative</td>\n",
              "      <td>1.0000</td>\n",
              "      <td>Bad Flight</td>\n",
              "      <td>0.7033</td>\n",
              "      <td>Virgin America</td>\n",
              "      <td>NaN</td>\n",
              "      <td>jnardino</td>\n",
              "      <td>NaN</td>\n",
              "      <td>0</td>\n",
              "      <td>@VirginAmerica it's really aggressive to blast...</td>\n",
              "      <td>NaN</td>\n",
              "      <td>2015-02-24 11:15:36 -0800</td>\n",
              "      <td>NaN</td>\n",
              "      <td>Pacific Time (US &amp; Canada)</td>\n",
              "    </tr>\n",
              "    <tr>\n",
              "      <th>4</th>\n",
              "      <td>570300817074462722</td>\n",
              "      <td>negative</td>\n",
              "      <td>1.0000</td>\n",
              "      <td>Can't Tell</td>\n",
              "      <td>1.0000</td>\n",
              "      <td>Virgin America</td>\n",
              "      <td>NaN</td>\n",
              "      <td>jnardino</td>\n",
              "      <td>NaN</td>\n",
              "      <td>0</td>\n",
              "      <td>@VirginAmerica and it's a really big bad thing...</td>\n",
              "      <td>NaN</td>\n",
              "      <td>2015-02-24 11:14:45 -0800</td>\n",
              "      <td>NaN</td>\n",
              "      <td>Pacific Time (US &amp; Canada)</td>\n",
              "    </tr>\n",
              "  </tbody>\n",
              "</table>\n",
              "</div>"
            ],
            "text/plain": [
              "             tweet_id  ...               user_timezone\n",
              "0  570306133677760513  ...  Eastern Time (US & Canada)\n",
              "1  570301130888122368  ...  Pacific Time (US & Canada)\n",
              "2  570301083672813571  ...  Central Time (US & Canada)\n",
              "3  570301031407624196  ...  Pacific Time (US & Canada)\n",
              "4  570300817074462722  ...  Pacific Time (US & Canada)\n",
              "\n",
              "[5 rows x 15 columns]"
            ]
          },
          "metadata": {
            "tags": []
          },
          "execution_count": 3
        }
      ]
    },
    {
      "cell_type": "markdown",
      "metadata": {
        "id": "43oBOznHXDpY",
        "colab_type": "text"
      },
      "source": [
        "## Análisis de los datos\n",
        "\n",
        "Primero vamos a visualizar nuestro dataset para ver si encontramos alguna tendencia.\n",
        "\n",
        "Vamos a crear una gráfica, para ver el porcentaje de tweets que hablan de cada aerolínea.\n"
      ]
    },
    {
      "cell_type": "code",
      "metadata": {
        "id": "a8KHdE3syImK",
        "colab_type": "code",
        "outputId": "e242281e-a99e-4f57-cb6a-0160e8e2e23e",
        "colab": {
          "base_uri": "https://localhost:8080/",
          "height": 266
        }
      },
      "source": [
        "airline_tweets.airline.value_counts().plot(kind='pie', autopct='%1.0f%%')"
      ],
      "execution_count": 0,
      "outputs": [
        {
          "output_type": "execute_result",
          "data": {
            "text/plain": [
              "<matplotlib.axes._subplots.AxesSubplot at 0x7faf5b655588>"
            ]
          },
          "metadata": {
            "tags": []
          },
          "execution_count": 4
        },
        {
          "output_type": "display_data",
          "data": {
            "image/png": "[encoded data removed]",
            "text/plain": [
              "<Figure size 432x288 with 1 Axes>"
            ]
          },
          "metadata": {
            "tags": []
          }
        }
      ]
    },
    {
      "cell_type": "markdown",
      "metadata": {
        "id": "X3q_8reHXisX",
        "colab_type": "text"
      },
      "source": [
        "Ahora, vamos a ver la distribución de los sentimientos en los tweets\n"
      ]
    },
    {
      "cell_type": "code",
      "metadata": {
        "id": "KbDRLAQYyMTs",
        "colab_type": "code",
        "outputId": "e18a6daf-fc1a-4c88-9211-5e8f69426710",
        "colab": {
          "base_uri": "https://localhost:8080/",
          "height": 266
        }
      },
      "source": [
        "airline_tweets.airline_sentiment.value_counts().plot(kind='pie', autopct='%1.0f%%', colors=[\"red\", \"yellow\", \"green\"])"
      ],
      "execution_count": 0,
      "outputs": [
        {
          "output_type": "execute_result",
          "data": {
            "text/plain": [
              "<matplotlib.axes._subplots.AxesSubplot at 0x7faf5b593470>"
            ]
          },
          "metadata": {
            "tags": []
          },
          "execution_count": 5
        },
        {
          "output_type": "display_data",
          "data": {
            "image/png": "[encoded data removed]",
            "text/plain": [
              "<Figure size 432x288 with 1 Axes>"
            ]
          },
          "metadata": {
            "tags": []
          }
        }
      ]
    },
    {
      "cell_type": "markdown",
      "metadata": {
        "id": "sM56ABeWXlZ_",
        "colab_type": "text"
      },
      "source": [
        "También podemos visualizar la distribución de sentimientos para cada aerolínea\n"
      ]
    },
    {
      "cell_type": "code",
      "metadata": {
        "id": "vkXpOL6ryQC5",
        "colab_type": "code",
        "outputId": "02920b38-b21b-4944-e4db-f9f801f6e3cc",
        "colab": {
          "base_uri": "https://localhost:8080/",
          "height": 361
        }
      },
      "source": [
        "airline_sentiment = airline_tweets.groupby(['airline', 'airline_sentiment']).airline_sentiment.count().unstack()\n",
        "airline_sentiment.plot(kind='bar')"
      ],
      "execution_count": 0,
      "outputs": [
        {
          "output_type": "execute_result",
          "data": {
            "text/plain": [
              "<matplotlib.axes._subplots.AxesSubplot at 0x7faf5b0aa400>"
            ]
          },
          "metadata": {
            "tags": []
          },
          "execution_count": 6
        },
        {
          "output_type": "display_data",
          "data": {
            "image/png": "[encoded data removed]",
            "text/plain": [
              "<Figure size 432x288 with 1 Axes>"
            ]
          },
          "metadata": {
            "tags": [],
            "needs_background": "light"
          }
        }
      ]
    },
    {
      "cell_type": "markdown",
      "metadata": {
        "id": "edZXXLNlB7_u",
        "colab_type": "text"
      },
      "source": [
        "## Expresiones regulares Regex\n",
        "\n",
        "Son una secuencia de caracteres que conforma un patrón de búsqueda.\n",
        "\n",
        "<table>\n",
        "  <tr>\n",
        "    <th>Carácter</th>\n",
        "    <th>Significado</th>\n",
        "  </tr>\n",
        "  <tr>\n",
        "    <td>.</td>\n",
        "    <td>Cualquier carácter</td>\n",
        "  </tr>\n",
        "  <tr>\n",
        "    <td>\\d</td>\n",
        "    <td>Representa un dígito del 0 al 9.</td>\n",
        "  </tr>\n",
        "  <tr>\n",
        "    <td>\\w</td>\n",
        "    <td>Representa cualquier carácter alfanumérico.</td>\n",
        "  </tr>\n",
        "  <tr>\n",
        "    <td>\\s</td>\n",
        "    <td>Representa un espacio en blanco.</td>\n",
        "  </tr>\n",
        "  <tr>\n",
        "    <td>\\D</td>\n",
        "    <td>Representa cualquier carácter que no sea un dígito del 0 al 9.</td>\n",
        "  </tr>\n",
        "  <tr>\n",
        "    <td>\\W</td>\n",
        "    <td>Representa cualquier carácter no alfanumérico.</td>\n",
        "  </tr>\n",
        "  <tr>\n",
        "    <td>\\S</td>\n",
        "    <td>Representa cualquier carácter que no sea un espacio en blanco.</td>\n",
        "  </tr>\n",
        "  <tr>\n",
        "    <td>[ ]</td>\n",
        "    <td>Representa cualquier grupo de caractéres que estén dentro de los corchetes.</td>\n",
        "  </tr>\n",
        "  <tr>\n",
        "    <td>{n}</td>\n",
        "    <td>Las llaves con un número representan la búsqueda n número de veces.</td>\n",
        "  </tr>\n",
        "  <tr>\n",
        "    <td>+</td>\n",
        "    <td>Se utiliza para encontrar una cadena que se encuentre repetida una o más veces.</td>\n",
        "  </tr>\n",
        "  <tr>\n",
        "    <td>*</td>\n",
        "    <td>Se utiliza para encontrar una cadena que se encuentre repetida cero o más veces.</td>\n",
        "  </tr>\n",
        "  </tr>\n",
        "  <tr>\n",
        "    <td>^</td>\n",
        "    <td>Representa la búsqueda al inicio de la cadena, dentro de corchetes es negación.</td>\n",
        "  </tr>\n",
        "  <tr>\n",
        "    <td>$</td>\n",
        "    <td>Representa la búsqueda al final de la cadena.</td>\n",
        "  </tr>\n",
        "  <tr>\n",
        "    <td>|</td>\n",
        "    <td>Sirve para indicar una de varias opciones.</td>\n",
        "  </tr>\n",
        "</table>\n",
        "\n",
        "\n"
      ]
    },
    {
      "cell_type": "code",
      "metadata": {
        "id": "y8D-9GLIvQDC",
        "colab_type": "code",
        "outputId": "ca3377a4-0660-4348-eca6-64bbc7dfd177",
        "colab": {
          "base_uri": "https://localhost:8080/",
          "height": 35
        }
      },
      "source": [
        "import re\n",
        "\n",
        "line = '01/04/2020, 444-222-3333 es un teléfono, 01/04/2020 es una fecha, 555-333-9999';\n",
        "\n",
        "matchObj = re.search( r'[0-9]{3}-\\d{3}-\\d{4}', line)\n",
        "\n",
        "if matchObj:\n",
        "   print(\"match: \", matchObj.group())\n",
        "else:\n",
        "  print('No match')"
      ],
      "execution_count": 0,
      "outputs": [
        {
          "output_type": "stream",
          "text": [
            "match:  444-222-3333\n"
          ],
          "name": "stdout"
        }
      ]
    },
    {
      "cell_type": "markdown",
      "metadata": {
        "id": "IYXTexsIx4vu",
        "colab_type": "text"
      },
      "source": [
        "**Ejercicio**\n",
        "\n",
        "1. Crear una expresión regular que busque correos electrónicos\n",
        "2. Crear una expresión regular que busque fechas con el formato dd/mm/aaaa"
      ]
    },
    {
      "cell_type": "code",
      "metadata": {
        "id": "DLXCmBFKx3vU",
        "colab_type": "code",
        "outputId": "c4a25293-f7a7-4db7-8ee3-a670e943c98e",
        "colab": {
          "base_uri": "https://localhost:8080/",
          "height": 35
        }
      },
      "source": [
        "import re\n",
        "line = 'Este correo no es valido: #$()!ai@saturdays.com, este es un correo valido: tania@saturdays.ai'\n",
        "\n",
        "matchObj = matchObj = re.search( r'\\w@\\w+\\.\\w+', line)\n",
        "\n",
        "if matchObj:\n",
        "   print(\"match: \", matchObj.group())\n",
        "else:\n",
        "  print('No match')"
      ],
      "execution_count": 0,
      "outputs": [
        {
          "output_type": "stream",
          "text": [
            "match:  i@saturdays.com\n"
          ],
          "name": "stdout"
        }
      ]
    },
    {
      "cell_type": "code",
      "metadata": {
        "id": "IsbR0wrlyKul",
        "colab_type": "code",
        "outputId": "58cf5582-31d2-4943-8411-e929e1459a98",
        "colab": {
          "base_uri": "https://localhost:8080/",
          "height": 35
        }
      },
      "source": [
        "import re\n",
        "line = 'Esta es una fecha valida: 01/10/2020, esta no lo es: 90/10/2020, esta tampoco: 10-01-2020'\n",
        "\n",
        "matchObj = re.search( r'(((0[1-9]|[12][0-9]|3[01])[- /.](0[13578]|1[02])|(0[1-9]|[12][0-9]|30)[- /.](0[469]|11)|(0[1-9]|1\\d|2[0-8])[- /.]02)[- /.]\\d{4}|29[- /.]02[- /.](\\d{2}(0[48]|[2468][048]|[13579][26])|([02468][048]|[1359][26])00))', line)\n",
        "\n",
        "if matchObj:\n",
        "   print(\"match: \", matchObj.group())\n",
        "else:\n",
        "  print('No match')"
      ],
      "execution_count": 0,
      "outputs": [
        {
          "output_type": "stream",
          "text": [
            "match:  01/10/2020\n"
          ],
          "name": "stdout"
        }
      ]
    },
    {
      "cell_type": "markdown",
      "metadata": {
        "id": "B326d0OuXuo4",
        "colab_type": "text"
      },
      "source": [
        "## Limpieza de los datos"
      ]
    },
    {
      "cell_type": "markdown",
      "metadata": {
        "id": "ugZVcYLaBuOd",
        "colab_type": "text"
      },
      "source": [
        "Para este ejercicio vamos a tomar el texto del tweet, en la columna 10 y las etiquetas, en la columna 1."
      ]
    },
    {
      "cell_type": "code",
      "metadata": {
        "id": "DzjXbLTDyXbV",
        "colab_type": "code",
        "colab": {}
      },
      "source": [
        "features = airline_tweets.iloc[:, 10].values\n",
        "labels = airline_tweets.iloc[:, 1].values"
      ],
      "execution_count": 0,
      "outputs": []
    },
    {
      "cell_type": "code",
      "metadata": {
        "id": "gxQG1DjdyZu8",
        "colab_type": "code",
        "colab": {}
      },
      "source": [
        "processed_features = []\n",
        "\n",
        "for sentence in range(0, len(features)):\n",
        "    #Eliminar todos los caracteres especiales\n",
        "    processed_feature = re.sub(r'\\W', ' ', str(features[sentence]))\n",
        "\n",
        "    # Eliminar las letras solas\n",
        "    processed_feature= re.sub(r'\\s+[a-zA-Z]\\s+', ' ', processed_feature)\n",
        "\n",
        "    # Eliminar las letras solas al inicio de la oracion\n",
        "    processed_feature = re.sub(r'\\^[a-zA-Z]\\s+', ' ', processed_feature) \n",
        "\n",
        "    # Sustituir multiples espacios con uno solo\n",
        "    processed_feature = re.sub(r'\\s+', ' ', processed_feature)\n",
        "\n",
        "    # Eliminar prejijo 'b'\n",
        "    processed_feature = re.sub(r'^b\\s+', '', processed_feature)\n",
        "\n",
        "    # Convertir a minusculas\n",
        "    processed_feature = processed_feature.lower()\n",
        "\n",
        "    processed_features.append(processed_feature)\n"
      ],
      "execution_count": 0,
      "outputs": []
    },
    {
      "cell_type": "markdown",
      "metadata": {
        "id": "YVfJ6ubCssU8",
        "colab_type": "text"
      },
      "source": [
        "## Stop words\n",
        "\n",
        "Son palabras que tienen poco o ningún significado. Usualmente terminan apareciendo muchas veces en el texto si hacemos una frecuencia de las palabras. Palabras como un, una, el, la, etc, son consideradas stopwords. \n",
        "\n",
        "La librería de **nltk** tiene una lista de stopwords en inglés, pero también podemos agregar palabras a dominios específicos si lo necesitamos."
      ]
    },
    {
      "cell_type": "markdown",
      "metadata": {
        "id": "1rqQm5cw7RIi",
        "colab_type": "text"
      },
      "source": [
        "## Representar texto en formato numérico\n",
        "\n",
        "Los algoritmos estadísticos de aprendizaje automático usan matemáticas para entrenar a los modelos, sin embargo estas operaciones solo pueden realizarse con números. \n",
        "Para hacer que los algoritmos estadísticos pueda trabajar con texto tenemos que convertirlo a números. Uno de éstos métodos es TF-IDF"
      ]
    },
    {
      "cell_type": "markdown",
      "metadata": {
        "id": "RIYUX5VJ5SL8",
        "colab_type": "text"
      },
      "source": [
        "## TF-IDF\n",
        "\n",
        "**Factor TF:** Term Frequency: \n",
        "\n",
        "Frecuencia de Aparición de un Término.\n",
        "El TF mide la frecuencia de uso de un término específico en una página o documento. Cuanto más largo sea un contenido mayor serán las veces que se use una keyword dentro del mismo. La frecuencia de uso de una palabra clave se calculará dependiendo de la extensión de un contenido.\n",
        "\n",
        "    TF = (Número de veces que la palabra clave aparece en el documento) / (Número total de palabras en el documento)\n",
        "\n",
        "**Factor IDF:** Inverse Document Frequency:\n",
        "\n",
        "Frecuencia Inversa de documento.\n",
        "Mide la importancia de un término específico por su relevancia dentro del documento. Para este cálculo se necesita reducir el uso de términos poco importantes e  incrementar otros:\n",
        "\n",
        "    IDF = (Número total de documentos) / (Número total de términos en el documento)\n",
        "\n",
        "    "
      ]
    },
    {
      "cell_type": "markdown",
      "metadata": {
        "id": "B_JcK00WB37b",
        "colab_type": "text"
      },
      "source": [
        "La librería **Scikit-learn** contiene el algoritmo de **TfidfVectorizer**. \n",
        "\n",
        "El argumento de **max_features** indica que solo usara las 2500 palabras más frecuentes, **max_df** especifica que solo se utilizarán las palabras que aparezcan en máximo el 80% de los documentos (las palabras que aparecen en todos los documentos son demasiado comunes, por lo que no son muy útiles para la clasificación), **min_df** indica que las palabras deben aparecer en al menos el 7% de los documentos."
      ]
    },
    {
      "cell_type": "code",
      "metadata": {
        "id": "HAyKqpBNygne",
        "colab_type": "code",
        "colab": {}
      },
      "source": [
        "nltk.download('stopwords')\n",
        "\n",
        "from nltk.corpus import stopwords\n",
        "\n",
        "vectorizer = TfidfVectorizer(max_features=2500, min_df=0.1, max_df=0.8, stop_words=stopwords.words('english'))\n",
        "processed_features = vectorizer.fit_transform(processed_features).toarray()"
      ],
      "execution_count": 0,
      "outputs": []
    },
    {
      "cell_type": "markdown",
      "metadata": {
        "id": "AQ5JsRAIJ_uO",
        "colab_type": "text"
      },
      "source": [
        "## Dividir dataset"
      ]
    },
    {
      "cell_type": "code",
      "metadata": {
        "id": "1NZwVnbfyuGH",
        "colab_type": "code",
        "colab": {}
      },
      "source": [
        "X_train, X_test, y_train, y_test = train_test_split(processed_features, labels, test_size=0.2, random_state=0)"
      ],
      "execution_count": 0,
      "outputs": []
    },
    {
      "cell_type": "markdown",
      "metadata": {
        "id": "RzCSPEqLKFJ5",
        "colab_type": "text"
      },
      "source": [
        "## Crear clasificador\n",
        "\n",
        "Random Forest es un tipo de Ensamble en Machine Learning en donde combinaremos diversos árboles de decisión y la salida de cada uno se contará como \"un voto\" y la opción más votada será la respuesta del **Bosque Aleatorio**.\n",
        "\n",
        "Random Forest, al igual que el árbol de decisión, es un modelo de aprendizaje supervisado para clasificación (aunque también puede usarse para problemas de regresión).\n",
        "\n",
        "Es llamado aleatorio, porque la selección de las k de características para cada árbol, como la cantidad de muestras que usaremos para entrenar cada árbol es aleatoria."
      ]
    },
    {
      "cell_type": "markdown",
      "metadata": {
        "id": "G4VsL6IPUCRQ",
        "colab_type": "text"
      },
      "source": [
        "\n",
        "El módulo de sklearn.ensemble contiene la clase **RandomForestClassifier** que usaremos para entrenar nuestro algoritmo. \n",
        "\n",
        "Al igual que en algoritmos anteriores usaremos el método **fit()** usando las etiquetas y atributos."
      ]
    },
    {
      "cell_type": "code",
      "metadata": {
        "id": "HS-RIJbeyw-q",
        "colab_type": "code",
        "outputId": "ec2e4bef-de81-4b2a-b741-80a0eed91666",
        "colab": {
          "base_uri": "https://localhost:8080/",
          "height": 158
        }
      },
      "source": [
        "text_classifier = RandomForestClassifier(n_estimators=200)\n",
        "text_classifier.fit(X_train, y_train)"
      ],
      "execution_count": 0,
      "outputs": [
        {
          "output_type": "execute_result",
          "data": {
            "text/plain": [
              "RandomForestClassifier(bootstrap=True, ccp_alpha=0.0, class_weight=None,\n",
              "                       criterion='gini', max_depth=None, max_features='auto',\n",
              "                       max_leaf_nodes=None, max_samples=None,\n",
              "                       min_impurity_decrease=0.0, min_impurity_split=None,\n",
              "                       min_samples_leaf=1, min_samples_split=2,\n",
              "                       min_weight_fraction_leaf=0.0, n_estimators=200,\n",
              "                       n_jobs=None, oob_score=False, random_state=None,\n",
              "                       verbose=0, warm_start=False)"
            ]
          },
          "metadata": {
            "tags": []
          },
          "execution_count": 30
        }
      ]
    },
    {
      "cell_type": "markdown",
      "metadata": {
        "id": "wYB0QoxMVw-T",
        "colab_type": "text"
      },
      "source": [
        "## Realizar predicciones y evaluar el modelo"
      ]
    },
    {
      "cell_type": "markdown",
      "metadata": {
        "id": "y_EFoiapWZqH",
        "colab_type": "text"
      },
      "source": [
        "\n",
        "Una vez que el modelo ha sido entrenado, el siguiente paso es hacer predicciones en el modelo. Para hacerlo, llamamos el método predict() con nuestro dataset de pruebas."
      ]
    },
    {
      "cell_type": "code",
      "metadata": {
        "id": "KUEwQuR-y1B4",
        "colab_type": "code",
        "outputId": "a10cb4b9-78ca-442f-d72e-f04b116190f2",
        "colab": {
          "base_uri": "https://localhost:8080/",
          "height": 52
        }
      },
      "source": [
        "predictions = text_classifier.predict(X_test)\n",
        "\n",
        "predictions"
      ],
      "execution_count": 0,
      "outputs": [
        {
          "output_type": "execute_result",
          "data": {
            "text/plain": [
              "array(['negative', 'negative', 'negative', ..., 'negative', 'negative',\n",
              "       'negative'], dtype=object)"
            ]
          },
          "metadata": {
            "tags": []
          },
          "execution_count": 31
        }
      ]
    },
    {
      "cell_type": "markdown",
      "metadata": {
        "id": "bPjIkuCCWg3f",
        "colab_type": "text"
      },
      "source": [
        "Para evaluar nuestro modelo tenemos los métodos de classification_report y accuracy_score."
      ]
    },
    {
      "cell_type": "code",
      "metadata": {
        "id": "esEPvMg3zD9v",
        "colab_type": "code",
        "outputId": "721893ae-05d9-4926-ccf4-8cc07e9d9e1f",
        "colab": {
          "base_uri": "https://localhost:8080/",
          "height": 228
        }
      },
      "source": [
        "print(y_test)\n",
        "print(classification_report(y_test,predictions))\n",
        "print(accuracy_score(y_test, predictions))"
      ],
      "execution_count": 0,
      "outputs": [
        {
          "output_type": "stream",
          "text": [
            "['negative' 'negative' 'negative' ... 'negative' 'negative' 'negative']\n",
            "              precision    recall  f1-score   support\n",
            "\n",
            "    negative       0.68      0.95      0.79      1870\n",
            "     neutral       0.54      0.13      0.21       614\n",
            "    positive       0.53      0.21      0.30       444\n",
            "\n",
            "    accuracy                           0.67      2928\n",
            "   macro avg       0.58      0.43      0.43      2928\n",
            "weighted avg       0.63      0.67      0.60      2928\n",
            "\n",
            "0.6656420765027322\n"
          ],
          "name": "stdout"
        }
      ]
    }
  ]
}