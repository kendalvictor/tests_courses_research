{
  "nbformat": 4,
  "nbformat_minor": 0,
  "metadata": {
    "colab": {
      "name": "Copia de embeddings.ipynb",
      "provenance": []
    },
    "kernelspec": {
      "name": "python3",
      "display_name": "Python 3"
    },
    "language_info": {
      "name": "python"
    }
  },
  "cells": [
    {
      "cell_type": "markdown",
      "metadata": {
        "id": "3645nYHP5Vrx"
      },
      "source": [
        "# Word embeddings\n",
        "\n",
        "En la parte teórica hemos visto que para crear *neural networks* para el lenguaje, primero tenemos que transformar el texto en una matriz de vectores. El tipo de vectores que capturan la semántica de las palabras se llaman **word embeddings** y son los que se utilizan en la mayoría de aplicaciones modernas de NLP. Vamos a ver cómo utilizamos embeddings en PyTorch.  \n",
        "\n",
        "En PyTorch se pueden utilizan los *word embeddings* en inglés más típicos (word2vec, GloVe, FastText...) directamente. Nosotros vamos a trabajar con *embeddings* españoles. Recomiendo bajarse estos vectores https://www.kaggle.com/rtatman/pretrained-word-vectors-for-spanish creados por Cristian Cardellino (atención, es un fichero grande de aprox. 3GB)"
      ]
    },
    {
      "cell_type": "code",
      "metadata": {
        "id": "GwgMW1hv5Y_Q"
      },
      "source": [
        "from google.colab import drive\n",
        "drive.mount('/content/drive')"
      ],
      "execution_count": null,
      "outputs": []
    },
    {
      "cell_type": "markdown",
      "metadata": {
        "id": "qdkuI_m-8zZq"
      },
      "source": [
        "# Loading\n",
        "\n",
        "Loading word embeddings en inglés es muy fácil. PyTorch da acceso a los embeddings más típicos a través de la library **torchtext**. "
      ]
    },
    {
      "cell_type": "code",
      "metadata": {
        "id": "NtGSww8n8tnP"
      },
      "source": [
        "# load english vectors\n"
      ],
      "execution_count": null,
      "outputs": []
    },
    {
      "cell_type": "markdown",
      "metadata": {
        "id": "NF36466B-O_Q"
      },
      "source": [
        "Para acceder a los vectores españoles, tenemos que indicar dónde está el fichero."
      ]
    },
    {
      "cell_type": "code",
      "metadata": {
        "id": "BetUVtR-90t9"
      },
      "source": [
        "# load spanish vectors\n"
      ],
      "execution_count": null,
      "outputs": []
    },
    {
      "cell_type": "code",
      "metadata": {
        "id": "UxjrZSuA-yCY"
      },
      "source": [
        "# ver dimensiones\n"
      ],
      "execution_count": null,
      "outputs": []
    },
    {
      "cell_type": "markdown",
      "metadata": {
        "id": "8rgFsGOe_6Ia"
      },
      "source": [
        "# Examinar los embeddings\n",
        "\n",
        "Podemos examinar los embeddings individualmente y ver qué vector está asociado con qué palabra del vocabulario. "
      ]
    },
    {
      "cell_type": "code",
      "metadata": {
        "id": "Z4fLwHNn_lT6"
      },
      "source": [
        "# encontrar el índice de una palabra\n"
      ],
      "execution_count": null,
      "outputs": []
    },
    {
      "cell_type": "code",
      "metadata": {
        "id": "fd7A80IXArk4"
      },
      "source": [
        "# examinar vector\n"
      ],
      "execution_count": null,
      "outputs": []
    },
    {
      "cell_type": "code",
      "metadata": {
        "id": "ED4ee4s4A_12"
      },
      "source": [
        "# out-of-vocabulary words\n"
      ],
      "execution_count": null,
      "outputs": []
    },
    {
      "cell_type": "code",
      "metadata": {
        "id": "g-6uxSdrBNxt"
      },
      "source": [
        "# funcion que extrae el word embedding para una palabra\n",
        "\n",
        "def get_vector(embeddings, word):\n",
        "    assert word in embeddings.stoi, f'*{word}* no se encuentra en el vocabulario!'\n",
        "    return embeddings.vectors[embeddings.stoi[word]]"
      ],
      "execution_count": null,
      "outputs": []
    },
    {
      "cell_type": "code",
      "metadata": {
        "id": "L_HMlMDDBoHL"
      },
      "source": [
        "# examinar vector\n"
      ],
      "execution_count": null,
      "outputs": []
    },
    {
      "cell_type": "markdown",
      "metadata": {
        "id": "_AfuS_JEDWxa"
      },
      "source": [
        "# Contextos similares\n",
        "\n",
        "Para encontrar palabras similares a una palabra en concreto, primero tenemos que encontrar el vector de esta palabra y luego calcular la distancia entre este vector y los vectores del resto de las palabras. Luego los ordenamos de más cerca a más lejano. "
      ]
    },
    {
      "cell_type": "code",
      "metadata": {
        "id": "dKFWoURLBwZI"
      },
      "source": [
        "# Función para encontrar palabras más similares\n"
      ],
      "execution_count": null,
      "outputs": []
    },
    {
      "cell_type": "code",
      "metadata": {
        "id": "LuSNI-GpESvC"
      },
      "source": [
        "# Buscar vectores más cercanos\n"
      ],
      "execution_count": null,
      "outputs": []
    },
    {
      "cell_type": "markdown",
      "metadata": {
        "id": "cCuRCTKcGP18"
      },
      "source": [
        "# Analogía\n",
        "\n",
        "Otra propiedad de los *word embeddings* es que podemos hacer operaciones como si fueran vectores normales, con resultados interesantes."
      ]
    },
    {
      "cell_type": "code",
      "metadata": {
        "id": "zv6gP3RzGTel"
      },
      "source": [
        "def analogy(embeddings, word1, word2, word3, n=5):\n",
        "    \n",
        "    #obtener vectores para cada palaba\n",
        "    word1_vector = get_vector(embeddings, word1)\n",
        "    word2_vector = get_vector(embeddings, word2)\n",
        "    word3_vector = get_vector(embeddings, word3)\n",
        "    \n",
        "    ######\n",
        "    \n",
        "    #filtrar palabras que ya se encuentran en la analogía\n",
        "    candidate_words = [(word, dist) for (word, dist) in candidate_words \n",
        "                       if word not in [word1, word2, word3]][:n]\n",
        "    \n",
        "    print(f'{word1} es a {word2} como {word3} es a...')\n",
        "    \n",
        "    return candidate_words"
      ],
      "execution_count": null,
      "outputs": []
    },
    {
      "cell_type": "code",
      "metadata": {
        "id": "lEAamAPHHbmW"
      },
      "source": [
        "def print_tuples(tuples):\n",
        "    for w, d in tuples:\n",
        "        print(f'({d:02.04f}) {w}')"
      ],
      "execution_count": null,
      "outputs": []
    },
    {
      "cell_type": "code",
      "metadata": {
        "id": "n1X0yOMOHe-5"
      },
      "source": [
        "# buscar analogía\n"
      ],
      "execution_count": null,
      "outputs": []
    }
  ]
}