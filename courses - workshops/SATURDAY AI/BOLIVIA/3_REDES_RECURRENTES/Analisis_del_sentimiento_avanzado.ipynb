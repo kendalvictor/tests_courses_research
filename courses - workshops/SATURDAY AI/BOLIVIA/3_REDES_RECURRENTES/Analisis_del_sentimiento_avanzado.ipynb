{
  "nbformat": 4,
  "nbformat_minor": 0,
  "metadata": {
    "colab": {
      "name": "Analisis del sentimiento avanzado.ipynb",
      "provenance": [],
      "collapsed_sections": []
    },
    "kernelspec": {
      "name": "python3",
      "display_name": "Python 3"
    },
    "language_info": {
      "name": "python"
    },
    "accelerator": "GPU"
  },
  "cells": [
    {
      "cell_type": "markdown",
      "metadata": {
        "id": "rVnSBQekUGOM"
      },
      "source": [
        "#Dataset"
      ]
    },
    {
      "cell_type": "code",
      "metadata": {
        "colab": {
          "base_uri": "https://localhost:8080/"
        },
        "id": "COrFlFugTysW",
        "outputId": "288f511a-e034-4bd6-c61e-1044ed60b815"
      },
      "source": [
        "from google.colab import drive\n",
        "drive.mount('/content/drive')"
      ],
      "execution_count": null,
      "outputs": [
        {
          "output_type": "stream",
          "text": [
            "Mounted at /content/drive\n"
          ],
          "name": "stdout"
        }
      ]
    },
    {
      "cell_type": "code",
      "metadata": {
        "id": "32WSu7ThUToB",
        "colab": {
          "base_uri": "https://localhost:8080/"
        },
        "outputId": "02155069-439c-463c-d749-e760240a60f8"
      },
      "source": [
        "!python -m spacy download es_core_news_sm"
      ],
      "execution_count": null,
      "outputs": [
        {
          "output_type": "stream",
          "text": [
            "Collecting es_core_news_sm==2.2.5\n",
            "\u001b[?25l  Downloading https://github.com/explosion/spacy-models/releases/download/es_core_news_sm-2.2.5/es_core_news_sm-2.2.5.tar.gz (16.2MB)\n",
            "\u001b[K     |████████████████████████████████| 16.2MB 19.6MB/s \n",
            "\u001b[?25hRequirement already satisfied: spacy>=2.2.2 in /usr/local/lib/python3.7/dist-packages (from es_core_news_sm==2.2.5) (2.2.4)\n",
            "Requirement already satisfied: srsly<1.1.0,>=1.0.2 in /usr/local/lib/python3.7/dist-packages (from spacy>=2.2.2->es_core_news_sm==2.2.5) (1.0.5)\n",
            "Requirement already satisfied: blis<0.5.0,>=0.4.0 in /usr/local/lib/python3.7/dist-packages (from spacy>=2.2.2->es_core_news_sm==2.2.5) (0.4.1)\n",
            "Requirement already satisfied: plac<1.2.0,>=0.9.6 in /usr/local/lib/python3.7/dist-packages (from spacy>=2.2.2->es_core_news_sm==2.2.5) (1.1.3)\n",
            "Requirement already satisfied: cymem<2.1.0,>=2.0.2 in /usr/local/lib/python3.7/dist-packages (from spacy>=2.2.2->es_core_news_sm==2.2.5) (2.0.5)\n",
            "Requirement already satisfied: numpy>=1.15.0 in /usr/local/lib/python3.7/dist-packages (from spacy>=2.2.2->es_core_news_sm==2.2.5) (1.19.5)\n",
            "Requirement already satisfied: murmurhash<1.1.0,>=0.28.0 in /usr/local/lib/python3.7/dist-packages (from spacy>=2.2.2->es_core_news_sm==2.2.5) (1.0.5)\n",
            "Requirement already satisfied: requests<3.0.0,>=2.13.0 in /usr/local/lib/python3.7/dist-packages (from spacy>=2.2.2->es_core_news_sm==2.2.5) (2.23.0)\n",
            "Requirement already satisfied: thinc==7.4.0 in /usr/local/lib/python3.7/dist-packages (from spacy>=2.2.2->es_core_news_sm==2.2.5) (7.4.0)\n",
            "Requirement already satisfied: catalogue<1.1.0,>=0.0.7 in /usr/local/lib/python3.7/dist-packages (from spacy>=2.2.2->es_core_news_sm==2.2.5) (1.0.0)\n",
            "Requirement already satisfied: setuptools in /usr/local/lib/python3.7/dist-packages (from spacy>=2.2.2->es_core_news_sm==2.2.5) (57.0.0)\n",
            "Requirement already satisfied: wasabi<1.1.0,>=0.4.0 in /usr/local/lib/python3.7/dist-packages (from spacy>=2.2.2->es_core_news_sm==2.2.5) (0.8.2)\n",
            "Requirement already satisfied: tqdm<5.0.0,>=4.38.0 in /usr/local/lib/python3.7/dist-packages (from spacy>=2.2.2->es_core_news_sm==2.2.5) (4.41.1)\n",
            "Requirement already satisfied: preshed<3.1.0,>=3.0.2 in /usr/local/lib/python3.7/dist-packages (from spacy>=2.2.2->es_core_news_sm==2.2.5) (3.0.5)\n",
            "Requirement already satisfied: idna<3,>=2.5 in /usr/local/lib/python3.7/dist-packages (from requests<3.0.0,>=2.13.0->spacy>=2.2.2->es_core_news_sm==2.2.5) (2.10)\n",
            "Requirement already satisfied: urllib3!=1.25.0,!=1.25.1,<1.26,>=1.21.1 in /usr/local/lib/python3.7/dist-packages (from requests<3.0.0,>=2.13.0->spacy>=2.2.2->es_core_news_sm==2.2.5) (1.24.3)\n",
            "Requirement already satisfied: certifi>=2017.4.17 in /usr/local/lib/python3.7/dist-packages (from requests<3.0.0,>=2.13.0->spacy>=2.2.2->es_core_news_sm==2.2.5) (2021.5.30)\n",
            "Requirement already satisfied: chardet<4,>=3.0.2 in /usr/local/lib/python3.7/dist-packages (from requests<3.0.0,>=2.13.0->spacy>=2.2.2->es_core_news_sm==2.2.5) (3.0.4)\n",
            "Requirement already satisfied: importlib-metadata>=0.20; python_version < \"3.8\" in /usr/local/lib/python3.7/dist-packages (from catalogue<1.1.0,>=0.0.7->spacy>=2.2.2->es_core_news_sm==2.2.5) (4.5.0)\n",
            "Requirement already satisfied: zipp>=0.5 in /usr/local/lib/python3.7/dist-packages (from importlib-metadata>=0.20; python_version < \"3.8\"->catalogue<1.1.0,>=0.0.7->spacy>=2.2.2->es_core_news_sm==2.2.5) (3.4.1)\n",
            "Requirement already satisfied: typing-extensions>=3.6.4; python_version < \"3.8\" in /usr/local/lib/python3.7/dist-packages (from importlib-metadata>=0.20; python_version < \"3.8\"->catalogue<1.1.0,>=0.0.7->spacy>=2.2.2->es_core_news_sm==2.2.5) (3.7.4.3)\n",
            "Building wheels for collected packages: es-core-news-sm\n",
            "  Building wheel for es-core-news-sm (setup.py) ... \u001b[?25l\u001b[?25hdone\n",
            "  Created wheel for es-core-news-sm: filename=es_core_news_sm-2.2.5-cp37-none-any.whl size=16172935 sha256=6599daf09e03dd62d221593bc6b0fba9ed48f49b7f0e248e103d83477ebb5426\n",
            "  Stored in directory: /tmp/pip-ephem-wheel-cache-zw1q2cly/wheels/05/4f/66/9d0c806f86de08e8645d67996798c49e1512f9c3a250d74242\n",
            "Successfully built es-core-news-sm\n",
            "Installing collected packages: es-core-news-sm\n",
            "Successfully installed es-core-news-sm-2.2.5\n",
            "\u001b[38;5;2m✔ Download and installation successful\u001b[0m\n",
            "You can now load the model via spacy.load('es_core_news_sm')\n"
          ],
          "name": "stdout"
        }
      ]
    },
    {
      "cell_type": "code",
      "metadata": {
        "id": "GNh-17w-Uc9M"
      },
      "source": [
        "import torch\n",
        "from torchtext.legacy import data\n",
        "from torchtext.legacy import datasets\n",
        "\n",
        "SEED = 1234\n",
        "\n",
        "torch.manual_seed(SEED)\n",
        "torch.backends.cudnn.deterministic = True\n",
        "\n",
        "TEXT = data.Field(tokenize='spacy',\n",
        "                  tokenizer_language='es_core_news_sm',\n",
        "                  include_lengths = True)\n",
        "\n",
        "SENTIMENT = data.LabelField(dtype = torch.float)"
      ],
      "execution_count": null,
      "outputs": []
    },
    {
      "cell_type": "code",
      "metadata": {
        "id": "BokguzoMUkww"
      },
      "source": [
        "fields = {'texto': ('t', TEXT), 'sentimiento': ('s', SENTIMENT)}"
      ],
      "execution_count": null,
      "outputs": []
    },
    {
      "cell_type": "code",
      "metadata": {
        "id": "3D0DDEsZU8k5"
      },
      "source": [
        "train_data, valid_data, test_data = data.TabularDataset.splits(\n",
        "                            path = 'drive/MyDrive/Saturdays.AI/data_sentimiento',\n",
        "                            train = 'train.json',\n",
        "                            validation = 'valid.json',\n",
        "                            test = 'test.json',\n",
        "                            format = 'json',\n",
        "                            fields = fields\n",
        ")"
      ],
      "execution_count": null,
      "outputs": []
    },
    {
      "cell_type": "code",
      "metadata": {
        "id": "TLOlWLQkVfP9"
      },
      "source": [
        "import torchtext.vocab as vocab\n",
        "\n",
        "MAX_VOCAB_SIZE = 4000\n",
        "\n",
        "spanish_embeddings = vocab.Vectors('SBW-vectors-300-min5.txt', cache='drive/MyDrive/Saturdays.AI')\n",
        "\n",
        "\n",
        "TEXT.build_vocab(train_data, max_size = MAX_VOCAB_SIZE, vectors = spanish_embeddings, unk_init = torch.Tensor.normal_)\n",
        "SENTIMENT.build_vocab(train_data)"
      ],
      "execution_count": null,
      "outputs": []
    },
    {
      "cell_type": "code",
      "metadata": {
        "id": "pvuicd5GJ88I"
      },
      "source": [
        "BATCH_SIZE = 64\n",
        "\n",
        "device = torch.device('cuda' if torch.cuda.is_available() else 'cpu')\n",
        "\n",
        "train_iterator, valid_iterator, test_iterator = data.BucketIterator.splits(\n",
        "    (train_data, valid_data, test_data),\n",
        "    batch_size = BATCH_SIZE,\n",
        "    sort_within_batch = True,\n",
        "    sort_key = lambda x: len(x.t),\n",
        "    device = device\n",
        ")"
      ],
      "execution_count": null,
      "outputs": []
    },
    {
      "cell_type": "markdown",
      "metadata": {
        "id": "TnAnEKx3KdNt"
      },
      "source": [
        "#Modelo"
      ]
    },
    {
      "cell_type": "code",
      "metadata": {
        "id": "tBrDhw0OKeS3"
      },
      "source": [
        "import torch.nn as nn\n",
        "\n",
        "class BiLSTM(nn.Module):\n",
        "  def __init__(self, vocab_size, embedding_dim, hidden_dim, output_dim, n_layers, bidirectional, dropout, pad_idx):\n",
        "    super().__init__()\n",
        "\n",
        "    self.embedding = nn.Embedding(vocab_size, embedding_dim, padding_idx = pad_idx)\n",
        "\n",
        "    self.rnn = nn.LSTM(embedding_dim, \n",
        "                       hidden_dim, \n",
        "                       num_layers=n_layers, \n",
        "                       bidirectional=bidirectional, \n",
        "                       dropout=dropout)\n",
        "    \n",
        "    self.fc = nn.Linear(hidden_dim*2, output_dim)\n",
        "    self.dropout = nn.Dropout(dropout)\n",
        "  \n",
        "  def forward(self, text, text_lengths):\n",
        "    embedded = self.dropout(self.embedding(text))\n",
        "    packed_embedded = nn.utils.rnn.pack_padded_sequence(embedded, text_lengths.to('cpu'))\n",
        "    packed_output, (hidden, cell) = self.rnn(packed_embedded)\n",
        "\n",
        "    output, output_lengths = nn.utils.rnn.pad_packed_sequence(packed_output)\n",
        "\n",
        "    hidden = self.dropout(torch.cat((hidden[-2,:,:], hidden[-1,:,:]), dim=1))\n",
        "\n",
        "    return self.fc(hidden)"
      ],
      "execution_count": null,
      "outputs": []
    },
    {
      "cell_type": "code",
      "metadata": {
        "id": "3X_4AdOqLROQ"
      },
      "source": [
        "INPUT_DIM = len(TEXT.vocab)\n",
        "EMBEDDING_DIM = 300\n",
        "HIDDEN_DIM = 450\n",
        "OUTPUT_DIM = 1\n",
        "N_LAYERS = 3\n",
        "BIDIRECTIONAL = True\n",
        "DROPOUT = 0.5\n",
        "PAD_IDX = TEXT.vocab.stoi[TEXT.pad_token]\n",
        "\n",
        "model = BiLSTM(INPUT_DIM, \n",
        "            EMBEDDING_DIM, \n",
        "            HIDDEN_DIM, \n",
        "            OUTPUT_DIM, \n",
        "            N_LAYERS, \n",
        "            BIDIRECTIONAL, \n",
        "            DROPOUT, \n",
        "            PAD_IDX)"
      ],
      "execution_count": null,
      "outputs": []
    },
    {
      "cell_type": "code",
      "metadata": {
        "colab": {
          "base_uri": "https://localhost:8080/"
        },
        "id": "r35cuXp0NBuN",
        "outputId": "f7824a43-58ba-4d6c-c5c9-2e64d4dbf229"
      },
      "source": [
        "def count_parameters(model):\n",
        "    return sum(p.numel() for p in model.parameters() if p.requires_grad)\n",
        "\n",
        "print(f'The model has {count_parameters(model):,} trainable parameters')"
      ],
      "execution_count": null,
      "outputs": [
        {
          "output_type": "stream",
          "text": [
            "The model has 13,643,101 trainable parameters\n"
          ],
          "name": "stdout"
        }
      ]
    },
    {
      "cell_type": "code",
      "metadata": {
        "colab": {
          "base_uri": "https://localhost:8080/"
        },
        "id": "wFtURwy0NHpL",
        "outputId": "e0b0ff35-6167-46d4-bb51-89feb6c76d07"
      },
      "source": [
        "pretrained_embeddings = TEXT.vocab.vectors\n",
        "\n",
        "print(pretrained_embeddings.shape)"
      ],
      "execution_count": null,
      "outputs": [
        {
          "output_type": "stream",
          "text": [
            "torch.Size([4002, 300])\n"
          ],
          "name": "stdout"
        }
      ]
    },
    {
      "cell_type": "code",
      "metadata": {
        "colab": {
          "base_uri": "https://localhost:8080/"
        },
        "id": "D6Ww0kT3NNRG",
        "outputId": "629b5525-e5fc-47ce-f81d-85877035441c"
      },
      "source": [
        "model.embedding.weight.data.copy_(TEXT.vocab.vectors)"
      ],
      "execution_count": null,
      "outputs": [
        {
          "output_type": "execute_result",
          "data": {
            "text/plain": [
              "tensor([[ 0.0000e+00,  0.0000e+00,  0.0000e+00,  ...,  0.0000e+00,\n",
              "          0.0000e+00,  0.0000e+00],\n",
              "        [ 0.0000e+00,  0.0000e+00,  0.0000e+00,  ...,  0.0000e+00,\n",
              "          0.0000e+00,  0.0000e+00],\n",
              "        [ 0.0000e+00,  0.0000e+00,  0.0000e+00,  ...,  0.0000e+00,\n",
              "          0.0000e+00,  0.0000e+00],\n",
              "        ...,\n",
              "        [-3.9439e-02, -4.2805e-02, -5.0221e-02,  ..., -2.0496e-02,\n",
              "          2.3131e-02, -8.1015e-02],\n",
              "        [ 4.4232e-02, -5.5097e-02,  4.4623e-02,  ..., -7.1947e-02,\n",
              "          7.4214e-02, -2.5300e-02],\n",
              "        [-6.0870e-02, -4.6083e-02,  9.3000e-05,  ..., -8.2717e-02,\n",
              "          1.1736e-01, -4.8698e-02]])"
            ]
          },
          "metadata": {
            "tags": []
          },
          "execution_count": 11
        }
      ]
    },
    {
      "cell_type": "code",
      "metadata": {
        "id": "txVfvGKzNq3I",
        "colab": {
          "base_uri": "https://localhost:8080/"
        },
        "outputId": "6808afc8-29af-4a59-a2fe-4a7b18201549"
      },
      "source": [
        "UNK_IDX = TEXT.vocab.stoi[TEXT.unk_token]\n",
        "model.embedding.weight.data[4]"
      ],
      "execution_count": null,
      "outputs": [
        {
          "output_type": "execute_result",
          "data": {
            "text/plain": [
              "tensor([-2.9648e-02,  1.1336e-02,  1.9949e-02, -8.8832e-02, -2.5225e-02,\n",
              "         5.6844e-02,  2.5473e-02,  1.4068e-02,  1.6369e-01, -6.7154e-02,\n",
              "         1.4738e-02,  2.7134e-02,  6.6443e-02, -4.4846e-02, -4.4987e-02,\n",
              "        -4.0898e-02,  3.0311e-02,  3.4196e-02, -4.9240e-02,  8.5370e-03,\n",
              "        -6.8091e-02, -8.7938e-02,  3.5300e-02,  1.4939e-01, -1.2350e-02,\n",
              "         1.2613e-02,  2.9350e-02,  6.9596e-02,  3.9111e-02,  5.7652e-02,\n",
              "         6.9954e-02, -6.6217e-02, -4.1784e-02,  2.8623e-02,  2.6772e-02,\n",
              "        -6.6392e-02,  2.9530e-03, -1.2188e-02, -3.0363e-02,  4.0222e-02,\n",
              "         3.4858e-02,  2.7469e-02, -2.9034e-02, -4.8748e-02, -3.8582e-02,\n",
              "        -5.1553e-02, -3.3501e-02, -1.9008e-02,  3.0430e-03,  1.1071e-01,\n",
              "        -2.5096e-02,  1.1108e-01,  3.5244e-02,  1.1421e-01,  1.0195e-02,\n",
              "         5.1511e-02, -4.0649e-02, -1.1394e-01,  4.4873e-02,  5.2011e-02,\n",
              "         6.7360e-02,  4.9054e-02, -1.2709e-01, -3.1846e-02,  3.2848e-02,\n",
              "         4.0825e-02, -8.4873e-02,  5.9801e-02, -6.7424e-02,  1.6531e-02,\n",
              "        -8.4565e-02,  5.7024e-02,  8.3288e-02, -1.0136e-02, -4.8508e-02,\n",
              "         5.1757e-02,  4.6664e-02,  1.8102e-02, -5.2320e-02, -7.6500e-04,\n",
              "         5.3662e-02, -9.9670e-03,  8.2858e-02,  9.0680e-03,  5.4575e-02,\n",
              "        -3.4660e-03, -2.3376e-02,  2.3069e-02,  8.8513e-02,  1.8504e-02,\n",
              "        -3.9503e-02, -3.2980e-02, -2.1390e-03,  1.0000e-05, -1.0763e-01,\n",
              "         7.6990e-03,  4.6351e-02, -3.0620e-03,  3.0500e-02,  1.1365e-01,\n",
              "         3.2536e-02, -9.7301e-02, -1.3734e-02,  9.8345e-02,  8.0898e-02,\n",
              "        -6.4173e-02, -8.8740e-03, -1.4475e-01,  3.7585e-02,  1.3290e-02,\n",
              "         5.9674e-02,  6.1630e-03,  7.3180e-03,  5.3000e-05, -6.0292e-02,\n",
              "        -5.9135e-02,  4.9497e-02, -1.1438e-02, -9.5108e-02, -4.3465e-02,\n",
              "         4.8567e-02, -4.3990e-02, -3.0774e-02,  5.0920e-03, -3.2265e-02,\n",
              "         9.3920e-03,  1.8503e-02,  8.4857e-02,  1.0971e-01, -2.0662e-02,\n",
              "         1.7696e-02,  2.6699e-02, -7.6638e-02, -1.4106e-02, -3.5155e-02,\n",
              "         4.6999e-02, -3.7270e-03, -4.7805e-02,  4.4270e-02,  1.1314e-02,\n",
              "         3.6524e-02, -6.9505e-02, -1.4850e-02, -3.5380e-03, -4.7049e-02,\n",
              "         2.9349e-02,  3.4521e-02, -3.2199e-02,  1.1650e-01, -7.7610e-02,\n",
              "         6.8234e-02, -1.6126e-02, -6.6454e-02, -7.9914e-02, -2.0723e-02,\n",
              "        -6.4905e-02,  6.9560e-02,  2.1368e-02, -4.9497e-02, -4.6599e-02,\n",
              "         6.7663e-02, -6.9035e-02,  1.1801e-01,  2.7463e-02, -6.1760e-03,\n",
              "        -3.4514e-02, -2.6515e-02,  4.0308e-02,  9.1113e-02, -8.0539e-02,\n",
              "         1.3241e-01, -7.0958e-02,  1.9730e-02,  3.3399e-02,  3.4890e-03,\n",
              "        -1.5966e-01, -4.2300e-03,  4.8880e-03, -5.6615e-02,  6.1021e-02,\n",
              "         2.5117e-02,  9.9613e-02,  6.3876e-02, -6.2020e-03, -4.9316e-02,\n",
              "        -2.0530e-02,  8.5220e-03, -9.4168e-02, -9.4510e-03, -3.4682e-02,\n",
              "        -2.6801e-02,  6.5383e-02,  4.2528e-02, -1.3688e-02,  3.5068e-02,\n",
              "         1.1980e-01, -2.0278e-02,  1.1188e-01, -6.8336e-02,  5.0245e-02,\n",
              "        -1.2324e-01,  2.2480e-03,  1.0229e-02, -6.2540e-02, -1.7837e-02,\n",
              "        -1.1521e-01,  5.1036e-02,  2.6920e-02,  8.3457e-02,  6.2902e-02,\n",
              "         3.0830e-03, -3.7112e-02, -1.5425e-02,  1.7160e-03,  1.8002e-02,\n",
              "         1.0110e-01,  1.9446e-02,  7.4839e-02,  5.9951e-02,  7.2243e-02,\n",
              "        -2.5459e-02, -3.9853e-02,  7.7950e-02,  6.0199e-02, -7.0603e-02,\n",
              "         6.0652e-02,  2.3855e-02, -3.5858e-02, -5.8043e-02, -7.5130e-02,\n",
              "         6.7000e-04,  8.2828e-02, -1.3141e-02,  1.4469e-01, -1.0577e-01,\n",
              "         8.7624e-02,  4.7030e-02, -1.5700e-02, -4.2360e-02,  2.6337e-02,\n",
              "         1.4497e-01,  2.1922e-02,  1.2097e-02, -1.1443e-02, -1.1021e-01,\n",
              "         9.3330e-03, -8.1423e-02, -2.7137e-02,  8.2700e-04,  8.5389e-02,\n",
              "         3.4464e-02,  3.2338e-02, -1.5040e-02,  9.9540e-03, -1.1759e-02,\n",
              "        -4.2395e-02, -4.6700e-04,  5.5047e-02, -4.9710e-02, -1.0498e-01,\n",
              "         3.1742e-02,  3.7020e-02, -7.0160e-03, -4.9712e-02,  4.1684e-02,\n",
              "         1.8348e-02, -1.2010e-03,  1.9282e-02,  5.7630e-03,  7.4952e-02,\n",
              "        -1.8588e-02,  1.6055e-02,  1.1953e-01, -1.4613e-02,  2.0598e-02,\n",
              "         2.7312e-02,  2.4252e-02, -2.4044e-02, -2.6332e-02, -6.3152e-02,\n",
              "        -9.5363e-02, -3.4335e-02, -6.2552e-02, -3.5730e-02,  9.1165e-02,\n",
              "         9.6860e-03,  2.0341e-02, -1.2004e-02,  1.1826e-02, -8.4301e-02,\n",
              "         1.1144e-02,  7.4969e-02, -4.8620e-03, -1.4076e-02,  2.5692e-02,\n",
              "        -7.7322e-02, -2.2998e-02, -1.2806e-01, -4.9170e-03,  6.2628e-02])"
            ]
          },
          "metadata": {
            "tags": []
          },
          "execution_count": 12
        }
      ]
    },
    {
      "cell_type": "markdown",
      "metadata": {
        "id": "no1vdy0rOlQg"
      },
      "source": [
        "#Train"
      ]
    },
    {
      "cell_type": "code",
      "metadata": {
        "id": "8rUSsAGiOmCY"
      },
      "source": [
        "import torch.optim as optim\n",
        "optimizer = optim.Adam(model.parameters())"
      ],
      "execution_count": null,
      "outputs": []
    },
    {
      "cell_type": "code",
      "metadata": {
        "id": "ORFuX9z5Oqnu"
      },
      "source": [
        "criterion = nn.BCEWithLogitsLoss()\n",
        "\n",
        "model = model.to(device)\n",
        "criterion = criterion.to(device)"
      ],
      "execution_count": null,
      "outputs": []
    },
    {
      "cell_type": "code",
      "metadata": {
        "id": "bDpFzetuO2gl"
      },
      "source": [
        "def binary_accuracy(preds, y):\n",
        "    \"\"\"\n",
        "    Returns accuracy per batch, i.e. if you get 8/10 right, this returns 0.8, NOT 8\n",
        "    \"\"\"\n",
        "\n",
        "    #round predictions to the closest integer\n",
        "    rounded_preds = torch.round(torch.sigmoid(preds))\n",
        "    correct = (rounded_preds == y).float() #convert into float for division \n",
        "    acc = correct.sum() / len(correct)\n",
        "    return acc"
      ],
      "execution_count": null,
      "outputs": []
    },
    {
      "cell_type": "code",
      "metadata": {
        "id": "veM2sbXEO_vx"
      },
      "source": [
        "def train(model, iterator, optimizer, criterion):\n",
        "\n",
        "  epoch_loss = 0\n",
        "  epoch_acc = 0\n",
        "\n",
        "  model.train()\n",
        "\n",
        "  for batch in iterator:\n",
        "    optimizer.zero_grad()\n",
        "    text, text_lengths = batch.t\n",
        "    predictions = model(text, text_lengths).squeeze(1)\n",
        "    loss = criterion(predictions, batch.s)\n",
        "    acc = binary_accuracy(predictions, batch.s)\n",
        "    loss.backward()\n",
        "    optimizer.step()\n",
        "\n",
        "    epoch_loss += loss.item()\n",
        "    epoch_acc += acc.item()\n",
        "  \n",
        "  return epoch_loss / len(iterator), epoch_acc / len(iterator)"
      ],
      "execution_count": null,
      "outputs": []
    },
    {
      "cell_type": "code",
      "metadata": {
        "id": "6OjFf2QvPj01"
      },
      "source": [
        "def evaluate(model, iterator, criterion):\n",
        "    \n",
        "    epoch_loss = 0\n",
        "    epoch_acc = 0\n",
        "    \n",
        "    model.eval()\n",
        "    \n",
        "    with torch.no_grad():\n",
        "    \n",
        "        for batch in iterator:\n",
        "\n",
        "            text, text_lengths = batch.t\n",
        "            \n",
        "            predictions = model(text, text_lengths).squeeze(1)\n",
        "            \n",
        "            loss = criterion(predictions, batch.s)\n",
        "            \n",
        "            acc = binary_accuracy(predictions, batch.s)\n",
        "\n",
        "            epoch_loss += loss.item()\n",
        "            epoch_acc += acc.item()\n",
        "        \n",
        "    return epoch_loss / len(iterator), epoch_acc / len(iterator)"
      ],
      "execution_count": null,
      "outputs": []
    },
    {
      "cell_type": "code",
      "metadata": {
        "id": "4N9efjYpPrJp"
      },
      "source": [
        "import time\n",
        "\n",
        "def epoch_time(start_time, end_time):\n",
        "    elapsed_time = end_time - start_time\n",
        "    elapsed_mins = int(elapsed_time / 60)\n",
        "    elapsed_secs = int(elapsed_time - (elapsed_mins * 60))\n",
        "    return elapsed_mins, elapsed_secs"
      ],
      "execution_count": null,
      "outputs": []
    },
    {
      "cell_type": "code",
      "metadata": {
        "colab": {
          "base_uri": "https://localhost:8080/"
        },
        "id": "-UREoXNmPxDG",
        "outputId": "be7f5b46-92d8-49b2-ffea-0febf3e2028f"
      },
      "source": [
        "N_EPOCHS = 10\n",
        "\n",
        "best_valid_loss = float('inf')\n",
        "\n",
        "for epoch in range(N_EPOCHS):\n",
        "\n",
        "    start_time = time.time()\n",
        "    \n",
        "    train_loss, train_acc = train(model, train_iterator, optimizer, criterion)\n",
        "    valid_loss, valid_acc = evaluate(model, valid_iterator, criterion)\n",
        "    \n",
        "    end_time = time.time()\n",
        "\n",
        "    epoch_mins, epoch_secs = epoch_time(start_time, end_time)\n",
        "    \n",
        "    if valid_loss < best_valid_loss:\n",
        "        best_valid_loss = valid_loss\n",
        "        torch.save(model.state_dict(), 'tut2-model.pt')\n",
        "    \n",
        "    print(f'Epoch: {epoch+1:02} | Epoch Time: {epoch_mins}m {epoch_secs}s')\n",
        "    print(f'\\tTrain Loss: {train_loss:.3f} | Train Acc: {train_acc*100:.2f}%')\n",
        "    print(f'\\t Val. Loss: {valid_loss:.3f} |  Val. Acc: {valid_acc*100:.2f}%')"
      ],
      "execution_count": null,
      "outputs": [
        {
          "output_type": "stream",
          "text": [
            "Epoch: 01 | Epoch Time: 0m 2s\n",
            "\tTrain Loss: 0.701 | Train Acc: 42.07%\n",
            "\t Val. Loss: 0.691 |  Val. Acc: 58.77%\n",
            "Epoch: 02 | Epoch Time: 0m 1s\n",
            "\tTrain Loss: 0.695 | Train Acc: 50.00%\n",
            "\t Val. Loss: 0.686 |  Val. Acc: 59.38%\n",
            "Epoch: 03 | Epoch Time: 0m 1s\n",
            "\tTrain Loss: 0.620 | Train Acc: 71.63%\n",
            "\t Val. Loss: 0.599 |  Val. Acc: 76.39%\n",
            "Epoch: 04 | Epoch Time: 0m 1s\n",
            "\tTrain Loss: 0.430 | Train Acc: 83.89%\n",
            "\t Val. Loss: 0.413 |  Val. Acc: 89.58%\n",
            "Epoch: 05 | Epoch Time: 0m 1s\n",
            "\tTrain Loss: 0.350 | Train Acc: 86.78%\n",
            "\t Val. Loss: 0.361 |  Val. Acc: 88.19%\n",
            "Epoch: 06 | Epoch Time: 0m 1s\n",
            "\tTrain Loss: 0.419 | Train Acc: 80.65%\n",
            "\t Val. Loss: 0.465 |  Val. Acc: 73.44%\n",
            "Epoch: 07 | Epoch Time: 0m 1s\n",
            "\tTrain Loss: 0.368 | Train Acc: 83.77%\n",
            "\t Val. Loss: 0.564 |  Val. Acc: 79.51%\n",
            "Epoch: 08 | Epoch Time: 0m 1s\n",
            "\tTrain Loss: 0.363 | Train Acc: 86.30%\n",
            "\t Val. Loss: 0.948 |  Val. Acc: 54.60%\n",
            "Epoch: 09 | Epoch Time: 0m 1s\n",
            "\tTrain Loss: 0.526 | Train Acc: 75.84%\n",
            "\t Val. Loss: 0.738 |  Val. Acc: 49.65%\n",
            "Epoch: 10 | Epoch Time: 0m 1s\n",
            "\tTrain Loss: 0.585 | Train Acc: 66.47%\n",
            "\t Val. Loss: 0.648 |  Val. Acc: 52.60%\n"
          ],
          "name": "stdout"
        }
      ]
    },
    {
      "cell_type": "code",
      "metadata": {
        "colab": {
          "base_uri": "https://localhost:8080/"
        },
        "id": "IRa0HUkaSpoA",
        "outputId": "d3e9ab6d-dfbf-4bf9-d70c-da5e1d7a5cd3"
      },
      "source": [
        "model.load_state_dict(torch.load('tut2-model.pt'))\n",
        "\n",
        "test_loss, test_acc = evaluate(model, test_iterator, criterion)\n",
        "\n",
        "print(f'Test Loss: {test_loss:.3f} | Test Acc: {test_acc*100:.2f}%')"
      ],
      "execution_count": null,
      "outputs": [
        {
          "output_type": "stream",
          "text": [
            "Test Loss: 0.273 | Test Acc: 92.53%\n"
          ],
          "name": "stdout"
        }
      ]
    },
    {
      "cell_type": "markdown",
      "metadata": {
        "id": "FyMQjbzbSz3y"
      },
      "source": [
        "#Test"
      ]
    },
    {
      "cell_type": "code",
      "metadata": {
        "id": "lqzLPSWGS0i2"
      },
      "source": [
        "import spacy\n",
        "nlp = spacy.load('es_core_news_sm')\n",
        "\n",
        "def predict_sentiment(model, sentence):\n",
        "    model.eval()\n",
        "    tokenized = [tok.text for tok in nlp.tokenizer(sentence)]\n",
        "    indexed = [TEXT.vocab.stoi[t] for t in tokenized]\n",
        "    length = [len(indexed)]\n",
        "    tensor = torch.LongTensor(indexed).to(device)\n",
        "    tensor = tensor.unsqueeze(1)\n",
        "    length_tensor = torch.LongTensor(length)\n",
        "    prediction = torch.sigmoid(model(tensor, length_tensor))\n",
        "    return prediction.item()"
      ],
      "execution_count": null,
      "outputs": []
    },
    {
      "cell_type": "code",
      "metadata": {
        "colab": {
          "base_uri": "https://localhost:8080/"
        },
        "id": "yhuclKAWS-kv",
        "outputId": "7558024a-0fed-4e5e-97fe-4fdec7407461"
      },
      "source": [
        "predict_sentiment(model, \"Servicio excelente\")"
      ],
      "execution_count": null,
      "outputs": [
        {
          "output_type": "execute_result",
          "data": {
            "text/plain": [
              "0.08902443200349808"
            ]
          },
          "metadata": {
            "tags": []
          },
          "execution_count": 41
        }
      ]
    }
  ]
}