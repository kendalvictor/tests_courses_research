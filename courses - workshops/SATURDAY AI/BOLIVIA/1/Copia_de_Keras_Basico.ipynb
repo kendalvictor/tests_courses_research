{
  "nbformat": 4,
  "nbformat_minor": 0,
  "metadata": {
    "colab": {
      "name": "Copia de Keras_Basico.ipynb",
      "provenance": []
    },
    "kernelspec": {
      "name": "python3",
      "display_name": "Python 3"
    },
    "accelerator": "GPU"
  },
  "cells": [
    {
      "cell_type": "code",
      "metadata": {
        "id": "vYNT4cfSphKZ"
      },
      "source": [
        "import tensorflow as tf\n",
        "from tensorflow import keras\n",
        "from tensorflow.keras import layers"
      ],
      "execution_count": null,
      "outputs": []
    },
    {
      "cell_type": "code",
      "metadata": {
        "id": "Wq6WTArOqRUu"
      },
      "source": [
        "model = keras.Sequential()"
      ],
      "execution_count": null,
      "outputs": []
    },
    {
      "cell_type": "code",
      "metadata": {
        "id": "kSG1jQNAqWzj"
      },
      "source": [
        "model.add(keras.Input(shape=(100,)))\n",
        "model.add(layers.Dense(100))"
      ],
      "execution_count": null,
      "outputs": []
    },
    {
      "cell_type": "code",
      "metadata": {
        "id": "dKr36xWYss0z"
      },
      "source": [
        "model.add(layers.ReLU())"
      ],
      "execution_count": null,
      "outputs": []
    },
    {
      "cell_type": "code",
      "metadata": {
        "id": "VpILYSo_s8Em"
      },
      "source": [
        "model.add(layers.Dense(25))\n",
        "model.add(layers.Softmax())"
      ],
      "execution_count": null,
      "outputs": []
    },
    {
      "cell_type": "code",
      "metadata": {
        "id": "m1-LsVOQturQ",
        "colab": {
          "base_uri": "https://localhost:8080/"
        },
        "outputId": "a67e2080-1f7a-433f-efe3-0ff3f53607a7"
      },
      "source": [
        "model.summary()"
      ],
      "execution_count": null,
      "outputs": [
        {
          "output_type": "stream",
          "name": "stdout",
          "text": [
            "Model: \"sequential\"\n",
            "_________________________________________________________________\n",
            "Layer (type)                 Output Shape              Param #   \n",
            "=================================================================\n",
            "dense (Dense)                (None, 100)               10100     \n",
            "_________________________________________________________________\n",
            "re_lu (ReLU)                 (None, 100)               0         \n",
            "_________________________________________________________________\n",
            "dense_1 (Dense)              (None, 25)                2525      \n",
            "_________________________________________________________________\n",
            "softmax (Softmax)            (None, 25)                0         \n",
            "=================================================================\n",
            "Total params: 12,625\n",
            "Trainable params: 12,625\n",
            "Non-trainable params: 0\n",
            "_________________________________________________________________\n"
          ]
        }
      ]
    },
    {
      "cell_type": "code",
      "metadata": {
        "id": "xmgYmFyZtx0R"
      },
      "source": [
        "model = keras.Sequential(\n",
        "    [\n",
        "      layers.InputLayer(input_shape=(100,)),\n",
        "      layers.Dense(100),\n",
        "      layers.ReLU(),\n",
        "      layers.Dense(25),\n",
        "      layers.Softmax(),\n",
        "    ]\n",
        ")"
      ],
      "execution_count": null,
      "outputs": []
    },
    {
      "cell_type": "code",
      "metadata": {
        "id": "qY4KdYURv04Y",
        "colab": {
          "base_uri": "https://localhost:8080/"
        },
        "outputId": "5acfe93a-7f9c-416a-84de-4fd5164756f5"
      },
      "source": [
        "model.summary()"
      ],
      "execution_count": null,
      "outputs": [
        {
          "output_type": "stream",
          "name": "stdout",
          "text": [
            "Model: \"sequential_1\"\n",
            "_________________________________________________________________\n",
            "Layer (type)                 Output Shape              Param #   \n",
            "=================================================================\n",
            "dense_2 (Dense)              (None, 100)               10100     \n",
            "_________________________________________________________________\n",
            "re_lu_1 (ReLU)               (None, 100)               0         \n",
            "_________________________________________________________________\n",
            "dense_3 (Dense)              (None, 25)                2525      \n",
            "_________________________________________________________________\n",
            "softmax_1 (Softmax)          (None, 25)                0         \n",
            "=================================================================\n",
            "Total params: 12,625\n",
            "Trainable params: 12,625\n",
            "Non-trainable params: 0\n",
            "_________________________________________________________________\n"
          ]
        }
      ]
    },
    {
      "cell_type": "code",
      "metadata": {
        "id": "fWoGN0zsvAsM"
      },
      "source": [
        ""
      ],
      "execution_count": null,
      "outputs": []
    }
  ]
}