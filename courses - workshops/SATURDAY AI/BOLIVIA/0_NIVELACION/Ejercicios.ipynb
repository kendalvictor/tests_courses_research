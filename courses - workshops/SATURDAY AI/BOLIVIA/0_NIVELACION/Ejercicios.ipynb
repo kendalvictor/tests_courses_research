{
  "nbformat": 4,
  "nbformat_minor": 0,
  "metadata": {
    "colab": {
      "name": "Ejercicios.ipynb",
      "provenance": []
    },
    "kernelspec": {
      "name": "python3",
      "display_name": "Python 3"
    },
    "language_info": {
      "name": "python"
    }
  },
  "cells": [
    {
      "cell_type": "markdown",
      "metadata": {
        "id": "_fy6clFfvnlG"
      },
      "source": [
        "# Ejercicios para practicar\n",
        "¡Hola!, estos ejercicios son para poner a practica lo que se vio en las clases de nivelación. No hay una única solución para cada ejercicio.<br>\n",
        "Cada ejercicio tiene su solución oculta, solo debe pinchar en \"Mostrar código\". Se recomienda que intente hacer los ejercicios antes de ver la respuesta."
      ]
    },
    {
      "cell_type": "code",
      "metadata": {
        "id": "Vt1ABD4UkSfO"
      },
      "source": [
        "import numpy as np"
      ],
      "execution_count": null,
      "outputs": []
    },
    {
      "cell_type": "markdown",
      "metadata": {
        "id": "0Fa17AI1o6HP"
      },
      "source": [
        "1.- Hacer un for que vaya del 1 al 100 y que solo imprima los numeros primos.\n",
        "<br>\n",
        "Pista: Usar una condicional dentro del for"
      ]
    },
    {
      "cell_type": "code",
      "metadata": {
        "id": "IzchPYqcw2Y2"
      },
      "source": [
        ""
      ],
      "execution_count": null,
      "outputs": []
    },
    {
      "cell_type": "code",
      "metadata": {
        "id": "Or-6HPnHha9x"
      },
      "source": [
        "#@title\n",
        "#Solución\n",
        "for num in range(1,101):\n",
        "   if num > 1:\n",
        "       for i in range(2, num):\n",
        "           if (num % i) == 0:\n",
        "               break\n",
        "       else:\n",
        "           print(num)"
      ],
      "execution_count": null,
      "outputs": []
    },
    {
      "cell_type": "markdown",
      "metadata": {
        "id": "6LL8C6fpp3aD"
      },
      "source": [
        "2.- Hacer un for que imprima una lista de ciudades que contenga: Tokyo, New York, Toronto, Hong Kong. "
      ]
    },
    {
      "cell_type": "code",
      "metadata": {
        "id": "ZgQ-kldjw3Aq"
      },
      "source": [
        ""
      ],
      "execution_count": null,
      "outputs": []
    },
    {
      "cell_type": "code",
      "metadata": {
        "id": "2ZqTR1rjgI0P"
      },
      "source": [
        "#@title\n",
        "#Solucion\n",
        "ciudades = ['Tokyo','New York','Toronto','Hong Kong']\n",
        "for i in ciudades:\n",
        "  print(f'Esta vacación viajaré a {i}')"
      ],
      "execution_count": null,
      "outputs": []
    },
    {
      "cell_type": "markdown",
      "metadata": {
        "id": "TtIoSgwqqVSh"
      },
      "source": [
        "3) Como no se viajará a Toronto, se debe imprimir todas las ciudades menos esta ciudad.\n",
        "<br>\n",
        "Pista: Usar condicional"
      ]
    },
    {
      "cell_type": "code",
      "metadata": {
        "id": "CPyuJMo_w3gd"
      },
      "source": [
        ""
      ],
      "execution_count": null,
      "outputs": []
    },
    {
      "cell_type": "code",
      "metadata": {
        "id": "V6YrMTFKghWG"
      },
      "source": [
        "#@title\n",
        "#Solucion\n",
        "ciudades = ['Tokyo','New York','Toronto','Hong Kong']\n",
        "for i in ciudades:\n",
        "  if i != 'Toronto':\n",
        "    print(f'Esta vacación viajaré a {i}')"
      ],
      "execution_count": null,
      "outputs": []
    },
    {
      "cell_type": "markdown",
      "metadata": {
        "id": "BH-3pM4-qacQ"
      },
      "source": [
        "4.- Hacer la siguiente matriz con listas python:\n",
        "<br>\n",
        "[1, 4, 5]<br>\n",
        "[9, 100, 2]<br>\n",
        "[4, 3, 9]\n",
        "<br>"
      ]
    },
    {
      "cell_type": "code",
      "metadata": {
        "id": "2CxFMxdQw6n6"
      },
      "source": [
        ""
      ],
      "execution_count": null,
      "outputs": []
    },
    {
      "cell_type": "code",
      "metadata": {
        "id": "fylDODe5osGA"
      },
      "source": [
        "#@title\n",
        "#Solucion\n",
        "matrix_lista_python = [[1,4,5],[9,100,2],[4,3,9]]"
      ],
      "execution_count": null,
      "outputs": []
    },
    {
      "cell_type": "markdown",
      "metadata": {
        "id": "wDSirp3lquVF"
      },
      "source": [
        "5.- Ubicar mediante index e imprimir el numero 100 de la matriz anterior "
      ]
    },
    {
      "cell_type": "code",
      "metadata": {
        "id": "nMR_yWn6w7S2"
      },
      "source": [
        ""
      ],
      "execution_count": null,
      "outputs": []
    },
    {
      "cell_type": "code",
      "metadata": {
        "id": "c5i6AOU2qthK"
      },
      "source": [
        "#@title\n",
        "#Solucion\n",
        "print(matrix_lista_python[1][1])"
      ],
      "execution_count": null,
      "outputs": []
    },
    {
      "cell_type": "markdown",
      "metadata": {
        "id": "V5FCuexDq4eS"
      },
      "source": [
        "6.- Crear estas dos matrices con numpy array:\n",
        "<br>\n",
        "Matriz 1:\n",
        "<br>\n",
        "[1, 2, 1]<br>\n",
        "[4, 3, 2]<br>\n",
        "[4, 9, 8]\n",
        "<br>\n",
        "Matriz 2:\n",
        "<br>\n",
        "[2, 1, 8]<br>\n",
        "[9, 5, 1]<br>\n",
        "[7, 7, 2]\n",
        "<br>"
      ]
    },
    {
      "cell_type": "code",
      "metadata": {
        "id": "JwF-LE9cw72C"
      },
      "source": [
        ""
      ],
      "execution_count": null,
      "outputs": []
    },
    {
      "cell_type": "code",
      "metadata": {
        "id": "19UpcB5ghVaa"
      },
      "source": [
        "#@title\n",
        "#Solucion\n",
        "matrix_1 = np.array([[1,2,1],[4,3,2],[4,9,8]])\n",
        "matrix_2 = np.array([[2,1,8],[9,5,1],[7,7,2]])"
      ],
      "execution_count": null,
      "outputs": []
    },
    {
      "cell_type": "markdown",
      "metadata": {
        "id": "hZHbtG6groam"
      },
      "source": [
        "7) De las dos matrices anteriores hacer las siguientes operaciones:\n",
        "* Suma\n",
        "* Resta\n",
        "* Multiplicación por punto (Dot product)\n",
        "* Multiplicación Hadamard"
      ]
    },
    {
      "cell_type": "code",
      "metadata": {
        "id": "NPaemgzrw8hz"
      },
      "source": [
        ""
      ],
      "execution_count": null,
      "outputs": []
    },
    {
      "cell_type": "code",
      "metadata": {
        "id": "Lo2tBg7srl_N"
      },
      "source": [
        "#@title\n",
        "#Solucion\n",
        "print(\"La suma de las matrices es: \\n\", matrix_1 + matrix_2)\n",
        "print(\"La resta de las matrices es: \\n \", matrix_1 - matrix_2)\n",
        "print(\"La multiplicación por punto (dot product) es: \\n \", np.dot(matrix_1, matrix_2))\n",
        "print(\"La multiplicación por Hadamard es: \\n \", np.multiply(matrix_1, matrix_2))"
      ],
      "execution_count": null,
      "outputs": []
    },
    {
      "cell_type": "markdown",
      "metadata": {
        "id": "euOLrAEpr5Us"
      },
      "source": [
        "8) Hacer un array que vaya del 1 al 20. Después convertir este array a una matriz de dimensión 5x4"
      ]
    },
    {
      "cell_type": "code",
      "metadata": {
        "id": "XqfIOsHTw9Fq"
      },
      "source": [
        ""
      ],
      "execution_count": null,
      "outputs": []
    },
    {
      "cell_type": "code",
      "metadata": {
        "id": "kzI7vR37lMv_"
      },
      "source": [
        "#@title\n",
        "#Solucion\n",
        "matrix = np.arange(1,21)\n",
        "matrix_con_reshape = matrix.reshape(5,4)\n",
        "print(matrix_con_reshape)"
      ],
      "execution_count": null,
      "outputs": []
    },
    {
      "cell_type": "markdown",
      "metadata": {
        "id": "sOWU0ZpOtlRO"
      },
      "source": [
        "9) Hacer la siguiente matriz:\n",
        "<br>\n",
        "[2, 3, 7]<br>\n",
        "[9, 4, 5]<br>\n",
        "[8, 7, 1]<br>\n",
        "Luego verificar si se puede sacar su inversa.\n",
        "<br>\n",
        "Pista: Se verifica con la determinante"
      ]
    },
    {
      "cell_type": "code",
      "metadata": {
        "id": "dWfn6MYDw9p4"
      },
      "source": [
        ""
      ],
      "execution_count": null,
      "outputs": []
    },
    {
      "cell_type": "code",
      "metadata": {
        "cellView": "form",
        "id": "hxPsWwufmj46"
      },
      "source": [
        "#@title\n",
        "#Solucion\n",
        "matrix = np.array([[2,3,7],[9,4,5],[8,7,1]])\n",
        "determinante = np.linalg.det(matrix)\n",
        "if determinante != 0:\n",
        "  print(\"Tiene inversa\")\n",
        "else:\n",
        "  print(\"No tiene inversa\")"
      ],
      "execution_count": null,
      "outputs": []
    },
    {
      "cell_type": "markdown",
      "metadata": {
        "id": "EV8_SO9tt3PE"
      },
      "source": [
        "10) Hallar la inversa de la matriz."
      ]
    },
    {
      "cell_type": "code",
      "metadata": {
        "id": "AYzaw_GBw-H3"
      },
      "source": [
        ""
      ],
      "execution_count": null,
      "outputs": []
    },
    {
      "cell_type": "code",
      "metadata": {
        "cellView": "form",
        "id": "vHiM7MZ_oZhb"
      },
      "source": [
        "#@title\n",
        "#Solucion\n",
        "print(f\"La inversa es:\\n\",np.linalg.inv(matrix))"
      ],
      "execution_count": null,
      "outputs": []
    },
    {
      "cell_type": "markdown",
      "metadata": {
        "id": "7iYpR9OAt9P9"
      },
      "source": [
        "11)Verificar lo siguiente:\n",
        "<br>\n",
        "![image.png](data:image/png;base64,iVBORw0KGgoAAAANSUhEUgAAApkAAADUCAYAAADX9jjJAAAgAElEQVR4Ae2da8xtR3nfz4d8jCMQ+RBZQYoAWZEiVfmAJWSQmgRLRKrUSqhgpCBUqTgNqEobk6iIJsE4qJQGxwmNKhqbEIm2p8iOUcStaYgI2Emh3AyJTWwuNnbC4WJirjU2hlX938P/3c87Z2btWde91l6/kfZZa8/lmWd+M7Pmv2et9Z5zDQECEIAABCAAAQhAAAIjEzg3sj3MQQACEIAABCAAAQhAoEFkMgggAAEIQAACEIAABEYngMgcHSkGIQABCEAAAhCAAAQQmYwBCEAAAhCAAAQgAIHRCSAyR0eKQQhAAAIQgAAEIAABRCZjAAIQgAAEIAABCEBgdAKIzNGRYhACEIAABCAAAQhAAJHJGIAABCAAAQhAAAIQGJ0AInN0pBiEAAQgAAEIQAACEKgWmT/7K7c0fGDAGGAMMAYYA4wBxgBjYJtjoKts7iQyuxonPwQgAAEIQAACEIDA+gnoh0XXgMjsSoz8EIAABCAAAQhAYGMEEJkb63CaCwEIQAACEIAABOYggMicgzJ1QAACEIAABCAAgY0RQGRurMNpLgQgAAEIQAACEJiDACJzDsrUAQEIQAACEIAABDZGAJG5sQ6nuRCAAAQgAAEIQGAOAojMOShTBwQgAAEIQAACENgYAUTmxjqc5kIAAhCAAAQgAIE5CCAy56BMHRCAAAQgAAEIQGBjBBCZG+twmgsBCEAAAhCAAATmIIDInIMydUAAAhCAAAQgAIGNEUBkbqzDaS4EIAABCEAAAhCYgwAicw7K1AEBCEAAAhCAAAQ2RgCRubEOp7kQgAAEIAABCEBgDgKIzDkoUwcEIAABCEAAAhDYGAFE5sY6nOZCAAIQgAAEIACBOQggMuegTB0QgAAEIAABCEBgYwQQmRvrcJoLAQhAAAIQgAAE5iCAyJyDMnVAAALHSeDBB5vmF3+xaX7kR5rm3LmLxze/+TjbOnarfv7nd8xuu21s69iDAAQWQACRuYBOwAUIjErgNa+5uHhL9OicMB2Ba67ZsRZvfV7xiunqs+Wf+qmz9T772U0jwVsKf/ZnTfPUp54tc2gxbF5zMSuxIR4CEJiMACJzMrQYhsCBCEjkeAGfQ/AcqJmLqNactZP50Y9eFHo6Th1cbzy2/aDwrmHMr7i+QaLVtiS0+wT7ZHZ9bFAGAhBYNAFE5qK7B+cg0IMAIrMHtB5FdIvXQks7iXMG16ujb9VrdzMXtMPp/PIznufy18Qdsu01/pEHAhBYBAFE5iK6AScgMCIBROaIMFtMHVJoWSjqGG/Za4cxDfHxiZtuQmSmfPgOAQhMRgCRORlaDEPgQARKItNiQztfCsrn5/QUJ7Hi5/ri7dDcDpme57PQkR0HlY92lUd1KM62nde3S3VUfd5li/VJFMXnD3Ue67Mt3aKW/97VU73Kq/Jdgtplv9w+2UlvRcd6nM/HffXJJ9URbZQYlWy5Lh1jX+glpDSYn45twlhpYugxIdseF/ERgOh39EPn5hTHj87VZy7nZ0EjZ+VR8Bhwu9wWjR2XVzsIEIDAKgggMlfRTTgJgQ4EtKB78Y+CLMZbeDifj3EB96KuNIsAuxF3zyzkJARKdmVDaVFoWlBI1MS6lFch+mv/fJQgcpBvaXnn01G+1oTYplje59H/tvra6rLQt830GPm32YnllM/CUMcYxMZ5VXdJZMZ8zh+Paq+FZlvbLTJjPemY8Jh0/6se92cUzKrH40Xi2f54vMV2cg4BCCySACJzkd2CUxAYQCCKMy/oMhfjtWDruxbxVKR5wY+iy+LBbkWhYSGQy6+0XLzsRJFhAeGj0l2HhJMFjnxTOfuofBZYyu945Y/iRm1sCxIurlvlXF9qJ/JUXS4jn2qCyiuv6jM31eE2yN4+X1WP69VRIYow7xSm8aqn5LPi5YP62W2Xf3G3MY6Bkp2L3pytJ/qqczOM/S97DjFeeeWPbdRyti2OEIDAQQkgMg+Kn8ohMAEBLcxelL2gq5oYn95WjSLFZeKuUtxhi/ESIQr7hID9iSIhignZt9CwyHIZiR8Lsou17f6N4tB+OzUKoTTNeXyMgtR+OC3akS8OMT62y+ldjrFv0vpzdsxGRwUxc5xEvYOFuv3r6nPMHxnGeNt2nTrGdPmlsupDjRP3Zex/5XeIbZH/pXzOzxECEFgsAUTmYrsGxyDQk0AULFEYlOJVTSnNIkVCwTtccWfSu2apqLDgSY9RpO0TDzFddlSv6zOa6HdaV/wehZfLxmPMG+N9nkuPbZavtUHlJM7FItr1eeyzkk3n1dEh2pOQiwJc5wptPqt/xSkK7lhPbGObnX31XPSkXTzGMWYf9vWh7XKEAAQWQwCRuZiuwBEIjEQgCq8oWErxqraUFhd73y61mJEAdYiiw6Igd/TOp8pFEanyaZBQinlsTyLIu2HRb6fnjvY9rcPfYxnHxWMuPbY5CrBYLj2XH9FW7jz2WVre32M5x8XdaInKeKvbvEo+Kz7+oIj2fR7bWLJjX/alK1/sW+WPIZZ3/RbKMR/nEIDAogkgMhfdPTgHgR4EovCKgqUUrypKafHWuMRdvJUZd5aiKIhipM39NpERy6lOCagoglx3ye9YvubcQkbHXMild22zhJ7tqC1xV7ZrO2wn+hv7xj8ElB6FfcnnuHspIVwjSu1Drr9L9US2bf0f01yP2kSAAARWRQCRuaruwlkIVBAoCZZSvEy2paWCxYt+FEmpwKlws3UnK1c+1iFRpBB3Bi08c2X3xUUBq3piiEI7CqoaIRXttOWPu5Dqi33BfaBjDLGvnCfuAJZ8cN7UXt+2l+qJvkYhqfwOsU71aWxTDRvb4QgBCBycACLz4F2AAxAYmUBJMJbiVX1bWhRAFiMSZWmIYkDiwM9waldMQkfpUUyURIbtKr/KeVctig+LPdVhn3SMu3BKU7tyvroOH2P7JWDtu/yNu3zywaFGSDmvjulOpuuIQlltkC/7QmxzzJv2ldpufspX8jnXRuWN4tvMZScKfvWT6vCnrZ7oa6n/4zgSo+hz2p5oj3MIQGBxBBCZi+sSHILAQAJRMEXBUopXdW1pUVBY3OR2DZUvihLnjUcJBoeSyHB6LJeeRzsSoml6+t02S0cJpCi00vL6nrY5ip8owEp1KD4+JxnriNxin5VsxbIxT9pXtT6nQjfat29pG3O87HsNm1z/x3EowewQ86Ztch6OEIDA4gggMhfXJTgEgYEEomDQuUMpXultaUqPgkKiI4o829dRO08SAXE3SucSV2mZKLgkjtKgXcMoLlRvzo7KybbSLIgkkuSzfPGOYWo//S6hKQ5pW0t1RkGnPDVBdUhImY/bFG3F29slm26nfE1D9D9lHuuJIk42VG8sK/axD1JxJ1tqtwWp2uT6Yj0lNrGs8iu4XTqKlYPsOk31xTTn4QgBCCyOACJzcV2CQxCAAAQgAAEIQGD9BBCZ6+9DWgABCEAAAhCAAAQWRwCRubguwSEIQAACEIAABCCwfgKIzPX3IS2AAAQgAAEIQAACiyOAyFxcl+AQBCAAAQhAAAIQWD8BROb6+5AWQAACEIAABCAAgcURQGQurktwCAIQgAAEIAABCKyfACJz/X1ICyAAAQhAAAIQgMDiCCAyF9clOAQBCEAAAhCAAATWTwCRuf4+pAUQgAAEIAABCEBgcQQQmYvrEhyCAAQgAAEIQAAC6yeAyFx/H9ICCEAAAhCAAAQgsDgCiMzFdQkOQQACEIAABCAAgfUTQGSuvw9pAQQgAAEIQAACEFgcAUTm4roEhyAAAQhAAAIQgMD6CSAy19+HtAACEIAABCAAAQgsjgAic3FdgkMQgAAEIAABCEBg/QQQmevvQ1oAAQhAAAIQgAAEFkcAkbm4LsEhCEAAAhCAAAQgsH4CiMz19yEtgAAEIAABCEAAAosjgMhcXJfgEAQgAAEIQAACEFg/AUTm+vuQFkAAAhCAAAQgAIHFEUBkLq5LcAgCEIAABCAAAQisnwAic/19SAsgAAEIQAACEIDA4gggMhfXJTgEAQhAAAIQgAAE1k8Akbn+PqQFEIAABCAAAQhAYHEEEJmL6xIcggAEIAABCEAAAusngMhcfx/SAghAAAIQgAAEILA4AojMBXXJF77wheZpT3ta8453vGNBXk3nitqp9qrdBAhAAAIQgAAEjosAInMh/fmSl7xkk4LLwlrtJ0AAAhCAAAQgcDwEEJkH7stvfvObzXOf+9zmDW94w4E9OWz12tUUB/EgQAACEIAABCCwfgKIzAP2IQLzLHwJbYTmWSZ8gwAEIAABCKyVACLzgD2nW8THdptY7Tl37lzvdh0jkwMOMaqGAAQgAAEIHIwAIvNA6I/ppRc/Vylx6U/fl5dsq2/5A3Un1ULg4AQ+9rGPNU95ylM28+JgV+Dic8UVVzQ6EiBQInBM42QJbUFklkbahPHHKqQ0oLXIDX1j/JgE+ITDCNMQOCWgOwA8anKKo3jiR5SO7Q5SscEkdCJwjPPo0GMekdlpCI6T+VifPZQ4HHKr3HQ9Kbb+MpR5cIRAiYDnCjv/JUL5ePFClOfZbDHW8+iY1xy17RA/rhCZM8+oY93FFEYNYInMMRY82Ri6Izpz11IdBGYlMMXCaJt+7GUNc9B3UOxzrVBAaM46XBddmdau2nGz6Ibsce4QQhORuadTxk4+VvFk8TzWomR7YwjWsfsQexBYAoEpFwzPv0PsfPRlKx56XEeiszZsRVzU8thiPo2bLrva/lHTdayNyTb9MVg7T11uznUVkTlmz1fY0mCoHRAV5haTRYNWOwmasGOFY2U1Fh/sbJeAFrorr7xysv8tywvpmPN56t7S9aLrj1yJaXHsIkynbgf25yPQpf89J7xjfiiR6R+AFsYWjv6+j97U1460fkRmSmTC7x4cQ39FeFB5sGtwnT9/fpTnIfs2Xxd4TzotTPat60U/1i9OQ8pHW5xDoJaAxrLGr45LDfJt6HWkrW2aw57PbfmWkuZra58+E8faBXop7cWPcQhovHT9IeWxdqj5IZ/Tui2Aa8e/8tXmHUoakTmUYIfyGghD/4SGBVycGI7TwjjlwlNqqiedLtTPf/7zTwWmhWbfC7jssstQok782AQ0dzxmlywyp96J8I/YvvN27H6psedFNl4Xa8opD9eZWlLHla/vPPL8SIXeHHQ8zlOB2NWnvm3v00ZEZh9qPcsM/cWsgZUTkh54h9r1c/2pb160+05GT5xDCOeeXUyxIyDgcZteyJfSNPnVR0zV+u/5vNT259ohHn2vM7Kn8mtqb44Bcd0I9O1zr0tDxls3T3e5NUa1zubmf1vazsLuTPlzdnY5xjlDZI7DscpK30Et4x5AOcF16EVB7UoFpnweYzLONRGqOpBMmyCwZJE5xa6bry2awzp3+3PXmiUOAF9ntPN64cKFk1vfaos+tbuxuoZO+YzrErlt2SePmT5j3GXnFpmuN7fWqi+9DmsO1wS1vXZ+1Ngr5UFklshMEN9XMPmiXxo8Tp/jV0mKxQM/t4valpbaKX0fIsxLNomHQBsBz6fSfGsrO3XamGLIP07jQuOFKjefp25bX/t+XEePIsXHkdyW2L5SHbpWvfCFL+QFoBKgI4sfMo+8rs0tMj3OSyLT162a8a7ulL2rr756spcHPWQQmSYx8dEDs6sQdLm2Aa3FsC19yqZ5ocotyJ4UtYM+56cmzpDyOZvEQaCNgC/WuTHdVm6OtLF+dJXa6Pm8pjnntqQ++/pTK5jV312vz3P0OXWMT2DIulKzJo/v8UVRqLG8T2TWjne3QyymDIjMKekG2307dN9Ff196cGGSU+8W5AaqL/65tFpnVDZdPGrLkg8CfQh43C5RZI4hhHzNyC1GTluT2BKTXFu6isyxBHyfMUeZeQkM6Wuv5XNv7Hg8jyUyRXyM68m+nkNk7iM0UroHSFfBZRGXu+h7sGvQ5dJHcr3VTOkCb9+GCkTxyi0grU6RCIEBBJYqMj2nul5DUhSas6WFSmlzL572z9c6+VbzUX4zyV1nLJhzaa4zHsW1Nm8sx/n6CAwRVx5zc88Ta4jS3PX86TKGVUYspgyIzCnpBtseIF0XCA8cHWPQQNczRHoGqTToYv4pzt2m3CCVv2NMQvFCZE7Re9gsEdCY05zKjetSmTniPeclnvqGNuHVlta3vqnL2ef0+qh6S9fOkk+yxcs/JTrHE2+R2HUtNgGXH2N9s82ao+strfce712uW2LQRZTW+JnmQWSmRCb6bkHWdWB7wYtCSxdDict3vetdJwJMaTqX6NRAnDNoQEffVHcurq9Pan9qv68tykGghoDnXJeLdY3doXl0DRn6d2O9EKWiLC5gS2t3Gzf1VW6xd3u6XDsQmW2kjydt6Dzy2MqNu6kpaW5KZKbzV/W2pZX80pifWjcgMkv0R47vKzLlhhcGDS59/MvDNmPcyG5XmfOibP9yE6DKUCYTIjMDhahJCXg8L01sDV0cBc3XknSOXnfddc0NN9xwsLsifTtUfZQTkmpfVxEgvnO8bdu3rZQbh8DQeXRIkVm6NvX1aY4fVqsQmQ8//HBzzTXXnFwAJWSe97znjTPaZrRiQahBQqgngMisZ0XOcQiULuTjWO9vZejiqJrdNv9QVZyEmuItzG655ZZGonPpwdfU+GOg72KrtsoeInPpvT7cv6HzaMgYG+59/k6hxKJ+VMW5UFPXpkTmm970phMR+frXv/4SNhKVEpcSmkrXsWv47Gc/2zz5yU8+sfOyl72sa/HB+X1B1MWcUE9AvHI7FfUWyAmBbgQsxLpesLvV0j330MXRNXo303cefE1yfBSgLrPUo6+rbouOakefIFuIzD7k1lVm6DyKY85zZ04Crt/XJ4vePuvkpkSmxKMuEKnI1C6m4p/+9KcP6kcLVdk6xE7o3Xff3Vx22WXNjTfeOKgdWyssXuImfgQIzEFgqWJr6OI4B7s11yG+iMw192Cd733nkcWcNET8dH0so87L9lwWmvbDgrO91KWpiMymae64446TDh0iDG0j3nK/FPe0MYjMfnwRmf24Uao7Ad9y8oXbx747Y909aC/Rd3Fst0qqCSAyTeK4j8yjXf8iMkcSmc985jNPhKpumcfzHerpz/zL4xDb69O3broaxKvPbYDpPDp+y9dff332vxrzGF7T7dRj6i39UNUjP7fffvsxNWsxbRHfyy+/nLsmi+mRaRxBZO64bl5keichPer5zdpw/vz5E4H5qle96qSIb5trd3PO4AUakdmNOiKzG6+hubVrVxL13ukrpQ+tm/LtBBCZ7XyGpiIy6wjqtrH+EoGOXUJbOa+Pc1xbmEe7XtMPVv1wFZOpwmLeLs89k6k4vaQjkalnMvVdn7vuuquKh57nFEB9dK6Qq6dkTGUkSvd9JGT3BU8iROY+UmfTEZlneUz5zSKytFPpMVxKn9I3bF98+3no38mEY5mAxjfPZJb5OEXP//V5BrCtnK89czzfiMh0TzYnd0U2LTKFws9T9nkmMycovbNZ84a5bq+nu6i576pnX/ACjcjcR+psOiLzLI+pvmmXwf+DVGkBUR4JzFL6VL5h9yIBXUMQmdONBkTmfra6HmsN7HoN2FfOInOOnUzm0a6fxX3q/+Vq0TuZQtFXZFogagfUu5hD7O26pd8ZIrMfN0RmP25dS+k2+c0333xyq7xtAVHaUl6E6drGtedncZy2BxGZ7Xy9hklkdrkG1JRznjnukqgufqxd7GtE5gCR6TfJc7eyvRvZPqXGTfUkkmgi1BNAZNaz6ptTjCUevZvQtoAojTHcl/SwciyOw/jtKy2+3C7PU/KdDv+vUG3XiGihttycd0mYR7seQmT2FJne/ZSY1K3s9GORqd3OuQIisx9pRGY/brWlNC6vvfbak4f4a0RmrV3yjU+AxXF8ptGi+CIyI5HduUSlP1o/a39ouoyO+8rNdZeEebTrV0RmT5HpP1NkMVk67nvD3LfcS+UdzzOZu0E79hkic2yiZ+3pvw/UhUZBrDWmaxeQs5Z2/y+258W+oxYeQj0BFsd6Vn1yIjLz1HR98H8zWiMWbaVrOdnue+1xnTVH5tGOEiKzh8j0iz1tLwrpzxlpAdwnDnm7fDcYD3WGyJyOvC7qUejpfI63O6dr0XFbZnGctn8RmZfyTZlot7HmGtG33KUe7GJ0fdr3wzWmx2vbzgp/pSGyQGR2FJkShXrRRwOtbZfS/096zRvmsUOGnGvS6c25OX6pDfFzaWURmdP0iC4uWiziRVnnNQvINB7trKY+bfn7jgqLY2QxxXkqjKaoY202JSq9Zvm5yZo3wPuWm4OP+pkXfy6SRmR2FJnamdSCtE88+plN3VafKyAy+5FGZPbj1lZKi4Wew9SYjEELQ80CEstwPh8BFsdpWYsvz2TuGOvaG3cDa0Vm33K7mqc9Yx7t+G5KZHp3Mb2FrT+8LuGot8X3Bf/h9X0v9PhZS+WfK2hgs5PZnTYiszuzfSW0cIhrDLULSCyTno91Oyu1y/eLBFgcpx0JiMwd39KdDq3FbX9mqG+5Xc3TnzGPdow3JTJ3zT7OM0Rmv35FZPbjViqV7jI4n8dn2wLivBwPQ4DFcVru4stOZnPylyb0HzNIgMRgAVm6RuiHap9ysY45zplHO8qIzB2L1Z95EU93kFbfsIkbgMgcD7B2Gku3w8VZuxSl9PG8wFJfAiyOfcnVlUNkXuSk64Q+abDI1GM1udC3XM5WLk72dY2q/eTaILvMox1dROaOxerPEJn9uhCR2Y9bLOXFwRfn+HKPx6XTfCwtJNEu5/MSYHGclrf4bn0nU9fb0tz3D9GceOtbbtoezVtnHu24IDJ3LFZ/5sVck5FQT0C82F2r50XO4yXA4jht325dZEpc6kdmaY1yeipCHd+13LS9WbbOPNqxQWTuWKz+DJHZrwsRmf24UeosAb/Y5J3aqX64pLvGuV2fs57Vf7v77rsbvax4++231xciZzUB8b388ssbHbcUdI31vPAxjludOz4er7rqqkvia8rFPIfgjMjcUUdk7lis/mzrItMXqvRX8L6ORWTuI0R6FwKeh13HYZc6lFfjPT6W0LV8Lj8iM0dlvLitiszxCK7DEiJz10+IzB2L1Z/pAnbZZZc1N9544+rbUtuAdPdIv4JLt1RKNsVL3La2u1DiQfwwAt5pnHo3RSJ27N1SROawvt9XGpG5j9BxpCMyd/2IyNyxWP3ZFkWmO81is8/ODiLTFDmOQWCKHcbUr6l2SxGZKelxvyMyx+W5VGtD5pHXMj82MPUdkTaG/sHcZ121XT16o0dwxGSq8LO/cktn0+dqS/QxXmt7bfnUiVvbyXQfeTKU/r6a8+WOiMwcFeL6EPAC0WccdqnP433s3dIhi2MX/7eaV3y3+Ezm1vq77zzyj0dfP+a6nqT94+uLhS4iMyW00e9bFplabDUh+iy6iMz6CfP4V77SPPK+9zVffOtb6wttKKcvzlPvPky1W9p3cdxQFw9qKiJzEL7VFO47j3TdSAXdXNeUHFyL3tSnXN5SHDuZJTIrjN+qyPSvvb4TAZF56WB/7MKF5qvveU/z0E03Nff90i81H3vWs5o7n/Sk5i/OnTv5PPBbv3VpoSOI0UXev961m3D+/PmT76XnfGN+nfst2lL+MRB5vMu/CxcunPwXfNFnpafBi4XzlZ7l7Ls4pvV1+V7rWxebY+SNfVszFmrqRGTWUFp/nj7zqCQmPd/7rm9DaI5RNyJzSA8srOxWRaYXKd9i6NotiMyzxO596UtPxaRFZTz+1Y/9WPO9Rx89W2jl33yBj2PIu+O5i3tb/pKAGwuRx/sVV1zR6CNfFOxvbIPiLZa8y++Fw9+jX7J95ZVXntqMaVOcd/FtivpzNtv6NjcWcjZKcbItvuJMOF4CfURmOhcinba0mG/sc18rhox7RObYvXJAe158xthF8eDyzoeOGuiHDm6j/dJC6d2jvv6p/NTC4NDcutT/3Uceaf7Pj/94UWhqd/OYQmn85MSG2t01/9isXH8qJj034lj24qQyDpozpUVD8z73f0O77JjHrr6NWXfJltmm15LSWCjZKcUjMktkjiu+q8iM622cq6aiOXuINdh+la4X9q/tiMhso7OyNC8yuUHapSm++MedjrFsd/EjzZvzy5NPE7Bvu1UuLsxpvVv8/uBv/3ZWZH7oGc84ql1Mj+tc/1tYxHnguNr8U4wdzYNc/WlbNK41L6L/+/zxotJ3Lu2z7/Q+vrnsVMeUX6zH/d6FZSzvc7U7/XHgNI7HQ0BjqcsdAY+90jrm+TL32PH1YIjInOOHVZ8XwHm7vMd884Dou0C4fG4Bywm8Hi72KmK/cgPdkzPnc21lXPh3pL7/3e82n3vlK5v3/9APZUXmhbe8ZZf5CM48rnNzxhf2mNaWX2m5MRoxxR9FWlD2fVJR47mQW2wshJTmZzX3+RN987nakdbrtPTYpz1uQx/f0vrH/N7Wt7mx0Kdu8VI9hOMmMJXIHLLO9SE+xlxFZPYhv9AyHhC1C0RshsvmBnFbWrQx1Xnbxd8L65ALt3jlFu2p2rNUu4/ef//JCz7x+ct4rl1MidBjCR47ub7Pjfm2/G1pY/JyPbk5rjjvXDpfrm37/JGdIfNpn/0hvu2z3Te9zafcWOhbj7jm+q6vPcotkwAic9cvmlt6BEfzaKrATuZUZDN2+17ExvqlnnFpUJT9Ki16XljjblPXCqdeVLv6c4j8+pNEd/zwD5/ZvfzE1Vc3X7vjjtP4r7z97YdwbbI628ZWLs1jLRUJFiESeKVxOlYj5FduB9A++Edizv9aH6ZeFIb4VtuGrvnafGpL61KP+miu5127+EXe8Ql4Pmrs1ATfkdM1JFfG154+Pxpr6i/lcTty15xSmTRe7Znab0RmSn3C730EkweSF6gJ3etk2n6VBrgnZim9trK+wrzW/pLz6SWfe170ojPiUrfK9UymgwToR376p/31aI6+cKei0bta6QW/lKkHmk8AABSASURBVP+6665rbrjhhpNdxNwCMSYwjdXcPJVvcR7Ij5LoVd42P7vuwnRt3xDfutZVm7/Ut6WxUGs35pMt3iyPRI77XHO1bZ7F1nutS685zuPxOfWPWNfno/2K1xan1R7l+9R+IzJre2OEfBrUXX81+ELatdwI7raa8GJU8ssTr5TeavwHiZ5EtReDGptryaNdyg/+xE+cEZj/9yd/svnmxz9+SRN0K/3YQm58aUxpPF1//fUnou0DH/hAc+211578yZlcfi8kKqcL8S233NJIdE4R/KMqXrA9ftNFwHnTRUtl5eu+UJtvn51c+lDfcjaHxuX6tm0s9KlP9mLf9bFBmfUQUH/XzDW3SGND8zVXpi3N5ac4lq4vXeqa8lpiPxCZJjHDsc+vZYvM3A6JXJ56Z6OERZOtNOm0KFx11VXF9JLNNF5tj39rME0/xu96rvL+V7/6kpd79EfXn5jwuZklsvTFW+MsjjXHp+LNY9L5NQ4VHD/kB08NnyjQ7ENuUZKtXF77u6+uPteRfTZj+hDfop0xz93nKVfHp2OhS91arLlV3oXY+vNqrnW5Hii/xp7GWwxjCL1or8v50Lpdvva608W3mBeRGWlMfN6nU+MFPx3gGhwl8TlxU04X7nQR1QKo3SL5OuTCL/8P2b6p+eXsa0fy4895zpndy7/80R9tju15y1zbiasn4OtIOvfqLZAzEtB1povgiGU5XyeBPj/UtKal663saJ1L1+Y5qPg60Hedlba4+uqrJ//PBxCZc4yGUIcGY9cBqfz+BR+P6YAP1Ux+6skVfdCip4v1fffddzIZlXbzzTdnbzHUONiHVY3dJeb50vnzZ/5rSL05rpd7vvPQQ0t0d3M+fe3/LevN/T6L5OY6raLBWmi7/M3ECpNkWQEBC7Quu3je8PH6bRtxDZyz6fZHmqBLO+zjXD+uEJkmPtNRHdtnUErARYHpgT6T29lq1Jbok3dWPPmU1tdPT6A+kyfr7EIjdQv8Uy9+8Zndy/TlnoW6vim3fv3tn2u++PXHFtVmzbe+82tRDTmgM+Ln69YB3aDqAxDoM3+8LnndO8T8i+ur/dCx647mXGMfkTnz4PYgPXbxNBRrXzE+tN45y3/jwx+ufrlnTr+o6yyBe77wreYXbr67ef17Pn824cDfvNggkvp1hK4x3Cbvx+4YSuluwNae+Xe/zXknBJFp6jMetShwcSsDP/bFUy/3fP51r+PlnvIQWFTK7733oRORKaH5kQe+sSjfPFf40dqtWxCY3Xgda+65dvOWxq/PLm7fNiAy+5IbUI7dzHZ4x7yLqWcs7/qZnzlze5yXe9rHwyFT9SzmS958z6nI/Lf/877m8Se+f0iXsnVvdbHMwtgTqevLIW5z7nGL5AMQ2OJu5py7mOpSROYBBraqPGYhNQTpMQvwL996Ky/3DBkcByh760e+dCowtZOpz9s/9pUDeLK/Su1O6NksXVsIlxLQ4nqoN4Ev9YaYpRDY0p3FQ9z5QGQecKTr1zS/qM92wDEy0cs99770pWd2L/Vyj26ZH9P/N362J9f/7Ynvfb95+X+79xKR+S/+8J7my994fP0NpAUQgMAJAa07EpvHHua8TW6WiEyTOMDRvyq2MLhr8B7jL0r9Dz36n3r0J4n8+dAzntHopR/Csgn81We+fonA9G7m7/zvB5ftPN5BAALVBLawFh9CYKoDEJnVw3CajFsY3DXkjlFg6v8Y146lxaWO2tHc2v/cU9P/S8xzwzvuL4pMic1PPPTNJbqNTxCAQE8Cx7qjeSiBqW5AZPYcjGMXO9bBXcPpkBOgxr8+eR67cOHM85d3PulJjZ7JJKyDgF74ee07H2i0Y/m6dz9wKjb/3W2fae789Nca/Vmjv3/kO+toDF5CAALVBLQedf2bk9XGZ87o55DVpkMFROahyGfq1UDY0oP7ekFB7T3kBMh0w2hRX3zrW092MfU2Of9zz2hYZzfkv5Op3UsJTwIEIACBNgL3X7i3LXlTaYjMTXU3jZ2bgP7fcV7umZv6uPU99A/fOd3JvO5tnx7XONYgAIGjIfChv/2L5lf/4BeaN779N4+mTUMbgsgcSpDyEIDAURPQm+R+4UdvmxMgAAEIRAIWl//8hisbfd75wf8Rkzd9jsjcdPfTeAhAoIaARaaOBAhAAAJPfO+J5v2ffPfJzqXFpY+f+NyHAPQDAohMhgIEIACBPQT+5R996nQ389uPPbEnN8kQgMCxEpC4fN9d72j+9e8//2TX0sIyHr/16LL++9lD9gUi85D0qRsCEFgFAf13kt7N5A+xr6LLcBICkxCQyHzLn/5OUWC+7I3/dJJ612oUkbnWnsNvCEBgNgKv/pPPnYrMv73w7dnqpSIIQGCZBPQc5jWvfdYlYvM/ve1Xl+nwgbxCZB4IPNVCAALrIaA/XeSdTP4I+3r6DU8hMBUB3TKPt8h9ftsH3jxVlau0i8hcZbfhNAQgMCeB//r+vz8Vme+/95E5q6YuCEBgYQQ+/6XPNC/+j//4VGT+m//ygtNz7XASdgQQmTsWnK2BwFOf2jT6EM4SOHeuafy57bazaXwbTOCP/vLCqch85ycfHmwPAxCAwDoJPPrYt8+89HPdm17UKO7Ov/nTE+H58Ne/tM6GTeQ1InMisJidiAAi81Kwz352N+H9ildcFKQqR6gi8Mcf/fKpyNQ5AQIQ2CaBN9z6ytNdS+1malfT4cJXH/Qpxx8QQGQyFCCwdgIS3tdcU98K59fO50c/Wl9uwznfe88/nIpM3TonQAAC2yOgP7LuZy911HOZhHYCiMx2PqRCYPkEJBZrRaZupVtc6qhdTcJeAnd++munIvP33vvQ3vxkgAAEjovAvX/312feJv/9P3nNcTVwotYgMicCi9mJCKS3hm+6aSeatEMn4ZSKLsXnbg1LmCmvg3b1XF5HlYvBAk1H12W79sPl0+ciXdbpLhft586Vz2V0jOV827uUnrOnNtuGjmkbc2WIa+75wrdORabeNCdAAALbIfCNbz/S/Kvf/Senu5h+DnM7BPq3FJHZnx0lD0EgFUZR3OlcwYLOu3QWY+mtYQks7wCmZWQnrct5JOpcV6xP6Q5RvNnHWEbpFnsukx6VJ9pReio0Hed2pDbS7ypvLvYr+p3m5/sJgQcefvRUZP7arbtnsMADAQgcNwH98fXX/vdfPhWYeg7z775y/3E3esTWITJHhImpGQikws9CKQo4uaF8FnHeoYx50riY381I81hk2q7z2Qd/T48SiqkItK2SwCsJY9cVy0k4pvZTH/Q9Lev21ZTN2dtQ3ONPfP9kN1N/iP2r33p8Qy2nqRDYNoH0OUy9RU6oJ4DIrGdFziUQkMCLu3upcLKPEk4xXyoiLeKcP+7wOU7HGG9hqDpjsFhT3jQ4rVQmjXf5tJ2Otz3vRiq+VmTmbCou57fr4wgBCEBgwwT054lu+uN/f7KT+Qfvet2GSfRrOiKzHzdKHYpAKpRqRWYqKmXHO3gWbhJbuY8FXUlkikVqwzuNLpOzq7g2kSkfc0Hl7JPS9d1tyeVXnP1L85mL/S2VJx4CEIDAhgnoTfLHv/vYhgn0azoisx83Sh2KQF+RaZElUedzCyt/j8It1z4LxpIwdBntoEr4yW5tGZf1MW2n43O+1ohMi3HlzX1S8en6OEIAAhCAAAR6EkBk9gRHsQMRSMWXxZMFo92SaIq3yxWvsopXmTRN3/cJrVrB6Hz2SaJun4C13z56h1GiMoZce2tEZsot2lSabBAgAAEIQAACIxJAZI4IE1MzEEjFUk50yY2cyHRe2UhFn9N0jEHiy0LP4jHNY+Hqcvoey1kwWnQqn3ckXSZ3lA356uAyqRhWvjTOZXR0ubTNzlNqu9M5QgACEIAABHoQQGT2gEaRAxIYIjLltgRZFICxKRaRzpPmc3oqMmXDt8hd1sLU9i3knK5jTYj5dZ4TiopvE5kWualPsX7ZiII2pnEOAQhAAAIQ6EEAkdkDGkUgAAEIQAACEIAABNoJIDLb+ZAKAQhAAAIQgAAEINCDACKzBzSKQAAC8xH4R7/27ublb/7wfBVOVNPP3fDnjT4ECEAAAlshgMjcSk/TTgislAAic6Udh9sQGIHAr//uLzfPuubpI1iqN/HnH3zPSZ1vfOt/qC+04pzn3/WHJ+3VceyAyBybKPYgAIFRCfQRmR/+zFcblfvNt31yVF/Wbkw8xEV8CBA4JIFrf+MFzT97+XP2uoDI3ItocAZE5mCEGIAABNZKAJE5Xs8hMsdjiaVhBJYgMj/12b+u3rG0ENMu59JDLds52sFO5hyUqQMCEKgi8J//170nO20Slt5xy4nMWz/44Jl8L7jpzlP7en7T5ePxNEPTnDwbGdPSnT2lSZBFWypvkabzWF7xMV1p0Sel6Xt8JtNtVd2Kt73c86eu13lS204v+ZXG206uLuUlQGBqArVCaMqdTETm1L3cNIjM6RlTAwQgUEHAoktHBd/yliCKYijNp7wSaVF4uazFX6xe9mJeC7QoNEsizHmV7vwxzn66fn9X/SWRKVtus8Vz9Fvn0U7OdvRBNhRynJzPvkcunENgTgIlkannL/3RM5Elkek8PkbfLR61++jyyhdvz8d429BRweX9TKbKxTw6l/9K17nyx+BnOkvPOKqsPs5n294lVZrj7EO07zQfXS6153T74Xq9K6t0lXG5mE9pMbiM64ppbeeIzDY6pEEAArMRSIWiKrboiiJL+eL3mM8Cy0IsijXls8hKG5XatMhM87m861G660p9SkVl+j0nAmVP+fRpC6mtnF8qn7bL+RCZbXRJm4OABE8UfapTwkbxDlFsOc4CUCLRwYLR351H9mK+1L7zpUIuF58TWbl88iH1x3756HbF9jtOPlrsuU5/V3mlq14H1xXjZCvadl7XkaalItPtStnF77a574jI3EeIdAhAYBYCEnYSQWlQvAWcBZ13/pw3jff31F5JwKXxsU7XoWNJpOV8l8+Kd0iFoUVmFKzKq3ISh20hzVPyK21XKV9bXaRBYAoCqRAq7QpKEElYOUjopCJJacpjsZgTScrjOmzL+VyuLd6CL93JS9shG/KvTZBZ7Lk+HW0/CkrFq11ttlKBqDI5nxwve2kbcjbMSmmqP/aBbNUGRGYtKfJBAAKTESiJQlUYBZ93NhWX+1h8luxJvOXKKU6CzEHfLWwdp2NJpCm/0mIYU2TaVvQ9CtGSX4jM2COcL4lAKoRK4jEVOCUBF+NL4tFCTukKpXy5eJdNBVoab8GW5ovs07YrrVRO7VL+UrCvUZzm7Kt8Kd51RxvKr7olLvVJ00r+pPGIzJQI3yEAgdkJlEShHImCzyLTYrLkaMmehFkUk6Xysc6YpyTmphSZ8lf2Y2AnM9LgfI0EUsGTfnebUpFp0ZM7Kq+ChVe6Q2lBqPS2fLnyLpsTj/LFdaX+nlSU/JNrq4Veaj8VmfYtbX8UgTn7cqEU77qjDeV3m+VD34DI7EuOchCAwKgEcgLQojLuKuYEXc6RXL5UnOXKKU5lY53OdwiRmfMlbUfJr3Qn07foJcIJEDgkgVTwpN/tWyraJK4sJp0nPVqIWfg53aJpbJEpfyzEdNznX66tFnptItN5Yrvc1igQc/bFoBRvu9GG8ou12hNFtFnWHhGZtaTIBwEITErAQsnPKFpgpiIrzSenvHMZHcyJVudLBaTEWNwdTeu0XdedijTlV1oMqkPxDqoj3uK24HN7nS8VkCoTy9mHXFzqVyoyzTS21fVyhMCcBFLBI+EkMWMBaF8scvxd5fRpCxZeUYwpfyoyFZcTULnyFmKpCJQNp7kNuTzR37Tt0UZaVu13e20/MrKvUSBG0buv3lh3akNsFGQv1zfRdukckVkiQzwEIDA7AQsoiTMLNImpVBRaoDmf80aHLaiUFgWZ8sRyOk9Fl+LSOlXO/qViTvmnEpmpvxKOqiu2qeRXKjJly+I357PSCRCYg0AqtCyW4i6gBabFjvyKgi76qbwWaLZVIzKjiLO9XPlcnPPrKB/1kb19IW278rtdboNtRP8skqMYdL0xLidGZS9Xb6zbNuyLvyuP6rHYtW81R0RmDSXyQAACEIAABCAwGoGc4LGQi8LJgilWnOZT/ijOnF4jMi2oZMMCsVTevihvFMPyzbt9aZ3Rb5/n2m4/YjuUP4pMfY8+uN06RkHocop3HsXl6lW867YN1WkWSldwvc7zg+i9B0TmXkRkgAAEIAABCEAAAmUCFmESqIQdAUTmjgVnEIAABCAAAQhAoDOBdMexs4EjLYDIPNKOpVkQgAAEIAABCExPQLeQc7esp695+TUgMpffR3gIAQhAAAIQgAAEVkcAkbm6LsNhCEAAAhCAAAQgsHwCiMzl9xEeQgACEIAABCAAgdURQGSurstwGAIQgAAEIAABCCyfACJz+X2EhxCAAAQgAAEIQGB1BBCZq+syHIYABCAAAQhAAALLJ4DIXH4f4SEEIAABCEAAAhBYHQFE5uq6DIchAAEIQAACEIDA8gkgMpffR3gIAQhAAAIQgAAEVkcAkbm6LsNhCEAAAhCAAAQgsHwCiMzl9xEeQgACEIAABCAAgdURQGSurstwGAIQgAAEIAABCCyfACJz+X2EhxCAAAQgAAEIQGB1BBCZq+syHIYABCAAAQhAAALLJ4DIXH4f4SEEIAABCEAAAhBYHQFE5uq6DIchAAEIQAACEIDA8gkgMpffR3gIAQhAAAIQgAAEVkcAkbm6LsNhCEAAAhCAAAQgsHwCiMzl9xEeQgACEIAABCAAgdURmFxkqgI+MGAMMAYYA4wBxgBjgDGwvTHQVRmf61qA/BCAAAQgAAEIQAACENhHAJG5jxDpEIAABCAAAQhAAAKdCSAyOyOjAAQgAAEIQAACEIDAPgKIzH2ESIcABCAAAQhAAAIQ6EwAkdkZGQUgAAEIQAACEIAABPYRQGTuI0Q6BCAAAQhAAAIQgEBnAojMzsgoAAEIQAACEIAABCCwjwAicx8h0iEAAQhAAAIQgAAEOhP4/90Sd8E1wZc3AAAAAElFTkSuQmCC)\n",
        "<br>\n",
        "Pista: Al multiplicar por punto debe obtener la matriz identidad"
      ]
    },
    {
      "cell_type": "code",
      "metadata": {
        "id": "K20pQfKBw-lb"
      },
      "source": [
        ""
      ],
      "execution_count": null,
      "outputs": []
    },
    {
      "cell_type": "code",
      "metadata": {
        "cellView": "form",
        "id": "8g0XWOZ0oJol"
      },
      "source": [
        "#@title\n",
        "#Solucion\n",
        "matrix_inv = np.linalg.inv(matrix)\n",
        "mult = np.dot(matrix, matrix_inv)\n",
        "print(mult)"
      ],
      "execution_count": null,
      "outputs": []
    }
  ]
}