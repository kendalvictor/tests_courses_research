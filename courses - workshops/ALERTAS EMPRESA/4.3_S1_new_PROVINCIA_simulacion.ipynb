{
 "cells": [
  {
   "cell_type": "code",
   "execution_count": 1,
   "metadata": {},
   "outputs": [],
   "source": [
    "# Nativos\n",
    "import random as rn\n",
    "import os\n",
    "import sys\n",
    "import gc\n",
    "\n",
    "#calculo\n",
    "import numpy as np\n",
    "import pandas as pd\n",
    "import scipy\n",
    "\n",
    "#grafico\n",
    "import matplotlib.pyplot as plt\n",
    "import seaborn as sns\n",
    "from IPython.display import display\n",
    "%matplotlib inline\n",
    "sns.set(style=\"whitegrid\")\n",
    "\n",
    "#warning ignore future\n",
    "import warnings\n",
    "# warnings.simplefilter(action='ignore', category=FutureWarning)\n",
    "warnings.filterwarnings(\"ignore\")\n",
    "gc.collect()\n",
    "\n",
    "SEED = 29082013\n",
    "os.environ['PYTHONHASHSEED'] = str(SEED)\n",
    "np.random.seed(SEED)\n",
    "rn.seed(SEED)"
   ]
  },
  {
   "cell_type": "code",
   "execution_count": 2,
   "metadata": {},
   "outputs": [
    {
     "data": {
      "text/html": [
       "<div>\n",
       "<style scoped>\n",
       "    .dataframe tbody tr th:only-of-type {\n",
       "        vertical-align: middle;\n",
       "    }\n",
       "\n",
       "    .dataframe tbody tr th {\n",
       "        vertical-align: top;\n",
       "    }\n",
       "\n",
       "    .dataframe thead th {\n",
       "        text-align: right;\n",
       "    }\n",
       "</style>\n",
       "<table border=\"1\" class=\"dataframe\">\n",
       "  <thead>\n",
       "    <tr style=\"text-align: right;\">\n",
       "      <th></th>\n",
       "      <th>_0.3_cut_up_APLANCAMIENTO_PATRIMONIAL_VAR_CEF_SITUACION.1</th>\n",
       "      <th>TIENE_NRO_DOCS_IMPAG_REGISTRADO_MES_ACTUAL</th>\n",
       "      <th>_aux_TRX_CAIDA_50PERCENT_TRANSFERENCIAS__U6M</th>\n",
       "      <th>_3.5_cut_up_DTOTALCAJA_S_EBITDA_VAR_CEF_SITUACION</th>\n",
       "      <th>AFRICA_IMP_ADEX</th>\n",
       "      <th>VARACION_NUM_BANCOS_FULL_RCCC_SF</th>\n",
       "      <th>_7_cut_up_ATRASO_PROM_U12M_COLDIRECT_VIG_VENC_SF</th>\n",
       "      <th>GRUPO_ECON_TIENE_TENDENCIA_AUMENTO_CLASIF_NO_NORMAL_U3M</th>\n",
       "      <th>TENDENCIA_A_DISMINUIR_NRO_TRABAJADORES_SUNAT_U7M</th>\n",
       "      <th>_aux_TRX_CAIDA_40PERCENT_OPERACIONES_MESA__U6M</th>\n",
       "      <th>...</th>\n",
       "      <th>_0.99_cut_up_PERCENT_COL_DIRECTAS_SF</th>\n",
       "      <th>_0.7_cut_up_PERCENT_COL_DIRECTAS_SF</th>\n",
       "      <th>_6_cut_up_NUM_BANCOS_NOIBK_DEBT_MENOR_DE_U3M</th>\n",
       "      <th>_0.4_cut_down_minimo_percent_auto_hipo_u12m</th>\n",
       "      <th>_2_cut_up_NUM_VECES_REACTIVA_IBK</th>\n",
       "      <th>ACTIVIDAD_preocupa</th>\n",
       "      <th>_0.5_cut_up_minimo_percent_others_u12m</th>\n",
       "      <th>_20percent_down_COVER_GAR_AUTO_HIPO_PREN_NOPREFER_ULT_RCC</th>\n",
       "      <th>_1_cut_up_TRX_TIPOS_CASH_OUT_CAIDA_10PERCENT_MES_ANT</th>\n",
       "      <th>_-1_cut_down_DIFF_PROM_CANT_TRX_U6M_U12M_CASHIN</th>\n",
       "    </tr>\n",
       "  </thead>\n",
       "  <tbody>\n",
       "    <tr>\n",
       "      <th>0</th>\n",
       "      <td>0.0</td>\n",
       "      <td>0.0</td>\n",
       "      <td>0.0</td>\n",
       "      <td>0.0</td>\n",
       "      <td>NaN</td>\n",
       "      <td>1.0</td>\n",
       "      <td>0</td>\n",
       "      <td>0.0</td>\n",
       "      <td>1.0</td>\n",
       "      <td>0.0</td>\n",
       "      <td>...</td>\n",
       "      <td>0.0</td>\n",
       "      <td>1.0</td>\n",
       "      <td>0</td>\n",
       "      <td>0.0</td>\n",
       "      <td>0</td>\n",
       "      <td>0</td>\n",
       "      <td>1.0</td>\n",
       "      <td>0.0</td>\n",
       "      <td>0.0</td>\n",
       "      <td>0.0</td>\n",
       "    </tr>\n",
       "    <tr>\n",
       "      <th>1</th>\n",
       "      <td>0.0</td>\n",
       "      <td>0.0</td>\n",
       "      <td>0.0</td>\n",
       "      <td>0.0</td>\n",
       "      <td>NaN</td>\n",
       "      <td>0.0</td>\n",
       "      <td>0</td>\n",
       "      <td>0.0</td>\n",
       "      <td>1.0</td>\n",
       "      <td>0.0</td>\n",
       "      <td>...</td>\n",
       "      <td>1.0</td>\n",
       "      <td>1.0</td>\n",
       "      <td>0</td>\n",
       "      <td>0.0</td>\n",
       "      <td>0</td>\n",
       "      <td>1</td>\n",
       "      <td>1.0</td>\n",
       "      <td>0.0</td>\n",
       "      <td>0.0</td>\n",
       "      <td>0.0</td>\n",
       "    </tr>\n",
       "    <tr>\n",
       "      <th>2</th>\n",
       "      <td>1.0</td>\n",
       "      <td>1.0</td>\n",
       "      <td>0.0</td>\n",
       "      <td>0.0</td>\n",
       "      <td>0.0</td>\n",
       "      <td>-1.0</td>\n",
       "      <td>0</td>\n",
       "      <td>0.0</td>\n",
       "      <td>1.0</td>\n",
       "      <td>0.0</td>\n",
       "      <td>...</td>\n",
       "      <td>0.0</td>\n",
       "      <td>1.0</td>\n",
       "      <td>0</td>\n",
       "      <td>0.0</td>\n",
       "      <td>0</td>\n",
       "      <td>0</td>\n",
       "      <td>1.0</td>\n",
       "      <td>1.0</td>\n",
       "      <td>1.0</td>\n",
       "      <td>1.0</td>\n",
       "    </tr>\n",
       "    <tr>\n",
       "      <th>3</th>\n",
       "      <td>0.0</td>\n",
       "      <td>0.0</td>\n",
       "      <td>0.0</td>\n",
       "      <td>0.0</td>\n",
       "      <td>0.0</td>\n",
       "      <td>0.0</td>\n",
       "      <td>0</td>\n",
       "      <td>0.0</td>\n",
       "      <td>1.0</td>\n",
       "      <td>1.0</td>\n",
       "      <td>...</td>\n",
       "      <td>0.0</td>\n",
       "      <td>1.0</td>\n",
       "      <td>0</td>\n",
       "      <td>1.0</td>\n",
       "      <td>0</td>\n",
       "      <td>0</td>\n",
       "      <td>1.0</td>\n",
       "      <td>1.0</td>\n",
       "      <td>1.0</td>\n",
       "      <td>1.0</td>\n",
       "    </tr>\n",
       "    <tr>\n",
       "      <th>4</th>\n",
       "      <td>0.0</td>\n",
       "      <td>1.0</td>\n",
       "      <td>0.0</td>\n",
       "      <td>0.0</td>\n",
       "      <td>NaN</td>\n",
       "      <td>0.0</td>\n",
       "      <td>1</td>\n",
       "      <td>0.0</td>\n",
       "      <td>0.0</td>\n",
       "      <td>1.0</td>\n",
       "      <td>...</td>\n",
       "      <td>0.0</td>\n",
       "      <td>1.0</td>\n",
       "      <td>0</td>\n",
       "      <td>1.0</td>\n",
       "      <td>0</td>\n",
       "      <td>0</td>\n",
       "      <td>1.0</td>\n",
       "      <td>1.0</td>\n",
       "      <td>1.0</td>\n",
       "      <td>1.0</td>\n",
       "    </tr>\n",
       "  </tbody>\n",
       "</table>\n",
       "<p>5 rows × 2415 columns</p>\n",
       "</div>"
      ],
      "text/plain": [
       "   _0.3_cut_up_APLANCAMIENTO_PATRIMONIAL_VAR_CEF_SITUACION.1  \\\n",
       "0                                                0.0           \n",
       "1                                                0.0           \n",
       "2                                                1.0           \n",
       "3                                                0.0           \n",
       "4                                                0.0           \n",
       "\n",
       "   TIENE_NRO_DOCS_IMPAG_REGISTRADO_MES_ACTUAL  \\\n",
       "0                                         0.0   \n",
       "1                                         0.0   \n",
       "2                                         1.0   \n",
       "3                                         0.0   \n",
       "4                                         1.0   \n",
       "\n",
       "   _aux_TRX_CAIDA_50PERCENT_TRANSFERENCIAS__U6M  \\\n",
       "0                                           0.0   \n",
       "1                                           0.0   \n",
       "2                                           0.0   \n",
       "3                                           0.0   \n",
       "4                                           0.0   \n",
       "\n",
       "   _3.5_cut_up_DTOTALCAJA_S_EBITDA_VAR_CEF_SITUACION  AFRICA_IMP_ADEX  \\\n",
       "0                                                0.0              NaN   \n",
       "1                                                0.0              NaN   \n",
       "2                                                0.0              0.0   \n",
       "3                                                0.0              0.0   \n",
       "4                                                0.0              NaN   \n",
       "\n",
       "   VARACION_NUM_BANCOS_FULL_RCCC_SF  \\\n",
       "0                               1.0   \n",
       "1                               0.0   \n",
       "2                              -1.0   \n",
       "3                               0.0   \n",
       "4                               0.0   \n",
       "\n",
       "   _7_cut_up_ATRASO_PROM_U12M_COLDIRECT_VIG_VENC_SF  \\\n",
       "0                                                 0   \n",
       "1                                                 0   \n",
       "2                                                 0   \n",
       "3                                                 0   \n",
       "4                                                 1   \n",
       "\n",
       "   GRUPO_ECON_TIENE_TENDENCIA_AUMENTO_CLASIF_NO_NORMAL_U3M  \\\n",
       "0                                                0.0         \n",
       "1                                                0.0         \n",
       "2                                                0.0         \n",
       "3                                                0.0         \n",
       "4                                                0.0         \n",
       "\n",
       "   TENDENCIA_A_DISMINUIR_NRO_TRABAJADORES_SUNAT_U7M  \\\n",
       "0                                               1.0   \n",
       "1                                               1.0   \n",
       "2                                               1.0   \n",
       "3                                               1.0   \n",
       "4                                               0.0   \n",
       "\n",
       "   _aux_TRX_CAIDA_40PERCENT_OPERACIONES_MESA__U6M  ...  \\\n",
       "0                                             0.0  ...   \n",
       "1                                             0.0  ...   \n",
       "2                                             0.0  ...   \n",
       "3                                             1.0  ...   \n",
       "4                                             1.0  ...   \n",
       "\n",
       "   _0.99_cut_up_PERCENT_COL_DIRECTAS_SF  _0.7_cut_up_PERCENT_COL_DIRECTAS_SF  \\\n",
       "0                                   0.0                                  1.0   \n",
       "1                                   1.0                                  1.0   \n",
       "2                                   0.0                                  1.0   \n",
       "3                                   0.0                                  1.0   \n",
       "4                                   0.0                                  1.0   \n",
       "\n",
       "   _6_cut_up_NUM_BANCOS_NOIBK_DEBT_MENOR_DE_U3M  \\\n",
       "0                                             0   \n",
       "1                                             0   \n",
       "2                                             0   \n",
       "3                                             0   \n",
       "4                                             0   \n",
       "\n",
       "   _0.4_cut_down_minimo_percent_auto_hipo_u12m  \\\n",
       "0                                          0.0   \n",
       "1                                          0.0   \n",
       "2                                          0.0   \n",
       "3                                          1.0   \n",
       "4                                          1.0   \n",
       "\n",
       "   _2_cut_up_NUM_VECES_REACTIVA_IBK  ACTIVIDAD_preocupa  \\\n",
       "0                                 0                   0   \n",
       "1                                 0                   1   \n",
       "2                                 0                   0   \n",
       "3                                 0                   0   \n",
       "4                                 0                   0   \n",
       "\n",
       "  _0.5_cut_up_minimo_percent_others_u12m  \\\n",
       "0                                    1.0   \n",
       "1                                    1.0   \n",
       "2                                    1.0   \n",
       "3                                    1.0   \n",
       "4                                    1.0   \n",
       "\n",
       "   _20percent_down_COVER_GAR_AUTO_HIPO_PREN_NOPREFER_ULT_RCC  \\\n",
       "0                                                0.0           \n",
       "1                                                0.0           \n",
       "2                                                1.0           \n",
       "3                                                1.0           \n",
       "4                                                1.0           \n",
       "\n",
       "   _1_cut_up_TRX_TIPOS_CASH_OUT_CAIDA_10PERCENT_MES_ANT  \\\n",
       "0                                                0.0      \n",
       "1                                                0.0      \n",
       "2                                                1.0      \n",
       "3                                                1.0      \n",
       "4                                                1.0      \n",
       "\n",
       "   _-1_cut_down_DIFF_PROM_CANT_TRX_U6M_U12M_CASHIN  \n",
       "0                                              0.0  \n",
       "1                                              0.0  \n",
       "2                                              1.0  \n",
       "3                                              1.0  \n",
       "4                                              1.0  \n",
       "\n",
       "[5 rows x 2415 columns]"
      ]
     },
     "execution_count": 2,
     "metadata": {},
     "output_type": "execute_result"
    }
   ],
   "source": [
    "data = pd.read_csv('AVANCE_6.csv', dtype={\n",
    "    'COD_UNICO': str,\n",
    "    'PERIODO': str\n",
    "})\n",
    "data.head()"
   ]
  },
  {
   "cell_type": "code",
   "execution_count": 3,
   "metadata": {},
   "outputs": [
    {
     "name": "stdout",
     "output_type": "stream",
     "text": [
      "(23449, 2415)\n",
      "(1749, 2415)\n"
     ]
    },
    {
     "data": {
      "text/html": [
       "<div>\n",
       "<style scoped>\n",
       "    .dataframe tbody tr th:only-of-type {\n",
       "        vertical-align: middle;\n",
       "    }\n",
       "\n",
       "    .dataframe tbody tr th {\n",
       "        vertical-align: top;\n",
       "    }\n",
       "\n",
       "    .dataframe thead th {\n",
       "        text-align: right;\n",
       "    }\n",
       "</style>\n",
       "<table border=\"1\" class=\"dataframe\">\n",
       "  <thead>\n",
       "    <tr style=\"text-align: right;\">\n",
       "      <th>PERIODO</th>\n",
       "      <th>202009</th>\n",
       "      <th>202010</th>\n",
       "      <th>202011</th>\n",
       "      <th>202012</th>\n",
       "      <th>202101</th>\n",
       "    </tr>\n",
       "    <tr>\n",
       "      <th>target_FINAL_fusion_atraso_feve_2Mbueno</th>\n",
       "      <th></th>\n",
       "      <th></th>\n",
       "      <th></th>\n",
       "      <th></th>\n",
       "      <th></th>\n",
       "    </tr>\n",
       "  </thead>\n",
       "  <tbody>\n",
       "    <tr>\n",
       "      <th>-1.0</th>\n",
       "      <td>136</td>\n",
       "      <td>128</td>\n",
       "      <td>129</td>\n",
       "      <td>120</td>\n",
       "      <td>98</td>\n",
       "    </tr>\n",
       "    <tr>\n",
       "      <th>0.0</th>\n",
       "      <td>192</td>\n",
       "      <td>206</td>\n",
       "      <td>207</td>\n",
       "      <td>213</td>\n",
       "      <td>218</td>\n",
       "    </tr>\n",
       "    <tr>\n",
       "      <th>1.0</th>\n",
       "      <td>31</td>\n",
       "      <td>21</td>\n",
       "      <td>16</td>\n",
       "      <td>17</td>\n",
       "      <td>17</td>\n",
       "    </tr>\n",
       "  </tbody>\n",
       "</table>\n",
       "</div>"
      ],
      "text/plain": [
       "PERIODO                                  202009  202010  202011  202012  \\\n",
       "target_FINAL_fusion_atraso_feve_2Mbueno                                   \n",
       "-1.0                                        136     128     129     120   \n",
       " 0.0                                        192     206     207     213   \n",
       " 1.0                                         31      21      16      17   \n",
       "\n",
       "PERIODO                                  202101  \n",
       "target_FINAL_fusion_atraso_feve_2Mbueno          \n",
       "-1.0                                         98  \n",
       " 0.0                                        218  \n",
       " 1.0                                         17  "
      ]
     },
     "execution_count": 3,
     "metadata": {},
     "output_type": "execute_result"
    }
   ],
   "source": [
    "from utils_alertas import *\n",
    "\n",
    "print(data.shape)\n",
    "data = filtro_banca_s2provincia(data)\n",
    "print(data.shape)\n",
    "\n",
    "col_target = 'target_FINAL_fusion_atraso_feve_2Mbueno'\n",
    "\n",
    "pd.crosstab(\n",
    "    data[col_target].fillna(-1), data['PERIODO']\n",
    ")"
   ]
  },
  {
   "cell_type": "code",
   "execution_count": 4,
   "metadata": {},
   "outputs": [
    {
     "name": "stdout",
     "output_type": "stream",
     "text": [
      "(1138, 2415)\n"
     ]
    }
   ],
   "source": [
    "data.shape, data[data[col_target].notnull()].shape\n",
    "\n",
    "data = data[data[col_target].notnull()]\n",
    "\n",
    "print(data.shape)"
   ]
  },
  {
   "cell_type": "code",
   "execution_count": 5,
   "metadata": {},
   "outputs": [
    {
     "data": {
      "text/plain": [
       "202101    235\n",
       "202012    230\n",
       "202011    223\n",
       "Name: PERIODO, dtype: int64"
      ]
     },
     "execution_count": 5,
     "metadata": {},
     "output_type": "execute_result"
    }
   ],
   "source": [
    "data = data[data['PERIODO'].isin(sorted(data['PERIODO'].unique())[-3:])]\n",
    "data['PERIODO'].value_counts(dropna=False)"
   ]
  },
  {
   "cell_type": "code",
   "execution_count": 6,
   "metadata": {},
   "outputs": [
    {
     "name": "stdout",
     "output_type": "stream",
     "text": [
      "malos detectados  36  total cartera 267\n"
     ]
    }
   ],
   "source": [
    "malos = data[\n",
    "    (data[col_target] == 1 ) #\\\n",
    "    #   & (setalertas['TIENE_DEUDA_REFINANCIADO_RCC'] == 0) & (setalertas['TIENE_DEUDA_REFINANCIADO_IBK'] == 0) & \\\n",
    "    #(setalertas['_3_cut_up_NUM_PROD_DEUDA_VIGENTE_SF_ULT_RCC'] == 0)\n",
    "]\n",
    "total_malos = len(\n",
    "    set(malos['COD_UNICO'])\n",
    ")\n",
    "total_cartera = len(\n",
    "    set(\n",
    "        data['COD_UNICO']\n",
    "    )\n",
    ")\n",
    "\n",
    "print(\"malos detectados \", total_malos, \" total cartera\", total_cartera)"
   ]
  },
  {
   "cell_type": "markdown",
   "metadata": {},
   "source": [
    "#### COMBINACIONES DE 3 ---- 3 COSECHAS"
   ]
  },
  {
   "cell_type": "code",
   "execution_count": 7,
   "metadata": {},
   "outputs": [
    {
     "name": "stdout",
     "output_type": "stream",
     "text": [
      "(1465, 7)\n"
     ]
    },
    {
     "data": {
      "text/html": [
       "<div>\n",
       "<style scoped>\n",
       "    .dataframe tbody tr th:only-of-type {\n",
       "        vertical-align: middle;\n",
       "    }\n",
       "\n",
       "    .dataframe tbody tr th {\n",
       "        vertical-align: top;\n",
       "    }\n",
       "\n",
       "    .dataframe thead th {\n",
       "        text-align: right;\n",
       "    }\n",
       "</style>\n",
       "<table border=\"1\" class=\"dataframe\">\n",
       "  <thead>\n",
       "    <tr style=\"text-align: right;\">\n",
       "      <th></th>\n",
       "      <th>VAR_1</th>\n",
       "      <th>VAR_2</th>\n",
       "      <th>VAR_3</th>\n",
       "      <th>CASOS</th>\n",
       "      <th>CORRECTOS</th>\n",
       "      <th>SCORE</th>\n",
       "      <th>ALL_VARS</th>\n",
       "    </tr>\n",
       "  </thead>\n",
       "  <tbody>\n",
       "    <tr>\n",
       "      <th>254</th>\n",
       "      <td>_1_cut_up_NUM_BANCOS_PRIN_CON_DIAS_ATRASOSF_UL...</td>\n",
       "      <td>_aux_CASHOUT_CAIDA_40PERCENT_PAGOS_MASIVOS__U6M</td>\n",
       "      <td>NaN</td>\n",
       "      <td>7</td>\n",
       "      <td>7</td>\n",
       "      <td>1.000000</td>\n",
       "      <td>NaN</td>\n",
       "    </tr>\n",
       "    <tr>\n",
       "      <th>1416</th>\n",
       "      <td>_aux_NO_TIENE_TRX_POS__HACE_12M</td>\n",
       "      <td>_1_cut_up_MAX_DIAS_ATRASO</td>\n",
       "      <td>IMPORTE_IMPAG_REGISTRADO_MAYOR_A_5MIL_SOLES</td>\n",
       "      <td>6</td>\n",
       "      <td>5</td>\n",
       "      <td>0.833333</td>\n",
       "      <td>_aux_NO_TIENE_TRX_POS__HACE_12M_1_cut_up_MAX_D...</td>\n",
       "    </tr>\n",
       "    <tr>\n",
       "      <th>247</th>\n",
       "      <td>_4_cut_up_MAX_DIAS_ATRASO_SFSF_ULT_RCC</td>\n",
       "      <td>TIENE_EN_OTRAENTIDAD_DEBT_DESCUENTOS_VIGENTE_S...</td>\n",
       "      <td>NaN</td>\n",
       "      <td>6</td>\n",
       "      <td>5</td>\n",
       "      <td>0.833333</td>\n",
       "      <td>NaN</td>\n",
       "    </tr>\n",
       "    <tr>\n",
       "      <th>347</th>\n",
       "      <td>_1_cut_up_NUM_BANCOS_PRIN_CON_DIAS_ATRASOSF_UL...</td>\n",
       "      <td>TIENE_AUMENTO_RIESGO_30PERCENT_A_MAS_U3M</td>\n",
       "      <td>NaN</td>\n",
       "      <td>6</td>\n",
       "      <td>5</td>\n",
       "      <td>0.833333</td>\n",
       "      <td>NaN</td>\n",
       "    </tr>\n",
       "    <tr>\n",
       "      <th>62</th>\n",
       "      <td>_-0.1_cut_down_VENTAS_NETAS_VAR_CEF_SITUACION</td>\n",
       "      <td>TIENE_AUMENTO_COL_INDIRECTA_1_PERCENT_A_MAS_U7M</td>\n",
       "      <td>_1_cut_up_NUM_BANCOS_PRIN_CON_DIAS_ATRASOSF_UL...</td>\n",
       "      <td>6</td>\n",
       "      <td>5</td>\n",
       "      <td>0.833333</td>\n",
       "      <td>_-0.1_cut_down_VENTAS_NETAS_VAR_CEF_SITUACIONT...</td>\n",
       "    </tr>\n",
       "  </tbody>\n",
       "</table>\n",
       "</div>"
      ],
      "text/plain": [
       "                                                  VAR_1  \\\n",
       "254   _1_cut_up_NUM_BANCOS_PRIN_CON_DIAS_ATRASOSF_UL...   \n",
       "1416                    _aux_NO_TIENE_TRX_POS__HACE_12M   \n",
       "247              _4_cut_up_MAX_DIAS_ATRASO_SFSF_ULT_RCC   \n",
       "347   _1_cut_up_NUM_BANCOS_PRIN_CON_DIAS_ATRASOSF_UL...   \n",
       "62        _-0.1_cut_down_VENTAS_NETAS_VAR_CEF_SITUACION   \n",
       "\n",
       "                                                  VAR_2  \\\n",
       "254     _aux_CASHOUT_CAIDA_40PERCENT_PAGOS_MASIVOS__U6M   \n",
       "1416                          _1_cut_up_MAX_DIAS_ATRASO   \n",
       "247   TIENE_EN_OTRAENTIDAD_DEBT_DESCUENTOS_VIGENTE_S...   \n",
       "347            TIENE_AUMENTO_RIESGO_30PERCENT_A_MAS_U3M   \n",
       "62      TIENE_AUMENTO_COL_INDIRECTA_1_PERCENT_A_MAS_U7M   \n",
       "\n",
       "                                                  VAR_3  CASOS  CORRECTOS  \\\n",
       "254                                                 NaN      7          7   \n",
       "1416        IMPORTE_IMPAG_REGISTRADO_MAYOR_A_5MIL_SOLES      6          5   \n",
       "247                                                 NaN      6          5   \n",
       "347                                                 NaN      6          5   \n",
       "62    _1_cut_up_NUM_BANCOS_PRIN_CON_DIAS_ATRASOSF_UL...      6          5   \n",
       "\n",
       "         SCORE                                           ALL_VARS  \n",
       "254   1.000000                                                NaN  \n",
       "1416  0.833333  _aux_NO_TIENE_TRX_POS__HACE_12M_1_cut_up_MAX_D...  \n",
       "247   0.833333                                                NaN  \n",
       "347   0.833333                                                NaN  \n",
       "62    0.833333  _-0.1_cut_down_VENTAS_NETAS_VAR_CEF_SITUACIONT...  "
      ]
     },
     "execution_count": 7,
     "metadata": {},
     "output_type": "execute_result"
    }
   ],
   "source": [
    "_vars = pd.read_csv('COMBINACIONES_S1_PROVINCIA.csv').sort_values(by=['SCORE'], ascending=False)\n",
    "_vars['ALL_VARS'] = _vars['VAR_1'] + _vars['VAR_2'] + _vars['VAR_3']\n",
    "\n",
    "print(_vars.shape)\n",
    "_vars.head()"
   ]
  },
  {
   "cell_type": "code",
   "execution_count": 8,
   "metadata": {},
   "outputs": [
    {
     "data": {
      "text/plain": [
       "(1463, 7)"
      ]
     },
     "execution_count": 8,
     "metadata": {},
     "output_type": "execute_result"
    }
   ],
   "source": [
    "select = _vars[\n",
    "    (~_vars['ALL_VARS'].astype(str).str.contains('COVID')) & \\\n",
    "    (~_vars['ALL_VARS'].astype(str).str.contains('ACTIVIDAD')) &\\\n",
    "    (~_vars['ALL_VARS'].astype(str).str.contains('VENCID')) & (~_vars['ALL_VARS'].astype(str).str.contains('REFI')) & \\\n",
    "    (_vars['SCORE'] >= 0.1)  & (_vars['CASOS'] >= 1) &  (_vars['CASOS'] <= 200)\n",
    "].sort_values(by=['SCORE'], ascending=False)\n",
    "\n",
    "select.shape"
   ]
  },
  {
   "cell_type": "markdown",
   "metadata": {},
   "source": [
    "#### COMBINACIONES DE 2 ---- 3 COSECHAS"
   ]
  },
  {
   "cell_type": "code",
   "execution_count": 9,
   "metadata": {},
   "outputs": [
    {
     "data": {
      "text/plain": [
       "202101    235\n",
       "202012    230\n",
       "202011    223\n",
       "Name: PERIODO, dtype: int64"
      ]
     },
     "execution_count": 9,
     "metadata": {},
     "output_type": "execute_result"
    }
   ],
   "source": [
    "data['PERIODO'].value_counts()"
   ]
  },
  {
   "cell_type": "code",
   "execution_count": 10,
   "metadata": {},
   "outputs": [
    {
     "data": {
      "text/plain": [
       "BEP ZONAL 1    283\n",
       "BEP ZONAL 2    216\n",
       "BEP ZONAL 3    189\n",
       "Name: ZONAL, dtype: int64"
      ]
     },
     "execution_count": 10,
     "metadata": {},
     "output_type": "execute_result"
    }
   ],
   "source": [
    "data['ZONAL'].value_counts()"
   ]
  },
  {
   "cell_type": "code",
   "execution_count": 11,
   "metadata": {},
   "outputs": [
    {
     "data": {
      "text/plain": [
       "S2    688\n",
       "Name: SEGMENTO, dtype: int64"
      ]
     },
     "execution_count": 11,
     "metadata": {},
     "output_type": "execute_result"
    }
   ],
   "source": [
    "data['SEGMENTO'].value_counts()"
   ]
  },
  {
   "cell_type": "code",
   "execution_count": 12,
   "metadata": {},
   "outputs": [],
   "source": [
    "#[col for col in data.columns if 'NORMAL' in col.upper()]"
   ]
  },
  {
   "cell_type": "code",
   "execution_count": 13,
   "metadata": {},
   "outputs": [
    {
     "data": {
      "text/html": [
       "<div>\n",
       "<style scoped>\n",
       "    .dataframe tbody tr th:only-of-type {\n",
       "        vertical-align: middle;\n",
       "    }\n",
       "\n",
       "    .dataframe tbody tr th {\n",
       "        vertical-align: top;\n",
       "    }\n",
       "\n",
       "    .dataframe thead th {\n",
       "        text-align: right;\n",
       "    }\n",
       "</style>\n",
       "<table border=\"1\" class=\"dataframe\">\n",
       "  <thead>\n",
       "    <tr style=\"text-align: right;\">\n",
       "      <th>IS_NORMAL_IBK_SBS</th>\n",
       "      <th>0</th>\n",
       "      <th>1</th>\n",
       "    </tr>\n",
       "    <tr>\n",
       "      <th>NO_CLASIF_NORMAL</th>\n",
       "      <th></th>\n",
       "      <th></th>\n",
       "    </tr>\n",
       "  </thead>\n",
       "  <tbody>\n",
       "    <tr>\n",
       "      <th>0</th>\n",
       "      <td>0</td>\n",
       "      <td>678</td>\n",
       "    </tr>\n",
       "    <tr>\n",
       "      <th>1</th>\n",
       "      <td>10</td>\n",
       "      <td>0</td>\n",
       "    </tr>\n",
       "  </tbody>\n",
       "</table>\n",
       "</div>"
      ],
      "text/plain": [
       "IS_NORMAL_IBK_SBS   0    1\n",
       "NO_CLASIF_NORMAL          \n",
       "0                   0  678\n",
       "1                  10    0"
      ]
     },
     "execution_count": 13,
     "metadata": {},
     "output_type": "execute_result"
    }
   ],
   "source": [
    "data['NO_CLASIF_NORMAL'] = data['IS_NORMAL_IBK_SBS'].apply(lambda _: not(_)).astype(int)\n",
    "\n",
    "pd.crosstab(\n",
    "    data['NO_CLASIF_NORMAL'], data['IS_NORMAL_IBK_SBS']\n",
    ")"
   ]
  },
  {
   "cell_type": "code",
   "execution_count": 14,
   "metadata": {},
   "outputs": [],
   "source": [
    "for colum in ['VAR_1', 'VAR_2', 'VAR_3']:\n",
    "    try:\n",
    "        select[colum] = select[colum].apply(\n",
    "            lambda _: 'NO_CLASIF_NORMAL' if _ in ['CLASIF_SBS__DEFICIENTE', 'CLASIF_SBS__DUDOSO', 'CLASIF_SBS__P.POTENCIAL'] else _)\n",
    "    except:\n",
    "        pass\n",
    "    \n",
    "    try:\n",
    "        select_2[colum] = select_2[colum].apply(\n",
    "            lambda _: 'NO_CLASIF_NORMAL' if _ in ['CLASIF_SBS__DEFICIENTE', 'CLASIF_SBS__DUDOSO', 'CLASIF_SBS__P.POTENCIAL'] else _)  \n",
    "    except:\n",
    "        pass"
   ]
  },
  {
   "cell_type": "code",
   "execution_count": 15,
   "metadata": {},
   "outputs": [
    {
     "data": {
      "text/plain": [
       "['TIENE_DEUDA_REFINANCIADO_RCC',\n",
       " 'MTO_DEUDA_REFINANCIADO_COLDIRECT_SIN_REATCIVA_SF',\n",
       " 'DEBT_REFINANCIADO_PERCENT_ULT_RCC',\n",
       " 'TIENE_DEUDA_REFINANCIADO_IBK']"
      ]
     },
     "execution_count": 15,
     "metadata": {},
     "output_type": "execute_result"
    }
   ],
   "source": [
    "[col for col in data.columns if 'REFI' in col.upper()]"
   ]
  },
  {
   "cell_type": "code",
   "execution_count": 16,
   "metadata": {},
   "outputs": [
    {
     "name": "stdout",
     "output_type": "stream",
     "text": [
      "['_0.001_cut_up_DEBT_VENCIDO_PERCENT_ULT_RCC', 'TIENE_DEUDA_LEASING_VENCIDO_RCC', 'DEBT_FACTORING_VENCIDO_PERCENT_ULT_RCC', 'TIENE_DEUDA_VENCIDO_RCC', 'TIENE_VIEGNTE_VENCIDO_IBK', 'DEBT_LEASING_VENCIDO_PERCENT_ULT_RCC', 'DEBT_COMEX_VENCIDO_PERCENT_ULT_RCC', 'TIENE_VENCIDO_Y_VIGENTES_SF', '_0_cut_up_DEBT_VENCIDO_PERCENT_ULT_RCC', 'NRO_PROD_DEUDA_VENCIDO_SF_ULT_RCC', 'TIENE_EN_OTRAENTIDAD_DEBT_FACTORING_VENCIDO_SF_ULT_RCC', 'FLG_VENCIDA', 'TIENE_EN_OTRAENTIDAD_DEBT_PRESTAMOS_VENCIDO_SF_ULT_RCC', 'TIENE_DEUDA_SOBREGIROS__AVANCES_VENCIDO_RCC', 'TIENE_DEUDA_COMEX_VENCIDO_RCC', 'TIENE_DEUDA_VENCIDO_IBK', 'PERCENT_DEBT_VENCIDO_S_DTOTAL_SF_ULT_RCC', 'TIENE_EN_OTRAENTIDAD_DEBT_SOBREGIROS__AVANCES_VENCIDO_SF_ULT_RCC', 'TIENE_EN_OTRAENTIDAD_DEBT_COMEX_VENCIDO_SF_ULT_RCC', 'DEBT_PRESTAMOS_VENCIDO_PERCENT_ULT_RCC', 'DEBT_VENCIDO_PERCENT_ULT_RCC', 'NRO_PROD_OTRA_ENTIDAD_DEUDAS_VENCIDO_SF_ULT_RCC', 'TIENE_EN_OTRAENTIDAD_DEBT_DESCUENTOS_VENCIDO_SF_ULT_RCC', 'TIENE_DEUDA_DESCUENTOS_VENCIDO_RCC', 'TIENE_EN_OTRAENTIDAD_DEBT_LEASING_VENCIDO_SF_ULT_RCC', 'MTO_DEUDA_VENCIDO_COLDIRECT_SIN_REATCIVA_SF', 'DEBT_SOBREGIROS__AVANCES_VENCIDO_PERCENT_ULT_RCC', 'DEBT_DESCUENTOS_VENCIDO_PERCENT_ULT_RCC', 'TIENE_DEUDA_FACTORING_VENCIDO_RCC', 'TIENE_DEUDA_PRESTAMOS_VENCIDO_RCC', 'TIENE_VIEGNTE_VENCIDO_RCC']\n"
     ]
    }
   ],
   "source": [
    "print([col for col in data.columns if 'VENCID' in col.upper()])"
   ]
  },
  {
   "cell_type": "code",
   "execution_count": 17,
   "metadata": {},
   "outputs": [
    {
     "data": {
      "text/plain": [
       "0.0    688\n",
       "Name: TIENE_DEUDA_REFINANCIADO_RCC, dtype: int64"
      ]
     },
     "execution_count": 17,
     "metadata": {},
     "output_type": "execute_result"
    }
   ],
   "source": [
    "data['TIENE_DEUDA_REFINANCIADO_RCC'].value_counts(dropna=False)"
   ]
  },
  {
   "cell_type": "code",
   "execution_count": 18,
   "metadata": {},
   "outputs": [
    {
     "data": {
      "text/plain": [
       "['target_fusion_atraso_feve_3',\n",
       " 'target_FINAL_fusion_atraso_feve_2Mbueno',\n",
       " 'target_fusion_atraso_15_feve_all',\n",
       " 'target_fusion_atraso_feve_3_3Mbueno',\n",
       " 'target_fusion_atraso_feve',\n",
       " 'target_fusion_atraso_feve_3_1Mbueno',\n",
       " 'fusion_atraso_grantia',\n",
       " 'target_fusion_atraso_15_feve_all_2Mbueno',\n",
       " 'target_fusion_atraso_feve_2']"
      ]
     },
     "execution_count": 18,
     "metadata": {},
     "output_type": "execute_result"
    }
   ],
   "source": [
    "[col for col in data.columns if 'fusion' in col.lower()]"
   ]
  },
  {
   "cell_type": "code",
   "execution_count": null,
   "metadata": {},
   "outputs": [],
   "source": []
  },
  {
   "cell_type": "code",
   "execution_count": 19,
   "metadata": {},
   "outputs": [
    {
     "name": "stdout",
     "output_type": "stream",
     "text": [
      "//////////\n",
      "---> COLS:  _1_cut_up_NUM_BANCOS_PRIN_CON_DIAS_ATRASOSF_ULT_RCC _aux_CASHOUT_CAIDA_40PERCENT_PAGOS_MASIVOS__U6M nan\n",
      "---> CANTIDAD:  7 7 1.0\n"
     ]
    }
   ],
   "source": [
    "for row in select.sort_values(by=['SCORE'], ascending=False).iterrows():\n",
    "    #print(type(row), row[0], row[1])\n",
    "    print(\"/\"*10)\n",
    "    cols_1 = row[1][0]\n",
    "    cols_2 = row[1][1]\n",
    "    cols_3 = row[1][2]\n",
    "    cantidad = row[1][3]\n",
    "    correctos = row[1][4]\n",
    "    score_feve = float(row[1][5])\n",
    "    print(\"---> COLS: \", cols_1, cols_2, cols_3)\n",
    "    print(\"---> CANTIDAD: \", cantidad, correctos, score_feve)\n",
    "    \n",
    "    if pd.isnull(cols_3):\n",
    "        break"
   ]
  },
  {
   "cell_type": "code",
   "execution_count": 20,
   "metadata": {},
   "outputs": [
    {
     "data": {
      "text/plain": [
       "(1463, 7)"
      ]
     },
     "execution_count": 20,
     "metadata": {},
     "output_type": "execute_result"
    }
   ],
   "source": [
    "select.shape"
   ]
  },
  {
   "cell_type": "code",
   "execution_count": 21,
   "metadata": {},
   "outputs": [
    {
     "data": {
      "text/plain": [
       "((688, 2416),)"
      ]
     },
     "execution_count": 21,
     "metadata": {},
     "output_type": "execute_result"
    }
   ],
   "source": [
    "data.shape, #data"
   ]
  },
  {
   "cell_type": "code",
   "execution_count": 22,
   "metadata": {},
   "outputs": [
    {
     "name": "stdout",
     "output_type": "stream",
     "text": [
      "sei_preocupa ||| _2_cut_up_DTOTAL_S_EBITDA_CEF_SITUACION ||| nan de:  7 coinciden :  4 0.5714285714285714\n",
      "_0_cut_up_TIENE_TENDENCIA_CRECIENTE_{}_U7M_y.1 ||| TRX_CAIDA_30PERCENT_MES_ANTERIOR ||| _0.3_cut_up_ROTACION_CTASXCOBRAR_VAR_CEF_SITUACION de:  10 coinciden :  4 0.4\n",
      "SOLO CUBRE:  0.19444444444444445 7 36\n"
     ]
    }
   ],
   "source": [
    "grupo_alerta = {}\n",
    "cols_usada = []\n",
    "lista_coinciden_valida = []\n",
    "lista_alertados = []\n",
    "listado_por_alerta = []\n",
    "\n",
    "for row in select.sort_values(by=['SCORE'], ascending=False).iterrows():\n",
    "    cols_1 = row[1][0]\n",
    "    cols_2 = row[1][1]\n",
    "    cols_3 = row[1][2]\n",
    "    cantidad = row[1][3]\n",
    "    correctos = row[1][4]\n",
    "    score_feve = float(row[1][5])\n",
    "    \n",
    "    _all = (cols_1 + ' ' + cols_2  if pd.isnull(cols_3) else cols_1 + ' ' + cols_2 + ' ' + cols_3).lower()\n",
    "    \n",
    "    if cols_1 not in cols_usada and cols_2 not in cols_usada and cols_3 not in cols_usada: #and 'eptile_cut' not in _all \\\n",
    "       #and 'suspendido' not in _all and 'cancelado' not in _all and 'norte_exp' not in _all  and 'vencid' not in _all and 'cef' not in _all \\\n",
    "       #and 'tiene_trx' not in _all   and 'tiene_cashout' not in _all:\n",
    "        try: \n",
    "            if pd.isnull(cols_3):\n",
    "                data_que_cumple = data[\n",
    "                    (data[cols_1] >= 1) & (data[cols_2] >= 1)\n",
    "                ]\n",
    "            else:\n",
    "                cols_usada.append(cols_3)\n",
    "                data_que_cumple = data[\n",
    "                    (data[cols_1] >= 1) & (data[cols_2] >= 1) &  (data[cols_3] >= 1)\n",
    "                ]\n",
    "                \n",
    "            alertados = set(data_que_cumple['COD_UNICO'])\n",
    "            listado_por_alerta.append(list(alertados))\n",
    "            cols_usada.append(cols_1)\n",
    "            cols_usada.append(cols_2)\n",
    "            \n",
    "            \n",
    "            bien_alertados = alertados & set(malos['COD_UNICO'])\n",
    "            #print(data_que_cumple.shape, bien_alertados)\n",
    "            if len(bien_alertados) > 3  and len(bien_alertados) / len(alertados) >= 0.1 and len(alertados) < 100:\n",
    "                lista_alertados.extend(alertados)\n",
    "                lista_coinciden_valida.extend(bien_alertados)\n",
    "            \n",
    "                print(cols_1, '|||', cols_2,  '|||', cols_3, 'de: ', len(set(alertados)), 'coinciden : ', len(set(bien_alertados)),\n",
    "                      len(set(bien_alertados)) / len(set(alertados))\n",
    "                )\n",
    "                grupo_alerta[cols_1 + '|'+ cols_2 + '|'+ str(cols_3)] = 'de: {} coinciden: {}'.format(len(alertados), len(bien_alertados))\n",
    "            \n",
    "            if len(set(lista_coinciden_valida)) / len(set(malos['COD_UNICO'])) > 0.7:\n",
    "                print(\"=\"*100)\n",
    "                print(\"De {} alertó bien a: {}\".format(\n",
    "                    len(set(lista_alertados)), len(set(lista_coinciden_valida))\n",
    "                ))\n",
    "                \n",
    "                clientes_detectados_ok = set(lista_coinciden_valida)\n",
    "                clientes_no_alertar = set(lista_alertados) - set(clientes_detectados_ok)\n",
    "                \n",
    "                dicc_cliente_no_alertar = {}\n",
    "                print(\"ANALIZANDO CLIENTES \")\n",
    "                for cliente in clientes_no_alertar:\n",
    "                    aparazco = 0\n",
    "                    for lista_de_alerta in listado_por_alerta:\n",
    "                        if cliente in lista_de_alerta:\n",
    "                            aparazco += 1\n",
    "                    dicc_cliente_no_alertar[cliente] = aparazco\n",
    "                    \n",
    "                dicc_cliente_ok = {}\n",
    "                print(\"ANALIZANDO OK \")\n",
    "                for cliente in clientes_detectados_ok:\n",
    "                    aparazco = 0\n",
    "                    for lista_de_alerta in listado_por_alerta:\n",
    "                        if cliente in lista_de_alerta:\n",
    "                            aparazco += 1\n",
    "                    dicc_cliente_ok[cliente] = aparazco\n",
    "                break\n",
    "        \n",
    "        except Exception as e:\n",
    "            pass\n",
    "            #print(\">\"*50, str(e))\n",
    "        #    print(str(e))\n",
    "        #    #coinciden_feve_duro\n",
    "\n",
    "print(\n",
    "    \"SOLO CUBRE: \", len(set(lista_coinciden_valida)) / len(set(malos['COD_UNICO'])), len(set(lista_coinciden_valida)), \n",
    "     len(set(malos['COD_UNICO']))\n",
    ")"
   ]
  },
  {
   "cell_type": "code",
   "execution_count": null,
   "metadata": {},
   "outputs": [],
   "source": []
  },
  {
   "cell_type": "code",
   "execution_count": null,
   "metadata": {},
   "outputs": [],
   "source": []
  },
  {
   "cell_type": "code",
   "execution_count": null,
   "metadata": {},
   "outputs": [],
   "source": []
  },
  {
   "cell_type": "code",
   "execution_count": null,
   "metadata": {},
   "outputs": [],
   "source": []
  },
  {
   "cell_type": "code",
   "execution_count": null,
   "metadata": {},
   "outputs": [],
   "source": []
  },
  {
   "cell_type": "code",
   "execution_count": null,
   "metadata": {},
   "outputs": [],
   "source": []
  },
  {
   "cell_type": "code",
   "execution_count": null,
   "metadata": {},
   "outputs": [],
   "source": []
  },
  {
   "cell_type": "code",
   "execution_count": null,
   "metadata": {},
   "outputs": [],
   "source": []
  },
  {
   "cell_type": "code",
   "execution_count": null,
   "metadata": {},
   "outputs": [],
   "source": []
  },
  {
   "cell_type": "code",
   "execution_count": null,
   "metadata": {},
   "outputs": [],
   "source": []
  },
  {
   "cell_type": "code",
   "execution_count": null,
   "metadata": {},
   "outputs": [],
   "source": []
  },
  {
   "cell_type": "code",
   "execution_count": null,
   "metadata": {},
   "outputs": [],
   "source": []
  },
  {
   "cell_type": "code",
   "execution_count": null,
   "metadata": {},
   "outputs": [],
   "source": []
  },
  {
   "cell_type": "code",
   "execution_count": null,
   "metadata": {},
   "outputs": [],
   "source": []
  },
  {
   "cell_type": "code",
   "execution_count": null,
   "metadata": {},
   "outputs": [],
   "source": []
  },
  {
   "cell_type": "code",
   "execution_count": null,
   "metadata": {},
   "outputs": [],
   "source": []
  },
  {
   "cell_type": "code",
   "execution_count": null,
   "metadata": {},
   "outputs": [],
   "source": []
  },
  {
   "cell_type": "code",
   "execution_count": null,
   "metadata": {},
   "outputs": [],
   "source": []
  },
  {
   "cell_type": "code",
   "execution_count": null,
   "metadata": {},
   "outputs": [],
   "source": []
  },
  {
   "cell_type": "code",
   "execution_count": null,
   "metadata": {},
   "outputs": [],
   "source": []
  },
  {
   "cell_type": "code",
   "execution_count": null,
   "metadata": {},
   "outputs": [],
   "source": []
  },
  {
   "cell_type": "code",
   "execution_count": null,
   "metadata": {},
   "outputs": [],
   "source": []
  },
  {
   "cell_type": "code",
   "execution_count": null,
   "metadata": {},
   "outputs": [],
   "source": []
  },
  {
   "cell_type": "code",
   "execution_count": null,
   "metadata": {},
   "outputs": [],
   "source": []
  },
  {
   "cell_type": "code",
   "execution_count": null,
   "metadata": {},
   "outputs": [],
   "source": []
  },
  {
   "cell_type": "code",
   "execution_count": null,
   "metadata": {},
   "outputs": [],
   "source": []
  },
  {
   "cell_type": "code",
   "execution_count": null,
   "metadata": {},
   "outputs": [],
   "source": []
  },
  {
   "cell_type": "code",
   "execution_count": null,
   "metadata": {},
   "outputs": [],
   "source": []
  },
  {
   "cell_type": "code",
   "execution_count": null,
   "metadata": {},
   "outputs": [],
   "source": []
  },
  {
   "cell_type": "code",
   "execution_count": null,
   "metadata": {},
   "outputs": [],
   "source": []
  },
  {
   "cell_type": "code",
   "execution_count": null,
   "metadata": {},
   "outputs": [],
   "source": []
  },
  {
   "cell_type": "code",
   "execution_count": null,
   "metadata": {},
   "outputs": [],
   "source": []
  },
  {
   "cell_type": "code",
   "execution_count": null,
   "metadata": {},
   "outputs": [],
   "source": []
  },
  {
   "cell_type": "code",
   "execution_count": null,
   "metadata": {},
   "outputs": [],
   "source": []
  },
  {
   "cell_type": "code",
   "execution_count": null,
   "metadata": {},
   "outputs": [],
   "source": []
  },
  {
   "cell_type": "code",
   "execution_count": null,
   "metadata": {},
   "outputs": [],
   "source": []
  },
  {
   "cell_type": "code",
   "execution_count": null,
   "metadata": {},
   "outputs": [],
   "source": []
  },
  {
   "cell_type": "code",
   "execution_count": null,
   "metadata": {},
   "outputs": [],
   "source": []
  },
  {
   "cell_type": "code",
   "execution_count": null,
   "metadata": {},
   "outputs": [],
   "source": []
  },
  {
   "cell_type": "code",
   "execution_count": null,
   "metadata": {},
   "outputs": [],
   "source": []
  },
  {
   "cell_type": "code",
   "execution_count": null,
   "metadata": {},
   "outputs": [],
   "source": []
  },
  {
   "cell_type": "code",
   "execution_count": null,
   "metadata": {},
   "outputs": [],
   "source": []
  },
  {
   "cell_type": "code",
   "execution_count": null,
   "metadata": {},
   "outputs": [],
   "source": []
  },
  {
   "cell_type": "code",
   "execution_count": null,
   "metadata": {},
   "outputs": [],
   "source": []
  },
  {
   "cell_type": "code",
   "execution_count": null,
   "metadata": {},
   "outputs": [],
   "source": []
  },
  {
   "cell_type": "code",
   "execution_count": null,
   "metadata": {},
   "outputs": [],
   "source": []
  },
  {
   "cell_type": "code",
   "execution_count": null,
   "metadata": {},
   "outputs": [],
   "source": []
  },
  {
   "cell_type": "code",
   "execution_count": null,
   "metadata": {},
   "outputs": [],
   "source": []
  },
  {
   "cell_type": "code",
   "execution_count": null,
   "metadata": {},
   "outputs": [],
   "source": []
  },
  {
   "cell_type": "code",
   "execution_count": null,
   "metadata": {},
   "outputs": [],
   "source": []
  },
  {
   "cell_type": "code",
   "execution_count": null,
   "metadata": {},
   "outputs": [],
   "source": []
  },
  {
   "cell_type": "code",
   "execution_count": null,
   "metadata": {},
   "outputs": [],
   "source": []
  },
  {
   "cell_type": "code",
   "execution_count": null,
   "metadata": {},
   "outputs": [],
   "source": []
  },
  {
   "cell_type": "code",
   "execution_count": null,
   "metadata": {},
   "outputs": [],
   "source": []
  },
  {
   "cell_type": "code",
   "execution_count": null,
   "metadata": {},
   "outputs": [],
   "source": []
  },
  {
   "cell_type": "code",
   "execution_count": null,
   "metadata": {},
   "outputs": [],
   "source": []
  },
  {
   "cell_type": "code",
   "execution_count": null,
   "metadata": {},
   "outputs": [],
   "source": []
  },
  {
   "cell_type": "code",
   "execution_count": null,
   "metadata": {},
   "outputs": [],
   "source": []
  },
  {
   "cell_type": "code",
   "execution_count": null,
   "metadata": {},
   "outputs": [],
   "source": []
  },
  {
   "cell_type": "code",
   "execution_count": null,
   "metadata": {},
   "outputs": [],
   "source": []
  },
  {
   "cell_type": "code",
   "execution_count": null,
   "metadata": {},
   "outputs": [],
   "source": []
  },
  {
   "cell_type": "code",
   "execution_count": null,
   "metadata": {},
   "outputs": [],
   "source": []
  },
  {
   "cell_type": "code",
   "execution_count": null,
   "metadata": {},
   "outputs": [],
   "source": []
  },
  {
   "cell_type": "code",
   "execution_count": null,
   "metadata": {},
   "outputs": [],
   "source": []
  },
  {
   "cell_type": "code",
   "execution_count": null,
   "metadata": {},
   "outputs": [],
   "source": []
  },
  {
   "cell_type": "code",
   "execution_count": null,
   "metadata": {},
   "outputs": [],
   "source": []
  },
  {
   "cell_type": "code",
   "execution_count": null,
   "metadata": {},
   "outputs": [],
   "source": []
  },
  {
   "cell_type": "code",
   "execution_count": null,
   "metadata": {},
   "outputs": [],
   "source": []
  },
  {
   "cell_type": "code",
   "execution_count": null,
   "metadata": {},
   "outputs": [],
   "source": []
  },
  {
   "cell_type": "code",
   "execution_count": null,
   "metadata": {},
   "outputs": [],
   "source": []
  },
  {
   "cell_type": "code",
   "execution_count": null,
   "metadata": {},
   "outputs": [],
   "source": []
  },
  {
   "cell_type": "code",
   "execution_count": null,
   "metadata": {},
   "outputs": [],
   "source": []
  },
  {
   "cell_type": "code",
   "execution_count": null,
   "metadata": {},
   "outputs": [],
   "source": []
  },
  {
   "cell_type": "code",
   "execution_count": null,
   "metadata": {},
   "outputs": [],
   "source": []
  },
  {
   "cell_type": "code",
   "execution_count": null,
   "metadata": {},
   "outputs": [],
   "source": []
  },
  {
   "cell_type": "code",
   "execution_count": null,
   "metadata": {},
   "outputs": [],
   "source": []
  },
  {
   "cell_type": "code",
   "execution_count": null,
   "metadata": {},
   "outputs": [],
   "source": []
  },
  {
   "cell_type": "code",
   "execution_count": null,
   "metadata": {},
   "outputs": [],
   "source": []
  },
  {
   "cell_type": "code",
   "execution_count": null,
   "metadata": {},
   "outputs": [],
   "source": []
  },
  {
   "cell_type": "code",
   "execution_count": null,
   "metadata": {},
   "outputs": [],
   "source": []
  },
  {
   "cell_type": "code",
   "execution_count": null,
   "metadata": {},
   "outputs": [],
   "source": []
  },
  {
   "cell_type": "code",
   "execution_count": null,
   "metadata": {},
   "outputs": [],
   "source": []
  },
  {
   "cell_type": "code",
   "execution_count": null,
   "metadata": {},
   "outputs": [],
   "source": []
  },
  {
   "cell_type": "code",
   "execution_count": null,
   "metadata": {},
   "outputs": [],
   "source": []
  },
  {
   "cell_type": "code",
   "execution_count": null,
   "metadata": {},
   "outputs": [],
   "source": []
  },
  {
   "cell_type": "code",
   "execution_count": null,
   "metadata": {},
   "outputs": [],
   "source": []
  },
  {
   "cell_type": "code",
   "execution_count": null,
   "metadata": {},
   "outputs": [],
   "source": []
  },
  {
   "cell_type": "code",
   "execution_count": null,
   "metadata": {},
   "outputs": [],
   "source": []
  },
  {
   "cell_type": "code",
   "execution_count": null,
   "metadata": {},
   "outputs": [],
   "source": []
  },
  {
   "cell_type": "code",
   "execution_count": null,
   "metadata": {},
   "outputs": [],
   "source": []
  },
  {
   "cell_type": "code",
   "execution_count": null,
   "metadata": {},
   "outputs": [],
   "source": []
  },
  {
   "cell_type": "code",
   "execution_count": null,
   "metadata": {},
   "outputs": [],
   "source": []
  },
  {
   "cell_type": "code",
   "execution_count": null,
   "metadata": {},
   "outputs": [],
   "source": []
  },
  {
   "cell_type": "code",
   "execution_count": null,
   "metadata": {},
   "outputs": [],
   "source": []
  },
  {
   "cell_type": "code",
   "execution_count": null,
   "metadata": {},
   "outputs": [],
   "source": []
  },
  {
   "cell_type": "code",
   "execution_count": null,
   "metadata": {},
   "outputs": [],
   "source": []
  },
  {
   "cell_type": "code",
   "execution_count": null,
   "metadata": {},
   "outputs": [],
   "source": []
  },
  {
   "cell_type": "code",
   "execution_count": null,
   "metadata": {},
   "outputs": [],
   "source": []
  },
  {
   "cell_type": "code",
   "execution_count": null,
   "metadata": {},
   "outputs": [],
   "source": []
  },
  {
   "cell_type": "code",
   "execution_count": null,
   "metadata": {},
   "outputs": [],
   "source": []
  },
  {
   "cell_type": "code",
   "execution_count": null,
   "metadata": {},
   "outputs": [],
   "source": []
  },
  {
   "cell_type": "code",
   "execution_count": null,
   "metadata": {},
   "outputs": [],
   "source": []
  },
  {
   "cell_type": "code",
   "execution_count": null,
   "metadata": {},
   "outputs": [],
   "source": []
  },
  {
   "cell_type": "code",
   "execution_count": null,
   "metadata": {},
   "outputs": [],
   "source": []
  },
  {
   "cell_type": "code",
   "execution_count": null,
   "metadata": {},
   "outputs": [],
   "source": []
  },
  {
   "cell_type": "code",
   "execution_count": null,
   "metadata": {},
   "outputs": [],
   "source": []
  },
  {
   "cell_type": "code",
   "execution_count": null,
   "metadata": {},
   "outputs": [],
   "source": []
  },
  {
   "cell_type": "code",
   "execution_count": null,
   "metadata": {},
   "outputs": [],
   "source": []
  },
  {
   "cell_type": "code",
   "execution_count": null,
   "metadata": {},
   "outputs": [],
   "source": []
  },
  {
   "cell_type": "code",
   "execution_count": null,
   "metadata": {},
   "outputs": [],
   "source": []
  },
  {
   "cell_type": "code",
   "execution_count": null,
   "metadata": {},
   "outputs": [],
   "source": []
  },
  {
   "cell_type": "code",
   "execution_count": null,
   "metadata": {},
   "outputs": [],
   "source": []
  },
  {
   "cell_type": "code",
   "execution_count": null,
   "metadata": {},
   "outputs": [],
   "source": []
  },
  {
   "cell_type": "code",
   "execution_count": null,
   "metadata": {},
   "outputs": [],
   "source": []
  },
  {
   "cell_type": "code",
   "execution_count": null,
   "metadata": {},
   "outputs": [],
   "source": []
  },
  {
   "cell_type": "code",
   "execution_count": null,
   "metadata": {},
   "outputs": [],
   "source": []
  },
  {
   "cell_type": "code",
   "execution_count": null,
   "metadata": {},
   "outputs": [],
   "source": []
  },
  {
   "cell_type": "code",
   "execution_count": null,
   "metadata": {},
   "outputs": [],
   "source": []
  },
  {
   "cell_type": "code",
   "execution_count": null,
   "metadata": {},
   "outputs": [],
   "source": []
  },
  {
   "cell_type": "code",
   "execution_count": null,
   "metadata": {},
   "outputs": [],
   "source": []
  },
  {
   "cell_type": "code",
   "execution_count": null,
   "metadata": {},
   "outputs": [],
   "source": []
  },
  {
   "cell_type": "code",
   "execution_count": null,
   "metadata": {},
   "outputs": [],
   "source": []
  },
  {
   "cell_type": "code",
   "execution_count": null,
   "metadata": {},
   "outputs": [],
   "source": []
  },
  {
   "cell_type": "code",
   "execution_count": null,
   "metadata": {},
   "outputs": [],
   "source": []
  },
  {
   "cell_type": "code",
   "execution_count": null,
   "metadata": {},
   "outputs": [],
   "source": []
  },
  {
   "cell_type": "code",
   "execution_count": null,
   "metadata": {},
   "outputs": [],
   "source": []
  },
  {
   "cell_type": "code",
   "execution_count": null,
   "metadata": {},
   "outputs": [],
   "source": []
  },
  {
   "cell_type": "code",
   "execution_count": null,
   "metadata": {},
   "outputs": [],
   "source": []
  },
  {
   "cell_type": "code",
   "execution_count": null,
   "metadata": {},
   "outputs": [],
   "source": []
  },
  {
   "cell_type": "code",
   "execution_count": null,
   "metadata": {},
   "outputs": [],
   "source": []
  },
  {
   "cell_type": "code",
   "execution_count": null,
   "metadata": {},
   "outputs": [],
   "source": []
  },
  {
   "cell_type": "code",
   "execution_count": null,
   "metadata": {},
   "outputs": [],
   "source": []
  },
  {
   "cell_type": "code",
   "execution_count": null,
   "metadata": {},
   "outputs": [],
   "source": []
  },
  {
   "cell_type": "code",
   "execution_count": null,
   "metadata": {},
   "outputs": [],
   "source": []
  },
  {
   "cell_type": "code",
   "execution_count": null,
   "metadata": {},
   "outputs": [],
   "source": []
  },
  {
   "cell_type": "code",
   "execution_count": null,
   "metadata": {},
   "outputs": [],
   "source": []
  },
  {
   "cell_type": "code",
   "execution_count": null,
   "metadata": {},
   "outputs": [],
   "source": []
  },
  {
   "cell_type": "code",
   "execution_count": null,
   "metadata": {},
   "outputs": [],
   "source": []
  },
  {
   "cell_type": "code",
   "execution_count": null,
   "metadata": {},
   "outputs": [],
   "source": []
  },
  {
   "cell_type": "code",
   "execution_count": null,
   "metadata": {},
   "outputs": [],
   "source": []
  },
  {
   "cell_type": "code",
   "execution_count": null,
   "metadata": {},
   "outputs": [],
   "source": []
  },
  {
   "cell_type": "code",
   "execution_count": null,
   "metadata": {},
   "outputs": [],
   "source": []
  },
  {
   "cell_type": "code",
   "execution_count": null,
   "metadata": {},
   "outputs": [],
   "source": []
  },
  {
   "cell_type": "code",
   "execution_count": null,
   "metadata": {},
   "outputs": [],
   "source": []
  },
  {
   "cell_type": "code",
   "execution_count": null,
   "metadata": {},
   "outputs": [],
   "source": []
  },
  {
   "cell_type": "code",
   "execution_count": null,
   "metadata": {},
   "outputs": [],
   "source": []
  },
  {
   "cell_type": "code",
   "execution_count": null,
   "metadata": {},
   "outputs": [],
   "source": []
  },
  {
   "cell_type": "code",
   "execution_count": null,
   "metadata": {},
   "outputs": [],
   "source": []
  },
  {
   "cell_type": "code",
   "execution_count": null,
   "metadata": {},
   "outputs": [],
   "source": []
  },
  {
   "cell_type": "code",
   "execution_count": null,
   "metadata": {},
   "outputs": [],
   "source": []
  },
  {
   "cell_type": "code",
   "execution_count": null,
   "metadata": {},
   "outputs": [],
   "source": []
  },
  {
   "cell_type": "code",
   "execution_count": null,
   "metadata": {},
   "outputs": [],
   "source": [
    "\n",
    "\n",
    "\n"
   ]
  }
 ],
 "metadata": {
  "kernelspec": {
   "display_name": "Python 3",
   "language": "python",
   "name": "python3"
  },
  "language_info": {
   "codemirror_mode": {
    "name": "ipython",
    "version": 3
   },
   "file_extension": ".py",
   "mimetype": "text/x-python",
   "name": "python",
   "nbconvert_exporter": "python",
   "pygments_lexer": "ipython3",
   "version": "3.8.5"
  }
 },
 "nbformat": 4,
 "nbformat_minor": 4
}
