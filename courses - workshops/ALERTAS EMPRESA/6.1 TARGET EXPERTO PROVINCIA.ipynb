{
 "cells": [
  {
   "cell_type": "code",
   "execution_count": 1,
   "id": "prepared-exhaust",
   "metadata": {},
   "outputs": [],
   "source": [
    "import glob\n",
    "import pandas as pd\n",
    "relacion = []"
   ]
  },
  {
   "cell_type": "code",
   "execution_count": 2,
   "id": "finished-router",
   "metadata": {},
   "outputs": [
    {
     "data": {
      "text/html": [
       "<div>\n",
       "<style scoped>\n",
       "    .dataframe tbody tr th:only-of-type {\n",
       "        vertical-align: middle;\n",
       "    }\n",
       "\n",
       "    .dataframe tbody tr th {\n",
       "        vertical-align: top;\n",
       "    }\n",
       "\n",
       "    .dataframe thead th {\n",
       "        text-align: right;\n",
       "    }\n",
       "</style>\n",
       "<table border=\"1\" class=\"dataframe\">\n",
       "  <thead>\n",
       "    <tr style=\"text-align: right;\">\n",
       "      <th></th>\n",
       "      <th>NOMBRE_COMPLETO</th>\n",
       "      <th>TARGET_EXPERTO</th>\n",
       "      <th>FEVE_GYS</th>\n",
       "      <th>SEGMENTO</th>\n",
       "      <th>COD_UNICO</th>\n",
       "    </tr>\n",
       "  </thead>\n",
       "  <tbody>\n",
       "    <tr>\n",
       "      <th>0</th>\n",
       "      <td>.LIDER</td>\n",
       "      <td>Salir, Reducir, Seguir Covid</td>\n",
       "      <td>Salir, Reducir, Seguir Covid</td>\n",
       "      <td>S1</td>\n",
       "      <td>5834015</td>\n",
       "    </tr>\n",
       "    <tr>\n",
       "      <th>1</th>\n",
       "      <td>ADMINISTRADORA DE SERVICIOS FUNERARIOS</td>\n",
       "      <td>Pendiente por validar</td>\n",
       "      <td>NaN</td>\n",
       "      <td>S1</td>\n",
       "      <td>16975020</td>\n",
       "    </tr>\n",
       "    <tr>\n",
       "      <th>2</th>\n",
       "      <td>AGRICOLA ANDREA</td>\n",
       "      <td>Pendiente por validar</td>\n",
       "      <td>NaN</td>\n",
       "      <td>S1</td>\n",
       "      <td>9386861</td>\n",
       "    </tr>\n",
       "    <tr>\n",
       "      <th>3</th>\n",
       "      <td>AGRICOLA ARANTXA SOCIEDAD ANONIMA</td>\n",
       "      <td>Pendiente por validar</td>\n",
       "      <td>NaN</td>\n",
       "      <td>S1</td>\n",
       "      <td>12893864</td>\n",
       "    </tr>\n",
       "    <tr>\n",
       "      <th>4</th>\n",
       "      <td>AGRICOLA CAMPO NOBLE</td>\n",
       "      <td>Pendiente por validar</td>\n",
       "      <td>NaN</td>\n",
       "      <td>S1</td>\n",
       "      <td>14436399</td>\n",
       "    </tr>\n",
       "  </tbody>\n",
       "</table>\n",
       "</div>"
      ],
      "text/plain": [
       "                          NOMBRE_COMPLETO                TARGET_EXPERTO  \\\n",
       "0                                  .LIDER  Salir, Reducir, Seguir Covid   \n",
       "1  ADMINISTRADORA DE SERVICIOS FUNERARIOS         Pendiente por validar   \n",
       "2                         AGRICOLA ANDREA         Pendiente por validar   \n",
       "3       AGRICOLA ARANTXA SOCIEDAD ANONIMA         Pendiente por validar   \n",
       "4                    AGRICOLA CAMPO NOBLE         Pendiente por validar   \n",
       "\n",
       "                       FEVE_GYS SEGMENTO  COD_UNICO  \n",
       "0  Salir, Reducir, Seguir Covid       S1    5834015  \n",
       "1                           NaN       S1   16975020  \n",
       "2                           NaN       S1    9386861  \n",
       "3                           NaN       S1   12893864  \n",
       "4                           NaN       S1   14436399  "
      ]
     },
     "execution_count": 2,
     "metadata": {},
     "output_type": "execute_result"
    }
   ],
   "source": [
    "ss = pd.read_excel('TARGET_EXPERTO_PROVINCIA.xlsx', engine='openpyxl')\n",
    "ss.head()"
   ]
  },
  {
   "cell_type": "code",
   "execution_count": 3,
   "id": "through-proposition",
   "metadata": {},
   "outputs": [
    {
     "data": {
      "text/plain": [
       "(575, 5)"
      ]
     },
     "execution_count": 3,
     "metadata": {},
     "output_type": "execute_result"
    }
   ],
   "source": [
    "ss.shape"
   ]
  },
  {
   "cell_type": "code",
   "execution_count": 4,
   "id": "weekly-stable",
   "metadata": {},
   "outputs": [
    {
     "data": {
      "text/plain": [
       "NOMBRE_COMPLETO      0\n",
       "TARGET_EXPERTO       0\n",
       "FEVE_GYS           457\n",
       "SEGMENTO             0\n",
       "COD_UNICO            0\n",
       "dtype: int64"
      ]
     },
     "execution_count": 4,
     "metadata": {},
     "output_type": "execute_result"
    }
   ],
   "source": [
    "ss.isnull().sum()"
   ]
  },
  {
   "cell_type": "code",
   "execution_count": 5,
   "id": "contemporary-squad",
   "metadata": {},
   "outputs": [
    {
     "name": "stdout",
     "output_type": "stream",
     "text": [
      "1\n",
      "Wall time: 1min 28s\n"
     ]
    }
   ],
   "source": [
    "%%time\n",
    "\n",
    "from sqlalchemy import create_engine\n",
    "engine = create_engine(r\"mssql+pymssql://ibetlmarket:m@rk3t2o15@10.11.12.90\\BDT/MARKET\")\n",
    "connection_x = engine.connect()\n",
    "\n",
    "try:\n",
    "    ss.to_sql(\n",
    "        name='PROVINCIA_TARGET_EXPERTO',\n",
    "        schema='ODS',\n",
    "        con=connection_x, \n",
    "        index=False, \n",
    "        if_exists='replace'\n",
    "    )\n",
    "    connection_x.close()\n",
    "    correct = 1\n",
    "except Exception as e:\n",
    "    print(\"ERROR: \", str(e))\n",
    "    correct = 0\n",
    "\n",
    "print(correct)"
   ]
  },
  {
   "cell_type": "code",
   "execution_count": null,
   "id": "corresponding-humor",
   "metadata": {},
   "outputs": [],
   "source": []
  }
 ],
 "metadata": {
  "kernelspec": {
   "display_name": "Python 3",
   "language": "python",
   "name": "python3"
  },
  "language_info": {
   "codemirror_mode": {
    "name": "ipython",
    "version": 3
   },
   "file_extension": ".py",
   "mimetype": "text/x-python",
   "name": "python",
   "nbconvert_exporter": "python",
   "pygments_lexer": "ipython3",
   "version": "3.8.5"
  }
 },
 "nbformat": 4,
 "nbformat_minor": 5
}
