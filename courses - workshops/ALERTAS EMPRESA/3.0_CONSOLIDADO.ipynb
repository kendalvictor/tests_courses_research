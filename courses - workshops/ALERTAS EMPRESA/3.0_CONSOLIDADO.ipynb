{
 "cells": [
  {
   "cell_type": "code",
   "execution_count": 1,
   "metadata": {},
   "outputs": [],
   "source": [
    "# Nativos\n",
    "import random as rn\n",
    "import os\n",
    "import sys\n",
    "import gc\n",
    "\n",
    "#calculo\n",
    "import numpy as np\n",
    "import pandas as pd\n",
    "import scipy\n",
    "\n",
    "#grafico\n",
    "import matplotlib.pyplot as plt\n",
    "import seaborn as sns\n",
    "from IPython.display import display\n",
    "%matplotlib inline\n",
    "sns.set(style=\"whitegrid\")\n",
    "\n",
    "#warning ignore future\n",
    "import warnings\n",
    "# warnings.simplefilter(action='ignore', category=FutureWarning)\n",
    "warnings.filterwarnings(\"ignore\")\n",
    "gc.collect()\n",
    "\n",
    "SEED = 29082013\n",
    "os.environ['PYTHONHASHSEED'] = str(SEED)\n",
    "np.random.seed(SEED)\n",
    "rn.seed(SEED)"
   ]
  },
  {
   "cell_type": "code",
   "execution_count": 2,
   "metadata": {},
   "outputs": [
    {
     "data": {
      "text/plain": [
       "['COD_UNICO', 'PERIODO']"
      ]
     },
     "execution_count": 2,
     "metadata": {},
     "output_type": "execute_result"
    }
   ],
   "source": [
    "tipos_llave = {\n",
    "    'COD_UNICO': str,\n",
    "    'PERIODO': str\n",
    "}\n",
    "llave = list(tipos_llave.keys())\n",
    "llave"
   ]
  },
  {
   "cell_type": "markdown",
   "metadata": {},
   "source": [
    "## MEDIANAS"
   ]
  },
  {
   "cell_type": "code",
   "execution_count": 3,
   "metadata": {},
   "outputs": [
    {
     "name": "stdout",
     "output_type": "stream",
     "text": [
      "(24014, 3635)\n"
     ]
    },
    {
     "data": {
      "text/html": [
       "<div>\n",
       "<style scoped>\n",
       "    .dataframe tbody tr th:only-of-type {\n",
       "        vertical-align: middle;\n",
       "    }\n",
       "\n",
       "    .dataframe tbody tr th {\n",
       "        vertical-align: top;\n",
       "    }\n",
       "\n",
       "    .dataframe thead th {\n",
       "        text-align: right;\n",
       "    }\n",
       "</style>\n",
       "<table border=\"1\" class=\"dataframe\">\n",
       "  <thead>\n",
       "    <tr style=\"text-align: right;\">\n",
       "      <th></th>\n",
       "      <th>PERIODO</th>\n",
       "      <th>COD_UNICO</th>\n",
       "      <th>RUC</th>\n",
       "      <th>FLG_VIGENTE</th>\n",
       "      <th>NOMBRE_COMPLETO</th>\n",
       "      <th>FLG_SUSPENDIDO</th>\n",
       "      <th>FLG_VENCIDA</th>\n",
       "      <th>FLG_CANCELADO</th>\n",
       "      <th>FLG_MONOLINEA</th>\n",
       "      <th>FLG_SOLO_REACTIVA</th>\n",
       "      <th>...</th>\n",
       "      <th>_0_cut_up_TIENE_TENDENCIA_CRECIENTE_LEN_NUM_DOCUMENTO_U7M</th>\n",
       "      <th>_0_cut_up_TIENE_TENDENCIA_CRECIENTE_LEN_NUM_DOCUMENTO_U12M</th>\n",
       "      <th>_0_cut_up_TENDENCIA_PROTESTOS_U7M</th>\n",
       "      <th>_0_cut_up_TENDENCIA_PROTESTOS_U12M</th>\n",
       "      <th>_0_cut_up_TIENE_TENDENCIA_CRECIENTE_PROTESTOS_U7M</th>\n",
       "      <th>_0_cut_up_TIENE_TENDENCIA_CRECIENTE_PROTESTOS_U12M</th>\n",
       "      <th>_0_cut_up_TENDENCIA_PROTESTOS_U7M_SIN_SEVERIDAD</th>\n",
       "      <th>_0_cut_up_TENDENCIA_PROTESTOS_U12M_SIN_SEVERIDAD</th>\n",
       "      <th>_0_cut_up_TIENE_TENDENCIA_CRECIENTE_PROTESTOS_U7M_SIN_SEVERIDAD</th>\n",
       "      <th>_0_cut_up_TIENE_TENDENCIA_CRECIENTE_PROTESTOS_U12M_SIN_SEVERIDAD</th>\n",
       "    </tr>\n",
       "  </thead>\n",
       "  <tbody>\n",
       "    <tr>\n",
       "      <th>0</th>\n",
       "      <td>202008</td>\n",
       "      <td>0002225225</td>\n",
       "      <td>20170717261</td>\n",
       "      <td>1</td>\n",
       "      <td>RUMI IMPORT</td>\n",
       "      <td>0</td>\n",
       "      <td>0</td>\n",
       "      <td>0</td>\n",
       "      <td>0</td>\n",
       "      <td>0</td>\n",
       "      <td>...</td>\n",
       "      <td>0.0</td>\n",
       "      <td>0.0</td>\n",
       "      <td>0.0</td>\n",
       "      <td>0.0</td>\n",
       "      <td>0.0</td>\n",
       "      <td>0.0</td>\n",
       "      <td>0.0</td>\n",
       "      <td>0.0</td>\n",
       "      <td>0.0</td>\n",
       "      <td>0.0</td>\n",
       "    </tr>\n",
       "    <tr>\n",
       "      <th>1</th>\n",
       "      <td>202008</td>\n",
       "      <td>0004039624</td>\n",
       "      <td>10010600338</td>\n",
       "      <td>0</td>\n",
       "      <td>REATEGUI FLORES LUCAS</td>\n",
       "      <td>0</td>\n",
       "      <td>1</td>\n",
       "      <td>0</td>\n",
       "      <td>0</td>\n",
       "      <td>0</td>\n",
       "      <td>...</td>\n",
       "      <td>0.0</td>\n",
       "      <td>0.0</td>\n",
       "      <td>0.0</td>\n",
       "      <td>0.0</td>\n",
       "      <td>0.0</td>\n",
       "      <td>0.0</td>\n",
       "      <td>0.0</td>\n",
       "      <td>0.0</td>\n",
       "      <td>0.0</td>\n",
       "      <td>0.0</td>\n",
       "    </tr>\n",
       "    <tr>\n",
       "      <th>2</th>\n",
       "      <td>202008</td>\n",
       "      <td>0004017117</td>\n",
       "      <td>20293331066</td>\n",
       "      <td>1</td>\n",
       "      <td>PRECISION PERU</td>\n",
       "      <td>1</td>\n",
       "      <td>1</td>\n",
       "      <td>1</td>\n",
       "      <td>0</td>\n",
       "      <td>0</td>\n",
       "      <td>...</td>\n",
       "      <td>0.0</td>\n",
       "      <td>0.0</td>\n",
       "      <td>0.0</td>\n",
       "      <td>0.0</td>\n",
       "      <td>0.0</td>\n",
       "      <td>0.0</td>\n",
       "      <td>0.0</td>\n",
       "      <td>0.0</td>\n",
       "      <td>0.0</td>\n",
       "      <td>0.0</td>\n",
       "    </tr>\n",
       "    <tr>\n",
       "      <th>3</th>\n",
       "      <td>202008</td>\n",
       "      <td>0003980042</td>\n",
       "      <td>20101391397</td>\n",
       "      <td>0</td>\n",
       "      <td>COMERCIAL INDUSTRIAL DELTA</td>\n",
       "      <td>1</td>\n",
       "      <td>0</td>\n",
       "      <td>1</td>\n",
       "      <td>0</td>\n",
       "      <td>1</td>\n",
       "      <td>...</td>\n",
       "      <td>0.0</td>\n",
       "      <td>0.0</td>\n",
       "      <td>0.0</td>\n",
       "      <td>0.0</td>\n",
       "      <td>0.0</td>\n",
       "      <td>0.0</td>\n",
       "      <td>0.0</td>\n",
       "      <td>0.0</td>\n",
       "      <td>0.0</td>\n",
       "      <td>0.0</td>\n",
       "    </tr>\n",
       "    <tr>\n",
       "      <th>4</th>\n",
       "      <td>202008</td>\n",
       "      <td>0003290442</td>\n",
       "      <td>20100244129</td>\n",
       "      <td>1</td>\n",
       "      <td>AGRICOLA COMERCIAL E INDUSTRIAL</td>\n",
       "      <td>1</td>\n",
       "      <td>0</td>\n",
       "      <td>0</td>\n",
       "      <td>0</td>\n",
       "      <td>1</td>\n",
       "      <td>...</td>\n",
       "      <td>0.0</td>\n",
       "      <td>0.0</td>\n",
       "      <td>0.0</td>\n",
       "      <td>0.0</td>\n",
       "      <td>0.0</td>\n",
       "      <td>0.0</td>\n",
       "      <td>0.0</td>\n",
       "      <td>0.0</td>\n",
       "      <td>0.0</td>\n",
       "      <td>0.0</td>\n",
       "    </tr>\n",
       "  </tbody>\n",
       "</table>\n",
       "<p>5 rows × 3635 columns</p>\n",
       "</div>"
      ],
      "text/plain": [
       "  PERIODO   COD_UNICO          RUC  FLG_VIGENTE  \\\n",
       "0  202008  0002225225  20170717261            1   \n",
       "1  202008  0004039624  10010600338            0   \n",
       "2  202008  0004017117  20293331066            1   \n",
       "3  202008  0003980042  20101391397            0   \n",
       "4  202008  0003290442  20100244129            1   \n",
       "\n",
       "                   NOMBRE_COMPLETO  FLG_SUSPENDIDO  FLG_VENCIDA  \\\n",
       "0                      RUMI IMPORT               0            0   \n",
       "1            REATEGUI FLORES LUCAS               0            1   \n",
       "2                   PRECISION PERU               1            1   \n",
       "3       COMERCIAL INDUSTRIAL DELTA               1            0   \n",
       "4  AGRICOLA COMERCIAL E INDUSTRIAL               1            0   \n",
       "\n",
       "   FLG_CANCELADO  FLG_MONOLINEA  FLG_SOLO_REACTIVA  ...  \\\n",
       "0              0              0                  0  ...   \n",
       "1              0              0                  0  ...   \n",
       "2              1              0                  0  ...   \n",
       "3              1              0                  1  ...   \n",
       "4              0              0                  1  ...   \n",
       "\n",
       "   _0_cut_up_TIENE_TENDENCIA_CRECIENTE_LEN_NUM_DOCUMENTO_U7M  \\\n",
       "0                                                0.0           \n",
       "1                                                0.0           \n",
       "2                                                0.0           \n",
       "3                                                0.0           \n",
       "4                                                0.0           \n",
       "\n",
       "   _0_cut_up_TIENE_TENDENCIA_CRECIENTE_LEN_NUM_DOCUMENTO_U12M  \\\n",
       "0                                                0.0            \n",
       "1                                                0.0            \n",
       "2                                                0.0            \n",
       "3                                                0.0            \n",
       "4                                                0.0            \n",
       "\n",
       "   _0_cut_up_TENDENCIA_PROTESTOS_U7M  _0_cut_up_TENDENCIA_PROTESTOS_U12M  \\\n",
       "0                                0.0                                 0.0   \n",
       "1                                0.0                                 0.0   \n",
       "2                                0.0                                 0.0   \n",
       "3                                0.0                                 0.0   \n",
       "4                                0.0                                 0.0   \n",
       "\n",
       "   _0_cut_up_TIENE_TENDENCIA_CRECIENTE_PROTESTOS_U7M  \\\n",
       "0                                                0.0   \n",
       "1                                                0.0   \n",
       "2                                                0.0   \n",
       "3                                                0.0   \n",
       "4                                                0.0   \n",
       "\n",
       "   _0_cut_up_TIENE_TENDENCIA_CRECIENTE_PROTESTOS_U12M  \\\n",
       "0                                                0.0    \n",
       "1                                                0.0    \n",
       "2                                                0.0    \n",
       "3                                                0.0    \n",
       "4                                                0.0    \n",
       "\n",
       "  _0_cut_up_TENDENCIA_PROTESTOS_U7M_SIN_SEVERIDAD  \\\n",
       "0                                             0.0   \n",
       "1                                             0.0   \n",
       "2                                             0.0   \n",
       "3                                             0.0   \n",
       "4                                             0.0   \n",
       "\n",
       "  _0_cut_up_TENDENCIA_PROTESTOS_U12M_SIN_SEVERIDAD  \\\n",
       "0                                              0.0   \n",
       "1                                              0.0   \n",
       "2                                              0.0   \n",
       "3                                              0.0   \n",
       "4                                              0.0   \n",
       "\n",
       "  _0_cut_up_TIENE_TENDENCIA_CRECIENTE_PROTESTOS_U7M_SIN_SEVERIDAD  \\\n",
       "0                                                0.0                \n",
       "1                                                0.0                \n",
       "2                                                0.0                \n",
       "3                                                0.0                \n",
       "4                                                0.0                \n",
       "\n",
       "  _0_cut_up_TIENE_TENDENCIA_CRECIENTE_PROTESTOS_U12M_SIN_SEVERIDAD  \n",
       "0                                                0.0                \n",
       "1                                                0.0                \n",
       "2                                                0.0                \n",
       "3                                                0.0                \n",
       "4                                                0.0                \n",
       "\n",
       "[5 rows x 3635 columns]"
      ]
     },
     "execution_count": 3,
     "metadata": {},
     "output_type": "execute_result"
    }
   ],
   "source": [
    "mediana = pd.read_csv('AVANCE_6_MEDIANA.csv', dtype=tipos_llave)\n",
    "print(mediana.shape)\n",
    "mediana.head()"
   ]
  },
  {
   "cell_type": "code",
   "execution_count": 4,
   "metadata": {},
   "outputs": [
    {
     "data": {
      "text/plain": [
       "(24014, 3635)"
      ]
     },
     "execution_count": 4,
     "metadata": {},
     "output_type": "execute_result"
    }
   ],
   "source": [
    "mediana.shape"
   ]
  },
  {
   "cell_type": "code",
   "execution_count": 5,
   "metadata": {},
   "outputs": [
    {
     "name": "stdout",
     "output_type": "stream",
     "text": [
      "3635\n"
     ]
    }
   ],
   "source": [
    "cols_habilitadas = {col for col in mediana.columns if '1_and_1' not in col.lower() and 'listado' not in col.lower()}\n",
    "print(len(cols_habilitadas))"
   ]
  },
  {
   "cell_type": "code",
   "execution_count": 6,
   "metadata": {},
   "outputs": [],
   "source": [
    "base = mediana[cols_habilitadas].copy()\n",
    "del mediana"
   ]
  },
  {
   "cell_type": "code",
   "execution_count": 7,
   "metadata": {},
   "outputs": [
    {
     "data": {
      "text/plain": [
       "(24014, 3635)"
      ]
     },
     "execution_count": 7,
     "metadata": {},
     "output_type": "execute_result"
    }
   ],
   "source": [
    "base.shape"
   ]
  },
  {
   "cell_type": "code",
   "execution_count": 8,
   "metadata": {},
   "outputs": [
    {
     "data": {
      "text/html": [
       "<div>\n",
       "<style scoped>\n",
       "    .dataframe tbody tr th:only-of-type {\n",
       "        vertical-align: middle;\n",
       "    }\n",
       "\n",
       "    .dataframe tbody tr th {\n",
       "        vertical-align: top;\n",
       "    }\n",
       "\n",
       "    .dataframe thead th {\n",
       "        text-align: right;\n",
       "    }\n",
       "</style>\n",
       "<table border=\"1\" class=\"dataframe\">\n",
       "  <thead>\n",
       "    <tr style=\"text-align: right;\">\n",
       "      <th></th>\n",
       "      <th>target_SF_8_dias_atraso_o_mas_1Mbueno</th>\n",
       "      <th>PERIODO</th>\n",
       "      <th>MAX_DIAS_ATRASO</th>\n",
       "      <th>MAX_DIAS_ATRASO_SF</th>\n",
       "      <th>TIENE_DEUDA_REFINANCIADO_RCC</th>\n",
       "      <th>TIENE_DEUDA_REFINANCIADO_IBK</th>\n",
       "      <th>TIENE_DEUDA_JUDICIAL_RCC</th>\n",
       "    </tr>\n",
       "  </thead>\n",
       "  <tbody>\n",
       "    <tr>\n",
       "      <th>446</th>\n",
       "      <td>NaN</td>\n",
       "      <td>202008</td>\n",
       "      <td>0.0</td>\n",
       "      <td>0.0</td>\n",
       "      <td>1.0</td>\n",
       "      <td>0.0</td>\n",
       "      <td>0.0</td>\n",
       "    </tr>\n",
       "    <tr>\n",
       "      <th>2984</th>\n",
       "      <td>NaN</td>\n",
       "      <td>202009</td>\n",
       "      <td>21.0</td>\n",
       "      <td>0.0</td>\n",
       "      <td>1.0</td>\n",
       "      <td>0.0</td>\n",
       "      <td>0.0</td>\n",
       "    </tr>\n",
       "    <tr>\n",
       "      <th>5699</th>\n",
       "      <td>1.0</td>\n",
       "      <td>202010</td>\n",
       "      <td>0.0</td>\n",
       "      <td>0.0</td>\n",
       "      <td>1.0</td>\n",
       "      <td>0.0</td>\n",
       "      <td>0.0</td>\n",
       "    </tr>\n",
       "    <tr>\n",
       "      <th>9226</th>\n",
       "      <td>NaN</td>\n",
       "      <td>202011</td>\n",
       "      <td>10.0</td>\n",
       "      <td>3.0</td>\n",
       "      <td>1.0</td>\n",
       "      <td>0.0</td>\n",
       "      <td>0.0</td>\n",
       "    </tr>\n",
       "    <tr>\n",
       "      <th>12111</th>\n",
       "      <td>0.0</td>\n",
       "      <td>202012</td>\n",
       "      <td>0.0</td>\n",
       "      <td>3.0</td>\n",
       "      <td>1.0</td>\n",
       "      <td>0.0</td>\n",
       "      <td>0.0</td>\n",
       "    </tr>\n",
       "    <tr>\n",
       "      <th>14370</th>\n",
       "      <td>1.0</td>\n",
       "      <td>202101</td>\n",
       "      <td>7.0</td>\n",
       "      <td>0.0</td>\n",
       "      <td>1.0</td>\n",
       "      <td>0.0</td>\n",
       "      <td>0.0</td>\n",
       "    </tr>\n",
       "    <tr>\n",
       "      <th>15892</th>\n",
       "      <td>1.0</td>\n",
       "      <td>202102</td>\n",
       "      <td>1.0</td>\n",
       "      <td>0.0</td>\n",
       "      <td>1.0</td>\n",
       "      <td>0.0</td>\n",
       "      <td>0.0</td>\n",
       "    </tr>\n",
       "    <tr>\n",
       "      <th>19549</th>\n",
       "      <td>NaN</td>\n",
       "      <td>202103</td>\n",
       "      <td>6.0</td>\n",
       "      <td>12.0</td>\n",
       "      <td>1.0</td>\n",
       "      <td>0.0</td>\n",
       "      <td>0.0</td>\n",
       "    </tr>\n",
       "    <tr>\n",
       "      <th>23499</th>\n",
       "      <td>0.0</td>\n",
       "      <td>202104</td>\n",
       "      <td>0.0</td>\n",
       "      <td>0.0</td>\n",
       "      <td>1.0</td>\n",
       "      <td>0.0</td>\n",
       "      <td>0.0</td>\n",
       "    </tr>\n",
       "  </tbody>\n",
       "</table>\n",
       "</div>"
      ],
      "text/plain": [
       "       target_SF_8_dias_atraso_o_mas_1Mbueno PERIODO  MAX_DIAS_ATRASO  \\\n",
       "446                                      NaN  202008              0.0   \n",
       "2984                                     NaN  202009             21.0   \n",
       "5699                                     1.0  202010              0.0   \n",
       "9226                                     NaN  202011             10.0   \n",
       "12111                                    0.0  202012              0.0   \n",
       "14370                                    1.0  202101              7.0   \n",
       "15892                                    1.0  202102              1.0   \n",
       "19549                                    NaN  202103              6.0   \n",
       "23499                                    0.0  202104              0.0   \n",
       "\n",
       "       MAX_DIAS_ATRASO_SF  TIENE_DEUDA_REFINANCIADO_RCC  \\\n",
       "446                   0.0                           1.0   \n",
       "2984                  0.0                           1.0   \n",
       "5699                  0.0                           1.0   \n",
       "9226                  3.0                           1.0   \n",
       "12111                 3.0                           1.0   \n",
       "14370                 0.0                           1.0   \n",
       "15892                 0.0                           1.0   \n",
       "19549                12.0                           1.0   \n",
       "23499                 0.0                           1.0   \n",
       "\n",
       "       TIENE_DEUDA_REFINANCIADO_IBK  TIENE_DEUDA_JUDICIAL_RCC  \n",
       "446                             0.0                       0.0  \n",
       "2984                            0.0                       0.0  \n",
       "5699                            0.0                       0.0  \n",
       "9226                            0.0                       0.0  \n",
       "12111                           0.0                       0.0  \n",
       "14370                           0.0                       0.0  \n",
       "15892                           0.0                       0.0  \n",
       "19549                           0.0                       0.0  \n",
       "23499                           0.0                       0.0  "
      ]
     },
     "execution_count": 8,
     "metadata": {},
     "output_type": "execute_result"
    }
   ],
   "source": [
    "base[base['COD_UNICO'] == str(8443816).zfill(10)].sort_values(by=['PERIODO'])[\n",
    "    ['target_SF_8_dias_atraso_o_mas_1Mbueno', 'PERIODO', 'MAX_DIAS_ATRASO', 'MAX_DIAS_ATRASO_SF',\n",
    "     'TIENE_DEUDA_REFINANCIADO_RCC', 'TIENE_DEUDA_REFINANCIADO_IBK', 'TIENE_DEUDA_JUDICIAL_RCC']\n",
    "]"
   ]
  },
  {
   "cell_type": "markdown",
   "metadata": {},
   "source": [
    "## GRAN EMPRESA"
   ]
  },
  {
   "cell_type": "code",
   "execution_count": 9,
   "metadata": {},
   "outputs": [
    {
     "name": "stdout",
     "output_type": "stream",
     "text": [
      "(24014, 2824)\n"
     ]
    },
    {
     "data": {
      "text/html": [
       "<div>\n",
       "<style scoped>\n",
       "    .dataframe tbody tr th:only-of-type {\n",
       "        vertical-align: middle;\n",
       "    }\n",
       "\n",
       "    .dataframe tbody tr th {\n",
       "        vertical-align: top;\n",
       "    }\n",
       "\n",
       "    .dataframe thead th {\n",
       "        text-align: right;\n",
       "    }\n",
       "</style>\n",
       "<table border=\"1\" class=\"dataframe\">\n",
       "  <thead>\n",
       "    <tr style=\"text-align: right;\">\n",
       "      <th></th>\n",
       "      <th>PERIODO</th>\n",
       "      <th>COD_UNICO</th>\n",
       "      <th>RUC</th>\n",
       "      <th>FLG_VIGENTE</th>\n",
       "      <th>NOMBRE_COMPLETO</th>\n",
       "      <th>FLG_SUSPENDIDO</th>\n",
       "      <th>FLG_VENCIDA</th>\n",
       "      <th>FLG_CANCELADO</th>\n",
       "      <th>FLG_MONOLINEA</th>\n",
       "      <th>FLG_SOLO_REACTIVA</th>\n",
       "      <th>...</th>\n",
       "      <th>_6_cut_up_MAX_DIAS_ATRASO_SF</th>\n",
       "      <th>_7_cut_up_MAX_DIAS_ATRASO_SF</th>\n",
       "      <th>_0.6_cut_down_SOW_OTROSBCOS_ULT_RCC</th>\n",
       "      <th>_0.7_cut_down_SOW_OTROSBCOS_ULT_RCC</th>\n",
       "      <th>_0.8_cut_down_SOW_OTROSBCOS_ULT_RCC</th>\n",
       "      <th>_0.9_cut_down_SOW_OTROSBCOS_ULT_RCC</th>\n",
       "      <th>_1200000_cut_up_RIESGO</th>\n",
       "      <th>_4400000_cut_up_RIESGO</th>\n",
       "      <th>_10000000_cut_up_GAR_TOT_IBK</th>\n",
       "      <th>_0.5_cut_down_ADEX_MAX_U6M_ACTUAL_IMP_OVER_12M_PASADO</th>\n",
       "    </tr>\n",
       "  </thead>\n",
       "  <tbody>\n",
       "    <tr>\n",
       "      <th>0</th>\n",
       "      <td>202008</td>\n",
       "      <td>0002225225</td>\n",
       "      <td>20170717261</td>\n",
       "      <td>1</td>\n",
       "      <td>RUMI IMPORT</td>\n",
       "      <td>0</td>\n",
       "      <td>0</td>\n",
       "      <td>0</td>\n",
       "      <td>0</td>\n",
       "      <td>0</td>\n",
       "      <td>...</td>\n",
       "      <td>0.0</td>\n",
       "      <td>0.0</td>\n",
       "      <td>0.0</td>\n",
       "      <td>0.0</td>\n",
       "      <td>0.0</td>\n",
       "      <td>0.0</td>\n",
       "      <td>0</td>\n",
       "      <td>0</td>\n",
       "      <td>0.0</td>\n",
       "      <td>0.0</td>\n",
       "    </tr>\n",
       "    <tr>\n",
       "      <th>1</th>\n",
       "      <td>202008</td>\n",
       "      <td>0004039624</td>\n",
       "      <td>10010600338</td>\n",
       "      <td>0</td>\n",
       "      <td>REATEGUI FLORES LUCAS</td>\n",
       "      <td>0</td>\n",
       "      <td>1</td>\n",
       "      <td>0</td>\n",
       "      <td>0</td>\n",
       "      <td>0</td>\n",
       "      <td>...</td>\n",
       "      <td>0.0</td>\n",
       "      <td>0.0</td>\n",
       "      <td>0.0</td>\n",
       "      <td>0.0</td>\n",
       "      <td>1.0</td>\n",
       "      <td>1.0</td>\n",
       "      <td>0</td>\n",
       "      <td>0</td>\n",
       "      <td>0.0</td>\n",
       "      <td>1.0</td>\n",
       "    </tr>\n",
       "  </tbody>\n",
       "</table>\n",
       "<p>2 rows × 2824 columns</p>\n",
       "</div>"
      ],
      "text/plain": [
       "  PERIODO   COD_UNICO          RUC  FLG_VIGENTE        NOMBRE_COMPLETO  \\\n",
       "0  202008  0002225225  20170717261            1            RUMI IMPORT   \n",
       "1  202008  0004039624  10010600338            0  REATEGUI FLORES LUCAS   \n",
       "\n",
       "   FLG_SUSPENDIDO  FLG_VENCIDA  FLG_CANCELADO  FLG_MONOLINEA  \\\n",
       "0               0            0              0              0   \n",
       "1               0            1              0              0   \n",
       "\n",
       "   FLG_SOLO_REACTIVA  ...  _6_cut_up_MAX_DIAS_ATRASO_SF  \\\n",
       "0                  0  ...                           0.0   \n",
       "1                  0  ...                           0.0   \n",
       "\n",
       "   _7_cut_up_MAX_DIAS_ATRASO_SF  _0.6_cut_down_SOW_OTROSBCOS_ULT_RCC  \\\n",
       "0                           0.0                                  0.0   \n",
       "1                           0.0                                  0.0   \n",
       "\n",
       "   _0.7_cut_down_SOW_OTROSBCOS_ULT_RCC  _0.8_cut_down_SOW_OTROSBCOS_ULT_RCC  \\\n",
       "0                                  0.0                                  0.0   \n",
       "1                                  0.0                                  1.0   \n",
       "\n",
       "   _0.9_cut_down_SOW_OTROSBCOS_ULT_RCC _1200000_cut_up_RIESGO  \\\n",
       "0                                  0.0                      0   \n",
       "1                                  1.0                      0   \n",
       "\n",
       "  _4400000_cut_up_RIESGO _10000000_cut_up_GAR_TOT_IBK  \\\n",
       "0                      0                          0.0   \n",
       "1                      0                          0.0   \n",
       "\n",
       "  _0.5_cut_down_ADEX_MAX_U6M_ACTUAL_IMP_OVER_12M_PASADO  \n",
       "0                                                0.0     \n",
       "1                                                1.0     \n",
       "\n",
       "[2 rows x 2824 columns]"
      ]
     },
     "execution_count": 9,
     "metadata": {},
     "output_type": "execute_result"
    }
   ],
   "source": [
    "ge = pd.read_csv('AVANCE_6_GRAN_EMPRESA.csv', dtype=tipos_llave)\n",
    "print(ge.shape)\n",
    "ge.head(2)"
   ]
  },
  {
   "cell_type": "code",
   "execution_count": 10,
   "metadata": {},
   "outputs": [
    {
     "name": "stdout",
     "output_type": "stream",
     "text": [
      "139\n"
     ]
    }
   ],
   "source": [
    "cols_new = {col for col in ge.columns if '1_and_1' not in col.lower() and 'listado' not in col.lower()} - set(base.columns)\n",
    "print(len(cols_new))"
   ]
  },
  {
   "cell_type": "code",
   "execution_count": 11,
   "metadata": {},
   "outputs": [
    {
     "name": "stdout",
     "output_type": "stream",
     "text": [
      "(24014, 3635)\n",
      "(24014, 3774)\n"
     ]
    }
   ],
   "source": [
    "print(base.shape)\n",
    "base = base.merge(\n",
    "    ge[list(cols_new) + llave], how='left', on=llave\n",
    ")\n",
    "print(base.shape)"
   ]
  },
  {
   "cell_type": "code",
   "execution_count": 12,
   "metadata": {},
   "outputs": [],
   "source": [
    "del ge"
   ]
  },
  {
   "cell_type": "code",
   "execution_count": 13,
   "metadata": {},
   "outputs": [
    {
     "data": {
      "text/plain": [
       "(3774, 3774)"
      ]
     },
     "execution_count": 13,
     "metadata": {},
     "output_type": "execute_result"
    }
   ],
   "source": [
    "len(list(base.columns)), len(set(base.columns))"
   ]
  },
  {
   "cell_type": "markdown",
   "metadata": {},
   "source": [
    "## S1 PROVINCIA"
   ]
  },
  {
   "cell_type": "code",
   "execution_count": 14,
   "metadata": {},
   "outputs": [
    {
     "name": "stdout",
     "output_type": "stream",
     "text": [
      "(24014, 2941)\n"
     ]
    },
    {
     "data": {
      "text/html": [
       "<div>\n",
       "<style scoped>\n",
       "    .dataframe tbody tr th:only-of-type {\n",
       "        vertical-align: middle;\n",
       "    }\n",
       "\n",
       "    .dataframe tbody tr th {\n",
       "        vertical-align: top;\n",
       "    }\n",
       "\n",
       "    .dataframe thead th {\n",
       "        text-align: right;\n",
       "    }\n",
       "</style>\n",
       "<table border=\"1\" class=\"dataframe\">\n",
       "  <thead>\n",
       "    <tr style=\"text-align: right;\">\n",
       "      <th></th>\n",
       "      <th>PERIODO</th>\n",
       "      <th>COD_UNICO</th>\n",
       "      <th>RUC</th>\n",
       "      <th>FLG_VIGENTE</th>\n",
       "      <th>NOMBRE_COMPLETO</th>\n",
       "      <th>FLG_SUSPENDIDO</th>\n",
       "      <th>FLG_VENCIDA</th>\n",
       "      <th>FLG_CANCELADO</th>\n",
       "      <th>FLG_MONOLINEA</th>\n",
       "      <th>FLG_SOLO_REACTIVA</th>\n",
       "      <th>...</th>\n",
       "      <th>_-1_cut_down_CAPITAL_TRABAJO_VAR_CEF_SITUACION</th>\n",
       "      <th>_-2_cut_down_CAPITAL_TRABAJO_VAR_CEF_SITUACION</th>\n",
       "      <th>_-3_cut_down_CAPITAL_TRABAJO_VAR_CEF_SITUACION</th>\n",
       "      <th>_6_cut_up_NUM_FEVE_DURO_SEI</th>\n",
       "      <th>_7_cut_up_NUM_FEVE_DURO_SEI</th>\n",
       "      <th>_8_cut_up_NUM_FEVE_DURO_SEI</th>\n",
       "      <th>_9_cut_up_NUM_FEVE_DURO_SEI</th>\n",
       "      <th>_10_cut_up_NUM_FEVE_DURO_SEI</th>\n",
       "      <th>_45000_cut_down_VENTAS_NETAS_CEF_SITUACION</th>\n",
       "      <th>_25000_cut_down_VENTAS_NETAS_CEF_SITUACION</th>\n",
       "    </tr>\n",
       "  </thead>\n",
       "  <tbody>\n",
       "    <tr>\n",
       "      <th>0</th>\n",
       "      <td>202008</td>\n",
       "      <td>0002225225</td>\n",
       "      <td>20170717261</td>\n",
       "      <td>1</td>\n",
       "      <td>RUMI IMPORT</td>\n",
       "      <td>0</td>\n",
       "      <td>0</td>\n",
       "      <td>0</td>\n",
       "      <td>0</td>\n",
       "      <td>0</td>\n",
       "      <td>...</td>\n",
       "      <td>0.0</td>\n",
       "      <td>0.0</td>\n",
       "      <td>0.0</td>\n",
       "      <td>1</td>\n",
       "      <td>1</td>\n",
       "      <td>1</td>\n",
       "      <td>1</td>\n",
       "      <td>1</td>\n",
       "      <td>1.0</td>\n",
       "      <td>1.0</td>\n",
       "    </tr>\n",
       "    <tr>\n",
       "      <th>1</th>\n",
       "      <td>202008</td>\n",
       "      <td>0004039624</td>\n",
       "      <td>10010600338</td>\n",
       "      <td>0</td>\n",
       "      <td>REATEGUI FLORES LUCAS</td>\n",
       "      <td>0</td>\n",
       "      <td>1</td>\n",
       "      <td>0</td>\n",
       "      <td>0</td>\n",
       "      <td>0</td>\n",
       "      <td>...</td>\n",
       "      <td>0.0</td>\n",
       "      <td>0.0</td>\n",
       "      <td>0.0</td>\n",
       "      <td>1</td>\n",
       "      <td>1</td>\n",
       "      <td>1</td>\n",
       "      <td>1</td>\n",
       "      <td>1</td>\n",
       "      <td>1.0</td>\n",
       "      <td>1.0</td>\n",
       "    </tr>\n",
       "  </tbody>\n",
       "</table>\n",
       "<p>2 rows × 2941 columns</p>\n",
       "</div>"
      ],
      "text/plain": [
       "  PERIODO   COD_UNICO          RUC  FLG_VIGENTE        NOMBRE_COMPLETO  \\\n",
       "0  202008  0002225225  20170717261            1            RUMI IMPORT   \n",
       "1  202008  0004039624  10010600338            0  REATEGUI FLORES LUCAS   \n",
       "\n",
       "   FLG_SUSPENDIDO  FLG_VENCIDA  FLG_CANCELADO  FLG_MONOLINEA  \\\n",
       "0               0            0              0              0   \n",
       "1               0            1              0              0   \n",
       "\n",
       "   FLG_SOLO_REACTIVA  ...  _-1_cut_down_CAPITAL_TRABAJO_VAR_CEF_SITUACION  \\\n",
       "0                  0  ...                                             0.0   \n",
       "1                  0  ...                                             0.0   \n",
       "\n",
       "   _-2_cut_down_CAPITAL_TRABAJO_VAR_CEF_SITUACION  \\\n",
       "0                                             0.0   \n",
       "1                                             0.0   \n",
       "\n",
       "   _-3_cut_down_CAPITAL_TRABAJO_VAR_CEF_SITUACION  \\\n",
       "0                                             0.0   \n",
       "1                                             0.0   \n",
       "\n",
       "   _6_cut_up_NUM_FEVE_DURO_SEI  _7_cut_up_NUM_FEVE_DURO_SEI  \\\n",
       "0                            1                            1   \n",
       "1                            1                            1   \n",
       "\n",
       "   _8_cut_up_NUM_FEVE_DURO_SEI _9_cut_up_NUM_FEVE_DURO_SEI  \\\n",
       "0                            1                           1   \n",
       "1                            1                           1   \n",
       "\n",
       "  _10_cut_up_NUM_FEVE_DURO_SEI _45000_cut_down_VENTAS_NETAS_CEF_SITUACION  \\\n",
       "0                            1                                        1.0   \n",
       "1                            1                                        1.0   \n",
       "\n",
       "  _25000_cut_down_VENTAS_NETAS_CEF_SITUACION  \n",
       "0                                        1.0  \n",
       "1                                        1.0  \n",
       "\n",
       "[2 rows x 2941 columns]"
      ]
     },
     "execution_count": 14,
     "metadata": {},
     "output_type": "execute_result"
    }
   ],
   "source": [
    "s1 = pd.read_csv('AVANCE_6_S1_PROVINCIA.csv', dtype=tipos_llave)\n",
    "print(s1.shape)\n",
    "s1.head(2)"
   ]
  },
  {
   "cell_type": "code",
   "execution_count": 15,
   "metadata": {},
   "outputs": [
    {
     "name": "stdout",
     "output_type": "stream",
     "text": [
      "163\n"
     ]
    }
   ],
   "source": [
    "cols_new = {col for col in s1.columns if '1_and_1' not in col.lower() and 'listado' not in col.lower()} - set(base.columns)\n",
    "print(len(cols_new))"
   ]
  },
  {
   "cell_type": "code",
   "execution_count": 16,
   "metadata": {},
   "outputs": [
    {
     "name": "stdout",
     "output_type": "stream",
     "text": [
      "(24014, 3774)\n"
     ]
    },
    {
     "data": {
      "text/plain": [
       "(24014, 3937)"
      ]
     },
     "execution_count": 16,
     "metadata": {},
     "output_type": "execute_result"
    }
   ],
   "source": [
    "print(base.shape)\n",
    "base = base.merge(\n",
    "    s1[list(cols_new) + llave], how='left', on=llave\n",
    ")\n",
    "base.shape"
   ]
  },
  {
   "cell_type": "code",
   "execution_count": 17,
   "metadata": {},
   "outputs": [],
   "source": [
    "del s1"
   ]
  },
  {
   "cell_type": "code",
   "execution_count": null,
   "metadata": {},
   "outputs": [],
   "source": []
  },
  {
   "cell_type": "markdown",
   "metadata": {},
   "source": [
    "## S2 PROVINCIA"
   ]
  },
  {
   "cell_type": "code",
   "execution_count": 18,
   "metadata": {},
   "outputs": [
    {
     "data": {
      "text/html": [
       "<div>\n",
       "<style scoped>\n",
       "    .dataframe tbody tr th:only-of-type {\n",
       "        vertical-align: middle;\n",
       "    }\n",
       "\n",
       "    .dataframe tbody tr th {\n",
       "        vertical-align: top;\n",
       "    }\n",
       "\n",
       "    .dataframe thead th {\n",
       "        text-align: right;\n",
       "    }\n",
       "</style>\n",
       "<table border=\"1\" class=\"dataframe\">\n",
       "  <thead>\n",
       "    <tr style=\"text-align: right;\">\n",
       "      <th></th>\n",
       "      <th>PERIODO</th>\n",
       "      <th>COD_UNICO</th>\n",
       "      <th>RUC</th>\n",
       "      <th>FLG_VIGENTE</th>\n",
       "      <th>NOMBRE_COMPLETO</th>\n",
       "      <th>FLG_SUSPENDIDO</th>\n",
       "      <th>FLG_VENCIDA</th>\n",
       "      <th>FLG_CANCELADO</th>\n",
       "      <th>FLG_MONOLINEA</th>\n",
       "      <th>FLG_SOLO_REACTIVA</th>\n",
       "      <th>...</th>\n",
       "      <th>_0_cut_up_TIENE_TENDENCIA_CRECIENTE_PROTESTOS_U12M</th>\n",
       "      <th>_0_cut_up_TENDENCIA_PROTESTOS_U7M_SIN_SEVERIDAD</th>\n",
       "      <th>_0_cut_up_TENDENCIA_PROTESTOS_U12M_SIN_SEVERIDAD</th>\n",
       "      <th>_0_cut_up_TIENE_TENDENCIA_CRECIENTE_PROTESTOS_U7M_SIN_SEVERIDAD</th>\n",
       "      <th>_0_cut_up_TIENE_TENDENCIA_CRECIENTE_PROTESTOS_U12M_SIN_SEVERIDAD</th>\n",
       "      <th>_0.4_cut_down_SOW_IBK_ULT_RCC</th>\n",
       "      <th>_0.3_cut_down_SOW_IBK_ULT_RCC</th>\n",
       "      <th>_0.2_cut_down_SOW_IBK_ULT_RCC</th>\n",
       "      <th>_0.1_cut_down_SOW_IBK_ULT_RCC</th>\n",
       "      <th>_0_cut_down_SOW_IBK_ULT_RCC</th>\n",
       "    </tr>\n",
       "  </thead>\n",
       "  <tbody>\n",
       "    <tr>\n",
       "      <th>0</th>\n",
       "      <td>202008</td>\n",
       "      <td>0002225225</td>\n",
       "      <td>20170717261</td>\n",
       "      <td>1</td>\n",
       "      <td>RUMI IMPORT</td>\n",
       "      <td>0</td>\n",
       "      <td>0</td>\n",
       "      <td>0</td>\n",
       "      <td>0</td>\n",
       "      <td>0</td>\n",
       "      <td>...</td>\n",
       "      <td>0.0</td>\n",
       "      <td>0.0</td>\n",
       "      <td>0.0</td>\n",
       "      <td>0.0</td>\n",
       "      <td>0.0</td>\n",
       "      <td>1.0</td>\n",
       "      <td>1.0</td>\n",
       "      <td>1.0</td>\n",
       "      <td>1.0</td>\n",
       "      <td>1.0</td>\n",
       "    </tr>\n",
       "    <tr>\n",
       "      <th>1</th>\n",
       "      <td>202008</td>\n",
       "      <td>0004039624</td>\n",
       "      <td>10010600338</td>\n",
       "      <td>0</td>\n",
       "      <td>REATEGUI FLORES LUCAS</td>\n",
       "      <td>0</td>\n",
       "      <td>1</td>\n",
       "      <td>0</td>\n",
       "      <td>0</td>\n",
       "      <td>0</td>\n",
       "      <td>...</td>\n",
       "      <td>0.0</td>\n",
       "      <td>0.0</td>\n",
       "      <td>0.0</td>\n",
       "      <td>0.0</td>\n",
       "      <td>0.0</td>\n",
       "      <td>1.0</td>\n",
       "      <td>1.0</td>\n",
       "      <td>0.0</td>\n",
       "      <td>0.0</td>\n",
       "      <td>0.0</td>\n",
       "    </tr>\n",
       "  </tbody>\n",
       "</table>\n",
       "<p>2 rows × 2918 columns</p>\n",
       "</div>"
      ],
      "text/plain": [
       "  PERIODO   COD_UNICO          RUC  FLG_VIGENTE        NOMBRE_COMPLETO  \\\n",
       "0  202008  0002225225  20170717261            1            RUMI IMPORT   \n",
       "1  202008  0004039624  10010600338            0  REATEGUI FLORES LUCAS   \n",
       "\n",
       "   FLG_SUSPENDIDO  FLG_VENCIDA  FLG_CANCELADO  FLG_MONOLINEA  \\\n",
       "0               0            0              0              0   \n",
       "1               0            1              0              0   \n",
       "\n",
       "   FLG_SOLO_REACTIVA  ...  _0_cut_up_TIENE_TENDENCIA_CRECIENTE_PROTESTOS_U12M  \\\n",
       "0                  0  ...                                                0.0    \n",
       "1                  0  ...                                                0.0    \n",
       "\n",
       "   _0_cut_up_TENDENCIA_PROTESTOS_U7M_SIN_SEVERIDAD  \\\n",
       "0                                              0.0   \n",
       "1                                              0.0   \n",
       "\n",
       "   _0_cut_up_TENDENCIA_PROTESTOS_U12M_SIN_SEVERIDAD  \\\n",
       "0                                               0.0   \n",
       "1                                               0.0   \n",
       "\n",
       "   _0_cut_up_TIENE_TENDENCIA_CRECIENTE_PROTESTOS_U7M_SIN_SEVERIDAD  \\\n",
       "0                                                0.0                 \n",
       "1                                                0.0                 \n",
       "\n",
       "   _0_cut_up_TIENE_TENDENCIA_CRECIENTE_PROTESTOS_U12M_SIN_SEVERIDAD  \\\n",
       "0                                                0.0                  \n",
       "1                                                0.0                  \n",
       "\n",
       "   _0.4_cut_down_SOW_IBK_ULT_RCC _0.3_cut_down_SOW_IBK_ULT_RCC  \\\n",
       "0                            1.0                           1.0   \n",
       "1                            1.0                           1.0   \n",
       "\n",
       "  _0.2_cut_down_SOW_IBK_ULT_RCC _0.1_cut_down_SOW_IBK_ULT_RCC  \\\n",
       "0                           1.0                           1.0   \n",
       "1                           0.0                           0.0   \n",
       "\n",
       "  _0_cut_down_SOW_IBK_ULT_RCC  \n",
       "0                         1.0  \n",
       "1                         0.0  \n",
       "\n",
       "[2 rows x 2918 columns]"
      ]
     },
     "execution_count": 18,
     "metadata": {},
     "output_type": "execute_result"
    }
   ],
   "source": [
    "s2 = pd.read_csv('AVANCE_6_S2_PROVINCIA.csv', dtype=tipos_llave)\n",
    "s2.head(2)"
   ]
  },
  {
   "cell_type": "code",
   "execution_count": 19,
   "metadata": {},
   "outputs": [
    {
     "name": "stdout",
     "output_type": "stream",
     "text": [
      "105\n"
     ]
    }
   ],
   "source": [
    "cols_new = {col for col in s2.columns if '1_and_1' not in col.lower()} - set(base.columns)\n",
    "print(len(cols_new))"
   ]
  },
  {
   "cell_type": "code",
   "execution_count": 20,
   "metadata": {},
   "outputs": [
    {
     "name": "stdout",
     "output_type": "stream",
     "text": [
      "(24014, 3937)\n"
     ]
    },
    {
     "data": {
      "text/plain": [
       "(24014, 4042)"
      ]
     },
     "execution_count": 20,
     "metadata": {},
     "output_type": "execute_result"
    }
   ],
   "source": [
    "print(base.shape)\n",
    "base = base.merge(\n",
    "    s2[list(cols_new) + llave], how='left', on=llave\n",
    ")\n",
    "base.shape"
   ]
  },
  {
   "cell_type": "code",
   "execution_count": 21,
   "metadata": {},
   "outputs": [],
   "source": [
    "del s2"
   ]
  },
  {
   "cell_type": "code",
   "execution_count": null,
   "metadata": {},
   "outputs": [],
   "source": []
  },
  {
   "cell_type": "code",
   "execution_count": 22,
   "metadata": {},
   "outputs": [
    {
     "data": {
      "text/html": [
       "<div>\n",
       "<style scoped>\n",
       "    .dataframe tbody tr th:only-of-type {\n",
       "        vertical-align: middle;\n",
       "    }\n",
       "\n",
       "    .dataframe tbody tr th {\n",
       "        vertical-align: top;\n",
       "    }\n",
       "\n",
       "    .dataframe thead th {\n",
       "        text-align: right;\n",
       "    }\n",
       "</style>\n",
       "<table border=\"1\" class=\"dataframe\">\n",
       "  <thead>\n",
       "    <tr style=\"text-align: right;\">\n",
       "      <th></th>\n",
       "      <th>target_SF_8_dias_atraso_o_mas_1Mbueno</th>\n",
       "      <th>PERIODO</th>\n",
       "      <th>MAX_DIAS_ATRASO</th>\n",
       "      <th>MAX_DIAS_ATRASO_SF</th>\n",
       "      <th>TIENE_DEUDA_REFINANCIADO_RCC</th>\n",
       "      <th>TIENE_DEUDA_REFINANCIADO_IBK</th>\n",
       "      <th>TIENE_DEUDA_JUDICIAL_RCC</th>\n",
       "    </tr>\n",
       "  </thead>\n",
       "  <tbody>\n",
       "    <tr>\n",
       "      <th>446</th>\n",
       "      <td>NaN</td>\n",
       "      <td>202008</td>\n",
       "      <td>0.0</td>\n",
       "      <td>0.0</td>\n",
       "      <td>1.0</td>\n",
       "      <td>0.0</td>\n",
       "      <td>0.0</td>\n",
       "    </tr>\n",
       "    <tr>\n",
       "      <th>2984</th>\n",
       "      <td>NaN</td>\n",
       "      <td>202009</td>\n",
       "      <td>21.0</td>\n",
       "      <td>0.0</td>\n",
       "      <td>1.0</td>\n",
       "      <td>0.0</td>\n",
       "      <td>0.0</td>\n",
       "    </tr>\n",
       "    <tr>\n",
       "      <th>5699</th>\n",
       "      <td>1.0</td>\n",
       "      <td>202010</td>\n",
       "      <td>0.0</td>\n",
       "      <td>0.0</td>\n",
       "      <td>1.0</td>\n",
       "      <td>0.0</td>\n",
       "      <td>0.0</td>\n",
       "    </tr>\n",
       "    <tr>\n",
       "      <th>9226</th>\n",
       "      <td>NaN</td>\n",
       "      <td>202011</td>\n",
       "      <td>10.0</td>\n",
       "      <td>3.0</td>\n",
       "      <td>1.0</td>\n",
       "      <td>0.0</td>\n",
       "      <td>0.0</td>\n",
       "    </tr>\n",
       "    <tr>\n",
       "      <th>12111</th>\n",
       "      <td>0.0</td>\n",
       "      <td>202012</td>\n",
       "      <td>0.0</td>\n",
       "      <td>3.0</td>\n",
       "      <td>1.0</td>\n",
       "      <td>0.0</td>\n",
       "      <td>0.0</td>\n",
       "    </tr>\n",
       "    <tr>\n",
       "      <th>14370</th>\n",
       "      <td>1.0</td>\n",
       "      <td>202101</td>\n",
       "      <td>7.0</td>\n",
       "      <td>0.0</td>\n",
       "      <td>1.0</td>\n",
       "      <td>0.0</td>\n",
       "      <td>0.0</td>\n",
       "    </tr>\n",
       "    <tr>\n",
       "      <th>15892</th>\n",
       "      <td>1.0</td>\n",
       "      <td>202102</td>\n",
       "      <td>1.0</td>\n",
       "      <td>0.0</td>\n",
       "      <td>1.0</td>\n",
       "      <td>0.0</td>\n",
       "      <td>0.0</td>\n",
       "    </tr>\n",
       "    <tr>\n",
       "      <th>19549</th>\n",
       "      <td>NaN</td>\n",
       "      <td>202103</td>\n",
       "      <td>6.0</td>\n",
       "      <td>12.0</td>\n",
       "      <td>1.0</td>\n",
       "      <td>0.0</td>\n",
       "      <td>0.0</td>\n",
       "    </tr>\n",
       "    <tr>\n",
       "      <th>23499</th>\n",
       "      <td>0.0</td>\n",
       "      <td>202104</td>\n",
       "      <td>0.0</td>\n",
       "      <td>0.0</td>\n",
       "      <td>1.0</td>\n",
       "      <td>0.0</td>\n",
       "      <td>0.0</td>\n",
       "    </tr>\n",
       "  </tbody>\n",
       "</table>\n",
       "</div>"
      ],
      "text/plain": [
       "       target_SF_8_dias_atraso_o_mas_1Mbueno PERIODO  MAX_DIAS_ATRASO  \\\n",
       "446                                      NaN  202008              0.0   \n",
       "2984                                     NaN  202009             21.0   \n",
       "5699                                     1.0  202010              0.0   \n",
       "9226                                     NaN  202011             10.0   \n",
       "12111                                    0.0  202012              0.0   \n",
       "14370                                    1.0  202101              7.0   \n",
       "15892                                    1.0  202102              1.0   \n",
       "19549                                    NaN  202103              6.0   \n",
       "23499                                    0.0  202104              0.0   \n",
       "\n",
       "       MAX_DIAS_ATRASO_SF  TIENE_DEUDA_REFINANCIADO_RCC  \\\n",
       "446                   0.0                           1.0   \n",
       "2984                  0.0                           1.0   \n",
       "5699                  0.0                           1.0   \n",
       "9226                  3.0                           1.0   \n",
       "12111                 3.0                           1.0   \n",
       "14370                 0.0                           1.0   \n",
       "15892                 0.0                           1.0   \n",
       "19549                12.0                           1.0   \n",
       "23499                 0.0                           1.0   \n",
       "\n",
       "       TIENE_DEUDA_REFINANCIADO_IBK  TIENE_DEUDA_JUDICIAL_RCC  \n",
       "446                             0.0                       0.0  \n",
       "2984                            0.0                       0.0  \n",
       "5699                            0.0                       0.0  \n",
       "9226                            0.0                       0.0  \n",
       "12111                           0.0                       0.0  \n",
       "14370                           0.0                       0.0  \n",
       "15892                           0.0                       0.0  \n",
       "19549                           0.0                       0.0  \n",
       "23499                           0.0                       0.0  "
      ]
     },
     "execution_count": 22,
     "metadata": {},
     "output_type": "execute_result"
    }
   ],
   "source": [
    "base[base['COD_UNICO'] == str(8443816).zfill(10)].sort_values(by=['PERIODO'])[\n",
    "    ['target_SF_8_dias_atraso_o_mas_1Mbueno', 'PERIODO', 'MAX_DIAS_ATRASO', 'MAX_DIAS_ATRASO_SF',\n",
    "     'TIENE_DEUDA_REFINANCIADO_RCC', 'TIENE_DEUDA_REFINANCIADO_IBK', 'TIENE_DEUDA_JUDICIAL_RCC']\n",
    "]"
   ]
  },
  {
   "cell_type": "markdown",
   "metadata": {},
   "source": [
    "#### SAVE"
   ]
  },
  {
   "cell_type": "code",
   "execution_count": 23,
   "metadata": {},
   "outputs": [],
   "source": [
    "base.to_csv('AVANCE_6.csv', index=False)"
   ]
  },
  {
   "cell_type": "code",
   "execution_count": 24,
   "metadata": {},
   "outputs": [],
   "source": [
    "#base.to_excel('AVANCE_6.xlsx', index=False)"
   ]
  },
  {
   "cell_type": "code",
   "execution_count": 25,
   "metadata": {},
   "outputs": [
    {
     "data": {
      "text/plain": [
       "(4042, 4042)"
      ]
     },
     "execution_count": 25,
     "metadata": {},
     "output_type": "execute_result"
    }
   ],
   "source": [
    "len(list(base.columns)), len(set(base.columns))"
   ]
  },
  {
   "cell_type": "code",
   "execution_count": 26,
   "metadata": {},
   "outputs": [],
   "source": [
    "del base"
   ]
  },
  {
   "cell_type": "code",
   "execution_count": 27,
   "metadata": {},
   "outputs": [],
   "source": [
    "#(2479, 2479)"
   ]
  },
  {
   "cell_type": "code",
   "execution_count": null,
   "metadata": {},
   "outputs": [],
   "source": []
  },
  {
   "cell_type": "code",
   "execution_count": null,
   "metadata": {},
   "outputs": [],
   "source": []
  },
  {
   "cell_type": "code",
   "execution_count": null,
   "metadata": {},
   "outputs": [],
   "source": []
  }
 ],
 "metadata": {
  "kernelspec": {
   "display_name": "Python 3",
   "language": "python",
   "name": "python3"
  },
  "language_info": {
   "codemirror_mode": {
    "name": "ipython",
    "version": 3
   },
   "file_extension": ".py",
   "mimetype": "text/x-python",
   "name": "python",
   "nbconvert_exporter": "python",
   "pygments_lexer": "ipython3",
   "version": "3.8.5"
  }
 },
 "nbformat": 4,
 "nbformat_minor": 4
}
