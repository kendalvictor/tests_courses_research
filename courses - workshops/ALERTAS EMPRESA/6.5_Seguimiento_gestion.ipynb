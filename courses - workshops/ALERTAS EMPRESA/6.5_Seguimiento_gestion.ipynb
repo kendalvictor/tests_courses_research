{
 "cells": [
  {
   "cell_type": "code",
   "execution_count": 1,
   "id": "d4876648-dec9-4bfb-8123-4d5ab6c70657",
   "metadata": {},
   "outputs": [],
   "source": [
    "import glob\n",
    "import time\n",
    "import gc\n",
    "\n",
    "#nativos\n",
    "import os\n",
    "import unicodedata\n",
    "from datetime import datetime, timedelta\n",
    "from dateutil.relativedelta import relativedelta\n",
    "\n",
    "#terceros\n",
    "import pandas as pd\n",
    "import numpy as np\n",
    "import pymssql\n",
    "import missingno as msnolistadconoce\n",
    "from collections import Counter"
   ]
  },
  {
   "cell_type": "code",
   "execution_count": 5,
   "id": "fa30dcab-9737-4335-9789-3f7913a7e8c0",
   "metadata": {},
   "outputs": [
    {
     "data": {
      "text/plain": [
       "44"
      ]
     },
     "execution_count": 5,
     "metadata": {},
     "output_type": "execute_result"
    }
   ],
   "source": [
    "#conneciom MARKET\n",
    "connection_market = pymssql.connect(\n",
    "    host='10.11.12.90\\BDT',\n",
    "    user='ibetlmarket',\n",
    "    port=1433,\n",
    "    password='m@rk3t2o15',\n",
    "    database='MARKET'\n",
    ")\n",
    "\n",
    "import time\n",
    "time.sleep(1)\n",
    "gc.collect()"
   ]
  },
  {
   "cell_type": "markdown",
   "id": "7cbdbc88-123b-4682-a9e7-823bdb3ef61d",
   "metadata": {},
   "source": [
    "#                                                            REPORTE DE SEGUIMIENTO GESTION ALERTAS CARTERA"
   ]
  },
  {
   "cell_type": "code",
   "execution_count": 43,
   "id": "2f30ddf6-de43-4386-8744-af76b0555ab5",
   "metadata": {},
   "outputs": [
    {
     "data": {
      "text/html": [
       "<div>\n",
       "<style scoped>\n",
       "    .dataframe tbody tr th:only-of-type {\n",
       "        vertical-align: middle;\n",
       "    }\n",
       "\n",
       "    .dataframe tbody tr th {\n",
       "        vertical-align: top;\n",
       "    }\n",
       "\n",
       "    .dataframe thead th {\n",
       "        text-align: right;\n",
       "    }\n",
       "</style>\n",
       "<table border=\"1\" class=\"dataframe\">\n",
       "  <thead>\n",
       "    <tr style=\"text-align: right;\">\n",
       "      <th></th>\n",
       "      <th>PERIODO</th>\n",
       "      <th>SEMAFORO</th>\n",
       "      <th>ESTADO</th>\n",
       "      <th>SEGMENTO_BE_AJUST</th>\n",
       "      <th>RESULTADO</th>\n",
       "      <th>BANCA</th>\n",
       "    </tr>\n",
       "  </thead>\n",
       "  <tbody>\n",
       "    <tr>\n",
       "      <th>0</th>\n",
       "      <td>202102</td>\n",
       "      <td>NEGRO</td>\n",
       "      <td>DEPURADO CLIENTE NEGRO</td>\n",
       "      <td>MEDIANA EMPRESA</td>\n",
       "      <td>NONE</td>\n",
       "      <td>BE</td>\n",
       "    </tr>\n",
       "    <tr>\n",
       "      <th>1</th>\n",
       "      <td>202102</td>\n",
       "      <td>NEGRO</td>\n",
       "      <td>DEPURADO CLIENTE NEGRO</td>\n",
       "      <td>GRAN EMPRESA</td>\n",
       "      <td>NONE</td>\n",
       "      <td>BE</td>\n",
       "    </tr>\n",
       "  </tbody>\n",
       "</table>\n",
       "</div>"
      ],
      "text/plain": [
       "  PERIODO SEMAFORO                  ESTADO SEGMENTO_BE_AJUST RESULTADO BANCA\n",
       "0  202102    NEGRO  DEPURADO CLIENTE NEGRO   MEDIANA EMPRESA      NONE    BE\n",
       "1  202102    NEGRO  DEPURADO CLIENTE NEGRO      GRAN EMPRESA      NONE    BE"
      ]
     },
     "execution_count": 43,
     "metadata": {},
     "output_type": "execute_result"
    }
   ],
   "source": [
    "sql_ = \"\"\"\n",
    "\tSELECT PERIODO, SEMAFORO, ESTADO, SEGMENTO_BE_AJUST, RESULTADO FROM ODS.HD_ALERTAS_CARTERA_SEGUIMIENTO_GESTION_CARTERA\n",
    "\"\"\"\n",
    "data = pd.read_sql(\n",
    "   sql_ , connection_market\n",
    ")\n",
    "data['BANCA'] = 'BE'\n",
    "data['RESULTADO'] = data['RESULTADO'].apply(lambda _: str(_).upper())\n",
    "data['SEMAFORO'] = data['SEMAFORO'].apply(lambda _: str(_).upper())\n",
    "data['ESTADO'] = data['ESTADO'].apply(lambda _: str(_).upper())\n",
    "data.head(2)"
   ]
  },
  {
   "cell_type": "markdown",
   "id": "d5513394-ce46-4d02-940b-9d39ad65b2f0",
   "metadata": {},
   "source": [
    "### >> ALERTADOS (NO NEGROS)"
   ]
  },
  {
   "cell_type": "code",
   "execution_count": 17,
   "id": "7e9e7865-cbb6-4799-8c85-f9f6820cca8b",
   "metadata": {},
   "outputs": [
    {
     "data": {
      "text/html": [
       "<div>\n",
       "<style scoped>\n",
       "    .dataframe tbody tr th:only-of-type {\n",
       "        vertical-align: middle;\n",
       "    }\n",
       "\n",
       "    .dataframe tbody tr th {\n",
       "        vertical-align: top;\n",
       "    }\n",
       "\n",
       "    .dataframe thead th {\n",
       "        text-align: right;\n",
       "    }\n",
       "</style>\n",
       "<table border=\"1\" class=\"dataframe\">\n",
       "  <thead>\n",
       "    <tr style=\"text-align: right;\">\n",
       "      <th>PERIODO</th>\n",
       "      <th>202102</th>\n",
       "      <th>202103</th>\n",
       "      <th>202104</th>\n",
       "    </tr>\n",
       "    <tr>\n",
       "      <th>BANCA</th>\n",
       "      <th></th>\n",
       "      <th></th>\n",
       "      <th></th>\n",
       "    </tr>\n",
       "  </thead>\n",
       "  <tbody>\n",
       "    <tr>\n",
       "      <th>BE</th>\n",
       "      <td>502</td>\n",
       "      <td>382</td>\n",
       "      <td>356</td>\n",
       "    </tr>\n",
       "  </tbody>\n",
       "</table>\n",
       "</div>"
      ],
      "text/plain": [
       "PERIODO  202102  202103  202104\n",
       "BANCA                          \n",
       "BE          502     382     356"
      ]
     },
     "execution_count": 17,
     "metadata": {},
     "output_type": "execute_result"
    }
   ],
   "source": [
    "subset = data[~data['SEMAFORO'].isin(['NEGRO'])]\n",
    "\n",
    "pd.crosstab(subset['BANCA'], subset['PERIODO'])"
   ]
  },
  {
   "cell_type": "code",
   "execution_count": null,
   "id": "b57e4fcf-8578-4831-a948-cfc5e41652d7",
   "metadata": {},
   "outputs": [],
   "source": []
  },
  {
   "cell_type": "markdown",
   "id": "f9a5c922-f9c0-4529-bd59-550e876a11f4",
   "metadata": {},
   "source": [
    "### >> ALERTADOS POR ZONAL (NO NEGROS)"
   ]
  },
  {
   "cell_type": "code",
   "execution_count": 18,
   "id": "14abd1b8-eb91-4803-8a06-6a0fc5f8706d",
   "metadata": {
    "tags": []
   },
   "outputs": [
    {
     "data": {
      "text/html": [
       "<div>\n",
       "<style scoped>\n",
       "    .dataframe tbody tr th:only-of-type {\n",
       "        vertical-align: middle;\n",
       "    }\n",
       "\n",
       "    .dataframe tbody tr th {\n",
       "        vertical-align: top;\n",
       "    }\n",
       "\n",
       "    .dataframe thead th {\n",
       "        text-align: right;\n",
       "    }\n",
       "</style>\n",
       "<table border=\"1\" class=\"dataframe\">\n",
       "  <thead>\n",
       "    <tr style=\"text-align: right;\">\n",
       "      <th>PERIODO</th>\n",
       "      <th>202102</th>\n",
       "      <th>202103</th>\n",
       "      <th>202104</th>\n",
       "    </tr>\n",
       "    <tr>\n",
       "      <th>SEGMENTO_BE_AJUST</th>\n",
       "      <th></th>\n",
       "      <th></th>\n",
       "      <th></th>\n",
       "    </tr>\n",
       "  </thead>\n",
       "  <tbody>\n",
       "    <tr>\n",
       "      <th>GRAN EMPRESA</th>\n",
       "      <td>118</td>\n",
       "      <td>107</td>\n",
       "      <td>88</td>\n",
       "    </tr>\n",
       "    <tr>\n",
       "      <th>MEDIANA EMPRESA</th>\n",
       "      <td>210</td>\n",
       "      <td>154</td>\n",
       "      <td>128</td>\n",
       "    </tr>\n",
       "    <tr>\n",
       "      <th>PROVINCIA-S1</th>\n",
       "      <td>54</td>\n",
       "      <td>32</td>\n",
       "      <td>55</td>\n",
       "    </tr>\n",
       "    <tr>\n",
       "      <th>PROVINCIA-S2</th>\n",
       "      <td>120</td>\n",
       "      <td>89</td>\n",
       "      <td>85</td>\n",
       "    </tr>\n",
       "  </tbody>\n",
       "</table>\n",
       "</div>"
      ],
      "text/plain": [
       "PERIODO            202102  202103  202104\n",
       "SEGMENTO_BE_AJUST                        \n",
       "GRAN EMPRESA          118     107      88\n",
       "MEDIANA EMPRESA       210     154     128\n",
       "PROVINCIA-S1           54      32      55\n",
       "PROVINCIA-S2          120      89      85"
      ]
     },
     "execution_count": 18,
     "metadata": {},
     "output_type": "execute_result"
    }
   ],
   "source": [
    "pd.crosstab(subset['SEGMENTO_BE_AJUST'], subset['PERIODO'])"
   ]
  },
  {
   "cell_type": "code",
   "execution_count": null,
   "id": "fb69657a-1367-46f9-b1f5-c349e4450576",
   "metadata": {},
   "outputs": [],
   "source": []
  },
  {
   "cell_type": "markdown",
   "id": "f8ea7a1e-a934-47af-836a-5419350a60f0",
   "metadata": {},
   "source": [
    "### >> ALERTADOS POR GESTIONAR (POSTERIOR A LA DEPURACIÓN AUTOMÁTICA)\n"
   ]
  },
  {
   "cell_type": "code",
   "execution_count": 53,
   "id": "b567a89a-991e-45a3-ab6b-b5157bdda9e3",
   "metadata": {},
   "outputs": [
    {
     "data": {
      "text/html": [
       "<div>\n",
       "<style scoped>\n",
       "    .dataframe tbody tr th:only-of-type {\n",
       "        vertical-align: middle;\n",
       "    }\n",
       "\n",
       "    .dataframe tbody tr th {\n",
       "        vertical-align: top;\n",
       "    }\n",
       "\n",
       "    .dataframe thead th {\n",
       "        text-align: right;\n",
       "    }\n",
       "</style>\n",
       "<table border=\"1\" class=\"dataframe\">\n",
       "  <thead>\n",
       "    <tr style=\"text-align: right;\">\n",
       "      <th>PERIODO</th>\n",
       "      <th>202102</th>\n",
       "      <th>202103</th>\n",
       "      <th>202104</th>\n",
       "    </tr>\n",
       "    <tr>\n",
       "      <th>SEGMENTO_BE_AJUST</th>\n",
       "      <th></th>\n",
       "      <th></th>\n",
       "      <th></th>\n",
       "    </tr>\n",
       "  </thead>\n",
       "  <tbody>\n",
       "    <tr>\n",
       "      <th>GRAN EMPRESA</th>\n",
       "      <td>88</td>\n",
       "      <td>45</td>\n",
       "      <td>43</td>\n",
       "    </tr>\n",
       "    <tr>\n",
       "      <th>MEDIANA EMPRESA</th>\n",
       "      <td>210</td>\n",
       "      <td>90</td>\n",
       "      <td>53</td>\n",
       "    </tr>\n",
       "    <tr>\n",
       "      <th>PROVINCIA-S1</th>\n",
       "      <td>47</td>\n",
       "      <td>14</td>\n",
       "      <td>9</td>\n",
       "    </tr>\n",
       "    <tr>\n",
       "      <th>PROVINCIA-S2</th>\n",
       "      <td>110</td>\n",
       "      <td>32</td>\n",
       "      <td>35</td>\n",
       "    </tr>\n",
       "  </tbody>\n",
       "</table>\n",
       "</div>"
      ],
      "text/plain": [
       "PERIODO            202102  202103  202104\n",
       "SEGMENTO_BE_AJUST                        \n",
       "GRAN EMPRESA           88      45      43\n",
       "MEDIANA EMPRESA       210      90      53\n",
       "PROVINCIA-S1           47      14       9\n",
       "PROVINCIA-S2          110      32      35"
      ]
     },
     "execution_count": 53,
     "metadata": {},
     "output_type": "execute_result"
    }
   ],
   "source": [
    "mismas_alertas = ['DEPURADO MISMAS ALERTAS EJECUTADO', 'DEPURADO MISMAS ALERTAS VALIDADO']\n",
    "subset = data[\n",
    "    (~data['SEMAFORO'].isin(['NEGRO', 'GRIS'])) & (~data['ESTADO'].isin(mismas_alertas))\n",
    "]\n",
    "\n",
    "pd.crosstab(subset['SEGMENTO_BE_AJUST'], subset['PERIODO'])"
   ]
  },
  {
   "cell_type": "code",
   "execution_count": null,
   "id": "328521a4-01f9-413e-8b44-c57bcaac02e0",
   "metadata": {},
   "outputs": [],
   "source": []
  },
  {
   "cell_type": "markdown",
   "id": "770dde49-e785-4b00-9367-188c6e1fb8ff",
   "metadata": {},
   "source": [
    "### >> REQUIERE GESTION"
   ]
  },
  {
   "cell_type": "code",
   "execution_count": 55,
   "id": "9d33cc05-c9e7-4458-bfda-e25818e6588f",
   "metadata": {},
   "outputs": [
    {
     "data": {
      "text/html": [
       "<div>\n",
       "<style scoped>\n",
       "    .dataframe tbody tr th:only-of-type {\n",
       "        vertical-align: middle;\n",
       "    }\n",
       "\n",
       "    .dataframe tbody tr th {\n",
       "        vertical-align: top;\n",
       "    }\n",
       "\n",
       "    .dataframe thead th {\n",
       "        text-align: right;\n",
       "    }\n",
       "</style>\n",
       "<table border=\"1\" class=\"dataframe\">\n",
       "  <thead>\n",
       "    <tr style=\"text-align: right;\">\n",
       "      <th>PERIODO</th>\n",
       "      <th>202102</th>\n",
       "      <th>202103</th>\n",
       "      <th>202104</th>\n",
       "    </tr>\n",
       "    <tr>\n",
       "      <th>SEGMENTO_BE_AJUST</th>\n",
       "      <th></th>\n",
       "      <th></th>\n",
       "      <th></th>\n",
       "    </tr>\n",
       "  </thead>\n",
       "  <tbody>\n",
       "    <tr>\n",
       "      <th>GRAN EMPRESA</th>\n",
       "      <td>50</td>\n",
       "      <td>31</td>\n",
       "      <td>43</td>\n",
       "    </tr>\n",
       "    <tr>\n",
       "      <th>MEDIANA EMPRESA</th>\n",
       "      <td>210</td>\n",
       "      <td>90</td>\n",
       "      <td>53</td>\n",
       "    </tr>\n",
       "    <tr>\n",
       "      <th>PROVINCIA-S1</th>\n",
       "      <td>33</td>\n",
       "      <td>11</td>\n",
       "      <td>7</td>\n",
       "    </tr>\n",
       "    <tr>\n",
       "      <th>PROVINCIA-S2</th>\n",
       "      <td>89</td>\n",
       "      <td>23</td>\n",
       "      <td>30</td>\n",
       "    </tr>\n",
       "  </tbody>\n",
       "</table>\n",
       "</div>"
      ],
      "text/plain": [
       "PERIODO            202102  202103  202104\n",
       "SEGMENTO_BE_AJUST                        \n",
       "GRAN EMPRESA           50      31      43\n",
       "MEDIANA EMPRESA       210      90      53\n",
       "PROVINCIA-S1           33      11       7\n",
       "PROVINCIA-S2           89      23      30"
      ]
     },
     "execution_count": 55,
     "metadata": {},
     "output_type": "execute_result"
    }
   ],
   "source": [
    "list_depura =['DEPURADO MISMAS ALERTAS EJECUTADO', 'DEPURADO MISMAS ALERTAS VALIDADO', 'EN PROCESO DE DEPURACION', 'DEPURADO']\n",
    "subset = data[\n",
    "    (~data['SEMAFORO'].isin(['NEGRO', 'GRIS'])) & (~data['ESTADO'].isin(list_depura))\n",
    "]\n",
    "\n",
    "pd.crosstab(subset['SEGMENTO_BE_AJUST'], subset['PERIODO'])"
   ]
  },
  {
   "cell_type": "code",
   "execution_count": null,
   "id": "a96c89ed-f973-40da-b90a-54dd73eb2789",
   "metadata": {},
   "outputs": [],
   "source": []
  },
  {
   "cell_type": "markdown",
   "id": "9b1d6e3e-2c52-4a21-a00a-9ffc7d4b1d48",
   "metadata": {},
   "source": [
    "### >> GESTIONADOS"
   ]
  },
  {
   "cell_type": "code",
   "execution_count": 36,
   "id": "46b1ab30-2a46-455d-a147-f78549342107",
   "metadata": {},
   "outputs": [
    {
     "data": {
      "text/html": [
       "<div>\n",
       "<style scoped>\n",
       "    .dataframe tbody tr th:only-of-type {\n",
       "        vertical-align: middle;\n",
       "    }\n",
       "\n",
       "    .dataframe tbody tr th {\n",
       "        vertical-align: top;\n",
       "    }\n",
       "\n",
       "    .dataframe thead th {\n",
       "        text-align: right;\n",
       "    }\n",
       "</style>\n",
       "<table border=\"1\" class=\"dataframe\">\n",
       "  <thead>\n",
       "    <tr style=\"text-align: right;\">\n",
       "      <th>PERIODO</th>\n",
       "      <th>202102</th>\n",
       "      <th>202103</th>\n",
       "      <th>202104</th>\n",
       "    </tr>\n",
       "    <tr>\n",
       "      <th>SEGMENTO_BE_AJUST</th>\n",
       "      <th></th>\n",
       "      <th></th>\n",
       "      <th></th>\n",
       "    </tr>\n",
       "  </thead>\n",
       "  <tbody>\n",
       "    <tr>\n",
       "      <th>GRAN EMPRESA</th>\n",
       "      <td>25</td>\n",
       "      <td>29</td>\n",
       "      <td>3</td>\n",
       "    </tr>\n",
       "    <tr>\n",
       "      <th>MEDIANA EMPRESA</th>\n",
       "      <td>95</td>\n",
       "      <td>88</td>\n",
       "      <td>8</td>\n",
       "    </tr>\n",
       "    <tr>\n",
       "      <th>PROVINCIA-S1</th>\n",
       "      <td>7</td>\n",
       "      <td>11</td>\n",
       "      <td>0</td>\n",
       "    </tr>\n",
       "    <tr>\n",
       "      <th>PROVINCIA-S2</th>\n",
       "      <td>33</td>\n",
       "      <td>22</td>\n",
       "      <td>11</td>\n",
       "    </tr>\n",
       "  </tbody>\n",
       "</table>\n",
       "</div>"
      ],
      "text/plain": [
       "PERIODO            202102  202103  202104\n",
       "SEGMENTO_BE_AJUST                        \n",
       "GRAN EMPRESA           25      29       3\n",
       "MEDIANA EMPRESA        95      88       8\n",
       "PROVINCIA-S1            7      11       0\n",
       "PROVINCIA-S2           33      22      11"
      ]
     },
     "execution_count": 36,
     "metadata": {},
     "output_type": "execute_result"
    }
   ],
   "source": [
    "gestionado = ['EJECUTADO', 'VALIDADO', 'GUARDADO']\n",
    "subset = data[\n",
    "    (~data['SEMAFORO'].isin(['NEGRO', 'GRIS'])) & (data['ESTADO'].isin(gestionado))\n",
    "]\n",
    "\n",
    "pd.crosstab(subset['SEGMENTO_BE_AJUST'], subset['PERIODO'])"
   ]
  },
  {
   "cell_type": "code",
   "execution_count": null,
   "id": "11a6b9f8-82f9-4ea1-a4fe-7c770d4eb4ba",
   "metadata": {},
   "outputs": [],
   "source": []
  },
  {
   "cell_type": "markdown",
   "id": "f92cf911-8de8-43de-8973-0b6f0c644d2d",
   "metadata": {},
   "source": [
    "### >> RESULTADOS"
   ]
  },
  {
   "cell_type": "code",
   "execution_count": 51,
   "id": "ec73808e-f1a6-4677-aad6-27dfb8908a9d",
   "metadata": {},
   "outputs": [
    {
     "data": {
      "text/html": [
       "<div>\n",
       "<style scoped>\n",
       "    .dataframe tbody tr th:only-of-type {\n",
       "        vertical-align: middle;\n",
       "    }\n",
       "\n",
       "    .dataframe tbody tr th {\n",
       "        vertical-align: top;\n",
       "    }\n",
       "\n",
       "    .dataframe thead th {\n",
       "        text-align: right;\n",
       "    }\n",
       "</style>\n",
       "<table border=\"1\" class=\"dataframe\">\n",
       "  <thead>\n",
       "    <tr style=\"text-align: right;\">\n",
       "      <th>PERIODO</th>\n",
       "      <th>202102</th>\n",
       "      <th>202103</th>\n",
       "      <th>202104</th>\n",
       "    </tr>\n",
       "    <tr>\n",
       "      <th>SEGMENTO_BE_AJUST</th>\n",
       "      <th></th>\n",
       "      <th></th>\n",
       "      <th></th>\n",
       "    </tr>\n",
       "  </thead>\n",
       "  <tbody>\n",
       "    <tr>\n",
       "      <th>GRAN EMPRESA</th>\n",
       "      <td>2</td>\n",
       "      <td>0</td>\n",
       "      <td>0</td>\n",
       "    </tr>\n",
       "    <tr>\n",
       "      <th>MEDIANA EMPRESA</th>\n",
       "      <td>8</td>\n",
       "      <td>5</td>\n",
       "      <td>2</td>\n",
       "    </tr>\n",
       "    <tr>\n",
       "      <th>PROVINCIA-S2</th>\n",
       "      <td>3</td>\n",
       "      <td>4</td>\n",
       "      <td>4</td>\n",
       "    </tr>\n",
       "  </tbody>\n",
       "</table>\n",
       "</div>"
      ],
      "text/plain": [
       "PERIODO            202102  202103  202104\n",
       "SEGMENTO_BE_AJUST                        \n",
       "GRAN EMPRESA            2       0       0\n",
       "MEDIANA EMPRESA         8       5       2\n",
       "PROVINCIA-S2            3       4       4"
      ]
     },
     "execution_count": 51,
     "metadata": {},
     "output_type": "execute_result"
    }
   ],
   "source": [
    "subset = data[data['RESULTADO'].isin(['SEGUIMIENTO', 'PREOCUPA '])]\n",
    "\n",
    "pd.crosstab(subset['SEGMENTO_BE_AJUST'], subset['PERIODO'])"
   ]
  },
  {
   "cell_type": "code",
   "execution_count": null,
   "id": "1739f965-03b2-4260-8ac8-bf1d78933f10",
   "metadata": {},
   "outputs": [],
   "source": []
  }
 ],
 "metadata": {
  "kernelspec": {
   "display_name": "Python 3",
   "language": "python",
   "name": "python3"
  },
  "language_info": {
   "codemirror_mode": {
    "name": "ipython",
    "version": 3
   },
   "file_extension": ".py",
   "mimetype": "text/x-python",
   "name": "python",
   "nbconvert_exporter": "python",
   "pygments_lexer": "ipython3",
   "version": "3.8.5"
  }
 },
 "nbformat": 4,
 "nbformat_minor": 5
}
