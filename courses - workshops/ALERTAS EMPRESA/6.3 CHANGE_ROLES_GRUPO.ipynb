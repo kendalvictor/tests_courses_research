{
 "cells": [
  {
   "cell_type": "code",
   "execution_count": 1,
   "id": "consecutive-prison",
   "metadata": {},
   "outputs": [],
   "source": [
    "import glob\n",
    "import time\n",
    "import gc\n",
    "\n",
    "#nativos\n",
    "import os\n",
    "import unicodedata\n",
    "from datetime import datetime, timedelta\n",
    "from dateutil.relativedelta import relativedelta\n",
    "\n",
    "#terceros\n",
    "import pandas as pd\n",
    "import numpy as np\n",
    "import pymssql\n",
    "import missingno as msnolistadconoce\n",
    "from collections import Counter"
   ]
  },
  {
   "cell_type": "code",
   "execution_count": 2,
   "id": "minor-amplifier",
   "metadata": {},
   "outputs": [
    {
     "data": {
      "text/plain": [
       "22"
      ]
     },
     "execution_count": 2,
     "metadata": {},
     "output_type": "execute_result"
    }
   ],
   "source": [
    "#conneciom MARKET\n",
    "connection_market = pymssql.connect(\n",
    "    host='10.11.12.90\\BDT',\n",
    "    user='ibetlmarket',\n",
    "    port=1433,\n",
    "    password='m@rk3t2o15',\n",
    "    database='MARKET'\n",
    ")\n",
    "\n",
    "import time\n",
    "time.sleep(1)\n",
    "gc.collect()"
   ]
  },
  {
   "cell_type": "raw",
   "id": "reliable-going",
   "metadata": {},
   "source": []
  },
  {
   "cell_type": "code",
   "execution_count": 3,
   "id": "brutal-clause",
   "metadata": {},
   "outputs": [
    {
     "name": "stdout",
     "output_type": "stream",
     "text": [
      "(219, 5)\n"
     ]
    },
    {
     "data": {
      "text/html": [
       "<div>\n",
       "<style scoped>\n",
       "    .dataframe tbody tr th:only-of-type {\n",
       "        vertical-align: middle;\n",
       "    }\n",
       "\n",
       "    .dataframe tbody tr th {\n",
       "        vertical-align: top;\n",
       "    }\n",
       "\n",
       "    .dataframe thead th {\n",
       "        text-align: right;\n",
       "    }\n",
       "</style>\n",
       "<table border=\"1\" class=\"dataframe\">\n",
       "  <thead>\n",
       "    <tr style=\"text-align: right;\">\n",
       "      <th></th>\n",
       "      <th>GRUPO</th>\n",
       "      <th>ROL</th>\n",
       "      <th>EQUIPO</th>\n",
       "      <th>ZONAL</th>\n",
       "      <th>SEGMENTO</th>\n",
       "    </tr>\n",
       "  </thead>\n",
       "  <tbody>\n",
       "    <tr>\n",
       "      <th>0</th>\n",
       "      <td>GE1</td>\n",
       "      <td>EJECUTOR</td>\n",
       "      <td>EJ. SEGUIMIENTO</td>\n",
       "      <td>BEL ZONAL 1</td>\n",
       "      <td>S1</td>\n",
       "    </tr>\n",
       "    <tr>\n",
       "      <th>1</th>\n",
       "      <td>GE1</td>\n",
       "      <td>EJECUTOR</td>\n",
       "      <td>EJ. SEGUIMIENTO</td>\n",
       "      <td>BEL ZONAL 1</td>\n",
       "      <td>S2</td>\n",
       "    </tr>\n",
       "  </tbody>\n",
       "</table>\n",
       "</div>"
      ],
      "text/plain": [
       "  GRUPO       ROL           EQUIPO        ZONAL SEGMENTO\n",
       "0   GE1  EJECUTOR  EJ. SEGUIMIENTO  BEL ZONAL 1       S1\n",
       "1   GE1  EJECUTOR  EJ. SEGUIMIENTO  BEL ZONAL 1       S2"
      ]
     },
     "execution_count": 3,
     "metadata": {},
     "output_type": "execute_result"
    }
   ],
   "source": [
    "sql_rol = \"\"\"\n",
    "     SELECT  * FROM STG.H_ALERTAS_GRUPO_ROL_EQUIPO \n",
    "\"\"\"\n",
    "rol_equipo = pd.read_sql(\n",
    "   sql_rol , connection_market\n",
    ")\n",
    "\n",
    "print(rol_equipo.shape)\n",
    "rol_equipo.head(2)"
   ]
  },
  {
   "cell_type": "code",
   "execution_count": 4,
   "id": "recreational-jimmy",
   "metadata": {},
   "outputs": [],
   "source": [
    "rol_equipo.to_excel('GRUPO_ROL_EQUIPO.xlsx', index=False)"
   ]
  },
  {
   "cell_type": "code",
   "execution_count": 9,
   "id": "everyday-furniture",
   "metadata": {},
   "outputs": [
    {
     "ename": "DatabaseError",
     "evalue": "Execution failed on sql: \n     SELECT  * FROM STG.H_ALERTAS_COLABORADOR_EQUIPO \n\nConnection is closed.\nunable to rollback",
     "output_type": "error",
     "traceback": [
      "\u001b[1;31m---------------------------------------------------------------------------\u001b[0m",
      "\u001b[1;31mInterfaceError\u001b[0m                            Traceback (most recent call last)",
      "\u001b[1;32m~\\AppData\\Roaming\\Python\\Python38\\site-packages\\pandas\\io\\sql.py\u001b[0m in \u001b[0;36mexecute\u001b[1;34m(self, *args, **kwargs)\u001b[0m\n\u001b[0;32m   1680\u001b[0m         \u001b[1;32mtry\u001b[0m\u001b[1;33m:\u001b[0m\u001b[1;33m\u001b[0m\u001b[1;33m\u001b[0m\u001b[0m\n\u001b[1;32m-> 1681\u001b[1;33m             \u001b[0mcur\u001b[0m\u001b[1;33m.\u001b[0m\u001b[0mexecute\u001b[0m\u001b[1;33m(\u001b[0m\u001b[1;33m*\u001b[0m\u001b[0margs\u001b[0m\u001b[1;33m,\u001b[0m \u001b[1;33m**\u001b[0m\u001b[0mkwargs\u001b[0m\u001b[1;33m)\u001b[0m\u001b[1;33m\u001b[0m\u001b[1;33m\u001b[0m\u001b[0m\n\u001b[0m\u001b[0;32m   1682\u001b[0m             \u001b[1;32mreturn\u001b[0m \u001b[0mcur\u001b[0m\u001b[1;33m\u001b[0m\u001b[1;33m\u001b[0m\u001b[0m\n",
      "\u001b[1;32msrc\\pymssql.pyx\u001b[0m in \u001b[0;36mpymssql.Cursor.execute\u001b[1;34m()\u001b[0m\n",
      "\u001b[1;32msrc\\pymssql.pyx\u001b[0m in \u001b[0;36mpymssql.Connection._conn.__get__\u001b[1;34m()\u001b[0m\n",
      "\u001b[1;31mInterfaceError\u001b[0m: Connection is closed.",
      "\nDuring handling of the above exception, another exception occurred:\n",
      "\u001b[1;31mInterfaceError\u001b[0m                            Traceback (most recent call last)",
      "\u001b[1;32m~\\AppData\\Roaming\\Python\\Python38\\site-packages\\pandas\\io\\sql.py\u001b[0m in \u001b[0;36mexecute\u001b[1;34m(self, *args, **kwargs)\u001b[0m\n\u001b[0;32m   1684\u001b[0m             \u001b[1;32mtry\u001b[0m\u001b[1;33m:\u001b[0m\u001b[1;33m\u001b[0m\u001b[1;33m\u001b[0m\u001b[0m\n\u001b[1;32m-> 1685\u001b[1;33m                 \u001b[0mself\u001b[0m\u001b[1;33m.\u001b[0m\u001b[0mcon\u001b[0m\u001b[1;33m.\u001b[0m\u001b[0mrollback\u001b[0m\u001b[1;33m(\u001b[0m\u001b[1;33m)\u001b[0m\u001b[1;33m\u001b[0m\u001b[1;33m\u001b[0m\u001b[0m\n\u001b[0m\u001b[0;32m   1686\u001b[0m             \u001b[1;32mexcept\u001b[0m \u001b[0mException\u001b[0m \u001b[1;32mas\u001b[0m \u001b[0minner_exc\u001b[0m\u001b[1;33m:\u001b[0m  \u001b[1;31m# pragma: no cover\u001b[0m\u001b[1;33m\u001b[0m\u001b[1;33m\u001b[0m\u001b[0m\n",
      "\u001b[1;32msrc\\pymssql.pyx\u001b[0m in \u001b[0;36mpymssql.Connection.rollback\u001b[1;34m()\u001b[0m\n",
      "\u001b[1;32msrc\\pymssql.pyx\u001b[0m in \u001b[0;36mpymssql.Connection._conn.__get__\u001b[1;34m()\u001b[0m\n",
      "\u001b[1;31mInterfaceError\u001b[0m: Connection is closed.",
      "\nThe above exception was the direct cause of the following exception:\n",
      "\u001b[1;31mDatabaseError\u001b[0m                             Traceback (most recent call last)",
      "\u001b[1;32m<ipython-input-9-6c258eb42442>\u001b[0m in \u001b[0;36m<module>\u001b[1;34m\u001b[0m\n\u001b[0;32m      2\u001b[0m      \u001b[0mSELECT\u001b[0m  \u001b[1;33m*\u001b[0m \u001b[0mFROM\u001b[0m \u001b[0mSTG\u001b[0m\u001b[1;33m.\u001b[0m\u001b[0mH_ALERTAS_COLABORADOR_EQUIPO\u001b[0m\u001b[1;33m\u001b[0m\u001b[1;33m\u001b[0m\u001b[0m\n\u001b[0;32m      3\u001b[0m \"\"\"\n\u001b[1;32m----> 4\u001b[1;33m rol_colaborador = pd.read_sql(\n\u001b[0m\u001b[0;32m      5\u001b[0m    \u001b[0msql_colaborador\u001b[0m \u001b[1;33m,\u001b[0m \u001b[0mconnection_market\u001b[0m\u001b[1;33m\u001b[0m\u001b[1;33m\u001b[0m\u001b[0m\n\u001b[0;32m      6\u001b[0m )\n",
      "\u001b[1;32m~\\AppData\\Roaming\\Python\\Python38\\site-packages\\pandas\\io\\sql.py\u001b[0m in \u001b[0;36mread_sql\u001b[1;34m(sql, con, index_col, coerce_float, params, parse_dates, columns, chunksize)\u001b[0m\n\u001b[0;32m    481\u001b[0m \u001b[1;33m\u001b[0m\u001b[0m\n\u001b[0;32m    482\u001b[0m     \u001b[1;32mif\u001b[0m \u001b[0misinstance\u001b[0m\u001b[1;33m(\u001b[0m\u001b[0mpandas_sql\u001b[0m\u001b[1;33m,\u001b[0m \u001b[0mSQLiteDatabase\u001b[0m\u001b[1;33m)\u001b[0m\u001b[1;33m:\u001b[0m\u001b[1;33m\u001b[0m\u001b[1;33m\u001b[0m\u001b[0m\n\u001b[1;32m--> 483\u001b[1;33m         return pandas_sql.read_query(\n\u001b[0m\u001b[0;32m    484\u001b[0m             \u001b[0msql\u001b[0m\u001b[1;33m,\u001b[0m\u001b[1;33m\u001b[0m\u001b[1;33m\u001b[0m\u001b[0m\n\u001b[0;32m    485\u001b[0m             \u001b[0mindex_col\u001b[0m\u001b[1;33m=\u001b[0m\u001b[0mindex_col\u001b[0m\u001b[1;33m,\u001b[0m\u001b[1;33m\u001b[0m\u001b[1;33m\u001b[0m\u001b[0m\n",
      "\u001b[1;32m~\\AppData\\Roaming\\Python\\Python38\\site-packages\\pandas\\io\\sql.py\u001b[0m in \u001b[0;36mread_query\u001b[1;34m(self, sql, index_col, coerce_float, params, parse_dates, chunksize)\u001b[0m\n\u001b[0;32m   1725\u001b[0m \u001b[1;33m\u001b[0m\u001b[0m\n\u001b[0;32m   1726\u001b[0m         \u001b[0margs\u001b[0m \u001b[1;33m=\u001b[0m \u001b[0m_convert_params\u001b[0m\u001b[1;33m(\u001b[0m\u001b[0msql\u001b[0m\u001b[1;33m,\u001b[0m \u001b[0mparams\u001b[0m\u001b[1;33m)\u001b[0m\u001b[1;33m\u001b[0m\u001b[1;33m\u001b[0m\u001b[0m\n\u001b[1;32m-> 1727\u001b[1;33m         \u001b[0mcursor\u001b[0m \u001b[1;33m=\u001b[0m \u001b[0mself\u001b[0m\u001b[1;33m.\u001b[0m\u001b[0mexecute\u001b[0m\u001b[1;33m(\u001b[0m\u001b[1;33m*\u001b[0m\u001b[0margs\u001b[0m\u001b[1;33m)\u001b[0m\u001b[1;33m\u001b[0m\u001b[1;33m\u001b[0m\u001b[0m\n\u001b[0m\u001b[0;32m   1728\u001b[0m         \u001b[0mcolumns\u001b[0m \u001b[1;33m=\u001b[0m \u001b[1;33m[\u001b[0m\u001b[0mcol_desc\u001b[0m\u001b[1;33m[\u001b[0m\u001b[1;36m0\u001b[0m\u001b[1;33m]\u001b[0m \u001b[1;32mfor\u001b[0m \u001b[0mcol_desc\u001b[0m \u001b[1;32min\u001b[0m \u001b[0mcursor\u001b[0m\u001b[1;33m.\u001b[0m\u001b[0mdescription\u001b[0m\u001b[1;33m]\u001b[0m\u001b[1;33m\u001b[0m\u001b[1;33m\u001b[0m\u001b[0m\n\u001b[0;32m   1729\u001b[0m \u001b[1;33m\u001b[0m\u001b[0m\n",
      "\u001b[1;32m~\\AppData\\Roaming\\Python\\Python38\\site-packages\\pandas\\io\\sql.py\u001b[0m in \u001b[0;36mexecute\u001b[1;34m(self, *args, **kwargs)\u001b[0m\n\u001b[0;32m   1688\u001b[0m                     \u001b[1;34mf\"Execution failed on sql: {args[0]}\\n{exc}\\nunable to rollback\"\u001b[0m\u001b[1;33m\u001b[0m\u001b[1;33m\u001b[0m\u001b[0m\n\u001b[0;32m   1689\u001b[0m                 )\n\u001b[1;32m-> 1690\u001b[1;33m                 \u001b[1;32mraise\u001b[0m \u001b[0mex\u001b[0m \u001b[1;32mfrom\u001b[0m \u001b[0minner_exc\u001b[0m\u001b[1;33m\u001b[0m\u001b[1;33m\u001b[0m\u001b[0m\n\u001b[0m\u001b[0;32m   1691\u001b[0m \u001b[1;33m\u001b[0m\u001b[0m\n\u001b[0;32m   1692\u001b[0m             \u001b[0mex\u001b[0m \u001b[1;33m=\u001b[0m \u001b[0mDatabaseError\u001b[0m\u001b[1;33m(\u001b[0m\u001b[1;34mf\"Execution failed on sql '{args[0]}': {exc}\"\u001b[0m\u001b[1;33m)\u001b[0m\u001b[1;33m\u001b[0m\u001b[1;33m\u001b[0m\u001b[0m\n",
      "\u001b[1;31mDatabaseError\u001b[0m: Execution failed on sql: \n     SELECT  * FROM STG.H_ALERTAS_COLABORADOR_EQUIPO \n\nConnection is closed.\nunable to rollback"
     ]
    }
   ],
   "source": [
    "sql_colaborador = \"\"\"\n",
    "     SELECT  * FROM STG.H_ALERTAS_COLABORADOR_EQUIPO \n",
    "\"\"\"\n",
    "rol_colaborador = pd.read_sql(\n",
    "   sql_colaborador , connection_market\n",
    ")\n",
    "\n",
    "print(rol_colaborador.shape)\n",
    "rol_colaborador.head(2)"
   ]
  },
  {
   "cell_type": "code",
   "execution_count": 6,
   "id": "australian-briefs",
   "metadata": {},
   "outputs": [],
   "source": [
    "rol_colaborador.to_excel('COLABORADOR_EQUIPO.xlsx', index=False)"
   ]
  },
  {
   "cell_type": "code",
   "execution_count": 7,
   "id": "accepted-onion",
   "metadata": {},
   "outputs": [],
   "source": [
    "connection_market.close()"
   ]
  },
  {
   "cell_type": "code",
   "execution_count": 8,
   "id": "rocky-strap",
   "metadata": {},
   "outputs": [
    {
     "ename": "Exception",
     "evalue": "VICTOR DICE: AGUANTA TU COCHE .... valida en el excel y luego corre lo de abajo .... pdta: El excel ya se creó porseaca",
     "output_type": "error",
     "traceback": [
      "\u001b[1;31m---------------------------------------------------------------------------\u001b[0m",
      "\u001b[1;31mException\u001b[0m                                 Traceback (most recent call last)",
      "\u001b[1;32m<ipython-input-8-2f6f844fe202>\u001b[0m in \u001b[0;36m<module>\u001b[1;34m\u001b[0m\n\u001b[1;32m----> 1\u001b[1;33m \u001b[1;32mraise\u001b[0m \u001b[0mException\u001b[0m\u001b[1;33m(\u001b[0m\u001b[1;34m\"VICTOR DICE: AGUANTA TU COCHE .... valida en el excel y luego corre lo de abajo .... pdta: El excel ya se creó porseaca\"\u001b[0m\u001b[1;33m)\u001b[0m\u001b[1;33m\u001b[0m\u001b[1;33m\u001b[0m\u001b[0m\n\u001b[0m",
      "\u001b[1;31mException\u001b[0m: VICTOR DICE: AGUANTA TU COCHE .... valida en el excel y luego corre lo de abajo .... pdta: El excel ya se creó porseaca"
     ]
    }
   ],
   "source": [
    "raise Exception(\"VICTOR DICE: AGUANTA TU COCHE .... valida en el excel y luego corre lo de abajo .... pdta: El excel ya se creó porseaca\")"
   ]
  },
  {
   "cell_type": "code",
   "execution_count": null,
   "id": "banner-leeds",
   "metadata": {},
   "outputs": [],
   "source": []
  },
  {
   "cell_type": "code",
   "execution_count": null,
   "id": "suspected-vancouver",
   "metadata": {},
   "outputs": [],
   "source": []
  },
  {
   "cell_type": "markdown",
   "id": "promotional-joshua",
   "metadata": {},
   "source": [
    "# UP"
   ]
  },
  {
   "cell_type": "markdown",
   "id": "affecting-original",
   "metadata": {},
   "source": [
    "### GRUPO ROL EQUIPO"
   ]
  },
  {
   "cell_type": "code",
   "execution_count": 10,
   "id": "interesting-match",
   "metadata": {},
   "outputs": [
    {
     "data": {
      "text/html": [
       "<div>\n",
       "<style scoped>\n",
       "    .dataframe tbody tr th:only-of-type {\n",
       "        vertical-align: middle;\n",
       "    }\n",
       "\n",
       "    .dataframe tbody tr th {\n",
       "        vertical-align: top;\n",
       "    }\n",
       "\n",
       "    .dataframe thead th {\n",
       "        text-align: right;\n",
       "    }\n",
       "</style>\n",
       "<table border=\"1\" class=\"dataframe\">\n",
       "  <thead>\n",
       "    <tr style=\"text-align: right;\">\n",
       "      <th></th>\n",
       "      <th>GRUPO</th>\n",
       "      <th>ROL</th>\n",
       "      <th>EQUIPO</th>\n",
       "      <th>ZONAL</th>\n",
       "      <th>SEGMENTO</th>\n",
       "    </tr>\n",
       "  </thead>\n",
       "  <tbody>\n",
       "    <tr>\n",
       "      <th>0</th>\n",
       "      <td>GE1</td>\n",
       "      <td>EJECUTOR</td>\n",
       "      <td>EJ. SEGUIMIENTO</td>\n",
       "      <td>BEL ZONAL 1</td>\n",
       "      <td>S1</td>\n",
       "    </tr>\n",
       "    <tr>\n",
       "      <th>1</th>\n",
       "      <td>GE1</td>\n",
       "      <td>EJECUTOR</td>\n",
       "      <td>EJ. SEGUIMIENTO</td>\n",
       "      <td>BEL ZONAL 1</td>\n",
       "      <td>S2</td>\n",
       "    </tr>\n",
       "    <tr>\n",
       "      <th>2</th>\n",
       "      <td>GE1</td>\n",
       "      <td>EJECUTOR</td>\n",
       "      <td>EJ. SEGUIMIENTO</td>\n",
       "      <td>BEL ZONAL 1</td>\n",
       "      <td>MULTISEGMENTO</td>\n",
       "    </tr>\n",
       "    <tr>\n",
       "      <th>3</th>\n",
       "      <td>GE1</td>\n",
       "      <td>EJECUTOR</td>\n",
       "      <td>EN</td>\n",
       "      <td>BEL ZONAL 1</td>\n",
       "      <td>S1</td>\n",
       "    </tr>\n",
       "    <tr>\n",
       "      <th>4</th>\n",
       "      <td>GE1</td>\n",
       "      <td>EJECUTOR</td>\n",
       "      <td>EN</td>\n",
       "      <td>BEL ZONAL 1</td>\n",
       "      <td>S2</td>\n",
       "    </tr>\n",
       "  </tbody>\n",
       "</table>\n",
       "</div>"
      ],
      "text/plain": [
       "  GRUPO       ROL           EQUIPO        ZONAL       SEGMENTO\n",
       "0   GE1  EJECUTOR  EJ. SEGUIMIENTO  BEL ZONAL 1             S1\n",
       "1   GE1  EJECUTOR  EJ. SEGUIMIENTO  BEL ZONAL 1             S2\n",
       "2   GE1  EJECUTOR  EJ. SEGUIMIENTO  BEL ZONAL 1  MULTISEGMENTO\n",
       "3   GE1  EJECUTOR               EN  BEL ZONAL 1             S1\n",
       "4   GE1  EJECUTOR               EN  BEL ZONAL 1             S2"
      ]
     },
     "execution_count": 10,
     "metadata": {},
     "output_type": "execute_result"
    }
   ],
   "source": [
    "grupo_rol_equipo = pd.read_excel('GRUPO_ROL_EQUIPO.xlsx', engine='openpyxl')\n",
    "grupo_rol_equipo.head()"
   ]
  },
  {
   "cell_type": "code",
   "execution_count": 11,
   "id": "informational-realtor",
   "metadata": {},
   "outputs": [
    {
     "data": {
      "text/plain": [
       "(222, 5)"
      ]
     },
     "execution_count": 11,
     "metadata": {},
     "output_type": "execute_result"
    }
   ],
   "source": [
    "grupo_rol_equipo.shape"
   ]
  },
  {
   "cell_type": "code",
   "execution_count": 12,
   "id": "cathedral-inclusion",
   "metadata": {},
   "outputs": [
    {
     "name": "stdout",
     "output_type": "stream",
     "text": [
      "1\n",
      "Wall time: 30.5 s\n"
     ]
    }
   ],
   "source": [
    "%%time\n",
    "# mssql+pymssql\n",
    "from sqlalchemy import create_engine\n",
    "engine = create_engine(r\"mssql+pymssql://ibetlmarket:m@rk3t2o15@10.11.12.90\\BDT/MARKET\")\n",
    "connection_x = engine.connect()\n",
    "\n",
    "try:\n",
    "    grupo_rol_equipo.to_sql(\n",
    "        name='H_ALERTAS_GRUPO_ROL_EQUIPO',\n",
    "        schema='STG',\n",
    "        con=connection_x, \n",
    "        index=False, \n",
    "        if_exists='replace'\n",
    "    )\n",
    "    connection_x.close()\n",
    "    correct = 1\n",
    "\n",
    "except Exception as e:\n",
    "    print(\"ERROR: \", str(e))\n",
    "    correct = 0\n",
    "\n",
    "print(correct)"
   ]
  },
  {
   "cell_type": "code",
   "execution_count": 13,
   "id": "retired-harbor",
   "metadata": {},
   "outputs": [
    {
     "name": "stdout",
     "output_type": "stream",
     "text": [
      "Inciando actualizacion de tblas ODS\n"
     ]
    }
   ],
   "source": [
    "import pymssql\n",
    "print(\"Inciando actualizacion de tblas ODS\")\n",
    "connection = pymssql.connect(\n",
    "    host='10.11.12.90\\BDT',\n",
    "    user='ibetlmarket',\n",
    "    port=1433,\n",
    "    password='m@rk3t2o15',\n",
    "    database='MARKET'\n",
    ")"
   ]
  },
  {
   "cell_type": "code",
   "execution_count": 14,
   "id": "initial-pierce",
   "metadata": {},
   "outputs": [
    {
     "name": "stdout",
     "output_type": "stream",
     "text": [
      "//////////////////////////////////////////////////\n",
      "Conexion database cerrada\n"
     ]
    }
   ],
   "source": [
    "with connection.cursor() as cursor:\n",
    "    try:\n",
    "        print(\"/\"*50)\n",
    "        alter_text_files = \"\"\"\n",
    "        ALTER TABLE STG.H_ALERTAS_GRUPO_ROL_EQUIPO ALTER COLUMN GRUPO VARCHAR(255);\n",
    "        ALTER TABLE STG.H_ALERTAS_GRUPO_ROL_EQUIPO ALTER COLUMN ROL VARCHAR(255);\n",
    "        ALTER TABLE STG.H_ALERTAS_GRUPO_ROL_EQUIPO ALTER COLUMN EQUIPO VARCHAR(255);\n",
    "        ALTER TABLE STG.H_ALERTAS_GRUPO_ROL_EQUIPO ALTER COLUMN ZONAL VARCHAR(255);\n",
    "        ALTER TABLE STG.H_ALERTAS_GRUPO_ROL_EQUIPO ALTER COLUMN SEGMENTO VARCHAR(255);\n",
    "        \"\"\"\n",
    "        cursor.execute(alter_text_files)\n",
    "    except Exception as e:\n",
    "        print(\"ERROR: \", str(e))\n",
    "        \n",
    "try:\n",
    "    connection.commit()\n",
    "    connection.close()\n",
    "    print(\"Conexion database cerrada\")\n",
    "except Exception as e:\n",
    "    print(\"Error:  \", str(e))"
   ]
  },
  {
   "cell_type": "code",
   "execution_count": null,
   "id": "maritime-korea",
   "metadata": {},
   "outputs": [],
   "source": []
  },
  {
   "cell_type": "markdown",
   "id": "intelligent-cleaners",
   "metadata": {},
   "source": [
    "### COLABORADOR EQUIPO"
   ]
  },
  {
   "cell_type": "code",
   "execution_count": 15,
   "id": "unexpected-newspaper",
   "metadata": {},
   "outputs": [
    {
     "data": {
      "text/html": [
       "<div>\n",
       "<style scoped>\n",
       "    .dataframe tbody tr th:only-of-type {\n",
       "        vertical-align: middle;\n",
       "    }\n",
       "\n",
       "    .dataframe tbody tr th {\n",
       "        vertical-align: top;\n",
       "    }\n",
       "\n",
       "    .dataframe thead th {\n",
       "        text-align: right;\n",
       "    }\n",
       "</style>\n",
       "<table border=\"1\" class=\"dataframe\">\n",
       "  <thead>\n",
       "    <tr style=\"text-align: right;\">\n",
       "      <th></th>\n",
       "      <th>REGISTRO</th>\n",
       "      <th>NOMBRE</th>\n",
       "      <th>PUESTO</th>\n",
       "      <th>EQUIPO</th>\n",
       "      <th>ZONAL</th>\n",
       "      <th>SEGMENTO</th>\n",
       "    </tr>\n",
       "  </thead>\n",
       "  <tbody>\n",
       "    <tr>\n",
       "      <th>0</th>\n",
       "      <td>B32400</td>\n",
       "      <td>MARTIN ALONSO ALMESTAR CISNEROS</td>\n",
       "      <td>EJECUTIVO DE NEGOCIOS BCA. EMPRESA</td>\n",
       "      <td>EN</td>\n",
       "      <td>BEP ZONAL 1</td>\n",
       "      <td>S1</td>\n",
       "    </tr>\n",
       "    <tr>\n",
       "      <th>1</th>\n",
       "      <td>B32747</td>\n",
       "      <td>RAIDY ESTRELLA CADILLO ANGELES</td>\n",
       "      <td>EJECUTIVO DE SEGUIMIENTO COMERCIAL</td>\n",
       "      <td>EJ. SEGUIMIENTO</td>\n",
       "      <td>BEP ZONAL 1</td>\n",
       "      <td>S1</td>\n",
       "    </tr>\n",
       "    <tr>\n",
       "      <th>2</th>\n",
       "      <td>B19832</td>\n",
       "      <td>JAVIER IVAN LUNA VERA</td>\n",
       "      <td>EJECUTIVO DE NEGOCIOS BCA. EMPRESA</td>\n",
       "      <td>EN</td>\n",
       "      <td>BEP ZONAL 1</td>\n",
       "      <td>S1</td>\n",
       "    </tr>\n",
       "    <tr>\n",
       "      <th>3</th>\n",
       "      <td>B18300</td>\n",
       "      <td>CECILIA ALEJANDRA GAMARRA CASTILLO</td>\n",
       "      <td>EJECUTIVO DE NEGOCIOS BCA. EMPRESA</td>\n",
       "      <td>EN</td>\n",
       "      <td>BEP ZONAL 1</td>\n",
       "      <td>S1</td>\n",
       "    </tr>\n",
       "    <tr>\n",
       "      <th>4</th>\n",
       "      <td>B25950</td>\n",
       "      <td>JOSE ANTONIO BELLODAS LECAROS</td>\n",
       "      <td>EJECUTIVO DE NEGOCIOS BCA. EMPRESA</td>\n",
       "      <td>EN</td>\n",
       "      <td>BEP ZONAL 1</td>\n",
       "      <td>S1</td>\n",
       "    </tr>\n",
       "  </tbody>\n",
       "</table>\n",
       "</div>"
      ],
      "text/plain": [
       "  REGISTRO                              NOMBRE  \\\n",
       "0   B32400     MARTIN ALONSO ALMESTAR CISNEROS   \n",
       "1   B32747      RAIDY ESTRELLA CADILLO ANGELES   \n",
       "2   B19832               JAVIER IVAN LUNA VERA   \n",
       "3   B18300  CECILIA ALEJANDRA GAMARRA CASTILLO   \n",
       "4   B25950       JOSE ANTONIO BELLODAS LECAROS   \n",
       "\n",
       "                               PUESTO           EQUIPO        ZONAL SEGMENTO  \n",
       "0  EJECUTIVO DE NEGOCIOS BCA. EMPRESA               EN  BEP ZONAL 1       S1  \n",
       "1  EJECUTIVO DE SEGUIMIENTO COMERCIAL  EJ. SEGUIMIENTO  BEP ZONAL 1       S1  \n",
       "2  EJECUTIVO DE NEGOCIOS BCA. EMPRESA               EN  BEP ZONAL 1       S1  \n",
       "3  EJECUTIVO DE NEGOCIOS BCA. EMPRESA               EN  BEP ZONAL 1       S1  \n",
       "4  EJECUTIVO DE NEGOCIOS BCA. EMPRESA               EN  BEP ZONAL 1       S1  "
      ]
     },
     "execution_count": 15,
     "metadata": {},
     "output_type": "execute_result"
    }
   ],
   "source": [
    "colaborador_equipo = pd.read_excel('COLABORADOR_EQUIPO.xlsx', engine='openpyxl')\n",
    "colaborador_equipo.head()"
   ]
  },
  {
   "cell_type": "code",
   "execution_count": 16,
   "id": "hindu-sandwich",
   "metadata": {},
   "outputs": [
    {
     "data": {
      "text/plain": [
       "(990, 6)"
      ]
     },
     "execution_count": 16,
     "metadata": {},
     "output_type": "execute_result"
    }
   ],
   "source": [
    "colaborador_equipo.shape"
   ]
  },
  {
   "cell_type": "code",
   "execution_count": 17,
   "id": "textile-dispatch",
   "metadata": {},
   "outputs": [
    {
     "name": "stdout",
     "output_type": "stream",
     "text": [
      "1\n",
      "Wall time: 1min 45s\n"
     ]
    }
   ],
   "source": [
    "%%time\n",
    "# mssql+pymssql\n",
    "from sqlalchemy import create_engine\n",
    "engine = create_engine(r\"mssql+pymssql://ibetlmarket:m@rk3t2o15@10.11.12.90\\BDT/MARKET\")\n",
    "connection_x = engine.connect()\n",
    "\n",
    "try:\n",
    "    colaborador_equipo.to_sql(\n",
    "        name='H_ALERTAS_COLABORADOR_EQUIPO',\n",
    "        schema='STG',\n",
    "        con=connection_x, \n",
    "        index=False, \n",
    "        if_exists='replace'\n",
    "    )\n",
    "    connection_x.close()\n",
    "    correct = 1\n",
    "\n",
    "except Exception as e:\n",
    "    print(\"ERROR: \", str(e))\n",
    "    correct = 0\n",
    "\n",
    "print(correct)"
   ]
  },
  {
   "cell_type": "code",
   "execution_count": 18,
   "id": "smart-extension",
   "metadata": {},
   "outputs": [
    {
     "name": "stdout",
     "output_type": "stream",
     "text": [
      "Inciando actualizacion de tblas ODS\n"
     ]
    }
   ],
   "source": [
    "import pymssql\n",
    "print(\"Inciando actualizacion de tblas ODS\")\n",
    "connection = pymssql.connect(\n",
    "    host='10.11.12.90\\BDT',\n",
    "    user='ibetlmarket',\n",
    "    port=1433,\n",
    "    password='m@rk3t2o15',\n",
    "    database='MARKET'\n",
    ")"
   ]
  },
  {
   "cell_type": "code",
   "execution_count": 19,
   "id": "south-hartford",
   "metadata": {},
   "outputs": [
    {
     "name": "stdout",
     "output_type": "stream",
     "text": [
      "//////////////////////////////////////////////////\n",
      "Conexion database cerrada\n"
     ]
    }
   ],
   "source": [
    "with connection.cursor() as cursor:\n",
    "    try:\n",
    "        print(\"/\"*50)\n",
    "        alter_text_files = \"\"\"\n",
    "        ALTER TABLE STG.H_ALERTAS_COLABORADOR_EQUIPO ALTER COLUMN REGISTRO VARCHAR(255);\n",
    "        ALTER TABLE STG.H_ALERTAS_COLABORADOR_EQUIPO ALTER COLUMN NOMBRE VARCHAR(255);\n",
    "        ALTER TABLE STG.H_ALERTAS_COLABORADOR_EQUIPO ALTER COLUMN PUESTO VARCHAR(255);\n",
    "        ALTER TABLE STG.H_ALERTAS_COLABORADOR_EQUIPO ALTER COLUMN EQUIPO VARCHAR(255);\n",
    "        ALTER TABLE STG.H_ALERTAS_COLABORADOR_EQUIPO ALTER COLUMN ZONAL VARCHAR(255);\n",
    "        ALTER TABLE STG.H_ALERTAS_COLABORADOR_EQUIPO ALTER COLUMN SEGMENTO VARCHAR(255);\n",
    "        \"\"\"\n",
    "        cursor.execute(alter_text_files)\n",
    "    except Exception as e:\n",
    "        print(\"ERROR: \", str(e))\n",
    "        \n",
    "try:\n",
    "    connection.commit()\n",
    "    connection.close()\n",
    "    print(\"Conexion database cerrada\")\n",
    "except Exception as e:\n",
    "    print(\"Error:  \", str(e))"
   ]
  },
  {
   "cell_type": "code",
   "execution_count": null,
   "id": "fitting-image",
   "metadata": {},
   "outputs": [],
   "source": [
    "    "
   ]
  },
  {
   "cell_type": "code",
   "execution_count": null,
   "id": "social-martin",
   "metadata": {},
   "outputs": [],
   "source": []
  },
  {
   "cell_type": "code",
   "execution_count": null,
   "id": "flying-russia",
   "metadata": {},
   "outputs": [],
   "source": []
  },
  {
   "cell_type": "code",
   "execution_count": null,
   "id": "b0f493ff-8cd4-4906-bd6e-51d0df755849",
   "metadata": {},
   "outputs": [],
   "source": []
  }
 ],
 "metadata": {
  "kernelspec": {
   "display_name": "Python 3",
   "language": "python",
   "name": "python3"
  },
  "language_info": {
   "codemirror_mode": {
    "name": "ipython",
    "version": 3
   },
   "file_extension": ".py",
   "mimetype": "text/x-python",
   "name": "python",
   "nbconvert_exporter": "python",
   "pygments_lexer": "ipython3",
   "version": "3.8.5"
  }
 },
 "nbformat": 4,
 "nbformat_minor": 5
}
