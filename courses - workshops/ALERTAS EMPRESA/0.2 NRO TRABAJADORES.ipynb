{
 "cells": [
  {
   "cell_type": "code",
   "execution_count": 1,
   "id": "false-framework",
   "metadata": {},
   "outputs": [],
   "source": [
    "## VICTOR DICE:\n",
    "import os\n",
    "import gc\n",
    "import time\n",
    "import requests\n",
    "import subprocess\n",
    "import random as rn\n",
    "from datetime import datetime, timedelta\n",
    "from dateutil.relativedelta import relativedelta\n",
    "\n",
    "import socks\n",
    "import socket\n",
    "import pymssql\n",
    "import numpy as np\n",
    "import pandas as pd\n",
    "\n",
    "SEED = int(time.time() / 1000)\n",
    "os.environ['PYTHONHASHSEED'] = str(SEED)\n",
    "np.random.seed(SEED)\n",
    "rn.seed(SEED)"
   ]
  },
  {
   "cell_type": "markdown",
   "id": "sapphire-judges",
   "metadata": {},
   "source": [
    "### SOLO ES NECESARIO CORRER UNA VEZ"
   ]
  },
  {
   "cell_type": "code",
   "execution_count": 2,
   "id": "compatible-biotechnology",
   "metadata": {},
   "outputs": [],
   "source": [
    "#!pip install socks"
   ]
  },
  {
   "cell_type": "code",
   "execution_count": 3,
   "id": "desirable-barcelona",
   "metadata": {},
   "outputs": [],
   "source": [
    "#!pip install pymssql"
   ]
  },
  {
   "cell_type": "markdown",
   "id": "electrical-february",
   "metadata": {},
   "source": [
    "### OPCIONES"
   ]
  },
  {
   "cell_type": "code",
   "execution_count": 4,
   "id": "ongoing-medicaid",
   "metadata": {},
   "outputs": [],
   "source": [
    "alternativo = 0\n",
    "priorizado = 1"
   ]
  },
  {
   "cell_type": "code",
   "execution_count": 5,
   "id": "cloudy-ballot",
   "metadata": {},
   "outputs": [
    {
     "name": "stdout",
     "output_type": "stream",
     "text": [
      "['BytesIO', 'Callable', 'DEFAULT_PORTS', 'EAGAIN', 'EINVAL', 'EOPNOTSUPP', 'GeneralProxyError', 'HTTP', 'HTTPError', 'PRINTABLE_PROXY_TYPES', 'PROXY_TYPES', 'PROXY_TYPE_HTTP', 'PROXY_TYPE_SOCKS4', 'PROXY_TYPE_SOCKS5', 'ProxyConnectionError', 'ProxyError', 'SEEK_CUR', 'SOCKS4', 'SOCKS4Error', 'SOCKS4_ERRORS', 'SOCKS5', 'SOCKS5AuthError', 'SOCKS5Error', 'SOCKS5_ERRORS', '_BaseSocket', '__builtins__', '__cached__', '__doc__', '__file__', '__loader__', '__name__', '__package__', '__spec__', '__version__', '_makemethod', '_orgsocket', '_orig_socket', 'b64encode', 'create_connection', 'functools', 'get_default_proxy', 'getdefaultproxy', 'log', 'logging', 'method', 'name', 'os', 'set_default_proxy', 'set_self_blocking', 'setdefaultproxy', 'socket', 'socksocket', 'struct', 'sys', 'wrap_module', 'wrapmodule']\n"
     ]
    }
   ],
   "source": [
    "print(dir(socks))"
   ]
  },
  {
   "cell_type": "code",
   "execution_count": 6,
   "id": "consolidated-emphasis",
   "metadata": {},
   "outputs": [
    {
     "name": "stdout",
     "output_type": "stream",
     "text": [
      "None\n"
     ]
    }
   ],
   "source": [
    "print(socks.getdefaultproxy())"
   ]
  },
  {
   "cell_type": "code",
   "execution_count": 7,
   "id": "cellular-shooting",
   "metadata": {},
   "outputs": [
    {
     "data": {
      "text/plain": [
       "'202101'"
      ]
     },
     "execution_count": 7,
     "metadata": {},
     "output_type": "execute_result"
    }
   ],
   "source": [
    "now = datetime.now()\n",
    "\n",
    "desfase_2_meses =  datetime.strptime((now - relativedelta(months=2)).strftime('%Y-%m'), '%Y-%m').strftime('%Y%m')\n",
    "desfase_2_meses"
   ]
  },
  {
   "cell_type": "code",
   "execution_count": 8,
   "id": "medium-condition",
   "metadata": {},
   "outputs": [
    {
     "data": {
      "text/plain": [
       "('tokjtfbj', 'gmwcpnou')"
      ]
     },
     "execution_count": 8,
     "metadata": {},
     "output_type": "execute_result"
    }
   ],
   "source": [
    "letras = \"abcdefghijklmnopqrstuvwyz\"\n",
    "user_aletorio = ''.join([rn.choice(letras) for _ in range(8)])\n",
    "pass_aleatorio = ''.join([rn.choice(letras) for _ in range(8)])\n",
    "\n",
    "user_aletorio, pass_aleatorio"
   ]
  },
  {
   "cell_type": "code",
   "execution_count": 9,
   "id": "aware-youth",
   "metadata": {},
   "outputs": [],
   "source": [
    "users_agents = [\n",
    "    \"Mozilla/5.0 (Windows NT 10.0; Win64; x64) AppleWebKit/537.36 (KHTML, like Gecko) Chrome/88.0.4324.182 Safari/537.36\",\n",
    "    \"Mozilla/5.0 (Windows NT 10.0; Win64; x64) AppleWebKit/537.36 (KHTML, like Gecko) Chrome/84.0.4147.105 Safari/537.36\"\n",
    "    \"Mozilla/5.0 (Windows NT 10.0; Win64; x64; rv:85.0) Gecko/20100101 Firefox/85.0\",\n",
    "    \"Mozilla/5.0 (Windows NT 10.0; Win64; x64) AppleWebKit/537.36 (KHTML, like Gecko) Chrome/88.0.4324.182 Safari/537.36 Edg/88.0.705.74\",\n",
    "    \"Mozilla/5.0 CK={} (Windows NT 6.1; WOW64; Trident/7.0; rv:11.0) like Gecko\",\n",
    "    \"Mozilla/5.0 (Windows NT 10.0; Win64; x64) AppleWebKit/537.36 (KHTML, like Gecko) Chrome/74.0.3729.169 Safari/537.36\",\n",
    "    \"Mozilla/5.0 (Windows NT 10.0; WOW64) AppleWebKit/537.36 (KHTML, like Gecko) Chrome/72.0.3626.121 Safari/537.36\",\n",
    "    \"Mozilla/5.0 (Windows NT 10.0; WOW64; Trident/7.0; rv:11.0) like Gecko\"\n",
    "]\n",
    "\n",
    "url = \"http://api.sunat.binvoice.net/consulta.php\"\n",
    "\n",
    "headers = {\n",
    "     'content-type': \"application/x-www-form-urlencoded\",\n",
    "     'cache-control': \"no-cache\",\n",
    "     'User-Agent': rn.choice(users_agents),\n",
    "     'Referer': \"http://api.sunat.binvoice.net/\",\n",
    "     'Origin': \"api.sunat.binvoice.net\",\n",
    "     'Upgrade-Insecure-Requests': '0'\n",
    "}"
   ]
  },
  {
   "cell_type": "code",
   "execution_count": 1,
   "id": "every-stockholm",
   "metadata": {},
   "outputs": [
    {
     "ename": "ModuleNotFoundError",
     "evalue": "No module named 'asyncdns'",
     "output_type": "error",
     "traceback": [
      "\u001b[1;31m---------------------------------------------------------------------------\u001b[0m",
      "\u001b[1;31mModuleNotFoundError\u001b[0m                       Traceback (most recent call last)",
      "\u001b[1;32m<ipython-input-1-2dff1e84409f>\u001b[0m in \u001b[0;36m<module>\u001b[1;34m\u001b[0m\n\u001b[1;32m----> 1\u001b[1;33m \u001b[1;32mimport\u001b[0m \u001b[0masyncdns\u001b[0m\u001b[1;33m,\u001b[0m \u001b[0masyncio\u001b[0m\u001b[1;33m\u001b[0m\u001b[1;33m\u001b[0m\u001b[0m\n\u001b[0m",
      "\u001b[1;31mModuleNotFoundError\u001b[0m: No module named 'asyncdns'"
     ]
    }
   ],
   "source": [
    "#import asyncdns, asyncio"
   ]
  },
  {
   "cell_type": "code",
   "execution_count": 10,
   "id": "favorite-reach",
   "metadata": {},
   "outputs": [
    {
     "data": {
      "text/plain": [
       "263"
      ]
     },
     "execution_count": 10,
     "metadata": {},
     "output_type": "execute_result"
    }
   ],
   "source": [
    "try:\n",
    "    connection_market.close()\n",
    "except:\n",
    "    pass\n",
    "\n",
    "\n",
    "#conneciom MARKET\n",
    "connection_market = pymssql.connect(host='10.11.12.90\\BDT',\n",
    "                             user='ibetlmarket',\n",
    "                             port=1433,\n",
    "                             password='m@rk3t2o15',\n",
    "                             database='MARKET'\n",
    "                            )\n",
    "time.sleep(1)\n",
    "gc.collect()"
   ]
  },
  {
   "cell_type": "markdown",
   "id": "parallel-minutes",
   "metadata": {},
   "source": [
    "### QUERY COMPLETO > 16 000 CLIENTES"
   ]
  },
  {
   "cell_type": "code",
   "execution_count": 11,
   "id": "drawn-singapore",
   "metadata": {},
   "outputs": [],
   "source": [
    "sql_all_rucs_clientes = \"\"\"\n",
    "    SELECT DISTINCT(NUM_RUC) FROM ODS.HM_VPC_CLIENTE\n",
    "    WHERE 1 = 1\n",
    "    and PERIODO >= '202007'\n",
    "    and NUM_RUC LIKE '20%'\n",
    "    and (\n",
    "        ZONAL in ('BEL ZONAL 1','BEL ZONAL 2','BEL ZONAL 3','BEP ZONAL 1',\n",
    "                  'BEP ZONAL 2','BEP ZONAL 3', 'BC GRUPO 2', 'BC GRUPO 1')\n",
    "        OR\n",
    "        BANCA in ('BE','BEL','BEP', 'BC')\n",
    "    )\n",
    "\"\"\""
   ]
  },
  {
   "cell_type": "markdown",
   "id": "secondary-disorder",
   "metadata": {},
   "source": [
    "### QUERY PRIORIZADO ALERTAS CARTERA  < 3000"
   ]
  },
  {
   "cell_type": "code",
   "execution_count": 12,
   "id": "national-major",
   "metadata": {},
   "outputs": [],
   "source": [
    "sql_priorizado = \"\"\"\n",
    "    SELECT DISTINCT(NUM_RUC)FROM ODS.HD_VMVP_BASE_ALERTA_CARTERA_BE\n",
    "    WHERE 1 = 1\n",
    "    and FUNNEL_ALERTA = 1\n",
    "    and ZONAL IS NOT NULL\n",
    "    and ZONAL != ''\n",
    "    and PERIODO >= '202007'\n",
    "\"\"\""
   ]
  },
  {
   "cell_type": "code",
   "execution_count": 13,
   "id": "magnetic-acoustic",
   "metadata": {},
   "outputs": [
    {
     "name": "stdout",
     "output_type": "stream",
     "text": [
      "(2811, 1)\n"
     ]
    },
    {
     "data": {
      "text/html": [
       "<div>\n",
       "<style scoped>\n",
       "    .dataframe tbody tr th:only-of-type {\n",
       "        vertical-align: middle;\n",
       "    }\n",
       "\n",
       "    .dataframe tbody tr th {\n",
       "        vertical-align: top;\n",
       "    }\n",
       "\n",
       "    .dataframe thead th {\n",
       "        text-align: right;\n",
       "    }\n",
       "</style>\n",
       "<table border=\"1\" class=\"dataframe\">\n",
       "  <thead>\n",
       "    <tr style=\"text-align: right;\">\n",
       "      <th></th>\n",
       "      <th>NUM_RUC</th>\n",
       "    </tr>\n",
       "  </thead>\n",
       "  <tbody>\n",
       "    <tr>\n",
       "      <th>0</th>\n",
       "      <td>20548187266</td>\n",
       "    </tr>\n",
       "    <tr>\n",
       "      <th>1</th>\n",
       "      <td>20505688903</td>\n",
       "    </tr>\n",
       "    <tr>\n",
       "      <th>2</th>\n",
       "      <td>20523552903</td>\n",
       "    </tr>\n",
       "    <tr>\n",
       "      <th>3</th>\n",
       "      <td>20114022838</td>\n",
       "    </tr>\n",
       "    <tr>\n",
       "      <th>4</th>\n",
       "      <td>20393679809</td>\n",
       "    </tr>\n",
       "  </tbody>\n",
       "</table>\n",
       "</div>"
      ],
      "text/plain": [
       "       NUM_RUC\n",
       "0  20548187266\n",
       "1  20505688903\n",
       "2  20523552903\n",
       "3  20114022838\n",
       "4  20393679809"
      ]
     },
     "execution_count": 13,
     "metadata": {},
     "output_type": "execute_result"
    }
   ],
   "source": [
    "rucs = pd.read_sql(\n",
    "   sql_priorizado if priorizado else sql_all_rucs_clientes, connection_market\n",
    ")\n",
    "print(rucs.shape)\n",
    "\n",
    "connection_market.close()\n",
    "rucs.head()"
   ]
  },
  {
   "cell_type": "code",
   "execution_count": 14,
   "id": "adjustable-louis",
   "metadata": {},
   "outputs": [
    {
     "data": {
      "text/plain": [
       "2811"
      ]
     },
     "execution_count": 14,
     "metadata": {},
     "output_type": "execute_result"
    }
   ],
   "source": [
    "rucs = list(rucs['NUM_RUC'].unique())\n",
    "len(rucs)"
   ]
  },
  {
   "cell_type": "code",
   "execution_count": null,
   "id": "available-representation",
   "metadata": {},
   "outputs": [],
   "source": []
  },
  {
   "cell_type": "markdown",
   "id": "noticed-samba",
   "metadata": {},
   "source": [
    "### IDENTIFICACION quienes no registran trabajadores"
   ]
  },
  {
   "cell_type": "code",
   "execution_count": 15,
   "id": "framed-divorce",
   "metadata": {},
   "outputs": [
    {
     "data": {
      "text/html": [
       "<div>\n",
       "<style scoped>\n",
       "    .dataframe tbody tr th:only-of-type {\n",
       "        vertical-align: middle;\n",
       "    }\n",
       "\n",
       "    .dataframe tbody tr th {\n",
       "        vertical-align: top;\n",
       "    }\n",
       "\n",
       "    .dataframe thead th {\n",
       "        text-align: right;\n",
       "    }\n",
       "</style>\n",
       "<table border=\"1\" class=\"dataframe\">\n",
       "  <thead>\n",
       "    <tr style=\"text-align: right;\">\n",
       "      <th></th>\n",
       "      <th>RUC</th>\n",
       "      <th>FECHA</th>\n",
       "    </tr>\n",
       "  </thead>\n",
       "  <tbody>\n",
       "    <tr>\n",
       "      <th>0</th>\n",
       "      <td>20518400542</td>\n",
       "      <td>2021-02-27 09:46:57.752043</td>\n",
       "    </tr>\n",
       "    <tr>\n",
       "      <th>1</th>\n",
       "      <td>20507225382</td>\n",
       "      <td>2021-02-27 09:46:55.335756</td>\n",
       "    </tr>\n",
       "    <tr>\n",
       "      <th>2</th>\n",
       "      <td>20606112867</td>\n",
       "      <td>2021-02-27 09:46:52.875315</td>\n",
       "    </tr>\n",
       "    <tr>\n",
       "      <th>3</th>\n",
       "      <td>10180741696</td>\n",
       "      <td>2021-02-27 09:46:50.111419</td>\n",
       "    </tr>\n",
       "    <tr>\n",
       "      <th>4</th>\n",
       "      <td>20545048613</td>\n",
       "      <td>2021-02-27 09:46:47.650677</td>\n",
       "    </tr>\n",
       "  </tbody>\n",
       "</table>\n",
       "</div>"
      ],
      "text/plain": [
       "           RUC                      FECHA\n",
       "0  20518400542 2021-02-27 09:46:57.752043\n",
       "1  20507225382 2021-02-27 09:46:55.335756\n",
       "2  20606112867 2021-02-27 09:46:52.875315\n",
       "3  10180741696 2021-02-27 09:46:50.111419\n",
       "4  20545048613 2021-02-27 09:46:47.650677"
      ]
     },
     "execution_count": 15,
     "metadata": {},
     "output_type": "execute_result"
    }
   ],
   "source": [
    "csv_not = 'not_workers.csv'\n",
    "not_workers = pd.read_csv(csv_not, dtype={'RUC': str}, parse_dates=['FECHA']).sort_values(\n",
    "    by=['FECHA'], ascending=False).drop_duplicates(subset=['RUC'], keep='first')\n",
    "\n",
    "### Vuelve a revisar los detectados hace 2 meses\n",
    "not_workers = not_workers[\n",
    "    not_workers['FECHA'] > now - relativedelta(months=2)\n",
    "]\n",
    "\n",
    "not_workers.to_csv(csv_not, index=False)\n",
    "not_workers = pd.read_csv(csv_not, dtype={'RUC': str}, parse_dates=['FECHA'])\n",
    "not_workers.head()"
   ]
  },
  {
   "cell_type": "code",
   "execution_count": 16,
   "id": "initial-faculty",
   "metadata": {},
   "outputs": [
    {
     "data": {
      "text/plain": [
       "RUC              object\n",
       "FECHA    datetime64[ns]\n",
       "dtype: object"
      ]
     },
     "execution_count": 16,
     "metadata": {},
     "output_type": "execute_result"
    }
   ],
   "source": [
    "not_workers.dtypes"
   ]
  },
  {
   "cell_type": "code",
   "execution_count": 17,
   "id": "communist-jurisdiction",
   "metadata": {},
   "outputs": [
    {
     "data": {
      "text/plain": [
       "61"
      ]
     },
     "execution_count": 17,
     "metadata": {},
     "output_type": "execute_result"
    }
   ],
   "source": [
    "list_not = list(not_workers['RUC'].unique())\n",
    "len(list_not)"
   ]
  },
  {
   "cell_type": "markdown",
   "id": "animal-stevens",
   "metadata": {},
   "source": [
    "### AUTO limpiado de duplicados"
   ]
  },
  {
   "cell_type": "code",
   "execution_count": 18,
   "id": "sexual-chosen",
   "metadata": {},
   "outputs": [
    {
     "name": "stdout",
     "output_type": "stream",
     "text": [
      "(98684, 9)\n",
      "(98684, 9)\n"
     ]
    }
   ],
   "source": [
    "csv_name = \"cantidad_trabajadores.csv\"\n",
    "cant_trab = pd.read_csv(csv_name, dtype={'RUC': str, 'PERIODO': str})\n",
    "print(cant_trab.shape)\n",
    "\n",
    "cant_trab = cant_trab.drop_duplicates(subset=['PERIODO', 'RUC'], keep='last')\n",
    "cant_trab.to_csv(csv_name, index=False)\n",
    "print(cant_trab.shape)"
   ]
  },
  {
   "cell_type": "markdown",
   "id": "sonic-wholesale",
   "metadata": {},
   "source": [
    "### DETETCCIÓN de clientes a buscar actualización"
   ]
  },
  {
   "cell_type": "code",
   "execution_count": 51,
   "id": "undefined-feedback",
   "metadata": {},
   "outputs": [
    {
     "name": "stdout",
     "output_type": "stream",
     "text": [
      "(98684, 9)\n"
     ]
    },
    {
     "data": {
      "text/html": [
       "<div>\n",
       "<style scoped>\n",
       "    .dataframe tbody tr th:only-of-type {\n",
       "        vertical-align: middle;\n",
       "    }\n",
       "\n",
       "    .dataframe tbody tr th {\n",
       "        vertical-align: top;\n",
       "    }\n",
       "\n",
       "    .dataframe thead th {\n",
       "        text-align: right;\n",
       "    }\n",
       "</style>\n",
       "<table border=\"1\" class=\"dataframe\">\n",
       "  <thead>\n",
       "    <tr style=\"text-align: right;\">\n",
       "      <th></th>\n",
       "      <th>PERIODO</th>\n",
       "      <th>ANIO</th>\n",
       "      <th>MES</th>\n",
       "      <th>TOTAL_TRABAJADORES</th>\n",
       "      <th>PENSIONISTA</th>\n",
       "      <th>PRESTADOR_SERVICIO</th>\n",
       "      <th>RUC</th>\n",
       "      <th>COMBINACION</th>\n",
       "      <th>ESTADO</th>\n",
       "    </tr>\n",
       "  </thead>\n",
       "  <tbody>\n",
       "    <tr>\n",
       "      <th>0</th>\n",
       "      <td>202001</td>\n",
       "      <td>2020</td>\n",
       "      <td>1</td>\n",
       "      <td>172</td>\n",
       "      <td>0</td>\n",
       "      <td>24</td>\n",
       "      <td>20530611681</td>\n",
       "      <td>202001__20530611681</td>\n",
       "      <td>NaN</td>\n",
       "    </tr>\n",
       "    <tr>\n",
       "      <th>1</th>\n",
       "      <td>202002</td>\n",
       "      <td>2020</td>\n",
       "      <td>2</td>\n",
       "      <td>174</td>\n",
       "      <td>0</td>\n",
       "      <td>22</td>\n",
       "      <td>20530611681</td>\n",
       "      <td>202002__20530611681</td>\n",
       "      <td>NaN</td>\n",
       "    </tr>\n",
       "    <tr>\n",
       "      <th>2</th>\n",
       "      <td>202003</td>\n",
       "      <td>2020</td>\n",
       "      <td>3</td>\n",
       "      <td>154</td>\n",
       "      <td>0</td>\n",
       "      <td>25</td>\n",
       "      <td>20530611681</td>\n",
       "      <td>202003__20530611681</td>\n",
       "      <td>NaN</td>\n",
       "    </tr>\n",
       "    <tr>\n",
       "      <th>3</th>\n",
       "      <td>202004</td>\n",
       "      <td>2020</td>\n",
       "      <td>4</td>\n",
       "      <td>149</td>\n",
       "      <td>0</td>\n",
       "      <td>15</td>\n",
       "      <td>20530611681</td>\n",
       "      <td>202004__20530611681</td>\n",
       "      <td>NaN</td>\n",
       "    </tr>\n",
       "    <tr>\n",
       "      <th>4</th>\n",
       "      <td>202005</td>\n",
       "      <td>2020</td>\n",
       "      <td>5</td>\n",
       "      <td>146</td>\n",
       "      <td>0</td>\n",
       "      <td>19</td>\n",
       "      <td>20530611681</td>\n",
       "      <td>202005__20530611681</td>\n",
       "      <td>NaN</td>\n",
       "    </tr>\n",
       "  </tbody>\n",
       "</table>\n",
       "</div>"
      ],
      "text/plain": [
       "  PERIODO  ANIO  MES TOTAL_TRABAJADORES PENSIONISTA PRESTADOR_SERVICIO  \\\n",
       "0  202001  2020    1                172           0                 24   \n",
       "1  202002  2020    2                174           0                 22   \n",
       "2  202003  2020    3                154           0                 25   \n",
       "3  202004  2020    4                149           0                 15   \n",
       "4  202005  2020    5                146           0                 19   \n",
       "\n",
       "           RUC          COMBINACION   ESTADO  \n",
       "0  20530611681  202001__20530611681      NaN  \n",
       "1  20530611681  202002__20530611681      NaN  \n",
       "2  20530611681  202003__20530611681      NaN  \n",
       "3  20530611681  202004__20530611681      NaN  \n",
       "4  20530611681  202005__20530611681      NaN  "
      ]
     },
     "execution_count": 51,
     "metadata": {},
     "output_type": "execute_result"
    }
   ],
   "source": [
    "cant_trab = pd.read_csv(csv_name, dtype={'RUC': str, 'PERIODO': str, 'ESTADO': str})\n",
    "print(cant_trab.shape)\n",
    "cant_trab.head()"
   ]
  },
  {
   "cell_type": "code",
   "execution_count": 52,
   "id": "ruled-armor",
   "metadata": {},
   "outputs": [
    {
     "data": {
      "text/plain": [
       "PERIODO                object\n",
       "ANIO                    int64\n",
       "MES                     int64\n",
       "TOTAL_TRABAJADORES     object\n",
       "PENSIONISTA            object\n",
       "PRESTADOR_SERVICIO     object\n",
       "RUC                    object\n",
       "COMBINACION            object\n",
       " ESTADO               float64\n",
       "dtype: object"
      ]
     },
     "execution_count": 52,
     "metadata": {},
     "output_type": "execute_result"
    }
   ],
   "source": [
    "cant_trab.dtypes"
   ]
  },
  {
   "cell_type": "code",
   "execution_count": 53,
   "id": "collected-immigration",
   "metadata": {},
   "outputs": [
    {
     "data": {
      "text/plain": [
       "202004    7731\n",
       "202008    7731\n",
       "202002    7731\n",
       "202005    7731\n",
       "202009    7731\n",
       "202011    7731\n",
       "202007    7731\n",
       "202003    7731\n",
       "202012    7731\n",
       "202006    7731\n",
       "202001    7731\n",
       "202010    7731\n",
       "201912    2056\n",
       "201911    1939\n",
       "201910    1916\n",
       "202101       1\n",
       "Name: PERIODO, dtype: int64"
      ]
     },
     "execution_count": 53,
     "metadata": {},
     "output_type": "execute_result"
    }
   ],
   "source": [
    "cant_trab['PERIODO'].value_counts(dropna=False)"
   ]
  },
  {
   "cell_type": "code",
   "execution_count": 54,
   "id": "constant-product",
   "metadata": {},
   "outputs": [
    {
     "data": {
      "text/plain": [
       "55"
      ]
     },
     "execution_count": 54,
     "metadata": {},
     "output_type": "execute_result"
    }
   ],
   "source": [
    "clientes_nuevos = set(rucs) - set(cant_trab['RUC'])\n",
    "len(clientes_nuevos)"
   ]
  },
  {
   "cell_type": "code",
   "execution_count": 55,
   "id": "northern-master",
   "metadata": {},
   "outputs": [
    {
     "data": {
      "text/plain": [
       "7730"
      ]
     },
     "execution_count": 55,
     "metadata": {},
     "output_type": "execute_result"
    }
   ],
   "source": [
    "clientes_a_actualizar = set(cant_trab['RUC']) - set(cant_trab[cant_trab['PERIODO'] == desfase_2_meses]['RUC'])\n",
    "len(clientes_a_actualizar)"
   ]
  },
  {
   "cell_type": "code",
   "execution_count": 56,
   "id": "proprietary-actor",
   "metadata": {},
   "outputs": [
    {
     "data": {
      "text/plain": [
       "7733"
      ]
     },
     "execution_count": 56,
     "metadata": {},
     "output_type": "execute_result"
    }
   ],
   "source": [
    "sep = '__'\n",
    "clientes_update = list(\n",
    "    (clientes_nuevos | clientes_a_actualizar) - set(list_not)\n",
    ")\n",
    "del clientes_nuevos\n",
    "del clientes_a_actualizar\n",
    "\n",
    "len(clientes_update)"
   ]
  },
  {
   "cell_type": "code",
   "execution_count": 57,
   "id": "standard-console",
   "metadata": {},
   "outputs": [],
   "source": [
    "rucs_periodo_existentes = list(cant_trab['COMBINACION'].unique())\n",
    "del cant_trab\n",
    "\n",
    "#len(rucs_periodo_existentes)"
   ]
  },
  {
   "cell_type": "code",
   "execution_count": 58,
   "id": "reasonable-fundamentals",
   "metadata": {},
   "outputs": [
    {
     "data": {
      "text/plain": [
       "66"
      ]
     },
     "execution_count": 58,
     "metadata": {},
     "output_type": "execute_result"
    }
   ],
   "source": [
    "gc.collect()"
   ]
  },
  {
   "cell_type": "code",
   "execution_count": 59,
   "id": "necessary-mathematics",
   "metadata": {},
   "outputs": [],
   "source": [
    "rn.shuffle(clientes_update)\n",
    "\n",
    "if alternativo:\n",
    "    print(\"OPEN\")\n",
    "    sproc = subprocess.Popen(\"C:\\\\Users\\\\Villacorta\\\\Desktop\\\\Tor Browser\\\\Browser\\\\firefox.exe\")"
   ]
  },
  {
   "cell_type": "code",
   "execution_count": null,
   "id": "treated-rebecca",
   "metadata": {},
   "outputs": [],
   "source": []
  },
  {
   "cell_type": "code",
   "execution_count": null,
   "id": "controversial-teach",
   "metadata": {},
   "outputs": [],
   "source": []
  },
  {
   "cell_type": "code",
   "execution_count": 60,
   "id": "grateful-permit",
   "metadata": {},
   "outputs": [],
   "source": [
    "agents_tor = [\n",
    "    'Mozilla/5.0 (Windows NT 10.0; rv:78.0) Gecko/20100101 Firefox/78.0'\n",
    "]\n",
    "\n",
    "headers_tor = {\n",
    "    'content-type': \"application/x-www-form-urlencoded\",\n",
    "    'User-Agent': rn.choice(agents_tor),\n",
    "}\n",
    "\n",
    "def get_response(ruc):\n",
    "    user_aletorio = ''.join([rn.choice(letras) for _ in range(8)])\n",
    "    pass_aleatorio = ''.join([rn.choice(letras) for _ in range(8)])\n",
    "    \n",
    "    socks.set_default_proxy(socks.SOCKS5, \"127.0.0.1\", 9150, True, user_aletorio, pass_aleatorio)\n",
    "    socket.socket = socks.socksocket\n",
    "    \n",
    "    headers_tor.update(\n",
    "        {\n",
    "            'User-Agent': rn.choice(agents_tor),\n",
    "            'X-Forwarded-For': requests.get('http://ifconfig.me/ip').text\n",
    "        }\n",
    "    )\n",
    "    #print()\n",
    "    \n",
    "    print(headers_tor)\n",
    "    response = requests.request(\"POST\", url, data=\"nruc={}\".format(ruc), headers=headers_tor)\n",
    "    #print(response)\n",
    "    return response"
   ]
  },
  {
   "cell_type": "code",
   "execution_count": 61,
   "id": "lesbian-narrative",
   "metadata": {},
   "outputs": [],
   "source": [
    "def get_response_simple(ruc):\n",
    "    headers.update(\n",
    "        {'User-Agent': rn.choice(users_agents)}\n",
    "    )\n",
    "    response = requests.request(\"POST\", url, data=\"nruc={}\".format(ruc), headers=headers)\n",
    "    #print(response)\n",
    "    return response"
   ]
  },
  {
   "cell_type": "code",
   "execution_count": 44,
   "id": "departmental-apparatus",
   "metadata": {},
   "outputs": [
    {
     "name": "stdout",
     "output_type": "stream",
     "text": [
      "ACTIVO\n",
      "20600946090  nt ACTIVO\n",
      "20307150981  nt ACTIVO\n",
      "20116447321  nt ACTIVO\n",
      "20265681299  nt ACTIVO\n",
      "20450688542  nt ACTIVO\n",
      "20601625769  nt ACTIVO\n",
      "20101266819  nt ACTIVO\n",
      "20513139846  nt "
     ]
    },
    {
     "ename": "KeyboardInterrupt",
     "evalue": "",
     "output_type": "error",
     "traceback": [
      "\u001b[1;31m---------------------------------------------------------------------------\u001b[0m",
      "\u001b[1;31mKeyboardInterrupt\u001b[0m                         Traceback (most recent call last)",
      "\u001b[1;32m<ipython-input-44-25ab89a7011f>\u001b[0m in \u001b[0;36m<module>\u001b[1;34m\u001b[0m\n\u001b[0;32m      1\u001b[0m \u001b[1;32mfor\u001b[0m \u001b[0mruc\u001b[0m \u001b[1;32min\u001b[0m \u001b[0mclientes_update\u001b[0m\u001b[1;33m:\u001b[0m\u001b[1;33m\u001b[0m\u001b[1;33m\u001b[0m\u001b[0m\n\u001b[1;32m----> 2\u001b[1;33m     \u001b[0mresponse\u001b[0m \u001b[1;33m=\u001b[0m \u001b[0mget_response\u001b[0m\u001b[1;33m(\u001b[0m\u001b[0mruc\u001b[0m\u001b[1;33m)\u001b[0m \u001b[1;32mif\u001b[0m \u001b[0malternativo\u001b[0m \u001b[1;32melse\u001b[0m  \u001b[0mget_response_simple\u001b[0m\u001b[1;33m(\u001b[0m\u001b[0mruc\u001b[0m\u001b[1;33m)\u001b[0m\u001b[1;33m\u001b[0m\u001b[1;33m\u001b[0m\u001b[0m\n\u001b[0m\u001b[0;32m      3\u001b[0m     \u001b[1;32mtry\u001b[0m\u001b[1;33m:\u001b[0m\u001b[1;33m\u001b[0m\u001b[1;33m\u001b[0m\u001b[0m\n\u001b[0;32m      4\u001b[0m         \u001b[0mdata\u001b[0m \u001b[1;33m=\u001b[0m \u001b[0mresponse\u001b[0m\u001b[1;33m.\u001b[0m\u001b[0mjson\u001b[0m\u001b[1;33m(\u001b[0m\u001b[1;33m)\u001b[0m\u001b[1;33m\u001b[0m\u001b[1;33m\u001b[0m\u001b[0m\n\u001b[0;32m      5\u001b[0m     \u001b[1;32mexcept\u001b[0m\u001b[1;33m:\u001b[0m\u001b[1;33m\u001b[0m\u001b[1;33m\u001b[0m\u001b[0m\n",
      "\u001b[1;32m<ipython-input-43-27b7eebb2724>\u001b[0m in \u001b[0;36mget_response_simple\u001b[1;34m(ruc)\u001b[0m\n\u001b[0;32m      3\u001b[0m         \u001b[1;33m{\u001b[0m\u001b[1;34m'User-Agent'\u001b[0m\u001b[1;33m:\u001b[0m \u001b[0mrn\u001b[0m\u001b[1;33m.\u001b[0m\u001b[0mchoice\u001b[0m\u001b[1;33m(\u001b[0m\u001b[0musers_agents\u001b[0m\u001b[1;33m)\u001b[0m\u001b[1;33m}\u001b[0m\u001b[1;33m\u001b[0m\u001b[1;33m\u001b[0m\u001b[0m\n\u001b[0;32m      4\u001b[0m     )\n\u001b[1;32m----> 5\u001b[1;33m     \u001b[0mresponse\u001b[0m \u001b[1;33m=\u001b[0m \u001b[0mrequests\u001b[0m\u001b[1;33m.\u001b[0m\u001b[0mrequest\u001b[0m\u001b[1;33m(\u001b[0m\u001b[1;34m\"POST\"\u001b[0m\u001b[1;33m,\u001b[0m \u001b[0murl\u001b[0m\u001b[1;33m,\u001b[0m \u001b[0mdata\u001b[0m\u001b[1;33m=\u001b[0m\u001b[1;34m\"nruc={}\"\u001b[0m\u001b[1;33m.\u001b[0m\u001b[0mformat\u001b[0m\u001b[1;33m(\u001b[0m\u001b[0mruc\u001b[0m\u001b[1;33m)\u001b[0m\u001b[1;33m,\u001b[0m \u001b[0mheaders\u001b[0m\u001b[1;33m=\u001b[0m\u001b[0mheaders\u001b[0m\u001b[1;33m)\u001b[0m\u001b[1;33m\u001b[0m\u001b[1;33m\u001b[0m\u001b[0m\n\u001b[0m\u001b[0;32m      6\u001b[0m     \u001b[1;31m#print(response)\u001b[0m\u001b[1;33m\u001b[0m\u001b[1;33m\u001b[0m\u001b[1;33m\u001b[0m\u001b[0m\n\u001b[0;32m      7\u001b[0m     \u001b[1;32mreturn\u001b[0m \u001b[0mresponse\u001b[0m\u001b[1;33m\u001b[0m\u001b[1;33m\u001b[0m\u001b[0m\n",
      "\u001b[1;32mC:\\ProgramData\\Anaconda3\\lib\\site-packages\\requests\\api.py\u001b[0m in \u001b[0;36mrequest\u001b[1;34m(method, url, **kwargs)\u001b[0m\n\u001b[0;32m     59\u001b[0m     \u001b[1;31m# cases, and look like a memory leak in others.\u001b[0m\u001b[1;33m\u001b[0m\u001b[1;33m\u001b[0m\u001b[1;33m\u001b[0m\u001b[0m\n\u001b[0;32m     60\u001b[0m     \u001b[1;32mwith\u001b[0m \u001b[0msessions\u001b[0m\u001b[1;33m.\u001b[0m\u001b[0mSession\u001b[0m\u001b[1;33m(\u001b[0m\u001b[1;33m)\u001b[0m \u001b[1;32mas\u001b[0m \u001b[0msession\u001b[0m\u001b[1;33m:\u001b[0m\u001b[1;33m\u001b[0m\u001b[1;33m\u001b[0m\u001b[0m\n\u001b[1;32m---> 61\u001b[1;33m         \u001b[1;32mreturn\u001b[0m \u001b[0msession\u001b[0m\u001b[1;33m.\u001b[0m\u001b[0mrequest\u001b[0m\u001b[1;33m(\u001b[0m\u001b[0mmethod\u001b[0m\u001b[1;33m=\u001b[0m\u001b[0mmethod\u001b[0m\u001b[1;33m,\u001b[0m \u001b[0murl\u001b[0m\u001b[1;33m=\u001b[0m\u001b[0murl\u001b[0m\u001b[1;33m,\u001b[0m \u001b[1;33m**\u001b[0m\u001b[0mkwargs\u001b[0m\u001b[1;33m)\u001b[0m\u001b[1;33m\u001b[0m\u001b[1;33m\u001b[0m\u001b[0m\n\u001b[0m\u001b[0;32m     62\u001b[0m \u001b[1;33m\u001b[0m\u001b[0m\n\u001b[0;32m     63\u001b[0m \u001b[1;33m\u001b[0m\u001b[0m\n",
      "\u001b[1;32mC:\\ProgramData\\Anaconda3\\lib\\site-packages\\requests\\sessions.py\u001b[0m in \u001b[0;36mrequest\u001b[1;34m(self, method, url, params, data, headers, cookies, files, auth, timeout, allow_redirects, proxies, hooks, stream, verify, cert, json)\u001b[0m\n\u001b[0;32m    540\u001b[0m         }\n\u001b[0;32m    541\u001b[0m         \u001b[0msend_kwargs\u001b[0m\u001b[1;33m.\u001b[0m\u001b[0mupdate\u001b[0m\u001b[1;33m(\u001b[0m\u001b[0msettings\u001b[0m\u001b[1;33m)\u001b[0m\u001b[1;33m\u001b[0m\u001b[1;33m\u001b[0m\u001b[0m\n\u001b[1;32m--> 542\u001b[1;33m         \u001b[0mresp\u001b[0m \u001b[1;33m=\u001b[0m \u001b[0mself\u001b[0m\u001b[1;33m.\u001b[0m\u001b[0msend\u001b[0m\u001b[1;33m(\u001b[0m\u001b[0mprep\u001b[0m\u001b[1;33m,\u001b[0m \u001b[1;33m**\u001b[0m\u001b[0msend_kwargs\u001b[0m\u001b[1;33m)\u001b[0m\u001b[1;33m\u001b[0m\u001b[1;33m\u001b[0m\u001b[0m\n\u001b[0m\u001b[0;32m    543\u001b[0m \u001b[1;33m\u001b[0m\u001b[0m\n\u001b[0;32m    544\u001b[0m         \u001b[1;32mreturn\u001b[0m \u001b[0mresp\u001b[0m\u001b[1;33m\u001b[0m\u001b[1;33m\u001b[0m\u001b[0m\n",
      "\u001b[1;32mC:\\ProgramData\\Anaconda3\\lib\\site-packages\\requests\\sessions.py\u001b[0m in \u001b[0;36msend\u001b[1;34m(self, request, **kwargs)\u001b[0m\n\u001b[0;32m    653\u001b[0m \u001b[1;33m\u001b[0m\u001b[0m\n\u001b[0;32m    654\u001b[0m         \u001b[1;31m# Send the request\u001b[0m\u001b[1;33m\u001b[0m\u001b[1;33m\u001b[0m\u001b[1;33m\u001b[0m\u001b[0m\n\u001b[1;32m--> 655\u001b[1;33m         \u001b[0mr\u001b[0m \u001b[1;33m=\u001b[0m \u001b[0madapter\u001b[0m\u001b[1;33m.\u001b[0m\u001b[0msend\u001b[0m\u001b[1;33m(\u001b[0m\u001b[0mrequest\u001b[0m\u001b[1;33m,\u001b[0m \u001b[1;33m**\u001b[0m\u001b[0mkwargs\u001b[0m\u001b[1;33m)\u001b[0m\u001b[1;33m\u001b[0m\u001b[1;33m\u001b[0m\u001b[0m\n\u001b[0m\u001b[0;32m    656\u001b[0m \u001b[1;33m\u001b[0m\u001b[0m\n\u001b[0;32m    657\u001b[0m         \u001b[1;31m# Total elapsed time of the request (approximately)\u001b[0m\u001b[1;33m\u001b[0m\u001b[1;33m\u001b[0m\u001b[1;33m\u001b[0m\u001b[0m\n",
      "\u001b[1;32mC:\\ProgramData\\Anaconda3\\lib\\site-packages\\requests\\adapters.py\u001b[0m in \u001b[0;36msend\u001b[1;34m(self, request, stream, timeout, verify, cert, proxies)\u001b[0m\n\u001b[0;32m    437\u001b[0m         \u001b[1;32mtry\u001b[0m\u001b[1;33m:\u001b[0m\u001b[1;33m\u001b[0m\u001b[1;33m\u001b[0m\u001b[0m\n\u001b[0;32m    438\u001b[0m             \u001b[1;32mif\u001b[0m \u001b[1;32mnot\u001b[0m \u001b[0mchunked\u001b[0m\u001b[1;33m:\u001b[0m\u001b[1;33m\u001b[0m\u001b[1;33m\u001b[0m\u001b[0m\n\u001b[1;32m--> 439\u001b[1;33m                 resp = conn.urlopen(\n\u001b[0m\u001b[0;32m    440\u001b[0m                     \u001b[0mmethod\u001b[0m\u001b[1;33m=\u001b[0m\u001b[0mrequest\u001b[0m\u001b[1;33m.\u001b[0m\u001b[0mmethod\u001b[0m\u001b[1;33m,\u001b[0m\u001b[1;33m\u001b[0m\u001b[1;33m\u001b[0m\u001b[0m\n\u001b[0;32m    441\u001b[0m                     \u001b[0murl\u001b[0m\u001b[1;33m=\u001b[0m\u001b[0murl\u001b[0m\u001b[1;33m,\u001b[0m\u001b[1;33m\u001b[0m\u001b[1;33m\u001b[0m\u001b[0m\n",
      "\u001b[1;32mC:\\ProgramData\\Anaconda3\\lib\\site-packages\\urllib3\\connectionpool.py\u001b[0m in \u001b[0;36murlopen\u001b[1;34m(self, method, url, body, headers, retries, redirect, assert_same_host, timeout, pool_timeout, release_conn, chunked, body_pos, **response_kw)\u001b[0m\n\u001b[0;32m    697\u001b[0m \u001b[1;33m\u001b[0m\u001b[0m\n\u001b[0;32m    698\u001b[0m             \u001b[1;31m# Make the request on the httplib connection object.\u001b[0m\u001b[1;33m\u001b[0m\u001b[1;33m\u001b[0m\u001b[1;33m\u001b[0m\u001b[0m\n\u001b[1;32m--> 699\u001b[1;33m             httplib_response = self._make_request(\n\u001b[0m\u001b[0;32m    700\u001b[0m                 \u001b[0mconn\u001b[0m\u001b[1;33m,\u001b[0m\u001b[1;33m\u001b[0m\u001b[1;33m\u001b[0m\u001b[0m\n\u001b[0;32m    701\u001b[0m                 \u001b[0mmethod\u001b[0m\u001b[1;33m,\u001b[0m\u001b[1;33m\u001b[0m\u001b[1;33m\u001b[0m\u001b[0m\n",
      "\u001b[1;32mC:\\ProgramData\\Anaconda3\\lib\\site-packages\\urllib3\\connectionpool.py\u001b[0m in \u001b[0;36m_make_request\u001b[1;34m(self, conn, method, url, timeout, chunked, **httplib_request_kw)\u001b[0m\n\u001b[0;32m    443\u001b[0m                     \u001b[1;31m# Python 3 (including for exceptions like SystemExit).\u001b[0m\u001b[1;33m\u001b[0m\u001b[1;33m\u001b[0m\u001b[1;33m\u001b[0m\u001b[0m\n\u001b[0;32m    444\u001b[0m                     \u001b[1;31m# Otherwise it looks like a bug in the code.\u001b[0m\u001b[1;33m\u001b[0m\u001b[1;33m\u001b[0m\u001b[1;33m\u001b[0m\u001b[0m\n\u001b[1;32m--> 445\u001b[1;33m                     \u001b[0msix\u001b[0m\u001b[1;33m.\u001b[0m\u001b[0mraise_from\u001b[0m\u001b[1;33m(\u001b[0m\u001b[0me\u001b[0m\u001b[1;33m,\u001b[0m \u001b[1;32mNone\u001b[0m\u001b[1;33m)\u001b[0m\u001b[1;33m\u001b[0m\u001b[1;33m\u001b[0m\u001b[0m\n\u001b[0m\u001b[0;32m    446\u001b[0m         \u001b[1;32mexcept\u001b[0m \u001b[1;33m(\u001b[0m\u001b[0mSocketTimeout\u001b[0m\u001b[1;33m,\u001b[0m \u001b[0mBaseSSLError\u001b[0m\u001b[1;33m,\u001b[0m \u001b[0mSocketError\u001b[0m\u001b[1;33m)\u001b[0m \u001b[1;32mas\u001b[0m \u001b[0me\u001b[0m\u001b[1;33m:\u001b[0m\u001b[1;33m\u001b[0m\u001b[1;33m\u001b[0m\u001b[0m\n\u001b[0;32m    447\u001b[0m             \u001b[0mself\u001b[0m\u001b[1;33m.\u001b[0m\u001b[0m_raise_timeout\u001b[0m\u001b[1;33m(\u001b[0m\u001b[0merr\u001b[0m\u001b[1;33m=\u001b[0m\u001b[0me\u001b[0m\u001b[1;33m,\u001b[0m \u001b[0murl\u001b[0m\u001b[1;33m=\u001b[0m\u001b[0murl\u001b[0m\u001b[1;33m,\u001b[0m \u001b[0mtimeout_value\u001b[0m\u001b[1;33m=\u001b[0m\u001b[0mread_timeout\u001b[0m\u001b[1;33m)\u001b[0m\u001b[1;33m\u001b[0m\u001b[1;33m\u001b[0m\u001b[0m\n",
      "\u001b[1;32mC:\\ProgramData\\Anaconda3\\lib\\site-packages\\urllib3\\packages\\six.py\u001b[0m in \u001b[0;36mraise_from\u001b[1;34m(value, from_value)\u001b[0m\n",
      "\u001b[1;32mC:\\ProgramData\\Anaconda3\\lib\\site-packages\\urllib3\\connectionpool.py\u001b[0m in \u001b[0;36m_make_request\u001b[1;34m(self, conn, method, url, timeout, chunked, **httplib_request_kw)\u001b[0m\n\u001b[0;32m    438\u001b[0m                 \u001b[1;31m# Python 3\u001b[0m\u001b[1;33m\u001b[0m\u001b[1;33m\u001b[0m\u001b[1;33m\u001b[0m\u001b[0m\n\u001b[0;32m    439\u001b[0m                 \u001b[1;32mtry\u001b[0m\u001b[1;33m:\u001b[0m\u001b[1;33m\u001b[0m\u001b[1;33m\u001b[0m\u001b[0m\n\u001b[1;32m--> 440\u001b[1;33m                     \u001b[0mhttplib_response\u001b[0m \u001b[1;33m=\u001b[0m \u001b[0mconn\u001b[0m\u001b[1;33m.\u001b[0m\u001b[0mgetresponse\u001b[0m\u001b[1;33m(\u001b[0m\u001b[1;33m)\u001b[0m\u001b[1;33m\u001b[0m\u001b[1;33m\u001b[0m\u001b[0m\n\u001b[0m\u001b[0;32m    441\u001b[0m                 \u001b[1;32mexcept\u001b[0m \u001b[0mBaseException\u001b[0m \u001b[1;32mas\u001b[0m \u001b[0me\u001b[0m\u001b[1;33m:\u001b[0m\u001b[1;33m\u001b[0m\u001b[1;33m\u001b[0m\u001b[0m\n\u001b[0;32m    442\u001b[0m                     \u001b[1;31m# Remove the TypeError from the exception chain in\u001b[0m\u001b[1;33m\u001b[0m\u001b[1;33m\u001b[0m\u001b[1;33m\u001b[0m\u001b[0m\n",
      "\u001b[1;32mC:\\ProgramData\\Anaconda3\\lib\\http\\client.py\u001b[0m in \u001b[0;36mgetresponse\u001b[1;34m(self)\u001b[0m\n\u001b[0;32m   1345\u001b[0m         \u001b[1;32mtry\u001b[0m\u001b[1;33m:\u001b[0m\u001b[1;33m\u001b[0m\u001b[1;33m\u001b[0m\u001b[0m\n\u001b[0;32m   1346\u001b[0m             \u001b[1;32mtry\u001b[0m\u001b[1;33m:\u001b[0m\u001b[1;33m\u001b[0m\u001b[1;33m\u001b[0m\u001b[0m\n\u001b[1;32m-> 1347\u001b[1;33m                 \u001b[0mresponse\u001b[0m\u001b[1;33m.\u001b[0m\u001b[0mbegin\u001b[0m\u001b[1;33m(\u001b[0m\u001b[1;33m)\u001b[0m\u001b[1;33m\u001b[0m\u001b[1;33m\u001b[0m\u001b[0m\n\u001b[0m\u001b[0;32m   1348\u001b[0m             \u001b[1;32mexcept\u001b[0m \u001b[0mConnectionError\u001b[0m\u001b[1;33m:\u001b[0m\u001b[1;33m\u001b[0m\u001b[1;33m\u001b[0m\u001b[0m\n\u001b[0;32m   1349\u001b[0m                 \u001b[0mself\u001b[0m\u001b[1;33m.\u001b[0m\u001b[0mclose\u001b[0m\u001b[1;33m(\u001b[0m\u001b[1;33m)\u001b[0m\u001b[1;33m\u001b[0m\u001b[1;33m\u001b[0m\u001b[0m\n",
      "\u001b[1;32mC:\\ProgramData\\Anaconda3\\lib\\http\\client.py\u001b[0m in \u001b[0;36mbegin\u001b[1;34m(self)\u001b[0m\n\u001b[0;32m    305\u001b[0m         \u001b[1;31m# read until we get a non-100 response\u001b[0m\u001b[1;33m\u001b[0m\u001b[1;33m\u001b[0m\u001b[1;33m\u001b[0m\u001b[0m\n\u001b[0;32m    306\u001b[0m         \u001b[1;32mwhile\u001b[0m \u001b[1;32mTrue\u001b[0m\u001b[1;33m:\u001b[0m\u001b[1;33m\u001b[0m\u001b[1;33m\u001b[0m\u001b[0m\n\u001b[1;32m--> 307\u001b[1;33m             \u001b[0mversion\u001b[0m\u001b[1;33m,\u001b[0m \u001b[0mstatus\u001b[0m\u001b[1;33m,\u001b[0m \u001b[0mreason\u001b[0m \u001b[1;33m=\u001b[0m \u001b[0mself\u001b[0m\u001b[1;33m.\u001b[0m\u001b[0m_read_status\u001b[0m\u001b[1;33m(\u001b[0m\u001b[1;33m)\u001b[0m\u001b[1;33m\u001b[0m\u001b[1;33m\u001b[0m\u001b[0m\n\u001b[0m\u001b[0;32m    308\u001b[0m             \u001b[1;32mif\u001b[0m \u001b[0mstatus\u001b[0m \u001b[1;33m!=\u001b[0m \u001b[0mCONTINUE\u001b[0m\u001b[1;33m:\u001b[0m\u001b[1;33m\u001b[0m\u001b[1;33m\u001b[0m\u001b[0m\n\u001b[0;32m    309\u001b[0m                 \u001b[1;32mbreak\u001b[0m\u001b[1;33m\u001b[0m\u001b[1;33m\u001b[0m\u001b[0m\n",
      "\u001b[1;32mC:\\ProgramData\\Anaconda3\\lib\\http\\client.py\u001b[0m in \u001b[0;36m_read_status\u001b[1;34m(self)\u001b[0m\n\u001b[0;32m    266\u001b[0m \u001b[1;33m\u001b[0m\u001b[0m\n\u001b[0;32m    267\u001b[0m     \u001b[1;32mdef\u001b[0m \u001b[0m_read_status\u001b[0m\u001b[1;33m(\u001b[0m\u001b[0mself\u001b[0m\u001b[1;33m)\u001b[0m\u001b[1;33m:\u001b[0m\u001b[1;33m\u001b[0m\u001b[1;33m\u001b[0m\u001b[0m\n\u001b[1;32m--> 268\u001b[1;33m         \u001b[0mline\u001b[0m \u001b[1;33m=\u001b[0m \u001b[0mstr\u001b[0m\u001b[1;33m(\u001b[0m\u001b[0mself\u001b[0m\u001b[1;33m.\u001b[0m\u001b[0mfp\u001b[0m\u001b[1;33m.\u001b[0m\u001b[0mreadline\u001b[0m\u001b[1;33m(\u001b[0m\u001b[0m_MAXLINE\u001b[0m \u001b[1;33m+\u001b[0m \u001b[1;36m1\u001b[0m\u001b[1;33m)\u001b[0m\u001b[1;33m,\u001b[0m \u001b[1;34m\"iso-8859-1\"\u001b[0m\u001b[1;33m)\u001b[0m\u001b[1;33m\u001b[0m\u001b[1;33m\u001b[0m\u001b[0m\n\u001b[0m\u001b[0;32m    269\u001b[0m         \u001b[1;32mif\u001b[0m \u001b[0mlen\u001b[0m\u001b[1;33m(\u001b[0m\u001b[0mline\u001b[0m\u001b[1;33m)\u001b[0m \u001b[1;33m>\u001b[0m \u001b[0m_MAXLINE\u001b[0m\u001b[1;33m:\u001b[0m\u001b[1;33m\u001b[0m\u001b[1;33m\u001b[0m\u001b[0m\n\u001b[0;32m    270\u001b[0m             \u001b[1;32mraise\u001b[0m \u001b[0mLineTooLong\u001b[0m\u001b[1;33m(\u001b[0m\u001b[1;34m\"status line\"\u001b[0m\u001b[1;33m)\u001b[0m\u001b[1;33m\u001b[0m\u001b[1;33m\u001b[0m\u001b[0m\n",
      "\u001b[1;32mC:\\ProgramData\\Anaconda3\\lib\\socket.py\u001b[0m in \u001b[0;36mreadinto\u001b[1;34m(self, b)\u001b[0m\n\u001b[0;32m    667\u001b[0m         \u001b[1;32mwhile\u001b[0m \u001b[1;32mTrue\u001b[0m\u001b[1;33m:\u001b[0m\u001b[1;33m\u001b[0m\u001b[1;33m\u001b[0m\u001b[0m\n\u001b[0;32m    668\u001b[0m             \u001b[1;32mtry\u001b[0m\u001b[1;33m:\u001b[0m\u001b[1;33m\u001b[0m\u001b[1;33m\u001b[0m\u001b[0m\n\u001b[1;32m--> 669\u001b[1;33m                 \u001b[1;32mreturn\u001b[0m \u001b[0mself\u001b[0m\u001b[1;33m.\u001b[0m\u001b[0m_sock\u001b[0m\u001b[1;33m.\u001b[0m\u001b[0mrecv_into\u001b[0m\u001b[1;33m(\u001b[0m\u001b[0mb\u001b[0m\u001b[1;33m)\u001b[0m\u001b[1;33m\u001b[0m\u001b[1;33m\u001b[0m\u001b[0m\n\u001b[0m\u001b[0;32m    670\u001b[0m             \u001b[1;32mexcept\u001b[0m \u001b[0mtimeout\u001b[0m\u001b[1;33m:\u001b[0m\u001b[1;33m\u001b[0m\u001b[1;33m\u001b[0m\u001b[0m\n\u001b[0;32m    671\u001b[0m                 \u001b[0mself\u001b[0m\u001b[1;33m.\u001b[0m\u001b[0m_timeout_occurred\u001b[0m \u001b[1;33m=\u001b[0m \u001b[1;32mTrue\u001b[0m\u001b[1;33m\u001b[0m\u001b[1;33m\u001b[0m\u001b[0m\n",
      "\u001b[1;31mKeyboardInterrupt\u001b[0m: "
     ]
    }
   ],
   "source": [
    "for ruc in clientes_update:\n",
    "    response = get_response(ruc) if alternativo else  get_response_simple(ruc)\n",
    "    try:\n",
    "        data = response.json()\n",
    "    except:\n",
    "        print(\" {} \".format(response.status_code))\n",
    "        time.sleep(60)\n",
    "        gc.collect()\n",
    "        continue\n",
    "    \n",
    "    if not data.get(\"success\"):\n",
    "        print(\" er \", data.get(\"message\", \"\"), end=' ')\n",
    "        time.sleep(60)\n",
    "        gc.collect()\n",
    "        continue\n",
    "    \n",
    "    estado = data.get('result',{}).get('estado', '')\n",
    "    print(estado)\n",
    "    cantidad_trabajadores = data.get('result',{}).get('cantidad_trabajadores',{})\n",
    "    cantidad_trabajadores = pd.DataFrame(cantidad_trabajadores) if len(cantidad_trabajadores) > 0 else None\n",
    "    \n",
    "    ### SI NO TIENE TRABAJADORES REGISTRAODS, lo guardamos aparte para no buscarlo en otras corridas\n",
    "    if not isinstance(cantidad_trabajadores, pd.core.frame.DataFrame):\n",
    "        print(ruc, \n",
    "              \" nt \", end='')\n",
    "        \n",
    "        pd.DataFrame(\n",
    "            [[ruc, datetime.now()]]\n",
    "        ).to_csv(\n",
    "            csv_not, \n",
    "            mode='a',\n",
    "            header=False, \n",
    "            index=False\n",
    "        )\n",
    "        \n",
    "        gc.collect()\n",
    "        continue\n",
    "    \n",
    "    ### FORMATO\n",
    "    cantidad_trabajadores.columns = [col.upper() for col in cantidad_trabajadores.columns]\n",
    "    cantidad_trabajadores['PERIODO'] = cantidad_trabajadores['PERIODO'].apply(lambda _: _.replace('-', '').replace('_', ''))\n",
    "    cantidad_trabajadores['RUC'] = ruc\n",
    "    cantidad_trabajadores['COMBINACION'] = cantidad_trabajadores['PERIODO'] + sep +  cantidad_trabajadores['RUC']\n",
    "    cantidad_trabajadores['ESTADO'] = estado\n",
    "    ### GUARDADO, y acumulación de los satisfactorios\n",
    "    cantidad_trabajadores[\n",
    "        ~cantidad_trabajadores['COMBINACION'].isin(rucs_periodo_existentes)\n",
    "    ].to_csv(\n",
    "        csv_name, \n",
    "        mode='a',\n",
    "        header=False, \n",
    "        index=False\n",
    "    )\n",
    "    print(ruc, end=' ')\n",
    "\n",
    "\n",
    "if alternativo:\n",
    "    sproc.kill()"
   ]
  },
  {
   "cell_type": "code",
   "execution_count": null,
   "id": "photographic-bulgaria",
   "metadata": {},
   "outputs": [],
   "source": []
  },
  {
   "cell_type": "code",
   "execution_count": null,
   "id": "short-recording",
   "metadata": {},
   "outputs": [],
   "source": []
  },
  {
   "cell_type": "code",
   "execution_count": null,
   "id": "empty-rogers",
   "metadata": {},
   "outputs": [],
   "source": []
  },
  {
   "cell_type": "code",
   "execution_count": null,
   "id": "liked-drink",
   "metadata": {},
   "outputs": [],
   "source": []
  },
  {
   "cell_type": "code",
   "execution_count": null,
   "id": "hired-balloon",
   "metadata": {},
   "outputs": [],
   "source": []
  },
  {
   "cell_type": "code",
   "execution_count": null,
   "id": "earned-african",
   "metadata": {},
   "outputs": [],
   "source": []
  },
  {
   "cell_type": "code",
   "execution_count": null,
   "id": "functioning-window",
   "metadata": {},
   "outputs": [],
   "source": []
  },
  {
   "cell_type": "code",
   "execution_count": null,
   "id": "assured-wyoming",
   "metadata": {},
   "outputs": [],
   "source": []
  },
  {
   "cell_type": "code",
   "execution_count": null,
   "id": "boolean-modeling",
   "metadata": {},
   "outputs": [],
   "source": []
  },
  {
   "cell_type": "code",
   "execution_count": null,
   "id": "acquired-photographer",
   "metadata": {},
   "outputs": [],
   "source": []
  },
  {
   "cell_type": "code",
   "execution_count": null,
   "id": "defined-village",
   "metadata": {},
   "outputs": [],
   "source": []
  },
  {
   "cell_type": "code",
   "execution_count": null,
   "id": "auburn-gibson",
   "metadata": {},
   "outputs": [],
   "source": []
  },
  {
   "cell_type": "code",
   "execution_count": null,
   "id": "noted-giant",
   "metadata": {},
   "outputs": [],
   "source": []
  },
  {
   "cell_type": "code",
   "execution_count": null,
   "id": "approved-seller",
   "metadata": {},
   "outputs": [],
   "source": []
  },
  {
   "cell_type": "code",
   "execution_count": null,
   "id": "spatial-intervention",
   "metadata": {},
   "outputs": [],
   "source": []
  },
  {
   "cell_type": "code",
   "execution_count": null,
   "id": "distant-violence",
   "metadata": {},
   "outputs": [],
   "source": []
  },
  {
   "cell_type": "code",
   "execution_count": null,
   "id": "cosmetic-lottery",
   "metadata": {},
   "outputs": [],
   "source": []
  },
  {
   "cell_type": "code",
   "execution_count": null,
   "id": "instrumental-baseline",
   "metadata": {},
   "outputs": [],
   "source": []
  },
  {
   "cell_type": "code",
   "execution_count": null,
   "id": "transsexual-guidance",
   "metadata": {},
   "outputs": [],
   "source": []
  },
  {
   "cell_type": "code",
   "execution_count": null,
   "id": "welcome-arizona",
   "metadata": {},
   "outputs": [],
   "source": []
  },
  {
   "cell_type": "code",
   "execution_count": null,
   "id": "modified-exhaust",
   "metadata": {},
   "outputs": [],
   "source": []
  },
  {
   "cell_type": "code",
   "execution_count": null,
   "id": "comparable-ceremony",
   "metadata": {},
   "outputs": [],
   "source": []
  },
  {
   "cell_type": "code",
   "execution_count": null,
   "id": "fluid-technique",
   "metadata": {},
   "outputs": [],
   "source": []
  },
  {
   "cell_type": "code",
   "execution_count": null,
   "id": "alpha-crystal",
   "metadata": {},
   "outputs": [],
   "source": []
  },
  {
   "cell_type": "code",
   "execution_count": null,
   "id": "helpful-woman",
   "metadata": {},
   "outputs": [],
   "source": []
  },
  {
   "cell_type": "code",
   "execution_count": null,
   "id": "naked-advocacy",
   "metadata": {},
   "outputs": [],
   "source": []
  },
  {
   "cell_type": "code",
   "execution_count": null,
   "id": "stock-swing",
   "metadata": {},
   "outputs": [],
   "source": []
  },
  {
   "cell_type": "code",
   "execution_count": null,
   "id": "documentary-territory",
   "metadata": {},
   "outputs": [],
   "source": []
  },
  {
   "cell_type": "code",
   "execution_count": null,
   "id": "increased-motel",
   "metadata": {},
   "outputs": [],
   "source": []
  },
  {
   "cell_type": "code",
   "execution_count": null,
   "id": "driven-astrology",
   "metadata": {},
   "outputs": [],
   "source": []
  },
  {
   "cell_type": "code",
   "execution_count": null,
   "id": "scientific-scanner",
   "metadata": {},
   "outputs": [],
   "source": []
  },
  {
   "cell_type": "code",
   "execution_count": null,
   "id": "commercial-literature",
   "metadata": {},
   "outputs": [],
   "source": []
  },
  {
   "cell_type": "code",
   "execution_count": null,
   "id": "designing-province",
   "metadata": {},
   "outputs": [],
   "source": []
  },
  {
   "cell_type": "code",
   "execution_count": null,
   "id": "presidential-contrast",
   "metadata": {},
   "outputs": [],
   "source": []
  },
  {
   "cell_type": "code",
   "execution_count": null,
   "id": "applied-enclosure",
   "metadata": {},
   "outputs": [],
   "source": []
  },
  {
   "cell_type": "code",
   "execution_count": null,
   "id": "average-activity",
   "metadata": {},
   "outputs": [],
   "source": []
  },
  {
   "cell_type": "code",
   "execution_count": null,
   "id": "charitable-venue",
   "metadata": {},
   "outputs": [],
   "source": []
  },
  {
   "cell_type": "code",
   "execution_count": null,
   "id": "apparent-attitude",
   "metadata": {},
   "outputs": [],
   "source": []
  },
  {
   "cell_type": "code",
   "execution_count": null,
   "id": "characteristic-nature",
   "metadata": {},
   "outputs": [],
   "source": []
  },
  {
   "cell_type": "code",
   "execution_count": null,
   "id": "affected-motivation",
   "metadata": {},
   "outputs": [],
   "source": []
  },
  {
   "cell_type": "code",
   "execution_count": null,
   "id": "naughty-reconstruction",
   "metadata": {},
   "outputs": [],
   "source": []
  },
  {
   "cell_type": "code",
   "execution_count": null,
   "id": "subjective-diameter",
   "metadata": {},
   "outputs": [],
   "source": []
  },
  {
   "cell_type": "code",
   "execution_count": null,
   "id": "instant-heritage",
   "metadata": {},
   "outputs": [],
   "source": []
  },
  {
   "cell_type": "code",
   "execution_count": null,
   "id": "organic-language",
   "metadata": {},
   "outputs": [],
   "source": []
  },
  {
   "cell_type": "code",
   "execution_count": null,
   "id": "warming-thompson",
   "metadata": {},
   "outputs": [],
   "source": []
  },
  {
   "cell_type": "code",
   "execution_count": null,
   "id": "historical-battery",
   "metadata": {},
   "outputs": [],
   "source": []
  },
  {
   "cell_type": "code",
   "execution_count": null,
   "id": "juvenile-partition",
   "metadata": {},
   "outputs": [],
   "source": []
  },
  {
   "cell_type": "code",
   "execution_count": null,
   "id": "virgin-there",
   "metadata": {},
   "outputs": [],
   "source": []
  },
  {
   "cell_type": "code",
   "execution_count": null,
   "id": "israeli-timing",
   "metadata": {},
   "outputs": [],
   "source": []
  },
  {
   "cell_type": "code",
   "execution_count": null,
   "id": "antique-mouth",
   "metadata": {},
   "outputs": [],
   "source": []
  },
  {
   "cell_type": "code",
   "execution_count": null,
   "id": "tender-certification",
   "metadata": {},
   "outputs": [],
   "source": []
  },
  {
   "cell_type": "code",
   "execution_count": null,
   "id": "loose-dictionary",
   "metadata": {},
   "outputs": [],
   "source": []
  },
  {
   "cell_type": "code",
   "execution_count": null,
   "id": "stainless-glossary",
   "metadata": {},
   "outputs": [],
   "source": []
  },
  {
   "cell_type": "code",
   "execution_count": null,
   "id": "average-fifteen",
   "metadata": {},
   "outputs": [],
   "source": []
  }
 ],
 "metadata": {
  "kernelspec": {
   "display_name": "Python 3",
   "language": "python",
   "name": "python3"
  },
  "language_info": {
   "codemirror_mode": {
    "name": "ipython",
    "version": 3
   },
   "file_extension": ".py",
   "mimetype": "text/x-python",
   "name": "python",
   "nbconvert_exporter": "python",
   "pygments_lexer": "ipython3",
   "version": "3.8.5"
  }
 },
 "nbformat": 4,
 "nbformat_minor": 5
}
