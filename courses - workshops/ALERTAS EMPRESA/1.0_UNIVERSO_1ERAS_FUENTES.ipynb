{
 "cells": [
  {
   "cell_type": "code",
   "execution_count": 1,
   "metadata": {},
   "outputs": [],
   "source": [
    "#nativos\n",
    "import os\n",
    "import time\n",
    "import unicodedata\n",
    "import gc\n",
    "\n",
    "#terceros\n",
    "import pandas as pd\n",
    "import numpy as np\n",
    "import pymssql\n",
    "import missingno as msnolistadconoce\n",
    "from collections import Counter\n",
    "\n",
    "#grafico\n",
    "import matplotlib.pyplot as plt\n",
    "import seaborn as sns\n",
    "from IPython.display import display\n",
    "%matplotlib inline\n",
    "sns.set(style=\"whitegrid\")"
   ]
  },
  {
   "cell_type": "code",
   "execution_count": 2,
   "metadata": {},
   "outputs": [
    {
     "name": "stdout",
     "output_type": "stream",
     "text": [
      "EJEMPLO:\n",
      "202104 mes cerrado de la cosecha de 202104 [202011, 202012, 202101, 202102, 202103, 202104] [202102, 202103, 202104] \n",
      " historia \n",
      " [202005, 202006, 202007, 202008, 202009, 202010, 202011, 202012, 202101, 202102, 202103, 202104] \n",
      " ---------------------------------------------------------------------------------------------------- \n",
      " [202105, 202106] \n",
      " ---------------------------------------------------------------------------------------------------- \n",
      " [202005, 202006]\n",
      "EJEMPLO:\n",
      "202003 mes cerrado de la cosecha de 202003 [201910, 201911, 201912, 202001, 202002, 202003] [202001, 202002, 202003] \n",
      " historia \n",
      " [201904, 201905, 201906, 201907, 201908, 201909, 201910, 201911, 201912, 202001, 202002, 202003] \n",
      " ---------------------------------------------------------------------------------------------------- \n",
      " [202004, 202005] \n",
      " ---------------------------------------------------------------------------------------------------- \n",
      " [201904, 201905]\n"
     ]
    }
   ],
   "source": [
    "from utils_alertas import *\n",
    "try:\n",
    "    connection_market.close()\n",
    "except:\n",
    "    pass\n",
    "\n",
    "#conneciom MARKET\n",
    "connection_market = pymssql.connect(**dicc_conection_market)"
   ]
  },
  {
   "cell_type": "markdown",
   "metadata": {},
   "source": [
    "### Clientes Universo"
   ]
  },
  {
   "cell_type": "code",
   "execution_count": 3,
   "metadata": {},
   "outputs": [
    {
     "data": {
      "text/html": [
       "<div>\n",
       "<style scoped>\n",
       "    .dataframe tbody tr th:only-of-type {\n",
       "        vertical-align: middle;\n",
       "    }\n",
       "\n",
       "    .dataframe tbody tr th {\n",
       "        vertical-align: top;\n",
       "    }\n",
       "\n",
       "    .dataframe thead th {\n",
       "        text-align: right;\n",
       "    }\n",
       "</style>\n",
       "<table border=\"1\" class=\"dataframe\">\n",
       "  <thead>\n",
       "    <tr style=\"text-align: right;\">\n",
       "      <th></th>\n",
       "      <th>FEVE</th>\n",
       "      <th>PERIODO</th>\n",
       "      <th>CODUNICOCLI</th>\n",
       "      <th>NOMBRE_COMPLETO</th>\n",
       "      <th>FLG_VIGENTE</th>\n",
       "      <th>FLG_SUSPENDIDO</th>\n",
       "      <th>FLG_VENCIDA</th>\n",
       "      <th>FLG_CANCELADO</th>\n",
       "      <th>FLG_MONOLINEA</th>\n",
       "      <th>FLG_SOLO_REACTIVA</th>\n",
       "      <th>...</th>\n",
       "      <th>CLASIF_SBS</th>\n",
       "      <th>CLASIF_IBK</th>\n",
       "      <th>DEPARTAMENTO</th>\n",
       "      <th>FEC_INGRESO</th>\n",
       "      <th>FEC_PRIMER_PRODUCTO_APERTURADO</th>\n",
       "      <th>SEI_MCDO</th>\n",
       "      <th>TIPDOC</th>\n",
       "      <th>CODDOC</th>\n",
       "      <th>NUM_RUC</th>\n",
       "      <th>SEGMENTO_CLIENTE</th>\n",
       "    </tr>\n",
       "  </thead>\n",
       "  <tbody>\n",
       "    <tr>\n",
       "      <th>0</th>\n",
       "      <td>GARANTIZAR</td>\n",
       "      <td>202008</td>\n",
       "      <td>0003041431</td>\n",
       "      <td>CERAMICOS PERUANOS</td>\n",
       "      <td>1</td>\n",
       "      <td>0</td>\n",
       "      <td>1</td>\n",
       "      <td>0</td>\n",
       "      <td>0</td>\n",
       "      <td>0</td>\n",
       "      <td>...</td>\n",
       "      <td>NORMAL</td>\n",
       "      <td>NORMAL</td>\n",
       "      <td>LIMA</td>\n",
       "      <td>1995-02-03</td>\n",
       "      <td>1999-05-07</td>\n",
       "      <td>CONSTRUCCIÓN</td>\n",
       "      <td>2</td>\n",
       "      <td>20100132916</td>\n",
       "      <td>20100132916</td>\n",
       "      <td>S2</td>\n",
       "    </tr>\n",
       "    <tr>\n",
       "      <th>1</th>\n",
       "      <td>EX-FEVE</td>\n",
       "      <td>202008</td>\n",
       "      <td>0003142478</td>\n",
       "      <td>BIOCON DEL PERU</td>\n",
       "      <td>1</td>\n",
       "      <td>1</td>\n",
       "      <td>0</td>\n",
       "      <td>0</td>\n",
       "      <td>0</td>\n",
       "      <td>0</td>\n",
       "      <td>...</td>\n",
       "      <td>NORMAL</td>\n",
       "      <td>NORMAL</td>\n",
       "      <td>CALLAO</td>\n",
       "      <td>1995-02-24</td>\n",
       "      <td>2009-10-23</td>\n",
       "      <td>INDUSTRIA</td>\n",
       "      <td>2</td>\n",
       "      <td>20100013747</td>\n",
       "      <td>20100013747</td>\n",
       "      <td>S1</td>\n",
       "    </tr>\n",
       "    <tr>\n",
       "      <th>2</th>\n",
       "      <td>EX-FEVE</td>\n",
       "      <td>202008</td>\n",
       "      <td>0003107943</td>\n",
       "      <td>ARENERA JAEN</td>\n",
       "      <td>0</td>\n",
       "      <td>1</td>\n",
       "      <td>1</td>\n",
       "      <td>1</td>\n",
       "      <td>0</td>\n",
       "      <td>0</td>\n",
       "      <td>...</td>\n",
       "      <td>NORMAL</td>\n",
       "      <td>NORMAL</td>\n",
       "      <td>LA LIBERTAD</td>\n",
       "      <td>1995-02-17</td>\n",
       "      <td>1995-02-17</td>\n",
       "      <td>TRANSPORTE</td>\n",
       "      <td>2</td>\n",
       "      <td>20114022838</td>\n",
       "      <td>20114022838</td>\n",
       "      <td>S1</td>\n",
       "    </tr>\n",
       "  </tbody>\n",
       "</table>\n",
       "<p>3 rows × 39 columns</p>\n",
       "</div>"
      ],
      "text/plain": [
       "         FEVE PERIODO CODUNICOCLI     NOMBRE_COMPLETO  FLG_VIGENTE  \\\n",
       "0  GARANTIZAR  202008  0003041431  CERAMICOS PERUANOS            1   \n",
       "1     EX-FEVE  202008  0003142478     BIOCON DEL PERU            1   \n",
       "2     EX-FEVE  202008  0003107943        ARENERA JAEN            0   \n",
       "\n",
       "   FLG_SUSPENDIDO  FLG_VENCIDA  FLG_CANCELADO  FLG_MONOLINEA  \\\n",
       "0               0            1              0              0   \n",
       "1               1            0              0              0   \n",
       "2               1            1              1              0   \n",
       "\n",
       "   FLG_SOLO_REACTIVA  ...  CLASIF_SBS  CLASIF_IBK  DEPARTAMENTO  FEC_INGRESO  \\\n",
       "0                  0  ...      NORMAL      NORMAL          LIMA   1995-02-03   \n",
       "1                  0  ...      NORMAL      NORMAL        CALLAO   1995-02-24   \n",
       "2                  0  ...      NORMAL      NORMAL   LA LIBERTAD   1995-02-17   \n",
       "\n",
       "   FEC_PRIMER_PRODUCTO_APERTURADO      SEI_MCDO TIPDOC       CODDOC  \\\n",
       "0                      1999-05-07  CONSTRUCCIÓN      2  20100132916   \n",
       "1                      2009-10-23     INDUSTRIA      2  20100013747   \n",
       "2                      1995-02-17    TRANSPORTE      2  20114022838   \n",
       "\n",
       "       NUM_RUC SEGMENTO_CLIENTE  \n",
       "0  20100132916               S2  \n",
       "1  20100013747               S1  \n",
       "2  20114022838               S1  \n",
       "\n",
       "[3 rows x 39 columns]"
      ]
     },
     "execution_count": 3,
     "metadata": {},
     "output_type": "execute_result"
    }
   ],
   "source": [
    "sql_clientes = \"\"\"\n",
    "    SELECT * FROM ODS.HD_VMVP_BASE_ALERTA_CARTERA_BE WITH (NOLOCK)\n",
    "\"\"\"\n",
    "\n",
    "clientes = pd.read_sql(\n",
    "   sql_clientes , connection_market\n",
    ")\n",
    "clientes.head(3)"
   ]
  },
  {
   "cell_type": "code",
   "execution_count": 4,
   "metadata": {},
   "outputs": [
    {
     "data": {
      "text/plain": [
       "((26914, 39),\n",
       " Index(['FEVE', 'PERIODO', 'CODUNICOCLI', 'NOMBRE_COMPLETO', 'FLG_VIGENTE',\n",
       "        'FLG_SUSPENDIDO', 'FLG_VENCIDA', 'FLG_CANCELADO', 'FLG_MONOLINEA',\n",
       "        'FLG_SOLO_REACTIVA', 'FLG_POSICION', 'FUNNEL_1', 'FUNNEL_2', 'FUNNEL_3',\n",
       "        'RIESGO', 'COD_GRUPO_ECONOMICO', 'DES_GRUPO_ECONOMICO', 'ZONAL',\n",
       "        'ENCARGADO', 'NOMBRE_JEFE', 'CLASIFICACION_LIST_360', 'FUNNEL_4',\n",
       "        'FUNNEL_ALERTA', 'DESPRIORIZACION_ADM', 'RIESGO_DIRECTO',\n",
       "        'RIESGO_INDIRECTO', 'RIESGO_REACTIVA_NO_C', 'BUCKET', 'ES_ACTIVO',\n",
       "        'CLASIF_SBS', 'CLASIF_IBK', 'DEPARTAMENTO', 'FEC_INGRESO',\n",
       "        'FEC_PRIMER_PRODUCTO_APERTURADO', 'SEI_MCDO', 'TIPDOC', 'CODDOC',\n",
       "        'NUM_RUC', 'SEGMENTO_CLIENTE'],\n",
       "       dtype='object'))"
      ]
     },
     "execution_count": 4,
     "metadata": {},
     "output_type": "execute_result"
    }
   ],
   "source": [
    "clientes.shape, clientes.columns"
   ]
  },
  {
   "cell_type": "code",
   "execution_count": 5,
   "metadata": {},
   "outputs": [
    {
     "name": "stdout",
     "output_type": "stream",
     "text": [
      "(26914, 39)\n",
      "(26914, 39)\n"
     ]
    }
   ],
   "source": [
    "print(clientes.shape)\n",
    "clientes = clientes[\n",
    "    (clientes['ZONAL'].notnull()) & (clientes['ZONAL'] != '')\n",
    "]\n",
    "print(clientes.shape)"
   ]
  },
  {
   "cell_type": "code",
   "execution_count": 6,
   "metadata": {},
   "outputs": [
    {
     "data": {
      "text/html": [
       "<div>\n",
       "<style scoped>\n",
       "    .dataframe tbody tr th:only-of-type {\n",
       "        vertical-align: middle;\n",
       "    }\n",
       "\n",
       "    .dataframe tbody tr th {\n",
       "        vertical-align: top;\n",
       "    }\n",
       "\n",
       "    .dataframe thead th {\n",
       "        text-align: right;\n",
       "    }\n",
       "</style>\n",
       "<table border=\"1\" class=\"dataframe\">\n",
       "  <thead>\n",
       "    <tr style=\"text-align: right;\">\n",
       "      <th>PERIODO</th>\n",
       "      <th>202008</th>\n",
       "      <th>202009</th>\n",
       "      <th>202010</th>\n",
       "      <th>202011</th>\n",
       "      <th>202012</th>\n",
       "      <th>202101</th>\n",
       "      <th>202102</th>\n",
       "      <th>202103</th>\n",
       "      <th>202104</th>\n",
       "      <th>202105</th>\n",
       "    </tr>\n",
       "    <tr>\n",
       "      <th>ZONAL</th>\n",
       "      <th></th>\n",
       "      <th></th>\n",
       "      <th></th>\n",
       "      <th></th>\n",
       "      <th></th>\n",
       "      <th></th>\n",
       "      <th></th>\n",
       "      <th></th>\n",
       "      <th></th>\n",
       "      <th></th>\n",
       "    </tr>\n",
       "  </thead>\n",
       "  <tbody>\n",
       "    <tr>\n",
       "      <th>BC GRUPO 1</th>\n",
       "      <td>0</td>\n",
       "      <td>0</td>\n",
       "      <td>0</td>\n",
       "      <td>0</td>\n",
       "      <td>0</td>\n",
       "      <td>185</td>\n",
       "      <td>186</td>\n",
       "      <td>190</td>\n",
       "      <td>190</td>\n",
       "      <td>189</td>\n",
       "    </tr>\n",
       "    <tr>\n",
       "      <th>BC GRUPO 2</th>\n",
       "      <td>0</td>\n",
       "      <td>0</td>\n",
       "      <td>0</td>\n",
       "      <td>0</td>\n",
       "      <td>0</td>\n",
       "      <td>217</td>\n",
       "      <td>216</td>\n",
       "      <td>226</td>\n",
       "      <td>225</td>\n",
       "      <td>227</td>\n",
       "    </tr>\n",
       "    <tr>\n",
       "      <th>BEL ZONAL 1</th>\n",
       "      <td>275</td>\n",
       "      <td>277</td>\n",
       "      <td>275</td>\n",
       "      <td>278</td>\n",
       "      <td>279</td>\n",
       "      <td>275</td>\n",
       "      <td>276</td>\n",
       "      <td>281</td>\n",
       "      <td>278</td>\n",
       "      <td>276</td>\n",
       "    </tr>\n",
       "    <tr>\n",
       "      <th>BEL ZONAL 2</th>\n",
       "      <td>1216</td>\n",
       "      <td>1244</td>\n",
       "      <td>1235</td>\n",
       "      <td>1229</td>\n",
       "      <td>1243</td>\n",
       "      <td>1246</td>\n",
       "      <td>1248</td>\n",
       "      <td>1232</td>\n",
       "      <td>1226</td>\n",
       "      <td>1224</td>\n",
       "    </tr>\n",
       "    <tr>\n",
       "      <th>BEL ZONAL 3</th>\n",
       "      <td>209</td>\n",
       "      <td>211</td>\n",
       "      <td>212</td>\n",
       "      <td>209</td>\n",
       "      <td>209</td>\n",
       "      <td>207</td>\n",
       "      <td>210</td>\n",
       "      <td>210</td>\n",
       "      <td>211</td>\n",
       "      <td>209</td>\n",
       "    </tr>\n",
       "    <tr>\n",
       "      <th>BEP ZONAL 1</th>\n",
       "      <td>282</td>\n",
       "      <td>294</td>\n",
       "      <td>300</td>\n",
       "      <td>297</td>\n",
       "      <td>298</td>\n",
       "      <td>296</td>\n",
       "      <td>298</td>\n",
       "      <td>290</td>\n",
       "      <td>291</td>\n",
       "      <td>297</td>\n",
       "    </tr>\n",
       "    <tr>\n",
       "      <th>BEP ZONAL 2</th>\n",
       "      <td>236</td>\n",
       "      <td>249</td>\n",
       "      <td>255</td>\n",
       "      <td>248</td>\n",
       "      <td>246</td>\n",
       "      <td>241</td>\n",
       "      <td>243</td>\n",
       "      <td>242</td>\n",
       "      <td>237</td>\n",
       "      <td>239</td>\n",
       "    </tr>\n",
       "    <tr>\n",
       "      <th>BEP ZONAL 3</th>\n",
       "      <td>210</td>\n",
       "      <td>224</td>\n",
       "      <td>230</td>\n",
       "      <td>233</td>\n",
       "      <td>230</td>\n",
       "      <td>225</td>\n",
       "      <td>223</td>\n",
       "      <td>232</td>\n",
       "      <td>232</td>\n",
       "      <td>235</td>\n",
       "    </tr>\n",
       "  </tbody>\n",
       "</table>\n",
       "</div>"
      ],
      "text/plain": [
       "PERIODO      202008  202009  202010  202011  202012  202101  202102  202103  \\\n",
       "ZONAL                                                                         \n",
       "BC GRUPO 1        0       0       0       0       0     185     186     190   \n",
       "BC GRUPO 2        0       0       0       0       0     217     216     226   \n",
       "BEL ZONAL 1     275     277     275     278     279     275     276     281   \n",
       "BEL ZONAL 2    1216    1244    1235    1229    1243    1246    1248    1232   \n",
       "BEL ZONAL 3     209     211     212     209     209     207     210     210   \n",
       "BEP ZONAL 1     282     294     300     297     298     296     298     290   \n",
       "BEP ZONAL 2     236     249     255     248     246     241     243     242   \n",
       "BEP ZONAL 3     210     224     230     233     230     225     223     232   \n",
       "\n",
       "PERIODO      202104  202105  \n",
       "ZONAL                        \n",
       "BC GRUPO 1      190     189  \n",
       "BC GRUPO 2      225     227  \n",
       "BEL ZONAL 1     278     276  \n",
       "BEL ZONAL 2    1226    1224  \n",
       "BEL ZONAL 3     211     209  \n",
       "BEP ZONAL 1     291     297  \n",
       "BEP ZONAL 2     237     239  \n",
       "BEP ZONAL 3     232     235  "
      ]
     },
     "execution_count": 6,
     "metadata": {},
     "output_type": "execute_result"
    }
   ],
   "source": [
    "pd.crosstab(\n",
    "    clientes['ZONAL'].fillna('-'), clientes['PERIODO']\n",
    ")"
   ]
  },
  {
   "cell_type": "markdown",
   "metadata": {},
   "source": [
    "### Inclusión de FEVE RE-AJUSTADO"
   ]
  },
  {
   "cell_type": "code",
   "execution_count": 7,
   "metadata": {},
   "outputs": [
    {
     "data": {
      "text/html": [
       "<div>\n",
       "<style scoped>\n",
       "    .dataframe tbody tr th:only-of-type {\n",
       "        vertical-align: middle;\n",
       "    }\n",
       "\n",
       "    .dataframe tbody tr th {\n",
       "        vertical-align: top;\n",
       "    }\n",
       "\n",
       "    .dataframe thead th {\n",
       "        text-align: right;\n",
       "    }\n",
       "</style>\n",
       "<table border=\"1\" class=\"dataframe\">\n",
       "  <thead>\n",
       "    <tr style=\"text-align: right;\">\n",
       "      <th></th>\n",
       "      <th>CU</th>\n",
       "      <th>CLIENTE</th>\n",
       "      <th>SEGUIR COVID</th>\n",
       "      <th>PERIODO</th>\n",
       "      <th>SEGUIR_COVID</th>\n",
       "      <th>CODUNICOCLI</th>\n",
       "    </tr>\n",
       "  </thead>\n",
       "  <tbody>\n",
       "    <tr>\n",
       "      <th>0</th>\n",
       "      <td>0012430609</td>\n",
       "      <td>SOCIEDAD AGRICOLA RAPEL</td>\n",
       "      <td>SI</td>\n",
       "      <td>202007</td>\n",
       "      <td>1</td>\n",
       "      <td>0012430609</td>\n",
       "    </tr>\n",
       "    <tr>\n",
       "      <th>1</th>\n",
       "      <td>0009230888</td>\n",
       "      <td>MIXERCON</td>\n",
       "      <td>SI</td>\n",
       "      <td>202007</td>\n",
       "      <td>1</td>\n",
       "      <td>0009230888</td>\n",
       "    </tr>\n",
       "    <tr>\n",
       "      <th>2</th>\n",
       "      <td>0013693786</td>\n",
       "      <td>MOVIL BUS</td>\n",
       "      <td>SI</td>\n",
       "      <td>202007</td>\n",
       "      <td>1</td>\n",
       "      <td>0013693786</td>\n",
       "    </tr>\n",
       "  </tbody>\n",
       "</table>\n",
       "</div>"
      ],
      "text/plain": [
       "           CU                  CLIENTE SEGUIR COVID PERIODO  SEGUIR_COVID  \\\n",
       "0  0012430609  SOCIEDAD AGRICOLA RAPEL           SI  202007             1   \n",
       "1  0009230888                 MIXERCON           SI  202007             1   \n",
       "2  0013693786                MOVIL BUS           SI  202007             1   \n",
       "\n",
       "  CODUNICOCLI  \n",
       "0  0012430609  \n",
       "1  0009230888  \n",
       "2  0013693786  "
      ]
     },
     "execution_count": 7,
     "metadata": {},
     "output_type": "execute_result"
    }
   ],
   "source": [
    "sql_ = \"\"\"\n",
    "    SELECT * FROM ODS.HM_FEVE_REAJUSTADO_SEGUIR_COVID WITH (NOLOCK)\n",
    "\"\"\"\n",
    "reajustado = pd.read_sql(\n",
    "   sql_ , connection_market\n",
    ")\n",
    "reajustado['CODUNICOCLI'] = reajustado['CU'].copy()\n",
    "reajustado.head(3)"
   ]
  },
  {
   "cell_type": "code",
   "execution_count": 8,
   "metadata": {},
   "outputs": [
    {
     "data": {
      "text/plain": [
       "202105     65\n",
       "202104    240\n",
       "202103    232\n",
       "202102    240\n",
       "202101    239\n",
       "202012    246\n",
       "202011    260\n",
       "202010    263\n",
       "202009    269\n",
       "202008     71\n",
       "202007     44\n",
       "Name: PERIODO, dtype: int64"
      ]
     },
     "execution_count": 8,
     "metadata": {},
     "output_type": "execute_result"
    }
   ],
   "source": [
    "reajustado['PERIODO'].value_counts().sort_index(ascending=False)"
   ]
  },
  {
   "cell_type": "code",
   "execution_count": 9,
   "metadata": {},
   "outputs": [
    {
     "data": {
      "text/plain": [
       "202105    2896\n",
       "202104    2890\n",
       "202103    2903\n",
       "202102    2900\n",
       "202101    2892\n",
       "202012    2505\n",
       "202011    2494\n",
       "202010    2507\n",
       "202009    2499\n",
       "202008    2428\n",
       "Name: PERIODO, dtype: int64"
      ]
     },
     "execution_count": 9,
     "metadata": {},
     "output_type": "execute_result"
    }
   ],
   "source": [
    "clientes['PERIODO'].value_counts().sort_index(ascending=False)"
   ]
  },
  {
   "cell_type": "code",
   "execution_count": 10,
   "metadata": {},
   "outputs": [
    {
     "data": {
      "text/plain": [
       "CU              object\n",
       "CLIENTE         object\n",
       "SEGUIR COVID    object\n",
       "PERIODO         object\n",
       "SEGUIR_COVID     int64\n",
       "CODUNICOCLI     object\n",
       "dtype: object"
      ]
     },
     "execution_count": 10,
     "metadata": {},
     "output_type": "execute_result"
    }
   ],
   "source": [
    "reajustado.dtypes"
   ]
  },
  {
   "cell_type": "code",
   "execution_count": 11,
   "metadata": {},
   "outputs": [
    {
     "name": "stdout",
     "output_type": "stream",
     "text": [
      "(26914, 39)\n",
      "(26914, 40)\n"
     ]
    }
   ],
   "source": [
    "print(clientes.shape)\n",
    "clientes = clientes.merge(\n",
    "    reajustado[['CODUNICOCLI', 'PERIODO', 'SEGUIR_COVID']], how='left', on=['CODUNICOCLI', 'PERIODO']\n",
    ")\n",
    "clientes.head()\n",
    "print(clientes.shape)"
   ]
  },
  {
   "cell_type": "code",
   "execution_count": 12,
   "metadata": {},
   "outputs": [
    {
     "data": {
      "text/html": [
       "<div>\n",
       "<style scoped>\n",
       "    .dataframe tbody tr th:only-of-type {\n",
       "        vertical-align: middle;\n",
       "    }\n",
       "\n",
       "    .dataframe tbody tr th {\n",
       "        vertical-align: top;\n",
       "    }\n",
       "\n",
       "    .dataframe thead th {\n",
       "        text-align: right;\n",
       "    }\n",
       "</style>\n",
       "<table border=\"1\" class=\"dataframe\">\n",
       "  <thead>\n",
       "    <tr style=\"text-align: right;\">\n",
       "      <th>PERIODO</th>\n",
       "      <th>202008</th>\n",
       "      <th>202009</th>\n",
       "      <th>202010</th>\n",
       "      <th>202011</th>\n",
       "      <th>202012</th>\n",
       "      <th>202101</th>\n",
       "      <th>202102</th>\n",
       "      <th>202103</th>\n",
       "      <th>202104</th>\n",
       "      <th>202105</th>\n",
       "    </tr>\n",
       "    <tr>\n",
       "      <th>FEVE</th>\n",
       "      <th></th>\n",
       "      <th></th>\n",
       "      <th></th>\n",
       "      <th></th>\n",
       "      <th></th>\n",
       "      <th></th>\n",
       "      <th></th>\n",
       "      <th></th>\n",
       "      <th></th>\n",
       "      <th></th>\n",
       "    </tr>\n",
       "  </thead>\n",
       "  <tbody>\n",
       "    <tr>\n",
       "      <th>EX-FEVE</th>\n",
       "      <td>622</td>\n",
       "      <td>617</td>\n",
       "      <td>619</td>\n",
       "      <td>632</td>\n",
       "      <td>640</td>\n",
       "      <td>813</td>\n",
       "      <td>817</td>\n",
       "      <td>828</td>\n",
       "      <td>847</td>\n",
       "      <td>856</td>\n",
       "    </tr>\n",
       "    <tr>\n",
       "      <th>GARANTIZAR</th>\n",
       "      <td>317</td>\n",
       "      <td>253</td>\n",
       "      <td>189</td>\n",
       "      <td>160</td>\n",
       "      <td>142</td>\n",
       "      <td>124</td>\n",
       "      <td>124</td>\n",
       "      <td>102</td>\n",
       "      <td>91</td>\n",
       "      <td>88</td>\n",
       "    </tr>\n",
       "    <tr>\n",
       "      <th>RECUP.</th>\n",
       "      <td>0</td>\n",
       "      <td>0</td>\n",
       "      <td>0</td>\n",
       "      <td>0</td>\n",
       "      <td>4</td>\n",
       "      <td>0</td>\n",
       "      <td>0</td>\n",
       "      <td>0</td>\n",
       "      <td>0</td>\n",
       "      <td>0</td>\n",
       "    </tr>\n",
       "    <tr>\n",
       "      <th>REDUCIR</th>\n",
       "      <td>72</td>\n",
       "      <td>81</td>\n",
       "      <td>93</td>\n",
       "      <td>92</td>\n",
       "      <td>93</td>\n",
       "      <td>118</td>\n",
       "      <td>117</td>\n",
       "      <td>115</td>\n",
       "      <td>107</td>\n",
       "      <td>107</td>\n",
       "    </tr>\n",
       "    <tr>\n",
       "      <th>SALIR</th>\n",
       "      <td>23</td>\n",
       "      <td>25</td>\n",
       "      <td>26</td>\n",
       "      <td>24</td>\n",
       "      <td>27</td>\n",
       "      <td>34</td>\n",
       "      <td>32</td>\n",
       "      <td>34</td>\n",
       "      <td>44</td>\n",
       "      <td>44</td>\n",
       "    </tr>\n",
       "    <tr>\n",
       "      <th>SEGUIR</th>\n",
       "      <td>159</td>\n",
       "      <td>229</td>\n",
       "      <td>286</td>\n",
       "      <td>307</td>\n",
       "      <td>320</td>\n",
       "      <td>428</td>\n",
       "      <td>434</td>\n",
       "      <td>458</td>\n",
       "      <td>441</td>\n",
       "      <td>440</td>\n",
       "    </tr>\n",
       "  </tbody>\n",
       "</table>\n",
       "</div>"
      ],
      "text/plain": [
       "PERIODO     202008  202009  202010  202011  202012  202101  202102  202103  \\\n",
       "FEVE                                                                         \n",
       "EX-FEVE        622     617     619     632     640     813     817     828   \n",
       "GARANTIZAR     317     253     189     160     142     124     124     102   \n",
       "RECUP.           0       0       0       0       4       0       0       0   \n",
       "REDUCIR         72      81      93      92      93     118     117     115   \n",
       "SALIR           23      25      26      24      27      34      32      34   \n",
       "SEGUIR         159     229     286     307     320     428     434     458   \n",
       "\n",
       "PERIODO     202104  202105  \n",
       "FEVE                        \n",
       "EX-FEVE        847     856  \n",
       "GARANTIZAR      91      88  \n",
       "RECUP.           0       0  \n",
       "REDUCIR        107     107  \n",
       "SALIR           44      44  \n",
       "SEGUIR         441     440  "
      ]
     },
     "execution_count": 12,
     "metadata": {},
     "output_type": "execute_result"
    }
   ],
   "source": [
    "pd.crosstab(\n",
    "    clientes['FEVE'], clientes['PERIODO']\n",
    ")"
   ]
  },
  {
   "cell_type": "code",
   "execution_count": 13,
   "metadata": {},
   "outputs": [
    {
     "name": "stdout",
     "output_type": "stream",
     "text": [
      "(26914, 40)\n",
      "(26910, 40)\n"
     ]
    }
   ],
   "source": [
    "print(clientes.shape)\n",
    "clientes = clientes[clientes['FEVE'] != 'RECUP.']\n",
    "print(clientes.shape)"
   ]
  },
  {
   "cell_type": "code",
   "execution_count": 14,
   "metadata": {},
   "outputs": [
    {
     "data": {
      "text/html": [
       "<div>\n",
       "<style scoped>\n",
       "    .dataframe tbody tr th:only-of-type {\n",
       "        vertical-align: middle;\n",
       "    }\n",
       "\n",
       "    .dataframe tbody tr th {\n",
       "        vertical-align: top;\n",
       "    }\n",
       "\n",
       "    .dataframe thead th {\n",
       "        text-align: right;\n",
       "    }\n",
       "</style>\n",
       "<table border=\"1\" class=\"dataframe\">\n",
       "  <thead>\n",
       "    <tr style=\"text-align: right;\">\n",
       "      <th>PERIODO</th>\n",
       "      <th>202008</th>\n",
       "      <th>202009</th>\n",
       "      <th>202010</th>\n",
       "      <th>202011</th>\n",
       "      <th>202012</th>\n",
       "      <th>202101</th>\n",
       "      <th>202102</th>\n",
       "      <th>202103</th>\n",
       "      <th>202104</th>\n",
       "      <th>202105</th>\n",
       "    </tr>\n",
       "    <tr>\n",
       "      <th>FEVE</th>\n",
       "      <th></th>\n",
       "      <th></th>\n",
       "      <th></th>\n",
       "      <th></th>\n",
       "      <th></th>\n",
       "      <th></th>\n",
       "      <th></th>\n",
       "      <th></th>\n",
       "      <th></th>\n",
       "      <th></th>\n",
       "    </tr>\n",
       "  </thead>\n",
       "  <tbody>\n",
       "    <tr>\n",
       "      <th>EX-FEVE</th>\n",
       "      <td>621</td>\n",
       "      <td>591</td>\n",
       "      <td>611</td>\n",
       "      <td>630</td>\n",
       "      <td>635</td>\n",
       "      <td>805</td>\n",
       "      <td>812</td>\n",
       "      <td>826</td>\n",
       "      <td>843</td>\n",
       "      <td>855</td>\n",
       "    </tr>\n",
       "    <tr>\n",
       "      <th>GARANTIZAR</th>\n",
       "      <td>294</td>\n",
       "      <td>203</td>\n",
       "      <td>155</td>\n",
       "      <td>128</td>\n",
       "      <td>116</td>\n",
       "      <td>100</td>\n",
       "      <td>102</td>\n",
       "      <td>84</td>\n",
       "      <td>74</td>\n",
       "      <td>81</td>\n",
       "    </tr>\n",
       "    <tr>\n",
       "      <th>REDUCIR</th>\n",
       "      <td>72</td>\n",
       "      <td>81</td>\n",
       "      <td>93</td>\n",
       "      <td>92</td>\n",
       "      <td>93</td>\n",
       "      <td>118</td>\n",
       "      <td>117</td>\n",
       "      <td>115</td>\n",
       "      <td>107</td>\n",
       "      <td>107</td>\n",
       "    </tr>\n",
       "    <tr>\n",
       "      <th>SALIR</th>\n",
       "      <td>23</td>\n",
       "      <td>25</td>\n",
       "      <td>26</td>\n",
       "      <td>24</td>\n",
       "      <td>27</td>\n",
       "      <td>34</td>\n",
       "      <td>32</td>\n",
       "      <td>34</td>\n",
       "      <td>44</td>\n",
       "      <td>44</td>\n",
       "    </tr>\n",
       "    <tr>\n",
       "      <th>SEGUIR</th>\n",
       "      <td>114</td>\n",
       "      <td>113</td>\n",
       "      <td>131</td>\n",
       "      <td>142</td>\n",
       "      <td>161</td>\n",
       "      <td>240</td>\n",
       "      <td>240</td>\n",
       "      <td>256</td>\n",
       "      <td>236</td>\n",
       "      <td>383</td>\n",
       "    </tr>\n",
       "    <tr>\n",
       "      <th>SEGUIR COVID</th>\n",
       "      <td>69</td>\n",
       "      <td>203</td>\n",
       "      <td>200</td>\n",
       "      <td>201</td>\n",
       "      <td>190</td>\n",
       "      <td>226</td>\n",
       "      <td>227</td>\n",
       "      <td>222</td>\n",
       "      <td>229</td>\n",
       "      <td>65</td>\n",
       "    </tr>\n",
       "  </tbody>\n",
       "</table>\n",
       "</div>"
      ],
      "text/plain": [
       "PERIODO       202008  202009  202010  202011  202012  202101  202102  202103  \\\n",
       "FEVE                                                                           \n",
       "EX-FEVE          621     591     611     630     635     805     812     826   \n",
       "GARANTIZAR       294     203     155     128     116     100     102      84   \n",
       "REDUCIR           72      81      93      92      93     118     117     115   \n",
       "SALIR             23      25      26      24      27      34      32      34   \n",
       "SEGUIR           114     113     131     142     161     240     240     256   \n",
       "SEGUIR COVID      69     203     200     201     190     226     227     222   \n",
       "\n",
       "PERIODO       202104  202105  \n",
       "FEVE                          \n",
       "EX-FEVE          843     855  \n",
       "GARANTIZAR        74      81  \n",
       "REDUCIR          107     107  \n",
       "SALIR             44      44  \n",
       "SEGUIR           236     383  \n",
       "SEGUIR COVID     229      65  "
      ]
     },
     "execution_count": 14,
     "metadata": {},
     "output_type": "execute_result"
    }
   ],
   "source": [
    "### Coordnación con Nersy, se actualzan con SEGUR COVID a los que no tengan FEVE DURO\n",
    "\n",
    "def update_feve(feve, covid):\n",
    "    return 'SEGUIR COVID' if covid == 1 and feve not in ['REDUCIR', 'SALIR'] else feve\n",
    "\n",
    "\n",
    "clientes['FEVE'] = clientes[['FEVE', 'SEGUIR_COVID']].apply(\n",
    "    lambda _: update_feve(_[0], _[1]), axis=1\n",
    ")\n",
    "\n",
    "pd.crosstab(\n",
    "    clientes['FEVE'], clientes['PERIODO']\n",
    ")"
   ]
  },
  {
   "cell_type": "markdown",
   "metadata": {},
   "source": [
    "### REVISANDO LOS FUNNELS"
   ]
  },
  {
   "cell_type": "code",
   "execution_count": null,
   "metadata": {},
   "outputs": [],
   "source": [
    "pd.crosstab(\n",
    "    clientes['FUNNEL_4'].fillna(-1), clientes['PERIODO']  # \n",
    ")"
   ]
  },
  {
   "cell_type": "code",
   "execution_count": null,
   "metadata": {},
   "outputs": [],
   "source": [
    "pd.crosstab(\n",
    "    clientes['FUNNEL_ALERTA'], clientes['PERIODO']\n",
    ")"
   ]
  },
  {
   "cell_type": "code",
   "execution_count": null,
   "metadata": {},
   "outputs": [],
   "source": [
    "#clientes.drop_duplicates(subset=['CODUNICOCLI'])[['NUM_RUC', 'NOMBRE_COMPLETO', 'ZONAL', 'ES_ACTIVO', 'BUCKET']].to_excel('CLIENTES_UNIERSO_ALERTAS_CARTERA.xlsx')"
   ]
  },
  {
   "cell_type": "code",
   "execution_count": null,
   "metadata": {},
   "outputs": [],
   "source": [
    "unicos = clientes.drop_duplicates(subset=['CODUNICOCLI'])\n",
    "unicos[['NUM_RUC', 'NOMBRE_COMPLETO', 'ZONAL', 'ES_ACTIVO', 'BUCKET']].shape"
   ]
  },
  {
   "cell_type": "code",
   "execution_count": null,
   "metadata": {},
   "outputs": [],
   "source": [
    "unicos[['NUM_RUC', 'NOMBRE_COMPLETO', 'ZONAL', 'ES_ACTIVO', 'BUCKET']].to_excel('CLIENTES_UNIERSO_ALERTAS_CARTERA.xlsx', index=False)"
   ]
  },
  {
   "cell_type": "code",
   "execution_count": null,
   "metadata": {},
   "outputs": [],
   "source": []
  },
  {
   "cell_type": "code",
   "execution_count": null,
   "metadata": {},
   "outputs": [],
   "source": [
    "clientes['PERIODO_ZONAL'] = clientes['PERIODO'] + '__' + clientes['ZONAL']"
   ]
  },
  {
   "cell_type": "code",
   "execution_count": null,
   "metadata": {},
   "outputs": [],
   "source": [
    "#for periodo in clientes[clientes['PERIODO'].astype(int) >= 202101]['PERIODO'].unique():\n",
    "#    display(pd.crosstab(\n",
    "#        clientes[clientes['PERIODO'] == periodo]['FUNNEL_4'], clientes[clientes['PERIODO'] == periodo]['PERIODO_ZONAL']\n",
    "#    ))\n",
    "#    \n",
    "#    display(pd.crosstab(\n",
    "#        clientes[clientes['PERIODO'] == periodo]['FUNNEL_ALERTA'], clientes[clientes['PERIODO'] == periodo]['PERIODO_ZONAL']\n",
    "#    ))"
   ]
  },
  {
   "cell_type": "code",
   "execution_count": null,
   "metadata": {},
   "outputs": [],
   "source": [
    "clientes[clientes['ZONAL'] == ''].shape[0]"
   ]
  },
  {
   "cell_type": "code",
   "execution_count": null,
   "metadata": {},
   "outputs": [],
   "source": []
  },
  {
   "cell_type": "code",
   "execution_count": null,
   "metadata": {},
   "outputs": [],
   "source": [
    "#cruce = pd.crosstab(\n",
    "#    clientes['SEI_MCDO'], clientes['FEVE']\n",
    "#)\n",
    "#cruce['total_referencial'] = cruce.sum(axis=1)#\n",
    "#for col in cruce.columns:\n",
    "#    cruce[col] =  cruce[col] / cruce['total_referencial']\n",
    "    \n",
    "#cruce"
   ]
  },
  {
   "cell_type": "markdown",
   "metadata": {},
   "source": [
    "### >> SEI A CRITERIO EXPERTO"
   ]
  },
  {
   "cell_type": "code",
   "execution_count": null,
   "metadata": {},
   "outputs": [],
   "source": [
    "clientes['SEI_MCDO'] = clientes['SEI_MCDO'].fillna('DESCONOCIDO')"
   ]
  },
  {
   "cell_type": "code",
   "execution_count": null,
   "metadata": {},
   "outputs": [],
   "source": [
    "print(set(clientes['SEI_MCDO']))"
   ]
  },
  {
   "cell_type": "code",
   "execution_count": null,
   "metadata": {},
   "outputs": [],
   "source": [
    "text_sei_mas_preocupa = 'RESTAURANTES%,%HIDROCARBUROS%,%AUTOMOTRIZ VEHÍCULOS%,%TEXTIL'\n",
    "text_sei_medio_peocupa = 'INDUSTRIA%,%CONSTRUCCIÓN%,%TRANSPORTE%,%MINERÍA%,%INMOBILIARIO'\n",
    "text_sei_banca = 'RESTAURANTES%,%AUTOMOTRIZ VEHÍCULOS%,%TEXTIL,%CONSTRUCCIÓN%,%TRANSPORTE, %TURISMO Y HOSPEDAJE'\n",
    "\n",
    "clientes['sei_letal'] = clientes['SEI_MCDO'].apply(lambda _: _.upper() in text_sei_mas_preocupa).astype(int)\n",
    "clientes['sei_preocupa'] = clientes['SEI_MCDO'].apply(lambda _: _.upper() in text_sei_mas_preocupa or _.upper() in text_sei_medio_peocupa).astype(int)\n",
    "clientes['sei_observado_banca'] = clientes['SEI_MCDO'].apply(lambda _: _.upper() in text_sei_banca).astype(int)"
   ]
  },
  {
   "cell_type": "code",
   "execution_count": null,
   "metadata": {},
   "outputs": [],
   "source": [
    "clientes.shape"
   ]
  },
  {
   "cell_type": "markdown",
   "metadata": {},
   "source": [
    "\n",
    "\n",
    "### >> UN VISTAZO AL RIESGO"
   ]
  },
  {
   "cell_type": "code",
   "execution_count": null,
   "metadata": {},
   "outputs": [],
   "source": [
    "clientes['BUCKET'].value_counts()"
   ]
  },
  {
   "cell_type": "code",
   "execution_count": null,
   "metadata": {},
   "outputs": [],
   "source": [
    "sql_tc = \"\"\"\n",
    "    SELECT * FROM TIPO_CAMBIO WHERE FECHA = (SELECT MAX(FECHA) FROM TIPO_CAMBIO)\n",
    "\"\"\"\n",
    "tc = pd.read_sql(\n",
    "   sql_tc , connection_market\n",
    ")\n",
    "tc.head(3)"
   ]
  },
  {
   "cell_type": "code",
   "execution_count": null,
   "metadata": {},
   "outputs": [],
   "source": [
    "ultimo_tipo_cambio = tc.iloc[0]['tc_punta']\n",
    "ultimo_tipo_cambio"
   ]
  },
  {
   "cell_type": "code",
   "execution_count": null,
   "metadata": {},
   "outputs": [],
   "source": [
    "ticket_promedio = (clientes.groupby(by=['BUCKET'])['RIESGO'].agg(['median']).apply(\n",
    "    lambda _: round(_*ultimo_tipo_cambio, 1))\n",
    ").to_dict()['median']"
   ]
  },
  {
   "cell_type": "code",
   "execution_count": null,
   "metadata": {},
   "outputs": [],
   "source": [
    "def format_monetary(val):\n",
    "    if val < 1000000:\n",
    "        return str(round(val/1000, 1)) + ' M'\n",
    "    else:\n",
    "        return str(round(val/1000000, 1)) + ' MM'\n",
    "\n",
    "clientes['TICKET_PROMEDIO_EN_RIESGO'] = clientes['BUCKET'].map(ticket_promedio)\n",
    "clientes['TICKET_PROMEDIO_EN_RIESGO'] = clientes[['TICKET_PROMEDIO_EN_RIESGO', 'BUCKET']].apply(lambda _: 'Bucket {} - {}'.format(\n",
    "    int(_[1]), format_monetary(_[0])).replace(\" \", \"_\"),  axis=1)\n",
    "\n",
    "clientes['TICKET_PROMEDIO_EN_RIESGO'].value_counts()"
   ]
  },
  {
   "cell_type": "code",
   "execution_count": null,
   "metadata": {},
   "outputs": [],
   "source": [
    "clientes['FEVE'].value_counts()"
   ]
  },
  {
   "cell_type": "code",
   "execution_count": null,
   "metadata": {},
   "outputs": [],
   "source": [
    "from datetime import datetime, timedelta\n",
    "from dateutil.relativedelta import relativedelta\n",
    "\n",
    "now = datetime.now()"
   ]
  },
  {
   "cell_type": "code",
   "execution_count": null,
   "metadata": {},
   "outputs": [],
   "source": []
  },
  {
   "cell_type": "markdown",
   "metadata": {},
   "source": [
    "### CREACION DE BASE"
   ]
  },
  {
   "cell_type": "code",
   "execution_count": null,
   "metadata": {},
   "outputs": [],
   "source": [
    "clientes.shape, clientes['CODUNICOCLI'].unique().shape"
   ]
  },
  {
   "cell_type": "code",
   "execution_count": null,
   "metadata": {},
   "outputs": [],
   "source": [
    "clientes['NUM_RUC'].isnull().sum(),  clientes['CODDOC'].isnull().sum()"
   ]
  },
  {
   "cell_type": "code",
   "execution_count": null,
   "metadata": {},
   "outputs": [],
   "source": [
    "print(clientes.shape)\n",
    "clientes = clientes[clientes['NUM_RUC'].notnull()]\n",
    "print(clientes.shape)"
   ]
  },
  {
   "cell_type": "code",
   "execution_count": null,
   "metadata": {},
   "outputs": [],
   "source": []
  },
  {
   "cell_type": "code",
   "execution_count": null,
   "metadata": {},
   "outputs": [],
   "source": [
    "clientes['COD_UNICO'] = clientes['CODUNICOCLI'].copy()\n",
    "clientes['RUC'] = clientes['NUM_RUC'].copy()\n",
    "clientes['UNIVERSO_MESA'] = 1\n",
    "\n",
    "base = clientes[['PERIODO', 'COD_UNICO', 'RUC', 'FLG_VIGENTE', 'NOMBRE_COMPLETO',\n",
    "       'FLG_SUSPENDIDO', 'FLG_VENCIDA', 'FLG_CANCELADO', 'FLG_MONOLINEA',\n",
    "       'FLG_SOLO_REACTIVA', 'FLG_POSICION', 'FUNNEL_1', 'FUNNEL_2', 'FUNNEL_3',\n",
    "       'RIESGO', 'COD_GRUPO_ECONOMICO', 'DES_GRUPO_ECONOMICO', 'ZONAL',\n",
    "       'ENCARGADO', 'NOMBRE_JEFE', 'CLASIFICACION_LIST_360', 'FUNNEL_4', 'FUNNEL_ALERTA',\n",
    "       'DESPRIORIZACION_ADM','BUCKET', 'FEVE', 'ES_ACTIVO',\n",
    "       'CLASIF_SBS', 'CLASIF_IBK', 'DEPARTAMENTO', 'FEC_INGRESO',\n",
    "       'FEC_PRIMER_PRODUCTO_APERTURADO', 'SEI_MCDO', 'sei_preocupa', 'sei_letal', 'sei_observado_banca',\n",
    "       'TICKET_PROMEDIO_EN_RIESGO', 'UNIVERSO_MESA', 'RIESGO_REACTIVA_NO_C', 'RIESGO_DIRECTO', 'RIESGO_INDIRECTO'\n",
    "]]\n",
    "\n",
    "base.head()"
   ]
  },
  {
   "cell_type": "code",
   "execution_count": null,
   "metadata": {},
   "outputs": [],
   "source": [
    "base['CLASIF_SBS'] = base['CLASIF_SBS'].fillna('NORMAL')     # si no tiene clasificacion se pone NORMAL\n",
    "base['CLASIF_IBK'] = base['CLASIF_IBK'].fillna('NORMAL')     # si no tiene clasificacion se pone NORMAL\n",
    "\n",
    "base['CLASIF_NO_NORMAL'] = base[['CLASIF_SBS', 'CLASIF_IBK']].apply(\n",
    "    lambda _: (_[0] != 'NORMAL' or _[1] != 'NORMAL') and _[0] != '' and _[1] != '', \n",
    "    axis=1\n",
    ").astype(int)"
   ]
  },
  {
   "cell_type": "code",
   "execution_count": null,
   "metadata": {},
   "outputs": [],
   "source": [
    "\n",
    "pd.crosstab(\n",
    "    base['CLASIF_NO_NORMAL'], base['PERIODO']\n",
    ")"
   ]
  },
  {
   "cell_type": "code",
   "execution_count": null,
   "metadata": {},
   "outputs": [],
   "source": [
    "#base[base['CLASIF_NO_NORMAL'] == 1][['CLASIF_SBS']]"
   ]
  },
  {
   "cell_type": "code",
   "execution_count": null,
   "metadata": {},
   "outputs": [],
   "source": [
    "base['DES_GRUPO_ECONOMICO'].value_counts(dropna=False)"
   ]
  },
  {
   "cell_type": "code",
   "execution_count": null,
   "metadata": {},
   "outputs": [],
   "source": [
    "base.shape"
   ]
  },
  {
   "cell_type": "code",
   "execution_count": null,
   "metadata": {},
   "outputs": [],
   "source": [
    "base['NO_EST_ASOCIADO_A_GRUPO_ECONOMICO'] = base['DES_GRUPO_ECONOMICO'].apply(lambda _: pd.isnull(_) or _.strip() == '').astype(int)\n",
    "base['NO_EST_ASOCIADO_A_GRUPO_ECONOMICO'].value_counts()"
   ]
  },
  {
   "cell_type": "code",
   "execution_count": null,
   "metadata": {},
   "outputs": [],
   "source": []
  },
  {
   "cell_type": "markdown",
   "metadata": {},
   "source": [
    "## ANALISIS DE GRUPO ECONOMICO"
   ]
  },
  {
   "cell_type": "code",
   "execution_count": null,
   "metadata": {},
   "outputs": [],
   "source": [
    "#try:\n",
    "#    connection_b20.close()\n",
    "#except:\n",
    "#    pass\n",
    "\n",
    "try:\n",
    "    connection_market.close()\n",
    "except:\n",
    "    pass\n",
    "\n",
    "\n",
    "#conneciom MARKET\n",
    "connection_market = pymssql.connect(host='10.11.12.90\\BDT',\n",
    "                             user='ibetlmarket',\n",
    "                             port=1433,\n",
    "                             password='m@rk3t2o15',\n",
    "                             database='MARKET'\n",
    "                            )"
   ]
  },
  {
   "cell_type": "code",
   "execution_count": null,
   "metadata": {},
   "outputs": [],
   "source": [
    "ge = \"\"\"\n",
    "    SELECT * FROM ODS.HD_VMVP_VPC_GRUPO_ECONOMICO_ALERTA with (nolock)\n",
    "\"\"\"\n",
    "ge = pd.read_sql(\n",
    "   ge , connection_market\n",
    ")\n",
    "ge.head(3)"
   ]
  },
  {
   "cell_type": "code",
   "execution_count": null,
   "metadata": {},
   "outputs": [],
   "source": [
    "ge.shape, ge['PERIODO'].max()"
   ]
  },
  {
   "cell_type": "code",
   "execution_count": null,
   "metadata": {},
   "outputs": [],
   "source": [
    "ge =  ge[(ge['DES_GRUPO_ECONOMICO'].notnull()) & (ge['DES_GRUPO_ECONOMICO'] != '')]\n",
    "ge.shape"
   ]
  },
  {
   "cell_type": "code",
   "execution_count": null,
   "metadata": {},
   "outputs": [],
   "source": [
    "#list(range(9))"
   ]
  },
  {
   "cell_type": "code",
   "execution_count": null,
   "metadata": {},
   "outputs": [],
   "source": [
    "ge['PERCENT_GRUPO_ECON_VPC_SEGUIR'] = ge['NRO_FEVE_SEGUIR'] / ge['NRO_MIEMBROS_GRUPO_ECONOMICO']\n",
    "ge['PERCENT_GRUPO_ECON_VPC_FEVE_DURO'] = ge['NRO_FEVE_DURO'] / ge['NRO_MIEMBROS_GRUPO_ECONOMICO']\n",
    "ge['PERCENT_GRUPO_ECON_VPC_NO_CLASIF_NORMAL'] = ge['NRO_CLASIF_NO_NORMAL'] / ge['NRO_MIEMBROS_GRUPO_ECONOMICO']\n",
    "\n",
    "for orden in range(6):\n",
    "    print(orden)\n",
    "    ge['TIENE_{}_O_MAS_GRUPO_ECON_VPC_SEGUIR'.format(orden +1)] =  ge['NRO_FEVE_SEGUIR'].apply(lambda _: _ >= orden + 1).astype(int)\n",
    "    ge['TIENE_{}_O_MAS_GRUPO_ECON_VPC_FEVE_DRO'.format(orden +1)] = ge['NRO_FEVE_DURO'].apply(lambda _: _ >= orden + 1).astype(int)\n",
    "    ge['TIENE_{}_O_MAS_GRUPO_ECON_VPC_NO_CLASIF_NORMAL'.format(orden +1)] = ge['NRO_CLASIF_NO_NORMAL'].apply(lambda _: _ >= orden + 1).astype(int)\n",
    "\n",
    "\n",
    "for orden in range(10, 40, 10):\n",
    "    ge['TIENE_{}PERCENT_O_MAS_GRUPO_ECON_VPC_SEGUIR'.format(orden)] =  ge['NRO_FEVE_SEGUIR'].apply(lambda _: _>= orden/100).astype(int)\n",
    "    ge['TIENE_{}PERCENT_O_MAS_GRUPO_ECON_VPC_FEVE_DRO'.format(orden)] = ge['NRO_FEVE_DURO'].apply(lambda _: _>= orden/100).astype(int)\n",
    "    ge['TIENE_{}PERCENT_O_MAS_GRUPO_ECON_NO_CLASIF_NORMAL'.format(orden)] = ge['NRO_CLASIF_NO_NORMAL'].apply(lambda _: _>= orden/100).astype(int)\n",
    "    \n",
    "    \n",
    "\n",
    "ge = ge.rename(columns={\n",
    "    'NRO_CLASIF_NO_NORMAL': 'NRO_CLASIF_NO_NORMAL_GRUPO_EECON',\n",
    "    'NRO_FEVE_SEGUIR': 'NRO_FEVE_SEGUIR_GRUPO_EECON',\n",
    "    'NRO_FEVE_DURO': 'NRO_FEVE_DURO_GRUPO_EECON'\n",
    "})\n",
    "\n",
    "ge.head()"
   ]
  },
  {
   "cell_type": "code",
   "execution_count": null,
   "metadata": {},
   "outputs": [],
   "source": [
    "base.shape"
   ]
  },
  {
   "cell_type": "code",
   "execution_count": null,
   "metadata": {},
   "outputs": [],
   "source": [
    "ge['PERIODO'] = ge['PERIODO'].astype(str)\n",
    "base = base.merge(\n",
    "    ge, how='left', on=['PERIODO', 'DES_GRUPO_ECONOMICO']\n",
    ")\n",
    "base.shape"
   ]
  },
  {
   "cell_type": "markdown",
   "metadata": {},
   "source": [
    "#### >>> HISTORICOS DE COMPORTAMIENTO CLIENTE EN GRUPO ECONÓMICO"
   ]
  },
  {
   "cell_type": "code",
   "execution_count": null,
   "metadata": {},
   "outputs": [],
   "source": [
    "for col_percent in ['PERCENT_GRUPO_ECON_VPC_SEGUIR', 'PERCENT_GRUPO_ECON_VPC_FEVE_DURO', 'PERCENT_GRUPO_ECON_VPC_NO_CLASIF_NORMAL']:\n",
    "    \n",
    "    name = col_percent.split('VPC_')[-1]\n",
    "    print(\">\"*50, name)\n",
    "    acum = generate_listado_u3m(\n",
    "        ge, 'listados_percent', values=col_percent,\n",
    "        index=['DES_GRUPO_ECONOMICO'], columns=['PERIODO'], aggfunc=np.max\n",
    "    )\n",
    "    acum['TENDENCIA_PERCENT_{}_GRUPO_ECON_U7M'.format(name)] = acum['listados_percent'].apply(lambda _: np.polyfit(list(range(1, 8)), _[-7:], 1)[0])\n",
    "    acum['GRUPO_ECON_TIENE_TENDENCIA_AUMENTO_{}_U7M'.format(name)] = acum['TENDENCIA_PERCENT_{}_GRUPO_ECON_U7M'.format(name)].apply(lambda _: _ > 0).astype(int)\n",
    "    \n",
    "    acum['TENDENCIA_PERCENT_{}_GRUPO_ECON_U3M'.format(name)] = acum['listados_percent'].apply(lambda _: np.polyfit(list(range(1, 4)), _[-3:], 1)[0])\n",
    "    acum['GRUPO_ECON_TIENE_TENDENCIA_AUMENTO_{}_U3M'.format(name)] = acum['TENDENCIA_PERCENT_{}_GRUPO_ECON_U3M'.format(name)].apply(lambda _: _ > 0).astype(int)\n",
    "    "
   ]
  },
  {
   "cell_type": "code",
   "execution_count": null,
   "metadata": {},
   "outputs": [],
   "source": [
    "acum.head()"
   ]
  },
  {
   "cell_type": "code",
   "execution_count": null,
   "metadata": {},
   "outputs": [],
   "source": [
    "acum['GRUPO_ECON_MANTIENE_TENDENCIA_CLASIF_NO_NORMAL'] = acum[['TENDENCIA_PERCENT_NO_CLASIF_NORMAL_GRUPO_ECON_U3M', 'TENDENCIA_PERCENT_NO_CLASIF_NORMAL_GRUPO_ECON_U7M']].apply(\n",
    "    lambda _: _[0] > 0 and _[1] > 0, axis=1\n",
    ").astype(int)\n",
    "\n",
    "acum['GRUPO_ECON_MANTIENE_TENDENCIA_FUERTE_CLASIF_NO_NORMAL'] = acum[['TENDENCIA_PERCENT_NO_CLASIF_NORMAL_GRUPO_ECON_U3M', 'TENDENCIA_PERCENT_NO_CLASIF_NORMAL_GRUPO_ECON_U7M']].apply(\n",
    "    lambda _: _[0] > 0.001 and _[1] > 0.001, axis=1\n",
    ").astype(int)\n",
    "\n",
    "pd.crosstab(\n",
    "    acum['GRUPO_ECON_MANTIENE_TENDENCIA_CLASIF_NO_NORMAL'], acum['PERIODO']\n",
    ")"
   ]
  },
  {
   "cell_type": "code",
   "execution_count": null,
   "metadata": {},
   "outputs": [],
   "source": [
    "acum['PERIODO'] = acum['PERIODO'].astype(str)\n",
    "base = base.merge(\n",
    "    acum, how='left', on=['PERIODO', 'DES_GRUPO_ECONOMICO']\n",
    ")\n",
    "base.shape"
   ]
  },
  {
   "cell_type": "code",
   "execution_count": null,
   "metadata": {},
   "outputs": [],
   "source": []
  },
  {
   "cell_type": "code",
   "execution_count": null,
   "metadata": {},
   "outputs": [],
   "source": []
  },
  {
   "cell_type": "markdown",
   "metadata": {},
   "source": [
    "## ANALISIS SEI MERCADO"
   ]
  },
  {
   "cell_type": "code",
   "execution_count": null,
   "metadata": {},
   "outputs": [],
   "source": [
    "ge = \"\"\"\n",
    "    SELECT * FROM ODS.HD_VMVP_VPC_SEI_ALERTA_CARTERA WITH (NOLOCK)\n",
    "\"\"\"\n",
    "ge = pd.read_sql(\n",
    "   ge , connection_market\n",
    ")\n",
    "ge['PERCENT_SEI_VPC_SEGUIR'] = ge['NRO_FEVE_SEGUIR'] / ge['NRO_MISMO_SEI']\n",
    "ge['PERCENT_SEI_VPC_FEVE_DURO'] = ge['NRO_FEVE_DURO'] / ge['NRO_MISMO_SEI']\n",
    "ge['PERCENT_SEI_VPC_NO_CLASIF_NORMAL'] = ge['NRO_CLASIF_NO_NORMAL'] / ge['NRO_MISMO_SEI']\n",
    "\n",
    "ge.head()"
   ]
  },
  {
   "cell_type": "code",
   "execution_count": null,
   "metadata": {},
   "outputs": [],
   "source": [
    "print(ge.shape)\n",
    "ge =  ge[(ge['SEI_MCDO'].notnull()) & (ge['SEI_MCDO'] != '')]\n",
    "ge.shape"
   ]
  },
  {
   "cell_type": "code",
   "execution_count": null,
   "metadata": {},
   "outputs": [],
   "source": [
    "ge['PERCENT_SEI_VPC_NO_CLASIF_NORMAL'].hist()"
   ]
  },
  {
   "cell_type": "code",
   "execution_count": null,
   "metadata": {},
   "outputs": [],
   "source": [
    "ge['PERCENT_SEI_VPC_SEGUIR'].hist()"
   ]
  },
  {
   "cell_type": "markdown",
   "metadata": {},
   "source": [
    "### >> TOP PERCENTILES DE LA ÚLTIMA COSECHA"
   ]
  },
  {
   "cell_type": "code",
   "execution_count": null,
   "metadata": {},
   "outputs": [],
   "source": [
    "top_percent_seguir = ge['PERCENT_SEI_VPC_SEGUIR'].quantile(0.75)\n",
    "top_percent_seguir"
   ]
  },
  {
   "cell_type": "code",
   "execution_count": null,
   "metadata": {},
   "outputs": [],
   "source": [
    "ge[ge['PERCENT_SEI_VPC_SEGUIR'] >= top_percent_seguir]['SEI_MCDO'].unique()"
   ]
  },
  {
   "cell_type": "code",
   "execution_count": null,
   "metadata": {},
   "outputs": [],
   "source": [
    "ge['SEI_TOP_PERCENT_FEVE_SEGUIR'] = ge['PERCENT_SEI_VPC_SEGUIR'].apply(lambda _: _ >= top_percent_seguir).astype(int)"
   ]
  },
  {
   "cell_type": "code",
   "execution_count": null,
   "metadata": {},
   "outputs": [],
   "source": [
    "#NRO_CLASIF_NO_NORMAL \tNRO_FEVE_DURO \tNRO_FEVE_SEGUIR"
   ]
  },
  {
   "cell_type": "code",
   "execution_count": null,
   "metadata": {},
   "outputs": [],
   "source": [
    "for orden in range(10, 50, 5):\n",
    "    print(orden, end=' ')\n",
    "    ge['TIENE_{}PERCENT_O_MAS_SEI_VPC_SEGUIR'.format(orden)] =  ge['NRO_FEVE_SEGUIR'].apply(lambda _: _>= orden/100).astype(int)\n",
    "    ge['TIENE_{}PERCENT_O_MAS_SEI_VPC_FEVE_DRO'.format(orden)] = ge['NRO_FEVE_DURO'].apply(lambda _: _>= orden/100).astype(int)\n",
    "    ge['TIENE_{}PERCENT_O_MAS_SEI_NO_CLASIF_NORMAL'.format(orden)] = ge['NRO_CLASIF_NO_NORMAL'].apply(lambda _: _>= orden/100).astype(int)\n",
    "\n",
    "\n",
    "ge = ge.rename(columns={\n",
    "    'NRO_CLASIF_NO_NORMAL': 'NRO_CLASIF_NO_NORMAL_SEI',\n",
    "    'NRO_FEVE_SEGUIR': 'NRO_FEVE_SEGUIR_SEI',\n",
    "    'NRO_FEVE_DURO': 'NRO_FEVE_DURO_SEI'\n",
    "})\n",
    "ge.head()"
   ]
  },
  {
   "cell_type": "code",
   "execution_count": null,
   "metadata": {},
   "outputs": [],
   "source": [
    "ge['PERIODO'] = ge['PERIODO'].astype(str)\n",
    "base = base.merge(\n",
    "    ge, how='left', on=['PERIODO', 'SEI_MCDO']\n",
    ")\n",
    "base.shape"
   ]
  },
  {
   "cell_type": "code",
   "execution_count": null,
   "metadata": {},
   "outputs": [],
   "source": [
    "for col_percent in ['PERCENT_SEI_VPC_SEGUIR', 'PERCENT_SEI_VPC_FEVE_DURO', 'PERCENT_SEI_VPC_NO_CLASIF_NORMAL']:\n",
    "    \n",
    "    name = col_percent.split('VPC_')[-1]\n",
    "    print(\">\"*50, name)\n",
    "    acum = generate_listado_u3m(\n",
    "        ge, 'listados_percent', values=col_percent,\n",
    "        index=['SEI_MCDO'], columns=['PERIODO'], aggfunc=np.max\n",
    "    )\n",
    "    acum['TENDENCIA_PERCENT_{}_SEI_U7M'.format(name)] = acum['listados_percent'].apply(lambda _: np.polyfit(list(range(1, 8)), _[-7:], 1)[0])\n",
    "    acum['SEI_TIENE_TENDENCIA_AUMENTO_{}_U7M'.format(name)] = acum['TENDENCIA_PERCENT_{}_SEI_U7M'.format(name)].apply(lambda _: _ > 0).astype(int)\n",
    "    \n",
    "    acum['TENDENCIA_PERCENT_{}_SEI_U3M'.format(name)] = acum['listados_percent'].apply(lambda _: np.polyfit(list(range(1, 4)), _[-3:], 1)[0])\n",
    "    acum['SEI_TIENE_TENDENCIA_AUMENTO_{}_U3M'.format(name)] = acum['TENDENCIA_PERCENT_{}_SEI_U3M'.format(name)].apply(lambda _: _ > 0).astype(int)"
   ]
  },
  {
   "cell_type": "code",
   "execution_count": null,
   "metadata": {},
   "outputs": [],
   "source": [
    "acum.head()"
   ]
  },
  {
   "cell_type": "code",
   "execution_count": null,
   "metadata": {},
   "outputs": [],
   "source": [
    "acum['SEI_MANTIENE_TENDENCIA_CRECIENTE_FUERTE_CLASIF_NO_NORMAL'] = acum[['TENDENCIA_PERCENT_NO_CLASIF_NORMAL_SEI_U3M', 'TENDENCIA_PERCENT_NO_CLASIF_NORMAL_SEI_U7M']].apply(\n",
    "    lambda _: _[0] > 0.001 and _[1] > 0.001, axis=1\n",
    ").astype(int)\n",
    "\n",
    "acum['SEI_MANTIENE_TENDENCIA_CRECIENTE_CLASIF_NO_NORMAL'] = acum[['TENDENCIA_PERCENT_NO_CLASIF_NORMAL_SEI_U3M', 'TENDENCIA_PERCENT_NO_CLASIF_NORMAL_SEI_U7M']].apply(\n",
    "    lambda _: _[0] > 0 and _[1] > 0, axis=1\n",
    ").astype(int)\n",
    "\n",
    "pd.crosstab(\n",
    "    acum['SEI_MANTIENE_TENDENCIA_CRECIENTE_CLASIF_NO_NORMAL'], acum['PERIODO']\n",
    ")"
   ]
  },
  {
   "cell_type": "code",
   "execution_count": null,
   "metadata": {},
   "outputs": [],
   "source": [
    "acum['PERIODO'] = acum['PERIODO'].astype(str)\n",
    "base = base.merge(\n",
    "    acum, how='left', on=['PERIODO', 'SEI_MCDO']\n",
    ")\n",
    "base.shape"
   ]
  },
  {
   "cell_type": "code",
   "execution_count": null,
   "metadata": {},
   "outputs": [],
   "source": []
  },
  {
   "cell_type": "code",
   "execution_count": null,
   "metadata": {},
   "outputs": [],
   "source": [
    "#base = new_dataFrame.merge(\n",
    "#    base[['COD_UNICO', 'BUCKET', 'FEVE_FICHA', 'ESTADO_FICHA', 'RIESGO', 'TICKET_PROMEDIO_EN_RIESGO', 'UNIVERSO_MESA']],\n",
    "#    how='left', on=['COD_UNICO']\n",
    "#)\n",
    "#del new_dataFrame\n",
    "base['PERIODO'].value_counts()"
   ]
  },
  {
   "cell_type": "code",
   "execution_count": null,
   "metadata": {},
   "outputs": [],
   "source": [
    "gc.collect()\n",
    "del acum\n",
    "del ge"
   ]
  },
  {
   "cell_type": "code",
   "execution_count": null,
   "metadata": {},
   "outputs": [],
   "source": [
    "base.shape"
   ]
  },
  {
   "cell_type": "code",
   "execution_count": null,
   "metadata": {},
   "outputs": [],
   "source": [
    "base['CLASIF_NO_NORMAL'] = base['CLASIF_NO_NORMAL'].astype(int)"
   ]
  },
  {
   "cell_type": "code",
   "execution_count": null,
   "metadata": {},
   "outputs": [],
   "source": [
    "pd.crosstab(\n",
    "    base['CLASIF_NO_NORMAL'], base['PERIODO']\n",
    ")"
   ]
  },
  {
   "cell_type": "code",
   "execution_count": null,
   "metadata": {},
   "outputs": [],
   "source": [
    "#base['PERIODO'].value_counts(dropna=False).sort_index(ascending=False)"
   ]
  },
  {
   "cell_type": "code",
   "execution_count": null,
   "metadata": {},
   "outputs": [],
   "source": []
  },
  {
   "cell_type": "markdown",
   "metadata": {},
   "source": [
    "### LINEAS"
   ]
  },
  {
   "cell_type": "code",
   "execution_count": null,
   "metadata": {},
   "outputs": [],
   "source": [
    "try:\n",
    "    connection_market.close()\n",
    "except:\n",
    "    pass\n",
    "\n",
    "#conneciom MARKET\n",
    "connection_market = pymssql.connect(**dicc_conection_market)\n",
    "gc.collect()"
   ]
  },
  {
   "cell_type": "code",
   "execution_count": null,
   "metadata": {},
   "outputs": [],
   "source": [
    "sql0 = \"\"\"\n",
    "    SELECT *\n",
    "    FROM ODS.HD_VMVP_LINEAS_ALERTAS_CARTERA_BE  WITH (NOLOCK)\n",
    "\"\"\"\n",
    "\n",
    "lineas = pd.read_sql(\n",
    "   sql0 , connection_market\n",
    ")\n",
    "lineas['PERIODO'] = lineas['PERIODO'].astype(str)\n",
    "lineas['COD_UNICO'] = lineas['COD_UNICO'].astype(str)\n",
    "lineas.head(2)"
   ]
  },
  {
   "cell_type": "code",
   "execution_count": null,
   "metadata": {},
   "outputs": [],
   "source": [
    "lineas['PERIODO'].max(), lineas['PERIODO'].min(), lineas.shape, lineas.groupby(by=['COD_UNICO', 'PERIODO']).size().shape"
   ]
  },
  {
   "cell_type": "code",
   "execution_count": null,
   "metadata": {},
   "outputs": [],
   "source": [
    "lineas['PERIODO'].value_counts(dropna=False)"
   ]
  },
  {
   "cell_type": "code",
   "execution_count": null,
   "metadata": {},
   "outputs": [],
   "source": [
    "lineas['ESTADO_LINEA'].value_counts(dropna=False)"
   ]
  },
  {
   "cell_type": "code",
   "execution_count": null,
   "metadata": {},
   "outputs": [],
   "source": [
    "lineas['ESTADO_LINEA'] = lineas['ESTADO_LINEA'].apply(lambda _: _.upper())\n",
    "lineas['ESTADO_LINEA'].value_counts(dropna=False)"
   ]
  },
  {
   "cell_type": "markdown",
   "metadata": {},
   "source": [
    "#### Buscando viegentes"
   ]
  },
  {
   "cell_type": "code",
   "execution_count": null,
   "metadata": {},
   "outputs": [],
   "source": [
    "acum = generate_listado_u3m(\n",
    "    lineas[lineas['ESTADO_LINEA'] == 'VIGENTE'], 'listados_vigentes_lineas', values='MAX_VENCIMIENTO',\n",
    "    index=['COD_UNICO'], columns=['PERIODO'], aggfunc=len\n",
    ")\n",
    "acum.head()"
   ]
  },
  {
   "cell_type": "code",
   "execution_count": null,
   "metadata": {},
   "outputs": [],
   "source": [
    "def searhc_no_zero(lista):\n",
    "    meses = 0\n",
    "    for val in lista[::-1]:\n",
    "        if val > 0:\n",
    "            return meses\n",
    "        meses += 1\n",
    "    \n",
    "    return meses\n",
    "\n",
    "acum['NO_TIENE_LINEA_VIGENTE_MES_ACTUAL'] = acum['listados_vigentes_lineas'].apply(lambda _: _[-1] == 0).astype(int)\n",
    "acum['TIENE_LINEAS_VIGENTES_MES_ACTUAL'] = acum['listados_vigentes_lineas'].apply(lambda _: _[-1] == 1).astype(int)\n",
    "acum['NRO_MESES_SIN_LINEA_VIGENTE'] = acum['listados_vigentes_lineas'].apply(searhc_no_zero).astype(int)\n",
    "acum['TIENE_UNA_O_MAS_LINEAS_VIGENTES_U2M'] = acum['listados_vigentes_lineas'].apply(lambda _: _[-1] > 0 or _[-2] > 0).astype(int)\n",
    "acum['TIENE_UNA_O_MAS_LINEAS_VIGENTES_U3M'] = acum['listados_vigentes_lineas'].apply(lambda _: _[-1] > 0 or _[-2] > 0 or _[-3] > 0).astype(int)\n",
    "\n",
    "del acum['listados_vigentes_lineas']"
   ]
  },
  {
   "cell_type": "code",
   "execution_count": null,
   "metadata": {},
   "outputs": [],
   "source": [
    "print(base.shape)\n",
    "\n",
    "acum['PERIODO'] = acum['PERIODO'].astype(str)\n",
    "base = base.merge(\n",
    "    acum, how='left', on=['PERIODO', 'COD_UNICO']\n",
    ")\n",
    "print(base.shape)"
   ]
  },
  {
   "cell_type": "markdown",
   "metadata": {},
   "source": [
    "### COMPARACION FLAG_VIGENTE WORK FLOW vs EQUIPO LINEAS"
   ]
  },
  {
   "cell_type": "code",
   "execution_count": null,
   "metadata": {},
   "outputs": [],
   "source": [
    "for periodo in sorted(base['PERIODO'].unique()):\n",
    "    print(\">> \", periodo)\n",
    "    \n",
    "    display(pd.crosstab(\n",
    "        base[base['PERIODO'] == periodo]['FLG_VIGENTE'].fillna(-1), base[base['PERIODO'] == periodo]['TIENE_LINEAS_VIGENTES_MES_ACTUAL'].fillna(-1)\n",
    "    ))\n",
    "    \n",
    "    print(\"/\"*100)"
   ]
  },
  {
   "cell_type": "code",
   "execution_count": null,
   "metadata": {},
   "outputs": [],
   "source": [
    "base['FEC_INGRESO'] = pd.to_datetime(\n",
    "    base['FEC_INGRESO'], errors='coerce', format='%Y-%m-%d'\n",
    ")\n",
    "base['FEC_PRIMER_PRODUCTO_APERTURADO'] = pd.to_datetime(\n",
    "    base['FEC_PRIMER_PRODUCTO_APERTURADO'], errors='coerce', format='%Y-%m-%d'\n",
    ")\n",
    "\n",
    "def apply_diff_date(serie_diff):\n",
    "    return (serie_diff / np.timedelta64(1,'M')).round(3)\n",
    "\n",
    "base['DIFF_TIME_INICIO_IBK_FIRST_PRODUCT'] = apply_diff_date(\n",
    "    base['FEC_PRIMER_PRODUCTO_APERTURADO'] - base['FEC_INGRESO']\n",
    ")"
   ]
  },
  {
   "cell_type": "code",
   "execution_count": null,
   "metadata": {},
   "outputs": [],
   "source": [
    "base['DIFF_TIME_INICIO_IBK_FIRST_PRODUCT'].hist()"
   ]
  },
  {
   "cell_type": "code",
   "execution_count": null,
   "metadata": {},
   "outputs": [],
   "source": [
    "base['PERIODO_DATE'] = pd.to_datetime(\n",
    "    base['PERIODO'], errors='coerce', format='%Y%m'\n",
    ")\n",
    "base['ANTIGUEDAD_IBK'] = apply_diff_date(\n",
    "    base['PERIODO_DATE'] - base['FEC_INGRESO']\n",
    ")\n",
    "base['ANTIGUEDAD_IBK'].hist()"
   ]
  },
  {
   "cell_type": "markdown",
   "metadata": {},
   "source": [
    "#### >>> WORK FLOW dice SI, equipo lineas dice NO"
   ]
  },
  {
   "cell_type": "code",
   "execution_count": null,
   "metadata": {},
   "outputs": [],
   "source": [
    "base[\n",
    "    (base['PERIODO'] == '202103') & (base['TIENE_LINEAS_VIGENTES_MES_ACTUAL'] == 0) & (base['FLG_VIGENTE'] == 1)\n",
    "][['COD_UNICO', 'NOMBRE_COMPLETO', 'FEC_INGRESO']].head(10)"
   ]
  },
  {
   "cell_type": "markdown",
   "metadata": {},
   "source": [
    "#### >>> WORK FLOW dice SI, equipo lineas dice no tiene vigente despues del 2019"
   ]
  },
  {
   "cell_type": "code",
   "execution_count": null,
   "metadata": {},
   "outputs": [],
   "source": [
    "base[\n",
    "    (base['PERIODO'] == '202103') & (base['TIENE_LINEAS_VIGENTES_MES_ACTUAL'].isnull()) & (base['FLG_VIGENTE'] == 1)\n",
    "][['COD_UNICO', 'NOMBRE_COMPLETO', 'FEC_INGRESO']].head(10)"
   ]
  },
  {
   "cell_type": "markdown",
   "metadata": {},
   "source": [
    "#### >>> WORK FLOW dice NO, equipo lineas dice SI"
   ]
  },
  {
   "cell_type": "code",
   "execution_count": null,
   "metadata": {},
   "outputs": [],
   "source": [
    "base[\n",
    "    (base['PERIODO'] == periodo) & (base['TIENE_LINEAS_VIGENTES_MES_ACTUAL'] == 1) & (base['FLG_VIGENTE'] == 0)\n",
    "][['COD_UNICO', 'NOMBRE_COMPLETO']].head(10)"
   ]
  },
  {
   "cell_type": "code",
   "execution_count": null,
   "metadata": {},
   "outputs": [],
   "source": [
    "base['TIENE_2MESES_SIN_LINEA_VIGENTE']  = base[['NRO_MESES_SIN_LINEA_VIGENTE', 'ANTIGUEDAD_IBK']].apply(lambda _: _[0] == 2 and _[1] >= 2, axis=1).astype(int)\n",
    "base['TIENE_3MESES_SIN_LINEA_VIGENTE']  = base[['NRO_MESES_SIN_LINEA_VIGENTE', 'ANTIGUEDAD_IBK']].apply(lambda _:  _[0] == 3 and _[1] >= 3, axis=1).astype(int)\n",
    "base['TIENE_4MESES_SIN_LINEA_VIGENTE']  = base[['NRO_MESES_SIN_LINEA_VIGENTE', 'ANTIGUEDAD_IBK']].apply(lambda _:  _[0] == 4 and _[1] >= 4, axis=1).astype(int)\n",
    "\n",
    "base['TIENE_MAS_DE_1MES_SIN_LINEA_VIGENTE']  = base[['NRO_MESES_SIN_LINEA_VIGENTE', 'ANTIGUEDAD_IBK']].apply(lambda _:  _[0] > 1 and _[1] > 1, axis=1).astype(int)\n",
    "base['TIENE_MAS_DE_2MESES_SIN_LINEA_VIGENTE']  = base[['NRO_MESES_SIN_LINEA_VIGENTE', 'ANTIGUEDAD_IBK']].apply(lambda _: _[0] > 2 and _[1] > 2, axis=1).astype(int)\n",
    "base['TIENE_MAS_DE_3MESES_SIN_LINEA_VIGENTE']  = base[['NRO_MESES_SIN_LINEA_VIGENTE', 'ANTIGUEDAD_IBK']].apply(lambda _: _[0] > 3 and _[1] > 3, axis=1).astype(int)\n",
    "base['TIENE_MAS_DE_4MESES_SIN_LINEA_VIGENTE']  = base[['NRO_MESES_SIN_LINEA_VIGENTE', 'ANTIGUEDAD_IBK']].apply(lambda _: _[0] > 4 and _[1] > 4, axis=1).astype(int)\n",
    "base['TIENE_MAS_DE_5MESES_SIN_LINEA_VIGENTE']  = base[['NRO_MESES_SIN_LINEA_VIGENTE', 'ANTIGUEDAD_IBK']].apply(lambda _: _[0] > 5 and _[1] > 5, axis=1).astype(int)\n",
    "base['TIENE_MAS_DE_6MESES_SIN_LINEA_VIGENTE']  = base[['NRO_MESES_SIN_LINEA_VIGENTE', 'ANTIGUEDAD_IBK']].apply(lambda _: _[0] > 6 and _[1] > 6, axis=1).astype(int)\n",
    "base['TIENE_MAS_DE_7MESES_SIN_LINEA_VIGENTE']  = base[['NRO_MESES_SIN_LINEA_VIGENTE', 'ANTIGUEDAD_IBK']].apply(lambda _: _[0] > 7 and _[1] > 7, axis=1).astype(int)\n",
    "base['TIENE_MAS_DE_8MESES_SIN_LINEA_VIGENTE']  = base[['NRO_MESES_SIN_LINEA_VIGENTE', 'ANTIGUEDAD_IBK']].apply(lambda _: _[0] > 8 and _[1] > 8, axis=1).astype(int)\n",
    "base['TIENE_MAS_DE_9MESES_SIN_LINEA_VIGENTE']  = base[['NRO_MESES_SIN_LINEA_VIGENTE', 'ANTIGUEDAD_IBK']].apply(lambda _: _[0] > 9 and _[1] > 9, axis=1).astype(int)\n",
    "base['TIENE_MAS_DE_10MESES_SIN_LINEA_VIGENTE']  = base[['NRO_MESES_SIN_LINEA_VIGENTE', 'ANTIGUEDAD_IBK']].apply(lambda _: _[0] > 10 and _[1] > 10, axis=1).astype(int)"
   ]
  },
  {
   "cell_type": "code",
   "execution_count": null,
   "metadata": {},
   "outputs": [],
   "source": [
    "pd.crosstab(\n",
    "    base['TIENE_MAS_DE_10MESES_SIN_LINEA_VIGENTE'].fillna(-1), base['PERIODO']\n",
    ")"
   ]
  },
  {
   "cell_type": "code",
   "execution_count": null,
   "metadata": {},
   "outputs": [],
   "source": [
    "base['NRO_MESES_SIN_LINEA_VIGENTE'].hist()"
   ]
  },
  {
   "cell_type": "code",
   "execution_count": null,
   "metadata": {},
   "outputs": [],
   "source": [
    "base['NO_INCLUIDO_EN_BASE_LINEAS_CLIENTE'] = base['NRO_MESES_SIN_LINEA_VIGENTE'].apply(lambda _: 1 if pd.isnull(_) else 0)\n",
    "base['NO_INCLUIDO_EN_BASE_LINEAS_CLIENTE'].value_counts()"
   ]
  },
  {
   "cell_type": "code",
   "execution_count": null,
   "metadata": {},
   "outputs": [],
   "source": [
    "#base['PERIODO_DATE'] = pd.to_datetime(\n",
    "#    base['PERIODO'], errors='coerce', format='%Y%m'\n",
    "#)\n",
    "#base['MIN_PERIODO_LINEAS_CLIENTE'] = lineas['PERIODO'].min()\n",
    "#base['MIN_PERIODO_LINEAS_CLIENTE'] = pd.to_datetime(\n",
    "#    base['MIN_PERIODO_LINEAS_CLIENTE'], errors='coerce', format='%Y%m'\n",
    "#)\n",
    "\n",
    "#def apply_diff_date(serie_diff):\n",
    "#    return (serie_diff / np.timedelta64(1,'M')).round(3) \n",
    "\n",
    "#base['DIFF_WITH_MIN_PERIOD'] = apply_diff_date(\n",
    "#    base['PERIODO_DATE'] - base['MIN_PERIODO_LINEAS_CLIENTE']\n",
    "#)\n",
    "#base['DIFF_WITH_MIN_PERIOD'].value_counts()"
   ]
  },
  {
   "cell_type": "code",
   "execution_count": null,
   "metadata": {},
   "outputs": [],
   "source": [
    "#base['NRO_MESES_SIN_LINEA_VIGENTE'] = base[['NRO_MESES_SIN_LINEA_VIGENTE', 'DIFF_WITH_MIN_PERIOD']].apply(lambda _: _[1] if pd.isnull(_[0]) else _[0], axis=1)\n",
    "#base['NRO_MESES_SIN_LINEA_VIGENTE'].hist()"
   ]
  },
  {
   "cell_type": "code",
   "execution_count": null,
   "metadata": {},
   "outputs": [],
   "source": [
    "#for col in ['NO_TIENE_LINEA_VIGENTE_MES_ACTUAL', 'TIENE_2MESES_SIN_LINEA_VIGENTE', 'TIENE_3MESES_SIN_LINEA_VIGENTE', 'TIENE_3MESES_SIN_LINEA_VIGENTE',\n",
    "#            'TIENE_MAS_DE_1MES_SIN_LINEA_VIGENTE', 'TIENE_MAS_DE_2MESES_SIN_LINEA_VIGENTE', 'TIENE_MAS_DE_3MESES_SIN_LINEA_VIGENTE',\n",
    "#            'TIENE_MAS_DE_4MESES_SIN_LINEA_VIGENTE', 'TIENE_MAS_DE_5MESES_SIN_LINEA_VIGENTE', 'TIENE_MAS_DE_6MESES_SIN_LINEA_VIGENTE',\n",
    "#            'TIENE_MAS_DE_9MESES_SIN_LINEA_VIGENTE', 'TIENE_MAS_DE_10MESES_SIN_LINEA_VIGENTE']:\n",
    "#    base[col] = base[col].fillna(1)\n",
    "#\n",
    "\n",
    "#\n",
    "#\n",
    "#for col in ['TIENE_LINEAS_VIGENTES_MES_ACTUAL', 'TIENE_UNA_O_MAS_LINEAS_VIGENTES_U2M', 'TIENE_UNA_O_MAS_LINEAS_VIGENTES_U3M']:\n",
    "#    base[col] = base[col].fillna(0)"
   ]
  },
  {
   "cell_type": "markdown",
   "metadata": {},
   "source": [
    "### UTILIZACION"
   ]
  },
  {
   "cell_type": "code",
   "execution_count": null,
   "metadata": {},
   "outputs": [],
   "source": [
    "utilizacion = lineas.groupby(by=['PERIODO', 'COD_UNICO'])['MONTOUTILIZADO'].max().reset_index()\n",
    "utilizacion.head()"
   ]
  },
  {
   "cell_type": "code",
   "execution_count": null,
   "metadata": {},
   "outputs": [],
   "source": [
    "utilizacion.tail()"
   ]
  },
  {
   "cell_type": "code",
   "execution_count": null,
   "metadata": {},
   "outputs": [],
   "source": [
    "utilizacion['PERIODO'].max(), utilizacion['PERIODO'].min()"
   ]
  },
  {
   "cell_type": "code",
   "execution_count": null,
   "metadata": {},
   "outputs": [],
   "source": [
    "print(base.shape)\n",
    "\n",
    "acum['PERIODO'] = acum['PERIODO'].astype(str)\n",
    "base = base.merge(\n",
    "    utilizacion, how='left', on=['PERIODO', 'COD_UNICO']\n",
    ")\n",
    "print(base.shape)"
   ]
  },
  {
   "cell_type": "code",
   "execution_count": null,
   "metadata": {},
   "outputs": [],
   "source": []
  },
  {
   "cell_type": "code",
   "execution_count": null,
   "metadata": {},
   "outputs": [],
   "source": [
    "#lineas[lineas['COD_UNICO'] == '0000003392'].sort_values(by=['PERIODO'])[['PERIODO', 'MONTOUTILIZADO', 'ESTADO_LINEA']]"
   ]
  },
  {
   "cell_type": "code",
   "execution_count": null,
   "metadata": {},
   "outputs": [],
   "source": []
  },
  {
   "cell_type": "markdown",
   "metadata": {},
   "source": [
    "###  CONTEO DE LINEAS"
   ]
  },
  {
   "cell_type": "code",
   "execution_count": null,
   "metadata": {},
   "outputs": [],
   "source": [
    "sql0 = \"\"\"\n",
    "    SELECT *\n",
    "    FROM ODS.HD_VMVP_LINEAS_ORIGEN_ALERTAS_CARTERA_BE WITH (NOLOCK)\n",
    "\"\"\"\n",
    "lineas = pd.read_sql(\n",
    "   sql0 , connection_market\n",
    ")\n",
    "lineas.head(2)"
   ]
  },
  {
   "cell_type": "code",
   "execution_count": null,
   "metadata": {},
   "outputs": [],
   "source": [
    "acum = generate_listado_u3m(\n",
    "    lineas[lineas['ESTADO_LINEA'] == 'VIGENTE'], 'listados_vigentes', values='NRO_LINEA',\n",
    "    index=['COD_UNICO'], columns=['PERIODO'], aggfunc=len\n",
    ")\n",
    "acum.head()"
   ]
  },
  {
   "cell_type": "code",
   "execution_count": null,
   "metadata": {},
   "outputs": [],
   "source": [
    "acum.tail()"
   ]
  },
  {
   "cell_type": "code",
   "execution_count": null,
   "metadata": {},
   "outputs": [],
   "source": [
    "acum['TIENE_MENOR_NRO_LINEAS_VIGENTES_U3M'] = acum['listados_vigentes'].apply(lambda _: _[-3] >= _[-2] and _[-2 ] > _[-1] ).astype(int)\n",
    "acum['TIENE_MAYOR_NRO_LINEAS_VIGENTES_U3M'] = acum['listados_vigentes'].apply(lambda _: _[-3] <= _[-2] and _[-2 ] < _[-1] ).astype(int)\n",
    "acum['TIENE_DIMINUCION_1_LINEA_VIGENTE_MES_ANT'] = acum['listados_vigentes'].apply(lambda _: _[-2 ] - _[-1] == 1).astype(int)\n",
    "acum['TIENE_DIMINUCION_2_LINEAS_VIGENTES_MES_ANT'] = acum['listados_vigentes'].apply(lambda _: _[-2 ] - _[-1] == 2).astype(int)\n",
    "acum['TIENE_1_LINEA_VIGENTE_U3M'] = acum['listados_vigentes'].apply(lambda _: sum(_[-3:]) / 3 <= 1 and sum(_[-3:]) / 3 > 0).astype(int)\n",
    "acum['TIENE_2_LINEA_VIGENTE_U3M'] = acum['listados_vigentes'].apply(lambda _: sum(_[-3:]) / 3 <= 2 and sum(_[-3:]) / 3 > 1).astype(int)\n",
    "acum['TIENE_MAS_DE_2_LINEAS_VIGENTES_U3M'] = acum['listados_vigentes'].apply(lambda _: sum(_[-3:]) / 3 > 2).astype(int)\n",
    "acum['TIENE_MAS_DE_3_LINEAS_VIGENTES_U3M'] = acum['listados_vigentes'].apply(lambda _: sum(_[-3:]) / 3 > 3).astype(int)\n",
    "acum['TIENE_MAS_DE_4_LINEAS_VIGENTES_U3M'] = acum['listados_vigentes'].apply(lambda _: sum(_[-3:]) / 3 > 4).astype(int)\n",
    "del acum['listados_vigentes']\n",
    "acum.tail()"
   ]
  },
  {
   "cell_type": "code",
   "execution_count": null,
   "metadata": {},
   "outputs": [],
   "source": [
    "acum['PERIODO'] = acum['PERIODO'].astype(str)\n",
    "base = base.merge(\n",
    "    acum, how='left', on=['PERIODO', 'COD_UNICO']\n",
    ")\n",
    "base.shape"
   ]
  },
  {
   "cell_type": "code",
   "execution_count": null,
   "metadata": {},
   "outputs": [],
   "source": []
  },
  {
   "cell_type": "markdown",
   "metadata": {},
   "source": [
    "## NRO DE TRBAJADORES"
   ]
  },
  {
   "cell_type": "code",
   "execution_count": null,
   "metadata": {},
   "outputs": [],
   "source": [
    "#try:\n",
    "#    connection_b20.close()\n",
    "#except:\n",
    "#    pass\n",
    "\n",
    "try:\n",
    "    connection_market.close()\n",
    "except:\n",
    "    pass\n",
    "\n",
    "#conneciom MARKET\n",
    "connection_market = pymssql.connect(**dicc_conection_market)"
   ]
  },
  {
   "cell_type": "code",
   "execution_count": null,
   "metadata": {},
   "outputs": [],
   "source": [
    "sql_ = \"\"\"\n",
    "    SELECT *\n",
    "    FROM ODS.HM_VMVP_NRO_TRABAJADOES_ALERTA_CARTERA WITH (NOLOCK)\n",
    "\"\"\"\n",
    "workers = pd.read_sql(\n",
    "   sql_ , connection_market\n",
    ").drop(['FECHA_CARGA'], axis=1)\n",
    "workers.head(2)"
   ]
  },
  {
   "cell_type": "code",
   "execution_count": null,
   "metadata": {},
   "outputs": [],
   "source": [
    "workers = workers.groupby(by=['RUC', 'PERIODO']).agg(\n",
    "    {'NRO_TRABAJADORES': sum, 'NRO_PENSIONISTAS': sum, 'NRO_PRESTADORES_SERVICIO': sum}\n",
    ").reset_index()\n",
    "\n",
    "workers.head()"
   ]
  },
  {
   "cell_type": "code",
   "execution_count": null,
   "metadata": {},
   "outputs": [],
   "source": [
    "workers['PERIODO'].max()"
   ]
  },
  {
   "cell_type": "code",
   "execution_count": null,
   "metadata": {},
   "outputs": [],
   "source": [
    "print(workers.shape)"
   ]
  },
  {
   "cell_type": "code",
   "execution_count": null,
   "metadata": {},
   "outputs": [],
   "source": [
    "# Se auemnta un periodo por el desfase de la información\n",
    "workers['PERIODO'] = workers['PERIODO'] .apply(\n",
    "    lambda _: (datetime.strptime(_, '%Y%m') + relativedelta(months=1)).strftime('%Y%m')\n",
    ")"
   ]
  },
  {
   "cell_type": "code",
   "execution_count": null,
   "metadata": {},
   "outputs": [],
   "source": [
    "workers[workers['RUC'] == '20100340438']"
   ]
  },
  {
   "cell_type": "code",
   "execution_count": null,
   "metadata": {},
   "outputs": [],
   "source": [
    "workers['PERIODO'].value_counts().sort_index()"
   ]
  },
  {
   "cell_type": "markdown",
   "metadata": {},
   "source": [
    "## PROVISIONAL"
   ]
  },
  {
   "cell_type": "code",
   "execution_count": null,
   "metadata": {},
   "outputs": [],
   "source": [
    "_202102 = workers[workers['PERIODO'] == '202101']\n",
    "_202102['PERIODO'] = '202102'\n",
    "\n",
    "_202103 = workers[workers['PERIODO'] == '202101']\n",
    "_202103['PERIODO'] = '202103'\n",
    "\n",
    "_202104 = workers[workers['PERIODO'] == '202101']\n",
    "_202104['PERIODO'] = '202104'\n",
    "\n",
    "_202105 = workers[workers['PERIODO'] == '202101']\n",
    "_202105['PERIODO'] = '202105'\n",
    "\n",
    "workers = pd.concat([workers, _202102, _202103, _202104, _202105], axis=0, ignore_index=True)\n",
    "workers['PERIODO'].value_counts().sort_index()"
   ]
  },
  {
   "cell_type": "code",
   "execution_count": null,
   "metadata": {},
   "outputs": [],
   "source": [
    "workers.dtypes"
   ]
  },
  {
   "cell_type": "code",
   "execution_count": null,
   "metadata": {},
   "outputs": [],
   "source": [
    "workers[workers['RUC'] == '20100340438']"
   ]
  },
  {
   "cell_type": "code",
   "execution_count": null,
   "metadata": {},
   "outputs": [],
   "source": [
    "#workers.dtypes"
   ]
  },
  {
   "cell_type": "code",
   "execution_count": null,
   "metadata": {},
   "outputs": [],
   "source": [
    "workers.isnull().sum()"
   ]
  },
  {
   "cell_type": "code",
   "execution_count": null,
   "metadata": {},
   "outputs": [],
   "source": [
    "workers['PERIODO'] = workers['PERIODO'].astype(int)"
   ]
  },
  {
   "cell_type": "code",
   "execution_count": null,
   "metadata": {},
   "outputs": [],
   "source": [
    "pivoteo = pd.pivot_table(\n",
    "    workers[['RUC', 'PERIODO', 'NRO_TRABAJADORES']], \n",
    "    index=['RUC'], columns=['PERIODO'], aggfunc=np.max, values='NRO_TRABAJADORES', fill_value=-1\n",
    ")\n",
    "\n",
    "columnas_pivoteo = sorted([int(_) for _ in pivoteo.columns])\n",
    "print(columnas_pivoteo)\n",
    "\n",
    "pivoteo[columnas_pivoteo].head(20)"
   ]
  },
  {
   "cell_type": "code",
   "execution_count": null,
   "metadata": {},
   "outputs": [],
   "source": []
  },
  {
   "cell_type": "code",
   "execution_count": null,
   "metadata": {},
   "outputs": [],
   "source": [
    "pivoteo = pivoteo[columnas_pivoteo].reset_index()\n",
    "#del pivoteo['PERIODO']\n",
    "pivoteo.columns = [str(col) for col in pivoteo.columns]\n",
    "pivoteo.head(1)"
   ]
  },
  {
   "cell_type": "code",
   "execution_count": null,
   "metadata": {},
   "outputs": [],
   "source": [
    "def reemplza_con_previo(lista):\n",
    "    if lista[0] == -1:\n",
    "        return lista[1]\n",
    "    \n",
    "    return lista[0]\n",
    "\n",
    "for ii, col in enumerate(columnas_pivoteo[1:], start=1):\n",
    "    \n",
    "    columna_previa = str(columnas_pivoteo[ii-1])\n",
    "    columna_actual = str(col)\n",
    "    print(ii, columna_actual, columna_previa)\n",
    "    \n",
    "    pivoteo[columna_actual] = pivoteo[[columna_actual, columna_previa]].apply(\n",
    "        lambda _: reemplza_con_previo(_),\n",
    "        axis=1\n",
    "    )\n",
    "    \n",
    "pivoteo.head(20)"
   ]
  },
  {
   "cell_type": "code",
   "execution_count": null,
   "metadata": {},
   "outputs": [],
   "source": [
    "pivoteo.columns"
   ]
  },
  {
   "cell_type": "code",
   "execution_count": null,
   "metadata": {},
   "outputs": [],
   "source": []
  },
  {
   "cell_type": "code",
   "execution_count": null,
   "metadata": {},
   "outputs": [],
   "source": [
    "#pivoteo['list_'] = pivoteo[[col for col in pivoteo.columns if col not in ['RUC', 'list_']]].apply(list, axis=1)\n",
    "#pivoteo.head()"
   ]
  },
  {
   "cell_type": "code",
   "execution_count": null,
   "metadata": {},
   "outputs": [],
   "source": [
    "#for col in [_ for _ in pivoteo.columns if _ not in ['RUC', 'list_']]:\n",
    "#    del pivoteo[col]"
   ]
  },
  {
   "cell_type": "code",
   "execution_count": null,
   "metadata": {},
   "outputs": [],
   "source": [
    "#pivoteo['list_'] = pivoteo['list_'].apply(lambda _: [val for val in _ if val != -1])\n",
    "#pivoteo['len_'] = pivoteo['list_'].apply(len)\n",
    "#pivoteo.head()"
   ]
  },
  {
   "cell_type": "code",
   "execution_count": null,
   "metadata": {},
   "outputs": [],
   "source": [
    "workers = pd.melt(pivoteo, id_vars=['RUC'], var_name='PERIODO', value_name='NRO_TRABAJADORES')\n",
    "workers.head(3)"
   ]
  },
  {
   "cell_type": "code",
   "execution_count": null,
   "metadata": {},
   "outputs": [],
   "source": [
    "print(workers.shape)\n",
    "workers = workers[workers['NRO_TRABAJADORES'] != -1]\n",
    "print(workers.shape)"
   ]
  },
  {
   "cell_type": "code",
   "execution_count": null,
   "metadata": {},
   "outputs": [],
   "source": [
    "workers[workers['RUC'] == '20100340438']"
   ]
  },
  {
   "cell_type": "code",
   "execution_count": null,
   "metadata": {},
   "outputs": [],
   "source": [
    "workers[workers['RUC'] == '20100227542']"
   ]
  },
  {
   "cell_type": "code",
   "execution_count": null,
   "metadata": {},
   "outputs": [],
   "source": [
    "acum = generate_listado_u3m(\n",
    "    workers, 'listados_workers', values='NRO_TRABAJADORES', index=['RUC'], columns=['PERIODO'], aggfunc=sum\n",
    ")\n",
    "acum.head()"
   ]
  },
  {
   "cell_type": "code",
   "execution_count": null,
   "metadata": {},
   "outputs": [],
   "source": [
    "workers.tail()"
   ]
  },
  {
   "cell_type": "code",
   "execution_count": null,
   "metadata": {},
   "outputs": [],
   "source": [
    "workers.shape, workers.groupby(['PERIODO', 'RUC']).size().shape"
   ]
  },
  {
   "cell_type": "code",
   "execution_count": null,
   "metadata": {},
   "outputs": [],
   "source": [
    "workers.dtypes"
   ]
  },
  {
   "cell_type": "code",
   "execution_count": null,
   "metadata": {},
   "outputs": [],
   "source": [
    "print(base.shape)\n",
    "base = base.merge(\n",
    "    workers, how='left', on=['PERIODO', 'RUC']\n",
    ")\n",
    "base.shape"
   ]
  },
  {
   "cell_type": "code",
   "execution_count": null,
   "metadata": {},
   "outputs": [],
   "source": [
    "acum['listados_workers'].head(3)"
   ]
  },
  {
   "cell_type": "markdown",
   "metadata": {},
   "source": [
    "### >> CREACION D EVARIABLES DE PERSONAL RELEVANTES"
   ]
  },
  {
   "cell_type": "code",
   "execution_count": null,
   "metadata": {},
   "outputs": [],
   "source": [
    "def diff_hace_10_meses(lista):\n",
    "    # RELEVANTES\n",
    "    try:\n",
    "        return lista[-10] - lista[-1] > 5\n",
    "    except:\n",
    "        return lista[0] - lista[-1] > 5\n",
    "    \n",
    "acum['TIENE_DISMINUCION_PERSONAL_COMP_10MATRAS'] = acum['listados_workers'].apply(lambda _: diff_hace_10_meses(_) ).astype(int)\n",
    "acum['TENDENCIA_COMPORTAMIENTO_NRO_TRABAJADORES_SUNAT'] = acum['listados_workers'].apply(lambda _: np.polyfit(list(range(1, 8)), _[-7:], 1)[0])\n",
    "acum['TENDENCIA_A_DISMINUIR_NRO_TRABAJADORES_SUNAT_U7M'] = acum['TENDENCIA_COMPORTAMIENTO_NRO_TRABAJADORES_SUNAT'].apply(lambda _: _ < 0).astype(int)"
   ]
  },
  {
   "cell_type": "code",
   "execution_count": null,
   "metadata": {},
   "outputs": [],
   "source": [
    "acum['NRO_TRABAJADORESX_U2M'] = acum['listados_workers'].apply(lambda _: _[-1])\n",
    "acum['NRO_TRABAJADORESX_U7M'] = acum['listados_workers'].apply(lambda _: _[-6])\n",
    "acum['NRO_TRABAJADORESX_U8M'] = acum['listados_workers'].apply(lambda _: _[-7])\n",
    "cols_diminucon = ['NRO_TRABAJADORESX_U7M', 'NRO_TRABAJADORESX_U8M', 'NRO_TRABAJADORESX_U2M']"
   ]
  },
  {
   "cell_type": "code",
   "execution_count": null,
   "metadata": {},
   "outputs": [],
   "source": [
    "def get_percent_(hace_7, hace_8, hace_2, treshold):\n",
    "    media_hace_7m =(hace_8 + hace_7) / 2\n",
    "    #print(\"media_hace_7m : \", media_hace_7m)\n",
    "    if media_hace_7m == 0:\n",
    "        return 0\n",
    "    \n",
    "    # RELEVANTES\n",
    "    if media_hace_7m - hace_2 < 5: ## NO ES RELEVANTE\n",
    "        return 0\n",
    "    \n",
    "    return hace_2/media_hace_7m <= treshold\n",
    "\n",
    "acum['TIENE_DISMINUCION_PERSONAL_1PERCENT_A_MAS_U7M'] = acum[cols_diminucon].apply(lambda _: get_percent_(_[0],_[1],_[2],0.99), axis=1).astype(int)\n",
    "acum['TIENE_DISMINUCION_PERSONAL_3PERCENT_A_MAS_U7M'] = acum[cols_diminucon].apply(lambda _: get_percent_(_[0],_[1],_[2], 0.97), axis=1).astype(int)\n",
    "acum['TIENE_DISMINUCION_PERSONAL_5PERCENT_A_MAS_U7M'] = acum[cols_diminucon].apply(lambda _: get_percent_(_[0],_[1],_[2], 0.95), axis=1).astype(int)\n",
    "acum['TIENE_DISMINUCION_PERSONAL_10PERCENT_A_MAS_U7M'] = acum[cols_diminucon].apply(lambda _: get_percent_(_[0],_[1],_[2], 0.90), axis=1).astype(int)\n",
    "acum['TIENE_DISMINUCION_PERSONAL_20PERCENT_A_MAS_U7M'] = acum[cols_diminucon].apply(lambda _: get_percent_(_[0],_[1],_[2], 0.8), axis=1).astype(int)\n",
    "acum['TIENE_DISMINUCION_PERSONAL_30PERCENT_A_MAS_U7M'] = acum[cols_diminucon].apply(lambda _: get_percent_(_[0],_[1],_[2], 0.7), axis=1).astype(int)\n",
    "acum['TIENE_DISMINUCION_PERSONAL_40PERCENT_A_MAS_U7M'] = acum[cols_diminucon].apply(lambda _: get_percent_(_[0],_[1],_[2], 0.6), axis=1).astype(int)\n",
    "acum['TIENE_DISMINUCION_PERSONAL_50PERCENT_A_MAS_U7M'] = acum[cols_diminucon].apply(lambda _: get_percent_(_[0],_[1],_[2], 0.5), axis=1).astype(int)\n",
    "acum['TIENE_DISMINUCION_PERSONAL_60PERCENT_A_MAS_U7M'] = acum[cols_diminucon].apply(lambda _: get_percent_(_[0],_[1],_[2], 0.4), axis=1).astype(int)\n",
    "acum['NO_TIENE_TRABAJADORES_REGISTRADOS'] = acum['listados_workers'].apply(lambda _: sum(_) == 0).astype(int)\n",
    "acum['NUMERO_TRABAJADORES_REGISTRADOS_U1M'] = acum['listados_workers'].apply(lambda _: _[-1])\n",
    "acum['NUMERO_TRABAJADORES_REGISTRADOS_U3M'] = acum['listados_workers'].apply(lambda _: _[-2])\n",
    "acum['NUMERO_TRABAJADORES_REGISTRADOS_U6M'] = acum['listados_workers'].apply(lambda _: _[-5])\n",
    "acum['NUMERO_TRABAJADORES_REGISTRADOS_U10M'] = acum['listados_workers'].apply(lambda _: _[0])\n",
    "del acum['listados_workers']\n",
    "\n",
    "acum.head()"
   ]
  },
  {
   "cell_type": "code",
   "execution_count": null,
   "metadata": {},
   "outputs": [],
   "source": []
  },
  {
   "cell_type": "code",
   "execution_count": null,
   "metadata": {},
   "outputs": [],
   "source": []
  },
  {
   "cell_type": "code",
   "execution_count": null,
   "metadata": {},
   "outputs": [],
   "source": [
    "acum[\n",
    "    (acum['RUC'] == '10028918041') & (acum['PERIODO'] == 202101)\n",
    "]"
   ]
  },
  {
   "cell_type": "code",
   "execution_count": null,
   "metadata": {},
   "outputs": [],
   "source": [
    "acum['RUC'] = acum['RUC'].astype(str)\n",
    "acum['PERIODO'] = acum['PERIODO'].astype(str)\n",
    "\n",
    "base = base.merge(\n",
    "    acum, how='left', on=['PERIODO', 'RUC']\n",
    ")\n",
    "base.shape"
   ]
  },
  {
   "cell_type": "code",
   "execution_count": null,
   "metadata": {},
   "outputs": [],
   "source": []
  },
  {
   "cell_type": "markdown",
   "metadata": {},
   "source": [
    "# REACTIVA"
   ]
  },
  {
   "cell_type": "code",
   "execution_count": null,
   "metadata": {},
   "outputs": [],
   "source": [
    "try:\n",
    "    connection_market.close()\n",
    "except:\n",
    "    pass\n",
    "\n",
    "\n",
    "#conneciom MARKET\n",
    "connection_market = pymssql.connect(host='10.11.12.90\\BDT',\n",
    "                             user='ibetlmarket',\n",
    "                             port=1433,\n",
    "                             password='m@rk3t2o15',\n",
    "                             database='MARKET'\n",
    "                            )"
   ]
  },
  {
   "cell_type": "code",
   "execution_count": null,
   "metadata": {},
   "outputs": [],
   "source": [
    "sql1 = \"\"\"\n",
    "    SELECT * FROM ODS.HD_VMVP_REACTIVA_IBK_ALERTAS_CARTERA_BE WITH (NOLOCK)\n",
    "\"\"\"\n",
    "interno_reactiva_ibk = pd.read_sql(\n",
    "   sql1 , connection_market\n",
    ")\n",
    "interno_reactiva_ibk.head(2)"
   ]
  },
  {
   "cell_type": "code",
   "execution_count": null,
   "metadata": {},
   "outputs": [],
   "source": []
  },
  {
   "cell_type": "code",
   "execution_count": null,
   "metadata": {},
   "outputs": [],
   "source": [
    "interno_reactiva_ibk['PERIODO'] = interno_reactiva_ibk['FECHA_DESEMBOLSO'].apply(lambda _: int(str(_).replace('-', '')[:6]))\n",
    "interno_reactiva_ibk['PERIODO'].value_counts(dropna=False)"
   ]
  },
  {
   "cell_type": "code",
   "execution_count": null,
   "metadata": {},
   "outputs": [],
   "source": [
    "pivoteo = pd.pivot_table(\n",
    "    interno_reactiva_ibk[['CODUNICOCLI', 'PERIODO', 'TIPO_REACTIVA']], \n",
    "    index=['CODUNICOCLI'], columns=['PERIODO'], aggfunc=len, values='TIPO_REACTIVA',fill_value=0\n",
    ")\n",
    "pivoteo.head()"
   ]
  },
  {
   "cell_type": "code",
   "execution_count": null,
   "metadata": {},
   "outputs": [],
   "source": [
    "# Adaptacion Rractiva faltantes en meses psoteriores a Noviembre --- 07/01/2021\n",
    "\n",
    "columnas_pivoteo = [int(_) for _ in pivoteo.columns]                 \n",
    "for column in [mes for mes in rango_reactiva_int if int(mes) >= columnas_pivoteo[0]]:\n",
    "    if column not in columnas_pivoteo:\n",
    "        pivoteo[column] = 0\n",
    "\n",
    "pivoteo.head()"
   ]
  },
  {
   "cell_type": "code",
   "execution_count": null,
   "metadata": {},
   "outputs": [],
   "source": [
    "columnas_ordenadas = sorted(pivoteo.columns, reverse=False)\n",
    "\n",
    "for col in columnas_ordenadas[1:]:\n",
    "    posicion_columna = columnas_ordenadas.index(col)\n",
    "    #print(posicion_columna)\n",
    "    print(posicion_columna, col, columnas_ordenadas[posicion_columna -1])\n",
    "    pivoteo[col] = pivoteo[\n",
    "        [columnas_ordenadas[posicion_columna -1], col]\n",
    "    ].sum(axis=1)\n",
    "\n",
    "pivoteo.head()"
   ]
  },
  {
   "cell_type": "code",
   "execution_count": null,
   "metadata": {},
   "outputs": [],
   "source": [
    "pivoteo = pivoteo.unstack().reset_index()\n",
    "pivoteo.columns = ['PERIODO', 'COD_UNICO', 'NRO_VECES_REACTIVA_IBK']\n",
    "pivoteo['TIENE_REACTIVA_IBK'] = pivoteo['NRO_VECES_REACTIVA_IBK'].apply(lambda _: _ > 0).astype(int)\n",
    "pivoteo['TIENE_REACTIVA1_REACTIVA2_IBK'] = pivoteo['NRO_VECES_REACTIVA_IBK'].apply(lambda _: _ > 1).astype(int)\n",
    "\n",
    "display(pivoteo['TIENE_REACTIVA1_REACTIVA2_IBK'].value_counts(dropna=False))\n",
    "pivoteo.head(3)"
   ]
  },
  {
   "cell_type": "code",
   "execution_count": null,
   "metadata": {},
   "outputs": [],
   "source": [
    "pivoteo['PERIODO'] = pivoteo['PERIODO'].astype(str)\n",
    "base = base.merge(\n",
    "    pivoteo, how='left', on=['PERIODO', 'COD_UNICO']\n",
    ")\n",
    "base.shape"
   ]
  },
  {
   "cell_type": "markdown",
   "metadata": {},
   "source": [
    "### REACTIVA RCC"
   ]
  },
  {
   "cell_type": "code",
   "execution_count": null,
   "metadata": {},
   "outputs": [],
   "source": [
    "try:\n",
    "    connection_market.close()\n",
    "except:\n",
    "    pass\n",
    "\n",
    "\n",
    "#conneciom MARKET\n",
    "connection_market = pymssql.connect(host='10.11.12.90\\BDT',\n",
    "                             user='ibetlmarket',\n",
    "                             port=1433,\n",
    "                             password='m@rk3t2o15',\n",
    "                             database='MARKET'\n",
    "                            )"
   ]
  },
  {
   "cell_type": "code",
   "execution_count": null,
   "metadata": {},
   "outputs": [],
   "source": [
    "sql_reactiva_rcc = \"\"\"\n",
    "    SELECT * FROM ODS.HD_VMVP_REACTIVA_ALERTAS_CARTERA_BE WITH (NOLOCK)\n",
    "\"\"\"\n",
    "reactiva = pd.read_sql(\n",
    "   sql_reactiva_rcc , connection_market  ## # aCTUALIZACION TABLA \n",
    ")\n",
    "\n",
    "reactiva['PERIODO'].max(), reactiva['PERIODO'].min()"
   ]
  },
  {
   "cell_type": "code",
   "execution_count": null,
   "metadata": {},
   "outputs": [],
   "source": [
    "## Se le suma un mes para que la info de rcc se use el mes siguiente\n",
    "reactiva['PERIODO'] = reactiva['PERIODO'] .apply(\n",
    "    lambda _: (datetime.strptime(_, '%Y%m') + relativedelta(months=1)).strftime('%Y%m')\n",
    ")\n",
    "pivoteo = pd.pivot_table(\n",
    "    reactiva[['COD_UNICO', 'PERIODO', 'NBR_EMPRESA']], \n",
    "    index=['COD_UNICO'], columns=['PERIODO'], aggfunc=len, values='NBR_EMPRESA',fill_value=0\n",
    ")\n",
    "\n",
    "del reactiva\n",
    "pivoteo.head()"
   ]
  },
  {
   "cell_type": "code",
   "execution_count": null,
   "metadata": {},
   "outputs": [],
   "source": [
    "pivoteo = pivoteo.unstack().reset_index()\n",
    "pivoteo.columns = ['PERIODO', 'COD_UNICO', 'NRO_VECES_REACTIVA_SF']\n",
    "pivoteo['TIENE_REACTIVA_SF'] = pivoteo['NRO_VECES_REACTIVA_SF'].apply(lambda _: _ > 0).astype(int)\n",
    "pivoteo['TIENE_REACTIVA1_REACTIVA2_SF'] = pivoteo['NRO_VECES_REACTIVA_SF'].apply(lambda _: _ > 1).astype(int)\n",
    "\n",
    "display(pivoteo['TIENE_REACTIVA1_REACTIVA2_SF'].value_counts(dropna=False))\n",
    "pivoteo.head(3)"
   ]
  },
  {
   "cell_type": "code",
   "execution_count": null,
   "metadata": {},
   "outputs": [],
   "source": []
  },
  {
   "cell_type": "code",
   "execution_count": null,
   "metadata": {},
   "outputs": [],
   "source": [
    "pd.crosstab(\n",
    "    pivoteo['TIENE_REACTIVA_SF'].fillna(-1), pivoteo['PERIODO']\n",
    ")"
   ]
  },
  {
   "cell_type": "code",
   "execution_count": null,
   "metadata": {},
   "outputs": [],
   "source": [
    "pivoteo['PERIODO'] = pivoteo['PERIODO'].astype(str)\n",
    "base = base.merge(\n",
    "    pivoteo, how='left', on=['PERIODO', 'COD_UNICO']\n",
    ")\n",
    "base.shape"
   ]
  },
  {
   "cell_type": "code",
   "execution_count": null,
   "metadata": {},
   "outputs": [],
   "source": [
    "base.head(2)"
   ]
  },
  {
   "cell_type": "code",
   "execution_count": null,
   "metadata": {},
   "outputs": [],
   "source": [
    "for col in [_ for _ in base.columns if 'REACTIVA' in _.upper()]:\n",
    "    base[col] = base[col].fillna(0)\n",
    "\n",
    "base['TIENE_REACTIVA_CON_OTRA_EF'] = base[['TIENE_REACTIVA_SF', 'TIENE_REACTIVA_IBK']].apply(lambda _: 1 if _[0] == 1 and _[1] == 0 else 0, axis=1)\n",
    "base['TIENE_REACTIVA_1_2_CON_OTRAS_EF'] = base[['TIENE_REACTIVA1_REACTIVA2_SF', 'TIENE_REACTIVA_IBK']].apply(\n",
    "    lambda _: 1 if _[0] == 1 and _[1] == 0 else 0, axis=1)\n",
    "\n",
    "base['TIENE_REACTIVA_SF']  = base[['TIENE_REACTIVA_SF', 'TIENE_REACTIVA_IBK']].apply(lambda _: 1 if _[0] == 1 or _[1] == 1 else 0, axis=1) \n",
    "\n",
    "base['TIENE_SOLO_1_CREDITO_REACTIVA_SF'] = base['NRO_VECES_REACTIVA_SF'].apply(lambda _: _ == 1).astype(int)\n",
    "base['TIENE_REACTIVA_CON_OTRA_EF'].value_counts()"
   ]
  },
  {
   "cell_type": "code",
   "execution_count": null,
   "metadata": {},
   "outputs": [],
   "source": [
    "base['TIENE_REACTIVA_1_2_CON_OTRAS_EF'].value_counts(dropna=False)"
   ]
  },
  {
   "cell_type": "code",
   "execution_count": null,
   "metadata": {},
   "outputs": [],
   "source": [
    "base['TIENE_SOLO_1_CREDITO_REACTIVA_SF'].value_counts(dropna=False)"
   ]
  },
  {
   "cell_type": "markdown",
   "metadata": {},
   "source": [
    "#### Review Cosechas JUlio y Agosto - REACTIVA IBK"
   ]
  },
  {
   "cell_type": "code",
   "execution_count": null,
   "metadata": {},
   "outputs": [],
   "source": [
    "base[base['PERIODO'].astype(int) >= 202007]['TIENE_REACTIVA_IBK'].value_counts()"
   ]
  },
  {
   "cell_type": "code",
   "execution_count": null,
   "metadata": {},
   "outputs": [],
   "source": [
    "base.isnull().sum()"
   ]
  },
  {
   "cell_type": "code",
   "execution_count": null,
   "metadata": {},
   "outputs": [],
   "source": [
    "base.shape\n",
    "base[base['PERIODO'].astype(int) >= 202007]['BUCKET'].value_counts()"
   ]
  },
  {
   "cell_type": "code",
   "execution_count": null,
   "metadata": {},
   "outputs": [],
   "source": [
    "base.to_csv(\"AVANCE_1.csv\", index=False)"
   ]
  },
  {
   "cell_type": "code",
   "execution_count": null,
   "metadata": {},
   "outputs": [],
   "source": [
    "base['PERIODO'].value_counts().sort_index(ascending=False)"
   ]
  },
  {
   "cell_type": "code",
   "execution_count": null,
   "metadata": {},
   "outputs": [],
   "source": [
    "clientes.shape"
   ]
  },
  {
   "cell_type": "code",
   "execution_count": null,
   "metadata": {},
   "outputs": [],
   "source": [
    "pd.crosstab(\n",
    "    base['TIENE_REACTIVA_SF'].fillna(-1), base['PERIODO']\n",
    ")"
   ]
  },
  {
   "cell_type": "code",
   "execution_count": null,
   "metadata": {},
   "outputs": [],
   "source": [
    "clientes.to_csv(\"clientes.csv\", index=False)"
   ]
  },
  {
   "cell_type": "code",
   "execution_count": null,
   "metadata": {},
   "outputs": [],
   "source": [
    "del clientes"
   ]
  },
  {
   "cell_type": "code",
   "execution_count": null,
   "metadata": {},
   "outputs": [],
   "source": [
    "del base"
   ]
  },
  {
   "cell_type": "code",
   "execution_count": null,
   "metadata": {},
   "outputs": [],
   "source": []
  }
 ],
 "metadata": {
  "kernelspec": {
   "display_name": "Python 3",
   "language": "python",
   "name": "python3"
  },
  "language_info": {
   "codemirror_mode": {
    "name": "ipython",
    "version": 3
   },
   "file_extension": ".py",
   "mimetype": "text/x-python",
   "name": "python",
   "nbconvert_exporter": "python",
   "pygments_lexer": "ipython3",
   "version": "3.8.5"
  }
 },
 "nbformat": 4,
 "nbformat_minor": 4
}
