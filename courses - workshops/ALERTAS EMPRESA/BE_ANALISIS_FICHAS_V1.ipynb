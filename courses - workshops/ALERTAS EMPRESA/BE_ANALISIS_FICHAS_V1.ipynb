{
 "cells": [
  {
   "cell_type": "code",
   "execution_count": 1,
   "metadata": {},
   "outputs": [
    {
     "name": "stderr",
     "output_type": "stream",
     "text": [
      "C:\\Users\\B38381\\Anaconda3\\lib\\site-packages\\ipykernel_launcher.py:7: DeprecationWarning: Using or importing the ABCs from 'collections' instead of from 'collections.abc' is deprecated since Python 3.3,and in 3.9 it will stop working\n",
      "  import sys\n"
     ]
    }
   ],
   "source": [
    "#nativos\n",
    "import os\n",
    "import unicodedata\n",
    "\n",
    "#terceros\n",
    "import pandas as pd\n",
    "import pymssql\n",
    "import missingno as msno\n",
    "from collections import Counter\n",
    "\n",
    "#grafico\n",
    "import matplotlib.pyplot as plt\n",
    "import seaborn as sns\n",
    "from IPython.display import display\n",
    "%matplotlib inline\n",
    "sns.set(style=\"whitegrid\")\n",
    "\n",
    "#propios\n",
    "from utils_ficha import *\n",
    "from querys import *"
   ]
  },
  {
   "cell_type": "code",
   "execution_count": 2,
   "metadata": {},
   "outputs": [],
   "source": [
    "#conneciom B20\n",
    "connection_b20 = pymssql.connect(host='10.10.33.92\\SQL2008',\n",
    "                             user='userweb',\n",
    "                             port=1433,\n",
    "                             password='$$W3BVPC2@17',\n",
    "                             database='WEBVPC'\n",
    "                            )"
   ]
  },
  {
   "cell_type": "code",
   "execution_count": 3,
   "metadata": {},
   "outputs": [],
   "source": [
    "#conneciom MARKET\n",
    "connection_market = pymssql.connect(host='10.11.12.90\\BDT',\n",
    "                             user='ibetlmarket',\n",
    "                             port=1433,\n",
    "                             password='m@rk3t2o15',\n",
    "                             database='MARKET'\n",
    "                            )"
   ]
  },
  {
   "cell_type": "code",
   "execution_count": null,
   "metadata": {},
   "outputs": [],
   "source": []
  },
  {
   "cell_type": "markdown",
   "metadata": {},
   "source": [
    "## OBTENCIÓN DE UNIVERSO"
   ]
  },
  {
   "cell_type": "code",
   "execution_count": 4,
   "metadata": {},
   "outputs": [
    {
     "data": {
      "text/html": [
       "<div>\n",
       "<style scoped>\n",
       "    .dataframe tbody tr th:only-of-type {\n",
       "        vertical-align: middle;\n",
       "    }\n",
       "\n",
       "    .dataframe tbody tr th {\n",
       "        vertical-align: top;\n",
       "    }\n",
       "\n",
       "    .dataframe thead th {\n",
       "        text-align: right;\n",
       "    }\n",
       "</style>\n",
       "<table border=\"1\" class=\"dataframe\">\n",
       "  <thead>\n",
       "    <tr style=\"text-align: right;\">\n",
       "      <th></th>\n",
       "      <th>TIPDOC</th>\n",
       "      <th>CODDOC</th>\n",
       "      <th>FECHA_ACTUALIZACION_MARKET</th>\n",
       "      <th>CODUNICOCLI</th>\n",
       "      <th>NOMBRE_COMPLETO</th>\n",
       "      <th>DES_GRUPO_ECONOMICO</th>\n",
       "      <th>RIESGO</th>\n",
       "      <th>ENCARGADO</th>\n",
       "      <th>NOMBRE_JEFE</th>\n",
       "      <th>ESTADO</th>\n",
       "      <th>...</th>\n",
       "      <th>FUNNEL_3</th>\n",
       "      <th>FUNNEL_4</th>\n",
       "      <th>FLG_VIGENTE</th>\n",
       "      <th>FLG_SUSPENDIDO</th>\n",
       "      <th>FLG_VENCIDA</th>\n",
       "      <th>FLG_CANCELADO</th>\n",
       "      <th>FLG_MONOLINEA</th>\n",
       "      <th>FLG_SOLO_REACTIVA</th>\n",
       "      <th>FLG_POSICION</th>\n",
       "      <th>CLASIFICACION_LIST_360</th>\n",
       "    </tr>\n",
       "  </thead>\n",
       "  <tbody>\n",
       "    <tr>\n",
       "      <th>0</th>\n",
       "      <td>2</td>\n",
       "      <td>20537451484</td>\n",
       "      <td>2020-10-27 13:00:56.210</td>\n",
       "      <td>0011978079</td>\n",
       "      <td>INTEGRAL SOLUTIONS IN ENGINEERING</td>\n",
       "      <td>INTSEN</td>\n",
       "      <td>545672.682257</td>\n",
       "      <td>RAQUEL IRENE  CORDOVA ZAMORA</td>\n",
       "      <td>JAVIER GONZALES VELARDE</td>\n",
       "      <td>VALIDADO</td>\n",
       "      <td>...</td>\n",
       "      <td>1</td>\n",
       "      <td>1</td>\n",
       "      <td>0</td>\n",
       "      <td>0</td>\n",
       "      <td>0</td>\n",
       "      <td>0</td>\n",
       "      <td>0</td>\n",
       "      <td>0</td>\n",
       "      <td>1</td>\n",
       "      <td>None</td>\n",
       "    </tr>\n",
       "    <tr>\n",
       "      <th>1</th>\n",
       "      <td>2</td>\n",
       "      <td>20477758844</td>\n",
       "      <td>2020-10-27 13:00:56.210</td>\n",
       "      <td>0011281436</td>\n",
       "      <td>REYCH CONTRATISTAS GENERALES</td>\n",
       "      <td></td>\n",
       "      <td>82265.765714</td>\n",
       "      <td>AISSA LIZBETH TRONCOS RIOFRIO</td>\n",
       "      <td>ROBERTO CARLOS PALACIOS PANDO</td>\n",
       "      <td>SIN SEGUIMIENTO</td>\n",
       "      <td>...</td>\n",
       "      <td>1</td>\n",
       "      <td>1</td>\n",
       "      <td>0</td>\n",
       "      <td>0</td>\n",
       "      <td>0</td>\n",
       "      <td>0</td>\n",
       "      <td>0</td>\n",
       "      <td>0</td>\n",
       "      <td>1</td>\n",
       "      <td>None</td>\n",
       "    </tr>\n",
       "    <tr>\n",
       "      <th>2</th>\n",
       "      <td>2</td>\n",
       "      <td>20520775596</td>\n",
       "      <td>2020-10-27 13:00:56.210</td>\n",
       "      <td>0010975562</td>\n",
       "      <td>SATELCOM PERU</td>\n",
       "      <td></td>\n",
       "      <td>26710.548571</td>\n",
       "      <td>CRISTINA DIAZ QUISPE</td>\n",
       "      <td>MIRANDA ZAMBRANO JORGE ALFREDO</td>\n",
       "      <td>SIN SEGUIMIENTO</td>\n",
       "      <td>...</td>\n",
       "      <td>1</td>\n",
       "      <td>1</td>\n",
       "      <td>0</td>\n",
       "      <td>0</td>\n",
       "      <td>0</td>\n",
       "      <td>0</td>\n",
       "      <td>0</td>\n",
       "      <td>0</td>\n",
       "      <td>1</td>\n",
       "      <td>None</td>\n",
       "    </tr>\n",
       "  </tbody>\n",
       "</table>\n",
       "<p>3 rows × 38 columns</p>\n",
       "</div>"
      ],
      "text/plain": [
       "  TIPDOC       CODDOC FECHA_ACTUALIZACION_MARKET CODUNICOCLI  \\\n",
       "0      2  20537451484    2020-10-27 13:00:56.210  0011978079   \n",
       "1      2  20477758844    2020-10-27 13:00:56.210  0011281436   \n",
       "2      2  20520775596    2020-10-27 13:00:56.210  0010975562   \n",
       "\n",
       "                     NOMBRE_COMPLETO DES_GRUPO_ECONOMICO         RIESGO  \\\n",
       "0  INTEGRAL SOLUTIONS IN ENGINEERING              INTSEN  545672.682257   \n",
       "1       REYCH CONTRATISTAS GENERALES                       82265.765714   \n",
       "2                      SATELCOM PERU                       26710.548571   \n",
       "\n",
       "                       ENCARGADO                     NOMBRE_JEFE  \\\n",
       "0   RAQUEL IRENE  CORDOVA ZAMORA         JAVIER GONZALES VELARDE   \n",
       "1  AISSA LIZBETH TRONCOS RIOFRIO   ROBERTO CARLOS PALACIOS PANDO   \n",
       "2           CRISTINA DIAZ QUISPE  MIRANDA ZAMBRANO JORGE ALFREDO   \n",
       "\n",
       "            ESTADO  ...  FUNNEL_3  FUNNEL_4 FLG_VIGENTE FLG_SUSPENDIDO  \\\n",
       "0         VALIDADO  ...         1         1           0              0   \n",
       "1  SIN SEGUIMIENTO  ...         1         1           0              0   \n",
       "2  SIN SEGUIMIENTO  ...         1         1           0              0   \n",
       "\n",
       "  FLG_VENCIDA FLG_CANCELADO FLG_MONOLINEA FLG_SOLO_REACTIVA FLG_POSICION  \\\n",
       "0           0             0             0                 0            1   \n",
       "1           0             0             0                 0            1   \n",
       "2           0             0             0                 0            1   \n",
       "\n",
       "   CLASIFICACION_LIST_360  \n",
       "0                    None  \n",
       "1                    None  \n",
       "2                    None  \n",
       "\n",
       "[3 rows x 38 columns]"
      ]
     },
     "execution_count": 4,
     "metadata": {},
     "output_type": "execute_result"
    }
   ],
   "source": [
    "query_base_be = \"\"\"\n",
    "SELECT * FROM STG.HD_VMVP_BASE_ALERTA_CARTERA_BE\n",
    "\"\"\"\n",
    "data_market_be = pd.read_sql(\n",
    "   query_base_be , connection_market\n",
    ").rename(\n",
    "    columns={'FECHA_ACTUALIZACION': 'FECHA_ACTUALIZACION_MARKET'}\n",
    ")\n",
    "data_market_be.head(3)"
   ]
  },
  {
   "cell_type": "markdown",
   "metadata": {},
   "source": [
    "##### Cantidad de clientes objetivos"
   ]
  },
  {
   "cell_type": "code",
   "execution_count": 5,
   "metadata": {},
   "outputs": [
    {
     "data": {
      "text/plain": [
       "834"
      ]
     },
     "execution_count": 5,
     "metadata": {},
     "output_type": "execute_result"
    }
   ],
   "source": [
    "data_market_be.shape[0]"
   ]
  },
  {
   "cell_type": "markdown",
   "metadata": {},
   "source": [
    "#### Variables disponibles de primera mano"
   ]
  },
  {
   "cell_type": "code",
   "execution_count": 6,
   "metadata": {},
   "outputs": [
    {
     "data": {
      "text/plain": [
       "Index(['TIPDOC', 'CODDOC', 'FECHA_ACTUALIZACION_MARKET', 'CODUNICOCLI',\n",
       "       'NOMBRE_COMPLETO', 'DES_GRUPO_ECONOMICO', 'RIESGO', 'ENCARGADO',\n",
       "       'NOMBRE_JEFE', 'ESTADO', 'BUCKET', 'PREOCUPA', 'REGISTRO',\n",
       "       'FECHA_LLENADO', 'USUARIO_NOTIFICADO', 'REVISION_USUARIO',\n",
       "       'FECHA_APROBACION', 'IMPACTO', 'PLAN_PROPUESTO', 'MONTO_CRECER',\n",
       "       'DETALLE_CRECER', 'FEVE', 'BLINDAJE', 'MESES_BLINDAJE', 'COMENTARIOS',\n",
       "       'COMENTARIO_ROL_VALIDADOR', 'FUNNEL_1', 'FUNNEL_2', 'FUNNEL_3',\n",
       "       'FUNNEL_4', 'FLG_VIGENTE', 'FLG_SUSPENDIDO', 'FLG_VENCIDA',\n",
       "       'FLG_CANCELADO', 'FLG_MONOLINEA', 'FLG_SOLO_REACTIVA', 'FLG_POSICION',\n",
       "       'CLASIFICACION_LIST_360'],\n",
       "      dtype='object')"
      ]
     },
     "execution_count": 6,
     "metadata": {},
     "output_type": "execute_result"
    }
   ],
   "source": [
    "data_market_be.columns"
   ]
  },
  {
   "cell_type": "markdown",
   "metadata": {},
   "source": [
    "#### Visualización de estados de fichas "
   ]
  },
  {
   "cell_type": "code",
   "execution_count": 7,
   "metadata": {},
   "outputs": [
    {
     "data": {
      "text/plain": [
       "VALIDADO           419\n",
       "SIN SEGUIMIENTO    276\n",
       "LLENADO             87\n",
       "CON CONOCEME        52\n",
       "Name: ESTADO, dtype: int64"
      ]
     },
     "execution_count": 7,
     "metadata": {},
     "output_type": "execute_result"
    }
   ],
   "source": [
    "data_market_be['ESTADO'].value_counts(dropna=False)"
   ]
  },
  {
   "cell_type": "markdown",
   "metadata": {},
   "source": [
    "#### Nos quedamos con los clientes con fichas en estado \"LLENADO\" y \"VALIDADO\""
   ]
  },
  {
   "cell_type": "code",
   "execution_count": 8,
   "metadata": {},
   "outputs": [
    {
     "data": {
      "text/plain": [
       "(506, 38)"
      ]
     },
     "execution_count": 8,
     "metadata": {},
     "output_type": "execute_result"
    }
   ],
   "source": [
    "data_market_be = data_market_be[data_market_be['ESTADO'].isin(['VALIDADO', 'LLENADO'])]\n",
    "data_market_be.shape"
   ]
  },
  {
   "cell_type": "code",
   "execution_count": 9,
   "metadata": {},
   "outputs": [
    {
     "name": "stdout",
     "output_type": "stream",
     "text": [
      "['TIPDOC', 'CODDOC', 'FECHA_ACTUALIZACION_MARKET', 'CODUNICOCLI', 'NOMBRE_COMPLETO', 'DES_GRUPO_ECONOMICO', 'RIESGO', 'ENCARGADO', 'NOMBRE_JEFE', 'ESTADO', 'BUCKET', 'PREOCUPA', 'REGISTRO', 'FECHA_LLENADO', 'USUARIO_NOTIFICADO', 'REVISION_USUARIO', 'FECHA_APROBACION', 'IMPACTO', 'PLAN_PROPUESTO', 'MONTO_CRECER', 'DETALLE_CRECER', 'FEVE', 'BLINDAJE', 'MESES_BLINDAJE', 'COMENTARIOS', 'COMENTARIO_ROL_VALIDADOR', 'FUNNEL_1', 'FUNNEL_2', 'FUNNEL_3', 'FUNNEL_4', 'FLG_VIGENTE', 'FLG_SUSPENDIDO', 'FLG_VENCIDA', 'FLG_CANCELADO', 'FLG_MONOLINEA', 'FLG_SOLO_REACTIVA', 'FLG_POSICION', 'CLASIFICACION_LIST_360']\n"
     ]
    }
   ],
   "source": [
    "print(list(data_market_be.columns))"
   ]
  },
  {
   "cell_type": "code",
   "execution_count": 10,
   "metadata": {},
   "outputs": [
    {
     "data": {
      "text/plain": [
       "Sin FEVE         286\n",
       "Seguir COVID      85\n",
       "Seguir            75\n",
       "Reducir           25\n",
       "Sin categoria     21\n",
       "Garantizar         9\n",
       "Salir              5\n",
       "Name: FEVE, dtype: int64"
      ]
     },
     "execution_count": 10,
     "metadata": {},
     "output_type": "execute_result"
    }
   ],
   "source": [
    "data_market_be['FEVE'] = data_market_be['FEVE'].fillna('Sin categoria')\n",
    "data_market_be['FEVE'].value_counts(dropna=False)"
   ]
  },
  {
   "cell_type": "code",
   "execution_count": 11,
   "metadata": {},
   "outputs": [
    {
     "data": {
      "text/plain": [
       "((506, 38), (506,))"
      ]
     },
     "execution_count": 11,
     "metadata": {},
     "output_type": "execute_result"
    }
   ],
   "source": [
    "data_market_be.shape, data_market_be['CODUNICOCLI'].unique().shape"
   ]
  },
  {
   "cell_type": "code",
   "execution_count": 12,
   "metadata": {},
   "outputs": [
    {
     "data": {
      "text/plain": [
       "PERIODO\n",
       "201903    780\n",
       "201904    779\n",
       "201905    784\n",
       "201906    782\n",
       "201907    784\n",
       "201908    786\n",
       "201909    796\n",
       "201910    802\n",
       "201911    806\n",
       "201912    805\n",
       "202001    814\n",
       "202002    816\n",
       "202003    820\n",
       "202004    818\n",
       "202005    825\n",
       "202006    827\n",
       "202007    831\n",
       "202008    829\n",
       "202009    830\n",
       "dtype: int64"
      ]
     },
     "execution_count": 12,
     "metadata": {},
     "output_type": "execute_result"
    }
   ],
   "source": [
    "query_sow = \"\"\"\n",
    "    SELECT * FROM STG.HD_VMVP_SOW_ALERTA_CARTERA_BE\n",
    "    ORDER BY COD_UNICO, PERIODO DESC\n",
    "\"\"\"\n",
    "\n",
    "sow = pd.read_sql(\n",
    "   query_sow , connection_market\n",
    ")\n",
    "\n",
    "sow.groupby(by=['PERIODO']).size()"
   ]
  },
  {
   "cell_type": "markdown",
   "metadata": {},
   "source": [
    "## REACTIVA IBK"
   ]
  },
  {
   "cell_type": "code",
   "execution_count": 13,
   "metadata": {},
   "outputs": [],
   "source": [
    "query_reactiva_ibk = \"\"\"\n",
    "SELECT A.PERIODO, A.CODUNICOCLI CODUNICOCLI_R2, B.NUM_DOC, B.NRO_CREDITO,B.RAZON_SOCIAL, B.UBIGEO, B.CIIU, B.NRO_TRABAJADORES,\n",
    "       A.IMPORTE, B.MONTO_PRESTAMO  MONTO_PRESTAMO_REACTIVA_2, B.FLG_TOMO_REACTIVA_1, B.MONTO_PRESTAMO_REACTIVA_1, \n",
    "       B.MONTO_VENTA_ANUAL, B.MONTO_EXPORTACION, B.APORTE_ESSALUD_2019, B.VENTA_PROMEDIO,\n",
    "\t   CASE WHEN CERTIFICADO like 'CGAR2-%' THEN 2\n",
    "\t       WHEN CERTIFICADO like 'CGAR-%' THEN 1\n",
    "\t\t   ELSE 0 END TIPO_REACTIVA_COFIDE\n",
    "FROM \n",
    "ODS.MD_DESEMBOLSO_REACTIVA A WITH (NOLOCK)\n",
    "LEFT JOIN\n",
    "ODS.HD_ENVIO_COFIDE_V B WITH (NOLOCK)\n",
    "on A.CODUNICOCLI = B.CODUNICOCLI and A.NRO_CREDITO = B.NRO_CREDITO\n",
    "WHERE 1 = 1\n",
    "and B.ESTADO = 'ENVIADO'\n",
    "and CERTIFICADO like 'CGAR2-%'\n",
    "ORDER BY B.RAZON_SOCIAL DESC\n",
    "\"\"\"\n",
    "\n",
    "#reactiva_ibk = pd.read_sql(\n",
    "#   query_reactiva_ibk , connection_market\n",
    "#)\n",
    "#reactiva_ibk.head(2)"
   ]
  },
  {
   "cell_type": "code",
   "execution_count": null,
   "metadata": {},
   "outputs": [],
   "source": []
  },
  {
   "cell_type": "code",
   "execution_count": 14,
   "metadata": {},
   "outputs": [],
   "source": [
    "#reactiva_ibk.shape,  reactiva_ibk['CODUNICOCLI_R2'].unique().shape"
   ]
  },
  {
   "cell_type": "code",
   "execution_count": null,
   "metadata": {},
   "outputs": [],
   "source": []
  },
  {
   "cell_type": "code",
   "execution_count": 15,
   "metadata": {},
   "outputs": [],
   "source": [
    "#reactiva_ibk = reactiva_ibk.drop_duplicates()\n",
    "#reactiva_ibk.shape,  reactiva_ibk['CODUNICOCLI_R2'].unique().shape"
   ]
  },
  {
   "cell_type": "code",
   "execution_count": null,
   "metadata": {},
   "outputs": [],
   "source": []
  },
  {
   "cell_type": "code",
   "execution_count": 16,
   "metadata": {},
   "outputs": [],
   "source": [
    "#dd = reactiva_ibk.groupby(by=['CODUNICOCLI_R2']).size()\n",
    "#dd[dd > 1]"
   ]
  },
  {
   "cell_type": "code",
   "execution_count": null,
   "metadata": {},
   "outputs": [],
   "source": []
  },
  {
   "cell_type": "code",
   "execution_count": 17,
   "metadata": {},
   "outputs": [],
   "source": [
    "#reactiva_ibk = reactiva_ibk[\n",
    "#    ~(reactiva_ibk['CODUNICOCLI_R2'] == '0000050088') | ~(reactiva_ibk['APORTE_ESSALUD_2019'].isnull())\n",
    "#]\n",
    "#reactiva_ibk.shape,  reactiva_ibk['CODUNICOCLI_R2'].unique().shape"
   ]
  },
  {
   "cell_type": "code",
   "execution_count": null,
   "metadata": {},
   "outputs": [],
   "source": []
  },
  {
   "cell_type": "markdown",
   "metadata": {},
   "source": [
    "#### Columnas Reactiva IBK"
   ]
  },
  {
   "cell_type": "code",
   "execution_count": 18,
   "metadata": {},
   "outputs": [],
   "source": [
    "#print(list(reactiva_ibk.columns))"
   ]
  },
  {
   "cell_type": "code",
   "execution_count": 19,
   "metadata": {},
   "outputs": [],
   "source": [
    "#reactiva_ibk.columns = [\n",
    "#    'IBK_R2_' + col if (col != 'CODUNICOCLI_R2') else col for col in reactiva_ibk.columns\n",
    "#]\n",
    "\n",
    "#print(list(reactiva_ibk.columns))"
   ]
  },
  {
   "cell_type": "code",
   "execution_count": 20,
   "metadata": {},
   "outputs": [],
   "source": [
    "#reactiva_ibk.shape"
   ]
  },
  {
   "cell_type": "code",
   "execution_count": null,
   "metadata": {},
   "outputs": [],
   "source": []
  },
  {
   "cell_type": "code",
   "execution_count": null,
   "metadata": {},
   "outputs": [],
   "source": []
  },
  {
   "cell_type": "markdown",
   "metadata": {},
   "source": [
    "### Unificando fuente"
   ]
  },
  {
   "cell_type": "code",
   "execution_count": 21,
   "metadata": {},
   "outputs": [],
   "source": [
    "#data_market_be = data_market_be.merge(\n",
    "#    reactiva_ibk, how='left', left_on='CODUNICOCLI', right_on='CODUNICOCLI_R2'\n",
    "#)\n",
    "#data_market_be.shape[0]"
   ]
  },
  {
   "cell_type": "code",
   "execution_count": null,
   "metadata": {},
   "outputs": [],
   "source": []
  },
  {
   "cell_type": "code",
   "execution_count": 22,
   "metadata": {},
   "outputs": [
    {
     "data": {
      "text/plain": [
       "(506, 38)"
      ]
     },
     "execution_count": 22,
     "metadata": {},
     "output_type": "execute_result"
    }
   ],
   "source": [
    "data_market_be.shape"
   ]
  },
  {
   "cell_type": "markdown",
   "metadata": {},
   "source": [
    "## REVISION DE GARANTIAS"
   ]
  },
  {
   "cell_type": "code",
   "execution_count": 23,
   "metadata": {},
   "outputs": [],
   "source": [
    "query_garantias_por_tipo_entidad = \"\"\"\n",
    "SELECT * FROM\n",
    "(\n",
    "\tSELECT COD_UNICO, \n",
    "\tCASE WHEN TIP_EMPRESA LIKE 'CAJA%' THEN 'CAJAS' \n",
    "\t     ELSE TIP_EMPRESA END TIPO_EMPRESA,\n",
    "\t     MTO_DEUDA\n",
    "\tFROM ODS.HM_SALDO_RCC\n",
    "\tWHERE 1 = 1\n",
    "\t--and NUM_DOC LIKE '%%' \n",
    "\tand PERIODO = (SELECT MAX(PERIODO) FROM ODS.HM_SALDO_RCC)\n",
    "\t--and SITUACION IS NULL \n",
    "\tand TIPO_PRODUCTO LIKE 'GARANTIA%'\n",
    "\tand TIPO_PRODUCTO NOT LIKE '%REACTIVA%'\n",
    "\tand COD_UNICO IS NOT NULL\n",
    "\tand COD_STATUS_EMPRESA = 'EN OPERACION'\n",
    "\tand NBR_EMPRESA != 'BANCO INTERNACIONAL DEL PERU'\n",
    "\tand COD_UNICO IN (SELECT CODUNICOCLI FROM STG.HD_VMVP_BASE_ALERTA_CARTERA_BE WHERE ESTADO IN ('LLENADO', 'VALIDADO'))\n",
    "\t--ORDER BY COD_UNICO DESC\n",
    ") A\n",
    "where A.TIPO_EMPRESA IN ('BANCOS', 'FINANCIERAS', 'CAJAS')\n",
    "\"\"\"\n",
    "#garantia = pd.read_sql(\n",
    "#   query_garantias_por_tipo_entidad , connection_market\n",
    "#)\n",
    "#garantia.head(2)"
   ]
  },
  {
   "cell_type": "code",
   "execution_count": null,
   "metadata": {},
   "outputs": [],
   "source": []
  },
  {
   "cell_type": "code",
   "execution_count": 24,
   "metadata": {},
   "outputs": [],
   "source": [
    "#garantia = pd.pivot_table(\n",
    "#    garantia, \n",
    "#    values='MTO_DEUDA',  \n",
    "#    index='COD_UNICO', \n",
    "#    columns=['TIPO_EMPRESA'],\n",
    "#    aggfunc=sum\n",
    "#).reset_index()\n",
    "\n",
    "#garantia.head(3)"
   ]
  },
  {
   "cell_type": "code",
   "execution_count": 25,
   "metadata": {},
   "outputs": [],
   "source": [
    "#garantia.columns = ['TOTAL_GARANTIAS_NO_IBK_'+ col if col != 'COD_UNICO' else col for col in garantia.columns ]\n",
    "#garantia.head()"
   ]
  },
  {
   "cell_type": "markdown",
   "metadata": {},
   "source": [
    "## CEF"
   ]
  },
  {
   "cell_type": "code",
   "execution_count": 26,
   "metadata": {},
   "outputs": [],
   "source": [
    "#query_cef_situacion = \"\"\"\n",
    "#    SELECT * FROM PC_CEF_SITUACION \n",
    "#    WHERE FECPROCESO like '2019-12%'\n",
    "#    ORDER BY COD_UNICO DESC , DESTIPESTADOFINANCIERO DESC\n",
    "#\"\"\"\n",
    "#cef = pd.read_sql(\n",
    "#   query_cef_situacion , connection_market\n",
    "#)\n",
    "#cef.head(2)"
   ]
  },
  {
   "cell_type": "markdown",
   "metadata": {},
   "source": [
    "## CARGA DE FICHA CONOCEME"
   ]
  },
  {
   "cell_type": "code",
   "execution_count": 27,
   "metadata": {},
   "outputs": [
    {
     "data": {
      "text/html": [
       "<div>\n",
       "<style scoped>\n",
       "    .dataframe tbody tr th:only-of-type {\n",
       "        vertical-align: middle;\n",
       "    }\n",
       "\n",
       "    .dataframe tbody tr th {\n",
       "        vertical-align: top;\n",
       "    }\n",
       "\n",
       "    .dataframe thead th {\n",
       "        text-align: right;\n",
       "    }\n",
       "</style>\n",
       "<table border=\"1\" class=\"dataframe\">\n",
       "  <thead>\n",
       "    <tr style=\"text-align: right;\">\n",
       "      <th></th>\n",
       "      <th>COD_UNICO</th>\n",
       "      <th>ACTIVIDAD</th>\n",
       "      <th>SUBSECTOR</th>\n",
       "      <th>BACKLOG</th>\n",
       "      <th>MODELO_NEGOCIO</th>\n",
       "      <th>VENTAJA_COMPETITIVA</th>\n",
       "      <th>FORTALEZAS_RIESGOS</th>\n",
       "      <th>INTEGRACION_VERTICAL</th>\n",
       "      <th>GESTION_COMPRAS</th>\n",
       "      <th>REGISTRO</th>\n",
       "      <th>...</th>\n",
       "      <th>PROYECCION_INVERSION</th>\n",
       "      <th>PROYECCION_VENTAS</th>\n",
       "      <th>FECHA_ACTUALIZACION</th>\n",
       "      <th>PROCEDENCIA_MPRIMA</th>\n",
       "      <th>LINEA_SUCESION_FLAG</th>\n",
       "      <th>LINEA_SUCESION</th>\n",
       "      <th>CAMBIO_GERENCIA_GENERAL_ANNIO</th>\n",
       "      <th>CAMBIO_ACCIONISTAS_ANNIO</th>\n",
       "      <th>INICIO_IBK</th>\n",
       "      <th>INICIO_OP</th>\n",
       "    </tr>\n",
       "  </thead>\n",
       "  <tbody>\n",
       "    <tr>\n",
       "      <th>0</th>\n",
       "      <td>0010545047</td>\n",
       "      <td>Servicios</td>\n",
       "      <td>Metalmecánica</td>\n",
       "      <td>Proyectos</td>\n",
       "      <td>La empresa brinda servicios de proyectos, inge...</td>\n",
       "      <td>Brinda un servicio diferenciado desde la ingen...</td>\n",
       "      <td>Fortalezas:\\r\\n- Cartera de clientes de buen c...</td>\n",
       "      <td>None</td>\n",
       "      <td>None</td>\n",
       "      <td>B30434</td>\n",
       "      <td>...</td>\n",
       "      <td>NaN</td>\n",
       "      <td>NaN</td>\n",
       "      <td>2020-11-09 00:00:00</td>\n",
       "      <td>None</td>\n",
       "      <td>0</td>\n",
       "      <td>0</td>\n",
       "      <td>NaN</td>\n",
       "      <td>NaN</td>\n",
       "      <td>2019.0</td>\n",
       "      <td>2006.0</td>\n",
       "    </tr>\n",
       "    <tr>\n",
       "      <th>1</th>\n",
       "      <td>0015013920</td>\n",
       "      <td>Servicios</td>\n",
       "      <td>Servicios diversos</td>\n",
       "      <td>No Aplica</td>\n",
       "      <td>Empresa internacional pionera y especialista e...</td>\n",
       "      <td>Experiencia internacional en el sector en el q...</td>\n",
       "      <td>F: Importante cartera de clientes.\\r\\nR: Cambi...</td>\n",
       "      <td>None</td>\n",
       "      <td>None</td>\n",
       "      <td>B37708</td>\n",
       "      <td>...</td>\n",
       "      <td>NaN</td>\n",
       "      <td>NaN</td>\n",
       "      <td>2020-10-27 21:49:13</td>\n",
       "      <td>Exterior</td>\n",
       "      <td>0</td>\n",
       "      <td>None</td>\n",
       "      <td>NaN</td>\n",
       "      <td>NaN</td>\n",
       "      <td>2017.0</td>\n",
       "      <td>2017.0</td>\n",
       "    </tr>\n",
       "  </tbody>\n",
       "</table>\n",
       "<p>2 rows × 26 columns</p>\n",
       "</div>"
      ],
      "text/plain": [
       "    COD_UNICO  ACTIVIDAD           SUBSECTOR    BACKLOG  \\\n",
       "0  0010545047  Servicios       Metalmecánica  Proyectos   \n",
       "1  0015013920  Servicios  Servicios diversos  No Aplica   \n",
       "\n",
       "                                      MODELO_NEGOCIO  \\\n",
       "0  La empresa brinda servicios de proyectos, inge...   \n",
       "1  Empresa internacional pionera y especialista e...   \n",
       "\n",
       "                                 VENTAJA_COMPETITIVA  \\\n",
       "0  Brinda un servicio diferenciado desde la ingen...   \n",
       "1  Experiencia internacional en el sector en el q...   \n",
       "\n",
       "                                  FORTALEZAS_RIESGOS INTEGRACION_VERTICAL  \\\n",
       "0  Fortalezas:\\r\\n- Cartera de clientes de buen c...                 None   \n",
       "1  F: Importante cartera de clientes.\\r\\nR: Cambi...                 None   \n",
       "\n",
       "  GESTION_COMPRAS REGISTRO  ... PROYECCION_INVERSION PROYECCION_VENTAS  \\\n",
       "0            None   B30434  ...                  NaN               NaN   \n",
       "1            None   B37708  ...                  NaN               NaN   \n",
       "\n",
       "  FECHA_ACTUALIZACION PROCEDENCIA_MPRIMA  LINEA_SUCESION_FLAG LINEA_SUCESION  \\\n",
       "0 2020-11-09 00:00:00               None                    0              0   \n",
       "1 2020-10-27 21:49:13           Exterior                    0           None   \n",
       "\n",
       "   CAMBIO_GERENCIA_GENERAL_ANNIO  CAMBIO_ACCIONISTAS_ANNIO INICIO_IBK  \\\n",
       "0                            NaN                       NaN     2019.0   \n",
       "1                            NaN                       NaN     2017.0   \n",
       "\n",
       "  INICIO_OP  \n",
       "0    2006.0  \n",
       "1    2017.0  \n",
       "\n",
       "[2 rows x 26 columns]"
      ]
     },
     "execution_count": 27,
     "metadata": {},
     "output_type": "execute_result"
    }
   ],
   "source": [
    "query_conoceme = \"\"\"\n",
    "    SELECT * FROM WEBBE_INFINITY_CONOCEME ORDER BY FECHA_ACTUALIZACION DESC\n",
    "\"\"\"\n",
    "conoceme = pd.read_sql(\n",
    "   query_conoceme , connection_b20\n",
    ")\n",
    "conoceme.head(2)"
   ]
  },
  {
   "cell_type": "markdown",
   "metadata": {},
   "source": [
    "#### Fichas conoceme disponibles en total"
   ]
  },
  {
   "cell_type": "code",
   "execution_count": 28,
   "metadata": {},
   "outputs": [
    {
     "data": {
      "text/plain": [
       "987"
      ]
     },
     "execution_count": 28,
     "metadata": {},
     "output_type": "execute_result"
    }
   ],
   "source": [
    "conoceme.shape[0]"
   ]
  },
  {
   "cell_type": "markdown",
   "metadata": {},
   "source": [
    "#### Obtencón de fichas conoceme de universo fijo"
   ]
  },
  {
   "cell_type": "code",
   "execution_count": 29,
   "metadata": {},
   "outputs": [
    {
     "data": {
      "text/plain": [
       "508"
      ]
     },
     "execution_count": 29,
     "metadata": {},
     "output_type": "execute_result"
    }
   ],
   "source": [
    "conoceme = data_market_be.merge(\n",
    "    conoceme, how='left', left_on='CODUNICOCLI', right_on='COD_UNICO'\n",
    ")\n",
    "conoceme.shape[0]"
   ]
  },
  {
   "cell_type": "markdown",
   "metadata": {},
   "source": [
    "#### Columnas disponibles en FICHA CONOCEME"
   ]
  },
  {
   "cell_type": "code",
   "execution_count": 30,
   "metadata": {},
   "outputs": [
    {
     "name": "stdout",
     "output_type": "stream",
     "text": [
      "['TIPDOC', 'CODDOC', 'FECHA_ACTUALIZACION_MARKET', 'CODUNICOCLI', 'NOMBRE_COMPLETO', 'DES_GRUPO_ECONOMICO', 'RIESGO', 'ENCARGADO', 'NOMBRE_JEFE', 'ESTADO', 'BUCKET', 'PREOCUPA', 'REGISTRO_x', 'FECHA_LLENADO', 'USUARIO_NOTIFICADO', 'REVISION_USUARIO', 'FECHA_APROBACION', 'IMPACTO', 'PLAN_PROPUESTO', 'MONTO_CRECER', 'DETALLE_CRECER', 'FEVE', 'BLINDAJE', 'MESES_BLINDAJE', 'COMENTARIOS', 'COMENTARIO_ROL_VALIDADOR', 'FUNNEL_1', 'FUNNEL_2', 'FUNNEL_3', 'FUNNEL_4', 'FLG_VIGENTE', 'FLG_SUSPENDIDO', 'FLG_VENCIDA', 'FLG_CANCELADO', 'FLG_MONOLINEA', 'FLG_SOLO_REACTIVA', 'FLG_POSICION', 'CLASIFICACION_LIST_360', 'COD_UNICO', 'ACTIVIDAD', 'SUBSECTOR', 'BACKLOG', 'MODELO_NEGOCIO', 'VENTAJA_COMPETITIVA', 'FORTALEZAS_RIESGOS', 'INTEGRACION_VERTICAL', 'GESTION_COMPRAS', 'REGISTRO_y', 'GERENTE_GENERAL', 'GERENTE_FINANCIERO_TIPO', 'GERENTE_FINANCIERO_NOMBRE', 'TIPO_CONTABILIDAD', 'MONTO_LINEA_PROVEEDORES', 'ACTIVO_LIBRE_GRAVAMEN', 'PROYECCION_INVERSION', 'PROYECCION_VENTAS', 'FECHA_ACTUALIZACION', 'PROCEDENCIA_MPRIMA', 'LINEA_SUCESION_FLAG', 'LINEA_SUCESION', 'CAMBIO_GERENCIA_GENERAL_ANNIO', 'CAMBIO_ACCIONISTAS_ANNIO', 'INICIO_IBK', 'INICIO_OP']\n"
     ]
    }
   ],
   "source": [
    "print(list(conoceme.columns))"
   ]
  },
  {
   "cell_type": "markdown",
   "metadata": {},
   "source": [
    "#### Eliminamos registros mas antiguas que contengan informacion del mismo COD_UNICO"
   ]
  },
  {
   "cell_type": "code",
   "execution_count": 31,
   "metadata": {},
   "outputs": [
    {
     "name": "stdout",
     "output_type": "stream",
     "text": [
      "ANTES con duplicados:  508\n",
      "Regsistros unicos por codigo único:  506\n"
     ]
    }
   ],
   "source": [
    "print(\"ANTES con duplicados: \", conoceme.shape[0])\n",
    "conoceme = conoceme.drop_duplicates(subset=['COD_UNICO'], keep='first')\n",
    "print(\"Regsistros unicos por codigo único: \", conoceme.shape[0])"
   ]
  },
  {
   "cell_type": "markdown",
   "metadata": {},
   "source": [
    "## CARGA FICHA COVID"
   ]
  },
  {
   "cell_type": "code",
   "execution_count": 32,
   "metadata": {},
   "outputs": [
    {
     "data": {
      "text/html": [
       "<div>\n",
       "<style scoped>\n",
       "    .dataframe tbody tr th:only-of-type {\n",
       "        vertical-align: middle;\n",
       "    }\n",
       "\n",
       "    .dataframe tbody tr th {\n",
       "        vertical-align: top;\n",
       "    }\n",
       "\n",
       "    .dataframe thead th {\n",
       "        text-align: right;\n",
       "    }\n",
       "</style>\n",
       "<table border=\"1\" class=\"dataframe\">\n",
       "  <thead>\n",
       "    <tr style=\"text-align: right;\">\n",
       "      <th></th>\n",
       "      <th>ID</th>\n",
       "      <th>ID_VISITA</th>\n",
       "      <th>COD_UNICO</th>\n",
       "      <th>FECHA_REGISTRO</th>\n",
       "      <th>PREGUNTA_1</th>\n",
       "      <th>PREGUNTA_2_1</th>\n",
       "      <th>PREGUNTA_2_2</th>\n",
       "      <th>PREGUNTA_2_3_1</th>\n",
       "      <th>PREGUNTA_2_3_2</th>\n",
       "      <th>PREGUNTA_3</th>\n",
       "      <th>...</th>\n",
       "      <th>FECHA_CREACION</th>\n",
       "      <th>USUARIO_MODIFICACION</th>\n",
       "      <th>FECHA_MODIFICACION</th>\n",
       "      <th>MONTO_CRECER</th>\n",
       "      <th>DETALLE_CRECER</th>\n",
       "      <th>FECHA_APROBACION</th>\n",
       "      <th>USUARIO_GYS</th>\n",
       "      <th>USUARIO_ADMISION</th>\n",
       "      <th>USUARIO_NOTIFICADO</th>\n",
       "      <th>USUARIO_ACOMP</th>\n",
       "    </tr>\n",
       "  </thead>\n",
       "  <tbody>\n",
       "    <tr>\n",
       "      <th>0</th>\n",
       "      <td>848</td>\n",
       "      <td>1080</td>\n",
       "      <td>0015435251</td>\n",
       "      <td>2020-10-27</td>\n",
       "      <td>1</td>\n",
       "      <td>1</td>\n",
       "      <td>2</td>\n",
       "      <td>1</td>\n",
       "      <td>25.0</td>\n",
       "      <td>El cliente refinanció deuda con IBK por USD 60...</td>\n",
       "      <td>...</td>\n",
       "      <td>2020-10-27</td>\n",
       "      <td>None</td>\n",
       "      <td>NaT</td>\n",
       "      <td>NaN</td>\n",
       "      <td>None</td>\n",
       "      <td>NaT</td>\n",
       "      <td>None</td>\n",
       "      <td>None</td>\n",
       "      <td>B12687</td>\n",
       "      <td>None</td>\n",
       "    </tr>\n",
       "    <tr>\n",
       "      <th>1</th>\n",
       "      <td>851</td>\n",
       "      <td>1083</td>\n",
       "      <td>0013597301</td>\n",
       "      <td>2020-10-26</td>\n",
       "      <td>1</td>\n",
       "      <td>1</td>\n",
       "      <td>1</td>\n",
       "      <td>2</td>\n",
       "      <td>NaN</td>\n",
       "      <td>La empresa implementó protocolos de seguridad ...</td>\n",
       "      <td>...</td>\n",
       "      <td>2020-10-27</td>\n",
       "      <td>None</td>\n",
       "      <td>NaT</td>\n",
       "      <td>1000.0</td>\n",
       "      <td>CF y Descuento Electrónico</td>\n",
       "      <td>NaT</td>\n",
       "      <td>None</td>\n",
       "      <td>None</td>\n",
       "      <td>B31820</td>\n",
       "      <td>None</td>\n",
       "    </tr>\n",
       "  </tbody>\n",
       "</table>\n",
       "<p>2 rows × 71 columns</p>\n",
       "</div>"
      ],
      "text/plain": [
       "    ID  ID_VISITA   COD_UNICO FECHA_REGISTRO PREGUNTA_1  PREGUNTA_2_1  \\\n",
       "0  848       1080  0015435251     2020-10-27          1             1   \n",
       "1  851       1083  0013597301     2020-10-26          1             1   \n",
       "\n",
       "   PREGUNTA_2_2  PREGUNTA_2_3_1  PREGUNTA_2_3_2  \\\n",
       "0             2               1            25.0   \n",
       "1             1               2             NaN   \n",
       "\n",
       "                                          PREGUNTA_3  ...  FECHA_CREACION  \\\n",
       "0  El cliente refinanció deuda con IBK por USD 60...  ...      2020-10-27   \n",
       "1  La empresa implementó protocolos de seguridad ...  ...      2020-10-27   \n",
       "\n",
       "   USUARIO_MODIFICACION  FECHA_MODIFICACION  MONTO_CRECER  \\\n",
       "0                  None                 NaT           NaN   \n",
       "1                  None                 NaT        1000.0   \n",
       "\n",
       "               DETALLE_CRECER  FECHA_APROBACION  USUARIO_GYS  \\\n",
       "0                        None               NaT         None   \n",
       "1  CF y Descuento Electrónico               NaT         None   \n",
       "\n",
       "   USUARIO_ADMISION  USUARIO_NOTIFICADO  USUARIO_ACOMP  \n",
       "0              None              B12687           None  \n",
       "1              None              B31820           None  \n",
       "\n",
       "[2 rows x 71 columns]"
      ]
     },
     "execution_count": 32,
     "metadata": {},
     "output_type": "execute_result"
    }
   ],
   "source": [
    "query_covid = \"\"\"\n",
    "    SELECT * FROM WEBVPC_COVID19 ORDER BY FECHA_CREACION DESC\n",
    "\"\"\"\n",
    "covid = pd.read_sql(\n",
    "   query_covid , connection_b20\n",
    ")\n",
    "covid.head(2)"
   ]
  },
  {
   "cell_type": "markdown",
   "metadata": {},
   "source": [
    "#### Estandarización de columnas a tratar"
   ]
  },
  {
   "cell_type": "code",
   "execution_count": 33,
   "metadata": {},
   "outputs": [
    {
     "name": "stdout",
     "output_type": "stream",
     "text": [
      "['ID', 'ID_VISITA', 'COD_UNICO', 'FECHA_REGISTRO', 'PREGUNTA_1', 'PREGUNTA_2_1', 'PREGUNTA_2_2', 'PREGUNTA_2_3_1', 'PREGUNTA_2_3_2', 'PREGUNTA_3', 'PREGUNTA_4', 'PREGUNTA_5_1', 'PREGUNTA_5_2', 'PREGUNTA_6_1', 'PREGUNTA_6_2', 'PREGUNTA_7', 'PREGUNTA_7_1', 'PREGUNTA_7_2_1', 'PREGUNTA_7_2_2', 'PREGUNTA_7_3', 'PREGUNTA_7_4', 'PREGUNTA_8_1', 'PREGUNTA_8_1_1_1', 'PREGUNTA_8_1_1_2', 'PREGUNTA_8_1_2', 'PREGUNTA_8_2', 'PREGUNTA_8_3', 'PREGUNTA_8_3_2', 'PREGUNTA_8_3_1', 'PREGUNTA_9_1', 'PREGUNTA_9_2', 'PREGUNTA_10_1', 'PREGUNTA_10_2', 'PREGUNTA_11', 'PREGUNTA_11_1_1', 'PREGUNTA_11_1_2', 'PREGUNTA_11_2_1', 'PREGUNTA_11_2_2', 'PREGUNTA_11_3_1', 'PREGUNTA_11_3_2', 'PREGUNTA_11_4_1', 'PREGUNTA_11_4_2', 'PREGUNTA_11_5_1', 'PREGUNTA_11_5_2', 'PREGUNTA_11_6_1', 'PREGUNTA_11_6_2', 'PREGUNTA_12', 'PREGUNTA_12_1', 'PREGUNTA_12_2', 'PREGUNTA_12_2_1', 'PREGUNTA_12_2_2_1', 'PREGUNTA_12_2_2_2', 'PREGUNTA_13', 'PREGUNTA_14_1', 'PREGUNTA_14_2', 'PREGUNTA_14_3', 'PREGUNTA_14_4', 'PREGUNTA_14_5', 'ESTADO_APROBACION', 'ESTADO_REGISTRO', 'USUARIO_CREACION', 'FECHA_CREACION', 'USUARIO_MODIFICACION', 'FECHA_MODIFICACION', 'MONTO_CRECER', 'DETALLE_CRECER', 'FECHA_APROBACION', 'USUARIO_GYS', 'USUARIO_ADMISION', 'USUARIO_NOTIFICADO', 'USUARIO_ACOMP']\n"
     ]
    }
   ],
   "source": [
    "print(list(covid.columns))"
   ]
  },
  {
   "cell_type": "code",
   "execution_count": 34,
   "metadata": {},
   "outputs": [
    {
     "name": "stdout",
     "output_type": "stream",
     "text": [
      "['ID', 'ID_VISITA', 'COD_UNICO', 'FECHA_REGISTRO', 'COVID_P_1', 'COVID_P_2_1', 'COVID_P_2_2', 'COVID_P_2_3_1', 'COVID_P_2_3_2', 'COVID_P_3', 'COVID_P_4', 'COVID_P_5_1', 'COVID_P_5_2', 'COVID_P_6_1', 'COVID_P_6_2', 'COVID_P_7', 'COVID_P_7_1', 'COVID_P_7_2_1', 'COVID_P_7_2_2', 'COVID_P_7_3', 'COVID_P_7_4', 'COVID_P_8_1', 'COVID_P_8_1_1_1', 'COVID_P_8_1_1_2', 'COVID_P_8_1_2', 'COVID_P_8_2', 'COVID_P_8_3', 'COVID_P_8_3_2', 'COVID_P_8_3_1', 'COVID_P_9_1', 'COVID_P_9_2', 'COVID_P_10_1', 'COVID_P_10_2', 'COVID_P_11', 'COVID_P_11_1_1', 'COVID_P_11_1_2', 'COVID_P_11_2_1', 'COVID_P_11_2_2', 'COVID_P_11_3_1', 'COVID_P_11_3_2', 'COVID_P_11_4_1', 'COVID_P_11_4_2', 'COVID_P_11_5_1', 'COVID_P_11_5_2', 'COVID_P_11_6_1', 'COVID_P_11_6_2', 'COVID_P_12', 'COVID_P_12_1', 'COVID_P_12_2', 'COVID_P_12_2_1', 'COVID_P_12_2_2_1', 'COVID_P_12_2_2_2', 'COVID_P_13', 'COVID_P_14_1', 'COVID_P_14_2', 'COVID_P_14_3', 'COVID_P_14_4', 'COVID_P_14_5', 'ESTADO_APROBACION', 'ESTADO_REGISTRO', 'USUARIO_CREACION', 'FECHA_CREACION', 'USUARIO_MODIFICACION', 'FECHA_MODIFICACION', 'MONTO_CRECER', 'DETALLE_CRECER', 'FECHA_APROBACION', 'USUARIO_GYS', 'USUARIO_ADMISION', 'USUARIO_NOTIFICADO', 'USUARIO_ACOMP']\n"
     ]
    }
   ],
   "source": [
    "covid.columns = [col.replace('PREGUNTA', 'COVID_P') for col in covid.columns]\n",
    "print(list(covid.columns))"
   ]
  },
  {
   "cell_type": "code",
   "execution_count": 35,
   "metadata": {},
   "outputs": [
    {
     "name": "stdout",
     "output_type": "stream",
     "text": [
      "['COVID_ID', 'COVID_ID_VISITA', 'COD_UNICO', 'COVID_FECHA_REGISTRO', 'COVID_P_1', 'COVID_P_2_1', 'COVID_P_2_2', 'COVID_P_2_3_1', 'COVID_P_2_3_2', 'COVID_P_3', 'COVID_P_4', 'COVID_P_5_1', 'COVID_P_5_2', 'COVID_P_6_1', 'COVID_P_6_2', 'COVID_P_7', 'COVID_P_7_1', 'COVID_P_7_2_1', 'COVID_P_7_2_2', 'COVID_P_7_3', 'COVID_P_7_4', 'COVID_P_8_1', 'COVID_P_8_1_1_1', 'COVID_P_8_1_1_2', 'COVID_P_8_1_2', 'COVID_P_8_2', 'COVID_P_8_3', 'COVID_P_8_3_2', 'COVID_P_8_3_1', 'COVID_P_9_1', 'COVID_P_9_2', 'COVID_P_10_1', 'COVID_P_10_2', 'COVID_P_11', 'COVID_P_11_1_1', 'COVID_P_11_1_2', 'COVID_P_11_2_1', 'COVID_P_11_2_2', 'COVID_P_11_3_1', 'COVID_P_11_3_2', 'COVID_P_11_4_1', 'COVID_P_11_4_2', 'COVID_P_11_5_1', 'COVID_P_11_5_2', 'COVID_P_11_6_1', 'COVID_P_11_6_2', 'COVID_P_12', 'COVID_P_12_1', 'COVID_P_12_2', 'COVID_P_12_2_1', 'COVID_P_12_2_2_1', 'COVID_P_12_2_2_2', 'COVID_P_13', 'COVID_P_14_1', 'COVID_P_14_2', 'COVID_P_14_3', 'COVID_P_14_4', 'COVID_P_14_5', 'COVID_ESTADO_APROBACION', 'COVID_ESTADO_REGISTRO', 'COVID_USUARIO_CREACION', 'COVID_FECHA_CREACION', 'COVID_USUARIO_MODIFICACION', 'COVID_FECHA_MODIFICACION', 'COVID_MONTO_CRECER', 'COVID_DETALLE_CRECER', 'COVID_FECHA_APROBACION', 'COVID_USUARIO_GYS', 'COVID_USUARIO_ADMISION', 'COVID_USUARIO_NOTIFICADO', 'COVID_USUARIO_ACOMP']\n"
     ]
    }
   ],
   "source": [
    "covid.columns = ['COVID_' + col if (col != 'COD_UNICO' and not col.startswith('COVID')) else col for col in covid.columns]\n",
    "print(list(covid.columns))"
   ]
  },
  {
   "cell_type": "markdown",
   "metadata": {},
   "source": [
    "#### Eliminamos registros mas antiguas que contengan informacion del mismo COD_UNICO"
   ]
  },
  {
   "cell_type": "code",
   "execution_count": 36,
   "metadata": {},
   "outputs": [
    {
     "name": "stdout",
     "output_type": "stream",
     "text": [
      "ANTES con duplicados:  827\n",
      "Regsistros únicos por codigo único:  796\n"
     ]
    }
   ],
   "source": [
    "print(\"ANTES con duplicados: \", covid.shape[0])\n",
    "covid = covid.drop_duplicates(subset=['COD_UNICO'], keep='first')\n",
    "print(\"Regsistros únicos por codigo único: \", covid.shape[0])"
   ]
  },
  {
   "cell_type": "markdown",
   "metadata": {},
   "source": [
    "#### Unificamos fuentes"
   ]
  },
  {
   "cell_type": "code",
   "execution_count": 37,
   "metadata": {},
   "outputs": [
    {
     "data": {
      "text/plain": [
       "(506, 135)"
      ]
     },
     "execution_count": 37,
     "metadata": {},
     "output_type": "execute_result"
    }
   ],
   "source": [
    "conoceme = conoceme.merge(\n",
    "    covid, how='left', left_on='CODUNICOCLI', right_on='COD_UNICO'\n",
    ")\n",
    "conoceme.shape"
   ]
  },
  {
   "cell_type": "code",
   "execution_count": 38,
   "metadata": {},
   "outputs": [],
   "source": [
    "del covid\n",
    "del data_market_be"
   ]
  },
  {
   "cell_type": "code",
   "execution_count": null,
   "metadata": {},
   "outputs": [],
   "source": []
  },
  {
   "cell_type": "markdown",
   "metadata": {},
   "source": [
    "## CARGA FICHA VISITAME"
   ]
  },
  {
   "cell_type": "code",
   "execution_count": 39,
   "metadata": {},
   "outputs": [
    {
     "data": {
      "text/html": [
       "<div>\n",
       "<style scoped>\n",
       "    .dataframe tbody tr th:only-of-type {\n",
       "        vertical-align: middle;\n",
       "    }\n",
       "\n",
       "    .dataframe tbody tr th {\n",
       "        vertical-align: top;\n",
       "    }\n",
       "\n",
       "    .dataframe thead th {\n",
       "        text-align: right;\n",
       "    }\n",
       "</style>\n",
       "<table border=\"1\" class=\"dataframe\">\n",
       "  <thead>\n",
       "    <tr style=\"text-align: right;\">\n",
       "      <th></th>\n",
       "      <th>ID</th>\n",
       "      <th>COD_UNICO</th>\n",
       "      <th>FLG_CAMBIO_MIX_VENTAS</th>\n",
       "      <th>FLG_CAMBIO_PROCESO_INTEGRACION</th>\n",
       "      <th>FLG_CAMBIO_CONCENTRACION_VENTAS</th>\n",
       "      <th>FLG_CAMBIO_CONCENTRACION_PROVEEDORES</th>\n",
       "      <th>FLG_CAMBIO_OPERACIONES</th>\n",
       "      <th>FLG_CAMBIO_ZONA_CLIENTES</th>\n",
       "      <th>FLG_CAMBIO_GERENCIA_GENERAL</th>\n",
       "      <th>FLG_CAMBIO_GESTION_FINANCIERA</th>\n",
       "      <th>...</th>\n",
       "      <th>FLG_CAMBIO_PRESTAMO_DESVIO</th>\n",
       "      <th>FLG_CAMBIO_BACKLOG</th>\n",
       "      <th>REVISION_FECHA</th>\n",
       "      <th>REVISION_USUARIO</th>\n",
       "      <th>FLG_CAMBIO_MODELO_NEGOCIO</th>\n",
       "      <th>CAMBIO_PRESTAMO_DESVIO</th>\n",
       "      <th>CAMBIO_INVERSION_ACTIVO_PATRIMONIO</th>\n",
       "      <th>FLG_PROCESO</th>\n",
       "      <th>FECHA_PROCESO</th>\n",
       "      <th>COMENTARIO_ROL_VALIDADOR</th>\n",
       "    </tr>\n",
       "  </thead>\n",
       "  <tbody>\n",
       "    <tr>\n",
       "      <th>0</th>\n",
       "      <td>880</td>\n",
       "      <td>0010545047</td>\n",
       "      <td>0</td>\n",
       "      <td>0</td>\n",
       "      <td>0</td>\n",
       "      <td>0</td>\n",
       "      <td>0</td>\n",
       "      <td>0</td>\n",
       "      <td>0</td>\n",
       "      <td>0</td>\n",
       "      <td>...</td>\n",
       "      <td>0</td>\n",
       "      <td>0</td>\n",
       "      <td>2020-09-28 15:49:04</td>\n",
       "      <td>B14255</td>\n",
       "      <td>0</td>\n",
       "      <td>None</td>\n",
       "      <td>None</td>\n",
       "      <td>NaN</td>\n",
       "      <td>NaT</td>\n",
       "      <td>Conforme, a pesar de la Pandemia cliente ha ce...</td>\n",
       "    </tr>\n",
       "    <tr>\n",
       "      <th>1</th>\n",
       "      <td>1080</td>\n",
       "      <td>0015435251</td>\n",
       "      <td>0</td>\n",
       "      <td>0</td>\n",
       "      <td>0</td>\n",
       "      <td>0</td>\n",
       "      <td>0</td>\n",
       "      <td>0</td>\n",
       "      <td>0</td>\n",
       "      <td>0</td>\n",
       "      <td>...</td>\n",
       "      <td>0</td>\n",
       "      <td>0</td>\n",
       "      <td>NaT</td>\n",
       "      <td>None</td>\n",
       "      <td>0</td>\n",
       "      <td>None</td>\n",
       "      <td>None</td>\n",
       "      <td>NaN</td>\n",
       "      <td>NaT</td>\n",
       "      <td>None</td>\n",
       "    </tr>\n",
       "  </tbody>\n",
       "</table>\n",
       "<p>2 rows × 29 columns</p>\n",
       "</div>"
      ],
      "text/plain": [
       "     ID   COD_UNICO FLG_CAMBIO_MIX_VENTAS FLG_CAMBIO_PROCESO_INTEGRACION  \\\n",
       "0   880  0010545047                     0                              0   \n",
       "1  1080  0015435251                     0                              0   \n",
       "\n",
       "  FLG_CAMBIO_CONCENTRACION_VENTAS FLG_CAMBIO_CONCENTRACION_PROVEEDORES  \\\n",
       "0                               0                                    0   \n",
       "1                               0                                    0   \n",
       "\n",
       "  FLG_CAMBIO_OPERACIONES FLG_CAMBIO_ZONA_CLIENTES FLG_CAMBIO_GERENCIA_GENERAL  \\\n",
       "0                      0                        0                           0   \n",
       "1                      0                        0                           0   \n",
       "\n",
       "  FLG_CAMBIO_GESTION_FINANCIERA  ... FLG_CAMBIO_PRESTAMO_DESVIO  \\\n",
       "0                             0  ...                          0   \n",
       "1                             0  ...                          0   \n",
       "\n",
       "  FLG_CAMBIO_BACKLOG      REVISION_FECHA REVISION_USUARIO  \\\n",
       "0                  0 2020-09-28 15:49:04           B14255   \n",
       "1                  0                 NaT             None   \n",
       "\n",
       "  FLG_CAMBIO_MODELO_NEGOCIO CAMBIO_PRESTAMO_DESVIO  \\\n",
       "0                         0                   None   \n",
       "1                         0                   None   \n",
       "\n",
       "  CAMBIO_INVERSION_ACTIVO_PATRIMONIO FLG_PROCESO FECHA_PROCESO  \\\n",
       "0                               None         NaN           NaT   \n",
       "1                               None         NaN           NaT   \n",
       "\n",
       "                            COMENTARIO_ROL_VALIDADOR  \n",
       "0  Conforme, a pesar de la Pandemia cliente ha ce...  \n",
       "1                                               None  \n",
       "\n",
       "[2 rows x 29 columns]"
      ]
     },
     "execution_count": 39,
     "metadata": {},
     "output_type": "execute_result"
    }
   ],
   "source": [
    "query_visitame = \"\"\"\n",
    "    SELECT * FROM Webbe_infinity_visita ORDER BY FECHA_VISITA DESC\n",
    "\"\"\"\n",
    "visitame = pd.read_sql(\n",
    "   query_visitame , connection_b20\n",
    ")\n",
    "visitame.head(2)"
   ]
  },
  {
   "cell_type": "markdown",
   "metadata": {},
   "source": [
    "#### Estandarización de columnas a tratar"
   ]
  },
  {
   "cell_type": "code",
   "execution_count": 40,
   "metadata": {},
   "outputs": [
    {
     "name": "stdout",
     "output_type": "stream",
     "text": [
      "['ID', 'COD_UNICO', 'FLG_CAMBIO_MIX_VENTAS', 'FLG_CAMBIO_PROCESO_INTEGRACION', 'FLG_CAMBIO_CONCENTRACION_VENTAS', 'FLG_CAMBIO_CONCENTRACION_PROVEEDORES', 'FLG_CAMBIO_OPERACIONES', 'FLG_CAMBIO_ZONA_CLIENTES', 'FLG_CAMBIO_GERENCIA_GENERAL', 'FLG_CAMBIO_GESTION_FINANCIERA', 'FLG_CAMBIO_ACCIONISTAS', 'FLG_CAMBIO_LINEAS', 'REGISTRO', 'ENTREVISTADO_CARGO', 'ENTREVISTADO_NOMBRE', 'COMENTARIOS', 'FECHA_VISITA', 'FECHA_REGISTRO', 'FLG_CAMBIO_INVERSION_ACTIVO_PATRIMONIO', 'FLG_CAMBIO_PRESTAMO_DESVIO', 'FLG_CAMBIO_BACKLOG', 'REVISION_FECHA', 'REVISION_USUARIO', 'FLG_CAMBIO_MODELO_NEGOCIO', 'CAMBIO_PRESTAMO_DESVIO', 'CAMBIO_INVERSION_ACTIVO_PATRIMONIO', 'FLG_PROCESO', 'FECHA_PROCESO', 'COMENTARIO_ROL_VALIDADOR']\n"
     ]
    }
   ],
   "source": [
    "print(list(visitame.columns))"
   ]
  },
  {
   "cell_type": "code",
   "execution_count": 41,
   "metadata": {},
   "outputs": [
    {
     "name": "stdout",
     "output_type": "stream",
     "text": [
      "['VISITAME_ID', 'COD_UNICO', 'FLG_CAMBIO_MIX_VENTAS', 'FLG_CAMBIO_PROCESO_INTEGRACION', 'FLG_CAMBIO_CONCENTRACION_VENTAS', 'FLG_CAMBIO_CONCENTRACION_PROVEEDORES', 'FLG_CAMBIO_OPERACIONES', 'FLG_CAMBIO_ZONA_CLIENTES', 'FLG_CAMBIO_GERENCIA_GENERAL', 'FLG_CAMBIO_GESTION_FINANCIERA', 'FLG_CAMBIO_ACCIONISTAS', 'FLG_CAMBIO_LINEAS', 'VISITAME_REGISTRO', 'VISITAME_ENTREVISTADO_CARGO', 'VISITAME_ENTREVISTADO_NOMBRE', 'VISITAME_COMENTARIOS', 'VISITAME_FECHA_VISITA', 'VISITAME_FECHA_REGISTRO', 'FLG_CAMBIO_INVERSION_ACTIVO_PATRIMONIO', 'FLG_CAMBIO_PRESTAMO_DESVIO', 'FLG_CAMBIO_BACKLOG', 'VISITAME_REVISION_FECHA', 'VISITAME_REVISION_USUARIO', 'FLG_CAMBIO_MODELO_NEGOCIO', 'VISITAME_CAMBIO_PRESTAMO_DESVIO', 'VISITAME_CAMBIO_INVERSION_ACTIVO_PATRIMONIO', 'FLG_PROCESO', 'VISITAME_FECHA_PROCESO', 'VISITAME_COMENTARIO_ROL_VALIDADOR']\n"
     ]
    }
   ],
   "source": [
    "visitame.columns = ['VISITAME_' + col if (col != 'COD_UNICO' and not col.startswith('FLG_')) else col for col in visitame.columns]\n",
    "print(list(visitame.columns))"
   ]
  },
  {
   "cell_type": "markdown",
   "metadata": {},
   "source": [
    "#### Eliminamos registros mas antiguas que contengan informacion del mismo COD_UNICO"
   ]
  },
  {
   "cell_type": "code",
   "execution_count": 42,
   "metadata": {},
   "outputs": [
    {
     "name": "stdout",
     "output_type": "stream",
     "text": [
      "ANTES con duplicados:  1008\n",
      "Regsistros únicos por codigo único:  860\n"
     ]
    }
   ],
   "source": [
    "print(\"ANTES con duplicados: \", visitame.shape[0])\n",
    "visitame = visitame.drop_duplicates(subset=['COD_UNICO'], keep='first')\n",
    "print(\"Regsistros únicos por codigo único: \", visitame.shape[0])"
   ]
  },
  {
   "cell_type": "markdown",
   "metadata": {},
   "source": [
    "### Unificamos fuentes"
   ]
  },
  {
   "cell_type": "code",
   "execution_count": 43,
   "metadata": {},
   "outputs": [
    {
     "data": {
      "text/plain": [
       "(506, 164)"
      ]
     },
     "execution_count": 43,
     "metadata": {},
     "output_type": "execute_result"
    }
   ],
   "source": [
    "conoceme = conoceme.merge(\n",
    "    visitame, how='left', left_on='CODUNICOCLI', right_on='COD_UNICO'\n",
    ")\n",
    "conoceme.shape"
   ]
  },
  {
   "cell_type": "code",
   "execution_count": 44,
   "metadata": {},
   "outputs": [],
   "source": [
    "del visitame"
   ]
  },
  {
   "cell_type": "code",
   "execution_count": 45,
   "metadata": {},
   "outputs": [
    {
     "name": "stdout",
     "output_type": "stream",
     "text": [
      "['TIPDOC', 'CODDOC', 'FECHA_ACTUALIZACION_MARKET', 'CODUNICOCLI', 'NOMBRE_COMPLETO', 'DES_GRUPO_ECONOMICO', 'RIESGO', 'ENCARGADO', 'NOMBRE_JEFE', 'ESTADO', 'BUCKET', 'PREOCUPA', 'REGISTRO_x', 'FECHA_LLENADO', 'USUARIO_NOTIFICADO', 'REVISION_USUARIO', 'FECHA_APROBACION', 'IMPACTO', 'PLAN_PROPUESTO', 'MONTO_CRECER', 'DETALLE_CRECER', 'FEVE', 'BLINDAJE', 'MESES_BLINDAJE', 'COMENTARIOS', 'COMENTARIO_ROL_VALIDADOR', 'FUNNEL_1', 'FUNNEL_2', 'FUNNEL_3', 'FUNNEL_4', 'FLG_VIGENTE', 'FLG_SUSPENDIDO', 'FLG_VENCIDA', 'FLG_CANCELADO', 'FLG_MONOLINEA', 'FLG_SOLO_REACTIVA', 'FLG_POSICION', 'CLASIFICACION_LIST_360', 'COD_UNICO_x', 'ACTIVIDAD', 'SUBSECTOR', 'BACKLOG', 'MODELO_NEGOCIO', 'VENTAJA_COMPETITIVA', 'FORTALEZAS_RIESGOS', 'INTEGRACION_VERTICAL', 'GESTION_COMPRAS', 'REGISTRO_y', 'GERENTE_GENERAL', 'GERENTE_FINANCIERO_TIPO', 'GERENTE_FINANCIERO_NOMBRE', 'TIPO_CONTABILIDAD', 'MONTO_LINEA_PROVEEDORES', 'ACTIVO_LIBRE_GRAVAMEN', 'PROYECCION_INVERSION', 'PROYECCION_VENTAS', 'FECHA_ACTUALIZACION', 'PROCEDENCIA_MPRIMA', 'LINEA_SUCESION_FLAG', 'LINEA_SUCESION', 'CAMBIO_GERENCIA_GENERAL_ANNIO', 'CAMBIO_ACCIONISTAS_ANNIO', 'INICIO_IBK', 'INICIO_OP', 'COVID_ID', 'COVID_ID_VISITA', 'COD_UNICO_y', 'COVID_FECHA_REGISTRO', 'COVID_P_1', 'COVID_P_2_1', 'COVID_P_2_2', 'COVID_P_2_3_1', 'COVID_P_2_3_2', 'COVID_P_3', 'COVID_P_4', 'COVID_P_5_1', 'COVID_P_5_2', 'COVID_P_6_1', 'COVID_P_6_2', 'COVID_P_7', 'COVID_P_7_1', 'COVID_P_7_2_1', 'COVID_P_7_2_2', 'COVID_P_7_3', 'COVID_P_7_4', 'COVID_P_8_1', 'COVID_P_8_1_1_1', 'COVID_P_8_1_1_2', 'COVID_P_8_1_2', 'COVID_P_8_2', 'COVID_P_8_3', 'COVID_P_8_3_2', 'COVID_P_8_3_1', 'COVID_P_9_1', 'COVID_P_9_2', 'COVID_P_10_1', 'COVID_P_10_2', 'COVID_P_11', 'COVID_P_11_1_1', 'COVID_P_11_1_2', 'COVID_P_11_2_1', 'COVID_P_11_2_2', 'COVID_P_11_3_1', 'COVID_P_11_3_2', 'COVID_P_11_4_1', 'COVID_P_11_4_2', 'COVID_P_11_5_1', 'COVID_P_11_5_2', 'COVID_P_11_6_1', 'COVID_P_11_6_2', 'COVID_P_12', 'COVID_P_12_1', 'COVID_P_12_2', 'COVID_P_12_2_1', 'COVID_P_12_2_2_1', 'COVID_P_12_2_2_2', 'COVID_P_13', 'COVID_P_14_1', 'COVID_P_14_2', 'COVID_P_14_3', 'COVID_P_14_4', 'COVID_P_14_5', 'COVID_ESTADO_APROBACION', 'COVID_ESTADO_REGISTRO', 'COVID_USUARIO_CREACION', 'COVID_FECHA_CREACION', 'COVID_USUARIO_MODIFICACION', 'COVID_FECHA_MODIFICACION', 'COVID_MONTO_CRECER', 'COVID_DETALLE_CRECER', 'COVID_FECHA_APROBACION', 'COVID_USUARIO_GYS', 'COVID_USUARIO_ADMISION', 'COVID_USUARIO_NOTIFICADO', 'COVID_USUARIO_ACOMP', 'VISITAME_ID', 'COD_UNICO', 'FLG_CAMBIO_MIX_VENTAS', 'FLG_CAMBIO_PROCESO_INTEGRACION', 'FLG_CAMBIO_CONCENTRACION_VENTAS', 'FLG_CAMBIO_CONCENTRACION_PROVEEDORES', 'FLG_CAMBIO_OPERACIONES', 'FLG_CAMBIO_ZONA_CLIENTES', 'FLG_CAMBIO_GERENCIA_GENERAL', 'FLG_CAMBIO_GESTION_FINANCIERA', 'FLG_CAMBIO_ACCIONISTAS', 'FLG_CAMBIO_LINEAS', 'VISITAME_REGISTRO', 'VISITAME_ENTREVISTADO_CARGO', 'VISITAME_ENTREVISTADO_NOMBRE', 'VISITAME_COMENTARIOS', 'VISITAME_FECHA_VISITA', 'VISITAME_FECHA_REGISTRO', 'FLG_CAMBIO_INVERSION_ACTIVO_PATRIMONIO', 'FLG_CAMBIO_PRESTAMO_DESVIO', 'FLG_CAMBIO_BACKLOG', 'VISITAME_REVISION_FECHA', 'VISITAME_REVISION_USUARIO', 'FLG_CAMBIO_MODELO_NEGOCIO', 'VISITAME_CAMBIO_PRESTAMO_DESVIO', 'VISITAME_CAMBIO_INVERSION_ACTIVO_PATRIMONIO', 'FLG_PROCESO', 'VISITAME_FECHA_PROCESO', 'VISITAME_COMENTARIO_ROL_VALIDADOR']\n"
     ]
    }
   ],
   "source": [
    "print(list(conoceme.columns))"
   ]
  },
  {
   "cell_type": "code",
   "execution_count": null,
   "metadata": {},
   "outputs": [],
   "source": []
  },
  {
   "cell_type": "code",
   "execution_count": null,
   "metadata": {},
   "outputs": [],
   "source": []
  },
  {
   "cell_type": "code",
   "execution_count": null,
   "metadata": {},
   "outputs": [],
   "source": []
  },
  {
   "cell_type": "code",
   "execution_count": null,
   "metadata": {},
   "outputs": [],
   "source": []
  },
  {
   "cell_type": "code",
   "execution_count": null,
   "metadata": {},
   "outputs": [],
   "source": []
  },
  {
   "cell_type": "code",
   "execution_count": null,
   "metadata": {},
   "outputs": [],
   "source": []
  },
  {
   "cell_type": "code",
   "execution_count": 46,
   "metadata": {},
   "outputs": [
    {
     "data": {
      "text/html": [
       "<div>\n",
       "<style scoped>\n",
       "    .dataframe tbody tr th:only-of-type {\n",
       "        vertical-align: middle;\n",
       "    }\n",
       "\n",
       "    .dataframe tbody tr th {\n",
       "        vertical-align: top;\n",
       "    }\n",
       "\n",
       "    .dataframe thead th {\n",
       "        text-align: right;\n",
       "    }\n",
       "</style>\n",
       "<table border=\"1\" class=\"dataframe\">\n",
       "  <thead>\n",
       "    <tr style=\"text-align: right;\">\n",
       "      <th></th>\n",
       "      <th>TIPDOC</th>\n",
       "      <th>CODDOC</th>\n",
       "      <th>FECHA_ACTUALIZACION_MARKET</th>\n",
       "      <th>CODUNICOCLI</th>\n",
       "      <th>NOMBRE_COMPLETO</th>\n",
       "      <th>DES_GRUPO_ECONOMICO</th>\n",
       "      <th>RIESGO</th>\n",
       "      <th>ENCARGADO</th>\n",
       "      <th>NOMBRE_JEFE</th>\n",
       "      <th>ESTADO</th>\n",
       "      <th>...</th>\n",
       "      <th>FLG_CAMBIO_PRESTAMO_DESVIO</th>\n",
       "      <th>FLG_CAMBIO_BACKLOG</th>\n",
       "      <th>VISITAME_REVISION_FECHA</th>\n",
       "      <th>VISITAME_REVISION_USUARIO</th>\n",
       "      <th>FLG_CAMBIO_MODELO_NEGOCIO</th>\n",
       "      <th>VISITAME_CAMBIO_PRESTAMO_DESVIO</th>\n",
       "      <th>VISITAME_CAMBIO_INVERSION_ACTIVO_PATRIMONIO</th>\n",
       "      <th>FLG_PROCESO</th>\n",
       "      <th>VISITAME_FECHA_PROCESO</th>\n",
       "      <th>VISITAME_COMENTARIO_ROL_VALIDADOR</th>\n",
       "    </tr>\n",
       "  </thead>\n",
       "  <tbody>\n",
       "    <tr>\n",
       "      <th>0</th>\n",
       "      <td>2</td>\n",
       "      <td>20537451484</td>\n",
       "      <td>2020-10-27 13:00:56.210</td>\n",
       "      <td>0011978079</td>\n",
       "      <td>INTEGRAL SOLUTIONS IN ENGINEERING</td>\n",
       "      <td>INTSEN</td>\n",
       "      <td>545672.682257</td>\n",
       "      <td>RAQUEL IRENE  CORDOVA ZAMORA</td>\n",
       "      <td>JAVIER GONZALES VELARDE</td>\n",
       "      <td>VALIDADO</td>\n",
       "      <td>...</td>\n",
       "      <td>0</td>\n",
       "      <td>0</td>\n",
       "      <td>2020-09-07 09:07:11</td>\n",
       "      <td>B35531</td>\n",
       "      <td>0</td>\n",
       "      <td>None</td>\n",
       "      <td>None</td>\n",
       "      <td>NaN</td>\n",
       "      <td>NaT</td>\n",
       "      <td>Cliente tuvo las obras paralizadas por la temp...</td>\n",
       "    </tr>\n",
       "    <tr>\n",
       "      <th>1</th>\n",
       "      <td>1</td>\n",
       "      <td>09147979</td>\n",
       "      <td>2020-10-27 13:00:56.210</td>\n",
       "      <td>0013957882</td>\n",
       "      <td>IBAÑEZ MANCHEGO CARLOS ALFREDO</td>\n",
       "      <td>IBAÑEZ MANCHEGO</td>\n",
       "      <td>61660.791429</td>\n",
       "      <td>RAQUEL IRENE  CORDOVA ZAMORA</td>\n",
       "      <td>JAVIER GONZALES VELARDE</td>\n",
       "      <td>VALIDADO</td>\n",
       "      <td>...</td>\n",
       "      <td>0</td>\n",
       "      <td>0</td>\n",
       "      <td>2020-09-04 19:50:26</td>\n",
       "      <td>B6674</td>\n",
       "      <td>0</td>\n",
       "      <td>None</td>\n",
       "      <td>None</td>\n",
       "      <td>NaN</td>\n",
       "      <td>NaT</td>\n",
       "      <td>Se evaluó al cliente en el mes de Jul-20. Se d...</td>\n",
       "    </tr>\n",
       "  </tbody>\n",
       "</table>\n",
       "<p>2 rows × 164 columns</p>\n",
       "</div>"
      ],
      "text/plain": [
       "  TIPDOC       CODDOC FECHA_ACTUALIZACION_MARKET CODUNICOCLI  \\\n",
       "0      2  20537451484    2020-10-27 13:00:56.210  0011978079   \n",
       "1      1     09147979    2020-10-27 13:00:56.210  0013957882   \n",
       "\n",
       "                     NOMBRE_COMPLETO DES_GRUPO_ECONOMICO         RIESGO  \\\n",
       "0  INTEGRAL SOLUTIONS IN ENGINEERING              INTSEN  545672.682257   \n",
       "1     IBAÑEZ MANCHEGO CARLOS ALFREDO     IBAÑEZ MANCHEGO   61660.791429   \n",
       "\n",
       "                      ENCARGADO              NOMBRE_JEFE    ESTADO  ...  \\\n",
       "0  RAQUEL IRENE  CORDOVA ZAMORA  JAVIER GONZALES VELARDE  VALIDADO  ...   \n",
       "1  RAQUEL IRENE  CORDOVA ZAMORA  JAVIER GONZALES VELARDE  VALIDADO  ...   \n",
       "\n",
       "   FLG_CAMBIO_PRESTAMO_DESVIO  FLG_CAMBIO_BACKLOG VISITAME_REVISION_FECHA  \\\n",
       "0                           0                   0     2020-09-07 09:07:11   \n",
       "1                           0                   0     2020-09-04 19:50:26   \n",
       "\n",
       "  VISITAME_REVISION_USUARIO FLG_CAMBIO_MODELO_NEGOCIO  \\\n",
       "0                    B35531                         0   \n",
       "1                     B6674                         0   \n",
       "\n",
       "  VISITAME_CAMBIO_PRESTAMO_DESVIO VISITAME_CAMBIO_INVERSION_ACTIVO_PATRIMONIO  \\\n",
       "0                            None                                        None   \n",
       "1                            None                                        None   \n",
       "\n",
       "  FLG_PROCESO VISITAME_FECHA_PROCESO  \\\n",
       "0         NaN                    NaT   \n",
       "1         NaN                    NaT   \n",
       "\n",
       "                   VISITAME_COMENTARIO_ROL_VALIDADOR  \n",
       "0  Cliente tuvo las obras paralizadas por la temp...  \n",
       "1  Se evaluó al cliente en el mes de Jul-20. Se d...  \n",
       "\n",
       "[2 rows x 164 columns]"
      ]
     },
     "execution_count": 46,
     "metadata": {},
     "output_type": "execute_result"
    }
   ],
   "source": [
    "conoceme.head(2)"
   ]
  },
  {
   "cell_type": "code",
   "execution_count": 47,
   "metadata": {},
   "outputs": [
    {
     "data": {
      "text/plain": [
       "(506, 164)"
      ]
     },
     "execution_count": 47,
     "metadata": {},
     "output_type": "execute_result"
    }
   ],
   "source": [
    "conoceme.shape"
   ]
  },
  {
   "cell_type": "code",
   "execution_count": null,
   "metadata": {},
   "outputs": [],
   "source": []
  },
  {
   "cell_type": "code",
   "execution_count": 48,
   "metadata": {},
   "outputs": [
    {
     "name": "stdout",
     "output_type": "stream",
     "text": [
      "['TIPDOC', 'CODDOC', 'FECHA_ACTUALIZACION_MARKET', 'CODUNICOCLI', 'NOMBRE_COMPLETO', 'DES_GRUPO_ECONOMICO', 'RIESGO', 'ENCARGADO', 'NOMBRE_JEFE', 'ESTADO', 'BUCKET', 'PREOCUPA', 'REGISTRO_x', 'FECHA_LLENADO', 'USUARIO_NOTIFICADO', 'REVISION_USUARIO', 'FECHA_APROBACION', 'IMPACTO', 'PLAN_PROPUESTO', 'MONTO_CRECER', 'DETALLE_CRECER', 'FEVE', 'BLINDAJE', 'MESES_BLINDAJE', 'COMENTARIOS', 'COMENTARIO_ROL_VALIDADOR', 'FUNNEL_1', 'FUNNEL_2', 'FUNNEL_3', 'FUNNEL_4', 'FLG_VIGENTE', 'FLG_SUSPENDIDO', 'FLG_VENCIDA', 'FLG_CANCELADO', 'FLG_MONOLINEA', 'FLG_SOLO_REACTIVA', 'FLG_POSICION', 'CLASIFICACION_LIST_360', 'COD_UNICO_x', 'ACTIVIDAD', 'SUBSECTOR', 'BACKLOG', 'MODELO_NEGOCIO', 'VENTAJA_COMPETITIVA', 'FORTALEZAS_RIESGOS', 'INTEGRACION_VERTICAL', 'GESTION_COMPRAS', 'REGISTRO_y', 'GERENTE_GENERAL', 'GERENTE_FINANCIERO_TIPO', 'GERENTE_FINANCIERO_NOMBRE', 'TIPO_CONTABILIDAD', 'MONTO_LINEA_PROVEEDORES', 'ACTIVO_LIBRE_GRAVAMEN', 'PROYECCION_INVERSION', 'PROYECCION_VENTAS', 'FECHA_ACTUALIZACION', 'PROCEDENCIA_MPRIMA', 'LINEA_SUCESION_FLAG', 'LINEA_SUCESION', 'CAMBIO_GERENCIA_GENERAL_ANNIO', 'CAMBIO_ACCIONISTAS_ANNIO', 'INICIO_IBK', 'INICIO_OP', 'COVID_ID', 'COVID_ID_VISITA', 'COD_UNICO_y', 'COVID_FECHA_REGISTRO', 'COVID_P_1', 'COVID_P_2_1', 'COVID_P_2_2', 'COVID_P_2_3_1', 'COVID_P_2_3_2', 'COVID_P_3', 'COVID_P_4', 'COVID_P_5_1', 'COVID_P_5_2', 'COVID_P_6_1', 'COVID_P_6_2', 'COVID_P_7', 'COVID_P_7_1', 'COVID_P_7_2_1', 'COVID_P_7_2_2', 'COVID_P_7_3', 'COVID_P_7_4', 'COVID_P_8_1', 'COVID_P_8_1_1_1', 'COVID_P_8_1_1_2', 'COVID_P_8_1_2', 'COVID_P_8_2', 'COVID_P_8_3', 'COVID_P_8_3_2', 'COVID_P_8_3_1', 'COVID_P_9_1', 'COVID_P_9_2', 'COVID_P_10_1', 'COVID_P_10_2', 'COVID_P_11', 'COVID_P_11_1_1', 'COVID_P_11_1_2', 'COVID_P_11_2_1', 'COVID_P_11_2_2', 'COVID_P_11_3_1', 'COVID_P_11_3_2', 'COVID_P_11_4_1', 'COVID_P_11_4_2', 'COVID_P_11_5_1', 'COVID_P_11_5_2', 'COVID_P_11_6_1', 'COVID_P_11_6_2', 'COVID_P_12', 'COVID_P_12_1', 'COVID_P_12_2', 'COVID_P_12_2_1', 'COVID_P_12_2_2_1', 'COVID_P_12_2_2_2', 'COVID_P_13', 'COVID_P_14_1', 'COVID_P_14_2', 'COVID_P_14_3', 'COVID_P_14_4', 'COVID_P_14_5', 'COVID_ESTADO_APROBACION', 'COVID_ESTADO_REGISTRO', 'COVID_USUARIO_CREACION', 'COVID_FECHA_CREACION', 'COVID_USUARIO_MODIFICACION', 'COVID_FECHA_MODIFICACION', 'COVID_MONTO_CRECER', 'COVID_DETALLE_CRECER', 'COVID_FECHA_APROBACION', 'COVID_USUARIO_GYS', 'COVID_USUARIO_ADMISION', 'COVID_USUARIO_NOTIFICADO', 'COVID_USUARIO_ACOMP', 'VISITAME_ID', 'COD_UNICO', 'FLG_CAMBIO_MIX_VENTAS', 'FLG_CAMBIO_PROCESO_INTEGRACION', 'FLG_CAMBIO_CONCENTRACION_VENTAS', 'FLG_CAMBIO_CONCENTRACION_PROVEEDORES', 'FLG_CAMBIO_OPERACIONES', 'FLG_CAMBIO_ZONA_CLIENTES', 'FLG_CAMBIO_GERENCIA_GENERAL', 'FLG_CAMBIO_GESTION_FINANCIERA', 'FLG_CAMBIO_ACCIONISTAS', 'FLG_CAMBIO_LINEAS', 'VISITAME_REGISTRO', 'VISITAME_ENTREVISTADO_CARGO', 'VISITAME_ENTREVISTADO_NOMBRE', 'VISITAME_COMENTARIOS', 'VISITAME_FECHA_VISITA', 'VISITAME_FECHA_REGISTRO', 'FLG_CAMBIO_INVERSION_ACTIVO_PATRIMONIO', 'FLG_CAMBIO_PRESTAMO_DESVIO', 'FLG_CAMBIO_BACKLOG', 'VISITAME_REVISION_FECHA', 'VISITAME_REVISION_USUARIO', 'FLG_CAMBIO_MODELO_NEGOCIO', 'VISITAME_CAMBIO_PRESTAMO_DESVIO', 'VISITAME_CAMBIO_INVERSION_ACTIVO_PATRIMONIO', 'FLG_PROCESO', 'VISITAME_FECHA_PROCESO', 'VISITAME_COMENTARIO_ROL_VALIDADOR']\n"
     ]
    }
   ],
   "source": [
    "print(list(conoceme.columns))"
   ]
  },
  {
   "cell_type": "code",
   "execution_count": 49,
   "metadata": {},
   "outputs": [],
   "source": [
    "#conoceme['varacion_mean_6lastmont'].hist(bins=20)"
   ]
  },
  {
   "cell_type": "code",
   "execution_count": 50,
   "metadata": {},
   "outputs": [],
   "source": [
    "def view_numeric(data, col_init, col_out, **kwargs):\n",
    "    color_label = kwargs.get('color_label', 'black')\n",
    "    bins = kwargs.get('bins', 3)\n",
    "    fig, axes = plt.subplots(nrows=1, ncols=1, figsize=(10, 5))\n",
    "\n",
    "    sns.violinplot(x=col_out, y=col_init, data=data, ax=axes)"
   ]
  },
  {
   "cell_type": "code",
   "execution_count": 51,
   "metadata": {},
   "outputs": [],
   "source": [
    "#view_numeric(conoceme, 'varacion_mean_6lastmont', 'COVID_FEVE', percent=True)"
   ]
  },
  {
   "cell_type": "code",
   "execution_count": 52,
   "metadata": {},
   "outputs": [],
   "source": [
    "#view_numeric(conoceme, 'varacion_mean_6lastmont', 'IMPACTO_COVID', percent=True)"
   ]
  },
  {
   "cell_type": "code",
   "execution_count": 53,
   "metadata": {},
   "outputs": [],
   "source": [
    "#view_numeric(conoceme, 'varacion_mean_6lastmont', 'PREOCUPA', percent=True)"
   ]
  },
  {
   "cell_type": "code",
   "execution_count": null,
   "metadata": {},
   "outputs": [],
   "source": []
  },
  {
   "cell_type": "code",
   "execution_count": null,
   "metadata": {},
   "outputs": [],
   "source": []
  },
  {
   "cell_type": "markdown",
   "metadata": {},
   "source": [
    "## TRANSACCIONES"
   ]
  },
  {
   "cell_type": "code",
   "execution_count": 54,
   "metadata": {},
   "outputs": [
    {
     "data": {
      "text/html": [
       "<div>\n",
       "<style scoped>\n",
       "    .dataframe tbody tr th:only-of-type {\n",
       "        vertical-align: middle;\n",
       "    }\n",
       "\n",
       "    .dataframe tbody tr th {\n",
       "        vertical-align: top;\n",
       "    }\n",
       "\n",
       "    .dataframe thead th {\n",
       "        text-align: right;\n",
       "    }\n",
       "</style>\n",
       "<table border=\"1\" class=\"dataframe\">\n",
       "  <thead>\n",
       "    <tr style=\"text-align: right;\">\n",
       "      <th></th>\n",
       "      <th>PERIODO</th>\n",
       "      <th>CASH</th>\n",
       "      <th>COD_UNICO</th>\n",
       "      <th>GRUPO_N1</th>\n",
       "      <th>LAST_TRX_PERIOD</th>\n",
       "      <th>CANT_TRX</th>\n",
       "      <th>VOLUMEN_SOLES</th>\n",
       "    </tr>\n",
       "  </thead>\n",
       "  <tbody>\n",
       "    <tr>\n",
       "      <th>0</th>\n",
       "      <td>202010</td>\n",
       "      <td>CASH OUT</td>\n",
       "      <td>0009254177</td>\n",
       "      <td>OTROS</td>\n",
       "      <td>20201021</td>\n",
       "      <td>19</td>\n",
       "      <td>9986.12</td>\n",
       "    </tr>\n",
       "    <tr>\n",
       "      <th>1</th>\n",
       "      <td>202003</td>\n",
       "      <td>CASH IN</td>\n",
       "      <td>0009254177</td>\n",
       "      <td>PAGOS RECIBIDOS</td>\n",
       "      <td>20200302</td>\n",
       "      <td>1</td>\n",
       "      <td>603.60</td>\n",
       "    </tr>\n",
       "  </tbody>\n",
       "</table>\n",
       "</div>"
      ],
      "text/plain": [
       "  PERIODO      CASH   COD_UNICO         GRUPO_N1 LAST_TRX_PERIOD  CANT_TRX  \\\n",
       "0  202010  CASH OUT  0009254177            OTROS        20201021        19   \n",
       "1  202003   CASH IN  0009254177  PAGOS RECIBIDOS        20200302         1   \n",
       "\n",
       "   VOLUMEN_SOLES  \n",
       "0        9986.12  \n",
       "1         603.60  "
      ]
     },
     "execution_count": 54,
     "metadata": {},
     "output_type": "execute_result"
    }
   ],
   "source": [
    "sql_trx = \"\"\"\n",
    "SELECT * FROM STG.HD_VMVP_TRANSACCIONES_ALERTAS_CARTERA_BE\n",
    "\"\"\"\n",
    "transac = pd.read_sql(\n",
    "   sql_trx , connection_market\n",
    ")\n",
    "transac.head(2)"
   ]
  },
  {
   "cell_type": "code",
   "execution_count": 55,
   "metadata": {},
   "outputs": [
    {
     "data": {
      "text/plain": [
       "((27955, 7), (62304, 7))"
      ]
     },
     "execution_count": 55,
     "metadata": {},
     "output_type": "execute_result"
    }
   ],
   "source": [
    "cash_in = transac[transac['CASH'] == 'CASH IN']\n",
    "cash_in.shape, transac.shape"
   ]
  },
  {
   "cell_type": "code",
   "execution_count": 56,
   "metadata": {},
   "outputs": [
    {
     "data": {
      "text/html": [
       "<div>\n",
       "<style scoped>\n",
       "    .dataframe tbody tr th:only-of-type {\n",
       "        vertical-align: middle;\n",
       "    }\n",
       "\n",
       "    .dataframe tbody tr th {\n",
       "        vertical-align: top;\n",
       "    }\n",
       "\n",
       "    .dataframe thead th {\n",
       "        text-align: right;\n",
       "    }\n",
       "</style>\n",
       "<table border=\"1\" class=\"dataframe\">\n",
       "  <thead>\n",
       "    <tr style=\"text-align: right;\">\n",
       "      <th></th>\n",
       "      <th>COD_UNICO</th>\n",
       "      <th>PERIODO</th>\n",
       "      <th>VOLUMEN_SOLES</th>\n",
       "      <th>CANT_TRX</th>\n",
       "    </tr>\n",
       "  </thead>\n",
       "  <tbody>\n",
       "    <tr>\n",
       "      <th>0</th>\n",
       "      <td>0000006114</td>\n",
       "      <td>201904</td>\n",
       "      <td>4881207.25</td>\n",
       "      <td>15</td>\n",
       "    </tr>\n",
       "    <tr>\n",
       "      <th>1</th>\n",
       "      <td>0000006114</td>\n",
       "      <td>201905</td>\n",
       "      <td>2645371.44</td>\n",
       "      <td>12</td>\n",
       "    </tr>\n",
       "    <tr>\n",
       "      <th>2</th>\n",
       "      <td>0000006114</td>\n",
       "      <td>201906</td>\n",
       "      <td>3682523.24</td>\n",
       "      <td>17</td>\n",
       "    </tr>\n",
       "    <tr>\n",
       "      <th>3</th>\n",
       "      <td>0000006114</td>\n",
       "      <td>201907</td>\n",
       "      <td>5174654.39</td>\n",
       "      <td>20</td>\n",
       "    </tr>\n",
       "    <tr>\n",
       "      <th>4</th>\n",
       "      <td>0000006114</td>\n",
       "      <td>201908</td>\n",
       "      <td>5932273.36</td>\n",
       "      <td>30</td>\n",
       "    </tr>\n",
       "    <tr>\n",
       "      <th>5</th>\n",
       "      <td>0000006114</td>\n",
       "      <td>201909</td>\n",
       "      <td>3274232.59</td>\n",
       "      <td>19</td>\n",
       "    </tr>\n",
       "    <tr>\n",
       "      <th>6</th>\n",
       "      <td>0000006114</td>\n",
       "      <td>201910</td>\n",
       "      <td>918585.38</td>\n",
       "      <td>12</td>\n",
       "    </tr>\n",
       "    <tr>\n",
       "      <th>7</th>\n",
       "      <td>0000006114</td>\n",
       "      <td>201911</td>\n",
       "      <td>3397388.72</td>\n",
       "      <td>12</td>\n",
       "    </tr>\n",
       "    <tr>\n",
       "      <th>8</th>\n",
       "      <td>0000006114</td>\n",
       "      <td>201912</td>\n",
       "      <td>6719352.99</td>\n",
       "      <td>16</td>\n",
       "    </tr>\n",
       "    <tr>\n",
       "      <th>9</th>\n",
       "      <td>0000006114</td>\n",
       "      <td>202001</td>\n",
       "      <td>1103515.49</td>\n",
       "      <td>15</td>\n",
       "    </tr>\n",
       "  </tbody>\n",
       "</table>\n",
       "</div>"
      ],
      "text/plain": [
       "    COD_UNICO PERIODO  VOLUMEN_SOLES  CANT_TRX\n",
       "0  0000006114  201904     4881207.25        15\n",
       "1  0000006114  201905     2645371.44        12\n",
       "2  0000006114  201906     3682523.24        17\n",
       "3  0000006114  201907     5174654.39        20\n",
       "4  0000006114  201908     5932273.36        30\n",
       "5  0000006114  201909     3274232.59        19\n",
       "6  0000006114  201910      918585.38        12\n",
       "7  0000006114  201911     3397388.72        12\n",
       "8  0000006114  201912     6719352.99        16\n",
       "9  0000006114  202001     1103515.49        15"
      ]
     },
     "execution_count": 56,
     "metadata": {},
     "output_type": "execute_result"
    }
   ],
   "source": [
    "cash_in_por_cliente_periodo = cash_in.groupby(by=['COD_UNICO', 'PERIODO']).agg({\n",
    "    'VOLUMEN_SOLES': sum, \n",
    "    'CANT_TRX': sum,\n",
    "}).reset_index()\n",
    "cash_in_por_cliente_periodo.head(10)"
   ]
  },
  {
   "cell_type": "code",
   "execution_count": 57,
   "metadata": {},
   "outputs": [],
   "source": [
    "#cash_in_por_cliente_periodo[]"
   ]
  },
  {
   "cell_type": "code",
   "execution_count": 58,
   "metadata": {},
   "outputs": [
    {
     "data": {
      "text/plain": [
       "201904    576\n",
       "201905    601\n",
       "201906    601\n",
       "201907    622\n",
       "201908    623\n",
       "201909    649\n",
       "201910    642\n",
       "201911    655\n",
       "201912    671\n",
       "202001    683\n",
       "202002    682\n",
       "202003    697\n",
       "202004    598\n",
       "202005    665\n",
       "202006    664\n",
       "202007    711\n",
       "202008    688\n",
       "202009    710\n",
       "202010    685\n",
       "Name: PERIODO, dtype: int64"
      ]
     },
     "execution_count": 58,
     "metadata": {},
     "output_type": "execute_result"
    }
   ],
   "source": [
    "cash_in_por_cliente_periodo['PERIODO'].value_counts(dropna=False).sort_index()"
   ]
  },
  {
   "cell_type": "code",
   "execution_count": 59,
   "metadata": {},
   "outputs": [],
   "source": [
    "#conoceme.groupby(by=['IMPACTO_COVID']).size()"
   ]
  },
  {
   "cell_type": "code",
   "execution_count": 60,
   "metadata": {},
   "outputs": [],
   "source": [
    "#impacto_alto = conoceme[conoceme['IMPACTO_COVID'] == 'alto']['CODUNICOCLI']\n",
    "#print(list(impacto_alto))\n",
    "#print(len(impacto_alto))"
   ]
  },
  {
   "cell_type": "code",
   "execution_count": 61,
   "metadata": {},
   "outputs": [],
   "source": [
    "#aa = cash_in_por_cliente_periodo[\n",
    "#    cash_in_por_cliente_periodo['COD_UNICO'].isin(impacto_alto)\n",
    "#]['COD_UNICO'].value_counts(\n",
    "#    dropna=False\n",
    "#).sort_index()#\n",
    "#\n",
    "#aa[aa > 18].shape"
   ]
  },
  {
   "cell_type": "code",
   "execution_count": 62,
   "metadata": {},
   "outputs": [],
   "source": [
    "from datetime import datetime"
   ]
  },
  {
   "cell_type": "code",
   "execution_count": 63,
   "metadata": {},
   "outputs": [
    {
     "name": "stdout",
     "output_type": "stream",
     "text": [
      "Help on function date_range in module pandas.core.indexes.datetimes:\n",
      "\n",
      "date_range(start=None, end=None, periods=None, freq=None, tz=None, normalize=False, name=None, closed=None, **kwargs) -> pandas.core.indexes.datetimes.DatetimeIndex\n",
      "    Return a fixed frequency DatetimeIndex.\n",
      "    \n",
      "    Parameters\n",
      "    ----------\n",
      "    start : str or datetime-like, optional\n",
      "        Left bound for generating dates.\n",
      "    end : str or datetime-like, optional\n",
      "        Right bound for generating dates.\n",
      "    periods : int, optional\n",
      "        Number of periods to generate.\n",
      "    freq : str or DateOffset, default 'D'\n",
      "        Frequency strings can have multiples, e.g. '5H'. See\n",
      "        :ref:`here <timeseries.offset_aliases>` for a list of\n",
      "        frequency aliases.\n",
      "    tz : str or tzinfo, optional\n",
      "        Time zone name for returning localized DatetimeIndex, for example\n",
      "        'Asia/Hong_Kong'. By default, the resulting DatetimeIndex is\n",
      "        timezone-naive.\n",
      "    normalize : bool, default False\n",
      "        Normalize start/end dates to midnight before generating date range.\n",
      "    name : str, default None\n",
      "        Name of the resulting DatetimeIndex.\n",
      "    closed : {None, 'left', 'right'}, optional\n",
      "        Make the interval closed with respect to the given frequency to\n",
      "        the 'left', 'right', or both sides (None, the default).\n",
      "    **kwargs\n",
      "        For compatibility. Has no effect on the result.\n",
      "    \n",
      "    Returns\n",
      "    -------\n",
      "    rng : DatetimeIndex\n",
      "    \n",
      "    See Also\n",
      "    --------\n",
      "    DatetimeIndex : An immutable container for datetimes.\n",
      "    timedelta_range : Return a fixed frequency TimedeltaIndex.\n",
      "    period_range : Return a fixed frequency PeriodIndex.\n",
      "    interval_range : Return a fixed frequency IntervalIndex.\n",
      "    \n",
      "    Notes\n",
      "    -----\n",
      "    Of the four parameters ``start``, ``end``, ``periods``, and ``freq``,\n",
      "    exactly three must be specified. If ``freq`` is omitted, the resulting\n",
      "    ``DatetimeIndex`` will have ``periods`` linearly spaced elements between\n",
      "    ``start`` and ``end`` (closed on both sides).\n",
      "    \n",
      "    To learn more about the frequency strings, please see `this link\n",
      "    <https://pandas.pydata.org/pandas-docs/stable/user_guide/timeseries.html#offset-aliases>`__.\n",
      "    \n",
      "    Examples\n",
      "    --------\n",
      "    **Specifying the values**\n",
      "    \n",
      "    The next four examples generate the same `DatetimeIndex`, but vary\n",
      "    the combination of `start`, `end` and `periods`.\n",
      "    \n",
      "    Specify `start` and `end`, with the default daily frequency.\n",
      "    \n",
      "    >>> pd.date_range(start='1/1/2018', end='1/08/2018')\n",
      "    DatetimeIndex(['2018-01-01', '2018-01-02', '2018-01-03', '2018-01-04',\n",
      "                   '2018-01-05', '2018-01-06', '2018-01-07', '2018-01-08'],\n",
      "                  dtype='datetime64[ns]', freq='D')\n",
      "    \n",
      "    Specify `start` and `periods`, the number of periods (days).\n",
      "    \n",
      "    >>> pd.date_range(start='1/1/2018', periods=8)\n",
      "    DatetimeIndex(['2018-01-01', '2018-01-02', '2018-01-03', '2018-01-04',\n",
      "                   '2018-01-05', '2018-01-06', '2018-01-07', '2018-01-08'],\n",
      "                  dtype='datetime64[ns]', freq='D')\n",
      "    \n",
      "    Specify `end` and `periods`, the number of periods (days).\n",
      "    \n",
      "    >>> pd.date_range(end='1/1/2018', periods=8)\n",
      "    DatetimeIndex(['2017-12-25', '2017-12-26', '2017-12-27', '2017-12-28',\n",
      "                   '2017-12-29', '2017-12-30', '2017-12-31', '2018-01-01'],\n",
      "                  dtype='datetime64[ns]', freq='D')\n",
      "    \n",
      "    Specify `start`, `end`, and `periods`; the frequency is generated\n",
      "    automatically (linearly spaced).\n",
      "    \n",
      "    >>> pd.date_range(start='2018-04-24', end='2018-04-27', periods=3)\n",
      "    DatetimeIndex(['2018-04-24 00:00:00', '2018-04-25 12:00:00',\n",
      "                   '2018-04-27 00:00:00'],\n",
      "                  dtype='datetime64[ns]', freq=None)\n",
      "    \n",
      "    **Other Parameters**\n",
      "    \n",
      "    Changed the `freq` (frequency) to ``'M'`` (month end frequency).\n",
      "    \n",
      "    >>> pd.date_range(start='1/1/2018', periods=5, freq='M')\n",
      "    DatetimeIndex(['2018-01-31', '2018-02-28', '2018-03-31', '2018-04-30',\n",
      "                   '2018-05-31'],\n",
      "                  dtype='datetime64[ns]', freq='M')\n",
      "    \n",
      "    Multiples are allowed\n",
      "    \n",
      "    >>> pd.date_range(start='1/1/2018', periods=5, freq='3M')\n",
      "    DatetimeIndex(['2018-01-31', '2018-04-30', '2018-07-31', '2018-10-31',\n",
      "                   '2019-01-31'],\n",
      "                  dtype='datetime64[ns]', freq='3M')\n",
      "    \n",
      "    `freq` can also be specified as an Offset object.\n",
      "    \n",
      "    >>> pd.date_range(start='1/1/2018', periods=5, freq=pd.offsets.MonthEnd(3))\n",
      "    DatetimeIndex(['2018-01-31', '2018-04-30', '2018-07-31', '2018-10-31',\n",
      "                   '2019-01-31'],\n",
      "                  dtype='datetime64[ns]', freq='3M')\n",
      "    \n",
      "    Specify `tz` to set the timezone.\n",
      "    \n",
      "    >>> pd.date_range(start='1/1/2018', periods=5, tz='Asia/Tokyo')\n",
      "    DatetimeIndex(['2018-01-01 00:00:00+09:00', '2018-01-02 00:00:00+09:00',\n",
      "                   '2018-01-03 00:00:00+09:00', '2018-01-04 00:00:00+09:00',\n",
      "                   '2018-01-05 00:00:00+09:00'],\n",
      "                  dtype='datetime64[ns, Asia/Tokyo]', freq='D')\n",
      "    \n",
      "    `closed` controls whether to include `start` and `end` that are on the\n",
      "    boundary. The default includes boundary points on either end.\n",
      "    \n",
      "    >>> pd.date_range(start='2017-01-01', end='2017-01-04', closed=None)\n",
      "    DatetimeIndex(['2017-01-01', '2017-01-02', '2017-01-03', '2017-01-04'],\n",
      "                  dtype='datetime64[ns]', freq='D')\n",
      "    \n",
      "    Use ``closed='left'`` to exclude `end` if it falls on the boundary.\n",
      "    \n",
      "    >>> pd.date_range(start='2017-01-01', end='2017-01-04', closed='left')\n",
      "    DatetimeIndex(['2017-01-01', '2017-01-02', '2017-01-03'],\n",
      "                  dtype='datetime64[ns]', freq='D')\n",
      "    \n",
      "    Use ``closed='right'`` to exclude `start` if it falls on the boundary.\n",
      "    \n",
      "    >>> pd.date_range(start='2017-01-01', end='2017-01-04', closed='right')\n",
      "    DatetimeIndex(['2017-01-02', '2017-01-03', '2017-01-04'],\n",
      "                  dtype='datetime64[ns]', freq='D')\n",
      "\n"
     ]
    }
   ],
   "source": [
    "help(pd.date_range)"
   ]
  },
  {
   "cell_type": "code",
   "execution_count": 64,
   "metadata": {},
   "outputs": [
    {
     "data": {
      "text/plain": [
       "DatetimeIndex(['2017-12-25', '2017-12-26', '2017-12-27', '2017-12-28',\n",
       "               '2017-12-29', '2017-12-30', '2017-12-31', '2018-01-01'],\n",
       "              dtype='datetime64[ns]', freq='D')"
      ]
     },
     "execution_count": 64,
     "metadata": {},
     "output_type": "execute_result"
    }
   ],
   "source": [
    "pd.date_range(end='1/1/2018', periods=8)"
   ]
  },
  {
   "cell_type": "code",
   "execution_count": 65,
   "metadata": {},
   "outputs": [],
   "source": [
    "#list(aa[aa > 15].index)"
   ]
  },
  {
   "cell_type": "markdown",
   "metadata": {},
   "source": []
  },
  {
   "cell_type": "code",
   "execution_count": 66,
   "metadata": {},
   "outputs": [
    {
     "name": "stdout",
     "output_type": "stream",
     "text": [
      "['TIPDOC', 'CODDOC', 'FECHA_ACTUALIZACION_MARKET', 'CODUNICOCLI', 'NOMBRE_COMPLETO', 'DES_GRUPO_ECONOMICO', 'RIESGO', 'ENCARGADO', 'NOMBRE_JEFE', 'ESTADO', 'BUCKET', 'PREOCUPA', 'REGISTRO_x', 'FECHA_LLENADO', 'USUARIO_NOTIFICADO', 'REVISION_USUARIO', 'FECHA_APROBACION', 'IMPACTO', 'PLAN_PROPUESTO', 'MONTO_CRECER', 'DETALLE_CRECER', 'FEVE', 'BLINDAJE', 'MESES_BLINDAJE', 'COMENTARIOS', 'COMENTARIO_ROL_VALIDADOR', 'FUNNEL_1', 'FUNNEL_2', 'FUNNEL_3', 'FUNNEL_4', 'FLG_VIGENTE', 'FLG_SUSPENDIDO', 'FLG_VENCIDA', 'FLG_CANCELADO', 'FLG_MONOLINEA', 'FLG_SOLO_REACTIVA', 'FLG_POSICION', 'CLASIFICACION_LIST_360', 'COD_UNICO_x', 'ACTIVIDAD', 'SUBSECTOR', 'BACKLOG', 'MODELO_NEGOCIO', 'VENTAJA_COMPETITIVA', 'FORTALEZAS_RIESGOS', 'INTEGRACION_VERTICAL', 'GESTION_COMPRAS', 'REGISTRO_y', 'GERENTE_GENERAL', 'GERENTE_FINANCIERO_TIPO', 'GERENTE_FINANCIERO_NOMBRE', 'TIPO_CONTABILIDAD', 'MONTO_LINEA_PROVEEDORES', 'ACTIVO_LIBRE_GRAVAMEN', 'PROYECCION_INVERSION', 'PROYECCION_VENTAS', 'FECHA_ACTUALIZACION', 'PROCEDENCIA_MPRIMA', 'LINEA_SUCESION_FLAG', 'LINEA_SUCESION', 'CAMBIO_GERENCIA_GENERAL_ANNIO', 'CAMBIO_ACCIONISTAS_ANNIO', 'INICIO_IBK', 'INICIO_OP', 'COVID_ID', 'COVID_ID_VISITA', 'COD_UNICO_y', 'COVID_FECHA_REGISTRO', 'COVID_P_1', 'COVID_P_2_1', 'COVID_P_2_2', 'COVID_P_2_3_1', 'COVID_P_2_3_2', 'COVID_P_3', 'COVID_P_4', 'COVID_P_5_1', 'COVID_P_5_2', 'COVID_P_6_1', 'COVID_P_6_2', 'COVID_P_7', 'COVID_P_7_1', 'COVID_P_7_2_1', 'COVID_P_7_2_2', 'COVID_P_7_3', 'COVID_P_7_4', 'COVID_P_8_1', 'COVID_P_8_1_1_1', 'COVID_P_8_1_1_2', 'COVID_P_8_1_2', 'COVID_P_8_2', 'COVID_P_8_3', 'COVID_P_8_3_2', 'COVID_P_8_3_1', 'COVID_P_9_1', 'COVID_P_9_2', 'COVID_P_10_1', 'COVID_P_10_2', 'COVID_P_11', 'COVID_P_11_1_1', 'COVID_P_11_1_2', 'COVID_P_11_2_1', 'COVID_P_11_2_2', 'COVID_P_11_3_1', 'COVID_P_11_3_2', 'COVID_P_11_4_1', 'COVID_P_11_4_2', 'COVID_P_11_5_1', 'COVID_P_11_5_2', 'COVID_P_11_6_1', 'COVID_P_11_6_2', 'COVID_P_12', 'COVID_P_12_1', 'COVID_P_12_2', 'COVID_P_12_2_1', 'COVID_P_12_2_2_1', 'COVID_P_12_2_2_2', 'COVID_P_13', 'COVID_P_14_1', 'COVID_P_14_2', 'COVID_P_14_3', 'COVID_P_14_4', 'COVID_P_14_5', 'COVID_ESTADO_APROBACION', 'COVID_ESTADO_REGISTRO', 'COVID_USUARIO_CREACION', 'COVID_FECHA_CREACION', 'COVID_USUARIO_MODIFICACION', 'COVID_FECHA_MODIFICACION', 'COVID_MONTO_CRECER', 'COVID_DETALLE_CRECER', 'COVID_FECHA_APROBACION', 'COVID_USUARIO_GYS', 'COVID_USUARIO_ADMISION', 'COVID_USUARIO_NOTIFICADO', 'COVID_USUARIO_ACOMP', 'VISITAME_ID', 'COD_UNICO', 'FLG_CAMBIO_MIX_VENTAS', 'FLG_CAMBIO_PROCESO_INTEGRACION', 'FLG_CAMBIO_CONCENTRACION_VENTAS', 'FLG_CAMBIO_CONCENTRACION_PROVEEDORES', 'FLG_CAMBIO_OPERACIONES', 'FLG_CAMBIO_ZONA_CLIENTES', 'FLG_CAMBIO_GERENCIA_GENERAL', 'FLG_CAMBIO_GESTION_FINANCIERA', 'FLG_CAMBIO_ACCIONISTAS', 'FLG_CAMBIO_LINEAS', 'VISITAME_REGISTRO', 'VISITAME_ENTREVISTADO_CARGO', 'VISITAME_ENTREVISTADO_NOMBRE', 'VISITAME_COMENTARIOS', 'VISITAME_FECHA_VISITA', 'VISITAME_FECHA_REGISTRO', 'FLG_CAMBIO_INVERSION_ACTIVO_PATRIMONIO', 'FLG_CAMBIO_PRESTAMO_DESVIO', 'FLG_CAMBIO_BACKLOG', 'VISITAME_REVISION_FECHA', 'VISITAME_REVISION_USUARIO', 'FLG_CAMBIO_MODELO_NEGOCIO', 'VISITAME_CAMBIO_PRESTAMO_DESVIO', 'VISITAME_CAMBIO_INVERSION_ACTIVO_PATRIMONIO', 'FLG_PROCESO', 'VISITAME_FECHA_PROCESO', 'VISITAME_COMENTARIO_ROL_VALIDADOR']\n"
     ]
    }
   ],
   "source": [
    "print(list(conoceme.columns))"
   ]
  },
  {
   "cell_type": "code",
   "execution_count": 67,
   "metadata": {},
   "outputs": [],
   "source": [
    "def parser_si_no(val):\n",
    "    return 'SI' if str(val).strip() == '1' else 'NO'"
   ]
  },
  {
   "cell_type": "markdown",
   "metadata": {},
   "source": [
    "### ¿ AYUDA LA FICHA COVID A DETECTAR CLIENTES PREOCUPAN?"
   ]
  },
  {
   "cell_type": "code",
   "execution_count": 68,
   "metadata": {},
   "outputs": [],
   "source": [
    "#covid.to_excel('FICHA_COVID.xlsx', index=False)"
   ]
  },
  {
   "cell_type": "code",
   "execution_count": 69,
   "metadata": {},
   "outputs": [],
   "source": [
    "#conoceme.to_excel('FICHA_CONOCEME.xlsx', index=False)"
   ]
  },
  {
   "cell_type": "markdown",
   "metadata": {},
   "source": [
    "### >> 1- Indicar si la pandemia COVID-19, ha tenido un impacto negativo en la gestión / 13- Definir dentro de las siguientes 3 alternativas el grado de impacto negativo al COVID19 "
   ]
  },
  {
   "cell_type": "markdown",
   "metadata": {},
   "source": [
    "#### Se intuye 1 = SI, 2 = NO"
   ]
  },
  {
   "cell_type": "code",
   "execution_count": 70,
   "metadata": {},
   "outputs": [
    {
     "data": {
      "text/plain": [
       "SI    384\n",
       "NO    122\n",
       "Name: COVID_P_1, dtype: int64"
      ]
     },
     "execution_count": 70,
     "metadata": {},
     "output_type": "execute_result"
    }
   ],
   "source": [
    "conoceme['COVID_P_1'] = conoceme['COVID_P_1'].apply(parser_si_no)\n",
    "conoceme['COVID_P_1'].value_counts()"
   ]
  },
  {
   "cell_type": "code",
   "execution_count": 71,
   "metadata": {},
   "outputs": [
    {
     "data": {
      "text/plain": [
       "SI    0.758893\n",
       "NO    0.241107\n",
       "Name: COVID_P_1, dtype: float64"
      ]
     },
     "execution_count": 71,
     "metadata": {},
     "output_type": "execute_result"
    }
   ],
   "source": [
    "conoceme['COVID_P_1'].value_counts(dropna=False, normalize=True)"
   ]
  },
  {
   "cell_type": "markdown",
   "metadata": {},
   "source": [
    "## Comparación de preguntas relacionadas al IMPACTO COVID"
   ]
  },
  {
   "cell_type": "markdown",
   "metadata": {},
   "source": [
    "#### OBJETIVO: Ver si guardan relación segpun lo expuesto por el cliente o si se trata de error de llenado acorde a lo observado"
   ]
  },
  {
   "cell_type": "code",
   "execution_count": 72,
   "metadata": {},
   "outputs": [],
   "source": [
    "conoceme['IMPACTO_COVID'] = conoceme['COVID_P_13'].copy()\n",
    "conoceme['COVID_P_1_TE_AFECTO_COVID'] = conoceme['COVID_P_1'].copy()\n",
    "del conoceme['COVID_P_13']\n",
    "del conoceme['COVID_P_1']\n",
    "\n",
    "conoceme['IMPACTO_COVID'] = pd.Categorical(conoceme['IMPACTO_COVID'], [\"sin impacto\", \"bajo\", \"medio\", \"alto\"])\n"
   ]
  },
  {
   "cell_type": "code",
   "execution_count": 73,
   "metadata": {},
   "outputs": [
    {
     "data": {
      "image/png": "[encoded data removed]",
      "text/plain": [
       "<Figure size 720x504 with 2 Axes>"
      ]
     },
     "metadata": {},
     "output_type": "display_data"
    }
   ],
   "source": [
    "view_cat(conoceme, 'COVID_P_1_TE_AFECTO_COVID', 'IMPACTO_COVID', percent=True)"
   ]
  },
  {
   "cell_type": "code",
   "execution_count": 74,
   "metadata": {},
   "outputs": [
    {
     "data": {
      "text/plain": [
       "CategoricalDtype(categories=['sin impacto', 'bajo', 'medio', 'alto'], ordered=False)"
      ]
     },
     "execution_count": 74,
     "metadata": {},
     "output_type": "execute_result"
    }
   ],
   "source": [
    "conoceme['IMPACTO_COVID'].dtype"
   ]
  },
  {
   "cell_type": "markdown",
   "metadata": {},
   "source": [
    "#### NOTA: Se considerará con mayor peso la pregunta 13 donde el cliente toma una opción dentro de un rango, pero en consideracipon los casos donde hay controversía con la 1er pregunta"
   ]
  },
  {
   "cell_type": "code",
   "execution_count": null,
   "metadata": {},
   "outputs": [],
   "source": []
  },
  {
   "cell_type": "code",
   "execution_count": null,
   "metadata": {},
   "outputs": [],
   "source": []
  },
  {
   "cell_type": "code",
   "execution_count": null,
   "metadata": {},
   "outputs": [],
   "source": []
  },
  {
   "cell_type": "markdown",
   "metadata": {},
   "source": [
    "## >> Etiquetas validadas"
   ]
  },
  {
   "cell_type": "markdown",
   "metadata": {},
   "source": [
    "##### Etiqueta 1"
   ]
  },
  {
   "cell_type": "code",
   "execution_count": 75,
   "metadata": {},
   "outputs": [
    {
     "data": {
      "text/plain": [
       "MANTENER         386\n",
       "FEVE              46\n",
       "CRECER            45\n",
       "REPROGRAMAR       24\n",
       "REPERFILAR         2\n",
       "REFINANCIAR        2\n",
       "SIN CATEGORIA      1\n",
       "Name: COVID_ESTRATEGIA, dtype: int64"
      ]
     },
     "execution_count": 75,
     "metadata": {},
     "output_type": "execute_result"
    }
   ],
   "source": [
    "conoceme['COVID_ESTRATEGIA'] = conoceme['COVID_P_14_1'].copy()\n",
    "conoceme['COVID_ESTRATEGIA'] = conoceme['COVID_ESTRATEGIA'].fillna('Sin categoria')\n",
    "conoceme['COVID_ESTRATEGIA'] = conoceme['COVID_ESTRATEGIA'].apply(lambda _: _.strip().upper())\n",
    "\n",
    "conoceme['COVID_ESTRATEGIA'].value_counts(dropna=False) # ESTRATEGIA"
   ]
  },
  {
   "cell_type": "markdown",
   "metadata": {},
   "source": [
    "##### Etiqueta 2"
   ]
  },
  {
   "cell_type": "code",
   "execution_count": 76,
   "metadata": {},
   "outputs": [
    {
     "data": {
      "text/plain": [
       "SIN FEVE         286\n",
       "SEGUIR COVID      85\n",
       "SEGUIR            75\n",
       "REDUCIR           25\n",
       "SIN CATEGORIA     21\n",
       "GARANTIZAR         9\n",
       "SALIR              5\n",
       "Name: COVID_FEVE, dtype: int64"
      ]
     },
     "execution_count": 76,
     "metadata": {},
     "output_type": "execute_result"
    }
   ],
   "source": [
    "conoceme['COVID_FEVE'] = conoceme['COVID_P_14_2'].copy()\n",
    "conoceme['COVID_FEVE'] = conoceme['COVID_FEVE'].fillna('Sin categoria')\n",
    "conoceme['COVID_FEVE'] = conoceme['COVID_FEVE'].apply(lambda _: _.strip().upper())\n",
    "\n",
    "conoceme['COVID_FEVE'].value_counts(dropna=False) # FEVE"
   ]
  },
  {
   "cell_type": "markdown",
   "metadata": {},
   "source": [
    "### Ordenamiento de categorias"
   ]
  },
  {
   "cell_type": "code",
   "execution_count": 77,
   "metadata": {},
   "outputs": [],
   "source": [
    "conoceme['COVID_ESTRATEGIA'] = pd.Categorical(\n",
    "    conoceme['COVID_ESTRATEGIA'], [\n",
    "        _.upper() for _ in [\"SIN CATEGORIA\", \"FEVE\", \"REFINANCIAR\", \"REPERFILAR\", \"REPROGRAMAR\", \"MANTENER\",  \"CRECER\"]\n",
    "    ]\n",
    ")"
   ]
  },
  {
   "cell_type": "code",
   "execution_count": 78,
   "metadata": {},
   "outputs": [],
   "source": [
    "conoceme['COVID_FEVE'] = pd.Categorical(\n",
    "    conoceme['COVID_FEVE'], [\n",
    "        _.upper() for _ in [\"Salir\", \"Reducir\", \"Seguir COVID\", \"Seguir\", \"Garantizar\", \"Sin FEVE\"]\n",
    "    ]\n",
    ")"
   ]
  },
  {
   "cell_type": "code",
   "execution_count": 79,
   "metadata": {},
   "outputs": [],
   "source": [
    "from statsmodels.graphics.mosaicplot import mosaic"
   ]
  },
  {
   "cell_type": "code",
   "execution_count": 80,
   "metadata": {},
   "outputs": [
    {
     "name": "stdout",
     "output_type": "stream",
     "text": [
      "Help on function mosaic in module statsmodels.graphics.mosaicplot:\n",
      "\n",
      "mosaic(data, index=None, ax=None, horizontal=True, gap=0.005, properties=<function <lambda> at 0x000002576416B948>, labelizer=None, title='', statistic=False, axes_label=True, label_rotation=0.0)\n",
      "    Create a mosaic plot from a contingency table.\n",
      "    \n",
      "    It allows to visualize multivariate categorical data in a rigorous\n",
      "    and informative way.\n",
      "    \n",
      "    Parameters\n",
      "    ----------\n",
      "    data : {dict, Series, ndarray, DataFrame}\n",
      "        The contingency table that contains the data.\n",
      "        Each category should contain a non-negative number\n",
      "        with a tuple as index.  It expects that all the combination\n",
      "        of keys to be represents; if that is not true, will\n",
      "        automatically consider the missing values as 0.  The order\n",
      "        of the keys will be the same as the one of insertion.\n",
      "        If a dict of a Series (or any other dict like object)\n",
      "        is used, it will take the keys as labels.  If a\n",
      "        np.ndarray is provided, it will generate a simple\n",
      "        numerical labels.\n",
      "    index : list, optional\n",
      "        Gives the preferred order for the category ordering. If not specified\n",
      "        will default to the given order.  It does not support named indexes\n",
      "        for hierarchical Series.  If a DataFrame is provided, it expects\n",
      "        a list with the name of the columns.\n",
      "    ax : Axes, optional\n",
      "        The graph where display the mosaic. If not given, will\n",
      "        create a new figure\n",
      "    horizontal : bool, optional\n",
      "        The starting direction of the split (by default along\n",
      "        the horizontal axis)\n",
      "    gap : {float, sequence[float]}\n",
      "        The list of gaps to be applied on each subdivision.\n",
      "        If the length of the given array is less of the number\n",
      "        of subcategories (or if it's a single number) it will extend\n",
      "        it with exponentially decreasing gaps\n",
      "    properties : dict[str, callable], optional\n",
      "        A function that for each tile in the mosaic take the key\n",
      "        of the tile and returns the dictionary of properties\n",
      "        of the generated Rectangle, like color, hatch or similar.\n",
      "        A default properties set will be provided fot the keys whose\n",
      "        color has not been defined, and will use color variation to help\n",
      "        visually separates the various categories. It should return None\n",
      "        to indicate that it should use the default property for the tile.\n",
      "        A dictionary of the properties for each key can be passed,\n",
      "        and it will be internally converted to the correct function\n",
      "    labelizer : dict[str, callable], optional\n",
      "        A function that generate the text to display at the center of\n",
      "        each tile base on the key of that tile\n",
      "    title : str, optional\n",
      "        The title of the axis\n",
      "    statistic : bool, optional\n",
      "        If true will use a crude statistical model to give colors to the plot.\n",
      "        If the tile has a constraint that is more than 2 standard deviation\n",
      "        from the expected value under independence hypothesis, it will\n",
      "        go from green to red (for positive deviations, blue otherwise) and\n",
      "        will acquire an hatching when crosses the 3 sigma.\n",
      "    axes_label : bool, optional\n",
      "        Show the name of each value of each category\n",
      "        on the axis (default) or hide them.\n",
      "    label_rotation : {float, list[float]}\n",
      "        The rotation of the axis label (if present). If a list is given\n",
      "        each axis can have a different rotation\n",
      "    \n",
      "    Returns\n",
      "    ---------\n",
      "    fig : Figure\n",
      "        The figure containing the plot.\n",
      "    rects : dict\n",
      "        A dictionary that has the same keys of the original\n",
      "        dataset, that holds a reference to the coordinates of the\n",
      "        tile and the Rectangle that represent it.\n",
      "    \n",
      "    References\n",
      "    ----------\n",
      "    A Brief History of the Mosaic Display\n",
      "        Michael Friendly, York University, Psychology Department\n",
      "        Journal of Computational and Graphical Statistics, 2001\n",
      "    \n",
      "    Mosaic Displays for Loglinear Models.\n",
      "        Michael Friendly, York University, Psychology Department\n",
      "        Proceedings of the Statistical Graphics Section, 1992, 61-68.\n",
      "    \n",
      "    Mosaic displays for multi-way contingency tables.\n",
      "        Michael Friendly, York University, Psychology Department\n",
      "        Journal of the american statistical association\n",
      "        March 1994, Vol. 89, No. 425, Theory and Methods\n",
      "    \n",
      "    Examples\n",
      "    ----------\n",
      "    >>> import numpy as np\n",
      "    >>> import pandas as pd\n",
      "    >>> import matplotlib.pyplot as plt\n",
      "    >>> from statsmodels.graphics.mosaicplot import mosaic\n",
      "    \n",
      "    The most simple use case is to take a dictionary and plot the result\n",
      "    \n",
      "    >>> data = {'a': 10, 'b': 15, 'c': 16}\n",
      "    >>> mosaic(data, title='basic dictionary')\n",
      "    >>> plt.show()\n",
      "    \n",
      "    A more useful example is given by a dictionary with multiple indices.\n",
      "    In this case we use a wider gap to a better visual separation of the\n",
      "    resulting plot\n",
      "    \n",
      "    >>> data = {('a', 'b'): 1, ('a', 'c'): 2, ('d', 'b'): 3, ('d', 'c'): 4}\n",
      "    >>> mosaic(data, gap=0.05, title='complete dictionary')\n",
      "    >>> plt.show()\n",
      "    \n",
      "    The same data can be given as a simple or hierarchical indexed Series\n",
      "    \n",
      "    >>> rand = np.random.random\n",
      "    >>> from itertools import product\n",
      "    >>> tuples = list(product(['bar', 'baz', 'foo', 'qux'], ['one', 'two']))\n",
      "    >>> index = pd.MultiIndex.from_tuples(tuples, names=['first', 'second'])\n",
      "    >>> data = pd.Series(rand(8), index=index)\n",
      "    >>> mosaic(data, title='hierarchical index series')\n",
      "    >>> plt.show()\n",
      "    \n",
      "    The third accepted data structure is the np array, for which a\n",
      "    very simple index will be created.\n",
      "    \n",
      "    >>> rand = np.random.random\n",
      "    >>> data = 1+rand((2,2))\n",
      "    >>> mosaic(data, title='random non-labeled array')\n",
      "    >>> plt.show()\n",
      "    \n",
      "    If you need to modify the labeling and the coloring you can give\n",
      "    a function tocreate the labels and one with the graphical properties\n",
      "    starting from the key tuple\n",
      "    \n",
      "    >>> data = {'a': 10, 'b': 15, 'c': 16}\n",
      "    >>> props = lambda key: {'color': 'r' if 'a' in key else 'gray'}\n",
      "    >>> labelizer = lambda k: {('a',): 'first', ('b',): 'second',\n",
      "    ...                        ('c',): 'third'}[k]\n",
      "    >>> mosaic(data, title='colored dictionary', properties=props,\n",
      "    ...        labelizer=labelizer)\n",
      "    >>> plt.show()\n",
      "    \n",
      "    Using a DataFrame as source, specifying the name of the columns of interest\n",
      "    \n",
      "    >>> gender = ['male', 'male', 'male', 'female', 'female', 'female']\n",
      "    >>> pet = ['cat', 'dog', 'dog', 'cat', 'dog', 'cat']\n",
      "    >>> data = pd.DataFrame({'gender': gender, 'pet': pet})\n",
      "    >>> mosaic(data, ['pet', 'gender'], title='DataFrame as Source')\n",
      "    >>> plt.show()\n",
      "    \n",
      "    .. plot :: plots/graphics_mosaicplot_mosaic.py\n",
      "\n"
     ]
    }
   ],
   "source": [
    "\n",
    "help(mosaic)"
   ]
  },
  {
   "cell_type": "code",
   "execution_count": 81,
   "metadata": {},
   "outputs": [
    {
     "ename": "AssertionError",
     "evalue": "",
     "output_type": "error",
     "traceback": [
      "\u001b[1;31m---------------------------------------------------------------------------\u001b[0m",
      "\u001b[1;31mAssertionError\u001b[0m                            Traceback (most recent call last)",
      "\u001b[1;32m<ipython-input-81-a871fdc9ebee>\u001b[0m in \u001b[0;36m<module>\u001b[1;34m\u001b[0m\n\u001b[1;32m----> 1\u001b[1;33m \u001b[1;32massert\u001b[0m \u001b[1;32mFalse\u001b[0m\u001b[1;33m\u001b[0m\u001b[1;33m\u001b[0m\u001b[0m\n\u001b[0m",
      "\u001b[1;31mAssertionError\u001b[0m: "
     ]
    }
   ],
   "source": [
    "#assert False"
   ]
  },
  {
   "cell_type": "code",
   "execution_count": 82,
   "metadata": {},
   "outputs": [
    {
     "data": {
      "text/plain": [
       "(506, 166)"
      ]
     },
     "execution_count": 82,
     "metadata": {},
     "output_type": "execute_result"
    }
   ],
   "source": [
    "conoceme.shape"
   ]
  },
  {
   "cell_type": "code",
   "execution_count": 83,
   "metadata": {},
   "outputs": [
    {
     "data": {
      "text/plain": [
       "2    449\n",
       "1     57\n",
       "Name: COVID_P_2_2, dtype: int64"
      ]
     },
     "execution_count": 83,
     "metadata": {},
     "output_type": "execute_result"
    }
   ],
   "source": [
    "conoceme['COVID_P_2_2'].value_counts(dropna=False)"
   ]
  },
  {
   "cell_type": "code",
   "execution_count": 84,
   "metadata": {},
   "outputs": [
    {
     "ename": "NameError",
     "evalue": "name 'axes' is not defined",
     "output_type": "error",
     "traceback": [
      "\u001b[1;31m---------------------------------------------------------------------------\u001b[0m",
      "\u001b[1;31mNameError\u001b[0m                                 Traceback (most recent call last)",
      "\u001b[1;32m<ipython-input-84-3b2461626d36>\u001b[0m in \u001b[0;36m<module>\u001b[1;34m\u001b[0m\n\u001b[0;32m      1\u001b[0m \u001b[1;31m#fig, axes = plt.subplots(nrows=1, ncols=1, figsize=(10, 7))\u001b[0m\u001b[1;33m\u001b[0m\u001b[1;33m\u001b[0m\u001b[1;33m\u001b[0m\u001b[0m\n\u001b[1;32m----> 2\u001b[1;33m \u001b[0mmosaic\u001b[0m\u001b[1;33m(\u001b[0m\u001b[0mconoceme\u001b[0m\u001b[1;33m,\u001b[0m \u001b[1;33m[\u001b[0m\u001b[1;34m'PREOCUPA'\u001b[0m\u001b[1;33m,\u001b[0m \u001b[1;34m'COVID_FEVE'\u001b[0m\u001b[1;33m]\u001b[0m\u001b[1;33m,\u001b[0m \u001b[0mgap\u001b[0m\u001b[1;33m=\u001b[0m\u001b[1;36m0\u001b[0m\u001b[1;33m,\u001b[0m \u001b[0max\u001b[0m\u001b[1;33m=\u001b[0m\u001b[0maxes\u001b[0m\u001b[1;33m,\u001b[0m \u001b[0mstatistic\u001b[0m\u001b[1;33m=\u001b[0m\u001b[1;32mFalse\u001b[0m\u001b[1;33m,\u001b[0m \u001b[0maxes_label\u001b[0m\u001b[1;33m=\u001b[0m\u001b[1;32mFalse\u001b[0m\u001b[1;33m)\u001b[0m\u001b[1;33m\u001b[0m\u001b[1;33m\u001b[0m\u001b[0m\n\u001b[0m\u001b[0;32m      3\u001b[0m \u001b[1;31m#conoceme['COVID_ACOGIO_SUSPENSION_PERFECTA'].value_counts(dropna=False)\u001b[0m\u001b[1;33m\u001b[0m\u001b[1;33m\u001b[0m\u001b[1;33m\u001b[0m\u001b[0m\n\u001b[0;32m      4\u001b[0m \u001b[0mconoceme\u001b[0m\u001b[1;33m[\u001b[0m\u001b[1;34m'COVID_ACOGIO_SUSPENSION_PERFECTA'\u001b[0m\u001b[1;33m]\u001b[0m \u001b[1;33m=\u001b[0m \u001b[0mconoceme\u001b[0m\u001b[1;33m[\u001b[0m\u001b[1;34m'COVID_P_2_2'\u001b[0m\u001b[1;33m]\u001b[0m\u001b[1;33m.\u001b[0m\u001b[0mapply\u001b[0m\u001b[1;33m(\u001b[0m\u001b[1;32mlambda\u001b[0m \u001b[0m_\u001b[0m\u001b[1;33m:\u001b[0m \u001b[1;34m'SI'\u001b[0m \u001b[1;32mif\u001b[0m \u001b[0mstr\u001b[0m\u001b[1;33m(\u001b[0m\u001b[0m_\u001b[0m\u001b[1;33m)\u001b[0m\u001b[1;33m.\u001b[0m\u001b[0mstrip\u001b[0m\u001b[1;33m(\u001b[0m\u001b[1;33m)\u001b[0m \u001b[1;32min\u001b[0m \u001b[1;33m(\u001b[0m\u001b[1;34m'1'\u001b[0m\u001b[1;33m,\u001b[0m \u001b[1;34m'1.0'\u001b[0m\u001b[1;33m)\u001b[0m \u001b[1;32melse\u001b[0m \u001b[1;34m'NO'\u001b[0m\u001b[1;33m)\u001b[0m\u001b[1;33m\u001b[0m\u001b[1;33m\u001b[0m\u001b[0m\n\u001b[0;32m      5\u001b[0m \u001b[1;31m#del conoceme['COVID_P_2_2']\u001b[0m\u001b[1;33m\u001b[0m\u001b[1;33m\u001b[0m\u001b[1;33m\u001b[0m\u001b[0m\n",
      "\u001b[1;31mNameError\u001b[0m: name 'axes' is not defined"
     ]
    }
   ],
   "source": [
    "fig, axes = plt.subplots(nrows=1, ncols=1, figsize=(10, 7))\n",
    "mosaic(conoceme, ['PREOCUPA', 'COVID_FEVE'], gap=0, ax=axes, statistic=False, axes_label=False)\n",
    "#conoceme['COVID_ACOGIO_SUSPENSION_PERFECTA'].value_counts(dropna=False)\n",
    "conoceme['COVID_ACOGIO_SUSPENSION_PERFECTA'] = conoceme['COVID_P_2_2'].apply(lambda _: 'SI' if str(_).strip() in ('1', '1.0') else 'NO')\n",
    "#del conoceme['COVID_P_2_2']\n",
    "conoceme['COVID_ACOGIO_SUSPENSION_PERFECTA'].value_counts()"
   ]
  },
  {
   "cell_type": "code",
   "execution_count": 85,
   "metadata": {},
   "outputs": [
    {
     "data": {
      "text/plain": [
       "0    388\n",
       "1    118\n",
       "Name: PREOCUPA, dtype: int64"
      ]
     },
     "execution_count": 85,
     "metadata": {},
     "output_type": "execute_result"
    }
   ],
   "source": [
    "conoceme['PREOCUPA'].value_counts()"
   ]
  },
  {
   "cell_type": "code",
   "execution_count": 86,
   "metadata": {},
   "outputs": [
    {
     "data": {
      "text/plain": [
       "NO    388\n",
       "SI    118\n",
       "Name: PREOCUPA_, dtype: int64"
      ]
     },
     "execution_count": 86,
     "metadata": {},
     "output_type": "execute_result"
    }
   ],
   "source": [
    "conoceme['PREOCUPA_'] = conoceme['PREOCUPA'].apply(lambda _: 'SI' if str(_).strip() == '1' else 'NO')\n",
    "conoceme['PREOCUPA_'].value_counts()"
   ]
  },
  {
   "cell_type": "code",
   "execution_count": 87,
   "metadata": {},
   "outputs": [],
   "source": [
    "#conoceme['COVID_ACOGIO_SUSPENSION_PERFECTA_'] = conoceme['COVID_ACOGIO_SUSPENSION_PERFECTA'].apply(\n",
    "#    lambda _: 'SI SE ACOGIO' if _ == 'SI' else 'NO SE ACOGIÓ'\n",
    "#)\n",
    "#conoceme['COVID_ACOGIO_SUSPENSION_PERFECTA_'].value_counts()"
   ]
  },
  {
   "cell_type": "code",
   "execution_count": 88,
   "metadata": {},
   "outputs": [
    {
     "data": {
      "text/plain": [
       "(<Figure size 1080x504 with 3 Axes>,\n",
       " OrderedDict([(('SEGUIR', 'medio'),\n",
       "               (0.0, 0.0, 0.12371134020618557, 0.46060606060606063)),\n",
       "              (('SEGUIR', 'alto'),\n",
       "               (0.0,\n",
       "                0.4909090909090909,\n",
       "                0.12371134020618557,\n",
       "                0.14545454545454536)),\n",
       "              (('SEGUIR', 'bajo'),\n",
       "               (0.0,\n",
       "                0.6666666666666665,\n",
       "                0.12371134020618557,\n",
       "                0.23030303030303034)),\n",
       "              (('SEGUIR', 'sin impacto'),\n",
       "               (0.0,\n",
       "                0.9272727272727272,\n",
       "                0.12371134020618557,\n",
       "                0.07272727272727268)),\n",
       "              (('SEGUIR COVID', 'medio'),\n",
       "               (0.16371134020618555,\n",
       "                0.0,\n",
       "                0.1402061855670103,\n",
       "                0.36363636363636365)),\n",
       "              (('SEGUIR COVID', 'alto'),\n",
       "               (0.16371134020618555,\n",
       "                0.3939393939393939,\n",
       "                0.1402061855670103,\n",
       "                0.49197860962566836)),\n",
       "              (('SEGUIR COVID', 'bajo'),\n",
       "               (0.16371134020618555,\n",
       "                0.9162210338680926,\n",
       "                0.1402061855670103,\n",
       "                0.05347593582887701)),\n",
       "              (('SEGUIR COVID', 'sin impacto'),\n",
       "               (0.16371134020618555, 1.0, 0.1402061855670103, 0.0)),\n",
       "              (('SIN FEVE', 'medio'),\n",
       "               (0.3439175257731959,\n",
       "                0.0,\n",
       "                0.47175257731958753,\n",
       "                0.31150667514303876)),\n",
       "              (('SIN FEVE', 'alto'),\n",
       "               (0.3439175257731959,\n",
       "                0.34180970544606903,\n",
       "                0.47175257731958753,\n",
       "                0.02542911633820724)),\n",
       "              (('SIN FEVE', 'bajo'),\n",
       "               (0.3439175257731959,\n",
       "                0.3975418520873066,\n",
       "                0.47175257731958753,\n",
       "                0.4132231404958678)),\n",
       "              (('SIN FEVE', 'sin impacto'),\n",
       "               (0.3439175257731959,\n",
       "                0.8410680228862046,\n",
       "                0.47175257731958753,\n",
       "                0.15893197711379525)),\n",
       "              (('GARANTIZAR', 'medio'),\n",
       "               (0.8556701030927835,\n",
       "                0.0,\n",
       "                0.014845360824742304,\n",
       "                0.7070707070707071)),\n",
       "              (('GARANTIZAR', 'alto'),\n",
       "               (0.8556701030927835,\n",
       "                0.7373737373737373,\n",
       "                0.014845360824742304,\n",
       "                0.10101010101010095)),\n",
       "              (('GARANTIZAR', 'bajo'),\n",
       "               (0.8556701030927835,\n",
       "                0.8686868686868685,\n",
       "                0.014845360824742304,\n",
       "                0.10101010101010105)),\n",
       "              (('GARANTIZAR', 'sin impacto'),\n",
       "               (0.8556701030927835, 1.0, 0.014845360824742304, 0.0)),\n",
       "              (('REDUCIR', 'medio'),\n",
       "               (0.9105154639175257,\n",
       "                0.0,\n",
       "                0.04123711340206189,\n",
       "                0.4363636363636363)),\n",
       "              (('REDUCIR', 'alto'),\n",
       "               (0.9105154639175257,\n",
       "                0.4666666666666666,\n",
       "                0.04123711340206189,\n",
       "                0.3272727272727272)),\n",
       "              (('REDUCIR', 'bajo'),\n",
       "               (0.9105154639175257,\n",
       "                0.8242424242424241,\n",
       "                0.04123711340206189,\n",
       "                0.14545454545454548)),\n",
       "              (('REDUCIR', 'sin impacto'),\n",
       "               (0.9105154639175257, 1.0, 0.04123711340206189, 0.0)),\n",
       "              (('SALIR', 'medio'),\n",
       "               (0.9917525773195877,\n",
       "                0.0,\n",
       "                0.008247422680412342,\n",
       "                0.5454545454545454)),\n",
       "              (('SALIR', 'alto'),\n",
       "               (0.9917525773195877,\n",
       "                0.5757575757575757,\n",
       "                0.008247422680412342,\n",
       "                0.36363636363636365)),\n",
       "              (('SALIR', 'bajo'),\n",
       "               (0.9917525773195877,\n",
       "                0.9696969696969696,\n",
       "                0.008247422680412342,\n",
       "                0.0)),\n",
       "              (('SALIR', 'sin impacto'),\n",
       "               (0.9917525773195877, 1.0, 0.008247422680412342, 0.0))]))"
      ]
     },
     "execution_count": 88,
     "metadata": {},
     "output_type": "execute_result"
    },
    {
     "data": {
      "image/png": "[encoded data removed]",
      "text/plain": [
       "<Figure size 1080x504 with 3 Axes>"
      ]
     },
     "metadata": {},
     "output_type": "display_data"
    }
   ],
   "source": [
    "fig, axes = plt.subplots(nrows=1, ncols=1, figsize=(15, 7))\n",
    "mosaic(conoceme, ['COVID_FEVE', 'IMPACTO_COVID'], gap=0.05, ax=axes, statistic=False, axes_label=True)"
   ]
  },
  {
   "cell_type": "code",
   "execution_count": null,
   "metadata": {},
   "outputs": [],
   "source": []
  },
  {
   "cell_type": "code",
   "execution_count": null,
   "metadata": {},
   "outputs": [],
   "source": []
  },
  {
   "cell_type": "code",
   "execution_count": 89,
   "metadata": {},
   "outputs": [
    {
     "data": {
      "image/png": "[encoded data removed]",
      "text/plain": [
       "<Figure size 720x504 with 2 Axes>"
      ]
     },
     "metadata": {},
     "output_type": "display_data"
    }
   ],
   "source": [
    "view_cat(conoceme, 'PREOCUPA', 'COVID_FEVE', percent=True)"
   ]
  },
  {
   "cell_type": "code",
   "execution_count": 90,
   "metadata": {},
   "outputs": [
    {
     "data": {
      "text/plain": [
       "<seaborn.axisgrid.FacetGrid at 0x257653ddd08>"
      ]
     },
     "execution_count": 90,
     "metadata": {},
     "output_type": "execute_result"
    },
    {
     "data": {
      "image/png": "[encoded data removed]",
      "text/plain": [
       "<Figure size 360x360 with 1 Axes>"
      ]
     },
     "metadata": {},
     "output_type": "display_data"
    }
   ],
   "source": [
    "#fig, axes = plt.subplots(nrows=1, ncols=1, figsize=(10, 7))\n",
    "sns.catplot(x=\"COVID_FEVE\", y=\"PREOCUPA\", kind=\"bar\", data=conoceme)"
   ]
  },
  {
   "cell_type": "code",
   "execution_count": 91,
   "metadata": {},
   "outputs": [
    {
     "data": {
      "text/plain": [
       "<seaborn.axisgrid.FacetGrid at 0x257652e5708>"
      ]
     },
     "execution_count": 91,
     "metadata": {},
     "output_type": "execute_result"
    },
    {
     "data": {
      "image/png": "[encoded data removed]",
      "text/plain": [
       "<Figure size 540x360 with 6 Axes>"
      ]
     },
     "metadata": {},
     "output_type": "display_data"
    }
   ],
   "source": [
    "sns.catplot(x=\"PREOCUPA\", col=\"COVID_FEVE\", col_wrap=3,\n",
    "                data=conoceme, kind=\"count\", height=2.5)"
   ]
  },
  {
   "cell_type": "code",
   "execution_count": 92,
   "metadata": {},
   "outputs": [
    {
     "data": {
      "image/png": "[encoded data removed]",
      "text/plain": [
       "<Figure size 720x504 with 2 Axes>"
      ]
     },
     "metadata": {},
     "output_type": "display_data"
    }
   ],
   "source": [
    "view_cat(conoceme, 'COVID_P_1_TE_AFECTO_COVID', 'COVID_FEVE', percent=True)"
   ]
  },
  {
   "cell_type": "markdown",
   "metadata": {},
   "source": [
    "##### CRUCE  DE CATGORIAS MANEJADAS ACTUALMENTE"
   ]
  },
  {
   "cell_type": "code",
   "execution_count": 93,
   "metadata": {},
   "outputs": [
    {
     "data": {
      "image/png": "[encoded data removed]",
      "text/plain": [
       "<Figure size 720x504 with 2 Axes>"
      ]
     },
     "metadata": {},
     "output_type": "display_data"
    }
   ],
   "source": [
    "view_cat(conoceme, 'COVID_ESTRATEGIA', 'COVID_FEVE', percent=False)"
   ]
  },
  {
   "cell_type": "code",
   "execution_count": null,
   "metadata": {},
   "outputs": [],
   "source": []
  },
  {
   "cell_type": "code",
   "execution_count": null,
   "metadata": {},
   "outputs": [],
   "source": []
  },
  {
   "cell_type": "markdown",
   "metadata": {},
   "source": [
    "## >> Validación de importnacia de la pregunta: 2_1 ¿Se encuentra actualmente operando?"
   ]
  },
  {
   "cell_type": "code",
   "execution_count": 94,
   "metadata": {},
   "outputs": [
    {
     "data": {
      "text/plain": [
       "1    492\n",
       "2     14\n",
       "Name: COVID_P_2_1_ESTA_OPERANDO, dtype: int64"
      ]
     },
     "execution_count": 94,
     "metadata": {},
     "output_type": "execute_result"
    }
   ],
   "source": [
    "conoceme['COVID_P_2_1_ESTA_OPERANDO'] = conoceme['COVID_P_2_1'].copy()\n",
    "conoceme['COVID_P_2_1_ESTA_OPERANDO'].value_counts(dropna=False)"
   ]
  },
  {
   "cell_type": "markdown",
   "metadata": {},
   "source": [
    "#### En porcentaje"
   ]
  },
  {
   "cell_type": "code",
   "execution_count": 95,
   "metadata": {},
   "outputs": [
    {
     "data": {
      "text/plain": [
       "1    0.972332\n",
       "2    0.027668\n",
       "Name: COVID_P_2_1_ESTA_OPERANDO, dtype: float64"
      ]
     },
     "execution_count": 95,
     "metadata": {},
     "output_type": "execute_result"
    }
   ],
   "source": [
    "conoceme['COVID_P_2_1_ESTA_OPERANDO'].value_counts(dropna=False, normalize=True)"
   ]
  },
  {
   "cell_type": "code",
   "execution_count": 96,
   "metadata": {},
   "outputs": [],
   "source": [
    "conoceme['COVID_P_2_1_ESTA_OPERANDO'] = conoceme['COVID_P_2_1_ESTA_OPERANDO'].apply(parser_si_no)"
   ]
  },
  {
   "cell_type": "code",
   "execution_count": 97,
   "metadata": {},
   "outputs": [
    {
     "data": {
      "text/plain": [
       "SI    492\n",
       "NO     14\n",
       "Name: COVID_P_2_1_ESTA_OPERANDO, dtype: int64"
      ]
     },
     "execution_count": 97,
     "metadata": {},
     "output_type": "execute_result"
    }
   ],
   "source": [
    "del conoceme['COVID_P_2_1']\n",
    "conoceme['COVID_P_2_1_ESTA_OPERANDO'].value_counts()"
   ]
  },
  {
   "cell_type": "code",
   "execution_count": 98,
   "metadata": {},
   "outputs": [
    {
     "data": {
      "image/png": "[encoded data removed]",
      "text/plain": [
       "<Figure size 1440x504 with 3 Axes>"
      ]
     },
     "metadata": {},
     "output_type": "display_data"
    }
   ],
   "source": [
    "view_cat2(conoceme, 'COVID_P_1_TE_AFECTO_COVID', 'COVID_P_2_1_ESTA_OPERANDO', percent=False)"
   ]
  },
  {
   "cell_type": "code",
   "execution_count": 99,
   "metadata": {},
   "outputs": [
    {
     "data": {
      "image/png": "[encoded data removed]",
      "text/plain": [
       "<Figure size 1440x504 with 3 Axes>"
      ]
     },
     "metadata": {},
     "output_type": "display_data"
    }
   ],
   "source": [
    "view_cat2(conoceme, 'IMPACTO_COVID','COVID_P_2_1_ESTA_OPERANDO')"
   ]
  },
  {
   "cell_type": "markdown",
   "metadata": {},
   "source": [
    "#### Cruce con las variables fijas "
   ]
  },
  {
   "cell_type": "code",
   "execution_count": 100,
   "metadata": {},
   "outputs": [
    {
     "data": {
      "image/png": "[encoded data removed]",
      "text/plain": [
       "<Figure size 720x504 with 2 Axes>"
      ]
     },
     "metadata": {},
     "output_type": "display_data"
    }
   ],
   "source": [
    "view_cat(conoceme, 'COVID_P_2_1_ESTA_OPERANDO', 'COVID_FEVE', percent= True)"
   ]
  },
  {
   "cell_type": "code",
   "execution_count": 101,
   "metadata": {},
   "outputs": [
    {
     "data": {
      "image/png": "[encoded data removed]",
      "text/plain": [
       "<Figure size 720x504 with 2 Axes>"
      ]
     },
     "metadata": {},
     "output_type": "display_data"
    }
   ],
   "source": [
    "view_cat(conoceme, 'COVID_P_2_1_ESTA_OPERANDO', 'COVID_ESTRATEGIA', percent=False)"
   ]
  },
  {
   "cell_type": "code",
   "execution_count": null,
   "metadata": {},
   "outputs": [],
   "source": []
  },
  {
   "cell_type": "markdown",
   "metadata": {},
   "source": [
    "## >> Validación de importnacia de la pregunta: 2_3 ¿Redujo el personal?, ¿En que porcentaje?"
   ]
  },
  {
   "cell_type": "code",
   "execution_count": 102,
   "metadata": {},
   "outputs": [],
   "source": [
    "#covid['PREGUNTA_2_3_2'].dtype"
   ]
  },
  {
   "cell_type": "code",
   "execution_count": 103,
   "metadata": {},
   "outputs": [
    {
     "data": {
      "text/plain": [
       "<matplotlib.axes._subplots.AxesSubplot at 0x2576593bc88>"
      ]
     },
     "execution_count": 103,
     "metadata": {},
     "output_type": "execute_result"
    },
    {
     "data": {
      "image/png": "[encoded data removed]",
      "text/plain": [
       "<Figure size 432x288 with 1 Axes>"
      ]
     },
     "metadata": {},
     "output_type": "display_data"
    }
   ],
   "source": [
    "conoceme['COVID_PORCENTAJE_REDUCCION_PERSONAL'] = conoceme['COVID_P_2_3_2'].copy()\n",
    "conoceme['COVID_PORCENTAJE_REDUCCION_PERSONAL'] = conoceme['COVID_PORCENTAJE_REDUCCION_PERSONAL'].fillna(0.0)\n",
    "del conoceme['COVID_P_2_3_2']\n",
    "conoceme['COVID_PORCENTAJE_REDUCCION_PERSONAL'].hist(bins=20)"
   ]
  },
  {
   "cell_type": "code",
   "execution_count": 104,
   "metadata": {},
   "outputs": [
    {
     "data": {
      "image/png": "[encoded data removed]",
      "text/plain": [
       "<Figure size 720x360 with 1 Axes>"
      ]
     },
     "metadata": {},
     "output_type": "display_data"
    }
   ],
   "source": [
    "view_numeric(conoceme, 'COVID_PORCENTAJE_REDUCCION_PERSONAL', 'COVID_P_1_TE_AFECTO_COVID')"
   ]
  },
  {
   "cell_type": "code",
   "execution_count": 105,
   "metadata": {},
   "outputs": [
    {
     "data": {
      "image/png": "[encoded data removed]",
      "text/plain": [
       "<Figure size 720x360 with 1 Axes>"
      ]
     },
     "metadata": {},
     "output_type": "display_data"
    }
   ],
   "source": [
    "view_numeric(conoceme, 'COVID_PORCENTAJE_REDUCCION_PERSONAL', 'COVID_P_2_1_ESTA_OPERANDO')"
   ]
  },
  {
   "cell_type": "code",
   "execution_count": 106,
   "metadata": {},
   "outputs": [
    {
     "name": "stdout",
     "output_type": "stream",
     "text": [
      "['TIPDOC', 'CODDOC', 'FECHA_ACTUALIZACION_MARKET', 'CODUNICOCLI', 'NOMBRE_COMPLETO', 'DES_GRUPO_ECONOMICO', 'RIESGO', 'ENCARGADO', 'NOMBRE_JEFE', 'ESTADO', 'BUCKET', 'PREOCUPA', 'REGISTRO_x', 'FECHA_LLENADO', 'USUARIO_NOTIFICADO', 'REVISION_USUARIO', 'FECHA_APROBACION', 'IMPACTO', 'PLAN_PROPUESTO', 'MONTO_CRECER', 'DETALLE_CRECER', 'FEVE', 'BLINDAJE', 'MESES_BLINDAJE', 'COMENTARIOS', 'COMENTARIO_ROL_VALIDADOR', 'FUNNEL_1', 'FUNNEL_2', 'FUNNEL_3', 'FUNNEL_4', 'FLG_VIGENTE', 'FLG_SUSPENDIDO', 'FLG_VENCIDA', 'FLG_CANCELADO', 'FLG_MONOLINEA', 'FLG_SOLO_REACTIVA', 'FLG_POSICION', 'CLASIFICACION_LIST_360', 'COD_UNICO_x', 'ACTIVIDAD', 'SUBSECTOR', 'BACKLOG', 'MODELO_NEGOCIO', 'VENTAJA_COMPETITIVA', 'FORTALEZAS_RIESGOS', 'INTEGRACION_VERTICAL', 'GESTION_COMPRAS', 'REGISTRO_y', 'GERENTE_GENERAL', 'GERENTE_FINANCIERO_TIPO', 'GERENTE_FINANCIERO_NOMBRE', 'TIPO_CONTABILIDAD', 'MONTO_LINEA_PROVEEDORES', 'ACTIVO_LIBRE_GRAVAMEN', 'PROYECCION_INVERSION', 'PROYECCION_VENTAS', 'FECHA_ACTUALIZACION', 'PROCEDENCIA_MPRIMA', 'LINEA_SUCESION_FLAG', 'LINEA_SUCESION', 'CAMBIO_GERENCIA_GENERAL_ANNIO', 'CAMBIO_ACCIONISTAS_ANNIO', 'INICIO_IBK', 'INICIO_OP', 'COVID_ID', 'COVID_ID_VISITA', 'COD_UNICO_y', 'COVID_FECHA_REGISTRO', 'COVID_P_2_2', 'COVID_P_2_3_1', 'COVID_P_3', 'COVID_P_4', 'COVID_P_5_1', 'COVID_P_5_2', 'COVID_P_6_1', 'COVID_P_6_2', 'COVID_P_7', 'COVID_P_7_1', 'COVID_P_7_2_1', 'COVID_P_7_2_2', 'COVID_P_7_3', 'COVID_P_7_4', 'COVID_P_8_1', 'COVID_P_8_1_1_1', 'COVID_P_8_1_1_2', 'COVID_P_8_1_2', 'COVID_P_8_2', 'COVID_P_8_3', 'COVID_P_8_3_2', 'COVID_P_8_3_1', 'COVID_P_9_1', 'COVID_P_9_2', 'COVID_P_10_1', 'COVID_P_10_2', 'COVID_P_11', 'COVID_P_11_1_1', 'COVID_P_11_1_2', 'COVID_P_11_2_1', 'COVID_P_11_2_2', 'COVID_P_11_3_1', 'COVID_P_11_3_2', 'COVID_P_11_4_1', 'COVID_P_11_4_2', 'COVID_P_11_5_1', 'COVID_P_11_5_2', 'COVID_P_11_6_1', 'COVID_P_11_6_2', 'COVID_P_12', 'COVID_P_12_1', 'COVID_P_12_2', 'COVID_P_12_2_1', 'COVID_P_12_2_2_1', 'COVID_P_12_2_2_2', 'COVID_P_14_1', 'COVID_P_14_2', 'COVID_P_14_3', 'COVID_P_14_4', 'COVID_P_14_5', 'COVID_ESTADO_APROBACION', 'COVID_ESTADO_REGISTRO', 'COVID_USUARIO_CREACION', 'COVID_FECHA_CREACION', 'COVID_USUARIO_MODIFICACION', 'COVID_FECHA_MODIFICACION', 'COVID_MONTO_CRECER', 'COVID_DETALLE_CRECER', 'COVID_FECHA_APROBACION', 'COVID_USUARIO_GYS', 'COVID_USUARIO_ADMISION', 'COVID_USUARIO_NOTIFICADO', 'COVID_USUARIO_ACOMP', 'VISITAME_ID', 'COD_UNICO', 'FLG_CAMBIO_MIX_VENTAS', 'FLG_CAMBIO_PROCESO_INTEGRACION', 'FLG_CAMBIO_CONCENTRACION_VENTAS', 'FLG_CAMBIO_CONCENTRACION_PROVEEDORES', 'FLG_CAMBIO_OPERACIONES', 'FLG_CAMBIO_ZONA_CLIENTES', 'FLG_CAMBIO_GERENCIA_GENERAL', 'FLG_CAMBIO_GESTION_FINANCIERA', 'FLG_CAMBIO_ACCIONISTAS', 'FLG_CAMBIO_LINEAS', 'VISITAME_REGISTRO', 'VISITAME_ENTREVISTADO_CARGO', 'VISITAME_ENTREVISTADO_NOMBRE', 'VISITAME_COMENTARIOS', 'VISITAME_FECHA_VISITA', 'VISITAME_FECHA_REGISTRO', 'FLG_CAMBIO_INVERSION_ACTIVO_PATRIMONIO', 'FLG_CAMBIO_PRESTAMO_DESVIO', 'FLG_CAMBIO_BACKLOG', 'VISITAME_REVISION_FECHA', 'VISITAME_REVISION_USUARIO', 'FLG_CAMBIO_MODELO_NEGOCIO', 'VISITAME_CAMBIO_PRESTAMO_DESVIO', 'VISITAME_CAMBIO_INVERSION_ACTIVO_PATRIMONIO', 'FLG_PROCESO', 'VISITAME_FECHA_PROCESO', 'VISITAME_COMENTARIO_ROL_VALIDADOR', 'IMPACTO_COVID', 'COVID_P_1_TE_AFECTO_COVID', 'COVID_ESTRATEGIA', 'COVID_FEVE', 'PREOCUPA_', 'COVID_P_2_1_ESTA_OPERANDO', 'COVID_P_2_1_ESTA_OPERANDO_int', 'COVID_PORCENTAJE_REDUCCION_PERSONAL']\n"
     ]
    }
   ],
   "source": [
    "print(list(conoceme.columns))"
   ]
  },
  {
   "cell_type": "code",
   "execution_count": null,
   "metadata": {},
   "outputs": [],
   "source": []
  },
  {
   "cell_type": "code",
   "execution_count": 107,
   "metadata": {},
   "outputs": [
    {
     "data": {
      "image/png": "[encoded data removed]",
      "text/plain": [
       "<Figure size 720x360 with 1 Axes>"
      ]
     },
     "metadata": {},
     "output_type": "display_data"
    }
   ],
   "source": [
    "view_numeric(conoceme, 'COVID_PORCENTAJE_REDUCCION_PERSONAL', 'COVID_FEVE')"
   ]
  },
  {
   "cell_type": "code",
   "execution_count": 108,
   "metadata": {},
   "outputs": [
    {
     "data": {
      "image/png": "[encoded data removed]",
      "text/plain": [
       "<Figure size 720x360 with 1 Axes>"
      ]
     },
     "metadata": {},
     "output_type": "display_data"
    }
   ],
   "source": [
    "view_numeric(conoceme, 'COVID_PORCENTAJE_REDUCCION_PERSONAL', 'IMPACTO_COVID')"
   ]
  },
  {
   "cell_type": "code",
   "execution_count": 109,
   "metadata": {},
   "outputs": [
    {
     "data": {
      "text/plain": [
       "NO    388\n",
       "SI    118\n",
       "Name: PREOCUPA_, dtype: int64"
      ]
     },
     "execution_count": 109,
     "metadata": {},
     "output_type": "execute_result"
    }
   ],
   "source": [
    "conoceme['PREOCUPA_'] = conoceme['PREOCUPA'].apply(parser_si_no)\n",
    "conoceme['PREOCUPA_'] .value_counts()"
   ]
  },
  {
   "cell_type": "code",
   "execution_count": 110,
   "metadata": {},
   "outputs": [
    {
     "data": {
      "text/plain": [
       "NO    388\n",
       "SI    118\n",
       "Name: PREOCUPA_, dtype: int64"
      ]
     },
     "execution_count": 110,
     "metadata": {},
     "output_type": "execute_result"
    }
   ],
   "source": [
    "conoceme['PREOCUPA_'] = conoceme['PREOCUPA'].apply(parser_si_no)\n",
    "conoceme['PREOCUPA_'] .value_counts()"
   ]
  },
  {
   "cell_type": "code",
   "execution_count": 111,
   "metadata": {},
   "outputs": [
    {
     "data": {
      "image/png": "[encoded data removed]",
      "text/plain": [
       "<Figure size 720x360 with 1 Axes>"
      ]
     },
     "metadata": {},
     "output_type": "display_data"
    }
   ],
   "source": [
    "view_numeric(conoceme, 'COVID_PORCENTAJE_REDUCCION_PERSONAL', 'PREOCUPA_')"
   ]
  },
  {
   "cell_type": "code",
   "execution_count": null,
   "metadata": {},
   "outputs": [],
   "source": []
  },
  {
   "cell_type": "code",
   "execution_count": 112,
   "metadata": {},
   "outputs": [],
   "source": [
    "#m"
   ]
  },
  {
   "cell_type": "code",
   "execution_count": 113,
   "metadata": {},
   "outputs": [
    {
     "ename": "KeyError",
     "evalue": "'COVID_ACOGIO_SUSPENSION_PERFECTA'",
     "output_type": "error",
     "traceback": [
      "\u001b[1;31m---------------------------------------------------------------------------\u001b[0m",
      "\u001b[1;31mKeyError\u001b[0m                                  Traceback (most recent call last)",
      "\u001b[1;32m~\\Anaconda3\\lib\\site-packages\\pandas\\core\\indexes\\base.py\u001b[0m in \u001b[0;36mget_loc\u001b[1;34m(self, key, method, tolerance)\u001b[0m\n\u001b[0;32m   2645\u001b[0m             \u001b[1;32mtry\u001b[0m\u001b[1;33m:\u001b[0m\u001b[1;33m\u001b[0m\u001b[1;33m\u001b[0m\u001b[0m\n\u001b[1;32m-> 2646\u001b[1;33m                 \u001b[1;32mreturn\u001b[0m \u001b[0mself\u001b[0m\u001b[1;33m.\u001b[0m\u001b[0m_engine\u001b[0m\u001b[1;33m.\u001b[0m\u001b[0mget_loc\u001b[0m\u001b[1;33m(\u001b[0m\u001b[0mkey\u001b[0m\u001b[1;33m)\u001b[0m\u001b[1;33m\u001b[0m\u001b[1;33m\u001b[0m\u001b[0m\n\u001b[0m\u001b[0;32m   2647\u001b[0m             \u001b[1;32mexcept\u001b[0m \u001b[0mKeyError\u001b[0m\u001b[1;33m:\u001b[0m\u001b[1;33m\u001b[0m\u001b[1;33m\u001b[0m\u001b[0m\n",
      "\u001b[1;32mpandas\\_libs\\index.pyx\u001b[0m in \u001b[0;36mpandas._libs.index.IndexEngine.get_loc\u001b[1;34m()\u001b[0m\n",
      "\u001b[1;32mpandas\\_libs\\index.pyx\u001b[0m in \u001b[0;36mpandas._libs.index.IndexEngine.get_loc\u001b[1;34m()\u001b[0m\n",
      "\u001b[1;32mpandas\\_libs\\hashtable_class_helper.pxi\u001b[0m in \u001b[0;36mpandas._libs.hashtable.PyObjectHashTable.get_item\u001b[1;34m()\u001b[0m\n",
      "\u001b[1;32mpandas\\_libs\\hashtable_class_helper.pxi\u001b[0m in \u001b[0;36mpandas._libs.hashtable.PyObjectHashTable.get_item\u001b[1;34m()\u001b[0m\n",
      "\u001b[1;31mKeyError\u001b[0m: 'COVID_ACOGIO_SUSPENSION_PERFECTA'",
      "\nDuring handling of the above exception, another exception occurred:\n",
      "\u001b[1;31mKeyError\u001b[0m                                  Traceback (most recent call last)",
      "\u001b[1;32m<ipython-input-113-5bc16b2c5fdc>\u001b[0m in \u001b[0;36m<module>\u001b[1;34m\u001b[0m\n\u001b[1;32m----> 1\u001b[1;33m \u001b[0mconoceme\u001b[0m\u001b[1;33m[\u001b[0m\u001b[1;34m'OPERANDO_SUSPENSION'\u001b[0m\u001b[1;33m]\u001b[0m \u001b[1;33m=\u001b[0m \u001b[0mconoceme\u001b[0m\u001b[1;33m[\u001b[0m\u001b[1;34m'COVID_P_2_1_ESTA_OPERANDO'\u001b[0m\u001b[1;33m]\u001b[0m\u001b[1;33m.\u001b[0m\u001b[0mastype\u001b[0m\u001b[1;33m(\u001b[0m\u001b[0mstr\u001b[0m\u001b[1;33m)\u001b[0m \u001b[1;33m+\u001b[0m \u001b[1;34m'_'\u001b[0m \u001b[1;33m+\u001b[0m \u001b[0mconoceme\u001b[0m\u001b[1;33m[\u001b[0m\u001b[1;34m'COVID_ACOGIO_SUSPENSION_PERFECTA'\u001b[0m\u001b[1;33m]\u001b[0m\u001b[1;33m.\u001b[0m\u001b[0mastype\u001b[0m\u001b[1;33m(\u001b[0m\u001b[0mstr\u001b[0m\u001b[1;33m)\u001b[0m\u001b[1;33m\u001b[0m\u001b[1;33m\u001b[0m\u001b[0m\n\u001b[0m\u001b[0;32m      2\u001b[0m \u001b[0mconoceme\u001b[0m\u001b[1;33m[\u001b[0m\u001b[1;34m'OPERANDO_SUSPENSION'\u001b[0m\u001b[1;33m]\u001b[0m\u001b[1;33m.\u001b[0m\u001b[0mvalue_counts\u001b[0m\u001b[1;33m(\u001b[0m\u001b[0mdropna\u001b[0m\u001b[1;33m=\u001b[0m\u001b[1;32mFalse\u001b[0m\u001b[1;33m)\u001b[0m\u001b[1;33m\u001b[0m\u001b[1;33m\u001b[0m\u001b[0m\n",
      "\u001b[1;32m~\\Anaconda3\\lib\\site-packages\\pandas\\core\\frame.py\u001b[0m in \u001b[0;36m__getitem__\u001b[1;34m(self, key)\u001b[0m\n\u001b[0;32m   2798\u001b[0m             \u001b[1;32mif\u001b[0m \u001b[0mself\u001b[0m\u001b[1;33m.\u001b[0m\u001b[0mcolumns\u001b[0m\u001b[1;33m.\u001b[0m\u001b[0mnlevels\u001b[0m \u001b[1;33m>\u001b[0m \u001b[1;36m1\u001b[0m\u001b[1;33m:\u001b[0m\u001b[1;33m\u001b[0m\u001b[1;33m\u001b[0m\u001b[0m\n\u001b[0;32m   2799\u001b[0m                 \u001b[1;32mreturn\u001b[0m \u001b[0mself\u001b[0m\u001b[1;33m.\u001b[0m\u001b[0m_getitem_multilevel\u001b[0m\u001b[1;33m(\u001b[0m\u001b[0mkey\u001b[0m\u001b[1;33m)\u001b[0m\u001b[1;33m\u001b[0m\u001b[1;33m\u001b[0m\u001b[0m\n\u001b[1;32m-> 2800\u001b[1;33m             \u001b[0mindexer\u001b[0m \u001b[1;33m=\u001b[0m \u001b[0mself\u001b[0m\u001b[1;33m.\u001b[0m\u001b[0mcolumns\u001b[0m\u001b[1;33m.\u001b[0m\u001b[0mget_loc\u001b[0m\u001b[1;33m(\u001b[0m\u001b[0mkey\u001b[0m\u001b[1;33m)\u001b[0m\u001b[1;33m\u001b[0m\u001b[1;33m\u001b[0m\u001b[0m\n\u001b[0m\u001b[0;32m   2801\u001b[0m             \u001b[1;32mif\u001b[0m \u001b[0mis_integer\u001b[0m\u001b[1;33m(\u001b[0m\u001b[0mindexer\u001b[0m\u001b[1;33m)\u001b[0m\u001b[1;33m:\u001b[0m\u001b[1;33m\u001b[0m\u001b[1;33m\u001b[0m\u001b[0m\n\u001b[0;32m   2802\u001b[0m                 \u001b[0mindexer\u001b[0m \u001b[1;33m=\u001b[0m \u001b[1;33m[\u001b[0m\u001b[0mindexer\u001b[0m\u001b[1;33m]\u001b[0m\u001b[1;33m\u001b[0m\u001b[1;33m\u001b[0m\u001b[0m\n",
      "\u001b[1;32m~\\Anaconda3\\lib\\site-packages\\pandas\\core\\indexes\\base.py\u001b[0m in \u001b[0;36mget_loc\u001b[1;34m(self, key, method, tolerance)\u001b[0m\n\u001b[0;32m   2646\u001b[0m                 \u001b[1;32mreturn\u001b[0m \u001b[0mself\u001b[0m\u001b[1;33m.\u001b[0m\u001b[0m_engine\u001b[0m\u001b[1;33m.\u001b[0m\u001b[0mget_loc\u001b[0m\u001b[1;33m(\u001b[0m\u001b[0mkey\u001b[0m\u001b[1;33m)\u001b[0m\u001b[1;33m\u001b[0m\u001b[1;33m\u001b[0m\u001b[0m\n\u001b[0;32m   2647\u001b[0m             \u001b[1;32mexcept\u001b[0m \u001b[0mKeyError\u001b[0m\u001b[1;33m:\u001b[0m\u001b[1;33m\u001b[0m\u001b[1;33m\u001b[0m\u001b[0m\n\u001b[1;32m-> 2648\u001b[1;33m                 \u001b[1;32mreturn\u001b[0m \u001b[0mself\u001b[0m\u001b[1;33m.\u001b[0m\u001b[0m_engine\u001b[0m\u001b[1;33m.\u001b[0m\u001b[0mget_loc\u001b[0m\u001b[1;33m(\u001b[0m\u001b[0mself\u001b[0m\u001b[1;33m.\u001b[0m\u001b[0m_maybe_cast_indexer\u001b[0m\u001b[1;33m(\u001b[0m\u001b[0mkey\u001b[0m\u001b[1;33m)\u001b[0m\u001b[1;33m)\u001b[0m\u001b[1;33m\u001b[0m\u001b[1;33m\u001b[0m\u001b[0m\n\u001b[0m\u001b[0;32m   2649\u001b[0m         \u001b[0mindexer\u001b[0m \u001b[1;33m=\u001b[0m \u001b[0mself\u001b[0m\u001b[1;33m.\u001b[0m\u001b[0mget_indexer\u001b[0m\u001b[1;33m(\u001b[0m\u001b[1;33m[\u001b[0m\u001b[0mkey\u001b[0m\u001b[1;33m]\u001b[0m\u001b[1;33m,\u001b[0m \u001b[0mmethod\u001b[0m\u001b[1;33m=\u001b[0m\u001b[0mmethod\u001b[0m\u001b[1;33m,\u001b[0m \u001b[0mtolerance\u001b[0m\u001b[1;33m=\u001b[0m\u001b[0mtolerance\u001b[0m\u001b[1;33m)\u001b[0m\u001b[1;33m\u001b[0m\u001b[1;33m\u001b[0m\u001b[0m\n\u001b[0;32m   2650\u001b[0m         \u001b[1;32mif\u001b[0m \u001b[0mindexer\u001b[0m\u001b[1;33m.\u001b[0m\u001b[0mndim\u001b[0m \u001b[1;33m>\u001b[0m \u001b[1;36m1\u001b[0m \u001b[1;32mor\u001b[0m \u001b[0mindexer\u001b[0m\u001b[1;33m.\u001b[0m\u001b[0msize\u001b[0m \u001b[1;33m>\u001b[0m \u001b[1;36m1\u001b[0m\u001b[1;33m:\u001b[0m\u001b[1;33m\u001b[0m\u001b[1;33m\u001b[0m\u001b[0m\n",
      "\u001b[1;32mpandas\\_libs\\index.pyx\u001b[0m in \u001b[0;36mpandas._libs.index.IndexEngine.get_loc\u001b[1;34m()\u001b[0m\n",
      "\u001b[1;32mpandas\\_libs\\index.pyx\u001b[0m in \u001b[0;36mpandas._libs.index.IndexEngine.get_loc\u001b[1;34m()\u001b[0m\n",
      "\u001b[1;32mpandas\\_libs\\hashtable_class_helper.pxi\u001b[0m in \u001b[0;36mpandas._libs.hashtable.PyObjectHashTable.get_item\u001b[1;34m()\u001b[0m\n",
      "\u001b[1;32mpandas\\_libs\\hashtable_class_helper.pxi\u001b[0m in \u001b[0;36mpandas._libs.hashtable.PyObjectHashTable.get_item\u001b[1;34m()\u001b[0m\n",
      "\u001b[1;31mKeyError\u001b[0m: 'COVID_ACOGIO_SUSPENSION_PERFECTA'"
     ]
    }
   ],
   "source": [
    "conoceme['OPERANDO_SUSPENSION'] = conoceme['COVID_P_2_1_ESTA_OPERANDO'].astype(str) + '_' + conoceme['COVID_ACOGIO_SUSPENSION_PERFECTA'].astype(str)\n",
    "conoceme['OPERANDO_SUSPENSION'].value_counts(dropna=False)"
   ]
  },
  {
   "cell_type": "markdown",
   "metadata": {},
   "source": [
    "## COMBINACION  (SIGUES_OPERANDO) _ (SUSPENSION_LABORES)   VS   PORCENTAJE DE REDUCCION DE PERSONAL"
   ]
  },
  {
   "cell_type": "code",
   "execution_count": 120,
   "metadata": {},
   "outputs": [
    {
     "ename": "ValueError",
     "evalue": "Could not interpret input 'OPERANDO_SUSPENSION'",
     "output_type": "error",
     "traceback": [
      "\u001b[1;31m---------------------------------------------------------------------------\u001b[0m",
      "\u001b[1;31mValueError\u001b[0m                                Traceback (most recent call last)",
      "\u001b[1;32m<ipython-input-120-db3acb360315>\u001b[0m in \u001b[0;36m<module>\u001b[1;34m\u001b[0m\n\u001b[1;32m----> 1\u001b[1;33m \u001b[0mview_numeric\u001b[0m\u001b[1;33m(\u001b[0m\u001b[0mconoceme\u001b[0m\u001b[1;33m,\u001b[0m \u001b[1;34m'COVID_PORCENTAJE_REDUCCION_PERSONAL'\u001b[0m\u001b[1;33m,\u001b[0m \u001b[1;34m'OPERANDO_SUSPENSION'\u001b[0m\u001b[1;33m)\u001b[0m\u001b[1;33m\u001b[0m\u001b[1;33m\u001b[0m\u001b[0m\n\u001b[0m",
      "\u001b[1;32m<ipython-input-50-7c359287b1d9>\u001b[0m in \u001b[0;36mview_numeric\u001b[1;34m(data, col_init, col_out, **kwargs)\u001b[0m\n\u001b[0;32m      4\u001b[0m     \u001b[0mfig\u001b[0m\u001b[1;33m,\u001b[0m \u001b[0maxes\u001b[0m \u001b[1;33m=\u001b[0m \u001b[0mplt\u001b[0m\u001b[1;33m.\u001b[0m\u001b[0msubplots\u001b[0m\u001b[1;33m(\u001b[0m\u001b[0mnrows\u001b[0m\u001b[1;33m=\u001b[0m\u001b[1;36m1\u001b[0m\u001b[1;33m,\u001b[0m \u001b[0mncols\u001b[0m\u001b[1;33m=\u001b[0m\u001b[1;36m1\u001b[0m\u001b[1;33m,\u001b[0m \u001b[0mfigsize\u001b[0m\u001b[1;33m=\u001b[0m\u001b[1;33m(\u001b[0m\u001b[1;36m10\u001b[0m\u001b[1;33m,\u001b[0m \u001b[1;36m5\u001b[0m\u001b[1;33m)\u001b[0m\u001b[1;33m)\u001b[0m\u001b[1;33m\u001b[0m\u001b[1;33m\u001b[0m\u001b[0m\n\u001b[0;32m      5\u001b[0m \u001b[1;33m\u001b[0m\u001b[0m\n\u001b[1;32m----> 6\u001b[1;33m     \u001b[0msns\u001b[0m\u001b[1;33m.\u001b[0m\u001b[0mviolinplot\u001b[0m\u001b[1;33m(\u001b[0m\u001b[0mx\u001b[0m\u001b[1;33m=\u001b[0m\u001b[0mcol_out\u001b[0m\u001b[1;33m,\u001b[0m \u001b[0my\u001b[0m\u001b[1;33m=\u001b[0m\u001b[0mcol_init\u001b[0m\u001b[1;33m,\u001b[0m \u001b[0mdata\u001b[0m\u001b[1;33m=\u001b[0m\u001b[0mdata\u001b[0m\u001b[1;33m,\u001b[0m \u001b[0max\u001b[0m\u001b[1;33m=\u001b[0m\u001b[0maxes\u001b[0m\u001b[1;33m)\u001b[0m\u001b[1;33m\u001b[0m\u001b[1;33m\u001b[0m\u001b[0m\n\u001b[0m",
      "\u001b[1;32m~\\Anaconda3\\lib\\site-packages\\seaborn\\categorical.py\u001b[0m in \u001b[0;36mviolinplot\u001b[1;34m(x, y, hue, data, order, hue_order, bw, cut, scale, scale_hue, gridsize, width, inner, split, dodge, orient, linewidth, color, palette, saturation, ax, **kwargs)\u001b[0m\n\u001b[0;32m   2391\u001b[0m                              \u001b[0mbw\u001b[0m\u001b[1;33m,\u001b[0m \u001b[0mcut\u001b[0m\u001b[1;33m,\u001b[0m \u001b[0mscale\u001b[0m\u001b[1;33m,\u001b[0m \u001b[0mscale_hue\u001b[0m\u001b[1;33m,\u001b[0m \u001b[0mgridsize\u001b[0m\u001b[1;33m,\u001b[0m\u001b[1;33m\u001b[0m\u001b[1;33m\u001b[0m\u001b[0m\n\u001b[0;32m   2392\u001b[0m                              \u001b[0mwidth\u001b[0m\u001b[1;33m,\u001b[0m \u001b[0minner\u001b[0m\u001b[1;33m,\u001b[0m \u001b[0msplit\u001b[0m\u001b[1;33m,\u001b[0m \u001b[0mdodge\u001b[0m\u001b[1;33m,\u001b[0m \u001b[0morient\u001b[0m\u001b[1;33m,\u001b[0m \u001b[0mlinewidth\u001b[0m\u001b[1;33m,\u001b[0m\u001b[1;33m\u001b[0m\u001b[1;33m\u001b[0m\u001b[0m\n\u001b[1;32m-> 2393\u001b[1;33m                              color, palette, saturation)\n\u001b[0m\u001b[0;32m   2394\u001b[0m \u001b[1;33m\u001b[0m\u001b[0m\n\u001b[0;32m   2395\u001b[0m     \u001b[1;32mif\u001b[0m \u001b[0max\u001b[0m \u001b[1;32mis\u001b[0m \u001b[1;32mNone\u001b[0m\u001b[1;33m:\u001b[0m\u001b[1;33m\u001b[0m\u001b[1;33m\u001b[0m\u001b[0m\n",
      "\u001b[1;32m~\\Anaconda3\\lib\\site-packages\\seaborn\\categorical.py\u001b[0m in \u001b[0;36m__init__\u001b[1;34m(self, x, y, hue, data, order, hue_order, bw, cut, scale, scale_hue, gridsize, width, inner, split, dodge, orient, linewidth, color, palette, saturation)\u001b[0m\n\u001b[0;32m    557\u001b[0m                  color, palette, saturation):\n\u001b[0;32m    558\u001b[0m \u001b[1;33m\u001b[0m\u001b[0m\n\u001b[1;32m--> 559\u001b[1;33m         \u001b[0mself\u001b[0m\u001b[1;33m.\u001b[0m\u001b[0mestablish_variables\u001b[0m\u001b[1;33m(\u001b[0m\u001b[0mx\u001b[0m\u001b[1;33m,\u001b[0m \u001b[0my\u001b[0m\u001b[1;33m,\u001b[0m \u001b[0mhue\u001b[0m\u001b[1;33m,\u001b[0m \u001b[0mdata\u001b[0m\u001b[1;33m,\u001b[0m \u001b[0morient\u001b[0m\u001b[1;33m,\u001b[0m \u001b[0morder\u001b[0m\u001b[1;33m,\u001b[0m \u001b[0mhue_order\u001b[0m\u001b[1;33m)\u001b[0m\u001b[1;33m\u001b[0m\u001b[1;33m\u001b[0m\u001b[0m\n\u001b[0m\u001b[0;32m    560\u001b[0m         \u001b[0mself\u001b[0m\u001b[1;33m.\u001b[0m\u001b[0mestablish_colors\u001b[0m\u001b[1;33m(\u001b[0m\u001b[0mcolor\u001b[0m\u001b[1;33m,\u001b[0m \u001b[0mpalette\u001b[0m\u001b[1;33m,\u001b[0m \u001b[0msaturation\u001b[0m\u001b[1;33m)\u001b[0m\u001b[1;33m\u001b[0m\u001b[1;33m\u001b[0m\u001b[0m\n\u001b[0;32m    561\u001b[0m         \u001b[0mself\u001b[0m\u001b[1;33m.\u001b[0m\u001b[0mestimate_densities\u001b[0m\u001b[1;33m(\u001b[0m\u001b[0mbw\u001b[0m\u001b[1;33m,\u001b[0m \u001b[0mcut\u001b[0m\u001b[1;33m,\u001b[0m \u001b[0mscale\u001b[0m\u001b[1;33m,\u001b[0m \u001b[0mscale_hue\u001b[0m\u001b[1;33m,\u001b[0m \u001b[0mgridsize\u001b[0m\u001b[1;33m)\u001b[0m\u001b[1;33m\u001b[0m\u001b[1;33m\u001b[0m\u001b[0m\n",
      "\u001b[1;32m~\\Anaconda3\\lib\\site-packages\\seaborn\\categorical.py\u001b[0m in \u001b[0;36mestablish_variables\u001b[1;34m(self, x, y, hue, data, orient, order, hue_order, units)\u001b[0m\n\u001b[0;32m    150\u001b[0m                 \u001b[1;32mif\u001b[0m \u001b[0misinstance\u001b[0m\u001b[1;33m(\u001b[0m\u001b[0mvar\u001b[0m\u001b[1;33m,\u001b[0m \u001b[0mstr\u001b[0m\u001b[1;33m)\u001b[0m\u001b[1;33m:\u001b[0m\u001b[1;33m\u001b[0m\u001b[1;33m\u001b[0m\u001b[0m\n\u001b[0;32m    151\u001b[0m                     \u001b[0merr\u001b[0m \u001b[1;33m=\u001b[0m \u001b[1;34m\"Could not interpret input '{}'\"\u001b[0m\u001b[1;33m.\u001b[0m\u001b[0mformat\u001b[0m\u001b[1;33m(\u001b[0m\u001b[0mvar\u001b[0m\u001b[1;33m)\u001b[0m\u001b[1;33m\u001b[0m\u001b[1;33m\u001b[0m\u001b[0m\n\u001b[1;32m--> 152\u001b[1;33m                     \u001b[1;32mraise\u001b[0m \u001b[0mValueError\u001b[0m\u001b[1;33m(\u001b[0m\u001b[0merr\u001b[0m\u001b[1;33m)\u001b[0m\u001b[1;33m\u001b[0m\u001b[1;33m\u001b[0m\u001b[0m\n\u001b[0m\u001b[0;32m    153\u001b[0m \u001b[1;33m\u001b[0m\u001b[0m\n\u001b[0;32m    154\u001b[0m             \u001b[1;31m# Figure out the plotting orientation\u001b[0m\u001b[1;33m\u001b[0m\u001b[1;33m\u001b[0m\u001b[1;33m\u001b[0m\u001b[0m\n",
      "\u001b[1;31mValueError\u001b[0m: Could not interpret input 'OPERANDO_SUSPENSION'"
     ]
    },
    {
     "data": {
      "image/png": "[encoded data removed]",
      "text/plain": [
       "<Figure size 720x360 with 1 Axes>"
      ]
     },
     "metadata": {},
     "output_type": "display_data"
    }
   ],
   "source": [
    "view_numeric(conoceme, 'COVID_PORCENTAJE_REDUCCION_PERSONAL', 'OPERANDO_SUSPENSION')"
   ]
  },
  {
   "cell_type": "code",
   "execution_count": 121,
   "metadata": {},
   "outputs": [
    {
     "ename": "KeyError",
     "evalue": "'OPERANDO_SUSPENSION'",
     "output_type": "error",
     "traceback": [
      "\u001b[1;31m---------------------------------------------------------------------------\u001b[0m",
      "\u001b[1;31mKeyError\u001b[0m                                  Traceback (most recent call last)",
      "\u001b[1;32m~\\Anaconda3\\lib\\site-packages\\pandas\\core\\indexes\\base.py\u001b[0m in \u001b[0;36mget_loc\u001b[1;34m(self, key, method, tolerance)\u001b[0m\n\u001b[0;32m   2645\u001b[0m             \u001b[1;32mtry\u001b[0m\u001b[1;33m:\u001b[0m\u001b[1;33m\u001b[0m\u001b[1;33m\u001b[0m\u001b[0m\n\u001b[1;32m-> 2646\u001b[1;33m                 \u001b[1;32mreturn\u001b[0m \u001b[0mself\u001b[0m\u001b[1;33m.\u001b[0m\u001b[0m_engine\u001b[0m\u001b[1;33m.\u001b[0m\u001b[0mget_loc\u001b[0m\u001b[1;33m(\u001b[0m\u001b[0mkey\u001b[0m\u001b[1;33m)\u001b[0m\u001b[1;33m\u001b[0m\u001b[1;33m\u001b[0m\u001b[0m\n\u001b[0m\u001b[0;32m   2647\u001b[0m             \u001b[1;32mexcept\u001b[0m \u001b[0mKeyError\u001b[0m\u001b[1;33m:\u001b[0m\u001b[1;33m\u001b[0m\u001b[1;33m\u001b[0m\u001b[0m\n",
      "\u001b[1;32mpandas\\_libs\\index.pyx\u001b[0m in \u001b[0;36mpandas._libs.index.IndexEngine.get_loc\u001b[1;34m()\u001b[0m\n",
      "\u001b[1;32mpandas\\_libs\\index.pyx\u001b[0m in \u001b[0;36mpandas._libs.index.IndexEngine.get_loc\u001b[1;34m()\u001b[0m\n",
      "\u001b[1;32mpandas\\_libs\\hashtable_class_helper.pxi\u001b[0m in \u001b[0;36mpandas._libs.hashtable.PyObjectHashTable.get_item\u001b[1;34m()\u001b[0m\n",
      "\u001b[1;32mpandas\\_libs\\hashtable_class_helper.pxi\u001b[0m in \u001b[0;36mpandas._libs.hashtable.PyObjectHashTable.get_item\u001b[1;34m()\u001b[0m\n",
      "\u001b[1;31mKeyError\u001b[0m: 'OPERANDO_SUSPENSION'",
      "\nDuring handling of the above exception, another exception occurred:\n",
      "\u001b[1;31mKeyError\u001b[0m                                  Traceback (most recent call last)",
      "\u001b[1;32m<ipython-input-121-d5bd284baf34>\u001b[0m in \u001b[0;36m<module>\u001b[1;34m\u001b[0m\n\u001b[1;32m----> 1\u001b[1;33m \u001b[0mview_cat\u001b[0m\u001b[1;33m(\u001b[0m\u001b[0mconoceme\u001b[0m\u001b[1;33m,\u001b[0m \u001b[1;34m'IMPACTO_COVID'\u001b[0m\u001b[1;33m,\u001b[0m \u001b[1;34m'OPERANDO_SUSPENSION'\u001b[0m\u001b[1;33m)\u001b[0m\u001b[1;33m\u001b[0m\u001b[1;33m\u001b[0m\u001b[0m\n\u001b[0m",
      "\u001b[1;32m~\\Desktop\\ALERTA CARTERA\\utils_ficha.py\u001b[0m in \u001b[0;36mview_cat\u001b[1;34m(data, col_init, col_out, percent, **kwargs)\u001b[0m\n\u001b[0;32m     54\u001b[0m     \u001b[0mfig\u001b[0m\u001b[1;33m,\u001b[0m \u001b[0maxes\u001b[0m \u001b[1;33m=\u001b[0m \u001b[0mplt\u001b[0m\u001b[1;33m.\u001b[0m\u001b[0msubplots\u001b[0m\u001b[1;33m(\u001b[0m\u001b[0mnrows\u001b[0m\u001b[1;33m=\u001b[0m\u001b[1;36m1\u001b[0m\u001b[1;33m,\u001b[0m \u001b[0mncols\u001b[0m\u001b[1;33m=\u001b[0m\u001b[1;36m1\u001b[0m\u001b[1;33m,\u001b[0m \u001b[0mfigsize\u001b[0m\u001b[1;33m=\u001b[0m\u001b[1;33m(\u001b[0m\u001b[1;36m10\u001b[0m\u001b[1;33m,\u001b[0m \u001b[1;36m7\u001b[0m\u001b[1;33m)\u001b[0m\u001b[1;33m)\u001b[0m\u001b[1;33m\u001b[0m\u001b[1;33m\u001b[0m\u001b[0m\n\u001b[0;32m     55\u001b[0m \u001b[1;33m\u001b[0m\u001b[0m\n\u001b[1;32m---> 56\u001b[1;33m     \u001b[0mcross\u001b[0m \u001b[1;33m=\u001b[0m \u001b[0mpd\u001b[0m\u001b[1;33m.\u001b[0m\u001b[0mcrosstab\u001b[0m\u001b[1;33m(\u001b[0m\u001b[0mdata\u001b[0m\u001b[1;33m[\u001b[0m\u001b[0mcol_out\u001b[0m\u001b[1;33m]\u001b[0m\u001b[1;33m,\u001b[0m \u001b[0mdata\u001b[0m\u001b[1;33m[\u001b[0m\u001b[0mcol_init\u001b[0m\u001b[1;33m]\u001b[0m\u001b[1;33m)\u001b[0m\u001b[1;33m\u001b[0m\u001b[1;33m\u001b[0m\u001b[0m\n\u001b[0m\u001b[0;32m     57\u001b[0m     \u001b[1;32mif\u001b[0m \u001b[0mpercent\u001b[0m\u001b[1;33m:\u001b[0m\u001b[1;33m\u001b[0m\u001b[1;33m\u001b[0m\u001b[0m\n\u001b[0;32m     58\u001b[0m         \u001b[0msum_total\u001b[0m \u001b[1;33m=\u001b[0m \u001b[0msum\u001b[0m\u001b[1;33m(\u001b[0m\u001b[1;33m[\u001b[0m\u001b[0mcross\u001b[0m\u001b[1;33m[\u001b[0m\u001b[0mcol\u001b[0m\u001b[1;33m]\u001b[0m\u001b[1;33m.\u001b[0m\u001b[0msum\u001b[0m\u001b[1;33m(\u001b[0m\u001b[1;33m)\u001b[0m \u001b[1;32mfor\u001b[0m \u001b[0mcol\u001b[0m \u001b[1;32min\u001b[0m \u001b[0mcross\u001b[0m\u001b[1;33m.\u001b[0m\u001b[0mcolumns\u001b[0m\u001b[1;33m]\u001b[0m\u001b[1;33m)\u001b[0m\u001b[1;33m\u001b[0m\u001b[1;33m\u001b[0m\u001b[0m\n",
      "\u001b[1;32m~\\Anaconda3\\lib\\site-packages\\pandas\\core\\frame.py\u001b[0m in \u001b[0;36m__getitem__\u001b[1;34m(self, key)\u001b[0m\n\u001b[0;32m   2798\u001b[0m             \u001b[1;32mif\u001b[0m \u001b[0mself\u001b[0m\u001b[1;33m.\u001b[0m\u001b[0mcolumns\u001b[0m\u001b[1;33m.\u001b[0m\u001b[0mnlevels\u001b[0m \u001b[1;33m>\u001b[0m \u001b[1;36m1\u001b[0m\u001b[1;33m:\u001b[0m\u001b[1;33m\u001b[0m\u001b[1;33m\u001b[0m\u001b[0m\n\u001b[0;32m   2799\u001b[0m                 \u001b[1;32mreturn\u001b[0m \u001b[0mself\u001b[0m\u001b[1;33m.\u001b[0m\u001b[0m_getitem_multilevel\u001b[0m\u001b[1;33m(\u001b[0m\u001b[0mkey\u001b[0m\u001b[1;33m)\u001b[0m\u001b[1;33m\u001b[0m\u001b[1;33m\u001b[0m\u001b[0m\n\u001b[1;32m-> 2800\u001b[1;33m             \u001b[0mindexer\u001b[0m \u001b[1;33m=\u001b[0m \u001b[0mself\u001b[0m\u001b[1;33m.\u001b[0m\u001b[0mcolumns\u001b[0m\u001b[1;33m.\u001b[0m\u001b[0mget_loc\u001b[0m\u001b[1;33m(\u001b[0m\u001b[0mkey\u001b[0m\u001b[1;33m)\u001b[0m\u001b[1;33m\u001b[0m\u001b[1;33m\u001b[0m\u001b[0m\n\u001b[0m\u001b[0;32m   2801\u001b[0m             \u001b[1;32mif\u001b[0m \u001b[0mis_integer\u001b[0m\u001b[1;33m(\u001b[0m\u001b[0mindexer\u001b[0m\u001b[1;33m)\u001b[0m\u001b[1;33m:\u001b[0m\u001b[1;33m\u001b[0m\u001b[1;33m\u001b[0m\u001b[0m\n\u001b[0;32m   2802\u001b[0m                 \u001b[0mindexer\u001b[0m \u001b[1;33m=\u001b[0m \u001b[1;33m[\u001b[0m\u001b[0mindexer\u001b[0m\u001b[1;33m]\u001b[0m\u001b[1;33m\u001b[0m\u001b[1;33m\u001b[0m\u001b[0m\n",
      "\u001b[1;32m~\\Anaconda3\\lib\\site-packages\\pandas\\core\\indexes\\base.py\u001b[0m in \u001b[0;36mget_loc\u001b[1;34m(self, key, method, tolerance)\u001b[0m\n\u001b[0;32m   2646\u001b[0m                 \u001b[1;32mreturn\u001b[0m \u001b[0mself\u001b[0m\u001b[1;33m.\u001b[0m\u001b[0m_engine\u001b[0m\u001b[1;33m.\u001b[0m\u001b[0mget_loc\u001b[0m\u001b[1;33m(\u001b[0m\u001b[0mkey\u001b[0m\u001b[1;33m)\u001b[0m\u001b[1;33m\u001b[0m\u001b[1;33m\u001b[0m\u001b[0m\n\u001b[0;32m   2647\u001b[0m             \u001b[1;32mexcept\u001b[0m \u001b[0mKeyError\u001b[0m\u001b[1;33m:\u001b[0m\u001b[1;33m\u001b[0m\u001b[1;33m\u001b[0m\u001b[0m\n\u001b[1;32m-> 2648\u001b[1;33m                 \u001b[1;32mreturn\u001b[0m \u001b[0mself\u001b[0m\u001b[1;33m.\u001b[0m\u001b[0m_engine\u001b[0m\u001b[1;33m.\u001b[0m\u001b[0mget_loc\u001b[0m\u001b[1;33m(\u001b[0m\u001b[0mself\u001b[0m\u001b[1;33m.\u001b[0m\u001b[0m_maybe_cast_indexer\u001b[0m\u001b[1;33m(\u001b[0m\u001b[0mkey\u001b[0m\u001b[1;33m)\u001b[0m\u001b[1;33m)\u001b[0m\u001b[1;33m\u001b[0m\u001b[1;33m\u001b[0m\u001b[0m\n\u001b[0m\u001b[0;32m   2649\u001b[0m         \u001b[0mindexer\u001b[0m \u001b[1;33m=\u001b[0m \u001b[0mself\u001b[0m\u001b[1;33m.\u001b[0m\u001b[0mget_indexer\u001b[0m\u001b[1;33m(\u001b[0m\u001b[1;33m[\u001b[0m\u001b[0mkey\u001b[0m\u001b[1;33m]\u001b[0m\u001b[1;33m,\u001b[0m \u001b[0mmethod\u001b[0m\u001b[1;33m=\u001b[0m\u001b[0mmethod\u001b[0m\u001b[1;33m,\u001b[0m \u001b[0mtolerance\u001b[0m\u001b[1;33m=\u001b[0m\u001b[0mtolerance\u001b[0m\u001b[1;33m)\u001b[0m\u001b[1;33m\u001b[0m\u001b[1;33m\u001b[0m\u001b[0m\n\u001b[0;32m   2650\u001b[0m         \u001b[1;32mif\u001b[0m \u001b[0mindexer\u001b[0m\u001b[1;33m.\u001b[0m\u001b[0mndim\u001b[0m \u001b[1;33m>\u001b[0m \u001b[1;36m1\u001b[0m \u001b[1;32mor\u001b[0m \u001b[0mindexer\u001b[0m\u001b[1;33m.\u001b[0m\u001b[0msize\u001b[0m \u001b[1;33m>\u001b[0m \u001b[1;36m1\u001b[0m\u001b[1;33m:\u001b[0m\u001b[1;33m\u001b[0m\u001b[1;33m\u001b[0m\u001b[0m\n",
      "\u001b[1;32mpandas\\_libs\\index.pyx\u001b[0m in \u001b[0;36mpandas._libs.index.IndexEngine.get_loc\u001b[1;34m()\u001b[0m\n",
      "\u001b[1;32mpandas\\_libs\\index.pyx\u001b[0m in \u001b[0;36mpandas._libs.index.IndexEngine.get_loc\u001b[1;34m()\u001b[0m\n",
      "\u001b[1;32mpandas\\_libs\\hashtable_class_helper.pxi\u001b[0m in \u001b[0;36mpandas._libs.hashtable.PyObjectHashTable.get_item\u001b[1;34m()\u001b[0m\n",
      "\u001b[1;32mpandas\\_libs\\hashtable_class_helper.pxi\u001b[0m in \u001b[0;36mpandas._libs.hashtable.PyObjectHashTable.get_item\u001b[1;34m()\u001b[0m\n",
      "\u001b[1;31mKeyError\u001b[0m: 'OPERANDO_SUSPENSION'"
     ]
    },
    {
     "data": {
      "image/png": "[encoded data removed]",
      "text/plain": [
       "<Figure size 720x504 with 1 Axes>"
      ]
     },
     "metadata": {},
     "output_type": "display_data"
    }
   ],
   "source": [
    "view_cat(conoceme, 'IMPACTO_COVID', 'OPERANDO_SUSPENSION')"
   ]
  },
  {
   "cell_type": "code",
   "execution_count": null,
   "metadata": {},
   "outputs": [],
   "source": [
    "view_cat(conoceme, 'COVID_FEVE', 'OPERANDO_SUSPENSION')"
   ]
  },
  {
   "cell_type": "code",
   "execution_count": 122,
   "metadata": {},
   "outputs": [
    {
     "ename": "KeyError",
     "evalue": "'OPERANDO_SUSPENSION'",
     "output_type": "error",
     "traceback": [
      "\u001b[1;31m---------------------------------------------------------------------------\u001b[0m",
      "\u001b[1;31mKeyError\u001b[0m                                  Traceback (most recent call last)",
      "\u001b[1;32m~\\Anaconda3\\lib\\site-packages\\pandas\\core\\indexes\\base.py\u001b[0m in \u001b[0;36mget_loc\u001b[1;34m(self, key, method, tolerance)\u001b[0m\n\u001b[0;32m   2645\u001b[0m             \u001b[1;32mtry\u001b[0m\u001b[1;33m:\u001b[0m\u001b[1;33m\u001b[0m\u001b[1;33m\u001b[0m\u001b[0m\n\u001b[1;32m-> 2646\u001b[1;33m                 \u001b[1;32mreturn\u001b[0m \u001b[0mself\u001b[0m\u001b[1;33m.\u001b[0m\u001b[0m_engine\u001b[0m\u001b[1;33m.\u001b[0m\u001b[0mget_loc\u001b[0m\u001b[1;33m(\u001b[0m\u001b[0mkey\u001b[0m\u001b[1;33m)\u001b[0m\u001b[1;33m\u001b[0m\u001b[1;33m\u001b[0m\u001b[0m\n\u001b[0m\u001b[0;32m   2647\u001b[0m             \u001b[1;32mexcept\u001b[0m \u001b[0mKeyError\u001b[0m\u001b[1;33m:\u001b[0m\u001b[1;33m\u001b[0m\u001b[1;33m\u001b[0m\u001b[0m\n",
      "\u001b[1;32mpandas\\_libs\\index.pyx\u001b[0m in \u001b[0;36mpandas._libs.index.IndexEngine.get_loc\u001b[1;34m()\u001b[0m\n",
      "\u001b[1;32mpandas\\_libs\\index.pyx\u001b[0m in \u001b[0;36mpandas._libs.index.IndexEngine.get_loc\u001b[1;34m()\u001b[0m\n",
      "\u001b[1;32mpandas\\_libs\\hashtable_class_helper.pxi\u001b[0m in \u001b[0;36mpandas._libs.hashtable.PyObjectHashTable.get_item\u001b[1;34m()\u001b[0m\n",
      "\u001b[1;32mpandas\\_libs\\hashtable_class_helper.pxi\u001b[0m in \u001b[0;36mpandas._libs.hashtable.PyObjectHashTable.get_item\u001b[1;34m()\u001b[0m\n",
      "\u001b[1;31mKeyError\u001b[0m: 'OPERANDO_SUSPENSION'",
      "\nDuring handling of the above exception, another exception occurred:\n",
      "\u001b[1;31mKeyError\u001b[0m                                  Traceback (most recent call last)",
      "\u001b[1;32m<ipython-input-122-f6ebb281697f>\u001b[0m in \u001b[0;36m<module>\u001b[1;34m\u001b[0m\n\u001b[1;32m----> 1\u001b[1;33m \u001b[0mview_cat\u001b[0m\u001b[1;33m(\u001b[0m\u001b[0mconoceme\u001b[0m\u001b[1;33m,\u001b[0m \u001b[1;34m'COVID_ESTRATEGIA'\u001b[0m\u001b[1;33m,\u001b[0m \u001b[1;34m'OPERANDO_SUSPENSION'\u001b[0m\u001b[1;33m)\u001b[0m\u001b[1;33m\u001b[0m\u001b[1;33m\u001b[0m\u001b[0m\n\u001b[0m",
      "\u001b[1;32m~\\Desktop\\ALERTA CARTERA\\utils_ficha.py\u001b[0m in \u001b[0;36mview_cat\u001b[1;34m(data, col_init, col_out, percent, **kwargs)\u001b[0m\n\u001b[0;32m     54\u001b[0m     \u001b[0mfig\u001b[0m\u001b[1;33m,\u001b[0m \u001b[0maxes\u001b[0m \u001b[1;33m=\u001b[0m \u001b[0mplt\u001b[0m\u001b[1;33m.\u001b[0m\u001b[0msubplots\u001b[0m\u001b[1;33m(\u001b[0m\u001b[0mnrows\u001b[0m\u001b[1;33m=\u001b[0m\u001b[1;36m1\u001b[0m\u001b[1;33m,\u001b[0m \u001b[0mncols\u001b[0m\u001b[1;33m=\u001b[0m\u001b[1;36m1\u001b[0m\u001b[1;33m,\u001b[0m \u001b[0mfigsize\u001b[0m\u001b[1;33m=\u001b[0m\u001b[1;33m(\u001b[0m\u001b[1;36m10\u001b[0m\u001b[1;33m,\u001b[0m \u001b[1;36m7\u001b[0m\u001b[1;33m)\u001b[0m\u001b[1;33m)\u001b[0m\u001b[1;33m\u001b[0m\u001b[1;33m\u001b[0m\u001b[0m\n\u001b[0;32m     55\u001b[0m \u001b[1;33m\u001b[0m\u001b[0m\n\u001b[1;32m---> 56\u001b[1;33m     \u001b[0mcross\u001b[0m \u001b[1;33m=\u001b[0m \u001b[0mpd\u001b[0m\u001b[1;33m.\u001b[0m\u001b[0mcrosstab\u001b[0m\u001b[1;33m(\u001b[0m\u001b[0mdata\u001b[0m\u001b[1;33m[\u001b[0m\u001b[0mcol_out\u001b[0m\u001b[1;33m]\u001b[0m\u001b[1;33m,\u001b[0m \u001b[0mdata\u001b[0m\u001b[1;33m[\u001b[0m\u001b[0mcol_init\u001b[0m\u001b[1;33m]\u001b[0m\u001b[1;33m)\u001b[0m\u001b[1;33m\u001b[0m\u001b[1;33m\u001b[0m\u001b[0m\n\u001b[0m\u001b[0;32m     57\u001b[0m     \u001b[1;32mif\u001b[0m \u001b[0mpercent\u001b[0m\u001b[1;33m:\u001b[0m\u001b[1;33m\u001b[0m\u001b[1;33m\u001b[0m\u001b[0m\n\u001b[0;32m     58\u001b[0m         \u001b[0msum_total\u001b[0m \u001b[1;33m=\u001b[0m \u001b[0msum\u001b[0m\u001b[1;33m(\u001b[0m\u001b[1;33m[\u001b[0m\u001b[0mcross\u001b[0m\u001b[1;33m[\u001b[0m\u001b[0mcol\u001b[0m\u001b[1;33m]\u001b[0m\u001b[1;33m.\u001b[0m\u001b[0msum\u001b[0m\u001b[1;33m(\u001b[0m\u001b[1;33m)\u001b[0m \u001b[1;32mfor\u001b[0m \u001b[0mcol\u001b[0m \u001b[1;32min\u001b[0m \u001b[0mcross\u001b[0m\u001b[1;33m.\u001b[0m\u001b[0mcolumns\u001b[0m\u001b[1;33m]\u001b[0m\u001b[1;33m)\u001b[0m\u001b[1;33m\u001b[0m\u001b[1;33m\u001b[0m\u001b[0m\n",
      "\u001b[1;32m~\\Anaconda3\\lib\\site-packages\\pandas\\core\\frame.py\u001b[0m in \u001b[0;36m__getitem__\u001b[1;34m(self, key)\u001b[0m\n\u001b[0;32m   2798\u001b[0m             \u001b[1;32mif\u001b[0m \u001b[0mself\u001b[0m\u001b[1;33m.\u001b[0m\u001b[0mcolumns\u001b[0m\u001b[1;33m.\u001b[0m\u001b[0mnlevels\u001b[0m \u001b[1;33m>\u001b[0m \u001b[1;36m1\u001b[0m\u001b[1;33m:\u001b[0m\u001b[1;33m\u001b[0m\u001b[1;33m\u001b[0m\u001b[0m\n\u001b[0;32m   2799\u001b[0m                 \u001b[1;32mreturn\u001b[0m \u001b[0mself\u001b[0m\u001b[1;33m.\u001b[0m\u001b[0m_getitem_multilevel\u001b[0m\u001b[1;33m(\u001b[0m\u001b[0mkey\u001b[0m\u001b[1;33m)\u001b[0m\u001b[1;33m\u001b[0m\u001b[1;33m\u001b[0m\u001b[0m\n\u001b[1;32m-> 2800\u001b[1;33m             \u001b[0mindexer\u001b[0m \u001b[1;33m=\u001b[0m \u001b[0mself\u001b[0m\u001b[1;33m.\u001b[0m\u001b[0mcolumns\u001b[0m\u001b[1;33m.\u001b[0m\u001b[0mget_loc\u001b[0m\u001b[1;33m(\u001b[0m\u001b[0mkey\u001b[0m\u001b[1;33m)\u001b[0m\u001b[1;33m\u001b[0m\u001b[1;33m\u001b[0m\u001b[0m\n\u001b[0m\u001b[0;32m   2801\u001b[0m             \u001b[1;32mif\u001b[0m \u001b[0mis_integer\u001b[0m\u001b[1;33m(\u001b[0m\u001b[0mindexer\u001b[0m\u001b[1;33m)\u001b[0m\u001b[1;33m:\u001b[0m\u001b[1;33m\u001b[0m\u001b[1;33m\u001b[0m\u001b[0m\n\u001b[0;32m   2802\u001b[0m                 \u001b[0mindexer\u001b[0m \u001b[1;33m=\u001b[0m \u001b[1;33m[\u001b[0m\u001b[0mindexer\u001b[0m\u001b[1;33m]\u001b[0m\u001b[1;33m\u001b[0m\u001b[1;33m\u001b[0m\u001b[0m\n",
      "\u001b[1;32m~\\Anaconda3\\lib\\site-packages\\pandas\\core\\indexes\\base.py\u001b[0m in \u001b[0;36mget_loc\u001b[1;34m(self, key, method, tolerance)\u001b[0m\n\u001b[0;32m   2646\u001b[0m                 \u001b[1;32mreturn\u001b[0m \u001b[0mself\u001b[0m\u001b[1;33m.\u001b[0m\u001b[0m_engine\u001b[0m\u001b[1;33m.\u001b[0m\u001b[0mget_loc\u001b[0m\u001b[1;33m(\u001b[0m\u001b[0mkey\u001b[0m\u001b[1;33m)\u001b[0m\u001b[1;33m\u001b[0m\u001b[1;33m\u001b[0m\u001b[0m\n\u001b[0;32m   2647\u001b[0m             \u001b[1;32mexcept\u001b[0m \u001b[0mKeyError\u001b[0m\u001b[1;33m:\u001b[0m\u001b[1;33m\u001b[0m\u001b[1;33m\u001b[0m\u001b[0m\n\u001b[1;32m-> 2648\u001b[1;33m                 \u001b[1;32mreturn\u001b[0m \u001b[0mself\u001b[0m\u001b[1;33m.\u001b[0m\u001b[0m_engine\u001b[0m\u001b[1;33m.\u001b[0m\u001b[0mget_loc\u001b[0m\u001b[1;33m(\u001b[0m\u001b[0mself\u001b[0m\u001b[1;33m.\u001b[0m\u001b[0m_maybe_cast_indexer\u001b[0m\u001b[1;33m(\u001b[0m\u001b[0mkey\u001b[0m\u001b[1;33m)\u001b[0m\u001b[1;33m)\u001b[0m\u001b[1;33m\u001b[0m\u001b[1;33m\u001b[0m\u001b[0m\n\u001b[0m\u001b[0;32m   2649\u001b[0m         \u001b[0mindexer\u001b[0m \u001b[1;33m=\u001b[0m \u001b[0mself\u001b[0m\u001b[1;33m.\u001b[0m\u001b[0mget_indexer\u001b[0m\u001b[1;33m(\u001b[0m\u001b[1;33m[\u001b[0m\u001b[0mkey\u001b[0m\u001b[1;33m]\u001b[0m\u001b[1;33m,\u001b[0m \u001b[0mmethod\u001b[0m\u001b[1;33m=\u001b[0m\u001b[0mmethod\u001b[0m\u001b[1;33m,\u001b[0m \u001b[0mtolerance\u001b[0m\u001b[1;33m=\u001b[0m\u001b[0mtolerance\u001b[0m\u001b[1;33m)\u001b[0m\u001b[1;33m\u001b[0m\u001b[1;33m\u001b[0m\u001b[0m\n\u001b[0;32m   2650\u001b[0m         \u001b[1;32mif\u001b[0m \u001b[0mindexer\u001b[0m\u001b[1;33m.\u001b[0m\u001b[0mndim\u001b[0m \u001b[1;33m>\u001b[0m \u001b[1;36m1\u001b[0m \u001b[1;32mor\u001b[0m \u001b[0mindexer\u001b[0m\u001b[1;33m.\u001b[0m\u001b[0msize\u001b[0m \u001b[1;33m>\u001b[0m \u001b[1;36m1\u001b[0m\u001b[1;33m:\u001b[0m\u001b[1;33m\u001b[0m\u001b[1;33m\u001b[0m\u001b[0m\n",
      "\u001b[1;32mpandas\\_libs\\index.pyx\u001b[0m in \u001b[0;36mpandas._libs.index.IndexEngine.get_loc\u001b[1;34m()\u001b[0m\n",
      "\u001b[1;32mpandas\\_libs\\index.pyx\u001b[0m in \u001b[0;36mpandas._libs.index.IndexEngine.get_loc\u001b[1;34m()\u001b[0m\n",
      "\u001b[1;32mpandas\\_libs\\hashtable_class_helper.pxi\u001b[0m in \u001b[0;36mpandas._libs.hashtable.PyObjectHashTable.get_item\u001b[1;34m()\u001b[0m\n",
      "\u001b[1;32mpandas\\_libs\\hashtable_class_helper.pxi\u001b[0m in \u001b[0;36mpandas._libs.hashtable.PyObjectHashTable.get_item\u001b[1;34m()\u001b[0m\n",
      "\u001b[1;31mKeyError\u001b[0m: 'OPERANDO_SUSPENSION'"
     ]
    },
    {
     "data": {
      "image/png": "[encoded data removed]",
      "text/plain": [
       "<Figure size 720x504 with 1 Axes>"
      ]
     },
     "metadata": {},
     "output_type": "display_data"
    }
   ],
   "source": [
    "view_cat(conoceme, 'COVID_ESTRATEGIA', 'OPERANDO_SUSPENSION')"
   ]
  },
  {
   "cell_type": "markdown",
   "metadata": {},
   "source": [
    "## >> Validación de importnacia de la pregunta: 4 ¿En qué porcentaje se ha reducido su ingreso mensual en lo que va del 2020?"
   ]
  },
  {
   "cell_type": "code",
   "execution_count": 123,
   "metadata": {},
   "outputs": [
    {
     "data": {
      "text/plain": [
       "<matplotlib.axes._subplots.AxesSubplot at 0x2576469a088>"
      ]
     },
     "execution_count": 123,
     "metadata": {},
     "output_type": "execute_result"
    },
    {
     "data": {
      "image/png": "[encoded data removed]",
      "text/plain": [
       "<Figure size 432x288 with 1 Axes>"
      ]
     },
     "metadata": {},
     "output_type": "display_data"
    }
   ],
   "source": [
    "conoceme['COVID_PORCENTAJE_REDUCCION_INGREO_MENUSAL'] = conoceme['COVID_P_4'].fillna(0.0)\n",
    "\n",
    "del conoceme['COVID_P_4']\n",
    "conoceme['COVID_PORCENTAJE_REDUCCION_INGREO_MENUSAL'].hist(bins=20)"
   ]
  },
  {
   "cell_type": "code",
   "execution_count": 124,
   "metadata": {},
   "outputs": [
    {
     "data": {
      "image/png": "[encoded data removed]",
      "text/plain": [
       "<Figure size 720x360 with 1 Axes>"
      ]
     },
     "metadata": {},
     "output_type": "display_data"
    }
   ],
   "source": [
    "view_numeric(conoceme, 'COVID_PORCENTAJE_REDUCCION_INGREO_MENUSAL', 'COVID_P_1_TE_AFECTO_COVID')"
   ]
  },
  {
   "cell_type": "code",
   "execution_count": 125,
   "metadata": {},
   "outputs": [
    {
     "data": {
      "image/png": "[encoded data removed]",
      "text/plain": [
       "<Figure size 720x360 with 1 Axes>"
      ]
     },
     "metadata": {},
     "output_type": "display_data"
    }
   ],
   "source": [
    "view_numeric(conoceme, 'COVID_PORCENTAJE_REDUCCION_INGREO_MENUSAL', 'COVID_P_2_1_ESTA_OPERANDO')"
   ]
  },
  {
   "cell_type": "code",
   "execution_count": 126,
   "metadata": {},
   "outputs": [
    {
     "ename": "ValueError",
     "evalue": "Could not interpret input 'OPERANDO_SUSPENSION'",
     "output_type": "error",
     "traceback": [
      "\u001b[1;31m---------------------------------------------------------------------------\u001b[0m",
      "\u001b[1;31mValueError\u001b[0m                                Traceback (most recent call last)",
      "\u001b[1;32m<ipython-input-126-62216e132636>\u001b[0m in \u001b[0;36m<module>\u001b[1;34m\u001b[0m\n\u001b[1;32m----> 1\u001b[1;33m \u001b[0mview_numeric\u001b[0m\u001b[1;33m(\u001b[0m\u001b[0mconoceme\u001b[0m\u001b[1;33m,\u001b[0m \u001b[1;34m'COVID_PORCENTAJE_REDUCCION_INGREO_MENUSAL'\u001b[0m\u001b[1;33m,\u001b[0m \u001b[1;34m'OPERANDO_SUSPENSION'\u001b[0m\u001b[1;33m)\u001b[0m\u001b[1;33m\u001b[0m\u001b[1;33m\u001b[0m\u001b[0m\n\u001b[0m",
      "\u001b[1;32m<ipython-input-50-7c359287b1d9>\u001b[0m in \u001b[0;36mview_numeric\u001b[1;34m(data, col_init, col_out, **kwargs)\u001b[0m\n\u001b[0;32m      4\u001b[0m     \u001b[0mfig\u001b[0m\u001b[1;33m,\u001b[0m \u001b[0maxes\u001b[0m \u001b[1;33m=\u001b[0m \u001b[0mplt\u001b[0m\u001b[1;33m.\u001b[0m\u001b[0msubplots\u001b[0m\u001b[1;33m(\u001b[0m\u001b[0mnrows\u001b[0m\u001b[1;33m=\u001b[0m\u001b[1;36m1\u001b[0m\u001b[1;33m,\u001b[0m \u001b[0mncols\u001b[0m\u001b[1;33m=\u001b[0m\u001b[1;36m1\u001b[0m\u001b[1;33m,\u001b[0m \u001b[0mfigsize\u001b[0m\u001b[1;33m=\u001b[0m\u001b[1;33m(\u001b[0m\u001b[1;36m10\u001b[0m\u001b[1;33m,\u001b[0m \u001b[1;36m5\u001b[0m\u001b[1;33m)\u001b[0m\u001b[1;33m)\u001b[0m\u001b[1;33m\u001b[0m\u001b[1;33m\u001b[0m\u001b[0m\n\u001b[0;32m      5\u001b[0m \u001b[1;33m\u001b[0m\u001b[0m\n\u001b[1;32m----> 6\u001b[1;33m     \u001b[0msns\u001b[0m\u001b[1;33m.\u001b[0m\u001b[0mviolinplot\u001b[0m\u001b[1;33m(\u001b[0m\u001b[0mx\u001b[0m\u001b[1;33m=\u001b[0m\u001b[0mcol_out\u001b[0m\u001b[1;33m,\u001b[0m \u001b[0my\u001b[0m\u001b[1;33m=\u001b[0m\u001b[0mcol_init\u001b[0m\u001b[1;33m,\u001b[0m \u001b[0mdata\u001b[0m\u001b[1;33m=\u001b[0m\u001b[0mdata\u001b[0m\u001b[1;33m,\u001b[0m \u001b[0max\u001b[0m\u001b[1;33m=\u001b[0m\u001b[0maxes\u001b[0m\u001b[1;33m)\u001b[0m\u001b[1;33m\u001b[0m\u001b[1;33m\u001b[0m\u001b[0m\n\u001b[0m",
      "\u001b[1;32m~\\Anaconda3\\lib\\site-packages\\seaborn\\categorical.py\u001b[0m in \u001b[0;36mviolinplot\u001b[1;34m(x, y, hue, data, order, hue_order, bw, cut, scale, scale_hue, gridsize, width, inner, split, dodge, orient, linewidth, color, palette, saturation, ax, **kwargs)\u001b[0m\n\u001b[0;32m   2391\u001b[0m                              \u001b[0mbw\u001b[0m\u001b[1;33m,\u001b[0m \u001b[0mcut\u001b[0m\u001b[1;33m,\u001b[0m \u001b[0mscale\u001b[0m\u001b[1;33m,\u001b[0m \u001b[0mscale_hue\u001b[0m\u001b[1;33m,\u001b[0m \u001b[0mgridsize\u001b[0m\u001b[1;33m,\u001b[0m\u001b[1;33m\u001b[0m\u001b[1;33m\u001b[0m\u001b[0m\n\u001b[0;32m   2392\u001b[0m                              \u001b[0mwidth\u001b[0m\u001b[1;33m,\u001b[0m \u001b[0minner\u001b[0m\u001b[1;33m,\u001b[0m \u001b[0msplit\u001b[0m\u001b[1;33m,\u001b[0m \u001b[0mdodge\u001b[0m\u001b[1;33m,\u001b[0m \u001b[0morient\u001b[0m\u001b[1;33m,\u001b[0m \u001b[0mlinewidth\u001b[0m\u001b[1;33m,\u001b[0m\u001b[1;33m\u001b[0m\u001b[1;33m\u001b[0m\u001b[0m\n\u001b[1;32m-> 2393\u001b[1;33m                              color, palette, saturation)\n\u001b[0m\u001b[0;32m   2394\u001b[0m \u001b[1;33m\u001b[0m\u001b[0m\n\u001b[0;32m   2395\u001b[0m     \u001b[1;32mif\u001b[0m \u001b[0max\u001b[0m \u001b[1;32mis\u001b[0m \u001b[1;32mNone\u001b[0m\u001b[1;33m:\u001b[0m\u001b[1;33m\u001b[0m\u001b[1;33m\u001b[0m\u001b[0m\n",
      "\u001b[1;32m~\\Anaconda3\\lib\\site-packages\\seaborn\\categorical.py\u001b[0m in \u001b[0;36m__init__\u001b[1;34m(self, x, y, hue, data, order, hue_order, bw, cut, scale, scale_hue, gridsize, width, inner, split, dodge, orient, linewidth, color, palette, saturation)\u001b[0m\n\u001b[0;32m    557\u001b[0m                  color, palette, saturation):\n\u001b[0;32m    558\u001b[0m \u001b[1;33m\u001b[0m\u001b[0m\n\u001b[1;32m--> 559\u001b[1;33m         \u001b[0mself\u001b[0m\u001b[1;33m.\u001b[0m\u001b[0mestablish_variables\u001b[0m\u001b[1;33m(\u001b[0m\u001b[0mx\u001b[0m\u001b[1;33m,\u001b[0m \u001b[0my\u001b[0m\u001b[1;33m,\u001b[0m \u001b[0mhue\u001b[0m\u001b[1;33m,\u001b[0m \u001b[0mdata\u001b[0m\u001b[1;33m,\u001b[0m \u001b[0morient\u001b[0m\u001b[1;33m,\u001b[0m \u001b[0morder\u001b[0m\u001b[1;33m,\u001b[0m \u001b[0mhue_order\u001b[0m\u001b[1;33m)\u001b[0m\u001b[1;33m\u001b[0m\u001b[1;33m\u001b[0m\u001b[0m\n\u001b[0m\u001b[0;32m    560\u001b[0m         \u001b[0mself\u001b[0m\u001b[1;33m.\u001b[0m\u001b[0mestablish_colors\u001b[0m\u001b[1;33m(\u001b[0m\u001b[0mcolor\u001b[0m\u001b[1;33m,\u001b[0m \u001b[0mpalette\u001b[0m\u001b[1;33m,\u001b[0m \u001b[0msaturation\u001b[0m\u001b[1;33m)\u001b[0m\u001b[1;33m\u001b[0m\u001b[1;33m\u001b[0m\u001b[0m\n\u001b[0;32m    561\u001b[0m         \u001b[0mself\u001b[0m\u001b[1;33m.\u001b[0m\u001b[0mestimate_densities\u001b[0m\u001b[1;33m(\u001b[0m\u001b[0mbw\u001b[0m\u001b[1;33m,\u001b[0m \u001b[0mcut\u001b[0m\u001b[1;33m,\u001b[0m \u001b[0mscale\u001b[0m\u001b[1;33m,\u001b[0m \u001b[0mscale_hue\u001b[0m\u001b[1;33m,\u001b[0m \u001b[0mgridsize\u001b[0m\u001b[1;33m)\u001b[0m\u001b[1;33m\u001b[0m\u001b[1;33m\u001b[0m\u001b[0m\n",
      "\u001b[1;32m~\\Anaconda3\\lib\\site-packages\\seaborn\\categorical.py\u001b[0m in \u001b[0;36mestablish_variables\u001b[1;34m(self, x, y, hue, data, orient, order, hue_order, units)\u001b[0m\n\u001b[0;32m    150\u001b[0m                 \u001b[1;32mif\u001b[0m \u001b[0misinstance\u001b[0m\u001b[1;33m(\u001b[0m\u001b[0mvar\u001b[0m\u001b[1;33m,\u001b[0m \u001b[0mstr\u001b[0m\u001b[1;33m)\u001b[0m\u001b[1;33m:\u001b[0m\u001b[1;33m\u001b[0m\u001b[1;33m\u001b[0m\u001b[0m\n\u001b[0;32m    151\u001b[0m                     \u001b[0merr\u001b[0m \u001b[1;33m=\u001b[0m \u001b[1;34m\"Could not interpret input '{}'\"\u001b[0m\u001b[1;33m.\u001b[0m\u001b[0mformat\u001b[0m\u001b[1;33m(\u001b[0m\u001b[0mvar\u001b[0m\u001b[1;33m)\u001b[0m\u001b[1;33m\u001b[0m\u001b[1;33m\u001b[0m\u001b[0m\n\u001b[1;32m--> 152\u001b[1;33m                     \u001b[1;32mraise\u001b[0m \u001b[0mValueError\u001b[0m\u001b[1;33m(\u001b[0m\u001b[0merr\u001b[0m\u001b[1;33m)\u001b[0m\u001b[1;33m\u001b[0m\u001b[1;33m\u001b[0m\u001b[0m\n\u001b[0m\u001b[0;32m    153\u001b[0m \u001b[1;33m\u001b[0m\u001b[0m\n\u001b[0;32m    154\u001b[0m             \u001b[1;31m# Figure out the plotting orientation\u001b[0m\u001b[1;33m\u001b[0m\u001b[1;33m\u001b[0m\u001b[1;33m\u001b[0m\u001b[0m\n",
      "\u001b[1;31mValueError\u001b[0m: Could not interpret input 'OPERANDO_SUSPENSION'"
     ]
    },
    {
     "data": {
      "image/png": "[encoded data removed]",
      "text/plain": [
       "<Figure size 720x360 with 1 Axes>"
      ]
     },
     "metadata": {},
     "output_type": "display_data"
    }
   ],
   "source": [
    "view_numeric(conoceme, 'COVID_PORCENTAJE_REDUCCION_INGREO_MENUSAL', 'OPERANDO_SUSPENSION')"
   ]
  },
  {
   "cell_type": "code",
   "execution_count": 127,
   "metadata": {},
   "outputs": [],
   "source": [
    "#view_numeric(conoceme, 'COVID_P_4_PORCENTAJE_REDUCCION_INGREO_MENUSAL', 'ESTA_OPERANDO')"
   ]
  },
  {
   "cell_type": "code",
   "execution_count": 128,
   "metadata": {},
   "outputs": [
    {
     "ename": "KeyError",
     "evalue": "'OPERANDO_SUSPENSION'",
     "output_type": "error",
     "traceback": [
      "\u001b[1;31m---------------------------------------------------------------------------\u001b[0m",
      "\u001b[1;31mKeyError\u001b[0m                                  Traceback (most recent call last)",
      "\u001b[1;32m~\\Anaconda3\\lib\\site-packages\\pandas\\core\\indexes\\base.py\u001b[0m in \u001b[0;36mget_loc\u001b[1;34m(self, key, method, tolerance)\u001b[0m\n\u001b[0;32m   2645\u001b[0m             \u001b[1;32mtry\u001b[0m\u001b[1;33m:\u001b[0m\u001b[1;33m\u001b[0m\u001b[1;33m\u001b[0m\u001b[0m\n\u001b[1;32m-> 2646\u001b[1;33m                 \u001b[1;32mreturn\u001b[0m \u001b[0mself\u001b[0m\u001b[1;33m.\u001b[0m\u001b[0m_engine\u001b[0m\u001b[1;33m.\u001b[0m\u001b[0mget_loc\u001b[0m\u001b[1;33m(\u001b[0m\u001b[0mkey\u001b[0m\u001b[1;33m)\u001b[0m\u001b[1;33m\u001b[0m\u001b[1;33m\u001b[0m\u001b[0m\n\u001b[0m\u001b[0;32m   2647\u001b[0m             \u001b[1;32mexcept\u001b[0m \u001b[0mKeyError\u001b[0m\u001b[1;33m:\u001b[0m\u001b[1;33m\u001b[0m\u001b[1;33m\u001b[0m\u001b[0m\n",
      "\u001b[1;32mpandas\\_libs\\index.pyx\u001b[0m in \u001b[0;36mpandas._libs.index.IndexEngine.get_loc\u001b[1;34m()\u001b[0m\n",
      "\u001b[1;32mpandas\\_libs\\index.pyx\u001b[0m in \u001b[0;36mpandas._libs.index.IndexEngine.get_loc\u001b[1;34m()\u001b[0m\n",
      "\u001b[1;32mpandas\\_libs\\hashtable_class_helper.pxi\u001b[0m in \u001b[0;36mpandas._libs.hashtable.PyObjectHashTable.get_item\u001b[1;34m()\u001b[0m\n",
      "\u001b[1;32mpandas\\_libs\\hashtable_class_helper.pxi\u001b[0m in \u001b[0;36mpandas._libs.hashtable.PyObjectHashTable.get_item\u001b[1;34m()\u001b[0m\n",
      "\u001b[1;31mKeyError\u001b[0m: 'OPERANDO_SUSPENSION'",
      "\nDuring handling of the above exception, another exception occurred:\n",
      "\u001b[1;31mKeyError\u001b[0m                                  Traceback (most recent call last)",
      "\u001b[1;32m<ipython-input-128-14c181e54fdd>\u001b[0m in \u001b[0;36m<module>\u001b[1;34m\u001b[0m\n\u001b[0;32m      2\u001b[0m \u001b[1;33m\u001b[0m\u001b[0m\n\u001b[0;32m      3\u001b[0m \u001b[1;32mdel\u001b[0m \u001b[0mconoceme\u001b[0m\u001b[1;33m[\u001b[0m\u001b[1;34m'COVID_P_11'\u001b[0m\u001b[1;33m]\u001b[0m\u001b[1;33m\u001b[0m\u001b[1;33m\u001b[0m\u001b[0m\n\u001b[1;32m----> 4\u001b[1;33m \u001b[0mview_cat\u001b[0m\u001b[1;33m(\u001b[0m\u001b[0mconoceme\u001b[0m\u001b[1;33m,\u001b[0m \u001b[1;34m'COVID_REACTIVA_SF_NO_IBK'\u001b[0m\u001b[1;33m,\u001b[0m \u001b[1;34m'OPERANDO_SUSPENSION'\u001b[0m\u001b[1;33m)\u001b[0m\u001b[1;33m\u001b[0m\u001b[1;33m\u001b[0m\u001b[0m\n\u001b[0m",
      "\u001b[1;32m~\\Desktop\\ALERTA CARTERA\\utils_ficha.py\u001b[0m in \u001b[0;36mview_cat\u001b[1;34m(data, col_init, col_out, percent, **kwargs)\u001b[0m\n\u001b[0;32m     54\u001b[0m     \u001b[0mfig\u001b[0m\u001b[1;33m,\u001b[0m \u001b[0maxes\u001b[0m \u001b[1;33m=\u001b[0m \u001b[0mplt\u001b[0m\u001b[1;33m.\u001b[0m\u001b[0msubplots\u001b[0m\u001b[1;33m(\u001b[0m\u001b[0mnrows\u001b[0m\u001b[1;33m=\u001b[0m\u001b[1;36m1\u001b[0m\u001b[1;33m,\u001b[0m \u001b[0mncols\u001b[0m\u001b[1;33m=\u001b[0m\u001b[1;36m1\u001b[0m\u001b[1;33m,\u001b[0m \u001b[0mfigsize\u001b[0m\u001b[1;33m=\u001b[0m\u001b[1;33m(\u001b[0m\u001b[1;36m10\u001b[0m\u001b[1;33m,\u001b[0m \u001b[1;36m7\u001b[0m\u001b[1;33m)\u001b[0m\u001b[1;33m)\u001b[0m\u001b[1;33m\u001b[0m\u001b[1;33m\u001b[0m\u001b[0m\n\u001b[0;32m     55\u001b[0m \u001b[1;33m\u001b[0m\u001b[0m\n\u001b[1;32m---> 56\u001b[1;33m     \u001b[0mcross\u001b[0m \u001b[1;33m=\u001b[0m \u001b[0mpd\u001b[0m\u001b[1;33m.\u001b[0m\u001b[0mcrosstab\u001b[0m\u001b[1;33m(\u001b[0m\u001b[0mdata\u001b[0m\u001b[1;33m[\u001b[0m\u001b[0mcol_out\u001b[0m\u001b[1;33m]\u001b[0m\u001b[1;33m,\u001b[0m \u001b[0mdata\u001b[0m\u001b[1;33m[\u001b[0m\u001b[0mcol_init\u001b[0m\u001b[1;33m]\u001b[0m\u001b[1;33m)\u001b[0m\u001b[1;33m\u001b[0m\u001b[1;33m\u001b[0m\u001b[0m\n\u001b[0m\u001b[0;32m     57\u001b[0m     \u001b[1;32mif\u001b[0m \u001b[0mpercent\u001b[0m\u001b[1;33m:\u001b[0m\u001b[1;33m\u001b[0m\u001b[1;33m\u001b[0m\u001b[0m\n\u001b[0;32m     58\u001b[0m         \u001b[0msum_total\u001b[0m \u001b[1;33m=\u001b[0m \u001b[0msum\u001b[0m\u001b[1;33m(\u001b[0m\u001b[1;33m[\u001b[0m\u001b[0mcross\u001b[0m\u001b[1;33m[\u001b[0m\u001b[0mcol\u001b[0m\u001b[1;33m]\u001b[0m\u001b[1;33m.\u001b[0m\u001b[0msum\u001b[0m\u001b[1;33m(\u001b[0m\u001b[1;33m)\u001b[0m \u001b[1;32mfor\u001b[0m \u001b[0mcol\u001b[0m \u001b[1;32min\u001b[0m \u001b[0mcross\u001b[0m\u001b[1;33m.\u001b[0m\u001b[0mcolumns\u001b[0m\u001b[1;33m]\u001b[0m\u001b[1;33m)\u001b[0m\u001b[1;33m\u001b[0m\u001b[1;33m\u001b[0m\u001b[0m\n",
      "\u001b[1;32m~\\Anaconda3\\lib\\site-packages\\pandas\\core\\frame.py\u001b[0m in \u001b[0;36m__getitem__\u001b[1;34m(self, key)\u001b[0m\n\u001b[0;32m   2798\u001b[0m             \u001b[1;32mif\u001b[0m \u001b[0mself\u001b[0m\u001b[1;33m.\u001b[0m\u001b[0mcolumns\u001b[0m\u001b[1;33m.\u001b[0m\u001b[0mnlevels\u001b[0m \u001b[1;33m>\u001b[0m \u001b[1;36m1\u001b[0m\u001b[1;33m:\u001b[0m\u001b[1;33m\u001b[0m\u001b[1;33m\u001b[0m\u001b[0m\n\u001b[0;32m   2799\u001b[0m                 \u001b[1;32mreturn\u001b[0m \u001b[0mself\u001b[0m\u001b[1;33m.\u001b[0m\u001b[0m_getitem_multilevel\u001b[0m\u001b[1;33m(\u001b[0m\u001b[0mkey\u001b[0m\u001b[1;33m)\u001b[0m\u001b[1;33m\u001b[0m\u001b[1;33m\u001b[0m\u001b[0m\n\u001b[1;32m-> 2800\u001b[1;33m             \u001b[0mindexer\u001b[0m \u001b[1;33m=\u001b[0m \u001b[0mself\u001b[0m\u001b[1;33m.\u001b[0m\u001b[0mcolumns\u001b[0m\u001b[1;33m.\u001b[0m\u001b[0mget_loc\u001b[0m\u001b[1;33m(\u001b[0m\u001b[0mkey\u001b[0m\u001b[1;33m)\u001b[0m\u001b[1;33m\u001b[0m\u001b[1;33m\u001b[0m\u001b[0m\n\u001b[0m\u001b[0;32m   2801\u001b[0m             \u001b[1;32mif\u001b[0m \u001b[0mis_integer\u001b[0m\u001b[1;33m(\u001b[0m\u001b[0mindexer\u001b[0m\u001b[1;33m)\u001b[0m\u001b[1;33m:\u001b[0m\u001b[1;33m\u001b[0m\u001b[1;33m\u001b[0m\u001b[0m\n\u001b[0;32m   2802\u001b[0m                 \u001b[0mindexer\u001b[0m \u001b[1;33m=\u001b[0m \u001b[1;33m[\u001b[0m\u001b[0mindexer\u001b[0m\u001b[1;33m]\u001b[0m\u001b[1;33m\u001b[0m\u001b[1;33m\u001b[0m\u001b[0m\n",
      "\u001b[1;32m~\\Anaconda3\\lib\\site-packages\\pandas\\core\\indexes\\base.py\u001b[0m in \u001b[0;36mget_loc\u001b[1;34m(self, key, method, tolerance)\u001b[0m\n\u001b[0;32m   2646\u001b[0m                 \u001b[1;32mreturn\u001b[0m \u001b[0mself\u001b[0m\u001b[1;33m.\u001b[0m\u001b[0m_engine\u001b[0m\u001b[1;33m.\u001b[0m\u001b[0mget_loc\u001b[0m\u001b[1;33m(\u001b[0m\u001b[0mkey\u001b[0m\u001b[1;33m)\u001b[0m\u001b[1;33m\u001b[0m\u001b[1;33m\u001b[0m\u001b[0m\n\u001b[0;32m   2647\u001b[0m             \u001b[1;32mexcept\u001b[0m \u001b[0mKeyError\u001b[0m\u001b[1;33m:\u001b[0m\u001b[1;33m\u001b[0m\u001b[1;33m\u001b[0m\u001b[0m\n\u001b[1;32m-> 2648\u001b[1;33m                 \u001b[1;32mreturn\u001b[0m \u001b[0mself\u001b[0m\u001b[1;33m.\u001b[0m\u001b[0m_engine\u001b[0m\u001b[1;33m.\u001b[0m\u001b[0mget_loc\u001b[0m\u001b[1;33m(\u001b[0m\u001b[0mself\u001b[0m\u001b[1;33m.\u001b[0m\u001b[0m_maybe_cast_indexer\u001b[0m\u001b[1;33m(\u001b[0m\u001b[0mkey\u001b[0m\u001b[1;33m)\u001b[0m\u001b[1;33m)\u001b[0m\u001b[1;33m\u001b[0m\u001b[1;33m\u001b[0m\u001b[0m\n\u001b[0m\u001b[0;32m   2649\u001b[0m         \u001b[0mindexer\u001b[0m \u001b[1;33m=\u001b[0m \u001b[0mself\u001b[0m\u001b[1;33m.\u001b[0m\u001b[0mget_indexer\u001b[0m\u001b[1;33m(\u001b[0m\u001b[1;33m[\u001b[0m\u001b[0mkey\u001b[0m\u001b[1;33m]\u001b[0m\u001b[1;33m,\u001b[0m \u001b[0mmethod\u001b[0m\u001b[1;33m=\u001b[0m\u001b[0mmethod\u001b[0m\u001b[1;33m,\u001b[0m \u001b[0mtolerance\u001b[0m\u001b[1;33m=\u001b[0m\u001b[0mtolerance\u001b[0m\u001b[1;33m)\u001b[0m\u001b[1;33m\u001b[0m\u001b[1;33m\u001b[0m\u001b[0m\n\u001b[0;32m   2650\u001b[0m         \u001b[1;32mif\u001b[0m \u001b[0mindexer\u001b[0m\u001b[1;33m.\u001b[0m\u001b[0mndim\u001b[0m \u001b[1;33m>\u001b[0m \u001b[1;36m1\u001b[0m \u001b[1;32mor\u001b[0m \u001b[0mindexer\u001b[0m\u001b[1;33m.\u001b[0m\u001b[0msize\u001b[0m \u001b[1;33m>\u001b[0m \u001b[1;36m1\u001b[0m\u001b[1;33m:\u001b[0m\u001b[1;33m\u001b[0m\u001b[1;33m\u001b[0m\u001b[0m\n",
      "\u001b[1;32mpandas\\_libs\\index.pyx\u001b[0m in \u001b[0;36mpandas._libs.index.IndexEngine.get_loc\u001b[1;34m()\u001b[0m\n",
      "\u001b[1;32mpandas\\_libs\\index.pyx\u001b[0m in \u001b[0;36mpandas._libs.index.IndexEngine.get_loc\u001b[1;34m()\u001b[0m\n",
      "\u001b[1;32mpandas\\_libs\\hashtable_class_helper.pxi\u001b[0m in \u001b[0;36mpandas._libs.hashtable.PyObjectHashTable.get_item\u001b[1;34m()\u001b[0m\n",
      "\u001b[1;32mpandas\\_libs\\hashtable_class_helper.pxi\u001b[0m in \u001b[0;36mpandas._libs.hashtable.PyObjectHashTable.get_item\u001b[1;34m()\u001b[0m\n",
      "\u001b[1;31mKeyError\u001b[0m: 'OPERANDO_SUSPENSION'"
     ]
    },
    {
     "data": {
      "image/png": "[encoded data removed]",
      "text/plain": [
       "<Figure size 720x504 with 1 Axes>"
      ]
     },
     "metadata": {},
     "output_type": "display_data"
    }
   ],
   "source": [
    "conoceme['COVID_REACTIVA_SF_NO_IBK'] = conoceme['COVID_P_11'].apply(parser_si_no)\n",
    "\n",
    "del conoceme['COVID_P_11']\n",
    "view_cat(conoceme, 'COVID_REACTIVA_SF_NO_IBK', 'OPERANDO_SUSPENSION')"
   ]
  },
  {
   "cell_type": "code",
   "execution_count": null,
   "metadata": {},
   "outputs": [],
   "source": []
  },
  {
   "cell_type": "code",
   "execution_count": 129,
   "metadata": {},
   "outputs": [
    {
     "name": "stdout",
     "output_type": "stream",
     "text": [
      "COVID_P_11_1_1 object\n",
      "COVID_P_11_1_2 float64\n",
      "COVID_P_11_1_2\n",
      "COVID_P_11_2_1 object\n",
      "COVID_P_11_2_2 float64\n",
      "COVID_P_11_2_2\n",
      "COVID_P_11_3_1 object\n",
      "COVID_P_11_3_2 float64\n",
      "COVID_P_11_3_2\n",
      "COVID_P_11_4_1 object\n",
      "COVID_P_11_4_2 float64\n",
      "COVID_P_11_4_2\n",
      "COVID_P_11_5_1 object\n",
      "COVID_P_11_5_2 float64\n",
      "COVID_P_11_5_2\n",
      "COVID_P_11_6_1 object\n",
      "COVID_P_11_6_2 float64\n",
      "COVID_P_11_6_2\n"
     ]
    }
   ],
   "source": [
    "listado = ['COVID_P_11_1_1', 'COVID_P_11_1_2', 'COVID_P_11_2_1', 'COVID_P_11_2_2', 'COVID_P_11_3_1', 'COVID_P_11_3_2',\n",
    "           'COVID_P_11_4_1', 'COVID_P_11_4_2', 'COVID_P_11_5_1', 'COVID_P_11_5_2', 'COVID_P_11_6_1', 'COVID_P_11_6_2']\n",
    "\n",
    "for col in listado:\n",
    "    print(col, conoceme[col].dtype)\n",
    "    if col.endswith('_2'):\n",
    "        print(col)\n",
    "        conoceme[col] = conoceme[col].fillna(0)"
   ]
  },
  {
   "cell_type": "code",
   "execution_count": 130,
   "metadata": {},
   "outputs": [
    {
     "data": {
      "text/plain": [
       "<matplotlib.axes._subplots.AxesSubplot at 0x25766077288>"
      ]
     },
     "execution_count": 130,
     "metadata": {},
     "output_type": "execute_result"
    },
    {
     "data": {
      "image/png": "[encoded data removed]",
      "text/plain": [
       "<Figure size 432x288 with 1 Axes>"
      ]
     },
     "metadata": {},
     "output_type": "display_data"
    }
   ],
   "source": [
    "conoceme['COVID_SUMA_REACTIVA_SF_NO_IBK'] = conoceme[[col for col in listado if col.endswith('_2')]].sum(axis=1)\n",
    "conoceme['COVID_SUMA_REACTIVA_SF_NO_IBK'].hist(bins=200)"
   ]
  },
  {
   "cell_type": "code",
   "execution_count": null,
   "metadata": {},
   "outputs": [],
   "source": []
  },
  {
   "cell_type": "code",
   "execution_count": 131,
   "metadata": {},
   "outputs": [
    {
     "ename": "ValueError",
     "evalue": "Could not interpret input 'OPERANDO_SUSPENSION'",
     "output_type": "error",
     "traceback": [
      "\u001b[1;31m---------------------------------------------------------------------------\u001b[0m",
      "\u001b[1;31mValueError\u001b[0m                                Traceback (most recent call last)",
      "\u001b[1;32m<ipython-input-131-2ac5b2f8b45c>\u001b[0m in \u001b[0;36m<module>\u001b[1;34m\u001b[0m\n\u001b[1;32m----> 1\u001b[1;33m \u001b[0mview_numeric\u001b[0m\u001b[1;33m(\u001b[0m\u001b[0mconoceme\u001b[0m\u001b[1;33m,\u001b[0m \u001b[1;34m'COVID_SUMA_REACTIVA_SF_NO_IBK'\u001b[0m\u001b[1;33m,\u001b[0m \u001b[1;34m'OPERANDO_SUSPENSION'\u001b[0m\u001b[1;33m)\u001b[0m\u001b[1;33m\u001b[0m\u001b[1;33m\u001b[0m\u001b[0m\n\u001b[0m",
      "\u001b[1;32m<ipython-input-50-7c359287b1d9>\u001b[0m in \u001b[0;36mview_numeric\u001b[1;34m(data, col_init, col_out, **kwargs)\u001b[0m\n\u001b[0;32m      4\u001b[0m     \u001b[0mfig\u001b[0m\u001b[1;33m,\u001b[0m \u001b[0maxes\u001b[0m \u001b[1;33m=\u001b[0m \u001b[0mplt\u001b[0m\u001b[1;33m.\u001b[0m\u001b[0msubplots\u001b[0m\u001b[1;33m(\u001b[0m\u001b[0mnrows\u001b[0m\u001b[1;33m=\u001b[0m\u001b[1;36m1\u001b[0m\u001b[1;33m,\u001b[0m \u001b[0mncols\u001b[0m\u001b[1;33m=\u001b[0m\u001b[1;36m1\u001b[0m\u001b[1;33m,\u001b[0m \u001b[0mfigsize\u001b[0m\u001b[1;33m=\u001b[0m\u001b[1;33m(\u001b[0m\u001b[1;36m10\u001b[0m\u001b[1;33m,\u001b[0m \u001b[1;36m5\u001b[0m\u001b[1;33m)\u001b[0m\u001b[1;33m)\u001b[0m\u001b[1;33m\u001b[0m\u001b[1;33m\u001b[0m\u001b[0m\n\u001b[0;32m      5\u001b[0m \u001b[1;33m\u001b[0m\u001b[0m\n\u001b[1;32m----> 6\u001b[1;33m     \u001b[0msns\u001b[0m\u001b[1;33m.\u001b[0m\u001b[0mviolinplot\u001b[0m\u001b[1;33m(\u001b[0m\u001b[0mx\u001b[0m\u001b[1;33m=\u001b[0m\u001b[0mcol_out\u001b[0m\u001b[1;33m,\u001b[0m \u001b[0my\u001b[0m\u001b[1;33m=\u001b[0m\u001b[0mcol_init\u001b[0m\u001b[1;33m,\u001b[0m \u001b[0mdata\u001b[0m\u001b[1;33m=\u001b[0m\u001b[0mdata\u001b[0m\u001b[1;33m,\u001b[0m \u001b[0max\u001b[0m\u001b[1;33m=\u001b[0m\u001b[0maxes\u001b[0m\u001b[1;33m)\u001b[0m\u001b[1;33m\u001b[0m\u001b[1;33m\u001b[0m\u001b[0m\n\u001b[0m",
      "\u001b[1;32m~\\Anaconda3\\lib\\site-packages\\seaborn\\categorical.py\u001b[0m in \u001b[0;36mviolinplot\u001b[1;34m(x, y, hue, data, order, hue_order, bw, cut, scale, scale_hue, gridsize, width, inner, split, dodge, orient, linewidth, color, palette, saturation, ax, **kwargs)\u001b[0m\n\u001b[0;32m   2391\u001b[0m                              \u001b[0mbw\u001b[0m\u001b[1;33m,\u001b[0m \u001b[0mcut\u001b[0m\u001b[1;33m,\u001b[0m \u001b[0mscale\u001b[0m\u001b[1;33m,\u001b[0m \u001b[0mscale_hue\u001b[0m\u001b[1;33m,\u001b[0m \u001b[0mgridsize\u001b[0m\u001b[1;33m,\u001b[0m\u001b[1;33m\u001b[0m\u001b[1;33m\u001b[0m\u001b[0m\n\u001b[0;32m   2392\u001b[0m                              \u001b[0mwidth\u001b[0m\u001b[1;33m,\u001b[0m \u001b[0minner\u001b[0m\u001b[1;33m,\u001b[0m \u001b[0msplit\u001b[0m\u001b[1;33m,\u001b[0m \u001b[0mdodge\u001b[0m\u001b[1;33m,\u001b[0m \u001b[0morient\u001b[0m\u001b[1;33m,\u001b[0m \u001b[0mlinewidth\u001b[0m\u001b[1;33m,\u001b[0m\u001b[1;33m\u001b[0m\u001b[1;33m\u001b[0m\u001b[0m\n\u001b[1;32m-> 2393\u001b[1;33m                              color, palette, saturation)\n\u001b[0m\u001b[0;32m   2394\u001b[0m \u001b[1;33m\u001b[0m\u001b[0m\n\u001b[0;32m   2395\u001b[0m     \u001b[1;32mif\u001b[0m \u001b[0max\u001b[0m \u001b[1;32mis\u001b[0m \u001b[1;32mNone\u001b[0m\u001b[1;33m:\u001b[0m\u001b[1;33m\u001b[0m\u001b[1;33m\u001b[0m\u001b[0m\n",
      "\u001b[1;32m~\\Anaconda3\\lib\\site-packages\\seaborn\\categorical.py\u001b[0m in \u001b[0;36m__init__\u001b[1;34m(self, x, y, hue, data, order, hue_order, bw, cut, scale, scale_hue, gridsize, width, inner, split, dodge, orient, linewidth, color, palette, saturation)\u001b[0m\n\u001b[0;32m    557\u001b[0m                  color, palette, saturation):\n\u001b[0;32m    558\u001b[0m \u001b[1;33m\u001b[0m\u001b[0m\n\u001b[1;32m--> 559\u001b[1;33m         \u001b[0mself\u001b[0m\u001b[1;33m.\u001b[0m\u001b[0mestablish_variables\u001b[0m\u001b[1;33m(\u001b[0m\u001b[0mx\u001b[0m\u001b[1;33m,\u001b[0m \u001b[0my\u001b[0m\u001b[1;33m,\u001b[0m \u001b[0mhue\u001b[0m\u001b[1;33m,\u001b[0m \u001b[0mdata\u001b[0m\u001b[1;33m,\u001b[0m \u001b[0morient\u001b[0m\u001b[1;33m,\u001b[0m \u001b[0morder\u001b[0m\u001b[1;33m,\u001b[0m \u001b[0mhue_order\u001b[0m\u001b[1;33m)\u001b[0m\u001b[1;33m\u001b[0m\u001b[1;33m\u001b[0m\u001b[0m\n\u001b[0m\u001b[0;32m    560\u001b[0m         \u001b[0mself\u001b[0m\u001b[1;33m.\u001b[0m\u001b[0mestablish_colors\u001b[0m\u001b[1;33m(\u001b[0m\u001b[0mcolor\u001b[0m\u001b[1;33m,\u001b[0m \u001b[0mpalette\u001b[0m\u001b[1;33m,\u001b[0m \u001b[0msaturation\u001b[0m\u001b[1;33m)\u001b[0m\u001b[1;33m\u001b[0m\u001b[1;33m\u001b[0m\u001b[0m\n\u001b[0;32m    561\u001b[0m         \u001b[0mself\u001b[0m\u001b[1;33m.\u001b[0m\u001b[0mestimate_densities\u001b[0m\u001b[1;33m(\u001b[0m\u001b[0mbw\u001b[0m\u001b[1;33m,\u001b[0m \u001b[0mcut\u001b[0m\u001b[1;33m,\u001b[0m \u001b[0mscale\u001b[0m\u001b[1;33m,\u001b[0m \u001b[0mscale_hue\u001b[0m\u001b[1;33m,\u001b[0m \u001b[0mgridsize\u001b[0m\u001b[1;33m)\u001b[0m\u001b[1;33m\u001b[0m\u001b[1;33m\u001b[0m\u001b[0m\n",
      "\u001b[1;32m~\\Anaconda3\\lib\\site-packages\\seaborn\\categorical.py\u001b[0m in \u001b[0;36mestablish_variables\u001b[1;34m(self, x, y, hue, data, orient, order, hue_order, units)\u001b[0m\n\u001b[0;32m    150\u001b[0m                 \u001b[1;32mif\u001b[0m \u001b[0misinstance\u001b[0m\u001b[1;33m(\u001b[0m\u001b[0mvar\u001b[0m\u001b[1;33m,\u001b[0m \u001b[0mstr\u001b[0m\u001b[1;33m)\u001b[0m\u001b[1;33m:\u001b[0m\u001b[1;33m\u001b[0m\u001b[1;33m\u001b[0m\u001b[0m\n\u001b[0;32m    151\u001b[0m                     \u001b[0merr\u001b[0m \u001b[1;33m=\u001b[0m \u001b[1;34m\"Could not interpret input '{}'\"\u001b[0m\u001b[1;33m.\u001b[0m\u001b[0mformat\u001b[0m\u001b[1;33m(\u001b[0m\u001b[0mvar\u001b[0m\u001b[1;33m)\u001b[0m\u001b[1;33m\u001b[0m\u001b[1;33m\u001b[0m\u001b[0m\n\u001b[1;32m--> 152\u001b[1;33m                     \u001b[1;32mraise\u001b[0m \u001b[0mValueError\u001b[0m\u001b[1;33m(\u001b[0m\u001b[0merr\u001b[0m\u001b[1;33m)\u001b[0m\u001b[1;33m\u001b[0m\u001b[1;33m\u001b[0m\u001b[0m\n\u001b[0m\u001b[0;32m    153\u001b[0m \u001b[1;33m\u001b[0m\u001b[0m\n\u001b[0;32m    154\u001b[0m             \u001b[1;31m# Figure out the plotting orientation\u001b[0m\u001b[1;33m\u001b[0m\u001b[1;33m\u001b[0m\u001b[1;33m\u001b[0m\u001b[0m\n",
      "\u001b[1;31mValueError\u001b[0m: Could not interpret input 'OPERANDO_SUSPENSION'"
     ]
    },
    {
     "data": {
      "image/png": "[encoded data removed]",
      "text/plain": [
       "<Figure size 720x360 with 1 Axes>"
      ]
     },
     "metadata": {},
     "output_type": "display_data"
    }
   ],
   "source": [
    "view_numeric(conoceme, 'COVID_SUMA_REACTIVA_SF_NO_IBK', 'OPERANDO_SUSPENSION')"
   ]
  },
  {
   "cell_type": "code",
   "execution_count": null,
   "metadata": {},
   "outputs": [],
   "source": []
  },
  {
   "cell_type": "code",
   "execution_count": 132,
   "metadata": {},
   "outputs": [
    {
     "ename": "KeyError",
     "evalue": "'COVID_ACOGIO_SUSPENSION_PERFECTA'",
     "output_type": "error",
     "traceback": [
      "\u001b[1;31m---------------------------------------------------------------------------\u001b[0m",
      "\u001b[1;31mKeyError\u001b[0m                                  Traceback (most recent call last)",
      "\u001b[1;32m~\\Anaconda3\\lib\\site-packages\\pandas\\core\\indexes\\base.py\u001b[0m in \u001b[0;36mget_loc\u001b[1;34m(self, key, method, tolerance)\u001b[0m\n\u001b[0;32m   2645\u001b[0m             \u001b[1;32mtry\u001b[0m\u001b[1;33m:\u001b[0m\u001b[1;33m\u001b[0m\u001b[1;33m\u001b[0m\u001b[0m\n\u001b[1;32m-> 2646\u001b[1;33m                 \u001b[1;32mreturn\u001b[0m \u001b[0mself\u001b[0m\u001b[1;33m.\u001b[0m\u001b[0m_engine\u001b[0m\u001b[1;33m.\u001b[0m\u001b[0mget_loc\u001b[0m\u001b[1;33m(\u001b[0m\u001b[0mkey\u001b[0m\u001b[1;33m)\u001b[0m\u001b[1;33m\u001b[0m\u001b[1;33m\u001b[0m\u001b[0m\n\u001b[0m\u001b[0;32m   2647\u001b[0m             \u001b[1;32mexcept\u001b[0m \u001b[0mKeyError\u001b[0m\u001b[1;33m:\u001b[0m\u001b[1;33m\u001b[0m\u001b[1;33m\u001b[0m\u001b[0m\n",
      "\u001b[1;32mpandas\\_libs\\index.pyx\u001b[0m in \u001b[0;36mpandas._libs.index.IndexEngine.get_loc\u001b[1;34m()\u001b[0m\n",
      "\u001b[1;32mpandas\\_libs\\index.pyx\u001b[0m in \u001b[0;36mpandas._libs.index.IndexEngine.get_loc\u001b[1;34m()\u001b[0m\n",
      "\u001b[1;32mpandas\\_libs\\hashtable_class_helper.pxi\u001b[0m in \u001b[0;36mpandas._libs.hashtable.PyObjectHashTable.get_item\u001b[1;34m()\u001b[0m\n",
      "\u001b[1;32mpandas\\_libs\\hashtable_class_helper.pxi\u001b[0m in \u001b[0;36mpandas._libs.hashtable.PyObjectHashTable.get_item\u001b[1;34m()\u001b[0m\n",
      "\u001b[1;31mKeyError\u001b[0m: 'COVID_ACOGIO_SUSPENSION_PERFECTA'",
      "\nDuring handling of the above exception, another exception occurred:\n",
      "\u001b[1;31mKeyError\u001b[0m                                  Traceback (most recent call last)",
      "\u001b[1;32m<ipython-input-132-44bfc88fd696>\u001b[0m in \u001b[0;36m<module>\u001b[1;34m\u001b[0m\n\u001b[1;32m----> 1\u001b[1;33m \u001b[0mview_cat\u001b[0m\u001b[1;33m(\u001b[0m\u001b[0mconoceme\u001b[0m\u001b[1;33m,\u001b[0m \u001b[1;34m'COVID_P_1_TE_AFECTO_COVID'\u001b[0m\u001b[1;33m,\u001b[0m \u001b[1;34m'COVID_ACOGIO_SUSPENSION_PERFECTA'\u001b[0m\u001b[1;33m,\u001b[0m \u001b[0mpercent\u001b[0m\u001b[1;33m=\u001b[0m\u001b[1;32mFalse\u001b[0m\u001b[1;33m)\u001b[0m\u001b[1;33m\u001b[0m\u001b[1;33m\u001b[0m\u001b[0m\n\u001b[0m",
      "\u001b[1;32m~\\Desktop\\ALERTA CARTERA\\utils_ficha.py\u001b[0m in \u001b[0;36mview_cat\u001b[1;34m(data, col_init, col_out, percent, **kwargs)\u001b[0m\n\u001b[0;32m     54\u001b[0m     \u001b[0mfig\u001b[0m\u001b[1;33m,\u001b[0m \u001b[0maxes\u001b[0m \u001b[1;33m=\u001b[0m \u001b[0mplt\u001b[0m\u001b[1;33m.\u001b[0m\u001b[0msubplots\u001b[0m\u001b[1;33m(\u001b[0m\u001b[0mnrows\u001b[0m\u001b[1;33m=\u001b[0m\u001b[1;36m1\u001b[0m\u001b[1;33m,\u001b[0m \u001b[0mncols\u001b[0m\u001b[1;33m=\u001b[0m\u001b[1;36m1\u001b[0m\u001b[1;33m,\u001b[0m \u001b[0mfigsize\u001b[0m\u001b[1;33m=\u001b[0m\u001b[1;33m(\u001b[0m\u001b[1;36m10\u001b[0m\u001b[1;33m,\u001b[0m \u001b[1;36m7\u001b[0m\u001b[1;33m)\u001b[0m\u001b[1;33m)\u001b[0m\u001b[1;33m\u001b[0m\u001b[1;33m\u001b[0m\u001b[0m\n\u001b[0;32m     55\u001b[0m \u001b[1;33m\u001b[0m\u001b[0m\n\u001b[1;32m---> 56\u001b[1;33m     \u001b[0mcross\u001b[0m \u001b[1;33m=\u001b[0m \u001b[0mpd\u001b[0m\u001b[1;33m.\u001b[0m\u001b[0mcrosstab\u001b[0m\u001b[1;33m(\u001b[0m\u001b[0mdata\u001b[0m\u001b[1;33m[\u001b[0m\u001b[0mcol_out\u001b[0m\u001b[1;33m]\u001b[0m\u001b[1;33m,\u001b[0m \u001b[0mdata\u001b[0m\u001b[1;33m[\u001b[0m\u001b[0mcol_init\u001b[0m\u001b[1;33m]\u001b[0m\u001b[1;33m)\u001b[0m\u001b[1;33m\u001b[0m\u001b[1;33m\u001b[0m\u001b[0m\n\u001b[0m\u001b[0;32m     57\u001b[0m     \u001b[1;32mif\u001b[0m \u001b[0mpercent\u001b[0m\u001b[1;33m:\u001b[0m\u001b[1;33m\u001b[0m\u001b[1;33m\u001b[0m\u001b[0m\n\u001b[0;32m     58\u001b[0m         \u001b[0msum_total\u001b[0m \u001b[1;33m=\u001b[0m \u001b[0msum\u001b[0m\u001b[1;33m(\u001b[0m\u001b[1;33m[\u001b[0m\u001b[0mcross\u001b[0m\u001b[1;33m[\u001b[0m\u001b[0mcol\u001b[0m\u001b[1;33m]\u001b[0m\u001b[1;33m.\u001b[0m\u001b[0msum\u001b[0m\u001b[1;33m(\u001b[0m\u001b[1;33m)\u001b[0m \u001b[1;32mfor\u001b[0m \u001b[0mcol\u001b[0m \u001b[1;32min\u001b[0m \u001b[0mcross\u001b[0m\u001b[1;33m.\u001b[0m\u001b[0mcolumns\u001b[0m\u001b[1;33m]\u001b[0m\u001b[1;33m)\u001b[0m\u001b[1;33m\u001b[0m\u001b[1;33m\u001b[0m\u001b[0m\n",
      "\u001b[1;32m~\\Anaconda3\\lib\\site-packages\\pandas\\core\\frame.py\u001b[0m in \u001b[0;36m__getitem__\u001b[1;34m(self, key)\u001b[0m\n\u001b[0;32m   2798\u001b[0m             \u001b[1;32mif\u001b[0m \u001b[0mself\u001b[0m\u001b[1;33m.\u001b[0m\u001b[0mcolumns\u001b[0m\u001b[1;33m.\u001b[0m\u001b[0mnlevels\u001b[0m \u001b[1;33m>\u001b[0m \u001b[1;36m1\u001b[0m\u001b[1;33m:\u001b[0m\u001b[1;33m\u001b[0m\u001b[1;33m\u001b[0m\u001b[0m\n\u001b[0;32m   2799\u001b[0m                 \u001b[1;32mreturn\u001b[0m \u001b[0mself\u001b[0m\u001b[1;33m.\u001b[0m\u001b[0m_getitem_multilevel\u001b[0m\u001b[1;33m(\u001b[0m\u001b[0mkey\u001b[0m\u001b[1;33m)\u001b[0m\u001b[1;33m\u001b[0m\u001b[1;33m\u001b[0m\u001b[0m\n\u001b[1;32m-> 2800\u001b[1;33m             \u001b[0mindexer\u001b[0m \u001b[1;33m=\u001b[0m \u001b[0mself\u001b[0m\u001b[1;33m.\u001b[0m\u001b[0mcolumns\u001b[0m\u001b[1;33m.\u001b[0m\u001b[0mget_loc\u001b[0m\u001b[1;33m(\u001b[0m\u001b[0mkey\u001b[0m\u001b[1;33m)\u001b[0m\u001b[1;33m\u001b[0m\u001b[1;33m\u001b[0m\u001b[0m\n\u001b[0m\u001b[0;32m   2801\u001b[0m             \u001b[1;32mif\u001b[0m \u001b[0mis_integer\u001b[0m\u001b[1;33m(\u001b[0m\u001b[0mindexer\u001b[0m\u001b[1;33m)\u001b[0m\u001b[1;33m:\u001b[0m\u001b[1;33m\u001b[0m\u001b[1;33m\u001b[0m\u001b[0m\n\u001b[0;32m   2802\u001b[0m                 \u001b[0mindexer\u001b[0m \u001b[1;33m=\u001b[0m \u001b[1;33m[\u001b[0m\u001b[0mindexer\u001b[0m\u001b[1;33m]\u001b[0m\u001b[1;33m\u001b[0m\u001b[1;33m\u001b[0m\u001b[0m\n",
      "\u001b[1;32m~\\Anaconda3\\lib\\site-packages\\pandas\\core\\indexes\\base.py\u001b[0m in \u001b[0;36mget_loc\u001b[1;34m(self, key, method, tolerance)\u001b[0m\n\u001b[0;32m   2646\u001b[0m                 \u001b[1;32mreturn\u001b[0m \u001b[0mself\u001b[0m\u001b[1;33m.\u001b[0m\u001b[0m_engine\u001b[0m\u001b[1;33m.\u001b[0m\u001b[0mget_loc\u001b[0m\u001b[1;33m(\u001b[0m\u001b[0mkey\u001b[0m\u001b[1;33m)\u001b[0m\u001b[1;33m\u001b[0m\u001b[1;33m\u001b[0m\u001b[0m\n\u001b[0;32m   2647\u001b[0m             \u001b[1;32mexcept\u001b[0m \u001b[0mKeyError\u001b[0m\u001b[1;33m:\u001b[0m\u001b[1;33m\u001b[0m\u001b[1;33m\u001b[0m\u001b[0m\n\u001b[1;32m-> 2648\u001b[1;33m                 \u001b[1;32mreturn\u001b[0m \u001b[0mself\u001b[0m\u001b[1;33m.\u001b[0m\u001b[0m_engine\u001b[0m\u001b[1;33m.\u001b[0m\u001b[0mget_loc\u001b[0m\u001b[1;33m(\u001b[0m\u001b[0mself\u001b[0m\u001b[1;33m.\u001b[0m\u001b[0m_maybe_cast_indexer\u001b[0m\u001b[1;33m(\u001b[0m\u001b[0mkey\u001b[0m\u001b[1;33m)\u001b[0m\u001b[1;33m)\u001b[0m\u001b[1;33m\u001b[0m\u001b[1;33m\u001b[0m\u001b[0m\n\u001b[0m\u001b[0;32m   2649\u001b[0m         \u001b[0mindexer\u001b[0m \u001b[1;33m=\u001b[0m \u001b[0mself\u001b[0m\u001b[1;33m.\u001b[0m\u001b[0mget_indexer\u001b[0m\u001b[1;33m(\u001b[0m\u001b[1;33m[\u001b[0m\u001b[0mkey\u001b[0m\u001b[1;33m]\u001b[0m\u001b[1;33m,\u001b[0m \u001b[0mmethod\u001b[0m\u001b[1;33m=\u001b[0m\u001b[0mmethod\u001b[0m\u001b[1;33m,\u001b[0m \u001b[0mtolerance\u001b[0m\u001b[1;33m=\u001b[0m\u001b[0mtolerance\u001b[0m\u001b[1;33m)\u001b[0m\u001b[1;33m\u001b[0m\u001b[1;33m\u001b[0m\u001b[0m\n\u001b[0;32m   2650\u001b[0m         \u001b[1;32mif\u001b[0m \u001b[0mindexer\u001b[0m\u001b[1;33m.\u001b[0m\u001b[0mndim\u001b[0m \u001b[1;33m>\u001b[0m \u001b[1;36m1\u001b[0m \u001b[1;32mor\u001b[0m \u001b[0mindexer\u001b[0m\u001b[1;33m.\u001b[0m\u001b[0msize\u001b[0m \u001b[1;33m>\u001b[0m \u001b[1;36m1\u001b[0m\u001b[1;33m:\u001b[0m\u001b[1;33m\u001b[0m\u001b[1;33m\u001b[0m\u001b[0m\n",
      "\u001b[1;32mpandas\\_libs\\index.pyx\u001b[0m in \u001b[0;36mpandas._libs.index.IndexEngine.get_loc\u001b[1;34m()\u001b[0m\n",
      "\u001b[1;32mpandas\\_libs\\index.pyx\u001b[0m in \u001b[0;36mpandas._libs.index.IndexEngine.get_loc\u001b[1;34m()\u001b[0m\n",
      "\u001b[1;32mpandas\\_libs\\hashtable_class_helper.pxi\u001b[0m in \u001b[0;36mpandas._libs.hashtable.PyObjectHashTable.get_item\u001b[1;34m()\u001b[0m\n",
      "\u001b[1;32mpandas\\_libs\\hashtable_class_helper.pxi\u001b[0m in \u001b[0;36mpandas._libs.hashtable.PyObjectHashTable.get_item\u001b[1;34m()\u001b[0m\n",
      "\u001b[1;31mKeyError\u001b[0m: 'COVID_ACOGIO_SUSPENSION_PERFECTA'"
     ]
    },
    {
     "data": {
      "image/png": "[encoded data removed]",
      "text/plain": [
       "<Figure size 720x504 with 1 Axes>"
      ]
     },
     "metadata": {},
     "output_type": "display_data"
    }
   ],
   "source": [
    "view_cat(conoceme, 'COVID_P_1_TE_AFECTO_COVID', 'COVID_ACOGIO_SUSPENSION_PERFECTA', percent=False)"
   ]
  },
  {
   "cell_type": "code",
   "execution_count": null,
   "metadata": {},
   "outputs": [],
   "source": []
  },
  {
   "cell_type": "code",
   "execution_count": null,
   "metadata": {},
   "outputs": [],
   "source": []
  },
  {
   "cell_type": "markdown",
   "metadata": {},
   "source": [
    "#### RECAPITULANDO LO QUE SE TIENE HASTA EL MOMENTO"
   ]
  },
  {
   "cell_type": "code",
   "execution_count": 133,
   "metadata": {},
   "outputs": [
    {
     "ename": "KeyError",
     "evalue": "'IBK_R2_MONTO_PRESTAMO_REACTIVA_1'",
     "output_type": "error",
     "traceback": [
      "\u001b[1;31m---------------------------------------------------------------------------\u001b[0m",
      "\u001b[1;31mKeyError\u001b[0m                                  Traceback (most recent call last)",
      "\u001b[1;32m~\\Anaconda3\\lib\\site-packages\\pandas\\core\\indexes\\base.py\u001b[0m in \u001b[0;36mget_loc\u001b[1;34m(self, key, method, tolerance)\u001b[0m\n\u001b[0;32m   2645\u001b[0m             \u001b[1;32mtry\u001b[0m\u001b[1;33m:\u001b[0m\u001b[1;33m\u001b[0m\u001b[1;33m\u001b[0m\u001b[0m\n\u001b[1;32m-> 2646\u001b[1;33m                 \u001b[1;32mreturn\u001b[0m \u001b[0mself\u001b[0m\u001b[1;33m.\u001b[0m\u001b[0m_engine\u001b[0m\u001b[1;33m.\u001b[0m\u001b[0mget_loc\u001b[0m\u001b[1;33m(\u001b[0m\u001b[0mkey\u001b[0m\u001b[1;33m)\u001b[0m\u001b[1;33m\u001b[0m\u001b[1;33m\u001b[0m\u001b[0m\n\u001b[0m\u001b[0;32m   2647\u001b[0m             \u001b[1;32mexcept\u001b[0m \u001b[0mKeyError\u001b[0m\u001b[1;33m:\u001b[0m\u001b[1;33m\u001b[0m\u001b[1;33m\u001b[0m\u001b[0m\n",
      "\u001b[1;32mpandas\\_libs\\index.pyx\u001b[0m in \u001b[0;36mpandas._libs.index.IndexEngine.get_loc\u001b[1;34m()\u001b[0m\n",
      "\u001b[1;32mpandas\\_libs\\index.pyx\u001b[0m in \u001b[0;36mpandas._libs.index.IndexEngine.get_loc\u001b[1;34m()\u001b[0m\n",
      "\u001b[1;32mpandas\\_libs\\hashtable_class_helper.pxi\u001b[0m in \u001b[0;36mpandas._libs.hashtable.PyObjectHashTable.get_item\u001b[1;34m()\u001b[0m\n",
      "\u001b[1;32mpandas\\_libs\\hashtable_class_helper.pxi\u001b[0m in \u001b[0;36mpandas._libs.hashtable.PyObjectHashTable.get_item\u001b[1;34m()\u001b[0m\n",
      "\u001b[1;31mKeyError\u001b[0m: 'IBK_R2_MONTO_PRESTAMO_REACTIVA_1'",
      "\nDuring handling of the above exception, another exception occurred:\n",
      "\u001b[1;31mKeyError\u001b[0m                                  Traceback (most recent call last)",
      "\u001b[1;32m<ipython-input-133-8efc7b3bb14d>\u001b[0m in \u001b[0;36m<module>\u001b[1;34m\u001b[0m\n\u001b[1;32m----> 1\u001b[1;33m \u001b[0mconoceme\u001b[0m\u001b[1;33m[\u001b[0m\u001b[1;34m'IBK_R2_MONTO_PRESTAMO_REACTIVA_1'\u001b[0m\u001b[1;33m]\u001b[0m \u001b[1;33m=\u001b[0m \u001b[0mconoceme\u001b[0m\u001b[1;33m[\u001b[0m\u001b[1;34m'IBK_R2_MONTO_PRESTAMO_REACTIVA_1'\u001b[0m\u001b[1;33m]\u001b[0m\u001b[1;33m.\u001b[0m\u001b[0mfillna\u001b[0m\u001b[1;33m(\u001b[0m\u001b[1;36m0\u001b[0m\u001b[1;33m)\u001b[0m\u001b[1;33m\u001b[0m\u001b[1;33m\u001b[0m\u001b[0m\n\u001b[0m\u001b[0;32m      2\u001b[0m \u001b[0mconoceme\u001b[0m\u001b[1;33m[\u001b[0m\u001b[1;34m'IBK_R2_MONTO_PRESTAMO_REACTIVA_2'\u001b[0m\u001b[1;33m]\u001b[0m \u001b[1;33m=\u001b[0m \u001b[0mconoceme\u001b[0m\u001b[1;33m[\u001b[0m\u001b[1;34m'IBK_R2_MONTO_PRESTAMO_REACTIVA_2'\u001b[0m\u001b[1;33m]\u001b[0m\u001b[1;33m.\u001b[0m\u001b[0mfillna\u001b[0m\u001b[1;33m(\u001b[0m\u001b[1;36m0\u001b[0m\u001b[1;33m)\u001b[0m\u001b[1;33m\u001b[0m\u001b[1;33m\u001b[0m\u001b[0m\n\u001b[0;32m      3\u001b[0m \u001b[0mconoceme\u001b[0m\u001b[1;33m[\u001b[0m\u001b[1;34m'COVID_SUMA_REACTIVA_SF_NO_IBK'\u001b[0m\u001b[1;33m]\u001b[0m \u001b[1;33m=\u001b[0m \u001b[0mconoceme\u001b[0m\u001b[1;33m[\u001b[0m\u001b[1;34m'COVID_SUMA_REACTIVA_SF_NO_IBK'\u001b[0m\u001b[1;33m]\u001b[0m\u001b[1;33m.\u001b[0m\u001b[0mfillna\u001b[0m\u001b[1;33m(\u001b[0m\u001b[1;36m0\u001b[0m\u001b[1;33m)\u001b[0m\u001b[1;33m\u001b[0m\u001b[1;33m\u001b[0m\u001b[0m\n\u001b[0;32m      4\u001b[0m \u001b[0mconoceme\u001b[0m\u001b[1;33m[\u001b[0m\u001b[1;34m'COVID_SUMA_REACTIVA_SF_NO_IBK'\u001b[0m\u001b[1;33m]\u001b[0m \u001b[1;33m=\u001b[0m \u001b[0mconoceme\u001b[0m\u001b[1;33m[\u001b[0m\u001b[1;34m'COVID_SUMA_REACTIVA_SF_NO_IBK'\u001b[0m\u001b[1;33m]\u001b[0m\u001b[1;33m.\u001b[0m\u001b[0mapply\u001b[0m\u001b[1;33m(\u001b[0m\u001b[1;32mlambda\u001b[0m \u001b[0m_\u001b[0m\u001b[1;33m:\u001b[0m \u001b[0m_\u001b[0m\u001b[1;33m*\u001b[0m\u001b[1;36m3.5\u001b[0m\u001b[1;33m)\u001b[0m\u001b[1;33m\u001b[0m\u001b[1;33m\u001b[0m\u001b[0m\n",
      "\u001b[1;32m~\\Anaconda3\\lib\\site-packages\\pandas\\core\\frame.py\u001b[0m in \u001b[0;36m__getitem__\u001b[1;34m(self, key)\u001b[0m\n\u001b[0;32m   2798\u001b[0m             \u001b[1;32mif\u001b[0m \u001b[0mself\u001b[0m\u001b[1;33m.\u001b[0m\u001b[0mcolumns\u001b[0m\u001b[1;33m.\u001b[0m\u001b[0mnlevels\u001b[0m \u001b[1;33m>\u001b[0m \u001b[1;36m1\u001b[0m\u001b[1;33m:\u001b[0m\u001b[1;33m\u001b[0m\u001b[1;33m\u001b[0m\u001b[0m\n\u001b[0;32m   2799\u001b[0m                 \u001b[1;32mreturn\u001b[0m \u001b[0mself\u001b[0m\u001b[1;33m.\u001b[0m\u001b[0m_getitem_multilevel\u001b[0m\u001b[1;33m(\u001b[0m\u001b[0mkey\u001b[0m\u001b[1;33m)\u001b[0m\u001b[1;33m\u001b[0m\u001b[1;33m\u001b[0m\u001b[0m\n\u001b[1;32m-> 2800\u001b[1;33m             \u001b[0mindexer\u001b[0m \u001b[1;33m=\u001b[0m \u001b[0mself\u001b[0m\u001b[1;33m.\u001b[0m\u001b[0mcolumns\u001b[0m\u001b[1;33m.\u001b[0m\u001b[0mget_loc\u001b[0m\u001b[1;33m(\u001b[0m\u001b[0mkey\u001b[0m\u001b[1;33m)\u001b[0m\u001b[1;33m\u001b[0m\u001b[1;33m\u001b[0m\u001b[0m\n\u001b[0m\u001b[0;32m   2801\u001b[0m             \u001b[1;32mif\u001b[0m \u001b[0mis_integer\u001b[0m\u001b[1;33m(\u001b[0m\u001b[0mindexer\u001b[0m\u001b[1;33m)\u001b[0m\u001b[1;33m:\u001b[0m\u001b[1;33m\u001b[0m\u001b[1;33m\u001b[0m\u001b[0m\n\u001b[0;32m   2802\u001b[0m                 \u001b[0mindexer\u001b[0m \u001b[1;33m=\u001b[0m \u001b[1;33m[\u001b[0m\u001b[0mindexer\u001b[0m\u001b[1;33m]\u001b[0m\u001b[1;33m\u001b[0m\u001b[1;33m\u001b[0m\u001b[0m\n",
      "\u001b[1;32m~\\Anaconda3\\lib\\site-packages\\pandas\\core\\indexes\\base.py\u001b[0m in \u001b[0;36mget_loc\u001b[1;34m(self, key, method, tolerance)\u001b[0m\n\u001b[0;32m   2646\u001b[0m                 \u001b[1;32mreturn\u001b[0m \u001b[0mself\u001b[0m\u001b[1;33m.\u001b[0m\u001b[0m_engine\u001b[0m\u001b[1;33m.\u001b[0m\u001b[0mget_loc\u001b[0m\u001b[1;33m(\u001b[0m\u001b[0mkey\u001b[0m\u001b[1;33m)\u001b[0m\u001b[1;33m\u001b[0m\u001b[1;33m\u001b[0m\u001b[0m\n\u001b[0;32m   2647\u001b[0m             \u001b[1;32mexcept\u001b[0m \u001b[0mKeyError\u001b[0m\u001b[1;33m:\u001b[0m\u001b[1;33m\u001b[0m\u001b[1;33m\u001b[0m\u001b[0m\n\u001b[1;32m-> 2648\u001b[1;33m                 \u001b[1;32mreturn\u001b[0m \u001b[0mself\u001b[0m\u001b[1;33m.\u001b[0m\u001b[0m_engine\u001b[0m\u001b[1;33m.\u001b[0m\u001b[0mget_loc\u001b[0m\u001b[1;33m(\u001b[0m\u001b[0mself\u001b[0m\u001b[1;33m.\u001b[0m\u001b[0m_maybe_cast_indexer\u001b[0m\u001b[1;33m(\u001b[0m\u001b[0mkey\u001b[0m\u001b[1;33m)\u001b[0m\u001b[1;33m)\u001b[0m\u001b[1;33m\u001b[0m\u001b[1;33m\u001b[0m\u001b[0m\n\u001b[0m\u001b[0;32m   2649\u001b[0m         \u001b[0mindexer\u001b[0m \u001b[1;33m=\u001b[0m \u001b[0mself\u001b[0m\u001b[1;33m.\u001b[0m\u001b[0mget_indexer\u001b[0m\u001b[1;33m(\u001b[0m\u001b[1;33m[\u001b[0m\u001b[0mkey\u001b[0m\u001b[1;33m]\u001b[0m\u001b[1;33m,\u001b[0m \u001b[0mmethod\u001b[0m\u001b[1;33m=\u001b[0m\u001b[0mmethod\u001b[0m\u001b[1;33m,\u001b[0m \u001b[0mtolerance\u001b[0m\u001b[1;33m=\u001b[0m\u001b[0mtolerance\u001b[0m\u001b[1;33m)\u001b[0m\u001b[1;33m\u001b[0m\u001b[1;33m\u001b[0m\u001b[0m\n\u001b[0;32m   2650\u001b[0m         \u001b[1;32mif\u001b[0m \u001b[0mindexer\u001b[0m\u001b[1;33m.\u001b[0m\u001b[0mndim\u001b[0m \u001b[1;33m>\u001b[0m \u001b[1;36m1\u001b[0m \u001b[1;32mor\u001b[0m \u001b[0mindexer\u001b[0m\u001b[1;33m.\u001b[0m\u001b[0msize\u001b[0m \u001b[1;33m>\u001b[0m \u001b[1;36m1\u001b[0m\u001b[1;33m:\u001b[0m\u001b[1;33m\u001b[0m\u001b[1;33m\u001b[0m\u001b[0m\n",
      "\u001b[1;32mpandas\\_libs\\index.pyx\u001b[0m in \u001b[0;36mpandas._libs.index.IndexEngine.get_loc\u001b[1;34m()\u001b[0m\n",
      "\u001b[1;32mpandas\\_libs\\index.pyx\u001b[0m in \u001b[0;36mpandas._libs.index.IndexEngine.get_loc\u001b[1;34m()\u001b[0m\n",
      "\u001b[1;32mpandas\\_libs\\hashtable_class_helper.pxi\u001b[0m in \u001b[0;36mpandas._libs.hashtable.PyObjectHashTable.get_item\u001b[1;34m()\u001b[0m\n",
      "\u001b[1;32mpandas\\_libs\\hashtable_class_helper.pxi\u001b[0m in \u001b[0;36mpandas._libs.hashtable.PyObjectHashTable.get_item\u001b[1;34m()\u001b[0m\n",
      "\u001b[1;31mKeyError\u001b[0m: 'IBK_R2_MONTO_PRESTAMO_REACTIVA_1'"
     ]
    }
   ],
   "source": [
    "conoceme['IBK_R2_MONTO_PRESTAMO_REACTIVA_1'] = conoceme['IBK_R2_MONTO_PRESTAMO_REACTIVA_1'].fillna(0)\n",
    "conoceme['IBK_R2_MONTO_PRESTAMO_REACTIVA_2'] = conoceme['IBK_R2_MONTO_PRESTAMO_REACTIVA_2'].fillna(0)\n",
    "conoceme['COVID_SUMA_REACTIVA_SF_NO_IBK'] = conoceme['COVID_SUMA_REACTIVA_SF_NO_IBK'].fillna(0)\n",
    "conoceme['COVID_SUMA_REACTIVA_SF_NO_IBK'] = conoceme['COVID_SUMA_REACTIVA_SF_NO_IBK'].apply(lambda _: _*3.5)"
   ]
  },
  {
   "cell_type": "code",
   "execution_count": null,
   "metadata": {},
   "outputs": [],
   "source": []
  },
  {
   "cell_type": "code",
   "execution_count": 134,
   "metadata": {},
   "outputs": [
    {
     "data": {
      "text/html": [
       "<div>\n",
       "<style scoped>\n",
       "    .dataframe tbody tr th:only-of-type {\n",
       "        vertical-align: middle;\n",
       "    }\n",
       "\n",
       "    .dataframe tbody tr th {\n",
       "        vertical-align: top;\n",
       "    }\n",
       "\n",
       "    .dataframe thead th {\n",
       "        text-align: right;\n",
       "    }\n",
       "</style>\n",
       "<table border=\"1\" class=\"dataframe\">\n",
       "  <thead>\n",
       "    <tr style=\"text-align: right;\">\n",
       "      <th></th>\n",
       "      <th>TIPDOC</th>\n",
       "      <th>CODDOC</th>\n",
       "      <th>FECHA_ACTUALIZACION_MARKET</th>\n",
       "      <th>CODUNICOCLI</th>\n",
       "      <th>NOMBRE_COMPLETO</th>\n",
       "      <th>DES_GRUPO_ECONOMICO</th>\n",
       "      <th>RIESGO</th>\n",
       "      <th>ENCARGADO</th>\n",
       "      <th>NOMBRE_JEFE</th>\n",
       "      <th>ESTADO</th>\n",
       "      <th>...</th>\n",
       "      <th>COVID_P_1_TE_AFECTO_COVID</th>\n",
       "      <th>COVID_ESTRATEGIA</th>\n",
       "      <th>COVID_FEVE</th>\n",
       "      <th>PREOCUPA_</th>\n",
       "      <th>COVID_P_2_1_ESTA_OPERANDO</th>\n",
       "      <th>COVID_P_2_1_ESTA_OPERANDO_int</th>\n",
       "      <th>COVID_PORCENTAJE_REDUCCION_PERSONAL</th>\n",
       "      <th>COVID_PORCENTAJE_REDUCCION_INGREO_MENUSAL</th>\n",
       "      <th>COVID_REACTIVA_SF_NO_IBK</th>\n",
       "      <th>COVID_SUMA_REACTIVA_SF_NO_IBK</th>\n",
       "    </tr>\n",
       "  </thead>\n",
       "  <tbody>\n",
       "    <tr>\n",
       "      <th>2</th>\n",
       "      <td>2</td>\n",
       "      <td>20493091396</td>\n",
       "      <td>2020-10-27 13:00:56.210</td>\n",
       "      <td>0013957817</td>\n",
       "      <td>GASOCENTRO PUENTE NUEVO</td>\n",
       "      <td>IBAÑEZ MANCHEGO</td>\n",
       "      <td>81743.356286</td>\n",
       "      <td>RAQUEL IRENE  CORDOVA ZAMORA</td>\n",
       "      <td>JAVIER GONZALES VELARDE</td>\n",
       "      <td>VALIDADO</td>\n",
       "      <td>...</td>\n",
       "      <td>SI</td>\n",
       "      <td>MANTENER</td>\n",
       "      <td>SEGUIR COVID</td>\n",
       "      <td>SI</td>\n",
       "      <td>SI</td>\n",
       "      <td>1</td>\n",
       "      <td>0.0</td>\n",
       "      <td>50.0</td>\n",
       "      <td>SI</td>\n",
       "      <td>750.0</td>\n",
       "    </tr>\n",
       "    <tr>\n",
       "      <th>4</th>\n",
       "      <td>2</td>\n",
       "      <td>20514364665</td>\n",
       "      <td>2020-10-27 13:00:56.210</td>\n",
       "      <td>0011865755</td>\n",
       "      <td>DISTRIMAX</td>\n",
       "      <td>CANTOL</td>\n",
       "      <td>206593.802857</td>\n",
       "      <td>ELIZABETH LISSET FOX MEDINA</td>\n",
       "      <td>MIRANDA ZAMBRANO JORGE ALFREDO</td>\n",
       "      <td>VALIDADO</td>\n",
       "      <td>...</td>\n",
       "      <td>NO</td>\n",
       "      <td>MANTENER</td>\n",
       "      <td>SIN FEVE</td>\n",
       "      <td>NO</td>\n",
       "      <td>SI</td>\n",
       "      <td>1</td>\n",
       "      <td>0.0</td>\n",
       "      <td>25.0</td>\n",
       "      <td>SI</td>\n",
       "      <td>1080.0</td>\n",
       "    </tr>\n",
       "    <tr>\n",
       "      <th>7</th>\n",
       "      <td>2</td>\n",
       "      <td>20506626910</td>\n",
       "      <td>2020-10-27 13:00:56.210</td>\n",
       "      <td>0011038047</td>\n",
       "      <td>PICORP</td>\n",
       "      <td>PICORP</td>\n",
       "      <td>36916.631429</td>\n",
       "      <td>MARQUINA MOTTA MAURICIO</td>\n",
       "      <td>JAVIER GONZALES VELARDE</td>\n",
       "      <td>VALIDADO</td>\n",
       "      <td>...</td>\n",
       "      <td>SI</td>\n",
       "      <td>MANTENER</td>\n",
       "      <td>SIN FEVE</td>\n",
       "      <td>NO</td>\n",
       "      <td>SI</td>\n",
       "      <td>1</td>\n",
       "      <td>40.0</td>\n",
       "      <td>67.0</td>\n",
       "      <td>SI</td>\n",
       "      <td>600.0</td>\n",
       "    </tr>\n",
       "    <tr>\n",
       "      <th>9</th>\n",
       "      <td>2</td>\n",
       "      <td>20509946605</td>\n",
       "      <td>2020-10-27 13:00:56.210</td>\n",
       "      <td>0012645311</td>\n",
       "      <td>NEGOCIACIONES PERUANITA</td>\n",
       "      <td>NEGOGROUP</td>\n",
       "      <td>354648.420000</td>\n",
       "      <td>JOSE CARLOS ROMERO</td>\n",
       "      <td>JAVIER GONZALES VELARDE</td>\n",
       "      <td>VALIDADO</td>\n",
       "      <td>...</td>\n",
       "      <td>NO</td>\n",
       "      <td>CRECER</td>\n",
       "      <td>SIN FEVE</td>\n",
       "      <td>NO</td>\n",
       "      <td>SI</td>\n",
       "      <td>1</td>\n",
       "      <td>0.0</td>\n",
       "      <td>0.0</td>\n",
       "      <td>SI</td>\n",
       "      <td>3140.0</td>\n",
       "    </tr>\n",
       "    <tr>\n",
       "      <th>12</th>\n",
       "      <td>2</td>\n",
       "      <td>20471203816</td>\n",
       "      <td>2020-10-27 13:00:56.210</td>\n",
       "      <td>0011038268</td>\n",
       "      <td>JEVARO</td>\n",
       "      <td>JEVARO</td>\n",
       "      <td>65098.136029</td>\n",
       "      <td>BACIGALUPO FALLAQUE ANA LUCIA</td>\n",
       "      <td>JAVIER GONZALES VELARDE</td>\n",
       "      <td>VALIDADO</td>\n",
       "      <td>...</td>\n",
       "      <td>SI</td>\n",
       "      <td>CRECER</td>\n",
       "      <td>SIN FEVE</td>\n",
       "      <td>NO</td>\n",
       "      <td>SI</td>\n",
       "      <td>1</td>\n",
       "      <td>50.0</td>\n",
       "      <td>30.0</td>\n",
       "      <td>SI</td>\n",
       "      <td>900.0</td>\n",
       "    </tr>\n",
       "  </tbody>\n",
       "</table>\n",
       "<p>5 rows × 169 columns</p>\n",
       "</div>"
      ],
      "text/plain": [
       "   TIPDOC       CODDOC FECHA_ACTUALIZACION_MARKET CODUNICOCLI  \\\n",
       "2       2  20493091396    2020-10-27 13:00:56.210  0013957817   \n",
       "4       2  20514364665    2020-10-27 13:00:56.210  0011865755   \n",
       "7       2  20506626910    2020-10-27 13:00:56.210  0011038047   \n",
       "9       2  20509946605    2020-10-27 13:00:56.210  0012645311   \n",
       "12      2  20471203816    2020-10-27 13:00:56.210  0011038268   \n",
       "\n",
       "            NOMBRE_COMPLETO DES_GRUPO_ECONOMICO         RIESGO  \\\n",
       "2   GASOCENTRO PUENTE NUEVO     IBAÑEZ MANCHEGO   81743.356286   \n",
       "4                 DISTRIMAX              CANTOL  206593.802857   \n",
       "7                    PICORP              PICORP   36916.631429   \n",
       "9   NEGOCIACIONES PERUANITA           NEGOGROUP  354648.420000   \n",
       "12                   JEVARO              JEVARO   65098.136029   \n",
       "\n",
       "                         ENCARGADO                     NOMBRE_JEFE    ESTADO  \\\n",
       "2     RAQUEL IRENE  CORDOVA ZAMORA         JAVIER GONZALES VELARDE  VALIDADO   \n",
       "4      ELIZABETH LISSET FOX MEDINA  MIRANDA ZAMBRANO JORGE ALFREDO  VALIDADO   \n",
       "7          MARQUINA MOTTA MAURICIO         JAVIER GONZALES VELARDE  VALIDADO   \n",
       "9               JOSE CARLOS ROMERO         JAVIER GONZALES VELARDE  VALIDADO   \n",
       "12  BACIGALUPO FALLAQUE ANA LUCIA          JAVIER GONZALES VELARDE  VALIDADO   \n",
       "\n",
       "    ...  COVID_P_1_TE_AFECTO_COVID  COVID_ESTRATEGIA    COVID_FEVE PREOCUPA_  \\\n",
       "2   ...                         SI          MANTENER  SEGUIR COVID        SI   \n",
       "4   ...                         NO          MANTENER      SIN FEVE        NO   \n",
       "7   ...                         SI          MANTENER      SIN FEVE        NO   \n",
       "9   ...                         NO            CRECER      SIN FEVE        NO   \n",
       "12  ...                         SI            CRECER      SIN FEVE        NO   \n",
       "\n",
       "   COVID_P_2_1_ESTA_OPERANDO COVID_P_2_1_ESTA_OPERANDO_int  \\\n",
       "2                         SI                             1   \n",
       "4                         SI                             1   \n",
       "7                         SI                             1   \n",
       "9                         SI                             1   \n",
       "12                        SI                             1   \n",
       "\n",
       "   COVID_PORCENTAJE_REDUCCION_PERSONAL  \\\n",
       "2                                  0.0   \n",
       "4                                  0.0   \n",
       "7                                 40.0   \n",
       "9                                  0.0   \n",
       "12                                50.0   \n",
       "\n",
       "   COVID_PORCENTAJE_REDUCCION_INGREO_MENUSAL COVID_REACTIVA_SF_NO_IBK  \\\n",
       "2                                       50.0                       SI   \n",
       "4                                       25.0                       SI   \n",
       "7                                       67.0                       SI   \n",
       "9                                        0.0                       SI   \n",
       "12                                      30.0                       SI   \n",
       "\n",
       "    COVID_SUMA_REACTIVA_SF_NO_IBK  \n",
       "2                           750.0  \n",
       "4                          1080.0  \n",
       "7                           600.0  \n",
       "9                          3140.0  \n",
       "12                          900.0  \n",
       "\n",
       "[5 rows x 169 columns]"
      ]
     },
     "execution_count": 134,
     "metadata": {},
     "output_type": "execute_result"
    }
   ],
   "source": [
    "conoceme[conoceme['COVID_SUMA_REACTIVA_SF_NO_IBK'] > 0].head()"
   ]
  },
  {
   "cell_type": "code",
   "execution_count": 135,
   "metadata": {},
   "outputs": [
    {
     "ename": "KeyError",
     "evalue": "'IBK_R2_MONTO_PRESTAMO_REACTIVA_1'",
     "output_type": "error",
     "traceback": [
      "\u001b[1;31m---------------------------------------------------------------------------\u001b[0m",
      "\u001b[1;31mKeyError\u001b[0m                                  Traceback (most recent call last)",
      "\u001b[1;32m~\\Anaconda3\\lib\\site-packages\\pandas\\core\\indexes\\base.py\u001b[0m in \u001b[0;36mget_loc\u001b[1;34m(self, key, method, tolerance)\u001b[0m\n\u001b[0;32m   2645\u001b[0m             \u001b[1;32mtry\u001b[0m\u001b[1;33m:\u001b[0m\u001b[1;33m\u001b[0m\u001b[1;33m\u001b[0m\u001b[0m\n\u001b[1;32m-> 2646\u001b[1;33m                 \u001b[1;32mreturn\u001b[0m \u001b[0mself\u001b[0m\u001b[1;33m.\u001b[0m\u001b[0m_engine\u001b[0m\u001b[1;33m.\u001b[0m\u001b[0mget_loc\u001b[0m\u001b[1;33m(\u001b[0m\u001b[0mkey\u001b[0m\u001b[1;33m)\u001b[0m\u001b[1;33m\u001b[0m\u001b[1;33m\u001b[0m\u001b[0m\n\u001b[0m\u001b[0;32m   2647\u001b[0m             \u001b[1;32mexcept\u001b[0m \u001b[0mKeyError\u001b[0m\u001b[1;33m:\u001b[0m\u001b[1;33m\u001b[0m\u001b[1;33m\u001b[0m\u001b[0m\n",
      "\u001b[1;32mpandas\\_libs\\index.pyx\u001b[0m in \u001b[0;36mpandas._libs.index.IndexEngine.get_loc\u001b[1;34m()\u001b[0m\n",
      "\u001b[1;32mpandas\\_libs\\index.pyx\u001b[0m in \u001b[0;36mpandas._libs.index.IndexEngine.get_loc\u001b[1;34m()\u001b[0m\n",
      "\u001b[1;32mpandas\\_libs\\hashtable_class_helper.pxi\u001b[0m in \u001b[0;36mpandas._libs.hashtable.PyObjectHashTable.get_item\u001b[1;34m()\u001b[0m\n",
      "\u001b[1;32mpandas\\_libs\\hashtable_class_helper.pxi\u001b[0m in \u001b[0;36mpandas._libs.hashtable.PyObjectHashTable.get_item\u001b[1;34m()\u001b[0m\n",
      "\u001b[1;31mKeyError\u001b[0m: 'IBK_R2_MONTO_PRESTAMO_REACTIVA_1'",
      "\nDuring handling of the above exception, another exception occurred:\n",
      "\u001b[1;31mKeyError\u001b[0m                                  Traceback (most recent call last)",
      "\u001b[1;32m<ipython-input-135-8b9977eaabc2>\u001b[0m in \u001b[0;36m<module>\u001b[1;34m\u001b[0m\n\u001b[1;32m----> 1\u001b[1;33m \u001b[0mconoceme\u001b[0m\u001b[1;33m[\u001b[0m\u001b[1;34m'COVID_SUMA_REACTIVA_IBK'\u001b[0m\u001b[1;33m]\u001b[0m \u001b[1;33m=\u001b[0m  \u001b[0mconoceme\u001b[0m\u001b[1;33m[\u001b[0m\u001b[1;34m'IBK_R2_MONTO_PRESTAMO_REACTIVA_1'\u001b[0m\u001b[1;33m]\u001b[0m \u001b[1;33m+\u001b[0m \u001b[0mconoceme\u001b[0m\u001b[1;33m[\u001b[0m\u001b[1;34m'IBK_R2_MONTO_PRESTAMO_REACTIVA_2'\u001b[0m\u001b[1;33m]\u001b[0m\u001b[1;33m\u001b[0m\u001b[1;33m\u001b[0m\u001b[0m\n\u001b[0m",
      "\u001b[1;32m~\\Anaconda3\\lib\\site-packages\\pandas\\core\\frame.py\u001b[0m in \u001b[0;36m__getitem__\u001b[1;34m(self, key)\u001b[0m\n\u001b[0;32m   2798\u001b[0m             \u001b[1;32mif\u001b[0m \u001b[0mself\u001b[0m\u001b[1;33m.\u001b[0m\u001b[0mcolumns\u001b[0m\u001b[1;33m.\u001b[0m\u001b[0mnlevels\u001b[0m \u001b[1;33m>\u001b[0m \u001b[1;36m1\u001b[0m\u001b[1;33m:\u001b[0m\u001b[1;33m\u001b[0m\u001b[1;33m\u001b[0m\u001b[0m\n\u001b[0;32m   2799\u001b[0m                 \u001b[1;32mreturn\u001b[0m \u001b[0mself\u001b[0m\u001b[1;33m.\u001b[0m\u001b[0m_getitem_multilevel\u001b[0m\u001b[1;33m(\u001b[0m\u001b[0mkey\u001b[0m\u001b[1;33m)\u001b[0m\u001b[1;33m\u001b[0m\u001b[1;33m\u001b[0m\u001b[0m\n\u001b[1;32m-> 2800\u001b[1;33m             \u001b[0mindexer\u001b[0m \u001b[1;33m=\u001b[0m \u001b[0mself\u001b[0m\u001b[1;33m.\u001b[0m\u001b[0mcolumns\u001b[0m\u001b[1;33m.\u001b[0m\u001b[0mget_loc\u001b[0m\u001b[1;33m(\u001b[0m\u001b[0mkey\u001b[0m\u001b[1;33m)\u001b[0m\u001b[1;33m\u001b[0m\u001b[1;33m\u001b[0m\u001b[0m\n\u001b[0m\u001b[0;32m   2801\u001b[0m             \u001b[1;32mif\u001b[0m \u001b[0mis_integer\u001b[0m\u001b[1;33m(\u001b[0m\u001b[0mindexer\u001b[0m\u001b[1;33m)\u001b[0m\u001b[1;33m:\u001b[0m\u001b[1;33m\u001b[0m\u001b[1;33m\u001b[0m\u001b[0m\n\u001b[0;32m   2802\u001b[0m                 \u001b[0mindexer\u001b[0m \u001b[1;33m=\u001b[0m \u001b[1;33m[\u001b[0m\u001b[0mindexer\u001b[0m\u001b[1;33m]\u001b[0m\u001b[1;33m\u001b[0m\u001b[1;33m\u001b[0m\u001b[0m\n",
      "\u001b[1;32m~\\Anaconda3\\lib\\site-packages\\pandas\\core\\indexes\\base.py\u001b[0m in \u001b[0;36mget_loc\u001b[1;34m(self, key, method, tolerance)\u001b[0m\n\u001b[0;32m   2646\u001b[0m                 \u001b[1;32mreturn\u001b[0m \u001b[0mself\u001b[0m\u001b[1;33m.\u001b[0m\u001b[0m_engine\u001b[0m\u001b[1;33m.\u001b[0m\u001b[0mget_loc\u001b[0m\u001b[1;33m(\u001b[0m\u001b[0mkey\u001b[0m\u001b[1;33m)\u001b[0m\u001b[1;33m\u001b[0m\u001b[1;33m\u001b[0m\u001b[0m\n\u001b[0;32m   2647\u001b[0m             \u001b[1;32mexcept\u001b[0m \u001b[0mKeyError\u001b[0m\u001b[1;33m:\u001b[0m\u001b[1;33m\u001b[0m\u001b[1;33m\u001b[0m\u001b[0m\n\u001b[1;32m-> 2648\u001b[1;33m                 \u001b[1;32mreturn\u001b[0m \u001b[0mself\u001b[0m\u001b[1;33m.\u001b[0m\u001b[0m_engine\u001b[0m\u001b[1;33m.\u001b[0m\u001b[0mget_loc\u001b[0m\u001b[1;33m(\u001b[0m\u001b[0mself\u001b[0m\u001b[1;33m.\u001b[0m\u001b[0m_maybe_cast_indexer\u001b[0m\u001b[1;33m(\u001b[0m\u001b[0mkey\u001b[0m\u001b[1;33m)\u001b[0m\u001b[1;33m)\u001b[0m\u001b[1;33m\u001b[0m\u001b[1;33m\u001b[0m\u001b[0m\n\u001b[0m\u001b[0;32m   2649\u001b[0m         \u001b[0mindexer\u001b[0m \u001b[1;33m=\u001b[0m \u001b[0mself\u001b[0m\u001b[1;33m.\u001b[0m\u001b[0mget_indexer\u001b[0m\u001b[1;33m(\u001b[0m\u001b[1;33m[\u001b[0m\u001b[0mkey\u001b[0m\u001b[1;33m]\u001b[0m\u001b[1;33m,\u001b[0m \u001b[0mmethod\u001b[0m\u001b[1;33m=\u001b[0m\u001b[0mmethod\u001b[0m\u001b[1;33m,\u001b[0m \u001b[0mtolerance\u001b[0m\u001b[1;33m=\u001b[0m\u001b[0mtolerance\u001b[0m\u001b[1;33m)\u001b[0m\u001b[1;33m\u001b[0m\u001b[1;33m\u001b[0m\u001b[0m\n\u001b[0;32m   2650\u001b[0m         \u001b[1;32mif\u001b[0m \u001b[0mindexer\u001b[0m\u001b[1;33m.\u001b[0m\u001b[0mndim\u001b[0m \u001b[1;33m>\u001b[0m \u001b[1;36m1\u001b[0m \u001b[1;32mor\u001b[0m \u001b[0mindexer\u001b[0m\u001b[1;33m.\u001b[0m\u001b[0msize\u001b[0m \u001b[1;33m>\u001b[0m \u001b[1;36m1\u001b[0m\u001b[1;33m:\u001b[0m\u001b[1;33m\u001b[0m\u001b[1;33m\u001b[0m\u001b[0m\n",
      "\u001b[1;32mpandas\\_libs\\index.pyx\u001b[0m in \u001b[0;36mpandas._libs.index.IndexEngine.get_loc\u001b[1;34m()\u001b[0m\n",
      "\u001b[1;32mpandas\\_libs\\index.pyx\u001b[0m in \u001b[0;36mpandas._libs.index.IndexEngine.get_loc\u001b[1;34m()\u001b[0m\n",
      "\u001b[1;32mpandas\\_libs\\hashtable_class_helper.pxi\u001b[0m in \u001b[0;36mpandas._libs.hashtable.PyObjectHashTable.get_item\u001b[1;34m()\u001b[0m\n",
      "\u001b[1;32mpandas\\_libs\\hashtable_class_helper.pxi\u001b[0m in \u001b[0;36mpandas._libs.hashtable.PyObjectHashTable.get_item\u001b[1;34m()\u001b[0m\n",
      "\u001b[1;31mKeyError\u001b[0m: 'IBK_R2_MONTO_PRESTAMO_REACTIVA_1'"
     ]
    }
   ],
   "source": [
    "conoceme['COVID_SUMA_REACTIVA_IBK'] =  conoceme['IBK_R2_MONTO_PRESTAMO_REACTIVA_1'] + conoceme['IBK_R2_MONTO_PRESTAMO_REACTIVA_2']"
   ]
  },
  {
   "cell_type": "code",
   "execution_count": 136,
   "metadata": {},
   "outputs": [
    {
     "ename": "KeyError",
     "evalue": "'COVID_SUMA_REACTIVA_IBK'",
     "output_type": "error",
     "traceback": [
      "\u001b[1;31m---------------------------------------------------------------------------\u001b[0m",
      "\u001b[1;31mKeyError\u001b[0m                                  Traceback (most recent call last)",
      "\u001b[1;32m~\\Anaconda3\\lib\\site-packages\\pandas\\core\\indexes\\base.py\u001b[0m in \u001b[0;36mget_loc\u001b[1;34m(self, key, method, tolerance)\u001b[0m\n\u001b[0;32m   2645\u001b[0m             \u001b[1;32mtry\u001b[0m\u001b[1;33m:\u001b[0m\u001b[1;33m\u001b[0m\u001b[1;33m\u001b[0m\u001b[0m\n\u001b[1;32m-> 2646\u001b[1;33m                 \u001b[1;32mreturn\u001b[0m \u001b[0mself\u001b[0m\u001b[1;33m.\u001b[0m\u001b[0m_engine\u001b[0m\u001b[1;33m.\u001b[0m\u001b[0mget_loc\u001b[0m\u001b[1;33m(\u001b[0m\u001b[0mkey\u001b[0m\u001b[1;33m)\u001b[0m\u001b[1;33m\u001b[0m\u001b[1;33m\u001b[0m\u001b[0m\n\u001b[0m\u001b[0;32m   2647\u001b[0m             \u001b[1;32mexcept\u001b[0m \u001b[0mKeyError\u001b[0m\u001b[1;33m:\u001b[0m\u001b[1;33m\u001b[0m\u001b[1;33m\u001b[0m\u001b[0m\n",
      "\u001b[1;32mpandas\\_libs\\index.pyx\u001b[0m in \u001b[0;36mpandas._libs.index.IndexEngine.get_loc\u001b[1;34m()\u001b[0m\n",
      "\u001b[1;32mpandas\\_libs\\index.pyx\u001b[0m in \u001b[0;36mpandas._libs.index.IndexEngine.get_loc\u001b[1;34m()\u001b[0m\n",
      "\u001b[1;32mpandas\\_libs\\hashtable_class_helper.pxi\u001b[0m in \u001b[0;36mpandas._libs.hashtable.PyObjectHashTable.get_item\u001b[1;34m()\u001b[0m\n",
      "\u001b[1;32mpandas\\_libs\\hashtable_class_helper.pxi\u001b[0m in \u001b[0;36mpandas._libs.hashtable.PyObjectHashTable.get_item\u001b[1;34m()\u001b[0m\n",
      "\u001b[1;31mKeyError\u001b[0m: 'COVID_SUMA_REACTIVA_IBK'",
      "\nDuring handling of the above exception, another exception occurred:\n",
      "\u001b[1;31mKeyError\u001b[0m                                  Traceback (most recent call last)",
      "\u001b[1;32m<ipython-input-136-10d2c0edb1e5>\u001b[0m in \u001b[0;36m<module>\u001b[1;34m\u001b[0m\n\u001b[1;32m----> 1\u001b[1;33m \u001b[0mconoceme\u001b[0m\u001b[1;33m[\u001b[0m\u001b[1;34m'IBK_R2_TOTAL_REACTIVA_SF'\u001b[0m\u001b[1;33m]\u001b[0m \u001b[1;33m=\u001b[0m \u001b[0mconoceme\u001b[0m\u001b[1;33m[\u001b[0m\u001b[1;34m'COVID_SUMA_REACTIVA_SF_NO_IBK'\u001b[0m\u001b[1;33m]\u001b[0m \u001b[1;33m+\u001b[0m \u001b[0mconoceme\u001b[0m\u001b[1;33m[\u001b[0m\u001b[1;34m'COVID_SUMA_REACTIVA_IBK'\u001b[0m\u001b[1;33m]\u001b[0m\u001b[1;33m\u001b[0m\u001b[1;33m\u001b[0m\u001b[0m\n\u001b[0m",
      "\u001b[1;32m~\\Anaconda3\\lib\\site-packages\\pandas\\core\\frame.py\u001b[0m in \u001b[0;36m__getitem__\u001b[1;34m(self, key)\u001b[0m\n\u001b[0;32m   2798\u001b[0m             \u001b[1;32mif\u001b[0m \u001b[0mself\u001b[0m\u001b[1;33m.\u001b[0m\u001b[0mcolumns\u001b[0m\u001b[1;33m.\u001b[0m\u001b[0mnlevels\u001b[0m \u001b[1;33m>\u001b[0m \u001b[1;36m1\u001b[0m\u001b[1;33m:\u001b[0m\u001b[1;33m\u001b[0m\u001b[1;33m\u001b[0m\u001b[0m\n\u001b[0;32m   2799\u001b[0m                 \u001b[1;32mreturn\u001b[0m \u001b[0mself\u001b[0m\u001b[1;33m.\u001b[0m\u001b[0m_getitem_multilevel\u001b[0m\u001b[1;33m(\u001b[0m\u001b[0mkey\u001b[0m\u001b[1;33m)\u001b[0m\u001b[1;33m\u001b[0m\u001b[1;33m\u001b[0m\u001b[0m\n\u001b[1;32m-> 2800\u001b[1;33m             \u001b[0mindexer\u001b[0m \u001b[1;33m=\u001b[0m \u001b[0mself\u001b[0m\u001b[1;33m.\u001b[0m\u001b[0mcolumns\u001b[0m\u001b[1;33m.\u001b[0m\u001b[0mget_loc\u001b[0m\u001b[1;33m(\u001b[0m\u001b[0mkey\u001b[0m\u001b[1;33m)\u001b[0m\u001b[1;33m\u001b[0m\u001b[1;33m\u001b[0m\u001b[0m\n\u001b[0m\u001b[0;32m   2801\u001b[0m             \u001b[1;32mif\u001b[0m \u001b[0mis_integer\u001b[0m\u001b[1;33m(\u001b[0m\u001b[0mindexer\u001b[0m\u001b[1;33m)\u001b[0m\u001b[1;33m:\u001b[0m\u001b[1;33m\u001b[0m\u001b[1;33m\u001b[0m\u001b[0m\n\u001b[0;32m   2802\u001b[0m                 \u001b[0mindexer\u001b[0m \u001b[1;33m=\u001b[0m \u001b[1;33m[\u001b[0m\u001b[0mindexer\u001b[0m\u001b[1;33m]\u001b[0m\u001b[1;33m\u001b[0m\u001b[1;33m\u001b[0m\u001b[0m\n",
      "\u001b[1;32m~\\Anaconda3\\lib\\site-packages\\pandas\\core\\indexes\\base.py\u001b[0m in \u001b[0;36mget_loc\u001b[1;34m(self, key, method, tolerance)\u001b[0m\n\u001b[0;32m   2646\u001b[0m                 \u001b[1;32mreturn\u001b[0m \u001b[0mself\u001b[0m\u001b[1;33m.\u001b[0m\u001b[0m_engine\u001b[0m\u001b[1;33m.\u001b[0m\u001b[0mget_loc\u001b[0m\u001b[1;33m(\u001b[0m\u001b[0mkey\u001b[0m\u001b[1;33m)\u001b[0m\u001b[1;33m\u001b[0m\u001b[1;33m\u001b[0m\u001b[0m\n\u001b[0;32m   2647\u001b[0m             \u001b[1;32mexcept\u001b[0m \u001b[0mKeyError\u001b[0m\u001b[1;33m:\u001b[0m\u001b[1;33m\u001b[0m\u001b[1;33m\u001b[0m\u001b[0m\n\u001b[1;32m-> 2648\u001b[1;33m                 \u001b[1;32mreturn\u001b[0m \u001b[0mself\u001b[0m\u001b[1;33m.\u001b[0m\u001b[0m_engine\u001b[0m\u001b[1;33m.\u001b[0m\u001b[0mget_loc\u001b[0m\u001b[1;33m(\u001b[0m\u001b[0mself\u001b[0m\u001b[1;33m.\u001b[0m\u001b[0m_maybe_cast_indexer\u001b[0m\u001b[1;33m(\u001b[0m\u001b[0mkey\u001b[0m\u001b[1;33m)\u001b[0m\u001b[1;33m)\u001b[0m\u001b[1;33m\u001b[0m\u001b[1;33m\u001b[0m\u001b[0m\n\u001b[0m\u001b[0;32m   2649\u001b[0m         \u001b[0mindexer\u001b[0m \u001b[1;33m=\u001b[0m \u001b[0mself\u001b[0m\u001b[1;33m.\u001b[0m\u001b[0mget_indexer\u001b[0m\u001b[1;33m(\u001b[0m\u001b[1;33m[\u001b[0m\u001b[0mkey\u001b[0m\u001b[1;33m]\u001b[0m\u001b[1;33m,\u001b[0m \u001b[0mmethod\u001b[0m\u001b[1;33m=\u001b[0m\u001b[0mmethod\u001b[0m\u001b[1;33m,\u001b[0m \u001b[0mtolerance\u001b[0m\u001b[1;33m=\u001b[0m\u001b[0mtolerance\u001b[0m\u001b[1;33m)\u001b[0m\u001b[1;33m\u001b[0m\u001b[1;33m\u001b[0m\u001b[0m\n\u001b[0;32m   2650\u001b[0m         \u001b[1;32mif\u001b[0m \u001b[0mindexer\u001b[0m\u001b[1;33m.\u001b[0m\u001b[0mndim\u001b[0m \u001b[1;33m>\u001b[0m \u001b[1;36m1\u001b[0m \u001b[1;32mor\u001b[0m \u001b[0mindexer\u001b[0m\u001b[1;33m.\u001b[0m\u001b[0msize\u001b[0m \u001b[1;33m>\u001b[0m \u001b[1;36m1\u001b[0m\u001b[1;33m:\u001b[0m\u001b[1;33m\u001b[0m\u001b[1;33m\u001b[0m\u001b[0m\n",
      "\u001b[1;32mpandas\\_libs\\index.pyx\u001b[0m in \u001b[0;36mpandas._libs.index.IndexEngine.get_loc\u001b[1;34m()\u001b[0m\n",
      "\u001b[1;32mpandas\\_libs\\index.pyx\u001b[0m in \u001b[0;36mpandas._libs.index.IndexEngine.get_loc\u001b[1;34m()\u001b[0m\n",
      "\u001b[1;32mpandas\\_libs\\hashtable_class_helper.pxi\u001b[0m in \u001b[0;36mpandas._libs.hashtable.PyObjectHashTable.get_item\u001b[1;34m()\u001b[0m\n",
      "\u001b[1;32mpandas\\_libs\\hashtable_class_helper.pxi\u001b[0m in \u001b[0;36mpandas._libs.hashtable.PyObjectHashTable.get_item\u001b[1;34m()\u001b[0m\n",
      "\u001b[1;31mKeyError\u001b[0m: 'COVID_SUMA_REACTIVA_IBK'"
     ]
    }
   ],
   "source": [
    "conoceme['IBK_R2_TOTAL_REACTIVA_SF'] = conoceme['COVID_SUMA_REACTIVA_SF_NO_IBK'] + conoceme['COVID_SUMA_REACTIVA_IBK']"
   ]
  },
  {
   "cell_type": "code",
   "execution_count": 137,
   "metadata": {},
   "outputs": [
    {
     "ename": "KeyError",
     "evalue": "'IBK_R2_TOTAL_REACTIVA_SF'",
     "output_type": "error",
     "traceback": [
      "\u001b[1;31m---------------------------------------------------------------------------\u001b[0m",
      "\u001b[1;31mKeyError\u001b[0m                                  Traceback (most recent call last)",
      "\u001b[1;32m~\\Anaconda3\\lib\\site-packages\\pandas\\core\\indexes\\base.py\u001b[0m in \u001b[0;36mget_loc\u001b[1;34m(self, key, method, tolerance)\u001b[0m\n\u001b[0;32m   2645\u001b[0m             \u001b[1;32mtry\u001b[0m\u001b[1;33m:\u001b[0m\u001b[1;33m\u001b[0m\u001b[1;33m\u001b[0m\u001b[0m\n\u001b[1;32m-> 2646\u001b[1;33m                 \u001b[1;32mreturn\u001b[0m \u001b[0mself\u001b[0m\u001b[1;33m.\u001b[0m\u001b[0m_engine\u001b[0m\u001b[1;33m.\u001b[0m\u001b[0mget_loc\u001b[0m\u001b[1;33m(\u001b[0m\u001b[0mkey\u001b[0m\u001b[1;33m)\u001b[0m\u001b[1;33m\u001b[0m\u001b[1;33m\u001b[0m\u001b[0m\n\u001b[0m\u001b[0;32m   2647\u001b[0m             \u001b[1;32mexcept\u001b[0m \u001b[0mKeyError\u001b[0m\u001b[1;33m:\u001b[0m\u001b[1;33m\u001b[0m\u001b[1;33m\u001b[0m\u001b[0m\n",
      "\u001b[1;32mpandas\\_libs\\index.pyx\u001b[0m in \u001b[0;36mpandas._libs.index.IndexEngine.get_loc\u001b[1;34m()\u001b[0m\n",
      "\u001b[1;32mpandas\\_libs\\index.pyx\u001b[0m in \u001b[0;36mpandas._libs.index.IndexEngine.get_loc\u001b[1;34m()\u001b[0m\n",
      "\u001b[1;32mpandas\\_libs\\hashtable_class_helper.pxi\u001b[0m in \u001b[0;36mpandas._libs.hashtable.PyObjectHashTable.get_item\u001b[1;34m()\u001b[0m\n",
      "\u001b[1;32mpandas\\_libs\\hashtable_class_helper.pxi\u001b[0m in \u001b[0;36mpandas._libs.hashtable.PyObjectHashTable.get_item\u001b[1;34m()\u001b[0m\n",
      "\u001b[1;31mKeyError\u001b[0m: 'IBK_R2_TOTAL_REACTIVA_SF'",
      "\nDuring handling of the above exception, another exception occurred:\n",
      "\u001b[1;31mKeyError\u001b[0m                                  Traceback (most recent call last)",
      "\u001b[1;32m<ipython-input-137-9a65811ed48d>\u001b[0m in \u001b[0;36m<module>\u001b[1;34m\u001b[0m\n\u001b[1;32m----> 1\u001b[1;33m \u001b[0mconoceme\u001b[0m\u001b[1;33m[\u001b[0m\u001b[1;34m'IBK_R2_TOTAL_REACTIVA_SF'\u001b[0m\u001b[1;33m]\u001b[0m\u001b[1;33m.\u001b[0m\u001b[0mhist\u001b[0m\u001b[1;33m(\u001b[0m\u001b[0mbins\u001b[0m\u001b[1;33m=\u001b[0m\u001b[1;36m100\u001b[0m\u001b[1;33m)\u001b[0m\u001b[1;33m\u001b[0m\u001b[1;33m\u001b[0m\u001b[0m\n\u001b[0m",
      "\u001b[1;32m~\\Anaconda3\\lib\\site-packages\\pandas\\core\\frame.py\u001b[0m in \u001b[0;36m__getitem__\u001b[1;34m(self, key)\u001b[0m\n\u001b[0;32m   2798\u001b[0m             \u001b[1;32mif\u001b[0m \u001b[0mself\u001b[0m\u001b[1;33m.\u001b[0m\u001b[0mcolumns\u001b[0m\u001b[1;33m.\u001b[0m\u001b[0mnlevels\u001b[0m \u001b[1;33m>\u001b[0m \u001b[1;36m1\u001b[0m\u001b[1;33m:\u001b[0m\u001b[1;33m\u001b[0m\u001b[1;33m\u001b[0m\u001b[0m\n\u001b[0;32m   2799\u001b[0m                 \u001b[1;32mreturn\u001b[0m \u001b[0mself\u001b[0m\u001b[1;33m.\u001b[0m\u001b[0m_getitem_multilevel\u001b[0m\u001b[1;33m(\u001b[0m\u001b[0mkey\u001b[0m\u001b[1;33m)\u001b[0m\u001b[1;33m\u001b[0m\u001b[1;33m\u001b[0m\u001b[0m\n\u001b[1;32m-> 2800\u001b[1;33m             \u001b[0mindexer\u001b[0m \u001b[1;33m=\u001b[0m \u001b[0mself\u001b[0m\u001b[1;33m.\u001b[0m\u001b[0mcolumns\u001b[0m\u001b[1;33m.\u001b[0m\u001b[0mget_loc\u001b[0m\u001b[1;33m(\u001b[0m\u001b[0mkey\u001b[0m\u001b[1;33m)\u001b[0m\u001b[1;33m\u001b[0m\u001b[1;33m\u001b[0m\u001b[0m\n\u001b[0m\u001b[0;32m   2801\u001b[0m             \u001b[1;32mif\u001b[0m \u001b[0mis_integer\u001b[0m\u001b[1;33m(\u001b[0m\u001b[0mindexer\u001b[0m\u001b[1;33m)\u001b[0m\u001b[1;33m:\u001b[0m\u001b[1;33m\u001b[0m\u001b[1;33m\u001b[0m\u001b[0m\n\u001b[0;32m   2802\u001b[0m                 \u001b[0mindexer\u001b[0m \u001b[1;33m=\u001b[0m \u001b[1;33m[\u001b[0m\u001b[0mindexer\u001b[0m\u001b[1;33m]\u001b[0m\u001b[1;33m\u001b[0m\u001b[1;33m\u001b[0m\u001b[0m\n",
      "\u001b[1;32m~\\Anaconda3\\lib\\site-packages\\pandas\\core\\indexes\\base.py\u001b[0m in \u001b[0;36mget_loc\u001b[1;34m(self, key, method, tolerance)\u001b[0m\n\u001b[0;32m   2646\u001b[0m                 \u001b[1;32mreturn\u001b[0m \u001b[0mself\u001b[0m\u001b[1;33m.\u001b[0m\u001b[0m_engine\u001b[0m\u001b[1;33m.\u001b[0m\u001b[0mget_loc\u001b[0m\u001b[1;33m(\u001b[0m\u001b[0mkey\u001b[0m\u001b[1;33m)\u001b[0m\u001b[1;33m\u001b[0m\u001b[1;33m\u001b[0m\u001b[0m\n\u001b[0;32m   2647\u001b[0m             \u001b[1;32mexcept\u001b[0m \u001b[0mKeyError\u001b[0m\u001b[1;33m:\u001b[0m\u001b[1;33m\u001b[0m\u001b[1;33m\u001b[0m\u001b[0m\n\u001b[1;32m-> 2648\u001b[1;33m                 \u001b[1;32mreturn\u001b[0m \u001b[0mself\u001b[0m\u001b[1;33m.\u001b[0m\u001b[0m_engine\u001b[0m\u001b[1;33m.\u001b[0m\u001b[0mget_loc\u001b[0m\u001b[1;33m(\u001b[0m\u001b[0mself\u001b[0m\u001b[1;33m.\u001b[0m\u001b[0m_maybe_cast_indexer\u001b[0m\u001b[1;33m(\u001b[0m\u001b[0mkey\u001b[0m\u001b[1;33m)\u001b[0m\u001b[1;33m)\u001b[0m\u001b[1;33m\u001b[0m\u001b[1;33m\u001b[0m\u001b[0m\n\u001b[0m\u001b[0;32m   2649\u001b[0m         \u001b[0mindexer\u001b[0m \u001b[1;33m=\u001b[0m \u001b[0mself\u001b[0m\u001b[1;33m.\u001b[0m\u001b[0mget_indexer\u001b[0m\u001b[1;33m(\u001b[0m\u001b[1;33m[\u001b[0m\u001b[0mkey\u001b[0m\u001b[1;33m]\u001b[0m\u001b[1;33m,\u001b[0m \u001b[0mmethod\u001b[0m\u001b[1;33m=\u001b[0m\u001b[0mmethod\u001b[0m\u001b[1;33m,\u001b[0m \u001b[0mtolerance\u001b[0m\u001b[1;33m=\u001b[0m\u001b[0mtolerance\u001b[0m\u001b[1;33m)\u001b[0m\u001b[1;33m\u001b[0m\u001b[1;33m\u001b[0m\u001b[0m\n\u001b[0;32m   2650\u001b[0m         \u001b[1;32mif\u001b[0m \u001b[0mindexer\u001b[0m\u001b[1;33m.\u001b[0m\u001b[0mndim\u001b[0m \u001b[1;33m>\u001b[0m \u001b[1;36m1\u001b[0m \u001b[1;32mor\u001b[0m \u001b[0mindexer\u001b[0m\u001b[1;33m.\u001b[0m\u001b[0msize\u001b[0m \u001b[1;33m>\u001b[0m \u001b[1;36m1\u001b[0m\u001b[1;33m:\u001b[0m\u001b[1;33m\u001b[0m\u001b[1;33m\u001b[0m\u001b[0m\n",
      "\u001b[1;32mpandas\\_libs\\index.pyx\u001b[0m in \u001b[0;36mpandas._libs.index.IndexEngine.get_loc\u001b[1;34m()\u001b[0m\n",
      "\u001b[1;32mpandas\\_libs\\index.pyx\u001b[0m in \u001b[0;36mpandas._libs.index.IndexEngine.get_loc\u001b[1;34m()\u001b[0m\n",
      "\u001b[1;32mpandas\\_libs\\hashtable_class_helper.pxi\u001b[0m in \u001b[0;36mpandas._libs.hashtable.PyObjectHashTable.get_item\u001b[1;34m()\u001b[0m\n",
      "\u001b[1;32mpandas\\_libs\\hashtable_class_helper.pxi\u001b[0m in \u001b[0;36mpandas._libs.hashtable.PyObjectHashTable.get_item\u001b[1;34m()\u001b[0m\n",
      "\u001b[1;31mKeyError\u001b[0m: 'IBK_R2_TOTAL_REACTIVA_SF'"
     ]
    }
   ],
   "source": [
    "conoceme['IBK_R2_TOTAL_REACTIVA_SF'].hist(bins=100)"
   ]
  },
  {
   "cell_type": "code",
   "execution_count": 138,
   "metadata": {},
   "outputs": [
    {
     "ename": "ValueError",
     "evalue": "Could not interpret input 'OPERANDO_SUSPENSION'",
     "output_type": "error",
     "traceback": [
      "\u001b[1;31m---------------------------------------------------------------------------\u001b[0m",
      "\u001b[1;31mValueError\u001b[0m                                Traceback (most recent call last)",
      "\u001b[1;32m<ipython-input-138-9745f706c02e>\u001b[0m in \u001b[0;36m<module>\u001b[1;34m\u001b[0m\n\u001b[1;32m----> 1\u001b[1;33m \u001b[0mview_numeric\u001b[0m\u001b[1;33m(\u001b[0m\u001b[0mconoceme\u001b[0m\u001b[1;33m,\u001b[0m \u001b[1;34m'IBK_R2_TOTAL_REACTIVA_SF'\u001b[0m\u001b[1;33m,\u001b[0m \u001b[1;34m'OPERANDO_SUSPENSION'\u001b[0m\u001b[1;33m)\u001b[0m\u001b[1;33m\u001b[0m\u001b[1;33m\u001b[0m\u001b[0m\n\u001b[0m",
      "\u001b[1;32m<ipython-input-50-7c359287b1d9>\u001b[0m in \u001b[0;36mview_numeric\u001b[1;34m(data, col_init, col_out, **kwargs)\u001b[0m\n\u001b[0;32m      4\u001b[0m     \u001b[0mfig\u001b[0m\u001b[1;33m,\u001b[0m \u001b[0maxes\u001b[0m \u001b[1;33m=\u001b[0m \u001b[0mplt\u001b[0m\u001b[1;33m.\u001b[0m\u001b[0msubplots\u001b[0m\u001b[1;33m(\u001b[0m\u001b[0mnrows\u001b[0m\u001b[1;33m=\u001b[0m\u001b[1;36m1\u001b[0m\u001b[1;33m,\u001b[0m \u001b[0mncols\u001b[0m\u001b[1;33m=\u001b[0m\u001b[1;36m1\u001b[0m\u001b[1;33m,\u001b[0m \u001b[0mfigsize\u001b[0m\u001b[1;33m=\u001b[0m\u001b[1;33m(\u001b[0m\u001b[1;36m10\u001b[0m\u001b[1;33m,\u001b[0m \u001b[1;36m5\u001b[0m\u001b[1;33m)\u001b[0m\u001b[1;33m)\u001b[0m\u001b[1;33m\u001b[0m\u001b[1;33m\u001b[0m\u001b[0m\n\u001b[0;32m      5\u001b[0m \u001b[1;33m\u001b[0m\u001b[0m\n\u001b[1;32m----> 6\u001b[1;33m     \u001b[0msns\u001b[0m\u001b[1;33m.\u001b[0m\u001b[0mviolinplot\u001b[0m\u001b[1;33m(\u001b[0m\u001b[0mx\u001b[0m\u001b[1;33m=\u001b[0m\u001b[0mcol_out\u001b[0m\u001b[1;33m,\u001b[0m \u001b[0my\u001b[0m\u001b[1;33m=\u001b[0m\u001b[0mcol_init\u001b[0m\u001b[1;33m,\u001b[0m \u001b[0mdata\u001b[0m\u001b[1;33m=\u001b[0m\u001b[0mdata\u001b[0m\u001b[1;33m,\u001b[0m \u001b[0max\u001b[0m\u001b[1;33m=\u001b[0m\u001b[0maxes\u001b[0m\u001b[1;33m)\u001b[0m\u001b[1;33m\u001b[0m\u001b[1;33m\u001b[0m\u001b[0m\n\u001b[0m",
      "\u001b[1;32m~\\Anaconda3\\lib\\site-packages\\seaborn\\categorical.py\u001b[0m in \u001b[0;36mviolinplot\u001b[1;34m(x, y, hue, data, order, hue_order, bw, cut, scale, scale_hue, gridsize, width, inner, split, dodge, orient, linewidth, color, palette, saturation, ax, **kwargs)\u001b[0m\n\u001b[0;32m   2391\u001b[0m                              \u001b[0mbw\u001b[0m\u001b[1;33m,\u001b[0m \u001b[0mcut\u001b[0m\u001b[1;33m,\u001b[0m \u001b[0mscale\u001b[0m\u001b[1;33m,\u001b[0m \u001b[0mscale_hue\u001b[0m\u001b[1;33m,\u001b[0m \u001b[0mgridsize\u001b[0m\u001b[1;33m,\u001b[0m\u001b[1;33m\u001b[0m\u001b[1;33m\u001b[0m\u001b[0m\n\u001b[0;32m   2392\u001b[0m                              \u001b[0mwidth\u001b[0m\u001b[1;33m,\u001b[0m \u001b[0minner\u001b[0m\u001b[1;33m,\u001b[0m \u001b[0msplit\u001b[0m\u001b[1;33m,\u001b[0m \u001b[0mdodge\u001b[0m\u001b[1;33m,\u001b[0m \u001b[0morient\u001b[0m\u001b[1;33m,\u001b[0m \u001b[0mlinewidth\u001b[0m\u001b[1;33m,\u001b[0m\u001b[1;33m\u001b[0m\u001b[1;33m\u001b[0m\u001b[0m\n\u001b[1;32m-> 2393\u001b[1;33m                              color, palette, saturation)\n\u001b[0m\u001b[0;32m   2394\u001b[0m \u001b[1;33m\u001b[0m\u001b[0m\n\u001b[0;32m   2395\u001b[0m     \u001b[1;32mif\u001b[0m \u001b[0max\u001b[0m \u001b[1;32mis\u001b[0m \u001b[1;32mNone\u001b[0m\u001b[1;33m:\u001b[0m\u001b[1;33m\u001b[0m\u001b[1;33m\u001b[0m\u001b[0m\n",
      "\u001b[1;32m~\\Anaconda3\\lib\\site-packages\\seaborn\\categorical.py\u001b[0m in \u001b[0;36m__init__\u001b[1;34m(self, x, y, hue, data, order, hue_order, bw, cut, scale, scale_hue, gridsize, width, inner, split, dodge, orient, linewidth, color, palette, saturation)\u001b[0m\n\u001b[0;32m    557\u001b[0m                  color, palette, saturation):\n\u001b[0;32m    558\u001b[0m \u001b[1;33m\u001b[0m\u001b[0m\n\u001b[1;32m--> 559\u001b[1;33m         \u001b[0mself\u001b[0m\u001b[1;33m.\u001b[0m\u001b[0mestablish_variables\u001b[0m\u001b[1;33m(\u001b[0m\u001b[0mx\u001b[0m\u001b[1;33m,\u001b[0m \u001b[0my\u001b[0m\u001b[1;33m,\u001b[0m \u001b[0mhue\u001b[0m\u001b[1;33m,\u001b[0m \u001b[0mdata\u001b[0m\u001b[1;33m,\u001b[0m \u001b[0morient\u001b[0m\u001b[1;33m,\u001b[0m \u001b[0morder\u001b[0m\u001b[1;33m,\u001b[0m \u001b[0mhue_order\u001b[0m\u001b[1;33m)\u001b[0m\u001b[1;33m\u001b[0m\u001b[1;33m\u001b[0m\u001b[0m\n\u001b[0m\u001b[0;32m    560\u001b[0m         \u001b[0mself\u001b[0m\u001b[1;33m.\u001b[0m\u001b[0mestablish_colors\u001b[0m\u001b[1;33m(\u001b[0m\u001b[0mcolor\u001b[0m\u001b[1;33m,\u001b[0m \u001b[0mpalette\u001b[0m\u001b[1;33m,\u001b[0m \u001b[0msaturation\u001b[0m\u001b[1;33m)\u001b[0m\u001b[1;33m\u001b[0m\u001b[1;33m\u001b[0m\u001b[0m\n\u001b[0;32m    561\u001b[0m         \u001b[0mself\u001b[0m\u001b[1;33m.\u001b[0m\u001b[0mestimate_densities\u001b[0m\u001b[1;33m(\u001b[0m\u001b[0mbw\u001b[0m\u001b[1;33m,\u001b[0m \u001b[0mcut\u001b[0m\u001b[1;33m,\u001b[0m \u001b[0mscale\u001b[0m\u001b[1;33m,\u001b[0m \u001b[0mscale_hue\u001b[0m\u001b[1;33m,\u001b[0m \u001b[0mgridsize\u001b[0m\u001b[1;33m)\u001b[0m\u001b[1;33m\u001b[0m\u001b[1;33m\u001b[0m\u001b[0m\n",
      "\u001b[1;32m~\\Anaconda3\\lib\\site-packages\\seaborn\\categorical.py\u001b[0m in \u001b[0;36mestablish_variables\u001b[1;34m(self, x, y, hue, data, orient, order, hue_order, units)\u001b[0m\n\u001b[0;32m    150\u001b[0m                 \u001b[1;32mif\u001b[0m \u001b[0misinstance\u001b[0m\u001b[1;33m(\u001b[0m\u001b[0mvar\u001b[0m\u001b[1;33m,\u001b[0m \u001b[0mstr\u001b[0m\u001b[1;33m)\u001b[0m\u001b[1;33m:\u001b[0m\u001b[1;33m\u001b[0m\u001b[1;33m\u001b[0m\u001b[0m\n\u001b[0;32m    151\u001b[0m                     \u001b[0merr\u001b[0m \u001b[1;33m=\u001b[0m \u001b[1;34m\"Could not interpret input '{}'\"\u001b[0m\u001b[1;33m.\u001b[0m\u001b[0mformat\u001b[0m\u001b[1;33m(\u001b[0m\u001b[0mvar\u001b[0m\u001b[1;33m)\u001b[0m\u001b[1;33m\u001b[0m\u001b[1;33m\u001b[0m\u001b[0m\n\u001b[1;32m--> 152\u001b[1;33m                     \u001b[1;32mraise\u001b[0m \u001b[0mValueError\u001b[0m\u001b[1;33m(\u001b[0m\u001b[0merr\u001b[0m\u001b[1;33m)\u001b[0m\u001b[1;33m\u001b[0m\u001b[1;33m\u001b[0m\u001b[0m\n\u001b[0m\u001b[0;32m    153\u001b[0m \u001b[1;33m\u001b[0m\u001b[0m\n\u001b[0;32m    154\u001b[0m             \u001b[1;31m# Figure out the plotting orientation\u001b[0m\u001b[1;33m\u001b[0m\u001b[1;33m\u001b[0m\u001b[1;33m\u001b[0m\u001b[0m\n",
      "\u001b[1;31mValueError\u001b[0m: Could not interpret input 'OPERANDO_SUSPENSION'"
     ]
    },
    {
     "data": {
      "image/png": "[encoded data removed]",
      "text/plain": [
       "<Figure size 720x360 with 1 Axes>"
      ]
     },
     "metadata": {},
     "output_type": "display_data"
    }
   ],
   "source": [
    "view_numeric(conoceme, 'IBK_R2_TOTAL_REACTIVA_SF', 'OPERANDO_SUSPENSION')"
   ]
  },
  {
   "cell_type": "markdown",
   "metadata": {},
   "source": [
    "#### Reactiva de CLientes NO estan operando y SI se ha acatado a la suspensión de labores"
   ]
  },
  {
   "cell_type": "code",
   "execution_count": 139,
   "metadata": {},
   "outputs": [
    {
     "ename": "KeyError",
     "evalue": "'OPERANDO_SUSPENSION'",
     "output_type": "error",
     "traceback": [
      "\u001b[1;31m---------------------------------------------------------------------------\u001b[0m",
      "\u001b[1;31mKeyError\u001b[0m                                  Traceback (most recent call last)",
      "\u001b[1;32m~\\Anaconda3\\lib\\site-packages\\pandas\\core\\indexes\\base.py\u001b[0m in \u001b[0;36mget_loc\u001b[1;34m(self, key, method, tolerance)\u001b[0m\n\u001b[0;32m   2645\u001b[0m             \u001b[1;32mtry\u001b[0m\u001b[1;33m:\u001b[0m\u001b[1;33m\u001b[0m\u001b[1;33m\u001b[0m\u001b[0m\n\u001b[1;32m-> 2646\u001b[1;33m                 \u001b[1;32mreturn\u001b[0m \u001b[0mself\u001b[0m\u001b[1;33m.\u001b[0m\u001b[0m_engine\u001b[0m\u001b[1;33m.\u001b[0m\u001b[0mget_loc\u001b[0m\u001b[1;33m(\u001b[0m\u001b[0mkey\u001b[0m\u001b[1;33m)\u001b[0m\u001b[1;33m\u001b[0m\u001b[1;33m\u001b[0m\u001b[0m\n\u001b[0m\u001b[0;32m   2647\u001b[0m             \u001b[1;32mexcept\u001b[0m \u001b[0mKeyError\u001b[0m\u001b[1;33m:\u001b[0m\u001b[1;33m\u001b[0m\u001b[1;33m\u001b[0m\u001b[0m\n",
      "\u001b[1;32mpandas\\_libs\\index.pyx\u001b[0m in \u001b[0;36mpandas._libs.index.IndexEngine.get_loc\u001b[1;34m()\u001b[0m\n",
      "\u001b[1;32mpandas\\_libs\\index.pyx\u001b[0m in \u001b[0;36mpandas._libs.index.IndexEngine.get_loc\u001b[1;34m()\u001b[0m\n",
      "\u001b[1;32mpandas\\_libs\\hashtable_class_helper.pxi\u001b[0m in \u001b[0;36mpandas._libs.hashtable.PyObjectHashTable.get_item\u001b[1;34m()\u001b[0m\n",
      "\u001b[1;32mpandas\\_libs\\hashtable_class_helper.pxi\u001b[0m in \u001b[0;36mpandas._libs.hashtable.PyObjectHashTable.get_item\u001b[1;34m()\u001b[0m\n",
      "\u001b[1;31mKeyError\u001b[0m: 'OPERANDO_SUSPENSION'",
      "\nDuring handling of the above exception, another exception occurred:\n",
      "\u001b[1;31mKeyError\u001b[0m                                  Traceback (most recent call last)",
      "\u001b[1;32m<ipython-input-139-e728a5176508>\u001b[0m in \u001b[0;36m<module>\u001b[1;34m\u001b[0m\n\u001b[1;32m----> 1\u001b[1;33m \u001b[0mconoceme\u001b[0m\u001b[1;33m[\u001b[0m\u001b[0mconoceme\u001b[0m\u001b[1;33m[\u001b[0m\u001b[1;34m'OPERANDO_SUSPENSION'\u001b[0m\u001b[1;33m]\u001b[0m \u001b[1;33m==\u001b[0m \u001b[1;34m'NO_SI'\u001b[0m\u001b[1;33m]\u001b[0m\u001b[1;33m.\u001b[0m\u001b[0mshape\u001b[0m\u001b[1;33m[\u001b[0m\u001b[1;36m0\u001b[0m\u001b[1;33m]\u001b[0m\u001b[1;33m\u001b[0m\u001b[1;33m\u001b[0m\u001b[0m\n\u001b[0m",
      "\u001b[1;32m~\\Anaconda3\\lib\\site-packages\\pandas\\core\\frame.py\u001b[0m in \u001b[0;36m__getitem__\u001b[1;34m(self, key)\u001b[0m\n\u001b[0;32m   2798\u001b[0m             \u001b[1;32mif\u001b[0m \u001b[0mself\u001b[0m\u001b[1;33m.\u001b[0m\u001b[0mcolumns\u001b[0m\u001b[1;33m.\u001b[0m\u001b[0mnlevels\u001b[0m \u001b[1;33m>\u001b[0m \u001b[1;36m1\u001b[0m\u001b[1;33m:\u001b[0m\u001b[1;33m\u001b[0m\u001b[1;33m\u001b[0m\u001b[0m\n\u001b[0;32m   2799\u001b[0m                 \u001b[1;32mreturn\u001b[0m \u001b[0mself\u001b[0m\u001b[1;33m.\u001b[0m\u001b[0m_getitem_multilevel\u001b[0m\u001b[1;33m(\u001b[0m\u001b[0mkey\u001b[0m\u001b[1;33m)\u001b[0m\u001b[1;33m\u001b[0m\u001b[1;33m\u001b[0m\u001b[0m\n\u001b[1;32m-> 2800\u001b[1;33m             \u001b[0mindexer\u001b[0m \u001b[1;33m=\u001b[0m \u001b[0mself\u001b[0m\u001b[1;33m.\u001b[0m\u001b[0mcolumns\u001b[0m\u001b[1;33m.\u001b[0m\u001b[0mget_loc\u001b[0m\u001b[1;33m(\u001b[0m\u001b[0mkey\u001b[0m\u001b[1;33m)\u001b[0m\u001b[1;33m\u001b[0m\u001b[1;33m\u001b[0m\u001b[0m\n\u001b[0m\u001b[0;32m   2801\u001b[0m             \u001b[1;32mif\u001b[0m \u001b[0mis_integer\u001b[0m\u001b[1;33m(\u001b[0m\u001b[0mindexer\u001b[0m\u001b[1;33m)\u001b[0m\u001b[1;33m:\u001b[0m\u001b[1;33m\u001b[0m\u001b[1;33m\u001b[0m\u001b[0m\n\u001b[0;32m   2802\u001b[0m                 \u001b[0mindexer\u001b[0m \u001b[1;33m=\u001b[0m \u001b[1;33m[\u001b[0m\u001b[0mindexer\u001b[0m\u001b[1;33m]\u001b[0m\u001b[1;33m\u001b[0m\u001b[1;33m\u001b[0m\u001b[0m\n",
      "\u001b[1;32m~\\Anaconda3\\lib\\site-packages\\pandas\\core\\indexes\\base.py\u001b[0m in \u001b[0;36mget_loc\u001b[1;34m(self, key, method, tolerance)\u001b[0m\n\u001b[0;32m   2646\u001b[0m                 \u001b[1;32mreturn\u001b[0m \u001b[0mself\u001b[0m\u001b[1;33m.\u001b[0m\u001b[0m_engine\u001b[0m\u001b[1;33m.\u001b[0m\u001b[0mget_loc\u001b[0m\u001b[1;33m(\u001b[0m\u001b[0mkey\u001b[0m\u001b[1;33m)\u001b[0m\u001b[1;33m\u001b[0m\u001b[1;33m\u001b[0m\u001b[0m\n\u001b[0;32m   2647\u001b[0m             \u001b[1;32mexcept\u001b[0m \u001b[0mKeyError\u001b[0m\u001b[1;33m:\u001b[0m\u001b[1;33m\u001b[0m\u001b[1;33m\u001b[0m\u001b[0m\n\u001b[1;32m-> 2648\u001b[1;33m                 \u001b[1;32mreturn\u001b[0m \u001b[0mself\u001b[0m\u001b[1;33m.\u001b[0m\u001b[0m_engine\u001b[0m\u001b[1;33m.\u001b[0m\u001b[0mget_loc\u001b[0m\u001b[1;33m(\u001b[0m\u001b[0mself\u001b[0m\u001b[1;33m.\u001b[0m\u001b[0m_maybe_cast_indexer\u001b[0m\u001b[1;33m(\u001b[0m\u001b[0mkey\u001b[0m\u001b[1;33m)\u001b[0m\u001b[1;33m)\u001b[0m\u001b[1;33m\u001b[0m\u001b[1;33m\u001b[0m\u001b[0m\n\u001b[0m\u001b[0;32m   2649\u001b[0m         \u001b[0mindexer\u001b[0m \u001b[1;33m=\u001b[0m \u001b[0mself\u001b[0m\u001b[1;33m.\u001b[0m\u001b[0mget_indexer\u001b[0m\u001b[1;33m(\u001b[0m\u001b[1;33m[\u001b[0m\u001b[0mkey\u001b[0m\u001b[1;33m]\u001b[0m\u001b[1;33m,\u001b[0m \u001b[0mmethod\u001b[0m\u001b[1;33m=\u001b[0m\u001b[0mmethod\u001b[0m\u001b[1;33m,\u001b[0m \u001b[0mtolerance\u001b[0m\u001b[1;33m=\u001b[0m\u001b[0mtolerance\u001b[0m\u001b[1;33m)\u001b[0m\u001b[1;33m\u001b[0m\u001b[1;33m\u001b[0m\u001b[0m\n\u001b[0;32m   2650\u001b[0m         \u001b[1;32mif\u001b[0m \u001b[0mindexer\u001b[0m\u001b[1;33m.\u001b[0m\u001b[0mndim\u001b[0m \u001b[1;33m>\u001b[0m \u001b[1;36m1\u001b[0m \u001b[1;32mor\u001b[0m \u001b[0mindexer\u001b[0m\u001b[1;33m.\u001b[0m\u001b[0msize\u001b[0m \u001b[1;33m>\u001b[0m \u001b[1;36m1\u001b[0m\u001b[1;33m:\u001b[0m\u001b[1;33m\u001b[0m\u001b[1;33m\u001b[0m\u001b[0m\n",
      "\u001b[1;32mpandas\\_libs\\index.pyx\u001b[0m in \u001b[0;36mpandas._libs.index.IndexEngine.get_loc\u001b[1;34m()\u001b[0m\n",
      "\u001b[1;32mpandas\\_libs\\index.pyx\u001b[0m in \u001b[0;36mpandas._libs.index.IndexEngine.get_loc\u001b[1;34m()\u001b[0m\n",
      "\u001b[1;32mpandas\\_libs\\hashtable_class_helper.pxi\u001b[0m in \u001b[0;36mpandas._libs.hashtable.PyObjectHashTable.get_item\u001b[1;34m()\u001b[0m\n",
      "\u001b[1;32mpandas\\_libs\\hashtable_class_helper.pxi\u001b[0m in \u001b[0;36mpandas._libs.hashtable.PyObjectHashTable.get_item\u001b[1;34m()\u001b[0m\n",
      "\u001b[1;31mKeyError\u001b[0m: 'OPERANDO_SUSPENSION'"
     ]
    }
   ],
   "source": [
    "conoceme[conoceme['OPERANDO_SUSPENSION'] == 'NO_SI'].shape[0]"
   ]
  },
  {
   "cell_type": "code",
   "execution_count": 140,
   "metadata": {},
   "outputs": [
    {
     "ename": "KeyError",
     "evalue": "'OPERANDO_SUSPENSION'",
     "output_type": "error",
     "traceback": [
      "\u001b[1;31m---------------------------------------------------------------------------\u001b[0m",
      "\u001b[1;31mKeyError\u001b[0m                                  Traceback (most recent call last)",
      "\u001b[1;32m~\\Anaconda3\\lib\\site-packages\\pandas\\core\\indexes\\base.py\u001b[0m in \u001b[0;36mget_loc\u001b[1;34m(self, key, method, tolerance)\u001b[0m\n\u001b[0;32m   2645\u001b[0m             \u001b[1;32mtry\u001b[0m\u001b[1;33m:\u001b[0m\u001b[1;33m\u001b[0m\u001b[1;33m\u001b[0m\u001b[0m\n\u001b[1;32m-> 2646\u001b[1;33m                 \u001b[1;32mreturn\u001b[0m \u001b[0mself\u001b[0m\u001b[1;33m.\u001b[0m\u001b[0m_engine\u001b[0m\u001b[1;33m.\u001b[0m\u001b[0mget_loc\u001b[0m\u001b[1;33m(\u001b[0m\u001b[0mkey\u001b[0m\u001b[1;33m)\u001b[0m\u001b[1;33m\u001b[0m\u001b[1;33m\u001b[0m\u001b[0m\n\u001b[0m\u001b[0;32m   2647\u001b[0m             \u001b[1;32mexcept\u001b[0m \u001b[0mKeyError\u001b[0m\u001b[1;33m:\u001b[0m\u001b[1;33m\u001b[0m\u001b[1;33m\u001b[0m\u001b[0m\n",
      "\u001b[1;32mpandas\\_libs\\index.pyx\u001b[0m in \u001b[0;36mpandas._libs.index.IndexEngine.get_loc\u001b[1;34m()\u001b[0m\n",
      "\u001b[1;32mpandas\\_libs\\index.pyx\u001b[0m in \u001b[0;36mpandas._libs.index.IndexEngine.get_loc\u001b[1;34m()\u001b[0m\n",
      "\u001b[1;32mpandas\\_libs\\hashtable_class_helper.pxi\u001b[0m in \u001b[0;36mpandas._libs.hashtable.PyObjectHashTable.get_item\u001b[1;34m()\u001b[0m\n",
      "\u001b[1;32mpandas\\_libs\\hashtable_class_helper.pxi\u001b[0m in \u001b[0;36mpandas._libs.hashtable.PyObjectHashTable.get_item\u001b[1;34m()\u001b[0m\n",
      "\u001b[1;31mKeyError\u001b[0m: 'OPERANDO_SUSPENSION'",
      "\nDuring handling of the above exception, another exception occurred:\n",
      "\u001b[1;31mKeyError\u001b[0m                                  Traceback (most recent call last)",
      "\u001b[1;32m<ipython-input-140-4181dde6b510>\u001b[0m in \u001b[0;36m<module>\u001b[1;34m\u001b[0m\n\u001b[1;32m----> 1\u001b[1;33m \u001b[0mconoceme\u001b[0m\u001b[1;33m[\u001b[0m\u001b[0mconoceme\u001b[0m\u001b[1;33m[\u001b[0m\u001b[1;34m'OPERANDO_SUSPENSION'\u001b[0m\u001b[1;33m]\u001b[0m \u001b[1;33m==\u001b[0m \u001b[1;34m'NO_SI'\u001b[0m\u001b[1;33m]\u001b[0m\u001b[1;33m[\u001b[0m\u001b[1;34m'IBK_R2_TOTAL_REACTIVA_SF'\u001b[0m\u001b[1;33m]\u001b[0m\u001b[1;33m.\u001b[0m\u001b[0mhist\u001b[0m\u001b[1;33m(\u001b[0m\u001b[1;33m)\u001b[0m\u001b[1;33m\u001b[0m\u001b[1;33m\u001b[0m\u001b[0m\n\u001b[0m",
      "\u001b[1;32m~\\Anaconda3\\lib\\site-packages\\pandas\\core\\frame.py\u001b[0m in \u001b[0;36m__getitem__\u001b[1;34m(self, key)\u001b[0m\n\u001b[0;32m   2798\u001b[0m             \u001b[1;32mif\u001b[0m \u001b[0mself\u001b[0m\u001b[1;33m.\u001b[0m\u001b[0mcolumns\u001b[0m\u001b[1;33m.\u001b[0m\u001b[0mnlevels\u001b[0m \u001b[1;33m>\u001b[0m \u001b[1;36m1\u001b[0m\u001b[1;33m:\u001b[0m\u001b[1;33m\u001b[0m\u001b[1;33m\u001b[0m\u001b[0m\n\u001b[0;32m   2799\u001b[0m                 \u001b[1;32mreturn\u001b[0m \u001b[0mself\u001b[0m\u001b[1;33m.\u001b[0m\u001b[0m_getitem_multilevel\u001b[0m\u001b[1;33m(\u001b[0m\u001b[0mkey\u001b[0m\u001b[1;33m)\u001b[0m\u001b[1;33m\u001b[0m\u001b[1;33m\u001b[0m\u001b[0m\n\u001b[1;32m-> 2800\u001b[1;33m             \u001b[0mindexer\u001b[0m \u001b[1;33m=\u001b[0m \u001b[0mself\u001b[0m\u001b[1;33m.\u001b[0m\u001b[0mcolumns\u001b[0m\u001b[1;33m.\u001b[0m\u001b[0mget_loc\u001b[0m\u001b[1;33m(\u001b[0m\u001b[0mkey\u001b[0m\u001b[1;33m)\u001b[0m\u001b[1;33m\u001b[0m\u001b[1;33m\u001b[0m\u001b[0m\n\u001b[0m\u001b[0;32m   2801\u001b[0m             \u001b[1;32mif\u001b[0m \u001b[0mis_integer\u001b[0m\u001b[1;33m(\u001b[0m\u001b[0mindexer\u001b[0m\u001b[1;33m)\u001b[0m\u001b[1;33m:\u001b[0m\u001b[1;33m\u001b[0m\u001b[1;33m\u001b[0m\u001b[0m\n\u001b[0;32m   2802\u001b[0m                 \u001b[0mindexer\u001b[0m \u001b[1;33m=\u001b[0m \u001b[1;33m[\u001b[0m\u001b[0mindexer\u001b[0m\u001b[1;33m]\u001b[0m\u001b[1;33m\u001b[0m\u001b[1;33m\u001b[0m\u001b[0m\n",
      "\u001b[1;32m~\\Anaconda3\\lib\\site-packages\\pandas\\core\\indexes\\base.py\u001b[0m in \u001b[0;36mget_loc\u001b[1;34m(self, key, method, tolerance)\u001b[0m\n\u001b[0;32m   2646\u001b[0m                 \u001b[1;32mreturn\u001b[0m \u001b[0mself\u001b[0m\u001b[1;33m.\u001b[0m\u001b[0m_engine\u001b[0m\u001b[1;33m.\u001b[0m\u001b[0mget_loc\u001b[0m\u001b[1;33m(\u001b[0m\u001b[0mkey\u001b[0m\u001b[1;33m)\u001b[0m\u001b[1;33m\u001b[0m\u001b[1;33m\u001b[0m\u001b[0m\n\u001b[0;32m   2647\u001b[0m             \u001b[1;32mexcept\u001b[0m \u001b[0mKeyError\u001b[0m\u001b[1;33m:\u001b[0m\u001b[1;33m\u001b[0m\u001b[1;33m\u001b[0m\u001b[0m\n\u001b[1;32m-> 2648\u001b[1;33m                 \u001b[1;32mreturn\u001b[0m \u001b[0mself\u001b[0m\u001b[1;33m.\u001b[0m\u001b[0m_engine\u001b[0m\u001b[1;33m.\u001b[0m\u001b[0mget_loc\u001b[0m\u001b[1;33m(\u001b[0m\u001b[0mself\u001b[0m\u001b[1;33m.\u001b[0m\u001b[0m_maybe_cast_indexer\u001b[0m\u001b[1;33m(\u001b[0m\u001b[0mkey\u001b[0m\u001b[1;33m)\u001b[0m\u001b[1;33m)\u001b[0m\u001b[1;33m\u001b[0m\u001b[1;33m\u001b[0m\u001b[0m\n\u001b[0m\u001b[0;32m   2649\u001b[0m         \u001b[0mindexer\u001b[0m \u001b[1;33m=\u001b[0m \u001b[0mself\u001b[0m\u001b[1;33m.\u001b[0m\u001b[0mget_indexer\u001b[0m\u001b[1;33m(\u001b[0m\u001b[1;33m[\u001b[0m\u001b[0mkey\u001b[0m\u001b[1;33m]\u001b[0m\u001b[1;33m,\u001b[0m \u001b[0mmethod\u001b[0m\u001b[1;33m=\u001b[0m\u001b[0mmethod\u001b[0m\u001b[1;33m,\u001b[0m \u001b[0mtolerance\u001b[0m\u001b[1;33m=\u001b[0m\u001b[0mtolerance\u001b[0m\u001b[1;33m)\u001b[0m\u001b[1;33m\u001b[0m\u001b[1;33m\u001b[0m\u001b[0m\n\u001b[0;32m   2650\u001b[0m         \u001b[1;32mif\u001b[0m \u001b[0mindexer\u001b[0m\u001b[1;33m.\u001b[0m\u001b[0mndim\u001b[0m \u001b[1;33m>\u001b[0m \u001b[1;36m1\u001b[0m \u001b[1;32mor\u001b[0m \u001b[0mindexer\u001b[0m\u001b[1;33m.\u001b[0m\u001b[0msize\u001b[0m \u001b[1;33m>\u001b[0m \u001b[1;36m1\u001b[0m\u001b[1;33m:\u001b[0m\u001b[1;33m\u001b[0m\u001b[1;33m\u001b[0m\u001b[0m\n",
      "\u001b[1;32mpandas\\_libs\\index.pyx\u001b[0m in \u001b[0;36mpandas._libs.index.IndexEngine.get_loc\u001b[1;34m()\u001b[0m\n",
      "\u001b[1;32mpandas\\_libs\\index.pyx\u001b[0m in \u001b[0;36mpandas._libs.index.IndexEngine.get_loc\u001b[1;34m()\u001b[0m\n",
      "\u001b[1;32mpandas\\_libs\\hashtable_class_helper.pxi\u001b[0m in \u001b[0;36mpandas._libs.hashtable.PyObjectHashTable.get_item\u001b[1;34m()\u001b[0m\n",
      "\u001b[1;32mpandas\\_libs\\hashtable_class_helper.pxi\u001b[0m in \u001b[0;36mpandas._libs.hashtable.PyObjectHashTable.get_item\u001b[1;34m()\u001b[0m\n",
      "\u001b[1;31mKeyError\u001b[0m: 'OPERANDO_SUSPENSION'"
     ]
    }
   ],
   "source": [
    "conoceme[conoceme['OPERANDO_SUSPENSION'] == 'NO_SI']['IBK_R2_TOTAL_REACTIVA_SF'].hist()"
   ]
  },
  {
   "cell_type": "code",
   "execution_count": 141,
   "metadata": {},
   "outputs": [],
   "source": [
    "#view_numeric(conoceme[conoceme['OPERANDO_SUSPENSION'] == 'NO_SI'], 'IBK_R2_TOTAL_REACTIVA_SF', 'OPERANDO_SUSPENSION')"
   ]
  },
  {
   "cell_type": "markdown",
   "metadata": {},
   "source": [
    "#### Reactiva de CLientes NO estan operando y NO se ha acatado a la suspensión de labores"
   ]
  },
  {
   "cell_type": "code",
   "execution_count": 142,
   "metadata": {},
   "outputs": [
    {
     "ename": "KeyError",
     "evalue": "'OPERANDO_SUSPENSION'",
     "output_type": "error",
     "traceback": [
      "\u001b[1;31m---------------------------------------------------------------------------\u001b[0m",
      "\u001b[1;31mKeyError\u001b[0m                                  Traceback (most recent call last)",
      "\u001b[1;32m~\\Anaconda3\\lib\\site-packages\\pandas\\core\\indexes\\base.py\u001b[0m in \u001b[0;36mget_loc\u001b[1;34m(self, key, method, tolerance)\u001b[0m\n\u001b[0;32m   2645\u001b[0m             \u001b[1;32mtry\u001b[0m\u001b[1;33m:\u001b[0m\u001b[1;33m\u001b[0m\u001b[1;33m\u001b[0m\u001b[0m\n\u001b[1;32m-> 2646\u001b[1;33m                 \u001b[1;32mreturn\u001b[0m \u001b[0mself\u001b[0m\u001b[1;33m.\u001b[0m\u001b[0m_engine\u001b[0m\u001b[1;33m.\u001b[0m\u001b[0mget_loc\u001b[0m\u001b[1;33m(\u001b[0m\u001b[0mkey\u001b[0m\u001b[1;33m)\u001b[0m\u001b[1;33m\u001b[0m\u001b[1;33m\u001b[0m\u001b[0m\n\u001b[0m\u001b[0;32m   2647\u001b[0m             \u001b[1;32mexcept\u001b[0m \u001b[0mKeyError\u001b[0m\u001b[1;33m:\u001b[0m\u001b[1;33m\u001b[0m\u001b[1;33m\u001b[0m\u001b[0m\n",
      "\u001b[1;32mpandas\\_libs\\index.pyx\u001b[0m in \u001b[0;36mpandas._libs.index.IndexEngine.get_loc\u001b[1;34m()\u001b[0m\n",
      "\u001b[1;32mpandas\\_libs\\index.pyx\u001b[0m in \u001b[0;36mpandas._libs.index.IndexEngine.get_loc\u001b[1;34m()\u001b[0m\n",
      "\u001b[1;32mpandas\\_libs\\hashtable_class_helper.pxi\u001b[0m in \u001b[0;36mpandas._libs.hashtable.PyObjectHashTable.get_item\u001b[1;34m()\u001b[0m\n",
      "\u001b[1;32mpandas\\_libs\\hashtable_class_helper.pxi\u001b[0m in \u001b[0;36mpandas._libs.hashtable.PyObjectHashTable.get_item\u001b[1;34m()\u001b[0m\n",
      "\u001b[1;31mKeyError\u001b[0m: 'OPERANDO_SUSPENSION'",
      "\nDuring handling of the above exception, another exception occurred:\n",
      "\u001b[1;31mKeyError\u001b[0m                                  Traceback (most recent call last)",
      "\u001b[1;32m<ipython-input-142-193fe09f70ee>\u001b[0m in \u001b[0;36m<module>\u001b[1;34m\u001b[0m\n\u001b[1;32m----> 1\u001b[1;33m \u001b[0mconoceme\u001b[0m\u001b[1;33m[\u001b[0m\u001b[0mconoceme\u001b[0m\u001b[1;33m[\u001b[0m\u001b[1;34m'OPERANDO_SUSPENSION'\u001b[0m\u001b[1;33m]\u001b[0m \u001b[1;33m==\u001b[0m \u001b[1;34m'NO_NO'\u001b[0m\u001b[1;33m]\u001b[0m\u001b[1;33m[\u001b[0m\u001b[1;34m'IBK_R2_TOTAL_REACTIVA_SF'\u001b[0m\u001b[1;33m]\u001b[0m\u001b[1;33m.\u001b[0m\u001b[0mhist\u001b[0m\u001b[1;33m(\u001b[0m\u001b[1;33m)\u001b[0m\u001b[1;33m\u001b[0m\u001b[1;33m\u001b[0m\u001b[0m\n\u001b[0m",
      "\u001b[1;32m~\\Anaconda3\\lib\\site-packages\\pandas\\core\\frame.py\u001b[0m in \u001b[0;36m__getitem__\u001b[1;34m(self, key)\u001b[0m\n\u001b[0;32m   2798\u001b[0m             \u001b[1;32mif\u001b[0m \u001b[0mself\u001b[0m\u001b[1;33m.\u001b[0m\u001b[0mcolumns\u001b[0m\u001b[1;33m.\u001b[0m\u001b[0mnlevels\u001b[0m \u001b[1;33m>\u001b[0m \u001b[1;36m1\u001b[0m\u001b[1;33m:\u001b[0m\u001b[1;33m\u001b[0m\u001b[1;33m\u001b[0m\u001b[0m\n\u001b[0;32m   2799\u001b[0m                 \u001b[1;32mreturn\u001b[0m \u001b[0mself\u001b[0m\u001b[1;33m.\u001b[0m\u001b[0m_getitem_multilevel\u001b[0m\u001b[1;33m(\u001b[0m\u001b[0mkey\u001b[0m\u001b[1;33m)\u001b[0m\u001b[1;33m\u001b[0m\u001b[1;33m\u001b[0m\u001b[0m\n\u001b[1;32m-> 2800\u001b[1;33m             \u001b[0mindexer\u001b[0m \u001b[1;33m=\u001b[0m \u001b[0mself\u001b[0m\u001b[1;33m.\u001b[0m\u001b[0mcolumns\u001b[0m\u001b[1;33m.\u001b[0m\u001b[0mget_loc\u001b[0m\u001b[1;33m(\u001b[0m\u001b[0mkey\u001b[0m\u001b[1;33m)\u001b[0m\u001b[1;33m\u001b[0m\u001b[1;33m\u001b[0m\u001b[0m\n\u001b[0m\u001b[0;32m   2801\u001b[0m             \u001b[1;32mif\u001b[0m \u001b[0mis_integer\u001b[0m\u001b[1;33m(\u001b[0m\u001b[0mindexer\u001b[0m\u001b[1;33m)\u001b[0m\u001b[1;33m:\u001b[0m\u001b[1;33m\u001b[0m\u001b[1;33m\u001b[0m\u001b[0m\n\u001b[0;32m   2802\u001b[0m                 \u001b[0mindexer\u001b[0m \u001b[1;33m=\u001b[0m \u001b[1;33m[\u001b[0m\u001b[0mindexer\u001b[0m\u001b[1;33m]\u001b[0m\u001b[1;33m\u001b[0m\u001b[1;33m\u001b[0m\u001b[0m\n",
      "\u001b[1;32m~\\Anaconda3\\lib\\site-packages\\pandas\\core\\indexes\\base.py\u001b[0m in \u001b[0;36mget_loc\u001b[1;34m(self, key, method, tolerance)\u001b[0m\n\u001b[0;32m   2646\u001b[0m                 \u001b[1;32mreturn\u001b[0m \u001b[0mself\u001b[0m\u001b[1;33m.\u001b[0m\u001b[0m_engine\u001b[0m\u001b[1;33m.\u001b[0m\u001b[0mget_loc\u001b[0m\u001b[1;33m(\u001b[0m\u001b[0mkey\u001b[0m\u001b[1;33m)\u001b[0m\u001b[1;33m\u001b[0m\u001b[1;33m\u001b[0m\u001b[0m\n\u001b[0;32m   2647\u001b[0m             \u001b[1;32mexcept\u001b[0m \u001b[0mKeyError\u001b[0m\u001b[1;33m:\u001b[0m\u001b[1;33m\u001b[0m\u001b[1;33m\u001b[0m\u001b[0m\n\u001b[1;32m-> 2648\u001b[1;33m                 \u001b[1;32mreturn\u001b[0m \u001b[0mself\u001b[0m\u001b[1;33m.\u001b[0m\u001b[0m_engine\u001b[0m\u001b[1;33m.\u001b[0m\u001b[0mget_loc\u001b[0m\u001b[1;33m(\u001b[0m\u001b[0mself\u001b[0m\u001b[1;33m.\u001b[0m\u001b[0m_maybe_cast_indexer\u001b[0m\u001b[1;33m(\u001b[0m\u001b[0mkey\u001b[0m\u001b[1;33m)\u001b[0m\u001b[1;33m)\u001b[0m\u001b[1;33m\u001b[0m\u001b[1;33m\u001b[0m\u001b[0m\n\u001b[0m\u001b[0;32m   2649\u001b[0m         \u001b[0mindexer\u001b[0m \u001b[1;33m=\u001b[0m \u001b[0mself\u001b[0m\u001b[1;33m.\u001b[0m\u001b[0mget_indexer\u001b[0m\u001b[1;33m(\u001b[0m\u001b[1;33m[\u001b[0m\u001b[0mkey\u001b[0m\u001b[1;33m]\u001b[0m\u001b[1;33m,\u001b[0m \u001b[0mmethod\u001b[0m\u001b[1;33m=\u001b[0m\u001b[0mmethod\u001b[0m\u001b[1;33m,\u001b[0m \u001b[0mtolerance\u001b[0m\u001b[1;33m=\u001b[0m\u001b[0mtolerance\u001b[0m\u001b[1;33m)\u001b[0m\u001b[1;33m\u001b[0m\u001b[1;33m\u001b[0m\u001b[0m\n\u001b[0;32m   2650\u001b[0m         \u001b[1;32mif\u001b[0m \u001b[0mindexer\u001b[0m\u001b[1;33m.\u001b[0m\u001b[0mndim\u001b[0m \u001b[1;33m>\u001b[0m \u001b[1;36m1\u001b[0m \u001b[1;32mor\u001b[0m \u001b[0mindexer\u001b[0m\u001b[1;33m.\u001b[0m\u001b[0msize\u001b[0m \u001b[1;33m>\u001b[0m \u001b[1;36m1\u001b[0m\u001b[1;33m:\u001b[0m\u001b[1;33m\u001b[0m\u001b[1;33m\u001b[0m\u001b[0m\n",
      "\u001b[1;32mpandas\\_libs\\index.pyx\u001b[0m in \u001b[0;36mpandas._libs.index.IndexEngine.get_loc\u001b[1;34m()\u001b[0m\n",
      "\u001b[1;32mpandas\\_libs\\index.pyx\u001b[0m in \u001b[0;36mpandas._libs.index.IndexEngine.get_loc\u001b[1;34m()\u001b[0m\n",
      "\u001b[1;32mpandas\\_libs\\hashtable_class_helper.pxi\u001b[0m in \u001b[0;36mpandas._libs.hashtable.PyObjectHashTable.get_item\u001b[1;34m()\u001b[0m\n",
      "\u001b[1;32mpandas\\_libs\\hashtable_class_helper.pxi\u001b[0m in \u001b[0;36mpandas._libs.hashtable.PyObjectHashTable.get_item\u001b[1;34m()\u001b[0m\n",
      "\u001b[1;31mKeyError\u001b[0m: 'OPERANDO_SUSPENSION'"
     ]
    }
   ],
   "source": [
    "conoceme[conoceme['OPERANDO_SUSPENSION'] == 'NO_NO']['IBK_R2_TOTAL_REACTIVA_SF'].hist()"
   ]
  },
  {
   "cell_type": "code",
   "execution_count": null,
   "metadata": {},
   "outputs": [],
   "source": []
  },
  {
   "cell_type": "code",
   "execution_count": null,
   "metadata": {},
   "outputs": [],
   "source": []
  },
  {
   "cell_type": "code",
   "execution_count": 143,
   "metadata": {},
   "outputs": [],
   "source": [
    "#df = df.groupby(\"date\").agg({\"duration\": np.sum, \"user_id\": pd.Series.nunique})\n",
    "#df"
   ]
  },
  {
   "cell_type": "markdown",
   "metadata": {},
   "source": [
    "### REACTIVA RCC"
   ]
  },
  {
   "cell_type": "code",
   "execution_count": 144,
   "metadata": {},
   "outputs": [],
   "source": [
    "query_reeactiva_rcc = \"\"\"\n",
    "    SELECT * FROM STG.HD_VMVP_REACTIVA_ALERTAS_CARTERA_BE ORDER BY COD_UNICO DESC\n",
    "\"\"\"\n",
    "#reactiva_rcc = pd.read_sql(\n",
    "#   query_reeactiva_rcc , connection_market\n",
    "#)\n",
    "#reactiva_rcc.head(2)"
   ]
  },
  {
   "cell_type": "code",
   "execution_count": 145,
   "metadata": {},
   "outputs": [],
   "source": [
    "#reactiva_rcc.groupby(by=['DES_CREDITO']).size()"
   ]
  },
  {
   "cell_type": "code",
   "execution_count": 146,
   "metadata": {},
   "outputs": [],
   "source": [
    "#reactiva_rcc[reactiva_rcc['DES_CREDITO'] == 'CREDITOS A MEDIANAS EMPRESAS'].shape, reactiva_rcc.shape"
   ]
  },
  {
   "cell_type": "code",
   "execution_count": 147,
   "metadata": {},
   "outputs": [],
   "source": [
    "#info_reactiva = reactiva_rcc.groupby(by=['COD_UNICO']).agg({'COD_EMPRESA': pd.Series.nunique, 'NUM_DOC': 'count'})\n",
    "#info_reactiva.head()"
   ]
  },
  {
   "cell_type": "code",
   "execution_count": 148,
   "metadata": {},
   "outputs": [],
   "source": [
    "#info_reactiva[info_reactiva['NUM_DOC'] > 2]"
   ]
  },
  {
   "cell_type": "code",
   "execution_count": null,
   "metadata": {},
   "outputs": [],
   "source": []
  },
  {
   "cell_type": "markdown",
   "metadata": {},
   "source": [
    "### REACTIVA IBK AGAIN"
   ]
  },
  {
   "cell_type": "code",
   "execution_count": 149,
   "metadata": {},
   "outputs": [],
   "source": [
    "query_reactiva_ibk = \"\"\"\n",
    "SELECT DISTINCT(A.CODUNICOCLI)\n",
    "FROM \n",
    "ODS.MD_DESEMBOLSO_REACTIVA A WITH (NOLOCK)\n",
    "INNER JOIN\n",
    "ODS.HD_ENVIO_COFIDE_V B WITH (NOLOCK)\n",
    "on A.CODUNICOCLI = B.CODUNICOCLI and A.NRO_CREDITO = B.NRO_CREDITO\n",
    "WHERE 1 = 1\n",
    "and B.ESTADO = 'ENVIADO'\n",
    "--and CERTIFICADO like 'CGAR2-%'\n",
    "--ORDER BY B.RAZON_SOCIAL DESC\n",
    "\"\"\"\n",
    "\n",
    "#reactiva_ibk = pd.read_sql(\n",
    "#   query_reactiva_ibk , connection_market\n",
    "#)\n",
    "#reactiva_ibk.head(2)"
   ]
  },
  {
   "cell_type": "code",
   "execution_count": 150,
   "metadata": {},
   "outputs": [],
   "source": [
    "#reactiva_ibk.shape"
   ]
  },
  {
   "cell_type": "code",
   "execution_count": 151,
   "metadata": {},
   "outputs": [],
   "source": [
    "#reactiva_ibk.head()"
   ]
  },
  {
   "cell_type": "code",
   "execution_count": 152,
   "metadata": {},
   "outputs": [
    {
     "data": {
      "text/plain": [
       "(506, 169)"
      ]
     },
     "execution_count": 152,
     "metadata": {},
     "output_type": "execute_result"
    }
   ],
   "source": [
    "conoceme.shape"
   ]
  },
  {
   "cell_type": "code",
   "execution_count": 153,
   "metadata": {},
   "outputs": [],
   "source": [
    "conoceme.to_excel('CONSOLIDADO_FICHAS_20201027.xlsx', index=False)\n",
    "conoceme.to_csv('CONSOLIDADO_FICHAS_20201027.csv', index=False)"
   ]
  },
  {
   "cell_type": "code",
   "execution_count": null,
   "metadata": {},
   "outputs": [],
   "source": []
  },
  {
   "cell_type": "code",
   "execution_count": null,
   "metadata": {},
   "outputs": [],
   "source": [
    "conoceme"
   ]
  }
 ],
 "metadata": {
  "kernelspec": {
   "display_name": "Python 3",
   "language": "python",
   "name": "python3"
  },
  "language_info": {
   "codemirror_mode": {
    "name": "ipython",
    "version": 3
   },
   "file_extension": ".py",
   "mimetype": "text/x-python",
   "name": "python",
   "nbconvert_exporter": "python",
   "pygments_lexer": "ipython3",
   "version": "3.7.6"
  }
 },
 "nbformat": 4,
 "nbformat_minor": 4
}
