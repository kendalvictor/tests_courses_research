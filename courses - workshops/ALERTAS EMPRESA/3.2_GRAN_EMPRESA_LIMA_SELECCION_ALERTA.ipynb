{
 "cells": [
  {
   "cell_type": "code",
   "execution_count": 1,
   "metadata": {},
   "outputs": [
    {
     "name": "stdout",
     "output_type": "stream",
     "text": [
      "EJEMPLO:\n",
      "202104 mes cerrado de la cosecha de 202104 [202011, 202012, 202101, 202102, 202103, 202104] [202102, 202103, 202104] \n",
      " historia \n",
      " [202005, 202006, 202007, 202008, 202009, 202010, 202011, 202012, 202101, 202102, 202103, 202104] \n",
      " ---------------------------------------------------------------------------------------------------- \n",
      " [202105, 202106] \n",
      " ---------------------------------------------------------------------------------------------------- \n",
      " [202005, 202006]\n"
     ]
    }
   ],
   "source": [
    "# Nativos\n",
    "import random as rn\n",
    "import os\n",
    "import sys\n",
    "import gc\n",
    "import time\n",
    "\n",
    "#calculo\n",
    "import numpy as np\n",
    "import pandas as pd\n",
    "import scipy\n",
    "\n",
    "#grafico\n",
    "import matplotlib.pyplot as plt\n",
    "import seaborn as sns\n",
    "from IPython.display import display\n",
    "%matplotlib inline\n",
    "sns.set(style=\"whitegrid\")\n",
    "\n",
    "#warning ignore future\n",
    "import warnings\n",
    "# warnings.simplefilter(action='ignore', category=FutureWarning)\n",
    "warnings.filterwarnings(\"ignore\")\n",
    "gc.collect()\n",
    "\n",
    "SEED = int(time.time() / 1000)\n",
    "os.environ['PYTHONHASHSEED'] = str(SEED)\n",
    "np.random.seed(SEED)\n",
    "rn.seed(SEED)\n",
    "\n",
    "from utils_alertas import *"
   ]
  },
  {
   "cell_type": "code",
   "execution_count": 2,
   "metadata": {},
   "outputs": [
    {
     "data": {
      "text/html": [
       "<div>\n",
       "<style scoped>\n",
       "    .dataframe tbody tr th:only-of-type {\n",
       "        vertical-align: middle;\n",
       "    }\n",
       "\n",
       "    .dataframe tbody tr th {\n",
       "        vertical-align: top;\n",
       "    }\n",
       "\n",
       "    .dataframe thead th {\n",
       "        text-align: right;\n",
       "    }\n",
       "</style>\n",
       "<table border=\"1\" class=\"dataframe\">\n",
       "  <thead>\n",
       "    <tr style=\"text-align: right;\">\n",
       "      <th></th>\n",
       "      <th>ADEX_PROM_U12M_ACTUAL_IMP_OVER_12M_PASADO_MENOR_0.5</th>\n",
       "      <th>_aux_TRX_SUBIDA_30PERCENT_TRANSFERENCIAS__CASH_OUT_MES_ANT</th>\n",
       "      <th>_75_cut_up_ROTACION_CTASXCOBRAR_VAR_DIAS_CEF_SITUACION</th>\n",
       "      <th>FUNNEL_ALERTA</th>\n",
       "      <th>_aux_TRX_CAIDA_10PERCENT_OPERACIONES_MESA__MES_ANT</th>\n",
       "      <th>DEBT_IN_SF_ULT_RCC_x</th>\n",
       "      <th>_0_cut_up_TENDENCIA_PERCENT_NO_CLASIF_NORMAL_GRUPO_ECON_U7M</th>\n",
       "      <th>TIENE_IMPORTE_TRIB_U1M_OVER_U12M_MAYOR_1</th>\n",
       "      <th>ADEX_MAYOR_U3M_IMP</th>\n",
       "      <th>ACTIVIDAD__Comercio</th>\n",
       "      <th>...</th>\n",
       "      <th>_5_cut_up_NUM_MESES_SIN_LINEA_VIGENTE</th>\n",
       "      <th>_2_cut_up_NUM_DOCS_PROT_PROMEDIO_U9M</th>\n",
       "      <th>_1_cut_up_NUM_DOCS_PROT_U6M</th>\n",
       "      <th>_1_cut_up_NUM_DOCS_TRIB_U12M</th>\n",
       "      <th>_2_cut_up_NUM_DOCS_IMPAG_PROMEDIO_U6M</th>\n",
       "      <th>_3_cut_up_NUM_DOCS_IMPAG_U12M</th>\n",
       "      <th>_1_cut_up_NUM_DOCS_LAB_U6M</th>\n",
       "      <th>_1_cut_up_NUM_DOCS_TRIB_PROMEDIO_U9M</th>\n",
       "      <th>cut_letal_SUBSECTOR_s2_provincia</th>\n",
       "      <th>_2_cut_up_NUM_DOCS_IMPAG_PROMEDIO_U9M</th>\n",
       "    </tr>\n",
       "  </thead>\n",
       "  <tbody>\n",
       "    <tr>\n",
       "      <th>0</th>\n",
       "      <td>0.0</td>\n",
       "      <td>0.0</td>\n",
       "      <td>1.0</td>\n",
       "      <td>NaN</td>\n",
       "      <td>0.0</td>\n",
       "      <td>9253118.94</td>\n",
       "      <td>0.0</td>\n",
       "      <td>0.0</td>\n",
       "      <td>0.0</td>\n",
       "      <td>0</td>\n",
       "      <td>...</td>\n",
       "      <td>0.0</td>\n",
       "      <td>0.0</td>\n",
       "      <td>0.0</td>\n",
       "      <td>0.0</td>\n",
       "      <td>0.0</td>\n",
       "      <td>1.0</td>\n",
       "      <td>0.0</td>\n",
       "      <td>0.0</td>\n",
       "      <td>0.0</td>\n",
       "      <td>0.0</td>\n",
       "    </tr>\n",
       "    <tr>\n",
       "      <th>1</th>\n",
       "      <td>0.0</td>\n",
       "      <td>0.0</td>\n",
       "      <td>1.0</td>\n",
       "      <td>NaN</td>\n",
       "      <td>0.0</td>\n",
       "      <td>521627.95</td>\n",
       "      <td>0.0</td>\n",
       "      <td>0.0</td>\n",
       "      <td>1.0</td>\n",
       "      <td>1</td>\n",
       "      <td>...</td>\n",
       "      <td>0.0</td>\n",
       "      <td>0.0</td>\n",
       "      <td>0.0</td>\n",
       "      <td>0.0</td>\n",
       "      <td>0.0</td>\n",
       "      <td>0.0</td>\n",
       "      <td>0.0</td>\n",
       "      <td>0.0</td>\n",
       "      <td>0.0</td>\n",
       "      <td>0.0</td>\n",
       "    </tr>\n",
       "    <tr>\n",
       "      <th>2</th>\n",
       "      <td>0.0</td>\n",
       "      <td>0.0</td>\n",
       "      <td>0.0</td>\n",
       "      <td>NaN</td>\n",
       "      <td>0.0</td>\n",
       "      <td>48350156.96</td>\n",
       "      <td>0.0</td>\n",
       "      <td>0.0</td>\n",
       "      <td>1.0</td>\n",
       "      <td>0</td>\n",
       "      <td>...</td>\n",
       "      <td>0.0</td>\n",
       "      <td>0.0</td>\n",
       "      <td>0.0</td>\n",
       "      <td>0.0</td>\n",
       "      <td>0.0</td>\n",
       "      <td>0.0</td>\n",
       "      <td>0.0</td>\n",
       "      <td>0.0</td>\n",
       "      <td>0.0</td>\n",
       "      <td>0.0</td>\n",
       "    </tr>\n",
       "    <tr>\n",
       "      <th>3</th>\n",
       "      <td>0.0</td>\n",
       "      <td>1.0</td>\n",
       "      <td>0.0</td>\n",
       "      <td>NaN</td>\n",
       "      <td>0.0</td>\n",
       "      <td>24993499.25</td>\n",
       "      <td>0.0</td>\n",
       "      <td>0.0</td>\n",
       "      <td>0.0</td>\n",
       "      <td>0</td>\n",
       "      <td>...</td>\n",
       "      <td>1.0</td>\n",
       "      <td>0.0</td>\n",
       "      <td>0.0</td>\n",
       "      <td>0.0</td>\n",
       "      <td>0.0</td>\n",
       "      <td>0.0</td>\n",
       "      <td>0.0</td>\n",
       "      <td>0.0</td>\n",
       "      <td>0.0</td>\n",
       "      <td>0.0</td>\n",
       "    </tr>\n",
       "    <tr>\n",
       "      <th>4</th>\n",
       "      <td>0.0</td>\n",
       "      <td>0.0</td>\n",
       "      <td>0.0</td>\n",
       "      <td>NaN</td>\n",
       "      <td>0.0</td>\n",
       "      <td>973224.29</td>\n",
       "      <td>0.0</td>\n",
       "      <td>0.0</td>\n",
       "      <td>1.0</td>\n",
       "      <td>0</td>\n",
       "      <td>...</td>\n",
       "      <td>0.0</td>\n",
       "      <td>0.0</td>\n",
       "      <td>1.0</td>\n",
       "      <td>0.0</td>\n",
       "      <td>0.0</td>\n",
       "      <td>1.0</td>\n",
       "      <td>0.0</td>\n",
       "      <td>0.0</td>\n",
       "      <td>0.0</td>\n",
       "      <td>0.0</td>\n",
       "    </tr>\n",
       "  </tbody>\n",
       "</table>\n",
       "<p>5 rows × 3638 columns</p>\n",
       "</div>"
      ],
      "text/plain": [
       "   ADEX_PROM_U12M_ACTUAL_IMP_OVER_12M_PASADO_MENOR_0.5  \\\n",
       "0                                                0.0     \n",
       "1                                                0.0     \n",
       "2                                                0.0     \n",
       "3                                                0.0     \n",
       "4                                                0.0     \n",
       "\n",
       "   _aux_TRX_SUBIDA_30PERCENT_TRANSFERENCIAS__CASH_OUT_MES_ANT  \\\n",
       "0                                                0.0            \n",
       "1                                                0.0            \n",
       "2                                                0.0            \n",
       "3                                                1.0            \n",
       "4                                                0.0            \n",
       "\n",
       "   _75_cut_up_ROTACION_CTASXCOBRAR_VAR_DIAS_CEF_SITUACION  FUNNEL_ALERTA  \\\n",
       "0                                                1.0                 NaN   \n",
       "1                                                1.0                 NaN   \n",
       "2                                                0.0                 NaN   \n",
       "3                                                0.0                 NaN   \n",
       "4                                                0.0                 NaN   \n",
       "\n",
       "   _aux_TRX_CAIDA_10PERCENT_OPERACIONES_MESA__MES_ANT  DEBT_IN_SF_ULT_RCC_x  \\\n",
       "0                                                0.0             9253118.94   \n",
       "1                                                0.0              521627.95   \n",
       "2                                                0.0            48350156.96   \n",
       "3                                                0.0            24993499.25   \n",
       "4                                                0.0              973224.29   \n",
       "\n",
       "   _0_cut_up_TENDENCIA_PERCENT_NO_CLASIF_NORMAL_GRUPO_ECON_U7M  \\\n",
       "0                                                0.0             \n",
       "1                                                0.0             \n",
       "2                                                0.0             \n",
       "3                                                0.0             \n",
       "4                                                0.0             \n",
       "\n",
       "   TIENE_IMPORTE_TRIB_U1M_OVER_U12M_MAYOR_1  ADEX_MAYOR_U3M_IMP  \\\n",
       "0                                       0.0                 0.0   \n",
       "1                                       0.0                 1.0   \n",
       "2                                       0.0                 1.0   \n",
       "3                                       0.0                 0.0   \n",
       "4                                       0.0                 1.0   \n",
       "\n",
       "   ACTIVIDAD__Comercio  ...  _5_cut_up_NUM_MESES_SIN_LINEA_VIGENTE  \\\n",
       "0                    0  ...                                    0.0   \n",
       "1                    1  ...                                    0.0   \n",
       "2                    0  ...                                    0.0   \n",
       "3                    0  ...                                    1.0   \n",
       "4                    0  ...                                    0.0   \n",
       "\n",
       "   _2_cut_up_NUM_DOCS_PROT_PROMEDIO_U9M  _1_cut_up_NUM_DOCS_PROT_U6M  \\\n",
       "0                                   0.0                          0.0   \n",
       "1                                   0.0                          0.0   \n",
       "2                                   0.0                          0.0   \n",
       "3                                   0.0                          0.0   \n",
       "4                                   0.0                          1.0   \n",
       "\n",
       "   _1_cut_up_NUM_DOCS_TRIB_U12M  _2_cut_up_NUM_DOCS_IMPAG_PROMEDIO_U6M  \\\n",
       "0                           0.0                                    0.0   \n",
       "1                           0.0                                    0.0   \n",
       "2                           0.0                                    0.0   \n",
       "3                           0.0                                    0.0   \n",
       "4                           0.0                                    0.0   \n",
       "\n",
       "   _3_cut_up_NUM_DOCS_IMPAG_U12M  _1_cut_up_NUM_DOCS_LAB_U6M  \\\n",
       "0                            1.0                         0.0   \n",
       "1                            0.0                         0.0   \n",
       "2                            0.0                         0.0   \n",
       "3                            0.0                         0.0   \n",
       "4                            1.0                         0.0   \n",
       "\n",
       "   _1_cut_up_NUM_DOCS_TRIB_PROMEDIO_U9M  cut_letal_SUBSECTOR_s2_provincia  \\\n",
       "0                                   0.0                               0.0   \n",
       "1                                   0.0                               0.0   \n",
       "2                                   0.0                               0.0   \n",
       "3                                   0.0                               0.0   \n",
       "4                                   0.0                               0.0   \n",
       "\n",
       "   _2_cut_up_NUM_DOCS_IMPAG_PROMEDIO_U9M  \n",
       "0                                    0.0  \n",
       "1                                    0.0  \n",
       "2                                    0.0  \n",
       "3                                    0.0  \n",
       "4                                    0.0  \n",
       "\n",
       "[5 rows x 3638 columns]"
      ]
     },
     "execution_count": 2,
     "metadata": {},
     "output_type": "execute_result"
    }
   ],
   "source": [
    "data = pd.read_csv('AVANCE_6.csv', dtype={\n",
    "    'COD_UNICO': str,\n",
    "    'PERIODO': str\n",
    "})\n",
    "data.head()"
   ]
  },
  {
   "cell_type": "code",
   "execution_count": 3,
   "metadata": {},
   "outputs": [
    {
     "data": {
      "text/plain": [
       "(True, True)"
      ]
     },
     "execution_count": 3,
     "metadata": {},
     "output_type": "execute_result"
    }
   ],
   "source": [
    "'COD_UNICO' in data.columns, 'PERIODO' in data.columns, "
   ]
  },
  {
   "cell_type": "code",
   "execution_count": 4,
   "metadata": {},
   "outputs": [
    {
     "name": "stdout",
     "output_type": "stream",
     "text": [
      "(24014, 3638)\n",
      "(2488, 3638)\n"
     ]
    }
   ],
   "source": [
    "print(data.shape)\n",
    "data = filtro_banca_gran(data)\n",
    "print(data.shape)"
   ]
  },
  {
   "cell_type": "code",
   "execution_count": 5,
   "metadata": {},
   "outputs": [
    {
     "data": {
      "text/html": [
       "<div>\n",
       "<style scoped>\n",
       "    .dataframe tbody tr th:only-of-type {\n",
       "        vertical-align: middle;\n",
       "    }\n",
       "\n",
       "    .dataframe tbody tr th {\n",
       "        vertical-align: top;\n",
       "    }\n",
       "\n",
       "    .dataframe thead th {\n",
       "        text-align: right;\n",
       "    }\n",
       "</style>\n",
       "<table border=\"1\" class=\"dataframe\">\n",
       "  <thead>\n",
       "    <tr style=\"text-align: right;\">\n",
       "      <th>ZONAL</th>\n",
       "      <th>BEL ZONAL 1</th>\n",
       "      <th>BEL ZONAL 3</th>\n",
       "    </tr>\n",
       "    <tr>\n",
       "      <th>PERIODO</th>\n",
       "      <th></th>\n",
       "      <th></th>\n",
       "    </tr>\n",
       "  </thead>\n",
       "  <tbody>\n",
       "    <tr>\n",
       "      <th>202009</th>\n",
       "      <td>215</td>\n",
       "      <td>203</td>\n",
       "    </tr>\n",
       "    <tr>\n",
       "      <th>202010</th>\n",
       "      <td>214</td>\n",
       "      <td>203</td>\n",
       "    </tr>\n",
       "    <tr>\n",
       "      <th>202011</th>\n",
       "      <td>215</td>\n",
       "      <td>200</td>\n",
       "    </tr>\n",
       "    <tr>\n",
       "      <th>202012</th>\n",
       "      <td>216</td>\n",
       "      <td>200</td>\n",
       "    </tr>\n",
       "    <tr>\n",
       "      <th>202101</th>\n",
       "      <td>212</td>\n",
       "      <td>198</td>\n",
       "    </tr>\n",
       "    <tr>\n",
       "      <th>202102</th>\n",
       "      <td>212</td>\n",
       "      <td>200</td>\n",
       "    </tr>\n",
       "  </tbody>\n",
       "</table>\n",
       "</div>"
      ],
      "text/plain": [
       "ZONAL    BEL ZONAL 1  BEL ZONAL 3\n",
       "PERIODO                          \n",
       "202009           215          203\n",
       "202010           214          203\n",
       "202011           215          200\n",
       "202012           216          200\n",
       "202101           212          198\n",
       "202102           212          200"
      ]
     },
     "execution_count": 5,
     "metadata": {},
     "output_type": "execute_result"
    }
   ],
   "source": [
    "pd.crosstab(\n",
    "    data['PERIODO'], data['ZONAL']\n",
    ")"
   ]
  },
  {
   "cell_type": "markdown",
   "metadata": {},
   "source": [
    "### CREACION DE COLUMNAS A MEZCLAR"
   ]
  },
  {
   "cell_type": "code",
   "execution_count": 6,
   "metadata": {},
   "outputs": [
    {
     "name": "stdout",
     "output_type": "stream",
     "text": [
      "2344\n"
     ]
    }
   ],
   "source": [
    "cols_combine = [col for col in data.columns if set(data[col].unique()) == {1, 0} if '1_and_1' not in col]\n",
    "print(len(cols_combine))"
   ]
  },
  {
   "cell_type": "code",
   "execution_count": 7,
   "metadata": {},
   "outputs": [
    {
     "name": "stdout",
     "output_type": "stream",
     "text": [
      "2259\n"
     ]
    }
   ],
   "source": [
    "cols_combine = \\\n",
    "    [col for col in cols_combine if 'SCOTIA' not in col.upper() \\\n",
    "                                 and 'BCP' not in col.upper() \\\n",
    "                                 and 'BBVA' not in col.upper() \\\n",
    "                                 and 'BIF' not in col.upper() \\\n",
    "                                 and '%' not in col.upper() \\\n",
    "                                 and 'COVID' not in col.upper() \\\n",
    "                                 and 'REFIN' not in col.upper() \n",
    "    ]\n",
    "print(len(cols_combine))"
   ]
  },
  {
   "cell_type": "code",
   "execution_count": 8,
   "metadata": {},
   "outputs": [
    {
     "data": {
      "text/plain": [
       "2258"
      ]
     },
     "execution_count": 8,
     "metadata": {},
     "output_type": "execute_result"
    }
   ],
   "source": [
    "for col in ['cambio_seguir_covid'] + [col for col in data.columns if 'target' in col.lower()]:\n",
    "    if col in cols_combine:\n",
    "        cols_combine.remove(col)\n",
    "\n",
    "len(cols_combine)"
   ]
  },
  {
   "cell_type": "code",
   "execution_count": null,
   "metadata": {},
   "outputs": [],
   "source": []
  },
  {
   "cell_type": "markdown",
   "metadata": {},
   "source": [
    "### GENERACION DE ALERTAS"
   ]
  },
  {
   "cell_type": "code",
   "execution_count": 9,
   "metadata": {},
   "outputs": [
    {
     "data": {
      "text/html": [
       "<div>\n",
       "<style scoped>\n",
       "    .dataframe tbody tr th:only-of-type {\n",
       "        vertical-align: middle;\n",
       "    }\n",
       "\n",
       "    .dataframe tbody tr th {\n",
       "        vertical-align: top;\n",
       "    }\n",
       "\n",
       "    .dataframe thead th {\n",
       "        text-align: right;\n",
       "    }\n",
       "</style>\n",
       "<table border=\"1\" class=\"dataframe\">\n",
       "  <thead>\n",
       "    <tr style=\"text-align: right;\">\n",
       "      <th></th>\n",
       "      <th></th>\n",
       "      <th></th>\n",
       "      <th></th>\n",
       "      <th></th>\n",
       "      <th>VAR_1</th>\n",
       "      <th>VAR_2</th>\n",
       "      <th>VAR_3</th>\n",
       "      <th>CASOS</th>\n",
       "      <th>CORRECTOS</th>\n",
       "      <th>SCORE</th>\n",
       "    </tr>\n",
       "  </thead>\n",
       "  <tbody>\n",
       "    <tr>\n",
       "      <th>_aux_TRX_CAIDA_30PERCENT_POS__U6M</th>\n",
       "      <th>_2_cut_up_NUM_BANCOS_NOIBK_DEBT_SUBIDA_SEGUIDA_DE_U3M</th>\n",
       "      <th>NaN</th>\n",
       "      <th>6</th>\n",
       "      <th>2</th>\n",
       "      <td>0.3333333333333333_aux_TRX_CAIDA_50PERCENT_DEP...</td>\n",
       "      <td>TIENE_1_O_MAS_GRUPO_ECON_VPC_NO_CLASIF_NORMAL</td>\n",
       "      <td>_0.2_cut_down_minimo_percent_sow_ibk_u12m</td>\n",
       "      <td>7.0</td>\n",
       "      <td>3.0</td>\n",
       "      <td>0.428571</td>\n",
       "    </tr>\n",
       "    <tr>\n",
       "      <th>_aux_CASHOUT_CAIDA_30PERCENT_PAGO_DE_SERVICIOS__U12M</th>\n",
       "      <th>IMPORTE_IMPAG_REGISTRADO_MAYOR_A_MIL_SOLES</th>\n",
       "      <th>_1.19_cut_up_ROTACION_CTASXCOBRAR_VAR_CEF_SITUACION</th>\n",
       "      <th>10</th>\n",
       "      <th>5</th>\n",
       "      <td>0.5</td>\n",
       "      <td>NaN</td>\n",
       "      <td>NaN</td>\n",
       "      <td>NaN</td>\n",
       "      <td>NaN</td>\n",
       "      <td>NaN</td>\n",
       "    </tr>\n",
       "    <tr>\n",
       "      <th>_aux_CASHOUT_CAIDA_20PERCENT_OPERACIONES_MESA__U12M</th>\n",
       "      <th>sei_letal_gran_empresa</th>\n",
       "      <th>NaN</th>\n",
       "      <th>11</th>\n",
       "      <th>5</th>\n",
       "      <td>0.45454545454545453</td>\n",
       "      <td>NaN</td>\n",
       "      <td>NaN</td>\n",
       "      <td>NaN</td>\n",
       "      <td>NaN</td>\n",
       "      <td>NaN</td>\n",
       "    </tr>\n",
       "    <tr>\n",
       "      <th>_aux_TRX_CAIDA_20PERCENT_TRANSFERENCIAS__U6M</th>\n",
       "      <th>_5_cut_up_NUM_MESES_CON_ATRASO_U6M_COLDIRECT_SF</th>\n",
       "      <th>NaN</th>\n",
       "      <th>15</th>\n",
       "      <th>8</th>\n",
       "      <td>0.5333333333333333</td>\n",
       "      <td>NaN</td>\n",
       "      <td>NaN</td>\n",
       "      <td>NaN</td>\n",
       "      <td>NaN</td>\n",
       "      <td>NaN</td>\n",
       "    </tr>\n",
       "    <tr>\n",
       "      <th>_1_cut_up_NUM_BANCOS_NOIBK_DEBT_MAYOR_DE_U3M</th>\n",
       "      <th>_5_cut_up_NUM_MESES_CON_ATRASO_U6M_COLDIRECT_SF</th>\n",
       "      <th>NaN</th>\n",
       "      <th>13</th>\n",
       "      <th>7</th>\n",
       "      <td>0.5384615384615384</td>\n",
       "      <td>NaN</td>\n",
       "      <td>NaN</td>\n",
       "      <td>NaN</td>\n",
       "      <td>NaN</td>\n",
       "      <td>NaN</td>\n",
       "    </tr>\n",
       "    <tr>\n",
       "      <th>_aux_TIENE_TRX_POS__U12M</th>\n",
       "      <th>_0.3_cut_down_minimo_percent_auto_hipo_pren_u12m</th>\n",
       "      <th>NaN</th>\n",
       "      <th>11</th>\n",
       "      <th>6</th>\n",
       "      <td>0.5454545454545454</td>\n",
       "      <td>NaN</td>\n",
       "      <td>NaN</td>\n",
       "      <td>NaN</td>\n",
       "      <td>NaN</td>\n",
       "      <td>NaN</td>\n",
       "    </tr>\n",
       "    <tr>\n",
       "      <th>TIENE_MAS_DE_1_MES_SIN_PAGOS_MASIVOS__CASHOUT</th>\n",
       "      <th>_0.3_cut_down_maximo_percent_ibk_u12m</th>\n",
       "      <th>_aux_TRX_CAIDA_30PERCENT_OTROS_NO_TABLERO_MES_ANT</th>\n",
       "      <th>7</th>\n",
       "      <th>3</th>\n",
       "      <td>0.42857142857142855</td>\n",
       "      <td>NaN</td>\n",
       "      <td>NaN</td>\n",
       "      <td>NaN</td>\n",
       "      <td>NaN</td>\n",
       "      <td>NaN</td>\n",
       "    </tr>\n",
       "    <tr>\n",
       "      <th>_0.1_cut_down_minimo_percent_auto_hipo_u12m</th>\n",
       "      <th>_3_cut_up_NUM_MESES_CON_ATRASO_U6M_COLDIRECT_SF</th>\n",
       "      <th>NaN</th>\n",
       "      <th>13</th>\n",
       "      <th>6</th>\n",
       "      <td>0.46153846153846156</td>\n",
       "      <td>NaN</td>\n",
       "      <td>NaN</td>\n",
       "      <td>NaN</td>\n",
       "      <td>NaN</td>\n",
       "      <td>NaN</td>\n",
       "    </tr>\n",
       "    <tr>\n",
       "      <th>_4_cut_up_MAX_DIAS_ATRASO_SFSF_ULT_RCC</th>\n",
       "      <th>TIENE_DISMINUCION_PAGO_PROVEEDORES_60PERCENT_A_MAS_U7M</th>\n",
       "      <th>NaN</th>\n",
       "      <th>7</th>\n",
       "      <th>3</th>\n",
       "      <td>0.42857142857142855</td>\n",
       "      <td>NaN</td>\n",
       "      <td>NaN</td>\n",
       "      <td>NaN</td>\n",
       "      <td>NaN</td>\n",
       "      <td>NaN</td>\n",
       "    </tr>\n",
       "    <tr>\n",
       "      <th>_1_cut_up_NUM_MESES_SIN_LINEA_VIGENTE</th>\n",
       "      <th>_aux_TRX_CAIDA_10PERCENT_POS__U11M</th>\n",
       "      <th>NaN</th>\n",
       "      <th>7</th>\n",
       "      <th>4</th>\n",
       "      <td>0.5714285714285714</td>\n",
       "      <td>NaN</td>\n",
       "      <td>NaN</td>\n",
       "      <td>NaN</td>\n",
       "      <td>NaN</td>\n",
       "      <td>NaN</td>\n",
       "    </tr>\n",
       "    <tr>\n",
       "      <th>TIENE_DISMINUCION_10PERCENT_A_MAS_CANT_TRX_CASHOUT_MES_ANT</th>\n",
       "      <th>_6_cut_up_ATRASO_PROM_U12M_COLDIRECT_VIG_VENC_SF</th>\n",
       "      <th>NaN</th>\n",
       "      <th>14</th>\n",
       "      <th>6</th>\n",
       "      <td>0.42857142857142855</td>\n",
       "      <td>NaN</td>\n",
       "      <td>NaN</td>\n",
       "      <td>NaN</td>\n",
       "      <td>NaN</td>\n",
       "      <td>NaN</td>\n",
       "    </tr>\n",
       "    <tr>\n",
       "      <th>_aux_TRX_CAIDA_40PERCENT_POS__U11M</th>\n",
       "      <th>TIENE_MAS_DE_2_MESES_SIN_OPERACIONES_MESA__CASHOUT</th>\n",
       "      <th>NaN</th>\n",
       "      <th>8</th>\n",
       "      <th>4</th>\n",
       "      <td>0.5</td>\n",
       "      <td>NaN</td>\n",
       "      <td>NaN</td>\n",
       "      <td>NaN</td>\n",
       "      <td>NaN</td>\n",
       "      <td>NaN</td>\n",
       "    </tr>\n",
       "    <tr>\n",
       "      <th>ADEX_MIN_U6M_ACTUAL_EXP_OVER_12M_PASADO_MENOR_1</th>\n",
       "      <th>_0.6_cut_up_ROTACION_CTASXCOBRAR_VAR_CEF_SITUACION</th>\n",
       "      <th>_65_cut_up_ROTACION_INVENTARIOS_VAR_DIAS_CEF_SITUACION</th>\n",
       "      <th>7</th>\n",
       "      <th>3</th>\n",
       "      <td>0.42857142857142855</td>\n",
       "      <td>NaN</td>\n",
       "      <td>NaN</td>\n",
       "      <td>NaN</td>\n",
       "      <td>NaN</td>\n",
       "      <td>NaN</td>\n",
       "    </tr>\n",
       "    <tr>\n",
       "      <th>_5_cut_up_MAX_DIAS_ATRASO</th>\n",
       "      <th>_aux_TRX_CAIDA_30PERCENT_PAGOS_RECIBIDOS__U6M</th>\n",
       "      <th>NaN</th>\n",
       "      <th>7</th>\n",
       "      <th>3</th>\n",
       "      <td>0.42857142857142855</td>\n",
       "      <td>NaN</td>\n",
       "      <td>NaN</td>\n",
       "      <td>NaN</td>\n",
       "      <td>NaN</td>\n",
       "      <td>NaN</td>\n",
       "    </tr>\n",
       "    <tr>\n",
       "      <th>_4_cut_up_NUM_MESES_CON_ATRASO_U6M_COLDIRECT_SF</th>\n",
       "      <th>_0.6_cut_up_maximo_percent_sow_others_u12m</th>\n",
       "      <th>NaN</th>\n",
       "      <th>19</th>\n",
       "      <th>8</th>\n",
       "      <td>0.42105263157894735</td>\n",
       "      <td>NaN</td>\n",
       "      <td>NaN</td>\n",
       "      <td>NaN</td>\n",
       "      <td>NaN</td>\n",
       "      <td>NaN</td>\n",
       "    </tr>\n",
       "    <tr>\n",
       "      <th>ADEX_MIN_U3M_ACTUAL_IMP_OVER_12M_PASADO_MENOR_0.8</th>\n",
       "      <th>_4_cut_up_NUM_MESES_SIN_LINEA_VIGENTE</th>\n",
       "      <th>NaN</th>\n",
       "      <th>16</th>\n",
       "      <th>7</th>\n",
       "      <td>0.4375</td>\n",
       "      <td>NaN</td>\n",
       "      <td>NaN</td>\n",
       "      <td>NaN</td>\n",
       "      <td>NaN</td>\n",
       "      <td>NaN</td>\n",
       "    </tr>\n",
       "    <tr>\n",
       "      <th>_2_cut_up_NUM_BANCOS_PRIN_DEUDASF_ULT_RCC</th>\n",
       "      <th>_2_cut_up_MAX_DIAS_ATRASO_SF</th>\n",
       "      <th>FLG_VENCIDA</th>\n",
       "      <th>28</th>\n",
       "      <th>12</th>\n",
       "      <td>0.42857142857142855</td>\n",
       "      <td>NaN</td>\n",
       "      <td>NaN</td>\n",
       "      <td>NaN</td>\n",
       "      <td>NaN</td>\n",
       "      <td>NaN</td>\n",
       "    </tr>\n",
       "    <tr>\n",
       "      <th>_2_cut_up_MAX_DIAS_ATRASO_SF</th>\n",
       "      <th>FLG_VENCIDA</th>\n",
       "      <th>NaN</th>\n",
       "      <th>29</th>\n",
       "      <th>13</th>\n",
       "      <td>0.4482758620689655</td>\n",
       "      <td>NaN</td>\n",
       "      <td>NaN</td>\n",
       "      <td>NaN</td>\n",
       "      <td>NaN</td>\n",
       "      <td>NaN</td>\n",
       "    </tr>\n",
       "    <tr>\n",
       "      <th>TIENE_DEUDA_PRESTAMOS_VIGENTE_RCC</th>\n",
       "      <th>_1_cut_up_NUM_BANCOS_PRIN_CON_DIAS_ATRASO_MAYOR_4SF_ULT_RCC</th>\n",
       "      <th>NaN</th>\n",
       "      <th>16</th>\n",
       "      <th>7</th>\n",
       "      <td>0.4375</td>\n",
       "      <td>NaN</td>\n",
       "      <td>NaN</td>\n",
       "      <td>NaN</td>\n",
       "      <td>NaN</td>\n",
       "      <td>NaN</td>\n",
       "    </tr>\n",
       "    <tr>\n",
       "      <th>IMPORTE_IMPAG_REGISTRADO_MAYOR_A_15MIL_SOLES</th>\n",
       "      <th>_7_cut_up_ATRASO_PROM_U12M_COLDIRECT_VIG_VENC_SF</th>\n",
       "      <th>NaN</th>\n",
       "      <th>7</th>\n",
       "      <th>5</th>\n",
       "      <td>0.7142857142857143</td>\n",
       "      <td>NaN</td>\n",
       "      <td>NaN</td>\n",
       "      <td>NaN</td>\n",
       "      <td>NaN</td>\n",
       "      <td>NaN</td>\n",
       "    </tr>\n",
       "    <tr>\n",
       "      <th>TICKET_PROMEDIO_EN_RIESGO__Bucket_4_-_9.2_MM</th>\n",
       "      <th>_7_cut_up_ATRASO_PROM_U12M_COLDIRECT_VIG_VENC_SF</th>\n",
       "      <th>NaN</th>\n",
       "      <th>8</th>\n",
       "      <th>5</th>\n",
       "      <td>0.625</td>\n",
       "      <td>NaN</td>\n",
       "      <td>NaN</td>\n",
       "      <td>NaN</td>\n",
       "      <td>NaN</td>\n",
       "      <td>NaN</td>\n",
       "    </tr>\n",
       "    <tr>\n",
       "      <th rowspan=\"2\" valign=\"top\">TIENE_REACTIVA_1_2_CON_OTRAS_EF</th>\n",
       "      <th rowspan=\"2\" valign=\"top\">_4_cut_up_MAX_DIAS_ATRASO_SFSF_ULT_RCC</th>\n",
       "      <th>_2_cut_up_NUM_MESES_ANTERIORES_CON_PROTESTOS_CONSECUTIVOS_SIN_SEVERIDAD</th>\n",
       "      <th>7</th>\n",
       "      <th>3</th>\n",
       "      <td>0.42857142857142855</td>\n",
       "      <td>NaN</td>\n",
       "      <td>NaN</td>\n",
       "      <td>NaN</td>\n",
       "      <td>NaN</td>\n",
       "      <td>NaN</td>\n",
       "    </tr>\n",
       "    <tr>\n",
       "      <th>NaN</th>\n",
       "      <th>15</th>\n",
       "      <th>7</th>\n",
       "      <td>0.4666666666666667</td>\n",
       "      <td>NaN</td>\n",
       "      <td>NaN</td>\n",
       "      <td>NaN</td>\n",
       "      <td>NaN</td>\n",
       "      <td>NaN</td>\n",
       "    </tr>\n",
       "    <tr>\n",
       "      <th>sei_letal_gran_empresa</th>\n",
       "      <th>TIENE_MAS_DE_2_MESES_SIN_DEPOSITOS__CASHIN</th>\n",
       "      <th>NaN</th>\n",
       "      <th>7</th>\n",
       "      <th>4</th>\n",
       "      <td>0.5714285714285714</td>\n",
       "      <td>NaN</td>\n",
       "      <td>NaN</td>\n",
       "      <td>NaN</td>\n",
       "      <td>NaN</td>\n",
       "      <td>NaN</td>\n",
       "    </tr>\n",
       "    <tr>\n",
       "      <th rowspan=\"2\" valign=\"top\">NO_TIENE_GAR_AUTO_SF</th>\n",
       "      <th>_3_cut_down_F_Septile</th>\n",
       "      <th>_aux_TIENE_TRX_POS__U12M</th>\n",
       "      <th>14</th>\n",
       "      <th>6</th>\n",
       "      <td>0.42857142857142855</td>\n",
       "      <td>NaN</td>\n",
       "      <td>NaN</td>\n",
       "      <td>NaN</td>\n",
       "      <td>NaN</td>\n",
       "      <td>NaN</td>\n",
       "    </tr>\n",
       "    <tr>\n",
       "      <th>_aux_TIENE_TRX_POS__U12M</th>\n",
       "      <th>NaN</th>\n",
       "      <th>15</th>\n",
       "      <th>7</th>\n",
       "      <td>0.4666666666666667</td>\n",
       "      <td>NaN</td>\n",
       "      <td>NaN</td>\n",
       "      <td>NaN</td>\n",
       "      <td>NaN</td>\n",
       "      <td>NaN</td>\n",
       "    </tr>\n",
       "    <tr>\n",
       "      <th>_3_cut_down_F_Septile</th>\n",
       "      <th>_aux_TIENE_TRX_POS__U12M</th>\n",
       "      <th>NaN</th>\n",
       "      <th>17</th>\n",
       "      <th>7</th>\n",
       "      <td>0.4117647058823529</td>\n",
       "      <td>NaN</td>\n",
       "      <td>NaN</td>\n",
       "      <td>NaN</td>\n",
       "      <td>NaN</td>\n",
       "      <td>NaN</td>\n",
       "    </tr>\n",
       "    <tr>\n",
       "      <th>_1_cut_up_MAX_DIAS_ATRASO</th>\n",
       "      <th>TIENE_MAS_DE_1MES_SIN_LINEA_VIGENTE</th>\n",
       "      <th>NaN</th>\n",
       "      <th>10</th>\n",
       "      <th>5</th>\n",
       "      <td>0.5</td>\n",
       "      <td>NaN</td>\n",
       "      <td>NaN</td>\n",
       "      <td>NaN</td>\n",
       "      <td>NaN</td>\n",
       "      <td>NaN</td>\n",
       "    </tr>\n",
       "    <tr>\n",
       "      <th>ATRASO_PROM_ULT_TRIM_OVER_TRIM_PASADO_MENOR_0.8</th>\n",
       "      <th>_4_cut_up_NUM_MESES_CON_ATRASO_4diasomas_U6M_COLDIRECT_SF</th>\n",
       "      <th>NaN</th>\n",
       "      <th>7</th>\n",
       "      <th>4</th>\n",
       "      <td>0.5714285714285714</td>\n",
       "      <td>NaN</td>\n",
       "      <td>NaN</td>\n",
       "      <td>NaN</td>\n",
       "      <td>NaN</td>\n",
       "      <td>NaN</td>\n",
       "    </tr>\n",
       "    <tr>\n",
       "      <th>FLG_POSICION</th>\n",
       "      <th>_4_cut_up_NUM_MESES_CON_ATRASO_4diasomas_U6M_COLDIRECT_SF</th>\n",
       "      <th>NaN</th>\n",
       "      <th>10</th>\n",
       "      <th>7</th>\n",
       "      <td>0.7</td>\n",
       "      <td>NaN</td>\n",
       "      <td>NaN</td>\n",
       "      <td>NaN</td>\n",
       "      <td>NaN</td>\n",
       "      <td>NaN</td>\n",
       "    </tr>\n",
       "    <tr>\n",
       "      <th>_aux_TRX_CAIDA_20PERCENT_DEPOSITOS__U11M</th>\n",
       "      <th>TIENE_DISMINUCION_20PERCENT_A_MAS_CANT_TRX_PROM_U6M_U12M</th>\n",
       "      <th>TIENE_DISMINUCION_2_O_MAS_TIPOS_CASH_OUT_U3M</th>\n",
       "      <th>10</th>\n",
       "      <th>5</th>\n",
       "      <td>0.5</td>\n",
       "      <td>NaN</td>\n",
       "      <td>NaN</td>\n",
       "      <td>NaN</td>\n",
       "      <td>NaN</td>\n",
       "      <td>NaN</td>\n",
       "    </tr>\n",
       "    <tr>\n",
       "      <th>_4_cut_up_NUM_MESES_SIN_LINEA_VIGENTE</th>\n",
       "      <th>TIENE_DISMINUCION_15PERCENT_A_MAS_CANT_TRX_PROM_U6M_U12M</th>\n",
       "      <th>NaN</th>\n",
       "      <th>16</th>\n",
       "      <th>7</th>\n",
       "      <td>0.4375</td>\n",
       "      <td>NaN</td>\n",
       "      <td>NaN</td>\n",
       "      <td>NaN</td>\n",
       "      <td>NaN</td>\n",
       "      <td>NaN</td>\n",
       "    </tr>\n",
       "    <tr>\n",
       "      <th rowspan=\"3\" valign=\"top\">_9_cut_up_NUM_MESES_ANTERIORES_CON_PROTESTOS_CONSECUTIVOS_SIN_SEVERIDAD</th>\n",
       "      <th rowspan=\"2\" valign=\"top\">_3_cut_up_NUM_MESES_CON_ATRASO_U6M_COLDIRECT_SF</th>\n",
       "      <th>_1_cut_up_NUM_MESES_CON_ATRASO_4diasomas_U6M_COLDIRECT_SF</th>\n",
       "      <th>9</th>\n",
       "      <th>5</th>\n",
       "      <td>0.5555555555555556</td>\n",
       "      <td>NaN</td>\n",
       "      <td>NaN</td>\n",
       "      <td>NaN</td>\n",
       "      <td>NaN</td>\n",
       "      <td>NaN</td>\n",
       "    </tr>\n",
       "    <tr>\n",
       "      <th>NaN</th>\n",
       "      <th>9</th>\n",
       "      <th>5</th>\n",
       "      <td>0.5555555555555556</td>\n",
       "      <td>NaN</td>\n",
       "      <td>NaN</td>\n",
       "      <td>NaN</td>\n",
       "      <td>NaN</td>\n",
       "      <td>NaN</td>\n",
       "    </tr>\n",
       "    <tr>\n",
       "      <th>_1_cut_up_NUM_MESES_CON_ATRASO_4diasomas_U6M_COLDIRECT_SF</th>\n",
       "      <th>NaN</th>\n",
       "      <th>12</th>\n",
       "      <th>5</th>\n",
       "      <td>0.4166666666666667</td>\n",
       "      <td>NaN</td>\n",
       "      <td>NaN</td>\n",
       "      <td>NaN</td>\n",
       "      <td>NaN</td>\n",
       "      <td>NaN</td>\n",
       "    </tr>\n",
       "    <tr>\n",
       "      <th>_2_cut_up_ATRASO_PROM_U6M_COLDIRECT_VIG_VENC_SF</th>\n",
       "      <th>TIENE_IMPORTE_PROT_REGISTRADO_MES_ACTUAL</th>\n",
       "      <th>NaN</th>\n",
       "      <th>11</th>\n",
       "      <th>5</th>\n",
       "      <td>0.45454545454545453</td>\n",
       "      <td>NaN</td>\n",
       "      <td>NaN</td>\n",
       "      <td>NaN</td>\n",
       "      <td>NaN</td>\n",
       "      <td>NaN</td>\n",
       "    </tr>\n",
       "    <tr>\n",
       "      <th>_1_cut_up_ENDEUDAMIENTO_PAS_VEN_VAR_CEF_SITUACION</th>\n",
       "      <th>_aux_TIENE_TRX_OTROS_NO_TABLERO_U3M</th>\n",
       "      <th>NaN</th>\n",
       "      <th>11</th>\n",
       "      <th>5</th>\n",
       "      <td>0.45454545454545453</td>\n",
       "      <td>NaN</td>\n",
       "      <td>NaN</td>\n",
       "      <td>NaN</td>\n",
       "      <td>NaN</td>\n",
       "      <td>NaN</td>\n",
       "    </tr>\n",
       "    <tr>\n",
       "      <th>_0.89_cut_up_ROTACION_INVENTARIOS_VAR_CEF_SITUACION</th>\n",
       "      <th>_1_cut_up_ATRASO_PROM_U6M_COLDIRECT_VIG_VENC_SF</th>\n",
       "      <th>NaN</th>\n",
       "      <th>7</th>\n",
       "      <th>3</th>\n",
       "      <td>0.42857142857142855</td>\n",
       "      <td>NaN</td>\n",
       "      <td>NaN</td>\n",
       "      <td>NaN</td>\n",
       "      <td>NaN</td>\n",
       "      <td>NaN</td>\n",
       "    </tr>\n",
       "    <tr>\n",
       "      <th>SEI_MCDO__AGROPECUARIO</th>\n",
       "      <th>ADEX_MAX_U12M_ACTUAL_EXP_OVER_12M_PASADO_MENOR_1</th>\n",
       "      <th>NaN</th>\n",
       "      <th>7</th>\n",
       "      <th>3</th>\n",
       "      <td>0.42857142857142855</td>\n",
       "      <td>NaN</td>\n",
       "      <td>NaN</td>\n",
       "      <td>NaN</td>\n",
       "      <td>NaN</td>\n",
       "      <td>NaN</td>\n",
       "    </tr>\n",
       "    <tr>\n",
       "      <th rowspan=\"2\" valign=\"top\">_5_cut_up_NUM_BANCOS_PRIN_DEUDASF_ULT_RCC</th>\n",
       "      <th>TIENE_20PERCENT_O_MAS_SEI_VPC_FEVE_DRO</th>\n",
       "      <th>_3_cut_up_NUM_MESES_ANTERIORES_CON_IMPORTE_IMPAG_CONSECUTIVOS</th>\n",
       "      <th>7</th>\n",
       "      <th>3</th>\n",
       "      <td>0.42857142857142855</td>\n",
       "      <td>NaN</td>\n",
       "      <td>NaN</td>\n",
       "      <td>NaN</td>\n",
       "      <td>NaN</td>\n",
       "      <td>NaN</td>\n",
       "    </tr>\n",
       "    <tr>\n",
       "      <th>_3_cut_up_NUM_MESES_ANTERIORES_CON_IMPORTE_IMPAG_CONSECUTIVOS</th>\n",
       "      <th>NaN</th>\n",
       "      <th>7</th>\n",
       "      <th>3</th>\n",
       "      <td>0.42857142857142855</td>\n",
       "      <td>NaN</td>\n",
       "      <td>NaN</td>\n",
       "      <td>NaN</td>\n",
       "      <td>NaN</td>\n",
       "      <td>NaN</td>\n",
       "    </tr>\n",
       "    <tr>\n",
       "      <th>TIENE_MAS_DE_10MESES_SIN_LINEA_VIGENTE</th>\n",
       "      <th>_0.6_cut_up_SOW_OTROSBCOS_MIN_historia</th>\n",
       "      <th>NaN</th>\n",
       "      <th>7</th>\n",
       "      <th>3</th>\n",
       "      <td>0.42857142857142855</td>\n",
       "      <td>NaN</td>\n",
       "      <td>NaN</td>\n",
       "      <td>NaN</td>\n",
       "      <td>NaN</td>\n",
       "      <td>NaN</td>\n",
       "    </tr>\n",
       "    <tr>\n",
       "      <th>_-48_cut_down_DIFF_PROM_CANT_TRX_U6M_U12M_CASHOUT</th>\n",
       "      <th>ADEX_MIN_U12M_ACTUAL_IMP_OVER_12M_PASADO_MENOR_0.8</th>\n",
       "      <th>NaN</th>\n",
       "      <th>7</th>\n",
       "      <th>4</th>\n",
       "      <td>0.5714285714285714</td>\n",
       "      <td>NaN</td>\n",
       "      <td>NaN</td>\n",
       "      <td>NaN</td>\n",
       "      <td>NaN</td>\n",
       "      <td>NaN</td>\n",
       "    </tr>\n",
       "    <tr>\n",
       "      <th>_1_cut_up_NUM_MESES_ANTERIORES_CON_NUM_DOCS_TRIB_CONSECUTIVOS</th>\n",
       "      <th>_5500000.0_cut_up_MTO_DEUDA_VIGENTE_COLDIRECT_SIN_REATCIVA_SF</th>\n",
       "      <th>NaN</th>\n",
       "      <th>7</th>\n",
       "      <th>3</th>\n",
       "      <td>0.42857142857142855</td>\n",
       "      <td>NaN</td>\n",
       "      <td>NaN</td>\n",
       "      <td>NaN</td>\n",
       "      <td>NaN</td>\n",
       "      <td>NaN</td>\n",
       "    </tr>\n",
       "    <tr>\n",
       "      <th>_0_cut_up_TENDENCIA_DISMINUCION_CASHIN_U3M_U6M_U12M</th>\n",
       "      <th>_3_cut_up_MAX_DIAS_ATRASO</th>\n",
       "      <th>NaN</th>\n",
       "      <th>7</th>\n",
       "      <th>3</th>\n",
       "      <td>0.42857142857142855</td>\n",
       "      <td>NaN</td>\n",
       "      <td>NaN</td>\n",
       "      <td>NaN</td>\n",
       "      <td>NaN</td>\n",
       "      <td>NaN</td>\n",
       "    </tr>\n",
       "    <tr>\n",
       "      <th>_1_cut_up_NUM_BANCOS_PRIN_CON_DIAS_ATRASO_MAYOR_4SF_ULT_RCC</th>\n",
       "      <th>SEI_TIENE_TENDENCIA_AUMENTO_NO_CLASIF_NORMAL_U3M</th>\n",
       "      <th>NaN</th>\n",
       "      <th>12</th>\n",
       "      <th>6</th>\n",
       "      <td>0.5</td>\n",
       "      <td>NaN</td>\n",
       "      <td>NaN</td>\n",
       "      <td>NaN</td>\n",
       "      <td>NaN</td>\n",
       "      <td>NaN</td>\n",
       "    </tr>\n",
       "    <tr>\n",
       "      <th>_30_cut_up_ROTACION_INVENTARIOS_CEF_SITUACION</th>\n",
       "      <th>_3_cut_up_NUM_MESES_CON_ATRASO_4diasomas_U6M_COLDIRECT_SF</th>\n",
       "      <th>NaN</th>\n",
       "      <th>18</th>\n",
       "      <th>8</th>\n",
       "      <td>0.4444444444444444</td>\n",
       "      <td>NaN</td>\n",
       "      <td>NaN</td>\n",
       "      <td>NaN</td>\n",
       "      <td>NaN</td>\n",
       "      <td>NaN</td>\n",
       "    </tr>\n",
       "    <tr>\n",
       "      <th>_3_cut_up_NUM_MESES_CON_ATRASO_4diasomas_U6M_COLDIRECT_SF</th>\n",
       "      <th>_2_cut_up_NUM_BANCOS_NOIBK_DEBT_SUBIDA_SEGUIDA_DE_U3M</th>\n",
       "      <th>NaN</th>\n",
       "      <th>16</th>\n",
       "      <th>7</th>\n",
       "      <td>0.4375</td>\n",
       "      <td>NaN</td>\n",
       "      <td>NaN</td>\n",
       "      <td>NaN</td>\n",
       "      <td>NaN</td>\n",
       "      <td>NaN</td>\n",
       "    </tr>\n",
       "    <tr>\n",
       "      <th>ATRASO_PROM_ULT_TRIM_OVER_TRIM_PASADO_MENOR_0.7</th>\n",
       "      <th>_1_cut_up_NUM_DOCS_LAB_U12M</th>\n",
       "      <th>NaN</th>\n",
       "      <th>12</th>\n",
       "      <th>5</th>\n",
       "      <td>0.4166666666666667</td>\n",
       "      <td>NaN</td>\n",
       "      <td>NaN</td>\n",
       "      <td>NaN</td>\n",
       "      <td>NaN</td>\n",
       "      <td>NaN</td>\n",
       "    </tr>\n",
       "    <tr>\n",
       "      <th>_5_cut_up_NUM_MESES_CON_ATRASO_U6M_COLDIRECT_SF</th>\n",
       "      <th>_aux_TRX_CAIDA_40PERCENT_TRANSFERENCIAS__U11M</th>\n",
       "      <th>NaN</th>\n",
       "      <th>11</th>\n",
       "      <th>6</th>\n",
       "      <td>0.5454545454545454</td>\n",
       "      <td>NaN</td>\n",
       "      <td>NaN</td>\n",
       "      <td>NaN</td>\n",
       "      <td>NaN</td>\n",
       "      <td>NaN</td>\n",
       "    </tr>\n",
       "  </tbody>\n",
       "</table>\n",
       "</div>"
      ],
      "text/plain": [
       "                                                                                                                                                                                                            VAR_1  \\\n",
       "_aux_TRX_CAIDA_30PERCENT_POS__U6M                  _2_cut_up_NUM_BANCOS_NOIBK_DEBT_SUBIDA_SEGUIDA_... NaN                                                6  2   0.3333333333333333_aux_TRX_CAIDA_50PERCENT_DEP...   \n",
       "_aux_CASHOUT_CAIDA_30PERCENT_PAGO_DE_SERVICIOS_... IMPORTE_IMPAG_REGISTRADO_MAYOR_A_MIL_SOLES         _1.19_cut_up_ROTACION_CTASXCOBRAR_VAR_CEF_SITUA... 10 5                                                 0.5   \n",
       "_aux_CASHOUT_CAIDA_20PERCENT_OPERACIONES_MESA__... sei_letal_gran_empresa                             NaN                                                11 5                                 0.45454545454545453   \n",
       "_aux_TRX_CAIDA_20PERCENT_TRANSFERENCIAS__U6M       _5_cut_up_NUM_MESES_CON_ATRASO_U6M_COLDIRECT_SF    NaN                                                15 8                                  0.5333333333333333   \n",
       "_1_cut_up_NUM_BANCOS_NOIBK_DEBT_MAYOR_DE_U3M       _5_cut_up_NUM_MESES_CON_ATRASO_U6M_COLDIRECT_SF    NaN                                                13 7                                  0.5384615384615384   \n",
       "_aux_TIENE_TRX_POS__U12M                           _0.3_cut_down_minimo_percent_auto_hipo_pren_u12m   NaN                                                11 6                                  0.5454545454545454   \n",
       "TIENE_MAS_DE_1_MES_SIN_PAGOS_MASIVOS__CASHOUT      _0.3_cut_down_maximo_percent_ibk_u12m              _aux_TRX_CAIDA_30PERCENT_OTROS_NO_TABLERO_MES_ANT  7  3                                 0.42857142857142855   \n",
       "_0.1_cut_down_minimo_percent_auto_hipo_u12m        _3_cut_up_NUM_MESES_CON_ATRASO_U6M_COLDIRECT_SF    NaN                                                13 6                                 0.46153846153846156   \n",
       "_4_cut_up_MAX_DIAS_ATRASO_SFSF_ULT_RCC             TIENE_DISMINUCION_PAGO_PROVEEDORES_60PERCENT_A_... NaN                                                7  3                                 0.42857142857142855   \n",
       "_1_cut_up_NUM_MESES_SIN_LINEA_VIGENTE              _aux_TRX_CAIDA_10PERCENT_POS__U11M                 NaN                                                7  4                                  0.5714285714285714   \n",
       "TIENE_DISMINUCION_10PERCENT_A_MAS_CANT_TRX_CASH... _6_cut_up_ATRASO_PROM_U12M_COLDIRECT_VIG_VENC_SF   NaN                                                14 6                                 0.42857142857142855   \n",
       "_aux_TRX_CAIDA_40PERCENT_POS__U11M                 TIENE_MAS_DE_2_MESES_SIN_OPERACIONES_MESA__CASHOUT NaN                                                8  4                                                 0.5   \n",
       "ADEX_MIN_U6M_ACTUAL_EXP_OVER_12M_PASADO_MENOR_1    _0.6_cut_up_ROTACION_CTASXCOBRAR_VAR_CEF_SITUACION _65_cut_up_ROTACION_INVENTARIOS_VAR_DIAS_CEF_SI... 7  3                                 0.42857142857142855   \n",
       "_5_cut_up_MAX_DIAS_ATRASO                          _aux_TRX_CAIDA_30PERCENT_PAGOS_RECIBIDOS__U6M      NaN                                                7  3                                 0.42857142857142855   \n",
       "_4_cut_up_NUM_MESES_CON_ATRASO_U6M_COLDIRECT_SF    _0.6_cut_up_maximo_percent_sow_others_u12m         NaN                                                19 8                                 0.42105263157894735   \n",
       "ADEX_MIN_U3M_ACTUAL_IMP_OVER_12M_PASADO_MENOR_0.8  _4_cut_up_NUM_MESES_SIN_LINEA_VIGENTE              NaN                                                16 7                                              0.4375   \n",
       "_2_cut_up_NUM_BANCOS_PRIN_DEUDASF_ULT_RCC          _2_cut_up_MAX_DIAS_ATRASO_SF                       FLG_VENCIDA                                        28 12                                0.42857142857142855   \n",
       "_2_cut_up_MAX_DIAS_ATRASO_SF                       FLG_VENCIDA                                        NaN                                                29 13                                 0.4482758620689655   \n",
       "TIENE_DEUDA_PRESTAMOS_VIGENTE_RCC                  _1_cut_up_NUM_BANCOS_PRIN_CON_DIAS_ATRASO_MAYOR... NaN                                                16 7                                              0.4375   \n",
       "IMPORTE_IMPAG_REGISTRADO_MAYOR_A_15MIL_SOLES       _7_cut_up_ATRASO_PROM_U12M_COLDIRECT_VIG_VENC_SF   NaN                                                7  5                                  0.7142857142857143   \n",
       "TICKET_PROMEDIO_EN_RIESGO__Bucket_4_-_9.2_MM       _7_cut_up_ATRASO_PROM_U12M_COLDIRECT_VIG_VENC_SF   NaN                                                8  5                                               0.625   \n",
       "TIENE_REACTIVA_1_2_CON_OTRAS_EF                    _4_cut_up_MAX_DIAS_ATRASO_SFSF_ULT_RCC             _2_cut_up_NUM_MESES_ANTERIORES_CON_PROTESTOS_CO... 7  3                                 0.42857142857142855   \n",
       "                                                                                                      NaN                                                15 7                                  0.4666666666666667   \n",
       "sei_letal_gran_empresa                             TIENE_MAS_DE_2_MESES_SIN_DEPOSITOS__CASHIN         NaN                                                7  4                                  0.5714285714285714   \n",
       "NO_TIENE_GAR_AUTO_SF                               _3_cut_down_F_Septile                              _aux_TIENE_TRX_POS__U12M                           14 6                                 0.42857142857142855   \n",
       "                                                   _aux_TIENE_TRX_POS__U12M                           NaN                                                15 7                                  0.4666666666666667   \n",
       "_3_cut_down_F_Septile                              _aux_TIENE_TRX_POS__U12M                           NaN                                                17 7                                  0.4117647058823529   \n",
       "_1_cut_up_MAX_DIAS_ATRASO                          TIENE_MAS_DE_1MES_SIN_LINEA_VIGENTE                NaN                                                10 5                                                 0.5   \n",
       "ATRASO_PROM_ULT_TRIM_OVER_TRIM_PASADO_MENOR_0.8    _4_cut_up_NUM_MESES_CON_ATRASO_4diasomas_U6M_CO... NaN                                                7  4                                  0.5714285714285714   \n",
       "FLG_POSICION                                       _4_cut_up_NUM_MESES_CON_ATRASO_4diasomas_U6M_CO... NaN                                                10 7                                                 0.7   \n",
       "_aux_TRX_CAIDA_20PERCENT_DEPOSITOS__U11M           TIENE_DISMINUCION_20PERCENT_A_MAS_CANT_TRX_PROM... TIENE_DISMINUCION_2_O_MAS_TIPOS_CASH_OUT_U3M       10 5                                                 0.5   \n",
       "_4_cut_up_NUM_MESES_SIN_LINEA_VIGENTE              TIENE_DISMINUCION_15PERCENT_A_MAS_CANT_TRX_PROM... NaN                                                16 7                                              0.4375   \n",
       "_9_cut_up_NUM_MESES_ANTERIORES_CON_PROTESTOS_CO... _3_cut_up_NUM_MESES_CON_ATRASO_U6M_COLDIRECT_SF    _1_cut_up_NUM_MESES_CON_ATRASO_4diasomas_U6M_CO... 9  5                                  0.5555555555555556   \n",
       "                                                                                                      NaN                                                9  5                                  0.5555555555555556   \n",
       "                                                   _1_cut_up_NUM_MESES_CON_ATRASO_4diasomas_U6M_CO... NaN                                                12 5                                  0.4166666666666667   \n",
       "_2_cut_up_ATRASO_PROM_U6M_COLDIRECT_VIG_VENC_SF    TIENE_IMPORTE_PROT_REGISTRADO_MES_ACTUAL           NaN                                                11 5                                 0.45454545454545453   \n",
       "_1_cut_up_ENDEUDAMIENTO_PAS_VEN_VAR_CEF_SITUACION  _aux_TIENE_TRX_OTROS_NO_TABLERO_U3M                NaN                                                11 5                                 0.45454545454545453   \n",
       "_0.89_cut_up_ROTACION_INVENTARIOS_VAR_CEF_SITUA... _1_cut_up_ATRASO_PROM_U6M_COLDIRECT_VIG_VENC_SF    NaN                                                7  3                                 0.42857142857142855   \n",
       "SEI_MCDO__AGROPECUARIO                             ADEX_MAX_U12M_ACTUAL_EXP_OVER_12M_PASADO_MENOR_1   NaN                                                7  3                                 0.42857142857142855   \n",
       "_5_cut_up_NUM_BANCOS_PRIN_DEUDASF_ULT_RCC          TIENE_20PERCENT_O_MAS_SEI_VPC_FEVE_DRO             _3_cut_up_NUM_MESES_ANTERIORES_CON_IMPORTE_IMPA... 7  3                                 0.42857142857142855   \n",
       "                                                   _3_cut_up_NUM_MESES_ANTERIORES_CON_IMPORTE_IMPA... NaN                                                7  3                                 0.42857142857142855   \n",
       "TIENE_MAS_DE_10MESES_SIN_LINEA_VIGENTE             _0.6_cut_up_SOW_OTROSBCOS_MIN_historia             NaN                                                7  3                                 0.42857142857142855   \n",
       "_-48_cut_down_DIFF_PROM_CANT_TRX_U6M_U12M_CASHOUT  ADEX_MIN_U12M_ACTUAL_IMP_OVER_12M_PASADO_MENOR_0.8 NaN                                                7  4                                  0.5714285714285714   \n",
       "_1_cut_up_NUM_MESES_ANTERIORES_CON_NUM_DOCS_TRI... _5500000.0_cut_up_MTO_DEUDA_VIGENTE_COLDIRECT_S... NaN                                                7  3                                 0.42857142857142855   \n",
       "_0_cut_up_TENDENCIA_DISMINUCION_CASHIN_U3M_U6M_... _3_cut_up_MAX_DIAS_ATRASO                          NaN                                                7  3                                 0.42857142857142855   \n",
       "_1_cut_up_NUM_BANCOS_PRIN_CON_DIAS_ATRASO_MAYOR... SEI_TIENE_TENDENCIA_AUMENTO_NO_CLASIF_NORMAL_U3M   NaN                                                12 6                                                 0.5   \n",
       "_30_cut_up_ROTACION_INVENTARIOS_CEF_SITUACION      _3_cut_up_NUM_MESES_CON_ATRASO_4diasomas_U6M_CO... NaN                                                18 8                                  0.4444444444444444   \n",
       "_3_cut_up_NUM_MESES_CON_ATRASO_4diasomas_U6M_CO... _2_cut_up_NUM_BANCOS_NOIBK_DEBT_SUBIDA_SEGUIDA_... NaN                                                16 7                                              0.4375   \n",
       "ATRASO_PROM_ULT_TRIM_OVER_TRIM_PASADO_MENOR_0.7    _1_cut_up_NUM_DOCS_LAB_U12M                        NaN                                                12 5                                  0.4166666666666667   \n",
       "_5_cut_up_NUM_MESES_CON_ATRASO_U6M_COLDIRECT_SF    _aux_TRX_CAIDA_40PERCENT_TRANSFERENCIAS__U11M      NaN                                                11 6                                  0.5454545454545454   \n",
       "\n",
       "                                                                                                                                                                                                        VAR_2  \\\n",
       "_aux_TRX_CAIDA_30PERCENT_POS__U6M                  _2_cut_up_NUM_BANCOS_NOIBK_DEBT_SUBIDA_SEGUIDA_... NaN                                                6  2   TIENE_1_O_MAS_GRUPO_ECON_VPC_NO_CLASIF_NORMAL   \n",
       "_aux_CASHOUT_CAIDA_30PERCENT_PAGO_DE_SERVICIOS_... IMPORTE_IMPAG_REGISTRADO_MAYOR_A_MIL_SOLES         _1.19_cut_up_ROTACION_CTASXCOBRAR_VAR_CEF_SITUA... 10 5                                             NaN   \n",
       "_aux_CASHOUT_CAIDA_20PERCENT_OPERACIONES_MESA__... sei_letal_gran_empresa                             NaN                                                11 5                                             NaN   \n",
       "_aux_TRX_CAIDA_20PERCENT_TRANSFERENCIAS__U6M       _5_cut_up_NUM_MESES_CON_ATRASO_U6M_COLDIRECT_SF    NaN                                                15 8                                             NaN   \n",
       "_1_cut_up_NUM_BANCOS_NOIBK_DEBT_MAYOR_DE_U3M       _5_cut_up_NUM_MESES_CON_ATRASO_U6M_COLDIRECT_SF    NaN                                                13 7                                             NaN   \n",
       "_aux_TIENE_TRX_POS__U12M                           _0.3_cut_down_minimo_percent_auto_hipo_pren_u12m   NaN                                                11 6                                             NaN   \n",
       "TIENE_MAS_DE_1_MES_SIN_PAGOS_MASIVOS__CASHOUT      _0.3_cut_down_maximo_percent_ibk_u12m              _aux_TRX_CAIDA_30PERCENT_OTROS_NO_TABLERO_MES_ANT  7  3                                             NaN   \n",
       "_0.1_cut_down_minimo_percent_auto_hipo_u12m        _3_cut_up_NUM_MESES_CON_ATRASO_U6M_COLDIRECT_SF    NaN                                                13 6                                             NaN   \n",
       "_4_cut_up_MAX_DIAS_ATRASO_SFSF_ULT_RCC             TIENE_DISMINUCION_PAGO_PROVEEDORES_60PERCENT_A_... NaN                                                7  3                                             NaN   \n",
       "_1_cut_up_NUM_MESES_SIN_LINEA_VIGENTE              _aux_TRX_CAIDA_10PERCENT_POS__U11M                 NaN                                                7  4                                             NaN   \n",
       "TIENE_DISMINUCION_10PERCENT_A_MAS_CANT_TRX_CASH... _6_cut_up_ATRASO_PROM_U12M_COLDIRECT_VIG_VENC_SF   NaN                                                14 6                                             NaN   \n",
       "_aux_TRX_CAIDA_40PERCENT_POS__U11M                 TIENE_MAS_DE_2_MESES_SIN_OPERACIONES_MESA__CASHOUT NaN                                                8  4                                             NaN   \n",
       "ADEX_MIN_U6M_ACTUAL_EXP_OVER_12M_PASADO_MENOR_1    _0.6_cut_up_ROTACION_CTASXCOBRAR_VAR_CEF_SITUACION _65_cut_up_ROTACION_INVENTARIOS_VAR_DIAS_CEF_SI... 7  3                                             NaN   \n",
       "_5_cut_up_MAX_DIAS_ATRASO                          _aux_TRX_CAIDA_30PERCENT_PAGOS_RECIBIDOS__U6M      NaN                                                7  3                                             NaN   \n",
       "_4_cut_up_NUM_MESES_CON_ATRASO_U6M_COLDIRECT_SF    _0.6_cut_up_maximo_percent_sow_others_u12m         NaN                                                19 8                                             NaN   \n",
       "ADEX_MIN_U3M_ACTUAL_IMP_OVER_12M_PASADO_MENOR_0.8  _4_cut_up_NUM_MESES_SIN_LINEA_VIGENTE              NaN                                                16 7                                             NaN   \n",
       "_2_cut_up_NUM_BANCOS_PRIN_DEUDASF_ULT_RCC          _2_cut_up_MAX_DIAS_ATRASO_SF                       FLG_VENCIDA                                        28 12                                            NaN   \n",
       "_2_cut_up_MAX_DIAS_ATRASO_SF                       FLG_VENCIDA                                        NaN                                                29 13                                            NaN   \n",
       "TIENE_DEUDA_PRESTAMOS_VIGENTE_RCC                  _1_cut_up_NUM_BANCOS_PRIN_CON_DIAS_ATRASO_MAYOR... NaN                                                16 7                                             NaN   \n",
       "IMPORTE_IMPAG_REGISTRADO_MAYOR_A_15MIL_SOLES       _7_cut_up_ATRASO_PROM_U12M_COLDIRECT_VIG_VENC_SF   NaN                                                7  5                                             NaN   \n",
       "TICKET_PROMEDIO_EN_RIESGO__Bucket_4_-_9.2_MM       _7_cut_up_ATRASO_PROM_U12M_COLDIRECT_VIG_VENC_SF   NaN                                                8  5                                             NaN   \n",
       "TIENE_REACTIVA_1_2_CON_OTRAS_EF                    _4_cut_up_MAX_DIAS_ATRASO_SFSF_ULT_RCC             _2_cut_up_NUM_MESES_ANTERIORES_CON_PROTESTOS_CO... 7  3                                             NaN   \n",
       "                                                                                                      NaN                                                15 7                                             NaN   \n",
       "sei_letal_gran_empresa                             TIENE_MAS_DE_2_MESES_SIN_DEPOSITOS__CASHIN         NaN                                                7  4                                             NaN   \n",
       "NO_TIENE_GAR_AUTO_SF                               _3_cut_down_F_Septile                              _aux_TIENE_TRX_POS__U12M                           14 6                                             NaN   \n",
       "                                                   _aux_TIENE_TRX_POS__U12M                           NaN                                                15 7                                             NaN   \n",
       "_3_cut_down_F_Septile                              _aux_TIENE_TRX_POS__U12M                           NaN                                                17 7                                             NaN   \n",
       "_1_cut_up_MAX_DIAS_ATRASO                          TIENE_MAS_DE_1MES_SIN_LINEA_VIGENTE                NaN                                                10 5                                             NaN   \n",
       "ATRASO_PROM_ULT_TRIM_OVER_TRIM_PASADO_MENOR_0.8    _4_cut_up_NUM_MESES_CON_ATRASO_4diasomas_U6M_CO... NaN                                                7  4                                             NaN   \n",
       "FLG_POSICION                                       _4_cut_up_NUM_MESES_CON_ATRASO_4diasomas_U6M_CO... NaN                                                10 7                                             NaN   \n",
       "_aux_TRX_CAIDA_20PERCENT_DEPOSITOS__U11M           TIENE_DISMINUCION_20PERCENT_A_MAS_CANT_TRX_PROM... TIENE_DISMINUCION_2_O_MAS_TIPOS_CASH_OUT_U3M       10 5                                             NaN   \n",
       "_4_cut_up_NUM_MESES_SIN_LINEA_VIGENTE              TIENE_DISMINUCION_15PERCENT_A_MAS_CANT_TRX_PROM... NaN                                                16 7                                             NaN   \n",
       "_9_cut_up_NUM_MESES_ANTERIORES_CON_PROTESTOS_CO... _3_cut_up_NUM_MESES_CON_ATRASO_U6M_COLDIRECT_SF    _1_cut_up_NUM_MESES_CON_ATRASO_4diasomas_U6M_CO... 9  5                                             NaN   \n",
       "                                                                                                      NaN                                                9  5                                             NaN   \n",
       "                                                   _1_cut_up_NUM_MESES_CON_ATRASO_4diasomas_U6M_CO... NaN                                                12 5                                             NaN   \n",
       "_2_cut_up_ATRASO_PROM_U6M_COLDIRECT_VIG_VENC_SF    TIENE_IMPORTE_PROT_REGISTRADO_MES_ACTUAL           NaN                                                11 5                                             NaN   \n",
       "_1_cut_up_ENDEUDAMIENTO_PAS_VEN_VAR_CEF_SITUACION  _aux_TIENE_TRX_OTROS_NO_TABLERO_U3M                NaN                                                11 5                                             NaN   \n",
       "_0.89_cut_up_ROTACION_INVENTARIOS_VAR_CEF_SITUA... _1_cut_up_ATRASO_PROM_U6M_COLDIRECT_VIG_VENC_SF    NaN                                                7  3                                             NaN   \n",
       "SEI_MCDO__AGROPECUARIO                             ADEX_MAX_U12M_ACTUAL_EXP_OVER_12M_PASADO_MENOR_1   NaN                                                7  3                                             NaN   \n",
       "_5_cut_up_NUM_BANCOS_PRIN_DEUDASF_ULT_RCC          TIENE_20PERCENT_O_MAS_SEI_VPC_FEVE_DRO             _3_cut_up_NUM_MESES_ANTERIORES_CON_IMPORTE_IMPA... 7  3                                             NaN   \n",
       "                                                   _3_cut_up_NUM_MESES_ANTERIORES_CON_IMPORTE_IMPA... NaN                                                7  3                                             NaN   \n",
       "TIENE_MAS_DE_10MESES_SIN_LINEA_VIGENTE             _0.6_cut_up_SOW_OTROSBCOS_MIN_historia             NaN                                                7  3                                             NaN   \n",
       "_-48_cut_down_DIFF_PROM_CANT_TRX_U6M_U12M_CASHOUT  ADEX_MIN_U12M_ACTUAL_IMP_OVER_12M_PASADO_MENOR_0.8 NaN                                                7  4                                             NaN   \n",
       "_1_cut_up_NUM_MESES_ANTERIORES_CON_NUM_DOCS_TRI... _5500000.0_cut_up_MTO_DEUDA_VIGENTE_COLDIRECT_S... NaN                                                7  3                                             NaN   \n",
       "_0_cut_up_TENDENCIA_DISMINUCION_CASHIN_U3M_U6M_... _3_cut_up_MAX_DIAS_ATRASO                          NaN                                                7  3                                             NaN   \n",
       "_1_cut_up_NUM_BANCOS_PRIN_CON_DIAS_ATRASO_MAYOR... SEI_TIENE_TENDENCIA_AUMENTO_NO_CLASIF_NORMAL_U3M   NaN                                                12 6                                             NaN   \n",
       "_30_cut_up_ROTACION_INVENTARIOS_CEF_SITUACION      _3_cut_up_NUM_MESES_CON_ATRASO_4diasomas_U6M_CO... NaN                                                18 8                                             NaN   \n",
       "_3_cut_up_NUM_MESES_CON_ATRASO_4diasomas_U6M_CO... _2_cut_up_NUM_BANCOS_NOIBK_DEBT_SUBIDA_SEGUIDA_... NaN                                                16 7                                             NaN   \n",
       "ATRASO_PROM_ULT_TRIM_OVER_TRIM_PASADO_MENOR_0.7    _1_cut_up_NUM_DOCS_LAB_U12M                        NaN                                                12 5                                             NaN   \n",
       "_5_cut_up_NUM_MESES_CON_ATRASO_U6M_COLDIRECT_SF    _aux_TRX_CAIDA_40PERCENT_TRANSFERENCIAS__U11M      NaN                                                11 6                                             NaN   \n",
       "\n",
       "                                                                                                                                                                                                    VAR_3  \\\n",
       "_aux_TRX_CAIDA_30PERCENT_POS__U6M                  _2_cut_up_NUM_BANCOS_NOIBK_DEBT_SUBIDA_SEGUIDA_... NaN                                                6  2   _0.2_cut_down_minimo_percent_sow_ibk_u12m   \n",
       "_aux_CASHOUT_CAIDA_30PERCENT_PAGO_DE_SERVICIOS_... IMPORTE_IMPAG_REGISTRADO_MAYOR_A_MIL_SOLES         _1.19_cut_up_ROTACION_CTASXCOBRAR_VAR_CEF_SITUA... 10 5                                         NaN   \n",
       "_aux_CASHOUT_CAIDA_20PERCENT_OPERACIONES_MESA__... sei_letal_gran_empresa                             NaN                                                11 5                                         NaN   \n",
       "_aux_TRX_CAIDA_20PERCENT_TRANSFERENCIAS__U6M       _5_cut_up_NUM_MESES_CON_ATRASO_U6M_COLDIRECT_SF    NaN                                                15 8                                         NaN   \n",
       "_1_cut_up_NUM_BANCOS_NOIBK_DEBT_MAYOR_DE_U3M       _5_cut_up_NUM_MESES_CON_ATRASO_U6M_COLDIRECT_SF    NaN                                                13 7                                         NaN   \n",
       "_aux_TIENE_TRX_POS__U12M                           _0.3_cut_down_minimo_percent_auto_hipo_pren_u12m   NaN                                                11 6                                         NaN   \n",
       "TIENE_MAS_DE_1_MES_SIN_PAGOS_MASIVOS__CASHOUT      _0.3_cut_down_maximo_percent_ibk_u12m              _aux_TRX_CAIDA_30PERCENT_OTROS_NO_TABLERO_MES_ANT  7  3                                         NaN   \n",
       "_0.1_cut_down_minimo_percent_auto_hipo_u12m        _3_cut_up_NUM_MESES_CON_ATRASO_U6M_COLDIRECT_SF    NaN                                                13 6                                         NaN   \n",
       "_4_cut_up_MAX_DIAS_ATRASO_SFSF_ULT_RCC             TIENE_DISMINUCION_PAGO_PROVEEDORES_60PERCENT_A_... NaN                                                7  3                                         NaN   \n",
       "_1_cut_up_NUM_MESES_SIN_LINEA_VIGENTE              _aux_TRX_CAIDA_10PERCENT_POS__U11M                 NaN                                                7  4                                         NaN   \n",
       "TIENE_DISMINUCION_10PERCENT_A_MAS_CANT_TRX_CASH... _6_cut_up_ATRASO_PROM_U12M_COLDIRECT_VIG_VENC_SF   NaN                                                14 6                                         NaN   \n",
       "_aux_TRX_CAIDA_40PERCENT_POS__U11M                 TIENE_MAS_DE_2_MESES_SIN_OPERACIONES_MESA__CASHOUT NaN                                                8  4                                         NaN   \n",
       "ADEX_MIN_U6M_ACTUAL_EXP_OVER_12M_PASADO_MENOR_1    _0.6_cut_up_ROTACION_CTASXCOBRAR_VAR_CEF_SITUACION _65_cut_up_ROTACION_INVENTARIOS_VAR_DIAS_CEF_SI... 7  3                                         NaN   \n",
       "_5_cut_up_MAX_DIAS_ATRASO                          _aux_TRX_CAIDA_30PERCENT_PAGOS_RECIBIDOS__U6M      NaN                                                7  3                                         NaN   \n",
       "_4_cut_up_NUM_MESES_CON_ATRASO_U6M_COLDIRECT_SF    _0.6_cut_up_maximo_percent_sow_others_u12m         NaN                                                19 8                                         NaN   \n",
       "ADEX_MIN_U3M_ACTUAL_IMP_OVER_12M_PASADO_MENOR_0.8  _4_cut_up_NUM_MESES_SIN_LINEA_VIGENTE              NaN                                                16 7                                         NaN   \n",
       "_2_cut_up_NUM_BANCOS_PRIN_DEUDASF_ULT_RCC          _2_cut_up_MAX_DIAS_ATRASO_SF                       FLG_VENCIDA                                        28 12                                        NaN   \n",
       "_2_cut_up_MAX_DIAS_ATRASO_SF                       FLG_VENCIDA                                        NaN                                                29 13                                        NaN   \n",
       "TIENE_DEUDA_PRESTAMOS_VIGENTE_RCC                  _1_cut_up_NUM_BANCOS_PRIN_CON_DIAS_ATRASO_MAYOR... NaN                                                16 7                                         NaN   \n",
       "IMPORTE_IMPAG_REGISTRADO_MAYOR_A_15MIL_SOLES       _7_cut_up_ATRASO_PROM_U12M_COLDIRECT_VIG_VENC_SF   NaN                                                7  5                                         NaN   \n",
       "TICKET_PROMEDIO_EN_RIESGO__Bucket_4_-_9.2_MM       _7_cut_up_ATRASO_PROM_U12M_COLDIRECT_VIG_VENC_SF   NaN                                                8  5                                         NaN   \n",
       "TIENE_REACTIVA_1_2_CON_OTRAS_EF                    _4_cut_up_MAX_DIAS_ATRASO_SFSF_ULT_RCC             _2_cut_up_NUM_MESES_ANTERIORES_CON_PROTESTOS_CO... 7  3                                         NaN   \n",
       "                                                                                                      NaN                                                15 7                                         NaN   \n",
       "sei_letal_gran_empresa                             TIENE_MAS_DE_2_MESES_SIN_DEPOSITOS__CASHIN         NaN                                                7  4                                         NaN   \n",
       "NO_TIENE_GAR_AUTO_SF                               _3_cut_down_F_Septile                              _aux_TIENE_TRX_POS__U12M                           14 6                                         NaN   \n",
       "                                                   _aux_TIENE_TRX_POS__U12M                           NaN                                                15 7                                         NaN   \n",
       "_3_cut_down_F_Septile                              _aux_TIENE_TRX_POS__U12M                           NaN                                                17 7                                         NaN   \n",
       "_1_cut_up_MAX_DIAS_ATRASO                          TIENE_MAS_DE_1MES_SIN_LINEA_VIGENTE                NaN                                                10 5                                         NaN   \n",
       "ATRASO_PROM_ULT_TRIM_OVER_TRIM_PASADO_MENOR_0.8    _4_cut_up_NUM_MESES_CON_ATRASO_4diasomas_U6M_CO... NaN                                                7  4                                         NaN   \n",
       "FLG_POSICION                                       _4_cut_up_NUM_MESES_CON_ATRASO_4diasomas_U6M_CO... NaN                                                10 7                                         NaN   \n",
       "_aux_TRX_CAIDA_20PERCENT_DEPOSITOS__U11M           TIENE_DISMINUCION_20PERCENT_A_MAS_CANT_TRX_PROM... TIENE_DISMINUCION_2_O_MAS_TIPOS_CASH_OUT_U3M       10 5                                         NaN   \n",
       "_4_cut_up_NUM_MESES_SIN_LINEA_VIGENTE              TIENE_DISMINUCION_15PERCENT_A_MAS_CANT_TRX_PROM... NaN                                                16 7                                         NaN   \n",
       "_9_cut_up_NUM_MESES_ANTERIORES_CON_PROTESTOS_CO... _3_cut_up_NUM_MESES_CON_ATRASO_U6M_COLDIRECT_SF    _1_cut_up_NUM_MESES_CON_ATRASO_4diasomas_U6M_CO... 9  5                                         NaN   \n",
       "                                                                                                      NaN                                                9  5                                         NaN   \n",
       "                                                   _1_cut_up_NUM_MESES_CON_ATRASO_4diasomas_U6M_CO... NaN                                                12 5                                         NaN   \n",
       "_2_cut_up_ATRASO_PROM_U6M_COLDIRECT_VIG_VENC_SF    TIENE_IMPORTE_PROT_REGISTRADO_MES_ACTUAL           NaN                                                11 5                                         NaN   \n",
       "_1_cut_up_ENDEUDAMIENTO_PAS_VEN_VAR_CEF_SITUACION  _aux_TIENE_TRX_OTROS_NO_TABLERO_U3M                NaN                                                11 5                                         NaN   \n",
       "_0.89_cut_up_ROTACION_INVENTARIOS_VAR_CEF_SITUA... _1_cut_up_ATRASO_PROM_U6M_COLDIRECT_VIG_VENC_SF    NaN                                                7  3                                         NaN   \n",
       "SEI_MCDO__AGROPECUARIO                             ADEX_MAX_U12M_ACTUAL_EXP_OVER_12M_PASADO_MENOR_1   NaN                                                7  3                                         NaN   \n",
       "_5_cut_up_NUM_BANCOS_PRIN_DEUDASF_ULT_RCC          TIENE_20PERCENT_O_MAS_SEI_VPC_FEVE_DRO             _3_cut_up_NUM_MESES_ANTERIORES_CON_IMPORTE_IMPA... 7  3                                         NaN   \n",
       "                                                   _3_cut_up_NUM_MESES_ANTERIORES_CON_IMPORTE_IMPA... NaN                                                7  3                                         NaN   \n",
       "TIENE_MAS_DE_10MESES_SIN_LINEA_VIGENTE             _0.6_cut_up_SOW_OTROSBCOS_MIN_historia             NaN                                                7  3                                         NaN   \n",
       "_-48_cut_down_DIFF_PROM_CANT_TRX_U6M_U12M_CASHOUT  ADEX_MIN_U12M_ACTUAL_IMP_OVER_12M_PASADO_MENOR_0.8 NaN                                                7  4                                         NaN   \n",
       "_1_cut_up_NUM_MESES_ANTERIORES_CON_NUM_DOCS_TRI... _5500000.0_cut_up_MTO_DEUDA_VIGENTE_COLDIRECT_S... NaN                                                7  3                                         NaN   \n",
       "_0_cut_up_TENDENCIA_DISMINUCION_CASHIN_U3M_U6M_... _3_cut_up_MAX_DIAS_ATRASO                          NaN                                                7  3                                         NaN   \n",
       "_1_cut_up_NUM_BANCOS_PRIN_CON_DIAS_ATRASO_MAYOR... SEI_TIENE_TENDENCIA_AUMENTO_NO_CLASIF_NORMAL_U3M   NaN                                                12 6                                         NaN   \n",
       "_30_cut_up_ROTACION_INVENTARIOS_CEF_SITUACION      _3_cut_up_NUM_MESES_CON_ATRASO_4diasomas_U6M_CO... NaN                                                18 8                                         NaN   \n",
       "_3_cut_up_NUM_MESES_CON_ATRASO_4diasomas_U6M_CO... _2_cut_up_NUM_BANCOS_NOIBK_DEBT_SUBIDA_SEGUIDA_... NaN                                                16 7                                         NaN   \n",
       "ATRASO_PROM_ULT_TRIM_OVER_TRIM_PASADO_MENOR_0.7    _1_cut_up_NUM_DOCS_LAB_U12M                        NaN                                                12 5                                         NaN   \n",
       "_5_cut_up_NUM_MESES_CON_ATRASO_U6M_COLDIRECT_SF    _aux_TRX_CAIDA_40PERCENT_TRANSFERENCIAS__U11M      NaN                                                11 6                                         NaN   \n",
       "\n",
       "                                                                                                                                                                CASOS  \\\n",
       "_aux_TRX_CAIDA_30PERCENT_POS__U6M                  _2_cut_up_NUM_BANCOS_NOIBK_DEBT_SUBIDA_SEGUIDA_... NaN                                                6  2     7.0   \n",
       "_aux_CASHOUT_CAIDA_30PERCENT_PAGO_DE_SERVICIOS_... IMPORTE_IMPAG_REGISTRADO_MAYOR_A_MIL_SOLES         _1.19_cut_up_ROTACION_CTASXCOBRAR_VAR_CEF_SITUA... 10 5     NaN   \n",
       "_aux_CASHOUT_CAIDA_20PERCENT_OPERACIONES_MESA__... sei_letal_gran_empresa                             NaN                                                11 5     NaN   \n",
       "_aux_TRX_CAIDA_20PERCENT_TRANSFERENCIAS__U6M       _5_cut_up_NUM_MESES_CON_ATRASO_U6M_COLDIRECT_SF    NaN                                                15 8     NaN   \n",
       "_1_cut_up_NUM_BANCOS_NOIBK_DEBT_MAYOR_DE_U3M       _5_cut_up_NUM_MESES_CON_ATRASO_U6M_COLDIRECT_SF    NaN                                                13 7     NaN   \n",
       "_aux_TIENE_TRX_POS__U12M                           _0.3_cut_down_minimo_percent_auto_hipo_pren_u12m   NaN                                                11 6     NaN   \n",
       "TIENE_MAS_DE_1_MES_SIN_PAGOS_MASIVOS__CASHOUT      _0.3_cut_down_maximo_percent_ibk_u12m              _aux_TRX_CAIDA_30PERCENT_OTROS_NO_TABLERO_MES_ANT  7  3     NaN   \n",
       "_0.1_cut_down_minimo_percent_auto_hipo_u12m        _3_cut_up_NUM_MESES_CON_ATRASO_U6M_COLDIRECT_SF    NaN                                                13 6     NaN   \n",
       "_4_cut_up_MAX_DIAS_ATRASO_SFSF_ULT_RCC             TIENE_DISMINUCION_PAGO_PROVEEDORES_60PERCENT_A_... NaN                                                7  3     NaN   \n",
       "_1_cut_up_NUM_MESES_SIN_LINEA_VIGENTE              _aux_TRX_CAIDA_10PERCENT_POS__U11M                 NaN                                                7  4     NaN   \n",
       "TIENE_DISMINUCION_10PERCENT_A_MAS_CANT_TRX_CASH... _6_cut_up_ATRASO_PROM_U12M_COLDIRECT_VIG_VENC_SF   NaN                                                14 6     NaN   \n",
       "_aux_TRX_CAIDA_40PERCENT_POS__U11M                 TIENE_MAS_DE_2_MESES_SIN_OPERACIONES_MESA__CASHOUT NaN                                                8  4     NaN   \n",
       "ADEX_MIN_U6M_ACTUAL_EXP_OVER_12M_PASADO_MENOR_1    _0.6_cut_up_ROTACION_CTASXCOBRAR_VAR_CEF_SITUACION _65_cut_up_ROTACION_INVENTARIOS_VAR_DIAS_CEF_SI... 7  3     NaN   \n",
       "_5_cut_up_MAX_DIAS_ATRASO                          _aux_TRX_CAIDA_30PERCENT_PAGOS_RECIBIDOS__U6M      NaN                                                7  3     NaN   \n",
       "_4_cut_up_NUM_MESES_CON_ATRASO_U6M_COLDIRECT_SF    _0.6_cut_up_maximo_percent_sow_others_u12m         NaN                                                19 8     NaN   \n",
       "ADEX_MIN_U3M_ACTUAL_IMP_OVER_12M_PASADO_MENOR_0.8  _4_cut_up_NUM_MESES_SIN_LINEA_VIGENTE              NaN                                                16 7     NaN   \n",
       "_2_cut_up_NUM_BANCOS_PRIN_DEUDASF_ULT_RCC          _2_cut_up_MAX_DIAS_ATRASO_SF                       FLG_VENCIDA                                        28 12    NaN   \n",
       "_2_cut_up_MAX_DIAS_ATRASO_SF                       FLG_VENCIDA                                        NaN                                                29 13    NaN   \n",
       "TIENE_DEUDA_PRESTAMOS_VIGENTE_RCC                  _1_cut_up_NUM_BANCOS_PRIN_CON_DIAS_ATRASO_MAYOR... NaN                                                16 7     NaN   \n",
       "IMPORTE_IMPAG_REGISTRADO_MAYOR_A_15MIL_SOLES       _7_cut_up_ATRASO_PROM_U12M_COLDIRECT_VIG_VENC_SF   NaN                                                7  5     NaN   \n",
       "TICKET_PROMEDIO_EN_RIESGO__Bucket_4_-_9.2_MM       _7_cut_up_ATRASO_PROM_U12M_COLDIRECT_VIG_VENC_SF   NaN                                                8  5     NaN   \n",
       "TIENE_REACTIVA_1_2_CON_OTRAS_EF                    _4_cut_up_MAX_DIAS_ATRASO_SFSF_ULT_RCC             _2_cut_up_NUM_MESES_ANTERIORES_CON_PROTESTOS_CO... 7  3     NaN   \n",
       "                                                                                                      NaN                                                15 7     NaN   \n",
       "sei_letal_gran_empresa                             TIENE_MAS_DE_2_MESES_SIN_DEPOSITOS__CASHIN         NaN                                                7  4     NaN   \n",
       "NO_TIENE_GAR_AUTO_SF                               _3_cut_down_F_Septile                              _aux_TIENE_TRX_POS__U12M                           14 6     NaN   \n",
       "                                                   _aux_TIENE_TRX_POS__U12M                           NaN                                                15 7     NaN   \n",
       "_3_cut_down_F_Septile                              _aux_TIENE_TRX_POS__U12M                           NaN                                                17 7     NaN   \n",
       "_1_cut_up_MAX_DIAS_ATRASO                          TIENE_MAS_DE_1MES_SIN_LINEA_VIGENTE                NaN                                                10 5     NaN   \n",
       "ATRASO_PROM_ULT_TRIM_OVER_TRIM_PASADO_MENOR_0.8    _4_cut_up_NUM_MESES_CON_ATRASO_4diasomas_U6M_CO... NaN                                                7  4     NaN   \n",
       "FLG_POSICION                                       _4_cut_up_NUM_MESES_CON_ATRASO_4diasomas_U6M_CO... NaN                                                10 7     NaN   \n",
       "_aux_TRX_CAIDA_20PERCENT_DEPOSITOS__U11M           TIENE_DISMINUCION_20PERCENT_A_MAS_CANT_TRX_PROM... TIENE_DISMINUCION_2_O_MAS_TIPOS_CASH_OUT_U3M       10 5     NaN   \n",
       "_4_cut_up_NUM_MESES_SIN_LINEA_VIGENTE              TIENE_DISMINUCION_15PERCENT_A_MAS_CANT_TRX_PROM... NaN                                                16 7     NaN   \n",
       "_9_cut_up_NUM_MESES_ANTERIORES_CON_PROTESTOS_CO... _3_cut_up_NUM_MESES_CON_ATRASO_U6M_COLDIRECT_SF    _1_cut_up_NUM_MESES_CON_ATRASO_4diasomas_U6M_CO... 9  5     NaN   \n",
       "                                                                                                      NaN                                                9  5     NaN   \n",
       "                                                   _1_cut_up_NUM_MESES_CON_ATRASO_4diasomas_U6M_CO... NaN                                                12 5     NaN   \n",
       "_2_cut_up_ATRASO_PROM_U6M_COLDIRECT_VIG_VENC_SF    TIENE_IMPORTE_PROT_REGISTRADO_MES_ACTUAL           NaN                                                11 5     NaN   \n",
       "_1_cut_up_ENDEUDAMIENTO_PAS_VEN_VAR_CEF_SITUACION  _aux_TIENE_TRX_OTROS_NO_TABLERO_U3M                NaN                                                11 5     NaN   \n",
       "_0.89_cut_up_ROTACION_INVENTARIOS_VAR_CEF_SITUA... _1_cut_up_ATRASO_PROM_U6M_COLDIRECT_VIG_VENC_SF    NaN                                                7  3     NaN   \n",
       "SEI_MCDO__AGROPECUARIO                             ADEX_MAX_U12M_ACTUAL_EXP_OVER_12M_PASADO_MENOR_1   NaN                                                7  3     NaN   \n",
       "_5_cut_up_NUM_BANCOS_PRIN_DEUDASF_ULT_RCC          TIENE_20PERCENT_O_MAS_SEI_VPC_FEVE_DRO             _3_cut_up_NUM_MESES_ANTERIORES_CON_IMPORTE_IMPA... 7  3     NaN   \n",
       "                                                   _3_cut_up_NUM_MESES_ANTERIORES_CON_IMPORTE_IMPA... NaN                                                7  3     NaN   \n",
       "TIENE_MAS_DE_10MESES_SIN_LINEA_VIGENTE             _0.6_cut_up_SOW_OTROSBCOS_MIN_historia             NaN                                                7  3     NaN   \n",
       "_-48_cut_down_DIFF_PROM_CANT_TRX_U6M_U12M_CASHOUT  ADEX_MIN_U12M_ACTUAL_IMP_OVER_12M_PASADO_MENOR_0.8 NaN                                                7  4     NaN   \n",
       "_1_cut_up_NUM_MESES_ANTERIORES_CON_NUM_DOCS_TRI... _5500000.0_cut_up_MTO_DEUDA_VIGENTE_COLDIRECT_S... NaN                                                7  3     NaN   \n",
       "_0_cut_up_TENDENCIA_DISMINUCION_CASHIN_U3M_U6M_... _3_cut_up_MAX_DIAS_ATRASO                          NaN                                                7  3     NaN   \n",
       "_1_cut_up_NUM_BANCOS_PRIN_CON_DIAS_ATRASO_MAYOR... SEI_TIENE_TENDENCIA_AUMENTO_NO_CLASIF_NORMAL_U3M   NaN                                                12 6     NaN   \n",
       "_30_cut_up_ROTACION_INVENTARIOS_CEF_SITUACION      _3_cut_up_NUM_MESES_CON_ATRASO_4diasomas_U6M_CO... NaN                                                18 8     NaN   \n",
       "_3_cut_up_NUM_MESES_CON_ATRASO_4diasomas_U6M_CO... _2_cut_up_NUM_BANCOS_NOIBK_DEBT_SUBIDA_SEGUIDA_... NaN                                                16 7     NaN   \n",
       "ATRASO_PROM_ULT_TRIM_OVER_TRIM_PASADO_MENOR_0.7    _1_cut_up_NUM_DOCS_LAB_U12M                        NaN                                                12 5     NaN   \n",
       "_5_cut_up_NUM_MESES_CON_ATRASO_U6M_COLDIRECT_SF    _aux_TRX_CAIDA_40PERCENT_TRANSFERENCIAS__U11M      NaN                                                11 6     NaN   \n",
       "\n",
       "                                                                                                                                                                CORRECTOS  \\\n",
       "_aux_TRX_CAIDA_30PERCENT_POS__U6M                  _2_cut_up_NUM_BANCOS_NOIBK_DEBT_SUBIDA_SEGUIDA_... NaN                                                6  2         3.0   \n",
       "_aux_CASHOUT_CAIDA_30PERCENT_PAGO_DE_SERVICIOS_... IMPORTE_IMPAG_REGISTRADO_MAYOR_A_MIL_SOLES         _1.19_cut_up_ROTACION_CTASXCOBRAR_VAR_CEF_SITUA... 10 5         NaN   \n",
       "_aux_CASHOUT_CAIDA_20PERCENT_OPERACIONES_MESA__... sei_letal_gran_empresa                             NaN                                                11 5         NaN   \n",
       "_aux_TRX_CAIDA_20PERCENT_TRANSFERENCIAS__U6M       _5_cut_up_NUM_MESES_CON_ATRASO_U6M_COLDIRECT_SF    NaN                                                15 8         NaN   \n",
       "_1_cut_up_NUM_BANCOS_NOIBK_DEBT_MAYOR_DE_U3M       _5_cut_up_NUM_MESES_CON_ATRASO_U6M_COLDIRECT_SF    NaN                                                13 7         NaN   \n",
       "_aux_TIENE_TRX_POS__U12M                           _0.3_cut_down_minimo_percent_auto_hipo_pren_u12m   NaN                                                11 6         NaN   \n",
       "TIENE_MAS_DE_1_MES_SIN_PAGOS_MASIVOS__CASHOUT      _0.3_cut_down_maximo_percent_ibk_u12m              _aux_TRX_CAIDA_30PERCENT_OTROS_NO_TABLERO_MES_ANT  7  3         NaN   \n",
       "_0.1_cut_down_minimo_percent_auto_hipo_u12m        _3_cut_up_NUM_MESES_CON_ATRASO_U6M_COLDIRECT_SF    NaN                                                13 6         NaN   \n",
       "_4_cut_up_MAX_DIAS_ATRASO_SFSF_ULT_RCC             TIENE_DISMINUCION_PAGO_PROVEEDORES_60PERCENT_A_... NaN                                                7  3         NaN   \n",
       "_1_cut_up_NUM_MESES_SIN_LINEA_VIGENTE              _aux_TRX_CAIDA_10PERCENT_POS__U11M                 NaN                                                7  4         NaN   \n",
       "TIENE_DISMINUCION_10PERCENT_A_MAS_CANT_TRX_CASH... _6_cut_up_ATRASO_PROM_U12M_COLDIRECT_VIG_VENC_SF   NaN                                                14 6         NaN   \n",
       "_aux_TRX_CAIDA_40PERCENT_POS__U11M                 TIENE_MAS_DE_2_MESES_SIN_OPERACIONES_MESA__CASHOUT NaN                                                8  4         NaN   \n",
       "ADEX_MIN_U6M_ACTUAL_EXP_OVER_12M_PASADO_MENOR_1    _0.6_cut_up_ROTACION_CTASXCOBRAR_VAR_CEF_SITUACION _65_cut_up_ROTACION_INVENTARIOS_VAR_DIAS_CEF_SI... 7  3         NaN   \n",
       "_5_cut_up_MAX_DIAS_ATRASO                          _aux_TRX_CAIDA_30PERCENT_PAGOS_RECIBIDOS__U6M      NaN                                                7  3         NaN   \n",
       "_4_cut_up_NUM_MESES_CON_ATRASO_U6M_COLDIRECT_SF    _0.6_cut_up_maximo_percent_sow_others_u12m         NaN                                                19 8         NaN   \n",
       "ADEX_MIN_U3M_ACTUAL_IMP_OVER_12M_PASADO_MENOR_0.8  _4_cut_up_NUM_MESES_SIN_LINEA_VIGENTE              NaN                                                16 7         NaN   \n",
       "_2_cut_up_NUM_BANCOS_PRIN_DEUDASF_ULT_RCC          _2_cut_up_MAX_DIAS_ATRASO_SF                       FLG_VENCIDA                                        28 12        NaN   \n",
       "_2_cut_up_MAX_DIAS_ATRASO_SF                       FLG_VENCIDA                                        NaN                                                29 13        NaN   \n",
       "TIENE_DEUDA_PRESTAMOS_VIGENTE_RCC                  _1_cut_up_NUM_BANCOS_PRIN_CON_DIAS_ATRASO_MAYOR... NaN                                                16 7         NaN   \n",
       "IMPORTE_IMPAG_REGISTRADO_MAYOR_A_15MIL_SOLES       _7_cut_up_ATRASO_PROM_U12M_COLDIRECT_VIG_VENC_SF   NaN                                                7  5         NaN   \n",
       "TICKET_PROMEDIO_EN_RIESGO__Bucket_4_-_9.2_MM       _7_cut_up_ATRASO_PROM_U12M_COLDIRECT_VIG_VENC_SF   NaN                                                8  5         NaN   \n",
       "TIENE_REACTIVA_1_2_CON_OTRAS_EF                    _4_cut_up_MAX_DIAS_ATRASO_SFSF_ULT_RCC             _2_cut_up_NUM_MESES_ANTERIORES_CON_PROTESTOS_CO... 7  3         NaN   \n",
       "                                                                                                      NaN                                                15 7         NaN   \n",
       "sei_letal_gran_empresa                             TIENE_MAS_DE_2_MESES_SIN_DEPOSITOS__CASHIN         NaN                                                7  4         NaN   \n",
       "NO_TIENE_GAR_AUTO_SF                               _3_cut_down_F_Septile                              _aux_TIENE_TRX_POS__U12M                           14 6         NaN   \n",
       "                                                   _aux_TIENE_TRX_POS__U12M                           NaN                                                15 7         NaN   \n",
       "_3_cut_down_F_Septile                              _aux_TIENE_TRX_POS__U12M                           NaN                                                17 7         NaN   \n",
       "_1_cut_up_MAX_DIAS_ATRASO                          TIENE_MAS_DE_1MES_SIN_LINEA_VIGENTE                NaN                                                10 5         NaN   \n",
       "ATRASO_PROM_ULT_TRIM_OVER_TRIM_PASADO_MENOR_0.8    _4_cut_up_NUM_MESES_CON_ATRASO_4diasomas_U6M_CO... NaN                                                7  4         NaN   \n",
       "FLG_POSICION                                       _4_cut_up_NUM_MESES_CON_ATRASO_4diasomas_U6M_CO... NaN                                                10 7         NaN   \n",
       "_aux_TRX_CAIDA_20PERCENT_DEPOSITOS__U11M           TIENE_DISMINUCION_20PERCENT_A_MAS_CANT_TRX_PROM... TIENE_DISMINUCION_2_O_MAS_TIPOS_CASH_OUT_U3M       10 5         NaN   \n",
       "_4_cut_up_NUM_MESES_SIN_LINEA_VIGENTE              TIENE_DISMINUCION_15PERCENT_A_MAS_CANT_TRX_PROM... NaN                                                16 7         NaN   \n",
       "_9_cut_up_NUM_MESES_ANTERIORES_CON_PROTESTOS_CO... _3_cut_up_NUM_MESES_CON_ATRASO_U6M_COLDIRECT_SF    _1_cut_up_NUM_MESES_CON_ATRASO_4diasomas_U6M_CO... 9  5         NaN   \n",
       "                                                                                                      NaN                                                9  5         NaN   \n",
       "                                                   _1_cut_up_NUM_MESES_CON_ATRASO_4diasomas_U6M_CO... NaN                                                12 5         NaN   \n",
       "_2_cut_up_ATRASO_PROM_U6M_COLDIRECT_VIG_VENC_SF    TIENE_IMPORTE_PROT_REGISTRADO_MES_ACTUAL           NaN                                                11 5         NaN   \n",
       "_1_cut_up_ENDEUDAMIENTO_PAS_VEN_VAR_CEF_SITUACION  _aux_TIENE_TRX_OTROS_NO_TABLERO_U3M                NaN                                                11 5         NaN   \n",
       "_0.89_cut_up_ROTACION_INVENTARIOS_VAR_CEF_SITUA... _1_cut_up_ATRASO_PROM_U6M_COLDIRECT_VIG_VENC_SF    NaN                                                7  3         NaN   \n",
       "SEI_MCDO__AGROPECUARIO                             ADEX_MAX_U12M_ACTUAL_EXP_OVER_12M_PASADO_MENOR_1   NaN                                                7  3         NaN   \n",
       "_5_cut_up_NUM_BANCOS_PRIN_DEUDASF_ULT_RCC          TIENE_20PERCENT_O_MAS_SEI_VPC_FEVE_DRO             _3_cut_up_NUM_MESES_ANTERIORES_CON_IMPORTE_IMPA... 7  3         NaN   \n",
       "                                                   _3_cut_up_NUM_MESES_ANTERIORES_CON_IMPORTE_IMPA... NaN                                                7  3         NaN   \n",
       "TIENE_MAS_DE_10MESES_SIN_LINEA_VIGENTE             _0.6_cut_up_SOW_OTROSBCOS_MIN_historia             NaN                                                7  3         NaN   \n",
       "_-48_cut_down_DIFF_PROM_CANT_TRX_U6M_U12M_CASHOUT  ADEX_MIN_U12M_ACTUAL_IMP_OVER_12M_PASADO_MENOR_0.8 NaN                                                7  4         NaN   \n",
       "_1_cut_up_NUM_MESES_ANTERIORES_CON_NUM_DOCS_TRI... _5500000.0_cut_up_MTO_DEUDA_VIGENTE_COLDIRECT_S... NaN                                                7  3         NaN   \n",
       "_0_cut_up_TENDENCIA_DISMINUCION_CASHIN_U3M_U6M_... _3_cut_up_MAX_DIAS_ATRASO                          NaN                                                7  3         NaN   \n",
       "_1_cut_up_NUM_BANCOS_PRIN_CON_DIAS_ATRASO_MAYOR... SEI_TIENE_TENDENCIA_AUMENTO_NO_CLASIF_NORMAL_U3M   NaN                                                12 6         NaN   \n",
       "_30_cut_up_ROTACION_INVENTARIOS_CEF_SITUACION      _3_cut_up_NUM_MESES_CON_ATRASO_4diasomas_U6M_CO... NaN                                                18 8         NaN   \n",
       "_3_cut_up_NUM_MESES_CON_ATRASO_4diasomas_U6M_CO... _2_cut_up_NUM_BANCOS_NOIBK_DEBT_SUBIDA_SEGUIDA_... NaN                                                16 7         NaN   \n",
       "ATRASO_PROM_ULT_TRIM_OVER_TRIM_PASADO_MENOR_0.7    _1_cut_up_NUM_DOCS_LAB_U12M                        NaN                                                12 5         NaN   \n",
       "_5_cut_up_NUM_MESES_CON_ATRASO_U6M_COLDIRECT_SF    _aux_TRX_CAIDA_40PERCENT_TRANSFERENCIAS__U11M      NaN                                                11 6         NaN   \n",
       "\n",
       "                                                                                                                                                                   SCORE  \n",
       "_aux_TRX_CAIDA_30PERCENT_POS__U6M                  _2_cut_up_NUM_BANCOS_NOIBK_DEBT_SUBIDA_SEGUIDA_... NaN                                                6  2   0.428571  \n",
       "_aux_CASHOUT_CAIDA_30PERCENT_PAGO_DE_SERVICIOS_... IMPORTE_IMPAG_REGISTRADO_MAYOR_A_MIL_SOLES         _1.19_cut_up_ROTACION_CTASXCOBRAR_VAR_CEF_SITUA... 10 5        NaN  \n",
       "_aux_CASHOUT_CAIDA_20PERCENT_OPERACIONES_MESA__... sei_letal_gran_empresa                             NaN                                                11 5        NaN  \n",
       "_aux_TRX_CAIDA_20PERCENT_TRANSFERENCIAS__U6M       _5_cut_up_NUM_MESES_CON_ATRASO_U6M_COLDIRECT_SF    NaN                                                15 8        NaN  \n",
       "_1_cut_up_NUM_BANCOS_NOIBK_DEBT_MAYOR_DE_U3M       _5_cut_up_NUM_MESES_CON_ATRASO_U6M_COLDIRECT_SF    NaN                                                13 7        NaN  \n",
       "_aux_TIENE_TRX_POS__U12M                           _0.3_cut_down_minimo_percent_auto_hipo_pren_u12m   NaN                                                11 6        NaN  \n",
       "TIENE_MAS_DE_1_MES_SIN_PAGOS_MASIVOS__CASHOUT      _0.3_cut_down_maximo_percent_ibk_u12m              _aux_TRX_CAIDA_30PERCENT_OTROS_NO_TABLERO_MES_ANT  7  3        NaN  \n",
       "_0.1_cut_down_minimo_percent_auto_hipo_u12m        _3_cut_up_NUM_MESES_CON_ATRASO_U6M_COLDIRECT_SF    NaN                                                13 6        NaN  \n",
       "_4_cut_up_MAX_DIAS_ATRASO_SFSF_ULT_RCC             TIENE_DISMINUCION_PAGO_PROVEEDORES_60PERCENT_A_... NaN                                                7  3        NaN  \n",
       "_1_cut_up_NUM_MESES_SIN_LINEA_VIGENTE              _aux_TRX_CAIDA_10PERCENT_POS__U11M                 NaN                                                7  4        NaN  \n",
       "TIENE_DISMINUCION_10PERCENT_A_MAS_CANT_TRX_CASH... _6_cut_up_ATRASO_PROM_U12M_COLDIRECT_VIG_VENC_SF   NaN                                                14 6        NaN  \n",
       "_aux_TRX_CAIDA_40PERCENT_POS__U11M                 TIENE_MAS_DE_2_MESES_SIN_OPERACIONES_MESA__CASHOUT NaN                                                8  4        NaN  \n",
       "ADEX_MIN_U6M_ACTUAL_EXP_OVER_12M_PASADO_MENOR_1    _0.6_cut_up_ROTACION_CTASXCOBRAR_VAR_CEF_SITUACION _65_cut_up_ROTACION_INVENTARIOS_VAR_DIAS_CEF_SI... 7  3        NaN  \n",
       "_5_cut_up_MAX_DIAS_ATRASO                          _aux_TRX_CAIDA_30PERCENT_PAGOS_RECIBIDOS__U6M      NaN                                                7  3        NaN  \n",
       "_4_cut_up_NUM_MESES_CON_ATRASO_U6M_COLDIRECT_SF    _0.6_cut_up_maximo_percent_sow_others_u12m         NaN                                                19 8        NaN  \n",
       "ADEX_MIN_U3M_ACTUAL_IMP_OVER_12M_PASADO_MENOR_0.8  _4_cut_up_NUM_MESES_SIN_LINEA_VIGENTE              NaN                                                16 7        NaN  \n",
       "_2_cut_up_NUM_BANCOS_PRIN_DEUDASF_ULT_RCC          _2_cut_up_MAX_DIAS_ATRASO_SF                       FLG_VENCIDA                                        28 12       NaN  \n",
       "_2_cut_up_MAX_DIAS_ATRASO_SF                       FLG_VENCIDA                                        NaN                                                29 13       NaN  \n",
       "TIENE_DEUDA_PRESTAMOS_VIGENTE_RCC                  _1_cut_up_NUM_BANCOS_PRIN_CON_DIAS_ATRASO_MAYOR... NaN                                                16 7        NaN  \n",
       "IMPORTE_IMPAG_REGISTRADO_MAYOR_A_15MIL_SOLES       _7_cut_up_ATRASO_PROM_U12M_COLDIRECT_VIG_VENC_SF   NaN                                                7  5        NaN  \n",
       "TICKET_PROMEDIO_EN_RIESGO__Bucket_4_-_9.2_MM       _7_cut_up_ATRASO_PROM_U12M_COLDIRECT_VIG_VENC_SF   NaN                                                8  5        NaN  \n",
       "TIENE_REACTIVA_1_2_CON_OTRAS_EF                    _4_cut_up_MAX_DIAS_ATRASO_SFSF_ULT_RCC             _2_cut_up_NUM_MESES_ANTERIORES_CON_PROTESTOS_CO... 7  3        NaN  \n",
       "                                                                                                      NaN                                                15 7        NaN  \n",
       "sei_letal_gran_empresa                             TIENE_MAS_DE_2_MESES_SIN_DEPOSITOS__CASHIN         NaN                                                7  4        NaN  \n",
       "NO_TIENE_GAR_AUTO_SF                               _3_cut_down_F_Septile                              _aux_TIENE_TRX_POS__U12M                           14 6        NaN  \n",
       "                                                   _aux_TIENE_TRX_POS__U12M                           NaN                                                15 7        NaN  \n",
       "_3_cut_down_F_Septile                              _aux_TIENE_TRX_POS__U12M                           NaN                                                17 7        NaN  \n",
       "_1_cut_up_MAX_DIAS_ATRASO                          TIENE_MAS_DE_1MES_SIN_LINEA_VIGENTE                NaN                                                10 5        NaN  \n",
       "ATRASO_PROM_ULT_TRIM_OVER_TRIM_PASADO_MENOR_0.8    _4_cut_up_NUM_MESES_CON_ATRASO_4diasomas_U6M_CO... NaN                                                7  4        NaN  \n",
       "FLG_POSICION                                       _4_cut_up_NUM_MESES_CON_ATRASO_4diasomas_U6M_CO... NaN                                                10 7        NaN  \n",
       "_aux_TRX_CAIDA_20PERCENT_DEPOSITOS__U11M           TIENE_DISMINUCION_20PERCENT_A_MAS_CANT_TRX_PROM... TIENE_DISMINUCION_2_O_MAS_TIPOS_CASH_OUT_U3M       10 5        NaN  \n",
       "_4_cut_up_NUM_MESES_SIN_LINEA_VIGENTE              TIENE_DISMINUCION_15PERCENT_A_MAS_CANT_TRX_PROM... NaN                                                16 7        NaN  \n",
       "_9_cut_up_NUM_MESES_ANTERIORES_CON_PROTESTOS_CO... _3_cut_up_NUM_MESES_CON_ATRASO_U6M_COLDIRECT_SF    _1_cut_up_NUM_MESES_CON_ATRASO_4diasomas_U6M_CO... 9  5        NaN  \n",
       "                                                                                                      NaN                                                9  5        NaN  \n",
       "                                                   _1_cut_up_NUM_MESES_CON_ATRASO_4diasomas_U6M_CO... NaN                                                12 5        NaN  \n",
       "_2_cut_up_ATRASO_PROM_U6M_COLDIRECT_VIG_VENC_SF    TIENE_IMPORTE_PROT_REGISTRADO_MES_ACTUAL           NaN                                                11 5        NaN  \n",
       "_1_cut_up_ENDEUDAMIENTO_PAS_VEN_VAR_CEF_SITUACION  _aux_TIENE_TRX_OTROS_NO_TABLERO_U3M                NaN                                                11 5        NaN  \n",
       "_0.89_cut_up_ROTACION_INVENTARIOS_VAR_CEF_SITUA... _1_cut_up_ATRASO_PROM_U6M_COLDIRECT_VIG_VENC_SF    NaN                                                7  3        NaN  \n",
       "SEI_MCDO__AGROPECUARIO                             ADEX_MAX_U12M_ACTUAL_EXP_OVER_12M_PASADO_MENOR_1   NaN                                                7  3        NaN  \n",
       "_5_cut_up_NUM_BANCOS_PRIN_DEUDASF_ULT_RCC          TIENE_20PERCENT_O_MAS_SEI_VPC_FEVE_DRO             _3_cut_up_NUM_MESES_ANTERIORES_CON_IMPORTE_IMPA... 7  3        NaN  \n",
       "                                                   _3_cut_up_NUM_MESES_ANTERIORES_CON_IMPORTE_IMPA... NaN                                                7  3        NaN  \n",
       "TIENE_MAS_DE_10MESES_SIN_LINEA_VIGENTE             _0.6_cut_up_SOW_OTROSBCOS_MIN_historia             NaN                                                7  3        NaN  \n",
       "_-48_cut_down_DIFF_PROM_CANT_TRX_U6M_U12M_CASHOUT  ADEX_MIN_U12M_ACTUAL_IMP_OVER_12M_PASADO_MENOR_0.8 NaN                                                7  4        NaN  \n",
       "_1_cut_up_NUM_MESES_ANTERIORES_CON_NUM_DOCS_TRI... _5500000.0_cut_up_MTO_DEUDA_VIGENTE_COLDIRECT_S... NaN                                                7  3        NaN  \n",
       "_0_cut_up_TENDENCIA_DISMINUCION_CASHIN_U3M_U6M_... _3_cut_up_MAX_DIAS_ATRASO                          NaN                                                7  3        NaN  \n",
       "_1_cut_up_NUM_BANCOS_PRIN_CON_DIAS_ATRASO_MAYOR... SEI_TIENE_TENDENCIA_AUMENTO_NO_CLASIF_NORMAL_U3M   NaN                                                12 6        NaN  \n",
       "_30_cut_up_ROTACION_INVENTARIOS_CEF_SITUACION      _3_cut_up_NUM_MESES_CON_ATRASO_4diasomas_U6M_CO... NaN                                                18 8        NaN  \n",
       "_3_cut_up_NUM_MESES_CON_ATRASO_4diasomas_U6M_CO... _2_cut_up_NUM_BANCOS_NOIBK_DEBT_SUBIDA_SEGUIDA_... NaN                                                16 7        NaN  \n",
       "ATRASO_PROM_ULT_TRIM_OVER_TRIM_PASADO_MENOR_0.7    _1_cut_up_NUM_DOCS_LAB_U12M                        NaN                                                12 5        NaN  \n",
       "_5_cut_up_NUM_MESES_CON_ATRASO_U6M_COLDIRECT_SF    _aux_TRX_CAIDA_40PERCENT_TRANSFERENCIAS__U11M      NaN                                                11 6        NaN  "
      ]
     },
     "execution_count": 9,
     "metadata": {},
     "output_type": "execute_result"
    }
   ],
   "source": [
    "existentes = pd.read_csv('COMBINACIONES_GRAN_EMPRESA_LIMA.csv', sep=',').sort_values(by=['SCORE'], ascending=False)[\n",
    "    ['VAR_1', 'VAR_2', 'VAR_3', 'CASOS', 'CORRECTOS', 'SCORE']\n",
    "]\n",
    "\n",
    "existentes.head(50)"
   ]
  },
  {
   "cell_type": "code",
   "execution_count": 10,
   "metadata": {},
   "outputs": [],
   "source": [
    "#existentes.to_csv('COMBINACIONES_GRAN_EMPRESA_LIMA.csv', index=False)"
   ]
  },
  {
   "cell_type": "code",
   "execution_count": 11,
   "metadata": {},
   "outputs": [
    {
     "data": {
      "text/plain": [
       "51"
      ]
     },
     "execution_count": 11,
     "metadata": {},
     "output_type": "execute_result"
    }
   ],
   "source": [
    "try:\n",
    "    existentes['union'] = existentes[['VAR_1', 'VAR_2', 'VAR_3']].apply(\n",
    "        lambda _: '1_and_1_{}___{}'.format(_[0], _[1]) if pd.isnull(_[2]) else '1_and_1_and_1_{}___{}____{}'.format(_[0], _[1], _[2]), \n",
    "        axis=1\n",
    "    )\n",
    "    listado = list(existentes['union'].unique())\n",
    "    len(listado)\n",
    "except:\n",
    "    listado = []\n",
    "    \n",
    "len(listado)"
   ]
  },
  {
   "cell_type": "code",
   "execution_count": 12,
   "metadata": {},
   "outputs": [
    {
     "data": {
      "text/html": [
       "<div>\n",
       "<style scoped>\n",
       "    .dataframe tbody tr th:only-of-type {\n",
       "        vertical-align: middle;\n",
       "    }\n",
       "\n",
       "    .dataframe tbody tr th {\n",
       "        vertical-align: top;\n",
       "    }\n",
       "\n",
       "    .dataframe thead th {\n",
       "        text-align: right;\n",
       "    }\n",
       "</style>\n",
       "<table border=\"1\" class=\"dataframe\">\n",
       "  <thead>\n",
       "    <tr style=\"text-align: right;\">\n",
       "      <th>PERIODO</th>\n",
       "      <th>202009</th>\n",
       "      <th>202010</th>\n",
       "      <th>202011</th>\n",
       "      <th>202012</th>\n",
       "      <th>202101</th>\n",
       "      <th>202102</th>\n",
       "    </tr>\n",
       "    <tr>\n",
       "      <th>target_FINAL_fusion_atraso_feve_2Mbueno</th>\n",
       "      <th></th>\n",
       "      <th></th>\n",
       "      <th></th>\n",
       "      <th></th>\n",
       "      <th></th>\n",
       "      <th></th>\n",
       "    </tr>\n",
       "  </thead>\n",
       "  <tbody>\n",
       "    <tr>\n",
       "      <th>-1.0</th>\n",
       "      <td>140</td>\n",
       "      <td>127</td>\n",
       "      <td>119</td>\n",
       "      <td>109</td>\n",
       "      <td>109</td>\n",
       "      <td>106</td>\n",
       "    </tr>\n",
       "    <tr>\n",
       "      <th>0.0</th>\n",
       "      <td>256</td>\n",
       "      <td>272</td>\n",
       "      <td>281</td>\n",
       "      <td>288</td>\n",
       "      <td>286</td>\n",
       "      <td>287</td>\n",
       "    </tr>\n",
       "    <tr>\n",
       "      <th>1.0</th>\n",
       "      <td>22</td>\n",
       "      <td>18</td>\n",
       "      <td>15</td>\n",
       "      <td>19</td>\n",
       "      <td>15</td>\n",
       "      <td>19</td>\n",
       "    </tr>\n",
       "  </tbody>\n",
       "</table>\n",
       "</div>"
      ],
      "text/plain": [
       "PERIODO                                  202009  202010  202011  202012  \\\n",
       "target_FINAL_fusion_atraso_feve_2Mbueno                                   \n",
       "-1.0                                        140     127     119     109   \n",
       " 0.0                                        256     272     281     288   \n",
       " 1.0                                         22      18      15      19   \n",
       "\n",
       "PERIODO                                  202101  202102  \n",
       "target_FINAL_fusion_atraso_feve_2Mbueno                  \n",
       "-1.0                                        109     106  \n",
       " 0.0                                        286     287  \n",
       " 1.0                                         15      19  "
      ]
     },
     "metadata": {},
     "output_type": "display_data"
    },
    {
     "data": {
      "text/plain": [
       "(1778, 3638)"
      ]
     },
     "execution_count": 12,
     "metadata": {},
     "output_type": "execute_result"
    }
   ],
   "source": [
    "import random as rn\n",
    "import itertools\n",
    "\n",
    "col_target = 'target_FINAL_fusion_atraso_feve_2Mbueno'\n",
    "display(pd.crosstab(\n",
    "    data[col_target].fillna(-1), data['PERIODO']\n",
    "))\n",
    "\n",
    "aucc = {}\n",
    "struct = []\n",
    "\n",
    "data = data[data[col_target].notnull()][cols_combine + ['COD_UNICO', col_target, 'PERIODO']]\n",
    "data.shape"
   ]
  },
  {
   "cell_type": "code",
   "execution_count": 13,
   "metadata": {},
   "outputs": [],
   "source": [
    "SEED = int(time.time() / 1000)\n",
    "os.environ['PYTHONHASHSEED'] = str(SEED)\n",
    "np.random.seed(SEED)\n",
    "rn.seed(SEED)\n",
    "\n",
    "rn.shuffle(cols_combine)"
   ]
  },
  {
   "cell_type": "code",
   "execution_count": null,
   "metadata": {},
   "outputs": [
    {
     "name": "stdout",
     "output_type": "stream",
     "text": [
      "///////////////////////// 2021-05-28 05:02:56.135952\n",
      "///////////////////////// 2021-05-28 05:03:24.168627\n",
      "///////////////////////// 2021-05-28 05:04:26.033039\n",
      "///////////////////////// 2021-05-28 05:04:43.524256\n",
      "///////////////////////// 2021-05-28 05:04:52.719693\n",
      "///////////////////////// 2021-05-28 05:05:41.566591\n",
      "///////////////////////// 2021-05-28 05:06:03.137542\n",
      "///////////////////////// 2021-05-28 05:07:07.772698\n",
      "///////////////////////// 2021-05-28 05:07:34.117342\n",
      "///////////////////////// 2021-05-28 05:08:10.635991\n",
      "///////////////////////// 2021-05-28 05:10:21.375936\n",
      "///////////////////////// 2021-05-28 05:12:12.358001\n",
      "///////////////////////// 2021-05-28 05:12:41.884942\n",
      "///////////////////////// 2021-05-28 05:13:19.729399\n",
      "///////////////////////// 2021-05-28 05:14:17.276684\n",
      "///////////////////////// 2021-05-28 05:15:04.792055\n",
      "///////////////////////// 2021-05-28 05:15:48.524071\n",
      "///////////////////////// 2021-05-28 05:16:12.420343\n",
      "///////////////////////// 2021-05-28 05:17:03.606894\n",
      "///////////////////////// 2021-05-28 05:17:50.292132\n",
      "///////////////////////// 2021-05-28 05:18:11.075410\n",
      "///////////////////////// 2021-05-28 05:19:15.060477\n",
      "///////////////////////// 2021-05-28 05:21:09.770161\n",
      "///////////////////////// 2021-05-28 05:22:19.408400\n",
      "///////////////////////// 2021-05-28 05:24:12.749810\n",
      "///////////////////////// 2021-05-28 05:26:19.179086\n",
      "///////////////////////// 2021-05-28 05:26:30.395078\n",
      "///////////////////////// 2021-05-28 05:27:26.184473\n",
      "///////////////////////// 2021-05-28 05:32:09.531956\n",
      "///////////////////////// 2021-05-28 05:33:55.574538\n",
      "///////////////////////// 2021-05-28 05:35:58.468615\n",
      "///////////////////////// 2021-05-28 05:38:35.276415\n",
      "///////////////////////// 2021-05-28 05:42:19.493581\n",
      "///////////////////////// 2021-05-28 05:44:30.444630\n",
      "///////////////////////// 2021-05-28 05:45:45.442187\n",
      "///////////////////////// 2021-05-28 05:47:54.773169\n",
      "///////////////////////// 2021-05-28 05:48:40.498801\n",
      "///////////////////////// 2021-05-28 05:50:08.351063\n",
      "///////////////////////// 2021-05-28 05:51:17.160616\n",
      "///////////////////////// 2021-05-28 05:52:21.955891\n",
      "///////////////////////// 2021-05-28 05:53:27.021328\n",
      "///////////////////////// 2021-05-28 05:54:17.481508\n",
      "///////////////////////// 2021-05-28 05:56:58.330554\n",
      "///////////////////////// 2021-05-28 05:59:22.649143\n",
      "///////////////////////// 2021-05-28 06:00:58.993733\n",
      "///////////////////////// 2021-05-28 06:01:49.491536\n",
      "///////////////////////// 2021-05-28 06:04:40.570937\n",
      "///////////////////////// 2021-05-28 06:06:24.310853\n",
      "///////////////////////// 2021-05-28 06:08:25.396555\n",
      "///////////////////////// 2021-05-28 06:10:58.822665\n",
      "///////////////////////// 2021-05-28 06:12:24.080925\n",
      "///////////////////////// 2021-05-28 06:16:30.031233\n",
      "///////////////////////// 2021-05-28 06:17:12.012455\n",
      "///////////////////////// 2021-05-28 06:18:12.354716\n",
      "///////////////////////// 2021-05-28 06:19:31.174145\n",
      "///////////////////////// 2021-05-28 06:23:12.376292\n",
      "///////////////////////// 2021-05-28 06:27:38.886293\n",
      "///////////////////////// 2021-05-28 06:30:37.766911\n",
      "///////////////////////// 2021-05-28 06:32:31.441307\n",
      "///////////////////////// 2021-05-28 06:35:08.249276\n",
      "///////////////////////// 2021-05-28 06:37:15.471277\n",
      "///////////////////////// 2021-05-28 06:41:00.173764\n",
      "///////////////////////// 2021-05-28 06:45:48.140816\n",
      "///////////////////////// 2021-05-28 06:46:07.226023\n",
      "///////////////////////// 2021-05-28 06:47:47.980169\n",
      "///////////////////////// 2021-05-28 06:49:35.363083\n",
      "///////////////////////// 2021-05-28 06:52:56.501410\n",
      "///////////////////////// 2021-05-28 06:55:22.863955\n",
      "///////////////////////// 2021-05-28 06:56:20.832952\n",
      "///////////////////////// 2021-05-28 06:59:54.112198\n",
      "///////////////////////// 2021-05-28 07:00:31.652972\n",
      "///////////////////////// 2021-05-28 07:04:43.799252\n",
      "///////////////////////// 2021-05-28 07:05:33.759519\n",
      "///////////////////////// 2021-05-28 07:10:14.677714\n",
      "///////////////////////// 2021-05-28 07:11:34.792312\n",
      "///////////////////////// 2021-05-28 07:15:38.849261\n",
      "///////////////////////// 2021-05-28 07:16:39.582118\n",
      "///////////////////////// 2021-05-28 07:20:05.598804\n",
      "///////////////////////// 2021-05-28 07:26:12.743836\n",
      "///////////////////////// 2021-05-28 07:29:28.832640\n",
      "///////////////////////// 2021-05-28 07:33:32.510732\n",
      "///////////////////////// 2021-05-28 07:36:34.964388\n",
      "///////////////////////// 2021-05-28 07:41:06.510563\n",
      "///////////////////////// 2021-05-28 07:45:05.993301\n",
      "///////////////////////// 2021-05-28 07:51:01.514111\n",
      "///////////////////////// 2021-05-28 08:01:39.355687\n",
      "///////////////////////// 2021-05-28 08:04:32.552951\n",
      "///////////////////////// 2021-05-28 08:07:14.401914\n",
      "///////////////////////// 2021-05-28 08:12:34.794777\n",
      "///////////////////////// 2021-05-28 08:23:41.263768\n",
      "///////////////////////// 2021-05-28 08:27:28.729122\n",
      "///////////////////////// 2021-05-28 08:28:12.164521\n",
      "///////////////////////// 2021-05-28 08:31:28.662548\n",
      "///////////////////////// 2021-05-28 08:40:37.703618\n",
      "///////////////////////// 2021-05-28 08:48:24.566355\n",
      "///////////////////////// 2021-05-28 08:50:44.985205\n",
      "///////////////////////// 2021-05-28 09:00:45.043341\n",
      "///////////////////////// 2021-05-28 09:04:52.948539\n",
      "///////////////////////// 2021-05-28 09:08:33.130302\n",
      "///////////////////////// 2021-05-28 09:12:56.360554\n",
      "///////////////////////// 2021-05-28 09:15:32.821307\n",
      "///////////////////////// 2021-05-28 09:27:48.747124\n",
      "///////////////////////// 2021-05-28 09:35:09.466115\n",
      "///////////////////////// 2021-05-28 09:40:45.760446\n",
      "///////////////////////// 2021-05-28 09:54:45.436031\n",
      "///////////////////////// 2021-05-28 09:57:42.104006\n",
      "///////////////////////// 2021-05-28 10:05:53.326674\n",
      "///////////////////////// 2021-05-28 10:06:24.952246\n",
      "///////////////////////// 2021-05-28 10:14:34.592032\n",
      "///////////////////////// 2021-05-28 10:17:02.549257\n"
     ]
    }
   ],
   "source": [
    "from datetime import datetime\n",
    "tiempo_inicio = time.time()\n",
    "nn = len(struct)\n",
    "\n",
    "while True:\n",
    "    x = rn.choice(cols_combine)\n",
    "    y = rn.choice(cols_combine)\n",
    "    z = rn.choice(cols_combine)\n",
    "    \n",
    "    col_evaluate = '1_and_1_and_1_{}___{}____{}'.format(x, y, z)\n",
    "    \n",
    "    if col_evaluate not in listado and x != y and x!= z and y!= z:\n",
    "        listado.append(col_evaluate)\n",
    "        \n",
    "        lambda_basico = lambda _:  _[0] >= 1 and _[1] >= 1 and _[2] >= 1\n",
    "        data[col_evaluate] = data[[x, y, z]].apply(lambda_basico, axis=1).astype(int)\n",
    "        #data_play_1[col_evaluate] = data_play_1[[x, y, z]].apply(lambda_basico, axis=1).astype(int)\n",
    "        \n",
    "        \n",
    "        coincidencias = len(set(data[data[col_evaluate] == 1]['COD_UNICO'].unique()))\n",
    "        acertados = len(set(data[(data[col_evaluate] == 1) & (data[col_target] == 1)]['COD_UNICO'].unique()))\n",
    "        \n",
    "        if coincidencias > 5 and acertados/coincidencias > 0.4:\n",
    "            aucc[col_evaluate] = acertados/coincidencias\n",
    "            struct.append(\n",
    "                [x, y, z, coincidencias, acertados, acertados/coincidencias]\n",
    "            )\n",
    "            tiempo_inicio = time.time()\n",
    "            nn = len(struct)\n",
    "            #print(struct[-1])\n",
    "            \n",
    "        ### Generado pares de 2 \n",
    "        for a, b in list(itertools.combinations([x, y, z], 2)):\n",
    "            \n",
    "            col_evaluate = '1_and_1_{}___{}'.format(a, b)\n",
    "            if col_evaluate not in listado:\n",
    "                lambda_basico = lambda _:  _[0] >= 1 and _[1] >= 1\n",
    "                data[col_evaluate] = data[[a, b]].apply(lambda_basico, axis=1).astype(int)\n",
    "                #data_play_1[col_evaluate] = data_play_1[[a, b]].apply(lambda_basico, axis=1).astype(int)\n",
    "                \n",
    "                coincidencias = len(set(data[data[col_evaluate] == 1]['COD_UNICO'].unique()))\n",
    "                acertados = len(set(data[(data[col_evaluate] == 1) & (data[col_target] == 1)]['COD_UNICO'].unique()))\n",
    "                \n",
    "                if coincidencias > 5 and acertados/coincidencias > 0.4:\n",
    "                    aucc[col_evaluate] = acertados/coincidencias\n",
    "                    struct.append(\n",
    "                        [a, b, None, coincidencias, acertados, acertados/coincidencias]\n",
    "                    )\n",
    "                    tiempo_inicio = time.time()\n",
    "                    nn = len(struct)\n",
    "                    #print(struct[-1])\n",
    "        \n",
    "        if len(struct) >= 5:\n",
    "            pd.DataFrame(struct).to_csv('COMBINACIONES_GRAN_EMPRESA_LIMA.csv', header=False, index=False, mode='a')\n",
    "            print(\"/\"*25, datetime.now())\n",
    "            struct = []\n",
    "            \n",
    "        if time.time() - tiempo_inicio >= 3600 and nn == len(struct):\n",
    "            print(\"Mas de 1 hora sin nueva combinacion de alerta\")\n",
    "            break\n",
    "                                                        "
   ]
  },
  {
   "cell_type": "code",
   "execution_count": null,
   "metadata": {},
   "outputs": [],
   "source": []
  },
  {
   "cell_type": "code",
   "execution_count": null,
   "metadata": {},
   "outputs": [],
   "source": []
  },
  {
   "cell_type": "code",
   "execution_count": null,
   "metadata": {},
   "outputs": [],
   "source": []
  },
  {
   "cell_type": "code",
   "execution_count": null,
   "metadata": {},
   "outputs": [],
   "source": []
  },
  {
   "cell_type": "code",
   "execution_count": null,
   "metadata": {},
   "outputs": [],
   "source": []
  },
  {
   "cell_type": "code",
   "execution_count": null,
   "metadata": {},
   "outputs": [],
   "source": []
  },
  {
   "cell_type": "code",
   "execution_count": null,
   "metadata": {},
   "outputs": [],
   "source": []
  },
  {
   "cell_type": "code",
   "execution_count": null,
   "metadata": {},
   "outputs": [],
   "source": []
  },
  {
   "cell_type": "code",
   "execution_count": null,
   "metadata": {},
   "outputs": [],
   "source": []
  },
  {
   "cell_type": "code",
   "execution_count": null,
   "metadata": {},
   "outputs": [],
   "source": []
  },
  {
   "cell_type": "code",
   "execution_count": null,
   "metadata": {},
   "outputs": [],
   "source": []
  },
  {
   "cell_type": "code",
   "execution_count": null,
   "metadata": {},
   "outputs": [],
   "source": []
  },
  {
   "cell_type": "code",
   "execution_count": null,
   "metadata": {},
   "outputs": [],
   "source": []
  },
  {
   "cell_type": "code",
   "execution_count": null,
   "metadata": {},
   "outputs": [],
   "source": []
  },
  {
   "cell_type": "code",
   "execution_count": null,
   "metadata": {},
   "outputs": [],
   "source": []
  },
  {
   "cell_type": "code",
   "execution_count": null,
   "metadata": {},
   "outputs": [],
   "source": []
  },
  {
   "cell_type": "code",
   "execution_count": null,
   "metadata": {},
   "outputs": [],
   "source": []
  },
  {
   "cell_type": "code",
   "execution_count": null,
   "metadata": {},
   "outputs": [],
   "source": []
  },
  {
   "cell_type": "code",
   "execution_count": null,
   "metadata": {},
   "outputs": [],
   "source": []
  },
  {
   "cell_type": "code",
   "execution_count": null,
   "metadata": {},
   "outputs": [],
   "source": []
  },
  {
   "cell_type": "code",
   "execution_count": null,
   "metadata": {},
   "outputs": [],
   "source": []
  },
  {
   "cell_type": "code",
   "execution_count": null,
   "metadata": {},
   "outputs": [],
   "source": []
  },
  {
   "cell_type": "code",
   "execution_count": null,
   "metadata": {},
   "outputs": [],
   "source": []
  },
  {
   "cell_type": "code",
   "execution_count": null,
   "metadata": {},
   "outputs": [],
   "source": []
  },
  {
   "cell_type": "code",
   "execution_count": null,
   "metadata": {},
   "outputs": [],
   "source": []
  },
  {
   "cell_type": "code",
   "execution_count": null,
   "metadata": {},
   "outputs": [],
   "source": []
  },
  {
   "cell_type": "code",
   "execution_count": null,
   "metadata": {},
   "outputs": [],
   "source": []
  },
  {
   "cell_type": "code",
   "execution_count": null,
   "metadata": {},
   "outputs": [],
   "source": []
  },
  {
   "cell_type": "code",
   "execution_count": null,
   "metadata": {},
   "outputs": [],
   "source": []
  },
  {
   "cell_type": "code",
   "execution_count": null,
   "metadata": {},
   "outputs": [],
   "source": []
  },
  {
   "cell_type": "code",
   "execution_count": null,
   "metadata": {},
   "outputs": [],
   "source": []
  },
  {
   "cell_type": "code",
   "execution_count": null,
   "metadata": {},
   "outputs": [],
   "source": []
  },
  {
   "cell_type": "code",
   "execution_count": null,
   "metadata": {},
   "outputs": [],
   "source": []
  },
  {
   "cell_type": "code",
   "execution_count": null,
   "metadata": {},
   "outputs": [],
   "source": []
  },
  {
   "cell_type": "code",
   "execution_count": null,
   "metadata": {},
   "outputs": [],
   "source": []
  },
  {
   "cell_type": "code",
   "execution_count": null,
   "metadata": {},
   "outputs": [],
   "source": []
  },
  {
   "cell_type": "code",
   "execution_count": null,
   "metadata": {},
   "outputs": [],
   "source": []
  },
  {
   "cell_type": "code",
   "execution_count": null,
   "metadata": {},
   "outputs": [],
   "source": []
  },
  {
   "cell_type": "code",
   "execution_count": null,
   "metadata": {},
   "outputs": [],
   "source": []
  },
  {
   "cell_type": "code",
   "execution_count": null,
   "metadata": {},
   "outputs": [],
   "source": []
  },
  {
   "cell_type": "code",
   "execution_count": null,
   "metadata": {},
   "outputs": [],
   "source": []
  },
  {
   "cell_type": "code",
   "execution_count": null,
   "metadata": {},
   "outputs": [],
   "source": []
  },
  {
   "cell_type": "code",
   "execution_count": null,
   "metadata": {},
   "outputs": [],
   "source": []
  },
  {
   "cell_type": "code",
   "execution_count": null,
   "metadata": {},
   "outputs": [],
   "source": []
  },
  {
   "cell_type": "code",
   "execution_count": null,
   "metadata": {},
   "outputs": [],
   "source": []
  },
  {
   "cell_type": "code",
   "execution_count": null,
   "metadata": {},
   "outputs": [],
   "source": []
  },
  {
   "cell_type": "code",
   "execution_count": null,
   "metadata": {},
   "outputs": [],
   "source": []
  },
  {
   "cell_type": "code",
   "execution_count": null,
   "metadata": {},
   "outputs": [],
   "source": []
  },
  {
   "cell_type": "code",
   "execution_count": null,
   "metadata": {},
   "outputs": [],
   "source": []
  },
  {
   "cell_type": "code",
   "execution_count": null,
   "metadata": {},
   "outputs": [],
   "source": []
  },
  {
   "cell_type": "code",
   "execution_count": null,
   "metadata": {},
   "outputs": [],
   "source": []
  },
  {
   "cell_type": "code",
   "execution_count": null,
   "metadata": {},
   "outputs": [],
   "source": []
  },
  {
   "cell_type": "code",
   "execution_count": null,
   "metadata": {},
   "outputs": [],
   "source": []
  },
  {
   "cell_type": "code",
   "execution_count": null,
   "metadata": {},
   "outputs": [],
   "source": []
  },
  {
   "cell_type": "code",
   "execution_count": null,
   "metadata": {},
   "outputs": [],
   "source": []
  },
  {
   "cell_type": "code",
   "execution_count": null,
   "metadata": {},
   "outputs": [],
   "source": []
  },
  {
   "cell_type": "code",
   "execution_count": null,
   "metadata": {},
   "outputs": [],
   "source": []
  },
  {
   "cell_type": "code",
   "execution_count": null,
   "metadata": {},
   "outputs": [],
   "source": []
  },
  {
   "cell_type": "code",
   "execution_count": null,
   "metadata": {},
   "outputs": [],
   "source": []
  },
  {
   "cell_type": "code",
   "execution_count": null,
   "metadata": {},
   "outputs": [],
   "source": []
  },
  {
   "cell_type": "code",
   "execution_count": null,
   "metadata": {},
   "outputs": [],
   "source": []
  },
  {
   "cell_type": "code",
   "execution_count": null,
   "metadata": {},
   "outputs": [],
   "source": []
  },
  {
   "cell_type": "code",
   "execution_count": null,
   "metadata": {},
   "outputs": [],
   "source": []
  },
  {
   "cell_type": "code",
   "execution_count": null,
   "metadata": {},
   "outputs": [],
   "source": []
  },
  {
   "cell_type": "code",
   "execution_count": null,
   "metadata": {},
   "outputs": [],
   "source": []
  },
  {
   "cell_type": "code",
   "execution_count": null,
   "metadata": {},
   "outputs": [],
   "source": []
  },
  {
   "cell_type": "code",
   "execution_count": null,
   "metadata": {},
   "outputs": [],
   "source": []
  },
  {
   "cell_type": "code",
   "execution_count": null,
   "metadata": {},
   "outputs": [],
   "source": []
  },
  {
   "cell_type": "code",
   "execution_count": null,
   "metadata": {},
   "outputs": [],
   "source": []
  },
  {
   "cell_type": "code",
   "execution_count": null,
   "metadata": {},
   "outputs": [],
   "source": []
  },
  {
   "cell_type": "code",
   "execution_count": null,
   "metadata": {},
   "outputs": [],
   "source": []
  },
  {
   "cell_type": "code",
   "execution_count": null,
   "metadata": {},
   "outputs": [],
   "source": []
  },
  {
   "cell_type": "code",
   "execution_count": null,
   "metadata": {},
   "outputs": [],
   "source": []
  },
  {
   "cell_type": "code",
   "execution_count": null,
   "metadata": {},
   "outputs": [],
   "source": []
  },
  {
   "cell_type": "code",
   "execution_count": null,
   "metadata": {},
   "outputs": [],
   "source": []
  },
  {
   "cell_type": "code",
   "execution_count": null,
   "metadata": {},
   "outputs": [],
   "source": []
  },
  {
   "cell_type": "code",
   "execution_count": null,
   "metadata": {},
   "outputs": [],
   "source": []
  },
  {
   "cell_type": "code",
   "execution_count": null,
   "metadata": {},
   "outputs": [],
   "source": []
  },
  {
   "cell_type": "code",
   "execution_count": null,
   "metadata": {},
   "outputs": [],
   "source": []
  },
  {
   "cell_type": "code",
   "execution_count": null,
   "metadata": {},
   "outputs": [],
   "source": []
  },
  {
   "cell_type": "code",
   "execution_count": null,
   "metadata": {},
   "outputs": [],
   "source": []
  },
  {
   "cell_type": "code",
   "execution_count": null,
   "metadata": {},
   "outputs": [],
   "source": []
  },
  {
   "cell_type": "code",
   "execution_count": null,
   "metadata": {},
   "outputs": [],
   "source": []
  },
  {
   "cell_type": "code",
   "execution_count": null,
   "metadata": {},
   "outputs": [],
   "source": []
  },
  {
   "cell_type": "code",
   "execution_count": null,
   "metadata": {},
   "outputs": [],
   "source": []
  },
  {
   "cell_type": "code",
   "execution_count": null,
   "metadata": {},
   "outputs": [],
   "source": []
  },
  {
   "cell_type": "code",
   "execution_count": null,
   "metadata": {},
   "outputs": [],
   "source": []
  },
  {
   "cell_type": "code",
   "execution_count": null,
   "metadata": {},
   "outputs": [],
   "source": []
  },
  {
   "cell_type": "code",
   "execution_count": null,
   "metadata": {},
   "outputs": [],
   "source": []
  },
  {
   "cell_type": "code",
   "execution_count": null,
   "metadata": {},
   "outputs": [],
   "source": []
  },
  {
   "cell_type": "code",
   "execution_count": null,
   "metadata": {},
   "outputs": [],
   "source": []
  },
  {
   "cell_type": "code",
   "execution_count": null,
   "metadata": {},
   "outputs": [],
   "source": []
  },
  {
   "cell_type": "code",
   "execution_count": null,
   "metadata": {},
   "outputs": [],
   "source": []
  },
  {
   "cell_type": "code",
   "execution_count": null,
   "metadata": {},
   "outputs": [],
   "source": []
  },
  {
   "cell_type": "code",
   "execution_count": null,
   "metadata": {},
   "outputs": [],
   "source": []
  },
  {
   "cell_type": "code",
   "execution_count": null,
   "metadata": {},
   "outputs": [],
   "source": []
  },
  {
   "cell_type": "code",
   "execution_count": null,
   "metadata": {},
   "outputs": [],
   "source": []
  },
  {
   "cell_type": "code",
   "execution_count": null,
   "metadata": {},
   "outputs": [],
   "source": []
  },
  {
   "cell_type": "code",
   "execution_count": null,
   "metadata": {},
   "outputs": [],
   "source": []
  },
  {
   "cell_type": "code",
   "execution_count": null,
   "metadata": {},
   "outputs": [],
   "source": []
  },
  {
   "cell_type": "code",
   "execution_count": null,
   "metadata": {},
   "outputs": [],
   "source": []
  },
  {
   "cell_type": "code",
   "execution_count": null,
   "metadata": {},
   "outputs": [],
   "source": []
  },
  {
   "cell_type": "code",
   "execution_count": null,
   "metadata": {},
   "outputs": [],
   "source": []
  },
  {
   "cell_type": "code",
   "execution_count": null,
   "metadata": {},
   "outputs": [],
   "source": []
  },
  {
   "cell_type": "code",
   "execution_count": null,
   "metadata": {},
   "outputs": [],
   "source": []
  },
  {
   "cell_type": "code",
   "execution_count": null,
   "metadata": {},
   "outputs": [],
   "source": []
  },
  {
   "cell_type": "code",
   "execution_count": null,
   "metadata": {},
   "outputs": [],
   "source": []
  },
  {
   "cell_type": "code",
   "execution_count": null,
   "metadata": {},
   "outputs": [],
   "source": []
  },
  {
   "cell_type": "code",
   "execution_count": null,
   "metadata": {},
   "outputs": [],
   "source": []
  },
  {
   "cell_type": "code",
   "execution_count": null,
   "metadata": {},
   "outputs": [],
   "source": []
  },
  {
   "cell_type": "code",
   "execution_count": null,
   "metadata": {},
   "outputs": [],
   "source": []
  },
  {
   "cell_type": "code",
   "execution_count": null,
   "metadata": {},
   "outputs": [],
   "source": []
  },
  {
   "cell_type": "code",
   "execution_count": null,
   "metadata": {},
   "outputs": [],
   "source": []
  },
  {
   "cell_type": "code",
   "execution_count": null,
   "metadata": {},
   "outputs": [],
   "source": []
  },
  {
   "cell_type": "code",
   "execution_count": null,
   "metadata": {},
   "outputs": [],
   "source": []
  },
  {
   "cell_type": "code",
   "execution_count": null,
   "metadata": {},
   "outputs": [],
   "source": []
  },
  {
   "cell_type": "code",
   "execution_count": null,
   "metadata": {},
   "outputs": [],
   "source": []
  },
  {
   "cell_type": "code",
   "execution_count": null,
   "metadata": {},
   "outputs": [],
   "source": []
  },
  {
   "cell_type": "code",
   "execution_count": null,
   "metadata": {},
   "outputs": [],
   "source": []
  },
  {
   "cell_type": "code",
   "execution_count": null,
   "metadata": {},
   "outputs": [],
   "source": []
  },
  {
   "cell_type": "code",
   "execution_count": null,
   "metadata": {},
   "outputs": [],
   "source": []
  },
  {
   "cell_type": "code",
   "execution_count": null,
   "metadata": {},
   "outputs": [],
   "source": []
  },
  {
   "cell_type": "code",
   "execution_count": null,
   "metadata": {},
   "outputs": [],
   "source": []
  },
  {
   "cell_type": "code",
   "execution_count": null,
   "metadata": {},
   "outputs": [],
   "source": []
  },
  {
   "cell_type": "code",
   "execution_count": null,
   "metadata": {},
   "outputs": [],
   "source": []
  },
  {
   "cell_type": "code",
   "execution_count": null,
   "metadata": {},
   "outputs": [],
   "source": []
  },
  {
   "cell_type": "code",
   "execution_count": null,
   "metadata": {},
   "outputs": [],
   "source": []
  },
  {
   "cell_type": "code",
   "execution_count": null,
   "metadata": {},
   "outputs": [],
   "source": []
  },
  {
   "cell_type": "code",
   "execution_count": null,
   "metadata": {},
   "outputs": [],
   "source": []
  },
  {
   "cell_type": "code",
   "execution_count": null,
   "metadata": {},
   "outputs": [],
   "source": []
  },
  {
   "cell_type": "code",
   "execution_count": null,
   "metadata": {},
   "outputs": [],
   "source": []
  },
  {
   "cell_type": "code",
   "execution_count": null,
   "metadata": {},
   "outputs": [],
   "source": []
  },
  {
   "cell_type": "code",
   "execution_count": null,
   "metadata": {},
   "outputs": [],
   "source": []
  },
  {
   "cell_type": "code",
   "execution_count": null,
   "metadata": {},
   "outputs": [],
   "source": []
  },
  {
   "cell_type": "code",
   "execution_count": null,
   "metadata": {},
   "outputs": [],
   "source": []
  },
  {
   "cell_type": "code",
   "execution_count": null,
   "metadata": {},
   "outputs": [],
   "source": []
  },
  {
   "cell_type": "code",
   "execution_count": null,
   "metadata": {},
   "outputs": [],
   "source": []
  },
  {
   "cell_type": "code",
   "execution_count": null,
   "metadata": {},
   "outputs": [],
   "source": []
  },
  {
   "cell_type": "code",
   "execution_count": null,
   "metadata": {},
   "outputs": [],
   "source": []
  },
  {
   "cell_type": "code",
   "execution_count": null,
   "metadata": {},
   "outputs": [],
   "source": []
  },
  {
   "cell_type": "code",
   "execution_count": null,
   "metadata": {},
   "outputs": [],
   "source": []
  },
  {
   "cell_type": "code",
   "execution_count": null,
   "metadata": {},
   "outputs": [],
   "source": []
  },
  {
   "cell_type": "code",
   "execution_count": null,
   "metadata": {},
   "outputs": [],
   "source": []
  },
  {
   "cell_type": "code",
   "execution_count": null,
   "metadata": {},
   "outputs": [],
   "source": []
  },
  {
   "cell_type": "code",
   "execution_count": null,
   "metadata": {},
   "outputs": [],
   "source": []
  },
  {
   "cell_type": "code",
   "execution_count": null,
   "metadata": {},
   "outputs": [],
   "source": []
  },
  {
   "cell_type": "code",
   "execution_count": null,
   "metadata": {},
   "outputs": [],
   "source": []
  },
  {
   "cell_type": "code",
   "execution_count": null,
   "metadata": {},
   "outputs": [],
   "source": []
  },
  {
   "cell_type": "code",
   "execution_count": null,
   "metadata": {},
   "outputs": [],
   "source": []
  },
  {
   "cell_type": "code",
   "execution_count": null,
   "metadata": {},
   "outputs": [],
   "source": []
  },
  {
   "cell_type": "code",
   "execution_count": null,
   "metadata": {},
   "outputs": [],
   "source": []
  },
  {
   "cell_type": "code",
   "execution_count": null,
   "metadata": {},
   "outputs": [],
   "source": []
  },
  {
   "cell_type": "code",
   "execution_count": null,
   "metadata": {},
   "outputs": [],
   "source": []
  },
  {
   "cell_type": "code",
   "execution_count": null,
   "metadata": {},
   "outputs": [],
   "source": []
  },
  {
   "cell_type": "code",
   "execution_count": null,
   "metadata": {},
   "outputs": [],
   "source": []
  },
  {
   "cell_type": "code",
   "execution_count": null,
   "metadata": {},
   "outputs": [],
   "source": []
  },
  {
   "cell_type": "code",
   "execution_count": null,
   "metadata": {},
   "outputs": [],
   "source": []
  },
  {
   "cell_type": "code",
   "execution_count": null,
   "metadata": {},
   "outputs": [],
   "source": []
  },
  {
   "cell_type": "code",
   "execution_count": null,
   "metadata": {},
   "outputs": [],
   "source": []
  },
  {
   "cell_type": "code",
   "execution_count": null,
   "metadata": {},
   "outputs": [],
   "source": []
  },
  {
   "cell_type": "code",
   "execution_count": null,
   "metadata": {},
   "outputs": [],
   "source": []
  },
  {
   "cell_type": "code",
   "execution_count": null,
   "metadata": {},
   "outputs": [],
   "source": []
  },
  {
   "cell_type": "code",
   "execution_count": null,
   "metadata": {},
   "outputs": [],
   "source": []
  },
  {
   "cell_type": "code",
   "execution_count": null,
   "metadata": {},
   "outputs": [],
   "source": []
  },
  {
   "cell_type": "code",
   "execution_count": null,
   "metadata": {},
   "outputs": [],
   "source": []
  },
  {
   "cell_type": "code",
   "execution_count": null,
   "metadata": {},
   "outputs": [],
   "source": []
  },
  {
   "cell_type": "code",
   "execution_count": null,
   "metadata": {},
   "outputs": [],
   "source": []
  },
  {
   "cell_type": "code",
   "execution_count": null,
   "metadata": {},
   "outputs": [],
   "source": []
  },
  {
   "cell_type": "code",
   "execution_count": null,
   "metadata": {},
   "outputs": [],
   "source": []
  },
  {
   "cell_type": "code",
   "execution_count": null,
   "metadata": {},
   "outputs": [],
   "source": []
  },
  {
   "cell_type": "code",
   "execution_count": null,
   "metadata": {},
   "outputs": [],
   "source": []
  },
  {
   "cell_type": "code",
   "execution_count": null,
   "metadata": {},
   "outputs": [],
   "source": []
  },
  {
   "cell_type": "code",
   "execution_count": null,
   "metadata": {},
   "outputs": [],
   "source": []
  },
  {
   "cell_type": "code",
   "execution_count": null,
   "metadata": {},
   "outputs": [],
   "source": []
  },
  {
   "cell_type": "code",
   "execution_count": null,
   "metadata": {},
   "outputs": [],
   "source": []
  },
  {
   "cell_type": "code",
   "execution_count": null,
   "metadata": {},
   "outputs": [],
   "source": []
  },
  {
   "cell_type": "code",
   "execution_count": null,
   "metadata": {},
   "outputs": [],
   "source": []
  },
  {
   "cell_type": "code",
   "execution_count": null,
   "metadata": {},
   "outputs": [],
   "source": []
  },
  {
   "cell_type": "code",
   "execution_count": null,
   "metadata": {},
   "outputs": [],
   "source": []
  },
  {
   "cell_type": "code",
   "execution_count": null,
   "metadata": {},
   "outputs": [],
   "source": []
  },
  {
   "cell_type": "code",
   "execution_count": null,
   "metadata": {},
   "outputs": [],
   "source": []
  },
  {
   "cell_type": "code",
   "execution_count": null,
   "metadata": {},
   "outputs": [],
   "source": []
  },
  {
   "cell_type": "code",
   "execution_count": null,
   "metadata": {},
   "outputs": [],
   "source": []
  },
  {
   "cell_type": "code",
   "execution_count": null,
   "metadata": {},
   "outputs": [],
   "source": []
  },
  {
   "cell_type": "code",
   "execution_count": null,
   "metadata": {},
   "outputs": [],
   "source": []
  },
  {
   "cell_type": "code",
   "execution_count": null,
   "metadata": {},
   "outputs": [],
   "source": []
  },
  {
   "cell_type": "code",
   "execution_count": null,
   "metadata": {},
   "outputs": [],
   "source": []
  },
  {
   "cell_type": "code",
   "execution_count": null,
   "metadata": {},
   "outputs": [],
   "source": []
  },
  {
   "cell_type": "code",
   "execution_count": null,
   "metadata": {},
   "outputs": [],
   "source": []
  },
  {
   "cell_type": "code",
   "execution_count": null,
   "metadata": {},
   "outputs": [],
   "source": []
  },
  {
   "cell_type": "code",
   "execution_count": null,
   "metadata": {},
   "outputs": [],
   "source": []
  },
  {
   "cell_type": "code",
   "execution_count": null,
   "metadata": {},
   "outputs": [],
   "source": []
  },
  {
   "cell_type": "code",
   "execution_count": null,
   "metadata": {},
   "outputs": [],
   "source": []
  },
  {
   "cell_type": "code",
   "execution_count": null,
   "metadata": {},
   "outputs": [],
   "source": []
  },
  {
   "cell_type": "code",
   "execution_count": null,
   "metadata": {},
   "outputs": [],
   "source": []
  },
  {
   "cell_type": "code",
   "execution_count": null,
   "metadata": {},
   "outputs": [],
   "source": []
  },
  {
   "cell_type": "code",
   "execution_count": null,
   "metadata": {},
   "outputs": [],
   "source": []
  },
  {
   "cell_type": "code",
   "execution_count": null,
   "metadata": {},
   "outputs": [],
   "source": []
  },
  {
   "cell_type": "code",
   "execution_count": null,
   "metadata": {},
   "outputs": [],
   "source": []
  },
  {
   "cell_type": "code",
   "execution_count": null,
   "metadata": {},
   "outputs": [],
   "source": []
  },
  {
   "cell_type": "code",
   "execution_count": null,
   "metadata": {},
   "outputs": [],
   "source": []
  },
  {
   "cell_type": "code",
   "execution_count": null,
   "metadata": {},
   "outputs": [],
   "source": []
  },
  {
   "cell_type": "code",
   "execution_count": null,
   "metadata": {},
   "outputs": [],
   "source": []
  },
  {
   "cell_type": "code",
   "execution_count": null,
   "metadata": {},
   "outputs": [],
   "source": []
  },
  {
   "cell_type": "code",
   "execution_count": null,
   "metadata": {},
   "outputs": [],
   "source": []
  },
  {
   "cell_type": "code",
   "execution_count": null,
   "metadata": {},
   "outputs": [],
   "source": []
  },
  {
   "cell_type": "code",
   "execution_count": null,
   "metadata": {},
   "outputs": [],
   "source": []
  },
  {
   "cell_type": "code",
   "execution_count": null,
   "metadata": {},
   "outputs": [],
   "source": []
  },
  {
   "cell_type": "code",
   "execution_count": null,
   "metadata": {},
   "outputs": [],
   "source": []
  },
  {
   "cell_type": "code",
   "execution_count": null,
   "metadata": {},
   "outputs": [],
   "source": []
  },
  {
   "cell_type": "code",
   "execution_count": null,
   "metadata": {},
   "outputs": [],
   "source": []
  },
  {
   "cell_type": "code",
   "execution_count": null,
   "metadata": {},
   "outputs": [],
   "source": []
  },
  {
   "cell_type": "code",
   "execution_count": null,
   "metadata": {},
   "outputs": [],
   "source": []
  },
  {
   "cell_type": "code",
   "execution_count": null,
   "metadata": {},
   "outputs": [],
   "source": []
  },
  {
   "cell_type": "code",
   "execution_count": null,
   "metadata": {},
   "outputs": [],
   "source": []
  },
  {
   "cell_type": "code",
   "execution_count": null,
   "metadata": {},
   "outputs": [],
   "source": []
  },
  {
   "cell_type": "code",
   "execution_count": null,
   "metadata": {},
   "outputs": [],
   "source": []
  },
  {
   "cell_type": "code",
   "execution_count": null,
   "metadata": {},
   "outputs": [],
   "source": []
  },
  {
   "cell_type": "code",
   "execution_count": null,
   "metadata": {},
   "outputs": [],
   "source": []
  },
  {
   "cell_type": "code",
   "execution_count": null,
   "metadata": {},
   "outputs": [],
   "source": []
  },
  {
   "cell_type": "code",
   "execution_count": null,
   "metadata": {},
   "outputs": [],
   "source": []
  },
  {
   "cell_type": "code",
   "execution_count": null,
   "metadata": {},
   "outputs": [],
   "source": []
  },
  {
   "cell_type": "code",
   "execution_count": null,
   "metadata": {},
   "outputs": [],
   "source": []
  },
  {
   "cell_type": "code",
   "execution_count": null,
   "metadata": {},
   "outputs": [],
   "source": []
  },
  {
   "cell_type": "code",
   "execution_count": null,
   "metadata": {},
   "outputs": [],
   "source": []
  },
  {
   "cell_type": "code",
   "execution_count": null,
   "metadata": {},
   "outputs": [],
   "source": []
  },
  {
   "cell_type": "code",
   "execution_count": null,
   "metadata": {},
   "outputs": [],
   "source": []
  },
  {
   "cell_type": "code",
   "execution_count": null,
   "metadata": {},
   "outputs": [],
   "source": []
  },
  {
   "cell_type": "code",
   "execution_count": null,
   "metadata": {},
   "outputs": [],
   "source": []
  },
  {
   "cell_type": "code",
   "execution_count": null,
   "metadata": {},
   "outputs": [],
   "source": []
  },
  {
   "cell_type": "code",
   "execution_count": null,
   "metadata": {},
   "outputs": [],
   "source": []
  },
  {
   "cell_type": "code",
   "execution_count": null,
   "metadata": {},
   "outputs": [],
   "source": []
  },
  {
   "cell_type": "code",
   "execution_count": null,
   "metadata": {},
   "outputs": [],
   "source": []
  },
  {
   "cell_type": "code",
   "execution_count": null,
   "metadata": {},
   "outputs": [],
   "source": []
  },
  {
   "cell_type": "code",
   "execution_count": null,
   "metadata": {},
   "outputs": [],
   "source": []
  },
  {
   "cell_type": "code",
   "execution_count": null,
   "metadata": {},
   "outputs": [],
   "source": []
  },
  {
   "cell_type": "code",
   "execution_count": null,
   "metadata": {},
   "outputs": [],
   "source": []
  },
  {
   "cell_type": "code",
   "execution_count": null,
   "metadata": {},
   "outputs": [],
   "source": []
  },
  {
   "cell_type": "code",
   "execution_count": null,
   "metadata": {},
   "outputs": [],
   "source": []
  },
  {
   "cell_type": "code",
   "execution_count": null,
   "metadata": {},
   "outputs": [],
   "source": []
  },
  {
   "cell_type": "code",
   "execution_count": null,
   "metadata": {},
   "outputs": [],
   "source": []
  },
  {
   "cell_type": "code",
   "execution_count": null,
   "metadata": {},
   "outputs": [],
   "source": []
  },
  {
   "cell_type": "code",
   "execution_count": null,
   "metadata": {},
   "outputs": [],
   "source": []
  },
  {
   "cell_type": "code",
   "execution_count": null,
   "metadata": {},
   "outputs": [],
   "source": []
  },
  {
   "cell_type": "code",
   "execution_count": null,
   "metadata": {},
   "outputs": [],
   "source": []
  },
  {
   "cell_type": "code",
   "execution_count": null,
   "metadata": {},
   "outputs": [],
   "source": []
  },
  {
   "cell_type": "code",
   "execution_count": null,
   "metadata": {},
   "outputs": [],
   "source": []
  },
  {
   "cell_type": "code",
   "execution_count": null,
   "metadata": {},
   "outputs": [],
   "source": []
  },
  {
   "cell_type": "code",
   "execution_count": null,
   "metadata": {},
   "outputs": [],
   "source": []
  },
  {
   "cell_type": "code",
   "execution_count": null,
   "metadata": {},
   "outputs": [],
   "source": []
  },
  {
   "cell_type": "code",
   "execution_count": null,
   "metadata": {},
   "outputs": [],
   "source": []
  },
  {
   "cell_type": "code",
   "execution_count": null,
   "metadata": {},
   "outputs": [],
   "source": []
  },
  {
   "cell_type": "code",
   "execution_count": null,
   "metadata": {},
   "outputs": [],
   "source": []
  },
  {
   "cell_type": "code",
   "execution_count": null,
   "metadata": {},
   "outputs": [],
   "source": []
  },
  {
   "cell_type": "code",
   "execution_count": null,
   "metadata": {},
   "outputs": [],
   "source": []
  },
  {
   "cell_type": "code",
   "execution_count": null,
   "metadata": {},
   "outputs": [],
   "source": []
  },
  {
   "cell_type": "code",
   "execution_count": null,
   "metadata": {},
   "outputs": [],
   "source": []
  },
  {
   "cell_type": "code",
   "execution_count": null,
   "metadata": {},
   "outputs": [],
   "source": []
  },
  {
   "cell_type": "code",
   "execution_count": null,
   "metadata": {},
   "outputs": [],
   "source": []
  },
  {
   "cell_type": "code",
   "execution_count": null,
   "metadata": {},
   "outputs": [],
   "source": []
  },
  {
   "cell_type": "code",
   "execution_count": null,
   "metadata": {},
   "outputs": [],
   "source": []
  },
  {
   "cell_type": "code",
   "execution_count": null,
   "metadata": {},
   "outputs": [],
   "source": []
  },
  {
   "cell_type": "code",
   "execution_count": null,
   "metadata": {},
   "outputs": [],
   "source": []
  },
  {
   "cell_type": "code",
   "execution_count": null,
   "metadata": {},
   "outputs": [],
   "source": []
  },
  {
   "cell_type": "code",
   "execution_count": null,
   "metadata": {},
   "outputs": [],
   "source": []
  },
  {
   "cell_type": "code",
   "execution_count": null,
   "metadata": {},
   "outputs": [],
   "source": []
  },
  {
   "cell_type": "code",
   "execution_count": null,
   "metadata": {},
   "outputs": [],
   "source": []
  },
  {
   "cell_type": "code",
   "execution_count": null,
   "metadata": {},
   "outputs": [],
   "source": []
  },
  {
   "cell_type": "code",
   "execution_count": null,
   "metadata": {},
   "outputs": [],
   "source": []
  },
  {
   "cell_type": "code",
   "execution_count": null,
   "metadata": {},
   "outputs": [],
   "source": []
  },
  {
   "cell_type": "code",
   "execution_count": null,
   "metadata": {},
   "outputs": [],
   "source": []
  },
  {
   "cell_type": "code",
   "execution_count": null,
   "metadata": {},
   "outputs": [],
   "source": []
  },
  {
   "cell_type": "code",
   "execution_count": null,
   "metadata": {},
   "outputs": [],
   "source": []
  },
  {
   "cell_type": "code",
   "execution_count": null,
   "metadata": {},
   "outputs": [],
   "source": []
  },
  {
   "cell_type": "code",
   "execution_count": null,
   "metadata": {},
   "outputs": [],
   "source": []
  },
  {
   "cell_type": "code",
   "execution_count": null,
   "metadata": {},
   "outputs": [],
   "source": []
  },
  {
   "cell_type": "code",
   "execution_count": null,
   "metadata": {},
   "outputs": [],
   "source": []
  },
  {
   "cell_type": "code",
   "execution_count": null,
   "metadata": {},
   "outputs": [],
   "source": []
  },
  {
   "cell_type": "code",
   "execution_count": null,
   "metadata": {},
   "outputs": [],
   "source": []
  },
  {
   "cell_type": "code",
   "execution_count": null,
   "metadata": {},
   "outputs": [],
   "source": []
  },
  {
   "cell_type": "code",
   "execution_count": null,
   "metadata": {},
   "outputs": [],
   "source": []
  },
  {
   "cell_type": "code",
   "execution_count": null,
   "metadata": {},
   "outputs": [],
   "source": []
  },
  {
   "cell_type": "code",
   "execution_count": null,
   "metadata": {},
   "outputs": [],
   "source": []
  },
  {
   "cell_type": "code",
   "execution_count": null,
   "metadata": {},
   "outputs": [],
   "source": []
  },
  {
   "cell_type": "code",
   "execution_count": null,
   "metadata": {},
   "outputs": [],
   "source": []
  },
  {
   "cell_type": "code",
   "execution_count": null,
   "metadata": {},
   "outputs": [],
   "source": []
  },
  {
   "cell_type": "code",
   "execution_count": null,
   "metadata": {},
   "outputs": [],
   "source": []
  },
  {
   "cell_type": "code",
   "execution_count": null,
   "metadata": {},
   "outputs": [],
   "source": []
  },
  {
   "cell_type": "code",
   "execution_count": null,
   "metadata": {},
   "outputs": [],
   "source": []
  },
  {
   "cell_type": "code",
   "execution_count": null,
   "metadata": {},
   "outputs": [],
   "source": []
  },
  {
   "cell_type": "code",
   "execution_count": null,
   "metadata": {},
   "outputs": [],
   "source": []
  },
  {
   "cell_type": "code",
   "execution_count": null,
   "metadata": {},
   "outputs": [],
   "source": []
  },
  {
   "cell_type": "code",
   "execution_count": null,
   "metadata": {},
   "outputs": [],
   "source": []
  },
  {
   "cell_type": "code",
   "execution_count": null,
   "metadata": {},
   "outputs": [],
   "source": []
  },
  {
   "cell_type": "code",
   "execution_count": null,
   "metadata": {},
   "outputs": [],
   "source": []
  },
  {
   "cell_type": "code",
   "execution_count": null,
   "metadata": {},
   "outputs": [],
   "source": []
  },
  {
   "cell_type": "code",
   "execution_count": null,
   "metadata": {},
   "outputs": [],
   "source": []
  },
  {
   "cell_type": "code",
   "execution_count": null,
   "metadata": {},
   "outputs": [],
   "source": []
  },
  {
   "cell_type": "code",
   "execution_count": null,
   "metadata": {},
   "outputs": [],
   "source": []
  },
  {
   "cell_type": "code",
   "execution_count": null,
   "metadata": {},
   "outputs": [],
   "source": []
  },
  {
   "cell_type": "code",
   "execution_count": null,
   "metadata": {},
   "outputs": [],
   "source": []
  },
  {
   "cell_type": "code",
   "execution_count": null,
   "metadata": {},
   "outputs": [],
   "source": []
  },
  {
   "cell_type": "code",
   "execution_count": null,
   "metadata": {},
   "outputs": [],
   "source": []
  },
  {
   "cell_type": "code",
   "execution_count": null,
   "metadata": {},
   "outputs": [],
   "source": []
  },
  {
   "cell_type": "code",
   "execution_count": null,
   "metadata": {},
   "outputs": [],
   "source": []
  },
  {
   "cell_type": "code",
   "execution_count": null,
   "metadata": {},
   "outputs": [],
   "source": []
  },
  {
   "cell_type": "code",
   "execution_count": null,
   "metadata": {},
   "outputs": [],
   "source": []
  },
  {
   "cell_type": "code",
   "execution_count": null,
   "metadata": {},
   "outputs": [],
   "source": []
  },
  {
   "cell_type": "code",
   "execution_count": null,
   "metadata": {},
   "outputs": [],
   "source": []
  },
  {
   "cell_type": "code",
   "execution_count": null,
   "metadata": {},
   "outputs": [],
   "source": []
  },
  {
   "cell_type": "code",
   "execution_count": null,
   "metadata": {},
   "outputs": [],
   "source": []
  },
  {
   "cell_type": "code",
   "execution_count": null,
   "metadata": {},
   "outputs": [],
   "source": []
  },
  {
   "cell_type": "code",
   "execution_count": null,
   "metadata": {},
   "outputs": [],
   "source": []
  },
  {
   "cell_type": "code",
   "execution_count": null,
   "metadata": {},
   "outputs": [],
   "source": []
  },
  {
   "cell_type": "code",
   "execution_count": null,
   "metadata": {},
   "outputs": [],
   "source": []
  },
  {
   "cell_type": "code",
   "execution_count": null,
   "metadata": {},
   "outputs": [],
   "source": []
  },
  {
   "cell_type": "code",
   "execution_count": null,
   "metadata": {},
   "outputs": [],
   "source": []
  },
  {
   "cell_type": "code",
   "execution_count": null,
   "metadata": {},
   "outputs": [],
   "source": []
  },
  {
   "cell_type": "code",
   "execution_count": null,
   "metadata": {},
   "outputs": [],
   "source": []
  },
  {
   "cell_type": "code",
   "execution_count": null,
   "metadata": {},
   "outputs": [],
   "source": []
  },
  {
   "cell_type": "code",
   "execution_count": null,
   "metadata": {},
   "outputs": [],
   "source": []
  },
  {
   "cell_type": "code",
   "execution_count": null,
   "metadata": {},
   "outputs": [],
   "source": []
  },
  {
   "cell_type": "code",
   "execution_count": null,
   "metadata": {},
   "outputs": [],
   "source": []
  },
  {
   "cell_type": "code",
   "execution_count": null,
   "metadata": {},
   "outputs": [],
   "source": []
  },
  {
   "cell_type": "code",
   "execution_count": null,
   "metadata": {},
   "outputs": [],
   "source": []
  },
  {
   "cell_type": "code",
   "execution_count": null,
   "metadata": {},
   "outputs": [],
   "source": []
  },
  {
   "cell_type": "code",
   "execution_count": null,
   "metadata": {},
   "outputs": [],
   "source": []
  },
  {
   "cell_type": "code",
   "execution_count": null,
   "metadata": {},
   "outputs": [],
   "source": []
  },
  {
   "cell_type": "code",
   "execution_count": null,
   "metadata": {},
   "outputs": [],
   "source": []
  },
  {
   "cell_type": "code",
   "execution_count": null,
   "metadata": {},
   "outputs": [],
   "source": []
  },
  {
   "cell_type": "code",
   "execution_count": null,
   "metadata": {},
   "outputs": [],
   "source": []
  },
  {
   "cell_type": "code",
   "execution_count": null,
   "metadata": {},
   "outputs": [],
   "source": []
  },
  {
   "cell_type": "code",
   "execution_count": null,
   "metadata": {},
   "outputs": [],
   "source": []
  },
  {
   "cell_type": "code",
   "execution_count": null,
   "metadata": {},
   "outputs": [],
   "source": []
  },
  {
   "cell_type": "code",
   "execution_count": null,
   "metadata": {},
   "outputs": [],
   "source": []
  },
  {
   "cell_type": "code",
   "execution_count": null,
   "metadata": {},
   "outputs": [],
   "source": []
  },
  {
   "cell_type": "code",
   "execution_count": null,
   "metadata": {},
   "outputs": [],
   "source": []
  },
  {
   "cell_type": "code",
   "execution_count": null,
   "metadata": {},
   "outputs": [],
   "source": []
  },
  {
   "cell_type": "code",
   "execution_count": null,
   "metadata": {},
   "outputs": [],
   "source": []
  },
  {
   "cell_type": "code",
   "execution_count": null,
   "metadata": {},
   "outputs": [],
   "source": []
  },
  {
   "cell_type": "code",
   "execution_count": null,
   "metadata": {},
   "outputs": [],
   "source": []
  },
  {
   "cell_type": "code",
   "execution_count": null,
   "metadata": {},
   "outputs": [],
   "source": []
  },
  {
   "cell_type": "code",
   "execution_count": null,
   "metadata": {},
   "outputs": [],
   "source": []
  },
  {
   "cell_type": "code",
   "execution_count": null,
   "metadata": {},
   "outputs": [],
   "source": []
  },
  {
   "cell_type": "code",
   "execution_count": null,
   "metadata": {},
   "outputs": [],
   "source": []
  },
  {
   "cell_type": "code",
   "execution_count": null,
   "metadata": {},
   "outputs": [],
   "source": []
  },
  {
   "cell_type": "code",
   "execution_count": null,
   "metadata": {},
   "outputs": [],
   "source": []
  },
  {
   "cell_type": "code",
   "execution_count": null,
   "metadata": {},
   "outputs": [],
   "source": []
  },
  {
   "cell_type": "code",
   "execution_count": null,
   "metadata": {},
   "outputs": [],
   "source": []
  },
  {
   "cell_type": "code",
   "execution_count": null,
   "metadata": {},
   "outputs": [],
   "source": []
  },
  {
   "cell_type": "code",
   "execution_count": null,
   "metadata": {},
   "outputs": [],
   "source": []
  },
  {
   "cell_type": "code",
   "execution_count": null,
   "metadata": {},
   "outputs": [],
   "source": []
  },
  {
   "cell_type": "code",
   "execution_count": null,
   "metadata": {},
   "outputs": [],
   "source": []
  },
  {
   "cell_type": "code",
   "execution_count": null,
   "metadata": {},
   "outputs": [],
   "source": []
  },
  {
   "cell_type": "code",
   "execution_count": null,
   "metadata": {},
   "outputs": [],
   "source": []
  },
  {
   "cell_type": "code",
   "execution_count": null,
   "metadata": {},
   "outputs": [],
   "source": []
  },
  {
   "cell_type": "code",
   "execution_count": null,
   "metadata": {},
   "outputs": [],
   "source": []
  },
  {
   "cell_type": "code",
   "execution_count": null,
   "metadata": {},
   "outputs": [],
   "source": []
  },
  {
   "cell_type": "code",
   "execution_count": null,
   "metadata": {},
   "outputs": [],
   "source": []
  },
  {
   "cell_type": "code",
   "execution_count": null,
   "metadata": {},
   "outputs": [],
   "source": []
  },
  {
   "cell_type": "code",
   "execution_count": null,
   "metadata": {},
   "outputs": [],
   "source": []
  },
  {
   "cell_type": "code",
   "execution_count": null,
   "metadata": {},
   "outputs": [],
   "source": []
  },
  {
   "cell_type": "code",
   "execution_count": null,
   "metadata": {},
   "outputs": [],
   "source": []
  },
  {
   "cell_type": "code",
   "execution_count": null,
   "metadata": {},
   "outputs": [],
   "source": []
  },
  {
   "cell_type": "code",
   "execution_count": null,
   "metadata": {},
   "outputs": [],
   "source": []
  },
  {
   "cell_type": "code",
   "execution_count": null,
   "metadata": {},
   "outputs": [],
   "source": []
  },
  {
   "cell_type": "code",
   "execution_count": null,
   "metadata": {},
   "outputs": [],
   "source": []
  },
  {
   "cell_type": "code",
   "execution_count": null,
   "metadata": {},
   "outputs": [],
   "source": []
  },
  {
   "cell_type": "code",
   "execution_count": null,
   "metadata": {},
   "outputs": [],
   "source": []
  },
  {
   "cell_type": "code",
   "execution_count": null,
   "metadata": {},
   "outputs": [],
   "source": []
  },
  {
   "cell_type": "code",
   "execution_count": null,
   "metadata": {},
   "outputs": [],
   "source": []
  },
  {
   "cell_type": "code",
   "execution_count": null,
   "metadata": {},
   "outputs": [],
   "source": []
  },
  {
   "cell_type": "code",
   "execution_count": null,
   "metadata": {},
   "outputs": [],
   "source": []
  },
  {
   "cell_type": "code",
   "execution_count": null,
   "metadata": {},
   "outputs": [],
   "source": []
  },
  {
   "cell_type": "code",
   "execution_count": null,
   "metadata": {},
   "outputs": [],
   "source": []
  },
  {
   "cell_type": "code",
   "execution_count": null,
   "metadata": {},
   "outputs": [],
   "source": []
  },
  {
   "cell_type": "code",
   "execution_count": null,
   "metadata": {},
   "outputs": [],
   "source": []
  },
  {
   "cell_type": "code",
   "execution_count": null,
   "metadata": {},
   "outputs": [],
   "source": []
  },
  {
   "cell_type": "code",
   "execution_count": null,
   "metadata": {},
   "outputs": [],
   "source": []
  },
  {
   "cell_type": "code",
   "execution_count": null,
   "metadata": {},
   "outputs": [],
   "source": []
  },
  {
   "cell_type": "code",
   "execution_count": null,
   "metadata": {},
   "outputs": [],
   "source": []
  },
  {
   "cell_type": "code",
   "execution_count": null,
   "metadata": {},
   "outputs": [],
   "source": []
  },
  {
   "cell_type": "code",
   "execution_count": null,
   "metadata": {},
   "outputs": [],
   "source": []
  },
  {
   "cell_type": "code",
   "execution_count": null,
   "metadata": {},
   "outputs": [],
   "source": []
  },
  {
   "cell_type": "code",
   "execution_count": null,
   "metadata": {},
   "outputs": [],
   "source": []
  },
  {
   "cell_type": "code",
   "execution_count": null,
   "metadata": {},
   "outputs": [],
   "source": []
  },
  {
   "cell_type": "code",
   "execution_count": null,
   "metadata": {},
   "outputs": [],
   "source": []
  },
  {
   "cell_type": "code",
   "execution_count": null,
   "metadata": {},
   "outputs": [],
   "source": []
  },
  {
   "cell_type": "code",
   "execution_count": null,
   "metadata": {},
   "outputs": [],
   "source": []
  },
  {
   "cell_type": "code",
   "execution_count": null,
   "metadata": {},
   "outputs": [],
   "source": []
  },
  {
   "cell_type": "code",
   "execution_count": null,
   "metadata": {},
   "outputs": [],
   "source": []
  },
  {
   "cell_type": "code",
   "execution_count": null,
   "metadata": {},
   "outputs": [],
   "source": []
  },
  {
   "cell_type": "code",
   "execution_count": null,
   "metadata": {},
   "outputs": [],
   "source": []
  },
  {
   "cell_type": "code",
   "execution_count": null,
   "metadata": {},
   "outputs": [],
   "source": []
  },
  {
   "cell_type": "code",
   "execution_count": null,
   "metadata": {},
   "outputs": [],
   "source": []
  },
  {
   "cell_type": "code",
   "execution_count": null,
   "metadata": {},
   "outputs": [],
   "source": []
  },
  {
   "cell_type": "code",
   "execution_count": null,
   "metadata": {},
   "outputs": [],
   "source": []
  },
  {
   "cell_type": "code",
   "execution_count": null,
   "metadata": {},
   "outputs": [],
   "source": []
  },
  {
   "cell_type": "code",
   "execution_count": null,
   "metadata": {},
   "outputs": [],
   "source": []
  },
  {
   "cell_type": "code",
   "execution_count": null,
   "metadata": {},
   "outputs": [],
   "source": []
  },
  {
   "cell_type": "code",
   "execution_count": null,
   "metadata": {},
   "outputs": [],
   "source": []
  },
  {
   "cell_type": "code",
   "execution_count": null,
   "metadata": {},
   "outputs": [],
   "source": []
  },
  {
   "cell_type": "code",
   "execution_count": null,
   "metadata": {},
   "outputs": [],
   "source": []
  },
  {
   "cell_type": "code",
   "execution_count": null,
   "metadata": {},
   "outputs": [],
   "source": []
  },
  {
   "cell_type": "code",
   "execution_count": null,
   "metadata": {},
   "outputs": [],
   "source": []
  },
  {
   "cell_type": "code",
   "execution_count": null,
   "metadata": {},
   "outputs": [],
   "source": []
  },
  {
   "cell_type": "code",
   "execution_count": null,
   "metadata": {},
   "outputs": [],
   "source": []
  },
  {
   "cell_type": "code",
   "execution_count": null,
   "metadata": {},
   "outputs": [],
   "source": []
  },
  {
   "cell_type": "code",
   "execution_count": null,
   "metadata": {},
   "outputs": [],
   "source": []
  },
  {
   "cell_type": "code",
   "execution_count": null,
   "metadata": {},
   "outputs": [],
   "source": []
  },
  {
   "cell_type": "code",
   "execution_count": null,
   "metadata": {},
   "outputs": [],
   "source": []
  },
  {
   "cell_type": "code",
   "execution_count": null,
   "metadata": {},
   "outputs": [],
   "source": []
  },
  {
   "cell_type": "code",
   "execution_count": null,
   "metadata": {},
   "outputs": [],
   "source": []
  },
  {
   "cell_type": "code",
   "execution_count": null,
   "metadata": {},
   "outputs": [],
   "source": []
  },
  {
   "cell_type": "code",
   "execution_count": null,
   "metadata": {},
   "outputs": [],
   "source": []
  },
  {
   "cell_type": "code",
   "execution_count": null,
   "metadata": {},
   "outputs": [],
   "source": []
  },
  {
   "cell_type": "code",
   "execution_count": null,
   "metadata": {},
   "outputs": [],
   "source": []
  },
  {
   "cell_type": "code",
   "execution_count": null,
   "metadata": {},
   "outputs": [],
   "source": []
  },
  {
   "cell_type": "code",
   "execution_count": null,
   "metadata": {},
   "outputs": [],
   "source": []
  },
  {
   "cell_type": "code",
   "execution_count": null,
   "metadata": {},
   "outputs": [],
   "source": []
  },
  {
   "cell_type": "code",
   "execution_count": null,
   "metadata": {},
   "outputs": [],
   "source": []
  },
  {
   "cell_type": "code",
   "execution_count": null,
   "metadata": {},
   "outputs": [],
   "source": []
  },
  {
   "cell_type": "code",
   "execution_count": null,
   "metadata": {},
   "outputs": [],
   "source": []
  },
  {
   "cell_type": "code",
   "execution_count": null,
   "metadata": {},
   "outputs": [],
   "source": []
  },
  {
   "cell_type": "code",
   "execution_count": null,
   "metadata": {},
   "outputs": [],
   "source": []
  },
  {
   "cell_type": "code",
   "execution_count": null,
   "metadata": {},
   "outputs": [],
   "source": []
  },
  {
   "cell_type": "code",
   "execution_count": null,
   "metadata": {},
   "outputs": [],
   "source": []
  },
  {
   "cell_type": "code",
   "execution_count": null,
   "metadata": {},
   "outputs": [],
   "source": []
  },
  {
   "cell_type": "code",
   "execution_count": null,
   "metadata": {},
   "outputs": [],
   "source": []
  },
  {
   "cell_type": "code",
   "execution_count": null,
   "metadata": {},
   "outputs": [],
   "source": []
  },
  {
   "cell_type": "code",
   "execution_count": null,
   "metadata": {},
   "outputs": [],
   "source": []
  },
  {
   "cell_type": "code",
   "execution_count": null,
   "metadata": {},
   "outputs": [],
   "source": []
  },
  {
   "cell_type": "code",
   "execution_count": null,
   "metadata": {},
   "outputs": [],
   "source": []
  },
  {
   "cell_type": "code",
   "execution_count": null,
   "metadata": {},
   "outputs": [],
   "source": []
  },
  {
   "cell_type": "code",
   "execution_count": null,
   "metadata": {},
   "outputs": [],
   "source": []
  },
  {
   "cell_type": "code",
   "execution_count": null,
   "metadata": {},
   "outputs": [],
   "source": []
  },
  {
   "cell_type": "code",
   "execution_count": null,
   "metadata": {},
   "outputs": [],
   "source": []
  },
  {
   "cell_type": "code",
   "execution_count": null,
   "metadata": {},
   "outputs": [],
   "source": []
  },
  {
   "cell_type": "code",
   "execution_count": null,
   "metadata": {},
   "outputs": [],
   "source": []
  },
  {
   "cell_type": "code",
   "execution_count": null,
   "metadata": {},
   "outputs": [],
   "source": []
  },
  {
   "cell_type": "code",
   "execution_count": null,
   "metadata": {},
   "outputs": [],
   "source": []
  },
  {
   "cell_type": "code",
   "execution_count": null,
   "metadata": {},
   "outputs": [],
   "source": []
  },
  {
   "cell_type": "code",
   "execution_count": null,
   "metadata": {},
   "outputs": [],
   "source": []
  },
  {
   "cell_type": "code",
   "execution_count": null,
   "metadata": {},
   "outputs": [],
   "source": []
  },
  {
   "cell_type": "code",
   "execution_count": null,
   "metadata": {},
   "outputs": [],
   "source": []
  },
  {
   "cell_type": "code",
   "execution_count": null,
   "metadata": {},
   "outputs": [],
   "source": []
  },
  {
   "cell_type": "code",
   "execution_count": null,
   "metadata": {},
   "outputs": [],
   "source": []
  },
  {
   "cell_type": "code",
   "execution_count": null,
   "metadata": {},
   "outputs": [],
   "source": []
  },
  {
   "cell_type": "code",
   "execution_count": null,
   "metadata": {},
   "outputs": [],
   "source": []
  },
  {
   "cell_type": "code",
   "execution_count": null,
   "metadata": {},
   "outputs": [],
   "source": []
  },
  {
   "cell_type": "code",
   "execution_count": null,
   "metadata": {},
   "outputs": [],
   "source": []
  },
  {
   "cell_type": "code",
   "execution_count": null,
   "metadata": {},
   "outputs": [],
   "source": []
  },
  {
   "cell_type": "code",
   "execution_count": null,
   "metadata": {},
   "outputs": [],
   "source": []
  },
  {
   "cell_type": "code",
   "execution_count": null,
   "metadata": {},
   "outputs": [],
   "source": []
  },
  {
   "cell_type": "code",
   "execution_count": null,
   "metadata": {},
   "outputs": [],
   "source": []
  },
  {
   "cell_type": "code",
   "execution_count": null,
   "metadata": {},
   "outputs": [],
   "source": []
  },
  {
   "cell_type": "code",
   "execution_count": null,
   "metadata": {},
   "outputs": [],
   "source": []
  },
  {
   "cell_type": "code",
   "execution_count": null,
   "metadata": {},
   "outputs": [],
   "source": []
  },
  {
   "cell_type": "code",
   "execution_count": null,
   "metadata": {},
   "outputs": [],
   "source": []
  },
  {
   "cell_type": "code",
   "execution_count": null,
   "metadata": {},
   "outputs": [],
   "source": []
  },
  {
   "cell_type": "code",
   "execution_count": null,
   "metadata": {},
   "outputs": [],
   "source": []
  },
  {
   "cell_type": "code",
   "execution_count": null,
   "metadata": {},
   "outputs": [],
   "source": []
  },
  {
   "cell_type": "code",
   "execution_count": null,
   "metadata": {},
   "outputs": [],
   "source": []
  },
  {
   "cell_type": "code",
   "execution_count": null,
   "metadata": {},
   "outputs": [],
   "source": []
  },
  {
   "cell_type": "code",
   "execution_count": null,
   "metadata": {},
   "outputs": [],
   "source": []
  },
  {
   "cell_type": "code",
   "execution_count": null,
   "metadata": {},
   "outputs": [],
   "source": []
  },
  {
   "cell_type": "code",
   "execution_count": null,
   "metadata": {},
   "outputs": [],
   "source": []
  },
  {
   "cell_type": "code",
   "execution_count": null,
   "metadata": {},
   "outputs": [],
   "source": []
  },
  {
   "cell_type": "code",
   "execution_count": null,
   "metadata": {},
   "outputs": [],
   "source": []
  },
  {
   "cell_type": "code",
   "execution_count": null,
   "metadata": {},
   "outputs": [],
   "source": []
  },
  {
   "cell_type": "code",
   "execution_count": null,
   "metadata": {},
   "outputs": [],
   "source": []
  },
  {
   "cell_type": "code",
   "execution_count": null,
   "metadata": {},
   "outputs": [],
   "source": []
  },
  {
   "cell_type": "code",
   "execution_count": null,
   "metadata": {},
   "outputs": [],
   "source": []
  },
  {
   "cell_type": "code",
   "execution_count": null,
   "metadata": {},
   "outputs": [],
   "source": []
  },
  {
   "cell_type": "code",
   "execution_count": null,
   "metadata": {},
   "outputs": [],
   "source": []
  },
  {
   "cell_type": "code",
   "execution_count": null,
   "metadata": {},
   "outputs": [],
   "source": []
  },
  {
   "cell_type": "code",
   "execution_count": null,
   "metadata": {},
   "outputs": [],
   "source": []
  },
  {
   "cell_type": "code",
   "execution_count": null,
   "metadata": {},
   "outputs": [],
   "source": []
  },
  {
   "cell_type": "code",
   "execution_count": null,
   "metadata": {},
   "outputs": [],
   "source": []
  },
  {
   "cell_type": "code",
   "execution_count": null,
   "metadata": {},
   "outputs": [],
   "source": []
  },
  {
   "cell_type": "code",
   "execution_count": null,
   "metadata": {},
   "outputs": [],
   "source": []
  },
  {
   "cell_type": "code",
   "execution_count": null,
   "metadata": {},
   "outputs": [],
   "source": []
  },
  {
   "cell_type": "code",
   "execution_count": null,
   "metadata": {},
   "outputs": [],
   "source": []
  },
  {
   "cell_type": "code",
   "execution_count": null,
   "metadata": {},
   "outputs": [],
   "source": []
  },
  {
   "cell_type": "code",
   "execution_count": null,
   "metadata": {},
   "outputs": [],
   "source": []
  },
  {
   "cell_type": "code",
   "execution_count": null,
   "metadata": {},
   "outputs": [],
   "source": []
  },
  {
   "cell_type": "code",
   "execution_count": null,
   "metadata": {},
   "outputs": [],
   "source": []
  },
  {
   "cell_type": "code",
   "execution_count": null,
   "metadata": {},
   "outputs": [],
   "source": []
  },
  {
   "cell_type": "code",
   "execution_count": null,
   "metadata": {},
   "outputs": [],
   "source": []
  },
  {
   "cell_type": "code",
   "execution_count": null,
   "metadata": {},
   "outputs": [],
   "source": []
  },
  {
   "cell_type": "code",
   "execution_count": null,
   "metadata": {},
   "outputs": [],
   "source": []
  },
  {
   "cell_type": "code",
   "execution_count": null,
   "metadata": {},
   "outputs": [],
   "source": []
  },
  {
   "cell_type": "code",
   "execution_count": null,
   "metadata": {},
   "outputs": [],
   "source": []
  },
  {
   "cell_type": "code",
   "execution_count": null,
   "metadata": {},
   "outputs": [],
   "source": []
  },
  {
   "cell_type": "code",
   "execution_count": null,
   "metadata": {},
   "outputs": [],
   "source": []
  },
  {
   "cell_type": "code",
   "execution_count": null,
   "metadata": {},
   "outputs": [],
   "source": []
  },
  {
   "cell_type": "code",
   "execution_count": null,
   "metadata": {},
   "outputs": [],
   "source": []
  },
  {
   "cell_type": "code",
   "execution_count": null,
   "metadata": {},
   "outputs": [],
   "source": []
  },
  {
   "cell_type": "code",
   "execution_count": null,
   "metadata": {},
   "outputs": [],
   "source": []
  },
  {
   "cell_type": "code",
   "execution_count": null,
   "metadata": {},
   "outputs": [],
   "source": []
  },
  {
   "cell_type": "code",
   "execution_count": null,
   "metadata": {},
   "outputs": [],
   "source": []
  },
  {
   "cell_type": "code",
   "execution_count": null,
   "metadata": {},
   "outputs": [],
   "source": []
  },
  {
   "cell_type": "code",
   "execution_count": null,
   "metadata": {},
   "outputs": [],
   "source": []
  },
  {
   "cell_type": "code",
   "execution_count": null,
   "metadata": {},
   "outputs": [],
   "source": []
  },
  {
   "cell_type": "code",
   "execution_count": null,
   "metadata": {},
   "outputs": [],
   "source": []
  },
  {
   "cell_type": "code",
   "execution_count": null,
   "metadata": {},
   "outputs": [],
   "source": []
  },
  {
   "cell_type": "code",
   "execution_count": null,
   "metadata": {},
   "outputs": [],
   "source": []
  },
  {
   "cell_type": "code",
   "execution_count": null,
   "metadata": {},
   "outputs": [],
   "source": []
  },
  {
   "cell_type": "code",
   "execution_count": null,
   "metadata": {},
   "outputs": [],
   "source": []
  },
  {
   "cell_type": "code",
   "execution_count": null,
   "metadata": {},
   "outputs": [],
   "source": []
  },
  {
   "cell_type": "code",
   "execution_count": null,
   "metadata": {},
   "outputs": [],
   "source": []
  },
  {
   "cell_type": "code",
   "execution_count": null,
   "metadata": {},
   "outputs": [],
   "source": []
  },
  {
   "cell_type": "code",
   "execution_count": null,
   "metadata": {},
   "outputs": [],
   "source": []
  },
  {
   "cell_type": "code",
   "execution_count": null,
   "metadata": {},
   "outputs": [],
   "source": []
  },
  {
   "cell_type": "code",
   "execution_count": null,
   "metadata": {},
   "outputs": [],
   "source": []
  },
  {
   "cell_type": "code",
   "execution_count": null,
   "metadata": {},
   "outputs": [],
   "source": []
  },
  {
   "cell_type": "code",
   "execution_count": null,
   "metadata": {},
   "outputs": [],
   "source": []
  },
  {
   "cell_type": "code",
   "execution_count": null,
   "metadata": {},
   "outputs": [],
   "source": []
  },
  {
   "cell_type": "code",
   "execution_count": null,
   "metadata": {},
   "outputs": [],
   "source": []
  },
  {
   "cell_type": "code",
   "execution_count": null,
   "metadata": {},
   "outputs": [],
   "source": []
  },
  {
   "cell_type": "code",
   "execution_count": null,
   "metadata": {},
   "outputs": [],
   "source": []
  },
  {
   "cell_type": "code",
   "execution_count": null,
   "metadata": {},
   "outputs": [],
   "source": []
  },
  {
   "cell_type": "code",
   "execution_count": null,
   "metadata": {},
   "outputs": [],
   "source": []
  },
  {
   "cell_type": "code",
   "execution_count": null,
   "metadata": {},
   "outputs": [],
   "source": []
  },
  {
   "cell_type": "code",
   "execution_count": null,
   "metadata": {},
   "outputs": [],
   "source": []
  },
  {
   "cell_type": "code",
   "execution_count": null,
   "metadata": {},
   "outputs": [],
   "source": []
  },
  {
   "cell_type": "code",
   "execution_count": null,
   "metadata": {},
   "outputs": [],
   "source": []
  },
  {
   "cell_type": "code",
   "execution_count": null,
   "metadata": {},
   "outputs": [],
   "source": []
  },
  {
   "cell_type": "code",
   "execution_count": null,
   "metadata": {},
   "outputs": [],
   "source": []
  },
  {
   "cell_type": "code",
   "execution_count": null,
   "metadata": {},
   "outputs": [],
   "source": []
  },
  {
   "cell_type": "code",
   "execution_count": null,
   "metadata": {},
   "outputs": [],
   "source": []
  },
  {
   "cell_type": "code",
   "execution_count": null,
   "metadata": {},
   "outputs": [],
   "source": []
  },
  {
   "cell_type": "code",
   "execution_count": null,
   "metadata": {},
   "outputs": [],
   "source": []
  },
  {
   "cell_type": "code",
   "execution_count": null,
   "metadata": {},
   "outputs": [],
   "source": []
  },
  {
   "cell_type": "code",
   "execution_count": null,
   "metadata": {},
   "outputs": [],
   "source": []
  },
  {
   "cell_type": "code",
   "execution_count": null,
   "metadata": {},
   "outputs": [],
   "source": []
  },
  {
   "cell_type": "code",
   "execution_count": null,
   "metadata": {},
   "outputs": [],
   "source": []
  },
  {
   "cell_type": "code",
   "execution_count": null,
   "metadata": {},
   "outputs": [],
   "source": []
  },
  {
   "cell_type": "code",
   "execution_count": null,
   "metadata": {},
   "outputs": [],
   "source": []
  },
  {
   "cell_type": "code",
   "execution_count": null,
   "metadata": {},
   "outputs": [],
   "source": []
  },
  {
   "cell_type": "code",
   "execution_count": null,
   "metadata": {},
   "outputs": [],
   "source": []
  },
  {
   "cell_type": "code",
   "execution_count": null,
   "metadata": {},
   "outputs": [],
   "source": []
  },
  {
   "cell_type": "code",
   "execution_count": null,
   "metadata": {},
   "outputs": [],
   "source": []
  },
  {
   "cell_type": "code",
   "execution_count": null,
   "metadata": {},
   "outputs": [],
   "source": []
  },
  {
   "cell_type": "code",
   "execution_count": null,
   "metadata": {},
   "outputs": [],
   "source": []
  },
  {
   "cell_type": "code",
   "execution_count": null,
   "metadata": {},
   "outputs": [],
   "source": []
  },
  {
   "cell_type": "code",
   "execution_count": null,
   "metadata": {},
   "outputs": [],
   "source": []
  },
  {
   "cell_type": "code",
   "execution_count": null,
   "metadata": {},
   "outputs": [],
   "source": []
  },
  {
   "cell_type": "code",
   "execution_count": null,
   "metadata": {},
   "outputs": [],
   "source": []
  },
  {
   "cell_type": "code",
   "execution_count": null,
   "metadata": {},
   "outputs": [],
   "source": []
  },
  {
   "cell_type": "code",
   "execution_count": null,
   "metadata": {},
   "outputs": [],
   "source": []
  },
  {
   "cell_type": "code",
   "execution_count": null,
   "metadata": {},
   "outputs": [],
   "source": []
  },
  {
   "cell_type": "code",
   "execution_count": null,
   "metadata": {},
   "outputs": [],
   "source": []
  },
  {
   "cell_type": "code",
   "execution_count": null,
   "metadata": {},
   "outputs": [],
   "source": []
  },
  {
   "cell_type": "code",
   "execution_count": null,
   "metadata": {},
   "outputs": [],
   "source": []
  },
  {
   "cell_type": "code",
   "execution_count": null,
   "metadata": {},
   "outputs": [],
   "source": []
  },
  {
   "cell_type": "code",
   "execution_count": null,
   "metadata": {},
   "outputs": [],
   "source": []
  },
  {
   "cell_type": "code",
   "execution_count": null,
   "metadata": {},
   "outputs": [],
   "source": []
  },
  {
   "cell_type": "code",
   "execution_count": null,
   "metadata": {},
   "outputs": [],
   "source": []
  },
  {
   "cell_type": "code",
   "execution_count": null,
   "metadata": {},
   "outputs": [],
   "source": []
  },
  {
   "cell_type": "code",
   "execution_count": null,
   "metadata": {},
   "outputs": [],
   "source": []
  },
  {
   "cell_type": "code",
   "execution_count": null,
   "metadata": {},
   "outputs": [],
   "source": []
  },
  {
   "cell_type": "code",
   "execution_count": null,
   "metadata": {},
   "outputs": [],
   "source": []
  },
  {
   "cell_type": "code",
   "execution_count": null,
   "metadata": {},
   "outputs": [],
   "source": []
  },
  {
   "cell_type": "code",
   "execution_count": null,
   "metadata": {},
   "outputs": [],
   "source": []
  },
  {
   "cell_type": "code",
   "execution_count": null,
   "metadata": {},
   "outputs": [],
   "source": []
  },
  {
   "cell_type": "code",
   "execution_count": null,
   "metadata": {},
   "outputs": [],
   "source": []
  },
  {
   "cell_type": "code",
   "execution_count": null,
   "metadata": {},
   "outputs": [],
   "source": []
  },
  {
   "cell_type": "code",
   "execution_count": null,
   "metadata": {},
   "outputs": [],
   "source": []
  },
  {
   "cell_type": "code",
   "execution_count": null,
   "metadata": {},
   "outputs": [],
   "source": []
  },
  {
   "cell_type": "code",
   "execution_count": null,
   "metadata": {},
   "outputs": [],
   "source": []
  },
  {
   "cell_type": "code",
   "execution_count": null,
   "metadata": {},
   "outputs": [],
   "source": []
  },
  {
   "cell_type": "code",
   "execution_count": null,
   "metadata": {},
   "outputs": [],
   "source": []
  },
  {
   "cell_type": "code",
   "execution_count": null,
   "metadata": {},
   "outputs": [],
   "source": []
  },
  {
   "cell_type": "code",
   "execution_count": null,
   "metadata": {},
   "outputs": [],
   "source": []
  },
  {
   "cell_type": "code",
   "execution_count": null,
   "metadata": {},
   "outputs": [],
   "source": []
  },
  {
   "cell_type": "code",
   "execution_count": null,
   "metadata": {},
   "outputs": [],
   "source": []
  },
  {
   "cell_type": "code",
   "execution_count": null,
   "metadata": {},
   "outputs": [],
   "source": []
  },
  {
   "cell_type": "code",
   "execution_count": null,
   "metadata": {},
   "outputs": [],
   "source": []
  },
  {
   "cell_type": "code",
   "execution_count": null,
   "metadata": {},
   "outputs": [],
   "source": []
  },
  {
   "cell_type": "code",
   "execution_count": null,
   "metadata": {},
   "outputs": [],
   "source": []
  },
  {
   "cell_type": "code",
   "execution_count": null,
   "metadata": {},
   "outputs": [],
   "source": []
  },
  {
   "cell_type": "code",
   "execution_count": null,
   "metadata": {},
   "outputs": [],
   "source": []
  },
  {
   "cell_type": "code",
   "execution_count": null,
   "metadata": {},
   "outputs": [],
   "source": []
  },
  {
   "cell_type": "code",
   "execution_count": null,
   "metadata": {},
   "outputs": [],
   "source": []
  },
  {
   "cell_type": "code",
   "execution_count": null,
   "metadata": {},
   "outputs": [],
   "source": []
  },
  {
   "cell_type": "code",
   "execution_count": null,
   "metadata": {},
   "outputs": [],
   "source": []
  },
  {
   "cell_type": "code",
   "execution_count": null,
   "metadata": {},
   "outputs": [],
   "source": []
  },
  {
   "cell_type": "code",
   "execution_count": null,
   "metadata": {},
   "outputs": [],
   "source": []
  },
  {
   "cell_type": "code",
   "execution_count": null,
   "metadata": {},
   "outputs": [],
   "source": []
  },
  {
   "cell_type": "code",
   "execution_count": null,
   "metadata": {},
   "outputs": [],
   "source": []
  },
  {
   "cell_type": "code",
   "execution_count": null,
   "metadata": {},
   "outputs": [],
   "source": []
  },
  {
   "cell_type": "code",
   "execution_count": null,
   "metadata": {},
   "outputs": [],
   "source": []
  },
  {
   "cell_type": "code",
   "execution_count": null,
   "metadata": {},
   "outputs": [],
   "source": []
  },
  {
   "cell_type": "code",
   "execution_count": null,
   "metadata": {},
   "outputs": [],
   "source": []
  },
  {
   "cell_type": "code",
   "execution_count": null,
   "metadata": {},
   "outputs": [],
   "source": []
  },
  {
   "cell_type": "code",
   "execution_count": null,
   "metadata": {},
   "outputs": [],
   "source": []
  },
  {
   "cell_type": "code",
   "execution_count": null,
   "metadata": {},
   "outputs": [],
   "source": []
  },
  {
   "cell_type": "code",
   "execution_count": null,
   "metadata": {},
   "outputs": [],
   "source": []
  },
  {
   "cell_type": "code",
   "execution_count": null,
   "metadata": {},
   "outputs": [],
   "source": []
  },
  {
   "cell_type": "code",
   "execution_count": null,
   "metadata": {},
   "outputs": [],
   "source": []
  },
  {
   "cell_type": "code",
   "execution_count": null,
   "metadata": {},
   "outputs": [],
   "source": []
  },
  {
   "cell_type": "code",
   "execution_count": null,
   "metadata": {},
   "outputs": [],
   "source": []
  },
  {
   "cell_type": "code",
   "execution_count": null,
   "metadata": {},
   "outputs": [],
   "source": []
  },
  {
   "cell_type": "code",
   "execution_count": null,
   "metadata": {},
   "outputs": [],
   "source": []
  },
  {
   "cell_type": "code",
   "execution_count": null,
   "metadata": {},
   "outputs": [],
   "source": []
  },
  {
   "cell_type": "code",
   "execution_count": null,
   "metadata": {},
   "outputs": [],
   "source": []
  },
  {
   "cell_type": "code",
   "execution_count": null,
   "metadata": {},
   "outputs": [],
   "source": []
  },
  {
   "cell_type": "code",
   "execution_count": null,
   "metadata": {},
   "outputs": [],
   "source": []
  },
  {
   "cell_type": "code",
   "execution_count": null,
   "metadata": {},
   "outputs": [],
   "source": []
  },
  {
   "cell_type": "code",
   "execution_count": null,
   "metadata": {},
   "outputs": [],
   "source": []
  },
  {
   "cell_type": "code",
   "execution_count": null,
   "metadata": {},
   "outputs": [],
   "source": []
  },
  {
   "cell_type": "code",
   "execution_count": null,
   "metadata": {},
   "outputs": [],
   "source": []
  },
  {
   "cell_type": "code",
   "execution_count": null,
   "metadata": {},
   "outputs": [],
   "source": []
  },
  {
   "cell_type": "code",
   "execution_count": null,
   "metadata": {},
   "outputs": [],
   "source": []
  },
  {
   "cell_type": "code",
   "execution_count": null,
   "metadata": {},
   "outputs": [],
   "source": []
  },
  {
   "cell_type": "code",
   "execution_count": null,
   "metadata": {},
   "outputs": [],
   "source": []
  },
  {
   "cell_type": "code",
   "execution_count": null,
   "metadata": {},
   "outputs": [],
   "source": []
  },
  {
   "cell_type": "code",
   "execution_count": null,
   "metadata": {},
   "outputs": [],
   "source": []
  },
  {
   "cell_type": "code",
   "execution_count": null,
   "metadata": {},
   "outputs": [],
   "source": []
  },
  {
   "cell_type": "code",
   "execution_count": null,
   "metadata": {},
   "outputs": [],
   "source": []
  },
  {
   "cell_type": "code",
   "execution_count": null,
   "metadata": {},
   "outputs": [],
   "source": []
  },
  {
   "cell_type": "code",
   "execution_count": null,
   "metadata": {},
   "outputs": [],
   "source": []
  },
  {
   "cell_type": "code",
   "execution_count": null,
   "metadata": {},
   "outputs": [],
   "source": []
  },
  {
   "cell_type": "code",
   "execution_count": null,
   "metadata": {},
   "outputs": [],
   "source": []
  },
  {
   "cell_type": "code",
   "execution_count": null,
   "metadata": {},
   "outputs": [],
   "source": []
  },
  {
   "cell_type": "code",
   "execution_count": null,
   "metadata": {},
   "outputs": [],
   "source": []
  },
  {
   "cell_type": "code",
   "execution_count": null,
   "metadata": {},
   "outputs": [],
   "source": []
  },
  {
   "cell_type": "code",
   "execution_count": null,
   "metadata": {},
   "outputs": [],
   "source": []
  },
  {
   "cell_type": "code",
   "execution_count": null,
   "metadata": {},
   "outputs": [],
   "source": []
  },
  {
   "cell_type": "code",
   "execution_count": null,
   "metadata": {},
   "outputs": [],
   "source": []
  },
  {
   "cell_type": "code",
   "execution_count": null,
   "metadata": {},
   "outputs": [],
   "source": []
  },
  {
   "cell_type": "code",
   "execution_count": null,
   "metadata": {},
   "outputs": [],
   "source": []
  },
  {
   "cell_type": "code",
   "execution_count": null,
   "metadata": {},
   "outputs": [],
   "source": []
  },
  {
   "cell_type": "code",
   "execution_count": null,
   "metadata": {},
   "outputs": [],
   "source": []
  },
  {
   "cell_type": "code",
   "execution_count": null,
   "metadata": {},
   "outputs": [],
   "source": []
  },
  {
   "cell_type": "code",
   "execution_count": null,
   "metadata": {},
   "outputs": [],
   "source": []
  },
  {
   "cell_type": "code",
   "execution_count": null,
   "metadata": {},
   "outputs": [],
   "source": []
  },
  {
   "cell_type": "code",
   "execution_count": null,
   "metadata": {},
   "outputs": [],
   "source": []
  },
  {
   "cell_type": "code",
   "execution_count": null,
   "metadata": {},
   "outputs": [],
   "source": []
  },
  {
   "cell_type": "code",
   "execution_count": null,
   "metadata": {},
   "outputs": [],
   "source": []
  },
  {
   "cell_type": "code",
   "execution_count": null,
   "metadata": {},
   "outputs": [],
   "source": []
  },
  {
   "cell_type": "code",
   "execution_count": null,
   "metadata": {},
   "outputs": [],
   "source": []
  },
  {
   "cell_type": "code",
   "execution_count": null,
   "metadata": {},
   "outputs": [],
   "source": []
  },
  {
   "cell_type": "code",
   "execution_count": null,
   "metadata": {},
   "outputs": [],
   "source": []
  },
  {
   "cell_type": "code",
   "execution_count": null,
   "metadata": {},
   "outputs": [],
   "source": []
  },
  {
   "cell_type": "code",
   "execution_count": null,
   "metadata": {},
   "outputs": [],
   "source": []
  },
  {
   "cell_type": "code",
   "execution_count": null,
   "metadata": {},
   "outputs": [],
   "source": []
  },
  {
   "cell_type": "code",
   "execution_count": null,
   "metadata": {},
   "outputs": [],
   "source": []
  },
  {
   "cell_type": "code",
   "execution_count": null,
   "metadata": {},
   "outputs": [],
   "source": []
  },
  {
   "cell_type": "code",
   "execution_count": null,
   "metadata": {},
   "outputs": [],
   "source": []
  },
  {
   "cell_type": "code",
   "execution_count": null,
   "metadata": {},
   "outputs": [],
   "source": []
  },
  {
   "cell_type": "code",
   "execution_count": null,
   "metadata": {},
   "outputs": [],
   "source": []
  },
  {
   "cell_type": "code",
   "execution_count": null,
   "metadata": {},
   "outputs": [],
   "source": []
  },
  {
   "cell_type": "code",
   "execution_count": null,
   "metadata": {},
   "outputs": [],
   "source": []
  },
  {
   "cell_type": "code",
   "execution_count": null,
   "metadata": {},
   "outputs": [],
   "source": []
  },
  {
   "cell_type": "code",
   "execution_count": null,
   "metadata": {},
   "outputs": [],
   "source": []
  },
  {
   "cell_type": "code",
   "execution_count": null,
   "metadata": {},
   "outputs": [],
   "source": []
  },
  {
   "cell_type": "code",
   "execution_count": null,
   "metadata": {},
   "outputs": [],
   "source": []
  },
  {
   "cell_type": "code",
   "execution_count": null,
   "metadata": {},
   "outputs": [],
   "source": []
  },
  {
   "cell_type": "code",
   "execution_count": null,
   "metadata": {},
   "outputs": [],
   "source": []
  },
  {
   "cell_type": "code",
   "execution_count": null,
   "metadata": {},
   "outputs": [],
   "source": []
  },
  {
   "cell_type": "code",
   "execution_count": null,
   "metadata": {},
   "outputs": [],
   "source": []
  },
  {
   "cell_type": "code",
   "execution_count": null,
   "metadata": {},
   "outputs": [],
   "source": []
  },
  {
   "cell_type": "code",
   "execution_count": null,
   "metadata": {},
   "outputs": [],
   "source": []
  },
  {
   "cell_type": "code",
   "execution_count": null,
   "metadata": {},
   "outputs": [],
   "source": []
  },
  {
   "cell_type": "code",
   "execution_count": null,
   "metadata": {},
   "outputs": [],
   "source": []
  },
  {
   "cell_type": "code",
   "execution_count": null,
   "metadata": {},
   "outputs": [],
   "source": []
  },
  {
   "cell_type": "code",
   "execution_count": null,
   "metadata": {},
   "outputs": [],
   "source": []
  },
  {
   "cell_type": "code",
   "execution_count": null,
   "metadata": {},
   "outputs": [],
   "source": []
  },
  {
   "cell_type": "code",
   "execution_count": null,
   "metadata": {},
   "outputs": [],
   "source": []
  },
  {
   "cell_type": "code",
   "execution_count": null,
   "metadata": {},
   "outputs": [],
   "source": []
  },
  {
   "cell_type": "code",
   "execution_count": null,
   "metadata": {},
   "outputs": [],
   "source": []
  },
  {
   "cell_type": "code",
   "execution_count": null,
   "metadata": {},
   "outputs": [],
   "source": []
  },
  {
   "cell_type": "code",
   "execution_count": null,
   "metadata": {},
   "outputs": [],
   "source": []
  },
  {
   "cell_type": "code",
   "execution_count": null,
   "metadata": {},
   "outputs": [],
   "source": []
  },
  {
   "cell_type": "code",
   "execution_count": null,
   "metadata": {},
   "outputs": [],
   "source": []
  },
  {
   "cell_type": "code",
   "execution_count": null,
   "metadata": {},
   "outputs": [],
   "source": []
  },
  {
   "cell_type": "code",
   "execution_count": null,
   "metadata": {},
   "outputs": [],
   "source": []
  },
  {
   "cell_type": "code",
   "execution_count": null,
   "metadata": {},
   "outputs": [],
   "source": []
  },
  {
   "cell_type": "code",
   "execution_count": null,
   "metadata": {},
   "outputs": [],
   "source": []
  },
  {
   "cell_type": "code",
   "execution_count": null,
   "metadata": {},
   "outputs": [],
   "source": []
  },
  {
   "cell_type": "code",
   "execution_count": null,
   "metadata": {},
   "outputs": [],
   "source": []
  },
  {
   "cell_type": "code",
   "execution_count": null,
   "metadata": {},
   "outputs": [],
   "source": []
  },
  {
   "cell_type": "code",
   "execution_count": null,
   "metadata": {},
   "outputs": [],
   "source": []
  },
  {
   "cell_type": "code",
   "execution_count": null,
   "metadata": {},
   "outputs": [],
   "source": []
  },
  {
   "cell_type": "code",
   "execution_count": null,
   "metadata": {},
   "outputs": [],
   "source": []
  },
  {
   "cell_type": "code",
   "execution_count": null,
   "metadata": {},
   "outputs": [],
   "source": []
  },
  {
   "cell_type": "code",
   "execution_count": null,
   "metadata": {},
   "outputs": [],
   "source": []
  },
  {
   "cell_type": "code",
   "execution_count": null,
   "metadata": {},
   "outputs": [],
   "source": []
  },
  {
   "cell_type": "code",
   "execution_count": null,
   "metadata": {},
   "outputs": [],
   "source": []
  },
  {
   "cell_type": "code",
   "execution_count": null,
   "metadata": {},
   "outputs": [],
   "source": []
  },
  {
   "cell_type": "code",
   "execution_count": null,
   "metadata": {},
   "outputs": [],
   "source": []
  },
  {
   "cell_type": "code",
   "execution_count": null,
   "metadata": {},
   "outputs": [],
   "source": []
  },
  {
   "cell_type": "code",
   "execution_count": null,
   "metadata": {},
   "outputs": [],
   "source": []
  },
  {
   "cell_type": "code",
   "execution_count": null,
   "metadata": {},
   "outputs": [],
   "source": []
  },
  {
   "cell_type": "code",
   "execution_count": null,
   "metadata": {},
   "outputs": [],
   "source": []
  },
  {
   "cell_type": "code",
   "execution_count": null,
   "metadata": {},
   "outputs": [],
   "source": []
  },
  {
   "cell_type": "code",
   "execution_count": null,
   "metadata": {},
   "outputs": [],
   "source": []
  },
  {
   "cell_type": "code",
   "execution_count": null,
   "metadata": {},
   "outputs": [],
   "source": []
  },
  {
   "cell_type": "code",
   "execution_count": null,
   "metadata": {},
   "outputs": [],
   "source": []
  },
  {
   "cell_type": "code",
   "execution_count": null,
   "metadata": {},
   "outputs": [],
   "source": []
  },
  {
   "cell_type": "code",
   "execution_count": null,
   "metadata": {},
   "outputs": [],
   "source": []
  },
  {
   "cell_type": "code",
   "execution_count": null,
   "metadata": {},
   "outputs": [],
   "source": []
  },
  {
   "cell_type": "code",
   "execution_count": null,
   "metadata": {},
   "outputs": [],
   "source": []
  },
  {
   "cell_type": "code",
   "execution_count": null,
   "metadata": {},
   "outputs": [],
   "source": []
  },
  {
   "cell_type": "code",
   "execution_count": null,
   "metadata": {},
   "outputs": [],
   "source": []
  },
  {
   "cell_type": "code",
   "execution_count": null,
   "metadata": {},
   "outputs": [],
   "source": []
  },
  {
   "cell_type": "code",
   "execution_count": null,
   "metadata": {},
   "outputs": [],
   "source": []
  },
  {
   "cell_type": "code",
   "execution_count": null,
   "metadata": {},
   "outputs": [],
   "source": []
  },
  {
   "cell_type": "code",
   "execution_count": null,
   "metadata": {},
   "outputs": [],
   "source": []
  },
  {
   "cell_type": "code",
   "execution_count": null,
   "metadata": {},
   "outputs": [],
   "source": []
  },
  {
   "cell_type": "code",
   "execution_count": null,
   "metadata": {},
   "outputs": [],
   "source": []
  },
  {
   "cell_type": "code",
   "execution_count": null,
   "metadata": {},
   "outputs": [],
   "source": []
  },
  {
   "cell_type": "code",
   "execution_count": null,
   "metadata": {},
   "outputs": [],
   "source": []
  },
  {
   "cell_type": "code",
   "execution_count": null,
   "metadata": {},
   "outputs": [],
   "source": []
  },
  {
   "cell_type": "code",
   "execution_count": null,
   "metadata": {},
   "outputs": [],
   "source": []
  },
  {
   "cell_type": "code",
   "execution_count": null,
   "metadata": {},
   "outputs": [],
   "source": []
  },
  {
   "cell_type": "code",
   "execution_count": null,
   "metadata": {},
   "outputs": [],
   "source": []
  },
  {
   "cell_type": "code",
   "execution_count": null,
   "metadata": {},
   "outputs": [],
   "source": []
  },
  {
   "cell_type": "code",
   "execution_count": null,
   "metadata": {},
   "outputs": [],
   "source": []
  },
  {
   "cell_type": "code",
   "execution_count": null,
   "metadata": {},
   "outputs": [],
   "source": []
  },
  {
   "cell_type": "code",
   "execution_count": null,
   "metadata": {},
   "outputs": [],
   "source": []
  },
  {
   "cell_type": "code",
   "execution_count": null,
   "metadata": {},
   "outputs": [],
   "source": []
  },
  {
   "cell_type": "code",
   "execution_count": null,
   "metadata": {},
   "outputs": [],
   "source": []
  },
  {
   "cell_type": "code",
   "execution_count": null,
   "metadata": {},
   "outputs": [],
   "source": []
  },
  {
   "cell_type": "code",
   "execution_count": null,
   "metadata": {},
   "outputs": [],
   "source": []
  },
  {
   "cell_type": "code",
   "execution_count": null,
   "metadata": {},
   "outputs": [],
   "source": []
  },
  {
   "cell_type": "code",
   "execution_count": null,
   "metadata": {},
   "outputs": [],
   "source": []
  },
  {
   "cell_type": "code",
   "execution_count": null,
   "metadata": {},
   "outputs": [],
   "source": []
  },
  {
   "cell_type": "code",
   "execution_count": null,
   "metadata": {},
   "outputs": [],
   "source": []
  },
  {
   "cell_type": "code",
   "execution_count": null,
   "metadata": {},
   "outputs": [],
   "source": []
  },
  {
   "cell_type": "code",
   "execution_count": null,
   "metadata": {},
   "outputs": [],
   "source": []
  },
  {
   "cell_type": "code",
   "execution_count": null,
   "metadata": {},
   "outputs": [],
   "source": []
  },
  {
   "cell_type": "code",
   "execution_count": null,
   "metadata": {},
   "outputs": [],
   "source": []
  },
  {
   "cell_type": "code",
   "execution_count": null,
   "metadata": {},
   "outputs": [],
   "source": []
  },
  {
   "cell_type": "code",
   "execution_count": null,
   "metadata": {},
   "outputs": [],
   "source": []
  },
  {
   "cell_type": "code",
   "execution_count": null,
   "metadata": {},
   "outputs": [],
   "source": []
  },
  {
   "cell_type": "code",
   "execution_count": null,
   "metadata": {},
   "outputs": [],
   "source": []
  },
  {
   "cell_type": "code",
   "execution_count": null,
   "metadata": {},
   "outputs": [],
   "source": []
  },
  {
   "cell_type": "code",
   "execution_count": null,
   "metadata": {},
   "outputs": [],
   "source": []
  },
  {
   "cell_type": "code",
   "execution_count": null,
   "metadata": {},
   "outputs": [],
   "source": []
  },
  {
   "cell_type": "code",
   "execution_count": null,
   "metadata": {},
   "outputs": [],
   "source": []
  },
  {
   "cell_type": "code",
   "execution_count": null,
   "metadata": {},
   "outputs": [],
   "source": []
  },
  {
   "cell_type": "code",
   "execution_count": null,
   "metadata": {},
   "outputs": [],
   "source": []
  },
  {
   "cell_type": "code",
   "execution_count": null,
   "metadata": {},
   "outputs": [],
   "source": []
  },
  {
   "cell_type": "code",
   "execution_count": null,
   "metadata": {},
   "outputs": [],
   "source": []
  },
  {
   "cell_type": "code",
   "execution_count": null,
   "metadata": {},
   "outputs": [],
   "source": []
  },
  {
   "cell_type": "code",
   "execution_count": null,
   "metadata": {},
   "outputs": [],
   "source": []
  },
  {
   "cell_type": "code",
   "execution_count": null,
   "metadata": {},
   "outputs": [],
   "source": []
  },
  {
   "cell_type": "code",
   "execution_count": null,
   "metadata": {},
   "outputs": [],
   "source": []
  },
  {
   "cell_type": "code",
   "execution_count": null,
   "metadata": {},
   "outputs": [],
   "source": []
  },
  {
   "cell_type": "code",
   "execution_count": null,
   "metadata": {},
   "outputs": [],
   "source": []
  },
  {
   "cell_type": "code",
   "execution_count": null,
   "metadata": {},
   "outputs": [],
   "source": []
  },
  {
   "cell_type": "code",
   "execution_count": null,
   "metadata": {},
   "outputs": [],
   "source": []
  },
  {
   "cell_type": "code",
   "execution_count": null,
   "metadata": {},
   "outputs": [],
   "source": []
  },
  {
   "cell_type": "code",
   "execution_count": null,
   "metadata": {},
   "outputs": [],
   "source": []
  },
  {
   "cell_type": "code",
   "execution_count": null,
   "metadata": {},
   "outputs": [],
   "source": []
  },
  {
   "cell_type": "code",
   "execution_count": null,
   "metadata": {},
   "outputs": [],
   "source": []
  },
  {
   "cell_type": "code",
   "execution_count": null,
   "metadata": {},
   "outputs": [],
   "source": []
  },
  {
   "cell_type": "code",
   "execution_count": null,
   "metadata": {},
   "outputs": [],
   "source": []
  },
  {
   "cell_type": "code",
   "execution_count": null,
   "metadata": {},
   "outputs": [],
   "source": []
  },
  {
   "cell_type": "code",
   "execution_count": null,
   "metadata": {},
   "outputs": [],
   "source": []
  },
  {
   "cell_type": "code",
   "execution_count": null,
   "metadata": {},
   "outputs": [],
   "source": []
  },
  {
   "cell_type": "code",
   "execution_count": null,
   "metadata": {},
   "outputs": [],
   "source": []
  },
  {
   "cell_type": "code",
   "execution_count": null,
   "metadata": {},
   "outputs": [],
   "source": []
  },
  {
   "cell_type": "code",
   "execution_count": null,
   "metadata": {},
   "outputs": [],
   "source": []
  },
  {
   "cell_type": "code",
   "execution_count": null,
   "metadata": {},
   "outputs": [],
   "source": []
  },
  {
   "cell_type": "code",
   "execution_count": null,
   "metadata": {},
   "outputs": [],
   "source": []
  },
  {
   "cell_type": "code",
   "execution_count": null,
   "metadata": {},
   "outputs": [],
   "source": []
  },
  {
   "cell_type": "code",
   "execution_count": null,
   "metadata": {},
   "outputs": [],
   "source": []
  },
  {
   "cell_type": "code",
   "execution_count": null,
   "metadata": {},
   "outputs": [],
   "source": []
  },
  {
   "cell_type": "code",
   "execution_count": null,
   "metadata": {},
   "outputs": [],
   "source": []
  },
  {
   "cell_type": "code",
   "execution_count": null,
   "metadata": {},
   "outputs": [],
   "source": []
  },
  {
   "cell_type": "code",
   "execution_count": null,
   "metadata": {},
   "outputs": [],
   "source": []
  },
  {
   "cell_type": "code",
   "execution_count": null,
   "metadata": {},
   "outputs": [],
   "source": []
  },
  {
   "cell_type": "code",
   "execution_count": null,
   "metadata": {},
   "outputs": [],
   "source": []
  },
  {
   "cell_type": "code",
   "execution_count": null,
   "metadata": {},
   "outputs": [],
   "source": []
  },
  {
   "cell_type": "code",
   "execution_count": null,
   "metadata": {},
   "outputs": [],
   "source": []
  },
  {
   "cell_type": "code",
   "execution_count": null,
   "metadata": {},
   "outputs": [],
   "source": []
  },
  {
   "cell_type": "code",
   "execution_count": null,
   "metadata": {},
   "outputs": [],
   "source": []
  },
  {
   "cell_type": "code",
   "execution_count": null,
   "metadata": {},
   "outputs": [],
   "source": []
  },
  {
   "cell_type": "code",
   "execution_count": null,
   "metadata": {},
   "outputs": [],
   "source": []
  },
  {
   "cell_type": "code",
   "execution_count": null,
   "metadata": {},
   "outputs": [],
   "source": []
  },
  {
   "cell_type": "code",
   "execution_count": null,
   "metadata": {},
   "outputs": [],
   "source": []
  },
  {
   "cell_type": "code",
   "execution_count": null,
   "metadata": {},
   "outputs": [],
   "source": []
  },
  {
   "cell_type": "code",
   "execution_count": null,
   "metadata": {},
   "outputs": [],
   "source": []
  },
  {
   "cell_type": "code",
   "execution_count": null,
   "metadata": {},
   "outputs": [],
   "source": []
  },
  {
   "cell_type": "code",
   "execution_count": null,
   "metadata": {},
   "outputs": [],
   "source": []
  },
  {
   "cell_type": "code",
   "execution_count": null,
   "metadata": {},
   "outputs": [],
   "source": []
  },
  {
   "cell_type": "code",
   "execution_count": null,
   "metadata": {},
   "outputs": [],
   "source": []
  },
  {
   "cell_type": "code",
   "execution_count": null,
   "metadata": {},
   "outputs": [],
   "source": []
  },
  {
   "cell_type": "code",
   "execution_count": null,
   "metadata": {},
   "outputs": [],
   "source": []
  },
  {
   "cell_type": "code",
   "execution_count": null,
   "metadata": {},
   "outputs": [],
   "source": []
  },
  {
   "cell_type": "code",
   "execution_count": null,
   "metadata": {},
   "outputs": [],
   "source": []
  },
  {
   "cell_type": "code",
   "execution_count": null,
   "metadata": {},
   "outputs": [],
   "source": []
  },
  {
   "cell_type": "code",
   "execution_count": null,
   "metadata": {},
   "outputs": [],
   "source": []
  },
  {
   "cell_type": "code",
   "execution_count": null,
   "metadata": {},
   "outputs": [],
   "source": []
  },
  {
   "cell_type": "code",
   "execution_count": null,
   "metadata": {},
   "outputs": [],
   "source": []
  },
  {
   "cell_type": "code",
   "execution_count": null,
   "metadata": {},
   "outputs": [],
   "source": []
  },
  {
   "cell_type": "code",
   "execution_count": null,
   "metadata": {},
   "outputs": [],
   "source": []
  },
  {
   "cell_type": "code",
   "execution_count": null,
   "metadata": {},
   "outputs": [],
   "source": []
  },
  {
   "cell_type": "code",
   "execution_count": null,
   "metadata": {},
   "outputs": [],
   "source": []
  },
  {
   "cell_type": "code",
   "execution_count": null,
   "metadata": {},
   "outputs": [],
   "source": []
  },
  {
   "cell_type": "code",
   "execution_count": null,
   "metadata": {},
   "outputs": [],
   "source": []
  },
  {
   "cell_type": "code",
   "execution_count": null,
   "metadata": {},
   "outputs": [],
   "source": []
  },
  {
   "cell_type": "code",
   "execution_count": null,
   "metadata": {},
   "outputs": [],
   "source": []
  },
  {
   "cell_type": "code",
   "execution_count": null,
   "metadata": {},
   "outputs": [],
   "source": []
  },
  {
   "cell_type": "code",
   "execution_count": null,
   "metadata": {},
   "outputs": [],
   "source": []
  },
  {
   "cell_type": "code",
   "execution_count": null,
   "metadata": {},
   "outputs": [],
   "source": []
  },
  {
   "cell_type": "code",
   "execution_count": null,
   "metadata": {},
   "outputs": [],
   "source": []
  },
  {
   "cell_type": "code",
   "execution_count": null,
   "metadata": {},
   "outputs": [],
   "source": []
  },
  {
   "cell_type": "code",
   "execution_count": null,
   "metadata": {},
   "outputs": [],
   "source": []
  },
  {
   "cell_type": "code",
   "execution_count": null,
   "metadata": {},
   "outputs": [],
   "source": []
  },
  {
   "cell_type": "code",
   "execution_count": null,
   "metadata": {},
   "outputs": [],
   "source": []
  },
  {
   "cell_type": "code",
   "execution_count": null,
   "metadata": {},
   "outputs": [],
   "source": []
  },
  {
   "cell_type": "code",
   "execution_count": null,
   "metadata": {},
   "outputs": [],
   "source": []
  },
  {
   "cell_type": "code",
   "execution_count": null,
   "metadata": {},
   "outputs": [],
   "source": []
  },
  {
   "cell_type": "code",
   "execution_count": null,
   "metadata": {},
   "outputs": [],
   "source": []
  },
  {
   "cell_type": "code",
   "execution_count": null,
   "metadata": {},
   "outputs": [],
   "source": []
  },
  {
   "cell_type": "code",
   "execution_count": null,
   "metadata": {},
   "outputs": [],
   "source": []
  },
  {
   "cell_type": "code",
   "execution_count": null,
   "metadata": {},
   "outputs": [],
   "source": []
  },
  {
   "cell_type": "code",
   "execution_count": null,
   "metadata": {},
   "outputs": [],
   "source": []
  },
  {
   "cell_type": "code",
   "execution_count": null,
   "metadata": {},
   "outputs": [],
   "source": []
  },
  {
   "cell_type": "code",
   "execution_count": null,
   "metadata": {},
   "outputs": [],
   "source": []
  },
  {
   "cell_type": "code",
   "execution_count": null,
   "metadata": {},
   "outputs": [],
   "source": []
  },
  {
   "cell_type": "code",
   "execution_count": null,
   "metadata": {},
   "outputs": [],
   "source": []
  },
  {
   "cell_type": "code",
   "execution_count": null,
   "metadata": {},
   "outputs": [],
   "source": []
  },
  {
   "cell_type": "code",
   "execution_count": null,
   "metadata": {},
   "outputs": [],
   "source": []
  },
  {
   "cell_type": "code",
   "execution_count": null,
   "metadata": {},
   "outputs": [],
   "source": []
  },
  {
   "cell_type": "code",
   "execution_count": null,
   "metadata": {},
   "outputs": [],
   "source": []
  },
  {
   "cell_type": "code",
   "execution_count": null,
   "metadata": {},
   "outputs": [],
   "source": []
  },
  {
   "cell_type": "code",
   "execution_count": null,
   "metadata": {},
   "outputs": [],
   "source": []
  },
  {
   "cell_type": "code",
   "execution_count": null,
   "metadata": {},
   "outputs": [],
   "source": []
  },
  {
   "cell_type": "code",
   "execution_count": null,
   "metadata": {},
   "outputs": [],
   "source": []
  },
  {
   "cell_type": "code",
   "execution_count": null,
   "metadata": {},
   "outputs": [],
   "source": []
  },
  {
   "cell_type": "code",
   "execution_count": null,
   "metadata": {},
   "outputs": [],
   "source": []
  },
  {
   "cell_type": "code",
   "execution_count": null,
   "metadata": {},
   "outputs": [],
   "source": []
  },
  {
   "cell_type": "code",
   "execution_count": null,
   "metadata": {},
   "outputs": [],
   "source": []
  },
  {
   "cell_type": "code",
   "execution_count": null,
   "metadata": {},
   "outputs": [],
   "source": []
  },
  {
   "cell_type": "code",
   "execution_count": null,
   "metadata": {},
   "outputs": [],
   "source": []
  },
  {
   "cell_type": "code",
   "execution_count": null,
   "metadata": {},
   "outputs": [],
   "source": []
  },
  {
   "cell_type": "code",
   "execution_count": null,
   "metadata": {},
   "outputs": [],
   "source": []
  },
  {
   "cell_type": "code",
   "execution_count": null,
   "metadata": {},
   "outputs": [],
   "source": []
  },
  {
   "cell_type": "code",
   "execution_count": null,
   "metadata": {},
   "outputs": [],
   "source": []
  },
  {
   "cell_type": "code",
   "execution_count": null,
   "metadata": {},
   "outputs": [],
   "source": []
  },
  {
   "cell_type": "code",
   "execution_count": null,
   "metadata": {},
   "outputs": [],
   "source": []
  },
  {
   "cell_type": "code",
   "execution_count": null,
   "metadata": {},
   "outputs": [],
   "source": []
  },
  {
   "cell_type": "code",
   "execution_count": null,
   "metadata": {},
   "outputs": [],
   "source": []
  },
  {
   "cell_type": "code",
   "execution_count": null,
   "metadata": {},
   "outputs": [],
   "source": []
  },
  {
   "cell_type": "code",
   "execution_count": null,
   "metadata": {},
   "outputs": [],
   "source": []
  },
  {
   "cell_type": "code",
   "execution_count": null,
   "metadata": {},
   "outputs": [],
   "source": []
  },
  {
   "cell_type": "code",
   "execution_count": null,
   "metadata": {},
   "outputs": [],
   "source": []
  },
  {
   "cell_type": "code",
   "execution_count": null,
   "metadata": {},
   "outputs": [],
   "source": []
  },
  {
   "cell_type": "code",
   "execution_count": null,
   "metadata": {},
   "outputs": [],
   "source": []
  },
  {
   "cell_type": "code",
   "execution_count": null,
   "metadata": {},
   "outputs": [],
   "source": []
  },
  {
   "cell_type": "code",
   "execution_count": null,
   "metadata": {},
   "outputs": [],
   "source": []
  },
  {
   "cell_type": "code",
   "execution_count": null,
   "metadata": {},
   "outputs": [],
   "source": []
  },
  {
   "cell_type": "code",
   "execution_count": null,
   "metadata": {},
   "outputs": [],
   "source": []
  },
  {
   "cell_type": "code",
   "execution_count": null,
   "metadata": {},
   "outputs": [],
   "source": []
  },
  {
   "cell_type": "code",
   "execution_count": null,
   "metadata": {},
   "outputs": [],
   "source": []
  },
  {
   "cell_type": "code",
   "execution_count": null,
   "metadata": {},
   "outputs": [],
   "source": []
  },
  {
   "cell_type": "code",
   "execution_count": null,
   "metadata": {},
   "outputs": [],
   "source": []
  },
  {
   "cell_type": "code",
   "execution_count": null,
   "metadata": {},
   "outputs": [],
   "source": []
  },
  {
   "cell_type": "code",
   "execution_count": null,
   "metadata": {},
   "outputs": [],
   "source": []
  },
  {
   "cell_type": "code",
   "execution_count": null,
   "metadata": {},
   "outputs": [],
   "source": []
  },
  {
   "cell_type": "code",
   "execution_count": null,
   "metadata": {},
   "outputs": [],
   "source": []
  },
  {
   "cell_type": "code",
   "execution_count": null,
   "metadata": {},
   "outputs": [],
   "source": []
  },
  {
   "cell_type": "code",
   "execution_count": null,
   "metadata": {},
   "outputs": [],
   "source": []
  },
  {
   "cell_type": "code",
   "execution_count": null,
   "metadata": {},
   "outputs": [],
   "source": []
  },
  {
   "cell_type": "code",
   "execution_count": null,
   "metadata": {},
   "outputs": [],
   "source": []
  },
  {
   "cell_type": "code",
   "execution_count": null,
   "metadata": {},
   "outputs": [],
   "source": []
  },
  {
   "cell_type": "code",
   "execution_count": null,
   "metadata": {},
   "outputs": [],
   "source": []
  },
  {
   "cell_type": "code",
   "execution_count": null,
   "metadata": {},
   "outputs": [],
   "source": []
  },
  {
   "cell_type": "code",
   "execution_count": null,
   "metadata": {},
   "outputs": [],
   "source": []
  },
  {
   "cell_type": "code",
   "execution_count": null,
   "metadata": {},
   "outputs": [],
   "source": []
  },
  {
   "cell_type": "code",
   "execution_count": null,
   "metadata": {},
   "outputs": [],
   "source": []
  },
  {
   "cell_type": "code",
   "execution_count": null,
   "metadata": {},
   "outputs": [],
   "source": []
  },
  {
   "cell_type": "code",
   "execution_count": null,
   "metadata": {},
   "outputs": [],
   "source": []
  },
  {
   "cell_type": "code",
   "execution_count": null,
   "metadata": {},
   "outputs": [],
   "source": []
  },
  {
   "cell_type": "code",
   "execution_count": null,
   "metadata": {},
   "outputs": [],
   "source": []
  },
  {
   "cell_type": "code",
   "execution_count": null,
   "metadata": {},
   "outputs": [],
   "source": []
  },
  {
   "cell_type": "code",
   "execution_count": null,
   "metadata": {},
   "outputs": [],
   "source": []
  },
  {
   "cell_type": "code",
   "execution_count": null,
   "metadata": {},
   "outputs": [],
   "source": []
  },
  {
   "cell_type": "code",
   "execution_count": null,
   "metadata": {},
   "outputs": [],
   "source": []
  },
  {
   "cell_type": "code",
   "execution_count": null,
   "metadata": {},
   "outputs": [],
   "source": []
  },
  {
   "cell_type": "code",
   "execution_count": null,
   "metadata": {},
   "outputs": [],
   "source": []
  },
  {
   "cell_type": "code",
   "execution_count": null,
   "metadata": {},
   "outputs": [],
   "source": []
  },
  {
   "cell_type": "code",
   "execution_count": null,
   "metadata": {},
   "outputs": [],
   "source": []
  },
  {
   "cell_type": "code",
   "execution_count": null,
   "metadata": {},
   "outputs": [],
   "source": []
  },
  {
   "cell_type": "code",
   "execution_count": null,
   "metadata": {},
   "outputs": [],
   "source": []
  },
  {
   "cell_type": "code",
   "execution_count": null,
   "metadata": {},
   "outputs": [],
   "source": []
  },
  {
   "cell_type": "code",
   "execution_count": null,
   "metadata": {},
   "outputs": [],
   "source": []
  },
  {
   "cell_type": "code",
   "execution_count": null,
   "metadata": {},
   "outputs": [],
   "source": []
  },
  {
   "cell_type": "code",
   "execution_count": null,
   "metadata": {},
   "outputs": [],
   "source": []
  },
  {
   "cell_type": "code",
   "execution_count": null,
   "metadata": {},
   "outputs": [],
   "source": []
  },
  {
   "cell_type": "code",
   "execution_count": null,
   "metadata": {},
   "outputs": [],
   "source": []
  },
  {
   "cell_type": "code",
   "execution_count": null,
   "metadata": {},
   "outputs": [],
   "source": []
  },
  {
   "cell_type": "code",
   "execution_count": null,
   "metadata": {},
   "outputs": [],
   "source": []
  },
  {
   "cell_type": "code",
   "execution_count": null,
   "metadata": {},
   "outputs": [],
   "source": []
  },
  {
   "cell_type": "code",
   "execution_count": null,
   "metadata": {},
   "outputs": [],
   "source": []
  },
  {
   "cell_type": "code",
   "execution_count": null,
   "metadata": {},
   "outputs": [],
   "source": []
  },
  {
   "cell_type": "code",
   "execution_count": null,
   "metadata": {},
   "outputs": [],
   "source": []
  },
  {
   "cell_type": "code",
   "execution_count": null,
   "metadata": {},
   "outputs": [],
   "source": []
  },
  {
   "cell_type": "code",
   "execution_count": null,
   "metadata": {},
   "outputs": [],
   "source": []
  },
  {
   "cell_type": "code",
   "execution_count": null,
   "metadata": {},
   "outputs": [],
   "source": []
  },
  {
   "cell_type": "code",
   "execution_count": null,
   "metadata": {},
   "outputs": [],
   "source": []
  },
  {
   "cell_type": "code",
   "execution_count": null,
   "metadata": {},
   "outputs": [],
   "source": []
  },
  {
   "cell_type": "code",
   "execution_count": null,
   "metadata": {},
   "outputs": [],
   "source": []
  },
  {
   "cell_type": "code",
   "execution_count": null,
   "metadata": {},
   "outputs": [],
   "source": []
  },
  {
   "cell_type": "code",
   "execution_count": null,
   "metadata": {},
   "outputs": [],
   "source": []
  },
  {
   "cell_type": "code",
   "execution_count": null,
   "metadata": {},
   "outputs": [],
   "source": []
  },
  {
   "cell_type": "code",
   "execution_count": null,
   "metadata": {},
   "outputs": [],
   "source": []
  },
  {
   "cell_type": "code",
   "execution_count": null,
   "metadata": {},
   "outputs": [],
   "source": []
  },
  {
   "cell_type": "code",
   "execution_count": null,
   "metadata": {},
   "outputs": [],
   "source": []
  },
  {
   "cell_type": "code",
   "execution_count": null,
   "metadata": {},
   "outputs": [],
   "source": []
  },
  {
   "cell_type": "code",
   "execution_count": null,
   "metadata": {},
   "outputs": [],
   "source": []
  },
  {
   "cell_type": "code",
   "execution_count": null,
   "metadata": {},
   "outputs": [],
   "source": []
  },
  {
   "cell_type": "code",
   "execution_count": null,
   "metadata": {},
   "outputs": [],
   "source": []
  },
  {
   "cell_type": "code",
   "execution_count": null,
   "metadata": {},
   "outputs": [],
   "source": []
  },
  {
   "cell_type": "code",
   "execution_count": null,
   "metadata": {},
   "outputs": [],
   "source": []
  },
  {
   "cell_type": "code",
   "execution_count": null,
   "metadata": {},
   "outputs": [],
   "source": []
  },
  {
   "cell_type": "code",
   "execution_count": null,
   "metadata": {},
   "outputs": [],
   "source": []
  },
  {
   "cell_type": "code",
   "execution_count": null,
   "metadata": {},
   "outputs": [],
   "source": []
  },
  {
   "cell_type": "code",
   "execution_count": null,
   "metadata": {},
   "outputs": [],
   "source": []
  },
  {
   "cell_type": "code",
   "execution_count": null,
   "metadata": {},
   "outputs": [],
   "source": []
  },
  {
   "cell_type": "code",
   "execution_count": null,
   "metadata": {},
   "outputs": [],
   "source": []
  },
  {
   "cell_type": "code",
   "execution_count": null,
   "metadata": {},
   "outputs": [],
   "source": []
  },
  {
   "cell_type": "code",
   "execution_count": null,
   "metadata": {},
   "outputs": [],
   "source": []
  },
  {
   "cell_type": "code",
   "execution_count": null,
   "metadata": {},
   "outputs": [],
   "source": []
  },
  {
   "cell_type": "code",
   "execution_count": null,
   "metadata": {},
   "outputs": [],
   "source": []
  },
  {
   "cell_type": "code",
   "execution_count": null,
   "metadata": {},
   "outputs": [],
   "source": []
  },
  {
   "cell_type": "code",
   "execution_count": null,
   "metadata": {},
   "outputs": [],
   "source": []
  },
  {
   "cell_type": "code",
   "execution_count": null,
   "metadata": {},
   "outputs": [],
   "source": []
  },
  {
   "cell_type": "code",
   "execution_count": null,
   "metadata": {},
   "outputs": [],
   "source": []
  },
  {
   "cell_type": "code",
   "execution_count": null,
   "metadata": {},
   "outputs": [],
   "source": []
  },
  {
   "cell_type": "code",
   "execution_count": null,
   "metadata": {},
   "outputs": [],
   "source": []
  },
  {
   "cell_type": "code",
   "execution_count": null,
   "metadata": {},
   "outputs": [],
   "source": []
  },
  {
   "cell_type": "code",
   "execution_count": null,
   "metadata": {},
   "outputs": [],
   "source": []
  },
  {
   "cell_type": "code",
   "execution_count": null,
   "metadata": {},
   "outputs": [],
   "source": []
  },
  {
   "cell_type": "code",
   "execution_count": null,
   "metadata": {},
   "outputs": [],
   "source": []
  },
  {
   "cell_type": "code",
   "execution_count": null,
   "metadata": {},
   "outputs": [],
   "source": []
  },
  {
   "cell_type": "code",
   "execution_count": null,
   "metadata": {},
   "outputs": [],
   "source": []
  },
  {
   "cell_type": "code",
   "execution_count": null,
   "metadata": {},
   "outputs": [],
   "source": []
  },
  {
   "cell_type": "code",
   "execution_count": null,
   "metadata": {},
   "outputs": [],
   "source": []
  },
  {
   "cell_type": "code",
   "execution_count": null,
   "metadata": {},
   "outputs": [],
   "source": []
  },
  {
   "cell_type": "code",
   "execution_count": null,
   "metadata": {},
   "outputs": [],
   "source": []
  },
  {
   "cell_type": "code",
   "execution_count": null,
   "metadata": {},
   "outputs": [],
   "source": []
  },
  {
   "cell_type": "code",
   "execution_count": null,
   "metadata": {},
   "outputs": [],
   "source": []
  },
  {
   "cell_type": "code",
   "execution_count": null,
   "metadata": {},
   "outputs": [],
   "source": []
  },
  {
   "cell_type": "code",
   "execution_count": null,
   "metadata": {},
   "outputs": [],
   "source": []
  },
  {
   "cell_type": "code",
   "execution_count": null,
   "metadata": {},
   "outputs": [],
   "source": []
  },
  {
   "cell_type": "code",
   "execution_count": null,
   "metadata": {},
   "outputs": [],
   "source": []
  },
  {
   "cell_type": "code",
   "execution_count": null,
   "metadata": {},
   "outputs": [],
   "source": []
  },
  {
   "cell_type": "code",
   "execution_count": null,
   "metadata": {},
   "outputs": [],
   "source": []
  },
  {
   "cell_type": "code",
   "execution_count": null,
   "metadata": {},
   "outputs": [],
   "source": []
  },
  {
   "cell_type": "code",
   "execution_count": null,
   "metadata": {},
   "outputs": [],
   "source": []
  },
  {
   "cell_type": "code",
   "execution_count": null,
   "metadata": {},
   "outputs": [],
   "source": []
  },
  {
   "cell_type": "code",
   "execution_count": null,
   "metadata": {},
   "outputs": [],
   "source": []
  },
  {
   "cell_type": "code",
   "execution_count": null,
   "metadata": {},
   "outputs": [],
   "source": []
  },
  {
   "cell_type": "code",
   "execution_count": null,
   "metadata": {},
   "outputs": [],
   "source": []
  },
  {
   "cell_type": "code",
   "execution_count": null,
   "metadata": {},
   "outputs": [],
   "source": []
  },
  {
   "cell_type": "code",
   "execution_count": null,
   "metadata": {},
   "outputs": [],
   "source": []
  },
  {
   "cell_type": "code",
   "execution_count": null,
   "metadata": {},
   "outputs": [],
   "source": []
  },
  {
   "cell_type": "code",
   "execution_count": null,
   "metadata": {},
   "outputs": [],
   "source": []
  },
  {
   "cell_type": "code",
   "execution_count": null,
   "metadata": {},
   "outputs": [],
   "source": []
  },
  {
   "cell_type": "code",
   "execution_count": null,
   "metadata": {},
   "outputs": [],
   "source": []
  },
  {
   "cell_type": "code",
   "execution_count": null,
   "metadata": {},
   "outputs": [],
   "source": []
  },
  {
   "cell_type": "code",
   "execution_count": null,
   "metadata": {},
   "outputs": [],
   "source": []
  },
  {
   "cell_type": "code",
   "execution_count": null,
   "metadata": {},
   "outputs": [],
   "source": []
  },
  {
   "cell_type": "code",
   "execution_count": null,
   "metadata": {},
   "outputs": [],
   "source": []
  },
  {
   "cell_type": "code",
   "execution_count": null,
   "metadata": {},
   "outputs": [],
   "source": []
  },
  {
   "cell_type": "code",
   "execution_count": null,
   "metadata": {},
   "outputs": [],
   "source": []
  },
  {
   "cell_type": "code",
   "execution_count": null,
   "metadata": {},
   "outputs": [],
   "source": []
  },
  {
   "cell_type": "code",
   "execution_count": null,
   "metadata": {},
   "outputs": [],
   "source": []
  },
  {
   "cell_type": "code",
   "execution_count": null,
   "metadata": {},
   "outputs": [],
   "source": []
  },
  {
   "cell_type": "code",
   "execution_count": null,
   "metadata": {},
   "outputs": [],
   "source": []
  },
  {
   "cell_type": "code",
   "execution_count": null,
   "metadata": {},
   "outputs": [],
   "source": []
  },
  {
   "cell_type": "code",
   "execution_count": null,
   "metadata": {},
   "outputs": [],
   "source": []
  },
  {
   "cell_type": "code",
   "execution_count": null,
   "metadata": {},
   "outputs": [],
   "source": []
  },
  {
   "cell_type": "code",
   "execution_count": null,
   "metadata": {},
   "outputs": [],
   "source": []
  },
  {
   "cell_type": "code",
   "execution_count": null,
   "metadata": {},
   "outputs": [],
   "source": []
  },
  {
   "cell_type": "code",
   "execution_count": null,
   "metadata": {},
   "outputs": [],
   "source": []
  },
  {
   "cell_type": "code",
   "execution_count": null,
   "metadata": {},
   "outputs": [],
   "source": []
  },
  {
   "cell_type": "code",
   "execution_count": null,
   "metadata": {},
   "outputs": [],
   "source": []
  },
  {
   "cell_type": "code",
   "execution_count": null,
   "metadata": {},
   "outputs": [],
   "source": []
  },
  {
   "cell_type": "code",
   "execution_count": null,
   "metadata": {},
   "outputs": [],
   "source": []
  },
  {
   "cell_type": "code",
   "execution_count": null,
   "metadata": {},
   "outputs": [],
   "source": []
  },
  {
   "cell_type": "code",
   "execution_count": null,
   "metadata": {},
   "outputs": [],
   "source": []
  },
  {
   "cell_type": "code",
   "execution_count": null,
   "metadata": {},
   "outputs": [],
   "source": []
  },
  {
   "cell_type": "code",
   "execution_count": null,
   "metadata": {},
   "outputs": [],
   "source": []
  },
  {
   "cell_type": "code",
   "execution_count": null,
   "metadata": {},
   "outputs": [],
   "source": []
  },
  {
   "cell_type": "code",
   "execution_count": null,
   "metadata": {},
   "outputs": [],
   "source": []
  },
  {
   "cell_type": "code",
   "execution_count": null,
   "metadata": {},
   "outputs": [],
   "source": []
  },
  {
   "cell_type": "code",
   "execution_count": null,
   "metadata": {},
   "outputs": [],
   "source": []
  },
  {
   "cell_type": "code",
   "execution_count": null,
   "metadata": {},
   "outputs": [],
   "source": []
  },
  {
   "cell_type": "code",
   "execution_count": null,
   "metadata": {},
   "outputs": [],
   "source": []
  },
  {
   "cell_type": "code",
   "execution_count": null,
   "metadata": {},
   "outputs": [],
   "source": []
  },
  {
   "cell_type": "code",
   "execution_count": null,
   "metadata": {},
   "outputs": [],
   "source": []
  },
  {
   "cell_type": "code",
   "execution_count": null,
   "metadata": {},
   "outputs": [],
   "source": []
  },
  {
   "cell_type": "code",
   "execution_count": null,
   "metadata": {},
   "outputs": [],
   "source": []
  },
  {
   "cell_type": "code",
   "execution_count": null,
   "metadata": {},
   "outputs": [],
   "source": []
  },
  {
   "cell_type": "code",
   "execution_count": null,
   "metadata": {},
   "outputs": [],
   "source": []
  },
  {
   "cell_type": "code",
   "execution_count": null,
   "metadata": {},
   "outputs": [],
   "source": []
  },
  {
   "cell_type": "code",
   "execution_count": null,
   "metadata": {},
   "outputs": [],
   "source": []
  },
  {
   "cell_type": "code",
   "execution_count": null,
   "metadata": {},
   "outputs": [],
   "source": []
  },
  {
   "cell_type": "code",
   "execution_count": null,
   "metadata": {},
   "outputs": [],
   "source": []
  },
  {
   "cell_type": "code",
   "execution_count": null,
   "metadata": {},
   "outputs": [],
   "source": []
  },
  {
   "cell_type": "code",
   "execution_count": null,
   "metadata": {},
   "outputs": [],
   "source": []
  },
  {
   "cell_type": "code",
   "execution_count": null,
   "metadata": {},
   "outputs": [],
   "source": []
  },
  {
   "cell_type": "code",
   "execution_count": null,
   "metadata": {},
   "outputs": [],
   "source": []
  },
  {
   "cell_type": "code",
   "execution_count": null,
   "metadata": {},
   "outputs": [],
   "source": []
  },
  {
   "cell_type": "code",
   "execution_count": null,
   "metadata": {},
   "outputs": [],
   "source": []
  },
  {
   "cell_type": "code",
   "execution_count": null,
   "metadata": {},
   "outputs": [],
   "source": []
  },
  {
   "cell_type": "code",
   "execution_count": null,
   "metadata": {},
   "outputs": [],
   "source": []
  },
  {
   "cell_type": "code",
   "execution_count": null,
   "metadata": {},
   "outputs": [],
   "source": []
  },
  {
   "cell_type": "code",
   "execution_count": null,
   "metadata": {},
   "outputs": [],
   "source": []
  },
  {
   "cell_type": "code",
   "execution_count": null,
   "metadata": {},
   "outputs": [],
   "source": []
  },
  {
   "cell_type": "code",
   "execution_count": null,
   "metadata": {},
   "outputs": [],
   "source": []
  },
  {
   "cell_type": "code",
   "execution_count": null,
   "metadata": {},
   "outputs": [],
   "source": []
  },
  {
   "cell_type": "code",
   "execution_count": null,
   "metadata": {},
   "outputs": [],
   "source": []
  },
  {
   "cell_type": "code",
   "execution_count": null,
   "metadata": {},
   "outputs": [],
   "source": []
  },
  {
   "cell_type": "code",
   "execution_count": null,
   "metadata": {},
   "outputs": [],
   "source": []
  },
  {
   "cell_type": "code",
   "execution_count": null,
   "metadata": {},
   "outputs": [],
   "source": []
  },
  {
   "cell_type": "code",
   "execution_count": null,
   "metadata": {},
   "outputs": [],
   "source": []
  },
  {
   "cell_type": "code",
   "execution_count": null,
   "metadata": {},
   "outputs": [],
   "source": []
  },
  {
   "cell_type": "code",
   "execution_count": null,
   "metadata": {},
   "outputs": [],
   "source": []
  },
  {
   "cell_type": "code",
   "execution_count": null,
   "metadata": {},
   "outputs": [],
   "source": []
  },
  {
   "cell_type": "code",
   "execution_count": null,
   "metadata": {},
   "outputs": [],
   "source": []
  },
  {
   "cell_type": "code",
   "execution_count": null,
   "metadata": {},
   "outputs": [],
   "source": []
  },
  {
   "cell_type": "code",
   "execution_count": null,
   "metadata": {},
   "outputs": [],
   "source": []
  },
  {
   "cell_type": "code",
   "execution_count": null,
   "metadata": {},
   "outputs": [],
   "source": []
  },
  {
   "cell_type": "code",
   "execution_count": null,
   "metadata": {},
   "outputs": [],
   "source": []
  },
  {
   "cell_type": "code",
   "execution_count": null,
   "metadata": {},
   "outputs": [],
   "source": []
  },
  {
   "cell_type": "code",
   "execution_count": null,
   "metadata": {},
   "outputs": [],
   "source": []
  },
  {
   "cell_type": "code",
   "execution_count": null,
   "metadata": {},
   "outputs": [],
   "source": []
  },
  {
   "cell_type": "code",
   "execution_count": null,
   "metadata": {},
   "outputs": [],
   "source": []
  },
  {
   "cell_type": "code",
   "execution_count": null,
   "metadata": {},
   "outputs": [],
   "source": []
  },
  {
   "cell_type": "code",
   "execution_count": null,
   "metadata": {},
   "outputs": [],
   "source": []
  },
  {
   "cell_type": "code",
   "execution_count": null,
   "metadata": {},
   "outputs": [],
   "source": []
  },
  {
   "cell_type": "code",
   "execution_count": null,
   "metadata": {},
   "outputs": [],
   "source": []
  },
  {
   "cell_type": "code",
   "execution_count": null,
   "metadata": {},
   "outputs": [],
   "source": []
  },
  {
   "cell_type": "code",
   "execution_count": null,
   "metadata": {},
   "outputs": [],
   "source": []
  },
  {
   "cell_type": "code",
   "execution_count": null,
   "metadata": {},
   "outputs": [],
   "source": []
  },
  {
   "cell_type": "code",
   "execution_count": null,
   "metadata": {},
   "outputs": [],
   "source": []
  },
  {
   "cell_type": "code",
   "execution_count": null,
   "metadata": {},
   "outputs": [],
   "source": []
  },
  {
   "cell_type": "code",
   "execution_count": null,
   "metadata": {},
   "outputs": [],
   "source": []
  },
  {
   "cell_type": "code",
   "execution_count": null,
   "metadata": {},
   "outputs": [],
   "source": []
  },
  {
   "cell_type": "code",
   "execution_count": null,
   "metadata": {},
   "outputs": [],
   "source": []
  },
  {
   "cell_type": "code",
   "execution_count": null,
   "metadata": {},
   "outputs": [],
   "source": []
  },
  {
   "cell_type": "code",
   "execution_count": null,
   "metadata": {},
   "outputs": [],
   "source": []
  },
  {
   "cell_type": "code",
   "execution_count": null,
   "metadata": {},
   "outputs": [],
   "source": []
  },
  {
   "cell_type": "code",
   "execution_count": null,
   "metadata": {},
   "outputs": [],
   "source": []
  },
  {
   "cell_type": "code",
   "execution_count": null,
   "metadata": {},
   "outputs": [],
   "source": []
  },
  {
   "cell_type": "code",
   "execution_count": null,
   "metadata": {},
   "outputs": [],
   "source": []
  },
  {
   "cell_type": "code",
   "execution_count": null,
   "metadata": {},
   "outputs": [],
   "source": []
  },
  {
   "cell_type": "code",
   "execution_count": null,
   "metadata": {},
   "outputs": [],
   "source": []
  },
  {
   "cell_type": "code",
   "execution_count": null,
   "metadata": {},
   "outputs": [],
   "source": []
  },
  {
   "cell_type": "code",
   "execution_count": null,
   "metadata": {},
   "outputs": [],
   "source": []
  },
  {
   "cell_type": "code",
   "execution_count": null,
   "metadata": {},
   "outputs": [],
   "source": []
  },
  {
   "cell_type": "code",
   "execution_count": null,
   "metadata": {},
   "outputs": [],
   "source": []
  },
  {
   "cell_type": "code",
   "execution_count": null,
   "metadata": {},
   "outputs": [],
   "source": []
  },
  {
   "cell_type": "code",
   "execution_count": null,
   "metadata": {},
   "outputs": [],
   "source": []
  },
  {
   "cell_type": "code",
   "execution_count": null,
   "metadata": {},
   "outputs": [],
   "source": []
  },
  {
   "cell_type": "code",
   "execution_count": null,
   "metadata": {},
   "outputs": [],
   "source": []
  },
  {
   "cell_type": "code",
   "execution_count": null,
   "metadata": {},
   "outputs": [],
   "source": []
  },
  {
   "cell_type": "code",
   "execution_count": null,
   "metadata": {},
   "outputs": [],
   "source": []
  },
  {
   "cell_type": "code",
   "execution_count": null,
   "metadata": {},
   "outputs": [],
   "source": []
  },
  {
   "cell_type": "code",
   "execution_count": null,
   "metadata": {},
   "outputs": [],
   "source": []
  },
  {
   "cell_type": "code",
   "execution_count": null,
   "metadata": {},
   "outputs": [],
   "source": []
  },
  {
   "cell_type": "code",
   "execution_count": null,
   "metadata": {},
   "outputs": [],
   "source": []
  },
  {
   "cell_type": "code",
   "execution_count": null,
   "metadata": {},
   "outputs": [],
   "source": []
  },
  {
   "cell_type": "code",
   "execution_count": null,
   "metadata": {},
   "outputs": [],
   "source": []
  },
  {
   "cell_type": "code",
   "execution_count": null,
   "metadata": {},
   "outputs": [],
   "source": []
  },
  {
   "cell_type": "code",
   "execution_count": null,
   "metadata": {},
   "outputs": [],
   "source": []
  },
  {
   "cell_type": "code",
   "execution_count": null,
   "metadata": {},
   "outputs": [],
   "source": []
  },
  {
   "cell_type": "code",
   "execution_count": null,
   "metadata": {},
   "outputs": [],
   "source": []
  },
  {
   "cell_type": "code",
   "execution_count": null,
   "metadata": {},
   "outputs": [],
   "source": []
  },
  {
   "cell_type": "code",
   "execution_count": null,
   "metadata": {},
   "outputs": [],
   "source": []
  },
  {
   "cell_type": "code",
   "execution_count": null,
   "metadata": {},
   "outputs": [],
   "source": []
  },
  {
   "cell_type": "code",
   "execution_count": null,
   "metadata": {},
   "outputs": [],
   "source": []
  },
  {
   "cell_type": "code",
   "execution_count": null,
   "metadata": {},
   "outputs": [],
   "source": []
  },
  {
   "cell_type": "code",
   "execution_count": null,
   "metadata": {},
   "outputs": [],
   "source": []
  },
  {
   "cell_type": "code",
   "execution_count": null,
   "metadata": {},
   "outputs": [],
   "source": []
  },
  {
   "cell_type": "code",
   "execution_count": null,
   "metadata": {},
   "outputs": [],
   "source": []
  },
  {
   "cell_type": "code",
   "execution_count": null,
   "metadata": {},
   "outputs": [],
   "source": []
  },
  {
   "cell_type": "code",
   "execution_count": null,
   "metadata": {},
   "outputs": [],
   "source": []
  },
  {
   "cell_type": "code",
   "execution_count": null,
   "metadata": {},
   "outputs": [],
   "source": []
  },
  {
   "cell_type": "code",
   "execution_count": null,
   "metadata": {},
   "outputs": [],
   "source": []
  },
  {
   "cell_type": "code",
   "execution_count": null,
   "metadata": {},
   "outputs": [],
   "source": []
  },
  {
   "cell_type": "code",
   "execution_count": null,
   "metadata": {},
   "outputs": [],
   "source": []
  },
  {
   "cell_type": "code",
   "execution_count": null,
   "metadata": {},
   "outputs": [],
   "source": []
  },
  {
   "cell_type": "code",
   "execution_count": null,
   "metadata": {},
   "outputs": [],
   "source": []
  },
  {
   "cell_type": "code",
   "execution_count": null,
   "metadata": {},
   "outputs": [],
   "source": []
  },
  {
   "cell_type": "code",
   "execution_count": null,
   "metadata": {},
   "outputs": [],
   "source": []
  },
  {
   "cell_type": "code",
   "execution_count": null,
   "metadata": {},
   "outputs": [],
   "source": []
  },
  {
   "cell_type": "code",
   "execution_count": null,
   "metadata": {},
   "outputs": [],
   "source": []
  },
  {
   "cell_type": "code",
   "execution_count": null,
   "metadata": {},
   "outputs": [],
   "source": []
  },
  {
   "cell_type": "code",
   "execution_count": null,
   "metadata": {},
   "outputs": [],
   "source": []
  },
  {
   "cell_type": "code",
   "execution_count": null,
   "metadata": {},
   "outputs": [],
   "source": []
  },
  {
   "cell_type": "code",
   "execution_count": null,
   "metadata": {},
   "outputs": [],
   "source": []
  },
  {
   "cell_type": "code",
   "execution_count": null,
   "metadata": {},
   "outputs": [],
   "source": []
  },
  {
   "cell_type": "code",
   "execution_count": null,
   "metadata": {},
   "outputs": [],
   "source": []
  },
  {
   "cell_type": "code",
   "execution_count": null,
   "metadata": {},
   "outputs": [],
   "source": []
  },
  {
   "cell_type": "code",
   "execution_count": null,
   "metadata": {},
   "outputs": [],
   "source": []
  },
  {
   "cell_type": "code",
   "execution_count": null,
   "metadata": {},
   "outputs": [],
   "source": []
  },
  {
   "cell_type": "code",
   "execution_count": null,
   "metadata": {},
   "outputs": [],
   "source": []
  },
  {
   "cell_type": "code",
   "execution_count": null,
   "metadata": {},
   "outputs": [],
   "source": []
  },
  {
   "cell_type": "code",
   "execution_count": null,
   "metadata": {},
   "outputs": [],
   "source": []
  },
  {
   "cell_type": "code",
   "execution_count": null,
   "metadata": {},
   "outputs": [],
   "source": []
  },
  {
   "cell_type": "code",
   "execution_count": null,
   "metadata": {},
   "outputs": [],
   "source": []
  },
  {
   "cell_type": "code",
   "execution_count": null,
   "metadata": {},
   "outputs": [],
   "source": []
  },
  {
   "cell_type": "code",
   "execution_count": null,
   "metadata": {},
   "outputs": [],
   "source": []
  },
  {
   "cell_type": "code",
   "execution_count": null,
   "metadata": {},
   "outputs": [],
   "source": []
  },
  {
   "cell_type": "code",
   "execution_count": null,
   "metadata": {},
   "outputs": [],
   "source": []
  },
  {
   "cell_type": "code",
   "execution_count": null,
   "metadata": {},
   "outputs": [],
   "source": []
  },
  {
   "cell_type": "code",
   "execution_count": null,
   "metadata": {},
   "outputs": [],
   "source": []
  },
  {
   "cell_type": "code",
   "execution_count": null,
   "metadata": {},
   "outputs": [],
   "source": []
  },
  {
   "cell_type": "code",
   "execution_count": null,
   "metadata": {},
   "outputs": [],
   "source": []
  },
  {
   "cell_type": "code",
   "execution_count": null,
   "metadata": {},
   "outputs": [],
   "source": []
  },
  {
   "cell_type": "code",
   "execution_count": null,
   "metadata": {},
   "outputs": [],
   "source": []
  },
  {
   "cell_type": "code",
   "execution_count": null,
   "metadata": {},
   "outputs": [],
   "source": []
  },
  {
   "cell_type": "code",
   "execution_count": null,
   "metadata": {},
   "outputs": [],
   "source": []
  },
  {
   "cell_type": "code",
   "execution_count": null,
   "metadata": {},
   "outputs": [],
   "source": []
  },
  {
   "cell_type": "code",
   "execution_count": null,
   "metadata": {},
   "outputs": [],
   "source": []
  },
  {
   "cell_type": "code",
   "execution_count": null,
   "metadata": {},
   "outputs": [],
   "source": []
  },
  {
   "cell_type": "code",
   "execution_count": null,
   "metadata": {},
   "outputs": [],
   "source": []
  },
  {
   "cell_type": "code",
   "execution_count": null,
   "metadata": {},
   "outputs": [],
   "source": []
  },
  {
   "cell_type": "code",
   "execution_count": null,
   "metadata": {},
   "outputs": [],
   "source": []
  },
  {
   "cell_type": "code",
   "execution_count": null,
   "metadata": {},
   "outputs": [],
   "source": []
  },
  {
   "cell_type": "code",
   "execution_count": null,
   "metadata": {},
   "outputs": [],
   "source": []
  },
  {
   "cell_type": "code",
   "execution_count": null,
   "metadata": {},
   "outputs": [],
   "source": []
  },
  {
   "cell_type": "code",
   "execution_count": null,
   "metadata": {},
   "outputs": [],
   "source": []
  },
  {
   "cell_type": "code",
   "execution_count": null,
   "metadata": {},
   "outputs": [],
   "source": []
  },
  {
   "cell_type": "code",
   "execution_count": null,
   "metadata": {},
   "outputs": [],
   "source": []
  },
  {
   "cell_type": "code",
   "execution_count": null,
   "metadata": {},
   "outputs": [],
   "source": []
  },
  {
   "cell_type": "code",
   "execution_count": null,
   "metadata": {},
   "outputs": [],
   "source": []
  },
  {
   "cell_type": "code",
   "execution_count": null,
   "metadata": {},
   "outputs": [],
   "source": []
  },
  {
   "cell_type": "code",
   "execution_count": null,
   "metadata": {},
   "outputs": [],
   "source": []
  },
  {
   "cell_type": "code",
   "execution_count": null,
   "metadata": {},
   "outputs": [],
   "source": []
  },
  {
   "cell_type": "code",
   "execution_count": null,
   "metadata": {},
   "outputs": [],
   "source": []
  },
  {
   "cell_type": "code",
   "execution_count": null,
   "metadata": {},
   "outputs": [],
   "source": []
  },
  {
   "cell_type": "code",
   "execution_count": null,
   "metadata": {},
   "outputs": [],
   "source": []
  },
  {
   "cell_type": "code",
   "execution_count": null,
   "metadata": {},
   "outputs": [],
   "source": []
  },
  {
   "cell_type": "code",
   "execution_count": null,
   "metadata": {},
   "outputs": [],
   "source": []
  },
  {
   "cell_type": "code",
   "execution_count": null,
   "metadata": {},
   "outputs": [],
   "source": []
  },
  {
   "cell_type": "code",
   "execution_count": null,
   "metadata": {},
   "outputs": [],
   "source": []
  },
  {
   "cell_type": "code",
   "execution_count": null,
   "metadata": {},
   "outputs": [],
   "source": []
  },
  {
   "cell_type": "code",
   "execution_count": null,
   "metadata": {},
   "outputs": [],
   "source": []
  },
  {
   "cell_type": "code",
   "execution_count": null,
   "metadata": {},
   "outputs": [],
   "source": []
  },
  {
   "cell_type": "code",
   "execution_count": null,
   "metadata": {},
   "outputs": [],
   "source": []
  },
  {
   "cell_type": "code",
   "execution_count": null,
   "metadata": {},
   "outputs": [],
   "source": []
  },
  {
   "cell_type": "code",
   "execution_count": null,
   "metadata": {},
   "outputs": [],
   "source": []
  },
  {
   "cell_type": "code",
   "execution_count": null,
   "metadata": {},
   "outputs": [],
   "source": []
  },
  {
   "cell_type": "code",
   "execution_count": null,
   "metadata": {},
   "outputs": [],
   "source": []
  },
  {
   "cell_type": "code",
   "execution_count": null,
   "metadata": {},
   "outputs": [],
   "source": []
  },
  {
   "cell_type": "code",
   "execution_count": null,
   "metadata": {},
   "outputs": [],
   "source": []
  },
  {
   "cell_type": "code",
   "execution_count": null,
   "metadata": {},
   "outputs": [],
   "source": []
  },
  {
   "cell_type": "code",
   "execution_count": null,
   "metadata": {},
   "outputs": [],
   "source": []
  },
  {
   "cell_type": "code",
   "execution_count": null,
   "metadata": {},
   "outputs": [],
   "source": []
  },
  {
   "cell_type": "code",
   "execution_count": null,
   "metadata": {},
   "outputs": [],
   "source": []
  },
  {
   "cell_type": "code",
   "execution_count": null,
   "metadata": {},
   "outputs": [],
   "source": []
  },
  {
   "cell_type": "code",
   "execution_count": null,
   "metadata": {},
   "outputs": [],
   "source": []
  },
  {
   "cell_type": "code",
   "execution_count": null,
   "metadata": {},
   "outputs": [],
   "source": []
  },
  {
   "cell_type": "code",
   "execution_count": null,
   "metadata": {},
   "outputs": [],
   "source": []
  },
  {
   "cell_type": "code",
   "execution_count": null,
   "metadata": {},
   "outputs": [],
   "source": []
  },
  {
   "cell_type": "code",
   "execution_count": null,
   "metadata": {},
   "outputs": [],
   "source": []
  },
  {
   "cell_type": "code",
   "execution_count": null,
   "metadata": {},
   "outputs": [],
   "source": []
  },
  {
   "cell_type": "code",
   "execution_count": null,
   "metadata": {},
   "outputs": [],
   "source": []
  },
  {
   "cell_type": "code",
   "execution_count": null,
   "metadata": {},
   "outputs": [],
   "source": []
  },
  {
   "cell_type": "code",
   "execution_count": null,
   "metadata": {},
   "outputs": [],
   "source": []
  },
  {
   "cell_type": "code",
   "execution_count": null,
   "metadata": {},
   "outputs": [],
   "source": []
  },
  {
   "cell_type": "code",
   "execution_count": null,
   "metadata": {},
   "outputs": [],
   "source": []
  },
  {
   "cell_type": "code",
   "execution_count": null,
   "metadata": {},
   "outputs": [],
   "source": []
  },
  {
   "cell_type": "code",
   "execution_count": null,
   "metadata": {},
   "outputs": [],
   "source": []
  },
  {
   "cell_type": "code",
   "execution_count": null,
   "metadata": {},
   "outputs": [],
   "source": []
  },
  {
   "cell_type": "code",
   "execution_count": null,
   "metadata": {},
   "outputs": [],
   "source": []
  },
  {
   "cell_type": "code",
   "execution_count": null,
   "metadata": {},
   "outputs": [],
   "source": []
  },
  {
   "cell_type": "code",
   "execution_count": null,
   "metadata": {},
   "outputs": [],
   "source": []
  },
  {
   "cell_type": "code",
   "execution_count": null,
   "metadata": {},
   "outputs": [],
   "source": []
  },
  {
   "cell_type": "code",
   "execution_count": null,
   "metadata": {},
   "outputs": [],
   "source": []
  },
  {
   "cell_type": "code",
   "execution_count": null,
   "metadata": {},
   "outputs": [],
   "source": []
  },
  {
   "cell_type": "code",
   "execution_count": null,
   "metadata": {},
   "outputs": [],
   "source": []
  },
  {
   "cell_type": "code",
   "execution_count": null,
   "metadata": {},
   "outputs": [],
   "source": []
  },
  {
   "cell_type": "code",
   "execution_count": null,
   "metadata": {},
   "outputs": [],
   "source": []
  },
  {
   "cell_type": "code",
   "execution_count": null,
   "metadata": {},
   "outputs": [],
   "source": []
  },
  {
   "cell_type": "code",
   "execution_count": null,
   "metadata": {},
   "outputs": [],
   "source": []
  },
  {
   "cell_type": "code",
   "execution_count": null,
   "metadata": {},
   "outputs": [],
   "source": []
  },
  {
   "cell_type": "code",
   "execution_count": null,
   "metadata": {},
   "outputs": [],
   "source": []
  },
  {
   "cell_type": "code",
   "execution_count": null,
   "metadata": {},
   "outputs": [],
   "source": []
  },
  {
   "cell_type": "code",
   "execution_count": null,
   "metadata": {},
   "outputs": [],
   "source": []
  },
  {
   "cell_type": "code",
   "execution_count": null,
   "metadata": {},
   "outputs": [],
   "source": []
  },
  {
   "cell_type": "code",
   "execution_count": null,
   "metadata": {},
   "outputs": [],
   "source": []
  },
  {
   "cell_type": "code",
   "execution_count": null,
   "metadata": {},
   "outputs": [],
   "source": []
  },
  {
   "cell_type": "code",
   "execution_count": null,
   "metadata": {},
   "outputs": [],
   "source": []
  },
  {
   "cell_type": "code",
   "execution_count": null,
   "metadata": {},
   "outputs": [],
   "source": []
  },
  {
   "cell_type": "code",
   "execution_count": null,
   "metadata": {},
   "outputs": [],
   "source": []
  },
  {
   "cell_type": "code",
   "execution_count": null,
   "metadata": {},
   "outputs": [],
   "source": []
  },
  {
   "cell_type": "code",
   "execution_count": null,
   "metadata": {},
   "outputs": [],
   "source": []
  },
  {
   "cell_type": "code",
   "execution_count": null,
   "metadata": {},
   "outputs": [],
   "source": []
  },
  {
   "cell_type": "code",
   "execution_count": null,
   "metadata": {},
   "outputs": [],
   "source": []
  },
  {
   "cell_type": "code",
   "execution_count": null,
   "metadata": {},
   "outputs": [],
   "source": []
  },
  {
   "cell_type": "code",
   "execution_count": null,
   "metadata": {},
   "outputs": [],
   "source": []
  },
  {
   "cell_type": "code",
   "execution_count": null,
   "metadata": {},
   "outputs": [],
   "source": []
  },
  {
   "cell_type": "code",
   "execution_count": null,
   "metadata": {},
   "outputs": [],
   "source": []
  },
  {
   "cell_type": "code",
   "execution_count": null,
   "metadata": {},
   "outputs": [],
   "source": []
  },
  {
   "cell_type": "code",
   "execution_count": null,
   "metadata": {},
   "outputs": [],
   "source": []
  },
  {
   "cell_type": "code",
   "execution_count": null,
   "metadata": {},
   "outputs": [],
   "source": []
  },
  {
   "cell_type": "code",
   "execution_count": null,
   "metadata": {},
   "outputs": [],
   "source": []
  },
  {
   "cell_type": "code",
   "execution_count": null,
   "metadata": {},
   "outputs": [],
   "source": []
  },
  {
   "cell_type": "code",
   "execution_count": null,
   "metadata": {},
   "outputs": [],
   "source": []
  },
  {
   "cell_type": "code",
   "execution_count": null,
   "metadata": {},
   "outputs": [],
   "source": []
  },
  {
   "cell_type": "code",
   "execution_count": null,
   "metadata": {},
   "outputs": [],
   "source": []
  },
  {
   "cell_type": "code",
   "execution_count": null,
   "metadata": {},
   "outputs": [],
   "source": []
  },
  {
   "cell_type": "code",
   "execution_count": null,
   "metadata": {},
   "outputs": [],
   "source": []
  },
  {
   "cell_type": "code",
   "execution_count": null,
   "metadata": {},
   "outputs": [],
   "source": []
  },
  {
   "cell_type": "code",
   "execution_count": null,
   "metadata": {},
   "outputs": [],
   "source": []
  },
  {
   "cell_type": "code",
   "execution_count": null,
   "metadata": {},
   "outputs": [],
   "source": []
  },
  {
   "cell_type": "code",
   "execution_count": null,
   "metadata": {},
   "outputs": [],
   "source": []
  },
  {
   "cell_type": "code",
   "execution_count": null,
   "metadata": {},
   "outputs": [],
   "source": []
  },
  {
   "cell_type": "code",
   "execution_count": null,
   "metadata": {},
   "outputs": [],
   "source": []
  },
  {
   "cell_type": "code",
   "execution_count": null,
   "metadata": {},
   "outputs": [],
   "source": []
  },
  {
   "cell_type": "code",
   "execution_count": null,
   "metadata": {},
   "outputs": [],
   "source": []
  },
  {
   "cell_type": "code",
   "execution_count": null,
   "metadata": {},
   "outputs": [],
   "source": []
  },
  {
   "cell_type": "code",
   "execution_count": null,
   "metadata": {},
   "outputs": [],
   "source": []
  },
  {
   "cell_type": "code",
   "execution_count": null,
   "metadata": {},
   "outputs": [],
   "source": []
  },
  {
   "cell_type": "code",
   "execution_count": null,
   "metadata": {},
   "outputs": [],
   "source": []
  },
  {
   "cell_type": "code",
   "execution_count": null,
   "metadata": {},
   "outputs": [],
   "source": []
  },
  {
   "cell_type": "code",
   "execution_count": null,
   "metadata": {},
   "outputs": [],
   "source": []
  },
  {
   "cell_type": "code",
   "execution_count": null,
   "metadata": {},
   "outputs": [],
   "source": []
  },
  {
   "cell_type": "code",
   "execution_count": null,
   "metadata": {},
   "outputs": [],
   "source": []
  },
  {
   "cell_type": "code",
   "execution_count": null,
   "metadata": {},
   "outputs": [],
   "source": []
  },
  {
   "cell_type": "code",
   "execution_count": null,
   "metadata": {},
   "outputs": [],
   "source": []
  },
  {
   "cell_type": "code",
   "execution_count": null,
   "metadata": {},
   "outputs": [],
   "source": []
  },
  {
   "cell_type": "code",
   "execution_count": null,
   "metadata": {},
   "outputs": [],
   "source": []
  },
  {
   "cell_type": "code",
   "execution_count": null,
   "metadata": {},
   "outputs": [],
   "source": []
  },
  {
   "cell_type": "code",
   "execution_count": null,
   "metadata": {},
   "outputs": [],
   "source": []
  },
  {
   "cell_type": "code",
   "execution_count": null,
   "metadata": {},
   "outputs": [],
   "source": []
  },
  {
   "cell_type": "code",
   "execution_count": null,
   "metadata": {},
   "outputs": [],
   "source": []
  },
  {
   "cell_type": "code",
   "execution_count": null,
   "metadata": {},
   "outputs": [],
   "source": []
  },
  {
   "cell_type": "code",
   "execution_count": null,
   "metadata": {},
   "outputs": [],
   "source": []
  },
  {
   "cell_type": "code",
   "execution_count": null,
   "metadata": {},
   "outputs": [],
   "source": []
  },
  {
   "cell_type": "code",
   "execution_count": null,
   "metadata": {},
   "outputs": [],
   "source": []
  },
  {
   "cell_type": "code",
   "execution_count": null,
   "metadata": {},
   "outputs": [],
   "source": []
  },
  {
   "cell_type": "code",
   "execution_count": null,
   "metadata": {},
   "outputs": [],
   "source": []
  },
  {
   "cell_type": "code",
   "execution_count": null,
   "metadata": {},
   "outputs": [],
   "source": []
  },
  {
   "cell_type": "code",
   "execution_count": null,
   "metadata": {},
   "outputs": [],
   "source": []
  },
  {
   "cell_type": "code",
   "execution_count": null,
   "metadata": {},
   "outputs": [],
   "source": []
  },
  {
   "cell_type": "code",
   "execution_count": null,
   "metadata": {},
   "outputs": [],
   "source": []
  },
  {
   "cell_type": "code",
   "execution_count": null,
   "metadata": {},
   "outputs": [],
   "source": []
  },
  {
   "cell_type": "code",
   "execution_count": null,
   "metadata": {},
   "outputs": [],
   "source": []
  },
  {
   "cell_type": "code",
   "execution_count": null,
   "metadata": {},
   "outputs": [],
   "source": []
  },
  {
   "cell_type": "code",
   "execution_count": null,
   "metadata": {},
   "outputs": [],
   "source": []
  },
  {
   "cell_type": "code",
   "execution_count": null,
   "metadata": {},
   "outputs": [],
   "source": []
  },
  {
   "cell_type": "code",
   "execution_count": null,
   "metadata": {},
   "outputs": [],
   "source": []
  },
  {
   "cell_type": "code",
   "execution_count": null,
   "metadata": {},
   "outputs": [],
   "source": []
  },
  {
   "cell_type": "code",
   "execution_count": null,
   "metadata": {},
   "outputs": [],
   "source": []
  },
  {
   "cell_type": "code",
   "execution_count": null,
   "metadata": {},
   "outputs": [],
   "source": []
  },
  {
   "cell_type": "code",
   "execution_count": null,
   "metadata": {},
   "outputs": [],
   "source": []
  },
  {
   "cell_type": "code",
   "execution_count": null,
   "metadata": {},
   "outputs": [],
   "source": []
  },
  {
   "cell_type": "code",
   "execution_count": null,
   "metadata": {},
   "outputs": [],
   "source": []
  },
  {
   "cell_type": "code",
   "execution_count": null,
   "metadata": {},
   "outputs": [],
   "source": []
  },
  {
   "cell_type": "code",
   "execution_count": null,
   "metadata": {},
   "outputs": [],
   "source": []
  },
  {
   "cell_type": "code",
   "execution_count": null,
   "metadata": {},
   "outputs": [],
   "source": []
  },
  {
   "cell_type": "code",
   "execution_count": null,
   "metadata": {},
   "outputs": [],
   "source": []
  },
  {
   "cell_type": "code",
   "execution_count": null,
   "metadata": {},
   "outputs": [],
   "source": []
  },
  {
   "cell_type": "code",
   "execution_count": null,
   "metadata": {},
   "outputs": [],
   "source": []
  },
  {
   "cell_type": "code",
   "execution_count": null,
   "metadata": {},
   "outputs": [],
   "source": []
  },
  {
   "cell_type": "code",
   "execution_count": null,
   "metadata": {},
   "outputs": [],
   "source": []
  },
  {
   "cell_type": "code",
   "execution_count": null,
   "metadata": {},
   "outputs": [],
   "source": []
  },
  {
   "cell_type": "code",
   "execution_count": null,
   "metadata": {},
   "outputs": [],
   "source": []
  },
  {
   "cell_type": "code",
   "execution_count": null,
   "metadata": {},
   "outputs": [],
   "source": []
  },
  {
   "cell_type": "code",
   "execution_count": null,
   "metadata": {},
   "outputs": [],
   "source": []
  },
  {
   "cell_type": "code",
   "execution_count": null,
   "metadata": {},
   "outputs": [],
   "source": []
  },
  {
   "cell_type": "code",
   "execution_count": null,
   "metadata": {},
   "outputs": [],
   "source": []
  },
  {
   "cell_type": "code",
   "execution_count": null,
   "metadata": {},
   "outputs": [],
   "source": []
  },
  {
   "cell_type": "code",
   "execution_count": null,
   "metadata": {},
   "outputs": [],
   "source": []
  },
  {
   "cell_type": "code",
   "execution_count": null,
   "metadata": {},
   "outputs": [],
   "source": []
  },
  {
   "cell_type": "code",
   "execution_count": null,
   "metadata": {},
   "outputs": [],
   "source": []
  },
  {
   "cell_type": "code",
   "execution_count": null,
   "metadata": {},
   "outputs": [],
   "source": []
  },
  {
   "cell_type": "code",
   "execution_count": null,
   "metadata": {},
   "outputs": [],
   "source": []
  },
  {
   "cell_type": "code",
   "execution_count": null,
   "metadata": {},
   "outputs": [],
   "source": []
  },
  {
   "cell_type": "code",
   "execution_count": null,
   "metadata": {},
   "outputs": [],
   "source": []
  },
  {
   "cell_type": "code",
   "execution_count": null,
   "metadata": {},
   "outputs": [],
   "source": []
  },
  {
   "cell_type": "code",
   "execution_count": null,
   "metadata": {},
   "outputs": [],
   "source": []
  },
  {
   "cell_type": "code",
   "execution_count": null,
   "metadata": {},
   "outputs": [],
   "source": []
  },
  {
   "cell_type": "code",
   "execution_count": null,
   "metadata": {},
   "outputs": [],
   "source": []
  },
  {
   "cell_type": "code",
   "execution_count": null,
   "metadata": {},
   "outputs": [],
   "source": []
  },
  {
   "cell_type": "code",
   "execution_count": null,
   "metadata": {},
   "outputs": [],
   "source": []
  },
  {
   "cell_type": "code",
   "execution_count": null,
   "metadata": {},
   "outputs": [],
   "source": []
  },
  {
   "cell_type": "code",
   "execution_count": null,
   "metadata": {},
   "outputs": [],
   "source": []
  },
  {
   "cell_type": "code",
   "execution_count": null,
   "metadata": {},
   "outputs": [],
   "source": []
  },
  {
   "cell_type": "code",
   "execution_count": null,
   "metadata": {},
   "outputs": [],
   "source": []
  },
  {
   "cell_type": "code",
   "execution_count": null,
   "metadata": {},
   "outputs": [],
   "source": []
  },
  {
   "cell_type": "code",
   "execution_count": null,
   "metadata": {},
   "outputs": [],
   "source": []
  },
  {
   "cell_type": "code",
   "execution_count": null,
   "metadata": {},
   "outputs": [],
   "source": []
  },
  {
   "cell_type": "code",
   "execution_count": null,
   "metadata": {},
   "outputs": [],
   "source": []
  },
  {
   "cell_type": "code",
   "execution_count": null,
   "metadata": {},
   "outputs": [],
   "source": []
  },
  {
   "cell_type": "code",
   "execution_count": null,
   "metadata": {},
   "outputs": [],
   "source": []
  },
  {
   "cell_type": "code",
   "execution_count": null,
   "metadata": {},
   "outputs": [],
   "source": []
  },
  {
   "cell_type": "code",
   "execution_count": null,
   "metadata": {},
   "outputs": [],
   "source": []
  },
  {
   "cell_type": "code",
   "execution_count": null,
   "metadata": {},
   "outputs": [],
   "source": []
  },
  {
   "cell_type": "code",
   "execution_count": null,
   "metadata": {},
   "outputs": [],
   "source": []
  },
  {
   "cell_type": "code",
   "execution_count": null,
   "metadata": {},
   "outputs": [],
   "source": []
  },
  {
   "cell_type": "code",
   "execution_count": null,
   "metadata": {},
   "outputs": [],
   "source": []
  },
  {
   "cell_type": "code",
   "execution_count": null,
   "metadata": {},
   "outputs": [],
   "source": []
  },
  {
   "cell_type": "code",
   "execution_count": null,
   "metadata": {},
   "outputs": [],
   "source": []
  },
  {
   "cell_type": "code",
   "execution_count": null,
   "metadata": {},
   "outputs": [],
   "source": []
  },
  {
   "cell_type": "code",
   "execution_count": null,
   "metadata": {},
   "outputs": [],
   "source": []
  },
  {
   "cell_type": "code",
   "execution_count": null,
   "metadata": {},
   "outputs": [],
   "source": []
  },
  {
   "cell_type": "code",
   "execution_count": null,
   "metadata": {},
   "outputs": [],
   "source": []
  },
  {
   "cell_type": "code",
   "execution_count": null,
   "metadata": {},
   "outputs": [],
   "source": []
  },
  {
   "cell_type": "code",
   "execution_count": null,
   "metadata": {},
   "outputs": [],
   "source": []
  },
  {
   "cell_type": "code",
   "execution_count": null,
   "metadata": {},
   "outputs": [],
   "source": []
  },
  {
   "cell_type": "code",
   "execution_count": null,
   "metadata": {},
   "outputs": [],
   "source": []
  },
  {
   "cell_type": "code",
   "execution_count": null,
   "metadata": {},
   "outputs": [],
   "source": []
  },
  {
   "cell_type": "code",
   "execution_count": null,
   "metadata": {},
   "outputs": [],
   "source": []
  },
  {
   "cell_type": "code",
   "execution_count": null,
   "metadata": {},
   "outputs": [],
   "source": []
  },
  {
   "cell_type": "code",
   "execution_count": null,
   "metadata": {},
   "outputs": [],
   "source": []
  },
  {
   "cell_type": "code",
   "execution_count": null,
   "metadata": {},
   "outputs": [],
   "source": []
  },
  {
   "cell_type": "code",
   "execution_count": null,
   "metadata": {},
   "outputs": [],
   "source": []
  },
  {
   "cell_type": "code",
   "execution_count": null,
   "metadata": {},
   "outputs": [],
   "source": []
  },
  {
   "cell_type": "code",
   "execution_count": null,
   "metadata": {},
   "outputs": [],
   "source": []
  },
  {
   "cell_type": "code",
   "execution_count": null,
   "metadata": {},
   "outputs": [],
   "source": []
  },
  {
   "cell_type": "code",
   "execution_count": null,
   "metadata": {},
   "outputs": [],
   "source": []
  },
  {
   "cell_type": "code",
   "execution_count": null,
   "metadata": {},
   "outputs": [],
   "source": []
  },
  {
   "cell_type": "code",
   "execution_count": null,
   "metadata": {},
   "outputs": [],
   "source": []
  },
  {
   "cell_type": "code",
   "execution_count": null,
   "metadata": {},
   "outputs": [],
   "source": []
  },
  {
   "cell_type": "code",
   "execution_count": null,
   "metadata": {},
   "outputs": [],
   "source": []
  },
  {
   "cell_type": "code",
   "execution_count": null,
   "metadata": {},
   "outputs": [],
   "source": []
  },
  {
   "cell_type": "code",
   "execution_count": null,
   "metadata": {},
   "outputs": [],
   "source": []
  },
  {
   "cell_type": "code",
   "execution_count": null,
   "metadata": {},
   "outputs": [],
   "source": []
  },
  {
   "cell_type": "code",
   "execution_count": null,
   "metadata": {},
   "outputs": [],
   "source": []
  },
  {
   "cell_type": "code",
   "execution_count": null,
   "metadata": {},
   "outputs": [],
   "source": []
  },
  {
   "cell_type": "code",
   "execution_count": null,
   "metadata": {},
   "outputs": [],
   "source": []
  },
  {
   "cell_type": "code",
   "execution_count": null,
   "metadata": {},
   "outputs": [],
   "source": []
  },
  {
   "cell_type": "code",
   "execution_count": null,
   "metadata": {},
   "outputs": [],
   "source": []
  },
  {
   "cell_type": "code",
   "execution_count": null,
   "metadata": {},
   "outputs": [],
   "source": []
  },
  {
   "cell_type": "code",
   "execution_count": null,
   "metadata": {},
   "outputs": [],
   "source": []
  },
  {
   "cell_type": "code",
   "execution_count": null,
   "metadata": {},
   "outputs": [],
   "source": []
  },
  {
   "cell_type": "code",
   "execution_count": null,
   "metadata": {},
   "outputs": [],
   "source": []
  },
  {
   "cell_type": "code",
   "execution_count": null,
   "metadata": {},
   "outputs": [],
   "source": []
  },
  {
   "cell_type": "code",
   "execution_count": null,
   "metadata": {},
   "outputs": [],
   "source": []
  },
  {
   "cell_type": "code",
   "execution_count": null,
   "metadata": {},
   "outputs": [],
   "source": []
  },
  {
   "cell_type": "code",
   "execution_count": null,
   "metadata": {},
   "outputs": [],
   "source": []
  },
  {
   "cell_type": "code",
   "execution_count": null,
   "metadata": {},
   "outputs": [],
   "source": []
  },
  {
   "cell_type": "code",
   "execution_count": null,
   "metadata": {},
   "outputs": [],
   "source": []
  },
  {
   "cell_type": "code",
   "execution_count": null,
   "metadata": {},
   "outputs": [],
   "source": []
  },
  {
   "cell_type": "code",
   "execution_count": null,
   "metadata": {},
   "outputs": [],
   "source": []
  },
  {
   "cell_type": "code",
   "execution_count": null,
   "metadata": {},
   "outputs": [],
   "source": []
  },
  {
   "cell_type": "code",
   "execution_count": null,
   "metadata": {},
   "outputs": [],
   "source": []
  },
  {
   "cell_type": "code",
   "execution_count": null,
   "metadata": {},
   "outputs": [],
   "source": []
  },
  {
   "cell_type": "code",
   "execution_count": null,
   "metadata": {},
   "outputs": [],
   "source": []
  },
  {
   "cell_type": "code",
   "execution_count": null,
   "metadata": {},
   "outputs": [],
   "source": []
  },
  {
   "cell_type": "code",
   "execution_count": null,
   "metadata": {},
   "outputs": [],
   "source": []
  },
  {
   "cell_type": "code",
   "execution_count": null,
   "metadata": {},
   "outputs": [],
   "source": []
  },
  {
   "cell_type": "code",
   "execution_count": null,
   "metadata": {},
   "outputs": [],
   "source": []
  },
  {
   "cell_type": "code",
   "execution_count": null,
   "metadata": {},
   "outputs": [],
   "source": []
  },
  {
   "cell_type": "code",
   "execution_count": null,
   "metadata": {},
   "outputs": [],
   "source": []
  },
  {
   "cell_type": "code",
   "execution_count": null,
   "metadata": {},
   "outputs": [],
   "source": []
  },
  {
   "cell_type": "code",
   "execution_count": null,
   "metadata": {},
   "outputs": [],
   "source": []
  },
  {
   "cell_type": "code",
   "execution_count": null,
   "metadata": {},
   "outputs": [],
   "source": []
  },
  {
   "cell_type": "code",
   "execution_count": null,
   "metadata": {},
   "outputs": [],
   "source": []
  },
  {
   "cell_type": "code",
   "execution_count": null,
   "metadata": {},
   "outputs": [],
   "source": []
  },
  {
   "cell_type": "code",
   "execution_count": null,
   "metadata": {},
   "outputs": [],
   "source": []
  },
  {
   "cell_type": "code",
   "execution_count": null,
   "metadata": {},
   "outputs": [],
   "source": []
  },
  {
   "cell_type": "code",
   "execution_count": null,
   "metadata": {},
   "outputs": [],
   "source": []
  },
  {
   "cell_type": "code",
   "execution_count": null,
   "metadata": {},
   "outputs": [],
   "source": []
  },
  {
   "cell_type": "code",
   "execution_count": null,
   "metadata": {},
   "outputs": [],
   "source": []
  },
  {
   "cell_type": "code",
   "execution_count": null,
   "metadata": {},
   "outputs": [],
   "source": []
  },
  {
   "cell_type": "code",
   "execution_count": null,
   "metadata": {},
   "outputs": [],
   "source": []
  },
  {
   "cell_type": "code",
   "execution_count": null,
   "metadata": {},
   "outputs": [],
   "source": []
  },
  {
   "cell_type": "code",
   "execution_count": null,
   "metadata": {},
   "outputs": [],
   "source": []
  },
  {
   "cell_type": "code",
   "execution_count": null,
   "metadata": {},
   "outputs": [],
   "source": []
  },
  {
   "cell_type": "code",
   "execution_count": null,
   "metadata": {},
   "outputs": [],
   "source": []
  },
  {
   "cell_type": "code",
   "execution_count": null,
   "metadata": {},
   "outputs": [],
   "source": []
  },
  {
   "cell_type": "code",
   "execution_count": null,
   "metadata": {},
   "outputs": [],
   "source": []
  },
  {
   "cell_type": "code",
   "execution_count": null,
   "metadata": {},
   "outputs": [],
   "source": []
  },
  {
   "cell_type": "code",
   "execution_count": null,
   "metadata": {},
   "outputs": [],
   "source": []
  },
  {
   "cell_type": "code",
   "execution_count": null,
   "metadata": {},
   "outputs": [],
   "source": []
  },
  {
   "cell_type": "code",
   "execution_count": null,
   "metadata": {},
   "outputs": [],
   "source": []
  },
  {
   "cell_type": "code",
   "execution_count": null,
   "metadata": {},
   "outputs": [],
   "source": []
  },
  {
   "cell_type": "code",
   "execution_count": null,
   "metadata": {},
   "outputs": [],
   "source": []
  },
  {
   "cell_type": "code",
   "execution_count": null,
   "metadata": {},
   "outputs": [],
   "source": []
  },
  {
   "cell_type": "code",
   "execution_count": null,
   "metadata": {},
   "outputs": [],
   "source": []
  },
  {
   "cell_type": "code",
   "execution_count": null,
   "metadata": {},
   "outputs": [],
   "source": []
  },
  {
   "cell_type": "code",
   "execution_count": null,
   "metadata": {},
   "outputs": [],
   "source": []
  },
  {
   "cell_type": "code",
   "execution_count": null,
   "metadata": {},
   "outputs": [],
   "source": []
  },
  {
   "cell_type": "code",
   "execution_count": null,
   "metadata": {},
   "outputs": [],
   "source": []
  },
  {
   "cell_type": "code",
   "execution_count": null,
   "metadata": {},
   "outputs": [],
   "source": []
  },
  {
   "cell_type": "code",
   "execution_count": null,
   "metadata": {},
   "outputs": [],
   "source": []
  },
  {
   "cell_type": "code",
   "execution_count": null,
   "metadata": {},
   "outputs": [],
   "source": []
  },
  {
   "cell_type": "code",
   "execution_count": null,
   "metadata": {},
   "outputs": [],
   "source": []
  },
  {
   "cell_type": "code",
   "execution_count": null,
   "metadata": {},
   "outputs": [],
   "source": []
  },
  {
   "cell_type": "code",
   "execution_count": null,
   "metadata": {},
   "outputs": [],
   "source": []
  },
  {
   "cell_type": "code",
   "execution_count": null,
   "metadata": {},
   "outputs": [],
   "source": []
  },
  {
   "cell_type": "code",
   "execution_count": null,
   "metadata": {},
   "outputs": [],
   "source": []
  },
  {
   "cell_type": "code",
   "execution_count": null,
   "metadata": {},
   "outputs": [],
   "source": []
  },
  {
   "cell_type": "code",
   "execution_count": null,
   "metadata": {},
   "outputs": [],
   "source": []
  },
  {
   "cell_type": "code",
   "execution_count": null,
   "metadata": {},
   "outputs": [],
   "source": []
  },
  {
   "cell_type": "code",
   "execution_count": null,
   "metadata": {},
   "outputs": [],
   "source": []
  },
  {
   "cell_type": "code",
   "execution_count": null,
   "metadata": {},
   "outputs": [],
   "source": []
  },
  {
   "cell_type": "code",
   "execution_count": null,
   "metadata": {},
   "outputs": [],
   "source": []
  },
  {
   "cell_type": "code",
   "execution_count": null,
   "metadata": {},
   "outputs": [],
   "source": []
  },
  {
   "cell_type": "code",
   "execution_count": null,
   "metadata": {},
   "outputs": [],
   "source": []
  },
  {
   "cell_type": "code",
   "execution_count": null,
   "metadata": {},
   "outputs": [],
   "source": []
  },
  {
   "cell_type": "code",
   "execution_count": null,
   "metadata": {},
   "outputs": [],
   "source": []
  },
  {
   "cell_type": "code",
   "execution_count": null,
   "metadata": {},
   "outputs": [],
   "source": []
  },
  {
   "cell_type": "code",
   "execution_count": null,
   "metadata": {},
   "outputs": [],
   "source": []
  },
  {
   "cell_type": "code",
   "execution_count": null,
   "metadata": {},
   "outputs": [],
   "source": []
  },
  {
   "cell_type": "code",
   "execution_count": null,
   "metadata": {},
   "outputs": [],
   "source": []
  },
  {
   "cell_type": "code",
   "execution_count": null,
   "metadata": {},
   "outputs": [],
   "source": []
  },
  {
   "cell_type": "code",
   "execution_count": null,
   "metadata": {},
   "outputs": [],
   "source": []
  },
  {
   "cell_type": "code",
   "execution_count": null,
   "metadata": {},
   "outputs": [],
   "source": []
  },
  {
   "cell_type": "code",
   "execution_count": null,
   "metadata": {},
   "outputs": [],
   "source": []
  },
  {
   "cell_type": "code",
   "execution_count": null,
   "metadata": {},
   "outputs": [],
   "source": []
  },
  {
   "cell_type": "code",
   "execution_count": null,
   "metadata": {},
   "outputs": [],
   "source": []
  },
  {
   "cell_type": "code",
   "execution_count": null,
   "metadata": {},
   "outputs": [],
   "source": []
  },
  {
   "cell_type": "code",
   "execution_count": null,
   "metadata": {},
   "outputs": [],
   "source": []
  },
  {
   "cell_type": "code",
   "execution_count": null,
   "metadata": {},
   "outputs": [],
   "source": []
  },
  {
   "cell_type": "code",
   "execution_count": null,
   "metadata": {},
   "outputs": [],
   "source": []
  },
  {
   "cell_type": "code",
   "execution_count": null,
   "metadata": {},
   "outputs": [],
   "source": []
  },
  {
   "cell_type": "code",
   "execution_count": null,
   "metadata": {},
   "outputs": [],
   "source": []
  },
  {
   "cell_type": "code",
   "execution_count": null,
   "metadata": {},
   "outputs": [],
   "source": []
  },
  {
   "cell_type": "code",
   "execution_count": null,
   "metadata": {},
   "outputs": [],
   "source": []
  },
  {
   "cell_type": "code",
   "execution_count": null,
   "metadata": {},
   "outputs": [],
   "source": []
  },
  {
   "cell_type": "code",
   "execution_count": null,
   "metadata": {},
   "outputs": [],
   "source": []
  },
  {
   "cell_type": "code",
   "execution_count": null,
   "metadata": {},
   "outputs": [],
   "source": []
  },
  {
   "cell_type": "code",
   "execution_count": null,
   "metadata": {},
   "outputs": [],
   "source": []
  },
  {
   "cell_type": "code",
   "execution_count": null,
   "metadata": {},
   "outputs": [],
   "source": []
  },
  {
   "cell_type": "code",
   "execution_count": null,
   "metadata": {},
   "outputs": [],
   "source": []
  },
  {
   "cell_type": "code",
   "execution_count": null,
   "metadata": {},
   "outputs": [],
   "source": []
  },
  {
   "cell_type": "code",
   "execution_count": null,
   "metadata": {},
   "outputs": [],
   "source": []
  },
  {
   "cell_type": "code",
   "execution_count": null,
   "metadata": {},
   "outputs": [],
   "source": []
  },
  {
   "cell_type": "code",
   "execution_count": null,
   "metadata": {},
   "outputs": [],
   "source": []
  },
  {
   "cell_type": "code",
   "execution_count": null,
   "metadata": {},
   "outputs": [],
   "source": []
  },
  {
   "cell_type": "code",
   "execution_count": null,
   "metadata": {},
   "outputs": [],
   "source": []
  },
  {
   "cell_type": "code",
   "execution_count": null,
   "metadata": {},
   "outputs": [],
   "source": []
  },
  {
   "cell_type": "code",
   "execution_count": null,
   "metadata": {},
   "outputs": [],
   "source": []
  },
  {
   "cell_type": "code",
   "execution_count": null,
   "metadata": {},
   "outputs": [],
   "source": []
  },
  {
   "cell_type": "code",
   "execution_count": null,
   "metadata": {},
   "outputs": [],
   "source": []
  },
  {
   "cell_type": "code",
   "execution_count": null,
   "metadata": {},
   "outputs": [],
   "source": []
  },
  {
   "cell_type": "code",
   "execution_count": null,
   "metadata": {},
   "outputs": [],
   "source": []
  },
  {
   "cell_type": "code",
   "execution_count": null,
   "metadata": {},
   "outputs": [],
   "source": []
  },
  {
   "cell_type": "code",
   "execution_count": null,
   "metadata": {},
   "outputs": [],
   "source": []
  },
  {
   "cell_type": "code",
   "execution_count": null,
   "metadata": {},
   "outputs": [],
   "source": []
  },
  {
   "cell_type": "code",
   "execution_count": null,
   "metadata": {},
   "outputs": [],
   "source": []
  },
  {
   "cell_type": "code",
   "execution_count": null,
   "metadata": {},
   "outputs": [],
   "source": []
  },
  {
   "cell_type": "code",
   "execution_count": null,
   "metadata": {},
   "outputs": [],
   "source": []
  },
  {
   "cell_type": "code",
   "execution_count": null,
   "metadata": {},
   "outputs": [],
   "source": []
  },
  {
   "cell_type": "code",
   "execution_count": null,
   "metadata": {},
   "outputs": [],
   "source": []
  },
  {
   "cell_type": "code",
   "execution_count": null,
   "metadata": {},
   "outputs": [],
   "source": []
  },
  {
   "cell_type": "code",
   "execution_count": null,
   "metadata": {},
   "outputs": [],
   "source": []
  },
  {
   "cell_type": "code",
   "execution_count": null,
   "metadata": {},
   "outputs": [],
   "source": []
  },
  {
   "cell_type": "code",
   "execution_count": null,
   "metadata": {},
   "outputs": [],
   "source": []
  },
  {
   "cell_type": "code",
   "execution_count": null,
   "metadata": {},
   "outputs": [],
   "source": []
  },
  {
   "cell_type": "code",
   "execution_count": null,
   "metadata": {},
   "outputs": [],
   "source": []
  },
  {
   "cell_type": "code",
   "execution_count": null,
   "metadata": {},
   "outputs": [],
   "source": []
  },
  {
   "cell_type": "code",
   "execution_count": null,
   "metadata": {},
   "outputs": [],
   "source": []
  },
  {
   "cell_type": "code",
   "execution_count": null,
   "metadata": {},
   "outputs": [],
   "source": []
  },
  {
   "cell_type": "code",
   "execution_count": null,
   "metadata": {},
   "outputs": [],
   "source": []
  },
  {
   "cell_type": "code",
   "execution_count": null,
   "metadata": {},
   "outputs": [],
   "source": []
  },
  {
   "cell_type": "code",
   "execution_count": null,
   "metadata": {},
   "outputs": [],
   "source": []
  },
  {
   "cell_type": "code",
   "execution_count": null,
   "metadata": {},
   "outputs": [],
   "source": []
  },
  {
   "cell_type": "code",
   "execution_count": null,
   "metadata": {},
   "outputs": [],
   "source": []
  },
  {
   "cell_type": "code",
   "execution_count": null,
   "metadata": {},
   "outputs": [],
   "source": []
  },
  {
   "cell_type": "code",
   "execution_count": null,
   "metadata": {},
   "outputs": [],
   "source": []
  },
  {
   "cell_type": "code",
   "execution_count": null,
   "metadata": {},
   "outputs": [],
   "source": []
  },
  {
   "cell_type": "code",
   "execution_count": null,
   "metadata": {},
   "outputs": [],
   "source": []
  },
  {
   "cell_type": "code",
   "execution_count": null,
   "metadata": {},
   "outputs": [],
   "source": []
  },
  {
   "cell_type": "code",
   "execution_count": null,
   "metadata": {},
   "outputs": [],
   "source": []
  },
  {
   "cell_type": "code",
   "execution_count": null,
   "metadata": {},
   "outputs": [],
   "source": []
  },
  {
   "cell_type": "code",
   "execution_count": null,
   "metadata": {},
   "outputs": [],
   "source": []
  },
  {
   "cell_type": "code",
   "execution_count": null,
   "metadata": {},
   "outputs": [],
   "source": []
  },
  {
   "cell_type": "code",
   "execution_count": null,
   "metadata": {},
   "outputs": [],
   "source": []
  },
  {
   "cell_type": "code",
   "execution_count": null,
   "metadata": {},
   "outputs": [],
   "source": []
  },
  {
   "cell_type": "code",
   "execution_count": null,
   "metadata": {},
   "outputs": [],
   "source": []
  },
  {
   "cell_type": "code",
   "execution_count": null,
   "metadata": {},
   "outputs": [],
   "source": []
  },
  {
   "cell_type": "code",
   "execution_count": null,
   "metadata": {},
   "outputs": [],
   "source": [
    "#pd.DataFrame([], columns=['VAR_1', 'VAR_2', 'VAR_3', 'CASOS', 'CORRECTOS', 'SCORE']).to_csv('COMBINACIONES_MEDIANA_LIMA.csv', index=False)\n",
    "#pd.DataFrame([], columns=['VAR_1', 'VAR_2', 'VAR_3', 'CASOS', 'CORRECTOS', 'SCORE']).to_csv('COMBINACIONES_GRAN_EMPRESA_LIMA.csv', index=False)\n",
    "#pd.DataFrame([], columns=['VAR_1', 'VAR_2', 'VAR_3', 'CASOS', 'CORRECTOS', 'SCORE']).to_csv('COMBINACIONES_S1_PROVINCIA.csv', index=False)\n",
    "#pd.DataFrame([], columns=['VAR_1', 'VAR_2', 'VAR_3', 'CASOS', 'CORRECTOS', 'SCORE']).to_csv('COMBINACIONES_S2_PROVINCIA.csv', index=False)"
   ]
  },
  {
   "cell_type": "code",
   "execution_count": null,
   "metadata": {},
   "outputs": [],
   "source": []
  },
  {
   "cell_type": "code",
   "execution_count": null,
   "metadata": {},
   "outputs": [],
   "source": []
  },
  {
   "cell_type": "code",
   "execution_count": null,
   "metadata": {},
   "outputs": [],
   "source": []
  },
  {
   "cell_type": "code",
   "execution_count": null,
   "metadata": {},
   "outputs": [],
   "source": []
  },
  {
   "cell_type": "code",
   "execution_count": null,
   "metadata": {},
   "outputs": [],
   "source": []
  },
  {
   "cell_type": "code",
   "execution_count": null,
   "metadata": {},
   "outputs": [],
   "source": []
  },
  {
   "cell_type": "code",
   "execution_count": null,
   "metadata": {},
   "outputs": [],
   "source": []
  },
  {
   "cell_type": "code",
   "execution_count": null,
   "metadata": {},
   "outputs": [],
   "source": []
  },
  {
   "cell_type": "code",
   "execution_count": null,
   "metadata": {},
   "outputs": [],
   "source": []
  }
 ],
 "metadata": {
  "kernelspec": {
   "display_name": "Python 3",
   "language": "python",
   "name": "python3"
  },
  "language_info": {
   "codemirror_mode": {
    "name": "ipython",
    "version": 3
   },
   "file_extension": ".py",
   "mimetype": "text/x-python",
   "name": "python",
   "nbconvert_exporter": "python",
   "pygments_lexer": "ipython3",
   "version": "3.8.5"
  }
 },
 "nbformat": 4,
 "nbformat_minor": 4
}
