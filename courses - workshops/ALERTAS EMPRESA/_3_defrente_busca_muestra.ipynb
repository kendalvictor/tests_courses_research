{
 "cells": [
  {
   "cell_type": "code",
   "execution_count": 1,
   "metadata": {},
   "outputs": [],
   "source": [
    "# Nativos\n",
    "import random as rn\n",
    "import os\n",
    "import sys\n",
    "import gc\n",
    "\n",
    "#calculo\n",
    "import numpy as np\n",
    "import pandas as pd\n",
    "import scipy\n",
    "\n",
    "#grafico\n",
    "import matplotlib.pyplot as plt\n",
    "import seaborn as sns\n",
    "from IPython.display import display\n",
    "%matplotlib inline\n",
    "sns.set(style=\"whitegrid\")\n",
    "\n",
    "#warning ignore future\n",
    "import warnings\n",
    "# warnings.simplefilter(action='ignore', category=FutureWarning)\n",
    "warnings.filterwarnings(\"ignore\")\n",
    "gc.collect()\n",
    "\n",
    "SEED = 29082013\n",
    "os.environ['PYTHONHASHSEED'] = str(SEED)\n",
    "np.random.seed(SEED)\n",
    "rn.seed(SEED)\n",
    "\n",
    "#modelamiento\n",
    "from sklearn.model_selection import GridSearchCV\n",
    "from sklearn.linear_model import LogisticRegression\n",
    "from sklearn.feature_selection import SelectFromModel\n",
    "from sklearn.linear_model import LassoCV\n",
    "from sklearn.model_selection import StratifiedKFold\n",
    "from sklearn.discriminant_analysis import QuadraticDiscriminantAnalysis\n",
    "from sklearn.feature_selection import VarianceThreshold\n",
    "from sklearn.decomposition import PCA\n",
    "from sklearn.cluster import KMeans\n",
    "from sklearn.neighbors import KNeighborsClassifier\n",
    "from sklearn.preprocessing import MinMaxScaler\n",
    "from sklearn.ensemble import RandomForestClassifier\n",
    "from sklearn.tree import DecisionTreeClassifier\n",
    "from sklearn.tree import export_text"
   ]
  },
  {
   "cell_type": "code",
   "execution_count": 2,
   "metadata": {},
   "outputs": [],
   "source": [
    "#nativos\n",
    "import os\n",
    "import unicodedata\n",
    "\n",
    "#terceros\n",
    "import pandas as pd\n",
    "import pymssql\n",
    "import missingno as msno\n",
    "from collections import Counter\n",
    "import scorecardpy as sc\n",
    "\n",
    "#grafico\n",
    "import matplotlib.pyplot as plt\n",
    "import seaborn as sns\n",
    "from IPython.display import display\n",
    "%matplotlib inline\n",
    "sns.set(style=\"whitegrid\")"
   ]
  },
  {
   "cell_type": "code",
   "execution_count": 3,
   "metadata": {},
   "outputs": [
    {
     "data": {
      "text/plain": [
       "'1.19.2'"
      ]
     },
     "execution_count": 3,
     "metadata": {},
     "output_type": "execute_result"
    }
   ],
   "source": [
    "import numpy as np\n",
    "np.__version__"
   ]
  },
  {
   "cell_type": "markdown",
   "metadata": {},
   "source": [
    "#### ACÁ SOLO CAMBIAR EL EXCEL BASE"
   ]
  },
  {
   "cell_type": "code",
   "execution_count": 4,
   "metadata": {},
   "outputs": [
    {
     "data": {
      "text/html": [
       "<div>\n",
       "<style scoped>\n",
       "    .dataframe tbody tr th:only-of-type {\n",
       "        vertical-align: middle;\n",
       "    }\n",
       "\n",
       "    .dataframe tbody tr th {\n",
       "        vertical-align: top;\n",
       "    }\n",
       "\n",
       "    .dataframe thead th {\n",
       "        text-align: right;\n",
       "    }\n",
       "</style>\n",
       "<table border=\"1\" class=\"dataframe\">\n",
       "  <thead>\n",
       "    <tr style=\"text-align: right;\">\n",
       "      <th></th>\n",
       "      <th>PERIODO</th>\n",
       "      <th>COD_UNICO</th>\n",
       "      <th>NOMBRE_COMPLETO</th>\n",
       "      <th>FLG_VIGENTE</th>\n",
       "      <th>FLG_SUSPENDIDO</th>\n",
       "      <th>FLG_VENCIDA</th>\n",
       "      <th>FLG_CANCELADO</th>\n",
       "      <th>FLG_MONOLINEA</th>\n",
       "      <th>FLG_SOLO_REACTIVA</th>\n",
       "      <th>FLG_POSICION</th>\n",
       "      <th>...</th>\n",
       "      <th>_30_cut_up_COVID_PORCENTAJE_REDUCCION_PERSONAL</th>\n",
       "      <th>_50_cut_up_COVID_PORCENTAJE_REDUCCION_PERSONAL</th>\n",
       "      <th>_20_cut_up_COVID_PORCENTAJE_REDUCCION_INGREO_MENUSAL</th>\n",
       "      <th>_30_cut_up_COVID_PORCENTAJE_REDUCCION_INGREO_MENUSAL</th>\n",
       "      <th>_40_cut_up_COVID_PORCENTAJE_REDUCCION_INGREO_MENUSAL</th>\n",
       "      <th>_48_cut_up_COVID_PORCENTAJE_REDUCCION_INGREO_MENUSAL</th>\n",
       "      <th>_int_COVID_ACOGIO_SUSPENSION_PERFECTA</th>\n",
       "      <th>_int_COVID_ACOGIO_SUSPENSION_PERFECTA_Y_REDUCCION_PEROSNAL_UP20_PERCENT</th>\n",
       "      <th>_int_COVID_ACOGIO_SUSPENSION_PERFECTA_Y_REDUCCION_PEROSNAL_UP12_PERCENT</th>\n",
       "      <th>COVID_FICHA_LLENADA</th>\n",
       "    </tr>\n",
       "  </thead>\n",
       "  <tbody>\n",
       "    <tr>\n",
       "      <th>0</th>\n",
       "      <td>202007</td>\n",
       "      <td>0011874248</td>\n",
       "      <td>SOCIEDAD DE INDUSTRIAS OLEAGINOSAS</td>\n",
       "      <td>1</td>\n",
       "      <td>0</td>\n",
       "      <td>1</td>\n",
       "      <td>0</td>\n",
       "      <td>0</td>\n",
       "      <td>0</td>\n",
       "      <td>1</td>\n",
       "      <td>...</td>\n",
       "      <td>0</td>\n",
       "      <td>0</td>\n",
       "      <td>0</td>\n",
       "      <td>0</td>\n",
       "      <td>0</td>\n",
       "      <td>0</td>\n",
       "      <td>0</td>\n",
       "      <td>False</td>\n",
       "      <td>False</td>\n",
       "      <td>0</td>\n",
       "    </tr>\n",
       "    <tr>\n",
       "      <th>1</th>\n",
       "      <td>202007</td>\n",
       "      <td>0011871910</td>\n",
       "      <td>PESQUERA MARINHA</td>\n",
       "      <td>0</td>\n",
       "      <td>0</td>\n",
       "      <td>0</td>\n",
       "      <td>0</td>\n",
       "      <td>0</td>\n",
       "      <td>0</td>\n",
       "      <td>1</td>\n",
       "      <td>...</td>\n",
       "      <td>0</td>\n",
       "      <td>0</td>\n",
       "      <td>0</td>\n",
       "      <td>0</td>\n",
       "      <td>0</td>\n",
       "      <td>0</td>\n",
       "      <td>0</td>\n",
       "      <td>False</td>\n",
       "      <td>False</td>\n",
       "      <td>0</td>\n",
       "    </tr>\n",
       "    <tr>\n",
       "      <th>2</th>\n",
       "      <td>202007</td>\n",
       "      <td>0011861230</td>\n",
       "      <td>BISAGRAS PERUANAS</td>\n",
       "      <td>1</td>\n",
       "      <td>0</td>\n",
       "      <td>0</td>\n",
       "      <td>0</td>\n",
       "      <td>0</td>\n",
       "      <td>1</td>\n",
       "      <td>1</td>\n",
       "      <td>...</td>\n",
       "      <td>0</td>\n",
       "      <td>0</td>\n",
       "      <td>0</td>\n",
       "      <td>0</td>\n",
       "      <td>0</td>\n",
       "      <td>0</td>\n",
       "      <td>0</td>\n",
       "      <td>False</td>\n",
       "      <td>False</td>\n",
       "      <td>0</td>\n",
       "    </tr>\n",
       "    <tr>\n",
       "      <th>3</th>\n",
       "      <td>202007</td>\n",
       "      <td>0011858538</td>\n",
       "      <td>V&amp; J INGENIERIA Y CONSTRUCCION</td>\n",
       "      <td>0</td>\n",
       "      <td>0</td>\n",
       "      <td>1</td>\n",
       "      <td>0</td>\n",
       "      <td>0</td>\n",
       "      <td>0</td>\n",
       "      <td>1</td>\n",
       "      <td>...</td>\n",
       "      <td>0</td>\n",
       "      <td>0</td>\n",
       "      <td>0</td>\n",
       "      <td>0</td>\n",
       "      <td>0</td>\n",
       "      <td>0</td>\n",
       "      <td>0</td>\n",
       "      <td>False</td>\n",
       "      <td>False</td>\n",
       "      <td>0</td>\n",
       "    </tr>\n",
       "    <tr>\n",
       "      <th>4</th>\n",
       "      <td>202007</td>\n",
       "      <td>0011858467</td>\n",
       "      <td>M &amp; H GROUP</td>\n",
       "      <td>0</td>\n",
       "      <td>0</td>\n",
       "      <td>0</td>\n",
       "      <td>0</td>\n",
       "      <td>0</td>\n",
       "      <td>0</td>\n",
       "      <td>1</td>\n",
       "      <td>...</td>\n",
       "      <td>0</td>\n",
       "      <td>0</td>\n",
       "      <td>0</td>\n",
       "      <td>0</td>\n",
       "      <td>0</td>\n",
       "      <td>0</td>\n",
       "      <td>0</td>\n",
       "      <td>False</td>\n",
       "      <td>False</td>\n",
       "      <td>0</td>\n",
       "    </tr>\n",
       "  </tbody>\n",
       "</table>\n",
       "<p>5 rows × 1107 columns</p>\n",
       "</div>"
      ],
      "text/plain": [
       "  PERIODO   COD_UNICO                     NOMBRE_COMPLETO  FLG_VIGENTE  \\\n",
       "0  202007  0011874248  SOCIEDAD DE INDUSTRIAS OLEAGINOSAS            1   \n",
       "1  202007  0011871910                    PESQUERA MARINHA            0   \n",
       "2  202007  0011861230                   BISAGRAS PERUANAS            1   \n",
       "3  202007  0011858538      V& J INGENIERIA Y CONSTRUCCION            0   \n",
       "4  202007  0011858467                         M & H GROUP            0   \n",
       "\n",
       "   FLG_SUSPENDIDO  FLG_VENCIDA  FLG_CANCELADO  FLG_MONOLINEA  \\\n",
       "0               0            1              0              0   \n",
       "1               0            0              0              0   \n",
       "2               0            0              0              0   \n",
       "3               0            1              0              0   \n",
       "4               0            0              0              0   \n",
       "\n",
       "   FLG_SOLO_REACTIVA  FLG_POSICION  ...  \\\n",
       "0                  0             1  ...   \n",
       "1                  0             1  ...   \n",
       "2                  1             1  ...   \n",
       "3                  0             1  ...   \n",
       "4                  0             1  ...   \n",
       "\n",
       "   _30_cut_up_COVID_PORCENTAJE_REDUCCION_PERSONAL  \\\n",
       "0                                               0   \n",
       "1                                               0   \n",
       "2                                               0   \n",
       "3                                               0   \n",
       "4                                               0   \n",
       "\n",
       "   _50_cut_up_COVID_PORCENTAJE_REDUCCION_PERSONAL  \\\n",
       "0                                               0   \n",
       "1                                               0   \n",
       "2                                               0   \n",
       "3                                               0   \n",
       "4                                               0   \n",
       "\n",
       "   _20_cut_up_COVID_PORCENTAJE_REDUCCION_INGREO_MENUSAL  \\\n",
       "0                                                  0      \n",
       "1                                                  0      \n",
       "2                                                  0      \n",
       "3                                                  0      \n",
       "4                                                  0      \n",
       "\n",
       "   _30_cut_up_COVID_PORCENTAJE_REDUCCION_INGREO_MENUSAL  \\\n",
       "0                                                  0      \n",
       "1                                                  0      \n",
       "2                                                  0      \n",
       "3                                                  0      \n",
       "4                                                  0      \n",
       "\n",
       "   _40_cut_up_COVID_PORCENTAJE_REDUCCION_INGREO_MENUSAL  \\\n",
       "0                                                  0      \n",
       "1                                                  0      \n",
       "2                                                  0      \n",
       "3                                                  0      \n",
       "4                                                  0      \n",
       "\n",
       "  _48_cut_up_COVID_PORCENTAJE_REDUCCION_INGREO_MENUSAL  \\\n",
       "0                                                  0     \n",
       "1                                                  0     \n",
       "2                                                  0     \n",
       "3                                                  0     \n",
       "4                                                  0     \n",
       "\n",
       "  _int_COVID_ACOGIO_SUSPENSION_PERFECTA  \\\n",
       "0                                     0   \n",
       "1                                     0   \n",
       "2                                     0   \n",
       "3                                     0   \n",
       "4                                     0   \n",
       "\n",
       "  _int_COVID_ACOGIO_SUSPENSION_PERFECTA_Y_REDUCCION_PEROSNAL_UP20_PERCENT  \\\n",
       "0                                              False                        \n",
       "1                                              False                        \n",
       "2                                              False                        \n",
       "3                                              False                        \n",
       "4                                              False                        \n",
       "\n",
       "  _int_COVID_ACOGIO_SUSPENSION_PERFECTA_Y_REDUCCION_PEROSNAL_UP12_PERCENT  \\\n",
       "0                                              False                        \n",
       "1                                              False                        \n",
       "2                                              False                        \n",
       "3                                              False                        \n",
       "4                                              False                        \n",
       "\n",
       "  COVID_FICHA_LLENADA  \n",
       "0                   0  \n",
       "1                   0  \n",
       "2                   0  \n",
       "3                   0  \n",
       "4                   0  \n",
       "\n",
       "[5 rows x 1107 columns]"
      ]
     },
     "execution_count": 4,
     "metadata": {},
     "output_type": "execute_result"
    }
   ],
   "source": [
    "data = pd.read_excel('AVANCE_6_new_target.xlsx', dtype={\n",
    "    'COD_UNICO': str,\n",
    "    'PERIODO': str\n",
    "})\n",
    "data.head()"
   ]
  },
  {
   "cell_type": "markdown",
   "metadata": {},
   "source": [
    "### ENCONTRANDO LOS MEJORES CORTES "
   ]
  },
  {
   "cell_type": "code",
   "execution_count": 6,
   "metadata": {},
   "outputs": [],
   "source": [
    "from sklearn.metrics import roc_auc_score, recall_score"
   ]
  },
  {
   "cell_type": "code",
   "execution_count": 7,
   "metadata": {},
   "outputs": [
    {
     "data": {
      "text/plain": [
       "['PRE_TARGET_yoy',\n",
       " 'target_yoy_quartil_03',\n",
       " 'target_yoy_quartil_04',\n",
       " 'target_yoy_quartil_05',\n",
       " 'target_yoy_quartil_06',\n",
       " 'target_yoy_quartil_07',\n",
       " 'target_feve_reducir_salir',\n",
       " 'target_seguircovid_reducir_salir',\n",
       " 'cuasi_target_preocupa',\n",
       " 'target_no_normales_ibk_sbs',\n",
       " 'target_8_dias_atraso',\n",
       " 'target_15_dias_atraso',\n",
       " 'target_rcc_8_dias_atraso',\n",
       " 'target_SF_8_dias_atraso_o_mas']"
      ]
     },
     "execution_count": 7,
     "metadata": {},
     "output_type": "execute_result"
    }
   ],
   "source": [
    "[col for col in data.columns if 'target' in col.lower()]"
   ]
  },
  {
   "cell_type": "code",
   "execution_count": 8,
   "metadata": {},
   "outputs": [],
   "source": [
    "banca_a_analizar = 'BEL ZONAL 1'\n",
    "banca_a_analizar_2 = 'BEL ZONAL 3' # CAMBIAR POR LA ZONA A BUSCAR ALERTAS\n",
    "banca_mediana = 'BEL ZONAL 2'\n",
    "meses = [202007, 202008, 202009]\n",
    "bancas = [banca_mediana]"
   ]
  },
  {
   "cell_type": "code",
   "execution_count": 9,
   "metadata": {},
   "outputs": [
    {
     "data": {
      "text/plain": [
       "0    2333\n",
       "1     269\n",
       "Name: cuasi_target_preocupa, dtype: int64"
      ]
     },
     "execution_count": 9,
     "metadata": {},
     "output_type": "execute_result"
    }
   ],
   "source": [
    "col_target = 'cuasi_target_preocupa'\n",
    "\n",
    "data_opt = data[\n",
    "    (data[col_target].notnull()) & (data['PERIODO'].astype(int).isin(meses)) &  (data['ZONAL'].isin(bancas))\n",
    "]\n",
    "data_opt[col_target].value_counts()"
   ]
  },
  {
   "cell_type": "code",
   "execution_count": 10,
   "metadata": {},
   "outputs": [
    {
     "name": "stdout",
     "output_type": "stream",
     "text": [
      "COVID_PORCENTAJE_REDUCCION_PERSONAL [1.16280454] ||| 0.40892193308550184 ||| True ////////////////  (386, 1107)\n",
      "COVID_PORCENTAJE_REDUCCION_INGREO_MENUSAL [2.37533714] ||| 0.7174721189591078 ||| True ////////////////  (897, 1107)\n",
      "COVID_P_5_VARIACION_PORCENTUAL_VENTAS_2020_2019 [-78.60765108] ||| 1.0 ||| True ////////////////  (2600, 1107)\n",
      "TRX_TIPOS_CASH_IN_MENORES_DE_U3M [0.1764608] ||| 0.20817843866171004 ||| True ////////////////  (670, 1107)\n",
      "RIESGO [374.41438157] ||| 0.9628252788104089 ||| True ////////////////  (2466, 1107)\n",
      "TRX_TIPOS_CASH_IN_CAIDA_SEGUIDA_U3M [0.7547587] ||| 0.26394052044609667 ||| True ////////////////  (753, 1107)\n",
      "TRX_TIPOS_CASH_IN_CAIDA_10PERCENT_MES_ANT [0.84030251] ||| 0.37174721189591076 ||| True ////////////////  (1071, 1107)\n",
      "TRX_TIPOS_CASH_IN_CAIDA_20PERCENT_MES_ANT [0.70707705] ||| 0.3382899628252788 ||| True ////////////////  (990, 1107)\n",
      "TRX_TIPOS_CASH_IN_CAIDA_30PERCENT_MES_ANT [0.03446919] ||| 0.30111524163568776 ||| True ////////////////  (915, 1107)\n",
      "TRX_VARIACION_TIPOS_CASH_IN_U3M_MES_ACTUAL [-3.81522163] ||| 1.0 ||| True ////////////////  (2533, 1107)\n",
      "CASH_OUT_TOTAL_MES [395.69914569] ||| 0.7323420074349443 ||| True ////////////////  (1908, 1107)\n",
      "CEF_APLANCAMIENTO_PATRIMONIAL_VAR [-31.00007298] ||| 1.0 ||| True ////////////////  (1924, 1107)\n",
      "CEF_CAJA [2.22832346] ||| 1.0 ||| True ////////////////  (1924, 1107)\n",
      "CEF_CAPITAL_TRABAJO [-11700.56658791] ||| 1.0 ||| True ////////////////  (1926, 1107)\n",
      "CEF_CAPITAL_TRABAJO_VAR [-468.07105792] ||| 1.0 ||| True ////////////////  (1924, 1107)\n",
      "CEF_COBERTURA_FAL [-24.69371966] ||| 1.0 ||| True ////////////////  (1924, 1107)\n",
      "CEF_COBERTURA_SERVICIO_DEUDA [-30.04889089] ||| 1.0 ||| True ////////////////  (1924, 1107)\n",
      "CEF_COBERTURA_SERVICIO_DEUDA_ANT [-22.95633451] ||| 1.0 ||| True ////////////////  (1918, 1107)\n",
      "CEF_COSTO_VENTAS [77.11591437] ||| 0.9776951672862454 ||| True ////////////////  (1817, 1107)\n",
      "CEF_COSTO_VENTAS_ANUAL [133.57879605] ||| 0.9776951672862454 ||| True ////////////////  (1817, 1107)\n",
      "CEF_COSTO_VENTAS_VAR [-0.97406194] ||| 0.9925650557620818 ||| True ////////////////  (1906, 1107)\n",
      "CEF_DESFASE_CEF_MESES [1.97602987] ||| 0.9814126394052045 ||| True ////////////////  (1891, 1107)\n",
      "CEF_DEUDA_TOTAL [238.16553608] ||| 1.0 ||| True ////////////////  (1845, 1107)\n",
      "CEF_DTOTALCAJA_S_EBITDA [-245.11730536] ||| 0.9888475836431226 ||| True ////////////////  (1918, 1107)\n",
      "CEF_DTOTALCAJA_S_EBITDA_VAR [-82.1265678] ||| 1.0 ||| True ////////////////  (1921, 1107)\n",
      "CEF_DTOTAL_S_EBITDA [-489.93231871] ||| 1.0 ||| True ////////////////  (1924, 1107)\n",
      "CEF_DTOTAL_S_EBITDA_VAR [-491.91682316] ||| 1.0 ||| True ////////////////  (1924, 1107)\n",
      "CEF_DTOTAL_S_VENTAS [0.04447294] ||| 1.0 ||| True ////////////////  (1838, 1107)\n",
      "CEF_DTOTAL_S_VENTAS_VAR [-0.9408667] ||| 1.0 ||| True ////////////////  (1896, 1107)\n",
      "CEF_EBITDA [-3450.53574268] ||| 1.0 ||| True ////////////////  (1924, 1107)\n",
      "CEF_EBITDA_ANUAL [-4822.90688029] ||| 1.0 ||| True ////////////////  (1924, 1107)\n",
      "CEF_EBITDA_ANUAL_VAR [-66.223675] ||| 1.0 ||| True ////////////////  (1924, 1107)\n",
      "CEF_EBITDA_S_SERVDEUDA [-28.53562319] ||| 1.0 ||| True ////////////////  (1921, 1107)\n",
      "CEF_EBITDA_S_SERVDEUDA_VAR [-49.16767296] ||| 1.0 ||| True ////////////////  (1924, 1107)\n",
      "CEF_ENDEUDAMIENTO_PAS_VEN_VAR [-55.04804443] ||| 1.0 ||| True ////////////////  (1921, 1107)\n",
      "CEF_INVERSION_ACTFIJOS [-332.47950273] ||| 1.0 ||| True ////////////////  (1909, 1107)\n",
      "CEF_INVERSION_ACTFIJOS_ANTERIOR_FLAG [0.59239707] ||| 0.9405204460966543 ||| True ////////////////  (1748, 1107)\n",
      "CEF_INVERSION_ACTFIJOS_ANUAL [-1054.04089771] ||| 1.0 ||| True ////////////////  (1921, 1107)\n",
      "CEF_INVERSION_ACTFIJOS_VAR [-18.66056337] ||| 1.0 ||| True ////////////////  (1924, 1107)\n",
      "CEF_PATRIMONIO [-975.32962536] ||| 1.0 ||| True ////////////////  (1924, 1107)\n",
      "CEF_RAC_IBK6_ACTIVIDAD [0.00369748] ||| 0.9256505576208178 ||| True ////////////////  (1624, 1107)\n",
      "CEF_RDEU_1_COSTODEUDA [-7.47884697] ||| 1.0 ||| True ////////////////  (1924, 1107)\n",
      "CEF_RLI_6_LIQUIDEZ [-58.69939303] ||| 0.9925650557620818 ||| True ////////////////  (1924, 1107)\n",
      "CEF_RMET_11_METODIZADO [-111.38868443] ||| 1.0 ||| True ////////////////  (1924, 1107)\n",
      "CEF_RMET_9_METODIZADO [-359.54861302] ||| 1.0 ||| True ////////////////  (1924, 1107)\n",
      "CEF_ROTACION_CTASXCOBRAR [-2.76701416] ||| 1.0 ||| True ////////////////  (1924, 1107)\n",
      "CEF_ROTACION_CTASXCOBRAR_VAR [-0.98620274] ||| 0.9851301115241635 ||| True ////////////////  (1902, 1107)\n",
      "CEF_ROTACION_CTASXCOBRAR_VAR_DIAS [-167.121971] ||| 1.0 ||| True ////////////////  (1906, 1107)\n",
      "CEF_ROTACION_CTASXPAGAR [0.5478742] ||| 0.9070631970260223 ||| True ////////////////  (1709, 1107)\n",
      "CEF_ROTACION_CTASXPAGAR_VAR [-0.97190493] ||| 0.9330855018587361 ||| True ////////////////  (1858, 1107)\n",
      "CEF_ROTACION_CTASXPAGAR_VAR_DIAS [-12886.24910617] ||| 1.0 ||| True ////////////////  (1924, 1107)\n",
      "CEF_ROTACION_INVENTARIOS [1.05161994] ||| 0.9256505576208178 ||| True ////////////////  (1612, 1107)\n",
      "CEF_ROTACION_INVENTARIOS_VAR [-0.46127681] ||| 0.9925650557620818 ||| True ////////////////  (1817, 1107)\n",
      "CEF_ROTACION_INVENTARIOS_VAR_DIAS [-1111.50428787] ||| 1.0 ||| True ////////////////  (1924, 1107)\n",
      "CEF_RRE_13_RENTABILIDAD [2.68256528e-05] ||| 0.5687732342007435 ||| True ////////////////  (1058, 1107)\n",
      "CEF_RSOL_14_SOLVENCIA [1239.46230038] ||| 0.1970260223048327 ||| True ////////////////  (3, 1107)\n",
      "CEF_RSOL_18_SOLVENCIA [-3.16903919] ||| 1.0 ||| True ////////////////  (1924, 1107)\n",
      "CEF_RSOL_1B_SOLVENCIA [0.03297014] ||| 1.0 ||| True ////////////////  (1914, 1107)\n",
      "CEF_UTILIDAD [-4950.38277676] ||| 1.0 ||| True ////////////////  (1924, 1107)\n",
      "CEF_UTILIDAD_ANTES_IMP [-5750.60958533] ||| 1.0 ||| True ////////////////  (1924, 1107)\n",
      "CEF_UTILIDAD_ANTES_IMP_ANUAL [-8425.72902613] ||| 1.0 ||| True ////////////////  (1924, 1107)\n",
      "CEF_UTILIDAD_ANUAL [-6620.74936714] ||| 1.0 ||| True ////////////////  (1924, 1107)\n",
      "CEF_VENTAS_NETAS [308.02520615] ||| 1.0 ||| True ////////////////  (1900, 1107)\n",
      "CEF_VENTAS_NETAS_ANUAL [430.92622359] ||| 1.0 ||| True ////////////////  (1908, 1107)\n",
      "CEF_VENTAS_NETAS_VAR [-0.982923] ||| 1.0 ||| True ////////////////  (1912, 1107)\n",
      "NRO_BANCOS_CON_MAYOR_SOW_ULT_RCC [0.40704667] ||| 0.6802973977695167 ||| True ////////////////  (1596, 1107)\n",
      "PERCENT_CANT_TRX_CASH_IN_OVER_CASH_OUT [0.01725445] ||| 0.8661710037174721 ||| True ////////////////  (2211, 1107)\n",
      "PERCENT_COL_DIRECTAS_SF [0.01505349] ||| 0.9925650557620818 ||| True ////////////////  (2521, 1107)\n",
      "PERCENT_COL_DIRECTAS_SF_MAX_historia [0.03144534] ||| 1.0 ||| True ////////////////  (2541, 1107)\n",
      "PERCENT_COL_DIRECTAS_SF_MIN_historia [0.01981083] ||| 0.9776951672862454 ||| True ////////////////  (2441, 1107)\n",
      "PERCENT_GAR_AUTO [0.00055369] ||| 0.055762081784386616 ||| True ////////////////  (141, 1107)\n",
      "PERCENT_GAR_AUTO_HIPO [0.02753252] ||| 0.6728624535315985 ||| True ////////////////  (1408, 1107)\n",
      "PERCENT_GAR_AUTO_HIPO_PREN [0.00168581] ||| 0.8141263940520446 ||| True ////////////////  (1827, 1107)\n",
      "PERCENT_GAR_BBVA [6.69834319e-05] ||| 0.6505576208178439 ||| True ////////////////  (1356, 1107)\n",
      "PERCENT_GAR_BCP [0.00050775] ||| 0.4349442379182156 ||| True ////////////////  (1122, 1107)\n",
      "PERCENT_GAR_BIF [0.00266292] ||| 0.5539033457249071 ||| True ////////////////  (1082, 1107)\n",
      "PERCENT_GAR_HIPO [0.02224791] ||| 0.654275092936803 ||| True ////////////////  (1355, 1107)\n",
      "PERCENT_GAR_IBK [0.00029358] ||| 0.9368029739776952 ||| True ////////////////  (2300, 1107)\n",
      "PERCENT_GAR_NO_PREFER [0.00498226] ||| 0.9814126394052045 ||| True ////////////////  (2418, 1107)\n",
      "PERCENT_GAR_OTROS_BANCOS_PRIN [0.00731955] ||| 0.8587360594795539 ||| True ////////////////  (2112, 1107)\n",
      "PERCENT_GAR_PREN_WAR [0.00018783] ||| 0.45353159851301117 ||| True ////////////////  (1040, 1107)\n",
      "SOW_IBK_MAX_historia [0.00099449] ||| 0.9516728624535316 ||| True ////////////////  (2525, 1107)\n",
      "SOW_IBK_MIN_historia [0.00046294] ||| 0.9033457249070632 ||| True ////////////////  (2302, 1107)\n",
      "SOW_IBK_ULT_RCC [0.00069405] ||| 0.9330855018587361 ||| True ////////////////  (2459, 1107)\n",
      "SOW_OTROSBCOS_MAX_historia [0.0443596] ||| 0.8921933085501859 ||| True ////////////////  (2273, 1107)\n",
      "SOW_OTROSBCOS_MIN_historia [0.02875867] ||| 0.8587360594795539 ||| True ////////////////  (2127, 1107)\n",
      "SOW_OTROSBCOS_ULT_RCC [0.02840464] ||| 0.8847583643122676 ||| True ////////////////  (2214, 1107)\n",
      "COVER_GAR_AUTO_HIPO_PREN_ULT_RCC [177239.5468733] ||| 0.007434944237918215 ||| True ////////////////  (2, 1107)\n",
      "COVER_GAR_AUTO_HIPO_ULT_RCC [208519.27527291] ||| 0.007434944237918215 ||| True ////////////////  (2, 1107)\n",
      "COVER_GAR_AUTO_ULT_RCC [3943.69014938] ||| 0.007434944237918215 ||| True ////////////////  (1, 1107)\n",
      "TIPOS_CASH_IN_ACTIVOS_U3M [0.44902147] ||| 0.9144981412639405 ||| True ////////////////  (2404, 1107)\n",
      "CASH_IN_TOTAL_MES [527.40110388] ||| 0.8513011152416357 ||| True ////////////////  (2132, 1107)\n",
      "COVID_12_DE_CUNATA_INVERSION_SE_TRATA [3.03180936] ||| 0.1412639405204461 ||| True ////////////////  (290, 1107)\n",
      "TRX_VARIACION_TIPOS_CASH_IN_U3M_MES_ACTUAL [-3.25416271] ||| 1.0 ||| True ////////////////  (2533, 1107)\n",
      "TRX_VARIACION_TIPOS_CASH_OUT_U3M_MES_ACTUAL [-3.38065603] ||| 0.9962825278810409 ||| True ////////////////  (2532, 1107)\n",
      "VARIACION_PERCENT_COL_DRECTAS_U12M [-0.9220108] ||| 1.0 ||| True ////////////////  (1655, 1107)\n",
      "VARIACION_PERCENT_GAR_IBK_U12M [-0.91213835] ||| 1.0 ||| True ////////////////  (1329, 1107)\n",
      "VARIACION_PERCENT_GAR_OTROS_BANCOS_PRIN_U12M [-0.76545299] ||| 1.0 ||| True ////////////////  (1223, 1107)\n",
      "VARIACION_SOW_IBK_U12M [-0.79236073] ||| 0.9962825278810409 ||| True ////////////////  (1384, 1107)\n",
      "VARIACION_SOW_OTROS_BANCOS_PRIN_U12M [-0.97855317] ||| 1.0 ||| True ////////////////  (1387, 1107)\n",
      "VARIAICION_NRO_BANCOS_CIERRE_2019 [-2.14018767] ||| 0.9925650557620818 ||| True ////////////////  (2593, 1107)\n",
      "VARIAICION_NRO_BANCOS_CON_MINIMO_U12M [0.90966151] ||| 0.1970260223048327 ||| True ////////////////  (780, 1107)\n",
      "VARIAICION_NRO_BANCOS_PRIN_DEBT_u12m [-3.3853306] ||| 0.9962825278810409 ||| True ////////////////  (2600, 1107)\n"
     ]
    }
   ],
   "source": [
    "from scipy.optimize import differential_evolution\n",
    "\n",
    "for col in var_num:\n",
    "    optimization = differential_evolution(\n",
    "        lambda c: -1*recall_score(data_opt[col_target], np.array([0 if _ < c[0] else 1 for _ in data_opt[col]])), \n",
    "        [(data_opt[col].min(), data_opt[col].max())]\n",
    "    )\n",
    "    \n",
    "    print(col, optimization['x'], '|||', -1*optimization['fun'], \"|||\",optimization['success'], '//////////////// ',\n",
    "          data_opt[\n",
    "              (data_opt[col] >= optimization[\"x\"][0]) & (data_opt[col].notnull())\n",
    "          ].shape) \n",
    "    \n",
    "    if 'VAR' in col.upper() or 'CEF' in col.upper():\n",
    "        data['cut_opt_for_' + col_target + '_' + col] = data[col].apply(lambda _: 0 if _ < optimization['x'][0] else 1)"
   ]
  },
  {
   "cell_type": "code",
   "execution_count": 11,
   "metadata": {},
   "outputs": [],
   "source": [
    "for col in [_ for _ in data.columns if 'TIENE' in _.upper()]:\n",
    "    data[col] = data[col].fillna(0)\n",
    "\n",
    "for col in [_ for _ in data.columns if 'CUT' in _.upper()]:\n",
    "    data[col] = data[col].fillna(0)\n",
    "    \n",
    "for col in [_ for _ in data.columns if 'MENOR' in _.upper()]:\n",
    "    data[col] = data[col].fillna(0)\n",
    "    \n",
    "for col in [_ for _ in data.columns if 'MAYOR' in _.upper()]:\n",
    "    data[col] = data[col].fillna(0)\n",
    "\n",
    "for col in [_ for _ in data.columns if 'SUBIDA' in _.upper()]:\n",
    "    data[col] = data[col].fillna(0)\n",
    "    \n",
    "for col in [_ for _ in data.columns if 'NUM' in _.upper()]:\n",
    "    data[col] = data[col].fillna(0)\n",
    "    \n",
    "for col in [_ for _ in data.columns if 'INT' in _.upper()]:\n",
    "    data[col] = data[col].fillna(0)\n",
    "\n",
    "for col in [_ for _ in data.columns if 'CAIDA' in _.upper()]:\n",
    "    data[col] = data[col].fillna(0)\n",
    "    \n",
    "for col in [_ for _ in data.columns if 'NRO' in _.upper()]:\n",
    "    data[col] = data[col].fillna(0)\n",
    "    \n",
    "for col in [_ for _ in data.columns if 'COVID' in _.upper()]:\n",
    "    data[col] = data[col].fillna(0)"
   ]
  },
  {
   "cell_type": "code",
   "execution_count": 12,
   "metadata": {},
   "outputs": [
    {
     "name": "stdout",
     "output_type": "stream",
     "text": [
      "825\n"
     ]
    }
   ],
   "source": [
    "cols_combine = [col for col in data.columns if set(data[col].unique()) == {1, 0} or 'NRO' in col.upper()]\n",
    "#print(list(cols_combine))\n",
    "print(len(cols_combine))"
   ]
  },
  {
   "cell_type": "code",
   "execution_count": 13,
   "metadata": {},
   "outputs": [],
   "source": [
    "del data_opt"
   ]
  },
  {
   "cell_type": "code",
   "execution_count": 16,
   "metadata": {},
   "outputs": [
    {
     "name": "stdout",
     "output_type": "stream",
     "text": [
      "['FLG_VIGENTE', 'FLG_SUSPENDIDO', 'FLG_VENCIDA', 'FLG_CANCELADO', 'FLG_MONOLINEA', 'FLG_SOLO_REACTIVA', 'FLG_POSICION', 'DESPRIORIZACION_ADM', 'NRO_VECES_REACTIVA_IBK', 'TIENE_REACTIVA_IBK', 'TIENE_REACTIVA1_REACTIVA2_IBK', 'NRO_VECES_REACTIVA_SF', 'TIENE_REACTIVA_SF', 'TIENE_REACTIVA1_REACTIVA2_SF', 'TIENE_REACTIVA_CON_OTRA_EF', 'TIENE_REACTIVA_1_2_CON_OTRAS_EF', 'TIENE_SOLO_1_CREDITO_REACTIVA_SF', 'TRX_CAIDA_SEGUIDA_U3M_CASH_IN', 'TRX_CAIDA_10PERCENT_MES_ANTERIOR', 'TRX_CAIDA_20PERCENT_MES_ANTERIOR', 'TRX_CAIDA_30PERCENT_MES_ANTERIOR', 'TRX_CAIDA_40PERCENT_MES_ANTERIOR', 'TRX_CAIDA_50PERCENT_MES_ANTERIOR', 'TRX_SUBIDA_10PERCENT_MES_ANTERIOR', 'TRX_SUBIDA_20PERCENT_MES_ANTERIOR', 'TRX_SUBIDA_30PERCENT_MES_ANTERIOR', 'TRX_SUBIDA_40PERCENT_MES_ANTERIOR', 'TRX_SUBIDA_50PERCENT_MES_ANTERIOR', 'TRX_SUBIDA_SEGUIDA_U3M_CASH_IN', 'TRX_MENOR_CASH_IN_DE_U3M', 'TRX_MAYOR_CASH_IN_DE_U3M', 'TRX_CAIDA_SEGUIDA_O_NO_CASH_IN_U3M', 'NO_TIENE_TRX_COBRANZAS__MES_ACTUAL', 'NO_TIENE_TRX_DEPOSITOS__MES_ACTUAL', 'NO_TIENE_TRX_OPERACIONES_MESA__MES_ACTUAL', 'NO_TIENE_TRX_OTROS_NO_TABLERO_MES_ACTUAL', 'NO_TIENE_TRX_PAGOS_RECIBIDOS__MES_ACTUAL', 'NO_TIENE_TRX_POS__MES_ACTUAL', 'NO_TIENE_TRX_RECAUDACION__MES_ACTUAL', 'NO_TIENE_TRX_TRANSFERENCIAS__MES_ACTUAL', 'TIENE_SOLO_1_TIPO_CASH_IN_ACTIVO_ESTE_MES', 'TIENE_SOLO_2_TIPO_CASH_IN_ACTIVO_ESTE_MES', 'TIENE_SOLO_3_TIPO_CASH_IN_ACTIVO_ESTE_MES', '_aux_TIENE_TRX_COBRANZAS__U3M', '_aux_TRX_MENOR_COBRANZAS__DE_U3M', '_aux_TRX_CAIDA_SEGUIDA_COBRANZAS__U3M', '_aux_TRX_CAIDA_10PERCENT_COBRANZAS__MES_ANT', '_aux_TRX_CAIDA_20PERCENT_COBRANZAS__MES_ANT', '_aux_TRX_CAIDA_30PERCENT_COBRANZAS__MES_ANT', '_aux_TIENE_TRX_DEPOSITOS__U3M', '_aux_TRX_MENOR_DEPOSITOS__DE_U3M', '_aux_TRX_CAIDA_SEGUIDA_DEPOSITOS__U3M', '_aux_TRX_CAIDA_10PERCENT_DEPOSITOS__MES_ANT', '_aux_TRX_CAIDA_20PERCENT_DEPOSITOS__MES_ANT', '_aux_TRX_CAIDA_30PERCENT_DEPOSITOS__MES_ANT', '_aux_TIENE_TRX_OPERACIONES_MESA__U3M', '_aux_TRX_MENOR_OPERACIONES_MESA__DE_U3M', '_aux_TRX_CAIDA_SEGUIDA_OPERACIONES_MESA__U3M', '_aux_TRX_CAIDA_10PERCENT_OPERACIONES_MESA__MES_ANT', '_aux_TRX_CAIDA_20PERCENT_OPERACIONES_MESA__MES_ANT', '_aux_TRX_CAIDA_30PERCENT_OPERACIONES_MESA__MES_ANT', '_aux_TIENE_TRX_OTROS_NO_TABLERO_U3M', '_aux_TRX_MENOR_OTROS_NO_TABLERO_DE_U3M', '_aux_TRX_CAIDA_SEGUIDA_OTROS_NO_TABLERO_U3M', '_aux_TRX_CAIDA_10PERCENT_OTROS_NO_TABLERO_MES_ANT', '_aux_TRX_CAIDA_20PERCENT_OTROS_NO_TABLERO_MES_ANT', '_aux_TRX_CAIDA_30PERCENT_OTROS_NO_TABLERO_MES_ANT', '_aux_TIENE_TRX_PAGOS_RECIBIDOS__U3M', '_aux_TRX_MENOR_PAGOS_RECIBIDOS__DE_U3M', '_aux_TRX_CAIDA_SEGUIDA_PAGOS_RECIBIDOS__U3M', '_aux_TRX_CAIDA_10PERCENT_PAGOS_RECIBIDOS__MES_ANT', '_aux_TRX_CAIDA_20PERCENT_PAGOS_RECIBIDOS__MES_ANT', '_aux_TRX_CAIDA_30PERCENT_PAGOS_RECIBIDOS__MES_ANT', '_aux_TIENE_TRX_POS__U3M', '_aux_TRX_MENOR_POS__DE_U3M', '_aux_TRX_CAIDA_SEGUIDA_POS__U3M', '_aux_TRX_CAIDA_10PERCENT_POS__MES_ANT', '_aux_TRX_CAIDA_20PERCENT_POS__MES_ANT', '_aux_TRX_CAIDA_30PERCENT_POS__MES_ANT', '_aux_TIENE_TRX_RECAUDACION__U3M', '_aux_TRX_MENOR_RECAUDACION__DE_U3M', '_aux_TRX_CAIDA_SEGUIDA_RECAUDACION__U3M', '_aux_TRX_CAIDA_10PERCENT_RECAUDACION__MES_ANT', '_aux_TRX_CAIDA_20PERCENT_RECAUDACION__MES_ANT', '_aux_TRX_CAIDA_30PERCENT_RECAUDACION__MES_ANT', '_aux_TIENE_TRX_TRANSFERENCIAS__U3M', '_aux_TRX_MENOR_TRANSFERENCIAS__DE_U3M', '_aux_TRX_CAIDA_SEGUIDA_TRANSFERENCIAS__U3M', '_aux_TRX_CAIDA_10PERCENT_TRANSFERENCIAS__MES_ANT', '_aux_TRX_CAIDA_20PERCENT_TRANSFERENCIAS__MES_ANT', '_aux_TRX_CAIDA_30PERCENT_TRANSFERENCIAS__MES_ANT', 'cut_0_TIENE_EL_MISMO_NRO_TIPOS_CAHIN_EN_U3M', 'cut_1_DISMINUYO_1_TIPO_CASHIN_EN_U3M', 'cut_2_DISMINUYO_2_TIPO_CASHIN_EN_U3M', 'cut_1_TIENE_DISMINUCION_1_O_MAS_TIPOS_CASH_IN_U3M', 'cut_2_TIENE_DISMINUCION_2_O_MAS_TIPOS_CASH_IN_U3M', 'cut_3_TIENE_DISMINUCION_3_O_MAS_TIPOS_CASH_IN_U3M', 'cut_0_NINGUN_INGRESO_CASHIN_U3M', 'cut_1_TIENE_AL_MENOS_1_TIPO_CASHIN_ACTIVO_U3M', 'TIENE_TRX_OPERACIONES_MESA__CASH_OUT_MES_ACTUAL', 'TIENE_TRX_OTROS_NO_TABLERO_CASH_OUT_MES_ACTUAL', 'TIENE_TRX_PAGO_DE_SERVICIOS__CASH_OUT_MES_ACTUAL', 'TIENE_TRX_PAGOS_MASIVOS__CASH_OUT_MES_ACTUAL', 'TIENE_TRX_TRANSFERENCIAS__CASH_OUT_MES_ACTUAL', '_aux_TIENE_TRX_OPERACIONES_MESA__CASH_OUT_U3M', '_aux_TRX_CAIDA_SEGUIDA_OPERACIONES_MESA__U3M_CASH_OUT', '_aux_TRX_SUBIDA_SEGUIDA_OPERACIONES_MESA__U3M_CASH_OUT', '_aux_TRX_MENOR_OPERACIONES_MESA__DE_U3M_CASH_OUT', '_aux_TRX_MAYOR_OPERACIONES_MESA__DE_U3M_CASH_OUT', '_aux_TRX_CAIDA_10PERCENT_OPERACIONES_MESA__CASH_OUT_MES_ANT', '_aux_TRX_CAIDA_20PERCENT_OPERACIONES_MESA__CASH_OUT_MES_ANT', '_aux_TRX_CAIDA_30PERCENT_OPERACIONES_MESA__CASH_OUT_MES_ANT', '_aux_TRX_SUBIDA_10PERCENT_OPERACIONES_MESA__CASH_OUT_MES_ANT', '_aux_TRX_SUBIDA_20PERCENT_OPERACIONES_MESA__CASH_OUT_MES_ANT', '_aux_TRX_SUBIDA_30PERCENT_OPERACIONES_MESA__CASH_OUT_MES_ANT', '_aux_TIENE_TRX_OTROS_NO_TABLERO_CASH_OUT_U3M', '_aux_TRX_CAIDA_SEGUIDA_OTROS_NO_TABLERO_U3M_CASH_OUT', '_aux_TRX_SUBIDA_SEGUIDA_OTROS_NO_TABLERO_U3M_CASH_OUT', '_aux_TRX_MENOR_OTROS_NO_TABLERO_DE_U3M_CASH_OUT', '_aux_TRX_MAYOR_OTROS_NO_TABLERO_DE_U3M_CASH_OUT', '_aux_TRX_CAIDA_10PERCENT_OTROS_NO_TABLERO_CASH_OUT_MES_ANT', '_aux_TRX_CAIDA_20PERCENT_OTROS_NO_TABLERO_CASH_OUT_MES_ANT', '_aux_TRX_CAIDA_30PERCENT_OTROS_NO_TABLERO_CASH_OUT_MES_ANT', '_aux_TRX_SUBIDA_10PERCENT_OTROS_NO_TABLERO_CASH_OUT_MES_ANT', '_aux_TRX_SUBIDA_20PERCENT_OTROS_NO_TABLERO_CASH_OUT_MES_ANT', '_aux_TRX_SUBIDA_30PERCENT_OTROS_NO_TABLERO_CASH_OUT_MES_ANT', '_aux_TIENE_TRX_PAGO_DE_SERVICIOS__CASH_OUT_U3M', '_aux_TRX_CAIDA_SEGUIDA_PAGO_DE_SERVICIOS__U3M_CASH_OUT', '_aux_TRX_SUBIDA_SEGUIDA_PAGO_DE_SERVICIOS__U3M_CASH_OUT', '_aux_TRX_MENOR_PAGO_DE_SERVICIOS__DE_U3M_CASH_OUT', '_aux_TRX_MAYOR_PAGO_DE_SERVICIOS__DE_U3M_CASH_OUT', '_aux_TRX_CAIDA_10PERCENT_PAGO_DE_SERVICIOS__CASH_OUT_MES_ANT', '_aux_TRX_CAIDA_20PERCENT_PAGO_DE_SERVICIOS__CASH_OUT_MES_ANT', '_aux_TRX_CAIDA_30PERCENT_PAGO_DE_SERVICIOS__CASH_OUT_MES_ANT', '_aux_TRX_SUBIDA_10PERCENT_PAGO_DE_SERVICIOS__CASH_OUT_MES_ANT', '_aux_TRX_SUBIDA_20PERCENT_PAGO_DE_SERVICIOS__CASH_OUT_MES_ANT', '_aux_TRX_SUBIDA_30PERCENT_PAGO_DE_SERVICIOS__CASH_OUT_MES_ANT', '_aux_TIENE_TRX_PAGOS_MASIVOS__CASH_OUT_U3M', '_aux_TRX_CAIDA_SEGUIDA_PAGOS_MASIVOS__U3M_CASH_OUT', '_aux_TRX_SUBIDA_SEGUIDA_PAGOS_MASIVOS__U3M_CASH_OUT', '_aux_TRX_MENOR_PAGOS_MASIVOS__DE_U3M_CASH_OUT', '_aux_TRX_MAYOR_PAGOS_MASIVOS__DE_U3M_CASH_OUT', '_aux_TRX_CAIDA_10PERCENT_PAGOS_MASIVOS__CASH_OUT_MES_ANT', '_aux_TRX_CAIDA_20PERCENT_PAGOS_MASIVOS__CASH_OUT_MES_ANT', '_aux_TRX_CAIDA_30PERCENT_PAGOS_MASIVOS__CASH_OUT_MES_ANT', '_aux_TRX_SUBIDA_10PERCENT_PAGOS_MASIVOS__CASH_OUT_MES_ANT', '_aux_TRX_SUBIDA_20PERCENT_PAGOS_MASIVOS__CASH_OUT_MES_ANT', '_aux_TRX_SUBIDA_30PERCENT_PAGOS_MASIVOS__CASH_OUT_MES_ANT', '_aux_TIENE_TRX_TRANSFERENCIAS__CASH_OUT_U3M', '_aux_TRX_CAIDA_SEGUIDA_TRANSFERENCIAS__U3M_CASH_OUT', '_aux_TRX_SUBIDA_SEGUIDA_TRANSFERENCIAS__U3M_CASH_OUT', '_aux_TRX_MENOR_TRANSFERENCIAS__DE_U3M_CASH_OUT', '_aux_TRX_MAYOR_TRANSFERENCIAS__DE_U3M_CASH_OUT', '_aux_TRX_CAIDA_10PERCENT_TRANSFERENCIAS__CASH_OUT_MES_ANT', '_aux_TRX_CAIDA_20PERCENT_TRANSFERENCIAS__CASH_OUT_MES_ANT', '_aux_TRX_CAIDA_30PERCENT_TRANSFERENCIAS__CASH_OUT_MES_ANT', '_aux_TRX_SUBIDA_10PERCENT_TRANSFERENCIAS__CASH_OUT_MES_ANT', '_aux_TRX_SUBIDA_20PERCENT_TRANSFERENCIAS__CASH_OUT_MES_ANT', '_aux_TRX_SUBIDA_30PERCENT_TRANSFERENCIAS__CASH_OUT_MES_ANT', '_aux_TIENE_TRX_TOTAL_CASH_OUT_U3M', '_aux_TRX_CAIDA_SEGUIDA_TOTAL_U3M_CASH_OUT', '_aux_TRX_SUBIDA_SEGUIDA_TOTAL_U3M_CASH_OUT', '_aux_TRX_MENOR_TOTAL_DE_U3M_CASH_OUT', '_aux_TRX_MAYOR_TOTAL_DE_U3M_CASH_OUT', '_aux_TRX_CAIDA_10PERCENT_TOTAL_CASH_OUT_MES_ANT', '_aux_TRX_CAIDA_20PERCENT_TOTAL_CASH_OUT_MES_ANT', '_aux_TRX_CAIDA_30PERCENT_TOTAL_CASH_OUT_MES_ANT', '_aux_TRX_SUBIDA_10PERCENT_TOTAL_CASH_OUT_MES_ANT', '_aux_TRX_SUBIDA_20PERCENT_TOTAL_CASH_OUT_MES_ANT', '_aux_TRX_SUBIDA_30PERCENT_TOTAL_CASH_OUT_MES_ANT', 'TRX_CAIDA_10PERCENT_TOTAL_CASH_OUT_MES_ANT', 'TRX_CAIDA_20PERCENT_TOTAL_CASH_OUT_MES_ANT', 'TRX_CAIDA_30PERCENT_TOTAL_CASH_OUT_MES_ANT', 'TRX_CAIDA_40PERCENT_TOTAL_CASH_OUT_MES_ANT', 'TRX_SUBIDA_40PERCENT_TOTAL_CASH_OUT_MES_ANT', 'TRX_SUBIDA_30PERCENT_TOTAL_CASH_OUT_MES_ANT', 'TRX_SUBIDA_20PERCENT_TOTAL_CASH_OUT_MES_ANT', 'TRX_SUBIDA_10PERCENT_TOTAL_CASH_OUT_MES_ANT', 'cut_0_NO_DISMINUYO_TIPOS_CASH_OUT_U3M', 'cut_1_DISMINUYO_1_TIPOS_CASH_OUT_U3M', 'cut_2_DISMINUYO_1_TIPOS_CASH_OUT_U3M', 'TIENE_DISMINUCION_1_O_MAS_TIPOS_CASH_OUT_U3M', 'TIENE_DISMINUCION_2_O_MAS_TIPOS_CASH_OUT_U3M', 'TIENE_DISMINUCION_3_O_MAS_TIPOS_CASH_OUT_U3M', 'cut_01_INGRESO_SUPERA_EGGRESO_SOLO_EN_10PERCENT_O_MENOS', 'cut_02_INGRESO_SUPERA_EGGRESO_SOLO_EN_20PERCENT_O_MENOS', 'cut_09_EGRESO_SUPERA_INGRESO_EN_10PERCENT_O_MAS', 'cut_08_EGRESO_SUPERA_INGRESO_EN_20PERCENT_O_MAS', 'cut_07_EGRESO_SUPERA_INGRESO_EN_30PERCENT_O_MAS', 'cut_06_EGRESO_SUPERA_INGRESO_EN_40PERCENT_O_MAS', 'TRX_DIFF_CASHIN_CASHOUT_MENOR_DE_U3M', 'R_Septile_cut_1.0', 'R_Septile_cut_3.0', 'R_Septile_cut_4.0', 'R_Septile_cut_5.0', 'R_Septile_cut_6.0', 'R_Septile_cut_7.0', 'R_Septile_cut_nan', 'F_Septile_cut_1.0', 'F_Septile_cut_2.0', 'F_Septile_cut_3.0', 'F_Septile_cut_4.0', 'F_Septile_cut_5.0', 'F_Septile_cut_6.0', 'F_Septile_cut_7.0', 'F_Septile_cut_nan', 'M_Septile_cut_1.0', 'M_Septile_cut_2.0', 'M_Septile_cut_3.0', 'M_Septile_cut_4.0', 'M_Septile_cut_5.0', 'M_Septile_cut_6.0', 'M_Septile_cut_7.0', 'M_Septile_cut_nan', 'IS_NORMAL_IBK_SBS', 'cambio_seguir_covid', 'target_seguircovid_reducir_salir', 'cuasi_target_preocupa', 'NRO_BANCOS_CON_MAYOR_SOW_ULT_RCC', 'NRO_BANCOS_CON_MENOR_SOW_ULT_RCC', 'TIENE_2_O_MAS_BANCOS_CON_MAYOR_SOW_ULT_RCC', 'TIENE_3_O_MAS_BANCOS_CON_MAYOR_SOW_ULT_RCC', 'TIENE_1_O_MAS_BANCOS_CON_MAYOR_SOW_ULT_RCC', 'TIENE_DEUDA_REFINANCIADO_IBK', 'TIENE_DEUDA_VENCIDO_IBK', 'TIENE_DEUDA_VIGENTE_IBK', 'TIENE_VIEGNTE_VENCIDO_IBK', 'TIENE_DEUDA_JUDICIAL_RCC', 'TIENE_DEUDA_REFINANCIADO_RCC', 'TIENE_DEUDA_VENCIDO_RCC', 'TIENE_DEUDA_VIGENTE_RCC', 'TIENE_VIEGNTE_VENCIDO_RCC', 'TIENE_DEUDA_COMEX_VENCIDO_RCC', 'TIENE_DEUDA_COMEX_VIGENTE_RCC', 'TIENE_DEUDA_DESCUENTOS_VENCIDO_RCC', 'TIENE_DEUDA_DESCUENTOS_VIGENTE_RCC', 'TIENE_DEUDA_FACTORING_VENCIDO_RCC', 'TIENE_DEUDA_FACTORING_VIGENTE_RCC', 'TIENE_DEUDA_LEASING_VENCIDO_RCC', 'TIENE_DEUDA_LEASING_VIGENTE_RCC', 'TIENE_DEUDA_OTROS_VENCIDO_RCC', 'TIENE_DEUDA_OTROS_VIGENTE_RCC', 'TIENE_DEUDA_PRESTAMOS_VENCIDO_RCC', 'TIENE_DEUDA_PRESTAMOS_VIGENTE_RCC', 'TIENE_DEUDA_TARJETAS_DE_CREDITO_VENCIDO_RCC', 'TIENE_DEUDA_TARJETAS_DE_CREDITO_VIGENTE_RCC', 'NRO_PROD_DEUDA_VIGENTE_SF_ULT_RCC', 'NRO_PROD_DEUDA_VENCIDO_SF_ULT_RCC', 'TIENE_LEASING_Y_COMEX_VIGENTES_SF_ULT_RCC', 'TIENE_OTROS_Y_COMEX_VIGENTES_SF_ULT_RCC', 'TIENE_OTROS_Y_LEASING_VIGENTES_SF_ULT_RCC', 'TIENE_PRESTAMOS_Y_COMEX_VIGENTES_SF_ULT_RCC', 'TIENE_PRESTAMOS_Y_LEASING_VIGENTES_SF_ULT_RCC', 'TIENE_PRESTAMOS_COMEX_Y_LEASING_VIGENTES_SF_ULT_RCC', 'TIENE_TARJETACREDIT_Y_COMEX_VIGENTES_SF_ULT_RCC', 'TIENE_TARJETACREDIT__Y_LEASING_VIGENTES_SF_ULT_RCC', 'TIENE_TARJETACREDIT_S_COMEX_Y_LEASING_VIGENTES_SF_ULT_RCC', 'TIENE_PRESTAMOS_Y__TARJETACREDIT_VIGENTES_SF_ULT_RCC', 'TIENE_EN_OTRAENTIDAD_DEBT_COMEX_VENCIDO_SF_ULT_RCC', 'TIENE_EN_OTRAENTIDAD_DEBT_COMEX_VIGENTE_SF_ULT_RCC', 'TIENE_EN_OTRAENTIDAD_DEBT_DESCUENTOS_VENCIDO_SF_ULT_RCC', 'TIENE_EN_OTRAENTIDAD_DEBT_DESCUENTOS_VIGENTE_SF_ULT_RCC', 'TIENE_EN_OTRAENTIDAD_DEBT_FACTORING_VENCIDO_SF_ULT_RCC', 'TIENE_EN_OTRAENTIDAD_DEBT_FACTORING_VIGENTE_SF_ULT_RCC', 'TIENE_EN_OTRAENTIDAD_DEBT_LEASING_VENCIDO_SF_ULT_RCC', 'TIENE_EN_OTRAENTIDAD_DEBT_LEASING_VIGENTE_SF_ULT_RCC', 'TIENE_EN_OTRAENTIDAD_DEBT_OTROS_VENCIDO_SF_ULT_RCC', 'TIENE_EN_OTRAENTIDAD_DEBT_OTROS_VIGENTE_SF_ULT_RCC', 'TIENE_EN_OTRAENTIDAD_DEBT_PRESTAMOS_VENCIDO_SF_ULT_RCC', 'TIENE_EN_OTRAENTIDAD_DEBT_PRESTAMOS_VIGENTE_SF_ULT_RCC', 'TIENE_EN_OTRAENTIDAD_DEBT_TARJETAS_DE_CREDITO_VENCIDO_SF_ULT_RCC', 'TIENE_EN_OTRAENTIDAD_DEBT_TARJETAS_DE_CREDITO_VIGENTE_SF_ULT_RCC', 'NRO_PROD_OTRA_ENTIDAD_DEUDAS_VENCIDO_SF_ULT_RCC', 'NRO_PROD_OTRA_ENTIDAD_DEUDA_VIGENTE_SF_ULT_RCC', 'TIENE_OTRA_ENTIDAD_TARJETACREDIT_Y_COMEX_VIGENTES_SF_ULT_RCC', 'TIENE__OTRA_ENTIDAD_TARJETACREDIT__Y_LEASING_VIGENTES_SF_ULT_RCC', 'TIENE__OTRA_ENTIDAD_TARJETACREDIT_S_COMEX_Y_LEASING_VIGENTES_SF_ULT_RCC', 'TIENE__OTRA_ENTIDAD_PRESTAMOS_Y__TARJETACREDIT_VIGENTES_SF_ULT_RCC', 'TIENE_OTRA_ENTIDAD_PRESTAMOS_Y_COMEX_VIGENTES_SF_ULT_RCC', 'TIENE__OTRA_ENTIDAD_PRESTAMOS__Y_LEASING_VIGENTES_SF_ULT_RCC', 'TIENE__OTRA_ENTIDAD_PRESTAMOS_S_COMEX_Y_LEASING_VIGENTES_SF_ULT_RCC', 'NRO_BANCOS_PRIN_DEUDASF_ULT_RCC', 'NRO_BANCOS_MONTO_DEUDA_MAYOR_QUE_IBKSF_ULT_RCC', 'NRO_BANCOS_PRIN_CON_DIAS_ATRASOSF_ULT_RCC', 'NRO_BANCOS_PRIN_CON_DIAS_ATRASO_MAYOR_A_IBKSF_ULT_RCC', 'TIENE_DEBT_MTOSALDO_IBK_SF_U3M', 'DEBT_CAIDA_SEGUIDA_MTOSALDO_IBK_U3M_SF', 'DEBT_SUBIDA_SEGUIDA_MTOSALDO_IBK_U3M_SF', 'DEBT_MENOR_MTOSALDO_IBK_DE_U3M_SF', 'DEBT_MAYOR_MTOSALDO_IBK_DE_U3M_SF', 'DEBT_NO_MTOSALDO_IBK_SF_ESTE_MES', 'DEBT_NO_MTOSALDO_IBK_SF_U2M', 'DEBT_NO_MTOSALDO_IBK_SF_U3M', 'DEBT_CAIDA_20PERCENT_MTOSALDO_IBK_SF_U3M', 'DEBT_CAIDA_30PERCENT_MTOSALDO_IBK_SF_U3M', 'DEBT_CAIDA_10PERCENT_MTOSALDO_IBK_SF_U3M', 'DEBT_SUBIDA_20PERCENT_MTOSALDO_IBK_SF_U3M', 'DEBT_SUBIDA_30PERCENT_MTOSALDO_IBK_SF_U3M', 'DEBT_SUBIDA_10PERCENT_MTOSALDO_IBK_SF_U3M', 'NRO_BANCOS_DEBT_MENOR_DE_U3M', 'NRO_BANCOS_DEBT_MAYOR_DE_U3M', 'NRO_BANCOS_DEBT_CAIDA_SEGUIDA_DE_U3M', 'NRO_BANCOS_DEBT_SUBIDA_SEGUIDA_DE_U3M', 'NRO_BANCOS_NOIBK_DEBT_MENOR_DE_U3M', 'NRO_BANCOS_NOIBK_DEBT_MAYOR_DE_U3M', 'NRO_BANCOS_NOIBK_DEBT_CAIDA_SEGUIDA_DE_U3M', 'NRO_BANCOS_NOIBK_DEBT_SUBIDA_SEGUIDA_DE_U3M', 'NRO_BANCOS_NOIBK_CAIDA_10PERCENT_MES_ANT', 'NRO_BANCOS_NOIBK_CAIDA_20PERCENT_MES_ANT', 'NRO_BANCOS_NOIBK_CAIDA_30PERCENT_MES_ANT', 'NRO_BANCOS_NOIBK_SUBIDA_10PERCENT_MES_ANT', 'NRO_BANCOS_NOIBK_SUBIDA_20PERCENT_MES_ANT', 'NRO_BANCOS_NOIBK_SUBIDA_30PERCENT_MES_ANT', 'DEBT_TOTAL_CAIDA_20PERCENT_MES_ANT', 'DEBT_TOTAL_CAIDA_30PERCENT_MES_ANT', 'DEBT_TOTAL_CAIDA_10PERCENT_MES_ANT', 'DEBT_TOTAL_SUBIDA_20PERCENT_MES_ANT', 'DEBT_TOTAL_SUBIDA_30PERCENT_MES_ANT', 'DEBT_TOTAL_SUBIDA_10PERCENT_MES_ANT', 'DEBT_TOTAL_SUBIDA_40PERCENT_MES_ANT', 'DEBT_TOTAL_SUBIDA_50PERCENT_MES_ANT', 'VARIAICION_NRO_BANCOS_PRIN_DEBT_u12m', 'VARIAICION_NRO_BANCOS_CIERRE_2019', 'VARIAICION_NRO_BANCOS_CON_MINIMO_U12M', 'COVID_TIENES_PENSADO_O_ESTAS_HACIENDO_INVERSIONES', 'TIENE_ADEX_AGRO_TRADICIONAL_EXP', 'TIENE_ADEX_AGRO_TRADICIONAL_IMP', 'TIENE_ADEX_AGROPECUARIO_Y_AGROINDUSTRIAS_EXP', 'TIENE_ADEX_AGROPECUARIO_Y_AGROINDUSTRIAS_IMP', 'TIENE_ADEX_MADERAS_EXP', 'TIENE_ADEX_MADERAS_IMP', 'TIENE_ADEX_METAL_-_MECANICO_EXP', 'TIENE_ADEX_METAL_-_MECANICO_IMP', 'TIENE_ADEX_MINERIA_NO_METALICA_EXP', 'TIENE_ADEX_MINERIA_NO_METALICA_IMP', 'TIENE_ADEX_MINERIA_TRADICIONAL_EXP', 'TIENE_ADEX_MINERIA_TRADICIONAL_IMP', 'TIENE_ADEX_PESCA_EXP', 'TIENE_ADEX_PESCA_IMP', 'TIENE_ADEX_PESCA_TRADICIONAL_EXP', 'TIENE_ADEX_PESCA_TRADICIONAL_IMP', 'TIENE_ADEX_PETROLEO_Y_GAS_NATURAL_EXP', 'TIENE_ADEX_PETROLEO_Y_GAS_NATURAL_IMP', 'TIENE_ADEX_PRENDAS_DE_VESTIR_EXP', 'TIENE_ADEX_PRENDAS_DE_VESTIR_IMP', 'TIENE_ADEX_QUIMICO_EXP', 'TIENE_ADEX_QUIMICO_IMP', 'TIENE_ADEX_SIDERURGICO_Y_METALURGICO_EXP', 'TIENE_ADEX_SIDERURGICO_Y_METALURGICO_IMP', 'TIENE_ADEX_TEXTIL_EXP', 'TIENE_ADEX_TEXTIL_IMP', 'TIENE_ADEX_VARIOS_EXP', 'TIENE_ADEX_VARIOS_IMP', 'TIENE_ADEX_AFRICA_EXP', 'TIENE_ADEX_AFRICA_IMP', 'TIENE_ADEX_AMERICA_CENTRAL_EXP', 'TIENE_ADEX_AMERICA_CENTRAL_IMP', 'TIENE_ADEX_AMERICA_DEL_NORTE_EXP', 'TIENE_ADEX_AMERICA_DEL_NORTE_IMP', 'TIENE_ADEX_AMERICA_DEL_SUR_EXP', 'TIENE_ADEX_AMERICA_DEL_SUR_IMP', 'TIENE_ADEX_ASIA_EXP', 'TIENE_ADEX_ASIA_IMP', 'TIENE_ADEX_EUROPA_EXP', 'TIENE_ADEX_EUROPA_IMP', 'TIENE_ADEX_OCEANIA_EXP', 'TIENE_ADEX_OCEANIA_IMP', 'TIENE_ADEX_EXP', 'TIENE_ADEX_IMP', 'ADEX_CAIDA_SEGUIDA_U3M_EXP', 'ADEX_CAIDA_20PERCENT_MES_ANT_EXP', 'ADEX_CAIDA_30PERCENT_MES_ANT_EXP', 'ADEX_CAIDA_40PERCENT_MES_ANT_EXP', 'ADEX_CAIDA_50PERCENT_MES_ANT_EXP', 'ADEX_SUBIDA_SEGUIDA_U3M_EXP', 'ADEX_MENOR_U3M_EXP', 'ADEX_MAYOR_U3M_EXP', 'ADEX_CAIDA_SEGUIDA_U3M_IMP', 'ADEX_CAIDA_20PERCENT_MES_ANT_IMP', 'ADEX_CAIDA_30PERCENT_MES_ANT_IMP', 'ADEX_CAIDA_40PERCENT_MES_ANT_IMP', 'ADEX_CAIDA_50PERCENT_MES_ANT_IMP', 'ADEX_SUBIDA_SEGUIDA_U3M_IMP', 'ADEX_MENOR_U3M_IMP', 'ADEX_MAYOR_U3M_IMP', 'COVID_ACOGIO_SUSPENSION_PERFECTA_SI', 'COVID_P_1_TE_AFECTO_COVID_SI', 'ES_ACTIVO_S', 'BACKLOG__No Aplica', 'BACKLOG__Proyectos', 'BACKLOG__Servicios', 'ZONAL__BEL ZONAL 1', 'ZONAL__BEL ZONAL 2', 'ZONAL__BEL ZONAL 3', 'ZONAL__BEP ZONAL 1', 'ZONAL__BEP ZONAL 2', 'ZONAL__BEP ZONAL 3', 'TICKET_PROMEDIO_EN_RIESGO__Bucket 1 - 157.2 M', 'TICKET_PROMEDIO_EN_RIESGO__Bucket 2 - 1.0 MM', 'TICKET_PROMEDIO_EN_RIESGO__Bucket 3 - 2.5 MM', 'TICKET_PROMEDIO_EN_RIESGO__Bucket 4 - 6.7 MM', 'CLASIF_SBS__DEFICIENTE', 'CLASIF_SBS__DUDOSO', 'CLASIF_SBS__MULO', 'CLASIF_SBS__NORMAL', 'CLASIF_SBS__P.POTENCIAL', 'CLASIF_SBS__PERDIDA', 'LUGAR__CALLAO', 'LUGAR__LIMA', 'LUGAR__PROVINCIA', 'IMPACTO_COVID_FICHA__alto', 'IMPACTO_COVID_FICHA__bajo', 'IMPACTO_COVID_FICHA__medio', 'IMPACTO_COVID_FICHA__sin impacto', 'ACTIVIDAD__Agrícola y Ganadero', 'ACTIVIDAD__Comercio', 'ACTIVIDAD__Construcción', 'ACTIVIDAD__Energía', 'ACTIVIDAD__Industria', 'ACTIVIDAD__Minería', 'ACTIVIDAD__Pesca', 'ACTIVIDAD__Publicidad', 'ACTIVIDAD__Real Estate', 'ACTIVIDAD__Servicios', 'ACTIVIDAD__Transporte', 'SEI_MCDO__AGROPECUARIO', 'SEI_MCDO__AUTOMOTRIZ VEHÍCULOS', 'SEI_MCDO__COMERCIO', 'SEI_MCDO__CONSTRUCCIÓN', 'SEI_MCDO__EDUCACIÓN', 'SEI_MCDO__ENERGÍA', 'SEI_MCDO__ESTADO', 'SEI_MCDO__HIDROCARBUROS', 'SEI_MCDO__INDUSTRIA', 'SEI_MCDO__INMOBILIARIO', 'SEI_MCDO__MINERÍA', 'SEI_MCDO__OTROS', 'SEI_MCDO__PESCA', 'SEI_MCDO__RESTAURANTES', 'SEI_MCDO__SERVICIOS', 'SEI_MCDO__TELECOMUNICACIONES', 'SEI_MCDO__TEXTIL', 'SEI_MCDO__TRANSPORTE', 'SEI_MCDO__TURISMO Y HOSPEDAJE', 'cut_letal_SUBSECTOR', 'cut_deCuidado_SUBSECTOR', 'cut_letal_ACTIVIDAD', '_1_cut_up_MAX_DIAS_ATRASO_SFSF_ULT_RCC', '_3_cut_up_MAX_DIAS_ATRASO_SFSF_ULT_RCC', '_4_cut_up_MAX_DIAS_ATRASO_SFSF_ULT_RCC', '_0.5_cut_up_SOW_OTROSBCOS_ULT_RCC', '_0.6_cut_up_SOW_OTROSBCOS_ULT_RCC', '_0.7_cut_up_SOW_OTROSBCOS_ULT_RCC', '_0.9_cut_up_SOW_OTROSBCOS_ULT_RCC', '_9_cut_up__intFM_category_septil', '_16_cut_up__intFM_category_septil', '_25_cut_up__intFM_category_septil', '_30_cut_up__intFM_category_septil', '_36_cut_up__intFM_category_septil', '_48_cut_up__intFM_category_septil', '_1_cut_up_CANTIDAD_TRX_CASH_OUT_PERCENT', '_2_cut_up_BUCKET', '_3_cut_up_BUCKET', '_4_cut_up_BUCKET', '_9_cut_up__int_FM_category_quartil', '_12_cut_up__int_FM_category_quartil', '_16_cut_up__int_FM_category_quartil', '_0.001_cut_down_COVER_GAR_AUTO_ULT_RCC', '_0.005_cut_down_COVER_GAR_AUTO_ULT_RCC', '_0.05_cut_down_COVER_GAR_AUTO_ULT_RCC', '_0.1_cut_down_COVER_GAR_AUTO_ULT_RCC', '_0.2_cut_down_COVER_GAR_AUTO_ULT_RCC', '_0.3_cut_down_COVER_GAR_AUTO_ULT_RCC', '_0.4_cut_down_COVER_GAR_AUTO_ULT_RCC', '_0.5_cut_down_COVER_GAR_AUTO_ULT_RCC', '_0.6_cut_down_COVER_GAR_AUTO_ULT_RCC', '_0.7_cut_down_COVER_GAR_AUTO_ULT_RCC', '_0.8_cut_down_COVER_GAR_AUTO_ULT_RCC', '_0.9_cut_down_COVER_GAR_AUTO_ULT_RCC', '_0.005_cut_down_COVER_GAR_AUTO_HIPO_PREN_ULT_RCC', '_0.1_cut_down_COVER_GAR_AUTO_HIPO_PREN_ULT_RCC', '_0.15_cut_down_COVER_GAR_AUTO_HIPO_PREN_ULT_RCC', '_0.2_cut_down_COVER_GAR_AUTO_HIPO_PREN_ULT_RCC', '_0.3_cut_down_COVER_GAR_AUTO_HIPO_PREN_ULT_RCC', '_0.4_cut_down_COVER_GAR_AUTO_HIPO_PREN_ULT_RCC', '_0.5_cut_down_COVER_GAR_AUTO_HIPO_PREN_ULT_RCC', '_0.6_cut_down_CEF_CAPITAL_TRABAJO_VAR', '_0.4_cut_down_CEF_CAPITAL_TRABAJO_VAR', '_0.3_cut_down_CEF_CAPITAL_TRABAJO_VAR', '_0.5_cut_down_CEF_CAPITAL_TRABAJO_VAR', '_0.999_cut_up_CEF_ROTACION_CTASXCOBRAR_VAR', '_0.8_cut_up_CEF_ROTACION_CTASXCOBRAR_VAR', '_0.9_cut_up_CEF_ROTACION_CTASXCOBRAR_VAR', '_1.1_cut_up_CEF_ROTACION_CTASXCOBRAR_VAR', '_2_cut_up_CEF_ROTACION_CTASXCOBRAR_VAR', '_0.9_cut_up_CEF_DTOTAL_S_VENTAS_VAR', '_1.5_cut_up_CEF_DTOTAL_S_VENTAS_VAR', '_1_cut_up_CEF_DTOTAL_S_VENTAS_VAR', '_2_cut_up_CEF_DTOTAL_S_VENTAS_VAR', '_2_cut_up_CEF_ROTACION_INVENTARIOS', '_5_cut_up_CEF_ROTACION_INVENTARIOS', '_10_cut_up_CEF_ROTACION_INVENTARIOS', '_100_cut_up_CEF_ROTACION_INVENTARIOS', '_150_cut_up_CEF_ROTACION_INVENTARIOS', '_200_cut_up_CEF_ROTACION_INVENTARIOS', '_420_cut_up_CEF_ROTACION_INVENTARIOS', '_0.6_cut_up_CEF_ENDEUDAMIENTO_PAS_VEN_VAR', '_0.8_cut_up_CEF_ENDEUDAMIENTO_PAS_VEN_VAR', '_1.2_cut_up_CEF_ENDEUDAMIENTO_PAS_VEN_VAR', '_1.5_cut_up_CEF_ENDEUDAMIENTO_PAS_VEN_VAR', '_0.9_cut_up_CEF_ENDEUDAMIENTO_PAS_VEN_VAR', '_1_cut_up_CEF_ENDEUDAMIENTO_PAS_VEN_VAR', '_-20_cut_down_COVID_P_5_VARIACION_PORCENTUAL_VENTAS_2020_2019', '_-10_cut_down_COVID_P_5_VARIACION_PORCENTUAL_VENTAS_2020_2019', '_0_cut_down_COVID_P_5_VARIACION_PORCENTUAL_VENTAS_2020_2019', '_0.89_cut_down_CEF_ROTACION_CTASXPAGAR_VAR', '_0.7_cut_down_CEF_ROTACION_CTASXPAGAR_VAR', '_0.8_cut_down_CEF_ROTACION_CTASXPAGAR_VAR', '_1_cut_down_CEF_ROTACION_CTASXPAGAR_VAR', '_1.5_cut_down_CEF_ROTACION_CTASXPAGAR_VAR', '_5_cut_down_CEF_ROTACION_CTASXPAGAR_VAR', '_0.8_cut_up_CEF_DTOTAL_S_EBITDA_VAR', '_0.7_cut_up_CEF_DTOTAL_S_EBITDA_VAR', '_0.9_cut_up_CEF_DTOTAL_S_EBITDA_VAR', '_1_cut_up_CEF_DTOTAL_S_EBITDA_VAR', '_1.5_cut_up_CEF_DTOTAL_S_EBITDA_VAR', '_2_cut_up_CEF_DTOTAL_S_EBITDA_VAR', '_1_cut_up_NUM_BANCOS_MONTO_DEUDA_MAYOR_QUE_IBKSF_ULT_RCC', '_2_cut_up_NUM_BANCOS_MONTO_DEUDA_MAYOR_QUE_IBKSF_ULT_RCC', '_3_cut_up_NUM_BANCOS_MONTO_DEUDA_MAYOR_QUE_IBKSF_ULT_RCC', '_4_cut_up_NUM_BANCOS_MONTO_DEUDA_MAYOR_QUE_IBKSF_ULT_RCC', '_3_cut_up_CEF_DTOTAL_S_EBITDA_VAR', '_5_cut_up_CEF_DTOTAL_S_EBITDA_VAR', '_6_cut_up_CEF_DTOTAL_S_EBITDA_VAR', '_7_cut_up_CEF_DTOTAL_S_EBITDA_VAR', '_1_cut_down_NUM_VECES_REACTIVA_SF', '_2_cut_down_NUM_VECES_REACTIVA_SF', '_1_cut_up_NUM_VECES_REACTIVA_SF', '_0.2_cut_down_SOW_IBK_MAX_historia', '_0.1_cut_down_SOW_IBK_MAX_historia', '_0.3_cut_down_SOW_IBK_MAX_historia', '_0.25_cut_down_SOW_IBK_MAX_historia', '_0.35_cut_down_SOW_IBK_MAX_historia', '_0.005_cut_down_SOW_IBK_MAX_historia', '_0.1_cut_down_SOW_IBK_MIN_historia', '_0.05_cut_down_SOW_IBK_MIN_historia', '_0.15_cut_down_SOW_IBK_MIN_historia', '_0.2_cut_down_SOW_IBK_MIN_historia', '_0.3_cut_down_SOW_IBK_MIN_historia', '_3_cut_up_R_Quartile', '_4_cut_up_R_Quartile', '_4_cut_up_R_Septile', '_5_cut_up_R_Septile', '_6_cut_up_R_Septile', '_7_cut_up_R_Septile', '_4_cut_up_M_Septile', '_5_cut_up_M_Septile', '_6_cut_up_M_Septile', '_7_cut_up_M_Septile', '_4_cut_up_F_Septile', '_5_cut_up_F_Septile', '_6_cut_up_F_Septile', '_7_cut_up_F_Septile', '_10_cut_up_CEF_ROTACION_CTASXPAGAR', '_50_cut_up_CEF_ROTACION_CTASXPAGAR', '_100_cut_up_CEF_ROTACION_CTASXPAGAR', '_205_cut_up_CEF_ROTACION_CTASXPAGAR', '_0.1_cut_down_SOW_IBK_ULT_RCC', '_0.15_cut_down_SOW_IBK_ULT_RCC', '_0.2_cut_down_SOW_IBK_ULT_RCC', '_0.4_cut_up_SOW_IBK_ULT_RCC', '_0.5_cut_up_SOW_IBK_ULT_RCC', '_0.6_cut_up_SOW_IBK_ULT_RCC', '_0.7_cut_up_SOW_IBK_ULT_RCC', '_0.83_cut_down_PERCENT_COL_DIRECTAS_SF_MAX_historia', '_0.85_cut_down_PERCENT_COL_DIRECTAS_SF_MAX_historia', '_0.9_cut_down_PERCENT_COL_DIRECTAS_SF_MAX_historia', '_0.95_cut_down_PERCENT_COL_DIRECTAS_SF_MAX_historia', '_1_cut_up_NUM_BANCOS_NOIBK_DEBT_MAYOR_DE_U3M', '_2_cut_up_NUM_BANCOS_NOIBK_DEBT_MAYOR_DE_U3M', '_3_cut_up_NUM_BANCOS_NOIBK_DEBT_MAYOR_DE_U3M', '_1_cut_up_NUM_VECES_REACTIVA_IBK', '_2_cut_up_NUM_VECES_REACTIVA_IBK', '_2_cut_up_NUM_VECES_REACTIVA_SF', '_3_cut_up_NUM_VECES_REACTIVA_SF', '_1_cut_up_cut_0_TIENE_EL_MISMO_NUM_TIPOS_CAHIN_EN_U3M', '_1_cut_up_NUM_BANCOS_CON_MAYOR_SOW_ULT_RCC', '_2_cut_up_NUM_BANCOS_CON_MAYOR_SOW_ULT_RCC', '_3_cut_up_NUM_BANCOS_CON_MAYOR_SOW_ULT_RCC', '_1_cut_up_NUM_BANCOS_CON_MENOR_SOW_ULT_RCC', '_2_cut_up_NUM_BANCOS_CON_MENOR_SOW_ULT_RCC', '_3_cut_up_NUM_BANCOS_CON_MENOR_SOW_ULT_RCC', '_1_cut_up_NUM_PROD_DEUDA_VIGENTE_SF_ULT_RCC', '_2_cut_up_NUM_PROD_DEUDA_VIGENTE_SF_ULT_RCC', '_3_cut_up_NUM_PROD_DEUDA_VIGENTE_SF_ULT_RCC', '_1_cut_up_NUM_PROD_DEUDA_VENCIDO_SF_ULT_RCC', '_2_cut_up_NUM_PROD_DEUDA_VENCIDO_SF_ULT_RCC', '_3_cut_up_NUM_PROD_DEUDA_VENCIDO_SF_ULT_RCC', '_1_cut_up_NUM_PROD_OTRA_ENTIDAD_DEUDAS_VENCIDO_SF_ULT_RCC', '_2_cut_up_NUM_PROD_OTRA_ENTIDAD_DEUDAS_VENCIDO_SF_ULT_RCC', '_3_cut_up_NUM_PROD_OTRA_ENTIDAD_DEUDAS_VENCIDO_SF_ULT_RCC', '_1_cut_up_NUM_PROD_OTRA_ENTIDAD_DEUDA_VIGENTE_SF_ULT_RCC', '_2_cut_up_NUM_PROD_OTRA_ENTIDAD_DEUDA_VIGENTE_SF_ULT_RCC', '_3_cut_up_NUM_PROD_OTRA_ENTIDAD_DEUDA_VIGENTE_SF_ULT_RCC', '_1_cut_up_NUM_BANCOS_PRIN_DEUDASF_ULT_RCC', '_2_cut_up_NUM_BANCOS_PRIN_DEUDASF_ULT_RCC', '_3_cut_up_NUM_BANCOS_PRIN_DEUDASF_ULT_RCC', '_1_cut_up_NUM_BANCOS_PRIN_CON_DIAS_ATRASOSF_ULT_RCC', '_2_cut_up_NUM_BANCOS_PRIN_CON_DIAS_ATRASOSF_ULT_RCC', '_3_cut_up_NUM_BANCOS_PRIN_CON_DIAS_ATRASOSF_ULT_RCC', '_1_cut_up_NUM_BANCOS_PRIN_CON_DIAS_ATRASO_MAYOR_A_IBKSF_ULT_RCC', '_2_cut_up_NUM_BANCOS_PRIN_CON_DIAS_ATRASO_MAYOR_A_IBKSF_ULT_RCC', '_3_cut_up_NUM_BANCOS_PRIN_CON_DIAS_ATRASO_MAYOR_A_IBKSF_ULT_RCC', '_1_cut_up_NUM_BANCOS_DEBT_MENOR_DE_U3M', '_2_cut_up_NUM_BANCOS_DEBT_MENOR_DE_U3M', '_3_cut_up_NUM_BANCOS_DEBT_MENOR_DE_U3M', '_1_cut_up_NUM_BANCOS_DEBT_MAYOR_DE_U3M', '_2_cut_up_NUM_BANCOS_DEBT_MAYOR_DE_U3M', '_3_cut_up_NUM_BANCOS_DEBT_MAYOR_DE_U3M', '_1_cut_up_NUM_BANCOS_DEBT_CAIDA_SEGUIDA_DE_U3M', '_2_cut_up_NUM_BANCOS_DEBT_CAIDA_SEGUIDA_DE_U3M', '_3_cut_up_NUM_BANCOS_DEBT_CAIDA_SEGUIDA_DE_U3M', '_1_cut_up_NUM_BANCOS_DEBT_SUBIDA_SEGUIDA_DE_U3M', '_2_cut_up_NUM_BANCOS_DEBT_SUBIDA_SEGUIDA_DE_U3M', '_3_cut_up_NUM_BANCOS_DEBT_SUBIDA_SEGUIDA_DE_U3M', '_1_cut_up_NUM_BANCOS_NOIBK_DEBT_MENOR_DE_U3M', '_2_cut_up_NUM_BANCOS_NOIBK_DEBT_MENOR_DE_U3M', '_3_cut_up_NUM_BANCOS_NOIBK_DEBT_MENOR_DE_U3M', '_1_cut_up_NUM_BANCOS_NOIBK_DEBT_CAIDA_SEGUIDA_DE_U3M', '_2_cut_up_NUM_BANCOS_NOIBK_DEBT_CAIDA_SEGUIDA_DE_U3M', '_3_cut_up_NUM_BANCOS_NOIBK_DEBT_CAIDA_SEGUIDA_DE_U3M', '_1_cut_up_NUM_BANCOS_NOIBK_DEBT_SUBIDA_SEGUIDA_DE_U3M', '_2_cut_up_NUM_BANCOS_NOIBK_DEBT_SUBIDA_SEGUIDA_DE_U3M', '_3_cut_up_NUM_BANCOS_NOIBK_DEBT_SUBIDA_SEGUIDA_DE_U3M', '_1_cut_up_NUM_BANCOS_NOIBK_CAIDA_10PERCENT_MES_ANT', '_2_cut_up_NUM_BANCOS_NOIBK_CAIDA_10PERCENT_MES_ANT', '_3_cut_up_NUM_BANCOS_NOIBK_CAIDA_10PERCENT_MES_ANT', '_1_cut_up_NUM_BANCOS_NOIBK_CAIDA_20PERCENT_MES_ANT', '_2_cut_up_NUM_BANCOS_NOIBK_CAIDA_20PERCENT_MES_ANT', '_3_cut_up_NUM_BANCOS_NOIBK_CAIDA_20PERCENT_MES_ANT', '_1_cut_up_NUM_BANCOS_NOIBK_CAIDA_30PERCENT_MES_ANT', '_2_cut_up_NUM_BANCOS_NOIBK_CAIDA_30PERCENT_MES_ANT', '_3_cut_up_NUM_BANCOS_NOIBK_CAIDA_30PERCENT_MES_ANT', '_1_cut_up_NUM_BANCOS_NOIBK_SUBIDA_10PERCENT_MES_ANT', '_2_cut_up_NUM_BANCOS_NOIBK_SUBIDA_10PERCENT_MES_ANT', '_3_cut_up_NUM_BANCOS_NOIBK_SUBIDA_10PERCENT_MES_ANT', '_1_cut_up_NUM_BANCOS_NOIBK_SUBIDA_20PERCENT_MES_ANT', '_2_cut_up_NUM_BANCOS_NOIBK_SUBIDA_20PERCENT_MES_ANT', '_3_cut_up_NUM_BANCOS_NOIBK_SUBIDA_20PERCENT_MES_ANT', '_1_cut_up_NUM_BANCOS_NOIBK_SUBIDA_30PERCENT_MES_ANT', '_2_cut_up_NUM_BANCOS_NOIBK_SUBIDA_30PERCENT_MES_ANT', '_1_cut_up_VARIAICION_NUM_BANCOS_PRIN_DEBT_u12m', '_2_cut_up_VARIAICION_NUM_BANCOS_PRIN_DEBT_u12m', '_3_cut_up_VARIAICION_NUM_BANCOS_PRIN_DEBT_u12m', '_1_cut_up_VARIAICION_NUM_BANCOS_CIERRE_2019', '_2_cut_up_VARIAICION_NUM_BANCOS_CIERRE_2019', '_3_cut_up_VARIAICION_NUM_BANCOS_CIERRE_2019', '_1_cut_up_VARIAICION_NUM_BANCOS_CON_MINIMO_U12M', '_2_cut_up_VARIAICION_NUM_BANCOS_CON_MINIMO_U12M', '_3_cut_up_VARIAICION_NUM_BANCOS_CON_MINIMO_U12M', '_0.005_cut_down_PERCENT_GAR_HIPO', '_0.1_cut_down_PERCENT_GAR_HIPO', '_0.2_cut_down_PERCENT_GAR_HIPO', '_0.3_cut_down_PERCENT_GAR_HIPO', '_0.005_cut_down_COVER_GAR_AUTO_HIPO_ULT_RCC', '_0.1_cut_down_COVER_GAR_AUTO_HIPO_ULT_RCC', '_0.2_cut_down_COVER_GAR_AUTO_HIPO_ULT_RCC', '_0.4_cut_down_COVER_GAR_AUTO_HIPO_ULT_RCC', '_0.6_cut_down_COVER_GAR_AUTO_HIPO_ULT_RCC', '_0.8_cut_down_COVER_GAR_AUTO_HIPO_ULT_RCC', '_1_CAMBIO_ACCIONISTAS_ANIO_ANTERIOR_O_ACTUAL', '_1_CAMBIO_ACCIONISTAS_ANIO_ACTUAL', '_1_CAMBIO_GERENCIA_GENERAL_ANIO_ANTERIOR_O_ACTUAL', '_1_CAMBIO_GERENCIA_GENERAL_ANIO_ACTUAL', '_1_CAMBIO_GERENCIA_GENERAL_O_ACCIONISTAS_ANIO_ACTUAL', '_-0.3_cut_down_VARIACION_PERCENT_GAR_IBK_U12M', '_-0.2_cut_down_VARIACION_PERCENT_GAR_IBK_U12M', '_-0.1_cut_down_VARIACION_PERCENT_GAR_IBK_U12M', '_0_cut_down_VARIACION_PERCENT_GAR_IBK_U12M', '_0.099_cut_up_VARIACION_SOW_OTROS_BANCOS_PRIN_U12M', '_0_cut_up_VARIACION_SOW_OTROS_BANCOS_PRIN_U12M', '_5_cut_up_COVID_PORCENTAJE_REDUCCION_PERSONAL', '_12_cut_up_COVID_PORCENTAJE_REDUCCION_PERSONAL', '_20_cut_up_COVID_PORCENTAJE_REDUCCION_PERSONAL', '_30_cut_up_COVID_PORCENTAJE_REDUCCION_PERSONAL', '_50_cut_up_COVID_PORCENTAJE_REDUCCION_PERSONAL', '_20_cut_up_COVID_PORCENTAJE_REDUCCION_INGREO_MENUSAL', '_30_cut_up_COVID_PORCENTAJE_REDUCCION_INGREO_MENUSAL', '_40_cut_up_COVID_PORCENTAJE_REDUCCION_INGREO_MENUSAL', '_48_cut_up_COVID_PORCENTAJE_REDUCCION_INGREO_MENUSAL', '_int_COVID_ACOGIO_SUSPENSION_PERFECTA', '_int_COVID_ACOGIO_SUSPENSION_PERFECTA_Y_REDUCCION_PEROSNAL_UP20_PERCENT', '_int_COVID_ACOGIO_SUSPENSION_PERFECTA_Y_REDUCCION_PEROSNAL_UP12_PERCENT', 'COVID_FICHA_LLENADA', 'cut_opt_for_cuasi_target_preocupa_COVID_P_5_VARIACION_PORCENTUAL_VENTAS_2020_2019', 'cut_opt_for_cuasi_target_preocupa_TRX_VARIACION_TIPOS_CASH_IN_U3M_MES_ACTUAL', 'cut_opt_for_cuasi_target_preocupa_CEF_APLANCAMIENTO_PATRIMONIAL_VAR', 'cut_opt_for_cuasi_target_preocupa_CEF_CAJA', 'cut_opt_for_cuasi_target_preocupa_CEF_CAPITAL_TRABAJO', 'cut_opt_for_cuasi_target_preocupa_CEF_CAPITAL_TRABAJO_VAR', 'cut_opt_for_cuasi_target_preocupa_CEF_COBERTURA_FAL', 'cut_opt_for_cuasi_target_preocupa_CEF_COBERTURA_SERVICIO_DEUDA', 'cut_opt_for_cuasi_target_preocupa_CEF_COBERTURA_SERVICIO_DEUDA_ANT', 'cut_opt_for_cuasi_target_preocupa_CEF_COSTO_VENTAS', 'cut_opt_for_cuasi_target_preocupa_CEF_COSTO_VENTAS_ANUAL', 'cut_opt_for_cuasi_target_preocupa_CEF_COSTO_VENTAS_VAR', 'cut_opt_for_cuasi_target_preocupa_CEF_DESFASE_CEF_MESES', 'cut_opt_for_cuasi_target_preocupa_CEF_DEUDA_TOTAL', 'cut_opt_for_cuasi_target_preocupa_CEF_DTOTALCAJA_S_EBITDA', 'cut_opt_for_cuasi_target_preocupa_CEF_DTOTALCAJA_S_EBITDA_VAR', 'cut_opt_for_cuasi_target_preocupa_CEF_DTOTAL_S_EBITDA', 'cut_opt_for_cuasi_target_preocupa_CEF_DTOTAL_S_EBITDA_VAR', 'cut_opt_for_cuasi_target_preocupa_CEF_DTOTAL_S_VENTAS', 'cut_opt_for_cuasi_target_preocupa_CEF_DTOTAL_S_VENTAS_VAR', 'cut_opt_for_cuasi_target_preocupa_CEF_EBITDA', 'cut_opt_for_cuasi_target_preocupa_CEF_EBITDA_ANUAL', 'cut_opt_for_cuasi_target_preocupa_CEF_EBITDA_ANUAL_VAR', 'cut_opt_for_cuasi_target_preocupa_CEF_EBITDA_S_SERVDEUDA', 'cut_opt_for_cuasi_target_preocupa_CEF_EBITDA_S_SERVDEUDA_VAR', 'cut_opt_for_cuasi_target_preocupa_CEF_ENDEUDAMIENTO_PAS_VEN_VAR', 'cut_opt_for_cuasi_target_preocupa_CEF_INVERSION_ACTFIJOS', 'cut_opt_for_cuasi_target_preocupa_CEF_INVERSION_ACTFIJOS_ANTERIOR_FLAG', 'cut_opt_for_cuasi_target_preocupa_CEF_INVERSION_ACTFIJOS_ANUAL', 'cut_opt_for_cuasi_target_preocupa_CEF_INVERSION_ACTFIJOS_VAR', 'cut_opt_for_cuasi_target_preocupa_CEF_PATRIMONIO', 'cut_opt_for_cuasi_target_preocupa_CEF_RAC_IBK6_ACTIVIDAD', 'cut_opt_for_cuasi_target_preocupa_CEF_RDEU_1_COSTODEUDA', 'cut_opt_for_cuasi_target_preocupa_CEF_RLI_6_LIQUIDEZ', 'cut_opt_for_cuasi_target_preocupa_CEF_RMET_11_METODIZADO', 'cut_opt_for_cuasi_target_preocupa_CEF_RMET_9_METODIZADO', 'cut_opt_for_cuasi_target_preocupa_CEF_ROTACION_CTASXCOBRAR', 'cut_opt_for_cuasi_target_preocupa_CEF_ROTACION_CTASXCOBRAR_VAR', 'cut_opt_for_cuasi_target_preocupa_CEF_ROTACION_CTASXCOBRAR_VAR_DIAS', 'cut_opt_for_cuasi_target_preocupa_CEF_ROTACION_CTASXPAGAR', 'cut_opt_for_cuasi_target_preocupa_CEF_ROTACION_CTASXPAGAR_VAR', 'cut_opt_for_cuasi_target_preocupa_CEF_ROTACION_CTASXPAGAR_VAR_DIAS', 'cut_opt_for_cuasi_target_preocupa_CEF_ROTACION_INVENTARIOS', 'cut_opt_for_cuasi_target_preocupa_CEF_ROTACION_INVENTARIOS_VAR', 'cut_opt_for_cuasi_target_preocupa_CEF_ROTACION_INVENTARIOS_VAR_DIAS', 'cut_opt_for_cuasi_target_preocupa_CEF_RRE_13_RENTABILIDAD', 'cut_opt_for_cuasi_target_preocupa_CEF_RSOL_14_SOLVENCIA', 'cut_opt_for_cuasi_target_preocupa_CEF_RSOL_18_SOLVENCIA', 'cut_opt_for_cuasi_target_preocupa_CEF_RSOL_1B_SOLVENCIA', 'cut_opt_for_cuasi_target_preocupa_CEF_UTILIDAD', 'cut_opt_for_cuasi_target_preocupa_CEF_UTILIDAD_ANTES_IMP', 'cut_opt_for_cuasi_target_preocupa_CEF_UTILIDAD_ANTES_IMP_ANUAL', 'cut_opt_for_cuasi_target_preocupa_CEF_UTILIDAD_ANUAL', 'cut_opt_for_cuasi_target_preocupa_CEF_VENTAS_NETAS', 'cut_opt_for_cuasi_target_preocupa_CEF_VENTAS_NETAS_ANUAL', 'cut_opt_for_cuasi_target_preocupa_CEF_VENTAS_NETAS_VAR', 'cut_opt_for_cuasi_target_preocupa_TRX_VARIACION_TIPOS_CASH_OUT_U3M_MES_ACTUAL', 'cut_opt_for_cuasi_target_preocupa_VARIACION_PERCENT_COL_DRECTAS_U12M', 'cut_opt_for_cuasi_target_preocupa_VARIACION_PERCENT_GAR_IBK_U12M', 'cut_opt_for_cuasi_target_preocupa_VARIACION_PERCENT_GAR_OTROS_BANCOS_PRIN_U12M', 'cut_opt_for_cuasi_target_preocupa_VARIACION_SOW_IBK_U12M', 'cut_opt_for_cuasi_target_preocupa_VARIACION_SOW_OTROS_BANCOS_PRIN_U12M', 'cut_opt_for_cuasi_target_preocupa_VARIAICION_NRO_BANCOS_CIERRE_2019', 'cut_opt_for_cuasi_target_preocupa_VARIAICION_NRO_BANCOS_CON_MINIMO_U12M', 'cut_opt_for_cuasi_target_preocupa_VARIAICION_NRO_BANCOS_PRIN_DEBT_u12m']\n"
     ]
    }
   ],
   "source": [
    "cols_combine = \\\n",
    "    [col for col in cols_combine if 'SOBREGIRO' not in col.upper() \\\n",
    "                                 and 'SCOTIA' not in col.upper() \\\n",
    "                                 and 'BCP' not in col.upper() \\\n",
    "                                 and 'BBVA' not in col.upper() \\\n",
    "                                 and 'BIF' not in col.upper() \\\n",
    "                                 and '%' not in col.upper()\n",
    "    ]\n",
    "print(list(cols_combine))"
   ]
  },
  {
   "cell_type": "code",
   "execution_count": 17,
   "metadata": {},
   "outputs": [
    {
     "name": "stdout",
     "output_type": "stream",
     "text": [
      "759\n"
     ]
    }
   ],
   "source": [
    "print(len(cols_combine))"
   ]
  },
  {
   "cell_type": "code",
   "execution_count": 18,
   "metadata": {},
   "outputs": [],
   "source": [
    "for col in ['cambio_seguir_covid', 'TIENE_DIAS_DE_ATRASO_IBK_ESTE_MES', 'TIENE_DEUDA_VIGENTE_IBK'] + [col for col in data.columns if 'target' in col.lower()]:\n",
    "    if col in cols_combine:\n",
    "        cols_combine.remove(col)"
   ]
  },
  {
   "cell_type": "code",
   "execution_count": 19,
   "metadata": {},
   "outputs": [
    {
     "data": {
      "text/plain": [
       "54513680"
      ]
     },
     "execution_count": 19,
     "metadata": {},
     "output_type": "execute_result"
    }
   ],
   "source": [
    "import itertools\n",
    "combine = list(itertools.combinations(cols_combine, 3))\n",
    "len(combine)"
   ]
  },
  {
   "cell_type": "code",
   "execution_count": 20,
   "metadata": {},
   "outputs": [
    {
     "data": {
      "text/plain": [
       "202007    1924\n",
       "202008    1882\n",
       "202009    1832\n",
       "Name: PERIODO, dtype: int64"
      ]
     },
     "execution_count": 20,
     "metadata": {},
     "output_type": "execute_result"
    }
   ],
   "source": [
    "data['PERIODO'].value_counts()"
   ]
  },
  {
   "cell_type": "markdown",
   "metadata": {},
   "source": [
    "#### SOLO TOMAR 202007 Y 202008 ORUQEU SON LOS MESES QUE HASTA EL MONENTO TIENEN TARGET COMPLETO 2 MESES ENADELANTE"
   ]
  },
  {
   "cell_type": "code",
   "execution_count": null,
   "metadata": {},
   "outputs": [],
   "source": []
  },
  {
   "cell_type": "code",
   "execution_count": 23,
   "metadata": {},
   "outputs": [],
   "source": [
    "data_bel_zon_1= data[\n",
    "    (data['ZONAL'].isin(bancas)) & (data['PERIODO'].astype(int).isin(meses))\n",
    "]"
   ]
  },
  {
   "cell_type": "markdown",
   "metadata": {},
   "source": [
    "#### VALIDACION DE ESTAR TOMANDO LO CORRECTO , DEBE SOLO APRECER LOS PERIODOS DE COSECHA COMPLETA Y LA ZONA INDICADA"
   ]
  },
  {
   "cell_type": "code",
   "execution_count": 24,
   "metadata": {},
   "outputs": [
    {
     "data": {
      "text/plain": [
       "202007    897\n",
       "202008    871\n",
       "202009    834\n",
       "Name: PERIODO, dtype: int64"
      ]
     },
     "execution_count": 24,
     "metadata": {},
     "output_type": "execute_result"
    }
   ],
   "source": [
    "data_bel_zon_1['PERIODO'].value_counts()"
   ]
  },
  {
   "cell_type": "code",
   "execution_count": 25,
   "metadata": {},
   "outputs": [
    {
     "data": {
      "text/plain": [
       "BEL ZONAL 2    2602\n",
       "Name: ZONAL, dtype: int64"
      ]
     },
     "execution_count": 25,
     "metadata": {},
     "output_type": "execute_result"
    }
   ],
   "source": [
    "data_bel_zon_1['ZONAL'].value_counts()"
   ]
  },
  {
   "cell_type": "markdown",
   "metadata": {},
   "source": [
    "## GO!!!!!!!!!!!"
   ]
  },
  {
   "cell_type": "code",
   "execution_count": null,
   "metadata": {},
   "outputs": [],
   "source": [
    "data.to_excel(\"AVANCE_7.xlsx\", index=False)"
   ]
  },
  {
   "cell_type": "markdown",
   "metadata": {},
   "source": [
    "#### EN LOS PRINT VERASL LAS VARIABLES LA PROBABILIDA PROMEDIO Y LA CANTIDAD HALLADA PARA IRA ANALIZANDO"
   ]
  },
  {
   "cell_type": "code",
   "execution_count": null,
   "metadata": {},
   "outputs": [],
   "source": [
    "import random as rn\n",
    "listado = []  # acumula lo scaoss ya''q ya validóoooooooo\n",
    "aucc = {}"
   ]
  },
  {
   "cell_type": "code",
   "execution_count": null,
   "metadata": {},
   "outputs": [],
   "source": []
  },
  {
   "cell_type": "code",
   "execution_count": 31,
   "metadata": {},
   "outputs": [],
   "source": [
    "#assert False"
   ]
  },
  {
   "cell_type": "code",
   "execution_count": null,
   "metadata": {},
   "outputs": [
    {
     "name": "stdout",
     "output_type": "stream",
     "text": [
      "......................................................................................................................................................................................................................................................................................................................................................................................................................................................................................................................................................................................................................................................................................................................................................................................................................................................................................................................................................................................................................................................................................................................................................................................................."
     ]
    }
   ],
   "source": [
    "#rn.shuffle(combine)\n",
    "#random.shuffle(number_list)\n",
    "data_play_1 = data_bel_zon_1[data_bel_zon_1['target_SF_8_dias_atraso_o_mas'].notnull()].copy()\n",
    "data_play_2 = data_bel_zon_1[data_bel_zon_1['cuasi_target_preocupa'].notnull()].copy()\n",
    "#data_play_3 = data_bel_zon_1[data_bel_zon_1['target_yoy_quartil_05'].notnull()].copy()\n",
    "\n",
    "for i in range(1000000):\n",
    "    x, y, z = rn.choice(combine)\n",
    "   # x = 'NRO_BANCOS_MONTO_DEUDA_MAYOR_QUE_IBKSF_ULT_RCC'#'_1_cut_up_NUM_BANCOS_PRIN_CON_DIAS_ATRASO_MAYOR_A_IBKSF_ULT_RCC'  \n",
    "#for el in combine:\n",
    "#    x, y = el\n",
    "    col_evaluate = '1_and_1_{}___{}___{}'.format(x, y, z)\n",
    "    if col_evaluate not in listado and 'accionista' not in col_evaluate.lower() and 'gerencia' not in col_evaluate.lower() :\n",
    "        listado.append(col_evaluate)\n",
    "        \n",
    "        lambda_basico = lambda _:  _[0] >= 1 and _[1] >= 1 and _[2] >= 1\n",
    "        data_bel_zon_1[col_evaluate] = data_bel_zon_1[[x, y, z]].apply(lambda_basico, axis=1).astype(int)\n",
    "        data_play_1[col_evaluate] = data_play_1[[x, y, z]].apply(lambda_basico, axis=1).astype(int)\n",
    "        data_play_2[col_evaluate] = data_play_2[[x, y, z]].apply(lambda_basico, axis=1).astype(int)\n",
    "        #data_play_3[col_evaluate] = data_play_3[[x, y]].apply(lambda_basico, axis=1).astype(int)\n",
    "        \n",
    "        result_1 = recall_score(data_play_1[col_evaluate], data_play_1['target_SF_8_dias_atraso_o_mas'])\n",
    "        result_2 = recall_score(data_play_2[col_evaluate], data_play_2['cuasi_target_preocupa'])\n",
    "        #result_3 = recall_score(data_play_3[col_evaluate], data_play_3['target_yoy_quartil_05'])\n",
    "        \n",
    "        evaluacion = np.mean([result_1, result_2], axis=0)\n",
    "        coincidencias = data_bel_zon_1[data_bel_zon_1[col_evaluate] == 1].shape[0] \n",
    "        \n",
    "        if evaluacion > 3 and coincidencias >= 6:\n",
    "            aucc[col_evaluate] = evaluacion\n",
    "            print(x, y, z, evaluacion, '////', result_1, result_2,  ' ==== ', coincidencias)"
   ]
  },
  {
   "cell_type": "code",
   "execution_count": null,
   "metadata": {},
   "outputs": [],
   "source": []
  },
  {
   "cell_type": "code",
   "execution_count": null,
   "metadata": {},
   "outputs": [],
   "source": []
  },
  {
   "cell_type": "code",
   "execution_count": null,
   "metadata": {},
   "outputs": [],
   "source": []
  }
 ],
 "metadata": {
  "kernelspec": {
   "display_name": "Python 3",
   "language": "python",
   "name": "python3"
  },
  "language_info": {
   "codemirror_mode": {
    "name": "ipython",
    "version": 3
   },
   "file_extension": ".py",
   "mimetype": "text/x-python",
   "name": "python",
   "nbconvert_exporter": "python",
   "pygments_lexer": "ipython3",
   "version": "3.7.6"
  }
 },
 "nbformat": 4,
 "nbformat_minor": 4
}
