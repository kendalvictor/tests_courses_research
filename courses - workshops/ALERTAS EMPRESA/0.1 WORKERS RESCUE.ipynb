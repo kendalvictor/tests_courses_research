{
 "cells": [
  {
   "cell_type": "code",
   "execution_count": null,
   "id": "greatest-dealing",
   "metadata": {},
   "outputs": [],
   "source": [
    "import gc\n",
    "import time\n",
    "import pymssql\n",
    "\n",
    "import pandas as pd\n",
    "import numpy as np"
   ]
  },
  {
   "cell_type": "code",
   "execution_count": null,
   "id": "convenient-martial",
   "metadata": {},
   "outputs": [],
   "source": [
    "def clean_str_to_float(val):\n",
    "    if pd.isnull(val):\n",
    "        return None\n",
    "    \n",
    "    _str = str(val).replace(\" \", \"\").replace(\",\", \"\").replace(\".\", \"\")\n",
    "    \n",
    "    if not _str.isnumeric():\n",
    "        print(_str, end=' ')\n",
    "    \n",
    "    return int(float(_str)) if  _str.isnumeric() else None"
   ]
  },
  {
   "cell_type": "code",
   "execution_count": null,
   "id": "intensive-consent",
   "metadata": {},
   "outputs": [],
   "source": [
    "try:\n",
    "    connection_market.close()\n",
    "except:\n",
    "    pass\n",
    "\n",
    "\n",
    "#conneciom MARKET\n",
    "connection_market = pymssql.connect(host='10.11.12.90\\BDT',\n",
    "                             user='ibetlmarket',\n",
    "                             port=1433,\n",
    "                             password='m@rk3t2o15',\n",
    "                             database='MARKET'\n",
    "                            )\n",
    "time.sleep(1)\n",
    "gc.collect()"
   ]
  },
  {
   "cell_type": "code",
   "execution_count": null,
   "id": "endangered-football",
   "metadata": {},
   "outputs": [],
   "source": [
    "sql_rucs_scraping = \"\"\"\n",
    "    SELECT * FROM ODS.MM_SUNAT_CANT_TRABAJADORES \n",
    "\"\"\"\n",
    "sunat_crawler = pd.read_sql(\n",
    "   sql_rucs_scraping, connection_market\n",
    ").sort_values(by=['FECHA_CARGA'], ascending=False)\n",
    "print(sunat_crawler.shape)\n",
    "\n",
    "connection_market.close()\n",
    "sunat_crawler.head()"
   ]
  },
  {
   "cell_type": "code",
   "execution_count": null,
   "id": "shaped-spouse",
   "metadata": {},
   "outputs": [],
   "source": [
    "sunat_crawler = sunat_crawler.groupby(['PERIODO', 'RUC']).agg(\n",
    "    {'NRO_TRABAJADORES': 'max', 'NRO_PENSIONISTAS': 'max', 'NRO_PRESTADORES_SERVICIO': 'max'}\n",
    ").reset_index()\n",
    "\n",
    "sunat_crawler.shape"
   ]
  },
  {
   "cell_type": "code",
   "execution_count": null,
   "id": "vertical-seventh",
   "metadata": {},
   "outputs": [],
   "source": [
    "sunat_crawler.head()"
   ]
  },
  {
   "cell_type": "code",
   "execution_count": null,
   "id": "manual-cache",
   "metadata": {},
   "outputs": [],
   "source": [
    "sunat_crawler.dtypes"
   ]
  },
  {
   "cell_type": "markdown",
   "id": "sized-commission",
   "metadata": {},
   "source": [
    "### VALIDACION DE DATOS NULOS"
   ]
  },
  {
   "cell_type": "code",
   "execution_count": null,
   "id": "outer-colleague",
   "metadata": {},
   "outputs": [],
   "source": [
    "rucs_scraping = list(sunat_crawler['RUC'].unique())\n",
    "print(len(rucs_scraping))"
   ]
  },
  {
   "cell_type": "code",
   "execution_count": null,
   "id": "smaller-floating",
   "metadata": {},
   "outputs": [],
   "source": [
    "print(sunat_crawler.shape)\n",
    "sunat_crawler = sunat_crawler[sunat_crawler['NRO_TRABAJADORES'].notnull()]\n",
    "print(sunat_crawler.shape)"
   ]
  },
  {
   "cell_type": "code",
   "execution_count": null,
   "id": "indoor-renewal",
   "metadata": {},
   "outputs": [],
   "source": [
    "sunat_crawler['ANIO'] = sunat_crawler['PERIODO'].apply(lambda _: _[:4]).astype(int)\n",
    "sunat_crawler['MES'] = sunat_crawler['PERIODO'].apply(lambda _: _[4:]).astype(int)\n",
    "sunat_crawler = sunat_crawler.rename(columns={\n",
    "    'NRO_TRABAJADORES': 'TOTAL_TRABAJADORES',\n",
    "    'NRO_PENSIONISTAS': 'PENSIONISTA',\n",
    "    'NRO_PRESTADORES_SERVICIO': 'PRESTADOR_SERVICIO'\n",
    "})[['PERIODO', 'ANIO', 'MES', 'TOTAL_TRABAJADORES', 'PENSIONISTA', 'PRESTADOR_SERVICIO', 'RUC']]\n",
    "\n",
    "sep = '__'\n",
    "sunat_crawler['COMBINACION'] = sunat_crawler['PERIODO'] + sep +  sunat_crawler['RUC']\n",
    "sunat_crawler.head()"
   ]
  },
  {
   "cell_type": "code",
   "execution_count": null,
   "id": "arctic-flower",
   "metadata": {},
   "outputs": [],
   "source": [
    "sunat_crawler = sunat_crawler[sunat_crawler['ANIO'] == 2019]\n",
    "sunat_crawler.head()"
   ]
  },
  {
   "cell_type": "code",
   "execution_count": null,
   "id": "cardiac-pocket",
   "metadata": {},
   "outputs": [],
   "source": [
    "csv_name = \"cantidad_trabajadores.csv\"\n",
    "cant_trab = pd.read_csv(csv_name, dtype={'RUC': str, 'PERIODO': str})\n",
    "\n",
    "rucs_registrados = list(cant_trab['RUC'].unique())\n",
    "combinaciones_registradas = list(cant_trab['COMBINACION'].unique())\n",
    "\n",
    "print(len(rucs_registrados))\n",
    "print(len(combinaciones_registradas))\n",
    "print(cant_trab.shape)\n",
    "\n",
    "cant_trab.head()"
   ]
  },
  {
   "cell_type": "code",
   "execution_count": null,
   "id": "polyphonic-prague",
   "metadata": {},
   "outputs": [],
   "source": [
    "sunat_crawler = sunat_crawler[\n",
    "    (sunat_crawler['RUC'].isin(rucs_registrados)) & (~sunat_crawler['COMBINACION'].isin(combinaciones_registradas))\n",
    "]\n",
    "print(sunat_crawler.shape)\n",
    "\n",
    "sunat_crawler['PERIODO'].value_counts().sort_index()"
   ]
  },
  {
   "cell_type": "code",
   "execution_count": null,
   "id": "optical-action",
   "metadata": {},
   "outputs": [],
   "source": []
  },
  {
   "cell_type": "code",
   "execution_count": null,
   "id": "lined-retail",
   "metadata": {},
   "outputs": [],
   "source": []
  },
  {
   "cell_type": "code",
   "execution_count": null,
   "id": "controlling-impossible",
   "metadata": {},
   "outputs": [],
   "source": [
    "pivoteo = pd.pivot_table(\n",
    "    sunat_crawler, \n",
    "    values='TOTAL_TRABAJADORES', index=['RUC'], columns=['PERIODO'], aggfunc=np.max, fill_value=-1\n",
    ").reset_index()\n",
    "\n",
    "pivoteo.head()"
   ]
  },
  {
   "cell_type": "code",
   "execution_count": null,
   "id": "dirty-appendix",
   "metadata": {},
   "outputs": [],
   "source": [
    "tiene_menos_1 = pivoteo[\n",
    "    (pivoteo['201910'] != -1) & (pivoteo['201911'] == -1) &  (pivoteo['201912'] == -1)\n",
    "]\n",
    "tiene_menos_1"
   ]
  },
  {
   "cell_type": "code",
   "execution_count": 30,
   "id": "quantitative-isaac",
   "metadata": {},
   "outputs": [
    {
     "data": {
      "text/plain": [
       "2847"
      ]
     },
     "execution_count": 30,
     "metadata": {},
     "output_type": "execute_result"
    }
   ],
   "source": [
    "len(list(tiene_menos_1['RUC'].unique()))"
   ]
  },
  {
   "cell_type": "code",
   "execution_count": 32,
   "id": "hearing-launch",
   "metadata": {},
   "outputs": [
    {
     "data": {
      "text/plain": [
       "201912    21\n",
       "201911    21\n",
       "Name: PERIODO, dtype: int64"
      ]
     },
     "execution_count": 32,
     "metadata": {},
     "output_type": "execute_result"
    }
   ],
   "source": [
    "sunat_crawler = sunat_crawler[~sunat_crawler['RUC'].isin(list(tiene_menos_1['RUC'].unique()))]\n",
    "sunat_crawler['PERIODO'].value_counts()"
   ]
  },
  {
   "cell_type": "code",
   "execution_count": 33,
   "id": "different-pressure",
   "metadata": {},
   "outputs": [
    {
     "data": {
      "text/plain": [
       "(93792, 8)"
      ]
     },
     "execution_count": 33,
     "metadata": {},
     "output_type": "execute_result"
    }
   ],
   "source": [
    "cant_trab.shape"
   ]
  },
  {
   "cell_type": "code",
   "execution_count": 34,
   "id": "mexican-soccer",
   "metadata": {},
   "outputs": [
    {
     "data": {
      "text/plain": [
       "201910    1916\n",
       "201911    1939\n",
       "201912    2056\n",
       "2020      1031\n",
       "202001    7241\n",
       "202002    7241\n",
       "202003    7241\n",
       "202004    7241\n",
       "202005    7241\n",
       "202006    7241\n",
       "202007    7241\n",
       "202008    7241\n",
       "202009    7241\n",
       "202010    7241\n",
       "202011    7241\n",
       "202012    7241\n",
       "Name: PERIODO, dtype: int64"
      ]
     },
     "execution_count": 34,
     "metadata": {},
     "output_type": "execute_result"
    }
   ],
   "source": [
    "cant_trab = pd.concat(\n",
    "    [cant_trab, sunat_crawler], axis=0, ignore_index=True\n",
    ")\n",
    "cant_trab['PERIODO'].value_counts().sort_index()"
   ]
  },
  {
   "cell_type": "code",
   "execution_count": 42,
   "id": "focal-baptist",
   "metadata": {},
   "outputs": [
    {
     "data": {
      "text/plain": [
       "(92803, 8)"
      ]
     },
     "execution_count": 42,
     "metadata": {},
     "output_type": "execute_result"
    }
   ],
   "source": [
    "cant_trab = cant_trab[cant_trab['PERIODO'] != '2020']\n",
    "cant_trab.shape"
   ]
  },
  {
   "cell_type": "code",
   "execution_count": 43,
   "id": "proud-wages",
   "metadata": {},
   "outputs": [
    {
     "data": {
      "text/plain": [
       "(92803, 8)"
      ]
     },
     "execution_count": 43,
     "metadata": {},
     "output_type": "execute_result"
    }
   ],
   "source": [
    "cant_trab.shape"
   ]
  },
  {
   "cell_type": "code",
   "execution_count": 57,
   "id": "twelve-central",
   "metadata": {},
   "outputs": [],
   "source": [
    "cant_trab.to_csv(csv_name, index=False)"
   ]
  },
  {
   "cell_type": "code",
   "execution_count": 51,
   "id": "painful-giving",
   "metadata": {},
   "outputs": [
    {
     "data": {
      "text/plain": [
       "PERIODO               object\n",
       "ANIO                   int64\n",
       "MES                   object\n",
       "TOTAL_TRABAJADORES    object\n",
       "PENSIONISTA           object\n",
       "PRESTADOR_SERVICIO    object\n",
       "RUC                   object\n",
       "COMBINACION           object\n",
       "dtype: object"
      ]
     },
     "execution_count": 51,
     "metadata": {},
     "output_type": "execute_result"
    }
   ],
   "source": [
    "cant_trab.dtypes"
   ]
  },
  {
   "cell_type": "code",
   "execution_count": 52,
   "id": "solar-legislation",
   "metadata": {},
   "outputs": [],
   "source": [
    "cant_trab['MES'] = cant_trab['MES'].astype(int)"
   ]
  },
  {
   "cell_type": "code",
   "execution_count": 53,
   "id": "guided-faith",
   "metadata": {},
   "outputs": [
    {
     "data": {
      "text/html": [
       "<div>\n",
       "<style scoped>\n",
       "    .dataframe tbody tr th:only-of-type {\n",
       "        vertical-align: middle;\n",
       "    }\n",
       "\n",
       "    .dataframe tbody tr th {\n",
       "        vertical-align: top;\n",
       "    }\n",
       "\n",
       "    .dataframe thead th {\n",
       "        text-align: right;\n",
       "    }\n",
       "</style>\n",
       "<table border=\"1\" class=\"dataframe\">\n",
       "  <thead>\n",
       "    <tr style=\"text-align: right;\">\n",
       "      <th></th>\n",
       "      <th>PERIODO</th>\n",
       "      <th>ANIO</th>\n",
       "      <th>MES</th>\n",
       "      <th>TOTAL_TRABAJADORES</th>\n",
       "      <th>PENSIONISTA</th>\n",
       "      <th>PRESTADOR_SERVICIO</th>\n",
       "      <th>RUC</th>\n",
       "      <th>COMBINACION</th>\n",
       "    </tr>\n",
       "  </thead>\n",
       "  <tbody>\n",
       "    <tr>\n",
       "      <th>0</th>\n",
       "      <td>202001</td>\n",
       "      <td>2020</td>\n",
       "      <td>1</td>\n",
       "      <td>172</td>\n",
       "      <td>0</td>\n",
       "      <td>24</td>\n",
       "      <td>20530611681</td>\n",
       "      <td>202001__20530611681</td>\n",
       "    </tr>\n",
       "    <tr>\n",
       "      <th>1</th>\n",
       "      <td>202002</td>\n",
       "      <td>2020</td>\n",
       "      <td>2</td>\n",
       "      <td>174</td>\n",
       "      <td>0</td>\n",
       "      <td>22</td>\n",
       "      <td>20530611681</td>\n",
       "      <td>202002__20530611681</td>\n",
       "    </tr>\n",
       "    <tr>\n",
       "      <th>2</th>\n",
       "      <td>202003</td>\n",
       "      <td>2020</td>\n",
       "      <td>3</td>\n",
       "      <td>154</td>\n",
       "      <td>0</td>\n",
       "      <td>25</td>\n",
       "      <td>20530611681</td>\n",
       "      <td>202003__20530611681</td>\n",
       "    </tr>\n",
       "    <tr>\n",
       "      <th>3</th>\n",
       "      <td>202004</td>\n",
       "      <td>2020</td>\n",
       "      <td>4</td>\n",
       "      <td>149</td>\n",
       "      <td>0</td>\n",
       "      <td>15</td>\n",
       "      <td>20530611681</td>\n",
       "      <td>202004__20530611681</td>\n",
       "    </tr>\n",
       "    <tr>\n",
       "      <th>4</th>\n",
       "      <td>202005</td>\n",
       "      <td>2020</td>\n",
       "      <td>5</td>\n",
       "      <td>146</td>\n",
       "      <td>0</td>\n",
       "      <td>19</td>\n",
       "      <td>20530611681</td>\n",
       "      <td>202005__20530611681</td>\n",
       "    </tr>\n",
       "  </tbody>\n",
       "</table>\n",
       "</div>"
      ],
      "text/plain": [
       "  PERIODO  ANIO  MES TOTAL_TRABAJADORES PENSIONISTA PRESTADOR_SERVICIO  \\\n",
       "0  202001  2020    1                172           0                 24   \n",
       "1  202002  2020    2                174           0                 22   \n",
       "2  202003  2020    3                154           0                 25   \n",
       "3  202004  2020    4                149           0                 15   \n",
       "4  202005  2020    5                146           0                 19   \n",
       "\n",
       "           RUC          COMBINACION  \n",
       "0  20530611681  202001__20530611681  \n",
       "1  20530611681  202002__20530611681  \n",
       "2  20530611681  202003__20530611681  \n",
       "3  20530611681  202004__20530611681  \n",
       "4  20530611681  202005__20530611681  "
      ]
     },
     "execution_count": 53,
     "metadata": {},
     "output_type": "execute_result"
    }
   ],
   "source": [
    "cant_trab.head()"
   ]
  },
  {
   "cell_type": "code",
   "execution_count": 54,
   "id": "external-medicare",
   "metadata": {},
   "outputs": [
    {
     "data": {
      "text/plain": [
       "201910    1916\n",
       "201911    1939\n",
       "201912    2056\n",
       "202001    7241\n",
       "202002    7241\n",
       "202003    7241\n",
       "202004    7241\n",
       "202005    7241\n",
       "202006    7241\n",
       "202007    7241\n",
       "202008    7241\n",
       "202009    7241\n",
       "202010    7241\n",
       "202011    7241\n",
       "202012    7241\n",
       "Name: PERIODO, dtype: int64"
      ]
     },
     "execution_count": 54,
     "metadata": {},
     "output_type": "execute_result"
    }
   ],
   "source": [
    "cant_trab['PERIODO'].value_counts().sort_index()"
   ]
  },
  {
   "cell_type": "code",
   "execution_count": 55,
   "id": "introductory-volleyball",
   "metadata": {},
   "outputs": [
    {
     "data": {
      "text/plain": [
       "2019     5911\n",
       "2020    86892\n",
       "Name: ANIO, dtype: int64"
      ]
     },
     "execution_count": 55,
     "metadata": {},
     "output_type": "execute_result"
    }
   ],
   "source": [
    "cant_trab['ANIO'].value_counts().sort_index()"
   ]
  },
  {
   "cell_type": "code",
   "execution_count": 56,
   "id": "single-behalf",
   "metadata": {},
   "outputs": [
    {
     "data": {
      "text/plain": [
       "12    9297\n",
       "11    9178\n",
       "10    9159\n",
       "9     7241\n",
       "8     7241\n",
       "7     7241\n",
       "6     7241\n",
       "5     7241\n",
       "4     7241\n",
       "3     7241\n",
       "2     7241\n",
       "1     7241\n",
       "Name: MES, dtype: int64"
      ]
     },
     "execution_count": 56,
     "metadata": {},
     "output_type": "execute_result"
    }
   ],
   "source": [
    "cant_trab['MES'].value_counts()"
   ]
  },
  {
   "cell_type": "code",
   "execution_count": null,
   "id": "outer-emergency",
   "metadata": {},
   "outputs": [],
   "source": []
  }
 ],
 "metadata": {
  "kernelspec": {
   "display_name": "Python 3",
   "language": "python",
   "name": "python3"
  },
  "language_info": {
   "codemirror_mode": {
    "name": "ipython",
    "version": 3
   },
   "file_extension": ".py",
   "mimetype": "text/x-python",
   "name": "python",
   "nbconvert_exporter": "python",
   "pygments_lexer": "ipython3",
   "version": "3.8.5"
  }
 },
 "nbformat": 4,
 "nbformat_minor": 5
}
