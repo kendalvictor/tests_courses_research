{
 "cells": [
  {
   "cell_type": "code",
   "execution_count": 1,
   "metadata": {},
   "outputs": [
    {
     "name": "stdout",
     "output_type": "stream",
     "text": [
      "EJEMPLO:\n",
      "202104 mes cerrado de la cosecha de 202104 [202011, 202012, 202101, 202102, 202103, 202104] [202102, 202103, 202104] \n",
      " historia \n",
      " [202005, 202006, 202007, 202008, 202009, 202010, 202011, 202012, 202101, 202102, 202103, 202104] \n",
      " ---------------------------------------------------------------------------------------------------- \n",
      " [202105, 202106] \n",
      " ---------------------------------------------------------------------------------------------------- \n",
      " [202005, 202006]\n",
      "EJEMPLO:\n",
      "202003 mes cerrado de la cosecha de 202003 [201910, 201911, 201912, 202001, 202002, 202003] [202001, 202002, 202003] \n",
      " historia \n",
      " [201904, 201905, 201906, 201907, 201908, 201909, 201910, 201911, 201912, 202001, 202002, 202003] \n",
      " ---------------------------------------------------------------------------------------------------- \n",
      " [202004, 202005] \n",
      " ---------------------------------------------------------------------------------------------------- \n",
      " [201904, 201905]\n"
     ]
    }
   ],
   "source": [
    "# Nativos\n",
    "import random as rn\n",
    "import os\n",
    "import sys\n",
    "import gc\n",
    "\n",
    "#calculo\n",
    "import numpy as np\n",
    "import pandas as pd\n",
    "import scipy\n",
    "\n",
    "#grafico\n",
    "import matplotlib.pyplot as plt\n",
    "import seaborn as sns\n",
    "from IPython.display import display\n",
    "%matplotlib inline\n",
    "sns.set(style=\"whitegrid\")\n",
    "\n",
    "#warning ignore future\n",
    "import warnings\n",
    "# warnings.simplefilter(action='ignore', category=FutureWarning)\n",
    "warnings.filterwarnings(\"ignore\")\n",
    "gc.collect()\n",
    "\n",
    "SEED = 29082013\n",
    "os.environ['PYTHONHASHSEED'] = str(SEED)\n",
    "np.random.seed(SEED)\n",
    "rn.seed(SEED)\n",
    "\n",
    "from utils_alertas import *"
   ]
  },
  {
   "cell_type": "code",
   "execution_count": 2,
   "metadata": {},
   "outputs": [
    {
     "data": {
      "text/plain": [
       "<function utils_alertas.filtro_banca_mediana(df, col_funnel='FUNNEL_4', cosechas_a_analizar=['202009', '202010', '202011', '202012', '202101', '202102'])>"
      ]
     },
     "execution_count": 2,
     "metadata": {},
     "output_type": "execute_result"
    }
   ],
   "source": [
    "filtro_banca_mediana"
   ]
  },
  {
   "cell_type": "code",
   "execution_count": 3,
   "metadata": {},
   "outputs": [],
   "source": [
    "#!pip install pandas==0.25"
   ]
  },
  {
   "cell_type": "code",
   "execution_count": 4,
   "metadata": {},
   "outputs": [],
   "source": [
    "#!pip install git+git://github.com/shichenxie/scorecardpy.git"
   ]
  },
  {
   "cell_type": "code",
   "execution_count": 5,
   "metadata": {},
   "outputs": [],
   "source": [
    "#nativos\n",
    "import os\n",
    "import unicodedata\n",
    "\n",
    "#terceros\n",
    "import pandas as pd\n",
    "#import pymssql\n",
    "#import missingno as msno\n",
    "from collections import Counter\n",
    "import scorecardpy as sc\n",
    "\n",
    "#grafico\n",
    "import matplotlib.pyplot as plt\n",
    "import seaborn as sns\n",
    "from IPython.display import display\n",
    "%matplotlib inline\n",
    "sns.set(style=\"whitegrid\")"
   ]
  },
  {
   "cell_type": "code",
   "execution_count": 6,
   "metadata": {},
   "outputs": [
    {
     "data": {
      "text/html": [
       "<div>\n",
       "<style scoped>\n",
       "    .dataframe tbody tr th:only-of-type {\n",
       "        vertical-align: middle;\n",
       "    }\n",
       "\n",
       "    .dataframe tbody tr th {\n",
       "        vertical-align: top;\n",
       "    }\n",
       "\n",
       "    .dataframe thead th {\n",
       "        text-align: right;\n",
       "    }\n",
       "</style>\n",
       "<table border=\"1\" class=\"dataframe\">\n",
       "  <thead>\n",
       "    <tr style=\"text-align: right;\">\n",
       "      <th></th>\n",
       "      <th>PERIODO</th>\n",
       "      <th>COD_UNICO</th>\n",
       "      <th>RUC</th>\n",
       "      <th>FLG_VIGENTE</th>\n",
       "      <th>NOMBRE_COMPLETO</th>\n",
       "      <th>FLG_SUSPENDIDO</th>\n",
       "      <th>FLG_VENCIDA</th>\n",
       "      <th>FLG_CANCELADO</th>\n",
       "      <th>FLG_MONOLINEA</th>\n",
       "      <th>FLG_SOLO_REACTIVA</th>\n",
       "      <th>...</th>\n",
       "      <th>target_fusion_atraso_feve</th>\n",
       "      <th>PERIODO_ZONAL</th>\n",
       "      <th>target_FINAL_fusion_atraso_feve_2Mbueno</th>\n",
       "      <th>target_FINAL_fusion_atraso_SEGUIDO_15000_FEVE_2Mbueno</th>\n",
       "      <th>target_fusion_atraso_feve_3_3Mbueno</th>\n",
       "      <th>target_fusion_atraso_feve_3_1Mbueno</th>\n",
       "      <th>target_fusion_atraso_feve_3</th>\n",
       "      <th>target_variante_atraso_feve_3_3Mbueno</th>\n",
       "      <th>target_variante_atraso_feve_3_1Mbueno</th>\n",
       "      <th>target_variante_atraso_feve</th>\n",
       "    </tr>\n",
       "  </thead>\n",
       "  <tbody>\n",
       "    <tr>\n",
       "      <th>0</th>\n",
       "      <td>202008</td>\n",
       "      <td>0002225225</td>\n",
       "      <td>20170717261</td>\n",
       "      <td>1</td>\n",
       "      <td>RUMI IMPORT</td>\n",
       "      <td>0</td>\n",
       "      <td>0</td>\n",
       "      <td>0</td>\n",
       "      <td>0</td>\n",
       "      <td>0</td>\n",
       "      <td>...</td>\n",
       "      <td>NaN</td>\n",
       "      <td>202008_BEL ZONAL 3</td>\n",
       "      <td>NaN</td>\n",
       "      <td>NaN</td>\n",
       "      <td>NaN</td>\n",
       "      <td>NaN</td>\n",
       "      <td>NaN</td>\n",
       "      <td>NaN</td>\n",
       "      <td>NaN</td>\n",
       "      <td>NaN</td>\n",
       "    </tr>\n",
       "    <tr>\n",
       "      <th>1</th>\n",
       "      <td>202008</td>\n",
       "      <td>0004039624</td>\n",
       "      <td>10010600338</td>\n",
       "      <td>0</td>\n",
       "      <td>REATEGUI FLORES LUCAS</td>\n",
       "      <td>0</td>\n",
       "      <td>1</td>\n",
       "      <td>0</td>\n",
       "      <td>0</td>\n",
       "      <td>0</td>\n",
       "      <td>...</td>\n",
       "      <td>NaN</td>\n",
       "      <td>202008_BEP ZONAL 2</td>\n",
       "      <td>NaN</td>\n",
       "      <td>NaN</td>\n",
       "      <td>NaN</td>\n",
       "      <td>NaN</td>\n",
       "      <td>NaN</td>\n",
       "      <td>NaN</td>\n",
       "      <td>NaN</td>\n",
       "      <td>NaN</td>\n",
       "    </tr>\n",
       "    <tr>\n",
       "      <th>2</th>\n",
       "      <td>202008</td>\n",
       "      <td>0004017117</td>\n",
       "      <td>20293331066</td>\n",
       "      <td>1</td>\n",
       "      <td>PRECISION PERU</td>\n",
       "      <td>1</td>\n",
       "      <td>1</td>\n",
       "      <td>1</td>\n",
       "      <td>0</td>\n",
       "      <td>0</td>\n",
       "      <td>...</td>\n",
       "      <td>NaN</td>\n",
       "      <td>202008_BEL ZONAL 1</td>\n",
       "      <td>NaN</td>\n",
       "      <td>NaN</td>\n",
       "      <td>NaN</td>\n",
       "      <td>NaN</td>\n",
       "      <td>NaN</td>\n",
       "      <td>NaN</td>\n",
       "      <td>NaN</td>\n",
       "      <td>NaN</td>\n",
       "    </tr>\n",
       "    <tr>\n",
       "      <th>3</th>\n",
       "      <td>202008</td>\n",
       "      <td>0003980042</td>\n",
       "      <td>20101391397</td>\n",
       "      <td>0</td>\n",
       "      <td>COMERCIAL INDUSTRIAL DELTA</td>\n",
       "      <td>1</td>\n",
       "      <td>0</td>\n",
       "      <td>1</td>\n",
       "      <td>0</td>\n",
       "      <td>1</td>\n",
       "      <td>...</td>\n",
       "      <td>NaN</td>\n",
       "      <td>202008_BEL ZONAL 1</td>\n",
       "      <td>NaN</td>\n",
       "      <td>NaN</td>\n",
       "      <td>NaN</td>\n",
       "      <td>NaN</td>\n",
       "      <td>NaN</td>\n",
       "      <td>NaN</td>\n",
       "      <td>NaN</td>\n",
       "      <td>NaN</td>\n",
       "    </tr>\n",
       "    <tr>\n",
       "      <th>4</th>\n",
       "      <td>202008</td>\n",
       "      <td>0003290442</td>\n",
       "      <td>20100244129</td>\n",
       "      <td>1</td>\n",
       "      <td>AGRICOLA COMERCIAL E INDUSTRIAL</td>\n",
       "      <td>1</td>\n",
       "      <td>0</td>\n",
       "      <td>0</td>\n",
       "      <td>0</td>\n",
       "      <td>1</td>\n",
       "      <td>...</td>\n",
       "      <td>NaN</td>\n",
       "      <td>202008_BEL ZONAL 2</td>\n",
       "      <td>NaN</td>\n",
       "      <td>NaN</td>\n",
       "      <td>NaN</td>\n",
       "      <td>NaN</td>\n",
       "      <td>NaN</td>\n",
       "      <td>NaN</td>\n",
       "      <td>NaN</td>\n",
       "      <td>NaN</td>\n",
       "    </tr>\n",
       "  </tbody>\n",
       "</table>\n",
       "<p>5 rows × 3030 columns</p>\n",
       "</div>"
      ],
      "text/plain": [
       "  PERIODO   COD_UNICO          RUC  FLG_VIGENTE  \\\n",
       "0  202008  0002225225  20170717261            1   \n",
       "1  202008  0004039624  10010600338            0   \n",
       "2  202008  0004017117  20293331066            1   \n",
       "3  202008  0003980042  20101391397            0   \n",
       "4  202008  0003290442  20100244129            1   \n",
       "\n",
       "                   NOMBRE_COMPLETO  FLG_SUSPENDIDO  FLG_VENCIDA  \\\n",
       "0                      RUMI IMPORT               0            0   \n",
       "1            REATEGUI FLORES LUCAS               0            1   \n",
       "2                   PRECISION PERU               1            1   \n",
       "3       COMERCIAL INDUSTRIAL DELTA               1            0   \n",
       "4  AGRICOLA COMERCIAL E INDUSTRIAL               1            0   \n",
       "\n",
       "   FLG_CANCELADO  FLG_MONOLINEA  FLG_SOLO_REACTIVA  ...  \\\n",
       "0              0              0                  0  ...   \n",
       "1              0              0                  0  ...   \n",
       "2              1              0                  0  ...   \n",
       "3              1              0                  1  ...   \n",
       "4              0              0                  1  ...   \n",
       "\n",
       "   target_fusion_atraso_feve       PERIODO_ZONAL  \\\n",
       "0                        NaN  202008_BEL ZONAL 3   \n",
       "1                        NaN  202008_BEP ZONAL 2   \n",
       "2                        NaN  202008_BEL ZONAL 1   \n",
       "3                        NaN  202008_BEL ZONAL 1   \n",
       "4                        NaN  202008_BEL ZONAL 2   \n",
       "\n",
       "   target_FINAL_fusion_atraso_feve_2Mbueno  \\\n",
       "0                                      NaN   \n",
       "1                                      NaN   \n",
       "2                                      NaN   \n",
       "3                                      NaN   \n",
       "4                                      NaN   \n",
       "\n",
       "   target_FINAL_fusion_atraso_SEGUIDO_15000_FEVE_2Mbueno  \\\n",
       "0                                                NaN       \n",
       "1                                                NaN       \n",
       "2                                                NaN       \n",
       "3                                                NaN       \n",
       "4                                                NaN       \n",
       "\n",
       "   target_fusion_atraso_feve_3_3Mbueno  target_fusion_atraso_feve_3_1Mbueno  \\\n",
       "0                                  NaN                                  NaN   \n",
       "1                                  NaN                                  NaN   \n",
       "2                                  NaN                                  NaN   \n",
       "3                                  NaN                                  NaN   \n",
       "4                                  NaN                                  NaN   \n",
       "\n",
       "  target_fusion_atraso_feve_3 target_variante_atraso_feve_3_3Mbueno  \\\n",
       "0                         NaN                                   NaN   \n",
       "1                         NaN                                   NaN   \n",
       "2                         NaN                                   NaN   \n",
       "3                         NaN                                   NaN   \n",
       "4                         NaN                                   NaN   \n",
       "\n",
       "  target_variante_atraso_feve_3_1Mbueno target_variante_atraso_feve  \n",
       "0                                   NaN                         NaN  \n",
       "1                                   NaN                         NaN  \n",
       "2                                   NaN                         NaN  \n",
       "3                                   NaN                         NaN  \n",
       "4                                   NaN                         NaN  \n",
       "\n",
       "[5 rows x 3030 columns]"
      ]
     },
     "execution_count": 6,
     "metadata": {},
     "output_type": "execute_result"
    }
   ],
   "source": [
    "data = pd.read_csv('AVANCE_5.5.csv', dtype={\n",
    "    'COD_UNICO': str,\n",
    "    'PERIODO': str\n",
    "})\n",
    "data.head()"
   ]
  },
  {
   "cell_type": "code",
   "execution_count": 7,
   "metadata": {},
   "outputs": [
    {
     "name": "stdout",
     "output_type": "stream",
     "text": [
      "3030\n"
     ]
    }
   ],
   "source": [
    "print(len(data.columns))"
   ]
  },
  {
   "cell_type": "code",
   "execution_count": 8,
   "metadata": {},
   "outputs": [
    {
     "data": {
      "text/plain": [
       "['target_FINAL_fusion_atraso_feve_2Mbueno',\n",
       " 'target_FINAL_fusion_atraso_SEGUIDO_15000_FEVE_2Mbueno']"
      ]
     },
     "execution_count": 8,
     "metadata": {},
     "output_type": "execute_result"
    }
   ],
   "source": [
    "[col for col in data.columns if 'FINAL' in col]"
   ]
  },
  {
   "cell_type": "code",
   "execution_count": 9,
   "metadata": {},
   "outputs": [],
   "source": [
    "col_target = 'target_FINAL_fusion_atraso_feve_2Mbueno'"
   ]
  },
  {
   "cell_type": "code",
   "execution_count": null,
   "metadata": {},
   "outputs": [],
   "source": []
  },
  {
   "cell_type": "code",
   "execution_count": 10,
   "metadata": {},
   "outputs": [
    {
     "data": {
      "text/html": [
       "<div>\n",
       "<style scoped>\n",
       "    .dataframe tbody tr th:only-of-type {\n",
       "        vertical-align: middle;\n",
       "    }\n",
       "\n",
       "    .dataframe tbody tr th {\n",
       "        vertical-align: top;\n",
       "    }\n",
       "\n",
       "    .dataframe thead th {\n",
       "        text-align: right;\n",
       "    }\n",
       "</style>\n",
       "<table border=\"1\" class=\"dataframe\">\n",
       "  <thead>\n",
       "    <tr style=\"text-align: right;\">\n",
       "      <th></th>\n",
       "      <th>target_SF_8_dias_atraso_o_mas_1Mbueno</th>\n",
       "    </tr>\n",
       "  </thead>\n",
       "  <tbody>\n",
       "    <tr>\n",
       "      <th>446</th>\n",
       "      <td>NaN</td>\n",
       "    </tr>\n",
       "    <tr>\n",
       "      <th>2984</th>\n",
       "      <td>NaN</td>\n",
       "    </tr>\n",
       "    <tr>\n",
       "      <th>5699</th>\n",
       "      <td>1.0</td>\n",
       "    </tr>\n",
       "    <tr>\n",
       "      <th>9226</th>\n",
       "      <td>NaN</td>\n",
       "    </tr>\n",
       "    <tr>\n",
       "      <th>12111</th>\n",
       "      <td>0.0</td>\n",
       "    </tr>\n",
       "    <tr>\n",
       "      <th>14370</th>\n",
       "      <td>1.0</td>\n",
       "    </tr>\n",
       "    <tr>\n",
       "      <th>15892</th>\n",
       "      <td>1.0</td>\n",
       "    </tr>\n",
       "    <tr>\n",
       "      <th>19549</th>\n",
       "      <td>NaN</td>\n",
       "    </tr>\n",
       "    <tr>\n",
       "      <th>23499</th>\n",
       "      <td>0.0</td>\n",
       "    </tr>\n",
       "  </tbody>\n",
       "</table>\n",
       "</div>"
      ],
      "text/plain": [
       "       target_SF_8_dias_atraso_o_mas_1Mbueno\n",
       "446                                      NaN\n",
       "2984                                     NaN\n",
       "5699                                     1.0\n",
       "9226                                     NaN\n",
       "12111                                    0.0\n",
       "14370                                    1.0\n",
       "15892                                    1.0\n",
       "19549                                    NaN\n",
       "23499                                    0.0"
      ]
     },
     "execution_count": 10,
     "metadata": {},
     "output_type": "execute_result"
    }
   ],
   "source": [
    "data[data['COD_UNICO'] == str(8443816).zfill(10)].sort_values(by=['PERIODO'])[\n",
    "    ['target_SF_8_dias_atraso_o_mas_1Mbueno']\n",
    "]"
   ]
  },
  {
   "cell_type": "code",
   "execution_count": null,
   "metadata": {},
   "outputs": [],
   "source": []
  },
  {
   "cell_type": "markdown",
   "metadata": {},
   "source": [
    "## DATA A ANALIZAR"
   ]
  },
  {
   "cell_type": "code",
   "execution_count": 11,
   "metadata": {},
   "outputs": [
    {
     "data": {
      "text/plain": [
       "21"
      ]
     },
     "execution_count": 11,
     "metadata": {},
     "output_type": "execute_result"
    }
   ],
   "source": [
    "col_no_review = list(set(['COD_UNICO', 'PERIODO', 'DES_GRUPO_ECONOMICO', 'ENCARGADO', \n",
    "                 'NOMBRE_COMPLETO', 'NOMBRE_JEFE', 'RUC', 'GRUPO_ECON_FEVE_SEGUIR', 'MTO_CASH_IN', 'RFMClass_quartil', 'DESC_ATRASO_SF',\n",
    "                 'GRUPO_ECON_CLASIF_NO_NORMAL', 'GRUPO_ECON_FEVE_DURO', 'RFMClass_septil', 'MTO_CASH_IN', 'DESC_ATRASO_SF',\n",
    "                 'SUBSECTOR'] + [col for col in data.columns if 'DESCR' in col.upper()]))\n",
    "col_no_review = list(set(col_no_review))\n",
    "len(col_no_review)"
   ]
  },
  {
   "cell_type": "code",
   "execution_count": 12,
   "metadata": {},
   "outputs": [],
   "source": [
    "all_data = data.copy()"
   ]
  },
  {
   "cell_type": "code",
   "execution_count": 13,
   "metadata": {},
   "outputs": [
    {
     "name": "stdout",
     "output_type": "stream",
     "text": [
      "(24014, 3030)\n",
      "(4829, 3030)\n"
     ]
    }
   ],
   "source": [
    "print(data.shape)\n",
    "data = filtro_banca_mediana(data)\n",
    "print(data.shape)"
   ]
  },
  {
   "cell_type": "code",
   "execution_count": 14,
   "metadata": {},
   "outputs": [
    {
     "data": {
      "text/plain": [
       "202009    834\n",
       "202010    807\n",
       "202012    803\n",
       "202101    799\n",
       "202102    798\n",
       "202011    788\n",
       "Name: PERIODO, dtype: int64"
      ]
     },
     "execution_count": 14,
     "metadata": {},
     "output_type": "execute_result"
    }
   ],
   "source": [
    "data['PERIODO'].value_counts(dropna=False)"
   ]
  },
  {
   "cell_type": "code",
   "execution_count": 15,
   "metadata": {},
   "outputs": [
    {
     "data": {
      "text/plain": [
       "BEL ZONAL 2    4829\n",
       "Name: ZONAL, dtype: int64"
      ]
     },
     "execution_count": 15,
     "metadata": {},
     "output_type": "execute_result"
    }
   ],
   "source": [
    "data['ZONAL'].value_counts(dropna=False)"
   ]
  },
  {
   "cell_type": "markdown",
   "metadata": {},
   "source": [
    "#### REVISION DE NO NULOS"
   ]
  },
  {
   "cell_type": "code",
   "execution_count": 16,
   "metadata": {},
   "outputs": [
    {
     "data": {
      "text/plain": [
       "((3506, 3030), (4829, 3030))"
      ]
     },
     "execution_count": 16,
     "metadata": {},
     "output_type": "execute_result"
    }
   ],
   "source": [
    "data[data[col_target].notnull()].shape, data.shape"
   ]
  },
  {
   "cell_type": "code",
   "execution_count": 17,
   "metadata": {},
   "outputs": [
    {
     "data": {
      "text/plain": [
       "528"
      ]
     },
     "execution_count": 17,
     "metadata": {},
     "output_type": "execute_result"
    }
   ],
   "source": [
    "nn = data[data[col_target].notnull()].isnull().sum()\n",
    "no_nulos = list(nn[nn == 0].index)\n",
    "len(no_nulos)"
   ]
  },
  {
   "cell_type": "code",
   "execution_count": 18,
   "metadata": {},
   "outputs": [],
   "source": [
    "no_nulos.remove('PERIODO')\n",
    "no_nulos.remove('COD_UNICO')"
   ]
  },
  {
   "cell_type": "markdown",
   "metadata": {},
   "source": [
    "## Peso de la evidencia  / informacion de su valor"
   ]
  },
  {
   "cell_type": "code",
   "execution_count": 19,
   "metadata": {},
   "outputs": [],
   "source": [
    "pd.set_option(\"display.max_rows\", 1000)\n",
    "pd.set_option(\"display.max_colwidth\", 1000)\n",
    "pd.set_option(\"display.max_columns\", 1000)"
   ]
  },
  {
   "cell_type": "code",
   "execution_count": 20,
   "metadata": {},
   "outputs": [],
   "source": [
    "#iv_yoy = sc.iv(\n",
    "#    data[data[col_target].notnull()].drop(\n",
    "#        [col for col in data.columns if 'target' in col and col != col_target] + ['COD_UNICO', 'PERIODO'], axis=1), y=col_target\n",
    "#)"
   ]
  },
  {
   "cell_type": "code",
   "execution_count": 21,
   "metadata": {},
   "outputs": [],
   "source": [
    "#select = iv_yoy[\n",
    "#    (iv_yoy['info_value'] > 0.1) #&  (iv_yoy['info_value'] <= 1)\n",
    "#]\n",
    "#select.shape"
   ]
  },
  {
   "cell_type": "code",
   "execution_count": 22,
   "metadata": {},
   "outputs": [],
   "source": [
    "#dict_iv = select.set_index('variable').to_dict().get('info_value', {})"
   ]
  },
  {
   "cell_type": "code",
   "execution_count": 23,
   "metadata": {},
   "outputs": [],
   "source": [
    "#select[:55]"
   ]
  },
  {
   "cell_type": "code",
   "execution_count": 24,
   "metadata": {},
   "outputs": [],
   "source": [
    "#select[55:110]"
   ]
  },
  {
   "cell_type": "code",
   "execution_count": 25,
   "metadata": {},
   "outputs": [],
   "source": [
    "#select[110:165]"
   ]
  },
  {
   "cell_type": "code",
   "execution_count": 26,
   "metadata": {},
   "outputs": [],
   "source": [
    "#select[165:220]"
   ]
  },
  {
   "cell_type": "code",
   "execution_count": 27,
   "metadata": {},
   "outputs": [
    {
     "data": {
      "text/plain": [
       "'0.1.9.3'"
      ]
     },
     "execution_count": 27,
     "metadata": {},
     "output_type": "execute_result"
    }
   ],
   "source": [
    "sc.__version__"
   ]
  },
  {
   "cell_type": "code",
   "execution_count": 28,
   "metadata": {},
   "outputs": [
    {
     "data": {
      "text/plain": [
       "'4.10.1'"
      ]
     },
     "execution_count": 28,
     "metadata": {},
     "output_type": "execute_result"
    }
   ],
   "source": [
    "import conda\n",
    "conda.__version__"
   ]
  },
  {
   "cell_type": "code",
   "execution_count": 29,
   "metadata": {},
   "outputs": [
    {
     "data": {
      "text/plain": [
       "'1.2.3'"
      ]
     },
     "execution_count": 29,
     "metadata": {},
     "output_type": "execute_result"
    }
   ],
   "source": [
    "pd.__version__   ### 1.1.3 ---> versión en la que funciona scorerapy (isuue reportado para 1.2.0 en adelante)"
   ]
  },
  {
   "cell_type": "code",
   "execution_count": 30,
   "metadata": {},
   "outputs": [],
   "source": [
    "if 'FEC_INGRESO' in data.columns:\n",
    "    del data['FEC_INGRESO']"
   ]
  },
  {
   "cell_type": "code",
   "execution_count": 31,
   "metadata": {},
   "outputs": [
    {
     "data": {
      "text/plain": [
       "2429     NaN\n",
       "2430     0.0\n",
       "2433     0.0\n",
       "2438     NaN\n",
       "2441     NaN\n",
       "        ... \n",
       "18203    1.0\n",
       "18211    NaN\n",
       "18216    0.0\n",
       "18219    0.0\n",
       "18220    NaN\n",
       "Name: target_FINAL_fusion_atraso_feve_2Mbueno, Length: 4829, dtype: float64"
      ]
     },
     "execution_count": 31,
     "metadata": {},
     "output_type": "execute_result"
    }
   ],
   "source": [
    "data['target_FINAL_fusion_atraso_feve_2Mbueno']"
   ]
  },
  {
   "cell_type": "markdown",
   "metadata": {},
   "source": [
    "## >> BINS POR WOE/ IV"
   ]
  },
  {
   "cell_type": "code",
   "execution_count": null,
   "metadata": {},
   "outputs": [
    {
     "name": "stdout",
     "output_type": "stream",
     "text": [
      "[INFO] creating woe binning ...\n"
     ]
    }
   ],
   "source": [
    "%%time\n",
    "\n",
    "if creation_mode:\n",
    "    cortes = sc.woebin(\n",
    "        data[\n",
    "            (data[col_target].notnull())\n",
    "        ].drop(\n",
    "            [col for col in data.columns if 'target' in col and col != col_target] + col_no_review, \n",
    "            axis=1\n",
    "        ),\n",
    "        y=col_target,\n",
    "        method='tree',\n",
    "        no_cores=4,\n",
    "        count_distr_limit=0.05  # el 5% por bin es lo mínimo recomendable para arboles\n",
    "    )"
   ]
  },
  {
   "cell_type": "code",
   "execution_count": null,
   "metadata": {},
   "outputs": [],
   "source": [
    "#help(sc.woebin)"
   ]
  },
  {
   "cell_type": "code",
   "execution_count": null,
   "metadata": {},
   "outputs": [],
   "source": [
    "#sc.woebin_plot(bins)"
   ]
  },
  {
   "cell_type": "code",
   "execution_count": null,
   "metadata": {},
   "outputs": [],
   "source": [
    "if creation_mode:\n",
    "    dic_maxprob_corte = {}\n",
    "    for k, v in cortes.items():\n",
    "        #print(k, type(v))\n",
    "        ##print(\">\"*20, ' ', k.upper())\n",
    "        #display(v)\n",
    "        #dic_maxprob_corte[k] = v['badprob'].max()\n",
    "        max_probabilidad_malo = v[v['bin'] != 'missing']['badprob'].max()\n",
    "        informacion_valor = v['total_iv'].max()\n",
    "        dic_maxprob_corte[k] = [\n",
    "            max_probabilidad_malo, informacion_valor, (max_probabilidad_malo + informacion_valor) / 2\n",
    "        ]"
   ]
  },
  {
   "cell_type": "code",
   "execution_count": null,
   "metadata": {},
   "outputs": [],
   "source": [
    "if creation_mode:\n",
    "    listado_mayor_prob_corte = sorted([(k, v) for k, v in dic_maxprob_corte.items()], key=lambda _: _[1][1], reverse=True)\n",
    "    listado_mayor_prob_corte[:15]"
   ]
  },
  {
   "cell_type": "code",
   "execution_count": null,
   "metadata": {},
   "outputs": [],
   "source": [
    "if creation_mode:\n",
    "    vars_top = [_[0] for _ in listado_mayor_prob_corte[:500]]\n",
    "    len(vars_top)"
   ]
  },
  {
   "cell_type": "code",
   "execution_count": null,
   "metadata": {},
   "outputs": [],
   "source": [
    "if 'FEC_INGRESO' in no_nulos:\n",
    "    no_nulos.remove('FEC_INGRESO')"
   ]
  },
  {
   "cell_type": "markdown",
   "metadata": {},
   "source": [
    "## Correlacion "
   ]
  },
  {
   "cell_type": "code",
   "execution_count": null,
   "metadata": {},
   "outputs": [],
   "source": [
    "data_corr = data[data[col_target].notnull()][no_nulos].corr(method='spearman')"
   ]
  },
  {
   "cell_type": "code",
   "execution_count": null,
   "metadata": {},
   "outputs": [],
   "source": [
    "data_corr[col_target].sort_values(ascending=False).apply(lambda _: abs(_))[:58]"
   ]
  },
  {
   "cell_type": "code",
   "execution_count": null,
   "metadata": {},
   "outputs": [],
   "source": [
    "#data['ATRASO_PROM_ULT_TRIM_OVER_TRIM_PASADO_MENOR_1'].value_counts(dropna=False)"
   ]
  },
  {
   "cell_type": "code",
   "execution_count": null,
   "metadata": {},
   "outputs": [],
   "source": [
    "#select_1.to_excel(\"VARIABLES_CANDIDATAS_SEGUIR_COVID.xlsx\", index=False)"
   ]
  },
  {
   "cell_type": "markdown",
   "metadata": {},
   "source": [
    "### NUEVAS VARIABLES"
   ]
  },
  {
   "cell_type": "markdown",
   "metadata": {},
   "source": [
    "El agregado será sobre toda la data"
   ]
  },
  {
   "cell_type": "code",
   "execution_count": null,
   "metadata": {},
   "outputs": [],
   "source": [
    "data = all_data.copy()\n",
    "del all_data"
   ]
  },
  {
   "cell_type": "code",
   "execution_count": null,
   "metadata": {},
   "outputs": [],
   "source": [
    "data[data['COD_UNICO'] == str(8443816).zfill(10)].sort_values(by=['PERIODO'])[\n",
    "    ['target_SF_8_dias_atraso_o_mas_1Mbueno', 'PERIODO', 'MAX_DIAS_ATRASO', 'MAX_DIAS_ATRASO_SF',\n",
    "     'TIENE_DEUDA_REFINANCIADO_RCC', 'TIENE_DEUDA_REFINANCIADO_IBK', 'TIENE_DEUDA_JUDICIAL_RCC']\n",
    "]"
   ]
  },
  {
   "cell_type": "code",
   "execution_count": null,
   "metadata": {},
   "outputs": [],
   "source": [
    "display(cortes['PERCENT_DELAY_OVER_DEBT_RCC'])"
   ]
  },
  {
   "cell_type": "code",
   "execution_count": null,
   "metadata": {},
   "outputs": [],
   "source": []
  },
  {
   "cell_type": "code",
   "execution_count": null,
   "metadata": {},
   "outputs": [],
   "source": [
    "data = add_new_var_x_cut_up(data, colum='ATRASO_PROM_U6M_COLDIRECT_VIG_VENC_SF', cortes=[2,3,4,5,6,7], impute=0, up=True, soft=False)"
   ]
  },
  {
   "cell_type": "code",
   "execution_count": null,
   "metadata": {},
   "outputs": [],
   "source": [
    "data = add_new_var_x_cut_up(data, colum='ATRASO_PROM_U3M_COLDIRECT_VIG_VENC_SF', cortes=[2,3,4,5,6,7], impute=0, up=True, soft=False)"
   ]
  },
  {
   "cell_type": "code",
   "execution_count": null,
   "metadata": {},
   "outputs": [],
   "source": [
    "data = add_new_var_x_cut_up(data, colum='PERCENT_DELAY_OVER_DEBT_RCC', cortes=[0.01, 0.02, 0.03, 0.04, 0.05, 0.1], impute=0, up=True, soft=False)"
   ]
  },
  {
   "cell_type": "code",
   "execution_count": null,
   "metadata": {},
   "outputs": [],
   "source": [
    "display(cortes['MTO_ATRASO_NOLETRAS'])"
   ]
  },
  {
   "cell_type": "code",
   "execution_count": null,
   "metadata": {},
   "outputs": [],
   "source": [
    "data = add_new_var_x_cut_up(data, colum='MTO_ATRASO_NOLETRAS', cortes=[20000, 25000, 15000], impute=0, up=True, soft=False)"
   ]
  },
  {
   "cell_type": "code",
   "execution_count": null,
   "metadata": {},
   "outputs": [],
   "source": [
    "data['NO_CUENTA_CON_CEF_COMPARABLE'] = data['DESFASE_CEF_MESES_REAL'].apply(lambda _: 1 if pd.isnull(_) else 0)\n",
    "pd.crosstab(\n",
    "    data['NO_CUENTA_CON_CEF_COMPARABLE'], data['PERIODO']\n",
    ")"
   ]
  },
  {
   "cell_type": "code",
   "execution_count": null,
   "metadata": {},
   "outputs": [],
   "source": [
    "display(cortes['DESFASE_CEF_MESES_REAL'])"
   ]
  },
  {
   "cell_type": "code",
   "execution_count": null,
   "metadata": {},
   "outputs": [],
   "source": [
    "data = add_new_var_x_cut_up(data, colum='DESFASE_CEF_MESES_REAL', cortes=[3,4,5,6,7,8,9,10], impute=0, up=True, soft=False)"
   ]
  },
  {
   "cell_type": "code",
   "execution_count": null,
   "metadata": {},
   "outputs": [],
   "source": []
  },
  {
   "cell_type": "code",
   "execution_count": null,
   "metadata": {},
   "outputs": [],
   "source": [
    "display(cortes['MONTO_ATRASO_TOTAL_SF'])"
   ]
  },
  {
   "cell_type": "code",
   "execution_count": null,
   "metadata": {},
   "outputs": [],
   "source": [
    "data = add_new_var_x_cut_up(data, colum='MONTO_ATRASO_TOTAL_SF', cortes=[20000, 25000, 35000, 50000, 100000, 160000], impute=0, up=True, soft=False)"
   ]
  },
  {
   "cell_type": "code",
   "execution_count": null,
   "metadata": {},
   "outputs": [],
   "source": [
    "display(cortes['DEUDA_IBK_FUENTE_INTERNA'])"
   ]
  },
  {
   "cell_type": "code",
   "execution_count": null,
   "metadata": {},
   "outputs": [],
   "source": [
    "data = add_new_var_x_cut_up(data, colum='DEUDA_IBK_FUENTE_INTERNA', cortes=[200000, 100000, 50000, 150000, 250000], impute=0, up=True, soft=False)"
   ]
  },
  {
   "cell_type": "code",
   "execution_count": null,
   "metadata": {},
   "outputs": [],
   "source": []
  },
  {
   "cell_type": "code",
   "execution_count": null,
   "metadata": {},
   "outputs": [],
   "source": [
    "if creation_mode:\n",
    "    var = vars_top[0]\n",
    "    print(\">>>>> \", var)\n",
    "    display(cortes[var])"
   ]
  },
  {
   "cell_type": "code",
   "execution_count": null,
   "metadata": {},
   "outputs": [],
   "source": [
    "data = add_new_var_x_cut_up(data, colum='ATRASO_PROM_ULT_TRIM_OVER_TRIM_PASADO', cortes=[1, 1.1, 1.2, 1.3, 1.4, 1.5, 1.6, 1.7], impute=0, up=True, soft=False)"
   ]
  },
  {
   "cell_type": "code",
   "execution_count": null,
   "metadata": {},
   "outputs": [],
   "source": [
    "data = add_new_var_x_cut_up(data, colum='M_Quartile', cortes=[4], impute=0, up=True, soft=False)\n",
    "data = add_new_var_x_cut_up(data, colum='M_Quartile', cortes=[3], impute=0, up=True, soft=False)\n",
    "data = add_new_var_x_cut_up(data, colum='M_Septile', cortes=[4], impute=0, up=True, soft=False)\n",
    "data = add_new_var_x_cut_up(data, colum='M_Septile', cortes=[5], impute=0, up=True, soft=False)\n",
    "data = add_new_var_x_cut_up(data, colum='M_Septile', cortes=[6], impute=0, up=True, soft=False)\n",
    "data = add_new_var_x_cut_up(data, colum='M_Septile', cortes=[7], impute=0, up=True, soft=False)"
   ]
  },
  {
   "cell_type": "code",
   "execution_count": null,
   "metadata": {},
   "outputs": [],
   "source": [
    "data = add_new_var_x_cut_up(data, colum='R_Quartile', cortes=[4], impute=0, up=True, soft=False)\n",
    "data = add_new_var_x_cut_up(data, colum='R_Quartile', cortes=[3], impute=0, up=True, soft=False)\n",
    "data = add_new_var_x_cut_up(data, colum='R_Septile', cortes=[4], impute=0, up=True, soft=False)\n",
    "data = add_new_var_x_cut_up(data, colum='R_Septile', cortes=[5], impute=0, up=True, soft=False)\n",
    "data = add_new_var_x_cut_up(data, colum='R_Septile', cortes=[6], impute=0, up=True, soft=False)\n",
    "data = add_new_var_x_cut_up(data, colum='R_Septile', cortes=[7], impute=0, up=True, soft=False)"
   ]
  },
  {
   "cell_type": "code",
   "execution_count": null,
   "metadata": {},
   "outputs": [],
   "source": [
    "data = add_new_var_x_cut_up(data, colum='F_Quartile', cortes=[4], impute=0, up=True, soft=False)\n",
    "data = add_new_var_x_cut_up(data, colum='F_Quartile', cortes=[3], impute=0, up=True, soft=False)\n",
    "data = add_new_var_x_cut_up(data, colum='F_Septile', cortes=[4], impute=0, up=True, soft=False)\n",
    "data = add_new_var_x_cut_up(data, colum='F_Septile', cortes=[5], impute=0, up=True, soft=False)\n",
    "data = add_new_var_x_cut_up(data, colum='F_Septile', cortes=[6], impute=0, up=True, soft=False)\n",
    "data = add_new_var_x_cut_up(data, colum='F_Septile', cortes=[7], impute=0, up=True, soft=False)"
   ]
  },
  {
   "cell_type": "code",
   "execution_count": null,
   "metadata": {},
   "outputs": [],
   "source": [
    "if creation_mode:\n",
    "    var = vars_top[1]\n",
    "    print(\">>>>> \", var)\n",
    "    display(cortes[var])"
   ]
  },
  {
   "cell_type": "code",
   "execution_count": null,
   "metadata": {},
   "outputs": [],
   "source": [
    "data = add_new_var_x_cut_up(data, colum='MAX_DIAS_ATRASO_SF', cortes=[1, 2,3,4,5,6,7], impute=0, up=True, soft=False)"
   ]
  },
  {
   "cell_type": "code",
   "execution_count": null,
   "metadata": {},
   "outputs": [],
   "source": []
  },
  {
   "cell_type": "code",
   "execution_count": null,
   "metadata": {},
   "outputs": [],
   "source": [
    "data = add_new_var_x_cut_up(data, colum='ATRASO_PROM_U12M_COLDIRECT_VIG_VENC_SF', cortes=[5,6,7,8,9, 10], impute=0, up=True, soft=False)"
   ]
  },
  {
   "cell_type": "code",
   "execution_count": null,
   "metadata": {},
   "outputs": [],
   "source": [
    "if creation_mode:\n",
    "    var = vars_top[2]\n",
    "    print(\">>>>> \", var)\n",
    "    display(cortes[var])"
   ]
  },
  {
   "cell_type": "code",
   "execution_count": null,
   "metadata": {},
   "outputs": [],
   "source": [
    "data = add_new_var_x_cut_up(data, colum='NRO_MESES_CON_ATRASO_U6M_COLDIRECT_SF', cortes=[1,2,3,4,5,6], impute=0, up=True, soft=False)"
   ]
  },
  {
   "cell_type": "code",
   "execution_count": null,
   "metadata": {},
   "outputs": [],
   "source": [
    "data['impacto_meedio_o_alto'] = data['IMPACTO_COVID_FICHA'].apply(lambda _: 1 if _ in ['alto', 'medio'] else 0)"
   ]
  },
  {
   "cell_type": "code",
   "execution_count": null,
   "metadata": {},
   "outputs": [],
   "source": [
    "if creation_mode:\n",
    "    var = vars_top[3]\n",
    "    print(\">>>>> \", var)\n",
    "    display(cortes[var])"
   ]
  },
  {
   "cell_type": "code",
   "execution_count": null,
   "metadata": {},
   "outputs": [],
   "source": [
    "data = add_new_var_x_cut_up(data, colum='NRO_BANCOS_PRIN_CON_DIAS_ATRASOSF_ULT_RCC', cortes=[1,2,3, 4], impute=0, up=True, soft=False)"
   ]
  },
  {
   "cell_type": "code",
   "execution_count": null,
   "metadata": {},
   "outputs": [],
   "source": []
  },
  {
   "cell_type": "code",
   "execution_count": null,
   "metadata": {},
   "outputs": [],
   "source": [
    "if creation_mode:\n",
    "    var = vars_top[4]\n",
    "    print(\">>>>> \", var)\n",
    "    display(cortes[var])"
   ]
  },
  {
   "cell_type": "code",
   "execution_count": null,
   "metadata": {},
   "outputs": [],
   "source": [
    "data = add_new_var_x_cut_up(data, colum='NRO_BANCOS_PRIN_CON_DIAS_ATRASO_MAYOR_A_IBKSF_ULT_RCC', cortes=[1,2,3], impute=0, up=True, soft=False)"
   ]
  },
  {
   "cell_type": "code",
   "execution_count": null,
   "metadata": {},
   "outputs": [],
   "source": [
    "#display(cortes['SUBSECTOR'])"
   ]
  },
  {
   "cell_type": "code",
   "execution_count": null,
   "metadata": {},
   "outputs": [],
   "source": [
    "texto_a_comparar = \"\"\"\n",
    "Textil y calzado%,%Restaurante y eventos sociales%,%Bebidas alcohólicas%,%Taller Automotriz%,%Turismo%,%Vehículos%,%Estudio Legal y contable%,%Minerales metálicos%,%Transporte Urbano%,%Hotelería\n",
    "\"\"\".upper()\n",
    "\n",
    "otro_texto_adicional = \"\"\"\n",
    "Abarrotes%,%Agencia de Aduanas y servicios relacionados%,%Artículos de oficina%,%Limpieza%,%Materiales de construcción y ferretería%,%Vehículos, repuestos y accesorios%,%Obras civiles\n",
    "\"\"\".upper()\n",
    "\n",
    "data['cut_letal_SUBSECTOR'] = data['SUBSECTOR'].apply(lambda _: None if pd.isnull(_) else (1 if _.upper() in texto_a_comparar.upper() else 0))\n",
    "data['cut_deCuidado_SUBSECTOR'] = data['SUBSECTOR'].apply(\n",
    "    lambda _: None if pd.isnull(_) else (1 if _.upper() in texto_a_comparar or _.upper() in otro_texto_adicional.upper() else 0))\n",
    "\n",
    "#pd.crosstab(data['cut_letal_SUBSECTOR'], data['SUBSECTOR'])"
   ]
  },
  {
   "cell_type": "code",
   "execution_count": null,
   "metadata": {},
   "outputs": [],
   "source": [
    "if creation_mode:\n",
    "    var = vars_top[5]\n",
    "    print(\">>>>> \", var)\n",
    "    display(cortes[var])"
   ]
  },
  {
   "cell_type": "code",
   "execution_count": null,
   "metadata": {},
   "outputs": [],
   "source": [
    "data = add_new_var_x_cut_up(data, colum='ENDEUDAMIENTO_PAS_VEN_VAR_CEF_SITUACION', cortes=[0.79999], impute=0, up=True, soft=False)"
   ]
  },
  {
   "cell_type": "code",
   "execution_count": null,
   "metadata": {},
   "outputs": [],
   "source": [
    "if creation_mode:\n",
    "    var = vars_top[6]\n",
    "    print(\">>>>> \", var)\n",
    "    display(cortes[var])"
   ]
  },
  {
   "cell_type": "code",
   "execution_count": null,
   "metadata": {},
   "outputs": [],
   "source": [
    "display(cortes['NRO_PROD_DEUDA_VIGENTE_SF_ULT_RCC'])"
   ]
  },
  {
   "cell_type": "code",
   "execution_count": null,
   "metadata": {},
   "outputs": [],
   "source": [
    "data = add_new_var_x_cut_up(data, colum='NRO_PROD_DEUDA_VIGENTE_SF_ULT_RCC', cortes=[3, 4, 5, 6], impute=0, up=True, soft=False)"
   ]
  },
  {
   "cell_type": "code",
   "execution_count": null,
   "metadata": {},
   "outputs": [],
   "source": [
    "from datetime import datetime"
   ]
  },
  {
   "cell_type": "code",
   "execution_count": null,
   "metadata": {},
   "outputs": [],
   "source": [
    "data['cambio_accionistas_o_cambio_gerencia'] = data[['CAMBIO_ACCIONISTAS_ANNIO', 'CAMBIO_GERENCIA_GENERAL_ANNIO']].apply(\n",
    "    lambda _: _[0] == datetime.now().year or _[1] == datetime.now().year, axis=1\n",
    ").astype(int)\n",
    "\n",
    "pd.crosstab(\n",
    "    data['cambio_accionistas_o_cambio_gerencia'], data[col_target].fillna(0)\n",
    ")"
   ]
  },
  {
   "cell_type": "code",
   "execution_count": null,
   "metadata": {},
   "outputs": [],
   "source": [
    "if creation_mode:\n",
    "    var = vars_top[7]\n",
    "    print(\">>>>> \", var)\n",
    "    display(cortes[var])"
   ]
  },
  {
   "cell_type": "code",
   "execution_count": null,
   "metadata": {},
   "outputs": [],
   "source": [
    "data = add_new_var_x_cut_up(data, colum='COL_DIRECTA_PROMEDIO_MENSUAL_U3M', cortes=[950000], impute=0, up=True, soft=False)"
   ]
  },
  {
   "cell_type": "code",
   "execution_count": null,
   "metadata": {},
   "outputs": [],
   "source": [
    "#ROTACION_INVENTARIOS_VAR_DIAS\n",
    "[col for col in data.columns if 'ROTACION_INVENTARIOS_VAR_DIAS' in col]"
   ]
  },
  {
   "cell_type": "code",
   "execution_count": null,
   "metadata": {},
   "outputs": [],
   "source": [
    "#data['ROTACION_INVENTARIOS_VAR_DIAS_CEF_SITUACION_x'] == data['ROTACION_INVENTARIOS_VAR_DIAS_CEF_SITUACION_y']"
   ]
  },
  {
   "cell_type": "code",
   "execution_count": null,
   "metadata": {},
   "outputs": [],
   "source": [
    "display(cortes['ROTACION_INVENTARIOS_VAR_DIAS_CEF_SITUACION'])"
   ]
  },
  {
   "cell_type": "code",
   "execution_count": null,
   "metadata": {},
   "outputs": [],
   "source": [
    "data = add_new_var_x_cut_up(data, colum='ROTACION_INVENTARIOS_VAR_DIAS_CEF_SITUACION', cortes=[10, 15, 20, 25, 30,35,40,50,60, 80,85,90, 100,150, 270], impute=0, up=True, soft=False)"
   ]
  },
  {
   "cell_type": "code",
   "execution_count": null,
   "metadata": {},
   "outputs": [],
   "source": [
    "if creation_mode:\n",
    "    var = vars_top[8]\n",
    "    print(\">>>>> \", var)\n",
    "    display(cortes[var])"
   ]
  },
  {
   "cell_type": "code",
   "execution_count": null,
   "metadata": {},
   "outputs": [],
   "source": [
    "if creation_mode:\n",
    "    var = vars_top[9]\n",
    "    print(\">>>>> \", var)\n",
    "    display(cortes[var])"
   ]
  },
  {
   "cell_type": "code",
   "execution_count": null,
   "metadata": {},
   "outputs": [],
   "source": [
    "[col for col in data.columns if 'SOBREGIROS' in col.upper()]"
   ]
  },
  {
   "cell_type": "code",
   "execution_count": null,
   "metadata": {},
   "outputs": [],
   "source": [
    "data['DEBT_SOBREGIROS__AVANCES_PERCENT_SF'] = data['DEBT_SOBREGIROS__AVANCES_VENCIDO_PERCENT_ULT_RCC']  + data['DEBT_SOBREGIROS__AVANCES_VIGENTE_PERCENT_ULT_RCC']\n",
    "\n",
    "data = add_new_var_x_cut_up(data, colum='DEBT_SOBREGIROS__AVANCES_PERCENT_SF', cortes=[0.05, 0.1, 0.15, 0.2 , 0.25, 0.3, 0.35, 0.29, 0.28], impute=0, up=True, soft=False)"
   ]
  },
  {
   "cell_type": "code",
   "execution_count": null,
   "metadata": {},
   "outputs": [],
   "source": [
    "if creation_mode:\n",
    "    var = vars_top[10]\n",
    "    print(\">>>>> \", var)\n",
    "    display(cortes[var])"
   ]
  },
  {
   "cell_type": "code",
   "execution_count": null,
   "metadata": {},
   "outputs": [],
   "source": [
    "[col for col in data.columns if 'MAX_DIAS_ATRASO_SFSF_ULT_RCC' in col.upper()]"
   ]
  },
  {
   "cell_type": "code",
   "execution_count": null,
   "metadata": {},
   "outputs": [],
   "source": [
    "del data['MAX_DIAS_ATRASO_SFSF_ULT_RCC_x']\n",
    "data['MAX_DIAS_ATRASO_SFSF_ULT_RCC'] = data['MAX_DIAS_ATRASO_SFSF_ULT_RCC_y'].copy()\n",
    "del data['MAX_DIAS_ATRASO_SFSF_ULT_RCC_y']"
   ]
  },
  {
   "cell_type": "code",
   "execution_count": null,
   "metadata": {},
   "outputs": [],
   "source": [
    "data = add_new_var_x_cut_up(data, colum='MAX_DIAS_ATRASO_SFSF_ULT_RCC', cortes=[1, 2, 3, 4], impute=0, up=True, soft=False)"
   ]
  },
  {
   "cell_type": "code",
   "execution_count": null,
   "metadata": {},
   "outputs": [],
   "source": [
    "if creation_mode:\n",
    "    var = vars_top[11]\n",
    "    print(\">>>>> \", var)\n",
    "    display(cortes[var])"
   ]
  },
  {
   "cell_type": "code",
   "execution_count": null,
   "metadata": {},
   "outputs": [],
   "source": []
  },
  {
   "cell_type": "code",
   "execution_count": null,
   "metadata": {},
   "outputs": [],
   "source": [
    "\n",
    "#data = add_new_var_x_cut_up(data, colum='CEF_ROTACION_INVENTARIOS', cortes=[200], impute=0, up=True, soft=False)"
   ]
  },
  {
   "cell_type": "code",
   "execution_count": null,
   "metadata": {},
   "outputs": [],
   "source": [
    "if creation_mode:\n",
    "    var = vars_top[12]\n",
    "    print(\">>>>> \", var)\n",
    "    display(cortes[var])"
   ]
  },
  {
   "cell_type": "code",
   "execution_count": null,
   "metadata": {},
   "outputs": [],
   "source": [
    "if creation_mode:\n",
    "    var = vars_top[13]\n",
    "    print(\">>>>> \", var)\n",
    "    display(cortes[var])"
   ]
  },
  {
   "cell_type": "code",
   "execution_count": null,
   "metadata": {},
   "outputs": [],
   "source": [
    "data = add_new_var_x_cut_up(data, colum='MAX_DIAS_ATRASO_SFSF_ULT_RCC', cortes=[1, 2, 3, 4], impute=0, up=True, soft=False)"
   ]
  },
  {
   "cell_type": "code",
   "execution_count": null,
   "metadata": {},
   "outputs": [],
   "source": [
    "if creation_mode:\n",
    "    var = vars_top[14]\n",
    "    print(\">>>>> \", var)\n",
    "    display(cortes[var])"
   ]
  },
  {
   "cell_type": "code",
   "execution_count": null,
   "metadata": {},
   "outputs": [],
   "source": [
    "data = add_new_var_x_cut_up(data, colum='NRO_DOCS_IMPAG_U1M', cortes=[2,3,4,5,6], impute=0, up=True, soft=False)"
   ]
  },
  {
   "cell_type": "code",
   "execution_count": null,
   "metadata": {},
   "outputs": [],
   "source": [
    "data = add_new_var_x_cut_up(data, colum='DTOTAL_S_VENTAS_CEF_SITUACION', cortes=[0.5, 0.6, 0.7,0.8,0.9, 1, 1.1, 1.2,1.3], impute=0, up=True, soft=False)"
   ]
  },
  {
   "cell_type": "code",
   "execution_count": null,
   "metadata": {},
   "outputs": [],
   "source": [
    "if creation_mode:\n",
    "    var = vars_top[15]\n",
    "    print(\">>>>> \", var)\n",
    "    display(cortes[var])"
   ]
  },
  {
   "cell_type": "code",
   "execution_count": null,
   "metadata": {},
   "outputs": [],
   "source": [
    "if creation_mode:\n",
    "    var = vars_top[16]\n",
    "    print(\">>>>> \", var)\n",
    "    display(cortes[var])"
   ]
  },
  {
   "cell_type": "code",
   "execution_count": null,
   "metadata": {},
   "outputs": [],
   "source": [
    "if creation_mode:\n",
    "    var = vars_top[17]\n",
    "    print(\">>>>> \", var)\n",
    "    display(cortes[var])"
   ]
  },
  {
   "cell_type": "code",
   "execution_count": null,
   "metadata": {},
   "outputs": [],
   "source": [
    "data = add_new_var_x_cut_up(data, colum='CAPITAL_TRABAJO_CEF_SITUACION', cortes=[0], impute=0, up=False, soft=False)"
   ]
  },
  {
   "cell_type": "code",
   "execution_count": null,
   "metadata": {},
   "outputs": [],
   "source": [
    "data = add_new_var_x_cut_up(data, colum='MAX_DIAS_ATRASO_SF', cortes=[1,2,3,4,5,6,7], impute=0, up=True, soft=False)"
   ]
  },
  {
   "cell_type": "code",
   "execution_count": null,
   "metadata": {},
   "outputs": [],
   "source": [
    "if creation_mode:\n",
    "    var = vars_top[18]\n",
    "    print(\">>>>> \", var)\n",
    "    display(cortes[var])"
   ]
  },
  {
   "cell_type": "code",
   "execution_count": null,
   "metadata": {},
   "outputs": [],
   "source": [
    "if creation_mode:\n",
    "    var = vars_top[19]\n",
    "    print(\">>>>> \", var)\n",
    "    display(cortes[var])"
   ]
  },
  {
   "cell_type": "code",
   "execution_count": null,
   "metadata": {},
   "outputs": [],
   "source": [
    "[col for col in data.columns if 'ENDEUDAMIENTO_PAS_VEN_VAR' in col.upper()]"
   ]
  },
  {
   "cell_type": "code",
   "execution_count": null,
   "metadata": {},
   "outputs": [],
   "source": [
    "display(cortes['ENDEUDAMIENTO_PAS_VEN_VAR_CEF_SITUACION'])"
   ]
  },
  {
   "cell_type": "code",
   "execution_count": null,
   "metadata": {},
   "outputs": [],
   "source": [
    "data = add_new_var_x_cut_up(data, colum='ENDEUDAMIENTO_PAS_VEN_VAR_CEF_SITUACION', cortes=[0.19, 0.2, 0.29, 0.3, 0.39, 0.4, 0.49, 0.5, 1, 1.1, 1.2, 0.6, 0.7, 0.8, 0.9], impute=0, up=True, soft=False)"
   ]
  },
  {
   "cell_type": "code",
   "execution_count": null,
   "metadata": {},
   "outputs": [],
   "source": [
    "if creation_mode:\n",
    "    var = vars_top[20]\n",
    "    print(\">>>>> \", var)\n",
    "    display(cortes[var])"
   ]
  },
  {
   "cell_type": "code",
   "execution_count": null,
   "metadata": {},
   "outputs": [],
   "source": [
    "if creation_mode:\n",
    "    var = vars_top[21]\n",
    "    print(\">>>>> \", var)\n",
    "    display(cortes[var])"
   ]
  },
  {
   "cell_type": "code",
   "execution_count": null,
   "metadata": {},
   "outputs": [],
   "source": [
    "if creation_mode:\n",
    "    var = vars_top[22]\n",
    "    print(\">>>>> \", var)\n",
    "    display(cortes[var])"
   ]
  },
  {
   "cell_type": "code",
   "execution_count": null,
   "metadata": {},
   "outputs": [],
   "source": [
    "if creation_mode:\n",
    "    var = vars_top[23]\n",
    "    print(\">>>>> \", var)\n",
    "    display(cortes[var])"
   ]
  },
  {
   "cell_type": "code",
   "execution_count": null,
   "metadata": {},
   "outputs": [],
   "source": [
    "if creation_mode:\n",
    "    var = vars_top[24]\n",
    "    print(\">>>>> \", var)\n",
    "    display(cortes[var])"
   ]
  },
  {
   "cell_type": "code",
   "execution_count": null,
   "metadata": {},
   "outputs": [],
   "source": [
    "if creation_mode:\n",
    "    var = vars_top[25]\n",
    "    print(\">>>>> \", var)\n",
    "    display(cortes[var])"
   ]
  },
  {
   "cell_type": "code",
   "execution_count": null,
   "metadata": {},
   "outputs": [],
   "source": [
    "data = add_new_var_x_cut_up(data, colum='BUCKET', cortes=[3, 4], impute=0, up=True, soft=False)"
   ]
  },
  {
   "cell_type": "code",
   "execution_count": null,
   "metadata": {},
   "outputs": [],
   "source": [
    "if creation_mode:\n",
    "    var = vars_top[26]\n",
    "    print(\">>>>> \", var)\n",
    "    display(cortes[var])"
   ]
  },
  {
   "cell_type": "code",
   "execution_count": null,
   "metadata": {},
   "outputs": [],
   "source": [
    "if creation_mode:\n",
    "    var = vars_top[27]\n",
    "    print(\">>>>> \", var)\n",
    "    display(cortes[var])"
   ]
  },
  {
   "cell_type": "code",
   "execution_count": null,
   "metadata": {},
   "outputs": [],
   "source": [
    "if creation_mode:\n",
    "    var = vars_top[28]\n",
    "    print(\">>>>> \", var)\n",
    "    display(cortes[var])"
   ]
  },
  {
   "cell_type": "code",
   "execution_count": null,
   "metadata": {},
   "outputs": [],
   "source": [
    "data = add_new_var_x_cut_up(data, colum='MAX_DIAS_ATRASO_SFSF_ULT_RCC', cortes=[2, 5], impute=0, up=True, soft=False)"
   ]
  },
  {
   "cell_type": "code",
   "execution_count": null,
   "metadata": {},
   "outputs": [],
   "source": [
    "if creation_mode:\n",
    "    var = vars_top[29]\n",
    "    print(\">>>>> \", var)\n",
    "    display(cortes[var])"
   ]
  },
  {
   "cell_type": "code",
   "execution_count": null,
   "metadata": {},
   "outputs": [],
   "source": [
    "data = add_new_var_x_cut_up(data, colum='VENTAS_NETAS_VAR_CEF_SITUACION', cortes=[0, -0.1, -0.2, -0.3, -0.4, -0.5, -0.6], impute=0, up=False, soft=True)"
   ]
  },
  {
   "cell_type": "code",
   "execution_count": null,
   "metadata": {},
   "outputs": [],
   "source": [
    "if creation_mode:\n",
    "    var = vars_top[30]\n",
    "    print(\">>>>> \", var)\n",
    "    display(cortes[var])"
   ]
  },
  {
   "cell_type": "code",
   "execution_count": null,
   "metadata": {},
   "outputs": [],
   "source": [
    "var = vars_top[31]\n",
    "print(\">>>>> \", var)\n",
    "display(cortes[var])"
   ]
  },
  {
   "cell_type": "code",
   "execution_count": null,
   "metadata": {},
   "outputs": [],
   "source": [
    "data = add_new_var_x_cut_up(data, colum='MTO_DEUDA_FULL_RCC_IBK', cortes=[26500000.0], impute=0, up=True, soft=False)"
   ]
  },
  {
   "cell_type": "code",
   "execution_count": null,
   "metadata": {},
   "outputs": [],
   "source": [
    "var = vars_top[32]\n",
    "print(\">>>>> \", var)\n",
    "display(cortes[var])"
   ]
  },
  {
   "cell_type": "code",
   "execution_count": null,
   "metadata": {},
   "outputs": [],
   "source": [
    "var = vars_top[33]\n",
    "print(\">>>>> \", var)\n",
    "display(cortes[var])"
   ]
  },
  {
   "cell_type": "code",
   "execution_count": null,
   "metadata": {},
   "outputs": [],
   "source": [
    "[col for col in data.columns if 'ROTACION_CTASXCOBRAR_VAR' in col.upper()]"
   ]
  },
  {
   "cell_type": "code",
   "execution_count": null,
   "metadata": {},
   "outputs": [],
   "source": [
    "#display(cortes['ROTACION_CTASXCOBRAR_VAR_DIAS_CEF_SITUACION'])"
   ]
  },
  {
   "cell_type": "code",
   "execution_count": null,
   "metadata": {},
   "outputs": [],
   "source": [
    "display(cortes['ROTACION_CTASXCOBRAR_VAR_DIAS_CEF_SITUACION'])"
   ]
  },
  {
   "cell_type": "code",
   "execution_count": null,
   "metadata": {},
   "outputs": [],
   "source": [
    "data = add_new_var_x_cut_up(data, colum='ROTACION_CTASXCOBRAR_VAR_DIAS_CEF_SITUACION', cortes=[5, 10, 15, 20, 25, 30, 35, 40, 45, 50, 60, 55, 65, 70, 75, 80, 85, 90, 100, 110, 120], impute=0, up=True, soft=False)"
   ]
  },
  {
   "cell_type": "code",
   "execution_count": null,
   "metadata": {},
   "outputs": [],
   "source": [
    "display(cortes['ROTACION_CTASXCOBRAR_VAR_CEF_SITUACION'])"
   ]
  },
  {
   "cell_type": "code",
   "execution_count": null,
   "metadata": {},
   "outputs": [],
   "source": [
    "data = add_new_var_x_cut_up(data, colum='ROTACION_CTASXCOBRAR_VAR_CEF_SITUACION', cortes=[0.2, 0.29, 0.3, 0.39, 0.49, 0.59, 0.6, 0.69, 0.79, 0.8, 0.89, 0.9, 1, 1.1, 1.2, 1.19], impute=0, up=True, soft=False)"
   ]
  },
  {
   "cell_type": "code",
   "execution_count": null,
   "metadata": {},
   "outputs": [],
   "source": [
    "var = vars_top[34]\n",
    "print(\">>>>> \", var)\n",
    "display(cortes[var])"
   ]
  },
  {
   "cell_type": "code",
   "execution_count": null,
   "metadata": {},
   "outputs": [],
   "source": [
    "data = add_new_var_x_cut_up(data, colum='PERCENT_GRUPO_ECON_VPC_SEGUIR', cortes=[0.1], impute=0, up=True, soft=False)"
   ]
  },
  {
   "cell_type": "code",
   "execution_count": null,
   "metadata": {},
   "outputs": [],
   "source": [
    "var = vars_top[35]\n",
    "print(\">>>>> \", var)\n",
    "display(cortes[var])"
   ]
  },
  {
   "cell_type": "code",
   "execution_count": null,
   "metadata": {},
   "outputs": [],
   "source": [
    "data = add_new_var_x_cut_up(data, colum='IMPORTE_TRIB_PROMEDIO_U9M', cortes=[20000], impute=0, up=True, soft=False)"
   ]
  },
  {
   "cell_type": "code",
   "execution_count": null,
   "metadata": {},
   "outputs": [],
   "source": [
    "data = add_new_var_x_cut_up(data, colum='NRO_BANCOS_PRIN_CON_DIAS_ATRASOSF_ULT_RCC', cortes=[1,2,3,4], impute=0, up=True, soft=False)"
   ]
  },
  {
   "cell_type": "code",
   "execution_count": null,
   "metadata": {},
   "outputs": [],
   "source": [
    "var = vars_top[36]\n",
    "print(\">>>>> \", var)\n",
    "display(cortes[var])"
   ]
  },
  {
   "cell_type": "code",
   "execution_count": null,
   "metadata": {},
   "outputs": [],
   "source": [
    "var = vars_top[37]\n",
    "print(\">>>>> \", var)\n",
    "display(cortes[var])"
   ]
  },
  {
   "cell_type": "code",
   "execution_count": null,
   "metadata": {},
   "outputs": [],
   "source": [
    "data = add_new_var_x_cut_up(data, colum='NRO_BANCOS_PRIN_CON_DIAS_ATRASO_MAYOR_A_IBKSF_ULT_RCC', cortes=[1,2,3,4], impute=0, up=True, soft=False)"
   ]
  },
  {
   "cell_type": "code",
   "execution_count": null,
   "metadata": {},
   "outputs": [],
   "source": [
    "var = vars_top[38]\n",
    "print(\">>>>> \", var)\n",
    "display(cortes[var])"
   ]
  },
  {
   "cell_type": "code",
   "execution_count": null,
   "metadata": {},
   "outputs": [],
   "source": [
    "data = add_new_var_x_cut_up(data, colum='DTOTAL_S_EBITDA_VAR_CEF_SITUACION', cortes=[1, 1.5, 2, 2.5, 3, 3.5], impute=0, up=True, soft=False)"
   ]
  },
  {
   "cell_type": "code",
   "execution_count": null,
   "metadata": {},
   "outputs": [],
   "source": [
    "data = add_new_var_x_cut_up(data, colum='TIPOS_CASH_IN_ACTIVOS_U3M', cortes=[5], impute=0, up=True, soft=False)"
   ]
  },
  {
   "cell_type": "code",
   "execution_count": null,
   "metadata": {},
   "outputs": [],
   "source": [
    "var = vars_top[39]\n",
    "print(\">>>>> \", var)\n",
    "display(cortes[var])"
   ]
  },
  {
   "cell_type": "code",
   "execution_count": null,
   "metadata": {},
   "outputs": [],
   "source": [
    "data = add_new_var_x_cut_up(data, colum='NRO_DOCS_IMPAG_U1M', cortes=[3,4,5], impute=0, up=True, soft=False)"
   ]
  },
  {
   "cell_type": "code",
   "execution_count": null,
   "metadata": {},
   "outputs": [],
   "source": [
    "var = vars_top[40]\n",
    "print(\">>>>> \", var)\n",
    "display(cortes[var])"
   ]
  },
  {
   "cell_type": "code",
   "execution_count": null,
   "metadata": {},
   "outputs": [],
   "source": [
    "var = vars_top[41]\n",
    "print(\">>>>> \", var)\n",
    "display(cortes[var])"
   ]
  },
  {
   "cell_type": "code",
   "execution_count": null,
   "metadata": {},
   "outputs": [],
   "source": [
    "data = add_new_var_x_cut_up(data, colum='NRO_FEVE_DURO_GRUPO_EECON', cortes=[1,2,3], impute=0, up=True, soft=False)"
   ]
  },
  {
   "cell_type": "code",
   "execution_count": null,
   "metadata": {},
   "outputs": [],
   "source": [
    "var = vars_top[42]\n",
    "print(\">>>>> \", var)\n",
    "display(cortes[var])"
   ]
  },
  {
   "cell_type": "code",
   "execution_count": null,
   "metadata": {},
   "outputs": [],
   "source": [
    "var = vars_top[43]\n",
    "print(\">>>>> \", var)\n",
    "display(cortes[var])"
   ]
  },
  {
   "cell_type": "code",
   "execution_count": null,
   "metadata": {},
   "outputs": [],
   "source": [
    "#del data['_60_cut_up_CEF_ROTACION_CTASXPAGAR_VAR']"
   ]
  },
  {
   "cell_type": "code",
   "execution_count": null,
   "metadata": {},
   "outputs": [],
   "source": [
    "#data = add_new_var_x_cut_up(data, colum='CEF_ROTACION_CTASXPAGAR_VAR', cortes=[10, 30, 60], impute=0, up=True, soft=False)"
   ]
  },
  {
   "cell_type": "code",
   "execution_count": null,
   "metadata": {},
   "outputs": [],
   "source": [
    "var = vars_top[44]\n",
    "print(\">>>>> \", var)\n",
    "display(cortes[var])"
   ]
  },
  {
   "cell_type": "code",
   "execution_count": null,
   "metadata": {},
   "outputs": [],
   "source": [
    "data = add_new_var_x_cut_up(data, colum='BUCKET', cortes=[2,3,4], impute=0, up=True, soft=False)"
   ]
  },
  {
   "cell_type": "code",
   "execution_count": null,
   "metadata": {},
   "outputs": [],
   "source": [
    "data = add_new_var_x_cut_up(data, colum='DTOTAL_S_EBITDA_CEF_SITUACION', cortes=[1, 2 , 3, 4, 5, 6], impute=0, up=True, soft=False)"
   ]
  },
  {
   "cell_type": "code",
   "execution_count": null,
   "metadata": {},
   "outputs": [],
   "source": [
    "#data = add_new_var_x_cut_up(data, colum='DEBT_PORM_u6m_anio_act', cortes=[12500000.0], impute=0, up=True, soft=False)"
   ]
  },
  {
   "cell_type": "code",
   "execution_count": null,
   "metadata": {},
   "outputs": [],
   "source": [
    "var = vars_top[45]\n",
    "print(\">>>>> \", var)\n",
    "display(cortes[var])"
   ]
  },
  {
   "cell_type": "code",
   "execution_count": null,
   "metadata": {},
   "outputs": [],
   "source": [
    "data = add_new_var_x_cut_up(data, colum='IMPORTE_IMPAG_PROMEDIO_U9M', cortes=[1150], impute=0, up=True, soft=False)"
   ]
  },
  {
   "cell_type": "code",
   "execution_count": null,
   "metadata": {},
   "outputs": [],
   "source": [
    "var = vars_top[46]\n",
    "print(\">>>>> \", var)\n",
    "display(cortes[var])"
   ]
  },
  {
   "cell_type": "code",
   "execution_count": null,
   "metadata": {},
   "outputs": [],
   "source": [
    "data = add_new_var_x_cut_up(data, colum='NRO_BANCOS_PRIN_CON_DIAS_ATRASO_MAYOR_A_IBKSF_ULT_RCC', cortes=[2], impute=0, up=True, soft=False)"
   ]
  },
  {
   "cell_type": "code",
   "execution_count": null,
   "metadata": {},
   "outputs": [],
   "source": [
    "var = vars_top[47]\n",
    "print(\">>>>> \", var)\n",
    "display(cortes[var])"
   ]
  },
  {
   "cell_type": "code",
   "execution_count": null,
   "metadata": {},
   "outputs": [],
   "source": [
    "data = add_new_var_x_cut_up(data, colum='NRO_BANCOS_PRIN_CON_DIAS_ATRASOSF_ULT_RCC', cortes=[2, 3], impute=0, up=True, soft=False)"
   ]
  },
  {
   "cell_type": "code",
   "execution_count": null,
   "metadata": {},
   "outputs": [],
   "source": [
    "var = vars_top[48]\n",
    "print(\">>>>> \", var)\n",
    "display(cortes[var])"
   ]
  },
  {
   "cell_type": "code",
   "execution_count": null,
   "metadata": {},
   "outputs": [],
   "source": [
    "var = vars_top[49]\n",
    "print(\">>>>> \", var)\n",
    "display(cortes[var])"
   ]
  },
  {
   "cell_type": "code",
   "execution_count": null,
   "metadata": {},
   "outputs": [],
   "source": [
    "var = vars_top[50]\n",
    "print(\">>>>> \", var)\n",
    "display(cortes[var])"
   ]
  },
  {
   "cell_type": "code",
   "execution_count": null,
   "metadata": {},
   "outputs": [],
   "source": [
    "var = vars_top[51]\n",
    "print(\">>>>> \", var)\n",
    "display(cortes[var])"
   ]
  },
  {
   "cell_type": "code",
   "execution_count": null,
   "metadata": {},
   "outputs": [],
   "source": [
    "var = vars_top[52]\n",
    "print(\">>>>> \", var)\n",
    "display(cortes[var])"
   ]
  },
  {
   "cell_type": "code",
   "execution_count": null,
   "metadata": {},
   "outputs": [],
   "source": [
    "data = add_new_var_x_cut_up(data, colum='MTO_DEUDA_TOTAL_COLDIRECT_SIN_REATCIVA_SF', cortes=[13500000.0], impute=0, up=True, soft=False)"
   ]
  },
  {
   "cell_type": "code",
   "execution_count": null,
   "metadata": {},
   "outputs": [],
   "source": [
    "var = vars_top[53]\n",
    "print(\">>>>> \", var)\n",
    "display(cortes[var])"
   ]
  },
  {
   "cell_type": "code",
   "execution_count": null,
   "metadata": {},
   "outputs": [],
   "source": [
    "var = vars_top[54]\n",
    "print(\">>>>> \", var)\n",
    "display(cortes[var])"
   ]
  },
  {
   "cell_type": "code",
   "execution_count": null,
   "metadata": {},
   "outputs": [],
   "source": [
    "data = add_new_var_x_cut_up(data, colum='NRO_MESES_ANTERIORES_SIN_IMPORTE_TRIB', cortes=[1], impute=0, up=False, soft=False)"
   ]
  },
  {
   "cell_type": "code",
   "execution_count": null,
   "metadata": {},
   "outputs": [],
   "source": [
    "\n",
    "\n",
    "for column in [col for col in data.columns if 'NRO_MESES_ANTERIORES_CON' in col.upper()]:\n",
    "    print(column)\n",
    "    data = add_new_var_x_cut_up(data, colum=column, cortes=[1,2,3,5,7,9,10], impute=0, up=True, soft=False)"
   ]
  },
  {
   "cell_type": "code",
   "execution_count": null,
   "metadata": {},
   "outputs": [],
   "source": []
  },
  {
   "cell_type": "code",
   "execution_count": null,
   "metadata": {},
   "outputs": [],
   "source": []
  },
  {
   "cell_type": "code",
   "execution_count": null,
   "metadata": {},
   "outputs": [],
   "source": [
    "var = vars_top[55]\n",
    "print(\">>>>> \", var)\n",
    "display(cortes[var])"
   ]
  },
  {
   "cell_type": "code",
   "execution_count": null,
   "metadata": {},
   "outputs": [],
   "source": [
    "data = add_new_var_x_cut_up(data, colum='NRO_BANCOS_PRIN_CON_DIAS_ATRASO_MAYOR_A_IBKSF_ULT_RCC', cortes=[1, 2, 3], impute=0, up=True, soft=False)"
   ]
  },
  {
   "cell_type": "code",
   "execution_count": null,
   "metadata": {},
   "outputs": [],
   "source": [
    "var = vars_top[56]\n",
    "print(\">>>>> \", var)\n",
    "display(cortes[var])"
   ]
  },
  {
   "cell_type": "code",
   "execution_count": null,
   "metadata": {},
   "outputs": [],
   "source": [
    "data = add_new_var_x_cut_up(data, colum='DTOTAL_S_VENTAS_VAR_CEF_SITUACION', cortes=[0.39, 0.49, 0.59, 0.69, 0.79, 0.89, 1, 1.1, 1.2, 1.2, 1.3, 1.4, 1.5, 1.59, 1.6], impute=0, up=True, soft=False)"
   ]
  },
  {
   "cell_type": "code",
   "execution_count": null,
   "metadata": {},
   "outputs": [],
   "source": [
    "var = vars_top[57]\n",
    "print(\">>>>> \", var)\n",
    "display(cortes[var])"
   ]
  },
  {
   "cell_type": "code",
   "execution_count": null,
   "metadata": {},
   "outputs": [],
   "source": [
    "data = add_new_var_x_cut_up(data, colum='DIFF_PROM_CANT_TRX_U6M_U12M_CASHIN', cortes=[-5, -3, -10, -20, -15], impute=0, up=False, soft=True)"
   ]
  },
  {
   "cell_type": "code",
   "execution_count": null,
   "metadata": {},
   "outputs": [],
   "source": [
    "display(cortes['DEBT_VENCIDO_PERCENT_ULT_RCC'])"
   ]
  },
  {
   "cell_type": "code",
   "execution_count": null,
   "metadata": {},
   "outputs": [],
   "source": [
    "data = add_new_var_x_cut_up(data, colum='DEBT_VENCIDO_PERCENT_ULT_RCC', cortes=[0, 0.001], impute=0, up=True, soft=False)"
   ]
  },
  {
   "cell_type": "code",
   "execution_count": null,
   "metadata": {},
   "outputs": [],
   "source": []
  },
  {
   "cell_type": "code",
   "execution_count": null,
   "metadata": {},
   "outputs": [],
   "source": [
    "var = vars_top[58]\n",
    "print(\">>>>> \", var)\n",
    "display(cortes[var])"
   ]
  },
  {
   "cell_type": "code",
   "execution_count": null,
   "metadata": {},
   "outputs": [],
   "source": [
    "data = add_new_var_x_cut_up(data, colum='RSOL_18_SOLVENCIA_CEF_SITUACION', cortes=[0.19, 0.29, 0.39, 0.49, 0.59, 0.69, 0.7, 0.79, 0.8], impute=0, up=True, soft=False)"
   ]
  },
  {
   "cell_type": "code",
   "execution_count": null,
   "metadata": {},
   "outputs": [],
   "source": [
    "data['DIFF_PROM_CANT_TRX_U6M_U12M_CASHIN'].min()"
   ]
  },
  {
   "cell_type": "code",
   "execution_count": null,
   "metadata": {},
   "outputs": [],
   "source": [
    "var = vars_top[59]\n",
    "print(\">>>>> \", var)\n",
    "display(cortes[var])"
   ]
  },
  {
   "cell_type": "code",
   "execution_count": null,
   "metadata": {},
   "outputs": [],
   "source": [
    "data = add_new_var_x_cut_up(data, colum='DIFF_PROM_CANT_TRX_U6M_U12M_CASHIN', cortes=[-19, -12, 0], impute=0, up=False, soft=True)"
   ]
  },
  {
   "cell_type": "code",
   "execution_count": null,
   "metadata": {},
   "outputs": [],
   "source": [
    "var = vars_top[60]\n",
    "print(\">>>>> \", var)\n",
    "display(cortes[var])"
   ]
  },
  {
   "cell_type": "code",
   "execution_count": null,
   "metadata": {},
   "outputs": [],
   "source": [
    "data = add_new_var_x_cut_up(data, colum='NRO_BANCOS_PRIN_CON_DIAS_ATRASOSF_ULT_RCC', cortes=[1, 2], impute=0, up=True, soft=False)"
   ]
  },
  {
   "cell_type": "code",
   "execution_count": null,
   "metadata": {},
   "outputs": [],
   "source": [
    "var = vars_top[61]\n",
    "print(\">>>>> \", var)\n",
    "display(cortes[var])"
   ]
  },
  {
   "cell_type": "code",
   "execution_count": null,
   "metadata": {},
   "outputs": [],
   "source": [
    "var = vars_top[62]\n",
    "print(\">>>>> \", var)\n",
    "display(cortes[var])"
   ]
  },
  {
   "cell_type": "code",
   "execution_count": null,
   "metadata": {},
   "outputs": [],
   "source": [
    "var = vars_top[63]\n",
    "print(\">>>>> \", var)\n",
    "display(cortes[var])"
   ]
  },
  {
   "cell_type": "code",
   "execution_count": null,
   "metadata": {},
   "outputs": [],
   "source": [
    "var = vars_top[64]\n",
    "print(\">>>>> \", var)\n",
    "display(cortes[var])"
   ]
  },
  {
   "cell_type": "code",
   "execution_count": null,
   "metadata": {},
   "outputs": [],
   "source": [
    "var = vars_top[65]\n",
    "print(\">>>>> \", var)\n",
    "display(cortes[var])"
   ]
  },
  {
   "cell_type": "code",
   "execution_count": null,
   "metadata": {},
   "outputs": [],
   "source": [
    "var = vars_top[66]\n",
    "print(\">>>>> \", var)\n",
    "display(cortes[var])"
   ]
  },
  {
   "cell_type": "code",
   "execution_count": null,
   "metadata": {},
   "outputs": [],
   "source": []
  },
  {
   "cell_type": "code",
   "execution_count": null,
   "metadata": {},
   "outputs": [],
   "source": [
    "var = vars_top[67]\n",
    "print(\">>>>> \", var)\n",
    "display(cortes[var])"
   ]
  },
  {
   "cell_type": "code",
   "execution_count": null,
   "metadata": {},
   "outputs": [],
   "source": [
    "var = vars_top[68]\n",
    "print(\">>>>> \", var)\n",
    "display(cortes[var])"
   ]
  },
  {
   "cell_type": "code",
   "execution_count": null,
   "metadata": {},
   "outputs": [],
   "source": [
    "var = vars_top[69]\n",
    "print(\">>>>> \", var)\n",
    "display(cortes[var])"
   ]
  },
  {
   "cell_type": "code",
   "execution_count": null,
   "metadata": {},
   "outputs": [],
   "source": [
    "#data = add_new_var_x_cut_up(data, colum='TENDENCIA_PERCENT_CLASIF_NO_NORMAL_GRUPO_ECON_U3M', cortes=[0.01], impute=0, up=True, soft=False)"
   ]
  },
  {
   "cell_type": "code",
   "execution_count": null,
   "metadata": {},
   "outputs": [],
   "source": [
    "var = vars_top[70]\n",
    "print(\">>>>> \", var)\n",
    "display(cortes[var])"
   ]
  },
  {
   "cell_type": "code",
   "execution_count": null,
   "metadata": {},
   "outputs": [],
   "source": [
    "display(cortes['COVER_GAR_AUTO_HIPO_ULT_RCC'])"
   ]
  },
  {
   "cell_type": "code",
   "execution_count": null,
   "metadata": {},
   "outputs": [],
   "source": [
    "data = add_new_var_x_cut_up(data, colum='COVER_GAR_AUTO_HIPO_ULT_RCC', cortes=[0.1, 0.2, 0.3, 0.4, 0.5, 0.6, 0.7], impute=0, up=False, soft=True)"
   ]
  },
  {
   "cell_type": "code",
   "execution_count": null,
   "metadata": {},
   "outputs": [],
   "source": [
    "var = vars_top[71]\n",
    "print(\">>>>> \", var)\n",
    "display(cortes[var])"
   ]
  },
  {
   "cell_type": "code",
   "execution_count": null,
   "metadata": {},
   "outputs": [],
   "source": [
    "data = add_new_var_x_cut_up(data, colum='ROTACION_INVENTARIOS_VAR_CEF_SITUACION', cortes=[0.29, 0.39, 0.39, 0.49, 0.59, 0.69, 0.79, 0.8, 0.89, 1, 1.1, 1.2, 1.3, 1.39, 1.4, 1.5], impute=0, up=True, soft=False)"
   ]
  },
  {
   "cell_type": "code",
   "execution_count": null,
   "metadata": {},
   "outputs": [],
   "source": [
    "data = add_new_var_x_cut_up(data, colum='NRO_BANCOS_PRIN_CON_DIAS_ATRASO_MAYOR_4SF_ULT_RCC', cortes=[1, 2, 3], impute=0, up=True, soft=False)"
   ]
  },
  {
   "cell_type": "code",
   "execution_count": null,
   "metadata": {},
   "outputs": [],
   "source": [
    "var = vars_top[72]\n",
    "print(\">>>>> \", var)\n",
    "display(cortes[var])"
   ]
  },
  {
   "cell_type": "code",
   "execution_count": null,
   "metadata": {},
   "outputs": [],
   "source": [
    "var = vars_top[73]\n",
    "print(\">>>>> \", var)\n",
    "display(cortes[var])"
   ]
  },
  {
   "cell_type": "code",
   "execution_count": null,
   "metadata": {},
   "outputs": [],
   "source": [
    "var = vars_top[74]\n",
    "print(\">>>>> \", var)\n",
    "display(cortes[var])"
   ]
  },
  {
   "cell_type": "code",
   "execution_count": null,
   "metadata": {},
   "outputs": [],
   "source": [
    "var = vars_top[75]\n",
    "print(\">>>>> \", var)\n",
    "display(cortes[var])"
   ]
  },
  {
   "cell_type": "code",
   "execution_count": null,
   "metadata": {},
   "outputs": [],
   "source": [
    "var = vars_top[76]\n",
    "print(\">>>>> \", var)\n",
    "display(cortes[var])"
   ]
  },
  {
   "cell_type": "code",
   "execution_count": null,
   "metadata": {},
   "outputs": [],
   "source": [
    "var = vars_top[77]\n",
    "print(\">>>>> \", var)\n",
    "display(cortes[var])"
   ]
  },
  {
   "cell_type": "code",
   "execution_count": null,
   "metadata": {},
   "outputs": [],
   "source": [
    "var = vars_top[78]\n",
    "print(\">>>>> \", var)\n",
    "display(cortes[var])"
   ]
  },
  {
   "cell_type": "code",
   "execution_count": null,
   "metadata": {},
   "outputs": [],
   "source": [
    "var = vars_top[79]\n",
    "print(\">>>>> \", var)\n",
    "display(cortes[var])"
   ]
  },
  {
   "cell_type": "code",
   "execution_count": null,
   "metadata": {},
   "outputs": [],
   "source": [
    "var = vars_top[80]\n",
    "print(\">>>>> \", var)\n",
    "display(cortes[var])"
   ]
  },
  {
   "cell_type": "code",
   "execution_count": null,
   "metadata": {},
   "outputs": [],
   "source": [
    "var = vars_top[81]\n",
    "print(\">>>>> \", var)\n",
    "display(cortes[var])"
   ]
  },
  {
   "cell_type": "code",
   "execution_count": null,
   "metadata": {},
   "outputs": [],
   "source": [
    "var = vars_top[82]\n",
    "print(\">>>>> \", var)\n",
    "display(cortes[var])"
   ]
  },
  {
   "cell_type": "code",
   "execution_count": null,
   "metadata": {},
   "outputs": [],
   "source": [
    "var = vars_top[83]\n",
    "print(\">>>>> \", var)\n",
    "display(cortes[var])"
   ]
  },
  {
   "cell_type": "code",
   "execution_count": null,
   "metadata": {},
   "outputs": [],
   "source": [
    "var = vars_top[84]\n",
    "print(\">>>>> \", var)\n",
    "display(cortes[var])"
   ]
  },
  {
   "cell_type": "code",
   "execution_count": null,
   "metadata": {},
   "outputs": [],
   "source": [
    "var = vars_top[85]\n",
    "print(\">>>>> \", var)\n",
    "display(cortes[var])"
   ]
  },
  {
   "cell_type": "code",
   "execution_count": null,
   "metadata": {},
   "outputs": [],
   "source": [
    "var = vars_top[86]\n",
    "print(\">>>>> \", var)\n",
    "display(cortes[var])"
   ]
  },
  {
   "cell_type": "code",
   "execution_count": null,
   "metadata": {},
   "outputs": [],
   "source": [
    "var = vars_top[87]\n",
    "print(\">>>>> \", var)\n",
    "display(cortes[var])"
   ]
  },
  {
   "cell_type": "code",
   "execution_count": null,
   "metadata": {},
   "outputs": [],
   "source": [
    "var = vars_top[88]\n",
    "print(\">>>>> \", var)\n",
    "display(cortes[var])"
   ]
  },
  {
   "cell_type": "code",
   "execution_count": null,
   "metadata": {},
   "outputs": [],
   "source": [
    "var = vars_top[89]\n",
    "print(\">>>>> \", var)\n",
    "display(cortes[var])"
   ]
  },
  {
   "cell_type": "code",
   "execution_count": null,
   "metadata": {},
   "outputs": [],
   "source": [
    "data = add_new_var_x_cut_up(data, colum='APLANCAMIENTO_PATRIMONIAL_VAR_CEF_SITUACION', cortes=[0.2, 0.3, 0.4, 0.5, 0.6, 0.7, 0.8, 0.9, 1, 1.1, 1.2, 1.3, 1.4, 1.5, 1.6], impute=0, up=True, soft=False)"
   ]
  },
  {
   "cell_type": "code",
   "execution_count": null,
   "metadata": {},
   "outputs": [],
   "source": []
  },
  {
   "cell_type": "code",
   "execution_count": null,
   "metadata": {},
   "outputs": [],
   "source": [
    "var = vars_top[90]\n",
    "print(\">>>>> \", var)\n",
    "display(cortes[var])"
   ]
  },
  {
   "cell_type": "code",
   "execution_count": null,
   "metadata": {},
   "outputs": [],
   "source": [
    "data = add_new_var_x_cut_up(data, colum='ROTACION_CTASXPAGAR_VAR_DIAS_CEF_SITUACION', cortes=[5, 10, 20, 30, 60, 90, 120, 50, 40, 35, 25, 65, 100, 150, 200, 15], impute=0, up=True, soft=False)"
   ]
  },
  {
   "cell_type": "code",
   "execution_count": null,
   "metadata": {},
   "outputs": [],
   "source": [
    "var = vars_top[91]\n",
    "print(\">>>>> \", var)\n",
    "display(cortes[var])"
   ]
  },
  {
   "cell_type": "code",
   "execution_count": null,
   "metadata": {},
   "outputs": [],
   "source": [
    "data = add_new_var_x_cut_up(data, colum='ROTACION_CTASXPAGAR_VAR_CEF_SITUACION', cortes=[0.1, 0.2, 0.29, 0.3, 0.4, 0.5, 0.6, 0.7, 0.8, 0.9, 1, 1.1, 1.2], impute=0, up=True, soft=False)"
   ]
  },
  {
   "cell_type": "code",
   "execution_count": null,
   "metadata": {},
   "outputs": [],
   "source": []
  },
  {
   "cell_type": "code",
   "execution_count": null,
   "metadata": {},
   "outputs": [],
   "source": [
    "var = vars_top[92]\n",
    "print(\">>>>> \", var)\n",
    "display(cortes[var])"
   ]
  },
  {
   "cell_type": "code",
   "execution_count": null,
   "metadata": {},
   "outputs": [],
   "source": [
    "var = vars_top[93]\n",
    "print(\">>>>> \", var)\n",
    "display(cortes[var])"
   ]
  },
  {
   "cell_type": "code",
   "execution_count": null,
   "metadata": {},
   "outputs": [],
   "source": [
    "var = vars_top[94]\n",
    "print(\">>>>> \", var)\n",
    "display(cortes[var])"
   ]
  },
  {
   "cell_type": "code",
   "execution_count": null,
   "metadata": {},
   "outputs": [],
   "source": [
    "var = vars_top[95]\n",
    "print(\">>>>> \", var)\n",
    "display(cortes[var])"
   ]
  },
  {
   "cell_type": "code",
   "execution_count": null,
   "metadata": {},
   "outputs": [],
   "source": [
    "var = vars_top[96]\n",
    "print(\">>>>> \", var)\n",
    "display(cortes[var])"
   ]
  },
  {
   "cell_type": "code",
   "execution_count": null,
   "metadata": {},
   "outputs": [],
   "source": [
    "var = vars_top[97]\n",
    "print(\">>>>> \", var)\n",
    "display(cortes[var])"
   ]
  },
  {
   "cell_type": "code",
   "execution_count": null,
   "metadata": {},
   "outputs": [],
   "source": [
    "var = vars_top[98]\n",
    "print(\">>>>> \", var)\n",
    "display(cortes[var])"
   ]
  },
  {
   "cell_type": "code",
   "execution_count": null,
   "metadata": {},
   "outputs": [],
   "source": [
    "var = vars_top[99]\n",
    "print(\">>>>> \", var)\n",
    "display(cortes[var])"
   ]
  },
  {
   "cell_type": "code",
   "execution_count": null,
   "metadata": {},
   "outputs": [],
   "source": [
    "data = add_new_var_x_cut_up(data, colum='COSTO_VENTAS_VAR_CEF_SITUACION', cortes=[0, -0.1, -0.19, -0.39, -0.4], impute=0, up=False, soft=True)"
   ]
  },
  {
   "cell_type": "code",
   "execution_count": null,
   "metadata": {},
   "outputs": [],
   "source": [
    "data = add_new_var_x_cut_up(data, colum='COSTO_VENTAS_VAR_CEF_SITUACION', cortes=[0, 0.1, 0.2, 0.3], impute=0, up=True, soft=False)"
   ]
  },
  {
   "cell_type": "code",
   "execution_count": null,
   "metadata": {},
   "outputs": [],
   "source": [
    "var = vars_top[100]\n",
    "print(\">>>>> \", var)\n",
    "display(cortes[var])"
   ]
  },
  {
   "cell_type": "code",
   "execution_count": null,
   "metadata": {},
   "outputs": [],
   "source": [
    "data = add_new_var_x_cut_up(data, colum='RMET_9_METODIZADO_CEF_SITUACION', cortes=[0, 1, 1.5, 2, 2.5, 3, 3.5, 4], impute=0, up=True, soft=False)"
   ]
  },
  {
   "cell_type": "code",
   "execution_count": null,
   "metadata": {},
   "outputs": [],
   "source": [
    "var = vars_top[101]\n",
    "print(\">>>>> \", var)\n",
    "display(cortes[var])"
   ]
  },
  {
   "cell_type": "code",
   "execution_count": null,
   "metadata": {},
   "outputs": [],
   "source": [
    "var = vars_top[102]\n",
    "print(\">>>>> \", var)\n",
    "display(cortes[var])"
   ]
  },
  {
   "cell_type": "code",
   "execution_count": null,
   "metadata": {},
   "outputs": [],
   "source": [
    "var = vars_top[103]\n",
    "print(\">>>>> \", var)\n",
    "display(cortes[var])"
   ]
  },
  {
   "cell_type": "code",
   "execution_count": null,
   "metadata": {},
   "outputs": [],
   "source": [
    "var = vars_top[104]\n",
    "print(\">>>>> \", var)\n",
    "display(cortes[var])"
   ]
  },
  {
   "cell_type": "code",
   "execution_count": null,
   "metadata": {},
   "outputs": [],
   "source": [
    "data = add_new_var_x_cut_up(data, colum='ROTACION_INVENTARIOS_CEF_SITUACION', cortes=[20, 30, 60, 100, 120, 150, 180, 200, 250, 300, 350, 205, 210, 190, 270], impute=0, up=True, soft=False)"
   ]
  },
  {
   "cell_type": "code",
   "execution_count": null,
   "metadata": {},
   "outputs": [],
   "source": [
    "var = vars_top[105]\n",
    "print(\">>>>> \", var)\n",
    "display(cortes[var])"
   ]
  },
  {
   "cell_type": "code",
   "execution_count": null,
   "metadata": {},
   "outputs": [],
   "source": [
    "data = add_new_var_x_cut_up(data, colum='SOW_OTROSBCOS_MIN_historia', cortes=[0.6, 0.7, 0.8, 0.9, 0.65, 0.75, 0.85, 0.95], impute=0, up=True, soft=False)"
   ]
  },
  {
   "cell_type": "code",
   "execution_count": null,
   "metadata": {},
   "outputs": [],
   "source": [
    "var = vars_top[106]\n",
    "print(\">>>>> \", var)\n",
    "display(cortes[var])"
   ]
  },
  {
   "cell_type": "code",
   "execution_count": null,
   "metadata": {},
   "outputs": [],
   "source": [
    "var = vars_top[107]\n",
    "print(\">>>>> \", var)\n",
    "display(cortes[var])"
   ]
  },
  {
   "cell_type": "code",
   "execution_count": null,
   "metadata": {},
   "outputs": [],
   "source": [
    "var = vars_top[108]\n",
    "print(\">>>>> \", var)\n",
    "display(cortes[var])"
   ]
  },
  {
   "cell_type": "code",
   "execution_count": null,
   "metadata": {},
   "outputs": [],
   "source": [
    "data = add_new_var_x_cut_up(data, colum='TRX_TIPOS_CASH_OUT_CAIDA_10PERCENT_MES_ANT', cortes=[2, 3], impute=0, up=True, soft=False)"
   ]
  },
  {
   "cell_type": "code",
   "execution_count": null,
   "metadata": {},
   "outputs": [],
   "source": [
    "var = vars_top[109]\n",
    "print(\">>>>> \", var)\n",
    "display(cortes[var])"
   ]
  },
  {
   "cell_type": "code",
   "execution_count": null,
   "metadata": {},
   "outputs": [],
   "source": [
    "var = vars_top[110]\n",
    "print(\">>>>> \", var)\n",
    "display(cortes[var])"
   ]
  },
  {
   "cell_type": "code",
   "execution_count": null,
   "metadata": {},
   "outputs": [],
   "source": [
    "\n",
    "display(cortes['RECENCY_historia'])"
   ]
  },
  {
   "cell_type": "code",
   "execution_count": null,
   "metadata": {},
   "outputs": [],
   "source": [
    "data = add_new_var_x_cut_up(data, colum='RECENCY_historia', cortes=[32, 30, 35, 40, 25, 50, 60, 55, 70, 80, 90], impute=0, up=True, soft=False)"
   ]
  },
  {
   "cell_type": "code",
   "execution_count": null,
   "metadata": {},
   "outputs": [],
   "source": [
    "var = vars_top[111]\n",
    "print(\">>>>> \", var)\n",
    "display(cortes[var])"
   ]
  },
  {
   "cell_type": "code",
   "execution_count": null,
   "metadata": {},
   "outputs": [],
   "source": [
    "data = add_new_var_x_cut_up(data, colum='NRO_BANCOS_PRIN_DEUDASF_ULT_RCC', cortes=[2,3,4,5], impute=0, up=True, soft=False)"
   ]
  },
  {
   "cell_type": "code",
   "execution_count": null,
   "metadata": {},
   "outputs": [],
   "source": [
    "var = vars_top[112]\n",
    "print(\">>>>> \", var)\n",
    "display(cortes[var])"
   ]
  },
  {
   "cell_type": "code",
   "execution_count": null,
   "metadata": {},
   "outputs": [],
   "source": [
    "data = add_new_var_x_cut_up(data, colum='ROTACION_CTASXCOBRAR_VAR_DIAS_CEF_SITUACION', cortes=[15, 20, 25, 30, 35, 40, 45, 50, 55, 60, 65, 70, 80, 90], impute=0, up=True, soft=False)"
   ]
  },
  {
   "cell_type": "code",
   "execution_count": null,
   "metadata": {},
   "outputs": [],
   "source": [
    "var = vars_top[113]\n",
    "print(\">>>>> \", var)\n",
    "display(cortes[var])"
   ]
  },
  {
   "cell_type": "code",
   "execution_count": null,
   "metadata": {},
   "outputs": [],
   "source": [
    "data = add_new_var_x_cut_up(data, colum='DTOTALCAJA_S_EBITDA_VAR_CEF_SITUACION', cortes=[1,2,3,1.5,2.5,3.5], impute=0, up=True, soft=False)"
   ]
  },
  {
   "cell_type": "code",
   "execution_count": null,
   "metadata": {},
   "outputs": [],
   "source": [
    "var = vars_top[114]\n",
    "print(\">>>>> \", var)\n",
    "display(cortes[var])"
   ]
  },
  {
   "cell_type": "code",
   "execution_count": null,
   "metadata": {},
   "outputs": [],
   "source": [
    "data = add_new_var_x_cut_up(data, colum='NRO_ENTIDADES_FULL_RCC_SF', cortes=[3,4,5,6], impute=0, up=True, soft=False)"
   ]
  },
  {
   "cell_type": "code",
   "execution_count": null,
   "metadata": {},
   "outputs": [],
   "source": [
    "data = add_new_var_x_cut_up(data, colum='ROTACION_INVENTARIOS_VAR_DIAS_CEF_SITUACION', cortes=[10,20,30,40,50,60,70,80,90, 15,25,35,45,55,65,75,85,95], impute=0, up=True, soft=False)"
   ]
  },
  {
   "cell_type": "code",
   "execution_count": null,
   "metadata": {},
   "outputs": [],
   "source": [
    "var = vars_top[115]\n",
    "print(\">>>>> \", var)\n",
    "display(cortes[var])"
   ]
  },
  {
   "cell_type": "code",
   "execution_count": null,
   "metadata": {},
   "outputs": [],
   "source": [
    "var = vars_top[116]\n",
    "print(\">>>>> \", var)\n",
    "display(cortes[var])"
   ]
  },
  {
   "cell_type": "code",
   "execution_count": null,
   "metadata": {},
   "outputs": [],
   "source": [
    "data = add_new_var_x_cut_up(data, colum='RIESGO', cortes=[80000.0, 90000.0, 100000.0, 400000.0, 500000.0, 600000.0, 700000.0], impute=0, up=True, soft=False)"
   ]
  },
  {
   "cell_type": "code",
   "execution_count": null,
   "metadata": {},
   "outputs": [],
   "source": [
    "var = vars_top[117]\n",
    "print(\">>>>> \", var)\n",
    "display(cortes[var])"
   ]
  },
  {
   "cell_type": "code",
   "execution_count": null,
   "metadata": {},
   "outputs": [],
   "source": [
    "var = vars_top[118]\n",
    "print(\">>>>> \", var)\n",
    "display(cortes[var])"
   ]
  },
  {
   "cell_type": "code",
   "execution_count": null,
   "metadata": {},
   "outputs": [],
   "source": [
    "var = vars_top[119]\n",
    "print(\">>>>> \", var)\n",
    "display(cortes[var])"
   ]
  },
  {
   "cell_type": "code",
   "execution_count": null,
   "metadata": {},
   "outputs": [],
   "source": [
    "var = vars_top[120]\n",
    "print(\">>>>> \", var)\n",
    "display(cortes[var])"
   ]
  },
  {
   "cell_type": "code",
   "execution_count": null,
   "metadata": {},
   "outputs": [],
   "source": [
    "var = vars_top[121]\n",
    "print(\">>>>> \", var)\n",
    "display(cortes[var])"
   ]
  },
  {
   "cell_type": "code",
   "execution_count": null,
   "metadata": {},
   "outputs": [],
   "source": [
    "var = vars_top[122]\n",
    "print(\">>>>> \", var)\n",
    "display(cortes[var])"
   ]
  },
  {
   "cell_type": "code",
   "execution_count": null,
   "metadata": {},
   "outputs": [],
   "source": [
    "var = vars_top[123]\n",
    "print(\">>>>> \", var)\n",
    "display(cortes[var])"
   ]
  },
  {
   "cell_type": "code",
   "execution_count": null,
   "metadata": {},
   "outputs": [],
   "source": [
    "data = add_new_var_x_cut_up(data, colum='minimo_percent_sow_others_u12m', cortes=[0.6, 0.7, 0.8, 0.9], impute=0, up=True, soft=False)"
   ]
  },
  {
   "cell_type": "code",
   "execution_count": null,
   "metadata": {},
   "outputs": [],
   "source": [
    "var = vars_top[124]\n",
    "print(\">>>>> \", var)\n",
    "display(cortes[var])"
   ]
  },
  {
   "cell_type": "code",
   "execution_count": null,
   "metadata": {},
   "outputs": [],
   "source": [
    "var = vars_top[125]\n",
    "print(\">>>>> \", var)\n",
    "display(cortes[var])"
   ]
  },
  {
   "cell_type": "code",
   "execution_count": null,
   "metadata": {},
   "outputs": [],
   "source": [
    "var = vars_top[126]\n",
    "print(\">>>>> \", var)\n",
    "display(cortes[var])"
   ]
  },
  {
   "cell_type": "code",
   "execution_count": null,
   "metadata": {},
   "outputs": [],
   "source": [
    "var = vars_top[127]\n",
    "print(\">>>>> \", var)\n",
    "display(cortes[var])"
   ]
  },
  {
   "cell_type": "code",
   "execution_count": null,
   "metadata": {},
   "outputs": [],
   "source": [
    "var = vars_top[128]\n",
    "print(\">>>>> \", var)\n",
    "display(cortes[var])"
   ]
  },
  {
   "cell_type": "code",
   "execution_count": null,
   "metadata": {},
   "outputs": [],
   "source": [
    "data = add_new_var_x_cut_up(data, colum='NRO_MESES_CON_ATRASO_U6M_COLDIRECT_SF', cortes=[1, 2, 3, 4], impute=0, up=True, soft=False)"
   ]
  },
  {
   "cell_type": "code",
   "execution_count": null,
   "metadata": {},
   "outputs": [],
   "source": [
    "var = vars_top[129]\n",
    "print(\">>>>> \", var)\n",
    "display(cortes[var])"
   ]
  },
  {
   "cell_type": "code",
   "execution_count": null,
   "metadata": {},
   "outputs": [],
   "source": [
    "var = vars_top[130]\n",
    "print(\">>>>> \", var)\n",
    "display(cortes[var])"
   ]
  },
  {
   "cell_type": "code",
   "execution_count": null,
   "metadata": {},
   "outputs": [],
   "source": [
    "data = add_new_var_x_cut_up(data, colum='NRO_MESES_CON_ATRASO_U6M_COLDIRECT_SF', cortes=[3, 4], impute=0, up=True, soft=False)"
   ]
  },
  {
   "cell_type": "code",
   "execution_count": null,
   "metadata": {},
   "outputs": [],
   "source": [
    "var = vars_top[131]\n",
    "print(\">>>>> \", var)\n",
    "display(cortes[var])"
   ]
  },
  {
   "cell_type": "code",
   "execution_count": null,
   "metadata": {},
   "outputs": [],
   "source": [
    "var = vars_top[132]\n",
    "print(\">>>>> \", var)\n",
    "display(cortes[var])"
   ]
  },
  {
   "cell_type": "code",
   "execution_count": null,
   "metadata": {},
   "outputs": [],
   "source": [
    "var = vars_top[133]\n",
    "print(\">>>>> \", var)\n",
    "display(cortes[var])"
   ]
  },
  {
   "cell_type": "code",
   "execution_count": null,
   "metadata": {},
   "outputs": [],
   "source": [
    "data = add_new_var_x_cut_up(data, colum='NRO_CLASIF_NO_NORMAL_GRUPO_EECON', cortes=[1, 2, 3, 4, 5, 6, 7, 8], impute=0, up=True, soft=False)"
   ]
  },
  {
   "cell_type": "code",
   "execution_count": null,
   "metadata": {},
   "outputs": [],
   "source": [
    "var = vars_top[134]\n",
    "print(\">>>>> \", var)\n",
    "display(cortes[var])"
   ]
  },
  {
   "cell_type": "code",
   "execution_count": null,
   "metadata": {},
   "outputs": [],
   "source": [
    "var = vars_top[135]\n",
    "print(\">>>>> \", var)\n",
    "display(cortes[var])"
   ]
  },
  {
   "cell_type": "code",
   "execution_count": null,
   "metadata": {},
   "outputs": [],
   "source": [
    "var = vars_top[136]\n",
    "print(\">>>>> \", var)\n",
    "display(cortes[var])"
   ]
  },
  {
   "cell_type": "code",
   "execution_count": null,
   "metadata": {},
   "outputs": [],
   "source": [
    "var = vars_top[137]\n",
    "print(\">>>>> \", var)\n",
    "display(cortes[var])"
   ]
  },
  {
   "cell_type": "code",
   "execution_count": null,
   "metadata": {},
   "outputs": [],
   "source": [
    "var = vars_top[138]\n",
    "print(\">>>>> \", var)\n",
    "display(cortes[var])"
   ]
  },
  {
   "cell_type": "code",
   "execution_count": null,
   "metadata": {},
   "outputs": [],
   "source": [
    "var = vars_top[139]\n",
    "print(\">>>>> \", var)\n",
    "display(cortes[var])"
   ]
  },
  {
   "cell_type": "code",
   "execution_count": null,
   "metadata": {},
   "outputs": [],
   "source": [
    "var = vars_top[139]\n",
    "print(\">>>>> \", var)\n",
    "display(cortes[var])"
   ]
  },
  {
   "cell_type": "code",
   "execution_count": null,
   "metadata": {},
   "outputs": [],
   "source": [
    "var = vars_top[140]\n",
    "print(\">>>>> \", var)\n",
    "display(cortes[var])"
   ]
  },
  {
   "cell_type": "code",
   "execution_count": null,
   "metadata": {},
   "outputs": [],
   "source": [
    "var = vars_top[141]\n",
    "print(\">>>>> \", var)\n",
    "display(cortes[var])"
   ]
  },
  {
   "cell_type": "code",
   "execution_count": null,
   "metadata": {},
   "outputs": [],
   "source": [
    "var = vars_top[142]\n",
    "print(\">>>>> \", var)\n",
    "display(cortes[var])"
   ]
  },
  {
   "cell_type": "code",
   "execution_count": null,
   "metadata": {},
   "outputs": [],
   "source": [
    "var = vars_top[143]\n",
    "print(\">>>>> \", var)\n",
    "display(cortes[var])"
   ]
  },
  {
   "cell_type": "code",
   "execution_count": null,
   "metadata": {},
   "outputs": [],
   "source": [
    "data = add_new_var_x_cut_up(data, colum='maximo_percent_ibk_u12m', cortes=[0.2, 0.3], impute=0, up=False, soft=True)"
   ]
  },
  {
   "cell_type": "code",
   "execution_count": null,
   "metadata": {},
   "outputs": [],
   "source": [
    "data = add_new_var_x_cut_up(data, colum='VARACION_NUM_BANCOS_FULL_RCCC_SF', cortes=[1, 2, 3], impute=0, up=True, soft=False)"
   ]
  },
  {
   "cell_type": "code",
   "execution_count": null,
   "metadata": {},
   "outputs": [],
   "source": [
    "var = vars_top[144]\n",
    "print(\">>>>> \", var)\n",
    "display(cortes[var])"
   ]
  },
  {
   "cell_type": "code",
   "execution_count": null,
   "metadata": {},
   "outputs": [],
   "source": [
    "var = vars_top[145]\n",
    "print(\">>>>> \", var)\n",
    "display(cortes[var])"
   ]
  },
  {
   "cell_type": "code",
   "execution_count": null,
   "metadata": {},
   "outputs": [],
   "source": [
    "var = vars_top[146]\n",
    "print(\">>>>> \", var)\n",
    "display(cortes[var])"
   ]
  },
  {
   "cell_type": "code",
   "execution_count": null,
   "metadata": {},
   "outputs": [],
   "source": [
    "var = vars_top[147]\n",
    "print(\">>>>> \", var)\n",
    "display(cortes[var])"
   ]
  },
  {
   "cell_type": "code",
   "execution_count": null,
   "metadata": {},
   "outputs": [],
   "source": [
    "var = vars_top[148]\n",
    "print(\">>>>> \", var)\n",
    "display(cortes[var])"
   ]
  },
  {
   "cell_type": "code",
   "execution_count": null,
   "metadata": {},
   "outputs": [],
   "source": [
    "var = vars_top[149]\n",
    "print(\">>>>> \", var)\n",
    "display(cortes[var])"
   ]
  },
  {
   "cell_type": "code",
   "execution_count": null,
   "metadata": {},
   "outputs": [],
   "source": [
    "display(cortes['PERCENT_GRUPO_ECON_VPC_NO_CLASIF_NORMAL'])"
   ]
  },
  {
   "cell_type": "code",
   "execution_count": null,
   "metadata": {},
   "outputs": [],
   "source": [
    "data = add_new_var_x_cut_up(data, colum='PERCENT_GRUPO_ECON_VPC_NO_CLASIF_NORMAL', cortes=[0.1, 0.2, 0.3, 0.4], impute=0, up=True, soft=False)"
   ]
  },
  {
   "cell_type": "code",
   "execution_count": null,
   "metadata": {},
   "outputs": [],
   "source": [
    "#[col for col in data.columns if 'ECON' in col.upper()]"
   ]
  },
  {
   "cell_type": "code",
   "execution_count": null,
   "metadata": {},
   "outputs": [],
   "source": [
    "data = add_new_var_x_cut_up(data, colum='NRO_CLASIF_NO_NORMAL_GRUPO_EECON', cortes=[1, 2, 3], impute=0, up=True, soft=False)"
   ]
  },
  {
   "cell_type": "code",
   "execution_count": null,
   "metadata": {},
   "outputs": [],
   "source": [
    "\n",
    "data = add_new_var_x_cut_up(data, colum='NRO_MESES_CON_ATRASO_4diasomas_U6M_COLDIRECT_SF', cortes=[1, 2, 3, 4], impute=0, up=True, soft=False)"
   ]
  },
  {
   "cell_type": "code",
   "execution_count": null,
   "metadata": {},
   "outputs": [],
   "source": [
    "\n",
    "data = add_new_var_x_cut_up(data, colum='NRO_BANCOS_CON_MAYOR_SOW_ULT_RCC', cortes=[1, 2, 3], impute=0, up=True, soft=False)"
   ]
  },
  {
   "cell_type": "markdown",
   "metadata": {},
   "source": [
    "## OTRAS VARIABLES"
   ]
  },
  {
   "cell_type": "code",
   "execution_count": null,
   "metadata": {},
   "outputs": [],
   "source": [
    "for var in [col for col in data.columns if 'full' in col.lower()]:\n",
    "    try:\n",
    "        print(\">\"*20, ' ', var)\n",
    "        display(cortes[var])\n",
    "    except Exception as e:\n",
    "        print(str(e))"
   ]
  },
  {
   "cell_type": "code",
   "execution_count": null,
   "metadata": {},
   "outputs": [],
   "source": [
    "#data['VARIAICION_NRO_BANCOS_CIERRE_2019'].value_counts()"
   ]
  },
  {
   "cell_type": "code",
   "execution_count": null,
   "metadata": {},
   "outputs": [],
   "source": []
  },
  {
   "cell_type": "code",
   "execution_count": null,
   "metadata": {},
   "outputs": [],
   "source": [
    "data['fusion_atraso_grantia'] = data[['TIENE_MAS_95PERCENT_GAR_TOTAL_EN_UN_SOLO_BANCO_PRIN_NO_IBK', '_1_cut_up_NUM_BANCOS_PRIN_CON_DIAS_ATRASO_MAYOR_A_IBKSF_ULT_RCC']].apply(\n",
    "    lambda _: 1 if _[0] == 1 or _[1] == 1 else 0, axis=1\n",
    ")"
   ]
  },
  {
   "cell_type": "code",
   "execution_count": null,
   "metadata": {},
   "outputs": [],
   "source": [
    "for column in [col for col in data.columns if 'NRO_BANCO' in col.upper() and 'and' not in col and 'VARIAICION' not in col]:\n",
    "    data = add_new_var_x_cut_up(data, colum=column, cortes=[1], impute=0, up=True, soft=False)"
   ]
  },
  {
   "cell_type": "code",
   "execution_count": null,
   "metadata": {},
   "outputs": [],
   "source": [
    "for column in [col for col in data.columns if 'TENDENCIA' in col.upper() and 'and' not in col]:\n",
    "    try:\n",
    "        data = add_new_var_x_cut_up(data, colum=column, cortes=[0], impute=0, up=True, soft=True)\n",
    "    except:\n",
    "        print(\">>ERROR: \", column)"
   ]
  },
  {
   "cell_type": "code",
   "execution_count": null,
   "metadata": {},
   "outputs": [],
   "source": [
    "#[col for col in data.columns if 'PROTESTO' in col.upper()]\n",
    "for var in [col for col in data.columns if 'protesto' in col.lower()]:\n",
    "    try:\n",
    "        print(\">\"*20, ' ', var)\n",
    "        display(cortes[var])\n",
    "    except Exception as e:\n",
    "        print(str(e))"
   ]
  },
  {
   "cell_type": "code",
   "execution_count": null,
   "metadata": {},
   "outputs": [],
   "source": [
    "#data['NUM_ENTIDADES_FULL_RCC_SF']"
   ]
  },
  {
   "cell_type": "code",
   "execution_count": null,
   "metadata": {},
   "outputs": [],
   "source": [
    "\n",
    "for var in [col for col in data.columns if 'NUM_ENTIDADES_FULL_RCC_SF' in col.upper()]:\n",
    "    try:\n",
    "        print(\">\"*20, ' ', var)\n",
    "        display(cortes[var])\n",
    "    except Exception as e:\n",
    "        print(str(e))"
   ]
  },
  {
   "cell_type": "code",
   "execution_count": null,
   "metadata": {},
   "outputs": [],
   "source": [
    "#for var in [col for col in data.columns if 'riesgo' in col.lower()]:\n",
    "#    try:\n",
    "#        print(\">\"*20, ' ', var)\n",
    "#        display(cortes[var])\n",
    "#    except Exception as e:\n",
    "#        print(str(e))"
   ]
  },
  {
   "cell_type": "markdown",
   "metadata": {},
   "source": [
    "### IMPUTANDO VARIABLES DICOTOMIAS"
   ]
  },
  {
   "cell_type": "code",
   "execution_count": null,
   "metadata": {},
   "outputs": [],
   "source": [
    "data[data['COD_UNICO'] == str(8443816).zfill(10)].sort_values(by=['PERIODO'])[\n",
    "    ['target_SF_8_dias_atraso_o_mas_1Mbueno', 'PERIODO', 'MAX_DIAS_ATRASO', 'MAX_DIAS_ATRASO_SF',\n",
    "     'TIENE_DEUDA_REFINANCIADO_RCC', 'TIENE_DEUDA_REFINANCIADO_IBK', 'TIENE_DEUDA_JUDICIAL_RCC']\n",
    "]"
   ]
  },
  {
   "cell_type": "code",
   "execution_count": null,
   "metadata": {},
   "outputs": [],
   "source": [
    "for termino in ['ATRASO', 'CATEGORIA', 'TIENE', 'CUT', 'MENOR', 'MAYOR', 'SUBIDA',\n",
    "                'NUM', 'INT', 'CAIDA', 'NRO', 'COVID', 'BANCO']:\n",
    "    \n",
    "    for col in [_ for _ in data.columns if termino in _.upper() and 'TARGET' not in _.upper()]:\n",
    "        data[col] = data[col].fillna(0)\n",
    "    \n"
   ]
  },
  {
   "cell_type": "code",
   "execution_count": null,
   "metadata": {},
   "outputs": [],
   "source": [
    "data[data['COD_UNICO'] == str(8443816).zfill(10)].sort_values(by=['PERIODO'])[\n",
    "    ['target_SF_8_dias_atraso_o_mas_1Mbueno', 'PERIODO', 'MAX_DIAS_ATRASO', 'MAX_DIAS_ATRASO_SF',\n",
    "     'TIENE_DEUDA_REFINANCIADO_RCC', 'TIENE_DEUDA_REFINANCIADO_IBK', 'TIENE_DEUDA_JUDICIAL_RCC']\n",
    "]"
   ]
  },
  {
   "cell_type": "markdown",
   "metadata": {},
   "source": [
    "## SAVE"
   ]
  },
  {
   "cell_type": "code",
   "execution_count": null,
   "metadata": {},
   "outputs": [],
   "source": []
  },
  {
   "cell_type": "code",
   "execution_count": null,
   "metadata": {},
   "outputs": [],
   "source": [
    "#[col for col in data.columns if 'categoria' in col.lower()]"
   ]
  },
  {
   "cell_type": "code",
   "execution_count": null,
   "metadata": {},
   "outputs": [],
   "source": [
    "data.columns = [col.replace(' ', '_') for col in data.columns]"
   ]
  },
  {
   "cell_type": "code",
   "execution_count": null,
   "metadata": {},
   "outputs": [],
   "source": [
    "data = data[[col for col in data.columns if '1_and_1' not in col]]\n",
    "print(data.shape)"
   ]
  },
  {
   "cell_type": "code",
   "execution_count": null,
   "metadata": {},
   "outputs": [],
   "source": [
    "len([col for col in data.columns if 'fusion_atraso_grantia'  in col])"
   ]
  },
  {
   "cell_type": "code",
   "execution_count": null,
   "metadata": {},
   "outputs": [],
   "source": [
    "'TIENE_AUMENTO_RIESGO_U7M' in data.columns, '_1_cut_up_NUM_BANCOS_NOIBK_DEBT_MAYOR_DE_U3M' in data.columns, 'NRO_BANCOS_CON_MAYOR_SOW_ULT_RCC' in data.columns"
   ]
  },
  {
   "cell_type": "code",
   "execution_count": null,
   "metadata": {},
   "outputs": [],
   "source": [
    "data.shape"
   ]
  },
  {
   "cell_type": "code",
   "execution_count": null,
   "metadata": {},
   "outputs": [],
   "source": [
    "data[[col for col in data.columns if 'and' not in col]].to_csv(\"AVANCE_6_MEDIANA.csv\", index=False)"
   ]
  },
  {
   "cell_type": "code",
   "execution_count": null,
   "metadata": {},
   "outputs": [],
   "source": [
    "pd.crosstab(\n",
    "    data[data['FUNNEL_4'] == 1]['ZONAL'], data[data['FUNNEL_4'] == 1]['PERIODO']\n",
    ")"
   ]
  },
  {
   "cell_type": "code",
   "execution_count": null,
   "metadata": {},
   "outputs": [],
   "source": [
    "pd.crosstab(\n",
    "    data[data['FUNNEL_ALERTA'] == 1]['ZONAL'], data[data['FUNNEL_ALERTA'] == 1]['PERIODO']\n",
    ")"
   ]
  },
  {
   "cell_type": "code",
   "execution_count": null,
   "metadata": {},
   "outputs": [],
   "source": [
    "data.shape"
   ]
  },
  {
   "cell_type": "code",
   "execution_count": null,
   "metadata": {},
   "outputs": [],
   "source": []
  },
  {
   "cell_type": "code",
   "execution_count": null,
   "metadata": {},
   "outputs": [],
   "source": []
  },
  {
   "cell_type": "code",
   "execution_count": null,
   "metadata": {},
   "outputs": [],
   "source": []
  },
  {
   "cell_type": "code",
   "execution_count": null,
   "metadata": {},
   "outputs": [],
   "source": []
  },
  {
   "cell_type": "code",
   "execution_count": null,
   "metadata": {},
   "outputs": [],
   "source": []
  },
  {
   "cell_type": "code",
   "execution_count": null,
   "metadata": {},
   "outputs": [],
   "source": []
  },
  {
   "cell_type": "code",
   "execution_count": null,
   "metadata": {},
   "outputs": [],
   "source": []
  },
  {
   "cell_type": "code",
   "execution_count": null,
   "metadata": {},
   "outputs": [],
   "source": []
  },
  {
   "cell_type": "code",
   "execution_count": null,
   "metadata": {},
   "outputs": [],
   "source": []
  },
  {
   "cell_type": "code",
   "execution_count": null,
   "metadata": {},
   "outputs": [],
   "source": []
  }
 ],
 "metadata": {
  "kernelspec": {
   "display_name": "Python 3",
   "language": "python",
   "name": "python3"
  },
  "language_info": {
   "codemirror_mode": {
    "name": "ipython",
    "version": 3
   },
   "file_extension": ".py",
   "mimetype": "text/x-python",
   "name": "python",
   "nbconvert_exporter": "python",
   "pygments_lexer": "ipython3",
   "version": "3.8.5"
  }
 },
 "nbformat": 4,
 "nbformat_minor": 4
}
