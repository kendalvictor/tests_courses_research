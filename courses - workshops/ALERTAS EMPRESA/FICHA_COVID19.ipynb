{
 "cells": [
  {
   "cell_type": "code",
   "execution_count": null,
   "metadata": {},
   "outputs": [],
   "source": [
    "import os\n",
    "import unicodedata\n",
    "\n",
    "import pandas as pd\n",
    "import pymssql\n",
    "import missingno as msno"
   ]
  },
  {
   "cell_type": "code",
   "execution_count": null,
   "metadata": {},
   "outputs": [],
   "source": [
    "!pip install missingno"
   ]
  },
  {
   "cell_type": "code",
   "execution_count": null,
   "metadata": {},
   "outputs": [],
   "source": [
    "from collections import Counter\n",
    "#from utils_ficha import clean_acents, null_verificator"
   ]
  },
  {
   "cell_type": "code",
   "execution_count": null,
   "metadata": {},
   "outputs": [],
   "source": []
  },
  {
   "cell_type": "code",
   "execution_count": null,
   "metadata": {},
   "outputs": [],
   "source": [
    "connection_b20 = pymssql.connect(host='10.10.33.92\\SQL2008',\n",
    "                             user='userweb',\n",
    "                             port=1433,\n",
    "                             password='$$W3BVPC2@17',\n",
    "                             database='WEBVPC'\n",
    "                            )"
   ]
  },
  {
   "cell_type": "markdown",
   "metadata": {},
   "source": [
    "# FICHA COVID"
   ]
  },
  {
   "cell_type": "code",
   "execution_count": null,
   "metadata": {},
   "outputs": [],
   "source": [
    "query_covid = \"\"\"\n",
    "    SELECT * FROM WEBVPC_COVID19 ORDER BY FECHA_CREACION DESC\n",
    "\"\"\"\n",
    "covid = pd.read_sql(\n",
    "   query_covid , connection_b20\n",
    ")\n",
    "covid.head(10)"
   ]
  },
  {
   "cell_type": "markdown",
   "metadata": {},
   "source": [
    "### ¿Cuantas fichas tengo?"
   ]
  },
  {
   "cell_type": "code",
   "execution_count": null,
   "metadata": {},
   "outputs": [],
   "source": [
    "covid.shape"
   ]
  },
  {
   "cell_type": "markdown",
   "metadata": {},
   "source": [
    "### ¿Que columnas se maneja?"
   ]
  },
  {
   "cell_type": "code",
   "execution_count": null,
   "metadata": {},
   "outputs": [],
   "source": [
    "covid.columns"
   ]
  },
  {
   "cell_type": "markdown",
   "metadata": {},
   "source": [
    "### ¿Cuales de estas columnas tienen nulos? ¿cuantos son estos? ¿En que porcentaje?"
   ]
  },
  {
   "cell_type": "code",
   "execution_count": null,
   "metadata": {},
   "outputs": [],
   "source": [
    "_nulos = covid.isnull().sum()\n",
    "_nulos[_nulos > 0]\n",
    "pd.set_option('display.max_rows', 500)\n",
    "\n",
    "null_verificator(covid)"
   ]
  },
  {
   "cell_type": "code",
   "execution_count": null,
   "metadata": {},
   "outputs": [],
   "source": [
    "msno.matrix(covid,  labels=True)"
   ]
  },
  {
   "cell_type": "markdown",
   "metadata": {},
   "source": [
    "## ANALISIS DETALLADO DE IMPACTO"
   ]
  },
  {
   "cell_type": "markdown",
   "metadata": {},
   "source": [
    "## 1. Indicar si la pandemia COVID-19, ha tenido un impacto negativo en la gestión:"
   ]
  },
  {
   "cell_type": "code",
   "execution_count": null,
   "metadata": {},
   "outputs": [],
   "source": [
    "null_verificator(pd.DataFrame(covid['PREGUNTA_1']))"
   ]
  },
  {
   "cell_type": "code",
   "execution_count": null,
   "metadata": {},
   "outputs": [],
   "source": [
    "covid['PREGUNTA_1'].value_counts()   "
   ]
  },
  {
   "cell_type": "markdown",
   "metadata": {},
   "source": [
    "#### NOTA: Pero de primera mano ya tenemos un indicador que nos dice como se ve el cliente frente al COVID o almenos que es lo que quiere transmitir de su situación"
   ]
  },
  {
   "cell_type": "markdown",
   "metadata": {},
   "source": [
    "#### solo una cosa:   ¿QUE ES 1 Y QUE ES 2?"
   ]
  },
  {
   "cell_type": "markdown",
   "metadata": {},
   "source": [
    "\n"
   ]
  },
  {
   "cell_type": "markdown",
   "metadata": {},
   "source": [
    "## 2_1 ¿Se encuentra actualmente operando?"
   ]
  },
  {
   "cell_type": "code",
   "execution_count": null,
   "metadata": {},
   "outputs": [],
   "source": [
    "null_verificator(pd.DataFrame(covid['PREGUNTA_2_1']))"
   ]
  },
  {
   "cell_type": "code",
   "execution_count": null,
   "metadata": {},
   "outputs": [],
   "source": [
    "covid['PREGUNTA_2_1'].value_counts()"
   ]
  },
  {
   "cell_type": "markdown",
   "metadata": {},
   "source": [
    "#### NOTA: Que una empresa haya detenido operaciones por el COVID nos dá ya la intuición de que nos es factible otorgarle crédito y seria interesante cruzarla con una información de mora o clasificación."
   ]
  },
  {
   "cell_type": "code",
   "execution_count": null,
   "metadata": {},
   "outputs": [],
   "source": []
  },
  {
   "cell_type": "markdown",
   "metadata": {},
   "source": [
    "## 2_2 ¿Se acogió a la suspensión perfecta de labores?"
   ]
  },
  {
   "cell_type": "code",
   "execution_count": null,
   "metadata": {},
   "outputs": [],
   "source": [
    "null_verificator(pd.DataFrame(covid['PREGUNTA_2_2']))"
   ]
  },
  {
   "cell_type": "markdown",
   "metadata": {},
   "source": [
    "#### NOTA: Permisos sin goze por tres meses a sus trabajadores con el fin de bajar al mínimo gatos por planilla indica que de por sí el rubro del negocio fue afectado por el COVID"
   ]
  },
  {
   "cell_type": "code",
   "execution_count": null,
   "metadata": {},
   "outputs": [],
   "source": []
  },
  {
   "cell_type": "markdown",
   "metadata": {},
   "source": [
    "## Revision de la pregunta 2 en general"
   ]
  },
  {
   "cell_type": "markdown",
   "metadata": {},
   "source": [
    "#### SE INTUYE 1 = SI, 2 = NO"
   ]
  },
  {
   "cell_type": "code",
   "execution_count": null,
   "metadata": {},
   "outputs": [],
   "source": [
    "all_2_question = covid[[col for col in covid.columns if col.startswith('PREGUNTA_2')]]\n",
    "all_2_question[all_2_question['PREGUNTA_2_1'] == 1].head(3)"
   ]
  },
  {
   "cell_type": "code",
   "execution_count": null,
   "metadata": {},
   "outputs": [],
   "source": [
    "all_2_question[all_2_question['PREGUNTA_2_1'] == 2].head(3)"
   ]
  },
  {
   "cell_type": "markdown",
   "metadata": {},
   "source": [
    "#### NOTA: Las subpreguntas 2_x_x no depende de la primera, entonces  ¿Porqué agrauparlas en una sola pregunta?"
   ]
  },
  {
   "cell_type": "code",
   "execution_count": null,
   "metadata": {},
   "outputs": [],
   "source": []
  },
  {
   "cell_type": "markdown",
   "metadata": {},
   "source": [
    "## 2_3 ¿Redujo el personal?"
   ]
  },
  {
   "cell_type": "code",
   "execution_count": null,
   "metadata": {},
   "outputs": [],
   "source": [
    "null_verificator(pd.DataFrame(covid['PREGUNTA_2_3_1']))"
   ]
  },
  {
   "cell_type": "code",
   "execution_count": null,
   "metadata": {},
   "outputs": [],
   "source": [
    "all_2_question[all_2_question['PREGUNTA_2_3_2'].isnull()]['PREGUNTA_2_3_1'].value_counts()"
   ]
  },
  {
   "cell_type": "markdown",
   "metadata": {},
   "source": [
    "#### ¿Quien es?"
   ]
  },
  {
   "cell_type": "code",
   "execution_count": null,
   "metadata": {},
   "outputs": [],
   "source": [
    "covid[\n",
    "    (covid['PREGUNTA_2_3_2'].isnull()) & (covid['PREGUNTA_2_3_1'] == 1)\n",
    "]"
   ]
  },
  {
   "cell_type": "markdown",
   "metadata": {},
   "source": [
    "NOTA: Detalle mostrado a revisar / El reducir personal ya es una acción drástica que da a notar que la empresa se prepara para una nueva realidad, se podría tener un treshold para el grado y ver como cruza con otras varibales"
   ]
  },
  {
   "cell_type": "code",
   "execution_count": null,
   "metadata": {},
   "outputs": [],
   "source": []
  },
  {
   "cell_type": "markdown",
   "metadata": {},
   "source": [
    "## 3. Otras medidas administrativas y financieras que se están toman o tomarán para afrontar la coyuntura y poder mitigar los efectos del COVID-19 adversos sobre el negocio:"
   ]
  },
  {
   "cell_type": "code",
   "execution_count": null,
   "metadata": {},
   "outputs": [],
   "source": [
    "null_verificator(pd.DataFrame(covid['PREGUNTA_3']))"
   ]
  },
  {
   "cell_type": "markdown",
   "metadata": {},
   "source": [
    "#### NOTA: solo 6.6% de nulos, con lo cual se asumiría que en esos casos no se han preocupado en tomar otras medidas para sobrepasar la coyuntura. De no ser así se debería alertar la necesidad de completar este campo"
   ]
  },
  {
   "cell_type": "code",
   "execution_count": null,
   "metadata": {},
   "outputs": [],
   "source": [
    "covid['PREGUNTA_3'] = covid['PREGUNTA_3'].apply(clean_acents)"
   ]
  },
  {
   "cell_type": "code",
   "execution_count": null,
   "metadata": {},
   "outputs": [],
   "source": [
    "covid['PREGUNTA_3']"
   ]
  },
  {
   "cell_type": "code",
   "execution_count": null,
   "metadata": {},
   "outputs": [],
   "source": [
    "all_text =  ' '.join([_ for _ in list(covid['PREGUNTA_3']) if _]).strip().split()\n",
    "all_text = [_ for _ in all_text if len(_) > 3 and _ not in ['para', 'hasta', 'esta', 'como', 'tomo']]\n",
    "\n",
    "    \n",
    "conteo = Counter(all_text)"
   ]
  },
  {
   "cell_type": "code",
   "execution_count": null,
   "metadata": {},
   "outputs": [],
   "source": [
    "conteo.most_common()[:20]"
   ]
  },
  {
   "cell_type": "markdown",
   "metadata": {},
   "source": [
    "#### Nota: se puede tener en cuenta estas palabras mas frecuentes para alimentar o reforzar otra pregunta y capacitar a los ejecutivos para que sepan como influencia el uso de las palabras que escriben en la toma de decisiones"
   ]
  },
  {
   "cell_type": "code",
   "execution_count": null,
   "metadata": {},
   "outputs": [],
   "source": []
  },
  {
   "cell_type": "markdown",
   "metadata": {},
   "source": [
    "## 4. En qué porcentaje se ha reducido su ingreso mensual en lo que va del 2020"
   ]
  },
  {
   "cell_type": "code",
   "execution_count": null,
   "metadata": {},
   "outputs": [],
   "source": [
    "null_verificator(pd.DataFrame(covid['PREGUNTA_4']))"
   ]
  },
  {
   "cell_type": "markdown",
   "metadata": {},
   "source": [
    "NOTA: al tener esta pregunta limpia de nulos, nos garantiza manejar con el porcentaje de disminución del ingreso que al menos el cliente quiere trasnmitir"
   ]
  },
  {
   "cell_type": "code",
   "execution_count": null,
   "metadata": {},
   "outputs": [],
   "source": []
  },
  {
   "cell_type": "markdown",
   "metadata": {},
   "source": [
    "## 5. En cuánto espera proyectar ventas al cierre del 2020"
   ]
  },
  {
   "cell_type": "code",
   "execution_count": null,
   "metadata": {},
   "outputs": [],
   "source": [
    "null_verificator(pd.DataFrame(covid['PREGUNTA_5_1']))"
   ]
  },
  {
   "cell_type": "code",
   "execution_count": null,
   "metadata": {},
   "outputs": [],
   "source": [
    "covid[covid['PREGUNTA_5_1'] < 0].shape, covid[covid['PREGUNTA_5_1'] > 0].shape, covid[covid['PREGUNTA_5_1'] == 0].shape"
   ]
  },
  {
   "cell_type": "markdown",
   "metadata": {},
   "source": [
    "#### ¿Quienes son?"
   ]
  },
  {
   "cell_type": "code",
   "execution_count": null,
   "metadata": {},
   "outputs": [],
   "source": [
    "covid[covid['PREGUNTA_5_1'] == 0][['COD_UNICO', 'FECHA_REGISTRO']].head(3)"
   ]
  },
  {
   "cell_type": "markdown",
   "metadata": {},
   "source": [
    "#### NOTA: En los casos con valor se deduce que no habrá perdida, en caso contrario revisar el llenado"
   ]
  },
  {
   "cell_type": "code",
   "execution_count": null,
   "metadata": {},
   "outputs": [],
   "source": []
  },
  {
   "cell_type": "code",
   "execution_count": null,
   "metadata": {},
   "outputs": [],
   "source": [
    "null_verificator(pd.DataFrame(covid['PREGUNTA_5_2']))"
   ]
  },
  {
   "cell_type": "code",
   "execution_count": null,
   "metadata": {},
   "outputs": [],
   "source": [
    "covid[covid['PREGUNTA_5_2'] < 0].shape, covid[covid['PREGUNTA_5_2'] > 0].shape, covid[covid['PREGUNTA_5_2'] == 0].shape"
   ]
  },
  {
   "cell_type": "markdown",
   "metadata": {},
   "source": [
    "#### ¿Quienes son?"
   ]
  },
  {
   "cell_type": "code",
   "execution_count": null,
   "metadata": {},
   "outputs": [],
   "source": [
    "covid[covid['PREGUNTA_5_2'] == 0][['COD_UNICO', 'FECHA_REGISTRO']].head(3)"
   ]
  },
  {
   "cell_type": "markdown",
   "metadata": {},
   "source": [
    "#### NOTA: En los casos con valor se deduce que no habrá perdida, en caso contrario revisar el llenado"
   ]
  },
  {
   "cell_type": "code",
   "execution_count": null,
   "metadata": {},
   "outputs": [],
   "source": [
    "covid[\n",
    "    (covid['PREGUNTA_5_2'].notnull()) & (covid['PREGUNTA_5_1'].isnull())\n",
    "].head(3)"
   ]
  },
  {
   "cell_type": "code",
   "execution_count": null,
   "metadata": {},
   "outputs": [],
   "source": []
  },
  {
   "cell_type": "code",
   "execution_count": null,
   "metadata": {},
   "outputs": [],
   "source": []
  },
  {
   "cell_type": "markdown",
   "metadata": {},
   "source": [
    "## 6. ¿Qué porcentaje o monto de su costo de ventas y gastos operativos es fijo?"
   ]
  },
  {
   "cell_type": "code",
   "execution_count": null,
   "metadata": {},
   "outputs": [],
   "source": []
  },
  {
   "cell_type": "code",
   "execution_count": null,
   "metadata": {},
   "outputs": [],
   "source": []
  },
  {
   "cell_type": "code",
   "execution_count": null,
   "metadata": {},
   "outputs": [],
   "source": []
  },
  {
   "cell_type": "code",
   "execution_count": null,
   "metadata": {},
   "outputs": [],
   "source": []
  },
  {
   "cell_type": "code",
   "execution_count": null,
   "metadata": {},
   "outputs": [],
   "source": []
  },
  {
   "cell_type": "markdown",
   "metadata": {},
   "source": [
    "## 11. ¿Cuenta con algún crédito Reactiva en el Sistema Financiero (Excepto IBK)?"
   ]
  },
  {
   "cell_type": "code",
   "execution_count": null,
   "metadata": {},
   "outputs": [],
   "source": [
    "null_verificator(pd.DataFrame(covid['PREGUNTA_5_2']))"
   ]
  },
  {
   "cell_type": "code",
   "execution_count": null,
   "metadata": {},
   "outputs": [],
   "source": [
    "all_11 = covid[[col for col in covid.columns if col.startswith('PREGUNTA_11')] + ['COD_UNICO']]\n",
    "all_11.shape\n",
    "all_11.head(3)"
   ]
  },
  {
   "cell_type": "code",
   "execution_count": null,
   "metadata": {},
   "outputs": [],
   "source": [
    "_null_11 = all_11[all_11['PREGUNTA_11'] == 1].isnull().sum(axis=1)\n",
    "_null_11[_null_11 == all_11.shape[1]-2]"
   ]
  },
  {
   "cell_type": "code",
   "execution_count": null,
   "metadata": {},
   "outputs": [],
   "source": [
    "all_11.iloc[704]"
   ]
  },
  {
   "cell_type": "code",
   "execution_count": null,
   "metadata": {},
   "outputs": [],
   "source": []
  },
  {
   "cell_type": "code",
   "execution_count": null,
   "metadata": {},
   "outputs": [],
   "source": []
  },
  {
   "cell_type": "code",
   "execution_count": null,
   "metadata": {},
   "outputs": [],
   "source": []
  },
  {
   "cell_type": "code",
   "execution_count": null,
   "metadata": {},
   "outputs": [],
   "source": []
  },
  {
   "cell_type": "code",
   "execution_count": null,
   "metadata": {},
   "outputs": [],
   "source": []
  },
  {
   "cell_type": "code",
   "execution_count": null,
   "metadata": {},
   "outputs": [],
   "source": []
  }
 ],
 "metadata": {
  "kernelspec": {
   "display_name": "Python 3",
   "language": "python",
   "name": "python3"
  },
  "language_info": {
   "codemirror_mode": {
    "name": "ipython",
    "version": 3
   },
   "file_extension": ".py",
   "mimetype": "text/x-python",
   "name": "python",
   "nbconvert_exporter": "python",
   "pygments_lexer": "ipython3",
   "version": "3.7.6"
  }
 },
 "nbformat": 4,
 "nbformat_minor": 4
}
