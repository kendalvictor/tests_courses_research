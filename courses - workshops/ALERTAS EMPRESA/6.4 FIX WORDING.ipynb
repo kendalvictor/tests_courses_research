{
 "cells": [
  {
   "cell_type": "code",
   "execution_count": 1,
   "id": "homeless-anthropology",
   "metadata": {},
   "outputs": [],
   "source": [
    "import glob\n",
    "import time\n",
    "import gc\n",
    "\n",
    "#nativos\n",
    "import os\n",
    "import unicodedata\n",
    "from datetime import datetime, timedelta\n",
    "from dateutil.relativedelta import relativedelta\n",
    "\n",
    "#terceros\n",
    "import pandas as pd\n",
    "import numpy as np\n",
    "import pymssql\n",
    "import missingno as msnolistadconoce\n",
    "from collections import Counter"
   ]
  },
  {
   "cell_type": "code",
   "execution_count": 3,
   "id": "worth-anger",
   "metadata": {},
   "outputs": [
    {
     "data": {
      "text/plain": [
       "22"
      ]
     },
     "execution_count": 3,
     "metadata": {},
     "output_type": "execute_result"
    }
   ],
   "source": [
    "#terceros\n",
    "import pandas as pd\n",
    "import numpy as np\n",
    "import pymssql\n",
    "\n",
    "#conneciom MARKET\n",
    "connection_market = pymssql.connect(\n",
    "    host='10.11.12.90\\BDT',\n",
    "    user='ibetlmarket',\n",
    "    port=1433,\n",
    "    password='m@rk3t2o15',\n",
    "    database='MARKET'\n",
    ")\n",
    "\n",
    "sql_catalogo = \"\"\"\n",
    "     SELECT * FROM STG.H_ALERTAS_CATALOGO_ALERTA\n",
    "\"\"\"\n",
    "\n",
    "catalogo = pd.read_sql(\n",
    "   sql_catalogo , connection_market\n",
    ")\n",
    "\n",
    "connection_market.close()\n",
    "print(catalogo.shape)\n",
    "catalogo.head(2)"
   ]
  },
  {
   "cell_type": "code",
   "execution_count": 4,
   "id": "straight-bridges",
   "metadata": {},
   "outputs": [
    {
     "name": "stdout",
     "output_type": "stream",
     "text": [
      "(66, 14)\n"
     ]
    },
    {
     "data": {
      "text/html": [
       "<div>\n",
       "<style scoped>\n",
       "    .dataframe tbody tr th:only-of-type {\n",
       "        vertical-align: middle;\n",
       "    }\n",
       "\n",
       "    .dataframe tbody tr th {\n",
       "        vertical-align: top;\n",
       "    }\n",
       "\n",
       "    .dataframe thead th {\n",
       "        text-align: right;\n",
       "    }\n",
       "</style>\n",
       "<table border=\"1\" class=\"dataframe\">\n",
       "  <thead>\n",
       "    <tr style=\"text-align: right;\">\n",
       "      <th></th>\n",
       "      <th>COD_ALERTA</th>\n",
       "      <th>COD_VAR_3</th>\n",
       "      <th>FLG_VIGENTE</th>\n",
       "      <th>PESO_FINAL</th>\n",
       "      <th>PESO_CE</th>\n",
       "      <th>CODIGO_BANCA</th>\n",
       "      <th>NOMBRE</th>\n",
       "      <th>BANCA</th>\n",
       "      <th>INFORMACION_LEVANTAR</th>\n",
       "      <th>EXPLIC_VAR1</th>\n",
       "      <th>EXPLIC_VAR2</th>\n",
       "      <th>EXPLIC_VAR3</th>\n",
       "      <th>COD_VAR_1</th>\n",
       "      <th>COD_VAR_2</th>\n",
       "    </tr>\n",
       "  </thead>\n",
       "  <tbody>\n",
       "    <tr>\n",
       "      <th>0</th>\n",
       "      <td>1.0</td>\n",
       "      <td>None</td>\n",
       "      <td>1.0</td>\n",
       "      <td>3.0</td>\n",
       "      <td>3.0</td>\n",
       "      <td>A1</td>\n",
       "      <td>1. El 10% o más del grupo económico del client...</td>\n",
       "      <td>Mediana</td>\n",
       "      <td>No aplica</td>\n",
       "      <td>#Empresas en GE con FEVE Seguir:</td>\n",
       "      <td>Subsector:</td>\n",
       "      <td>None</td>\n",
       "      <td>None</td>\n",
       "      <td>None</td>\n",
       "    </tr>\n",
       "    <tr>\n",
       "      <th>1</th>\n",
       "      <td>2.0</td>\n",
       "      <td>None</td>\n",
       "      <td>1.0</td>\n",
       "      <td>2.0</td>\n",
       "      <td>2.0</td>\n",
       "      <td>A2</td>\n",
       "      <td>1. Alguna empresa del grupo económico del clie...</td>\n",
       "      <td>Mediana</td>\n",
       "      <td>No aplica</td>\n",
       "      <td>#Empresas en GE con clas SBS No Normal:</td>\n",
       "      <td>Variación en # de días de rotación de inventar...</td>\n",
       "      <td>None</td>\n",
       "      <td>None</td>\n",
       "      <td>None</td>\n",
       "    </tr>\n",
       "  </tbody>\n",
       "</table>\n",
       "</div>"
      ],
      "text/plain": [
       "   COD_ALERTA COD_VAR_3  FLG_VIGENTE  PESO_FINAL  PESO_CE CODIGO_BANCA  \\\n",
       "0         1.0      None          1.0         3.0      3.0           A1   \n",
       "1         2.0      None          1.0         2.0      2.0           A2   \n",
       "\n",
       "                                              NOMBRE    BANCA  \\\n",
       "0  1. El 10% o más del grupo económico del client...  Mediana   \n",
       "1  1. Alguna empresa del grupo económico del clie...  Mediana   \n",
       "\n",
       "  INFORMACION_LEVANTAR                              EXPLIC_VAR1  \\\n",
       "0            No aplica         #Empresas en GE con FEVE Seguir:   \n",
       "1            No aplica  #Empresas en GE con clas SBS No Normal:   \n",
       "\n",
       "                                         EXPLIC_VAR2 EXPLIC_VAR3 COD_VAR_1  \\\n",
       "0                                         Subsector:        None      None   \n",
       "1  Variación en # de días de rotación de inventar...        None      None   \n",
       "\n",
       "  COD_VAR_2  \n",
       "0      None  \n",
       "1      None  "
      ]
     },
     "execution_count": 4,
     "metadata": {},
     "output_type": "execute_result"
    }
   ],
   "source": []
  },
  {
   "cell_type": "code",
   "execution_count": 5,
   "id": "stainless-bathroom",
   "metadata": {},
   "outputs": [],
   "source": [
    "catalogo.to_excel(\"CATALOGO.xlsx\", index=False)"
   ]
  },
  {
   "cell_type": "code",
   "execution_count": null,
   "id": "brutal-values",
   "metadata": {},
   "outputs": [],
   "source": [
    "raise Exception(\"VICTOR DICE: AGUANTA TU COCHE .... valida en el excel y luego corre lo de abajo .... pdta: El excel ya se creó porseaca\")"
   ]
  },
  {
   "cell_type": "code",
   "execution_count": null,
   "id": "lesser-plastic",
   "metadata": {},
   "outputs": [],
   "source": []
  },
  {
   "cell_type": "code",
   "execution_count": null,
   "id": "smooth-heavy",
   "metadata": {},
   "outputs": [],
   "source": []
  },
  {
   "cell_type": "markdown",
   "id": "corrected-landscape",
   "metadata": {},
   "source": [
    "## UP"
   ]
  },
  {
   "cell_type": "code",
   "execution_count": null,
   "id": "southern-incentive",
   "metadata": {},
   "outputs": [],
   "source": [
    "catalogo = pd.read_excel('CATALOGO.xlsx', engine='openpyxl')\n",
    "catalogo.head()"
   ]
  },
  {
   "cell_type": "code",
   "execution_count": null,
   "id": "pretty-decision",
   "metadata": {},
   "outputs": [],
   "source": [
    "catalogo.shape"
   ]
  },
  {
   "cell_type": "code",
   "execution_count": null,
   "id": "helpful-nirvana",
   "metadata": {},
   "outputs": [],
   "source": [
    "def generate_orden_banca(val):\n",
    "    if val <= 23:\n",
    "        return 'A{}'.format(val)\n",
    "    if val <= 34:\n",
    "        return 'A{}'.format(val - 23)\n",
    "    if val <= 45:\n",
    "        return 'A{}'.format(val - 34)\n",
    "    if val <= 66:\n",
    "        return 'A{}'.format(val - 45)\n",
    "    \n",
    "    return 'X'"
   ]
  },
  {
   "cell_type": "code",
   "execution_count": null,
   "id": "accomplished-baltimore",
   "metadata": {},
   "outputs": [],
   "source": [
    "catalogo['CODIGO_BANCA'] = catalogo['COD_ALERTA'].apply(generate_orden_banca)"
   ]
  },
  {
   "cell_type": "code",
   "execution_count": null,
   "id": "blank-haiti",
   "metadata": {},
   "outputs": [],
   "source": [
    "columns = list(catalogo.columns)\n",
    "agregar_antes = columns.pop()\n",
    "print(columns)"
   ]
  },
  {
   "cell_type": "code",
   "execution_count": null,
   "id": "behavioral-latin",
   "metadata": {},
   "outputs": [],
   "source": [
    "columns.insert(1, agregar_antes)"
   ]
  },
  {
   "cell_type": "code",
   "execution_count": null,
   "id": "modified-sleeping",
   "metadata": {},
   "outputs": [],
   "source": [
    "print(columns)"
   ]
  },
  {
   "cell_type": "code",
   "execution_count": null,
   "id": "capital-shopping",
   "metadata": {},
   "outputs": [],
   "source": [
    "catalogo = catalogo[columns]\n",
    "catalogo.head()"
   ]
  },
  {
   "cell_type": "code",
   "execution_count": null,
   "id": "baking-lunch",
   "metadata": {},
   "outputs": [],
   "source": [
    "%%time\n",
    "# mssql+pymssql\n",
    "from sqlalchemy import create_engine\n",
    "engine = create_engine(r\"mssql+pymssql://ibetlmarket:m@rk3t2o15@10.11.12.90\\BDT/MARKET\")\n",
    "connection_x = engine.connect()\n",
    "\n",
    "try:\n",
    "    catalogo.to_sql(\n",
    "        name='H_ALERTAS_CATALOGO_ALERTA',\n",
    "        schema='STG',\n",
    "        con=connection_x, \n",
    "        index=False, \n",
    "        if_exists='replace'\n",
    "    )\n",
    "    connection_x.close()\n",
    "    correct = 1\n",
    "\n",
    "except Exception as e:\n",
    "    print(\"ERROR: \", str(e))\n",
    "    correct = 0\n",
    "\n",
    "print(correct)"
   ]
  },
  {
   "cell_type": "code",
   "execution_count": null,
   "id": "typical-honolulu",
   "metadata": {},
   "outputs": [],
   "source": [
    "import pymssql\n",
    "print(\"Inciando actualizacion de tblas ODS\")\n",
    "connection = pymssql.connect(\n",
    "    host='10.11.12.90\\BDT',\n",
    "    user='ibetlmarket',\n",
    "    port=1433,\n",
    "    password='m@rk3t2o15',\n",
    "    database='MARKET'\n",
    ")"
   ]
  },
  {
   "cell_type": "code",
   "execution_count": null,
   "id": "embedded-final",
   "metadata": {},
   "outputs": [],
   "source": [
    "catalogo.columns"
   ]
  },
  {
   "cell_type": "code",
   "execution_count": null,
   "id": "under-armstrong",
   "metadata": {},
   "outputs": [],
   "source": [
    "with connection.cursor() as cursor:\n",
    "    try:\n",
    "        print(\"/\"*50)\n",
    "        alter_text_files = \"\"\"\n",
    "        ALTER TABLE STG.H_ALERTAS_CATALOGO_ALERTA ALTER COLUMN COD_ALERTA FLOAT;\n",
    "        ALTER TABLE STG.H_ALERTAS_CATALOGO_ALERTA ALTER COLUMN CODIGO_BANCA VARCHAR(20);\n",
    "        ALTER TABLE STG.H_ALERTAS_CATALOGO_ALERTA ALTER COLUMN NOMBRE VARCHAR(512);\n",
    "        ALTER TABLE STG.H_ALERTAS_CATALOGO_ALERTA ALTER COLUMN BANCA VARCHAR(512);\n",
    "        ALTER TABLE STG.H_ALERTAS_CATALOGO_ALERTA ALTER COLUMN EXPLIC_VAR1 VARCHAR(512);\n",
    "        ALTER TABLE STG.H_ALERTAS_CATALOGO_ALERTA ALTER COLUMN EXPLIC_VAR2 VARCHAR(512);\n",
    "        ALTER TABLE STG.H_ALERTAS_CATALOGO_ALERTA ALTER COLUMN EXPLIC_VAR3 VARCHAR(512);\n",
    "        ALTER TABLE STG.H_ALERTAS_CATALOGO_ALERTA ALTER COLUMN COD_VAR_1 VARCHAR(255);\n",
    "        ALTER TABLE STG.H_ALERTAS_CATALOGO_ALERTA ALTER COLUMN COD_VAR_2 VARCHAR(255);\n",
    "        ALTER TABLE STG.H_ALERTAS_CATALOGO_ALERTA ALTER COLUMN COD_VAR_3 VARCHAR(255);\n",
    "        ALTER TABLE STG.H_ALERTAS_CATALOGO_ALERTA ALTER COLUMN FLG_VIGENTE FLOAT;\n",
    "        ALTER TABLE STG.H_ALERTAS_CATALOGO_ALERTA ALTER COLUMN PESO_FINAL FLOAT;\n",
    "        ALTER TABLE STG.H_ALERTAS_CATALOGO_ALERTA ALTER COLUMN PESO_CE FLOAT;\n",
    "        \"\"\"\n",
    "        cursor.execute(alter_text_files)\n",
    "    except Exception as e:\n",
    "        print(\"ERROR: \", str(e))\n",
    "\n",
    "try:\n",
    "    connection.commit()\n",
    "    connection.close()\n",
    "    print(\"Conexion database cerrada\")\n",
    "except Exception as e:\n",
    "    print(\"Error:  \", str(e))"
   ]
  },
  {
   "cell_type": "code",
   "execution_count": null,
   "id": "unauthorized-olive",
   "metadata": {},
   "outputs": [],
   "source": []
  },
  {
   "cell_type": "code",
   "execution_count": null,
   "id": "satisfactory-rubber",
   "metadata": {},
   "outputs": [],
   "source": []
  },
  {
   "cell_type": "code",
   "execution_count": null,
   "id": "saving-administrator",
   "metadata": {},
   "outputs": [],
   "source": []
  },
  {
   "cell_type": "code",
   "execution_count": null,
   "id": "blind-ethnic",
   "metadata": {},
   "outputs": [],
   "source": []
  }
 ],
 "metadata": {
  "kernelspec": {
   "display_name": "Python 3",
   "language": "python",
   "name": "python3"
  },
  "language_info": {
   "codemirror_mode": {
    "name": "ipython",
    "version": 3
   },
   "file_extension": ".py",
   "mimetype": "text/x-python",
   "name": "python",
   "nbconvert_exporter": "python",
   "pygments_lexer": "ipython3",
   "version": "3.8.5"
  }
 },
 "nbformat": 4,
 "nbformat_minor": 5
}
