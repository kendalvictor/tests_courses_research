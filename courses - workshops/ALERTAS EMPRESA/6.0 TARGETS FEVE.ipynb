{
 "cells": [
  {
   "cell_type": "code",
   "execution_count": null,
   "metadata": {},
   "outputs": [],
   "source": [
    "import glob\n",
    "import pandas as pd\n",
    "\n",
    "relacion = []"
   ]
  },
  {
   "cell_type": "code",
   "execution_count": null,
   "metadata": {},
   "outputs": [],
   "source": []
  },
  {
   "cell_type": "code",
   "execution_count": null,
   "metadata": {},
   "outputs": [],
   "source": [
    "a7 = pd.read_csv('AVANCE_7_.csv', dtype={\n",
    "    'COD_UNICO': str,\n",
    "    'PERIODO': str\n",
    "})\n",
    "\n",
    "a7.head()"
   ]
  },
  {
   "cell_type": "code",
   "execution_count": null,
   "metadata": {},
   "outputs": [],
   "source": [
    "pd.crosstab(a7['FUNNEL_4'], a7['PERIODO'])"
   ]
  },
  {
   "cell_type": "code",
   "execution_count": null,
   "metadata": {},
   "outputs": [],
   "source": [
    "print(a7.shape)\n",
    "a7 = a7[a7['FUNNEL_4'] == 1]\n",
    "print(a7.shape)"
   ]
  },
  {
   "cell_type": "code",
   "execution_count": null,
   "metadata": {},
   "outputs": [],
   "source": [
    "cols_up = ['COD_UNICO', 'PERIODO', 'MONTOUTILIZADO', 'NOMBRE_COMPLETO', 'FEVE', 'MAX_DIAS_ATRASO_SF', 'MAX_DIAS_ATRASO', 'DES_GRUPO_ECONOMICO',\n",
    "           'SUBSECTOR', 'SEI_MCDO', 'GRUPO_ECON_FEVE_SEGUIR', 'MONTO_PROTESTO_U1M','MONTO_PROTESTO_U6M' , 'MONTO_PROTESTO_U12M',\n",
    "           'GRUPO_ECON_FEVE_DURO',  'GRUPO_ECON_CLASIF_NO_NORMAL', 'MTO_DEUDA_TOTAL_COLDIRECT_SIN_REATCIVA_SF',\n",
    "           'MTO_DEUDA_VENCIDO_COLDIRECT_SIN_REATCIVA_SF', 'MTO_DEUDA_VIGENTE_COLDIRECT_SIN_REATCIVA_SF',\n",
    "           'RIESGO', 'BUCKET', 'COL_DIRECTA_MES_ACTUAL', 'RIESGO_DIRECTO_CIERRE_MES', 'RIESGO_INDIRECTO_CIERRE_MES',\n",
    "           'TIENE_DEUDA_REFINANCIADO_RCC', 'TIENE_DEUDA_REFINANCIADO_IBK', 'ZONAL', 'SEGMENTO', 'CLASIF_SBS',\n",
    "           'TIENE_DEUDA_JUDICIAL_RCC', 'DEBT_COMEX_VIGENTE_PERCENT_ULT_RCC', 'DEBT_COMEX_VENCIDO_PERCENT_ULT_RCC',\n",
    "           'PERIODO_CEF_ANTERIOR','PERIODO_ULTIMO_CEF', 'ALERTAS_ACTIVAS', 'ALERTAS_MES_ANTERIOR', 'MISMAS_ALERTAS',\n",
    "           'MTO_ATRASO_NOLETRAS', 'DEUDA_TOTAL_RCC']\n",
    "\n",
    "len(cols_up)"
   ]
  },
  {
   "cell_type": "code",
   "execution_count": null,
   "metadata": {},
   "outputs": [],
   "source": [
    "#target_FINAL_fusion_atraso_feve_2Mbueno\n",
    "\n",
    "#target_seguircovid_reducir_salir_2Mbueno  = 0\n",
    "#target_rcc_8_dias_atraso_2Mbueno = 1\n",
    "#riesgo > 150 000"
   ]
  },
  {
   "cell_type": "code",
   "execution_count": null,
   "metadata": {},
   "outputs": [],
   "source": [
    "cols_target = [col for col in a7.columns if 'target' in col.lower() and ('2m' in col.lower() or '30' in col.lower() or 'final' in col.lower() )]\n",
    "print(cols_target)"
   ]
  },
  {
   "cell_type": "code",
   "execution_count": null,
   "metadata": {},
   "outputs": [],
   "source": [
    "for col in cols_target:\n",
    "    display(\n",
    "        pd.crosstab(\n",
    "            a7[(a7['PERIODO'] == '202101') & (a7['target_FINAL_fusion_atraso_feve_2Mbueno'].isnull())]['ZONAL'].fillna(-1), \n",
    "            a7[(a7['PERIODO'] == '202101') & (a7['target_FINAL_fusion_atraso_feve_2Mbueno'].isnull())][col].fillna(-1))\n",
    "    )"
   ]
  },
  {
   "cell_type": "code",
   "execution_count": null,
   "metadata": {},
   "outputs": [],
   "source": [
    "cols_alertas_63 = [_ for _ in a7.columns if 'NEW' in _.upper()]\n",
    "print(cols_alertas_63, len(cols_alertas_63))\n",
    "\n",
    "\n",
    "cols_alertas_63_new = ['A{}_NEW'.format(_ + 1) for _ in range(66)] + ['A_ME_NEW', 'A_GE_NEW', 'A_P1_NEW', 'A_P2_NEW'] ## 21 ALERTAS GE\n",
    "print(cols_alertas_63_new)  ## 66 ALERTAS"
   ]
  },
  {
   "cell_type": "code",
   "execution_count": null,
   "metadata": {},
   "outputs": [],
   "source": [
    "cols_alertas_63 = cols_alertas_63 + cols_alertas_63_new.copy() # cols_alertas_63 + cols_alertas_63_new\n",
    "len(cols_alertas_63)"
   ]
  },
  {
   "cell_type": "code",
   "execution_count": null,
   "metadata": {},
   "outputs": [],
   "source": [
    "lambda_alertado = lambda _: 'alertado' if _ > 0 else 'no alertado'\n",
    "\n",
    "a7['ALERTADO_ME_NEW'] = a7['A_ME_NEW'].apply(lambda_alertado)\n",
    "a7['ALERTADO_GE_NEW'] = a7['A_GE_NEW'].apply(lambda_alertado)\n",
    "a7['ALERTADO_P1_NEW'] = a7['A_P1_NEW'].apply(lambda_alertado)\n",
    "a7['ALERTADO_P2_NEW'] = a7['A_P2_NEW'].apply(lambda_alertado)\n",
    "\n",
    "cols_alertas_63 = cols_alertas_63 + ['ALERTADO_ME_NEW', 'ALERTADO_GE_NEW', 'ALERTADO_P1_NEW', 'ALERTADO_P2_NEW']\n",
    "cols_alertas_63 = list(set(cols_alertas_63))\n",
    "\n",
    "len(cols_alertas_63)"
   ]
  },
  {
   "cell_type": "code",
   "execution_count": null,
   "metadata": {},
   "outputs": [],
   "source": [
    "cols_sql = list(set(cols_up + cols_target + cols_alertas_63 ))\n",
    "len(cols_sql)"
   ]
  },
  {
   "cell_type": "code",
   "execution_count": null,
   "metadata": {},
   "outputs": [],
   "source": [
    "for col in ['GRUPO_ECON_FEVE_SEGUIR', 'GRUPO_ECON_FEVE_DURO',  'GRUPO_ECON_CLASIF_NO_NORMAL']:\n",
    "    a7[col] = a7[col].fillna(\"-\")\n",
    "    \n",
    "a7['MONTO_PROTESTO_U1M'] = a7['PROTESTOS_U1M'].copy()\n",
    "a7['MONTO_PROTESTO_U6M'] = a7['PROTESTOS_U6M'].copy()\n",
    "a7['MONTO_PROTESTO_U12M'] = a7['PROTESTOS_U12M'].copy()\n",
    "\n",
    "for col in ['MONTO_PROTESTO_U1M','MONTO_PROTESTO_U6M' , 'MONTO_PROTESTO_U12M', \n",
    "            'MTO_DEUDA_TOTAL_COLDIRECT_SIN_REATCIVA_SF', 'MTO_DEUDA_VENCIDO_COLDIRECT_SIN_REATCIVA_SF', \n",
    "           'MTO_DEUDA_VIGENTE_COLDIRECT_SIN_REATCIVA_SF']:\n",
    "\n",
    "        a7[col] = a7[col].fillna(0)"
   ]
  },
  {
   "cell_type": "code",
   "execution_count": null,
   "metadata": {},
   "outputs": [],
   "source": [
    "a7[cols_sql].shape"
   ]
  },
  {
   "cell_type": "code",
   "execution_count": null,
   "metadata": {},
   "outputs": [],
   "source": [
    "print(cols_sql)"
   ]
  },
  {
   "cell_type": "code",
   "execution_count": null,
   "metadata": {},
   "outputs": [],
   "source": [
    "a7[cols_sql].to_csv('AVANCE_8_.csv', sep='|', index=False)"
   ]
  },
  {
   "cell_type": "code",
   "execution_count": null,
   "metadata": {},
   "outputs": [],
   "source": [
    "a7[a7['MISMAS_ALERTAS'] == 1][\n",
    "    ['ALERTAS_ACTIVAS', 'ALERTAS_MES_ANTERIOR', 'MISMAS_ALERTAS', 'GRUPO_ECON_FEVE_SEGUIR', 'GRUPO_ECON_FEVE_DURO',  'GRUPO_ECON_CLASIF_NO_NORMAL', 'DES_GRUPO_ECONOMICO']\n",
    "]"
   ]
  },
  {
   "cell_type": "code",
   "execution_count": null,
   "metadata": {},
   "outputs": [],
   "source": [
    "a7[cols_sql]['PERIODO'].value_counts(dropna=False)"
   ]
  },
  {
   "cell_type": "code",
   "execution_count": null,
   "metadata": {},
   "outputs": [],
   "source": [
    "%%time\n",
    "# mssql+pymssql\n",
    "\n",
    "from sqlalchemy import create_engine\n",
    "engine = create_engine(r\"mssql+pymssql://ibetlmarket:m@rk3t2o15@10.11.12.90\\BDT/MARKET\")\n",
    "connection_x = engine.connect()\n",
    "\n",
    "try:\n",
    "    a7[cols_sql].to_sql(\n",
    "        name='FEVE_AJUSTADO_ALERTAS_TARGETS',\n",
    "        schema='ODS',\n",
    "        con=connection_x, \n",
    "        index=False, \n",
    "        if_exists='replace'\n",
    "    )\n",
    "    connection_x.close()\n",
    "    correct = 1\n",
    "\n",
    "except Exception as e:\n",
    "    print(\"ERROR: \", str(e))\n",
    "    correct = 0\n",
    "\n",
    "print(correct)"
   ]
  },
  {
   "cell_type": "code",
   "execution_count": null,
   "metadata": {},
   "outputs": [],
   "source": [
    "connection_x.close()\n",
    "a7[cols_sql]['PERIODO'].value_counts()"
   ]
  },
  {
   "cell_type": "code",
   "execution_count": null,
   "metadata": {},
   "outputs": [],
   "source": [
    "a7.shape"
   ]
  },
  {
   "cell_type": "code",
   "execution_count": null,
   "metadata": {},
   "outputs": [],
   "source": [
    "#import pandas as pd\n",
    "#data = pd.read_csv('https://cloud.minsa.gob.pe/s/ZgXoXqK2KLjRLxD/download')\n",
    "#data.shape"
   ]
  },
  {
   "cell_type": "code",
   "execution_count": null,
   "metadata": {},
   "outputs": [],
   "source": [
    "#data.shape"
   ]
  },
  {
   "cell_type": "markdown",
   "metadata": {},
   "source": [
    "<iframe width=\"600\" height=\"373.5\" src=\"https://app.powerbi.com/view?r=eyJrIjoiZDNmOWJiMWMtYTRlYS00ZGE3LWJjZTEtMGFlODRlOWMxYzc0IiwidCI6ImM0YTY2YzM0LTJiYjctNDUxZi04YmUxLWIyYzI2YTQzMDE1OCIsImMiOjR9\" frameborder=\"0\" allowFullScreen=\"true\"></iframe>"
   ]
  },
  {
   "cell_type": "code",
   "execution_count": null,
   "metadata": {},
   "outputs": [],
   "source": []
  },
  {
   "cell_type": "code",
   "execution_count": null,
   "metadata": {},
   "outputs": [],
   "source": []
  },
  {
   "cell_type": "code",
   "execution_count": null,
   "metadata": {},
   "outputs": [],
   "source": []
  }
 ],
 "metadata": {
  "kernelspec": {
   "display_name": "Python 3",
   "language": "python",
   "name": "python3"
  },
  "language_info": {
   "codemirror_mode": {
    "name": "ipython",
    "version": 3
   },
   "file_extension": ".py",
   "mimetype": "text/x-python",
   "name": "python",
   "nbconvert_exporter": "python",
   "pygments_lexer": "ipython3",
   "version": "3.8.5"
  }
 },
 "nbformat": 4,
 "nbformat_minor": 4
}
