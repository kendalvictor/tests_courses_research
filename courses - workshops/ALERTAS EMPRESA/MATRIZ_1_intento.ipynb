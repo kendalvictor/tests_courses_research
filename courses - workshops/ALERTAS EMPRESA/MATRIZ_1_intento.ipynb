{
 "cells": [
  {
   "cell_type": "code",
   "execution_count": 1,
   "metadata": {},
   "outputs": [
    {
     "name": "stderr",
     "output_type": "stream",
     "text": [
      "C:\\Users\\B38381\\Anaconda3\\lib\\site-packages\\ipykernel_launcher.py:8: DeprecationWarning: Using or importing the ABCs from 'collections' instead of from 'collections.abc' is deprecated since Python 3.3,and in 3.9 it will stop working\n",
      "  \n"
     ]
    }
   ],
   "source": [
    "import pandas as pd\n",
    "#nativos\n",
    "import os\n",
    "import unicodedata\n",
    "\n",
    "#terceros\n",
    "import pandas as pd\n",
    "import pymssql\n",
    "import missingno as msno\n",
    "from collections import Counter\n",
    "\n",
    "#grafico\n",
    "import matplotlib.pyplot as plt\n",
    "import seaborn as sns\n",
    "from IPython.display import display\n",
    "%matplotlib inline\n",
    "sns.set(style=\"whitegrid\")\n",
    "\n",
    "#propios\n",
    "from utils_ficha import *\n",
    "from querys import *"
   ]
  },
  {
   "cell_type": "code",
   "execution_count": 23,
   "metadata": {},
   "outputs": [],
   "source": [
    "#cef = pd.read_excel(r'C:\\Users\\B38381\\Desktop\\ALERTA CARTERA\\TRASPASO CARTERA\\Historico_CEF_aaaaaaaaaaaaaaaaa.xlsx', dtype={\n",
    "#    'CODUNICOCLI': str, 'CODMES': str, \n",
    "#})\n",
    "#cef.head()"
   ]
  },
  {
   "cell_type": "code",
   "execution_count": 24,
   "metadata": {},
   "outputs": [],
   "source": [
    "#conneciom MARKET\n",
    "connection_market = pymssql.connect(host='10.11.12.90\\BDT',\n",
    "                             user='ibetlmarket',\n",
    "                             port=1433,\n",
    "                             password='m@rk3t2o15',\n",
    "                             database='MARKET'\n",
    "                            )"
   ]
  },
  {
   "cell_type": "code",
   "execution_count": 25,
   "metadata": {},
   "outputs": [
    {
     "data": {
      "text/html": [
       "<div>\n",
       "<style scoped>\n",
       "    .dataframe tbody tr th:only-of-type {\n",
       "        vertical-align: middle;\n",
       "    }\n",
       "\n",
       "    .dataframe tbody tr th {\n",
       "        vertical-align: top;\n",
       "    }\n",
       "\n",
       "    .dataframe thead th {\n",
       "        text-align: right;\n",
       "    }\n",
       "</style>\n",
       "<table border=\"1\" class=\"dataframe\">\n",
       "  <thead>\n",
       "    <tr style=\"text-align: right;\">\n",
       "      <th></th>\n",
       "      <th>COD_UNICO</th>\n",
       "      <th>RAZON_SOCIAL</th>\n",
       "      <th>ORDEN</th>\n",
       "      <th>ORDEN_ANUAL</th>\n",
       "      <th>FECHA_CEF</th>\n",
       "      <th>DESTIPESTADOFINANCIERO</th>\n",
       "      <th>DESESTADO</th>\n",
       "      <th>MONEDA</th>\n",
       "      <th>TIPO_CAMBIO</th>\n",
       "      <th>TIPO_CAMBIO_FECHA</th>\n",
       "      <th>...</th>\n",
       "      <th>ROTACION_CTASXCOBRAR_VAR_DIAS</th>\n",
       "      <th>ROTACION_CTASXPAGAR_VAR_DIAS</th>\n",
       "      <th>ROTACION_INVENTARIOS_VAR_DIAS</th>\n",
       "      <th>ROTACION_CTASXCOBRAR_VAR</th>\n",
       "      <th>ROTACION_CTASXPAGAR_VAR</th>\n",
       "      <th>ROTACION_INVENTARIOS_VAR</th>\n",
       "      <th>DTOTAL_S_EBITDA_VAR</th>\n",
       "      <th>DTOTAL_S_VENTAS_VAR</th>\n",
       "      <th>DTOTALCAJA_S_EBITDA_VAR</th>\n",
       "      <th>EBITDA_S_SERVDEUDA_VAR</th>\n",
       "    </tr>\n",
       "  </thead>\n",
       "  <tbody>\n",
       "    <tr>\n",
       "      <th>0</th>\n",
       "      <td>0017239443</td>\n",
       "      <td>INTELLI CHECK</td>\n",
       "      <td>1</td>\n",
       "      <td>4</td>\n",
       "      <td>2020-06-30</td>\n",
       "      <td>SITUACION</td>\n",
       "      <td>VALIDADO</td>\n",
       "      <td>1</td>\n",
       "      <td>3.538</td>\n",
       "      <td>2020-06-30</td>\n",
       "      <td>...</td>\n",
       "      <td>-139.637016</td>\n",
       "      <td>-118.769748</td>\n",
       "      <td>-121.298486</td>\n",
       "      <td>-0.837843</td>\n",
       "      <td>-0.782023</td>\n",
       "      <td>-0.475143</td>\n",
       "      <td>-3.583328</td>\n",
       "      <td>-0.841021</td>\n",
       "      <td>-1.041659</td>\n",
       "      <td>7.740279</td>\n",
       "    </tr>\n",
       "    <tr>\n",
       "      <th>1</th>\n",
       "      <td>0017239443</td>\n",
       "      <td>INTELLI CHECK</td>\n",
       "      <td>2</td>\n",
       "      <td>1</td>\n",
       "      <td>2019-12-31</td>\n",
       "      <td>SUNAT</td>\n",
       "      <td>VALIDADO</td>\n",
       "      <td>1</td>\n",
       "      <td>3.538</td>\n",
       "      <td>2020-06-30</td>\n",
       "      <td>...</td>\n",
       "      <td>94.200057</td>\n",
       "      <td>140.363372</td>\n",
       "      <td>204.358229</td>\n",
       "      <td>1.299983</td>\n",
       "      <td>12.193182</td>\n",
       "      <td>4.012513</td>\n",
       "      <td>2.906382</td>\n",
       "      <td>1.371975</td>\n",
       "      <td>3.041040</td>\n",
       "      <td>-0.363127</td>\n",
       "    </tr>\n",
       "  </tbody>\n",
       "</table>\n",
       "<p>2 rows × 63 columns</p>\n",
       "</div>"
      ],
      "text/plain": [
       "    COD_UNICO   RAZON_SOCIAL  ORDEN  ORDEN_ANUAL   FECHA_CEF  \\\n",
       "0  0017239443  INTELLI CHECK      1            4  2020-06-30   \n",
       "1  0017239443  INTELLI CHECK      2            1  2019-12-31   \n",
       "\n",
       "  DESTIPESTADOFINANCIERO DESESTADO  MONEDA  TIPO_CAMBIO TIPO_CAMBIO_FECHA  \\\n",
       "0              SITUACION  VALIDADO       1        3.538        2020-06-30   \n",
       "1                  SUNAT  VALIDADO       1        3.538        2020-06-30   \n",
       "\n",
       "   ...  ROTACION_CTASXCOBRAR_VAR_DIAS  ROTACION_CTASXPAGAR_VAR_DIAS  \\\n",
       "0  ...                    -139.637016                   -118.769748   \n",
       "1  ...                      94.200057                    140.363372   \n",
       "\n",
       "   ROTACION_INVENTARIOS_VAR_DIAS  ROTACION_CTASXCOBRAR_VAR  \\\n",
       "0                    -121.298486                 -0.837843   \n",
       "1                     204.358229                  1.299983   \n",
       "\n",
       "   ROTACION_CTASXPAGAR_VAR  ROTACION_INVENTARIOS_VAR  DTOTAL_S_EBITDA_VAR  \\\n",
       "0                -0.782023                 -0.475143            -3.583328   \n",
       "1                12.193182                  4.012513             2.906382   \n",
       "\n",
       "   DTOTAL_S_VENTAS_VAR  DTOTALCAJA_S_EBITDA_VAR  EBITDA_S_SERVDEUDA_VAR  \n",
       "0            -0.841021                -1.041659                7.740279  \n",
       "1             1.371975                 3.041040               -0.363127  \n",
       "\n",
       "[2 rows x 63 columns]"
      ]
     },
     "execution_count": 25,
     "metadata": {},
     "output_type": "execute_result"
    }
   ],
   "source": [
    "qcef_situ = \"\"\"\n",
    "    SELECT * FROM ODS.HD_VMVP_CEF_INDICADORES_ALERTAS_CARTERA_BE\n",
    "\"\"\"\n",
    "cef = pd.read_sql(\n",
    "   qcef_situ , connection_market\n",
    ")\n",
    "cef.head(2)"
   ]
  },
  {
   "cell_type": "code",
   "execution_count": 26,
   "metadata": {},
   "outputs": [
    {
     "data": {
      "text/plain": [
       "Index(['COD_UNICO', 'RAZON_SOCIAL', 'ORDEN', 'ORDEN_ANUAL', 'FECHA_CEF',\n",
       "       'DESTIPESTADOFINANCIERO', 'DESESTADO', 'MONEDA', 'TIPO_CAMBIO',\n",
       "       'TIPO_CAMBIO_FECHA', 'CAJA', 'VENTAS_NETAS', 'COSTO_VENTAS', 'EBITDA',\n",
       "       'PATRIMONIO', 'INVERSION_ACTFIJOS_ANTERIOR_FLAG',\n",
       "       'INVERSION_ACTFIJOS_VAR', 'INVERSION_ACTFIJOS', 'VENTAS_NETAS_ANUAL',\n",
       "       'COSTO_VENTAS_ANUAL', 'EBITDA_ANUAL', 'DEUDA_TOTAL',\n",
       "       'UTILIDAD_ANTES_IMP', 'UTILIDAD', 'UTILIDAD_ANTES_IMP_ANUAL',\n",
       "       'UTILIDAD_ANUAL', 'INVERSION_ACTFIJOS_ANUAL', 'CAPITAL_TRABAJO',\n",
       "       'ROTACION_CTASXCOBRAR', 'ROTACION_CTASXPAGAR', 'ROTACION_INVENTARIOS',\n",
       "       'DTOTAL_S_VENTAS', 'DTOTAL_S_EBITDA', 'DTOTALCAJA_S_EBITDA',\n",
       "       'EBITDA_S_SERVDEUDA', 'COBERTURA_FAL', 'COBERTURA_SERVICIO_DEUDA_ANT',\n",
       "       'ENDEUDAMIENTO_PAS_VEN_VAR', 'APLANCAMIENTO_PATRIMONIAL_VAR',\n",
       "       'RAC_IBK6_ACTIVIDAD', 'RDEU_1_COSTODEUDA', 'RLI_6_LIQUIDEZ',\n",
       "       'RMET_11_METODIZADO', 'RMET_9_METODIZADO', 'RSOL_14_SOLVENCIA',\n",
       "       'RSOL_1B_SOLVENCIA', 'RSOL_18_SOLVENCIA', 'RRE_13_RENTABILIDAD',\n",
       "       'COBERTURA_SERVICIO_DEUDA', 'VENTAS_NETAS_VAR', 'COSTO_VENTAS_VAR',\n",
       "       'EBITDA_ANUAL_VAR', 'CAPITAL_TRABAJO_VAR',\n",
       "       'ROTACION_CTASXCOBRAR_VAR_DIAS', 'ROTACION_CTASXPAGAR_VAR_DIAS',\n",
       "       'ROTACION_INVENTARIOS_VAR_DIAS', 'ROTACION_CTASXCOBRAR_VAR',\n",
       "       'ROTACION_CTASXPAGAR_VAR', 'ROTACION_INVENTARIOS_VAR',\n",
       "       'DTOTAL_S_EBITDA_VAR', 'DTOTAL_S_VENTAS_VAR', 'DTOTALCAJA_S_EBITDA_VAR',\n",
       "       'EBITDA_S_SERVDEUDA_VAR'],\n",
       "      dtype='object')"
      ]
     },
     "execution_count": 26,
     "metadata": {},
     "output_type": "execute_result"
    }
   ],
   "source": [
    "cef.columns"
   ]
  },
  {
   "cell_type": "code",
   "execution_count": 27,
   "metadata": {},
   "outputs": [],
   "source": [
    "cef['ANIO'] = cef['FECHA_CEF'].apply(lambda _: _.split('-')[0])\n",
    "#cef['ANIO'].value_counts()\n",
    "cef['CODMES'] = cef['FECHA_CEF'].apply(lambda _: _.replace('-', '')[:6])\n",
    "#cef[cef['ANIO'] == '2020']['PERIODO'].value_counts()"
   ]
  },
  {
   "cell_type": "code",
   "execution_count": 28,
   "metadata": {},
   "outputs": [],
   "source": [
    "cef['MTO_VENNETAS'] = cef['VENTAS_NETAS'].copy()\n",
    "cef['CODUNICOCLI'] = cef['COD_UNICO'].copy()"
   ]
  },
  {
   "cell_type": "code",
   "execution_count": 29,
   "metadata": {},
   "outputs": [
    {
     "name": "stdout",
     "output_type": "stream",
     "text": [
      "(3093, 67)\n",
      "(1326, 67)\n"
     ]
    }
   ],
   "source": [
    "print(cef.shape)\n",
    "cef = cef[cef['ANIO'].isin(['2020', '2019'])]\n",
    "print(cef.shape)"
   ]
  },
  {
   "cell_type": "code",
   "execution_count": 30,
   "metadata": {},
   "outputs": [
    {
     "data": {
      "text/html": [
       "<div>\n",
       "<style scoped>\n",
       "    .dataframe tbody tr th:only-of-type {\n",
       "        vertical-align: middle;\n",
       "    }\n",
       "\n",
       "    .dataframe tbody tr th {\n",
       "        vertical-align: top;\n",
       "    }\n",
       "\n",
       "    .dataframe thead th {\n",
       "        text-align: right;\n",
       "    }\n",
       "</style>\n",
       "<table border=\"1\" class=\"dataframe\">\n",
       "  <thead>\n",
       "    <tr style=\"text-align: right;\">\n",
       "      <th></th>\n",
       "      <th>TIPDOC</th>\n",
       "      <th>CODDOC</th>\n",
       "      <th>FECHA_ACTUALIZACION</th>\n",
       "      <th>CODUNICOCLI</th>\n",
       "      <th>NOMBRE_COMPLETO</th>\n",
       "      <th>DES_GRUPO_ECONOMICO</th>\n",
       "      <th>RIESGO</th>\n",
       "      <th>ENCARGADO</th>\n",
       "      <th>NOMBRE_JEFE</th>\n",
       "      <th>ESTADO</th>\n",
       "      <th>...</th>\n",
       "      <th>FUNNEL_3</th>\n",
       "      <th>FUNNEL_4</th>\n",
       "      <th>FLG_VIGENTE</th>\n",
       "      <th>FLG_SUSPENDIDO</th>\n",
       "      <th>FLG_VENCIDA</th>\n",
       "      <th>FLG_CANCELADO</th>\n",
       "      <th>FLG_MONOLINEA</th>\n",
       "      <th>FLG_SOLO_REACTIVA</th>\n",
       "      <th>FLG_POSICION</th>\n",
       "      <th>CLASIFICACION_LIST_360</th>\n",
       "    </tr>\n",
       "  </thead>\n",
       "  <tbody>\n",
       "    <tr>\n",
       "      <th>0</th>\n",
       "      <td>2</td>\n",
       "      <td>20342636714</td>\n",
       "      <td>2020-11-03 05:23:21.733</td>\n",
       "      <td>0011060494</td>\n",
       "      <td>LUBRINEGOCIOS</td>\n",
       "      <td>MORAN CATERINO</td>\n",
       "      <td>212509.428571</td>\n",
       "      <td>JOSE CARLOS ROMERO</td>\n",
       "      <td>JAVIER GONZALES VELARDE</td>\n",
       "      <td>VALIDADO</td>\n",
       "      <td>...</td>\n",
       "      <td>1</td>\n",
       "      <td>1</td>\n",
       "      <td>0</td>\n",
       "      <td>0</td>\n",
       "      <td>1</td>\n",
       "      <td>0</td>\n",
       "      <td>0</td>\n",
       "      <td>0</td>\n",
       "      <td>1</td>\n",
       "      <td>None</td>\n",
       "    </tr>\n",
       "    <tr>\n",
       "      <th>1</th>\n",
       "      <td>2</td>\n",
       "      <td>20549098372</td>\n",
       "      <td>2020-11-03 05:23:21.733</td>\n",
       "      <td>0013293126</td>\n",
       "      <td>VIJOSTRAN &amp; CIA</td>\n",
       "      <td>VIJOGAS</td>\n",
       "      <td>177065.348571</td>\n",
       "      <td>RAQUEL IRENE  CORDOVA ZAMORA</td>\n",
       "      <td>JAVIER GONZALES VELARDE</td>\n",
       "      <td>VALIDADO</td>\n",
       "      <td>...</td>\n",
       "      <td>1</td>\n",
       "      <td>1</td>\n",
       "      <td>0</td>\n",
       "      <td>1</td>\n",
       "      <td>0</td>\n",
       "      <td>0</td>\n",
       "      <td>0</td>\n",
       "      <td>0</td>\n",
       "      <td>1</td>\n",
       "      <td>None</td>\n",
       "    </tr>\n",
       "  </tbody>\n",
       "</table>\n",
       "<p>2 rows × 38 columns</p>\n",
       "</div>"
      ],
      "text/plain": [
       "  TIPDOC       CODDOC     FECHA_ACTUALIZACION CODUNICOCLI  NOMBRE_COMPLETO  \\\n",
       "0      2  20342636714 2020-11-03 05:23:21.733  0011060494    LUBRINEGOCIOS   \n",
       "1      2  20549098372 2020-11-03 05:23:21.733  0013293126  VIJOSTRAN & CIA   \n",
       "\n",
       "  DES_GRUPO_ECONOMICO         RIESGO                     ENCARGADO  \\\n",
       "0      MORAN CATERINO  212509.428571            JOSE CARLOS ROMERO   \n",
       "1             VIJOGAS  177065.348571  RAQUEL IRENE  CORDOVA ZAMORA   \n",
       "\n",
       "               NOMBRE_JEFE    ESTADO  ...  FUNNEL_3  FUNNEL_4 FLG_VIGENTE  \\\n",
       "0  JAVIER GONZALES VELARDE  VALIDADO  ...         1         1           0   \n",
       "1  JAVIER GONZALES VELARDE  VALIDADO  ...         1         1           0   \n",
       "\n",
       "  FLG_SUSPENDIDO FLG_VENCIDA FLG_CANCELADO FLG_MONOLINEA FLG_SOLO_REACTIVA  \\\n",
       "0              0           1             0             0                 0   \n",
       "1              1           0             0             0                 0   \n",
       "\n",
       "  FLG_POSICION  CLASIFICACION_LIST_360  \n",
       "0            1                    None  \n",
       "1            1                    None  \n",
       "\n",
       "[2 rows x 38 columns]"
      ]
     },
     "execution_count": 30,
     "metadata": {},
     "output_type": "execute_result"
    }
   ],
   "source": [
    "sql_univ = \"\"\"\n",
    "    SELECT * FROM ODS.HD_VMVP_BASE_ALERTA_CARTERA_BE\n",
    "\"\"\"\n",
    "base = pd.read_sql(\n",
    "   sql_univ , connection_market\n",
    ")\n",
    "base.head(2)"
   ]
  },
  {
   "cell_type": "code",
   "execution_count": null,
   "metadata": {},
   "outputs": [],
   "source": []
  },
  {
   "cell_type": "code",
   "execution_count": 31,
   "metadata": {},
   "outputs": [
    {
     "data": {
      "text/plain": [
       "(807, 38)"
      ]
     },
     "execution_count": 31,
     "metadata": {},
     "output_type": "execute_result"
    }
   ],
   "source": [
    "base.shape"
   ]
  },
  {
   "cell_type": "code",
   "execution_count": 32,
   "metadata": {},
   "outputs": [
    {
     "data": {
      "text/html": [
       "<div>\n",
       "<style scoped>\n",
       "    .dataframe tbody tr th:only-of-type {\n",
       "        vertical-align: middle;\n",
       "    }\n",
       "\n",
       "    .dataframe tbody tr th {\n",
       "        vertical-align: top;\n",
       "    }\n",
       "\n",
       "    .dataframe thead th {\n",
       "        text-align: right;\n",
       "    }\n",
       "</style>\n",
       "<table border=\"1\" class=\"dataframe\">\n",
       "  <thead>\n",
       "    <tr style=\"text-align: right;\">\n",
       "      <th></th>\n",
       "      <th>CODUNICOCLI</th>\n",
       "      <th>CODDOC</th>\n",
       "      <th>CODMES</th>\n",
       "      <th>MTO_VENNETAS</th>\n",
       "    </tr>\n",
       "  </thead>\n",
       "  <tbody>\n",
       "    <tr>\n",
       "      <th>0</th>\n",
       "      <td>0011060494</td>\n",
       "      <td>20342636714</td>\n",
       "      <td>202006</td>\n",
       "      <td>6397.0</td>\n",
       "    </tr>\n",
       "    <tr>\n",
       "      <th>1</th>\n",
       "      <td>0011060494</td>\n",
       "      <td>20342636714</td>\n",
       "      <td>201912</td>\n",
       "      <td>41305.0</td>\n",
       "    </tr>\n",
       "    <tr>\n",
       "      <th>2</th>\n",
       "      <td>0013293126</td>\n",
       "      <td>20549098372</td>\n",
       "      <td>202008</td>\n",
       "      <td>15366.0</td>\n",
       "    </tr>\n",
       "    <tr>\n",
       "      <th>3</th>\n",
       "      <td>0013293126</td>\n",
       "      <td>20549098372</td>\n",
       "      <td>201912</td>\n",
       "      <td>28016.0</td>\n",
       "    </tr>\n",
       "    <tr>\n",
       "      <th>4</th>\n",
       "      <td>0011038268</td>\n",
       "      <td>20471203816</td>\n",
       "      <td>201912</td>\n",
       "      <td>34711.0</td>\n",
       "    </tr>\n",
       "  </tbody>\n",
       "</table>\n",
       "</div>"
      ],
      "text/plain": [
       "  CODUNICOCLI       CODDOC  CODMES  MTO_VENNETAS\n",
       "0  0011060494  20342636714  202006        6397.0\n",
       "1  0011060494  20342636714  201912       41305.0\n",
       "2  0013293126  20549098372  202008       15366.0\n",
       "3  0013293126  20549098372  201912       28016.0\n",
       "4  0011038268  20471203816  201912       34711.0"
      ]
     },
     "execution_count": 32,
     "metadata": {},
     "output_type": "execute_result"
    }
   ],
   "source": [
    "base = base[['CODUNICOCLI', 'CODDOC']].merge(\n",
    "    cef[['CODUNICOCLI', 'CODMES','MTO_VENNETAS']], how='left', on='CODUNICOCLI'\n",
    ")\n",
    "base.head()"
   ]
  },
  {
   "cell_type": "code",
   "execution_count": 33,
   "metadata": {},
   "outputs": [
    {
     "data": {
      "text/plain": [
       "((807,),\n",
       " CODUNICOCLI      0\n",
       " CODDOC           0\n",
       " CODMES          43\n",
       " MTO_VENNETAS    43\n",
       " dtype: int64)"
      ]
     },
     "execution_count": 33,
     "metadata": {},
     "output_type": "execute_result"
    }
   ],
   "source": [
    "base['CODUNICOCLI'].unique().shape, base.isnull().sum()"
   ]
  },
  {
   "cell_type": "code",
   "execution_count": 34,
   "metadata": {},
   "outputs": [
    {
     "data": {
      "text/plain": [
       "(CODUNICOCLI     0\n",
       " CODMES          0\n",
       " MTO_VENNETAS    0\n",
       " dtype: int64,\n",
       " (764,),\n",
       " (1326, 3))"
      ]
     },
     "execution_count": 34,
     "metadata": {},
     "output_type": "execute_result"
    }
   ],
   "source": [
    "base = base.groupby(by=['CODUNICOCLI', 'CODMES'])['MTO_VENNETAS'].max().reset_index()\n",
    "\n",
    "base.isnull().sum(), base['CODUNICOCLI'].unique().shape, base.shape"
   ]
  },
  {
   "cell_type": "code",
   "execution_count": 35,
   "metadata": {},
   "outputs": [
    {
     "data": {
      "text/html": [
       "<div>\n",
       "<style scoped>\n",
       "    .dataframe tbody tr th:only-of-type {\n",
       "        vertical-align: middle;\n",
       "    }\n",
       "\n",
       "    .dataframe tbody tr th {\n",
       "        vertical-align: top;\n",
       "    }\n",
       "\n",
       "    .dataframe thead th {\n",
       "        text-align: right;\n",
       "    }\n",
       "</style>\n",
       "<table border=\"1\" class=\"dataframe\">\n",
       "  <thead>\n",
       "    <tr style=\"text-align: right;\">\n",
       "      <th></th>\n",
       "      <th>CODUNICOCLI</th>\n",
       "      <th>CODMES</th>\n",
       "      <th>MTO_VENNETAS</th>\n",
       "    </tr>\n",
       "  </thead>\n",
       "  <tbody>\n",
       "    <tr>\n",
       "      <th>0</th>\n",
       "      <td>0000006114</td>\n",
       "      <td>201912</td>\n",
       "      <td>7576.0</td>\n",
       "    </tr>\n",
       "    <tr>\n",
       "      <th>1</th>\n",
       "      <td>0000038026</td>\n",
       "      <td>201912</td>\n",
       "      <td>13774.0</td>\n",
       "    </tr>\n",
       "    <tr>\n",
       "      <th>2</th>\n",
       "      <td>0000038026</td>\n",
       "      <td>202006</td>\n",
       "      <td>5467.0</td>\n",
       "    </tr>\n",
       "    <tr>\n",
       "      <th>3</th>\n",
       "      <td>0000043778</td>\n",
       "      <td>201912</td>\n",
       "      <td>33543.0</td>\n",
       "    </tr>\n",
       "    <tr>\n",
       "      <th>4</th>\n",
       "      <td>0000054320</td>\n",
       "      <td>201912</td>\n",
       "      <td>47371.0</td>\n",
       "    </tr>\n",
       "    <tr>\n",
       "      <th>5</th>\n",
       "      <td>0000054320</td>\n",
       "      <td>202008</td>\n",
       "      <td>19081.0</td>\n",
       "    </tr>\n",
       "    <tr>\n",
       "      <th>6</th>\n",
       "      <td>0000054635</td>\n",
       "      <td>201912</td>\n",
       "      <td>17726.0</td>\n",
       "    </tr>\n",
       "    <tr>\n",
       "      <th>7</th>\n",
       "      <td>0000054635</td>\n",
       "      <td>202006</td>\n",
       "      <td>7858.0</td>\n",
       "    </tr>\n",
       "    <tr>\n",
       "      <th>8</th>\n",
       "      <td>0000056036</td>\n",
       "      <td>201912</td>\n",
       "      <td>5127.0</td>\n",
       "    </tr>\n",
       "    <tr>\n",
       "      <th>9</th>\n",
       "      <td>0000056036</td>\n",
       "      <td>202006</td>\n",
       "      <td>2178.0</td>\n",
       "    </tr>\n",
       "    <tr>\n",
       "      <th>10</th>\n",
       "      <td>0000158733</td>\n",
       "      <td>201912</td>\n",
       "      <td>12232.0</td>\n",
       "    </tr>\n",
       "    <tr>\n",
       "      <th>11</th>\n",
       "      <td>0000158733</td>\n",
       "      <td>202008</td>\n",
       "      <td>6762.0</td>\n",
       "    </tr>\n",
       "    <tr>\n",
       "      <th>12</th>\n",
       "      <td>0000164442</td>\n",
       "      <td>201912</td>\n",
       "      <td>90971.0</td>\n",
       "    </tr>\n",
       "    <tr>\n",
       "      <th>13</th>\n",
       "      <td>0000164442</td>\n",
       "      <td>202006</td>\n",
       "      <td>26383.0</td>\n",
       "    </tr>\n",
       "    <tr>\n",
       "      <th>14</th>\n",
       "      <td>0000164475</td>\n",
       "      <td>201912</td>\n",
       "      <td>5997.0</td>\n",
       "    </tr>\n",
       "    <tr>\n",
       "      <th>15</th>\n",
       "      <td>0000164475</td>\n",
       "      <td>202003</td>\n",
       "      <td>1252.0</td>\n",
       "    </tr>\n",
       "    <tr>\n",
       "      <th>16</th>\n",
       "      <td>0000222257</td>\n",
       "      <td>201912</td>\n",
       "      <td>22181.0</td>\n",
       "    </tr>\n",
       "    <tr>\n",
       "      <th>17</th>\n",
       "      <td>0000222257</td>\n",
       "      <td>202005</td>\n",
       "      <td>3855.0</td>\n",
       "    </tr>\n",
       "    <tr>\n",
       "      <th>18</th>\n",
       "      <td>0000251611</td>\n",
       "      <td>201912</td>\n",
       "      <td>27060.0</td>\n",
       "    </tr>\n",
       "    <tr>\n",
       "      <th>19</th>\n",
       "      <td>0000251611</td>\n",
       "      <td>202006</td>\n",
       "      <td>8923.0</td>\n",
       "    </tr>\n",
       "    <tr>\n",
       "      <th>20</th>\n",
       "      <td>0000254136</td>\n",
       "      <td>201912</td>\n",
       "      <td>41510.0</td>\n",
       "    </tr>\n",
       "    <tr>\n",
       "      <th>21</th>\n",
       "      <td>0000544551</td>\n",
       "      <td>201912</td>\n",
       "      <td>39302.0</td>\n",
       "    </tr>\n",
       "    <tr>\n",
       "      <th>22</th>\n",
       "      <td>0000544551</td>\n",
       "      <td>202005</td>\n",
       "      <td>11554.0</td>\n",
       "    </tr>\n",
       "    <tr>\n",
       "      <th>23</th>\n",
       "      <td>0000673756</td>\n",
       "      <td>201912</td>\n",
       "      <td>4098.0</td>\n",
       "    </tr>\n",
       "    <tr>\n",
       "      <th>24</th>\n",
       "      <td>0000673756</td>\n",
       "      <td>202007</td>\n",
       "      <td>1739.0</td>\n",
       "    </tr>\n",
       "    <tr>\n",
       "      <th>25</th>\n",
       "      <td>0000761049</td>\n",
       "      <td>201912</td>\n",
       "      <td>35608.0</td>\n",
       "    </tr>\n",
       "    <tr>\n",
       "      <th>26</th>\n",
       "      <td>0000761049</td>\n",
       "      <td>202007</td>\n",
       "      <td>17274.0</td>\n",
       "    </tr>\n",
       "    <tr>\n",
       "      <th>27</th>\n",
       "      <td>0000904284</td>\n",
       "      <td>201912</td>\n",
       "      <td>5376.0</td>\n",
       "    </tr>\n",
       "    <tr>\n",
       "      <th>28</th>\n",
       "      <td>0000904284</td>\n",
       "      <td>202008</td>\n",
       "      <td>3032.0</td>\n",
       "    </tr>\n",
       "    <tr>\n",
       "      <th>29</th>\n",
       "      <td>0000963215</td>\n",
       "      <td>201912</td>\n",
       "      <td>10071.0</td>\n",
       "    </tr>\n",
       "    <tr>\n",
       "      <th>30</th>\n",
       "      <td>0000963215</td>\n",
       "      <td>202006</td>\n",
       "      <td>7976.0</td>\n",
       "    </tr>\n",
       "    <tr>\n",
       "      <th>31</th>\n",
       "      <td>0001079540</td>\n",
       "      <td>201912</td>\n",
       "      <td>5252.0</td>\n",
       "    </tr>\n",
       "    <tr>\n",
       "      <th>32</th>\n",
       "      <td>0001079540</td>\n",
       "      <td>202006</td>\n",
       "      <td>1366.0</td>\n",
       "    </tr>\n",
       "    <tr>\n",
       "      <th>33</th>\n",
       "      <td>0001296862</td>\n",
       "      <td>201912</td>\n",
       "      <td>23198.0</td>\n",
       "    </tr>\n",
       "    <tr>\n",
       "      <th>34</th>\n",
       "      <td>0001296862</td>\n",
       "      <td>202006</td>\n",
       "      <td>7331.0</td>\n",
       "    </tr>\n",
       "    <tr>\n",
       "      <th>35</th>\n",
       "      <td>0001728989</td>\n",
       "      <td>201912</td>\n",
       "      <td>11761.0</td>\n",
       "    </tr>\n",
       "    <tr>\n",
       "      <th>36</th>\n",
       "      <td>0002147783</td>\n",
       "      <td>201912</td>\n",
       "      <td>6166.0</td>\n",
       "    </tr>\n",
       "    <tr>\n",
       "      <th>37</th>\n",
       "      <td>0002147783</td>\n",
       "      <td>202007</td>\n",
       "      <td>2087.0</td>\n",
       "    </tr>\n",
       "    <tr>\n",
       "      <th>38</th>\n",
       "      <td>0002174019</td>\n",
       "      <td>201912</td>\n",
       "      <td>34412.0</td>\n",
       "    </tr>\n",
       "    <tr>\n",
       "      <th>39</th>\n",
       "      <td>0002362010</td>\n",
       "      <td>201912</td>\n",
       "      <td>30258.0</td>\n",
       "    </tr>\n",
       "    <tr>\n",
       "      <th>40</th>\n",
       "      <td>0002362010</td>\n",
       "      <td>202005</td>\n",
       "      <td>3800.0</td>\n",
       "    </tr>\n",
       "    <tr>\n",
       "      <th>41</th>\n",
       "      <td>0002609196</td>\n",
       "      <td>201912</td>\n",
       "      <td>8550.0</td>\n",
       "    </tr>\n",
       "    <tr>\n",
       "      <th>42</th>\n",
       "      <td>0002609196</td>\n",
       "      <td>202005</td>\n",
       "      <td>1262.0</td>\n",
       "    </tr>\n",
       "    <tr>\n",
       "      <th>43</th>\n",
       "      <td>0002611424</td>\n",
       "      <td>201912</td>\n",
       "      <td>42016.0</td>\n",
       "    </tr>\n",
       "    <tr>\n",
       "      <th>44</th>\n",
       "      <td>0002656619</td>\n",
       "      <td>201912</td>\n",
       "      <td>14037.0</td>\n",
       "    </tr>\n",
       "    <tr>\n",
       "      <th>45</th>\n",
       "      <td>0002778090</td>\n",
       "      <td>201912</td>\n",
       "      <td>14600.0</td>\n",
       "    </tr>\n",
       "    <tr>\n",
       "      <th>46</th>\n",
       "      <td>0003041431</td>\n",
       "      <td>201912</td>\n",
       "      <td>102136.0</td>\n",
       "    </tr>\n",
       "    <tr>\n",
       "      <th>47</th>\n",
       "      <td>0003041431</td>\n",
       "      <td>202007</td>\n",
       "      <td>36619.0</td>\n",
       "    </tr>\n",
       "    <tr>\n",
       "      <th>48</th>\n",
       "      <td>0003218286</td>\n",
       "      <td>201912</td>\n",
       "      <td>9619.0</td>\n",
       "    </tr>\n",
       "    <tr>\n",
       "      <th>49</th>\n",
       "      <td>0003218286</td>\n",
       "      <td>202006</td>\n",
       "      <td>3496.0</td>\n",
       "    </tr>\n",
       "    <tr>\n",
       "      <th>50</th>\n",
       "      <td>0003290442</td>\n",
       "      <td>201912</td>\n",
       "      <td>5692.0</td>\n",
       "    </tr>\n",
       "    <tr>\n",
       "      <th>51</th>\n",
       "      <td>0003290442</td>\n",
       "      <td>202007</td>\n",
       "      <td>2099.0</td>\n",
       "    </tr>\n",
       "    <tr>\n",
       "      <th>52</th>\n",
       "      <td>0003776713</td>\n",
       "      <td>201912</td>\n",
       "      <td>822.0</td>\n",
       "    </tr>\n",
       "    <tr>\n",
       "      <th>53</th>\n",
       "      <td>0003827482</td>\n",
       "      <td>201912</td>\n",
       "      <td>103039.0</td>\n",
       "    </tr>\n",
       "    <tr>\n",
       "      <th>54</th>\n",
       "      <td>0003827482</td>\n",
       "      <td>202003</td>\n",
       "      <td>21455.0</td>\n",
       "    </tr>\n",
       "    <tr>\n",
       "      <th>55</th>\n",
       "      <td>0004089660</td>\n",
       "      <td>201912</td>\n",
       "      <td>13511.0</td>\n",
       "    </tr>\n",
       "    <tr>\n",
       "      <th>56</th>\n",
       "      <td>0004189254</td>\n",
       "      <td>201912</td>\n",
       "      <td>55432.0</td>\n",
       "    </tr>\n",
       "    <tr>\n",
       "      <th>57</th>\n",
       "      <td>0004189254</td>\n",
       "      <td>202006</td>\n",
       "      <td>15140.0</td>\n",
       "    </tr>\n",
       "    <tr>\n",
       "      <th>58</th>\n",
       "      <td>0004219440</td>\n",
       "      <td>201912</td>\n",
       "      <td>32570.0</td>\n",
       "    </tr>\n",
       "    <tr>\n",
       "      <th>59</th>\n",
       "      <td>0004219440</td>\n",
       "      <td>202007</td>\n",
       "      <td>6394.0</td>\n",
       "    </tr>\n",
       "  </tbody>\n",
       "</table>\n",
       "</div>"
      ],
      "text/plain": [
       "   CODUNICOCLI  CODMES  MTO_VENNETAS\n",
       "0   0000006114  201912        7576.0\n",
       "1   0000038026  201912       13774.0\n",
       "2   0000038026  202006        5467.0\n",
       "3   0000043778  201912       33543.0\n",
       "4   0000054320  201912       47371.0\n",
       "5   0000054320  202008       19081.0\n",
       "6   0000054635  201912       17726.0\n",
       "7   0000054635  202006        7858.0\n",
       "8   0000056036  201912        5127.0\n",
       "9   0000056036  202006        2178.0\n",
       "10  0000158733  201912       12232.0\n",
       "11  0000158733  202008        6762.0\n",
       "12  0000164442  201912       90971.0\n",
       "13  0000164442  202006       26383.0\n",
       "14  0000164475  201912        5997.0\n",
       "15  0000164475  202003        1252.0\n",
       "16  0000222257  201912       22181.0\n",
       "17  0000222257  202005        3855.0\n",
       "18  0000251611  201912       27060.0\n",
       "19  0000251611  202006        8923.0\n",
       "20  0000254136  201912       41510.0\n",
       "21  0000544551  201912       39302.0\n",
       "22  0000544551  202005       11554.0\n",
       "23  0000673756  201912        4098.0\n",
       "24  0000673756  202007        1739.0\n",
       "25  0000761049  201912       35608.0\n",
       "26  0000761049  202007       17274.0\n",
       "27  0000904284  201912        5376.0\n",
       "28  0000904284  202008        3032.0\n",
       "29  0000963215  201912       10071.0\n",
       "30  0000963215  202006        7976.0\n",
       "31  0001079540  201912        5252.0\n",
       "32  0001079540  202006        1366.0\n",
       "33  0001296862  201912       23198.0\n",
       "34  0001296862  202006        7331.0\n",
       "35  0001728989  201912       11761.0\n",
       "36  0002147783  201912        6166.0\n",
       "37  0002147783  202007        2087.0\n",
       "38  0002174019  201912       34412.0\n",
       "39  0002362010  201912       30258.0\n",
       "40  0002362010  202005        3800.0\n",
       "41  0002609196  201912        8550.0\n",
       "42  0002609196  202005        1262.0\n",
       "43  0002611424  201912       42016.0\n",
       "44  0002656619  201912       14037.0\n",
       "45  0002778090  201912       14600.0\n",
       "46  0003041431  201912      102136.0\n",
       "47  0003041431  202007       36619.0\n",
       "48  0003218286  201912        9619.0\n",
       "49  0003218286  202006        3496.0\n",
       "50  0003290442  201912        5692.0\n",
       "51  0003290442  202007        2099.0\n",
       "52  0003776713  201912         822.0\n",
       "53  0003827482  201912      103039.0\n",
       "54  0003827482  202003       21455.0\n",
       "55  0004089660  201912       13511.0\n",
       "56  0004189254  201912       55432.0\n",
       "57  0004189254  202006       15140.0\n",
       "58  0004219440  201912       32570.0\n",
       "59  0004219440  202007        6394.0"
      ]
     },
     "execution_count": 35,
     "metadata": {},
     "output_type": "execute_result"
    }
   ],
   "source": [
    "base.head(60)"
   ]
  },
  {
   "cell_type": "code",
   "execution_count": null,
   "metadata": {},
   "outputs": [],
   "source": []
  },
  {
   "cell_type": "code",
   "execution_count": 36,
   "metadata": {},
   "outputs": [],
   "source": [
    "aa = base.groupby(by=['CODUNICOCLI']).size()\n",
    "tienen_2 = list(aa[aa > 1].index)"
   ]
  },
  {
   "cell_type": "code",
   "execution_count": 37,
   "metadata": {},
   "outputs": [
    {
     "data": {
      "text/plain": [
       "562"
      ]
     },
     "execution_count": 37,
     "metadata": {},
     "output_type": "execute_result"
    }
   ],
   "source": [
    "len(tienen_2)"
   ]
  },
  {
   "cell_type": "code",
   "execution_count": 38,
   "metadata": {},
   "outputs": [
    {
     "data": {
      "text/plain": [
       "2019    762\n",
       "2020    564\n",
       "Name: ANIO, dtype: int64"
      ]
     },
     "execution_count": 38,
     "metadata": {},
     "output_type": "execute_result"
    }
   ],
   "source": [
    "base['ANIO'] = base['CODMES'].apply(lambda _: str(_)[:4])\n",
    "base['ANIO'].value_counts()"
   ]
  },
  {
   "cell_type": "code",
   "execution_count": 39,
   "metadata": {},
   "outputs": [
    {
     "data": {
      "text/plain": [
       "((1124, 4), (1326, 4))"
      ]
     },
     "execution_count": 39,
     "metadata": {},
     "output_type": "execute_result"
    }
   ],
   "source": [
    "base[base['CODUNICOCLI'].isin(tienen_2)].shape, base.shape"
   ]
  },
  {
   "cell_type": "code",
   "execution_count": 40,
   "metadata": {},
   "outputs": [
    {
     "data": {
      "text/html": [
       "<div>\n",
       "<style scoped>\n",
       "    .dataframe tbody tr th:only-of-type {\n",
       "        vertical-align: middle;\n",
       "    }\n",
       "\n",
       "    .dataframe tbody tr th {\n",
       "        vertical-align: top;\n",
       "    }\n",
       "\n",
       "    .dataframe thead th {\n",
       "        text-align: right;\n",
       "    }\n",
       "</style>\n",
       "<table border=\"1\" class=\"dataframe\">\n",
       "  <thead>\n",
       "    <tr style=\"text-align: right;\">\n",
       "      <th></th>\n",
       "      <th>CODUNICOCLI</th>\n",
       "      <th>CODMES</th>\n",
       "      <th>MTO_VENNETAS</th>\n",
       "      <th>ANIO</th>\n",
       "    </tr>\n",
       "  </thead>\n",
       "  <tbody>\n",
       "    <tr>\n",
       "      <th>1</th>\n",
       "      <td>0000038026</td>\n",
       "      <td>201912</td>\n",
       "      <td>13774.0</td>\n",
       "      <td>2019</td>\n",
       "    </tr>\n",
       "    <tr>\n",
       "      <th>2</th>\n",
       "      <td>0000038026</td>\n",
       "      <td>202006</td>\n",
       "      <td>5467.0</td>\n",
       "      <td>2020</td>\n",
       "    </tr>\n",
       "    <tr>\n",
       "      <th>4</th>\n",
       "      <td>0000054320</td>\n",
       "      <td>201912</td>\n",
       "      <td>47371.0</td>\n",
       "      <td>2019</td>\n",
       "    </tr>\n",
       "    <tr>\n",
       "      <th>5</th>\n",
       "      <td>0000054320</td>\n",
       "      <td>202008</td>\n",
       "      <td>19081.0</td>\n",
       "      <td>2020</td>\n",
       "    </tr>\n",
       "    <tr>\n",
       "      <th>6</th>\n",
       "      <td>0000054635</td>\n",
       "      <td>201912</td>\n",
       "      <td>17726.0</td>\n",
       "      <td>2019</td>\n",
       "    </tr>\n",
       "  </tbody>\n",
       "</table>\n",
       "</div>"
      ],
      "text/plain": [
       "  CODUNICOCLI  CODMES  MTO_VENNETAS  ANIO\n",
       "1  0000038026  201912       13774.0  2019\n",
       "2  0000038026  202006        5467.0  2020\n",
       "4  0000054320  201912       47371.0  2019\n",
       "5  0000054320  202008       19081.0  2020\n",
       "6  0000054635  201912       17726.0  2019"
      ]
     },
     "execution_count": 40,
     "metadata": {},
     "output_type": "execute_result"
    }
   ],
   "source": [
    "base = base[base['CODUNICOCLI'].isin(tienen_2)]\n",
    "base.head()"
   ]
  },
  {
   "cell_type": "code",
   "execution_count": 41,
   "metadata": {},
   "outputs": [
    {
     "data": {
      "text/plain": [
       "2020    562\n",
       "2019    562\n",
       "Name: ANIO, dtype: int64"
      ]
     },
     "execution_count": 41,
     "metadata": {},
     "output_type": "execute_result"
    }
   ],
   "source": [
    "base['ANIO'].value_counts()"
   ]
  },
  {
   "cell_type": "code",
   "execution_count": 42,
   "metadata": {},
   "outputs": [
    {
     "data": {
      "text/html": [
       "<div>\n",
       "<style scoped>\n",
       "    .dataframe tbody tr th:only-of-type {\n",
       "        vertical-align: middle;\n",
       "    }\n",
       "\n",
       "    .dataframe tbody tr th {\n",
       "        vertical-align: top;\n",
       "    }\n",
       "\n",
       "    .dataframe thead th {\n",
       "        text-align: right;\n",
       "    }\n",
       "</style>\n",
       "<table border=\"1\" class=\"dataframe\">\n",
       "  <thead>\n",
       "    <tr style=\"text-align: right;\">\n",
       "      <th></th>\n",
       "      <th>CODUNICOCLI</th>\n",
       "      <th>CODMES</th>\n",
       "      <th>MTO_VENNETAS</th>\n",
       "      <th>ANIO</th>\n",
       "    </tr>\n",
       "  </thead>\n",
       "  <tbody>\n",
       "    <tr>\n",
       "      <th>1</th>\n",
       "      <td>0000038026</td>\n",
       "      <td>201912</td>\n",
       "      <td>13774.0</td>\n",
       "      <td>2019</td>\n",
       "    </tr>\n",
       "    <tr>\n",
       "      <th>2</th>\n",
       "      <td>0000038026</td>\n",
       "      <td>202006</td>\n",
       "      <td>5467.0</td>\n",
       "      <td>2020</td>\n",
       "    </tr>\n",
       "    <tr>\n",
       "      <th>4</th>\n",
       "      <td>0000054320</td>\n",
       "      <td>201912</td>\n",
       "      <td>47371.0</td>\n",
       "      <td>2019</td>\n",
       "    </tr>\n",
       "    <tr>\n",
       "      <th>5</th>\n",
       "      <td>0000054320</td>\n",
       "      <td>202008</td>\n",
       "      <td>19081.0</td>\n",
       "      <td>2020</td>\n",
       "    </tr>\n",
       "    <tr>\n",
       "      <th>6</th>\n",
       "      <td>0000054635</td>\n",
       "      <td>201912</td>\n",
       "      <td>17726.0</td>\n",
       "      <td>2019</td>\n",
       "    </tr>\n",
       "  </tbody>\n",
       "</table>\n",
       "</div>"
      ],
      "text/plain": [
       "  CODUNICOCLI  CODMES  MTO_VENNETAS  ANIO\n",
       "1  0000038026  201912       13774.0  2019\n",
       "2  0000038026  202006        5467.0  2020\n",
       "4  0000054320  201912       47371.0  2019\n",
       "5  0000054320  202008       19081.0  2020\n",
       "6  0000054635  201912       17726.0  2019"
      ]
     },
     "execution_count": 42,
     "metadata": {},
     "output_type": "execute_result"
    }
   ],
   "source": [
    "base.head()"
   ]
  },
  {
   "cell_type": "code",
   "execution_count": 43,
   "metadata": {},
   "outputs": [],
   "source": [
    "#pivoteo['2019'].hist()"
   ]
  },
  {
   "cell_type": "code",
   "execution_count": 44,
   "metadata": {},
   "outputs": [],
   "source": [
    "#pivoteo['2020'].hist()"
   ]
  },
  {
   "cell_type": "code",
   "execution_count": 45,
   "metadata": {},
   "outputs": [
    {
     "data": {
      "text/plain": [
       "1     12\n",
       "2      6\n",
       "4     12\n",
       "5      8\n",
       "6     12\n",
       "7      6\n",
       "8     12\n",
       "9      6\n",
       "10    12\n",
       "11     8\n",
       "Name: mes, dtype: int64"
      ]
     },
     "execution_count": 45,
     "metadata": {},
     "output_type": "execute_result"
    }
   ],
   "source": [
    "base['mes'] = base['CODMES'].apply(lambda _: int(_[-2:]))\n",
    "base['mes'].head(10)"
   ]
  },
  {
   "cell_type": "code",
   "execution_count": 46,
   "metadata": {},
   "outputs": [],
   "source": [
    "def get_div_means_perios(val_anio_act , val_anio_pas):\n",
    "    if pd.isnull(val_anio_act):\n",
    "        return 0\n",
    "    \n",
    "    if pd.isnull(val_anio_pas) or not val_anio_pas:\n",
    "        return None\n",
    "    #if  pd.isnull(val_2019) in (0, 0.0):\n",
    "    #    return None\n",
    "    \n",
    "    return val_anio_act / val_anio_pas"
   ]
  },
  {
   "cell_type": "code",
   "execution_count": 47,
   "metadata": {},
   "outputs": [],
   "source": [
    "#row_2020 = base[\n",
    "#        (base['CODUNICOCLI'] == '0000038026') & (base['ANIO'] == '2020')\n",
    "#    ]\n",
    "#row_2020\n",
    "#list(valor_2020['MTO_VENNETAS'])[0], list(valor_2020['mes'])[0]"
   ]
  },
  {
   "cell_type": "code",
   "execution_count": 48,
   "metadata": {},
   "outputs": [],
   "source": [
    "def get_ratio(cod, per):\n",
    "    row_2020 = base[\n",
    "        (base['CODUNICOCLI'] == cod) & (base['ANIO'] == '2020')\n",
    "    ]\n",
    "    valor_2020 = list(row_2020['MTO_VENNETAS'])[0]\n",
    "    regla_tres_2019 = list(row_2020['mes'])[0] /12\n",
    "    \n",
    "    valor_2019 = base[\n",
    "        (base['CODUNICOCLI'] == cod) & (base['ANIO'] == '2019')\n",
    "    ]['MTO_VENNETAS'].reset_index(drop=True)[0]*regla_tres_2019\n",
    "    \n",
    "    #print(valor_2020[0])\n",
    "    return  get_div_means_perios(valor_2020, valor_2019)"
   ]
  },
  {
   "cell_type": "code",
   "execution_count": 49,
   "metadata": {},
   "outputs": [
    {
     "data": {
      "text/plain": [
       "<matplotlib.axes._subplots.AxesSubplot at 0x2c1bedb93c8>"
      ]
     },
     "execution_count": 49,
     "metadata": {},
     "output_type": "execute_result"
    },
    {
     "data": {
      "image/png": "[encoded data removed]",
      "text/plain": [
       "<Figure size 432x288 with 1 Axes>"
      ]
     },
     "metadata": {},
     "output_type": "display_data"
    }
   ],
   "source": [
    "base['ratio_yoy'] = base[['CODUNICOCLI', 'CODMES']].apply(lambda _: get_ratio(_[0], _[1]), axis=1) \n",
    "base['ratio_yoy'].hist()"
   ]
  },
  {
   "cell_type": "code",
   "execution_count": 50,
   "metadata": {},
   "outputs": [
    {
     "data": {
      "text/plain": [
       "<matplotlib.axes._subplots.AxesSubplot at 0x2c1bffb9f48>"
      ]
     },
     "execution_count": 50,
     "metadata": {},
     "output_type": "execute_result"
    },
    {
     "data": {
      "image/png": "[encoded data removed]",
      "text/plain": [
       "<Figure size 432x288 with 1 Axes>"
      ]
     },
     "metadata": {},
     "output_type": "display_data"
    }
   ],
   "source": [
    "base = base[base['ANIO'] == '2020']\n",
    "base[\n",
    "    (base['ratio_yoy'] < 2) & (base['ANIO'] == '2020')\n",
    "]['ratio_yoy'].hist()"
   ]
  },
  {
   "cell_type": "code",
   "execution_count": 51,
   "metadata": {},
   "outputs": [
    {
     "data": {
      "text/html": [
       "<div>\n",
       "<style scoped>\n",
       "    .dataframe tbody tr th:only-of-type {\n",
       "        vertical-align: middle;\n",
       "    }\n",
       "\n",
       "    .dataframe tbody tr th {\n",
       "        vertical-align: top;\n",
       "    }\n",
       "\n",
       "    .dataframe thead th {\n",
       "        text-align: right;\n",
       "    }\n",
       "</style>\n",
       "<table border=\"1\" class=\"dataframe\">\n",
       "  <thead>\n",
       "    <tr style=\"text-align: right;\">\n",
       "      <th></th>\n",
       "      <th>ANIO</th>\n",
       "      <th>PERIODO</th>\n",
       "      <th>COD_UNICO</th>\n",
       "      <th>TIPO_CASH</th>\n",
       "      <th>GRUPO_N1</th>\n",
       "      <th>CANT_TRX</th>\n",
       "      <th>VOLUMEN_SOLES</th>\n",
       "      <th>MAX_FECHA_INFORMACION</th>\n",
       "    </tr>\n",
       "  </thead>\n",
       "  <tbody>\n",
       "    <tr>\n",
       "      <th>0</th>\n",
       "      <td>2018</td>\n",
       "      <td>201804</td>\n",
       "      <td>0000251611</td>\n",
       "      <td>CASH IN</td>\n",
       "      <td>DEPOSITOS</td>\n",
       "      <td>29</td>\n",
       "      <td>62766.64</td>\n",
       "      <td>20180427</td>\n",
       "    </tr>\n",
       "    <tr>\n",
       "      <th>1</th>\n",
       "      <td>2018</td>\n",
       "      <td>201804</td>\n",
       "      <td>0000251611</td>\n",
       "      <td>CASH IN</td>\n",
       "      <td>PAGOS RECIBIDOS</td>\n",
       "      <td>1</td>\n",
       "      <td>771.44</td>\n",
       "      <td>20180405</td>\n",
       "    </tr>\n",
       "    <tr>\n",
       "      <th>2</th>\n",
       "      <td>2018</td>\n",
       "      <td>201804</td>\n",
       "      <td>0002147783</td>\n",
       "      <td>CASH IN</td>\n",
       "      <td>TRANSFERENCIAS</td>\n",
       "      <td>2</td>\n",
       "      <td>129180.00</td>\n",
       "      <td>20180424</td>\n",
       "    </tr>\n",
       "    <tr>\n",
       "      <th>4</th>\n",
       "      <td>2018</td>\n",
       "      <td>201804</td>\n",
       "      <td>0002174019</td>\n",
       "      <td>CASH IN</td>\n",
       "      <td>TRANSFERENCIAS</td>\n",
       "      <td>2</td>\n",
       "      <td>46928.00</td>\n",
       "      <td>20180430</td>\n",
       "    </tr>\n",
       "    <tr>\n",
       "      <th>6</th>\n",
       "      <td>2018</td>\n",
       "      <td>201804</td>\n",
       "      <td>0002362010</td>\n",
       "      <td>CASH IN</td>\n",
       "      <td>DEPOSITOS</td>\n",
       "      <td>33</td>\n",
       "      <td>264328.34</td>\n",
       "      <td>20180430</td>\n",
       "    </tr>\n",
       "    <tr>\n",
       "      <th>8</th>\n",
       "      <td>2018</td>\n",
       "      <td>201804</td>\n",
       "      <td>0003218286</td>\n",
       "      <td>CASH IN</td>\n",
       "      <td>TRANSFERENCIAS</td>\n",
       "      <td>6</td>\n",
       "      <td>29176.25</td>\n",
       "      <td>20180419</td>\n",
       "    </tr>\n",
       "    <tr>\n",
       "      <th>9</th>\n",
       "      <td>2018</td>\n",
       "      <td>201804</td>\n",
       "      <td>0004089660</td>\n",
       "      <td>CASH IN</td>\n",
       "      <td>TRANSFERENCIAS</td>\n",
       "      <td>1</td>\n",
       "      <td>10100.00</td>\n",
       "      <td>20180424</td>\n",
       "    </tr>\n",
       "    <tr>\n",
       "      <th>11</th>\n",
       "      <td>2018</td>\n",
       "      <td>201804</td>\n",
       "      <td>0007037609</td>\n",
       "      <td>CASH IN</td>\n",
       "      <td>TRANSFERENCIAS</td>\n",
       "      <td>9</td>\n",
       "      <td>14224.73</td>\n",
       "      <td>20180430</td>\n",
       "    </tr>\n",
       "    <tr>\n",
       "      <th>13</th>\n",
       "      <td>2018</td>\n",
       "      <td>201804</td>\n",
       "      <td>0008025306</td>\n",
       "      <td>CASH IN</td>\n",
       "      <td>DEPOSITOS</td>\n",
       "      <td>3</td>\n",
       "      <td>128866.00</td>\n",
       "      <td>20180424</td>\n",
       "    </tr>\n",
       "    <tr>\n",
       "      <th>14</th>\n",
       "      <td>2018</td>\n",
       "      <td>201804</td>\n",
       "      <td>0008165990</td>\n",
       "      <td>CASH IN</td>\n",
       "      <td>POS</td>\n",
       "      <td>100</td>\n",
       "      <td>386081.66</td>\n",
       "      <td>20180430</td>\n",
       "    </tr>\n",
       "  </tbody>\n",
       "</table>\n",
       "</div>"
      ],
      "text/plain": [
       "    ANIO PERIODO   COD_UNICO TIPO_CASH         GRUPO_N1  CANT_TRX  \\\n",
       "0   2018  201804  0000251611   CASH IN        DEPOSITOS        29   \n",
       "1   2018  201804  0000251611   CASH IN  PAGOS RECIBIDOS         1   \n",
       "2   2018  201804  0002147783   CASH IN   TRANSFERENCIAS         2   \n",
       "4   2018  201804  0002174019   CASH IN   TRANSFERENCIAS         2   \n",
       "6   2018  201804  0002362010   CASH IN        DEPOSITOS        33   \n",
       "8   2018  201804  0003218286   CASH IN   TRANSFERENCIAS         6   \n",
       "9   2018  201804  0004089660   CASH IN   TRANSFERENCIAS         1   \n",
       "11  2018  201804  0007037609   CASH IN   TRANSFERENCIAS         9   \n",
       "13  2018  201804  0008025306   CASH IN        DEPOSITOS         3   \n",
       "14  2018  201804  0008165990   CASH IN              POS       100   \n",
       "\n",
       "    VOLUMEN_SOLES MAX_FECHA_INFORMACION  \n",
       "0        62766.64              20180427  \n",
       "1          771.44              20180405  \n",
       "2       129180.00              20180424  \n",
       "4        46928.00              20180430  \n",
       "6       264328.34              20180430  \n",
       "8        29176.25              20180419  \n",
       "9        10100.00              20180424  \n",
       "11       14224.73              20180430  \n",
       "13      128866.00              20180424  \n",
       "14      386081.66              20180430  "
      ]
     },
     "execution_count": 51,
     "metadata": {},
     "output_type": "execute_result"
    }
   ],
   "source": [
    "sql_trx_cliente = \"\"\"\n",
    "    SELECT * FROM ODS.HD_VMVP_TRANSACCION_CLIENTE_ALERTAS_CARTERA_BE\n",
    "\"\"\"\n",
    "transac_cliente = pd.read_sql(\n",
    "   sql_trx_cliente , connection_market\n",
    ")\n",
    "transac_cliente = transac_cliente[transac_cliente['TIPO_CASH'] == 'CASH IN'] \n",
    "transac_cliente.head(10)"
   ]
  },
  {
   "cell_type": "code",
   "execution_count": 52,
   "metadata": {},
   "outputs": [
    {
     "data": {
      "text/plain": [
       "Index(['ANIO', 'PERIODO', 'COD_UNICO', 'TIPO_CASH', 'GRUPO_N1', 'CANT_TRX',\n",
       "       'VOLUMEN_SOLES', 'MAX_FECHA_INFORMACION'],\n",
       "      dtype='object')"
      ]
     },
     "execution_count": 52,
     "metadata": {},
     "output_type": "execute_result"
    }
   ],
   "source": [
    "transac_cliente = transac_cliente[transac_cliente['ANIO'].isin(['2019', '2020'])]\n",
    "transac_cliente.columns"
   ]
  },
  {
   "cell_type": "code",
   "execution_count": 53,
   "metadata": {},
   "outputs": [
    {
     "data": {
      "text/plain": [
       "2019    17462\n",
       "2020    15579\n",
       "Name: ANIO, dtype: int64"
      ]
     },
     "execution_count": 53,
     "metadata": {},
     "output_type": "execute_result"
    }
   ],
   "source": [
    "transac_cliente['ANIO'].value_counts()"
   ]
  },
  {
   "cell_type": "code",
   "execution_count": 54,
   "metadata": {},
   "outputs": [
    {
     "data": {
      "text/plain": [
       "3832479017.7"
      ]
     },
     "execution_count": 54,
     "metadata": {},
     "output_type": "execute_result"
    }
   ],
   "source": [
    "transac_cliente[transac_cliente['ANIO'] == '2019']['VOLUMEN_SOLES'].sum()"
   ]
  },
  {
   "cell_type": "code",
   "execution_count": 55,
   "metadata": {},
   "outputs": [],
   "source": [
    "def get_ratio_cash_in(cod, per):\n",
    "    valor_2019 = transac_cliente[\n",
    "        (transac_cliente['COD_UNICO'] == cod) & (transac_cliente['ANIO'] == '2019') & (transac_cliente['PERIODO'].astype(int) <= int(per)) \n",
    "    ]['VOLUMEN_SOLES'].sum()\n",
    "    \n",
    "    valor_2020 = transac_cliente[\n",
    "        (transac_cliente['COD_UNICO'] == cod) & (transac_cliente['ANIO'] == '2020') & (transac_cliente['PERIODO'].astype(int) <= int(per)) \n",
    "    ]['VOLUMEN_SOLES'].sum()\n",
    "\n",
    "    return  get_div_means_perios(valor_2020, valor_2019)"
   ]
  },
  {
   "cell_type": "code",
   "execution_count": 56,
   "metadata": {},
   "outputs": [],
   "source": [
    "def get_suma_2020(cod, per):    \n",
    "    valor_2020 = transac_cliente[\n",
    "        (transac_cliente['COD_UNICO'] == cod) & (transac_cliente['ANIO'] == '2020') & (transac_cliente['PERIODO'].astype(int) <= int(per)) \n",
    "    ]['VOLUMEN_SOLES'].sum()\n",
    "\n",
    "    return  valor_2020"
   ]
  },
  {
   "cell_type": "code",
   "execution_count": 57,
   "metadata": {},
   "outputs": [],
   "source": [
    "base['CASHIN2020'] =  base[['CODUNICOCLI', 'CODMES']].apply(lambda _: get_suma_2020(_[0], _[1]), axis=1) "
   ]
  },
  {
   "cell_type": "code",
   "execution_count": 58,
   "metadata": {},
   "outputs": [
    {
     "data": {
      "text/plain": [
       "<matplotlib.axes._subplots.AxesSubplot at 0x2c1c4ac3108>"
      ]
     },
     "execution_count": 58,
     "metadata": {},
     "output_type": "execute_result"
    },
    {
     "data": {
      "image/png": "[encoded data removed]",
      "text/plain": [
       "<Figure size 432x288 with 1 Axes>"
      ]
     },
     "metadata": {},
     "output_type": "display_data"
    }
   ],
   "source": [
    "base['ratio_cash_in'] = base[['CODUNICOCLI', 'CODMES']].apply(lambda _: get_ratio_cash_in(_[0], _[1]), axis=1) \n",
    "base['ratio_cash_in'].hist()"
   ]
  },
  {
   "cell_type": "code",
   "execution_count": 59,
   "metadata": {},
   "outputs": [
    {
     "data": {
      "text/plain": [
       "<matplotlib.axes._subplots.AxesSubplot at 0x2c1c4aa9788>"
      ]
     },
     "execution_count": 59,
     "metadata": {},
     "output_type": "execute_result"
    },
    {
     "data": {
      "image/png": "[encoded data removed]",
      "text/plain": [
       "<Figure size 432x288 with 1 Axes>"
      ]
     },
     "metadata": {},
     "output_type": "display_data"
    }
   ],
   "source": [
    "base[base['ratio_cash_in'] < 2]['ratio_cash_in'].hist()"
   ]
  },
  {
   "cell_type": "code",
   "execution_count": 60,
   "metadata": {},
   "outputs": [
    {
     "data": {
      "text/html": [
       "<div>\n",
       "<style scoped>\n",
       "    .dataframe tbody tr th:only-of-type {\n",
       "        vertical-align: middle;\n",
       "    }\n",
       "\n",
       "    .dataframe tbody tr th {\n",
       "        vertical-align: top;\n",
       "    }\n",
       "\n",
       "    .dataframe thead th {\n",
       "        text-align: right;\n",
       "    }\n",
       "</style>\n",
       "<table border=\"1\" class=\"dataframe\">\n",
       "  <thead>\n",
       "    <tr style=\"text-align: right;\">\n",
       "      <th></th>\n",
       "      <th>CODUNICOCLI</th>\n",
       "      <th>CODMES</th>\n",
       "      <th>MTO_VENNETAS</th>\n",
       "      <th>ANIO</th>\n",
       "      <th>mes</th>\n",
       "      <th>ratio_yoy</th>\n",
       "      <th>CASHIN2020</th>\n",
       "      <th>ratio_cash_in</th>\n",
       "    </tr>\n",
       "  </thead>\n",
       "  <tbody>\n",
       "    <tr>\n",
       "      <th>2</th>\n",
       "      <td>0000038026</td>\n",
       "      <td>202006</td>\n",
       "      <td>5467.0</td>\n",
       "      <td>2020</td>\n",
       "      <td>6</td>\n",
       "      <td>0.793814</td>\n",
       "      <td>450797.40</td>\n",
       "      <td>0.065925</td>\n",
       "    </tr>\n",
       "    <tr>\n",
       "      <th>5</th>\n",
       "      <td>0000054320</td>\n",
       "      <td>202008</td>\n",
       "      <td>19081.0</td>\n",
       "      <td>2020</td>\n",
       "      <td>8</td>\n",
       "      <td>0.604199</td>\n",
       "      <td>2257526.95</td>\n",
       "      <td>0.389300</td>\n",
       "    </tr>\n",
       "    <tr>\n",
       "      <th>7</th>\n",
       "      <td>0000054635</td>\n",
       "      <td>202006</td>\n",
       "      <td>7858.0</td>\n",
       "      <td>2020</td>\n",
       "      <td>6</td>\n",
       "      <td>0.886607</td>\n",
       "      <td>4687922.98</td>\n",
       "      <td>0.368737</td>\n",
       "    </tr>\n",
       "    <tr>\n",
       "      <th>9</th>\n",
       "      <td>0000056036</td>\n",
       "      <td>202006</td>\n",
       "      <td>2178.0</td>\n",
       "      <td>2020</td>\n",
       "      <td>6</td>\n",
       "      <td>0.849620</td>\n",
       "      <td>4160066.50</td>\n",
       "      <td>0.383222</td>\n",
       "    </tr>\n",
       "    <tr>\n",
       "      <th>11</th>\n",
       "      <td>0000158733</td>\n",
       "      <td>202008</td>\n",
       "      <td>6762.0</td>\n",
       "      <td>2020</td>\n",
       "      <td>8</td>\n",
       "      <td>0.829218</td>\n",
       "      <td>1708068.02</td>\n",
       "      <td>0.632715</td>\n",
       "    </tr>\n",
       "  </tbody>\n",
       "</table>\n",
       "</div>"
      ],
      "text/plain": [
       "   CODUNICOCLI  CODMES  MTO_VENNETAS  ANIO  mes  ratio_yoy  CASHIN2020  \\\n",
       "2   0000038026  202006        5467.0  2020    6   0.793814   450797.40   \n",
       "5   0000054320  202008       19081.0  2020    8   0.604199  2257526.95   \n",
       "7   0000054635  202006        7858.0  2020    6   0.886607  4687922.98   \n",
       "9   0000056036  202006        2178.0  2020    6   0.849620  4160066.50   \n",
       "11  0000158733  202008        6762.0  2020    8   0.829218  1708068.02   \n",
       "\n",
       "    ratio_cash_in  \n",
       "2        0.065925  \n",
       "5        0.389300  \n",
       "7        0.368737  \n",
       "9        0.383222  \n",
       "11       0.632715  "
      ]
     },
     "execution_count": 60,
     "metadata": {},
     "output_type": "execute_result"
    }
   ],
   "source": [
    "base.head()"
   ]
  },
  {
   "cell_type": "code",
   "execution_count": 61,
   "metadata": {},
   "outputs": [
    {
     "data": {
      "text/plain": [
       "((562, 8), (562,))"
      ]
     },
     "execution_count": 61,
     "metadata": {},
     "output_type": "execute_result"
    }
   ],
   "source": [
    "base.shape, base['CODUNICOCLI'].unique().shape"
   ]
  },
  {
   "cell_type": "code",
   "execution_count": 62,
   "metadata": {},
   "outputs": [],
   "source": [
    "base['COD_UNICO'] = base['CODUNICOCLI']\n",
    "base['PERIODO'] = base['CODMES']"
   ]
  },
  {
   "cell_type": "code",
   "execution_count": 63,
   "metadata": {},
   "outputs": [
    {
     "data": {
      "text/html": [
       "<div>\n",
       "<style scoped>\n",
       "    .dataframe tbody tr th:only-of-type {\n",
       "        vertical-align: middle;\n",
       "    }\n",
       "\n",
       "    .dataframe tbody tr th {\n",
       "        vertical-align: top;\n",
       "    }\n",
       "\n",
       "    .dataframe thead th {\n",
       "        text-align: right;\n",
       "    }\n",
       "</style>\n",
       "<table border=\"1\" class=\"dataframe\">\n",
       "  <thead>\n",
       "    <tr style=\"text-align: right;\">\n",
       "      <th></th>\n",
       "      <th>COD_UNICO</th>\n",
       "      <th>PERIODO</th>\n",
       "      <th>MTOSALDO</th>\n",
       "      <th>MTOSALDO_IBK</th>\n",
       "      <th>MTOSALDO_DIR_SF</th>\n",
       "      <th>MTOSALDO_INDIR_SF</th>\n",
       "      <th>MTOSALDO_BBVA</th>\n",
       "      <th>MTOSALDO_BCP</th>\n",
       "      <th>MTOSALDO_BIF</th>\n",
       "      <th>MTOSALDO_SCOTIA</th>\n",
       "      <th>SOW_IBK</th>\n",
       "      <th>SOW_BBVA</th>\n",
       "      <th>SOW_BCP</th>\n",
       "      <th>SOW_BIF</th>\n",
       "      <th>SOW_SCOTIA</th>\n",
       "      <th>SOW_OTROSBCOS</th>\n",
       "      <th>PERCENT_COL_DIRECTAS_SF</th>\n",
       "    </tr>\n",
       "  </thead>\n",
       "  <tbody>\n",
       "    <tr>\n",
       "      <th>0</th>\n",
       "      <td>0011871466</td>\n",
       "      <td>202006</td>\n",
       "      <td>2796074.58</td>\n",
       "      <td>833016.82</td>\n",
       "      <td>2796074.58</td>\n",
       "      <td>0.0</td>\n",
       "      <td>1419738.33</td>\n",
       "      <td>0.00</td>\n",
       "      <td>0.0</td>\n",
       "      <td>543319.43</td>\n",
       "      <td>0.297923</td>\n",
       "      <td>0.507761</td>\n",
       "      <td>0.000000</td>\n",
       "      <td>0.0</td>\n",
       "      <td>0.194315</td>\n",
       "      <td>0.702076</td>\n",
       "      <td>1.000000</td>\n",
       "    </tr>\n",
       "    <tr>\n",
       "      <th>1</th>\n",
       "      <td>0015226664</td>\n",
       "      <td>202006</td>\n",
       "      <td>15637327.63</td>\n",
       "      <td>861831.85</td>\n",
       "      <td>14356651.63</td>\n",
       "      <td>1280676.0</td>\n",
       "      <td>1929778.11</td>\n",
       "      <td>3462803.44</td>\n",
       "      <td>0.0</td>\n",
       "      <td>6470991.35</td>\n",
       "      <td>0.055113</td>\n",
       "      <td>0.123408</td>\n",
       "      <td>0.221444</td>\n",
       "      <td>0.0</td>\n",
       "      <td>0.413816</td>\n",
       "      <td>0.758670</td>\n",
       "      <td>0.918101</td>\n",
       "    </tr>\n",
       "  </tbody>\n",
       "</table>\n",
       "</div>"
      ],
      "text/plain": [
       "    COD_UNICO PERIODO     MTOSALDO  MTOSALDO_IBK  MTOSALDO_DIR_SF  \\\n",
       "0  0011871466  202006   2796074.58     833016.82       2796074.58   \n",
       "1  0015226664  202006  15637327.63     861831.85      14356651.63   \n",
       "\n",
       "   MTOSALDO_INDIR_SF  MTOSALDO_BBVA  MTOSALDO_BCP  MTOSALDO_BIF  \\\n",
       "0                0.0     1419738.33          0.00           0.0   \n",
       "1          1280676.0     1929778.11    3462803.44           0.0   \n",
       "\n",
       "   MTOSALDO_SCOTIA   SOW_IBK  SOW_BBVA   SOW_BCP  SOW_BIF  SOW_SCOTIA  \\\n",
       "0        543319.43  0.297923  0.507761  0.000000      0.0    0.194315   \n",
       "1       6470991.35  0.055113  0.123408  0.221444      0.0    0.413816   \n",
       "\n",
       "   SOW_OTROSBCOS  PERCENT_COL_DIRECTAS_SF  \n",
       "0       0.702076                 1.000000  \n",
       "1       0.758670                 0.918101  "
      ]
     },
     "execution_count": 63,
     "metadata": {},
     "output_type": "execute_result"
    }
   ],
   "source": [
    "sql_sow = \"\"\"\n",
    "    SELECT * FROM ODS.HD_VMVP_SOW_ALERTA_CARTERA_BE\n",
    "\"\"\"\n",
    "sow = pd.read_sql(\n",
    "   sql_sow , connection_market\n",
    ")\n",
    "sow.head(2)"
   ]
  },
  {
   "cell_type": "code",
   "execution_count": 64,
   "metadata": {},
   "outputs": [
    {
     "data": {
      "text/html": [
       "<div>\n",
       "<style scoped>\n",
       "    .dataframe tbody tr th:only-of-type {\n",
       "        vertical-align: middle;\n",
       "    }\n",
       "\n",
       "    .dataframe tbody tr th {\n",
       "        vertical-align: top;\n",
       "    }\n",
       "\n",
       "    .dataframe thead th {\n",
       "        text-align: right;\n",
       "    }\n",
       "</style>\n",
       "<table border=\"1\" class=\"dataframe\">\n",
       "  <thead>\n",
       "    <tr style=\"text-align: right;\">\n",
       "      <th></th>\n",
       "      <th>CODUNICOCLI</th>\n",
       "      <th>CODMES</th>\n",
       "      <th>MTO_VENNETAS</th>\n",
       "      <th>ANIO</th>\n",
       "      <th>mes</th>\n",
       "      <th>ratio_yoy</th>\n",
       "      <th>CASHIN2020</th>\n",
       "      <th>ratio_cash_in</th>\n",
       "      <th>COD_UNICO</th>\n",
       "      <th>PERIODO</th>\n",
       "      <th>SOW_IBK</th>\n",
       "    </tr>\n",
       "  </thead>\n",
       "  <tbody>\n",
       "    <tr>\n",
       "      <th>0</th>\n",
       "      <td>0000038026</td>\n",
       "      <td>202006</td>\n",
       "      <td>5467.0</td>\n",
       "      <td>2020</td>\n",
       "      <td>6</td>\n",
       "      <td>0.793814</td>\n",
       "      <td>450797.40</td>\n",
       "      <td>0.065925</td>\n",
       "      <td>0000038026</td>\n",
       "      <td>202006</td>\n",
       "      <td>0.000000</td>\n",
       "    </tr>\n",
       "    <tr>\n",
       "      <th>1</th>\n",
       "      <td>0000054320</td>\n",
       "      <td>202008</td>\n",
       "      <td>19081.0</td>\n",
       "      <td>2020</td>\n",
       "      <td>8</td>\n",
       "      <td>0.604199</td>\n",
       "      <td>2257526.95</td>\n",
       "      <td>0.389300</td>\n",
       "      <td>0000054320</td>\n",
       "      <td>202008</td>\n",
       "      <td>0.237076</td>\n",
       "    </tr>\n",
       "    <tr>\n",
       "      <th>2</th>\n",
       "      <td>0000054635</td>\n",
       "      <td>202006</td>\n",
       "      <td>7858.0</td>\n",
       "      <td>2020</td>\n",
       "      <td>6</td>\n",
       "      <td>0.886607</td>\n",
       "      <td>4687922.98</td>\n",
       "      <td>0.368737</td>\n",
       "      <td>0000054635</td>\n",
       "      <td>202006</td>\n",
       "      <td>0.383084</td>\n",
       "    </tr>\n",
       "    <tr>\n",
       "      <th>3</th>\n",
       "      <td>0000056036</td>\n",
       "      <td>202006</td>\n",
       "      <td>2178.0</td>\n",
       "      <td>2020</td>\n",
       "      <td>6</td>\n",
       "      <td>0.849620</td>\n",
       "      <td>4160066.50</td>\n",
       "      <td>0.383222</td>\n",
       "      <td>0000056036</td>\n",
       "      <td>202006</td>\n",
       "      <td>0.353838</td>\n",
       "    </tr>\n",
       "    <tr>\n",
       "      <th>4</th>\n",
       "      <td>0000158733</td>\n",
       "      <td>202008</td>\n",
       "      <td>6762.0</td>\n",
       "      <td>2020</td>\n",
       "      <td>8</td>\n",
       "      <td>0.829218</td>\n",
       "      <td>1708068.02</td>\n",
       "      <td>0.632715</td>\n",
       "      <td>0000158733</td>\n",
       "      <td>202008</td>\n",
       "      <td>0.064983</td>\n",
       "    </tr>\n",
       "  </tbody>\n",
       "</table>\n",
       "</div>"
      ],
      "text/plain": [
       "  CODUNICOCLI  CODMES  MTO_VENNETAS  ANIO  mes  ratio_yoy  CASHIN2020  \\\n",
       "0  0000038026  202006        5467.0  2020    6   0.793814   450797.40   \n",
       "1  0000054320  202008       19081.0  2020    8   0.604199  2257526.95   \n",
       "2  0000054635  202006        7858.0  2020    6   0.886607  4687922.98   \n",
       "3  0000056036  202006        2178.0  2020    6   0.849620  4160066.50   \n",
       "4  0000158733  202008        6762.0  2020    8   0.829218  1708068.02   \n",
       "\n",
       "   ratio_cash_in   COD_UNICO PERIODO   SOW_IBK  \n",
       "0       0.065925  0000038026  202006  0.000000  \n",
       "1       0.389300  0000054320  202008  0.237076  \n",
       "2       0.368737  0000054635  202006  0.383084  \n",
       "3       0.383222  0000056036  202006  0.353838  \n",
       "4       0.632715  0000158733  202008  0.064983  "
      ]
     },
     "execution_count": 64,
     "metadata": {},
     "output_type": "execute_result"
    }
   ],
   "source": [
    "base = base.merge(\n",
    "    sow[['COD_UNICO', 'PERIODO', 'SOW_IBK']], how='left', on=['PERIODO','COD_UNICO']\n",
    ")\n",
    "base.head()"
   ]
  },
  {
   "cell_type": "code",
   "execution_count": 65,
   "metadata": {},
   "outputs": [
    {
     "data": {
      "text/plain": [
       "'202009'"
      ]
     },
     "execution_count": 65,
     "metadata": {},
     "output_type": "execute_result"
    }
   ],
   "source": [
    "max_codmes = sow['PERIODO'].max()\n",
    "max_codmes"
   ]
  },
  {
   "cell_type": "code",
   "execution_count": 66,
   "metadata": {},
   "outputs": [],
   "source": [
    "ult_sow = sow[sow['PERIODO'] == max_codmes ][['COD_UNICO', 'PERIODO', 'SOW_IBK']].rename(columns={\n",
    "    'SOW_IBK': 'ULT_SOW'\n",
    "})"
   ]
  },
  {
   "cell_type": "code",
   "execution_count": 67,
   "metadata": {},
   "outputs": [
    {
     "name": "stdout",
     "output_type": "stream",
     "text": [
      "(562, 11)\n",
      "(562, 12)\n"
     ]
    }
   ],
   "source": [
    "print(base.shape)\n",
    "base = base.merge(\n",
    "    ult_sow, how='left', on=['COD_UNICO', 'PERIODO']\n",
    ")\n",
    "print(base.shape)"
   ]
  },
  {
   "cell_type": "code",
   "execution_count": 68,
   "metadata": {},
   "outputs": [],
   "source": [
    "def get_categoria(val):\n",
    "    if pd.isnull(val):\n",
    "        return None\n",
    "    if val <= 0.1:\n",
    "        return '0-0.10'\n",
    "    elif val <= 0.25:\n",
    "        return '0.1-0.25'\n",
    "    elif val <= 0.5:\n",
    "        return '0.25-0.5'\n",
    "    elif val <= 0.75:\n",
    "        return '0.5-0.75'\n",
    "    elif val <= 1:\n",
    "        return '0.75-1'\n",
    "    elif val <= 1.25:\n",
    "        return '1-1.25'\n",
    "    elif val <= 1.5:\n",
    "        return '1.25-1.5'\n",
    "    elif val <= 1.75:\n",
    "        return '1.5-1.75'\n",
    "    elif val <= 2:\n",
    "        return '1.75-2'\n",
    "    else:\n",
    "        return '2.0--'"
   ]
  },
  {
   "cell_type": "code",
   "execution_count": 69,
   "metadata": {},
   "outputs": [
    {
     "data": {
      "text/html": [
       "<div>\n",
       "<style scoped>\n",
       "    .dataframe tbody tr th:only-of-type {\n",
       "        vertical-align: middle;\n",
       "    }\n",
       "\n",
       "    .dataframe tbody tr th {\n",
       "        vertical-align: top;\n",
       "    }\n",
       "\n",
       "    .dataframe thead th {\n",
       "        text-align: right;\n",
       "    }\n",
       "</style>\n",
       "<table border=\"1\" class=\"dataframe\">\n",
       "  <thead>\n",
       "    <tr style=\"text-align: right;\">\n",
       "      <th></th>\n",
       "      <th>CODUNICOCLI</th>\n",
       "      <th>CODMES</th>\n",
       "      <th>MTO_VENNETAS</th>\n",
       "      <th>ANIO</th>\n",
       "      <th>mes</th>\n",
       "      <th>ratio_yoy</th>\n",
       "      <th>CASHIN2020</th>\n",
       "      <th>ratio_cash_in</th>\n",
       "      <th>COD_UNICO</th>\n",
       "      <th>PERIODO</th>\n",
       "      <th>SOW_IBK</th>\n",
       "      <th>ULT_SOW</th>\n",
       "    </tr>\n",
       "  </thead>\n",
       "  <tbody>\n",
       "    <tr>\n",
       "      <th>0</th>\n",
       "      <td>0000038026</td>\n",
       "      <td>202006</td>\n",
       "      <td>5467.0</td>\n",
       "      <td>2020</td>\n",
       "      <td>6</td>\n",
       "      <td>0.793814</td>\n",
       "      <td>450797.40</td>\n",
       "      <td>0.065925</td>\n",
       "      <td>0000038026</td>\n",
       "      <td>202006</td>\n",
       "      <td>0.000000</td>\n",
       "      <td>NaN</td>\n",
       "    </tr>\n",
       "    <tr>\n",
       "      <th>1</th>\n",
       "      <td>0000054320</td>\n",
       "      <td>202008</td>\n",
       "      <td>19081.0</td>\n",
       "      <td>2020</td>\n",
       "      <td>8</td>\n",
       "      <td>0.604199</td>\n",
       "      <td>2257526.95</td>\n",
       "      <td>0.389300</td>\n",
       "      <td>0000054320</td>\n",
       "      <td>202008</td>\n",
       "      <td>0.237076</td>\n",
       "      <td>NaN</td>\n",
       "    </tr>\n",
       "    <tr>\n",
       "      <th>2</th>\n",
       "      <td>0000054635</td>\n",
       "      <td>202006</td>\n",
       "      <td>7858.0</td>\n",
       "      <td>2020</td>\n",
       "      <td>6</td>\n",
       "      <td>0.886607</td>\n",
       "      <td>4687922.98</td>\n",
       "      <td>0.368737</td>\n",
       "      <td>0000054635</td>\n",
       "      <td>202006</td>\n",
       "      <td>0.383084</td>\n",
       "      <td>NaN</td>\n",
       "    </tr>\n",
       "    <tr>\n",
       "      <th>3</th>\n",
       "      <td>0000056036</td>\n",
       "      <td>202006</td>\n",
       "      <td>2178.0</td>\n",
       "      <td>2020</td>\n",
       "      <td>6</td>\n",
       "      <td>0.849620</td>\n",
       "      <td>4160066.50</td>\n",
       "      <td>0.383222</td>\n",
       "      <td>0000056036</td>\n",
       "      <td>202006</td>\n",
       "      <td>0.353838</td>\n",
       "      <td>NaN</td>\n",
       "    </tr>\n",
       "    <tr>\n",
       "      <th>4</th>\n",
       "      <td>0000158733</td>\n",
       "      <td>202008</td>\n",
       "      <td>6762.0</td>\n",
       "      <td>2020</td>\n",
       "      <td>8</td>\n",
       "      <td>0.829218</td>\n",
       "      <td>1708068.02</td>\n",
       "      <td>0.632715</td>\n",
       "      <td>0000158733</td>\n",
       "      <td>202008</td>\n",
       "      <td>0.064983</td>\n",
       "      <td>NaN</td>\n",
       "    </tr>\n",
       "  </tbody>\n",
       "</table>\n",
       "</div>"
      ],
      "text/plain": [
       "  CODUNICOCLI  CODMES  MTO_VENNETAS  ANIO  mes  ratio_yoy  CASHIN2020  \\\n",
       "0  0000038026  202006        5467.0  2020    6   0.793814   450797.40   \n",
       "1  0000054320  202008       19081.0  2020    8   0.604199  2257526.95   \n",
       "2  0000054635  202006        7858.0  2020    6   0.886607  4687922.98   \n",
       "3  0000056036  202006        2178.0  2020    6   0.849620  4160066.50   \n",
       "4  0000158733  202008        6762.0  2020    8   0.829218  1708068.02   \n",
       "\n",
       "   ratio_cash_in   COD_UNICO PERIODO   SOW_IBK  ULT_SOW  \n",
       "0       0.065925  0000038026  202006  0.000000      NaN  \n",
       "1       0.389300  0000054320  202008  0.237076      NaN  \n",
       "2       0.368737  0000054635  202006  0.383084      NaN  \n",
       "3       0.383222  0000056036  202006  0.353838      NaN  \n",
       "4       0.632715  0000158733  202008  0.064983      NaN  "
      ]
     },
     "execution_count": 69,
     "metadata": {},
     "output_type": "execute_result"
    }
   ],
   "source": [
    "base.head()"
   ]
  },
  {
   "cell_type": "code",
   "execution_count": 70,
   "metadata": {},
   "outputs": [],
   "source": [
    "base['category_CEF_ratio_yoy'] = base['ratio_yoy'].apply(get_categoria)\n",
    "base['category_CASH_ratio_yoy'] = base['ratio_cash_in'].apply(get_categoria)\n",
    "base['category_ULT_SOW'] = base['ULT_SOW'].apply(get_categoria)\n",
    "base['category_SOW_ratio'] = base['SOW_IBK'].apply(get_categoria)"
   ]
  },
  {
   "cell_type": "code",
   "execution_count": 71,
   "metadata": {},
   "outputs": [],
   "source": [
    "base.to_excel('matriz_1_1.xlsx', index=False)"
   ]
  },
  {
   "cell_type": "code",
   "execution_count": 72,
   "metadata": {},
   "outputs": [],
   "source": [
    "base['MTO_VENNETAS'] = base['MTO_VENNETAS']*1000"
   ]
  },
  {
   "cell_type": "code",
   "execution_count": 73,
   "metadata": {},
   "outputs": [
    {
     "data": {
      "text/html": [
       "<div>\n",
       "<style scoped>\n",
       "    .dataframe tbody tr th:only-of-type {\n",
       "        vertical-align: middle;\n",
       "    }\n",
       "\n",
       "    .dataframe tbody tr th {\n",
       "        vertical-align: top;\n",
       "    }\n",
       "\n",
       "    .dataframe thead th {\n",
       "        text-align: right;\n",
       "    }\n",
       "</style>\n",
       "<table border=\"1\" class=\"dataframe\">\n",
       "  <thead>\n",
       "    <tr style=\"text-align: right;\">\n",
       "      <th></th>\n",
       "      <th>CODUNICOCLI</th>\n",
       "      <th>CODMES</th>\n",
       "      <th>MTO_VENNETAS</th>\n",
       "      <th>ANIO</th>\n",
       "      <th>mes</th>\n",
       "      <th>ratio_yoy</th>\n",
       "      <th>CASHIN2020</th>\n",
       "      <th>ratio_cash_in</th>\n",
       "      <th>COD_UNICO</th>\n",
       "      <th>PERIODO</th>\n",
       "      <th>SOW_IBK</th>\n",
       "      <th>ULT_SOW</th>\n",
       "      <th>category_CEF_ratio_yoy</th>\n",
       "      <th>category_CASH_ratio_yoy</th>\n",
       "      <th>category_ULT_SOW</th>\n",
       "      <th>category_SOW_ratio</th>\n",
       "    </tr>\n",
       "  </thead>\n",
       "  <tbody>\n",
       "    <tr>\n",
       "      <th>0</th>\n",
       "      <td>0000038026</td>\n",
       "      <td>202006</td>\n",
       "      <td>5467000.0</td>\n",
       "      <td>2020</td>\n",
       "      <td>6</td>\n",
       "      <td>0.793814</td>\n",
       "      <td>450797.40</td>\n",
       "      <td>0.065925</td>\n",
       "      <td>0000038026</td>\n",
       "      <td>202006</td>\n",
       "      <td>0.000000</td>\n",
       "      <td>NaN</td>\n",
       "      <td>0.75-1</td>\n",
       "      <td>0-0.10</td>\n",
       "      <td>None</td>\n",
       "      <td>0-0.10</td>\n",
       "    </tr>\n",
       "    <tr>\n",
       "      <th>1</th>\n",
       "      <td>0000054320</td>\n",
       "      <td>202008</td>\n",
       "      <td>19081000.0</td>\n",
       "      <td>2020</td>\n",
       "      <td>8</td>\n",
       "      <td>0.604199</td>\n",
       "      <td>2257526.95</td>\n",
       "      <td>0.389300</td>\n",
       "      <td>0000054320</td>\n",
       "      <td>202008</td>\n",
       "      <td>0.237076</td>\n",
       "      <td>NaN</td>\n",
       "      <td>0.5-0.75</td>\n",
       "      <td>0.25-0.5</td>\n",
       "      <td>None</td>\n",
       "      <td>0.1-0.25</td>\n",
       "    </tr>\n",
       "    <tr>\n",
       "      <th>2</th>\n",
       "      <td>0000054635</td>\n",
       "      <td>202006</td>\n",
       "      <td>7858000.0</td>\n",
       "      <td>2020</td>\n",
       "      <td>6</td>\n",
       "      <td>0.886607</td>\n",
       "      <td>4687922.98</td>\n",
       "      <td>0.368737</td>\n",
       "      <td>0000054635</td>\n",
       "      <td>202006</td>\n",
       "      <td>0.383084</td>\n",
       "      <td>NaN</td>\n",
       "      <td>0.75-1</td>\n",
       "      <td>0.25-0.5</td>\n",
       "      <td>None</td>\n",
       "      <td>0.25-0.5</td>\n",
       "    </tr>\n",
       "    <tr>\n",
       "      <th>3</th>\n",
       "      <td>0000056036</td>\n",
       "      <td>202006</td>\n",
       "      <td>2178000.0</td>\n",
       "      <td>2020</td>\n",
       "      <td>6</td>\n",
       "      <td>0.849620</td>\n",
       "      <td>4160066.50</td>\n",
       "      <td>0.383222</td>\n",
       "      <td>0000056036</td>\n",
       "      <td>202006</td>\n",
       "      <td>0.353838</td>\n",
       "      <td>NaN</td>\n",
       "      <td>0.75-1</td>\n",
       "      <td>0.25-0.5</td>\n",
       "      <td>None</td>\n",
       "      <td>0.25-0.5</td>\n",
       "    </tr>\n",
       "    <tr>\n",
       "      <th>4</th>\n",
       "      <td>0000158733</td>\n",
       "      <td>202008</td>\n",
       "      <td>6762000.0</td>\n",
       "      <td>2020</td>\n",
       "      <td>8</td>\n",
       "      <td>0.829218</td>\n",
       "      <td>1708068.02</td>\n",
       "      <td>0.632715</td>\n",
       "      <td>0000158733</td>\n",
       "      <td>202008</td>\n",
       "      <td>0.064983</td>\n",
       "      <td>NaN</td>\n",
       "      <td>0.75-1</td>\n",
       "      <td>0.5-0.75</td>\n",
       "      <td>None</td>\n",
       "      <td>0-0.10</td>\n",
       "    </tr>\n",
       "  </tbody>\n",
       "</table>\n",
       "</div>"
      ],
      "text/plain": [
       "  CODUNICOCLI  CODMES  MTO_VENNETAS  ANIO  mes  ratio_yoy  CASHIN2020  \\\n",
       "0  0000038026  202006     5467000.0  2020    6   0.793814   450797.40   \n",
       "1  0000054320  202008    19081000.0  2020    8   0.604199  2257526.95   \n",
       "2  0000054635  202006     7858000.0  2020    6   0.886607  4687922.98   \n",
       "3  0000056036  202006     2178000.0  2020    6   0.849620  4160066.50   \n",
       "4  0000158733  202008     6762000.0  2020    8   0.829218  1708068.02   \n",
       "\n",
       "   ratio_cash_in   COD_UNICO PERIODO   SOW_IBK  ULT_SOW  \\\n",
       "0       0.065925  0000038026  202006  0.000000      NaN   \n",
       "1       0.389300  0000054320  202008  0.237076      NaN   \n",
       "2       0.368737  0000054635  202006  0.383084      NaN   \n",
       "3       0.383222  0000056036  202006  0.353838      NaN   \n",
       "4       0.632715  0000158733  202008  0.064983      NaN   \n",
       "\n",
       "  category_CEF_ratio_yoy category_CASH_ratio_yoy category_ULT_SOW  \\\n",
       "0                 0.75-1                  0-0.10             None   \n",
       "1               0.5-0.75                0.25-0.5             None   \n",
       "2                 0.75-1                0.25-0.5             None   \n",
       "3                 0.75-1                0.25-0.5             None   \n",
       "4                 0.75-1                0.5-0.75             None   \n",
       "\n",
       "  category_SOW_ratio  \n",
       "0             0-0.10  \n",
       "1           0.1-0.25  \n",
       "2           0.25-0.5  \n",
       "3           0.25-0.5  \n",
       "4             0-0.10  "
      ]
     },
     "execution_count": 73,
     "metadata": {},
     "output_type": "execute_result"
    }
   ],
   "source": [
    "base.head()"
   ]
  },
  {
   "cell_type": "code",
   "execution_count": 74,
   "metadata": {},
   "outputs": [
    {
     "data": {
      "text/plain": [
       "<matplotlib.axes._subplots.AxesSubplot at 0x2c1c4a9cf88>"
      ]
     },
     "execution_count": 74,
     "metadata": {},
     "output_type": "execute_result"
    },
    {
     "data": {
      "image/png": "[encoded data removed]",
      "text/plain": [
       "<Figure size 432x288 with 1 Axes>"
      ]
     },
     "metadata": {},
     "output_type": "display_data"
    }
   ],
   "source": [
    "base['ratio_cash_in_cef_2020'] = base[['CASHIN2020', 'MTO_VENNETAS']].apply(lambda _: get_div_means_perios(_[0], _[1]), axis=1)\n",
    "base['ratio_cash_in_cef_2020'].hist()                                               "
   ]
  },
  {
   "cell_type": "code",
   "execution_count": 75,
   "metadata": {},
   "outputs": [
    {
     "data": {
      "text/plain": [
       "<matplotlib.axes._subplots.AxesSubplot at 0x2c1bed56e48>"
      ]
     },
     "execution_count": 75,
     "metadata": {},
     "output_type": "execute_result"
    },
    {
     "data": {
      "image/png": "[encoded data removed]",
      "text/plain": [
       "<Figure size 432x288 with 1 Axes>"
      ]
     },
     "metadata": {},
     "output_type": "display_data"
    }
   ],
   "source": [
    "base[base['ratio_cash_in_cef_2020'] < 1]['ratio_cash_in_cef_2020'].hist()"
   ]
  },
  {
   "cell_type": "code",
   "execution_count": 76,
   "metadata": {},
   "outputs": [
    {
     "data": {
      "text/plain": [
       "0-0.10      145\n",
       "0.1-0.25    133\n",
       "0.75-1      111\n",
       "0.25-0.5     97\n",
       "0.5-0.75     70\n",
       "Name: category_SOW_ratio, dtype: int64"
      ]
     },
     "execution_count": 76,
     "metadata": {},
     "output_type": "execute_result"
    }
   ],
   "source": [
    "base['category_SOW_ratio'].value_counts()"
   ]
  },
  {
   "cell_type": "code",
   "execution_count": 77,
   "metadata": {},
   "outputs": [],
   "source": [
    "def corte_duro(val):\n",
    "    if pd.isnull(val):\n",
    "        return None\n",
    "    \n",
    "    if val < 0.5:\n",
    "        return '0-0.5'\n",
    "    elif val < 1:\n",
    "        return '0.5-1'\n",
    "    else:\n",
    "        return '1_more'\n",
    "base['category_participacion'] = base['ratio_cash_in_cef_2020'].apply(corte_duro)"
   ]
  },
  {
   "cell_type": "code",
   "execution_count": 78,
   "metadata": {},
   "outputs": [
    {
     "data": {
      "text/html": [
       "<div>\n",
       "<style scoped>\n",
       "    .dataframe tbody tr th:only-of-type {\n",
       "        vertical-align: middle;\n",
       "    }\n",
       "\n",
       "    .dataframe tbody tr th {\n",
       "        vertical-align: top;\n",
       "    }\n",
       "\n",
       "    .dataframe thead th {\n",
       "        text-align: right;\n",
       "    }\n",
       "</style>\n",
       "<table border=\"1\" class=\"dataframe\">\n",
       "  <thead>\n",
       "    <tr style=\"text-align: right;\">\n",
       "      <th></th>\n",
       "      <th>CODUNICOCLI</th>\n",
       "      <th>CODMES</th>\n",
       "      <th>MTO_VENNETAS</th>\n",
       "      <th>ANIO</th>\n",
       "      <th>mes</th>\n",
       "      <th>ratio_yoy</th>\n",
       "      <th>CASHIN2020</th>\n",
       "      <th>ratio_cash_in</th>\n",
       "      <th>COD_UNICO</th>\n",
       "      <th>PERIODO</th>\n",
       "      <th>SOW_IBK</th>\n",
       "      <th>ULT_SOW</th>\n",
       "      <th>category_CEF_ratio_yoy</th>\n",
       "      <th>category_CASH_ratio_yoy</th>\n",
       "      <th>category_ULT_SOW</th>\n",
       "      <th>category_SOW_ratio</th>\n",
       "      <th>ratio_cash_in_cef_2020</th>\n",
       "      <th>category_participacion</th>\n",
       "    </tr>\n",
       "  </thead>\n",
       "  <tbody>\n",
       "    <tr>\n",
       "      <th>365</th>\n",
       "      <td>0013219759</td>\n",
       "      <td>202004</td>\n",
       "      <td>1213000.0</td>\n",
       "      <td>2020</td>\n",
       "      <td>4</td>\n",
       "      <td>1.858529</td>\n",
       "      <td>1185808.13</td>\n",
       "      <td>1.723230</td>\n",
       "      <td>0013219759</td>\n",
       "      <td>202004</td>\n",
       "      <td>1.000000</td>\n",
       "      <td>NaN</td>\n",
       "      <td>1.75-2</td>\n",
       "      <td>0.25-0.5</td>\n",
       "      <td>None</td>\n",
       "      <td>0.75-1</td>\n",
       "      <td>0.977583</td>\n",
       "      <td>0.5-1</td>\n",
       "    </tr>\n",
       "    <tr>\n",
       "      <th>535</th>\n",
       "      <td>0015994198</td>\n",
       "      <td>202006</td>\n",
       "      <td>9286000.0</td>\n",
       "      <td>2020</td>\n",
       "      <td>6</td>\n",
       "      <td>1.887015</td>\n",
       "      <td>8701906.11</td>\n",
       "      <td>1.730126</td>\n",
       "      <td>0015994198</td>\n",
       "      <td>202006</td>\n",
       "      <td>0.572452</td>\n",
       "      <td>NaN</td>\n",
       "      <td>1.75-2</td>\n",
       "      <td>1.5-1.75</td>\n",
       "      <td>None</td>\n",
       "      <td>0.5-0.75</td>\n",
       "      <td>0.937100</td>\n",
       "      <td>0.5-1</td>\n",
       "    </tr>\n",
       "  </tbody>\n",
       "</table>\n",
       "</div>"
      ],
      "text/plain": [
       "    CODUNICOCLI  CODMES  MTO_VENNETAS  ANIO  mes  ratio_yoy  CASHIN2020  \\\n",
       "365  0013219759  202004     1213000.0  2020    4   1.858529  1185808.13   \n",
       "535  0015994198  202006     9286000.0  2020    6   1.887015  8701906.11   \n",
       "\n",
       "     ratio_cash_in   COD_UNICO PERIODO   SOW_IBK  ULT_SOW  \\\n",
       "365       1.723230  0013219759  202004  1.000000      NaN   \n",
       "535       1.730126  0015994198  202006  0.572452      NaN   \n",
       "\n",
       "    category_CEF_ratio_yoy category_CASH_ratio_yoy category_ULT_SOW  \\\n",
       "365                 1.75-2                0.25-0.5             None   \n",
       "535                 1.75-2                1.5-1.75             None   \n",
       "\n",
       "    category_SOW_ratio  ratio_cash_in_cef_2020 category_participacion  \n",
       "365             0.75-1                0.977583                  0.5-1  \n",
       "535           0.5-0.75                0.937100                  0.5-1  "
      ]
     },
     "execution_count": 78,
     "metadata": {},
     "output_type": "execute_result"
    }
   ],
   "source": [
    "base.loc[\n",
    "    (base['ratio_cash_in'] < 2) & (base['ratio_yoy'] < 2) &\\\n",
    "    (base['category_SOW_ratio'].isin(['0.5-0.75', '0.75-1']))  &\\\n",
    "    (base['category_participacion'] == '0.5-1') &\\\n",
    "    (base['ratio_yoy'] > 1.5 ) &\\\n",
    "    (base['mes'] == 4), 'ratio_cash_in'\n",
    "] = 1.72323\n",
    "\n",
    "base[\n",
    "    (base['ratio_cash_in'] < 2) & (base['ratio_yoy'] < 2) &\\\n",
    "    (base['category_SOW_ratio'].isin(['0.5-0.75', '0.75-1']))  &\\\n",
    "    (base['category_participacion'] == '0.5-1') &\\\n",
    "    (base['ratio_yoy'] > 1.5 )\n",
    "]"
   ]
  },
  {
   "cell_type": "code",
   "execution_count": 79,
   "metadata": {},
   "outputs": [
    {
     "data": {
      "text/plain": [
       "<matplotlib.axes._subplots.AxesSubplot at 0x2c1be5f6288>"
      ]
     },
     "execution_count": 79,
     "metadata": {},
     "output_type": "execute_result"
    },
    {
     "data": {
      "image/png": "[encoded data removed]",
      "text/plain": [
       "<Figure size 1440x1440 with 6 Axes>"
      ]
     },
     "metadata": {},
     "output_type": "display_data"
    }
   ],
   "source": [
    "fig, axes = plt.subplots(3, 2, figsize=(20, 20))\n",
    "\n",
    "sns.scatterplot(data=base[\n",
    "    (base['ratio_cash_in'] < 2) & (base['ratio_yoy'] < 2) & (base['category_SOW_ratio'] == '0-0.10') & (base['category_participacion'] != '1_more')\n",
    "], x=\"ratio_yoy\", y=\"ratio_cash_in\", ax=axes[0][0])\n",
    "\n",
    "sns.scatterplot(data=base[\n",
    "    (base['ratio_cash_in'] < 2) & (base['ratio_yoy'] < 2) & (base['category_SOW_ratio'].isin(['0.25-0.5', '0.1-0.25']) ) & (base['category_participacion'] != '1_more')\n",
    "], x=\"ratio_yoy\", y=\"ratio_cash_in\", ax=axes[0][1],hue='category_participacion', legend='full') # \n",
    "\n",
    "\n",
    "sns.scatterplot(data=base[\n",
    "    (base['ratio_cash_in'] < 2) & (base['ratio_yoy'] < 2) & (base['category_SOW_ratio'] == '0.25-0.5') & (base['category_participacion'] != '1_more')\n",
    "], x=\"ratio_yoy\", y=\"ratio_cash_in\", ax=axes[1][0])\n",
    "\n",
    "\n",
    "sns.scatterplot(data=base[\n",
    "    (base['ratio_cash_in'] < 2) & (base['ratio_yoy'] < 2) & (base['category_SOW_ratio'] == '0.5-0.75') & (base['category_participacion'] != '1_more')\n",
    "], x=\"ratio_yoy\", y=\"ratio_cash_in\", ax=axes[1][1], hue='category_participacion', legend='full')\n",
    "\n",
    "sns.scatterplot(data=base[\n",
    "    (base['ratio_cash_in'] < 2) & (base['ratio_yoy'] < 2) & (base['category_SOW_ratio'].isin(['0.5-0.75', '0.75-1']))  & (base['category_participacion'] != '1_more')\n",
    "], x=\"ratio_yoy\", y=\"ratio_cash_in\" , ax=axes[2][0], hue='category_participacion', legend='full') #"
   ]
  },
  {
   "cell_type": "code",
   "execution_count": null,
   "metadata": {},
   "outputs": [],
   "source": []
  },
  {
   "cell_type": "code",
   "execution_count": null,
   "metadata": {},
   "outputs": [],
   "source": [
    "sns.lmplot(data=base[\n",
    "    (base['ratio_cash_in'] < 2) & (base['ratio_yoy'] < 2) & (base['category_SOW_ratio'].isin(['0.5-0.75', '0.75-1']))  & (base['category_participacion'] != '1_more')\n",
    "], x=\"ratio_yoy\", y=\"ratio_cash_in\", \n",
    "           hue='category_participacion', legend='automatic', robust=False,\n",
    "          markers=[\"x\", \"o\"])"
   ]
  },
  {
   "cell_type": "markdown",
   "metadata": {},
   "source": [
    "    sns.scatterplot(data=base[\n",
    "        (base['ratio_cash_in'] < 2) & (base['ratio_yoy'] < 2) & (base['category_SOW_ratio'] == '0.75-1')\n",
    "    ], x=\"ratio_yoy\", y=\"ratio_cash_in\")"
   ]
  },
  {
   "cell_type": "code",
   "execution_count": null,
   "metadata": {},
   "outputs": [],
   "source": [
    "base.to_excel(\"matriz_1_v2.xlsx\", index=False)"
   ]
  },
  {
   "cell_type": "code",
   "execution_count": null,
   "metadata": {},
   "outputs": [],
   "source": []
  },
  {
   "cell_type": "markdown",
   "metadata": {},
   "source": [
    "### \"VARIANDO ACORDE AL RATIO "
   ]
  },
  {
   "cell_type": "code",
   "execution_count": null,
   "metadata": {},
   "outputs": [],
   "source": [
    "0-0.10      145\n",
    "0.1-0.25    133\n",
    "0.75-1      111\n",
    "0.25-0.5     97\n",
    "0.5-0.75     70"
   ]
  },
  {
   "cell_type": "code",
   "execution_count": null,
   "metadata": {},
   "outputs": [],
   "source": [
    "base['category_participacion_deuda'] = base['ratio_cash_in_cef_2020'].apply(get_categoria)"
   ]
  },
  {
   "cell_type": "code",
   "execution_count": null,
   "metadata": {},
   "outputs": [],
   "source": []
  },
  {
   "cell_type": "code",
   "execution_count": null,
   "metadata": {},
   "outputs": [],
   "source": [
    "sns.scatterplot(data=base[\n",
    "    (base['ratio_cash_in'] < 2) & (base['ratio_yoy'] < 2) & (base['category_participacion_deuda'] == '0-0.10')\n",
    "], x=\"ratio_yoy\", y=\"ratio_cash_in\")"
   ]
  },
  {
   "cell_type": "code",
   "execution_count": null,
   "metadata": {},
   "outputs": [],
   "source": [
    "sns.scatterplot(data=base[\n",
    "    (base['ratio_cash_in'] < 2) & (base['ratio_yoy'] < 2) & (base['category_participacion_deuda'] == '0.1-0.25')\n",
    "], x=\"ratio_yoy\", y=\"ratio_cash_in\")"
   ]
  },
  {
   "cell_type": "code",
   "execution_count": null,
   "metadata": {},
   "outputs": [],
   "source": [
    "sns.scatterplot(data=base[\n",
    "    (base['ratio_cash_in'] < 2) & (base['ratio_yoy'] < 2) & (base['category_participacion_deuda'] == '0.25-0.5')\n",
    "], x=\"ratio_yoy\", y=\"ratio_cash_in\")"
   ]
  },
  {
   "cell_type": "code",
   "execution_count": null,
   "metadata": {},
   "outputs": [],
   "source": [
    "sns.scatterplot(data=base[\n",
    "    (base['ratio_cash_in'] < 2) & (base['ratio_yoy'] < 2) & (base['category_participacion_deuda'] == '0.5-0.75')\n",
    "], x=\"ratio_yoy\", y=\"ratio_cash_in\")"
   ]
  },
  {
   "cell_type": "code",
   "execution_count": null,
   "metadata": {},
   "outputs": [],
   "source": [
    "sns.scatterplot(data=base[\n",
    "    (base['ratio_cash_in'] < 2) & (base['ratio_yoy'] < 2) & (base['category_participacion_deuda'] == '0.75-1')\n",
    "], x=\"ratio_yoy\", y=\"ratio_cash_in\")"
   ]
  },
  {
   "cell_type": "code",
   "execution_count": null,
   "metadata": {},
   "outputs": [],
   "source": []
  },
  {
   "cell_type": "code",
   "execution_count": null,
   "metadata": {},
   "outputs": [],
   "source": []
  },
  {
   "cell_type": "code",
   "execution_count": null,
   "metadata": {},
   "outputs": [],
   "source": []
  },
  {
   "cell_type": "code",
   "execution_count": null,
   "metadata": {},
   "outputs": [],
   "source": []
  },
  {
   "cell_type": "code",
   "execution_count": 6,
   "metadata": {},
   "outputs": [
    {
     "data": {
      "text/html": [
       "<div>\n",
       "<style scoped>\n",
       "    .dataframe tbody tr th:only-of-type {\n",
       "        vertical-align: middle;\n",
       "    }\n",
       "\n",
       "    .dataframe tbody tr th {\n",
       "        vertical-align: top;\n",
       "    }\n",
       "\n",
       "    .dataframe thead th {\n",
       "        text-align: right;\n",
       "    }\n",
       "</style>\n",
       "<table border=\"1\" class=\"dataframe\">\n",
       "  <thead>\n",
       "    <tr style=\"text-align: right;\">\n",
       "      <th></th>\n",
       "      <th>PERIODO</th>\n",
       "      <th>COD_UNICO</th>\n",
       "      <th>TIENE_REACTIVA_IBK</th>\n",
       "      <th>NRO_ENTIDADES_REACTIVA</th>\n",
       "      <th>TRX_COBRANZAS_PERCENT</th>\n",
       "      <th>TRX_DEPOSITOS_PERCENT</th>\n",
       "      <th>TRX_OPERACIONES_MESA_PERCENT</th>\n",
       "      <th>TRX_OTROS_PERCENT</th>\n",
       "      <th>TRX_PAGO_DE_SERVICIOS_PERCENT</th>\n",
       "      <th>TRX_PAGOS_MASIVOS_PERCENT</th>\n",
       "      <th>...</th>\n",
       "      <th>TRX_ratio_PROM_u6m_yoy</th>\n",
       "      <th>TRX_ratio_PROM_u3m_yoy</th>\n",
       "      <th>FEVE</th>\n",
       "      <th>CODUNICOCLI</th>\n",
       "      <th>ES_ACTIVO</th>\n",
       "      <th>CLASIF_SBS</th>\n",
       "      <th>DEPARTAMENTO</th>\n",
       "      <th>target_div_u3_u6</th>\n",
       "      <th>target_ratio_u3m_yoy</th>\n",
       "      <th>target_preocupa</th>\n",
       "    </tr>\n",
       "  </thead>\n",
       "  <tbody>\n",
       "    <tr>\n",
       "      <th>0</th>\n",
       "      <td>201909</td>\n",
       "      <td>0011060494</td>\n",
       "      <td>0</td>\n",
       "      <td>0</td>\n",
       "      <td>NaN</td>\n",
       "      <td>0.047561</td>\n",
       "      <td>0.421422</td>\n",
       "      <td>0.347921</td>\n",
       "      <td>0.013885</td>\n",
       "      <td>0.018227</td>\n",
       "      <td>...</td>\n",
       "      <td>1.886107</td>\n",
       "      <td>1.646842</td>\n",
       "      <td>NaN</td>\n",
       "      <td>NaN</td>\n",
       "      <td>NaN</td>\n",
       "      <td>NaN</td>\n",
       "      <td>NaN</td>\n",
       "      <td>0.716498</td>\n",
       "      <td>1.002071</td>\n",
       "      <td>NaN</td>\n",
       "    </tr>\n",
       "    <tr>\n",
       "      <th>1</th>\n",
       "      <td>201910</td>\n",
       "      <td>0011060494</td>\n",
       "      <td>0</td>\n",
       "      <td>0</td>\n",
       "      <td>NaN</td>\n",
       "      <td>0.055341</td>\n",
       "      <td>0.358401</td>\n",
       "      <td>0.302825</td>\n",
       "      <td>0.033758</td>\n",
       "      <td>0.005432</td>\n",
       "      <td>...</td>\n",
       "      <td>1.639241</td>\n",
       "      <td>1.002071</td>\n",
       "      <td>NaN</td>\n",
       "      <td>NaN</td>\n",
       "      <td>NaN</td>\n",
       "      <td>NaN</td>\n",
       "      <td>NaN</td>\n",
       "      <td>0.945866</td>\n",
       "      <td>1.242897</td>\n",
       "      <td>NaN</td>\n",
       "    </tr>\n",
       "    <tr>\n",
       "      <th>2</th>\n",
       "      <td>201911</td>\n",
       "      <td>0011060494</td>\n",
       "      <td>0</td>\n",
       "      <td>0</td>\n",
       "      <td>NaN</td>\n",
       "      <td>0.032168</td>\n",
       "      <td>0.581723</td>\n",
       "      <td>0.317634</td>\n",
       "      <td>0.003899</td>\n",
       "      <td>0.003637</td>\n",
       "      <td>...</td>\n",
       "      <td>1.546613</td>\n",
       "      <td>1.242897</td>\n",
       "      <td>NaN</td>\n",
       "      <td>NaN</td>\n",
       "      <td>NaN</td>\n",
       "      <td>NaN</td>\n",
       "      <td>NaN</td>\n",
       "      <td>0.885611</td>\n",
       "      <td>1.405411</td>\n",
       "      <td>NaN</td>\n",
       "    </tr>\n",
       "    <tr>\n",
       "      <th>3</th>\n",
       "      <td>201912</td>\n",
       "      <td>0011060494</td>\n",
       "      <td>0</td>\n",
       "      <td>0</td>\n",
       "      <td>NaN</td>\n",
       "      <td>0.030578</td>\n",
       "      <td>0.373368</td>\n",
       "      <td>0.363468</td>\n",
       "      <td>NaN</td>\n",
       "      <td>NaN</td>\n",
       "      <td>...</td>\n",
       "      <td>1.530425</td>\n",
       "      <td>1.405411</td>\n",
       "      <td>SEGUIR</td>\n",
       "      <td>11060494.0</td>\n",
       "      <td>S</td>\n",
       "      <td>NORMAL</td>\n",
       "      <td>LIMA</td>\n",
       "      <td>1.040337</td>\n",
       "      <td>1.196032</td>\n",
       "      <td>0.0</td>\n",
       "    </tr>\n",
       "    <tr>\n",
       "      <th>4</th>\n",
       "      <td>202001</td>\n",
       "      <td>0011060494</td>\n",
       "      <td>0</td>\n",
       "      <td>0</td>\n",
       "      <td>NaN</td>\n",
       "      <td>0.044333</td>\n",
       "      <td>0.271848</td>\n",
       "      <td>0.186996</td>\n",
       "      <td>0.007879</td>\n",
       "      <td>NaN</td>\n",
       "      <td>...</td>\n",
       "      <td>1.094390</td>\n",
       "      <td>1.196032</td>\n",
       "      <td>SEGUIR</td>\n",
       "      <td>11060494.0</td>\n",
       "      <td>S</td>\n",
       "      <td>NORMAL</td>\n",
       "      <td>LIMA</td>\n",
       "      <td>1.007529</td>\n",
       "      <td>0.947227</td>\n",
       "      <td>0.0</td>\n",
       "    </tr>\n",
       "  </tbody>\n",
       "</table>\n",
       "<p>5 rows × 34 columns</p>\n",
       "</div>"
      ],
      "text/plain": [
       "  PERIODO   COD_UNICO  TIENE_REACTIVA_IBK  NRO_ENTIDADES_REACTIVA  \\\n",
       "0  201909  0011060494                   0                       0   \n",
       "1  201910  0011060494                   0                       0   \n",
       "2  201911  0011060494                   0                       0   \n",
       "3  201912  0011060494                   0                       0   \n",
       "4  202001  0011060494                   0                       0   \n",
       "\n",
       "   TRX_COBRANZAS_PERCENT  TRX_DEPOSITOS_PERCENT  TRX_OPERACIONES_MESA_PERCENT  \\\n",
       "0                    NaN               0.047561                      0.421422   \n",
       "1                    NaN               0.055341                      0.358401   \n",
       "2                    NaN               0.032168                      0.581723   \n",
       "3                    NaN               0.030578                      0.373368   \n",
       "4                    NaN               0.044333                      0.271848   \n",
       "\n",
       "   TRX_OTROS_PERCENT  TRX_PAGO_DE_SERVICIOS_PERCENT  \\\n",
       "0           0.347921                       0.013885   \n",
       "1           0.302825                       0.033758   \n",
       "2           0.317634                       0.003899   \n",
       "3           0.363468                            NaN   \n",
       "4           0.186996                       0.007879   \n",
       "\n",
       "   TRX_PAGOS_MASIVOS_PERCENT  ...  TRX_ratio_PROM_u6m_yoy  \\\n",
       "0                   0.018227  ...                1.886107   \n",
       "1                   0.005432  ...                1.639241   \n",
       "2                   0.003637  ...                1.546613   \n",
       "3                        NaN  ...                1.530425   \n",
       "4                        NaN  ...                1.094390   \n",
       "\n",
       "   TRX_ratio_PROM_u3m_yoy    FEVE  CODUNICOCLI  ES_ACTIVO  CLASIF_SBS  \\\n",
       "0                1.646842     NaN          NaN        NaN         NaN   \n",
       "1                1.002071     NaN          NaN        NaN         NaN   \n",
       "2                1.242897     NaN          NaN        NaN         NaN   \n",
       "3                1.405411  SEGUIR   11060494.0          S      NORMAL   \n",
       "4                1.196032  SEGUIR   11060494.0          S      NORMAL   \n",
       "\n",
       "   DEPARTAMENTO  target_div_u3_u6  target_ratio_u3m_yoy  target_preocupa  \n",
       "0           NaN          0.716498              1.002071              NaN  \n",
       "1           NaN          0.945866              1.242897              NaN  \n",
       "2           NaN          0.885611              1.405411              NaN  \n",
       "3          LIMA          1.040337              1.196032              0.0  \n",
       "4          LIMA          1.007529              0.947227              0.0  \n",
       "\n",
       "[5 rows x 34 columns]"
      ]
     },
     "execution_count": 6,
     "metadata": {},
     "output_type": "execute_result"
    }
   ],
   "source": [
    "data = pd.read_excel('analisis_cliente_3_targets.xlsx', dtype={\n",
    "    'COD_UNICO': str, 'PERIODO': str\n",
    "})\n",
    "data.head()"
   ]
  },
  {
   "cell_type": "code",
   "execution_count": 7,
   "metadata": {},
   "outputs": [
    {
     "data": {
      "text/html": [
       "<div>\n",
       "<style scoped>\n",
       "    .dataframe tbody tr th:only-of-type {\n",
       "        vertical-align: middle;\n",
       "    }\n",
       "\n",
       "    .dataframe tbody tr th {\n",
       "        vertical-align: top;\n",
       "    }\n",
       "\n",
       "    .dataframe thead th {\n",
       "        text-align: right;\n",
       "    }\n",
       "</style>\n",
       "<table border=\"1\" class=\"dataframe\">\n",
       "  <thead>\n",
       "    <tr style=\"text-align: right;\">\n",
       "      <th></th>\n",
       "      <th>PERIODO</th>\n",
       "      <th>COD_UNICO</th>\n",
       "      <th>MAX_DIAS_ATRASO</th>\n",
       "    </tr>\n",
       "  </thead>\n",
       "  <tbody>\n",
       "    <tr>\n",
       "      <th>0</th>\n",
       "      <td>202009</td>\n",
       "      <td>0001296862</td>\n",
       "      <td>1.0</td>\n",
       "    </tr>\n",
       "    <tr>\n",
       "      <th>1</th>\n",
       "      <td>202009</td>\n",
       "      <td>0002622827</td>\n",
       "      <td>0.0</td>\n",
       "    </tr>\n",
       "  </tbody>\n",
       "</table>\n",
       "</div>"
      ],
      "text/plain": [
       "  PERIODO   COD_UNICO  MAX_DIAS_ATRASO\n",
       "0  202009  0001296862              1.0\n",
       "1  202009  0002622827              0.0"
      ]
     },
     "execution_count": 7,
     "metadata": {},
     "output_type": "execute_result"
    }
   ],
   "source": [
    "query = \"\"\"\n",
    "\t\tSELECT '202009' PERIODO, ID_CLIE COD_UNICO,  MAX(NUM_DIAS_VENCIDOS) MAX_DIAS_ATRASO FROM \n",
    "\t\tBE_LINEAS_INFINITE A\n",
    "\t\tWHERE 1 = 1\n",
    "\t\tAND  REPLACE(LEFT(FECHA, 7), '-', '') = '202010'\n",
    "\t\tAND  ID_CLIE IN (SELECT DISTINCT(CODUNICOCLI) FROM ODS.HD_VMVP_BASE_ALERTA_CARTERA_BE)\n",
    "\t\tGROUP BY ID_CLIE\n",
    "\"\"\"\n",
    "atrsaso = pd.read_sql(\n",
    "   query , connection_market\n",
    ")\n",
    "atrsaso.head(2)"
   ]
  },
  {
   "cell_type": "code",
   "execution_count": 13,
   "metadata": {},
   "outputs": [
    {
     "data": {
      "text/plain": [
       "PERIODO             object\n",
       "COD_UNICO           object\n",
       "MAX_DIAS_ATRASO    float64\n",
       "dtype: object"
      ]
     },
     "execution_count": 13,
     "metadata": {},
     "output_type": "execute_result"
    }
   ],
   "source": [
    "atrsaso.dtypes"
   ]
  },
  {
   "cell_type": "code",
   "execution_count": 8,
   "metadata": {},
   "outputs": [],
   "source": [
    "data = data.merge(\n",
    "    atrsaso, how='left', on= ['PERIODO', 'COD_UNICO']\n",
    ")"
   ]
  },
  {
   "cell_type": "code",
   "execution_count": 14,
   "metadata": {},
   "outputs": [
    {
     "data": {
      "text/plain": [
       "<matplotlib.axes._subplots.AxesSubplot at 0x2c1be832848>"
      ]
     },
     "execution_count": 14,
     "metadata": {},
     "output_type": "execute_result"
    },
    {
     "data": {
      "image/png": "[encoded data removed]",
      "text/plain": [
       "<Figure size 432x288 with 1 Axes>"
      ]
     },
     "metadata": {},
     "output_type": "display_data"
    }
   ],
   "source": [
    "data['MAX_DIAS_ATRASO'].hist()"
   ]
  },
  {
   "cell_type": "code",
   "execution_count": 17,
   "metadata": {},
   "outputs": [],
   "source": [
    "data['MAX_DIAS_ATRASO'] = data['MAX_DIAS_ATRASO'].astype(float)"
   ]
  },
  {
   "cell_type": "code",
   "execution_count": 18,
   "metadata": {},
   "outputs": [],
   "source": [
    "def graph_numeric(data, col_init, col_out, **kwargs):\n",
    "    fig, axes = plt.subplots(nrows=1, ncols=3, figsize=(15, 4))\n",
    "\n",
    "    sns.lineplot(x=col_init, y=col_out, data=data, ax=axes[0])\n",
    "    sns.violinplot(x=col_init, y=col_out, data=data, ax=axes[1], orient='h')\n",
    "    \n",
    "    legend_list = []\n",
    "    for opt in data[col_out].unique():\n",
    "        sns.kdeplot(data[data[col_out] == opt][col_init], ax=axes[2], shade=True)\n",
    "        legend_list.append(opt)\n",
    "    plt.legend(legend_list)"
   ]
  },
  {
   "cell_type": "code",
   "execution_count": 19,
   "metadata": {},
   "outputs": [
    {
     "ename": "RuntimeError",
     "evalue": "Selected KDE bandwidth is 0. Cannot estiamte density.",
     "output_type": "error",
     "traceback": [
      "\u001b[1;31m---------------------------------------------------------------------------\u001b[0m",
      "\u001b[1;31mValueError\u001b[0m                                Traceback (most recent call last)",
      "\u001b[1;32m~\\Anaconda3\\lib\\site-packages\\statsmodels\\nonparametric\\kde.py\u001b[0m in \u001b[0;36mkdensityfft\u001b[1;34m(X, kernel, bw, weights, gridsize, adjust, clip, cut, retgrid)\u001b[0m\n\u001b[0;32m    450\u001b[0m     \u001b[1;32mtry\u001b[0m\u001b[1;33m:\u001b[0m\u001b[1;33m\u001b[0m\u001b[1;33m\u001b[0m\u001b[0m\n\u001b[1;32m--> 451\u001b[1;33m         \u001b[0mbw\u001b[0m \u001b[1;33m=\u001b[0m \u001b[0mfloat\u001b[0m\u001b[1;33m(\u001b[0m\u001b[0mbw\u001b[0m\u001b[1;33m)\u001b[0m\u001b[1;33m\u001b[0m\u001b[1;33m\u001b[0m\u001b[0m\n\u001b[0m\u001b[0;32m    452\u001b[0m     \u001b[1;32mexcept\u001b[0m\u001b[1;33m:\u001b[0m\u001b[1;33m\u001b[0m\u001b[1;33m\u001b[0m\u001b[0m\n",
      "\u001b[1;31mValueError\u001b[0m: could not convert string to float: 'scott'",
      "\nDuring handling of the above exception, another exception occurred:\n",
      "\u001b[1;31mRuntimeError\u001b[0m                              Traceback (most recent call last)",
      "\u001b[1;32m<ipython-input-19-1a83d81693bc>\u001b[0m in \u001b[0;36m<module>\u001b[1;34m\u001b[0m\n\u001b[0;32m      2\u001b[0m     data[\n\u001b[0;32m      3\u001b[0m         \u001b[1;33m(\u001b[0m\u001b[0mdata\u001b[0m\u001b[1;33m[\u001b[0m\u001b[1;34m'target_preocupa'\u001b[0m\u001b[1;33m]\u001b[0m\u001b[1;33m.\u001b[0m\u001b[0mnotnull\u001b[0m\u001b[1;33m(\u001b[0m\u001b[1;33m)\u001b[0m\u001b[1;33m)\u001b[0m \u001b[1;33m&\u001b[0m \u001b[1;33m(\u001b[0m\u001b[0mdata\u001b[0m\u001b[1;33m[\u001b[0m\u001b[1;34m'PERIODO'\u001b[0m\u001b[1;33m]\u001b[0m \u001b[1;33m==\u001b[0m \u001b[1;34m'202009'\u001b[0m\u001b[1;33m)\u001b[0m \u001b[1;33m&\u001b[0m \u001b[1;33m(\u001b[0m\u001b[0mdata\u001b[0m\u001b[1;33m[\u001b[0m\u001b[1;34m'MAX_DIAS_ATRASO'\u001b[0m\u001b[1;33m]\u001b[0m \u001b[1;33m<\u001b[0m \u001b[1;36m30\u001b[0m\u001b[1;33m)\u001b[0m\u001b[1;33m\u001b[0m\u001b[1;33m\u001b[0m\u001b[0m\n\u001b[1;32m----> 4\u001b[1;33m     ], 'MAX_DIAS_ATRASO', 'target_preocupa'\n\u001b[0m\u001b[0;32m      5\u001b[0m )\n",
      "\u001b[1;32m<ipython-input-18-cb98c60bde00>\u001b[0m in \u001b[0;36mgraph_numeric\u001b[1;34m(data, col_init, col_out, **kwargs)\u001b[0m\n\u001b[0;32m      7\u001b[0m     \u001b[0mlegend_list\u001b[0m \u001b[1;33m=\u001b[0m \u001b[1;33m[\u001b[0m\u001b[1;33m]\u001b[0m\u001b[1;33m\u001b[0m\u001b[1;33m\u001b[0m\u001b[0m\n\u001b[0;32m      8\u001b[0m     \u001b[1;32mfor\u001b[0m \u001b[0mopt\u001b[0m \u001b[1;32min\u001b[0m \u001b[0mdata\u001b[0m\u001b[1;33m[\u001b[0m\u001b[0mcol_out\u001b[0m\u001b[1;33m]\u001b[0m\u001b[1;33m.\u001b[0m\u001b[0munique\u001b[0m\u001b[1;33m(\u001b[0m\u001b[1;33m)\u001b[0m\u001b[1;33m:\u001b[0m\u001b[1;33m\u001b[0m\u001b[1;33m\u001b[0m\u001b[0m\n\u001b[1;32m----> 9\u001b[1;33m         \u001b[0msns\u001b[0m\u001b[1;33m.\u001b[0m\u001b[0mkdeplot\u001b[0m\u001b[1;33m(\u001b[0m\u001b[0mdata\u001b[0m\u001b[1;33m[\u001b[0m\u001b[0mdata\u001b[0m\u001b[1;33m[\u001b[0m\u001b[0mcol_out\u001b[0m\u001b[1;33m]\u001b[0m \u001b[1;33m==\u001b[0m \u001b[0mopt\u001b[0m\u001b[1;33m]\u001b[0m\u001b[1;33m[\u001b[0m\u001b[0mcol_init\u001b[0m\u001b[1;33m]\u001b[0m\u001b[1;33m,\u001b[0m \u001b[0max\u001b[0m\u001b[1;33m=\u001b[0m\u001b[0maxes\u001b[0m\u001b[1;33m[\u001b[0m\u001b[1;36m2\u001b[0m\u001b[1;33m]\u001b[0m\u001b[1;33m,\u001b[0m \u001b[0mshade\u001b[0m\u001b[1;33m=\u001b[0m\u001b[1;32mTrue\u001b[0m\u001b[1;33m)\u001b[0m\u001b[1;33m\u001b[0m\u001b[1;33m\u001b[0m\u001b[0m\n\u001b[0m\u001b[0;32m     10\u001b[0m         \u001b[0mlegend_list\u001b[0m\u001b[1;33m.\u001b[0m\u001b[0mappend\u001b[0m\u001b[1;33m(\u001b[0m\u001b[0mopt\u001b[0m\u001b[1;33m)\u001b[0m\u001b[1;33m\u001b[0m\u001b[1;33m\u001b[0m\u001b[0m\n\u001b[0;32m     11\u001b[0m     \u001b[0mplt\u001b[0m\u001b[1;33m.\u001b[0m\u001b[0mlegend\u001b[0m\u001b[1;33m(\u001b[0m\u001b[0mlegend_list\u001b[0m\u001b[1;33m)\u001b[0m\u001b[1;33m\u001b[0m\u001b[1;33m\u001b[0m\u001b[0m\n",
      "\u001b[1;32m~\\Anaconda3\\lib\\site-packages\\seaborn\\distributions.py\u001b[0m in \u001b[0;36mkdeplot\u001b[1;34m(data, data2, shade, vertical, kernel, bw, gridsize, cut, clip, legend, cumulative, shade_lowest, cbar, cbar_ax, cbar_kws, ax, **kwargs)\u001b[0m\n\u001b[0;32m    703\u001b[0m         ax = _univariate_kdeplot(data, shade, vertical, kernel, bw,\n\u001b[0;32m    704\u001b[0m                                  \u001b[0mgridsize\u001b[0m\u001b[1;33m,\u001b[0m \u001b[0mcut\u001b[0m\u001b[1;33m,\u001b[0m \u001b[0mclip\u001b[0m\u001b[1;33m,\u001b[0m \u001b[0mlegend\u001b[0m\u001b[1;33m,\u001b[0m \u001b[0max\u001b[0m\u001b[1;33m,\u001b[0m\u001b[1;33m\u001b[0m\u001b[1;33m\u001b[0m\u001b[0m\n\u001b[1;32m--> 705\u001b[1;33m                                  cumulative=cumulative, **kwargs)\n\u001b[0m\u001b[0;32m    706\u001b[0m \u001b[1;33m\u001b[0m\u001b[0m\n\u001b[0;32m    707\u001b[0m     \u001b[1;32mreturn\u001b[0m \u001b[0max\u001b[0m\u001b[1;33m\u001b[0m\u001b[1;33m\u001b[0m\u001b[0m\n",
      "\u001b[1;32m~\\Anaconda3\\lib\\site-packages\\seaborn\\distributions.py\u001b[0m in \u001b[0;36m_univariate_kdeplot\u001b[1;34m(data, shade, vertical, kernel, bw, gridsize, cut, clip, legend, ax, cumulative, **kwargs)\u001b[0m\n\u001b[0;32m    293\u001b[0m         x, y = _statsmodels_univariate_kde(data, kernel, bw,\n\u001b[0;32m    294\u001b[0m                                            \u001b[0mgridsize\u001b[0m\u001b[1;33m,\u001b[0m \u001b[0mcut\u001b[0m\u001b[1;33m,\u001b[0m \u001b[0mclip\u001b[0m\u001b[1;33m,\u001b[0m\u001b[1;33m\u001b[0m\u001b[1;33m\u001b[0m\u001b[0m\n\u001b[1;32m--> 295\u001b[1;33m                                            cumulative=cumulative)\n\u001b[0m\u001b[0;32m    296\u001b[0m     \u001b[1;32melse\u001b[0m\u001b[1;33m:\u001b[0m\u001b[1;33m\u001b[0m\u001b[1;33m\u001b[0m\u001b[0m\n\u001b[0;32m    297\u001b[0m         \u001b[1;31m# Fall back to scipy if missing statsmodels\u001b[0m\u001b[1;33m\u001b[0m\u001b[1;33m\u001b[0m\u001b[1;33m\u001b[0m\u001b[0m\n",
      "\u001b[1;32m~\\Anaconda3\\lib\\site-packages\\seaborn\\distributions.py\u001b[0m in \u001b[0;36m_statsmodels_univariate_kde\u001b[1;34m(data, kernel, bw, gridsize, cut, clip, cumulative)\u001b[0m\n\u001b[0;32m    365\u001b[0m     \u001b[0mfft\u001b[0m \u001b[1;33m=\u001b[0m \u001b[0mkernel\u001b[0m \u001b[1;33m==\u001b[0m \u001b[1;34m\"gau\"\u001b[0m\u001b[1;33m\u001b[0m\u001b[1;33m\u001b[0m\u001b[0m\n\u001b[0;32m    366\u001b[0m     \u001b[0mkde\u001b[0m \u001b[1;33m=\u001b[0m \u001b[0msmnp\u001b[0m\u001b[1;33m.\u001b[0m\u001b[0mKDEUnivariate\u001b[0m\u001b[1;33m(\u001b[0m\u001b[0mdata\u001b[0m\u001b[1;33m)\u001b[0m\u001b[1;33m\u001b[0m\u001b[1;33m\u001b[0m\u001b[0m\n\u001b[1;32m--> 367\u001b[1;33m     \u001b[0mkde\u001b[0m\u001b[1;33m.\u001b[0m\u001b[0mfit\u001b[0m\u001b[1;33m(\u001b[0m\u001b[0mkernel\u001b[0m\u001b[1;33m,\u001b[0m \u001b[0mbw\u001b[0m\u001b[1;33m,\u001b[0m \u001b[0mfft\u001b[0m\u001b[1;33m,\u001b[0m \u001b[0mgridsize\u001b[0m\u001b[1;33m=\u001b[0m\u001b[0mgridsize\u001b[0m\u001b[1;33m,\u001b[0m \u001b[0mcut\u001b[0m\u001b[1;33m=\u001b[0m\u001b[0mcut\u001b[0m\u001b[1;33m,\u001b[0m \u001b[0mclip\u001b[0m\u001b[1;33m=\u001b[0m\u001b[0mclip\u001b[0m\u001b[1;33m)\u001b[0m\u001b[1;33m\u001b[0m\u001b[1;33m\u001b[0m\u001b[0m\n\u001b[0m\u001b[0;32m    368\u001b[0m     \u001b[1;32mif\u001b[0m \u001b[0mcumulative\u001b[0m\u001b[1;33m:\u001b[0m\u001b[1;33m\u001b[0m\u001b[1;33m\u001b[0m\u001b[0m\n\u001b[0;32m    369\u001b[0m         \u001b[0mgrid\u001b[0m\u001b[1;33m,\u001b[0m \u001b[0my\u001b[0m \u001b[1;33m=\u001b[0m \u001b[0mkde\u001b[0m\u001b[1;33m.\u001b[0m\u001b[0msupport\u001b[0m\u001b[1;33m,\u001b[0m \u001b[0mkde\u001b[0m\u001b[1;33m.\u001b[0m\u001b[0mcdf\u001b[0m\u001b[1;33m\u001b[0m\u001b[1;33m\u001b[0m\u001b[0m\n",
      "\u001b[1;32m~\\Anaconda3\\lib\\site-packages\\statsmodels\\nonparametric\\kde.py\u001b[0m in \u001b[0;36mfit\u001b[1;34m(self, kernel, bw, fft, weights, gridsize, adjust, cut, clip)\u001b[0m\n\u001b[0;32m    138\u001b[0m             density, grid, bw = kdensityfft(endog, kernel=kernel, bw=bw,\n\u001b[0;32m    139\u001b[0m                     \u001b[0madjust\u001b[0m\u001b[1;33m=\u001b[0m\u001b[0madjust\u001b[0m\u001b[1;33m,\u001b[0m \u001b[0mweights\u001b[0m\u001b[1;33m=\u001b[0m\u001b[0mweights\u001b[0m\u001b[1;33m,\u001b[0m \u001b[0mgridsize\u001b[0m\u001b[1;33m=\u001b[0m\u001b[0mgridsize\u001b[0m\u001b[1;33m,\u001b[0m\u001b[1;33m\u001b[0m\u001b[1;33m\u001b[0m\u001b[0m\n\u001b[1;32m--> 140\u001b[1;33m                     clip=clip, cut=cut)\n\u001b[0m\u001b[0;32m    141\u001b[0m         \u001b[1;32melse\u001b[0m\u001b[1;33m:\u001b[0m\u001b[1;33m\u001b[0m\u001b[1;33m\u001b[0m\u001b[0m\n\u001b[0;32m    142\u001b[0m             density, grid, bw = kdensity(endog, kernel=kernel, bw=bw,\n",
      "\u001b[1;32m~\\Anaconda3\\lib\\site-packages\\statsmodels\\nonparametric\\kde.py\u001b[0m in \u001b[0;36mkdensityfft\u001b[1;34m(X, kernel, bw, weights, gridsize, adjust, clip, cut, retgrid)\u001b[0m\n\u001b[0;32m    451\u001b[0m         \u001b[0mbw\u001b[0m \u001b[1;33m=\u001b[0m \u001b[0mfloat\u001b[0m\u001b[1;33m(\u001b[0m\u001b[0mbw\u001b[0m\u001b[1;33m)\u001b[0m\u001b[1;33m\u001b[0m\u001b[1;33m\u001b[0m\u001b[0m\n\u001b[0;32m    452\u001b[0m     \u001b[1;32mexcept\u001b[0m\u001b[1;33m:\u001b[0m\u001b[1;33m\u001b[0m\u001b[1;33m\u001b[0m\u001b[0m\n\u001b[1;32m--> 453\u001b[1;33m         \u001b[0mbw\u001b[0m \u001b[1;33m=\u001b[0m \u001b[0mbandwidths\u001b[0m\u001b[1;33m.\u001b[0m\u001b[0mselect_bandwidth\u001b[0m\u001b[1;33m(\u001b[0m\u001b[0mX\u001b[0m\u001b[1;33m,\u001b[0m \u001b[0mbw\u001b[0m\u001b[1;33m,\u001b[0m \u001b[0mkern\u001b[0m\u001b[1;33m)\u001b[0m \u001b[1;31m# will cross-val fit this pattern?\u001b[0m\u001b[1;33m\u001b[0m\u001b[1;33m\u001b[0m\u001b[0m\n\u001b[0m\u001b[0;32m    454\u001b[0m     \u001b[0mbw\u001b[0m \u001b[1;33m*=\u001b[0m \u001b[0madjust\u001b[0m\u001b[1;33m\u001b[0m\u001b[1;33m\u001b[0m\u001b[0m\n\u001b[0;32m    455\u001b[0m \u001b[1;33m\u001b[0m\u001b[0m\n",
      "\u001b[1;32m~\\Anaconda3\\lib\\site-packages\\statsmodels\\nonparametric\\bandwidths.py\u001b[0m in \u001b[0;36mselect_bandwidth\u001b[1;34m(x, bw, kernel)\u001b[0m\n\u001b[0;32m    172\u001b[0m         \u001b[1;31m# eventually this can fall back on another selection criterion.\u001b[0m\u001b[1;33m\u001b[0m\u001b[1;33m\u001b[0m\u001b[1;33m\u001b[0m\u001b[0m\n\u001b[0;32m    173\u001b[0m         \u001b[0merr\u001b[0m \u001b[1;33m=\u001b[0m \u001b[1;34m\"Selected KDE bandwidth is 0. Cannot estiamte density.\"\u001b[0m\u001b[1;33m\u001b[0m\u001b[1;33m\u001b[0m\u001b[0m\n\u001b[1;32m--> 174\u001b[1;33m         \u001b[1;32mraise\u001b[0m \u001b[0mRuntimeError\u001b[0m\u001b[1;33m(\u001b[0m\u001b[0merr\u001b[0m\u001b[1;33m)\u001b[0m\u001b[1;33m\u001b[0m\u001b[1;33m\u001b[0m\u001b[0m\n\u001b[0m\u001b[0;32m    175\u001b[0m     \u001b[1;32melse\u001b[0m\u001b[1;33m:\u001b[0m\u001b[1;33m\u001b[0m\u001b[1;33m\u001b[0m\u001b[0m\n\u001b[0;32m    176\u001b[0m         \u001b[1;32mreturn\u001b[0m \u001b[0mbandwidth\u001b[0m\u001b[1;33m\u001b[0m\u001b[1;33m\u001b[0m\u001b[0m\n",
      "\u001b[1;31mRuntimeError\u001b[0m: Selected KDE bandwidth is 0. Cannot estiamte density."
     ]
    },
    {
     "data": {
      "image/png": "[encoded data removed]",
      "text/plain": [
       "<Figure size 1080x288 with 3 Axes>"
      ]
     },
     "metadata": {},
     "output_type": "display_data"
    }
   ],
   "source": [
    "graph_numeric(\n",
    "    data[\n",
    "        (data['target_preocupa'].notnull()) & (data['PERIODO'] == '202009') & (data['MAX_DIAS_ATRASO'] < 30)\n",
    "    ], 'MAX_DIAS_ATRASO', 'target_preocupa'\n",
    ")"
   ]
  },
  {
   "cell_type": "code",
   "execution_count": 20,
   "metadata": {},
   "outputs": [],
   "source": [
    "def graph_categoryc(data, col_init, col_out, **kwargs):\n",
    "    fig, axes = plt.subplots(nrows=1, ncols=3, figsize=(15, 4))\n",
    "    \n",
    "    cp = sns.countplot(x=col_init, hue=col_out, data=data, ax=axes[0])\n",
    "    plt.setp(cp.get_xticklabels(), rotation=90)\n",
    "    \n",
    "    cross = pd.crosstab(data[col_out], data[col_init])\n",
    "    sum_total = sum([cross[col].sum() for col in cross.columns])\n",
    "    sns.heatmap(\n",
    "        cross/sum_total, \n",
    "        annot=True, ax=axes[1], center=0, cmap=\"YlGnBu\", fmt='.2%'\n",
    "    )\n",
    "    bp = sns.barplot(\n",
    "        x=col_init, y=col_out, data=data, ax=axes[2]\n",
    "    )\n",
    "    plt.setp(bp.get_xticklabels(), rotation=90)"
   ]
  },
  {
   "cell_type": "code",
   "execution_count": 21,
   "metadata": {},
   "outputs": [
    {
     "data": {
      "image/png": "[encoded data removed]",
      "text/plain": [
       "<Figure size 1080x288 with 4 Axes>"
      ]
     },
     "metadata": {},
     "output_type": "display_data"
    }
   ],
   "source": [
    "def cut_target_3m_yoy(val):\n",
    "    if pd.isnull(val):\n",
    "        return None\n",
    "    \n",
    "    if val < 5:\n",
    "        return '5 dias'\n",
    "    elif val < 10:\n",
    "        return '10 dias'\n",
    "    elif val < 15:\n",
    "        return '15 dias'\n",
    "    else:\n",
    "        return 'mas de 15'\n",
    "    \n",
    "data['MAX_DIAS_ATRASO_cut_1'] = data['MAX_DIAS_ATRASO'].apply(cut_target_3m_yoy)\n",
    "graph_categoryc(\n",
    "    data[\n",
    "        (data['target_preocupa'].notnull()) & (data['PERIODO'] == '202009') & (data['MAX_DIAS_ATRASO'] < 30)\n",
    "    ], 'MAX_DIAS_ATRASO_cut_1', 'target_preocupa'\n",
    ")"
   ]
  },
  {
   "cell_type": "code",
   "execution_count": 22,
   "metadata": {},
   "outputs": [
    {
     "data": {
      "image/png": "[encoded data removed]",
      "text/plain": [
       "<Figure size 1080x288 with 4 Axes>"
      ]
     },
     "metadata": {},
     "output_type": "display_data"
    }
   ],
   "source": [
    "def cut_target_3m_yoy(val):\n",
    "    if pd.isnull(val):\n",
    "        return None\n",
    "    \n",
    "    if val < 5:\n",
    "        return '5 dias'\n",
    "    elif val < 8:\n",
    "        return '8 dias'\n",
    "    elif val < 11:\n",
    "        return '11 dias'\n",
    "    else:\n",
    "        return 'mas de 11'\n",
    "    \n",
    "data['MAX_DIAS_ATRASO_cut_2'] = data['MAX_DIAS_ATRASO'].apply(cut_target_3m_yoy)\n",
    "graph_categoryc(\n",
    "    data[\n",
    "        (data['target_preocupa'].notnull()) & (data['PERIODO'] == '202009') & (data['MAX_DIAS_ATRASO'] < 30)\n",
    "    ], 'MAX_DIAS_ATRASO_cut_2', 'target_preocupa'\n",
    ")"
   ]
  },
  {
   "cell_type": "code",
   "execution_count": null,
   "metadata": {},
   "outputs": [],
   "source": []
  }
 ],
 "metadata": {
  "kernelspec": {
   "display_name": "Python 3",
   "language": "python",
   "name": "python3"
  },
  "language_info": {
   "codemirror_mode": {
    "name": "ipython",
    "version": 3
   },
   "file_extension": ".py",
   "mimetype": "text/x-python",
   "name": "python",
   "nbconvert_exporter": "python",
   "pygments_lexer": "ipython3",
   "version": "3.7.6"
  }
 },
 "nbformat": 4,
 "nbformat_minor": 4
}
