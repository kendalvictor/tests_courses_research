{
 "cells": [
  {
   "cell_type": "code",
   "execution_count": 1,
   "metadata": {},
   "outputs": [
    {
     "name": "stderr",
     "output_type": "stream",
     "text": [
      "C:\\Users\\B38381\\Anaconda3\\lib\\site-packages\\ipykernel_launcher.py:5: DeprecationWarning: Using or importing the ABCs from 'collections' instead of from 'collections.abc' is deprecated since Python 3.3,and in 3.9 it will stop working\n",
      "  \"\"\"\n"
     ]
    }
   ],
   "source": [
    "import os\n",
    "import unicodedata\n",
    "\n",
    "import pandas as pd\n",
    "import pymssql\n",
    "from utils import null_verificator, clean_acents, get_10_mas_frecuentes\n",
    "from collections import Counter"
   ]
  },
  {
   "cell_type": "code",
   "execution_count": 2,
   "metadata": {},
   "outputs": [],
   "source": [
    "connection_b20 = pymssql.connect(host='10.10.33.92\\SQL2008',\n",
    "                             user='userweb',\n",
    "                             port=1433,\n",
    "                             password='$$W3BVPC2@17',\n",
    "                             database='WEBVPC'\n",
    "                            )"
   ]
  },
  {
   "cell_type": "code",
   "execution_count": 3,
   "metadata": {},
   "outputs": [
    {
     "data": {
      "text/html": [
       "<div>\n",
       "<style scoped>\n",
       "    .dataframe tbody tr th:only-of-type {\n",
       "        vertical-align: middle;\n",
       "    }\n",
       "\n",
       "    .dataframe tbody tr th {\n",
       "        vertical-align: top;\n",
       "    }\n",
       "\n",
       "    .dataframe thead th {\n",
       "        text-align: right;\n",
       "    }\n",
       "</style>\n",
       "<table border=\"1\" class=\"dataframe\">\n",
       "  <thead>\n",
       "    <tr style=\"text-align: right;\">\n",
       "      <th></th>\n",
       "      <th>COD_UNICO</th>\n",
       "      <th>ACTIVIDAD</th>\n",
       "      <th>SUBSECTOR</th>\n",
       "      <th>BACKLOG</th>\n",
       "      <th>MODELO_NEGOCIO</th>\n",
       "      <th>VENTAJA_COMPETITIVA</th>\n",
       "      <th>FORTALEZAS_RIESGOS</th>\n",
       "      <th>INTEGRACION_VERTICAL</th>\n",
       "      <th>GESTION_COMPRAS</th>\n",
       "      <th>REGISTRO</th>\n",
       "      <th>...</th>\n",
       "      <th>PROYECCION_INVERSION</th>\n",
       "      <th>PROYECCION_VENTAS</th>\n",
       "      <th>FECHA_ACTUALIZACION</th>\n",
       "      <th>PROCEDENCIA_MPRIMA</th>\n",
       "      <th>LINEA_SUCESION_FLAG</th>\n",
       "      <th>LINEA_SUCESION</th>\n",
       "      <th>CAMBIO_GERENCIA_GENERAL_ANNIO</th>\n",
       "      <th>CAMBIO_ACCIONISTAS_ANNIO</th>\n",
       "      <th>INICIO_IBK</th>\n",
       "      <th>INICIO_OP</th>\n",
       "    </tr>\n",
       "  </thead>\n",
       "  <tbody>\n",
       "    <tr>\n",
       "      <th>0</th>\n",
       "      <td>0010545047</td>\n",
       "      <td>Servicios</td>\n",
       "      <td>Metalmecánica</td>\n",
       "      <td>Proyectos</td>\n",
       "      <td>La empresa brinda servicios de proyectos, inge...</td>\n",
       "      <td>Brinda un servicio diferenciado desde la ingen...</td>\n",
       "      <td>Fortalezas:\\r\\n- Cartera de clientes de buen c...</td>\n",
       "      <td>None</td>\n",
       "      <td>None</td>\n",
       "      <td>B30434</td>\n",
       "      <td>...</td>\n",
       "      <td>NaN</td>\n",
       "      <td>NaN</td>\n",
       "      <td>2020-11-09 00:00:00</td>\n",
       "      <td>None</td>\n",
       "      <td>0</td>\n",
       "      <td>0</td>\n",
       "      <td>NaN</td>\n",
       "      <td>NaN</td>\n",
       "      <td>2019.0</td>\n",
       "      <td>2006.0</td>\n",
       "    </tr>\n",
       "    <tr>\n",
       "      <th>1</th>\n",
       "      <td>0009808462</td>\n",
       "      <td>Comercio</td>\n",
       "      <td>Productos Marinos</td>\n",
       "      <td>No Aplica</td>\n",
       "      <td>Importador y comercializador de productos hidr...</td>\n",
       "      <td>Cliente mantiene productos vigentes para el me...</td>\n",
       "      <td>FORTALEZAS\\r\\n-\\tCartera de clientes atomizada...</td>\n",
       "      <td>None</td>\n",
       "      <td>None</td>\n",
       "      <td>B36512</td>\n",
       "      <td>...</td>\n",
       "      <td>NaN</td>\n",
       "      <td>NaN</td>\n",
       "      <td>2020-10-05 01:43:00</td>\n",
       "      <td>Exterior</td>\n",
       "      <td>0</td>\n",
       "      <td>None</td>\n",
       "      <td>NaN</td>\n",
       "      <td>NaN</td>\n",
       "      <td>2017.0</td>\n",
       "      <td>2006.0</td>\n",
       "    </tr>\n",
       "    <tr>\n",
       "      <th>2</th>\n",
       "      <td>0010647003</td>\n",
       "      <td>Comercio</td>\n",
       "      <td>Textil y calzado</td>\n",
       "      <td>No Aplica</td>\n",
       "      <td>Importación y comercialización de colorantes, ...</td>\n",
       "      <td>Laborotio quimico in house donde tratan los re...</td>\n",
       "      <td>(F) Mas de 30 años en el negocio, existe suces...</td>\n",
       "      <td>None</td>\n",
       "      <td>None</td>\n",
       "      <td>B36183</td>\n",
       "      <td>...</td>\n",
       "      <td>NaN</td>\n",
       "      <td>NaN</td>\n",
       "      <td>2020-10-02 19:28:45</td>\n",
       "      <td>Exterior</td>\n",
       "      <td>0</td>\n",
       "      <td>None</td>\n",
       "      <td>NaN</td>\n",
       "      <td>NaN</td>\n",
       "      <td>2020.0</td>\n",
       "      <td>1986.0</td>\n",
       "    </tr>\n",
       "    <tr>\n",
       "      <th>3</th>\n",
       "      <td>0008740612</td>\n",
       "      <td>Agrícola y Ganadero</td>\n",
       "      <td>Real Estate</td>\n",
       "      <td>No Aplica</td>\n",
       "      <td>El Sr. Juan Carlos Li Morales forma parte del ...</td>\n",
       "      <td>Ubicación estratégica y demanda del alquiler d...</td>\n",
       "      <td>F: Amplia experiencia del accionista en los ne...</td>\n",
       "      <td>None</td>\n",
       "      <td>None</td>\n",
       "      <td>B37708</td>\n",
       "      <td>...</td>\n",
       "      <td>NaN</td>\n",
       "      <td>NaN</td>\n",
       "      <td>2020-10-02 12:22:46</td>\n",
       "      <td>None</td>\n",
       "      <td>0</td>\n",
       "      <td>None</td>\n",
       "      <td>NaN</td>\n",
       "      <td>NaN</td>\n",
       "      <td>2001.0</td>\n",
       "      <td>1995.0</td>\n",
       "    </tr>\n",
       "    <tr>\n",
       "      <th>4</th>\n",
       "      <td>0015994198</td>\n",
       "      <td>Comercio</td>\n",
       "      <td>Artículos diversos</td>\n",
       "      <td>No Aplica</td>\n",
       "      <td>Empresa fue constituida en Perú en el año 2017...</td>\n",
       "      <td>Cliente tiene exclusividad en varias líneas de...</td>\n",
       "      <td>Fortalezas: Grupo Titanio tiene más de 12 años...</td>\n",
       "      <td>None</td>\n",
       "      <td>None</td>\n",
       "      <td>B36045</td>\n",
       "      <td>...</td>\n",
       "      <td>NaN</td>\n",
       "      <td>NaN</td>\n",
       "      <td>2020-10-01 22:03:29</td>\n",
       "      <td>Exterior</td>\n",
       "      <td>0</td>\n",
       "      <td>None</td>\n",
       "      <td>NaN</td>\n",
       "      <td>NaN</td>\n",
       "      <td>NaN</td>\n",
       "      <td>NaN</td>\n",
       "    </tr>\n",
       "    <tr>\n",
       "      <th>5</th>\n",
       "      <td>0011627517</td>\n",
       "      <td>Comercio</td>\n",
       "      <td>Tecnología y Telecomunicaciones</td>\n",
       "      <td>No Aplica</td>\n",
       "      <td>Nace como una empresa importadora y comerciali...</td>\n",
       "      <td>Experiencia en el sector tecnológico a nivel i...</td>\n",
       "      <td>F: Alianza estratégica con proveedores en Chin...</td>\n",
       "      <td>None</td>\n",
       "      <td>None</td>\n",
       "      <td>B37708</td>\n",
       "      <td>...</td>\n",
       "      <td>1.0</td>\n",
       "      <td>10000.0</td>\n",
       "      <td>2020-10-01 10:58:31</td>\n",
       "      <td>Exterior</td>\n",
       "      <td>0</td>\n",
       "      <td>0</td>\n",
       "      <td>NaN</td>\n",
       "      <td>NaN</td>\n",
       "      <td>2017.0</td>\n",
       "      <td>1998.0</td>\n",
       "    </tr>\n",
       "    <tr>\n",
       "      <th>6</th>\n",
       "      <td>0010969184</td>\n",
       "      <td>Industria</td>\n",
       "      <td>Imprenta y papel</td>\n",
       "      <td>No Aplica</td>\n",
       "      <td>La empresa fue fundada en 1993, en sus inicios...</td>\n",
       "      <td>Los envases que manufactura EXITUNO tienen may...</td>\n",
       "      <td>Fortalezas:\\r\\nCuenta con una cartera de clien...</td>\n",
       "      <td>None</td>\n",
       "      <td>None</td>\n",
       "      <td>B35777</td>\n",
       "      <td>...</td>\n",
       "      <td>NaN</td>\n",
       "      <td>NaN</td>\n",
       "      <td>2020-09-30 11:50:12</td>\n",
       "      <td>Exterior</td>\n",
       "      <td>0</td>\n",
       "      <td>None</td>\n",
       "      <td>NaN</td>\n",
       "      <td>NaN</td>\n",
       "      <td>2010.0</td>\n",
       "      <td>1993.0</td>\n",
       "    </tr>\n",
       "    <tr>\n",
       "      <th>7</th>\n",
       "      <td>0011710569</td>\n",
       "      <td>Servicios</td>\n",
       "      <td>Limpieza</td>\n",
       "      <td>Servicios</td>\n",
       "      <td>Inversiones Rodalfa brinda servicios de limpie...</td>\n",
       "      <td>Ofrece un servicio diferenciado integral de li...</td>\n",
       "      <td>Fortalezas\\r\\n- Cartera de clientes atomizada ...</td>\n",
       "      <td>None</td>\n",
       "      <td>None</td>\n",
       "      <td>B30434</td>\n",
       "      <td>...</td>\n",
       "      <td>NaN</td>\n",
       "      <td>NaN</td>\n",
       "      <td>2020-09-30 11:26:50</td>\n",
       "      <td>None</td>\n",
       "      <td>0</td>\n",
       "      <td>None</td>\n",
       "      <td>NaN</td>\n",
       "      <td>NaN</td>\n",
       "      <td>2018.0</td>\n",
       "      <td>2007.0</td>\n",
       "    </tr>\n",
       "    <tr>\n",
       "      <th>8</th>\n",
       "      <td>0014449921</td>\n",
       "      <td>Servicios</td>\n",
       "      <td>Limpieza</td>\n",
       "      <td>Servicios</td>\n",
       "      <td>Empresa dedicada a brindar servicio de limpiez...</td>\n",
       "      <td>Ofrece un servicio diferenciado integral de li...</td>\n",
       "      <td>Fortalezas\\r\\n- Cartera atomizada conformada p...</td>\n",
       "      <td>None</td>\n",
       "      <td>None</td>\n",
       "      <td>B30434</td>\n",
       "      <td>...</td>\n",
       "      <td>NaN</td>\n",
       "      <td>NaN</td>\n",
       "      <td>2020-09-30 11:15:46</td>\n",
       "      <td>None</td>\n",
       "      <td>0</td>\n",
       "      <td>None</td>\n",
       "      <td>NaN</td>\n",
       "      <td>NaN</td>\n",
       "      <td>2018.0</td>\n",
       "      <td>2013.0</td>\n",
       "    </tr>\n",
       "    <tr>\n",
       "      <th>9</th>\n",
       "      <td>0011038047</td>\n",
       "      <td>Comercio</td>\n",
       "      <td>Hidrocarburos</td>\n",
       "      <td>No Aplica</td>\n",
       "      <td>PICORP se dedicada a  la distribución minorist...</td>\n",
       "      <td>Tiene más de 15 años en el sector y trabaja de...</td>\n",
       "      <td>Maneja una cartera de Clientes Corporativos. \\...</td>\n",
       "      <td>None</td>\n",
       "      <td>None</td>\n",
       "      <td>B35777</td>\n",
       "      <td>...</td>\n",
       "      <td>NaN</td>\n",
       "      <td>NaN</td>\n",
       "      <td>2020-09-30 10:37:47</td>\n",
       "      <td>Local</td>\n",
       "      <td>0</td>\n",
       "      <td>None</td>\n",
       "      <td>NaN</td>\n",
       "      <td>NaN</td>\n",
       "      <td>2013.0</td>\n",
       "      <td>2003.0</td>\n",
       "    </tr>\n",
       "  </tbody>\n",
       "</table>\n",
       "<p>10 rows × 26 columns</p>\n",
       "</div>"
      ],
      "text/plain": [
       "    COD_UNICO            ACTIVIDAD                        SUBSECTOR  \\\n",
       "0  0010545047            Servicios                    Metalmecánica   \n",
       "1  0009808462             Comercio                Productos Marinos   \n",
       "2  0010647003             Comercio                 Textil y calzado   \n",
       "3  0008740612  Agrícola y Ganadero                      Real Estate   \n",
       "4  0015994198             Comercio               Artículos diversos   \n",
       "5  0011627517             Comercio  Tecnología y Telecomunicaciones   \n",
       "6  0010969184            Industria                 Imprenta y papel   \n",
       "7  0011710569            Servicios                         Limpieza   \n",
       "8  0014449921            Servicios                         Limpieza   \n",
       "9  0011038047             Comercio                    Hidrocarburos   \n",
       "\n",
       "     BACKLOG                                     MODELO_NEGOCIO  \\\n",
       "0  Proyectos  La empresa brinda servicios de proyectos, inge...   \n",
       "1  No Aplica  Importador y comercializador de productos hidr...   \n",
       "2  No Aplica  Importación y comercialización de colorantes, ...   \n",
       "3  No Aplica  El Sr. Juan Carlos Li Morales forma parte del ...   \n",
       "4  No Aplica  Empresa fue constituida en Perú en el año 2017...   \n",
       "5  No Aplica  Nace como una empresa importadora y comerciali...   \n",
       "6  No Aplica  La empresa fue fundada en 1993, en sus inicios...   \n",
       "7  Servicios  Inversiones Rodalfa brinda servicios de limpie...   \n",
       "8  Servicios  Empresa dedicada a brindar servicio de limpiez...   \n",
       "9  No Aplica  PICORP se dedicada a  la distribución minorist...   \n",
       "\n",
       "                                 VENTAJA_COMPETITIVA  \\\n",
       "0  Brinda un servicio diferenciado desde la ingen...   \n",
       "1  Cliente mantiene productos vigentes para el me...   \n",
       "2  Laborotio quimico in house donde tratan los re...   \n",
       "3  Ubicación estratégica y demanda del alquiler d...   \n",
       "4  Cliente tiene exclusividad en varias líneas de...   \n",
       "5  Experiencia en el sector tecnológico a nivel i...   \n",
       "6  Los envases que manufactura EXITUNO tienen may...   \n",
       "7  Ofrece un servicio diferenciado integral de li...   \n",
       "8  Ofrece un servicio diferenciado integral de li...   \n",
       "9  Tiene más de 15 años en el sector y trabaja de...   \n",
       "\n",
       "                                  FORTALEZAS_RIESGOS INTEGRACION_VERTICAL  \\\n",
       "0  Fortalezas:\\r\\n- Cartera de clientes de buen c...                 None   \n",
       "1  FORTALEZAS\\r\\n-\\tCartera de clientes atomizada...                 None   \n",
       "2  (F) Mas de 30 años en el negocio, existe suces...                 None   \n",
       "3  F: Amplia experiencia del accionista en los ne...                 None   \n",
       "4  Fortalezas: Grupo Titanio tiene más de 12 años...                 None   \n",
       "5  F: Alianza estratégica con proveedores en Chin...                 None   \n",
       "6  Fortalezas:\\r\\nCuenta con una cartera de clien...                 None   \n",
       "7  Fortalezas\\r\\n- Cartera de clientes atomizada ...                 None   \n",
       "8  Fortalezas\\r\\n- Cartera atomizada conformada p...                 None   \n",
       "9  Maneja una cartera de Clientes Corporativos. \\...                 None   \n",
       "\n",
       "  GESTION_COMPRAS REGISTRO  ... PROYECCION_INVERSION PROYECCION_VENTAS  \\\n",
       "0            None   B30434  ...                  NaN               NaN   \n",
       "1            None   B36512  ...                  NaN               NaN   \n",
       "2            None   B36183  ...                  NaN               NaN   \n",
       "3            None   B37708  ...                  NaN               NaN   \n",
       "4            None   B36045  ...                  NaN               NaN   \n",
       "5            None   B37708  ...                  1.0           10000.0   \n",
       "6            None   B35777  ...                  NaN               NaN   \n",
       "7            None   B30434  ...                  NaN               NaN   \n",
       "8            None   B30434  ...                  NaN               NaN   \n",
       "9            None   B35777  ...                  NaN               NaN   \n",
       "\n",
       "  FECHA_ACTUALIZACION PROCEDENCIA_MPRIMA  LINEA_SUCESION_FLAG LINEA_SUCESION  \\\n",
       "0 2020-11-09 00:00:00               None                    0              0   \n",
       "1 2020-10-05 01:43:00           Exterior                    0           None   \n",
       "2 2020-10-02 19:28:45           Exterior                    0           None   \n",
       "3 2020-10-02 12:22:46               None                    0           None   \n",
       "4 2020-10-01 22:03:29           Exterior                    0           None   \n",
       "5 2020-10-01 10:58:31           Exterior                    0              0   \n",
       "6 2020-09-30 11:50:12           Exterior                    0           None   \n",
       "7 2020-09-30 11:26:50               None                    0           None   \n",
       "8 2020-09-30 11:15:46               None                    0           None   \n",
       "9 2020-09-30 10:37:47              Local                    0           None   \n",
       "\n",
       "   CAMBIO_GERENCIA_GENERAL_ANNIO  CAMBIO_ACCIONISTAS_ANNIO INICIO_IBK  \\\n",
       "0                            NaN                       NaN     2019.0   \n",
       "1                            NaN                       NaN     2017.0   \n",
       "2                            NaN                       NaN     2020.0   \n",
       "3                            NaN                       NaN     2001.0   \n",
       "4                            NaN                       NaN        NaN   \n",
       "5                            NaN                       NaN     2017.0   \n",
       "6                            NaN                       NaN     2010.0   \n",
       "7                            NaN                       NaN     2018.0   \n",
       "8                            NaN                       NaN     2018.0   \n",
       "9                            NaN                       NaN     2013.0   \n",
       "\n",
       "  INICIO_OP  \n",
       "0    2006.0  \n",
       "1    2006.0  \n",
       "2    1986.0  \n",
       "3    1995.0  \n",
       "4       NaN  \n",
       "5    1998.0  \n",
       "6    1993.0  \n",
       "7    2007.0  \n",
       "8    2013.0  \n",
       "9    2003.0  \n",
       "\n",
       "[10 rows x 26 columns]"
      ]
     },
     "execution_count": 3,
     "metadata": {},
     "output_type": "execute_result"
    }
   ],
   "source": [
    "query_conoceme = \"\"\"\n",
    "    SELECT * FROM WEBBE_INFINITY_CONOCEME ORDER BY FECHA_ACTUALIZACION DESC\n",
    "\"\"\"\n",
    "conoceme = pd.read_sql(\n",
    "   query_conoceme , connection_b20\n",
    ")\n",
    "conoceme.head(10)"
   ]
  },
  {
   "cell_type": "code",
   "execution_count": 4,
   "metadata": {},
   "outputs": [],
   "source": [
    "import missingno as msno"
   ]
  },
  {
   "cell_type": "markdown",
   "metadata": {},
   "source": [
    "### ¿Cuantas fichas tengo?"
   ]
  },
  {
   "cell_type": "code",
   "execution_count": 5,
   "metadata": {},
   "outputs": [
    {
     "data": {
      "text/plain": [
       "(923, 26)"
      ]
     },
     "execution_count": 5,
     "metadata": {},
     "output_type": "execute_result"
    }
   ],
   "source": [
    "conoceme.shape"
   ]
  },
  {
   "cell_type": "markdown",
   "metadata": {},
   "source": [
    "### ¿Que columnas se maneja?"
   ]
  },
  {
   "cell_type": "code",
   "execution_count": 6,
   "metadata": {},
   "outputs": [
    {
     "data": {
      "text/plain": [
       "Index(['COD_UNICO', 'ACTIVIDAD', 'SUBSECTOR', 'BACKLOG', 'MODELO_NEGOCIO',\n",
       "       'VENTAJA_COMPETITIVA', 'FORTALEZAS_RIESGOS', 'INTEGRACION_VERTICAL',\n",
       "       'GESTION_COMPRAS', 'REGISTRO', 'GERENTE_GENERAL',\n",
       "       'GERENTE_FINANCIERO_TIPO', 'GERENTE_FINANCIERO_NOMBRE',\n",
       "       'TIPO_CONTABILIDAD', 'MONTO_LINEA_PROVEEDORES', 'ACTIVO_LIBRE_GRAVAMEN',\n",
       "       'PROYECCION_INVERSION', 'PROYECCION_VENTAS', 'FECHA_ACTUALIZACION',\n",
       "       'PROCEDENCIA_MPRIMA', 'LINEA_SUCESION_FLAG', 'LINEA_SUCESION',\n",
       "       'CAMBIO_GERENCIA_GENERAL_ANNIO', 'CAMBIO_ACCIONISTAS_ANNIO',\n",
       "       'INICIO_IBK', 'INICIO_OP'],\n",
       "      dtype='object')"
      ]
     },
     "execution_count": 6,
     "metadata": {},
     "output_type": "execute_result"
    }
   ],
   "source": [
    "conoceme.columns"
   ]
  },
  {
   "cell_type": "code",
   "execution_count": 7,
   "metadata": {},
   "outputs": [
    {
     "data": {
      "text/html": [
       "<div>\n",
       "<style scoped>\n",
       "    .dataframe tbody tr th:only-of-type {\n",
       "        vertical-align: middle;\n",
       "    }\n",
       "\n",
       "    .dataframe tbody tr th {\n",
       "        vertical-align: top;\n",
       "    }\n",
       "\n",
       "    .dataframe thead th {\n",
       "        text-align: right;\n",
       "    }\n",
       "</style>\n",
       "<table border=\"1\" class=\"dataframe\">\n",
       "  <thead>\n",
       "    <tr style=\"text-align: right;\">\n",
       "      <th></th>\n",
       "      <th>Nulos</th>\n",
       "      <th>Cantidad</th>\n",
       "      <th>Tipo Col</th>\n",
       "      <th>Porcentaje de nulos</th>\n",
       "    </tr>\n",
       "  </thead>\n",
       "  <tbody>\n",
       "    <tr>\n",
       "      <th>COD_UNICO</th>\n",
       "      <td>False</td>\n",
       "      <td>0</td>\n",
       "      <td>object</td>\n",
       "      <td>0.0</td>\n",
       "    </tr>\n",
       "    <tr>\n",
       "      <th>ACTIVIDAD</th>\n",
       "      <td>True</td>\n",
       "      <td>11</td>\n",
       "      <td>object</td>\n",
       "      <td>1.2</td>\n",
       "    </tr>\n",
       "    <tr>\n",
       "      <th>SUBSECTOR</th>\n",
       "      <td>True</td>\n",
       "      <td>21</td>\n",
       "      <td>object</td>\n",
       "      <td>2.3</td>\n",
       "    </tr>\n",
       "    <tr>\n",
       "      <th>BACKLOG</th>\n",
       "      <td>True</td>\n",
       "      <td>39</td>\n",
       "      <td>object</td>\n",
       "      <td>4.2</td>\n",
       "    </tr>\n",
       "    <tr>\n",
       "      <th>MODELO_NEGOCIO</th>\n",
       "      <td>True</td>\n",
       "      <td>6</td>\n",
       "      <td>object</td>\n",
       "      <td>0.7</td>\n",
       "    </tr>\n",
       "    <tr>\n",
       "      <th>VENTAJA_COMPETITIVA</th>\n",
       "      <td>True</td>\n",
       "      <td>25</td>\n",
       "      <td>object</td>\n",
       "      <td>2.7</td>\n",
       "    </tr>\n",
       "    <tr>\n",
       "      <th>FORTALEZAS_RIESGOS</th>\n",
       "      <td>True</td>\n",
       "      <td>35</td>\n",
       "      <td>object</td>\n",
       "      <td>3.8</td>\n",
       "    </tr>\n",
       "    <tr>\n",
       "      <th>INTEGRACION_VERTICAL</th>\n",
       "      <td>True</td>\n",
       "      <td>923</td>\n",
       "      <td>object</td>\n",
       "      <td>100.0</td>\n",
       "    </tr>\n",
       "    <tr>\n",
       "      <th>GESTION_COMPRAS</th>\n",
       "      <td>True</td>\n",
       "      <td>864</td>\n",
       "      <td>object</td>\n",
       "      <td>93.6</td>\n",
       "    </tr>\n",
       "    <tr>\n",
       "      <th>REGISTRO</th>\n",
       "      <td>False</td>\n",
       "      <td>0</td>\n",
       "      <td>object</td>\n",
       "      <td>0.0</td>\n",
       "    </tr>\n",
       "    <tr>\n",
       "      <th>GERENTE_GENERAL</th>\n",
       "      <td>True</td>\n",
       "      <td>26</td>\n",
       "      <td>object</td>\n",
       "      <td>2.8</td>\n",
       "    </tr>\n",
       "    <tr>\n",
       "      <th>GERENTE_FINANCIERO_TIPO</th>\n",
       "      <td>True</td>\n",
       "      <td>172</td>\n",
       "      <td>object</td>\n",
       "      <td>18.6</td>\n",
       "    </tr>\n",
       "    <tr>\n",
       "      <th>GERENTE_FINANCIERO_NOMBRE</th>\n",
       "      <td>True</td>\n",
       "      <td>239</td>\n",
       "      <td>object</td>\n",
       "      <td>25.9</td>\n",
       "    </tr>\n",
       "    <tr>\n",
       "      <th>TIPO_CONTABILIDAD</th>\n",
       "      <td>False</td>\n",
       "      <td>0</td>\n",
       "      <td>object</td>\n",
       "      <td>0.0</td>\n",
       "    </tr>\n",
       "    <tr>\n",
       "      <th>MONTO_LINEA_PROVEEDORES</th>\n",
       "      <td>True</td>\n",
       "      <td>445</td>\n",
       "      <td>float64</td>\n",
       "      <td>48.2</td>\n",
       "    </tr>\n",
       "    <tr>\n",
       "      <th>ACTIVO_LIBRE_GRAVAMEN</th>\n",
       "      <td>True</td>\n",
       "      <td>445</td>\n",
       "      <td>object</td>\n",
       "      <td>48.2</td>\n",
       "    </tr>\n",
       "    <tr>\n",
       "      <th>PROYECCION_INVERSION</th>\n",
       "      <td>True</td>\n",
       "      <td>625</td>\n",
       "      <td>float64</td>\n",
       "      <td>67.7</td>\n",
       "    </tr>\n",
       "    <tr>\n",
       "      <th>PROYECCION_VENTAS</th>\n",
       "      <td>True</td>\n",
       "      <td>804</td>\n",
       "      <td>float64</td>\n",
       "      <td>87.1</td>\n",
       "    </tr>\n",
       "    <tr>\n",
       "      <th>FECHA_ACTUALIZACION</th>\n",
       "      <td>False</td>\n",
       "      <td>0</td>\n",
       "      <td>datetime64[ns]</td>\n",
       "      <td>0.0</td>\n",
       "    </tr>\n",
       "    <tr>\n",
       "      <th>PROCEDENCIA_MPRIMA</th>\n",
       "      <td>True</td>\n",
       "      <td>256</td>\n",
       "      <td>object</td>\n",
       "      <td>27.7</td>\n",
       "    </tr>\n",
       "    <tr>\n",
       "      <th>LINEA_SUCESION_FLAG</th>\n",
       "      <td>True</td>\n",
       "      <td>1</td>\n",
       "      <td>object</td>\n",
       "      <td>0.1</td>\n",
       "    </tr>\n",
       "    <tr>\n",
       "      <th>LINEA_SUCESION</th>\n",
       "      <td>True</td>\n",
       "      <td>445</td>\n",
       "      <td>object</td>\n",
       "      <td>48.2</td>\n",
       "    </tr>\n",
       "    <tr>\n",
       "      <th>CAMBIO_GERENCIA_GENERAL_ANNIO</th>\n",
       "      <td>True</td>\n",
       "      <td>921</td>\n",
       "      <td>float64</td>\n",
       "      <td>99.8</td>\n",
       "    </tr>\n",
       "    <tr>\n",
       "      <th>CAMBIO_ACCIONISTAS_ANNIO</th>\n",
       "      <td>True</td>\n",
       "      <td>921</td>\n",
       "      <td>float64</td>\n",
       "      <td>99.8</td>\n",
       "    </tr>\n",
       "    <tr>\n",
       "      <th>INICIO_IBK</th>\n",
       "      <td>True</td>\n",
       "      <td>75</td>\n",
       "      <td>float64</td>\n",
       "      <td>8.1</td>\n",
       "    </tr>\n",
       "    <tr>\n",
       "      <th>INICIO_OP</th>\n",
       "      <td>True</td>\n",
       "      <td>77</td>\n",
       "      <td>float64</td>\n",
       "      <td>8.3</td>\n",
       "    </tr>\n",
       "  </tbody>\n",
       "</table>\n",
       "</div>"
      ],
      "text/plain": [
       "                               Nulos  Cantidad        Tipo Col  \\\n",
       "COD_UNICO                      False         0          object   \n",
       "ACTIVIDAD                       True        11          object   \n",
       "SUBSECTOR                       True        21          object   \n",
       "BACKLOG                         True        39          object   \n",
       "MODELO_NEGOCIO                  True         6          object   \n",
       "VENTAJA_COMPETITIVA             True        25          object   \n",
       "FORTALEZAS_RIESGOS              True        35          object   \n",
       "INTEGRACION_VERTICAL            True       923          object   \n",
       "GESTION_COMPRAS                 True       864          object   \n",
       "REGISTRO                       False         0          object   \n",
       "GERENTE_GENERAL                 True        26          object   \n",
       "GERENTE_FINANCIERO_TIPO         True       172          object   \n",
       "GERENTE_FINANCIERO_NOMBRE       True       239          object   \n",
       "TIPO_CONTABILIDAD              False         0          object   \n",
       "MONTO_LINEA_PROVEEDORES         True       445         float64   \n",
       "ACTIVO_LIBRE_GRAVAMEN           True       445          object   \n",
       "PROYECCION_INVERSION            True       625         float64   \n",
       "PROYECCION_VENTAS               True       804         float64   \n",
       "FECHA_ACTUALIZACION            False         0  datetime64[ns]   \n",
       "PROCEDENCIA_MPRIMA              True       256          object   \n",
       "LINEA_SUCESION_FLAG             True         1          object   \n",
       "LINEA_SUCESION                  True       445          object   \n",
       "CAMBIO_GERENCIA_GENERAL_ANNIO   True       921         float64   \n",
       "CAMBIO_ACCIONISTAS_ANNIO        True       921         float64   \n",
       "INICIO_IBK                      True        75         float64   \n",
       "INICIO_OP                       True        77         float64   \n",
       "\n",
       "                               Porcentaje de nulos  \n",
       "COD_UNICO                                      0.0  \n",
       "ACTIVIDAD                                      1.2  \n",
       "SUBSECTOR                                      2.3  \n",
       "BACKLOG                                        4.2  \n",
       "MODELO_NEGOCIO                                 0.7  \n",
       "VENTAJA_COMPETITIVA                            2.7  \n",
       "FORTALEZAS_RIESGOS                             3.8  \n",
       "INTEGRACION_VERTICAL                         100.0  \n",
       "GESTION_COMPRAS                               93.6  \n",
       "REGISTRO                                       0.0  \n",
       "GERENTE_GENERAL                                2.8  \n",
       "GERENTE_FINANCIERO_TIPO                       18.6  \n",
       "GERENTE_FINANCIERO_NOMBRE                     25.9  \n",
       "TIPO_CONTABILIDAD                              0.0  \n",
       "MONTO_LINEA_PROVEEDORES                       48.2  \n",
       "ACTIVO_LIBRE_GRAVAMEN                         48.2  \n",
       "PROYECCION_INVERSION                          67.7  \n",
       "PROYECCION_VENTAS                             87.1  \n",
       "FECHA_ACTUALIZACION                            0.0  \n",
       "PROCEDENCIA_MPRIMA                            27.7  \n",
       "LINEA_SUCESION_FLAG                            0.1  \n",
       "LINEA_SUCESION                                48.2  \n",
       "CAMBIO_GERENCIA_GENERAL_ANNIO                 99.8  \n",
       "CAMBIO_ACCIONISTAS_ANNIO                      99.8  \n",
       "INICIO_IBK                                     8.1  \n",
       "INICIO_OP                                      8.3  "
      ]
     },
     "execution_count": 7,
     "metadata": {},
     "output_type": "execute_result"
    }
   ],
   "source": [
    "pd.set_option('display.max_rows', 500)\n",
    "null_verificator(conoceme)"
   ]
  },
  {
   "cell_type": "code",
   "execution_count": 8,
   "metadata": {},
   "outputs": [
    {
     "data": {
      "text/plain": [
       "<matplotlib.axes._subplots.AxesSubplot at 0x1624445d608>"
      ]
     },
     "execution_count": 8,
     "metadata": {},
     "output_type": "execute_result"
    },
    {
     "data": {
      "image/png": "[encoded data removed]",
      "text/plain": [
       "<Figure size 1800x720 with 2 Axes>"
      ]
     },
     "metadata": {
      "needs_background": "light"
     },
     "output_type": "display_data"
    }
   ],
   "source": [
    "msno.matrix(conoceme,  labels=True)"
   ]
  },
  {
   "cell_type": "code",
   "execution_count": null,
   "metadata": {},
   "outputs": [],
   "source": []
  },
  {
   "cell_type": "markdown",
   "metadata": {},
   "source": [
    "## ANALISIS DETALLADO"
   ]
  },
  {
   "cell_type": "markdown",
   "metadata": {},
   "source": [
    "### 1- Código Único"
   ]
  },
  {
   "cell_type": "code",
   "execution_count": 9,
   "metadata": {},
   "outputs": [
    {
     "data": {
      "text/plain": [
       "'DATA LIMPIA DE NULOS'"
      ]
     },
     "execution_count": 9,
     "metadata": {},
     "output_type": "execute_result"
    }
   ],
   "source": [
    "null_verificator(pd.DataFrame(conoceme['COD_UNICO']))"
   ]
  },
  {
   "cell_type": "markdown",
   "metadata": {},
   "source": [
    "#### NOTA: Este es el indicador con el cual podré cruzar información en todos los registros del banco y se aprecia completo"
   ]
  },
  {
   "cell_type": "markdown",
   "metadata": {},
   "source": [
    "### >> Revisión de unicidad "
   ]
  },
  {
   "cell_type": "code",
   "execution_count": 10,
   "metadata": {},
   "outputs": [
    {
     "data": {
      "text/plain": [
       "((923, 26), (915,))"
      ]
     },
     "execution_count": 10,
     "metadata": {},
     "output_type": "execute_result"
    }
   ],
   "source": [
    "conoceme.shape, conoceme['COD_UNICO'].unique().shape"
   ]
  },
  {
   "cell_type": "markdown",
   "metadata": {},
   "source": [
    "#### NOTA: No se respeta la unicidad del código único"
   ]
  },
  {
   "cell_type": "code",
   "execution_count": 11,
   "metadata": {},
   "outputs": [
    {
     "data": {
      "text/plain": [
       "COD_UNICO\n",
       "0008612010    2\n",
       "0009744613    3\n",
       "0011874942    5\n",
       "0013812756    2\n",
       "dtype: int64"
      ]
     },
     "execution_count": 11,
     "metadata": {},
     "output_type": "execute_result"
    }
   ],
   "source": [
    "valdiacion_unicidad = conoceme.groupby(by=['COD_UNICO']).size()\n",
    "valdiacion_unicidad[valdiacion_unicidad > 1]"
   ]
  },
  {
   "cell_type": "markdown",
   "metadata": {},
   "source": [
    "#### >> revisión específica de caso de duplicidad de código único"
   ]
  },
  {
   "cell_type": "code",
   "execution_count": 12,
   "metadata": {},
   "outputs": [
    {
     "data": {
      "text/html": [
       "<div>\n",
       "<style scoped>\n",
       "    .dataframe tbody tr th:only-of-type {\n",
       "        vertical-align: middle;\n",
       "    }\n",
       "\n",
       "    .dataframe tbody tr th {\n",
       "        vertical-align: top;\n",
       "    }\n",
       "\n",
       "    .dataframe thead th {\n",
       "        text-align: right;\n",
       "    }\n",
       "</style>\n",
       "<table border=\"1\" class=\"dataframe\">\n",
       "  <thead>\n",
       "    <tr style=\"text-align: right;\">\n",
       "      <th></th>\n",
       "      <th>COD_UNICO</th>\n",
       "      <th>ACTIVIDAD</th>\n",
       "      <th>SUBSECTOR</th>\n",
       "      <th>BACKLOG</th>\n",
       "      <th>MODELO_NEGOCIO</th>\n",
       "      <th>VENTAJA_COMPETITIVA</th>\n",
       "      <th>FORTALEZAS_RIESGOS</th>\n",
       "      <th>INTEGRACION_VERTICAL</th>\n",
       "      <th>GESTION_COMPRAS</th>\n",
       "      <th>REGISTRO</th>\n",
       "      <th>...</th>\n",
       "      <th>PROYECCION_INVERSION</th>\n",
       "      <th>PROYECCION_VENTAS</th>\n",
       "      <th>FECHA_ACTUALIZACION</th>\n",
       "      <th>PROCEDENCIA_MPRIMA</th>\n",
       "      <th>LINEA_SUCESION_FLAG</th>\n",
       "      <th>LINEA_SUCESION</th>\n",
       "      <th>CAMBIO_GERENCIA_GENERAL_ANNIO</th>\n",
       "      <th>CAMBIO_ACCIONISTAS_ANNIO</th>\n",
       "      <th>INICIO_IBK</th>\n",
       "      <th>INICIO_OP</th>\n",
       "    </tr>\n",
       "  </thead>\n",
       "  <tbody>\n",
       "    <tr>\n",
       "      <th>496</th>\n",
       "      <td>0011874942</td>\n",
       "      <td>Industria</td>\n",
       "      <td>Textil y calzado</td>\n",
       "      <td>Servicios</td>\n",
       "      <td>CONFECCIÓN DE PRENDAS INDUSTRIAS Y DE SEGURIDAD</td>\n",
       "      <td>ALTO NIVEL EN CONFECCIÓN DE SUS PRENDAS QUE LE...</td>\n",
       "      <td>- MAS DE 15 AÑOS DE EXPERIENCIA EN EL MERCADO\\...</td>\n",
       "      <td>None</td>\n",
       "      <td>None</td>\n",
       "      <td>B30605</td>\n",
       "      <td>...</td>\n",
       "      <td>200.0</td>\n",
       "      <td>NaN</td>\n",
       "      <td>2020-08-18</td>\n",
       "      <td>Local</td>\n",
       "      <td>0</td>\n",
       "      <td>0</td>\n",
       "      <td>NaN</td>\n",
       "      <td>NaN</td>\n",
       "      <td>2016.0</td>\n",
       "      <td>2017.0</td>\n",
       "    </tr>\n",
       "    <tr>\n",
       "      <th>507</th>\n",
       "      <td>0011874942</td>\n",
       "      <td>Industria</td>\n",
       "      <td>Textil y calzado</td>\n",
       "      <td>Servicios</td>\n",
       "      <td>CONFECCIÓN DE PRENDAS INDUSTRIAS Y DE SEGURIDAD</td>\n",
       "      <td>ALTO NIVEL EN CONFECCIÓN DE SUS PRENDAS QUE LE...</td>\n",
       "      <td>- MAS DE 15 AÑOS DE EXPERIENCIA EN EL MERCADO\\...</td>\n",
       "      <td>None</td>\n",
       "      <td>None</td>\n",
       "      <td>B30605</td>\n",
       "      <td>...</td>\n",
       "      <td>200.0</td>\n",
       "      <td>NaN</td>\n",
       "      <td>2020-08-18</td>\n",
       "      <td>Local</td>\n",
       "      <td>0</td>\n",
       "      <td>0</td>\n",
       "      <td>NaN</td>\n",
       "      <td>NaN</td>\n",
       "      <td>2016.0</td>\n",
       "      <td>2017.0</td>\n",
       "    </tr>\n",
       "    <tr>\n",
       "      <th>508</th>\n",
       "      <td>0011874942</td>\n",
       "      <td>Industria</td>\n",
       "      <td>Textil y calzado</td>\n",
       "      <td>Servicios</td>\n",
       "      <td>CONFECCIÓN DE PRENDAS INDUSTRIAS Y DE SEGURIDAD</td>\n",
       "      <td>ALTO NIVEL EN CONFECCIÓN DE SUS PRENDAS QUE LE...</td>\n",
       "      <td>- MAS DE 15 AÑOS DE EXPERIENCIA EN EL MERCADO\\...</td>\n",
       "      <td>None</td>\n",
       "      <td>None</td>\n",
       "      <td>B30605</td>\n",
       "      <td>...</td>\n",
       "      <td>200.0</td>\n",
       "      <td>NaN</td>\n",
       "      <td>2020-08-18</td>\n",
       "      <td>Local</td>\n",
       "      <td>0</td>\n",
       "      <td>0</td>\n",
       "      <td>NaN</td>\n",
       "      <td>NaN</td>\n",
       "      <td>2016.0</td>\n",
       "      <td>2017.0</td>\n",
       "    </tr>\n",
       "    <tr>\n",
       "      <th>509</th>\n",
       "      <td>0011874942</td>\n",
       "      <td>Industria</td>\n",
       "      <td>Textil y calzado</td>\n",
       "      <td>Servicios</td>\n",
       "      <td>CONFECCIÓN DE PRENDAS INDUSTRIAS Y DE SEGURIDAD</td>\n",
       "      <td>ALTO NIVEL EN CONFECCIÓN DE SUS PRENDAS QUE LE...</td>\n",
       "      <td>- MAS DE 15 AÑOS DE EXPERIENCIA EN EL MERCADO\\...</td>\n",
       "      <td>None</td>\n",
       "      <td>None</td>\n",
       "      <td>B30605</td>\n",
       "      <td>...</td>\n",
       "      <td>200.0</td>\n",
       "      <td>NaN</td>\n",
       "      <td>2020-08-18</td>\n",
       "      <td>Local</td>\n",
       "      <td>0</td>\n",
       "      <td>0</td>\n",
       "      <td>NaN</td>\n",
       "      <td>NaN</td>\n",
       "      <td>2016.0</td>\n",
       "      <td>2017.0</td>\n",
       "    </tr>\n",
       "    <tr>\n",
       "      <th>512</th>\n",
       "      <td>0011874942</td>\n",
       "      <td>Industria</td>\n",
       "      <td>Textil y calzado</td>\n",
       "      <td>Servicios</td>\n",
       "      <td>CONFECCIÓN DE PRENDAS INDUSTRIAS Y DE SEGURIDAD</td>\n",
       "      <td>ALTO NIVEL EN CONFECCIÓN DE SUS PRENDAS QUE LE...</td>\n",
       "      <td>- MAS DE 15 AÑOS DE EXPERIENCIA EN EL MERCADO\\...</td>\n",
       "      <td>None</td>\n",
       "      <td>None</td>\n",
       "      <td>B30605</td>\n",
       "      <td>...</td>\n",
       "      <td>200.0</td>\n",
       "      <td>NaN</td>\n",
       "      <td>2020-08-18</td>\n",
       "      <td>Local</td>\n",
       "      <td>0</td>\n",
       "      <td>0</td>\n",
       "      <td>NaN</td>\n",
       "      <td>NaN</td>\n",
       "      <td>2016.0</td>\n",
       "      <td>2017.0</td>\n",
       "    </tr>\n",
       "  </tbody>\n",
       "</table>\n",
       "<p>5 rows × 26 columns</p>\n",
       "</div>"
      ],
      "text/plain": [
       "      COD_UNICO  ACTIVIDAD         SUBSECTOR    BACKLOG  \\\n",
       "496  0011874942  Industria  Textil y calzado  Servicios   \n",
       "507  0011874942  Industria  Textil y calzado  Servicios   \n",
       "508  0011874942  Industria  Textil y calzado  Servicios   \n",
       "509  0011874942  Industria  Textil y calzado  Servicios   \n",
       "512  0011874942  Industria  Textil y calzado  Servicios   \n",
       "\n",
       "                                      MODELO_NEGOCIO  \\\n",
       "496  CONFECCIÓN DE PRENDAS INDUSTRIAS Y DE SEGURIDAD   \n",
       "507  CONFECCIÓN DE PRENDAS INDUSTRIAS Y DE SEGURIDAD   \n",
       "508  CONFECCIÓN DE PRENDAS INDUSTRIAS Y DE SEGURIDAD   \n",
       "509  CONFECCIÓN DE PRENDAS INDUSTRIAS Y DE SEGURIDAD   \n",
       "512  CONFECCIÓN DE PRENDAS INDUSTRIAS Y DE SEGURIDAD   \n",
       "\n",
       "                                   VENTAJA_COMPETITIVA  \\\n",
       "496  ALTO NIVEL EN CONFECCIÓN DE SUS PRENDAS QUE LE...   \n",
       "507  ALTO NIVEL EN CONFECCIÓN DE SUS PRENDAS QUE LE...   \n",
       "508  ALTO NIVEL EN CONFECCIÓN DE SUS PRENDAS QUE LE...   \n",
       "509  ALTO NIVEL EN CONFECCIÓN DE SUS PRENDAS QUE LE...   \n",
       "512  ALTO NIVEL EN CONFECCIÓN DE SUS PRENDAS QUE LE...   \n",
       "\n",
       "                                    FORTALEZAS_RIESGOS INTEGRACION_VERTICAL  \\\n",
       "496  - MAS DE 15 AÑOS DE EXPERIENCIA EN EL MERCADO\\...                 None   \n",
       "507  - MAS DE 15 AÑOS DE EXPERIENCIA EN EL MERCADO\\...                 None   \n",
       "508  - MAS DE 15 AÑOS DE EXPERIENCIA EN EL MERCADO\\...                 None   \n",
       "509  - MAS DE 15 AÑOS DE EXPERIENCIA EN EL MERCADO\\...                 None   \n",
       "512  - MAS DE 15 AÑOS DE EXPERIENCIA EN EL MERCADO\\...                 None   \n",
       "\n",
       "    GESTION_COMPRAS REGISTRO  ... PROYECCION_INVERSION PROYECCION_VENTAS  \\\n",
       "496            None   B30605  ...                200.0               NaN   \n",
       "507            None   B30605  ...                200.0               NaN   \n",
       "508            None   B30605  ...                200.0               NaN   \n",
       "509            None   B30605  ...                200.0               NaN   \n",
       "512            None   B30605  ...                200.0               NaN   \n",
       "\n",
       "    FECHA_ACTUALIZACION PROCEDENCIA_MPRIMA  LINEA_SUCESION_FLAG  \\\n",
       "496          2020-08-18              Local                    0   \n",
       "507          2020-08-18              Local                    0   \n",
       "508          2020-08-18              Local                    0   \n",
       "509          2020-08-18              Local                    0   \n",
       "512          2020-08-18              Local                    0   \n",
       "\n",
       "    LINEA_SUCESION  CAMBIO_GERENCIA_GENERAL_ANNIO  CAMBIO_ACCIONISTAS_ANNIO  \\\n",
       "496              0                            NaN                       NaN   \n",
       "507              0                            NaN                       NaN   \n",
       "508              0                            NaN                       NaN   \n",
       "509              0                            NaN                       NaN   \n",
       "512              0                            NaN                       NaN   \n",
       "\n",
       "    INICIO_IBK INICIO_OP  \n",
       "496     2016.0    2017.0  \n",
       "507     2016.0    2017.0  \n",
       "508     2016.0    2017.0  \n",
       "509     2016.0    2017.0  \n",
       "512     2016.0    2017.0  \n",
       "\n",
       "[5 rows x 26 columns]"
      ]
     },
     "execution_count": 12,
     "metadata": {},
     "output_type": "execute_result"
    }
   ],
   "source": [
    "conoceme[conoceme['COD_UNICO'] == '0011874942']"
   ]
  },
  {
   "cell_type": "markdown",
   "metadata": {},
   "source": [
    "#### >> FORMATO"
   ]
  },
  {
   "cell_type": "code",
   "execution_count": 13,
   "metadata": {},
   "outputs": [
    {
     "data": {
      "text/plain": [
       "10    923\n",
       "Name: len_codigo_unico, dtype: int64"
      ]
     },
     "execution_count": 13,
     "metadata": {},
     "output_type": "execute_result"
    }
   ],
   "source": [
    "conoceme['len_codigo_unico'] = conoceme['COD_UNICO'].apply(lambda _: len(_))\n",
    "conoceme['len_codigo_unico'].value_counts()"
   ]
  },
  {
   "cell_type": "markdown",
   "metadata": {},
   "source": [
    "#### NOTA: Todos los valores de código único son de tamaño 10, formato uniforme"
   ]
  },
  {
   "cell_type": "code",
   "execution_count": null,
   "metadata": {},
   "outputs": [],
   "source": []
  },
  {
   "cell_type": "markdown",
   "metadata": {},
   "source": [
    "## 2- ACTIVIDAD - SUBSEECTOR"
   ]
  },
  {
   "cell_type": "code",
   "execution_count": null,
   "metadata": {},
   "outputs": [],
   "source": [
    "ho: TODOS LOS CLIENTES CON UN GESTION FINANCIERA como tipo asesor son mas riesgosas ...."
   ]
  },
  {
   "cell_type": "code",
   "execution_count": 14,
   "metadata": {},
   "outputs": [
    {
     "data": {
      "text/html": [
       "<div>\n",
       "<style scoped>\n",
       "    .dataframe tbody tr th:only-of-type {\n",
       "        vertical-align: middle;\n",
       "    }\n",
       "\n",
       "    .dataframe tbody tr th {\n",
       "        vertical-align: top;\n",
       "    }\n",
       "\n",
       "    .dataframe thead th {\n",
       "        text-align: right;\n",
       "    }\n",
       "</style>\n",
       "<table border=\"1\" class=\"dataframe\">\n",
       "  <thead>\n",
       "    <tr style=\"text-align: right;\">\n",
       "      <th></th>\n",
       "      <th>Nulos</th>\n",
       "      <th>Cantidad</th>\n",
       "      <th>Tipo Col</th>\n",
       "      <th>Porcentaje de nulos</th>\n",
       "    </tr>\n",
       "  </thead>\n",
       "  <tbody>\n",
       "    <tr>\n",
       "      <th>ACTIVIDAD</th>\n",
       "      <td>True</td>\n",
       "      <td>11</td>\n",
       "      <td>object</td>\n",
       "      <td>1.2</td>\n",
       "    </tr>\n",
       "    <tr>\n",
       "      <th>SUBSECTOR</th>\n",
       "      <td>True</td>\n",
       "      <td>21</td>\n",
       "      <td>object</td>\n",
       "      <td>2.3</td>\n",
       "    </tr>\n",
       "  </tbody>\n",
       "</table>\n",
       "</div>"
      ],
      "text/plain": [
       "           Nulos  Cantidad Tipo Col  Porcentaje de nulos\n",
       "ACTIVIDAD   True        11   object                  1.2\n",
       "SUBSECTOR   True        21   object                  2.3"
      ]
     },
     "execution_count": 14,
     "metadata": {},
     "output_type": "execute_result"
    }
   ],
   "source": [
    "null_verificator(pd.DataFrame(conoceme[['ACTIVIDAD', 'SUBSECTOR']]))"
   ]
  },
  {
   "cell_type": "markdown",
   "metadata": {},
   "source": [
    "#### ¿Cuantos son nulos al mismo tiempo?"
   ]
  },
  {
   "cell_type": "code",
   "execution_count": 15,
   "metadata": {},
   "outputs": [
    {
     "data": {
      "text/html": [
       "<div>\n",
       "<style scoped>\n",
       "    .dataframe tbody tr th:only-of-type {\n",
       "        vertical-align: middle;\n",
       "    }\n",
       "\n",
       "    .dataframe tbody tr th {\n",
       "        vertical-align: top;\n",
       "    }\n",
       "\n",
       "    .dataframe thead th {\n",
       "        text-align: right;\n",
       "    }\n",
       "</style>\n",
       "<table border=\"1\" class=\"dataframe\">\n",
       "  <thead>\n",
       "    <tr style=\"text-align: right;\">\n",
       "      <th>SUBSECTOR</th>\n",
       "      <th>False</th>\n",
       "      <th>True</th>\n",
       "    </tr>\n",
       "    <tr>\n",
       "      <th>ACTIVIDAD</th>\n",
       "      <th></th>\n",
       "      <th></th>\n",
       "    </tr>\n",
       "  </thead>\n",
       "  <tbody>\n",
       "    <tr>\n",
       "      <th>False</th>\n",
       "      <td>901</td>\n",
       "      <td>11</td>\n",
       "    </tr>\n",
       "    <tr>\n",
       "      <th>True</th>\n",
       "      <td>1</td>\n",
       "      <td>10</td>\n",
       "    </tr>\n",
       "  </tbody>\n",
       "</table>\n",
       "</div>"
      ],
      "text/plain": [
       "SUBSECTOR  False  True \n",
       "ACTIVIDAD              \n",
       "False        901     11\n",
       "True           1     10"
      ]
     },
     "execution_count": 15,
     "metadata": {},
     "output_type": "execute_result"
    }
   ],
   "source": [
    "pd.crosstab(\n",
    "    conoceme['ACTIVIDAD'].isnull(), conoceme['SUBSECTOR'].isnull(), margins= False\n",
    ")"
   ]
  },
  {
   "cell_type": "markdown",
   "metadata": {},
   "source": [
    "#### ¿Quienes son?"
   ]
  },
  {
   "cell_type": "code",
   "execution_count": 16,
   "metadata": {},
   "outputs": [
    {
     "data": {
      "text/html": [
       "<div>\n",
       "<style scoped>\n",
       "    .dataframe tbody tr th:only-of-type {\n",
       "        vertical-align: middle;\n",
       "    }\n",
       "\n",
       "    .dataframe tbody tr th {\n",
       "        vertical-align: top;\n",
       "    }\n",
       "\n",
       "    .dataframe thead th {\n",
       "        text-align: right;\n",
       "    }\n",
       "</style>\n",
       "<table border=\"1\" class=\"dataframe\">\n",
       "  <thead>\n",
       "    <tr style=\"text-align: right;\">\n",
       "      <th></th>\n",
       "      <th>COD_UNICO</th>\n",
       "      <th>ACTIVIDAD</th>\n",
       "      <th>SUBSECTOR</th>\n",
       "      <th>BACKLOG</th>\n",
       "      <th>MODELO_NEGOCIO</th>\n",
       "      <th>VENTAJA_COMPETITIVA</th>\n",
       "      <th>FORTALEZAS_RIESGOS</th>\n",
       "      <th>INTEGRACION_VERTICAL</th>\n",
       "      <th>GESTION_COMPRAS</th>\n",
       "      <th>REGISTRO</th>\n",
       "      <th>...</th>\n",
       "      <th>PROYECCION_VENTAS</th>\n",
       "      <th>FECHA_ACTUALIZACION</th>\n",
       "      <th>PROCEDENCIA_MPRIMA</th>\n",
       "      <th>LINEA_SUCESION_FLAG</th>\n",
       "      <th>LINEA_SUCESION</th>\n",
       "      <th>CAMBIO_GERENCIA_GENERAL_ANNIO</th>\n",
       "      <th>CAMBIO_ACCIONISTAS_ANNIO</th>\n",
       "      <th>INICIO_IBK</th>\n",
       "      <th>INICIO_OP</th>\n",
       "      <th>len_codigo_unico</th>\n",
       "    </tr>\n",
       "  </thead>\n",
       "  <tbody>\n",
       "    <tr>\n",
       "      <th>35</th>\n",
       "      <td>0010856041</td>\n",
       "      <td>None</td>\n",
       "      <td>None</td>\n",
       "      <td>None</td>\n",
       "      <td>Empresa constituida en 1999, para dedicarse a ...</td>\n",
       "      <td>El cliente cuenta con 6 marcas propias en el R...</td>\n",
       "      <td>Cuenta con alto nivel de existencias.\\r\\nDada ...</td>\n",
       "      <td>None</td>\n",
       "      <td>None</td>\n",
       "      <td>B36512</td>\n",
       "      <td>...</td>\n",
       "      <td>NaN</td>\n",
       "      <td>2020-09-27 21:17:33</td>\n",
       "      <td>Exterior</td>\n",
       "      <td>0</td>\n",
       "      <td>None</td>\n",
       "      <td>NaN</td>\n",
       "      <td>NaN</td>\n",
       "      <td>2008.0</td>\n",
       "      <td>1999.0</td>\n",
       "      <td>10</td>\n",
       "    </tr>\n",
       "    <tr>\n",
       "      <th>139</th>\n",
       "      <td>0014223425</td>\n",
       "      <td>None</td>\n",
       "      <td>None</td>\n",
       "      <td>None</td>\n",
       "      <td>None</td>\n",
       "      <td>None</td>\n",
       "      <td>None</td>\n",
       "      <td>None</td>\n",
       "      <td>None</td>\n",
       "      <td>B17638</td>\n",
       "      <td>...</td>\n",
       "      <td>NaN</td>\n",
       "      <td>2020-09-11 12:49:27</td>\n",
       "      <td>None</td>\n",
       "      <td>0</td>\n",
       "      <td>None</td>\n",
       "      <td>NaN</td>\n",
       "      <td>NaN</td>\n",
       "      <td>NaN</td>\n",
       "      <td>NaN</td>\n",
       "      <td>10</td>\n",
       "    </tr>\n",
       "    <tr>\n",
       "      <th>144</th>\n",
       "      <td>0015287009</td>\n",
       "      <td>None</td>\n",
       "      <td>None</td>\n",
       "      <td>None</td>\n",
       "      <td>ESTACIONES DE SERVICIO / CADENA DE GRIFOS</td>\n",
       "      <td>UBICACIÓN ESTRATÉGICA</td>\n",
       "      <td>AMPLIA RELACIÓN CON SUS CLIENTES</td>\n",
       "      <td>None</td>\n",
       "      <td>None</td>\n",
       "      <td>B38098</td>\n",
       "      <td>...</td>\n",
       "      <td>NaN</td>\n",
       "      <td>2020-09-10 21:00:27</td>\n",
       "      <td>Local</td>\n",
       "      <td>0</td>\n",
       "      <td>None</td>\n",
       "      <td>NaN</td>\n",
       "      <td>NaN</td>\n",
       "      <td>NaN</td>\n",
       "      <td>NaN</td>\n",
       "      <td>10</td>\n",
       "    </tr>\n",
       "    <tr>\n",
       "      <th>214</th>\n",
       "      <td>0010821635</td>\n",
       "      <td>None</td>\n",
       "      <td>None</td>\n",
       "      <td>None</td>\n",
       "      <td>Empresa dedicada a la importación de productos...</td>\n",
       "      <td>Cliente con marca propia en el mercado con más...</td>\n",
       "      <td>Clientes fidelizados desde hace más de 5 años ...</td>\n",
       "      <td>None</td>\n",
       "      <td>None</td>\n",
       "      <td>B36512</td>\n",
       "      <td>...</td>\n",
       "      <td>NaN</td>\n",
       "      <td>2020-09-03 00:00:00</td>\n",
       "      <td>Exterior</td>\n",
       "      <td>0</td>\n",
       "      <td>0</td>\n",
       "      <td>NaN</td>\n",
       "      <td>NaN</td>\n",
       "      <td>NaN</td>\n",
       "      <td>NaN</td>\n",
       "      <td>10</td>\n",
       "    </tr>\n",
       "    <tr>\n",
       "      <th>244</th>\n",
       "      <td>0000232207</td>\n",
       "      <td>None</td>\n",
       "      <td>None</td>\n",
       "      <td>None</td>\n",
       "      <td>dedicada a la importación y comercialización d...</td>\n",
       "      <td>-\\tRelación y trato directo con sus proveedore...</td>\n",
       "      <td>-\\tEmpresa con más de 40 años en el mercado. (...</td>\n",
       "      <td>None</td>\n",
       "      <td>None</td>\n",
       "      <td>B23576</td>\n",
       "      <td>...</td>\n",
       "      <td>NaN</td>\n",
       "      <td>2020-08-31 00:00:00</td>\n",
       "      <td>None</td>\n",
       "      <td>0</td>\n",
       "      <td>0</td>\n",
       "      <td>NaN</td>\n",
       "      <td>NaN</td>\n",
       "      <td>2010.0</td>\n",
       "      <td>1973.0</td>\n",
       "      <td>10</td>\n",
       "    </tr>\n",
       "    <tr>\n",
       "      <th>479</th>\n",
       "      <td>0014120811</td>\n",
       "      <td>None</td>\n",
       "      <td>None</td>\n",
       "      <td>None</td>\n",
       "      <td>None</td>\n",
       "      <td>None</td>\n",
       "      <td>None</td>\n",
       "      <td>None</td>\n",
       "      <td>None</td>\n",
       "      <td>B36503</td>\n",
       "      <td>...</td>\n",
       "      <td>NaN</td>\n",
       "      <td>2020-08-19 11:09:27</td>\n",
       "      <td>None</td>\n",
       "      <td>0</td>\n",
       "      <td>None</td>\n",
       "      <td>NaN</td>\n",
       "      <td>NaN</td>\n",
       "      <td>NaN</td>\n",
       "      <td>NaN</td>\n",
       "      <td>10</td>\n",
       "    </tr>\n",
       "    <tr>\n",
       "      <th>590</th>\n",
       "      <td>0006894786</td>\n",
       "      <td>None</td>\n",
       "      <td>None</td>\n",
       "      <td>None</td>\n",
       "      <td>Keyperu es una empresa del rubro de agro-expor...</td>\n",
       "      <td>Keyperu mantiene una alianza estratégica con s...</td>\n",
       "      <td>Fortaleza: Cuenta con certificados de acredita...</td>\n",
       "      <td>None</td>\n",
       "      <td>None</td>\n",
       "      <td>B36512</td>\n",
       "      <td>...</td>\n",
       "      <td>21600.0</td>\n",
       "      <td>2020-07-27 00:00:00</td>\n",
       "      <td>Local</td>\n",
       "      <td>0</td>\n",
       "      <td>0</td>\n",
       "      <td>NaN</td>\n",
       "      <td>NaN</td>\n",
       "      <td>NaN</td>\n",
       "      <td>NaN</td>\n",
       "      <td>10</td>\n",
       "    </tr>\n",
       "    <tr>\n",
       "      <th>650</th>\n",
       "      <td>0010196354</td>\n",
       "      <td>None</td>\n",
       "      <td>None</td>\n",
       "      <td>None</td>\n",
       "      <td>Empresa dedicada a la venta al por mayor y men...</td>\n",
       "      <td>experiencia en el sector de más de 25 años</td>\n",
       "      <td>experiencia en el sector de más de 25 años y f...</td>\n",
       "      <td>None</td>\n",
       "      <td>None</td>\n",
       "      <td>B37246</td>\n",
       "      <td>...</td>\n",
       "      <td>NaN</td>\n",
       "      <td>2020-07-21 00:00:00</td>\n",
       "      <td>None</td>\n",
       "      <td>0</td>\n",
       "      <td>0</td>\n",
       "      <td>NaN</td>\n",
       "      <td>NaN</td>\n",
       "      <td>NaN</td>\n",
       "      <td>NaN</td>\n",
       "      <td>10</td>\n",
       "    </tr>\n",
       "    <tr>\n",
       "      <th>658</th>\n",
       "      <td>0011793990</td>\n",
       "      <td>None</td>\n",
       "      <td>None</td>\n",
       "      <td>None</td>\n",
       "      <td>None</td>\n",
       "      <td>None</td>\n",
       "      <td>None</td>\n",
       "      <td>None</td>\n",
       "      <td>None</td>\n",
       "      <td>B30438</td>\n",
       "      <td>...</td>\n",
       "      <td>NaN</td>\n",
       "      <td>2020-07-20 12:49:38</td>\n",
       "      <td>None</td>\n",
       "      <td>0</td>\n",
       "      <td>None</td>\n",
       "      <td>NaN</td>\n",
       "      <td>NaN</td>\n",
       "      <td>NaN</td>\n",
       "      <td>NaN</td>\n",
       "      <td>10</td>\n",
       "    </tr>\n",
       "    <tr>\n",
       "      <th>879</th>\n",
       "      <td>0014895013</td>\n",
       "      <td>None</td>\n",
       "      <td>None</td>\n",
       "      <td>None</td>\n",
       "      <td>None</td>\n",
       "      <td>None</td>\n",
       "      <td>None</td>\n",
       "      <td>None</td>\n",
       "      <td>None</td>\n",
       "      <td>B25950</td>\n",
       "      <td>...</td>\n",
       "      <td>NaN</td>\n",
       "      <td>2019-12-13 16:54:46</td>\n",
       "      <td>None</td>\n",
       "      <td>0</td>\n",
       "      <td>None</td>\n",
       "      <td>NaN</td>\n",
       "      <td>NaN</td>\n",
       "      <td>NaN</td>\n",
       "      <td>NaN</td>\n",
       "      <td>10</td>\n",
       "    </tr>\n",
       "  </tbody>\n",
       "</table>\n",
       "<p>10 rows × 27 columns</p>\n",
       "</div>"
      ],
      "text/plain": [
       "      COD_UNICO ACTIVIDAD SUBSECTOR BACKLOG  \\\n",
       "35   0010856041      None      None    None   \n",
       "139  0014223425      None      None    None   \n",
       "144  0015287009      None      None    None   \n",
       "214  0010821635      None      None    None   \n",
       "244  0000232207      None      None    None   \n",
       "479  0014120811      None      None    None   \n",
       "590  0006894786      None      None    None   \n",
       "650  0010196354      None      None    None   \n",
       "658  0011793990      None      None    None   \n",
       "879  0014895013      None      None    None   \n",
       "\n",
       "                                        MODELO_NEGOCIO  \\\n",
       "35   Empresa constituida en 1999, para dedicarse a ...   \n",
       "139                                               None   \n",
       "144          ESTACIONES DE SERVICIO / CADENA DE GRIFOS   \n",
       "214  Empresa dedicada a la importación de productos...   \n",
       "244  dedicada a la importación y comercialización d...   \n",
       "479                                               None   \n",
       "590  Keyperu es una empresa del rubro de agro-expor...   \n",
       "650  Empresa dedicada a la venta al por mayor y men...   \n",
       "658                                               None   \n",
       "879                                               None   \n",
       "\n",
       "                                   VENTAJA_COMPETITIVA  \\\n",
       "35   El cliente cuenta con 6 marcas propias en el R...   \n",
       "139                                               None   \n",
       "144                              UBICACIÓN ESTRATÉGICA   \n",
       "214  Cliente con marca propia en el mercado con más...   \n",
       "244  -\\tRelación y trato directo con sus proveedore...   \n",
       "479                                               None   \n",
       "590  Keyperu mantiene una alianza estratégica con s...   \n",
       "650         experiencia en el sector de más de 25 años   \n",
       "658                                               None   \n",
       "879                                               None   \n",
       "\n",
       "                                    FORTALEZAS_RIESGOS INTEGRACION_VERTICAL  \\\n",
       "35   Cuenta con alto nivel de existencias.\\r\\nDada ...                 None   \n",
       "139                                               None                 None   \n",
       "144                   AMPLIA RELACIÓN CON SUS CLIENTES                 None   \n",
       "214  Clientes fidelizados desde hace más de 5 años ...                 None   \n",
       "244  -\\tEmpresa con más de 40 años en el mercado. (...                 None   \n",
       "479                                               None                 None   \n",
       "590  Fortaleza: Cuenta con certificados de acredita...                 None   \n",
       "650  experiencia en el sector de más de 25 años y f...                 None   \n",
       "658                                               None                 None   \n",
       "879                                               None                 None   \n",
       "\n",
       "    GESTION_COMPRAS REGISTRO  ... PROYECCION_VENTAS FECHA_ACTUALIZACION  \\\n",
       "35             None   B36512  ...               NaN 2020-09-27 21:17:33   \n",
       "139            None   B17638  ...               NaN 2020-09-11 12:49:27   \n",
       "144            None   B38098  ...               NaN 2020-09-10 21:00:27   \n",
       "214            None   B36512  ...               NaN 2020-09-03 00:00:00   \n",
       "244            None   B23576  ...               NaN 2020-08-31 00:00:00   \n",
       "479            None   B36503  ...               NaN 2020-08-19 11:09:27   \n",
       "590            None   B36512  ...           21600.0 2020-07-27 00:00:00   \n",
       "650            None   B37246  ...               NaN 2020-07-21 00:00:00   \n",
       "658            None   B30438  ...               NaN 2020-07-20 12:49:38   \n",
       "879            None   B25950  ...               NaN 2019-12-13 16:54:46   \n",
       "\n",
       "    PROCEDENCIA_MPRIMA LINEA_SUCESION_FLAG  LINEA_SUCESION  \\\n",
       "35            Exterior                   0            None   \n",
       "139               None                   0            None   \n",
       "144              Local                   0            None   \n",
       "214           Exterior                   0               0   \n",
       "244               None                   0               0   \n",
       "479               None                   0            None   \n",
       "590              Local                   0               0   \n",
       "650               None                   0               0   \n",
       "658               None                   0            None   \n",
       "879               None                   0            None   \n",
       "\n",
       "    CAMBIO_GERENCIA_GENERAL_ANNIO  CAMBIO_ACCIONISTAS_ANNIO  INICIO_IBK  \\\n",
       "35                            NaN                       NaN      2008.0   \n",
       "139                           NaN                       NaN         NaN   \n",
       "144                           NaN                       NaN         NaN   \n",
       "214                           NaN                       NaN         NaN   \n",
       "244                           NaN                       NaN      2010.0   \n",
       "479                           NaN                       NaN         NaN   \n",
       "590                           NaN                       NaN         NaN   \n",
       "650                           NaN                       NaN         NaN   \n",
       "658                           NaN                       NaN         NaN   \n",
       "879                           NaN                       NaN         NaN   \n",
       "\n",
       "    INICIO_OP len_codigo_unico  \n",
       "35     1999.0               10  \n",
       "139       NaN               10  \n",
       "144       NaN               10  \n",
       "214       NaN               10  \n",
       "244    1973.0               10  \n",
       "479       NaN               10  \n",
       "590       NaN               10  \n",
       "650       NaN               10  \n",
       "658       NaN               10  \n",
       "879       NaN               10  \n",
       "\n",
       "[10 rows x 27 columns]"
      ]
     },
     "execution_count": 16,
     "metadata": {},
     "output_type": "execute_result"
    }
   ],
   "source": [
    "activ_subsec_null = conoceme[\n",
    "    (conoceme['ACTIVIDAD'].isnull()) & (conoceme['SUBSECTOR'].isnull())\n",
    "]\n",
    "activ_subsec_null.head(10)"
   ]
  },
  {
   "cell_type": "markdown",
   "metadata": {},
   "source": [
    "#### ¿CUantos no se tiene nisiqueira la inof de modelo de negocio?"
   ]
  },
  {
   "cell_type": "code",
   "execution_count": 17,
   "metadata": {},
   "outputs": [
    {
     "data": {
      "text/plain": [
       "4"
      ]
     },
     "execution_count": 17,
     "metadata": {},
     "output_type": "execute_result"
    }
   ],
   "source": [
    "conoceme[\n",
    "    (conoceme['ACTIVIDAD'].isnull()) & (conoceme['SUBSECTOR'].isnull()) &  (conoceme['MODELO_NEGOCIO'].isnull())\n",
    "].shape[0]"
   ]
  },
  {
   "cell_type": "markdown",
   "metadata": {},
   "source": [
    "#### NOTA: Para poder entrar en análisi de SECTOR O RUBRO sería necesario completar estos casos falatantes en particular"
   ]
  },
  {
   "cell_type": "code",
   "execution_count": null,
   "metadata": {},
   "outputs": [],
   "source": []
  },
  {
   "cell_type": "markdown",
   "metadata": {},
   "source": [
    "## 3- BACKLOG"
   ]
  },
  {
   "cell_type": "markdown",
   "metadata": {},
   "source": [
    "Empresa que se maneja mediante contratos de prestación de bienes o servicios únicos durante un periodo de tiempo determinado. Esto puede ser de dos tipos\n",
    " <br/><br/>\n",
    "Backlog de Proyectos: Empresa que mantiene lista de contratos en donde el bien o servicio es distinto para cada tipo de cliente, mostrando volatilidad en el registro de facturación debido a la entrega parcial del objeto del contrato.  \n",
    "Ejemplo: Construcción del Hospital Dos de Mayo y Construcción del Hospital Alcides Carrión, la empresa construye hospitales pero cada hospital es un proyecto distinto.\n",
    "implementación de un software a medida, construcción de estructuras metalmecánicas, servicios de supervisión, consultoría de proyectos, implementación de torres de alta tensión, entre otros.\n",
    " <br/><br/>\n",
    "Backlog de Servicios: Empresa que mantiene lista de contratos en donde el bien o servicio es homogéneo para cada tipo de cliente y permite prever una estabilidad en las ventas del cliente.\n",
    "Ejemplo: Alquiler de maquinaria, transporte de personal, entre otros.\""
   ]
  },
  {
   "cell_type": "code",
   "execution_count": 18,
   "metadata": {},
   "outputs": [
    {
     "data": {
      "text/html": [
       "<div>\n",
       "<style scoped>\n",
       "    .dataframe tbody tr th:only-of-type {\n",
       "        vertical-align: middle;\n",
       "    }\n",
       "\n",
       "    .dataframe tbody tr th {\n",
       "        vertical-align: top;\n",
       "    }\n",
       "\n",
       "    .dataframe thead th {\n",
       "        text-align: right;\n",
       "    }\n",
       "</style>\n",
       "<table border=\"1\" class=\"dataframe\">\n",
       "  <thead>\n",
       "    <tr style=\"text-align: right;\">\n",
       "      <th></th>\n",
       "      <th>Nulos</th>\n",
       "      <th>Cantidad</th>\n",
       "      <th>Tipo Col</th>\n",
       "      <th>Porcentaje de nulos</th>\n",
       "    </tr>\n",
       "  </thead>\n",
       "  <tbody>\n",
       "    <tr>\n",
       "      <th>BACKLOG</th>\n",
       "      <td>True</td>\n",
       "      <td>39</td>\n",
       "      <td>object</td>\n",
       "      <td>4.2</td>\n",
       "    </tr>\n",
       "  </tbody>\n",
       "</table>\n",
       "</div>"
      ],
      "text/plain": [
       "         Nulos  Cantidad Tipo Col  Porcentaje de nulos\n",
       "BACKLOG   True        39   object                  4.2"
      ]
     },
     "execution_count": 18,
     "metadata": {},
     "output_type": "execute_result"
    }
   ],
   "source": [
    "null_verificator(pd.DataFrame(conoceme[['BACKLOG']]))"
   ]
  },
  {
   "cell_type": "code",
   "execution_count": 19,
   "metadata": {},
   "outputs": [
    {
     "data": {
      "text/plain": [
       "No Aplica    721\n",
       "Servicios     99\n",
       "Proyectos     64\n",
       "NaN           39\n",
       "Name: BACKLOG, dtype: int64"
      ]
     },
     "execution_count": 19,
     "metadata": {},
     "output_type": "execute_result"
    }
   ],
   "source": [
    "conoceme['BACKLOG'].value_counts(dropna=False)"
   ]
  },
  {
   "cell_type": "markdown",
   "metadata": {},
   "source": [
    "#### NOTA: Seria necesario especificar si los casos nulos efectivamnete pertenecen a la categoría \"NO APLICA\" o que falta una revalidación de llenado de la información"
   ]
  },
  {
   "cell_type": "code",
   "execution_count": null,
   "metadata": {},
   "outputs": [],
   "source": []
  },
  {
   "cell_type": "markdown",
   "metadata": {},
   "source": [
    "## 4- VENTAJA_COMPETITIVA"
   ]
  },
  {
   "cell_type": "markdown",
   "metadata": {},
   "source": [
    "Señalar la principal ventaja competitiva en su sector"
   ]
  },
  {
   "cell_type": "code",
   "execution_count": 20,
   "metadata": {},
   "outputs": [
    {
     "data": {
      "text/html": [
       "<div>\n",
       "<style scoped>\n",
       "    .dataframe tbody tr th:only-of-type {\n",
       "        vertical-align: middle;\n",
       "    }\n",
       "\n",
       "    .dataframe tbody tr th {\n",
       "        vertical-align: top;\n",
       "    }\n",
       "\n",
       "    .dataframe thead th {\n",
       "        text-align: right;\n",
       "    }\n",
       "</style>\n",
       "<table border=\"1\" class=\"dataframe\">\n",
       "  <thead>\n",
       "    <tr style=\"text-align: right;\">\n",
       "      <th></th>\n",
       "      <th>Nulos</th>\n",
       "      <th>Cantidad</th>\n",
       "      <th>Tipo Col</th>\n",
       "      <th>Porcentaje de nulos</th>\n",
       "    </tr>\n",
       "  </thead>\n",
       "  <tbody>\n",
       "    <tr>\n",
       "      <th>VENTAJA_COMPETITIVA</th>\n",
       "      <td>True</td>\n",
       "      <td>25</td>\n",
       "      <td>object</td>\n",
       "      <td>2.7</td>\n",
       "    </tr>\n",
       "  </tbody>\n",
       "</table>\n",
       "</div>"
      ],
      "text/plain": [
       "                     Nulos  Cantidad Tipo Col  Porcentaje de nulos\n",
       "VENTAJA_COMPETITIVA   True        25   object                  2.7"
      ]
     },
     "execution_count": 20,
     "metadata": {},
     "output_type": "execute_result"
    }
   ],
   "source": [
    "null_verificator(pd.DataFrame(conoceme[['VENTAJA_COMPETITIVA']]))"
   ]
  },
  {
   "cell_type": "code",
   "execution_count": 21,
   "metadata": {},
   "outputs": [
    {
     "data": {
      "text/plain": [
       "[('experiencia', 219),\n",
       " ('anos', 214),\n",
       " ('clientes', 187),\n",
       " ('empresa', 172),\n",
       " ('cuenta', 170),\n",
       " ('mercado', 152),\n",
       " ('cliente', 120),\n",
       " ('sector', 117),\n",
       " ('productos', 112),\n",
       " ('marca', 93)]"
      ]
     },
     "execution_count": 21,
     "metadata": {},
     "output_type": "execute_result"
    }
   ],
   "source": [
    "get_10_mas_frecuentes(conoceme, 'VENTAJA_COMPETITIVA')"
   ]
  },
  {
   "cell_type": "code",
   "execution_count": null,
   "metadata": {},
   "outputs": [],
   "source": []
  },
  {
   "cell_type": "markdown",
   "metadata": {},
   "source": [
    "## 5- FORTALEZAS_RIESGOS"
   ]
  },
  {
   "cell_type": "markdown",
   "metadata": {},
   "source": [
    "Señalar principales fortalezas y riesgos"
   ]
  },
  {
   "cell_type": "code",
   "execution_count": 23,
   "metadata": {},
   "outputs": [
    {
     "data": {
      "text/html": [
       "<div>\n",
       "<style scoped>\n",
       "    .dataframe tbody tr th:only-of-type {\n",
       "        vertical-align: middle;\n",
       "    }\n",
       "\n",
       "    .dataframe tbody tr th {\n",
       "        vertical-align: top;\n",
       "    }\n",
       "\n",
       "    .dataframe thead th {\n",
       "        text-align: right;\n",
       "    }\n",
       "</style>\n",
       "<table border=\"1\" class=\"dataframe\">\n",
       "  <thead>\n",
       "    <tr style=\"text-align: right;\">\n",
       "      <th></th>\n",
       "      <th>Nulos</th>\n",
       "      <th>Cantidad</th>\n",
       "      <th>Tipo Col</th>\n",
       "      <th>Porcentaje de nulos</th>\n",
       "    </tr>\n",
       "  </thead>\n",
       "  <tbody>\n",
       "    <tr>\n",
       "      <th>FORTALEZAS_RIESGOS</th>\n",
       "      <td>True</td>\n",
       "      <td>35</td>\n",
       "      <td>object</td>\n",
       "      <td>3.8</td>\n",
       "    </tr>\n",
       "  </tbody>\n",
       "</table>\n",
       "</div>"
      ],
      "text/plain": [
       "                    Nulos  Cantidad Tipo Col  Porcentaje de nulos\n",
       "FORTALEZAS_RIESGOS   True        35   object                  3.8"
      ]
     },
     "execution_count": 23,
     "metadata": {},
     "output_type": "execute_result"
    }
   ],
   "source": [
    "null_verificator(pd.DataFrame(conoceme[['FORTALEZAS_RIESGOS']]))"
   ]
  },
  {
   "cell_type": "code",
   "execution_count": 24,
   "metadata": {},
   "outputs": [
    {
     "data": {
      "text/plain": [
       "[('anos', 363),\n",
       " ('clientes', 306),\n",
       " ('experiencia', 293),\n",
       " ('sector', 268),\n",
       " ('empresa', 194),\n",
       " ('mercado', 186),\n",
       " ('cuenta', 169),\n",
       " ('ventas', 165),\n",
       " ('cliente', 150),\n",
       " ('cartera', 135)]"
      ]
     },
     "execution_count": 24,
     "metadata": {},
     "output_type": "execute_result"
    }
   ],
   "source": [
    "get_10_mas_frecuentes(conoceme, 'FORTALEZAS_RIESGOS')"
   ]
  },
  {
   "cell_type": "code",
   "execution_count": null,
   "metadata": {},
   "outputs": [],
   "source": []
  },
  {
   "cell_type": "markdown",
   "metadata": {},
   "source": [
    "## 6- GESTION_COMPRAS"
   ]
  },
  {
   "cell_type": "code",
   "execution_count": 26,
   "metadata": {},
   "outputs": [
    {
     "data": {
      "text/html": [
       "<div>\n",
       "<style scoped>\n",
       "    .dataframe tbody tr th:only-of-type {\n",
       "        vertical-align: middle;\n",
       "    }\n",
       "\n",
       "    .dataframe tbody tr th {\n",
       "        vertical-align: top;\n",
       "    }\n",
       "\n",
       "    .dataframe thead th {\n",
       "        text-align: right;\n",
       "    }\n",
       "</style>\n",
       "<table border=\"1\" class=\"dataframe\">\n",
       "  <thead>\n",
       "    <tr style=\"text-align: right;\">\n",
       "      <th></th>\n",
       "      <th>Nulos</th>\n",
       "      <th>Cantidad</th>\n",
       "      <th>Tipo Col</th>\n",
       "      <th>Porcentaje de nulos</th>\n",
       "    </tr>\n",
       "  </thead>\n",
       "  <tbody>\n",
       "    <tr>\n",
       "      <th>GESTION_COMPRAS</th>\n",
       "      <td>True</td>\n",
       "      <td>864</td>\n",
       "      <td>object</td>\n",
       "      <td>93.6</td>\n",
       "    </tr>\n",
       "  </tbody>\n",
       "</table>\n",
       "</div>"
      ],
      "text/plain": [
       "                 Nulos  Cantidad Tipo Col  Porcentaje de nulos\n",
       "GESTION_COMPRAS   True       864   object                 93.6"
      ]
     },
     "execution_count": 26,
     "metadata": {},
     "output_type": "execute_result"
    }
   ],
   "source": [
    "null_verificator(pd.DataFrame(conoceme[['GESTION_COMPRAS']]))"
   ]
  },
  {
   "cell_type": "code",
   "execution_count": 55,
   "metadata": {},
   "outputs": [
    {
     "data": {
      "text/plain": [
       "Contra órdenes de pedido          35\n",
       "Otros                              8\n",
       "NaN                                8\n",
       "Me anticipo a las licitaciones     7\n",
       "Manejo stock de seguridad          6\n",
       "Name: GESTION_COMPRAS, dtype: int64"
      ]
     },
     "execution_count": 55,
     "metadata": {},
     "output_type": "execute_result"
    }
   ],
   "source": [
    "conoceme[conoceme['BACKLOG'] == 'Proyectos']['GESTION_COMPRAS'].value_counts(dropna=False)"
   ]
  },
  {
   "cell_type": "code",
   "execution_count": 28,
   "metadata": {},
   "outputs": [
    {
     "data": {
      "text/plain": [
       "NaN                               864\n",
       "Contra órdenes de pedido           37\n",
       "Otros                               9\n",
       "Me anticipo a las licitaciones      7\n",
       "Manejo stock de seguridad           6\n",
       "Name: GESTION_COMPRAS, dtype: int64"
      ]
     },
     "execution_count": 28,
     "metadata": {},
     "output_type": "execute_result"
    }
   ],
   "source": [
    "conoceme['GESTION_COMPRAS'].value_counts(dropna=False)"
   ]
  },
  {
   "cell_type": "markdown",
   "metadata": {},
   "source": [
    "#### NOTA: validar si es que no se trata de un campo descartado ya que nos e visualzia en el formulario web"
   ]
  },
  {
   "cell_type": "code",
   "execution_count": null,
   "metadata": {},
   "outputs": [],
   "source": []
  },
  {
   "cell_type": "markdown",
   "metadata": {},
   "source": [
    "## 7- REGISTRO"
   ]
  },
  {
   "cell_type": "code",
   "execution_count": 30,
   "metadata": {},
   "outputs": [
    {
     "data": {
      "text/plain": [
       "'DATA LIMPIA DE NULOS'"
      ]
     },
     "execution_count": 30,
     "metadata": {},
     "output_type": "execute_result"
    }
   ],
   "source": [
    "null_verificator(pd.DataFrame(conoceme[['REGISTRO']]))"
   ]
  },
  {
   "cell_type": "markdown",
   "metadata": {},
   "source": [
    "#### NOTA: código a nivel banco de los ejecutivos"
   ]
  },
  {
   "cell_type": "code",
   "execution_count": null,
   "metadata": {},
   "outputs": [],
   "source": []
  },
  {
   "cell_type": "code",
   "execution_count": null,
   "metadata": {},
   "outputs": [],
   "source": []
  },
  {
   "cell_type": "markdown",
   "metadata": {},
   "source": [
    "## 8- GERENTE_GENERAL"
   ]
  },
  {
   "cell_type": "code",
   "execution_count": 34,
   "metadata": {},
   "outputs": [
    {
     "data": {
      "text/html": [
       "<div>\n",
       "<style scoped>\n",
       "    .dataframe tbody tr th:only-of-type {\n",
       "        vertical-align: middle;\n",
       "    }\n",
       "\n",
       "    .dataframe tbody tr th {\n",
       "        vertical-align: top;\n",
       "    }\n",
       "\n",
       "    .dataframe thead th {\n",
       "        text-align: right;\n",
       "    }\n",
       "</style>\n",
       "<table border=\"1\" class=\"dataframe\">\n",
       "  <thead>\n",
       "    <tr style=\"text-align: right;\">\n",
       "      <th></th>\n",
       "      <th>Nulos</th>\n",
       "      <th>Cantidad</th>\n",
       "      <th>Tipo Col</th>\n",
       "      <th>Porcentaje de nulos</th>\n",
       "    </tr>\n",
       "  </thead>\n",
       "  <tbody>\n",
       "    <tr>\n",
       "      <th>GERENTE_GENERAL</th>\n",
       "      <td>True</td>\n",
       "      <td>26</td>\n",
       "      <td>object</td>\n",
       "      <td>2.8</td>\n",
       "    </tr>\n",
       "  </tbody>\n",
       "</table>\n",
       "</div>"
      ],
      "text/plain": [
       "                 Nulos  Cantidad Tipo Col  Porcentaje de nulos\n",
       "GERENTE_GENERAL   True        26   object                  2.8"
      ]
     },
     "execution_count": 34,
     "metadata": {},
     "output_type": "execute_result"
    }
   ],
   "source": [
    "null_verificator(pd.DataFrame(conoceme[['GERENTE_GENERAL']]))"
   ]
  },
  {
   "cell_type": "code",
   "execution_count": null,
   "metadata": {},
   "outputs": [],
   "source": []
  },
  {
   "cell_type": "markdown",
   "metadata": {},
   "source": [
    "## 9- MONTO_LINEA_PROVEEDORES"
   ]
  },
  {
   "cell_type": "code",
   "execution_count": 37,
   "metadata": {},
   "outputs": [
    {
     "data": {
      "text/html": [
       "<div>\n",
       "<style scoped>\n",
       "    .dataframe tbody tr th:only-of-type {\n",
       "        vertical-align: middle;\n",
       "    }\n",
       "\n",
       "    .dataframe tbody tr th {\n",
       "        vertical-align: top;\n",
       "    }\n",
       "\n",
       "    .dataframe thead th {\n",
       "        text-align: right;\n",
       "    }\n",
       "</style>\n",
       "<table border=\"1\" class=\"dataframe\">\n",
       "  <thead>\n",
       "    <tr style=\"text-align: right;\">\n",
       "      <th></th>\n",
       "      <th>Nulos</th>\n",
       "      <th>Cantidad</th>\n",
       "      <th>Tipo Col</th>\n",
       "      <th>Porcentaje de nulos</th>\n",
       "    </tr>\n",
       "  </thead>\n",
       "  <tbody>\n",
       "    <tr>\n",
       "      <th>MONTO_LINEA_PROVEEDORES</th>\n",
       "      <td>True</td>\n",
       "      <td>445</td>\n",
       "      <td>float64</td>\n",
       "      <td>48.2</td>\n",
       "    </tr>\n",
       "  </tbody>\n",
       "</table>\n",
       "</div>"
      ],
      "text/plain": [
       "                         Nulos  Cantidad Tipo Col  Porcentaje de nulos\n",
       "MONTO_LINEA_PROVEEDORES   True       445  float64                 48.2"
      ]
     },
     "execution_count": 37,
     "metadata": {},
     "output_type": "execute_result"
    }
   ],
   "source": [
    "null_verificator(pd.DataFrame(conoceme[['MONTO_LINEA_PROVEEDORES']]))"
   ]
  },
  {
   "cell_type": "code",
   "execution_count": 51,
   "metadata": {},
   "outputs": [
    {
     "data": {
      "text/plain": [
       "<matplotlib.axes._subplots.AxesSubplot at 0x1624543ec88>"
      ]
     },
     "execution_count": 51,
     "metadata": {},
     "output_type": "execute_result"
    },
    {
     "data": {
      "image/png": "[encoded data removed]",
      "text/plain": [
       "<Figure size 1080x360 with 1 Axes>"
      ]
     },
     "metadata": {
      "needs_background": "light"
     },
     "output_type": "display_data"
    }
   ],
   "source": [
    "conoceme['MONTO_LINEA_PROVEEDORES'].hist(bins=100, figsize=(15, 5))"
   ]
  },
  {
   "cell_type": "code",
   "execution_count": 49,
   "metadata": {},
   "outputs": [
    {
     "data": {
      "text/html": [
       "<div>\n",
       "<style scoped>\n",
       "    .dataframe tbody tr th:only-of-type {\n",
       "        vertical-align: middle;\n",
       "    }\n",
       "\n",
       "    .dataframe tbody tr th {\n",
       "        vertical-align: top;\n",
       "    }\n",
       "\n",
       "    .dataframe thead th {\n",
       "        text-align: right;\n",
       "    }\n",
       "</style>\n",
       "<table border=\"1\" class=\"dataframe\">\n",
       "  <thead>\n",
       "    <tr style=\"text-align: right;\">\n",
       "      <th></th>\n",
       "      <th>count</th>\n",
       "      <th>mean</th>\n",
       "      <th>std</th>\n",
       "      <th>min</th>\n",
       "      <th>25%</th>\n",
       "      <th>50%</th>\n",
       "      <th>75%</th>\n",
       "      <th>max</th>\n",
       "    </tr>\n",
       "  </thead>\n",
       "  <tbody>\n",
       "    <tr>\n",
       "      <th>MONTO_LINEA_PROVEEDORES</th>\n",
       "      <td>478.0</td>\n",
       "      <td>2540.121339</td>\n",
       "      <td>11302.333818</td>\n",
       "      <td>1.0</td>\n",
       "      <td>35.0</td>\n",
       "      <td>500.0</td>\n",
       "      <td>1750.0</td>\n",
       "      <td>200000.0</td>\n",
       "    </tr>\n",
       "  </tbody>\n",
       "</table>\n",
       "</div>"
      ],
      "text/plain": [
       "                         count         mean           std  min   25%    50%  \\\n",
       "MONTO_LINEA_PROVEEDORES  478.0  2540.121339  11302.333818  1.0  35.0  500.0   \n",
       "\n",
       "                            75%       max  \n",
       "MONTO_LINEA_PROVEEDORES  1750.0  200000.0  "
      ]
     },
     "execution_count": 49,
     "metadata": {},
     "output_type": "execute_result"
    }
   ],
   "source": [
    "conoceme[['MONTO_LINEA_PROVEEDORES']].describe().T"
   ]
  },
  {
   "cell_type": "code",
   "execution_count": null,
   "metadata": {},
   "outputs": [],
   "source": []
  },
  {
   "cell_type": "markdown",
   "metadata": {},
   "source": [
    "## 10- PROYECCION_VENTAS"
   ]
  },
  {
   "cell_type": "code",
   "execution_count": 52,
   "metadata": {},
   "outputs": [
    {
     "data": {
      "text/html": [
       "<div>\n",
       "<style scoped>\n",
       "    .dataframe tbody tr th:only-of-type {\n",
       "        vertical-align: middle;\n",
       "    }\n",
       "\n",
       "    .dataframe tbody tr th {\n",
       "        vertical-align: top;\n",
       "    }\n",
       "\n",
       "    .dataframe thead th {\n",
       "        text-align: right;\n",
       "    }\n",
       "</style>\n",
       "<table border=\"1\" class=\"dataframe\">\n",
       "  <thead>\n",
       "    <tr style=\"text-align: right;\">\n",
       "      <th></th>\n",
       "      <th>Nulos</th>\n",
       "      <th>Cantidad</th>\n",
       "      <th>Tipo Col</th>\n",
       "      <th>Porcentaje de nulos</th>\n",
       "    </tr>\n",
       "  </thead>\n",
       "  <tbody>\n",
       "    <tr>\n",
       "      <th>PROYECCION_VENTAS</th>\n",
       "      <td>True</td>\n",
       "      <td>804</td>\n",
       "      <td>float64</td>\n",
       "      <td>87.1</td>\n",
       "    </tr>\n",
       "  </tbody>\n",
       "</table>\n",
       "</div>"
      ],
      "text/plain": [
       "                   Nulos  Cantidad Tipo Col  Porcentaje de nulos\n",
       "PROYECCION_VENTAS   True       804  float64                 87.1"
      ]
     },
     "execution_count": 52,
     "metadata": {},
     "output_type": "execute_result"
    }
   ],
   "source": [
    "null_verificator(pd.DataFrame(conoceme[['PROYECCION_VENTAS']]))"
   ]
  },
  {
   "cell_type": "code",
   "execution_count": 53,
   "metadata": {},
   "outputs": [
    {
     "data": {
      "text/plain": [
       "<matplotlib.axes._subplots.AxesSubplot at 0x1624578be08>"
      ]
     },
     "execution_count": 53,
     "metadata": {},
     "output_type": "execute_result"
    },
    {
     "data": {
      "image/png": "[encoded data removed]",
      "text/plain": [
       "<Figure size 1080x360 with 1 Axes>"
      ]
     },
     "metadata": {
      "needs_background": "light"
     },
     "output_type": "display_data"
    }
   ],
   "source": [
    "conoceme['PROYECCION_VENTAS'].hist(bins=100, figsize=(15, 5))"
   ]
  },
  {
   "cell_type": "code",
   "execution_count": 54,
   "metadata": {},
   "outputs": [
    {
     "data": {
      "text/html": [
       "<div>\n",
       "<style scoped>\n",
       "    .dataframe tbody tr th:only-of-type {\n",
       "        vertical-align: middle;\n",
       "    }\n",
       "\n",
       "    .dataframe tbody tr th {\n",
       "        vertical-align: top;\n",
       "    }\n",
       "\n",
       "    .dataframe thead th {\n",
       "        text-align: right;\n",
       "    }\n",
       "</style>\n",
       "<table border=\"1\" class=\"dataframe\">\n",
       "  <thead>\n",
       "    <tr style=\"text-align: right;\">\n",
       "      <th></th>\n",
       "      <th>count</th>\n",
       "      <th>mean</th>\n",
       "      <th>std</th>\n",
       "      <th>min</th>\n",
       "      <th>25%</th>\n",
       "      <th>50%</th>\n",
       "      <th>75%</th>\n",
       "      <th>max</th>\n",
       "    </tr>\n",
       "  </thead>\n",
       "  <tbody>\n",
       "    <tr>\n",
       "      <th>PROYECCION_VENTAS</th>\n",
       "      <td>119.0</td>\n",
       "      <td>25905.210084</td>\n",
       "      <td>72988.221825</td>\n",
       "      <td>1.0</td>\n",
       "      <td>6000.0</td>\n",
       "      <td>12000.0</td>\n",
       "      <td>20000.0</td>\n",
       "      <td>750000.0</td>\n",
       "    </tr>\n",
       "  </tbody>\n",
       "</table>\n",
       "</div>"
      ],
      "text/plain": [
       "                   count          mean           std  min     25%      50%  \\\n",
       "PROYECCION_VENTAS  119.0  25905.210084  72988.221825  1.0  6000.0  12000.0   \n",
       "\n",
       "                       75%       max  \n",
       "PROYECCION_VENTAS  20000.0  750000.0  "
      ]
     },
     "execution_count": 54,
     "metadata": {},
     "output_type": "execute_result"
    }
   ],
   "source": [
    "conoceme[['PROYECCION_VENTAS']].describe().T"
   ]
  },
  {
   "cell_type": "code",
   "execution_count": null,
   "metadata": {},
   "outputs": [],
   "source": []
  },
  {
   "cell_type": "code",
   "execution_count": 36,
   "metadata": {},
   "outputs": [
    {
     "data": {
      "text/plain": [
       "Index(['COD_UNICO', 'ACTIVIDAD', 'SUBSECTOR', 'BACKLOG', 'MODELO_NEGOCIO',\n",
       "       'VENTAJA_COMPETITIVA', 'FORTALEZAS_RIESGOS', 'INTEGRACION_VERTICAL',\n",
       "       'GESTION_COMPRAS', 'REGISTRO', 'GERENTE_GENERAL',\n",
       "       'GERENTE_FINANCIERO_TIPO', 'GERENTE_FINANCIERO_NOMBRE',\n",
       "       'TIPO_CONTABILIDAD', 'MONTO_LINEA_PROVEEDORES', 'ACTIVO_LIBRE_GRAVAMEN',\n",
       "       'PROYECCION_INVERSION', 'PROYECCION_VENTAS', 'FECHA_ACTUALIZACION',\n",
       "       'PROCEDENCIA_MPRIMA', 'LINEA_SUCESION_FLAG', 'LINEA_SUCESION',\n",
       "       'CAMBIO_GERENCIA_GENERAL_ANNIO', 'CAMBIO_ACCIONISTAS_ANNIO',\n",
       "       'INICIO_IBK', 'INICIO_OP', 'len_codigo_unico'],\n",
       "      dtype='object')"
      ]
     },
     "execution_count": 36,
     "metadata": {},
     "output_type": "execute_result"
    }
   ],
   "source": [
    "conoceme.columns"
   ]
  },
  {
   "cell_type": "code",
   "execution_count": 61,
   "metadata": {},
   "outputs": [
    {
     "name": "stdout",
     "output_type": "stream",
     "text": [
      "{'20603514247', '20601975786', '20601433525', '20602966951', '20537067111', '20501640981', '20454712928', '20604688044', '20601084156', '10296894945', '20600420098', '20602179932', '10448952938', '20482709487', '20535661201', '10705186702', '20601824940'}\n"
     ]
    }
   ],
   "source": [
    "print({'20501640981',\n",
    "'20601433525',\n",
    "'20482709487',\n",
    "'20602179932',\n",
    "'20601084156',\n",
    "'10448952938',\n",
    "'20602966951',\n",
    "'10296894945',\n",
    "'20454712928',\n",
    "'20537067111',\n",
    "'20603514247',\n",
    "'20600420098',\n",
    "'10705186702',\n",
    "'20604688044',\n",
    "'20601975786',\n",
    "'20601824940',\n",
    "'20535661201'})"
   ]
  },
  {
   "cell_type": "code",
   "execution_count": null,
   "metadata": {},
   "outputs": [],
   "source": []
  }
 ],
 "metadata": {
  "kernelspec": {
   "display_name": "Python 3",
   "language": "python",
   "name": "python3"
  },
  "language_info": {
   "codemirror_mode": {
    "name": "ipython",
    "version": 3
   },
   "file_extension": ".py",
   "mimetype": "text/x-python",
   "name": "python",
   "nbconvert_exporter": "python",
   "pygments_lexer": "ipython3",
   "version": "3.8.3"
  }
 },
 "nbformat": 4,
 "nbformat_minor": 4
}
