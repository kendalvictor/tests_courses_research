{
  "nbformat": 4,
  "nbformat_minor": 0,
  "metadata": {
    "colab": {
      "name": "Rappi.ipynb",
      "provenance": [],
      "toc_visible": true
    },
    "kernelspec": {
      "name": "python3",
      "display_name": "Python 3"
    }
  },
  "cells": [
    {
      "cell_type": "markdown",
      "metadata": {
        "id": "oZYjeFl20oa5",
        "colab_type": "text"
      },
      "source": [
        "# 0. Instalacion de utilitarios Pyspark"
      ]
    },
    {
      "cell_type": "code",
      "metadata": {
        "id": "y6zaa4yk0uIV",
        "colab_type": "code",
        "colab": {}
      },
      "source": [
        "!apt-get install openjdk-8-jdk-headless -qq > /dev/null\n",
        "!wget -q https://www-us.apache.org/dist/spark/spark-2.3.4/spark-2.3.4-bin-hadoop2.7.tgz\n",
        "!tar xf spark-2.3.4-bin-hadoop2.7.tgz"
      ],
      "execution_count": null,
      "outputs": []
    },
    {
      "cell_type": "code",
      "metadata": {
        "id": "c0SmG6708QQ6",
        "colab_type": "code",
        "colab": {}
      },
      "source": [
        "!apt-get install openjdk-8-jdk-headless -qq > /dev/null\n",
        "!wget -q https://www-us.apache.org/dist/spark/spark-2.4.4/spark-2.4.4-bin-hadoop2.7.tgz\n",
        "!tar xf spark-2.4.4-bin-hadoop2.7.tgz\n"
      ],
      "execution_count": null,
      "outputs": []
    },
    {
      "cell_type": "code",
      "metadata": {
        "id": "tyor71X98igS",
        "colab_type": "code",
        "colab": {}
      },
      "source": [
        "!pip install -q findspark"
      ],
      "execution_count": null,
      "outputs": []
    },
    {
      "cell_type": "code",
      "metadata": {
        "id": "mRsVKjDvsmoC",
        "colab_type": "code",
        "colab": {}
      },
      "source": [
        "import os\n",
        "os.environ[\"JAVA_HOME\"] = \"/usr/lib/jvm/java-8-openjdk-amd64\"\n",
        "os.environ[\"SPARK_HOME\"] = \"/content/spark-2.4.4-bin-hadoop2.7\"\n"
      ],
      "execution_count": null,
      "outputs": []
    },
    {
      "cell_type": "code",
      "metadata": {
        "id": "OsNTQa-qsr7j",
        "colab_type": "code",
        "colab": {
          "base_uri": "https://localhost:8080/",
          "height": 238
        },
        "outputId": "9810f53c-62af-42ef-c25b-3fa548ad255a"
      },
      "source": [
        "!pip install pyspark"
      ],
      "execution_count": null,
      "outputs": [
        {
          "output_type": "stream",
          "text": [
            "Collecting pyspark\n",
            "\u001b[?25l  Downloading https://files.pythonhosted.org/packages/87/21/f05c186f4ddb01d15d0ddc36ef4b7e3cedbeb6412274a41f26b55a650ee5/pyspark-2.4.4.tar.gz (215.7MB)\n",
            "\u001b[K     |████████████████████████████████| 215.7MB 53kB/s \n",
            "\u001b[?25hCollecting py4j==0.10.7\n",
            "\u001b[?25l  Downloading https://files.pythonhosted.org/packages/e3/53/c737818eb9a7dc32a7cd4f1396e787bd94200c3997c72c1dbe028587bd76/py4j-0.10.7-py2.py3-none-any.whl (197kB)\n",
            "\u001b[K     |████████████████████████████████| 204kB 50.8MB/s \n",
            "\u001b[?25hBuilding wheels for collected packages: pyspark\n",
            "  Building wheel for pyspark (setup.py) ... \u001b[?25l\u001b[?25hdone\n",
            "  Created wheel for pyspark: filename=pyspark-2.4.4-py2.py3-none-any.whl size=216130387 sha256=b956117dc975da02796cce1a1cbae38f545e6e53714f0f1c81b2c5b5fc7fda0f\n",
            "  Stored in directory: /root/.cache/pip/wheels/ab/09/4d/0d184230058e654eb1b04467dbc1292f00eaa186544604b471\n",
            "Successfully built pyspark\n",
            "Installing collected packages: py4j, pyspark\n",
            "Successfully installed py4j-0.10.7 pyspark-2.4.4\n"
          ],
          "name": "stdout"
        }
      ]
    },
    {
      "cell_type": "code",
      "metadata": {
        "id": "zCKm2w9rswTv",
        "colab_type": "code",
        "colab": {}
      },
      "source": [
        "from pyspark.sql import SparkSession\n",
        "from pyspark import SparkContext\n",
        "spark = SparkSession.builder.master(\"local\").getOrCreate()\n",
        "sc = SparkContext.getOrCreate()"
      ],
      "execution_count": null,
      "outputs": []
    },
    {
      "cell_type": "markdown",
      "metadata": {
        "id": "NXie2Umg1DZk",
        "colab_type": "text"
      },
      "source": [
        "# 1. Lectura del origen datos"
      ]
    },
    {
      "cell_type": "code",
      "metadata": {
        "id": "zZL0PhM88Eys",
        "colab_type": "code",
        "colab": {
          "base_uri": "https://localhost:8080/",
          "height": 122
        },
        "outputId": "e00aff95-8577-44fb-e605-5ba8f1ba0626"
      },
      "source": [
        "# Conexion al drive\n",
        "#---------------------------\n",
        "from google.colab import drive\n",
        "drive.mount('/content/drive')"
      ],
      "execution_count": null,
      "outputs": [
        {
          "output_type": "stream",
          "text": [
            "Go to this URL in a browser: https://accounts.google.com/o/oauth2/auth?client_id=947318989803-6bn6qk8qdgf4n4g3pfee6491hc0brc4i.apps.googleusercontent.com&redirect_uri=urn%3Aietf%3Awg%3Aoauth%3A2.0%3Aoob&scope=email%20https%3A%2F%2Fwww.googleapis.com%2Fauth%2Fdocs.test%20https%3A%2F%2Fwww.googleapis.com%2Fauth%2Fdrive%20https%3A%2F%2Fwww.googleapis.com%2Fauth%2Fdrive.photos.readonly%20https%3A%2F%2Fwww.googleapis.com%2Fauth%2Fpeopleapi.readonly&response_type=code\n",
            "\n",
            "Enter your authorization code:\n",
            "··········\n",
            "Mounted at /content/drive\n"
          ],
          "name": "stdout"
        }
      ]
    },
    {
      "cell_type": "code",
      "metadata": {
        "id": "BZQDnxtq2G2L",
        "colab_type": "code",
        "colab": {
          "base_uri": "https://localhost:8080/",
          "height": 51
        },
        "outputId": "543009f2-474e-492e-f80c-5db6d23284d0"
      },
      "source": [
        "ls"
      ],
      "execution_count": null,
      "outputs": [
        {
          "output_type": "stream",
          "text": [
            "\u001b[0m\u001b[01;34mdrive\u001b[0m/        \u001b[01;34mspark-2.3.4-bin-hadoop2.7\u001b[0m/     \u001b[01;34mspark-2.4.4-bin-hadoop2.7\u001b[0m/\n",
            "\u001b[01;34msample_data\u001b[0m/  spark-2.3.4-bin-hadoop2.7.tgz  spark-2.4.4-bin-hadoop2.7.tgz\n"
          ],
          "name": "stdout"
        }
      ]
    },
    {
      "cell_type": "markdown",
      "metadata": {
        "id": "ltZocWSm2l9G",
        "colab_type": "text"
      },
      "source": [
        "#2.  Cargando los datos en formato Spark"
      ]
    },
    {
      "cell_type": "code",
      "metadata": {
        "id": "xg8zoYu62uhd",
        "colab_type": "code",
        "colab": {
          "base_uri": "https://localhost:8080/",
          "height": 204
        },
        "outputId": "ee176f35-0f21-4dd6-e69d-212109d44b9e"
      },
      "source": [
        "DS_peliculas_rating = spark.read.csv(\n",
        "    '/content/drive/My Drive/PySpark Machine Learning en plataforma Big Data/Training R ML en Casos de Negocios/8_Recomendacion_comercio/Comercio_tipo_rappi.csv', \n",
        "    sep=';', \n",
        "    header=True, \n",
        "    inferSchema=True\n",
        ")\n",
        "\n",
        "# 2.1 Revision de formatos \n",
        "DS_peliculas_rating.printSchema()"
      ],
      "execution_count": null,
      "outputs": [
        {
          "output_type": "stream",
          "text": [
            "root\n",
            " |-- userID: string (nullable = true)\n",
            " |-- userID_cod: integer (nullable = true)\n",
            " |-- placeID: integer (nullable = true)\n",
            " |-- Nombre_comerce: string (nullable = true)\n",
            " |-- Distrito: string (nullable = true)\n",
            " |-- rating: integer (nullable = true)\n",
            " |-- food_rating: integer (nullable = true)\n",
            " |-- service_rating: integer (nullable = true)\n",
            " |-- rating_total: integer (nullable = true)\n",
            "\n"
          ],
          "name": "stdout"
        }
      ]
    },
    {
      "cell_type": "code",
      "metadata": {
        "id": "DevCxW045s4B",
        "colab_type": "code",
        "colab": {
          "base_uri": "https://localhost:8080/",
          "height": 34
        },
        "outputId": "ea10633c-469c-42dd-bfdf-5ae09049aa2a"
      },
      "source": [
        "# Dimensiona de base\n",
        "print((DS_peliculas_rating.count(), len(DS_peliculas_rating.columns)))"
      ],
      "execution_count": null,
      "outputs": [
        {
          "output_type": "stream",
          "text": [
            "(50766, 9)\n"
          ],
          "name": "stdout"
        }
      ]
    },
    {
      "cell_type": "code",
      "metadata": {
        "id": "RBEt1wHV2Zy4",
        "colab_type": "code",
        "colab": {
          "base_uri": "https://localhost:8080/",
          "height": 204
        },
        "outputId": "13dfa49c-1dea-40fd-f135-bfab5b15f8e3"
      },
      "source": [
        "# 2.2 Revisiones  \n",
        "DS_peliculas_rating.show(5)"
      ],
      "execution_count": null,
      "outputs": [
        {
          "output_type": "stream",
          "text": [
            "+------+----------+-------+--------------------+---------------+------+-----------+--------------+------------+\n",
            "|userID|userID_cod|placeID|      Nombre_comerce|       Distrito|rating|food_rating|service_rating|rating_total|\n",
            "+------+----------+-------+--------------------+---------------+------+-----------+--------------+------------+\n",
            "| U1077|         1| 135085|Tortas Locas Hipo...|San Luis Potosi|     2|          2|             2|           6|\n",
            "| U1077|         1| 135038|Restaurant la Cha...|San Luis Potosi|     2|          2|             1|           5|\n",
            "| U1077|         1| 132825|     puesto de tacos|         s.l.p.|     2|          2|             2|           6|\n",
            "| U1077|         1| 135060|Restaurante Maris...|San Luis Potosi|     1|          2|             2|           5|\n",
            "| U1068|         2| 135104|                vips|              0|     1|          1|             2|           4|\n",
            "+------+----------+-------+--------------------+---------------+------+-----------+--------------+------------+\n",
            "only showing top 5 rows\n",
            "\n"
          ],
          "name": "stdout"
        }
      ]
    },
    {
      "cell_type": "code",
      "metadata": {
        "id": "CpYnf-WM3iun",
        "colab_type": "code",
        "colab": {
          "base_uri": "https://localhost:8080/",
          "height": 34
        },
        "outputId": "cd7dbbe5-b64b-41df-8831-499e973780c0"
      },
      "source": [
        "# 2.3 Validacion de carga del total de registros\n",
        "print(DS_peliculas_rating.count())"
      ],
      "execution_count": null,
      "outputs": [
        {
          "output_type": "stream",
          "text": [
            "50766\n"
          ],
          "name": "stdout"
        }
      ]
    },
    {
      "cell_type": "code",
      "metadata": {
        "id": "7J1Stx2j9KdX",
        "colab_type": "code",
        "colab": {
          "base_uri": "https://localhost:8080/",
          "height": 187
        },
        "outputId": "d813a637-ca60-4eee-be33-4124186bb210"
      },
      "source": [
        "# 2.4 Exploracion inicial\n",
        "DS_peliculas_rating.describe().show()"
      ],
      "execution_count": null,
      "outputs": [
        {
          "output_type": "stream",
          "text": [
            "+-------+------+------------------+------------------+--------------------+---------+------------------+------------------+------------------+-----------------+\n",
            "|summary|userID|        userID_cod|           placeID|      Nombre_comerce| Distrito|            rating|       food_rating|    service_rating|     rating_total|\n",
            "+-------+------+------------------+------------------+--------------------+---------+------------------+------------------+------------------+-----------------+\n",
            "|  count| 50766|             50766|             50766|               50766|    50766|             50766|             50766|             50766|            50766|\n",
            "|   mean|  null| 67.34026710790687|  134254.559390143|                null|      0.0|1.2218216916834101| 1.244277666154513| 1.109856990899421|3.575956348737344|\n",
            "| stddev|  null|32.640689951647815|1079.9216692471784|                null|      0.0|0.7706200957794772|0.7863420037824467|0.7915679876580894|2.083855254035862|\n",
            "|    min| U1001|                 1|            132560|Abondance Restaur...|        0|                 0|                 0|                 0|                0|\n",
            "|    max| U1138|               138|            135109|                vips|victoria |                 2|                 2|                 2|                6|\n",
            "+-------+------+------------------+------------------+--------------------+---------+------------------+------------------+------------------+-----------------+\n",
            "\n"
          ],
          "name": "stdout"
        }
      ]
    },
    {
      "cell_type": "code",
      "metadata": {
        "id": "5UavJB8AASDE",
        "colab_type": "code",
        "colab": {
          "base_uri": "https://localhost:8080/",
          "height": 289
        },
        "outputId": "a05d25dc-27ee-41e2-d2f5-927f49cf823e"
      },
      "source": [
        "# 2.5 Los clientes que más vistaron la plataforma de videos\n",
        "DS_peliculas_rating.groupBy('userId').count().orderBy('count', ascending=False).show(10,False)"
      ],
      "execution_count": null,
      "outputs": [
        {
          "output_type": "stream",
          "text": [
            "+------+-----+\n",
            "|userId|count|\n",
            "+------+-----+\n",
            "|U1106 |1198 |\n",
            "|U1071 |949  |\n",
            "|U1024 |933  |\n",
            "|U1016 |897  |\n",
            "|U1036 |876  |\n",
            "|U1104 |868  |\n",
            "|U1009 |759  |\n",
            "|U1037 |755  |\n",
            "|U1084 |730  |\n",
            "|U1132 |730  |\n",
            "+------+-----+\n",
            "only showing top 10 rows\n",
            "\n"
          ],
          "name": "stdout"
        }
      ]
    },
    {
      "cell_type": "code",
      "metadata": {
        "id": "ZUivRJvPAjI3",
        "colab_type": "code",
        "colab": {
          "base_uri": "https://localhost:8080/",
          "height": 289
        },
        "outputId": "39200e51-00bb-4c6f-e5fd-3cead5599e8e"
      },
      "source": [
        "# 2.6  Las clientes que menos vieron las peliculas\n",
        "DS_peliculas_rating.groupBy('userId').count().orderBy('count', ascending=True).show(10,False)"
      ],
      "execution_count": null,
      "outputs": [
        {
          "output_type": "stream",
          "text": [
            "+------+-----+\n",
            "|userId|count|\n",
            "+------+-----+\n",
            "|U1011 |57   |\n",
            "|U1039 |57   |\n",
            "|U1129 |76   |\n",
            "|U1130 |76   |\n",
            "|U1065 |95   |\n",
            "|U1043 |95   |\n",
            "|U1138 |114  |\n",
            "|U1102 |114  |\n",
            "|U1077 |117  |\n",
            "|U1131 |120  |\n",
            "+------+-----+\n",
            "only showing top 10 rows\n",
            "\n"
          ],
          "name": "stdout"
        }
      ]
    },
    {
      "cell_type": "code",
      "metadata": {
        "id": "hO-eIVs4A0Is",
        "colab_type": "code",
        "colab": {
          "base_uri": "https://localhost:8080/",
          "height": 289
        },
        "outputId": "83893bd9-ffa8-491b-f83f-0377f1411915"
      },
      "source": [
        "# 2.7  Las peliculas con mayor numero de visualizaciones\n",
        "DS_peliculas_rating.groupBy('Nombre_comerce').count().orderBy('count',ascending=False).show(10,False)"
      ],
      "execution_count": null,
      "outputs": [
        {
          "output_type": "stream",
          "text": [
            "+----------------------------------+-----+\n",
            "|Nombre_comerce                    |count|\n",
            "+----------------------------------+-----+\n",
            "|Tortas Locas Hipocampo            |1641 |\n",
            "|Cafeteria y Restaurant El Pacifico|1466 |\n",
            "|puesto de tacos                   |1387 |\n",
            "|La Cantina Restaurante            |1202 |\n",
            "|Restaurant la Chalita             |1200 |\n",
            "|Gorditas Doa Gloria               |1176 |\n",
            "|Restaurante Marisco Sam           |1017 |\n",
            "|Restaurant Oriental Express       |955  |\n",
            "|Restaurante El Cielo Potosino     |945  |\n",
            "|Luna Cafe                         |836  |\n",
            "+----------------------------------+-----+\n",
            "only showing top 10 rows\n",
            "\n"
          ],
          "name": "stdout"
        }
      ]
    },
    {
      "cell_type": "code",
      "metadata": {
        "id": "6rRu9-sxBI0_",
        "colab_type": "code",
        "colab": {
          "base_uri": "https://localhost:8080/",
          "height": 289
        },
        "outputId": "6e04897f-45c9-4fc4-8b7d-6adddd1b2043"
      },
      "source": [
        "# Peliculas con menos numero de visualizaciones \n",
        "DS_peliculas_rating.groupBy('Nombre_comerce').count().orderBy('count', ascending=True).show(10,False)"
      ],
      "execution_count": null,
      "outputs": [
        {
          "output_type": "stream",
          "text": [
            "+-------------------------------------+-----+\n",
            "|Nombre_comerce                       |count|\n",
            "+-------------------------------------+-----+\n",
            "|emilianos                            |99   |\n",
            "|Carnitas Mata  Calle 16 de Septiembre|100  |\n",
            "|cafe ambar                           |100  |\n",
            "|la perica hamburguesa                |102  |\n",
            "|tortas hawai                         |109  |\n",
            "|puesto de gorditas                   |109  |\n",
            "|tacos los volcanes                   |118  |\n",
            "|churchs                              |126  |\n",
            "|TACOS EL GUERO                       |133  |\n",
            "|Arrachela Grill                      |135  |\n",
            "+-------------------------------------+-----+\n",
            "only showing top 10 rows\n",
            "\n"
          ],
          "name": "stdout"
        }
      ]
    },
    {
      "cell_type": "code",
      "metadata": {
        "id": "zw4K8CdeeVvt",
        "colab_type": "code",
        "colab": {
          "base_uri": "https://localhost:8080/",
          "height": 289
        },
        "outputId": "f0153345-15d9-4a44-a5bb-5c44c6384c17"
      },
      "source": [
        "# El cliente 100 y el 450 cold celd\n",
        "DS_peliculas_rating.groupBy(\n",
        "    'Distrito'\n",
        ").count().orderBy(\n",
        "    'count', ascending=False\n",
        ").show(10, False)"
      ],
      "execution_count": null,
      "outputs": [
        {
          "output_type": "stream",
          "text": [
            "+---------------+-----+\n",
            "|Distrito       |count|\n",
            "+---------------+-----+\n",
            "|San Luis Potosi|33108|\n",
            "|0              |4283 |\n",
            "|Cuernavaca     |3824 |\n",
            "|san luis potosi|1969 |\n",
            "|victoria       |1642 |\n",
            "|s.l.p.         |1387 |\n",
            "|Jiutepec       |1001 |\n",
            "|Soledad        |705  |\n",
            "|Ciudad Victoria|629  |\n",
            "|s.l.p          |497  |\n",
            "+---------------+-----+\n",
            "only showing top 10 rows\n",
            "\n"
          ],
          "name": "stdout"
        }
      ]
    },
    {
      "cell_type": "code",
      "metadata": {
        "id": "qjXrTD2NJTdK",
        "colab_type": "code",
        "colab": {
          "base_uri": "https://localhost:8080/",
          "height": 289
        },
        "outputId": "c7234f40-417a-4a3e-ce56-3be87e5c08aa"
      },
      "source": [
        "DS_peliculas_rating.filter(\n",
        "    (DS_peliculas_rating['Nombre_comerce'] == 'Luna Cafe')\n",
        ").groupBy(\n",
        "    'userId'\n",
        ").count().orderBy(\n",
        "    'count', ascending=False\n",
        ").show(10, False)"
      ],
      "execution_count": null,
      "outputs": [
        {
          "output_type": "stream",
          "text": [
            "+------+-----+\n",
            "|userId|count|\n",
            "+------+-----+\n",
            "|U1049 |73   |\n",
            "|U1005 |73   |\n",
            "|U1024 |73   |\n",
            "|U1104 |69   |\n",
            "|U1045 |69   |\n",
            "|U1054 |61   |\n",
            "|U1075 |49   |\n",
            "|U1126 |41   |\n",
            "|U1106 |41   |\n",
            "|U1086 |40   |\n",
            "+------+-----+\n",
            "only showing top 10 rows\n",
            "\n"
          ],
          "name": "stdout"
        }
      ]
    },
    {
      "cell_type": "code",
      "metadata": {
        "id": "F3q6x6C0KBKy",
        "colab_type": "code",
        "colab": {
          "base_uri": "https://localhost:8080/",
          "height": 221
        },
        "outputId": "477829eb-4d84-4ced-92e1-98a7e3f1fb2e"
      },
      "source": [
        "\n",
        "DS_peliculas_rating.groupBy(\n",
        "    'rating_total'\n",
        ").count().orderBy(\n",
        "    'count', ascending=False\n",
        ").show(10, False)"
      ],
      "execution_count": null,
      "outputs": [
        {
          "output_type": "stream",
          "text": [
            "+------------+-----+\n",
            "|rating_total|count|\n",
            "+------------+-----+\n",
            "|6           |13423|\n",
            "|3           |9707 |\n",
            "|0           |8115 |\n",
            "|4           |7757 |\n",
            "|5           |6324 |\n",
            "|2           |3790 |\n",
            "|1           |1650 |\n",
            "+------------+-----+\n",
            "\n"
          ],
          "name": "stdout"
        }
      ]
    },
    {
      "cell_type": "markdown",
      "metadata": {
        "id": "nhC6tpUw39tn",
        "colab_type": "text"
      },
      "source": [
        "# 3. FEature Engineering: Tansforma pelicula a numero\n",
        "\n"
      ]
    },
    {
      "cell_type": "code",
      "metadata": {
        "id": "h05_VfzA4C1k",
        "colab_type": "code",
        "colab": {}
      },
      "source": [
        "# Importando el codifocador\n",
        "from pyspark.ml.feature import StringIndexer, IndexToString"
      ],
      "execution_count": null,
      "outputs": []
    },
    {
      "cell_type": "code",
      "metadata": {
        "id": "LBiAQR4tB8ul",
        "colab_type": "code",
        "colab": {}
      },
      "source": [
        "# Configurando la Numerzación los titulos de las peliculas\n",
        "# title_new = La codificación de las peliculas\n",
        "\n",
        "stringIndexer = StringIndexer(inputCol=\"Nombre_comerce\", outputCol=\"Nombre_comerce_ID\")"
      ],
      "execution_count": null,
      "outputs": []
    },
    {
      "cell_type": "code",
      "metadata": {
        "id": "ROKx3a2bCgsw",
        "colab_type": "code",
        "colab": {
          "base_uri": "https://localhost:8080/",
          "height": 289
        },
        "outputId": "0e6ccfe7-229a-4108-b972-dff8b7b0de34"
      },
      "source": [
        "DS_peliculas_rating.show(10)"
      ],
      "execution_count": null,
      "outputs": [
        {
          "output_type": "stream",
          "text": [
            "+------+----------+-------+--------------------+---------------+------+-----------+--------------+------------+\n",
            "|userID|userID_cod|placeID|      Nombre_comerce|       Distrito|rating|food_rating|service_rating|rating_total|\n",
            "+------+----------+-------+--------------------+---------------+------+-----------+--------------+------------+\n",
            "| U1077|         1| 135085|Tortas Locas Hipo...|San Luis Potosi|     2|          2|             2|           6|\n",
            "| U1077|         1| 135038|Restaurant la Cha...|San Luis Potosi|     2|          2|             1|           5|\n",
            "| U1077|         1| 132825|     puesto de tacos|         s.l.p.|     2|          2|             2|           6|\n",
            "| U1077|         1| 135060|Restaurante Maris...|San Luis Potosi|     1|          2|             2|           5|\n",
            "| U1068|         2| 135104|                vips|              0|     1|          1|             2|           4|\n",
            "| U1068|         2| 132740|Carreton de Flaut...|Ciudad Victoria|     0|          0|             0|           0|\n",
            "| U1068|         2| 132663|           tacos abi|       victoria|     1|          1|             1|           3|\n",
            "| U1068|         2| 132732|  Taqueria EL amigo |    Cd Victoria|     0|          0|             0|           0|\n",
            "| U1068|         2| 132630|          palomo tec|       victoria|     1|          1|             1|           3|\n",
            "| U1067|         3| 132584|  Gorditas Dona Tota|              0|     2|          2|             2|           6|\n",
            "+------+----------+-------+--------------------+---------------+------+-----------+--------------+------------+\n",
            "only showing top 10 rows\n",
            "\n"
          ],
          "name": "stdout"
        }
      ]
    },
    {
      "cell_type": "code",
      "metadata": {
        "id": "ITdcCS0iNhUZ",
        "colab_type": "code",
        "colab": {
          "base_uri": "https://localhost:8080/",
          "height": 459
        },
        "outputId": "0fedcef0-89fe-4976-9ab7-f44c7992431b"
      },
      "source": [
        "DS_peliculas_rating = DS_peliculas_rating.drop('rating', 'food_rating', 'service_rating')\n",
        "DS_peliculas_rating = DS_peliculas_rating.withColumn('rating', DS_peliculas_rating.rating_total)\n",
        "DS_peliculas_rating.show()"
      ],
      "execution_count": null,
      "outputs": [
        {
          "output_type": "stream",
          "text": [
            "+------+----------+-------+--------------------+---------------+------------+\n",
            "|userID|userID_cod|placeID|      Nombre_comerce|       Distrito|rating_total|\n",
            "+------+----------+-------+--------------------+---------------+------------+\n",
            "| U1077|         1| 135085|Tortas Locas Hipo...|San Luis Potosi|           6|\n",
            "| U1077|         1| 135038|Restaurant la Cha...|San Luis Potosi|           5|\n",
            "| U1077|         1| 132825|     puesto de tacos|         s.l.p.|           6|\n",
            "| U1077|         1| 135060|Restaurante Maris...|San Luis Potosi|           5|\n",
            "| U1068|         2| 135104|                vips|              0|           4|\n",
            "| U1068|         2| 132740|Carreton de Flaut...|Ciudad Victoria|           0|\n",
            "| U1068|         2| 132663|           tacos abi|       victoria|           3|\n",
            "| U1068|         2| 132732|  Taqueria EL amigo |    Cd Victoria|           0|\n",
            "| U1068|         2| 132630|          palomo tec|       victoria|           3|\n",
            "| U1067|         3| 132584|  Gorditas Dona Tota|              0|           6|\n",
            "| U1067|         3| 132733|       Little Cesarz|Ciudad Victoria|           3|\n",
            "| U1067|         3| 132732|  Taqueria EL amigo |    Cd Victoria|           5|\n",
            "| U1067|         3| 132630|          palomo tec|       victoria|           2|\n",
            "| U1067|         3| 135104|                vips|              0|           0|\n",
            "| U1067|         3| 132560|  puesto de gorditas|       victoria|           1|\n",
            "| U1103|         4| 132584|  Gorditas Dona Tota|              0|           4|\n",
            "| U1103|         4| 132732|  Taqueria EL amigo |    Cd Victoria|           2|\n",
            "| U1103|         4| 132630|          palomo tec|       victoria|           3|\n",
            "| U1103|         4| 132613|       carnitas_mata|       victoria|           6|\n",
            "| U1103|         4| 132667|little pizza Emil...|      victoria |           5|\n",
            "+------+----------+-------+--------------------+---------------+------------+\n",
            "only showing top 20 rows\n",
            "\n"
          ],
          "name": "stdout"
        }
      ]
    },
    {
      "cell_type": "code",
      "metadata": {
        "id": "j4ZhQyJoNiSg",
        "colab_type": "code",
        "colab": {
          "base_uri": "https://localhost:8080/",
          "height": 459
        },
        "outputId": "ea42e0b1-bf87-4756-dd78-7ab1cc3ae3bc"
      },
      "source": [
        "DS_peliculas_rating = DS_peliculas_rating.withColumn('rating', DS_peliculas_rating.rating_total)\n",
        "DS_peliculas_rating.show()"
      ],
      "execution_count": null,
      "outputs": [
        {
          "output_type": "stream",
          "text": [
            "+------+----------+-------+--------------------+---------------+------------+------+\n",
            "|userID|userID_cod|placeID|      Nombre_comerce|       Distrito|rating_total|rating|\n",
            "+------+----------+-------+--------------------+---------------+------------+------+\n",
            "| U1077|         1| 135085|Tortas Locas Hipo...|San Luis Potosi|           6|     6|\n",
            "| U1077|         1| 135038|Restaurant la Cha...|San Luis Potosi|           5|     5|\n",
            "| U1077|         1| 132825|     puesto de tacos|         s.l.p.|           6|     6|\n",
            "| U1077|         1| 135060|Restaurante Maris...|San Luis Potosi|           5|     5|\n",
            "| U1068|         2| 135104|                vips|              0|           4|     4|\n",
            "| U1068|         2| 132740|Carreton de Flaut...|Ciudad Victoria|           0|     0|\n",
            "| U1068|         2| 132663|           tacos abi|       victoria|           3|     3|\n",
            "| U1068|         2| 132732|  Taqueria EL amigo |    Cd Victoria|           0|     0|\n",
            "| U1068|         2| 132630|          palomo tec|       victoria|           3|     3|\n",
            "| U1067|         3| 132584|  Gorditas Dona Tota|              0|           6|     6|\n",
            "| U1067|         3| 132733|       Little Cesarz|Ciudad Victoria|           3|     3|\n",
            "| U1067|         3| 132732|  Taqueria EL amigo |    Cd Victoria|           5|     5|\n",
            "| U1067|         3| 132630|          palomo tec|       victoria|           2|     2|\n",
            "| U1067|         3| 135104|                vips|              0|           0|     0|\n",
            "| U1067|         3| 132560|  puesto de gorditas|       victoria|           1|     1|\n",
            "| U1103|         4| 132584|  Gorditas Dona Tota|              0|           4|     4|\n",
            "| U1103|         4| 132732|  Taqueria EL amigo |    Cd Victoria|           2|     2|\n",
            "| U1103|         4| 132630|          palomo tec|       victoria|           3|     3|\n",
            "| U1103|         4| 132613|       carnitas_mata|       victoria|           6|     6|\n",
            "| U1103|         4| 132667|little pizza Emil...|      victoria |           5|     5|\n",
            "+------+----------+-------+--------------------+---------------+------------+------+\n",
            "only showing top 20 rows\n",
            "\n"
          ],
          "name": "stdout"
        }
      ]
    },
    {
      "cell_type": "code",
      "metadata": {
        "id": "ZWWkB23jNh_X",
        "colab_type": "code",
        "colab": {}
      },
      "source": [
        ""
      ],
      "execution_count": null,
      "outputs": []
    },
    {
      "cell_type": "code",
      "metadata": {
        "id": "1Lik8aKaCw_O",
        "colab_type": "code",
        "colab": {}
      },
      "source": [
        "#Aplicando la numerización de peliculas\n",
        "model = stringIndexer.fit(DS_peliculas_rating)"
      ],
      "execution_count": null,
      "outputs": []
    },
    {
      "cell_type": "code",
      "metadata": {
        "id": "ANbGXtZHDBxt",
        "colab_type": "code",
        "colab": {}
      },
      "source": [
        "#Creando un nuevo Dataframe con el indexado creado\n",
        "indexed = model.transform(DS_peliculas_rating)"
      ],
      "execution_count": null,
      "outputs": []
    },
    {
      "cell_type": "code",
      "metadata": {
        "id": "mLkAhgfoCg4X",
        "colab_type": "code",
        "colab": {
          "base_uri": "https://localhost:8080/",
          "height": 289
        },
        "outputId": "cc36ae6c-366f-4947-e1b8-fec6f0063943"
      },
      "source": [
        "#Revision de los indices\n",
        "indexed.show(10)"
      ],
      "execution_count": null,
      "outputs": [
        {
          "output_type": "stream",
          "text": [
            "+------+----------+-------+--------------------+---------------+------------+------+-----------------+\n",
            "|userID|userID_cod|placeID|      Nombre_comerce|       Distrito|rating_total|rating|Nombre_comerce_ID|\n",
            "+------+----------+-------+--------------------+---------------+------------+------+-----------------+\n",
            "| U1077|         1| 135085|Tortas Locas Hipo...|San Luis Potosi|           6|     6|              0.0|\n",
            "| U1077|         1| 135038|Restaurant la Cha...|San Luis Potosi|           5|     5|              4.0|\n",
            "| U1077|         1| 132825|     puesto de tacos|         s.l.p.|           6|     6|              2.0|\n",
            "| U1077|         1| 135060|Restaurante Maris...|San Luis Potosi|           5|     5|              6.0|\n",
            "| U1068|         2| 135104|                vips|              0|           4|     4|             80.0|\n",
            "| U1068|         2| 132740|Carreton de Flaut...|Ciudad Victoria|           0|     0|             72.0|\n",
            "| U1068|         2| 132663|           tacos abi|       victoria|           3|     3|             91.0|\n",
            "| U1068|         2| 132732|  Taqueria EL amigo |    Cd Victoria|           0|     0|             81.0|\n",
            "| U1068|         2| 132630|          palomo tec|       victoria|           3|     3|            101.0|\n",
            "| U1067|         3| 132584|  Gorditas Dona Tota|              0|           6|     6|             61.0|\n",
            "+------+----------+-------+--------------------+---------------+------------+------+-----------------+\n",
            "only showing top 10 rows\n",
            "\n"
          ],
          "name": "stdout"
        }
      ]
    },
    {
      "cell_type": "code",
      "metadata": {
        "id": "0uDCzdTqDg5D",
        "colab_type": "code",
        "colab": {
          "base_uri": "https://localhost:8080/",
          "height": 289
        },
        "outputId": "c2fc8698-7d4d-4121-e378-3cfdc5e1b6eb"
      },
      "source": [
        "#Numero de veces que cada titulo ha aparecido\n",
        "indexed.groupBy('Nombre_comerce_ID').count().orderBy('count',ascending=False).show(10, False)"
      ],
      "execution_count": null,
      "outputs": [
        {
          "output_type": "stream",
          "text": [
            "+-----------------+-----+\n",
            "|Nombre_comerce_ID|count|\n",
            "+-----------------+-----+\n",
            "|0.0              |1641 |\n",
            "|1.0              |1466 |\n",
            "|2.0              |1387 |\n",
            "|3.0              |1202 |\n",
            "|4.0              |1200 |\n",
            "|5.0              |1176 |\n",
            "|6.0              |1017 |\n",
            "|7.0              |955  |\n",
            "|8.0              |945  |\n",
            "|9.0              |836  |\n",
            "+-----------------+-----+\n",
            "only showing top 10 rows\n",
            "\n"
          ],
          "name": "stdout"
        }
      ]
    },
    {
      "cell_type": "markdown",
      "metadata": {
        "id": "xgUobOLemd25",
        "colab_type": "text"
      },
      "source": [
        "# 4. Dividiendo la data en muestra de entrenamiento y validacion\n"
      ]
    },
    {
      "cell_type": "code",
      "metadata": {
        "id": "G1ieZbSqEAKw",
        "colab_type": "code",
        "colab": {
          "base_uri": "https://localhost:8080/",
          "height": 323
        },
        "outputId": "7d85cbd8-351e-4010-90ee-a94603975271"
      },
      "source": [
        "help(indexed.randomSplit)"
      ],
      "execution_count": null,
      "outputs": [
        {
          "output_type": "stream",
          "text": [
            "Help on method randomSplit in module pyspark.sql.dataframe:\n",
            "\n",
            "randomSplit(weights, seed=None) method of pyspark.sql.dataframe.DataFrame instance\n",
            "    Randomly splits this :class:`DataFrame` with the provided weights.\n",
            "    \n",
            "    :param weights: list of doubles as weights with which to split the DataFrame. Weights will\n",
            "        be normalized if they don't sum up to 1.0.\n",
            "    :param seed: The seed for sampling.\n",
            "    \n",
            "    >>> splits = df4.randomSplit([1.0, 2.0], 24)\n",
            "    >>> splits[0].count()\n",
            "    1\n",
            "    \n",
            "    >>> splits[1].count()\n",
            "    3\n",
            "    \n",
            "    .. versionadded:: 1.4\n",
            "\n"
          ],
          "name": "stdout"
        }
      ]
    },
    {
      "cell_type": "code",
      "metadata": {
        "id": "YRWfAt1MMues",
        "colab_type": "code",
        "colab": {
          "base_uri": "https://localhost:8080/",
          "height": 170
        },
        "outputId": "12e8b7ea-e93f-462e-a96b-234083f7741b"
      },
      "source": [
        "DS_peliculas_rating.show(3)"
      ],
      "execution_count": null,
      "outputs": [
        {
          "output_type": "stream",
          "text": [
            "+------+----------+-------+--------------------+---------------+------------+------+\n",
            "|userID|userID_cod|placeID|      Nombre_comerce|       Distrito|rating_total|rating|\n",
            "+------+----------+-------+--------------------+---------------+------------+------+\n",
            "| U1077|         1| 135085|Tortas Locas Hipo...|San Luis Potosi|           6|     6|\n",
            "| U1077|         1| 135038|Restaurant la Cha...|San Luis Potosi|           5|     5|\n",
            "| U1077|         1| 132825|     puesto de tacos|         s.l.p.|           6|     6|\n",
            "+------+----------+-------+--------------------+---------------+------------+------+\n",
            "only showing top 3 rows\n",
            "\n"
          ],
          "name": "stdout"
        }
      ]
    },
    {
      "cell_type": "code",
      "metadata": {
        "id": "8ws92PIxmkGs",
        "colab_type": "code",
        "colab": {}
      },
      "source": [
        "#4.1  Data de entrenamiento y validacion\n",
        "train, test = indexed.randomSplit([0.75, 0.25], seed=1234)"
      ],
      "execution_count": null,
      "outputs": []
    },
    {
      "cell_type": "code",
      "metadata": {
        "id": "AVzr9MGdD_Mi",
        "colab_type": "code",
        "colab": {
          "base_uri": "https://localhost:8080/",
          "height": 34
        },
        "outputId": "4eb70e27-eb22-4d9a-8de6-d27fc353c988"
      },
      "source": [
        "# Nro de entrenamiento\n",
        "train.count()"
      ],
      "execution_count": null,
      "outputs": [
        {
          "output_type": "execute_result",
          "data": {
            "text/plain": [
              "38060"
            ]
          },
          "metadata": {
            "tags": []
          },
          "execution_count": 97
        }
      ]
    },
    {
      "cell_type": "code",
      "metadata": {
        "id": "Sw9bXyMoEUaf",
        "colab_type": "code",
        "colab": {
          "base_uri": "https://localhost:8080/",
          "height": 204
        },
        "outputId": "7cb8c245-e230-4076-fe5d-deeb7fd9d738"
      },
      "source": [
        "train.show(5)"
      ],
      "execution_count": null,
      "outputs": [
        {
          "output_type": "stream",
          "text": [
            "+------+----------+-------+---------------+--------+------------+------+-----------------+\n",
            "|userID|userID_cod|placeID| Nombre_comerce|Distrito|rating_total|rating|Nombre_comerce_ID|\n",
            "+------+----------+-------+---------------+--------+------------+------+-----------------+\n",
            "| U1001|        39| 132825|puesto de tacos|  s.l.p.|           5|     5|              2.0|\n",
            "| U1001|        39| 132825|puesto de tacos|  s.l.p.|           5|     5|              2.0|\n",
            "| U1001|        39| 132825|puesto de tacos|  s.l.p.|           5|     5|              2.0|\n",
            "| U1001|        39| 132825|puesto de tacos|  s.l.p.|           5|     5|              2.0|\n",
            "| U1001|        39| 132825|puesto de tacos|  s.l.p.|           5|     5|              2.0|\n",
            "+------+----------+-------+---------------+--------+------------+------+-----------------+\n",
            "only showing top 5 rows\n",
            "\n"
          ],
          "name": "stdout"
        }
      ]
    },
    {
      "cell_type": "code",
      "metadata": {
        "id": "WYpYCZWtEFCo",
        "colab_type": "code",
        "colab": {
          "base_uri": "https://localhost:8080/",
          "height": 34
        },
        "outputId": "97833adb-e96e-4950-cee0-4a69ff1795c6"
      },
      "source": [
        "# Nro de Validacion\n",
        "test.count()"
      ],
      "execution_count": null,
      "outputs": [
        {
          "output_type": "execute_result",
          "data": {
            "text/plain": [
              "12706"
            ]
          },
          "metadata": {
            "tags": []
          },
          "execution_count": 99
        }
      ]
    },
    {
      "cell_type": "code",
      "metadata": {
        "id": "uyI0krDuEYlu",
        "colab_type": "code",
        "colab": {
          "base_uri": "https://localhost:8080/",
          "height": 204
        },
        "outputId": "94052716-8a21-4229-a9bf-e7f4af186654"
      },
      "source": [
        "test.show(5)"
      ],
      "execution_count": null,
      "outputs": [
        {
          "output_type": "stream",
          "text": [
            "+------+----------+-------+---------------+--------+------------+------+-----------------+\n",
            "|userID|userID_cod|placeID| Nombre_comerce|Distrito|rating_total|rating|Nombre_comerce_ID|\n",
            "+------+----------+-------+---------------+--------+------------+------+-----------------+\n",
            "| U1001|        39| 132825|puesto de tacos|  s.l.p.|           5|     5|              2.0|\n",
            "| U1001|        39| 132825|puesto de tacos|  s.l.p.|           5|     5|              2.0|\n",
            "| U1001|        39| 132825|puesto de tacos|  s.l.p.|           5|     5|              2.0|\n",
            "| U1001|        39| 132825|puesto de tacos|  s.l.p.|           5|     5|              2.0|\n",
            "| U1001|        39| 132825|puesto de tacos|  s.l.p.|           5|     5|              2.0|\n",
            "+------+----------+-------+---------------+--------+------------+------+-----------------+\n",
            "only showing top 5 rows\n",
            "\n"
          ],
          "name": "stdout"
        }
      ]
    },
    {
      "cell_type": "markdown",
      "metadata": {
        "id": "DzS3l96FELtG",
        "colab_type": "text"
      },
      "source": [
        "# 5. Entrenando el Modelo\n"
      ]
    },
    {
      "cell_type": "code",
      "metadata": {
        "id": "bBgycnsdm9_3",
        "colab_type": "code",
        "colab": {}
      },
      "source": [
        "#Importando el modelo Recomendador ALS\n",
        "from pyspark.sql.functions import *\n",
        "from pyspark.ml.recommendation import ALS\n"
      ],
      "execution_count": null,
      "outputs": []
    },
    {
      "cell_type": "code",
      "metadata": {
        "id": "SdHwnxtKRxIn",
        "colab_type": "code",
        "colab": {}
      },
      "source": [
        "help(ALS)"
      ],
      "execution_count": null,
      "outputs": []
    },
    {
      "cell_type": "code",
      "metadata": {
        "id": "spViP-t4EY-7",
        "colab_type": "code",
        "colab": {}
      },
      "source": [
        "#Configuracion del Entrenamiento del modelo Recomendador usando la muetsra de entrenamiento\n",
        "rec = ALS(\n",
        "    maxIter=15,\n",
        "    regParam=0.025,\n",
        "    userCol='userID_cod',\n",
        "    itemCol='Nombre_comerce_ID',\n",
        "    ratingCol='rating',\n",
        "    nonnegative=True,\n",
        "    coldStartStrategy=\"drop\",\n",
        "    implicitPrefs=False,\n",
        "    seed=1234\n",
        ")\n",
        "\n",
        "# maxIter: El maximo de iteraciones\n",
        "# regParam: Parametro de REgularización\n",
        "# nonnegative: Especificar si se utiliza una restriccion negativa en los Minimos cuadrados\n",
        "# coldStartStrategy: Parametro que elimina cualquier cliente que no tenga informacion\n",
        "# implicitPrefs: Si es implicito hace referencia a feedback no registrado voluntariamente por el cliente"
      ],
      "execution_count": null,
      "outputs": []
    },
    {
      "cell_type": "code",
      "metadata": {
        "id": "QExd0BBZRwKn",
        "colab_type": "code",
        "colab": {}
      },
      "source": [
        ""
      ],
      "execution_count": null,
      "outputs": []
    },
    {
      "cell_type": "code",
      "metadata": {
        "id": "coVXq71IEkIS",
        "colab_type": "code",
        "colab": {}
      },
      "source": [
        "#Entrenando el modelo\n",
        "rec_model = rec.fit(train)"
      ],
      "execution_count": null,
      "outputs": []
    },
    {
      "cell_type": "code",
      "metadata": {
        "id": "fJxeEWJ5E0c0",
        "colab_type": "code",
        "colab": {}
      },
      "source": [
        "#Haciendo las predicciones en la data de test \n",
        "predicted_ratings = rec_model.transform(test)"
      ],
      "execution_count": null,
      "outputs": []
    },
    {
      "cell_type": "code",
      "metadata": {
        "id": "m55jvm2gEyCY",
        "colab_type": "code",
        "colab": {
          "base_uri": "https://localhost:8080/",
          "height": 204
        },
        "outputId": "a40009ac-3fdf-4972-9b63-d243f1c84c0c"
      },
      "source": [
        "#Revisando los pronostico\n",
        "predicted_ratings.printSchema()"
      ],
      "execution_count": null,
      "outputs": [
        {
          "output_type": "stream",
          "text": [
            "root\n",
            " |-- userID: string (nullable = true)\n",
            " |-- userID_cod: integer (nullable = true)\n",
            " |-- placeID: integer (nullable = true)\n",
            " |-- Nombre_comerce: string (nullable = true)\n",
            " |-- Distrito: string (nullable = true)\n",
            " |-- rating_total: integer (nullable = true)\n",
            " |-- rating: integer (nullable = true)\n",
            " |-- Nombre_comerce_ID: double (nullable = false)\n",
            " |-- prediction: float (nullable = false)\n",
            "\n"
          ],
          "name": "stdout"
        }
      ]
    },
    {
      "cell_type": "code",
      "metadata": {
        "id": "h8cfiAWkFHxi",
        "colab_type": "code",
        "colab": {
          "base_uri": "https://localhost:8080/",
          "height": 289
        },
        "outputId": "0d56614d-39aa-4d8f-b4d2-a9d9f9eba97c"
      },
      "source": [
        "# Revision rapida de los pronosticos\n",
        "predicted_ratings.orderBy(rand()).show(10)"
      ],
      "execution_count": null,
      "outputs": [
        {
          "output_type": "stream",
          "text": [
            "+------+----------+-------+--------------------+---------------+------------+------+-----------------+----------+\n",
            "|userID|userID_cod|placeID|      Nombre_comerce|       Distrito|rating_total|rating|Nombre_comerce_ID|prediction|\n",
            "+------+----------+-------+--------------------+---------------+------------+------+-----------------+----------+\n",
            "| U1126|        45| 135041|           Luna Cafe|San Luis Potosi|           4|     4|              9.0|  4.023547|\n",
            "| U1054|        90| 135062|Restaurante El Ci...|San Luis Potosi|           4|     4|              8.0| 4.1476994|\n",
            "| U1038|        66| 132858|Hamburguesas Vall...|San Luis Potosi|           3|     3|             66.0|  3.005488|\n",
            "| U1124|        46| 135032|Cafeteria y Resta...|San Luis Potosi|           3|     3|              1.0| 2.9272127|\n",
            "| U1010|       129| 135047|Restaurante Casa ...|San Luis Potosi|           3|     3|             45.0| 3.5453787|\n",
            "| U1004|        62| 135106|El Rinc�n de San ...|San Luis Potosi|           6|     6|             32.0| 5.9387927|\n",
            "| U1024|        58| 135045|Restaurante la Gr...|San Luis Potosi|           4|     4|             15.0| 3.8519707|\n",
            "| U1101|        94| 135052|La Cantina Restau...|San Luis Potosi|           4|     4|              3.0| 3.9032707|\n",
            "| U1023|        10| 132715|tacos de la estacion|              0|           0|     0|            110.0|0.03617983|\n",
            "| U1016|        78| 135032|Cafeteria y Resta...|San Luis Potosi|           6|     6|              1.0|  6.011527|\n",
            "+------+----------+-------+--------------------+---------------+------------+------+-----------------+----------+\n",
            "only showing top 10 rows\n",
            "\n"
          ],
          "name": "stdout"
        }
      ]
    },
    {
      "cell_type": "code",
      "metadata": {
        "id": "VbJyix-VOLOf",
        "colab_type": "code",
        "colab": {
          "base_uri": "https://localhost:8080/",
          "height": 289
        },
        "outputId": "8756bc57-37e2-44d3-d081-adecc14ee295"
      },
      "source": [
        "predicted_ratings.filter(predicted_ratings.userID == 'U1106').orderBy('prediction', ascending=False).show(10, False)"
      ],
      "execution_count": null,
      "outputs": [
        {
          "output_type": "stream",
          "text": [
            "+------+----------+-------+-----------------------------------+---------------+------------+------+-----------------+----------+\n",
            "|userID|userID_cod|placeID|Nombre_comerce                     |Distrito       |rating_total|rating|Nombre_comerce_ID|prediction|\n",
            "+------+----------+-------+-----------------------------------+---------------+------------+------+-----------------+----------+\n",
            "|U1106 |44        |135064 |Restaurante El Chivero S.A. de C.V.|San Luis Potosi|6           |6     |20.0             |6.1799283 |\n",
            "|U1106 |44        |135064 |Restaurante El Chivero S.A. de C.V.|San Luis Potosi|6           |6     |20.0             |6.1799283 |\n",
            "|U1106 |44        |135064 |Restaurante El Chivero S.A. de C.V.|San Luis Potosi|6           |6     |20.0             |6.1799283 |\n",
            "|U1106 |44        |135064 |Restaurante El Chivero S.A. de C.V.|San Luis Potosi|6           |6     |20.0             |6.1799283 |\n",
            "|U1106 |44        |135064 |Restaurante El Chivero S.A. de C.V.|San Luis Potosi|6           |6     |20.0             |6.1799283 |\n",
            "|U1106 |44        |135064 |Restaurante El Chivero S.A. de C.V.|San Luis Potosi|6           |6     |20.0             |6.1799283 |\n",
            "|U1106 |44        |135064 |Restaurante El Chivero S.A. de C.V.|San Luis Potosi|6           |6     |20.0             |6.1799283 |\n",
            "|U1106 |44        |135064 |Restaurante El Chivero S.A. de C.V.|San Luis Potosi|6           |6     |20.0             |6.1799283 |\n",
            "|U1106 |44        |135064 |Restaurante El Chivero S.A. de C.V.|San Luis Potosi|6           |6     |20.0             |6.1799283 |\n",
            "|U1106 |44        |135064 |Restaurante El Chivero S.A. de C.V.|San Luis Potosi|6           |6     |20.0             |6.1799283 |\n",
            "+------+----------+-------+-----------------------------------+---------------+------------+------+-----------------+----------+\n",
            "only showing top 10 rows\n",
            "\n"
          ],
          "name": "stdout"
        }
      ]
    },
    {
      "cell_type": "code",
      "metadata": {
        "id": "ExCaJTseOzsf",
        "colab_type": "code",
        "colab": {
          "base_uri": "https://localhost:8080/",
          "height": 408
        },
        "outputId": "94e8769d-fd9d-4046-c81b-f62e32842aa2"
      },
      "source": [
        "_group_predict = predicted_ratings.filter(predicted_ratings.userID_cod == 44).groupBy('Nombre_comerce').agg({\n",
        "     'prediction': 'mean',   'Distrito': 'last', 'rating': 'mean'\n",
        "}).orderBy('avg(prediction)', ascending=False)\n",
        "\n",
        "_group_predict.show(100, False)"
      ],
      "execution_count": null,
      "outputs": [
        {
          "output_type": "stream",
          "text": [
            "+-----------------------------------+--------------------+-----------+---------------+\n",
            "|Nombre_comerce                     |avg(prediction)     |avg(rating)|last(Distrito) |\n",
            "+-----------------------------------+--------------------+-----------+---------------+\n",
            "|Restaurante El Chivero S.A. de C.V.|6.179928302764893   |6.0        |San Luis Potosi|\n",
            "|Koye Sushi                         |6.059830188751221   |6.0        |San Luis Potosi|\n",
            "|La Posada del Virrey               |5.979745864868164   |6.0        |San Luis Potosi|\n",
            "|Tortas Locas Hipocampo             |5.721068859100342   |6.0        |San Luis Potosi|\n",
            "|Restaurante Guerra                 |4.942611217498779   |5.0        |San Luis Potosi|\n",
            "|Cabana Huasteca                    |4.918063163757324   |5.0        |San Luis Potosi|\n",
            "|Restaurante El Cielo Potosino      |4.849102973937988   |5.0        |San Luis Potosi|\n",
            "|Preambulo Wifi Zone Cafe           |4.836749076843262   |5.0        |San Luis Potosi|\n",
            "|Gorditas Doa Gloria                |3.9483423233032227  |4.0        |san luis potosi|\n",
            "|Restaurant de Mariscos de Picon    |3.7916624546051025  |4.0        |San Luis Potosi|\n",
            "|Luna Cafe                          |3.1960833072662354  |3.0        |San Luis Potosi|\n",
            "|La Virreina                        |2.9129326343536377  |3.0        |San Luis Potosi|\n",
            "|Restaurant Oriental Express        |1.914745807647705   |2.0        |San Luis Potosi|\n",
            "|Unicols Pizza                      |1.0571348667144775  |1.0        |San Luis Potosi|\n",
            "|Cafeteria y Restaurant El Pacifico |0.5113864541053772  |0.0        |San Luis Potosi|\n",
            "|La Cantina Restaurante             |0.37005341053009033 |0.0        |San Luis Potosi|\n",
            "|Restaurante Casa de las Flores     |0.19511771202087402 |0.0        |San Luis Potosi|\n",
            "|El Rinc�n de San Francisco         |0.033394813537597656|0.0        |San Luis Potosi|\n",
            "+-----------------------------------+--------------------+-----------+---------------+\n",
            "\n"
          ],
          "name": "stdout"
        }
      ]
    },
    {
      "cell_type": "code",
      "metadata": {
        "id": "lVrM1SyOWHHi",
        "colab_type": "code",
        "colab": {
          "base_uri": "https://localhost:8080/",
          "height": 255
        },
        "outputId": "25a0a2da-628f-48d9-a1e8-bba9f0d489bd"
      },
      "source": [
        "_group_predict_other = predicted_ratings.filter(predicted_ratings.userID == 'U1049').groupBy('Nombre_comerce').agg({\n",
        "     'prediction': 'mean',   'Distrito': 'last', 'rating': 'mean'\n",
        "}).orderBy('avg(prediction)', ascending=False)\n",
        "\n",
        "_group_predict_other.show(100, False)"
      ],
      "execution_count": null,
      "outputs": [
        {
          "output_type": "stream",
          "text": [
            "+----------------------------------+---------------+-----------+---------------+\n",
            "|Nombre_comerce                    |avg(prediction)|avg(rating)|last(Distrito) |\n",
            "+----------------------------------+---------------+-----------+---------------+\n",
            "|puesto de tacos                   |0.0            |0.0        |s.l.p.         |\n",
            "|La Cantina Restaurante            |0.0            |0.0        |San Luis Potosi|\n",
            "|Restaurant Oriental Express       |0.0            |0.0        |San Luis Potosi|\n",
            "|Luna Cafe                         |0.0            |0.0        |San Luis Potosi|\n",
            "|La Posada del Virrey              |0.0            |0.0        |San Luis Potosi|\n",
            "|Cafeteria y Restaurant El Pacifico|0.0            |0.0        |San Luis Potosi|\n",
            "|Tortas Locas Hipocampo            |0.0            |0.0        |San Luis Potosi|\n",
            "|Restaurante Versalles             |0.0            |0.0        |San Luis Potosi|\n",
            "|crudalia                          |0.0            |0.0        |0              |\n",
            "+----------------------------------+---------------+-----------+---------------+\n",
            "\n"
          ],
          "name": "stdout"
        }
      ]
    },
    {
      "cell_type": "markdown",
      "metadata": {
        "id": "hSEgqY-EpCYi",
        "colab_type": "text"
      },
      "source": [
        "# 5. Evaluación del poder predictivo del modelo\n"
      ]
    },
    {
      "cell_type": "code",
      "metadata": {
        "id": "DmVUSxsmpJ4M",
        "colab_type": "code",
        "colab": {
          "base_uri": "https://localhost:8080/",
          "height": 408
        },
        "outputId": "805619ea-077a-4a28-c24e-3efc02ca9644"
      },
      "source": [
        "# Creando la columna diferencia del pronostico\n",
        "predicted_ratings_witherr = _group_predict.withColumn(\n",
        "    'err', abs(_group_predict['avg(prediction)'] - _group_predict['avg(rating)'])\n",
        ")\n",
        "\n",
        "predicted_ratings_witherr.show(100, False)"
      ],
      "execution_count": null,
      "outputs": [
        {
          "output_type": "stream",
          "text": [
            "+-----------------------------------+--------------------+-----------+---------------+--------------------+\n",
            "|Nombre_comerce                     |avg(prediction)     |avg(rating)|last(Distrito) |err                 |\n",
            "+-----------------------------------+--------------------+-----------+---------------+--------------------+\n",
            "|Restaurante El Chivero S.A. de C.V.|6.179928302764893   |6.0        |San Luis Potosi|0.17992830276489258 |\n",
            "|Koye Sushi                         |6.059830188751221   |6.0        |San Luis Potosi|0.0598301887512207  |\n",
            "|La Posada del Virrey               |5.979745864868164   |6.0        |San Luis Potosi|0.020254135131835938|\n",
            "|Tortas Locas Hipocampo             |5.721068859100342   |6.0        |San Luis Potosi|0.2789311408996582  |\n",
            "|Restaurante Guerra                 |4.942611217498779   |5.0        |San Luis Potosi|0.0573887825012207  |\n",
            "|Cabana Huasteca                    |4.918063163757324   |5.0        |San Luis Potosi|0.08193683624267578 |\n",
            "|Restaurante El Cielo Potosino      |4.849102973937988   |5.0        |San Luis Potosi|0.15089702606201172 |\n",
            "|Preambulo Wifi Zone Cafe           |4.836749076843262   |5.0        |San Luis Potosi|0.16325092315673828 |\n",
            "|Gorditas Doa Gloria                |3.9483423233032227  |4.0        |san luis potosi|0.051657676696777344|\n",
            "|Restaurant de Mariscos de Picon    |3.7916624546051025  |4.0        |San Luis Potosi|0.20833754539489746 |\n",
            "|Luna Cafe                          |3.1960833072662354  |3.0        |San Luis Potosi|0.19608330726623535 |\n",
            "|La Virreina                        |2.9129326343536377  |3.0        |San Luis Potosi|0.0870673656463623  |\n",
            "|Restaurant Oriental Express        |1.914745807647705   |2.0        |San Luis Potosi|0.08525419235229492 |\n",
            "|Unicols Pizza                      |1.0571348667144775  |1.0        |San Luis Potosi|0.05713486671447754 |\n",
            "|Cafeteria y Restaurant El Pacifico |0.5113864541053772  |0.0        |San Luis Potosi|0.5113864541053772  |\n",
            "|La Cantina Restaurante             |0.37005341053009033 |0.0        |San Luis Potosi|0.37005341053009033 |\n",
            "|Restaurante Casa de las Flores     |0.19511771202087402 |0.0        |San Luis Potosi|0.19511771202087402 |\n",
            "|El Rinc�n de San Francisco         |0.033394813537597656|0.0        |San Luis Potosi|0.033394813537597656|\n",
            "+-----------------------------------+--------------------+-----------+---------------+--------------------+\n",
            "\n"
          ],
          "name": "stdout"
        }
      ]
    },
    {
      "cell_type": "code",
      "metadata": {
        "id": "4YKDRaeJWYxB",
        "colab_type": "code",
        "colab": {
          "base_uri": "https://localhost:8080/",
          "height": 255
        },
        "outputId": "0ccda3c4-d87b-4c12-a66f-d14708708218"
      },
      "source": [
        "redicted_ratings_witherr_other = _group_predict_other.withColumn(\n",
        "    'err', abs(_group_predict_other['avg(prediction)'] - _group_predict_other['avg(rating)'])\n",
        ")\n",
        "\n",
        "redicted_ratings_witherr_other.show(100, False)"
      ],
      "execution_count": null,
      "outputs": [
        {
          "output_type": "stream",
          "text": [
            "+----------------------------------+---------------+-----------+---------------+---+\n",
            "|Nombre_comerce                    |avg(prediction)|avg(rating)|last(Distrito) |err|\n",
            "+----------------------------------+---------------+-----------+---------------+---+\n",
            "|puesto de tacos                   |0.0            |0.0        |s.l.p.         |0.0|\n",
            "|La Cantina Restaurante            |0.0            |0.0        |San Luis Potosi|0.0|\n",
            "|Restaurant Oriental Express       |0.0            |0.0        |San Luis Potosi|0.0|\n",
            "|Luna Cafe                         |0.0            |0.0        |San Luis Potosi|0.0|\n",
            "|La Posada del Virrey              |0.0            |0.0        |San Luis Potosi|0.0|\n",
            "|Cafeteria y Restaurant El Pacifico|0.0            |0.0        |San Luis Potosi|0.0|\n",
            "|Tortas Locas Hipocampo            |0.0            |0.0        |San Luis Potosi|0.0|\n",
            "|Restaurante Versalles             |0.0            |0.0        |San Luis Potosi|0.0|\n",
            "|crudalia                          |0.0            |0.0        |0              |0.0|\n",
            "+----------------------------------+---------------+-----------+---------------+---+\n",
            "\n"
          ],
          "name": "stdout"
        }
      ]
    },
    {
      "cell_type": "code",
      "metadata": {
        "id": "Hmz-kELOTXUC",
        "colab_type": "code",
        "colab": {}
      },
      "source": [
        ""
      ],
      "execution_count": null,
      "outputs": []
    },
    {
      "cell_type": "code",
      "metadata": {
        "id": "JNus98knTXHR",
        "colab_type": "code",
        "colab": {}
      },
      "source": [
        ""
      ],
      "execution_count": null,
      "outputs": []
    },
    {
      "cell_type": "code",
      "metadata": {
        "id": "gGaV8GH8QpJO",
        "colab_type": "code",
        "colab": {
          "base_uri": "https://localhost:8080/",
          "height": 34
        },
        "outputId": "a43e19d0-61dc-4552-b042-244f226cd2c1"
      },
      "source": [
        "predicted_ratings_witherr.agg({\"err\": \"avg\"}).collect()"
      ],
      "execution_count": null,
      "outputs": [
        {
          "output_type": "execute_result",
          "data": {
            "text/plain": [
              "[Row(avg(err)=0.15488359332084656)]"
            ]
          },
          "metadata": {
            "tags": []
          },
          "execution_count": 141
        }
      ]
    },
    {
      "cell_type": "code",
      "metadata": {
        "id": "5c9vbl7Q2b1x",
        "colab_type": "code",
        "colab": {
          "base_uri": "https://localhost:8080/",
          "height": 221
        },
        "outputId": "ceb7057d-4763-441e-e13b-cfcf68df7a69"
      },
      "source": [
        "# Distribución de las valoraciones\n",
        "predicted_ratings.groupBy('rating').count().orderBy('rating', ascending=True).show()"
      ],
      "execution_count": null,
      "outputs": [
        {
          "output_type": "stream",
          "text": [
            "+------+-----+\n",
            "|rating|count|\n",
            "+------+-----+\n",
            "|     0| 2055|\n",
            "|     1|  404|\n",
            "|     2|  925|\n",
            "|     3| 2485|\n",
            "|     4| 1883|\n",
            "|     5| 1567|\n",
            "|     6| 3387|\n",
            "+------+-----+\n",
            "\n"
          ],
          "name": "stdout"
        }
      ]
    },
    {
      "cell_type": "code",
      "metadata": {
        "id": "GgQi748YvWu7",
        "colab_type": "code",
        "colab": {
          "base_uri": "https://localhost:8080/",
          "height": 221
        },
        "outputId": "a9cd545b-3060-4e49-c0d6-859c4b6dc931"
      },
      "source": [
        "# Error promedio por rating de valoracion\n",
        "predicted_ratings_witherr.groupBy('avg(rating)').agg({'err':'mean'}).orderBy('avg(rating)',ascending=True).show()"
      ],
      "execution_count": null,
      "outputs": [
        {
          "output_type": "stream",
          "text": [
            "+-----------+-------------------+\n",
            "|avg(rating)|           avg(err)|\n",
            "+-----------+-------------------+\n",
            "|        0.0| 0.2774880975484848|\n",
            "|        1.0|0.05713486671447754|\n",
            "|        2.0|0.08525419235229492|\n",
            "|        3.0|0.14157533645629883|\n",
            "|        4.0| 0.1299976110458374|\n",
            "|        5.0|0.11336839199066162|\n",
            "|        6.0|0.13473594188690186|\n",
            "+-----------+-------------------+\n",
            "\n"
          ],
          "name": "stdout"
        }
      ]
    },
    {
      "cell_type": "code",
      "metadata": {
        "id": "JO5oYYa_dnZT",
        "colab_type": "code",
        "colab": {
          "base_uri": "https://localhost:8080/",
          "height": 221
        },
        "outputId": "8846444a-de2f-4716-d370-612f91c3c68c"
      },
      "source": [
        "# Error promedio por rating de valoracion\n",
        "predicted_ratings_witherr.groupBy('avg(rating)').agg({'err':'std'}).orderBy('avg(rating)',ascending=True).show()"
      ],
      "execution_count": null,
      "outputs": [
        {
          "output_type": "stream",
          "text": [
            "+-----------+--------------------+\n",
            "|avg(rating)|         stddev(err)|\n",
            "+-----------+--------------------+\n",
            "|        0.0| 0.20788072708373312|\n",
            "|        1.0|                 NaN|\n",
            "|        2.0|                 NaN|\n",
            "|        3.0|   0.077085911576849|\n",
            "|        4.0| 0.11078939763185862|\n",
            "|        5.0|0.051698886726005214|\n",
            "|        6.0| 0.11768823338349338|\n",
            "+-----------+--------------------+\n",
            "\n"
          ],
          "name": "stdout"
        }
      ]
    },
    {
      "cell_type": "code",
      "metadata": {
        "id": "e0uziR670BFM",
        "colab_type": "code",
        "colab": {}
      },
      "source": [
        "#Importando el evaluador de Regresion RMSE \n",
        "from pyspark.ml.evaluation import RegressionEvaluator"
      ],
      "execution_count": null,
      "outputs": []
    },
    {
      "cell_type": "code",
      "metadata": {
        "id": "XFO3FDV_ysT2",
        "colab_type": "code",
        "colab": {}
      },
      "source": [
        "#Evluando la presición del pronostico\n",
        "evaluator=RegressionEvaluator(metricName='rmse',predictionCol='prediction',labelCol='rating')"
      ],
      "execution_count": null,
      "outputs": []
    },
    {
      "cell_type": "code",
      "metadata": {
        "id": "kP7KuqQbz7UD",
        "colab_type": "code",
        "colab": {}
      },
      "source": [
        "#Evluando el error de pronostico global\n",
        "rmse=evaluator.evaluate(predicted_ratings)"
      ],
      "execution_count": null,
      "outputs": []
    },
    {
      "cell_type": "code",
      "metadata": {
        "id": "z4fUBfZ03t4Z",
        "colab_type": "code",
        "colab": {
          "base_uri": "https://localhost:8080/",
          "height": 34
        },
        "outputId": "8a449d01-bc3d-4090-a7af-e11f38bb307c"
      },
      "source": [
        "#Imprimiento el error\n",
        "print(rmse)"
      ],
      "execution_count": null,
      "outputs": [
        {
          "output_type": "stream",
          "text": [
            "0.1630513549884185\n"
          ],
          "name": "stdout"
        }
      ]
    },
    {
      "cell_type": "markdown",
      "metadata": {
        "id": "KG2wbeNe4hDU",
        "colab_type": "text"
      },
      "source": [
        "# 6. Recomendandor de peliculas, ya listo!"
      ]
    },
    {
      "cell_type": "code",
      "metadata": {
        "id": "06wR5qaF4pLL",
        "colab_type": "code",
        "colab": {}
      },
      "source": [
        "#Listado de peliculas unicas\n",
        "unique_movies=indexed.select('Nombre_comerce').distinct()"
      ],
      "execution_count": null,
      "outputs": []
    },
    {
      "cell_type": "code",
      "metadata": {
        "id": "WIRmCdZNHNfX",
        "colab_type": "code",
        "colab": {
          "base_uri": "https://localhost:8080/",
          "height": 34
        },
        "outputId": "59781e6a-38d3-4b18-9848-28df691b9115"
      },
      "source": [
        "#Total de peliculas\n",
        "unique_movies.count()"
      ],
      "execution_count": null,
      "outputs": [
        {
          "output_type": "execute_result",
          "data": {
            "text/plain": [
              "129"
            ]
          },
          "metadata": {
            "tags": []
          },
          "execution_count": 151
        }
      ]
    },
    {
      "cell_type": "code",
      "metadata": {
        "id": "taX8DiH85XBQ",
        "colab_type": "code",
        "colab": {}
      },
      "source": [
        "#Asignando un alias {a} la lista unica de peliculas\n",
        "a = unique_movies.alias('a')"
      ],
      "execution_count": null,
      "outputs": []
    },
    {
      "cell_type": "code",
      "metadata": {
        "id": "XBoqyCAU51sv",
        "colab_type": "code",
        "colab": {
          "base_uri": "https://localhost:8080/",
          "height": 34
        },
        "outputId": "67d1db70-0a8d-46b1-b267-05b3b649a0f5"
      },
      "source": [
        "# Eligiendo un cliente\n",
        "user_id = 44\n",
        "\n",
        "# Creando una tabla que contiene una pelicula por usuario\n",
        "watched_movies = indexed.filter(indexed['userId'] == user_id).select('Nombre_comerce').distinct()\n",
        "\n",
        "#Numero de peliculas ya evaluadas \n",
        "watched_movies.count()"
      ],
      "execution_count": null,
      "outputs": [
        {
          "output_type": "execute_result",
          "data": {
            "text/plain": [
              "0"
            ]
          },
          "metadata": {
            "tags": []
          },
          "execution_count": 155
        }
      ]
    },
    {
      "cell_type": "code",
      "metadata": {
        "id": "oyv-yms65v5v",
        "colab_type": "code",
        "colab": {}
      },
      "source": [
        "# Asignando un alias  {b} ha peliculas que el usuario ya vio de la tabla\n",
        "b=watched_movies.alias('b')"
      ],
      "execution_count": null,
      "outputs": []
    },
    {
      "cell_type": "code",
      "metadata": {
        "id": "2g1l6cNKIg3N",
        "colab_type": "code",
        "colab": {}
      },
      "source": [
        "#Cruzando ambas tablas\n",
        "total_movies = a.join(b, a.title_new == b.title_new,how='left')"
      ],
      "execution_count": null,
      "outputs": []
    },
    {
      "cell_type": "code",
      "metadata": {
        "id": "oQSPG1WPIyHc",
        "colab_type": "code",
        "colab": {
          "base_uri": "https://localhost:8080/",
          "height": 289
        },
        "outputId": "7e35618c-70e3-4ae2-a647-9a6d8599633a"
      },
      "source": [
        "total_movies.show(10,False)"
      ],
      "execution_count": null,
      "outputs": [
        {
          "output_type": "stream",
          "text": [
            "+---------+---------+\n",
            "|title_new|title_new|\n",
            "+---------+---------+\n",
            "|558.0    |null     |\n",
            "|305.0    |null     |\n",
            "|299.0    |null     |\n",
            "|596.0    |null     |\n",
            "|769.0    |null     |\n",
            "|934.0    |null     |\n",
            "|496.0    |null     |\n",
            "|1051.0   |null     |\n",
            "|692.0    |null     |\n",
            "|810.0    |null     |\n",
            "+---------+---------+\n",
            "only showing top 10 rows\n",
            "\n"
          ],
          "name": "stdout"
        }
      ]
    },
    {
      "cell_type": "code",
      "metadata": {
        "id": "jTTbDE_oI4Rv",
        "colab_type": "code",
        "colab": {}
      },
      "source": [
        "# Seleccionando peliculas que el cliente aun no ha mirado\n",
        "remaining_movies=total_movies.where(col(\"b.title_new\").isNull()).select(a.title_new).distinct()"
      ],
      "execution_count": null,
      "outputs": []
    },
    {
      "cell_type": "code",
      "metadata": {
        "id": "oNshK4j_JBIG",
        "colab_type": "code",
        "colab": {
          "base_uri": "https://localhost:8080/",
          "height": 459
        },
        "outputId": "8aca208d-c6b9-44ba-8bed-0199c41b3092"
      },
      "source": [
        "remaining_movies.show()"
      ],
      "execution_count": null,
      "outputs": [
        {
          "output_type": "stream",
          "text": [
            "+---------+\n",
            "|title_new|\n",
            "+---------+\n",
            "|    558.0|\n",
            "|    305.0|\n",
            "|    299.0|\n",
            "|    596.0|\n",
            "|    769.0|\n",
            "|    934.0|\n",
            "|    496.0|\n",
            "|   1051.0|\n",
            "|    692.0|\n",
            "|    810.0|\n",
            "|    720.0|\n",
            "|    782.0|\n",
            "|    184.0|\n",
            "|    147.0|\n",
            "|    576.0|\n",
            "|    170.0|\n",
            "|   1369.0|\n",
            "|   1587.0|\n",
            "|    608.0|\n",
            "|    735.0|\n",
            "+---------+\n",
            "only showing top 20 rows\n",
            "\n"
          ],
          "name": "stdout"
        }
      ]
    },
    {
      "cell_type": "code",
      "metadata": {
        "id": "0g1asm_eJMhe",
        "colab_type": "code",
        "colab": {
          "base_uri": "https://localhost:8080/",
          "height": 34
        },
        "outputId": "256f5508-f5ed-45c4-c7cd-dcf476cd741e"
      },
      "source": [
        "# Numero de peliculas que los usuario aun no lo ven \n",
        "remaining_movies.count()"
      ],
      "execution_count": null,
      "outputs": [
        {
          "output_type": "execute_result",
          "data": {
            "text/plain": [
              "1605"
            ]
          },
          "metadata": {
            "tags": []
          },
          "execution_count": 57
        }
      ]
    },
    {
      "cell_type": "code",
      "metadata": {
        "id": "ZEualSXXJZfQ",
        "colab_type": "code",
        "colab": {}
      },
      "source": [
        "# Agregando una nueva columna del usuario \n",
        "remaining_movies=remaining_movies.withColumn(\"userId\",lit(int(user_id)))"
      ],
      "execution_count": null,
      "outputs": []
    },
    {
      "cell_type": "code",
      "metadata": {
        "id": "mYwMGFg2Jr5L",
        "colab_type": "code",
        "colab": {
          "base_uri": "https://localhost:8080/",
          "height": 289
        },
        "outputId": "6052b356-46f1-4fcd-e475-d8dc007b8aff"
      },
      "source": [
        "remaining_movies.show(10,False)"
      ],
      "execution_count": null,
      "outputs": [
        {
          "output_type": "stream",
          "text": [
            "+---------+------+\n",
            "|title_new|userId|\n",
            "+---------+------+\n",
            "|558.0    |100   |\n",
            "|305.0    |100   |\n",
            "|299.0    |100   |\n",
            "|596.0    |100   |\n",
            "|769.0    |100   |\n",
            "|934.0    |100   |\n",
            "|496.0    |100   |\n",
            "|1051.0   |100   |\n",
            "|692.0    |100   |\n",
            "|810.0    |100   |\n",
            "+---------+------+\n",
            "only showing top 10 rows\n",
            "\n"
          ],
          "name": "stdout"
        }
      ]
    },
    {
      "cell_type": "code",
      "metadata": {
        "id": "6VI20fG2Jy-s",
        "colab_type": "code",
        "colab": {}
      },
      "source": [
        "# Haciendo la recomendacion de peliculas utilizando el modelo recomendador ALS y seleccionado solo las mejores top {n} peliculas\n",
        "recommendations=rec_model.transform(remaining_movies).orderBy('prediction',ascending=False)"
      ],
      "execution_count": null,
      "outputs": []
    },
    {
      "cell_type": "code",
      "metadata": {
        "id": "Vho32qWRKBYz",
        "colab_type": "code",
        "colab": {
          "base_uri": "https://localhost:8080/",
          "height": 204
        },
        "outputId": "2086bd5d-44ec-43b9-b684-0bb7c5d6f0ae"
      },
      "source": [
        "recommendations.show(5,False)"
      ],
      "execution_count": null,
      "outputs": [
        {
          "output_type": "stream",
          "text": [
            "+---------+------+----------+\n",
            "|title_new|userId|prediction|\n",
            "+---------+------+----------+\n",
            "|1066.0   |100   |6.513842  |\n",
            "|930.0    |100   |5.687636  |\n",
            "|923.0    |100   |5.469397  |\n",
            "|1239.0   |100   |5.418679  |\n",
            "|869.0    |100   |5.2863975 |\n",
            "+---------+------+----------+\n",
            "only showing top 5 rows\n",
            "\n"
          ],
          "name": "stdout"
        }
      ]
    },
    {
      "cell_type": "code",
      "metadata": {
        "id": "WvNsq2skKF4t",
        "colab_type": "code",
        "colab": {}
      },
      "source": [
        "# Consiguiendo los de las peliculas sugeridas\n",
        "movie_title = IndexToString(inputCol=\"title_new\", outputCol=\"title\",labels=model.labels)\n",
        "\n",
        "final_recommendations=movie_title.transform(recommendations)"
      ],
      "execution_count": null,
      "outputs": []
    },
    {
      "cell_type": "code",
      "metadata": {
        "id": "cKjoYW7NKNkO",
        "colab_type": "code",
        "colab": {
          "base_uri": "https://localhost:8080/",
          "height": 289
        },
        "outputId": "1968dd5f-9289-4403-81fb-b01d32e00707"
      },
      "source": [
        "final_recommendations.show(10,False)"
      ],
      "execution_count": null,
      "outputs": [
        {
          "output_type": "stream",
          "text": [
            "+---------+------+----------+-------------------------------------------------------------------------+\n",
            "|title_new|userId|prediction|title                                                                    |\n",
            "+---------+------+----------+-------------------------------------------------------------------------+\n",
            "|1066.0   |100   |6.513842  |Alphaville (1965)                                                        |\n",
            "|930.0    |100   |5.687636  |Ma vie en rose (My Life in Pink) (1997)                                  |\n",
            "|923.0    |100   |5.469397  |Indian Summer (1996)                                                     |\n",
            "|1239.0   |100   |5.418679  |Swept from the Sea (1997)                                                |\n",
            "|869.0    |100   |5.2863975 |Burnt By the Sun (1994)                                                  |\n",
            "|840.0    |100   |5.2617555 |Ghost in the Shell (Kokaku kidotai) (1995)                               |\n",
            "|1121.0   |100   |5.0466433 |Crooklyn (1994)                                                          |\n",
            "|944.0    |100   |5.0405154 |Surviving Picasso (1996)                                                 |\n",
            "|890.0    |100   |4.9305634 |Double vie de V<U+008E>ronique, La (Double Life of Veronique, The) (1991)|\n",
            "|445.0    |100   |4.9228086 |Heavy Metal (1981)                                                       |\n",
            "+---------+------+----------+-------------------------------------------------------------------------+\n",
            "only showing top 10 rows\n",
            "\n"
          ],
          "name": "stdout"
        }
      ]
    },
    {
      "cell_type": "markdown",
      "metadata": {
        "id": "qg-eHdVRDZHq",
        "colab_type": "text"
      },
      "source": [
        "# 7. Construyendo las funcion que sugiera una pelicula recomendada segun el modelo recomendador"
      ]
    },
    {
      "cell_type": "code",
      "metadata": {
        "id": "u4LLYAgXDpnL",
        "colab_type": "code",
        "colab": {}
      },
      "source": [
        "# Funcion para recomendar las top n peliculas para cualquier usuario\n",
        "def top_movies(user_id,n):\n",
        "    \"\"\"\n",
        "    This function returns the top 'n' movies that user has not seen yet but might like \n",
        "    \n",
        "    \"\"\"\n",
        "    # Asignación de una lista de peliculas unicas a\n",
        "    a = unique_movies.alias('a')\n",
        "    \n",
        "    # Creando otra tabla que contiene las peliculas que ya vio el usuario\n",
        "    watched_movies=indexed.filter(indexed['userId'] == user_id).select('title_new')\n",
        "    \n",
        "    # Asignanción de tabla de peliculas b de peliculas ya vistas \n",
        "    b=watched_movies.alias('b')\n",
        "    \n",
        "    # Cruce de ambas tablas\n",
        "    total_movies = a.join(b, a.title_new == b.title_new,how='left')\n",
        "    \n",
        "    # Seleccionando peliculas que el usuario no ha visto aun \n",
        "    remaining_movies=total_movies.where(col(\"b.title_new\").isNull()).select(a.title_new).distinct()\n",
        "        \n",
        "    #Agregando una nueva columan del cliente  \n",
        "    remaining_movies=remaining_movies.withColumn(\"userId\",lit(int(user_id)))\n",
        "    \n",
        "    # REalizando la recomendnado de peliculas mas adecuada utilizando el Sistema de recomendador del modelo ALS y seleccionando las mejores peliculas\n",
        "    recommendations=rec_model.transform(remaining_movies).orderBy('prediction',ascending=False).limit(n)\n",
        "\n",
        "    # Agregando los titulos de las peliculas en texto   \n",
        "    movie_title = IndexToString(inputCol=\"title_new\", outputCol=\"title\",labels=model.labels)\n",
        "    final_recommendations=movie_title.transform(recommendations)\n",
        "    \n",
        "    # Entregando los titutlos recomendado por usuario\n",
        "    return final_recommendations.show(n,False)\n"
      ],
      "execution_count": null,
      "outputs": []
    },
    {
      "cell_type": "code",
      "metadata": {
        "id": "3o06Kl2nMt2a",
        "colab_type": "code",
        "colab": {
          "base_uri": "https://localhost:8080/",
          "height": 357
        },
        "outputId": "c7298e7c-8516-43a4-f760-175bcf27a559"
      },
      "source": [
        "# REvision del clientes y las 10 peliculas sugeridas para el cliente\n",
        "top_movies(123,15)"
      ],
      "execution_count": null,
      "outputs": [
        {
          "output_type": "stream",
          "text": [
            "+---------+------+----------+-------------------------------------------------------------------------+\n",
            "|title_new|userId|prediction|title                                                                    |\n",
            "+---------+------+----------+-------------------------------------------------------------------------+\n",
            "|1358.0   |123   |6.666241  |Angel Baby (1995)                                                        |\n",
            "|1121.0   |123   |6.456703  |Crooklyn (1994)                                                          |\n",
            "|910.0    |123   |5.9415126 |Mis<U+008E>rables, Les (1995)                                            |\n",
            "|739.0    |123   |5.817608  |Night on Earth (1991)                                                    |\n",
            "|1184.0   |123   |5.6485686 |Maybe, Maybe Not (Bewegte Mann, Der) (1994)                              |\n",
            "|1182.0   |123   |5.599687  |Kaspar Hauser (1993)                                                     |\n",
            "|495.0    |123   |5.541688  |In the Company of Men (1997)                                             |\n",
            "|966.0    |123   |5.51511   |Hate (Haine, La) (1995)                                                  |\n",
            "|890.0    |123   |5.503586  |Double vie de V<U+008E>ronique, La (Double Life of Veronique, The) (1991)|\n",
            "|164.0    |123   |5.384238  |Big Night (1996)                                                         |\n",
            "|652.0    |123   |5.3291984 |M (1931)                                                                 |\n",
            "|656.0    |123   |5.2943554 |Sweet Hereafter, The (1997)                                              |\n",
            "|756.0    |123   |5.2814465 |Orlando (1993)                                                           |\n",
            "|946.0    |123   |5.2668195 |Gridlock'd (1997)                                                        |\n",
            "|1213.0   |123   |5.247176  |Aparajito (1956)                                                         |\n",
            "+---------+------+----------+-------------------------------------------------------------------------+\n",
            "\n"
          ],
          "name": "stdout"
        }
      ]
    },
    {
      "cell_type": "code",
      "metadata": {
        "id": "v6CUg2sShtTP",
        "colab_type": "code",
        "colab": {
          "base_uri": "https://localhost:8080/",
          "height": 459
        },
        "outputId": "0e4e24df-3813-47f6-a3fe-6567e0ffee2e"
      },
      "source": [
        "# El cliente 450 que revisa Star Wars\n",
        "DS_peliculas_rating.filter((DS_peliculas_rating['rating']>4)&(DS_peliculas_rating['userId']=='450')).show()"
      ],
      "execution_count": null,
      "outputs": [
        {
          "output_type": "stream",
          "text": [
            "+------+--------------------+------+\n",
            "|userId|               title|rating|\n",
            "+------+--------------------+------+\n",
            "|   450|L.A. Confidential...|     5|\n",
            "|   450|Dr. Strangelove o...|     5|\n",
            "|   450|Hunt for Red Octo...|     5|\n",
            "|   450|Age of Innocence,...|     5|\n",
            "|   450|     Die Hard (1988)|     5|\n",
            "|   450|Right Stuff, The ...|     5|\n",
            "|   450|Sleepless in Seat...|     5|\n",
            "|   450|   Sting, The (1973)|     5|\n",
            "|   450|  Rear Window (1954)|     5|\n",
            "|   450|Dead Poets Societ...|     5|\n",
            "|   450|Sound of Music, T...|     5|\n",
            "|   450|E.T. the Extra-Te...|     5|\n",
            "|   450|Brothers McMullen...|     5|\n",
            "|   450|To Kill a Mocking...|     5|\n",
            "|   450|   Old Yeller (1957)|     5|\n",
            "|   450|Jerry Maguire (1996)|     5|\n",
            "|   450|     Backbeat (1993)|     5|\n",
            "|   450|  Taxi Driver (1976)|     5|\n",
            "|   450|Young Frankenstei...|     5|\n",
            "|   450|It's a Wonderful ...|     5|\n",
            "+------+--------------------+------+\n",
            "only showing top 20 rows\n",
            "\n"
          ],
          "name": "stdout"
        }
      ]
    },
    {
      "cell_type": "code",
      "metadata": {
        "id": "LSZ9IReFibmG",
        "colab_type": "code",
        "colab": {
          "base_uri": "https://localhost:8080/",
          "height": 357
        },
        "outputId": "2f990898-23f2-4fe0-9125-5bfac67a3636"
      },
      "source": [
        "# REvision del clientes y las 10 peliculas sugeridas para el cliente\n",
        "top_movies(450,15)"
      ],
      "execution_count": null,
      "outputs": [
        {
          "output_type": "stream",
          "text": [
            "+---------+------+----------+----------------------------------+\n",
            "|title_new|userId|prediction|title                             |\n",
            "+---------+------+----------+----------------------------------+\n",
            "|944.0    |450   |5.4597893 |Surviving Picasso (1996)          |\n",
            "|1072.0   |450   |5.440328  |Radioland Murders (1994)          |\n",
            "|1358.0   |450   |5.2606144 |Angel Baby (1995)                 |\n",
            "|1271.0   |450   |5.168796  |Whole Wide World, The (1996)      |\n",
            "|1266.0   |450   |5.114764  |Promesse, La (1996)               |\n",
            "|923.0    |450   |5.1098905 |Indian Summer (1996)              |\n",
            "|1023.0   |450   |5.100616  |Gay Divorcee, The (1934)          |\n",
            "|581.0    |450   |5.0989923 |Koyaanisqatsi (1983)              |\n",
            "|1195.0   |450   |5.0697556 |Pather Panchali (1955)            |\n",
            "|988.0    |450   |5.066791  |Ruling Class, The (1972)          |\n",
            "|997.0    |450   |5.0588284 |Selena (1997)                     |\n",
            "|1450.0   |450   |5.0580397 |C<U+008E>r<U+008E>monie, La (1995)|\n",
            "|1488.0   |450   |5.021508  |Slingshot, The (1993)             |\n",
            "|1501.0   |450   |5.007907  |Butcher Boy, The (1998)           |\n",
            "|1643.0   |450   |5.007907  |Brothers in Trouble (1995)        |\n",
            "+---------+------+----------+----------------------------------+\n",
            "\n"
          ],
          "name": "stdout"
        }
      ]
    }
  ]
}