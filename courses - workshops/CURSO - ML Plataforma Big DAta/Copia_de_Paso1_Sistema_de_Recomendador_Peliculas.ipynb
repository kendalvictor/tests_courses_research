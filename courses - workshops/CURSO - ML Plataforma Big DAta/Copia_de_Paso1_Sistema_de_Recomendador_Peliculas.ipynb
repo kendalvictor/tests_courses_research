{
  "nbformat": 4,
  "nbformat_minor": 0,
  "metadata": {
    "colab": {
      "name": "Copia de Paso1_Sistema_de_Recomendador_Peliculas.ipynb",
      "provenance": [],
      "toc_visible": true
    },
    "kernelspec": {
      "name": "python3",
      "display_name": "Python 3"
    }
  },
  "cells": [
    {
      "cell_type": "markdown",
      "metadata": {
        "id": "oZYjeFl20oa5",
        "colab_type": "text"
      },
      "source": [
        "# 0. Instalacion de utilitarios Pyspark"
      ]
    },
    {
      "cell_type": "code",
      "metadata": {
        "id": "y6zaa4yk0uIV",
        "colab_type": "code",
        "colab": {}
      },
      "source": [
        "!apt-get install openjdk-8-jdk-headless -qq > /dev/null\n",
        "!wget -q https://www-us.apache.org/dist/spark/spark-2.3.4/spark-2.3.4-bin-hadoop2.7.tgz\n",
        "!tar xf spark-2.3.4-bin-hadoop2.7.tgz"
      ],
      "execution_count": null,
      "outputs": []
    },
    {
      "cell_type": "code",
      "metadata": {
        "id": "c0SmG6708QQ6",
        "colab_type": "code",
        "colab": {}
      },
      "source": [
        "!apt-get install openjdk-8-jdk-headless -qq > /dev/null\n",
        "!wget -q https://www-us.apache.org/dist/spark/spark-2.4.4/spark-2.4.4-bin-hadoop2.7.tgz\n",
        "!tar xf spark-2.4.4-bin-hadoop2.7.tgz\n"
      ],
      "execution_count": null,
      "outputs": []
    },
    {
      "cell_type": "code",
      "metadata": {
        "id": "tyor71X98igS",
        "colab_type": "code",
        "colab": {}
      },
      "source": [
        "!pip install -q findspark"
      ],
      "execution_count": null,
      "outputs": []
    },
    {
      "cell_type": "code",
      "metadata": {
        "id": "mRsVKjDvsmoC",
        "colab_type": "code",
        "colab": {}
      },
      "source": [
        "import os\n",
        "os.environ[\"JAVA_HOME\"] = \"/usr/lib/jvm/java-8-openjdk-amd64\"\n",
        "os.environ[\"SPARK_HOME\"] = \"/content/spark-2.4.4-bin-hadoop2.7\"\n"
      ],
      "execution_count": null,
      "outputs": []
    },
    {
      "cell_type": "code",
      "metadata": {
        "id": "OsNTQa-qsr7j",
        "colab_type": "code",
        "colab": {
          "base_uri": "https://localhost:8080/",
          "height": 238
        },
        "outputId": "78e3991f-6f82-4886-879a-152d0392292b"
      },
      "source": [
        "!pip install pyspark"
      ],
      "execution_count": null,
      "outputs": [
        {
          "output_type": "stream",
          "text": [
            "Collecting pyspark\n",
            "\u001b[?25l  Downloading https://files.pythonhosted.org/packages/87/21/f05c186f4ddb01d15d0ddc36ef4b7e3cedbeb6412274a41f26b55a650ee5/pyspark-2.4.4.tar.gz (215.7MB)\n",
            "\u001b[K     |████████████████████████████████| 215.7MB 59kB/s \n",
            "\u001b[?25hCollecting py4j==0.10.7\n",
            "\u001b[?25l  Downloading https://files.pythonhosted.org/packages/e3/53/c737818eb9a7dc32a7cd4f1396e787bd94200c3997c72c1dbe028587bd76/py4j-0.10.7-py2.py3-none-any.whl (197kB)\n",
            "\u001b[K     |████████████████████████████████| 204kB 57.6MB/s \n",
            "\u001b[?25hBuilding wheels for collected packages: pyspark\n",
            "  Building wheel for pyspark (setup.py) ... \u001b[?25l\u001b[?25hdone\n",
            "  Created wheel for pyspark: filename=pyspark-2.4.4-py2.py3-none-any.whl size=216130387 sha256=0a3e4993ff02aad852b7c0cc8e3ec28291a35342a28fb35a91bd1b8d9837bd5a\n",
            "  Stored in directory: /root/.cache/pip/wheels/ab/09/4d/0d184230058e654eb1b04467dbc1292f00eaa186544604b471\n",
            "Successfully built pyspark\n",
            "Installing collected packages: py4j, pyspark\n",
            "Successfully installed py4j-0.10.7 pyspark-2.4.4\n"
          ],
          "name": "stdout"
        }
      ]
    },
    {
      "cell_type": "code",
      "metadata": {
        "id": "zCKm2w9rswTv",
        "colab_type": "code",
        "colab": {}
      },
      "source": [
        "from pyspark.sql import SparkSession\n",
        "from pyspark import SparkContext\n",
        "spark = SparkSession.builder.master(\"local\").getOrCreate()\n",
        "sc = SparkContext.getOrCreate()"
      ],
      "execution_count": null,
      "outputs": []
    },
    {
      "cell_type": "markdown",
      "metadata": {
        "id": "NXie2Umg1DZk",
        "colab_type": "text"
      },
      "source": [
        "# 1. Lectura del origen datos"
      ]
    },
    {
      "cell_type": "code",
      "metadata": {
        "id": "W-l6Pu6f1HO9",
        "colab_type": "code",
        "colab": {
          "resources": {
            "http://localhost:8080/nbextensions/google.colab/files.js": {
              "data": "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",
              "ok": true,
              "headers": [
                [
                  "content-type",
                  "application/javascript"
                ]
              ],
              "status": 200,
              "status_text": ""
            }
          },
          "base_uri": "https://localhost:8080/",
          "height": 40
        },
        "outputId": "9b092988-127e-43db-d3c1-21424b988cda"
      },
      "source": [
        "# Lectura desde un archivo fisico\n",
        "from google.colab import files\n",
        "uploaded = files.upload()"
      ],
      "execution_count": null,
      "outputs": [
        {
          "output_type": "display_data",
          "data": {
            "text/html": [
              "\n",
              "     <input type=\"file\" id=\"files-991a31e0-cb9f-483f-be62-8e34abdab709\" name=\"files[]\" multiple disabled />\n",
              "     <output id=\"result-991a31e0-cb9f-483f-be62-8e34abdab709\">\n",
              "      Upload widget is only available when the cell has been executed in the\n",
              "      current browser session. Please rerun this cell to enable.\n",
              "      </output>\n",
              "      <script src=\"/nbextensions/google.colab/files.js\"></script> "
            ],
            "text/plain": [
              "<IPython.core.display.HTML object>"
            ]
          },
          "metadata": {
            "tags": []
          }
        }
      ]
    },
    {
      "cell_type": "code",
      "metadata": {
        "id": "zZL0PhM88Eys",
        "colab_type": "code",
        "colab": {
          "base_uri": "https://localhost:8080/",
          "height": 122
        },
        "outputId": "5fa32206-0145-4457-c393-0a7b4b981d7d"
      },
      "source": [
        "\n",
        "# Conexion al drive\n",
        "#---------------------------\n",
        "from google.colab import drive\n",
        "drive.mount('/content/drive')"
      ],
      "execution_count": null,
      "outputs": [
        {
          "output_type": "stream",
          "text": [
            "Go to this URL in a browser: https://accounts.google.com/o/oauth2/auth?client_id=947318989803-6bn6qk8qdgf4n4g3pfee6491hc0brc4i.apps.googleusercontent.com&redirect_uri=urn%3Aietf%3Awg%3Aoauth%3A2.0%3Aoob&scope=email%20https%3A%2F%2Fwww.googleapis.com%2Fauth%2Fdocs.test%20https%3A%2F%2Fwww.googleapis.com%2Fauth%2Fdrive%20https%3A%2F%2Fwww.googleapis.com%2Fauth%2Fdrive.photos.readonly%20https%3A%2F%2Fwww.googleapis.com%2Fauth%2Fpeopleapi.readonly&response_type=code\n",
            "\n",
            "Enter your authorization code:\n",
            "··········\n",
            "Mounted at /content/drive\n"
          ],
          "name": "stdout"
        }
      ]
    },
    {
      "cell_type": "code",
      "metadata": {
        "id": "BZQDnxtq2G2L",
        "colab_type": "code",
        "colab": {
          "base_uri": "https://localhost:8080/",
          "height": 51
        },
        "outputId": "268abcab-8729-439c-8dd3-3bd033f6c2b6"
      },
      "source": [
        "ls"
      ],
      "execution_count": null,
      "outputs": [
        {
          "output_type": "stream",
          "text": [
            "\u001b[0m\u001b[01;34mdrive\u001b[0m/        \u001b[01;34mspark-2.3.4-bin-hadoop2.7\u001b[0m/     \u001b[01;34mspark-2.4.4-bin-hadoop2.7\u001b[0m/\n",
            "\u001b[01;34msample_data\u001b[0m/  spark-2.3.4-bin-hadoop2.7.tgz  spark-2.4.4-bin-hadoop2.7.tgz\n"
          ],
          "name": "stdout"
        }
      ]
    },
    {
      "cell_type": "markdown",
      "metadata": {
        "id": "ltZocWSm2l9G",
        "colab_type": "text"
      },
      "source": [
        "#2.  Cargando los datos en formato Spark"
      ]
    },
    {
      "cell_type": "code",
      "metadata": {
        "id": "xg8zoYu62uhd",
        "colab_type": "code",
        "colab": {
          "base_uri": "https://localhost:8080/",
          "height": 102
        },
        "outputId": "20437d7d-3d34-4b4f-bf1e-249f54769eb1"
      },
      "source": [
        "DS_peliculas_rating = spark.read.csv(\n",
        "    '/content/drive/My Drive/PySpark Machine Learning en plataforma Big Data/Training R ML en Casos de Negocios/7_Recomendacion_Peliculas/Recomendacion_peliculas.csv', \n",
        "    sep=',', \n",
        "    header=True, \n",
        "    inferSchema=True\n",
        ")\n",
        "\n",
        "# 2.1 Revision de formatos \n",
        "DS_peliculas_rating.printSchema()"
      ],
      "execution_count": null,
      "outputs": [
        {
          "output_type": "stream",
          "text": [
            "root\n",
            " |-- userId: integer (nullable = true)\n",
            " |-- title: string (nullable = true)\n",
            " |-- rating: integer (nullable = true)\n",
            "\n"
          ],
          "name": "stdout"
        }
      ]
    },
    {
      "cell_type": "code",
      "metadata": {
        "id": "DevCxW045s4B",
        "colab_type": "code",
        "colab": {
          "base_uri": "https://localhost:8080/",
          "height": 34
        },
        "outputId": "31dd15a3-d749-420b-b23b-893413388404"
      },
      "source": [
        "# Dimensiona de base\n",
        "print((DS_peliculas_rating.count(), len(DS_peliculas_rating.columns)))"
      ],
      "execution_count": null,
      "outputs": [
        {
          "output_type": "stream",
          "text": [
            "(100000, 3)\n"
          ],
          "name": "stdout"
        }
      ]
    },
    {
      "cell_type": "code",
      "metadata": {
        "id": "RBEt1wHV2Zy4",
        "colab_type": "code",
        "colab": {
          "base_uri": "https://localhost:8080/",
          "height": 204
        },
        "outputId": "45abc9df-fd5e-4531-b578-2bfd364b2cf8"
      },
      "source": [
        "# 2.2 Revisiones  \n",
        "DS_peliculas_rating.show(5)"
      ],
      "execution_count": null,
      "outputs": [
        {
          "output_type": "stream",
          "text": [
            "+------+------------+------+\n",
            "|userId|       title|rating|\n",
            "+------+------------+------+\n",
            "|   196|Kolya (1996)|     3|\n",
            "|    63|Kolya (1996)|     3|\n",
            "|   226|Kolya (1996)|     5|\n",
            "|   154|Kolya (1996)|     3|\n",
            "|   306|Kolya (1996)|     5|\n",
            "+------+------------+------+\n",
            "only showing top 5 rows\n",
            "\n"
          ],
          "name": "stdout"
        }
      ]
    },
    {
      "cell_type": "code",
      "metadata": {
        "id": "CpYnf-WM3iun",
        "colab_type": "code",
        "colab": {
          "base_uri": "https://localhost:8080/",
          "height": 34
        },
        "outputId": "ac3d3d8e-93de-4f9b-d074-24d86729c8a7"
      },
      "source": [
        "# 2.3 Validacion de carga del total de registros\n",
        "print(DS_peliculas_rating.count())"
      ],
      "execution_count": null,
      "outputs": [
        {
          "output_type": "stream",
          "text": [
            "100000\n"
          ],
          "name": "stdout"
        }
      ]
    },
    {
      "cell_type": "code",
      "metadata": {
        "id": "7J1Stx2j9KdX",
        "colab_type": "code",
        "colab": {
          "base_uri": "https://localhost:8080/",
          "height": 187
        },
        "outputId": "d018a818-3778-402b-e845-4d4d5ab53ffd"
      },
      "source": [
        "# 2.4 Exploracion inicial\n",
        "DS_peliculas_rating.describe().show()"
      ],
      "execution_count": null,
      "outputs": [
        {
          "output_type": "stream",
          "text": [
            "+-------+------------------+--------------------+------------------+\n",
            "|summary|            userId|               title|            rating|\n",
            "+-------+------------------+--------------------+------------------+\n",
            "|  count|            100000|              100000|            100000|\n",
            "|   mean|         462.48475|                null|           3.52986|\n",
            "| stddev|266.61442012750865|                null|1.1256735991443156|\n",
            "|    min|                 1|'Til There Was Yo...|                 1|\n",
            "|    max|               943|             unknown|                 5|\n",
            "+-------+------------------+--------------------+------------------+\n",
            "\n"
          ],
          "name": "stdout"
        }
      ]
    },
    {
      "cell_type": "code",
      "metadata": {
        "id": "5UavJB8AASDE",
        "colab_type": "code",
        "colab": {
          "base_uri": "https://localhost:8080/",
          "height": 289
        },
        "outputId": "8fb9426c-af87-4afb-8150-9e95cc976818"
      },
      "source": [
        "# 2.5 Los clientes que más vistaron la plataforma de videos\n",
        "DS_peliculas_rating.groupBy('userId').count().orderBy('count', ascending=False).show(10,False)"
      ],
      "execution_count": null,
      "outputs": [
        {
          "output_type": "stream",
          "text": [
            "+------+-----+\n",
            "|userId|count|\n",
            "+------+-----+\n",
            "|405   |737  |\n",
            "|655   |685  |\n",
            "|13    |636  |\n",
            "|450   |540  |\n",
            "|276   |518  |\n",
            "|416   |493  |\n",
            "|537   |490  |\n",
            "|303   |484  |\n",
            "|234   |480  |\n",
            "|393   |448  |\n",
            "+------+-----+\n",
            "only showing top 10 rows\n",
            "\n"
          ],
          "name": "stdout"
        }
      ]
    },
    {
      "cell_type": "code",
      "metadata": {
        "id": "ZUivRJvPAjI3",
        "colab_type": "code",
        "colab": {
          "base_uri": "https://localhost:8080/",
          "height": 289
        },
        "outputId": "b60b808d-992d-4564-cfe0-58113302af49"
      },
      "source": [
        "# 2.6  Las clientes que menos vieron las peliculas\n",
        "DS_peliculas_rating.groupBy('userId').count().orderBy('count', ascending=True).show(10,False)"
      ],
      "execution_count": null,
      "outputs": [
        {
          "output_type": "stream",
          "text": [
            "+------+-----+\n",
            "|userId|count|\n",
            "+------+-----+\n",
            "|732   |20   |\n",
            "|631   |20   |\n",
            "|572   |20   |\n",
            "|926   |20   |\n",
            "|93    |20   |\n",
            "|596   |20   |\n",
            "|636   |20   |\n",
            "|34    |20   |\n",
            "|300   |20   |\n",
            "|685   |20   |\n",
            "+------+-----+\n",
            "only showing top 10 rows\n",
            "\n"
          ],
          "name": "stdout"
        }
      ]
    },
    {
      "cell_type": "code",
      "metadata": {
        "id": "hO-eIVs4A0Is",
        "colab_type": "code",
        "colab": {
          "base_uri": "https://localhost:8080/",
          "height": 289
        },
        "outputId": "7279e1ea-d74d-4c90-ec57-cd50018cd77c"
      },
      "source": [
        "# 2.7  Las peliculas con mayor numero de visualizaciones\n",
        "DS_peliculas_rating.groupBy('title').count().orderBy('count',ascending=False).show(10,False)"
      ],
      "execution_count": null,
      "outputs": [
        {
          "output_type": "stream",
          "text": [
            "+-----------------------------+-----+\n",
            "|title                        |count|\n",
            "+-----------------------------+-----+\n",
            "|Star Wars (1977)             |583  |\n",
            "|Contact (1997)               |509  |\n",
            "|Fargo (1996)                 |508  |\n",
            "|Return of the Jedi (1983)    |507  |\n",
            "|Liar Liar (1997)             |485  |\n",
            "|English Patient, The (1996)  |481  |\n",
            "|Scream (1996)                |478  |\n",
            "|Toy Story (1995)             |452  |\n",
            "|Air Force One (1997)         |431  |\n",
            "|Independence Day (ID4) (1996)|429  |\n",
            "+-----------------------------+-----+\n",
            "only showing top 10 rows\n",
            "\n"
          ],
          "name": "stdout"
        }
      ]
    },
    {
      "cell_type": "code",
      "metadata": {
        "id": "72-1CAMzXvSt",
        "colab_type": "code",
        "colab": {
          "base_uri": "https://localhost:8080/",
          "height": 279
        },
        "outputId": "1ed77052-dcc1-4793-d916-dc96a969f79d"
      },
      "source": [
        "#Graficas\n",
        "res= DS_peliculas_rating.groupBy('title').count().orderBy('count',ascending=False)\n",
        "red = res.toPandas()\n",
        "\n",
        "import pandas as pd\n",
        "import matplotlib.pyplot as plt\n",
        "import seaborn as sns\n",
        "\n",
        "ax=sns.barplot(x=\"title\", y=\"count\", data=red)\n",
        "\n"
      ],
      "execution_count": null,
      "outputs": [
        {
          "output_type": "display_data",
          "data": {
            "image/png": "[encoded data removed]",
            "text/plain": [
              "<Figure size 432x288 with 1 Axes>"
            ]
          },
          "metadata": {
            "tags": []
          }
        }
      ]
    },
    {
      "cell_type": "code",
      "metadata": {
        "id": "6rRu9-sxBI0_",
        "colab_type": "code",
        "colab": {
          "base_uri": "https://localhost:8080/",
          "height": 289
        },
        "outputId": "7293613c-3712-46a2-d5dc-4e0b22a8f4fa"
      },
      "source": [
        "# Peliculas con menos numero de visualizaciones \n",
        "DS_peliculas_rating.groupBy('title').count().orderBy('count', ascending=True).show(10,False)"
      ],
      "execution_count": null,
      "outputs": [
        {
          "output_type": "stream",
          "text": [
            "+------------------------------------------+-----+\n",
            "|title                                     |count|\n",
            "+------------------------------------------+-----+\n",
            "|Tigrero: A Film That Was Never Made (1994)|1    |\n",
            "|Leopard Son, The (1996)                   |1    |\n",
            "|Aiqing wansui (1994)                      |1    |\n",
            "|Fear, The (1995)                          |1    |\n",
            "|Mad Dog Time (1996)                       |1    |\n",
            "|Target (1995)                             |1    |\n",
            "|Lashou shentan (1992)                     |1    |\n",
            "|Vie est belle, La (Life is Rosey) (1987)  |1    |\n",
            "|Modern Affair, A (1995)                   |1    |\n",
            "|Next Step, The (1995)                     |1    |\n",
            "+------------------------------------------+-----+\n",
            "only showing top 10 rows\n",
            "\n"
          ],
          "name": "stdout"
        }
      ]
    },
    {
      "cell_type": "code",
      "metadata": {
        "id": "zw4K8CdeeVvt",
        "colab_type": "code",
        "colab": {
          "base_uri": "https://localhost:8080/",
          "height": 119
        },
        "outputId": "ea2fcb12-a661-431e-aa66-be084ddb52cc"
      },
      "source": [
        "# El cliente 100 y el 450 cold celd\n",
        "DS_peliculas_rating.filter(\n",
        "    (DS_peliculas_rating['title'] == 'Star Wars (1977)') & (DS_peliculas_rating['userId']=='450')\n",
        ").show()"
      ],
      "execution_count": null,
      "outputs": [
        {
          "output_type": "stream",
          "text": [
            "+------+----------------+------+\n",
            "|userId|           title|rating|\n",
            "+------+----------------+------+\n",
            "|   450|Star Wars (1977)|     5|\n",
            "+------+----------------+------+\n",
            "\n"
          ],
          "name": "stdout"
        }
      ]
    },
    {
      "cell_type": "markdown",
      "metadata": {
        "id": "nhC6tpUw39tn",
        "colab_type": "text"
      },
      "source": [
        "# 3. FEature Engineering: Tansforma pelicula a numero\n",
        "\n"
      ]
    },
    {
      "cell_type": "code",
      "metadata": {
        "id": "h05_VfzA4C1k",
        "colab_type": "code",
        "colab": {}
      },
      "source": [
        "# Importando el codifocador\n",
        "from pyspark.ml.feature import StringIndexer, IndexToString"
      ],
      "execution_count": null,
      "outputs": []
    },
    {
      "cell_type": "code",
      "metadata": {
        "id": "LBiAQR4tB8ul",
        "colab_type": "code",
        "colab": {}
      },
      "source": [
        "# Configurando la Numerzación los titulos de las peliculas\n",
        "# title_new = La codificación de las peliculas\n",
        "\n",
        "stringIndexer = StringIndexer(inputCol=\"title\", outputCol=\"title_new\")"
      ],
      "execution_count": null,
      "outputs": []
    },
    {
      "cell_type": "code",
      "metadata": {
        "id": "ROKx3a2bCgsw",
        "colab_type": "code",
        "colab": {
          "base_uri": "https://localhost:8080/",
          "height": 289
        },
        "outputId": "e37b63d4-2579-4a0f-b36b-c800ebccf63d"
      },
      "source": [
        "DS_peliculas_rating.show(10)"
      ],
      "execution_count": null,
      "outputs": [
        {
          "output_type": "stream",
          "text": [
            "+------+------------+------+\n",
            "|userId|       title|rating|\n",
            "+------+------------+------+\n",
            "|   196|Kolya (1996)|     3|\n",
            "|    63|Kolya (1996)|     3|\n",
            "|   226|Kolya (1996)|     5|\n",
            "|   154|Kolya (1996)|     3|\n",
            "|   306|Kolya (1996)|     5|\n",
            "|   296|Kolya (1996)|     4|\n",
            "|    34|Kolya (1996)|     5|\n",
            "|   271|Kolya (1996)|     4|\n",
            "|   201|Kolya (1996)|     4|\n",
            "|   209|Kolya (1996)|     4|\n",
            "+------+------------+------+\n",
            "only showing top 10 rows\n",
            "\n"
          ],
          "name": "stdout"
        }
      ]
    },
    {
      "cell_type": "code",
      "metadata": {
        "id": "1Lik8aKaCw_O",
        "colab_type": "code",
        "colab": {}
      },
      "source": [
        "#Aplicando la numerización de peliculas\n",
        "model = stringIndexer.fit(DS_peliculas_rating)"
      ],
      "execution_count": null,
      "outputs": []
    },
    {
      "cell_type": "code",
      "metadata": {
        "id": "ANbGXtZHDBxt",
        "colab_type": "code",
        "colab": {}
      },
      "source": [
        "#Creando un nuevo Dataframe con el indexado creado\n",
        "indexed = model.transform(DS_peliculas_rating)"
      ],
      "execution_count": null,
      "outputs": []
    },
    {
      "cell_type": "code",
      "metadata": {
        "id": "mLkAhgfoCg4X",
        "colab_type": "code",
        "colab": {
          "base_uri": "https://localhost:8080/",
          "height": 289
        },
        "outputId": "3b5efee6-5033-479d-dfc1-abfcec3dc242"
      },
      "source": [
        "#Revision de los indices\n",
        "indexed.show(10)"
      ],
      "execution_count": null,
      "outputs": [
        {
          "output_type": "stream",
          "text": [
            "+------+------------+------+---------+\n",
            "|userId|       title|rating|title_new|\n",
            "+------+------------+------+---------+\n",
            "|   196|Kolya (1996)|     3|    287.0|\n",
            "|    63|Kolya (1996)|     3|    287.0|\n",
            "|   226|Kolya (1996)|     5|    287.0|\n",
            "|   154|Kolya (1996)|     3|    287.0|\n",
            "|   306|Kolya (1996)|     5|    287.0|\n",
            "|   296|Kolya (1996)|     4|    287.0|\n",
            "|    34|Kolya (1996)|     5|    287.0|\n",
            "|   271|Kolya (1996)|     4|    287.0|\n",
            "|   201|Kolya (1996)|     4|    287.0|\n",
            "|   209|Kolya (1996)|     4|    287.0|\n",
            "+------+------------+------+---------+\n",
            "only showing top 10 rows\n",
            "\n"
          ],
          "name": "stdout"
        }
      ]
    },
    {
      "cell_type": "code",
      "metadata": {
        "id": "0uDCzdTqDg5D",
        "colab_type": "code",
        "colab": {
          "base_uri": "https://localhost:8080/",
          "height": 289
        },
        "outputId": "5a0e50bf-112b-49c8-b31a-7c8e7ac47da1"
      },
      "source": [
        "#Numero de veces que cada titulo ha aparecido\n",
        "indexed.groupBy('title_new').count().orderBy('count',ascending=False).show(10, False)"
      ],
      "execution_count": null,
      "outputs": [
        {
          "output_type": "stream",
          "text": [
            "+---------+-----+\n",
            "|title_new|count|\n",
            "+---------+-----+\n",
            "|0.0      |583  |\n",
            "|1.0      |509  |\n",
            "|2.0      |508  |\n",
            "|3.0      |507  |\n",
            "|4.0      |485  |\n",
            "|5.0      |481  |\n",
            "|6.0      |478  |\n",
            "|7.0      |452  |\n",
            "|8.0      |431  |\n",
            "|9.0      |429  |\n",
            "+---------+-----+\n",
            "only showing top 10 rows\n",
            "\n"
          ],
          "name": "stdout"
        }
      ]
    },
    {
      "cell_type": "markdown",
      "metadata": {
        "id": "xgUobOLemd25",
        "colab_type": "text"
      },
      "source": [
        "# 4. Dividiendo la data en muestra de entrenamiento y validacion\n"
      ]
    },
    {
      "cell_type": "code",
      "metadata": {
        "id": "G1ieZbSqEAKw",
        "colab_type": "code",
        "colab": {
          "base_uri": "https://localhost:8080/",
          "height": 323
        },
        "outputId": "b72e1d45-b984-40a6-a246-70ac197fa119"
      },
      "source": [
        "help(indexed.randomSplit)"
      ],
      "execution_count": null,
      "outputs": [
        {
          "output_type": "stream",
          "text": [
            "Help on method randomSplit in module pyspark.sql.dataframe:\n",
            "\n",
            "randomSplit(weights, seed=None) method of pyspark.sql.dataframe.DataFrame instance\n",
            "    Randomly splits this :class:`DataFrame` with the provided weights.\n",
            "    \n",
            "    :param weights: list of doubles as weights with which to split the DataFrame. Weights will\n",
            "        be normalized if they don't sum up to 1.0.\n",
            "    :param seed: The seed for sampling.\n",
            "    \n",
            "    >>> splits = df4.randomSplit([1.0, 2.0], 24)\n",
            "    >>> splits[0].count()\n",
            "    1\n",
            "    \n",
            "    >>> splits[1].count()\n",
            "    3\n",
            "    \n",
            "    .. versionadded:: 1.4\n",
            "\n"
          ],
          "name": "stdout"
        }
      ]
    },
    {
      "cell_type": "code",
      "metadata": {
        "id": "8ws92PIxmkGs",
        "colab_type": "code",
        "colab": {}
      },
      "source": [
        "#4.1  Data de entrenamiento y validacion\n",
        "train, test = indexed.randomSplit([0.75, 0.25], seed=42)"
      ],
      "execution_count": null,
      "outputs": []
    },
    {
      "cell_type": "code",
      "metadata": {
        "id": "AVzr9MGdD_Mi",
        "colab_type": "code",
        "colab": {
          "base_uri": "https://localhost:8080/",
          "height": 34
        },
        "outputId": "45093401-d473-4c41-9a33-68e0bf1b9138"
      },
      "source": [
        "# Nro de entrenamiento\n",
        "train.count()"
      ],
      "execution_count": null,
      "outputs": [
        {
          "output_type": "execute_result",
          "data": {
            "text/plain": [
              "75031"
            ]
          },
          "metadata": {
            "tags": []
          },
          "execution_count": 27
        }
      ]
    },
    {
      "cell_type": "code",
      "metadata": {
        "id": "Sw9bXyMoEUaf",
        "colab_type": "code",
        "colab": {
          "base_uri": "https://localhost:8080/",
          "height": 204
        },
        "outputId": "8d789fe8-193b-43e3-d48a-7fb25a81a9e0"
      },
      "source": [
        "train.show(5)"
      ],
      "execution_count": null,
      "outputs": [
        {
          "output_type": "stream",
          "text": [
            "+------+--------------------+------+---------+\n",
            "|userId|               title|rating|title_new|\n",
            "+------+--------------------+------+---------+\n",
            "|     1|101 Dalmatians (1...|     2|    308.0|\n",
            "|     1|   Abyss, The (1989)|     3|    200.0|\n",
            "|     1|Ace Ventura: Pet ...|     3|    322.0|\n",
            "|     1|      Air Bud (1997)|     1|    673.0|\n",
            "|     1|        Akira (1988)|     4|    596.0|\n",
            "+------+--------------------+------+---------+\n",
            "only showing top 5 rows\n",
            "\n"
          ],
          "name": "stdout"
        }
      ]
    },
    {
      "cell_type": "code",
      "metadata": {
        "id": "WYpYCZWtEFCo",
        "colab_type": "code",
        "colab": {
          "base_uri": "https://localhost:8080/",
          "height": 34
        },
        "outputId": "b3b706ca-0964-493f-c8cb-d14592dfb063"
      },
      "source": [
        "# Nro de Validacion\n",
        "test.count()"
      ],
      "execution_count": null,
      "outputs": [
        {
          "output_type": "execute_result",
          "data": {
            "text/plain": [
              "24969"
            ]
          },
          "metadata": {
            "tags": []
          },
          "execution_count": 29
        }
      ]
    },
    {
      "cell_type": "code",
      "metadata": {
        "id": "uyI0krDuEYlu",
        "colab_type": "code",
        "colab": {
          "base_uri": "https://localhost:8080/",
          "height": 204
        },
        "outputId": "6dbd686e-5ec3-4624-df6b-e5f300e64ea6"
      },
      "source": [
        "test.show(5)"
      ],
      "execution_count": null,
      "outputs": [
        {
          "output_type": "stream",
          "text": [
            "+------+--------------------+------+---------+\n",
            "|userId|               title|rating|title_new|\n",
            "+------+--------------------+------+---------+\n",
            "|     1| 12 Angry Men (1957)|     5|    263.0|\n",
            "|     1|20,000 Leagues Un...|     3|    454.0|\n",
            "|     1|2001: A Space Ody...|     4|     60.0|\n",
            "|     1|Angels and Insect...|     4|    451.0|\n",
            "|     1|    Apollo 13 (1995)|     4|     51.0|\n",
            "+------+--------------------+------+---------+\n",
            "only showing top 5 rows\n",
            "\n"
          ],
          "name": "stdout"
        }
      ]
    },
    {
      "cell_type": "markdown",
      "metadata": {
        "id": "DzS3l96FELtG",
        "colab_type": "text"
      },
      "source": [
        "# 5. Entrenando el Modelo\n"
      ]
    },
    {
      "cell_type": "code",
      "metadata": {
        "id": "bBgycnsdm9_3",
        "colab_type": "code",
        "colab": {}
      },
      "source": [
        "#Importando el modelo Recomendador ALS\n",
        "from pyspark.sql.functions import *\n",
        "from pyspark.ml.recommendation import ALS\n"
      ],
      "execution_count": null,
      "outputs": []
    },
    {
      "cell_type": "code",
      "metadata": {
        "id": "spViP-t4EY-7",
        "colab_type": "code",
        "colab": {}
      },
      "source": [
        "#Configuracion del Entrenamiento del modelo Recomendador usando la muetsra de entrenamiento\n",
        "rec = ALS(\n",
        "    maxIter=10,\n",
        "    regParam=0.01,\n",
        "    userCol='userId',\n",
        "    itemCol='title_new',\n",
        "    ratingCol='rating',\n",
        "    nonnegative=True,\n",
        "    coldStartStrategy=\"drop\",\n",
        "    implicitPrefs=False\n",
        ")\n",
        "\n",
        "# maxIter: El maximo de iteraciones\n",
        "# regParam: Parametro de REgularización\n",
        "# nonnegative: Especificar si se utiliza una restriccion negativa en los Minimos cuadrados\n",
        "# coldStartStrategy: Parametro que elimina cualquier cliente que no tenga informacion\n",
        "# implicitPrefs: Si es implicito hace referencia a feedback no registrado voluntariamente por el cliente"
      ],
      "execution_count": null,
      "outputs": []
    },
    {
      "cell_type": "code",
      "metadata": {
        "id": "coVXq71IEkIS",
        "colab_type": "code",
        "colab": {}
      },
      "source": [
        "#Entrenando el modelo\n",
        "rec_model = rec.fit(train)"
      ],
      "execution_count": null,
      "outputs": []
    },
    {
      "cell_type": "code",
      "metadata": {
        "id": "fJxeEWJ5E0c0",
        "colab_type": "code",
        "colab": {}
      },
      "source": [
        "#Haciendo las predicciones en la data de test \n",
        "predicted_ratings = rec_model.transform(test)"
      ],
      "execution_count": null,
      "outputs": []
    },
    {
      "cell_type": "code",
      "metadata": {
        "id": "m55jvm2gEyCY",
        "colab_type": "code",
        "colab": {
          "base_uri": "https://localhost:8080/",
          "height": 136
        },
        "outputId": "71629afb-b01a-4b66-bd02-2a8dd4a84e75"
      },
      "source": [
        "#Revisando los pronostico\n",
        "predicted_ratings.printSchema()"
      ],
      "execution_count": null,
      "outputs": [
        {
          "output_type": "stream",
          "text": [
            "root\n",
            " |-- userId: integer (nullable = true)\n",
            " |-- title: string (nullable = true)\n",
            " |-- rating: integer (nullable = true)\n",
            " |-- title_new: double (nullable = false)\n",
            " |-- prediction: float (nullable = false)\n",
            "\n"
          ],
          "name": "stdout"
        }
      ]
    },
    {
      "cell_type": "code",
      "metadata": {
        "id": "h8cfiAWkFHxi",
        "colab_type": "code",
        "colab": {
          "base_uri": "https://localhost:8080/",
          "height": 289
        },
        "outputId": "017388c7-ac8e-49b7-e2d9-b04611733582"
      },
      "source": [
        "# Revision rapida de los pronosticos\n",
        "predicted_ratings.orderBy(rand()).show(10)"
      ],
      "execution_count": null,
      "outputs": [
        {
          "output_type": "stream",
          "text": [
            "+------+--------------------+------+---------+----------+\n",
            "|userId|               title|rating|title_new|prediction|\n",
            "+------+--------------------+------+---------+----------+\n",
            "|   655|2 Days in the Val...|     3|    355.0| 2.5921433|\n",
            "|   504|Corrina, Corrina ...|     3|    715.0|  3.392963|\n",
            "|   174|Wizard of Oz, The...|     2|     70.0| 3.6322527|\n",
            "|   331|Microcosmos: Le p...|     3|    870.0| 6.7176294|\n",
            "|   234|Madame Butterfly ...|     3|   1227.0| 3.1087177|\n",
            "|   239|Fly Away Home (1996)|     1|    141.0| 2.7272744|\n",
            "|   863|     In & Out (1997)|     4|     83.0| 3.6742563|\n",
            "|   708|      Flipper (1996)|     1|    922.0| 1.9472231|\n",
            "|   749| Program, The (1993)|     3|    786.0| 3.4875898|\n",
            "|   398|Fish Called Wanda...|     4|     69.0| 3.8754458|\n",
            "+------+--------------------+------+---------+----------+\n",
            "only showing top 10 rows\n",
            "\n"
          ],
          "name": "stdout"
        }
      ]
    },
    {
      "cell_type": "code",
      "metadata": {
        "id": "H5sy0MCST3xP",
        "colab_type": "code",
        "colab": {}
      },
      "source": [
        "# Generando los top 10 peliculas sugeridas por cada cliente\n",
        "userRecs = rec_model.recommendForAllUsers(10)"
      ],
      "execution_count": null,
      "outputs": []
    },
    {
      "cell_type": "code",
      "metadata": {
        "id": "iXB9FWCpUCEm",
        "colab_type": "code",
        "colab": {
          "base_uri": "https://localhost:8080/",
          "height": 224
        },
        "outputId": "27b205f3-e9e3-4203-f521-c79578781013"
      },
      "source": [
        "userRecs.show(5, False)"
      ],
      "execution_count": null,
      "outputs": [
        {
          "output_type": "stream",
          "text": [
            "+------+---------------------------------------------------------------------------------------------------------------------------------------------------------------------------------------+\n",
            "|userId|recommendations                                                                                                                                                                        |\n",
            "+------+---------------------------------------------------------------------------------------------------------------------------------------------------------------------------------------+\n",
            "|471   |[[930, 16.846155], [1121, 16.534775], [919, 15.584093], [869, 15.214818], [996, 15.114396], [1239, 15.011452], [1066, 14.84825], [883, 14.658953], [1074, 14.627299], [923, 14.356593]]|\n",
            "|463   |[[804, 6.46665], [1049, 6.292797], [998, 6.0285635], [1022, 5.773181], [1068, 5.7446985], [1301, 5.743225], [1393, 5.63342], [1432, 5.6177406], [914, 5.5527067], [1268, 5.548155]]    |\n",
            "|833   |[[1277, 6.735337], [1058, 5.833331], [1030, 5.704032], [870, 5.668587], [1137, 5.4629235], [750, 5.366136], [1227, 5.1744685], [1358, 5.1703877], [1142, 5.1387568], [1367, 5.106045]] |\n",
            "|496   |[[910, 6.788106], [930, 6.772038], [1121, 6.7540884], [1393, 6.6306357], [890, 6.5671916], [992, 6.305087], [869, 6.220071], [1370, 6.080731], [1300, 5.931779], [765, 5.719371]]      |\n",
            "|148   |[[1121, 8.795417], [996, 8.290021], [1178, 7.763631], [1156, 7.7142725], [504, 7.6430054], [878, 7.3171525], [914, 7.219426], [1165, 7.1666493], [664, 7.1654973], [939, 7.108903]]    |\n",
            "+------+---------------------------------------------------------------------------------------------------------------------------------------------------------------------------------------+\n",
            "only showing top 5 rows\n",
            "\n"
          ],
          "name": "stdout"
        }
      ]
    },
    {
      "cell_type": "markdown",
      "metadata": {
        "id": "hSEgqY-EpCYi",
        "colab_type": "text"
      },
      "source": [
        "# 5. Evaluación del poder predictivo del modelo\n"
      ]
    },
    {
      "cell_type": "code",
      "metadata": {
        "id": "DmVUSxsmpJ4M",
        "colab_type": "code",
        "colab": {
          "base_uri": "https://localhost:8080/",
          "height": 459
        },
        "outputId": "90fd7f3f-f695-469a-e6d9-2293574e40e2"
      },
      "source": [
        "# Creando la columna diferencia del pronostico\n",
        "predicted_ratings_witherr = predicted_ratings.withColumn(\n",
        "    'err', abs(predicted_ratings.prediction - predicted_ratings.rating)\n",
        ")\n",
        "\n",
        "predicted_ratings_witherr.show()"
      ],
      "execution_count": null,
      "outputs": [
        {
          "output_type": "stream",
          "text": [
            "+------+--------------------+------+---------+----------+-----------+\n",
            "|userId|               title|rating|title_new|prediction|        err|\n",
            "+------+--------------------+------+---------+----------+-----------+\n",
            "|   463|That Thing You Do...|     3|    148.0| 2.6229181| 0.37708187|\n",
            "|   251|That Thing You Do...|     4|    148.0| 3.5145473| 0.48545265|\n",
            "|   296|That Thing You Do...|     5|    148.0| 3.4161263|  1.5838737|\n",
            "|   642|That Thing You Do...|     5|    148.0| 3.5182166|  1.4817834|\n",
            "|   101|That Thing You Do...|     3|    148.0| 3.2064214| 0.20642138|\n",
            "|    26|That Thing You Do...|     3|    148.0| 3.0854294| 0.08542943|\n",
            "|   501|That Thing You Do...|     3|    148.0| 3.4328532| 0.43285322|\n",
            "|   336|That Thing You Do...|     1|    148.0| 4.0463634|  3.0463634|\n",
            "|   330|That Thing You Do...|     5|    148.0| 3.9899979|  1.0100021|\n",
            "|   360|That Thing You Do...|     3|    148.0| 3.4100723| 0.41007233|\n",
            "|   599|That Thing You Do...|     5|    148.0| 3.8680613|  1.1319387|\n",
            "|   416|That Thing You Do...|     4|    148.0|   3.88039| 0.11961007|\n",
            "|   665|That Thing You Do...|     4|    148.0| 3.1218302|  0.8781698|\n",
            "|   747|That Thing You Do...|     2|    148.0| 3.9101639|  1.9101639|\n",
            "|   435|That Thing You Do...|     3|    148.0|  2.748378| 0.25162196|\n",
            "|   896|That Thing You Do...|     3|    148.0| 3.3451412| 0.34514117|\n",
            "|   500|That Thing You Do...|     4|    148.0|  2.507033|  1.4929669|\n",
            "|   283|That Thing You Do...|     4|    148.0| 3.6961892| 0.30381083|\n",
            "|   692|That Thing You Do...|     3|    148.0|  3.071043|0.071043015|\n",
            "|   634|That Thing You Do...|     3|    148.0| 3.3652089| 0.36520886|\n",
            "+------+--------------------+------+---------+----------+-----------+\n",
            "only showing top 20 rows\n",
            "\n"
          ],
          "name": "stdout"
        }
      ]
    },
    {
      "cell_type": "code",
      "metadata": {
        "id": "5c9vbl7Q2b1x",
        "colab_type": "code",
        "colab": {
          "base_uri": "https://localhost:8080/",
          "height": 187
        },
        "outputId": "4e7124cd-9ddc-4778-c6b4-38ebe334928b"
      },
      "source": [
        "# Distribución de las valoraciones\n",
        "predicted_ratings.groupBy('rating').count().orderBy('rating', ascending=True).show()"
      ],
      "execution_count": null,
      "outputs": [
        {
          "output_type": "stream",
          "text": [
            "+------+-----+\n",
            "|rating|count|\n",
            "+------+-----+\n",
            "|     1| 1563|\n",
            "|     2| 2819|\n",
            "|     3| 6757|\n",
            "|     4| 8556|\n",
            "|     5| 5229|\n",
            "+------+-----+\n",
            "\n"
          ],
          "name": "stdout"
        }
      ]
    },
    {
      "cell_type": "code",
      "metadata": {
        "id": "GgQi748YvWu7",
        "colab_type": "code",
        "colab": {
          "base_uri": "https://localhost:8080/",
          "height": 187
        },
        "outputId": "5887fe10-3ec1-47e9-cad1-728a06826e6f"
      },
      "source": [
        "# Error promedio por rating de valoracion\n",
        "predicted_ratings_witherr.groupBy('rating').agg({'err':'mean'}).orderBy('rating',ascending=True).show()"
      ],
      "execution_count": null,
      "outputs": [
        {
          "output_type": "stream",
          "text": [
            "+------+------------------+\n",
            "|rating|          avg(err)|\n",
            "+------+------------------+\n",
            "|     1|1.5675447746149322|\n",
            "|     2|1.0571452738674543|\n",
            "|     3|0.6332736125610845|\n",
            "|     4|0.5604539595671505|\n",
            "|     5|0.9443126513694396|\n",
            "+------+------------------+\n",
            "\n"
          ],
          "name": "stdout"
        }
      ]
    },
    {
      "cell_type": "code",
      "metadata": {
        "id": "JO5oYYa_dnZT",
        "colab_type": "code",
        "colab": {
          "base_uri": "https://localhost:8080/",
          "height": 187
        },
        "outputId": "b8cc2a1f-6eb0-45e6-ca6e-8a145b7cf4c7"
      },
      "source": [
        "# Error promedio por rating de valoracion\n",
        "predicted_ratings_witherr.groupBy('rating').agg({'err':'std'}).orderBy('rating',ascending=True).show()"
      ],
      "execution_count": null,
      "outputs": [
        {
          "output_type": "stream",
          "text": [
            "+------+-------------------+\n",
            "|rating|        stddev(err)|\n",
            "+------+-------------------+\n",
            "|     1| 0.9906212843930412|\n",
            "|     2|  0.701535097704724|\n",
            "|     3|0.48325731604175864|\n",
            "|     4| 0.4778440945038258|\n",
            "|     5| 0.6408675130952619|\n",
            "+------+-------------------+\n",
            "\n"
          ],
          "name": "stdout"
        }
      ]
    },
    {
      "cell_type": "code",
      "metadata": {
        "id": "e0uziR670BFM",
        "colab_type": "code",
        "colab": {}
      },
      "source": [
        "#Importando el evaluador de Regresion RMSE \n",
        "from pyspark.ml.evaluation import RegressionEvaluator"
      ],
      "execution_count": null,
      "outputs": []
    },
    {
      "cell_type": "code",
      "metadata": {
        "id": "XFO3FDV_ysT2",
        "colab_type": "code",
        "colab": {}
      },
      "source": [
        "#Evluando la presición del pronostico\n",
        "evaluator=RegressionEvaluator(metricName='rmse',predictionCol='prediction',labelCol='rating')"
      ],
      "execution_count": null,
      "outputs": []
    },
    {
      "cell_type": "code",
      "metadata": {
        "id": "kP7KuqQbz7UD",
        "colab_type": "code",
        "colab": {}
      },
      "source": [
        "#Evluando el error de pronostico global\n",
        "rmse=evaluator.evaluate(predicted_ratings)"
      ],
      "execution_count": null,
      "outputs": []
    },
    {
      "cell_type": "code",
      "metadata": {
        "id": "z4fUBfZ03t4Z",
        "colab_type": "code",
        "colab": {
          "base_uri": "https://localhost:8080/",
          "height": 34
        },
        "outputId": "6ec5248d-652f-4385-ac56-724e62edab31"
      },
      "source": [
        "#Imprimiento el error\n",
        "print(rmse)"
      ],
      "execution_count": null,
      "outputs": [
        {
          "output_type": "stream",
          "text": [
            "1.0126361863850386\n"
          ],
          "name": "stdout"
        }
      ]
    },
    {
      "cell_type": "markdown",
      "metadata": {
        "id": "KG2wbeNe4hDU",
        "colab_type": "text"
      },
      "source": [
        "# 6. Recomendandor de peliculas, ya listo!"
      ]
    },
    {
      "cell_type": "code",
      "metadata": {
        "id": "06wR5qaF4pLL",
        "colab_type": "code",
        "colab": {}
      },
      "source": [
        "#Listado de peliculas unicas\n",
        "unique_movies=indexed.select('title_new').distinct()"
      ],
      "execution_count": null,
      "outputs": []
    },
    {
      "cell_type": "code",
      "metadata": {
        "id": "WIRmCdZNHNfX",
        "colab_type": "code",
        "colab": {
          "base_uri": "https://localhost:8080/",
          "height": 34
        },
        "outputId": "830b8cf1-1da9-4eec-9434-53fdc3fabbd6"
      },
      "source": [
        "#Total de peliculas\n",
        "unique_movies.count()"
      ],
      "execution_count": null,
      "outputs": [
        {
          "output_type": "execute_result",
          "data": {
            "text/plain": [
              "1664"
            ]
          },
          "metadata": {
            "tags": []
          },
          "execution_count": 49
        }
      ]
    },
    {
      "cell_type": "code",
      "metadata": {
        "id": "taX8DiH85XBQ",
        "colab_type": "code",
        "colab": {}
      },
      "source": [
        "#Asignando un alias {a} la lista unica de peliculas\n",
        "a = unique_movies.alias('a')"
      ],
      "execution_count": null,
      "outputs": []
    },
    {
      "cell_type": "code",
      "metadata": {
        "id": "XBoqyCAU51sv",
        "colab_type": "code",
        "colab": {
          "base_uri": "https://localhost:8080/",
          "height": 34
        },
        "outputId": "0d1a88f6-c68b-41c8-baa3-7e0d9e68564c"
      },
      "source": [
        "# Eligiendo un cliente\n",
        "user_id=100\n",
        "\n",
        "# Creando una tabla que contiene una pelicula por usuario\n",
        "watched_movies=indexed.filter(indexed['userId'] == user_id).select('title_new').distinct()\n",
        "\n",
        "#Numero de peliculas ya evaluadas \n",
        "watched_movies.count()"
      ],
      "execution_count": null,
      "outputs": [
        {
          "output_type": "execute_result",
          "data": {
            "text/plain": [
              "59"
            ]
          },
          "metadata": {
            "tags": []
          },
          "execution_count": 51
        }
      ]
    },
    {
      "cell_type": "code",
      "metadata": {
        "id": "oyv-yms65v5v",
        "colab_type": "code",
        "colab": {}
      },
      "source": [
        "# Asignando un alias  {b} ha peliculas que el usuario ya vio de la tabla\n",
        "b=watched_movies.alias('b')"
      ],
      "execution_count": null,
      "outputs": []
    },
    {
      "cell_type": "code",
      "metadata": {
        "id": "2g1l6cNKIg3N",
        "colab_type": "code",
        "colab": {}
      },
      "source": [
        "#Cruzando ambas tablas\n",
        "total_movies = a.join(b, a.title_new == b.title_new,how='left')"
      ],
      "execution_count": null,
      "outputs": []
    },
    {
      "cell_type": "code",
      "metadata": {
        "id": "oQSPG1WPIyHc",
        "colab_type": "code",
        "colab": {
          "base_uri": "https://localhost:8080/",
          "height": 289
        },
        "outputId": "7e35618c-70e3-4ae2-a647-9a6d8599633a"
      },
      "source": [
        "total_movies.show(10,False)"
      ],
      "execution_count": null,
      "outputs": [
        {
          "output_type": "stream",
          "text": [
            "+---------+---------+\n",
            "|title_new|title_new|\n",
            "+---------+---------+\n",
            "|558.0    |null     |\n",
            "|305.0    |null     |\n",
            "|299.0    |null     |\n",
            "|596.0    |null     |\n",
            "|769.0    |null     |\n",
            "|934.0    |null     |\n",
            "|496.0    |null     |\n",
            "|1051.0   |null     |\n",
            "|692.0    |null     |\n",
            "|810.0    |null     |\n",
            "+---------+---------+\n",
            "only showing top 10 rows\n",
            "\n"
          ],
          "name": "stdout"
        }
      ]
    },
    {
      "cell_type": "code",
      "metadata": {
        "id": "jTTbDE_oI4Rv",
        "colab_type": "code",
        "colab": {}
      },
      "source": [
        "# Seleccionando peliculas que el cliente aun no ha mirado\n",
        "remaining_movies=total_movies.where(col(\"b.title_new\").isNull()).select(a.title_new).distinct()"
      ],
      "execution_count": null,
      "outputs": []
    },
    {
      "cell_type": "code",
      "metadata": {
        "id": "oNshK4j_JBIG",
        "colab_type": "code",
        "colab": {
          "base_uri": "https://localhost:8080/",
          "height": 459
        },
        "outputId": "8aca208d-c6b9-44ba-8bed-0199c41b3092"
      },
      "source": [
        "remaining_movies.show()"
      ],
      "execution_count": null,
      "outputs": [
        {
          "output_type": "stream",
          "text": [
            "+---------+\n",
            "|title_new|\n",
            "+---------+\n",
            "|    558.0|\n",
            "|    305.0|\n",
            "|    299.0|\n",
            "|    596.0|\n",
            "|    769.0|\n",
            "|    934.0|\n",
            "|    496.0|\n",
            "|   1051.0|\n",
            "|    692.0|\n",
            "|    810.0|\n",
            "|    720.0|\n",
            "|    782.0|\n",
            "|    184.0|\n",
            "|    147.0|\n",
            "|    576.0|\n",
            "|    170.0|\n",
            "|   1369.0|\n",
            "|   1587.0|\n",
            "|    608.0|\n",
            "|    735.0|\n",
            "+---------+\n",
            "only showing top 20 rows\n",
            "\n"
          ],
          "name": "stdout"
        }
      ]
    },
    {
      "cell_type": "code",
      "metadata": {
        "id": "0g1asm_eJMhe",
        "colab_type": "code",
        "colab": {
          "base_uri": "https://localhost:8080/",
          "height": 34
        },
        "outputId": "256f5508-f5ed-45c4-c7cd-dcf476cd741e"
      },
      "source": [
        "# Numero de peliculas que los usuario aun no lo ven \n",
        "remaining_movies.count()"
      ],
      "execution_count": null,
      "outputs": [
        {
          "output_type": "execute_result",
          "data": {
            "text/plain": [
              "1605"
            ]
          },
          "metadata": {
            "tags": []
          },
          "execution_count": 57
        }
      ]
    },
    {
      "cell_type": "code",
      "metadata": {
        "id": "ZEualSXXJZfQ",
        "colab_type": "code",
        "colab": {}
      },
      "source": [
        "# Agregando una nueva columna del usuario \n",
        "remaining_movies=remaining_movies.withColumn(\"userId\",lit(int(user_id)))"
      ],
      "execution_count": null,
      "outputs": []
    },
    {
      "cell_type": "code",
      "metadata": {
        "id": "mYwMGFg2Jr5L",
        "colab_type": "code",
        "colab": {
          "base_uri": "https://localhost:8080/",
          "height": 289
        },
        "outputId": "6052b356-46f1-4fcd-e475-d8dc007b8aff"
      },
      "source": [
        "remaining_movies.show(10,False)"
      ],
      "execution_count": null,
      "outputs": [
        {
          "output_type": "stream",
          "text": [
            "+---------+------+\n",
            "|title_new|userId|\n",
            "+---------+------+\n",
            "|558.0    |100   |\n",
            "|305.0    |100   |\n",
            "|299.0    |100   |\n",
            "|596.0    |100   |\n",
            "|769.0    |100   |\n",
            "|934.0    |100   |\n",
            "|496.0    |100   |\n",
            "|1051.0   |100   |\n",
            "|692.0    |100   |\n",
            "|810.0    |100   |\n",
            "+---------+------+\n",
            "only showing top 10 rows\n",
            "\n"
          ],
          "name": "stdout"
        }
      ]
    },
    {
      "cell_type": "code",
      "metadata": {
        "id": "6VI20fG2Jy-s",
        "colab_type": "code",
        "colab": {}
      },
      "source": [
        "# Haciendo la recomendacion de peliculas utilizando el modelo recomendador ALS y seleccionado solo las mejores top {n} peliculas\n",
        "recommendations=rec_model.transform(remaining_movies).orderBy('prediction',ascending=False)"
      ],
      "execution_count": null,
      "outputs": []
    },
    {
      "cell_type": "code",
      "metadata": {
        "id": "Vho32qWRKBYz",
        "colab_type": "code",
        "colab": {
          "base_uri": "https://localhost:8080/",
          "height": 204
        },
        "outputId": "2086bd5d-44ec-43b9-b684-0bb7c5d6f0ae"
      },
      "source": [
        "recommendations.show(5,False)"
      ],
      "execution_count": null,
      "outputs": [
        {
          "output_type": "stream",
          "text": [
            "+---------+------+----------+\n",
            "|title_new|userId|prediction|\n",
            "+---------+------+----------+\n",
            "|1066.0   |100   |6.513842  |\n",
            "|930.0    |100   |5.687636  |\n",
            "|923.0    |100   |5.469397  |\n",
            "|1239.0   |100   |5.418679  |\n",
            "|869.0    |100   |5.2863975 |\n",
            "+---------+------+----------+\n",
            "only showing top 5 rows\n",
            "\n"
          ],
          "name": "stdout"
        }
      ]
    },
    {
      "cell_type": "code",
      "metadata": {
        "id": "WvNsq2skKF4t",
        "colab_type": "code",
        "colab": {}
      },
      "source": [
        "# Consiguiendo los de las peliculas sugeridas\n",
        "movie_title = IndexToString(inputCol=\"title_new\", outputCol=\"title\",labels=model.labels)\n",
        "\n",
        "final_recommendations=movie_title.transform(recommendations)"
      ],
      "execution_count": null,
      "outputs": []
    },
    {
      "cell_type": "code",
      "metadata": {
        "id": "cKjoYW7NKNkO",
        "colab_type": "code",
        "colab": {
          "base_uri": "https://localhost:8080/",
          "height": 289
        },
        "outputId": "1968dd5f-9289-4403-81fb-b01d32e00707"
      },
      "source": [
        "final_recommendations.show(10,False)"
      ],
      "execution_count": null,
      "outputs": [
        {
          "output_type": "stream",
          "text": [
            "+---------+------+----------+-------------------------------------------------------------------------+\n",
            "|title_new|userId|prediction|title                                                                    |\n",
            "+---------+------+----------+-------------------------------------------------------------------------+\n",
            "|1066.0   |100   |6.513842  |Alphaville (1965)                                                        |\n",
            "|930.0    |100   |5.687636  |Ma vie en rose (My Life in Pink) (1997)                                  |\n",
            "|923.0    |100   |5.469397  |Indian Summer (1996)                                                     |\n",
            "|1239.0   |100   |5.418679  |Swept from the Sea (1997)                                                |\n",
            "|869.0    |100   |5.2863975 |Burnt By the Sun (1994)                                                  |\n",
            "|840.0    |100   |5.2617555 |Ghost in the Shell (Kokaku kidotai) (1995)                               |\n",
            "|1121.0   |100   |5.0466433 |Crooklyn (1994)                                                          |\n",
            "|944.0    |100   |5.0405154 |Surviving Picasso (1996)                                                 |\n",
            "|890.0    |100   |4.9305634 |Double vie de V<U+008E>ronique, La (Double Life of Veronique, The) (1991)|\n",
            "|445.0    |100   |4.9228086 |Heavy Metal (1981)                                                       |\n",
            "+---------+------+----------+-------------------------------------------------------------------------+\n",
            "only showing top 10 rows\n",
            "\n"
          ],
          "name": "stdout"
        }
      ]
    },
    {
      "cell_type": "markdown",
      "metadata": {
        "id": "qg-eHdVRDZHq",
        "colab_type": "text"
      },
      "source": [
        "# 7. Construyendo las funcion que sugiera una pelicula recomendada segun el modelo recomendador"
      ]
    },
    {
      "cell_type": "code",
      "metadata": {
        "id": "u4LLYAgXDpnL",
        "colab_type": "code",
        "colab": {}
      },
      "source": [
        "# Funcion para recomendar las top n peliculas para cualquier usuario\n",
        "def top_movies(user_id,n):\n",
        "    \"\"\"\n",
        "    This function returns the top 'n' movies that user has not seen yet but might like \n",
        "    \n",
        "    \"\"\"\n",
        "    # Asignación de una lista de peliculas unicas a\n",
        "    a = unique_movies.alias('a')\n",
        "    \n",
        "    # Creando otra tabla que contiene las peliculas que ya vio el usuario\n",
        "    watched_movies=indexed.filter(indexed['userId'] == user_id).select('title_new')\n",
        "    \n",
        "    # Asignanción de tabla de peliculas b de peliculas ya vistas \n",
        "    b=watched_movies.alias('b')\n",
        "    \n",
        "    # Cruce de ambas tablas\n",
        "    total_movies = a.join(b, a.title_new == b.title_new,how='left')\n",
        "    \n",
        "    # Seleccionando peliculas que el usuario no ha visto aun \n",
        "    remaining_movies=total_movies.where(col(\"b.title_new\").isNull()).select(a.title_new).distinct()\n",
        "        \n",
        "    #Agregando una nueva columan del cliente  \n",
        "    remaining_movies=remaining_movies.withColumn(\"userId\",lit(int(user_id)))\n",
        "    \n",
        "    # REalizando la recomendnado de peliculas mas adecuada utilizando el Sistema de recomendador del modelo ALS y seleccionando las mejores peliculas\n",
        "    recommendations=rec_model.transform(remaining_movies).orderBy('prediction',ascending=False).limit(n)\n",
        "\n",
        "    # Agregando los titulos de las peliculas en texto   \n",
        "    movie_title = IndexToString(inputCol=\"title_new\", outputCol=\"title\",labels=model.labels)\n",
        "    final_recommendations=movie_title.transform(recommendations)\n",
        "    \n",
        "    # Entregando los titutlos recomendado por usuario\n",
        "    return final_recommendations.show(n,False)\n"
      ],
      "execution_count": null,
      "outputs": []
    },
    {
      "cell_type": "code",
      "metadata": {
        "id": "3o06Kl2nMt2a",
        "colab_type": "code",
        "colab": {
          "base_uri": "https://localhost:8080/",
          "height": 357
        },
        "outputId": "c7298e7c-8516-43a4-f760-175bcf27a559"
      },
      "source": [
        "# REvision del clientes y las 10 peliculas sugeridas para el cliente\n",
        "top_movies(123,15)"
      ],
      "execution_count": null,
      "outputs": [
        {
          "output_type": "stream",
          "text": [
            "+---------+------+----------+-------------------------------------------------------------------------+\n",
            "|title_new|userId|prediction|title                                                                    |\n",
            "+---------+------+----------+-------------------------------------------------------------------------+\n",
            "|1358.0   |123   |6.666241  |Angel Baby (1995)                                                        |\n",
            "|1121.0   |123   |6.456703  |Crooklyn (1994)                                                          |\n",
            "|910.0    |123   |5.9415126 |Mis<U+008E>rables, Les (1995)                                            |\n",
            "|739.0    |123   |5.817608  |Night on Earth (1991)                                                    |\n",
            "|1184.0   |123   |5.6485686 |Maybe, Maybe Not (Bewegte Mann, Der) (1994)                              |\n",
            "|1182.0   |123   |5.599687  |Kaspar Hauser (1993)                                                     |\n",
            "|495.0    |123   |5.541688  |In the Company of Men (1997)                                             |\n",
            "|966.0    |123   |5.51511   |Hate (Haine, La) (1995)                                                  |\n",
            "|890.0    |123   |5.503586  |Double vie de V<U+008E>ronique, La (Double Life of Veronique, The) (1991)|\n",
            "|164.0    |123   |5.384238  |Big Night (1996)                                                         |\n",
            "|652.0    |123   |5.3291984 |M (1931)                                                                 |\n",
            "|656.0    |123   |5.2943554 |Sweet Hereafter, The (1997)                                              |\n",
            "|756.0    |123   |5.2814465 |Orlando (1993)                                                           |\n",
            "|946.0    |123   |5.2668195 |Gridlock'd (1997)                                                        |\n",
            "|1213.0   |123   |5.247176  |Aparajito (1956)                                                         |\n",
            "+---------+------+----------+-------------------------------------------------------------------------+\n",
            "\n"
          ],
          "name": "stdout"
        }
      ]
    },
    {
      "cell_type": "code",
      "metadata": {
        "id": "v6CUg2sShtTP",
        "colab_type": "code",
        "colab": {
          "base_uri": "https://localhost:8080/",
          "height": 459
        },
        "outputId": "0e4e24df-3813-47f6-a3fe-6567e0ffee2e"
      },
      "source": [
        "# El cliente 450 que revisa Star Wars\n",
        "DS_peliculas_rating.filter((DS_peliculas_rating['rating']>4)&(DS_peliculas_rating['userId']=='450')).show()"
      ],
      "execution_count": null,
      "outputs": [
        {
          "output_type": "stream",
          "text": [
            "+------+--------------------+------+\n",
            "|userId|               title|rating|\n",
            "+------+--------------------+------+\n",
            "|   450|L.A. Confidential...|     5|\n",
            "|   450|Dr. Strangelove o...|     5|\n",
            "|   450|Hunt for Red Octo...|     5|\n",
            "|   450|Age of Innocence,...|     5|\n",
            "|   450|     Die Hard (1988)|     5|\n",
            "|   450|Right Stuff, The ...|     5|\n",
            "|   450|Sleepless in Seat...|     5|\n",
            "|   450|   Sting, The (1973)|     5|\n",
            "|   450|  Rear Window (1954)|     5|\n",
            "|   450|Dead Poets Societ...|     5|\n",
            "|   450|Sound of Music, T...|     5|\n",
            "|   450|E.T. the Extra-Te...|     5|\n",
            "|   450|Brothers McMullen...|     5|\n",
            "|   450|To Kill a Mocking...|     5|\n",
            "|   450|   Old Yeller (1957)|     5|\n",
            "|   450|Jerry Maguire (1996)|     5|\n",
            "|   450|     Backbeat (1993)|     5|\n",
            "|   450|  Taxi Driver (1976)|     5|\n",
            "|   450|Young Frankenstei...|     5|\n",
            "|   450|It's a Wonderful ...|     5|\n",
            "+------+--------------------+------+\n",
            "only showing top 20 rows\n",
            "\n"
          ],
          "name": "stdout"
        }
      ]
    },
    {
      "cell_type": "code",
      "metadata": {
        "id": "LSZ9IReFibmG",
        "colab_type": "code",
        "colab": {
          "base_uri": "https://localhost:8080/",
          "height": 357
        },
        "outputId": "2f990898-23f2-4fe0-9125-5bfac67a3636"
      },
      "source": [
        "# REvision del clientes y las 10 peliculas sugeridas para el cliente\n",
        "top_movies(450,15)"
      ],
      "execution_count": null,
      "outputs": [
        {
          "output_type": "stream",
          "text": [
            "+---------+------+----------+----------------------------------+\n",
            "|title_new|userId|prediction|title                             |\n",
            "+---------+------+----------+----------------------------------+\n",
            "|944.0    |450   |5.4597893 |Surviving Picasso (1996)          |\n",
            "|1072.0   |450   |5.440328  |Radioland Murders (1994)          |\n",
            "|1358.0   |450   |5.2606144 |Angel Baby (1995)                 |\n",
            "|1271.0   |450   |5.168796  |Whole Wide World, The (1996)      |\n",
            "|1266.0   |450   |5.114764  |Promesse, La (1996)               |\n",
            "|923.0    |450   |5.1098905 |Indian Summer (1996)              |\n",
            "|1023.0   |450   |5.100616  |Gay Divorcee, The (1934)          |\n",
            "|581.0    |450   |5.0989923 |Koyaanisqatsi (1983)              |\n",
            "|1195.0   |450   |5.0697556 |Pather Panchali (1955)            |\n",
            "|988.0    |450   |5.066791  |Ruling Class, The (1972)          |\n",
            "|997.0    |450   |5.0588284 |Selena (1997)                     |\n",
            "|1450.0   |450   |5.0580397 |C<U+008E>r<U+008E>monie, La (1995)|\n",
            "|1488.0   |450   |5.021508  |Slingshot, The (1993)             |\n",
            "|1501.0   |450   |5.007907  |Butcher Boy, The (1998)           |\n",
            "|1643.0   |450   |5.007907  |Brothers in Trouble (1995)        |\n",
            "+---------+------+----------+----------------------------------+\n",
            "\n"
          ],
          "name": "stdout"
        }
      ]
    }
  ]
}