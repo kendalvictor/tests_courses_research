{
  "nbformat": 4,
  "nbformat_minor": 0,
  "metadata": {
    "colab": {
      "name": "Examen_modelo_simple_Victor_villacorta_Plasencia.ipynb",
      "provenance": [],
      "toc_visible": true
    },
    "kernelspec": {
      "name": "python3",
      "display_name": "Python 3"
    }
  },
  "cells": [
    {
      "cell_type": "markdown",
      "metadata": {
        "id": "oZYjeFl20oa5",
        "colab_type": "text"
      },
      "source": [
        "# 0. Instalacion de utilitarios Pyspark"
      ]
    },
    {
      "cell_type": "code",
      "metadata": {
        "id": "y6zaa4yk0uIV",
        "colab_type": "code",
        "colab": {}
      },
      "source": [
        "!apt-get install openjdk-8-jdk-headless -qq > /dev/null\n",
        "!wget -q https://www-us.apache.org/dist/spark/spark-2.3.4/spark-2.3.4-bin-hadoop2.7.tgz\n",
        "!tar xf spark-2.3.4-bin-hadoop2.7.tgz"
      ],
      "execution_count": null,
      "outputs": []
    },
    {
      "cell_type": "code",
      "metadata": {
        "id": "c0SmG6708QQ6",
        "colab_type": "code",
        "colab": {}
      },
      "source": [
        "!apt-get install openjdk-8-jdk-headless -qq > /dev/null\n",
        "!wget -q https://www-us.apache.org/dist/spark/spark-2.4.4/spark-2.4.4-bin-hadoop2.7.tgz\n",
        "!tar xf spark-2.4.4-bin-hadoop2.7.tgz\n"
      ],
      "execution_count": null,
      "outputs": []
    },
    {
      "cell_type": "code",
      "metadata": {
        "id": "tyor71X98igS",
        "colab_type": "code",
        "colab": {}
      },
      "source": [
        "!pip install -q findspark"
      ],
      "execution_count": null,
      "outputs": []
    },
    {
      "cell_type": "code",
      "metadata": {
        "id": "mRsVKjDvsmoC",
        "colab_type": "code",
        "colab": {}
      },
      "source": [
        "import os\n",
        "os.environ[\"JAVA_HOME\"] = \"/usr/lib/jvm/java-8-openjdk-amd64\"\n",
        "os.environ[\"SPARK_HOME\"] = \"/content/spark-2.4.4-bin-hadoop2.7\"\n"
      ],
      "execution_count": null,
      "outputs": []
    },
    {
      "cell_type": "code",
      "metadata": {
        "id": "OsNTQa-qsr7j",
        "colab_type": "code",
        "colab": {
          "base_uri": "https://localhost:8080/",
          "height": 238
        },
        "outputId": "254ed51c-3bcb-405c-d639-e9e115fb2f8c"
      },
      "source": [
        "!pip install pyspark"
      ],
      "execution_count": null,
      "outputs": [
        {
          "output_type": "stream",
          "text": [
            "Collecting pyspark\n",
            "\u001b[?25l  Downloading https://files.pythonhosted.org/packages/87/21/f05c186f4ddb01d15d0ddc36ef4b7e3cedbeb6412274a41f26b55a650ee5/pyspark-2.4.4.tar.gz (215.7MB)\n",
            "\u001b[K     |████████████████████████████████| 215.7MB 64kB/s \n",
            "\u001b[?25hCollecting py4j==0.10.7\n",
            "\u001b[?25l  Downloading https://files.pythonhosted.org/packages/e3/53/c737818eb9a7dc32a7cd4f1396e787bd94200c3997c72c1dbe028587bd76/py4j-0.10.7-py2.py3-none-any.whl (197kB)\n",
            "\u001b[K     |████████████████████████████████| 204kB 37.5MB/s \n",
            "\u001b[?25hBuilding wheels for collected packages: pyspark\n",
            "  Building wheel for pyspark (setup.py) ... \u001b[?25l\u001b[?25hdone\n",
            "  Created wheel for pyspark: filename=pyspark-2.4.4-py2.py3-none-any.whl size=216130387 sha256=d2edae82143657225b7443fd026d28af416c8451608171c4e7c2d905ae6ec0cf\n",
            "  Stored in directory: /root/.cache/pip/wheels/ab/09/4d/0d184230058e654eb1b04467dbc1292f00eaa186544604b471\n",
            "Successfully built pyspark\n",
            "Installing collected packages: py4j, pyspark\n",
            "Successfully installed py4j-0.10.7 pyspark-2.4.4\n"
          ],
          "name": "stdout"
        }
      ]
    },
    {
      "cell_type": "code",
      "metadata": {
        "id": "zCKm2w9rswTv",
        "colab_type": "code",
        "colab": {}
      },
      "source": [
        "from pyspark.sql import SparkSession\n",
        "from pyspark import SparkContext\n",
        "spark = SparkSession.builder.master(\"local\").getOrCreate()\n",
        "sc = SparkContext.getOrCreate()"
      ],
      "execution_count": null,
      "outputs": []
    },
    {
      "cell_type": "markdown",
      "metadata": {
        "id": "NXie2Umg1DZk",
        "colab_type": "text"
      },
      "source": [
        "# 1. Lectura del origen datos"
      ]
    },
    {
      "cell_type": "code",
      "metadata": {
        "id": "W-l6Pu6f1HO9",
        "colab_type": "code",
        "colab": {}
      },
      "source": [
        "# Lectura desde un archivo fisico\n",
        "# from google.colab import files\n",
        "# uploaded = files.upload()"
      ],
      "execution_count": null,
      "outputs": []
    },
    {
      "cell_type": "code",
      "metadata": {
        "id": "zZL0PhM88Eys",
        "colab_type": "code",
        "colab": {
          "base_uri": "https://localhost:8080/",
          "height": 34
        },
        "outputId": "cc11ea58-d9ec-4581-ca65-c2117d95e701"
      },
      "source": [
        "# Conexion al drive\n",
        "#---------------------------\n",
        "from pyspark.ml.feature import StringIndexer \n",
        "from pyspark.ml.feature import VectorAssembler  \n",
        "from google.colab import drive\n",
        "drive.mount('/content/drive')"
      ],
      "execution_count": null,
      "outputs": [
        {
          "output_type": "stream",
          "text": [
            "Drive already mounted at /content/drive; to attempt to forcibly remount, call drive.mount(\"/content/drive\", force_remount=True).\n"
          ],
          "name": "stdout"
        }
      ]
    },
    {
      "cell_type": "code",
      "metadata": {
        "id": "BZQDnxtq2G2L",
        "colab_type": "code",
        "colab": {
          "base_uri": "https://localhost:8080/",
          "height": 51
        },
        "outputId": "f499d290-0cc5-4e6c-8b8a-428c0cded009"
      },
      "source": [
        "ls \"/content/drive/My Drive/PySpark Machine Learning en plataforma Big Data/Training R ML en Casos de Negocios/2_caso negocio 2 riesgo crediticio\""
      ],
      "execution_count": null,
      "outputs": [
        {
          "output_type": "stream",
          "text": [
            "'0. Caso negocio endeudamiento creditio.pptx'   2_DS_creditos.csv\n",
            "'1_Diccionario credito.xls'\n"
          ],
          "name": "stdout"
        }
      ]
    },
    {
      "cell_type": "markdown",
      "metadata": {
        "id": "ltZocWSm2l9G",
        "colab_type": "text"
      },
      "source": [
        "#2.  Cargando los datos en formato Spark"
      ]
    },
    {
      "cell_type": "code",
      "metadata": {
        "id": "xg8zoYu62uhd",
        "colab_type": "code",
        "colab": {
          "base_uri": "https://localhost:8080/",
          "height": 255
        },
        "outputId": "aa0ca7bf-7fd1-49c5-a050-d3e552c647c9"
      },
      "source": [
        "df = spark.read.csv(\n",
        "    '/content/drive/My Drive/PySpark Machine Learning en plataforma Big Data/Training R ML en Casos de Negocios/2_caso negocio 2 riesgo crediticio/2_DS_creditos.csv', \n",
        "    sep=',', header=True, inferSchema=True\n",
        ")\n",
        "\n",
        "# 2.1 Revision de formatos \n",
        "df.printSchema()"
      ],
      "execution_count": null,
      "outputs": [
        {
          "output_type": "stream",
          "text": [
            "root\n",
            " |-- ID: integer (nullable = true)\n",
            " |-- Default: integer (nullable = true)\n",
            " |-- Prct_uso_tc: double (nullable = true)\n",
            " |-- Edad: integer (nullable = true)\n",
            " |-- Nro_prestao_retrasados: integer (nullable = true)\n",
            " |-- Prct_deuda_vs_ingresos: double (nullable = true)\n",
            " |-- Mto_ingreso_mensual: string (nullable = true)\n",
            " |-- Nro_prod_financieros_deuda: integer (nullable = true)\n",
            " |-- Nro_retraso_60dias: integer (nullable = true)\n",
            " |-- Nro_creditos_hipotecarios: integer (nullable = true)\n",
            " |-- Nro_retraso_ultm3anios: integer (nullable = true)\n",
            " |-- Nro_dependiente: string (nullable = true)\n",
            "\n"
          ],
          "name": "stdout"
        }
      ]
    },
    {
      "cell_type": "code",
      "metadata": {
        "id": "iknBkjd3URhs",
        "colab_type": "code",
        "colab": {
          "base_uri": "https://localhost:8080/",
          "height": 748
        },
        "outputId": "2de04c4a-55ca-4e45-f493-2f91f1b60842"
      },
      "source": [
        "help(df.approxQuantile)"
      ],
      "execution_count": null,
      "outputs": [
        {
          "output_type": "stream",
          "text": [
            "Help on method approxQuantile in module pyspark.sql.dataframe:\n",
            "\n",
            "approxQuantile(col, probabilities, relativeError) method of pyspark.sql.dataframe.DataFrame instance\n",
            "    Calculates the approximate quantiles of numerical columns of a\n",
            "    DataFrame.\n",
            "    \n",
            "    The result of this algorithm has the following deterministic bound:\n",
            "    If the DataFrame has N elements and if we request the quantile at\n",
            "    probability `p` up to error `err`, then the algorithm will return\n",
            "    a sample `x` from the DataFrame so that the *exact* rank of `x` is\n",
            "    close to (p * N). More precisely,\n",
            "    \n",
            "      floor((p - err) * N) <= rank(x) <= ceil((p + err) * N).\n",
            "    \n",
            "    This method implements a variation of the Greenwald-Khanna\n",
            "    algorithm (with some speed optimizations). The algorithm was first\n",
            "    present in [[http://dx.doi.org/10.1145/375663.375670\n",
            "    Space-efficient Online Computation of Quantile Summaries]]\n",
            "    by Greenwald and Khanna.\n",
            "    \n",
            "    Note that null values will be ignored in numerical columns before calculation.\n",
            "    For columns only containing null values, an empty list is returned.\n",
            "    \n",
            "    :param col: str, list.\n",
            "      Can be a single column name, or a list of names for multiple columns.\n",
            "    :param probabilities: a list of quantile probabilities\n",
            "      Each number must belong to [0, 1].\n",
            "      For example 0 is the minimum, 0.5 is the median, 1 is the maximum.\n",
            "    :param relativeError:  The relative target precision to achieve\n",
            "      (>= 0). If set to zero, the exact quantiles are computed, which\n",
            "      could be very expensive. Note that values greater than 1 are\n",
            "      accepted but give the same result as 1.\n",
            "    :return:  the approximate quantiles at the given probabilities. If\n",
            "      the input `col` is a string, the output is a list of floats. If the\n",
            "      input `col` is a list or tuple of strings, the output is also a\n",
            "      list, but each element in it is a list of floats, i.e., the output\n",
            "      is a list of list of floats.\n",
            "    \n",
            "    .. versionchanged:: 2.2\n",
            "       Added support for multiple columns.\n",
            "    \n",
            "    .. versionadded:: 2.0\n",
            "\n"
          ],
          "name": "stdout"
        }
      ]
    },
    {
      "cell_type": "code",
      "metadata": {
        "id": "XLjWXYMMIkZR",
        "colab_type": "code",
        "colab": {
          "base_uri": "https://localhost:8080/",
          "height": 255
        },
        "outputId": "d5f51bfd-7440-44e2-c6bc-001ab190281d"
      },
      "source": [
        "from pyspark.sql.functions import udf\n",
        "@udf(\"int\")\n",
        "def replace_na(val):\n",
        "  return -1 if str(val).lower() == 'na' or not str(val).isdigit() else int(val)\n",
        "\n",
        "# display(df.select(\"id\", squared_udf(\"id\").alias(\"id_squared\")))\n",
        "\n",
        "df = df.withColumn(\n",
        "    'Nro_dependiente', replace_na(df['Nro_dependiente']).cast('int')\n",
        ").withColumn(\n",
        "    'Mto_ingreso_mensual', replace_na(df['Mto_ingreso_mensual']).cast('int')\n",
        ")\n",
        "\n",
        "df.printSchema()"
      ],
      "execution_count": null,
      "outputs": [
        {
          "output_type": "stream",
          "text": [
            "root\n",
            " |-- ID: integer (nullable = true)\n",
            " |-- Default: integer (nullable = true)\n",
            " |-- Prct_uso_tc: double (nullable = true)\n",
            " |-- Edad: integer (nullable = true)\n",
            " |-- Nro_prestao_retrasados: integer (nullable = true)\n",
            " |-- Prct_deuda_vs_ingresos: double (nullable = true)\n",
            " |-- Mto_ingreso_mensual: integer (nullable = true)\n",
            " |-- Nro_prod_financieros_deuda: integer (nullable = true)\n",
            " |-- Nro_retraso_60dias: integer (nullable = true)\n",
            " |-- Nro_creditos_hipotecarios: integer (nullable = true)\n",
            " |-- Nro_retraso_ultm3anios: integer (nullable = true)\n",
            " |-- Nro_dependiente: integer (nullable = true)\n",
            "\n"
          ],
          "name": "stdout"
        }
      ]
    },
    {
      "cell_type": "code",
      "metadata": {
        "id": "em1CQ5LiVOYa",
        "colab_type": "code",
        "colab": {
          "base_uri": "https://localhost:8080/",
          "height": 315
        },
        "outputId": "c683334a-d493-45e9-b9eb-929e86827e83"
      },
      "source": [
        "df.filter(\n",
        "    (df['Nro_dependiente'] >= 0) & (df['Nro_dependiente'] < 7)\n",
        ").select('Nro_dependiente').toPandas().hist()"
      ],
      "execution_count": null,
      "outputs": [
        {
          "output_type": "execute_result",
          "data": {
            "text/plain": [
              "array([[<matplotlib.axes._subplots.AxesSubplot object at 0x7fd83556c5c0>]],\n",
              "      dtype=object)"
            ]
          },
          "metadata": {
            "tags": []
          },
          "execution_count": 205
        },
        {
          "output_type": "display_data",
          "data": {
            "image/png": "[encoded data removed]",
            "text/plain": [
              "<Figure size 432x288 with 1 Axes>"
            ]
          },
          "metadata": {
            "tags": []
          }
        }
      ]
    },
    {
      "cell_type": "code",
      "metadata": {
        "id": "v-awCY50Vsxs",
        "colab_type": "code",
        "colab": {}
      },
      "source": [
        ""
      ],
      "execution_count": null,
      "outputs": []
    },
    {
      "cell_type": "code",
      "metadata": {
        "id": "KkDp_NW9VoTi",
        "colab_type": "code",
        "colab": {
          "base_uri": "https://localhost:8080/",
          "height": 315
        },
        "outputId": "6f45d3de-b5c4-4cd3-e417-c504636fa475"
      },
      "source": [
        "df.filter(\n",
        "    (df['Mto_ingreso_mensual'] >= 0) & (df['Mto_ingreso_mensual'] < 10000) \n",
        ").select('Mto_ingreso_mensual').toPandas().hist()"
      ],
      "execution_count": null,
      "outputs": [
        {
          "output_type": "execute_result",
          "data": {
            "text/plain": [
              "array([[<matplotlib.axes._subplots.AxesSubplot object at 0x7fd834f05470>]],\n",
              "      dtype=object)"
            ]
          },
          "metadata": {
            "tags": []
          },
          "execution_count": 206
        },
        {
          "output_type": "display_data",
          "data": {
            "image/png": "[encoded data removed]",
            "text/plain": [
              "<Figure size 432x288 with 1 Axes>"
            ]
          },
          "metadata": {
            "tags": []
          }
        }
      ]
    },
    {
      "cell_type": "code",
      "metadata": {
        "id": "9oBOUSx4Utnr",
        "colab_type": "code",
        "colab": {
          "base_uri": "https://localhost:8080/",
          "height": 34
        },
        "outputId": "4568969c-9857-42db-b5bc-bbef57269d4e"
      },
      "source": [
        "median_dependienets = df.filter(\n",
        "    df['Nro_dependiente'] >= 0\n",
        ").select('Nro_dependiente').approxQuantile(\"Nro_dependiente\", [0.5], 0.05)[0]\n",
        "\n",
        "median_dependienets"
      ],
      "execution_count": null,
      "outputs": [
        {
          "output_type": "execute_result",
          "data": {
            "text/plain": [
              "0.0"
            ]
          },
          "metadata": {
            "tags": []
          },
          "execution_count": 207
        }
      ]
    },
    {
      "cell_type": "code",
      "metadata": {
        "id": "99xuPBPoWMZz",
        "colab_type": "code",
        "colab": {
          "base_uri": "https://localhost:8080/",
          "height": 34
        },
        "outputId": "346c5ef4-c062-4ac8-bdf7-dafdab78bc98"
      },
      "source": [
        "median_ingreso_mensual = df.filter(\n",
        "    df['Mto_ingreso_mensual'] >= 0\n",
        ").select('Mto_ingreso_mensual').approxQuantile(\"Mto_ingreso_mensual\", [0.5], 0.05)[0]\n",
        "\n",
        "median_ingreso_mensual"
      ],
      "execution_count": null,
      "outputs": [
        {
          "output_type": "execute_result",
          "data": {
            "text/plain": [
              "5333.0"
            ]
          },
          "metadata": {
            "tags": []
          },
          "execution_count": 208
        }
      ]
    },
    {
      "cell_type": "code",
      "metadata": {
        "id": "gMOeDgzDWaQx",
        "colab_type": "code",
        "colab": {
          "base_uri": "https://localhost:8080/",
          "height": 255
        },
        "outputId": "8975ecdd-e097-417d-c53b-3b5f5c36ec78"
      },
      "source": [
        "@udf(\"int\")\n",
        "def replace_negativos_dependienets(val):\n",
        "  return int(median_dependienets) if val < 0 else val\n",
        "\n",
        "@udf(\"int\")\n",
        "def replace_negativos_ingreso(val):\n",
        "  return int(median_ingreso_mensual) if val < 0 else val\n",
        "\n",
        "# display(df.select(\"id\", squared_udf(\"id\").alias(\"id_squared\")))\n",
        "\n",
        "df = df.withColumn(\n",
        "    'Nro_dependiente', replace_negativos_dependienets(\n",
        "        df['Nro_dependiente'].cast('int')\n",
        "    )\n",
        ").withColumn(\n",
        "    'Mto_ingreso_mensual', replace_negativos_ingreso(\n",
        "        df['Mto_ingreso_mensual'].cast('int')\n",
        "    )\n",
        ")\n",
        "\n",
        "df.printSchema()"
      ],
      "execution_count": null,
      "outputs": [
        {
          "output_type": "stream",
          "text": [
            "root\n",
            " |-- ID: integer (nullable = true)\n",
            " |-- Default: integer (nullable = true)\n",
            " |-- Prct_uso_tc: double (nullable = true)\n",
            " |-- Edad: integer (nullable = true)\n",
            " |-- Nro_prestao_retrasados: integer (nullable = true)\n",
            " |-- Prct_deuda_vs_ingresos: double (nullable = true)\n",
            " |-- Mto_ingreso_mensual: integer (nullable = true)\n",
            " |-- Nro_prod_financieros_deuda: integer (nullable = true)\n",
            " |-- Nro_retraso_60dias: integer (nullable = true)\n",
            " |-- Nro_creditos_hipotecarios: integer (nullable = true)\n",
            " |-- Nro_retraso_ultm3anios: integer (nullable = true)\n",
            " |-- Nro_dependiente: integer (nullable = true)\n",
            "\n"
          ],
          "name": "stdout"
        }
      ]
    },
    {
      "cell_type": "code",
      "metadata": {
        "id": "RBEt1wHV2Zy4",
        "colab_type": "code",
        "colab": {
          "base_uri": "https://localhost:8080/",
          "height": 224
        },
        "outputId": "2f76ff1b-46ed-4369-bfe5-7cf60f034ea8"
      },
      "source": [
        "# 2.2 Revvisiones  \n",
        "df.show(5)"
      ],
      "execution_count": null,
      "outputs": [
        {
          "output_type": "stream",
          "text": [
            "+---+-------+-----------+----+----------------------+----------------------+-------------------+--------------------------+------------------+-------------------------+----------------------+---------------+\n",
            "| ID|Default|Prct_uso_tc|Edad|Nro_prestao_retrasados|Prct_deuda_vs_ingresos|Mto_ingreso_mensual|Nro_prod_financieros_deuda|Nro_retraso_60dias|Nro_creditos_hipotecarios|Nro_retraso_ultm3anios|Nro_dependiente|\n",
            "+---+-------+-----------+----+----------------------+----------------------+-------------------+--------------------------+------------------+-------------------------+----------------------+---------------+\n",
            "|  1|      1|0.766126609|  45|                     2|           0.802982129|               9120|                        13|                 0|                        6|                     0|              2|\n",
            "|  2|      0|0.957151019|  40|                     0|           0.121876201|               2600|                         4|                 0|                        0|                     0|              1|\n",
            "|  3|      0| 0.65818014|  38|                     1|           0.085113375|               3042|                         2|                 1|                        0|                     0|              0|\n",
            "|  4|      0|0.233809776|  30|                     0|           0.036049682|               3300|                         5|                 0|                        0|                     0|              0|\n",
            "|  5|      0|  0.9072394|  49|                     1|           0.024925695|              63588|                         7|                 0|                        1|                     0|              0|\n",
            "+---+-------+-----------+----+----------------------+----------------------+-------------------+--------------------------+------------------+-------------------------+----------------------+---------------+\n",
            "only showing top 5 rows\n",
            "\n"
          ],
          "name": "stdout"
        }
      ]
    },
    {
      "cell_type": "code",
      "metadata": {
        "id": "CpYnf-WM3iun",
        "colab_type": "code",
        "colab": {
          "base_uri": "https://localhost:8080/",
          "height": 34
        },
        "outputId": "00e17413-7474-4a90-c893-b95006d79ebd"
      },
      "source": [
        "# 2.3 Validacion de carga del total de registros\n",
        "print(df.count())"
      ],
      "execution_count": null,
      "outputs": [
        {
          "output_type": "stream",
          "text": [
            "150000\n"
          ],
          "name": "stdout"
        }
      ]
    },
    {
      "cell_type": "code",
      "metadata": {
        "id": "7J1Stx2j9KdX",
        "colab_type": "code",
        "colab": {
          "base_uri": "https://localhost:8080/",
          "height": 207
        },
        "outputId": "659e133a-a86b-409b-db91-0af8b07264e2"
      },
      "source": [
        "# 2.4 Exploracion inicial\n",
        "df.describe().show()"
      ],
      "execution_count": null,
      "outputs": [
        {
          "output_type": "stream",
          "text": [
            "+-------+------------------+-------------------+------------------+------------------+----------------------+----------------------+-------------------+--------------------------+-------------------+-------------------------+----------------------+------------------+\n",
            "|summary|                ID|            Default|       Prct_uso_tc|              Edad|Nro_prestao_retrasados|Prct_deuda_vs_ingresos|Mto_ingreso_mensual|Nro_prod_financieros_deuda| Nro_retraso_60dias|Nro_creditos_hipotecarios|Nro_retraso_ultm3anios|   Nro_dependiente|\n",
            "+-------+------------------+-------------------+------------------+------------------+----------------------+----------------------+-------------------+--------------------------+-------------------+-------------------------+----------------------+------------------+\n",
            "|  count|            150000|             150000|            150000|            150000|                150000|                150000|             150000|                    150000|             150000|                   150000|                150000|            150000|\n",
            "|   mean|           75000.5|            0.06684|  6.04843805466686|52.295206666666665|    0.4210333333333333|     353.0050757638672|  6405.175073333334|                   8.45276|0.26597333333333334|                  1.01824|   0.24038666666666667|0.7374133333333334|\n",
            "| stddev|43301.414526548666|0.24974553092872043|249.75537062543987|14.771865863100352|     4.192781272018327|    2037.8185231443636|  12891.47240093379|         5.145950989643292|  4.169303787594438|       1.1297709848828545|     4.155179420987195|1.1070214146370256|\n",
            "|    min|                 1|                  0|               0.0|                 0|                     0|                   0.0|                  0|                         0|                  0|                        0|                     0|                 0|\n",
            "|    max|            150000|                  1|           50708.0|               109|                    98|              329664.0|            3008750|                        58|                 98|                       54|                    98|                20|\n",
            "+-------+------------------+-------------------+------------------+------------------+----------------------+----------------------+-------------------+--------------------------+-------------------+-------------------------+----------------------+------------------+\n",
            "\n"
          ],
          "name": "stdout"
        }
      ]
    },
    {
      "cell_type": "markdown",
      "metadata": {
        "id": "nhC6tpUw39tn",
        "colab_type": "text"
      },
      "source": [
        "# 3. Limpieza e imputacion de variables con valores vacios\n"
      ]
    },
    {
      "cell_type": "code",
      "metadata": {
        "id": "h05_VfzA4C1k",
        "colab_type": "code",
        "colab": {}
      },
      "source": [
        "# Proceso para identificar valores nulos en cada variables\n",
        "# from pyspark.sql.functions import col,sum\n",
        "\n",
        "#DS_Renovacion_prest.select(*(sum(col(c).isNull().cast(\"int\")).alias(c) for c in DS_Renovacion_prest.columns)).show()\n",
        "\n",
        "#DS_Renovacion_prest.select(*(sum(col(c).isNull().cast(\"int\")/87556).alias(c) for c in DS_Renovacion_prest.columns)).show()"
      ],
      "execution_count": null,
      "outputs": []
    },
    {
      "cell_type": "code",
      "metadata": {
        "id": "erZECSLbjTdE",
        "colab_type": "code",
        "colab": {
          "base_uri": "https://localhost:8080/",
          "height": 255
        },
        "outputId": "94efe1c9-9bc9-4683-cf47-ca6f44e8031f"
      },
      "source": [
        "# Se identifico que hay 4 columnas con más de 5% de valores nulos\n",
        "# USO_LINEA_TOTAL_TC_T2       67% nulos imputamos valores\n",
        "# USO_TRIM_LINEA_BBVA         67% nulos imputamos valores\n",
        "# SDO_CONSUMO_T2              18% nulos imputamos valores\n",
        "# RESENCIA_OFERTA_PLD_RENOVADO 49% nulos imputamos valores\n",
        "\n",
        "DS_Renovacion_prest.printSchema()\n",
        "\n"
      ],
      "execution_count": null,
      "outputs": [
        {
          "output_type": "stream",
          "text": [
            "root\n",
            " |-- ID: integer (nullable = true)\n",
            " |-- Default: integer (nullable = true)\n",
            " |-- Prct_uso_tc: double (nullable = true)\n",
            " |-- Edad: integer (nullable = true)\n",
            " |-- Nro_prestao_retrasados: integer (nullable = true)\n",
            " |-- Prct_deuda_vs_ingresos: double (nullable = true)\n",
            " |-- Mto_ingreso_mensual: string (nullable = true)\n",
            " |-- Nro_prod_financieros_deuda: integer (nullable = true)\n",
            " |-- Nro_retraso_60dias: integer (nullable = true)\n",
            " |-- Nro_creditos_hipotecarios: integer (nullable = true)\n",
            " |-- Nro_retraso_ultm3anios: integer (nullable = true)\n",
            " |-- Nro_dependiente: string (nullable = true)\n",
            "\n"
          ],
          "name": "stdout"
        }
      ]
    },
    {
      "cell_type": "code",
      "metadata": {
        "id": "kf4kCOmtkZnk",
        "colab_type": "code",
        "colab": {
          "base_uri": "https://localhost:8080/",
          "height": 54
        },
        "outputId": "df1b56a5-18bd-40f6-ab25-06e0051f868e"
      },
      "source": [
        "# Habilitamos las funciones de Pyspark, es importante!\n",
        "\"\"\"\n",
        "from pyspark.sql.functions import *\n",
        "\n",
        "DS_Renovacion_prest=DS_Renovacion_prest.withColumn(\n",
        "    'USO_LINEA_TOTAL_TC_T2',\n",
        "    when(DS_Renovacion_prest.USO_LINEA_TOTAL_TC_T2.isNull(), 0).otherwise(DS_Renovacion_prest.USO_LINEA_TOTAL_TC_T2)\n",
        ")\n",
        "DS_Renovacion_prest=DS_Renovacion_prest.withColumn(\n",
        "    'USO_TRIM_LINEA_BBVA',\n",
        "    when(DS_Renovacion_prest.USO_TRIM_LINEA_BBVA.isNull(), 0).otherwise(DS_Renovacion_prest.USO_TRIM_LINEA_BBVA)\n",
        ")\n",
        "DS_Renovacion_prest=DS_Renovacion_prest.withColumn(\n",
        "    'SDO_CONSUMO_T2',\n",
        "    when(DS_Renovacion_prest.SDO_CONSUMO_T2.isNull(), 0).otherwise(DS_Renovacion_prest.SDO_CONSUMO_T2)\n",
        ")\n",
        "DS_Renovacion_prest=DS_Renovacion_prest.withColumn(\n",
        "    'RESENCIA_OFERTA_PLD_RENOVADO',\n",
        "    when(DS_Renovacion_prest.RESENCIA_OFERTA_PLD_RENOVADO.isNull(), 0).otherwise(DS_Renovacion_prest.RESENCIA_OFERTA_PLD_RENOVADO)\n",
        ")\n",
        "\n",
        "#verificamos el reemplazamiento\n",
        "DS_Renovacion_prest.describe().show()\n",
        "\"\"\""
      ],
      "execution_count": null,
      "outputs": [
        {
          "output_type": "execute_result",
          "data": {
            "text/plain": [
              "\"\\nfrom pyspark.sql.functions import *\\n\\nDS_Renovacion_prest=DS_Renovacion_prest.withColumn(\\n    'USO_LINEA_TOTAL_TC_T2',\\n    when(DS_Renovacion_prest.USO_LINEA_TOTAL_TC_T2.isNull(), 0).otherwise(DS_Renovacion_prest.USO_LINEA_TOTAL_TC_T2)\\n)\\nDS_Renovacion_prest=DS_Renovacion_prest.withColumn(\\n    'USO_TRIM_LINEA_BBVA',\\n    when(DS_Renovacion_prest.USO_TRIM_LINEA_BBVA.isNull(), 0).otherwise(DS_Renovacion_prest.USO_TRIM_LINEA_BBVA)\\n)\\nDS_Renovacion_prest=DS_Renovacion_prest.withColumn(\\n    'SDO_CONSUMO_T2',\\n    when(DS_Renovacion_prest.SDO_CONSUMO_T2.isNull(), 0).otherwise(DS_Renovacion_prest.SDO_CONSUMO_T2)\\n)\\nDS_Renovacion_prest=DS_Renovacion_prest.withColumn(\\n    'RESENCIA_OFERTA_PLD_RENOVADO',\\n    when(DS_Renovacion_prest.RESENCIA_OFERTA_PLD_RENOVADO.isNull(), 0).otherwise(DS_Renovacion_prest.RESENCIA_OFERTA_PLD_RENOVADO)\\n)\\n\\n#verificamos el reemplazamiento\\nDS_Renovacion_prest.describe().show()\\n\""
            ]
          },
          "metadata": {
            "tags": []
          },
          "execution_count": 215
        }
      ]
    },
    {
      "cell_type": "code",
      "metadata": {
        "id": "chhdHMd7uDtv",
        "colab_type": "code",
        "colab": {
          "base_uri": "https://localhost:8080/",
          "height": 34
        },
        "outputId": "d239033c-8ab6-4e36-d339-39b58ae7cc18"
      },
      "source": [
        "# Limpiando de todos los valores nulos el data set\n",
        "\n",
        "df = df.na.drop()\n",
        "df.count()"
      ],
      "execution_count": null,
      "outputs": [
        {
          "output_type": "execute_result",
          "data": {
            "text/plain": [
              "150000"
            ]
          },
          "metadata": {
            "tags": []
          },
          "execution_count": 216
        }
      ]
    },
    {
      "cell_type": "markdown",
      "metadata": {
        "id": "xgUobOLemd25",
        "colab_type": "text"
      },
      "source": [
        "# 4. Exploracion de datos"
      ]
    },
    {
      "cell_type": "code",
      "metadata": {
        "id": "bBgycnsdm9_3",
        "colab_type": "code",
        "colab": {
          "base_uri": "https://localhost:8080/",
          "height": 153
        },
        "outputId": "c96611ca-aa08-47d0-8608-bca4af892b6d"
      },
      "source": [
        "#4.2 Variable objetivo\n",
        "\n",
        "print(DS_Renovacion_prest.count())\n",
        "df.groupBy('Default').count().show()\n",
        "\n"
      ],
      "execution_count": null,
      "outputs": [
        {
          "output_type": "stream",
          "text": [
            "150000\n",
            "+-------+------+\n",
            "|Default| count|\n",
            "+-------+------+\n",
            "|      1| 10026|\n",
            "|      0|139974|\n",
            "+-------+------+\n",
            "\n"
          ],
          "name": "stdout"
        }
      ]
    },
    {
      "cell_type": "markdown",
      "metadata": {
        "id": "hSEgqY-EpCYi",
        "colab_type": "text"
      },
      "source": [
        "# 5. Relevancia y transformacion de variables "
      ]
    },
    {
      "cell_type": "code",
      "metadata": {
        "id": "kP7KuqQbz7UD",
        "colab_type": "code",
        "colab": {
          "base_uri": "https://localhost:8080/",
          "height": 54
        },
        "outputId": "2fbf8fc3-336e-49dc-d95d-57f3411f2f80"
      },
      "source": [
        "# Consolidacion de variables\n",
        "\"\"\"\n",
        "cols_select = ['LINEA_RENOVADO','SUELDO_ESTIMADO','REGION_Vector', 'USO_TRIM_LINEA_BBVA', \n",
        "               'FLAG_LIMA_PROVINCIA','SUELDO_ESTIMADO', 'CUBRIR_DEUDA_CONSUMO_SF_RENOVA_PLD',\n",
        "               'REGION_Numerico', 'USO_LINEA_TOTAL_TC_T2', 'SDO_CONSUMO_T2', 'NR_ENTIDADES_TOTAL_T2',\n",
        "               'DIFF_NRO_ENTIDA_TOTALES_T2_T12', 'RESENCIA_OFERTA_PLD_RENOVADO', 'Ahorro_Sldo_Bco_T1', 'PConsumo_Sldo_Bco_T1',\n",
        "               'SDO_BCO_tot_sm_pasivo_Bco_6M'\n",
        "              ]\n",
        "\n",
        "import numpy as np\n",
        "import pyspark.sql.functions as f\n",
        "\n",
        "\n",
        "DS_Renovacion_prest = DS_Renovacion_prest.\\\n",
        "    withColumn('SUELDO_ESTIMADO_log', log('SUELDO_ESTIMADO')).\\\n",
        "    withColumn('ANTIGUEDAD_MES_log', log('ANTIGUEDAD_MES')).\\\n",
        "    withColumn('LINEA_RENOVADOS_log', log('LINEA_RENOVADO'))\n",
        "\n",
        "\n",
        "DS_Renovacion_prest = DS_Renovacion_prest.withColumn(\n",
        "    'SUELDO_ESTIMADO_log',\n",
        "    when(DS_Renovacion_prest.SUELDO_ESTIMADO_log.isNull(), 0).otherwise(DS_Renovacion_prest.SUELDO_ESTIMADO_log)\n",
        ").withColumn(\n",
        "    'ANTIGUEDAD_MES_log',\n",
        "    when(DS_Renovacion_prest.ANTIGUEDAD_MES_log.isNull(), 0).otherwise(DS_Renovacion_prest.ANTIGUEDAD_MES_log)\n",
        ").withColumn(\n",
        "    'LINEA_RENOVADOS_log',\n",
        "    when(DS_Renovacion_prest.LINEA_RENOVADOS_log.isNull(), 0).otherwise(DS_Renovacion_prest.LINEA_RENOVADOS_log)\n",
        ")\n",
        "\n",
        "df_assembler = VectorAssembler(inputCols=cols_select + ['SUELDO_ESTIMADO_log', 'ANTIGUEDAD_MES_log', 'LINEA_RENOVADOS_log'], outputCol=\"features\")\n",
        "\n",
        "DS_Renovacion_prest = df_assembler.transform(DS_Renovacion_prest)\n",
        "\"\"\""
      ],
      "execution_count": null,
      "outputs": [
        {
          "output_type": "execute_result",
          "data": {
            "text/plain": [
              "'\\ncols_select = [\\'LINEA_RENOVADO\\',\\'SUELDO_ESTIMADO\\',\\'REGION_Vector\\', \\'USO_TRIM_LINEA_BBVA\\', \\n               \\'FLAG_LIMA_PROVINCIA\\',\\'SUELDO_ESTIMADO\\', \\'CUBRIR_DEUDA_CONSUMO_SF_RENOVA_PLD\\',\\n               \\'REGION_Numerico\\', \\'USO_LINEA_TOTAL_TC_T2\\', \\'SDO_CONSUMO_T2\\', \\'NR_ENTIDADES_TOTAL_T2\\',\\n               \\'DIFF_NRO_ENTIDA_TOTALES_T2_T12\\', \\'RESENCIA_OFERTA_PLD_RENOVADO\\', \\'Ahorro_Sldo_Bco_T1\\', \\'PConsumo_Sldo_Bco_T1\\',\\n               \\'SDO_BCO_tot_sm_pasivo_Bco_6M\\'\\n              ]\\n\\nimport numpy as np\\nimport pyspark.sql.functions as f\\n\\n\\nDS_Renovacion_prest = DS_Renovacion_prest.    withColumn(\\'SUELDO_ESTIMADO_log\\', log(\\'SUELDO_ESTIMADO\\')).    withColumn(\\'ANTIGUEDAD_MES_log\\', log(\\'ANTIGUEDAD_MES\\')).    withColumn(\\'LINEA_RENOVADOS_log\\', log(\\'LINEA_RENOVADO\\'))\\n\\n\\nDS_Renovacion_prest = DS_Renovacion_prest.withColumn(\\n    \\'SUELDO_ESTIMADO_log\\',\\n    when(DS_Renovacion_prest.SUELDO_ESTIMADO_log.isNull(), 0).otherwise(DS_Renovacion_prest.SUELDO_ESTIMADO_log)\\n).withColumn(\\n    \\'ANTIGUEDAD_MES_log\\',\\n    when(DS_Renovacion_prest.ANTIGUEDAD_MES_log.isNull(), 0).otherwise(DS_Renovacion_prest.ANTIGUEDAD_MES_log)\\n).withColumn(\\n    \\'LINEA_RENOVADOS_log\\',\\n    when(DS_Renovacion_prest.LINEA_RENOVADOS_log.isNull(), 0).otherwise(DS_Renovacion_prest.LINEA_RENOVADOS_log)\\n)\\n\\ndf_assembler = VectorAssembler(inputCols=cols_select + [\\'SUELDO_ESTIMADO_log\\', \\'ANTIGUEDAD_MES_log\\', \\'LINEA_RENOVADOS_log\\'], outputCol=\"features\")\\n\\nDS_Renovacion_prest = df_assembler.transform(DS_Renovacion_prest)\\n'"
            ]
          },
          "metadata": {
            "tags": []
          },
          "execution_count": 218
        }
      ]
    },
    {
      "cell_type": "code",
      "metadata": {
        "id": "YS-d-r1GNi7z",
        "colab_type": "code",
        "colab": {
          "base_uri": "https://localhost:8080/",
          "height": 221
        },
        "outputId": "92c2fdbf-f349-47c8-8def-6b0ffa08db1e"
      },
      "source": [
        "df.columns"
      ],
      "execution_count": null,
      "outputs": [
        {
          "output_type": "execute_result",
          "data": {
            "text/plain": [
              "['ID',\n",
              " 'Default',\n",
              " 'Prct_uso_tc',\n",
              " 'Edad',\n",
              " 'Nro_prestao_retrasados',\n",
              " 'Prct_deuda_vs_ingresos',\n",
              " 'Mto_ingreso_mensual',\n",
              " 'Nro_prod_financieros_deuda',\n",
              " 'Nro_retraso_60dias',\n",
              " 'Nro_creditos_hipotecarios',\n",
              " 'Nro_retraso_ultm3anios',\n",
              " 'Nro_dependiente']"
            ]
          },
          "metadata": {
            "tags": []
          },
          "execution_count": 219
        }
      ]
    },
    {
      "cell_type": "code",
      "metadata": {
        "id": "9Yo1NXIONtyR",
        "colab_type": "code",
        "colab": {}
      },
      "source": [
        "cols_slect =  ['Prct_uso_tc',\n",
        " 'Edad',\n",
        " 'Nro_prestao_retrasados',\n",
        " 'Prct_deuda_vs_ingresos',\n",
        " 'Mto_ingreso_mensual',\n",
        " 'Nro_prod_financieros_deuda',\n",
        " 'Nro_retraso_60dias',\n",
        " 'Nro_creditos_hipotecarios',\n",
        " 'Nro_retraso_ultm3anios',\n",
        " 'Nro_dependiente']"
      ],
      "execution_count": null,
      "outputs": []
    },
    {
      "cell_type": "code",
      "metadata": {
        "id": "3LborSo0JXu-",
        "colab_type": "code",
        "colab": {
          "base_uri": "https://localhost:8080/",
          "height": 459
        },
        "outputId": "29bc344e-d2fe-432e-9e54-fcae951f95fd"
      },
      "source": [
        "df_assembler = VectorAssembler(inputCols=cols_slect, outputCol=\"features\")\n",
        "df_model = df_assembler.transform(df).select('Default', 'features')\n",
        "df_model.show()"
      ],
      "execution_count": null,
      "outputs": [
        {
          "output_type": "stream",
          "text": [
            "+-------+--------------------+\n",
            "|Default|            features|\n",
            "+-------+--------------------+\n",
            "|      1|[0.766126609,45.0...|\n",
            "|      0|[0.957151019,40.0...|\n",
            "|      0|[0.65818014,38.0,...|\n",
            "|      0|(10,[0,1,3,4,5],[...|\n",
            "|      0|[0.9072394,49.0,1...|\n",
            "|      0|[0.213178682,74.0...|\n",
            "|      0|[0.305682465,57.0...|\n",
            "|      0|(10,[0,1,3,4,5],[...|\n",
            "|      0|(10,[0,1,3,4,5],[...|\n",
            "|      0|[0.189169052,57.0...|\n",
            "|      0|(10,[0,1,3,4,5],[...|\n",
            "|      0|[0.01879812,51.0,...|\n",
            "|      0|[0.010351857,46.0...|\n",
            "|      1|[0.964672555,40.0...|\n",
            "|      0|(10,[0,1,3,5,7],[...|\n",
            "|      0|[0.548458062,64.0...|\n",
            "|      0|[0.061086118,78.0...|\n",
            "|      0|(10,[0,1,3,4,5],[...|\n",
            "|      0|[0.221812771,43.0...|\n",
            "|      0|(10,[0,1,3,4,5],[...|\n",
            "+-------+--------------------+\n",
            "only showing top 20 rows\n",
            "\n"
          ],
          "name": "stdout"
        }
      ]
    },
    {
      "cell_type": "markdown",
      "metadata": {
        "id": "KG2wbeNe4hDU",
        "colab_type": "text"
      },
      "source": [
        "# 6. Entrenamiento del Algoritmo (Regresion Logistica)"
      ]
    },
    {
      "cell_type": "code",
      "metadata": {
        "id": "06wR5qaF4pLL",
        "colab_type": "code",
        "colab": {}
      },
      "source": [
        "# Definicion de muestra de entrenamiento y Validacion\n",
        "\n",
        "training_df, test_df = df_model.randomSplit([0.8,0.2], seed=1234)\n"
      ],
      "execution_count": null,
      "outputs": []
    },
    {
      "cell_type": "code",
      "metadata": {
        "id": "OPdHxGuyQty3",
        "colab_type": "code",
        "colab": {
          "base_uri": "https://localhost:8080/",
          "height": 34
        },
        "outputId": "521a100b-989a-40ae-8df2-b32ff4231063"
      },
      "source": [
        "type(training_df), type(test_df)"
      ],
      "execution_count": null,
      "outputs": [
        {
          "output_type": "execute_result",
          "data": {
            "text/plain": [
              "(pyspark.sql.dataframe.DataFrame, pyspark.sql.dataframe.DataFrame)"
            ]
          },
          "metadata": {
            "tags": []
          },
          "execution_count": 224
        }
      ]
    },
    {
      "cell_type": "code",
      "metadata": {
        "id": "C6EVemw4RUuq",
        "colab_type": "code",
        "colab": {
          "base_uri": "https://localhost:8080/",
          "height": 34
        },
        "outputId": "f0dbc5cb-8b55-4828-94be-22aaa3dda2f6"
      },
      "source": [
        "training_df.columns"
      ],
      "execution_count": null,
      "outputs": [
        {
          "output_type": "execute_result",
          "data": {
            "text/plain": [
              "['Default', 'features']"
            ]
          },
          "metadata": {
            "tags": []
          },
          "execution_count": 225
        }
      ]
    },
    {
      "cell_type": "code",
      "metadata": {
        "id": "6OYoO6VuMZgM",
        "colab_type": "code",
        "colab": {
          "base_uri": "https://localhost:8080/",
          "height": 34
        },
        "outputId": "80d2d38a-fa73-45d7-a5b6-1ba621d725c1"
      },
      "source": [
        "test_df.columns"
      ],
      "execution_count": null,
      "outputs": [
        {
          "output_type": "execute_result",
          "data": {
            "text/plain": [
              "['Default', 'features']"
            ]
          },
          "metadata": {
            "tags": []
          },
          "execution_count": 226
        }
      ]
    },
    {
      "cell_type": "code",
      "metadata": {
        "id": "32rBQ7uBSH70",
        "colab_type": "code",
        "colab": {
          "base_uri": "https://localhost:8080/",
          "height": 34
        },
        "outputId": "ab7214dc-a9b2-49a0-c68a-4832c92b6154"
      },
      "source": [
        "training_df.count(), test_df.count()"
      ],
      "execution_count": null,
      "outputs": [
        {
          "output_type": "execute_result",
          "data": {
            "text/plain": [
              "(120066, 29934)"
            ]
          },
          "metadata": {
            "tags": []
          },
          "execution_count": 227
        }
      ]
    },
    {
      "cell_type": "code",
      "metadata": {
        "id": "taX8DiH85XBQ",
        "colab_type": "code",
        "colab": {}
      },
      "source": [
        "# Modelamiento de Regresion Logistica\n",
        "\n",
        "from pyspark.ml.classification import LogisticRegression\n",
        "\n",
        "log_reg = LogisticRegression(labelCol='Default').fit(training_df)"
      ],
      "execution_count": null,
      "outputs": []
    },
    {
      "cell_type": "code",
      "metadata": {
        "id": "XBoqyCAU51sv",
        "colab_type": "code",
        "colab": {
          "base_uri": "https://localhost:8080/",
          "height": 34
        },
        "outputId": "52593dfa-224a-4787-fff4-71ab6b47bc79"
      },
      "source": [
        "# Revision\n",
        "log_reg.coefficients"
      ],
      "execution_count": null,
      "outputs": [
        {
          "output_type": "execute_result",
          "data": {
            "text/plain": [
              "DenseVector([-0.0, -0.0289, 0.4922, -0.0, -0.0, -0.0072, 0.4728, 0.0711, -0.9334, 0.0892])"
            ]
          },
          "metadata": {
            "tags": []
          },
          "execution_count": 229
        }
      ]
    },
    {
      "cell_type": "code",
      "metadata": {
        "id": "oyv-yms65v5v",
        "colab_type": "code",
        "colab": {
          "base_uri": "https://localhost:8080/",
          "height": 459
        },
        "outputId": "19e294d0-e96f-4820-ab43-db64072e7cd8"
      },
      "source": [
        "# Aplicando sobre la data Train el modelo identificado\n",
        "\n",
        "train_results = log_reg.evaluate(training_df).predictions\n",
        "train_results.show()"
      ],
      "execution_count": null,
      "outputs": [
        {
          "output_type": "stream",
          "text": [
            "+-------+--------------------+--------------------+--------------------+----------+\n",
            "|Default|            features|       rawPrediction|         probability|prediction|\n",
            "+-------+--------------------+--------------------+--------------------+----------+\n",
            "|      0|(10,[0,1],[0.9999...|[1.99197959994322...|[0.8799524122158,...|       0.0|\n",
            "|      0|(10,[0,1],[0.9999...|[2.19398218455622...|[0.89970780594262...|       0.0|\n",
            "|      0|(10,[0,1],[0.9999...|[2.22283969664379...|[0.90228185596690...|       0.0|\n",
            "|      0|(10,[0,1],[0.9999...|[2.28055472081893...|[0.90725373407715...|       0.0|\n",
            "|      0|(10,[0,1],[0.9999...|[2.48255730543193...|[0.92290993982943...|       0.0|\n",
            "|      0|(10,[0,1],[0.9999...|[3.29056764388392...|[0.96410380411938...|       0.0|\n",
            "|      0|(10,[0,1],[0.9999...|[3.72343032519749...|[0.97641853559778...|       0.0|\n",
            "|      0|(10,[0,1,2,3],[0....|[1.93268233246478...|[0.87354601637549...|       0.0|\n",
            "|      0|(10,[0,1,2,3,4],[...|[1.45910444860743...|[0.81139566431992...|       0.0|\n",
            "|      0|(10,[0,1,2,3,4],[...|[1.49198151006284...|[0.81637550013883...|       0.0|\n",
            "|      0|(10,[0,1,2,3,4],[...|[1.88399618425476...|[0.86806946248766...|       0.0|\n",
            "|      0|(10,[0,1,2,3,4],[...|[2.08755185832515...|[0.88968738497366...|       0.0|\n",
            "|      0|(10,[0,1,2,3,4],[...|[1.99557090813539...|[0.88033126687428...|       0.0|\n",
            "|      0|(10,[0,1,2,3,4],[...|[2.30535273997031...|[0.90931938141937...|       0.0|\n",
            "|      0|(10,[0,1,2,3,4],[...|[2.20382316346486...|[0.90059230724627...|       0.0|\n",
            "|      0|(10,[0,1,2,3,4],[...|[2.23067460166996...|[0.90297048016809...|       0.0|\n",
            "|      0|(10,[0,1,2,3,4],[...|[2.24655499702789...|[0.90435296169625...|       0.0|\n",
            "|      0|(10,[0,1,2,3,4],[...|[2.37583577492760...|[0.91496600352635...|       0.0|\n",
            "|      0|(10,[0,1,2,3,4],[...|[1.27364311185275...|[0.78136575070244...|       0.0|\n",
            "|      0|(10,[0,1,2,3,4],[...|[2.46402611270843...|[0.92158112171849...|       0.0|\n",
            "+-------+--------------------+--------------------+--------------------+----------+\n",
            "only showing top 20 rows\n",
            "\n"
          ],
          "name": "stdout"
        }
      ]
    },
    {
      "cell_type": "markdown",
      "metadata": {
        "id": "qg-eHdVRDZHq",
        "colab_type": "text"
      },
      "source": [
        "# 7. Evaluacion de poder predictivo"
      ]
    },
    {
      "cell_type": "code",
      "metadata": {
        "id": "u4LLYAgXDpnL",
        "colab_type": "code",
        "colab": {}
      },
      "source": [
        "# Aplicando el modelo predictivo\n",
        "\n",
        "transformed = log_reg.transform(test_df)"
      ],
      "execution_count": null,
      "outputs": []
    },
    {
      "cell_type": "code",
      "metadata": {
        "id": "l-LimWf_b_5N",
        "colab_type": "code",
        "colab": {
          "base_uri": "https://localhost:8080/",
          "height": 204
        },
        "outputId": "7e13bfd0-30b2-4823-f8f0-175fe77cf59d"
      },
      "source": [
        "test_df.show(5)"
      ],
      "execution_count": null,
      "outputs": [
        {
          "output_type": "stream",
          "text": [
            "+-------+--------------------+\n",
            "|Default|            features|\n",
            "+-------+--------------------+\n",
            "|      0|(10,[0,1],[0.9999...|\n",
            "|      0|(10,[0,1],[0.9999...|\n",
            "|      0|(10,[0,1],[0.9999...|\n",
            "|      0|(10,[0,1,2,3,4],[...|\n",
            "|      0|(10,[0,1,2,3,4],[...|\n",
            "+-------+--------------------+\n",
            "only showing top 5 rows\n",
            "\n"
          ],
          "name": "stdout"
        }
      ]
    },
    {
      "cell_type": "code",
      "metadata": {
        "id": "UTDBLCvsFV-q",
        "colab_type": "code",
        "colab": {
          "base_uri": "https://localhost:8080/",
          "height": 170
        },
        "outputId": "ae5eccd4-3721-4e50-c80f-75901442a603"
      },
      "source": [
        "# Revision\n",
        "transformed.show(3, False)"
      ],
      "execution_count": null,
      "outputs": [
        {
          "output_type": "stream",
          "text": [
            "+-------+---------------------------+----------------------------------------+----------------------------------------+----------+\n",
            "|Default|features                   |rawPrediction                           |probability                             |prediction|\n",
            "+-------+---------------------------+----------------------------------------+----------------------------------------+----------+\n",
            "|0      |(10,[0,1],[0.9999999,21.0])|[1.9054070636805098,-1.9054070636805098]|[0.8705022755019604,0.12949772449803962]|0.0       |\n",
            "|0      |(10,[0,1],[0.9999999,22.0])|[1.934264575768081,-1.934264575768081]  |[0.8737206930312629,0.12627930696873718]|0.0       |\n",
            "|0      |(10,[0,1],[0.9999999,22.0])|[1.934264575768081,-1.934264575768081]  |[0.8737206930312629,0.12627930696873718]|0.0       |\n",
            "+-------+---------------------------+----------------------------------------+----------------------------------------+----------+\n",
            "only showing top 3 rows\n",
            "\n"
          ],
          "name": "stdout"
        }
      ]
    },
    {
      "cell_type": "code",
      "metadata": {
        "id": "MIknI1ZuDdCO",
        "colab_type": "code",
        "colab": {
          "base_uri": "https://localhost:8080/",
          "height": 34
        },
        "outputId": "1c4df891-d642-45c9-cb00-aed3410f195a"
      },
      "source": [
        "# LLamando a las librerias de evaluacion de modelamiento\n",
        "\n",
        "from pyspark.mllib.evaluation import BinaryClassificationMetrics as metric\n",
        "results = transformed.select(['probability', 'Default'])\n",
        " \n",
        "## prepare score-label set\n",
        "results_collect = results.collect()\n",
        "results_list = [(float(i[0][0]), 1.0-float(i[1])) for i in results_collect]\n",
        "scoreAndLabels = sc.parallelize(results_list)\n",
        " \n",
        "metrics = metric(scoreAndLabels)\n",
        "print(\"The ROC score is (@numTrees=200): \", metrics.areaUnderROC)"
      ],
      "execution_count": null,
      "outputs": [
        {
          "output_type": "stream",
          "text": [
            "The ROC score is (@numTrees=200):  0.7083653784016744\n"
          ],
          "name": "stdout"
        }
      ]
    },
    {
      "cell_type": "code",
      "metadata": {
        "id": "6i9DyFdtE_6B",
        "colab_type": "code",
        "colab": {
          "base_uri": "https://localhost:8080/",
          "height": 295
        },
        "outputId": "40d35378-0f4b-46a5-bf24-34c4d9b484da"
      },
      "source": [
        "from matplotlib import pyplot as plt\n",
        "from sklearn.metrics import roc_curve, auc\n",
        " \n",
        "fpr = dict()\n",
        "tpr = dict()\n",
        "roc_auc = dict()\n",
        " \n",
        "y_test = [i[1] for i in results_list]\n",
        "y_score = [i[0] for i in results_list]\n",
        " \n",
        "fpr, tpr, _ = roc_curve(y_test, y_score)\n",
        "roc_auc = auc(fpr, tpr)\n",
        " \n",
        "%matplotlib inline\n",
        "plt.figure()\n",
        "plt.plot(fpr, tpr, label='ROC curve (area = %0.2f)' % roc_auc)\n",
        "plt.plot([0, 1], [0, 1], 'k--')\n",
        "plt.xlim([0.0, 1.0])\n",
        "plt.ylim([0.0, 1.05])\n",
        "plt.xlabel('False Positive Rate')\n",
        "plt.ylabel('True Positive Rate')\n",
        "plt.title('Receiver operating characteristic example')\n",
        "plt.legend(loc=\"lower right\")\n",
        "plt.show()"
      ],
      "execution_count": null,
      "outputs": [
        {
          "output_type": "display_data",
          "data": {
            "image/png": "[encoded data removed]",
            "text/plain": [
              "<Figure size 432x288 with 1 Axes>"
            ]
          },
          "metadata": {
            "tags": []
          }
        }
      ]
    },
    {
      "cell_type": "markdown",
      "metadata": {
        "id": "tDgJ78112IQU",
        "colab_type": "text"
      },
      "source": [
        ""
      ]
    },
    {
      "cell_type": "markdown",
      "metadata": {
        "id": "sp5hC3OZ1psQ",
        "colab_type": "text"
      },
      "source": [
        "#8. Aplicacion de modelos adicionales"
      ]
    },
    {
      "cell_type": "markdown",
      "metadata": {
        "id": "oF06_b273tgy",
        "colab_type": "text"
      },
      "source": [
        "##8.1 Algoritmo de Arbol de Clasficacion"
      ]
    },
    {
      "cell_type": "code",
      "metadata": {
        "id": "7pKd2dFm1o6G",
        "colab_type": "code",
        "colab": {
          "base_uri": "https://localhost:8080/",
          "height": 459
        },
        "outputId": "168a58cc-de5a-4e36-fdbc-33fd5871ec22"
      },
      "source": [
        "# Arbol de clasificacion\n",
        "\n",
        "from pyspark.ml.classification import DecisionTreeClassifier\n",
        "\n",
        "dt = DecisionTreeClassifier(labelCol=\"Default\")\n",
        "dt_model = dt.fit(training_df)\n",
        "\n",
        "dt_prediction = dt_model.transform(test_df)\n",
        "\n",
        "dt_prediction.select(\"prediction\", \"Default\", \"features\").show()"
      ],
      "execution_count": null,
      "outputs": [
        {
          "output_type": "stream",
          "text": [
            "+----------+-------+--------------------+\n",
            "|prediction|Default|            features|\n",
            "+----------+-------+--------------------+\n",
            "|       0.0|      0|(10,[0,1],[0.9999...|\n",
            "|       0.0|      0|(10,[0,1],[0.9999...|\n",
            "|       0.0|      0|(10,[0,1],[0.9999...|\n",
            "|       0.0|      0|(10,[0,1,2,3,4],[...|\n",
            "|       0.0|      0|(10,[0,1,2,3,4],[...|\n",
            "|       0.0|      0|(10,[0,1,2,3,4],[...|\n",
            "|       0.0|      0|(10,[0,1,2,3,5],[...|\n",
            "|       0.0|      0|(10,[0,1,2,3,5],[...|\n",
            "|       0.0|      0|(10,[0,1,2,3,5],[...|\n",
            "|       0.0|      0|(10,[0,1,2,3,5],[...|\n",
            "|       0.0|      0|(10,[0,1,2,3,5],[...|\n",
            "|       0.0|      0|(10,[0,1,2,3,5],[...|\n",
            "|       0.0|      0|(10,[0,1,2,4],[0....|\n",
            "|       0.0|      0|(10,[0,1,2,4,5],[...|\n",
            "|       0.0|      0|(10,[0,1,2,4,5],[...|\n",
            "|       0.0|      0|(10,[0,1,2,4,5],[...|\n",
            "|       0.0|      0|(10,[0,1,2,4,5],[...|\n",
            "|       0.0|      0|(10,[0,1,2,4,5],[...|\n",
            "|       0.0|      0|(10,[0,1,2,4,5],[...|\n",
            "|       0.0|      0|(10,[0,1,2,4,9],[...|\n",
            "+----------+-------+--------------------+\n",
            "only showing top 20 rows\n",
            "\n"
          ],
          "name": "stdout"
        }
      ]
    },
    {
      "cell_type": "code",
      "metadata": {
        "id": "SxiDrzowDN2S",
        "colab_type": "code",
        "colab": {}
      },
      "source": [
        "# Reglas del arbol\n",
        "#print(dt_model.toDebugString)"
      ],
      "execution_count": null,
      "outputs": []
    },
    {
      "cell_type": "code",
      "metadata": {
        "id": "72byJzai2qV9",
        "colab_type": "code",
        "colab": {
          "base_uri": "https://localhost:8080/",
          "height": 51
        },
        "outputId": "582417da-1c14-49f5-8f48-e45559255303"
      },
      "source": [
        "# Evaluacion del poder predictivo del arbol\n",
        "from pyspark.ml.evaluation import MulticlassClassificationEvaluator\n",
        "\n",
        "evaluator = MulticlassClassificationEvaluator(labelCol=\"Default\", predictionCol=\"prediction\", metricName=\"accuracy\")\n",
        "\n",
        "dt_accuracy = evaluator.evaluate(dt_prediction)\n",
        "print(\"Accuracy of DecisionTreeClassifier is = %g\"% (dt_accuracy))\n",
        "print(\"Test Error of DecisionTreeClassifier = %g \" % (1.0 - dt_accuracy))\n"
      ],
      "execution_count": null,
      "outputs": [
        {
          "output_type": "stream",
          "text": [
            "Accuracy of DecisionTreeClassifier is = 0.936594\n",
            "Test Error of DecisionTreeClassifier = 0.0634062 \n"
          ],
          "name": "stdout"
        }
      ]
    },
    {
      "cell_type": "code",
      "metadata": {
        "id": "yeb6DXZL3aeZ",
        "colab_type": "code",
        "colab": {
          "base_uri": "https://localhost:8080/",
          "height": 34
        },
        "outputId": "9fad37e6-a952-45fc-b7a8-292563477ba9"
      },
      "source": [
        "# LLamando a las librerias de evaluacion de modelamiento\n",
        "\n",
        "from pyspark.mllib.evaluation import BinaryClassificationMetrics as metric\n",
        "results = dt_prediction.select(['probability', 'Default'])\n",
        " \n",
        "## prepare score-label set\n",
        "results_collect = results.collect()\n",
        "results_list = [(float(i[0][0]), 1.0-float(i[1])) for i in results_collect]\n",
        "scoreAndLabels = sc.parallelize(results_list)\n",
        " \n",
        "metrics = metric(scoreAndLabels)\n",
        "print(\"The ROC score is (@numTrees=200): \", metrics.areaUnderROC)"
      ],
      "execution_count": null,
      "outputs": [
        {
          "output_type": "stream",
          "text": [
            "The ROC score is (@numTrees=200):  0.7999155004948348\n"
          ],
          "name": "stdout"
        }
      ]
    },
    {
      "cell_type": "code",
      "metadata": {
        "id": "85-S8yNF3otm",
        "colab_type": "code",
        "colab": {
          "base_uri": "https://localhost:8080/",
          "height": 295
        },
        "outputId": "87b72154-d974-4912-baca-2c21bfe2742b"
      },
      "source": [
        "from matplotlib import pyplot as plt\n",
        "from sklearn.metrics import roc_curve, auc\n",
        " \n",
        "fpr = dict()\n",
        "tpr = dict()\n",
        "roc_auc = dict()\n",
        " \n",
        "y_test = [i[1] for i in results_list]\n",
        "y_score = [i[0] for i in results_list]\n",
        " \n",
        "fpr, tpr, _ = roc_curve(y_test, y_score)\n",
        "roc_auc = auc(fpr, tpr)\n",
        " \n",
        "%matplotlib inline\n",
        "plt.figure()\n",
        "plt.plot(fpr, tpr, label='ROC curve (area = %0.2f)' % roc_auc)\n",
        "plt.plot([0, 1], [0, 1], 'k--')\n",
        "plt.xlim([0.0, 1.0])\n",
        "plt.ylim([0.0, 1.05])\n",
        "plt.xlabel('False Positive Rate')\n",
        "plt.ylabel('True Positive Rate')\n",
        "plt.title('Receiver operating characteristic example')\n",
        "plt.legend(loc=\"lower right\")\n",
        "plt.show()"
      ],
      "execution_count": null,
      "outputs": [
        {
          "output_type": "display_data",
          "data": {
            "image/png": "[encoded data removed]",
            "text/plain": [
              "<Figure size 432x288 with 1 Axes>"
            ]
          },
          "metadata": {
            "tags": []
          }
        }
      ]
    },
    {
      "cell_type": "markdown",
      "metadata": {
        "id": "8jKnZ4Fr4Nko",
        "colab_type": "text"
      },
      "source": [
        "##8.2 Algoritmo Random Forest"
      ]
    },
    {
      "cell_type": "code",
      "metadata": {
        "id": "bKq8UwUy4Z4M",
        "colab_type": "code",
        "colab": {
          "base_uri": "https://localhost:8080/",
          "height": 459
        },
        "outputId": "f11bfbcb-eb91-4a92-e0b7-32f405acd924"
      },
      "source": [
        "# Aplicacion de Algoritmo Random Fores para modelamiento de clasificacion\n",
        "\n",
        "from pyspark.ml.classification import RandomForestClassifier\n",
        "\n",
        "rf = RandomForestClassifier(labelCol=\"Default\", numTrees=150)\n",
        "rf_model = rf.fit(training_df)\n",
        "\n",
        "rf_prediction = rf_model.transform(test_df)\n",
        "\n",
        "rf_prediction.select(\"prediction\", \"Default\", \"features\").show()"
      ],
      "execution_count": null,
      "outputs": [
        {
          "output_type": "stream",
          "text": [
            "+----------+-------+--------------------+\n",
            "|prediction|Default|            features|\n",
            "+----------+-------+--------------------+\n",
            "|       0.0|      0|(10,[0,1],[0.9999...|\n",
            "|       0.0|      0|(10,[0,1],[0.9999...|\n",
            "|       0.0|      0|(10,[0,1],[0.9999...|\n",
            "|       0.0|      0|(10,[0,1,2,3,4],[...|\n",
            "|       0.0|      0|(10,[0,1,2,3,4],[...|\n",
            "|       0.0|      0|(10,[0,1,2,3,4],[...|\n",
            "|       0.0|      0|(10,[0,1,2,3,5],[...|\n",
            "|       0.0|      0|(10,[0,1,2,3,5],[...|\n",
            "|       0.0|      0|(10,[0,1,2,3,5],[...|\n",
            "|       0.0|      0|(10,[0,1,2,3,5],[...|\n",
            "|       0.0|      0|(10,[0,1,2,3,5],[...|\n",
            "|       0.0|      0|(10,[0,1,2,3,5],[...|\n",
            "|       0.0|      0|(10,[0,1,2,4],[0....|\n",
            "|       0.0|      0|(10,[0,1,2,4,5],[...|\n",
            "|       0.0|      0|(10,[0,1,2,4,5],[...|\n",
            "|       0.0|      0|(10,[0,1,2,4,5],[...|\n",
            "|       0.0|      0|(10,[0,1,2,4,5],[...|\n",
            "|       0.0|      0|(10,[0,1,2,4,5],[...|\n",
            "|       0.0|      0|(10,[0,1,2,4,5],[...|\n",
            "|       0.0|      0|(10,[0,1,2,4,9],[...|\n",
            "+----------+-------+--------------------+\n",
            "only showing top 20 rows\n",
            "\n"
          ],
          "name": "stdout"
        }
      ]
    },
    {
      "cell_type": "code",
      "metadata": {
        "id": "PDx8FXlA4-u8",
        "colab_type": "code",
        "colab": {
          "base_uri": "https://localhost:8080/",
          "height": 34
        },
        "outputId": "32e1d76c-9b3e-403b-95d3-ce6df2cd21b2"
      },
      "source": [
        "# LLamando a las librerias de evaluacion de modelamiento\n",
        "\n",
        "from pyspark.mllib.evaluation import BinaryClassificationMetrics as metric\n",
        "results = rf_prediction.select(['probability', 'Default'])\n",
        " \n",
        "## prepare score-label set\n",
        "results_collect = results.collect()\n",
        "results_list = [(float(i[0][0]), 1.0-float(i[1])) for i in results_collect]\n",
        "scoreAndLabels = sc.parallelize(results_list)\n",
        "\n",
        "metrics = metric(scoreAndLabels)\n",
        "print(\"The ROC score is (@numTrees=200): \", metrics.areaUnderROC)"
      ],
      "execution_count": null,
      "outputs": [
        {
          "output_type": "stream",
          "text": [
            "The ROC score is (@numTrees=200):  0.8528853994294322\n"
          ],
          "name": "stdout"
        }
      ]
    },
    {
      "cell_type": "code",
      "metadata": {
        "id": "UVWc-CMC5Ihj",
        "colab_type": "code",
        "colab": {
          "base_uri": "https://localhost:8080/",
          "height": 295
        },
        "outputId": "49a43c9c-d54e-4df2-95b0-68054d6884e2"
      },
      "source": [
        "from matplotlib import pyplot as plt\n",
        "from sklearn.metrics import roc_curve, auc\n",
        " \n",
        "fpr = dict()\n",
        "tpr = dict()\n",
        "roc_auc = dict()\n",
        " \n",
        "y_test = [i[1] for i in results_list]\n",
        "y_score = [i[0] for i in results_list]\n",
        " \n",
        "fpr, tpr, _ = roc_curve(y_test, y_score)\n",
        "roc_auc = auc(fpr, tpr)\n",
        " \n",
        "%matplotlib inline\n",
        "plt.figure()\n",
        "plt.plot(fpr, tpr, label='ROC curve (area = %0.2f)' % roc_auc)\n",
        "plt.plot([0, 1], [0, 1], 'k--')\n",
        "plt.xlim([0.0, 1.0])\n",
        "plt.ylim([0.0, 1.05])\n",
        "plt.xlabel('False Positive Rate')\n",
        "plt.ylabel('True Positive Rate')\n",
        "plt.title('Receiver operating characteristic example')\n",
        "plt.legend(loc=\"lower right\")\n",
        "plt.show()"
      ],
      "execution_count": null,
      "outputs": [
        {
          "output_type": "display_data",
          "data": {
            "image/png": "[encoded data removed]",
            "text/plain": [
              "<Figure size 432x288 with 1 Axes>"
            ]
          },
          "metadata": {
            "tags": []
          }
        }
      ]
    },
    {
      "cell_type": "code",
      "metadata": {
        "id": "cA6pqrXyBgq-",
        "colab_type": "code",
        "colab": {
          "base_uri": "https://localhost:8080/",
          "height": 34
        },
        "outputId": "71cf110a-faa6-476f-bd2b-2283b65d38e3"
      },
      "source": [
        "# Extra identificador de variables importantes\n",
        "rf_model.featureImportances"
      ],
      "execution_count": null,
      "outputs": [
        {
          "output_type": "execute_result",
          "data": {
            "text/plain": [
              "SparseVector(10, {0: 0.1581, 1: 0.0115, 2: 0.1071, 3: 0.0049, 4: 0.0025, 5: 0.0071, 6: 0.4923, 7: 0.0031, 8: 0.2125, 9: 0.0009})"
            ]
          },
          "metadata": {
            "tags": []
          },
          "execution_count": 244
        }
      ]
    }
  ]
}