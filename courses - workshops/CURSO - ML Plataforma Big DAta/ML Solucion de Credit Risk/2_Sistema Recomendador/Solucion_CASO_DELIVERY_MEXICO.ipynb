{
  "nbformat": 4,
  "nbformat_minor": 0,
  "metadata": {
    "colab": {
      "name": "Solucion_CASO_DELIVERY_MEXICO.ipynb",
      "provenance": [],
      "collapsed_sections": [],
      "toc_visible": true
    },
    "kernelspec": {
      "name": "python3",
      "display_name": "Python 3"
    }
  },
  "cells": [
    {
      "cell_type": "markdown",
      "metadata": {
        "id": "oZYjeFl20oa5",
        "colab_type": "text"
      },
      "source": [
        "# 0. Instalacion de utilitarios Pyspark"
      ]
    },
    {
      "cell_type": "code",
      "metadata": {
        "id": "y6zaa4yk0uIV",
        "colab_type": "code",
        "colab": {}
      },
      "source": [
        "!apt-get install openjdk-8-jdk-headless -qq > /dev/null\n",
        "!wget -q https://www-us.apache.org/dist/spark/spark-2.3.4/spark-2.3.4-bin-hadoop2.7.tgz\n",
        "!tar xf spark-2.3.4-bin-hadoop2.7.tgz"
      ],
      "execution_count": 0,
      "outputs": []
    },
    {
      "cell_type": "code",
      "metadata": {
        "id": "c0SmG6708QQ6",
        "colab_type": "code",
        "colab": {}
      },
      "source": [
        "!apt-get install openjdk-8-jdk-headless -qq > /dev/null\n",
        "!wget -q https://www-us.apache.org/dist/spark/spark-2.4.4/spark-2.4.4-bin-hadoop2.7.tgz\n",
        "!tar xf spark-2.4.4-bin-hadoop2.7.tgz\n"
      ],
      "execution_count": 0,
      "outputs": []
    },
    {
      "cell_type": "code",
      "metadata": {
        "id": "tyor71X98igS",
        "colab_type": "code",
        "colab": {}
      },
      "source": [
        "!pip install -q findspark"
      ],
      "execution_count": 0,
      "outputs": []
    },
    {
      "cell_type": "code",
      "metadata": {
        "id": "mRsVKjDvsmoC",
        "colab_type": "code",
        "colab": {}
      },
      "source": [
        "import os\n",
        "os.environ[\"JAVA_HOME\"] = \"/usr/lib/jvm/java-8-openjdk-amd64\"\n",
        "os.environ[\"SPARK_HOME\"] = \"/content/spark-2.4.4-bin-hadoop2.7\"\n"
      ],
      "execution_count": 0,
      "outputs": []
    },
    {
      "cell_type": "code",
      "metadata": {
        "id": "OsNTQa-qsr7j",
        "colab_type": "code",
        "outputId": "5edb6a34-9642-4f7d-9fcf-ced7f1440216",
        "colab": {
          "base_uri": "https://localhost:8080/",
          "height": 276
        }
      },
      "source": [
        "!pip install pyspark"
      ],
      "execution_count": 5,
      "outputs": [
        {
          "output_type": "stream",
          "text": [
            "Collecting pyspark\n",
            "\u001b[?25l  Downloading https://files.pythonhosted.org/packages/87/21/f05c186f4ddb01d15d0ddc36ef4b7e3cedbeb6412274a41f26b55a650ee5/pyspark-2.4.4.tar.gz (215.7MB)\n",
            "\u001b[K     |████████████████████████████████| 215.7MB 56kB/s \n",
            "\u001b[?25hCollecting py4j==0.10.7\n",
            "\u001b[?25l  Downloading https://files.pythonhosted.org/packages/e3/53/c737818eb9a7dc32a7cd4f1396e787bd94200c3997c72c1dbe028587bd76/py4j-0.10.7-py2.py3-none-any.whl (197kB)\n",
            "\u001b[K     |████████████████████████████████| 204kB 50.9MB/s \n",
            "\u001b[?25hBuilding wheels for collected packages: pyspark\n",
            "  Building wheel for pyspark (setup.py) ... \u001b[?25l\u001b[?25hdone\n",
            "  Created wheel for pyspark: filename=pyspark-2.4.4-py2.py3-none-any.whl size=216130387 sha256=df699865c264db9422a146a0cbeeb6f0d24edc5f6f1b57d284f61146924c7b5f\n",
            "  Stored in directory: /root/.cache/pip/wheels/ab/09/4d/0d184230058e654eb1b04467dbc1292f00eaa186544604b471\n",
            "Successfully built pyspark\n",
            "Installing collected packages: py4j, pyspark\n",
            "Successfully installed py4j-0.10.7 pyspark-2.4.4\n"
          ],
          "name": "stdout"
        }
      ]
    },
    {
      "cell_type": "code",
      "metadata": {
        "id": "zCKm2w9rswTv",
        "colab_type": "code",
        "colab": {}
      },
      "source": [
        "from pyspark.sql import SparkSession\n",
        "from pyspark import SparkContext\n",
        "spark = SparkSession.builder.master(\"local\").getOrCreate()\n",
        "sc = SparkContext.getOrCreate()"
      ],
      "execution_count": 0,
      "outputs": []
    },
    {
      "cell_type": "markdown",
      "metadata": {
        "id": "NXie2Umg1DZk",
        "colab_type": "text"
      },
      "source": [
        "# 1. Lectura del origen datos"
      ]
    },
    {
      "cell_type": "code",
      "metadata": {
        "id": "W-l6Pu6f1HO9",
        "colab_type": "code",
        "colab": {}
      },
      "source": [
        "# Lectura desde un archivo fisico\n",
        "from google.colab import files\n",
        "uploaded = files.upload()"
      ],
      "execution_count": 0,
      "outputs": []
    },
    {
      "cell_type": "code",
      "metadata": {
        "id": "zZL0PhM88Eys",
        "colab_type": "code",
        "outputId": "7622c34f-ce9b-43bb-aba1-9babd8dd9e48",
        "colab": {
          "base_uri": "https://localhost:8080/",
          "height": 129
        }
      },
      "source": [
        "\n",
        "# Conexion al drive\n",
        "#---------------------------\n",
        "from google.colab import drive\n",
        "drive.mount('/content/drive')"
      ],
      "execution_count": 7,
      "outputs": [
        {
          "output_type": "stream",
          "text": [
            "Go to this URL in a browser: https://accounts.google.com/o/oauth2/auth?client_id=947318989803-6bn6qk8qdgf4n4g3pfee6491hc0brc4i.apps.googleusercontent.com&redirect_uri=urn%3Aietf%3Awg%3Aoauth%3A2.0%3Aoob&scope=email%20https%3A%2F%2Fwww.googleapis.com%2Fauth%2Fdocs.test%20https%3A%2F%2Fwww.googleapis.com%2Fauth%2Fdrive%20https%3A%2F%2Fwww.googleapis.com%2Fauth%2Fdrive.photos.readonly%20https%3A%2F%2Fwww.googleapis.com%2Fauth%2Fpeopleapi.readonly&response_type=code\n",
            "\n",
            "Enter your authorization code:\n",
            "··········\n",
            "Mounted at /content/drive\n"
          ],
          "name": "stdout"
        }
      ]
    },
    {
      "cell_type": "code",
      "metadata": {
        "id": "BZQDnxtq2G2L",
        "colab_type": "code",
        "colab": {}
      },
      "source": [
        "ls"
      ],
      "execution_count": 0,
      "outputs": []
    },
    {
      "cell_type": "markdown",
      "metadata": {
        "id": "ltZocWSm2l9G",
        "colab_type": "text"
      },
      "source": [
        "#2.  Cargando los datos en formato Spark"
      ]
    },
    {
      "cell_type": "code",
      "metadata": {
        "id": "xg8zoYu62uhd",
        "colab_type": "code",
        "outputId": "fae3f915-d1a2-47d4-947b-be05c9f85f96",
        "colab": {
          "base_uri": "https://localhost:8080/",
          "height": 219
        }
      },
      "source": [
        "DS_peliculas_rating = spark.read.csv('/content/drive/My Drive/PySpark Machine Learning en plataforma Big Data/Training R ML en Casos de Negocios/8_Recomendacion_comercio/Comercio_tipo_rappi.csv', sep=';', header=True, inferSchema=True)\n",
        "\n",
        "# 2.1 Revision de formatos \n",
        "DS_peliculas_rating.printSchema()"
      ],
      "execution_count": 8,
      "outputs": [
        {
          "output_type": "stream",
          "text": [
            "root\n",
            " |-- userID: string (nullable = true)\n",
            " |-- userID_cod: integer (nullable = true)\n",
            " |-- placeID: integer (nullable = true)\n",
            " |-- Nombre_comerce: string (nullable = true)\n",
            " |-- Distrito: string (nullable = true)\n",
            " |-- rating: integer (nullable = true)\n",
            " |-- food_rating: integer (nullable = true)\n",
            " |-- service_rating: integer (nullable = true)\n",
            " |-- rating_total: integer (nullable = true)\n",
            "\n"
          ],
          "name": "stdout"
        }
      ]
    },
    {
      "cell_type": "code",
      "metadata": {
        "id": "DevCxW045s4B",
        "colab_type": "code",
        "outputId": "f455f7cb-dcee-4f85-c5b3-47d5cd713fbf",
        "colab": {
          "base_uri": "https://localhost:8080/",
          "height": 35
        }
      },
      "source": [
        "# Dimensiona de base\n",
        "print((DS_peliculas_rating.count(),len(DS_peliculas_rating.columns)))"
      ],
      "execution_count": 9,
      "outputs": [
        {
          "output_type": "stream",
          "text": [
            "(50766, 9)\n"
          ],
          "name": "stdout"
        }
      ]
    },
    {
      "cell_type": "code",
      "metadata": {
        "id": "RBEt1wHV2Zy4",
        "colab_type": "code",
        "outputId": "2e8126ce-9146-4064-fc5d-d2ffc5dc255e",
        "colab": {
          "base_uri": "https://localhost:8080/",
          "height": 219
        }
      },
      "source": [
        "# 2.2 Revisiones  \n",
        "DS_peliculas_rating.show(5)"
      ],
      "execution_count": 10,
      "outputs": [
        {
          "output_type": "stream",
          "text": [
            "+------+----------+-------+--------------------+---------------+------+-----------+--------------+------------+\n",
            "|userID|userID_cod|placeID|      Nombre_comerce|       Distrito|rating|food_rating|service_rating|rating_total|\n",
            "+------+----------+-------+--------------------+---------------+------+-----------+--------------+------------+\n",
            "| U1077|         1| 135085|Tortas Locas Hipo...|San Luis Potosi|     2|          2|             2|           6|\n",
            "| U1077|         1| 135038|Restaurant la Cha...|San Luis Potosi|     2|          2|             1|           5|\n",
            "| U1077|         1| 132825|     puesto de tacos|         s.l.p.|     2|          2|             2|           6|\n",
            "| U1077|         1| 135060|Restaurante Maris...|San Luis Potosi|     1|          2|             2|           5|\n",
            "| U1068|         2| 135104|                vips|              0|     1|          1|             2|           4|\n",
            "+------+----------+-------+--------------------+---------------+------+-----------+--------------+------------+\n",
            "only showing top 5 rows\n",
            "\n"
          ],
          "name": "stdout"
        }
      ]
    },
    {
      "cell_type": "code",
      "metadata": {
        "id": "CpYnf-WM3iun",
        "colab_type": "code",
        "outputId": "b188de93-b9d5-40b1-965d-cc2a1ded3bc3",
        "colab": {
          "base_uri": "https://localhost:8080/",
          "height": 35
        }
      },
      "source": [
        "# 2.3 Validacion de carga del total de registros\n",
        "print(DS_peliculas_rating.count())"
      ],
      "execution_count": 11,
      "outputs": [
        {
          "output_type": "stream",
          "text": [
            "50766\n"
          ],
          "name": "stdout"
        }
      ]
    },
    {
      "cell_type": "code",
      "metadata": {
        "id": "7J1Stx2j9KdX",
        "colab_type": "code",
        "outputId": "2e092ce2-7963-4935-ecd5-9148b80ffa7a",
        "colab": {
          "base_uri": "https://localhost:8080/",
          "height": 221
        }
      },
      "source": [
        "# 2.4 Exploracion inicial\n",
        "DS_peliculas_rating.describe().show()"
      ],
      "execution_count": 12,
      "outputs": [
        {
          "output_type": "stream",
          "text": [
            "+-------+------+------------------+------------------+--------------------+---------+------------------+------------------+------------------+-----------------+\n",
            "|summary|userID|        userID_cod|           placeID|      Nombre_comerce| Distrito|            rating|       food_rating|    service_rating|     rating_total|\n",
            "+-------+------+------------------+------------------+--------------------+---------+------------------+------------------+------------------+-----------------+\n",
            "|  count| 50766|             50766|             50766|               50766|    50766|             50766|             50766|             50766|            50766|\n",
            "|   mean|  null| 67.34026710790687|  134254.559390143|                null|      0.0|1.2218216916834101| 1.244277666154513| 1.109856990899421|3.575956348737344|\n",
            "| stddev|  null|32.640689951647815|1079.9216692471784|                null|      0.0|0.7706200957794772|0.7863420037824467|0.7915679876580894|2.083855254035862|\n",
            "|    min| U1001|                 1|            132560|Abondance Restaur...|        0|                 0|                 0|                 0|                0|\n",
            "|    max| U1138|               138|            135109|                vips|victoria |                 2|                 2|                 2|                6|\n",
            "+-------+------+------------------+------------------+--------------------+---------+------------------+------------------+------------------+-----------------+\n",
            "\n"
          ],
          "name": "stdout"
        }
      ]
    },
    {
      "cell_type": "code",
      "metadata": {
        "id": "NaWJYqHFsLo5",
        "colab_type": "code",
        "colab": {
          "base_uri": "https://localhost:8080/",
          "height": 421
        },
        "outputId": "ddb1bc2f-da72-40fe-af9c-9eae526a9f2c"
      },
      "source": [
        "# Filtrando aquellos comercios que no se encuentren en el distrito de San Luis de Potosi\n",
        "DS_peliculas_rating.groupBy('Distrito').count().orderBy('count',ascending=False).show()"
      ],
      "execution_count": 16,
      "outputs": [
        {
          "output_type": "stream",
          "text": [
            "+----------------+-----+\n",
            "|        Distrito|count|\n",
            "+----------------+-----+\n",
            "| San Luis Potosi|33108|\n",
            "|               0| 4283|\n",
            "|      Cuernavaca| 3824|\n",
            "| san luis potosi| 1969|\n",
            "|        victoria| 1642|\n",
            "|          s.l.p.| 1387|\n",
            "|        Jiutepec| 1001|\n",
            "|         Soledad|  705|\n",
            "| Ciudad Victoria|  629|\n",
            "|           s.l.p|  497|\n",
            "|      cuernavaca|  467|\n",
            "|             slp|  319|\n",
            "|san luis potosi |  268|\n",
            "|       victoria |  252|\n",
            "|     Cd Victoria|  216|\n",
            "|    Cd. Victoria|  100|\n",
            "|  san luis potos|   99|\n",
            "+----------------+-----+\n",
            "\n"
          ],
          "name": "stdout"
        }
      ]
    },
    {
      "cell_type": "code",
      "metadata": {
        "id": "Walbl_7XsiAz",
        "colab_type": "code",
        "colab": {}
      },
      "source": [
        "# Considerando los siguientes distritos a filtrar: San Luis Potosi, san luis potosi, s.l.p., s.l.p, slp, san luis potosi, san luis potos\n",
        "DS_peliculas_rating = DS_peliculas_rating[DS_peliculas_rating[\"Distrito\"] != 'San Luis Potosi']\n",
        "DS_peliculas_rating = DS_peliculas_rating[DS_peliculas_rating[\"Distrito\"] != 'san luis potosi']\n",
        "DS_peliculas_rating = DS_peliculas_rating[DS_peliculas_rating[\"Distrito\"] != 's.l.p.']\n",
        "DS_peliculas_rating = DS_peliculas_rating[DS_peliculas_rating[\"Distrito\"] != 's.l.p']\n",
        "DS_peliculas_rating = DS_peliculas_rating[DS_peliculas_rating[\"Distrito\"] != 'slp']\n",
        "DS_peliculas_rating = DS_peliculas_rating[DS_peliculas_rating[\"Distrito\"] != 'san luis potosi ']\n",
        "DS_peliculas_rating = DS_peliculas_rating[DS_peliculas_rating[\"Distrito\"] != 'san luis potos']\n"
      ],
      "execution_count": 0,
      "outputs": []
    },
    {
      "cell_type": "code",
      "metadata": {
        "id": "ngQ9I-2etYbV",
        "colab_type": "code",
        "colab": {
          "base_uri": "https://localhost:8080/",
          "height": 293
        },
        "outputId": "a69a4e96-7a52-4876-fc47-4f9504974b1e"
      },
      "source": [
        "DS_peliculas_rating.groupBy('Distrito').count().orderBy('count',ascending=False).show()"
      ],
      "execution_count": 19,
      "outputs": [
        {
          "output_type": "stream",
          "text": [
            "+---------------+-----+\n",
            "|       Distrito|count|\n",
            "+---------------+-----+\n",
            "|              0| 4283|\n",
            "|     Cuernavaca| 3824|\n",
            "|       victoria| 1642|\n",
            "|       Jiutepec| 1001|\n",
            "|        Soledad|  705|\n",
            "|Ciudad Victoria|  629|\n",
            "|     cuernavaca|  467|\n",
            "|      victoria |  252|\n",
            "|    Cd Victoria|  216|\n",
            "|   Cd. Victoria|  100|\n",
            "+---------------+-----+\n",
            "\n"
          ],
          "name": "stdout"
        }
      ]
    },
    {
      "cell_type": "code",
      "metadata": {
        "id": "5UavJB8AASDE",
        "colab_type": "code",
        "outputId": "d19e85d8-a8a0-4485-cda8-984aae750fb8",
        "colab": {
          "base_uri": "https://localhost:8080/",
          "height": 311
        }
      },
      "source": [
        "# 2.5 Los clientes que más vistaron la plataforma de videos\n",
        "DS_peliculas_rating.groupBy('userId').count().orderBy('count',ascending=False).show(10,False)"
      ],
      "execution_count": 20,
      "outputs": [
        {
          "output_type": "stream",
          "text": [
            "+------+-----+\n",
            "|userId|count|\n",
            "+------+-----+\n",
            "|U1133 |423  |\n",
            "|U1082 |401  |\n",
            "|U1093 |392  |\n",
            "|U1030 |392  |\n",
            "|U1123 |360  |\n",
            "|U1103 |360  |\n",
            "|U1035 |348  |\n",
            "|U1042 |305  |\n",
            "|U1118 |301  |\n",
            "|U1100 |294  |\n",
            "+------+-----+\n",
            "only showing top 10 rows\n",
            "\n"
          ],
          "name": "stdout"
        }
      ]
    },
    {
      "cell_type": "code",
      "metadata": {
        "id": "ZUivRJvPAjI3",
        "colab_type": "code",
        "outputId": "a3336c02-24f8-4416-a9c9-63d5b564b17a",
        "colab": {
          "base_uri": "https://localhost:8080/",
          "height": 311
        }
      },
      "source": [
        "# 2.6  Las clientes que menos vieron las peliculas\n",
        "DS_peliculas_rating.groupBy('userId').count().orderBy('count',ascending=True).show(10,False)"
      ],
      "execution_count": 21,
      "outputs": [
        {
          "output_type": "stream",
          "text": [
            "+------+-----+\n",
            "|userId|count|\n",
            "+------+-----+\n",
            "|U1136 |19   |\n",
            "|U1049 |20   |\n",
            "|U1057 |20   |\n",
            "|U1112 |20   |\n",
            "|U1088 |35   |\n",
            "|U1001 |35   |\n",
            "|U1081 |35   |\n",
            "|U1092 |38   |\n",
            "|U1098 |38   |\n",
            "|U1048 |38   |\n",
            "+------+-----+\n",
            "only showing top 10 rows\n",
            "\n"
          ],
          "name": "stdout"
        }
      ]
    },
    {
      "cell_type": "code",
      "metadata": {
        "id": "hO-eIVs4A0Is",
        "colab_type": "code",
        "outputId": "2a7fb05e-abbf-4843-dd12-340bbdf00c3b",
        "colab": {
          "base_uri": "https://localhost:8080/",
          "height": 311
        }
      },
      "source": [
        "# 2.7  Las peliculas con mayor numero de visualizaciones\n",
        "DS_peliculas_rating.groupBy('Nombre_comerce').count().orderBy('count',ascending=False).show(10,False)"
      ],
      "execution_count": 22,
      "outputs": [
        {
          "output_type": "stream",
          "text": [
            "+-------------------------------+-----+\n",
            "|Nombre_comerce                 |count|\n",
            "+-------------------------------+-----+\n",
            "|Rincon Huasteco                |581  |\n",
            "|Gordas de morales              |548  |\n",
            "|crudalia                       |547  |\n",
            "|Mariscos Tia Licha             |467  |\n",
            "|Sanborns Casa Piedra           |460  |\n",
            "|Subway                         |438  |\n",
            "|Restaurant Las Mananitas       |432  |\n",
            "|Little Cesarz                  |373  |\n",
            "|pizza clasica                  |367  |\n",
            "|Restaurante la Estrella de Dima|338  |\n",
            "+-------------------------------+-----+\n",
            "only showing top 10 rows\n",
            "\n"
          ],
          "name": "stdout"
        }
      ]
    },
    {
      "cell_type": "code",
      "metadata": {
        "id": "72-1CAMzXvSt",
        "colab_type": "code",
        "outputId": "d95ed45a-1f39-483d-9d74-b8bb1382be70",
        "colab": {
          "base_uri": "https://localhost:8080/",
          "height": 282
        }
      },
      "source": [
        "#Graficas\n",
        "res= DS_peliculas_rating.groupBy('Nombre_comerce').count().orderBy('count',ascending=False)\n",
        "red=res.toPandas()\n",
        "\n",
        "import pandas as pd\n",
        "import matplotlib.pyplot as plt\n",
        "import seaborn as sns\n",
        "\n",
        "ax=sns.barplot(x=\"Nombre_comerce\", y=\"count\", data=red)\n",
        "\n"
      ],
      "execution_count": 23,
      "outputs": [
        {
          "output_type": "display_data",
          "data": {
            "image/png": "[encoded data removed]",
            "text/plain": [
              "<Figure size 432x288 with 1 Axes>"
            ]
          },
          "metadata": {
            "tags": []
          }
        }
      ]
    },
    {
      "cell_type": "code",
      "metadata": {
        "id": "6rRu9-sxBI0_",
        "colab_type": "code",
        "outputId": "b0eff637-50f9-4206-b401-d4a1a921250d",
        "colab": {
          "base_uri": "https://localhost:8080/",
          "height": 311
        }
      },
      "source": [
        "# Peliculas con menos numero de visualizaciones \n",
        "DS_peliculas_rating.groupBy('Nombre_comerce').count().orderBy('count',ascending=True).show(10,False)"
      ],
      "execution_count": 24,
      "outputs": [
        {
          "output_type": "stream",
          "text": [
            "+-------------------------------------+-----+\n",
            "|Nombre_comerce                       |count|\n",
            "+-------------------------------------+-----+\n",
            "|Carnitas Mata  Calle 16 de Septiembre|100  |\n",
            "|cafe ambar                           |100  |\n",
            "|la perica hamburguesa                |102  |\n",
            "|tortas hawai                         |109  |\n",
            "|puesto de gorditas                   |109  |\n",
            "|churchs                              |126  |\n",
            "|TACOS EL GUERO                       |133  |\n",
            "|Arrachela Grill                      |135  |\n",
            "|el pueblito                          |136  |\n",
            "|Los Vikingos                         |141  |\n",
            "+-------------------------------------+-----+\n",
            "only showing top 10 rows\n",
            "\n"
          ],
          "name": "stdout"
        }
      ]
    },
    {
      "cell_type": "code",
      "metadata": {
        "id": "e7zhMgpeJZRw",
        "colab_type": "code",
        "outputId": "2367be96-8f62-431d-da29-102824cd9370",
        "colab": {
          "base_uri": "https://localhost:8080/",
          "height": 311
        }
      },
      "source": [
        "# Peliculas con menos numero de visualizaciones \n",
        "DS_peliculas_rating.groupBy('Nombre_comerce','Distrito').count().orderBy('count',ascending=False).show(10,False)"
      ],
      "execution_count": 25,
      "outputs": [
        {
          "output_type": "stream",
          "text": [
            "+-------------------------------+---------------+-----+\n",
            "|Nombre_comerce                 |Distrito       |count|\n",
            "+-------------------------------+---------------+-----+\n",
            "|Rincon Huasteco                |0              |581  |\n",
            "|Gordas de morales              |0              |548  |\n",
            "|crudalia                       |0              |547  |\n",
            "|Mariscos Tia Licha             |cuernavaca     |467  |\n",
            "|Sanborns Casa Piedra           |Cuernavaca     |460  |\n",
            "|Subway                         |Cuernavaca     |438  |\n",
            "|Restaurant Las Mananitas       |Cuernavaca     |432  |\n",
            "|Little Cesarz                  |Ciudad Victoria|373  |\n",
            "|pizza clasica                  |Soledad        |367  |\n",
            "|Restaurante la Estrella de Dima|Soledad        |338  |\n",
            "+-------------------------------+---------------+-----+\n",
            "only showing top 10 rows\n",
            "\n"
          ],
          "name": "stdout"
        }
      ]
    },
    {
      "cell_type": "code",
      "metadata": {
        "id": "zw4K8CdeeVvt",
        "colab_type": "code",
        "outputId": "6b3a5d4c-1093-47ba-f3c5-72f29c7766d3",
        "colab": {
          "base_uri": "https://localhost:8080/",
          "height": 311
        }
      },
      "source": [
        "# Que clientes consumen mas en cierto establecimiento\n",
        "DS_peliculas_rating.filter(DS_peliculas_rating['Nombre_comerce']=='Rincon Huasteco').groupby('userID').count().orderBy('count',ascending=False).show(10,False)"
      ],
      "execution_count": 28,
      "outputs": [
        {
          "output_type": "stream",
          "text": [
            "+------+-----+\n",
            "|userID|count|\n",
            "+------+-----+\n",
            "|U1019 |73   |\n",
            "|U1005 |73   |\n",
            "|U1037 |73   |\n",
            "|U1115 |49   |\n",
            "|U1105 |49   |\n",
            "|U1094 |49   |\n",
            "|U1075 |49   |\n",
            "|U1126 |41   |\n",
            "|U1014 |35   |\n",
            "|U1088 |35   |\n",
            "+------+-----+\n",
            "only showing top 10 rows\n",
            "\n"
          ],
          "name": "stdout"
        }
      ]
    },
    {
      "cell_type": "markdown",
      "metadata": {
        "id": "nhC6tpUw39tn",
        "colab_type": "text"
      },
      "source": [
        "# 3. Feature Engineering: Tansforma pelicula a numero\n",
        "\n"
      ]
    },
    {
      "cell_type": "code",
      "metadata": {
        "id": "h05_VfzA4C1k",
        "colab_type": "code",
        "colab": {}
      },
      "source": [
        "# Importando el codifocador\n",
        "from pyspark.ml.feature import StringIndexer,IndexToString"
      ],
      "execution_count": 0,
      "outputs": []
    },
    {
      "cell_type": "code",
      "metadata": {
        "id": "LBiAQR4tB8ul",
        "colab_type": "code",
        "colab": {}
      },
      "source": [
        "# Configurando la Numerzación los titulos de las peliculas\n",
        "# title_new = La codificación de las peliculas\n",
        "stringIndexer = StringIndexer(inputCol=\"Nombre_comerce\", outputCol=\"Nombre_comerce_new\")"
      ],
      "execution_count": 0,
      "outputs": []
    },
    {
      "cell_type": "code",
      "metadata": {
        "id": "1Lik8aKaCw_O",
        "colab_type": "code",
        "colab": {}
      },
      "source": [
        "#Aplicando la numerización de peliculas\n",
        "model = stringIndexer.fit(DS_peliculas_rating)"
      ],
      "execution_count": 0,
      "outputs": []
    },
    {
      "cell_type": "code",
      "metadata": {
        "id": "ANbGXtZHDBxt",
        "colab_type": "code",
        "colab": {}
      },
      "source": [
        "#Creando un nuevo Dataframe con el indexado creado\n",
        "indexed = model.transform(DS_peliculas_rating)"
      ],
      "execution_count": 0,
      "outputs": []
    },
    {
      "cell_type": "code",
      "metadata": {
        "id": "mLkAhgfoCg4X",
        "colab_type": "code",
        "outputId": "e1189a89-f90c-4e5c-f479-93d40067cb1f",
        "colab": {
          "base_uri": "https://localhost:8080/",
          "height": 331
        }
      },
      "source": [
        "#Revision de los indices\n",
        "#Ya tenemos las 3 cosas que necesitamos... codigo de cliente... codigo de producto y valoracion\n",
        "indexed.show(10)"
      ],
      "execution_count": 33,
      "outputs": [
        {
          "output_type": "stream",
          "text": [
            "+------+----------+-------+--------------------+---------------+------+-----------+--------------+------------+------------------+\n",
            "|userID|userID_cod|placeID|      Nombre_comerce|       Distrito|rating|food_rating|service_rating|rating_total|Nombre_comerce_new|\n",
            "+------+----------+-------+--------------------+---------------+------+-----------+--------------+------------+------------------+\n",
            "| U1068|         2| 135104|                vips|              0|     1|          1|             2|           4|              21.0|\n",
            "| U1068|         2| 132740|Carreton de Flaut...|Ciudad Victoria|     0|          0|             0|           0|              17.0|\n",
            "| U1068|         2| 132663|           tacos abi|       victoria|     1|          1|             1|           3|              27.0|\n",
            "| U1068|         2| 132732|  Taqueria EL amigo |    Cd Victoria|     0|          0|             0|           0|              22.0|\n",
            "| U1068|         2| 132630|          palomo tec|       victoria|     1|          1|             1|           3|              34.0|\n",
            "| U1067|         3| 132584|  Gorditas Dona Tota|              0|     2|          2|             2|           6|              10.0|\n",
            "| U1067|         3| 132733|       Little Cesarz|Ciudad Victoria|     1|          1|             1|           3|               7.0|\n",
            "| U1067|         3| 132732|  Taqueria EL amigo |    Cd Victoria|     1|          2|             2|           5|              22.0|\n",
            "| U1067|         3| 132630|          palomo tec|       victoria|     1|          0|             1|           2|              34.0|\n",
            "| U1067|         3| 135104|                vips|              0|     0|          0|             0|           0|              21.0|\n",
            "+------+----------+-------+--------------------+---------------+------+-----------+--------------+------------+------------------+\n",
            "only showing top 10 rows\n",
            "\n"
          ],
          "name": "stdout"
        }
      ]
    },
    {
      "cell_type": "code",
      "metadata": {
        "id": "0uDCzdTqDg5D",
        "colab_type": "code",
        "outputId": "1236ad2a-8143-4ec6-8f91-37bfbd10b0ec",
        "colab": {
          "base_uri": "https://localhost:8080/",
          "height": 311
        }
      },
      "source": [
        "#Numero de veces que cada titulo ha aparecido\n",
        "indexed.groupBy('Nombre_comerce_new').count().orderBy('count',ascending=False).show(10,False)"
      ],
      "execution_count": 34,
      "outputs": [
        {
          "output_type": "stream",
          "text": [
            "+------------------+-----+\n",
            "|Nombre_comerce_new|count|\n",
            "+------------------+-----+\n",
            "|0.0               |581  |\n",
            "|1.0               |548  |\n",
            "|2.0               |547  |\n",
            "|3.0               |467  |\n",
            "|4.0               |460  |\n",
            "|5.0               |438  |\n",
            "|6.0               |432  |\n",
            "|7.0               |373  |\n",
            "|8.0               |367  |\n",
            "|9.0               |338  |\n",
            "+------------------+-----+\n",
            "only showing top 10 rows\n",
            "\n"
          ],
          "name": "stdout"
        }
      ]
    },
    {
      "cell_type": "markdown",
      "metadata": {
        "id": "xgUobOLemd25",
        "colab_type": "text"
      },
      "source": [
        "# 4. Dividiendo la data en muestra de entrenamiento y validacion\n"
      ]
    },
    {
      "cell_type": "code",
      "metadata": {
        "id": "8ws92PIxmkGs",
        "colab_type": "code",
        "colab": {}
      },
      "source": [
        "#4.1  Data de entrenamiento y validacion\n",
        "train,test=indexed.randomSplit([0.80,0.20], seed = 1234)"
      ],
      "execution_count": 0,
      "outputs": []
    },
    {
      "cell_type": "code",
      "metadata": {
        "id": "AVzr9MGdD_Mi",
        "colab_type": "code",
        "outputId": "5459ca2e-65b2-4ca4-8846-91237f782d8f",
        "colab": {
          "base_uri": "https://localhost:8080/",
          "height": 35
        }
      },
      "source": [
        "# Nro de entrenamiento\n",
        "train.count()"
      ],
      "execution_count": 36,
      "outputs": [
        {
          "output_type": "execute_result",
          "data": {
            "text/plain": [
              "10506"
            ]
          },
          "metadata": {
            "tags": []
          },
          "execution_count": 36
        }
      ]
    },
    {
      "cell_type": "code",
      "metadata": {
        "id": "WYpYCZWtEFCo",
        "colab_type": "code",
        "outputId": "4dd95ff6-26f7-4e4c-a831-8b7feba7d284",
        "colab": {
          "base_uri": "https://localhost:8080/",
          "height": 35
        }
      },
      "source": [
        "# Nro de Validacion\n",
        "test.count()"
      ],
      "execution_count": 37,
      "outputs": [
        {
          "output_type": "execute_result",
          "data": {
            "text/plain": [
              "2613"
            ]
          },
          "metadata": {
            "tags": []
          },
          "execution_count": 37
        }
      ]
    },
    {
      "cell_type": "markdown",
      "metadata": {
        "id": "DzS3l96FELtG",
        "colab_type": "text"
      },
      "source": [
        "# 5. Entrenando el Modelo\n"
      ]
    },
    {
      "cell_type": "code",
      "metadata": {
        "id": "bBgycnsdm9_3",
        "colab_type": "code",
        "colab": {}
      },
      "source": [
        "#Importando el modelo Recomendador ALS\n",
        "from pyspark.sql.functions import *\n",
        "from pyspark.ml.recommendation import ALS\n"
      ],
      "execution_count": 0,
      "outputs": []
    },
    {
      "cell_type": "code",
      "metadata": {
        "id": "spViP-t4EY-7",
        "colab_type": "code",
        "colab": {}
      },
      "source": [
        "#Configuracion del Entrenamiento del modelo Recomendador usando la muetsra de entrenamiento\n",
        "rec=ALS(maxIter=20,regParam=0.0001,userCol='userID_cod',itemCol='Nombre_comerce_new',ratingCol='rating_total',nonnegative=True,coldStartStrategy=\"drop\",implicitPrefs=False, seed=1234)\n",
        "\n",
        "# maxIter: El maximo de iteraciones\n",
        "# regParam: Parametro de Regularización\n",
        "# nonnegative: Especificar si se utiliza una restriccion negativa en los Minimos cuadrados\n",
        "# coldStartStrategy: Parametro que elimina cualquier cliente que no tenga informacion\n",
        "# implicitPrefs: Si es implicito hace referencia a feedback no registrado voluntariamente por el cliente"
      ],
      "execution_count": 0,
      "outputs": []
    },
    {
      "cell_type": "code",
      "metadata": {
        "id": "coVXq71IEkIS",
        "colab_type": "code",
        "colab": {}
      },
      "source": [
        "#Entrenando el modelo\n",
        "rec_model=rec.fit(train)"
      ],
      "execution_count": 0,
      "outputs": []
    },
    {
      "cell_type": "code",
      "metadata": {
        "id": "fJxeEWJ5E0c0",
        "colab_type": "code",
        "colab": {}
      },
      "source": [
        "#Haciendo las predicciones en la data de test \n",
        "predicted_ratings=rec_model.transform(test)"
      ],
      "execution_count": 0,
      "outputs": []
    },
    {
      "cell_type": "code",
      "metadata": {
        "id": "m55jvm2gEyCY",
        "colab_type": "code",
        "outputId": "f5aa21c1-008f-4c98-9385-f1390ea716e7",
        "colab": {
          "base_uri": "https://localhost:8080/",
          "height": 256
        }
      },
      "source": [
        "#Revisando los pronostico\n",
        "predicted_ratings.printSchema()"
      ],
      "execution_count": 42,
      "outputs": [
        {
          "output_type": "stream",
          "text": [
            "root\n",
            " |-- userID: string (nullable = true)\n",
            " |-- userID_cod: integer (nullable = true)\n",
            " |-- placeID: integer (nullable = true)\n",
            " |-- Nombre_comerce: string (nullable = true)\n",
            " |-- Distrito: string (nullable = true)\n",
            " |-- rating: integer (nullable = true)\n",
            " |-- food_rating: integer (nullable = true)\n",
            " |-- service_rating: integer (nullable = true)\n",
            " |-- rating_total: integer (nullable = true)\n",
            " |-- Nombre_comerce_new: double (nullable = false)\n",
            " |-- prediction: float (nullable = false)\n",
            "\n"
          ],
          "name": "stdout"
        }
      ]
    },
    {
      "cell_type": "code",
      "metadata": {
        "id": "h8cfiAWkFHxi",
        "colab_type": "code",
        "outputId": "0ced66af-d84d-41a7-e98c-277da2dec03b",
        "colab": {
          "base_uri": "https://localhost:8080/",
          "height": 331
        }
      },
      "source": [
        "# Revision rapida de los pronosticos\n",
        "predicted_ratings.orderBy(rand()).show(10)"
      ],
      "execution_count": 43,
      "outputs": [
        {
          "output_type": "stream",
          "text": [
            "+------+----------+-------+--------------------+----------+------+-----------+--------------+------------+------------------+------------+\n",
            "|userID|userID_cod|placeID|      Nombre_comerce|  Distrito|rating|food_rating|service_rating|rating_total|Nombre_comerce_new|  prediction|\n",
            "+------+----------+-------+--------------------+----------+------+-----------+--------------+------------+------------------+------------+\n",
            "| U1117|        31| 132773|         El cotorreo|Cuernavaca|     1|          2|             2|           5|              29.0|    5.000002|\n",
            "| U1051|        33| 135109|           Paniroles|         0|     1|          1|             1|           3|              39.0|   2.9999075|\n",
            "| U1083|        16| 132723|   Gordas de morales|         0|     1|          1|             1|           3|               1.0|    2.999999|\n",
            "| U1013|        89| 132875|           shi ro ie|         0|     2|          2|             1|           5|              15.0|    4.999981|\n",
            "| U1079|        75| 132766|              Mikasa|Cuernavaca|     1|          2|             1|           4|              38.0|    3.999773|\n",
            "| U1130|       136| 132561|          cafe ambar|         0|     0|          0|             0|           0|              53.0|0.0050549563|\n",
            "| U1110|        87| 132767|Restaurant Famili...|  Jiutepec|     2|          2|             2|           6|              12.0|         6.0|\n",
            "| U1047|        79| 132877|    sirloin stockade|         0|     0|          0|             0|           0|              30.0|         0.0|\n",
            "| U1035|        36| 134986|Restaurant Las Ma...|Cuernavaca|     2|          2|             2|           6|               6.0|   5.9999967|\n",
            "| U1029|       111| 132922|cafe punta del cielo|         0|     1|          1|             1|           3|              28.0|   3.0000024|\n",
            "+------+----------+-------+--------------------+----------+------+-----------+--------------+------------+------------------+------------+\n",
            "only showing top 10 rows\n",
            "\n"
          ],
          "name": "stdout"
        }
      ]
    },
    {
      "cell_type": "code",
      "metadata": {
        "id": "H5sy0MCST3xP",
        "colab_type": "code",
        "colab": {}
      },
      "source": [
        "# Generando los top 10 peliculas sugeridas por cada cliente\n",
        "userRecs = rec_model.recommendForAllUsers(10)"
      ],
      "execution_count": 0,
      "outputs": []
    },
    {
      "cell_type": "code",
      "metadata": {
        "id": "iXB9FWCpUCEm",
        "colab_type": "code",
        "outputId": "ee49ab60-59fb-4bc4-f359-0355a1bcde38",
        "colab": {
          "base_uri": "https://localhost:8080/",
          "height": 239
        }
      },
      "source": [
        "userRecs.show(5,False)"
      ],
      "execution_count": 45,
      "outputs": [
        {
          "output_type": "stream",
          "text": [
            "+----------+-----------------------------------------------------------------------------------------------------------------------------------------------------------------------+\n",
            "|userID_cod|recommendations                                                                                                                                                        |\n",
            "+----------+-----------------------------------------------------------------------------------------------------------------------------------------------------------------------+\n",
            "|31        |[[29, 5.000002], [47, 5.000001], [28, 4.9977646], [16, 3.9999828], [1, 3.739437], [24, 3.0000002], [31, 2.9999964], [3, 2.998889], [49, 2.9058201], [6, 2.8944566]]    |\n",
            "|85        |[[19, 5.9999914], [47, 5.7526903], [12, 4.262169], [0, 4.207687], [8, 4.117004], [13, 3.9999862], [9, 3.5828228], [21, 3.5040772], [1, 3.369401], [11, 3.1152558]]     |\n",
            "|137       |[[29, 5.7632794], [5, 4.2368507], [35, 3.9999886], [28, 3.7440326], [23, 3.000003], [20, 3.000002], [34, 2.9999988], [22, 2.9999936], [47, 2.8853943], [16, 2.7234957]]|\n",
            "|133       |[[29, 10.999183], [28, 10.235378], [47, 8.948669], [16, 8.9328375], [35, 8.398579], [1, 6.8221107], [3, 6.617261], [23, 6.535353], [50, 6.430481], [20, 6.3414297]]    |\n",
            "|108       |[[28, 6.0], [47, 5.793318], [29, 5.40683], [1, 4.9999957], [21, 3.2990968], [33, 3.2035642], [34, 3.1955562], [5, 3.0211227], [9, 2.9240708], [16, 2.8497899]]         |\n",
            "+----------+-----------------------------------------------------------------------------------------------------------------------------------------------------------------------+\n",
            "only showing top 5 rows\n",
            "\n"
          ],
          "name": "stdout"
        }
      ]
    },
    {
      "cell_type": "markdown",
      "metadata": {
        "id": "hSEgqY-EpCYi",
        "colab_type": "text"
      },
      "source": [
        "# 5. Evaluación del poder predictivo del modelo\n"
      ]
    },
    {
      "cell_type": "code",
      "metadata": {
        "id": "DmVUSxsmpJ4M",
        "colab_type": "code",
        "outputId": "1dd9b143-f842-42f1-8a94-dd85de2a9f56",
        "colab": {
          "base_uri": "https://localhost:8080/",
          "height": 515
        }
      },
      "source": [
        "# Creando la columna diferencia del pronostico\n",
        "predicted_ratings_witherr=predicted_ratings.withColumn('err',abs(predicted_ratings.prediction - predicted_ratings.rating_total))\n",
        "\n",
        "predicted_ratings_witherr.show()"
      ],
      "execution_count": 46,
      "outputs": [
        {
          "output_type": "stream",
          "text": [
            "+------+----------+-------+----------------+----------+------+-----------+--------------+------------+------------------+----------+------------+\n",
            "|userID|userID_cod|placeID|  Nombre_comerce|  Distrito|rating|food_rating|service_rating|rating_total|Nombre_comerce_new|prediction|         err|\n",
            "+------+----------+-------+----------------+----------+------+-----------+--------------+------------+------------------+----------+------------+\n",
            "| U1117|        31| 135018|El Oceano Dorado|Cuernavaca|     1|          1|             1|           3|              31.0| 2.9999964|3.5762787E-6|\n",
            "| U1117|        31| 135018|El Oceano Dorado|Cuernavaca|     1|          1|             1|           3|              31.0| 2.9999964|3.5762787E-6|\n",
            "| U1117|        31| 135018|El Oceano Dorado|Cuernavaca|     1|          1|             1|           3|              31.0| 2.9999964|3.5762787E-6|\n",
            "| U1117|        31| 135018|El Oceano Dorado|Cuernavaca|     1|          1|             1|           3|              31.0| 2.9999964|3.5762787E-6|\n",
            "| U1117|        31| 135018|El Oceano Dorado|Cuernavaca|     1|          1|             1|           3|              31.0| 2.9999964|3.5762787E-6|\n",
            "| U1117|        31| 135018|El Oceano Dorado|Cuernavaca|     1|          1|             1|           3|              31.0| 2.9999964|3.5762787E-6|\n",
            "| U1117|        31| 135018|El Oceano Dorado|Cuernavaca|     1|          1|             1|           3|              31.0| 2.9999964|3.5762787E-6|\n",
            "| U1117|        31| 135018|El Oceano Dorado|Cuernavaca|     1|          1|             1|           3|              31.0| 2.9999964|3.5762787E-6|\n",
            "| U1117|        31| 135018|El Oceano Dorado|Cuernavaca|     1|          1|             1|           3|              31.0| 2.9999964|3.5762787E-6|\n",
            "| U1117|        31| 135018|El Oceano Dorado|Cuernavaca|     1|          1|             1|           3|              31.0| 2.9999964|3.5762787E-6|\n",
            "| U1117|        31| 135018|El Oceano Dorado|Cuernavaca|     1|          1|             1|           3|              31.0| 2.9999964|3.5762787E-6|\n",
            "| U1117|        31| 135018|El Oceano Dorado|Cuernavaca|     1|          1|             1|           3|              31.0| 2.9999964|3.5762787E-6|\n",
            "| U1117|        31| 135018|El Oceano Dorado|Cuernavaca|     1|          1|             1|           3|              31.0| 2.9999964|3.5762787E-6|\n",
            "| U1030|        20| 135018|El Oceano Dorado|Cuernavaca|     2|          2|             2|           6|              31.0|  6.000455|4.5490265E-4|\n",
            "| U1030|        20| 135018|El Oceano Dorado|Cuernavaca|     2|          2|             2|           6|              31.0|  6.000455|4.5490265E-4|\n",
            "| U1030|        20| 135018|El Oceano Dorado|Cuernavaca|     2|          2|             2|           6|              31.0|  6.000455|4.5490265E-4|\n",
            "| U1030|        20| 135018|El Oceano Dorado|Cuernavaca|     2|          2|             2|           6|              31.0|  6.000455|4.5490265E-4|\n",
            "| U1030|        20| 135018|El Oceano Dorado|Cuernavaca|     2|          2|             2|           6|              31.0|  6.000455|4.5490265E-4|\n",
            "| U1030|        20| 135018|El Oceano Dorado|Cuernavaca|     2|          2|             2|           6|              31.0|  6.000455|4.5490265E-4|\n",
            "| U1030|        20| 135018|El Oceano Dorado|Cuernavaca|     2|          2|             2|           6|              31.0|  6.000455|4.5490265E-4|\n",
            "+------+----------+-------+----------------+----------+------+-----------+--------------+------------+------------------+----------+------------+\n",
            "only showing top 20 rows\n",
            "\n"
          ],
          "name": "stdout"
        }
      ]
    },
    {
      "cell_type": "code",
      "metadata": {
        "id": "5c9vbl7Q2b1x",
        "colab_type": "code",
        "outputId": "0494d5ba-eea4-4161-f4cc-05066473578c",
        "colab": {
          "base_uri": "https://localhost:8080/",
          "height": 237
        }
      },
      "source": [
        "# Distribución de las valoraciones\n",
        "predicted_ratings.groupBy('rating_total').count().orderBy('rating_total',ascending=True).show()"
      ],
      "execution_count": 47,
      "outputs": [
        {
          "output_type": "stream",
          "text": [
            "+------------+-----+\n",
            "|rating_total|count|\n",
            "+------------+-----+\n",
            "|           0|  462|\n",
            "|           1|   71|\n",
            "|           2|  172|\n",
            "|           3|  472|\n",
            "|           4|  371|\n",
            "|           5|  307|\n",
            "|           6|  758|\n",
            "+------------+-----+\n",
            "\n"
          ],
          "name": "stdout"
        }
      ]
    },
    {
      "cell_type": "code",
      "metadata": {
        "id": "GgQi748YvWu7",
        "colab_type": "code",
        "outputId": "ca8f4245-564a-48fe-e786-a74ab5332cf0",
        "colab": {
          "base_uri": "https://localhost:8080/",
          "height": 237
        }
      },
      "source": [
        "# Error promedio por rating de valoracion\n",
        "predicted_ratings_witherr.groupBy('rating_total').agg({'err':'mean'}).orderBy('rating_total',ascending=True).show()"
      ],
      "execution_count": 48,
      "outputs": [
        {
          "output_type": "stream",
          "text": [
            "+------------+--------------------+\n",
            "|rating_total|            avg(err)|\n",
            "+------------+--------------------+\n",
            "|           0|0.008134939578614248|\n",
            "|           1|0.001361872108889...|\n",
            "|           2|0.001162339088528...|\n",
            "|           3|5.814231048196049E-4|\n",
            "|           4|4.917829827156993E-4|\n",
            "|           5|4.585573649950058...|\n",
            "|           6|4.885517512902735E-4|\n",
            "+------------+--------------------+\n",
            "\n"
          ],
          "name": "stdout"
        }
      ]
    },
    {
      "cell_type": "code",
      "metadata": {
        "id": "JO5oYYa_dnZT",
        "colab_type": "code",
        "outputId": "aa006a95-04d1-4287-d2f8-293c5ad4289f",
        "colab": {
          "base_uri": "https://localhost:8080/",
          "height": 237
        }
      },
      "source": [
        "# Error promedio por rating de valoracion\n",
        "predicted_ratings_witherr.groupBy('rating_total').agg({'err':'std'}).orderBy('rating_total',ascending=True).show()"
      ],
      "execution_count": 49,
      "outputs": [
        {
          "output_type": "stream",
          "text": [
            "+------------+--------------------+\n",
            "|rating_total|         stddev(err)|\n",
            "+------------+--------------------+\n",
            "|           0|0.018291381371118822|\n",
            "|           1|0.002785018209905...|\n",
            "|           2|0.005157512733187293|\n",
            "|           3|0.001701203010265...|\n",
            "|           4|0.001452209144121...|\n",
            "|           5|0.001747179130587...|\n",
            "|           6|0.001312192686433128|\n",
            "+------------+--------------------+\n",
            "\n"
          ],
          "name": "stdout"
        }
      ]
    },
    {
      "cell_type": "code",
      "metadata": {
        "id": "e0uziR670BFM",
        "colab_type": "code",
        "colab": {}
      },
      "source": [
        "#Importando el evaluador de Regresion RMSE \n",
        "from pyspark.ml.evaluation import RegressionEvaluator"
      ],
      "execution_count": 0,
      "outputs": []
    },
    {
      "cell_type": "code",
      "metadata": {
        "id": "XFO3FDV_ysT2",
        "colab_type": "code",
        "colab": {}
      },
      "source": [
        "#Evluando la presición del pronostico\n",
        "evaluator=RegressionEvaluator(metricName='rmse',predictionCol='prediction',labelCol='rating_total')"
      ],
      "execution_count": 0,
      "outputs": []
    },
    {
      "cell_type": "code",
      "metadata": {
        "id": "kP7KuqQbz7UD",
        "colab_type": "code",
        "colab": {}
      },
      "source": [
        "#Evluando el error de pronostico global\n",
        "rmse=evaluator.evaluate(predicted_ratings)"
      ],
      "execution_count": 0,
      "outputs": []
    },
    {
      "cell_type": "code",
      "metadata": {
        "id": "z4fUBfZ03t4Z",
        "colab_type": "code",
        "outputId": "d8b10c2d-d72a-4b5c-b881-6cb8e1019cb2",
        "colab": {
          "base_uri": "https://localhost:8080/",
          "height": 35
        }
      },
      "source": [
        "#Imprimiento el error\n",
        "print(rmse)"
      ],
      "execution_count": 53,
      "outputs": [
        {
          "output_type": "stream",
          "text": [
            "0.008641875742859104\n"
          ],
          "name": "stdout"
        }
      ]
    },
    {
      "cell_type": "markdown",
      "metadata": {
        "id": "KG2wbeNe4hDU",
        "colab_type": "text"
      },
      "source": [
        "# 6. Recomendandor de peliculas, ya listo!"
      ]
    },
    {
      "cell_type": "code",
      "metadata": {
        "id": "06wR5qaF4pLL",
        "colab_type": "code",
        "colab": {}
      },
      "source": [
        "#Listado de peliculas unicas\n",
        "unique_movies=indexed.select('Nombre_comerce_new').distinct()"
      ],
      "execution_count": 0,
      "outputs": []
    },
    {
      "cell_type": "code",
      "metadata": {
        "id": "WIRmCdZNHNfX",
        "colab_type": "code",
        "outputId": "9959c83a-89e2-4b79-e207-c864a6645bf3",
        "colab": {
          "base_uri": "https://localhost:8080/",
          "height": 35
        }
      },
      "source": [
        "#Total de peliculas\n",
        "unique_movies.count()"
      ],
      "execution_count": 55,
      "outputs": [
        {
          "output_type": "execute_result",
          "data": {
            "text/plain": [
              "55"
            ]
          },
          "metadata": {
            "tags": []
          },
          "execution_count": 55
        }
      ]
    },
    {
      "cell_type": "code",
      "metadata": {
        "id": "taX8DiH85XBQ",
        "colab_type": "code",
        "colab": {}
      },
      "source": [
        "#Asignando un alias {a} la lista unica de peliculas\n",
        "a = unique_movies.alias('a')"
      ],
      "execution_count": 0,
      "outputs": []
    },
    {
      "cell_type": "code",
      "metadata": {
        "id": "XBoqyCAU51sv",
        "colab_type": "code",
        "outputId": "5221e17d-6e8f-4091-b22e-5e93a609541f",
        "colab": {
          "base_uri": "https://localhost:8080/",
          "height": 35
        }
      },
      "source": [
        "# Eligiendo un cliente\n",
        "userID_cod = 2\n",
        "\n",
        "# Creando una tabla que contiene una pelicula por usuario\n",
        "watched_movies=indexed.filter(indexed['userID_cod'] == userID_cod).select('Nombre_comerce_new').distinct()\n",
        "\n",
        "#Numero de peliculas ya evaluadas \n",
        "watched_movies.count()"
      ],
      "execution_count": 70,
      "outputs": [
        {
          "output_type": "execute_result",
          "data": {
            "text/plain": [
              "8"
            ]
          },
          "metadata": {
            "tags": []
          },
          "execution_count": 70
        }
      ]
    },
    {
      "cell_type": "code",
      "metadata": {
        "id": "oyv-yms65v5v",
        "colab_type": "code",
        "colab": {}
      },
      "source": [
        "# Asignando un alias  {b} ha peliculas que el usuario ya vio de la tabla\n",
        "b=watched_movies.alias('b')"
      ],
      "execution_count": 0,
      "outputs": []
    },
    {
      "cell_type": "code",
      "metadata": {
        "id": "2g1l6cNKIg3N",
        "colab_type": "code",
        "colab": {}
      },
      "source": [
        "#Cruzando ambas tablas\n",
        "total_movies = a.join(b, a.Nombre_comerce_new == b.Nombre_comerce_new,how='left')"
      ],
      "execution_count": 0,
      "outputs": []
    },
    {
      "cell_type": "code",
      "metadata": {
        "id": "oQSPG1WPIyHc",
        "colab_type": "code",
        "outputId": "c7c0d446-4180-498d-f9e2-0637267b5725",
        "colab": {
          "base_uri": "https://localhost:8080/",
          "height": 311
        }
      },
      "source": [
        "total_movies.show(10,False)"
      ],
      "execution_count": 73,
      "outputs": [
        {
          "output_type": "stream",
          "text": [
            "+------------------+------------------+\n",
            "|Nombre_comerce_new|Nombre_comerce_new|\n",
            "+------------------+------------------+\n",
            "|8.0               |null              |\n",
            "|0.0               |null              |\n",
            "|7.0               |7.0               |\n",
            "|49.0              |null              |\n",
            "|29.0              |null              |\n",
            "|47.0              |null              |\n",
            "|42.0              |42.0              |\n",
            "|44.0              |null              |\n",
            "|35.0              |null              |\n",
            "|18.0              |null              |\n",
            "+------------------+------------------+\n",
            "only showing top 10 rows\n",
            "\n"
          ],
          "name": "stdout"
        }
      ]
    },
    {
      "cell_type": "code",
      "metadata": {
        "id": "jTTbDE_oI4Rv",
        "colab_type": "code",
        "colab": {}
      },
      "source": [
        "# Seleccionando peliculas que el cliente aun no ha mirado\n",
        "remaining_movies=total_movies.where(col(\"b.Nombre_comerce_new\").isNull()).select(a.Nombre_comerce_new).distinct()"
      ],
      "execution_count": 0,
      "outputs": []
    },
    {
      "cell_type": "code",
      "metadata": {
        "id": "oNshK4j_JBIG",
        "colab_type": "code",
        "outputId": "dd73f0dc-87fd-4b35-9798-55445351b8ce",
        "colab": {
          "base_uri": "https://localhost:8080/",
          "height": 495
        }
      },
      "source": [
        "remaining_movies.show()"
      ],
      "execution_count": 75,
      "outputs": [
        {
          "output_type": "stream",
          "text": [
            "+------------------+\n",
            "|Nombre_comerce_new|\n",
            "+------------------+\n",
            "|               8.0|\n",
            "|               0.0|\n",
            "|              49.0|\n",
            "|              29.0|\n",
            "|              47.0|\n",
            "|              44.0|\n",
            "|              35.0|\n",
            "|              18.0|\n",
            "|               1.0|\n",
            "|              39.0|\n",
            "|              37.0|\n",
            "|              25.0|\n",
            "|              41.0|\n",
            "|               4.0|\n",
            "|              23.0|\n",
            "|              50.0|\n",
            "|              45.0|\n",
            "|              31.0|\n",
            "|              11.0|\n",
            "|              51.0|\n",
            "+------------------+\n",
            "only showing top 20 rows\n",
            "\n"
          ],
          "name": "stdout"
        }
      ]
    },
    {
      "cell_type": "code",
      "metadata": {
        "id": "0g1asm_eJMhe",
        "colab_type": "code",
        "outputId": "a8909d0a-d865-4155-d670-25dc0c5c77cd",
        "colab": {
          "base_uri": "https://localhost:8080/",
          "height": 35
        }
      },
      "source": [
        "# Numero de peliculas que los usuario aun no lo ven \n",
        "remaining_movies.count()"
      ],
      "execution_count": 76,
      "outputs": [
        {
          "output_type": "execute_result",
          "data": {
            "text/plain": [
              "47"
            ]
          },
          "metadata": {
            "tags": []
          },
          "execution_count": 76
        }
      ]
    },
    {
      "cell_type": "code",
      "metadata": {
        "id": "ZEualSXXJZfQ",
        "colab_type": "code",
        "colab": {}
      },
      "source": [
        "# Agregando una nueva columna del usuario \n",
        "remaining_movies=remaining_movies.withColumn(\"userID_cod\",lit(userID_cod))"
      ],
      "execution_count": 0,
      "outputs": []
    },
    {
      "cell_type": "code",
      "metadata": {
        "id": "mYwMGFg2Jr5L",
        "colab_type": "code",
        "outputId": "a5db0574-0432-424b-cd31-7d8a53a4e2cd",
        "colab": {
          "base_uri": "https://localhost:8080/",
          "height": 311
        }
      },
      "source": [
        "remaining_movies.show(10,False)"
      ],
      "execution_count": 81,
      "outputs": [
        {
          "output_type": "stream",
          "text": [
            "+------------------+----------+\n",
            "|Nombre_comerce_new|userID_cod|\n",
            "+------------------+----------+\n",
            "|8.0               |2         |\n",
            "|0.0               |2         |\n",
            "|49.0              |2         |\n",
            "|29.0              |2         |\n",
            "|47.0              |2         |\n",
            "|44.0              |2         |\n",
            "|35.0              |2         |\n",
            "|18.0              |2         |\n",
            "|1.0               |2         |\n",
            "|39.0              |2         |\n",
            "+------------------+----------+\n",
            "only showing top 10 rows\n",
            "\n"
          ],
          "name": "stdout"
        }
      ]
    },
    {
      "cell_type": "code",
      "metadata": {
        "id": "6VI20fG2Jy-s",
        "colab_type": "code",
        "colab": {}
      },
      "source": [
        "# Haciendo la recomendacion de peliculas utilizando el modelo recomendador ALS y seleccionado solo las mejores top {n} peliculas\n",
        "recommendations=rec_model.transform(remaining_movies).orderBy('prediction',ascending=False)"
      ],
      "execution_count": 0,
      "outputs": []
    },
    {
      "cell_type": "code",
      "metadata": {
        "id": "Vho32qWRKBYz",
        "colab_type": "code",
        "outputId": "4a28b0e1-db1c-4ab7-8076-70a1c8c6fb85",
        "colab": {
          "base_uri": "https://localhost:8080/",
          "height": 219
        }
      },
      "source": [
        "recommendations.show(5,False)"
      ],
      "execution_count": 83,
      "outputs": [
        {
          "output_type": "stream",
          "text": [
            "+------------------+----------+----------+\n",
            "|Nombre_comerce_new|userID_cod|prediction|\n",
            "+------------------+----------+----------+\n",
            "|19.0              |2         |3.4532752 |\n",
            "|12.0              |2         |3.2055366 |\n",
            "|14.0              |2         |3.0876162 |\n",
            "|0.0               |2         |2.9538298 |\n",
            "|9.0               |2         |2.6145747 |\n",
            "+------------------+----------+----------+\n",
            "only showing top 5 rows\n",
            "\n"
          ],
          "name": "stdout"
        }
      ]
    },
    {
      "cell_type": "code",
      "metadata": {
        "id": "WvNsq2skKF4t",
        "colab_type": "code",
        "colab": {}
      },
      "source": [
        "# Consiguiendo los de las peliculas sugeridas\n",
        "movie_title = IndexToString(inputCol=\"Nombre_comerce_new\", outputCol=\"title\",labels=model.labels)\n",
        "\n",
        "final_recommendations=movie_title.transform(recommendations)"
      ],
      "execution_count": 0,
      "outputs": []
    },
    {
      "cell_type": "code",
      "metadata": {
        "id": "cKjoYW7NKNkO",
        "colab_type": "code",
        "outputId": "5e0f68fa-f1ab-4de3-9464-f454ad843347",
        "colab": {
          "base_uri": "https://localhost:8080/",
          "height": 311
        }
      },
      "source": [
        "final_recommendations.show(10,False)"
      ],
      "execution_count": 85,
      "outputs": [
        {
          "output_type": "stream",
          "text": [
            "+------------------+----------+----------+-------------------------------+\n",
            "|Nombre_comerce_new|userID_cod|prediction|title                          |\n",
            "+------------------+----------+----------+-------------------------------+\n",
            "|19.0              |2         |3.4532752 |Giovannis                      |\n",
            "|12.0              |2         |3.2055366 |Restaurant Familiar El Chino   |\n",
            "|14.0              |2         |3.0876162 |Kiku Cuernavaca                |\n",
            "|0.0               |2         |2.9538298 |Rincon Huasteco                |\n",
            "|9.0               |2         |2.6145747 |Restaurante la Estrella de Dima|\n",
            "|8.0               |2         |1.8650844 |pizza clasica                  |\n",
            "|52.0              |2         |1.2629882 |la perica hamburguesa          |\n",
            "|10.0              |2         |1.1829447 |Gorditas Dona Tota             |\n",
            "|13.0              |2         |1.1794653 |Restaurant Bar Coty y Pablo    |\n",
            "|28.0              |2         |1.1113108 |cafe punta del cielo           |\n",
            "+------------------+----------+----------+-------------------------------+\n",
            "only showing top 10 rows\n",
            "\n"
          ],
          "name": "stdout"
        }
      ]
    },
    {
      "cell_type": "markdown",
      "metadata": {
        "id": "qg-eHdVRDZHq",
        "colab_type": "text"
      },
      "source": [
        "# 7. Construyendo las funcion que sugiera una pelicula recomendada segun el modelo recomendador"
      ]
    },
    {
      "cell_type": "code",
      "metadata": {
        "id": "u4LLYAgXDpnL",
        "colab_type": "code",
        "colab": {}
      },
      "source": [
        "# Funcion para recomendar las top n comercios para cualquier usuario\n",
        "def top_comercios(userID_cod,n):\n",
        "    \"\"\"\n",
        "    This function returns the top 'n' movies that user has not seen yet but might like \n",
        "    \n",
        "    \"\"\"\n",
        "    # Asignación de una lista de peliculas unicas a\n",
        "    a = unique_movies.alias('a')\n",
        "    \n",
        "    # Creando otra tabla que contiene las peliculas que ya vio el usuario\n",
        "    watched_movies=indexed.filter(indexed['userID_cod'] == userID_cod).select('Nombre_comerce_new')\n",
        "    \n",
        "    # Asignanción de tabla de peliculas b de peliculas ya vistas \n",
        "    b=watched_movies.alias('b')\n",
        "    \n",
        "    # Cruce de ambas tablas\n",
        "    total_movies = a.join(b, a.Nombre_comerce_new == b.Nombre_comerce_new,how='left')\n",
        "    \n",
        "    # Seleccionando peliculas que el usuario no ha visto aun \n",
        "    remaining_movies=total_movies.where(col(\"b.Nombre_comerce_new\").isNull()).select(a.Nombre_comerce_new).distinct()\n",
        "        \n",
        "    #Agregando una nueva columan del cliente  \n",
        "    remaining_movies=remaining_movies.withColumn(\"userID_cod\",lit(int(userID_cod)))\n",
        "    \n",
        "    # REalizando la recomendnado de peliculas mas adecuada utilizando el Sistema de recomendador del modelo ALS y seleccionando las mejores peliculas\n",
        "    recommendations=rec_model.transform(remaining_movies).orderBy('prediction',ascending=False).limit(n)\n",
        "\n",
        "    # Agregando los titulos de las peliculas en texto   \n",
        "    movie_title = IndexToString(inputCol=\"Nombre_comerce_new\", outputCol=\"title\",labels=model.labels)\n",
        "    final_recommendations=movie_title.transform(recommendations)\n",
        "    \n",
        "    # Entregando los titutlos recomendado por usuario\n",
        "    return final_recommendations.show(n,False)\n"
      ],
      "execution_count": 0,
      "outputs": []
    },
    {
      "cell_type": "code",
      "metadata": {
        "id": "raHW7tuy0fZG",
        "colab_type": "code",
        "colab": {}
      },
      "source": [
        ""
      ],
      "execution_count": 0,
      "outputs": []
    },
    {
      "cell_type": "markdown",
      "metadata": {
        "id": "GH81UzgW0irS",
        "colab_type": "text"
      },
      "source": [
        "# 8. Indique los 3 mejores restaurantes para los 3 clientes mas frecuentes y los 3 menos frecuentes"
      ]
    },
    {
      "cell_type": "code",
      "metadata": {
        "id": "ae3HUfX_1MJk",
        "colab_type": "code",
        "colab": {
          "base_uri": "https://localhost:8080/",
          "height": 311
        },
        "outputId": "1560bbb1-a7e6-47f4-d1a6-e7a152c48a02"
      },
      "source": [
        "# Clientes mas frecuentes\n",
        "DS_peliculas_rating.groupBy('userID_cod').count().orderBy('count',ascending = False).show(10,False)"
      ],
      "execution_count": 88,
      "outputs": [
        {
          "output_type": "stream",
          "text": [
            "+----------+-----+\n",
            "|userID_cod|count|\n",
            "+----------+-----+\n",
            "|25        |423  |\n",
            "|9         |401  |\n",
            "|19        |392  |\n",
            "|20        |392  |\n",
            "|4         |360  |\n",
            "|13        |360  |\n",
            "|36        |348  |\n",
            "|88        |305  |\n",
            "|26        |301  |\n",
            "|24        |294  |\n",
            "+----------+-----+\n",
            "only showing top 10 rows\n",
            "\n"
          ],
          "name": "stdout"
        }
      ]
    },
    {
      "cell_type": "code",
      "metadata": {
        "id": "qgoeuoxY2OKN",
        "colab_type": "code",
        "colab": {
          "base_uri": "https://localhost:8080/",
          "height": 458
        },
        "outputId": "4e1c000a-10a8-473a-bfc3-9a255e410915"
      },
      "source": [
        "# REvision del clientes y los 3 comercios sugeridoss para el cliente\n",
        "top_comercios(25,3)\n",
        "top_comercios(9,3)\n",
        "top_comercios(19,3)"
      ],
      "execution_count": 95,
      "outputs": [
        {
          "output_type": "stream",
          "text": [
            "+------------------+----------+----------+--------------------+\n",
            "|Nombre_comerce_new|userID_cod|prediction|title               |\n",
            "+------------------+----------+----------+--------------------+\n",
            "|28.0              |25        |14.092548 |cafe punta del cielo|\n",
            "|21.0              |25        |13.126451 |vips                |\n",
            "|1.0               |25        |11.2983265|Gordas de morales   |\n",
            "+------------------+----------+----------+--------------------+\n",
            "\n",
            "+------------------+----------+----------+-------------------------------+\n",
            "|Nombre_comerce_new|userID_cod|prediction|title                          |\n",
            "+------------------+----------+----------+-------------------------------+\n",
            "|5.0               |9         |1.6798102 |Subway                         |\n",
            "|9.0               |9         |1.6574228 |Restaurante la Estrella de Dima|\n",
            "|21.0              |9         |1.2806199 |vips                           |\n",
            "+------------------+----------+----------+-------------------------------+\n",
            "\n",
            "+------------------+----------+----------+----------+\n",
            "|Nombre_comerce_new|userID_cod|prediction|title     |\n",
            "+------------------+----------+----------+----------+\n",
            "|34.0              |19        |26.403946 |palomo tec|\n",
            "|5.0               |19        |25.281137 |Subway    |\n",
            "|21.0              |19        |19.724937 |vips      |\n",
            "+------------------+----------+----------+----------+\n",
            "\n"
          ],
          "name": "stdout"
        }
      ]
    },
    {
      "cell_type": "code",
      "metadata": {
        "id": "3o06Kl2nMt2a",
        "colab_type": "code",
        "outputId": "98d768bc-a79e-4d2f-d838-cb0241a55a5d",
        "colab": {
          "base_uri": "https://localhost:8080/",
          "height": 311
        }
      },
      "source": [
        "# Clientes menos frecuentes\n",
        "DS_peliculas_rating.groupBy('userID_cod').count().orderBy('count',ascending = True).show(10,False)"
      ],
      "execution_count": 91,
      "outputs": [
        {
          "output_type": "stream",
          "text": [
            "+----------+-----+\n",
            "|userID_cod|count|\n",
            "+----------+-----+\n",
            "|128       |19   |\n",
            "|70        |20   |\n",
            "|119       |20   |\n",
            "|118       |20   |\n",
            "|38        |35   |\n",
            "|39        |35   |\n",
            "|41        |35   |\n",
            "|97        |38   |\n",
            "|102       |38   |\n",
            "|98        |38   |\n",
            "+----------+-----+\n",
            "only showing top 10 rows\n",
            "\n"
          ],
          "name": "stdout"
        }
      ]
    },
    {
      "cell_type": "code",
      "metadata": {
        "id": "gcUiR0kN23f6",
        "colab_type": "code",
        "colab": {
          "base_uri": "https://localhost:8080/",
          "height": 605
        },
        "outputId": "ecaa032a-5947-4edb-f3d9-843a3ce4c01b"
      },
      "source": [
        "# REvision del clientes y los 3 comercios sugeridoss para el cliente\n",
        "top_comercios(128,3)\n",
        "top_comercios(70,3)\n",
        "top_comercios(119,3)\n",
        "top_comercios(118,3)\n"
      ],
      "execution_count": 96,
      "outputs": [
        {
          "output_type": "stream",
          "text": [
            "+------------------+----------+----------+--------------------+\n",
            "|Nombre_comerce_new|userID_cod|prediction|title               |\n",
            "+------------------+----------+----------+--------------------+\n",
            "|5.0               |128       |15.096736 |Subway              |\n",
            "|28.0              |128       |11.252724 |cafe punta del cielo|\n",
            "|34.0              |128       |10.996315 |palomo tec          |\n",
            "+------------------+----------+----------+--------------------+\n",
            "\n",
            "+------------------+----------+----------+----------------+\n",
            "|Nombre_comerce_new|userID_cod|prediction|title           |\n",
            "+------------------+----------+----------+----------------+\n",
            "|31.0              |70        |0.0       |El Oceano Dorado|\n",
            "|53.0              |70        |0.0       |cafe ambar      |\n",
            "|34.0              |70        |0.0       |palomo tec      |\n",
            "+------------------+----------+----------+----------------+\n",
            "\n",
            "+------------------+----------+----------+----------------------------+\n",
            "|Nombre_comerce_new|userID_cod|prediction|title                       |\n",
            "+------------------+----------+----------+----------------------------+\n",
            "|53.0              |119       |2.1231108 |cafe ambar                  |\n",
            "|12.0              |119       |1.9543817 |Restaurant Familiar El Chino|\n",
            "|19.0              |119       |1.8408086 |Giovannis                   |\n",
            "+------------------+----------+----------+----------------------------+\n",
            "\n",
            "+------------------+----------+----------+--------------------+\n",
            "|Nombre_comerce_new|userID_cod|prediction|title               |\n",
            "+------------------+----------+----------+--------------------+\n",
            "|5.0               |118       |2.5161226 |Subway              |\n",
            "|28.0              |118       |1.8754538 |cafe punta del cielo|\n",
            "|34.0              |118       |1.8327191 |palomo tec          |\n",
            "+------------------+----------+----------+--------------------+\n",
            "\n"
          ],
          "name": "stdout"
        }
      ]
    },
    {
      "cell_type": "code",
      "metadata": {
        "id": "Ta6UXr-43Fjs",
        "colab_type": "code",
        "colab": {}
      },
      "source": [
        ""
      ],
      "execution_count": 0,
      "outputs": []
    }
  ]
}