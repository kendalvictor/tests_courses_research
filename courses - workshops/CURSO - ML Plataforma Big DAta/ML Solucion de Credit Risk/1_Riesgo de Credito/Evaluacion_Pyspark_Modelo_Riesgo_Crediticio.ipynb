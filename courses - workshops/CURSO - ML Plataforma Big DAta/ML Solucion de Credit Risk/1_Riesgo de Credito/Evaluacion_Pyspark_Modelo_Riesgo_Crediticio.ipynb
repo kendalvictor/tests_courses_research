{
  "nbformat": 4,
  "nbformat_minor": 0,
  "metadata": {
    "colab": {
      "name": "Evaluacion_Pyspark_Modelo_Riesgo Crediticio.ipynb",
      "provenance": [],
      "collapsed_sections": [
        "oF06_b273tgy",
        "LjtC6NOI5OZX",
        "DaDJmWvr6Yzk",
        "JE7UVp58CjzO"
      ],
      "toc_visible": true
    },
    "kernelspec": {
      "name": "python3",
      "display_name": "Python 3"
    }
  },
  "cells": [
    {
      "cell_type": "markdown",
      "metadata": {
        "id": "oZYjeFl20oa5",
        "colab_type": "text"
      },
      "source": [
        "# 0. Instalacion de utilitarios Pyspark"
      ]
    },
    {
      "cell_type": "code",
      "metadata": {
        "id": "y6zaa4yk0uIV",
        "colab_type": "code",
        "colab": {}
      },
      "source": [
        "!apt-get install openjdk-8-jdk-headless -qq > /dev/null\n",
        "!wget -q https://www-us.apache.org/dist/spark/spark-2.3.4/spark-2.3.4-bin-hadoop2.7.tgz\n",
        "!tar xf spark-2.3.4-bin-hadoop2.7.tgz"
      ],
      "execution_count": 0,
      "outputs": []
    },
    {
      "cell_type": "code",
      "metadata": {
        "id": "c0SmG6708QQ6",
        "colab_type": "code",
        "colab": {}
      },
      "source": [
        "!apt-get install openjdk-8-jdk-headless -qq > /dev/null\n",
        "!wget -q https://www-us.apache.org/dist/spark/spark-2.4.4/spark-2.4.4-bin-hadoop2.7.tgz\n",
        "!tar xf spark-2.4.4-bin-hadoop2.7.tgz\n"
      ],
      "execution_count": 0,
      "outputs": []
    },
    {
      "cell_type": "code",
      "metadata": {
        "id": "tyor71X98igS",
        "colab_type": "code",
        "colab": {}
      },
      "source": [
        "!pip install -q findspark"
      ],
      "execution_count": 0,
      "outputs": []
    },
    {
      "cell_type": "code",
      "metadata": {
        "id": "mRsVKjDvsmoC",
        "colab_type": "code",
        "colab": {}
      },
      "source": [
        "import os\n",
        "os.environ[\"JAVA_HOME\"] = \"/usr/lib/jvm/java-8-openjdk-amd64\"\n",
        "os.environ[\"SPARK_HOME\"] = \"/content/spark-2.4.4-bin-hadoop2.7\"\n"
      ],
      "execution_count": 0,
      "outputs": []
    },
    {
      "cell_type": "code",
      "metadata": {
        "id": "OsNTQa-qsr7j",
        "colab_type": "code",
        "outputId": "bd76480e-3874-4191-ca36-9068a4ed0af1",
        "colab": {
          "base_uri": "https://localhost:8080/",
          "height": 238
        }
      },
      "source": [
        "!pip install pyspark"
      ],
      "execution_count": 5,
      "outputs": [
        {
          "output_type": "stream",
          "text": [
            "Collecting pyspark\n",
            "\u001b[?25l  Downloading https://files.pythonhosted.org/packages/87/21/f05c186f4ddb01d15d0ddc36ef4b7e3cedbeb6412274a41f26b55a650ee5/pyspark-2.4.4.tar.gz (215.7MB)\n",
            "\u001b[K     |████████████████████████████████| 215.7MB 65kB/s \n",
            "\u001b[?25hCollecting py4j==0.10.7\n",
            "\u001b[?25l  Downloading https://files.pythonhosted.org/packages/e3/53/c737818eb9a7dc32a7cd4f1396e787bd94200c3997c72c1dbe028587bd76/py4j-0.10.7-py2.py3-none-any.whl (197kB)\n",
            "\u001b[K     |████████████████████████████████| 204kB 43.8MB/s \n",
            "\u001b[?25hBuilding wheels for collected packages: pyspark\n",
            "  Building wheel for pyspark (setup.py) ... \u001b[?25l\u001b[?25hdone\n",
            "  Created wheel for pyspark: filename=pyspark-2.4.4-py2.py3-none-any.whl size=216130387 sha256=e7c861d8539c0aa2c51ccea7e4a653752b4762ac7c43e20fd0385bc77ae189f2\n",
            "  Stored in directory: /root/.cache/pip/wheels/ab/09/4d/0d184230058e654eb1b04467dbc1292f00eaa186544604b471\n",
            "Successfully built pyspark\n",
            "Installing collected packages: py4j, pyspark\n",
            "Successfully installed py4j-0.10.7 pyspark-2.4.4\n"
          ],
          "name": "stdout"
        }
      ]
    },
    {
      "cell_type": "code",
      "metadata": {
        "id": "zCKm2w9rswTv",
        "colab_type": "code",
        "colab": {}
      },
      "source": [
        "from pyspark.sql import SparkSession\n",
        "from pyspark import SparkContext\n",
        "spark = SparkSession.builder.master(\"local\").getOrCreate()\n",
        "sc = SparkContext.getOrCreate()"
      ],
      "execution_count": 0,
      "outputs": []
    },
    {
      "cell_type": "markdown",
      "metadata": {
        "id": "NXie2Umg1DZk",
        "colab_type": "text"
      },
      "source": [
        "# 1. Lectura del origen datos"
      ]
    },
    {
      "cell_type": "code",
      "metadata": {
        "id": "W-l6Pu6f1HO9",
        "colab_type": "code",
        "colab": {}
      },
      "source": [
        "# Lectura desde un archivo fisico\n",
        "\n",
        "#from google.colab import files\n",
        "#uploaded = files.upload()"
      ],
      "execution_count": 0,
      "outputs": []
    },
    {
      "cell_type": "code",
      "metadata": {
        "id": "zZL0PhM88Eys",
        "colab_type": "code",
        "outputId": "649bf629-4301-4295-abf2-b15c3f02ca17",
        "colab": {
          "base_uri": "https://localhost:8080/",
          "height": 122
        }
      },
      "source": [
        "# Conexion al drive\n",
        "#---------------------------\n",
        "from google.colab import drive\n",
        "drive.mount('/content/drive')"
      ],
      "execution_count": 7,
      "outputs": [
        {
          "output_type": "stream",
          "text": [
            "Go to this URL in a browser: https://accounts.google.com/o/oauth2/auth?client_id=947318989803-6bn6qk8qdgf4n4g3pfee6491hc0brc4i.apps.googleusercontent.com&redirect_uri=urn%3Aietf%3Awg%3Aoauth%3A2.0%3Aoob&scope=email%20https%3A%2F%2Fwww.googleapis.com%2Fauth%2Fdocs.test%20https%3A%2F%2Fwww.googleapis.com%2Fauth%2Fdrive%20https%3A%2F%2Fwww.googleapis.com%2Fauth%2Fdrive.photos.readonly%20https%3A%2F%2Fwww.googleapis.com%2Fauth%2Fpeopleapi.readonly&response_type=code\n",
            "\n",
            "Enter your authorization code:\n",
            "··········\n",
            "Mounted at /content/drive\n"
          ],
          "name": "stdout"
        }
      ]
    },
    {
      "cell_type": "code",
      "metadata": {
        "id": "BZQDnxtq2G2L",
        "colab_type": "code",
        "outputId": "b17cb0e7-bf1d-4129-a8a6-7828a2306372",
        "colab": {
          "base_uri": "https://localhost:8080/",
          "height": 51
        }
      },
      "source": [
        "ls"
      ],
      "execution_count": 8,
      "outputs": [
        {
          "output_type": "stream",
          "text": [
            "\u001b[0m\u001b[01;34mdrive\u001b[0m/        \u001b[01;34mspark-2.3.4-bin-hadoop2.7\u001b[0m/     \u001b[01;34mspark-2.4.4-bin-hadoop2.7\u001b[0m/\n",
            "\u001b[01;34msample_data\u001b[0m/  spark-2.3.4-bin-hadoop2.7.tgz  spark-2.4.4-bin-hadoop2.7.tgz\n"
          ],
          "name": "stdout"
        }
      ]
    },
    {
      "cell_type": "markdown",
      "metadata": {
        "id": "ltZocWSm2l9G",
        "colab_type": "text"
      },
      "source": [
        "#2.  Cargando los datos en formato Spark"
      ]
    },
    {
      "cell_type": "code",
      "metadata": {
        "id": "xg8zoYu62uhd",
        "colab_type": "code",
        "outputId": "46ef2d4c-61be-4d52-9a81-9c8a666b5db5",
        "colab": {
          "base_uri": "https://localhost:8080/",
          "height": 255
        }
      },
      "source": [
        "DS_Renovacion_prest = spark.read.csv('/content/drive/My Drive/UNALM/Training R ML en Casos de Negocios/2_caso negocio 2 riesgo crediticio/2_DS_creditos.csv', sep=',', header=True, inferSchema=True)\n",
        "\n",
        "# 2.1 Revision de formatos \n",
        "DS_Renovacion_prest.printSchema()"
      ],
      "execution_count": 9,
      "outputs": [
        {
          "output_type": "stream",
          "text": [
            "root\n",
            " |-- ID: integer (nullable = true)\n",
            " |-- Default: integer (nullable = true)\n",
            " |-- Prct_uso_tc: double (nullable = true)\n",
            " |-- Edad: integer (nullable = true)\n",
            " |-- Nro_prestao_retrasados: integer (nullable = true)\n",
            " |-- Prct_deuda_vs_ingresos: double (nullable = true)\n",
            " |-- Mto_ingreso_mensual: string (nullable = true)\n",
            " |-- Nro_prod_financieros_deuda: integer (nullable = true)\n",
            " |-- Nro_retraso_60dias: integer (nullable = true)\n",
            " |-- Nro_creditos_hipotecarios: integer (nullable = true)\n",
            " |-- Nro_retraso_ultm3anios: integer (nullable = true)\n",
            " |-- Nro_dependiente: string (nullable = true)\n",
            "\n"
          ],
          "name": "stdout"
        }
      ]
    },
    {
      "cell_type": "code",
      "metadata": {
        "id": "RBEt1wHV2Zy4",
        "colab_type": "code",
        "outputId": "72226f08-5da0-4d77-ab54-868190a42739",
        "colab": {
          "base_uri": "https://localhost:8080/",
          "height": 224
        }
      },
      "source": [
        "# 2.2 Revisiones  \n",
        "DS_Renovacion_prest.show(5)"
      ],
      "execution_count": 10,
      "outputs": [
        {
          "output_type": "stream",
          "text": [
            "+---+-------+-----------+----+----------------------+----------------------+-------------------+--------------------------+------------------+-------------------------+----------------------+---------------+\n",
            "| ID|Default|Prct_uso_tc|Edad|Nro_prestao_retrasados|Prct_deuda_vs_ingresos|Mto_ingreso_mensual|Nro_prod_financieros_deuda|Nro_retraso_60dias|Nro_creditos_hipotecarios|Nro_retraso_ultm3anios|Nro_dependiente|\n",
            "+---+-------+-----------+----+----------------------+----------------------+-------------------+--------------------------+------------------+-------------------------+----------------------+---------------+\n",
            "|  1|      1|0.766126609|  45|                     2|           0.802982129|               9120|                        13|                 0|                        6|                     0|              2|\n",
            "|  2|      0|0.957151019|  40|                     0|           0.121876201|               2600|                         4|                 0|                        0|                     0|              1|\n",
            "|  3|      0| 0.65818014|  38|                     1|           0.085113375|               3042|                         2|                 1|                        0|                     0|              0|\n",
            "|  4|      0|0.233809776|  30|                     0|           0.036049682|               3300|                         5|                 0|                        0|                     0|              0|\n",
            "|  5|      0|  0.9072394|  49|                     1|           0.024925695|              63588|                         7|                 0|                        1|                     0|              0|\n",
            "+---+-------+-----------+----+----------------------+----------------------+-------------------+--------------------------+------------------+-------------------------+----------------------+---------------+\n",
            "only showing top 5 rows\n",
            "\n"
          ],
          "name": "stdout"
        }
      ]
    },
    {
      "cell_type": "code",
      "metadata": {
        "id": "CpYnf-WM3iun",
        "colab_type": "code",
        "outputId": "67fb5099-2b97-4f50-bb0d-8f7ad1361c2e",
        "colab": {
          "base_uri": "https://localhost:8080/",
          "height": 34
        }
      },
      "source": [
        "# 2.3 Validacion de carga del total de registros (150,000 registros)\n",
        "print(DS_Renovacion_prest.count())"
      ],
      "execution_count": 11,
      "outputs": [
        {
          "output_type": "stream",
          "text": [
            "150000\n"
          ],
          "name": "stdout"
        }
      ]
    },
    {
      "cell_type": "code",
      "metadata": {
        "id": "7J1Stx2j9KdX",
        "colab_type": "code",
        "outputId": "430cc455-c43d-4ed5-a67f-659b9680d65c",
        "colab": {
          "base_uri": "https://localhost:8080/",
          "height": 207
        }
      },
      "source": [
        "# 2.4 Exploracion inicial\n",
        "DS_Renovacion_prest.describe().show()\n",
        "\n",
        "# mean de Default: 0.06684"
      ],
      "execution_count": 12,
      "outputs": [
        {
          "output_type": "stream",
          "text": [
            "+-------+------------------+-------------------+------------------+------------------+----------------------+----------------------+-------------------+--------------------------+-------------------+-------------------------+----------------------+------------------+\n",
            "|summary|                ID|            Default|       Prct_uso_tc|              Edad|Nro_prestao_retrasados|Prct_deuda_vs_ingresos|Mto_ingreso_mensual|Nro_prod_financieros_deuda| Nro_retraso_60dias|Nro_creditos_hipotecarios|Nro_retraso_ultm3anios|   Nro_dependiente|\n",
            "+-------+------------------+-------------------+------------------+------------------+----------------------+----------------------+-------------------+--------------------------+-------------------+-------------------------+----------------------+------------------+\n",
            "|  count|            150000|             150000|            150000|            150000|                150000|                150000|             150000|                    150000|             150000|                   150000|                150000|            150000|\n",
            "|   mean|           75000.5|            0.06684|  6.04843805466686|52.295206666666665|    0.4210333333333333|     353.0050757638672|  6670.221237392844|                   8.45276|0.26597333333333334|                  1.01824|   0.24038666666666667|0.7572222678605657|\n",
            "| stddev|43301.414526548666|0.24974553092872043|249.75537062543987|14.771865863100352|     4.192781272018327|    2037.8185231443636| 14384.674215282083|         5.145950989643292|  4.169303787594438|       1.1297709848828545|     4.155179420987195|1.1150860714871424|\n",
            "|    min|                 1|                  0|               0.0|                 0|                     0|                   0.0|                  0|                         0|                  0|                        0|                     0|                 0|\n",
            "|    max|            150000|                  1|           50708.0|               109|                    98|              329664.0|                 NA|                        58|                 98|                       54|                    98|                NA|\n",
            "+-------+------------------+-------------------+------------------+------------------+----------------------+----------------------+-------------------+--------------------------+-------------------+-------------------------+----------------------+------------------+\n",
            "\n"
          ],
          "name": "stdout"
        }
      ]
    },
    {
      "cell_type": "markdown",
      "metadata": {
        "id": "nhC6tpUw39tn",
        "colab_type": "text"
      },
      "source": [
        "# 3. Limpieza e imputacion de variables con valores vacios\n"
      ]
    },
    {
      "cell_type": "code",
      "metadata": {
        "id": "h05_VfzA4C1k",
        "colab_type": "code",
        "outputId": "97994642-6cbb-44be-b843-2130e7c79b4f",
        "colab": {
          "base_uri": "https://localhost:8080/",
          "height": 241
        }
      },
      "source": [
        "# Proceso para identificar valores nulos en cada variables\n",
        "\n",
        "from pyspark.sql.functions import col,sum\n",
        "\n",
        "DS_Renovacion_prest.select(*(sum(col(c).isNull().cast(\"int\")).alias(c) for c in DS_Renovacion_prest.columns)).show()\n",
        "\n",
        "DS_Renovacion_prest.select(*(sum(col(c).isNull().cast(\"int\")/150000).alias(c) for c in DS_Renovacion_prest.columns)).show()\n"
      ],
      "execution_count": 13,
      "outputs": [
        {
          "output_type": "stream",
          "text": [
            "+---+-------+-----------+----+----------------------+----------------------+-------------------+--------------------------+------------------+-------------------------+----------------------+---------------+\n",
            "| ID|Default|Prct_uso_tc|Edad|Nro_prestao_retrasados|Prct_deuda_vs_ingresos|Mto_ingreso_mensual|Nro_prod_financieros_deuda|Nro_retraso_60dias|Nro_creditos_hipotecarios|Nro_retraso_ultm3anios|Nro_dependiente|\n",
            "+---+-------+-----------+----+----------------------+----------------------+-------------------+--------------------------+------------------+-------------------------+----------------------+---------------+\n",
            "|  0|      0|          0|   0|                     0|                     0|                  0|                         0|                 0|                        0|                     0|              0|\n",
            "+---+-------+-----------+----+----------------------+----------------------+-------------------+--------------------------+------------------+-------------------------+----------------------+---------------+\n",
            "\n",
            "+---+-------+-----------+----+----------------------+----------------------+-------------------+--------------------------+------------------+-------------------------+----------------------+---------------+\n",
            "| ID|Default|Prct_uso_tc|Edad|Nro_prestao_retrasados|Prct_deuda_vs_ingresos|Mto_ingreso_mensual|Nro_prod_financieros_deuda|Nro_retraso_60dias|Nro_creditos_hipotecarios|Nro_retraso_ultm3anios|Nro_dependiente|\n",
            "+---+-------+-----------+----+----------------------+----------------------+-------------------+--------------------------+------------------+-------------------------+----------------------+---------------+\n",
            "|0.0|    0.0|        0.0| 0.0|                   0.0|                   0.0|                0.0|                       0.0|               0.0|                      0.0|                   0.0|            0.0|\n",
            "+---+-------+-----------+----+----------------------+----------------------+-------------------+--------------------------+------------------+-------------------------+----------------------+---------------+\n",
            "\n"
          ],
          "name": "stdout"
        }
      ]
    },
    {
      "cell_type": "code",
      "metadata": {
        "id": "erZECSLbjTdE",
        "colab_type": "code",
        "outputId": "c0c91330-abfb-4038-9b89-f37f4dc9bfbe",
        "colab": {
          "base_uri": "https://localhost:8080/",
          "height": 255
        }
      },
      "source": [
        "# No se identificaron columnas con valores nulos\n",
        "\n",
        "DS_Renovacion_prest.printSchema()"
      ],
      "execution_count": 24,
      "outputs": [
        {
          "output_type": "stream",
          "text": [
            "root\n",
            " |-- ID: integer (nullable = true)\n",
            " |-- Default: integer (nullable = true)\n",
            " |-- Prct_uso_tc: double (nullable = true)\n",
            " |-- Edad: integer (nullable = true)\n",
            " |-- Nro_prestao_retrasados: integer (nullable = true)\n",
            " |-- Prct_deuda_vs_ingresos: double (nullable = true)\n",
            " |-- Mto_ingreso_mensual: string (nullable = true)\n",
            " |-- Nro_prod_financieros_deuda: integer (nullable = true)\n",
            " |-- Nro_retraso_60dias: integer (nullable = true)\n",
            " |-- Nro_creditos_hipotecarios: integer (nullable = true)\n",
            " |-- Nro_retraso_ultm3anios: integer (nullable = true)\n",
            " |-- Nro_dependiente: string (nullable = true)\n",
            "\n"
          ],
          "name": "stdout"
        }
      ]
    },
    {
      "cell_type": "code",
      "metadata": {
        "id": "chhdHMd7uDtv",
        "colab_type": "code",
        "colab": {}
      },
      "source": [
        "# Limpiando de todos los valores nulos el data set\n",
        "# DS_Renovacion_prest=DS_Renovacion_prest.na.drop()\n",
        "\n",
        "# print(DS_Renovacion_prest.count())"
      ],
      "execution_count": 0,
      "outputs": []
    },
    {
      "cell_type": "code",
      "metadata": {
        "id": "_SCpG3aGvGB_",
        "colab_type": "code",
        "colab": {
          "base_uri": "https://localhost:8080/",
          "height": 34
        },
        "outputId": "84995581-a535-4b41-82c8-bcad0cc56049"
      },
      "source": [
        "# Revisamos cuando valores en cero\n",
        "\n",
        "DS_Renovacion_prest.filter(DS_Renovacion_prest.Mto_ingreso_mensual == 0).count()"
      ],
      "execution_count": 43,
      "outputs": [
        {
          "output_type": "execute_result",
          "data": {
            "text/plain": [
              "1634"
            ]
          },
          "metadata": {
            "tags": []
          },
          "execution_count": 43
        }
      ]
    },
    {
      "cell_type": "code",
      "metadata": {
        "id": "c2LEFKx_z4NZ",
        "colab_type": "code",
        "colab": {
          "base_uri": "https://localhost:8080/",
          "height": 34
        },
        "outputId": "868fc109-5195-47f3-96f7-300d2b79ba83"
      },
      "source": [
        "DS_Renovacion_prest.filter(DS_Renovacion_prest.Mto_ingreso_mensual > 0).count()"
      ],
      "execution_count": 44,
      "outputs": [
        {
          "output_type": "execute_result",
          "data": {
            "text/plain": [
              "118635"
            ]
          },
          "metadata": {
            "tags": []
          },
          "execution_count": 44
        }
      ]
    },
    {
      "cell_type": "code",
      "metadata": {
        "id": "FucDTpyYz7mg",
        "colab_type": "code",
        "colab": {
          "base_uri": "https://localhost:8080/",
          "height": 34
        },
        "outputId": "40c707f6-b8a6-42e9-fd89-d6f89b1876d7"
      },
      "source": [
        "DS_Renovacion_prest.filter(DS_Renovacion_prest.Mto_ingreso_mensual == \"NA\").count()"
      ],
      "execution_count": 46,
      "outputs": [
        {
          "output_type": "execute_result",
          "data": {
            "text/plain": [
              "29731"
            ]
          },
          "metadata": {
            "tags": []
          },
          "execution_count": 46
        }
      ]
    },
    {
      "cell_type": "code",
      "metadata": {
        "id": "tHsLgzmB5a2z",
        "colab_type": "code",
        "colab": {
          "base_uri": "https://localhost:8080/",
          "height": 34
        },
        "outputId": "94f7aac3-5f47-4b90-ce35-77a453e8e056"
      },
      "source": [
        "# borrador\n",
        "# from pyspark.sql import functions as F\n",
        "# DS = DS_Renovacion_prest.select(\"Mto_ingreso_mensual\", F.when(DS_Renovacion_prest.Mto_ingreso_mensual > 0, DS_Renovacion_prest.Mto_ingreso_mensual).otherwise(0).alias(\"Mto_ingreso_mensual_2\"))\n",
        "\n",
        "# DS.show()\n",
        "\n",
        "# Calculando la mediana\n",
        "from pyspark.sql.types import FloatType\n",
        "\n",
        "DS = DS_Renovacion_prest.filter(DS_Renovacion_prest.Mto_ingreso_mensual > 0)\n",
        "DS = DS.withColumn(\"Mto_ingreso_mensual\",DS[\"Mto_ingreso_mensual\"].cast(FloatType()))\n",
        "\n",
        "DS.approxQuantile(\"Mto_ingreso_mensual\",[0.5],0.25)"
      ],
      "execution_count": 65,
      "outputs": [
        {
          "output_type": "execute_result",
          "data": {
            "text/plain": [
              "[5400.0]"
            ]
          },
          "metadata": {
            "tags": []
          },
          "execution_count": 65
        }
      ]
    },
    {
      "cell_type": "code",
      "metadata": {
        "id": "lClejjEp0gGo",
        "colab_type": "code",
        "colab": {
          "base_uri": "https://localhost:8080/",
          "height": 207
        },
        "outputId": "bd70257c-78fe-46a1-ad9f-7ae15fb2886b"
      },
      "source": [
        "# Habilitamos las funciones de Pyspark, para reemplazar los \"NA\" o ceros es importante!\n",
        "\n",
        "from pyspark.sql.functions import *\n",
        "\n",
        "DS_Renovacion_prest = DS_Renovacion_prest.withColumn('Mto_ingreso_mensual', when(DS_Renovacion_prest.Mto_ingreso_mensual == \"NA\", 5400.0).otherwise(DS_Renovacion_prest.Mto_ingreso_mensual))\n",
        "\n",
        "DS_Renovacion_prest = DS_Renovacion_prest.withColumn('Mto_ingreso_mensual', when(DS_Renovacion_prest.Mto_ingreso_mensual == 0, 5400.0).otherwise(DS_Renovacion_prest.Mto_ingreso_mensual))\n",
        "\n",
        "#verificamos el reemplazamiento\n",
        "DS_Renovacion_prest.describe().show()"
      ],
      "execution_count": 63,
      "outputs": [
        {
          "output_type": "stream",
          "text": [
            "+-------+------------------+-------------------+------------------+------------------+----------------------+----------------------+-------------------+--------------------------+-------------------+-------------------------+----------------------+------------------+\n",
            "|summary|                ID|            Default|       Prct_uso_tc|              Edad|Nro_prestao_retrasados|Prct_deuda_vs_ingresos|Mto_ingreso_mensual|Nro_prod_financieros_deuda| Nro_retraso_60dias|Nro_creditos_hipotecarios|Nro_retraso_ultm3anios|   Nro_dependiente|\n",
            "+-------+------------------+-------------------+------------------+------------------+----------------------+----------------------+-------------------+--------------------------+-------------------+-------------------------+----------------------+------------------+\n",
            "|  count|            150000|             150000|            150000|            150000|                150000|                150000|             150000|                    150000|             150000|                   150000|                150000|            150000|\n",
            "|   mean|           75000.5|            0.06684|  6.04843805466686|52.295206666666665|    0.4210333333333333|     353.0050757638672|         6477.27892|                   8.45276|0.26597333333333334|                  1.01824|   0.24038666666666667|0.7572222678605657|\n",
            "| stddev|43301.414526548666|0.24974553092872043|249.75537062543987|14.771865863100352|     4.192781272018327|    2037.8185231443636| 12873.281059863988|         5.145950989643292|  4.169303787594438|       1.1297709848828545|     4.155179420987195|1.1150860714871424|\n",
            "|    min|                 1|                  0|               0.0|                 0|                     0|                   0.0|                  1|                         0|                  0|                        0|                     0|                 0|\n",
            "|    max|            150000|                  1|           50708.0|               109|                    98|              329664.0|               9999|                        58|                 98|                       54|                    98|                NA|\n",
            "+-------+------------------+-------------------+------------------+------------------+----------------------+----------------------+-------------------+--------------------------+-------------------+-------------------------+----------------------+------------------+\n",
            "\n"
          ],
          "name": "stdout"
        }
      ]
    },
    {
      "cell_type": "code",
      "metadata": {
        "id": "1-MFvPTW-0Ys",
        "colab_type": "code",
        "colab": {
          "base_uri": "https://localhost:8080/",
          "height": 272
        },
        "outputId": "b4901333-db91-41ff-ad0d-05e688029919"
      },
      "source": [
        "# Convirtiendo el tipo de dato de mto_ingreso_mensual\n",
        "\n",
        "DS_Renovacion_prest = DS_Renovacion_prest.withColumn('Mto_ingreso_mensual_num',DS_Renovacion_prest[\"Mto_ingreso_mensual\"].cast(FloatType()))\n",
        "\n",
        "DS_Renovacion_prest.printSchema()"
      ],
      "execution_count": 67,
      "outputs": [
        {
          "output_type": "stream",
          "text": [
            "root\n",
            " |-- ID: integer (nullable = true)\n",
            " |-- Default: integer (nullable = true)\n",
            " |-- Prct_uso_tc: double (nullable = true)\n",
            " |-- Edad: integer (nullable = true)\n",
            " |-- Nro_prestao_retrasados: integer (nullable = true)\n",
            " |-- Prct_deuda_vs_ingresos: double (nullable = true)\n",
            " |-- Mto_ingreso_mensual: string (nullable = true)\n",
            " |-- Nro_prod_financieros_deuda: integer (nullable = true)\n",
            " |-- Nro_retraso_60dias: integer (nullable = true)\n",
            " |-- Nro_creditos_hipotecarios: integer (nullable = true)\n",
            " |-- Nro_retraso_ultm3anios: integer (nullable = true)\n",
            " |-- Nro_dependiente: string (nullable = true)\n",
            " |-- Mto_ingreso_mensual_num: float (nullable = true)\n",
            "\n"
          ],
          "name": "stdout"
        }
      ]
    },
    {
      "cell_type": "code",
      "metadata": {
        "id": "_dLnJVZJAySU",
        "colab_type": "code",
        "colab": {
          "base_uri": "https://localhost:8080/",
          "height": 340
        },
        "outputId": "edd8580b-1f21-47db-d42a-66b9a042e678"
      },
      "source": [
        "DS_Renovacion_prest.groupBy(\"Nro_dependiente\").count().show()"
      ],
      "execution_count": 69,
      "outputs": [
        {
          "output_type": "stream",
          "text": [
            "+---------------+-----+\n",
            "|Nro_dependiente|count|\n",
            "+---------------+-----+\n",
            "|              7|   51|\n",
            "|              3| 9483|\n",
            "|              8|   24|\n",
            "|              0|86902|\n",
            "|             NA| 3924|\n",
            "|              5|  746|\n",
            "|              6|  158|\n",
            "|              9|    5|\n",
            "|              1|26316|\n",
            "|             20|    1|\n",
            "|             10|    5|\n",
            "|              4| 2862|\n",
            "|             13|    1|\n",
            "|              2|19522|\n",
            "+---------------+-----+\n",
            "\n"
          ],
          "name": "stdout"
        }
      ]
    },
    {
      "cell_type": "code",
      "metadata": {
        "id": "aL__JB-LBXNR",
        "colab_type": "code",
        "colab": {
          "base_uri": "https://localhost:8080/",
          "height": 34
        },
        "outputId": "873f8e56-aa75-4440-8b8a-f1b3a2e12210"
      },
      "source": [
        "# Analizamos ahora el nro de dependientes\n",
        "\n",
        "# Calculando la mediana\n",
        "from pyspark.sql.types import FloatType\n",
        "\n",
        "DS = DS_Renovacion_prest.filter(DS_Renovacion_prest.Nro_dependiente != 'NA')\n",
        "DS = DS.withColumn(\"Nro_dependiente\",DS[\"Nro_dependiente\"].cast(FloatType()))\n",
        "\n",
        "DS.approxQuantile(\"Nro_dependiente\",[0.5],0.25)"
      ],
      "execution_count": 70,
      "outputs": [
        {
          "output_type": "execute_result",
          "data": {
            "text/plain": [
              "[0.0]"
            ]
          },
          "metadata": {
            "tags": []
          },
          "execution_count": 70
        }
      ]
    },
    {
      "cell_type": "code",
      "metadata": {
        "id": "J7oMcrLZBLRw",
        "colab_type": "code",
        "colab": {
          "base_uri": "https://localhost:8080/",
          "height": 207
        },
        "outputId": "f3f6a178-896d-43d9-9075-8d6cbf5776ec"
      },
      "source": [
        "# Reemplazamos el nro_dependiente\n",
        "DS_Renovacion_prest = DS_Renovacion_prest.withColumn('Nro_dependiente', when(DS_Renovacion_prest.Nro_dependiente == 'NA', 0).otherwise(DS_Renovacion_prest.Nro_dependiente))\n",
        "\n",
        "#verificamos el reemplazamiento\n",
        "DS_Renovacion_prest.describe().show()"
      ],
      "execution_count": 71,
      "outputs": [
        {
          "output_type": "stream",
          "text": [
            "+-------+------------------+-------------------+------------------+------------------+----------------------+----------------------+-------------------+--------------------------+-------------------+-------------------------+----------------------+------------------+-----------------------+\n",
            "|summary|                ID|            Default|       Prct_uso_tc|              Edad|Nro_prestao_retrasados|Prct_deuda_vs_ingresos|Mto_ingreso_mensual|Nro_prod_financieros_deuda| Nro_retraso_60dias|Nro_creditos_hipotecarios|Nro_retraso_ultm3anios|   Nro_dependiente|Mto_ingreso_mensual_num|\n",
            "+-------+------------------+-------------------+------------------+------------------+----------------------+----------------------+-------------------+--------------------------+-------------------+-------------------------+----------------------+------------------+-----------------------+\n",
            "|  count|            150000|             150000|            150000|            150000|                150000|                150000|             150000|                    150000|             150000|                   150000|                150000|            150000|                 150000|\n",
            "|   mean|           75000.5|            0.06684|  6.04843805466686|52.295206666666665|    0.4210333333333333|     353.0050757638672|         6477.27892|                   8.45276|0.26597333333333334|                  1.01824|   0.24038666666666667|0.7374133333333334|             6477.27892|\n",
            "| stddev|43301.414526548666|0.24974553092872043|249.75537062543987|14.771865863100352|     4.192781272018327|    2037.8185231443636| 12873.281059863988|         5.145950989643292|  4.169303787594438|       1.1297709848828545|     4.155179420987195|1.1070214146370256|     12873.281059863988|\n",
            "|    min|                 1|                  0|               0.0|                 0|                     0|                   0.0|                  1|                         0|                  0|                        0|                     0|                 0|                    1.0|\n",
            "|    max|            150000|                  1|           50708.0|               109|                    98|              329664.0|               9999|                        58|                 98|                       54|                    98|                 9|              3008750.0|\n",
            "+-------+------------------+-------------------+------------------+------------------+----------------------+----------------------+-------------------+--------------------------+-------------------+-------------------------+----------------------+------------------+-----------------------+\n",
            "\n"
          ],
          "name": "stdout"
        }
      ]
    },
    {
      "cell_type": "code",
      "metadata": {
        "id": "tDZ_qeZ3B3NF",
        "colab_type": "code",
        "colab": {
          "base_uri": "https://localhost:8080/",
          "height": 289
        },
        "outputId": "7f823542-fe50-474f-fe69-48d7e0f6faca"
      },
      "source": [
        "# Convirtiendo el tipo de dato de Nro_dependiente\n",
        "\n",
        "from pyspark.sql.types import IntegerType\n",
        "\n",
        "DS_Renovacion_prest = DS_Renovacion_prest.withColumn('Nro_dependiente_num',DS_Renovacion_prest[\"Nro_dependiente\"].cast(IntegerType()))\n",
        "\n",
        "DS_Renovacion_prest.printSchema()"
      ],
      "execution_count": 74,
      "outputs": [
        {
          "output_type": "stream",
          "text": [
            "root\n",
            " |-- ID: integer (nullable = true)\n",
            " |-- Default: integer (nullable = true)\n",
            " |-- Prct_uso_tc: double (nullable = true)\n",
            " |-- Edad: integer (nullable = true)\n",
            " |-- Nro_prestao_retrasados: integer (nullable = true)\n",
            " |-- Prct_deuda_vs_ingresos: double (nullable = true)\n",
            " |-- Mto_ingreso_mensual: string (nullable = true)\n",
            " |-- Nro_prod_financieros_deuda: integer (nullable = true)\n",
            " |-- Nro_retraso_60dias: integer (nullable = true)\n",
            " |-- Nro_creditos_hipotecarios: integer (nullable = true)\n",
            " |-- Nro_retraso_ultm3anios: integer (nullable = true)\n",
            " |-- Nro_dependiente: string (nullable = true)\n",
            " |-- Mto_ingreso_mensual_num: float (nullable = true)\n",
            " |-- Nro_dependiente_num: integer (nullable = true)\n",
            "\n"
          ],
          "name": "stdout"
        }
      ]
    },
    {
      "cell_type": "code",
      "metadata": {
        "id": "p5Wv5c0lKfPX",
        "colab_type": "code",
        "colab": {
          "base_uri": "https://localhost:8080/",
          "height": 374
        },
        "outputId": "72a28d26-c4d8-4c8b-871b-6d0c5b255e03"
      },
      "source": [
        "DS_Renovacion_prest.groupBy(\"Nro_prestao_retrasados\").count().show()"
      ],
      "execution_count": 88,
      "outputs": [
        {
          "output_type": "stream",
          "text": [
            "+----------------------+------+\n",
            "|Nro_prestao_retrasados| count|\n",
            "+----------------------+------+\n",
            "|                    12|     2|\n",
            "|                     1| 16033|\n",
            "|                    13|     1|\n",
            "|                     6|   140|\n",
            "|                     3|  1754|\n",
            "|                    96|     5|\n",
            "|                     5|   342|\n",
            "|                     9|    12|\n",
            "|                     4|   747|\n",
            "|                     8|    25|\n",
            "|                     7|    54|\n",
            "|                    10|     4|\n",
            "|                    98|   264|\n",
            "|                    11|     1|\n",
            "|                     2|  4598|\n",
            "|                     0|126018|\n",
            "+----------------------+------+\n",
            "\n"
          ],
          "name": "stdout"
        }
      ]
    },
    {
      "cell_type": "markdown",
      "metadata": {
        "id": "xgUobOLemd25",
        "colab_type": "text"
      },
      "source": [
        "# 4. Exploracion de datos"
      ]
    },
    {
      "cell_type": "code",
      "metadata": {
        "id": "bBgycnsdm9_3",
        "colab_type": "code",
        "outputId": "46f0b358-b764-407c-ae20-e97ab7f43dae",
        "colab": {
          "base_uri": "https://localhost:8080/",
          "height": 153
        }
      },
      "source": [
        "#4.2 Variable objetivo\n",
        "\n",
        "print(DS_Renovacion_prest.count())\n",
        "DS_Renovacion_prest.groupBy('Default').count().show()\n",
        "\n",
        "# % en Default (10,026/150000) = 0.06684"
      ],
      "execution_count": 75,
      "outputs": [
        {
          "output_type": "stream",
          "text": [
            "150000\n",
            "+-------+------+\n",
            "|Default| count|\n",
            "+-------+------+\n",
            "|      1| 10026|\n",
            "|      0|139974|\n",
            "+-------+------+\n",
            "\n"
          ],
          "name": "stdout"
        }
      ]
    },
    {
      "cell_type": "markdown",
      "metadata": {
        "id": "0DwA2lQfDXJH",
        "colab_type": "text"
      },
      "source": [
        "# 5. Analisis de relevancia del cliente automatizada (Information Value)"
      ]
    },
    {
      "cell_type": "code",
      "metadata": {
        "id": "2nnoz6uLDi7N",
        "colab_type": "code",
        "colab": {
          "base_uri": "https://localhost:8080/",
          "height": 408
        },
        "outputId": "2da2b170-d317-4e3d-b9ae-4d7842f440ae"
      },
      "source": [
        "!pip install scorecardpy"
      ],
      "execution_count": 76,
      "outputs": [
        {
          "output_type": "stream",
          "text": [
            "Collecting scorecardpy\n",
            "\u001b[?25l  Downloading https://files.pythonhosted.org/packages/b3/fd/be6c15335e537d2360f85823cbb0b1c02cdd2ed9ff52539db78545db7115/scorecardpy-0.1.9.1.1.tar.gz (55kB)\n",
            "\r\u001b[K     |██████                          | 10kB 15.3MB/s eta 0:00:01\r\u001b[K     |███████████▉                    | 20kB 1.7MB/s eta 0:00:01\r\u001b[K     |█████████████████▉              | 30kB 2.5MB/s eta 0:00:01\r\u001b[K     |███████████████████████▊        | 40kB 1.7MB/s eta 0:00:01\r\u001b[K     |█████████████████████████████▋  | 51kB 2.0MB/s eta 0:00:01\r\u001b[K     |████████████████████████████████| 61kB 1.8MB/s \n",
            "\u001b[?25hRequirement already satisfied: numpy in /usr/local/lib/python3.6/dist-packages (from scorecardpy) (1.17.3)\n",
            "Requirement already satisfied: pandas>=0.25.0 in /usr/local/lib/python3.6/dist-packages (from scorecardpy) (0.25.3)\n",
            "Requirement already satisfied: matplotlib in /usr/local/lib/python3.6/dist-packages (from scorecardpy) (3.1.1)\n",
            "Requirement already satisfied: scikit-learn>=0.19.1 in /usr/local/lib/python3.6/dist-packages (from scorecardpy) (0.21.3)\n",
            "Requirement already satisfied: python-dateutil>=2.6.1 in /usr/local/lib/python3.6/dist-packages (from pandas>=0.25.0->scorecardpy) (2.6.1)\n",
            "Requirement already satisfied: pytz>=2017.2 in /usr/local/lib/python3.6/dist-packages (from pandas>=0.25.0->scorecardpy) (2018.9)\n",
            "Requirement already satisfied: cycler>=0.10 in /usr/local/lib/python3.6/dist-packages (from matplotlib->scorecardpy) (0.10.0)\n",
            "Requirement already satisfied: kiwisolver>=1.0.1 in /usr/local/lib/python3.6/dist-packages (from matplotlib->scorecardpy) (1.1.0)\n",
            "Requirement already satisfied: pyparsing!=2.0.4,!=2.1.2,!=2.1.6,>=2.0.1 in /usr/local/lib/python3.6/dist-packages (from matplotlib->scorecardpy) (2.4.2)\n",
            "Requirement already satisfied: joblib>=0.11 in /usr/local/lib/python3.6/dist-packages (from scikit-learn>=0.19.1->scorecardpy) (0.14.0)\n",
            "Requirement already satisfied: scipy>=0.17.0 in /usr/local/lib/python3.6/dist-packages (from scikit-learn>=0.19.1->scorecardpy) (1.3.1)\n",
            "Requirement already satisfied: six>=1.5 in /usr/local/lib/python3.6/dist-packages (from python-dateutil>=2.6.1->pandas>=0.25.0->scorecardpy) (1.12.0)\n",
            "Requirement already satisfied: setuptools in /usr/local/lib/python3.6/dist-packages (from kiwisolver>=1.0.1->matplotlib->scorecardpy) (41.4.0)\n",
            "Building wheels for collected packages: scorecardpy\n",
            "  Building wheel for scorecardpy (setup.py) ... \u001b[?25l\u001b[?25hdone\n",
            "  Created wheel for scorecardpy: filename=scorecardpy-0.1.9.1.1-cp36-none-any.whl size=58169 sha256=ce86a4baea2c9c1dbe48798c2edab8c8786a5fe9b124253ab3e1baa8102450c5\n",
            "  Stored in directory: /root/.cache/pip/wheels/8f/4c/98/567ff70984acd88ffae211d8fc209e34b98fb43ff27f09fdd3\n",
            "Successfully built scorecardpy\n",
            "Installing collected packages: scorecardpy\n",
            "Successfully installed scorecardpy-0.1.9.1.1\n"
          ],
          "name": "stdout"
        }
      ]
    },
    {
      "cell_type": "code",
      "metadata": {
        "id": "4Zebi-I0D3M1",
        "colab_type": "code",
        "colab": {}
      },
      "source": [
        "import scorecardpy as sc\n",
        "import pandas as pd"
      ],
      "execution_count": 0,
      "outputs": []
    },
    {
      "cell_type": "code",
      "metadata": {
        "id": "IInZuI-fD5mt",
        "colab_type": "code",
        "colab": {
          "base_uri": "https://localhost:8080/",
          "height": 34
        },
        "outputId": "cf143626-19bc-479a-8ee5-42a847602aa5"
      },
      "source": [
        "type(DS_Renovacion_prest)"
      ],
      "execution_count": 79,
      "outputs": [
        {
          "output_type": "execute_result",
          "data": {
            "text/plain": [
              "pyspark.sql.dataframe.DataFrame"
            ]
          },
          "metadata": {
            "tags": []
          },
          "execution_count": 79
        }
      ]
    },
    {
      "cell_type": "code",
      "metadata": {
        "id": "5v_rMdH-D-Zl",
        "colab_type": "code",
        "colab": {}
      },
      "source": [
        "DS_Renovacion_prest = DS_Renovacion_prest.drop(\"ID\",\"Mto_ingreso_mensual\",\"Nro_dependiente\")"
      ],
      "execution_count": 0,
      "outputs": []
    },
    {
      "cell_type": "code",
      "metadata": {
        "id": "bfw9wayWEivN",
        "colab_type": "code",
        "colab": {}
      },
      "source": [
        "df = DS_Renovacion_prest.toPandas()"
      ],
      "execution_count": 0,
      "outputs": []
    },
    {
      "cell_type": "code",
      "metadata": {
        "id": "0VjAOXYxEpUz",
        "colab_type": "code",
        "colab": {
          "base_uri": "https://localhost:8080/",
          "height": 34
        },
        "outputId": "940ee2e5-4653-4fec-c463-0c1fd96e4c7d"
      },
      "source": [
        "type(df)"
      ],
      "execution_count": 82,
      "outputs": [
        {
          "output_type": "execute_result",
          "data": {
            "text/plain": [
              "pandas.core.frame.DataFrame"
            ]
          },
          "metadata": {
            "tags": []
          },
          "execution_count": 82
        }
      ]
    },
    {
      "cell_type": "code",
      "metadata": {
        "id": "7k0fJrQrExuz",
        "colab_type": "code",
        "colab": {
          "base_uri": "https://localhost:8080/",
          "height": 68
        },
        "outputId": "f7d376bc-db79-4736-a5bd-576b89c47cee"
      },
      "source": [
        "# Formato de variables ScorecardPy\n",
        "dt_s = sc.var_filter(df, y=\"Default\")"
      ],
      "execution_count": 83,
      "outputs": [
        {
          "output_type": "stream",
          "text": [
            "[INFO] filtering variables ...\n",
            "Variable filtering on 150000 rows and 11 columns in 00:05:50 \n",
            "0 variables are removed\n"
          ],
          "name": "stdout"
        }
      ]
    },
    {
      "cell_type": "code",
      "metadata": {
        "id": "9FRdEBFkE6e8",
        "colab_type": "code",
        "colab": {
          "base_uri": "https://localhost:8080/",
          "height": 359
        },
        "outputId": "62860f49-3be7-4892-d4d5-812814d27a6a"
      },
      "source": [
        "#Ranking de Variables\n",
        "sc.iv(df, y=\"Default\")"
      ],
      "execution_count": 84,
      "outputs": [
        {
          "output_type": "execute_result",
          "data": {
            "text/html": [
              "<div>\n",
              "<style scoped>\n",
              "    .dataframe tbody tr th:only-of-type {\n",
              "        vertical-align: middle;\n",
              "    }\n",
              "\n",
              "    .dataframe tbody tr th {\n",
              "        vertical-align: top;\n",
              "    }\n",
              "\n",
              "    .dataframe thead th {\n",
              "        text-align: right;\n",
              "    }\n",
              "</style>\n",
              "<table border=\"1\" class=\"dataframe\">\n",
              "  <thead>\n",
              "    <tr style=\"text-align: right;\">\n",
              "      <th></th>\n",
              "      <th>variable</th>\n",
              "      <th>info_value</th>\n",
              "    </tr>\n",
              "  </thead>\n",
              "  <tbody>\n",
              "    <tr>\n",
              "      <th>7</th>\n",
              "      <td>Nro_retraso_60dias</td>\n",
              "      <td>0.881208</td>\n",
              "    </tr>\n",
              "    <tr>\n",
              "      <th>4</th>\n",
              "      <td>Mto_ingreso_mensual_num</td>\n",
              "      <td>0.835795</td>\n",
              "    </tr>\n",
              "    <tr>\n",
              "      <th>6</th>\n",
              "      <td>Nro_prestao_retrasados</td>\n",
              "      <td>0.761158</td>\n",
              "    </tr>\n",
              "    <tr>\n",
              "      <th>8</th>\n",
              "      <td>Nro_retraso_ultm3anios</td>\n",
              "      <td>0.601024</td>\n",
              "    </tr>\n",
              "    <tr>\n",
              "      <th>1</th>\n",
              "      <td>Prct_deuda_vs_ingresos</td>\n",
              "      <td>0.406449</td>\n",
              "    </tr>\n",
              "    <tr>\n",
              "      <th>0</th>\n",
              "      <td>Prct_uso_tc</td>\n",
              "      <td>0.307700</td>\n",
              "    </tr>\n",
              "    <tr>\n",
              "      <th>5</th>\n",
              "      <td>Edad</td>\n",
              "      <td>0.274367</td>\n",
              "    </tr>\n",
              "    <tr>\n",
              "      <th>9</th>\n",
              "      <td>Nro_prod_financieros_deuda</td>\n",
              "      <td>0.116379</td>\n",
              "    </tr>\n",
              "    <tr>\n",
              "      <th>3</th>\n",
              "      <td>Nro_creditos_hipotecarios</td>\n",
              "      <td>0.068348</td>\n",
              "    </tr>\n",
              "    <tr>\n",
              "      <th>2</th>\n",
              "      <td>Nro_dependiente_num</td>\n",
              "      <td>0.035484</td>\n",
              "    </tr>\n",
              "  </tbody>\n",
              "</table>\n",
              "</div>"
            ],
            "text/plain": [
              "                     variable  info_value\n",
              "7          Nro_retraso_60dias    0.881208\n",
              "4     Mto_ingreso_mensual_num    0.835795\n",
              "6      Nro_prestao_retrasados    0.761158\n",
              "8      Nro_retraso_ultm3anios    0.601024\n",
              "1      Prct_deuda_vs_ingresos    0.406449\n",
              "0                 Prct_uso_tc    0.307700\n",
              "5                        Edad    0.274367\n",
              "9  Nro_prod_financieros_deuda    0.116379\n",
              "3   Nro_creditos_hipotecarios    0.068348\n",
              "2         Nro_dependiente_num    0.035484"
            ]
          },
          "metadata": {
            "tags": []
          },
          "execution_count": 84
        }
      ]
    },
    {
      "cell_type": "code",
      "metadata": {
        "id": "VnZ6GbxhH3qj",
        "colab_type": "code",
        "colab": {
          "base_uri": "https://localhost:8080/",
          "height": 51
        },
        "outputId": "fc295dbd-2f46-4cd3-d2ad-1049ef70857a"
      },
      "source": [
        "bins = sc.woebin(dt_s, y=\"Default\")"
      ],
      "execution_count": 86,
      "outputs": [
        {
          "output_type": "stream",
          "text": [
            "[INFO] creating woe binning ...\n",
            "Binning on 150000 rows and 11 columns in 00:00:14\n"
          ],
          "name": "stdout"
        }
      ]
    },
    {
      "cell_type": "code",
      "metadata": {
        "id": "HYE0K4TtIjFi",
        "colab_type": "code",
        "colab": {
          "base_uri": "https://localhost:8080/",
          "height": 1000
        },
        "outputId": "b76fa433-8e28-4d92-bc7e-8a2d43272153"
      },
      "source": [
        "sc.woebin_plot(bins)"
      ],
      "execution_count": 87,
      "outputs": [
        {
          "output_type": "execute_result",
          "data": {
            "text/plain": [
              "{'Edad': <Figure size 432x288 with 2 Axes>,\n",
              " 'Mto_ingreso_mensual_num': <Figure size 432x288 with 2 Axes>,\n",
              " 'Nro_creditos_hipotecarios': <Figure size 432x288 with 2 Axes>,\n",
              " 'Nro_dependiente_num': <Figure size 432x288 with 2 Axes>,\n",
              " 'Nro_prestao_retrasados': <Figure size 432x288 with 2 Axes>,\n",
              " 'Nro_prod_financieros_deuda': <Figure size 432x288 with 2 Axes>,\n",
              " 'Nro_retraso_60dias': <Figure size 432x288 with 2 Axes>,\n",
              " 'Nro_retraso_ultm3anios': <Figure size 432x288 with 2 Axes>,\n",
              " 'Prct_deuda_vs_ingresos': <Figure size 432x288 with 2 Axes>,\n",
              " 'Prct_uso_tc': <Figure size 432x288 with 2 Axes>}"
            ]
          },
          "metadata": {
            "tags": []
          },
          "execution_count": 87
        },
        {
          "output_type": "display_data",
          "data": {
            "image/png": "[encoded data removed]",
            "text/plain": [
              "<Figure size 432x288 with 2 Axes>"
            ]
          },
          "metadata": {
            "tags": []
          }
        },
        {
          "output_type": "display_data",
          "data": {
            "image/png": "[encoded data removed]",
            "text/plain": [
              "<Figure size 432x288 with 2 Axes>"
            ]
          },
          "metadata": {
            "tags": []
          }
        },
        {
          "output_type": "display_data",
          "data": {
            "image/png": "[encoded data removed]",
            "text/plain": [
              "<Figure size 432x288 with 2 Axes>"
            ]
          },
          "metadata": {
            "tags": []
          }
        },
        {
          "output_type": "display_data",
          "data": {
            "image/png": "[encoded data removed]",
            "text/plain": [
              "<Figure size 432x288 with 2 Axes>"
            ]
          },
          "metadata": {
            "tags": []
          }
        },
        {
          "output_type": "display_data",
          "data": {
            "image/png": "[encoded data removed]",
            "text/plain": [
              "<Figure size 432x288 with 2 Axes>"
            ]
          },
          "metadata": {
            "tags": []
          }
        },
        {
          "output_type": "display_data",
          "data": {
            "image/png": "[encoded data removed]",
            "text/plain": [
              "<Figure size 432x288 with 2 Axes>"
            ]
          },
          "metadata": {
            "tags": []
          }
        },
        {
          "output_type": "display_data",
          "data": {
            "image/png": "[encoded data removed]",
            "text/plain": [
              "<Figure size 432x288 with 2 Axes>"
            ]
          },
          "metadata": {
            "tags": []
          }
        },
        {
          "output_type": "display_data",
          "data": {
            "image/png": "[encoded data removed]",
            "text/plain": [
              "<Figure size 432x288 with 2 Axes>"
            ]
          },
          "metadata": {
            "tags": []
          }
        },
        {
          "output_type": "display_data",
          "data": {
            "image/png": "[encoded data removed]",
            "text/plain": [
              "<Figure size 432x288 with 2 Axes>"
            ]
          },
          "metadata": {
            "tags": []
          }
        },
        {
          "output_type": "display_data",
          "data": {
            "image/png": "[encoded data removed]",
            "text/plain": [
              "<Figure size 432x288 with 2 Axes>"
            ]
          },
          "metadata": {
            "tags": []
          }
        }
      ]
    },
    {
      "cell_type": "code",
      "metadata": {
        "id": "XY8xFfejIc_A",
        "colab_type": "code",
        "colab": {}
      },
      "source": [
        "# training_df,test_df = model_df_Renovacion_prest.randomSplit([0.7,0.3],seed=1234)"
      ],
      "execution_count": 0,
      "outputs": []
    },
    {
      "cell_type": "markdown",
      "metadata": {
        "id": "hSEgqY-EpCYi",
        "colab_type": "text"
      },
      "source": [
        "# 5. Relevancia y transformacion de variables "
      ]
    },
    {
      "cell_type": "code",
      "metadata": {
        "id": "DmVUSxsmpJ4M",
        "colab_type": "code",
        "colab": {}
      },
      "source": [
        "# No hay necesidad de convertir variables de tipo categoria a numericas porque no hay\n",
        "\n",
        "# StringIndexer> Crea columnas por valor distinto de una variable categorica\n",
        "\n",
        "# Metodo de transformacion: Generando valores por cada categoria\n",
        "#----------------------------------------------------\n",
        "from pyspark.ml.feature import StringIndexer \n",
        "from pyspark.ml.feature import VectorAssembler  \n",
        "\n",
        "# Transformacion\n",
        "# region_indexer = StringIndexer(inputCol=\"REGION\", outputCol=\"REGION_Numerico\").fit(DS_Renovacion_prest)\n",
        "\n",
        "# DS_Renovacion_prest = region_indexer.transform(DS_Renovacion_prest)\n",
        "\n",
        "# DS_Renovacion_prest.show(5,False)\n"
      ],
      "execution_count": 0,
      "outputs": []
    },
    {
      "cell_type": "code",
      "metadata": {
        "id": "kP7KuqQbz7UD",
        "colab_type": "code",
        "colab": {}
      },
      "source": [
        "##############################################  A PARTIR DE AQUI PROBAMOS DISTINTAS COMBINACIONES #############################################\n",
        "\n",
        "# Consolidacion de variables\n",
        "\n",
        "# ESCENARIO 1: \n",
        "\n",
        "# Correr esta parte si la columna features ya existe\n",
        "# DS_Renovacion_prest = DS_Renovacion_prest.drop(\"features\")\n",
        "\n",
        "df_assembler = VectorAssembler(inputCols=['Nro_retraso_60dias','Mto_ingreso_mensual_num','Nro_prestao_retrasados','Nro_retraso_ultm3anios','Prct_deuda_vs_ingresos'], outputCol=\"features\")\n",
        "\n",
        "DS_Renovacion_prest = df_assembler.transform(DS_Renovacion_prest)"
      ],
      "execution_count": 0,
      "outputs": []
    },
    {
      "cell_type": "code",
      "metadata": {
        "id": "z4fUBfZ03t4Z",
        "colab_type": "code",
        "outputId": "28eaad6b-dbf1-4420-ee8c-33bf7c15681b",
        "colab": {
          "base_uri": "https://localhost:8080/",
          "height": 170
        }
      },
      "source": [
        "#Revision\n",
        "\n",
        "#DS_Renovacion_prest.printSchema()\n",
        "DS_Renovacion_prest.select('Default','features').show(3,False)"
      ],
      "execution_count": 92,
      "outputs": [
        {
          "output_type": "stream",
          "text": [
            "+-------+--------------------------------+\n",
            "|Default|features                        |\n",
            "+-------+--------------------------------+\n",
            "|1      |[0.0,9120.0,2.0,0.0,0.802982129]|\n",
            "|0      |(5,[1,4],[2600.0,0.121876201])  |\n",
            "|0      |[1.0,3042.0,1.0,0.0,0.085113375]|\n",
            "+-------+--------------------------------+\n",
            "only showing top 3 rows\n",
            "\n"
          ],
          "name": "stdout"
        }
      ]
    },
    {
      "cell_type": "code",
      "metadata": {
        "id": "9WAypfzI4NIZ",
        "colab_type": "code",
        "colab": {}
      },
      "source": [
        "#Matriz de Modelamiento\n",
        "model_df_Renovacion_prest=DS_Renovacion_prest.select('Default','features')"
      ],
      "execution_count": 0,
      "outputs": []
    },
    {
      "cell_type": "markdown",
      "metadata": {
        "id": "KG2wbeNe4hDU",
        "colab_type": "text"
      },
      "source": [
        "# 6. Entrenamiento del Algoritmo (Regresion Logistica)"
      ]
    },
    {
      "cell_type": "code",
      "metadata": {
        "id": "06wR5qaF4pLL",
        "colab_type": "code",
        "outputId": "2eecd06c-ec3d-4f57-a332-9c03b98375ac",
        "colab": {
          "base_uri": "https://localhost:8080/",
          "height": 34
        }
      },
      "source": [
        "# Definicion de muestra de entrenamiento y Validacion\n",
        "\n",
        "training_df,test_df = model_df_Renovacion_prest.randomSplit([0.7,0.3],seed=1234)\n",
        "\n",
        "# Tamaño de muestra\n",
        "print(training_df.count(),test_df.count())\n"
      ],
      "execution_count": 94,
      "outputs": [
        {
          "output_type": "stream",
          "text": [
            "105251 44749\n"
          ],
          "name": "stdout"
        }
      ]
    },
    {
      "cell_type": "code",
      "metadata": {
        "id": "M7CROc7g7igH",
        "colab_type": "code",
        "outputId": "9a6dd506-9ba9-4ff9-d8b6-9e096e347e57",
        "colab": {
          "base_uri": "https://localhost:8080/",
          "height": 187
        }
      },
      "source": [
        "training_df.describe().show()"
      ],
      "execution_count": 95,
      "outputs": [
        {
          "output_type": "stream",
          "text": [
            "+-------+-------------------+\n",
            "|summary|            Default|\n",
            "+-------+-------------------+\n",
            "|  count|             105251|\n",
            "|   mean|0.06750529686178754|\n",
            "| stddev| 0.2508962531432095|\n",
            "|    min|                  0|\n",
            "|    max|                  1|\n",
            "+-------+-------------------+\n",
            "\n"
          ],
          "name": "stdout"
        }
      ]
    },
    {
      "cell_type": "code",
      "metadata": {
        "id": "foJpF33a7p7u",
        "colab_type": "code",
        "outputId": "71f3df0f-d88e-4a18-c8b5-b91b44caa2ec",
        "colab": {
          "base_uri": "https://localhost:8080/",
          "height": 187
        }
      },
      "source": [
        "test_df.describe().show()"
      ],
      "execution_count": 96,
      "outputs": [
        {
          "output_type": "stream",
          "text": [
            "+-------+-------------------+\n",
            "|summary|            Default|\n",
            "+-------+-------------------+\n",
            "|  count|              44749|\n",
            "|   mean|0.06527520168048448|\n",
            "| stddev|0.24701358917304803|\n",
            "|    min|                  0|\n",
            "|    max|                  1|\n",
            "+-------+-------------------+\n",
            "\n"
          ],
          "name": "stdout"
        }
      ]
    },
    {
      "cell_type": "code",
      "metadata": {
        "id": "taX8DiH85XBQ",
        "colab_type": "code",
        "colab": {}
      },
      "source": [
        "# Modelamiento de Regresion Logistica\n",
        "\n",
        "from pyspark.ml.classification import LogisticRegression\n",
        "\n",
        "log_reg=LogisticRegression(maxIter = 10,labelCol='Default').fit(training_df)"
      ],
      "execution_count": 0,
      "outputs": []
    },
    {
      "cell_type": "code",
      "metadata": {
        "id": "XBoqyCAU51sv",
        "colab_type": "code",
        "outputId": "a9e26781-1a17-4462-d244-b3a3c75243bd",
        "colab": {
          "base_uri": "https://localhost:8080/",
          "height": 34
        }
      },
      "source": [
        "# Revision\n",
        "log_reg.coefficients"
      ],
      "execution_count": 98,
      "outputs": [
        {
          "output_type": "execute_result",
          "data": {
            "text/plain": [
              "DenseVector([0.1512, -0.0001, 0.5122, -0.6144, -0.0])"
            ]
          },
          "metadata": {
            "tags": []
          },
          "execution_count": 98
        }
      ]
    },
    {
      "cell_type": "code",
      "metadata": {
        "id": "oyv-yms65v5v",
        "colab_type": "code",
        "outputId": "c5d6cd59-6a1c-4a3a-daea-da312bac5cb6",
        "colab": {
          "base_uri": "https://localhost:8080/",
          "height": 289
        }
      },
      "source": [
        "# Aplicando sobre la data Train el modelo identificado\n",
        "\n",
        "train_results=log_reg.evaluate(training_df).predictions\n",
        "\n",
        "\n",
        "# Verificando las probabilidad en los clientes con compra\n",
        "\n",
        "train_results.filter(train_results['Default']==1).select(['Default','prediction','probability']).show(10,False)"
      ],
      "execution_count": 100,
      "outputs": [
        {
          "output_type": "stream",
          "text": [
            "+-------+----------+----------------------------------------+\n",
            "|Default|prediction|probability                             |\n",
            "+-------+----------+----------------------------------------+\n",
            "|1      |0.0       |[0.8949392426927285,0.10506075730727145]|\n",
            "|1      |0.0       |[0.8955265171350282,0.10447348286497175]|\n",
            "|1      |0.0       |[0.8976241762660188,0.10237582373398121]|\n",
            "|1      |0.0       |[0.89912706128505,0.10087293871494998]  |\n",
            "|1      |0.0       |[0.9030599696378113,0.09694003036218873]|\n",
            "|1      |0.0       |[0.9039930971588916,0.0960069028411083] |\n",
            "|1      |0.0       |[0.904465370975623,0.09553462902437701] |\n",
            "|1      |0.0       |[0.9068810129152935,0.09311898708470649]|\n",
            "|1      |0.0       |[0.9082366471638027,0.09176335283619726]|\n",
            "|1      |0.0       |[0.9092833647836006,0.09071663521639942]|\n",
            "+-------+----------+----------------------------------------+\n",
            "only showing top 10 rows\n",
            "\n"
          ],
          "name": "stdout"
        }
      ]
    },
    {
      "cell_type": "markdown",
      "metadata": {
        "id": "qg-eHdVRDZHq",
        "colab_type": "text"
      },
      "source": [
        "# 7. Evaluacion de poder predictivo"
      ]
    },
    {
      "cell_type": "code",
      "metadata": {
        "id": "u4LLYAgXDpnL",
        "colab_type": "code",
        "colab": {}
      },
      "source": [
        "# Aplicando el modelo predictivo\n",
        "\n",
        "transformed = log_reg.transform(test_df)"
      ],
      "execution_count": 0,
      "outputs": []
    },
    {
      "cell_type": "code",
      "metadata": {
        "id": "l-LimWf_b_5N",
        "colab_type": "code",
        "outputId": "f1674be3-399b-47db-cd52-4fcb3a658c86",
        "colab": {
          "base_uri": "https://localhost:8080/",
          "height": 204
        }
      },
      "source": [
        "test_df.show(5)"
      ],
      "execution_count": 102,
      "outputs": [
        {
          "output_type": "stream",
          "text": [
            "+-------+--------------------+\n",
            "|Default|            features|\n",
            "+-------+--------------------+\n",
            "|      0| (5,[0,1],[1.0,1.0])|\n",
            "|      0|(5,[0,1],[1.0,197...|\n",
            "|      0|(5,[0,1],[1.0,770...|\n",
            "|      0|(5,[0,1],[1.0,142...|\n",
            "|      0|(5,[0,1],[1.0,200...|\n",
            "+-------+--------------------+\n",
            "only showing top 5 rows\n",
            "\n"
          ],
          "name": "stdout"
        }
      ]
    },
    {
      "cell_type": "code",
      "metadata": {
        "id": "UTDBLCvsFV-q",
        "colab_type": "code",
        "outputId": "5fefb751-7223-4a40-ca91-16b1155f4767",
        "colab": {
          "base_uri": "https://localhost:8080/",
          "height": 170
        }
      },
      "source": [
        "# Revision\n",
        "transformed.show(3,False)"
      ],
      "execution_count": 103,
      "outputs": [
        {
          "output_type": "stream",
          "text": [
            "+-------+---------------------+----------------------------------------+----------------------------------------+----------+\n",
            "|Default|features             |rawPrediction                           |probability                             |prediction|\n",
            "+-------+---------------------+----------------------------------------+----------------------------------------+----------+\n",
            "|0      |(5,[0,1],[1.0,1.0])  |[2.0702093082944244,-2.0702093082944244]|[0.887973784357498,0.11202621564250208] |0.0       |\n",
            "|0      |(5,[0,1],[1.0,197.0])|[2.090003850963119,-2.090003850963119]  |[0.889927802864195,0.11007219713580506] |0.0       |\n",
            "|0      |(5,[0,1],[1.0,770.0])|[2.147872590499659,-2.147872590499659]  |[0.8954698111026177,0.10453018889738235]|0.0       |\n",
            "+-------+---------------------+----------------------------------------+----------------------------------------+----------+\n",
            "only showing top 3 rows\n",
            "\n"
          ],
          "name": "stdout"
        }
      ]
    },
    {
      "cell_type": "code",
      "metadata": {
        "id": "MIknI1ZuDdCO",
        "colab_type": "code",
        "outputId": "1ed0eb94-e0b9-4e71-edd6-a0440673817d",
        "colab": {
          "base_uri": "https://localhost:8080/",
          "height": 34
        }
      },
      "source": [
        "# LLamando a las librerias de evaluacion de modelamiento\n",
        "\n",
        "from pyspark.mllib.evaluation import BinaryClassificationMetrics as metric\n",
        "results = transformed.select(['probability', 'Default'])\n",
        "\n",
        "from pyspark.sql import SparkSession\n",
        "from pyspark import SparkContext\n",
        "spark = SparkSession.builder.master(\"local\").getOrCreate()\n",
        "sc_2 = SparkContext.getOrCreate()\n",
        " \n",
        "## prepare score-label set\n",
        "results_collect = results.collect()\n",
        "results_list = [(float(i[0][0]), 1.0-float(i[1])) for i in results_collect]\n",
        "scoreAndLabels = sc_2.parallelize(results_list)\n",
        " \n",
        "metrics = metric(scoreAndLabels)\n",
        "print(\"The ROC score is (@numTrees=200): \", metrics.areaUnderROC)"
      ],
      "execution_count": 108,
      "outputs": [
        {
          "output_type": "stream",
          "text": [
            "The ROC score is (@numTrees=200):  0.657352785475099\n"
          ],
          "name": "stdout"
        }
      ]
    },
    {
      "cell_type": "code",
      "metadata": {
        "id": "6i9DyFdtE_6B",
        "colab_type": "code",
        "outputId": "227134ea-cd2e-4186-c13e-c2d56dfdea56",
        "colab": {
          "base_uri": "https://localhost:8080/",
          "height": 295
        }
      },
      "source": [
        "from matplotlib import pyplot as plt\n",
        "from sklearn.metrics import roc_curve, auc\n",
        " \n",
        "fpr = dict()\n",
        "tpr = dict()\n",
        "roc_auc = dict()\n",
        " \n",
        "y_test = [i[1] for i in results_list]\n",
        "y_score = [i[0] for i in results_list]\n",
        " \n",
        "fpr, tpr, _ = roc_curve(y_test, y_score)\n",
        "roc_auc = auc(fpr, tpr)\n",
        " \n",
        "%matplotlib inline\n",
        "plt.figure()\n",
        "plt.plot(fpr, tpr, label='ROC curve (area = %0.2f)' % roc_auc)\n",
        "plt.plot([0, 1], [0, 1], 'k--')\n",
        "plt.xlim([0.0, 1.0])\n",
        "plt.ylim([0.0, 1.05])\n",
        "plt.xlabel('False Positive Rate')\n",
        "plt.ylabel('True Positive Rate')\n",
        "plt.title('Receiver operating characteristic example')\n",
        "plt.legend(loc=\"lower right\")\n",
        "plt.show()"
      ],
      "execution_count": 107,
      "outputs": [
        {
          "output_type": "display_data",
          "data": {
            "image/png": "[encoded data removed]",
            "text/plain": [
              "<Figure size 432x288 with 1 Axes>"
            ]
          },
          "metadata": {
            "tags": []
          }
        }
      ]
    },
    {
      "cell_type": "code",
      "metadata": {
        "id": "ZUh9_FRYQHBw",
        "colab_type": "code",
        "colab": {
          "base_uri": "https://localhost:8080/",
          "height": 136
        },
        "outputId": "04a0470b-f0bb-4e22-80c6-8d42501e5f98"
      },
      "source": [
        "train_results.stat.crosstab(\"Default\", \"prediction\").show()"
      ],
      "execution_count": 109,
      "outputs": [
        {
          "output_type": "stream",
          "text": [
            "+------------------+-----+---+\n",
            "|Default_prediction|  0.0|1.0|\n",
            "+------------------+-----+---+\n",
            "|                 1| 6924|181|\n",
            "|                 0|97983|163|\n",
            "+------------------+-----+---+\n",
            "\n"
          ],
          "name": "stdout"
        }
      ]
    },
    {
      "cell_type": "markdown",
      "metadata": {
        "id": "tDgJ78112IQU",
        "colab_type": "text"
      },
      "source": [
        ""
      ]
    },
    {
      "cell_type": "markdown",
      "metadata": {
        "id": "sp5hC3OZ1psQ",
        "colab_type": "text"
      },
      "source": [
        "#8. Aplicacion de modelos adicionales"
      ]
    },
    {
      "cell_type": "code",
      "metadata": {
        "id": "_04TltX3MCyz",
        "colab_type": "code",
        "colab": {}
      },
      "source": [
        "# Conviene consolidar modelos cuando las probabilidades que arrojan los modelos NO estan correlacionadas... Ensamble"
      ],
      "execution_count": 0,
      "outputs": []
    },
    {
      "cell_type": "markdown",
      "metadata": {
        "id": "oF06_b273tgy",
        "colab_type": "text"
      },
      "source": [
        "##8.1 Algoritmo de Arbol de Clasficacion"
      ]
    },
    {
      "cell_type": "code",
      "metadata": {
        "id": "7pKd2dFm1o6G",
        "colab_type": "code",
        "colab": {}
      },
      "source": [
        "# Arbol de clasificacion\n",
        "\n",
        "from pyspark.ml.classification import DecisionTreeClassifier\n",
        "\n",
        "dt = DecisionTreeClassifier(labelCol=\"FLAG_VENTA\")\n",
        "dt_model = dt.fit(training_df)\n",
        "\n",
        "dt_prediction = dt_model.transform(test_df)\n",
        "\n",
        "dt_prediction.select(\"prediction\", \"FLAG_VENTA\", \"features\").show()"
      ],
      "execution_count": 0,
      "outputs": []
    },
    {
      "cell_type": "code",
      "metadata": {
        "id": "SxiDrzowDN2S",
        "colab_type": "code",
        "colab": {}
      },
      "source": [
        "# Reglas del arbol\n",
        "#print(dt_model.toDebugString)"
      ],
      "execution_count": 0,
      "outputs": []
    },
    {
      "cell_type": "code",
      "metadata": {
        "id": "72byJzai2qV9",
        "colab_type": "code",
        "colab": {}
      },
      "source": [
        "# Evaluacion del poder predictivo del arbol\n",
        "from pyspark.ml.evaluation import MulticlassClassificationEvaluator\n",
        "\n",
        "evaluator = MulticlassClassificationEvaluator(labelCol=\"FLAG_VENTA\", predictionCol=\"prediction\", metricName=\"accuracy\")\n",
        "\n",
        "dt_accuracy = evaluator.evaluate(dt_prediction)\n",
        "print(\"Accuracy of DecisionTreeClassifier is = %g\"% (dt_accuracy))\n",
        "print(\"Test Error of DecisionTreeClassifier = %g \" % (1.0 - dt_accuracy))\n"
      ],
      "execution_count": 0,
      "outputs": []
    },
    {
      "cell_type": "code",
      "metadata": {
        "id": "yeb6DXZL3aeZ",
        "colab_type": "code",
        "colab": {}
      },
      "source": [
        "# LLamando a las librerias de evaluacion de modelamiento\n",
        "\n",
        "from pyspark.mllib.evaluation import BinaryClassificationMetrics as metric\n",
        "results = dt_prediction.select(['probability', 'FLAG_VENTA'])\n",
        " \n",
        "## prepare score-label set\n",
        "results_collect = results.collect()\n",
        "results_list = [(float(i[0][0]), 1.0-float(i[1])) for i in results_collect]\n",
        "scoreAndLabels = sc.parallelize(results_list)\n",
        " \n",
        "metrics = metric(scoreAndLabels)\n",
        "print(\"The ROC score is (@numTrees=200): \", metrics.areaUnderROC)"
      ],
      "execution_count": 0,
      "outputs": []
    },
    {
      "cell_type": "code",
      "metadata": {
        "id": "85-S8yNF3otm",
        "colab_type": "code",
        "colab": {}
      },
      "source": [
        "from matplotlib import pyplot as plt\n",
        "from sklearn.metrics import roc_curve, auc\n",
        " \n",
        "fpr = dict()\n",
        "tpr = dict()\n",
        "roc_auc = dict()\n",
        " \n",
        "y_test = [i[1] for i in results_list]\n",
        "y_score = [i[0] for i in results_list]\n",
        " \n",
        "fpr, tpr, _ = roc_curve(y_test, y_score)\n",
        "roc_auc = auc(fpr, tpr)\n",
        " \n",
        "%matplotlib inline\n",
        "plt.figure()\n",
        "plt.plot(fpr, tpr, label='ROC curve (area = %0.2f)' % roc_auc)\n",
        "plt.plot([0, 1], [0, 1], 'k--')\n",
        "plt.xlim([0.0, 1.0])\n",
        "plt.ylim([0.0, 1.05])\n",
        "plt.xlabel('False Positive Rate')\n",
        "plt.ylabel('True Positive Rate')\n",
        "plt.title('Receiver operating characteristic example')\n",
        "plt.legend(loc=\"lower right\")\n",
        "plt.show()"
      ],
      "execution_count": 0,
      "outputs": []
    },
    {
      "cell_type": "markdown",
      "metadata": {
        "id": "8jKnZ4Fr4Nko",
        "colab_type": "text"
      },
      "source": [
        "##8.2 Algoritmo Random Forest"
      ]
    },
    {
      "cell_type": "code",
      "metadata": {
        "id": "bKq8UwUy4Z4M",
        "colab_type": "code",
        "outputId": "5c07066b-5e28-42b6-acd9-645728421937",
        "colab": {
          "base_uri": "https://localhost:8080/",
          "height": 459
        }
      },
      "source": [
        "# Aplicacion de Algoritmo Random Fores para modelamiento de clasificacion\n",
        "\n",
        "from pyspark.ml.classification import RandomForestClassifier\n",
        "\n",
        "rf = RandomForestClassifier(labelCol=\"Default\", numTrees=150)\n",
        "rf_model = rf.fit(training_df)\n",
        "\n",
        "rf_prediction = rf_model.transform(test_df)\n",
        "\n",
        "rf_prediction.select(\"prediction\", \"Default\", \"features\").show()"
      ],
      "execution_count": 110,
      "outputs": [
        {
          "output_type": "stream",
          "text": [
            "+----------+-------+--------------------+\n",
            "|prediction|Default|            features|\n",
            "+----------+-------+--------------------+\n",
            "|       0.0|      0| (5,[0,1],[1.0,1.0])|\n",
            "|       0.0|      0|(5,[0,1],[1.0,197...|\n",
            "|       0.0|      0|(5,[0,1],[1.0,770...|\n",
            "|       0.0|      0|(5,[0,1],[1.0,142...|\n",
            "|       0.0|      0|(5,[0,1],[1.0,200...|\n",
            "|       0.0|      0|(5,[0,1],[1.0,200...|\n",
            "|       0.0|      0|(5,[0,1],[1.0,225...|\n",
            "|       0.0|      0|(5,[0,1],[1.0,232...|\n",
            "|       0.0|      0|(5,[0,1],[1.0,246...|\n",
            "|       0.0|      0|(5,[0,1],[1.0,250...|\n",
            "|       0.0|      0|(5,[0,1],[1.0,287...|\n",
            "|       0.0|      0|(5,[0,1],[1.0,290...|\n",
            "|       0.0|      0|(5,[0,1],[1.0,291...|\n",
            "|       0.0|      0|(5,[0,1],[1.0,333...|\n",
            "|       0.0|      0|(5,[0,1],[1.0,372...|\n",
            "|       0.0|      0|(5,[0,1],[1.0,409...|\n",
            "|       0.0|      0|(5,[0,1],[1.0,500...|\n",
            "|       0.0|      0|(5,[0,1],[1.0,540...|\n",
            "|       0.0|      0|(5,[0,1],[1.0,540...|\n",
            "|       0.0|      0|(5,[0,1],[1.0,540...|\n",
            "+----------+-------+--------------------+\n",
            "only showing top 20 rows\n",
            "\n"
          ],
          "name": "stdout"
        }
      ]
    },
    {
      "cell_type": "code",
      "metadata": {
        "id": "PDx8FXlA4-u8",
        "colab_type": "code",
        "outputId": "c060bf86-e842-4832-ffc8-1acf1b61874e",
        "colab": {
          "base_uri": "https://localhost:8080/",
          "height": 34
        }
      },
      "source": [
        "# LLamando a las librerias de evaluacion de modelamiento\n",
        "\n",
        "from pyspark.mllib.evaluation import BinaryClassificationMetrics as metric\n",
        "results = rf_prediction.select(['probability', 'Default'])\n",
        " \n",
        "## prepare score-label set\n",
        "results_collect = results.collect()\n",
        "results_list = [(float(i[0][0]), 1.0-float(i[1])) for i in results_collect]\n",
        "scoreAndLabels = sc_2.parallelize(results_list)\n",
        " \n",
        "metrics = metric(scoreAndLabels)\n",
        "print(\"The ROC score is (@numTrees=200): \", metrics.areaUnderROC)"
      ],
      "execution_count": 112,
      "outputs": [
        {
          "output_type": "stream",
          "text": [
            "The ROC score is (@numTrees=200):  0.7989241705414812\n"
          ],
          "name": "stdout"
        }
      ]
    },
    {
      "cell_type": "code",
      "metadata": {
        "id": "1pN4dh4fSEw-",
        "colab_type": "code",
        "colab": {
          "base_uri": "https://localhost:8080/",
          "height": 136
        },
        "outputId": "8538c66e-0ef3-429f-e68c-aa06b8e1c402"
      },
      "source": [
        "rf_prediction.stat.crosstab(\"Default\", \"prediction\").show()"
      ],
      "execution_count": 113,
      "outputs": [
        {
          "output_type": "stream",
          "text": [
            "+------------------+-----+---+\n",
            "|Default_prediction|  0.0|1.0|\n",
            "+------------------+-----+---+\n",
            "|                 1| 2525|396|\n",
            "|                 0|41545|283|\n",
            "+------------------+-----+---+\n",
            "\n"
          ],
          "name": "stdout"
        }
      ]
    },
    {
      "cell_type": "code",
      "metadata": {
        "id": "UVWc-CMC5Ihj",
        "colab_type": "code",
        "outputId": "21dc4c19-a9b0-4ec1-c731-8ec4f876139c",
        "colab": {
          "base_uri": "https://localhost:8080/",
          "height": 295
        }
      },
      "source": [
        "from matplotlib import pyplot as plt\n",
        "from sklearn.metrics import roc_curve, auc\n",
        " \n",
        "fpr = dict()\n",
        "tpr = dict()\n",
        "roc_auc = dict()\n",
        " \n",
        "y_test = [i[1] for i in results_list]\n",
        "y_score = [i[0] for i in results_list]\n",
        " \n",
        "fpr, tpr, _ = roc_curve(y_test, y_score)\n",
        "roc_auc = auc(fpr, tpr)\n",
        " \n",
        "%matplotlib inline\n",
        "plt.figure()\n",
        "plt.plot(fpr, tpr, label='ROC curve (area = %0.2f)' % roc_auc)\n",
        "plt.plot([0, 1], [0, 1], 'k--')\n",
        "plt.xlim([0.0, 1.0])\n",
        "plt.ylim([0.0, 1.05])\n",
        "plt.xlabel('False Positive Rate')\n",
        "plt.ylabel('True Positive Rate')\n",
        "plt.title('Receiver operating characteristic example')\n",
        "plt.legend(loc=\"lower right\")\n",
        "plt.show()"
      ],
      "execution_count": 114,
      "outputs": [
        {
          "output_type": "display_data",
          "data": {
            "image/png": "[encoded data removed]",
            "text/plain": [
              "<Figure size 432x288 with 1 Axes>"
            ]
          },
          "metadata": {
            "tags": []
          }
        }
      ]
    },
    {
      "cell_type": "code",
      "metadata": {
        "id": "cA6pqrXyBgq-",
        "colab_type": "code",
        "colab": {}
      },
      "source": [
        "# Extra identificador de variables importantes\n",
        "rf_model.featureImportances"
      ],
      "execution_count": 0,
      "outputs": []
    },
    {
      "cell_type": "code",
      "metadata": {
        "id": "Q-UupcAHB030",
        "colab_type": "code",
        "colab": {}
      },
      "source": [
        "# Diccionario de caracteristicas\n",
        "training_df.schema[\"features\"].metadata[\"ml_attr\"][\"attrs\"]"
      ],
      "execution_count": 0,
      "outputs": []
    },
    {
      "cell_type": "markdown",
      "metadata": {
        "id": "LjtC6NOI5OZX",
        "colab_type": "text"
      },
      "source": [
        "## 8.3  Algoritmo de Naive Bayes"
      ]
    },
    {
      "cell_type": "code",
      "metadata": {
        "id": "Lg8tsJdX5bqA",
        "colab_type": "code",
        "colab": {}
      },
      "source": [
        "# Aplicacion de Algoritmo Random Fores para modelamiento de clasificacion\n",
        "\n",
        "from pyspark.ml.classification import NaiveBayes\n",
        "\n",
        "nb = NaiveBayes(labelCol=\"FLAG_VENTA\")\n",
        "nb_model = nb.fit(training_df)\n",
        "\n",
        "nb_prediction = nb_model.transform(test_df)\n",
        "\n",
        "nb_prediction.select(\"prediction\", \"FLAG_VENTA\", \"features\").show()"
      ],
      "execution_count": 0,
      "outputs": []
    },
    {
      "cell_type": "code",
      "metadata": {
        "id": "sSENkdQh54B2",
        "colab_type": "code",
        "colab": {}
      },
      "source": [
        "# LLamando a las librerias de evaluacion de modelamiento\n",
        "\n",
        "from pyspark.mllib.evaluation import BinaryClassificationMetrics as metric\n",
        "results = nb_prediction.select(['probability', 'FLAG_VENTA'])\n",
        " \n",
        "## prepare score-label set\n",
        "results_collect = results.collect()\n",
        "results_list = [(float(i[0][0]), 1.0-float(i[1])) for i in results_collect]\n",
        "scoreAndLabels = sc.parallelize(results_list)\n",
        " \n",
        "metrics = metric(scoreAndLabels)\n",
        "print(\"The ROC score is (@numTrees=200): \", metrics.areaUnderROC)"
      ],
      "execution_count": 0,
      "outputs": []
    },
    {
      "cell_type": "code",
      "metadata": {
        "id": "EN35cVfo6BAi",
        "colab_type": "code",
        "colab": {}
      },
      "source": [
        "from matplotlib import pyplot as plt\n",
        "from sklearn.metrics import roc_curve, auc\n",
        " \n",
        "fpr = dict()\n",
        "tpr = dict()\n",
        "roc_auc = dict()\n",
        " \n",
        "y_test = [i[1] for i in results_list]\n",
        "y_score = [i[0] for i in results_list]\n",
        " \n",
        "fpr, tpr, _ = roc_curve(y_test, y_score)\n",
        "roc_auc = auc(fpr, tpr)\n",
        " \n",
        "%matplotlib inline\n",
        "plt.figure()\n",
        "plt.plot(fpr, tpr, label='ROC curve (area = %0.2f)' % roc_auc)\n",
        "plt.plot([0, 1], [0, 1], 'k--')\n",
        "plt.xlim([0.0, 1.0])\n",
        "plt.ylim([0.0, 1.05])\n",
        "plt.xlabel('False Positive Rate')\n",
        "plt.ylabel('True Positive Rate')\n",
        "plt.title('Receiver operating characteristic example')\n",
        "plt.legend(loc=\"lower right\")\n",
        "plt.show()"
      ],
      "execution_count": 0,
      "outputs": []
    },
    {
      "cell_type": "markdown",
      "metadata": {
        "id": "DaDJmWvr6Yzk",
        "colab_type": "text"
      },
      "source": [
        "##8.4  * Algoritmo de clasificacion Support Vector Machine"
      ]
    },
    {
      "cell_type": "code",
      "metadata": {
        "id": "KBe2a9au6XlU",
        "colab_type": "code",
        "colab": {}
      },
      "source": [
        "\n",
        "from pyspark.ml.classification import LinearSVC\n",
        "\n",
        "svm = NaiveBayes(labelCol=\"FLAG_VENTA\")\n",
        "svm_model = svm.fit(training_df)\n",
        "\n",
        "svm_prediction = svm_model.transform(test_df)\n",
        "\n",
        "svm_prediction.select(\"prediction\", \"FLAG_VENTA\", \"features\").show()"
      ],
      "execution_count": 0,
      "outputs": []
    },
    {
      "cell_type": "code",
      "metadata": {
        "id": "cEkg6AC77B2V",
        "colab_type": "code",
        "colab": {}
      },
      "source": [
        "# LLamando a las librerias de evaluacion de modelamiento\n",
        "\n",
        "from pyspark.mllib.evaluation import BinaryClassificationMetrics as metric\n",
        "results = svm_prediction.select(['probability', 'FLAG_VENTA'])\n",
        " \n",
        "## prepare score-label set\n",
        "results_collect = results.collect()\n",
        "results_list = [(float(i[0][0]), 1.0-float(i[1])) for i in results_collect]\n",
        "scoreAndLabels = sc.parallelize(results_list)\n",
        " \n",
        "metrics = metric(scoreAndLabels)\n",
        "print(\"The ROC score is (@numTrees=200): \", metrics.areaUnderROC)"
      ],
      "execution_count": 0,
      "outputs": []
    },
    {
      "cell_type": "code",
      "metadata": {
        "id": "4MDTGC4I7RpU",
        "colab_type": "code",
        "colab": {}
      },
      "source": [
        "from matplotlib import pyplot as plt\n",
        "from sklearn.metrics import roc_curve, auc\n",
        " \n",
        "fpr = dict()\n",
        "tpr = dict()\n",
        "roc_auc = dict()\n",
        " \n",
        "y_test = [i[1] for i in results_list]\n",
        "y_score = [i[0] for i in results_list]\n",
        " \n",
        "fpr, tpr, _ = roc_curve(y_test, y_score)\n",
        "roc_auc = auc(fpr, tpr)\n",
        " \n",
        "%matplotlib inline\n",
        "plt.figure()\n",
        "plt.plot(fpr, tpr, label='ROC curve (area = %0.2f)' % roc_auc)\n",
        "plt.plot([0, 1], [0, 1], 'k--')\n",
        "plt.xlim([0.0, 1.0])\n",
        "plt.ylim([0.0, 1.05])\n",
        "plt.xlabel('False Positive Rate')\n",
        "plt.ylabel('True Positive Rate')\n",
        "plt.title('Receiver operating characteristic example')\n",
        "plt.legend(loc=\"lower right\")\n",
        "plt.show()"
      ],
      "execution_count": 0,
      "outputs": []
    },
    {
      "cell_type": "markdown",
      "metadata": {
        "id": "JE7UVp58CjzO",
        "colab_type": "text"
      },
      "source": [
        "## 8.5 * Modelo de Red neuronal multicapa"
      ]
    },
    {
      "cell_type": "code",
      "metadata": {
        "id": "XWMl2ahzCqnO",
        "colab_type": "code",
        "colab": {}
      },
      "source": [
        "from pyspark.ml.classification import MultilayerPerceptronClassifier\n",
        "\n",
        "\n",
        "# Especificando las capas para la Red Neuronal:\n",
        "# Input de las capas es de tamanio 4 (features), dos capas intermedias de tmannio 5 and 4\n",
        "# y el output de salida es de tamanio 2 (classes)\n",
        "\n",
        "#Tener mucho cuidado al definir los valores ingresados en la red neuronal!!!!!\n",
        "layers = [15, 5, 4, 2]\n",
        "\n",
        "\n",
        "mlp = MultilayerPerceptronClassifier(maxIter=100, layers=layers, blockSize=128, seed=1234, labelCol=\"FLAG_VENTA\")\n",
        "mlp_model = mlp.fit(training_df)\n",
        "\n",
        "mlp_prediction = mlp_model.transform(test_df)\n"
      ],
      "execution_count": 0,
      "outputs": []
    },
    {
      "cell_type": "code",
      "metadata": {
        "id": "rwbFVsJqFIB0",
        "colab_type": "code",
        "colab": {}
      },
      "source": [
        "mlp_prediction.describe()"
      ],
      "execution_count": 0,
      "outputs": []
    },
    {
      "cell_type": "code",
      "metadata": {
        "id": "MxS7_InyFBiv",
        "colab_type": "code",
        "colab": {}
      },
      "source": [
        "# LLamando a las librerias de evaluacion de modelamiento\n",
        "\n",
        "from pyspark.mllib.evaluation import BinaryClassificationMetrics as metric\n",
        "results = mlp_prediction.select(['probability', 'FLAG_VENTA'])\n",
        " \n",
        "## prepare score-label set\n",
        "results_collect = results.collect()\n",
        "results_list = [(float(i[0][0]), 1.0-float(i[1])) for i in results_collect]\n",
        "scoreAndLabels = sc.parallelize(results_list)\n",
        " \n",
        "metrics = metric(scoreAndLabels)\n",
        "print(\"The ROC score is (@numTrees=200): \", metrics.areaUnderROC)"
      ],
      "execution_count": 0,
      "outputs": []
    },
    {
      "cell_type": "code",
      "metadata": {
        "id": "b9gHGVS0FvDS",
        "colab_type": "code",
        "colab": {}
      },
      "source": [
        "from matplotlib import pyplot as plt\n",
        "from sklearn.metrics import roc_curve, auc\n",
        " \n",
        "fpr = dict()\n",
        "tpr = dict()\n",
        "roc_auc = dict()\n",
        " \n",
        "y_test = [i[1] for i in results_list]\n",
        "y_score = [i[0] for i in results_list]\n",
        " \n",
        "fpr, tpr, _ = roc_curve(y_test, y_score)\n",
        "roc_auc = auc(fpr, tpr)\n",
        " \n",
        "%matplotlib inline\n",
        "plt.figure()\n",
        "plt.plot(fpr, tpr, label='ROC curve (area = %0.2f)' % roc_auc)\n",
        "plt.plot([0, 1], [0, 1], 'k--')\n",
        "plt.xlim([0.0, 1.0])\n",
        "plt.ylim([0.0, 1.05])\n",
        "plt.xlabel('False Positive Rate')\n",
        "plt.ylabel('True Positive Rate')\n",
        "plt.title('Receiver operating characteristic example')\n",
        "plt.legend(loc=\"lower right\")\n",
        "plt.show()"
      ],
      "execution_count": 0,
      "outputs": []
    }
  ]
}