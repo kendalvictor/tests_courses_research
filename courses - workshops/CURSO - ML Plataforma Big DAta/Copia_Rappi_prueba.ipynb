{
  "nbformat": 4,
  "nbformat_minor": 0,
  "metadata": {
    "colab": {
      "name": "Copia_Rappi_prueba.ipynb",
      "provenance": []
    },
    "kernelspec": {
      "name": "python3",
      "display_name": "Python 3"
    }
  },
  "cells": [
    {
      "cell_type": "markdown",
      "metadata": {
        "id": "oZYjeFl20oa5",
        "colab_type": "text"
      },
      "source": [
        "# 0. Instalacion de utilitarios Pyspark"
      ]
    },
    {
      "cell_type": "code",
      "metadata": {
        "id": "y6zaa4yk0uIV",
        "colab_type": "code",
        "colab": {}
      },
      "source": [
        "!apt-get install openjdk-8-jdk-headless -qq > /dev/null\n",
        "!wget -q https://www-us.apache.org/dist/spark/spark-2.3.4/spark-2.3.4-bin-hadoop2.7.tgz\n",
        "!tar xf spark-2.3.4-bin-hadoop2.7.tgz"
      ],
      "execution_count": null,
      "outputs": []
    },
    {
      "cell_type": "code",
      "metadata": {
        "id": "c0SmG6708QQ6",
        "colab_type": "code",
        "colab": {}
      },
      "source": [
        "!apt-get install openjdk-8-jdk-headless -qq > /dev/null\n",
        "!wget -q https://www-us.apache.org/dist/spark/spark-2.4.4/spark-2.4.4-bin-hadoop2.7.tgz\n",
        "!tar xf spark-2.4.4-bin-hadoop2.7.tgz\n"
      ],
      "execution_count": null,
      "outputs": []
    },
    {
      "cell_type": "code",
      "metadata": {
        "id": "tyor71X98igS",
        "colab_type": "code",
        "colab": {}
      },
      "source": [
        "!pip install -q findspark"
      ],
      "execution_count": null,
      "outputs": []
    },
    {
      "cell_type": "code",
      "metadata": {
        "id": "mRsVKjDvsmoC",
        "colab_type": "code",
        "colab": {}
      },
      "source": [
        "import os\n",
        "os.environ[\"JAVA_HOME\"] = \"/usr/lib/jvm/java-8-openjdk-amd64\"\n",
        "os.environ[\"SPARK_HOME\"] = \"/content/spark-2.4.4-bin-hadoop2.7\"\n"
      ],
      "execution_count": null,
      "outputs": []
    },
    {
      "cell_type": "code",
      "metadata": {
        "id": "OsNTQa-qsr7j",
        "colab_type": "code",
        "colab": {
          "base_uri": "https://localhost:8080/",
          "height": 238
        },
        "outputId": "f8b68dc2-9a43-4b7f-ecac-bd23ffcfc0d3"
      },
      "source": [
        "!pip install pyspark"
      ],
      "execution_count": null,
      "outputs": [
        {
          "output_type": "stream",
          "text": [
            "Collecting pyspark\n",
            "\u001b[?25l  Downloading https://files.pythonhosted.org/packages/87/21/f05c186f4ddb01d15d0ddc36ef4b7e3cedbeb6412274a41f26b55a650ee5/pyspark-2.4.4.tar.gz (215.7MB)\n",
            "\u001b[K     |████████████████████████████████| 215.7MB 45kB/s \n",
            "\u001b[?25hCollecting py4j==0.10.7\n",
            "\u001b[?25l  Downloading https://files.pythonhosted.org/packages/e3/53/c737818eb9a7dc32a7cd4f1396e787bd94200c3997c72c1dbe028587bd76/py4j-0.10.7-py2.py3-none-any.whl (197kB)\n",
            "\u001b[K     |████████████████████████████████| 204kB 46.7MB/s \n",
            "\u001b[?25hBuilding wheels for collected packages: pyspark\n",
            "  Building wheel for pyspark (setup.py) ... \u001b[?25l\u001b[?25hdone\n",
            "  Created wheel for pyspark: filename=pyspark-2.4.4-py2.py3-none-any.whl size=216130387 sha256=c9ed2064f7a916d9184b3c8382e1fa017c1c1fdee691d40d7a4d569e6ea6747c\n",
            "  Stored in directory: /root/.cache/pip/wheels/ab/09/4d/0d184230058e654eb1b04467dbc1292f00eaa186544604b471\n",
            "Successfully built pyspark\n",
            "Installing collected packages: py4j, pyspark\n",
            "Successfully installed py4j-0.10.7 pyspark-2.4.4\n"
          ],
          "name": "stdout"
        }
      ]
    },
    {
      "cell_type": "code",
      "metadata": {
        "id": "zCKm2w9rswTv",
        "colab_type": "code",
        "colab": {}
      },
      "source": [
        "from pyspark.sql import SparkSession\n",
        "from pyspark import SparkContext\n",
        "spark = SparkSession.builder.master(\"local\").getOrCreate()\n",
        "sc = SparkContext.getOrCreate()"
      ],
      "execution_count": null,
      "outputs": []
    },
    {
      "cell_type": "markdown",
      "metadata": {
        "id": "NXie2Umg1DZk",
        "colab_type": "text"
      },
      "source": [
        "# 1. Lectura del origen datos"
      ]
    },
    {
      "cell_type": "code",
      "metadata": {
        "id": "zZL0PhM88Eys",
        "colab_type": "code",
        "colab": {
          "base_uri": "https://localhost:8080/",
          "height": 122
        },
        "outputId": "2b584856-6abb-4dd9-eaf1-88583e446b45"
      },
      "source": [
        "# Conexion al drive\n",
        "#---------------------------\n",
        "from google.colab import drive\n",
        "drive.mount('/content/drive')"
      ],
      "execution_count": null,
      "outputs": [
        {
          "output_type": "stream",
          "text": [
            "Go to this URL in a browser: https://accounts.google.com/o/oauth2/auth?client_id=947318989803-6bn6qk8qdgf4n4g3pfee6491hc0brc4i.apps.googleusercontent.com&redirect_uri=urn%3Aietf%3Awg%3Aoauth%3A2.0%3Aoob&scope=email%20https%3A%2F%2Fwww.googleapis.com%2Fauth%2Fdocs.test%20https%3A%2F%2Fwww.googleapis.com%2Fauth%2Fdrive%20https%3A%2F%2Fwww.googleapis.com%2Fauth%2Fdrive.photos.readonly%20https%3A%2F%2Fwww.googleapis.com%2Fauth%2Fpeopleapi.readonly&response_type=code\n",
            "\n",
            "Enter your authorization code:\n",
            "··········\n",
            "Mounted at /content/drive\n"
          ],
          "name": "stdout"
        }
      ]
    },
    {
      "cell_type": "code",
      "metadata": {
        "id": "BZQDnxtq2G2L",
        "colab_type": "code",
        "colab": {
          "base_uri": "https://localhost:8080/",
          "height": 51
        },
        "outputId": "9ef61b2c-707e-4a3d-a513-be44b63384a8"
      },
      "source": [
        "ls"
      ],
      "execution_count": null,
      "outputs": [
        {
          "output_type": "stream",
          "text": [
            "\u001b[0m\u001b[01;34mdrive\u001b[0m/        \u001b[01;34mspark-2.3.4-bin-hadoop2.7\u001b[0m/     \u001b[01;34mspark-2.4.4-bin-hadoop2.7\u001b[0m/\n",
            "\u001b[01;34msample_data\u001b[0m/  spark-2.3.4-bin-hadoop2.7.tgz  spark-2.4.4-bin-hadoop2.7.tgz\n"
          ],
          "name": "stdout"
        }
      ]
    },
    {
      "cell_type": "markdown",
      "metadata": {
        "id": "ltZocWSm2l9G",
        "colab_type": "text"
      },
      "source": [
        "#2.  Cargando los datos en formato Spark"
      ]
    },
    {
      "cell_type": "code",
      "metadata": {
        "id": "xg8zoYu62uhd",
        "colab_type": "code",
        "colab": {
          "base_uri": "https://localhost:8080/",
          "height": 204
        },
        "outputId": "5f293420-5712-42d9-d40c-303ab323f767"
      },
      "source": [
        "DS_peliculas_rating = spark.read.csv(\n",
        "    '/content/drive/My Drive/PySpark Machine Learning en plataforma Big Data/Training R ML en Casos de Negocios/8_Recomendacion_comercio/Comercio_tipo_rappi.csv', \n",
        "    sep=';', \n",
        "    header=True, \n",
        "    inferSchema=True\n",
        ")\n",
        "# 2.1 Revision de formatos \n",
        "DS_peliculas_rating.printSchema()"
      ],
      "execution_count": null,
      "outputs": [
        {
          "output_type": "stream",
          "text": [
            "root\n",
            " |-- userID: string (nullable = true)\n",
            " |-- userID_cod: integer (nullable = true)\n",
            " |-- placeID: integer (nullable = true)\n",
            " |-- Nombre_comerce: string (nullable = true)\n",
            " |-- Distrito: string (nullable = true)\n",
            " |-- rating: integer (nullable = true)\n",
            " |-- food_rating: integer (nullable = true)\n",
            " |-- service_rating: integer (nullable = true)\n",
            " |-- rating_total: integer (nullable = true)\n",
            "\n"
          ],
          "name": "stdout"
        }
      ]
    },
    {
      "cell_type": "code",
      "metadata": {
        "id": "DevCxW045s4B",
        "colab_type": "code",
        "colab": {
          "base_uri": "https://localhost:8080/",
          "height": 34
        },
        "outputId": "4ba3e865-c39a-41e0-9451-09312e1816c4"
      },
      "source": [
        "# Dimensiona de base\n",
        "print((DS_peliculas_rating.count(),len(DS_peliculas_rating.columns)))"
      ],
      "execution_count": null,
      "outputs": [
        {
          "output_type": "stream",
          "text": [
            "(50766, 9)\n"
          ],
          "name": "stdout"
        }
      ]
    },
    {
      "cell_type": "code",
      "metadata": {
        "id": "RBEt1wHV2Zy4",
        "colab_type": "code",
        "colab": {
          "base_uri": "https://localhost:8080/",
          "height": 204
        },
        "outputId": "7df9e33f-aa53-47c2-b75f-c6015203a4ba"
      },
      "source": [
        "# 2.2 Revisiones  \n",
        "DS_peliculas_rating.show(5)"
      ],
      "execution_count": null,
      "outputs": [
        {
          "output_type": "stream",
          "text": [
            "+------+----------+-------+--------------------+---------------+------+-----------+--------------+------------+\n",
            "|userID|userID_cod|placeID|      Nombre_comerce|       Distrito|rating|food_rating|service_rating|rating_total|\n",
            "+------+----------+-------+--------------------+---------------+------+-----------+--------------+------------+\n",
            "| U1077|         1| 135085|Tortas Locas Hipo...|San Luis Potosi|     2|          2|             2|           6|\n",
            "| U1077|         1| 135038|Restaurant la Cha...|San Luis Potosi|     2|          2|             1|           5|\n",
            "| U1077|         1| 132825|     puesto de tacos|         s.l.p.|     2|          2|             2|           6|\n",
            "| U1077|         1| 135060|Restaurante Maris...|San Luis Potosi|     1|          2|             2|           5|\n",
            "| U1068|         2| 135104|                vips|              0|     1|          1|             2|           4|\n",
            "+------+----------+-------+--------------------+---------------+------+-----------+--------------+------------+\n",
            "only showing top 5 rows\n",
            "\n"
          ],
          "name": "stdout"
        }
      ]
    },
    {
      "cell_type": "code",
      "metadata": {
        "id": "CpYnf-WM3iun",
        "colab_type": "code",
        "colab": {
          "base_uri": "https://localhost:8080/",
          "height": 34
        },
        "outputId": "d0ee6895-140a-4be3-c8f5-4b24d0f5d95c"
      },
      "source": [
        "# 2.3 Validacion de carga del total de registros\n",
        "print(DS_peliculas_rating.count())"
      ],
      "execution_count": null,
      "outputs": [
        {
          "output_type": "stream",
          "text": [
            "50766\n"
          ],
          "name": "stdout"
        }
      ]
    },
    {
      "cell_type": "code",
      "metadata": {
        "id": "7J1Stx2j9KdX",
        "colab_type": "code",
        "colab": {
          "base_uri": "https://localhost:8080/",
          "height": 187
        },
        "outputId": "162bf964-2678-47dd-beb2-5e4bcb0120f8"
      },
      "source": [
        "# 2.4 Exploracion inicial\n",
        "DS_peliculas_rating.describe().show()"
      ],
      "execution_count": null,
      "outputs": [
        {
          "output_type": "stream",
          "text": [
            "+-------+------+------------------+------------------+--------------------+---------+------------------+------------------+------------------+-----------------+\n",
            "|summary|userID|        userID_cod|           placeID|      Nombre_comerce| Distrito|            rating|       food_rating|    service_rating|     rating_total|\n",
            "+-------+------+------------------+------------------+--------------------+---------+------------------+------------------+------------------+-----------------+\n",
            "|  count| 50766|             50766|             50766|               50766|    50766|             50766|             50766|             50766|            50766|\n",
            "|   mean|  null| 67.34026710790687|  134254.559390143|                null|      0.0|1.2218216916834101| 1.244277666154513| 1.109856990899421|3.575956348737344|\n",
            "| stddev|  null|32.640689951647815|1079.9216692471784|                null|      0.0|0.7706200957794772|0.7863420037824467|0.7915679876580894|2.083855254035862|\n",
            "|    min| U1001|                 1|            132560|Abondance Restaur...|        0|                 0|                 0|                 0|                0|\n",
            "|    max| U1138|               138|            135109|                vips|victoria |                 2|                 2|                 2|                6|\n",
            "+-------+------+------------------+------------------+--------------------+---------+------------------+------------------+------------------+-----------------+\n",
            "\n"
          ],
          "name": "stdout"
        }
      ]
    },
    {
      "cell_type": "code",
      "metadata": {
        "id": "5UavJB8AASDE",
        "colab_type": "code",
        "colab": {
          "base_uri": "https://localhost:8080/",
          "height": 289
        },
        "outputId": "54815c22-9868-4e65-84bd-636a604fafee"
      },
      "source": [
        "# 2.5 Los clientes que más vistaron la plataforma de videos\n",
        "DS_peliculas_rating.groupBy('userId').count().orderBy('count',ascending=False).show(10,False)"
      ],
      "execution_count": null,
      "outputs": [
        {
          "output_type": "stream",
          "text": [
            "+------+-----+\n",
            "|userId|count|\n",
            "+------+-----+\n",
            "|U1106 |1198 |\n",
            "|U1071 |949  |\n",
            "|U1024 |933  |\n",
            "|U1016 |897  |\n",
            "|U1036 |876  |\n",
            "|U1104 |868  |\n",
            "|U1009 |759  |\n",
            "|U1037 |755  |\n",
            "|U1084 |730  |\n",
            "|U1132 |730  |\n",
            "+------+-----+\n",
            "only showing top 10 rows\n",
            "\n"
          ],
          "name": "stdout"
        }
      ]
    },
    {
      "cell_type": "code",
      "metadata": {
        "id": "ZUivRJvPAjI3",
        "colab_type": "code",
        "colab": {
          "base_uri": "https://localhost:8080/",
          "height": 289
        },
        "outputId": "28d2c5aa-f4a6-4243-a6e5-3ad1c775ad4d"
      },
      "source": [
        "# 2.6  Las clientes que menos vieron las peliculas\n",
        "DS_peliculas_rating.groupBy('userId').count().orderBy('count',ascending=True).show(10,False)"
      ],
      "execution_count": null,
      "outputs": [
        {
          "output_type": "stream",
          "text": [
            "+------+-----+\n",
            "|userId|count|\n",
            "+------+-----+\n",
            "|U1011 |57   |\n",
            "|U1039 |57   |\n",
            "|U1129 |76   |\n",
            "|U1130 |76   |\n",
            "|U1065 |95   |\n",
            "|U1043 |95   |\n",
            "|U1138 |114  |\n",
            "|U1102 |114  |\n",
            "|U1077 |117  |\n",
            "|U1131 |120  |\n",
            "+------+-----+\n",
            "only showing top 10 rows\n",
            "\n"
          ],
          "name": "stdout"
        }
      ]
    },
    {
      "cell_type": "code",
      "metadata": {
        "id": "hO-eIVs4A0Is",
        "colab_type": "code",
        "colab": {
          "base_uri": "https://localhost:8080/",
          "height": 289
        },
        "outputId": "95fdc825-564e-4b12-e298-0a566403ce0a"
      },
      "source": [
        "# 2.7  Las peliculas con mayor numero de visualizaciones\n",
        "DS_peliculas_rating.groupBy('Nombre_comerce').count().orderBy('count',ascending=False).show(10,False)"
      ],
      "execution_count": null,
      "outputs": [
        {
          "output_type": "stream",
          "text": [
            "+----------------------------------+-----+\n",
            "|Nombre_comerce                    |count|\n",
            "+----------------------------------+-----+\n",
            "|Tortas Locas Hipocampo            |1641 |\n",
            "|Cafeteria y Restaurant El Pacifico|1466 |\n",
            "|puesto de tacos                   |1387 |\n",
            "|La Cantina Restaurante            |1202 |\n",
            "|Restaurant la Chalita             |1200 |\n",
            "|Gorditas Doa Gloria               |1176 |\n",
            "|Restaurante Marisco Sam           |1017 |\n",
            "|Restaurant Oriental Express       |955  |\n",
            "|Restaurante El Cielo Potosino     |945  |\n",
            "|Luna Cafe                         |836  |\n",
            "+----------------------------------+-----+\n",
            "only showing top 10 rows\n",
            "\n"
          ],
          "name": "stdout"
        }
      ]
    },
    {
      "cell_type": "code",
      "metadata": {
        "id": "6rRu9-sxBI0_",
        "colab_type": "code",
        "colab": {
          "base_uri": "https://localhost:8080/",
          "height": 289
        },
        "outputId": "2b1f22f5-fc08-4c4c-c052-a1dc2eb2b35b"
      },
      "source": [
        "# Peliculas con menos numero de visualizaciones \n",
        "DS_peliculas_rating.groupBy('Nombre_comerce').count().orderBy('count',ascending=True).show(10,False)"
      ],
      "execution_count": null,
      "outputs": [
        {
          "output_type": "stream",
          "text": [
            "+-------------------------------------+-----+\n",
            "|Nombre_comerce                       |count|\n",
            "+-------------------------------------+-----+\n",
            "|emilianos                            |99   |\n",
            "|Carnitas Mata  Calle 16 de Septiembre|100  |\n",
            "|cafe ambar                           |100  |\n",
            "|la perica hamburguesa                |102  |\n",
            "|tortas hawai                         |109  |\n",
            "|puesto de gorditas                   |109  |\n",
            "|tacos los volcanes                   |118  |\n",
            "|churchs                              |126  |\n",
            "|TACOS EL GUERO                       |133  |\n",
            "|Arrachela Grill                      |135  |\n",
            "+-------------------------------------+-----+\n",
            "only showing top 10 rows\n",
            "\n"
          ],
          "name": "stdout"
        }
      ]
    },
    {
      "cell_type": "markdown",
      "metadata": {
        "id": "nhC6tpUw39tn",
        "colab_type": "text"
      },
      "source": [
        "# 3. FEature Engineering: Tansforma pelicula a numero\n",
        "\n"
      ]
    },
    {
      "cell_type": "code",
      "metadata": {
        "id": "h05_VfzA4C1k",
        "colab_type": "code",
        "colab": {}
      },
      "source": [
        "# Importando el codifocador\n",
        "from pyspark.ml.feature import StringIndexer,IndexToString"
      ],
      "execution_count": null,
      "outputs": []
    },
    {
      "cell_type": "code",
      "metadata": {
        "id": "LBiAQR4tB8ul",
        "colab_type": "code",
        "colab": {}
      },
      "source": [
        "# Configurando la Numerzación los titulos de las peliculas\n",
        "# title_new = La codificación de las peliculas\n",
        "stringIndexer = StringIndexer(inputCol=\"Nombre_comerce\", outputCol=\"Nombre_comerce_id\")"
      ],
      "execution_count": null,
      "outputs": []
    },
    {
      "cell_type": "code",
      "metadata": {
        "id": "1Lik8aKaCw_O",
        "colab_type": "code",
        "colab": {}
      },
      "source": [
        "#Aplicando la numerización de peliculas\n",
        "model = stringIndexer.fit(DS_peliculas_rating)"
      ],
      "execution_count": null,
      "outputs": []
    },
    {
      "cell_type": "code",
      "metadata": {
        "id": "ANbGXtZHDBxt",
        "colab_type": "code",
        "colab": {}
      },
      "source": [
        "#Creando un nuevo Dataframe con el indexado creado\n"
      ],
      "execution_count": null,
      "outputs": []
    },
    {
      "cell_type": "markdown",
      "metadata": {
        "id": "xgUobOLemd25",
        "colab_type": "text"
      },
      "source": [
        "# 4. Dividiendo la data en muestra de entrenamiento y validacion\n"
      ]
    },
    {
      "cell_type": "code",
      "metadata": {
        "id": "59VHPF5ac1QN",
        "colab_type": "code",
        "colab": {}
      },
      "source": [
        "DS_peliculas_rating = DS_peliculas_rating.drop('rating', 'food_rating', 'service_rating')\n",
        "DS_peliculas_rating = DS_peliculas_rating.withColumn('rating', DS_peliculas_rating.rating_total)"
      ],
      "execution_count": null,
      "outputs": []
    },
    {
      "cell_type": "code",
      "metadata": {
        "id": "CIQr53MZc5_b",
        "colab_type": "code",
        "colab": {
          "base_uri": "https://localhost:8080/",
          "height": 204
        },
        "outputId": "b0ca2bd9-3546-43bd-d8b2-2354b9995460"
      },
      "source": [
        "DS_peliculas_rating.show(5)"
      ],
      "execution_count": null,
      "outputs": [
        {
          "output_type": "stream",
          "text": [
            "+------+----------+-------+--------------------+---------------+------------+------+\n",
            "|userID|userID_cod|placeID|      Nombre_comerce|       Distrito|rating_total|rating|\n",
            "+------+----------+-------+--------------------+---------------+------------+------+\n",
            "| U1077|         1| 135085|Tortas Locas Hipo...|San Luis Potosi|           6|     6|\n",
            "| U1077|         1| 135038|Restaurant la Cha...|San Luis Potosi|           5|     5|\n",
            "| U1077|         1| 132825|     puesto de tacos|         s.l.p.|           6|     6|\n",
            "| U1077|         1| 135060|Restaurante Maris...|San Luis Potosi|           5|     5|\n",
            "| U1068|         2| 135104|                vips|              0|           4|     4|\n",
            "+------+----------+-------+--------------------+---------------+------------+------+\n",
            "only showing top 5 rows\n",
            "\n"
          ],
          "name": "stdout"
        }
      ]
    },
    {
      "cell_type": "code",
      "metadata": {
        "id": "Xhfyi1hZeJ3K",
        "colab_type": "code",
        "colab": {
          "base_uri": "https://localhost:8080/",
          "height": 561
        },
        "outputId": "7e3ca408-4652-4f6a-f889-511c341986ef"
      },
      "source": [
        "indexed = model.transform(DS_peliculas_rating)\n",
        "indexed.show(10)\n",
        "indexed.groupBy('Nombre_comerce_id').count().orderBy('count',ascending=False).show(10,False)"
      ],
      "execution_count": null,
      "outputs": [
        {
          "output_type": "stream",
          "text": [
            "+------+----------+-------+--------------------+---------------+------------+------+-----------------+\n",
            "|userID|userID_cod|placeID|      Nombre_comerce|       Distrito|rating_total|rating|Nombre_comerce_id|\n",
            "+------+----------+-------+--------------------+---------------+------------+------+-----------------+\n",
            "| U1077|         1| 135085|Tortas Locas Hipo...|San Luis Potosi|           6|     6|              0.0|\n",
            "| U1077|         1| 135038|Restaurant la Cha...|San Luis Potosi|           5|     5|              4.0|\n",
            "| U1077|         1| 132825|     puesto de tacos|         s.l.p.|           6|     6|              2.0|\n",
            "| U1077|         1| 135060|Restaurante Maris...|San Luis Potosi|           5|     5|              6.0|\n",
            "| U1068|         2| 135104|                vips|              0|           4|     4|             80.0|\n",
            "| U1068|         2| 132740|Carreton de Flaut...|Ciudad Victoria|           0|     0|             72.0|\n",
            "| U1068|         2| 132663|           tacos abi|       victoria|           3|     3|             91.0|\n",
            "| U1068|         2| 132732|  Taqueria EL amigo |    Cd Victoria|           0|     0|             81.0|\n",
            "| U1068|         2| 132630|          palomo tec|       victoria|           3|     3|            101.0|\n",
            "| U1067|         3| 132584|  Gorditas Dona Tota|              0|           6|     6|             61.0|\n",
            "+------+----------+-------+--------------------+---------------+------------+------+-----------------+\n",
            "only showing top 10 rows\n",
            "\n",
            "+-----------------+-----+\n",
            "|Nombre_comerce_id|count|\n",
            "+-----------------+-----+\n",
            "|0.0              |1641 |\n",
            "|1.0              |1466 |\n",
            "|2.0              |1387 |\n",
            "|3.0              |1202 |\n",
            "|4.0              |1200 |\n",
            "|5.0              |1176 |\n",
            "|6.0              |1017 |\n",
            "|7.0              |955  |\n",
            "|8.0              |945  |\n",
            "|9.0              |836  |\n",
            "+-----------------+-----+\n",
            "only showing top 10 rows\n",
            "\n"
          ],
          "name": "stdout"
        }
      ]
    },
    {
      "cell_type": "code",
      "metadata": {
        "id": "8ws92PIxmkGs",
        "colab_type": "code",
        "colab": {}
      },
      "source": [
        "#4.1  Data de entrenamiento y validacion\n",
        "train, test=indexed.randomSplit([0.8, 0.2], seed=1234)"
      ],
      "execution_count": null,
      "outputs": []
    },
    {
      "cell_type": "code",
      "metadata": {
        "id": "AVzr9MGdD_Mi",
        "colab_type": "code",
        "colab": {
          "base_uri": "https://localhost:8080/",
          "height": 34
        },
        "outputId": "2bafd153-d856-4eb8-e635-27e53b36836e"
      },
      "source": [
        "# Nro de entrenamiento\n",
        "train.count()"
      ],
      "execution_count": null,
      "outputs": [
        {
          "output_type": "execute_result",
          "data": {
            "text/plain": [
              "40541"
            ]
          },
          "metadata": {
            "tags": []
          },
          "execution_count": 68
        }
      ]
    },
    {
      "cell_type": "code",
      "metadata": {
        "id": "WYpYCZWtEFCo",
        "colab_type": "code",
        "colab": {
          "base_uri": "https://localhost:8080/",
          "height": 34
        },
        "outputId": "6dd6c703-5d02-4fd1-e111-c0f97dc9ac07"
      },
      "source": [
        "# Nro de Validacion\n",
        "test.count()"
      ],
      "execution_count": null,
      "outputs": [
        {
          "output_type": "execute_result",
          "data": {
            "text/plain": [
              "10225"
            ]
          },
          "metadata": {
            "tags": []
          },
          "execution_count": 69
        }
      ]
    },
    {
      "cell_type": "code",
      "metadata": {
        "id": "Bhe3uKwMd7Dx",
        "colab_type": "code",
        "colab": {
          "base_uri": "https://localhost:8080/",
          "height": 170
        },
        "outputId": "2977d4c0-3e60-4d64-91a9-478652a7858a"
      },
      "source": [
        "train.show(3)"
      ],
      "execution_count": null,
      "outputs": [
        {
          "output_type": "stream",
          "text": [
            "+------+----------+-------+---------------+--------+------------+------+-----------------+\n",
            "|userID|userID_cod|placeID| Nombre_comerce|Distrito|rating_total|rating|Nombre_comerce_id|\n",
            "+------+----------+-------+---------------+--------+------------+------+-----------------+\n",
            "| U1001|        39| 132825|puesto de tacos|  s.l.p.|           5|     5|              2.0|\n",
            "| U1001|        39| 132825|puesto de tacos|  s.l.p.|           5|     5|              2.0|\n",
            "| U1001|        39| 132825|puesto de tacos|  s.l.p.|           5|     5|              2.0|\n",
            "+------+----------+-------+---------------+--------+------------+------+-----------------+\n",
            "only showing top 3 rows\n",
            "\n"
          ],
          "name": "stdout"
        }
      ]
    },
    {
      "cell_type": "markdown",
      "metadata": {
        "id": "DzS3l96FELtG",
        "colab_type": "text"
      },
      "source": [
        "# 5. Entrenando el Modelo\n"
      ]
    },
    {
      "cell_type": "code",
      "metadata": {
        "id": "bBgycnsdm9_3",
        "colab_type": "code",
        "colab": {}
      },
      "source": [
        "#Importando el modelo Recomendador ALS\n",
        "from pyspark.sql.functions import *\n",
        "from pyspark.ml.recommendation import ALS\n"
      ],
      "execution_count": null,
      "outputs": []
    },
    {
      "cell_type": "code",
      "metadata": {
        "id": "spViP-t4EY-7",
        "colab_type": "code",
        "colab": {}
      },
      "source": [
        "#Configuracion del Entrenamiento del modelo Recomendador usando la muetsra de entrenamiento\n",
        "rec=ALS(\n",
        "    maxIter=25,\n",
        "    regParam=0.025,\n",
        "    userCol='userID_cod',\n",
        "    itemCol='Nombre_comerce_id',\n",
        "    ratingCol='rating',\n",
        "    nonnegative=True,\n",
        "    coldStartStrategy=\"drop\",\n",
        "    implicitPrefs=False, \n",
        "    seed=1234\n",
        "  )\n",
        "\n",
        "# maxIter: El maximo de iteraciones\n",
        "# regParam: Parametro de REgularización\n",
        "# nonnegative: Especificar si se utiliza una restriccion negativa en los Minimos cuadrados\n",
        "# coldStartStrategy: Parametro que elimina cualquier cliente que no tenga informacion\n",
        "# implicitPrefs: Si es implicito hace referencia a feedback no registrado voluntariamente por el cliente"
      ],
      "execution_count": null,
      "outputs": []
    },
    {
      "cell_type": "code",
      "metadata": {
        "id": "coVXq71IEkIS",
        "colab_type": "code",
        "colab": {}
      },
      "source": [
        "#Entrenando el modelo\n",
        "rec_model = rec.fit(train)"
      ],
      "execution_count": null,
      "outputs": []
    },
    {
      "cell_type": "code",
      "metadata": {
        "id": "fJxeEWJ5E0c0",
        "colab_type": "code",
        "colab": {}
      },
      "source": [
        "#Haciendo las predicciones en la data de test \n",
        "predicted_ratings = rec_model.transform(test)"
      ],
      "execution_count": null,
      "outputs": []
    },
    {
      "cell_type": "code",
      "metadata": {
        "id": "m55jvm2gEyCY",
        "colab_type": "code",
        "colab": {
          "base_uri": "https://localhost:8080/",
          "height": 204
        },
        "outputId": "e62e24e5-b22d-4bd5-e64c-3350e7edeab6"
      },
      "source": [
        "#Revisando los pronostico\n",
        "predicted_ratings.printSchema()"
      ],
      "execution_count": null,
      "outputs": [
        {
          "output_type": "stream",
          "text": [
            "root\n",
            " |-- userID: string (nullable = true)\n",
            " |-- userID_cod: integer (nullable = true)\n",
            " |-- placeID: integer (nullable = true)\n",
            " |-- Nombre_comerce: string (nullable = true)\n",
            " |-- Distrito: string (nullable = true)\n",
            " |-- rating_total: integer (nullable = true)\n",
            " |-- rating: integer (nullable = true)\n",
            " |-- Nombre_comerce_id: double (nullable = false)\n",
            " |-- prediction: float (nullable = false)\n",
            "\n"
          ],
          "name": "stdout"
        }
      ]
    },
    {
      "cell_type": "code",
      "metadata": {
        "id": "h8cfiAWkFHxi",
        "colab_type": "code",
        "colab": {
          "base_uri": "https://localhost:8080/",
          "height": 289
        },
        "outputId": "27b7fbd3-774c-463a-bae5-5fc3f70fc7c1"
      },
      "source": [
        "# Revision rapida de los pronosticos\n",
        "predicted_ratings.orderBy(rand()).show(10)"
      ],
      "execution_count": null,
      "outputs": [
        {
          "output_type": "stream",
          "text": [
            "+------+----------+-------+--------------------+---------------+------------+------+-----------------+----------+\n",
            "|userID|userID_cod|placeID|      Nombre_comerce|       Distrito|rating_total|rating|Nombre_comerce_id|prediction|\n",
            "+------+----------+-------+--------------------+---------------+------------+------+-----------------+----------+\n",
            "| U1110|        87| 134999|     Kiku Cuernavaca|     Cuernavaca|           6|     6|             67.0|  5.986145|\n",
            "| U1022|        51| 135033|Restaurant El Mul...|San Luis Potosi|           4|     4|             90.0| 3.9748328|\n",
            "| U1135|        95| 135060|Restaurante Maris...|San Luis Potosi|           0|     0|              6.0|       0.0|\n",
            "| U1045|        76| 135032|Cafeteria y Resta...|San Luis Potosi|           0|     0|              1.0|0.25708318|\n",
            "| U1116|        53| 135059|Restaurant Bar Ha...|San Luis Potosi|           4|     4|             49.0|  4.160031|\n",
            "| U1102|       101| 132870|Tortas y hamburgu...|San Luis Potosi|           4|     4|             75.0| 3.8473961|\n",
            "| U1085|        99| 135059|Restaurant Bar Ha...|San Luis Potosi|           5|     5|             49.0| 4.9299493|\n",
            "| U1106|        44| 135041|           Luna Cafe|San Luis Potosi|           3|     3|              9.0| 3.0811684|\n",
            "| U1082|         9| 132630|          palomo tec|       victoria|           3|     3|            101.0| 2.8810105|\n",
            "| U1053|        35| 135060|Restaurante Maris...|San Luis Potosi|           5|     5|              6.0| 5.0082808|\n",
            "+------+----------+-------+--------------------+---------------+------------+------+-----------------+----------+\n",
            "only showing top 10 rows\n",
            "\n"
          ],
          "name": "stdout"
        }
      ]
    },
    {
      "cell_type": "code",
      "metadata": {
        "id": "H5sy0MCST3xP",
        "colab_type": "code",
        "colab": {}
      },
      "source": [
        "# Generando los top 10 peliculas sugeridas por cada cliente\n",
        "userRecs = rec_model.recommendForAllUsers(10)"
      ],
      "execution_count": null,
      "outputs": []
    },
    {
      "cell_type": "code",
      "metadata": {
        "id": "iXB9FWCpUCEm",
        "colab_type": "code",
        "colab": {
          "base_uri": "https://localhost:8080/",
          "height": 204
        },
        "outputId": "72c5e2fc-7a5c-4504-e7d6-a4b4a2b2af1c"
      },
      "source": [
        "userRecs.show(5, False)"
      ],
      "execution_count": null,
      "outputs": [
        {
          "output_type": "stream",
          "text": [
            "+----------+-------------------------------------------------------------------------------------------------------------------------------------------------------------------------+\n",
            "|userID_cod|recommendations                                                                                                                                                          |\n",
            "+----------+-------------------------------------------------------------------------------------------------------------------------------------------------------------------------+\n",
            "|31        |[[94, 5.002146], [119, 4.9522953], [92, 4.9440827], [43, 4.785837], [4, 4.305575], [25, 4.2629194], [76, 4.065121], [68, 4.050144], [18, 3.9866621], [71, 3.9593832]]    |\n",
            "|85        |[[77, 5.956505], [14, 4.765882], [105, 4.4923162], [73, 4.483544], [86, 4.229867], [7, 4.2258863], [21, 4.199602], [37, 3.9781835], [65, 3.9648116], [62, 3.9604897]]    |\n",
            "|137       |[[92, 6.4969544], [25, 6.0120206], [4, 5.972985], [35, 5.7718644], [40, 5.6322675], [116, 5.361354], [18, 4.9114156], [31, 4.8226595], [102, 4.8000693], [43, 4.7508454]]|\n",
            "|65        |[[40, 8.969619], [62, 8.062254], [92, 7.8267927], [105, 7.4821887], [82, 7.479986], [18, 7.1067905], [35, 6.8894634], [8, 6.829876], [47, 6.7908597], [96, 6.790854]]    |\n",
            "|53        |[[92, 9.301904], [68, 8.696529], [40, 8.540739], [76, 8.377024], [25, 8.312627], [94, 7.9299526], [43, 7.790512], [119, 7.7859898], [125, 7.5440845], [114, 7.5015354]]  |\n",
            "+----------+-------------------------------------------------------------------------------------------------------------------------------------------------------------------------+\n",
            "only showing top 5 rows\n",
            "\n"
          ],
          "name": "stdout"
        }
      ]
    },
    {
      "cell_type": "markdown",
      "metadata": {
        "id": "hSEgqY-EpCYi",
        "colab_type": "text"
      },
      "source": [
        "# 5. Evaluación del poder predictivo del modelo\n"
      ]
    },
    {
      "cell_type": "code",
      "metadata": {
        "id": "DmVUSxsmpJ4M",
        "colab_type": "code",
        "colab": {
          "base_uri": "https://localhost:8080/",
          "height": 459
        },
        "outputId": "ca1c61d0-8015-464b-d7a7-d326f0f4bba5"
      },
      "source": [
        "# Creando la columna diferencia del pronostico\n",
        "predicted_ratings_witherr = predicted_ratings.withColumn(\n",
        "    'err', abs(predicted_ratings.prediction - predicted_ratings.rating)\n",
        ")\n",
        "\n",
        "predicted_ratings_witherr.show()"
      ],
      "execution_count": null,
      "outputs": [
        {
          "output_type": "stream",
          "text": [
            "+------+----------+-------+---------------+--------+------------+------+-----------------+----------+---------+\n",
            "|userID|userID_cod|placeID| Nombre_comerce|Distrito|rating_total|rating|Nombre_comerce_id|prediction|      err|\n",
            "+------+----------+-------+---------------+--------+------------+------+-----------------+----------+---------+\n",
            "| U1062|        93| 132872|Pizzeria Julios|   s.l.p|           0|     0|             31.0|       0.0|      0.0|\n",
            "| U1062|        93| 132872|Pizzeria Julios|   s.l.p|           0|     0|             31.0|       0.0|      0.0|\n",
            "| U1062|        93| 132872|Pizzeria Julios|   s.l.p|           0|     0|             31.0|       0.0|      0.0|\n",
            "| U1062|        93| 132872|Pizzeria Julios|   s.l.p|           0|     0|             31.0|       0.0|      0.0|\n",
            "| U1062|        93| 132872|Pizzeria Julios|   s.l.p|           0|     0|             31.0|       0.0|      0.0|\n",
            "| U1062|        93| 132872|Pizzeria Julios|   s.l.p|           0|     0|             31.0|       0.0|      0.0|\n",
            "| U1062|        93| 132872|Pizzeria Julios|   s.l.p|           0|     0|             31.0|       0.0|      0.0|\n",
            "| U1062|        93| 132872|Pizzeria Julios|   s.l.p|           0|     0|             31.0|       0.0|      0.0|\n",
            "| U1062|        93| 132872|Pizzeria Julios|   s.l.p|           0|     0|             31.0|       0.0|      0.0|\n",
            "| U1032|        96| 132872|Pizzeria Julios|   s.l.p|           3|     3|             31.0| 2.8604598|0.1395402|\n",
            "| U1032|        96| 132872|Pizzeria Julios|   s.l.p|           3|     3|             31.0| 2.8604598|0.1395402|\n",
            "| U1032|        96| 132872|Pizzeria Julios|   s.l.p|           3|     3|             31.0| 2.8604598|0.1395402|\n",
            "| U1032|        96| 132872|Pizzeria Julios|   s.l.p|           3|     3|             31.0| 2.8604598|0.1395402|\n",
            "| U1032|        96| 132872|Pizzeria Julios|   s.l.p|           3|     3|             31.0| 2.8604598|0.1395402|\n",
            "| U1032|        96| 132872|Pizzeria Julios|   s.l.p|           3|     3|             31.0| 2.8604598|0.1395402|\n",
            "| U1032|        96| 132872|Pizzeria Julios|   s.l.p|           3|     3|             31.0| 2.8604598|0.1395402|\n",
            "| U1032|        96| 132872|Pizzeria Julios|   s.l.p|           3|     3|             31.0| 2.8604598|0.1395402|\n",
            "| U1128|        92| 132872|Pizzeria Julios|   s.l.p|           0|     0|             31.0|       0.0|      0.0|\n",
            "| U1128|        92| 132872|Pizzeria Julios|   s.l.p|           0|     0|             31.0|       0.0|      0.0|\n",
            "| U1128|        92| 132872|Pizzeria Julios|   s.l.p|           0|     0|             31.0|       0.0|      0.0|\n",
            "+------+----------+-------+---------------+--------+------------+------+-----------------+----------+---------+\n",
            "only showing top 20 rows\n",
            "\n"
          ],
          "name": "stdout"
        }
      ]
    },
    {
      "cell_type": "code",
      "metadata": {
        "id": "5c9vbl7Q2b1x",
        "colab_type": "code",
        "colab": {
          "base_uri": "https://localhost:8080/",
          "height": 221
        },
        "outputId": "3901f06b-ac34-4ddd-ec1f-e5a14b072279"
      },
      "source": [
        "# Distribución de las valoraciones\n",
        "predicted_ratings.groupBy('rating').count().orderBy('rating',ascending=True).show()"
      ],
      "execution_count": null,
      "outputs": [
        {
          "output_type": "stream",
          "text": [
            "+------+-----+\n",
            "|rating|count|\n",
            "+------+-----+\n",
            "|     0| 1612|\n",
            "|     1|  326|\n",
            "|     2|  747|\n",
            "|     3| 2016|\n",
            "|     4| 1519|\n",
            "|     5| 1278|\n",
            "|     6| 2727|\n",
            "+------+-----+\n",
            "\n"
          ],
          "name": "stdout"
        }
      ]
    },
    {
      "cell_type": "code",
      "metadata": {
        "id": "GgQi748YvWu7",
        "colab_type": "code",
        "colab": {
          "base_uri": "https://localhost:8080/",
          "height": 221
        },
        "outputId": "3cb94a51-4d19-42e7-c169-c6f6eb76486e"
      },
      "source": [
        "# Error promedio por rating de valoracion\n",
        "predicted_ratings_witherr.groupBy('rating').agg({'err':'mean'}).orderBy('rating',ascending=True).show()"
      ],
      "execution_count": null,
      "outputs": [
        {
          "output_type": "stream",
          "text": [
            "+------+-------------------+\n",
            "|rating|           avg(err)|\n",
            "+------+-------------------+\n",
            "|     0|0.11545983166798571|\n",
            "|     1|0.12181953071085222|\n",
            "|     2|0.10642437124188486|\n",
            "|     3| 0.0716917235699911|\n",
            "|     4| 0.0726899568621778|\n",
            "|     5| 0.0808926456970788|\n",
            "|     6| 0.0804295004791159|\n",
            "+------+-------------------+\n",
            "\n"
          ],
          "name": "stdout"
        }
      ]
    },
    {
      "cell_type": "code",
      "metadata": {
        "id": "JO5oYYa_dnZT",
        "colab_type": "code",
        "colab": {
          "base_uri": "https://localhost:8080/",
          "height": 221
        },
        "outputId": "fdbd1377-08a1-4739-ec90-16711276ee70"
      },
      "source": [
        "# Error promedio por rating de valoracion\n",
        "predicted_ratings_witherr.groupBy('rating').agg({'err':'std'}).orderBy('rating',ascending=True).show()"
      ],
      "execution_count": null,
      "outputs": [
        {
          "output_type": "stream",
          "text": [
            "+------+-------------------+\n",
            "|rating|        stddev(err)|\n",
            "+------+-------------------+\n",
            "|     0|0.17001643611396375|\n",
            "|     1|0.11162416989113194|\n",
            "|     2|0.09136079152762806|\n",
            "|     3|0.07643020301488447|\n",
            "|     4|0.08190661843351289|\n",
            "|     5|0.07848069842616054|\n",
            "|     6|0.08187443500718211|\n",
            "+------+-------------------+\n",
            "\n"
          ],
          "name": "stdout"
        }
      ]
    },
    {
      "cell_type": "code",
      "metadata": {
        "id": "e0uziR670BFM",
        "colab_type": "code",
        "colab": {}
      },
      "source": [
        "#Importando el evaluador de Regresion RMSE \n",
        "from pyspark.ml.evaluation import RegressionEvaluator"
      ],
      "execution_count": null,
      "outputs": []
    },
    {
      "cell_type": "code",
      "metadata": {
        "id": "XFO3FDV_ysT2",
        "colab_type": "code",
        "colab": {}
      },
      "source": [
        "#Evluando la presición del pronostico\n",
        "evaluator=RegressionEvaluator(metricName='rmse',predictionCol='prediction',labelCol='rating')"
      ],
      "execution_count": null,
      "outputs": []
    },
    {
      "cell_type": "code",
      "metadata": {
        "id": "kP7KuqQbz7UD",
        "colab_type": "code",
        "colab": {}
      },
      "source": [
        "#Evluando el error de pronostico global\n",
        "rmse=evaluator.evaluate(predicted_ratings)"
      ],
      "execution_count": null,
      "outputs": []
    },
    {
      "cell_type": "code",
      "metadata": {
        "id": "z4fUBfZ03t4Z",
        "colab_type": "code",
        "colab": {
          "base_uri": "https://localhost:8080/",
          "height": 34
        },
        "outputId": "35d552b2-160a-4ae1-9cd1-5d9181ee549d"
      },
      "source": [
        "#Imprimiento el error\n",
        "print(rmse)"
      ],
      "execution_count": null,
      "outputs": [
        {
          "output_type": "stream",
          "text": [
            "0.13418804205726628\n"
          ],
          "name": "stdout"
        }
      ]
    },
    {
      "cell_type": "markdown",
      "metadata": {
        "id": "KG2wbeNe4hDU",
        "colab_type": "text"
      },
      "source": [
        "# 6. Recomendandor de peliculas, ya listo!"
      ]
    },
    {
      "cell_type": "code",
      "metadata": {
        "id": "06wR5qaF4pLL",
        "colab_type": "code",
        "colab": {}
      },
      "source": [
        "#Listado de peliculas unicas\n",
        "unique_movies = indexed.select('title_new').distinct()"
      ],
      "execution_count": null,
      "outputs": []
    },
    {
      "cell_type": "code",
      "metadata": {
        "id": "WIRmCdZNHNfX",
        "colab_type": "code",
        "colab": {
          "base_uri": "https://localhost:8080/",
          "height": 34
        },
        "outputId": "830b8cf1-1da9-4eec-9434-53fdc3fabbd6"
      },
      "source": [
        "#Total de peliculas\n",
        "unique_movies.count()"
      ],
      "execution_count": null,
      "outputs": [
        {
          "output_type": "execute_result",
          "data": {
            "text/plain": [
              "1664"
            ]
          },
          "metadata": {
            "tags": []
          },
          "execution_count": 49
        }
      ]
    },
    {
      "cell_type": "code",
      "metadata": {
        "id": "taX8DiH85XBQ",
        "colab_type": "code",
        "colab": {}
      },
      "source": [
        "#Asignando un alias {a} la lista unica de peliculas\n",
        "a = unique_movies.alias('a')"
      ],
      "execution_count": null,
      "outputs": []
    },
    {
      "cell_type": "code",
      "metadata": {
        "id": "XBoqyCAU51sv",
        "colab_type": "code",
        "colab": {
          "base_uri": "https://localhost:8080/",
          "height": 34
        },
        "outputId": "0d1a88f6-c68b-41c8-baa3-7e0d9e68564c"
      },
      "source": [
        "# Eligiendo un cliente\n",
        "user_id=100\n",
        "\n",
        "# Creando una tabla que contiene una pelicula por usuario\n",
        "watched_movies=indexed.filter(indexed['userId'] == user_id).select('title_new').distinct()\n",
        "\n",
        "#Numero de peliculas ya evaluadas \n",
        "watched_movies.count()"
      ],
      "execution_count": null,
      "outputs": [
        {
          "output_type": "execute_result",
          "data": {
            "text/plain": [
              "59"
            ]
          },
          "metadata": {
            "tags": []
          },
          "execution_count": 51
        }
      ]
    },
    {
      "cell_type": "code",
      "metadata": {
        "id": "oyv-yms65v5v",
        "colab_type": "code",
        "colab": {}
      },
      "source": [
        "# Asignando un alias  {b} ha peliculas que el usuario ya vio de la tabla\n",
        "b=watched_movies.alias('b')"
      ],
      "execution_count": null,
      "outputs": []
    },
    {
      "cell_type": "code",
      "metadata": {
        "id": "2g1l6cNKIg3N",
        "colab_type": "code",
        "colab": {}
      },
      "source": [
        "#Cruzando ambas tablas\n",
        "total_movies = a.join(b, a.title_new == b.title_new,how='left')"
      ],
      "execution_count": null,
      "outputs": []
    },
    {
      "cell_type": "code",
      "metadata": {
        "id": "oQSPG1WPIyHc",
        "colab_type": "code",
        "colab": {
          "base_uri": "https://localhost:8080/",
          "height": 289
        },
        "outputId": "7e35618c-70e3-4ae2-a647-9a6d8599633a"
      },
      "source": [
        "total_movies.show(10,False)"
      ],
      "execution_count": null,
      "outputs": [
        {
          "output_type": "stream",
          "text": [
            "+---------+---------+\n",
            "|title_new|title_new|\n",
            "+---------+---------+\n",
            "|558.0    |null     |\n",
            "|305.0    |null     |\n",
            "|299.0    |null     |\n",
            "|596.0    |null     |\n",
            "|769.0    |null     |\n",
            "|934.0    |null     |\n",
            "|496.0    |null     |\n",
            "|1051.0   |null     |\n",
            "|692.0    |null     |\n",
            "|810.0    |null     |\n",
            "+---------+---------+\n",
            "only showing top 10 rows\n",
            "\n"
          ],
          "name": "stdout"
        }
      ]
    },
    {
      "cell_type": "code",
      "metadata": {
        "id": "jTTbDE_oI4Rv",
        "colab_type": "code",
        "colab": {}
      },
      "source": [
        "# Seleccionando peliculas que el cliente aun no ha mirado\n",
        "remaining_movies=total_movies.where(col(\"b.title_new\").isNull()).select(a.title_new).distinct()"
      ],
      "execution_count": null,
      "outputs": []
    },
    {
      "cell_type": "code",
      "metadata": {
        "id": "oNshK4j_JBIG",
        "colab_type": "code",
        "colab": {
          "base_uri": "https://localhost:8080/",
          "height": 459
        },
        "outputId": "8aca208d-c6b9-44ba-8bed-0199c41b3092"
      },
      "source": [
        "remaining_movies.show()"
      ],
      "execution_count": null,
      "outputs": [
        {
          "output_type": "stream",
          "text": [
            "+---------+\n",
            "|title_new|\n",
            "+---------+\n",
            "|    558.0|\n",
            "|    305.0|\n",
            "|    299.0|\n",
            "|    596.0|\n",
            "|    769.0|\n",
            "|    934.0|\n",
            "|    496.0|\n",
            "|   1051.0|\n",
            "|    692.0|\n",
            "|    810.0|\n",
            "|    720.0|\n",
            "|    782.0|\n",
            "|    184.0|\n",
            "|    147.0|\n",
            "|    576.0|\n",
            "|    170.0|\n",
            "|   1369.0|\n",
            "|   1587.0|\n",
            "|    608.0|\n",
            "|    735.0|\n",
            "+---------+\n",
            "only showing top 20 rows\n",
            "\n"
          ],
          "name": "stdout"
        }
      ]
    },
    {
      "cell_type": "code",
      "metadata": {
        "id": "0g1asm_eJMhe",
        "colab_type": "code",
        "colab": {
          "base_uri": "https://localhost:8080/",
          "height": 34
        },
        "outputId": "256f5508-f5ed-45c4-c7cd-dcf476cd741e"
      },
      "source": [
        "# Numero de peliculas que los usuario aun no lo ven \n",
        "remaining_movies.count()"
      ],
      "execution_count": null,
      "outputs": [
        {
          "output_type": "execute_result",
          "data": {
            "text/plain": [
              "1605"
            ]
          },
          "metadata": {
            "tags": []
          },
          "execution_count": 57
        }
      ]
    },
    {
      "cell_type": "code",
      "metadata": {
        "id": "ZEualSXXJZfQ",
        "colab_type": "code",
        "colab": {}
      },
      "source": [
        "# Agregando una nueva columna del usuario \n",
        "remaining_movies=remaining_movies.withColumn(\"userId\",lit(int(user_id)))"
      ],
      "execution_count": null,
      "outputs": []
    },
    {
      "cell_type": "code",
      "metadata": {
        "id": "mYwMGFg2Jr5L",
        "colab_type": "code",
        "colab": {
          "base_uri": "https://localhost:8080/",
          "height": 289
        },
        "outputId": "6052b356-46f1-4fcd-e475-d8dc007b8aff"
      },
      "source": [
        "remaining_movies.show(10,False)"
      ],
      "execution_count": null,
      "outputs": [
        {
          "output_type": "stream",
          "text": [
            "+---------+------+\n",
            "|title_new|userId|\n",
            "+---------+------+\n",
            "|558.0    |100   |\n",
            "|305.0    |100   |\n",
            "|299.0    |100   |\n",
            "|596.0    |100   |\n",
            "|769.0    |100   |\n",
            "|934.0    |100   |\n",
            "|496.0    |100   |\n",
            "|1051.0   |100   |\n",
            "|692.0    |100   |\n",
            "|810.0    |100   |\n",
            "+---------+------+\n",
            "only showing top 10 rows\n",
            "\n"
          ],
          "name": "stdout"
        }
      ]
    },
    {
      "cell_type": "code",
      "metadata": {
        "id": "6VI20fG2Jy-s",
        "colab_type": "code",
        "colab": {}
      },
      "source": [
        "# Haciendo la recomendacion de peliculas utilizando el modelo recomendador ALS y seleccionado solo las mejores top {n} peliculas\n",
        "recommendations=rec_model.transform(remaining_movies).orderBy('prediction',ascending=False)"
      ],
      "execution_count": null,
      "outputs": []
    },
    {
      "cell_type": "code",
      "metadata": {
        "id": "Vho32qWRKBYz",
        "colab_type": "code",
        "colab": {
          "base_uri": "https://localhost:8080/",
          "height": 204
        },
        "outputId": "2086bd5d-44ec-43b9-b684-0bb7c5d6f0ae"
      },
      "source": [
        "recommendations.show(5,False)"
      ],
      "execution_count": null,
      "outputs": [
        {
          "output_type": "stream",
          "text": [
            "+---------+------+----------+\n",
            "|title_new|userId|prediction|\n",
            "+---------+------+----------+\n",
            "|1066.0   |100   |6.513842  |\n",
            "|930.0    |100   |5.687636  |\n",
            "|923.0    |100   |5.469397  |\n",
            "|1239.0   |100   |5.418679  |\n",
            "|869.0    |100   |5.2863975 |\n",
            "+---------+------+----------+\n",
            "only showing top 5 rows\n",
            "\n"
          ],
          "name": "stdout"
        }
      ]
    },
    {
      "cell_type": "code",
      "metadata": {
        "id": "WvNsq2skKF4t",
        "colab_type": "code",
        "colab": {}
      },
      "source": [
        "# Consiguiendo los de las peliculas sugeridas\n",
        "movie_title = IndexToString(inputCol=\"title_new\", outputCol=\"title\",labels=model.labels)\n",
        "\n",
        "final_recommendations=movie_title.transform(recommendations)"
      ],
      "execution_count": null,
      "outputs": []
    },
    {
      "cell_type": "code",
      "metadata": {
        "id": "cKjoYW7NKNkO",
        "colab_type": "code",
        "colab": {
          "base_uri": "https://localhost:8080/",
          "height": 289
        },
        "outputId": "1968dd5f-9289-4403-81fb-b01d32e00707"
      },
      "source": [
        "final_recommendations.show(10,False)"
      ],
      "execution_count": null,
      "outputs": [
        {
          "output_type": "stream",
          "text": [
            "+---------+------+----------+-------------------------------------------------------------------------+\n",
            "|title_new|userId|prediction|title                                                                    |\n",
            "+---------+------+----------+-------------------------------------------------------------------------+\n",
            "|1066.0   |100   |6.513842  |Alphaville (1965)                                                        |\n",
            "|930.0    |100   |5.687636  |Ma vie en rose (My Life in Pink) (1997)                                  |\n",
            "|923.0    |100   |5.469397  |Indian Summer (1996)                                                     |\n",
            "|1239.0   |100   |5.418679  |Swept from the Sea (1997)                                                |\n",
            "|869.0    |100   |5.2863975 |Burnt By the Sun (1994)                                                  |\n",
            "|840.0    |100   |5.2617555 |Ghost in the Shell (Kokaku kidotai) (1995)                               |\n",
            "|1121.0   |100   |5.0466433 |Crooklyn (1994)                                                          |\n",
            "|944.0    |100   |5.0405154 |Surviving Picasso (1996)                                                 |\n",
            "|890.0    |100   |4.9305634 |Double vie de V<U+008E>ronique, La (Double Life of Veronique, The) (1991)|\n",
            "|445.0    |100   |4.9228086 |Heavy Metal (1981)                                                       |\n",
            "+---------+------+----------+-------------------------------------------------------------------------+\n",
            "only showing top 10 rows\n",
            "\n"
          ],
          "name": "stdout"
        }
      ]
    },
    {
      "cell_type": "markdown",
      "metadata": {
        "id": "qg-eHdVRDZHq",
        "colab_type": "text"
      },
      "source": [
        "# 7. Construyendo las funcion que sugiera una pelicula recomendada segun el modelo recomendador"
      ]
    },
    {
      "cell_type": "code",
      "metadata": {
        "id": "u4LLYAgXDpnL",
        "colab_type": "code",
        "colab": {}
      },
      "source": [
        "# Funcion para recomendar las top n peliculas para cualquier usuario\n",
        "def top_movies(user_id,n):\n",
        "    \"\"\"\n",
        "    This function returns the top 'n' movies that user has not seen yet but might like \n",
        "    \n",
        "    \"\"\"\n",
        "    # Asignación de una lista de peliculas unicas a\n",
        "    a = unique_movies.alias('a')\n",
        "    \n",
        "    # Creando otra tabla que contiene las peliculas que ya vio el usuario\n",
        "    watched_movies=indexed.filter(indexed['userId'] == user_id).select('title_new')\n",
        "    \n",
        "    # Asignanción de tabla de peliculas b de peliculas ya vistas \n",
        "    b=watched_movies.alias('b')\n",
        "    \n",
        "    # Cruce de ambas tablas\n",
        "    total_movies = a.join(b, a.title_new == b.title_new,how='left')\n",
        "    \n",
        "    # Seleccionando peliculas que el usuario no ha visto aun \n",
        "    remaining_movies=total_movies.where(col(\"b.title_new\").isNull()).select(a.title_new).distinct()\n",
        "        \n",
        "    #Agregando una nueva columan del cliente  \n",
        "    remaining_movies=remaining_movies.withColumn(\"userId\",lit(int(user_id)))\n",
        "    \n",
        "    # REalizando la recomendnado de peliculas mas adecuada utilizando el Sistema de recomendador del modelo ALS y seleccionando las mejores peliculas\n",
        "    recommendations=rec_model.transform(remaining_movies).orderBy('prediction',ascending=False).limit(n)\n",
        "\n",
        "    # Agregando los titulos de las peliculas en texto   \n",
        "    movie_title = IndexToString(inputCol=\"title_new\", outputCol=\"title\",labels=model.labels)\n",
        "    final_recommendations=movie_title.transform(recommendations)\n",
        "    \n",
        "    # Entregando los titutlos recomendado por usuario\n",
        "    return final_recommendations.show(n,False)\n"
      ],
      "execution_count": null,
      "outputs": []
    },
    {
      "cell_type": "code",
      "metadata": {
        "id": "3o06Kl2nMt2a",
        "colab_type": "code",
        "colab": {
          "base_uri": "https://localhost:8080/",
          "height": 357
        },
        "outputId": "c7298e7c-8516-43a4-f760-175bcf27a559"
      },
      "source": [
        "# REvision del clientes y las 10 peliculas sugeridas para el cliente\n",
        "top_movies(123,15)"
      ],
      "execution_count": null,
      "outputs": [
        {
          "output_type": "stream",
          "text": [
            "+---------+------+----------+-------------------------------------------------------------------------+\n",
            "|title_new|userId|prediction|title                                                                    |\n",
            "+---------+------+----------+-------------------------------------------------------------------------+\n",
            "|1358.0   |123   |6.666241  |Angel Baby (1995)                                                        |\n",
            "|1121.0   |123   |6.456703  |Crooklyn (1994)                                                          |\n",
            "|910.0    |123   |5.9415126 |Mis<U+008E>rables, Les (1995)                                            |\n",
            "|739.0    |123   |5.817608  |Night on Earth (1991)                                                    |\n",
            "|1184.0   |123   |5.6485686 |Maybe, Maybe Not (Bewegte Mann, Der) (1994)                              |\n",
            "|1182.0   |123   |5.599687  |Kaspar Hauser (1993)                                                     |\n",
            "|495.0    |123   |5.541688  |In the Company of Men (1997)                                             |\n",
            "|966.0    |123   |5.51511   |Hate (Haine, La) (1995)                                                  |\n",
            "|890.0    |123   |5.503586  |Double vie de V<U+008E>ronique, La (Double Life of Veronique, The) (1991)|\n",
            "|164.0    |123   |5.384238  |Big Night (1996)                                                         |\n",
            "|652.0    |123   |5.3291984 |M (1931)                                                                 |\n",
            "|656.0    |123   |5.2943554 |Sweet Hereafter, The (1997)                                              |\n",
            "|756.0    |123   |5.2814465 |Orlando (1993)                                                           |\n",
            "|946.0    |123   |5.2668195 |Gridlock'd (1997)                                                        |\n",
            "|1213.0   |123   |5.247176  |Aparajito (1956)                                                         |\n",
            "+---------+------+----------+-------------------------------------------------------------------------+\n",
            "\n"
          ],
          "name": "stdout"
        }
      ]
    },
    {
      "cell_type": "code",
      "metadata": {
        "id": "v6CUg2sShtTP",
        "colab_type": "code",
        "colab": {
          "base_uri": "https://localhost:8080/",
          "height": 459
        },
        "outputId": "0e4e24df-3813-47f6-a3fe-6567e0ffee2e"
      },
      "source": [
        "# El cliente 450 que revisa Star Wars\n",
        "DS_peliculas_rating.filter((DS_peliculas_rating['rating']>4)&(DS_peliculas_rating['userId']=='450')).show()"
      ],
      "execution_count": null,
      "outputs": [
        {
          "output_type": "stream",
          "text": [
            "+------+--------------------+------+\n",
            "|userId|               title|rating|\n",
            "+------+--------------------+------+\n",
            "|   450|L.A. Confidential...|     5|\n",
            "|   450|Dr. Strangelove o...|     5|\n",
            "|   450|Hunt for Red Octo...|     5|\n",
            "|   450|Age of Innocence,...|     5|\n",
            "|   450|     Die Hard (1988)|     5|\n",
            "|   450|Right Stuff, The ...|     5|\n",
            "|   450|Sleepless in Seat...|     5|\n",
            "|   450|   Sting, The (1973)|     5|\n",
            "|   450|  Rear Window (1954)|     5|\n",
            "|   450|Dead Poets Societ...|     5|\n",
            "|   450|Sound of Music, T...|     5|\n",
            "|   450|E.T. the Extra-Te...|     5|\n",
            "|   450|Brothers McMullen...|     5|\n",
            "|   450|To Kill a Mocking...|     5|\n",
            "|   450|   Old Yeller (1957)|     5|\n",
            "|   450|Jerry Maguire (1996)|     5|\n",
            "|   450|     Backbeat (1993)|     5|\n",
            "|   450|  Taxi Driver (1976)|     5|\n",
            "|   450|Young Frankenstei...|     5|\n",
            "|   450|It's a Wonderful ...|     5|\n",
            "+------+--------------------+------+\n",
            "only showing top 20 rows\n",
            "\n"
          ],
          "name": "stdout"
        }
      ]
    },
    {
      "cell_type": "code",
      "metadata": {
        "id": "LSZ9IReFibmG",
        "colab_type": "code",
        "colab": {
          "base_uri": "https://localhost:8080/",
          "height": 357
        },
        "outputId": "2f990898-23f2-4fe0-9125-5bfac67a3636"
      },
      "source": [
        "# REvision del clientes y las 10 peliculas sugeridas para el cliente\n",
        "top_movies(450,15)"
      ],
      "execution_count": null,
      "outputs": [
        {
          "output_type": "stream",
          "text": [
            "+---------+------+----------+----------------------------------+\n",
            "|title_new|userId|prediction|title                             |\n",
            "+---------+------+----------+----------------------------------+\n",
            "|944.0    |450   |5.4597893 |Surviving Picasso (1996)          |\n",
            "|1072.0   |450   |5.440328  |Radioland Murders (1994)          |\n",
            "|1358.0   |450   |5.2606144 |Angel Baby (1995)                 |\n",
            "|1271.0   |450   |5.168796  |Whole Wide World, The (1996)      |\n",
            "|1266.0   |450   |5.114764  |Promesse, La (1996)               |\n",
            "|923.0    |450   |5.1098905 |Indian Summer (1996)              |\n",
            "|1023.0   |450   |5.100616  |Gay Divorcee, The (1934)          |\n",
            "|581.0    |450   |5.0989923 |Koyaanisqatsi (1983)              |\n",
            "|1195.0   |450   |5.0697556 |Pather Panchali (1955)            |\n",
            "|988.0    |450   |5.066791  |Ruling Class, The (1972)          |\n",
            "|997.0    |450   |5.0588284 |Selena (1997)                     |\n",
            "|1450.0   |450   |5.0580397 |C<U+008E>r<U+008E>monie, La (1995)|\n",
            "|1488.0   |450   |5.021508  |Slingshot, The (1993)             |\n",
            "|1501.0   |450   |5.007907  |Butcher Boy, The (1998)           |\n",
            "|1643.0   |450   |5.007907  |Brothers in Trouble (1995)        |\n",
            "+---------+------+----------+----------------------------------+\n",
            "\n"
          ],
          "name": "stdout"
        }
      ]
    }
  ]
}