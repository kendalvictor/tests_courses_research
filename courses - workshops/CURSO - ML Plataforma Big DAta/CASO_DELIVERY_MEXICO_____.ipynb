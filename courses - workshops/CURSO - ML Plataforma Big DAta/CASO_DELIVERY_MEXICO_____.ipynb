{
 "cells": [
  {
   "cell_type": "markdown",
   "metadata": {
    "colab_type": "text",
    "id": "oZYjeFl20oa5"
   },
   "source": [
    "# 0. Instalacion de utilitarios Pyspark"
   ]
  },
  {
   "cell_type": "code",
   "execution_count": null,
   "metadata": {
    "colab": {},
    "colab_type": "code",
    "id": "y6zaa4yk0uIV"
   },
   "outputs": [],
   "source": [
    "!apt-get install openjdk-8-jdk-headless -qq > /dev/null\n",
    "!wget -q https://www-us.apache.org/dist/spark/spark-2.3.4/spark-2.3.4-bin-hadoop2.7.tgz\n",
    "!tar xf spark-2.3.4-bin-hadoop2.7.tgz"
   ]
  },
  {
   "cell_type": "code",
   "execution_count": null,
   "metadata": {
    "colab": {},
    "colab_type": "code",
    "id": "c0SmG6708QQ6"
   },
   "outputs": [],
   "source": [
    "!apt-get install openjdk-8-jdk-headless -qq > /dev/null\n",
    "!wget -q https://www-us.apache.org/dist/spark/spark-2.4.4/spark-2.4.4-bin-hadoop2.7.tgz\n",
    "!tar xf spark-2.4.4-bin-hadoop2.7.tgz"
   ]
  },
  {
   "cell_type": "code",
   "execution_count": null,
   "metadata": {
    "colab": {},
    "colab_type": "code",
    "id": "tyor71X98igS"
   },
   "outputs": [],
   "source": [
    "!pip install -q findspark"
   ]
  },
  {
   "cell_type": "code",
   "execution_count": null,
   "metadata": {
    "colab": {
     "base_uri": "https://localhost:8080/",
     "height": 35
    },
    "colab_type": "code",
    "id": "EoLZTLrvsjdA",
    "outputId": "c12320c8-a296-4cab-c2ec-f5571c29134a"
   },
   "outputs": [
    {
     "data": {
      "text/plain": [
       "'/content'"
      ]
     },
     "execution_count": 4,
     "metadata": {
      "tags": []
     },
     "output_type": "execute_result"
    }
   ],
   "source": [
    "pwd"
   ]
  },
  {
   "cell_type": "code",
   "execution_count": null,
   "metadata": {
    "colab": {},
    "colab_type": "code",
    "id": "mRsVKjDvsmoC"
   },
   "outputs": [],
   "source": [
    "import os\n",
    "os.environ[\"JAVA_HOME\"] = \"/usr/lib/jvm/java-8-openjdk-amd64\"\n",
    "os.environ[\"SPARK_HOME\"] = \"/content/spark-2.4.4-bin-hadoop2.7\"\n"
   ]
  },
  {
   "cell_type": "code",
   "execution_count": null,
   "metadata": {
    "colab": {
     "base_uri": "https://localhost:8080/",
     "height": 271
    },
    "colab_type": "code",
    "id": "OsNTQa-qsr7j",
    "outputId": "c8b44757-9750-4183-c268-f4b79ca899fd"
   },
   "outputs": [
    {
     "name": "stdout",
     "output_type": "stream",
     "text": [
      "Collecting pyspark\n",
      "\u001b[?25l  Downloading https://files.pythonhosted.org/packages/87/21/f05c186f4ddb01d15d0ddc36ef4b7e3cedbeb6412274a41f26b55a650ee5/pyspark-2.4.4.tar.gz (215.7MB)\n",
      "\u001b[K     |████████████████████████████████| 215.7MB 59kB/s \n",
      "\u001b[?25hCollecting py4j==0.10.7\n",
      "\u001b[?25l  Downloading https://files.pythonhosted.org/packages/e3/53/c737818eb9a7dc32a7cd4f1396e787bd94200c3997c72c1dbe028587bd76/py4j-0.10.7-py2.py3-none-any.whl (197kB)\n",
      "\u001b[K     |████████████████████████████████| 204kB 47.5MB/s \n",
      "\u001b[?25hBuilding wheels for collected packages: pyspark\n",
      "  Building wheel for pyspark (setup.py) ... \u001b[?25l\u001b[?25hdone\n",
      "  Created wheel for pyspark: filename=pyspark-2.4.4-py2.py3-none-any.whl size=216130387 sha256=0c068d0a085c03d277abba35c7479db62d8641a9c10530ee44a8bb92856ec96b\n",
      "  Stored in directory: /root/.cache/pip/wheels/ab/09/4d/0d184230058e654eb1b04467dbc1292f00eaa186544604b471\n",
      "Successfully built pyspark\n",
      "Installing collected packages: py4j, pyspark\n",
      "Successfully installed py4j-0.10.7 pyspark-2.4.4\n"
     ]
    }
   ],
   "source": [
    "!pip install pyspark"
   ]
  },
  {
   "cell_type": "code",
   "execution_count": null,
   "metadata": {
    "colab": {},
    "colab_type": "code",
    "id": "qW5mGpUavI1w"
   },
   "outputs": [],
   "source": [
    "!export PYSPARK_SUBMIT_ARGS=\"--master local[2] pyspark-shell\""
   ]
  },
  {
   "cell_type": "code",
   "execution_count": null,
   "metadata": {
    "colab": {},
    "colab_type": "code",
    "id": "zCKm2w9rswTv"
   },
   "outputs": [],
   "source": [
    "from pyspark.sql import SparkSession\n",
    "from pyspark import SparkContext\n",
    "\n",
    "spark = SparkSession.builder.master(\"local\").getOrCreate()\n",
    "sc = SparkContext.getOrCreate()"
   ]
  },
  {
   "cell_type": "markdown",
   "metadata": {
    "colab_type": "text",
    "id": "NXie2Umg1DZk"
   },
   "source": [
    "# 1. Lectura del origen datos"
   ]
  },
  {
   "cell_type": "code",
   "execution_count": null,
   "metadata": {
    "colab": {},
    "colab_type": "code",
    "id": "W-l6Pu6f1HO9"
   },
   "outputs": [],
   "source": [
    "# Lectura desde un archivo fisico\n",
    "#from google.colab import files\n",
    "#uploaded = files.upload()"
   ]
  },
  {
   "cell_type": "code",
   "execution_count": null,
   "metadata": {
    "colab": {
     "base_uri": "https://localhost:8080/",
     "height": 127
    },
    "colab_type": "code",
    "id": "zZL0PhM88Eys",
    "outputId": "745f403c-d520-4838-d93a-defbe710b8cd"
   },
   "outputs": [
    {
     "name": "stdout",
     "output_type": "stream",
     "text": [
      "Go to this URL in a browser: https://accounts.google.com/o/oauth2/auth?client_id=947318989803-6bn6qk8qdgf4n4g3pfee6491hc0brc4i.apps.googleusercontent.com&redirect_uri=urn%3Aietf%3Awg%3Aoauth%3A2.0%3Aoob&scope=email%20https%3A%2F%2Fwww.googleapis.com%2Fauth%2Fdocs.test%20https%3A%2F%2Fwww.googleapis.com%2Fauth%2Fdrive%20https%3A%2F%2Fwww.googleapis.com%2Fauth%2Fdrive.photos.readonly%20https%3A%2F%2Fwww.googleapis.com%2Fauth%2Fpeopleapi.readonly&response_type=code\n",
      "\n",
      "Enter your authorization code:\n",
      "··········\n",
      "Mounted at /content/drive\n"
     ]
    }
   ],
   "source": [
    "\n",
    "# Conexion al drive\n",
    "#---------------------------\n",
    "from google.colab import drive\n",
    "drive.mount('/content/drive')"
   ]
  },
  {
   "cell_type": "code",
   "execution_count": null,
   "metadata": {
    "colab": {
     "base_uri": "https://localhost:8080/",
     "height": 107
    },
    "colab_type": "code",
    "id": "BZQDnxtq2G2L",
    "outputId": "ffdc9c73-bb23-4d5d-a9d9-9024755b711f"
   },
   "outputs": [
    {
     "name": "stdout",
     "output_type": "stream",
     "text": [
      "'Caso de recomendacion tipo rappi.pptx'\n",
      " Comercio_tipo_rappi.csv\n",
      " Comercio_tipo_rappi.gsheet\n",
      "'PySpark tutorial – a case study using Random Forest on unbalanced dataset – Weimin Wang.url'\n",
      "'Solucion_CASO_DELIVERY_MEXICO (1).ipynb'\n"
     ]
    }
   ],
   "source": [
    "ls \"/content/drive/My Drive/PySpark Machine Learning en plataforma Big Data/Training R ML en Casos de Negocios/8_Recomendacion_comercio\"\n"
   ]
  },
  {
   "cell_type": "markdown",
   "metadata": {
    "colab_type": "text",
    "id": "ltZocWSm2l9G"
   },
   "source": [
    "#2.  Cargando los datos en formato Spark"
   ]
  },
  {
   "cell_type": "code",
   "execution_count": null,
   "metadata": {
    "colab": {
     "base_uri": "https://localhost:8080/",
     "height": 215
    },
    "colab_type": "code",
    "id": "xg8zoYu62uhd",
    "outputId": "945b5365-a6cc-43ce-b1ba-2577f1fc8505"
   },
   "outputs": [
    {
     "name": "stdout",
     "output_type": "stream",
     "text": [
      "root\n",
      " |-- userID: string (nullable = true)\n",
      " |-- userID_cod: integer (nullable = true)\n",
      " |-- placeID: integer (nullable = true)\n",
      " |-- Nombre_comerce: string (nullable = true)\n",
      " |-- Distrito: string (nullable = true)\n",
      " |-- rating: integer (nullable = true)\n",
      " |-- food_rating: integer (nullable = true)\n",
      " |-- service_rating: integer (nullable = true)\n",
      " |-- rating_total: integer (nullable = true)\n",
      "\n"
     ]
    }
   ],
   "source": [
    "DS_peliculas_rating = spark.read.csv(\n",
    "    '/content/drive/My Drive/PySpark Machine Learning en plataforma Big Data/Training R ML en Casos de Negocios/8_Recomendacion_comercio/Comercio_tipo_rappi.csv', \n",
    "    sep=';',\n",
    "    header=True, \n",
    "    inferSchema=True\n",
    ")\n",
    "\n",
    "DS_peliculas_rating.printSchema()"
   ]
  },
  {
   "cell_type": "code",
   "execution_count": null,
   "metadata": {
    "colab": {
     "base_uri": "https://localhost:8080/",
     "height": 35
    },
    "colab_type": "code",
    "id": "DevCxW045s4B",
    "outputId": "7697c76a-22f9-46a0-da92-1a33c784be20"
   },
   "outputs": [
    {
     "name": "stdout",
     "output_type": "stream",
     "text": [
      "50766 9\n"
     ]
    }
   ],
   "source": [
    "# Dimensiona de base\n",
    "print(\n",
    "    DS_peliculas_rating.count(),\n",
    "    len(DS_peliculas_rating.columns)\n",
    ")"
   ]
  },
  {
   "cell_type": "code",
   "execution_count": null,
   "metadata": {
    "colab": {
     "base_uri": "https://localhost:8080/",
     "height": 215
    },
    "colab_type": "code",
    "id": "RBEt1wHV2Zy4",
    "outputId": "111792a2-7ad6-451a-e440-4112f3398b6d"
   },
   "outputs": [
    {
     "name": "stdout",
     "output_type": "stream",
     "text": [
      "+------+----------+-------+--------------------+---------------+------+-----------+--------------+------------+\n",
      "|userID|userID_cod|placeID|      Nombre_comerce|       Distrito|rating|food_rating|service_rating|rating_total|\n",
      "+------+----------+-------+--------------------+---------------+------+-----------+--------------+------------+\n",
      "| U1077|         1| 135085|Tortas Locas Hipo...|San Luis Potosi|     2|          2|             2|           6|\n",
      "| U1077|         1| 135038|Restaurant la Cha...|San Luis Potosi|     2|          2|             1|           5|\n",
      "| U1077|         1| 132825|     puesto de tacos|         s.l.p.|     2|          2|             2|           6|\n",
      "| U1077|         1| 135060|Restaurante Maris...|San Luis Potosi|     1|          2|             2|           5|\n",
      "| U1068|         2| 135104|                vips|              0|     1|          1|             2|           4|\n",
      "+------+----------+-------+--------------------+---------------+------+-----------+--------------+------------+\n",
      "only showing top 5 rows\n",
      "\n"
     ]
    }
   ],
   "source": [
    "# 2.2 Revisiones  \n",
    "DS_peliculas_rating.show(5)"
   ]
  },
  {
   "cell_type": "code",
   "execution_count": null,
   "metadata": {
    "colab": {
     "base_uri": "https://localhost:8080/",
     "height": 215
    },
    "colab_type": "code",
    "id": "7E-Z40XUjz6s",
    "outputId": "cf3e1b60-ee1b-487a-e9ca-42304c714889"
   },
   "outputs": [
    {
     "name": "stdout",
     "output_type": "stream",
     "text": [
      "+------+----------+-------+--------------------+-------------+------+-----------+--------------+------------+\n",
      "|userID|userID_cod|placeID|      Nombre_comerce|     Distrito|rating|food_rating|service_rating|rating_total|\n",
      "+------+----------+-------+--------------------+-------------+------+-----------+--------------+------------+\n",
      "| U1077|         1| 135085|Tortas Locas Hipo...|sanluispotosi|     2|          2|             2|           6|\n",
      "| U1077|         1| 135038|Restaurant la Cha...|sanluispotosi|     2|          2|             1|           5|\n",
      "| U1077|         1| 132825|     puesto de tacos|          slp|     2|          2|             2|           6|\n",
      "| U1077|         1| 135060|Restaurante Maris...|sanluispotosi|     1|          2|             2|           5|\n",
      "| U1068|         2| 135104|                vips|            0|     1|          1|             2|           4|\n",
      "+------+----------+-------+--------------------+-------------+------+-----------+--------------+------------+\n",
      "only showing top 5 rows\n",
      "\n"
     ]
    }
   ],
   "source": [
    "from pyspark.sql.functions import udf\n",
    "from slugify import slugify\n",
    "\n",
    "@udf('string')\n",
    "def apply_slug(_val):\n",
    "  return slugify(str(_val)).replace('-', '')\n",
    "\n",
    "DS_peliculas_rating = DS_peliculas_rating.withColumn(\n",
    "    'Distrito', apply_slug(DS_peliculas_rating.Distrito)\n",
    ")\n",
    "DS_peliculas_rating.show(5)"
   ]
  },
  {
   "cell_type": "code",
   "execution_count": null,
   "metadata": {
    "colab": {
     "base_uri": "https://localhost:8080/",
     "height": 197
    },
    "colab_type": "code",
    "id": "K7Um8rY2drST",
    "outputId": "4958e9dc-d764-444d-caf4-7015cbf47d9c"
   },
   "outputs": [
    {
     "data": {
      "text/plain": [
       "['sanluispotosi',\n",
       " 'slp',\n",
       " '0',\n",
       " 'ciudadvictoria',\n",
       " 'victoria',\n",
       " 'cdvictoria',\n",
       " 'cuernavaca',\n",
       " 'jiutepec',\n",
       " 'soledad',\n",
       " 'sanluispotos']"
      ]
     },
     "execution_count": 20,
     "metadata": {
      "tags": []
     },
     "output_type": "execute_result"
    }
   ],
   "source": [
    "list(DS_peliculas_rating.select('Distrito').toPandas()['Distrito'].unique())"
   ]
  },
  {
   "cell_type": "code",
   "execution_count": null,
   "metadata": {
    "colab": {
     "base_uri": "https://localhost:8080/",
     "height": 35
    },
    "colab_type": "code",
    "id": "CpYnf-WM3iun",
    "outputId": "8d580eb1-2d57-4de0-bc0b-b716b1be23dc"
   },
   "outputs": [
    {
     "name": "stdout",
     "output_type": "stream",
     "text": [
      "50766\n"
     ]
    }
   ],
   "source": [
    "# 2.3 Validacion de carga del total de registros\n",
    "print(DS_peliculas_rating.count())"
   ]
  },
  {
   "cell_type": "code",
   "execution_count": null,
   "metadata": {
    "colab": {
     "base_uri": "https://localhost:8080/",
     "height": 215
    },
    "colab_type": "code",
    "id": "whqMbf_Dv9_1",
    "outputId": "47888339-cbba-4435-b7a9-77847854f182"
   },
   "outputs": [
    {
     "name": "stdout",
     "output_type": "stream",
     "text": [
      "+------+----------+-------+--------------------+--------------+------+-----------+--------------+------------+\n",
      "|userID|userID_cod|placeID|      Nombre_comerce|      Distrito|rating|food_rating|service_rating|rating_total|\n",
      "+------+----------+-------+--------------------+--------------+------+-----------+--------------+------------+\n",
      "| U1068|         2| 135104|                vips|             0|     1|          1|             2|           4|\n",
      "| U1068|         2| 132740|Carreton de Flaut...|ciudadvictoria|     0|          0|             0|           0|\n",
      "| U1068|         2| 132663|           tacos abi|      victoria|     1|          1|             1|           3|\n",
      "| U1068|         2| 132732|  Taqueria EL amigo |    cdvictoria|     0|          0|             0|           0|\n",
      "| U1068|         2| 132630|          palomo tec|      victoria|     1|          1|             1|           3|\n",
      "+------+----------+-------+--------------------+--------------+------+-----------+--------------+------------+\n",
      "only showing top 5 rows\n",
      "\n"
     ]
    }
   ],
   "source": [
    "discart_potosi = ['sanluispotosi', 'sanluispotos', 'slp']\n",
    "DS_peliculas_rating = DS_peliculas_rating.filter(DS_peliculas_rating.Distrito.isin(*discart_potosi) == False)\n",
    "DS_peliculas_rating.show(5)"
   ]
  },
  {
   "cell_type": "code",
   "execution_count": null,
   "metadata": {
    "colab": {
     "base_uri": "https://localhost:8080/",
     "height": 35
    },
    "colab_type": "code",
    "id": "_juM0uqFwlQf",
    "outputId": "8722377e-a0ab-44c3-fa6e-5debc9cfe1a5"
   },
   "outputs": [
    {
     "name": "stdout",
     "output_type": "stream",
     "text": [
      "13119\n"
     ]
    }
   ],
   "source": [
    "print(DS_peliculas_rating.count())"
   ]
  },
  {
   "cell_type": "code",
   "execution_count": null,
   "metadata": {
    "colab": {
     "base_uri": "https://localhost:8080/",
     "height": 143
    },
    "colab_type": "code",
    "id": "WXaqaVpywqEg",
    "outputId": "1d38f947-0852-4bd2-8338-e0bb3cd2dec1"
   },
   "outputs": [
    {
     "data": {
      "text/plain": [
       "['0',\n",
       " 'ciudadvictoria',\n",
       " 'victoria',\n",
       " 'cdvictoria',\n",
       " 'cuernavaca',\n",
       " 'jiutepec',\n",
       " 'soledad']"
      ]
     },
     "execution_count": 25,
     "metadata": {
      "tags": []
     },
     "output_type": "execute_result"
    }
   ],
   "source": [
    "list(DS_peliculas_rating.select('Distrito').toPandas()['Distrito'].unique())"
   ]
  },
  {
   "cell_type": "code",
   "execution_count": null,
   "metadata": {
    "colab": {
     "base_uri": "https://localhost:8080/",
     "height": 485
    },
    "colab_type": "code",
    "id": "mzZXftdXxFzA",
    "outputId": "a383feae-aa2f-4718-80cc-5836f0e78ecb"
   },
   "outputs": [
    {
     "name": "stdout",
     "output_type": "stream",
     "text": [
      "+------+----------+-------+--------------------+--------------+------+-----------+--------------+------------+\n",
      "|userID|userID_cod|placeID|      Nombre_comerce|      Distrito|rating|food_rating|service_rating|rating_total|\n",
      "+------+----------+-------+--------------------+--------------+------+-----------+--------------+------------+\n",
      "| U1068|         2| 135104|                vips|             0|     1|          1|             2|           4|\n",
      "| U1068|         2| 132740|Carreton de Flaut...|CiudadVictoria|     0|          0|             0|           0|\n",
      "| U1068|         2| 132663|           tacos abi|CiudadVictoria|     1|          1|             1|           3|\n",
      "| U1068|         2| 132732|  Taqueria EL amigo |CiudadVictoria|     0|          0|             0|           0|\n",
      "| U1068|         2| 132630|          palomo tec|CiudadVictoria|     1|          1|             1|           3|\n",
      "| U1067|         3| 132584|  Gorditas Dona Tota|             0|     2|          2|             2|           6|\n",
      "| U1067|         3| 132733|       Little Cesarz|CiudadVictoria|     1|          1|             1|           3|\n",
      "| U1067|         3| 132732|  Taqueria EL amigo |CiudadVictoria|     1|          2|             2|           5|\n",
      "| U1067|         3| 132630|          palomo tec|CiudadVictoria|     1|          0|             1|           2|\n",
      "| U1067|         3| 135104|                vips|             0|     0|          0|             0|           0|\n",
      "| U1067|         3| 132560|  puesto de gorditas|CiudadVictoria|     1|          0|             0|           1|\n",
      "| U1103|         4| 132584|  Gorditas Dona Tota|             0|     1|          2|             1|           4|\n",
      "| U1103|         4| 132732|  Taqueria EL amigo |CiudadVictoria|     0|          0|             2|           2|\n",
      "| U1103|         4| 132630|          palomo tec|CiudadVictoria|     1|          2|             0|           3|\n",
      "| U1103|         4| 132613|       carnitas_mata|CiudadVictoria|     2|          2|             2|           6|\n",
      "| U1103|         4| 132667|little pizza Emil...|CiudadVictoria|     1|          2|             2|           5|\n",
      "| U1103|         4| 135104|                vips|             0|     1|          2|             0|           3|\n",
      "| U1103|         4| 132663|           tacos abi|CiudadVictoria|     1|          0|             2|           3|\n",
      "| U1103|         4| 132733|       Little Cesarz|CiudadVictoria|     2|          2|             2|           6|\n",
      "| U1107|         5| 132660|carnitas mata cal...|CiudadVictoria|     2|          2|             1|           5|\n",
      "+------+----------+-------+--------------------+--------------+------+-----------+--------------+------------+\n",
      "only showing top 20 rows\n",
      "\n"
     ]
    }
   ],
   "source": [
    "vic_city = ['ciudadvictoria', 'victoria', 'cdvictoria']\n",
    "@udf('string')\n",
    "def victoria_detected(_val):\n",
    "  return 'CiudadVictoria' if _val in vic_city else _val\n",
    "\n",
    "DS_peliculas_rating = DS_peliculas_rating.withColumn(\n",
    "    'Distrito', victoria_detected(DS_peliculas_rating.Distrito)\n",
    ")\n",
    "DS_peliculas_rating.show()"
   ]
  },
  {
   "cell_type": "code",
   "execution_count": null,
   "metadata": {
    "colab": {
     "base_uri": "https://localhost:8080/",
     "height": 217
    },
    "colab_type": "code",
    "id": "7J1Stx2j9KdX",
    "outputId": "70d5f197-e7fe-433d-c708-9466d3a7c082"
   },
   "outputs": [
    {
     "name": "stdout",
     "output_type": "stream",
     "text": [
      "+-------+------+-----------------+------------------+---------------+--------+------------------+------------------+------------------+------------------+\n",
      "|summary|userID|       userID_cod|           placeID| Nombre_comerce|Distrito|            rating|       food_rating|    service_rating|      rating_total|\n",
      "+-------+------+-----------------+------------------+---------------+--------+------------------+------------------+------------------+------------------+\n",
      "|  count| 13119|            13119|             13119|          13119|   13119|             13119|             13119|             13119|             13119|\n",
      "|   mean|  null|51.04619254516351|133677.19262138882|           null|     0.0|1.1938409939781995|1.2661788246055339|1.1077826053815076| 3.567802423965241|\n",
      "| stddev|  null| 41.1619557622561|1124.8149505528338|           null|     0.0|0.7735755590925539|0.8150561188889777|0.7956082473835119|2.1526484597726867|\n",
      "|    min| U1001|                2|            132560|Arrachela Grill|       0|                 0|                 0|                 0|                 0|\n",
      "|    max| U1138|              138|            135109|           vips| soledad|                 2|                 2|                 2|                 6|\n",
      "+-------+------+-----------------+------------------+---------------+--------+------------------+------------------+------------------+------------------+\n",
      "\n"
     ]
    }
   ],
   "source": [
    "# 2.4 Exploracion inicial\n",
    "DS_peliculas_rating.describe().show()"
   ]
  },
  {
   "cell_type": "code",
   "execution_count": null,
   "metadata": {
    "colab": {
     "base_uri": "https://localhost:8080/",
     "height": 35
    },
    "colab_type": "code",
    "id": "tYPuZjO6xeb9",
    "outputId": "d657f56e-5704-44e2-8498-53d561abba1d"
   },
   "outputs": [
    {
     "data": {
      "text/plain": [
       "['0', 'CiudadVictoria', 'cuernavaca', 'jiutepec', 'soledad']"
      ]
     },
     "execution_count": 35,
     "metadata": {
      "tags": []
     },
     "output_type": "execute_result"
    }
   ],
   "source": [
    "list(DS_peliculas_rating.select('Distrito').toPandas()['Distrito'].unique())"
   ]
  },
  {
   "cell_type": "code",
   "execution_count": null,
   "metadata": {
    "colab": {
     "base_uri": "https://localhost:8080/",
     "height": 305
    },
    "colab_type": "code",
    "id": "5UavJB8AASDE",
    "outputId": "8c857c6b-becd-4a93-e242-4cd1739e629f"
   },
   "outputs": [
    {
     "name": "stdout",
     "output_type": "stream",
     "text": [
      "+------+-----+\n",
      "|userId|count|\n",
      "+------+-----+\n",
      "|U1133 |423  |\n",
      "|U1082 |401  |\n",
      "|U1093 |392  |\n",
      "|U1030 |392  |\n",
      "|U1123 |360  |\n",
      "|U1103 |360  |\n",
      "|U1035 |348  |\n",
      "|U1042 |305  |\n",
      "|U1118 |301  |\n",
      "|U1100 |294  |\n",
      "+------+-----+\n",
      "only showing top 10 rows\n",
      "\n"
     ]
    }
   ],
   "source": [
    "# 2.5 Los clientes que más vistaron la plataforma de videos\n",
    "DS_peliculas_rating.groupBy('userId').count().orderBy('count',ascending=False).show(10,False)"
   ]
  },
  {
   "cell_type": "code",
   "execution_count": null,
   "metadata": {
    "colab": {
     "base_uri": "https://localhost:8080/",
     "height": 305
    },
    "colab_type": "code",
    "id": "ZUivRJvPAjI3",
    "outputId": "ebd8f7e0-556b-4587-a898-9b4dbc8d5260"
   },
   "outputs": [
    {
     "name": "stdout",
     "output_type": "stream",
     "text": [
      "+------+-----+\n",
      "|userId|count|\n",
      "+------+-----+\n",
      "|U1136 |19   |\n",
      "|U1049 |20   |\n",
      "|U1057 |20   |\n",
      "|U1112 |20   |\n",
      "|U1088 |35   |\n",
      "|U1001 |35   |\n",
      "|U1081 |35   |\n",
      "|U1092 |38   |\n",
      "|U1098 |38   |\n",
      "|U1048 |38   |\n",
      "+------+-----+\n",
      "only showing top 10 rows\n",
      "\n"
     ]
    }
   ],
   "source": [
    "# 2.6  Las clientes que menos vieron las peliculas\n",
    "DS_peliculas_rating.groupBy('userId').count().orderBy('count',ascending=True).show(10,False)"
   ]
  },
  {
   "cell_type": "code",
   "execution_count": null,
   "metadata": {
    "colab": {
     "base_uri": "https://localhost:8080/",
     "height": 305
    },
    "colab_type": "code",
    "id": "hO-eIVs4A0Is",
    "outputId": "396b3756-1380-406d-e8d5-c2f33652f54b"
   },
   "outputs": [
    {
     "name": "stdout",
     "output_type": "stream",
     "text": [
      "+-------------------------------+-----+\n",
      "|Nombre_comerce                 |count|\n",
      "+-------------------------------+-----+\n",
      "|Rincon Huasteco                |581  |\n",
      "|Gordas de morales              |548  |\n",
      "|crudalia                       |547  |\n",
      "|Mariscos Tia Licha             |467  |\n",
      "|Sanborns Casa Piedra           |460  |\n",
      "|Subway                         |438  |\n",
      "|Restaurant Las Mananitas       |432  |\n",
      "|Little Cesarz                  |373  |\n",
      "|pizza clasica                  |367  |\n",
      "|Restaurante la Estrella de Dima|338  |\n",
      "+-------------------------------+-----+\n",
      "only showing top 10 rows\n",
      "\n"
     ]
    }
   ],
   "source": [
    "# 2.7  Las peliculas con mayor numero de visualizaciones\n",
    "DS_peliculas_rating.groupBy('Nombre_comerce').count().orderBy('count',ascending=False).show(10,False)"
   ]
  },
  {
   "cell_type": "code",
   "execution_count": null,
   "metadata": {
    "colab": {
     "base_uri": "https://localhost:8080/",
     "height": 282
    },
    "colab_type": "code",
    "id": "72-1CAMzXvSt",
    "outputId": "59c24277-6aeb-4ca7-9a2a-a78e434ab60e"
   },
   "outputs": [
    {
     "data": {
      "image/png": "[encoded data removed]",
      "text/plain": [
       "<Figure size 432x288 with 1 Axes>"
      ]
     },
     "metadata": {
      "tags": []
     },
     "output_type": "display_data"
    }
   ],
   "source": [
    "#Graficas\n",
    "res= DS_peliculas_rating.groupBy('Nombre_comerce').count().orderBy('count',ascending=False)\n",
    "red=res.toPandas()\n",
    "\n",
    "import pandas as pd\n",
    "import matplotlib.pyplot as plt\n",
    "import seaborn as sns\n",
    "\n",
    "ax=sns.barplot(x=\"Nombre_comerce\", y=\"count\", data=red)"
   ]
  },
  {
   "cell_type": "code",
   "execution_count": null,
   "metadata": {
    "colab": {
     "base_uri": "https://localhost:8080/",
     "height": 305
    },
    "colab_type": "code",
    "id": "6rRu9-sxBI0_",
    "outputId": "dadf5bad-5e62-4410-9210-38c0b60e6fdc"
   },
   "outputs": [
    {
     "name": "stdout",
     "output_type": "stream",
     "text": [
      "+-------------------------------------+-----+\n",
      "|Nombre_comerce                       |count|\n",
      "+-------------------------------------+-----+\n",
      "|Carnitas Mata  Calle 16 de Septiembre|100  |\n",
      "|cafe ambar                           |100  |\n",
      "|la perica hamburguesa                |102  |\n",
      "|tortas hawai                         |109  |\n",
      "|puesto de gorditas                   |109  |\n",
      "|churchs                              |126  |\n",
      "|TACOS EL GUERO                       |133  |\n",
      "|Arrachela Grill                      |135  |\n",
      "|el pueblito                          |136  |\n",
      "|Los Vikingos                         |141  |\n",
      "+-------------------------------------+-----+\n",
      "only showing top 10 rows\n",
      "\n"
     ]
    }
   ],
   "source": [
    "# Peliculas con menos numero de visualizaciones \n",
    "DS_peliculas_rating.groupBy('Nombre_comerce').count().orderBy('count',ascending=True).show(10,False)"
   ]
  },
  {
   "cell_type": "code",
   "execution_count": null,
   "metadata": {
    "colab": {
     "base_uri": "https://localhost:8080/",
     "height": 305
    },
    "colab_type": "code",
    "id": "e7zhMgpeJZRw",
    "outputId": "c3cbc7b1-0e7e-4c39-d964-02942fa7ccf8"
   },
   "outputs": [
    {
     "name": "stdout",
     "output_type": "stream",
     "text": [
      "+-------------------------------+--------------+-----+\n",
      "|Nombre_comerce                 |Distrito      |count|\n",
      "+-------------------------------+--------------+-----+\n",
      "|Rincon Huasteco                |0             |581  |\n",
      "|Gordas de morales              |0             |548  |\n",
      "|crudalia                       |0             |547  |\n",
      "|Mariscos Tia Licha             |cuernavaca    |467  |\n",
      "|Sanborns Casa Piedra           |cuernavaca    |460  |\n",
      "|Subway                         |cuernavaca    |438  |\n",
      "|Restaurant Las Mananitas       |cuernavaca    |432  |\n",
      "|Little Cesarz                  |CiudadVictoria|373  |\n",
      "|pizza clasica                  |soledad       |367  |\n",
      "|Restaurante la Estrella de Dima|soledad       |338  |\n",
      "+-------------------------------+--------------+-----+\n",
      "only showing top 10 rows\n",
      "\n"
     ]
    }
   ],
   "source": [
    "# Peliculas con menos numero de visualizaciones \n",
    "DS_peliculas_rating.groupBy('Nombre_comerce','Distrito').count().orderBy('count',ascending=False).show(10,False)"
   ]
  },
  {
   "cell_type": "markdown",
   "metadata": {
    "colab_type": "text",
    "id": "nhC6tpUw39tn"
   },
   "source": [
    "# 3. Feature Engineering: Tansforma pelicula a numero\n",
    "\n"
   ]
  },
  {
   "cell_type": "code",
   "execution_count": null,
   "metadata": {
    "colab": {},
    "colab_type": "code",
    "id": "h05_VfzA4C1k"
   },
   "outputs": [],
   "source": [
    "# Importando el codifocador\n",
    "from pyspark.ml.feature import StringIndexer,IndexToString"
   ]
  },
  {
   "cell_type": "code",
   "execution_count": null,
   "metadata": {
    "colab": {},
    "colab_type": "code",
    "id": "LBiAQR4tB8ul"
   },
   "outputs": [],
   "source": [
    "# Configurando la Numerzación los titulos de las peliculas\n",
    "# title_new = La codificación de las peliculas\n",
    "stringIndexer = StringIndexer(inputCol=\"Nombre_comerce\", outputCol=\"Nombre_comerce_new\")"
   ]
  },
  {
   "cell_type": "code",
   "execution_count": null,
   "metadata": {
    "colab": {},
    "colab_type": "code",
    "id": "1Lik8aKaCw_O"
   },
   "outputs": [],
   "source": [
    "#Aplicando la numerización de peliculas\n",
    "model = stringIndexer.fit(DS_peliculas_rating)"
   ]
  },
  {
   "cell_type": "code",
   "execution_count": null,
   "metadata": {
    "colab": {},
    "colab_type": "code",
    "id": "ANbGXtZHDBxt"
   },
   "outputs": [],
   "source": [
    "#Creando un nuevo Dataframe con el indexado creado\n",
    "indexed = model.transform(DS_peliculas_rating)"
   ]
  },
  {
   "cell_type": "code",
   "execution_count": null,
   "metadata": {
    "colab": {
     "base_uri": "https://localhost:8080/",
     "height": 305
    },
    "colab_type": "code",
    "id": "mLkAhgfoCg4X",
    "outputId": "bbbc5d00-928c-43eb-952e-a7cf4da05d9c"
   },
   "outputs": [
    {
     "name": "stdout",
     "output_type": "stream",
     "text": [
      "+------+----------+-------+--------------------+--------------+------+-----------+--------------+------------+------------------+\n",
      "|userID|userID_cod|placeID|      Nombre_comerce|      Distrito|rating|food_rating|service_rating|rating_total|Nombre_comerce_new|\n",
      "+------+----------+-------+--------------------+--------------+------+-----------+--------------+------------+------------------+\n",
      "| U1068|         2| 135104|                vips|             0|     1|          1|             2|           4|              21.0|\n",
      "| U1068|         2| 132740|Carreton de Flaut...|CiudadVictoria|     0|          0|             0|           0|              17.0|\n",
      "| U1068|         2| 132663|           tacos abi|CiudadVictoria|     1|          1|             1|           3|              27.0|\n",
      "| U1068|         2| 132732|  Taqueria EL amigo |CiudadVictoria|     0|          0|             0|           0|              22.0|\n",
      "| U1068|         2| 132630|          palomo tec|CiudadVictoria|     1|          1|             1|           3|              34.0|\n",
      "| U1067|         3| 132584|  Gorditas Dona Tota|             0|     2|          2|             2|           6|              10.0|\n",
      "| U1067|         3| 132733|       Little Cesarz|CiudadVictoria|     1|          1|             1|           3|               7.0|\n",
      "| U1067|         3| 132732|  Taqueria EL amigo |CiudadVictoria|     1|          2|             2|           5|              22.0|\n",
      "| U1067|         3| 132630|          palomo tec|CiudadVictoria|     1|          0|             1|           2|              34.0|\n",
      "| U1067|         3| 135104|                vips|             0|     0|          0|             0|           0|              21.0|\n",
      "+------+----------+-------+--------------------+--------------+------+-----------+--------------+------------+------------------+\n",
      "only showing top 10 rows\n",
      "\n"
     ]
    }
   ],
   "source": [
    "#Revision de los indices\n",
    "#Ya tenemos las 3 cosas que necesitamos... codigo de cliente... codigo de producto y valoracion\n",
    "indexed.show(10)"
   ]
  },
  {
   "cell_type": "code",
   "execution_count": null,
   "metadata": {
    "colab": {
     "base_uri": "https://localhost:8080/",
     "height": 305
    },
    "colab_type": "code",
    "id": "0uDCzdTqDg5D",
    "outputId": "167d0955-a49c-4865-c3de-5fbba201a871"
   },
   "outputs": [
    {
     "name": "stdout",
     "output_type": "stream",
     "text": [
      "+------------------+-----+\n",
      "|Nombre_comerce_new|count|\n",
      "+------------------+-----+\n",
      "|0.0               |581  |\n",
      "|1.0               |548  |\n",
      "|2.0               |547  |\n",
      "|3.0               |467  |\n",
      "|4.0               |460  |\n",
      "|5.0               |438  |\n",
      "|6.0               |432  |\n",
      "|7.0               |373  |\n",
      "|8.0               |367  |\n",
      "|9.0               |338  |\n",
      "+------------------+-----+\n",
      "only showing top 10 rows\n",
      "\n"
     ]
    }
   ],
   "source": [
    "#Numero de veces que cada titulo ha aparecido\n",
    "indexed.groupBy('Nombre_comerce_new').count().orderBy('count',ascending=False).show(10,False)"
   ]
  },
  {
   "cell_type": "markdown",
   "metadata": {
    "colab_type": "text",
    "id": "xgUobOLemd25"
   },
   "source": [
    "# 4. Dividiendo la data en muestra de entrenamiento y validacion\n"
   ]
  },
  {
   "cell_type": "code",
   "execution_count": null,
   "metadata": {
    "colab": {},
    "colab_type": "code",
    "id": "8ws92PIxmkGs"
   },
   "outputs": [],
   "source": [
    "#4.1  Data de entrenamiento y validacion\n",
    "train,test=indexed.randomSplit([0.8,0.2], seed = 1234)"
   ]
  },
  {
   "cell_type": "code",
   "execution_count": null,
   "metadata": {
    "colab": {
     "base_uri": "https://localhost:8080/",
     "height": 35
    },
    "colab_type": "code",
    "id": "AVzr9MGdD_Mi",
    "outputId": "0390aee9-2d02-4921-d48a-661e4da44f92"
   },
   "outputs": [
    {
     "data": {
      "text/plain": [
       "10506"
      ]
     },
     "execution_count": 50,
     "metadata": {
      "tags": []
     },
     "output_type": "execute_result"
    }
   ],
   "source": [
    "# Nro de entrenamiento\n",
    "train.count()"
   ]
  },
  {
   "cell_type": "code",
   "execution_count": null,
   "metadata": {
    "colab": {
     "base_uri": "https://localhost:8080/",
     "height": 35
    },
    "colab_type": "code",
    "id": "WYpYCZWtEFCo",
    "outputId": "4e167cfc-b1d8-452c-c696-2c7114cd90f7"
   },
   "outputs": [
    {
     "data": {
      "text/plain": [
       "2613"
      ]
     },
     "execution_count": 51,
     "metadata": {
      "tags": []
     },
     "output_type": "execute_result"
    }
   ],
   "source": [
    "# Nro de Validacion\n",
    "test.count()"
   ]
  },
  {
   "cell_type": "markdown",
   "metadata": {
    "colab_type": "text",
    "id": "DzS3l96FELtG"
   },
   "source": [
    "# 5. Entrenando el Modelo\n"
   ]
  },
  {
   "cell_type": "code",
   "execution_count": null,
   "metadata": {
    "colab": {},
    "colab_type": "code",
    "id": "bBgycnsdm9_3"
   },
   "outputs": [],
   "source": [
    "#Importando el modelo Recomendador ALS\n",
    "from pyspark.sql.functions import *\n",
    "from pyspark.ml.recommendation import ALS\n"
   ]
  },
  {
   "cell_type": "code",
   "execution_count": null,
   "metadata": {
    "colab": {},
    "colab_type": "code",
    "id": "spViP-t4EY-7"
   },
   "outputs": [],
   "source": [
    "#Configuracion del Entrenamiento del modelo Recomendador usando la muetsra de entrenamiento\n",
    "rec = ALS(\n",
    "    maxIter=20,\n",
    "    regParam=0.0025,\n",
    "    userCol='userID_cod',\n",
    "    itemCol='Nombre_comerce_new',\n",
    "    ratingCol='rating_total',\n",
    "    nonnegative=True,\n",
    "    coldStartStrategy=\"drop\",\n",
    "    implicitPrefs=False, \n",
    "    seed=1234\n",
    "  )\n",
    "\n",
    "# maxIter: El maximo de iteraciones\n",
    "# regParam: Parametro de Regularización\n",
    "# nonnegative: Especificar si se utiliza una restriccion negativa en los Minimos cuadrados\n",
    "# coldStartStrategy: Parametro que elimina cualquier cliente que no tenga informacion\n",
    "# implicitPrefs: Si es implicito hace referencia a feedback no registrado voluntariamente por el cliente"
   ]
  },
  {
   "cell_type": "code",
   "execution_count": null,
   "metadata": {
    "colab": {},
    "colab_type": "code",
    "id": "coVXq71IEkIS"
   },
   "outputs": [],
   "source": [
    "#Entrenando el modelo\n",
    "rec_model=rec.fit(train)"
   ]
  },
  {
   "cell_type": "code",
   "execution_count": null,
   "metadata": {
    "colab": {},
    "colab_type": "code",
    "id": "fJxeEWJ5E0c0"
   },
   "outputs": [],
   "source": [
    "#Haciendo las predicciones en la data de test \n",
    "predicted_ratings=rec_model.transform(test)"
   ]
  },
  {
   "cell_type": "code",
   "execution_count": null,
   "metadata": {
    "colab": {
     "base_uri": "https://localhost:8080/",
     "height": 251
    },
    "colab_type": "code",
    "id": "m55jvm2gEyCY",
    "outputId": "15171893-6f37-4756-ccd2-962167b0fac6"
   },
   "outputs": [
    {
     "name": "stdout",
     "output_type": "stream",
     "text": [
      "root\n",
      " |-- userID: string (nullable = true)\n",
      " |-- userID_cod: integer (nullable = true)\n",
      " |-- placeID: integer (nullable = true)\n",
      " |-- Nombre_comerce: string (nullable = true)\n",
      " |-- Distrito: string (nullable = true)\n",
      " |-- rating: integer (nullable = true)\n",
      " |-- food_rating: integer (nullable = true)\n",
      " |-- service_rating: integer (nullable = true)\n",
      " |-- rating_total: integer (nullable = true)\n",
      " |-- Nombre_comerce_new: double (nullable = false)\n",
      " |-- prediction: float (nullable = false)\n",
      "\n"
     ]
    }
   ],
   "source": [
    "#Revisando los pronostico\n",
    "predicted_ratings.printSchema()"
   ]
  },
  {
   "cell_type": "code",
   "execution_count": null,
   "metadata": {
    "colab": {
     "base_uri": "https://localhost:8080/",
     "height": 325
    },
    "colab_type": "code",
    "id": "h8cfiAWkFHxi",
    "outputId": "167a67a8-8989-4b19-df52-fae3fb2a59a6"
   },
   "outputs": [
    {
     "name": "stdout",
     "output_type": "stream",
     "text": [
      "+------+----------+-------+--------------------+--------------+------+-----------+--------------+------------+------------------+----------+\n",
      "|userID|userID_cod|placeID|      Nombre_comerce|      Distrito|rating|food_rating|service_rating|rating_total|Nombre_comerce_new|prediction|\n",
      "+------+----------+-------+--------------------+--------------+------+-----------+--------------+------------+------------------+----------+\n",
      "| U1037|        63| 132830|     Rincon Huasteco|             0|     2|          2|             2|           6|               0.0|  5.999773|\n",
      "| U1040|        85| 135019|Restaurant Bar Co...|      jiutepec|     1|          2|             1|           4|              13.0| 3.9995737|\n",
      "| U1035|        36| 134986|Restaurant Las Ma...|    cuernavaca|     2|          2|             2|           6|               6.0| 5.9955697|\n",
      "| U1060|        11| 132717|        tortas hawai|             0|     2|          2|             2|           6|              50.0| 5.9997654|\n",
      "| U1027|       110| 132875|           shi ro ie|             0|     1|          1|             1|           3|              15.0| 2.9999635|\n",
      "| U1075|        55| 135050|Restaurante la Es...|       soledad|     2|          2|             2|           6|               9.0|  5.999479|\n",
      "| U1138|       105| 132922|cafe punta del cielo|             0|     2|          2|             2|           6|              28.0|  6.000315|\n",
      "| U1082|         9| 132630|          palomo tec|CiudadVictoria|     1|          1|             1|           3|              34.0| 2.9969838|\n",
      "| U1123|        13| 132608|Hamburguesas La p...|CiudadVictoria|     1|          2|             1|           4|              23.0| 4.0026655|\n",
      "| U1025|       120| 132877|    sirloin stockade|             0|     1|          1|             1|           3|              30.0|  2.999307|\n",
      "+------+----------+-------+--------------------+--------------+------+-----------+--------------+------------+------------------+----------+\n",
      "only showing top 10 rows\n",
      "\n"
     ]
    }
   ],
   "source": [
    "# Revision rapida de los pronosticos\n",
    "predicted_ratings.orderBy(rand()).show(10)"
   ]
  },
  {
   "cell_type": "code",
   "execution_count": null,
   "metadata": {
    "colab": {},
    "colab_type": "code",
    "id": "H5sy0MCST3xP"
   },
   "outputs": [],
   "source": [
    "# Generando los top 10 peliculas sugeridas por cada cliente\n",
    "userRecs = rec_model.recommendForAllUsers(10)"
   ]
  },
  {
   "cell_type": "code",
   "execution_count": null,
   "metadata": {
    "colab": {
     "base_uri": "https://localhost:8080/",
     "height": 235
    },
    "colab_type": "code",
    "id": "iXB9FWCpUCEm",
    "outputId": "d8947577-6e7d-4121-e0cb-a3b11d43b099"
   },
   "outputs": [
    {
     "name": "stdout",
     "output_type": "stream",
     "text": [
      "+----------+----------------------------------------------------------------------------------------------------------------------------------------------------------------------+\n",
      "|userID_cod|recommendations                                                                                                                                                       |\n",
      "+----------+----------------------------------------------------------------------------------------------------------------------------------------------------------------------+\n",
      "|31        |[[29, 5.0031385], [47, 4.9986134], [11, 4.927722], [3, 4.2605534], [6, 4.2034225], [16, 3.9975922], [36, 3.7637312], [23, 3.7021637], [7, 3.5104446], [21, 3.4378517]]|\n",
      "|85        |[[28, 6.4530106], [19, 5.9974003], [9, 5.342147], [1, 5.255717], [33, 5.0669317], [52, 4.9181347], [43, 4.7833295], [25, 4.354413], [45, 4.308901], [13, 3.9995737]]  |\n",
      "|137       |[[7, 6.012292], [29, 5.687024], [28, 5.2054057], [49, 5.19627], [24, 5.17414], [8, 5.172185], [10, 5.1646175], [19, 5.0700808], [25, 4.9105673], [0, 4.8306694]]      |\n",
      "|133       |[[29, 11.967342], [47, 11.821501], [11, 8.943435], [20, 8.109134], [3, 7.8662777], [25, 7.7319264], [8, 7.710651], [0, 7.5604725], [32, 6.7008758], [16, 6.4056525]]  |\n",
      "|108       |[[28, 5.999509], [1, 5.0001607], [9, 4.9419937], [19, 4.459665], [29, 4.1079984], [8, 3.9713724], [43, 3.8224397], [6, 3.816249], [25, 3.784311], [52, 3.778838]]     |\n",
      "+----------+----------------------------------------------------------------------------------------------------------------------------------------------------------------------+\n",
      "only showing top 5 rows\n",
      "\n"
     ]
    }
   ],
   "source": [
    "userRecs.show(5, False)"
   ]
  },
  {
   "cell_type": "markdown",
   "metadata": {
    "colab_type": "text",
    "id": "hSEgqY-EpCYi"
   },
   "source": [
    "# 5. Evaluación del poder predictivo del modelo\n"
   ]
  },
  {
   "cell_type": "code",
   "execution_count": null,
   "metadata": {
    "colab": {
     "base_uri": "https://localhost:8080/",
     "height": 505
    },
    "colab_type": "code",
    "id": "DmVUSxsmpJ4M",
    "outputId": "5b8db691-4982-4607-a319-5bbf1ad0736d"
   },
   "outputs": [
    {
     "name": "stdout",
     "output_type": "stream",
     "text": [
      "+------+----------+-------+----------------+----------+------+-----------+--------------+------------+------------------+----------+-----------+\n",
      "|userID|userID_cod|placeID|  Nombre_comerce|  Distrito|rating|food_rating|service_rating|rating_total|Nombre_comerce_new|prediction|        err|\n",
      "+------+----------+-------+----------------+----------+------+-----------+--------------+------------+------------------+----------+-----------+\n",
      "| U1117|        31| 135018|El Oceano Dorado|cuernavaca|     1|          1|             1|           3|              31.0|  3.000008|8.106232E-6|\n",
      "| U1117|        31| 135018|El Oceano Dorado|cuernavaca|     1|          1|             1|           3|              31.0|  3.000008|8.106232E-6|\n",
      "| U1117|        31| 135018|El Oceano Dorado|cuernavaca|     1|          1|             1|           3|              31.0|  3.000008|8.106232E-6|\n",
      "| U1117|        31| 135018|El Oceano Dorado|cuernavaca|     1|          1|             1|           3|              31.0|  3.000008|8.106232E-6|\n",
      "| U1117|        31| 135018|El Oceano Dorado|cuernavaca|     1|          1|             1|           3|              31.0|  3.000008|8.106232E-6|\n",
      "| U1117|        31| 135018|El Oceano Dorado|cuernavaca|     1|          1|             1|           3|              31.0|  3.000008|8.106232E-6|\n",
      "| U1117|        31| 135018|El Oceano Dorado|cuernavaca|     1|          1|             1|           3|              31.0|  3.000008|8.106232E-6|\n",
      "| U1117|        31| 135018|El Oceano Dorado|cuernavaca|     1|          1|             1|           3|              31.0|  3.000008|8.106232E-6|\n",
      "| U1117|        31| 135018|El Oceano Dorado|cuernavaca|     1|          1|             1|           3|              31.0|  3.000008|8.106232E-6|\n",
      "| U1117|        31| 135018|El Oceano Dorado|cuernavaca|     1|          1|             1|           3|              31.0|  3.000008|8.106232E-6|\n",
      "| U1117|        31| 135018|El Oceano Dorado|cuernavaca|     1|          1|             1|           3|              31.0|  3.000008|8.106232E-6|\n",
      "| U1117|        31| 135018|El Oceano Dorado|cuernavaca|     1|          1|             1|           3|              31.0|  3.000008|8.106232E-6|\n",
      "| U1117|        31| 135018|El Oceano Dorado|cuernavaca|     1|          1|             1|           3|              31.0|  3.000008|8.106232E-6|\n",
      "| U1030|        20| 135018|El Oceano Dorado|cuernavaca|     2|          2|             2|           6|              31.0| 6.0318623| 0.03186226|\n",
      "| U1030|        20| 135018|El Oceano Dorado|cuernavaca|     2|          2|             2|           6|              31.0| 6.0318623| 0.03186226|\n",
      "| U1030|        20| 135018|El Oceano Dorado|cuernavaca|     2|          2|             2|           6|              31.0| 6.0318623| 0.03186226|\n",
      "| U1030|        20| 135018|El Oceano Dorado|cuernavaca|     2|          2|             2|           6|              31.0| 6.0318623| 0.03186226|\n",
      "| U1030|        20| 135018|El Oceano Dorado|cuernavaca|     2|          2|             2|           6|              31.0| 6.0318623| 0.03186226|\n",
      "| U1030|        20| 135018|El Oceano Dorado|cuernavaca|     2|          2|             2|           6|              31.0| 6.0318623| 0.03186226|\n",
      "| U1030|        20| 135018|El Oceano Dorado|cuernavaca|     2|          2|             2|           6|              31.0| 6.0318623| 0.03186226|\n",
      "+------+----------+-------+----------------+----------+------+-----------+--------------+------------+------------------+----------+-----------+\n",
      "only showing top 20 rows\n",
      "\n"
     ]
    }
   ],
   "source": [
    "# Creando la columna diferencia del pronostico\n",
    "predicted_ratings_witherr = predicted_ratings.withColumn(\n",
    "    'err', abs(predicted_ratings.prediction - predicted_ratings.rating_total)\n",
    ")\n",
    "\n",
    "predicted_ratings_witherr.show()"
   ]
  },
  {
   "cell_type": "code",
   "execution_count": null,
   "metadata": {
    "colab": {
     "base_uri": "https://localhost:8080/",
     "height": 233
    },
    "colab_type": "code",
    "id": "5c9vbl7Q2b1x",
    "outputId": "f60d02d3-51b6-40ce-c053-a0b2d775c53e"
   },
   "outputs": [
    {
     "name": "stdout",
     "output_type": "stream",
     "text": [
      "+------------+-----+\n",
      "|rating_total|count|\n",
      "+------------+-----+\n",
      "|           0|  462|\n",
      "|           1|   71|\n",
      "|           2|  172|\n",
      "|           3|  472|\n",
      "|           4|  371|\n",
      "|           5|  307|\n",
      "|           6|  758|\n",
      "+------------+-----+\n",
      "\n"
     ]
    }
   ],
   "source": [
    "# Distribución de las valoraciones\n",
    "predicted_ratings.groupBy('rating_total').count().orderBy('rating_total',ascending=True).show()"
   ]
  },
  {
   "cell_type": "code",
   "execution_count": null,
   "metadata": {
    "colab": {
     "base_uri": "https://localhost:8080/",
     "height": 233
    },
    "colab_type": "code",
    "id": "GgQi748YvWu7",
    "outputId": "e6be0012-43bf-4ab2-e1fc-a7a9243f0649"
   },
   "outputs": [
    {
     "name": "stdout",
     "output_type": "stream",
     "text": [
      "+------------+--------------------+\n",
      "|rating_total|            avg(err)|\n",
      "+------------+--------------------+\n",
      "|           0| 0.02166237588153308|\n",
      "|           1|0.002977855608496...|\n",
      "|           2|0.011740473813788836|\n",
      "|           3|0.003409736742407...|\n",
      "|           4|0.003507254901279...|\n",
      "|           5|0.002554961835134...|\n",
      "|           6|0.006400958214712017|\n",
      "+------------+--------------------+\n",
      "\n"
     ]
    }
   ],
   "source": [
    "# Error promedio por rating de valoracion\n",
    "predicted_ratings_witherr.groupBy('rating_total').agg({'err':'mean'}).orderBy('rating_total',ascending=True).show()"
   ]
  },
  {
   "cell_type": "code",
   "execution_count": null,
   "metadata": {
    "colab": {
     "base_uri": "https://localhost:8080/",
     "height": 233
    },
    "colab_type": "code",
    "id": "JO5oYYa_dnZT",
    "outputId": "dd8957e7-d2c2-4cdc-d2d0-d460b75586df"
   },
   "outputs": [
    {
     "name": "stdout",
     "output_type": "stream",
     "text": [
      "+------------+--------------------+\n",
      "|rating_total|         stddev(err)|\n",
      "+------------+--------------------+\n",
      "|           0| 0.03802516005332337|\n",
      "|           1|0.005016005382276728|\n",
      "|           2|0.022258780301222428|\n",
      "|           3|0.006977186403528546|\n",
      "|           4|0.006855563473575...|\n",
      "|           5|0.003740077978221869|\n",
      "|           6|0.010050598183746616|\n",
      "+------------+--------------------+\n",
      "\n"
     ]
    }
   ],
   "source": [
    "# Error promedio por rating de valoracion\n",
    "predicted_ratings_witherr.groupBy('rating_total').agg({'err':'std'}).orderBy('rating_total',ascending=True).show()"
   ]
  },
  {
   "cell_type": "code",
   "execution_count": null,
   "metadata": {
    "colab": {},
    "colab_type": "code",
    "id": "e0uziR670BFM"
   },
   "outputs": [],
   "source": [
    "#Importando el evaluador de Regresion RMSE \n",
    "from pyspark.ml.evaluation import RegressionEvaluator"
   ]
  },
  {
   "cell_type": "code",
   "execution_count": null,
   "metadata": {
    "colab": {},
    "colab_type": "code",
    "id": "XFO3FDV_ysT2"
   },
   "outputs": [],
   "source": [
    "#Evluando la presición del pronostico\n",
    "evaluator=RegressionEvaluator(metricName='rmse',predictionCol='prediction',labelCol='rating_total')"
   ]
  },
  {
   "cell_type": "code",
   "execution_count": null,
   "metadata": {
    "colab": {},
    "colab_type": "code",
    "id": "kP7KuqQbz7UD"
   },
   "outputs": [],
   "source": [
    "#Evluando el error de pronostico global\n",
    "rmse=evaluator.evaluate(predicted_ratings)"
   ]
  },
  {
   "cell_type": "code",
   "execution_count": null,
   "metadata": {
    "colab": {
     "base_uri": "https://localhost:8080/",
     "height": 35
    },
    "colab_type": "code",
    "id": "z4fUBfZ03t4Z",
    "outputId": "6f294a1d-983e-4b82-b0f4-578e5c152569"
   },
   "outputs": [
    {
     "name": "stdout",
     "output_type": "stream",
     "text": [
      "0.02105488076326083\n"
     ]
    }
   ],
   "source": [
    "#Imprimiento el error\n",
    "print(rmse)"
   ]
  },
  {
   "cell_type": "markdown",
   "metadata": {
    "colab_type": "text",
    "id": "KG2wbeNe4hDU"
   },
   "source": [
    "# 6. Recomendandor de peliculas, ya listo!"
   ]
  },
  {
   "cell_type": "code",
   "execution_count": null,
   "metadata": {
    "colab": {},
    "colab_type": "code",
    "id": "06wR5qaF4pLL"
   },
   "outputs": [],
   "source": [
    "#Listado de peliculas unicas\n",
    "unique_movies=indexed.select('Nombre_comerce_new').distinct()"
   ]
  },
  {
   "cell_type": "code",
   "execution_count": null,
   "metadata": {
    "colab": {
     "base_uri": "https://localhost:8080/",
     "height": 35
    },
    "colab_type": "code",
    "id": "WIRmCdZNHNfX",
    "outputId": "1216c9d6-3115-4a69-b40d-f1398a3bc6ee"
   },
   "outputs": [
    {
     "data": {
      "text/plain": [
       "55"
      ]
     },
     "execution_count": 69,
     "metadata": {
      "tags": []
     },
     "output_type": "execute_result"
    }
   ],
   "source": [
    "#Total de peliculas\n",
    "unique_movies.count()"
   ]
  },
  {
   "cell_type": "code",
   "execution_count": null,
   "metadata": {
    "colab": {},
    "colab_type": "code",
    "id": "taX8DiH85XBQ"
   },
   "outputs": [],
   "source": [
    "#Asignando un alias {a} la lista unica de peliculas\n",
    "a = unique_movies.alias('a')"
   ]
  },
  {
   "cell_type": "code",
   "execution_count": null,
   "metadata": {
    "colab": {
     "base_uri": "https://localhost:8080/",
     "height": 35
    },
    "colab_type": "code",
    "id": "XBoqyCAU51sv",
    "outputId": "b1fd5f97-e75f-4c42-fa61-2807701b444e"
   },
   "outputs": [
    {
     "data": {
      "text/plain": [
       "0"
      ]
     },
     "execution_count": 72,
     "metadata": {
      "tags": []
     },
     "output_type": "execute_result"
    }
   ],
   "source": [
    "# Eligiendo un cliente\n",
    "user_id=31\n",
    "\n",
    "# Creando una tabla que contiene una pelicula por usuario\n",
    "watched_movies=indexed.filter(indexed['userID'] == user_id).select('Nombre_comerce_new').distinct()\n",
    "\n",
    "#Numero de peliculas ya evaluadas \n",
    "watched_movies.count()"
   ]
  },
  {
   "cell_type": "code",
   "execution_count": null,
   "metadata": {
    "colab": {},
    "colab_type": "code",
    "id": "oyv-yms65v5v"
   },
   "outputs": [],
   "source": [
    "# Asignando un alias  {b} ha peliculas que el usuario ya vio de la tabla\n",
    "b=watched_movies.alias('b')"
   ]
  },
  {
   "cell_type": "code",
   "execution_count": null,
   "metadata": {
    "colab": {},
    "colab_type": "code",
    "id": "2g1l6cNKIg3N"
   },
   "outputs": [],
   "source": [
    "#Cruzando ambas tablas\n",
    "total_movies = a.join(b, a.Nombre_comerce_new == b.Nombre_comerce_new,how='left')"
   ]
  },
  {
   "cell_type": "code",
   "execution_count": null,
   "metadata": {
    "colab": {
     "base_uri": "https://localhost:8080/",
     "height": 305
    },
    "colab_type": "code",
    "id": "oQSPG1WPIyHc",
    "outputId": "a1bbef6b-da9b-477f-9705-a731e73b7809"
   },
   "outputs": [
    {
     "name": "stdout",
     "output_type": "stream",
     "text": [
      "+------------------+------------------+\n",
      "|Nombre_comerce_new|Nombre_comerce_new|\n",
      "+------------------+------------------+\n",
      "|8.0               |null              |\n",
      "|0.0               |null              |\n",
      "|7.0               |null              |\n",
      "|49.0              |null              |\n",
      "|29.0              |null              |\n",
      "|47.0              |null              |\n",
      "|42.0              |null              |\n",
      "|44.0              |null              |\n",
      "|35.0              |null              |\n",
      "|18.0              |null              |\n",
      "+------------------+------------------+\n",
      "only showing top 10 rows\n",
      "\n"
     ]
    }
   ],
   "source": [
    "total_movies.show(10,False)"
   ]
  },
  {
   "cell_type": "code",
   "execution_count": null,
   "metadata": {
    "colab": {},
    "colab_type": "code",
    "id": "jTTbDE_oI4Rv"
   },
   "outputs": [],
   "source": [
    "# Seleccionando peliculas que el cliente aun no ha mirado\n",
    "remaining_movies=total_movies.where(col(\"b.Nombre_comerce_new\").isNull()).select(a.Nombre_comerce_new).distinct()"
   ]
  },
  {
   "cell_type": "code",
   "execution_count": null,
   "metadata": {
    "colab": {
     "base_uri": "https://localhost:8080/",
     "height": 485
    },
    "colab_type": "code",
    "id": "oNshK4j_JBIG",
    "outputId": "6cfe516c-b34b-459c-b858-7fa9cbe60f2e"
   },
   "outputs": [
    {
     "name": "stdout",
     "output_type": "stream",
     "text": [
      "+------------------+\n",
      "|Nombre_comerce_new|\n",
      "+------------------+\n",
      "|               8.0|\n",
      "|               0.0|\n",
      "|               7.0|\n",
      "|              49.0|\n",
      "|              29.0|\n",
      "|              47.0|\n",
      "|              42.0|\n",
      "|              44.0|\n",
      "|              35.0|\n",
      "|              18.0|\n",
      "|               1.0|\n",
      "|              39.0|\n",
      "|              34.0|\n",
      "|              37.0|\n",
      "|              25.0|\n",
      "|              36.0|\n",
      "|              41.0|\n",
      "|               4.0|\n",
      "|              23.0|\n",
      "|              50.0|\n",
      "+------------------+\n",
      "only showing top 20 rows\n",
      "\n"
     ]
    }
   ],
   "source": [
    "remaining_movies.show()"
   ]
  },
  {
   "cell_type": "code",
   "execution_count": null,
   "metadata": {
    "colab": {
     "base_uri": "https://localhost:8080/",
     "height": 35
    },
    "colab_type": "code",
    "id": "0g1asm_eJMhe",
    "outputId": "42d7d110-f1db-4e7f-885b-ed5f6bd8c0ab"
   },
   "outputs": [
    {
     "data": {
      "text/plain": [
       "55"
      ]
     },
     "execution_count": 78,
     "metadata": {
      "tags": []
     },
     "output_type": "execute_result"
    }
   ],
   "source": [
    "# Numero de peliculas que los usuario aun no lo ven \n",
    "remaining_movies.count()"
   ]
  },
  {
   "cell_type": "code",
   "execution_count": null,
   "metadata": {
    "colab": {},
    "colab_type": "code",
    "id": "ZEualSXXJZfQ"
   },
   "outputs": [],
   "source": [
    "# Agregando una nueva columna del usuario \n",
    "remaining_movies=remaining_movies.withColumn(\"userID_cod\",lit(int(user_id)))"
   ]
  },
  {
   "cell_type": "code",
   "execution_count": null,
   "metadata": {
    "colab": {
     "base_uri": "https://localhost:8080/",
     "height": 305
    },
    "colab_type": "code",
    "id": "mYwMGFg2Jr5L",
    "outputId": "e1327dfb-4fdd-4032-b4ca-f8fc669355a4"
   },
   "outputs": [
    {
     "name": "stdout",
     "output_type": "stream",
     "text": [
      "+------------------+----------+\n",
      "|Nombre_comerce_new|userID_cod|\n",
      "+------------------+----------+\n",
      "|8.0               |31        |\n",
      "|0.0               |31        |\n",
      "|7.0               |31        |\n",
      "|49.0              |31        |\n",
      "|29.0              |31        |\n",
      "|47.0              |31        |\n",
      "|42.0              |31        |\n",
      "|44.0              |31        |\n",
      "|35.0              |31        |\n",
      "|18.0              |31        |\n",
      "+------------------+----------+\n",
      "only showing top 10 rows\n",
      "\n"
     ]
    }
   ],
   "source": [
    "remaining_movies.show(10,False)"
   ]
  },
  {
   "cell_type": "code",
   "execution_count": null,
   "metadata": {
    "colab": {},
    "colab_type": "code",
    "id": "6VI20fG2Jy-s"
   },
   "outputs": [],
   "source": [
    "# Haciendo la recomendacion de peliculas utilizando el modelo recomendador ALS y seleccionado solo las mejores top {n} peliculas\n",
    "recommendations=rec_model.transform(remaining_movies).orderBy('prediction',ascending=False)"
   ]
  },
  {
   "cell_type": "code",
   "execution_count": null,
   "metadata": {
    "colab": {
     "base_uri": "https://localhost:8080/",
     "height": 215
    },
    "colab_type": "code",
    "id": "Vho32qWRKBYz",
    "outputId": "164a759c-7f54-4fe5-d677-65a9ed210370"
   },
   "outputs": [
    {
     "name": "stdout",
     "output_type": "stream",
     "text": [
      "+------------------+----------+----------+\n",
      "|Nombre_comerce_new|userID_cod|prediction|\n",
      "+------------------+----------+----------+\n",
      "|29.0              |31        |5.0031385 |\n",
      "|47.0              |31        |4.9986134 |\n",
      "|11.0              |31        |4.927722  |\n",
      "|3.0               |31        |4.2605534 |\n",
      "|6.0               |31        |4.2034225 |\n",
      "+------------------+----------+----------+\n",
      "only showing top 5 rows\n",
      "\n"
     ]
    }
   ],
   "source": [
    "recommendations.show(5,False)"
   ]
  },
  {
   "cell_type": "code",
   "execution_count": null,
   "metadata": {
    "colab": {},
    "colab_type": "code",
    "id": "WvNsq2skKF4t"
   },
   "outputs": [],
   "source": [
    "# Consiguiendo los de las peliculas sugeridas\n",
    "movie_title = IndexToString(inputCol=\"Nombre_comerce_new\", outputCol=\"title\",labels=model.labels)\n",
    "\n",
    "final_recommendations=movie_title.transform(recommendations)"
   ]
  },
  {
   "cell_type": "code",
   "execution_count": null,
   "metadata": {
    "colab": {
     "base_uri": "https://localhost:8080/",
     "height": 305
    },
    "colab_type": "code",
    "id": "cKjoYW7NKNkO",
    "outputId": "a9a675eb-2d30-46e2-a96d-1dd56e48f600"
   },
   "outputs": [
    {
     "name": "stdout",
     "output_type": "stream",
     "text": [
      "+------------------+----------+----------+-------------------------------------+\n",
      "|Nombre_comerce_new|userID_cod|prediction|title                                |\n",
      "+------------------+----------+----------+-------------------------------------+\n",
      "|29.0              |31        |5.0031385 |El cotorreo                          |\n",
      "|47.0              |31        |4.9986134 |Arrachela Grill                      |\n",
      "|11.0              |31        |4.927722  |Vips                                 |\n",
      "|3.0               |31        |4.2605534 |Mariscos Tia Licha                   |\n",
      "|6.0               |31        |4.2034225 |Restaurant Las Mananitas             |\n",
      "|16.0              |31        |3.9975922 |Cafeteria cenidet                    |\n",
      "|36.0              |31        |3.7637312 |carnitas mata calle Emilio Portes Gil|\n",
      "|23.0              |31        |3.7021637 |Hamburguesas La perica               |\n",
      "|7.0               |31        |3.5104446 |Little Cesarz                        |\n",
      "|21.0              |31        |3.4378517 |vips                                 |\n",
      "+------------------+----------+----------+-------------------------------------+\n",
      "only showing top 10 rows\n",
      "\n"
     ]
    }
   ],
   "source": [
    "final_recommendations.show(10,False)"
   ]
  },
  {
   "cell_type": "markdown",
   "metadata": {
    "colab_type": "text",
    "id": "qg-eHdVRDZHq"
   },
   "source": [
    "# 7. Construyendo las funcion que sugiera una pelicula recomendada segun el modelo recomendador"
   ]
  },
  {
   "cell_type": "code",
   "execution_count": null,
   "metadata": {
    "colab": {},
    "colab_type": "code",
    "id": "u4LLYAgXDpnL"
   },
   "outputs": [],
   "source": [
    "# Funcion para recomendar las top n peliculas para cualquier usuario\n",
    "def top_movies(user_id,n):\n",
    "    \"\"\"\n",
    "    This function returns the top 'n' movies that user has not seen yet but might like \n",
    "    \n",
    "    \"\"\"\n",
    "    # Asignación de una lista de peliculas unicas a\n",
    "    a = unique_movies.alias('a')\n",
    "    \n",
    "    # Creando otra tabla que contiene las peliculas que ya vio el usuario\n",
    "    watched_movies=indexed.filter(indexed['userID_cod'] == user_id).select('Nombre_comerce_new')\n",
    "    \n",
    "    # Asignanción de tabla de peliculas b de peliculas ya vistas \n",
    "    b=watched_movies.alias('b')\n",
    "    \n",
    "    # Cruce de ambas tablas\n",
    "    total_movies = a.join(b, a.Nombre_comerce_new == b.Nombre_comerce_new,how='left')\n",
    "    \n",
    "    # Seleccionando peliculas que el usuario no ha visto aun \n",
    "    remaining_movies=total_movies.where(col(\"b.Nombre_comerce_new\").isNull()).select(a.Nombre_comerce_new).distinct()\n",
    "        \n",
    "    #Agregando una nueva columan del cliente  \n",
    "    remaining_movies=remaining_movies.withColumn(\"userID_cod\",lit(int(user_id)))\n",
    "    \n",
    "    # REalizando la recomendnado de peliculas mas adecuada utilizando el Sistema de recomendador del modelo ALS y seleccionando las mejores peliculas\n",
    "    recommendations=rec_model.transform(remaining_movies).orderBy('prediction',ascending=False).limit(n)\n",
    "\n",
    "    # Agregando los titulos de las peliculas en texto   \n",
    "    movie_title = IndexToString(inputCol=\"Nombre_comerce_new\", outputCol=\"title\",labels=model.labels)\n",
    "    final_recommendations=movie_title.transform(recommendations)\n",
    "    \n",
    "    # Entregando los titutlos recomendado por usuario\n",
    "    return final_recommendations.show(n,False)\n"
   ]
  },
  {
   "cell_type": "code",
   "execution_count": null,
   "metadata": {
    "colab": {
     "base_uri": "https://localhost:8080/",
     "height": 107
    },
    "colab_type": "code",
    "id": "3o06Kl2nMt2a",
    "outputId": "9895766a-30c1-4a5f-8a21-63457bb7e3cb"
   },
   "outputs": [
    {
     "name": "stdout",
     "output_type": "stream",
     "text": [
      "+------------------+----------+----------+-----+\n",
      "|Nombre_comerce_new|userID_cod|prediction|title|\n",
      "+------------------+----------+----------+-----+\n",
      "+------------------+----------+----------+-----+\n",
      "\n"
     ]
    }
   ],
   "source": [
    "# REvision del clientes y las 10 peliculas sugeridas para el cliente\n",
    "top_movies(77,10)"
   ]
  },
  {
   "cell_type": "code",
   "execution_count": null,
   "metadata": {
    "colab": {
     "base_uri": "https://localhost:8080/",
     "height": 107
    },
    "colab_type": "code",
    "id": "ZsVC_xkeIbCJ",
    "outputId": "fdf06687-432e-48e9-a0c6-a8525cefc6a2"
   },
   "outputs": [
    {
     "name": "stdout",
     "output_type": "stream",
     "text": [
      "+------+----------+-------+--------------+--------+------+-----------+--------------+------------+\n",
      "|userID|userID_cod|placeID|Nombre_comerce|Distrito|rating|food_rating|service_rating|rating_total|\n",
      "+------+----------+-------+--------------+--------+------+-----------+--------------+------------+\n",
      "+------+----------+-------+--------------+--------+------+-----------+--------------+------------+\n",
      "\n"
     ]
    }
   ],
   "source": [
    "DS_peliculas_rating.filter(DS_peliculas_rating['userId']=='8').show()"
   ]
  },
  {
   "cell_type": "code",
   "execution_count": null,
   "metadata": {
    "colab": {
     "base_uri": "https://localhost:8080/",
     "height": 287
    },
    "colab_type": "code",
    "id": "v6CUg2sShtTP",
    "outputId": "e19e9eee-3c22-4348-e8ba-871383082ecb"
   },
   "outputs": [
    {
     "name": "stdout",
     "output_type": "stream",
     "text": [
      "+------------------+----------+----------+----------------------------------------------------+\n",
      "|Nombre_comerce_new|userID_cod|prediction|title                                               |\n",
      "+------------------+----------+----------+----------------------------------------------------+\n",
      "|31.0              |8         |0.0       |El Oceano Dorado                                    |\n",
      "|53.0              |8         |0.0       |cafe ambar                                          |\n",
      "|34.0              |8         |0.0       |palomo tec                                          |\n",
      "|28.0              |8         |0.0       |cafe punta del cielo                                |\n",
      "|26.0              |8         |0.0       |Restaurant and Bar and Clothesline Carlos N Charlies|\n",
      "|44.0              |8         |0.0       |Rincon del Bife                                     |\n",
      "|12.0              |8         |0.0       |Restaurant Familiar El Chino                        |\n",
      "|22.0              |8         |0.0       |Taqueria EL amigo                                   |\n",
      "|47.0              |8         |0.0       |Arrachela Grill                                     |\n",
      "|1.0               |8         |0.0       |Gordas de morales                                   |\n",
      "+------------------+----------+----------+----------------------------------------------------+\n",
      "\n"
     ]
    }
   ],
   "source": [
    "# El cliente 450 que revisa Star Wars\n",
    "# DS_peliculas_rating.filter((DS_peliculas_rating['rating']>4)&(DS_peliculas_rating['userId']=='450')).show()\n",
    "# REvision del clientes y las 10 peliculas sugeridas para el cliente\n",
    "top_movies(8,10)"
   ]
  },
  {
   "cell_type": "code",
   "execution_count": null,
   "metadata": {
    "colab": {
     "base_uri": "https://localhost:8080/",
     "height": 107
    },
    "colab_type": "code",
    "id": "LSZ9IReFibmG",
    "outputId": "ceb4e911-0e35-4f61-a295-fefe024be045"
   },
   "outputs": [
    {
     "name": "stdout",
     "output_type": "stream",
     "text": [
      "+------------------+----------+----------+-----+\n",
      "|Nombre_comerce_new|userID_cod|prediction|title|\n",
      "+------------------+----------+----------+-----+\n",
      "+------------------+----------+----------+-----+\n",
      "\n"
     ]
    }
   ],
   "source": [
    "# REvision del clientes y las 10 peliculas sugeridas para el cliente\n",
    "top_movies(450,15)"
   ]
  },
  {
   "cell_type": "code",
   "execution_count": null,
   "metadata": {
    "colab": {},
    "colab_type": "code",
    "id": "IbO-rniKzD8S"
   },
   "outputs": [],
   "source": []
  }
 ],
 "metadata": {
  "colab": {
   "collapsed_sections": [],
   "name": "CASO_DELIVERY_MEXICO ____.ipynb",
   "provenance": []
  },
  "kernelspec": {
   "display_name": "Python 3",
   "language": "python",
   "name": "python3"
  },
  "language_info": {
   "codemirror_mode": {
    "name": "ipython",
    "version": 3
   },
   "file_extension": ".py",
   "mimetype": "text/x-python",
   "name": "python",
   "nbconvert_exporter": "python",
   "pygments_lexer": "ipython3",
   "version": "3.7.6"
  }
 },
 "nbformat": 4,
 "nbformat_minor": 4
}
